{
 "cells": [
  {
   "cell_type": "markdown",
   "metadata": {
    "run_control": {
     "frozen": false,
     "read_only": false
    }
   },
   "source": [
    "# load calour"
   ]
  },
  {
   "cell_type": "code",
   "execution_count": 1,
   "metadata": {
    "collapsed": true,
    "run_control": {
     "frozen": false,
     "read_only": false
    }
   },
   "outputs": [],
   "source": [
    "import calour as ca\n",
    "% matplotlib notebook"
   ]
  },
  {
   "cell_type": "markdown",
   "metadata": {
    "run_control": {
     "frozen": false,
     "read_only": false
    }
   },
   "source": [
    "we want to get info messages (10 is debug, 20 is info, 30 is warning)"
   ]
  },
  {
   "cell_type": "code",
   "execution_count": 2,
   "metadata": {
    "collapsed": true,
    "run_control": {
     "frozen": false,
     "read_only": false
    }
   },
   "outputs": [],
   "source": [
    "ca.set_log_level(20)"
   ]
  },
  {
   "cell_type": "markdown",
   "metadata": {
    "run_control": {
     "frozen": false,
     "read_only": false
    }
   },
   "source": [
    "# Load the dataset\n",
    "## data is from: \n",
    "**The gut microbiome of the sea urchin, Lytechinus variegatus, from its natural habitat demonstrates selective attributes of microbial taxa and predictive metabolic profiles**\n",
    "\n",
    "*Joseph A. Hakim  Hyunmin Koo  Ranjit Kumar  Elliot J. Lefkowitz  Casey D. Morrow Mickie L. Powell  Stephen A. Watts  Asim K. Bej*\n",
    "\n",
    "*FEMS Microbiol Ecol (2016) 92 (9)*\n",
    "\n",
    "It is an amplicon experiment, so we use `load_amplicon`. This gives us some more amplicon experiment specific functions and defaults (i.e. plotting by taxonomy, etc.)\n",
    "\n",
    "We load the biom table and mapping file.\n",
    "\n",
    "Specify normalization depth to 10000 reads/sample\n",
    "\n",
    "And filter away samples with < 1000 reads\n",
    "\n",
    "By default the data is loaded as sparse scipy matrix. Can use dense instead by setting `sparse=False`"
   ]
  },
  {
   "cell_type": "code",
   "execution_count": 4,
   "metadata": {
    "run_control": {
     "frozen": false,
     "read_only": false
    }
   },
   "outputs": [
    {
     "name": "stdout",
     "output_type": "stream",
     "text": [
      "2017-08-31 16:14:12 INFO loaded 18 samples, 16909 observations\n",
      "2017-08-31 16:14:12 INFO 15 remaining\n"
     ]
    }
   ],
   "source": [
    "exp = ca.read_amplicon('data/sea-urchin.biom', 'data/sea-urchin.sample.txt', normalize=10000, min_reads=1000)"
   ]
  },
  {
   "cell_type": "code",
   "execution_count": 5,
   "metadata": {
    "run_control": {
     "frozen": false,
     "read_only": false
    }
   },
   "outputs": [
    {
     "data": {
      "text/plain": [
       "AmpliconExperiment sea-urchin.biom with 15 samples, 16909 features"
      ]
     },
     "execution_count": 5,
     "metadata": {},
     "output_type": "execute_result"
    }
   ],
   "source": [
    "exp"
   ]
  },
  {
   "cell_type": "markdown",
   "metadata": {
    "run_control": {
     "frozen": false,
     "read_only": false
    }
   },
   "source": [
    "## An Experiment (which AmpliconExperiment is a subclass) contains 3 basic attributes:\n",
    "- data : an S (number samples) x F (number features) 2d numpy array or scipy.Sparse matrix\n",
    "- sample_metadata : pandas.DataFrame. Stores all the per-sample information. Index is the SampleID\n",
    "- feature_metadata : pandas.DataFrame. Stores all the per-feature information. For AmpliconExperiment, index is the sequence\n",
    "\n",
    "Data, sample_metadata and feature_metadata are synchronized, so position (s,f) in the data matrix corresponds to position s in the sample_metadata and position f in the feature_metadata"
   ]
  },
  {
   "cell_type": "code",
   "execution_count": 6,
   "metadata": {
    "run_control": {
     "frozen": false,
     "read_only": false
    }
   },
   "outputs": [
    {
     "data": {
      "text/plain": [
       "Index(['#SampleID', 'BioSample_s', 'Experiment_s', 'MBases_l', 'MBytes_l',\n",
       "       'Run_s', 'SRA_Sample_s', 'Sample_Name_s', 'isolation_source_s', 'type',\n",
       "       'Assay_Type_s', 'AssemblyName_s', 'BioProject_s', 'BioSampleModel_s',\n",
       "       'Center_Name_s', 'Consent_s', 'InsertSize_l', 'LibraryLayout_s',\n",
       "       'LibrarySelection_s', 'LibrarySource_s', 'Library_Name_s', 'LoadDate_s',\n",
       "       'Organism_s', 'Platform_s', 'ReleaseDate_s', 'SRA_Study_s',\n",
       "       'collection_date_s', 'cultured_location_s', 'g1k_analysis_group_s',\n",
       "       'g1k_pop_code_s', 'geo_loc_name_s', 'host_s', 'lat_lon_s', 'source_s',\n",
       "       '_calour_original_abundance'],\n",
       "      dtype='object')"
      ]
     },
     "execution_count": 6,
     "metadata": {},
     "output_type": "execute_result"
    }
   ],
   "source": [
    "exp.sample_metadata.columns"
   ]
  },
  {
   "cell_type": "markdown",
   "metadata": {
    "run_control": {
     "frozen": false,
     "read_only": false
    }
   },
   "source": [
    "# Analysis"
   ]
  },
  {
   "cell_type": "markdown",
   "metadata": {
    "run_control": {
     "frozen": false,
     "read_only": false
    }
   },
   "source": [
    "## Cluster the features (bacteria)\n",
    "So similar behaving features will be close to each other.\n",
    "\n",
    "We also specify `min_abundance=10` to filter away features with less than 10 (normalized) reads total over all samples.\n",
    "\n",
    "This makes clustering and analysis faster, as well as adding more power (as the < 10 reads total features don't contain a lot of information)"
   ]
  },
  {
   "cell_type": "code",
   "execution_count": 7,
   "metadata": {
    "run_control": {
     "frozen": false,
     "read_only": false
    }
   },
   "outputs": [
    {
     "name": "stdout",
     "output_type": "stream",
     "text": [
      "2017-08-31 16:14:21 INFO 759 remaining\n"
     ]
    }
   ],
   "source": [
    "exp_c = exp.cluster_features(min_abundance=10)"
   ]
  },
  {
   "cell_type": "code",
   "execution_count": 8,
   "metadata": {
    "run_control": {
     "frozen": false,
     "read_only": false
    }
   },
   "outputs": [
    {
     "data": {
      "text/plain": [
       "AmpliconExperiment sea-urchin.biom with 15 samples, 759 features"
      ]
     },
     "execution_count": 8,
     "metadata": {},
     "output_type": "execute_result"
    }
   ],
   "source": [
    "exp_c"
   ]
  },
  {
   "cell_type": "markdown",
   "metadata": {
    "run_control": {
     "frozen": false,
     "read_only": false
    }
   },
   "source": [
    "## let's look at the data\n",
    "We will use two databases:\n",
    "'sponge' - the sponge-EMP automatic database\n",
    "'dbbact' - the manual annotation database"
   ]
  },
  {
   "cell_type": "code",
   "execution_count": 10,
   "metadata": {
    "run_control": {
     "frozen": false,
     "read_only": false
    }
   },
   "outputs": [
    {
     "data": {
      "application/javascript": [
       "/* Put everything inside the global mpl namespace */\n",
       "window.mpl = {};\n",
       "\n",
       "\n",
       "mpl.get_websocket_type = function() {\n",
       "    if (typeof(WebSocket) !== 'undefined') {\n",
       "        return WebSocket;\n",
       "    } else if (typeof(MozWebSocket) !== 'undefined') {\n",
       "        return MozWebSocket;\n",
       "    } else {\n",
       "        alert('Your browser does not have WebSocket support.' +\n",
       "              'Please try Chrome, Safari or Firefox ≥ 6. ' +\n",
       "              'Firefox 4 and 5 are also supported but you ' +\n",
       "              'have to enable WebSockets in about:config.');\n",
       "    };\n",
       "}\n",
       "\n",
       "mpl.figure = function(figure_id, websocket, ondownload, parent_element) {\n",
       "    this.id = figure_id;\n",
       "\n",
       "    this.ws = websocket;\n",
       "\n",
       "    this.supports_binary = (this.ws.binaryType != undefined);\n",
       "\n",
       "    if (!this.supports_binary) {\n",
       "        var warnings = document.getElementById(\"mpl-warnings\");\n",
       "        if (warnings) {\n",
       "            warnings.style.display = 'block';\n",
       "            warnings.textContent = (\n",
       "                \"This browser does not support binary websocket messages. \" +\n",
       "                    \"Performance may be slow.\");\n",
       "        }\n",
       "    }\n",
       "\n",
       "    this.imageObj = new Image();\n",
       "\n",
       "    this.context = undefined;\n",
       "    this.message = undefined;\n",
       "    this.canvas = undefined;\n",
       "    this.rubberband_canvas = undefined;\n",
       "    this.rubberband_context = undefined;\n",
       "    this.format_dropdown = undefined;\n",
       "\n",
       "    this.image_mode = 'full';\n",
       "\n",
       "    this.root = $('<div/>');\n",
       "    this._root_extra_style(this.root)\n",
       "    this.root.attr('style', 'display: inline-block');\n",
       "\n",
       "    $(parent_element).append(this.root);\n",
       "\n",
       "    this._init_header(this);\n",
       "    this._init_canvas(this);\n",
       "    this._init_toolbar(this);\n",
       "\n",
       "    var fig = this;\n",
       "\n",
       "    this.waiting = false;\n",
       "\n",
       "    this.ws.onopen =  function () {\n",
       "            fig.send_message(\"supports_binary\", {value: fig.supports_binary});\n",
       "            fig.send_message(\"send_image_mode\", {});\n",
       "            if (mpl.ratio != 1) {\n",
       "                fig.send_message(\"set_dpi_ratio\", {'dpi_ratio': mpl.ratio});\n",
       "            }\n",
       "            fig.send_message(\"refresh\", {});\n",
       "        }\n",
       "\n",
       "    this.imageObj.onload = function() {\n",
       "            if (fig.image_mode == 'full') {\n",
       "                // Full images could contain transparency (where diff images\n",
       "                // almost always do), so we need to clear the canvas so that\n",
       "                // there is no ghosting.\n",
       "                fig.context.clearRect(0, 0, fig.canvas.width, fig.canvas.height);\n",
       "            }\n",
       "            fig.context.drawImage(fig.imageObj, 0, 0);\n",
       "        };\n",
       "\n",
       "    this.imageObj.onunload = function() {\n",
       "        this.ws.close();\n",
       "    }\n",
       "\n",
       "    this.ws.onmessage = this._make_on_message_function(this);\n",
       "\n",
       "    this.ondownload = ondownload;\n",
       "}\n",
       "\n",
       "mpl.figure.prototype._init_header = function() {\n",
       "    var titlebar = $(\n",
       "        '<div class=\"ui-dialog-titlebar ui-widget-header ui-corner-all ' +\n",
       "        'ui-helper-clearfix\"/>');\n",
       "    var titletext = $(\n",
       "        '<div class=\"ui-dialog-title\" style=\"width: 100%; ' +\n",
       "        'text-align: center; padding: 3px;\"/>');\n",
       "    titlebar.append(titletext)\n",
       "    this.root.append(titlebar);\n",
       "    this.header = titletext[0];\n",
       "}\n",
       "\n",
       "\n",
       "\n",
       "mpl.figure.prototype._canvas_extra_style = function(canvas_div) {\n",
       "\n",
       "}\n",
       "\n",
       "\n",
       "mpl.figure.prototype._root_extra_style = function(canvas_div) {\n",
       "\n",
       "}\n",
       "\n",
       "mpl.figure.prototype._init_canvas = function() {\n",
       "    var fig = this;\n",
       "\n",
       "    var canvas_div = $('<div/>');\n",
       "\n",
       "    canvas_div.attr('style', 'position: relative; clear: both; outline: 0');\n",
       "\n",
       "    function canvas_keyboard_event(event) {\n",
       "        return fig.key_event(event, event['data']);\n",
       "    }\n",
       "\n",
       "    canvas_div.keydown('key_press', canvas_keyboard_event);\n",
       "    canvas_div.keyup('key_release', canvas_keyboard_event);\n",
       "    this.canvas_div = canvas_div\n",
       "    this._canvas_extra_style(canvas_div)\n",
       "    this.root.append(canvas_div);\n",
       "\n",
       "    var canvas = $('<canvas/>');\n",
       "    canvas.addClass('mpl-canvas');\n",
       "    canvas.attr('style', \"left: 0; top: 0; z-index: 0; outline: 0\")\n",
       "\n",
       "    this.canvas = canvas[0];\n",
       "    this.context = canvas[0].getContext(\"2d\");\n",
       "\n",
       "    var backingStore = this.context.backingStorePixelRatio ||\n",
       "\tthis.context.webkitBackingStorePixelRatio ||\n",
       "\tthis.context.mozBackingStorePixelRatio ||\n",
       "\tthis.context.msBackingStorePixelRatio ||\n",
       "\tthis.context.oBackingStorePixelRatio ||\n",
       "\tthis.context.backingStorePixelRatio || 1;\n",
       "\n",
       "    mpl.ratio = (window.devicePixelRatio || 1) / backingStore;\n",
       "\n",
       "    var rubberband = $('<canvas/>');\n",
       "    rubberband.attr('style', \"position: absolute; left: 0; top: 0; z-index: 1;\")\n",
       "\n",
       "    var pass_mouse_events = true;\n",
       "\n",
       "    canvas_div.resizable({\n",
       "        start: function(event, ui) {\n",
       "            pass_mouse_events = false;\n",
       "        },\n",
       "        resize: function(event, ui) {\n",
       "            fig.request_resize(ui.size.width, ui.size.height);\n",
       "        },\n",
       "        stop: function(event, ui) {\n",
       "            pass_mouse_events = true;\n",
       "            fig.request_resize(ui.size.width, ui.size.height);\n",
       "        },\n",
       "    });\n",
       "\n",
       "    function mouse_event_fn(event) {\n",
       "        if (pass_mouse_events)\n",
       "            return fig.mouse_event(event, event['data']);\n",
       "    }\n",
       "\n",
       "    rubberband.mousedown('button_press', mouse_event_fn);\n",
       "    rubberband.mouseup('button_release', mouse_event_fn);\n",
       "    // Throttle sequential mouse events to 1 every 20ms.\n",
       "    rubberband.mousemove('motion_notify', mouse_event_fn);\n",
       "\n",
       "    rubberband.mouseenter('figure_enter', mouse_event_fn);\n",
       "    rubberband.mouseleave('figure_leave', mouse_event_fn);\n",
       "\n",
       "    canvas_div.on(\"wheel\", function (event) {\n",
       "        event = event.originalEvent;\n",
       "        event['data'] = 'scroll'\n",
       "        if (event.deltaY < 0) {\n",
       "            event.step = 1;\n",
       "        } else {\n",
       "            event.step = -1;\n",
       "        }\n",
       "        mouse_event_fn(event);\n",
       "    });\n",
       "\n",
       "    canvas_div.append(canvas);\n",
       "    canvas_div.append(rubberband);\n",
       "\n",
       "    this.rubberband = rubberband;\n",
       "    this.rubberband_canvas = rubberband[0];\n",
       "    this.rubberband_context = rubberband[0].getContext(\"2d\");\n",
       "    this.rubberband_context.strokeStyle = \"#000000\";\n",
       "\n",
       "    this._resize_canvas = function(width, height) {\n",
       "        // Keep the size of the canvas, canvas container, and rubber band\n",
       "        // canvas in synch.\n",
       "        canvas_div.css('width', width)\n",
       "        canvas_div.css('height', height)\n",
       "\n",
       "        canvas.attr('width', width * mpl.ratio);\n",
       "        canvas.attr('height', height * mpl.ratio);\n",
       "        canvas.attr('style', 'width: ' + width + 'px; height: ' + height + 'px;');\n",
       "\n",
       "        rubberband.attr('width', width);\n",
       "        rubberband.attr('height', height);\n",
       "    }\n",
       "\n",
       "    // Set the figure to an initial 600x600px, this will subsequently be updated\n",
       "    // upon first draw.\n",
       "    this._resize_canvas(600, 600);\n",
       "\n",
       "    // Disable right mouse context menu.\n",
       "    $(this.rubberband_canvas).bind(\"contextmenu\",function(e){\n",
       "        return false;\n",
       "    });\n",
       "\n",
       "    function set_focus () {\n",
       "        canvas.focus();\n",
       "        canvas_div.focus();\n",
       "    }\n",
       "\n",
       "    window.setTimeout(set_focus, 100);\n",
       "}\n",
       "\n",
       "mpl.figure.prototype._init_toolbar = function() {\n",
       "    var fig = this;\n",
       "\n",
       "    var nav_element = $('<div/>')\n",
       "    nav_element.attr('style', 'width: 100%');\n",
       "    this.root.append(nav_element);\n",
       "\n",
       "    // Define a callback function for later on.\n",
       "    function toolbar_event(event) {\n",
       "        return fig.toolbar_button_onclick(event['data']);\n",
       "    }\n",
       "    function toolbar_mouse_event(event) {\n",
       "        return fig.toolbar_button_onmouseover(event['data']);\n",
       "    }\n",
       "\n",
       "    for(var toolbar_ind in mpl.toolbar_items) {\n",
       "        var name = mpl.toolbar_items[toolbar_ind][0];\n",
       "        var tooltip = mpl.toolbar_items[toolbar_ind][1];\n",
       "        var image = mpl.toolbar_items[toolbar_ind][2];\n",
       "        var method_name = mpl.toolbar_items[toolbar_ind][3];\n",
       "\n",
       "        if (!name) {\n",
       "            // put a spacer in here.\n",
       "            continue;\n",
       "        }\n",
       "        var button = $('<button/>');\n",
       "        button.addClass('ui-button ui-widget ui-state-default ui-corner-all ' +\n",
       "                        'ui-button-icon-only');\n",
       "        button.attr('role', 'button');\n",
       "        button.attr('aria-disabled', 'false');\n",
       "        button.click(method_name, toolbar_event);\n",
       "        button.mouseover(tooltip, toolbar_mouse_event);\n",
       "\n",
       "        var icon_img = $('<span/>');\n",
       "        icon_img.addClass('ui-button-icon-primary ui-icon');\n",
       "        icon_img.addClass(image);\n",
       "        icon_img.addClass('ui-corner-all');\n",
       "\n",
       "        var tooltip_span = $('<span/>');\n",
       "        tooltip_span.addClass('ui-button-text');\n",
       "        tooltip_span.html(tooltip);\n",
       "\n",
       "        button.append(icon_img);\n",
       "        button.append(tooltip_span);\n",
       "\n",
       "        nav_element.append(button);\n",
       "    }\n",
       "\n",
       "    var fmt_picker_span = $('<span/>');\n",
       "\n",
       "    var fmt_picker = $('<select/>');\n",
       "    fmt_picker.addClass('mpl-toolbar-option ui-widget ui-widget-content');\n",
       "    fmt_picker_span.append(fmt_picker);\n",
       "    nav_element.append(fmt_picker_span);\n",
       "    this.format_dropdown = fmt_picker[0];\n",
       "\n",
       "    for (var ind in mpl.extensions) {\n",
       "        var fmt = mpl.extensions[ind];\n",
       "        var option = $(\n",
       "            '<option/>', {selected: fmt === mpl.default_extension}).html(fmt);\n",
       "        fmt_picker.append(option)\n",
       "    }\n",
       "\n",
       "    // Add hover states to the ui-buttons\n",
       "    $( \".ui-button\" ).hover(\n",
       "        function() { $(this).addClass(\"ui-state-hover\");},\n",
       "        function() { $(this).removeClass(\"ui-state-hover\");}\n",
       "    );\n",
       "\n",
       "    var status_bar = $('<span class=\"mpl-message\"/>');\n",
       "    nav_element.append(status_bar);\n",
       "    this.message = status_bar[0];\n",
       "}\n",
       "\n",
       "mpl.figure.prototype.request_resize = function(x_pixels, y_pixels) {\n",
       "    // Request matplotlib to resize the figure. Matplotlib will then trigger a resize in the client,\n",
       "    // which will in turn request a refresh of the image.\n",
       "    this.send_message('resize', {'width': x_pixels, 'height': y_pixels});\n",
       "}\n",
       "\n",
       "mpl.figure.prototype.send_message = function(type, properties) {\n",
       "    properties['type'] = type;\n",
       "    properties['figure_id'] = this.id;\n",
       "    this.ws.send(JSON.stringify(properties));\n",
       "}\n",
       "\n",
       "mpl.figure.prototype.send_draw_message = function() {\n",
       "    if (!this.waiting) {\n",
       "        this.waiting = true;\n",
       "        this.ws.send(JSON.stringify({type: \"draw\", figure_id: this.id}));\n",
       "    }\n",
       "}\n",
       "\n",
       "\n",
       "mpl.figure.prototype.handle_save = function(fig, msg) {\n",
       "    var format_dropdown = fig.format_dropdown;\n",
       "    var format = format_dropdown.options[format_dropdown.selectedIndex].value;\n",
       "    fig.ondownload(fig, format);\n",
       "}\n",
       "\n",
       "\n",
       "mpl.figure.prototype.handle_resize = function(fig, msg) {\n",
       "    var size = msg['size'];\n",
       "    if (size[0] != fig.canvas.width || size[1] != fig.canvas.height) {\n",
       "        fig._resize_canvas(size[0], size[1]);\n",
       "        fig.send_message(\"refresh\", {});\n",
       "    };\n",
       "}\n",
       "\n",
       "mpl.figure.prototype.handle_rubberband = function(fig, msg) {\n",
       "    var x0 = msg['x0'] / mpl.ratio;\n",
       "    var y0 = (fig.canvas.height - msg['y0']) / mpl.ratio;\n",
       "    var x1 = msg['x1'] / mpl.ratio;\n",
       "    var y1 = (fig.canvas.height - msg['y1']) / mpl.ratio;\n",
       "    x0 = Math.floor(x0) + 0.5;\n",
       "    y0 = Math.floor(y0) + 0.5;\n",
       "    x1 = Math.floor(x1) + 0.5;\n",
       "    y1 = Math.floor(y1) + 0.5;\n",
       "    var min_x = Math.min(x0, x1);\n",
       "    var min_y = Math.min(y0, y1);\n",
       "    var width = Math.abs(x1 - x0);\n",
       "    var height = Math.abs(y1 - y0);\n",
       "\n",
       "    fig.rubberband_context.clearRect(\n",
       "        0, 0, fig.canvas.width, fig.canvas.height);\n",
       "\n",
       "    fig.rubberband_context.strokeRect(min_x, min_y, width, height);\n",
       "}\n",
       "\n",
       "mpl.figure.prototype.handle_figure_label = function(fig, msg) {\n",
       "    // Updates the figure title.\n",
       "    fig.header.textContent = msg['label'];\n",
       "}\n",
       "\n",
       "mpl.figure.prototype.handle_cursor = function(fig, msg) {\n",
       "    var cursor = msg['cursor'];\n",
       "    switch(cursor)\n",
       "    {\n",
       "    case 0:\n",
       "        cursor = 'pointer';\n",
       "        break;\n",
       "    case 1:\n",
       "        cursor = 'default';\n",
       "        break;\n",
       "    case 2:\n",
       "        cursor = 'crosshair';\n",
       "        break;\n",
       "    case 3:\n",
       "        cursor = 'move';\n",
       "        break;\n",
       "    }\n",
       "    fig.rubberband_canvas.style.cursor = cursor;\n",
       "}\n",
       "\n",
       "mpl.figure.prototype.handle_message = function(fig, msg) {\n",
       "    fig.message.textContent = msg['message'];\n",
       "}\n",
       "\n",
       "mpl.figure.prototype.handle_draw = function(fig, msg) {\n",
       "    // Request the server to send over a new figure.\n",
       "    fig.send_draw_message();\n",
       "}\n",
       "\n",
       "mpl.figure.prototype.handle_image_mode = function(fig, msg) {\n",
       "    fig.image_mode = msg['mode'];\n",
       "}\n",
       "\n",
       "mpl.figure.prototype.updated_canvas_event = function() {\n",
       "    // Called whenever the canvas gets updated.\n",
       "    this.send_message(\"ack\", {});\n",
       "}\n",
       "\n",
       "// A function to construct a web socket function for onmessage handling.\n",
       "// Called in the figure constructor.\n",
       "mpl.figure.prototype._make_on_message_function = function(fig) {\n",
       "    return function socket_on_message(evt) {\n",
       "        if (evt.data instanceof Blob) {\n",
       "            /* FIXME: We get \"Resource interpreted as Image but\n",
       "             * transferred with MIME type text/plain:\" errors on\n",
       "             * Chrome.  But how to set the MIME type?  It doesn't seem\n",
       "             * to be part of the websocket stream */\n",
       "            evt.data.type = \"image/png\";\n",
       "\n",
       "            /* Free the memory for the previous frames */\n",
       "            if (fig.imageObj.src) {\n",
       "                (window.URL || window.webkitURL).revokeObjectURL(\n",
       "                    fig.imageObj.src);\n",
       "            }\n",
       "\n",
       "            fig.imageObj.src = (window.URL || window.webkitURL).createObjectURL(\n",
       "                evt.data);\n",
       "            fig.updated_canvas_event();\n",
       "            fig.waiting = false;\n",
       "            return;\n",
       "        }\n",
       "        else if (typeof evt.data === 'string' && evt.data.slice(0, 21) == \"data:image/png;base64\") {\n",
       "            fig.imageObj.src = evt.data;\n",
       "            fig.updated_canvas_event();\n",
       "            fig.waiting = false;\n",
       "            return;\n",
       "        }\n",
       "\n",
       "        var msg = JSON.parse(evt.data);\n",
       "        var msg_type = msg['type'];\n",
       "\n",
       "        // Call the  \"handle_{type}\" callback, which takes\n",
       "        // the figure and JSON message as its only arguments.\n",
       "        try {\n",
       "            var callback = fig[\"handle_\" + msg_type];\n",
       "        } catch (e) {\n",
       "            console.log(\"No handler for the '\" + msg_type + \"' message type: \", msg);\n",
       "            return;\n",
       "        }\n",
       "\n",
       "        if (callback) {\n",
       "            try {\n",
       "                // console.log(\"Handling '\" + msg_type + \"' message: \", msg);\n",
       "                callback(fig, msg);\n",
       "            } catch (e) {\n",
       "                console.log(\"Exception inside the 'handler_\" + msg_type + \"' callback:\", e, e.stack, msg);\n",
       "            }\n",
       "        }\n",
       "    };\n",
       "}\n",
       "\n",
       "// from http://stackoverflow.com/questions/1114465/getting-mouse-location-in-canvas\n",
       "mpl.findpos = function(e) {\n",
       "    //this section is from http://www.quirksmode.org/js/events_properties.html\n",
       "    var targ;\n",
       "    if (!e)\n",
       "        e = window.event;\n",
       "    if (e.target)\n",
       "        targ = e.target;\n",
       "    else if (e.srcElement)\n",
       "        targ = e.srcElement;\n",
       "    if (targ.nodeType == 3) // defeat Safari bug\n",
       "        targ = targ.parentNode;\n",
       "\n",
       "    // jQuery normalizes the pageX and pageY\n",
       "    // pageX,Y are the mouse positions relative to the document\n",
       "    // offset() returns the position of the element relative to the document\n",
       "    var x = e.pageX - $(targ).offset().left;\n",
       "    var y = e.pageY - $(targ).offset().top;\n",
       "\n",
       "    return {\"x\": x, \"y\": y};\n",
       "};\n",
       "\n",
       "/*\n",
       " * return a copy of an object with only non-object keys\n",
       " * we need this to avoid circular references\n",
       " * http://stackoverflow.com/a/24161582/3208463\n",
       " */\n",
       "function simpleKeys (original) {\n",
       "  return Object.keys(original).reduce(function (obj, key) {\n",
       "    if (typeof original[key] !== 'object')\n",
       "        obj[key] = original[key]\n",
       "    return obj;\n",
       "  }, {});\n",
       "}\n",
       "\n",
       "mpl.figure.prototype.mouse_event = function(event, name) {\n",
       "    var canvas_pos = mpl.findpos(event)\n",
       "\n",
       "    if (name === 'button_press')\n",
       "    {\n",
       "        this.canvas.focus();\n",
       "        this.canvas_div.focus();\n",
       "    }\n",
       "\n",
       "    var x = canvas_pos.x * mpl.ratio;\n",
       "    var y = canvas_pos.y * mpl.ratio;\n",
       "\n",
       "    this.send_message(name, {x: x, y: y, button: event.button,\n",
       "                             step: event.step,\n",
       "                             guiEvent: simpleKeys(event)});\n",
       "\n",
       "    /* This prevents the web browser from automatically changing to\n",
       "     * the text insertion cursor when the button is pressed.  We want\n",
       "     * to control all of the cursor setting manually through the\n",
       "     * 'cursor' event from matplotlib */\n",
       "    event.preventDefault();\n",
       "    return false;\n",
       "}\n",
       "\n",
       "mpl.figure.prototype._key_event_extra = function(event, name) {\n",
       "    // Handle any extra behaviour associated with a key event\n",
       "}\n",
       "\n",
       "mpl.figure.prototype.key_event = function(event, name) {\n",
       "\n",
       "    // Prevent repeat events\n",
       "    if (name == 'key_press')\n",
       "    {\n",
       "        if (event.which === this._key)\n",
       "            return;\n",
       "        else\n",
       "            this._key = event.which;\n",
       "    }\n",
       "    if (name == 'key_release')\n",
       "        this._key = null;\n",
       "\n",
       "    var value = '';\n",
       "    if (event.ctrlKey && event.which != 17)\n",
       "        value += \"ctrl+\";\n",
       "    if (event.altKey && event.which != 18)\n",
       "        value += \"alt+\";\n",
       "    if (event.shiftKey && event.which != 16)\n",
       "        value += \"shift+\";\n",
       "\n",
       "    value += 'k';\n",
       "    value += event.which.toString();\n",
       "\n",
       "    this._key_event_extra(event, name);\n",
       "\n",
       "    this.send_message(name, {key: value,\n",
       "                             guiEvent: simpleKeys(event)});\n",
       "    return false;\n",
       "}\n",
       "\n",
       "mpl.figure.prototype.toolbar_button_onclick = function(name) {\n",
       "    if (name == 'download') {\n",
       "        this.handle_save(this, null);\n",
       "    } else {\n",
       "        this.send_message(\"toolbar_button\", {name: name});\n",
       "    }\n",
       "};\n",
       "\n",
       "mpl.figure.prototype.toolbar_button_onmouseover = function(tooltip) {\n",
       "    this.message.textContent = tooltip;\n",
       "};\n",
       "mpl.toolbar_items = [[\"Home\", \"Reset original view\", \"fa fa-home icon-home\", \"home\"], [\"Back\", \"Back to  previous view\", \"fa fa-arrow-left icon-arrow-left\", \"back\"], [\"Forward\", \"Forward to next view\", \"fa fa-arrow-right icon-arrow-right\", \"forward\"], [\"\", \"\", \"\", \"\"], [\"Pan\", \"Pan axes with left mouse, zoom with right\", \"fa fa-arrows icon-move\", \"pan\"], [\"Zoom\", \"Zoom to rectangle\", \"fa fa-square-o icon-check-empty\", \"zoom\"], [\"\", \"\", \"\", \"\"], [\"Download\", \"Download plot\", \"fa fa-floppy-o icon-save\", \"download\"]];\n",
       "\n",
       "mpl.extensions = [\"eps\", \"pdf\", \"png\", \"ps\", \"raw\", \"svg\"];\n",
       "\n",
       "mpl.default_extension = \"png\";var comm_websocket_adapter = function(comm) {\n",
       "    // Create a \"websocket\"-like object which calls the given IPython comm\n",
       "    // object with the appropriate methods. Currently this is a non binary\n",
       "    // socket, so there is still some room for performance tuning.\n",
       "    var ws = {};\n",
       "\n",
       "    ws.close = function() {\n",
       "        comm.close()\n",
       "    };\n",
       "    ws.send = function(m) {\n",
       "        //console.log('sending', m);\n",
       "        comm.send(m);\n",
       "    };\n",
       "    // Register the callback with on_msg.\n",
       "    comm.on_msg(function(msg) {\n",
       "        //console.log('receiving', msg['content']['data'], msg);\n",
       "        // Pass the mpl event to the overriden (by mpl) onmessage function.\n",
       "        ws.onmessage(msg['content']['data'])\n",
       "    });\n",
       "    return ws;\n",
       "}\n",
       "\n",
       "mpl.mpl_figure_comm = function(comm, msg) {\n",
       "    // This is the function which gets called when the mpl process\n",
       "    // starts-up an IPython Comm through the \"matplotlib\" channel.\n",
       "\n",
       "    var id = msg.content.data.id;\n",
       "    // Get hold of the div created by the display call when the Comm\n",
       "    // socket was opened in Python.\n",
       "    var element = $(\"#\" + id);\n",
       "    var ws_proxy = comm_websocket_adapter(comm)\n",
       "\n",
       "    function ondownload(figure, format) {\n",
       "        window.open(figure.imageObj.src);\n",
       "    }\n",
       "\n",
       "    var fig = new mpl.figure(id, ws_proxy,\n",
       "                           ondownload,\n",
       "                           element.get(0));\n",
       "\n",
       "    // Call onopen now - mpl needs it, as it is assuming we've passed it a real\n",
       "    // web socket which is closed, not our websocket->open comm proxy.\n",
       "    ws_proxy.onopen();\n",
       "\n",
       "    fig.parent_element = element.get(0);\n",
       "    fig.cell_info = mpl.find_output_cell(\"<div id='\" + id + \"'></div>\");\n",
       "    if (!fig.cell_info) {\n",
       "        console.error(\"Failed to find cell for figure\", id, fig);\n",
       "        return;\n",
       "    }\n",
       "\n",
       "    var output_index = fig.cell_info[2]\n",
       "    var cell = fig.cell_info[0];\n",
       "\n",
       "};\n",
       "\n",
       "mpl.figure.prototype.handle_close = function(fig, msg) {\n",
       "    var width = fig.canvas.width/mpl.ratio\n",
       "    fig.root.unbind('remove')\n",
       "\n",
       "    // Update the output cell to use the data from the current canvas.\n",
       "    fig.push_to_output();\n",
       "    var dataURL = fig.canvas.toDataURL();\n",
       "    // Re-enable the keyboard manager in IPython - without this line, in FF,\n",
       "    // the notebook keyboard shortcuts fail.\n",
       "    IPython.keyboard_manager.enable()\n",
       "    $(fig.parent_element).html('<img src=\"' + dataURL + '\" width=\"' + width + '\">');\n",
       "    fig.close_ws(fig, msg);\n",
       "}\n",
       "\n",
       "mpl.figure.prototype.close_ws = function(fig, msg){\n",
       "    fig.send_message('closing', msg);\n",
       "    // fig.ws.close()\n",
       "}\n",
       "\n",
       "mpl.figure.prototype.push_to_output = function(remove_interactive) {\n",
       "    // Turn the data on the canvas into data in the output cell.\n",
       "    var width = this.canvas.width/mpl.ratio\n",
       "    var dataURL = this.canvas.toDataURL();\n",
       "    this.cell_info[1]['text/html'] = '<img src=\"' + dataURL + '\" width=\"' + width + '\">';\n",
       "}\n",
       "\n",
       "mpl.figure.prototype.updated_canvas_event = function() {\n",
       "    // Tell IPython that the notebook contents must change.\n",
       "    IPython.notebook.set_dirty(true);\n",
       "    this.send_message(\"ack\", {});\n",
       "    var fig = this;\n",
       "    // Wait a second, then push the new image to the DOM so\n",
       "    // that it is saved nicely (might be nice to debounce this).\n",
       "    setTimeout(function () { fig.push_to_output() }, 1000);\n",
       "}\n",
       "\n",
       "mpl.figure.prototype._init_toolbar = function() {\n",
       "    var fig = this;\n",
       "\n",
       "    var nav_element = $('<div/>')\n",
       "    nav_element.attr('style', 'width: 100%');\n",
       "    this.root.append(nav_element);\n",
       "\n",
       "    // Define a callback function for later on.\n",
       "    function toolbar_event(event) {\n",
       "        return fig.toolbar_button_onclick(event['data']);\n",
       "    }\n",
       "    function toolbar_mouse_event(event) {\n",
       "        return fig.toolbar_button_onmouseover(event['data']);\n",
       "    }\n",
       "\n",
       "    for(var toolbar_ind in mpl.toolbar_items){\n",
       "        var name = mpl.toolbar_items[toolbar_ind][0];\n",
       "        var tooltip = mpl.toolbar_items[toolbar_ind][1];\n",
       "        var image = mpl.toolbar_items[toolbar_ind][2];\n",
       "        var method_name = mpl.toolbar_items[toolbar_ind][3];\n",
       "\n",
       "        if (!name) { continue; };\n",
       "\n",
       "        var button = $('<button class=\"btn btn-default\" href=\"#\" title=\"' + name + '\"><i class=\"fa ' + image + ' fa-lg\"></i></button>');\n",
       "        button.click(method_name, toolbar_event);\n",
       "        button.mouseover(tooltip, toolbar_mouse_event);\n",
       "        nav_element.append(button);\n",
       "    }\n",
       "\n",
       "    // Add the status bar.\n",
       "    var status_bar = $('<span class=\"mpl-message\" style=\"text-align:right; float: right;\"/>');\n",
       "    nav_element.append(status_bar);\n",
       "    this.message = status_bar[0];\n",
       "\n",
       "    // Add the close button to the window.\n",
       "    var buttongrp = $('<div class=\"btn-group inline pull-right\"></div>');\n",
       "    var button = $('<button class=\"btn btn-mini btn-primary\" href=\"#\" title=\"Stop Interaction\"><i class=\"fa fa-power-off icon-remove icon-large\"></i></button>');\n",
       "    button.click(function (evt) { fig.handle_close(fig, {}); } );\n",
       "    button.mouseover('Stop Interaction', toolbar_mouse_event);\n",
       "    buttongrp.append(button);\n",
       "    var titlebar = this.root.find($('.ui-dialog-titlebar'));\n",
       "    titlebar.prepend(buttongrp);\n",
       "}\n",
       "\n",
       "mpl.figure.prototype._root_extra_style = function(el){\n",
       "    var fig = this\n",
       "    el.on(\"remove\", function(){\n",
       "\tfig.close_ws(fig, {});\n",
       "    });\n",
       "}\n",
       "\n",
       "mpl.figure.prototype._canvas_extra_style = function(el){\n",
       "    // this is important to make the div 'focusable\n",
       "    el.attr('tabindex', 0)\n",
       "    // reach out to IPython and tell the keyboard manager to turn it's self\n",
       "    // off when our div gets focus\n",
       "\n",
       "    // location in version 3\n",
       "    if (IPython.notebook.keyboard_manager) {\n",
       "        IPython.notebook.keyboard_manager.register_events(el);\n",
       "    }\n",
       "    else {\n",
       "        // location in version 2\n",
       "        IPython.keyboard_manager.register_events(el);\n",
       "    }\n",
       "\n",
       "}\n",
       "\n",
       "mpl.figure.prototype._key_event_extra = function(event, name) {\n",
       "    var manager = IPython.notebook.keyboard_manager;\n",
       "    if (!manager)\n",
       "        manager = IPython.keyboard_manager;\n",
       "\n",
       "    // Check for shift+enter\n",
       "    if (event.shiftKey && event.which == 13) {\n",
       "        this.canvas_div.blur();\n",
       "        // select the cell after this one\n",
       "        var index = IPython.notebook.find_cell_index(this.cell_info[0]);\n",
       "        IPython.notebook.select(index + 1);\n",
       "    }\n",
       "}\n",
       "\n",
       "mpl.figure.prototype.handle_save = function(fig, msg) {\n",
       "    fig.ondownload(fig, null);\n",
       "}\n",
       "\n",
       "\n",
       "mpl.find_output_cell = function(html_output) {\n",
       "    // Return the cell and output element which can be found *uniquely* in the notebook.\n",
       "    // Note - this is a bit hacky, but it is done because the \"notebook_saving.Notebook\"\n",
       "    // IPython event is triggered only after the cells have been serialised, which for\n",
       "    // our purposes (turning an active figure into a static one), is too late.\n",
       "    var cells = IPython.notebook.get_cells();\n",
       "    var ncells = cells.length;\n",
       "    for (var i=0; i<ncells; i++) {\n",
       "        var cell = cells[i];\n",
       "        if (cell.cell_type === 'code'){\n",
       "            for (var j=0; j<cell.output_area.outputs.length; j++) {\n",
       "                var data = cell.output_area.outputs[j];\n",
       "                if (data.data) {\n",
       "                    // IPython >= 3 moved mimebundle to data attribute of output\n",
       "                    data = data.data;\n",
       "                }\n",
       "                if (data['text/html'] == html_output) {\n",
       "                    return [cell, data, j];\n",
       "                }\n",
       "            }\n",
       "        }\n",
       "    }\n",
       "}\n",
       "\n",
       "// Register the function which deals with the matplotlib target/channel.\n",
       "// The kernel may be null if the page has been refreshed.\n",
       "if (IPython.notebook.kernel != null) {\n",
       "    IPython.notebook.kernel.comm_manager.register_target('matplotlib', mpl.mpl_figure_comm);\n",
       "}\n"
      ],
      "text/plain": [
       "<IPython.core.display.Javascript object>"
      ]
     },
     "metadata": {},
     "output_type": "display_data"
    },
    {
     "data": {
      "text/html": [
       "<img src=\"data:image/png;base64,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\" width=\"639.999990463257\">"
      ],
      "text/plain": [
       "<IPython.core.display.HTML object>"
      ]
     },
     "metadata": {},
     "output_type": "display_data"
    },
    {
     "data": {
      "application/vnd.jupyter.widget-view+json": {
       "model_id": "8b3f1f326d2546088ad0c2e237cac653"
      }
     },
     "metadata": {},
     "output_type": "display_data"
    },
    {
     "data": {
      "application/vnd.jupyter.widget-view+json": {
       "model_id": "cbb1b85dce7e4d55954c2e9be0fd94d1"
      }
     },
     "metadata": {},
     "output_type": "display_data"
    },
    {
     "data": {
      "application/vnd.jupyter.widget-view+json": {
       "model_id": "d37eb6a17df34f80bdf7e509d880c621"
      }
     },
     "metadata": {},
     "output_type": "display_data"
    },
    {
     "data": {
      "application/vnd.jupyter.widget-view+json": {
       "model_id": "e2cd898d7cda4ea38adeb18724b805a2"
      }
     },
     "metadata": {},
     "output_type": "display_data"
    },
    {
     "data": {
      "application/vnd.jupyter.widget-view+json": {
       "model_id": "4f1b210a4586403f9958e5480d0ff418"
      }
     },
     "metadata": {},
     "output_type": "display_data"
    },
    {
     "data": {
      "application/vnd.jupyter.widget-view+json": {
       "model_id": "af2d4a7f4d1e492686c322fb676ed475"
      }
     },
     "metadata": {},
     "output_type": "display_data"
    },
    {
     "data": {
      "text/plain": [
       "<calour.heatmap.plotgui_jupyter.PlotGUI_Jupyter at 0x1139ddc50>"
      ]
     },
     "execution_count": 10,
     "metadata": {},
     "output_type": "execute_result"
    }
   ],
   "source": [
    "exp_c.plot_sort('type', gui='jupyter', databases=['dbbact'])"
   ]
  },
  {
   "cell_type": "markdown",
   "metadata": {
    "run_control": {
     "frozen": false,
     "read_only": false
    }
   },
   "source": [
    "## we see the pharynx samples are a lot like Urine samples from a previous study...\n",
    "turns out both studies sequenced in the same university"
   ]
  },
  {
   "cell_type": "code",
   "execution_count": null,
   "metadata": {
    "collapsed": true,
    "run_control": {
     "frozen": false,
     "read_only": false
    }
   },
   "outputs": [],
   "source": []
  }
 ],
 "metadata": {
  "anaconda-cloud": {},
  "kernelspec": {
   "display_name": "Python 3",
   "language": "python",
   "name": "python3"
  },
  "language_info": {
   "codemirror_mode": {
    "name": "ipython",
    "version": 3
   },
   "file_extension": ".py",
   "mimetype": "text/x-python",
   "name": "python",
   "nbconvert_exporter": "python",
   "pygments_lexer": "ipython3",
   "version": "3.5.2"
  },
  "toc": {
   "colors": {
    "hover_highlight": "#DAA520",
    "running_highlight": "#FF0000",
    "selected_highlight": "#FFD700"
   },
   "moveMenuLeft": true,
   "nav_menu": {
    "height": "180px",
    "width": "253px"
   },
   "navigate_menu": true,
   "number_sections": true,
   "sideBar": true,
   "threshold": 4,
   "toc_cell": false,
   "toc_section_display": "block",
   "toc_window_display": true,
   "widenNotebook": false
  },
  "widgets": {
   "state": {
    "316082e03ff84407a90de205e6787d67": {
     "views": [
      {
       "cell_index": 14
      }
     ]
    },
    "34cdf2d03528419588ae488efa2c73d6": {
     "views": [
      {
       "cell_index": 14
      }
     ]
    },
    "36ca3436f26a4267ac564368d933a822": {
     "views": [
      {
       "cell_index": 14
      }
     ]
    },
    "3b2a5a54994844d4bee3b7f4c3296614": {
     "views": [
      {
       "cell_index": 14
      }
     ]
    },
    "448cd4e535bb40019f79063eb1fe8151": {
     "views": [
      {
       "cell_index": 14
      }
     ]
    },
    "63f4632485be43eebf99049f22c8e0d9": {
     "views": [
      {
       "cell_index": 14
      }
     ]
    },
    "69f1ef93cec043e79636339e7d14aa64": {
     "views": [
      {
       "cell_index": 14
      }
     ]
    },
    "78dc30702ee44e0aa758cb05e152d143": {
     "views": [
      {
       "cell_index": 14
      }
     ]
    },
    "9b049de7fb7244128e297b2868b527b7": {
     "views": [
      {
       "cell_index": 14
      }
     ]
    },
    "a15f21704cb3426c88fcddb054aefc0f": {
     "views": [
      {
       "cell_index": 14
      }
     ]
    },
    "cebc58e4358f4c88bbf6ca2559c8656c": {
     "views": [
      {
       "cell_index": 14
      }
     ]
    },
    "ced589125289444d8c812645a3b5dc3d": {
     "views": [
      {
       "cell_index": 14
      }
     ]
    },
    "e4650f9dd44e4f79a89d49f808163025": {
     "views": [
      {
       "cell_index": 14
      }
     ]
    },
    "ece135e9ab1c451aa7ecf0d6450b1982": {
     "views": [
      {
       "cell_index": 14
      }
     ]
    },
    "f76f6c8a14564374950b519987b4380c": {
     "views": [
      {
       "cell_index": 14
      }
     ]
    }
   },
   "version": "1.2.0"
  }
 },
 "nbformat": 4,
 "nbformat_minor": 1
}
