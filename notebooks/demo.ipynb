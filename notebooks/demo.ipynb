{
 "cells": [
  {
   "cell_type": "code",
   "execution_count": 1,
   "metadata": {
    "run_control": {
     "frozen": false,
     "read_only": false
    }
   },
   "outputs": [],
   "source": [
    "%matplotlib notebook\n",
    "import calour as ca\n",
    "from calour import Experiment"
   ]
  },
  {
   "cell_type": "markdown",
   "metadata": {
    "run_control": {
     "frozen": false,
     "read_only": false
    }
   },
   "source": [
    "# Simple Cases"
   ]
  },
  {
   "cell_type": "code",
   "execution_count": 3,
   "metadata": {
    "run_control": {
     "frozen": false,
     "read_only": false
    }
   },
   "outputs": [
    {
     "data": {
      "application/javascript": [
       "/* Put everything inside the global mpl namespace */\n",
       "window.mpl = {};\n",
       "\n",
       "\n",
       "mpl.get_websocket_type = function() {\n",
       "    if (typeof(WebSocket) !== 'undefined') {\n",
       "        return WebSocket;\n",
       "    } else if (typeof(MozWebSocket) !== 'undefined') {\n",
       "        return MozWebSocket;\n",
       "    } else {\n",
       "        alert('Your browser does not have WebSocket support.' +\n",
       "              'Please try Chrome, Safari or Firefox ≥ 6. ' +\n",
       "              'Firefox 4 and 5 are also supported but you ' +\n",
       "              'have to enable WebSockets in about:config.');\n",
       "    };\n",
       "}\n",
       "\n",
       "mpl.figure = function(figure_id, websocket, ondownload, parent_element) {\n",
       "    this.id = figure_id;\n",
       "\n",
       "    this.ws = websocket;\n",
       "\n",
       "    this.supports_binary = (this.ws.binaryType != undefined);\n",
       "\n",
       "    if (!this.supports_binary) {\n",
       "        var warnings = document.getElementById(\"mpl-warnings\");\n",
       "        if (warnings) {\n",
       "            warnings.style.display = 'block';\n",
       "            warnings.textContent = (\n",
       "                \"This browser does not support binary websocket messages. \" +\n",
       "                    \"Performance may be slow.\");\n",
       "        }\n",
       "    }\n",
       "\n",
       "    this.imageObj = new Image();\n",
       "\n",
       "    this.context = undefined;\n",
       "    this.message = undefined;\n",
       "    this.canvas = undefined;\n",
       "    this.rubberband_canvas = undefined;\n",
       "    this.rubberband_context = undefined;\n",
       "    this.format_dropdown = undefined;\n",
       "\n",
       "    this.image_mode = 'full';\n",
       "\n",
       "    this.root = $('<div/>');\n",
       "    this._root_extra_style(this.root)\n",
       "    this.root.attr('style', 'display: inline-block');\n",
       "\n",
       "    $(parent_element).append(this.root);\n",
       "\n",
       "    this._init_header(this);\n",
       "    this._init_canvas(this);\n",
       "    this._init_toolbar(this);\n",
       "\n",
       "    var fig = this;\n",
       "\n",
       "    this.waiting = false;\n",
       "\n",
       "    this.ws.onopen =  function () {\n",
       "            fig.send_message(\"supports_binary\", {value: fig.supports_binary});\n",
       "            fig.send_message(\"send_image_mode\", {});\n",
       "            if (mpl.ratio != 1) {\n",
       "                fig.send_message(\"set_dpi_ratio\", {'dpi_ratio': mpl.ratio});\n",
       "            }\n",
       "            fig.send_message(\"refresh\", {});\n",
       "        }\n",
       "\n",
       "    this.imageObj.onload = function() {\n",
       "            if (fig.image_mode == 'full') {\n",
       "                // Full images could contain transparency (where diff images\n",
       "                // almost always do), so we need to clear the canvas so that\n",
       "                // there is no ghosting.\n",
       "                fig.context.clearRect(0, 0, fig.canvas.width, fig.canvas.height);\n",
       "            }\n",
       "            fig.context.drawImage(fig.imageObj, 0, 0);\n",
       "        };\n",
       "\n",
       "    this.imageObj.onunload = function() {\n",
       "        this.ws.close();\n",
       "    }\n",
       "\n",
       "    this.ws.onmessage = this._make_on_message_function(this);\n",
       "\n",
       "    this.ondownload = ondownload;\n",
       "}\n",
       "\n",
       "mpl.figure.prototype._init_header = function() {\n",
       "    var titlebar = $(\n",
       "        '<div class=\"ui-dialog-titlebar ui-widget-header ui-corner-all ' +\n",
       "        'ui-helper-clearfix\"/>');\n",
       "    var titletext = $(\n",
       "        '<div class=\"ui-dialog-title\" style=\"width: 100%; ' +\n",
       "        'text-align: center; padding: 3px;\"/>');\n",
       "    titlebar.append(titletext)\n",
       "    this.root.append(titlebar);\n",
       "    this.header = titletext[0];\n",
       "}\n",
       "\n",
       "\n",
       "\n",
       "mpl.figure.prototype._canvas_extra_style = function(canvas_div) {\n",
       "\n",
       "}\n",
       "\n",
       "\n",
       "mpl.figure.prototype._root_extra_style = function(canvas_div) {\n",
       "\n",
       "}\n",
       "\n",
       "mpl.figure.prototype._init_canvas = function() {\n",
       "    var fig = this;\n",
       "\n",
       "    var canvas_div = $('<div/>');\n",
       "\n",
       "    canvas_div.attr('style', 'position: relative; clear: both; outline: 0');\n",
       "\n",
       "    function canvas_keyboard_event(event) {\n",
       "        return fig.key_event(event, event['data']);\n",
       "    }\n",
       "\n",
       "    canvas_div.keydown('key_press', canvas_keyboard_event);\n",
       "    canvas_div.keyup('key_release', canvas_keyboard_event);\n",
       "    this.canvas_div = canvas_div\n",
       "    this._canvas_extra_style(canvas_div)\n",
       "    this.root.append(canvas_div);\n",
       "\n",
       "    var canvas = $('<canvas/>');\n",
       "    canvas.addClass('mpl-canvas');\n",
       "    canvas.attr('style', \"left: 0; top: 0; z-index: 0; outline: 0\")\n",
       "\n",
       "    this.canvas = canvas[0];\n",
       "    this.context = canvas[0].getContext(\"2d\");\n",
       "\n",
       "    var backingStore = this.context.backingStorePixelRatio ||\n",
       "\tthis.context.webkitBackingStorePixelRatio ||\n",
       "\tthis.context.mozBackingStorePixelRatio ||\n",
       "\tthis.context.msBackingStorePixelRatio ||\n",
       "\tthis.context.oBackingStorePixelRatio ||\n",
       "\tthis.context.backingStorePixelRatio || 1;\n",
       "\n",
       "    mpl.ratio = (window.devicePixelRatio || 1) / backingStore;\n",
       "\n",
       "    var rubberband = $('<canvas/>');\n",
       "    rubberband.attr('style', \"position: absolute; left: 0; top: 0; z-index: 1;\")\n",
       "\n",
       "    var pass_mouse_events = true;\n",
       "\n",
       "    canvas_div.resizable({\n",
       "        start: function(event, ui) {\n",
       "            pass_mouse_events = false;\n",
       "        },\n",
       "        resize: function(event, ui) {\n",
       "            fig.request_resize(ui.size.width, ui.size.height);\n",
       "        },\n",
       "        stop: function(event, ui) {\n",
       "            pass_mouse_events = true;\n",
       "            fig.request_resize(ui.size.width, ui.size.height);\n",
       "        },\n",
       "    });\n",
       "\n",
       "    function mouse_event_fn(event) {\n",
       "        if (pass_mouse_events)\n",
       "            return fig.mouse_event(event, event['data']);\n",
       "    }\n",
       "\n",
       "    rubberband.mousedown('button_press', mouse_event_fn);\n",
       "    rubberband.mouseup('button_release', mouse_event_fn);\n",
       "    // Throttle sequential mouse events to 1 every 20ms.\n",
       "    rubberband.mousemove('motion_notify', mouse_event_fn);\n",
       "\n",
       "    rubberband.mouseenter('figure_enter', mouse_event_fn);\n",
       "    rubberband.mouseleave('figure_leave', mouse_event_fn);\n",
       "\n",
       "    canvas_div.on(\"wheel\", function (event) {\n",
       "        event = event.originalEvent;\n",
       "        event['data'] = 'scroll'\n",
       "        if (event.deltaY < 0) {\n",
       "            event.step = 1;\n",
       "        } else {\n",
       "            event.step = -1;\n",
       "        }\n",
       "        mouse_event_fn(event);\n",
       "    });\n",
       "\n",
       "    canvas_div.append(canvas);\n",
       "    canvas_div.append(rubberband);\n",
       "\n",
       "    this.rubberband = rubberband;\n",
       "    this.rubberband_canvas = rubberband[0];\n",
       "    this.rubberband_context = rubberband[0].getContext(\"2d\");\n",
       "    this.rubberband_context.strokeStyle = \"#000000\";\n",
       "\n",
       "    this._resize_canvas = function(width, height) {\n",
       "        // Keep the size of the canvas, canvas container, and rubber band\n",
       "        // canvas in synch.\n",
       "        canvas_div.css('width', width)\n",
       "        canvas_div.css('height', height)\n",
       "\n",
       "        canvas.attr('width', width * mpl.ratio);\n",
       "        canvas.attr('height', height * mpl.ratio);\n",
       "        canvas.attr('style', 'width: ' + width + 'px; height: ' + height + 'px;');\n",
       "\n",
       "        rubberband.attr('width', width);\n",
       "        rubberband.attr('height', height);\n",
       "    }\n",
       "\n",
       "    // Set the figure to an initial 600x600px, this will subsequently be updated\n",
       "    // upon first draw.\n",
       "    this._resize_canvas(600, 600);\n",
       "\n",
       "    // Disable right mouse context menu.\n",
       "    $(this.rubberband_canvas).bind(\"contextmenu\",function(e){\n",
       "        return false;\n",
       "    });\n",
       "\n",
       "    function set_focus () {\n",
       "        canvas.focus();\n",
       "        canvas_div.focus();\n",
       "    }\n",
       "\n",
       "    window.setTimeout(set_focus, 100);\n",
       "}\n",
       "\n",
       "mpl.figure.prototype._init_toolbar = function() {\n",
       "    var fig = this;\n",
       "\n",
       "    var nav_element = $('<div/>')\n",
       "    nav_element.attr('style', 'width: 100%');\n",
       "    this.root.append(nav_element);\n",
       "\n",
       "    // Define a callback function for later on.\n",
       "    function toolbar_event(event) {\n",
       "        return fig.toolbar_button_onclick(event['data']);\n",
       "    }\n",
       "    function toolbar_mouse_event(event) {\n",
       "        return fig.toolbar_button_onmouseover(event['data']);\n",
       "    }\n",
       "\n",
       "    for(var toolbar_ind in mpl.toolbar_items) {\n",
       "        var name = mpl.toolbar_items[toolbar_ind][0];\n",
       "        var tooltip = mpl.toolbar_items[toolbar_ind][1];\n",
       "        var image = mpl.toolbar_items[toolbar_ind][2];\n",
       "        var method_name = mpl.toolbar_items[toolbar_ind][3];\n",
       "\n",
       "        if (!name) {\n",
       "            // put a spacer in here.\n",
       "            continue;\n",
       "        }\n",
       "        var button = $('<button/>');\n",
       "        button.addClass('ui-button ui-widget ui-state-default ui-corner-all ' +\n",
       "                        'ui-button-icon-only');\n",
       "        button.attr('role', 'button');\n",
       "        button.attr('aria-disabled', 'false');\n",
       "        button.click(method_name, toolbar_event);\n",
       "        button.mouseover(tooltip, toolbar_mouse_event);\n",
       "\n",
       "        var icon_img = $('<span/>');\n",
       "        icon_img.addClass('ui-button-icon-primary ui-icon');\n",
       "        icon_img.addClass(image);\n",
       "        icon_img.addClass('ui-corner-all');\n",
       "\n",
       "        var tooltip_span = $('<span/>');\n",
       "        tooltip_span.addClass('ui-button-text');\n",
       "        tooltip_span.html(tooltip);\n",
       "\n",
       "        button.append(icon_img);\n",
       "        button.append(tooltip_span);\n",
       "\n",
       "        nav_element.append(button);\n",
       "    }\n",
       "\n",
       "    var fmt_picker_span = $('<span/>');\n",
       "\n",
       "    var fmt_picker = $('<select/>');\n",
       "    fmt_picker.addClass('mpl-toolbar-option ui-widget ui-widget-content');\n",
       "    fmt_picker_span.append(fmt_picker);\n",
       "    nav_element.append(fmt_picker_span);\n",
       "    this.format_dropdown = fmt_picker[0];\n",
       "\n",
       "    for (var ind in mpl.extensions) {\n",
       "        var fmt = mpl.extensions[ind];\n",
       "        var option = $(\n",
       "            '<option/>', {selected: fmt === mpl.default_extension}).html(fmt);\n",
       "        fmt_picker.append(option)\n",
       "    }\n",
       "\n",
       "    // Add hover states to the ui-buttons\n",
       "    $( \".ui-button\" ).hover(\n",
       "        function() { $(this).addClass(\"ui-state-hover\");},\n",
       "        function() { $(this).removeClass(\"ui-state-hover\");}\n",
       "    );\n",
       "\n",
       "    var status_bar = $('<span class=\"mpl-message\"/>');\n",
       "    nav_element.append(status_bar);\n",
       "    this.message = status_bar[0];\n",
       "}\n",
       "\n",
       "mpl.figure.prototype.request_resize = function(x_pixels, y_pixels) {\n",
       "    // Request matplotlib to resize the figure. Matplotlib will then trigger a resize in the client,\n",
       "    // which will in turn request a refresh of the image.\n",
       "    this.send_message('resize', {'width': x_pixels, 'height': y_pixels});\n",
       "}\n",
       "\n",
       "mpl.figure.prototype.send_message = function(type, properties) {\n",
       "    properties['type'] = type;\n",
       "    properties['figure_id'] = this.id;\n",
       "    this.ws.send(JSON.stringify(properties));\n",
       "}\n",
       "\n",
       "mpl.figure.prototype.send_draw_message = function() {\n",
       "    if (!this.waiting) {\n",
       "        this.waiting = true;\n",
       "        this.ws.send(JSON.stringify({type: \"draw\", figure_id: this.id}));\n",
       "    }\n",
       "}\n",
       "\n",
       "\n",
       "mpl.figure.prototype.handle_save = function(fig, msg) {\n",
       "    var format_dropdown = fig.format_dropdown;\n",
       "    var format = format_dropdown.options[format_dropdown.selectedIndex].value;\n",
       "    fig.ondownload(fig, format);\n",
       "}\n",
       "\n",
       "\n",
       "mpl.figure.prototype.handle_resize = function(fig, msg) {\n",
       "    var size = msg['size'];\n",
       "    if (size[0] != fig.canvas.width || size[1] != fig.canvas.height) {\n",
       "        fig._resize_canvas(size[0], size[1]);\n",
       "        fig.send_message(\"refresh\", {});\n",
       "    };\n",
       "}\n",
       "\n",
       "mpl.figure.prototype.handle_rubberband = function(fig, msg) {\n",
       "    var x0 = msg['x0'] / mpl.ratio;\n",
       "    var y0 = (fig.canvas.height - msg['y0']) / mpl.ratio;\n",
       "    var x1 = msg['x1'] / mpl.ratio;\n",
       "    var y1 = (fig.canvas.height - msg['y1']) / mpl.ratio;\n",
       "    x0 = Math.floor(x0) + 0.5;\n",
       "    y0 = Math.floor(y0) + 0.5;\n",
       "    x1 = Math.floor(x1) + 0.5;\n",
       "    y1 = Math.floor(y1) + 0.5;\n",
       "    var min_x = Math.min(x0, x1);\n",
       "    var min_y = Math.min(y0, y1);\n",
       "    var width = Math.abs(x1 - x0);\n",
       "    var height = Math.abs(y1 - y0);\n",
       "\n",
       "    fig.rubberband_context.clearRect(\n",
       "        0, 0, fig.canvas.width, fig.canvas.height);\n",
       "\n",
       "    fig.rubberband_context.strokeRect(min_x, min_y, width, height);\n",
       "}\n",
       "\n",
       "mpl.figure.prototype.handle_figure_label = function(fig, msg) {\n",
       "    // Updates the figure title.\n",
       "    fig.header.textContent = msg['label'];\n",
       "}\n",
       "\n",
       "mpl.figure.prototype.handle_cursor = function(fig, msg) {\n",
       "    var cursor = msg['cursor'];\n",
       "    switch(cursor)\n",
       "    {\n",
       "    case 0:\n",
       "        cursor = 'pointer';\n",
       "        break;\n",
       "    case 1:\n",
       "        cursor = 'default';\n",
       "        break;\n",
       "    case 2:\n",
       "        cursor = 'crosshair';\n",
       "        break;\n",
       "    case 3:\n",
       "        cursor = 'move';\n",
       "        break;\n",
       "    }\n",
       "    fig.rubberband_canvas.style.cursor = cursor;\n",
       "}\n",
       "\n",
       "mpl.figure.prototype.handle_message = function(fig, msg) {\n",
       "    fig.message.textContent = msg['message'];\n",
       "}\n",
       "\n",
       "mpl.figure.prototype.handle_draw = function(fig, msg) {\n",
       "    // Request the server to send over a new figure.\n",
       "    fig.send_draw_message();\n",
       "}\n",
       "\n",
       "mpl.figure.prototype.handle_image_mode = function(fig, msg) {\n",
       "    fig.image_mode = msg['mode'];\n",
       "}\n",
       "\n",
       "mpl.figure.prototype.updated_canvas_event = function() {\n",
       "    // Called whenever the canvas gets updated.\n",
       "    this.send_message(\"ack\", {});\n",
       "}\n",
       "\n",
       "// A function to construct a web socket function for onmessage handling.\n",
       "// Called in the figure constructor.\n",
       "mpl.figure.prototype._make_on_message_function = function(fig) {\n",
       "    return function socket_on_message(evt) {\n",
       "        if (evt.data instanceof Blob) {\n",
       "            /* FIXME: We get \"Resource interpreted as Image but\n",
       "             * transferred with MIME type text/plain:\" errors on\n",
       "             * Chrome.  But how to set the MIME type?  It doesn't seem\n",
       "             * to be part of the websocket stream */\n",
       "            evt.data.type = \"image/png\";\n",
       "\n",
       "            /* Free the memory for the previous frames */\n",
       "            if (fig.imageObj.src) {\n",
       "                (window.URL || window.webkitURL).revokeObjectURL(\n",
       "                    fig.imageObj.src);\n",
       "            }\n",
       "\n",
       "            fig.imageObj.src = (window.URL || window.webkitURL).createObjectURL(\n",
       "                evt.data);\n",
       "            fig.updated_canvas_event();\n",
       "            fig.waiting = false;\n",
       "            return;\n",
       "        }\n",
       "        else if (typeof evt.data === 'string' && evt.data.slice(0, 21) == \"data:image/png;base64\") {\n",
       "            fig.imageObj.src = evt.data;\n",
       "            fig.updated_canvas_event();\n",
       "            fig.waiting = false;\n",
       "            return;\n",
       "        }\n",
       "\n",
       "        var msg = JSON.parse(evt.data);\n",
       "        var msg_type = msg['type'];\n",
       "\n",
       "        // Call the  \"handle_{type}\" callback, which takes\n",
       "        // the figure and JSON message as its only arguments.\n",
       "        try {\n",
       "            var callback = fig[\"handle_\" + msg_type];\n",
       "        } catch (e) {\n",
       "            console.log(\"No handler for the '\" + msg_type + \"' message type: \", msg);\n",
       "            return;\n",
       "        }\n",
       "\n",
       "        if (callback) {\n",
       "            try {\n",
       "                // console.log(\"Handling '\" + msg_type + \"' message: \", msg);\n",
       "                callback(fig, msg);\n",
       "            } catch (e) {\n",
       "                console.log(\"Exception inside the 'handler_\" + msg_type + \"' callback:\", e, e.stack, msg);\n",
       "            }\n",
       "        }\n",
       "    };\n",
       "}\n",
       "\n",
       "// from http://stackoverflow.com/questions/1114465/getting-mouse-location-in-canvas\n",
       "mpl.findpos = function(e) {\n",
       "    //this section is from http://www.quirksmode.org/js/events_properties.html\n",
       "    var targ;\n",
       "    if (!e)\n",
       "        e = window.event;\n",
       "    if (e.target)\n",
       "        targ = e.target;\n",
       "    else if (e.srcElement)\n",
       "        targ = e.srcElement;\n",
       "    if (targ.nodeType == 3) // defeat Safari bug\n",
       "        targ = targ.parentNode;\n",
       "\n",
       "    // jQuery normalizes the pageX and pageY\n",
       "    // pageX,Y are the mouse positions relative to the document\n",
       "    // offset() returns the position of the element relative to the document\n",
       "    var x = e.pageX - $(targ).offset().left;\n",
       "    var y = e.pageY - $(targ).offset().top;\n",
       "\n",
       "    return {\"x\": x, \"y\": y};\n",
       "};\n",
       "\n",
       "/*\n",
       " * return a copy of an object with only non-object keys\n",
       " * we need this to avoid circular references\n",
       " * http://stackoverflow.com/a/24161582/3208463\n",
       " */\n",
       "function simpleKeys (original) {\n",
       "  return Object.keys(original).reduce(function (obj, key) {\n",
       "    if (typeof original[key] !== 'object')\n",
       "        obj[key] = original[key]\n",
       "    return obj;\n",
       "  }, {});\n",
       "}\n",
       "\n",
       "mpl.figure.prototype.mouse_event = function(event, name) {\n",
       "    var canvas_pos = mpl.findpos(event)\n",
       "\n",
       "    if (name === 'button_press')\n",
       "    {\n",
       "        this.canvas.focus();\n",
       "        this.canvas_div.focus();\n",
       "    }\n",
       "\n",
       "    var x = canvas_pos.x * mpl.ratio;\n",
       "    var y = canvas_pos.y * mpl.ratio;\n",
       "\n",
       "    this.send_message(name, {x: x, y: y, button: event.button,\n",
       "                             step: event.step,\n",
       "                             guiEvent: simpleKeys(event)});\n",
       "\n",
       "    /* This prevents the web browser from automatically changing to\n",
       "     * the text insertion cursor when the button is pressed.  We want\n",
       "     * to control all of the cursor setting manually through the\n",
       "     * 'cursor' event from matplotlib */\n",
       "    event.preventDefault();\n",
       "    return false;\n",
       "}\n",
       "\n",
       "mpl.figure.prototype._key_event_extra = function(event, name) {\n",
       "    // Handle any extra behaviour associated with a key event\n",
       "}\n",
       "\n",
       "mpl.figure.prototype.key_event = function(event, name) {\n",
       "\n",
       "    // Prevent repeat events\n",
       "    if (name == 'key_press')\n",
       "    {\n",
       "        if (event.which === this._key)\n",
       "            return;\n",
       "        else\n",
       "            this._key = event.which;\n",
       "    }\n",
       "    if (name == 'key_release')\n",
       "        this._key = null;\n",
       "\n",
       "    var value = '';\n",
       "    if (event.ctrlKey && event.which != 17)\n",
       "        value += \"ctrl+\";\n",
       "    if (event.altKey && event.which != 18)\n",
       "        value += \"alt+\";\n",
       "    if (event.shiftKey && event.which != 16)\n",
       "        value += \"shift+\";\n",
       "\n",
       "    value += 'k';\n",
       "    value += event.which.toString();\n",
       "\n",
       "    this._key_event_extra(event, name);\n",
       "\n",
       "    this.send_message(name, {key: value,\n",
       "                             guiEvent: simpleKeys(event)});\n",
       "    return false;\n",
       "}\n",
       "\n",
       "mpl.figure.prototype.toolbar_button_onclick = function(name) {\n",
       "    if (name == 'download') {\n",
       "        this.handle_save(this, null);\n",
       "    } else {\n",
       "        this.send_message(\"toolbar_button\", {name: name});\n",
       "    }\n",
       "};\n",
       "\n",
       "mpl.figure.prototype.toolbar_button_onmouseover = function(tooltip) {\n",
       "    this.message.textContent = tooltip;\n",
       "};\n",
       "mpl.toolbar_items = [[\"Home\", \"Reset original view\", \"fa fa-home icon-home\", \"home\"], [\"Back\", \"Back to  previous view\", \"fa fa-arrow-left icon-arrow-left\", \"back\"], [\"Forward\", \"Forward to next view\", \"fa fa-arrow-right icon-arrow-right\", \"forward\"], [\"\", \"\", \"\", \"\"], [\"Pan\", \"Pan axes with left mouse, zoom with right\", \"fa fa-arrows icon-move\", \"pan\"], [\"Zoom\", \"Zoom to rectangle\", \"fa fa-square-o icon-check-empty\", \"zoom\"], [\"\", \"\", \"\", \"\"], [\"Download\", \"Download plot\", \"fa fa-floppy-o icon-save\", \"download\"]];\n",
       "\n",
       "mpl.extensions = [\"eps\", \"pdf\", \"png\", \"ps\", \"raw\", \"svg\"];\n",
       "\n",
       "mpl.default_extension = \"png\";var comm_websocket_adapter = function(comm) {\n",
       "    // Create a \"websocket\"-like object which calls the given IPython comm\n",
       "    // object with the appropriate methods. Currently this is a non binary\n",
       "    // socket, so there is still some room for performance tuning.\n",
       "    var ws = {};\n",
       "\n",
       "    ws.close = function() {\n",
       "        comm.close()\n",
       "    };\n",
       "    ws.send = function(m) {\n",
       "        //console.log('sending', m);\n",
       "        comm.send(m);\n",
       "    };\n",
       "    // Register the callback with on_msg.\n",
       "    comm.on_msg(function(msg) {\n",
       "        //console.log('receiving', msg['content']['data'], msg);\n",
       "        // Pass the mpl event to the overriden (by mpl) onmessage function.\n",
       "        ws.onmessage(msg['content']['data'])\n",
       "    });\n",
       "    return ws;\n",
       "}\n",
       "\n",
       "mpl.mpl_figure_comm = function(comm, msg) {\n",
       "    // This is the function which gets called when the mpl process\n",
       "    // starts-up an IPython Comm through the \"matplotlib\" channel.\n",
       "\n",
       "    var id = msg.content.data.id;\n",
       "    // Get hold of the div created by the display call when the Comm\n",
       "    // socket was opened in Python.\n",
       "    var element = $(\"#\" + id);\n",
       "    var ws_proxy = comm_websocket_adapter(comm)\n",
       "\n",
       "    function ondownload(figure, format) {\n",
       "        window.open(figure.imageObj.src);\n",
       "    }\n",
       "\n",
       "    var fig = new mpl.figure(id, ws_proxy,\n",
       "                           ondownload,\n",
       "                           element.get(0));\n",
       "\n",
       "    // Call onopen now - mpl needs it, as it is assuming we've passed it a real\n",
       "    // web socket which is closed, not our websocket->open comm proxy.\n",
       "    ws_proxy.onopen();\n",
       "\n",
       "    fig.parent_element = element.get(0);\n",
       "    fig.cell_info = mpl.find_output_cell(\"<div id='\" + id + \"'></div>\");\n",
       "    if (!fig.cell_info) {\n",
       "        console.error(\"Failed to find cell for figure\", id, fig);\n",
       "        return;\n",
       "    }\n",
       "\n",
       "    var output_index = fig.cell_info[2]\n",
       "    var cell = fig.cell_info[0];\n",
       "\n",
       "};\n",
       "\n",
       "mpl.figure.prototype.handle_close = function(fig, msg) {\n",
       "    var width = fig.canvas.width/mpl.ratio\n",
       "    fig.root.unbind('remove')\n",
       "\n",
       "    // Update the output cell to use the data from the current canvas.\n",
       "    fig.push_to_output();\n",
       "    var dataURL = fig.canvas.toDataURL();\n",
       "    // Re-enable the keyboard manager in IPython - without this line, in FF,\n",
       "    // the notebook keyboard shortcuts fail.\n",
       "    IPython.keyboard_manager.enable()\n",
       "    $(fig.parent_element).html('<img src=\"' + dataURL + '\" width=\"' + width + '\">');\n",
       "    fig.close_ws(fig, msg);\n",
       "}\n",
       "\n",
       "mpl.figure.prototype.close_ws = function(fig, msg){\n",
       "    fig.send_message('closing', msg);\n",
       "    // fig.ws.close()\n",
       "}\n",
       "\n",
       "mpl.figure.prototype.push_to_output = function(remove_interactive) {\n",
       "    // Turn the data on the canvas into data in the output cell.\n",
       "    var width = this.canvas.width/mpl.ratio\n",
       "    var dataURL = this.canvas.toDataURL();\n",
       "    this.cell_info[1]['text/html'] = '<img src=\"' + dataURL + '\" width=\"' + width + '\">';\n",
       "}\n",
       "\n",
       "mpl.figure.prototype.updated_canvas_event = function() {\n",
       "    // Tell IPython that the notebook contents must change.\n",
       "    IPython.notebook.set_dirty(true);\n",
       "    this.send_message(\"ack\", {});\n",
       "    var fig = this;\n",
       "    // Wait a second, then push the new image to the DOM so\n",
       "    // that it is saved nicely (might be nice to debounce this).\n",
       "    setTimeout(function () { fig.push_to_output() }, 1000);\n",
       "}\n",
       "\n",
       "mpl.figure.prototype._init_toolbar = function() {\n",
       "    var fig = this;\n",
       "\n",
       "    var nav_element = $('<div/>')\n",
       "    nav_element.attr('style', 'width: 100%');\n",
       "    this.root.append(nav_element);\n",
       "\n",
       "    // Define a callback function for later on.\n",
       "    function toolbar_event(event) {\n",
       "        return fig.toolbar_button_onclick(event['data']);\n",
       "    }\n",
       "    function toolbar_mouse_event(event) {\n",
       "        return fig.toolbar_button_onmouseover(event['data']);\n",
       "    }\n",
       "\n",
       "    for(var toolbar_ind in mpl.toolbar_items){\n",
       "        var name = mpl.toolbar_items[toolbar_ind][0];\n",
       "        var tooltip = mpl.toolbar_items[toolbar_ind][1];\n",
       "        var image = mpl.toolbar_items[toolbar_ind][2];\n",
       "        var method_name = mpl.toolbar_items[toolbar_ind][3];\n",
       "\n",
       "        if (!name) { continue; };\n",
       "\n",
       "        var button = $('<button class=\"btn btn-default\" href=\"#\" title=\"' + name + '\"><i class=\"fa ' + image + ' fa-lg\"></i></button>');\n",
       "        button.click(method_name, toolbar_event);\n",
       "        button.mouseover(tooltip, toolbar_mouse_event);\n",
       "        nav_element.append(button);\n",
       "    }\n",
       "\n",
       "    // Add the status bar.\n",
       "    var status_bar = $('<span class=\"mpl-message\" style=\"text-align:right; float: right;\"/>');\n",
       "    nav_element.append(status_bar);\n",
       "    this.message = status_bar[0];\n",
       "\n",
       "    // Add the close button to the window.\n",
       "    var buttongrp = $('<div class=\"btn-group inline pull-right\"></div>');\n",
       "    var button = $('<button class=\"btn btn-mini btn-primary\" href=\"#\" title=\"Stop Interaction\"><i class=\"fa fa-power-off icon-remove icon-large\"></i></button>');\n",
       "    button.click(function (evt) { fig.handle_close(fig, {}); } );\n",
       "    button.mouseover('Stop Interaction', toolbar_mouse_event);\n",
       "    buttongrp.append(button);\n",
       "    var titlebar = this.root.find($('.ui-dialog-titlebar'));\n",
       "    titlebar.prepend(buttongrp);\n",
       "}\n",
       "\n",
       "mpl.figure.prototype._root_extra_style = function(el){\n",
       "    var fig = this\n",
       "    el.on(\"remove\", function(){\n",
       "\tfig.close_ws(fig, {});\n",
       "    });\n",
       "}\n",
       "\n",
       "mpl.figure.prototype._canvas_extra_style = function(el){\n",
       "    // this is important to make the div 'focusable\n",
       "    el.attr('tabindex', 0)\n",
       "    // reach out to IPython and tell the keyboard manager to turn it's self\n",
       "    // off when our div gets focus\n",
       "\n",
       "    // location in version 3\n",
       "    if (IPython.notebook.keyboard_manager) {\n",
       "        IPython.notebook.keyboard_manager.register_events(el);\n",
       "    }\n",
       "    else {\n",
       "        // location in version 2\n",
       "        IPython.keyboard_manager.register_events(el);\n",
       "    }\n",
       "\n",
       "}\n",
       "\n",
       "mpl.figure.prototype._key_event_extra = function(event, name) {\n",
       "    var manager = IPython.notebook.keyboard_manager;\n",
       "    if (!manager)\n",
       "        manager = IPython.keyboard_manager;\n",
       "\n",
       "    // Check for shift+enter\n",
       "    if (event.shiftKey && event.which == 13) {\n",
       "        this.canvas_div.blur();\n",
       "        // select the cell after this one\n",
       "        var index = IPython.notebook.find_cell_index(this.cell_info[0]);\n",
       "        IPython.notebook.select(index + 1);\n",
       "    }\n",
       "}\n",
       "\n",
       "mpl.figure.prototype.handle_save = function(fig, msg) {\n",
       "    fig.ondownload(fig, null);\n",
       "}\n",
       "\n",
       "\n",
       "mpl.find_output_cell = function(html_output) {\n",
       "    // Return the cell and output element which can be found *uniquely* in the notebook.\n",
       "    // Note - this is a bit hacky, but it is done because the \"notebook_saving.Notebook\"\n",
       "    // IPython event is triggered only after the cells have been serialised, which for\n",
       "    // our purposes (turning an active figure into a static one), is too late.\n",
       "    var cells = IPython.notebook.get_cells();\n",
       "    var ncells = cells.length;\n",
       "    for (var i=0; i<ncells; i++) {\n",
       "        var cell = cells[i];\n",
       "        if (cell.cell_type === 'code'){\n",
       "            for (var j=0; j<cell.output_area.outputs.length; j++) {\n",
       "                var data = cell.output_area.outputs[j];\n",
       "                if (data.data) {\n",
       "                    // IPython >= 3 moved mimebundle to data attribute of output\n",
       "                    data = data.data;\n",
       "                }\n",
       "                if (data['text/html'] == html_output) {\n",
       "                    return [cell, data, j];\n",
       "                }\n",
       "            }\n",
       "        }\n",
       "    }\n",
       "}\n",
       "\n",
       "// Register the function which deals with the matplotlib target/channel.\n",
       "// The kernel may be null if the page has been refreshed.\n",
       "if (IPython.notebook.kernel != null) {\n",
       "    IPython.notebook.kernel.comm_manager.register_target('matplotlib', mpl.mpl_figure_comm);\n",
       "}\n"
      ],
      "text/plain": [
       "<IPython.core.display.Javascript object>"
      ]
     },
     "metadata": {},
     "output_type": "display_data"
    },
    {
     "data": {
      "text/html": [
       "<img src=\"data:image/png;base64,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\" width=\"639.999990463257\">"
      ],
      "text/plain": [
       "<IPython.core.display.HTML object>"
      ]
     },
     "metadata": {},
     "output_type": "display_data"
    },
    {
     "data": {
      "application/vnd.jupyter.widget-view+json": {
       "model_id": "b22a95c570f14b5b9d8d9137fdd7a9f0"
      }
     },
     "metadata": {},
     "output_type": "display_data"
    },
    {
     "data": {
      "application/vnd.jupyter.widget-view+json": {
       "model_id": "8c70c1c8727647699d17e034b2fbe31c"
      }
     },
     "metadata": {},
     "output_type": "display_data"
    },
    {
     "data": {
      "application/vnd.jupyter.widget-view+json": {
       "model_id": "9e95e5118da848afadf19aa99052bda6"
      }
     },
     "metadata": {},
     "output_type": "display_data"
    },
    {
     "data": {
      "application/vnd.jupyter.widget-view+json": {
       "model_id": "de854affa0d348ad8181f463e9243339"
      }
     },
     "metadata": {},
     "output_type": "display_data"
    },
    {
     "data": {
      "application/vnd.jupyter.widget-view+json": {
       "model_id": "990949d880b24f68841328c47cba2a90"
      }
     },
     "metadata": {},
     "output_type": "display_data"
    },
    {
     "data": {
      "application/vnd.jupyter.widget-view+json": {
       "model_id": "6dad8437aad34a1ca7b9468be9b14a57"
      }
     },
     "metadata": {},
     "output_type": "display_data"
    }
   ],
   "source": [
    "a = ca.read_amplicon('../calour/tests/data/test2.biom', '../calour/tests/data/test2.sample', feature_metadata_file='../calour/tests/data/test2.feature', min_reads=100, normalize=1000)\n",
    "b = a.plot(sample_field='group', feature_field='taxonomy', feature_color_bars=['oxygen'], gui='jupyter');"
   ]
  }
 ],
 "metadata": {
  "anaconda-cloud": {},
  "kernelspec": {
   "display_name": "Python 3",
   "language": "python",
   "name": "python3"
  },
  "language_info": {
   "codemirror_mode": {
    "name": "ipython",
    "version": 3
   },
   "file_extension": ".py",
   "mimetype": "text/x-python",
   "name": "python",
   "nbconvert_exporter": "python",
   "pygments_lexer": "ipython3",
   "version": "3.5.2"
  },
  "notify_time": "30",
  "toc": {
   "colors": {
    "hover_highlight": "#DAA520",
    "running_highlight": "#FF0000",
    "selected_highlight": "#FFD700"
   },
   "moveMenuLeft": true,
   "nav_menu": {
    "height": "48px",
    "width": "251px"
   },
   "navigate_menu": true,
   "number_sections": true,
   "sideBar": true,
   "threshold": 4,
   "toc_cell": false,
   "toc_section_display": "block",
   "toc_window_display": false,
   "widenNotebook": false
  },
  "widgets": {
   "state": {
    "0b6bad1bcd304677a1306f95241466c3": {
     "views": [
      {
       "cell_index": 18
      }
     ]
    },
    "0bc0bfaa297240ea8e8e2c48507c1ac0": {
     "views": [
      {
       "cell_index": 5
      }
     ]
    },
    "0ef0bf37a1a345e1b2a87d649e464aff": {
     "views": [
      {
       "cell_index": 18
      }
     ]
    },
    "168ee1bc584b47cf971745ce6318a8e0": {
     "views": [
      {
       "cell_index": 3
      }
     ]
    },
    "2d1a6bba09c1490ab01913f697cb06dd": {
     "views": [
      {
       "cell_index": 5
      }
     ]
    },
    "39f3d478c74c4c7b9873de1cefc82138": {
     "views": [
      {
       "cell_index": 5
      }
     ]
    },
    "60389af4c486472d9faf946bef0871d3": {
     "views": [
      {
       "cell_index": 18
      }
     ]
    },
    "605c4fbdd2db46268f505040797c1e10": {
     "views": [
      {
       "cell_index": 20
      }
     ]
    },
    "62f9bc9d23ff43adb7b54d844ea3ae45": {
     "views": [
      {
       "cell_index": 18
      }
     ]
    },
    "638be1e67a114e11bedfdd861c4c2cc7": {
     "views": [
      {
       "cell_index": 18
      }
     ]
    },
    "65ad1a0314b74adf81274a386cc203f4": {
     "views": [
      {
       "cell_index": 18
      }
     ]
    },
    "6a1ac39c1e13475aaf5ea873229780ae": {
     "views": [
      {
       "cell_index": 3
      }
     ]
    },
    "79222c9ee1224347bad3c231c9a6cc96": {
     "views": [
      {
       "cell_index": 19
      }
     ]
    },
    "7b1ca8359aa84a3abd2a2011eac02ebb": {
     "views": [
      {
       "cell_index": 19
      }
     ]
    },
    "81294fe7dfda40b1a6504a047d228391": {
     "views": [
      {
       "cell_index": 19
      }
     ]
    },
    "8846b2a3b29f451ca4c15a29643e6492": {
     "views": [
      {
       "cell_index": 3
      }
     ]
    },
    "8a43cceb5b0c4925bc95933b709ee085": {
     "views": [
      {
       "cell_index": 5
      }
     ]
    },
    "8e59e74102a14de0a7bdafc848ea07f8": {
     "views": [
      {
       "cell_index": 5
      }
     ]
    },
    "929d32d2a7454cb097abc74320d23b58": {
     "views": [
      {
       "cell_index": 3
      }
     ]
    },
    "99004fd3a25640c4bf6f35108b3f1476": {
     "views": [
      {
       "cell_index": 3
      }
     ]
    },
    "a7f9786066e64fa0b03f1b00debd94eb": {
     "views": [
      {
       "cell_index": 5
      }
     ]
    },
    "ace8ce9250f247b2a3901f720c6b565f": {
     "views": [
      {
       "cell_index": 20
      }
     ]
    },
    "b1d0152a191a435fbb35870333d9492a": {
     "views": [
      {
       "cell_index": 3
      }
     ]
    },
    "b285eb9be8434ec984cd298b76a6233c": {
     "views": [
      {
       "cell_index": 19
      }
     ]
    },
    "b5068e54cad4423d8c2c72ffe9a38f23": {
     "views": [
      {
       "cell_index": 19
      }
     ]
    },
    "b78e9da8b2dd44ffb202a7194c33046b": {
     "views": [
      {
       "cell_index": 20
      }
     ]
    },
    "cd05e31db1df4dd4a15dd69a043800ce": {
     "views": [
      {
       "cell_index": 20
      }
     ]
    },
    "db3976606b924a638a4b1cea570540c3": {
     "views": [
      {
       "cell_index": 20
      }
     ]
    },
    "f53bb7ffedfe468884f015f9c503f680": {
     "views": [
      {
       "cell_index": 19
      }
     ]
    },
    "ffa9d23f60be4d13a5da44c4c76e13d7": {
     "views": [
      {
       "cell_index": 20
      }
     ]
    }
   },
   "version": "1.2.0"
  }
 },
 "nbformat": 4,
 "nbformat_minor": 1
}
