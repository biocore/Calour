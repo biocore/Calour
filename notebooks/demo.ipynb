{
 "cells": [
  {
   "cell_type": "code",
   "execution_count": 1,
   "metadata": {
    "collapsed": true,
    "run_control": {
     "frozen": false,
     "read_only": false
    }
   },
   "outputs": [],
   "source": [
    "%matplotlib notebook\n",
    "import calour as ca\n",
    "from calour import Experiment"
   ]
  },
  {
   "cell_type": "markdown",
   "metadata": {
    "run_control": {
     "frozen": false,
     "read_only": false
    }
   },
   "source": [
    "# Simple Cases"
   ]
  },
  {
   "cell_type": "code",
   "execution_count": 2,
   "metadata": {
    "run_control": {
     "frozen": false,
     "read_only": false
    }
   },
   "outputs": [
    {
     "data": {
      "application/javascript": [
       "/* Put everything inside the global mpl namespace */\n",
       "window.mpl = {};\n",
       "\n",
       "\n",
       "mpl.get_websocket_type = function() {\n",
       "    if (typeof(WebSocket) !== 'undefined') {\n",
       "        return WebSocket;\n",
       "    } else if (typeof(MozWebSocket) !== 'undefined') {\n",
       "        return MozWebSocket;\n",
       "    } else {\n",
       "        alert('Your browser does not have WebSocket support.' +\n",
       "              'Please try Chrome, Safari or Firefox ≥ 6. ' +\n",
       "              'Firefox 4 and 5 are also supported but you ' +\n",
       "              'have to enable WebSockets in about:config.');\n",
       "    };\n",
       "}\n",
       "\n",
       "mpl.figure = function(figure_id, websocket, ondownload, parent_element) {\n",
       "    this.id = figure_id;\n",
       "\n",
       "    this.ws = websocket;\n",
       "\n",
       "    this.supports_binary = (this.ws.binaryType != undefined);\n",
       "\n",
       "    if (!this.supports_binary) {\n",
       "        var warnings = document.getElementById(\"mpl-warnings\");\n",
       "        if (warnings) {\n",
       "            warnings.style.display = 'block';\n",
       "            warnings.textContent = (\n",
       "                \"This browser does not support binary websocket messages. \" +\n",
       "                    \"Performance may be slow.\");\n",
       "        }\n",
       "    }\n",
       "\n",
       "    this.imageObj = new Image();\n",
       "\n",
       "    this.context = undefined;\n",
       "    this.message = undefined;\n",
       "    this.canvas = undefined;\n",
       "    this.rubberband_canvas = undefined;\n",
       "    this.rubberband_context = undefined;\n",
       "    this.format_dropdown = undefined;\n",
       "\n",
       "    this.image_mode = 'full';\n",
       "\n",
       "    this.root = $('<div/>');\n",
       "    this._root_extra_style(this.root)\n",
       "    this.root.attr('style', 'display: inline-block');\n",
       "\n",
       "    $(parent_element).append(this.root);\n",
       "\n",
       "    this._init_header(this);\n",
       "    this._init_canvas(this);\n",
       "    this._init_toolbar(this);\n",
       "\n",
       "    var fig = this;\n",
       "\n",
       "    this.waiting = false;\n",
       "\n",
       "    this.ws.onopen =  function () {\n",
       "            fig.send_message(\"supports_binary\", {value: fig.supports_binary});\n",
       "            fig.send_message(\"send_image_mode\", {});\n",
       "            if (mpl.ratio != 1) {\n",
       "                fig.send_message(\"set_dpi_ratio\", {'dpi_ratio': mpl.ratio});\n",
       "            }\n",
       "            fig.send_message(\"refresh\", {});\n",
       "        }\n",
       "\n",
       "    this.imageObj.onload = function() {\n",
       "            if (fig.image_mode == 'full') {\n",
       "                // Full images could contain transparency (where diff images\n",
       "                // almost always do), so we need to clear the canvas so that\n",
       "                // there is no ghosting.\n",
       "                fig.context.clearRect(0, 0, fig.canvas.width, fig.canvas.height);\n",
       "            }\n",
       "            fig.context.drawImage(fig.imageObj, 0, 0);\n",
       "        };\n",
       "\n",
       "    this.imageObj.onunload = function() {\n",
       "        this.ws.close();\n",
       "    }\n",
       "\n",
       "    this.ws.onmessage = this._make_on_message_function(this);\n",
       "\n",
       "    this.ondownload = ondownload;\n",
       "}\n",
       "\n",
       "mpl.figure.prototype._init_header = function() {\n",
       "    var titlebar = $(\n",
       "        '<div class=\"ui-dialog-titlebar ui-widget-header ui-corner-all ' +\n",
       "        'ui-helper-clearfix\"/>');\n",
       "    var titletext = $(\n",
       "        '<div class=\"ui-dialog-title\" style=\"width: 100%; ' +\n",
       "        'text-align: center; padding: 3px;\"/>');\n",
       "    titlebar.append(titletext)\n",
       "    this.root.append(titlebar);\n",
       "    this.header = titletext[0];\n",
       "}\n",
       "\n",
       "\n",
       "\n",
       "mpl.figure.prototype._canvas_extra_style = function(canvas_div) {\n",
       "\n",
       "}\n",
       "\n",
       "\n",
       "mpl.figure.prototype._root_extra_style = function(canvas_div) {\n",
       "\n",
       "}\n",
       "\n",
       "mpl.figure.prototype._init_canvas = function() {\n",
       "    var fig = this;\n",
       "\n",
       "    var canvas_div = $('<div/>');\n",
       "\n",
       "    canvas_div.attr('style', 'position: relative; clear: both; outline: 0');\n",
       "\n",
       "    function canvas_keyboard_event(event) {\n",
       "        return fig.key_event(event, event['data']);\n",
       "    }\n",
       "\n",
       "    canvas_div.keydown('key_press', canvas_keyboard_event);\n",
       "    canvas_div.keyup('key_release', canvas_keyboard_event);\n",
       "    this.canvas_div = canvas_div\n",
       "    this._canvas_extra_style(canvas_div)\n",
       "    this.root.append(canvas_div);\n",
       "\n",
       "    var canvas = $('<canvas/>');\n",
       "    canvas.addClass('mpl-canvas');\n",
       "    canvas.attr('style', \"left: 0; top: 0; z-index: 0; outline: 0\")\n",
       "\n",
       "    this.canvas = canvas[0];\n",
       "    this.context = canvas[0].getContext(\"2d\");\n",
       "\n",
       "    var backingStore = this.context.backingStorePixelRatio ||\n",
       "\tthis.context.webkitBackingStorePixelRatio ||\n",
       "\tthis.context.mozBackingStorePixelRatio ||\n",
       "\tthis.context.msBackingStorePixelRatio ||\n",
       "\tthis.context.oBackingStorePixelRatio ||\n",
       "\tthis.context.backingStorePixelRatio || 1;\n",
       "\n",
       "    mpl.ratio = (window.devicePixelRatio || 1) / backingStore;\n",
       "\n",
       "    var rubberband = $('<canvas/>');\n",
       "    rubberband.attr('style', \"position: absolute; left: 0; top: 0; z-index: 1;\")\n",
       "\n",
       "    var pass_mouse_events = true;\n",
       "\n",
       "    canvas_div.resizable({\n",
       "        start: function(event, ui) {\n",
       "            pass_mouse_events = false;\n",
       "        },\n",
       "        resize: function(event, ui) {\n",
       "            fig.request_resize(ui.size.width, ui.size.height);\n",
       "        },\n",
       "        stop: function(event, ui) {\n",
       "            pass_mouse_events = true;\n",
       "            fig.request_resize(ui.size.width, ui.size.height);\n",
       "        },\n",
       "    });\n",
       "\n",
       "    function mouse_event_fn(event) {\n",
       "        if (pass_mouse_events)\n",
       "            return fig.mouse_event(event, event['data']);\n",
       "    }\n",
       "\n",
       "    rubberband.mousedown('button_press', mouse_event_fn);\n",
       "    rubberband.mouseup('button_release', mouse_event_fn);\n",
       "    // Throttle sequential mouse events to 1 every 20ms.\n",
       "    rubberband.mousemove('motion_notify', mouse_event_fn);\n",
       "\n",
       "    rubberband.mouseenter('figure_enter', mouse_event_fn);\n",
       "    rubberband.mouseleave('figure_leave', mouse_event_fn);\n",
       "\n",
       "    canvas_div.on(\"wheel\", function (event) {\n",
       "        event = event.originalEvent;\n",
       "        event['data'] = 'scroll'\n",
       "        if (event.deltaY < 0) {\n",
       "            event.step = 1;\n",
       "        } else {\n",
       "            event.step = -1;\n",
       "        }\n",
       "        mouse_event_fn(event);\n",
       "    });\n",
       "\n",
       "    canvas_div.append(canvas);\n",
       "    canvas_div.append(rubberband);\n",
       "\n",
       "    this.rubberband = rubberband;\n",
       "    this.rubberband_canvas = rubberband[0];\n",
       "    this.rubberband_context = rubberband[0].getContext(\"2d\");\n",
       "    this.rubberband_context.strokeStyle = \"#000000\";\n",
       "\n",
       "    this._resize_canvas = function(width, height) {\n",
       "        // Keep the size of the canvas, canvas container, and rubber band\n",
       "        // canvas in synch.\n",
       "        canvas_div.css('width', width)\n",
       "        canvas_div.css('height', height)\n",
       "\n",
       "        canvas.attr('width', width * mpl.ratio);\n",
       "        canvas.attr('height', height * mpl.ratio);\n",
       "        canvas.attr('style', 'width: ' + width + 'px; height: ' + height + 'px;');\n",
       "\n",
       "        rubberband.attr('width', width);\n",
       "        rubberband.attr('height', height);\n",
       "    }\n",
       "\n",
       "    // Set the figure to an initial 600x600px, this will subsequently be updated\n",
       "    // upon first draw.\n",
       "    this._resize_canvas(600, 600);\n",
       "\n",
       "    // Disable right mouse context menu.\n",
       "    $(this.rubberband_canvas).bind(\"contextmenu\",function(e){\n",
       "        return false;\n",
       "    });\n",
       "\n",
       "    function set_focus () {\n",
       "        canvas.focus();\n",
       "        canvas_div.focus();\n",
       "    }\n",
       "\n",
       "    window.setTimeout(set_focus, 100);\n",
       "}\n",
       "\n",
       "mpl.figure.prototype._init_toolbar = function() {\n",
       "    var fig = this;\n",
       "\n",
       "    var nav_element = $('<div/>')\n",
       "    nav_element.attr('style', 'width: 100%');\n",
       "    this.root.append(nav_element);\n",
       "\n",
       "    // Define a callback function for later on.\n",
       "    function toolbar_event(event) {\n",
       "        return fig.toolbar_button_onclick(event['data']);\n",
       "    }\n",
       "    function toolbar_mouse_event(event) {\n",
       "        return fig.toolbar_button_onmouseover(event['data']);\n",
       "    }\n",
       "\n",
       "    for(var toolbar_ind in mpl.toolbar_items) {\n",
       "        var name = mpl.toolbar_items[toolbar_ind][0];\n",
       "        var tooltip = mpl.toolbar_items[toolbar_ind][1];\n",
       "        var image = mpl.toolbar_items[toolbar_ind][2];\n",
       "        var method_name = mpl.toolbar_items[toolbar_ind][3];\n",
       "\n",
       "        if (!name) {\n",
       "            // put a spacer in here.\n",
       "            continue;\n",
       "        }\n",
       "        var button = $('<button/>');\n",
       "        button.addClass('ui-button ui-widget ui-state-default ui-corner-all ' +\n",
       "                        'ui-button-icon-only');\n",
       "        button.attr('role', 'button');\n",
       "        button.attr('aria-disabled', 'false');\n",
       "        button.click(method_name, toolbar_event);\n",
       "        button.mouseover(tooltip, toolbar_mouse_event);\n",
       "\n",
       "        var icon_img = $('<span/>');\n",
       "        icon_img.addClass('ui-button-icon-primary ui-icon');\n",
       "        icon_img.addClass(image);\n",
       "        icon_img.addClass('ui-corner-all');\n",
       "\n",
       "        var tooltip_span = $('<span/>');\n",
       "        tooltip_span.addClass('ui-button-text');\n",
       "        tooltip_span.html(tooltip);\n",
       "\n",
       "        button.append(icon_img);\n",
       "        button.append(tooltip_span);\n",
       "\n",
       "        nav_element.append(button);\n",
       "    }\n",
       "\n",
       "    var fmt_picker_span = $('<span/>');\n",
       "\n",
       "    var fmt_picker = $('<select/>');\n",
       "    fmt_picker.addClass('mpl-toolbar-option ui-widget ui-widget-content');\n",
       "    fmt_picker_span.append(fmt_picker);\n",
       "    nav_element.append(fmt_picker_span);\n",
       "    this.format_dropdown = fmt_picker[0];\n",
       "\n",
       "    for (var ind in mpl.extensions) {\n",
       "        var fmt = mpl.extensions[ind];\n",
       "        var option = $(\n",
       "            '<option/>', {selected: fmt === mpl.default_extension}).html(fmt);\n",
       "        fmt_picker.append(option)\n",
       "    }\n",
       "\n",
       "    // Add hover states to the ui-buttons\n",
       "    $( \".ui-button\" ).hover(\n",
       "        function() { $(this).addClass(\"ui-state-hover\");},\n",
       "        function() { $(this).removeClass(\"ui-state-hover\");}\n",
       "    );\n",
       "\n",
       "    var status_bar = $('<span class=\"mpl-message\"/>');\n",
       "    nav_element.append(status_bar);\n",
       "    this.message = status_bar[0];\n",
       "}\n",
       "\n",
       "mpl.figure.prototype.request_resize = function(x_pixels, y_pixels) {\n",
       "    // Request matplotlib to resize the figure. Matplotlib will then trigger a resize in the client,\n",
       "    // which will in turn request a refresh of the image.\n",
       "    this.send_message('resize', {'width': x_pixels, 'height': y_pixels});\n",
       "}\n",
       "\n",
       "mpl.figure.prototype.send_message = function(type, properties) {\n",
       "    properties['type'] = type;\n",
       "    properties['figure_id'] = this.id;\n",
       "    this.ws.send(JSON.stringify(properties));\n",
       "}\n",
       "\n",
       "mpl.figure.prototype.send_draw_message = function() {\n",
       "    if (!this.waiting) {\n",
       "        this.waiting = true;\n",
       "        this.ws.send(JSON.stringify({type: \"draw\", figure_id: this.id}));\n",
       "    }\n",
       "}\n",
       "\n",
       "\n",
       "mpl.figure.prototype.handle_save = function(fig, msg) {\n",
       "    var format_dropdown = fig.format_dropdown;\n",
       "    var format = format_dropdown.options[format_dropdown.selectedIndex].value;\n",
       "    fig.ondownload(fig, format);\n",
       "}\n",
       "\n",
       "\n",
       "mpl.figure.prototype.handle_resize = function(fig, msg) {\n",
       "    var size = msg['size'];\n",
       "    if (size[0] != fig.canvas.width || size[1] != fig.canvas.height) {\n",
       "        fig._resize_canvas(size[0], size[1]);\n",
       "        fig.send_message(\"refresh\", {});\n",
       "    };\n",
       "}\n",
       "\n",
       "mpl.figure.prototype.handle_rubberband = function(fig, msg) {\n",
       "    var x0 = msg['x0'] / mpl.ratio;\n",
       "    var y0 = (fig.canvas.height - msg['y0']) / mpl.ratio;\n",
       "    var x1 = msg['x1'] / mpl.ratio;\n",
       "    var y1 = (fig.canvas.height - msg['y1']) / mpl.ratio;\n",
       "    x0 = Math.floor(x0) + 0.5;\n",
       "    y0 = Math.floor(y0) + 0.5;\n",
       "    x1 = Math.floor(x1) + 0.5;\n",
       "    y1 = Math.floor(y1) + 0.5;\n",
       "    var min_x = Math.min(x0, x1);\n",
       "    var min_y = Math.min(y0, y1);\n",
       "    var width = Math.abs(x1 - x0);\n",
       "    var height = Math.abs(y1 - y0);\n",
       "\n",
       "    fig.rubberband_context.clearRect(\n",
       "        0, 0, fig.canvas.width, fig.canvas.height);\n",
       "\n",
       "    fig.rubberband_context.strokeRect(min_x, min_y, width, height);\n",
       "}\n",
       "\n",
       "mpl.figure.prototype.handle_figure_label = function(fig, msg) {\n",
       "    // Updates the figure title.\n",
       "    fig.header.textContent = msg['label'];\n",
       "}\n",
       "\n",
       "mpl.figure.prototype.handle_cursor = function(fig, msg) {\n",
       "    var cursor = msg['cursor'];\n",
       "    switch(cursor)\n",
       "    {\n",
       "    case 0:\n",
       "        cursor = 'pointer';\n",
       "        break;\n",
       "    case 1:\n",
       "        cursor = 'default';\n",
       "        break;\n",
       "    case 2:\n",
       "        cursor = 'crosshair';\n",
       "        break;\n",
       "    case 3:\n",
       "        cursor = 'move';\n",
       "        break;\n",
       "    }\n",
       "    fig.rubberband_canvas.style.cursor = cursor;\n",
       "}\n",
       "\n",
       "mpl.figure.prototype.handle_message = function(fig, msg) {\n",
       "    fig.message.textContent = msg['message'];\n",
       "}\n",
       "\n",
       "mpl.figure.prototype.handle_draw = function(fig, msg) {\n",
       "    // Request the server to send over a new figure.\n",
       "    fig.send_draw_message();\n",
       "}\n",
       "\n",
       "mpl.figure.prototype.handle_image_mode = function(fig, msg) {\n",
       "    fig.image_mode = msg['mode'];\n",
       "}\n",
       "\n",
       "mpl.figure.prototype.updated_canvas_event = function() {\n",
       "    // Called whenever the canvas gets updated.\n",
       "    this.send_message(\"ack\", {});\n",
       "}\n",
       "\n",
       "// A function to construct a web socket function for onmessage handling.\n",
       "// Called in the figure constructor.\n",
       "mpl.figure.prototype._make_on_message_function = function(fig) {\n",
       "    return function socket_on_message(evt) {\n",
       "        if (evt.data instanceof Blob) {\n",
       "            /* FIXME: We get \"Resource interpreted as Image but\n",
       "             * transferred with MIME type text/plain:\" errors on\n",
       "             * Chrome.  But how to set the MIME type?  It doesn't seem\n",
       "             * to be part of the websocket stream */\n",
       "            evt.data.type = \"image/png\";\n",
       "\n",
       "            /* Free the memory for the previous frames */\n",
       "            if (fig.imageObj.src) {\n",
       "                (window.URL || window.webkitURL).revokeObjectURL(\n",
       "                    fig.imageObj.src);\n",
       "            }\n",
       "\n",
       "            fig.imageObj.src = (window.URL || window.webkitURL).createObjectURL(\n",
       "                evt.data);\n",
       "            fig.updated_canvas_event();\n",
       "            fig.waiting = false;\n",
       "            return;\n",
       "        }\n",
       "        else if (typeof evt.data === 'string' && evt.data.slice(0, 21) == \"data:image/png;base64\") {\n",
       "            fig.imageObj.src = evt.data;\n",
       "            fig.updated_canvas_event();\n",
       "            fig.waiting = false;\n",
       "            return;\n",
       "        }\n",
       "\n",
       "        var msg = JSON.parse(evt.data);\n",
       "        var msg_type = msg['type'];\n",
       "\n",
       "        // Call the  \"handle_{type}\" callback, which takes\n",
       "        // the figure and JSON message as its only arguments.\n",
       "        try {\n",
       "            var callback = fig[\"handle_\" + msg_type];\n",
       "        } catch (e) {\n",
       "            console.log(\"No handler for the '\" + msg_type + \"' message type: \", msg);\n",
       "            return;\n",
       "        }\n",
       "\n",
       "        if (callback) {\n",
       "            try {\n",
       "                // console.log(\"Handling '\" + msg_type + \"' message: \", msg);\n",
       "                callback(fig, msg);\n",
       "            } catch (e) {\n",
       "                console.log(\"Exception inside the 'handler_\" + msg_type + \"' callback:\", e, e.stack, msg);\n",
       "            }\n",
       "        }\n",
       "    };\n",
       "}\n",
       "\n",
       "// from http://stackoverflow.com/questions/1114465/getting-mouse-location-in-canvas\n",
       "mpl.findpos = function(e) {\n",
       "    //this section is from http://www.quirksmode.org/js/events_properties.html\n",
       "    var targ;\n",
       "    if (!e)\n",
       "        e = window.event;\n",
       "    if (e.target)\n",
       "        targ = e.target;\n",
       "    else if (e.srcElement)\n",
       "        targ = e.srcElement;\n",
       "    if (targ.nodeType == 3) // defeat Safari bug\n",
       "        targ = targ.parentNode;\n",
       "\n",
       "    // jQuery normalizes the pageX and pageY\n",
       "    // pageX,Y are the mouse positions relative to the document\n",
       "    // offset() returns the position of the element relative to the document\n",
       "    var x = e.pageX - $(targ).offset().left;\n",
       "    var y = e.pageY - $(targ).offset().top;\n",
       "\n",
       "    return {\"x\": x, \"y\": y};\n",
       "};\n",
       "\n",
       "/*\n",
       " * return a copy of an object with only non-object keys\n",
       " * we need this to avoid circular references\n",
       " * http://stackoverflow.com/a/24161582/3208463\n",
       " */\n",
       "function simpleKeys (original) {\n",
       "  return Object.keys(original).reduce(function (obj, key) {\n",
       "    if (typeof original[key] !== 'object')\n",
       "        obj[key] = original[key]\n",
       "    return obj;\n",
       "  }, {});\n",
       "}\n",
       "\n",
       "mpl.figure.prototype.mouse_event = function(event, name) {\n",
       "    var canvas_pos = mpl.findpos(event)\n",
       "\n",
       "    if (name === 'button_press')\n",
       "    {\n",
       "        this.canvas.focus();\n",
       "        this.canvas_div.focus();\n",
       "    }\n",
       "\n",
       "    var x = canvas_pos.x * mpl.ratio;\n",
       "    var y = canvas_pos.y * mpl.ratio;\n",
       "\n",
       "    this.send_message(name, {x: x, y: y, button: event.button,\n",
       "                             step: event.step,\n",
       "                             guiEvent: simpleKeys(event)});\n",
       "\n",
       "    /* This prevents the web browser from automatically changing to\n",
       "     * the text insertion cursor when the button is pressed.  We want\n",
       "     * to control all of the cursor setting manually through the\n",
       "     * 'cursor' event from matplotlib */\n",
       "    event.preventDefault();\n",
       "    return false;\n",
       "}\n",
       "\n",
       "mpl.figure.prototype._key_event_extra = function(event, name) {\n",
       "    // Handle any extra behaviour associated with a key event\n",
       "}\n",
       "\n",
       "mpl.figure.prototype.key_event = function(event, name) {\n",
       "\n",
       "    // Prevent repeat events\n",
       "    if (name == 'key_press')\n",
       "    {\n",
       "        if (event.which === this._key)\n",
       "            return;\n",
       "        else\n",
       "            this._key = event.which;\n",
       "    }\n",
       "    if (name == 'key_release')\n",
       "        this._key = null;\n",
       "\n",
       "    var value = '';\n",
       "    if (event.ctrlKey && event.which != 17)\n",
       "        value += \"ctrl+\";\n",
       "    if (event.altKey && event.which != 18)\n",
       "        value += \"alt+\";\n",
       "    if (event.shiftKey && event.which != 16)\n",
       "        value += \"shift+\";\n",
       "\n",
       "    value += 'k';\n",
       "    value += event.which.toString();\n",
       "\n",
       "    this._key_event_extra(event, name);\n",
       "\n",
       "    this.send_message(name, {key: value,\n",
       "                             guiEvent: simpleKeys(event)});\n",
       "    return false;\n",
       "}\n",
       "\n",
       "mpl.figure.prototype.toolbar_button_onclick = function(name) {\n",
       "    if (name == 'download') {\n",
       "        this.handle_save(this, null);\n",
       "    } else {\n",
       "        this.send_message(\"toolbar_button\", {name: name});\n",
       "    }\n",
       "};\n",
       "\n",
       "mpl.figure.prototype.toolbar_button_onmouseover = function(tooltip) {\n",
       "    this.message.textContent = tooltip;\n",
       "};\n",
       "mpl.toolbar_items = [[\"Home\", \"Reset original view\", \"fa fa-home icon-home\", \"home\"], [\"Back\", \"Back to  previous view\", \"fa fa-arrow-left icon-arrow-left\", \"back\"], [\"Forward\", \"Forward to next view\", \"fa fa-arrow-right icon-arrow-right\", \"forward\"], [\"\", \"\", \"\", \"\"], [\"Pan\", \"Pan axes with left mouse, zoom with right\", \"fa fa-arrows icon-move\", \"pan\"], [\"Zoom\", \"Zoom to rectangle\", \"fa fa-square-o icon-check-empty\", \"zoom\"], [\"\", \"\", \"\", \"\"], [\"Download\", \"Download plot\", \"fa fa-floppy-o icon-save\", \"download\"]];\n",
       "\n",
       "mpl.extensions = [\"eps\", \"jpeg\", \"pdf\", \"png\", \"ps\", \"raw\", \"svg\", \"tif\"];\n",
       "\n",
       "mpl.default_extension = \"png\";var comm_websocket_adapter = function(comm) {\n",
       "    // Create a \"websocket\"-like object which calls the given IPython comm\n",
       "    // object with the appropriate methods. Currently this is a non binary\n",
       "    // socket, so there is still some room for performance tuning.\n",
       "    var ws = {};\n",
       "\n",
       "    ws.close = function() {\n",
       "        comm.close()\n",
       "    };\n",
       "    ws.send = function(m) {\n",
       "        //console.log('sending', m);\n",
       "        comm.send(m);\n",
       "    };\n",
       "    // Register the callback with on_msg.\n",
       "    comm.on_msg(function(msg) {\n",
       "        //console.log('receiving', msg['content']['data'], msg);\n",
       "        // Pass the mpl event to the overriden (by mpl) onmessage function.\n",
       "        ws.onmessage(msg['content']['data'])\n",
       "    });\n",
       "    return ws;\n",
       "}\n",
       "\n",
       "mpl.mpl_figure_comm = function(comm, msg) {\n",
       "    // This is the function which gets called when the mpl process\n",
       "    // starts-up an IPython Comm through the \"matplotlib\" channel.\n",
       "\n",
       "    var id = msg.content.data.id;\n",
       "    // Get hold of the div created by the display call when the Comm\n",
       "    // socket was opened in Python.\n",
       "    var element = $(\"#\" + id);\n",
       "    var ws_proxy = comm_websocket_adapter(comm)\n",
       "\n",
       "    function ondownload(figure, format) {\n",
       "        window.open(figure.imageObj.src);\n",
       "    }\n",
       "\n",
       "    var fig = new mpl.figure(id, ws_proxy,\n",
       "                           ondownload,\n",
       "                           element.get(0));\n",
       "\n",
       "    // Call onopen now - mpl needs it, as it is assuming we've passed it a real\n",
       "    // web socket which is closed, not our websocket->open comm proxy.\n",
       "    ws_proxy.onopen();\n",
       "\n",
       "    fig.parent_element = element.get(0);\n",
       "    fig.cell_info = mpl.find_output_cell(\"<div id='\" + id + \"'></div>\");\n",
       "    if (!fig.cell_info) {\n",
       "        console.error(\"Failed to find cell for figure\", id, fig);\n",
       "        return;\n",
       "    }\n",
       "\n",
       "    var output_index = fig.cell_info[2]\n",
       "    var cell = fig.cell_info[0];\n",
       "\n",
       "};\n",
       "\n",
       "mpl.figure.prototype.handle_close = function(fig, msg) {\n",
       "    var width = fig.canvas.width/mpl.ratio\n",
       "    fig.root.unbind('remove')\n",
       "\n",
       "    // Update the output cell to use the data from the current canvas.\n",
       "    fig.push_to_output();\n",
       "    var dataURL = fig.canvas.toDataURL();\n",
       "    // Re-enable the keyboard manager in IPython - without this line, in FF,\n",
       "    // the notebook keyboard shortcuts fail.\n",
       "    IPython.keyboard_manager.enable()\n",
       "    $(fig.parent_element).html('<img src=\"' + dataURL + '\" width=\"' + width + '\">');\n",
       "    fig.close_ws(fig, msg);\n",
       "}\n",
       "\n",
       "mpl.figure.prototype.close_ws = function(fig, msg){\n",
       "    fig.send_message('closing', msg);\n",
       "    // fig.ws.close()\n",
       "}\n",
       "\n",
       "mpl.figure.prototype.push_to_output = function(remove_interactive) {\n",
       "    // Turn the data on the canvas into data in the output cell.\n",
       "    var width = this.canvas.width/mpl.ratio\n",
       "    var dataURL = this.canvas.toDataURL();\n",
       "    this.cell_info[1]['text/html'] = '<img src=\"' + dataURL + '\" width=\"' + width + '\">';\n",
       "}\n",
       "\n",
       "mpl.figure.prototype.updated_canvas_event = function() {\n",
       "    // Tell IPython that the notebook contents must change.\n",
       "    IPython.notebook.set_dirty(true);\n",
       "    this.send_message(\"ack\", {});\n",
       "    var fig = this;\n",
       "    // Wait a second, then push the new image to the DOM so\n",
       "    // that it is saved nicely (might be nice to debounce this).\n",
       "    setTimeout(function () { fig.push_to_output() }, 1000);\n",
       "}\n",
       "\n",
       "mpl.figure.prototype._init_toolbar = function() {\n",
       "    var fig = this;\n",
       "\n",
       "    var nav_element = $('<div/>')\n",
       "    nav_element.attr('style', 'width: 100%');\n",
       "    this.root.append(nav_element);\n",
       "\n",
       "    // Define a callback function for later on.\n",
       "    function toolbar_event(event) {\n",
       "        return fig.toolbar_button_onclick(event['data']);\n",
       "    }\n",
       "    function toolbar_mouse_event(event) {\n",
       "        return fig.toolbar_button_onmouseover(event['data']);\n",
       "    }\n",
       "\n",
       "    for(var toolbar_ind in mpl.toolbar_items){\n",
       "        var name = mpl.toolbar_items[toolbar_ind][0];\n",
       "        var tooltip = mpl.toolbar_items[toolbar_ind][1];\n",
       "        var image = mpl.toolbar_items[toolbar_ind][2];\n",
       "        var method_name = mpl.toolbar_items[toolbar_ind][3];\n",
       "\n",
       "        if (!name) { continue; };\n",
       "\n",
       "        var button = $('<button class=\"btn btn-default\" href=\"#\" title=\"' + name + '\"><i class=\"fa ' + image + ' fa-lg\"></i></button>');\n",
       "        button.click(method_name, toolbar_event);\n",
       "        button.mouseover(tooltip, toolbar_mouse_event);\n",
       "        nav_element.append(button);\n",
       "    }\n",
       "\n",
       "    // Add the status bar.\n",
       "    var status_bar = $('<span class=\"mpl-message\" style=\"text-align:right; float: right;\"/>');\n",
       "    nav_element.append(status_bar);\n",
       "    this.message = status_bar[0];\n",
       "\n",
       "    // Add the close button to the window.\n",
       "    var buttongrp = $('<div class=\"btn-group inline pull-right\"></div>');\n",
       "    var button = $('<button class=\"btn btn-mini btn-primary\" href=\"#\" title=\"Stop Interaction\"><i class=\"fa fa-power-off icon-remove icon-large\"></i></button>');\n",
       "    button.click(function (evt) { fig.handle_close(fig, {}); } );\n",
       "    button.mouseover('Stop Interaction', toolbar_mouse_event);\n",
       "    buttongrp.append(button);\n",
       "    var titlebar = this.root.find($('.ui-dialog-titlebar'));\n",
       "    titlebar.prepend(buttongrp);\n",
       "}\n",
       "\n",
       "mpl.figure.prototype._root_extra_style = function(el){\n",
       "    var fig = this\n",
       "    el.on(\"remove\", function(){\n",
       "\tfig.close_ws(fig, {});\n",
       "    });\n",
       "}\n",
       "\n",
       "mpl.figure.prototype._canvas_extra_style = function(el){\n",
       "    // this is important to make the div 'focusable\n",
       "    el.attr('tabindex', 0)\n",
       "    // reach out to IPython and tell the keyboard manager to turn it's self\n",
       "    // off when our div gets focus\n",
       "\n",
       "    // location in version 3\n",
       "    if (IPython.notebook.keyboard_manager) {\n",
       "        IPython.notebook.keyboard_manager.register_events(el);\n",
       "    }\n",
       "    else {\n",
       "        // location in version 2\n",
       "        IPython.keyboard_manager.register_events(el);\n",
       "    }\n",
       "\n",
       "}\n",
       "\n",
       "mpl.figure.prototype._key_event_extra = function(event, name) {\n",
       "    var manager = IPython.notebook.keyboard_manager;\n",
       "    if (!manager)\n",
       "        manager = IPython.keyboard_manager;\n",
       "\n",
       "    // Check for shift+enter\n",
       "    if (event.shiftKey && event.which == 13) {\n",
       "        this.canvas_div.blur();\n",
       "        // select the cell after this one\n",
       "        var index = IPython.notebook.find_cell_index(this.cell_info[0]);\n",
       "        IPython.notebook.select(index + 1);\n",
       "    }\n",
       "}\n",
       "\n",
       "mpl.figure.prototype.handle_save = function(fig, msg) {\n",
       "    fig.ondownload(fig, null);\n",
       "}\n",
       "\n",
       "\n",
       "mpl.find_output_cell = function(html_output) {\n",
       "    // Return the cell and output element which can be found *uniquely* in the notebook.\n",
       "    // Note - this is a bit hacky, but it is done because the \"notebook_saving.Notebook\"\n",
       "    // IPython event is triggered only after the cells have been serialised, which for\n",
       "    // our purposes (turning an active figure into a static one), is too late.\n",
       "    var cells = IPython.notebook.get_cells();\n",
       "    var ncells = cells.length;\n",
       "    for (var i=0; i<ncells; i++) {\n",
       "        var cell = cells[i];\n",
       "        if (cell.cell_type === 'code'){\n",
       "            for (var j=0; j<cell.output_area.outputs.length; j++) {\n",
       "                var data = cell.output_area.outputs[j];\n",
       "                if (data.data) {\n",
       "                    // IPython >= 3 moved mimebundle to data attribute of output\n",
       "                    data = data.data;\n",
       "                }\n",
       "                if (data['text/html'] == html_output) {\n",
       "                    return [cell, data, j];\n",
       "                }\n",
       "            }\n",
       "        }\n",
       "    }\n",
       "}\n",
       "\n",
       "// Register the function which deals with the matplotlib target/channel.\n",
       "// The kernel may be null if the page has been refreshed.\n",
       "if (IPython.notebook.kernel != null) {\n",
       "    IPython.notebook.kernel.comm_manager.register_target('matplotlib', mpl.mpl_figure_comm);\n",
       "}\n"
      ],
      "text/plain": [
       "<IPython.core.display.Javascript object>"
      ]
     },
     "metadata": {},
     "output_type": "display_data"
    },
    {
     "data": {
      "text/html": [
       "<img src=\"data:image/png;base64,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\" width=\"640\">"
      ],
      "text/plain": [
       "<IPython.core.display.HTML object>"
      ]
     },
     "metadata": {},
     "output_type": "display_data"
    }
   ],
   "source": [
    "a = ca.read_amplicon('../calour/tests/data/test2.biom', '../calour/tests/data/test2.sample', feature_metadata_file='../calour/tests/data/test2.feature', min_reads=100, normalize=1000)\n",
    "b = a.plot(sample_field='group', feature_field='taxonomy', feature_color_bars=['oxygen'], \n",
    "           cmap='viridis', barwidth=0.6,\n",
    "           label_kwargs={'color': 'black', 'fontsize': 12},\n",
    "           feature_highlight_colors={'anaerobic':'#FF0000',\n",
    "                                     'aerobic':'#00FFFF'});"
   ]
  },
  {
   "cell_type": "code",
   "execution_count": null,
   "metadata": {
    "collapsed": true
   },
   "outputs": [],
   "source": []
  }
 ],
 "metadata": {
  "anaconda-cloud": {},
  "kernelspec": {
   "display_name": "Python 3",
   "language": "python",
   "name": "python3"
  },
  "language_info": {
   "codemirror_mode": {
    "name": "ipython",
    "version": 3
   },
   "file_extension": ".py",
   "mimetype": "text/x-python",
   "name": "python",
   "nbconvert_exporter": "python",
   "pygments_lexer": "ipython3",
   "version": "3.5.3"
  },
  "notify_time": "30",
  "toc": {
   "colors": {
    "hover_highlight": "#DAA520",
    "running_highlight": "#FF0000",
    "selected_highlight": "#FFD700"
   },
   "moveMenuLeft": true,
   "nav_menu": {
    "height": "48px",
    "width": "251px"
   },
   "navigate_menu": true,
   "number_sections": true,
   "sideBar": true,
   "threshold": 4,
   "toc_cell": false,
   "toc_section_display": "block",
   "toc_window_display": false,
   "widenNotebook": false
  },
  "widgets": {
   "state": {
    "0b6bad1bcd304677a1306f95241466c3": {
     "views": [
      {
       "cell_index": 18
      }
     ]
    },
    "0bc0bfaa297240ea8e8e2c48507c1ac0": {
     "views": [
      {
       "cell_index": 5
      }
     ]
    },
    "0ef0bf37a1a345e1b2a87d649e464aff": {
     "views": [
      {
       "cell_index": 18
      }
     ]
    },
    "168ee1bc584b47cf971745ce6318a8e0": {
     "views": [
      {
       "cell_index": 3
      }
     ]
    },
    "2d1a6bba09c1490ab01913f697cb06dd": {
     "views": [
      {
       "cell_index": 5
      }
     ]
    },
    "39f3d478c74c4c7b9873de1cefc82138": {
     "views": [
      {
       "cell_index": 5
      }
     ]
    },
    "60389af4c486472d9faf946bef0871d3": {
     "views": [
      {
       "cell_index": 18
      }
     ]
    },
    "605c4fbdd2db46268f505040797c1e10": {
     "views": [
      {
       "cell_index": 20
      }
     ]
    },
    "62f9bc9d23ff43adb7b54d844ea3ae45": {
     "views": [
      {
       "cell_index": 18
      }
     ]
    },
    "638be1e67a114e11bedfdd861c4c2cc7": {
     "views": [
      {
       "cell_index": 18
      }
     ]
    },
    "65ad1a0314b74adf81274a386cc203f4": {
     "views": [
      {
       "cell_index": 18
      }
     ]
    },
    "6a1ac39c1e13475aaf5ea873229780ae": {
     "views": [
      {
       "cell_index": 3
      }
     ]
    },
    "79222c9ee1224347bad3c231c9a6cc96": {
     "views": [
      {
       "cell_index": 19
      }
     ]
    },
    "7b1ca8359aa84a3abd2a2011eac02ebb": {
     "views": [
      {
       "cell_index": 19
      }
     ]
    },
    "81294fe7dfda40b1a6504a047d228391": {
     "views": [
      {
       "cell_index": 19
      }
     ]
    },
    "8846b2a3b29f451ca4c15a29643e6492": {
     "views": [
      {
       "cell_index": 3
      }
     ]
    },
    "8a43cceb5b0c4925bc95933b709ee085": {
     "views": [
      {
       "cell_index": 5
      }
     ]
    },
    "8e59e74102a14de0a7bdafc848ea07f8": {
     "views": [
      {
       "cell_index": 5
      }
     ]
    },
    "929d32d2a7454cb097abc74320d23b58": {
     "views": [
      {
       "cell_index": 3
      }
     ]
    },
    "99004fd3a25640c4bf6f35108b3f1476": {
     "views": [
      {
       "cell_index": 3
      }
     ]
    },
    "a7f9786066e64fa0b03f1b00debd94eb": {
     "views": [
      {
       "cell_index": 5
      }
     ]
    },
    "ace8ce9250f247b2a3901f720c6b565f": {
     "views": [
      {
       "cell_index": 20
      }
     ]
    },
    "b1d0152a191a435fbb35870333d9492a": {
     "views": [
      {
       "cell_index": 3
      }
     ]
    },
    "b285eb9be8434ec984cd298b76a6233c": {
     "views": [
      {
       "cell_index": 19
      }
     ]
    },
    "b5068e54cad4423d8c2c72ffe9a38f23": {
     "views": [
      {
       "cell_index": 19
      }
     ]
    },
    "b78e9da8b2dd44ffb202a7194c33046b": {
     "views": [
      {
       "cell_index": 20
      }
     ]
    },
    "cd05e31db1df4dd4a15dd69a043800ce": {
     "views": [
      {
       "cell_index": 20
      }
     ]
    },
    "db3976606b924a638a4b1cea570540c3": {
     "views": [
      {
       "cell_index": 20
      }
     ]
    },
    "f53bb7ffedfe468884f015f9c503f680": {
     "views": [
      {
       "cell_index": 19
      }
     ]
    },
    "ffa9d23f60be4d13a5da44c4c76e13d7": {
     "views": [
      {
       "cell_index": 20
      }
     ]
    }
   },
   "version": "1.2.0"
  }
 },
 "nbformat": 4,
 "nbformat_minor": 1
}
