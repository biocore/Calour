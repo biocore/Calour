{
 "cells": [
  {
   "cell_type": "code",
   "execution_count": 1,
   "metadata": {},
   "outputs": [],
   "source": [
    "%matplotlib notebook\n",
    "import calour as ca\n",
    "import matplotlib as mpl"
   ]
  },
  {
   "cell_type": "markdown",
   "metadata": {},
   "source": [
    "# Simple Cases"
   ]
  },
  {
   "cell_type": "code",
   "execution_count": 5,
   "metadata": {},
   "outputs": [
    {
     "data": {
      "text/plain": [
       "scipy.sparse.csc.csc_matrix"
      ]
     },
     "execution_count": 5,
     "metadata": {},
     "output_type": "execute_result"
    }
   ],
   "source": [
    "type(a.data)"
   ]
  },
  {
   "cell_type": "code",
   "execution_count": 2,
   "metadata": {
    "scrolled": false
   },
   "outputs": [
    {
     "data": {
      "application/javascript": [
       "/* Put everything inside the global mpl namespace */\n",
       "window.mpl = {};\n",
       "\n",
       "\n",
       "mpl.get_websocket_type = function() {\n",
       "    if (typeof(WebSocket) !== 'undefined') {\n",
       "        return WebSocket;\n",
       "    } else if (typeof(MozWebSocket) !== 'undefined') {\n",
       "        return MozWebSocket;\n",
       "    } else {\n",
       "        alert('Your browser does not have WebSocket support.' +\n",
       "              'Please try Chrome, Safari or Firefox ≥ 6. ' +\n",
       "              'Firefox 4 and 5 are also supported but you ' +\n",
       "              'have to enable WebSockets in about:config.');\n",
       "    };\n",
       "}\n",
       "\n",
       "mpl.figure = function(figure_id, websocket, ondownload, parent_element) {\n",
       "    this.id = figure_id;\n",
       "\n",
       "    this.ws = websocket;\n",
       "\n",
       "    this.supports_binary = (this.ws.binaryType != undefined);\n",
       "\n",
       "    if (!this.supports_binary) {\n",
       "        var warnings = document.getElementById(\"mpl-warnings\");\n",
       "        if (warnings) {\n",
       "            warnings.style.display = 'block';\n",
       "            warnings.textContent = (\n",
       "                \"This browser does not support binary websocket messages. \" +\n",
       "                    \"Performance may be slow.\");\n",
       "        }\n",
       "    }\n",
       "\n",
       "    this.imageObj = new Image();\n",
       "\n",
       "    this.context = undefined;\n",
       "    this.message = undefined;\n",
       "    this.canvas = undefined;\n",
       "    this.rubberband_canvas = undefined;\n",
       "    this.rubberband_context = undefined;\n",
       "    this.format_dropdown = undefined;\n",
       "\n",
       "    this.image_mode = 'full';\n",
       "\n",
       "    this.root = $('<div/>');\n",
       "    this._root_extra_style(this.root)\n",
       "    this.root.attr('style', 'display: inline-block');\n",
       "\n",
       "    $(parent_element).append(this.root);\n",
       "\n",
       "    this._init_header(this);\n",
       "    this._init_canvas(this);\n",
       "    this._init_toolbar(this);\n",
       "\n",
       "    var fig = this;\n",
       "\n",
       "    this.waiting = false;\n",
       "\n",
       "    this.ws.onopen =  function () {\n",
       "            fig.send_message(\"supports_binary\", {value: fig.supports_binary});\n",
       "            fig.send_message(\"send_image_mode\", {});\n",
       "            if (mpl.ratio != 1) {\n",
       "                fig.send_message(\"set_dpi_ratio\", {'dpi_ratio': mpl.ratio});\n",
       "            }\n",
       "            fig.send_message(\"refresh\", {});\n",
       "        }\n",
       "\n",
       "    this.imageObj.onload = function() {\n",
       "            if (fig.image_mode == 'full') {\n",
       "                // Full images could contain transparency (where diff images\n",
       "                // almost always do), so we need to clear the canvas so that\n",
       "                // there is no ghosting.\n",
       "                fig.context.clearRect(0, 0, fig.canvas.width, fig.canvas.height);\n",
       "            }\n",
       "            fig.context.drawImage(fig.imageObj, 0, 0);\n",
       "        };\n",
       "\n",
       "    this.imageObj.onunload = function() {\n",
       "        this.ws.close();\n",
       "    }\n",
       "\n",
       "    this.ws.onmessage = this._make_on_message_function(this);\n",
       "\n",
       "    this.ondownload = ondownload;\n",
       "}\n",
       "\n",
       "mpl.figure.prototype._init_header = function() {\n",
       "    var titlebar = $(\n",
       "        '<div class=\"ui-dialog-titlebar ui-widget-header ui-corner-all ' +\n",
       "        'ui-helper-clearfix\"/>');\n",
       "    var titletext = $(\n",
       "        '<div class=\"ui-dialog-title\" style=\"width: 100%; ' +\n",
       "        'text-align: center; padding: 3px;\"/>');\n",
       "    titlebar.append(titletext)\n",
       "    this.root.append(titlebar);\n",
       "    this.header = titletext[0];\n",
       "}\n",
       "\n",
       "\n",
       "\n",
       "mpl.figure.prototype._canvas_extra_style = function(canvas_div) {\n",
       "\n",
       "}\n",
       "\n",
       "\n",
       "mpl.figure.prototype._root_extra_style = function(canvas_div) {\n",
       "\n",
       "}\n",
       "\n",
       "mpl.figure.prototype._init_canvas = function() {\n",
       "    var fig = this;\n",
       "\n",
       "    var canvas_div = $('<div/>');\n",
       "\n",
       "    canvas_div.attr('style', 'position: relative; clear: both; outline: 0');\n",
       "\n",
       "    function canvas_keyboard_event(event) {\n",
       "        return fig.key_event(event, event['data']);\n",
       "    }\n",
       "\n",
       "    canvas_div.keydown('key_press', canvas_keyboard_event);\n",
       "    canvas_div.keyup('key_release', canvas_keyboard_event);\n",
       "    this.canvas_div = canvas_div\n",
       "    this._canvas_extra_style(canvas_div)\n",
       "    this.root.append(canvas_div);\n",
       "\n",
       "    var canvas = $('<canvas/>');\n",
       "    canvas.addClass('mpl-canvas');\n",
       "    canvas.attr('style', \"left: 0; top: 0; z-index: 0; outline: 0\")\n",
       "\n",
       "    this.canvas = canvas[0];\n",
       "    this.context = canvas[0].getContext(\"2d\");\n",
       "\n",
       "    var backingStore = this.context.backingStorePixelRatio ||\n",
       "\tthis.context.webkitBackingStorePixelRatio ||\n",
       "\tthis.context.mozBackingStorePixelRatio ||\n",
       "\tthis.context.msBackingStorePixelRatio ||\n",
       "\tthis.context.oBackingStorePixelRatio ||\n",
       "\tthis.context.backingStorePixelRatio || 1;\n",
       "\n",
       "    mpl.ratio = (window.devicePixelRatio || 1) / backingStore;\n",
       "\n",
       "    var rubberband = $('<canvas/>');\n",
       "    rubberband.attr('style', \"position: absolute; left: 0; top: 0; z-index: 1;\")\n",
       "\n",
       "    var pass_mouse_events = true;\n",
       "\n",
       "    canvas_div.resizable({\n",
       "        start: function(event, ui) {\n",
       "            pass_mouse_events = false;\n",
       "        },\n",
       "        resize: function(event, ui) {\n",
       "            fig.request_resize(ui.size.width, ui.size.height);\n",
       "        },\n",
       "        stop: function(event, ui) {\n",
       "            pass_mouse_events = true;\n",
       "            fig.request_resize(ui.size.width, ui.size.height);\n",
       "        },\n",
       "    });\n",
       "\n",
       "    function mouse_event_fn(event) {\n",
       "        if (pass_mouse_events)\n",
       "            return fig.mouse_event(event, event['data']);\n",
       "    }\n",
       "\n",
       "    rubberband.mousedown('button_press', mouse_event_fn);\n",
       "    rubberband.mouseup('button_release', mouse_event_fn);\n",
       "    // Throttle sequential mouse events to 1 every 20ms.\n",
       "    rubberband.mousemove('motion_notify', mouse_event_fn);\n",
       "\n",
       "    rubberband.mouseenter('figure_enter', mouse_event_fn);\n",
       "    rubberband.mouseleave('figure_leave', mouse_event_fn);\n",
       "\n",
       "    canvas_div.on(\"wheel\", function (event) {\n",
       "        event = event.originalEvent;\n",
       "        event['data'] = 'scroll'\n",
       "        if (event.deltaY < 0) {\n",
       "            event.step = 1;\n",
       "        } else {\n",
       "            event.step = -1;\n",
       "        }\n",
       "        mouse_event_fn(event);\n",
       "    });\n",
       "\n",
       "    canvas_div.append(canvas);\n",
       "    canvas_div.append(rubberband);\n",
       "\n",
       "    this.rubberband = rubberband;\n",
       "    this.rubberband_canvas = rubberband[0];\n",
       "    this.rubberband_context = rubberband[0].getContext(\"2d\");\n",
       "    this.rubberband_context.strokeStyle = \"#000000\";\n",
       "\n",
       "    this._resize_canvas = function(width, height) {\n",
       "        // Keep the size of the canvas, canvas container, and rubber band\n",
       "        // canvas in synch.\n",
       "        canvas_div.css('width', width)\n",
       "        canvas_div.css('height', height)\n",
       "\n",
       "        canvas.attr('width', width * mpl.ratio);\n",
       "        canvas.attr('height', height * mpl.ratio);\n",
       "        canvas.attr('style', 'width: ' + width + 'px; height: ' + height + 'px;');\n",
       "\n",
       "        rubberband.attr('width', width);\n",
       "        rubberband.attr('height', height);\n",
       "    }\n",
       "\n",
       "    // Set the figure to an initial 600x600px, this will subsequently be updated\n",
       "    // upon first draw.\n",
       "    this._resize_canvas(600, 600);\n",
       "\n",
       "    // Disable right mouse context menu.\n",
       "    $(this.rubberband_canvas).bind(\"contextmenu\",function(e){\n",
       "        return false;\n",
       "    });\n",
       "\n",
       "    function set_focus () {\n",
       "        canvas.focus();\n",
       "        canvas_div.focus();\n",
       "    }\n",
       "\n",
       "    window.setTimeout(set_focus, 100);\n",
       "}\n",
       "\n",
       "mpl.figure.prototype._init_toolbar = function() {\n",
       "    var fig = this;\n",
       "\n",
       "    var nav_element = $('<div/>')\n",
       "    nav_element.attr('style', 'width: 100%');\n",
       "    this.root.append(nav_element);\n",
       "\n",
       "    // Define a callback function for later on.\n",
       "    function toolbar_event(event) {\n",
       "        return fig.toolbar_button_onclick(event['data']);\n",
       "    }\n",
       "    function toolbar_mouse_event(event) {\n",
       "        return fig.toolbar_button_onmouseover(event['data']);\n",
       "    }\n",
       "\n",
       "    for(var toolbar_ind in mpl.toolbar_items) {\n",
       "        var name = mpl.toolbar_items[toolbar_ind][0];\n",
       "        var tooltip = mpl.toolbar_items[toolbar_ind][1];\n",
       "        var image = mpl.toolbar_items[toolbar_ind][2];\n",
       "        var method_name = mpl.toolbar_items[toolbar_ind][3];\n",
       "\n",
       "        if (!name) {\n",
       "            // put a spacer in here.\n",
       "            continue;\n",
       "        }\n",
       "        var button = $('<button/>');\n",
       "        button.addClass('ui-button ui-widget ui-state-default ui-corner-all ' +\n",
       "                        'ui-button-icon-only');\n",
       "        button.attr('role', 'button');\n",
       "        button.attr('aria-disabled', 'false');\n",
       "        button.click(method_name, toolbar_event);\n",
       "        button.mouseover(tooltip, toolbar_mouse_event);\n",
       "\n",
       "        var icon_img = $('<span/>');\n",
       "        icon_img.addClass('ui-button-icon-primary ui-icon');\n",
       "        icon_img.addClass(image);\n",
       "        icon_img.addClass('ui-corner-all');\n",
       "\n",
       "        var tooltip_span = $('<span/>');\n",
       "        tooltip_span.addClass('ui-button-text');\n",
       "        tooltip_span.html(tooltip);\n",
       "\n",
       "        button.append(icon_img);\n",
       "        button.append(tooltip_span);\n",
       "\n",
       "        nav_element.append(button);\n",
       "    }\n",
       "\n",
       "    var fmt_picker_span = $('<span/>');\n",
       "\n",
       "    var fmt_picker = $('<select/>');\n",
       "    fmt_picker.addClass('mpl-toolbar-option ui-widget ui-widget-content');\n",
       "    fmt_picker_span.append(fmt_picker);\n",
       "    nav_element.append(fmt_picker_span);\n",
       "    this.format_dropdown = fmt_picker[0];\n",
       "\n",
       "    for (var ind in mpl.extensions) {\n",
       "        var fmt = mpl.extensions[ind];\n",
       "        var option = $(\n",
       "            '<option/>', {selected: fmt === mpl.default_extension}).html(fmt);\n",
       "        fmt_picker.append(option)\n",
       "    }\n",
       "\n",
       "    // Add hover states to the ui-buttons\n",
       "    $( \".ui-button\" ).hover(\n",
       "        function() { $(this).addClass(\"ui-state-hover\");},\n",
       "        function() { $(this).removeClass(\"ui-state-hover\");}\n",
       "    );\n",
       "\n",
       "    var status_bar = $('<span class=\"mpl-message\"/>');\n",
       "    nav_element.append(status_bar);\n",
       "    this.message = status_bar[0];\n",
       "}\n",
       "\n",
       "mpl.figure.prototype.request_resize = function(x_pixels, y_pixels) {\n",
       "    // Request matplotlib to resize the figure. Matplotlib will then trigger a resize in the client,\n",
       "    // which will in turn request a refresh of the image.\n",
       "    this.send_message('resize', {'width': x_pixels, 'height': y_pixels});\n",
       "}\n",
       "\n",
       "mpl.figure.prototype.send_message = function(type, properties) {\n",
       "    properties['type'] = type;\n",
       "    properties['figure_id'] = this.id;\n",
       "    this.ws.send(JSON.stringify(properties));\n",
       "}\n",
       "\n",
       "mpl.figure.prototype.send_draw_message = function() {\n",
       "    if (!this.waiting) {\n",
       "        this.waiting = true;\n",
       "        this.ws.send(JSON.stringify({type: \"draw\", figure_id: this.id}));\n",
       "    }\n",
       "}\n",
       "\n",
       "\n",
       "mpl.figure.prototype.handle_save = function(fig, msg) {\n",
       "    var format_dropdown = fig.format_dropdown;\n",
       "    var format = format_dropdown.options[format_dropdown.selectedIndex].value;\n",
       "    fig.ondownload(fig, format);\n",
       "}\n",
       "\n",
       "\n",
       "mpl.figure.prototype.handle_resize = function(fig, msg) {\n",
       "    var size = msg['size'];\n",
       "    if (size[0] != fig.canvas.width || size[1] != fig.canvas.height) {\n",
       "        fig._resize_canvas(size[0], size[1]);\n",
       "        fig.send_message(\"refresh\", {});\n",
       "    };\n",
       "}\n",
       "\n",
       "mpl.figure.prototype.handle_rubberband = function(fig, msg) {\n",
       "    var x0 = msg['x0'] / mpl.ratio;\n",
       "    var y0 = (fig.canvas.height - msg['y0']) / mpl.ratio;\n",
       "    var x1 = msg['x1'] / mpl.ratio;\n",
       "    var y1 = (fig.canvas.height - msg['y1']) / mpl.ratio;\n",
       "    x0 = Math.floor(x0) + 0.5;\n",
       "    y0 = Math.floor(y0) + 0.5;\n",
       "    x1 = Math.floor(x1) + 0.5;\n",
       "    y1 = Math.floor(y1) + 0.5;\n",
       "    var min_x = Math.min(x0, x1);\n",
       "    var min_y = Math.min(y0, y1);\n",
       "    var width = Math.abs(x1 - x0);\n",
       "    var height = Math.abs(y1 - y0);\n",
       "\n",
       "    fig.rubberband_context.clearRect(\n",
       "        0, 0, fig.canvas.width, fig.canvas.height);\n",
       "\n",
       "    fig.rubberband_context.strokeRect(min_x, min_y, width, height);\n",
       "}\n",
       "\n",
       "mpl.figure.prototype.handle_figure_label = function(fig, msg) {\n",
       "    // Updates the figure title.\n",
       "    fig.header.textContent = msg['label'];\n",
       "}\n",
       "\n",
       "mpl.figure.prototype.handle_cursor = function(fig, msg) {\n",
       "    var cursor = msg['cursor'];\n",
       "    switch(cursor)\n",
       "    {\n",
       "    case 0:\n",
       "        cursor = 'pointer';\n",
       "        break;\n",
       "    case 1:\n",
       "        cursor = 'default';\n",
       "        break;\n",
       "    case 2:\n",
       "        cursor = 'crosshair';\n",
       "        break;\n",
       "    case 3:\n",
       "        cursor = 'move';\n",
       "        break;\n",
       "    }\n",
       "    fig.rubberband_canvas.style.cursor = cursor;\n",
       "}\n",
       "\n",
       "mpl.figure.prototype.handle_message = function(fig, msg) {\n",
       "    fig.message.textContent = msg['message'];\n",
       "}\n",
       "\n",
       "mpl.figure.prototype.handle_draw = function(fig, msg) {\n",
       "    // Request the server to send over a new figure.\n",
       "    fig.send_draw_message();\n",
       "}\n",
       "\n",
       "mpl.figure.prototype.handle_image_mode = function(fig, msg) {\n",
       "    fig.image_mode = msg['mode'];\n",
       "}\n",
       "\n",
       "mpl.figure.prototype.updated_canvas_event = function() {\n",
       "    // Called whenever the canvas gets updated.\n",
       "    this.send_message(\"ack\", {});\n",
       "}\n",
       "\n",
       "// A function to construct a web socket function for onmessage handling.\n",
       "// Called in the figure constructor.\n",
       "mpl.figure.prototype._make_on_message_function = function(fig) {\n",
       "    return function socket_on_message(evt) {\n",
       "        if (evt.data instanceof Blob) {\n",
       "            /* FIXME: We get \"Resource interpreted as Image but\n",
       "             * transferred with MIME type text/plain:\" errors on\n",
       "             * Chrome.  But how to set the MIME type?  It doesn't seem\n",
       "             * to be part of the websocket stream */\n",
       "            evt.data.type = \"image/png\";\n",
       "\n",
       "            /* Free the memory for the previous frames */\n",
       "            if (fig.imageObj.src) {\n",
       "                (window.URL || window.webkitURL).revokeObjectURL(\n",
       "                    fig.imageObj.src);\n",
       "            }\n",
       "\n",
       "            fig.imageObj.src = (window.URL || window.webkitURL).createObjectURL(\n",
       "                evt.data);\n",
       "            fig.updated_canvas_event();\n",
       "            fig.waiting = false;\n",
       "            return;\n",
       "        }\n",
       "        else if (typeof evt.data === 'string' && evt.data.slice(0, 21) == \"data:image/png;base64\") {\n",
       "            fig.imageObj.src = evt.data;\n",
       "            fig.updated_canvas_event();\n",
       "            fig.waiting = false;\n",
       "            return;\n",
       "        }\n",
       "\n",
       "        var msg = JSON.parse(evt.data);\n",
       "        var msg_type = msg['type'];\n",
       "\n",
       "        // Call the  \"handle_{type}\" callback, which takes\n",
       "        // the figure and JSON message as its only arguments.\n",
       "        try {\n",
       "            var callback = fig[\"handle_\" + msg_type];\n",
       "        } catch (e) {\n",
       "            console.log(\"No handler for the '\" + msg_type + \"' message type: \", msg);\n",
       "            return;\n",
       "        }\n",
       "\n",
       "        if (callback) {\n",
       "            try {\n",
       "                // console.log(\"Handling '\" + msg_type + \"' message: \", msg);\n",
       "                callback(fig, msg);\n",
       "            } catch (e) {\n",
       "                console.log(\"Exception inside the 'handler_\" + msg_type + \"' callback:\", e, e.stack, msg);\n",
       "            }\n",
       "        }\n",
       "    };\n",
       "}\n",
       "\n",
       "// from http://stackoverflow.com/questions/1114465/getting-mouse-location-in-canvas\n",
       "mpl.findpos = function(e) {\n",
       "    //this section is from http://www.quirksmode.org/js/events_properties.html\n",
       "    var targ;\n",
       "    if (!e)\n",
       "        e = window.event;\n",
       "    if (e.target)\n",
       "        targ = e.target;\n",
       "    else if (e.srcElement)\n",
       "        targ = e.srcElement;\n",
       "    if (targ.nodeType == 3) // defeat Safari bug\n",
       "        targ = targ.parentNode;\n",
       "\n",
       "    // jQuery normalizes the pageX and pageY\n",
       "    // pageX,Y are the mouse positions relative to the document\n",
       "    // offset() returns the position of the element relative to the document\n",
       "    var x = e.pageX - $(targ).offset().left;\n",
       "    var y = e.pageY - $(targ).offset().top;\n",
       "\n",
       "    return {\"x\": x, \"y\": y};\n",
       "};\n",
       "\n",
       "/*\n",
       " * return a copy of an object with only non-object keys\n",
       " * we need this to avoid circular references\n",
       " * http://stackoverflow.com/a/24161582/3208463\n",
       " */\n",
       "function simpleKeys (original) {\n",
       "  return Object.keys(original).reduce(function (obj, key) {\n",
       "    if (typeof original[key] !== 'object')\n",
       "        obj[key] = original[key]\n",
       "    return obj;\n",
       "  }, {});\n",
       "}\n",
       "\n",
       "mpl.figure.prototype.mouse_event = function(event, name) {\n",
       "    var canvas_pos = mpl.findpos(event)\n",
       "\n",
       "    if (name === 'button_press')\n",
       "    {\n",
       "        this.canvas.focus();\n",
       "        this.canvas_div.focus();\n",
       "    }\n",
       "\n",
       "    var x = canvas_pos.x * mpl.ratio;\n",
       "    var y = canvas_pos.y * mpl.ratio;\n",
       "\n",
       "    this.send_message(name, {x: x, y: y, button: event.button,\n",
       "                             step: event.step,\n",
       "                             guiEvent: simpleKeys(event)});\n",
       "\n",
       "    /* This prevents the web browser from automatically changing to\n",
       "     * the text insertion cursor when the button is pressed.  We want\n",
       "     * to control all of the cursor setting manually through the\n",
       "     * 'cursor' event from matplotlib */\n",
       "    event.preventDefault();\n",
       "    return false;\n",
       "}\n",
       "\n",
       "mpl.figure.prototype._key_event_extra = function(event, name) {\n",
       "    // Handle any extra behaviour associated with a key event\n",
       "}\n",
       "\n",
       "mpl.figure.prototype.key_event = function(event, name) {\n",
       "\n",
       "    // Prevent repeat events\n",
       "    if (name == 'key_press')\n",
       "    {\n",
       "        if (event.which === this._key)\n",
       "            return;\n",
       "        else\n",
       "            this._key = event.which;\n",
       "    }\n",
       "    if (name == 'key_release')\n",
       "        this._key = null;\n",
       "\n",
       "    var value = '';\n",
       "    if (event.ctrlKey && event.which != 17)\n",
       "        value += \"ctrl+\";\n",
       "    if (event.altKey && event.which != 18)\n",
       "        value += \"alt+\";\n",
       "    if (event.shiftKey && event.which != 16)\n",
       "        value += \"shift+\";\n",
       "\n",
       "    value += 'k';\n",
       "    value += event.which.toString();\n",
       "\n",
       "    this._key_event_extra(event, name);\n",
       "\n",
       "    this.send_message(name, {key: value,\n",
       "                             guiEvent: simpleKeys(event)});\n",
       "    return false;\n",
       "}\n",
       "\n",
       "mpl.figure.prototype.toolbar_button_onclick = function(name) {\n",
       "    if (name == 'download') {\n",
       "        this.handle_save(this, null);\n",
       "    } else {\n",
       "        this.send_message(\"toolbar_button\", {name: name});\n",
       "    }\n",
       "};\n",
       "\n",
       "mpl.figure.prototype.toolbar_button_onmouseover = function(tooltip) {\n",
       "    this.message.textContent = tooltip;\n",
       "};\n",
       "mpl.toolbar_items = [[\"Home\", \"Reset original view\", \"fa fa-home icon-home\", \"home\"], [\"Back\", \"Back to  previous view\", \"fa fa-arrow-left icon-arrow-left\", \"back\"], [\"Forward\", \"Forward to next view\", \"fa fa-arrow-right icon-arrow-right\", \"forward\"], [\"\", \"\", \"\", \"\"], [\"Pan\", \"Pan axes with left mouse, zoom with right\", \"fa fa-arrows icon-move\", \"pan\"], [\"Zoom\", \"Zoom to rectangle\", \"fa fa-square-o icon-check-empty\", \"zoom\"], [\"\", \"\", \"\", \"\"], [\"Download\", \"Download plot\", \"fa fa-floppy-o icon-save\", \"download\"]];\n",
       "\n",
       "mpl.extensions = [\"eps\", \"pdf\", \"png\", \"ps\", \"raw\", \"svg\"];\n",
       "\n",
       "mpl.default_extension = \"png\";var comm_websocket_adapter = function(comm) {\n",
       "    // Create a \"websocket\"-like object which calls the given IPython comm\n",
       "    // object with the appropriate methods. Currently this is a non binary\n",
       "    // socket, so there is still some room for performance tuning.\n",
       "    var ws = {};\n",
       "\n",
       "    ws.close = function() {\n",
       "        comm.close()\n",
       "    };\n",
       "    ws.send = function(m) {\n",
       "        //console.log('sending', m);\n",
       "        comm.send(m);\n",
       "    };\n",
       "    // Register the callback with on_msg.\n",
       "    comm.on_msg(function(msg) {\n",
       "        //console.log('receiving', msg['content']['data'], msg);\n",
       "        // Pass the mpl event to the overriden (by mpl) onmessage function.\n",
       "        ws.onmessage(msg['content']['data'])\n",
       "    });\n",
       "    return ws;\n",
       "}\n",
       "\n",
       "mpl.mpl_figure_comm = function(comm, msg) {\n",
       "    // This is the function which gets called when the mpl process\n",
       "    // starts-up an IPython Comm through the \"matplotlib\" channel.\n",
       "\n",
       "    var id = msg.content.data.id;\n",
       "    // Get hold of the div created by the display call when the Comm\n",
       "    // socket was opened in Python.\n",
       "    var element = $(\"#\" + id);\n",
       "    var ws_proxy = comm_websocket_adapter(comm)\n",
       "\n",
       "    function ondownload(figure, format) {\n",
       "        window.open(figure.imageObj.src);\n",
       "    }\n",
       "\n",
       "    var fig = new mpl.figure(id, ws_proxy,\n",
       "                           ondownload,\n",
       "                           element.get(0));\n",
       "\n",
       "    // Call onopen now - mpl needs it, as it is assuming we've passed it a real\n",
       "    // web socket which is closed, not our websocket->open comm proxy.\n",
       "    ws_proxy.onopen();\n",
       "\n",
       "    fig.parent_element = element.get(0);\n",
       "    fig.cell_info = mpl.find_output_cell(\"<div id='\" + id + \"'></div>\");\n",
       "    if (!fig.cell_info) {\n",
       "        console.error(\"Failed to find cell for figure\", id, fig);\n",
       "        return;\n",
       "    }\n",
       "\n",
       "    var output_index = fig.cell_info[2]\n",
       "    var cell = fig.cell_info[0];\n",
       "\n",
       "};\n",
       "\n",
       "mpl.figure.prototype.handle_close = function(fig, msg) {\n",
       "    var width = fig.canvas.width/mpl.ratio\n",
       "    fig.root.unbind('remove')\n",
       "\n",
       "    // Update the output cell to use the data from the current canvas.\n",
       "    fig.push_to_output();\n",
       "    var dataURL = fig.canvas.toDataURL();\n",
       "    // Re-enable the keyboard manager in IPython - without this line, in FF,\n",
       "    // the notebook keyboard shortcuts fail.\n",
       "    IPython.keyboard_manager.enable()\n",
       "    $(fig.parent_element).html('<img src=\"' + dataURL + '\" width=\"' + width + '\">');\n",
       "    fig.close_ws(fig, msg);\n",
       "}\n",
       "\n",
       "mpl.figure.prototype.close_ws = function(fig, msg){\n",
       "    fig.send_message('closing', msg);\n",
       "    // fig.ws.close()\n",
       "}\n",
       "\n",
       "mpl.figure.prototype.push_to_output = function(remove_interactive) {\n",
       "    // Turn the data on the canvas into data in the output cell.\n",
       "    var width = this.canvas.width/mpl.ratio\n",
       "    var dataURL = this.canvas.toDataURL();\n",
       "    this.cell_info[1]['text/html'] = '<img src=\"' + dataURL + '\" width=\"' + width + '\">';\n",
       "}\n",
       "\n",
       "mpl.figure.prototype.updated_canvas_event = function() {\n",
       "    // Tell IPython that the notebook contents must change.\n",
       "    IPython.notebook.set_dirty(true);\n",
       "    this.send_message(\"ack\", {});\n",
       "    var fig = this;\n",
       "    // Wait a second, then push the new image to the DOM so\n",
       "    // that it is saved nicely (might be nice to debounce this).\n",
       "    setTimeout(function () { fig.push_to_output() }, 1000);\n",
       "}\n",
       "\n",
       "mpl.figure.prototype._init_toolbar = function() {\n",
       "    var fig = this;\n",
       "\n",
       "    var nav_element = $('<div/>')\n",
       "    nav_element.attr('style', 'width: 100%');\n",
       "    this.root.append(nav_element);\n",
       "\n",
       "    // Define a callback function for later on.\n",
       "    function toolbar_event(event) {\n",
       "        return fig.toolbar_button_onclick(event['data']);\n",
       "    }\n",
       "    function toolbar_mouse_event(event) {\n",
       "        return fig.toolbar_button_onmouseover(event['data']);\n",
       "    }\n",
       "\n",
       "    for(var toolbar_ind in mpl.toolbar_items){\n",
       "        var name = mpl.toolbar_items[toolbar_ind][0];\n",
       "        var tooltip = mpl.toolbar_items[toolbar_ind][1];\n",
       "        var image = mpl.toolbar_items[toolbar_ind][2];\n",
       "        var method_name = mpl.toolbar_items[toolbar_ind][3];\n",
       "\n",
       "        if (!name) { continue; };\n",
       "\n",
       "        var button = $('<button class=\"btn btn-default\" href=\"#\" title=\"' + name + '\"><i class=\"fa ' + image + ' fa-lg\"></i></button>');\n",
       "        button.click(method_name, toolbar_event);\n",
       "        button.mouseover(tooltip, toolbar_mouse_event);\n",
       "        nav_element.append(button);\n",
       "    }\n",
       "\n",
       "    // Add the status bar.\n",
       "    var status_bar = $('<span class=\"mpl-message\" style=\"text-align:right; float: right;\"/>');\n",
       "    nav_element.append(status_bar);\n",
       "    this.message = status_bar[0];\n",
       "\n",
       "    // Add the close button to the window.\n",
       "    var buttongrp = $('<div class=\"btn-group inline pull-right\"></div>');\n",
       "    var button = $('<button class=\"btn btn-mini btn-primary\" href=\"#\" title=\"Stop Interaction\"><i class=\"fa fa-power-off icon-remove icon-large\"></i></button>');\n",
       "    button.click(function (evt) { fig.handle_close(fig, {}); } );\n",
       "    button.mouseover('Stop Interaction', toolbar_mouse_event);\n",
       "    buttongrp.append(button);\n",
       "    var titlebar = this.root.find($('.ui-dialog-titlebar'));\n",
       "    titlebar.prepend(buttongrp);\n",
       "}\n",
       "\n",
       "mpl.figure.prototype._root_extra_style = function(el){\n",
       "    var fig = this\n",
       "    el.on(\"remove\", function(){\n",
       "\tfig.close_ws(fig, {});\n",
       "    });\n",
       "}\n",
       "\n",
       "mpl.figure.prototype._canvas_extra_style = function(el){\n",
       "    // this is important to make the div 'focusable\n",
       "    el.attr('tabindex', 0)\n",
       "    // reach out to IPython and tell the keyboard manager to turn it's self\n",
       "    // off when our div gets focus\n",
       "\n",
       "    // location in version 3\n",
       "    if (IPython.notebook.keyboard_manager) {\n",
       "        IPython.notebook.keyboard_manager.register_events(el);\n",
       "    }\n",
       "    else {\n",
       "        // location in version 2\n",
       "        IPython.keyboard_manager.register_events(el);\n",
       "    }\n",
       "\n",
       "}\n",
       "\n",
       "mpl.figure.prototype._key_event_extra = function(event, name) {\n",
       "    var manager = IPython.notebook.keyboard_manager;\n",
       "    if (!manager)\n",
       "        manager = IPython.keyboard_manager;\n",
       "\n",
       "    // Check for shift+enter\n",
       "    if (event.shiftKey && event.which == 13) {\n",
       "        this.canvas_div.blur();\n",
       "        // select the cell after this one\n",
       "        var index = IPython.notebook.find_cell_index(this.cell_info[0]);\n",
       "        IPython.notebook.select(index + 1);\n",
       "    }\n",
       "}\n",
       "\n",
       "mpl.figure.prototype.handle_save = function(fig, msg) {\n",
       "    fig.ondownload(fig, null);\n",
       "}\n",
       "\n",
       "\n",
       "mpl.find_output_cell = function(html_output) {\n",
       "    // Return the cell and output element which can be found *uniquely* in the notebook.\n",
       "    // Note - this is a bit hacky, but it is done because the \"notebook_saving.Notebook\"\n",
       "    // IPython event is triggered only after the cells have been serialised, which for\n",
       "    // our purposes (turning an active figure into a static one), is too late.\n",
       "    var cells = IPython.notebook.get_cells();\n",
       "    var ncells = cells.length;\n",
       "    for (var i=0; i<ncells; i++) {\n",
       "        var cell = cells[i];\n",
       "        if (cell.cell_type === 'code'){\n",
       "            for (var j=0; j<cell.output_area.outputs.length; j++) {\n",
       "                var data = cell.output_area.outputs[j];\n",
       "                if (data.data) {\n",
       "                    // IPython >= 3 moved mimebundle to data attribute of output\n",
       "                    data = data.data;\n",
       "                }\n",
       "                if (data['text/html'] == html_output) {\n",
       "                    return [cell, data, j];\n",
       "                }\n",
       "            }\n",
       "        }\n",
       "    }\n",
       "}\n",
       "\n",
       "// Register the function which deals with the matplotlib target/channel.\n",
       "// The kernel may be null if the page has been refreshed.\n",
       "if (IPython.notebook.kernel != null) {\n",
       "    IPython.notebook.kernel.comm_manager.register_target('matplotlib', mpl.mpl_figure_comm);\n",
       "}\n"
      ],
      "text/plain": [
       "<IPython.core.display.Javascript object>"
      ]
     },
     "metadata": {},
     "output_type": "display_data"
    },
    {
     "data": {
      "text/html": [
       "<img src=\"data:image/png;base64,iVBORw0KGgoAAAANSUhEUgAAAgAAAAGACAYAAADbINq/AAAgAElEQVR4nO2dd3hUVf6HP5OQOknoAWZEioIUQSmiiCCCKIIoVZSOdEwC0kGQyIqiIthRUQQLgq5tdV3bLop1dYsulh8q0gSVTuhJ8Pv7YwaZBBLCuXPnnJnzeZ/nfTIludxhknzfnLkzAxBCCCGEEEIIIYQQQgghhBBCCCGEEEIIIYQQQgghhBBCCCGEEEIIIYQQYiffABjs8r+RC+Ajh9voBGAtgH0A7gLQP3ieEEIIIYaSC+cBsBbAZOe7QgghhJBIkQvnAVAI4HLnu3JaJEX43yOEEELCShaAdQgsn/8GYGnIdRsADA+erg1AANwI4H8ADiAwuM8IbmMjgD0AHgMQH7INATABwBcA9gP4HEDLkOtzUTQAkgHcEdyn3QBWA2hWwr7XD25TABwKnm4LYAiAn0M+Lz14u3YGLx8X/DgkeH374DbKhXxN8W0sBfACgEUAtgP4W/ByP4DlALYA2AbgeQBVS9hfQgghxAjqATgI4Nzg+TQA7UKu34ATA+AdAJnBz/0IgeX3uxD4i/hsBCLghpBtCIAfATQKfk4uAgO0fPD6XBQNgKUA3kMgLMohEBfbAFQo5XYIiq4ADEHR4b0EgfDwAUgF8ASAApx+ABQgEEAJwe0kAfg/APMBeBH4P3kGwLul7CshhBCinToI/OXcF0DGSa7fgBMDoG3I9eMQWAkI/Yv/dQALQ84LgOyQ83EAfgEwMHg+F8cDoHLw888pth8/ABhQyu0oLQDiARwB0CXk+gwAR3H6AfBpsX+3JwJ/+XtCLvMHt3VGKftLCCGEaOdaAG8h8Jf7Fyj61/sGnBgAZ4dcPzz4OaGsQOAv7GMIgKuLfc5nAGYET+fieABcGPz8PcU8CGBaKbehtACoFry+cbGv2YHTD4DlxbYxFYHjD4rv72EAF5eyv4QQQogxlANwHYDfEXhsHQhfAGSFnI8DsBXAoOD5XBwPgFrBzz/zNPfd6QpAi+A2yod8zgycGADPFvt3ByNwrAIhhBASVZyDwGBMC56/EoEAOCt4fgPCEwA/AGgIIBHALAT++j72mH4uih4D8AoCDyPUCp5PB3AVgBql3I5THQPwFAKrDjUQeOz+MRQ9BiAdQB6AKQgEyvnB23WqAEgHsAnAn3A8HjIReEiFEEIIMZYmAD4GsBeBAfg1ij7WvgHhCYAJAP6FwFH6XwBoFXJ9LooGQErwsu8ReGbCVgAvI3AAX0mcKgAyADwNYBcCj9mPQ+AZD9eHfE4PBA5W3I/AEf5lWQEAAo/5L0MgBPKC23i4lH0lhBBCrKD4cDaBigisdLTWvSOEEEJIrGJCAJwJ4FIEjgeojMBz9dei6EF/hBBCCAkjJgTA2Qi8eNE+BB4G+BtOfKohIYQQQgghhBBCCCGEEEIIIYQQQgghhJQN/5KpEg2uHRxnvJPHvx4V6r4vY+X+jpb7XPd9yfs88uqeKyRKCOcP8E3vLxcRkbv//bbRvxx+WTxUfi/Il4K9v8nhLd/Kuol1jfvFMOXm1+Wj1T/Jnt2HZNeug/L8s/8xciC4dZ9Hw/0dLfd5uH8WeZ+bfX8zAEiZCecP8N83fyert3wvP+z+zfgAOLx5jay9MVGOHtonP9/fw6hfDJPHvy5/XvmV7Np1UGbf8pZMufl1uX32u0YGgFv3eTTc39Fyn4f7Z5H3udn3NwOAlJlw/fA2XT5HDhXkS6uVd8qewwel82sPGP3L4feCI1Kw9zc5ejBPfppcz6hfDJPHvy4ff7hevvzPlrBuM9wDwc37PBru72i5z8P5c8j7PHz3uZs/47rnCokSwvXDO+vT1yT/aKHsOXxQDhcWyGNrVhsdAIc3r5G1g+PkwHerZMdrfzLqF8Pk8cG/DnYekNkzzF0BcPM+j4b7O1ru83D+HPI+D/MKgEs/47rnCokSwvXD+99tm2TWp6+Jf8lUGfzuUvnlwF6p+dQ0Y385/F6QLwW7t0r+9vWy8U9tjPrFMHl80ccH9+w+ZOQxAG7e59Fwf0fLfR7OAOB97s4xAOH+Gdc9V0iUEM5fDm4azl8ObhnOYeCmuu/LWLm/o+U+131f8j6PvLrnCiGEEEIIIYQQQggxBt3LfjS6rTr7fomvvEsAker336Z9f2j0qntp/1TedclgqeHdKOkJu2Vi82na96c0dc8VEiXo/qGn0a3v8elSbd5dDADqWN1D81S+17OufD0wUea1GSLVUjdr3x8GAHGM7h96Gv1Wu3seA4A6VvfQLItrBiRLO/+bMvLcO7XvCwOAOEb3Dz2NfhkANBzqHpqn8osbKsoF1d6XwQ0Xyv8N0r8/DADiGN0/9DS6rXrrA+LxHhBAxOPdL5lzFmjfJxqd6h6apzL7/FvFg6NSLXWz+L3rte8PA4A4RvcPPaWU+peYHwDRpO65QqIE3T/0lFLqX8IAYAAQQgghhBD3iUOcpMd7jTctjoZLL7XOVMP1xqeJ3+8Xb3yapHq8RpsSBcYhsApQlpUXN+dLy5Z1xO+vqCyAL9zcP+tJj/fKLTWzjHeKPzusvjrrxbBvc0KN6DC7ek5UODrTfEdUjQ6HVDbb0bUmi4jIiFqTZWClHKPtVzHbeFM8XiMCwO+vKIXyrLIAfnZz/6zH1gBwQ92DnQHAAGAAMABMC4D8o8uUBQPAXWwNAK4AmK/u4c4AYAAwAJzh91eUI4VPKgsGgLvYGgBcATBf3cOdAcAAYAA4w++vIIcLHlcWwB4EIuCYE9zcX+uwNQC4AmC+uoc7A4ABwABwRhgCgCsAbmJrAHAFwHx1D3cGAAOAAeAMn7+CHMx/RFkwANzF1gB4dSZXAExX93BnADAAGADO8PnLy4EjDygLBoC72BoAXAEwX93DnQHAAGAAOMPnLy/7Dy9QFgwAd7E1AF6ctJwBYLi6hzsDgAHAAHCGz1de9h28W1kwANzF1gC45awJDADD1T3cGQAMAAaAM3y+DNl34A5lwQBwF1sDYHnWMgaA4eoe7gwABgADwBk+X4bk7Z+jLPg0QHexNQBmN57KADBc3cOdAcAAYAA4w+dLl7y8WcqCKwDuYmsAPD3iCQaA4eoe7gwABgADwBkMAMOxNQBubzGTAWC4uoc7A4ABwABwhs+XLnv3TlcWDICT0h2AAGhQ7PLxAA4DKF/WDdkaAE8OXMQAMFzdw50BwABgADjD50uTvbsnKwsGwElZCeBDALcVu/yfwcuHlnVDtgbAvItvYwAYru7hzgBgADAAnOGrkSZ7d96sLBgAJ5AGYAuA+gDWhlx+FoBvAFwK4J2ybszWAHi0zwMMAMPVPdwZAAwABoAzfDW8sndHtrJgAJxAfwBPBk9/AqBF8PQtAGYBiAOwEUC1smzM1gC4t8MdDADD1T3cGQAMAAaAM3w1vJK3bYyyYACcwBsAOgVP5wCYHzz9NYB6wdMLAGSV8PUTEPK8yiRPovbhriMAHr5mAQPAcHUPdwYAA4AB4AxfDa/k/TpCWfB1AIpQCcBBBP7C3wBgM4BNAJoAOBK8bAOArQA+LssGbV0BeKDLPQwAw9U93BkADAAGgDN8NVIlb+tQZcEVgCKMBPBYscs+APAPANOLXb4eQK1TbdDWAFjYaR4DwHB1D3cGAAOAAeAMBkB4WQWgc7HLchAY9sWfErgAwNRTbdDWAHikx0IGgOHqHu4MAAYAA8AZvuqpsm/LQGXBAHAXWwNg/qW3MwAMV/dwZwAwABgAzvBVT5F9m/spCwaAu9gaAItveJgBYLi6hzsDgAHAAHCGr3qK7N94nbJgALiLrQFw54WzGQCGq3u4MwAYAAwAZ/iqp8j+9b2UBQPAXWwNgKeGPMYAMFzdw50BwABgADjDVz1Z9q+7VlkwANzF1gCYc94MBoDh6h7uDAAGAAPAGb5qyXLgh6uVBQPAXWwNgGdHL2EAGK7u4c4AYAAwAJzhq5YkB9ZepSwYAO5iawDc2mAyA8BwdQ93BgADgAHgjDAEAF8J0E1sDYAV455hABiu7uHOAGAAMACc4auWJAe/u0JZcAXAXWwNgOm1xzMADFf3cGcAMAAYAM7wVUuSg990VBYMAHexNQBemrqCAWC4uoc7A4ABwABwhi8zUQ6taa8sGADuYmsAuKHuwc4AYAAwABgAxgXAV22VBQPAXWwNgFdnvcgAMFzdw50BwABgADjDn5koh/97sbJgALiLrQHAFQDz1T3cGQAMAAaAM/yZCXL43xcqCwaAu9gaAFwBMF/dw50BwABgADjDn5kgR764QFkwANylYrlUefbcIca7tNGNxru4wfCo8JH6I6PCB+uNMt4FZ4+OCu+pO8Zo7296s4iILGgyQebVGWu0c2ubb0Y8A4CUAVsD4LO5zzEADFf3cGcAMAAYAM7wV02QI/9sriwYAO5iawBwBcB8dQ93BgADgAHgDH/VBDny6XnKggHgLrYGAFcAzFf3cGcAMAAYAM7wVy0n+Z80URYMAHexNQC4AmC+uoc7A4ABwABwhr9qOcn/qJGy4HsBuIutAfDJ7GUMAMPVPdwZAAwABoAz/FXLSf7qBsqCKwDuYmsAPH3eCAaA4eoe7gwABgADwBn+KuUk//36yoIB4C62BsCH059gABiu7uHOAGAAMACc4a8SLwX/OEtZMADcxdYAeK7VTQwAw9U93BkADAAGgDMYAIZjawCsuvkRBoDh6h7uDAAGAAPAGf4q8VLwXh1lwQBwF1sDYEW78QwAw9U93BkADAAGgDP8VeKl4J1ayoIB4C62BsDfb7qfAWC4uoc7A4ABwABwhr9KvBS8VVNZMADcxdYAePHyyQwAw9U93BkADAAGgDP8leOk4E2fsmAAuIutAfD2sPkMAMPVPdwZAAwABoAz/JXjpPCN6sqCAXBSugMQAA0ANAHwZdBdANYHT79Xlg3ZGgCvXH0LA8BwdQ93BgADgAHgDH/lOCn8S6ayYACclJUAPgRwW7HLlwLofTobsjUA3hxwBwPAcHUPdwYAA4AB4Ax/5TgpfLWKsmAAnEAagC0A6gNYW+y6pWAAlMm/9MplABiu7uHOAGAAMACcwQAIP/0BPBk8/QmAFiHXLQUDoEy+3uc2BoDh6h7uDAAGAAPAGf5KHil8uZKyYACcwBsAOgVP5wCYH3LdUpw6ACYg5N2VUuIStA93HQHw135zGQCGq3u4MwAYAAwAZ/greaTwzxWVBQOgCJUAHASwEcAGAJsBbALgCV6/FFwBKJOvdpvJADBc3cOdAcAAYAA4w1/JI4UvlFcWDIAijATwWLHLPgDQLnh6KRgAZfKtofcwAAxX93BnADAAGADO8FfySOGKdGXBACjCKgCdi12WA2BR8PRSMADK5EtXTmUAGK7u4c4AYAAwAJzhr+SRwuVpyoIB4C62BsB7Y+5jABiu7uHOAGAAMACc4a/okcLnUpUFsAchx6whcAwbCRe2BsDKSycwAAxX93BnADAAGADO8FeEFD6Toiy4AuAutgbAqvEPMwAMV/dwZwAwABgAzmAAGI6tAbC8dTYDwHB1D3cGAAOAAeAMf0VI4bJkZcEAcBdbA2D11MUMAMPVPdwZAAwABoAz/BUhhU8lKQsGgLvYGgDPNBvFADBc3cOdAcAAYAA4w18RUvBkkrJgALiLrQHw8aynGACGq3u4MwAYAAwAZ/grQAoWJyoLBoC72BoAbqh7sDMAGAAMAAaAcQHwWKKyYAC4i60B8Nnc5xgAhqt7uDMAGAAMAGf4K0AKFiUqCwaAu9gaAFwBMF/dw50BwABgADjDXwFS8EiismAAuIutAcAVAPPVPdwZAAwABoAzGACGY2sAcAXAfHUPdwYAA4AB4Ax/BUj+Q0nKggHgLrYGAFcAzFf3cGcAMAAYAM7wl4fkP5CkLBgA7mJrAHAFwHx1D3cGAAOAAeAMf3lI/n3JyoIB4DoCxBtv5dSWYXXaxHvCvs363u5RYcuUwVFhu5SRxtspdUxU2DXtJqPtXWOiiIjc4Jsk3dOzjLZXRrbxpnjMCYAjC1KUBQPAdbQPdx0B4Ia6BzsDgAHAAGAAmBUAHjkyP1VZMABcR/tw1xEAk8bNYwAYru7hzgBgADAAnOEv75Ej93iVBQPAdbQPdx0BkJl+IQPAcHUPdwYAA4AB4AwGgPloH+46AiB79G0MAMPVPdwZAAwABoAz/BkeOXxXmrJgALiO9uGuIwDOrNqWAWC4uoc7A4ABwABwhj/DI4fvzFAWDADX0T7cdQTAiMEzGACGq3u4MwAYAAwAZ/gzPHJ4bnllwQBwHe3DXUcA1KvZkQFguLqHOwOAAcAAcIYvwyOHbq+gLBgArqN9uOsIgIF9JzEADFf3cGcAMAAYAM7wZXjk0JxKyoIB4Drah7uOAGhSrysDwHB1D3cGAAOAAeAMX3qcHMytrCwYAK6jfbjrCIA+12YzAAxX93BnADAAGADO8KXHycFbqygLBoDraB/uOgKgVdOeDADD1T3cGQAMAAaAMxgA5qN9uOsIgG5XjGQAGK7u4c4AYAAwAJzhS4+TA7OqKgt3AqA7gMUAVgK4woXtRxXah7uOAGjb6noGgOHqHu4MAAYAA8AZvvQ4OXBLNWVR9gBYAmAbgK+LXd4ZwFoAPwKYVuy6igCedHL7YgHtw11HAHRqN5gBYLi6hzsDgAHAAHCGLz1O9k+vrizKHgDtADRH0QCIB7AOQF0AiQC+AtAo5Pp7g18TVXQHIAAahFxWD8AbCNzYfwNYhcB/SFnQPtwZAAwABgADgAEQmwGwb1oNZXF6DwHURtEAaA3g7ZDz04N6ANwF4HKHN08LKwF8COC24PlkAN8DuCbkc84FMKSM29M+3PkQAAOAAcAAYADEYACkxcm+KX5lAexBIAKOOaGUf642igZAbwBPhJwfCOAhADkI/KH8KIDR4bu17pMGYAuA+gg8rgEAwwAsc7BN7cNdRwDwIEDz1T3cGQAMAAaAM3xp8ZI36Qxl4WwFoKQAiFr64/hBC58AaAFgAYBxDrapfbjrCAA+DdB8dQ93BgADgAHgDF9avOydWFNZuPMQQNTyBoBOwdM5AObjxAB4BYH/hJdL2MYEFF1S0T7cdQQAXwjIfHUPdwYAA4AB4AzNAVAOwE8A6uD4QYCNw3XbIk0lAAcBbASwAcBmAJtw8ocAWgJ4v4zb1T7cdQQAXwrYfHUPdwYAA4AB4AxfWrzsvbmWsih7ADwP4BcABcGvGRa8vAsCx8itA3BLuG9fJBkJ4LFil30A4FIEnuMYehBgOzAASpVvBmS+uoc7A4ABwABwhi8tXvaMq60sTu8gwJhmFQIvahBKDoBFCDwl8E0Eljs+BfAOyv4UB+3DXUcA8O2AzVf3cGcAMAAYAM7weeNld04dZcGXAnYd7cNdRwCMGDyDAWC4uoc7A4ABwABwhs8bL7uzzlIWDADX0T7cdQTAmVXbMgAMV/dwZwAwABgAzqjhjZddY89WFgwA19E+3HUEQPbo2xgAhqt7uDMAGACxEgD1n54l/iVT5Ywl0/44HZkAKCc7x9RTFgwA19E+3HUEQGb6hQwAw9U93BkADIBYCYD1e3dIraemS+2lM2Rj3s6IBsCOUfWVBQ8CdB3tw11HAEwaN48BYLi6hzsDgAEQKwHwy4G9cvVfHpKuf3lQfj2wN5oCgCsALqN9uOsIADfUPdgZAAwABgAD4GQBMPuz16XgaKHkHy2U2Z+9HtEA2D6ygbJgALiO9uGuIwCmTbyHAWC4uoc7A4ABEAsB0OCZW6Xxs7nSYsVcabFirjR+NjdyAZBaTrYPb6gsGACuo324cwWAAcAAYAAwANwJgC37d0vh0aNSePSoHP098DGSAbBtWCNlwQBwHe3DnSsADAAGAAOAAeBOALRYMVdarbxTOr6yQC5/ZaG0WnlnRAPgt6GNlQUDwHW0D3euADAAGAAMAAaAOwHgXzJVFq35QAqPHpWCo4Xy6JrVEQ2AX4c0URZ8FoDraB/uXAFgADAAGAAMAPcCYMv+3dLh5QXS8ZUFsmX/7ggGQIL8MqipsuAKgOtoH+5cAWAAMAAYAAwAdwIg95+vy+e/rpdFaz6QRf97Xz7/dX1EA2DrwPOUBQPAdbQPd64AMAAYAAwABoA7AfDx1h9PkAFAjqF9uHMFgAHAAGAAMADcewig/tOzZOrHL8vUj1+O6EsBV09NkC0DzlcWDAB3qVguVZ49d4jxPtFwWFhdPXNp2Lf5cP2RUeG9Z42JCufWHmu8s2pmRYWT/dlGO/OcySIiMvnsyZJdPcdoR1Q1X29c0QB4/+e18tX2zfLV9s3ywc/fRy4AUhLk537NlAUDwF1sDYCnzh/NADBc3cOdAcAAiJUA+CXk5X8j+VLA1VMSZPMNLZQFnwXgLrYGwPtTFjMADFf3cGcAMABiJQA++Pl7+XL7Zvly+2b5cMsPEQ2ATX1bKguuALiLrQHw9EU5DADD1T3cGQAMgFgJgJ5/fVSmffyyTPv4ZTnnmVsjGgAbr7tAWTAA3MXWAHhv3CMMAMPVPdwZAAyAWAmAb3dulTOWTCsy+CMVABv6tFIWDAB3sTUAlrebwAAwXN3DnQHAAIiVAPhxzzb5btcv8vbGb+Ttjd9ENADW97pQWTAA3MXWAHh79P0MAMPVPdwZAAyAWAmA+f95p4gMAALA3gBYecU0BoDh6h7uDAAGQKwEwGUv3ysP/2+VXP7KQrnp/eWRC4DkRPmp50XKggHgLrYGwF+H3sMAMFzdw50BwACIlQD4escW+fXAXjlr2UzZun9PRANgXY+LlQUDwF1sDYA/d5vFADBc3cOdAcAAiJUA2Ji3Uzbk7ZAWK+bKbwfyIhYA1ZIT5YfubZQFXwfAXWwNgL/ccAcDwHB1D3cGAAMgVgJg8dcfank74GrJifL9NZcoC64AuIutAfBq7zkMAMPVPdwZAAyAWAmAOZ+/IbsPH5DDhQWy+/CBiAbA2m5tlQUDwF1sDYBXet7GADBc3cOdAcAAiJUA2LJ/t/xyYK+MW71S/r75u4gGwP9d3U5ZMADcxdYAeL3/nQwAw9U93BkADIBYCYDvd/8m6/Zsk4f/t0p2Htof0QD4ruulyoIB4C62BsCLXWcyAAxX93BnADAAYiUARv7jWbnxvWXy3qbvZMpHLzEAopzuAARAg5DL6gN4E8APAP4D4AUA1U61IVsD4M0b72UAGK7u4c4AYADESgCUZvjH03GqJSfJN10uUxYMgJOyEsCHAG4Lnk9GYPB3C/mc9gDOPdWGbA2AFR2nMAAMV/dwZwAwABgAzqiWlCRfd+6gLBgAJ5AGYAsCf/GvDV52I4CnVTZmawC8M/YBBoDh6h7uDAAGAAPAGZlJSbLmyo7KggFwAv0BPBk8/QmAFgAWABinsjFbA+C5tjczAAxX93BnADAAGADOyExKkv9dcbmyYACcwBsAOgVP5wCYj9MLgAkIeWWllLgE7cNdRwD8/eZFDADD1T3cGQAMAAaAMzKTkuTLTp2UBV8JsAiVABwEsBHABgCbAWwCMAx8COC0XHZBFgPAcHUPdwYAA4AB4IzMpCT57+VXKAuuABRhJIDHil32AYBLAfwIoGvI5e3AgwBL9P1pTzIADFf3cGcAMAAYAM7ITEqS/3S8UlkwAIqwCkDnYpflAFiEwFMC30Lg2QDfAlgBPg2wRJc0HckAMFzdw50BwABgADiDAWA4tgbAh7OXMQAMV/dwZwAwABgAzshMSpJ/deisLBgA7mJrALih7sHOAGAAMAAYAKYFwBeXXaUsGADuYmsAfDJ3OQPAcHUPdwYAA4AB4IzMxGT5vH0XZRHDAdALwIzgaT+AJjp2wtYA4AqA+eoe7gwABgADwBlVE5Pls0u7KosYDYA5AP4G4Pvg+RoIvKhPxLE1ALgCYL66hzsDgAHAAHBG1cRk+bTd1coiRgPgKwDxAP4bctn/dOyIrQHAFQDz1T3cGQAMAAaAM6omJssnbbspixgNgM+CH0MDYI2OHbE1ALgCYL66hzsDgAHAAHAGA+DkrATQFoG37U0AMBvAMzp2xNYA4AqA+eoe7gwABgADwBlVE5Plo0uuURYxGgDVEHjRngIA+QDeBlBFx47YGgBcATBf3cOdAcAAYAA4o2pisnzY5lplEePvBZAKwKtzB2wNAK4AmK/u4c4AYAAwAJxRNTFZPri4u7KI0RUAIHDk/8UIvGb/MSOOrQHwUe7TDADD1T3cGQAMAAaAM6okJsv7F/dQFjEaALcgsLTxHwBfBP1cx47YGgB8LwDz1T3cGQAMAAaAM6okJsuq1j2VRYwGwDoAlXXvBGBvAPDdAM1X93BnADAAGADOqJKYIn+/qJeyiNEA0PKiPyfD1gBYdkEWA8BwdQ93BgADgAHgjCoJKfLehb2VRYwGwG0A7gPQCkDTECNOsscrPTOyjBdAWL3uuuvCvs0rUsdEheG+3W7ZNLWf8er+Pyqrmd7WRlu3ekcREUlPT9f+f3UqO6WOMd4kDwPAZNafxJ907IitAZCZmRn2beoe7AwABkCJ3+8GDHkGgJ0B8E6rPsoiRgPAGGwNgG7duoV9m7oHOwOAAVCSugc8A8DeAHj7guuURQwHQCsE3g1wBoCWunbC1gCoVatW2Lepe7AzABgAJal7wDMA7AyAygkp8rcL+iqLGA2AkQA2IXAcwEIAGwEM17EjtgZAp06dwr5N3YOdAcAAKEndA54BYG8AvNnyemURowHwPwBVQ85XhaZ3A7Q1ABo0aBD2beoe7AwABkBJ6h7wDAB7A+CNFjcoixgOgLJc5jq2BsAll1wS9m3qHuwMAAZASeoe8AwAewPg9eb9lEWMBsBLAOYCODPo7cHLIo6tAXDeeeeFfZu6BzsDgAFQkroHPAPA3gB4rXk/ZRGjAVAVwAoAOwBsB/A8ij4kEDFsDYCWLVuGfZu6BzsDgAFQkroHPAOAAcAAKPrGP+0AXBpU25sB2RoArVu3Dvs2dQ92BgADoCR1D3gGgL0B8Gqz/soixgLgi5P4OQI38qiOHbI1ABo3bhz2bXY1mLkAABz+SURBVOoe7AwABkBJ6h7wDAA7A6BSQqq8fP4AZRFjAVCcSgAWANgGYKaOHbA1ANq3bx/2beoe7AwABkBJ6h7wDAB7A+Cl8wcqixgNgGQA0wH8ikAAaHtnQFsDoG7dumHfpu7BzgBgAJSk7gHPALA3AF48b5CyAPYgEAHHnODm/rpNHAIvArQZwDIAtfTujr0BcNVVV4V9m7oHOwOAAVCSugc8A8DeAFjZdJCyiLEVgG8BrAMwEEXfBbCs7wZYGcCXQX8FsCXkfCKA7gh8kzYo6w7ZGgA+ny/s29Q92BkADICS1D3gGQD2BsCKpoOVRYwFwAac/J0A1+P03w0wF8CkYpetBPAhAm83XCZsDYCePXuGfZu6BzsDgAFQkroHPAPA0gAolyrLmwxRFjEWAOEkF0UDIA2BFYH6ANaWdSO2BkDFihXDvk3dg50BwAAoSd0DngHAAGAAhJdcFA2A/gCeDJ7+BECLsmzE1gDo1y/8v7x1D3YGAAOgJHUPeAaAnQFQsVyqPHfuEGXBACiRXBQNgDcAdAqezgEwv4Svm4CQoyq9yWmS1XyOzOy8UCa0uVMmt79bpnaYL+Mvmiu3dr1fxp6fK7f3ekSGN5gpd/VfLINqTZGFw5bKDdUnyMNZz0mv8tmyeOIL0jMjS56Y/OJJPy6e+IL0Kp8tD2c9JzdUnyALhy2VQbWmyF39F8vwBjPl9l6PyNjzc+XWrvfL+IvmytQO82Vy+7tlQps7ZWbnhZLVfI506tRJatasKddcc41UrVpV+vbtK2lpaTJ48GBJSEiQ0aNHCwDJzs4u9eOIESMkKSlJhg0bJhkZGdKnTx+pXr26XH311VK7dm3p2LGjNGjQQNq0aSPNmzeX5s2by8UXXyyNGjWSDh06SJ06daRr165SvXp16d27t1SoUEEGDBggSUlJsvCmZ+WK1DHy8MSVpX58IGe5dE6/SeaPWibXZo6XuYOekD5nTpbZ1z0q/evPkOnXPCA3njdbJl6xQEZfeLtkt50n2e3uklGtbpfJnRfKkCa3yozuD0q/s6dLbt9HpXfNSXLn0CXSrco4mT/6aemcNlYeHP98ifsAQLKyAlE1bNgwSUlJkX79+knFihWlZ8+e4vP55KqrrpK6detK+/btpXHjxtK6dWtp2bKlnHfeeXLJJZdIgwYNpFOnTlKrVi3p1q2bZGZmynXXXScZGRkyaNAgSUhIkFGjRpXpPhk5cqQkJCTIoEGD/rhPqlWrJtm950vnBjky8uo75Npmk2Rwx1y57uIZcn2bW2TgZbOlR4vJMrzLXOnSeLxk9bxHOtYdKxP63SeX+EfIjGGPyAWVBsvsMY9L09R+Mm/islI/3j5uiTRLHyC3jn5MLqw6VKYMflDa1Rwp4/sukE71smT0tfOkW9MJMvSKOdKr1VTp326W9G83S5o0aSLt2rWTevXqyZVXXilnnHGGdO/eXSpXrizXX3+9eL1eGTp0qMTHx8uYMWPK9P8xbNgwSU5OlgEDBkjFihWlV69eUqNGDenatavUrVtXOnToII0aNZLWrVtLixYtpFmzZtKmTRtp0KCBXH755X/cJ9WqVZM+ffpIRkaGZI2YI/4KbWVi9jzJ9LaWGZMWlPpxUs5d4q/QVrJGzJGzalwuIwbNlMZ1usjAPpOlRcMe0qfbOGnT/Hrp1mm0XHbRILmi7Y3SpcMIaXdBf+lx1U1ywbm95YYeE6Tp2d1kaL/pUv+MK2TM0NlSq0p7uXnsHZLpbS3TJ977x78ZGgDH/h/Gjh0rcXFxMnToUElNTZV+/fpJ5cqVpXv37uL3+6Vz585y9tlnS/v27aVJkybSqlUrueCCC6Rp06bSrl07qV+/vlxxxRVSs2ZNufbaa6VKlSp//N4YMmSIxMfHn/bvjQEDBkgP3wSZ0/9x6Vt3qszs+bAMbDRTJne5T4a3mCPjOtwjYy++Q8ZefIeM7zhfbmx2m0zpep8MbDhTZvV6RPrWnSp/GrBYrq1+s9w1fKl0qZgtC296VjoFfzZL+3h/znK5qnyW3D1ymVxz7PdGrclya59F0q/+DJnW7QEZet5smdDpXqMC4JlzhyoLBkCJ5OJ4AFQCcBCBtxXegMCzDDYB8JxqI7auAAwbNizs29T9lz1XALgCUJK6/8LnCoC9KwBPN75RWTAASiQXxwNgJIDHil3/Acrw8sK2BoAb6h7sDAAGQEnqHvAMAHsDYGmjYcqCAVAiuTgeAKsAdC52fQ6ARafaiK0BcGwJPJzqHuwMAAZASeoe8AwAewPgqUbDlAUDwF1sDQA31D3YGQAMgJLUPeAZAPYGwJMNhysLBoC72BoAxw7uCae6BzsDgAFQkroHPAPAzgCoUC5VFjccriwYAO5iawC4oe7BzgBgAJSk7gHPAGAAMAAMxNYA4AqA+eoe7gwABsDJ1D3coysAvPJ4gxHKggHgLrYGgBvqHuwMAAZASeoe8AwAewPg0XNGKgsGgLvYGgBcATBf3cOdAcAAOJm6h3u0BcCic0YqCwaAu9gaAG6oe7AzABgAJal7wDMA7A2Ah+uPUhYMAHexNQDGjh0b9m3qHuwMAAZASeoe8AwAewPgwfqjlAUDwF1sDYC4uLiwb1P3YGcAMABKUveAZwDYGQDly3nlgXqjlQUDwF1sDYChQ4eGfZu6BzsDgAFQkroHPAPA3gC4r95oZcEAcBdbAyA1NTXs29Q92BkADICS1D3gGQAMAAaAgdgaAP36hf+Xt+7BzgBgAJSk7gHPALA0AOK9svDsMcqCAeAutgZA5cqVw75N3YOdAcAAKEndA54BYG8A3HvWGGXBAHAXWwOge/fuYd+m7sHOAGAAlKTuAc8AsDcA5p81RlkwANzF1gDw+/1h36buwc4AYACUpO4BzwCwNwDurjtWWTAA3MWXFi97xtUy3p1jzwqreQ8NDfs2t484Jyr8dWjjqHDroCbG+3O/ZlHhpr4tjHbzkHYiIrJh4GWyvncro13X8yLjrZ6caEQAZMR7ZV7dscqCAeAutgbA7tkdGACGq3u4MwAYAAwAZ2TEe+XOOjcpC3cCoC6AJwH82YVtRxe2BsDehf0ZAIare7gzABgADABnZMR7ZW6dm5RF2QNgCYBtAL4udnlnAGsB/AhgWrHrGAC2BsCe27swAAxX93BnADAAGADOiGAAtAPQHEUDIB7AOgT+4k8E8BWARiHXMwCsDYC7ezIADFf3cGcAMAAYAM7IiPfK7bVvUhan9xBAbRQNgNYA3g45Pz3oMRgA1gbAXT0YAIare7gzABgADABnZMR7ZU7tLGUB7EEgAo45oZR/rjaKBkBvAE+EnB8I4CEAlQE8isDqQGgQ2Ie1ATC3KwPAcHUPdwYAA4AB4Iz0eK/k1spSFs5WAEoKAHIMWwNg74IbGACGq3u4MwAYAAwAZ6THe2X2mVnKwt2HAIitAbA793IGgOHqHu4MAAYAA8AZ6fFemXVmtrJwFgDlAPwEoA6OHwTYOFy3LSawNQDyHhzCADBc3cOdAcAAYAA4Iz3eKzNrZiuLsgfA8wB+AVAQ/Jphwcu7APgegcf7bwn37Yt6bA2A3bdcwgAwXN3DnQHAAGAAOCM93iszamYri9M7CJCcLrYGQN6joxgAhqt7uDMAGAAMAGeEIQD4UsBuYmsA7JpyAQPAcHUPdwYAA4AB4Iz0eK9MOyNbWTAA3MXWANj3ZA4DwHB1D3cGAAOAAeCMtHivTD0jW1kwAE6gMoAvg/4KYAuANcHz34ZcduxzEkvbmK0BsPPmpgwAw9U93BkADAAGgDPS4rwy2Z+jLBgApZILYFIZLisRWwNg39NTGACGq3u4MwAYAAwAZ6TFeWWSL0dZ8CDAUskFA0DNrPoMAMPVPdwZAAwABoAz0uK8MsGXoyy4AlAquWAAKLn/+VkMAMPVPdwZAAwABoAz0uK8cnONHGXBACiVXJx+AExAyJJKRqJH+3DXsgLggroHOwOAAcAAYAAwAOwhF1wBUFsBeOE2BoDh6h7uDAAGAAPAGWlxXhlXI0dZMABKJRcMAGPUPdgZAAwABgADwKQA8MZ5Jbt6jrJgAJRKLhgAXAFgADAAGAAMAEMDIKt6jrLgswDcxdYA4AqA+eoe7gwABgADwBneOK+MrZajLLgC4C62BgBXAMxX93BnADAAGADO8MZ5ZUxmjrJgALiLrQHAFQDz1T3cGQAMAAaAM7xxXhmVmaMsGADuYmsAcAXAfHUPdwYAA4AB4AxvnFdGVM1RFgwAd7E1ALgCYL66hzsDgAHAAHAGA8BwbA2A/c/NYAAYru7hzgBgADAAnJEa55XhVXOUBQPAXWwNgJ05DRkAhqt7uDMAGAAMAGekxnnlxio5yoJPA3QXWwNg39KJDADD1T3cGQAMAAaAM1LjvDK0co6y4AqAu9gaALsmNmMAGK7u4c4AYAAwAJyRGueVwZVzlAUDwF1sDYC8xVkMAMPVPdwZAAwABoAzUj1eGVgpR1kwANzF1gDYNe0iBoDh6h7uDAAGAAPAGakerwyolKMsGADuYmsA5D0ynAFguLqHOwOAAcAAcEaKxyv9KuYoCwaAu9gaALtntWcAGK7u4c4AYAAwAJzBADAcWwNg7/0DGACGq3u4MwAYAAwAZ6R4vHJDhRxlwacBuovfX1EKf3/WeA8VPBZWDxe8EPZt7j90b1SYt39uVLh3z3Tz3Z4VHf463Gx/yxIRkbwtIyTv54FGu2/Ddcbrq54iALB2cJycSjfnS4rHK30r5CgLrgC4i70B8CoDwHC1D3cGAAOAAeCIFI9X+pTPVhYMAHexNwBeYgAYrvbhzgBgADAAHJHi8Urv8tnKggHgLgwABoCpah/uDAAGAAPAEcker/TMyFYWDAB3sTcA+BCA6Wof7gwABgADwBHJHq/0yMhSFgwAd7E3AFYyAAxX+3BnADAAGACOSPZ45dr0LGXBAHAXWwPgSOEbDADD1T7cGQAMAAaAIxgAhmNrABwuWM4AMFztw50BwABgADgi2eOVbulZyoIB4C62BsCRwr8xAAxX+3BnADAAGACOSPZ45eq0m5QFA8BdbA2AQwVPMwAMV/twZwAwABgAjkj2eKVL2k3Kgq8E6C62BsCRwncZAIarfbgzABgADABHJHm8cpV3rLLgCoC72BoAhwqWMAAMV/twZwAwABgAjkjyeOVK71hlwQBwF1sD4EjhPxgAhqt9uDMAGAAMAEckebzSKXWMsmAAuIutAXCo4AkGgOFqH+4MAAYAA8ARSR6vXJ46WlkwANzF1gDIL/yAAWC42oc7A4ABwABwBAMgfFQG8GXQXwFsCTlfDcByAD8B+DeATwH0KMtGbQ0AN9Q92BkADAAGAAPAtADokDpaWTAATkougEnB0x4EBv7okOtrAcguy4ZsDYD8wo8YAIarfbgzABgADABHJHq80j51lLJgAJyUXBwPgI4APlDdkK0BwBUA89U+3BkADAAGgCMS4ZV2KSOVBQPgpOTieADkAFiouiFbA4ArAOarfbgzABgADABHJMIrbVNGKAsGwEnJRckB8DCArwB8UcLXTkDIKyuVL5+ifbhzBYABwABgADAAYjEAUqVNynBlwQA4Kbko/SGAKgA2lGVDXAFgAJiq9uHOAGAAxEgA/DStoay9MUm+H5YcOB3BAGidMkxZMABOSi6KHgT4TwBjQq4/EwwArgAwABgADAAGwOA4yd++/o+Bn79jY0QD4KKUG5UFA+Ck5OJ4AABADQArAKwH8DmAVQD6lmVDtgYAVwDMV/twZwAwAGIlAHZslC0PXy9bHuor+Ts2RVMA8M2A3MTWAOAKgPlqH+4MAAZAjATA1kdukII9v0jB7q2y9ZEbIhYACUiVVilDlQVXANzF1gDIL1zNADBc7cOdAcAAiIEAWD+jiWy4tUURIxYAnlRpmTpYWTAA3MXWADhUsJgBYLjahzsDgAEQAwGQv2OT/H70qPx+tPCPj5EMgOapg5QFA8BdbA2A/MJVDADD1T7cGQAMgBgIgGOun9FE1k8/N6JPA0zwpEqz1AHKggHgLrYGwKGCJQwAw9U+3BkADIAYCYC8z1bK74UF8ntBvuT984UIBkCKnJfaX1kwANzF1gA4UvgeA8BwtQ93BgADIEYC4MhvP8oPoyvID2MqypHf1kUsAMp5UqSJ9wZlwQBwF1sD4FDBMgaA4Wof7gwABkAMBMCudx+UQ+v/JXmf/1nyPn9RDq3/V0QDoLG3r7JgALiLrQFwpPAtBoDhah/uDAAGQAwEwJ7VT50gA4AAsDcADhWEf5u6BzsDgAHAAGAAnOwhgHXja8rON+bJzjfmybrxNSMaAA29fZQFA8BdbA2AI4VvMAAMV/twZwAwAGIkAA7++KnkffGy5H3xshz88bOIBkADby9lwQBwF1sD4HDBCgaA4Wof7gwABkCMBEDBri2ydmiCrL0xUQp2b41gACRL/bQeyoIB4C72BsBrDADD1T7cGQAMgBgJgL2frZCC3VulYPfWiD4NMN6TLGenXassGADuYm8A/JkBYLjahzsDgAEQIwGwdVF/2Ty/i2ye30XWDikX0QA4K+1qZcEAcBd7A+BlBoDhah/uDAAGQIwEwMEfPpHvh6ee8CqAkQiAOmldlAUDwF18afGyZ1wt481flBhWC166JPzbfLVKVJi/ql5UePiLlsZ7cM2lUeH+H7qa7Y+9RURk38bB2ofnqdQdIGXRVz31hGMACvO2y+FNX8nhTV9FMACSpFZaZ2XBAHAXWwMgf2UzBoDh6h7uDAAGQKwEwC+PDykiA4AAsDcACl7rxAAwXN3DnQHAAIiVANh052Wy99PnZcOtLWXbiskRDYAz0zopC2APAhFwzAlu7q912BoA+c81ZAAYru7hzgBgAMRKABze8q0U7PpZ1g5NCDwlMIIBcEZaR2XBFQB3sTUACv56DQPAcHUPdwYAAyBWAiB/20+Sv32DbJxzcURfByDOkyT+tMuUBQPAXWwNgPyn6zAADFf3cGcAMABiJQC2rZj8x9sBb3t+YgQDIFFqpLVTFgwAd7E1AAre6sMAMFzdw50BwACIlQBYOzhOfhhVXtaNO0N+GFU+ogFQPe0SZcEAcBdbAyB/SXUGgOHqHu4MAAZArATArrcWBlYAjhbK74UFEQ2ATG9rZcEAcBdbA6DgvUEMAMPVPdwZAAyAWAmA/B2bJH/HJtl0R3vZ9+/XGAAkgK0BkL+4AgPAcHUPdwYAAyBWAuDw5jVyePMayftspRTu2xHBAEiQqt4LlQUDwF1sDYCCVaMYAIare7gzABgAsRIAG29vKxv/1EZ2v/ew/Hxv14gGQBVvS2XBAHAXWwMgf1ESA8BwdQ93BgADIFYCYPP8LrL7H4/KntVPyZ4PlkQsADyeBKmU2lxZMADcxdYAKFw9jgFguLqHOwOAARArAVC4b4fsWf2U7Hr3Qdn17oMRDYCKqecrCwaAu9gaAG6oe7AzABgADAAGwMkCYP+ad2XLg31kw60tZMOtLSIXACgnFVKaKAsGQBEqA/gy6K8AtoScPxPACgDrAPwbwJsA6p9qg7YGQOGHNzMADFf3cGcAMABiJQB+P3o08BTACD8N0INykpHSWFkwAEokF8Ck4GkPgE8BjA65/jwAbU+1EVsDgCsA5qt7uDMAGACxEgDbnp8k+Ts3S+H+XVK4b2dEAyA9uaGyYACUSC6OB0AHAKtVNmJrAHAFwHx1D3cGAAMgVgIgf8cmKdi1RX55fIjs//JNBkAMkIvjAZADYKHKRmwNAK4AmK/u4c4AYADESgAc3vKtHPllrex84y4pzNse0QBIS66vLBgAJZILtQCYgJD3V85I9Ggf7lwBYAAwABgADAD3AmDLQ9fJz/f3kH1f/lV+XTIqggEQL96ks5UFA6BEcnE8ADqCDwFoV/dgZwAwABgADICTBUBphmccnRwP4iU1qa6yYACUSC6KHgT4TwAjQ65vCh4EWPIKAF8HwHh1D3cGAAOAAeCUeElJrKUsGAAlkovjAQAAPgAvIPA0wG8A/BVAvVNtxNYA4CsBmq/u4c4AYAAwAJwSL8kJNZUFA8BdbA0AvheA+eoe7gwABgADwClxkpTgVxYMAHexNQD4boDmq3u4MwAYAAwAp8RJYrkayoIB4C62BkDBe4MYAIare7gzABgADACnMACMxtYAyF9SnQFguLqHOwOAAcAAcEqcJJSrpiwYAO5iawAUvNWHAWC4uoc7A4ABwABwSpyUi6+iLBgA7mJrAOQ/XYcBYLi6hzsDgAHAAHCKR8rFV1IWDAB3sTUACv56DQPAcHUPdwYAA4AB4BSPxMdVUBbuBIAXwDIAiwH0d2H70YOtAZD/XEMGgOHqHu4MAAYAA8ApHomLy1AWZQ+AJQC2Afi62OWdAawF8COAacHLBgLoFjy90uENjG5sDYCC1zoxAAxX93BnADAAGABO8UhcXJqyKHsAtAPQHEUDIB6BF8arCyARwFcAGgGYDuD84OcsD8vNjFZsDYD8lc0YAIare7gzABgADACneCTOk6osTu8hgNooGgCtAbwdcn560IEArg5etsLBjYt+bA2AgpcuYQAYru7hzgBgADAAnOI4APYg5N1rEXg325KojaIB0BvAEyHnBwJ4CIFjAJ4CsAg8BsDSAPhzawaA4eoe7gwABgADwDHi8SQrC2crACUFADmGrQGQ/0JLBoDh6h7uDAAGAAPAMeLxJCoLdx4CIMewNQAKXu3AADBc3cOdAcAAYAA4RjxIUBbOAqAcgJ8A1MHxgwAbh+uGxQS2BkD+8nMZAIare7gzABgADADHCFDOgWUOgOcB/AKgIPg1w4KXdwHwPQLPBrgl3DcuFjiCogdZUKpi8YN1KI1Vo+F7/QjM4As4ux1fRH6XCSGny8+6d4CQCMHvdUIICYG/FIkt8HudEEJC4C9FYgv8XieEkBBKe4EOQmIJfq8TQgghhBBCCCGEEEIIIYQQQgghhBBCCCGGcRmAGQDmAKiheV8IIUQrrQA01L0ThESArgD+i8DLxT4L4J8AymvdI0II0cRVAH4H8G8A52jeF0LcpDmA/wt+BAJ//b8Jft8TQiwkFcBKAL0QeP/sjwA00LpHhLjHWQDGFbtsNQLvJ08IIdbhA5AcPL0MgQhopG93CHGV1ODHcsGPKwB0CJ6+GkCliO8RIYRoxBNy+mkEIqA8gDEApmjZI0LcJT748VkATQB0R+DtZM/StkeEEKKJuJDTDwL4DcAmHH+8lJBY5DEA7wD4F7jyRQixmGMR0B/AdvAXIoldjq16vYnA9/rZGveFEEKMoAKAlwE01b0jhESAyxF4CIAQQgiAJN07QAghhBBCCCGEEEIIIYQQQgghhBBCCCGEEEIIIYQQQgghhJBop9ypP4UQQggh0cS1AL4D8BWAuwDsAFAbwIbg+c8BPBf83MkAvgGwJnjZsfd3zwVwX8g2swAsDZ4eAuAfAP4C4FsE3hWudrhvBCGEEELKTiaAnTj+1sRDAQiOB8ATOP5SrlchEAoVgucfB7AoeDoXpQfAEQANg+enIPCa8IQQQgjRxDUAVoWcj0NgWNdGIAAuCbnuXgQG/TGaAfgxeDoXpQdA6L9RAUA+jr9LHCGEEEIizKkC4PyQ64oHwPk4HgAzEXhnw2NMAgOAEEIIMZZjDwGcEzw/CEUfAggNgKsQeAw/I3h+EYBHgqevB/ApAkM9NXh6afC6IQAO4/jDDJMAvB3G20AIIYQQBXog8Nj+lwDuAbAPgb/SN6BoAAAlHwSYCOAlAN8jcMDfIzjxIMDXgl/LgwAJIYQQA0gPOd0dgRgIJ0MAvBrmbRJCCCHEITMQeArg1wA+AdA8zNsfAgYAIYQQQgghhBBCCCGEEEIIIYQQQgghhBBCCCGEEEIIIYQQQgghhBBCCCGEEEIIIYQQQgghhBBCCCGEEEIIIYQQQgghhBBCCCFh5P8BQ9FcyVkVwmMAAAAASUVORK5CYII=\" width=\"639.999990463257\">"
      ],
      "text/plain": [
       "<IPython.core.display.HTML object>"
      ]
     },
     "metadata": {},
     "output_type": "display_data"
    },
    {
     "data": {
      "application/vnd.jupyter.widget-view+json": {
       "model_id": "96b797df1fbd4dafb286b8482fe1f434",
       "version_major": 2,
       "version_minor": 0
      },
      "text/plain": [
       "A Jupyter Widget"
      ]
     },
     "metadata": {},
     "output_type": "display_data"
    },
    {
     "data": {
      "application/vnd.jupyter.widget-view+json": {
       "model_id": "e3f77d3d2f264656abcc6a1b209fbf5b",
       "version_major": 2,
       "version_minor": 0
      },
      "text/plain": [
       "A Jupyter Widget"
      ]
     },
     "metadata": {},
     "output_type": "display_data"
    },
    {
     "data": {
      "application/vnd.jupyter.widget-view+json": {
       "model_id": "4e275977fa734baa8bb4a9a9b5991816",
       "version_major": 2,
       "version_minor": 0
      },
      "text/plain": [
       "A Jupyter Widget"
      ]
     },
     "metadata": {},
     "output_type": "display_data"
    },
    {
     "data": {
      "application/vnd.jupyter.widget-view+json": {
       "model_id": "a3ab973b0c1743e68ef7ae085276b3c4",
       "version_major": 2,
       "version_minor": 0
      },
      "text/plain": [
       "A Jupyter Widget"
      ]
     },
     "metadata": {},
     "output_type": "display_data"
    },
    {
     "data": {
      "application/vnd.jupyter.widget-view+json": {
       "model_id": "d143f8f3eb7f4f1487dc336bc041b1a1",
       "version_major": 2,
       "version_minor": 0
      },
      "text/plain": [
       "A Jupyter Widget"
      ]
     },
     "metadata": {},
     "output_type": "display_data"
    },
    {
     "data": {
      "application/vnd.jupyter.widget-view+json": {
       "model_id": "9fd18553292c463cbbbeb64a01514014",
       "version_major": 2,
       "version_minor": 0
      },
      "text/plain": [
       "A Jupyter Widget"
      ]
     },
     "metadata": {},
     "output_type": "display_data"
    }
   ],
   "source": [
    "a = ca.read_amplicon('../calour/tests/data/test2.biom', \n",
    "                     '../calour/tests/data/test2.sample',\n",
    "                     feature_metadata_file='../calour/tests/data/test2.feature',\n",
    "                     min_reads=100, normalize=1000)\n",
    "\n",
    "b = a.plot(sample_field='group', feature_field=a.feature_metadata.index.tolist(), yticklabel_kwargs={'size': 9},\n",
    "           bary_fields=['oxygen'], barx_fields=['group', 'categorical'],\n",
    "           barx_label_kwargs=[{'color': 'b'}, {'color': 'white', 'size': 9}], cmap='inferno',\n",
    "           gui='jupyter', title='simple figure');"
   ]
  },
  {
   "cell_type": "markdown",
   "metadata": {},
   "source": [
    "# Use a different color map"
   ]
  },
  {
   "cell_type": "code",
   "execution_count": 3,
   "metadata": {},
   "outputs": [
    {
     "data": {
      "application/javascript": [
       "/* Put everything inside the global mpl namespace */\n",
       "window.mpl = {};\n",
       "\n",
       "\n",
       "mpl.get_websocket_type = function() {\n",
       "    if (typeof(WebSocket) !== 'undefined') {\n",
       "        return WebSocket;\n",
       "    } else if (typeof(MozWebSocket) !== 'undefined') {\n",
       "        return MozWebSocket;\n",
       "    } else {\n",
       "        alert('Your browser does not have WebSocket support.' +\n",
       "              'Please try Chrome, Safari or Firefox ≥ 6. ' +\n",
       "              'Firefox 4 and 5 are also supported but you ' +\n",
       "              'have to enable WebSockets in about:config.');\n",
       "    };\n",
       "}\n",
       "\n",
       "mpl.figure = function(figure_id, websocket, ondownload, parent_element) {\n",
       "    this.id = figure_id;\n",
       "\n",
       "    this.ws = websocket;\n",
       "\n",
       "    this.supports_binary = (this.ws.binaryType != undefined);\n",
       "\n",
       "    if (!this.supports_binary) {\n",
       "        var warnings = document.getElementById(\"mpl-warnings\");\n",
       "        if (warnings) {\n",
       "            warnings.style.display = 'block';\n",
       "            warnings.textContent = (\n",
       "                \"This browser does not support binary websocket messages. \" +\n",
       "                    \"Performance may be slow.\");\n",
       "        }\n",
       "    }\n",
       "\n",
       "    this.imageObj = new Image();\n",
       "\n",
       "    this.context = undefined;\n",
       "    this.message = undefined;\n",
       "    this.canvas = undefined;\n",
       "    this.rubberband_canvas = undefined;\n",
       "    this.rubberband_context = undefined;\n",
       "    this.format_dropdown = undefined;\n",
       "\n",
       "    this.image_mode = 'full';\n",
       "\n",
       "    this.root = $('<div/>');\n",
       "    this._root_extra_style(this.root)\n",
       "    this.root.attr('style', 'display: inline-block');\n",
       "\n",
       "    $(parent_element).append(this.root);\n",
       "\n",
       "    this._init_header(this);\n",
       "    this._init_canvas(this);\n",
       "    this._init_toolbar(this);\n",
       "\n",
       "    var fig = this;\n",
       "\n",
       "    this.waiting = false;\n",
       "\n",
       "    this.ws.onopen =  function () {\n",
       "            fig.send_message(\"supports_binary\", {value: fig.supports_binary});\n",
       "            fig.send_message(\"send_image_mode\", {});\n",
       "            if (mpl.ratio != 1) {\n",
       "                fig.send_message(\"set_dpi_ratio\", {'dpi_ratio': mpl.ratio});\n",
       "            }\n",
       "            fig.send_message(\"refresh\", {});\n",
       "        }\n",
       "\n",
       "    this.imageObj.onload = function() {\n",
       "            if (fig.image_mode == 'full') {\n",
       "                // Full images could contain transparency (where diff images\n",
       "                // almost always do), so we need to clear the canvas so that\n",
       "                // there is no ghosting.\n",
       "                fig.context.clearRect(0, 0, fig.canvas.width, fig.canvas.height);\n",
       "            }\n",
       "            fig.context.drawImage(fig.imageObj, 0, 0);\n",
       "        };\n",
       "\n",
       "    this.imageObj.onunload = function() {\n",
       "        this.ws.close();\n",
       "    }\n",
       "\n",
       "    this.ws.onmessage = this._make_on_message_function(this);\n",
       "\n",
       "    this.ondownload = ondownload;\n",
       "}\n",
       "\n",
       "mpl.figure.prototype._init_header = function() {\n",
       "    var titlebar = $(\n",
       "        '<div class=\"ui-dialog-titlebar ui-widget-header ui-corner-all ' +\n",
       "        'ui-helper-clearfix\"/>');\n",
       "    var titletext = $(\n",
       "        '<div class=\"ui-dialog-title\" style=\"width: 100%; ' +\n",
       "        'text-align: center; padding: 3px;\"/>');\n",
       "    titlebar.append(titletext)\n",
       "    this.root.append(titlebar);\n",
       "    this.header = titletext[0];\n",
       "}\n",
       "\n",
       "\n",
       "\n",
       "mpl.figure.prototype._canvas_extra_style = function(canvas_div) {\n",
       "\n",
       "}\n",
       "\n",
       "\n",
       "mpl.figure.prototype._root_extra_style = function(canvas_div) {\n",
       "\n",
       "}\n",
       "\n",
       "mpl.figure.prototype._init_canvas = function() {\n",
       "    var fig = this;\n",
       "\n",
       "    var canvas_div = $('<div/>');\n",
       "\n",
       "    canvas_div.attr('style', 'position: relative; clear: both; outline: 0');\n",
       "\n",
       "    function canvas_keyboard_event(event) {\n",
       "        return fig.key_event(event, event['data']);\n",
       "    }\n",
       "\n",
       "    canvas_div.keydown('key_press', canvas_keyboard_event);\n",
       "    canvas_div.keyup('key_release', canvas_keyboard_event);\n",
       "    this.canvas_div = canvas_div\n",
       "    this._canvas_extra_style(canvas_div)\n",
       "    this.root.append(canvas_div);\n",
       "\n",
       "    var canvas = $('<canvas/>');\n",
       "    canvas.addClass('mpl-canvas');\n",
       "    canvas.attr('style', \"left: 0; top: 0; z-index: 0; outline: 0\")\n",
       "\n",
       "    this.canvas = canvas[0];\n",
       "    this.context = canvas[0].getContext(\"2d\");\n",
       "\n",
       "    var backingStore = this.context.backingStorePixelRatio ||\n",
       "\tthis.context.webkitBackingStorePixelRatio ||\n",
       "\tthis.context.mozBackingStorePixelRatio ||\n",
       "\tthis.context.msBackingStorePixelRatio ||\n",
       "\tthis.context.oBackingStorePixelRatio ||\n",
       "\tthis.context.backingStorePixelRatio || 1;\n",
       "\n",
       "    mpl.ratio = (window.devicePixelRatio || 1) / backingStore;\n",
       "\n",
       "    var rubberband = $('<canvas/>');\n",
       "    rubberband.attr('style', \"position: absolute; left: 0; top: 0; z-index: 1;\")\n",
       "\n",
       "    var pass_mouse_events = true;\n",
       "\n",
       "    canvas_div.resizable({\n",
       "        start: function(event, ui) {\n",
       "            pass_mouse_events = false;\n",
       "        },\n",
       "        resize: function(event, ui) {\n",
       "            fig.request_resize(ui.size.width, ui.size.height);\n",
       "        },\n",
       "        stop: function(event, ui) {\n",
       "            pass_mouse_events = true;\n",
       "            fig.request_resize(ui.size.width, ui.size.height);\n",
       "        },\n",
       "    });\n",
       "\n",
       "    function mouse_event_fn(event) {\n",
       "        if (pass_mouse_events)\n",
       "            return fig.mouse_event(event, event['data']);\n",
       "    }\n",
       "\n",
       "    rubberband.mousedown('button_press', mouse_event_fn);\n",
       "    rubberband.mouseup('button_release', mouse_event_fn);\n",
       "    // Throttle sequential mouse events to 1 every 20ms.\n",
       "    rubberband.mousemove('motion_notify', mouse_event_fn);\n",
       "\n",
       "    rubberband.mouseenter('figure_enter', mouse_event_fn);\n",
       "    rubberband.mouseleave('figure_leave', mouse_event_fn);\n",
       "\n",
       "    canvas_div.on(\"wheel\", function (event) {\n",
       "        event = event.originalEvent;\n",
       "        event['data'] = 'scroll'\n",
       "        if (event.deltaY < 0) {\n",
       "            event.step = 1;\n",
       "        } else {\n",
       "            event.step = -1;\n",
       "        }\n",
       "        mouse_event_fn(event);\n",
       "    });\n",
       "\n",
       "    canvas_div.append(canvas);\n",
       "    canvas_div.append(rubberband);\n",
       "\n",
       "    this.rubberband = rubberband;\n",
       "    this.rubberband_canvas = rubberband[0];\n",
       "    this.rubberband_context = rubberband[0].getContext(\"2d\");\n",
       "    this.rubberband_context.strokeStyle = \"#000000\";\n",
       "\n",
       "    this._resize_canvas = function(width, height) {\n",
       "        // Keep the size of the canvas, canvas container, and rubber band\n",
       "        // canvas in synch.\n",
       "        canvas_div.css('width', width)\n",
       "        canvas_div.css('height', height)\n",
       "\n",
       "        canvas.attr('width', width * mpl.ratio);\n",
       "        canvas.attr('height', height * mpl.ratio);\n",
       "        canvas.attr('style', 'width: ' + width + 'px; height: ' + height + 'px;');\n",
       "\n",
       "        rubberband.attr('width', width);\n",
       "        rubberband.attr('height', height);\n",
       "    }\n",
       "\n",
       "    // Set the figure to an initial 600x600px, this will subsequently be updated\n",
       "    // upon first draw.\n",
       "    this._resize_canvas(600, 600);\n",
       "\n",
       "    // Disable right mouse context menu.\n",
       "    $(this.rubberband_canvas).bind(\"contextmenu\",function(e){\n",
       "        return false;\n",
       "    });\n",
       "\n",
       "    function set_focus () {\n",
       "        canvas.focus();\n",
       "        canvas_div.focus();\n",
       "    }\n",
       "\n",
       "    window.setTimeout(set_focus, 100);\n",
       "}\n",
       "\n",
       "mpl.figure.prototype._init_toolbar = function() {\n",
       "    var fig = this;\n",
       "\n",
       "    var nav_element = $('<div/>')\n",
       "    nav_element.attr('style', 'width: 100%');\n",
       "    this.root.append(nav_element);\n",
       "\n",
       "    // Define a callback function for later on.\n",
       "    function toolbar_event(event) {\n",
       "        return fig.toolbar_button_onclick(event['data']);\n",
       "    }\n",
       "    function toolbar_mouse_event(event) {\n",
       "        return fig.toolbar_button_onmouseover(event['data']);\n",
       "    }\n",
       "\n",
       "    for(var toolbar_ind in mpl.toolbar_items) {\n",
       "        var name = mpl.toolbar_items[toolbar_ind][0];\n",
       "        var tooltip = mpl.toolbar_items[toolbar_ind][1];\n",
       "        var image = mpl.toolbar_items[toolbar_ind][2];\n",
       "        var method_name = mpl.toolbar_items[toolbar_ind][3];\n",
       "\n",
       "        if (!name) {\n",
       "            // put a spacer in here.\n",
       "            continue;\n",
       "        }\n",
       "        var button = $('<button/>');\n",
       "        button.addClass('ui-button ui-widget ui-state-default ui-corner-all ' +\n",
       "                        'ui-button-icon-only');\n",
       "        button.attr('role', 'button');\n",
       "        button.attr('aria-disabled', 'false');\n",
       "        button.click(method_name, toolbar_event);\n",
       "        button.mouseover(tooltip, toolbar_mouse_event);\n",
       "\n",
       "        var icon_img = $('<span/>');\n",
       "        icon_img.addClass('ui-button-icon-primary ui-icon');\n",
       "        icon_img.addClass(image);\n",
       "        icon_img.addClass('ui-corner-all');\n",
       "\n",
       "        var tooltip_span = $('<span/>');\n",
       "        tooltip_span.addClass('ui-button-text');\n",
       "        tooltip_span.html(tooltip);\n",
       "\n",
       "        button.append(icon_img);\n",
       "        button.append(tooltip_span);\n",
       "\n",
       "        nav_element.append(button);\n",
       "    }\n",
       "\n",
       "    var fmt_picker_span = $('<span/>');\n",
       "\n",
       "    var fmt_picker = $('<select/>');\n",
       "    fmt_picker.addClass('mpl-toolbar-option ui-widget ui-widget-content');\n",
       "    fmt_picker_span.append(fmt_picker);\n",
       "    nav_element.append(fmt_picker_span);\n",
       "    this.format_dropdown = fmt_picker[0];\n",
       "\n",
       "    for (var ind in mpl.extensions) {\n",
       "        var fmt = mpl.extensions[ind];\n",
       "        var option = $(\n",
       "            '<option/>', {selected: fmt === mpl.default_extension}).html(fmt);\n",
       "        fmt_picker.append(option)\n",
       "    }\n",
       "\n",
       "    // Add hover states to the ui-buttons\n",
       "    $( \".ui-button\" ).hover(\n",
       "        function() { $(this).addClass(\"ui-state-hover\");},\n",
       "        function() { $(this).removeClass(\"ui-state-hover\");}\n",
       "    );\n",
       "\n",
       "    var status_bar = $('<span class=\"mpl-message\"/>');\n",
       "    nav_element.append(status_bar);\n",
       "    this.message = status_bar[0];\n",
       "}\n",
       "\n",
       "mpl.figure.prototype.request_resize = function(x_pixels, y_pixels) {\n",
       "    // Request matplotlib to resize the figure. Matplotlib will then trigger a resize in the client,\n",
       "    // which will in turn request a refresh of the image.\n",
       "    this.send_message('resize', {'width': x_pixels, 'height': y_pixels});\n",
       "}\n",
       "\n",
       "mpl.figure.prototype.send_message = function(type, properties) {\n",
       "    properties['type'] = type;\n",
       "    properties['figure_id'] = this.id;\n",
       "    this.ws.send(JSON.stringify(properties));\n",
       "}\n",
       "\n",
       "mpl.figure.prototype.send_draw_message = function() {\n",
       "    if (!this.waiting) {\n",
       "        this.waiting = true;\n",
       "        this.ws.send(JSON.stringify({type: \"draw\", figure_id: this.id}));\n",
       "    }\n",
       "}\n",
       "\n",
       "\n",
       "mpl.figure.prototype.handle_save = function(fig, msg) {\n",
       "    var format_dropdown = fig.format_dropdown;\n",
       "    var format = format_dropdown.options[format_dropdown.selectedIndex].value;\n",
       "    fig.ondownload(fig, format);\n",
       "}\n",
       "\n",
       "\n",
       "mpl.figure.prototype.handle_resize = function(fig, msg) {\n",
       "    var size = msg['size'];\n",
       "    if (size[0] != fig.canvas.width || size[1] != fig.canvas.height) {\n",
       "        fig._resize_canvas(size[0], size[1]);\n",
       "        fig.send_message(\"refresh\", {});\n",
       "    };\n",
       "}\n",
       "\n",
       "mpl.figure.prototype.handle_rubberband = function(fig, msg) {\n",
       "    var x0 = msg['x0'] / mpl.ratio;\n",
       "    var y0 = (fig.canvas.height - msg['y0']) / mpl.ratio;\n",
       "    var x1 = msg['x1'] / mpl.ratio;\n",
       "    var y1 = (fig.canvas.height - msg['y1']) / mpl.ratio;\n",
       "    x0 = Math.floor(x0) + 0.5;\n",
       "    y0 = Math.floor(y0) + 0.5;\n",
       "    x1 = Math.floor(x1) + 0.5;\n",
       "    y1 = Math.floor(y1) + 0.5;\n",
       "    var min_x = Math.min(x0, x1);\n",
       "    var min_y = Math.min(y0, y1);\n",
       "    var width = Math.abs(x1 - x0);\n",
       "    var height = Math.abs(y1 - y0);\n",
       "\n",
       "    fig.rubberband_context.clearRect(\n",
       "        0, 0, fig.canvas.width, fig.canvas.height);\n",
       "\n",
       "    fig.rubberband_context.strokeRect(min_x, min_y, width, height);\n",
       "}\n",
       "\n",
       "mpl.figure.prototype.handle_figure_label = function(fig, msg) {\n",
       "    // Updates the figure title.\n",
       "    fig.header.textContent = msg['label'];\n",
       "}\n",
       "\n",
       "mpl.figure.prototype.handle_cursor = function(fig, msg) {\n",
       "    var cursor = msg['cursor'];\n",
       "    switch(cursor)\n",
       "    {\n",
       "    case 0:\n",
       "        cursor = 'pointer';\n",
       "        break;\n",
       "    case 1:\n",
       "        cursor = 'default';\n",
       "        break;\n",
       "    case 2:\n",
       "        cursor = 'crosshair';\n",
       "        break;\n",
       "    case 3:\n",
       "        cursor = 'move';\n",
       "        break;\n",
       "    }\n",
       "    fig.rubberband_canvas.style.cursor = cursor;\n",
       "}\n",
       "\n",
       "mpl.figure.prototype.handle_message = function(fig, msg) {\n",
       "    fig.message.textContent = msg['message'];\n",
       "}\n",
       "\n",
       "mpl.figure.prototype.handle_draw = function(fig, msg) {\n",
       "    // Request the server to send over a new figure.\n",
       "    fig.send_draw_message();\n",
       "}\n",
       "\n",
       "mpl.figure.prototype.handle_image_mode = function(fig, msg) {\n",
       "    fig.image_mode = msg['mode'];\n",
       "}\n",
       "\n",
       "mpl.figure.prototype.updated_canvas_event = function() {\n",
       "    // Called whenever the canvas gets updated.\n",
       "    this.send_message(\"ack\", {});\n",
       "}\n",
       "\n",
       "// A function to construct a web socket function for onmessage handling.\n",
       "// Called in the figure constructor.\n",
       "mpl.figure.prototype._make_on_message_function = function(fig) {\n",
       "    return function socket_on_message(evt) {\n",
       "        if (evt.data instanceof Blob) {\n",
       "            /* FIXME: We get \"Resource interpreted as Image but\n",
       "             * transferred with MIME type text/plain:\" errors on\n",
       "             * Chrome.  But how to set the MIME type?  It doesn't seem\n",
       "             * to be part of the websocket stream */\n",
       "            evt.data.type = \"image/png\";\n",
       "\n",
       "            /* Free the memory for the previous frames */\n",
       "            if (fig.imageObj.src) {\n",
       "                (window.URL || window.webkitURL).revokeObjectURL(\n",
       "                    fig.imageObj.src);\n",
       "            }\n",
       "\n",
       "            fig.imageObj.src = (window.URL || window.webkitURL).createObjectURL(\n",
       "                evt.data);\n",
       "            fig.updated_canvas_event();\n",
       "            fig.waiting = false;\n",
       "            return;\n",
       "        }\n",
       "        else if (typeof evt.data === 'string' && evt.data.slice(0, 21) == \"data:image/png;base64\") {\n",
       "            fig.imageObj.src = evt.data;\n",
       "            fig.updated_canvas_event();\n",
       "            fig.waiting = false;\n",
       "            return;\n",
       "        }\n",
       "\n",
       "        var msg = JSON.parse(evt.data);\n",
       "        var msg_type = msg['type'];\n",
       "\n",
       "        // Call the  \"handle_{type}\" callback, which takes\n",
       "        // the figure and JSON message as its only arguments.\n",
       "        try {\n",
       "            var callback = fig[\"handle_\" + msg_type];\n",
       "        } catch (e) {\n",
       "            console.log(\"No handler for the '\" + msg_type + \"' message type: \", msg);\n",
       "            return;\n",
       "        }\n",
       "\n",
       "        if (callback) {\n",
       "            try {\n",
       "                // console.log(\"Handling '\" + msg_type + \"' message: \", msg);\n",
       "                callback(fig, msg);\n",
       "            } catch (e) {\n",
       "                console.log(\"Exception inside the 'handler_\" + msg_type + \"' callback:\", e, e.stack, msg);\n",
       "            }\n",
       "        }\n",
       "    };\n",
       "}\n",
       "\n",
       "// from http://stackoverflow.com/questions/1114465/getting-mouse-location-in-canvas\n",
       "mpl.findpos = function(e) {\n",
       "    //this section is from http://www.quirksmode.org/js/events_properties.html\n",
       "    var targ;\n",
       "    if (!e)\n",
       "        e = window.event;\n",
       "    if (e.target)\n",
       "        targ = e.target;\n",
       "    else if (e.srcElement)\n",
       "        targ = e.srcElement;\n",
       "    if (targ.nodeType == 3) // defeat Safari bug\n",
       "        targ = targ.parentNode;\n",
       "\n",
       "    // jQuery normalizes the pageX and pageY\n",
       "    // pageX,Y are the mouse positions relative to the document\n",
       "    // offset() returns the position of the element relative to the document\n",
       "    var x = e.pageX - $(targ).offset().left;\n",
       "    var y = e.pageY - $(targ).offset().top;\n",
       "\n",
       "    return {\"x\": x, \"y\": y};\n",
       "};\n",
       "\n",
       "/*\n",
       " * return a copy of an object with only non-object keys\n",
       " * we need this to avoid circular references\n",
       " * http://stackoverflow.com/a/24161582/3208463\n",
       " */\n",
       "function simpleKeys (original) {\n",
       "  return Object.keys(original).reduce(function (obj, key) {\n",
       "    if (typeof original[key] !== 'object')\n",
       "        obj[key] = original[key]\n",
       "    return obj;\n",
       "  }, {});\n",
       "}\n",
       "\n",
       "mpl.figure.prototype.mouse_event = function(event, name) {\n",
       "    var canvas_pos = mpl.findpos(event)\n",
       "\n",
       "    if (name === 'button_press')\n",
       "    {\n",
       "        this.canvas.focus();\n",
       "        this.canvas_div.focus();\n",
       "    }\n",
       "\n",
       "    var x = canvas_pos.x * mpl.ratio;\n",
       "    var y = canvas_pos.y * mpl.ratio;\n",
       "\n",
       "    this.send_message(name, {x: x, y: y, button: event.button,\n",
       "                             step: event.step,\n",
       "                             guiEvent: simpleKeys(event)});\n",
       "\n",
       "    /* This prevents the web browser from automatically changing to\n",
       "     * the text insertion cursor when the button is pressed.  We want\n",
       "     * to control all of the cursor setting manually through the\n",
       "     * 'cursor' event from matplotlib */\n",
       "    event.preventDefault();\n",
       "    return false;\n",
       "}\n",
       "\n",
       "mpl.figure.prototype._key_event_extra = function(event, name) {\n",
       "    // Handle any extra behaviour associated with a key event\n",
       "}\n",
       "\n",
       "mpl.figure.prototype.key_event = function(event, name) {\n",
       "\n",
       "    // Prevent repeat events\n",
       "    if (name == 'key_press')\n",
       "    {\n",
       "        if (event.which === this._key)\n",
       "            return;\n",
       "        else\n",
       "            this._key = event.which;\n",
       "    }\n",
       "    if (name == 'key_release')\n",
       "        this._key = null;\n",
       "\n",
       "    var value = '';\n",
       "    if (event.ctrlKey && event.which != 17)\n",
       "        value += \"ctrl+\";\n",
       "    if (event.altKey && event.which != 18)\n",
       "        value += \"alt+\";\n",
       "    if (event.shiftKey && event.which != 16)\n",
       "        value += \"shift+\";\n",
       "\n",
       "    value += 'k';\n",
       "    value += event.which.toString();\n",
       "\n",
       "    this._key_event_extra(event, name);\n",
       "\n",
       "    this.send_message(name, {key: value,\n",
       "                             guiEvent: simpleKeys(event)});\n",
       "    return false;\n",
       "}\n",
       "\n",
       "mpl.figure.prototype.toolbar_button_onclick = function(name) {\n",
       "    if (name == 'download') {\n",
       "        this.handle_save(this, null);\n",
       "    } else {\n",
       "        this.send_message(\"toolbar_button\", {name: name});\n",
       "    }\n",
       "};\n",
       "\n",
       "mpl.figure.prototype.toolbar_button_onmouseover = function(tooltip) {\n",
       "    this.message.textContent = tooltip;\n",
       "};\n",
       "mpl.toolbar_items = [[\"Home\", \"Reset original view\", \"fa fa-home icon-home\", \"home\"], [\"Back\", \"Back to  previous view\", \"fa fa-arrow-left icon-arrow-left\", \"back\"], [\"Forward\", \"Forward to next view\", \"fa fa-arrow-right icon-arrow-right\", \"forward\"], [\"\", \"\", \"\", \"\"], [\"Pan\", \"Pan axes with left mouse, zoom with right\", \"fa fa-arrows icon-move\", \"pan\"], [\"Zoom\", \"Zoom to rectangle\", \"fa fa-square-o icon-check-empty\", \"zoom\"], [\"\", \"\", \"\", \"\"], [\"Download\", \"Download plot\", \"fa fa-floppy-o icon-save\", \"download\"]];\n",
       "\n",
       "mpl.extensions = [\"eps\", \"pdf\", \"png\", \"ps\", \"raw\", \"svg\"];\n",
       "\n",
       "mpl.default_extension = \"png\";var comm_websocket_adapter = function(comm) {\n",
       "    // Create a \"websocket\"-like object which calls the given IPython comm\n",
       "    // object with the appropriate methods. Currently this is a non binary\n",
       "    // socket, so there is still some room for performance tuning.\n",
       "    var ws = {};\n",
       "\n",
       "    ws.close = function() {\n",
       "        comm.close()\n",
       "    };\n",
       "    ws.send = function(m) {\n",
       "        //console.log('sending', m);\n",
       "        comm.send(m);\n",
       "    };\n",
       "    // Register the callback with on_msg.\n",
       "    comm.on_msg(function(msg) {\n",
       "        //console.log('receiving', msg['content']['data'], msg);\n",
       "        // Pass the mpl event to the overriden (by mpl) onmessage function.\n",
       "        ws.onmessage(msg['content']['data'])\n",
       "    });\n",
       "    return ws;\n",
       "}\n",
       "\n",
       "mpl.mpl_figure_comm = function(comm, msg) {\n",
       "    // This is the function which gets called when the mpl process\n",
       "    // starts-up an IPython Comm through the \"matplotlib\" channel.\n",
       "\n",
       "    var id = msg.content.data.id;\n",
       "    // Get hold of the div created by the display call when the Comm\n",
       "    // socket was opened in Python.\n",
       "    var element = $(\"#\" + id);\n",
       "    var ws_proxy = comm_websocket_adapter(comm)\n",
       "\n",
       "    function ondownload(figure, format) {\n",
       "        window.open(figure.imageObj.src);\n",
       "    }\n",
       "\n",
       "    var fig = new mpl.figure(id, ws_proxy,\n",
       "                           ondownload,\n",
       "                           element.get(0));\n",
       "\n",
       "    // Call onopen now - mpl needs it, as it is assuming we've passed it a real\n",
       "    // web socket which is closed, not our websocket->open comm proxy.\n",
       "    ws_proxy.onopen();\n",
       "\n",
       "    fig.parent_element = element.get(0);\n",
       "    fig.cell_info = mpl.find_output_cell(\"<div id='\" + id + \"'></div>\");\n",
       "    if (!fig.cell_info) {\n",
       "        console.error(\"Failed to find cell for figure\", id, fig);\n",
       "        return;\n",
       "    }\n",
       "\n",
       "    var output_index = fig.cell_info[2]\n",
       "    var cell = fig.cell_info[0];\n",
       "\n",
       "};\n",
       "\n",
       "mpl.figure.prototype.handle_close = function(fig, msg) {\n",
       "    var width = fig.canvas.width/mpl.ratio\n",
       "    fig.root.unbind('remove')\n",
       "\n",
       "    // Update the output cell to use the data from the current canvas.\n",
       "    fig.push_to_output();\n",
       "    var dataURL = fig.canvas.toDataURL();\n",
       "    // Re-enable the keyboard manager in IPython - without this line, in FF,\n",
       "    // the notebook keyboard shortcuts fail.\n",
       "    IPython.keyboard_manager.enable()\n",
       "    $(fig.parent_element).html('<img src=\"' + dataURL + '\" width=\"' + width + '\">');\n",
       "    fig.close_ws(fig, msg);\n",
       "}\n",
       "\n",
       "mpl.figure.prototype.close_ws = function(fig, msg){\n",
       "    fig.send_message('closing', msg);\n",
       "    // fig.ws.close()\n",
       "}\n",
       "\n",
       "mpl.figure.prototype.push_to_output = function(remove_interactive) {\n",
       "    // Turn the data on the canvas into data in the output cell.\n",
       "    var width = this.canvas.width/mpl.ratio\n",
       "    var dataURL = this.canvas.toDataURL();\n",
       "    this.cell_info[1]['text/html'] = '<img src=\"' + dataURL + '\" width=\"' + width + '\">';\n",
       "}\n",
       "\n",
       "mpl.figure.prototype.updated_canvas_event = function() {\n",
       "    // Tell IPython that the notebook contents must change.\n",
       "    IPython.notebook.set_dirty(true);\n",
       "    this.send_message(\"ack\", {});\n",
       "    var fig = this;\n",
       "    // Wait a second, then push the new image to the DOM so\n",
       "    // that it is saved nicely (might be nice to debounce this).\n",
       "    setTimeout(function () { fig.push_to_output() }, 1000);\n",
       "}\n",
       "\n",
       "mpl.figure.prototype._init_toolbar = function() {\n",
       "    var fig = this;\n",
       "\n",
       "    var nav_element = $('<div/>')\n",
       "    nav_element.attr('style', 'width: 100%');\n",
       "    this.root.append(nav_element);\n",
       "\n",
       "    // Define a callback function for later on.\n",
       "    function toolbar_event(event) {\n",
       "        return fig.toolbar_button_onclick(event['data']);\n",
       "    }\n",
       "    function toolbar_mouse_event(event) {\n",
       "        return fig.toolbar_button_onmouseover(event['data']);\n",
       "    }\n",
       "\n",
       "    for(var toolbar_ind in mpl.toolbar_items){\n",
       "        var name = mpl.toolbar_items[toolbar_ind][0];\n",
       "        var tooltip = mpl.toolbar_items[toolbar_ind][1];\n",
       "        var image = mpl.toolbar_items[toolbar_ind][2];\n",
       "        var method_name = mpl.toolbar_items[toolbar_ind][3];\n",
       "\n",
       "        if (!name) { continue; };\n",
       "\n",
       "        var button = $('<button class=\"btn btn-default\" href=\"#\" title=\"' + name + '\"><i class=\"fa ' + image + ' fa-lg\"></i></button>');\n",
       "        button.click(method_name, toolbar_event);\n",
       "        button.mouseover(tooltip, toolbar_mouse_event);\n",
       "        nav_element.append(button);\n",
       "    }\n",
       "\n",
       "    // Add the status bar.\n",
       "    var status_bar = $('<span class=\"mpl-message\" style=\"text-align:right; float: right;\"/>');\n",
       "    nav_element.append(status_bar);\n",
       "    this.message = status_bar[0];\n",
       "\n",
       "    // Add the close button to the window.\n",
       "    var buttongrp = $('<div class=\"btn-group inline pull-right\"></div>');\n",
       "    var button = $('<button class=\"btn btn-mini btn-primary\" href=\"#\" title=\"Stop Interaction\"><i class=\"fa fa-power-off icon-remove icon-large\"></i></button>');\n",
       "    button.click(function (evt) { fig.handle_close(fig, {}); } );\n",
       "    button.mouseover('Stop Interaction', toolbar_mouse_event);\n",
       "    buttongrp.append(button);\n",
       "    var titlebar = this.root.find($('.ui-dialog-titlebar'));\n",
       "    titlebar.prepend(buttongrp);\n",
       "}\n",
       "\n",
       "mpl.figure.prototype._root_extra_style = function(el){\n",
       "    var fig = this\n",
       "    el.on(\"remove\", function(){\n",
       "\tfig.close_ws(fig, {});\n",
       "    });\n",
       "}\n",
       "\n",
       "mpl.figure.prototype._canvas_extra_style = function(el){\n",
       "    // this is important to make the div 'focusable\n",
       "    el.attr('tabindex', 0)\n",
       "    // reach out to IPython and tell the keyboard manager to turn it's self\n",
       "    // off when our div gets focus\n",
       "\n",
       "    // location in version 3\n",
       "    if (IPython.notebook.keyboard_manager) {\n",
       "        IPython.notebook.keyboard_manager.register_events(el);\n",
       "    }\n",
       "    else {\n",
       "        // location in version 2\n",
       "        IPython.keyboard_manager.register_events(el);\n",
       "    }\n",
       "\n",
       "}\n",
       "\n",
       "mpl.figure.prototype._key_event_extra = function(event, name) {\n",
       "    var manager = IPython.notebook.keyboard_manager;\n",
       "    if (!manager)\n",
       "        manager = IPython.keyboard_manager;\n",
       "\n",
       "    // Check for shift+enter\n",
       "    if (event.shiftKey && event.which == 13) {\n",
       "        this.canvas_div.blur();\n",
       "        // select the cell after this one\n",
       "        var index = IPython.notebook.find_cell_index(this.cell_info[0]);\n",
       "        IPython.notebook.select(index + 1);\n",
       "    }\n",
       "}\n",
       "\n",
       "mpl.figure.prototype.handle_save = function(fig, msg) {\n",
       "    fig.ondownload(fig, null);\n",
       "}\n",
       "\n",
       "\n",
       "mpl.find_output_cell = function(html_output) {\n",
       "    // Return the cell and output element which can be found *uniquely* in the notebook.\n",
       "    // Note - this is a bit hacky, but it is done because the \"notebook_saving.Notebook\"\n",
       "    // IPython event is triggered only after the cells have been serialised, which for\n",
       "    // our purposes (turning an active figure into a static one), is too late.\n",
       "    var cells = IPython.notebook.get_cells();\n",
       "    var ncells = cells.length;\n",
       "    for (var i=0; i<ncells; i++) {\n",
       "        var cell = cells[i];\n",
       "        if (cell.cell_type === 'code'){\n",
       "            for (var j=0; j<cell.output_area.outputs.length; j++) {\n",
       "                var data = cell.output_area.outputs[j];\n",
       "                if (data.data) {\n",
       "                    // IPython >= 3 moved mimebundle to data attribute of output\n",
       "                    data = data.data;\n",
       "                }\n",
       "                if (data['text/html'] == html_output) {\n",
       "                    return [cell, data, j];\n",
       "                }\n",
       "            }\n",
       "        }\n",
       "    }\n",
       "}\n",
       "\n",
       "// Register the function which deals with the matplotlib target/channel.\n",
       "// The kernel may be null if the page has been refreshed.\n",
       "if (IPython.notebook.kernel != null) {\n",
       "    IPython.notebook.kernel.comm_manager.register_target('matplotlib', mpl.mpl_figure_comm);\n",
       "}\n"
      ],
      "text/plain": [
       "<IPython.core.display.Javascript object>"
      ]
     },
     "metadata": {},
     "output_type": "display_data"
    },
    {
     "data": {
      "text/html": [
       "<img src=\"data:image/png;base64,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\" width=\"639.999990463257\">"
      ],
      "text/plain": [
       "<IPython.core.display.HTML object>"
      ]
     },
     "metadata": {},
     "output_type": "display_data"
    },
    {
     "data": {
      "application/vnd.jupyter.widget-view+json": {
       "model_id": "a9801bfd8b2e4dc980457c0b9cb11527",
       "version_major": 2,
       "version_minor": 0
      },
      "text/plain": [
       "A Jupyter Widget"
      ]
     },
     "metadata": {},
     "output_type": "display_data"
    },
    {
     "data": {
      "application/vnd.jupyter.widget-view+json": {
       "model_id": "7d98d60283e441a699fa2dff142c7eb3",
       "version_major": 2,
       "version_minor": 0
      },
      "text/plain": [
       "A Jupyter Widget"
      ]
     },
     "metadata": {},
     "output_type": "display_data"
    },
    {
     "data": {
      "application/vnd.jupyter.widget-view+json": {
       "model_id": "d40b804cdd9541688c3ab4f9459bc634",
       "version_major": 2,
       "version_minor": 0
      },
      "text/plain": [
       "A Jupyter Widget"
      ]
     },
     "metadata": {},
     "output_type": "display_data"
    },
    {
     "data": {
      "application/vnd.jupyter.widget-view+json": {
       "model_id": "7158233a34804accb15cfc8a8f90b29b",
       "version_major": 2,
       "version_minor": 0
      },
      "text/plain": [
       "A Jupyter Widget"
      ]
     },
     "metadata": {},
     "output_type": "display_data"
    },
    {
     "data": {
      "application/vnd.jupyter.widget-view+json": {
       "model_id": "496cb9f2f0ec49dca3c0e80f1431ac3e",
       "version_major": 2,
       "version_minor": 0
      },
      "text/plain": [
       "A Jupyter Widget"
      ]
     },
     "metadata": {},
     "output_type": "display_data"
    },
    {
     "data": {
      "application/vnd.jupyter.widget-view+json": {
       "model_id": "75e9dc465c294e5da385c87640bcaf7e",
       "version_major": 2,
       "version_minor": 0
      },
      "text/plain": [
       "A Jupyter Widget"
      ]
     },
     "metadata": {},
     "output_type": "display_data"
    }
   ],
   "source": [
    "a = ca.read_amplicon('../calour/tests/data/test2.biom',\n",
    "                     '../calour/tests/data/test2.sample', \n",
    "                     feature_metadata_file='../calour/tests/data/test2.feature',\n",
    "                     min_reads=100, normalize=None)\n",
    "\n",
    "b = a.plot(sample_field='group', feature_field='taxonomy', yticklabel_kwargs={'size': 9},\n",
    "           bary_fields=['oxygen'], barx_fields=['group', 'categorical'],\n",
    "           barx_label_kwargs=[{'color': 'b'}, {'color': 'white', 'size': 9}], cmap='viridis',\n",
    "           gui='jupyter', title='simple figure');"
   ]
  },
  {
   "cell_type": "markdown",
   "metadata": {},
   "source": [
    "# No log scale of heatmap color"
   ]
  },
  {
   "cell_type": "code",
   "execution_count": 4,
   "metadata": {},
   "outputs": [
    {
     "data": {
      "application/javascript": [
       "/* Put everything inside the global mpl namespace */\n",
       "window.mpl = {};\n",
       "\n",
       "\n",
       "mpl.get_websocket_type = function() {\n",
       "    if (typeof(WebSocket) !== 'undefined') {\n",
       "        return WebSocket;\n",
       "    } else if (typeof(MozWebSocket) !== 'undefined') {\n",
       "        return MozWebSocket;\n",
       "    } else {\n",
       "        alert('Your browser does not have WebSocket support.' +\n",
       "              'Please try Chrome, Safari or Firefox ≥ 6. ' +\n",
       "              'Firefox 4 and 5 are also supported but you ' +\n",
       "              'have to enable WebSockets in about:config.');\n",
       "    };\n",
       "}\n",
       "\n",
       "mpl.figure = function(figure_id, websocket, ondownload, parent_element) {\n",
       "    this.id = figure_id;\n",
       "\n",
       "    this.ws = websocket;\n",
       "\n",
       "    this.supports_binary = (this.ws.binaryType != undefined);\n",
       "\n",
       "    if (!this.supports_binary) {\n",
       "        var warnings = document.getElementById(\"mpl-warnings\");\n",
       "        if (warnings) {\n",
       "            warnings.style.display = 'block';\n",
       "            warnings.textContent = (\n",
       "                \"This browser does not support binary websocket messages. \" +\n",
       "                    \"Performance may be slow.\");\n",
       "        }\n",
       "    }\n",
       "\n",
       "    this.imageObj = new Image();\n",
       "\n",
       "    this.context = undefined;\n",
       "    this.message = undefined;\n",
       "    this.canvas = undefined;\n",
       "    this.rubberband_canvas = undefined;\n",
       "    this.rubberband_context = undefined;\n",
       "    this.format_dropdown = undefined;\n",
       "\n",
       "    this.image_mode = 'full';\n",
       "\n",
       "    this.root = $('<div/>');\n",
       "    this._root_extra_style(this.root)\n",
       "    this.root.attr('style', 'display: inline-block');\n",
       "\n",
       "    $(parent_element).append(this.root);\n",
       "\n",
       "    this._init_header(this);\n",
       "    this._init_canvas(this);\n",
       "    this._init_toolbar(this);\n",
       "\n",
       "    var fig = this;\n",
       "\n",
       "    this.waiting = false;\n",
       "\n",
       "    this.ws.onopen =  function () {\n",
       "            fig.send_message(\"supports_binary\", {value: fig.supports_binary});\n",
       "            fig.send_message(\"send_image_mode\", {});\n",
       "            if (mpl.ratio != 1) {\n",
       "                fig.send_message(\"set_dpi_ratio\", {'dpi_ratio': mpl.ratio});\n",
       "            }\n",
       "            fig.send_message(\"refresh\", {});\n",
       "        }\n",
       "\n",
       "    this.imageObj.onload = function() {\n",
       "            if (fig.image_mode == 'full') {\n",
       "                // Full images could contain transparency (where diff images\n",
       "                // almost always do), so we need to clear the canvas so that\n",
       "                // there is no ghosting.\n",
       "                fig.context.clearRect(0, 0, fig.canvas.width, fig.canvas.height);\n",
       "            }\n",
       "            fig.context.drawImage(fig.imageObj, 0, 0);\n",
       "        };\n",
       "\n",
       "    this.imageObj.onunload = function() {\n",
       "        this.ws.close();\n",
       "    }\n",
       "\n",
       "    this.ws.onmessage = this._make_on_message_function(this);\n",
       "\n",
       "    this.ondownload = ondownload;\n",
       "}\n",
       "\n",
       "mpl.figure.prototype._init_header = function() {\n",
       "    var titlebar = $(\n",
       "        '<div class=\"ui-dialog-titlebar ui-widget-header ui-corner-all ' +\n",
       "        'ui-helper-clearfix\"/>');\n",
       "    var titletext = $(\n",
       "        '<div class=\"ui-dialog-title\" style=\"width: 100%; ' +\n",
       "        'text-align: center; padding: 3px;\"/>');\n",
       "    titlebar.append(titletext)\n",
       "    this.root.append(titlebar);\n",
       "    this.header = titletext[0];\n",
       "}\n",
       "\n",
       "\n",
       "\n",
       "mpl.figure.prototype._canvas_extra_style = function(canvas_div) {\n",
       "\n",
       "}\n",
       "\n",
       "\n",
       "mpl.figure.prototype._root_extra_style = function(canvas_div) {\n",
       "\n",
       "}\n",
       "\n",
       "mpl.figure.prototype._init_canvas = function() {\n",
       "    var fig = this;\n",
       "\n",
       "    var canvas_div = $('<div/>');\n",
       "\n",
       "    canvas_div.attr('style', 'position: relative; clear: both; outline: 0');\n",
       "\n",
       "    function canvas_keyboard_event(event) {\n",
       "        return fig.key_event(event, event['data']);\n",
       "    }\n",
       "\n",
       "    canvas_div.keydown('key_press', canvas_keyboard_event);\n",
       "    canvas_div.keyup('key_release', canvas_keyboard_event);\n",
       "    this.canvas_div = canvas_div\n",
       "    this._canvas_extra_style(canvas_div)\n",
       "    this.root.append(canvas_div);\n",
       "\n",
       "    var canvas = $('<canvas/>');\n",
       "    canvas.addClass('mpl-canvas');\n",
       "    canvas.attr('style', \"left: 0; top: 0; z-index: 0; outline: 0\")\n",
       "\n",
       "    this.canvas = canvas[0];\n",
       "    this.context = canvas[0].getContext(\"2d\");\n",
       "\n",
       "    var backingStore = this.context.backingStorePixelRatio ||\n",
       "\tthis.context.webkitBackingStorePixelRatio ||\n",
       "\tthis.context.mozBackingStorePixelRatio ||\n",
       "\tthis.context.msBackingStorePixelRatio ||\n",
       "\tthis.context.oBackingStorePixelRatio ||\n",
       "\tthis.context.backingStorePixelRatio || 1;\n",
       "\n",
       "    mpl.ratio = (window.devicePixelRatio || 1) / backingStore;\n",
       "\n",
       "    var rubberband = $('<canvas/>');\n",
       "    rubberband.attr('style', \"position: absolute; left: 0; top: 0; z-index: 1;\")\n",
       "\n",
       "    var pass_mouse_events = true;\n",
       "\n",
       "    canvas_div.resizable({\n",
       "        start: function(event, ui) {\n",
       "            pass_mouse_events = false;\n",
       "        },\n",
       "        resize: function(event, ui) {\n",
       "            fig.request_resize(ui.size.width, ui.size.height);\n",
       "        },\n",
       "        stop: function(event, ui) {\n",
       "            pass_mouse_events = true;\n",
       "            fig.request_resize(ui.size.width, ui.size.height);\n",
       "        },\n",
       "    });\n",
       "\n",
       "    function mouse_event_fn(event) {\n",
       "        if (pass_mouse_events)\n",
       "            return fig.mouse_event(event, event['data']);\n",
       "    }\n",
       "\n",
       "    rubberband.mousedown('button_press', mouse_event_fn);\n",
       "    rubberband.mouseup('button_release', mouse_event_fn);\n",
       "    // Throttle sequential mouse events to 1 every 20ms.\n",
       "    rubberband.mousemove('motion_notify', mouse_event_fn);\n",
       "\n",
       "    rubberband.mouseenter('figure_enter', mouse_event_fn);\n",
       "    rubberband.mouseleave('figure_leave', mouse_event_fn);\n",
       "\n",
       "    canvas_div.on(\"wheel\", function (event) {\n",
       "        event = event.originalEvent;\n",
       "        event['data'] = 'scroll'\n",
       "        if (event.deltaY < 0) {\n",
       "            event.step = 1;\n",
       "        } else {\n",
       "            event.step = -1;\n",
       "        }\n",
       "        mouse_event_fn(event);\n",
       "    });\n",
       "\n",
       "    canvas_div.append(canvas);\n",
       "    canvas_div.append(rubberband);\n",
       "\n",
       "    this.rubberband = rubberband;\n",
       "    this.rubberband_canvas = rubberband[0];\n",
       "    this.rubberband_context = rubberband[0].getContext(\"2d\");\n",
       "    this.rubberband_context.strokeStyle = \"#000000\";\n",
       "\n",
       "    this._resize_canvas = function(width, height) {\n",
       "        // Keep the size of the canvas, canvas container, and rubber band\n",
       "        // canvas in synch.\n",
       "        canvas_div.css('width', width)\n",
       "        canvas_div.css('height', height)\n",
       "\n",
       "        canvas.attr('width', width * mpl.ratio);\n",
       "        canvas.attr('height', height * mpl.ratio);\n",
       "        canvas.attr('style', 'width: ' + width + 'px; height: ' + height + 'px;');\n",
       "\n",
       "        rubberband.attr('width', width);\n",
       "        rubberband.attr('height', height);\n",
       "    }\n",
       "\n",
       "    // Set the figure to an initial 600x600px, this will subsequently be updated\n",
       "    // upon first draw.\n",
       "    this._resize_canvas(600, 600);\n",
       "\n",
       "    // Disable right mouse context menu.\n",
       "    $(this.rubberband_canvas).bind(\"contextmenu\",function(e){\n",
       "        return false;\n",
       "    });\n",
       "\n",
       "    function set_focus () {\n",
       "        canvas.focus();\n",
       "        canvas_div.focus();\n",
       "    }\n",
       "\n",
       "    window.setTimeout(set_focus, 100);\n",
       "}\n",
       "\n",
       "mpl.figure.prototype._init_toolbar = function() {\n",
       "    var fig = this;\n",
       "\n",
       "    var nav_element = $('<div/>')\n",
       "    nav_element.attr('style', 'width: 100%');\n",
       "    this.root.append(nav_element);\n",
       "\n",
       "    // Define a callback function for later on.\n",
       "    function toolbar_event(event) {\n",
       "        return fig.toolbar_button_onclick(event['data']);\n",
       "    }\n",
       "    function toolbar_mouse_event(event) {\n",
       "        return fig.toolbar_button_onmouseover(event['data']);\n",
       "    }\n",
       "\n",
       "    for(var toolbar_ind in mpl.toolbar_items) {\n",
       "        var name = mpl.toolbar_items[toolbar_ind][0];\n",
       "        var tooltip = mpl.toolbar_items[toolbar_ind][1];\n",
       "        var image = mpl.toolbar_items[toolbar_ind][2];\n",
       "        var method_name = mpl.toolbar_items[toolbar_ind][3];\n",
       "\n",
       "        if (!name) {\n",
       "            // put a spacer in here.\n",
       "            continue;\n",
       "        }\n",
       "        var button = $('<button/>');\n",
       "        button.addClass('ui-button ui-widget ui-state-default ui-corner-all ' +\n",
       "                        'ui-button-icon-only');\n",
       "        button.attr('role', 'button');\n",
       "        button.attr('aria-disabled', 'false');\n",
       "        button.click(method_name, toolbar_event);\n",
       "        button.mouseover(tooltip, toolbar_mouse_event);\n",
       "\n",
       "        var icon_img = $('<span/>');\n",
       "        icon_img.addClass('ui-button-icon-primary ui-icon');\n",
       "        icon_img.addClass(image);\n",
       "        icon_img.addClass('ui-corner-all');\n",
       "\n",
       "        var tooltip_span = $('<span/>');\n",
       "        tooltip_span.addClass('ui-button-text');\n",
       "        tooltip_span.html(tooltip);\n",
       "\n",
       "        button.append(icon_img);\n",
       "        button.append(tooltip_span);\n",
       "\n",
       "        nav_element.append(button);\n",
       "    }\n",
       "\n",
       "    var fmt_picker_span = $('<span/>');\n",
       "\n",
       "    var fmt_picker = $('<select/>');\n",
       "    fmt_picker.addClass('mpl-toolbar-option ui-widget ui-widget-content');\n",
       "    fmt_picker_span.append(fmt_picker);\n",
       "    nav_element.append(fmt_picker_span);\n",
       "    this.format_dropdown = fmt_picker[0];\n",
       "\n",
       "    for (var ind in mpl.extensions) {\n",
       "        var fmt = mpl.extensions[ind];\n",
       "        var option = $(\n",
       "            '<option/>', {selected: fmt === mpl.default_extension}).html(fmt);\n",
       "        fmt_picker.append(option)\n",
       "    }\n",
       "\n",
       "    // Add hover states to the ui-buttons\n",
       "    $( \".ui-button\" ).hover(\n",
       "        function() { $(this).addClass(\"ui-state-hover\");},\n",
       "        function() { $(this).removeClass(\"ui-state-hover\");}\n",
       "    );\n",
       "\n",
       "    var status_bar = $('<span class=\"mpl-message\"/>');\n",
       "    nav_element.append(status_bar);\n",
       "    this.message = status_bar[0];\n",
       "}\n",
       "\n",
       "mpl.figure.prototype.request_resize = function(x_pixels, y_pixels) {\n",
       "    // Request matplotlib to resize the figure. Matplotlib will then trigger a resize in the client,\n",
       "    // which will in turn request a refresh of the image.\n",
       "    this.send_message('resize', {'width': x_pixels, 'height': y_pixels});\n",
       "}\n",
       "\n",
       "mpl.figure.prototype.send_message = function(type, properties) {\n",
       "    properties['type'] = type;\n",
       "    properties['figure_id'] = this.id;\n",
       "    this.ws.send(JSON.stringify(properties));\n",
       "}\n",
       "\n",
       "mpl.figure.prototype.send_draw_message = function() {\n",
       "    if (!this.waiting) {\n",
       "        this.waiting = true;\n",
       "        this.ws.send(JSON.stringify({type: \"draw\", figure_id: this.id}));\n",
       "    }\n",
       "}\n",
       "\n",
       "\n",
       "mpl.figure.prototype.handle_save = function(fig, msg) {\n",
       "    var format_dropdown = fig.format_dropdown;\n",
       "    var format = format_dropdown.options[format_dropdown.selectedIndex].value;\n",
       "    fig.ondownload(fig, format);\n",
       "}\n",
       "\n",
       "\n",
       "mpl.figure.prototype.handle_resize = function(fig, msg) {\n",
       "    var size = msg['size'];\n",
       "    if (size[0] != fig.canvas.width || size[1] != fig.canvas.height) {\n",
       "        fig._resize_canvas(size[0], size[1]);\n",
       "        fig.send_message(\"refresh\", {});\n",
       "    };\n",
       "}\n",
       "\n",
       "mpl.figure.prototype.handle_rubberband = function(fig, msg) {\n",
       "    var x0 = msg['x0'] / mpl.ratio;\n",
       "    var y0 = (fig.canvas.height - msg['y0']) / mpl.ratio;\n",
       "    var x1 = msg['x1'] / mpl.ratio;\n",
       "    var y1 = (fig.canvas.height - msg['y1']) / mpl.ratio;\n",
       "    x0 = Math.floor(x0) + 0.5;\n",
       "    y0 = Math.floor(y0) + 0.5;\n",
       "    x1 = Math.floor(x1) + 0.5;\n",
       "    y1 = Math.floor(y1) + 0.5;\n",
       "    var min_x = Math.min(x0, x1);\n",
       "    var min_y = Math.min(y0, y1);\n",
       "    var width = Math.abs(x1 - x0);\n",
       "    var height = Math.abs(y1 - y0);\n",
       "\n",
       "    fig.rubberband_context.clearRect(\n",
       "        0, 0, fig.canvas.width, fig.canvas.height);\n",
       "\n",
       "    fig.rubberband_context.strokeRect(min_x, min_y, width, height);\n",
       "}\n",
       "\n",
       "mpl.figure.prototype.handle_figure_label = function(fig, msg) {\n",
       "    // Updates the figure title.\n",
       "    fig.header.textContent = msg['label'];\n",
       "}\n",
       "\n",
       "mpl.figure.prototype.handle_cursor = function(fig, msg) {\n",
       "    var cursor = msg['cursor'];\n",
       "    switch(cursor)\n",
       "    {\n",
       "    case 0:\n",
       "        cursor = 'pointer';\n",
       "        break;\n",
       "    case 1:\n",
       "        cursor = 'default';\n",
       "        break;\n",
       "    case 2:\n",
       "        cursor = 'crosshair';\n",
       "        break;\n",
       "    case 3:\n",
       "        cursor = 'move';\n",
       "        break;\n",
       "    }\n",
       "    fig.rubberband_canvas.style.cursor = cursor;\n",
       "}\n",
       "\n",
       "mpl.figure.prototype.handle_message = function(fig, msg) {\n",
       "    fig.message.textContent = msg['message'];\n",
       "}\n",
       "\n",
       "mpl.figure.prototype.handle_draw = function(fig, msg) {\n",
       "    // Request the server to send over a new figure.\n",
       "    fig.send_draw_message();\n",
       "}\n",
       "\n",
       "mpl.figure.prototype.handle_image_mode = function(fig, msg) {\n",
       "    fig.image_mode = msg['mode'];\n",
       "}\n",
       "\n",
       "mpl.figure.prototype.updated_canvas_event = function() {\n",
       "    // Called whenever the canvas gets updated.\n",
       "    this.send_message(\"ack\", {});\n",
       "}\n",
       "\n",
       "// A function to construct a web socket function for onmessage handling.\n",
       "// Called in the figure constructor.\n",
       "mpl.figure.prototype._make_on_message_function = function(fig) {\n",
       "    return function socket_on_message(evt) {\n",
       "        if (evt.data instanceof Blob) {\n",
       "            /* FIXME: We get \"Resource interpreted as Image but\n",
       "             * transferred with MIME type text/plain:\" errors on\n",
       "             * Chrome.  But how to set the MIME type?  It doesn't seem\n",
       "             * to be part of the websocket stream */\n",
       "            evt.data.type = \"image/png\";\n",
       "\n",
       "            /* Free the memory for the previous frames */\n",
       "            if (fig.imageObj.src) {\n",
       "                (window.URL || window.webkitURL).revokeObjectURL(\n",
       "                    fig.imageObj.src);\n",
       "            }\n",
       "\n",
       "            fig.imageObj.src = (window.URL || window.webkitURL).createObjectURL(\n",
       "                evt.data);\n",
       "            fig.updated_canvas_event();\n",
       "            fig.waiting = false;\n",
       "            return;\n",
       "        }\n",
       "        else if (typeof evt.data === 'string' && evt.data.slice(0, 21) == \"data:image/png;base64\") {\n",
       "            fig.imageObj.src = evt.data;\n",
       "            fig.updated_canvas_event();\n",
       "            fig.waiting = false;\n",
       "            return;\n",
       "        }\n",
       "\n",
       "        var msg = JSON.parse(evt.data);\n",
       "        var msg_type = msg['type'];\n",
       "\n",
       "        // Call the  \"handle_{type}\" callback, which takes\n",
       "        // the figure and JSON message as its only arguments.\n",
       "        try {\n",
       "            var callback = fig[\"handle_\" + msg_type];\n",
       "        } catch (e) {\n",
       "            console.log(\"No handler for the '\" + msg_type + \"' message type: \", msg);\n",
       "            return;\n",
       "        }\n",
       "\n",
       "        if (callback) {\n",
       "            try {\n",
       "                // console.log(\"Handling '\" + msg_type + \"' message: \", msg);\n",
       "                callback(fig, msg);\n",
       "            } catch (e) {\n",
       "                console.log(\"Exception inside the 'handler_\" + msg_type + \"' callback:\", e, e.stack, msg);\n",
       "            }\n",
       "        }\n",
       "    };\n",
       "}\n",
       "\n",
       "// from http://stackoverflow.com/questions/1114465/getting-mouse-location-in-canvas\n",
       "mpl.findpos = function(e) {\n",
       "    //this section is from http://www.quirksmode.org/js/events_properties.html\n",
       "    var targ;\n",
       "    if (!e)\n",
       "        e = window.event;\n",
       "    if (e.target)\n",
       "        targ = e.target;\n",
       "    else if (e.srcElement)\n",
       "        targ = e.srcElement;\n",
       "    if (targ.nodeType == 3) // defeat Safari bug\n",
       "        targ = targ.parentNode;\n",
       "\n",
       "    // jQuery normalizes the pageX and pageY\n",
       "    // pageX,Y are the mouse positions relative to the document\n",
       "    // offset() returns the position of the element relative to the document\n",
       "    var x = e.pageX - $(targ).offset().left;\n",
       "    var y = e.pageY - $(targ).offset().top;\n",
       "\n",
       "    return {\"x\": x, \"y\": y};\n",
       "};\n",
       "\n",
       "/*\n",
       " * return a copy of an object with only non-object keys\n",
       " * we need this to avoid circular references\n",
       " * http://stackoverflow.com/a/24161582/3208463\n",
       " */\n",
       "function simpleKeys (original) {\n",
       "  return Object.keys(original).reduce(function (obj, key) {\n",
       "    if (typeof original[key] !== 'object')\n",
       "        obj[key] = original[key]\n",
       "    return obj;\n",
       "  }, {});\n",
       "}\n",
       "\n",
       "mpl.figure.prototype.mouse_event = function(event, name) {\n",
       "    var canvas_pos = mpl.findpos(event)\n",
       "\n",
       "    if (name === 'button_press')\n",
       "    {\n",
       "        this.canvas.focus();\n",
       "        this.canvas_div.focus();\n",
       "    }\n",
       "\n",
       "    var x = canvas_pos.x * mpl.ratio;\n",
       "    var y = canvas_pos.y * mpl.ratio;\n",
       "\n",
       "    this.send_message(name, {x: x, y: y, button: event.button,\n",
       "                             step: event.step,\n",
       "                             guiEvent: simpleKeys(event)});\n",
       "\n",
       "    /* This prevents the web browser from automatically changing to\n",
       "     * the text insertion cursor when the button is pressed.  We want\n",
       "     * to control all of the cursor setting manually through the\n",
       "     * 'cursor' event from matplotlib */\n",
       "    event.preventDefault();\n",
       "    return false;\n",
       "}\n",
       "\n",
       "mpl.figure.prototype._key_event_extra = function(event, name) {\n",
       "    // Handle any extra behaviour associated with a key event\n",
       "}\n",
       "\n",
       "mpl.figure.prototype.key_event = function(event, name) {\n",
       "\n",
       "    // Prevent repeat events\n",
       "    if (name == 'key_press')\n",
       "    {\n",
       "        if (event.which === this._key)\n",
       "            return;\n",
       "        else\n",
       "            this._key = event.which;\n",
       "    }\n",
       "    if (name == 'key_release')\n",
       "        this._key = null;\n",
       "\n",
       "    var value = '';\n",
       "    if (event.ctrlKey && event.which != 17)\n",
       "        value += \"ctrl+\";\n",
       "    if (event.altKey && event.which != 18)\n",
       "        value += \"alt+\";\n",
       "    if (event.shiftKey && event.which != 16)\n",
       "        value += \"shift+\";\n",
       "\n",
       "    value += 'k';\n",
       "    value += event.which.toString();\n",
       "\n",
       "    this._key_event_extra(event, name);\n",
       "\n",
       "    this.send_message(name, {key: value,\n",
       "                             guiEvent: simpleKeys(event)});\n",
       "    return false;\n",
       "}\n",
       "\n",
       "mpl.figure.prototype.toolbar_button_onclick = function(name) {\n",
       "    if (name == 'download') {\n",
       "        this.handle_save(this, null);\n",
       "    } else {\n",
       "        this.send_message(\"toolbar_button\", {name: name});\n",
       "    }\n",
       "};\n",
       "\n",
       "mpl.figure.prototype.toolbar_button_onmouseover = function(tooltip) {\n",
       "    this.message.textContent = tooltip;\n",
       "};\n",
       "mpl.toolbar_items = [[\"Home\", \"Reset original view\", \"fa fa-home icon-home\", \"home\"], [\"Back\", \"Back to  previous view\", \"fa fa-arrow-left icon-arrow-left\", \"back\"], [\"Forward\", \"Forward to next view\", \"fa fa-arrow-right icon-arrow-right\", \"forward\"], [\"\", \"\", \"\", \"\"], [\"Pan\", \"Pan axes with left mouse, zoom with right\", \"fa fa-arrows icon-move\", \"pan\"], [\"Zoom\", \"Zoom to rectangle\", \"fa fa-square-o icon-check-empty\", \"zoom\"], [\"\", \"\", \"\", \"\"], [\"Download\", \"Download plot\", \"fa fa-floppy-o icon-save\", \"download\"]];\n",
       "\n",
       "mpl.extensions = [\"eps\", \"pdf\", \"png\", \"ps\", \"raw\", \"svg\"];\n",
       "\n",
       "mpl.default_extension = \"png\";var comm_websocket_adapter = function(comm) {\n",
       "    // Create a \"websocket\"-like object which calls the given IPython comm\n",
       "    // object with the appropriate methods. Currently this is a non binary\n",
       "    // socket, so there is still some room for performance tuning.\n",
       "    var ws = {};\n",
       "\n",
       "    ws.close = function() {\n",
       "        comm.close()\n",
       "    };\n",
       "    ws.send = function(m) {\n",
       "        //console.log('sending', m);\n",
       "        comm.send(m);\n",
       "    };\n",
       "    // Register the callback with on_msg.\n",
       "    comm.on_msg(function(msg) {\n",
       "        //console.log('receiving', msg['content']['data'], msg);\n",
       "        // Pass the mpl event to the overriden (by mpl) onmessage function.\n",
       "        ws.onmessage(msg['content']['data'])\n",
       "    });\n",
       "    return ws;\n",
       "}\n",
       "\n",
       "mpl.mpl_figure_comm = function(comm, msg) {\n",
       "    // This is the function which gets called when the mpl process\n",
       "    // starts-up an IPython Comm through the \"matplotlib\" channel.\n",
       "\n",
       "    var id = msg.content.data.id;\n",
       "    // Get hold of the div created by the display call when the Comm\n",
       "    // socket was opened in Python.\n",
       "    var element = $(\"#\" + id);\n",
       "    var ws_proxy = comm_websocket_adapter(comm)\n",
       "\n",
       "    function ondownload(figure, format) {\n",
       "        window.open(figure.imageObj.src);\n",
       "    }\n",
       "\n",
       "    var fig = new mpl.figure(id, ws_proxy,\n",
       "                           ondownload,\n",
       "                           element.get(0));\n",
       "\n",
       "    // Call onopen now - mpl needs it, as it is assuming we've passed it a real\n",
       "    // web socket which is closed, not our websocket->open comm proxy.\n",
       "    ws_proxy.onopen();\n",
       "\n",
       "    fig.parent_element = element.get(0);\n",
       "    fig.cell_info = mpl.find_output_cell(\"<div id='\" + id + \"'></div>\");\n",
       "    if (!fig.cell_info) {\n",
       "        console.error(\"Failed to find cell for figure\", id, fig);\n",
       "        return;\n",
       "    }\n",
       "\n",
       "    var output_index = fig.cell_info[2]\n",
       "    var cell = fig.cell_info[0];\n",
       "\n",
       "};\n",
       "\n",
       "mpl.figure.prototype.handle_close = function(fig, msg) {\n",
       "    var width = fig.canvas.width/mpl.ratio\n",
       "    fig.root.unbind('remove')\n",
       "\n",
       "    // Update the output cell to use the data from the current canvas.\n",
       "    fig.push_to_output();\n",
       "    var dataURL = fig.canvas.toDataURL();\n",
       "    // Re-enable the keyboard manager in IPython - without this line, in FF,\n",
       "    // the notebook keyboard shortcuts fail.\n",
       "    IPython.keyboard_manager.enable()\n",
       "    $(fig.parent_element).html('<img src=\"' + dataURL + '\" width=\"' + width + '\">');\n",
       "    fig.close_ws(fig, msg);\n",
       "}\n",
       "\n",
       "mpl.figure.prototype.close_ws = function(fig, msg){\n",
       "    fig.send_message('closing', msg);\n",
       "    // fig.ws.close()\n",
       "}\n",
       "\n",
       "mpl.figure.prototype.push_to_output = function(remove_interactive) {\n",
       "    // Turn the data on the canvas into data in the output cell.\n",
       "    var width = this.canvas.width/mpl.ratio\n",
       "    var dataURL = this.canvas.toDataURL();\n",
       "    this.cell_info[1]['text/html'] = '<img src=\"' + dataURL + '\" width=\"' + width + '\">';\n",
       "}\n",
       "\n",
       "mpl.figure.prototype.updated_canvas_event = function() {\n",
       "    // Tell IPython that the notebook contents must change.\n",
       "    IPython.notebook.set_dirty(true);\n",
       "    this.send_message(\"ack\", {});\n",
       "    var fig = this;\n",
       "    // Wait a second, then push the new image to the DOM so\n",
       "    // that it is saved nicely (might be nice to debounce this).\n",
       "    setTimeout(function () { fig.push_to_output() }, 1000);\n",
       "}\n",
       "\n",
       "mpl.figure.prototype._init_toolbar = function() {\n",
       "    var fig = this;\n",
       "\n",
       "    var nav_element = $('<div/>')\n",
       "    nav_element.attr('style', 'width: 100%');\n",
       "    this.root.append(nav_element);\n",
       "\n",
       "    // Define a callback function for later on.\n",
       "    function toolbar_event(event) {\n",
       "        return fig.toolbar_button_onclick(event['data']);\n",
       "    }\n",
       "    function toolbar_mouse_event(event) {\n",
       "        return fig.toolbar_button_onmouseover(event['data']);\n",
       "    }\n",
       "\n",
       "    for(var toolbar_ind in mpl.toolbar_items){\n",
       "        var name = mpl.toolbar_items[toolbar_ind][0];\n",
       "        var tooltip = mpl.toolbar_items[toolbar_ind][1];\n",
       "        var image = mpl.toolbar_items[toolbar_ind][2];\n",
       "        var method_name = mpl.toolbar_items[toolbar_ind][3];\n",
       "\n",
       "        if (!name) { continue; };\n",
       "\n",
       "        var button = $('<button class=\"btn btn-default\" href=\"#\" title=\"' + name + '\"><i class=\"fa ' + image + ' fa-lg\"></i></button>');\n",
       "        button.click(method_name, toolbar_event);\n",
       "        button.mouseover(tooltip, toolbar_mouse_event);\n",
       "        nav_element.append(button);\n",
       "    }\n",
       "\n",
       "    // Add the status bar.\n",
       "    var status_bar = $('<span class=\"mpl-message\" style=\"text-align:right; float: right;\"/>');\n",
       "    nav_element.append(status_bar);\n",
       "    this.message = status_bar[0];\n",
       "\n",
       "    // Add the close button to the window.\n",
       "    var buttongrp = $('<div class=\"btn-group inline pull-right\"></div>');\n",
       "    var button = $('<button class=\"btn btn-mini btn-primary\" href=\"#\" title=\"Stop Interaction\"><i class=\"fa fa-power-off icon-remove icon-large\"></i></button>');\n",
       "    button.click(function (evt) { fig.handle_close(fig, {}); } );\n",
       "    button.mouseover('Stop Interaction', toolbar_mouse_event);\n",
       "    buttongrp.append(button);\n",
       "    var titlebar = this.root.find($('.ui-dialog-titlebar'));\n",
       "    titlebar.prepend(buttongrp);\n",
       "}\n",
       "\n",
       "mpl.figure.prototype._root_extra_style = function(el){\n",
       "    var fig = this\n",
       "    el.on(\"remove\", function(){\n",
       "\tfig.close_ws(fig, {});\n",
       "    });\n",
       "}\n",
       "\n",
       "mpl.figure.prototype._canvas_extra_style = function(el){\n",
       "    // this is important to make the div 'focusable\n",
       "    el.attr('tabindex', 0)\n",
       "    // reach out to IPython and tell the keyboard manager to turn it's self\n",
       "    // off when our div gets focus\n",
       "\n",
       "    // location in version 3\n",
       "    if (IPython.notebook.keyboard_manager) {\n",
       "        IPython.notebook.keyboard_manager.register_events(el);\n",
       "    }\n",
       "    else {\n",
       "        // location in version 2\n",
       "        IPython.keyboard_manager.register_events(el);\n",
       "    }\n",
       "\n",
       "}\n",
       "\n",
       "mpl.figure.prototype._key_event_extra = function(event, name) {\n",
       "    var manager = IPython.notebook.keyboard_manager;\n",
       "    if (!manager)\n",
       "        manager = IPython.keyboard_manager;\n",
       "\n",
       "    // Check for shift+enter\n",
       "    if (event.shiftKey && event.which == 13) {\n",
       "        this.canvas_div.blur();\n",
       "        // select the cell after this one\n",
       "        var index = IPython.notebook.find_cell_index(this.cell_info[0]);\n",
       "        IPython.notebook.select(index + 1);\n",
       "    }\n",
       "}\n",
       "\n",
       "mpl.figure.prototype.handle_save = function(fig, msg) {\n",
       "    fig.ondownload(fig, null);\n",
       "}\n",
       "\n",
       "\n",
       "mpl.find_output_cell = function(html_output) {\n",
       "    // Return the cell and output element which can be found *uniquely* in the notebook.\n",
       "    // Note - this is a bit hacky, but it is done because the \"notebook_saving.Notebook\"\n",
       "    // IPython event is triggered only after the cells have been serialised, which for\n",
       "    // our purposes (turning an active figure into a static one), is too late.\n",
       "    var cells = IPython.notebook.get_cells();\n",
       "    var ncells = cells.length;\n",
       "    for (var i=0; i<ncells; i++) {\n",
       "        var cell = cells[i];\n",
       "        if (cell.cell_type === 'code'){\n",
       "            for (var j=0; j<cell.output_area.outputs.length; j++) {\n",
       "                var data = cell.output_area.outputs[j];\n",
       "                if (data.data) {\n",
       "                    // IPython >= 3 moved mimebundle to data attribute of output\n",
       "                    data = data.data;\n",
       "                }\n",
       "                if (data['text/html'] == html_output) {\n",
       "                    return [cell, data, j];\n",
       "                }\n",
       "            }\n",
       "        }\n",
       "    }\n",
       "}\n",
       "\n",
       "// Register the function which deals with the matplotlib target/channel.\n",
       "// The kernel may be null if the page has been refreshed.\n",
       "if (IPython.notebook.kernel != null) {\n",
       "    IPython.notebook.kernel.comm_manager.register_target('matplotlib', mpl.mpl_figure_comm);\n",
       "}\n"
      ],
      "text/plain": [
       "<IPython.core.display.Javascript object>"
      ]
     },
     "metadata": {},
     "output_type": "display_data"
    },
    {
     "data": {
      "text/html": [
       "<img src=\"data:image/png;base64,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\" width=\"639.999990463257\">"
      ],
      "text/plain": [
       "<IPython.core.display.HTML object>"
      ]
     },
     "metadata": {},
     "output_type": "display_data"
    },
    {
     "data": {
      "application/vnd.jupyter.widget-view+json": {
       "model_id": "3f1bcaf1c7df4fc9b42f9ff393e652d9",
       "version_major": 2,
       "version_minor": 0
      },
      "text/plain": [
       "A Jupyter Widget"
      ]
     },
     "metadata": {},
     "output_type": "display_data"
    },
    {
     "data": {
      "application/vnd.jupyter.widget-view+json": {
       "model_id": "df6533249cdc4fa1b0ed510bea9997c6",
       "version_major": 2,
       "version_minor": 0
      },
      "text/plain": [
       "A Jupyter Widget"
      ]
     },
     "metadata": {},
     "output_type": "display_data"
    },
    {
     "data": {
      "application/vnd.jupyter.widget-view+json": {
       "model_id": "39410abbc167453387a2c1c5e76bcf55",
       "version_major": 2,
       "version_minor": 0
      },
      "text/plain": [
       "A Jupyter Widget"
      ]
     },
     "metadata": {},
     "output_type": "display_data"
    },
    {
     "data": {
      "application/vnd.jupyter.widget-view+json": {
       "model_id": "4f647c79f6344ce1b5ccb6369e4c9872",
       "version_major": 2,
       "version_minor": 0
      },
      "text/plain": [
       "A Jupyter Widget"
      ]
     },
     "metadata": {},
     "output_type": "display_data"
    },
    {
     "data": {
      "application/vnd.jupyter.widget-view+json": {
       "model_id": "ab73c7b03b004f3cb46543ebe09ed2fa",
       "version_major": 2,
       "version_minor": 0
      },
      "text/plain": [
       "A Jupyter Widget"
      ]
     },
     "metadata": {},
     "output_type": "display_data"
    },
    {
     "data": {
      "application/vnd.jupyter.widget-view+json": {
       "model_id": "ce9f0f88d2c64697aa1aa8d5e49e6627",
       "version_major": 2,
       "version_minor": 0
      },
      "text/plain": [
       "A Jupyter Widget"
      ]
     },
     "metadata": {},
     "output_type": "display_data"
    }
   ],
   "source": [
    "a = ca.read_amplicon('../calour/tests/data/test2.biom',\n",
    "                     '../calour/tests/data/test2.sample', \n",
    "                     feature_metadata_file='../calour/tests/data/test2.feature',\n",
    "                     min_reads=100, normalize=None)\n",
    "\n",
    "b = a.plot(sample_field='group', feature_field='taxonomy', yticklabel_kwargs={'size': 9},\n",
    "           bary_fields=['oxygen'], barx_fields=['group', 'categorical'],\n",
    "           barx_label_kwargs=[{'color': 'b'}, {'color': 'white', 'size': 9}],\n",
    "           cmap='viridis', norm=mpl.colors.Normalize(),\n",
    "           gui='jupyter', title='simple figure');"
   ]
  }
 ],
 "metadata": {
  "anaconda-cloud": {},
  "kernelspec": {
   "display_name": "Python [conda env:calour]",
   "language": "python",
   "name": "conda-env-calour-py"
  },
  "language_info": {
   "codemirror_mode": {
    "name": "ipython",
    "version": 3
   },
   "file_extension": ".py",
   "mimetype": "text/x-python",
   "name": "python",
   "nbconvert_exporter": "python",
   "pygments_lexer": "ipython3",
   "version": "3.5.2"
  },
  "notify_time": "30",
  "toc": {
   "nav_menu": {
    "height": "48px",
    "width": "251px"
   },
   "number_sections": true,
   "sideBar": true,
   "skip_h1_title": false,
   "toc_cell": false,
   "toc_position": {},
   "toc_section_display": "block",
   "toc_window_display": false
  },
  "widgets": {
   "application/vnd.jupyter.widget-state+json": {
    "state": {
     "000511e190d34fc7a55cc999780bbe6b": {
      "model_module": "@jupyter-widgets/controls",
      "model_module_version": "1.0.0",
      "model_name": "ButtonModel",
      "state": {
       "description": "Annotate",
       "layout": "IPY_MODEL_4f464af4da23451a856be68754ae15b6",
       "style": "IPY_MODEL_fbbfdde6408d4d7d9e6044ff76ed23a3"
      }
     },
     "005184ab2b7c40a6a0dd1bd52880e8ea": {
      "model_module": "@jupyter-widgets/controls",
      "model_module_version": "1.0.0",
      "model_name": "DropdownModel",
      "state": {
       "_options_labels": [
        "ori.order",
        "group",
        "new.order",
        "categorical",
        "_calour_original_abundance"
       ],
       "index": 0,
       "layout": "IPY_MODEL_e78b775f90b54433b7c6c993b393d783",
       "style": "IPY_MODEL_1cdffe63f17a4ec7938b0dd19311d3c2"
      }
     },
     "005dab0790f147f496ce3f1440a54c24": {
      "model_module": "@jupyter-widgets/base",
      "model_module_version": "1.0.0",
      "model_name": "LayoutModel",
      "state": {}
     },
     "00b35cc801fb45c88ad583bd97764686": {
      "model_module": "@jupyter-widgets/base",
      "model_module_version": "1.0.0",
      "model_name": "LayoutModel",
      "state": {}
     },
     "00c5cc0c541145ef889071188e37e46f": {
      "model_module": "@jupyter-widgets/controls",
      "model_module_version": "1.0.0",
      "model_name": "DescriptionStyleModel",
      "state": {
       "description_width": ""
      }
     },
     "00d386f8218c49c8a5e220134fd4dacc": {
      "model_module": "@jupyter-widgets/base",
      "model_module_version": "1.0.0",
      "model_name": "LayoutModel",
      "state": {}
     },
     "00e25675da1049568f10c1796c6c6c5a": {
      "model_module": "@jupyter-widgets/base",
      "model_module_version": "1.0.0",
      "model_name": "LayoutModel",
      "state": {
       "width": "80%"
      }
     },
     "011264ac05254126802325ccfac4e148": {
      "model_module": "@jupyter-widgets/base",
      "model_module_version": "1.0.0",
      "model_name": "LayoutModel",
      "state": {}
     },
     "01474d88c84e4f1b8cdb59872b22ba25": {
      "model_module": "@jupyter-widgets/controls",
      "model_module_version": "1.0.0",
      "model_name": "DescriptionStyleModel",
      "state": {
       "description_width": ""
      }
     },
     "017be272e1c349508a926e10c0a688a5": {
      "model_module": "@jupyter-widgets/controls",
      "model_module_version": "1.0.0",
      "model_name": "HBoxModel",
      "state": {
       "children": [
        "IPY_MODEL_f1ea95ca57304dd592563270d5ba2a90",
        "IPY_MODEL_b2dbcb5139814badb829f3b8bbc8ba35",
        "IPY_MODEL_ff776c412b9b4ebe837047240a71f1f1"
       ],
       "layout": "IPY_MODEL_8990643322ae487c8d7077c02177e3db"
      }
     },
     "0188bd766c4041b48cb5c820dc4c873d": {
      "model_module": "@jupyter-widgets/controls",
      "model_module_version": "1.0.0",
      "model_name": "TextModel",
      "state": {
       "layout": "IPY_MODEL_2088bf9c285b4ed482c5ac44c04f2a92",
       "placeholder": "feature meta",
       "style": "IPY_MODEL_7e84f94739f7488783d1480b62658c87",
       "value": "aerobic"
      }
     },
     "019046940176475d87de54db26107ee7": {
      "model_module": "@jupyter-widgets/base",
      "model_module_version": "1.0.0",
      "model_name": "LayoutModel",
      "state": {
       "width": "100%"
      }
     },
     "01e623669876475d81e26a4e11870874": {
      "model_module": "@jupyter-widgets/controls",
      "model_module_version": "1.0.0",
      "model_name": "DescriptionStyleModel",
      "state": {
       "description_width": ""
      }
     },
     "02ba871b4a494398a1e647e21c42cdd8": {
      "model_module": "@jupyter-widgets/controls",
      "model_module_version": "1.0.0",
      "model_name": "ButtonModel",
      "state": {
       "description": "print axes ranges",
       "layout": "IPY_MODEL_6033ad064cf74022b91cf02d892c6302",
       "style": "IPY_MODEL_a70ec2eed2ce499fb49762cec213ea79",
       "tooltip": "Print the x axis and y axis ranges. Useful to pass to `rect` parameter of heatmap() to zoom in the region automatically."
      }
     },
     "0334bb41e42d40e893a20836dec75a79": {
      "model_module": "@jupyter-widgets/controls",
      "model_module_version": "1.0.0",
      "model_name": "HBoxModel",
      "state": {
       "children": [
        "IPY_MODEL_ff447792a03a4727a8929c3f91697ae0",
        "IPY_MODEL_202fbfc1d72d49538f9352c9a54f7716",
        "IPY_MODEL_0cc44c0f647840f09a5a324c3880a9b2"
       ],
       "layout": "IPY_MODEL_0d20f9dadc1342c8ba22b76fccbd3807"
      }
     },
     "034016157c1e4834a1874ad730db1d35": {
      "model_module": "@jupyter-widgets/controls",
      "model_module_version": "1.0.0",
      "model_name": "TextModel",
      "state": {
       "description": "Sample ID",
       "layout": "IPY_MODEL_019046940176475d87de54db26107ee7",
       "placeholder": "Sample ID",
       "style": "IPY_MODEL_bc1a4c60a761466dbecce0203ce6ea82",
       "value": "S7"
      }
     },
     "0376c356e3a645a4b26a4cbf09b020c3": {
      "model_module": "@jupyter-widgets/controls",
      "model_module_version": "1.0.0",
      "model_name": "DescriptionStyleModel",
      "state": {
       "description_width": ""
      }
     },
     "03afd9c80305460da693465a4c8c4960": {
      "model_module": "@jupyter-widgets/controls",
      "model_module_version": "1.0.0",
      "model_name": "TextModel",
      "state": {
       "layout": "IPY_MODEL_6757ce8a7ce14b17ba15553f5b3c59b5",
       "placeholder": "sample meta",
       "style": "IPY_MODEL_089081dc448441e3a64eba8d90081df7",
       "value": "-"
      }
     },
     "03bff66ed3ff4e259d4d6767ca143e1e": {
      "model_module": "@jupyter-widgets/controls",
      "model_module_version": "1.0.0",
      "model_name": "TextModel",
      "state": {
       "description": "Sample ID",
       "layout": "IPY_MODEL_e645d7359c8d49039234e2ac88b11a85",
       "placeholder": "Sample ID",
       "style": "IPY_MODEL_585237215be14ffdb80a2ea3f9bbd594",
       "value": "S9"
      }
     },
     "03e0490bdbd84a58946021fdba53e55b": {
      "model_module": "@jupyter-widgets/base",
      "model_module_version": "1.0.0",
      "model_name": "LayoutModel",
      "state": {
       "width": "100%"
      }
     },
     "03f1c9ce4df544d492ec0a01f1a26d87": {
      "model_module": "@jupyter-widgets/base",
      "model_module_version": "1.0.0",
      "model_name": "LayoutModel",
      "state": {
       "width": "80%"
      }
     },
     "041ae82cfe7043b681e697b0de4a6cb7": {
      "model_module": "@jupyter-widgets/base",
      "model_module_version": "1.0.0",
      "model_name": "LayoutModel",
      "state": {}
     },
     "05014d49071b4400bf2eef46ac4876b6": {
      "model_module": "@jupyter-widgets/controls",
      "model_module_version": "1.0.0",
      "model_name": "ButtonStyleModel",
      "state": {}
     },
     "059b542a24dd44379e3f1b76bc82c050": {
      "model_module": "@jupyter-widgets/controls",
      "model_module_version": "1.0.0",
      "model_name": "HBoxModel",
      "state": {
       "children": [
        "IPY_MODEL_005184ab2b7c40a6a0dd1bd52880e8ea",
        "IPY_MODEL_27cb91b373b0428ca464d7ec2e4a81e7"
       ],
       "layout": "IPY_MODEL_09600fec608f486f8f4f1c9aa989e0d8"
      }
     },
     "05bbad225e6e4edca15e9f8899271290": {
      "model_module": "@jupyter-widgets/controls",
      "model_module_version": "1.0.0",
      "model_name": "DropdownModel",
      "state": {
       "_options_labels": [
        "ori.order",
        "group",
        "new.order",
        "categorical",
        "_calour_original_abundance"
       ],
       "index": 0,
       "layout": "IPY_MODEL_83c9cd3cec774a6b812d99a2c26f17cb",
       "style": "IPY_MODEL_6875cdaa8a7c4d8497f1fbd057a50ffd"
      }
     },
     "078c5e1f16534be285459920ee6c9e11": {
      "model_module": "@jupyter-widgets/controls",
      "model_module_version": "1.0.0",
      "model_name": "ButtonModel",
      "state": {
       "description": "Annotate",
       "layout": "IPY_MODEL_8377246142eb4ea9b081c42a780da736",
       "style": "IPY_MODEL_f9df0261d0744316926b1e4b3696e71b"
      }
     },
     "079f8e3aef0f4998a03ad08097eb74c8": {
      "model_module": "@jupyter-widgets/controls",
      "model_module_version": "1.0.0",
      "model_name": "HBoxModel",
      "state": {
       "children": [
        "IPY_MODEL_0b8e67265b874295b6405c31bfb1e4e1",
        "IPY_MODEL_af2f432925244da9a661f4cac35f99eb",
        "IPY_MODEL_eb301619e7274e84bf5ea4435c8ef35c"
       ],
       "layout": "IPY_MODEL_ba40b1fcc938431b8c0f6cb2c92e13de"
      }
     },
     "07e34177f7424e02b6147b119a6e6ab5": {
      "model_module": "@jupyter-widgets/controls",
      "model_module_version": "1.0.0",
      "model_name": "TextModel",
      "state": {
       "layout": "IPY_MODEL_e88b79b8f16949a2a6d58581fdbd58a9",
       "placeholder": "sample meta",
       "style": "IPY_MODEL_39a0c7e40f304fa99aeae4b208ecc13b",
       "value": "-"
      }
     },
     "0844b68abc714506adf0d5859a7e0fdd": {
      "model_module": "@jupyter-widgets/controls",
      "model_module_version": "1.0.0",
      "model_name": "FloatTextModel",
      "state": {
       "description": "Abundance",
       "layout": "IPY_MODEL_773cb8dede5f4d728628430598683cc5",
       "step": null,
       "style": "IPY_MODEL_8a439e52677e4ce38fca38efb35d440e"
      }
     },
     "089081dc448441e3a64eba8d90081df7": {
      "model_module": "@jupyter-widgets/controls",
      "model_module_version": "1.0.0",
      "model_name": "DescriptionStyleModel",
      "state": {
       "description_width": ""
      }
     },
     "08e7c1acec87461f8d4f65b1f5a24b60": {
      "model_module": "@jupyter-widgets/controls",
      "model_module_version": "1.0.0",
      "model_name": "DescriptionStyleModel",
      "state": {
       "description_width": ""
      }
     },
     "0916bd9112904822aba6f4e7ba6ccc37": {
      "model_module": "@jupyter-widgets/base",
      "model_module_version": "1.0.0",
      "model_name": "LayoutModel",
      "state": {}
     },
     "0918fcd942134604b0feb6a4db01ee24": {
      "model_module": "@jupyter-widgets/controls",
      "model_module_version": "1.0.0",
      "model_name": "TextModel",
      "state": {
       "description": "Feature ID",
       "layout": "IPY_MODEL_e645d7359c8d49039234e2ac88b11a85",
       "placeholder": "Feature ID",
       "style": "IPY_MODEL_a6fda4faa1434abdb3574b8b173ab8ef",
       "value": "TC"
      }
     },
     "09600fec608f486f8f4f1c9aa989e0d8": {
      "model_module": "@jupyter-widgets/base",
      "model_module_version": "1.0.0",
      "model_name": "LayoutModel",
      "state": {}
     },
     "0a33afa81af04d598d3cf743b1b36c1a": {
      "model_module": "@jupyter-widgets/controls",
      "model_module_version": "1.0.0",
      "model_name": "TextModel",
      "state": {
       "layout": "IPY_MODEL_9354b50cf37742798cf9830a78845f29",
       "placeholder": "feature meta",
       "style": "IPY_MODEL_c9356130646942dda88a7fae4e8ebd90",
       "value": "-"
      }
     },
     "0a3dbc9e3d4344749c3bf9fdfb9286c0": {
      "model_module": "@jupyter-widgets/controls",
      "model_module_version": "1.0.0",
      "model_name": "ButtonStyleModel",
      "state": {}
     },
     "0a933edb5afd437488d1a42c77fc4c62": {
      "model_module": "@jupyter-widgets/base",
      "model_module_version": "1.0.0",
      "model_name": "LayoutModel",
      "state": {}
     },
     "0b1405200deb4d2c80c5e2247c028fa1": {
      "model_module": "@jupyter-widgets/controls",
      "model_module_version": "1.0.0",
      "model_name": "ButtonModel",
      "state": {
       "description": "Annotate",
       "layout": "IPY_MODEL_2bb37815d26946618ddde090bc8a36d1",
       "style": "IPY_MODEL_367f81208665413ea1e085c2f4e6c455"
      }
     },
     "0b8e67265b874295b6405c31bfb1e4e1": {
      "model_module": "@jupyter-widgets/controls",
      "model_module_version": "1.0.0",
      "model_name": "ButtonModel",
      "state": {
       "description": "print axes ranges",
       "layout": "IPY_MODEL_3ad0d55915714ffb9375ffbaf886cf13",
       "style": "IPY_MODEL_dc519691bec749738e7974bd2d9303b7",
       "tooltip": "Print the x axis and y axis ranges. Useful to pass to `rect` parameter of heatmap() to zoom in the region automatically."
      }
     },
     "0bfca4e6359a4e6cbd9128b26181b722": {
      "model_module": "@jupyter-widgets/base",
      "model_module_version": "1.0.0",
      "model_name": "LayoutModel",
      "state": {}
     },
     "0c4a02a494cd4a6e97566225dc49bad3": {
      "model_module": "@jupyter-widgets/controls",
      "model_module_version": "1.0.0",
      "model_name": "ButtonModel",
      "state": {
       "description": "print axes ranges",
       "layout": "IPY_MODEL_4cdb36b14f8e468eb174fa57ee9e4e66",
       "style": "IPY_MODEL_ecedbf261dba4bf6ba6b35ac3bbcf5d1",
       "tooltip": "Print the x axis and y axis ranges. Useful to pass to `rect` parameter of heatmap() to zoom in the region automatically."
      }
     },
     "0cc44c0f647840f09a5a324c3880a9b2": {
      "model_module": "@jupyter-widgets/controls",
      "model_module_version": "1.0.0",
      "model_name": "ButtonModel",
      "state": {
       "description": "Annotate",
       "layout": "IPY_MODEL_70d70308bb8443e594ea4a8e6993dc7f",
       "style": "IPY_MODEL_87510413707e4b36b7894ac3c17e83de"
      }
     },
     "0cc799d027954a0da877c1b6c0c99afc": {
      "model_module": "@jupyter-widgets/controls",
      "model_module_version": "1.0.0",
      "model_name": "TextModel",
      "state": {
       "description": "Sample ID",
       "layout": "IPY_MODEL_91d34eaab44e4d849f70e949826ffee3",
       "placeholder": "Sample ID",
       "style": "IPY_MODEL_76fd7714395a42a2a8390a555349436c",
       "value": "-"
      }
     },
     "0d1ac708b20d42ec89747468e9d2867c": {
      "model_module": "@jupyter-widgets/base",
      "model_module_version": "1.0.0",
      "model_name": "LayoutModel",
      "state": {}
     },
     "0d20f9dadc1342c8ba22b76fccbd3807": {
      "model_module": "@jupyter-widgets/base",
      "model_module_version": "1.0.0",
      "model_name": "LayoutModel",
      "state": {}
     },
     "0dcb8e4af49f4ae589e9f9c6952f95c1": {
      "model_module": "@jupyter-widgets/base",
      "model_module_version": "1.0.0",
      "model_name": "LayoutModel",
      "state": {}
     },
     "0e00371c11dc4a7381104deec97aefcf": {
      "model_module": "@jupyter-widgets/controls",
      "model_module_version": "1.0.0",
      "model_name": "TextModel",
      "state": {
       "description": "Feature ID",
       "layout": "IPY_MODEL_91d34eaab44e4d849f70e949826ffee3",
       "placeholder": "Feature ID",
       "style": "IPY_MODEL_4b1f475415bd461db71ad386a26f7e13",
       "value": "-"
      }
     },
     "0e032ba7dca64c848bf64209f9e32b63": {
      "model_module": "@jupyter-widgets/controls",
      "model_module_version": "1.0.0",
      "model_name": "ButtonStyleModel",
      "state": {}
     },
     "0e07ef18630d400ebd047cfa66842770": {
      "model_module": "@jupyter-widgets/base",
      "model_module_version": "1.0.0",
      "model_name": "LayoutModel",
      "state": {}
     },
     "0eb099a48d0a46ed9d2c5c9068ee3cbf": {
      "model_module": "@jupyter-widgets/base",
      "model_module_version": "1.0.0",
      "model_name": "LayoutModel",
      "state": {
       "width": "100%"
      }
     },
     "0f41cda0e2e849ffb2bc1336f05c5a1c": {
      "model_module": "@jupyter-widgets/controls",
      "model_module_version": "1.0.0",
      "model_name": "DropdownModel",
      "state": {
       "_options_labels": [
        "oxygen",
        "ph",
        "level1",
        "level2",
        "new.order",
        "ori.order",
        "taxonomy"
       ],
       "index": 0,
       "layout": "IPY_MODEL_69a8c7b362dc464390ce4ce8d0f479ca",
       "style": "IPY_MODEL_9efe0892a42b4c7eaec597f1b9a330a1"
      }
     },
     "0fe4437f03514de2a3929adfcab239a3": {
      "model_module": "@jupyter-widgets/base",
      "model_module_version": "1.0.0",
      "model_name": "LayoutModel",
      "state": {
       "width": "100%"
      }
     },
     "10239a33f22a4113a1a9d79aa4d1288c": {
      "model_module": "@jupyter-widgets/base",
      "model_module_version": "1.0.0",
      "model_name": "LayoutModel",
      "state": {}
     },
     "1034c1d1787f4fa999489ac1ac9f0117": {
      "model_module": "@jupyter-widgets/controls",
      "model_module_version": "1.0.0",
      "model_name": "ButtonModel",
      "state": {
       "description": "print axes ranges",
       "layout": "IPY_MODEL_b5bd938134374736a4c7917822853dc7",
       "style": "IPY_MODEL_ce046812970f4a9aa67508191c6b863f",
       "tooltip": "Print the x axis and y axis ranges. Useful to pass to `rect` parameter of heatmap() to zoom in the region automatically."
      }
     },
     "105dc9bc4cdf424f9691cc233cdf519e": {
      "model_module": "@jupyter-widgets/base",
      "model_module_version": "1.0.0",
      "model_name": "LayoutModel",
      "state": {
       "width": "100%"
      }
     },
     "10663756ad8e44caaceb81c6a59f9b3f": {
      "model_module": "@jupyter-widgets/controls",
      "model_module_version": "1.0.0",
      "model_name": "ButtonStyleModel",
      "state": {}
     },
     "115957e8b71740928560b256a2c45df3": {
      "model_module": "@jupyter-widgets/controls",
      "model_module_version": "1.0.0",
      "model_name": "ButtonModel",
      "state": {
       "description": "Save",
       "layout": "IPY_MODEL_4893f5e05fd546ce8e956d8083dff7d0",
       "style": "IPY_MODEL_6048211753f944f8b69ae5d26842b0cf",
       "tooltip": "Save the selection(s)"
      }
     },
     "11755ef1399f4350828788701485702f": {
      "model_module": "@jupyter-widgets/controls",
      "model_module_version": "1.0.0",
      "model_name": "HBoxModel",
      "state": {
       "children": [
        "IPY_MODEL_be2f8aa9d2a24b48b08e544fe904a929",
        "IPY_MODEL_4cce2edfb5ae42c585549507fdfe1826"
       ],
       "layout": "IPY_MODEL_eacd14c5f8174e70abc48f6af3752b70"
      }
     },
     "11c27a0ecdac4d5db4e19f8a166c576b": {
      "model_module": "@jupyter-widgets/base",
      "model_module_version": "1.0.0",
      "model_name": "LayoutModel",
      "state": {
       "width": "80%"
      }
     },
     "121ba1781cd647fb89530aaafdf1a241": {
      "model_module": "@jupyter-widgets/controls",
      "model_module_version": "1.0.0",
      "model_name": "FloatTextModel",
      "state": {
       "description": "Abundance",
       "layout": "IPY_MODEL_0eb099a48d0a46ed9d2c5c9068ee3cbf",
       "step": null,
       "style": "IPY_MODEL_7190db1d6935404a86a936b03fb35aee"
      }
     },
     "12611792fecb4e3a825fa33b00dfab4f": {
      "model_module": "@jupyter-widgets/base",
      "model_module_version": "1.0.0",
      "model_name": "LayoutModel",
      "state": {}
     },
     "1263795e9b9b4ff282b8af4592c23bdf": {
      "model_module": "@jupyter-widgets/controls",
      "model_module_version": "1.0.0",
      "model_name": "HTMLModel",
      "state": {
       "layout": "IPY_MODEL_93b3cf55930c4dd086479f3a5f922ade",
       "style": "IPY_MODEL_16c70636beb949efaa24cdb436c457c2",
       "value": "no annotation found"
      }
     },
     "12b79f054bad44a593585fa8ca3a8c51": {
      "model_module": "@jupyter-widgets/controls",
      "model_module_version": "1.0.0",
      "model_name": "ButtonModel",
      "state": {
       "description": "print axes ranges",
       "layout": "IPY_MODEL_96051a033f5b41e8b1d6420dc4a56497",
       "style": "IPY_MODEL_77a00bf1757a4947a5533197f51efd3d",
       "tooltip": "Print the x axis and y axis ranges. Useful to pass to `rect` parameter of heatmap function to zoom in the region automatically."
      }
     },
     "1301c4f3fffe4d4497f505b5fc37a806": {
      "model_module": "@jupyter-widgets/controls",
      "model_module_version": "1.0.0",
      "model_name": "ButtonStyleModel",
      "state": {}
     },
     "130c532f5617441694bdc4dd1970a9fb": {
      "model_module": "@jupyter-widgets/controls",
      "model_module_version": "1.0.0",
      "model_name": "DropdownModel",
      "state": {
       "_options_labels": [
        "oxygen",
        "ph",
        "level1",
        "level2",
        "new.order",
        "ori.order",
        "taxonomy"
       ],
       "index": 0,
       "layout": "IPY_MODEL_76a4c29ac6244662b3cb68e1f2604050",
       "style": "IPY_MODEL_73abd810f1734ecfae7a305d76782767"
      }
     },
     "13bf6fe0be3d4ffdaf133741f2c0c76b": {
      "model_module": "@jupyter-widgets/controls",
      "model_module_version": "1.0.0",
      "model_name": "DescriptionStyleModel",
      "state": {
       "description_width": ""
      }
     },
     "14255cf3a50244ee8e97663be3cfc90e": {
      "model_module": "@jupyter-widgets/controls",
      "model_module_version": "1.0.0",
      "model_name": "ButtonStyleModel",
      "state": {}
     },
     "148faa86f38543eca421ddfd03e4ee0b": {
      "model_module": "@jupyter-widgets/base",
      "model_module_version": "1.0.0",
      "model_name": "LayoutModel",
      "state": {}
     },
     "14c54f9ce4aa4ad7b3dc0efcd5256a9a": {
      "model_module": "@jupyter-widgets/controls",
      "model_module_version": "1.0.0",
      "model_name": "DescriptionStyleModel",
      "state": {
       "description_width": ""
      }
     },
     "1539ec922da9434aa3284350d87a0477": {
      "model_module": "@jupyter-widgets/base",
      "model_module_version": "1.0.0",
      "model_name": "LayoutModel",
      "state": {}
     },
     "15b815f52c2f4a3fb3339e012a56c3a3": {
      "model_module": "@jupyter-widgets/controls",
      "model_module_version": "1.0.0",
      "model_name": "DescriptionStyleModel",
      "state": {
       "description_width": ""
      }
     },
     "16c70636beb949efaa24cdb436c457c2": {
      "model_module": "@jupyter-widgets/controls",
      "model_module_version": "1.0.0",
      "model_name": "DescriptionStyleModel",
      "state": {
       "description_width": ""
      }
     },
     "16f43a8c6b264025a2b6f27fd1d1a7b8": {
      "model_module": "@jupyter-widgets/controls",
      "model_module_version": "1.0.0",
      "model_name": "DescriptionStyleModel",
      "state": {
       "description_width": ""
      }
     },
     "170910412c47479d93ab6de0cfe5134d": {
      "model_module": "@jupyter-widgets/base",
      "model_module_version": "1.0.0",
      "model_name": "LayoutModel",
      "state": {
       "width": "20%"
      }
     },
     "175799df856748a3bbbad60e888ea6f4": {
      "model_module": "@jupyter-widgets/controls",
      "model_module_version": "1.0.0",
      "model_name": "DescriptionStyleModel",
      "state": {
       "description_width": ""
      }
     },
     "17945b3f34e9495b94e72877cc177ba9": {
      "model_module": "@jupyter-widgets/controls",
      "model_module_version": "1.0.0",
      "model_name": "HBoxModel",
      "state": {
       "children": [
        "IPY_MODEL_2e88b9c2aeaa47589580eaa4c139599f",
        "IPY_MODEL_7ec1d504c6d24d31913faf7265dba223"
       ],
       "layout": "IPY_MODEL_c3adfefeddca4773acdab8698aa6a6ac"
      }
     },
     "17a595be441a4df3a173bcf7e6d937c2": {
      "model_module": "@jupyter-widgets/base",
      "model_module_version": "1.0.0",
      "model_name": "LayoutModel",
      "state": {}
     },
     "17c1aa17f2104a48a90f5d16f19da70c": {
      "model_module": "@jupyter-widgets/controls",
      "model_module_version": "1.0.0",
      "model_name": "DescriptionStyleModel",
      "state": {
       "description_width": ""
      }
     },
     "17e6c6f5ef3944b18f112be21299f4cc": {
      "model_module": "@jupyter-widgets/controls",
      "model_module_version": "1.0.0",
      "model_name": "TextModel",
      "state": {
       "layout": "IPY_MODEL_dc6e298893a744e59909ba0b189be545",
       "placeholder": "feature meta",
       "style": "IPY_MODEL_bbb078d65f794a72b7e5112b4df5c9b1",
       "value": "aerobic"
      }
     },
     "18bf9761334845b28c0a3aa5c2ed99e3": {
      "model_module": "@jupyter-widgets/controls",
      "model_module_version": "1.0.0",
      "model_name": "ButtonModel",
      "state": {
       "description": "print axes ranges",
       "layout": "IPY_MODEL_48885d2c446042efa4b74b97572049e6",
       "style": "IPY_MODEL_3768e755d3a248859fac3856d251c403",
       "tooltip": "Print the x axis and y axis ranges. Useful to pass to `rect` parameter of heatmap() to zoom in the region automatically."
      }
     },
     "18f720008c9a4ccdb2498fcb8b93a6b1": {
      "model_module": "@jupyter-widgets/controls",
      "model_module_version": "1.0.0",
      "model_name": "TextModel",
      "state": {
       "description": "Feature ID",
       "layout": "IPY_MODEL_eb5873d689c945bebbb75ea92831f359",
       "placeholder": "Feature ID",
       "style": "IPY_MODEL_b3bff8aac6484568ba2be1ecb46d5a48",
       "value": "-"
      }
     },
     "192e851cd1444172b6eadc18aadea290": {
      "model_module": "@jupyter-widgets/controls",
      "model_module_version": "1.0.0",
      "model_name": "DescriptionStyleModel",
      "state": {
       "description_width": ""
      }
     },
     "1943c6877755496fb5c3bc28587923ed": {
      "model_module": "@jupyter-widgets/controls",
      "model_module_version": "1.0.0",
      "model_name": "HBoxModel",
      "state": {
       "children": [
        "IPY_MODEL_0f41cda0e2e849ffb2bc1336f05c5a1c",
        "IPY_MODEL_4ffe4af096164b31a7c16031578d6bd2"
       ],
       "layout": "IPY_MODEL_e4bf18ee5d5740238c505c1defb7026e"
      }
     },
     "195665b307514fb28b4a42014a81a556": {
      "model_module": "@jupyter-widgets/base",
      "model_module_version": "1.0.0",
      "model_name": "LayoutModel",
      "state": {}
     },
     "19bf21bc950c4dd2a4a5ea5b863db538": {
      "model_module": "@jupyter-widgets/controls",
      "model_module_version": "1.0.0",
      "model_name": "DescriptionStyleModel",
      "state": {
       "description_width": ""
      }
     },
     "1a7a5c06d73a4c13a2f61611d55ccd09": {
      "model_module": "@jupyter-widgets/controls",
      "model_module_version": "1.0.0",
      "model_name": "HBoxModel",
      "state": {
       "children": [
        "IPY_MODEL_1ca598c25b9243aabfabd7fa4829a7bb",
        "IPY_MODEL_03afd9c80305460da693465a4c8c4960"
       ],
       "layout": "IPY_MODEL_277774fb06a445ada09b50fa66740e42"
      }
     },
     "1aceff07744c4442ab914d6ffe4c7528": {
      "model_module": "@jupyter-widgets/base",
      "model_module_version": "1.0.0",
      "model_name": "LayoutModel",
      "state": {}
     },
     "1af83f23ed93416fa763860d11a7fbc2": {
      "model_module": "@jupyter-widgets/controls",
      "model_module_version": "1.0.0",
      "model_name": "DescriptionStyleModel",
      "state": {
       "description_width": ""
      }
     },
     "1b93ba673e8a447ba9a94ca63684b4df": {
      "model_module": "@jupyter-widgets/controls",
      "model_module_version": "1.0.0",
      "model_name": "DropdownModel",
      "state": {
       "_options_labels": [
        "ori.order",
        "group",
        "new.order",
        "categorical",
        "_calour_original_abundance"
       ],
       "index": 0,
       "layout": "IPY_MODEL_8b3f124b74d34e099526cd43528360e9",
       "style": "IPY_MODEL_fb2bc2f08bf94fac954692de749449a2"
      }
     },
     "1b96d65ac89749b09de255e7b81a7540": {
      "model_module": "@jupyter-widgets/controls",
      "model_module_version": "1.0.0",
      "model_name": "DescriptionStyleModel",
      "state": {
       "description_width": ""
      }
     },
     "1bca3f6dd10c4d21b4f8e64d641d5e00": {
      "model_module": "@jupyter-widgets/base",
      "model_module_version": "1.0.0",
      "model_name": "LayoutModel",
      "state": {
       "width": "20%"
      }
     },
     "1be9ad42625e48cfbce132d77aeefcaf": {
      "model_module": "@jupyter-widgets/controls",
      "model_module_version": "1.0.0",
      "model_name": "TextModel",
      "state": {
       "description": "Feature ID",
       "layout": "IPY_MODEL_2ba689d5830d4d06b98eb1020bab37da",
       "placeholder": "Feature ID",
       "style": "IPY_MODEL_a0cb132f7340491781db63390944a956",
       "value": "AT"
      }
     },
     "1c5c5ccf5ee94e9e836a6732b53ed0c0": {
      "model_module": "@jupyter-widgets/base",
      "model_module_version": "1.0.0",
      "model_name": "LayoutModel",
      "state": {
       "width": "80%"
      }
     },
     "1ca598c25b9243aabfabd7fa4829a7bb": {
      "model_module": "@jupyter-widgets/controls",
      "model_module_version": "1.0.0",
      "model_name": "DropdownModel",
      "state": {
       "_options_labels": [
        "ori.order",
        "group",
        "new.order",
        "categorical",
        "_calour_original_abundance"
       ],
       "index": 0,
       "layout": "IPY_MODEL_1fe4969c6c2b4ba2871514b522ea16a1",
       "style": "IPY_MODEL_6df422153c51450d85155036cba4cf6f"
      }
     },
     "1cdffe63f17a4ec7938b0dd19311d3c2": {
      "model_module": "@jupyter-widgets/controls",
      "model_module_version": "1.0.0",
      "model_name": "DescriptionStyleModel",
      "state": {
       "description_width": ""
      }
     },
     "1f3e1bb65140435b8d35fa3271d8d3ed": {
      "model_module": "@jupyter-widgets/controls",
      "model_module_version": "1.0.0",
      "model_name": "DescriptionStyleModel",
      "state": {
       "description_width": ""
      }
     },
     "1fa38d87ff6742e68997a9f231d354ab": {
      "model_module": "@jupyter-widgets/controls",
      "model_module_version": "1.0.0",
      "model_name": "HBoxModel",
      "state": {
       "children": [
        "IPY_MODEL_31ff334f0f0a4500b8c01fefed5e7a40",
        "IPY_MODEL_0188bd766c4041b48cb5c820dc4c873d"
       ],
       "layout": "IPY_MODEL_6d3f9f8661564e979d032d847121a960"
      }
     },
     "1fc0a26a88e04820bd0e31013f0d20f3": {
      "model_module": "@jupyter-widgets/controls",
      "model_module_version": "1.0.0",
      "model_name": "DropdownModel",
      "state": {
       "_options_labels": [
        "ori.order",
        "group",
        "new.order",
        "categorical",
        "_calour_original_abundance"
       ],
       "index": 0,
       "layout": "IPY_MODEL_637cab06a7964540a03c4c44cc007a97",
       "style": "IPY_MODEL_42d2c3b567f84b668c7dacfc2f617807"
      }
     },
     "1fe4969c6c2b4ba2871514b522ea16a1": {
      "model_module": "@jupyter-widgets/base",
      "model_module_version": "1.0.0",
      "model_name": "LayoutModel",
      "state": {
       "width": "20%"
      }
     },
     "200cb43361284d0f99b1e50f867b437c": {
      "model_module": "@jupyter-widgets/base",
      "model_module_version": "1.0.0",
      "model_name": "LayoutModel",
      "state": {}
     },
     "202fbfc1d72d49538f9352c9a54f7716": {
      "model_module": "@jupyter-widgets/controls",
      "model_module_version": "1.0.0",
      "model_name": "ButtonModel",
      "state": {
       "description": "Save",
       "layout": "IPY_MODEL_e7332e7508064f9ab0dc7129ca5814b5",
       "style": "IPY_MODEL_619a4953f5e043a9a548fad66ccba3ca",
       "tooltip": "Save the selection(s)"
      }
     },
     "203bc1efd27145f4990a475c796ad20f": {
      "model_module": "@jupyter-widgets/controls",
      "model_module_version": "1.0.0",
      "model_name": "HBoxModel",
      "state": {
       "children": [
        "IPY_MODEL_29f107f897974babaeec89338afa71e4",
        "IPY_MODEL_0a33afa81af04d598d3cf743b1b36c1a"
       ],
       "layout": "IPY_MODEL_c3dca8624be44fa980083b76739f44f4"
      }
     },
     "2088bf9c285b4ed482c5ac44c04f2a92": {
      "model_module": "@jupyter-widgets/base",
      "model_module_version": "1.0.0",
      "model_name": "LayoutModel",
      "state": {
       "width": "80%"
      }
     },
     "2089cc59783946a28690e78b3d6692c1": {
      "model_module": "@jupyter-widgets/controls",
      "model_module_version": "1.0.0",
      "model_name": "FloatTextModel",
      "state": {
       "description": "Abundance",
       "layout": "IPY_MODEL_eb5873d689c945bebbb75ea92831f359",
       "step": null,
       "style": "IPY_MODEL_54e3b93483e440b2b50459e7b18b5d0b"
      }
     },
     "21566f57e7074209b44de392e4e27393": {
      "model_module": "@jupyter-widgets/controls",
      "model_module_version": "1.0.0",
      "model_name": "ButtonModel",
      "state": {
       "description": "Save",
       "layout": "IPY_MODEL_195665b307514fb28b4a42014a81a556",
       "style": "IPY_MODEL_d0995ed1839d48dc85eda76152354b9d"
      }
     },
     "21bd540ca3754b9c971290c257117b0f": {
      "model_module": "@jupyter-widgets/controls",
      "model_module_version": "1.0.0",
      "model_name": "TextModel",
      "state": {
       "description": "Sample ID",
       "layout": "IPY_MODEL_90938660446045f789e980da5024085c",
       "placeholder": "Sample ID",
       "style": "IPY_MODEL_251fefe9eb104ecba782bcfc5118074a",
       "value": "-"
      }
     },
     "222c760c1e2c4d4aa967d479fb0effb6": {
      "model_module": "@jupyter-widgets/controls",
      "model_module_version": "1.0.0",
      "model_name": "DescriptionStyleModel",
      "state": {
       "description_width": ""
      }
     },
     "22c1472937e64ed084e5635ee98f157c": {
      "model_module": "@jupyter-widgets/base",
      "model_module_version": "1.0.0",
      "model_name": "LayoutModel",
      "state": {
       "width": "80%"
      }
     },
     "22f53a34a2bd4748a14ca0ae7398e231": {
      "model_module": "@jupyter-widgets/controls",
      "model_module_version": "1.0.0",
      "model_name": "DescriptionStyleModel",
      "state": {
       "description_width": ""
      }
     },
     "2306aee16b2e498fb8752c9345c366fd": {
      "model_module": "@jupyter-widgets/base",
      "model_module_version": "1.0.0",
      "model_name": "LayoutModel",
      "state": {}
     },
     "23b061e4a6d6467bbe15094c7375cb96": {
      "model_module": "@jupyter-widgets/controls",
      "model_module_version": "1.0.0",
      "model_name": "DescriptionStyleModel",
      "state": {
       "description_width": ""
      }
     },
     "243ca8ad67194a5e90e30528a4f3a959": {
      "model_module": "@jupyter-widgets/controls",
      "model_module_version": "1.0.0",
      "model_name": "DescriptionStyleModel",
      "state": {
       "description_width": ""
      }
     },
     "2470ee5124b4465b9848dd784432767a": {
      "model_module": "@jupyter-widgets/base",
      "model_module_version": "1.0.0",
      "model_name": "LayoutModel",
      "state": {
       "width": "20%"
      }
     },
     "251fefe9eb104ecba782bcfc5118074a": {
      "model_module": "@jupyter-widgets/controls",
      "model_module_version": "1.0.0",
      "model_name": "DescriptionStyleModel",
      "state": {
       "description_width": ""
      }
     },
     "255537ebc0b3440bb5aa1005ee72f7c5": {
      "model_module": "@jupyter-widgets/controls",
      "model_module_version": "1.0.0",
      "model_name": "DropdownModel",
      "state": {
       "_options_labels": [
        "oxygen",
        "ph",
        "level1",
        "level2",
        "new.order",
        "ori.order",
        "taxonomy"
       ],
       "index": 0,
       "layout": "IPY_MODEL_6ba4d258476e48e7b1b63a2ea5c37cdc",
       "style": "IPY_MODEL_34d17a8e01d6450d8bcb4d905aaacbc1"
      }
     },
     "25fefce25fe843eb97fb0dddec8ce158": {
      "model_module": "@jupyter-widgets/base",
      "model_module_version": "1.0.0",
      "model_name": "LayoutModel",
      "state": {
       "width": "20%"
      }
     },
     "264c71cb5c2f448fbc2b032fcae8e7e8": {
      "model_module": "@jupyter-widgets/controls",
      "model_module_version": "1.0.0",
      "model_name": "DescriptionStyleModel",
      "state": {
       "description_width": ""
      }
     },
     "266acbea6439498d9c9835dd34bc2b56": {
      "model_module": "@jupyter-widgets/controls",
      "model_module_version": "1.0.0",
      "model_name": "HBoxModel",
      "state": {
       "children": [
        "IPY_MODEL_3a1f7ad3862c448a9d633ce9308ec357",
        "IPY_MODEL_72ca2da620864950a1ce9d943470cdf3"
       ],
       "layout": "IPY_MODEL_a90a70232dbc40e498e9530981c3096b"
      }
     },
     "270b6d3846df4858be126fb7414162e0": {
      "model_module": "@jupyter-widgets/controls",
      "model_module_version": "1.0.0",
      "model_name": "DropdownModel",
      "state": {
       "_options_labels": [
        "ori.order",
        "group",
        "new.order",
        "categorical",
        "_calour_original_abundance"
       ],
       "index": 0,
       "layout": "IPY_MODEL_b99e9da4029b419090801961b9cf61bd",
       "style": "IPY_MODEL_5d347afdf8964e68ad9b873b4e3561ef"
      }
     },
     "277774fb06a445ada09b50fa66740e42": {
      "model_module": "@jupyter-widgets/base",
      "model_module_version": "1.0.0",
      "model_name": "LayoutModel",
      "state": {}
     },
     "27b1fc23675040c7ae865bfc0604cc82": {
      "model_module": "@jupyter-widgets/controls",
      "model_module_version": "1.0.0",
      "model_name": "DescriptionStyleModel",
      "state": {
       "description_width": ""
      }
     },
     "27cb91b373b0428ca464d7ec2e4a81e7": {
      "model_module": "@jupyter-widgets/controls",
      "model_module_version": "1.0.0",
      "model_name": "TextModel",
      "state": {
       "layout": "IPY_MODEL_47e81a79b0d449069d97164dbb7f2445",
       "placeholder": "sample meta",
       "style": "IPY_MODEL_f017309af9ce4009baf89347e8da140d",
       "value": "-"
      }
     },
     "284f28960d404abc9d30388fd673c37c": {
      "model_module": "@jupyter-widgets/controls",
      "model_module_version": "1.0.0",
      "model_name": "HBoxModel",
      "state": {
       "children": [
        "IPY_MODEL_255537ebc0b3440bb5aa1005ee72f7c5",
        "IPY_MODEL_4395cc26020f41f4b1321cc2eb9c4532"
       ],
       "layout": "IPY_MODEL_7daf8677bcaf43b191a32cfa52e9cb66"
      }
     },
     "287bcf9dbc26408cba8f5cdf3348f93b": {
      "model_module": "@jupyter-widgets/controls",
      "model_module_version": "1.0.0",
      "model_name": "DropdownModel",
      "state": {
       "_options_labels": [
        "oxygen",
        "ph",
        "level1",
        "level2",
        "new.order",
        "ori.order",
        "taxonomy"
       ],
       "index": 0,
       "layout": "IPY_MODEL_43d4178e3a6748de8b719661c4738663",
       "style": "IPY_MODEL_1af83f23ed93416fa763860d11a7fbc2"
      }
     },
     "28933b63a14b4519b03df2e558d27162": {
      "model_module": "@jupyter-widgets/base",
      "model_module_version": "1.0.0",
      "model_name": "LayoutModel",
      "state": {
       "width": "20%"
      }
     },
     "2979aa0ba7fa4d099eb2e734cbd2da55": {
      "model_module": "@jupyter-widgets/base",
      "model_module_version": "1.0.0",
      "model_name": "LayoutModel",
      "state": {
       "width": "20%"
      }
     },
     "29e59b1f20dc408bb2d2fff975a9b41b": {
      "model_module": "@jupyter-widgets/controls",
      "model_module_version": "1.0.0",
      "model_name": "DropdownModel",
      "state": {
       "_options_labels": [
        "ori.order",
        "group",
        "new.order",
        "categorical",
        "_calour_original_abundance"
       ],
       "index": 0,
       "layout": "IPY_MODEL_abe3ea449b7341bb8514ac5575384e14",
       "style": "IPY_MODEL_0376c356e3a645a4b26a4cbf09b020c3"
      }
     },
     "29e808bc686b4452995d7e9049b7205f": {
      "model_module": "@jupyter-widgets/base",
      "model_module_version": "1.0.0",
      "model_name": "LayoutModel",
      "state": {
       "width": "20%"
      }
     },
     "29f107f897974babaeec89338afa71e4": {
      "model_module": "@jupyter-widgets/controls",
      "model_module_version": "1.0.0",
      "model_name": "DropdownModel",
      "state": {
       "_options_labels": [
        "oxygen",
        "ph",
        "level1",
        "level2",
        "new.order",
        "ori.order",
        "taxonomy"
       ],
       "index": 0,
       "layout": "IPY_MODEL_7bef7c20e9464d468783ca4a78c3d30d",
       "style": "IPY_MODEL_879abe67fe034d72aa5ee141d7fd465e"
      }
     },
     "2a79dfa401c949a59b6432958fb07569": {
      "model_module": "@jupyter-widgets/controls",
      "model_module_version": "1.0.0",
      "model_name": "ButtonStyleModel",
      "state": {}
     },
     "2a949cb24c8549f99ad364f255401d62": {
      "model_module": "@jupyter-widgets/controls",
      "model_module_version": "1.0.0",
      "model_name": "FloatTextModel",
      "state": {
       "description": "Abundance",
       "layout": "IPY_MODEL_6a78243a8abb4458b19ae1a0500dab91",
       "step": null,
       "style": "IPY_MODEL_7bc60e2cf7fa45db8205d74c444fb512"
      }
     },
     "2b4b30636de24a7d87ec9b53a9931001": {
      "model_module": "@jupyter-widgets/controls",
      "model_module_version": "1.0.0",
      "model_name": "FloatTextModel",
      "state": {
       "description": "Abundance",
       "layout": "IPY_MODEL_e645d7359c8d49039234e2ac88b11a85",
       "step": null,
       "style": "IPY_MODEL_34c560d96eef45a3a977baffe76d58a3",
       "value": 900
      }
     },
     "2ba689d5830d4d06b98eb1020bab37da": {
      "model_module": "@jupyter-widgets/base",
      "model_module_version": "1.0.0",
      "model_name": "LayoutModel",
      "state": {
       "width": "100%"
      }
     },
     "2bb37815d26946618ddde090bc8a36d1": {
      "model_module": "@jupyter-widgets/base",
      "model_module_version": "1.0.0",
      "model_name": "LayoutModel",
      "state": {}
     },
     "2bfb81ad23ac4a45baa2a3e07d12d60c": {
      "model_module": "@jupyter-widgets/base",
      "model_module_version": "1.0.0",
      "model_name": "LayoutModel",
      "state": {}
     },
     "2c2795edfcaa4232adfbbcd583c438b4": {
      "model_module": "@jupyter-widgets/base",
      "model_module_version": "1.0.0",
      "model_name": "LayoutModel",
      "state": {
       "width": "20%"
      }
     },
     "2cd6a44f6b394ae08f319e2560c5ae91": {
      "model_module": "@jupyter-widgets/controls",
      "model_module_version": "1.0.0",
      "model_name": "TextModel",
      "state": {
       "layout": "IPY_MODEL_4ba7c81175cf491ab6cea7432343952d",
       "placeholder": "feature meta",
       "style": "IPY_MODEL_7a41573e30004dbabf0043eee1f46740",
       "value": "anaerobic"
      }
     },
     "2d37a5e15cda47b68a805f2ec44bcbbd": {
      "model_module": "@jupyter-widgets/controls",
      "model_module_version": "1.0.0",
      "model_name": "TextModel",
      "state": {
       "layout": "IPY_MODEL_03f1c9ce4df544d492ec0a01f1a26d87",
       "placeholder": "feature meta",
       "style": "IPY_MODEL_4aae4558364a4e80a2d3a1cd34e490a0",
       "value": "-"
      }
     },
     "2d96f0e0dcce496b9430fe6b238e5ba8": {
      "model_module": "@jupyter-widgets/controls",
      "model_module_version": "1.0.0",
      "model_name": "HBoxModel",
      "state": {
       "children": [
        "IPY_MODEL_12b79f054bad44a593585fa8ca3a8c51",
        "IPY_MODEL_726ebe804d5546d1b1d32c81ba16eb54",
        "IPY_MODEL_6b04e885f258431aa527f05fa131ddcd"
       ],
       "layout": "IPY_MODEL_fe17a9f6eb674a01bf2b574371434fa7"
      }
     },
     "2e2fc3b9154e4cc086926a7671fbe671": {
      "model_module": "@jupyter-widgets/controls",
      "model_module_version": "1.0.0",
      "model_name": "DescriptionStyleModel",
      "state": {
       "description_width": ""
      }
     },
     "2e88b9c2aeaa47589580eaa4c139599f": {
      "model_module": "@jupyter-widgets/controls",
      "model_module_version": "1.0.0",
      "model_name": "DropdownModel",
      "state": {
       "_options_labels": [
        "oxygen",
        "ph",
        "level1",
        "level2",
        "new.order",
        "ori.order",
        "taxonomy"
       ],
       "index": 0,
       "layout": "IPY_MODEL_28933b63a14b4519b03df2e558d27162",
       "style": "IPY_MODEL_222c760c1e2c4d4aa967d479fb0effb6"
      }
     },
     "2eb8e2db28e04011a26a20c32b732cd5": {
      "model_module": "@jupyter-widgets/base",
      "model_module_version": "1.0.0",
      "model_name": "LayoutModel",
      "state": {}
     },
     "2ef739485b2b43fcb5cf79c53e6346dd": {
      "model_module": "@jupyter-widgets/controls",
      "model_module_version": "1.0.0",
      "model_name": "DescriptionStyleModel",
      "state": {
       "description_width": ""
      }
     },
     "30c9afd23bbb4a14b515ac1cc0d9b2a8": {
      "model_module": "@jupyter-widgets/controls",
      "model_module_version": "1.0.0",
      "model_name": "DropdownModel",
      "state": {
       "_options_labels": [
        "oxygen",
        "ph",
        "level1",
        "level2",
        "new.order",
        "ori.order",
        "taxonomy"
       ],
       "index": 0,
       "layout": "IPY_MODEL_3210a34bce134a5eab168002ba9c757c",
       "style": "IPY_MODEL_960df2a4f6054b57a54b257213e7f63e"
      }
     },
     "31ff334f0f0a4500b8c01fefed5e7a40": {
      "model_module": "@jupyter-widgets/controls",
      "model_module_version": "1.0.0",
      "model_name": "DropdownModel",
      "state": {
       "_options_labels": [
        "oxygen",
        "ph",
        "level1",
        "level2",
        "new.order",
        "ori.order",
        "taxonomy"
       ],
       "index": 0,
       "layout": "IPY_MODEL_2c2795edfcaa4232adfbbcd583c438b4",
       "style": "IPY_MODEL_27b1fc23675040c7ae865bfc0604cc82"
      }
     },
     "3210a34bce134a5eab168002ba9c757c": {
      "model_module": "@jupyter-widgets/base",
      "model_module_version": "1.0.0",
      "model_name": "LayoutModel",
      "state": {
       "width": "20%"
      }
     },
     "32ed7ce94fa4446685d4c9fd31f767a9": {
      "model_module": "@jupyter-widgets/base",
      "model_module_version": "1.0.0",
      "model_name": "LayoutModel",
      "state": {
       "width": "20%"
      }
     },
     "336d2c9752d943d387b7a98127cf5e54": {
      "model_module": "@jupyter-widgets/controls",
      "model_module_version": "1.0.0",
      "model_name": "TextModel",
      "state": {
       "description": "Sample ID",
       "layout": "IPY_MODEL_2ba689d5830d4d06b98eb1020bab37da",
       "placeholder": "Sample ID",
       "style": "IPY_MODEL_91814db0b8d64f12b71d3d70653e8801",
       "value": "S3"
      }
     },
     "3420682b367d4a3f961ac834a60cea69": {
      "model_module": "@jupyter-widgets/controls",
      "model_module_version": "1.0.0",
      "model_name": "ButtonModel",
      "state": {
       "description": "Annotate",
       "layout": "IPY_MODEL_0dcb8e4af49f4ae589e9f9c6952f95c1",
       "style": "IPY_MODEL_480e3f0f685a447ab02485dab40b2440"
      }
     },
     "3499ffa30e94402ba4c68f98a5f63755": {
      "model_module": "@jupyter-widgets/controls",
      "model_module_version": "1.0.0",
      "model_name": "DescriptionStyleModel",
      "state": {
       "description_width": ""
      }
     },
     "34c560d96eef45a3a977baffe76d58a3": {
      "model_module": "@jupyter-widgets/controls",
      "model_module_version": "1.0.0",
      "model_name": "DescriptionStyleModel",
      "state": {
       "description_width": ""
      }
     },
     "34d17a8e01d6450d8bcb4d905aaacbc1": {
      "model_module": "@jupyter-widgets/controls",
      "model_module_version": "1.0.0",
      "model_name": "DescriptionStyleModel",
      "state": {
       "description_width": ""
      }
     },
     "354225d24e364044adb57e3f33eab86a": {
      "model_module": "@jupyter-widgets/controls",
      "model_module_version": "1.0.0",
      "model_name": "TextModel",
      "state": {
       "layout": "IPY_MODEL_6cfc29a9736b486589cddb2aec69eff6",
       "placeholder": "sample meta",
       "style": "IPY_MODEL_7968a43a1a314708885a2febf7586d07",
       "value": "-"
      }
     },
     "3635eb6bf5bd4eb2b3c511ad41937e04": {
      "model_module": "@jupyter-widgets/controls",
      "model_module_version": "1.0.0",
      "model_name": "DropdownModel",
      "state": {
       "_options_labels": [
        "oxygen",
        "ph",
        "level1",
        "level2",
        "new.order",
        "ori.order",
        "taxonomy"
       ],
       "index": 0,
       "layout": "IPY_MODEL_2470ee5124b4465b9848dd784432767a",
       "style": "IPY_MODEL_7bbecd1f33544181b1889546cbaa4c14"
      }
     },
     "367f81208665413ea1e085c2f4e6c455": {
      "model_module": "@jupyter-widgets/controls",
      "model_module_version": "1.0.0",
      "model_name": "ButtonStyleModel",
      "state": {}
     },
     "36fb6a81180c48d68e3c1213de0693c1": {
      "model_module": "@jupyter-widgets/controls",
      "model_module_version": "1.0.0",
      "model_name": "TextModel",
      "state": {
       "description": "Sample ID",
       "layout": "IPY_MODEL_d59215ebf4b145409800dd999aeb9210",
       "placeholder": "Sample ID",
       "style": "IPY_MODEL_e025ed167a4e45f8b19de4325b880c74",
       "value": "S2"
      }
     },
     "3768e755d3a248859fac3856d251c403": {
      "model_module": "@jupyter-widgets/controls",
      "model_module_version": "1.0.0",
      "model_name": "ButtonStyleModel",
      "state": {}
     },
     "37a7059974b241c89345100dcfa39b8e": {
      "model_module": "@jupyter-widgets/controls",
      "model_module_version": "1.0.0",
      "model_name": "DescriptionStyleModel",
      "state": {
       "description_width": ""
      }
     },
     "383eff41594943228926d9b13904e810": {
      "model_module": "@jupyter-widgets/controls",
      "model_module_version": "1.0.0",
      "model_name": "LabelModel",
      "state": {
       "layout": "IPY_MODEL_7023f7c41ae144399908a4f124e9db30",
       "style": "IPY_MODEL_42527617e31540bda5e8c2bad299ee44",
       "value": "0 features are selected"
      }
     },
     "389e14a306a3404fa87ca08730449c9d": {
      "model_module": "@jupyter-widgets/controls",
      "model_module_version": "1.0.0",
      "model_name": "TextModel",
      "state": {
       "description": "Feature ID",
       "layout": "IPY_MODEL_019046940176475d87de54db26107ee7",
       "placeholder": "Feature ID",
       "style": "IPY_MODEL_71ae1c1cdd5d43dfa2c3cf492850d582",
       "value": "AT"
      }
     },
     "39410abbc167453387a2c1c5e76bcf55": {
      "model_module": "@jupyter-widgets/controls",
      "model_module_version": "1.0.0",
      "model_name": "HBoxModel",
      "state": {
       "children": [
        "IPY_MODEL_9802adaa4e154ffdb94436771cbfd92b",
        "IPY_MODEL_4718753b688d4ccf992e28d8c92e5cc5"
       ],
       "layout": "IPY_MODEL_544ce9bde23e4414a401b9c64bab2e25"
      }
     },
     "39a0c7e40f304fa99aeae4b208ecc13b": {
      "model_module": "@jupyter-widgets/controls",
      "model_module_version": "1.0.0",
      "model_name": "DescriptionStyleModel",
      "state": {
       "description_width": ""
      }
     },
     "3a1f7ad3862c448a9d633ce9308ec357": {
      "model_module": "@jupyter-widgets/controls",
      "model_module_version": "1.0.0",
      "model_name": "DropdownModel",
      "state": {
       "_options_labels": [
        "oxygen",
        "ph",
        "level1",
        "level2",
        "new.order",
        "ori.order",
        "taxonomy"
       ],
       "index": 0,
       "layout": "IPY_MODEL_170910412c47479d93ab6de0cfe5134d",
       "style": "IPY_MODEL_c731b56898dc4e27ab0253d2af3629dc"
      }
     },
     "3a227cd0d6bd41d4bd2b38aea0a2a997": {
      "model_module": "@jupyter-widgets/base",
      "model_module_version": "1.0.0",
      "model_name": "LayoutModel",
      "state": {
       "width": "80%"
      }
     },
     "3a272e5250e94bda8d8d50c0e56ed531": {
      "model_module": "@jupyter-widgets/controls",
      "model_module_version": "1.0.0",
      "model_name": "DropdownModel",
      "state": {
       "_options_labels": [
        "oxygen",
        "ph",
        "level1",
        "level2",
        "new.order",
        "ori.order",
        "taxonomy"
       ],
       "index": 0,
       "layout": "IPY_MODEL_1bca3f6dd10c4d21b4f8e64d641d5e00",
       "style": "IPY_MODEL_08e7c1acec87461f8d4f65b1f5a24b60"
      }
     },
     "3ad0d55915714ffb9375ffbaf886cf13": {
      "model_module": "@jupyter-widgets/base",
      "model_module_version": "1.0.0",
      "model_name": "LayoutModel",
      "state": {}
     },
     "3ba474507f8e46aa97e33120097f76f3": {
      "model_module": "@jupyter-widgets/controls",
      "model_module_version": "1.0.0",
      "model_name": "DescriptionStyleModel",
      "state": {
       "description_width": ""
      }
     },
     "3bb822e442e044afaae17f995f5c8a5e": {
      "model_module": "@jupyter-widgets/base",
      "model_module_version": "1.0.0",
      "model_name": "LayoutModel",
      "state": {}
     },
     "3e9d3806dcc145989927b1e74fb92344": {
      "model_module": "@jupyter-widgets/controls",
      "model_module_version": "1.0.0",
      "model_name": "DescriptionStyleModel",
      "state": {
       "description_width": ""
      }
     },
     "3ea86f2b58ad4827964408c8d437eced": {
      "model_module": "@jupyter-widgets/controls",
      "model_module_version": "1.0.0",
      "model_name": "DescriptionStyleModel",
      "state": {
       "description_width": ""
      }
     },
     "3effb17aa2a4473fbe49ea9685595680": {
      "model_module": "@jupyter-widgets/controls",
      "model_module_version": "1.0.0",
      "model_name": "TextModel",
      "state": {
       "description": "Sample ID",
       "layout": "IPY_MODEL_80c5bc5bac9f4b009ff6369d9b52c34d",
       "placeholder": "Sample ID",
       "style": "IPY_MODEL_bcb1a3d1bc194669a7016a10d8c99974",
       "value": "-"
      }
     },
     "3f1bcaf1c7df4fc9b42f9ff393e652d9": {
      "model_module": "@jupyter-widgets/controls",
      "model_module_version": "1.0.0",
      "model_name": "LabelModel",
      "state": {
       "layout": "IPY_MODEL_dc8840a850dc4b9a917c76c09a539f1c",
       "style": "IPY_MODEL_9ca03c1d41354c71be81a71d333417ee",
       "value": "0 features are selected"
      }
     },
     "3ff5012bd69a49138566f31f67ade583": {
      "model_module": "@jupyter-widgets/controls",
      "model_module_version": "1.0.0",
      "model_name": "DescriptionStyleModel",
      "state": {
       "description_width": ""
      }
     },
     "403ccc4602c54ebf9c5913e99ca37ce7": {
      "model_module": "@jupyter-widgets/base",
      "model_module_version": "1.0.0",
      "model_name": "LayoutModel",
      "state": {}
     },
     "41aa402ee7d14626a93a4fd8eb2fdf72": {
      "model_module": "@jupyter-widgets/base",
      "model_module_version": "1.0.0",
      "model_name": "LayoutModel",
      "state": {
       "height": "100px",
       "overflow_y": "auto"
      }
     },
     "41cda9e6486e4b50b31d77ed42a32c2e": {
      "model_module": "@jupyter-widgets/controls",
      "model_module_version": "1.0.0",
      "model_name": "TextModel",
      "state": {
       "description": "Sample ID",
       "layout": "IPY_MODEL_5d7e0419d4ec4655b22c5d7169b62c7f",
       "placeholder": "Sample ID",
       "style": "IPY_MODEL_8ec1123f964a4ad993760b0c3b4053d1",
       "value": "-"
      }
     },
     "42527617e31540bda5e8c2bad299ee44": {
      "model_module": "@jupyter-widgets/controls",
      "model_module_version": "1.0.0",
      "model_name": "DescriptionStyleModel",
      "state": {
       "description_width": ""
      }
     },
     "426af36c438e42928a587f3cefaccecd": {
      "model_module": "@jupyter-widgets/controls",
      "model_module_version": "1.0.0",
      "model_name": "DropdownModel",
      "state": {
       "_options_labels": [
        "ori.order",
        "group",
        "new.order",
        "categorical",
        "_calour_original_abundance"
       ],
       "index": 0,
       "layout": "IPY_MODEL_ecd4c081588e4208aef03886f1406ce6",
       "style": "IPY_MODEL_af8fdc59253e49b9b9d99462cfdf1ac2"
      }
     },
     "426c43fca8b04f82896dedf27ad74826": {
      "model_module": "@jupyter-widgets/base",
      "model_module_version": "1.0.0",
      "model_name": "LayoutModel",
      "state": {}
     },
     "42d2c3b567f84b668c7dacfc2f617807": {
      "model_module": "@jupyter-widgets/controls",
      "model_module_version": "1.0.0",
      "model_name": "DescriptionStyleModel",
      "state": {
       "description_width": ""
      }
     },
     "433210ce464844fcb3b51d74ec0d7eec": {
      "model_module": "@jupyter-widgets/controls",
      "model_module_version": "1.0.0",
      "model_name": "DescriptionStyleModel",
      "state": {
       "description_width": ""
      }
     },
     "436daf778d42400cbcbf5fdd3a76f456": {
      "model_module": "@jupyter-widgets/controls",
      "model_module_version": "1.0.0",
      "model_name": "LabelModel",
      "state": {
       "layout": "IPY_MODEL_a947787b553a485fab496b15d7e0bb9a",
       "style": "IPY_MODEL_b957e7ac728047f48100ffb857fc966b",
       "value": "0 features are selected"
      }
     },
     "4395cc26020f41f4b1321cc2eb9c4532": {
      "model_module": "@jupyter-widgets/controls",
      "model_module_version": "1.0.0",
      "model_name": "TextModel",
      "state": {
       "layout": "IPY_MODEL_6b05e69ce5d848c98718e99b4bcdf07a",
       "placeholder": "feature meta",
       "style": "IPY_MODEL_175799df856748a3bbbad60e888ea6f4",
       "value": "-"
      }
     },
     "43a16580f116427a87abeda9ec8465da": {
      "model_module": "@jupyter-widgets/base",
      "model_module_version": "1.0.0",
      "model_name": "LayoutModel",
      "state": {}
     },
     "43d4178e3a6748de8b719661c4738663": {
      "model_module": "@jupyter-widgets/base",
      "model_module_version": "1.0.0",
      "model_name": "LayoutModel",
      "state": {
       "width": "20%"
      }
     },
     "44705496aa0c4ec488da67db63d7cdc6": {
      "model_module": "@jupyter-widgets/base",
      "model_module_version": "1.0.0",
      "model_name": "LayoutModel",
      "state": {}
     },
     "45a205b117a7489a8113fb0148a15d91": {
      "model_module": "@jupyter-widgets/controls",
      "model_module_version": "1.0.0",
      "model_name": "DescriptionStyleModel",
      "state": {
       "description_width": ""
      }
     },
     "463ccf9e5f9e48569343575f205adec3": {
      "model_module": "@jupyter-widgets/base",
      "model_module_version": "1.0.0",
      "model_name": "LayoutModel",
      "state": {
       "height": "100px",
       "overflow_y": "auto"
      }
     },
     "46fd1a9ea25a4c888e0f728591bcbb77": {
      "model_module": "@jupyter-widgets/controls",
      "model_module_version": "1.0.0",
      "model_name": "FloatTextModel",
      "state": {
       "description": "Abundance",
       "layout": "IPY_MODEL_b9e20f433739466d836038e789e66f1a",
       "step": null,
       "style": "IPY_MODEL_eb416d4fc8084a5c9ce91c8c0ef6846c"
      }
     },
     "4718753b688d4ccf992e28d8c92e5cc5": {
      "model_module": "@jupyter-widgets/controls",
      "model_module_version": "1.0.0",
      "model_name": "TextModel",
      "state": {
       "layout": "IPY_MODEL_cffcaf88bd3b432bac472831ed6b33d3",
       "placeholder": "sample meta",
       "style": "IPY_MODEL_65acef67ce394b698ae560a4ed6b5fc9",
       "value": "8"
      }
     },
     "478d897582d1402791ae5fcd9a92698c": {
      "model_module": "@jupyter-widgets/controls",
      "model_module_version": "1.0.0",
      "model_name": "DescriptionStyleModel",
      "state": {
       "description_width": ""
      }
     },
     "47e81a79b0d449069d97164dbb7f2445": {
      "model_module": "@jupyter-widgets/base",
      "model_module_version": "1.0.0",
      "model_name": "LayoutModel",
      "state": {
       "width": "80%"
      }
     },
     "480e3f0f685a447ab02485dab40b2440": {
      "model_module": "@jupyter-widgets/controls",
      "model_module_version": "1.0.0",
      "model_name": "ButtonStyleModel",
      "state": {}
     },
     "48318f6ceacd41b3bcd639a430ea7386": {
      "model_module": "@jupyter-widgets/controls",
      "model_module_version": "1.0.0",
      "model_name": "DescriptionStyleModel",
      "state": {
       "description_width": ""
      }
     },
     "48885d2c446042efa4b74b97572049e6": {
      "model_module": "@jupyter-widgets/base",
      "model_module_version": "1.0.0",
      "model_name": "LayoutModel",
      "state": {}
     },
     "4893f5e05fd546ce8e956d8083dff7d0": {
      "model_module": "@jupyter-widgets/base",
      "model_module_version": "1.0.0",
      "model_name": "LayoutModel",
      "state": {}
     },
     "496cb9f2f0ec49dca3c0e80f1431ac3e": {
      "model_module": "@jupyter-widgets/controls",
      "model_module_version": "1.0.0",
      "model_name": "HBoxModel",
      "state": {
       "children": [
        "IPY_MODEL_753d38c4b75d42a9bcf588978cef511c",
        "IPY_MODEL_94343b458ad346609429d806bf90ad88",
        "IPY_MODEL_e92c6a864cc747e9b91def861fcec3d5"
       ],
       "layout": "IPY_MODEL_928d371f132f4db0bc065c7e360ab249"
      }
     },
     "4983a569ae68420a8b65fbba8871f3ce": {
      "model_module": "@jupyter-widgets/base",
      "model_module_version": "1.0.0",
      "model_name": "LayoutModel",
      "state": {}
     },
     "49b9fba17ead47689325a581f61a2185": {
      "model_module": "@jupyter-widgets/base",
      "model_module_version": "1.0.0",
      "model_name": "LayoutModel",
      "state": {
       "width": "100%"
      }
     },
     "4a52fb73e8fc4c2fb1b68fd6a23986a6": {
      "model_module": "@jupyter-widgets/controls",
      "model_module_version": "1.0.0",
      "model_name": "ButtonModel",
      "state": {
       "description": "Annotate",
       "layout": "IPY_MODEL_426c43fca8b04f82896dedf27ad74826",
       "style": "IPY_MODEL_ffbc70be7ab041438df3d5e5ea61d049"
      }
     },
     "4aae4558364a4e80a2d3a1cd34e490a0": {
      "model_module": "@jupyter-widgets/controls",
      "model_module_version": "1.0.0",
      "model_name": "DescriptionStyleModel",
      "state": {
       "description_width": ""
      }
     },
     "4ad914973dc449108fc75e33fec426bb": {
      "model_module": "@jupyter-widgets/controls",
      "model_module_version": "1.0.0",
      "model_name": "DescriptionStyleModel",
      "state": {
       "description_width": ""
      }
     },
     "4b1831b5a72e4998ab49867d07da36d5": {
      "model_module": "@jupyter-widgets/controls",
      "model_module_version": "1.0.0",
      "model_name": "ButtonModel",
      "state": {
       "description": "Annotate",
       "layout": "IPY_MODEL_f7629e405cd54f89af940ada9ecc0ff8",
       "style": "IPY_MODEL_f88872a804bc43ed9a908b306dd8436d"
      }
     },
     "4b1f475415bd461db71ad386a26f7e13": {
      "model_module": "@jupyter-widgets/controls",
      "model_module_version": "1.0.0",
      "model_name": "DescriptionStyleModel",
      "state": {
       "description_width": ""
      }
     },
     "4b505a53db964658a04ea97938d2e8ad": {
      "model_module": "@jupyter-widgets/controls",
      "model_module_version": "1.0.0",
      "model_name": "TextModel",
      "state": {
       "layout": "IPY_MODEL_e2553d094641498c974282a69cb0ddd1",
       "placeholder": "sample meta",
       "style": "IPY_MODEL_61bab3f594704f2a9c85b7d990915cef",
       "value": "1"
      }
     },
     "4b5072a20aa94e65bd92770a67611ca5": {
      "model_module": "@jupyter-widgets/controls",
      "model_module_version": "1.0.0",
      "model_name": "DescriptionStyleModel",
      "state": {
       "description_width": ""
      }
     },
     "4b66e6ad6758443c8d030ff1915ff35a": {
      "model_module": "@jupyter-widgets/base",
      "model_module_version": "1.0.0",
      "model_name": "LayoutModel",
      "state": {
       "width": "80%"
      }
     },
     "4b7398aac7f045878bcfad5f24ceac70": {
      "model_module": "@jupyter-widgets/base",
      "model_module_version": "1.0.0",
      "model_name": "LayoutModel",
      "state": {}
     },
     "4b9bf28a5ef74b7e9106fa09d8b26bbf": {
      "model_module": "@jupyter-widgets/controls",
      "model_module_version": "1.0.0",
      "model_name": "HBoxModel",
      "state": {
       "children": [
        "IPY_MODEL_30c9afd23bbb4a14b515ac1cc0d9b2a8",
        "IPY_MODEL_9d1881feb0e84fffbecd19f344db35cd"
       ],
       "layout": "IPY_MODEL_4983a569ae68420a8b65fbba8871f3ce"
      }
     },
     "4ba7c81175cf491ab6cea7432343952d": {
      "model_module": "@jupyter-widgets/base",
      "model_module_version": "1.0.0",
      "model_name": "LayoutModel",
      "state": {
       "width": "80%"
      }
     },
     "4c4a6d2cb43b471eaa24e37f75b812f9": {
      "model_module": "@jupyter-widgets/controls",
      "model_module_version": "1.0.0",
      "model_name": "ButtonModel",
      "state": {
       "description": "Save",
       "layout": "IPY_MODEL_4b7398aac7f045878bcfad5f24ceac70",
       "style": "IPY_MODEL_cf6228db2ae140679ec14ac74a5d0247",
       "tooltip": "Save the selection(s)"
      }
     },
     "4cce2edfb5ae42c585549507fdfe1826": {
      "model_module": "@jupyter-widgets/controls",
      "model_module_version": "1.0.0",
      "model_name": "TextModel",
      "state": {
       "layout": "IPY_MODEL_b66cbc1194f04311a4018a0c8caa09c3",
       "placeholder": "sample meta",
       "style": "IPY_MODEL_6bbbd5abc3ac469cb144935a38bbba26",
       "value": "-"
      }
     },
     "4cdb36b14f8e468eb174fa57ee9e4e66": {
      "model_module": "@jupyter-widgets/base",
      "model_module_version": "1.0.0",
      "model_name": "LayoutModel",
      "state": {}
     },
     "4d59a5ada21d43ab9b4b2d403ad65e0c": {
      "model_module": "@jupyter-widgets/controls",
      "model_module_version": "1.0.0",
      "model_name": "HBoxModel",
      "state": {
       "children": [
        "IPY_MODEL_9f820ac307b94e6f8c537a5501a0236a",
        "IPY_MODEL_2d37a5e15cda47b68a805f2ec44bcbbd"
       ],
       "layout": "IPY_MODEL_43a16580f116427a87abeda9ec8465da"
      }
     },
     "4d9ebfcc416f45a3bc4640a12862b93b": {
      "model_module": "@jupyter-widgets/base",
      "model_module_version": "1.0.0",
      "model_name": "LayoutModel",
      "state": {
       "height": "100px",
       "overflow_y": "auto"
      }
     },
     "4e275977fa734baa8bb4a9a9b5991816": {
      "model_module": "@jupyter-widgets/controls",
      "model_module_version": "1.0.0",
      "model_name": "HBoxModel",
      "state": {
       "children": [
        "IPY_MODEL_1fc0a26a88e04820bd0e31013f0d20f3",
        "IPY_MODEL_4b505a53db964658a04ea97938d2e8ad"
       ],
       "layout": "IPY_MODEL_fe5d837c7ba7440a913f182b402e409f"
      }
     },
     "4eaaeb69621c4c9a9418c57f4a4f2e40": {
      "model_module": "@jupyter-widgets/controls",
      "model_module_version": "1.0.0",
      "model_name": "ButtonStyleModel",
      "state": {}
     },
     "4f0614ca1de848638a415a2a8ccb8807": {
      "model_module": "@jupyter-widgets/controls",
      "model_module_version": "1.0.0",
      "model_name": "ButtonModel",
      "state": {
       "description": "print axes ranges",
       "layout": "IPY_MODEL_f8f2509347ce4216930b3b739010eeb0",
       "style": "IPY_MODEL_7cb4f927092a4406ac2e1aa4fd672e0b",
       "tooltip": "Print the x axis and y axis ranges. Useful to pass to `rect` parameter of heatmap() to zoom in the region automatically."
      }
     },
     "4f3ecb51b51041fbbf4a1b6a94b47faa": {
      "model_module": "@jupyter-widgets/controls",
      "model_module_version": "1.0.0",
      "model_name": "HBoxModel",
      "state": {
       "children": [
        "IPY_MODEL_5567978f1208402aa53fd7c4c502a945",
        "IPY_MODEL_c014d91977b94ce19671f87a8bfbb187",
        "IPY_MODEL_e5c7ccb9dc224b3e93a57929237dea0a"
       ],
       "layout": "IPY_MODEL_9d96b4c7dbf249aa9e759a336fffe6d5"
      }
     },
     "4f464af4da23451a856be68754ae15b6": {
      "model_module": "@jupyter-widgets/base",
      "model_module_version": "1.0.0",
      "model_name": "LayoutModel",
      "state": {}
     },
     "4f647c79f6344ce1b5ccb6369e4c9872": {
      "model_module": "@jupyter-widgets/controls",
      "model_module_version": "1.0.0",
      "model_name": "HBoxModel",
      "state": {
       "children": [
        "IPY_MODEL_914dc9b399cc4d9d8bc40c5f5c8f2001",
        "IPY_MODEL_a9c7d5950d9143d687f78a5747709eb2"
       ],
       "layout": "IPY_MODEL_0bfca4e6359a4e6cbd9128b26181b722"
      }
     },
     "4ffc944b0ad5429397444de5a2179e61": {
      "model_module": "@jupyter-widgets/controls",
      "model_module_version": "1.0.0",
      "model_name": "DescriptionStyleModel",
      "state": {
       "description_width": ""
      }
     },
     "4ffe4af096164b31a7c16031578d6bd2": {
      "model_module": "@jupyter-widgets/controls",
      "model_module_version": "1.0.0",
      "model_name": "TextModel",
      "state": {
       "layout": "IPY_MODEL_83b1180f221b489eb0f84ba3baf0d21b",
       "placeholder": "feature meta",
       "style": "IPY_MODEL_bfa70a755ef7476790c54af339eb8deb",
       "value": "-"
      }
     },
     "50d91fe195e14cbfabd45f9c2270b3a3": {
      "model_module": "@jupyter-widgets/controls",
      "model_module_version": "1.0.0",
      "model_name": "ButtonStyleModel",
      "state": {}
     },
     "51108bd934ee4c67a0d92fe4929de68e": {
      "model_module": "@jupyter-widgets/controls",
      "model_module_version": "1.0.0",
      "model_name": "TextModel",
      "state": {
       "description": "Feature ID",
       "layout": "IPY_MODEL_03e0490bdbd84a58946021fdba53e55b",
       "placeholder": "Feature ID",
       "style": "IPY_MODEL_f8c78431a7ba42ecb851602b9df0d837",
       "value": "-"
      }
     },
     "51218c4b4aca414d80f0de3af3b71ba0": {
      "model_module": "@jupyter-widgets/base",
      "model_module_version": "1.0.0",
      "model_name": "LayoutModel",
      "state": {}
     },
     "51dc199e597c4ce7b96e4602e0f500dc": {
      "model_module": "@jupyter-widgets/controls",
      "model_module_version": "1.0.0",
      "model_name": "HBoxModel",
      "state": {
       "children": [
        "IPY_MODEL_0cc799d027954a0da877c1b6c0c99afc",
        "IPY_MODEL_0e00371c11dc4a7381104deec97aefcf",
        "IPY_MODEL_5ae7ae5b381d4a298d37d72450ca33c3"
       ],
       "layout": "IPY_MODEL_edfa1bbc094c4adda04362ee3a37442d"
      }
     },
     "5266a1e5d1374d899a445b315533358f": {
      "model_module": "@jupyter-widgets/controls",
      "model_module_version": "1.0.0",
      "model_name": "HBoxModel",
      "state": {
       "children": [
        "IPY_MODEL_5ce812d27d8847a8800537f94dbd1779",
        "IPY_MODEL_21566f57e7074209b44de392e4e27393",
        "IPY_MODEL_d2b2a7ab3d9e4bb1b8f9258ecfbdd050"
       ],
       "layout": "IPY_MODEL_659c5d978baa4f318b2b11d7e4167781"
      }
     },
     "529d9991c9ca4bdfa9f74e7957d3d9b2": {
      "model_module": "@jupyter-widgets/controls",
      "model_module_version": "1.0.0",
      "model_name": "LabelModel",
      "state": {
       "layout": "IPY_MODEL_51218c4b4aca414d80f0de3af3b71ba0",
       "style": "IPY_MODEL_3ea86f2b58ad4827964408c8d437eced",
       "value": "0 features are selected"
      }
     },
     "53517737dea14c08b4225ce03480407e": {
      "model_module": "@jupyter-widgets/controls",
      "model_module_version": "1.0.0",
      "model_name": "DescriptionStyleModel",
      "state": {
       "description_width": ""
      }
     },
     "538870d6f90f4b3b999fd011f6d303aa": {
      "model_module": "@jupyter-widgets/controls",
      "model_module_version": "1.0.0",
      "model_name": "HBoxModel",
      "state": {
       "children": [
        "IPY_MODEL_c6d76c64fcc242c2ab6eaf01b0f9523f",
        "IPY_MODEL_81e674ca72694d4aa76cbab29d1275b5"
       ],
       "layout": "IPY_MODEL_e7fe72a74b0e4c3cb165d044c2990c47"
      }
     },
     "541d4fd136ab4073ab0990280e3ee208": {
      "model_module": "@jupyter-widgets/base",
      "model_module_version": "1.0.0",
      "model_name": "LayoutModel",
      "state": {}
     },
     "544c7f8ca21b4cc7afa7ac6de0d29d17": {
      "model_module": "@jupyter-widgets/controls",
      "model_module_version": "1.0.0",
      "model_name": "TextModel",
      "state": {
       "description": "Sample ID",
       "layout": "IPY_MODEL_49b9fba17ead47689325a581f61a2185",
       "placeholder": "Sample ID",
       "style": "IPY_MODEL_bbc1e315c00e49789b1c398221ebe175",
       "value": "-"
      }
     },
     "544ce9bde23e4414a401b9c64bab2e25": {
      "model_module": "@jupyter-widgets/base",
      "model_module_version": "1.0.0",
      "model_name": "LayoutModel",
      "state": {}
     },
     "54a4f1f7811643b5817626a2b90ecf2d": {
      "model_module": "@jupyter-widgets/controls",
      "model_module_version": "1.0.0",
      "model_name": "ButtonModel",
      "state": {
       "description": "Annotate",
       "layout": "IPY_MODEL_6d5cf4c76420409c8aa6c8ffcbed1f00",
       "style": "IPY_MODEL_8cc83df01337452c9bdab88f67a36a67"
      }
     },
     "54b21fb5ca70416a923184fab19163f8": {
      "model_module": "@jupyter-widgets/controls",
      "model_module_version": "1.0.0",
      "model_name": "ButtonModel",
      "state": {
       "description": "print axes ranges",
       "layout": "IPY_MODEL_cafdedaee85e4f5f83b8d9bef6a862c3",
       "style": "IPY_MODEL_94d09775552249bc9f906d9407c1047d",
       "tooltip": "Print the x axis and y axis ranges. Useful to pass to `rect` parameter of heatmap() to zoom in the region automatically."
      }
     },
     "54e3b93483e440b2b50459e7b18b5d0b": {
      "model_module": "@jupyter-widgets/controls",
      "model_module_version": "1.0.0",
      "model_name": "DescriptionStyleModel",
      "state": {
       "description_width": ""
      }
     },
     "552dc67caaba4b9c998110d2ef16fabe": {
      "model_module": "@jupyter-widgets/base",
      "model_module_version": "1.0.0",
      "model_name": "LayoutModel",
      "state": {}
     },
     "5567978f1208402aa53fd7c4c502a945": {
      "model_module": "@jupyter-widgets/controls",
      "model_module_version": "1.0.0",
      "model_name": "TextModel",
      "state": {
       "description": "Sample ID",
       "layout": "IPY_MODEL_f00d265f4407431c9b6f1160207fdc81",
       "placeholder": "Sample ID",
       "style": "IPY_MODEL_84c3f0edd12b4194a3949dcdfc865e7a",
       "value": "S1"
      }
     },
     "557fc7fbbe344a25aef5906ccc4456aa": {
      "model_module": "@jupyter-widgets/base",
      "model_module_version": "1.0.0",
      "model_name": "LayoutModel",
      "state": {}
     },
     "55d907b31fa84b448d8f1aad19c0df60": {
      "model_module": "@jupyter-widgets/controls",
      "model_module_version": "1.0.0",
      "model_name": "ButtonStyleModel",
      "state": {}
     },
     "565b1c6b9e874be098cfd20b625f76fe": {
      "model_module": "@jupyter-widgets/base",
      "model_module_version": "1.0.0",
      "model_name": "LayoutModel",
      "state": {
       "width": "100%"
      }
     },
     "565bbe9d08ec4bf4b632b729b5958533": {
      "model_module": "@jupyter-widgets/controls",
      "model_module_version": "1.0.0",
      "model_name": "DescriptionStyleModel",
      "state": {
       "description_width": ""
      }
     },
     "570501f228ae4e62a67061949e28c699": {
      "model_module": "@jupyter-widgets/base",
      "model_module_version": "1.0.0",
      "model_name": "LayoutModel",
      "state": {}
     },
     "5706ba7662414e09bee0759455e33856": {
      "model_module": "@jupyter-widgets/controls",
      "model_module_version": "1.0.0",
      "model_name": "DescriptionStyleModel",
      "state": {
       "description_width": ""
      }
     },
     "585237215be14ffdb80a2ea3f9bbd594": {
      "model_module": "@jupyter-widgets/controls",
      "model_module_version": "1.0.0",
      "model_name": "DescriptionStyleModel",
      "state": {
       "description_width": ""
      }
     },
     "58afc157d577451fa4d4ce893914a4db": {
      "model_module": "@jupyter-widgets/base",
      "model_module_version": "1.0.0",
      "model_name": "LayoutModel",
      "state": {
       "height": "100px",
       "overflow_y": "auto"
      }
     },
     "59813787b85646d7a5aba17eb6548f90": {
      "model_module": "@jupyter-widgets/base",
      "model_module_version": "1.0.0",
      "model_name": "LayoutModel",
      "state": {}
     },
     "5985d0c15a8a4ea18e0b57652b09c2d9": {
      "model_module": "@jupyter-widgets/base",
      "model_module_version": "1.0.0",
      "model_name": "LayoutModel",
      "state": {
       "width": "20%"
      }
     },
     "59b2ad4d5528452b801e558233191f54": {
      "model_module": "@jupyter-widgets/base",
      "model_module_version": "1.0.0",
      "model_name": "LayoutModel",
      "state": {}
     },
     "59e976c095204998a963c6f4f945f91f": {
      "model_module": "@jupyter-widgets/base",
      "model_module_version": "1.0.0",
      "model_name": "LayoutModel",
      "state": {
       "width": "20%"
      }
     },
     "5a6267c9ac7d49b896375e360736ae37": {
      "model_module": "@jupyter-widgets/controls",
      "model_module_version": "1.0.0",
      "model_name": "ButtonModel",
      "state": {
       "description": "print axes ranges",
       "layout": "IPY_MODEL_fa2e3ed2c34e40978a63ddc618ddd2ad",
       "style": "IPY_MODEL_d931cba4c3cd4b1e94f390b316e9ea4b",
       "tooltip": "Print the x axis and y axis ranges. Useful to pass to `rect` parameter of heatmap() to zoom in the region automatically."
      }
     },
     "5adfe85ddb7c499bb2d096394ab57d6f": {
      "model_module": "@jupyter-widgets/controls",
      "model_module_version": "1.0.0",
      "model_name": "ButtonStyleModel",
      "state": {}
     },
     "5ae7ae5b381d4a298d37d72450ca33c3": {
      "model_module": "@jupyter-widgets/controls",
      "model_module_version": "1.0.0",
      "model_name": "FloatTextModel",
      "state": {
       "description": "Abundance",
       "layout": "IPY_MODEL_91d34eaab44e4d849f70e949826ffee3",
       "step": null,
       "style": "IPY_MODEL_fe227c119f344263bbc579a5c9c24ebd"
      }
     },
     "5b6a5dd495b4481090dd164544af4155": {
      "model_module": "@jupyter-widgets/controls",
      "model_module_version": "1.0.0",
      "model_name": "DescriptionStyleModel",
      "state": {
       "description_width": ""
      }
     },
     "5b9001b811bd49f38dd1e6f0e92643b4": {
      "model_module": "@jupyter-widgets/controls",
      "model_module_version": "1.0.0",
      "model_name": "TextModel",
      "state": {
       "layout": "IPY_MODEL_b72e766891d8489782dea99baec9b8d4",
       "placeholder": "sample meta",
       "style": "IPY_MODEL_ba09687fc2ef4ed8b5ada170c5f6883c",
       "value": "-"
      }
     },
     "5bb938b40d1d4891b4653d7cd14b7f22": {
      "model_module": "@jupyter-widgets/controls",
      "model_module_version": "1.0.0",
      "model_name": "DescriptionStyleModel",
      "state": {
       "description_width": ""
      }
     },
     "5bcf19c5734e4e53ac7475d545292eda": {
      "model_module": "@jupyter-widgets/controls",
      "model_module_version": "1.0.0",
      "model_name": "LabelModel",
      "state": {
       "layout": "IPY_MODEL_a9c583a886f84b2d820e9e97a0def3fe",
       "style": "IPY_MODEL_243ca8ad67194a5e90e30528a4f3a959",
       "value": "0 features are selected"
      }
     },
     "5c99b41ed6524fbab6a995822dfd431e": {
      "model_module": "@jupyter-widgets/controls",
      "model_module_version": "1.0.0",
      "model_name": "ButtonModel",
      "state": {
       "description": "Save",
       "layout": "IPY_MODEL_f643626637a043cf93c833dab125347a",
       "style": "IPY_MODEL_05014d49071b4400bf2eef46ac4876b6",
       "tooltip": "Save the selection(s)"
      }
     },
     "5cd16490bf0a4375a50d5c297a5ca339": {
      "model_module": "@jupyter-widgets/base",
      "model_module_version": "1.0.0",
      "model_name": "LayoutModel",
      "state": {
       "width": "20%"
      }
     },
     "5ce812d27d8847a8800537f94dbd1779": {
      "model_module": "@jupyter-widgets/controls",
      "model_module_version": "1.0.0",
      "model_name": "ButtonModel",
      "state": {
       "description": "print axes ranges",
       "layout": "IPY_MODEL_806967ab5b2348428e5f2873e3cd2e10",
       "style": "IPY_MODEL_f395051445ed40728dd0eee5ad7b6f8f",
       "tooltip": "Print the x axis and y axis ranges. Useful to pass to `rect` parameter of heatmap function to zoom in the region automatically."
      }
     },
     "5d347afdf8964e68ad9b873b4e3561ef": {
      "model_module": "@jupyter-widgets/controls",
      "model_module_version": "1.0.0",
      "model_name": "DescriptionStyleModel",
      "state": {
       "description_width": ""
      }
     },
     "5d7e0419d4ec4655b22c5d7169b62c7f": {
      "model_module": "@jupyter-widgets/base",
      "model_module_version": "1.0.0",
      "model_name": "LayoutModel",
      "state": {
       "width": "100%"
      }
     },
     "5e61e54d095b4c22aab110b5934924ca": {
      "model_module": "@jupyter-widgets/controls",
      "model_module_version": "1.0.0",
      "model_name": "HBoxModel",
      "state": {
       "children": [
        "IPY_MODEL_9a1563c5454f45ae934861bf403039ac",
        "IPY_MODEL_354225d24e364044adb57e3f33eab86a"
       ],
       "layout": "IPY_MODEL_8892dfae6dd94af2a7767c4d2293f791"
      }
     },
     "5eb423e1e9a04a7c8b36f334111e4bb6": {
      "model_module": "@jupyter-widgets/base",
      "model_module_version": "1.0.0",
      "model_name": "LayoutModel",
      "state": {}
     },
     "5ebdfa33a49b411ebfe62ab85f67bfd3": {
      "model_module": "@jupyter-widgets/controls",
      "model_module_version": "1.0.0",
      "model_name": "DescriptionStyleModel",
      "state": {
       "description_width": ""
      }
     },
     "5ee67d1601fc4ec39f0ea109ddc67685": {
      "model_module": "@jupyter-widgets/controls",
      "model_module_version": "1.0.0",
      "model_name": "DescriptionStyleModel",
      "state": {
       "description_width": ""
      }
     },
     "5fcb24395066450980f09bd5d9940149": {
      "model_module": "@jupyter-widgets/controls",
      "model_module_version": "1.0.0",
      "model_name": "HBoxModel",
      "state": {
       "children": [
        "IPY_MODEL_a077060fd24548a6a6332e1b6a13c720",
        "IPY_MODEL_07e34177f7424e02b6147b119a6e6ab5"
       ],
       "layout": "IPY_MODEL_73df2e60b3ec49a7a694e918dad43d82"
      }
     },
     "6033ad064cf74022b91cf02d892c6302": {
      "model_module": "@jupyter-widgets/base",
      "model_module_version": "1.0.0",
      "model_name": "LayoutModel",
      "state": {}
     },
     "6048211753f944f8b69ae5d26842b0cf": {
      "model_module": "@jupyter-widgets/controls",
      "model_module_version": "1.0.0",
      "model_name": "ButtonStyleModel",
      "state": {}
     },
     "60649a3b46c64cb8a93dc859d9388808": {
      "model_module": "@jupyter-widgets/controls",
      "model_module_version": "1.0.0",
      "model_name": "DescriptionStyleModel",
      "state": {
       "description_width": ""
      }
     },
     "609dff85150d4538ab085ef2142ed917": {
      "model_module": "@jupyter-widgets/controls",
      "model_module_version": "1.0.0",
      "model_name": "LabelModel",
      "state": {
       "layout": "IPY_MODEL_983de6053288462fb9b51281807210b1",
       "style": "IPY_MODEL_7e982471a4d04c73951df4eb2b7e5e75",
       "value": "0 features are selected"
      }
     },
     "611a1e8802c349f3b59b0253d39bcf7d": {
      "model_module": "@jupyter-widgets/controls",
      "model_module_version": "1.0.0",
      "model_name": "DescriptionStyleModel",
      "state": {
       "description_width": ""
      }
     },
     "619a4953f5e043a9a548fad66ccba3ca": {
      "model_module": "@jupyter-widgets/controls",
      "model_module_version": "1.0.0",
      "model_name": "ButtonStyleModel",
      "state": {}
     },
     "61bab3f594704f2a9c85b7d990915cef": {
      "model_module": "@jupyter-widgets/controls",
      "model_module_version": "1.0.0",
      "model_name": "DescriptionStyleModel",
      "state": {
       "description_width": ""
      }
     },
     "6223e83501cd46599813c973d7de8656": {
      "model_module": "@jupyter-widgets/controls",
      "model_module_version": "1.0.0",
      "model_name": "ButtonStyleModel",
      "state": {}
     },
     "62644c855f194c82b8b45793cdbeb491": {
      "model_module": "@jupyter-widgets/controls",
      "model_module_version": "1.0.0",
      "model_name": "LabelModel",
      "state": {
       "layout": "IPY_MODEL_b7bfb8cc6fd5430a82aad0cf066be6d0",
       "style": "IPY_MODEL_788e498b41be4e5dac18b2d294a861ff",
       "value": "0 features are selected"
      }
     },
     "62bff018dc1e48e8b4a98d294bbbae29": {
      "model_module": "@jupyter-widgets/controls",
      "model_module_version": "1.0.0",
      "model_name": "DropdownModel",
      "state": {
       "_options_labels": [
        "oxygen",
        "ph",
        "level1",
        "level2",
        "new.order",
        "ori.order",
        "taxonomy"
       ],
       "index": 0,
       "layout": "IPY_MODEL_e85ff357e1e941ef95c1f4c4e471278e",
       "style": "IPY_MODEL_c72e3a70fded4606abe6fb8e2750b710"
      }
     },
     "631f4a2616524b21ad7ab65309aa7843": {
      "model_module": "@jupyter-widgets/controls",
      "model_module_version": "1.0.0",
      "model_name": "TextModel",
      "state": {
       "description": "Sample ID",
       "layout": "IPY_MODEL_105dc9bc4cdf424f9691cc233cdf519e",
       "placeholder": "Sample ID",
       "style": "IPY_MODEL_c56e1c5f5bfe4100a19d8093a03bbca9",
       "value": "-"
      }
     },
     "637553ca7a0d43fda705706126e7eced": {
      "model_module": "@jupyter-widgets/controls",
      "model_module_version": "1.0.0",
      "model_name": "ButtonStyleModel",
      "state": {}
     },
     "637cab06a7964540a03c4c44cc007a97": {
      "model_module": "@jupyter-widgets/base",
      "model_module_version": "1.0.0",
      "model_name": "LayoutModel",
      "state": {
       "width": "20%"
      }
     },
     "63934eef274e419b98c33f370b7a8b9c": {
      "model_module": "@jupyter-widgets/controls",
      "model_module_version": "1.0.0",
      "model_name": "DropdownModel",
      "state": {
       "_options_labels": [
        "oxygen",
        "ph",
        "level1",
        "level2",
        "new.order",
        "ori.order",
        "taxonomy"
       ],
       "index": 0,
       "layout": "IPY_MODEL_c1364fc7758b4ef59a92690a8ea53e71",
       "style": "IPY_MODEL_5ebdfa33a49b411ebfe62ab85f67bfd3"
      }
     },
     "659c5d978baa4f318b2b11d7e4167781": {
      "model_module": "@jupyter-widgets/base",
      "model_module_version": "1.0.0",
      "model_name": "LayoutModel",
      "state": {}
     },
     "65ac9237364c47539f0048f1655628cc": {
      "model_module": "@jupyter-widgets/base",
      "model_module_version": "1.0.0",
      "model_name": "LayoutModel",
      "state": {}
     },
     "65acef67ce394b698ae560a4ed6b5fc9": {
      "model_module": "@jupyter-widgets/controls",
      "model_module_version": "1.0.0",
      "model_name": "DescriptionStyleModel",
      "state": {
       "description_width": ""
      }
     },
     "66bb3766c4444d948885c4e0d150b6b8": {
      "model_module": "@jupyter-widgets/base",
      "model_module_version": "1.0.0",
      "model_name": "LayoutModel",
      "state": {}
     },
     "6757ce8a7ce14b17ba15553f5b3c59b5": {
      "model_module": "@jupyter-widgets/base",
      "model_module_version": "1.0.0",
      "model_name": "LayoutModel",
      "state": {
       "width": "80%"
      }
     },
     "67ce2baa6faf4ef993a429ec34743e4b": {
      "model_module": "@jupyter-widgets/controls",
      "model_module_version": "1.0.0",
      "model_name": "TextModel",
      "state": {
       "description": "Feature ID",
       "layout": "IPY_MODEL_49b9fba17ead47689325a581f61a2185",
       "placeholder": "Feature ID",
       "style": "IPY_MODEL_ecd7d27d1b4547efaf71ece1dfb7463a",
       "value": "-"
      }
     },
     "6875cdaa8a7c4d8497f1fbd057a50ffd": {
      "model_module": "@jupyter-widgets/controls",
      "model_module_version": "1.0.0",
      "model_name": "DescriptionStyleModel",
      "state": {
       "description_width": ""
      }
     },
     "69277c7e72204237ad8a465672f0f0e0": {
      "model_module": "@jupyter-widgets/controls",
      "model_module_version": "1.0.0",
      "model_name": "DescriptionStyleModel",
      "state": {
       "description_width": ""
      }
     },
     "695a36c3c1d84196907185f8d97b0d82": {
      "model_module": "@jupyter-widgets/base",
      "model_module_version": "1.0.0",
      "model_name": "LayoutModel",
      "state": {
       "width": "20%"
      }
     },
     "69a8c7b362dc464390ce4ce8d0f479ca": {
      "model_module": "@jupyter-widgets/base",
      "model_module_version": "1.0.0",
      "model_name": "LayoutModel",
      "state": {
       "width": "20%"
      }
     },
     "69d579d7e3eb41478ea0680369cccc81": {
      "model_module": "@jupyter-widgets/controls",
      "model_module_version": "1.0.0",
      "model_name": "LabelModel",
      "state": {
       "layout": "IPY_MODEL_e858d7ed581b4904838b59e46e5a8a84",
       "style": "IPY_MODEL_9e0e8123e265482c84d6942cc9ab754c",
       "value": "0 features are selected"
      }
     },
     "6a5ff6f45dbc46978f342ad4d6166c1a": {
      "model_module": "@jupyter-widgets/controls",
      "model_module_version": "1.0.0",
      "model_name": "DescriptionStyleModel",
      "state": {
       "description_width": ""
      }
     },
     "6a71069cbb2c43438b8568cd956163c5": {
      "model_module": "@jupyter-widgets/base",
      "model_module_version": "1.0.0",
      "model_name": "LayoutModel",
      "state": {
       "width": "20%"
      }
     },
     "6a78243a8abb4458b19ae1a0500dab91": {
      "model_module": "@jupyter-widgets/base",
      "model_module_version": "1.0.0",
      "model_name": "LayoutModel",
      "state": {
       "width": "100%"
      }
     },
     "6a94fb38b86145b089f8f533170451e3": {
      "model_module": "@jupyter-widgets/base",
      "model_module_version": "1.0.0",
      "model_name": "LayoutModel",
      "state": {}
     },
     "6b04e885f258431aa527f05fa131ddcd": {
      "model_module": "@jupyter-widgets/controls",
      "model_module_version": "1.0.0",
      "model_name": "ButtonModel",
      "state": {
       "description": "Annotate",
       "layout": "IPY_MODEL_0e07ef18630d400ebd047cfa66842770",
       "style": "IPY_MODEL_4eaaeb69621c4c9a9418c57f4a4f2e40"
      }
     },
     "6b05c4a3ae9148dcb7dff94e4d3548ac": {
      "model_module": "@jupyter-widgets/controls",
      "model_module_version": "1.0.0",
      "model_name": "ButtonModel",
      "state": {
       "description": "Annotate",
       "layout": "IPY_MODEL_200cb43361284d0f99b1e50f867b437c",
       "style": "IPY_MODEL_eec2a448499d4e71bd76926c521cd3fe"
      }
     },
     "6b05e69ce5d848c98718e99b4bcdf07a": {
      "model_module": "@jupyter-widgets/base",
      "model_module_version": "1.0.0",
      "model_name": "LayoutModel",
      "state": {
       "width": "80%"
      }
     },
     "6b3785a0ec934f519fbee5930687dd10": {
      "model_module": "@jupyter-widgets/controls",
      "model_module_version": "1.0.0",
      "model_name": "TextModel",
      "state": {
       "layout": "IPY_MODEL_1c5c5ccf5ee94e9e836a6732b53ed0c0",
       "placeholder": "sample meta",
       "style": "IPY_MODEL_acc504f859be4cf099bea5c25253750b",
       "value": "-"
      }
     },
     "6ba4d258476e48e7b1b63a2ea5c37cdc": {
      "model_module": "@jupyter-widgets/base",
      "model_module_version": "1.0.0",
      "model_name": "LayoutModel",
      "state": {
       "width": "20%"
      }
     },
     "6bbbd5abc3ac469cb144935a38bbba26": {
      "model_module": "@jupyter-widgets/controls",
      "model_module_version": "1.0.0",
      "model_name": "DescriptionStyleModel",
      "state": {
       "description_width": ""
      }
     },
     "6c3a71d4e3e1443a945934f46458e065": {
      "model_module": "@jupyter-widgets/controls",
      "model_module_version": "1.0.0",
      "model_name": "HBoxModel",
      "state": {
       "children": [
        "IPY_MODEL_c890b29770df44c78f990c5fe9592d67",
        "IPY_MODEL_8571dc85edd64b6581e571786c8da366"
       ],
       "layout": "IPY_MODEL_9e199d24e61c405b8edb8936de74b20d"
      }
     },
     "6cfc29a9736b486589cddb2aec69eff6": {
      "model_module": "@jupyter-widgets/base",
      "model_module_version": "1.0.0",
      "model_name": "LayoutModel",
      "state": {
       "width": "80%"
      }
     },
     "6d3f9f8661564e979d032d847121a960": {
      "model_module": "@jupyter-widgets/base",
      "model_module_version": "1.0.0",
      "model_name": "LayoutModel",
      "state": {}
     },
     "6d5cf4c76420409c8aa6c8ffcbed1f00": {
      "model_module": "@jupyter-widgets/base",
      "model_module_version": "1.0.0",
      "model_name": "LayoutModel",
      "state": {}
     },
     "6df422153c51450d85155036cba4cf6f": {
      "model_module": "@jupyter-widgets/controls",
      "model_module_version": "1.0.0",
      "model_name": "DescriptionStyleModel",
      "state": {
       "description_width": ""
      }
     },
     "6f064e0bd51b4c33a3c560609634a9f8": {
      "model_module": "@jupyter-widgets/controls",
      "model_module_version": "1.0.0",
      "model_name": "TextModel",
      "state": {
       "layout": "IPY_MODEL_4b66e6ad6758443c8d030ff1915ff35a",
       "placeholder": "feature meta",
       "style": "IPY_MODEL_e861d332fb004e78a55d3d6b80d56bce",
       "value": "-"
      }
     },
     "6f8908526ebe4dfba8f58bb8372f84f8": {
      "model_module": "@jupyter-widgets/base",
      "model_module_version": "1.0.0",
      "model_name": "LayoutModel",
      "state": {}
     },
     "6fb85714ca1549ed97dd6356997d984a": {
      "model_module": "@jupyter-widgets/controls",
      "model_module_version": "1.0.0",
      "model_name": "TextModel",
      "state": {
       "layout": "IPY_MODEL_7bdf3de85b434ba0881f43efebe11ef9",
       "placeholder": "sample meta",
       "style": "IPY_MODEL_d7597257851f4b00bbbe9e092bfff7cd",
       "value": "0"
      }
     },
     "7023f7c41ae144399908a4f124e9db30": {
      "model_module": "@jupyter-widgets/base",
      "model_module_version": "1.0.0",
      "model_name": "LayoutModel",
      "state": {}
     },
     "707be9b38bd0444ebaa21b52053dffcc": {
      "model_module": "@jupyter-widgets/controls",
      "model_module_version": "1.0.0",
      "model_name": "DropdownModel",
      "state": {
       "_options_labels": [
        "ori.order",
        "group",
        "new.order",
        "categorical",
        "_calour_original_abundance"
       ],
       "index": 0,
       "layout": "IPY_MODEL_dabc18c0d25e4cee869b075bd6b23195",
       "style": "IPY_MODEL_19bf21bc950c4dd2a4a5ea5b863db538"
      }
     },
     "70d70308bb8443e594ea4a8e6993dc7f": {
      "model_module": "@jupyter-widgets/base",
      "model_module_version": "1.0.0",
      "model_name": "LayoutModel",
      "state": {}
     },
     "710e9a880e50423e8a2f662cfdbd655b": {
      "model_module": "@jupyter-widgets/controls",
      "model_module_version": "1.0.0",
      "model_name": "DescriptionStyleModel",
      "state": {
       "description_width": ""
      }
     },
     "7158233a34804accb15cfc8a8f90b29b": {
      "model_module": "@jupyter-widgets/controls",
      "model_module_version": "1.0.0",
      "model_name": "HBoxModel",
      "state": {
       "children": [
        "IPY_MODEL_c58749cff455446892e749eb3f0a661f",
        "IPY_MODEL_17e6c6f5ef3944b18f112be21299f4cc"
       ],
       "layout": "IPY_MODEL_e8622ae6264e44a69ce804a25a56e906"
      }
     },
     "7190db1d6935404a86a936b03fb35aee": {
      "model_module": "@jupyter-widgets/controls",
      "model_module_version": "1.0.0",
      "model_name": "DescriptionStyleModel",
      "state": {
       "description_width": ""
      }
     },
     "71ae1c1cdd5d43dfa2c3cf492850d582": {
      "model_module": "@jupyter-widgets/controls",
      "model_module_version": "1.0.0",
      "model_name": "DescriptionStyleModel",
      "state": {
       "description_width": ""
      }
     },
     "7219b0dfd22044038cf7a1143dcc0579": {
      "model_module": "@jupyter-widgets/controls",
      "model_module_version": "1.0.0",
      "model_name": "HBoxModel",
      "state": {
       "children": [
        "IPY_MODEL_287bcf9dbc26408cba8f5cdf3348f93b",
        "IPY_MODEL_bab1e351a9614a358357ae04c1a14aa6"
       ],
       "layout": "IPY_MODEL_c635c39acb6f4b90a5213287645b86c0"
      }
     },
     "7259489984144c46bdd2b76505b626bb": {
      "model_module": "@jupyter-widgets/controls",
      "model_module_version": "1.0.0",
      "model_name": "HBoxModel",
      "state": {
       "children": [
        "IPY_MODEL_b9bf199686854385a278888607e8d84c",
        "IPY_MODEL_18f720008c9a4ccdb2498fcb8b93a6b1",
        "IPY_MODEL_2089cc59783946a28690e78b3d6692c1"
       ],
       "layout": "IPY_MODEL_e00ff9eaff7c4b6c8dba4543d9743065"
      }
     },
     "726ebe804d5546d1b1d32c81ba16eb54": {
      "model_module": "@jupyter-widgets/controls",
      "model_module_version": "1.0.0",
      "model_name": "ButtonModel",
      "state": {
       "description": "Save",
       "layout": "IPY_MODEL_e40cc68957154694a03642a59ea71bbb",
       "style": "IPY_MODEL_14255cf3a50244ee8e97663be3cfc90e"
      }
     },
     "72ca2da620864950a1ce9d943470cdf3": {
      "model_module": "@jupyter-widgets/controls",
      "model_module_version": "1.0.0",
      "model_name": "TextModel",
      "state": {
       "layout": "IPY_MODEL_806f56efe28f45e2bdfec36966e50082",
       "placeholder": "feature meta",
       "style": "IPY_MODEL_37a7059974b241c89345100dcfa39b8e",
       "value": "-"
      }
     },
     "7304182849904b22a00b947cfce4be0a": {
      "model_module": "@jupyter-widgets/controls",
      "model_module_version": "1.0.0",
      "model_name": "ButtonStyleModel",
      "state": {}
     },
     "735353246d5b449aa382f166533e5323": {
      "model_module": "@jupyter-widgets/controls",
      "model_module_version": "1.0.0",
      "model_name": "FloatTextModel",
      "state": {
       "description": "Abundance",
       "layout": "IPY_MODEL_03e0490bdbd84a58946021fdba53e55b",
       "step": null,
       "style": "IPY_MODEL_565bbe9d08ec4bf4b632b729b5958533"
      }
     },
     "73a55c1e92444702a764b270a9fcea1c": {
      "model_module": "@jupyter-widgets/controls",
      "model_module_version": "1.0.0",
      "model_name": "FloatTextModel",
      "state": {
       "description": "Abundance",
       "layout": "IPY_MODEL_80c5bc5bac9f4b009ff6369d9b52c34d",
       "step": null,
       "style": "IPY_MODEL_ac1146579d5f4db58af5e2c31d39cd51"
      }
     },
     "73abd810f1734ecfae7a305d76782767": {
      "model_module": "@jupyter-widgets/controls",
      "model_module_version": "1.0.0",
      "model_name": "DescriptionStyleModel",
      "state": {
       "description_width": ""
      }
     },
     "73df2e60b3ec49a7a694e918dad43d82": {
      "model_module": "@jupyter-widgets/base",
      "model_module_version": "1.0.0",
      "model_name": "LayoutModel",
      "state": {}
     },
     "73e180d5a3764940b477890507ce376e": {
      "model_module": "@jupyter-widgets/controls",
      "model_module_version": "1.0.0",
      "model_name": "FloatTextModel",
      "state": {
       "description": "Abundance",
       "layout": "IPY_MODEL_105dc9bc4cdf424f9691cc233cdf519e",
       "step": null,
       "style": "IPY_MODEL_b62f67d02adc4feaa6abedd89793afbe"
      }
     },
     "741681fa14a341b29bbbe7eeec034d60": {
      "model_module": "@jupyter-widgets/base",
      "model_module_version": "1.0.0",
      "model_name": "LayoutModel",
      "state": {}
     },
     "741fd99505aa4bbfa4abde0dd33a0418": {
      "model_module": "@jupyter-widgets/controls",
      "model_module_version": "1.0.0",
      "model_name": "DescriptionStyleModel",
      "state": {
       "description_width": ""
      }
     },
     "746c54e4b29848b98c498c38805e7f20": {
      "model_module": "@jupyter-widgets/controls",
      "model_module_version": "1.0.0",
      "model_name": "ButtonModel",
      "state": {
       "description": "print axes ranges",
       "layout": "IPY_MODEL_00d386f8218c49c8a5e220134fd4dacc",
       "style": "IPY_MODEL_b799b9fcd34d4becb0edb96deea3048a",
       "tooltip": "Print the x axis and y axis ranges. Useful to pass to `rect` parameter of heatmap() to zoom in the region automatically."
      }
     },
     "74aae64026d44fd4afe508d0d3b3cec7": {
      "model_module": "@jupyter-widgets/controls",
      "model_module_version": "1.0.0",
      "model_name": "HTMLModel",
      "state": {
       "layout": "IPY_MODEL_7d5e0bfb3cb14c1c922ae0c48a2e2489",
       "style": "IPY_MODEL_ff9930cba4944728bc3ab7d67dfe37ba",
       "value": "<style> a:link {color:black; background-color:transparent; text-decoration:none}a:visited {color:black; background-color:transparent; text-decoration:none}</style><p style=\"color:black;white-space:nowrap;\"><a href=\"http://dbbact.org/annotation_info/NA\"   target=\"_blank\">No annotation found in database dbBact</a></p>"
      }
     },
     "753d38c4b75d42a9bcf588978cef511c": {
      "model_module": "@jupyter-widgets/controls",
      "model_module_version": "1.0.0",
      "model_name": "ButtonModel",
      "state": {
       "description": "print axes ranges",
       "layout": "IPY_MODEL_011264ac05254126802325ccfac4e148",
       "style": "IPY_MODEL_7304182849904b22a00b947cfce4be0a",
       "tooltip": "Print the x axis and y axis ranges. Useful to pass to `rect` parameter of heatmap() to zoom in the region automatically."
      }
     },
     "7580005c49474c62a7cc1db66ddc5626": {
      "model_module": "@jupyter-widgets/controls",
      "model_module_version": "1.0.0",
      "model_name": "ButtonStyleModel",
      "state": {}
     },
     "758070c99c514370887433836531b003": {
      "model_module": "@jupyter-widgets/base",
      "model_module_version": "1.0.0",
      "model_name": "LayoutModel",
      "state": {}
     },
     "75e9dc465c294e5da385c87640bcaf7e": {
      "model_module": "@jupyter-widgets/controls",
      "model_module_version": "1.0.0",
      "model_name": "HTMLModel",
      "state": {
       "layout": "IPY_MODEL_e2f6215f3c8a4b4e9fa58466faaa0b56",
       "style": "IPY_MODEL_880b8b7bec7e40f5a6391728735efdae",
       "value": "<style> a:link {color:black; background-color:transparent; text-decoration:none}a:visited {color:black; background-color:transparent; text-decoration:none}</style><p style=\"color:black;white-space:nowrap;\"><a href=\"http://dbbact.org/annotation_info/NA\"   target=\"_blank\">No annotation found in database dbBact</a></p>"
      }
     },
     "760310d170c24d5181467e9bd76c649c": {
      "model_module": "@jupyter-widgets/controls",
      "model_module_version": "1.0.0",
      "model_name": "DescriptionStyleModel",
      "state": {
       "description_width": ""
      }
     },
     "7678c6a0341b4618be1ac97d2ae028e4": {
      "model_module": "@jupyter-widgets/controls",
      "model_module_version": "1.0.0",
      "model_name": "TextModel",
      "state": {
       "description": "Sample ID",
       "layout": "IPY_MODEL_565b1c6b9e874be098cfd20b625f76fe",
       "placeholder": "Sample ID",
       "style": "IPY_MODEL_de5a5365889047b2bbb3b419e902f70d",
       "value": "S4"
      }
     },
     "76a4c29ac6244662b3cb68e1f2604050": {
      "model_module": "@jupyter-widgets/base",
      "model_module_version": "1.0.0",
      "model_name": "LayoutModel",
      "state": {
       "width": "20%"
      }
     },
     "76a765e017d74f1aa3c856312383cb42": {
      "model_module": "@jupyter-widgets/controls",
      "model_module_version": "1.0.0",
      "model_name": "TextModel",
      "state": {
       "layout": "IPY_MODEL_3a227cd0d6bd41d4bd2b38aea0a2a997",
       "placeholder": "sample meta",
       "style": "IPY_MODEL_17c1aa17f2104a48a90f5d16f19da70c",
       "value": "-"
      }
     },
     "76fd7714395a42a2a8390a555349436c": {
      "model_module": "@jupyter-widgets/controls",
      "model_module_version": "1.0.0",
      "model_name": "DescriptionStyleModel",
      "state": {
       "description_width": ""
      }
     },
     "7702f976b643477284a2fee1ed687753": {
      "model_module": "@jupyter-widgets/controls",
      "model_module_version": "1.0.0",
      "model_name": "DescriptionStyleModel",
      "state": {
       "description_width": ""
      }
     },
     "770ab8b0235c40b8a906fcd1fceb2b0c": {
      "model_module": "@jupyter-widgets/controls",
      "model_module_version": "1.0.0",
      "model_name": "HBoxModel",
      "state": {
       "children": [
        "IPY_MODEL_a4e2633eab3349ea89670415a2b9a143",
        "IPY_MODEL_ffb99856481a41c8af1402e46612c9bd",
        "IPY_MODEL_2a949cb24c8549f99ad364f255401d62"
       ],
       "layout": "IPY_MODEL_10239a33f22a4113a1a9d79aa4d1288c"
      }
     },
     "773cb8dede5f4d728628430598683cc5": {
      "model_module": "@jupyter-widgets/base",
      "model_module_version": "1.0.0",
      "model_name": "LayoutModel",
      "state": {
       "width": "100%"
      }
     },
     "77a00bf1757a4947a5533197f51efd3d": {
      "model_module": "@jupyter-widgets/controls",
      "model_module_version": "1.0.0",
      "model_name": "ButtonStyleModel",
      "state": {}
     },
     "788e498b41be4e5dac18b2d294a861ff": {
      "model_module": "@jupyter-widgets/controls",
      "model_module_version": "1.0.0",
      "model_name": "DescriptionStyleModel",
      "state": {
       "description_width": ""
      }
     },
     "7968a43a1a314708885a2febf7586d07": {
      "model_module": "@jupyter-widgets/controls",
      "model_module_version": "1.0.0",
      "model_name": "DescriptionStyleModel",
      "state": {
       "description_width": ""
      }
     },
     "79ffec5865d446dc8d95294eb3e91e06": {
      "model_module": "@jupyter-widgets/controls",
      "model_module_version": "1.0.0",
      "model_name": "FloatTextModel",
      "state": {
       "description": "Abundance",
       "layout": "IPY_MODEL_90938660446045f789e980da5024085c",
       "step": null,
       "style": "IPY_MODEL_15b815f52c2f4a3fb3339e012a56c3a3"
      }
     },
     "7a2095c306f64afc96a142734d9c5800": {
      "model_module": "@jupyter-widgets/base",
      "model_module_version": "1.0.0",
      "model_name": "LayoutModel",
      "state": {}
     },
     "7a41573e30004dbabf0043eee1f46740": {
      "model_module": "@jupyter-widgets/controls",
      "model_module_version": "1.0.0",
      "model_name": "DescriptionStyleModel",
      "state": {
       "description_width": ""
      }
     },
     "7a649c0f551647b98db4fa352507904b": {
      "model_module": "@jupyter-widgets/controls",
      "model_module_version": "1.0.0",
      "model_name": "HBoxModel",
      "state": {
       "children": [
        "IPY_MODEL_ea5507ad074f4247962014b1b9a5350c",
        "IPY_MODEL_da869a499d2645e4b2748cd1983f39f4",
        "IPY_MODEL_0844b68abc714506adf0d5859a7e0fdd"
       ],
       "layout": "IPY_MODEL_741681fa14a341b29bbbe7eeec034d60"
      }
     },
     "7a817942ba3542bfafc40461d82c05f1": {
      "model_module": "@jupyter-widgets/controls",
      "model_module_version": "1.0.0",
      "model_name": "ButtonStyleModel",
      "state": {}
     },
     "7b02f671f963406ea6b3c07d1b9e9c68": {
      "model_module": "@jupyter-widgets/controls",
      "model_module_version": "1.0.0",
      "model_name": "TextModel",
      "state": {
       "layout": "IPY_MODEL_e33f725ed57145cfa921fe0f15d67d49",
       "placeholder": "sample meta",
       "style": "IPY_MODEL_478d897582d1402791ae5fcd9a92698c",
       "value": "-"
      }
     },
     "7b627dc3f6f943d3824e1c9e6ec3c60a": {
      "model_module": "@jupyter-widgets/controls",
      "model_module_version": "1.0.0",
      "model_name": "DropdownModel",
      "state": {
       "_options_labels": [
        "ori.order",
        "group",
        "new.order",
        "categorical",
        "_calour_original_abundance"
       ],
       "index": 0,
       "layout": "IPY_MODEL_25fefce25fe843eb97fb0dddec8ce158",
       "style": "IPY_MODEL_d39b3bda87b444f9bec70cb9e717ee58"
      }
     },
     "7bbecd1f33544181b1889546cbaa4c14": {
      "model_module": "@jupyter-widgets/controls",
      "model_module_version": "1.0.0",
      "model_name": "DescriptionStyleModel",
      "state": {
       "description_width": ""
      }
     },
     "7bc60e2cf7fa45db8205d74c444fb512": {
      "model_module": "@jupyter-widgets/controls",
      "model_module_version": "1.0.0",
      "model_name": "DescriptionStyleModel",
      "state": {
       "description_width": ""
      }
     },
     "7bdf3de85b434ba0881f43efebe11ef9": {
      "model_module": "@jupyter-widgets/base",
      "model_module_version": "1.0.0",
      "model_name": "LayoutModel",
      "state": {
       "width": "80%"
      }
     },
     "7bef7c20e9464d468783ca4a78c3d30d": {
      "model_module": "@jupyter-widgets/base",
      "model_module_version": "1.0.0",
      "model_name": "LayoutModel",
      "state": {
       "width": "20%"
      }
     },
     "7cb4f927092a4406ac2e1aa4fd672e0b": {
      "model_module": "@jupyter-widgets/controls",
      "model_module_version": "1.0.0",
      "model_name": "ButtonStyleModel",
      "state": {}
     },
     "7cccff9917444f4cbcd36a3659d14d47": {
      "model_module": "@jupyter-widgets/controls",
      "model_module_version": "1.0.0",
      "model_name": "HTMLModel",
      "state": {
       "layout": "IPY_MODEL_c92a4328c2b1497eae41115cfda206cb",
       "style": "IPY_MODEL_3ff5012bd69a49138566f31f67ade583",
       "value": "<style> a:link {color:black; background-color:transparent; text-decoration:none}a:visited {color:black; background-color:transparent; text-decoration:none}</style><p style=\"color:black;white-space:nowrap;\"><a href=\"http://dbbact.org/annotation_info/NA\"   target=\"_blank\">No annotation found in database dbBact</a></p>"
      }
     },
     "7d5e0bfb3cb14c1c922ae0c48a2e2489": {
      "model_module": "@jupyter-widgets/base",
      "model_module_version": "1.0.0",
      "model_name": "LayoutModel",
      "state": {
       "height": "100px",
       "overflow_y": "auto"
      }
     },
     "7d98d60283e441a699fa2dff142c7eb3": {
      "model_module": "@jupyter-widgets/controls",
      "model_module_version": "1.0.0",
      "model_name": "HBoxModel",
      "state": {
       "children": [
        "IPY_MODEL_7678c6a0341b4618be1ac97d2ae028e4",
        "IPY_MODEL_e73941486eab497da45f1fe2014cf016",
        "IPY_MODEL_d8c24935b2bc44d986fee186e60eadb8"
       ],
       "layout": "IPY_MODEL_e483774b63b64cdda9c557aa3c8d70b9"
      }
     },
     "7da83618b42c476784719d5cc337780f": {
      "model_module": "@jupyter-widgets/controls",
      "model_module_version": "1.0.0",
      "model_name": "HBoxModel",
      "state": {
       "children": [
        "IPY_MODEL_41cda9e6486e4b50b31d77ed42a32c2e",
        "IPY_MODEL_f431bb5957f84f60a5fbc3e3f64baaf5",
        "IPY_MODEL_e19f08f6a7a94079a4c97293226ed764"
       ],
       "layout": "IPY_MODEL_148faa86f38543eca421ddfd03e4ee0b"
      }
     },
     "7daf8677bcaf43b191a32cfa52e9cb66": {
      "model_module": "@jupyter-widgets/base",
      "model_module_version": "1.0.0",
      "model_name": "LayoutModel",
      "state": {}
     },
     "7dbddc9d7d2843ccb0bf1617f18d25d2": {
      "model_module": "@jupyter-widgets/controls",
      "model_module_version": "1.0.0",
      "model_name": "DescriptionStyleModel",
      "state": {
       "description_width": ""
      }
     },
     "7e5b78e4cf224243938df1115c7c123e": {
      "model_module": "@jupyter-widgets/controls",
      "model_module_version": "1.0.0",
      "model_name": "TextModel",
      "state": {
       "description": "Sample ID",
       "layout": "IPY_MODEL_03e0490bdbd84a58946021fdba53e55b",
       "placeholder": "Sample ID",
       "style": "IPY_MODEL_45a205b117a7489a8113fb0148a15d91",
       "value": "-"
      }
     },
     "7e84f94739f7488783d1480b62658c87": {
      "model_module": "@jupyter-widgets/controls",
      "model_module_version": "1.0.0",
      "model_name": "DescriptionStyleModel",
      "state": {
       "description_width": ""
      }
     },
     "7e982471a4d04c73951df4eb2b7e5e75": {
      "model_module": "@jupyter-widgets/controls",
      "model_module_version": "1.0.0",
      "model_name": "DescriptionStyleModel",
      "state": {
       "description_width": ""
      }
     },
     "7ec1d504c6d24d31913faf7265dba223": {
      "model_module": "@jupyter-widgets/controls",
      "model_module_version": "1.0.0",
      "model_name": "TextModel",
      "state": {
       "layout": "IPY_MODEL_e5af046a55e84cc08199c28d86dd60ba",
       "placeholder": "feature meta",
       "style": "IPY_MODEL_7702f976b643477284a2fee1ed687753",
       "value": "-"
      }
     },
     "800802d49d4140e4ab3d0ddb14d67c95": {
      "model_module": "@jupyter-widgets/controls",
      "model_module_version": "1.0.0",
      "model_name": "HBoxModel",
      "state": {
       "children": [
        "IPY_MODEL_21bd540ca3754b9c971290c257117b0f",
        "IPY_MODEL_c8441c1d7b254b46b02e16a3990b2bf8",
        "IPY_MODEL_79ffec5865d446dc8d95294eb3e91e06"
       ],
       "layout": "IPY_MODEL_db14f6d579c146e0a292895ba3a6cdd2"
      }
     },
     "804800559e4e4e65b16ac6954c8193fe": {
      "model_module": "@jupyter-widgets/controls",
      "model_module_version": "1.0.0",
      "model_name": "HTMLModel",
      "state": {
       "layout": "IPY_MODEL_58afc157d577451fa4d4ce893914a4db",
       "style": "IPY_MODEL_c3f9096ce69e43749fbff18320a94a2c",
       "value": "no annotation found"
      }
     },
     "806967ab5b2348428e5f2873e3cd2e10": {
      "model_module": "@jupyter-widgets/base",
      "model_module_version": "1.0.0",
      "model_name": "LayoutModel",
      "state": {}
     },
     "806f56efe28f45e2bdfec36966e50082": {
      "model_module": "@jupyter-widgets/base",
      "model_module_version": "1.0.0",
      "model_name": "LayoutModel",
      "state": {
       "width": "80%"
      }
     },
     "80c5bc5bac9f4b009ff6369d9b52c34d": {
      "model_module": "@jupyter-widgets/base",
      "model_module_version": "1.0.0",
      "model_name": "LayoutModel",
      "state": {
       "width": "100%"
      }
     },
     "812262d2401b42b78d9a50f7003a1280": {
      "model_module": "@jupyter-widgets/controls",
      "model_module_version": "1.0.0",
      "model_name": "HBoxModel",
      "state": {
       "children": [
        "IPY_MODEL_426af36c438e42928a587f3cefaccecd",
        "IPY_MODEL_6b3785a0ec934f519fbee5930687dd10"
       ],
       "layout": "IPY_MODEL_557fc7fbbe344a25aef5906ccc4456aa"
      }
     },
     "81e674ca72694d4aa76cbab29d1275b5": {
      "model_module": "@jupyter-widgets/controls",
      "model_module_version": "1.0.0",
      "model_name": "TextModel",
      "state": {
       "layout": "IPY_MODEL_d95d674e1357464bbd808e447980a5cb",
       "placeholder": "sample meta",
       "style": "IPY_MODEL_5bb938b40d1d4891b4653d7cd14b7f22",
       "value": "-"
      }
     },
     "831b60f52be34ce8ac2b231fd734c5ad": {
      "model_module": "@jupyter-widgets/base",
      "model_module_version": "1.0.0",
      "model_name": "LayoutModel",
      "state": {}
     },
     "8371f4d10a5a434bb265dfab56b71ea4": {
      "model_module": "@jupyter-widgets/controls",
      "model_module_version": "1.0.0",
      "model_name": "DescriptionStyleModel",
      "state": {
       "description_width": ""
      }
     },
     "8374453c2ad747b79afe66e55c3eea32": {
      "model_module": "@jupyter-widgets/controls",
      "model_module_version": "1.0.0",
      "model_name": "DescriptionStyleModel",
      "state": {
       "description_width": ""
      }
     },
     "8377246142eb4ea9b081c42a780da736": {
      "model_module": "@jupyter-widgets/base",
      "model_module_version": "1.0.0",
      "model_name": "LayoutModel",
      "state": {}
     },
     "83a3f0c4771a4700b09e1b44ac984df4": {
      "model_module": "@jupyter-widgets/controls",
      "model_module_version": "1.0.0",
      "model_name": "HBoxModel",
      "state": {
       "children": [
        "IPY_MODEL_18bf9761334845b28c0a3aa5c2ed99e3",
        "IPY_MODEL_4c4a6d2cb43b471eaa24e37f75b812f9",
        "IPY_MODEL_85f0b6970ddb4ae4809906e0e6177d2f"
       ],
       "layout": "IPY_MODEL_c2454d63815f498bb1e29d4fb7891ca2"
      }
     },
     "83b1180f221b489eb0f84ba3baf0d21b": {
      "model_module": "@jupyter-widgets/base",
      "model_module_version": "1.0.0",
      "model_name": "LayoutModel",
      "state": {
       "width": "80%"
      }
     },
     "83c9cd3cec774a6b812d99a2c26f17cb": {
      "model_module": "@jupyter-widgets/base",
      "model_module_version": "1.0.0",
      "model_name": "LayoutModel",
      "state": {
       "width": "20%"
      }
     },
     "83f220c4c3154575b6bc91246594bdb3": {
      "model_module": "@jupyter-widgets/base",
      "model_module_version": "1.0.0",
      "model_name": "LayoutModel",
      "state": {}
     },
     "841fa30f5835461d83723cac9991d217": {
      "model_module": "@jupyter-widgets/controls",
      "model_module_version": "1.0.0",
      "model_name": "DescriptionStyleModel",
      "state": {
       "description_width": ""
      }
     },
     "84b38747fe924271b63cb3e83c684ae5": {
      "model_module": "@jupyter-widgets/controls",
      "model_module_version": "1.0.0",
      "model_name": "LabelModel",
      "state": {
       "layout": "IPY_MODEL_12611792fecb4e3a825fa33b00dfab4f",
       "style": "IPY_MODEL_13bf6fe0be3d4ffdaf133741f2c0c76b",
       "value": "0 features are selected"
      }
     },
     "84c3f0edd12b4194a3949dcdfc865e7a": {
      "model_module": "@jupyter-widgets/controls",
      "model_module_version": "1.0.0",
      "model_name": "DescriptionStyleModel",
      "state": {
       "description_width": ""
      }
     },
     "84ed5c80cc094cc09b17e21aabf103cd": {
      "model_module": "@jupyter-widgets/controls",
      "model_module_version": "1.0.0",
      "model_name": "HBoxModel",
      "state": {
       "children": [
        "IPY_MODEL_a28394d75da84729a1d5332f2ac091b5",
        "IPY_MODEL_f1d6f03421744fb8b7dd8eb3cf00fc4e",
        "IPY_MODEL_4b1831b5a72e4998ab49867d07da36d5"
       ],
       "layout": "IPY_MODEL_e871b23b4b534364be1603d87700353e"
      }
     },
     "8571dc85edd64b6581e571786c8da366": {
      "model_module": "@jupyter-widgets/controls",
      "model_module_version": "1.0.0",
      "model_name": "TextModel",
      "state": {
       "layout": "IPY_MODEL_cbf88707cd60458bb4ba01415d517065",
       "placeholder": "feature meta",
       "style": "IPY_MODEL_f65e8fbb0d6d4f26a2395cbf5325f119",
       "value": "-"
      }
     },
     "858ef5db577945bda0df0e4f119a8cff": {
      "model_module": "@jupyter-widgets/controls",
      "model_module_version": "1.0.0",
      "model_name": "ButtonStyleModel",
      "state": {}
     },
     "85a411cb20fe45d59527aa71c44511dd": {
      "model_module": "@jupyter-widgets/base",
      "model_module_version": "1.0.0",
      "model_name": "LayoutModel",
      "state": {}
     },
     "85f0b6970ddb4ae4809906e0e6177d2f": {
      "model_module": "@jupyter-widgets/controls",
      "model_module_version": "1.0.0",
      "model_name": "ButtonModel",
      "state": {
       "description": "Annotate",
       "layout": "IPY_MODEL_00b35cc801fb45c88ad583bd97764686",
       "style": "IPY_MODEL_1301c4f3fffe4d4497f505b5fc37a806"
      }
     },
     "86546455beb6418e9f445eb6bc82dc03": {
      "model_module": "@jupyter-widgets/controls",
      "model_module_version": "1.0.0",
      "model_name": "ButtonStyleModel",
      "state": {}
     },
     "86cde3d2fbe84649a2e4654e4325577d": {
      "model_module": "@jupyter-widgets/controls",
      "model_module_version": "1.0.0",
      "model_name": "HBoxModel",
      "state": {
       "children": [
        "IPY_MODEL_e8ad69a11b824ac89de5ff7d2b13da15",
        "IPY_MODEL_ccbd4eb091ff48dc8b4b5fde7d511a2a",
        "IPY_MODEL_8e93b3ed298c4843a791d725e579e86c"
       ],
       "layout": "IPY_MODEL_1539ec922da9434aa3284350d87a0477"
      }
     },
     "87510413707e4b36b7894ac3c17e83de": {
      "model_module": "@jupyter-widgets/controls",
      "model_module_version": "1.0.0",
      "model_name": "ButtonStyleModel",
      "state": {}
     },
     "879abe67fe034d72aa5ee141d7fd465e": {
      "model_module": "@jupyter-widgets/controls",
      "model_module_version": "1.0.0",
      "model_name": "DescriptionStyleModel",
      "state": {
       "description_width": ""
      }
     },
     "87cfb34bd339422a9b6cbe42f5d4c59f": {
      "model_module": "@jupyter-widgets/controls",
      "model_module_version": "1.0.0",
      "model_name": "DescriptionStyleModel",
      "state": {
       "description_width": ""
      }
     },
     "880b8b7bec7e40f5a6391728735efdae": {
      "model_module": "@jupyter-widgets/controls",
      "model_module_version": "1.0.0",
      "model_name": "DescriptionStyleModel",
      "state": {
       "description_width": ""
      }
     },
     "884df1dfc42146a3a45898f5dcffccbb": {
      "model_module": "@jupyter-widgets/base",
      "model_module_version": "1.0.0",
      "model_name": "LayoutModel",
      "state": {}
     },
     "8892dfae6dd94af2a7767c4d2293f791": {
      "model_module": "@jupyter-widgets/base",
      "model_module_version": "1.0.0",
      "model_name": "LayoutModel",
      "state": {}
     },
     "8944426cfd89480ea8a12fb082514d20": {
      "model_module": "@jupyter-widgets/base",
      "model_module_version": "1.0.0",
      "model_name": "LayoutModel",
      "state": {}
     },
     "8990643322ae487c8d7077c02177e3db": {
      "model_module": "@jupyter-widgets/base",
      "model_module_version": "1.0.0",
      "model_name": "LayoutModel",
      "state": {}
     },
     "8a439e52677e4ce38fca38efb35d440e": {
      "model_module": "@jupyter-widgets/controls",
      "model_module_version": "1.0.0",
      "model_name": "DescriptionStyleModel",
      "state": {
       "description_width": ""
      }
     },
     "8abd7680e3184166bc837bb4f27fbbc3": {
      "model_module": "@jupyter-widgets/base",
      "model_module_version": "1.0.0",
      "model_name": "LayoutModel",
      "state": {}
     },
     "8af73284f30b40409de43e02b8769aea": {
      "model_module": "@jupyter-widgets/controls",
      "model_module_version": "1.0.0",
      "model_name": "TextModel",
      "state": {
       "layout": "IPY_MODEL_22c1472937e64ed084e5635ee98f157c",
       "placeholder": "feature meta",
       "style": "IPY_MODEL_c18afdec8a8e45f2982224e1bedefddf",
       "value": "-"
      }
     },
     "8b3f124b74d34e099526cd43528360e9": {
      "model_module": "@jupyter-widgets/base",
      "model_module_version": "1.0.0",
      "model_name": "LayoutModel",
      "state": {
       "width": "20%"
      }
     },
     "8b862ece7bc7495f82a29350804b8020": {
      "model_module": "@jupyter-widgets/controls",
      "model_module_version": "1.0.0",
      "model_name": "LabelModel",
      "state": {
       "layout": "IPY_MODEL_8944426cfd89480ea8a12fb082514d20",
       "style": "IPY_MODEL_d954400a3f614d1ba761ff49e7b98d21",
       "value": "0 features are selected"
      }
     },
     "8bab61fee22144b38a35287103cd1df7": {
      "model_module": "@jupyter-widgets/controls",
      "model_module_version": "1.0.0",
      "model_name": "DescriptionStyleModel",
      "state": {
       "description_width": ""
      }
     },
     "8befc7c1c1fc4bfa949fdadb70e0ddad": {
      "model_module": "@jupyter-widgets/controls",
      "model_module_version": "1.0.0",
      "model_name": "TextModel",
      "state": {
       "description": "Sample ID",
       "layout": "IPY_MODEL_0eb099a48d0a46ed9d2c5c9068ee3cbf",
       "placeholder": "Sample ID",
       "style": "IPY_MODEL_192e851cd1444172b6eadc18aadea290",
       "value": "-"
      }
     },
     "8c487dd769f54b7b94569691916fb0c7": {
      "model_module": "@jupyter-widgets/controls",
      "model_module_version": "1.0.0",
      "model_name": "FloatTextModel",
      "state": {
       "description": "Abundance",
       "layout": "IPY_MODEL_2ba689d5830d4d06b98eb1020bab37da",
       "step": null,
       "style": "IPY_MODEL_00c5cc0c541145ef889071188e37e46f",
       "value": 15.384615384615385
      }
     },
     "8cad085a937c41b7aa68f171f5520a78": {
      "model_module": "@jupyter-widgets/controls",
      "model_module_version": "1.0.0",
      "model_name": "HBoxModel",
      "state": {
       "children": [
        "IPY_MODEL_3635eb6bf5bd4eb2b3c511ad41937e04",
        "IPY_MODEL_a5f6c021b2de4ac4bf6a6a3de4256a7d"
       ],
       "layout": "IPY_MODEL_b1b45e1f60cf469d85fe72521ef86580"
      }
     },
     "8cc83df01337452c9bdab88f67a36a67": {
      "model_module": "@jupyter-widgets/controls",
      "model_module_version": "1.0.0",
      "model_name": "ButtonStyleModel",
      "state": {}
     },
     "8e13c884d4644d7ebec461c4ec95c2e2": {
      "model_module": "@jupyter-widgets/base",
      "model_module_version": "1.0.0",
      "model_name": "LayoutModel",
      "state": {}
     },
     "8e93b3ed298c4843a791d725e579e86c": {
      "model_module": "@jupyter-widgets/controls",
      "model_module_version": "1.0.0",
      "model_name": "FloatTextModel",
      "state": {
       "description": "Abundance",
       "layout": "IPY_MODEL_0fe4437f03514de2a3929adfcab239a3",
       "step": null,
       "style": "IPY_MODEL_d7fd20b06fce4f118c17aa3b98bce218"
      }
     },
     "8e98071a10f64bbe973f661397fb9905": {
      "model_module": "@jupyter-widgets/controls",
      "model_module_version": "1.0.0",
      "model_name": "FloatTextModel",
      "state": {
       "description": "Abundance",
       "layout": "IPY_MODEL_d59215ebf4b145409800dd999aeb9210",
       "step": null,
       "style": "IPY_MODEL_aae2dd8ce3d14f45be984eed94dfe960"
      }
     },
     "8ec1123f964a4ad993760b0c3b4053d1": {
      "model_module": "@jupyter-widgets/controls",
      "model_module_version": "1.0.0",
      "model_name": "DescriptionStyleModel",
      "state": {
       "description_width": ""
      }
     },
     "8ec749af4c8c4e809b2e067ae8f64a5e": {
      "model_module": "@jupyter-widgets/base",
      "model_module_version": "1.0.0",
      "model_name": "LayoutModel",
      "state": {
       "width": "20%"
      }
     },
     "8ee67ac9a296407d9a2c1c679f39d567": {
      "model_module": "@jupyter-widgets/controls",
      "model_module_version": "1.0.0",
      "model_name": "DropdownModel",
      "state": {
       "_options_labels": [
        "ori.order",
        "group",
        "new.order",
        "categorical",
        "_calour_original_abundance"
       ],
       "index": 0,
       "layout": "IPY_MODEL_5985d0c15a8a4ea18e0b57652b09c2d9",
       "style": "IPY_MODEL_8371f4d10a5a434bb265dfab56b71ea4"
      }
     },
     "8ef1645848e3407f8ae324cc4e745687": {
      "model_module": "@jupyter-widgets/controls",
      "model_module_version": "1.0.0",
      "model_name": "HBoxModel",
      "state": {
       "children": [
        "IPY_MODEL_62bff018dc1e48e8b4a98d294bbbae29",
        "IPY_MODEL_2cd6a44f6b394ae08f319e2560c5ae91"
       ],
       "layout": "IPY_MODEL_884df1dfc42146a3a45898f5dcffccbb"
      }
     },
     "8f1b2c6ba9ec44f89f92c45d26c0b8d8": {
      "model_module": "@jupyter-widgets/controls",
      "model_module_version": "1.0.0",
      "model_name": "HBoxModel",
      "state": {
       "children": [
        "IPY_MODEL_e71c9cdd86744c64a7a7e795fac33ef0",
        "IPY_MODEL_76a765e017d74f1aa3c856312383cb42"
       ],
       "layout": "IPY_MODEL_b4650b6a8831470fb8f3256cfc10e622"
      }
     },
     "90938660446045f789e980da5024085c": {
      "model_module": "@jupyter-widgets/base",
      "model_module_version": "1.0.0",
      "model_name": "LayoutModel",
      "state": {
       "width": "100%"
      }
     },
     "90a5ada6dce940d18ca2b320df4c44b3": {
      "model_module": "@jupyter-widgets/controls",
      "model_module_version": "1.0.0",
      "model_name": "HBoxModel",
      "state": {
       "children": [
        "IPY_MODEL_034016157c1e4834a1874ad730db1d35",
        "IPY_MODEL_389e14a306a3404fa87ca08730449c9d",
        "IPY_MODEL_9d518ef1b3e2421ea49a010ceed75512"
       ],
       "layout": "IPY_MODEL_ceed02f0cb2d4fd981e1710d1c19a415"
      }
     },
     "90e1f51b6d304105a7032bf7f92896fc": {
      "model_module": "@jupyter-widgets/controls",
      "model_module_version": "1.0.0",
      "model_name": "LabelModel",
      "state": {
       "layout": "IPY_MODEL_552dc67caaba4b9c998110d2ef16fabe",
       "style": "IPY_MODEL_dafcf9781ae14313a9712f3f3ac763a3",
       "value": "0 features are selected"
      }
     },
     "914dc9b399cc4d9d8bc40c5f5c8f2001": {
      "model_module": "@jupyter-widgets/controls",
      "model_module_version": "1.0.0",
      "model_name": "DropdownModel",
      "state": {
       "_options_labels": [
        "oxygen",
        "ph",
        "level1",
        "level2",
        "new.order",
        "ori.order",
        "taxonomy"
       ],
       "index": 0,
       "layout": "IPY_MODEL_2979aa0ba7fa4d099eb2e734cbd2da55",
       "style": "IPY_MODEL_760310d170c24d5181467e9bd76c649c"
      }
     },
     "91814db0b8d64f12b71d3d70653e8801": {
      "model_module": "@jupyter-widgets/controls",
      "model_module_version": "1.0.0",
      "model_name": "DescriptionStyleModel",
      "state": {
       "description_width": ""
      }
     },
     "91d34eaab44e4d849f70e949826ffee3": {
      "model_module": "@jupyter-widgets/base",
      "model_module_version": "1.0.0",
      "model_name": "LayoutModel",
      "state": {
       "width": "100%"
      }
     },
     "928d371f132f4db0bc065c7e360ab249": {
      "model_module": "@jupyter-widgets/base",
      "model_module_version": "1.0.0",
      "model_name": "LayoutModel",
      "state": {}
     },
     "92ecc96096da498bb9a57909e80edf53": {
      "model_module": "@jupyter-widgets/controls",
      "model_module_version": "1.0.0",
      "model_name": "TextModel",
      "state": {
       "layout": "IPY_MODEL_00e25675da1049568f10c1796c6c6c5a",
       "placeholder": "sample meta",
       "style": "IPY_MODEL_8bab61fee22144b38a35287103cd1df7",
       "value": "-"
      }
     },
     "931584c76d5348c3a7627adefa8f6b1c": {
      "model_module": "@jupyter-widgets/controls",
      "model_module_version": "1.0.0",
      "model_name": "DescriptionStyleModel",
      "state": {
       "description_width": ""
      }
     },
     "932cc02db0f04f68aa6f3035a74859e5": {
      "model_module": "@jupyter-widgets/controls",
      "model_module_version": "1.0.0",
      "model_name": "DescriptionStyleModel",
      "state": {
       "description_width": ""
      }
     },
     "9354b50cf37742798cf9830a78845f29": {
      "model_module": "@jupyter-widgets/base",
      "model_module_version": "1.0.0",
      "model_name": "LayoutModel",
      "state": {
       "width": "80%"
      }
     },
     "93b3cf55930c4dd086479f3a5f922ade": {
      "model_module": "@jupyter-widgets/base",
      "model_module_version": "1.0.0",
      "model_name": "LayoutModel",
      "state": {
       "height": "100px",
       "overflow_y": "auto"
      }
     },
     "94343b458ad346609429d806bf90ad88": {
      "model_module": "@jupyter-widgets/controls",
      "model_module_version": "1.0.0",
      "model_name": "ButtonModel",
      "state": {
       "description": "Save",
       "layout": "IPY_MODEL_541d4fd136ab4073ab0990280e3ee208",
       "style": "IPY_MODEL_7580005c49474c62a7cc1db66ddc5626",
       "tooltip": "Save the selection(s)"
      }
     },
     "94d09775552249bc9f906d9407c1047d": {
      "model_module": "@jupyter-widgets/controls",
      "model_module_version": "1.0.0",
      "model_name": "ButtonStyleModel",
      "state": {}
     },
     "9574655f903441b6994aef806e87bc92": {
      "model_module": "@jupyter-widgets/base",
      "model_module_version": "1.0.0",
      "model_name": "LayoutModel",
      "state": {}
     },
     "96051a033f5b41e8b1d6420dc4a56497": {
      "model_module": "@jupyter-widgets/base",
      "model_module_version": "1.0.0",
      "model_name": "LayoutModel",
      "state": {}
     },
     "960df2a4f6054b57a54b257213e7f63e": {
      "model_module": "@jupyter-widgets/controls",
      "model_module_version": "1.0.0",
      "model_name": "DescriptionStyleModel",
      "state": {
       "description_width": ""
      }
     },
     "962fb1baec2b4b7caa211f6145c32f68": {
      "model_module": "@jupyter-widgets/controls",
      "model_module_version": "1.0.0",
      "model_name": "DropdownModel",
      "state": {
       "_options_labels": [
        "oxygen",
        "ph",
        "level1",
        "level2",
        "new.order",
        "ori.order",
        "taxonomy"
       ],
       "index": 0,
       "layout": "IPY_MODEL_5cd16490bf0a4375a50d5c297a5ca339",
       "style": "IPY_MODEL_b97b03781d7a40b1a523420afd38c73f"
      }
     },
     "96b797df1fbd4dafb286b8482fe1f434": {
      "model_module": "@jupyter-widgets/controls",
      "model_module_version": "1.0.0",
      "model_name": "LabelModel",
      "state": {
       "layout": "IPY_MODEL_e92f6c43518f4ce183b878b306c7fd5d",
       "style": "IPY_MODEL_01474d88c84e4f1b8cdb59872b22ba25",
       "value": "1 features are selected"
      }
     },
     "97b893952a074e74a8eff9c57837cf55": {
      "model_module": "@jupyter-widgets/controls",
      "model_module_version": "1.0.0",
      "model_name": "HBoxModel",
      "state": {
       "children": [
        "IPY_MODEL_707be9b38bd0444ebaa21b52053dffcc",
        "IPY_MODEL_5b9001b811bd49f38dd1e6f0e92643b4"
       ],
       "layout": "IPY_MODEL_ad45a826b3a74161bb44a5749d644fa8"
      }
     },
     "9802adaa4e154ffdb94436771cbfd92b": {
      "model_module": "@jupyter-widgets/controls",
      "model_module_version": "1.0.0",
      "model_name": "DropdownModel",
      "state": {
       "_options_labels": [
        "ori.order",
        "group",
        "new.order",
        "categorical",
        "_calour_original_abundance"
       ],
       "index": 0,
       "layout": "IPY_MODEL_59e976c095204998a963c6f4f945f91f",
       "style": "IPY_MODEL_48318f6ceacd41b3bcd639a430ea7386"
      }
     },
     "983de6053288462fb9b51281807210b1": {
      "model_module": "@jupyter-widgets/base",
      "model_module_version": "1.0.0",
      "model_name": "LayoutModel",
      "state": {}
     },
     "98889e3b9253435abc2a0d74609bda4c": {
      "model_module": "@jupyter-widgets/controls",
      "model_module_version": "1.0.0",
      "model_name": "HBoxModel",
      "state": {
       "children": [
        "IPY_MODEL_8ee67ac9a296407d9a2c1c679f39d567",
        "IPY_MODEL_bd10010d59764e0abcfc3fe07df46ee9"
       ],
       "layout": "IPY_MODEL_eef1b0e464e34f7f962a9b1c73d43754"
      }
     },
     "99214093a1354cc893fa705705f32128": {
      "model_module": "@jupyter-widgets/controls",
      "model_module_version": "1.0.0",
      "model_name": "DescriptionStyleModel",
      "state": {
       "description_width": ""
      }
     },
     "994b82b2cc834d9da39e026f937dafec": {
      "model_module": "@jupyter-widgets/controls",
      "model_module_version": "1.0.0",
      "model_name": "DescriptionStyleModel",
      "state": {
       "description_width": ""
      }
     },
     "9a0b3f943c234e00a1a9b561b6501020": {
      "model_module": "@jupyter-widgets/base",
      "model_module_version": "1.0.0",
      "model_name": "LayoutModel",
      "state": {}
     },
     "9a1563c5454f45ae934861bf403039ac": {
      "model_module": "@jupyter-widgets/controls",
      "model_module_version": "1.0.0",
      "model_name": "DropdownModel",
      "state": {
       "_options_labels": [
        "ori.order",
        "group",
        "new.order",
        "categorical",
        "_calour_original_abundance"
       ],
       "index": 0,
       "layout": "IPY_MODEL_695a36c3c1d84196907185f8d97b0d82",
       "style": "IPY_MODEL_741fd99505aa4bbfa4abde0dd33a0418"
      }
     },
     "9abb0308de48404d9d6bac5ae218fef2": {
      "model_module": "@jupyter-widgets/controls",
      "model_module_version": "1.0.0",
      "model_name": "LabelModel",
      "state": {
       "layout": "IPY_MODEL_59b2ad4d5528452b801e558233191f54",
       "style": "IPY_MODEL_9be8cc2a16dc4adbbb6ba33159e50119",
       "value": "0 features are selected"
      }
     },
     "9be8cc2a16dc4adbbb6ba33159e50119": {
      "model_module": "@jupyter-widgets/controls",
      "model_module_version": "1.0.0",
      "model_name": "DescriptionStyleModel",
      "state": {
       "description_width": ""
      }
     },
     "9ca03c1d41354c71be81a71d333417ee": {
      "model_module": "@jupyter-widgets/controls",
      "model_module_version": "1.0.0",
      "model_name": "DescriptionStyleModel",
      "state": {
       "description_width": ""
      }
     },
     "9cec1e91b91e418dbf8596e2c7e9c839": {
      "model_module": "@jupyter-widgets/base",
      "model_module_version": "1.0.0",
      "model_name": "LayoutModel",
      "state": {}
     },
     "9d1881feb0e84fffbecd19f344db35cd": {
      "model_module": "@jupyter-widgets/controls",
      "model_module_version": "1.0.0",
      "model_name": "TextModel",
      "state": {
       "layout": "IPY_MODEL_ded221a894904090a0d64b0ccae8a4e9",
       "placeholder": "feature meta",
       "style": "IPY_MODEL_c8bc8ee6e8b347a2899afc429d68cf90",
       "value": "-"
      }
     },
     "9d518ef1b3e2421ea49a010ceed75512": {
      "model_module": "@jupyter-widgets/controls",
      "model_module_version": "1.0.0",
      "model_name": "FloatTextModel",
      "state": {
       "description": "Abundance",
       "layout": "IPY_MODEL_019046940176475d87de54db26107ee7",
       "step": null,
       "style": "IPY_MODEL_01e623669876475d81e26a4e11870874",
       "value": 11.76470588235294
      }
     },
     "9d96b4c7dbf249aa9e759a336fffe6d5": {
      "model_module": "@jupyter-widgets/base",
      "model_module_version": "1.0.0",
      "model_name": "LayoutModel",
      "state": {}
     },
     "9e0e8123e265482c84d6942cc9ab754c": {
      "model_module": "@jupyter-widgets/controls",
      "model_module_version": "1.0.0",
      "model_name": "DescriptionStyleModel",
      "state": {
       "description_width": ""
      }
     },
     "9e199d24e61c405b8edb8936de74b20d": {
      "model_module": "@jupyter-widgets/base",
      "model_module_version": "1.0.0",
      "model_name": "LayoutModel",
      "state": {}
     },
     "9efe0892a42b4c7eaec597f1b9a330a1": {
      "model_module": "@jupyter-widgets/controls",
      "model_module_version": "1.0.0",
      "model_name": "DescriptionStyleModel",
      "state": {
       "description_width": ""
      }
     },
     "9f38024313b54c139cecfbdf6d85b722": {
      "model_module": "@jupyter-widgets/base",
      "model_module_version": "1.0.0",
      "model_name": "LayoutModel",
      "state": {
       "width": "80%"
      }
     },
     "9f820ac307b94e6f8c537a5501a0236a": {
      "model_module": "@jupyter-widgets/controls",
      "model_module_version": "1.0.0",
      "model_name": "DropdownModel",
      "state": {
       "_options_labels": [
        "oxygen",
        "ph",
        "level1",
        "level2",
        "new.order",
        "ori.order",
        "taxonomy"
       ],
       "index": 0,
       "layout": "IPY_MODEL_32ed7ce94fa4446685d4c9fd31f767a9",
       "style": "IPY_MODEL_bf3c8254d1b044f4b60a69e8e211ad34"
      }
     },
     "9fd18553292c463cbbbeb64a01514014": {
      "model_module": "@jupyter-widgets/controls",
      "model_module_version": "1.0.0",
      "model_name": "HTMLModel",
      "state": {
       "layout": "IPY_MODEL_fb0d20d518b54a85950da404e23b9bf1",
       "style": "IPY_MODEL_d313571b489e47faaaab501e167abe62",
       "value": "<style> a:link {color:black; background-color:transparent; text-decoration:none}a:visited {color:black; background-color:transparent; text-decoration:none}</style><p style=\"color:black;white-space:nowrap;\"><a href=\"http://dbbact.org/annotation_info/NA\"   target=\"_blank\">No annotation found in database dbBact</a></p>"
      }
     },
     "9fe0e4c85aaa4eaab7efd74c3256fba2": {
      "model_module": "@jupyter-widgets/controls",
      "model_module_version": "1.0.0",
      "model_name": "LabelModel",
      "state": {
       "layout": "IPY_MODEL_bf830b8f53b04c579b435a2f86c42dfa",
       "style": "IPY_MODEL_ad686106732e4eccb4a7fdc48cbbe17a",
       "value": "0 features are selected"
      }
     },
     "a00aed31ff3140e98deefa3bd6a0e180": {
      "model_module": "@jupyter-widgets/controls",
      "model_module_version": "1.0.0",
      "model_name": "TextModel",
      "state": {
       "layout": "IPY_MODEL_e9ee8ed6b979409e904c883d3fad034b",
       "placeholder": "sample meta",
       "style": "IPY_MODEL_264c71cb5c2f448fbc2b032fcae8e7e8",
       "value": "3"
      }
     },
     "a05ae91718b24496b01645ab6a7855f3": {
      "model_module": "@jupyter-widgets/controls",
      "model_module_version": "1.0.0",
      "model_name": "ButtonStyleModel",
      "state": {}
     },
     "a077060fd24548a6a6332e1b6a13c720": {
      "model_module": "@jupyter-widgets/controls",
      "model_module_version": "1.0.0",
      "model_name": "DropdownModel",
      "state": {
       "_options_labels": [
        "ori.order",
        "group",
        "new.order",
        "categorical",
        "_calour_original_abundance"
       ],
       "index": 0,
       "layout": "IPY_MODEL_c1e6ed53474d42cf89091266d7f31d68",
       "style": "IPY_MODEL_5b6a5dd495b4481090dd164544af4155"
      }
     },
     "a09704fd86b54b469126d635682343ae": {
      "model_module": "@jupyter-widgets/controls",
      "model_module_version": "1.0.0",
      "model_name": "TextModel",
      "state": {
       "description": "Feature ID",
       "layout": "IPY_MODEL_105dc9bc4cdf424f9691cc233cdf519e",
       "placeholder": "Feature ID",
       "style": "IPY_MODEL_d3d981a1c06f4eee976f65d1dae9e210",
       "value": "-"
      }
     },
     "a0aff6b3fa7b4cfbb5d12bead2b64cc9": {
      "model_module": "@jupyter-widgets/controls",
      "model_module_version": "1.0.0",
      "model_name": "TextModel",
      "state": {
       "layout": "IPY_MODEL_11c27a0ecdac4d5db4e19f8a166c576b",
       "placeholder": "feature meta",
       "style": "IPY_MODEL_f62fdecc01eb49fcb29a099cf8dc13e2",
       "value": "aerobic"
      }
     },
     "a0cb132f7340491781db63390944a956": {
      "model_module": "@jupyter-widgets/controls",
      "model_module_version": "1.0.0",
      "model_name": "DescriptionStyleModel",
      "state": {
       "description_width": ""
      }
     },
     "a17decffdb3c42ef9458fe2a83b3720b": {
      "model_module": "@jupyter-widgets/base",
      "model_module_version": "1.0.0",
      "model_name": "LayoutModel",
      "state": {}
     },
     "a28394d75da84729a1d5332f2ac091b5": {
      "model_module": "@jupyter-widgets/controls",
      "model_module_version": "1.0.0",
      "model_name": "ButtonModel",
      "state": {
       "description": "print axes ranges",
       "layout": "IPY_MODEL_758070c99c514370887433836531b003",
       "style": "IPY_MODEL_5adfe85ddb7c499bb2d096394ab57d6f",
       "tooltip": "Print the x axis and y axis ranges. Useful to pass to `rect` parameter of heatmap() to zoom in the region automatically."
      }
     },
     "a2a329ec00034b4cb3a19e1f2b5f437a": {
      "model_module": "@jupyter-widgets/controls",
      "model_module_version": "1.0.0",
      "model_name": "HBoxModel",
      "state": {
       "children": [
        "IPY_MODEL_130c532f5617441694bdc4dd1970a9fb",
        "IPY_MODEL_e5fde036ecc54c3ab9b454f664f228cf"
       ],
       "layout": "IPY_MODEL_2306aee16b2e498fb8752c9345c366fd"
      }
     },
     "a311150e5f0f4e648eb8602800718030": {
      "model_module": "@jupyter-widgets/base",
      "model_module_version": "1.0.0",
      "model_name": "LayoutModel",
      "state": {
       "width": "20%"
      }
     },
     "a3ab973b0c1743e68ef7ae085276b3c4": {
      "model_module": "@jupyter-widgets/controls",
      "model_module_version": "1.0.0",
      "model_name": "HBoxModel",
      "state": {
       "children": [
        "IPY_MODEL_962fb1baec2b4b7caa211f6145c32f68",
        "IPY_MODEL_a0aff6b3fa7b4cfbb5d12bead2b64cc9"
       ],
       "layout": "IPY_MODEL_c37ce0442b534130afb115992d268ec0"
      }
     },
     "a3acabb2369f49b5aa77b77acd4192f4": {
      "model_module": "@jupyter-widgets/controls",
      "model_module_version": "1.0.0",
      "model_name": "ButtonModel",
      "state": {
       "description": "print axes ranges",
       "layout": "IPY_MODEL_b27e428d37ac4a12aaa2f313b7dadea3",
       "style": "IPY_MODEL_a9ed3ea44ca2428fbae791f213cc1249",
       "tooltip": "Print the x axis and y axis ranges. Useful to pass to `rect` parameter of heatmap() to zoom in the region automatically."
      }
     },
     "a4e2633eab3349ea89670415a2b9a143": {
      "model_module": "@jupyter-widgets/controls",
      "model_module_version": "1.0.0",
      "model_name": "TextModel",
      "state": {
       "description": "Sample ID",
       "layout": "IPY_MODEL_6a78243a8abb4458b19ae1a0500dab91",
       "placeholder": "Sample ID",
       "style": "IPY_MODEL_5ee67d1601fc4ec39f0ea109ddc67685",
       "value": "-"
      }
     },
     "a5f6c021b2de4ac4bf6a6a3de4256a7d": {
      "model_module": "@jupyter-widgets/controls",
      "model_module_version": "1.0.0",
      "model_name": "TextModel",
      "state": {
       "layout": "IPY_MODEL_a7a57b631d974eddb52bc1006fd12984",
       "placeholder": "feature meta",
       "style": "IPY_MODEL_c1f15a885d774711a675c6aa3226751c",
       "value": "aerobic"
      }
     },
     "a6fda4faa1434abdb3574b8b173ab8ef": {
      "model_module": "@jupyter-widgets/controls",
      "model_module_version": "1.0.0",
      "model_name": "DescriptionStyleModel",
      "state": {
       "description_width": ""
      }
     },
     "a70ec2eed2ce499fb49762cec213ea79": {
      "model_module": "@jupyter-widgets/controls",
      "model_module_version": "1.0.0",
      "model_name": "ButtonStyleModel",
      "state": {}
     },
     "a72ab8ff79394bafbc7334b1436629e6": {
      "model_module": "@jupyter-widgets/base",
      "model_module_version": "1.0.0",
      "model_name": "LayoutModel",
      "state": {}
     },
     "a7a57b631d974eddb52bc1006fd12984": {
      "model_module": "@jupyter-widgets/base",
      "model_module_version": "1.0.0",
      "model_name": "LayoutModel",
      "state": {
       "width": "80%"
      }
     },
     "a7c366c932e24995b79e42c529bac028": {
      "model_module": "@jupyter-widgets/controls",
      "model_module_version": "1.0.0",
      "model_name": "HBoxModel",
      "state": {
       "children": [
        "IPY_MODEL_29e59b1f20dc408bb2d2fff975a9b41b",
        "IPY_MODEL_e188e29063d245d5b865ccd346ff8efa"
       ],
       "layout": "IPY_MODEL_5eb423e1e9a04a7c8b36f334111e4bb6"
      }
     },
     "a86a2ba6593f496c88338dc932280f35": {
      "model_module": "@jupyter-widgets/controls",
      "model_module_version": "1.0.0",
      "model_name": "HBoxModel",
      "state": {
       "children": [
        "IPY_MODEL_ac5e67eb367b452c906a7f6c4093cc64",
        "IPY_MODEL_6fb85714ca1549ed97dd6356997d984a"
       ],
       "layout": "IPY_MODEL_b5ce8d98735147458c9b1bad49e8fc00"
      }
     },
     "a8742efbdb9d4e50b56783b97e50a5be": {
      "model_module": "@jupyter-widgets/controls",
      "model_module_version": "1.0.0",
      "model_name": "DropdownModel",
      "state": {
       "_options_labels": [
        "oxygen",
        "ph",
        "level1",
        "level2",
        "new.order",
        "ori.order",
        "taxonomy"
       ],
       "index": 0,
       "layout": "IPY_MODEL_6a71069cbb2c43438b8568cd956163c5",
       "style": "IPY_MODEL_6a5ff6f45dbc46978f342ad4d6166c1a"
      }
     },
     "a90a70232dbc40e498e9530981c3096b": {
      "model_module": "@jupyter-widgets/base",
      "model_module_version": "1.0.0",
      "model_name": "LayoutModel",
      "state": {}
     },
     "a93ef3365c3d4bef9155fc296849f5f8": {
      "model_module": "@jupyter-widgets/base",
      "model_module_version": "1.0.0",
      "model_name": "LayoutModel",
      "state": {}
     },
     "a947787b553a485fab496b15d7e0bb9a": {
      "model_module": "@jupyter-widgets/base",
      "model_module_version": "1.0.0",
      "model_name": "LayoutModel",
      "state": {}
     },
     "a9801bfd8b2e4dc980457c0b9cb11527": {
      "model_module": "@jupyter-widgets/controls",
      "model_module_version": "1.0.0",
      "model_name": "LabelModel",
      "state": {
       "layout": "IPY_MODEL_85a411cb20fe45d59527aa71c44511dd",
       "style": "IPY_MODEL_d3e470dc3e9242f3926abe4394425f39",
       "value": "1 features are selected"
      }
     },
     "a9aef8431bda4f65aebdffab7bdeda0b": {
      "model_module": "@jupyter-widgets/controls",
      "model_module_version": "1.0.0",
      "model_name": "ButtonModel",
      "state": {
       "description": "print axes ranges",
       "layout": "IPY_MODEL_cd591a975e034460be5bc9cd73df96d2",
       "style": "IPY_MODEL_cd5fad4fcf6b4df2957a9e064c607938",
       "tooltip": "Print the x axis and y axis ranges. Useful to pass to `rect` parameter of heatmap() to zoom in the region automatically."
      }
     },
     "a9c583a886f84b2d820e9e97a0def3fe": {
      "model_module": "@jupyter-widgets/base",
      "model_module_version": "1.0.0",
      "model_name": "LayoutModel",
      "state": {}
     },
     "a9c7d5950d9143d687f78a5747709eb2": {
      "model_module": "@jupyter-widgets/controls",
      "model_module_version": "1.0.0",
      "model_name": "TextModel",
      "state": {
       "layout": "IPY_MODEL_9f38024313b54c139cecfbdf6d85b722",
       "placeholder": "feature meta",
       "style": "IPY_MODEL_4ad914973dc449108fc75e33fec426bb",
       "value": "anaerobic"
      }
     },
     "a9ed3ea44ca2428fbae791f213cc1249": {
      "model_module": "@jupyter-widgets/controls",
      "model_module_version": "1.0.0",
      "model_name": "ButtonStyleModel",
      "state": {}
     },
     "aae2dd8ce3d14f45be984eed94dfe960": {
      "model_module": "@jupyter-widgets/controls",
      "model_module_version": "1.0.0",
      "model_name": "DescriptionStyleModel",
      "state": {
       "description_width": ""
      }
     },
     "aaf1e2a904274269925ae15bde5ebf6b": {
      "model_module": "@jupyter-widgets/base",
      "model_module_version": "1.0.0",
      "model_name": "LayoutModel",
      "state": {
       "width": "80%"
      }
     },
     "aaf54215325e43f7a2ea12afd1d96dc4": {
      "model_module": "@jupyter-widgets/controls",
      "model_module_version": "1.0.0",
      "model_name": "HBoxModel",
      "state": {
       "children": [
        "IPY_MODEL_cefb9977328047de986c3d7416c1a229",
        "IPY_MODEL_b3a2a0cf9dac424ca11c4d102069836e",
        "IPY_MODEL_46fd1a9ea25a4c888e0f728591bcbb77"
       ],
       "layout": "IPY_MODEL_9574655f903441b6994aef806e87bc92"
      }
     },
     "ab73c7b03b004f3cb46543ebe09ed2fa": {
      "model_module": "@jupyter-widgets/controls",
      "model_module_version": "1.0.0",
      "model_name": "HBoxModel",
      "state": {
       "children": [
        "IPY_MODEL_e01d8976dd3e4188a5515717959c760a",
        "IPY_MODEL_115957e8b71740928560b256a2c45df3",
        "IPY_MODEL_6b05c4a3ae9148dcb7dff94e4d3548ac"
       ],
       "layout": "IPY_MODEL_a72ab8ff79394bafbc7334b1436629e6"
      }
     },
     "aba8b415a4a24b819e90e3c9fe6536dc": {
      "model_module": "@jupyter-widgets/controls",
      "model_module_version": "1.0.0",
      "model_name": "ButtonStyleModel",
      "state": {}
     },
     "abbeddd2294244e19731984ab5425bb9": {
      "model_module": "@jupyter-widgets/controls",
      "model_module_version": "1.0.0",
      "model_name": "HBoxModel",
      "state": {
       "children": [
        "IPY_MODEL_a8742efbdb9d4e50b56783b97e50a5be",
        "IPY_MODEL_8af73284f30b40409de43e02b8769aea"
       ],
       "layout": "IPY_MODEL_2eb8e2db28e04011a26a20c32b732cd5"
      }
     },
     "abe3ea449b7341bb8514ac5575384e14": {
      "model_module": "@jupyter-widgets/base",
      "model_module_version": "1.0.0",
      "model_name": "LayoutModel",
      "state": {
       "width": "20%"
      }
     },
     "ac1146579d5f4db58af5e2c31d39cd51": {
      "model_module": "@jupyter-widgets/controls",
      "model_module_version": "1.0.0",
      "model_name": "DescriptionStyleModel",
      "state": {
       "description_width": ""
      }
     },
     "ac5e67eb367b452c906a7f6c4093cc64": {
      "model_module": "@jupyter-widgets/controls",
      "model_module_version": "1.0.0",
      "model_name": "DropdownModel",
      "state": {
       "_options_labels": [
        "ori.order",
        "group",
        "new.order",
        "categorical",
        "_calour_original_abundance"
       ],
       "index": 0,
       "layout": "IPY_MODEL_ef2fb6bdf77242dca72164d2ab57a968",
       "style": "IPY_MODEL_4b5072a20aa94e65bd92770a67611ca5"
      }
     },
     "acc504f859be4cf099bea5c25253750b": {
      "model_module": "@jupyter-widgets/controls",
      "model_module_version": "1.0.0",
      "model_name": "DescriptionStyleModel",
      "state": {
       "description_width": ""
      }
     },
     "acd000fbeb2e4b6c9e5e67b954e23bd8": {
      "model_module": "@jupyter-widgets/controls",
      "model_module_version": "1.0.0",
      "model_name": "DescriptionStyleModel",
      "state": {
       "description_width": ""
      }
     },
     "ad45a826b3a74161bb44a5749d644fa8": {
      "model_module": "@jupyter-widgets/base",
      "model_module_version": "1.0.0",
      "model_name": "LayoutModel",
      "state": {}
     },
     "ad686106732e4eccb4a7fdc48cbbe17a": {
      "model_module": "@jupyter-widgets/controls",
      "model_module_version": "1.0.0",
      "model_name": "DescriptionStyleModel",
      "state": {
       "description_width": ""
      }
     },
     "ad97ea7fc7b24c0a80691226e12610ae": {
      "model_module": "@jupyter-widgets/base",
      "model_module_version": "1.0.0",
      "model_name": "LayoutModel",
      "state": {
       "height": "100px",
       "overflow_y": "auto"
      }
     },
     "aef9e9a7968a4e7dbd1cdc357d2c3a08": {
      "model_module": "@jupyter-widgets/controls",
      "model_module_version": "1.0.0",
      "model_name": "HBoxModel",
      "state": {
       "children": [
        "IPY_MODEL_631f4a2616524b21ad7ab65309aa7843",
        "IPY_MODEL_a09704fd86b54b469126d635682343ae",
        "IPY_MODEL_73e180d5a3764940b477890507ce376e"
       ],
       "layout": "IPY_MODEL_8e13c884d4644d7ebec461c4ec95c2e2"
      }
     },
     "af2f432925244da9a661f4cac35f99eb": {
      "model_module": "@jupyter-widgets/controls",
      "model_module_version": "1.0.0",
      "model_name": "ButtonModel",
      "state": {
       "description": "Save",
       "layout": "IPY_MODEL_0d1ac708b20d42ec89747468e9d2867c",
       "style": "IPY_MODEL_10663756ad8e44caaceb81c6a59f9b3f",
       "tooltip": "Save the selection(s)"
      }
     },
     "af64768fd9aa4166ace42e7d5d08e613": {
      "model_module": "@jupyter-widgets/controls",
      "model_module_version": "1.0.0",
      "model_name": "ButtonModel",
      "state": {
       "description": "Save",
       "layout": "IPY_MODEL_f24fa96118a844a0859a8b7f7ad5a60e",
       "style": "IPY_MODEL_f16ea498af894761acde79303d5fdba3",
       "tooltip": "Save the selection(s)"
      }
     },
     "af8fdc59253e49b9b9d99462cfdf1ac2": {
      "model_module": "@jupyter-widgets/controls",
      "model_module_version": "1.0.0",
      "model_name": "DescriptionStyleModel",
      "state": {
       "description_width": ""
      }
     },
     "afa3ee4bf4774e12916fba17cccb8198": {
      "model_module": "@jupyter-widgets/base",
      "model_module_version": "1.0.0",
      "model_name": "LayoutModel",
      "state": {
       "width": "20%"
      }
     },
     "b0f5a06a4ab44a1d948613014cadb06e": {
      "model_module": "@jupyter-widgets/controls",
      "model_module_version": "1.0.0",
      "model_name": "HBoxModel",
      "state": {
       "children": [
        "IPY_MODEL_270b6d3846df4858be126fb7414162e0",
        "IPY_MODEL_92ecc96096da498bb9a57909e80edf53"
       ],
       "layout": "IPY_MODEL_7a2095c306f64afc96a142734d9c5800"
      }
     },
     "b18c660ed276410285cf6d39ec4f64e9": {
      "model_module": "@jupyter-widgets/controls",
      "model_module_version": "1.0.0",
      "model_name": "HBoxModel",
      "state": {
       "children": [
        "IPY_MODEL_05bbad225e6e4edca15e9f8899271290",
        "IPY_MODEL_7b02f671f963406ea6b3c07d1b9e9c68"
       ],
       "layout": "IPY_MODEL_f069355a505548daab227402416d8735"
      }
     },
     "b1b45e1f60cf469d85fe72521ef86580": {
      "model_module": "@jupyter-widgets/base",
      "model_module_version": "1.0.0",
      "model_name": "LayoutModel",
      "state": {}
     },
     "b2260c5f7499484593b93b93b818fd94": {
      "model_module": "@jupyter-widgets/controls",
      "model_module_version": "1.0.0",
      "model_name": "HTMLModel",
      "state": {
       "layout": "IPY_MODEL_ad97ea7fc7b24c0a80691226e12610ae",
       "style": "IPY_MODEL_3e9d3806dcc145989927b1e74fb92344",
       "value": "no annotation found"
      }
     },
     "b27e428d37ac4a12aaa2f313b7dadea3": {
      "model_module": "@jupyter-widgets/base",
      "model_module_version": "1.0.0",
      "model_name": "LayoutModel",
      "state": {}
     },
     "b2dbcb5139814badb829f3b8bbc8ba35": {
      "model_module": "@jupyter-widgets/controls",
      "model_module_version": "1.0.0",
      "model_name": "ButtonModel",
      "state": {
       "description": "Save",
       "layout": "IPY_MODEL_570501f228ae4e62a67061949e28c699",
       "style": "IPY_MODEL_637553ca7a0d43fda705706126e7eced",
       "tooltip": "Save the selection(s)"
      }
     },
     "b3a2a0cf9dac424ca11c4d102069836e": {
      "model_module": "@jupyter-widgets/controls",
      "model_module_version": "1.0.0",
      "model_name": "TextModel",
      "state": {
       "description": "Feature ID",
       "layout": "IPY_MODEL_b9e20f433739466d836038e789e66f1a",
       "placeholder": "Feature ID",
       "style": "IPY_MODEL_53517737dea14c08b4225ce03480407e",
       "value": "-"
      }
     },
     "b3bff8aac6484568ba2be1ecb46d5a48": {
      "model_module": "@jupyter-widgets/controls",
      "model_module_version": "1.0.0",
      "model_name": "DescriptionStyleModel",
      "state": {
       "description_width": ""
      }
     },
     "b4650b6a8831470fb8f3256cfc10e622": {
      "model_module": "@jupyter-widgets/base",
      "model_module_version": "1.0.0",
      "model_name": "LayoutModel",
      "state": {}
     },
     "b4e9d87503fb4709bcc2ada49585adcd": {
      "model_module": "@jupyter-widgets/controls",
      "model_module_version": "1.0.0",
      "model_name": "DescriptionStyleModel",
      "state": {
       "description_width": ""
      }
     },
     "b5bd938134374736a4c7917822853dc7": {
      "model_module": "@jupyter-widgets/base",
      "model_module_version": "1.0.0",
      "model_name": "LayoutModel",
      "state": {}
     },
     "b5ce8d98735147458c9b1bad49e8fc00": {
      "model_module": "@jupyter-widgets/base",
      "model_module_version": "1.0.0",
      "model_name": "LayoutModel",
      "state": {}
     },
     "b62f67d02adc4feaa6abedd89793afbe": {
      "model_module": "@jupyter-widgets/controls",
      "model_module_version": "1.0.0",
      "model_name": "DescriptionStyleModel",
      "state": {
       "description_width": ""
      }
     },
     "b66cbc1194f04311a4018a0c8caa09c3": {
      "model_module": "@jupyter-widgets/base",
      "model_module_version": "1.0.0",
      "model_name": "LayoutModel",
      "state": {
       "width": "80%"
      }
     },
     "b72e766891d8489782dea99baec9b8d4": {
      "model_module": "@jupyter-widgets/base",
      "model_module_version": "1.0.0",
      "model_name": "LayoutModel",
      "state": {
       "width": "80%"
      }
     },
     "b799b9fcd34d4becb0edb96deea3048a": {
      "model_module": "@jupyter-widgets/controls",
      "model_module_version": "1.0.0",
      "model_name": "ButtonStyleModel",
      "state": {}
     },
     "b7bfb8cc6fd5430a82aad0cf066be6d0": {
      "model_module": "@jupyter-widgets/base",
      "model_module_version": "1.0.0",
      "model_name": "LayoutModel",
      "state": {}
     },
     "b7dab112f0ae4cf1919e49f4a35f8fbd": {
      "model_module": "@jupyter-widgets/base",
      "model_module_version": "1.0.0",
      "model_name": "LayoutModel",
      "state": {
       "width": "80%"
      }
     },
     "b957e7ac728047f48100ffb857fc966b": {
      "model_module": "@jupyter-widgets/controls",
      "model_module_version": "1.0.0",
      "model_name": "DescriptionStyleModel",
      "state": {
       "description_width": ""
      }
     },
     "b97b03781d7a40b1a523420afd38c73f": {
      "model_module": "@jupyter-widgets/controls",
      "model_module_version": "1.0.0",
      "model_name": "DescriptionStyleModel",
      "state": {
       "description_width": ""
      }
     },
     "b990b3945b8d461f8e5fda15de2878cd": {
      "model_module": "@jupyter-widgets/base",
      "model_module_version": "1.0.0",
      "model_name": "LayoutModel",
      "state": {}
     },
     "b99e9da4029b419090801961b9cf61bd": {
      "model_module": "@jupyter-widgets/base",
      "model_module_version": "1.0.0",
      "model_name": "LayoutModel",
      "state": {
       "width": "20%"
      }
     },
     "b9bf199686854385a278888607e8d84c": {
      "model_module": "@jupyter-widgets/controls",
      "model_module_version": "1.0.0",
      "model_name": "TextModel",
      "state": {
       "description": "Sample ID",
       "layout": "IPY_MODEL_eb5873d689c945bebbb75ea92831f359",
       "placeholder": "Sample ID",
       "style": "IPY_MODEL_3ba474507f8e46aa97e33120097f76f3",
       "value": "-"
      }
     },
     "b9e20f433739466d836038e789e66f1a": {
      "model_module": "@jupyter-widgets/base",
      "model_module_version": "1.0.0",
      "model_name": "LayoutModel",
      "state": {
       "width": "100%"
      }
     },
     "ba09687fc2ef4ed8b5ada170c5f6883c": {
      "model_module": "@jupyter-widgets/controls",
      "model_module_version": "1.0.0",
      "model_name": "DescriptionStyleModel",
      "state": {
       "description_width": ""
      }
     },
     "ba40b1fcc938431b8c0f6cb2c92e13de": {
      "model_module": "@jupyter-widgets/base",
      "model_module_version": "1.0.0",
      "model_name": "LayoutModel",
      "state": {}
     },
     "ba70037ec3424306af4f90ed7f5a5287": {
      "model_module": "@jupyter-widgets/base",
      "model_module_version": "1.0.0",
      "model_name": "LayoutModel",
      "state": {
       "width": "80%"
      }
     },
     "bab1e351a9614a358357ae04c1a14aa6": {
      "model_module": "@jupyter-widgets/controls",
      "model_module_version": "1.0.0",
      "model_name": "TextModel",
      "state": {
       "layout": "IPY_MODEL_deddb7ce2a1e447989532d08d62045e7",
       "placeholder": "feature meta",
       "style": "IPY_MODEL_994b82b2cc834d9da39e026f937dafec",
       "value": "-"
      }
     },
     "bb0f8870b40f4c4292b537d42c36d91d": {
      "model_module": "@jupyter-widgets/base",
      "model_module_version": "1.0.0",
      "model_name": "LayoutModel",
      "state": {}
     },
     "bb16e1a9dfa448bc977134c8bc7189d8": {
      "model_module": "@jupyter-widgets/controls",
      "model_module_version": "1.0.0",
      "model_name": "HBoxModel",
      "state": {
       "children": [
        "IPY_MODEL_544c7f8ca21b4cc7afa7ac6de0d29d17",
        "IPY_MODEL_67ce2baa6faf4ef993a429ec34743e4b",
        "IPY_MODEL_c6af5102d7b843fdacdad20e92ae5a56"
       ],
       "layout": "IPY_MODEL_3bb822e442e044afaae17f995f5c8a5e"
      }
     },
     "bbb078d65f794a72b7e5112b4df5c9b1": {
      "model_module": "@jupyter-widgets/controls",
      "model_module_version": "1.0.0",
      "model_name": "DescriptionStyleModel",
      "state": {
       "description_width": ""
      }
     },
     "bbc1e315c00e49789b1c398221ebe175": {
      "model_module": "@jupyter-widgets/controls",
      "model_module_version": "1.0.0",
      "model_name": "DescriptionStyleModel",
      "state": {
       "description_width": ""
      }
     },
     "bbcf9893fa8b44ecafcfb2fa23d3ed78": {
      "model_module": "@jupyter-widgets/controls",
      "model_module_version": "1.0.0",
      "model_name": "ButtonStyleModel",
      "state": {}
     },
     "bc1a4c60a761466dbecce0203ce6ea82": {
      "model_module": "@jupyter-widgets/controls",
      "model_module_version": "1.0.0",
      "model_name": "DescriptionStyleModel",
      "state": {
       "description_width": ""
      }
     },
     "bc309ced75cb41b3809636e1ebdb6c08": {
      "model_module": "@jupyter-widgets/base",
      "model_module_version": "1.0.0",
      "model_name": "LayoutModel",
      "state": {}
     },
     "bcb1a3d1bc194669a7016a10d8c99974": {
      "model_module": "@jupyter-widgets/controls",
      "model_module_version": "1.0.0",
      "model_name": "DescriptionStyleModel",
      "state": {
       "description_width": ""
      }
     },
     "bd10010d59764e0abcfc3fe07df46ee9": {
      "model_module": "@jupyter-widgets/controls",
      "model_module_version": "1.0.0",
      "model_name": "TextModel",
      "state": {
       "layout": "IPY_MODEL_ba70037ec3424306af4f90ed7f5a5287",
       "placeholder": "sample meta",
       "style": "IPY_MODEL_3499ffa30e94402ba4c68f98a5f63755",
       "value": "2"
      }
     },
     "be2f8aa9d2a24b48b08e544fe904a929": {
      "model_module": "@jupyter-widgets/controls",
      "model_module_version": "1.0.0",
      "model_name": "DropdownModel",
      "state": {
       "_options_labels": [
        "ori.order",
        "group",
        "new.order",
        "categorical",
        "_calour_original_abundance"
       ],
       "index": 0,
       "layout": "IPY_MODEL_e684e8dd927b49619c5aa7438782afcd",
       "style": "IPY_MODEL_14c54f9ce4aa4ad7b3dc0efcd5256a9a"
      }
     },
     "bf3c8254d1b044f4b60a69e8e211ad34": {
      "model_module": "@jupyter-widgets/controls",
      "model_module_version": "1.0.0",
      "model_name": "DescriptionStyleModel",
      "state": {
       "description_width": ""
      }
     },
     "bf830b8f53b04c579b435a2f86c42dfa": {
      "model_module": "@jupyter-widgets/base",
      "model_module_version": "1.0.0",
      "model_name": "LayoutModel",
      "state": {}
     },
     "bfa70a755ef7476790c54af339eb8deb": {
      "model_module": "@jupyter-widgets/controls",
      "model_module_version": "1.0.0",
      "model_name": "DescriptionStyleModel",
      "state": {
       "description_width": ""
      }
     },
     "c014d91977b94ce19671f87a8bfbb187": {
      "model_module": "@jupyter-widgets/controls",
      "model_module_version": "1.0.0",
      "model_name": "TextModel",
      "state": {
       "description": "Feature ID",
       "layout": "IPY_MODEL_f00d265f4407431c9b6f1160207fdc81",
       "placeholder": "Feature ID",
       "style": "IPY_MODEL_dec73cdacb304c478169e640a5e20f33",
       "value": "TG"
      }
     },
     "c1364fc7758b4ef59a92690a8ea53e71": {
      "model_module": "@jupyter-widgets/base",
      "model_module_version": "1.0.0",
      "model_name": "LayoutModel",
      "state": {
       "width": "20%"
      }
     },
     "c18afdec8a8e45f2982224e1bedefddf": {
      "model_module": "@jupyter-widgets/controls",
      "model_module_version": "1.0.0",
      "model_name": "DescriptionStyleModel",
      "state": {
       "description_width": ""
      }
     },
     "c1e6ed53474d42cf89091266d7f31d68": {
      "model_module": "@jupyter-widgets/base",
      "model_module_version": "1.0.0",
      "model_name": "LayoutModel",
      "state": {
       "width": "20%"
      }
     },
     "c1f15a885d774711a675c6aa3226751c": {
      "model_module": "@jupyter-widgets/controls",
      "model_module_version": "1.0.0",
      "model_name": "DescriptionStyleModel",
      "state": {
       "description_width": ""
      }
     },
     "c2454d63815f498bb1e29d4fb7891ca2": {
      "model_module": "@jupyter-widgets/base",
      "model_module_version": "1.0.0",
      "model_name": "LayoutModel",
      "state": {}
     },
     "c2b1db5f22e14ce59f9805edc8f2db33": {
      "model_module": "@jupyter-widgets/controls",
      "model_module_version": "1.0.0",
      "model_name": "HBoxModel",
      "state": {
       "children": [
        "IPY_MODEL_3effb17aa2a4473fbe49ea9685595680",
        "IPY_MODEL_d6416e07b0d7465692f61a210655ac37",
        "IPY_MODEL_73a55c1e92444702a764b270a9fcea1c"
       ],
       "layout": "IPY_MODEL_e3e571cce4de4f12a18096b0298e9ae7"
      }
     },
     "c37ce0442b534130afb115992d268ec0": {
      "model_module": "@jupyter-widgets/base",
      "model_module_version": "1.0.0",
      "model_name": "LayoutModel",
      "state": {}
     },
     "c3adfefeddca4773acdab8698aa6a6ac": {
      "model_module": "@jupyter-widgets/base",
      "model_module_version": "1.0.0",
      "model_name": "LayoutModel",
      "state": {}
     },
     "c3d8d47f143a475cb38cdea8b41c19bc": {
      "model_module": "@jupyter-widgets/controls",
      "model_module_version": "1.0.0",
      "model_name": "DescriptionStyleModel",
      "state": {
       "description_width": ""
      }
     },
     "c3dca8624be44fa980083b76739f44f4": {
      "model_module": "@jupyter-widgets/base",
      "model_module_version": "1.0.0",
      "model_name": "LayoutModel",
      "state": {}
     },
     "c3f9096ce69e43749fbff18320a94a2c": {
      "model_module": "@jupyter-widgets/controls",
      "model_module_version": "1.0.0",
      "model_name": "DescriptionStyleModel",
      "state": {
       "description_width": ""
      }
     },
     "c56e1c5f5bfe4100a19d8093a03bbca9": {
      "model_module": "@jupyter-widgets/controls",
      "model_module_version": "1.0.0",
      "model_name": "DescriptionStyleModel",
      "state": {
       "description_width": ""
      }
     },
     "c58749cff455446892e749eb3f0a661f": {
      "model_module": "@jupyter-widgets/controls",
      "model_module_version": "1.0.0",
      "model_name": "DropdownModel",
      "state": {
       "_options_labels": [
        "oxygen",
        "ph",
        "level1",
        "level2",
        "new.order",
        "ori.order",
        "taxonomy"
       ],
       "index": 0,
       "layout": "IPY_MODEL_8ec749af4c8c4e809b2e067ae8f64a5e",
       "style": "IPY_MODEL_8374453c2ad747b79afe66e55c3eea32"
      }
     },
     "c5b002ccbf0849c0a8cffdfe7674dd37": {
      "model_module": "@jupyter-widgets/controls",
      "model_module_version": "1.0.0",
      "model_name": "HBoxModel",
      "state": {
       "children": [
        "IPY_MODEL_3a272e5250e94bda8d8d50c0e56ed531",
        "IPY_MODEL_6f064e0bd51b4c33a3c560609634a9f8"
       ],
       "layout": "IPY_MODEL_6a94fb38b86145b089f8f533170451e3"
      }
     },
     "c615cf7e572a4983b6be6014e6be44a5": {
      "model_module": "@jupyter-widgets/controls",
      "model_module_version": "1.0.0",
      "model_name": "HBoxModel",
      "state": {
       "children": [
        "IPY_MODEL_1b93ba673e8a447ba9a94ca63684b4df",
        "IPY_MODEL_f5a856e3904c429aa8a230729cf00bf3"
       ],
       "layout": "IPY_MODEL_b990b3945b8d461f8e5fda15de2878cd"
      }
     },
     "c635c39acb6f4b90a5213287645b86c0": {
      "model_module": "@jupyter-widgets/base",
      "model_module_version": "1.0.0",
      "model_name": "LayoutModel",
      "state": {}
     },
     "c6af5102d7b843fdacdad20e92ae5a56": {
      "model_module": "@jupyter-widgets/controls",
      "model_module_version": "1.0.0",
      "model_name": "FloatTextModel",
      "state": {
       "description": "Abundance",
       "layout": "IPY_MODEL_49b9fba17ead47689325a581f61a2185",
       "step": null,
       "style": "IPY_MODEL_c7aa4ee6ea684a98a938eaf61fcc2d83"
      }
     },
     "c6d76c64fcc242c2ab6eaf01b0f9523f": {
      "model_module": "@jupyter-widgets/controls",
      "model_module_version": "1.0.0",
      "model_name": "DropdownModel",
      "state": {
       "_options_labels": [
        "ori.order",
        "group",
        "new.order",
        "categorical",
        "_calour_original_abundance"
       ],
       "index": 0,
       "layout": "IPY_MODEL_a311150e5f0f4e648eb8602800718030",
       "style": "IPY_MODEL_de886f79a7e8421ebc9e9d663529c001"
      }
     },
     "c72e3a70fded4606abe6fb8e2750b710": {
      "model_module": "@jupyter-widgets/controls",
      "model_module_version": "1.0.0",
      "model_name": "DescriptionStyleModel",
      "state": {
       "description_width": ""
      }
     },
     "c731b56898dc4e27ab0253d2af3629dc": {
      "model_module": "@jupyter-widgets/controls",
      "model_module_version": "1.0.0",
      "model_name": "DescriptionStyleModel",
      "state": {
       "description_width": ""
      }
     },
     "c7525fd25fd940b2847868f80d19502d": {
      "model_module": "@jupyter-widgets/controls",
      "model_module_version": "1.0.0",
      "model_name": "DescriptionStyleModel",
      "state": {
       "description_width": ""
      }
     },
     "c7aa4ee6ea684a98a938eaf61fcc2d83": {
      "model_module": "@jupyter-widgets/controls",
      "model_module_version": "1.0.0",
      "model_name": "DescriptionStyleModel",
      "state": {
       "description_width": ""
      }
     },
     "c7c9939b9e854eee9264fc85e1bc276a": {
      "model_module": "@jupyter-widgets/controls",
      "model_module_version": "1.0.0",
      "model_name": "ButtonModel",
      "state": {
       "description": "Annotate",
       "layout": "IPY_MODEL_005dab0790f147f496ce3f1440a54c24",
       "style": "IPY_MODEL_a05ae91718b24496b01645ab6a7855f3"
      }
     },
     "c8441c1d7b254b46b02e16a3990b2bf8": {
      "model_module": "@jupyter-widgets/controls",
      "model_module_version": "1.0.0",
      "model_name": "TextModel",
      "state": {
       "description": "Feature ID",
       "layout": "IPY_MODEL_90938660446045f789e980da5024085c",
       "placeholder": "Feature ID",
       "style": "IPY_MODEL_931584c76d5348c3a7627adefa8f6b1c",
       "value": "-"
      }
     },
     "c890a289a81c461daad0bc9e84f38f8e": {
      "model_module": "@jupyter-widgets/controls",
      "model_module_version": "1.0.0",
      "model_name": "ButtonModel",
      "state": {
       "description": "Save",
       "layout": "IPY_MODEL_cd94a4ceb5824d0f9d864f03d90dd090",
       "style": "IPY_MODEL_bbcf9893fa8b44ecafcfb2fa23d3ed78",
       "tooltip": "Save the selection(s)"
      }
     },
     "c890b29770df44c78f990c5fe9592d67": {
      "model_module": "@jupyter-widgets/controls",
      "model_module_version": "1.0.0",
      "model_name": "DropdownModel",
      "state": {
       "_options_labels": [
        "oxygen",
        "ph",
        "level1",
        "level2",
        "new.order",
        "ori.order",
        "taxonomy"
       ],
       "index": 0,
       "layout": "IPY_MODEL_afa3ee4bf4774e12916fba17cccb8198",
       "style": "IPY_MODEL_69277c7e72204237ad8a465672f0f0e0"
      }
     },
     "c8bc8ee6e8b347a2899afc429d68cf90": {
      "model_module": "@jupyter-widgets/controls",
      "model_module_version": "1.0.0",
      "model_name": "DescriptionStyleModel",
      "state": {
       "description_width": ""
      }
     },
     "c91c380a4bf44a68a414e5f0461d18fd": {
      "model_module": "@jupyter-widgets/base",
      "model_module_version": "1.0.0",
      "model_name": "LayoutModel",
      "state": {
       "width": "80%"
      }
     },
     "c92a4328c2b1497eae41115cfda206cb": {
      "model_module": "@jupyter-widgets/base",
      "model_module_version": "1.0.0",
      "model_name": "LayoutModel",
      "state": {
       "height": "100px",
       "overflow_y": "auto"
      }
     },
     "c9356130646942dda88a7fae4e8ebd90": {
      "model_module": "@jupyter-widgets/controls",
      "model_module_version": "1.0.0",
      "model_name": "DescriptionStyleModel",
      "state": {
       "description_width": ""
      }
     },
     "cafdedaee85e4f5f83b8d9bef6a862c3": {
      "model_module": "@jupyter-widgets/base",
      "model_module_version": "1.0.0",
      "model_name": "LayoutModel",
      "state": {}
     },
     "cbf88707cd60458bb4ba01415d517065": {
      "model_module": "@jupyter-widgets/base",
      "model_module_version": "1.0.0",
      "model_name": "LayoutModel",
      "state": {
       "width": "80%"
      }
     },
     "ccbd4eb091ff48dc8b4b5fde7d511a2a": {
      "model_module": "@jupyter-widgets/controls",
      "model_module_version": "1.0.0",
      "model_name": "TextModel",
      "state": {
       "description": "Feature ID",
       "layout": "IPY_MODEL_0fe4437f03514de2a3929adfcab239a3",
       "placeholder": "Feature ID",
       "style": "IPY_MODEL_2ef739485b2b43fcb5cf79c53e6346dd",
       "value": "-"
      }
     },
     "cd1b247c31e448c4b962d6684da16ba1": {
      "model_module": "@jupyter-widgets/controls",
      "model_module_version": "1.0.0",
      "model_name": "HBoxModel",
      "state": {
       "children": [
        "IPY_MODEL_54b21fb5ca70416a923184fab19163f8",
        "IPY_MODEL_c890a289a81c461daad0bc9e84f38f8e",
        "IPY_MODEL_c7c9939b9e854eee9264fc85e1bc276a"
       ],
       "layout": "IPY_MODEL_831b60f52be34ce8ac2b231fd734c5ad"
      }
     },
     "cd591a975e034460be5bc9cd73df96d2": {
      "model_module": "@jupyter-widgets/base",
      "model_module_version": "1.0.0",
      "model_name": "LayoutModel",
      "state": {}
     },
     "cd5fad4fcf6b4df2957a9e064c607938": {
      "model_module": "@jupyter-widgets/controls",
      "model_module_version": "1.0.0",
      "model_name": "ButtonStyleModel",
      "state": {}
     },
     "cd94a4ceb5824d0f9d864f03d90dd090": {
      "model_module": "@jupyter-widgets/base",
      "model_module_version": "1.0.0",
      "model_name": "LayoutModel",
      "state": {}
     },
     "ce046812970f4a9aa67508191c6b863f": {
      "model_module": "@jupyter-widgets/controls",
      "model_module_version": "1.0.0",
      "model_name": "ButtonStyleModel",
      "state": {}
     },
     "ce9f0f88d2c64697aa1aa8d5e49e6627": {
      "model_module": "@jupyter-widgets/controls",
      "model_module_version": "1.0.0",
      "model_name": "HTMLModel",
      "state": {
       "layout": "IPY_MODEL_e28c5cc30d5c4923bf62c164dd23084c",
       "style": "IPY_MODEL_611a1e8802c349f3b59b0253d39bcf7d",
       "value": "<style> a:link {color:black; background-color:transparent; text-decoration:none}a:visited {color:black; background-color:transparent; text-decoration:none}</style><p style=\"color:black;white-space:nowrap;\"><a href=\"http://dbbact.org/annotation_info/NA\"   target=\"_blank\">No annotation found in database dbBact</a></p>"
      }
     },
     "ceed02f0cb2d4fd981e1710d1c19a415": {
      "model_module": "@jupyter-widgets/base",
      "model_module_version": "1.0.0",
      "model_name": "LayoutModel",
      "state": {}
     },
     "cefb9977328047de986c3d7416c1a229": {
      "model_module": "@jupyter-widgets/controls",
      "model_module_version": "1.0.0",
      "model_name": "TextModel",
      "state": {
       "description": "Sample ID",
       "layout": "IPY_MODEL_b9e20f433739466d836038e789e66f1a",
       "placeholder": "Sample ID",
       "style": "IPY_MODEL_d6bb2dfaf1224d2fb7c310ac1ec3913d",
       "value": "-"
      }
     },
     "cf6228db2ae140679ec14ac74a5d0247": {
      "model_module": "@jupyter-widgets/controls",
      "model_module_version": "1.0.0",
      "model_name": "ButtonStyleModel",
      "state": {}
     },
     "cffcaf88bd3b432bac472831ed6b33d3": {
      "model_module": "@jupyter-widgets/base",
      "model_module_version": "1.0.0",
      "model_name": "LayoutModel",
      "state": {
       "width": "80%"
      }
     },
     "d06c95e2393345f8932af7b40616a3e6": {
      "model_module": "@jupyter-widgets/controls",
      "model_module_version": "1.0.0",
      "model_name": "HTMLModel",
      "state": {
       "layout": "IPY_MODEL_463ccf9e5f9e48569343575f205adec3",
       "style": "IPY_MODEL_932cc02db0f04f68aa6f3035a74859e5",
       "value": "no annotation found"
      }
     },
     "d0995ed1839d48dc85eda76152354b9d": {
      "model_module": "@jupyter-widgets/controls",
      "model_module_version": "1.0.0",
      "model_name": "ButtonStyleModel",
      "state": {}
     },
     "d143f8f3eb7f4f1487dc336bc041b1a1": {
      "model_module": "@jupyter-widgets/controls",
      "model_module_version": "1.0.0",
      "model_name": "HBoxModel",
      "state": {
       "children": [
        "IPY_MODEL_a3acabb2369f49b5aa77b77acd4192f4",
        "IPY_MODEL_5c99b41ed6524fbab6a995822dfd431e",
        "IPY_MODEL_e261c0f9a68142a788a4382aafaf37fb"
       ],
       "layout": "IPY_MODEL_e35032dd26d44e02bbc34990f91259c2"
      }
     },
     "d2b2a7ab3d9e4bb1b8f9258ecfbdd050": {
      "model_module": "@jupyter-widgets/controls",
      "model_module_version": "1.0.0",
      "model_name": "ButtonModel",
      "state": {
       "description": "Annotate",
       "layout": "IPY_MODEL_9cec1e91b91e418dbf8596e2c7e9c839",
       "style": "IPY_MODEL_0e032ba7dca64c848bf64209f9e32b63"
      }
     },
     "d313571b489e47faaaab501e167abe62": {
      "model_module": "@jupyter-widgets/controls",
      "model_module_version": "1.0.0",
      "model_name": "DescriptionStyleModel",
      "state": {
       "description_width": ""
      }
     },
     "d39b3bda87b444f9bec70cb9e717ee58": {
      "model_module": "@jupyter-widgets/controls",
      "model_module_version": "1.0.0",
      "model_name": "DescriptionStyleModel",
      "state": {
       "description_width": ""
      }
     },
     "d3d981a1c06f4eee976f65d1dae9e210": {
      "model_module": "@jupyter-widgets/controls",
      "model_module_version": "1.0.0",
      "model_name": "DescriptionStyleModel",
      "state": {
       "description_width": ""
      }
     },
     "d3e2cdb0e15141869579e7e86277678c": {
      "model_module": "@jupyter-widgets/controls",
      "model_module_version": "1.0.0",
      "model_name": "DropdownModel",
      "state": {
       "_options_labels": [
        "ori.order",
        "group",
        "new.order",
        "categorical",
        "_calour_original_abundance"
       ],
       "index": 0,
       "layout": "IPY_MODEL_29e808bc686b4452995d7e9049b7205f",
       "style": "IPY_MODEL_710e9a880e50423e8a2f662cfdbd655b"
      }
     },
     "d3e470dc3e9242f3926abe4394425f39": {
      "model_module": "@jupyter-widgets/controls",
      "model_module_version": "1.0.0",
      "model_name": "DescriptionStyleModel",
      "state": {
       "description_width": ""
      }
     },
     "d40b804cdd9541688c3ab4f9459bc634": {
      "model_module": "@jupyter-widgets/controls",
      "model_module_version": "1.0.0",
      "model_name": "HBoxModel",
      "state": {
       "children": [
        "IPY_MODEL_d3e2cdb0e15141869579e7e86277678c",
        "IPY_MODEL_a00aed31ff3140e98deefa3bd6a0e180"
       ],
       "layout": "IPY_MODEL_df6a0243f4824cdf8dc8a40264604c0d"
      }
     },
     "d59215ebf4b145409800dd999aeb9210": {
      "model_module": "@jupyter-widgets/base",
      "model_module_version": "1.0.0",
      "model_name": "LayoutModel",
      "state": {
       "width": "100%"
      }
     },
     "d6416e07b0d7465692f61a210655ac37": {
      "model_module": "@jupyter-widgets/controls",
      "model_module_version": "1.0.0",
      "model_name": "TextModel",
      "state": {
       "description": "Feature ID",
       "layout": "IPY_MODEL_80c5bc5bac9f4b009ff6369d9b52c34d",
       "placeholder": "Feature ID",
       "style": "IPY_MODEL_1b96d65ac89749b09de255e7b81a7540",
       "value": "-"
      }
     },
     "d6bb2dfaf1224d2fb7c310ac1ec3913d": {
      "model_module": "@jupyter-widgets/controls",
      "model_module_version": "1.0.0",
      "model_name": "DescriptionStyleModel",
      "state": {
       "description_width": ""
      }
     },
     "d7597257851f4b00bbbe9e092bfff7cd": {
      "model_module": "@jupyter-widgets/controls",
      "model_module_version": "1.0.0",
      "model_name": "DescriptionStyleModel",
      "state": {
       "description_width": ""
      }
     },
     "d7a75aa13bdd4fc59f69ad6a2fb88f4c": {
      "model_module": "@jupyter-widgets/base",
      "model_module_version": "1.0.0",
      "model_name": "LayoutModel",
      "state": {
       "width": "20%"
      }
     },
     "d7bfd2ec143b431fb851d4a3b244c499": {
      "model_module": "@jupyter-widgets/controls",
      "model_module_version": "1.0.0",
      "model_name": "LabelModel",
      "state": {
       "layout": "IPY_MODEL_0a933edb5afd437488d1a42c77fc4c62",
       "style": "IPY_MODEL_df0101fc479f41be965d883a51df5aac",
       "value": "0 features are selected"
      }
     },
     "d7fd20b06fce4f118c17aa3b98bce218": {
      "model_module": "@jupyter-widgets/controls",
      "model_module_version": "1.0.0",
      "model_name": "DescriptionStyleModel",
      "state": {
       "description_width": ""
      }
     },
     "d888a561bc434626b3ab86b6c53ddf75": {
      "model_module": "@jupyter-widgets/controls",
      "model_module_version": "1.0.0",
      "model_name": "LabelModel",
      "state": {
       "layout": "IPY_MODEL_f2bc07b742c4414297347865fb806c5b",
       "style": "IPY_MODEL_87cfb34bd339422a9b6cbe42f5d4c59f",
       "value": "1 features are selected"
      }
     },
     "d8c24935b2bc44d986fee186e60eadb8": {
      "model_module": "@jupyter-widgets/controls",
      "model_module_version": "1.0.0",
      "model_name": "FloatTextModel",
      "state": {
       "description": "Abundance",
       "layout": "IPY_MODEL_565b1c6b9e874be098cfd20b625f76fe",
       "step": null,
       "style": "IPY_MODEL_433210ce464844fcb3b51d74ec0d7eec"
      }
     },
     "d931cba4c3cd4b1e94f390b316e9ea4b": {
      "model_module": "@jupyter-widgets/controls",
      "model_module_version": "1.0.0",
      "model_name": "ButtonStyleModel",
      "state": {}
     },
     "d954400a3f614d1ba761ff49e7b98d21": {
      "model_module": "@jupyter-widgets/controls",
      "model_module_version": "1.0.0",
      "model_name": "DescriptionStyleModel",
      "state": {
       "description_width": ""
      }
     },
     "d95d674e1357464bbd808e447980a5cb": {
      "model_module": "@jupyter-widgets/base",
      "model_module_version": "1.0.0",
      "model_name": "LayoutModel",
      "state": {
       "width": "80%"
      }
     },
     "da869a499d2645e4b2748cd1983f39f4": {
      "model_module": "@jupyter-widgets/controls",
      "model_module_version": "1.0.0",
      "model_name": "TextModel",
      "state": {
       "description": "Feature ID",
       "layout": "IPY_MODEL_773cb8dede5f4d728628430598683cc5",
       "placeholder": "Feature ID",
       "style": "IPY_MODEL_c7525fd25fd940b2847868f80d19502d",
       "value": "-"
      }
     },
     "dabc18c0d25e4cee869b075bd6b23195": {
      "model_module": "@jupyter-widgets/base",
      "model_module_version": "1.0.0",
      "model_name": "LayoutModel",
      "state": {
       "width": "20%"
      }
     },
     "dacee143039a45d7a1e313fee5955c53": {
      "model_module": "@jupyter-widgets/controls",
      "model_module_version": "1.0.0",
      "model_name": "LabelModel",
      "state": {
       "layout": "IPY_MODEL_65ac9237364c47539f0048f1655628cc",
       "style": "IPY_MODEL_f2560641d0d84949aff86c64dddcc7c8",
       "value": "1 features are selected"
      }
     },
     "dafcf9781ae14313a9712f3f3ac763a3": {
      "model_module": "@jupyter-widgets/controls",
      "model_module_version": "1.0.0",
      "model_name": "DescriptionStyleModel",
      "state": {
       "description_width": ""
      }
     },
     "db14f6d579c146e0a292895ba3a6cdd2": {
      "model_module": "@jupyter-widgets/base",
      "model_module_version": "1.0.0",
      "model_name": "LayoutModel",
      "state": {}
     },
     "db45bc7126fb406a83877a122908247f": {
      "model_module": "@jupyter-widgets/controls",
      "model_module_version": "1.0.0",
      "model_name": "DescriptionStyleModel",
      "state": {
       "description_width": ""
      }
     },
     "db731c3e066c482494d00b39b4c4662a": {
      "model_module": "@jupyter-widgets/controls",
      "model_module_version": "1.0.0",
      "model_name": "ButtonModel",
      "state": {
       "description": "print axes ranges",
       "layout": "IPY_MODEL_8abd7680e3184166bc837bb4f27fbbc3",
       "style": "IPY_MODEL_86546455beb6418e9f445eb6bc82dc03",
       "tooltip": "Print the x axis and y axis ranges. Useful to pass to `rect` parameter of heatmap() to zoom in the region automatically."
      }
     },
     "dc519691bec749738e7974bd2d9303b7": {
      "model_module": "@jupyter-widgets/controls",
      "model_module_version": "1.0.0",
      "model_name": "ButtonStyleModel",
      "state": {}
     },
     "dc6e298893a744e59909ba0b189be545": {
      "model_module": "@jupyter-widgets/base",
      "model_module_version": "1.0.0",
      "model_name": "LayoutModel",
      "state": {
       "width": "80%"
      }
     },
     "dc8840a850dc4b9a917c76c09a539f1c": {
      "model_module": "@jupyter-widgets/base",
      "model_module_version": "1.0.0",
      "model_name": "LayoutModel",
      "state": {}
     },
     "dd5bca93f27449e3bc2259213e4afd44": {
      "model_module": "@jupyter-widgets/controls",
      "model_module_version": "1.0.0",
      "model_name": "HBoxModel",
      "state": {
       "children": [
        "IPY_MODEL_7e5b78e4cf224243938df1115c7c123e",
        "IPY_MODEL_51108bd934ee4c67a0d92fe4929de68e",
        "IPY_MODEL_735353246d5b449aa382f166533e5323"
       ],
       "layout": "IPY_MODEL_a17decffdb3c42ef9458fe2a83b3720b"
      }
     },
     "de5a5365889047b2bbb3b419e902f70d": {
      "model_module": "@jupyter-widgets/controls",
      "model_module_version": "1.0.0",
      "model_name": "DescriptionStyleModel",
      "state": {
       "description_width": ""
      }
     },
     "de886f79a7e8421ebc9e9d663529c001": {
      "model_module": "@jupyter-widgets/controls",
      "model_module_version": "1.0.0",
      "model_name": "DescriptionStyleModel",
      "state": {
       "description_width": ""
      }
     },
     "dec73cdacb304c478169e640a5e20f33": {
      "model_module": "@jupyter-widgets/controls",
      "model_module_version": "1.0.0",
      "model_name": "DescriptionStyleModel",
      "state": {
       "description_width": ""
      }
     },
     "ded221a894904090a0d64b0ccae8a4e9": {
      "model_module": "@jupyter-widgets/base",
      "model_module_version": "1.0.0",
      "model_name": "LayoutModel",
      "state": {
       "width": "80%"
      }
     },
     "deddb7ce2a1e447989532d08d62045e7": {
      "model_module": "@jupyter-widgets/base",
      "model_module_version": "1.0.0",
      "model_name": "LayoutModel",
      "state": {
       "width": "80%"
      }
     },
     "df0101fc479f41be965d883a51df5aac": {
      "model_module": "@jupyter-widgets/controls",
      "model_module_version": "1.0.0",
      "model_name": "DescriptionStyleModel",
      "state": {
       "description_width": ""
      }
     },
     "df6533249cdc4fa1b0ed510bea9997c6": {
      "model_module": "@jupyter-widgets/controls",
      "model_module_version": "1.0.0",
      "model_name": "HBoxModel",
      "state": {
       "children": [
        "IPY_MODEL_03bff66ed3ff4e259d4d6767ca143e1e",
        "IPY_MODEL_0918fcd942134604b0feb6a4db01ee24",
        "IPY_MODEL_2b4b30636de24a7d87ec9b53a9931001"
       ],
       "layout": "IPY_MODEL_17a595be441a4df3a173bcf7e6d937c2"
      }
     },
     "df6a0243f4824cdf8dc8a40264604c0d": {
      "model_module": "@jupyter-widgets/base",
      "model_module_version": "1.0.0",
      "model_name": "LayoutModel",
      "state": {}
     },
     "df72cbb23b084ef39181a26ef8eee232": {
      "model_module": "@jupyter-widgets/controls",
      "model_module_version": "1.0.0",
      "model_name": "TextModel",
      "state": {
       "description": "Feature ID",
       "layout": "IPY_MODEL_0eb099a48d0a46ed9d2c5c9068ee3cbf",
       "placeholder": "Feature ID",
       "style": "IPY_MODEL_db45bc7126fb406a83877a122908247f",
       "value": "-"
      }
     },
     "e00ff9eaff7c4b6c8dba4543d9743065": {
      "model_module": "@jupyter-widgets/base",
      "model_module_version": "1.0.0",
      "model_name": "LayoutModel",
      "state": {}
     },
     "e01d8976dd3e4188a5515717959c760a": {
      "model_module": "@jupyter-widgets/controls",
      "model_module_version": "1.0.0",
      "model_name": "ButtonModel",
      "state": {
       "description": "print axes ranges",
       "layout": "IPY_MODEL_bb0f8870b40f4c4292b537d42c36d91d",
       "style": "IPY_MODEL_e77d0442d7ef4b05bec08039e3ce28dd",
       "tooltip": "Print the x axis and y axis ranges. Useful to pass to `rect` parameter of heatmap() to zoom in the region automatically."
      }
     },
     "e025ed167a4e45f8b19de4325b880c74": {
      "model_module": "@jupyter-widgets/controls",
      "model_module_version": "1.0.0",
      "model_name": "DescriptionStyleModel",
      "state": {
       "description_width": ""
      }
     },
     "e188e29063d245d5b865ccd346ff8efa": {
      "model_module": "@jupyter-widgets/controls",
      "model_module_version": "1.0.0",
      "model_name": "TextModel",
      "state": {
       "layout": "IPY_MODEL_e21b6b56b6a24315b85bd92d66f3ec6c",
       "placeholder": "sample meta",
       "style": "IPY_MODEL_2e2fc3b9154e4cc086926a7671fbe671",
       "value": "-"
      }
     },
     "e19f08f6a7a94079a4c97293226ed764": {
      "model_module": "@jupyter-widgets/controls",
      "model_module_version": "1.0.0",
      "model_name": "FloatTextModel",
      "state": {
       "description": "Abundance",
       "layout": "IPY_MODEL_5d7e0419d4ec4655b22c5d7169b62c7f",
       "step": null,
       "style": "IPY_MODEL_b4e9d87503fb4709bcc2ada49585adcd"
      }
     },
     "e1a702ca577f46578932187d06c7ed6b": {
      "model_module": "@jupyter-widgets/controls",
      "model_module_version": "1.0.0",
      "model_name": "DescriptionStyleModel",
      "state": {
       "description_width": ""
      }
     },
     "e21b6b56b6a24315b85bd92d66f3ec6c": {
      "model_module": "@jupyter-widgets/base",
      "model_module_version": "1.0.0",
      "model_name": "LayoutModel",
      "state": {
       "width": "80%"
      }
     },
     "e2553d094641498c974282a69cb0ddd1": {
      "model_module": "@jupyter-widgets/base",
      "model_module_version": "1.0.0",
      "model_name": "LayoutModel",
      "state": {
       "width": "80%"
      }
     },
     "e261c0f9a68142a788a4382aafaf37fb": {
      "model_module": "@jupyter-widgets/controls",
      "model_module_version": "1.0.0",
      "model_name": "ButtonModel",
      "state": {
       "description": "Annotate",
       "layout": "IPY_MODEL_66bb3766c4444d948885c4e0d150b6b8",
       "style": "IPY_MODEL_858ef5db577945bda0df0e4f119a8cff"
      }
     },
     "e28c5cc30d5c4923bf62c164dd23084c": {
      "model_module": "@jupyter-widgets/base",
      "model_module_version": "1.0.0",
      "model_name": "LayoutModel",
      "state": {
       "height": "100px",
       "overflow_y": "auto"
      }
     },
     "e2f6215f3c8a4b4e9fa58466faaa0b56": {
      "model_module": "@jupyter-widgets/base",
      "model_module_version": "1.0.0",
      "model_name": "LayoutModel",
      "state": {
       "height": "100px",
       "overflow_y": "auto"
      }
     },
     "e33f725ed57145cfa921fe0f15d67d49": {
      "model_module": "@jupyter-widgets/base",
      "model_module_version": "1.0.0",
      "model_name": "LayoutModel",
      "state": {
       "width": "80%"
      }
     },
     "e35032dd26d44e02bbc34990f91259c2": {
      "model_module": "@jupyter-widgets/base",
      "model_module_version": "1.0.0",
      "model_name": "LayoutModel",
      "state": {}
     },
     "e3e571cce4de4f12a18096b0298e9ae7": {
      "model_module": "@jupyter-widgets/base",
      "model_module_version": "1.0.0",
      "model_name": "LayoutModel",
      "state": {}
     },
     "e3f77d3d2f264656abcc6a1b209fbf5b": {
      "model_module": "@jupyter-widgets/controls",
      "model_module_version": "1.0.0",
      "model_name": "HBoxModel",
      "state": {
       "children": [
        "IPY_MODEL_36fb6a81180c48d68e3c1213de0693c1",
        "IPY_MODEL_fee7f0bee991456d91b81654bfa40d47",
        "IPY_MODEL_8e98071a10f64bbe973f661397fb9905"
       ],
       "layout": "IPY_MODEL_041ae82cfe7043b681e697b0de4a6cb7"
      }
     },
     "e40cc68957154694a03642a59ea71bbb": {
      "model_module": "@jupyter-widgets/base",
      "model_module_version": "1.0.0",
      "model_name": "LayoutModel",
      "state": {}
     },
     "e483774b63b64cdda9c557aa3c8d70b9": {
      "model_module": "@jupyter-widgets/base",
      "model_module_version": "1.0.0",
      "model_name": "LayoutModel",
      "state": {}
     },
     "e4bf18ee5d5740238c505c1defb7026e": {
      "model_module": "@jupyter-widgets/base",
      "model_module_version": "1.0.0",
      "model_name": "LayoutModel",
      "state": {}
     },
     "e5af046a55e84cc08199c28d86dd60ba": {
      "model_module": "@jupyter-widgets/base",
      "model_module_version": "1.0.0",
      "model_name": "LayoutModel",
      "state": {
       "width": "80%"
      }
     },
     "e5c7ccb9dc224b3e93a57929237dea0a": {
      "model_module": "@jupyter-widgets/controls",
      "model_module_version": "1.0.0",
      "model_name": "FloatTextModel",
      "state": {
       "description": "Abundance",
       "layout": "IPY_MODEL_f00d265f4407431c9b6f1160207fdc81",
       "step": null,
       "style": "IPY_MODEL_1f3e1bb65140435b8d35fa3271d8d3ed",
       "value": 767.2727272727273
      }
     },
     "e5fde036ecc54c3ab9b454f664f228cf": {
      "model_module": "@jupyter-widgets/controls",
      "model_module_version": "1.0.0",
      "model_name": "TextModel",
      "state": {
       "layout": "IPY_MODEL_aaf1e2a904274269925ae15bde5ebf6b",
       "placeholder": "feature meta",
       "style": "IPY_MODEL_c3d8d47f143a475cb38cdea8b41c19bc",
       "value": "-"
      }
     },
     "e645d7359c8d49039234e2ac88b11a85": {
      "model_module": "@jupyter-widgets/base",
      "model_module_version": "1.0.0",
      "model_name": "LayoutModel",
      "state": {
       "width": "100%"
      }
     },
     "e684e8dd927b49619c5aa7438782afcd": {
      "model_module": "@jupyter-widgets/base",
      "model_module_version": "1.0.0",
      "model_name": "LayoutModel",
      "state": {
       "width": "20%"
      }
     },
     "e71c9cdd86744c64a7a7e795fac33ef0": {
      "model_module": "@jupyter-widgets/controls",
      "model_module_version": "1.0.0",
      "model_name": "DropdownModel",
      "state": {
       "_options_labels": [
        "ori.order",
        "group",
        "new.order",
        "categorical",
        "_calour_original_abundance"
       ],
       "index": 0,
       "layout": "IPY_MODEL_d7a75aa13bdd4fc59f69ad6a2fb88f4c",
       "style": "IPY_MODEL_5706ba7662414e09bee0759455e33856"
      }
     },
     "e7332e7508064f9ab0dc7129ca5814b5": {
      "model_module": "@jupyter-widgets/base",
      "model_module_version": "1.0.0",
      "model_name": "LayoutModel",
      "state": {}
     },
     "e73941486eab497da45f1fe2014cf016": {
      "model_module": "@jupyter-widgets/controls",
      "model_module_version": "1.0.0",
      "model_name": "TextModel",
      "state": {
       "description": "Feature ID",
       "layout": "IPY_MODEL_565b1c6b9e874be098cfd20b625f76fe",
       "placeholder": "Feature ID",
       "style": "IPY_MODEL_f99f0e3372b94545a99212a8e15502c0",
       "value": "TA"
      }
     },
     "e77c61601f3e4d23be53604bfa63b427": {
      "model_module": "@jupyter-widgets/controls",
      "model_module_version": "1.0.0",
      "model_name": "HBoxModel",
      "state": {
       "children": [
        "IPY_MODEL_63934eef274e419b98c33f370b7a8b9c",
        "IPY_MODEL_fda45d9d440548b79ae727f9c249d0b3"
       ],
       "layout": "IPY_MODEL_59813787b85646d7a5aba17eb6548f90"
      }
     },
     "e77d0442d7ef4b05bec08039e3ce28dd": {
      "model_module": "@jupyter-widgets/controls",
      "model_module_version": "1.0.0",
      "model_name": "ButtonStyleModel",
      "state": {}
     },
     "e78b775f90b54433b7c6c993b393d783": {
      "model_module": "@jupyter-widgets/base",
      "model_module_version": "1.0.0",
      "model_name": "LayoutModel",
      "state": {
       "width": "20%"
      }
     },
     "e7fe72a74b0e4c3cb165d044c2990c47": {
      "model_module": "@jupyter-widgets/base",
      "model_module_version": "1.0.0",
      "model_name": "LayoutModel",
      "state": {}
     },
     "e858d7ed581b4904838b59e46e5a8a84": {
      "model_module": "@jupyter-widgets/base",
      "model_module_version": "1.0.0",
      "model_name": "LayoutModel",
      "state": {}
     },
     "e859ed715c7343db972d9b9945fee8f4": {
      "model_module": "@jupyter-widgets/controls",
      "model_module_version": "1.0.0",
      "model_name": "HBoxModel",
      "state": {
       "children": [
        "IPY_MODEL_8befc7c1c1fc4bfa949fdadb70e0ddad",
        "IPY_MODEL_df72cbb23b084ef39181a26ef8eee232",
        "IPY_MODEL_121ba1781cd647fb89530aaafdf1a241"
       ],
       "layout": "IPY_MODEL_0916bd9112904822aba6f4e7ba6ccc37"
      }
     },
     "e85ff357e1e941ef95c1f4c4e471278e": {
      "model_module": "@jupyter-widgets/base",
      "model_module_version": "1.0.0",
      "model_name": "LayoutModel",
      "state": {
       "width": "20%"
      }
     },
     "e861d332fb004e78a55d3d6b80d56bce": {
      "model_module": "@jupyter-widgets/controls",
      "model_module_version": "1.0.0",
      "model_name": "DescriptionStyleModel",
      "state": {
       "description_width": ""
      }
     },
     "e8622ae6264e44a69ce804a25a56e906": {
      "model_module": "@jupyter-widgets/base",
      "model_module_version": "1.0.0",
      "model_name": "LayoutModel",
      "state": {}
     },
     "e871b23b4b534364be1603d87700353e": {
      "model_module": "@jupyter-widgets/base",
      "model_module_version": "1.0.0",
      "model_name": "LayoutModel",
      "state": {}
     },
     "e88b79b8f16949a2a6d58581fdbd58a9": {
      "model_module": "@jupyter-widgets/base",
      "model_module_version": "1.0.0",
      "model_name": "LayoutModel",
      "state": {
       "width": "80%"
      }
     },
     "e8ad69a11b824ac89de5ff7d2b13da15": {
      "model_module": "@jupyter-widgets/controls",
      "model_module_version": "1.0.0",
      "model_name": "TextModel",
      "state": {
       "description": "Sample ID",
       "layout": "IPY_MODEL_0fe4437f03514de2a3929adfcab239a3",
       "placeholder": "Sample ID",
       "style": "IPY_MODEL_841fa30f5835461d83723cac9991d217",
       "value": "-"
      }
     },
     "e92c6a864cc747e9b91def861fcec3d5": {
      "model_module": "@jupyter-widgets/controls",
      "model_module_version": "1.0.0",
      "model_name": "ButtonModel",
      "state": {
       "description": "Annotate",
       "layout": "IPY_MODEL_f135d4db36aa4909bb0f8cd022a7ee40",
       "style": "IPY_MODEL_6223e83501cd46599813c973d7de8656"
      }
     },
     "e92f6c43518f4ce183b878b306c7fd5d": {
      "model_module": "@jupyter-widgets/base",
      "model_module_version": "1.0.0",
      "model_name": "LayoutModel",
      "state": {}
     },
     "e9cef8e68c944ed7b838de4db72b609c": {
      "model_module": "@jupyter-widgets/controls",
      "model_module_version": "1.0.0",
      "model_name": "LabelModel",
      "state": {
       "layout": "IPY_MODEL_a93ef3365c3d4bef9155fc296849f5f8",
       "style": "IPY_MODEL_fdb92ade80f74eeead0e32ac89ba0912",
       "value": "0 features are selected"
      }
     },
     "e9ee8ed6b979409e904c883d3fad034b": {
      "model_module": "@jupyter-widgets/base",
      "model_module_version": "1.0.0",
      "model_name": "LayoutModel",
      "state": {
       "width": "80%"
      }
     },
     "ea5507ad074f4247962014b1b9a5350c": {
      "model_module": "@jupyter-widgets/controls",
      "model_module_version": "1.0.0",
      "model_name": "TextModel",
      "state": {
       "description": "Sample ID",
       "layout": "IPY_MODEL_773cb8dede5f4d728628430598683cc5",
       "placeholder": "Sample ID",
       "style": "IPY_MODEL_acd000fbeb2e4b6c9e5e67b954e23bd8",
       "value": "-"
      }
     },
     "eacd14c5f8174e70abc48f6af3752b70": {
      "model_module": "@jupyter-widgets/base",
      "model_module_version": "1.0.0",
      "model_name": "LayoutModel",
      "state": {}
     },
     "eb301619e7274e84bf5ea4435c8ef35c": {
      "model_module": "@jupyter-widgets/controls",
      "model_module_version": "1.0.0",
      "model_name": "ButtonModel",
      "state": {
       "description": "Annotate",
       "layout": "IPY_MODEL_2bfb81ad23ac4a45baa2a3e07d12d60c",
       "style": "IPY_MODEL_55d907b31fa84b448d8f1aad19c0df60"
      }
     },
     "eb416d4fc8084a5c9ce91c8c0ef6846c": {
      "model_module": "@jupyter-widgets/controls",
      "model_module_version": "1.0.0",
      "model_name": "DescriptionStyleModel",
      "state": {
       "description_width": ""
      }
     },
     "eb5873d689c945bebbb75ea92831f359": {
      "model_module": "@jupyter-widgets/base",
      "model_module_version": "1.0.0",
      "model_name": "LayoutModel",
      "state": {
       "width": "100%"
      }
     },
     "ec844700ca8443469b19506bc2aa37ef": {
      "model_module": "@jupyter-widgets/controls",
      "model_module_version": "1.0.0",
      "model_name": "HTMLModel",
      "state": {
       "layout": "IPY_MODEL_4d9ebfcc416f45a3bc4640a12862b93b",
       "style": "IPY_MODEL_60649a3b46c64cb8a93dc859d9388808",
       "value": "<style> a:link {color:black; background-color:transparent; text-decoration:none}a:visited {color:black; background-color:transparent; text-decoration:none}</style><p style=\"color:black;white-space:nowrap;\"><a href=\"http://dbbact.org/annotation_info/NA\"   target=\"_blank\">No annotation found in database dbBact</a></p>"
      }
     },
     "ecd4c081588e4208aef03886f1406ce6": {
      "model_module": "@jupyter-widgets/base",
      "model_module_version": "1.0.0",
      "model_name": "LayoutModel",
      "state": {
       "width": "20%"
      }
     },
     "ecd7d27d1b4547efaf71ece1dfb7463a": {
      "model_module": "@jupyter-widgets/controls",
      "model_module_version": "1.0.0",
      "model_name": "DescriptionStyleModel",
      "state": {
       "description_width": ""
      }
     },
     "ecedbf261dba4bf6ba6b35ac3bbcf5d1": {
      "model_module": "@jupyter-widgets/controls",
      "model_module_version": "1.0.0",
      "model_name": "ButtonStyleModel",
      "state": {}
     },
     "edfa1bbc094c4adda04362ee3a37442d": {
      "model_module": "@jupyter-widgets/base",
      "model_module_version": "1.0.0",
      "model_name": "LayoutModel",
      "state": {}
     },
     "eec2a448499d4e71bd76926c521cd3fe": {
      "model_module": "@jupyter-widgets/controls",
      "model_module_version": "1.0.0",
      "model_name": "ButtonStyleModel",
      "state": {}
     },
     "eef1b0e464e34f7f962a9b1c73d43754": {
      "model_module": "@jupyter-widgets/base",
      "model_module_version": "1.0.0",
      "model_name": "LayoutModel",
      "state": {}
     },
     "ef2fb6bdf77242dca72164d2ab57a968": {
      "model_module": "@jupyter-widgets/base",
      "model_module_version": "1.0.0",
      "model_name": "LayoutModel",
      "state": {
       "width": "20%"
      }
     },
     "f00d265f4407431c9b6f1160207fdc81": {
      "model_module": "@jupyter-widgets/base",
      "model_module_version": "1.0.0",
      "model_name": "LayoutModel",
      "state": {
       "width": "100%"
      }
     },
     "f017309af9ce4009baf89347e8da140d": {
      "model_module": "@jupyter-widgets/controls",
      "model_module_version": "1.0.0",
      "model_name": "DescriptionStyleModel",
      "state": {
       "description_width": ""
      }
     },
     "f069355a505548daab227402416d8735": {
      "model_module": "@jupyter-widgets/base",
      "model_module_version": "1.0.0",
      "model_name": "LayoutModel",
      "state": {}
     },
     "f135d4db36aa4909bb0f8cd022a7ee40": {
      "model_module": "@jupyter-widgets/base",
      "model_module_version": "1.0.0",
      "model_name": "LayoutModel",
      "state": {}
     },
     "f16ea498af894761acde79303d5fdba3": {
      "model_module": "@jupyter-widgets/controls",
      "model_module_version": "1.0.0",
      "model_name": "ButtonStyleModel",
      "state": {}
     },
     "f1d6f03421744fb8b7dd8eb3cf00fc4e": {
      "model_module": "@jupyter-widgets/controls",
      "model_module_version": "1.0.0",
      "model_name": "ButtonModel",
      "state": {
       "description": "Save",
       "layout": "IPY_MODEL_bc309ced75cb41b3809636e1ebdb6c08",
       "style": "IPY_MODEL_7a817942ba3542bfafc40461d82c05f1",
       "tooltip": "Save the selection(s)"
      }
     },
     "f1ea95ca57304dd592563270d5ba2a90": {
      "model_module": "@jupyter-widgets/controls",
      "model_module_version": "1.0.0",
      "model_name": "ButtonModel",
      "state": {
       "description": "print axes ranges",
       "layout": "IPY_MODEL_44705496aa0c4ec488da67db63d7cdc6",
       "style": "IPY_MODEL_0a3dbc9e3d4344749c3bf9fdfb9286c0",
       "tooltip": "Print the x axis and y axis ranges. Useful to pass to `rect` parameter of heatmap() to zoom in the region automatically."
      }
     },
     "f24fa96118a844a0859a8b7f7ad5a60e": {
      "model_module": "@jupyter-widgets/base",
      "model_module_version": "1.0.0",
      "model_name": "LayoutModel",
      "state": {}
     },
     "f2560641d0d84949aff86c64dddcc7c8": {
      "model_module": "@jupyter-widgets/controls",
      "model_module_version": "1.0.0",
      "model_name": "DescriptionStyleModel",
      "state": {
       "description_width": ""
      }
     },
     "f2ac8ebefe854958a92d662aa815be07": {
      "model_module": "@jupyter-widgets/controls",
      "model_module_version": "1.0.0",
      "model_name": "ButtonModel",
      "state": {
       "description": "Annotate",
       "layout": "IPY_MODEL_83f220c4c3154575b6bc91246594bdb3",
       "style": "IPY_MODEL_50d91fe195e14cbfabd45f9c2270b3a3"
      }
     },
     "f2bc07b742c4414297347865fb806c5b": {
      "model_module": "@jupyter-widgets/base",
      "model_module_version": "1.0.0",
      "model_name": "LayoutModel",
      "state": {}
     },
     "f381a21ef11c4198b9c4c4dcbea2b451": {
      "model_module": "@jupyter-widgets/controls",
      "model_module_version": "1.0.0",
      "model_name": "HBoxModel",
      "state": {
       "children": [
        "IPY_MODEL_336d2c9752d943d387b7a98127cf5e54",
        "IPY_MODEL_1be9ad42625e48cfbce132d77aeefcaf",
        "IPY_MODEL_8c487dd769f54b7b94569691916fb0c7"
       ],
       "layout": "IPY_MODEL_6f8908526ebe4dfba8f58bb8372f84f8"
      }
     },
     "f395051445ed40728dd0eee5ad7b6f8f": {
      "model_module": "@jupyter-widgets/controls",
      "model_module_version": "1.0.0",
      "model_name": "ButtonStyleModel",
      "state": {}
     },
     "f431bb5957f84f60a5fbc3e3f64baaf5": {
      "model_module": "@jupyter-widgets/controls",
      "model_module_version": "1.0.0",
      "model_name": "TextModel",
      "state": {
       "description": "Feature ID",
       "layout": "IPY_MODEL_5d7e0419d4ec4655b22c5d7169b62c7f",
       "placeholder": "Feature ID",
       "style": "IPY_MODEL_4ffc944b0ad5429397444de5a2179e61",
       "value": "-"
      }
     },
     "f5449ae346864da8a7e3f72e5804355f": {
      "model_module": "@jupyter-widgets/controls",
      "model_module_version": "1.0.0",
      "model_name": "TextModel",
      "state": {
       "layout": "IPY_MODEL_f8f3af89f8df4f8ebbba9ef2745cb57d",
       "placeholder": "sample meta",
       "style": "IPY_MODEL_23b061e4a6d6467bbe15094c7375cb96",
       "value": "-"
      }
     },
     "f5a856e3904c429aa8a230729cf00bf3": {
      "model_module": "@jupyter-widgets/controls",
      "model_module_version": "1.0.0",
      "model_name": "TextModel",
      "state": {
       "layout": "IPY_MODEL_c91c380a4bf44a68a414e5f0461d18fd",
       "placeholder": "sample meta",
       "style": "IPY_MODEL_e1a702ca577f46578932187d06c7ed6b",
       "value": "6"
      }
     },
     "f62fdecc01eb49fcb29a099cf8dc13e2": {
      "model_module": "@jupyter-widgets/controls",
      "model_module_version": "1.0.0",
      "model_name": "DescriptionStyleModel",
      "state": {
       "description_width": ""
      }
     },
     "f643626637a043cf93c833dab125347a": {
      "model_module": "@jupyter-widgets/base",
      "model_module_version": "1.0.0",
      "model_name": "LayoutModel",
      "state": {}
     },
     "f65e8fbb0d6d4f26a2395cbf5325f119": {
      "model_module": "@jupyter-widgets/controls",
      "model_module_version": "1.0.0",
      "model_name": "DescriptionStyleModel",
      "state": {
       "description_width": ""
      }
     },
     "f66fd8bff6a847839d2b939a2daeb1c4": {
      "model_module": "@jupyter-widgets/controls",
      "model_module_version": "1.0.0",
      "model_name": "HTMLModel",
      "state": {
       "layout": "IPY_MODEL_41aa402ee7d14626a93a4fd8eb2fdf72",
       "style": "IPY_MODEL_22f53a34a2bd4748a14ca0ae7398e231",
       "value": "no annotation found"
      }
     },
     "f7629e405cd54f89af940ada9ecc0ff8": {
      "model_module": "@jupyter-widgets/base",
      "model_module_version": "1.0.0",
      "model_name": "LayoutModel",
      "state": {}
     },
     "f88872a804bc43ed9a908b306dd8436d": {
      "model_module": "@jupyter-widgets/controls",
      "model_module_version": "1.0.0",
      "model_name": "ButtonStyleModel",
      "state": {}
     },
     "f8c78431a7ba42ecb851602b9df0d837": {
      "model_module": "@jupyter-widgets/controls",
      "model_module_version": "1.0.0",
      "model_name": "DescriptionStyleModel",
      "state": {
       "description_width": ""
      }
     },
     "f8f2509347ce4216930b3b739010eeb0": {
      "model_module": "@jupyter-widgets/base",
      "model_module_version": "1.0.0",
      "model_name": "LayoutModel",
      "state": {}
     },
     "f8f3af89f8df4f8ebbba9ef2745cb57d": {
      "model_module": "@jupyter-widgets/base",
      "model_module_version": "1.0.0",
      "model_name": "LayoutModel",
      "state": {
       "width": "80%"
      }
     },
     "f99f0e3372b94545a99212a8e15502c0": {
      "model_module": "@jupyter-widgets/controls",
      "model_module_version": "1.0.0",
      "model_name": "DescriptionStyleModel",
      "state": {
       "description_width": ""
      }
     },
     "f9df0261d0744316926b1e4b3696e71b": {
      "model_module": "@jupyter-widgets/controls",
      "model_module_version": "1.0.0",
      "model_name": "ButtonStyleModel",
      "state": {}
     },
     "fa2e3ed2c34e40978a63ddc618ddd2ad": {
      "model_module": "@jupyter-widgets/base",
      "model_module_version": "1.0.0",
      "model_name": "LayoutModel",
      "state": {}
     },
     "fb0d20d518b54a85950da404e23b9bf1": {
      "model_module": "@jupyter-widgets/base",
      "model_module_version": "1.0.0",
      "model_name": "LayoutModel",
      "state": {
       "height": "100px",
       "overflow_y": "auto"
      }
     },
     "fb2bc2f08bf94fac954692de749449a2": {
      "model_module": "@jupyter-widgets/controls",
      "model_module_version": "1.0.0",
      "model_name": "DescriptionStyleModel",
      "state": {
       "description_width": ""
      }
     },
     "fbbfdde6408d4d7d9e6044ff76ed23a3": {
      "model_module": "@jupyter-widgets/controls",
      "model_module_version": "1.0.0",
      "model_name": "ButtonStyleModel",
      "state": {}
     },
     "fda45d9d440548b79ae727f9c249d0b3": {
      "model_module": "@jupyter-widgets/controls",
      "model_module_version": "1.0.0",
      "model_name": "TextModel",
      "state": {
       "layout": "IPY_MODEL_b7dab112f0ae4cf1919e49f4a35f8fbd",
       "placeholder": "feature meta",
       "style": "IPY_MODEL_7dbddc9d7d2843ccb0bf1617f18d25d2",
       "value": "-"
      }
     },
     "fdb92ade80f74eeead0e32ac89ba0912": {
      "model_module": "@jupyter-widgets/controls",
      "model_module_version": "1.0.0",
      "model_name": "DescriptionStyleModel",
      "state": {
       "description_width": ""
      }
     },
     "fe17a9f6eb674a01bf2b574371434fa7": {
      "model_module": "@jupyter-widgets/base",
      "model_module_version": "1.0.0",
      "model_name": "LayoutModel",
      "state": {}
     },
     "fe227c119f344263bbc579a5c9c24ebd": {
      "model_module": "@jupyter-widgets/controls",
      "model_module_version": "1.0.0",
      "model_name": "DescriptionStyleModel",
      "state": {
       "description_width": ""
      }
     },
     "fe5d837c7ba7440a913f182b402e409f": {
      "model_module": "@jupyter-widgets/base",
      "model_module_version": "1.0.0",
      "model_name": "LayoutModel",
      "state": {}
     },
     "fea90bb19aeb4cc5a44fcda09262ac35": {
      "model_module": "@jupyter-widgets/controls",
      "model_module_version": "1.0.0",
      "model_name": "HBoxModel",
      "state": {
       "children": [
        "IPY_MODEL_7b627dc3f6f943d3824e1c9e6ec3c60a",
        "IPY_MODEL_f5449ae346864da8a7e3f72e5804355f"
       ],
       "layout": "IPY_MODEL_403ccc4602c54ebf9c5913e99ca37ce7"
      }
     },
     "fee7f0bee991456d91b81654bfa40d47": {
      "model_module": "@jupyter-widgets/controls",
      "model_module_version": "1.0.0",
      "model_name": "TextModel",
      "state": {
       "description": "Feature ID",
       "layout": "IPY_MODEL_d59215ebf4b145409800dd999aeb9210",
       "placeholder": "Feature ID",
       "style": "IPY_MODEL_16f43a8c6b264025a2b6f27fd1d1a7b8",
       "value": "TA"
      }
     },
     "ff447792a03a4727a8929c3f91697ae0": {
      "model_module": "@jupyter-widgets/controls",
      "model_module_version": "1.0.0",
      "model_name": "ButtonModel",
      "state": {
       "description": "print axes ranges",
       "layout": "IPY_MODEL_9a0b3f943c234e00a1a9b561b6501020",
       "style": "IPY_MODEL_2a79dfa401c949a59b6432958fb07569",
       "tooltip": "Print the x axis and y axis ranges. Useful to pass to `rect` parameter of heatmap() to zoom in the region automatically."
      }
     },
     "ff776c412b9b4ebe837047240a71f1f1": {
      "model_module": "@jupyter-widgets/controls",
      "model_module_version": "1.0.0",
      "model_name": "ButtonModel",
      "state": {
       "description": "Annotate",
       "layout": "IPY_MODEL_1aceff07744c4442ab914d6ffe4c7528",
       "style": "IPY_MODEL_aba8b415a4a24b819e90e3c9fe6536dc"
      }
     },
     "ff9930cba4944728bc3ab7d67dfe37ba": {
      "model_module": "@jupyter-widgets/controls",
      "model_module_version": "1.0.0",
      "model_name": "DescriptionStyleModel",
      "state": {
       "description_width": ""
      }
     },
     "ffb99856481a41c8af1402e46612c9bd": {
      "model_module": "@jupyter-widgets/controls",
      "model_module_version": "1.0.0",
      "model_name": "TextModel",
      "state": {
       "description": "Feature ID",
       "layout": "IPY_MODEL_6a78243a8abb4458b19ae1a0500dab91",
       "placeholder": "Feature ID",
       "style": "IPY_MODEL_99214093a1354cc893fa705705f32128",
       "value": "-"
      }
     },
     "ffbc70be7ab041438df3d5e5ea61d049": {
      "model_module": "@jupyter-widgets/controls",
      "model_module_version": "1.0.0",
      "model_name": "ButtonStyleModel",
      "state": {}
     }
    },
    "version_major": 2,
    "version_minor": 0
   }
  }
 },
 "nbformat": 4,
 "nbformat_minor": 1
}
