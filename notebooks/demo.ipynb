{
 "cells": [
  {
   "cell_type": "code",
   "execution_count": 1,
   "metadata": {
    "collapsed": true
   },
   "outputs": [],
   "source": [
    "%matplotlib notebook\n",
    "import calour as ca\n",
    "import matplotlib as mpl"
   ]
  },
  {
   "cell_type": "markdown",
   "metadata": {},
   "source": [
    "# Simple Cases"
   ]
  },
  {
   "cell_type": "code",
   "execution_count": 9,
   "metadata": {},
   "outputs": [
    {
     "data": {
      "text/html": [
       "<div>\n",
       "<style>\n",
       "    .dataframe thead tr:only-child th {\n",
       "        text-align: right;\n",
       "    }\n",
       "\n",
       "    .dataframe thead th {\n",
       "        text-align: left;\n",
       "    }\n",
       "\n",
       "    .dataframe tbody tr th {\n",
       "        vertical-align: top;\n",
       "    }\n",
       "</style>\n",
       "<table border=\"1\" class=\"dataframe\">\n",
       "  <thead>\n",
       "    <tr style=\"text-align: right;\">\n",
       "      <th></th>\n",
       "      <th>oxygen</th>\n",
       "      <th>ph</th>\n",
       "      <th>level1</th>\n",
       "      <th>level2</th>\n",
       "      <th>new.order</th>\n",
       "      <th>ori.order</th>\n",
       "      <th>taxonomy</th>\n",
       "    </tr>\n",
       "    <tr>\n",
       "      <th>#OTUID</th>\n",
       "      <th></th>\n",
       "      <th></th>\n",
       "      <th></th>\n",
       "      <th></th>\n",
       "      <th></th>\n",
       "      <th></th>\n",
       "      <th></th>\n",
       "    </tr>\n",
       "  </thead>\n",
       "  <tbody>\n",
       "    <tr>\n",
       "      <th>AA</th>\n",
       "      <td>aerobic</td>\n",
       "      <td>4.0</td>\n",
       "      <td>B</td>\n",
       "      <td>4</td>\n",
       "      <td>2</td>\n",
       "      <td>0</td>\n",
       "      <td>k__Bacteria; p__Bacteroidetes; c__Bacteroidia;...</td>\n",
       "    </tr>\n",
       "    <tr>\n",
       "      <th>AT</th>\n",
       "      <td>aerobic</td>\n",
       "      <td>4.1</td>\n",
       "      <td>C</td>\n",
       "      <td>1</td>\n",
       "      <td>4</td>\n",
       "      <td>1</td>\n",
       "      <td>k__Bacteria; p__Tenericutes; c__Mollicutes; o_...</td>\n",
       "    </tr>\n",
       "    <tr>\n",
       "      <th>AG</th>\n",
       "      <td>aerobic</td>\n",
       "      <td>4.2</td>\n",
       "      <td>A</td>\n",
       "      <td>2</td>\n",
       "      <td>1</td>\n",
       "      <td>2</td>\n",
       "      <td>k__Bacteria; p__Proteobacteria; c__Betaproteob...</td>\n",
       "    </tr>\n",
       "    <tr>\n",
       "      <th>AC</th>\n",
       "      <td>aerobic</td>\n",
       "      <td>4.4</td>\n",
       "      <td>A</td>\n",
       "      <td>0</td>\n",
       "      <td>0</td>\n",
       "      <td>3</td>\n",
       "      <td>k__Bacteria; p__Firmicutes; c__Clostridia; o__...</td>\n",
       "    </tr>\n",
       "    <tr>\n",
       "      <th>TA</th>\n",
       "      <td>aerobic</td>\n",
       "      <td>4.5</td>\n",
       "      <td>F</td>\n",
       "      <td>5</td>\n",
       "      <td>7</td>\n",
       "      <td>4</td>\n",
       "      <td>k__Bacteria; p__Bacteroidetes; c__Flavobacteri...</td>\n",
       "    </tr>\n",
       "    <tr>\n",
       "      <th>TT</th>\n",
       "      <td>aerobic</td>\n",
       "      <td>4.6</td>\n",
       "      <td>E</td>\n",
       "      <td>7</td>\n",
       "      <td>6</td>\n",
       "      <td>5</td>\n",
       "      <td>k__Bacteria; p__Actinobacteria; c__Actinobacte...</td>\n",
       "    </tr>\n",
       "    <tr>\n",
       "      <th>TG</th>\n",
       "      <td>anaerobic</td>\n",
       "      <td>5.0</td>\n",
       "      <td>B</td>\n",
       "      <td>6</td>\n",
       "      <td>3</td>\n",
       "      <td>6</td>\n",
       "      <td>k__Bacteria; p__Firmicutes; c__Clostridia; o__...</td>\n",
       "    </tr>\n",
       "    <tr>\n",
       "      <th>TC</th>\n",
       "      <td>anaerobic</td>\n",
       "      <td>5.3</td>\n",
       "      <td>D</td>\n",
       "      <td>3</td>\n",
       "      <td>5</td>\n",
       "      <td>7</td>\n",
       "      <td>Unknown</td>\n",
       "    </tr>\n",
       "  </tbody>\n",
       "</table>\n",
       "</div>"
      ],
      "text/plain": [
       "           oxygen   ph level1  level2  new.order  ori.order  \\\n",
       "#OTUID                                                        \n",
       "AA        aerobic  4.0      B       4          2          0   \n",
       "AT        aerobic  4.1      C       1          4          1   \n",
       "AG        aerobic  4.2      A       2          1          2   \n",
       "AC        aerobic  4.4      A       0          0          3   \n",
       "TA        aerobic  4.5      F       5          7          4   \n",
       "TT        aerobic  4.6      E       7          6          5   \n",
       "TG      anaerobic  5.0      B       6          3          6   \n",
       "TC      anaerobic  5.3      D       3          5          7   \n",
       "\n",
       "                                                 taxonomy  \n",
       "#OTUID                                                     \n",
       "AA      k__Bacteria; p__Bacteroidetes; c__Bacteroidia;...  \n",
       "AT      k__Bacteria; p__Tenericutes; c__Mollicutes; o_...  \n",
       "AG      k__Bacteria; p__Proteobacteria; c__Betaproteob...  \n",
       "AC      k__Bacteria; p__Firmicutes; c__Clostridia; o__...  \n",
       "TA      k__Bacteria; p__Bacteroidetes; c__Flavobacteri...  \n",
       "TT      k__Bacteria; p__Actinobacteria; c__Actinobacte...  \n",
       "TG      k__Bacteria; p__Firmicutes; c__Clostridia; o__...  \n",
       "TC                                                Unknown  "
      ]
     },
     "execution_count": 9,
     "metadata": {},
     "output_type": "execute_result"
    }
   ],
   "source": [
    "a.feature_metadata"
   ]
  },
  {
   "cell_type": "code",
   "execution_count": 10,
   "metadata": {
    "scrolled": false
   },
   "outputs": [
    {
     "data": {
      "application/javascript": [
       "/* Put everything inside the global mpl namespace */\n",
       "window.mpl = {};\n",
       "\n",
       "\n",
       "mpl.get_websocket_type = function() {\n",
       "    if (typeof(WebSocket) !== 'undefined') {\n",
       "        return WebSocket;\n",
       "    } else if (typeof(MozWebSocket) !== 'undefined') {\n",
       "        return MozWebSocket;\n",
       "    } else {\n",
       "        alert('Your browser does not have WebSocket support.' +\n",
       "              'Please try Chrome, Safari or Firefox ≥ 6. ' +\n",
       "              'Firefox 4 and 5 are also supported but you ' +\n",
       "              'have to enable WebSockets in about:config.');\n",
       "    };\n",
       "}\n",
       "\n",
       "mpl.figure = function(figure_id, websocket, ondownload, parent_element) {\n",
       "    this.id = figure_id;\n",
       "\n",
       "    this.ws = websocket;\n",
       "\n",
       "    this.supports_binary = (this.ws.binaryType != undefined);\n",
       "\n",
       "    if (!this.supports_binary) {\n",
       "        var warnings = document.getElementById(\"mpl-warnings\");\n",
       "        if (warnings) {\n",
       "            warnings.style.display = 'block';\n",
       "            warnings.textContent = (\n",
       "                \"This browser does not support binary websocket messages. \" +\n",
       "                    \"Performance may be slow.\");\n",
       "        }\n",
       "    }\n",
       "\n",
       "    this.imageObj = new Image();\n",
       "\n",
       "    this.context = undefined;\n",
       "    this.message = undefined;\n",
       "    this.canvas = undefined;\n",
       "    this.rubberband_canvas = undefined;\n",
       "    this.rubberband_context = undefined;\n",
       "    this.format_dropdown = undefined;\n",
       "\n",
       "    this.image_mode = 'full';\n",
       "\n",
       "    this.root = $('<div/>');\n",
       "    this._root_extra_style(this.root)\n",
       "    this.root.attr('style', 'display: inline-block');\n",
       "\n",
       "    $(parent_element).append(this.root);\n",
       "\n",
       "    this._init_header(this);\n",
       "    this._init_canvas(this);\n",
       "    this._init_toolbar(this);\n",
       "\n",
       "    var fig = this;\n",
       "\n",
       "    this.waiting = false;\n",
       "\n",
       "    this.ws.onopen =  function () {\n",
       "            fig.send_message(\"supports_binary\", {value: fig.supports_binary});\n",
       "            fig.send_message(\"send_image_mode\", {});\n",
       "            if (mpl.ratio != 1) {\n",
       "                fig.send_message(\"set_dpi_ratio\", {'dpi_ratio': mpl.ratio});\n",
       "            }\n",
       "            fig.send_message(\"refresh\", {});\n",
       "        }\n",
       "\n",
       "    this.imageObj.onload = function() {\n",
       "            if (fig.image_mode == 'full') {\n",
       "                // Full images could contain transparency (where diff images\n",
       "                // almost always do), so we need to clear the canvas so that\n",
       "                // there is no ghosting.\n",
       "                fig.context.clearRect(0, 0, fig.canvas.width, fig.canvas.height);\n",
       "            }\n",
       "            fig.context.drawImage(fig.imageObj, 0, 0);\n",
       "        };\n",
       "\n",
       "    this.imageObj.onunload = function() {\n",
       "        this.ws.close();\n",
       "    }\n",
       "\n",
       "    this.ws.onmessage = this._make_on_message_function(this);\n",
       "\n",
       "    this.ondownload = ondownload;\n",
       "}\n",
       "\n",
       "mpl.figure.prototype._init_header = function() {\n",
       "    var titlebar = $(\n",
       "        '<div class=\"ui-dialog-titlebar ui-widget-header ui-corner-all ' +\n",
       "        'ui-helper-clearfix\"/>');\n",
       "    var titletext = $(\n",
       "        '<div class=\"ui-dialog-title\" style=\"width: 100%; ' +\n",
       "        'text-align: center; padding: 3px;\"/>');\n",
       "    titlebar.append(titletext)\n",
       "    this.root.append(titlebar);\n",
       "    this.header = titletext[0];\n",
       "}\n",
       "\n",
       "\n",
       "\n",
       "mpl.figure.prototype._canvas_extra_style = function(canvas_div) {\n",
       "\n",
       "}\n",
       "\n",
       "\n",
       "mpl.figure.prototype._root_extra_style = function(canvas_div) {\n",
       "\n",
       "}\n",
       "\n",
       "mpl.figure.prototype._init_canvas = function() {\n",
       "    var fig = this;\n",
       "\n",
       "    var canvas_div = $('<div/>');\n",
       "\n",
       "    canvas_div.attr('style', 'position: relative; clear: both; outline: 0');\n",
       "\n",
       "    function canvas_keyboard_event(event) {\n",
       "        return fig.key_event(event, event['data']);\n",
       "    }\n",
       "\n",
       "    canvas_div.keydown('key_press', canvas_keyboard_event);\n",
       "    canvas_div.keyup('key_release', canvas_keyboard_event);\n",
       "    this.canvas_div = canvas_div\n",
       "    this._canvas_extra_style(canvas_div)\n",
       "    this.root.append(canvas_div);\n",
       "\n",
       "    var canvas = $('<canvas/>');\n",
       "    canvas.addClass('mpl-canvas');\n",
       "    canvas.attr('style', \"left: 0; top: 0; z-index: 0; outline: 0\")\n",
       "\n",
       "    this.canvas = canvas[0];\n",
       "    this.context = canvas[0].getContext(\"2d\");\n",
       "\n",
       "    var backingStore = this.context.backingStorePixelRatio ||\n",
       "\tthis.context.webkitBackingStorePixelRatio ||\n",
       "\tthis.context.mozBackingStorePixelRatio ||\n",
       "\tthis.context.msBackingStorePixelRatio ||\n",
       "\tthis.context.oBackingStorePixelRatio ||\n",
       "\tthis.context.backingStorePixelRatio || 1;\n",
       "\n",
       "    mpl.ratio = (window.devicePixelRatio || 1) / backingStore;\n",
       "\n",
       "    var rubberband = $('<canvas/>');\n",
       "    rubberband.attr('style', \"position: absolute; left: 0; top: 0; z-index: 1;\")\n",
       "\n",
       "    var pass_mouse_events = true;\n",
       "\n",
       "    canvas_div.resizable({\n",
       "        start: function(event, ui) {\n",
       "            pass_mouse_events = false;\n",
       "        },\n",
       "        resize: function(event, ui) {\n",
       "            fig.request_resize(ui.size.width, ui.size.height);\n",
       "        },\n",
       "        stop: function(event, ui) {\n",
       "            pass_mouse_events = true;\n",
       "            fig.request_resize(ui.size.width, ui.size.height);\n",
       "        },\n",
       "    });\n",
       "\n",
       "    function mouse_event_fn(event) {\n",
       "        if (pass_mouse_events)\n",
       "            return fig.mouse_event(event, event['data']);\n",
       "    }\n",
       "\n",
       "    rubberband.mousedown('button_press', mouse_event_fn);\n",
       "    rubberband.mouseup('button_release', mouse_event_fn);\n",
       "    // Throttle sequential mouse events to 1 every 20ms.\n",
       "    rubberband.mousemove('motion_notify', mouse_event_fn);\n",
       "\n",
       "    rubberband.mouseenter('figure_enter', mouse_event_fn);\n",
       "    rubberband.mouseleave('figure_leave', mouse_event_fn);\n",
       "\n",
       "    canvas_div.on(\"wheel\", function (event) {\n",
       "        event = event.originalEvent;\n",
       "        event['data'] = 'scroll'\n",
       "        if (event.deltaY < 0) {\n",
       "            event.step = 1;\n",
       "        } else {\n",
       "            event.step = -1;\n",
       "        }\n",
       "        mouse_event_fn(event);\n",
       "    });\n",
       "\n",
       "    canvas_div.append(canvas);\n",
       "    canvas_div.append(rubberband);\n",
       "\n",
       "    this.rubberband = rubberband;\n",
       "    this.rubberband_canvas = rubberband[0];\n",
       "    this.rubberband_context = rubberband[0].getContext(\"2d\");\n",
       "    this.rubberband_context.strokeStyle = \"#000000\";\n",
       "\n",
       "    this._resize_canvas = function(width, height) {\n",
       "        // Keep the size of the canvas, canvas container, and rubber band\n",
       "        // canvas in synch.\n",
       "        canvas_div.css('width', width)\n",
       "        canvas_div.css('height', height)\n",
       "\n",
       "        canvas.attr('width', width * mpl.ratio);\n",
       "        canvas.attr('height', height * mpl.ratio);\n",
       "        canvas.attr('style', 'width: ' + width + 'px; height: ' + height + 'px;');\n",
       "\n",
       "        rubberband.attr('width', width);\n",
       "        rubberband.attr('height', height);\n",
       "    }\n",
       "\n",
       "    // Set the figure to an initial 600x600px, this will subsequently be updated\n",
       "    // upon first draw.\n",
       "    this._resize_canvas(600, 600);\n",
       "\n",
       "    // Disable right mouse context menu.\n",
       "    $(this.rubberband_canvas).bind(\"contextmenu\",function(e){\n",
       "        return false;\n",
       "    });\n",
       "\n",
       "    function set_focus () {\n",
       "        canvas.focus();\n",
       "        canvas_div.focus();\n",
       "    }\n",
       "\n",
       "    window.setTimeout(set_focus, 100);\n",
       "}\n",
       "\n",
       "mpl.figure.prototype._init_toolbar = function() {\n",
       "    var fig = this;\n",
       "\n",
       "    var nav_element = $('<div/>')\n",
       "    nav_element.attr('style', 'width: 100%');\n",
       "    this.root.append(nav_element);\n",
       "\n",
       "    // Define a callback function for later on.\n",
       "    function toolbar_event(event) {\n",
       "        return fig.toolbar_button_onclick(event['data']);\n",
       "    }\n",
       "    function toolbar_mouse_event(event) {\n",
       "        return fig.toolbar_button_onmouseover(event['data']);\n",
       "    }\n",
       "\n",
       "    for(var toolbar_ind in mpl.toolbar_items) {\n",
       "        var name = mpl.toolbar_items[toolbar_ind][0];\n",
       "        var tooltip = mpl.toolbar_items[toolbar_ind][1];\n",
       "        var image = mpl.toolbar_items[toolbar_ind][2];\n",
       "        var method_name = mpl.toolbar_items[toolbar_ind][3];\n",
       "\n",
       "        if (!name) {\n",
       "            // put a spacer in here.\n",
       "            continue;\n",
       "        }\n",
       "        var button = $('<button/>');\n",
       "        button.addClass('ui-button ui-widget ui-state-default ui-corner-all ' +\n",
       "                        'ui-button-icon-only');\n",
       "        button.attr('role', 'button');\n",
       "        button.attr('aria-disabled', 'false');\n",
       "        button.click(method_name, toolbar_event);\n",
       "        button.mouseover(tooltip, toolbar_mouse_event);\n",
       "\n",
       "        var icon_img = $('<span/>');\n",
       "        icon_img.addClass('ui-button-icon-primary ui-icon');\n",
       "        icon_img.addClass(image);\n",
       "        icon_img.addClass('ui-corner-all');\n",
       "\n",
       "        var tooltip_span = $('<span/>');\n",
       "        tooltip_span.addClass('ui-button-text');\n",
       "        tooltip_span.html(tooltip);\n",
       "\n",
       "        button.append(icon_img);\n",
       "        button.append(tooltip_span);\n",
       "\n",
       "        nav_element.append(button);\n",
       "    }\n",
       "\n",
       "    var fmt_picker_span = $('<span/>');\n",
       "\n",
       "    var fmt_picker = $('<select/>');\n",
       "    fmt_picker.addClass('mpl-toolbar-option ui-widget ui-widget-content');\n",
       "    fmt_picker_span.append(fmt_picker);\n",
       "    nav_element.append(fmt_picker_span);\n",
       "    this.format_dropdown = fmt_picker[0];\n",
       "\n",
       "    for (var ind in mpl.extensions) {\n",
       "        var fmt = mpl.extensions[ind];\n",
       "        var option = $(\n",
       "            '<option/>', {selected: fmt === mpl.default_extension}).html(fmt);\n",
       "        fmt_picker.append(option)\n",
       "    }\n",
       "\n",
       "    // Add hover states to the ui-buttons\n",
       "    $( \".ui-button\" ).hover(\n",
       "        function() { $(this).addClass(\"ui-state-hover\");},\n",
       "        function() { $(this).removeClass(\"ui-state-hover\");}\n",
       "    );\n",
       "\n",
       "    var status_bar = $('<span class=\"mpl-message\"/>');\n",
       "    nav_element.append(status_bar);\n",
       "    this.message = status_bar[0];\n",
       "}\n",
       "\n",
       "mpl.figure.prototype.request_resize = function(x_pixels, y_pixels) {\n",
       "    // Request matplotlib to resize the figure. Matplotlib will then trigger a resize in the client,\n",
       "    // which will in turn request a refresh of the image.\n",
       "    this.send_message('resize', {'width': x_pixels, 'height': y_pixels});\n",
       "}\n",
       "\n",
       "mpl.figure.prototype.send_message = function(type, properties) {\n",
       "    properties['type'] = type;\n",
       "    properties['figure_id'] = this.id;\n",
       "    this.ws.send(JSON.stringify(properties));\n",
       "}\n",
       "\n",
       "mpl.figure.prototype.send_draw_message = function() {\n",
       "    if (!this.waiting) {\n",
       "        this.waiting = true;\n",
       "        this.ws.send(JSON.stringify({type: \"draw\", figure_id: this.id}));\n",
       "    }\n",
       "}\n",
       "\n",
       "\n",
       "mpl.figure.prototype.handle_save = function(fig, msg) {\n",
       "    var format_dropdown = fig.format_dropdown;\n",
       "    var format = format_dropdown.options[format_dropdown.selectedIndex].value;\n",
       "    fig.ondownload(fig, format);\n",
       "}\n",
       "\n",
       "\n",
       "mpl.figure.prototype.handle_resize = function(fig, msg) {\n",
       "    var size = msg['size'];\n",
       "    if (size[0] != fig.canvas.width || size[1] != fig.canvas.height) {\n",
       "        fig._resize_canvas(size[0], size[1]);\n",
       "        fig.send_message(\"refresh\", {});\n",
       "    };\n",
       "}\n",
       "\n",
       "mpl.figure.prototype.handle_rubberband = function(fig, msg) {\n",
       "    var x0 = msg['x0'] / mpl.ratio;\n",
       "    var y0 = (fig.canvas.height - msg['y0']) / mpl.ratio;\n",
       "    var x1 = msg['x1'] / mpl.ratio;\n",
       "    var y1 = (fig.canvas.height - msg['y1']) / mpl.ratio;\n",
       "    x0 = Math.floor(x0) + 0.5;\n",
       "    y0 = Math.floor(y0) + 0.5;\n",
       "    x1 = Math.floor(x1) + 0.5;\n",
       "    y1 = Math.floor(y1) + 0.5;\n",
       "    var min_x = Math.min(x0, x1);\n",
       "    var min_y = Math.min(y0, y1);\n",
       "    var width = Math.abs(x1 - x0);\n",
       "    var height = Math.abs(y1 - y0);\n",
       "\n",
       "    fig.rubberband_context.clearRect(\n",
       "        0, 0, fig.canvas.width, fig.canvas.height);\n",
       "\n",
       "    fig.rubberband_context.strokeRect(min_x, min_y, width, height);\n",
       "}\n",
       "\n",
       "mpl.figure.prototype.handle_figure_label = function(fig, msg) {\n",
       "    // Updates the figure title.\n",
       "    fig.header.textContent = msg['label'];\n",
       "}\n",
       "\n",
       "mpl.figure.prototype.handle_cursor = function(fig, msg) {\n",
       "    var cursor = msg['cursor'];\n",
       "    switch(cursor)\n",
       "    {\n",
       "    case 0:\n",
       "        cursor = 'pointer';\n",
       "        break;\n",
       "    case 1:\n",
       "        cursor = 'default';\n",
       "        break;\n",
       "    case 2:\n",
       "        cursor = 'crosshair';\n",
       "        break;\n",
       "    case 3:\n",
       "        cursor = 'move';\n",
       "        break;\n",
       "    }\n",
       "    fig.rubberband_canvas.style.cursor = cursor;\n",
       "}\n",
       "\n",
       "mpl.figure.prototype.handle_message = function(fig, msg) {\n",
       "    fig.message.textContent = msg['message'];\n",
       "}\n",
       "\n",
       "mpl.figure.prototype.handle_draw = function(fig, msg) {\n",
       "    // Request the server to send over a new figure.\n",
       "    fig.send_draw_message();\n",
       "}\n",
       "\n",
       "mpl.figure.prototype.handle_image_mode = function(fig, msg) {\n",
       "    fig.image_mode = msg['mode'];\n",
       "}\n",
       "\n",
       "mpl.figure.prototype.updated_canvas_event = function() {\n",
       "    // Called whenever the canvas gets updated.\n",
       "    this.send_message(\"ack\", {});\n",
       "}\n",
       "\n",
       "// A function to construct a web socket function for onmessage handling.\n",
       "// Called in the figure constructor.\n",
       "mpl.figure.prototype._make_on_message_function = function(fig) {\n",
       "    return function socket_on_message(evt) {\n",
       "        if (evt.data instanceof Blob) {\n",
       "            /* FIXME: We get \"Resource interpreted as Image but\n",
       "             * transferred with MIME type text/plain:\" errors on\n",
       "             * Chrome.  But how to set the MIME type?  It doesn't seem\n",
       "             * to be part of the websocket stream */\n",
       "            evt.data.type = \"image/png\";\n",
       "\n",
       "            /* Free the memory for the previous frames */\n",
       "            if (fig.imageObj.src) {\n",
       "                (window.URL || window.webkitURL).revokeObjectURL(\n",
       "                    fig.imageObj.src);\n",
       "            }\n",
       "\n",
       "            fig.imageObj.src = (window.URL || window.webkitURL).createObjectURL(\n",
       "                evt.data);\n",
       "            fig.updated_canvas_event();\n",
       "            fig.waiting = false;\n",
       "            return;\n",
       "        }\n",
       "        else if (typeof evt.data === 'string' && evt.data.slice(0, 21) == \"data:image/png;base64\") {\n",
       "            fig.imageObj.src = evt.data;\n",
       "            fig.updated_canvas_event();\n",
       "            fig.waiting = false;\n",
       "            return;\n",
       "        }\n",
       "\n",
       "        var msg = JSON.parse(evt.data);\n",
       "        var msg_type = msg['type'];\n",
       "\n",
       "        // Call the  \"handle_{type}\" callback, which takes\n",
       "        // the figure and JSON message as its only arguments.\n",
       "        try {\n",
       "            var callback = fig[\"handle_\" + msg_type];\n",
       "        } catch (e) {\n",
       "            console.log(\"No handler for the '\" + msg_type + \"' message type: \", msg);\n",
       "            return;\n",
       "        }\n",
       "\n",
       "        if (callback) {\n",
       "            try {\n",
       "                // console.log(\"Handling '\" + msg_type + \"' message: \", msg);\n",
       "                callback(fig, msg);\n",
       "            } catch (e) {\n",
       "                console.log(\"Exception inside the 'handler_\" + msg_type + \"' callback:\", e, e.stack, msg);\n",
       "            }\n",
       "        }\n",
       "    };\n",
       "}\n",
       "\n",
       "// from http://stackoverflow.com/questions/1114465/getting-mouse-location-in-canvas\n",
       "mpl.findpos = function(e) {\n",
       "    //this section is from http://www.quirksmode.org/js/events_properties.html\n",
       "    var targ;\n",
       "    if (!e)\n",
       "        e = window.event;\n",
       "    if (e.target)\n",
       "        targ = e.target;\n",
       "    else if (e.srcElement)\n",
       "        targ = e.srcElement;\n",
       "    if (targ.nodeType == 3) // defeat Safari bug\n",
       "        targ = targ.parentNode;\n",
       "\n",
       "    // jQuery normalizes the pageX and pageY\n",
       "    // pageX,Y are the mouse positions relative to the document\n",
       "    // offset() returns the position of the element relative to the document\n",
       "    var x = e.pageX - $(targ).offset().left;\n",
       "    var y = e.pageY - $(targ).offset().top;\n",
       "\n",
       "    return {\"x\": x, \"y\": y};\n",
       "};\n",
       "\n",
       "/*\n",
       " * return a copy of an object with only non-object keys\n",
       " * we need this to avoid circular references\n",
       " * http://stackoverflow.com/a/24161582/3208463\n",
       " */\n",
       "function simpleKeys (original) {\n",
       "  return Object.keys(original).reduce(function (obj, key) {\n",
       "    if (typeof original[key] !== 'object')\n",
       "        obj[key] = original[key]\n",
       "    return obj;\n",
       "  }, {});\n",
       "}\n",
       "\n",
       "mpl.figure.prototype.mouse_event = function(event, name) {\n",
       "    var canvas_pos = mpl.findpos(event)\n",
       "\n",
       "    if (name === 'button_press')\n",
       "    {\n",
       "        this.canvas.focus();\n",
       "        this.canvas_div.focus();\n",
       "    }\n",
       "\n",
       "    var x = canvas_pos.x * mpl.ratio;\n",
       "    var y = canvas_pos.y * mpl.ratio;\n",
       "\n",
       "    this.send_message(name, {x: x, y: y, button: event.button,\n",
       "                             step: event.step,\n",
       "                             guiEvent: simpleKeys(event)});\n",
       "\n",
       "    /* This prevents the web browser from automatically changing to\n",
       "     * the text insertion cursor when the button is pressed.  We want\n",
       "     * to control all of the cursor setting manually through the\n",
       "     * 'cursor' event from matplotlib */\n",
       "    event.preventDefault();\n",
       "    return false;\n",
       "}\n",
       "\n",
       "mpl.figure.prototype._key_event_extra = function(event, name) {\n",
       "    // Handle any extra behaviour associated with a key event\n",
       "}\n",
       "\n",
       "mpl.figure.prototype.key_event = function(event, name) {\n",
       "\n",
       "    // Prevent repeat events\n",
       "    if (name == 'key_press')\n",
       "    {\n",
       "        if (event.which === this._key)\n",
       "            return;\n",
       "        else\n",
       "            this._key = event.which;\n",
       "    }\n",
       "    if (name == 'key_release')\n",
       "        this._key = null;\n",
       "\n",
       "    var value = '';\n",
       "    if (event.ctrlKey && event.which != 17)\n",
       "        value += \"ctrl+\";\n",
       "    if (event.altKey && event.which != 18)\n",
       "        value += \"alt+\";\n",
       "    if (event.shiftKey && event.which != 16)\n",
       "        value += \"shift+\";\n",
       "\n",
       "    value += 'k';\n",
       "    value += event.which.toString();\n",
       "\n",
       "    this._key_event_extra(event, name);\n",
       "\n",
       "    this.send_message(name, {key: value,\n",
       "                             guiEvent: simpleKeys(event)});\n",
       "    return false;\n",
       "}\n",
       "\n",
       "mpl.figure.prototype.toolbar_button_onclick = function(name) {\n",
       "    if (name == 'download') {\n",
       "        this.handle_save(this, null);\n",
       "    } else {\n",
       "        this.send_message(\"toolbar_button\", {name: name});\n",
       "    }\n",
       "};\n",
       "\n",
       "mpl.figure.prototype.toolbar_button_onmouseover = function(tooltip) {\n",
       "    this.message.textContent = tooltip;\n",
       "};\n",
       "mpl.toolbar_items = [[\"Home\", \"Reset original view\", \"fa fa-home icon-home\", \"home\"], [\"Back\", \"Back to  previous view\", \"fa fa-arrow-left icon-arrow-left\", \"back\"], [\"Forward\", \"Forward to next view\", \"fa fa-arrow-right icon-arrow-right\", \"forward\"], [\"\", \"\", \"\", \"\"], [\"Pan\", \"Pan axes with left mouse, zoom with right\", \"fa fa-arrows icon-move\", \"pan\"], [\"Zoom\", \"Zoom to rectangle\", \"fa fa-square-o icon-check-empty\", \"zoom\"], [\"\", \"\", \"\", \"\"], [\"Download\", \"Download plot\", \"fa fa-floppy-o icon-save\", \"download\"]];\n",
       "\n",
       "mpl.extensions = [\"eps\", \"pdf\", \"png\", \"ps\", \"raw\", \"svg\"];\n",
       "\n",
       "mpl.default_extension = \"png\";var comm_websocket_adapter = function(comm) {\n",
       "    // Create a \"websocket\"-like object which calls the given IPython comm\n",
       "    // object with the appropriate methods. Currently this is a non binary\n",
       "    // socket, so there is still some room for performance tuning.\n",
       "    var ws = {};\n",
       "\n",
       "    ws.close = function() {\n",
       "        comm.close()\n",
       "    };\n",
       "    ws.send = function(m) {\n",
       "        //console.log('sending', m);\n",
       "        comm.send(m);\n",
       "    };\n",
       "    // Register the callback with on_msg.\n",
       "    comm.on_msg(function(msg) {\n",
       "        //console.log('receiving', msg['content']['data'], msg);\n",
       "        // Pass the mpl event to the overriden (by mpl) onmessage function.\n",
       "        ws.onmessage(msg['content']['data'])\n",
       "    });\n",
       "    return ws;\n",
       "}\n",
       "\n",
       "mpl.mpl_figure_comm = function(comm, msg) {\n",
       "    // This is the function which gets called when the mpl process\n",
       "    // starts-up an IPython Comm through the \"matplotlib\" channel.\n",
       "\n",
       "    var id = msg.content.data.id;\n",
       "    // Get hold of the div created by the display call when the Comm\n",
       "    // socket was opened in Python.\n",
       "    var element = $(\"#\" + id);\n",
       "    var ws_proxy = comm_websocket_adapter(comm)\n",
       "\n",
       "    function ondownload(figure, format) {\n",
       "        window.open(figure.imageObj.src);\n",
       "    }\n",
       "\n",
       "    var fig = new mpl.figure(id, ws_proxy,\n",
       "                           ondownload,\n",
       "                           element.get(0));\n",
       "\n",
       "    // Call onopen now - mpl needs it, as it is assuming we've passed it a real\n",
       "    // web socket which is closed, not our websocket->open comm proxy.\n",
       "    ws_proxy.onopen();\n",
       "\n",
       "    fig.parent_element = element.get(0);\n",
       "    fig.cell_info = mpl.find_output_cell(\"<div id='\" + id + \"'></div>\");\n",
       "    if (!fig.cell_info) {\n",
       "        console.error(\"Failed to find cell for figure\", id, fig);\n",
       "        return;\n",
       "    }\n",
       "\n",
       "    var output_index = fig.cell_info[2]\n",
       "    var cell = fig.cell_info[0];\n",
       "\n",
       "};\n",
       "\n",
       "mpl.figure.prototype.handle_close = function(fig, msg) {\n",
       "    var width = fig.canvas.width/mpl.ratio\n",
       "    fig.root.unbind('remove')\n",
       "\n",
       "    // Update the output cell to use the data from the current canvas.\n",
       "    fig.push_to_output();\n",
       "    var dataURL = fig.canvas.toDataURL();\n",
       "    // Re-enable the keyboard manager in IPython - without this line, in FF,\n",
       "    // the notebook keyboard shortcuts fail.\n",
       "    IPython.keyboard_manager.enable()\n",
       "    $(fig.parent_element).html('<img src=\"' + dataURL + '\" width=\"' + width + '\">');\n",
       "    fig.close_ws(fig, msg);\n",
       "}\n",
       "\n",
       "mpl.figure.prototype.close_ws = function(fig, msg){\n",
       "    fig.send_message('closing', msg);\n",
       "    // fig.ws.close()\n",
       "}\n",
       "\n",
       "mpl.figure.prototype.push_to_output = function(remove_interactive) {\n",
       "    // Turn the data on the canvas into data in the output cell.\n",
       "    var width = this.canvas.width/mpl.ratio\n",
       "    var dataURL = this.canvas.toDataURL();\n",
       "    this.cell_info[1]['text/html'] = '<img src=\"' + dataURL + '\" width=\"' + width + '\">';\n",
       "}\n",
       "\n",
       "mpl.figure.prototype.updated_canvas_event = function() {\n",
       "    // Tell IPython that the notebook contents must change.\n",
       "    IPython.notebook.set_dirty(true);\n",
       "    this.send_message(\"ack\", {});\n",
       "    var fig = this;\n",
       "    // Wait a second, then push the new image to the DOM so\n",
       "    // that it is saved nicely (might be nice to debounce this).\n",
       "    setTimeout(function () { fig.push_to_output() }, 1000);\n",
       "}\n",
       "\n",
       "mpl.figure.prototype._init_toolbar = function() {\n",
       "    var fig = this;\n",
       "\n",
       "    var nav_element = $('<div/>')\n",
       "    nav_element.attr('style', 'width: 100%');\n",
       "    this.root.append(nav_element);\n",
       "\n",
       "    // Define a callback function for later on.\n",
       "    function toolbar_event(event) {\n",
       "        return fig.toolbar_button_onclick(event['data']);\n",
       "    }\n",
       "    function toolbar_mouse_event(event) {\n",
       "        return fig.toolbar_button_onmouseover(event['data']);\n",
       "    }\n",
       "\n",
       "    for(var toolbar_ind in mpl.toolbar_items){\n",
       "        var name = mpl.toolbar_items[toolbar_ind][0];\n",
       "        var tooltip = mpl.toolbar_items[toolbar_ind][1];\n",
       "        var image = mpl.toolbar_items[toolbar_ind][2];\n",
       "        var method_name = mpl.toolbar_items[toolbar_ind][3];\n",
       "\n",
       "        if (!name) { continue; };\n",
       "\n",
       "        var button = $('<button class=\"btn btn-default\" href=\"#\" title=\"' + name + '\"><i class=\"fa ' + image + ' fa-lg\"></i></button>');\n",
       "        button.click(method_name, toolbar_event);\n",
       "        button.mouseover(tooltip, toolbar_mouse_event);\n",
       "        nav_element.append(button);\n",
       "    }\n",
       "\n",
       "    // Add the status bar.\n",
       "    var status_bar = $('<span class=\"mpl-message\" style=\"text-align:right; float: right;\"/>');\n",
       "    nav_element.append(status_bar);\n",
       "    this.message = status_bar[0];\n",
       "\n",
       "    // Add the close button to the window.\n",
       "    var buttongrp = $('<div class=\"btn-group inline pull-right\"></div>');\n",
       "    var button = $('<button class=\"btn btn-mini btn-primary\" href=\"#\" title=\"Stop Interaction\"><i class=\"fa fa-power-off icon-remove icon-large\"></i></button>');\n",
       "    button.click(function (evt) { fig.handle_close(fig, {}); } );\n",
       "    button.mouseover('Stop Interaction', toolbar_mouse_event);\n",
       "    buttongrp.append(button);\n",
       "    var titlebar = this.root.find($('.ui-dialog-titlebar'));\n",
       "    titlebar.prepend(buttongrp);\n",
       "}\n",
       "\n",
       "mpl.figure.prototype._root_extra_style = function(el){\n",
       "    var fig = this\n",
       "    el.on(\"remove\", function(){\n",
       "\tfig.close_ws(fig, {});\n",
       "    });\n",
       "}\n",
       "\n",
       "mpl.figure.prototype._canvas_extra_style = function(el){\n",
       "    // this is important to make the div 'focusable\n",
       "    el.attr('tabindex', 0)\n",
       "    // reach out to IPython and tell the keyboard manager to turn it's self\n",
       "    // off when our div gets focus\n",
       "\n",
       "    // location in version 3\n",
       "    if (IPython.notebook.keyboard_manager) {\n",
       "        IPython.notebook.keyboard_manager.register_events(el);\n",
       "    }\n",
       "    else {\n",
       "        // location in version 2\n",
       "        IPython.keyboard_manager.register_events(el);\n",
       "    }\n",
       "\n",
       "}\n",
       "\n",
       "mpl.figure.prototype._key_event_extra = function(event, name) {\n",
       "    var manager = IPython.notebook.keyboard_manager;\n",
       "    if (!manager)\n",
       "        manager = IPython.keyboard_manager;\n",
       "\n",
       "    // Check for shift+enter\n",
       "    if (event.shiftKey && event.which == 13) {\n",
       "        this.canvas_div.blur();\n",
       "        // select the cell after this one\n",
       "        var index = IPython.notebook.find_cell_index(this.cell_info[0]);\n",
       "        IPython.notebook.select(index + 1);\n",
       "    }\n",
       "}\n",
       "\n",
       "mpl.figure.prototype.handle_save = function(fig, msg) {\n",
       "    fig.ondownload(fig, null);\n",
       "}\n",
       "\n",
       "\n",
       "mpl.find_output_cell = function(html_output) {\n",
       "    // Return the cell and output element which can be found *uniquely* in the notebook.\n",
       "    // Note - this is a bit hacky, but it is done because the \"notebook_saving.Notebook\"\n",
       "    // IPython event is triggered only after the cells have been serialised, which for\n",
       "    // our purposes (turning an active figure into a static one), is too late.\n",
       "    var cells = IPython.notebook.get_cells();\n",
       "    var ncells = cells.length;\n",
       "    for (var i=0; i<ncells; i++) {\n",
       "        var cell = cells[i];\n",
       "        if (cell.cell_type === 'code'){\n",
       "            for (var j=0; j<cell.output_area.outputs.length; j++) {\n",
       "                var data = cell.output_area.outputs[j];\n",
       "                if (data.data) {\n",
       "                    // IPython >= 3 moved mimebundle to data attribute of output\n",
       "                    data = data.data;\n",
       "                }\n",
       "                if (data['text/html'] == html_output) {\n",
       "                    return [cell, data, j];\n",
       "                }\n",
       "            }\n",
       "        }\n",
       "    }\n",
       "}\n",
       "\n",
       "// Register the function which deals with the matplotlib target/channel.\n",
       "// The kernel may be null if the page has been refreshed.\n",
       "if (IPython.notebook.kernel != null) {\n",
       "    IPython.notebook.kernel.comm_manager.register_target('matplotlib', mpl.mpl_figure_comm);\n",
       "}\n"
      ],
      "text/plain": [
       "<IPython.core.display.Javascript object>"
      ]
     },
     "metadata": {},
     "output_type": "display_data"
    },
    {
     "data": {
      "text/html": [
       "<img src=\"data:image/png;base64,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\" width=\"640\">"
      ],
      "text/plain": [
       "<IPython.core.display.HTML object>"
      ]
     },
     "metadata": {},
     "output_type": "display_data"
    },
    {
     "data": {
      "application/vnd.jupyter.widget-view+json": {
       "model_id": "555d176e04db4da5bc432d8ced7464e0",
       "version_major": 2,
       "version_minor": 0
      },
      "text/plain": [
       "A Jupyter Widget"
      ]
     },
     "metadata": {},
     "output_type": "display_data"
    },
    {
     "data": {
      "application/vnd.jupyter.widget-view+json": {
       "model_id": "92f3abcf76e74fe8b6455d490c72278c",
       "version_major": 2,
       "version_minor": 0
      },
      "text/plain": [
       "A Jupyter Widget"
      ]
     },
     "metadata": {},
     "output_type": "display_data"
    },
    {
     "data": {
      "application/vnd.jupyter.widget-view+json": {
       "model_id": "6e84535438464322ad9d0ce0f852bd4c",
       "version_major": 2,
       "version_minor": 0
      },
      "text/plain": [
       "A Jupyter Widget"
      ]
     },
     "metadata": {},
     "output_type": "display_data"
    },
    {
     "data": {
      "application/vnd.jupyter.widget-view+json": {
       "model_id": "88c19cd3ff164e89a88a17a7aec52153",
       "version_major": 2,
       "version_minor": 0
      },
      "text/plain": [
       "A Jupyter Widget"
      ]
     },
     "metadata": {},
     "output_type": "display_data"
    },
    {
     "data": {
      "application/vnd.jupyter.widget-view+json": {
       "model_id": "36dc4783e43a44b388f2c5cdfc82846f",
       "version_major": 2,
       "version_minor": 0
      },
      "text/plain": [
       "A Jupyter Widget"
      ]
     },
     "metadata": {},
     "output_type": "display_data"
    },
    {
     "data": {
      "application/vnd.jupyter.widget-view+json": {
       "model_id": "419e6fcc7ceb4895bfe29bc9294e0bcc",
       "version_major": 2,
       "version_minor": 0
      },
      "text/plain": [
       "A Jupyter Widget"
      ]
     },
     "metadata": {},
     "output_type": "display_data"
    }
   ],
   "source": [
    "a = ca.read_amplicon('../calour/tests/data/test2.biom', \n",
    "                     '../calour/tests/data/test2.sample',\n",
    "                     feature_metadata_file='../calour/tests/data/test2.feature',\n",
    "                     min_reads=100, normalize=1000)\n",
    "\n",
    "b = a.plot(sample_field='group',\n",
    "           bary_fields=['oxygen'], \n",
    "           barx_fields=['group', 'categorical'],\n",
    "           barx_label_kwargs=[{'color': 'b'}, {'color': 'white', 'size': 9}],\n",
    "           cmap='inferno',\n",
    "           gui='jupyter',\n",
    "           title='simple figure');"
   ]
  },
  {
   "cell_type": "markdown",
   "metadata": {},
   "source": [
    "# Use a different color map"
   ]
  },
  {
   "cell_type": "code",
   "execution_count": 11,
   "metadata": {},
   "outputs": [
    {
     "data": {
      "application/javascript": [
       "/* Put everything inside the global mpl namespace */\n",
       "window.mpl = {};\n",
       "\n",
       "\n",
       "mpl.get_websocket_type = function() {\n",
       "    if (typeof(WebSocket) !== 'undefined') {\n",
       "        return WebSocket;\n",
       "    } else if (typeof(MozWebSocket) !== 'undefined') {\n",
       "        return MozWebSocket;\n",
       "    } else {\n",
       "        alert('Your browser does not have WebSocket support.' +\n",
       "              'Please try Chrome, Safari or Firefox ≥ 6. ' +\n",
       "              'Firefox 4 and 5 are also supported but you ' +\n",
       "              'have to enable WebSockets in about:config.');\n",
       "    };\n",
       "}\n",
       "\n",
       "mpl.figure = function(figure_id, websocket, ondownload, parent_element) {\n",
       "    this.id = figure_id;\n",
       "\n",
       "    this.ws = websocket;\n",
       "\n",
       "    this.supports_binary = (this.ws.binaryType != undefined);\n",
       "\n",
       "    if (!this.supports_binary) {\n",
       "        var warnings = document.getElementById(\"mpl-warnings\");\n",
       "        if (warnings) {\n",
       "            warnings.style.display = 'block';\n",
       "            warnings.textContent = (\n",
       "                \"This browser does not support binary websocket messages. \" +\n",
       "                    \"Performance may be slow.\");\n",
       "        }\n",
       "    }\n",
       "\n",
       "    this.imageObj = new Image();\n",
       "\n",
       "    this.context = undefined;\n",
       "    this.message = undefined;\n",
       "    this.canvas = undefined;\n",
       "    this.rubberband_canvas = undefined;\n",
       "    this.rubberband_context = undefined;\n",
       "    this.format_dropdown = undefined;\n",
       "\n",
       "    this.image_mode = 'full';\n",
       "\n",
       "    this.root = $('<div/>');\n",
       "    this._root_extra_style(this.root)\n",
       "    this.root.attr('style', 'display: inline-block');\n",
       "\n",
       "    $(parent_element).append(this.root);\n",
       "\n",
       "    this._init_header(this);\n",
       "    this._init_canvas(this);\n",
       "    this._init_toolbar(this);\n",
       "\n",
       "    var fig = this;\n",
       "\n",
       "    this.waiting = false;\n",
       "\n",
       "    this.ws.onopen =  function () {\n",
       "            fig.send_message(\"supports_binary\", {value: fig.supports_binary});\n",
       "            fig.send_message(\"send_image_mode\", {});\n",
       "            if (mpl.ratio != 1) {\n",
       "                fig.send_message(\"set_dpi_ratio\", {'dpi_ratio': mpl.ratio});\n",
       "            }\n",
       "            fig.send_message(\"refresh\", {});\n",
       "        }\n",
       "\n",
       "    this.imageObj.onload = function() {\n",
       "            if (fig.image_mode == 'full') {\n",
       "                // Full images could contain transparency (where diff images\n",
       "                // almost always do), so we need to clear the canvas so that\n",
       "                // there is no ghosting.\n",
       "                fig.context.clearRect(0, 0, fig.canvas.width, fig.canvas.height);\n",
       "            }\n",
       "            fig.context.drawImage(fig.imageObj, 0, 0);\n",
       "        };\n",
       "\n",
       "    this.imageObj.onunload = function() {\n",
       "        this.ws.close();\n",
       "    }\n",
       "\n",
       "    this.ws.onmessage = this._make_on_message_function(this);\n",
       "\n",
       "    this.ondownload = ondownload;\n",
       "}\n",
       "\n",
       "mpl.figure.prototype._init_header = function() {\n",
       "    var titlebar = $(\n",
       "        '<div class=\"ui-dialog-titlebar ui-widget-header ui-corner-all ' +\n",
       "        'ui-helper-clearfix\"/>');\n",
       "    var titletext = $(\n",
       "        '<div class=\"ui-dialog-title\" style=\"width: 100%; ' +\n",
       "        'text-align: center; padding: 3px;\"/>');\n",
       "    titlebar.append(titletext)\n",
       "    this.root.append(titlebar);\n",
       "    this.header = titletext[0];\n",
       "}\n",
       "\n",
       "\n",
       "\n",
       "mpl.figure.prototype._canvas_extra_style = function(canvas_div) {\n",
       "\n",
       "}\n",
       "\n",
       "\n",
       "mpl.figure.prototype._root_extra_style = function(canvas_div) {\n",
       "\n",
       "}\n",
       "\n",
       "mpl.figure.prototype._init_canvas = function() {\n",
       "    var fig = this;\n",
       "\n",
       "    var canvas_div = $('<div/>');\n",
       "\n",
       "    canvas_div.attr('style', 'position: relative; clear: both; outline: 0');\n",
       "\n",
       "    function canvas_keyboard_event(event) {\n",
       "        return fig.key_event(event, event['data']);\n",
       "    }\n",
       "\n",
       "    canvas_div.keydown('key_press', canvas_keyboard_event);\n",
       "    canvas_div.keyup('key_release', canvas_keyboard_event);\n",
       "    this.canvas_div = canvas_div\n",
       "    this._canvas_extra_style(canvas_div)\n",
       "    this.root.append(canvas_div);\n",
       "\n",
       "    var canvas = $('<canvas/>');\n",
       "    canvas.addClass('mpl-canvas');\n",
       "    canvas.attr('style', \"left: 0; top: 0; z-index: 0; outline: 0\")\n",
       "\n",
       "    this.canvas = canvas[0];\n",
       "    this.context = canvas[0].getContext(\"2d\");\n",
       "\n",
       "    var backingStore = this.context.backingStorePixelRatio ||\n",
       "\tthis.context.webkitBackingStorePixelRatio ||\n",
       "\tthis.context.mozBackingStorePixelRatio ||\n",
       "\tthis.context.msBackingStorePixelRatio ||\n",
       "\tthis.context.oBackingStorePixelRatio ||\n",
       "\tthis.context.backingStorePixelRatio || 1;\n",
       "\n",
       "    mpl.ratio = (window.devicePixelRatio || 1) / backingStore;\n",
       "\n",
       "    var rubberband = $('<canvas/>');\n",
       "    rubberband.attr('style', \"position: absolute; left: 0; top: 0; z-index: 1;\")\n",
       "\n",
       "    var pass_mouse_events = true;\n",
       "\n",
       "    canvas_div.resizable({\n",
       "        start: function(event, ui) {\n",
       "            pass_mouse_events = false;\n",
       "        },\n",
       "        resize: function(event, ui) {\n",
       "            fig.request_resize(ui.size.width, ui.size.height);\n",
       "        },\n",
       "        stop: function(event, ui) {\n",
       "            pass_mouse_events = true;\n",
       "            fig.request_resize(ui.size.width, ui.size.height);\n",
       "        },\n",
       "    });\n",
       "\n",
       "    function mouse_event_fn(event) {\n",
       "        if (pass_mouse_events)\n",
       "            return fig.mouse_event(event, event['data']);\n",
       "    }\n",
       "\n",
       "    rubberband.mousedown('button_press', mouse_event_fn);\n",
       "    rubberband.mouseup('button_release', mouse_event_fn);\n",
       "    // Throttle sequential mouse events to 1 every 20ms.\n",
       "    rubberband.mousemove('motion_notify', mouse_event_fn);\n",
       "\n",
       "    rubberband.mouseenter('figure_enter', mouse_event_fn);\n",
       "    rubberband.mouseleave('figure_leave', mouse_event_fn);\n",
       "\n",
       "    canvas_div.on(\"wheel\", function (event) {\n",
       "        event = event.originalEvent;\n",
       "        event['data'] = 'scroll'\n",
       "        if (event.deltaY < 0) {\n",
       "            event.step = 1;\n",
       "        } else {\n",
       "            event.step = -1;\n",
       "        }\n",
       "        mouse_event_fn(event);\n",
       "    });\n",
       "\n",
       "    canvas_div.append(canvas);\n",
       "    canvas_div.append(rubberband);\n",
       "\n",
       "    this.rubberband = rubberband;\n",
       "    this.rubberband_canvas = rubberband[0];\n",
       "    this.rubberband_context = rubberband[0].getContext(\"2d\");\n",
       "    this.rubberband_context.strokeStyle = \"#000000\";\n",
       "\n",
       "    this._resize_canvas = function(width, height) {\n",
       "        // Keep the size of the canvas, canvas container, and rubber band\n",
       "        // canvas in synch.\n",
       "        canvas_div.css('width', width)\n",
       "        canvas_div.css('height', height)\n",
       "\n",
       "        canvas.attr('width', width * mpl.ratio);\n",
       "        canvas.attr('height', height * mpl.ratio);\n",
       "        canvas.attr('style', 'width: ' + width + 'px; height: ' + height + 'px;');\n",
       "\n",
       "        rubberband.attr('width', width);\n",
       "        rubberband.attr('height', height);\n",
       "    }\n",
       "\n",
       "    // Set the figure to an initial 600x600px, this will subsequently be updated\n",
       "    // upon first draw.\n",
       "    this._resize_canvas(600, 600);\n",
       "\n",
       "    // Disable right mouse context menu.\n",
       "    $(this.rubberband_canvas).bind(\"contextmenu\",function(e){\n",
       "        return false;\n",
       "    });\n",
       "\n",
       "    function set_focus () {\n",
       "        canvas.focus();\n",
       "        canvas_div.focus();\n",
       "    }\n",
       "\n",
       "    window.setTimeout(set_focus, 100);\n",
       "}\n",
       "\n",
       "mpl.figure.prototype._init_toolbar = function() {\n",
       "    var fig = this;\n",
       "\n",
       "    var nav_element = $('<div/>')\n",
       "    nav_element.attr('style', 'width: 100%');\n",
       "    this.root.append(nav_element);\n",
       "\n",
       "    // Define a callback function for later on.\n",
       "    function toolbar_event(event) {\n",
       "        return fig.toolbar_button_onclick(event['data']);\n",
       "    }\n",
       "    function toolbar_mouse_event(event) {\n",
       "        return fig.toolbar_button_onmouseover(event['data']);\n",
       "    }\n",
       "\n",
       "    for(var toolbar_ind in mpl.toolbar_items) {\n",
       "        var name = mpl.toolbar_items[toolbar_ind][0];\n",
       "        var tooltip = mpl.toolbar_items[toolbar_ind][1];\n",
       "        var image = mpl.toolbar_items[toolbar_ind][2];\n",
       "        var method_name = mpl.toolbar_items[toolbar_ind][3];\n",
       "\n",
       "        if (!name) {\n",
       "            // put a spacer in here.\n",
       "            continue;\n",
       "        }\n",
       "        var button = $('<button/>');\n",
       "        button.addClass('ui-button ui-widget ui-state-default ui-corner-all ' +\n",
       "                        'ui-button-icon-only');\n",
       "        button.attr('role', 'button');\n",
       "        button.attr('aria-disabled', 'false');\n",
       "        button.click(method_name, toolbar_event);\n",
       "        button.mouseover(tooltip, toolbar_mouse_event);\n",
       "\n",
       "        var icon_img = $('<span/>');\n",
       "        icon_img.addClass('ui-button-icon-primary ui-icon');\n",
       "        icon_img.addClass(image);\n",
       "        icon_img.addClass('ui-corner-all');\n",
       "\n",
       "        var tooltip_span = $('<span/>');\n",
       "        tooltip_span.addClass('ui-button-text');\n",
       "        tooltip_span.html(tooltip);\n",
       "\n",
       "        button.append(icon_img);\n",
       "        button.append(tooltip_span);\n",
       "\n",
       "        nav_element.append(button);\n",
       "    }\n",
       "\n",
       "    var fmt_picker_span = $('<span/>');\n",
       "\n",
       "    var fmt_picker = $('<select/>');\n",
       "    fmt_picker.addClass('mpl-toolbar-option ui-widget ui-widget-content');\n",
       "    fmt_picker_span.append(fmt_picker);\n",
       "    nav_element.append(fmt_picker_span);\n",
       "    this.format_dropdown = fmt_picker[0];\n",
       "\n",
       "    for (var ind in mpl.extensions) {\n",
       "        var fmt = mpl.extensions[ind];\n",
       "        var option = $(\n",
       "            '<option/>', {selected: fmt === mpl.default_extension}).html(fmt);\n",
       "        fmt_picker.append(option)\n",
       "    }\n",
       "\n",
       "    // Add hover states to the ui-buttons\n",
       "    $( \".ui-button\" ).hover(\n",
       "        function() { $(this).addClass(\"ui-state-hover\");},\n",
       "        function() { $(this).removeClass(\"ui-state-hover\");}\n",
       "    );\n",
       "\n",
       "    var status_bar = $('<span class=\"mpl-message\"/>');\n",
       "    nav_element.append(status_bar);\n",
       "    this.message = status_bar[0];\n",
       "}\n",
       "\n",
       "mpl.figure.prototype.request_resize = function(x_pixels, y_pixels) {\n",
       "    // Request matplotlib to resize the figure. Matplotlib will then trigger a resize in the client,\n",
       "    // which will in turn request a refresh of the image.\n",
       "    this.send_message('resize', {'width': x_pixels, 'height': y_pixels});\n",
       "}\n",
       "\n",
       "mpl.figure.prototype.send_message = function(type, properties) {\n",
       "    properties['type'] = type;\n",
       "    properties['figure_id'] = this.id;\n",
       "    this.ws.send(JSON.stringify(properties));\n",
       "}\n",
       "\n",
       "mpl.figure.prototype.send_draw_message = function() {\n",
       "    if (!this.waiting) {\n",
       "        this.waiting = true;\n",
       "        this.ws.send(JSON.stringify({type: \"draw\", figure_id: this.id}));\n",
       "    }\n",
       "}\n",
       "\n",
       "\n",
       "mpl.figure.prototype.handle_save = function(fig, msg) {\n",
       "    var format_dropdown = fig.format_dropdown;\n",
       "    var format = format_dropdown.options[format_dropdown.selectedIndex].value;\n",
       "    fig.ondownload(fig, format);\n",
       "}\n",
       "\n",
       "\n",
       "mpl.figure.prototype.handle_resize = function(fig, msg) {\n",
       "    var size = msg['size'];\n",
       "    if (size[0] != fig.canvas.width || size[1] != fig.canvas.height) {\n",
       "        fig._resize_canvas(size[0], size[1]);\n",
       "        fig.send_message(\"refresh\", {});\n",
       "    };\n",
       "}\n",
       "\n",
       "mpl.figure.prototype.handle_rubberband = function(fig, msg) {\n",
       "    var x0 = msg['x0'] / mpl.ratio;\n",
       "    var y0 = (fig.canvas.height - msg['y0']) / mpl.ratio;\n",
       "    var x1 = msg['x1'] / mpl.ratio;\n",
       "    var y1 = (fig.canvas.height - msg['y1']) / mpl.ratio;\n",
       "    x0 = Math.floor(x0) + 0.5;\n",
       "    y0 = Math.floor(y0) + 0.5;\n",
       "    x1 = Math.floor(x1) + 0.5;\n",
       "    y1 = Math.floor(y1) + 0.5;\n",
       "    var min_x = Math.min(x0, x1);\n",
       "    var min_y = Math.min(y0, y1);\n",
       "    var width = Math.abs(x1 - x0);\n",
       "    var height = Math.abs(y1 - y0);\n",
       "\n",
       "    fig.rubberband_context.clearRect(\n",
       "        0, 0, fig.canvas.width, fig.canvas.height);\n",
       "\n",
       "    fig.rubberband_context.strokeRect(min_x, min_y, width, height);\n",
       "}\n",
       "\n",
       "mpl.figure.prototype.handle_figure_label = function(fig, msg) {\n",
       "    // Updates the figure title.\n",
       "    fig.header.textContent = msg['label'];\n",
       "}\n",
       "\n",
       "mpl.figure.prototype.handle_cursor = function(fig, msg) {\n",
       "    var cursor = msg['cursor'];\n",
       "    switch(cursor)\n",
       "    {\n",
       "    case 0:\n",
       "        cursor = 'pointer';\n",
       "        break;\n",
       "    case 1:\n",
       "        cursor = 'default';\n",
       "        break;\n",
       "    case 2:\n",
       "        cursor = 'crosshair';\n",
       "        break;\n",
       "    case 3:\n",
       "        cursor = 'move';\n",
       "        break;\n",
       "    }\n",
       "    fig.rubberband_canvas.style.cursor = cursor;\n",
       "}\n",
       "\n",
       "mpl.figure.prototype.handle_message = function(fig, msg) {\n",
       "    fig.message.textContent = msg['message'];\n",
       "}\n",
       "\n",
       "mpl.figure.prototype.handle_draw = function(fig, msg) {\n",
       "    // Request the server to send over a new figure.\n",
       "    fig.send_draw_message();\n",
       "}\n",
       "\n",
       "mpl.figure.prototype.handle_image_mode = function(fig, msg) {\n",
       "    fig.image_mode = msg['mode'];\n",
       "}\n",
       "\n",
       "mpl.figure.prototype.updated_canvas_event = function() {\n",
       "    // Called whenever the canvas gets updated.\n",
       "    this.send_message(\"ack\", {});\n",
       "}\n",
       "\n",
       "// A function to construct a web socket function for onmessage handling.\n",
       "// Called in the figure constructor.\n",
       "mpl.figure.prototype._make_on_message_function = function(fig) {\n",
       "    return function socket_on_message(evt) {\n",
       "        if (evt.data instanceof Blob) {\n",
       "            /* FIXME: We get \"Resource interpreted as Image but\n",
       "             * transferred with MIME type text/plain:\" errors on\n",
       "             * Chrome.  But how to set the MIME type?  It doesn't seem\n",
       "             * to be part of the websocket stream */\n",
       "            evt.data.type = \"image/png\";\n",
       "\n",
       "            /* Free the memory for the previous frames */\n",
       "            if (fig.imageObj.src) {\n",
       "                (window.URL || window.webkitURL).revokeObjectURL(\n",
       "                    fig.imageObj.src);\n",
       "            }\n",
       "\n",
       "            fig.imageObj.src = (window.URL || window.webkitURL).createObjectURL(\n",
       "                evt.data);\n",
       "            fig.updated_canvas_event();\n",
       "            fig.waiting = false;\n",
       "            return;\n",
       "        }\n",
       "        else if (typeof evt.data === 'string' && evt.data.slice(0, 21) == \"data:image/png;base64\") {\n",
       "            fig.imageObj.src = evt.data;\n",
       "            fig.updated_canvas_event();\n",
       "            fig.waiting = false;\n",
       "            return;\n",
       "        }\n",
       "\n",
       "        var msg = JSON.parse(evt.data);\n",
       "        var msg_type = msg['type'];\n",
       "\n",
       "        // Call the  \"handle_{type}\" callback, which takes\n",
       "        // the figure and JSON message as its only arguments.\n",
       "        try {\n",
       "            var callback = fig[\"handle_\" + msg_type];\n",
       "        } catch (e) {\n",
       "            console.log(\"No handler for the '\" + msg_type + \"' message type: \", msg);\n",
       "            return;\n",
       "        }\n",
       "\n",
       "        if (callback) {\n",
       "            try {\n",
       "                // console.log(\"Handling '\" + msg_type + \"' message: \", msg);\n",
       "                callback(fig, msg);\n",
       "            } catch (e) {\n",
       "                console.log(\"Exception inside the 'handler_\" + msg_type + \"' callback:\", e, e.stack, msg);\n",
       "            }\n",
       "        }\n",
       "    };\n",
       "}\n",
       "\n",
       "// from http://stackoverflow.com/questions/1114465/getting-mouse-location-in-canvas\n",
       "mpl.findpos = function(e) {\n",
       "    //this section is from http://www.quirksmode.org/js/events_properties.html\n",
       "    var targ;\n",
       "    if (!e)\n",
       "        e = window.event;\n",
       "    if (e.target)\n",
       "        targ = e.target;\n",
       "    else if (e.srcElement)\n",
       "        targ = e.srcElement;\n",
       "    if (targ.nodeType == 3) // defeat Safari bug\n",
       "        targ = targ.parentNode;\n",
       "\n",
       "    // jQuery normalizes the pageX and pageY\n",
       "    // pageX,Y are the mouse positions relative to the document\n",
       "    // offset() returns the position of the element relative to the document\n",
       "    var x = e.pageX - $(targ).offset().left;\n",
       "    var y = e.pageY - $(targ).offset().top;\n",
       "\n",
       "    return {\"x\": x, \"y\": y};\n",
       "};\n",
       "\n",
       "/*\n",
       " * return a copy of an object with only non-object keys\n",
       " * we need this to avoid circular references\n",
       " * http://stackoverflow.com/a/24161582/3208463\n",
       " */\n",
       "function simpleKeys (original) {\n",
       "  return Object.keys(original).reduce(function (obj, key) {\n",
       "    if (typeof original[key] !== 'object')\n",
       "        obj[key] = original[key]\n",
       "    return obj;\n",
       "  }, {});\n",
       "}\n",
       "\n",
       "mpl.figure.prototype.mouse_event = function(event, name) {\n",
       "    var canvas_pos = mpl.findpos(event)\n",
       "\n",
       "    if (name === 'button_press')\n",
       "    {\n",
       "        this.canvas.focus();\n",
       "        this.canvas_div.focus();\n",
       "    }\n",
       "\n",
       "    var x = canvas_pos.x * mpl.ratio;\n",
       "    var y = canvas_pos.y * mpl.ratio;\n",
       "\n",
       "    this.send_message(name, {x: x, y: y, button: event.button,\n",
       "                             step: event.step,\n",
       "                             guiEvent: simpleKeys(event)});\n",
       "\n",
       "    /* This prevents the web browser from automatically changing to\n",
       "     * the text insertion cursor when the button is pressed.  We want\n",
       "     * to control all of the cursor setting manually through the\n",
       "     * 'cursor' event from matplotlib */\n",
       "    event.preventDefault();\n",
       "    return false;\n",
       "}\n",
       "\n",
       "mpl.figure.prototype._key_event_extra = function(event, name) {\n",
       "    // Handle any extra behaviour associated with a key event\n",
       "}\n",
       "\n",
       "mpl.figure.prototype.key_event = function(event, name) {\n",
       "\n",
       "    // Prevent repeat events\n",
       "    if (name == 'key_press')\n",
       "    {\n",
       "        if (event.which === this._key)\n",
       "            return;\n",
       "        else\n",
       "            this._key = event.which;\n",
       "    }\n",
       "    if (name == 'key_release')\n",
       "        this._key = null;\n",
       "\n",
       "    var value = '';\n",
       "    if (event.ctrlKey && event.which != 17)\n",
       "        value += \"ctrl+\";\n",
       "    if (event.altKey && event.which != 18)\n",
       "        value += \"alt+\";\n",
       "    if (event.shiftKey && event.which != 16)\n",
       "        value += \"shift+\";\n",
       "\n",
       "    value += 'k';\n",
       "    value += event.which.toString();\n",
       "\n",
       "    this._key_event_extra(event, name);\n",
       "\n",
       "    this.send_message(name, {key: value,\n",
       "                             guiEvent: simpleKeys(event)});\n",
       "    return false;\n",
       "}\n",
       "\n",
       "mpl.figure.prototype.toolbar_button_onclick = function(name) {\n",
       "    if (name == 'download') {\n",
       "        this.handle_save(this, null);\n",
       "    } else {\n",
       "        this.send_message(\"toolbar_button\", {name: name});\n",
       "    }\n",
       "};\n",
       "\n",
       "mpl.figure.prototype.toolbar_button_onmouseover = function(tooltip) {\n",
       "    this.message.textContent = tooltip;\n",
       "};\n",
       "mpl.toolbar_items = [[\"Home\", \"Reset original view\", \"fa fa-home icon-home\", \"home\"], [\"Back\", \"Back to  previous view\", \"fa fa-arrow-left icon-arrow-left\", \"back\"], [\"Forward\", \"Forward to next view\", \"fa fa-arrow-right icon-arrow-right\", \"forward\"], [\"\", \"\", \"\", \"\"], [\"Pan\", \"Pan axes with left mouse, zoom with right\", \"fa fa-arrows icon-move\", \"pan\"], [\"Zoom\", \"Zoom to rectangle\", \"fa fa-square-o icon-check-empty\", \"zoom\"], [\"\", \"\", \"\", \"\"], [\"Download\", \"Download plot\", \"fa fa-floppy-o icon-save\", \"download\"]];\n",
       "\n",
       "mpl.extensions = [\"eps\", \"pdf\", \"png\", \"ps\", \"raw\", \"svg\"];\n",
       "\n",
       "mpl.default_extension = \"png\";var comm_websocket_adapter = function(comm) {\n",
       "    // Create a \"websocket\"-like object which calls the given IPython comm\n",
       "    // object with the appropriate methods. Currently this is a non binary\n",
       "    // socket, so there is still some room for performance tuning.\n",
       "    var ws = {};\n",
       "\n",
       "    ws.close = function() {\n",
       "        comm.close()\n",
       "    };\n",
       "    ws.send = function(m) {\n",
       "        //console.log('sending', m);\n",
       "        comm.send(m);\n",
       "    };\n",
       "    // Register the callback with on_msg.\n",
       "    comm.on_msg(function(msg) {\n",
       "        //console.log('receiving', msg['content']['data'], msg);\n",
       "        // Pass the mpl event to the overriden (by mpl) onmessage function.\n",
       "        ws.onmessage(msg['content']['data'])\n",
       "    });\n",
       "    return ws;\n",
       "}\n",
       "\n",
       "mpl.mpl_figure_comm = function(comm, msg) {\n",
       "    // This is the function which gets called when the mpl process\n",
       "    // starts-up an IPython Comm through the \"matplotlib\" channel.\n",
       "\n",
       "    var id = msg.content.data.id;\n",
       "    // Get hold of the div created by the display call when the Comm\n",
       "    // socket was opened in Python.\n",
       "    var element = $(\"#\" + id);\n",
       "    var ws_proxy = comm_websocket_adapter(comm)\n",
       "\n",
       "    function ondownload(figure, format) {\n",
       "        window.open(figure.imageObj.src);\n",
       "    }\n",
       "\n",
       "    var fig = new mpl.figure(id, ws_proxy,\n",
       "                           ondownload,\n",
       "                           element.get(0));\n",
       "\n",
       "    // Call onopen now - mpl needs it, as it is assuming we've passed it a real\n",
       "    // web socket which is closed, not our websocket->open comm proxy.\n",
       "    ws_proxy.onopen();\n",
       "\n",
       "    fig.parent_element = element.get(0);\n",
       "    fig.cell_info = mpl.find_output_cell(\"<div id='\" + id + \"'></div>\");\n",
       "    if (!fig.cell_info) {\n",
       "        console.error(\"Failed to find cell for figure\", id, fig);\n",
       "        return;\n",
       "    }\n",
       "\n",
       "    var output_index = fig.cell_info[2]\n",
       "    var cell = fig.cell_info[0];\n",
       "\n",
       "};\n",
       "\n",
       "mpl.figure.prototype.handle_close = function(fig, msg) {\n",
       "    var width = fig.canvas.width/mpl.ratio\n",
       "    fig.root.unbind('remove')\n",
       "\n",
       "    // Update the output cell to use the data from the current canvas.\n",
       "    fig.push_to_output();\n",
       "    var dataURL = fig.canvas.toDataURL();\n",
       "    // Re-enable the keyboard manager in IPython - without this line, in FF,\n",
       "    // the notebook keyboard shortcuts fail.\n",
       "    IPython.keyboard_manager.enable()\n",
       "    $(fig.parent_element).html('<img src=\"' + dataURL + '\" width=\"' + width + '\">');\n",
       "    fig.close_ws(fig, msg);\n",
       "}\n",
       "\n",
       "mpl.figure.prototype.close_ws = function(fig, msg){\n",
       "    fig.send_message('closing', msg);\n",
       "    // fig.ws.close()\n",
       "}\n",
       "\n",
       "mpl.figure.prototype.push_to_output = function(remove_interactive) {\n",
       "    // Turn the data on the canvas into data in the output cell.\n",
       "    var width = this.canvas.width/mpl.ratio\n",
       "    var dataURL = this.canvas.toDataURL();\n",
       "    this.cell_info[1]['text/html'] = '<img src=\"' + dataURL + '\" width=\"' + width + '\">';\n",
       "}\n",
       "\n",
       "mpl.figure.prototype.updated_canvas_event = function() {\n",
       "    // Tell IPython that the notebook contents must change.\n",
       "    IPython.notebook.set_dirty(true);\n",
       "    this.send_message(\"ack\", {});\n",
       "    var fig = this;\n",
       "    // Wait a second, then push the new image to the DOM so\n",
       "    // that it is saved nicely (might be nice to debounce this).\n",
       "    setTimeout(function () { fig.push_to_output() }, 1000);\n",
       "}\n",
       "\n",
       "mpl.figure.prototype._init_toolbar = function() {\n",
       "    var fig = this;\n",
       "\n",
       "    var nav_element = $('<div/>')\n",
       "    nav_element.attr('style', 'width: 100%');\n",
       "    this.root.append(nav_element);\n",
       "\n",
       "    // Define a callback function for later on.\n",
       "    function toolbar_event(event) {\n",
       "        return fig.toolbar_button_onclick(event['data']);\n",
       "    }\n",
       "    function toolbar_mouse_event(event) {\n",
       "        return fig.toolbar_button_onmouseover(event['data']);\n",
       "    }\n",
       "\n",
       "    for(var toolbar_ind in mpl.toolbar_items){\n",
       "        var name = mpl.toolbar_items[toolbar_ind][0];\n",
       "        var tooltip = mpl.toolbar_items[toolbar_ind][1];\n",
       "        var image = mpl.toolbar_items[toolbar_ind][2];\n",
       "        var method_name = mpl.toolbar_items[toolbar_ind][3];\n",
       "\n",
       "        if (!name) { continue; };\n",
       "\n",
       "        var button = $('<button class=\"btn btn-default\" href=\"#\" title=\"' + name + '\"><i class=\"fa ' + image + ' fa-lg\"></i></button>');\n",
       "        button.click(method_name, toolbar_event);\n",
       "        button.mouseover(tooltip, toolbar_mouse_event);\n",
       "        nav_element.append(button);\n",
       "    }\n",
       "\n",
       "    // Add the status bar.\n",
       "    var status_bar = $('<span class=\"mpl-message\" style=\"text-align:right; float: right;\"/>');\n",
       "    nav_element.append(status_bar);\n",
       "    this.message = status_bar[0];\n",
       "\n",
       "    // Add the close button to the window.\n",
       "    var buttongrp = $('<div class=\"btn-group inline pull-right\"></div>');\n",
       "    var button = $('<button class=\"btn btn-mini btn-primary\" href=\"#\" title=\"Stop Interaction\"><i class=\"fa fa-power-off icon-remove icon-large\"></i></button>');\n",
       "    button.click(function (evt) { fig.handle_close(fig, {}); } );\n",
       "    button.mouseover('Stop Interaction', toolbar_mouse_event);\n",
       "    buttongrp.append(button);\n",
       "    var titlebar = this.root.find($('.ui-dialog-titlebar'));\n",
       "    titlebar.prepend(buttongrp);\n",
       "}\n",
       "\n",
       "mpl.figure.prototype._root_extra_style = function(el){\n",
       "    var fig = this\n",
       "    el.on(\"remove\", function(){\n",
       "\tfig.close_ws(fig, {});\n",
       "    });\n",
       "}\n",
       "\n",
       "mpl.figure.prototype._canvas_extra_style = function(el){\n",
       "    // this is important to make the div 'focusable\n",
       "    el.attr('tabindex', 0)\n",
       "    // reach out to IPython and tell the keyboard manager to turn it's self\n",
       "    // off when our div gets focus\n",
       "\n",
       "    // location in version 3\n",
       "    if (IPython.notebook.keyboard_manager) {\n",
       "        IPython.notebook.keyboard_manager.register_events(el);\n",
       "    }\n",
       "    else {\n",
       "        // location in version 2\n",
       "        IPython.keyboard_manager.register_events(el);\n",
       "    }\n",
       "\n",
       "}\n",
       "\n",
       "mpl.figure.prototype._key_event_extra = function(event, name) {\n",
       "    var manager = IPython.notebook.keyboard_manager;\n",
       "    if (!manager)\n",
       "        manager = IPython.keyboard_manager;\n",
       "\n",
       "    // Check for shift+enter\n",
       "    if (event.shiftKey && event.which == 13) {\n",
       "        this.canvas_div.blur();\n",
       "        // select the cell after this one\n",
       "        var index = IPython.notebook.find_cell_index(this.cell_info[0]);\n",
       "        IPython.notebook.select(index + 1);\n",
       "    }\n",
       "}\n",
       "\n",
       "mpl.figure.prototype.handle_save = function(fig, msg) {\n",
       "    fig.ondownload(fig, null);\n",
       "}\n",
       "\n",
       "\n",
       "mpl.find_output_cell = function(html_output) {\n",
       "    // Return the cell and output element which can be found *uniquely* in the notebook.\n",
       "    // Note - this is a bit hacky, but it is done because the \"notebook_saving.Notebook\"\n",
       "    // IPython event is triggered only after the cells have been serialised, which for\n",
       "    // our purposes (turning an active figure into a static one), is too late.\n",
       "    var cells = IPython.notebook.get_cells();\n",
       "    var ncells = cells.length;\n",
       "    for (var i=0; i<ncells; i++) {\n",
       "        var cell = cells[i];\n",
       "        if (cell.cell_type === 'code'){\n",
       "            for (var j=0; j<cell.output_area.outputs.length; j++) {\n",
       "                var data = cell.output_area.outputs[j];\n",
       "                if (data.data) {\n",
       "                    // IPython >= 3 moved mimebundle to data attribute of output\n",
       "                    data = data.data;\n",
       "                }\n",
       "                if (data['text/html'] == html_output) {\n",
       "                    return [cell, data, j];\n",
       "                }\n",
       "            }\n",
       "        }\n",
       "    }\n",
       "}\n",
       "\n",
       "// Register the function which deals with the matplotlib target/channel.\n",
       "// The kernel may be null if the page has been refreshed.\n",
       "if (IPython.notebook.kernel != null) {\n",
       "    IPython.notebook.kernel.comm_manager.register_target('matplotlib', mpl.mpl_figure_comm);\n",
       "}\n"
      ],
      "text/plain": [
       "<IPython.core.display.Javascript object>"
      ]
     },
     "metadata": {},
     "output_type": "display_data"
    },
    {
     "data": {
      "text/html": [
       "<img src=\"data:image/png;base64,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\" width=\"640\">"
      ],
      "text/plain": [
       "<IPython.core.display.HTML object>"
      ]
     },
     "metadata": {},
     "output_type": "display_data"
    },
    {
     "data": {
      "application/vnd.jupyter.widget-view+json": {
       "model_id": "787928167271476883e9915eb5ae5786",
       "version_major": 2,
       "version_minor": 0
      },
      "text/plain": [
       "A Jupyter Widget"
      ]
     },
     "metadata": {},
     "output_type": "display_data"
    },
    {
     "data": {
      "application/vnd.jupyter.widget-view+json": {
       "model_id": "9b89b5da51b44dc2b3c38106fa8c9484",
       "version_major": 2,
       "version_minor": 0
      },
      "text/plain": [
       "A Jupyter Widget"
      ]
     },
     "metadata": {},
     "output_type": "display_data"
    },
    {
     "data": {
      "application/vnd.jupyter.widget-view+json": {
       "model_id": "8b2d341361da4aabb3d21abb9382909b",
       "version_major": 2,
       "version_minor": 0
      },
      "text/plain": [
       "A Jupyter Widget"
      ]
     },
     "metadata": {},
     "output_type": "display_data"
    },
    {
     "data": {
      "application/vnd.jupyter.widget-view+json": {
       "model_id": "b5c923d077f24692a410488fd604bba6",
       "version_major": 2,
       "version_minor": 0
      },
      "text/plain": [
       "A Jupyter Widget"
      ]
     },
     "metadata": {},
     "output_type": "display_data"
    },
    {
     "data": {
      "application/vnd.jupyter.widget-view+json": {
       "model_id": "94f4358e5826460898af63aab3ece55e",
       "version_major": 2,
       "version_minor": 0
      },
      "text/plain": [
       "A Jupyter Widget"
      ]
     },
     "metadata": {},
     "output_type": "display_data"
    },
    {
     "data": {
      "application/vnd.jupyter.widget-view+json": {
       "model_id": "303bf4dfd017450fb4be2a009fe5f381",
       "version_major": 2,
       "version_minor": 0
      },
      "text/plain": [
       "A Jupyter Widget"
      ]
     },
     "metadata": {},
     "output_type": "display_data"
    }
   ],
   "source": [
    "a = ca.read_amplicon('../calour/tests/data/test2.biom',\n",
    "                     '../calour/tests/data/test2.sample', \n",
    "                     feature_metadata_file='../calour/tests/data/test2.feature',\n",
    "                     min_reads=100, normalize=None)\n",
    "\n",
    "b = a.plot(sample_field='group', feature_field='taxonomy',\n",
    "           yticklabel_kwargs={'size': 9},\n",
    "           bary_fields=['oxygen'], \n",
    "           barx_fields=['group', 'categorical'],\n",
    "           barx_label_kwargs=[{'color': 'b'}, {'color': 'white', 'size': 9}],\n",
    "           cmap='viridis',\n",
    "           gui='jupyter',\n",
    "           title='simple figure');"
   ]
  },
  {
   "cell_type": "markdown",
   "metadata": {},
   "source": [
    "# No log scale of heatmap color"
   ]
  },
  {
   "cell_type": "code",
   "execution_count": 12,
   "metadata": {},
   "outputs": [
    {
     "data": {
      "application/javascript": [
       "/* Put everything inside the global mpl namespace */\n",
       "window.mpl = {};\n",
       "\n",
       "\n",
       "mpl.get_websocket_type = function() {\n",
       "    if (typeof(WebSocket) !== 'undefined') {\n",
       "        return WebSocket;\n",
       "    } else if (typeof(MozWebSocket) !== 'undefined') {\n",
       "        return MozWebSocket;\n",
       "    } else {\n",
       "        alert('Your browser does not have WebSocket support.' +\n",
       "              'Please try Chrome, Safari or Firefox ≥ 6. ' +\n",
       "              'Firefox 4 and 5 are also supported but you ' +\n",
       "              'have to enable WebSockets in about:config.');\n",
       "    };\n",
       "}\n",
       "\n",
       "mpl.figure = function(figure_id, websocket, ondownload, parent_element) {\n",
       "    this.id = figure_id;\n",
       "\n",
       "    this.ws = websocket;\n",
       "\n",
       "    this.supports_binary = (this.ws.binaryType != undefined);\n",
       "\n",
       "    if (!this.supports_binary) {\n",
       "        var warnings = document.getElementById(\"mpl-warnings\");\n",
       "        if (warnings) {\n",
       "            warnings.style.display = 'block';\n",
       "            warnings.textContent = (\n",
       "                \"This browser does not support binary websocket messages. \" +\n",
       "                    \"Performance may be slow.\");\n",
       "        }\n",
       "    }\n",
       "\n",
       "    this.imageObj = new Image();\n",
       "\n",
       "    this.context = undefined;\n",
       "    this.message = undefined;\n",
       "    this.canvas = undefined;\n",
       "    this.rubberband_canvas = undefined;\n",
       "    this.rubberband_context = undefined;\n",
       "    this.format_dropdown = undefined;\n",
       "\n",
       "    this.image_mode = 'full';\n",
       "\n",
       "    this.root = $('<div/>');\n",
       "    this._root_extra_style(this.root)\n",
       "    this.root.attr('style', 'display: inline-block');\n",
       "\n",
       "    $(parent_element).append(this.root);\n",
       "\n",
       "    this._init_header(this);\n",
       "    this._init_canvas(this);\n",
       "    this._init_toolbar(this);\n",
       "\n",
       "    var fig = this;\n",
       "\n",
       "    this.waiting = false;\n",
       "\n",
       "    this.ws.onopen =  function () {\n",
       "            fig.send_message(\"supports_binary\", {value: fig.supports_binary});\n",
       "            fig.send_message(\"send_image_mode\", {});\n",
       "            if (mpl.ratio != 1) {\n",
       "                fig.send_message(\"set_dpi_ratio\", {'dpi_ratio': mpl.ratio});\n",
       "            }\n",
       "            fig.send_message(\"refresh\", {});\n",
       "        }\n",
       "\n",
       "    this.imageObj.onload = function() {\n",
       "            if (fig.image_mode == 'full') {\n",
       "                // Full images could contain transparency (where diff images\n",
       "                // almost always do), so we need to clear the canvas so that\n",
       "                // there is no ghosting.\n",
       "                fig.context.clearRect(0, 0, fig.canvas.width, fig.canvas.height);\n",
       "            }\n",
       "            fig.context.drawImage(fig.imageObj, 0, 0);\n",
       "        };\n",
       "\n",
       "    this.imageObj.onunload = function() {\n",
       "        this.ws.close();\n",
       "    }\n",
       "\n",
       "    this.ws.onmessage = this._make_on_message_function(this);\n",
       "\n",
       "    this.ondownload = ondownload;\n",
       "}\n",
       "\n",
       "mpl.figure.prototype._init_header = function() {\n",
       "    var titlebar = $(\n",
       "        '<div class=\"ui-dialog-titlebar ui-widget-header ui-corner-all ' +\n",
       "        'ui-helper-clearfix\"/>');\n",
       "    var titletext = $(\n",
       "        '<div class=\"ui-dialog-title\" style=\"width: 100%; ' +\n",
       "        'text-align: center; padding: 3px;\"/>');\n",
       "    titlebar.append(titletext)\n",
       "    this.root.append(titlebar);\n",
       "    this.header = titletext[0];\n",
       "}\n",
       "\n",
       "\n",
       "\n",
       "mpl.figure.prototype._canvas_extra_style = function(canvas_div) {\n",
       "\n",
       "}\n",
       "\n",
       "\n",
       "mpl.figure.prototype._root_extra_style = function(canvas_div) {\n",
       "\n",
       "}\n",
       "\n",
       "mpl.figure.prototype._init_canvas = function() {\n",
       "    var fig = this;\n",
       "\n",
       "    var canvas_div = $('<div/>');\n",
       "\n",
       "    canvas_div.attr('style', 'position: relative; clear: both; outline: 0');\n",
       "\n",
       "    function canvas_keyboard_event(event) {\n",
       "        return fig.key_event(event, event['data']);\n",
       "    }\n",
       "\n",
       "    canvas_div.keydown('key_press', canvas_keyboard_event);\n",
       "    canvas_div.keyup('key_release', canvas_keyboard_event);\n",
       "    this.canvas_div = canvas_div\n",
       "    this._canvas_extra_style(canvas_div)\n",
       "    this.root.append(canvas_div);\n",
       "\n",
       "    var canvas = $('<canvas/>');\n",
       "    canvas.addClass('mpl-canvas');\n",
       "    canvas.attr('style', \"left: 0; top: 0; z-index: 0; outline: 0\")\n",
       "\n",
       "    this.canvas = canvas[0];\n",
       "    this.context = canvas[0].getContext(\"2d\");\n",
       "\n",
       "    var backingStore = this.context.backingStorePixelRatio ||\n",
       "\tthis.context.webkitBackingStorePixelRatio ||\n",
       "\tthis.context.mozBackingStorePixelRatio ||\n",
       "\tthis.context.msBackingStorePixelRatio ||\n",
       "\tthis.context.oBackingStorePixelRatio ||\n",
       "\tthis.context.backingStorePixelRatio || 1;\n",
       "\n",
       "    mpl.ratio = (window.devicePixelRatio || 1) / backingStore;\n",
       "\n",
       "    var rubberband = $('<canvas/>');\n",
       "    rubberband.attr('style', \"position: absolute; left: 0; top: 0; z-index: 1;\")\n",
       "\n",
       "    var pass_mouse_events = true;\n",
       "\n",
       "    canvas_div.resizable({\n",
       "        start: function(event, ui) {\n",
       "            pass_mouse_events = false;\n",
       "        },\n",
       "        resize: function(event, ui) {\n",
       "            fig.request_resize(ui.size.width, ui.size.height);\n",
       "        },\n",
       "        stop: function(event, ui) {\n",
       "            pass_mouse_events = true;\n",
       "            fig.request_resize(ui.size.width, ui.size.height);\n",
       "        },\n",
       "    });\n",
       "\n",
       "    function mouse_event_fn(event) {\n",
       "        if (pass_mouse_events)\n",
       "            return fig.mouse_event(event, event['data']);\n",
       "    }\n",
       "\n",
       "    rubberband.mousedown('button_press', mouse_event_fn);\n",
       "    rubberband.mouseup('button_release', mouse_event_fn);\n",
       "    // Throttle sequential mouse events to 1 every 20ms.\n",
       "    rubberband.mousemove('motion_notify', mouse_event_fn);\n",
       "\n",
       "    rubberband.mouseenter('figure_enter', mouse_event_fn);\n",
       "    rubberband.mouseleave('figure_leave', mouse_event_fn);\n",
       "\n",
       "    canvas_div.on(\"wheel\", function (event) {\n",
       "        event = event.originalEvent;\n",
       "        event['data'] = 'scroll'\n",
       "        if (event.deltaY < 0) {\n",
       "            event.step = 1;\n",
       "        } else {\n",
       "            event.step = -1;\n",
       "        }\n",
       "        mouse_event_fn(event);\n",
       "    });\n",
       "\n",
       "    canvas_div.append(canvas);\n",
       "    canvas_div.append(rubberband);\n",
       "\n",
       "    this.rubberband = rubberband;\n",
       "    this.rubberband_canvas = rubberband[0];\n",
       "    this.rubberband_context = rubberband[0].getContext(\"2d\");\n",
       "    this.rubberband_context.strokeStyle = \"#000000\";\n",
       "\n",
       "    this._resize_canvas = function(width, height) {\n",
       "        // Keep the size of the canvas, canvas container, and rubber band\n",
       "        // canvas in synch.\n",
       "        canvas_div.css('width', width)\n",
       "        canvas_div.css('height', height)\n",
       "\n",
       "        canvas.attr('width', width * mpl.ratio);\n",
       "        canvas.attr('height', height * mpl.ratio);\n",
       "        canvas.attr('style', 'width: ' + width + 'px; height: ' + height + 'px;');\n",
       "\n",
       "        rubberband.attr('width', width);\n",
       "        rubberband.attr('height', height);\n",
       "    }\n",
       "\n",
       "    // Set the figure to an initial 600x600px, this will subsequently be updated\n",
       "    // upon first draw.\n",
       "    this._resize_canvas(600, 600);\n",
       "\n",
       "    // Disable right mouse context menu.\n",
       "    $(this.rubberband_canvas).bind(\"contextmenu\",function(e){\n",
       "        return false;\n",
       "    });\n",
       "\n",
       "    function set_focus () {\n",
       "        canvas.focus();\n",
       "        canvas_div.focus();\n",
       "    }\n",
       "\n",
       "    window.setTimeout(set_focus, 100);\n",
       "}\n",
       "\n",
       "mpl.figure.prototype._init_toolbar = function() {\n",
       "    var fig = this;\n",
       "\n",
       "    var nav_element = $('<div/>')\n",
       "    nav_element.attr('style', 'width: 100%');\n",
       "    this.root.append(nav_element);\n",
       "\n",
       "    // Define a callback function for later on.\n",
       "    function toolbar_event(event) {\n",
       "        return fig.toolbar_button_onclick(event['data']);\n",
       "    }\n",
       "    function toolbar_mouse_event(event) {\n",
       "        return fig.toolbar_button_onmouseover(event['data']);\n",
       "    }\n",
       "\n",
       "    for(var toolbar_ind in mpl.toolbar_items) {\n",
       "        var name = mpl.toolbar_items[toolbar_ind][0];\n",
       "        var tooltip = mpl.toolbar_items[toolbar_ind][1];\n",
       "        var image = mpl.toolbar_items[toolbar_ind][2];\n",
       "        var method_name = mpl.toolbar_items[toolbar_ind][3];\n",
       "\n",
       "        if (!name) {\n",
       "            // put a spacer in here.\n",
       "            continue;\n",
       "        }\n",
       "        var button = $('<button/>');\n",
       "        button.addClass('ui-button ui-widget ui-state-default ui-corner-all ' +\n",
       "                        'ui-button-icon-only');\n",
       "        button.attr('role', 'button');\n",
       "        button.attr('aria-disabled', 'false');\n",
       "        button.click(method_name, toolbar_event);\n",
       "        button.mouseover(tooltip, toolbar_mouse_event);\n",
       "\n",
       "        var icon_img = $('<span/>');\n",
       "        icon_img.addClass('ui-button-icon-primary ui-icon');\n",
       "        icon_img.addClass(image);\n",
       "        icon_img.addClass('ui-corner-all');\n",
       "\n",
       "        var tooltip_span = $('<span/>');\n",
       "        tooltip_span.addClass('ui-button-text');\n",
       "        tooltip_span.html(tooltip);\n",
       "\n",
       "        button.append(icon_img);\n",
       "        button.append(tooltip_span);\n",
       "\n",
       "        nav_element.append(button);\n",
       "    }\n",
       "\n",
       "    var fmt_picker_span = $('<span/>');\n",
       "\n",
       "    var fmt_picker = $('<select/>');\n",
       "    fmt_picker.addClass('mpl-toolbar-option ui-widget ui-widget-content');\n",
       "    fmt_picker_span.append(fmt_picker);\n",
       "    nav_element.append(fmt_picker_span);\n",
       "    this.format_dropdown = fmt_picker[0];\n",
       "\n",
       "    for (var ind in mpl.extensions) {\n",
       "        var fmt = mpl.extensions[ind];\n",
       "        var option = $(\n",
       "            '<option/>', {selected: fmt === mpl.default_extension}).html(fmt);\n",
       "        fmt_picker.append(option)\n",
       "    }\n",
       "\n",
       "    // Add hover states to the ui-buttons\n",
       "    $( \".ui-button\" ).hover(\n",
       "        function() { $(this).addClass(\"ui-state-hover\");},\n",
       "        function() { $(this).removeClass(\"ui-state-hover\");}\n",
       "    );\n",
       "\n",
       "    var status_bar = $('<span class=\"mpl-message\"/>');\n",
       "    nav_element.append(status_bar);\n",
       "    this.message = status_bar[0];\n",
       "}\n",
       "\n",
       "mpl.figure.prototype.request_resize = function(x_pixels, y_pixels) {\n",
       "    // Request matplotlib to resize the figure. Matplotlib will then trigger a resize in the client,\n",
       "    // which will in turn request a refresh of the image.\n",
       "    this.send_message('resize', {'width': x_pixels, 'height': y_pixels});\n",
       "}\n",
       "\n",
       "mpl.figure.prototype.send_message = function(type, properties) {\n",
       "    properties['type'] = type;\n",
       "    properties['figure_id'] = this.id;\n",
       "    this.ws.send(JSON.stringify(properties));\n",
       "}\n",
       "\n",
       "mpl.figure.prototype.send_draw_message = function() {\n",
       "    if (!this.waiting) {\n",
       "        this.waiting = true;\n",
       "        this.ws.send(JSON.stringify({type: \"draw\", figure_id: this.id}));\n",
       "    }\n",
       "}\n",
       "\n",
       "\n",
       "mpl.figure.prototype.handle_save = function(fig, msg) {\n",
       "    var format_dropdown = fig.format_dropdown;\n",
       "    var format = format_dropdown.options[format_dropdown.selectedIndex].value;\n",
       "    fig.ondownload(fig, format);\n",
       "}\n",
       "\n",
       "\n",
       "mpl.figure.prototype.handle_resize = function(fig, msg) {\n",
       "    var size = msg['size'];\n",
       "    if (size[0] != fig.canvas.width || size[1] != fig.canvas.height) {\n",
       "        fig._resize_canvas(size[0], size[1]);\n",
       "        fig.send_message(\"refresh\", {});\n",
       "    };\n",
       "}\n",
       "\n",
       "mpl.figure.prototype.handle_rubberband = function(fig, msg) {\n",
       "    var x0 = msg['x0'] / mpl.ratio;\n",
       "    var y0 = (fig.canvas.height - msg['y0']) / mpl.ratio;\n",
       "    var x1 = msg['x1'] / mpl.ratio;\n",
       "    var y1 = (fig.canvas.height - msg['y1']) / mpl.ratio;\n",
       "    x0 = Math.floor(x0) + 0.5;\n",
       "    y0 = Math.floor(y0) + 0.5;\n",
       "    x1 = Math.floor(x1) + 0.5;\n",
       "    y1 = Math.floor(y1) + 0.5;\n",
       "    var min_x = Math.min(x0, x1);\n",
       "    var min_y = Math.min(y0, y1);\n",
       "    var width = Math.abs(x1 - x0);\n",
       "    var height = Math.abs(y1 - y0);\n",
       "\n",
       "    fig.rubberband_context.clearRect(\n",
       "        0, 0, fig.canvas.width, fig.canvas.height);\n",
       "\n",
       "    fig.rubberband_context.strokeRect(min_x, min_y, width, height);\n",
       "}\n",
       "\n",
       "mpl.figure.prototype.handle_figure_label = function(fig, msg) {\n",
       "    // Updates the figure title.\n",
       "    fig.header.textContent = msg['label'];\n",
       "}\n",
       "\n",
       "mpl.figure.prototype.handle_cursor = function(fig, msg) {\n",
       "    var cursor = msg['cursor'];\n",
       "    switch(cursor)\n",
       "    {\n",
       "    case 0:\n",
       "        cursor = 'pointer';\n",
       "        break;\n",
       "    case 1:\n",
       "        cursor = 'default';\n",
       "        break;\n",
       "    case 2:\n",
       "        cursor = 'crosshair';\n",
       "        break;\n",
       "    case 3:\n",
       "        cursor = 'move';\n",
       "        break;\n",
       "    }\n",
       "    fig.rubberband_canvas.style.cursor = cursor;\n",
       "}\n",
       "\n",
       "mpl.figure.prototype.handle_message = function(fig, msg) {\n",
       "    fig.message.textContent = msg['message'];\n",
       "}\n",
       "\n",
       "mpl.figure.prototype.handle_draw = function(fig, msg) {\n",
       "    // Request the server to send over a new figure.\n",
       "    fig.send_draw_message();\n",
       "}\n",
       "\n",
       "mpl.figure.prototype.handle_image_mode = function(fig, msg) {\n",
       "    fig.image_mode = msg['mode'];\n",
       "}\n",
       "\n",
       "mpl.figure.prototype.updated_canvas_event = function() {\n",
       "    // Called whenever the canvas gets updated.\n",
       "    this.send_message(\"ack\", {});\n",
       "}\n",
       "\n",
       "// A function to construct a web socket function for onmessage handling.\n",
       "// Called in the figure constructor.\n",
       "mpl.figure.prototype._make_on_message_function = function(fig) {\n",
       "    return function socket_on_message(evt) {\n",
       "        if (evt.data instanceof Blob) {\n",
       "            /* FIXME: We get \"Resource interpreted as Image but\n",
       "             * transferred with MIME type text/plain:\" errors on\n",
       "             * Chrome.  But how to set the MIME type?  It doesn't seem\n",
       "             * to be part of the websocket stream */\n",
       "            evt.data.type = \"image/png\";\n",
       "\n",
       "            /* Free the memory for the previous frames */\n",
       "            if (fig.imageObj.src) {\n",
       "                (window.URL || window.webkitURL).revokeObjectURL(\n",
       "                    fig.imageObj.src);\n",
       "            }\n",
       "\n",
       "            fig.imageObj.src = (window.URL || window.webkitURL).createObjectURL(\n",
       "                evt.data);\n",
       "            fig.updated_canvas_event();\n",
       "            fig.waiting = false;\n",
       "            return;\n",
       "        }\n",
       "        else if (typeof evt.data === 'string' && evt.data.slice(0, 21) == \"data:image/png;base64\") {\n",
       "            fig.imageObj.src = evt.data;\n",
       "            fig.updated_canvas_event();\n",
       "            fig.waiting = false;\n",
       "            return;\n",
       "        }\n",
       "\n",
       "        var msg = JSON.parse(evt.data);\n",
       "        var msg_type = msg['type'];\n",
       "\n",
       "        // Call the  \"handle_{type}\" callback, which takes\n",
       "        // the figure and JSON message as its only arguments.\n",
       "        try {\n",
       "            var callback = fig[\"handle_\" + msg_type];\n",
       "        } catch (e) {\n",
       "            console.log(\"No handler for the '\" + msg_type + \"' message type: \", msg);\n",
       "            return;\n",
       "        }\n",
       "\n",
       "        if (callback) {\n",
       "            try {\n",
       "                // console.log(\"Handling '\" + msg_type + \"' message: \", msg);\n",
       "                callback(fig, msg);\n",
       "            } catch (e) {\n",
       "                console.log(\"Exception inside the 'handler_\" + msg_type + \"' callback:\", e, e.stack, msg);\n",
       "            }\n",
       "        }\n",
       "    };\n",
       "}\n",
       "\n",
       "// from http://stackoverflow.com/questions/1114465/getting-mouse-location-in-canvas\n",
       "mpl.findpos = function(e) {\n",
       "    //this section is from http://www.quirksmode.org/js/events_properties.html\n",
       "    var targ;\n",
       "    if (!e)\n",
       "        e = window.event;\n",
       "    if (e.target)\n",
       "        targ = e.target;\n",
       "    else if (e.srcElement)\n",
       "        targ = e.srcElement;\n",
       "    if (targ.nodeType == 3) // defeat Safari bug\n",
       "        targ = targ.parentNode;\n",
       "\n",
       "    // jQuery normalizes the pageX and pageY\n",
       "    // pageX,Y are the mouse positions relative to the document\n",
       "    // offset() returns the position of the element relative to the document\n",
       "    var x = e.pageX - $(targ).offset().left;\n",
       "    var y = e.pageY - $(targ).offset().top;\n",
       "\n",
       "    return {\"x\": x, \"y\": y};\n",
       "};\n",
       "\n",
       "/*\n",
       " * return a copy of an object with only non-object keys\n",
       " * we need this to avoid circular references\n",
       " * http://stackoverflow.com/a/24161582/3208463\n",
       " */\n",
       "function simpleKeys (original) {\n",
       "  return Object.keys(original).reduce(function (obj, key) {\n",
       "    if (typeof original[key] !== 'object')\n",
       "        obj[key] = original[key]\n",
       "    return obj;\n",
       "  }, {});\n",
       "}\n",
       "\n",
       "mpl.figure.prototype.mouse_event = function(event, name) {\n",
       "    var canvas_pos = mpl.findpos(event)\n",
       "\n",
       "    if (name === 'button_press')\n",
       "    {\n",
       "        this.canvas.focus();\n",
       "        this.canvas_div.focus();\n",
       "    }\n",
       "\n",
       "    var x = canvas_pos.x * mpl.ratio;\n",
       "    var y = canvas_pos.y * mpl.ratio;\n",
       "\n",
       "    this.send_message(name, {x: x, y: y, button: event.button,\n",
       "                             step: event.step,\n",
       "                             guiEvent: simpleKeys(event)});\n",
       "\n",
       "    /* This prevents the web browser from automatically changing to\n",
       "     * the text insertion cursor when the button is pressed.  We want\n",
       "     * to control all of the cursor setting manually through the\n",
       "     * 'cursor' event from matplotlib */\n",
       "    event.preventDefault();\n",
       "    return false;\n",
       "}\n",
       "\n",
       "mpl.figure.prototype._key_event_extra = function(event, name) {\n",
       "    // Handle any extra behaviour associated with a key event\n",
       "}\n",
       "\n",
       "mpl.figure.prototype.key_event = function(event, name) {\n",
       "\n",
       "    // Prevent repeat events\n",
       "    if (name == 'key_press')\n",
       "    {\n",
       "        if (event.which === this._key)\n",
       "            return;\n",
       "        else\n",
       "            this._key = event.which;\n",
       "    }\n",
       "    if (name == 'key_release')\n",
       "        this._key = null;\n",
       "\n",
       "    var value = '';\n",
       "    if (event.ctrlKey && event.which != 17)\n",
       "        value += \"ctrl+\";\n",
       "    if (event.altKey && event.which != 18)\n",
       "        value += \"alt+\";\n",
       "    if (event.shiftKey && event.which != 16)\n",
       "        value += \"shift+\";\n",
       "\n",
       "    value += 'k';\n",
       "    value += event.which.toString();\n",
       "\n",
       "    this._key_event_extra(event, name);\n",
       "\n",
       "    this.send_message(name, {key: value,\n",
       "                             guiEvent: simpleKeys(event)});\n",
       "    return false;\n",
       "}\n",
       "\n",
       "mpl.figure.prototype.toolbar_button_onclick = function(name) {\n",
       "    if (name == 'download') {\n",
       "        this.handle_save(this, null);\n",
       "    } else {\n",
       "        this.send_message(\"toolbar_button\", {name: name});\n",
       "    }\n",
       "};\n",
       "\n",
       "mpl.figure.prototype.toolbar_button_onmouseover = function(tooltip) {\n",
       "    this.message.textContent = tooltip;\n",
       "};\n",
       "mpl.toolbar_items = [[\"Home\", \"Reset original view\", \"fa fa-home icon-home\", \"home\"], [\"Back\", \"Back to  previous view\", \"fa fa-arrow-left icon-arrow-left\", \"back\"], [\"Forward\", \"Forward to next view\", \"fa fa-arrow-right icon-arrow-right\", \"forward\"], [\"\", \"\", \"\", \"\"], [\"Pan\", \"Pan axes with left mouse, zoom with right\", \"fa fa-arrows icon-move\", \"pan\"], [\"Zoom\", \"Zoom to rectangle\", \"fa fa-square-o icon-check-empty\", \"zoom\"], [\"\", \"\", \"\", \"\"], [\"Download\", \"Download plot\", \"fa fa-floppy-o icon-save\", \"download\"]];\n",
       "\n",
       "mpl.extensions = [\"eps\", \"pdf\", \"png\", \"ps\", \"raw\", \"svg\"];\n",
       "\n",
       "mpl.default_extension = \"png\";var comm_websocket_adapter = function(comm) {\n",
       "    // Create a \"websocket\"-like object which calls the given IPython comm\n",
       "    // object with the appropriate methods. Currently this is a non binary\n",
       "    // socket, so there is still some room for performance tuning.\n",
       "    var ws = {};\n",
       "\n",
       "    ws.close = function() {\n",
       "        comm.close()\n",
       "    };\n",
       "    ws.send = function(m) {\n",
       "        //console.log('sending', m);\n",
       "        comm.send(m);\n",
       "    };\n",
       "    // Register the callback with on_msg.\n",
       "    comm.on_msg(function(msg) {\n",
       "        //console.log('receiving', msg['content']['data'], msg);\n",
       "        // Pass the mpl event to the overriden (by mpl) onmessage function.\n",
       "        ws.onmessage(msg['content']['data'])\n",
       "    });\n",
       "    return ws;\n",
       "}\n",
       "\n",
       "mpl.mpl_figure_comm = function(comm, msg) {\n",
       "    // This is the function which gets called when the mpl process\n",
       "    // starts-up an IPython Comm through the \"matplotlib\" channel.\n",
       "\n",
       "    var id = msg.content.data.id;\n",
       "    // Get hold of the div created by the display call when the Comm\n",
       "    // socket was opened in Python.\n",
       "    var element = $(\"#\" + id);\n",
       "    var ws_proxy = comm_websocket_adapter(comm)\n",
       "\n",
       "    function ondownload(figure, format) {\n",
       "        window.open(figure.imageObj.src);\n",
       "    }\n",
       "\n",
       "    var fig = new mpl.figure(id, ws_proxy,\n",
       "                           ondownload,\n",
       "                           element.get(0));\n",
       "\n",
       "    // Call onopen now - mpl needs it, as it is assuming we've passed it a real\n",
       "    // web socket which is closed, not our websocket->open comm proxy.\n",
       "    ws_proxy.onopen();\n",
       "\n",
       "    fig.parent_element = element.get(0);\n",
       "    fig.cell_info = mpl.find_output_cell(\"<div id='\" + id + \"'></div>\");\n",
       "    if (!fig.cell_info) {\n",
       "        console.error(\"Failed to find cell for figure\", id, fig);\n",
       "        return;\n",
       "    }\n",
       "\n",
       "    var output_index = fig.cell_info[2]\n",
       "    var cell = fig.cell_info[0];\n",
       "\n",
       "};\n",
       "\n",
       "mpl.figure.prototype.handle_close = function(fig, msg) {\n",
       "    var width = fig.canvas.width/mpl.ratio\n",
       "    fig.root.unbind('remove')\n",
       "\n",
       "    // Update the output cell to use the data from the current canvas.\n",
       "    fig.push_to_output();\n",
       "    var dataURL = fig.canvas.toDataURL();\n",
       "    // Re-enable the keyboard manager in IPython - without this line, in FF,\n",
       "    // the notebook keyboard shortcuts fail.\n",
       "    IPython.keyboard_manager.enable()\n",
       "    $(fig.parent_element).html('<img src=\"' + dataURL + '\" width=\"' + width + '\">');\n",
       "    fig.close_ws(fig, msg);\n",
       "}\n",
       "\n",
       "mpl.figure.prototype.close_ws = function(fig, msg){\n",
       "    fig.send_message('closing', msg);\n",
       "    // fig.ws.close()\n",
       "}\n",
       "\n",
       "mpl.figure.prototype.push_to_output = function(remove_interactive) {\n",
       "    // Turn the data on the canvas into data in the output cell.\n",
       "    var width = this.canvas.width/mpl.ratio\n",
       "    var dataURL = this.canvas.toDataURL();\n",
       "    this.cell_info[1]['text/html'] = '<img src=\"' + dataURL + '\" width=\"' + width + '\">';\n",
       "}\n",
       "\n",
       "mpl.figure.prototype.updated_canvas_event = function() {\n",
       "    // Tell IPython that the notebook contents must change.\n",
       "    IPython.notebook.set_dirty(true);\n",
       "    this.send_message(\"ack\", {});\n",
       "    var fig = this;\n",
       "    // Wait a second, then push the new image to the DOM so\n",
       "    // that it is saved nicely (might be nice to debounce this).\n",
       "    setTimeout(function () { fig.push_to_output() }, 1000);\n",
       "}\n",
       "\n",
       "mpl.figure.prototype._init_toolbar = function() {\n",
       "    var fig = this;\n",
       "\n",
       "    var nav_element = $('<div/>')\n",
       "    nav_element.attr('style', 'width: 100%');\n",
       "    this.root.append(nav_element);\n",
       "\n",
       "    // Define a callback function for later on.\n",
       "    function toolbar_event(event) {\n",
       "        return fig.toolbar_button_onclick(event['data']);\n",
       "    }\n",
       "    function toolbar_mouse_event(event) {\n",
       "        return fig.toolbar_button_onmouseover(event['data']);\n",
       "    }\n",
       "\n",
       "    for(var toolbar_ind in mpl.toolbar_items){\n",
       "        var name = mpl.toolbar_items[toolbar_ind][0];\n",
       "        var tooltip = mpl.toolbar_items[toolbar_ind][1];\n",
       "        var image = mpl.toolbar_items[toolbar_ind][2];\n",
       "        var method_name = mpl.toolbar_items[toolbar_ind][3];\n",
       "\n",
       "        if (!name) { continue; };\n",
       "\n",
       "        var button = $('<button class=\"btn btn-default\" href=\"#\" title=\"' + name + '\"><i class=\"fa ' + image + ' fa-lg\"></i></button>');\n",
       "        button.click(method_name, toolbar_event);\n",
       "        button.mouseover(tooltip, toolbar_mouse_event);\n",
       "        nav_element.append(button);\n",
       "    }\n",
       "\n",
       "    // Add the status bar.\n",
       "    var status_bar = $('<span class=\"mpl-message\" style=\"text-align:right; float: right;\"/>');\n",
       "    nav_element.append(status_bar);\n",
       "    this.message = status_bar[0];\n",
       "\n",
       "    // Add the close button to the window.\n",
       "    var buttongrp = $('<div class=\"btn-group inline pull-right\"></div>');\n",
       "    var button = $('<button class=\"btn btn-mini btn-primary\" href=\"#\" title=\"Stop Interaction\"><i class=\"fa fa-power-off icon-remove icon-large\"></i></button>');\n",
       "    button.click(function (evt) { fig.handle_close(fig, {}); } );\n",
       "    button.mouseover('Stop Interaction', toolbar_mouse_event);\n",
       "    buttongrp.append(button);\n",
       "    var titlebar = this.root.find($('.ui-dialog-titlebar'));\n",
       "    titlebar.prepend(buttongrp);\n",
       "}\n",
       "\n",
       "mpl.figure.prototype._root_extra_style = function(el){\n",
       "    var fig = this\n",
       "    el.on(\"remove\", function(){\n",
       "\tfig.close_ws(fig, {});\n",
       "    });\n",
       "}\n",
       "\n",
       "mpl.figure.prototype._canvas_extra_style = function(el){\n",
       "    // this is important to make the div 'focusable\n",
       "    el.attr('tabindex', 0)\n",
       "    // reach out to IPython and tell the keyboard manager to turn it's self\n",
       "    // off when our div gets focus\n",
       "\n",
       "    // location in version 3\n",
       "    if (IPython.notebook.keyboard_manager) {\n",
       "        IPython.notebook.keyboard_manager.register_events(el);\n",
       "    }\n",
       "    else {\n",
       "        // location in version 2\n",
       "        IPython.keyboard_manager.register_events(el);\n",
       "    }\n",
       "\n",
       "}\n",
       "\n",
       "mpl.figure.prototype._key_event_extra = function(event, name) {\n",
       "    var manager = IPython.notebook.keyboard_manager;\n",
       "    if (!manager)\n",
       "        manager = IPython.keyboard_manager;\n",
       "\n",
       "    // Check for shift+enter\n",
       "    if (event.shiftKey && event.which == 13) {\n",
       "        this.canvas_div.blur();\n",
       "        // select the cell after this one\n",
       "        var index = IPython.notebook.find_cell_index(this.cell_info[0]);\n",
       "        IPython.notebook.select(index + 1);\n",
       "    }\n",
       "}\n",
       "\n",
       "mpl.figure.prototype.handle_save = function(fig, msg) {\n",
       "    fig.ondownload(fig, null);\n",
       "}\n",
       "\n",
       "\n",
       "mpl.find_output_cell = function(html_output) {\n",
       "    // Return the cell and output element which can be found *uniquely* in the notebook.\n",
       "    // Note - this is a bit hacky, but it is done because the \"notebook_saving.Notebook\"\n",
       "    // IPython event is triggered only after the cells have been serialised, which for\n",
       "    // our purposes (turning an active figure into a static one), is too late.\n",
       "    var cells = IPython.notebook.get_cells();\n",
       "    var ncells = cells.length;\n",
       "    for (var i=0; i<ncells; i++) {\n",
       "        var cell = cells[i];\n",
       "        if (cell.cell_type === 'code'){\n",
       "            for (var j=0; j<cell.output_area.outputs.length; j++) {\n",
       "                var data = cell.output_area.outputs[j];\n",
       "                if (data.data) {\n",
       "                    // IPython >= 3 moved mimebundle to data attribute of output\n",
       "                    data = data.data;\n",
       "                }\n",
       "                if (data['text/html'] == html_output) {\n",
       "                    return [cell, data, j];\n",
       "                }\n",
       "            }\n",
       "        }\n",
       "    }\n",
       "}\n",
       "\n",
       "// Register the function which deals with the matplotlib target/channel.\n",
       "// The kernel may be null if the page has been refreshed.\n",
       "if (IPython.notebook.kernel != null) {\n",
       "    IPython.notebook.kernel.comm_manager.register_target('matplotlib', mpl.mpl_figure_comm);\n",
       "}\n"
      ],
      "text/plain": [
       "<IPython.core.display.Javascript object>"
      ]
     },
     "metadata": {},
     "output_type": "display_data"
    },
    {
     "data": {
      "text/html": [
       "<img src=\"data:image/png;base64,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\" width=\"640\">"
      ],
      "text/plain": [
       "<IPython.core.display.HTML object>"
      ]
     },
     "metadata": {},
     "output_type": "display_data"
    },
    {
     "data": {
      "application/vnd.jupyter.widget-view+json": {
       "model_id": "33344284774f4887ad26d9c556943fe0",
       "version_major": 2,
       "version_minor": 0
      },
      "text/plain": [
       "A Jupyter Widget"
      ]
     },
     "metadata": {},
     "output_type": "display_data"
    },
    {
     "data": {
      "application/vnd.jupyter.widget-view+json": {
       "model_id": "719adc055c314f4085a30d51d1161e4a",
       "version_major": 2,
       "version_minor": 0
      },
      "text/plain": [
       "A Jupyter Widget"
      ]
     },
     "metadata": {},
     "output_type": "display_data"
    },
    {
     "data": {
      "application/vnd.jupyter.widget-view+json": {
       "model_id": "6877676d1fd94792b98827cf61a53fe1",
       "version_major": 2,
       "version_minor": 0
      },
      "text/plain": [
       "A Jupyter Widget"
      ]
     },
     "metadata": {},
     "output_type": "display_data"
    },
    {
     "data": {
      "application/vnd.jupyter.widget-view+json": {
       "model_id": "dcae6184a699431bbfc62a92802f0b23",
       "version_major": 2,
       "version_minor": 0
      },
      "text/plain": [
       "A Jupyter Widget"
      ]
     },
     "metadata": {},
     "output_type": "display_data"
    },
    {
     "data": {
      "application/vnd.jupyter.widget-view+json": {
       "model_id": "0e76858a2ed74489b9f5365a7c271df8",
       "version_major": 2,
       "version_minor": 0
      },
      "text/plain": [
       "A Jupyter Widget"
      ]
     },
     "metadata": {},
     "output_type": "display_data"
    },
    {
     "data": {
      "application/vnd.jupyter.widget-view+json": {
       "model_id": "6fd69de8331747f596b0c83eedda1df4",
       "version_major": 2,
       "version_minor": 0
      },
      "text/plain": [
       "A Jupyter Widget"
      ]
     },
     "metadata": {},
     "output_type": "display_data"
    }
   ],
   "source": [
    "a = ca.read_amplicon('../calour/tests/data/test2.biom',\n",
    "                     '../calour/tests/data/test2.sample', \n",
    "                     feature_metadata_file='../calour/tests/data/test2.feature',\n",
    "                     min_reads=100, normalize=None)\n",
    "\n",
    "b = a.plot(sample_field='group', feature_field='taxonomy', yticklabel_kwargs={'size': 9},\n",
    "           bary_fields=['oxygen'], barx_fields=['group', 'categorical'],\n",
    "           barx_label_kwargs=[{'color': 'b'}, {'color': 'white', 'size': 9}],\n",
    "           cmap='viridis', norm=mpl.colors.Normalize(),\n",
    "           gui='jupyter', title='simple figure');"
   ]
  },
  {
   "cell_type": "code",
   "execution_count": null,
   "metadata": {
    "collapsed": true
   },
   "outputs": [],
   "source": []
  }
 ],
 "metadata": {
  "anaconda-cloud": {},
  "kernelspec": {
   "display_name": "Python [conda env:calour]",
   "language": "python",
   "name": "conda-env-calour-py"
  },
  "language_info": {
   "codemirror_mode": {
    "name": "ipython",
    "version": 3
   },
   "file_extension": ".py",
   "mimetype": "text/x-python",
   "name": "python",
   "nbconvert_exporter": "python",
   "pygments_lexer": "ipython3",
   "version": "3.5.2"
  },
  "notify_time": "30",
  "toc": {
   "nav_menu": {
    "height": "48px",
    "width": "251px"
   },
   "number_sections": true,
   "sideBar": true,
   "skip_h1_title": false,
   "toc_cell": false,
   "toc_position": {},
   "toc_section_display": "block",
   "toc_window_display": false
  },
  "widgets": {
   "application/vnd.jupyter.widget-state+json": {
    "state": {
     "000511e190d34fc7a55cc999780bbe6b": {
      "model_module": "@jupyter-widgets/controls",
      "model_module_version": "1.0.0",
      "model_name": "ButtonModel",
      "state": {
       "description": "Annotate",
       "layout": "IPY_MODEL_4f464af4da23451a856be68754ae15b6",
       "style": "IPY_MODEL_fbbfdde6408d4d7d9e6044ff76ed23a3"
      }
     },
     "005184ab2b7c40a6a0dd1bd52880e8ea": {
      "model_module": "@jupyter-widgets/controls",
      "model_module_version": "1.0.0",
      "model_name": "DropdownModel",
      "state": {
       "_options_labels": [
        "ori.order",
        "group",
        "new.order",
        "categorical",
        "_calour_original_abundance"
       ],
       "index": 0,
       "layout": "IPY_MODEL_e78b775f90b54433b7c6c993b393d783",
       "style": "IPY_MODEL_1cdffe63f17a4ec7938b0dd19311d3c2"
      }
     },
     "005dab0790f147f496ce3f1440a54c24": {
      "model_module": "@jupyter-widgets/base",
      "model_module_version": "1.0.0",
      "model_name": "LayoutModel",
      "state": {}
     },
     "00b35cc801fb45c88ad583bd97764686": {
      "model_module": "@jupyter-widgets/base",
      "model_module_version": "1.0.0",
      "model_name": "LayoutModel",
      "state": {}
     },
     "00c5cc0c541145ef889071188e37e46f": {
      "model_module": "@jupyter-widgets/controls",
      "model_module_version": "1.0.0",
      "model_name": "DescriptionStyleModel",
      "state": {
       "description_width": ""
      }
     },
     "00d386f8218c49c8a5e220134fd4dacc": {
      "model_module": "@jupyter-widgets/base",
      "model_module_version": "1.0.0",
      "model_name": "LayoutModel",
      "state": {}
     },
     "00e25675da1049568f10c1796c6c6c5a": {
      "model_module": "@jupyter-widgets/base",
      "model_module_version": "1.0.0",
      "model_name": "LayoutModel",
      "state": {
       "width": "80%"
      }
     },
     "011264ac05254126802325ccfac4e148": {
      "model_module": "@jupyter-widgets/base",
      "model_module_version": "1.0.0",
      "model_name": "LayoutModel",
      "state": {}
     },
     "01474d88c84e4f1b8cdb59872b22ba25": {
      "model_module": "@jupyter-widgets/controls",
      "model_module_version": "1.0.0",
      "model_name": "DescriptionStyleModel",
      "state": {
       "description_width": ""
      }
     },
     "017be272e1c349508a926e10c0a688a5": {
      "model_module": "@jupyter-widgets/controls",
      "model_module_version": "1.0.0",
      "model_name": "HBoxModel",
      "state": {
       "children": [
        "IPY_MODEL_f1ea95ca57304dd592563270d5ba2a90",
        "IPY_MODEL_b2dbcb5139814badb829f3b8bbc8ba35",
        "IPY_MODEL_ff776c412b9b4ebe837047240a71f1f1"
       ],
       "layout": "IPY_MODEL_8990643322ae487c8d7077c02177e3db"
      }
     },
     "0188bd766c4041b48cb5c820dc4c873d": {
      "model_module": "@jupyter-widgets/controls",
      "model_module_version": "1.0.0",
      "model_name": "TextModel",
      "state": {
       "layout": "IPY_MODEL_2088bf9c285b4ed482c5ac44c04f2a92",
       "placeholder": "feature meta",
       "style": "IPY_MODEL_7e84f94739f7488783d1480b62658c87",
       "value": "aerobic"
      }
     },
     "019046940176475d87de54db26107ee7": {
      "model_module": "@jupyter-widgets/base",
      "model_module_version": "1.0.0",
      "model_name": "LayoutModel",
      "state": {
       "width": "100%"
      }
     },
     "01d4b71b2d8e4a37acfcbe7ee7d0fbbc": {
      "model_module": "@jupyter-widgets/controls",
      "model_module_version": "1.0.0",
      "model_name": "DropdownModel",
      "state": {
       "_options_labels": [
        "oxygen",
        "ph",
        "level1",
        "level2",
        "new.order",
        "ori.order",
        "taxonomy"
       ],
       "index": 0,
       "layout": "IPY_MODEL_806048cb71944a49acb988035601c2a8",
       "style": "IPY_MODEL_1ed638313c3f448f9b882883690d7fad"
      }
     },
     "01e623669876475d81e26a4e11870874": {
      "model_module": "@jupyter-widgets/controls",
      "model_module_version": "1.0.0",
      "model_name": "DescriptionStyleModel",
      "state": {
       "description_width": ""
      }
     },
     "022948883ab44feb8b8c02ea11bf5709": {
      "model_module": "@jupyter-widgets/controls",
      "model_module_version": "1.0.0",
      "model_name": "ButtonModel",
      "state": {
       "description": "print axes ranges",
       "layout": "IPY_MODEL_a459556696f2415e880f07f71cf589ed",
       "style": "IPY_MODEL_61f332d70e2f476a8397be672f3ab39b",
       "tooltip": "Print the x axis and y axis ranges. Useful to pass to `rect` parameter of heatmap() to zoom in the region automatically."
      }
     },
     "02ba871b4a494398a1e647e21c42cdd8": {
      "model_module": "@jupyter-widgets/controls",
      "model_module_version": "1.0.0",
      "model_name": "ButtonModel",
      "state": {
       "description": "print axes ranges",
       "layout": "IPY_MODEL_6033ad064cf74022b91cf02d892c6302",
       "style": "IPY_MODEL_a70ec2eed2ce499fb49762cec213ea79",
       "tooltip": "Print the x axis and y axis ranges. Useful to pass to `rect` parameter of heatmap() to zoom in the region automatically."
      }
     },
     "0334bb41e42d40e893a20836dec75a79": {
      "model_module": "@jupyter-widgets/controls",
      "model_module_version": "1.0.0",
      "model_name": "HBoxModel",
      "state": {
       "children": [
        "IPY_MODEL_ff447792a03a4727a8929c3f91697ae0",
        "IPY_MODEL_202fbfc1d72d49538f9352c9a54f7716",
        "IPY_MODEL_0cc44c0f647840f09a5a324c3880a9b2"
       ],
       "layout": "IPY_MODEL_0d20f9dadc1342c8ba22b76fccbd3807"
      }
     },
     "034016157c1e4834a1874ad730db1d35": {
      "model_module": "@jupyter-widgets/controls",
      "model_module_version": "1.0.0",
      "model_name": "TextModel",
      "state": {
       "description": "Sample ID",
       "layout": "IPY_MODEL_019046940176475d87de54db26107ee7",
       "placeholder": "Sample ID",
       "style": "IPY_MODEL_bc1a4c60a761466dbecce0203ce6ea82",
       "value": "S7"
      }
     },
     "035b151e0a704fefa1b6d7fa748feb94": {
      "model_module": "@jupyter-widgets/controls",
      "model_module_version": "1.0.0",
      "model_name": "DescriptionStyleModel",
      "state": {
       "description_width": ""
      }
     },
     "0376c356e3a645a4b26a4cbf09b020c3": {
      "model_module": "@jupyter-widgets/controls",
      "model_module_version": "1.0.0",
      "model_name": "DescriptionStyleModel",
      "state": {
       "description_width": ""
      }
     },
     "03a4d672e09e4fb98b1d8f842e7559e8": {
      "model_module": "@jupyter-widgets/base",
      "model_module_version": "1.0.0",
      "model_name": "LayoutModel",
      "state": {
       "width": "20%"
      }
     },
     "03afd9c80305460da693465a4c8c4960": {
      "model_module": "@jupyter-widgets/controls",
      "model_module_version": "1.0.0",
      "model_name": "TextModel",
      "state": {
       "layout": "IPY_MODEL_6757ce8a7ce14b17ba15553f5b3c59b5",
       "placeholder": "sample meta",
       "style": "IPY_MODEL_089081dc448441e3a64eba8d90081df7",
       "value": "-"
      }
     },
     "03bff66ed3ff4e259d4d6767ca143e1e": {
      "model_module": "@jupyter-widgets/controls",
      "model_module_version": "1.0.0",
      "model_name": "TextModel",
      "state": {
       "description": "Sample ID",
       "layout": "IPY_MODEL_e645d7359c8d49039234e2ac88b11a85",
       "placeholder": "Sample ID",
       "style": "IPY_MODEL_585237215be14ffdb80a2ea3f9bbd594",
       "value": "S9"
      }
     },
     "03e0490bdbd84a58946021fdba53e55b": {
      "model_module": "@jupyter-widgets/base",
      "model_module_version": "1.0.0",
      "model_name": "LayoutModel",
      "state": {
       "width": "100%"
      }
     },
     "03f1c9ce4df544d492ec0a01f1a26d87": {
      "model_module": "@jupyter-widgets/base",
      "model_module_version": "1.0.0",
      "model_name": "LayoutModel",
      "state": {
       "width": "80%"
      }
     },
     "041ae82cfe7043b681e697b0de4a6cb7": {
      "model_module": "@jupyter-widgets/base",
      "model_module_version": "1.0.0",
      "model_name": "LayoutModel",
      "state": {}
     },
     "05014d49071b4400bf2eef46ac4876b6": {
      "model_module": "@jupyter-widgets/controls",
      "model_module_version": "1.0.0",
      "model_name": "ButtonStyleModel",
      "state": {}
     },
     "054edc993fcf47d388a137916bc92da7": {
      "model_module": "@jupyter-widgets/base",
      "model_module_version": "1.0.0",
      "model_name": "LayoutModel",
      "state": {}
     },
     "059b542a24dd44379e3f1b76bc82c050": {
      "model_module": "@jupyter-widgets/controls",
      "model_module_version": "1.0.0",
      "model_name": "HBoxModel",
      "state": {
       "children": [
        "IPY_MODEL_005184ab2b7c40a6a0dd1bd52880e8ea",
        "IPY_MODEL_27cb91b373b0428ca464d7ec2e4a81e7"
       ],
       "layout": "IPY_MODEL_09600fec608f486f8f4f1c9aa989e0d8"
      }
     },
     "05bbad225e6e4edca15e9f8899271290": {
      "model_module": "@jupyter-widgets/controls",
      "model_module_version": "1.0.0",
      "model_name": "DropdownModel",
      "state": {
       "_options_labels": [
        "ori.order",
        "group",
        "new.order",
        "categorical",
        "_calour_original_abundance"
       ],
       "index": 0,
       "layout": "IPY_MODEL_83c9cd3cec774a6b812d99a2c26f17cb",
       "style": "IPY_MODEL_6875cdaa8a7c4d8497f1fbd057a50ffd"
      }
     },
     "078c5e1f16534be285459920ee6c9e11": {
      "model_module": "@jupyter-widgets/controls",
      "model_module_version": "1.0.0",
      "model_name": "ButtonModel",
      "state": {
       "description": "Annotate",
       "layout": "IPY_MODEL_8377246142eb4ea9b081c42a780da736",
       "style": "IPY_MODEL_f9df0261d0744316926b1e4b3696e71b"
      }
     },
     "079f8e3aef0f4998a03ad08097eb74c8": {
      "model_module": "@jupyter-widgets/controls",
      "model_module_version": "1.0.0",
      "model_name": "HBoxModel",
      "state": {
       "children": [
        "IPY_MODEL_0b8e67265b874295b6405c31bfb1e4e1",
        "IPY_MODEL_af2f432925244da9a661f4cac35f99eb",
        "IPY_MODEL_eb301619e7274e84bf5ea4435c8ef35c"
       ],
       "layout": "IPY_MODEL_ba40b1fcc938431b8c0f6cb2c92e13de"
      }
     },
     "07e34177f7424e02b6147b119a6e6ab5": {
      "model_module": "@jupyter-widgets/controls",
      "model_module_version": "1.0.0",
      "model_name": "TextModel",
      "state": {
       "layout": "IPY_MODEL_e88b79b8f16949a2a6d58581fdbd58a9",
       "placeholder": "sample meta",
       "style": "IPY_MODEL_39a0c7e40f304fa99aeae4b208ecc13b",
       "value": "-"
      }
     },
     "0844b68abc714506adf0d5859a7e0fdd": {
      "model_module": "@jupyter-widgets/controls",
      "model_module_version": "1.0.0",
      "model_name": "FloatTextModel",
      "state": {
       "description": "Abundance",
       "layout": "IPY_MODEL_773cb8dede5f4d728628430598683cc5",
       "step": null,
       "style": "IPY_MODEL_8a439e52677e4ce38fca38efb35d440e"
      }
     },
     "089081dc448441e3a64eba8d90081df7": {
      "model_module": "@jupyter-widgets/controls",
      "model_module_version": "1.0.0",
      "model_name": "DescriptionStyleModel",
      "state": {
       "description_width": ""
      }
     },
     "08e7c1acec87461f8d4f65b1f5a24b60": {
      "model_module": "@jupyter-widgets/controls",
      "model_module_version": "1.0.0",
      "model_name": "DescriptionStyleModel",
      "state": {
       "description_width": ""
      }
     },
     "0916bd9112904822aba6f4e7ba6ccc37": {
      "model_module": "@jupyter-widgets/base",
      "model_module_version": "1.0.0",
      "model_name": "LayoutModel",
      "state": {}
     },
     "0918fcd942134604b0feb6a4db01ee24": {
      "model_module": "@jupyter-widgets/controls",
      "model_module_version": "1.0.0",
      "model_name": "TextModel",
      "state": {
       "description": "Feature ID",
       "layout": "IPY_MODEL_e645d7359c8d49039234e2ac88b11a85",
       "placeholder": "Feature ID",
       "style": "IPY_MODEL_a6fda4faa1434abdb3574b8b173ab8ef",
       "value": "TC"
      }
     },
     "09600fec608f486f8f4f1c9aa989e0d8": {
      "model_module": "@jupyter-widgets/base",
      "model_module_version": "1.0.0",
      "model_name": "LayoutModel",
      "state": {}
     },
     "09b52d63346c491ebffacd8fe01b212d": {
      "model_module": "@jupyter-widgets/controls",
      "model_module_version": "1.0.0",
      "model_name": "DropdownModel",
      "state": {
       "_options_labels": [
        "oxygen",
        "ph",
        "level1",
        "level2",
        "new.order",
        "ori.order",
        "taxonomy"
       ],
       "index": 0,
       "layout": "IPY_MODEL_8e09963766f748d097e90ca66279ebf2",
       "style": "IPY_MODEL_af29d69b379547a5aafbfab7026cd73c"
      }
     },
     "0a33afa81af04d598d3cf743b1b36c1a": {
      "model_module": "@jupyter-widgets/controls",
      "model_module_version": "1.0.0",
      "model_name": "TextModel",
      "state": {
       "layout": "IPY_MODEL_9354b50cf37742798cf9830a78845f29",
       "placeholder": "feature meta",
       "style": "IPY_MODEL_c9356130646942dda88a7fae4e8ebd90",
       "value": "-"
      }
     },
     "0a3dbc9e3d4344749c3bf9fdfb9286c0": {
      "model_module": "@jupyter-widgets/controls",
      "model_module_version": "1.0.0",
      "model_name": "ButtonStyleModel",
      "state": {}
     },
     "0a804213a3484329a31d3bc63f2d6cfb": {
      "model_module": "@jupyter-widgets/base",
      "model_module_version": "1.0.0",
      "model_name": "LayoutModel",
      "state": {
       "width": "80%"
      }
     },
     "0a933edb5afd437488d1a42c77fc4c62": {
      "model_module": "@jupyter-widgets/base",
      "model_module_version": "1.0.0",
      "model_name": "LayoutModel",
      "state": {}
     },
     "0b1405200deb4d2c80c5e2247c028fa1": {
      "model_module": "@jupyter-widgets/controls",
      "model_module_version": "1.0.0",
      "model_name": "ButtonModel",
      "state": {
       "description": "Annotate",
       "layout": "IPY_MODEL_2bb37815d26946618ddde090bc8a36d1",
       "style": "IPY_MODEL_367f81208665413ea1e085c2f4e6c455"
      }
     },
     "0b6fe2c41fc84f98b3a16f002cfbb28b": {
      "model_module": "@jupyter-widgets/base",
      "model_module_version": "1.0.0",
      "model_name": "LayoutModel",
      "state": {
       "width": "100%"
      }
     },
     "0b8e67265b874295b6405c31bfb1e4e1": {
      "model_module": "@jupyter-widgets/controls",
      "model_module_version": "1.0.0",
      "model_name": "ButtonModel",
      "state": {
       "description": "print axes ranges",
       "layout": "IPY_MODEL_3ad0d55915714ffb9375ffbaf886cf13",
       "style": "IPY_MODEL_dc519691bec749738e7974bd2d9303b7",
       "tooltip": "Print the x axis and y axis ranges. Useful to pass to `rect` parameter of heatmap() to zoom in the region automatically."
      }
     },
     "0bfca4e6359a4e6cbd9128b26181b722": {
      "model_module": "@jupyter-widgets/base",
      "model_module_version": "1.0.0",
      "model_name": "LayoutModel",
      "state": {}
     },
     "0c33c99a4c2c480e83fde9ed11c6ce8d": {
      "model_module": "@jupyter-widgets/controls",
      "model_module_version": "1.0.0",
      "model_name": "ButtonModel",
      "state": {
       "description": "print axes ranges",
       "layout": "IPY_MODEL_b3cce65fc8fc466e9654e81180d50789",
       "style": "IPY_MODEL_64f7eda8a40d4fffa8cbd42870cc5351",
       "tooltip": "Print the x axis and y axis ranges. Useful to pass to `rect` parameter of heatmap() to zoom in the region automatically."
      }
     },
     "0c4a02a494cd4a6e97566225dc49bad3": {
      "model_module": "@jupyter-widgets/controls",
      "model_module_version": "1.0.0",
      "model_name": "ButtonModel",
      "state": {
       "description": "print axes ranges",
       "layout": "IPY_MODEL_4cdb36b14f8e468eb174fa57ee9e4e66",
       "style": "IPY_MODEL_ecedbf261dba4bf6ba6b35ac3bbcf5d1",
       "tooltip": "Print the x axis and y axis ranges. Useful to pass to `rect` parameter of heatmap() to zoom in the region automatically."
      }
     },
     "0cc44c0f647840f09a5a324c3880a9b2": {
      "model_module": "@jupyter-widgets/controls",
      "model_module_version": "1.0.0",
      "model_name": "ButtonModel",
      "state": {
       "description": "Annotate",
       "layout": "IPY_MODEL_70d70308bb8443e594ea4a8e6993dc7f",
       "style": "IPY_MODEL_87510413707e4b36b7894ac3c17e83de"
      }
     },
     "0cc799d027954a0da877c1b6c0c99afc": {
      "model_module": "@jupyter-widgets/controls",
      "model_module_version": "1.0.0",
      "model_name": "TextModel",
      "state": {
       "description": "Sample ID",
       "layout": "IPY_MODEL_91d34eaab44e4d849f70e949826ffee3",
       "placeholder": "Sample ID",
       "style": "IPY_MODEL_76fd7714395a42a2a8390a555349436c",
       "value": "-"
      }
     },
     "0d1ac708b20d42ec89747468e9d2867c": {
      "model_module": "@jupyter-widgets/base",
      "model_module_version": "1.0.0",
      "model_name": "LayoutModel",
      "state": {}
     },
     "0d20f9dadc1342c8ba22b76fccbd3807": {
      "model_module": "@jupyter-widgets/base",
      "model_module_version": "1.0.0",
      "model_name": "LayoutModel",
      "state": {}
     },
     "0dc53c760b5e40fdb51a80127ded9810": {
      "model_module": "@jupyter-widgets/base",
      "model_module_version": "1.0.0",
      "model_name": "LayoutModel",
      "state": {}
     },
     "0dcb8e4af49f4ae589e9f9c6952f95c1": {
      "model_module": "@jupyter-widgets/base",
      "model_module_version": "1.0.0",
      "model_name": "LayoutModel",
      "state": {}
     },
     "0e00371c11dc4a7381104deec97aefcf": {
      "model_module": "@jupyter-widgets/controls",
      "model_module_version": "1.0.0",
      "model_name": "TextModel",
      "state": {
       "description": "Feature ID",
       "layout": "IPY_MODEL_91d34eaab44e4d849f70e949826ffee3",
       "placeholder": "Feature ID",
       "style": "IPY_MODEL_4b1f475415bd461db71ad386a26f7e13",
       "value": "-"
      }
     },
     "0e032ba7dca64c848bf64209f9e32b63": {
      "model_module": "@jupyter-widgets/controls",
      "model_module_version": "1.0.0",
      "model_name": "ButtonStyleModel",
      "state": {}
     },
     "0e07ef18630d400ebd047cfa66842770": {
      "model_module": "@jupyter-widgets/base",
      "model_module_version": "1.0.0",
      "model_name": "LayoutModel",
      "state": {}
     },
     "0e76858a2ed74489b9f5365a7c271df8": {
      "model_module": "@jupyter-widgets/controls",
      "model_module_version": "1.0.0",
      "model_name": "HBoxModel",
      "state": {
       "children": [
        "IPY_MODEL_faaa714f16e7436fb99901697ed01a4d",
        "IPY_MODEL_2e2b0abce5da4dc5a6a66343af5f5fe6",
        "IPY_MODEL_2c8de8243de84e59bc88e66697fc11b2"
       ],
       "layout": "IPY_MODEL_c8ead31e561e4cbc823dac3c7a1f5076"
      }
     },
     "0ea06b327a1c410a8de51123c628116b": {
      "model_module": "@jupyter-widgets/controls",
      "model_module_version": "1.0.0",
      "model_name": "FloatTextModel",
      "state": {
       "description": "Abundance",
       "layout": "IPY_MODEL_0b6fe2c41fc84f98b3a16f002cfbb28b",
       "step": null,
       "style": "IPY_MODEL_6c078c1531754752b98c6688b0ca8fda",
       "value": 900
      }
     },
     "0eb099a48d0a46ed9d2c5c9068ee3cbf": {
      "model_module": "@jupyter-widgets/base",
      "model_module_version": "1.0.0",
      "model_name": "LayoutModel",
      "state": {
       "width": "100%"
      }
     },
     "0f41cda0e2e849ffb2bc1336f05c5a1c": {
      "model_module": "@jupyter-widgets/controls",
      "model_module_version": "1.0.0",
      "model_name": "DropdownModel",
      "state": {
       "_options_labels": [
        "oxygen",
        "ph",
        "level1",
        "level2",
        "new.order",
        "ori.order",
        "taxonomy"
       ],
       "index": 0,
       "layout": "IPY_MODEL_69a8c7b362dc464390ce4ce8d0f479ca",
       "style": "IPY_MODEL_9efe0892a42b4c7eaec597f1b9a330a1"
      }
     },
     "0fe4437f03514de2a3929adfcab239a3": {
      "model_module": "@jupyter-widgets/base",
      "model_module_version": "1.0.0",
      "model_name": "LayoutModel",
      "state": {
       "width": "100%"
      }
     },
     "10239a33f22a4113a1a9d79aa4d1288c": {
      "model_module": "@jupyter-widgets/base",
      "model_module_version": "1.0.0",
      "model_name": "LayoutModel",
      "state": {}
     },
     "1034c1d1787f4fa999489ac1ac9f0117": {
      "model_module": "@jupyter-widgets/controls",
      "model_module_version": "1.0.0",
      "model_name": "ButtonModel",
      "state": {
       "description": "print axes ranges",
       "layout": "IPY_MODEL_b5bd938134374736a4c7917822853dc7",
       "style": "IPY_MODEL_ce046812970f4a9aa67508191c6b863f",
       "tooltip": "Print the x axis and y axis ranges. Useful to pass to `rect` parameter of heatmap() to zoom in the region automatically."
      }
     },
     "105dc9bc4cdf424f9691cc233cdf519e": {
      "model_module": "@jupyter-widgets/base",
      "model_module_version": "1.0.0",
      "model_name": "LayoutModel",
      "state": {
       "width": "100%"
      }
     },
     "10663756ad8e44caaceb81c6a59f9b3f": {
      "model_module": "@jupyter-widgets/controls",
      "model_module_version": "1.0.0",
      "model_name": "ButtonStyleModel",
      "state": {}
     },
     "1068d33eb6644267a3368ea17fc89a4f": {
      "model_module": "@jupyter-widgets/controls",
      "model_module_version": "1.0.0",
      "model_name": "DropdownModel",
      "state": {
       "_options_labels": [
        "ori.order",
        "group",
        "new.order",
        "categorical",
        "_calour_original_abundance"
       ],
       "index": 0,
       "layout": "IPY_MODEL_d244556ba0d24517aad4dcfc5d45ab65",
       "style": "IPY_MODEL_5c3c15c389ee47ed8b6700aa69b4d975"
      }
     },
     "115957e8b71740928560b256a2c45df3": {
      "model_module": "@jupyter-widgets/controls",
      "model_module_version": "1.0.0",
      "model_name": "ButtonModel",
      "state": {
       "description": "Save",
       "layout": "IPY_MODEL_4893f5e05fd546ce8e956d8083dff7d0",
       "style": "IPY_MODEL_6048211753f944f8b69ae5d26842b0cf",
       "tooltip": "Save the selection(s)"
      }
     },
     "11755ef1399f4350828788701485702f": {
      "model_module": "@jupyter-widgets/controls",
      "model_module_version": "1.0.0",
      "model_name": "HBoxModel",
      "state": {
       "children": [
        "IPY_MODEL_be2f8aa9d2a24b48b08e544fe904a929",
        "IPY_MODEL_4cce2edfb5ae42c585549507fdfe1826"
       ],
       "layout": "IPY_MODEL_eacd14c5f8174e70abc48f6af3752b70"
      }
     },
     "11c27a0ecdac4d5db4e19f8a166c576b": {
      "model_module": "@jupyter-widgets/base",
      "model_module_version": "1.0.0",
      "model_name": "LayoutModel",
      "state": {
       "width": "80%"
      }
     },
     "121ba1781cd647fb89530aaafdf1a241": {
      "model_module": "@jupyter-widgets/controls",
      "model_module_version": "1.0.0",
      "model_name": "FloatTextModel",
      "state": {
       "description": "Abundance",
       "layout": "IPY_MODEL_0eb099a48d0a46ed9d2c5c9068ee3cbf",
       "step": null,
       "style": "IPY_MODEL_7190db1d6935404a86a936b03fb35aee"
      }
     },
     "12611792fecb4e3a825fa33b00dfab4f": {
      "model_module": "@jupyter-widgets/base",
      "model_module_version": "1.0.0",
      "model_name": "LayoutModel",
      "state": {}
     },
     "1263795e9b9b4ff282b8af4592c23bdf": {
      "model_module": "@jupyter-widgets/controls",
      "model_module_version": "1.0.0",
      "model_name": "HTMLModel",
      "state": {
       "layout": "IPY_MODEL_93b3cf55930c4dd086479f3a5f922ade",
       "style": "IPY_MODEL_16c70636beb949efaa24cdb436c457c2",
       "value": "no annotation found"
      }
     },
     "12b79f054bad44a593585fa8ca3a8c51": {
      "model_module": "@jupyter-widgets/controls",
      "model_module_version": "1.0.0",
      "model_name": "ButtonModel",
      "state": {
       "description": "print axes ranges",
       "layout": "IPY_MODEL_96051a033f5b41e8b1d6420dc4a56497",
       "style": "IPY_MODEL_77a00bf1757a4947a5533197f51efd3d",
       "tooltip": "Print the x axis and y axis ranges. Useful to pass to `rect` parameter of heatmap function to zoom in the region automatically."
      }
     },
     "1301c4f3fffe4d4497f505b5fc37a806": {
      "model_module": "@jupyter-widgets/controls",
      "model_module_version": "1.0.0",
      "model_name": "ButtonStyleModel",
      "state": {}
     },
     "130c532f5617441694bdc4dd1970a9fb": {
      "model_module": "@jupyter-widgets/controls",
      "model_module_version": "1.0.0",
      "model_name": "DropdownModel",
      "state": {
       "_options_labels": [
        "oxygen",
        "ph",
        "level1",
        "level2",
        "new.order",
        "ori.order",
        "taxonomy"
       ],
       "index": 0,
       "layout": "IPY_MODEL_76a4c29ac6244662b3cb68e1f2604050",
       "style": "IPY_MODEL_73abd810f1734ecfae7a305d76782767"
      }
     },
     "13bf6fe0be3d4ffdaf133741f2c0c76b": {
      "model_module": "@jupyter-widgets/controls",
      "model_module_version": "1.0.0",
      "model_name": "DescriptionStyleModel",
      "state": {
       "description_width": ""
      }
     },
     "14255cf3a50244ee8e97663be3cfc90e": {
      "model_module": "@jupyter-widgets/controls",
      "model_module_version": "1.0.0",
      "model_name": "ButtonStyleModel",
      "state": {}
     },
     "148faa86f38543eca421ddfd03e4ee0b": {
      "model_module": "@jupyter-widgets/base",
      "model_module_version": "1.0.0",
      "model_name": "LayoutModel",
      "state": {}
     },
     "14c54f9ce4aa4ad7b3dc0efcd5256a9a": {
      "model_module": "@jupyter-widgets/controls",
      "model_module_version": "1.0.0",
      "model_name": "DescriptionStyleModel",
      "state": {
       "description_width": ""
      }
     },
     "1539ec922da9434aa3284350d87a0477": {
      "model_module": "@jupyter-widgets/base",
      "model_module_version": "1.0.0",
      "model_name": "LayoutModel",
      "state": {}
     },
     "15b815f52c2f4a3fb3339e012a56c3a3": {
      "model_module": "@jupyter-widgets/controls",
      "model_module_version": "1.0.0",
      "model_name": "DescriptionStyleModel",
      "state": {
       "description_width": ""
      }
     },
     "16c70636beb949efaa24cdb436c457c2": {
      "model_module": "@jupyter-widgets/controls",
      "model_module_version": "1.0.0",
      "model_name": "DescriptionStyleModel",
      "state": {
       "description_width": ""
      }
     },
     "16f43a8c6b264025a2b6f27fd1d1a7b8": {
      "model_module": "@jupyter-widgets/controls",
      "model_module_version": "1.0.0",
      "model_name": "DescriptionStyleModel",
      "state": {
       "description_width": ""
      }
     },
     "170910412c47479d93ab6de0cfe5134d": {
      "model_module": "@jupyter-widgets/base",
      "model_module_version": "1.0.0",
      "model_name": "LayoutModel",
      "state": {
       "width": "20%"
      }
     },
     "175799df856748a3bbbad60e888ea6f4": {
      "model_module": "@jupyter-widgets/controls",
      "model_module_version": "1.0.0",
      "model_name": "DescriptionStyleModel",
      "state": {
       "description_width": ""
      }
     },
     "17945b3f34e9495b94e72877cc177ba9": {
      "model_module": "@jupyter-widgets/controls",
      "model_module_version": "1.0.0",
      "model_name": "HBoxModel",
      "state": {
       "children": [
        "IPY_MODEL_2e88b9c2aeaa47589580eaa4c139599f",
        "IPY_MODEL_7ec1d504c6d24d31913faf7265dba223"
       ],
       "layout": "IPY_MODEL_c3adfefeddca4773acdab8698aa6a6ac"
      }
     },
     "17a595be441a4df3a173bcf7e6d937c2": {
      "model_module": "@jupyter-widgets/base",
      "model_module_version": "1.0.0",
      "model_name": "LayoutModel",
      "state": {}
     },
     "17c1aa17f2104a48a90f5d16f19da70c": {
      "model_module": "@jupyter-widgets/controls",
      "model_module_version": "1.0.0",
      "model_name": "DescriptionStyleModel",
      "state": {
       "description_width": ""
      }
     },
     "17e6c6f5ef3944b18f112be21299f4cc": {
      "model_module": "@jupyter-widgets/controls",
      "model_module_version": "1.0.0",
      "model_name": "TextModel",
      "state": {
       "layout": "IPY_MODEL_dc6e298893a744e59909ba0b189be545",
       "placeholder": "feature meta",
       "style": "IPY_MODEL_bbb078d65f794a72b7e5112b4df5c9b1",
       "value": "aerobic"
      }
     },
     "18bf9761334845b28c0a3aa5c2ed99e3": {
      "model_module": "@jupyter-widgets/controls",
      "model_module_version": "1.0.0",
      "model_name": "ButtonModel",
      "state": {
       "description": "print axes ranges",
       "layout": "IPY_MODEL_48885d2c446042efa4b74b97572049e6",
       "style": "IPY_MODEL_3768e755d3a248859fac3856d251c403",
       "tooltip": "Print the x axis and y axis ranges. Useful to pass to `rect` parameter of heatmap() to zoom in the region automatically."
      }
     },
     "18f720008c9a4ccdb2498fcb8b93a6b1": {
      "model_module": "@jupyter-widgets/controls",
      "model_module_version": "1.0.0",
      "model_name": "TextModel",
      "state": {
       "description": "Feature ID",
       "layout": "IPY_MODEL_eb5873d689c945bebbb75ea92831f359",
       "placeholder": "Feature ID",
       "style": "IPY_MODEL_b3bff8aac6484568ba2be1ecb46d5a48",
       "value": "-"
      }
     },
     "192e851cd1444172b6eadc18aadea290": {
      "model_module": "@jupyter-widgets/controls",
      "model_module_version": "1.0.0",
      "model_name": "DescriptionStyleModel",
      "state": {
       "description_width": ""
      }
     },
     "1943c6877755496fb5c3bc28587923ed": {
      "model_module": "@jupyter-widgets/controls",
      "model_module_version": "1.0.0",
      "model_name": "HBoxModel",
      "state": {
       "children": [
        "IPY_MODEL_0f41cda0e2e849ffb2bc1336f05c5a1c",
        "IPY_MODEL_4ffe4af096164b31a7c16031578d6bd2"
       ],
       "layout": "IPY_MODEL_e4bf18ee5d5740238c505c1defb7026e"
      }
     },
     "195665b307514fb28b4a42014a81a556": {
      "model_module": "@jupyter-widgets/base",
      "model_module_version": "1.0.0",
      "model_name": "LayoutModel",
      "state": {}
     },
     "19bf21bc950c4dd2a4a5ea5b863db538": {
      "model_module": "@jupyter-widgets/controls",
      "model_module_version": "1.0.0",
      "model_name": "DescriptionStyleModel",
      "state": {
       "description_width": ""
      }
     },
     "1a7a5c06d73a4c13a2f61611d55ccd09": {
      "model_module": "@jupyter-widgets/controls",
      "model_module_version": "1.0.0",
      "model_name": "HBoxModel",
      "state": {
       "children": [
        "IPY_MODEL_1ca598c25b9243aabfabd7fa4829a7bb",
        "IPY_MODEL_03afd9c80305460da693465a4c8c4960"
       ],
       "layout": "IPY_MODEL_277774fb06a445ada09b50fa66740e42"
      }
     },
     "1aa033a2c0084e96a8aac724ffcc9e2e": {
      "model_module": "@jupyter-widgets/base",
      "model_module_version": "1.0.0",
      "model_name": "LayoutModel",
      "state": {}
     },
     "1aceff07744c4442ab914d6ffe4c7528": {
      "model_module": "@jupyter-widgets/base",
      "model_module_version": "1.0.0",
      "model_name": "LayoutModel",
      "state": {}
     },
     "1af83f23ed93416fa763860d11a7fbc2": {
      "model_module": "@jupyter-widgets/controls",
      "model_module_version": "1.0.0",
      "model_name": "DescriptionStyleModel",
      "state": {
       "description_width": ""
      }
     },
     "1b93ba673e8a447ba9a94ca63684b4df": {
      "model_module": "@jupyter-widgets/controls",
      "model_module_version": "1.0.0",
      "model_name": "DropdownModel",
      "state": {
       "_options_labels": [
        "ori.order",
        "group",
        "new.order",
        "categorical",
        "_calour_original_abundance"
       ],
       "index": 0,
       "layout": "IPY_MODEL_8b3f124b74d34e099526cd43528360e9",
       "style": "IPY_MODEL_fb2bc2f08bf94fac954692de749449a2"
      }
     },
     "1b96d65ac89749b09de255e7b81a7540": {
      "model_module": "@jupyter-widgets/controls",
      "model_module_version": "1.0.0",
      "model_name": "DescriptionStyleModel",
      "state": {
       "description_width": ""
      }
     },
     "1bca3f6dd10c4d21b4f8e64d641d5e00": {
      "model_module": "@jupyter-widgets/base",
      "model_module_version": "1.0.0",
      "model_name": "LayoutModel",
      "state": {
       "width": "20%"
      }
     },
     "1be9ad42625e48cfbce132d77aeefcaf": {
      "model_module": "@jupyter-widgets/controls",
      "model_module_version": "1.0.0",
      "model_name": "TextModel",
      "state": {
       "description": "Feature ID",
       "layout": "IPY_MODEL_2ba689d5830d4d06b98eb1020bab37da",
       "placeholder": "Feature ID",
       "style": "IPY_MODEL_a0cb132f7340491781db63390944a956",
       "value": "AT"
      }
     },
     "1c5c5ccf5ee94e9e836a6732b53ed0c0": {
      "model_module": "@jupyter-widgets/base",
      "model_module_version": "1.0.0",
      "model_name": "LayoutModel",
      "state": {
       "width": "80%"
      }
     },
     "1ca598c25b9243aabfabd7fa4829a7bb": {
      "model_module": "@jupyter-widgets/controls",
      "model_module_version": "1.0.0",
      "model_name": "DropdownModel",
      "state": {
       "_options_labels": [
        "ori.order",
        "group",
        "new.order",
        "categorical",
        "_calour_original_abundance"
       ],
       "index": 0,
       "layout": "IPY_MODEL_1fe4969c6c2b4ba2871514b522ea16a1",
       "style": "IPY_MODEL_6df422153c51450d85155036cba4cf6f"
      }
     },
     "1cdffe63f17a4ec7938b0dd19311d3c2": {
      "model_module": "@jupyter-widgets/controls",
      "model_module_version": "1.0.0",
      "model_name": "DescriptionStyleModel",
      "state": {
       "description_width": ""
      }
     },
     "1d2247fc840142599b3ddef502af6cd5": {
      "model_module": "@jupyter-widgets/controls",
      "model_module_version": "1.0.0",
      "model_name": "TextModel",
      "state": {
       "layout": "IPY_MODEL_a264106d08ab4e3182f0eb151d3a5a3b",
       "placeholder": "sample meta",
       "style": "IPY_MODEL_8c33abe2cb1044fb83829803231f6851",
       "value": "8"
      }
     },
     "1d316816306648799af56406d3904b0c": {
      "model_module": "@jupyter-widgets/controls",
      "model_module_version": "1.0.0",
      "model_name": "TextModel",
      "state": {
       "description": "Sample ID",
       "layout": "IPY_MODEL_44994213f04e4c3ba75264ca4cf6a7cd",
       "placeholder": "Sample ID",
       "style": "IPY_MODEL_fdd580f0a23446928b11450afc7126c6",
       "value": "-"
      }
     },
     "1ed638313c3f448f9b882883690d7fad": {
      "model_module": "@jupyter-widgets/controls",
      "model_module_version": "1.0.0",
      "model_name": "DescriptionStyleModel",
      "state": {
       "description_width": ""
      }
     },
     "1f3e1bb65140435b8d35fa3271d8d3ed": {
      "model_module": "@jupyter-widgets/controls",
      "model_module_version": "1.0.0",
      "model_name": "DescriptionStyleModel",
      "state": {
       "description_width": ""
      }
     },
     "1fa38d87ff6742e68997a9f231d354ab": {
      "model_module": "@jupyter-widgets/controls",
      "model_module_version": "1.0.0",
      "model_name": "HBoxModel",
      "state": {
       "children": [
        "IPY_MODEL_31ff334f0f0a4500b8c01fefed5e7a40",
        "IPY_MODEL_0188bd766c4041b48cb5c820dc4c873d"
       ],
       "layout": "IPY_MODEL_6d3f9f8661564e979d032d847121a960"
      }
     },
     "1fc0a26a88e04820bd0e31013f0d20f3": {
      "model_module": "@jupyter-widgets/controls",
      "model_module_version": "1.0.0",
      "model_name": "DropdownModel",
      "state": {
       "_options_labels": [
        "ori.order",
        "group",
        "new.order",
        "categorical",
        "_calour_original_abundance"
       ],
       "index": 0,
       "layout": "IPY_MODEL_637cab06a7964540a03c4c44cc007a97",
       "style": "IPY_MODEL_42d2c3b567f84b668c7dacfc2f617807"
      }
     },
     "1fe4969c6c2b4ba2871514b522ea16a1": {
      "model_module": "@jupyter-widgets/base",
      "model_module_version": "1.0.0",
      "model_name": "LayoutModel",
      "state": {
       "width": "20%"
      }
     },
     "200cb43361284d0f99b1e50f867b437c": {
      "model_module": "@jupyter-widgets/base",
      "model_module_version": "1.0.0",
      "model_name": "LayoutModel",
      "state": {}
     },
     "202fbfc1d72d49538f9352c9a54f7716": {
      "model_module": "@jupyter-widgets/controls",
      "model_module_version": "1.0.0",
      "model_name": "ButtonModel",
      "state": {
       "description": "Save",
       "layout": "IPY_MODEL_e7332e7508064f9ab0dc7129ca5814b5",
       "style": "IPY_MODEL_619a4953f5e043a9a548fad66ccba3ca",
       "tooltip": "Save the selection(s)"
      }
     },
     "203bc1efd27145f4990a475c796ad20f": {
      "model_module": "@jupyter-widgets/controls",
      "model_module_version": "1.0.0",
      "model_name": "HBoxModel",
      "state": {
       "children": [
        "IPY_MODEL_29f107f897974babaeec89338afa71e4",
        "IPY_MODEL_0a33afa81af04d598d3cf743b1b36c1a"
       ],
       "layout": "IPY_MODEL_c3dca8624be44fa980083b76739f44f4"
      }
     },
     "2088bf9c285b4ed482c5ac44c04f2a92": {
      "model_module": "@jupyter-widgets/base",
      "model_module_version": "1.0.0",
      "model_name": "LayoutModel",
      "state": {
       "width": "80%"
      }
     },
     "2089cc59783946a28690e78b3d6692c1": {
      "model_module": "@jupyter-widgets/controls",
      "model_module_version": "1.0.0",
      "model_name": "FloatTextModel",
      "state": {
       "description": "Abundance",
       "layout": "IPY_MODEL_eb5873d689c945bebbb75ea92831f359",
       "step": null,
       "style": "IPY_MODEL_54e3b93483e440b2b50459e7b18b5d0b"
      }
     },
     "21566f57e7074209b44de392e4e27393": {
      "model_module": "@jupyter-widgets/controls",
      "model_module_version": "1.0.0",
      "model_name": "ButtonModel",
      "state": {
       "description": "Save",
       "layout": "IPY_MODEL_195665b307514fb28b4a42014a81a556",
       "style": "IPY_MODEL_d0995ed1839d48dc85eda76152354b9d"
      }
     },
     "21a640f396f34f4db4b7a7fffd54d96e": {
      "model_module": "@jupyter-widgets/controls",
      "model_module_version": "1.0.0",
      "model_name": "DescriptionStyleModel",
      "state": {
       "description_width": ""
      }
     },
     "21bd540ca3754b9c971290c257117b0f": {
      "model_module": "@jupyter-widgets/controls",
      "model_module_version": "1.0.0",
      "model_name": "TextModel",
      "state": {
       "description": "Sample ID",
       "layout": "IPY_MODEL_90938660446045f789e980da5024085c",
       "placeholder": "Sample ID",
       "style": "IPY_MODEL_251fefe9eb104ecba782bcfc5118074a",
       "value": "-"
      }
     },
     "21e8a7ff1b614639866a5c3baf905390": {
      "model_module": "@jupyter-widgets/controls",
      "model_module_version": "1.0.0",
      "model_name": "DescriptionStyleModel",
      "state": {
       "description_width": ""
      }
     },
     "222c760c1e2c4d4aa967d479fb0effb6": {
      "model_module": "@jupyter-widgets/controls",
      "model_module_version": "1.0.0",
      "model_name": "DescriptionStyleModel",
      "state": {
       "description_width": ""
      }
     },
     "22c1472937e64ed084e5635ee98f157c": {
      "model_module": "@jupyter-widgets/base",
      "model_module_version": "1.0.0",
      "model_name": "LayoutModel",
      "state": {
       "width": "80%"
      }
     },
     "22f53a34a2bd4748a14ca0ae7398e231": {
      "model_module": "@jupyter-widgets/controls",
      "model_module_version": "1.0.0",
      "model_name": "DescriptionStyleModel",
      "state": {
       "description_width": ""
      }
     },
     "2306aee16b2e498fb8752c9345c366fd": {
      "model_module": "@jupyter-widgets/base",
      "model_module_version": "1.0.0",
      "model_name": "LayoutModel",
      "state": {}
     },
     "23aa5666830e46a28a3081ea708151b4": {
      "model_module": "@jupyter-widgets/base",
      "model_module_version": "1.0.0",
      "model_name": "LayoutModel",
      "state": {}
     },
     "23b061e4a6d6467bbe15094c7375cb96": {
      "model_module": "@jupyter-widgets/controls",
      "model_module_version": "1.0.0",
      "model_name": "DescriptionStyleModel",
      "state": {
       "description_width": ""
      }
     },
     "23e50a1a174846699df34ed9cd5225dc": {
      "model_module": "@jupyter-widgets/controls",
      "model_module_version": "1.0.0",
      "model_name": "HTMLModel",
      "state": {
       "layout": "IPY_MODEL_b9bdee414b69412d84a2571780f1f7b0",
       "style": "IPY_MODEL_fadb1ba531c74fe8ac7152c0836b2bb3",
       "value": "no annotation found"
      }
     },
     "243ca8ad67194a5e90e30528a4f3a959": {
      "model_module": "@jupyter-widgets/controls",
      "model_module_version": "1.0.0",
      "model_name": "DescriptionStyleModel",
      "state": {
       "description_width": ""
      }
     },
     "2470ee5124b4465b9848dd784432767a": {
      "model_module": "@jupyter-widgets/base",
      "model_module_version": "1.0.0",
      "model_name": "LayoutModel",
      "state": {
       "width": "20%"
      }
     },
     "251fefe9eb104ecba782bcfc5118074a": {
      "model_module": "@jupyter-widgets/controls",
      "model_module_version": "1.0.0",
      "model_name": "DescriptionStyleModel",
      "state": {
       "description_width": ""
      }
     },
     "255537ebc0b3440bb5aa1005ee72f7c5": {
      "model_module": "@jupyter-widgets/controls",
      "model_module_version": "1.0.0",
      "model_name": "DropdownModel",
      "state": {
       "_options_labels": [
        "oxygen",
        "ph",
        "level1",
        "level2",
        "new.order",
        "ori.order",
        "taxonomy"
       ],
       "index": 0,
       "layout": "IPY_MODEL_6ba4d258476e48e7b1b63a2ea5c37cdc",
       "style": "IPY_MODEL_34d17a8e01d6450d8bcb4d905aaacbc1"
      }
     },
     "25fefce25fe843eb97fb0dddec8ce158": {
      "model_module": "@jupyter-widgets/base",
      "model_module_version": "1.0.0",
      "model_name": "LayoutModel",
      "state": {
       "width": "20%"
      }
     },
     "264c71cb5c2f448fbc2b032fcae8e7e8": {
      "model_module": "@jupyter-widgets/controls",
      "model_module_version": "1.0.0",
      "model_name": "DescriptionStyleModel",
      "state": {
       "description_width": ""
      }
     },
     "266acbea6439498d9c9835dd34bc2b56": {
      "model_module": "@jupyter-widgets/controls",
      "model_module_version": "1.0.0",
      "model_name": "HBoxModel",
      "state": {
       "children": [
        "IPY_MODEL_3a1f7ad3862c448a9d633ce9308ec357",
        "IPY_MODEL_72ca2da620864950a1ce9d943470cdf3"
       ],
       "layout": "IPY_MODEL_a90a70232dbc40e498e9530981c3096b"
      }
     },
     "26b0a8291b8a43779ec1ea5975dce562": {
      "model_module": "@jupyter-widgets/base",
      "model_module_version": "1.0.0",
      "model_name": "LayoutModel",
      "state": {
       "width": "100%"
      }
     },
     "270b6d3846df4858be126fb7414162e0": {
      "model_module": "@jupyter-widgets/controls",
      "model_module_version": "1.0.0",
      "model_name": "DropdownModel",
      "state": {
       "_options_labels": [
        "ori.order",
        "group",
        "new.order",
        "categorical",
        "_calour_original_abundance"
       ],
       "index": 0,
       "layout": "IPY_MODEL_b99e9da4029b419090801961b9cf61bd",
       "style": "IPY_MODEL_5d347afdf8964e68ad9b873b4e3561ef"
      }
     },
     "277774fb06a445ada09b50fa66740e42": {
      "model_module": "@jupyter-widgets/base",
      "model_module_version": "1.0.0",
      "model_name": "LayoutModel",
      "state": {}
     },
     "27b1fc23675040c7ae865bfc0604cc82": {
      "model_module": "@jupyter-widgets/controls",
      "model_module_version": "1.0.0",
      "model_name": "DescriptionStyleModel",
      "state": {
       "description_width": ""
      }
     },
     "27cb91b373b0428ca464d7ec2e4a81e7": {
      "model_module": "@jupyter-widgets/controls",
      "model_module_version": "1.0.0",
      "model_name": "TextModel",
      "state": {
       "layout": "IPY_MODEL_47e81a79b0d449069d97164dbb7f2445",
       "placeholder": "sample meta",
       "style": "IPY_MODEL_f017309af9ce4009baf89347e8da140d",
       "value": "-"
      }
     },
     "284f28960d404abc9d30388fd673c37c": {
      "model_module": "@jupyter-widgets/controls",
      "model_module_version": "1.0.0",
      "model_name": "HBoxModel",
      "state": {
       "children": [
        "IPY_MODEL_255537ebc0b3440bb5aa1005ee72f7c5",
        "IPY_MODEL_4395cc26020f41f4b1321cc2eb9c4532"
       ],
       "layout": "IPY_MODEL_7daf8677bcaf43b191a32cfa52e9cb66"
      }
     },
     "287bcf9dbc26408cba8f5cdf3348f93b": {
      "model_module": "@jupyter-widgets/controls",
      "model_module_version": "1.0.0",
      "model_name": "DropdownModel",
      "state": {
       "_options_labels": [
        "oxygen",
        "ph",
        "level1",
        "level2",
        "new.order",
        "ori.order",
        "taxonomy"
       ],
       "index": 0,
       "layout": "IPY_MODEL_43d4178e3a6748de8b719661c4738663",
       "style": "IPY_MODEL_1af83f23ed93416fa763860d11a7fbc2"
      }
     },
     "28933b63a14b4519b03df2e558d27162": {
      "model_module": "@jupyter-widgets/base",
      "model_module_version": "1.0.0",
      "model_name": "LayoutModel",
      "state": {
       "width": "20%"
      }
     },
     "2979aa0ba7fa4d099eb2e734cbd2da55": {
      "model_module": "@jupyter-widgets/base",
      "model_module_version": "1.0.0",
      "model_name": "LayoutModel",
      "state": {
       "width": "20%"
      }
     },
     "29e59b1f20dc408bb2d2fff975a9b41b": {
      "model_module": "@jupyter-widgets/controls",
      "model_module_version": "1.0.0",
      "model_name": "DropdownModel",
      "state": {
       "_options_labels": [
        "ori.order",
        "group",
        "new.order",
        "categorical",
        "_calour_original_abundance"
       ],
       "index": 0,
       "layout": "IPY_MODEL_abe3ea449b7341bb8514ac5575384e14",
       "style": "IPY_MODEL_0376c356e3a645a4b26a4cbf09b020c3"
      }
     },
     "29e808bc686b4452995d7e9049b7205f": {
      "model_module": "@jupyter-widgets/base",
      "model_module_version": "1.0.0",
      "model_name": "LayoutModel",
      "state": {
       "width": "20%"
      }
     },
     "29f107f897974babaeec89338afa71e4": {
      "model_module": "@jupyter-widgets/controls",
      "model_module_version": "1.0.0",
      "model_name": "DropdownModel",
      "state": {
       "_options_labels": [
        "oxygen",
        "ph",
        "level1",
        "level2",
        "new.order",
        "ori.order",
        "taxonomy"
       ],
       "index": 0,
       "layout": "IPY_MODEL_7bef7c20e9464d468783ca4a78c3d30d",
       "style": "IPY_MODEL_879abe67fe034d72aa5ee141d7fd465e"
      }
     },
     "2a79dfa401c949a59b6432958fb07569": {
      "model_module": "@jupyter-widgets/controls",
      "model_module_version": "1.0.0",
      "model_name": "ButtonStyleModel",
      "state": {}
     },
     "2a949cb24c8549f99ad364f255401d62": {
      "model_module": "@jupyter-widgets/controls",
      "model_module_version": "1.0.0",
      "model_name": "FloatTextModel",
      "state": {
       "description": "Abundance",
       "layout": "IPY_MODEL_6a78243a8abb4458b19ae1a0500dab91",
       "step": null,
       "style": "IPY_MODEL_7bc60e2cf7fa45db8205d74c444fb512"
      }
     },
     "2aec13d18d6f43d592eea906856e9abc": {
      "model_module": "@jupyter-widgets/controls",
      "model_module_version": "1.0.0",
      "model_name": "DescriptionStyleModel",
      "state": {
       "description_width": ""
      }
     },
     "2b4b30636de24a7d87ec9b53a9931001": {
      "model_module": "@jupyter-widgets/controls",
      "model_module_version": "1.0.0",
      "model_name": "FloatTextModel",
      "state": {
       "description": "Abundance",
       "layout": "IPY_MODEL_e645d7359c8d49039234e2ac88b11a85",
       "step": null,
       "style": "IPY_MODEL_34c560d96eef45a3a977baffe76d58a3",
       "value": 900
      }
     },
     "2ba689d5830d4d06b98eb1020bab37da": {
      "model_module": "@jupyter-widgets/base",
      "model_module_version": "1.0.0",
      "model_name": "LayoutModel",
      "state": {
       "width": "100%"
      }
     },
     "2bb37815d26946618ddde090bc8a36d1": {
      "model_module": "@jupyter-widgets/base",
      "model_module_version": "1.0.0",
      "model_name": "LayoutModel",
      "state": {}
     },
     "2bd369cb84544a29820f7d31f00d75ea": {
      "model_module": "@jupyter-widgets/base",
      "model_module_version": "1.0.0",
      "model_name": "LayoutModel",
      "state": {
       "width": "20%"
      }
     },
     "2bfb81ad23ac4a45baa2a3e07d12d60c": {
      "model_module": "@jupyter-widgets/base",
      "model_module_version": "1.0.0",
      "model_name": "LayoutModel",
      "state": {}
     },
     "2c2795edfcaa4232adfbbcd583c438b4": {
      "model_module": "@jupyter-widgets/base",
      "model_module_version": "1.0.0",
      "model_name": "LayoutModel",
      "state": {
       "width": "20%"
      }
     },
     "2c8de8243de84e59bc88e66697fc11b2": {
      "model_module": "@jupyter-widgets/controls",
      "model_module_version": "1.0.0",
      "model_name": "ButtonModel",
      "state": {
       "description": "Annotate",
       "layout": "IPY_MODEL_fff4cb1692bd4787bc8a886a83220275",
       "style": "IPY_MODEL_b8a335a2fd044ae29795138322201e00"
      }
     },
     "2cd6a44f6b394ae08f319e2560c5ae91": {
      "model_module": "@jupyter-widgets/controls",
      "model_module_version": "1.0.0",
      "model_name": "TextModel",
      "state": {
       "layout": "IPY_MODEL_4ba7c81175cf491ab6cea7432343952d",
       "placeholder": "feature meta",
       "style": "IPY_MODEL_7a41573e30004dbabf0043eee1f46740",
       "value": "anaerobic"
      }
     },
     "2d37a5e15cda47b68a805f2ec44bcbbd": {
      "model_module": "@jupyter-widgets/controls",
      "model_module_version": "1.0.0",
      "model_name": "TextModel",
      "state": {
       "layout": "IPY_MODEL_03f1c9ce4df544d492ec0a01f1a26d87",
       "placeholder": "feature meta",
       "style": "IPY_MODEL_4aae4558364a4e80a2d3a1cd34e490a0",
       "value": "-"
      }
     },
     "2d96f0e0dcce496b9430fe6b238e5ba8": {
      "model_module": "@jupyter-widgets/controls",
      "model_module_version": "1.0.0",
      "model_name": "HBoxModel",
      "state": {
       "children": [
        "IPY_MODEL_12b79f054bad44a593585fa8ca3a8c51",
        "IPY_MODEL_726ebe804d5546d1b1d32c81ba16eb54",
        "IPY_MODEL_6b04e885f258431aa527f05fa131ddcd"
       ],
       "layout": "IPY_MODEL_fe17a9f6eb674a01bf2b574371434fa7"
      }
     },
     "2e2b0abce5da4dc5a6a66343af5f5fe6": {
      "model_module": "@jupyter-widgets/controls",
      "model_module_version": "1.0.0",
      "model_name": "ButtonModel",
      "state": {
       "description": "Save",
       "layout": "IPY_MODEL_054edc993fcf47d388a137916bc92da7",
       "style": "IPY_MODEL_b1865a55f3cc4806936ca9846d26dfdc",
       "tooltip": "Save the selection(s)"
      }
     },
     "2e2fc3b9154e4cc086926a7671fbe671": {
      "model_module": "@jupyter-widgets/controls",
      "model_module_version": "1.0.0",
      "model_name": "DescriptionStyleModel",
      "state": {
       "description_width": ""
      }
     },
     "2e88b9c2aeaa47589580eaa4c139599f": {
      "model_module": "@jupyter-widgets/controls",
      "model_module_version": "1.0.0",
      "model_name": "DropdownModel",
      "state": {
       "_options_labels": [
        "oxygen",
        "ph",
        "level1",
        "level2",
        "new.order",
        "ori.order",
        "taxonomy"
       ],
       "index": 0,
       "layout": "IPY_MODEL_28933b63a14b4519b03df2e558d27162",
       "style": "IPY_MODEL_222c760c1e2c4d4aa967d479fb0effb6"
      }
     },
     "2eb8e2db28e04011a26a20c32b732cd5": {
      "model_module": "@jupyter-widgets/base",
      "model_module_version": "1.0.0",
      "model_name": "LayoutModel",
      "state": {}
     },
     "2ef739485b2b43fcb5cf79c53e6346dd": {
      "model_module": "@jupyter-widgets/controls",
      "model_module_version": "1.0.0",
      "model_name": "DescriptionStyleModel",
      "state": {
       "description_width": ""
      }
     },
     "3031ec9cc51948878c34cf0d2cc36791": {
      "model_module": "@jupyter-widgets/controls",
      "model_module_version": "1.0.0",
      "model_name": "DescriptionStyleModel",
      "state": {
       "description_width": ""
      }
     },
     "303bf4dfd017450fb4be2a009fe5f381": {
      "model_module": "@jupyter-widgets/controls",
      "model_module_version": "1.0.0",
      "model_name": "HTMLModel",
      "state": {
       "layout": "IPY_MODEL_8ae8fe10e65a46efbed6fafc0d1aba7c",
       "style": "IPY_MODEL_5bd5353aa92640ac9a7407187cf89779",
       "value": "<style> a:link {color:black; background-color:transparent; text-decoration:none}a:visited {color:black; background-color:transparent; text-decoration:none}</style><p style=\"color:black;white-space:nowrap;\"><a href=\"http://dbbact.org/annotation_info/NA\"   target=\"_blank\">No annotation found in database dbBact</a></p>"
      }
     },
     "30c9afd23bbb4a14b515ac1cc0d9b2a8": {
      "model_module": "@jupyter-widgets/controls",
      "model_module_version": "1.0.0",
      "model_name": "DropdownModel",
      "state": {
       "_options_labels": [
        "oxygen",
        "ph",
        "level1",
        "level2",
        "new.order",
        "ori.order",
        "taxonomy"
       ],
       "index": 0,
       "layout": "IPY_MODEL_3210a34bce134a5eab168002ba9c757c",
       "style": "IPY_MODEL_960df2a4f6054b57a54b257213e7f63e"
      }
     },
     "31ff334f0f0a4500b8c01fefed5e7a40": {
      "model_module": "@jupyter-widgets/controls",
      "model_module_version": "1.0.0",
      "model_name": "DropdownModel",
      "state": {
       "_options_labels": [
        "oxygen",
        "ph",
        "level1",
        "level2",
        "new.order",
        "ori.order",
        "taxonomy"
       ],
       "index": 0,
       "layout": "IPY_MODEL_2c2795edfcaa4232adfbbcd583c438b4",
       "style": "IPY_MODEL_27b1fc23675040c7ae865bfc0604cc82"
      }
     },
     "3210a34bce134a5eab168002ba9c757c": {
      "model_module": "@jupyter-widgets/base",
      "model_module_version": "1.0.0",
      "model_name": "LayoutModel",
      "state": {
       "width": "20%"
      }
     },
     "32e6f77cf1564b7a942e1df329361bc8": {
      "model_module": "@jupyter-widgets/controls",
      "model_module_version": "1.0.0",
      "model_name": "DescriptionStyleModel",
      "state": {
       "description_width": ""
      }
     },
     "32ed7ce94fa4446685d4c9fd31f767a9": {
      "model_module": "@jupyter-widgets/base",
      "model_module_version": "1.0.0",
      "model_name": "LayoutModel",
      "state": {
       "width": "20%"
      }
     },
     "33344284774f4887ad26d9c556943fe0": {
      "model_module": "@jupyter-widgets/controls",
      "model_module_version": "1.0.0",
      "model_name": "LabelModel",
      "state": {
       "layout": "IPY_MODEL_83abe99485bf4107aac03846fa6c9969",
       "style": "IPY_MODEL_e313380e1f6b41359c77a6705ccd1576",
       "value": "1 features are selected"
      }
     },
     "336d2c9752d943d387b7a98127cf5e54": {
      "model_module": "@jupyter-widgets/controls",
      "model_module_version": "1.0.0",
      "model_name": "TextModel",
      "state": {
       "description": "Sample ID",
       "layout": "IPY_MODEL_2ba689d5830d4d06b98eb1020bab37da",
       "placeholder": "Sample ID",
       "style": "IPY_MODEL_91814db0b8d64f12b71d3d70653e8801",
       "value": "S3"
      }
     },
     "33f27180a6ac49a5b8eac0b8e7c1a59b": {
      "model_module": "@jupyter-widgets/controls",
      "model_module_version": "1.0.0",
      "model_name": "DescriptionStyleModel",
      "state": {
       "description_width": ""
      }
     },
     "3420682b367d4a3f961ac834a60cea69": {
      "model_module": "@jupyter-widgets/controls",
      "model_module_version": "1.0.0",
      "model_name": "ButtonModel",
      "state": {
       "description": "Annotate",
       "layout": "IPY_MODEL_0dcb8e4af49f4ae589e9f9c6952f95c1",
       "style": "IPY_MODEL_480e3f0f685a447ab02485dab40b2440"
      }
     },
     "3499ffa30e94402ba4c68f98a5f63755": {
      "model_module": "@jupyter-widgets/controls",
      "model_module_version": "1.0.0",
      "model_name": "DescriptionStyleModel",
      "state": {
       "description_width": ""
      }
     },
     "34c560d96eef45a3a977baffe76d58a3": {
      "model_module": "@jupyter-widgets/controls",
      "model_module_version": "1.0.0",
      "model_name": "DescriptionStyleModel",
      "state": {
       "description_width": ""
      }
     },
     "34d17a8e01d6450d8bcb4d905aaacbc1": {
      "model_module": "@jupyter-widgets/controls",
      "model_module_version": "1.0.0",
      "model_name": "DescriptionStyleModel",
      "state": {
       "description_width": ""
      }
     },
     "354225d24e364044adb57e3f33eab86a": {
      "model_module": "@jupyter-widgets/controls",
      "model_module_version": "1.0.0",
      "model_name": "TextModel",
      "state": {
       "layout": "IPY_MODEL_6cfc29a9736b486589cddb2aec69eff6",
       "placeholder": "sample meta",
       "style": "IPY_MODEL_7968a43a1a314708885a2febf7586d07",
       "value": "-"
      }
     },
     "354496bb29d4433ab4ccb97caa24001b": {
      "model_module": "@jupyter-widgets/controls",
      "model_module_version": "1.0.0",
      "model_name": "DescriptionStyleModel",
      "state": {
       "description_width": ""
      }
     },
     "3635eb6bf5bd4eb2b3c511ad41937e04": {
      "model_module": "@jupyter-widgets/controls",
      "model_module_version": "1.0.0",
      "model_name": "DropdownModel",
      "state": {
       "_options_labels": [
        "oxygen",
        "ph",
        "level1",
        "level2",
        "new.order",
        "ori.order",
        "taxonomy"
       ],
       "index": 0,
       "layout": "IPY_MODEL_2470ee5124b4465b9848dd784432767a",
       "style": "IPY_MODEL_7bbecd1f33544181b1889546cbaa4c14"
      }
     },
     "367f81208665413ea1e085c2f4e6c455": {
      "model_module": "@jupyter-widgets/controls",
      "model_module_version": "1.0.0",
      "model_name": "ButtonStyleModel",
      "state": {}
     },
     "36dc4783e43a44b388f2c5cdfc82846f": {
      "model_module": "@jupyter-widgets/controls",
      "model_module_version": "1.0.0",
      "model_name": "HBoxModel",
      "state": {
       "children": [
        "IPY_MODEL_022948883ab44feb8b8c02ea11bf5709",
        "IPY_MODEL_c81aaf95ebd94deb936e19ba5d3622f2",
        "IPY_MODEL_48782a6453594d8382b5b86c6eda84b7"
       ],
       "layout": "IPY_MODEL_80eb024d88ec4617a8178421dfb17d8f"
      }
     },
     "36fb6a81180c48d68e3c1213de0693c1": {
      "model_module": "@jupyter-widgets/controls",
      "model_module_version": "1.0.0",
      "model_name": "TextModel",
      "state": {
       "description": "Sample ID",
       "layout": "IPY_MODEL_d59215ebf4b145409800dd999aeb9210",
       "placeholder": "Sample ID",
       "style": "IPY_MODEL_e025ed167a4e45f8b19de4325b880c74",
       "value": "S2"
      }
     },
     "3768e755d3a248859fac3856d251c403": {
      "model_module": "@jupyter-widgets/controls",
      "model_module_version": "1.0.0",
      "model_name": "ButtonStyleModel",
      "state": {}
     },
     "37a7059974b241c89345100dcfa39b8e": {
      "model_module": "@jupyter-widgets/controls",
      "model_module_version": "1.0.0",
      "model_name": "DescriptionStyleModel",
      "state": {
       "description_width": ""
      }
     },
     "383eff41594943228926d9b13904e810": {
      "model_module": "@jupyter-widgets/controls",
      "model_module_version": "1.0.0",
      "model_name": "LabelModel",
      "state": {
       "layout": "IPY_MODEL_7023f7c41ae144399908a4f124e9db30",
       "style": "IPY_MODEL_42527617e31540bda5e8c2bad299ee44",
       "value": "0 features are selected"
      }
     },
     "389e14a306a3404fa87ca08730449c9d": {
      "model_module": "@jupyter-widgets/controls",
      "model_module_version": "1.0.0",
      "model_name": "TextModel",
      "state": {
       "description": "Feature ID",
       "layout": "IPY_MODEL_019046940176475d87de54db26107ee7",
       "placeholder": "Feature ID",
       "style": "IPY_MODEL_71ae1c1cdd5d43dfa2c3cf492850d582",
       "value": "AT"
      }
     },
     "39410abbc167453387a2c1c5e76bcf55": {
      "model_module": "@jupyter-widgets/controls",
      "model_module_version": "1.0.0",
      "model_name": "HBoxModel",
      "state": {
       "children": [
        "IPY_MODEL_9802adaa4e154ffdb94436771cbfd92b",
        "IPY_MODEL_4718753b688d4ccf992e28d8c92e5cc5"
       ],
       "layout": "IPY_MODEL_544ce9bde23e4414a401b9c64bab2e25"
      }
     },
     "39a0c7e40f304fa99aeae4b208ecc13b": {
      "model_module": "@jupyter-widgets/controls",
      "model_module_version": "1.0.0",
      "model_name": "DescriptionStyleModel",
      "state": {
       "description_width": ""
      }
     },
     "3a1f7ad3862c448a9d633ce9308ec357": {
      "model_module": "@jupyter-widgets/controls",
      "model_module_version": "1.0.0",
      "model_name": "DropdownModel",
      "state": {
       "_options_labels": [
        "oxygen",
        "ph",
        "level1",
        "level2",
        "new.order",
        "ori.order",
        "taxonomy"
       ],
       "index": 0,
       "layout": "IPY_MODEL_170910412c47479d93ab6de0cfe5134d",
       "style": "IPY_MODEL_c731b56898dc4e27ab0253d2af3629dc"
      }
     },
     "3a227cd0d6bd41d4bd2b38aea0a2a997": {
      "model_module": "@jupyter-widgets/base",
      "model_module_version": "1.0.0",
      "model_name": "LayoutModel",
      "state": {
       "width": "80%"
      }
     },
     "3a272e5250e94bda8d8d50c0e56ed531": {
      "model_module": "@jupyter-widgets/controls",
      "model_module_version": "1.0.0",
      "model_name": "DropdownModel",
      "state": {
       "_options_labels": [
        "oxygen",
        "ph",
        "level1",
        "level2",
        "new.order",
        "ori.order",
        "taxonomy"
       ],
       "index": 0,
       "layout": "IPY_MODEL_1bca3f6dd10c4d21b4f8e64d641d5e00",
       "style": "IPY_MODEL_08e7c1acec87461f8d4f65b1f5a24b60"
      }
     },
     "3ad0d55915714ffb9375ffbaf886cf13": {
      "model_module": "@jupyter-widgets/base",
      "model_module_version": "1.0.0",
      "model_name": "LayoutModel",
      "state": {}
     },
     "3ba474507f8e46aa97e33120097f76f3": {
      "model_module": "@jupyter-widgets/controls",
      "model_module_version": "1.0.0",
      "model_name": "DescriptionStyleModel",
      "state": {
       "description_width": ""
      }
     },
     "3bb822e442e044afaae17f995f5c8a5e": {
      "model_module": "@jupyter-widgets/base",
      "model_module_version": "1.0.0",
      "model_name": "LayoutModel",
      "state": {}
     },
     "3c7ffdcf60624398aa86e346c6a81ecc": {
      "model_module": "@jupyter-widgets/controls",
      "model_module_version": "1.0.0",
      "model_name": "DescriptionStyleModel",
      "state": {
       "description_width": ""
      }
     },
     "3c99b2cb53f348098705e2b6ec245d63": {
      "model_module": "@jupyter-widgets/controls",
      "model_module_version": "1.0.0",
      "model_name": "DescriptionStyleModel",
      "state": {
       "description_width": ""
      }
     },
     "3d476dd4fe5a4d309ebc33a3228e1984": {
      "model_module": "@jupyter-widgets/controls",
      "model_module_version": "1.0.0",
      "model_name": "DropdownModel",
      "state": {
       "_options_labels": [
        "oxygen",
        "ph",
        "level1",
        "level2",
        "new.order",
        "ori.order",
        "taxonomy"
       ],
       "index": 0,
       "layout": "IPY_MODEL_2bd369cb84544a29820f7d31f00d75ea",
       "style": "IPY_MODEL_a27ef6f8258a4627a196f6c7e3d9208e"
      }
     },
     "3d60c6483bad4efebc2f73a3c5fe22c7": {
      "model_module": "@jupyter-widgets/base",
      "model_module_version": "1.0.0",
      "model_name": "LayoutModel",
      "state": {}
     },
     "3e9d3806dcc145989927b1e74fb92344": {
      "model_module": "@jupyter-widgets/controls",
      "model_module_version": "1.0.0",
      "model_name": "DescriptionStyleModel",
      "state": {
       "description_width": ""
      }
     },
     "3ea86f2b58ad4827964408c8d437eced": {
      "model_module": "@jupyter-widgets/controls",
      "model_module_version": "1.0.0",
      "model_name": "DescriptionStyleModel",
      "state": {
       "description_width": ""
      }
     },
     "3effb17aa2a4473fbe49ea9685595680": {
      "model_module": "@jupyter-widgets/controls",
      "model_module_version": "1.0.0",
      "model_name": "TextModel",
      "state": {
       "description": "Sample ID",
       "layout": "IPY_MODEL_80c5bc5bac9f4b009ff6369d9b52c34d",
       "placeholder": "Sample ID",
       "style": "IPY_MODEL_bcb1a3d1bc194669a7016a10d8c99974",
       "value": "-"
      }
     },
     "3f1a094381784559bff88f2e238299e3": {
      "model_module": "@jupyter-widgets/controls",
      "model_module_version": "1.0.0",
      "model_name": "TextModel",
      "state": {
       "description": "Feature ID",
       "layout": "IPY_MODEL_26b0a8291b8a43779ec1ea5975dce562",
       "placeholder": "Feature ID",
       "style": "IPY_MODEL_ea9ba488adb14f929111ea8b48fbc9e7",
       "value": "TA"
      }
     },
     "3f1bcaf1c7df4fc9b42f9ff393e652d9": {
      "model_module": "@jupyter-widgets/controls",
      "model_module_version": "1.0.0",
      "model_name": "LabelModel",
      "state": {
       "layout": "IPY_MODEL_dc8840a850dc4b9a917c76c09a539f1c",
       "style": "IPY_MODEL_9ca03c1d41354c71be81a71d333417ee",
       "value": "0 features are selected"
      }
     },
     "3f84dbfd56524588b905d65224fb99b7": {
      "model_module": "@jupyter-widgets/controls",
      "model_module_version": "1.0.0",
      "model_name": "ButtonStyleModel",
      "state": {}
     },
     "3fcda6f2fb8c4481a8daed3a5dc0b21c": {
      "model_module": "@jupyter-widgets/controls",
      "model_module_version": "1.0.0",
      "model_name": "ButtonStyleModel",
      "state": {}
     },
     "3fe8ba46b3be4ea78feca9feb84f3297": {
      "model_module": "@jupyter-widgets/controls",
      "model_module_version": "1.0.0",
      "model_name": "LabelModel",
      "state": {
       "layout": "IPY_MODEL_66e03cdd6dd140baa4c0bb44184822b3",
       "style": "IPY_MODEL_e240ab8593bd4e1e87e617545d0e25b0",
       "value": "0 features are selected"
      }
     },
     "3ff5012bd69a49138566f31f67ade583": {
      "model_module": "@jupyter-widgets/controls",
      "model_module_version": "1.0.0",
      "model_name": "DescriptionStyleModel",
      "state": {
       "description_width": ""
      }
     },
     "403ccc4602c54ebf9c5913e99ca37ce7": {
      "model_module": "@jupyter-widgets/base",
      "model_module_version": "1.0.0",
      "model_name": "LayoutModel",
      "state": {}
     },
     "40ec191134c74d55ac914e8421098573": {
      "model_module": "@jupyter-widgets/controls",
      "model_module_version": "1.0.0",
      "model_name": "DescriptionStyleModel",
      "state": {
       "description_width": ""
      }
     },
     "41109dfeb3eb418b93516e3e34efb8a4": {
      "model_module": "@jupyter-widgets/controls",
      "model_module_version": "1.0.0",
      "model_name": "DropdownModel",
      "state": {
       "_options_labels": [
        "oxygen",
        "ph",
        "level1",
        "level2",
        "new.order",
        "ori.order",
        "taxonomy"
       ],
       "index": 0,
       "layout": "IPY_MODEL_b823c3e52c424a33ac95ee01ac525d6d",
       "style": "IPY_MODEL_2aec13d18d6f43d592eea906856e9abc"
      }
     },
     "419e6fcc7ceb4895bfe29bc9294e0bcc": {
      "model_module": "@jupyter-widgets/controls",
      "model_module_version": "1.0.0",
      "model_name": "HTMLModel",
      "state": {
       "layout": "IPY_MODEL_68d69335456a4a9eb8285559f8a6244f",
       "style": "IPY_MODEL_32e6f77cf1564b7a942e1df329361bc8",
       "value": "<style> a:link {color:black; background-color:transparent; text-decoration:none}a:visited {color:black; background-color:transparent; text-decoration:none}</style><p style=\"color:black;white-space:nowrap;\"><a href=\"http://dbbact.org/annotation_info/NA\"   target=\"_blank\">No annotation found in database dbBact</a></p>"
      }
     },
     "41aa402ee7d14626a93a4fd8eb2fdf72": {
      "model_module": "@jupyter-widgets/base",
      "model_module_version": "1.0.0",
      "model_name": "LayoutModel",
      "state": {
       "height": "100px",
       "overflow_y": "auto"
      }
     },
     "41cda9e6486e4b50b31d77ed42a32c2e": {
      "model_module": "@jupyter-widgets/controls",
      "model_module_version": "1.0.0",
      "model_name": "TextModel",
      "state": {
       "description": "Sample ID",
       "layout": "IPY_MODEL_5d7e0419d4ec4655b22c5d7169b62c7f",
       "placeholder": "Sample ID",
       "style": "IPY_MODEL_8ec1123f964a4ad993760b0c3b4053d1",
       "value": "-"
      }
     },
     "42527617e31540bda5e8c2bad299ee44": {
      "model_module": "@jupyter-widgets/controls",
      "model_module_version": "1.0.0",
      "model_name": "DescriptionStyleModel",
      "state": {
       "description_width": ""
      }
     },
     "426af36c438e42928a587f3cefaccecd": {
      "model_module": "@jupyter-widgets/controls",
      "model_module_version": "1.0.0",
      "model_name": "DropdownModel",
      "state": {
       "_options_labels": [
        "ori.order",
        "group",
        "new.order",
        "categorical",
        "_calour_original_abundance"
       ],
       "index": 0,
       "layout": "IPY_MODEL_ecd4c081588e4208aef03886f1406ce6",
       "style": "IPY_MODEL_af8fdc59253e49b9b9d99462cfdf1ac2"
      }
     },
     "426c43fca8b04f82896dedf27ad74826": {
      "model_module": "@jupyter-widgets/base",
      "model_module_version": "1.0.0",
      "model_name": "LayoutModel",
      "state": {}
     },
     "42d2c3b567f84b668c7dacfc2f617807": {
      "model_module": "@jupyter-widgets/controls",
      "model_module_version": "1.0.0",
      "model_name": "DescriptionStyleModel",
      "state": {
       "description_width": ""
      }
     },
     "433210ce464844fcb3b51d74ec0d7eec": {
      "model_module": "@jupyter-widgets/controls",
      "model_module_version": "1.0.0",
      "model_name": "DescriptionStyleModel",
      "state": {
       "description_width": ""
      }
     },
     "436daf778d42400cbcbf5fdd3a76f456": {
      "model_module": "@jupyter-widgets/controls",
      "model_module_version": "1.0.0",
      "model_name": "LabelModel",
      "state": {
       "layout": "IPY_MODEL_a947787b553a485fab496b15d7e0bb9a",
       "style": "IPY_MODEL_b957e7ac728047f48100ffb857fc966b",
       "value": "0 features are selected"
      }
     },
     "4395cc26020f41f4b1321cc2eb9c4532": {
      "model_module": "@jupyter-widgets/controls",
      "model_module_version": "1.0.0",
      "model_name": "TextModel",
      "state": {
       "layout": "IPY_MODEL_6b05e69ce5d848c98718e99b4bcdf07a",
       "placeholder": "feature meta",
       "style": "IPY_MODEL_175799df856748a3bbbad60e888ea6f4",
       "value": "-"
      }
     },
     "43a16580f116427a87abeda9ec8465da": {
      "model_module": "@jupyter-widgets/base",
      "model_module_version": "1.0.0",
      "model_name": "LayoutModel",
      "state": {}
     },
     "43d4178e3a6748de8b719661c4738663": {
      "model_module": "@jupyter-widgets/base",
      "model_module_version": "1.0.0",
      "model_name": "LayoutModel",
      "state": {
       "width": "20%"
      }
     },
     "44705496aa0c4ec488da67db63d7cdc6": {
      "model_module": "@jupyter-widgets/base",
      "model_module_version": "1.0.0",
      "model_name": "LayoutModel",
      "state": {}
     },
     "44994213f04e4c3ba75264ca4cf6a7cd": {
      "model_module": "@jupyter-widgets/base",
      "model_module_version": "1.0.0",
      "model_name": "LayoutModel",
      "state": {
       "width": "100%"
      }
     },
     "44f1c99134484a6192cae249bf8853d0": {
      "model_module": "@jupyter-widgets/base",
      "model_module_version": "1.0.0",
      "model_name": "LayoutModel",
      "state": {}
     },
     "45a205b117a7489a8113fb0148a15d91": {
      "model_module": "@jupyter-widgets/controls",
      "model_module_version": "1.0.0",
      "model_name": "DescriptionStyleModel",
      "state": {
       "description_width": ""
      }
     },
     "45f7a1809e424d3096633eb86818a591": {
      "model_module": "@jupyter-widgets/controls",
      "model_module_version": "1.0.0",
      "model_name": "HBoxModel",
      "state": {
       "children": [
        "IPY_MODEL_bce1f898cb464f538ae1f5f348174688",
        "IPY_MODEL_fca0c8965c7b48618a67af8a73038f08",
        "IPY_MODEL_83d02d059fdd49beb8d858c03c30d6fa"
       ],
       "layout": "IPY_MODEL_44f1c99134484a6192cae249bf8853d0"
      }
     },
     "45fd4d89452c4a8685ed528df010d21d": {
      "model_module": "@jupyter-widgets/controls",
      "model_module_version": "1.0.0",
      "model_name": "TextModel",
      "state": {
       "layout": "IPY_MODEL_4d92915449c142699bfea6102a532c03",
       "placeholder": "sample meta",
       "style": "IPY_MODEL_3031ec9cc51948878c34cf0d2cc36791",
       "value": "8"
      }
     },
     "463ccf9e5f9e48569343575f205adec3": {
      "model_module": "@jupyter-widgets/base",
      "model_module_version": "1.0.0",
      "model_name": "LayoutModel",
      "state": {
       "height": "100px",
       "overflow_y": "auto"
      }
     },
     "46fd1a9ea25a4c888e0f728591bcbb77": {
      "model_module": "@jupyter-widgets/controls",
      "model_module_version": "1.0.0",
      "model_name": "FloatTextModel",
      "state": {
       "description": "Abundance",
       "layout": "IPY_MODEL_b9e20f433739466d836038e789e66f1a",
       "step": null,
       "style": "IPY_MODEL_eb416d4fc8084a5c9ce91c8c0ef6846c"
      }
     },
     "4718753b688d4ccf992e28d8c92e5cc5": {
      "model_module": "@jupyter-widgets/controls",
      "model_module_version": "1.0.0",
      "model_name": "TextModel",
      "state": {
       "layout": "IPY_MODEL_cffcaf88bd3b432bac472831ed6b33d3",
       "placeholder": "sample meta",
       "style": "IPY_MODEL_65acef67ce394b698ae560a4ed6b5fc9",
       "value": "8"
      }
     },
     "478d897582d1402791ae5fcd9a92698c": {
      "model_module": "@jupyter-widgets/controls",
      "model_module_version": "1.0.0",
      "model_name": "DescriptionStyleModel",
      "state": {
       "description_width": ""
      }
     },
     "47e81a79b0d449069d97164dbb7f2445": {
      "model_module": "@jupyter-widgets/base",
      "model_module_version": "1.0.0",
      "model_name": "LayoutModel",
      "state": {
       "width": "80%"
      }
     },
     "480e3f0f685a447ab02485dab40b2440": {
      "model_module": "@jupyter-widgets/controls",
      "model_module_version": "1.0.0",
      "model_name": "ButtonStyleModel",
      "state": {}
     },
     "48318f6ceacd41b3bcd639a430ea7386": {
      "model_module": "@jupyter-widgets/controls",
      "model_module_version": "1.0.0",
      "model_name": "DescriptionStyleModel",
      "state": {
       "description_width": ""
      }
     },
     "48782a6453594d8382b5b86c6eda84b7": {
      "model_module": "@jupyter-widgets/controls",
      "model_module_version": "1.0.0",
      "model_name": "ButtonModel",
      "state": {
       "description": "Annotate",
       "layout": "IPY_MODEL_da8d13a9f853462cb0af42514b19e892",
       "style": "IPY_MODEL_3fcda6f2fb8c4481a8daed3a5dc0b21c"
      }
     },
     "48885d2c446042efa4b74b97572049e6": {
      "model_module": "@jupyter-widgets/base",
      "model_module_version": "1.0.0",
      "model_name": "LayoutModel",
      "state": {}
     },
     "4893f5e05fd546ce8e956d8083dff7d0": {
      "model_module": "@jupyter-widgets/base",
      "model_module_version": "1.0.0",
      "model_name": "LayoutModel",
      "state": {}
     },
     "496cb9f2f0ec49dca3c0e80f1431ac3e": {
      "model_module": "@jupyter-widgets/controls",
      "model_module_version": "1.0.0",
      "model_name": "HBoxModel",
      "state": {
       "children": [
        "IPY_MODEL_753d38c4b75d42a9bcf588978cef511c",
        "IPY_MODEL_94343b458ad346609429d806bf90ad88",
        "IPY_MODEL_e92c6a864cc747e9b91def861fcec3d5"
       ],
       "layout": "IPY_MODEL_928d371f132f4db0bc065c7e360ab249"
      }
     },
     "4983a569ae68420a8b65fbba8871f3ce": {
      "model_module": "@jupyter-widgets/base",
      "model_module_version": "1.0.0",
      "model_name": "LayoutModel",
      "state": {}
     },
     "49b9fba17ead47689325a581f61a2185": {
      "model_module": "@jupyter-widgets/base",
      "model_module_version": "1.0.0",
      "model_name": "LayoutModel",
      "state": {
       "width": "100%"
      }
     },
     "4a52fb73e8fc4c2fb1b68fd6a23986a6": {
      "model_module": "@jupyter-widgets/controls",
      "model_module_version": "1.0.0",
      "model_name": "ButtonModel",
      "state": {
       "description": "Annotate",
       "layout": "IPY_MODEL_426c43fca8b04f82896dedf27ad74826",
       "style": "IPY_MODEL_ffbc70be7ab041438df3d5e5ea61d049"
      }
     },
     "4a71d6cbea354d23834a2c450a205076": {
      "model_module": "@jupyter-widgets/controls",
      "model_module_version": "1.0.0",
      "model_name": "TextModel",
      "state": {
       "description": "Sample ID",
       "layout": "IPY_MODEL_c10309f8310f4f6b8aba5ee20d8734be",
       "placeholder": "Sample ID",
       "style": "IPY_MODEL_33f27180a6ac49a5b8eac0b8e7c1a59b",
       "value": "S9"
      }
     },
     "4aae4558364a4e80a2d3a1cd34e490a0": {
      "model_module": "@jupyter-widgets/controls",
      "model_module_version": "1.0.0",
      "model_name": "DescriptionStyleModel",
      "state": {
       "description_width": ""
      }
     },
     "4ad914973dc449108fc75e33fec426bb": {
      "model_module": "@jupyter-widgets/controls",
      "model_module_version": "1.0.0",
      "model_name": "DescriptionStyleModel",
      "state": {
       "description_width": ""
      }
     },
     "4b1831b5a72e4998ab49867d07da36d5": {
      "model_module": "@jupyter-widgets/controls",
      "model_module_version": "1.0.0",
      "model_name": "ButtonModel",
      "state": {
       "description": "Annotate",
       "layout": "IPY_MODEL_f7629e405cd54f89af940ada9ecc0ff8",
       "style": "IPY_MODEL_f88872a804bc43ed9a908b306dd8436d"
      }
     },
     "4b1f475415bd461db71ad386a26f7e13": {
      "model_module": "@jupyter-widgets/controls",
      "model_module_version": "1.0.0",
      "model_name": "DescriptionStyleModel",
      "state": {
       "description_width": ""
      }
     },
     "4b505a53db964658a04ea97938d2e8ad": {
      "model_module": "@jupyter-widgets/controls",
      "model_module_version": "1.0.0",
      "model_name": "TextModel",
      "state": {
       "layout": "IPY_MODEL_e2553d094641498c974282a69cb0ddd1",
       "placeholder": "sample meta",
       "style": "IPY_MODEL_61bab3f594704f2a9c85b7d990915cef",
       "value": "1"
      }
     },
     "4b5072a20aa94e65bd92770a67611ca5": {
      "model_module": "@jupyter-widgets/controls",
      "model_module_version": "1.0.0",
      "model_name": "DescriptionStyleModel",
      "state": {
       "description_width": ""
      }
     },
     "4b66e6ad6758443c8d030ff1915ff35a": {
      "model_module": "@jupyter-widgets/base",
      "model_module_version": "1.0.0",
      "model_name": "LayoutModel",
      "state": {
       "width": "80%"
      }
     },
     "4b7398aac7f045878bcfad5f24ceac70": {
      "model_module": "@jupyter-widgets/base",
      "model_module_version": "1.0.0",
      "model_name": "LayoutModel",
      "state": {}
     },
     "4b9bf28a5ef74b7e9106fa09d8b26bbf": {
      "model_module": "@jupyter-widgets/controls",
      "model_module_version": "1.0.0",
      "model_name": "HBoxModel",
      "state": {
       "children": [
        "IPY_MODEL_30c9afd23bbb4a14b515ac1cc0d9b2a8",
        "IPY_MODEL_9d1881feb0e84fffbecd19f344db35cd"
       ],
       "layout": "IPY_MODEL_4983a569ae68420a8b65fbba8871f3ce"
      }
     },
     "4ba7c81175cf491ab6cea7432343952d": {
      "model_module": "@jupyter-widgets/base",
      "model_module_version": "1.0.0",
      "model_name": "LayoutModel",
      "state": {
       "width": "80%"
      }
     },
     "4c4a6d2cb43b471eaa24e37f75b812f9": {
      "model_module": "@jupyter-widgets/controls",
      "model_module_version": "1.0.0",
      "model_name": "ButtonModel",
      "state": {
       "description": "Save",
       "layout": "IPY_MODEL_4b7398aac7f045878bcfad5f24ceac70",
       "style": "IPY_MODEL_cf6228db2ae140679ec14ac74a5d0247",
       "tooltip": "Save the selection(s)"
      }
     },
     "4cc227f13fbd45b7bc5323599c31540b": {
      "model_module": "@jupyter-widgets/controls",
      "model_module_version": "1.0.0",
      "model_name": "TextModel",
      "state": {
       "description": "Feature ID",
       "layout": "IPY_MODEL_c10309f8310f4f6b8aba5ee20d8734be",
       "placeholder": "Feature ID",
       "style": "IPY_MODEL_dfbc4242017a4239b2993de119455213",
       "value": "TC"
      }
     },
     "4cce2edfb5ae42c585549507fdfe1826": {
      "model_module": "@jupyter-widgets/controls",
      "model_module_version": "1.0.0",
      "model_name": "TextModel",
      "state": {
       "layout": "IPY_MODEL_b66cbc1194f04311a4018a0c8caa09c3",
       "placeholder": "sample meta",
       "style": "IPY_MODEL_6bbbd5abc3ac469cb144935a38bbba26",
       "value": "-"
      }
     },
     "4cdb36b14f8e468eb174fa57ee9e4e66": {
      "model_module": "@jupyter-widgets/base",
      "model_module_version": "1.0.0",
      "model_name": "LayoutModel",
      "state": {}
     },
     "4d59a5ada21d43ab9b4b2d403ad65e0c": {
      "model_module": "@jupyter-widgets/controls",
      "model_module_version": "1.0.0",
      "model_name": "HBoxModel",
      "state": {
       "children": [
        "IPY_MODEL_9f820ac307b94e6f8c537a5501a0236a",
        "IPY_MODEL_2d37a5e15cda47b68a805f2ec44bcbbd"
       ],
       "layout": "IPY_MODEL_43a16580f116427a87abeda9ec8465da"
      }
     },
     "4d92915449c142699bfea6102a532c03": {
      "model_module": "@jupyter-widgets/base",
      "model_module_version": "1.0.0",
      "model_name": "LayoutModel",
      "state": {
       "width": "80%"
      }
     },
     "4d9ebfcc416f45a3bc4640a12862b93b": {
      "model_module": "@jupyter-widgets/base",
      "model_module_version": "1.0.0",
      "model_name": "LayoutModel",
      "state": {
       "height": "100px",
       "overflow_y": "auto"
      }
     },
     "4e275977fa734baa8bb4a9a9b5991816": {
      "model_module": "@jupyter-widgets/controls",
      "model_module_version": "1.0.0",
      "model_name": "HBoxModel",
      "state": {
       "children": [
        "IPY_MODEL_1fc0a26a88e04820bd0e31013f0d20f3",
        "IPY_MODEL_4b505a53db964658a04ea97938d2e8ad"
       ],
       "layout": "IPY_MODEL_fe5d837c7ba7440a913f182b402e409f"
      }
     },
     "4eaaeb69621c4c9a9418c57f4a4f2e40": {
      "model_module": "@jupyter-widgets/controls",
      "model_module_version": "1.0.0",
      "model_name": "ButtonStyleModel",
      "state": {}
     },
     "4f0614ca1de848638a415a2a8ccb8807": {
      "model_module": "@jupyter-widgets/controls",
      "model_module_version": "1.0.0",
      "model_name": "ButtonModel",
      "state": {
       "description": "print axes ranges",
       "layout": "IPY_MODEL_f8f2509347ce4216930b3b739010eeb0",
       "style": "IPY_MODEL_7cb4f927092a4406ac2e1aa4fd672e0b",
       "tooltip": "Print the x axis and y axis ranges. Useful to pass to `rect` parameter of heatmap() to zoom in the region automatically."
      }
     },
     "4f3ecb51b51041fbbf4a1b6a94b47faa": {
      "model_module": "@jupyter-widgets/controls",
      "model_module_version": "1.0.0",
      "model_name": "HBoxModel",
      "state": {
       "children": [
        "IPY_MODEL_5567978f1208402aa53fd7c4c502a945",
        "IPY_MODEL_c014d91977b94ce19671f87a8bfbb187",
        "IPY_MODEL_e5c7ccb9dc224b3e93a57929237dea0a"
       ],
       "layout": "IPY_MODEL_9d96b4c7dbf249aa9e759a336fffe6d5"
      }
     },
     "4f464af4da23451a856be68754ae15b6": {
      "model_module": "@jupyter-widgets/base",
      "model_module_version": "1.0.0",
      "model_name": "LayoutModel",
      "state": {}
     },
     "4f647c79f6344ce1b5ccb6369e4c9872": {
      "model_module": "@jupyter-widgets/controls",
      "model_module_version": "1.0.0",
      "model_name": "HBoxModel",
      "state": {
       "children": [
        "IPY_MODEL_914dc9b399cc4d9d8bc40c5f5c8f2001",
        "IPY_MODEL_a9c7d5950d9143d687f78a5747709eb2"
       ],
       "layout": "IPY_MODEL_0bfca4e6359a4e6cbd9128b26181b722"
      }
     },
     "4ffc944b0ad5429397444de5a2179e61": {
      "model_module": "@jupyter-widgets/controls",
      "model_module_version": "1.0.0",
      "model_name": "DescriptionStyleModel",
      "state": {
       "description_width": ""
      }
     },
     "4ffe4af096164b31a7c16031578d6bd2": {
      "model_module": "@jupyter-widgets/controls",
      "model_module_version": "1.0.0",
      "model_name": "TextModel",
      "state": {
       "layout": "IPY_MODEL_83b1180f221b489eb0f84ba3baf0d21b",
       "placeholder": "feature meta",
       "style": "IPY_MODEL_bfa70a755ef7476790c54af339eb8deb",
       "value": "-"
      }
     },
     "50d91fe195e14cbfabd45f9c2270b3a3": {
      "model_module": "@jupyter-widgets/controls",
      "model_module_version": "1.0.0",
      "model_name": "ButtonStyleModel",
      "state": {}
     },
     "51108bd934ee4c67a0d92fe4929de68e": {
      "model_module": "@jupyter-widgets/controls",
      "model_module_version": "1.0.0",
      "model_name": "TextModel",
      "state": {
       "description": "Feature ID",
       "layout": "IPY_MODEL_03e0490bdbd84a58946021fdba53e55b",
       "placeholder": "Feature ID",
       "style": "IPY_MODEL_f8c78431a7ba42ecb851602b9df0d837",
       "value": "-"
      }
     },
     "51218c4b4aca414d80f0de3af3b71ba0": {
      "model_module": "@jupyter-widgets/base",
      "model_module_version": "1.0.0",
      "model_name": "LayoutModel",
      "state": {}
     },
     "51dc199e597c4ce7b96e4602e0f500dc": {
      "model_module": "@jupyter-widgets/controls",
      "model_module_version": "1.0.0",
      "model_name": "HBoxModel",
      "state": {
       "children": [
        "IPY_MODEL_0cc799d027954a0da877c1b6c0c99afc",
        "IPY_MODEL_0e00371c11dc4a7381104deec97aefcf",
        "IPY_MODEL_5ae7ae5b381d4a298d37d72450ca33c3"
       ],
       "layout": "IPY_MODEL_edfa1bbc094c4adda04362ee3a37442d"
      }
     },
     "5266a1e5d1374d899a445b315533358f": {
      "model_module": "@jupyter-widgets/controls",
      "model_module_version": "1.0.0",
      "model_name": "HBoxModel",
      "state": {
       "children": [
        "IPY_MODEL_5ce812d27d8847a8800537f94dbd1779",
        "IPY_MODEL_21566f57e7074209b44de392e4e27393",
        "IPY_MODEL_d2b2a7ab3d9e4bb1b8f9258ecfbdd050"
       ],
       "layout": "IPY_MODEL_659c5d978baa4f318b2b11d7e4167781"
      }
     },
     "529d9991c9ca4bdfa9f74e7957d3d9b2": {
      "model_module": "@jupyter-widgets/controls",
      "model_module_version": "1.0.0",
      "model_name": "LabelModel",
      "state": {
       "layout": "IPY_MODEL_51218c4b4aca414d80f0de3af3b71ba0",
       "style": "IPY_MODEL_3ea86f2b58ad4827964408c8d437eced",
       "value": "0 features are selected"
      }
     },
     "52f3b7acbfc4479986a61d2766623fd3": {
      "model_module": "@jupyter-widgets/controls",
      "model_module_version": "1.0.0",
      "model_name": "HBoxModel",
      "state": {
       "children": [
        "IPY_MODEL_1d316816306648799af56406d3904b0c",
        "IPY_MODEL_c157b2a65ae247509363ed46c0fb6539",
        "IPY_MODEL_70a507fee43f46cc8fd648953e2442b2"
       ],
       "layout": "IPY_MODEL_89ea376b653c4de2bfeba31e498386d2"
      }
     },
     "53517737dea14c08b4225ce03480407e": {
      "model_module": "@jupyter-widgets/controls",
      "model_module_version": "1.0.0",
      "model_name": "DescriptionStyleModel",
      "state": {
       "description_width": ""
      }
     },
     "538870d6f90f4b3b999fd011f6d303aa": {
      "model_module": "@jupyter-widgets/controls",
      "model_module_version": "1.0.0",
      "model_name": "HBoxModel",
      "state": {
       "children": [
        "IPY_MODEL_c6d76c64fcc242c2ab6eaf01b0f9523f",
        "IPY_MODEL_81e674ca72694d4aa76cbab29d1275b5"
       ],
       "layout": "IPY_MODEL_e7fe72a74b0e4c3cb165d044c2990c47"
      }
     },
     "541d4fd136ab4073ab0990280e3ee208": {
      "model_module": "@jupyter-widgets/base",
      "model_module_version": "1.0.0",
      "model_name": "LayoutModel",
      "state": {}
     },
     "544c7f8ca21b4cc7afa7ac6de0d29d17": {
      "model_module": "@jupyter-widgets/controls",
      "model_module_version": "1.0.0",
      "model_name": "TextModel",
      "state": {
       "description": "Sample ID",
       "layout": "IPY_MODEL_49b9fba17ead47689325a581f61a2185",
       "placeholder": "Sample ID",
       "style": "IPY_MODEL_bbc1e315c00e49789b1c398221ebe175",
       "value": "-"
      }
     },
     "544ce9bde23e4414a401b9c64bab2e25": {
      "model_module": "@jupyter-widgets/base",
      "model_module_version": "1.0.0",
      "model_name": "LayoutModel",
      "state": {}
     },
     "54a4f1f7811643b5817626a2b90ecf2d": {
      "model_module": "@jupyter-widgets/controls",
      "model_module_version": "1.0.0",
      "model_name": "ButtonModel",
      "state": {
       "description": "Annotate",
       "layout": "IPY_MODEL_6d5cf4c76420409c8aa6c8ffcbed1f00",
       "style": "IPY_MODEL_8cc83df01337452c9bdab88f67a36a67"
      }
     },
     "54b21fb5ca70416a923184fab19163f8": {
      "model_module": "@jupyter-widgets/controls",
      "model_module_version": "1.0.0",
      "model_name": "ButtonModel",
      "state": {
       "description": "print axes ranges",
       "layout": "IPY_MODEL_cafdedaee85e4f5f83b8d9bef6a862c3",
       "style": "IPY_MODEL_94d09775552249bc9f906d9407c1047d",
       "tooltip": "Print the x axis and y axis ranges. Useful to pass to `rect` parameter of heatmap() to zoom in the region automatically."
      }
     },
     "54e3b93483e440b2b50459e7b18b5d0b": {
      "model_module": "@jupyter-widgets/controls",
      "model_module_version": "1.0.0",
      "model_name": "DescriptionStyleModel",
      "state": {
       "description_width": ""
      }
     },
     "552dc67caaba4b9c998110d2ef16fabe": {
      "model_module": "@jupyter-widgets/base",
      "model_module_version": "1.0.0",
      "model_name": "LayoutModel",
      "state": {}
     },
     "555d176e04db4da5bc432d8ced7464e0": {
      "model_module": "@jupyter-widgets/controls",
      "model_module_version": "1.0.0",
      "model_name": "LabelModel",
      "state": {
       "layout": "IPY_MODEL_23aa5666830e46a28a3081ea708151b4",
       "style": "IPY_MODEL_fb41f1a7ebde4696b1d5d0e53e452bfd",
       "value": "1 features are selected"
      }
     },
     "5567978f1208402aa53fd7c4c502a945": {
      "model_module": "@jupyter-widgets/controls",
      "model_module_version": "1.0.0",
      "model_name": "TextModel",
      "state": {
       "description": "Sample ID",
       "layout": "IPY_MODEL_f00d265f4407431c9b6f1160207fdc81",
       "placeholder": "Sample ID",
       "style": "IPY_MODEL_84c3f0edd12b4194a3949dcdfc865e7a",
       "value": "S1"
      }
     },
     "557fc7fbbe344a25aef5906ccc4456aa": {
      "model_module": "@jupyter-widgets/base",
      "model_module_version": "1.0.0",
      "model_name": "LayoutModel",
      "state": {}
     },
     "55c5690ccc034658857bb3dfba7de4b0": {
      "model_module": "@jupyter-widgets/controls",
      "model_module_version": "1.0.0",
      "model_name": "DescriptionStyleModel",
      "state": {
       "description_width": ""
      }
     },
     "55d907b31fa84b448d8f1aad19c0df60": {
      "model_module": "@jupyter-widgets/controls",
      "model_module_version": "1.0.0",
      "model_name": "ButtonStyleModel",
      "state": {}
     },
     "55d97b3c8abd4b95ade56822b9fcc20d": {
      "model_module": "@jupyter-widgets/controls",
      "model_module_version": "1.0.0",
      "model_name": "ButtonStyleModel",
      "state": {}
     },
     "56063088efea414a85ae1a8defc66457": {
      "model_module": "@jupyter-widgets/base",
      "model_module_version": "1.0.0",
      "model_name": "LayoutModel",
      "state": {
       "width": "20%"
      }
     },
     "565b1c6b9e874be098cfd20b625f76fe": {
      "model_module": "@jupyter-widgets/base",
      "model_module_version": "1.0.0",
      "model_name": "LayoutModel",
      "state": {
       "width": "100%"
      }
     },
     "565bbe9d08ec4bf4b632b729b5958533": {
      "model_module": "@jupyter-widgets/controls",
      "model_module_version": "1.0.0",
      "model_name": "DescriptionStyleModel",
      "state": {
       "description_width": ""
      }
     },
     "5676144cdbe645c8bf6d8259e1e2647a": {
      "model_module": "@jupyter-widgets/controls",
      "model_module_version": "1.0.0",
      "model_name": "DescriptionStyleModel",
      "state": {
       "description_width": ""
      }
     },
     "56d6390bab0640a28e021d6d0e5f2abd": {
      "model_module": "@jupyter-widgets/controls",
      "model_module_version": "1.0.0",
      "model_name": "ButtonStyleModel",
      "state": {}
     },
     "570501f228ae4e62a67061949e28c699": {
      "model_module": "@jupyter-widgets/base",
      "model_module_version": "1.0.0",
      "model_name": "LayoutModel",
      "state": {}
     },
     "5706ba7662414e09bee0759455e33856": {
      "model_module": "@jupyter-widgets/controls",
      "model_module_version": "1.0.0",
      "model_name": "DescriptionStyleModel",
      "state": {
       "description_width": ""
      }
     },
     "582a75e26aa04fdebd700e8da78af957": {
      "model_module": "@jupyter-widgets/controls",
      "model_module_version": "1.0.0",
      "model_name": "TextModel",
      "state": {
       "layout": "IPY_MODEL_6322c2f8aec142d197a8e9201b0bab98",
       "placeholder": "feature meta",
       "style": "IPY_MODEL_b0110399b90b41f8b940b9d3c8f692f8",
       "value": "aerobic"
      }
     },
     "585237215be14ffdb80a2ea3f9bbd594": {
      "model_module": "@jupyter-widgets/controls",
      "model_module_version": "1.0.0",
      "model_name": "DescriptionStyleModel",
      "state": {
       "description_width": ""
      }
     },
     "58afc157d577451fa4d4ce893914a4db": {
      "model_module": "@jupyter-widgets/base",
      "model_module_version": "1.0.0",
      "model_name": "LayoutModel",
      "state": {
       "height": "100px",
       "overflow_y": "auto"
      }
     },
     "59813787b85646d7a5aba17eb6548f90": {
      "model_module": "@jupyter-widgets/base",
      "model_module_version": "1.0.0",
      "model_name": "LayoutModel",
      "state": {}
     },
     "5985d0c15a8a4ea18e0b57652b09c2d9": {
      "model_module": "@jupyter-widgets/base",
      "model_module_version": "1.0.0",
      "model_name": "LayoutModel",
      "state": {
       "width": "20%"
      }
     },
     "59b2ad4d5528452b801e558233191f54": {
      "model_module": "@jupyter-widgets/base",
      "model_module_version": "1.0.0",
      "model_name": "LayoutModel",
      "state": {}
     },
     "59e976c095204998a963c6f4f945f91f": {
      "model_module": "@jupyter-widgets/base",
      "model_module_version": "1.0.0",
      "model_name": "LayoutModel",
      "state": {
       "width": "20%"
      }
     },
     "5a6267c9ac7d49b896375e360736ae37": {
      "model_module": "@jupyter-widgets/controls",
      "model_module_version": "1.0.0",
      "model_name": "ButtonModel",
      "state": {
       "description": "print axes ranges",
       "layout": "IPY_MODEL_fa2e3ed2c34e40978a63ddc618ddd2ad",
       "style": "IPY_MODEL_d931cba4c3cd4b1e94f390b316e9ea4b",
       "tooltip": "Print the x axis and y axis ranges. Useful to pass to `rect` parameter of heatmap() to zoom in the region automatically."
      }
     },
     "5adfe85ddb7c499bb2d096394ab57d6f": {
      "model_module": "@jupyter-widgets/controls",
      "model_module_version": "1.0.0",
      "model_name": "ButtonStyleModel",
      "state": {}
     },
     "5ae7ae5b381d4a298d37d72450ca33c3": {
      "model_module": "@jupyter-widgets/controls",
      "model_module_version": "1.0.0",
      "model_name": "FloatTextModel",
      "state": {
       "description": "Abundance",
       "layout": "IPY_MODEL_91d34eaab44e4d849f70e949826ffee3",
       "step": null,
       "style": "IPY_MODEL_fe227c119f344263bbc579a5c9c24ebd"
      }
     },
     "5b6a5dd495b4481090dd164544af4155": {
      "model_module": "@jupyter-widgets/controls",
      "model_module_version": "1.0.0",
      "model_name": "DescriptionStyleModel",
      "state": {
       "description_width": ""
      }
     },
     "5b9001b811bd49f38dd1e6f0e92643b4": {
      "model_module": "@jupyter-widgets/controls",
      "model_module_version": "1.0.0",
      "model_name": "TextModel",
      "state": {
       "layout": "IPY_MODEL_b72e766891d8489782dea99baec9b8d4",
       "placeholder": "sample meta",
       "style": "IPY_MODEL_ba09687fc2ef4ed8b5ada170c5f6883c",
       "value": "-"
      }
     },
     "5bb938b40d1d4891b4653d7cd14b7f22": {
      "model_module": "@jupyter-widgets/controls",
      "model_module_version": "1.0.0",
      "model_name": "DescriptionStyleModel",
      "state": {
       "description_width": ""
      }
     },
     "5bcf19c5734e4e53ac7475d545292eda": {
      "model_module": "@jupyter-widgets/controls",
      "model_module_version": "1.0.0",
      "model_name": "LabelModel",
      "state": {
       "layout": "IPY_MODEL_a9c583a886f84b2d820e9e97a0def3fe",
       "style": "IPY_MODEL_243ca8ad67194a5e90e30528a4f3a959",
       "value": "0 features are selected"
      }
     },
     "5bd5353aa92640ac9a7407187cf89779": {
      "model_module": "@jupyter-widgets/controls",
      "model_module_version": "1.0.0",
      "model_name": "DescriptionStyleModel",
      "state": {
       "description_width": ""
      }
     },
     "5c3c15c389ee47ed8b6700aa69b4d975": {
      "model_module": "@jupyter-widgets/controls",
      "model_module_version": "1.0.0",
      "model_name": "DescriptionStyleModel",
      "state": {
       "description_width": ""
      }
     },
     "5c99b41ed6524fbab6a995822dfd431e": {
      "model_module": "@jupyter-widgets/controls",
      "model_module_version": "1.0.0",
      "model_name": "ButtonModel",
      "state": {
       "description": "Save",
       "layout": "IPY_MODEL_f643626637a043cf93c833dab125347a",
       "style": "IPY_MODEL_05014d49071b4400bf2eef46ac4876b6",
       "tooltip": "Save the selection(s)"
      }
     },
     "5cd16490bf0a4375a50d5c297a5ca339": {
      "model_module": "@jupyter-widgets/base",
      "model_module_version": "1.0.0",
      "model_name": "LayoutModel",
      "state": {
       "width": "20%"
      }
     },
     "5ce812d27d8847a8800537f94dbd1779": {
      "model_module": "@jupyter-widgets/controls",
      "model_module_version": "1.0.0",
      "model_name": "ButtonModel",
      "state": {
       "description": "print axes ranges",
       "layout": "IPY_MODEL_806967ab5b2348428e5f2873e3cd2e10",
       "style": "IPY_MODEL_f395051445ed40728dd0eee5ad7b6f8f",
       "tooltip": "Print the x axis and y axis ranges. Useful to pass to `rect` parameter of heatmap function to zoom in the region automatically."
      }
     },
     "5d347afdf8964e68ad9b873b4e3561ef": {
      "model_module": "@jupyter-widgets/controls",
      "model_module_version": "1.0.0",
      "model_name": "DescriptionStyleModel",
      "state": {
       "description_width": ""
      }
     },
     "5d7e0419d4ec4655b22c5d7169b62c7f": {
      "model_module": "@jupyter-widgets/base",
      "model_module_version": "1.0.0",
      "model_name": "LayoutModel",
      "state": {
       "width": "100%"
      }
     },
     "5e61e54d095b4c22aab110b5934924ca": {
      "model_module": "@jupyter-widgets/controls",
      "model_module_version": "1.0.0",
      "model_name": "HBoxModel",
      "state": {
       "children": [
        "IPY_MODEL_9a1563c5454f45ae934861bf403039ac",
        "IPY_MODEL_354225d24e364044adb57e3f33eab86a"
       ],
       "layout": "IPY_MODEL_8892dfae6dd94af2a7767c4d2293f791"
      }
     },
     "5eb423e1e9a04a7c8b36f334111e4bb6": {
      "model_module": "@jupyter-widgets/base",
      "model_module_version": "1.0.0",
      "model_name": "LayoutModel",
      "state": {}
     },
     "5ebdfa33a49b411ebfe62ab85f67bfd3": {
      "model_module": "@jupyter-widgets/controls",
      "model_module_version": "1.0.0",
      "model_name": "DescriptionStyleModel",
      "state": {
       "description_width": ""
      }
     },
     "5ee67d1601fc4ec39f0ea109ddc67685": {
      "model_module": "@jupyter-widgets/controls",
      "model_module_version": "1.0.0",
      "model_name": "DescriptionStyleModel",
      "state": {
       "description_width": ""
      }
     },
     "5fcb24395066450980f09bd5d9940149": {
      "model_module": "@jupyter-widgets/controls",
      "model_module_version": "1.0.0",
      "model_name": "HBoxModel",
      "state": {
       "children": [
        "IPY_MODEL_a077060fd24548a6a6332e1b6a13c720",
        "IPY_MODEL_07e34177f7424e02b6147b119a6e6ab5"
       ],
       "layout": "IPY_MODEL_73df2e60b3ec49a7a694e918dad43d82"
      }
     },
     "6033ad064cf74022b91cf02d892c6302": {
      "model_module": "@jupyter-widgets/base",
      "model_module_version": "1.0.0",
      "model_name": "LayoutModel",
      "state": {}
     },
     "6048211753f944f8b69ae5d26842b0cf": {
      "model_module": "@jupyter-widgets/controls",
      "model_module_version": "1.0.0",
      "model_name": "ButtonStyleModel",
      "state": {}
     },
     "60649a3b46c64cb8a93dc859d9388808": {
      "model_module": "@jupyter-widgets/controls",
      "model_module_version": "1.0.0",
      "model_name": "DescriptionStyleModel",
      "state": {
       "description_width": ""
      }
     },
     "609dff85150d4538ab085ef2142ed917": {
      "model_module": "@jupyter-widgets/controls",
      "model_module_version": "1.0.0",
      "model_name": "LabelModel",
      "state": {
       "layout": "IPY_MODEL_983de6053288462fb9b51281807210b1",
       "style": "IPY_MODEL_7e982471a4d04c73951df4eb2b7e5e75",
       "value": "0 features are selected"
      }
     },
     "611a1e8802c349f3b59b0253d39bcf7d": {
      "model_module": "@jupyter-widgets/controls",
      "model_module_version": "1.0.0",
      "model_name": "DescriptionStyleModel",
      "state": {
       "description_width": ""
      }
     },
     "619a4953f5e043a9a548fad66ccba3ca": {
      "model_module": "@jupyter-widgets/controls",
      "model_module_version": "1.0.0",
      "model_name": "ButtonStyleModel",
      "state": {}
     },
     "61bab3f594704f2a9c85b7d990915cef": {
      "model_module": "@jupyter-widgets/controls",
      "model_module_version": "1.0.0",
      "model_name": "DescriptionStyleModel",
      "state": {
       "description_width": ""
      }
     },
     "61f332d70e2f476a8397be672f3ab39b": {
      "model_module": "@jupyter-widgets/controls",
      "model_module_version": "1.0.0",
      "model_name": "ButtonStyleModel",
      "state": {}
     },
     "6210d9a4c539465c9aa1847af99b36a1": {
      "model_module": "@jupyter-widgets/base",
      "model_module_version": "1.0.0",
      "model_name": "LayoutModel",
      "state": {}
     },
     "6223e83501cd46599813c973d7de8656": {
      "model_module": "@jupyter-widgets/controls",
      "model_module_version": "1.0.0",
      "model_name": "ButtonStyleModel",
      "state": {}
     },
     "62644c855f194c82b8b45793cdbeb491": {
      "model_module": "@jupyter-widgets/controls",
      "model_module_version": "1.0.0",
      "model_name": "LabelModel",
      "state": {
       "layout": "IPY_MODEL_b7bfb8cc6fd5430a82aad0cf066be6d0",
       "style": "IPY_MODEL_788e498b41be4e5dac18b2d294a861ff",
       "value": "0 features are selected"
      }
     },
     "62bff018dc1e48e8b4a98d294bbbae29": {
      "model_module": "@jupyter-widgets/controls",
      "model_module_version": "1.0.0",
      "model_name": "DropdownModel",
      "state": {
       "_options_labels": [
        "oxygen",
        "ph",
        "level1",
        "level2",
        "new.order",
        "ori.order",
        "taxonomy"
       ],
       "index": 0,
       "layout": "IPY_MODEL_e85ff357e1e941ef95c1f4c4e471278e",
       "style": "IPY_MODEL_c72e3a70fded4606abe6fb8e2750b710"
      }
     },
     "631f4a2616524b21ad7ab65309aa7843": {
      "model_module": "@jupyter-widgets/controls",
      "model_module_version": "1.0.0",
      "model_name": "TextModel",
      "state": {
       "description": "Sample ID",
       "layout": "IPY_MODEL_105dc9bc4cdf424f9691cc233cdf519e",
       "placeholder": "Sample ID",
       "style": "IPY_MODEL_c56e1c5f5bfe4100a19d8093a03bbca9",
       "value": "-"
      }
     },
     "6322c2f8aec142d197a8e9201b0bab98": {
      "model_module": "@jupyter-widgets/base",
      "model_module_version": "1.0.0",
      "model_name": "LayoutModel",
      "state": {
       "width": "80%"
      }
     },
     "637553ca7a0d43fda705706126e7eced": {
      "model_module": "@jupyter-widgets/controls",
      "model_module_version": "1.0.0",
      "model_name": "ButtonStyleModel",
      "state": {}
     },
     "637cab06a7964540a03c4c44cc007a97": {
      "model_module": "@jupyter-widgets/base",
      "model_module_version": "1.0.0",
      "model_name": "LayoutModel",
      "state": {
       "width": "20%"
      }
     },
     "63934eef274e419b98c33f370b7a8b9c": {
      "model_module": "@jupyter-widgets/controls",
      "model_module_version": "1.0.0",
      "model_name": "DropdownModel",
      "state": {
       "_options_labels": [
        "oxygen",
        "ph",
        "level1",
        "level2",
        "new.order",
        "ori.order",
        "taxonomy"
       ],
       "index": 0,
       "layout": "IPY_MODEL_c1364fc7758b4ef59a92690a8ea53e71",
       "style": "IPY_MODEL_5ebdfa33a49b411ebfe62ab85f67bfd3"
      }
     },
     "64f7eda8a40d4fffa8cbd42870cc5351": {
      "model_module": "@jupyter-widgets/controls",
      "model_module_version": "1.0.0",
      "model_name": "ButtonStyleModel",
      "state": {}
     },
     "659c5d978baa4f318b2b11d7e4167781": {
      "model_module": "@jupyter-widgets/base",
      "model_module_version": "1.0.0",
      "model_name": "LayoutModel",
      "state": {}
     },
     "65ac9237364c47539f0048f1655628cc": {
      "model_module": "@jupyter-widgets/base",
      "model_module_version": "1.0.0",
      "model_name": "LayoutModel",
      "state": {}
     },
     "65acef67ce394b698ae560a4ed6b5fc9": {
      "model_module": "@jupyter-widgets/controls",
      "model_module_version": "1.0.0",
      "model_name": "DescriptionStyleModel",
      "state": {
       "description_width": ""
      }
     },
     "66347957a913491dbf13fbf84f5d419f": {
      "model_module": "@jupyter-widgets/controls",
      "model_module_version": "1.0.0",
      "model_name": "TextModel",
      "state": {
       "description": "Sample ID",
       "layout": "IPY_MODEL_0b6fe2c41fc84f98b3a16f002cfbb28b",
       "placeholder": "Sample ID",
       "style": "IPY_MODEL_889983beb1e44721bc155ac0b82da191",
       "value": "S9"
      }
     },
     "66bb3766c4444d948885c4e0d150b6b8": {
      "model_module": "@jupyter-widgets/base",
      "model_module_version": "1.0.0",
      "model_name": "LayoutModel",
      "state": {}
     },
     "66e03cdd6dd140baa4c0bb44184822b3": {
      "model_module": "@jupyter-widgets/base",
      "model_module_version": "1.0.0",
      "model_name": "LayoutModel",
      "state": {}
     },
     "6757ce8a7ce14b17ba15553f5b3c59b5": {
      "model_module": "@jupyter-widgets/base",
      "model_module_version": "1.0.0",
      "model_name": "LayoutModel",
      "state": {
       "width": "80%"
      }
     },
     "67ce2baa6faf4ef993a429ec34743e4b": {
      "model_module": "@jupyter-widgets/controls",
      "model_module_version": "1.0.0",
      "model_name": "TextModel",
      "state": {
       "description": "Feature ID",
       "layout": "IPY_MODEL_49b9fba17ead47689325a581f61a2185",
       "placeholder": "Feature ID",
       "style": "IPY_MODEL_ecd7d27d1b4547efaf71ece1dfb7463a",
       "value": "-"
      }
     },
     "6875cdaa8a7c4d8497f1fbd057a50ffd": {
      "model_module": "@jupyter-widgets/controls",
      "model_module_version": "1.0.0",
      "model_name": "DescriptionStyleModel",
      "state": {
       "description_width": ""
      }
     },
     "6877676d1fd94792b98827cf61a53fe1": {
      "model_module": "@jupyter-widgets/controls",
      "model_module_version": "1.0.0",
      "model_name": "HBoxModel",
      "state": {
       "children": [
        "IPY_MODEL_dae5122e005440f296cc33e428da986c",
        "IPY_MODEL_1d2247fc840142599b3ddef502af6cd5"
       ],
       "layout": "IPY_MODEL_1aa033a2c0084e96a8aac724ffcc9e2e"
      }
     },
     "68d69335456a4a9eb8285559f8a6244f": {
      "model_module": "@jupyter-widgets/base",
      "model_module_version": "1.0.0",
      "model_name": "LayoutModel",
      "state": {
       "height": "100px",
       "overflow_y": "auto"
      }
     },
     "69277c7e72204237ad8a465672f0f0e0": {
      "model_module": "@jupyter-widgets/controls",
      "model_module_version": "1.0.0",
      "model_name": "DescriptionStyleModel",
      "state": {
       "description_width": ""
      }
     },
     "695a36c3c1d84196907185f8d97b0d82": {
      "model_module": "@jupyter-widgets/base",
      "model_module_version": "1.0.0",
      "model_name": "LayoutModel",
      "state": {
       "width": "20%"
      }
     },
     "69a8c7b362dc464390ce4ce8d0f479ca": {
      "model_module": "@jupyter-widgets/base",
      "model_module_version": "1.0.0",
      "model_name": "LayoutModel",
      "state": {
       "width": "20%"
      }
     },
     "69d579d7e3eb41478ea0680369cccc81": {
      "model_module": "@jupyter-widgets/controls",
      "model_module_version": "1.0.0",
      "model_name": "LabelModel",
      "state": {
       "layout": "IPY_MODEL_e858d7ed581b4904838b59e46e5a8a84",
       "style": "IPY_MODEL_9e0e8123e265482c84d6942cc9ab754c",
       "value": "0 features are selected"
      }
     },
     "6a01b0a150d54bdf990c99b26ebbb8b4": {
      "model_module": "@jupyter-widgets/controls",
      "model_module_version": "1.0.0",
      "model_name": "FloatTextModel",
      "state": {
       "description": "Abundance",
       "layout": "IPY_MODEL_c10309f8310f4f6b8aba5ee20d8734be",
       "step": null,
       "style": "IPY_MODEL_7ea633521cff401aa3b8eb9814f55e01",
       "value": 900
      }
     },
     "6a055f899a7b4635a8b466305124fc89": {
      "model_module": "@jupyter-widgets/controls",
      "model_module_version": "1.0.0",
      "model_name": "ButtonModel",
      "state": {
       "description": "Save",
       "layout": "IPY_MODEL_af2e94daef064648bac8a9d6c8318db5",
       "style": "IPY_MODEL_3f84dbfd56524588b905d65224fb99b7",
       "tooltip": "Save the selection(s)"
      }
     },
     "6a5ff6f45dbc46978f342ad4d6166c1a": {
      "model_module": "@jupyter-widgets/controls",
      "model_module_version": "1.0.0",
      "model_name": "DescriptionStyleModel",
      "state": {
       "description_width": ""
      }
     },
     "6a71069cbb2c43438b8568cd956163c5": {
      "model_module": "@jupyter-widgets/base",
      "model_module_version": "1.0.0",
      "model_name": "LayoutModel",
      "state": {
       "width": "20%"
      }
     },
     "6a78243a8abb4458b19ae1a0500dab91": {
      "model_module": "@jupyter-widgets/base",
      "model_module_version": "1.0.0",
      "model_name": "LayoutModel",
      "state": {
       "width": "100%"
      }
     },
     "6a94fb38b86145b089f8f533170451e3": {
      "model_module": "@jupyter-widgets/base",
      "model_module_version": "1.0.0",
      "model_name": "LayoutModel",
      "state": {}
     },
     "6b04e885f258431aa527f05fa131ddcd": {
      "model_module": "@jupyter-widgets/controls",
      "model_module_version": "1.0.0",
      "model_name": "ButtonModel",
      "state": {
       "description": "Annotate",
       "layout": "IPY_MODEL_0e07ef18630d400ebd047cfa66842770",
       "style": "IPY_MODEL_4eaaeb69621c4c9a9418c57f4a4f2e40"
      }
     },
     "6b05c4a3ae9148dcb7dff94e4d3548ac": {
      "model_module": "@jupyter-widgets/controls",
      "model_module_version": "1.0.0",
      "model_name": "ButtonModel",
      "state": {
       "description": "Annotate",
       "layout": "IPY_MODEL_200cb43361284d0f99b1e50f867b437c",
       "style": "IPY_MODEL_eec2a448499d4e71bd76926c521cd3fe"
      }
     },
     "6b05e69ce5d848c98718e99b4bcdf07a": {
      "model_module": "@jupyter-widgets/base",
      "model_module_version": "1.0.0",
      "model_name": "LayoutModel",
      "state": {
       "width": "80%"
      }
     },
     "6b2dff180bc84f5a80b4dd9dd0551483": {
      "model_module": "@jupyter-widgets/controls",
      "model_module_version": "1.0.0",
      "model_name": "DescriptionStyleModel",
      "state": {
       "description_width": ""
      }
     },
     "6b3785a0ec934f519fbee5930687dd10": {
      "model_module": "@jupyter-widgets/controls",
      "model_module_version": "1.0.0",
      "model_name": "TextModel",
      "state": {
       "layout": "IPY_MODEL_1c5c5ccf5ee94e9e836a6732b53ed0c0",
       "placeholder": "sample meta",
       "style": "IPY_MODEL_acc504f859be4cf099bea5c25253750b",
       "value": "-"
      }
     },
     "6ba4d258476e48e7b1b63a2ea5c37cdc": {
      "model_module": "@jupyter-widgets/base",
      "model_module_version": "1.0.0",
      "model_name": "LayoutModel",
      "state": {
       "width": "20%"
      }
     },
     "6bbbd5abc3ac469cb144935a38bbba26": {
      "model_module": "@jupyter-widgets/controls",
      "model_module_version": "1.0.0",
      "model_name": "DescriptionStyleModel",
      "state": {
       "description_width": ""
      }
     },
     "6c078c1531754752b98c6688b0ca8fda": {
      "model_module": "@jupyter-widgets/controls",
      "model_module_version": "1.0.0",
      "model_name": "DescriptionStyleModel",
      "state": {
       "description_width": ""
      }
     },
     "6c3a71d4e3e1443a945934f46458e065": {
      "model_module": "@jupyter-widgets/controls",
      "model_module_version": "1.0.0",
      "model_name": "HBoxModel",
      "state": {
       "children": [
        "IPY_MODEL_c890b29770df44c78f990c5fe9592d67",
        "IPY_MODEL_8571dc85edd64b6581e571786c8da366"
       ],
       "layout": "IPY_MODEL_9e199d24e61c405b8edb8936de74b20d"
      }
     },
     "6cfc29a9736b486589cddb2aec69eff6": {
      "model_module": "@jupyter-widgets/base",
      "model_module_version": "1.0.0",
      "model_name": "LayoutModel",
      "state": {
       "width": "80%"
      }
     },
     "6d3f9f8661564e979d032d847121a960": {
      "model_module": "@jupyter-widgets/base",
      "model_module_version": "1.0.0",
      "model_name": "LayoutModel",
      "state": {}
     },
     "6d5cf4c76420409c8aa6c8ffcbed1f00": {
      "model_module": "@jupyter-widgets/base",
      "model_module_version": "1.0.0",
      "model_name": "LayoutModel",
      "state": {}
     },
     "6df422153c51450d85155036cba4cf6f": {
      "model_module": "@jupyter-widgets/controls",
      "model_module_version": "1.0.0",
      "model_name": "DescriptionStyleModel",
      "state": {
       "description_width": ""
      }
     },
     "6e84535438464322ad9d0ce0f852bd4c": {
      "model_module": "@jupyter-widgets/controls",
      "model_module_version": "1.0.0",
      "model_name": "HBoxModel",
      "state": {
       "children": [
        "IPY_MODEL_1068d33eb6644267a3368ea17fc89a4f",
        "IPY_MODEL_a72bce7ab7f24dfda5d25eefa936bec7"
       ],
       "layout": "IPY_MODEL_fa0d8e862dc149efadf22881e88f98a6"
      }
     },
     "6f064e0bd51b4c33a3c560609634a9f8": {
      "model_module": "@jupyter-widgets/controls",
      "model_module_version": "1.0.0",
      "model_name": "TextModel",
      "state": {
       "layout": "IPY_MODEL_4b66e6ad6758443c8d030ff1915ff35a",
       "placeholder": "feature meta",
       "style": "IPY_MODEL_e861d332fb004e78a55d3d6b80d56bce",
       "value": "-"
      }
     },
     "6f8908526ebe4dfba8f58bb8372f84f8": {
      "model_module": "@jupyter-widgets/base",
      "model_module_version": "1.0.0",
      "model_name": "LayoutModel",
      "state": {}
     },
     "6fb85714ca1549ed97dd6356997d984a": {
      "model_module": "@jupyter-widgets/controls",
      "model_module_version": "1.0.0",
      "model_name": "TextModel",
      "state": {
       "layout": "IPY_MODEL_7bdf3de85b434ba0881f43efebe11ef9",
       "placeholder": "sample meta",
       "style": "IPY_MODEL_d7597257851f4b00bbbe9e092bfff7cd",
       "value": "0"
      }
     },
     "6fd69de8331747f596b0c83eedda1df4": {
      "model_module": "@jupyter-widgets/controls",
      "model_module_version": "1.0.0",
      "model_name": "HTMLModel",
      "state": {
       "layout": "IPY_MODEL_84fad15c8579408bbe5f2d4942247573",
       "style": "IPY_MODEL_21a640f396f34f4db4b7a7fffd54d96e",
       "value": "<style> a:link {color:black; background-color:transparent; text-decoration:none}a:visited {color:black; background-color:transparent; text-decoration:none}</style><p style=\"color:black;white-space:nowrap;\"><a href=\"http://dbbact.org/annotation_info/NA\"   target=\"_blank\">No annotation found in database dbBact</a></p>"
      }
     },
     "7023f7c41ae144399908a4f124e9db30": {
      "model_module": "@jupyter-widgets/base",
      "model_module_version": "1.0.0",
      "model_name": "LayoutModel",
      "state": {}
     },
     "707be9b38bd0444ebaa21b52053dffcc": {
      "model_module": "@jupyter-widgets/controls",
      "model_module_version": "1.0.0",
      "model_name": "DropdownModel",
      "state": {
       "_options_labels": [
        "ori.order",
        "group",
        "new.order",
        "categorical",
        "_calour_original_abundance"
       ],
       "index": 0,
       "layout": "IPY_MODEL_dabc18c0d25e4cee869b075bd6b23195",
       "style": "IPY_MODEL_19bf21bc950c4dd2a4a5ea5b863db538"
      }
     },
     "70a507fee43f46cc8fd648953e2442b2": {
      "model_module": "@jupyter-widgets/controls",
      "model_module_version": "1.0.0",
      "model_name": "FloatTextModel",
      "state": {
       "description": "Abundance",
       "layout": "IPY_MODEL_44994213f04e4c3ba75264ca4cf6a7cd",
       "step": null,
       "style": "IPY_MODEL_7e73fabbdcbe44178d8851f93e710edc"
      }
     },
     "70d70308bb8443e594ea4a8e6993dc7f": {
      "model_module": "@jupyter-widgets/base",
      "model_module_version": "1.0.0",
      "model_name": "LayoutModel",
      "state": {}
     },
     "710e9a880e50423e8a2f662cfdbd655b": {
      "model_module": "@jupyter-widgets/controls",
      "model_module_version": "1.0.0",
      "model_name": "DescriptionStyleModel",
      "state": {
       "description_width": ""
      }
     },
     "7158233a34804accb15cfc8a8f90b29b": {
      "model_module": "@jupyter-widgets/controls",
      "model_module_version": "1.0.0",
      "model_name": "HBoxModel",
      "state": {
       "children": [
        "IPY_MODEL_c58749cff455446892e749eb3f0a661f",
        "IPY_MODEL_17e6c6f5ef3944b18f112be21299f4cc"
       ],
       "layout": "IPY_MODEL_e8622ae6264e44a69ce804a25a56e906"
      }
     },
     "7190db1d6935404a86a936b03fb35aee": {
      "model_module": "@jupyter-widgets/controls",
      "model_module_version": "1.0.0",
      "model_name": "DescriptionStyleModel",
      "state": {
       "description_width": ""
      }
     },
     "71985afa968b47fd99d609d701371cf9": {
      "model_module": "@jupyter-widgets/base",
      "model_module_version": "1.0.0",
      "model_name": "LayoutModel",
      "state": {
       "width": "20%"
      }
     },
     "719adc055c314f4085a30d51d1161e4a": {
      "model_module": "@jupyter-widgets/controls",
      "model_module_version": "1.0.0",
      "model_name": "HBoxModel",
      "state": {
       "children": [
        "IPY_MODEL_66347957a913491dbf13fbf84f5d419f",
        "IPY_MODEL_e34ed2b52c4c412ca1645cb60e5d0ee3",
        "IPY_MODEL_0ea06b327a1c410a8de51123c628116b"
       ],
       "layout": "IPY_MODEL_8b0dca0147304f74844eaa8c2c60ccff"
      }
     },
     "71ae1c1cdd5d43dfa2c3cf492850d582": {
      "model_module": "@jupyter-widgets/controls",
      "model_module_version": "1.0.0",
      "model_name": "DescriptionStyleModel",
      "state": {
       "description_width": ""
      }
     },
     "7219b0dfd22044038cf7a1143dcc0579": {
      "model_module": "@jupyter-widgets/controls",
      "model_module_version": "1.0.0",
      "model_name": "HBoxModel",
      "state": {
       "children": [
        "IPY_MODEL_287bcf9dbc26408cba8f5cdf3348f93b",
        "IPY_MODEL_bab1e351a9614a358357ae04c1a14aa6"
       ],
       "layout": "IPY_MODEL_c635c39acb6f4b90a5213287645b86c0"
      }
     },
     "7259489984144c46bdd2b76505b626bb": {
      "model_module": "@jupyter-widgets/controls",
      "model_module_version": "1.0.0",
      "model_name": "HBoxModel",
      "state": {
       "children": [
        "IPY_MODEL_b9bf199686854385a278888607e8d84c",
        "IPY_MODEL_18f720008c9a4ccdb2498fcb8b93a6b1",
        "IPY_MODEL_2089cc59783946a28690e78b3d6692c1"
       ],
       "layout": "IPY_MODEL_e00ff9eaff7c4b6c8dba4543d9743065"
      }
     },
     "726ebe804d5546d1b1d32c81ba16eb54": {
      "model_module": "@jupyter-widgets/controls",
      "model_module_version": "1.0.0",
      "model_name": "ButtonModel",
      "state": {
       "description": "Save",
       "layout": "IPY_MODEL_e40cc68957154694a03642a59ea71bbb",
       "style": "IPY_MODEL_14255cf3a50244ee8e97663be3cfc90e"
      }
     },
     "72ca2da620864950a1ce9d943470cdf3": {
      "model_module": "@jupyter-widgets/controls",
      "model_module_version": "1.0.0",
      "model_name": "TextModel",
      "state": {
       "layout": "IPY_MODEL_806f56efe28f45e2bdfec36966e50082",
       "placeholder": "feature meta",
       "style": "IPY_MODEL_37a7059974b241c89345100dcfa39b8e",
       "value": "-"
      }
     },
     "7304182849904b22a00b947cfce4be0a": {
      "model_module": "@jupyter-widgets/controls",
      "model_module_version": "1.0.0",
      "model_name": "ButtonStyleModel",
      "state": {}
     },
     "735353246d5b449aa382f166533e5323": {
      "model_module": "@jupyter-widgets/controls",
      "model_module_version": "1.0.0",
      "model_name": "FloatTextModel",
      "state": {
       "description": "Abundance",
       "layout": "IPY_MODEL_03e0490bdbd84a58946021fdba53e55b",
       "step": null,
       "style": "IPY_MODEL_565bbe9d08ec4bf4b632b729b5958533"
      }
     },
     "73a55c1e92444702a764b270a9fcea1c": {
      "model_module": "@jupyter-widgets/controls",
      "model_module_version": "1.0.0",
      "model_name": "FloatTextModel",
      "state": {
       "description": "Abundance",
       "layout": "IPY_MODEL_80c5bc5bac9f4b009ff6369d9b52c34d",
       "step": null,
       "style": "IPY_MODEL_ac1146579d5f4db58af5e2c31d39cd51"
      }
     },
     "73abd810f1734ecfae7a305d76782767": {
      "model_module": "@jupyter-widgets/controls",
      "model_module_version": "1.0.0",
      "model_name": "DescriptionStyleModel",
      "state": {
       "description_width": ""
      }
     },
     "73df2e60b3ec49a7a694e918dad43d82": {
      "model_module": "@jupyter-widgets/base",
      "model_module_version": "1.0.0",
      "model_name": "LayoutModel",
      "state": {}
     },
     "73e180d5a3764940b477890507ce376e": {
      "model_module": "@jupyter-widgets/controls",
      "model_module_version": "1.0.0",
      "model_name": "FloatTextModel",
      "state": {
       "description": "Abundance",
       "layout": "IPY_MODEL_105dc9bc4cdf424f9691cc233cdf519e",
       "step": null,
       "style": "IPY_MODEL_b62f67d02adc4feaa6abedd89793afbe"
      }
     },
     "741681fa14a341b29bbbe7eeec034d60": {
      "model_module": "@jupyter-widgets/base",
      "model_module_version": "1.0.0",
      "model_name": "LayoutModel",
      "state": {}
     },
     "741fd99505aa4bbfa4abde0dd33a0418": {
      "model_module": "@jupyter-widgets/controls",
      "model_module_version": "1.0.0",
      "model_name": "DescriptionStyleModel",
      "state": {
       "description_width": ""
      }
     },
     "746c54e4b29848b98c498c38805e7f20": {
      "model_module": "@jupyter-widgets/controls",
      "model_module_version": "1.0.0",
      "model_name": "ButtonModel",
      "state": {
       "description": "print axes ranges",
       "layout": "IPY_MODEL_00d386f8218c49c8a5e220134fd4dacc",
       "style": "IPY_MODEL_b799b9fcd34d4becb0edb96deea3048a",
       "tooltip": "Print the x axis and y axis ranges. Useful to pass to `rect` parameter of heatmap() to zoom in the region automatically."
      }
     },
     "74aae64026d44fd4afe508d0d3b3cec7": {
      "model_module": "@jupyter-widgets/controls",
      "model_module_version": "1.0.0",
      "model_name": "HTMLModel",
      "state": {
       "layout": "IPY_MODEL_7d5e0bfb3cb14c1c922ae0c48a2e2489",
       "style": "IPY_MODEL_ff9930cba4944728bc3ab7d67dfe37ba",
       "value": "<style> a:link {color:black; background-color:transparent; text-decoration:none}a:visited {color:black; background-color:transparent; text-decoration:none}</style><p style=\"color:black;white-space:nowrap;\"><a href=\"http://dbbact.org/annotation_info/NA\"   target=\"_blank\">No annotation found in database dbBact</a></p>"
      }
     },
     "74acd45c93c14d78bd5bb643e5ad49bb": {
      "model_module": "@jupyter-widgets/base",
      "model_module_version": "1.0.0",
      "model_name": "LayoutModel",
      "state": {}
     },
     "753d38c4b75d42a9bcf588978cef511c": {
      "model_module": "@jupyter-widgets/controls",
      "model_module_version": "1.0.0",
      "model_name": "ButtonModel",
      "state": {
       "description": "print axes ranges",
       "layout": "IPY_MODEL_011264ac05254126802325ccfac4e148",
       "style": "IPY_MODEL_7304182849904b22a00b947cfce4be0a",
       "tooltip": "Print the x axis and y axis ranges. Useful to pass to `rect` parameter of heatmap() to zoom in the region automatically."
      }
     },
     "7580005c49474c62a7cc1db66ddc5626": {
      "model_module": "@jupyter-widgets/controls",
      "model_module_version": "1.0.0",
      "model_name": "ButtonStyleModel",
      "state": {}
     },
     "758070c99c514370887433836531b003": {
      "model_module": "@jupyter-widgets/base",
      "model_module_version": "1.0.0",
      "model_name": "LayoutModel",
      "state": {}
     },
     "75e9dc465c294e5da385c87640bcaf7e": {
      "model_module": "@jupyter-widgets/controls",
      "model_module_version": "1.0.0",
      "model_name": "HTMLModel",
      "state": {
       "layout": "IPY_MODEL_e2f6215f3c8a4b4e9fa58466faaa0b56",
       "style": "IPY_MODEL_880b8b7bec7e40f5a6391728735efdae",
       "value": "<style> a:link {color:black; background-color:transparent; text-decoration:none}a:visited {color:black; background-color:transparent; text-decoration:none}</style><p style=\"color:black;white-space:nowrap;\"><a href=\"http://dbbact.org/annotation_info/NA\"   target=\"_blank\">No annotation found in database dbBact</a></p>"
      }
     },
     "760310d170c24d5181467e9bd76c649c": {
      "model_module": "@jupyter-widgets/controls",
      "model_module_version": "1.0.0",
      "model_name": "DescriptionStyleModel",
      "state": {
       "description_width": ""
      }
     },
     "7678c6a0341b4618be1ac97d2ae028e4": {
      "model_module": "@jupyter-widgets/controls",
      "model_module_version": "1.0.0",
      "model_name": "TextModel",
      "state": {
       "description": "Sample ID",
       "layout": "IPY_MODEL_565b1c6b9e874be098cfd20b625f76fe",
       "placeholder": "Sample ID",
       "style": "IPY_MODEL_de5a5365889047b2bbb3b419e902f70d",
       "value": "S4"
      }
     },
     "76a4c29ac6244662b3cb68e1f2604050": {
      "model_module": "@jupyter-widgets/base",
      "model_module_version": "1.0.0",
      "model_name": "LayoutModel",
      "state": {
       "width": "20%"
      }
     },
     "76a765e017d74f1aa3c856312383cb42": {
      "model_module": "@jupyter-widgets/controls",
      "model_module_version": "1.0.0",
      "model_name": "TextModel",
      "state": {
       "layout": "IPY_MODEL_3a227cd0d6bd41d4bd2b38aea0a2a997",
       "placeholder": "sample meta",
       "style": "IPY_MODEL_17c1aa17f2104a48a90f5d16f19da70c",
       "value": "-"
      }
     },
     "76e87c5ac05944d5bc71d33b144d21fe": {
      "model_module": "@jupyter-widgets/controls",
      "model_module_version": "1.0.0",
      "model_name": "TextModel",
      "state": {
       "layout": "IPY_MODEL_0a804213a3484329a31d3bc63f2d6cfb",
       "placeholder": "feature meta",
       "style": "IPY_MODEL_21e8a7ff1b614639866a5c3baf905390",
       "value": "-"
      }
     },
     "76fd7714395a42a2a8390a555349436c": {
      "model_module": "@jupyter-widgets/controls",
      "model_module_version": "1.0.0",
      "model_name": "DescriptionStyleModel",
      "state": {
       "description_width": ""
      }
     },
     "7702f976b643477284a2fee1ed687753": {
      "model_module": "@jupyter-widgets/controls",
      "model_module_version": "1.0.0",
      "model_name": "DescriptionStyleModel",
      "state": {
       "description_width": ""
      }
     },
     "770ab8b0235c40b8a906fcd1fceb2b0c": {
      "model_module": "@jupyter-widgets/controls",
      "model_module_version": "1.0.0",
      "model_name": "HBoxModel",
      "state": {
       "children": [
        "IPY_MODEL_a4e2633eab3349ea89670415a2b9a143",
        "IPY_MODEL_ffb99856481a41c8af1402e46612c9bd",
        "IPY_MODEL_2a949cb24c8549f99ad364f255401d62"
       ],
       "layout": "IPY_MODEL_10239a33f22a4113a1a9d79aa4d1288c"
      }
     },
     "773cb8dede5f4d728628430598683cc5": {
      "model_module": "@jupyter-widgets/base",
      "model_module_version": "1.0.0",
      "model_name": "LayoutModel",
      "state": {
       "width": "100%"
      }
     },
     "77a00bf1757a4947a5533197f51efd3d": {
      "model_module": "@jupyter-widgets/controls",
      "model_module_version": "1.0.0",
      "model_name": "ButtonStyleModel",
      "state": {}
     },
     "787928167271476883e9915eb5ae5786": {
      "model_module": "@jupyter-widgets/controls",
      "model_module_version": "1.0.0",
      "model_name": "LabelModel",
      "state": {
       "layout": "IPY_MODEL_e70a8c83eeb042a29041fa50e92193b6",
       "style": "IPY_MODEL_55c5690ccc034658857bb3dfba7de4b0",
       "value": "1 features are selected"
      }
     },
     "788e498b41be4e5dac18b2d294a861ff": {
      "model_module": "@jupyter-widgets/controls",
      "model_module_version": "1.0.0",
      "model_name": "DescriptionStyleModel",
      "state": {
       "description_width": ""
      }
     },
     "7968a43a1a314708885a2febf7586d07": {
      "model_module": "@jupyter-widgets/controls",
      "model_module_version": "1.0.0",
      "model_name": "DescriptionStyleModel",
      "state": {
       "description_width": ""
      }
     },
     "79ffec5865d446dc8d95294eb3e91e06": {
      "model_module": "@jupyter-widgets/controls",
      "model_module_version": "1.0.0",
      "model_name": "FloatTextModel",
      "state": {
       "description": "Abundance",
       "layout": "IPY_MODEL_90938660446045f789e980da5024085c",
       "step": null,
       "style": "IPY_MODEL_15b815f52c2f4a3fb3339e012a56c3a3"
      }
     },
     "7a2095c306f64afc96a142734d9c5800": {
      "model_module": "@jupyter-widgets/base",
      "model_module_version": "1.0.0",
      "model_name": "LayoutModel",
      "state": {}
     },
     "7a41573e30004dbabf0043eee1f46740": {
      "model_module": "@jupyter-widgets/controls",
      "model_module_version": "1.0.0",
      "model_name": "DescriptionStyleModel",
      "state": {
       "description_width": ""
      }
     },
     "7a649c0f551647b98db4fa352507904b": {
      "model_module": "@jupyter-widgets/controls",
      "model_module_version": "1.0.0",
      "model_name": "HBoxModel",
      "state": {
       "children": [
        "IPY_MODEL_ea5507ad074f4247962014b1b9a5350c",
        "IPY_MODEL_da869a499d2645e4b2748cd1983f39f4",
        "IPY_MODEL_0844b68abc714506adf0d5859a7e0fdd"
       ],
       "layout": "IPY_MODEL_741681fa14a341b29bbbe7eeec034d60"
      }
     },
     "7a817942ba3542bfafc40461d82c05f1": {
      "model_module": "@jupyter-widgets/controls",
      "model_module_version": "1.0.0",
      "model_name": "ButtonStyleModel",
      "state": {}
     },
     "7b02f671f963406ea6b3c07d1b9e9c68": {
      "model_module": "@jupyter-widgets/controls",
      "model_module_version": "1.0.0",
      "model_name": "TextModel",
      "state": {
       "layout": "IPY_MODEL_e33f725ed57145cfa921fe0f15d67d49",
       "placeholder": "sample meta",
       "style": "IPY_MODEL_478d897582d1402791ae5fcd9a92698c",
       "value": "-"
      }
     },
     "7b627dc3f6f943d3824e1c9e6ec3c60a": {
      "model_module": "@jupyter-widgets/controls",
      "model_module_version": "1.0.0",
      "model_name": "DropdownModel",
      "state": {
       "_options_labels": [
        "ori.order",
        "group",
        "new.order",
        "categorical",
        "_calour_original_abundance"
       ],
       "index": 0,
       "layout": "IPY_MODEL_25fefce25fe843eb97fb0dddec8ce158",
       "style": "IPY_MODEL_d39b3bda87b444f9bec70cb9e717ee58"
      }
     },
     "7bbecd1f33544181b1889546cbaa4c14": {
      "model_module": "@jupyter-widgets/controls",
      "model_module_version": "1.0.0",
      "model_name": "DescriptionStyleModel",
      "state": {
       "description_width": ""
      }
     },
     "7bc60e2cf7fa45db8205d74c444fb512": {
      "model_module": "@jupyter-widgets/controls",
      "model_module_version": "1.0.0",
      "model_name": "DescriptionStyleModel",
      "state": {
       "description_width": ""
      }
     },
     "7bdf3de85b434ba0881f43efebe11ef9": {
      "model_module": "@jupyter-widgets/base",
      "model_module_version": "1.0.0",
      "model_name": "LayoutModel",
      "state": {
       "width": "80%"
      }
     },
     "7bef7c20e9464d468783ca4a78c3d30d": {
      "model_module": "@jupyter-widgets/base",
      "model_module_version": "1.0.0",
      "model_name": "LayoutModel",
      "state": {
       "width": "20%"
      }
     },
     "7cb4f927092a4406ac2e1aa4fd672e0b": {
      "model_module": "@jupyter-widgets/controls",
      "model_module_version": "1.0.0",
      "model_name": "ButtonStyleModel",
      "state": {}
     },
     "7cccff9917444f4cbcd36a3659d14d47": {
      "model_module": "@jupyter-widgets/controls",
      "model_module_version": "1.0.0",
      "model_name": "HTMLModel",
      "state": {
       "layout": "IPY_MODEL_c92a4328c2b1497eae41115cfda206cb",
       "style": "IPY_MODEL_3ff5012bd69a49138566f31f67ade583",
       "value": "<style> a:link {color:black; background-color:transparent; text-decoration:none}a:visited {color:black; background-color:transparent; text-decoration:none}</style><p style=\"color:black;white-space:nowrap;\"><a href=\"http://dbbact.org/annotation_info/NA\"   target=\"_blank\">No annotation found in database dbBact</a></p>"
      }
     },
     "7d5e0bfb3cb14c1c922ae0c48a2e2489": {
      "model_module": "@jupyter-widgets/base",
      "model_module_version": "1.0.0",
      "model_name": "LayoutModel",
      "state": {
       "height": "100px",
       "overflow_y": "auto"
      }
     },
     "7d98d60283e441a699fa2dff142c7eb3": {
      "model_module": "@jupyter-widgets/controls",
      "model_module_version": "1.0.0",
      "model_name": "HBoxModel",
      "state": {
       "children": [
        "IPY_MODEL_7678c6a0341b4618be1ac97d2ae028e4",
        "IPY_MODEL_e73941486eab497da45f1fe2014cf016",
        "IPY_MODEL_d8c24935b2bc44d986fee186e60eadb8"
       ],
       "layout": "IPY_MODEL_e483774b63b64cdda9c557aa3c8d70b9"
      }
     },
     "7da83618b42c476784719d5cc337780f": {
      "model_module": "@jupyter-widgets/controls",
      "model_module_version": "1.0.0",
      "model_name": "HBoxModel",
      "state": {
       "children": [
        "IPY_MODEL_41cda9e6486e4b50b31d77ed42a32c2e",
        "IPY_MODEL_f431bb5957f84f60a5fbc3e3f64baaf5",
        "IPY_MODEL_e19f08f6a7a94079a4c97293226ed764"
       ],
       "layout": "IPY_MODEL_148faa86f38543eca421ddfd03e4ee0b"
      }
     },
     "7daf8677bcaf43b191a32cfa52e9cb66": {
      "model_module": "@jupyter-widgets/base",
      "model_module_version": "1.0.0",
      "model_name": "LayoutModel",
      "state": {}
     },
     "7dbddc9d7d2843ccb0bf1617f18d25d2": {
      "model_module": "@jupyter-widgets/controls",
      "model_module_version": "1.0.0",
      "model_name": "DescriptionStyleModel",
      "state": {
       "description_width": ""
      }
     },
     "7e5b78e4cf224243938df1115c7c123e": {
      "model_module": "@jupyter-widgets/controls",
      "model_module_version": "1.0.0",
      "model_name": "TextModel",
      "state": {
       "description": "Sample ID",
       "layout": "IPY_MODEL_03e0490bdbd84a58946021fdba53e55b",
       "placeholder": "Sample ID",
       "style": "IPY_MODEL_45a205b117a7489a8113fb0148a15d91",
       "value": "-"
      }
     },
     "7e73fabbdcbe44178d8851f93e710edc": {
      "model_module": "@jupyter-widgets/controls",
      "model_module_version": "1.0.0",
      "model_name": "DescriptionStyleModel",
      "state": {
       "description_width": ""
      }
     },
     "7e8004da805b4f3bb7b11f0929d70423": {
      "model_module": "@jupyter-widgets/controls",
      "model_module_version": "1.0.0",
      "model_name": "ButtonStyleModel",
      "state": {}
     },
     "7e84f94739f7488783d1480b62658c87": {
      "model_module": "@jupyter-widgets/controls",
      "model_module_version": "1.0.0",
      "model_name": "DescriptionStyleModel",
      "state": {
       "description_width": ""
      }
     },
     "7e982471a4d04c73951df4eb2b7e5e75": {
      "model_module": "@jupyter-widgets/controls",
      "model_module_version": "1.0.0",
      "model_name": "DescriptionStyleModel",
      "state": {
       "description_width": ""
      }
     },
     "7ea633521cff401aa3b8eb9814f55e01": {
      "model_module": "@jupyter-widgets/controls",
      "model_module_version": "1.0.0",
      "model_name": "DescriptionStyleModel",
      "state": {
       "description_width": ""
      }
     },
     "7ec1d504c6d24d31913faf7265dba223": {
      "model_module": "@jupyter-widgets/controls",
      "model_module_version": "1.0.0",
      "model_name": "TextModel",
      "state": {
       "layout": "IPY_MODEL_e5af046a55e84cc08199c28d86dd60ba",
       "placeholder": "feature meta",
       "style": "IPY_MODEL_7702f976b643477284a2fee1ed687753",
       "value": "-"
      }
     },
     "800802d49d4140e4ab3d0ddb14d67c95": {
      "model_module": "@jupyter-widgets/controls",
      "model_module_version": "1.0.0",
      "model_name": "HBoxModel",
      "state": {
       "children": [
        "IPY_MODEL_21bd540ca3754b9c971290c257117b0f",
        "IPY_MODEL_c8441c1d7b254b46b02e16a3990b2bf8",
        "IPY_MODEL_79ffec5865d446dc8d95294eb3e91e06"
       ],
       "layout": "IPY_MODEL_db14f6d579c146e0a292895ba3a6cdd2"
      }
     },
     "804800559e4e4e65b16ac6954c8193fe": {
      "model_module": "@jupyter-widgets/controls",
      "model_module_version": "1.0.0",
      "model_name": "HTMLModel",
      "state": {
       "layout": "IPY_MODEL_58afc157d577451fa4d4ce893914a4db",
       "style": "IPY_MODEL_c3f9096ce69e43749fbff18320a94a2c",
       "value": "no annotation found"
      }
     },
     "806048cb71944a49acb988035601c2a8": {
      "model_module": "@jupyter-widgets/base",
      "model_module_version": "1.0.0",
      "model_name": "LayoutModel",
      "state": {
       "width": "20%"
      }
     },
     "806967ab5b2348428e5f2873e3cd2e10": {
      "model_module": "@jupyter-widgets/base",
      "model_module_version": "1.0.0",
      "model_name": "LayoutModel",
      "state": {}
     },
     "806f56efe28f45e2bdfec36966e50082": {
      "model_module": "@jupyter-widgets/base",
      "model_module_version": "1.0.0",
      "model_name": "LayoutModel",
      "state": {
       "width": "80%"
      }
     },
     "80c5bc5bac9f4b009ff6369d9b52c34d": {
      "model_module": "@jupyter-widgets/base",
      "model_module_version": "1.0.0",
      "model_name": "LayoutModel",
      "state": {
       "width": "100%"
      }
     },
     "80eb024d88ec4617a8178421dfb17d8f": {
      "model_module": "@jupyter-widgets/base",
      "model_module_version": "1.0.0",
      "model_name": "LayoutModel",
      "state": {}
     },
     "812262d2401b42b78d9a50f7003a1280": {
      "model_module": "@jupyter-widgets/controls",
      "model_module_version": "1.0.0",
      "model_name": "HBoxModel",
      "state": {
       "children": [
        "IPY_MODEL_426af36c438e42928a587f3cefaccecd",
        "IPY_MODEL_6b3785a0ec934f519fbee5930687dd10"
       ],
       "layout": "IPY_MODEL_557fc7fbbe344a25aef5906ccc4456aa"
      }
     },
     "81e674ca72694d4aa76cbab29d1275b5": {
      "model_module": "@jupyter-widgets/controls",
      "model_module_version": "1.0.0",
      "model_name": "TextModel",
      "state": {
       "layout": "IPY_MODEL_d95d674e1357464bbd808e447980a5cb",
       "placeholder": "sample meta",
       "style": "IPY_MODEL_5bb938b40d1d4891b4653d7cd14b7f22",
       "value": "-"
      }
     },
     "831b60f52be34ce8ac2b231fd734c5ad": {
      "model_module": "@jupyter-widgets/base",
      "model_module_version": "1.0.0",
      "model_name": "LayoutModel",
      "state": {}
     },
     "83351f1927c64058bbdb8f2b519dd250": {
      "model_module": "@jupyter-widgets/base",
      "model_module_version": "1.0.0",
      "model_name": "LayoutModel",
      "state": {}
     },
     "8371f4d10a5a434bb265dfab56b71ea4": {
      "model_module": "@jupyter-widgets/controls",
      "model_module_version": "1.0.0",
      "model_name": "DescriptionStyleModel",
      "state": {
       "description_width": ""
      }
     },
     "8374453c2ad747b79afe66e55c3eea32": {
      "model_module": "@jupyter-widgets/controls",
      "model_module_version": "1.0.0",
      "model_name": "DescriptionStyleModel",
      "state": {
       "description_width": ""
      }
     },
     "8377246142eb4ea9b081c42a780da736": {
      "model_module": "@jupyter-widgets/base",
      "model_module_version": "1.0.0",
      "model_name": "LayoutModel",
      "state": {}
     },
     "83a3f0c4771a4700b09e1b44ac984df4": {
      "model_module": "@jupyter-widgets/controls",
      "model_module_version": "1.0.0",
      "model_name": "HBoxModel",
      "state": {
       "children": [
        "IPY_MODEL_18bf9761334845b28c0a3aa5c2ed99e3",
        "IPY_MODEL_4c4a6d2cb43b471eaa24e37f75b812f9",
        "IPY_MODEL_85f0b6970ddb4ae4809906e0e6177d2f"
       ],
       "layout": "IPY_MODEL_c2454d63815f498bb1e29d4fb7891ca2"
      }
     },
     "83abe99485bf4107aac03846fa6c9969": {
      "model_module": "@jupyter-widgets/base",
      "model_module_version": "1.0.0",
      "model_name": "LayoutModel",
      "state": {}
     },
     "83b1180f221b489eb0f84ba3baf0d21b": {
      "model_module": "@jupyter-widgets/base",
      "model_module_version": "1.0.0",
      "model_name": "LayoutModel",
      "state": {
       "width": "80%"
      }
     },
     "83c9cd3cec774a6b812d99a2c26f17cb": {
      "model_module": "@jupyter-widgets/base",
      "model_module_version": "1.0.0",
      "model_name": "LayoutModel",
      "state": {
       "width": "20%"
      }
     },
     "83d02d059fdd49beb8d858c03c30d6fa": {
      "model_module": "@jupyter-widgets/controls",
      "model_module_version": "1.0.0",
      "model_name": "ButtonModel",
      "state": {
       "description": "Annotate",
       "layout": "IPY_MODEL_d399ca2f1bf7431b8d5102550d3dae3d",
       "style": "IPY_MODEL_a708261462d840178f28f54b4dad290e"
      }
     },
     "83f220c4c3154575b6bc91246594bdb3": {
      "model_module": "@jupyter-widgets/base",
      "model_module_version": "1.0.0",
      "model_name": "LayoutModel",
      "state": {}
     },
     "841fa30f5835461d83723cac9991d217": {
      "model_module": "@jupyter-widgets/controls",
      "model_module_version": "1.0.0",
      "model_name": "DescriptionStyleModel",
      "state": {
       "description_width": ""
      }
     },
     "84b38747fe924271b63cb3e83c684ae5": {
      "model_module": "@jupyter-widgets/controls",
      "model_module_version": "1.0.0",
      "model_name": "LabelModel",
      "state": {
       "layout": "IPY_MODEL_12611792fecb4e3a825fa33b00dfab4f",
       "style": "IPY_MODEL_13bf6fe0be3d4ffdaf133741f2c0c76b",
       "value": "0 features are selected"
      }
     },
     "84c3f0edd12b4194a3949dcdfc865e7a": {
      "model_module": "@jupyter-widgets/controls",
      "model_module_version": "1.0.0",
      "model_name": "DescriptionStyleModel",
      "state": {
       "description_width": ""
      }
     },
     "84ed5c80cc094cc09b17e21aabf103cd": {
      "model_module": "@jupyter-widgets/controls",
      "model_module_version": "1.0.0",
      "model_name": "HBoxModel",
      "state": {
       "children": [
        "IPY_MODEL_a28394d75da84729a1d5332f2ac091b5",
        "IPY_MODEL_f1d6f03421744fb8b7dd8eb3cf00fc4e",
        "IPY_MODEL_4b1831b5a72e4998ab49867d07da36d5"
       ],
       "layout": "IPY_MODEL_e871b23b4b534364be1603d87700353e"
      }
     },
     "84fad15c8579408bbe5f2d4942247573": {
      "model_module": "@jupyter-widgets/base",
      "model_module_version": "1.0.0",
      "model_name": "LayoutModel",
      "state": {
       "height": "100px",
       "overflow_y": "auto"
      }
     },
     "8571dc85edd64b6581e571786c8da366": {
      "model_module": "@jupyter-widgets/controls",
      "model_module_version": "1.0.0",
      "model_name": "TextModel",
      "state": {
       "layout": "IPY_MODEL_cbf88707cd60458bb4ba01415d517065",
       "placeholder": "feature meta",
       "style": "IPY_MODEL_f65e8fbb0d6d4f26a2395cbf5325f119",
       "value": "-"
      }
     },
     "858ef5db577945bda0df0e4f119a8cff": {
      "model_module": "@jupyter-widgets/controls",
      "model_module_version": "1.0.0",
      "model_name": "ButtonStyleModel",
      "state": {}
     },
     "85a411cb20fe45d59527aa71c44511dd": {
      "model_module": "@jupyter-widgets/base",
      "model_module_version": "1.0.0",
      "model_name": "LayoutModel",
      "state": {}
     },
     "85f0b6970ddb4ae4809906e0e6177d2f": {
      "model_module": "@jupyter-widgets/controls",
      "model_module_version": "1.0.0",
      "model_name": "ButtonModel",
      "state": {
       "description": "Annotate",
       "layout": "IPY_MODEL_00b35cc801fb45c88ad583bd97764686",
       "style": "IPY_MODEL_1301c4f3fffe4d4497f505b5fc37a806"
      }
     },
     "864b62d99b484d6b8195378686862840": {
      "model_module": "@jupyter-widgets/controls",
      "model_module_version": "1.0.0",
      "model_name": "DropdownModel",
      "state": {
       "_options_labels": [
        "ori.order",
        "group",
        "new.order",
        "categorical",
        "_calour_original_abundance"
       ],
       "index": 0,
       "layout": "IPY_MODEL_03a4d672e09e4fb98b1d8f842e7559e8",
       "style": "IPY_MODEL_5676144cdbe645c8bf6d8259e1e2647a"
      }
     },
     "86546455beb6418e9f445eb6bc82dc03": {
      "model_module": "@jupyter-widgets/controls",
      "model_module_version": "1.0.0",
      "model_name": "ButtonStyleModel",
      "state": {}
     },
     "86cde3d2fbe84649a2e4654e4325577d": {
      "model_module": "@jupyter-widgets/controls",
      "model_module_version": "1.0.0",
      "model_name": "HBoxModel",
      "state": {
       "children": [
        "IPY_MODEL_e8ad69a11b824ac89de5ff7d2b13da15",
        "IPY_MODEL_ccbd4eb091ff48dc8b4b5fde7d511a2a",
        "IPY_MODEL_8e93b3ed298c4843a791d725e579e86c"
       ],
       "layout": "IPY_MODEL_1539ec922da9434aa3284350d87a0477"
      }
     },
     "87510413707e4b36b7894ac3c17e83de": {
      "model_module": "@jupyter-widgets/controls",
      "model_module_version": "1.0.0",
      "model_name": "ButtonStyleModel",
      "state": {}
     },
     "879abe67fe034d72aa5ee141d7fd465e": {
      "model_module": "@jupyter-widgets/controls",
      "model_module_version": "1.0.0",
      "model_name": "DescriptionStyleModel",
      "state": {
       "description_width": ""
      }
     },
     "87cfb34bd339422a9b6cbe42f5d4c59f": {
      "model_module": "@jupyter-widgets/controls",
      "model_module_version": "1.0.0",
      "model_name": "DescriptionStyleModel",
      "state": {
       "description_width": ""
      }
     },
     "880b8b7bec7e40f5a6391728735efdae": {
      "model_module": "@jupyter-widgets/controls",
      "model_module_version": "1.0.0",
      "model_name": "DescriptionStyleModel",
      "state": {
       "description_width": ""
      }
     },
     "884df1dfc42146a3a45898f5dcffccbb": {
      "model_module": "@jupyter-widgets/base",
      "model_module_version": "1.0.0",
      "model_name": "LayoutModel",
      "state": {}
     },
     "8892dfae6dd94af2a7767c4d2293f791": {
      "model_module": "@jupyter-widgets/base",
      "model_module_version": "1.0.0",
      "model_name": "LayoutModel",
      "state": {}
     },
     "889983beb1e44721bc155ac0b82da191": {
      "model_module": "@jupyter-widgets/controls",
      "model_module_version": "1.0.0",
      "model_name": "DescriptionStyleModel",
      "state": {
       "description_width": ""
      }
     },
     "88c19cd3ff164e89a88a17a7aec52153": {
      "model_module": "@jupyter-widgets/controls",
      "model_module_version": "1.0.0",
      "model_name": "HBoxModel",
      "state": {
       "children": [
        "IPY_MODEL_41109dfeb3eb418b93516e3e34efb8a4",
        "IPY_MODEL_582a75e26aa04fdebd700e8da78af957"
       ],
       "layout": "IPY_MODEL_3d60c6483bad4efebc2f73a3c5fe22c7"
      }
     },
     "8944426cfd89480ea8a12fb082514d20": {
      "model_module": "@jupyter-widgets/base",
      "model_module_version": "1.0.0",
      "model_name": "LayoutModel",
      "state": {}
     },
     "8990643322ae487c8d7077c02177e3db": {
      "model_module": "@jupyter-widgets/base",
      "model_module_version": "1.0.0",
      "model_name": "LayoutModel",
      "state": {}
     },
     "89ea376b653c4de2bfeba31e498386d2": {
      "model_module": "@jupyter-widgets/base",
      "model_module_version": "1.0.0",
      "model_name": "LayoutModel",
      "state": {}
     },
     "8a439e52677e4ce38fca38efb35d440e": {
      "model_module": "@jupyter-widgets/controls",
      "model_module_version": "1.0.0",
      "model_name": "DescriptionStyleModel",
      "state": {
       "description_width": ""
      }
     },
     "8abd7680e3184166bc837bb4f27fbbc3": {
      "model_module": "@jupyter-widgets/base",
      "model_module_version": "1.0.0",
      "model_name": "LayoutModel",
      "state": {}
     },
     "8ae8fe10e65a46efbed6fafc0d1aba7c": {
      "model_module": "@jupyter-widgets/base",
      "model_module_version": "1.0.0",
      "model_name": "LayoutModel",
      "state": {
       "height": "100px",
       "overflow_y": "auto"
      }
     },
     "8af73284f30b40409de43e02b8769aea": {
      "model_module": "@jupyter-widgets/controls",
      "model_module_version": "1.0.0",
      "model_name": "TextModel",
      "state": {
       "layout": "IPY_MODEL_22c1472937e64ed084e5635ee98f157c",
       "placeholder": "feature meta",
       "style": "IPY_MODEL_c18afdec8a8e45f2982224e1bedefddf",
       "value": "-"
      }
     },
     "8b0dca0147304f74844eaa8c2c60ccff": {
      "model_module": "@jupyter-widgets/base",
      "model_module_version": "1.0.0",
      "model_name": "LayoutModel",
      "state": {}
     },
     "8b2d341361da4aabb3d21abb9382909b": {
      "model_module": "@jupyter-widgets/controls",
      "model_module_version": "1.0.0",
      "model_name": "HBoxModel",
      "state": {
       "children": [
        "IPY_MODEL_ffa4c25b4dbb4c18bfd1d769b2463a9d",
        "IPY_MODEL_45fd4d89452c4a8685ed528df010d21d"
       ],
       "layout": "IPY_MODEL_6210d9a4c539465c9aa1847af99b36a1"
      }
     },
     "8b3f124b74d34e099526cd43528360e9": {
      "model_module": "@jupyter-widgets/base",
      "model_module_version": "1.0.0",
      "model_name": "LayoutModel",
      "state": {
       "width": "20%"
      }
     },
     "8b862ece7bc7495f82a29350804b8020": {
      "model_module": "@jupyter-widgets/controls",
      "model_module_version": "1.0.0",
      "model_name": "LabelModel",
      "state": {
       "layout": "IPY_MODEL_8944426cfd89480ea8a12fb082514d20",
       "style": "IPY_MODEL_d954400a3f614d1ba761ff49e7b98d21",
       "value": "0 features are selected"
      }
     },
     "8bab61fee22144b38a35287103cd1df7": {
      "model_module": "@jupyter-widgets/controls",
      "model_module_version": "1.0.0",
      "model_name": "DescriptionStyleModel",
      "state": {
       "description_width": ""
      }
     },
     "8befc7c1c1fc4bfa949fdadb70e0ddad": {
      "model_module": "@jupyter-widgets/controls",
      "model_module_version": "1.0.0",
      "model_name": "TextModel",
      "state": {
       "description": "Sample ID",
       "layout": "IPY_MODEL_0eb099a48d0a46ed9d2c5c9068ee3cbf",
       "placeholder": "Sample ID",
       "style": "IPY_MODEL_192e851cd1444172b6eadc18aadea290",
       "value": "-"
      }
     },
     "8c33abe2cb1044fb83829803231f6851": {
      "model_module": "@jupyter-widgets/controls",
      "model_module_version": "1.0.0",
      "model_name": "DescriptionStyleModel",
      "state": {
       "description_width": ""
      }
     },
     "8c487dd769f54b7b94569691916fb0c7": {
      "model_module": "@jupyter-widgets/controls",
      "model_module_version": "1.0.0",
      "model_name": "FloatTextModel",
      "state": {
       "description": "Abundance",
       "layout": "IPY_MODEL_2ba689d5830d4d06b98eb1020bab37da",
       "step": null,
       "style": "IPY_MODEL_00c5cc0c541145ef889071188e37e46f",
       "value": 15.384615384615385
      }
     },
     "8cad085a937c41b7aa68f171f5520a78": {
      "model_module": "@jupyter-widgets/controls",
      "model_module_version": "1.0.0",
      "model_name": "HBoxModel",
      "state": {
       "children": [
        "IPY_MODEL_3635eb6bf5bd4eb2b3c511ad41937e04",
        "IPY_MODEL_a5f6c021b2de4ac4bf6a6a3de4256a7d"
       ],
       "layout": "IPY_MODEL_b1b45e1f60cf469d85fe72521ef86580"
      }
     },
     "8cc83df01337452c9bdab88f67a36a67": {
      "model_module": "@jupyter-widgets/controls",
      "model_module_version": "1.0.0",
      "model_name": "ButtonStyleModel",
      "state": {}
     },
     "8e09963766f748d097e90ca66279ebf2": {
      "model_module": "@jupyter-widgets/base",
      "model_module_version": "1.0.0",
      "model_name": "LayoutModel",
      "state": {
       "width": "20%"
      }
     },
     "8e13c884d4644d7ebec461c4ec95c2e2": {
      "model_module": "@jupyter-widgets/base",
      "model_module_version": "1.0.0",
      "model_name": "LayoutModel",
      "state": {}
     },
     "8e93b3ed298c4843a791d725e579e86c": {
      "model_module": "@jupyter-widgets/controls",
      "model_module_version": "1.0.0",
      "model_name": "FloatTextModel",
      "state": {
       "description": "Abundance",
       "layout": "IPY_MODEL_0fe4437f03514de2a3929adfcab239a3",
       "step": null,
       "style": "IPY_MODEL_d7fd20b06fce4f118c17aa3b98bce218"
      }
     },
     "8e98071a10f64bbe973f661397fb9905": {
      "model_module": "@jupyter-widgets/controls",
      "model_module_version": "1.0.0",
      "model_name": "FloatTextModel",
      "state": {
       "description": "Abundance",
       "layout": "IPY_MODEL_d59215ebf4b145409800dd999aeb9210",
       "step": null,
       "style": "IPY_MODEL_aae2dd8ce3d14f45be984eed94dfe960"
      }
     },
     "8ec1123f964a4ad993760b0c3b4053d1": {
      "model_module": "@jupyter-widgets/controls",
      "model_module_version": "1.0.0",
      "model_name": "DescriptionStyleModel",
      "state": {
       "description_width": ""
      }
     },
     "8ec749af4c8c4e809b2e067ae8f64a5e": {
      "model_module": "@jupyter-widgets/base",
      "model_module_version": "1.0.0",
      "model_name": "LayoutModel",
      "state": {
       "width": "20%"
      }
     },
     "8ee67ac9a296407d9a2c1c679f39d567": {
      "model_module": "@jupyter-widgets/controls",
      "model_module_version": "1.0.0",
      "model_name": "DropdownModel",
      "state": {
       "_options_labels": [
        "ori.order",
        "group",
        "new.order",
        "categorical",
        "_calour_original_abundance"
       ],
       "index": 0,
       "layout": "IPY_MODEL_5985d0c15a8a4ea18e0b57652b09c2d9",
       "style": "IPY_MODEL_8371f4d10a5a434bb265dfab56b71ea4"
      }
     },
     "8ef1645848e3407f8ae324cc4e745687": {
      "model_module": "@jupyter-widgets/controls",
      "model_module_version": "1.0.0",
      "model_name": "HBoxModel",
      "state": {
       "children": [
        "IPY_MODEL_62bff018dc1e48e8b4a98d294bbbae29",
        "IPY_MODEL_2cd6a44f6b394ae08f319e2560c5ae91"
       ],
       "layout": "IPY_MODEL_884df1dfc42146a3a45898f5dcffccbb"
      }
     },
     "8f1b2c6ba9ec44f89f92c45d26c0b8d8": {
      "model_module": "@jupyter-widgets/controls",
      "model_module_version": "1.0.0",
      "model_name": "HBoxModel",
      "state": {
       "children": [
        "IPY_MODEL_e71c9cdd86744c64a7a7e795fac33ef0",
        "IPY_MODEL_76a765e017d74f1aa3c856312383cb42"
       ],
       "layout": "IPY_MODEL_b4650b6a8831470fb8f3256cfc10e622"
      }
     },
     "90938660446045f789e980da5024085c": {
      "model_module": "@jupyter-widgets/base",
      "model_module_version": "1.0.0",
      "model_name": "LayoutModel",
      "state": {
       "width": "100%"
      }
     },
     "90a5ada6dce940d18ca2b320df4c44b3": {
      "model_module": "@jupyter-widgets/controls",
      "model_module_version": "1.0.0",
      "model_name": "HBoxModel",
      "state": {
       "children": [
        "IPY_MODEL_034016157c1e4834a1874ad730db1d35",
        "IPY_MODEL_389e14a306a3404fa87ca08730449c9d",
        "IPY_MODEL_9d518ef1b3e2421ea49a010ceed75512"
       ],
       "layout": "IPY_MODEL_ceed02f0cb2d4fd981e1710d1c19a415"
      }
     },
     "90e1f51b6d304105a7032bf7f92896fc": {
      "model_module": "@jupyter-widgets/controls",
      "model_module_version": "1.0.0",
      "model_name": "LabelModel",
      "state": {
       "layout": "IPY_MODEL_552dc67caaba4b9c998110d2ef16fabe",
       "style": "IPY_MODEL_dafcf9781ae14313a9712f3f3ac763a3",
       "value": "0 features are selected"
      }
     },
     "914dc9b399cc4d9d8bc40c5f5c8f2001": {
      "model_module": "@jupyter-widgets/controls",
      "model_module_version": "1.0.0",
      "model_name": "DropdownModel",
      "state": {
       "_options_labels": [
        "oxygen",
        "ph",
        "level1",
        "level2",
        "new.order",
        "ori.order",
        "taxonomy"
       ],
       "index": 0,
       "layout": "IPY_MODEL_2979aa0ba7fa4d099eb2e734cbd2da55",
       "style": "IPY_MODEL_760310d170c24d5181467e9bd76c649c"
      }
     },
     "91814db0b8d64f12b71d3d70653e8801": {
      "model_module": "@jupyter-widgets/controls",
      "model_module_version": "1.0.0",
      "model_name": "DescriptionStyleModel",
      "state": {
       "description_width": ""
      }
     },
     "91d34eaab44e4d849f70e949826ffee3": {
      "model_module": "@jupyter-widgets/base",
      "model_module_version": "1.0.0",
      "model_name": "LayoutModel",
      "state": {
       "width": "100%"
      }
     },
     "928d371f132f4db0bc065c7e360ab249": {
      "model_module": "@jupyter-widgets/base",
      "model_module_version": "1.0.0",
      "model_name": "LayoutModel",
      "state": {}
     },
     "92ecc96096da498bb9a57909e80edf53": {
      "model_module": "@jupyter-widgets/controls",
      "model_module_version": "1.0.0",
      "model_name": "TextModel",
      "state": {
       "layout": "IPY_MODEL_00e25675da1049568f10c1796c6c6c5a",
       "placeholder": "sample meta",
       "style": "IPY_MODEL_8bab61fee22144b38a35287103cd1df7",
       "value": "-"
      }
     },
     "92f3abcf76e74fe8b6455d490c72278c": {
      "model_module": "@jupyter-widgets/controls",
      "model_module_version": "1.0.0",
      "model_name": "HBoxModel",
      "state": {
       "children": [
        "IPY_MODEL_a2c45c3cba814c71aa78d01db5a88514",
        "IPY_MODEL_3f1a094381784559bff88f2e238299e3",
        "IPY_MODEL_ef744ca46c1740209f24bb72bbf7b4e3"
       ],
       "layout": "IPY_MODEL_74acd45c93c14d78bd5bb643e5ad49bb"
      }
     },
     "931584c76d5348c3a7627adefa8f6b1c": {
      "model_module": "@jupyter-widgets/controls",
      "model_module_version": "1.0.0",
      "model_name": "DescriptionStyleModel",
      "state": {
       "description_width": ""
      }
     },
     "932cc02db0f04f68aa6f3035a74859e5": {
      "model_module": "@jupyter-widgets/controls",
      "model_module_version": "1.0.0",
      "model_name": "DescriptionStyleModel",
      "state": {
       "description_width": ""
      }
     },
     "9354b50cf37742798cf9830a78845f29": {
      "model_module": "@jupyter-widgets/base",
      "model_module_version": "1.0.0",
      "model_name": "LayoutModel",
      "state": {
       "width": "80%"
      }
     },
     "93b3cf55930c4dd086479f3a5f922ade": {
      "model_module": "@jupyter-widgets/base",
      "model_module_version": "1.0.0",
      "model_name": "LayoutModel",
      "state": {
       "height": "100px",
       "overflow_y": "auto"
      }
     },
     "94343b458ad346609429d806bf90ad88": {
      "model_module": "@jupyter-widgets/controls",
      "model_module_version": "1.0.0",
      "model_name": "ButtonModel",
      "state": {
       "description": "Save",
       "layout": "IPY_MODEL_541d4fd136ab4073ab0990280e3ee208",
       "style": "IPY_MODEL_7580005c49474c62a7cc1db66ddc5626",
       "tooltip": "Save the selection(s)"
      }
     },
     "94d09775552249bc9f906d9407c1047d": {
      "model_module": "@jupyter-widgets/controls",
      "model_module_version": "1.0.0",
      "model_name": "ButtonStyleModel",
      "state": {}
     },
     "94f4358e5826460898af63aab3ece55e": {
      "model_module": "@jupyter-widgets/controls",
      "model_module_version": "1.0.0",
      "model_name": "HBoxModel",
      "state": {
       "children": [
        "IPY_MODEL_0c33c99a4c2c480e83fde9ed11c6ce8d",
        "IPY_MODEL_6a055f899a7b4635a8b466305124fc89",
        "IPY_MODEL_d7064ad2257e4ce0a66f4d4e77d87f4c"
       ],
       "layout": "IPY_MODEL_b30c1d2cf00d440ba7c63966907b7e4f"
      }
     },
     "9574655f903441b6994aef806e87bc92": {
      "model_module": "@jupyter-widgets/base",
      "model_module_version": "1.0.0",
      "model_name": "LayoutModel",
      "state": {}
     },
     "96051a033f5b41e8b1d6420dc4a56497": {
      "model_module": "@jupyter-widgets/base",
      "model_module_version": "1.0.0",
      "model_name": "LayoutModel",
      "state": {}
     },
     "960df2a4f6054b57a54b257213e7f63e": {
      "model_module": "@jupyter-widgets/controls",
      "model_module_version": "1.0.0",
      "model_name": "DescriptionStyleModel",
      "state": {
       "description_width": ""
      }
     },
     "962fb1baec2b4b7caa211f6145c32f68": {
      "model_module": "@jupyter-widgets/controls",
      "model_module_version": "1.0.0",
      "model_name": "DropdownModel",
      "state": {
       "_options_labels": [
        "oxygen",
        "ph",
        "level1",
        "level2",
        "new.order",
        "ori.order",
        "taxonomy"
       ],
       "index": 0,
       "layout": "IPY_MODEL_5cd16490bf0a4375a50d5c297a5ca339",
       "style": "IPY_MODEL_b97b03781d7a40b1a523420afd38c73f"
      }
     },
     "96b797df1fbd4dafb286b8482fe1f434": {
      "model_module": "@jupyter-widgets/controls",
      "model_module_version": "1.0.0",
      "model_name": "LabelModel",
      "state": {
       "layout": "IPY_MODEL_e92f6c43518f4ce183b878b306c7fd5d",
       "style": "IPY_MODEL_01474d88c84e4f1b8cdb59872b22ba25",
       "value": "1 features are selected"
      }
     },
     "97b893952a074e74a8eff9c57837cf55": {
      "model_module": "@jupyter-widgets/controls",
      "model_module_version": "1.0.0",
      "model_name": "HBoxModel",
      "state": {
       "children": [
        "IPY_MODEL_707be9b38bd0444ebaa21b52053dffcc",
        "IPY_MODEL_5b9001b811bd49f38dd1e6f0e92643b4"
       ],
       "layout": "IPY_MODEL_ad45a826b3a74161bb44a5749d644fa8"
      }
     },
     "9802adaa4e154ffdb94436771cbfd92b": {
      "model_module": "@jupyter-widgets/controls",
      "model_module_version": "1.0.0",
      "model_name": "DropdownModel",
      "state": {
       "_options_labels": [
        "ori.order",
        "group",
        "new.order",
        "categorical",
        "_calour_original_abundance"
       ],
       "index": 0,
       "layout": "IPY_MODEL_59e976c095204998a963c6f4f945f91f",
       "style": "IPY_MODEL_48318f6ceacd41b3bcd639a430ea7386"
      }
     },
     "983de6053288462fb9b51281807210b1": {
      "model_module": "@jupyter-widgets/base",
      "model_module_version": "1.0.0",
      "model_name": "LayoutModel",
      "state": {}
     },
     "98889e3b9253435abc2a0d74609bda4c": {
      "model_module": "@jupyter-widgets/controls",
      "model_module_version": "1.0.0",
      "model_name": "HBoxModel",
      "state": {
       "children": [
        "IPY_MODEL_8ee67ac9a296407d9a2c1c679f39d567",
        "IPY_MODEL_bd10010d59764e0abcfc3fe07df46ee9"
       ],
       "layout": "IPY_MODEL_eef1b0e464e34f7f962a9b1c73d43754"
      }
     },
     "99214093a1354cc893fa705705f32128": {
      "model_module": "@jupyter-widgets/controls",
      "model_module_version": "1.0.0",
      "model_name": "DescriptionStyleModel",
      "state": {
       "description_width": ""
      }
     },
     "994b82b2cc834d9da39e026f937dafec": {
      "model_module": "@jupyter-widgets/controls",
      "model_module_version": "1.0.0",
      "model_name": "DescriptionStyleModel",
      "state": {
       "description_width": ""
      }
     },
     "9a0b3f943c234e00a1a9b561b6501020": {
      "model_module": "@jupyter-widgets/base",
      "model_module_version": "1.0.0",
      "model_name": "LayoutModel",
      "state": {}
     },
     "9a1563c5454f45ae934861bf403039ac": {
      "model_module": "@jupyter-widgets/controls",
      "model_module_version": "1.0.0",
      "model_name": "DropdownModel",
      "state": {
       "_options_labels": [
        "ori.order",
        "group",
        "new.order",
        "categorical",
        "_calour_original_abundance"
       ],
       "index": 0,
       "layout": "IPY_MODEL_695a36c3c1d84196907185f8d97b0d82",
       "style": "IPY_MODEL_741fd99505aa4bbfa4abde0dd33a0418"
      }
     },
     "9abb0308de48404d9d6bac5ae218fef2": {
      "model_module": "@jupyter-widgets/controls",
      "model_module_version": "1.0.0",
      "model_name": "LabelModel",
      "state": {
       "layout": "IPY_MODEL_59b2ad4d5528452b801e558233191f54",
       "style": "IPY_MODEL_9be8cc2a16dc4adbbb6ba33159e50119",
       "value": "0 features are selected"
      }
     },
     "9b89b5da51b44dc2b3c38106fa8c9484": {
      "model_module": "@jupyter-widgets/controls",
      "model_module_version": "1.0.0",
      "model_name": "HBoxModel",
      "state": {
       "children": [
        "IPY_MODEL_4a71d6cbea354d23834a2c450a205076",
        "IPY_MODEL_4cc227f13fbd45b7bc5323599c31540b",
        "IPY_MODEL_6a01b0a150d54bdf990c99b26ebbb8b4"
       ],
       "layout": "IPY_MODEL_9c6bd10db3ee44d5bdc59198688e21b7"
      }
     },
     "9be8cc2a16dc4adbbb6ba33159e50119": {
      "model_module": "@jupyter-widgets/controls",
      "model_module_version": "1.0.0",
      "model_name": "DescriptionStyleModel",
      "state": {
       "description_width": ""
      }
     },
     "9c6bd10db3ee44d5bdc59198688e21b7": {
      "model_module": "@jupyter-widgets/base",
      "model_module_version": "1.0.0",
      "model_name": "LayoutModel",
      "state": {}
     },
     "9ca03c1d41354c71be81a71d333417ee": {
      "model_module": "@jupyter-widgets/controls",
      "model_module_version": "1.0.0",
      "model_name": "DescriptionStyleModel",
      "state": {
       "description_width": ""
      }
     },
     "9cec1e91b91e418dbf8596e2c7e9c839": {
      "model_module": "@jupyter-widgets/base",
      "model_module_version": "1.0.0",
      "model_name": "LayoutModel",
      "state": {}
     },
     "9d1881feb0e84fffbecd19f344db35cd": {
      "model_module": "@jupyter-widgets/controls",
      "model_module_version": "1.0.0",
      "model_name": "TextModel",
      "state": {
       "layout": "IPY_MODEL_ded221a894904090a0d64b0ccae8a4e9",
       "placeholder": "feature meta",
       "style": "IPY_MODEL_c8bc8ee6e8b347a2899afc429d68cf90",
       "value": "-"
      }
     },
     "9d518ef1b3e2421ea49a010ceed75512": {
      "model_module": "@jupyter-widgets/controls",
      "model_module_version": "1.0.0",
      "model_name": "FloatTextModel",
      "state": {
       "description": "Abundance",
       "layout": "IPY_MODEL_019046940176475d87de54db26107ee7",
       "step": null,
       "style": "IPY_MODEL_01e623669876475d81e26a4e11870874",
       "value": 11.76470588235294
      }
     },
     "9d96b4c7dbf249aa9e759a336fffe6d5": {
      "model_module": "@jupyter-widgets/base",
      "model_module_version": "1.0.0",
      "model_name": "LayoutModel",
      "state": {}
     },
     "9e0e8123e265482c84d6942cc9ab754c": {
      "model_module": "@jupyter-widgets/controls",
      "model_module_version": "1.0.0",
      "model_name": "DescriptionStyleModel",
      "state": {
       "description_width": ""
      }
     },
     "9e199d24e61c405b8edb8936de74b20d": {
      "model_module": "@jupyter-widgets/base",
      "model_module_version": "1.0.0",
      "model_name": "LayoutModel",
      "state": {}
     },
     "9eb4726ed113454fbe79704dae83a7d7": {
      "model_module": "@jupyter-widgets/controls",
      "model_module_version": "1.0.0",
      "model_name": "ButtonStyleModel",
      "state": {}
     },
     "9efe0892a42b4c7eaec597f1b9a330a1": {
      "model_module": "@jupyter-widgets/controls",
      "model_module_version": "1.0.0",
      "model_name": "DescriptionStyleModel",
      "state": {
       "description_width": ""
      }
     },
     "9f38024313b54c139cecfbdf6d85b722": {
      "model_module": "@jupyter-widgets/base",
      "model_module_version": "1.0.0",
      "model_name": "LayoutModel",
      "state": {
       "width": "80%"
      }
     },
     "9f820ac307b94e6f8c537a5501a0236a": {
      "model_module": "@jupyter-widgets/controls",
      "model_module_version": "1.0.0",
      "model_name": "DropdownModel",
      "state": {
       "_options_labels": [
        "oxygen",
        "ph",
        "level1",
        "level2",
        "new.order",
        "ori.order",
        "taxonomy"
       ],
       "index": 0,
       "layout": "IPY_MODEL_32ed7ce94fa4446685d4c9fd31f767a9",
       "style": "IPY_MODEL_bf3c8254d1b044f4b60a69e8e211ad34"
      }
     },
     "9fc9fd4654ea449cb3b8f29da806f632": {
      "model_module": "@jupyter-widgets/controls",
      "model_module_version": "1.0.0",
      "model_name": "DescriptionStyleModel",
      "state": {
       "description_width": ""
      }
     },
     "9fd18553292c463cbbbeb64a01514014": {
      "model_module": "@jupyter-widgets/controls",
      "model_module_version": "1.0.0",
      "model_name": "HTMLModel",
      "state": {
       "layout": "IPY_MODEL_fb0d20d518b54a85950da404e23b9bf1",
       "style": "IPY_MODEL_d313571b489e47faaaab501e167abe62",
       "value": "<style> a:link {color:black; background-color:transparent; text-decoration:none}a:visited {color:black; background-color:transparent; text-decoration:none}</style><p style=\"color:black;white-space:nowrap;\"><a href=\"http://dbbact.org/annotation_info/NA\"   target=\"_blank\">No annotation found in database dbBact</a></p>"
      }
     },
     "9fe0e4c85aaa4eaab7efd74c3256fba2": {
      "model_module": "@jupyter-widgets/controls",
      "model_module_version": "1.0.0",
      "model_name": "LabelModel",
      "state": {
       "layout": "IPY_MODEL_bf830b8f53b04c579b435a2f86c42dfa",
       "style": "IPY_MODEL_ad686106732e4eccb4a7fdc48cbbe17a",
       "value": "0 features are selected"
      }
     },
     "a00aed31ff3140e98deefa3bd6a0e180": {
      "model_module": "@jupyter-widgets/controls",
      "model_module_version": "1.0.0",
      "model_name": "TextModel",
      "state": {
       "layout": "IPY_MODEL_e9ee8ed6b979409e904c883d3fad034b",
       "placeholder": "sample meta",
       "style": "IPY_MODEL_264c71cb5c2f448fbc2b032fcae8e7e8",
       "value": "3"
      }
     },
     "a05ae91718b24496b01645ab6a7855f3": {
      "model_module": "@jupyter-widgets/controls",
      "model_module_version": "1.0.0",
      "model_name": "ButtonStyleModel",
      "state": {}
     },
     "a077060fd24548a6a6332e1b6a13c720": {
      "model_module": "@jupyter-widgets/controls",
      "model_module_version": "1.0.0",
      "model_name": "DropdownModel",
      "state": {
       "_options_labels": [
        "ori.order",
        "group",
        "new.order",
        "categorical",
        "_calour_original_abundance"
       ],
       "index": 0,
       "layout": "IPY_MODEL_c1e6ed53474d42cf89091266d7f31d68",
       "style": "IPY_MODEL_5b6a5dd495b4481090dd164544af4155"
      }
     },
     "a09704fd86b54b469126d635682343ae": {
      "model_module": "@jupyter-widgets/controls",
      "model_module_version": "1.0.0",
      "model_name": "TextModel",
      "state": {
       "description": "Feature ID",
       "layout": "IPY_MODEL_105dc9bc4cdf424f9691cc233cdf519e",
       "placeholder": "Feature ID",
       "style": "IPY_MODEL_d3d981a1c06f4eee976f65d1dae9e210",
       "value": "-"
      }
     },
     "a0aff6b3fa7b4cfbb5d12bead2b64cc9": {
      "model_module": "@jupyter-widgets/controls",
      "model_module_version": "1.0.0",
      "model_name": "TextModel",
      "state": {
       "layout": "IPY_MODEL_11c27a0ecdac4d5db4e19f8a166c576b",
       "placeholder": "feature meta",
       "style": "IPY_MODEL_f62fdecc01eb49fcb29a099cf8dc13e2",
       "value": "aerobic"
      }
     },
     "a0cb132f7340491781db63390944a956": {
      "model_module": "@jupyter-widgets/controls",
      "model_module_version": "1.0.0",
      "model_name": "DescriptionStyleModel",
      "state": {
       "description_width": ""
      }
     },
     "a17decffdb3c42ef9458fe2a83b3720b": {
      "model_module": "@jupyter-widgets/base",
      "model_module_version": "1.0.0",
      "model_name": "LayoutModel",
      "state": {}
     },
     "a264106d08ab4e3182f0eb151d3a5a3b": {
      "model_module": "@jupyter-widgets/base",
      "model_module_version": "1.0.0",
      "model_name": "LayoutModel",
      "state": {
       "width": "80%"
      }
     },
     "a27ef6f8258a4627a196f6c7e3d9208e": {
      "model_module": "@jupyter-widgets/controls",
      "model_module_version": "1.0.0",
      "model_name": "DescriptionStyleModel",
      "state": {
       "description_width": ""
      }
     },
     "a28394d75da84729a1d5332f2ac091b5": {
      "model_module": "@jupyter-widgets/controls",
      "model_module_version": "1.0.0",
      "model_name": "ButtonModel",
      "state": {
       "description": "print axes ranges",
       "layout": "IPY_MODEL_758070c99c514370887433836531b003",
       "style": "IPY_MODEL_5adfe85ddb7c499bb2d096394ab57d6f",
       "tooltip": "Print the x axis and y axis ranges. Useful to pass to `rect` parameter of heatmap() to zoom in the region automatically."
      }
     },
     "a2906b1c4804455d87289cc1a55c2646": {
      "model_module": "@jupyter-widgets/base",
      "model_module_version": "1.0.0",
      "model_name": "LayoutModel",
      "state": {}
     },
     "a2a329ec00034b4cb3a19e1f2b5f437a": {
      "model_module": "@jupyter-widgets/controls",
      "model_module_version": "1.0.0",
      "model_name": "HBoxModel",
      "state": {
       "children": [
        "IPY_MODEL_130c532f5617441694bdc4dd1970a9fb",
        "IPY_MODEL_e5fde036ecc54c3ab9b454f664f228cf"
       ],
       "layout": "IPY_MODEL_2306aee16b2e498fb8752c9345c366fd"
      }
     },
     "a2c45c3cba814c71aa78d01db5a88514": {
      "model_module": "@jupyter-widgets/controls",
      "model_module_version": "1.0.0",
      "model_name": "TextModel",
      "state": {
       "description": "Sample ID",
       "layout": "IPY_MODEL_26b0a8291b8a43779ec1ea5975dce562",
       "placeholder": "Sample ID",
       "style": "IPY_MODEL_bd071abae5a94ceda7e8e67632b456b4",
       "value": "S4"
      }
     },
     "a311150e5f0f4e648eb8602800718030": {
      "model_module": "@jupyter-widgets/base",
      "model_module_version": "1.0.0",
      "model_name": "LayoutModel",
      "state": {
       "width": "20%"
      }
     },
     "a3ab973b0c1743e68ef7ae085276b3c4": {
      "model_module": "@jupyter-widgets/controls",
      "model_module_version": "1.0.0",
      "model_name": "HBoxModel",
      "state": {
       "children": [
        "IPY_MODEL_962fb1baec2b4b7caa211f6145c32f68",
        "IPY_MODEL_a0aff6b3fa7b4cfbb5d12bead2b64cc9"
       ],
       "layout": "IPY_MODEL_c37ce0442b534130afb115992d268ec0"
      }
     },
     "a3acabb2369f49b5aa77b77acd4192f4": {
      "model_module": "@jupyter-widgets/controls",
      "model_module_version": "1.0.0",
      "model_name": "ButtonModel",
      "state": {
       "description": "print axes ranges",
       "layout": "IPY_MODEL_b27e428d37ac4a12aaa2f313b7dadea3",
       "style": "IPY_MODEL_a9ed3ea44ca2428fbae791f213cc1249",
       "tooltip": "Print the x axis and y axis ranges. Useful to pass to `rect` parameter of heatmap() to zoom in the region automatically."
      }
     },
     "a459556696f2415e880f07f71cf589ed": {
      "model_module": "@jupyter-widgets/base",
      "model_module_version": "1.0.0",
      "model_name": "LayoutModel",
      "state": {}
     },
     "a4e2633eab3349ea89670415a2b9a143": {
      "model_module": "@jupyter-widgets/controls",
      "model_module_version": "1.0.0",
      "model_name": "TextModel",
      "state": {
       "description": "Sample ID",
       "layout": "IPY_MODEL_6a78243a8abb4458b19ae1a0500dab91",
       "placeholder": "Sample ID",
       "style": "IPY_MODEL_5ee67d1601fc4ec39f0ea109ddc67685",
       "value": "-"
      }
     },
     "a5f6c021b2de4ac4bf6a6a3de4256a7d": {
      "model_module": "@jupyter-widgets/controls",
      "model_module_version": "1.0.0",
      "model_name": "TextModel",
      "state": {
       "layout": "IPY_MODEL_a7a57b631d974eddb52bc1006fd12984",
       "placeholder": "feature meta",
       "style": "IPY_MODEL_c1f15a885d774711a675c6aa3226751c",
       "value": "aerobic"
      }
     },
     "a6fda4faa1434abdb3574b8b173ab8ef": {
      "model_module": "@jupyter-widgets/controls",
      "model_module_version": "1.0.0",
      "model_name": "DescriptionStyleModel",
      "state": {
       "description_width": ""
      }
     },
     "a708261462d840178f28f54b4dad290e": {
      "model_module": "@jupyter-widgets/controls",
      "model_module_version": "1.0.0",
      "model_name": "ButtonStyleModel",
      "state": {}
     },
     "a70ec2eed2ce499fb49762cec213ea79": {
      "model_module": "@jupyter-widgets/controls",
      "model_module_version": "1.0.0",
      "model_name": "ButtonStyleModel",
      "state": {}
     },
     "a72ab8ff79394bafbc7334b1436629e6": {
      "model_module": "@jupyter-widgets/base",
      "model_module_version": "1.0.0",
      "model_name": "LayoutModel",
      "state": {}
     },
     "a72bce7ab7f24dfda5d25eefa936bec7": {
      "model_module": "@jupyter-widgets/controls",
      "model_module_version": "1.0.0",
      "model_name": "TextModel",
      "state": {
       "layout": "IPY_MODEL_de0d8b69b9db475ba5f7778b1702db02",
       "placeholder": "sample meta",
       "style": "IPY_MODEL_6b2dff180bc84f5a80b4dd9dd0551483",
       "value": "3"
      }
     },
     "a7a57b631d974eddb52bc1006fd12984": {
      "model_module": "@jupyter-widgets/base",
      "model_module_version": "1.0.0",
      "model_name": "LayoutModel",
      "state": {
       "width": "80%"
      }
     },
     "a7c366c932e24995b79e42c529bac028": {
      "model_module": "@jupyter-widgets/controls",
      "model_module_version": "1.0.0",
      "model_name": "HBoxModel",
      "state": {
       "children": [
        "IPY_MODEL_29e59b1f20dc408bb2d2fff975a9b41b",
        "IPY_MODEL_e188e29063d245d5b865ccd346ff8efa"
       ],
       "layout": "IPY_MODEL_5eb423e1e9a04a7c8b36f334111e4bb6"
      }
     },
     "a86a2ba6593f496c88338dc932280f35": {
      "model_module": "@jupyter-widgets/controls",
      "model_module_version": "1.0.0",
      "model_name": "HBoxModel",
      "state": {
       "children": [
        "IPY_MODEL_ac5e67eb367b452c906a7f6c4093cc64",
        "IPY_MODEL_6fb85714ca1549ed97dd6356997d984a"
       ],
       "layout": "IPY_MODEL_b5ce8d98735147458c9b1bad49e8fc00"
      }
     },
     "a8742efbdb9d4e50b56783b97e50a5be": {
      "model_module": "@jupyter-widgets/controls",
      "model_module_version": "1.0.0",
      "model_name": "DropdownModel",
      "state": {
       "_options_labels": [
        "oxygen",
        "ph",
        "level1",
        "level2",
        "new.order",
        "ori.order",
        "taxonomy"
       ],
       "index": 0,
       "layout": "IPY_MODEL_6a71069cbb2c43438b8568cd956163c5",
       "style": "IPY_MODEL_6a5ff6f45dbc46978f342ad4d6166c1a"
      }
     },
     "a87c80be889f46c6944dad1a8600d926": {
      "model_module": "@jupyter-widgets/controls",
      "model_module_version": "1.0.0",
      "model_name": "TextModel",
      "state": {
       "layout": "IPY_MODEL_bf3e56626f2f48e2b9eba29a2dbe8019",
       "placeholder": "sample meta",
       "style": "IPY_MODEL_f5a0540017034c4d907b6de51e08173a",
       "value": "-"
      }
     },
     "a90a70232dbc40e498e9530981c3096b": {
      "model_module": "@jupyter-widgets/base",
      "model_module_version": "1.0.0",
      "model_name": "LayoutModel",
      "state": {}
     },
     "a93ef3365c3d4bef9155fc296849f5f8": {
      "model_module": "@jupyter-widgets/base",
      "model_module_version": "1.0.0",
      "model_name": "LayoutModel",
      "state": {}
     },
     "a947787b553a485fab496b15d7e0bb9a": {
      "model_module": "@jupyter-widgets/base",
      "model_module_version": "1.0.0",
      "model_name": "LayoutModel",
      "state": {}
     },
     "a9801bfd8b2e4dc980457c0b9cb11527": {
      "model_module": "@jupyter-widgets/controls",
      "model_module_version": "1.0.0",
      "model_name": "LabelModel",
      "state": {
       "layout": "IPY_MODEL_85a411cb20fe45d59527aa71c44511dd",
       "style": "IPY_MODEL_d3e470dc3e9242f3926abe4394425f39",
       "value": "1 features are selected"
      }
     },
     "a9aef8431bda4f65aebdffab7bdeda0b": {
      "model_module": "@jupyter-widgets/controls",
      "model_module_version": "1.0.0",
      "model_name": "ButtonModel",
      "state": {
       "description": "print axes ranges",
       "layout": "IPY_MODEL_cd591a975e034460be5bc9cd73df96d2",
       "style": "IPY_MODEL_cd5fad4fcf6b4df2957a9e064c607938",
       "tooltip": "Print the x axis and y axis ranges. Useful to pass to `rect` parameter of heatmap() to zoom in the region automatically."
      }
     },
     "a9c583a886f84b2d820e9e97a0def3fe": {
      "model_module": "@jupyter-widgets/base",
      "model_module_version": "1.0.0",
      "model_name": "LayoutModel",
      "state": {}
     },
     "a9c7d5950d9143d687f78a5747709eb2": {
      "model_module": "@jupyter-widgets/controls",
      "model_module_version": "1.0.0",
      "model_name": "TextModel",
      "state": {
       "layout": "IPY_MODEL_9f38024313b54c139cecfbdf6d85b722",
       "placeholder": "feature meta",
       "style": "IPY_MODEL_4ad914973dc449108fc75e33fec426bb",
       "value": "anaerobic"
      }
     },
     "a9ed3ea44ca2428fbae791f213cc1249": {
      "model_module": "@jupyter-widgets/controls",
      "model_module_version": "1.0.0",
      "model_name": "ButtonStyleModel",
      "state": {}
     },
     "aad6602769a74e419b6b9b499533d582": {
      "model_module": "@jupyter-widgets/base",
      "model_module_version": "1.0.0",
      "model_name": "LayoutModel",
      "state": {}
     },
     "aae2dd8ce3d14f45be984eed94dfe960": {
      "model_module": "@jupyter-widgets/controls",
      "model_module_version": "1.0.0",
      "model_name": "DescriptionStyleModel",
      "state": {
       "description_width": ""
      }
     },
     "aaf1e2a904274269925ae15bde5ebf6b": {
      "model_module": "@jupyter-widgets/base",
      "model_module_version": "1.0.0",
      "model_name": "LayoutModel",
      "state": {
       "width": "80%"
      }
     },
     "aaf54215325e43f7a2ea12afd1d96dc4": {
      "model_module": "@jupyter-widgets/controls",
      "model_module_version": "1.0.0",
      "model_name": "HBoxModel",
      "state": {
       "children": [
        "IPY_MODEL_cefb9977328047de986c3d7416c1a229",
        "IPY_MODEL_b3a2a0cf9dac424ca11c4d102069836e",
        "IPY_MODEL_46fd1a9ea25a4c888e0f728591bcbb77"
       ],
       "layout": "IPY_MODEL_9574655f903441b6994aef806e87bc92"
      }
     },
     "ab73c7b03b004f3cb46543ebe09ed2fa": {
      "model_module": "@jupyter-widgets/controls",
      "model_module_version": "1.0.0",
      "model_name": "HBoxModel",
      "state": {
       "children": [
        "IPY_MODEL_e01d8976dd3e4188a5515717959c760a",
        "IPY_MODEL_115957e8b71740928560b256a2c45df3",
        "IPY_MODEL_6b05c4a3ae9148dcb7dff94e4d3548ac"
       ],
       "layout": "IPY_MODEL_a72ab8ff79394bafbc7334b1436629e6"
      }
     },
     "aba8b415a4a24b819e90e3c9fe6536dc": {
      "model_module": "@jupyter-widgets/controls",
      "model_module_version": "1.0.0",
      "model_name": "ButtonStyleModel",
      "state": {}
     },
     "abbeddd2294244e19731984ab5425bb9": {
      "model_module": "@jupyter-widgets/controls",
      "model_module_version": "1.0.0",
      "model_name": "HBoxModel",
      "state": {
       "children": [
        "IPY_MODEL_a8742efbdb9d4e50b56783b97e50a5be",
        "IPY_MODEL_8af73284f30b40409de43e02b8769aea"
       ],
       "layout": "IPY_MODEL_2eb8e2db28e04011a26a20c32b732cd5"
      }
     },
     "abe3ea449b7341bb8514ac5575384e14": {
      "model_module": "@jupyter-widgets/base",
      "model_module_version": "1.0.0",
      "model_name": "LayoutModel",
      "state": {
       "width": "20%"
      }
     },
     "ac1146579d5f4db58af5e2c31d39cd51": {
      "model_module": "@jupyter-widgets/controls",
      "model_module_version": "1.0.0",
      "model_name": "DescriptionStyleModel",
      "state": {
       "description_width": ""
      }
     },
     "ac5e67eb367b452c906a7f6c4093cc64": {
      "model_module": "@jupyter-widgets/controls",
      "model_module_version": "1.0.0",
      "model_name": "DropdownModel",
      "state": {
       "_options_labels": [
        "ori.order",
        "group",
        "new.order",
        "categorical",
        "_calour_original_abundance"
       ],
       "index": 0,
       "layout": "IPY_MODEL_ef2fb6bdf77242dca72164d2ab57a968",
       "style": "IPY_MODEL_4b5072a20aa94e65bd92770a67611ca5"
      }
     },
     "acc504f859be4cf099bea5c25253750b": {
      "model_module": "@jupyter-widgets/controls",
      "model_module_version": "1.0.0",
      "model_name": "DescriptionStyleModel",
      "state": {
       "description_width": ""
      }
     },
     "acd000fbeb2e4b6c9e5e67b954e23bd8": {
      "model_module": "@jupyter-widgets/controls",
      "model_module_version": "1.0.0",
      "model_name": "DescriptionStyleModel",
      "state": {
       "description_width": ""
      }
     },
     "ad45a826b3a74161bb44a5749d644fa8": {
      "model_module": "@jupyter-widgets/base",
      "model_module_version": "1.0.0",
      "model_name": "LayoutModel",
      "state": {}
     },
     "ad686106732e4eccb4a7fdc48cbbe17a": {
      "model_module": "@jupyter-widgets/controls",
      "model_module_version": "1.0.0",
      "model_name": "DescriptionStyleModel",
      "state": {
       "description_width": ""
      }
     },
     "ad97ea7fc7b24c0a80691226e12610ae": {
      "model_module": "@jupyter-widgets/base",
      "model_module_version": "1.0.0",
      "model_name": "LayoutModel",
      "state": {
       "height": "100px",
       "overflow_y": "auto"
      }
     },
     "aef9e9a7968a4e7dbd1cdc357d2c3a08": {
      "model_module": "@jupyter-widgets/controls",
      "model_module_version": "1.0.0",
      "model_name": "HBoxModel",
      "state": {
       "children": [
        "IPY_MODEL_631f4a2616524b21ad7ab65309aa7843",
        "IPY_MODEL_a09704fd86b54b469126d635682343ae",
        "IPY_MODEL_73e180d5a3764940b477890507ce376e"
       ],
       "layout": "IPY_MODEL_8e13c884d4644d7ebec461c4ec95c2e2"
      }
     },
     "af29d69b379547a5aafbfab7026cd73c": {
      "model_module": "@jupyter-widgets/controls",
      "model_module_version": "1.0.0",
      "model_name": "DescriptionStyleModel",
      "state": {
       "description_width": ""
      }
     },
     "af2e94daef064648bac8a9d6c8318db5": {
      "model_module": "@jupyter-widgets/base",
      "model_module_version": "1.0.0",
      "model_name": "LayoutModel",
      "state": {}
     },
     "af2f432925244da9a661f4cac35f99eb": {
      "model_module": "@jupyter-widgets/controls",
      "model_module_version": "1.0.0",
      "model_name": "ButtonModel",
      "state": {
       "description": "Save",
       "layout": "IPY_MODEL_0d1ac708b20d42ec89747468e9d2867c",
       "style": "IPY_MODEL_10663756ad8e44caaceb81c6a59f9b3f",
       "tooltip": "Save the selection(s)"
      }
     },
     "af64768fd9aa4166ace42e7d5d08e613": {
      "model_module": "@jupyter-widgets/controls",
      "model_module_version": "1.0.0",
      "model_name": "ButtonModel",
      "state": {
       "description": "Save",
       "layout": "IPY_MODEL_f24fa96118a844a0859a8b7f7ad5a60e",
       "style": "IPY_MODEL_f16ea498af894761acde79303d5fdba3",
       "tooltip": "Save the selection(s)"
      }
     },
     "af8fdc59253e49b9b9d99462cfdf1ac2": {
      "model_module": "@jupyter-widgets/controls",
      "model_module_version": "1.0.0",
      "model_name": "DescriptionStyleModel",
      "state": {
       "description_width": ""
      }
     },
     "afa3ee4bf4774e12916fba17cccb8198": {
      "model_module": "@jupyter-widgets/base",
      "model_module_version": "1.0.0",
      "model_name": "LayoutModel",
      "state": {
       "width": "20%"
      }
     },
     "b0110399b90b41f8b940b9d3c8f692f8": {
      "model_module": "@jupyter-widgets/controls",
      "model_module_version": "1.0.0",
      "model_name": "DescriptionStyleModel",
      "state": {
       "description_width": ""
      }
     },
     "b042f579debc413282d91e47a7518627": {
      "model_module": "@jupyter-widgets/controls",
      "model_module_version": "1.0.0",
      "model_name": "HBoxModel",
      "state": {
       "children": [
        "IPY_MODEL_864b62d99b484d6b8195378686862840",
        "IPY_MODEL_a87c80be889f46c6944dad1a8600d926"
       ],
       "layout": "IPY_MODEL_d2d5b4728df142e89336ceb31db7951c"
      }
     },
     "b0f5a06a4ab44a1d948613014cadb06e": {
      "model_module": "@jupyter-widgets/controls",
      "model_module_version": "1.0.0",
      "model_name": "HBoxModel",
      "state": {
       "children": [
        "IPY_MODEL_270b6d3846df4858be126fb7414162e0",
        "IPY_MODEL_92ecc96096da498bb9a57909e80edf53"
       ],
       "layout": "IPY_MODEL_7a2095c306f64afc96a142734d9c5800"
      }
     },
     "b1865a55f3cc4806936ca9846d26dfdc": {
      "model_module": "@jupyter-widgets/controls",
      "model_module_version": "1.0.0",
      "model_name": "ButtonStyleModel",
      "state": {}
     },
     "b18c660ed276410285cf6d39ec4f64e9": {
      "model_module": "@jupyter-widgets/controls",
      "model_module_version": "1.0.0",
      "model_name": "HBoxModel",
      "state": {
       "children": [
        "IPY_MODEL_05bbad225e6e4edca15e9f8899271290",
        "IPY_MODEL_7b02f671f963406ea6b3c07d1b9e9c68"
       ],
       "layout": "IPY_MODEL_f069355a505548daab227402416d8735"
      }
     },
     "b1b45e1f60cf469d85fe72521ef86580": {
      "model_module": "@jupyter-widgets/base",
      "model_module_version": "1.0.0",
      "model_name": "LayoutModel",
      "state": {}
     },
     "b2260c5f7499484593b93b93b818fd94": {
      "model_module": "@jupyter-widgets/controls",
      "model_module_version": "1.0.0",
      "model_name": "HTMLModel",
      "state": {
       "layout": "IPY_MODEL_ad97ea7fc7b24c0a80691226e12610ae",
       "style": "IPY_MODEL_3e9d3806dcc145989927b1e74fb92344",
       "value": "no annotation found"
      }
     },
     "b27e428d37ac4a12aaa2f313b7dadea3": {
      "model_module": "@jupyter-widgets/base",
      "model_module_version": "1.0.0",
      "model_name": "LayoutModel",
      "state": {}
     },
     "b2dbcb5139814badb829f3b8bbc8ba35": {
      "model_module": "@jupyter-widgets/controls",
      "model_module_version": "1.0.0",
      "model_name": "ButtonModel",
      "state": {
       "description": "Save",
       "layout": "IPY_MODEL_570501f228ae4e62a67061949e28c699",
       "style": "IPY_MODEL_637553ca7a0d43fda705706126e7eced",
       "tooltip": "Save the selection(s)"
      }
     },
     "b30c1d2cf00d440ba7c63966907b7e4f": {
      "model_module": "@jupyter-widgets/base",
      "model_module_version": "1.0.0",
      "model_name": "LayoutModel",
      "state": {}
     },
     "b3a2a0cf9dac424ca11c4d102069836e": {
      "model_module": "@jupyter-widgets/controls",
      "model_module_version": "1.0.0",
      "model_name": "TextModel",
      "state": {
       "description": "Feature ID",
       "layout": "IPY_MODEL_b9e20f433739466d836038e789e66f1a",
       "placeholder": "Feature ID",
       "style": "IPY_MODEL_53517737dea14c08b4225ce03480407e",
       "value": "-"
      }
     },
     "b3bff8aac6484568ba2be1ecb46d5a48": {
      "model_module": "@jupyter-widgets/controls",
      "model_module_version": "1.0.0",
      "model_name": "DescriptionStyleModel",
      "state": {
       "description_width": ""
      }
     },
     "b3cce65fc8fc466e9654e81180d50789": {
      "model_module": "@jupyter-widgets/base",
      "model_module_version": "1.0.0",
      "model_name": "LayoutModel",
      "state": {}
     },
     "b4650b6a8831470fb8f3256cfc10e622": {
      "model_module": "@jupyter-widgets/base",
      "model_module_version": "1.0.0",
      "model_name": "LayoutModel",
      "state": {}
     },
     "b4e9d87503fb4709bcc2ada49585adcd": {
      "model_module": "@jupyter-widgets/controls",
      "model_module_version": "1.0.0",
      "model_name": "DescriptionStyleModel",
      "state": {
       "description_width": ""
      }
     },
     "b5bd938134374736a4c7917822853dc7": {
      "model_module": "@jupyter-widgets/base",
      "model_module_version": "1.0.0",
      "model_name": "LayoutModel",
      "state": {}
     },
     "b5c923d077f24692a410488fd604bba6": {
      "model_module": "@jupyter-widgets/controls",
      "model_module_version": "1.0.0",
      "model_name": "HBoxModel",
      "state": {
       "children": [
        "IPY_MODEL_3d476dd4fe5a4d309ebc33a3228e1984",
        "IPY_MODEL_fce124c81ac54d4db619d6dd76e78e6a"
       ],
       "layout": "IPY_MODEL_c465fd0a57b342189630177ae8e7696b"
      }
     },
     "b5ce8d98735147458c9b1bad49e8fc00": {
      "model_module": "@jupyter-widgets/base",
      "model_module_version": "1.0.0",
      "model_name": "LayoutModel",
      "state": {}
     },
     "b62f67d02adc4feaa6abedd89793afbe": {
      "model_module": "@jupyter-widgets/controls",
      "model_module_version": "1.0.0",
      "model_name": "DescriptionStyleModel",
      "state": {
       "description_width": ""
      }
     },
     "b66cbc1194f04311a4018a0c8caa09c3": {
      "model_module": "@jupyter-widgets/base",
      "model_module_version": "1.0.0",
      "model_name": "LayoutModel",
      "state": {
       "width": "80%"
      }
     },
     "b72e766891d8489782dea99baec9b8d4": {
      "model_module": "@jupyter-widgets/base",
      "model_module_version": "1.0.0",
      "model_name": "LayoutModel",
      "state": {
       "width": "80%"
      }
     },
     "b799b9fcd34d4becb0edb96deea3048a": {
      "model_module": "@jupyter-widgets/controls",
      "model_module_version": "1.0.0",
      "model_name": "ButtonStyleModel",
      "state": {}
     },
     "b7bfb8cc6fd5430a82aad0cf066be6d0": {
      "model_module": "@jupyter-widgets/base",
      "model_module_version": "1.0.0",
      "model_name": "LayoutModel",
      "state": {}
     },
     "b7dab112f0ae4cf1919e49f4a35f8fbd": {
      "model_module": "@jupyter-widgets/base",
      "model_module_version": "1.0.0",
      "model_name": "LayoutModel",
      "state": {
       "width": "80%"
      }
     },
     "b823c3e52c424a33ac95ee01ac525d6d": {
      "model_module": "@jupyter-widgets/base",
      "model_module_version": "1.0.0",
      "model_name": "LayoutModel",
      "state": {
       "width": "20%"
      }
     },
     "b8a335a2fd044ae29795138322201e00": {
      "model_module": "@jupyter-widgets/controls",
      "model_module_version": "1.0.0",
      "model_name": "ButtonStyleModel",
      "state": {}
     },
     "b957e7ac728047f48100ffb857fc966b": {
      "model_module": "@jupyter-widgets/controls",
      "model_module_version": "1.0.0",
      "model_name": "DescriptionStyleModel",
      "state": {
       "description_width": ""
      }
     },
     "b97b03781d7a40b1a523420afd38c73f": {
      "model_module": "@jupyter-widgets/controls",
      "model_module_version": "1.0.0",
      "model_name": "DescriptionStyleModel",
      "state": {
       "description_width": ""
      }
     },
     "b990b3945b8d461f8e5fda15de2878cd": {
      "model_module": "@jupyter-widgets/base",
      "model_module_version": "1.0.0",
      "model_name": "LayoutModel",
      "state": {}
     },
     "b99e9da4029b419090801961b9cf61bd": {
      "model_module": "@jupyter-widgets/base",
      "model_module_version": "1.0.0",
      "model_name": "LayoutModel",
      "state": {
       "width": "20%"
      }
     },
     "b9bdee414b69412d84a2571780f1f7b0": {
      "model_module": "@jupyter-widgets/base",
      "model_module_version": "1.0.0",
      "model_name": "LayoutModel",
      "state": {
       "height": "100px",
       "overflow_y": "auto"
      }
     },
     "b9bf199686854385a278888607e8d84c": {
      "model_module": "@jupyter-widgets/controls",
      "model_module_version": "1.0.0",
      "model_name": "TextModel",
      "state": {
       "description": "Sample ID",
       "layout": "IPY_MODEL_eb5873d689c945bebbb75ea92831f359",
       "placeholder": "Sample ID",
       "style": "IPY_MODEL_3ba474507f8e46aa97e33120097f76f3",
       "value": "-"
      }
     },
     "b9e20f433739466d836038e789e66f1a": {
      "model_module": "@jupyter-widgets/base",
      "model_module_version": "1.0.0",
      "model_name": "LayoutModel",
      "state": {
       "width": "100%"
      }
     },
     "ba09687fc2ef4ed8b5ada170c5f6883c": {
      "model_module": "@jupyter-widgets/controls",
      "model_module_version": "1.0.0",
      "model_name": "DescriptionStyleModel",
      "state": {
       "description_width": ""
      }
     },
     "ba40b1fcc938431b8c0f6cb2c92e13de": {
      "model_module": "@jupyter-widgets/base",
      "model_module_version": "1.0.0",
      "model_name": "LayoutModel",
      "state": {}
     },
     "ba70037ec3424306af4f90ed7f5a5287": {
      "model_module": "@jupyter-widgets/base",
      "model_module_version": "1.0.0",
      "model_name": "LayoutModel",
      "state": {
       "width": "80%"
      }
     },
     "bab1e351a9614a358357ae04c1a14aa6": {
      "model_module": "@jupyter-widgets/controls",
      "model_module_version": "1.0.0",
      "model_name": "TextModel",
      "state": {
       "layout": "IPY_MODEL_deddb7ce2a1e447989532d08d62045e7",
       "placeholder": "feature meta",
       "style": "IPY_MODEL_994b82b2cc834d9da39e026f937dafec",
       "value": "-"
      }
     },
     "bb0f8870b40f4c4292b537d42c36d91d": {
      "model_module": "@jupyter-widgets/base",
      "model_module_version": "1.0.0",
      "model_name": "LayoutModel",
      "state": {}
     },
     "bb16e1a9dfa448bc977134c8bc7189d8": {
      "model_module": "@jupyter-widgets/controls",
      "model_module_version": "1.0.0",
      "model_name": "HBoxModel",
      "state": {
       "children": [
        "IPY_MODEL_544c7f8ca21b4cc7afa7ac6de0d29d17",
        "IPY_MODEL_67ce2baa6faf4ef993a429ec34743e4b",
        "IPY_MODEL_c6af5102d7b843fdacdad20e92ae5a56"
       ],
       "layout": "IPY_MODEL_3bb822e442e044afaae17f995f5c8a5e"
      }
     },
     "bbb078d65f794a72b7e5112b4df5c9b1": {
      "model_module": "@jupyter-widgets/controls",
      "model_module_version": "1.0.0",
      "model_name": "DescriptionStyleModel",
      "state": {
       "description_width": ""
      }
     },
     "bbc1e315c00e49789b1c398221ebe175": {
      "model_module": "@jupyter-widgets/controls",
      "model_module_version": "1.0.0",
      "model_name": "DescriptionStyleModel",
      "state": {
       "description_width": ""
      }
     },
     "bbcf9893fa8b44ecafcfb2fa23d3ed78": {
      "model_module": "@jupyter-widgets/controls",
      "model_module_version": "1.0.0",
      "model_name": "ButtonStyleModel",
      "state": {}
     },
     "bc1a4c60a761466dbecce0203ce6ea82": {
      "model_module": "@jupyter-widgets/controls",
      "model_module_version": "1.0.0",
      "model_name": "DescriptionStyleModel",
      "state": {
       "description_width": ""
      }
     },
     "bc309ced75cb41b3809636e1ebdb6c08": {
      "model_module": "@jupyter-widgets/base",
      "model_module_version": "1.0.0",
      "model_name": "LayoutModel",
      "state": {}
     },
     "bcb1a3d1bc194669a7016a10d8c99974": {
      "model_module": "@jupyter-widgets/controls",
      "model_module_version": "1.0.0",
      "model_name": "DescriptionStyleModel",
      "state": {
       "description_width": ""
      }
     },
     "bce1f898cb464f538ae1f5f348174688": {
      "model_module": "@jupyter-widgets/controls",
      "model_module_version": "1.0.0",
      "model_name": "ButtonModel",
      "state": {
       "description": "print axes ranges",
       "layout": "IPY_MODEL_c408069e398c46e79f79c358afc2fa0e",
       "style": "IPY_MODEL_e08d987495fb413bbf7aaef3649e627c",
       "tooltip": "Print the x axis and y axis ranges. Useful to pass to `rect` parameter of heatmap() to zoom in the region automatically."
      }
     },
     "bd071abae5a94ceda7e8e67632b456b4": {
      "model_module": "@jupyter-widgets/controls",
      "model_module_version": "1.0.0",
      "model_name": "DescriptionStyleModel",
      "state": {
       "description_width": ""
      }
     },
     "bd10010d59764e0abcfc3fe07df46ee9": {
      "model_module": "@jupyter-widgets/controls",
      "model_module_version": "1.0.0",
      "model_name": "TextModel",
      "state": {
       "layout": "IPY_MODEL_ba70037ec3424306af4f90ed7f5a5287",
       "placeholder": "sample meta",
       "style": "IPY_MODEL_3499ffa30e94402ba4c68f98a5f63755",
       "value": "2"
      }
     },
     "be2f8aa9d2a24b48b08e544fe904a929": {
      "model_module": "@jupyter-widgets/controls",
      "model_module_version": "1.0.0",
      "model_name": "DropdownModel",
      "state": {
       "_options_labels": [
        "ori.order",
        "group",
        "new.order",
        "categorical",
        "_calour_original_abundance"
       ],
       "index": 0,
       "layout": "IPY_MODEL_e684e8dd927b49619c5aa7438782afcd",
       "style": "IPY_MODEL_14c54f9ce4aa4ad7b3dc0efcd5256a9a"
      }
     },
     "bf3c8254d1b044f4b60a69e8e211ad34": {
      "model_module": "@jupyter-widgets/controls",
      "model_module_version": "1.0.0",
      "model_name": "DescriptionStyleModel",
      "state": {
       "description_width": ""
      }
     },
     "bf3e56626f2f48e2b9eba29a2dbe8019": {
      "model_module": "@jupyter-widgets/base",
      "model_module_version": "1.0.0",
      "model_name": "LayoutModel",
      "state": {
       "width": "80%"
      }
     },
     "bf830b8f53b04c579b435a2f86c42dfa": {
      "model_module": "@jupyter-widgets/base",
      "model_module_version": "1.0.0",
      "model_name": "LayoutModel",
      "state": {}
     },
     "bfa70a755ef7476790c54af339eb8deb": {
      "model_module": "@jupyter-widgets/controls",
      "model_module_version": "1.0.0",
      "model_name": "DescriptionStyleModel",
      "state": {
       "description_width": ""
      }
     },
     "c014d91977b94ce19671f87a8bfbb187": {
      "model_module": "@jupyter-widgets/controls",
      "model_module_version": "1.0.0",
      "model_name": "TextModel",
      "state": {
       "description": "Feature ID",
       "layout": "IPY_MODEL_f00d265f4407431c9b6f1160207fdc81",
       "placeholder": "Feature ID",
       "style": "IPY_MODEL_dec73cdacb304c478169e640a5e20f33",
       "value": "TG"
      }
     },
     "c10309f8310f4f6b8aba5ee20d8734be": {
      "model_module": "@jupyter-widgets/base",
      "model_module_version": "1.0.0",
      "model_name": "LayoutModel",
      "state": {
       "width": "100%"
      }
     },
     "c1364fc7758b4ef59a92690a8ea53e71": {
      "model_module": "@jupyter-widgets/base",
      "model_module_version": "1.0.0",
      "model_name": "LayoutModel",
      "state": {
       "width": "20%"
      }
     },
     "c157b2a65ae247509363ed46c0fb6539": {
      "model_module": "@jupyter-widgets/controls",
      "model_module_version": "1.0.0",
      "model_name": "TextModel",
      "state": {
       "description": "Feature ID",
       "layout": "IPY_MODEL_44994213f04e4c3ba75264ca4cf6a7cd",
       "placeholder": "Feature ID",
       "style": "IPY_MODEL_035b151e0a704fefa1b6d7fa748feb94",
       "value": "-"
      }
     },
     "c18afdec8a8e45f2982224e1bedefddf": {
      "model_module": "@jupyter-widgets/controls",
      "model_module_version": "1.0.0",
      "model_name": "DescriptionStyleModel",
      "state": {
       "description_width": ""
      }
     },
     "c1e6ed53474d42cf89091266d7f31d68": {
      "model_module": "@jupyter-widgets/base",
      "model_module_version": "1.0.0",
      "model_name": "LayoutModel",
      "state": {
       "width": "20%"
      }
     },
     "c1f15a885d774711a675c6aa3226751c": {
      "model_module": "@jupyter-widgets/controls",
      "model_module_version": "1.0.0",
      "model_name": "DescriptionStyleModel",
      "state": {
       "description_width": ""
      }
     },
     "c21ab4b33f0040248f986d8b4fedc460": {
      "model_module": "@jupyter-widgets/base",
      "model_module_version": "1.0.0",
      "model_name": "LayoutModel",
      "state": {
       "width": "80%"
      }
     },
     "c2454d63815f498bb1e29d4fb7891ca2": {
      "model_module": "@jupyter-widgets/base",
      "model_module_version": "1.0.0",
      "model_name": "LayoutModel",
      "state": {}
     },
     "c2b1db5f22e14ce59f9805edc8f2db33": {
      "model_module": "@jupyter-widgets/controls",
      "model_module_version": "1.0.0",
      "model_name": "HBoxModel",
      "state": {
       "children": [
        "IPY_MODEL_3effb17aa2a4473fbe49ea9685595680",
        "IPY_MODEL_d6416e07b0d7465692f61a210655ac37",
        "IPY_MODEL_73a55c1e92444702a764b270a9fcea1c"
       ],
       "layout": "IPY_MODEL_e3e571cce4de4f12a18096b0298e9ae7"
      }
     },
     "c37ce0442b534130afb115992d268ec0": {
      "model_module": "@jupyter-widgets/base",
      "model_module_version": "1.0.0",
      "model_name": "LayoutModel",
      "state": {}
     },
     "c3adfefeddca4773acdab8698aa6a6ac": {
      "model_module": "@jupyter-widgets/base",
      "model_module_version": "1.0.0",
      "model_name": "LayoutModel",
      "state": {}
     },
     "c3d8d47f143a475cb38cdea8b41c19bc": {
      "model_module": "@jupyter-widgets/controls",
      "model_module_version": "1.0.0",
      "model_name": "DescriptionStyleModel",
      "state": {
       "description_width": ""
      }
     },
     "c3dca8624be44fa980083b76739f44f4": {
      "model_module": "@jupyter-widgets/base",
      "model_module_version": "1.0.0",
      "model_name": "LayoutModel",
      "state": {}
     },
     "c3f9096ce69e43749fbff18320a94a2c": {
      "model_module": "@jupyter-widgets/controls",
      "model_module_version": "1.0.0",
      "model_name": "DescriptionStyleModel",
      "state": {
       "description_width": ""
      }
     },
     "c408069e398c46e79f79c358afc2fa0e": {
      "model_module": "@jupyter-widgets/base",
      "model_module_version": "1.0.0",
      "model_name": "LayoutModel",
      "state": {}
     },
     "c465fd0a57b342189630177ae8e7696b": {
      "model_module": "@jupyter-widgets/base",
      "model_module_version": "1.0.0",
      "model_name": "LayoutModel",
      "state": {}
     },
     "c56e1c5f5bfe4100a19d8093a03bbca9": {
      "model_module": "@jupyter-widgets/controls",
      "model_module_version": "1.0.0",
      "model_name": "DescriptionStyleModel",
      "state": {
       "description_width": ""
      }
     },
     "c58749cff455446892e749eb3f0a661f": {
      "model_module": "@jupyter-widgets/controls",
      "model_module_version": "1.0.0",
      "model_name": "DropdownModel",
      "state": {
       "_options_labels": [
        "oxygen",
        "ph",
        "level1",
        "level2",
        "new.order",
        "ori.order",
        "taxonomy"
       ],
       "index": 0,
       "layout": "IPY_MODEL_8ec749af4c8c4e809b2e067ae8f64a5e",
       "style": "IPY_MODEL_8374453c2ad747b79afe66e55c3eea32"
      }
     },
     "c5b002ccbf0849c0a8cffdfe7674dd37": {
      "model_module": "@jupyter-widgets/controls",
      "model_module_version": "1.0.0",
      "model_name": "HBoxModel",
      "state": {
       "children": [
        "IPY_MODEL_3a272e5250e94bda8d8d50c0e56ed531",
        "IPY_MODEL_6f064e0bd51b4c33a3c560609634a9f8"
       ],
       "layout": "IPY_MODEL_6a94fb38b86145b089f8f533170451e3"
      }
     },
     "c5f6370e551f4097860a8ab70ec1a036": {
      "model_module": "@jupyter-widgets/base",
      "model_module_version": "1.0.0",
      "model_name": "LayoutModel",
      "state": {
       "width": "80%"
      }
     },
     "c6072b75aa8a4dcbbd88605eeff21360": {
      "model_module": "@jupyter-widgets/controls",
      "model_module_version": "1.0.0",
      "model_name": "TextModel",
      "state": {
       "layout": "IPY_MODEL_c21ab4b33f0040248f986d8b4fedc460",
       "placeholder": "feature meta",
       "style": "IPY_MODEL_c89852fe7c9b47bdb86bf9393455f709",
       "value": "anaerobic"
      }
     },
     "c615cf7e572a4983b6be6014e6be44a5": {
      "model_module": "@jupyter-widgets/controls",
      "model_module_version": "1.0.0",
      "model_name": "HBoxModel",
      "state": {
       "children": [
        "IPY_MODEL_1b93ba673e8a447ba9a94ca63684b4df",
        "IPY_MODEL_f5a856e3904c429aa8a230729cf00bf3"
       ],
       "layout": "IPY_MODEL_b990b3945b8d461f8e5fda15de2878cd"
      }
     },
     "c615fff1cada4a4aace63216a3b1268b": {
      "model_module": "@jupyter-widgets/controls",
      "model_module_version": "1.0.0",
      "model_name": "HBoxModel",
      "state": {
       "children": [
        "IPY_MODEL_01d4b71b2d8e4a37acfcbe7ee7d0fbbc",
        "IPY_MODEL_76e87c5ac05944d5bc71d33b144d21fe"
       ],
       "layout": "IPY_MODEL_aad6602769a74e419b6b9b499533d582"
      }
     },
     "c635c39acb6f4b90a5213287645b86c0": {
      "model_module": "@jupyter-widgets/base",
      "model_module_version": "1.0.0",
      "model_name": "LayoutModel",
      "state": {}
     },
     "c6af5102d7b843fdacdad20e92ae5a56": {
      "model_module": "@jupyter-widgets/controls",
      "model_module_version": "1.0.0",
      "model_name": "FloatTextModel",
      "state": {
       "description": "Abundance",
       "layout": "IPY_MODEL_49b9fba17ead47689325a581f61a2185",
       "step": null,
       "style": "IPY_MODEL_c7aa4ee6ea684a98a938eaf61fcc2d83"
      }
     },
     "c6d76c64fcc242c2ab6eaf01b0f9523f": {
      "model_module": "@jupyter-widgets/controls",
      "model_module_version": "1.0.0",
      "model_name": "DropdownModel",
      "state": {
       "_options_labels": [
        "ori.order",
        "group",
        "new.order",
        "categorical",
        "_calour_original_abundance"
       ],
       "index": 0,
       "layout": "IPY_MODEL_a311150e5f0f4e648eb8602800718030",
       "style": "IPY_MODEL_de886f79a7e8421ebc9e9d663529c001"
      }
     },
     "c72e3a70fded4606abe6fb8e2750b710": {
      "model_module": "@jupyter-widgets/controls",
      "model_module_version": "1.0.0",
      "model_name": "DescriptionStyleModel",
      "state": {
       "description_width": ""
      }
     },
     "c731b56898dc4e27ab0253d2af3629dc": {
      "model_module": "@jupyter-widgets/controls",
      "model_module_version": "1.0.0",
      "model_name": "DescriptionStyleModel",
      "state": {
       "description_width": ""
      }
     },
     "c7525fd25fd940b2847868f80d19502d": {
      "model_module": "@jupyter-widgets/controls",
      "model_module_version": "1.0.0",
      "model_name": "DescriptionStyleModel",
      "state": {
       "description_width": ""
      }
     },
     "c7aa4ee6ea684a98a938eaf61fcc2d83": {
      "model_module": "@jupyter-widgets/controls",
      "model_module_version": "1.0.0",
      "model_name": "DescriptionStyleModel",
      "state": {
       "description_width": ""
      }
     },
     "c7c9939b9e854eee9264fc85e1bc276a": {
      "model_module": "@jupyter-widgets/controls",
      "model_module_version": "1.0.0",
      "model_name": "ButtonModel",
      "state": {
       "description": "Annotate",
       "layout": "IPY_MODEL_005dab0790f147f496ce3f1440a54c24",
       "style": "IPY_MODEL_a05ae91718b24496b01645ab6a7855f3"
      }
     },
     "c81aaf95ebd94deb936e19ba5d3622f2": {
      "model_module": "@jupyter-widgets/controls",
      "model_module_version": "1.0.0",
      "model_name": "ButtonModel",
      "state": {
       "description": "Save",
       "layout": "IPY_MODEL_a2906b1c4804455d87289cc1a55c2646",
       "style": "IPY_MODEL_55d97b3c8abd4b95ade56822b9fcc20d",
       "tooltip": "Save the selection(s)"
      }
     },
     "c8441c1d7b254b46b02e16a3990b2bf8": {
      "model_module": "@jupyter-widgets/controls",
      "model_module_version": "1.0.0",
      "model_name": "TextModel",
      "state": {
       "description": "Feature ID",
       "layout": "IPY_MODEL_90938660446045f789e980da5024085c",
       "placeholder": "Feature ID",
       "style": "IPY_MODEL_931584c76d5348c3a7627adefa8f6b1c",
       "value": "-"
      }
     },
     "c890a289a81c461daad0bc9e84f38f8e": {
      "model_module": "@jupyter-widgets/controls",
      "model_module_version": "1.0.0",
      "model_name": "ButtonModel",
      "state": {
       "description": "Save",
       "layout": "IPY_MODEL_cd94a4ceb5824d0f9d864f03d90dd090",
       "style": "IPY_MODEL_bbcf9893fa8b44ecafcfb2fa23d3ed78",
       "tooltip": "Save the selection(s)"
      }
     },
     "c890b29770df44c78f990c5fe9592d67": {
      "model_module": "@jupyter-widgets/controls",
      "model_module_version": "1.0.0",
      "model_name": "DropdownModel",
      "state": {
       "_options_labels": [
        "oxygen",
        "ph",
        "level1",
        "level2",
        "new.order",
        "ori.order",
        "taxonomy"
       ],
       "index": 0,
       "layout": "IPY_MODEL_afa3ee4bf4774e12916fba17cccb8198",
       "style": "IPY_MODEL_69277c7e72204237ad8a465672f0f0e0"
      }
     },
     "c89852fe7c9b47bdb86bf9393455f709": {
      "model_module": "@jupyter-widgets/controls",
      "model_module_version": "1.0.0",
      "model_name": "DescriptionStyleModel",
      "state": {
       "description_width": ""
      }
     },
     "c8bc8ee6e8b347a2899afc429d68cf90": {
      "model_module": "@jupyter-widgets/controls",
      "model_module_version": "1.0.0",
      "model_name": "DescriptionStyleModel",
      "state": {
       "description_width": ""
      }
     },
     "c8ead31e561e4cbc823dac3c7a1f5076": {
      "model_module": "@jupyter-widgets/base",
      "model_module_version": "1.0.0",
      "model_name": "LayoutModel",
      "state": {}
     },
     "c91c380a4bf44a68a414e5f0461d18fd": {
      "model_module": "@jupyter-widgets/base",
      "model_module_version": "1.0.0",
      "model_name": "LayoutModel",
      "state": {
       "width": "80%"
      }
     },
     "c92a4328c2b1497eae41115cfda206cb": {
      "model_module": "@jupyter-widgets/base",
      "model_module_version": "1.0.0",
      "model_name": "LayoutModel",
      "state": {
       "height": "100px",
       "overflow_y": "auto"
      }
     },
     "c9356130646942dda88a7fae4e8ebd90": {
      "model_module": "@jupyter-widgets/controls",
      "model_module_version": "1.0.0",
      "model_name": "DescriptionStyleModel",
      "state": {
       "description_width": ""
      }
     },
     "cafdedaee85e4f5f83b8d9bef6a862c3": {
      "model_module": "@jupyter-widgets/base",
      "model_module_version": "1.0.0",
      "model_name": "LayoutModel",
      "state": {}
     },
     "cbf88707cd60458bb4ba01415d517065": {
      "model_module": "@jupyter-widgets/base",
      "model_module_version": "1.0.0",
      "model_name": "LayoutModel",
      "state": {
       "width": "80%"
      }
     },
     "ccbd4eb091ff48dc8b4b5fde7d511a2a": {
      "model_module": "@jupyter-widgets/controls",
      "model_module_version": "1.0.0",
      "model_name": "TextModel",
      "state": {
       "description": "Feature ID",
       "layout": "IPY_MODEL_0fe4437f03514de2a3929adfcab239a3",
       "placeholder": "Feature ID",
       "style": "IPY_MODEL_2ef739485b2b43fcb5cf79c53e6346dd",
       "value": "-"
      }
     },
     "cd1b247c31e448c4b962d6684da16ba1": {
      "model_module": "@jupyter-widgets/controls",
      "model_module_version": "1.0.0",
      "model_name": "HBoxModel",
      "state": {
       "children": [
        "IPY_MODEL_54b21fb5ca70416a923184fab19163f8",
        "IPY_MODEL_c890a289a81c461daad0bc9e84f38f8e",
        "IPY_MODEL_c7c9939b9e854eee9264fc85e1bc276a"
       ],
       "layout": "IPY_MODEL_831b60f52be34ce8ac2b231fd734c5ad"
      }
     },
     "cd591a975e034460be5bc9cd73df96d2": {
      "model_module": "@jupyter-widgets/base",
      "model_module_version": "1.0.0",
      "model_name": "LayoutModel",
      "state": {}
     },
     "cd5fad4fcf6b4df2957a9e064c607938": {
      "model_module": "@jupyter-widgets/controls",
      "model_module_version": "1.0.0",
      "model_name": "ButtonStyleModel",
      "state": {}
     },
     "cd94a4ceb5824d0f9d864f03d90dd090": {
      "model_module": "@jupyter-widgets/base",
      "model_module_version": "1.0.0",
      "model_name": "LayoutModel",
      "state": {}
     },
     "ce046812970f4a9aa67508191c6b863f": {
      "model_module": "@jupyter-widgets/controls",
      "model_module_version": "1.0.0",
      "model_name": "ButtonStyleModel",
      "state": {}
     },
     "ce9f0f88d2c64697aa1aa8d5e49e6627": {
      "model_module": "@jupyter-widgets/controls",
      "model_module_version": "1.0.0",
      "model_name": "HTMLModel",
      "state": {
       "layout": "IPY_MODEL_e28c5cc30d5c4923bf62c164dd23084c",
       "style": "IPY_MODEL_611a1e8802c349f3b59b0253d39bcf7d",
       "value": "<style> a:link {color:black; background-color:transparent; text-decoration:none}a:visited {color:black; background-color:transparent; text-decoration:none}</style><p style=\"color:black;white-space:nowrap;\"><a href=\"http://dbbact.org/annotation_info/NA\"   target=\"_blank\">No annotation found in database dbBact</a></p>"
      }
     },
     "ceed02f0cb2d4fd981e1710d1c19a415": {
      "model_module": "@jupyter-widgets/base",
      "model_module_version": "1.0.0",
      "model_name": "LayoutModel",
      "state": {}
     },
     "cefb9977328047de986c3d7416c1a229": {
      "model_module": "@jupyter-widgets/controls",
      "model_module_version": "1.0.0",
      "model_name": "TextModel",
      "state": {
       "description": "Sample ID",
       "layout": "IPY_MODEL_b9e20f433739466d836038e789e66f1a",
       "placeholder": "Sample ID",
       "style": "IPY_MODEL_d6bb2dfaf1224d2fb7c310ac1ec3913d",
       "value": "-"
      }
     },
     "cf6228db2ae140679ec14ac74a5d0247": {
      "model_module": "@jupyter-widgets/controls",
      "model_module_version": "1.0.0",
      "model_name": "ButtonStyleModel",
      "state": {}
     },
     "cffcaf88bd3b432bac472831ed6b33d3": {
      "model_module": "@jupyter-widgets/base",
      "model_module_version": "1.0.0",
      "model_name": "LayoutModel",
      "state": {
       "width": "80%"
      }
     },
     "d06c95e2393345f8932af7b40616a3e6": {
      "model_module": "@jupyter-widgets/controls",
      "model_module_version": "1.0.0",
      "model_name": "HTMLModel",
      "state": {
       "layout": "IPY_MODEL_463ccf9e5f9e48569343575f205adec3",
       "style": "IPY_MODEL_932cc02db0f04f68aa6f3035a74859e5",
       "value": "no annotation found"
      }
     },
     "d0995ed1839d48dc85eda76152354b9d": {
      "model_module": "@jupyter-widgets/controls",
      "model_module_version": "1.0.0",
      "model_name": "ButtonStyleModel",
      "state": {}
     },
     "d143f8f3eb7f4f1487dc336bc041b1a1": {
      "model_module": "@jupyter-widgets/controls",
      "model_module_version": "1.0.0",
      "model_name": "HBoxModel",
      "state": {
       "children": [
        "IPY_MODEL_a3acabb2369f49b5aa77b77acd4192f4",
        "IPY_MODEL_5c99b41ed6524fbab6a995822dfd431e",
        "IPY_MODEL_e261c0f9a68142a788a4382aafaf37fb"
       ],
       "layout": "IPY_MODEL_e35032dd26d44e02bbc34990f91259c2"
      }
     },
     "d244556ba0d24517aad4dcfc5d45ab65": {
      "model_module": "@jupyter-widgets/base",
      "model_module_version": "1.0.0",
      "model_name": "LayoutModel",
      "state": {
       "width": "20%"
      }
     },
     "d2b2a7ab3d9e4bb1b8f9258ecfbdd050": {
      "model_module": "@jupyter-widgets/controls",
      "model_module_version": "1.0.0",
      "model_name": "ButtonModel",
      "state": {
       "description": "Annotate",
       "layout": "IPY_MODEL_9cec1e91b91e418dbf8596e2c7e9c839",
       "style": "IPY_MODEL_0e032ba7dca64c848bf64209f9e32b63"
      }
     },
     "d2d5b4728df142e89336ceb31db7951c": {
      "model_module": "@jupyter-widgets/base",
      "model_module_version": "1.0.0",
      "model_name": "LayoutModel",
      "state": {}
     },
     "d313571b489e47faaaab501e167abe62": {
      "model_module": "@jupyter-widgets/controls",
      "model_module_version": "1.0.0",
      "model_name": "DescriptionStyleModel",
      "state": {
       "description_width": ""
      }
     },
     "d399ca2f1bf7431b8d5102550d3dae3d": {
      "model_module": "@jupyter-widgets/base",
      "model_module_version": "1.0.0",
      "model_name": "LayoutModel",
      "state": {}
     },
     "d39b3bda87b444f9bec70cb9e717ee58": {
      "model_module": "@jupyter-widgets/controls",
      "model_module_version": "1.0.0",
      "model_name": "DescriptionStyleModel",
      "state": {
       "description_width": ""
      }
     },
     "d3d981a1c06f4eee976f65d1dae9e210": {
      "model_module": "@jupyter-widgets/controls",
      "model_module_version": "1.0.0",
      "model_name": "DescriptionStyleModel",
      "state": {
       "description_width": ""
      }
     },
     "d3e2cdb0e15141869579e7e86277678c": {
      "model_module": "@jupyter-widgets/controls",
      "model_module_version": "1.0.0",
      "model_name": "DropdownModel",
      "state": {
       "_options_labels": [
        "ori.order",
        "group",
        "new.order",
        "categorical",
        "_calour_original_abundance"
       ],
       "index": 0,
       "layout": "IPY_MODEL_29e808bc686b4452995d7e9049b7205f",
       "style": "IPY_MODEL_710e9a880e50423e8a2f662cfdbd655b"
      }
     },
     "d3e470dc3e9242f3926abe4394425f39": {
      "model_module": "@jupyter-widgets/controls",
      "model_module_version": "1.0.0",
      "model_name": "DescriptionStyleModel",
      "state": {
       "description_width": ""
      }
     },
     "d40b804cdd9541688c3ab4f9459bc634": {
      "model_module": "@jupyter-widgets/controls",
      "model_module_version": "1.0.0",
      "model_name": "HBoxModel",
      "state": {
       "children": [
        "IPY_MODEL_d3e2cdb0e15141869579e7e86277678c",
        "IPY_MODEL_a00aed31ff3140e98deefa3bd6a0e180"
       ],
       "layout": "IPY_MODEL_df6a0243f4824cdf8dc8a40264604c0d"
      }
     },
     "d59215ebf4b145409800dd999aeb9210": {
      "model_module": "@jupyter-widgets/base",
      "model_module_version": "1.0.0",
      "model_name": "LayoutModel",
      "state": {
       "width": "100%"
      }
     },
     "d6416e07b0d7465692f61a210655ac37": {
      "model_module": "@jupyter-widgets/controls",
      "model_module_version": "1.0.0",
      "model_name": "TextModel",
      "state": {
       "description": "Feature ID",
       "layout": "IPY_MODEL_80c5bc5bac9f4b009ff6369d9b52c34d",
       "placeholder": "Feature ID",
       "style": "IPY_MODEL_1b96d65ac89749b09de255e7b81a7540",
       "value": "-"
      }
     },
     "d6bb2dfaf1224d2fb7c310ac1ec3913d": {
      "model_module": "@jupyter-widgets/controls",
      "model_module_version": "1.0.0",
      "model_name": "DescriptionStyleModel",
      "state": {
       "description_width": ""
      }
     },
     "d7064ad2257e4ce0a66f4d4e77d87f4c": {
      "model_module": "@jupyter-widgets/controls",
      "model_module_version": "1.0.0",
      "model_name": "ButtonModel",
      "state": {
       "description": "Annotate",
       "layout": "IPY_MODEL_e1a11ecac6344e98b920adcfc16c9f15",
       "style": "IPY_MODEL_7e8004da805b4f3bb7b11f0929d70423"
      }
     },
     "d7597257851f4b00bbbe9e092bfff7cd": {
      "model_module": "@jupyter-widgets/controls",
      "model_module_version": "1.0.0",
      "model_name": "DescriptionStyleModel",
      "state": {
       "description_width": ""
      }
     },
     "d7a75aa13bdd4fc59f69ad6a2fb88f4c": {
      "model_module": "@jupyter-widgets/base",
      "model_module_version": "1.0.0",
      "model_name": "LayoutModel",
      "state": {
       "width": "20%"
      }
     },
     "d7bfd2ec143b431fb851d4a3b244c499": {
      "model_module": "@jupyter-widgets/controls",
      "model_module_version": "1.0.0",
      "model_name": "LabelModel",
      "state": {
       "layout": "IPY_MODEL_0a933edb5afd437488d1a42c77fc4c62",
       "style": "IPY_MODEL_df0101fc479f41be965d883a51df5aac",
       "value": "0 features are selected"
      }
     },
     "d7fd20b06fce4f118c17aa3b98bce218": {
      "model_module": "@jupyter-widgets/controls",
      "model_module_version": "1.0.0",
      "model_name": "DescriptionStyleModel",
      "state": {
       "description_width": ""
      }
     },
     "d888a561bc434626b3ab86b6c53ddf75": {
      "model_module": "@jupyter-widgets/controls",
      "model_module_version": "1.0.0",
      "model_name": "LabelModel",
      "state": {
       "layout": "IPY_MODEL_f2bc07b742c4414297347865fb806c5b",
       "style": "IPY_MODEL_87cfb34bd339422a9b6cbe42f5d4c59f",
       "value": "1 features are selected"
      }
     },
     "d8c24935b2bc44d986fee186e60eadb8": {
      "model_module": "@jupyter-widgets/controls",
      "model_module_version": "1.0.0",
      "model_name": "FloatTextModel",
      "state": {
       "description": "Abundance",
       "layout": "IPY_MODEL_565b1c6b9e874be098cfd20b625f76fe",
       "step": null,
       "style": "IPY_MODEL_433210ce464844fcb3b51d74ec0d7eec"
      }
     },
     "d931cba4c3cd4b1e94f390b316e9ea4b": {
      "model_module": "@jupyter-widgets/controls",
      "model_module_version": "1.0.0",
      "model_name": "ButtonStyleModel",
      "state": {}
     },
     "d954400a3f614d1ba761ff49e7b98d21": {
      "model_module": "@jupyter-widgets/controls",
      "model_module_version": "1.0.0",
      "model_name": "DescriptionStyleModel",
      "state": {
       "description_width": ""
      }
     },
     "d95d674e1357464bbd808e447980a5cb": {
      "model_module": "@jupyter-widgets/base",
      "model_module_version": "1.0.0",
      "model_name": "LayoutModel",
      "state": {
       "width": "80%"
      }
     },
     "da869a499d2645e4b2748cd1983f39f4": {
      "model_module": "@jupyter-widgets/controls",
      "model_module_version": "1.0.0",
      "model_name": "TextModel",
      "state": {
       "description": "Feature ID",
       "layout": "IPY_MODEL_773cb8dede5f4d728628430598683cc5",
       "placeholder": "Feature ID",
       "style": "IPY_MODEL_c7525fd25fd940b2847868f80d19502d",
       "value": "-"
      }
     },
     "da8d13a9f853462cb0af42514b19e892": {
      "model_module": "@jupyter-widgets/base",
      "model_module_version": "1.0.0",
      "model_name": "LayoutModel",
      "state": {}
     },
     "dabc18c0d25e4cee869b075bd6b23195": {
      "model_module": "@jupyter-widgets/base",
      "model_module_version": "1.0.0",
      "model_name": "LayoutModel",
      "state": {
       "width": "20%"
      }
     },
     "dacee143039a45d7a1e313fee5955c53": {
      "model_module": "@jupyter-widgets/controls",
      "model_module_version": "1.0.0",
      "model_name": "LabelModel",
      "state": {
       "layout": "IPY_MODEL_65ac9237364c47539f0048f1655628cc",
       "style": "IPY_MODEL_f2560641d0d84949aff86c64dddcc7c8",
       "value": "1 features are selected"
      }
     },
     "dae5122e005440f296cc33e428da986c": {
      "model_module": "@jupyter-widgets/controls",
      "model_module_version": "1.0.0",
      "model_name": "DropdownModel",
      "state": {
       "_options_labels": [
        "ori.order",
        "group",
        "new.order",
        "categorical",
        "_calour_original_abundance"
       ],
       "index": 0,
       "layout": "IPY_MODEL_71985afa968b47fd99d609d701371cf9",
       "style": "IPY_MODEL_3c7ffdcf60624398aa86e346c6a81ecc"
      }
     },
     "dafcf9781ae14313a9712f3f3ac763a3": {
      "model_module": "@jupyter-widgets/controls",
      "model_module_version": "1.0.0",
      "model_name": "DescriptionStyleModel",
      "state": {
       "description_width": ""
      }
     },
     "db14f6d579c146e0a292895ba3a6cdd2": {
      "model_module": "@jupyter-widgets/base",
      "model_module_version": "1.0.0",
      "model_name": "LayoutModel",
      "state": {}
     },
     "db45bc7126fb406a83877a122908247f": {
      "model_module": "@jupyter-widgets/controls",
      "model_module_version": "1.0.0",
      "model_name": "DescriptionStyleModel",
      "state": {
       "description_width": ""
      }
     },
     "db731c3e066c482494d00b39b4c4662a": {
      "model_module": "@jupyter-widgets/controls",
      "model_module_version": "1.0.0",
      "model_name": "ButtonModel",
      "state": {
       "description": "print axes ranges",
       "layout": "IPY_MODEL_8abd7680e3184166bc837bb4f27fbbc3",
       "style": "IPY_MODEL_86546455beb6418e9f445eb6bc82dc03",
       "tooltip": "Print the x axis and y axis ranges. Useful to pass to `rect` parameter of heatmap() to zoom in the region automatically."
      }
     },
     "dc519691bec749738e7974bd2d9303b7": {
      "model_module": "@jupyter-widgets/controls",
      "model_module_version": "1.0.0",
      "model_name": "ButtonStyleModel",
      "state": {}
     },
     "dc6e298893a744e59909ba0b189be545": {
      "model_module": "@jupyter-widgets/base",
      "model_module_version": "1.0.0",
      "model_name": "LayoutModel",
      "state": {
       "width": "80%"
      }
     },
     "dc8840a850dc4b9a917c76c09a539f1c": {
      "model_module": "@jupyter-widgets/base",
      "model_module_version": "1.0.0",
      "model_name": "LayoutModel",
      "state": {}
     },
     "dcae6184a699431bbfc62a92802f0b23": {
      "model_module": "@jupyter-widgets/controls",
      "model_module_version": "1.0.0",
      "model_name": "HBoxModel",
      "state": {
       "children": [
        "IPY_MODEL_09b52d63346c491ebffacd8fe01b212d",
        "IPY_MODEL_c6072b75aa8a4dcbbd88605eeff21360"
       ],
       "layout": "IPY_MODEL_0dc53c760b5e40fdb51a80127ded9810"
      }
     },
     "dd5bca93f27449e3bc2259213e4afd44": {
      "model_module": "@jupyter-widgets/controls",
      "model_module_version": "1.0.0",
      "model_name": "HBoxModel",
      "state": {
       "children": [
        "IPY_MODEL_7e5b78e4cf224243938df1115c7c123e",
        "IPY_MODEL_51108bd934ee4c67a0d92fe4929de68e",
        "IPY_MODEL_735353246d5b449aa382f166533e5323"
       ],
       "layout": "IPY_MODEL_a17decffdb3c42ef9458fe2a83b3720b"
      }
     },
     "de0d8b69b9db475ba5f7778b1702db02": {
      "model_module": "@jupyter-widgets/base",
      "model_module_version": "1.0.0",
      "model_name": "LayoutModel",
      "state": {
       "width": "80%"
      }
     },
     "de5a5365889047b2bbb3b419e902f70d": {
      "model_module": "@jupyter-widgets/controls",
      "model_module_version": "1.0.0",
      "model_name": "DescriptionStyleModel",
      "state": {
       "description_width": ""
      }
     },
     "de886f79a7e8421ebc9e9d663529c001": {
      "model_module": "@jupyter-widgets/controls",
      "model_module_version": "1.0.0",
      "model_name": "DescriptionStyleModel",
      "state": {
       "description_width": ""
      }
     },
     "dec73cdacb304c478169e640a5e20f33": {
      "model_module": "@jupyter-widgets/controls",
      "model_module_version": "1.0.0",
      "model_name": "DescriptionStyleModel",
      "state": {
       "description_width": ""
      }
     },
     "ded221a894904090a0d64b0ccae8a4e9": {
      "model_module": "@jupyter-widgets/base",
      "model_module_version": "1.0.0",
      "model_name": "LayoutModel",
      "state": {
       "width": "80%"
      }
     },
     "deddb7ce2a1e447989532d08d62045e7": {
      "model_module": "@jupyter-widgets/base",
      "model_module_version": "1.0.0",
      "model_name": "LayoutModel",
      "state": {
       "width": "80%"
      }
     },
     "df0101fc479f41be965d883a51df5aac": {
      "model_module": "@jupyter-widgets/controls",
      "model_module_version": "1.0.0",
      "model_name": "DescriptionStyleModel",
      "state": {
       "description_width": ""
      }
     },
     "df6533249cdc4fa1b0ed510bea9997c6": {
      "model_module": "@jupyter-widgets/controls",
      "model_module_version": "1.0.0",
      "model_name": "HBoxModel",
      "state": {
       "children": [
        "IPY_MODEL_03bff66ed3ff4e259d4d6767ca143e1e",
        "IPY_MODEL_0918fcd942134604b0feb6a4db01ee24",
        "IPY_MODEL_2b4b30636de24a7d87ec9b53a9931001"
       ],
       "layout": "IPY_MODEL_17a595be441a4df3a173bcf7e6d937c2"
      }
     },
     "df6a0243f4824cdf8dc8a40264604c0d": {
      "model_module": "@jupyter-widgets/base",
      "model_module_version": "1.0.0",
      "model_name": "LayoutModel",
      "state": {}
     },
     "df72cbb23b084ef39181a26ef8eee232": {
      "model_module": "@jupyter-widgets/controls",
      "model_module_version": "1.0.0",
      "model_name": "TextModel",
      "state": {
       "description": "Feature ID",
       "layout": "IPY_MODEL_0eb099a48d0a46ed9d2c5c9068ee3cbf",
       "placeholder": "Feature ID",
       "style": "IPY_MODEL_db45bc7126fb406a83877a122908247f",
       "value": "-"
      }
     },
     "dfbc4242017a4239b2993de119455213": {
      "model_module": "@jupyter-widgets/controls",
      "model_module_version": "1.0.0",
      "model_name": "DescriptionStyleModel",
      "state": {
       "description_width": ""
      }
     },
     "e00ff9eaff7c4b6c8dba4543d9743065": {
      "model_module": "@jupyter-widgets/base",
      "model_module_version": "1.0.0",
      "model_name": "LayoutModel",
      "state": {}
     },
     "e01d8976dd3e4188a5515717959c760a": {
      "model_module": "@jupyter-widgets/controls",
      "model_module_version": "1.0.0",
      "model_name": "ButtonModel",
      "state": {
       "description": "print axes ranges",
       "layout": "IPY_MODEL_bb0f8870b40f4c4292b537d42c36d91d",
       "style": "IPY_MODEL_e77d0442d7ef4b05bec08039e3ce28dd",
       "tooltip": "Print the x axis and y axis ranges. Useful to pass to `rect` parameter of heatmap() to zoom in the region automatically."
      }
     },
     "e025ed167a4e45f8b19de4325b880c74": {
      "model_module": "@jupyter-widgets/controls",
      "model_module_version": "1.0.0",
      "model_name": "DescriptionStyleModel",
      "state": {
       "description_width": ""
      }
     },
     "e08d987495fb413bbf7aaef3649e627c": {
      "model_module": "@jupyter-widgets/controls",
      "model_module_version": "1.0.0",
      "model_name": "ButtonStyleModel",
      "state": {}
     },
     "e188e29063d245d5b865ccd346ff8efa": {
      "model_module": "@jupyter-widgets/controls",
      "model_module_version": "1.0.0",
      "model_name": "TextModel",
      "state": {
       "layout": "IPY_MODEL_e21b6b56b6a24315b85bd92d66f3ec6c",
       "placeholder": "sample meta",
       "style": "IPY_MODEL_2e2fc3b9154e4cc086926a7671fbe671",
       "value": "-"
      }
     },
     "e19f08f6a7a94079a4c97293226ed764": {
      "model_module": "@jupyter-widgets/controls",
      "model_module_version": "1.0.0",
      "model_name": "FloatTextModel",
      "state": {
       "description": "Abundance",
       "layout": "IPY_MODEL_5d7e0419d4ec4655b22c5d7169b62c7f",
       "step": null,
       "style": "IPY_MODEL_b4e9d87503fb4709bcc2ada49585adcd"
      }
     },
     "e1a11ecac6344e98b920adcfc16c9f15": {
      "model_module": "@jupyter-widgets/base",
      "model_module_version": "1.0.0",
      "model_name": "LayoutModel",
      "state": {}
     },
     "e1a702ca577f46578932187d06c7ed6b": {
      "model_module": "@jupyter-widgets/controls",
      "model_module_version": "1.0.0",
      "model_name": "DescriptionStyleModel",
      "state": {
       "description_width": ""
      }
     },
     "e21b6b56b6a24315b85bd92d66f3ec6c": {
      "model_module": "@jupyter-widgets/base",
      "model_module_version": "1.0.0",
      "model_name": "LayoutModel",
      "state": {
       "width": "80%"
      }
     },
     "e240ab8593bd4e1e87e617545d0e25b0": {
      "model_module": "@jupyter-widgets/controls",
      "model_module_version": "1.0.0",
      "model_name": "DescriptionStyleModel",
      "state": {
       "description_width": ""
      }
     },
     "e2553d094641498c974282a69cb0ddd1": {
      "model_module": "@jupyter-widgets/base",
      "model_module_version": "1.0.0",
      "model_name": "LayoutModel",
      "state": {
       "width": "80%"
      }
     },
     "e261c0f9a68142a788a4382aafaf37fb": {
      "model_module": "@jupyter-widgets/controls",
      "model_module_version": "1.0.0",
      "model_name": "ButtonModel",
      "state": {
       "description": "Annotate",
       "layout": "IPY_MODEL_66bb3766c4444d948885c4e0d150b6b8",
       "style": "IPY_MODEL_858ef5db577945bda0df0e4f119a8cff"
      }
     },
     "e28c5cc30d5c4923bf62c164dd23084c": {
      "model_module": "@jupyter-widgets/base",
      "model_module_version": "1.0.0",
      "model_name": "LayoutModel",
      "state": {
       "height": "100px",
       "overflow_y": "auto"
      }
     },
     "e2f6215f3c8a4b4e9fa58466faaa0b56": {
      "model_module": "@jupyter-widgets/base",
      "model_module_version": "1.0.0",
      "model_name": "LayoutModel",
      "state": {
       "height": "100px",
       "overflow_y": "auto"
      }
     },
     "e313380e1f6b41359c77a6705ccd1576": {
      "model_module": "@jupyter-widgets/controls",
      "model_module_version": "1.0.0",
      "model_name": "DescriptionStyleModel",
      "state": {
       "description_width": ""
      }
     },
     "e33f725ed57145cfa921fe0f15d67d49": {
      "model_module": "@jupyter-widgets/base",
      "model_module_version": "1.0.0",
      "model_name": "LayoutModel",
      "state": {
       "width": "80%"
      }
     },
     "e34ed2b52c4c412ca1645cb60e5d0ee3": {
      "model_module": "@jupyter-widgets/controls",
      "model_module_version": "1.0.0",
      "model_name": "TextModel",
      "state": {
       "description": "Feature ID",
       "layout": "IPY_MODEL_0b6fe2c41fc84f98b3a16f002cfbb28b",
       "placeholder": "Feature ID",
       "style": "IPY_MODEL_3c99b2cb53f348098705e2b6ec245d63",
       "value": "TC"
      }
     },
     "e35032dd26d44e02bbc34990f91259c2": {
      "model_module": "@jupyter-widgets/base",
      "model_module_version": "1.0.0",
      "model_name": "LayoutModel",
      "state": {}
     },
     "e3e571cce4de4f12a18096b0298e9ae7": {
      "model_module": "@jupyter-widgets/base",
      "model_module_version": "1.0.0",
      "model_name": "LayoutModel",
      "state": {}
     },
     "e3f77d3d2f264656abcc6a1b209fbf5b": {
      "model_module": "@jupyter-widgets/controls",
      "model_module_version": "1.0.0",
      "model_name": "HBoxModel",
      "state": {
       "children": [
        "IPY_MODEL_36fb6a81180c48d68e3c1213de0693c1",
        "IPY_MODEL_fee7f0bee991456d91b81654bfa40d47",
        "IPY_MODEL_8e98071a10f64bbe973f661397fb9905"
       ],
       "layout": "IPY_MODEL_041ae82cfe7043b681e697b0de4a6cb7"
      }
     },
     "e40cc68957154694a03642a59ea71bbb": {
      "model_module": "@jupyter-widgets/base",
      "model_module_version": "1.0.0",
      "model_name": "LayoutModel",
      "state": {}
     },
     "e483774b63b64cdda9c557aa3c8d70b9": {
      "model_module": "@jupyter-widgets/base",
      "model_module_version": "1.0.0",
      "model_name": "LayoutModel",
      "state": {}
     },
     "e4bf18ee5d5740238c505c1defb7026e": {
      "model_module": "@jupyter-widgets/base",
      "model_module_version": "1.0.0",
      "model_name": "LayoutModel",
      "state": {}
     },
     "e5af046a55e84cc08199c28d86dd60ba": {
      "model_module": "@jupyter-widgets/base",
      "model_module_version": "1.0.0",
      "model_name": "LayoutModel",
      "state": {
       "width": "80%"
      }
     },
     "e5c7ccb9dc224b3e93a57929237dea0a": {
      "model_module": "@jupyter-widgets/controls",
      "model_module_version": "1.0.0",
      "model_name": "FloatTextModel",
      "state": {
       "description": "Abundance",
       "layout": "IPY_MODEL_f00d265f4407431c9b6f1160207fdc81",
       "step": null,
       "style": "IPY_MODEL_1f3e1bb65140435b8d35fa3271d8d3ed",
       "value": 767.2727272727273
      }
     },
     "e5fde036ecc54c3ab9b454f664f228cf": {
      "model_module": "@jupyter-widgets/controls",
      "model_module_version": "1.0.0",
      "model_name": "TextModel",
      "state": {
       "layout": "IPY_MODEL_aaf1e2a904274269925ae15bde5ebf6b",
       "placeholder": "feature meta",
       "style": "IPY_MODEL_c3d8d47f143a475cb38cdea8b41c19bc",
       "value": "-"
      }
     },
     "e645d7359c8d49039234e2ac88b11a85": {
      "model_module": "@jupyter-widgets/base",
      "model_module_version": "1.0.0",
      "model_name": "LayoutModel",
      "state": {
       "width": "100%"
      }
     },
     "e684e8dd927b49619c5aa7438782afcd": {
      "model_module": "@jupyter-widgets/base",
      "model_module_version": "1.0.0",
      "model_name": "LayoutModel",
      "state": {
       "width": "20%"
      }
     },
     "e70a8c83eeb042a29041fa50e92193b6": {
      "model_module": "@jupyter-widgets/base",
      "model_module_version": "1.0.0",
      "model_name": "LayoutModel",
      "state": {}
     },
     "e71c9cdd86744c64a7a7e795fac33ef0": {
      "model_module": "@jupyter-widgets/controls",
      "model_module_version": "1.0.0",
      "model_name": "DropdownModel",
      "state": {
       "_options_labels": [
        "ori.order",
        "group",
        "new.order",
        "categorical",
        "_calour_original_abundance"
       ],
       "index": 0,
       "layout": "IPY_MODEL_d7a75aa13bdd4fc59f69ad6a2fb88f4c",
       "style": "IPY_MODEL_5706ba7662414e09bee0759455e33856"
      }
     },
     "e7332e7508064f9ab0dc7129ca5814b5": {
      "model_module": "@jupyter-widgets/base",
      "model_module_version": "1.0.0",
      "model_name": "LayoutModel",
      "state": {}
     },
     "e73941486eab497da45f1fe2014cf016": {
      "model_module": "@jupyter-widgets/controls",
      "model_module_version": "1.0.0",
      "model_name": "TextModel",
      "state": {
       "description": "Feature ID",
       "layout": "IPY_MODEL_565b1c6b9e874be098cfd20b625f76fe",
       "placeholder": "Feature ID",
       "style": "IPY_MODEL_f99f0e3372b94545a99212a8e15502c0",
       "value": "TA"
      }
     },
     "e77c61601f3e4d23be53604bfa63b427": {
      "model_module": "@jupyter-widgets/controls",
      "model_module_version": "1.0.0",
      "model_name": "HBoxModel",
      "state": {
       "children": [
        "IPY_MODEL_63934eef274e419b98c33f370b7a8b9c",
        "IPY_MODEL_fda45d9d440548b79ae727f9c249d0b3"
       ],
       "layout": "IPY_MODEL_59813787b85646d7a5aba17eb6548f90"
      }
     },
     "e77d0442d7ef4b05bec08039e3ce28dd": {
      "model_module": "@jupyter-widgets/controls",
      "model_module_version": "1.0.0",
      "model_name": "ButtonStyleModel",
      "state": {}
     },
     "e78b775f90b54433b7c6c993b393d783": {
      "model_module": "@jupyter-widgets/base",
      "model_module_version": "1.0.0",
      "model_name": "LayoutModel",
      "state": {
       "width": "20%"
      }
     },
     "e7fe72a74b0e4c3cb165d044c2990c47": {
      "model_module": "@jupyter-widgets/base",
      "model_module_version": "1.0.0",
      "model_name": "LayoutModel",
      "state": {}
     },
     "e858d7ed581b4904838b59e46e5a8a84": {
      "model_module": "@jupyter-widgets/base",
      "model_module_version": "1.0.0",
      "model_name": "LayoutModel",
      "state": {}
     },
     "e859ed715c7343db972d9b9945fee8f4": {
      "model_module": "@jupyter-widgets/controls",
      "model_module_version": "1.0.0",
      "model_name": "HBoxModel",
      "state": {
       "children": [
        "IPY_MODEL_8befc7c1c1fc4bfa949fdadb70e0ddad",
        "IPY_MODEL_df72cbb23b084ef39181a26ef8eee232",
        "IPY_MODEL_121ba1781cd647fb89530aaafdf1a241"
       ],
       "layout": "IPY_MODEL_0916bd9112904822aba6f4e7ba6ccc37"
      }
     },
     "e85ff357e1e941ef95c1f4c4e471278e": {
      "model_module": "@jupyter-widgets/base",
      "model_module_version": "1.0.0",
      "model_name": "LayoutModel",
      "state": {
       "width": "20%"
      }
     },
     "e861d332fb004e78a55d3d6b80d56bce": {
      "model_module": "@jupyter-widgets/controls",
      "model_module_version": "1.0.0",
      "model_name": "DescriptionStyleModel",
      "state": {
       "description_width": ""
      }
     },
     "e8622ae6264e44a69ce804a25a56e906": {
      "model_module": "@jupyter-widgets/base",
      "model_module_version": "1.0.0",
      "model_name": "LayoutModel",
      "state": {}
     },
     "e871b23b4b534364be1603d87700353e": {
      "model_module": "@jupyter-widgets/base",
      "model_module_version": "1.0.0",
      "model_name": "LayoutModel",
      "state": {}
     },
     "e88b79b8f16949a2a6d58581fdbd58a9": {
      "model_module": "@jupyter-widgets/base",
      "model_module_version": "1.0.0",
      "model_name": "LayoutModel",
      "state": {
       "width": "80%"
      }
     },
     "e8ad69a11b824ac89de5ff7d2b13da15": {
      "model_module": "@jupyter-widgets/controls",
      "model_module_version": "1.0.0",
      "model_name": "TextModel",
      "state": {
       "description": "Sample ID",
       "layout": "IPY_MODEL_0fe4437f03514de2a3929adfcab239a3",
       "placeholder": "Sample ID",
       "style": "IPY_MODEL_841fa30f5835461d83723cac9991d217",
       "value": "-"
      }
     },
     "e92c6a864cc747e9b91def861fcec3d5": {
      "model_module": "@jupyter-widgets/controls",
      "model_module_version": "1.0.0",
      "model_name": "ButtonModel",
      "state": {
       "description": "Annotate",
       "layout": "IPY_MODEL_f135d4db36aa4909bb0f8cd022a7ee40",
       "style": "IPY_MODEL_6223e83501cd46599813c973d7de8656"
      }
     },
     "e92f6c43518f4ce183b878b306c7fd5d": {
      "model_module": "@jupyter-widgets/base",
      "model_module_version": "1.0.0",
      "model_name": "LayoutModel",
      "state": {}
     },
     "e9cef8e68c944ed7b838de4db72b609c": {
      "model_module": "@jupyter-widgets/controls",
      "model_module_version": "1.0.0",
      "model_name": "LabelModel",
      "state": {
       "layout": "IPY_MODEL_a93ef3365c3d4bef9155fc296849f5f8",
       "style": "IPY_MODEL_fdb92ade80f74eeead0e32ac89ba0912",
       "value": "0 features are selected"
      }
     },
     "e9ee8ed6b979409e904c883d3fad034b": {
      "model_module": "@jupyter-widgets/base",
      "model_module_version": "1.0.0",
      "model_name": "LayoutModel",
      "state": {
       "width": "80%"
      }
     },
     "ea5507ad074f4247962014b1b9a5350c": {
      "model_module": "@jupyter-widgets/controls",
      "model_module_version": "1.0.0",
      "model_name": "TextModel",
      "state": {
       "description": "Sample ID",
       "layout": "IPY_MODEL_773cb8dede5f4d728628430598683cc5",
       "placeholder": "Sample ID",
       "style": "IPY_MODEL_acd000fbeb2e4b6c9e5e67b954e23bd8",
       "value": "-"
      }
     },
     "ea9ba488adb14f929111ea8b48fbc9e7": {
      "model_module": "@jupyter-widgets/controls",
      "model_module_version": "1.0.0",
      "model_name": "DescriptionStyleModel",
      "state": {
       "description_width": ""
      }
     },
     "eacd14c5f8174e70abc48f6af3752b70": {
      "model_module": "@jupyter-widgets/base",
      "model_module_version": "1.0.0",
      "model_name": "LayoutModel",
      "state": {}
     },
     "eb301619e7274e84bf5ea4435c8ef35c": {
      "model_module": "@jupyter-widgets/controls",
      "model_module_version": "1.0.0",
      "model_name": "ButtonModel",
      "state": {
       "description": "Annotate",
       "layout": "IPY_MODEL_2bfb81ad23ac4a45baa2a3e07d12d60c",
       "style": "IPY_MODEL_55d907b31fa84b448d8f1aad19c0df60"
      }
     },
     "eb416d4fc8084a5c9ce91c8c0ef6846c": {
      "model_module": "@jupyter-widgets/controls",
      "model_module_version": "1.0.0",
      "model_name": "DescriptionStyleModel",
      "state": {
       "description_width": ""
      }
     },
     "eb5873d689c945bebbb75ea92831f359": {
      "model_module": "@jupyter-widgets/base",
      "model_module_version": "1.0.0",
      "model_name": "LayoutModel",
      "state": {
       "width": "100%"
      }
     },
     "ec844700ca8443469b19506bc2aa37ef": {
      "model_module": "@jupyter-widgets/controls",
      "model_module_version": "1.0.0",
      "model_name": "HTMLModel",
      "state": {
       "layout": "IPY_MODEL_4d9ebfcc416f45a3bc4640a12862b93b",
       "style": "IPY_MODEL_60649a3b46c64cb8a93dc859d9388808",
       "value": "<style> a:link {color:black; background-color:transparent; text-decoration:none}a:visited {color:black; background-color:transparent; text-decoration:none}</style><p style=\"color:black;white-space:nowrap;\"><a href=\"http://dbbact.org/annotation_info/NA\"   target=\"_blank\">No annotation found in database dbBact</a></p>"
      }
     },
     "ecd4c081588e4208aef03886f1406ce6": {
      "model_module": "@jupyter-widgets/base",
      "model_module_version": "1.0.0",
      "model_name": "LayoutModel",
      "state": {
       "width": "20%"
      }
     },
     "ecd7d27d1b4547efaf71ece1dfb7463a": {
      "model_module": "@jupyter-widgets/controls",
      "model_module_version": "1.0.0",
      "model_name": "DescriptionStyleModel",
      "state": {
       "description_width": ""
      }
     },
     "ecedbf261dba4bf6ba6b35ac3bbcf5d1": {
      "model_module": "@jupyter-widgets/controls",
      "model_module_version": "1.0.0",
      "model_name": "ButtonStyleModel",
      "state": {}
     },
     "edfa1bbc094c4adda04362ee3a37442d": {
      "model_module": "@jupyter-widgets/base",
      "model_module_version": "1.0.0",
      "model_name": "LayoutModel",
      "state": {}
     },
     "eec2a448499d4e71bd76926c521cd3fe": {
      "model_module": "@jupyter-widgets/controls",
      "model_module_version": "1.0.0",
      "model_name": "ButtonStyleModel",
      "state": {}
     },
     "eef1b0e464e34f7f962a9b1c73d43754": {
      "model_module": "@jupyter-widgets/base",
      "model_module_version": "1.0.0",
      "model_name": "LayoutModel",
      "state": {}
     },
     "ef2fb6bdf77242dca72164d2ab57a968": {
      "model_module": "@jupyter-widgets/base",
      "model_module_version": "1.0.0",
      "model_name": "LayoutModel",
      "state": {
       "width": "20%"
      }
     },
     "ef744ca46c1740209f24bb72bbf7b4e3": {
      "model_module": "@jupyter-widgets/controls",
      "model_module_version": "1.0.0",
      "model_name": "FloatTextModel",
      "state": {
       "description": "Abundance",
       "layout": "IPY_MODEL_26b0a8291b8a43779ec1ea5975dce562",
       "step": null,
       "style": "IPY_MODEL_40ec191134c74d55ac914e8421098573"
      }
     },
     "f00d265f4407431c9b6f1160207fdc81": {
      "model_module": "@jupyter-widgets/base",
      "model_module_version": "1.0.0",
      "model_name": "LayoutModel",
      "state": {
       "width": "100%"
      }
     },
     "f017309af9ce4009baf89347e8da140d": {
      "model_module": "@jupyter-widgets/controls",
      "model_module_version": "1.0.0",
      "model_name": "DescriptionStyleModel",
      "state": {
       "description_width": ""
      }
     },
     "f069355a505548daab227402416d8735": {
      "model_module": "@jupyter-widgets/base",
      "model_module_version": "1.0.0",
      "model_name": "LayoutModel",
      "state": {}
     },
     "f135d4db36aa4909bb0f8cd022a7ee40": {
      "model_module": "@jupyter-widgets/base",
      "model_module_version": "1.0.0",
      "model_name": "LayoutModel",
      "state": {}
     },
     "f16ea498af894761acde79303d5fdba3": {
      "model_module": "@jupyter-widgets/controls",
      "model_module_version": "1.0.0",
      "model_name": "ButtonStyleModel",
      "state": {}
     },
     "f1d6f03421744fb8b7dd8eb3cf00fc4e": {
      "model_module": "@jupyter-widgets/controls",
      "model_module_version": "1.0.0",
      "model_name": "ButtonModel",
      "state": {
       "description": "Save",
       "layout": "IPY_MODEL_bc309ced75cb41b3809636e1ebdb6c08",
       "style": "IPY_MODEL_7a817942ba3542bfafc40461d82c05f1",
       "tooltip": "Save the selection(s)"
      }
     },
     "f1ea95ca57304dd592563270d5ba2a90": {
      "model_module": "@jupyter-widgets/controls",
      "model_module_version": "1.0.0",
      "model_name": "ButtonModel",
      "state": {
       "description": "print axes ranges",
       "layout": "IPY_MODEL_44705496aa0c4ec488da67db63d7cdc6",
       "style": "IPY_MODEL_0a3dbc9e3d4344749c3bf9fdfb9286c0",
       "tooltip": "Print the x axis and y axis ranges. Useful to pass to `rect` parameter of heatmap() to zoom in the region automatically."
      }
     },
     "f24fa96118a844a0859a8b7f7ad5a60e": {
      "model_module": "@jupyter-widgets/base",
      "model_module_version": "1.0.0",
      "model_name": "LayoutModel",
      "state": {}
     },
     "f2560641d0d84949aff86c64dddcc7c8": {
      "model_module": "@jupyter-widgets/controls",
      "model_module_version": "1.0.0",
      "model_name": "DescriptionStyleModel",
      "state": {
       "description_width": ""
      }
     },
     "f2ac8ebefe854958a92d662aa815be07": {
      "model_module": "@jupyter-widgets/controls",
      "model_module_version": "1.0.0",
      "model_name": "ButtonModel",
      "state": {
       "description": "Annotate",
       "layout": "IPY_MODEL_83f220c4c3154575b6bc91246594bdb3",
       "style": "IPY_MODEL_50d91fe195e14cbfabd45f9c2270b3a3"
      }
     },
     "f2bc07b742c4414297347865fb806c5b": {
      "model_module": "@jupyter-widgets/base",
      "model_module_version": "1.0.0",
      "model_name": "LayoutModel",
      "state": {}
     },
     "f381a21ef11c4198b9c4c4dcbea2b451": {
      "model_module": "@jupyter-widgets/controls",
      "model_module_version": "1.0.0",
      "model_name": "HBoxModel",
      "state": {
       "children": [
        "IPY_MODEL_336d2c9752d943d387b7a98127cf5e54",
        "IPY_MODEL_1be9ad42625e48cfbce132d77aeefcaf",
        "IPY_MODEL_8c487dd769f54b7b94569691916fb0c7"
       ],
       "layout": "IPY_MODEL_6f8908526ebe4dfba8f58bb8372f84f8"
      }
     },
     "f395051445ed40728dd0eee5ad7b6f8f": {
      "model_module": "@jupyter-widgets/controls",
      "model_module_version": "1.0.0",
      "model_name": "ButtonStyleModel",
      "state": {}
     },
     "f431bb5957f84f60a5fbc3e3f64baaf5": {
      "model_module": "@jupyter-widgets/controls",
      "model_module_version": "1.0.0",
      "model_name": "TextModel",
      "state": {
       "description": "Feature ID",
       "layout": "IPY_MODEL_5d7e0419d4ec4655b22c5d7169b62c7f",
       "placeholder": "Feature ID",
       "style": "IPY_MODEL_4ffc944b0ad5429397444de5a2179e61",
       "value": "-"
      }
     },
     "f536d90645184dc78ebfd4044a9f3d4d": {
      "model_module": "@jupyter-widgets/base",
      "model_module_version": "1.0.0",
      "model_name": "LayoutModel",
      "state": {}
     },
     "f5449ae346864da8a7e3f72e5804355f": {
      "model_module": "@jupyter-widgets/controls",
      "model_module_version": "1.0.0",
      "model_name": "TextModel",
      "state": {
       "layout": "IPY_MODEL_f8f3af89f8df4f8ebbba9ef2745cb57d",
       "placeholder": "sample meta",
       "style": "IPY_MODEL_23b061e4a6d6467bbe15094c7375cb96",
       "value": "-"
      }
     },
     "f5a0540017034c4d907b6de51e08173a": {
      "model_module": "@jupyter-widgets/controls",
      "model_module_version": "1.0.0",
      "model_name": "DescriptionStyleModel",
      "state": {
       "description_width": ""
      }
     },
     "f5a856e3904c429aa8a230729cf00bf3": {
      "model_module": "@jupyter-widgets/controls",
      "model_module_version": "1.0.0",
      "model_name": "TextModel",
      "state": {
       "layout": "IPY_MODEL_c91c380a4bf44a68a414e5f0461d18fd",
       "placeholder": "sample meta",
       "style": "IPY_MODEL_e1a702ca577f46578932187d06c7ed6b",
       "value": "6"
      }
     },
     "f62fdecc01eb49fcb29a099cf8dc13e2": {
      "model_module": "@jupyter-widgets/controls",
      "model_module_version": "1.0.0",
      "model_name": "DescriptionStyleModel",
      "state": {
       "description_width": ""
      }
     },
     "f643626637a043cf93c833dab125347a": {
      "model_module": "@jupyter-widgets/base",
      "model_module_version": "1.0.0",
      "model_name": "LayoutModel",
      "state": {}
     },
     "f65e8fbb0d6d4f26a2395cbf5325f119": {
      "model_module": "@jupyter-widgets/controls",
      "model_module_version": "1.0.0",
      "model_name": "DescriptionStyleModel",
      "state": {
       "description_width": ""
      }
     },
     "f66fd8bff6a847839d2b939a2daeb1c4": {
      "model_module": "@jupyter-widgets/controls",
      "model_module_version": "1.0.0",
      "model_name": "HTMLModel",
      "state": {
       "layout": "IPY_MODEL_41aa402ee7d14626a93a4fd8eb2fdf72",
       "style": "IPY_MODEL_22f53a34a2bd4748a14ca0ae7398e231",
       "value": "no annotation found"
      }
     },
     "f7629e405cd54f89af940ada9ecc0ff8": {
      "model_module": "@jupyter-widgets/base",
      "model_module_version": "1.0.0",
      "model_name": "LayoutModel",
      "state": {}
     },
     "f88872a804bc43ed9a908b306dd8436d": {
      "model_module": "@jupyter-widgets/controls",
      "model_module_version": "1.0.0",
      "model_name": "ButtonStyleModel",
      "state": {}
     },
     "f8c78431a7ba42ecb851602b9df0d837": {
      "model_module": "@jupyter-widgets/controls",
      "model_module_version": "1.0.0",
      "model_name": "DescriptionStyleModel",
      "state": {
       "description_width": ""
      }
     },
     "f8f2509347ce4216930b3b739010eeb0": {
      "model_module": "@jupyter-widgets/base",
      "model_module_version": "1.0.0",
      "model_name": "LayoutModel",
      "state": {}
     },
     "f8f3af89f8df4f8ebbba9ef2745cb57d": {
      "model_module": "@jupyter-widgets/base",
      "model_module_version": "1.0.0",
      "model_name": "LayoutModel",
      "state": {
       "width": "80%"
      }
     },
     "f99f0e3372b94545a99212a8e15502c0": {
      "model_module": "@jupyter-widgets/controls",
      "model_module_version": "1.0.0",
      "model_name": "DescriptionStyleModel",
      "state": {
       "description_width": ""
      }
     },
     "f9df0261d0744316926b1e4b3696e71b": {
      "model_module": "@jupyter-widgets/controls",
      "model_module_version": "1.0.0",
      "model_name": "ButtonStyleModel",
      "state": {}
     },
     "fa0d8e862dc149efadf22881e88f98a6": {
      "model_module": "@jupyter-widgets/base",
      "model_module_version": "1.0.0",
      "model_name": "LayoutModel",
      "state": {}
     },
     "fa2e3ed2c34e40978a63ddc618ddd2ad": {
      "model_module": "@jupyter-widgets/base",
      "model_module_version": "1.0.0",
      "model_name": "LayoutModel",
      "state": {}
     },
     "faaa714f16e7436fb99901697ed01a4d": {
      "model_module": "@jupyter-widgets/controls",
      "model_module_version": "1.0.0",
      "model_name": "ButtonModel",
      "state": {
       "description": "print axes ranges",
       "layout": "IPY_MODEL_f536d90645184dc78ebfd4044a9f3d4d",
       "style": "IPY_MODEL_9eb4726ed113454fbe79704dae83a7d7",
       "tooltip": "Print the x axis and y axis ranges. Useful to pass to `rect` parameter of heatmap() to zoom in the region automatically."
      }
     },
     "fadb1ba531c74fe8ac7152c0836b2bb3": {
      "model_module": "@jupyter-widgets/controls",
      "model_module_version": "1.0.0",
      "model_name": "DescriptionStyleModel",
      "state": {
       "description_width": ""
      }
     },
     "fb0d20d518b54a85950da404e23b9bf1": {
      "model_module": "@jupyter-widgets/base",
      "model_module_version": "1.0.0",
      "model_name": "LayoutModel",
      "state": {
       "height": "100px",
       "overflow_y": "auto"
      }
     },
     "fb2bc2f08bf94fac954692de749449a2": {
      "model_module": "@jupyter-widgets/controls",
      "model_module_version": "1.0.0",
      "model_name": "DescriptionStyleModel",
      "state": {
       "description_width": ""
      }
     },
     "fb41f1a7ebde4696b1d5d0e53e452bfd": {
      "model_module": "@jupyter-widgets/controls",
      "model_module_version": "1.0.0",
      "model_name": "DescriptionStyleModel",
      "state": {
       "description_width": ""
      }
     },
     "fbbfdde6408d4d7d9e6044ff76ed23a3": {
      "model_module": "@jupyter-widgets/controls",
      "model_module_version": "1.0.0",
      "model_name": "ButtonStyleModel",
      "state": {}
     },
     "fca0c8965c7b48618a67af8a73038f08": {
      "model_module": "@jupyter-widgets/controls",
      "model_module_version": "1.0.0",
      "model_name": "ButtonModel",
      "state": {
       "description": "Save",
       "layout": "IPY_MODEL_83351f1927c64058bbdb8f2b519dd250",
       "style": "IPY_MODEL_56d6390bab0640a28e021d6d0e5f2abd",
       "tooltip": "Save the selection(s)"
      }
     },
     "fce124c81ac54d4db619d6dd76e78e6a": {
      "model_module": "@jupyter-widgets/controls",
      "model_module_version": "1.0.0",
      "model_name": "TextModel",
      "state": {
       "layout": "IPY_MODEL_c5f6370e551f4097860a8ab70ec1a036",
       "placeholder": "feature meta",
       "style": "IPY_MODEL_9fc9fd4654ea449cb3b8f29da806f632",
       "value": "anaerobic"
      }
     },
     "fda45d9d440548b79ae727f9c249d0b3": {
      "model_module": "@jupyter-widgets/controls",
      "model_module_version": "1.0.0",
      "model_name": "TextModel",
      "state": {
       "layout": "IPY_MODEL_b7dab112f0ae4cf1919e49f4a35f8fbd",
       "placeholder": "feature meta",
       "style": "IPY_MODEL_7dbddc9d7d2843ccb0bf1617f18d25d2",
       "value": "-"
      }
     },
     "fdb92ade80f74eeead0e32ac89ba0912": {
      "model_module": "@jupyter-widgets/controls",
      "model_module_version": "1.0.0",
      "model_name": "DescriptionStyleModel",
      "state": {
       "description_width": ""
      }
     },
     "fdd580f0a23446928b11450afc7126c6": {
      "model_module": "@jupyter-widgets/controls",
      "model_module_version": "1.0.0",
      "model_name": "DescriptionStyleModel",
      "state": {
       "description_width": ""
      }
     },
     "fe17a9f6eb674a01bf2b574371434fa7": {
      "model_module": "@jupyter-widgets/base",
      "model_module_version": "1.0.0",
      "model_name": "LayoutModel",
      "state": {}
     },
     "fe227c119f344263bbc579a5c9c24ebd": {
      "model_module": "@jupyter-widgets/controls",
      "model_module_version": "1.0.0",
      "model_name": "DescriptionStyleModel",
      "state": {
       "description_width": ""
      }
     },
     "fe5d837c7ba7440a913f182b402e409f": {
      "model_module": "@jupyter-widgets/base",
      "model_module_version": "1.0.0",
      "model_name": "LayoutModel",
      "state": {}
     },
     "fea90bb19aeb4cc5a44fcda09262ac35": {
      "model_module": "@jupyter-widgets/controls",
      "model_module_version": "1.0.0",
      "model_name": "HBoxModel",
      "state": {
       "children": [
        "IPY_MODEL_7b627dc3f6f943d3824e1c9e6ec3c60a",
        "IPY_MODEL_f5449ae346864da8a7e3f72e5804355f"
       ],
       "layout": "IPY_MODEL_403ccc4602c54ebf9c5913e99ca37ce7"
      }
     },
     "fee7f0bee991456d91b81654bfa40d47": {
      "model_module": "@jupyter-widgets/controls",
      "model_module_version": "1.0.0",
      "model_name": "TextModel",
      "state": {
       "description": "Feature ID",
       "layout": "IPY_MODEL_d59215ebf4b145409800dd999aeb9210",
       "placeholder": "Feature ID",
       "style": "IPY_MODEL_16f43a8c6b264025a2b6f27fd1d1a7b8",
       "value": "TA"
      }
     },
     "ff447792a03a4727a8929c3f91697ae0": {
      "model_module": "@jupyter-widgets/controls",
      "model_module_version": "1.0.0",
      "model_name": "ButtonModel",
      "state": {
       "description": "print axes ranges",
       "layout": "IPY_MODEL_9a0b3f943c234e00a1a9b561b6501020",
       "style": "IPY_MODEL_2a79dfa401c949a59b6432958fb07569",
       "tooltip": "Print the x axis and y axis ranges. Useful to pass to `rect` parameter of heatmap() to zoom in the region automatically."
      }
     },
     "ff776c412b9b4ebe837047240a71f1f1": {
      "model_module": "@jupyter-widgets/controls",
      "model_module_version": "1.0.0",
      "model_name": "ButtonModel",
      "state": {
       "description": "Annotate",
       "layout": "IPY_MODEL_1aceff07744c4442ab914d6ffe4c7528",
       "style": "IPY_MODEL_aba8b415a4a24b819e90e3c9fe6536dc"
      }
     },
     "ff9930cba4944728bc3ab7d67dfe37ba": {
      "model_module": "@jupyter-widgets/controls",
      "model_module_version": "1.0.0",
      "model_name": "DescriptionStyleModel",
      "state": {
       "description_width": ""
      }
     },
     "ffa4c25b4dbb4c18bfd1d769b2463a9d": {
      "model_module": "@jupyter-widgets/controls",
      "model_module_version": "1.0.0",
      "model_name": "DropdownModel",
      "state": {
       "_options_labels": [
        "ori.order",
        "group",
        "new.order",
        "categorical",
        "_calour_original_abundance"
       ],
       "index": 0,
       "layout": "IPY_MODEL_56063088efea414a85ae1a8defc66457",
       "style": "IPY_MODEL_354496bb29d4433ab4ccb97caa24001b"
      }
     },
     "ffb99856481a41c8af1402e46612c9bd": {
      "model_module": "@jupyter-widgets/controls",
      "model_module_version": "1.0.0",
      "model_name": "TextModel",
      "state": {
       "description": "Feature ID",
       "layout": "IPY_MODEL_6a78243a8abb4458b19ae1a0500dab91",
       "placeholder": "Feature ID",
       "style": "IPY_MODEL_99214093a1354cc893fa705705f32128",
       "value": "-"
      }
     },
     "ffbc70be7ab041438df3d5e5ea61d049": {
      "model_module": "@jupyter-widgets/controls",
      "model_module_version": "1.0.0",
      "model_name": "ButtonStyleModel",
      "state": {}
     },
     "fff4cb1692bd4787bc8a886a83220275": {
      "model_module": "@jupyter-widgets/base",
      "model_module_version": "1.0.0",
      "model_name": "LayoutModel",
      "state": {}
     }
    },
    "version_major": 2,
    "version_minor": 0
   }
  }
 },
 "nbformat": 4,
 "nbformat_minor": 1
}
