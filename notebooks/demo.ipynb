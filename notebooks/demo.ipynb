{
 "cells": [
  {
   "cell_type": "code",
   "execution_count": 1,
   "metadata": {
    "collapsed": true
   },
   "outputs": [],
   "source": [
    "%matplotlib notebook\n",
    "import calour as ca\n",
    "import matplotlib as mpl"
   ]
  },
  {
   "cell_type": "markdown",
   "metadata": {},
   "source": [
    "# Simple Cases"
   ]
  },
  {
   "cell_type": "code",
   "execution_count": 4,
   "metadata": {
    "scrolled": false
   },
   "outputs": [
    {
     "data": {
      "application/javascript": [
       "/* Put everything inside the global mpl namespace */\n",
       "window.mpl = {};\n",
       "\n",
       "\n",
       "mpl.get_websocket_type = function() {\n",
       "    if (typeof(WebSocket) !== 'undefined') {\n",
       "        return WebSocket;\n",
       "    } else if (typeof(MozWebSocket) !== 'undefined') {\n",
       "        return MozWebSocket;\n",
       "    } else {\n",
       "        alert('Your browser does not have WebSocket support.' +\n",
       "              'Please try Chrome, Safari or Firefox ≥ 6. ' +\n",
       "              'Firefox 4 and 5 are also supported but you ' +\n",
       "              'have to enable WebSockets in about:config.');\n",
       "    };\n",
       "}\n",
       "\n",
       "mpl.figure = function(figure_id, websocket, ondownload, parent_element) {\n",
       "    this.id = figure_id;\n",
       "\n",
       "    this.ws = websocket;\n",
       "\n",
       "    this.supports_binary = (this.ws.binaryType != undefined);\n",
       "\n",
       "    if (!this.supports_binary) {\n",
       "        var warnings = document.getElementById(\"mpl-warnings\");\n",
       "        if (warnings) {\n",
       "            warnings.style.display = 'block';\n",
       "            warnings.textContent = (\n",
       "                \"This browser does not support binary websocket messages. \" +\n",
       "                    \"Performance may be slow.\");\n",
       "        }\n",
       "    }\n",
       "\n",
       "    this.imageObj = new Image();\n",
       "\n",
       "    this.context = undefined;\n",
       "    this.message = undefined;\n",
       "    this.canvas = undefined;\n",
       "    this.rubberband_canvas = undefined;\n",
       "    this.rubberband_context = undefined;\n",
       "    this.format_dropdown = undefined;\n",
       "\n",
       "    this.image_mode = 'full';\n",
       "\n",
       "    this.root = $('<div/>');\n",
       "    this._root_extra_style(this.root)\n",
       "    this.root.attr('style', 'display: inline-block');\n",
       "\n",
       "    $(parent_element).append(this.root);\n",
       "\n",
       "    this._init_header(this);\n",
       "    this._init_canvas(this);\n",
       "    this._init_toolbar(this);\n",
       "\n",
       "    var fig = this;\n",
       "\n",
       "    this.waiting = false;\n",
       "\n",
       "    this.ws.onopen =  function () {\n",
       "            fig.send_message(\"supports_binary\", {value: fig.supports_binary});\n",
       "            fig.send_message(\"send_image_mode\", {});\n",
       "            if (mpl.ratio != 1) {\n",
       "                fig.send_message(\"set_dpi_ratio\", {'dpi_ratio': mpl.ratio});\n",
       "            }\n",
       "            fig.send_message(\"refresh\", {});\n",
       "        }\n",
       "\n",
       "    this.imageObj.onload = function() {\n",
       "            if (fig.image_mode == 'full') {\n",
       "                // Full images could contain transparency (where diff images\n",
       "                // almost always do), so we need to clear the canvas so that\n",
       "                // there is no ghosting.\n",
       "                fig.context.clearRect(0, 0, fig.canvas.width, fig.canvas.height);\n",
       "            }\n",
       "            fig.context.drawImage(fig.imageObj, 0, 0);\n",
       "        };\n",
       "\n",
       "    this.imageObj.onunload = function() {\n",
       "        this.ws.close();\n",
       "    }\n",
       "\n",
       "    this.ws.onmessage = this._make_on_message_function(this);\n",
       "\n",
       "    this.ondownload = ondownload;\n",
       "}\n",
       "\n",
       "mpl.figure.prototype._init_header = function() {\n",
       "    var titlebar = $(\n",
       "        '<div class=\"ui-dialog-titlebar ui-widget-header ui-corner-all ' +\n",
       "        'ui-helper-clearfix\"/>');\n",
       "    var titletext = $(\n",
       "        '<div class=\"ui-dialog-title\" style=\"width: 100%; ' +\n",
       "        'text-align: center; padding: 3px;\"/>');\n",
       "    titlebar.append(titletext)\n",
       "    this.root.append(titlebar);\n",
       "    this.header = titletext[0];\n",
       "}\n",
       "\n",
       "\n",
       "\n",
       "mpl.figure.prototype._canvas_extra_style = function(canvas_div) {\n",
       "\n",
       "}\n",
       "\n",
       "\n",
       "mpl.figure.prototype._root_extra_style = function(canvas_div) {\n",
       "\n",
       "}\n",
       "\n",
       "mpl.figure.prototype._init_canvas = function() {\n",
       "    var fig = this;\n",
       "\n",
       "    var canvas_div = $('<div/>');\n",
       "\n",
       "    canvas_div.attr('style', 'position: relative; clear: both; outline: 0');\n",
       "\n",
       "    function canvas_keyboard_event(event) {\n",
       "        return fig.key_event(event, event['data']);\n",
       "    }\n",
       "\n",
       "    canvas_div.keydown('key_press', canvas_keyboard_event);\n",
       "    canvas_div.keyup('key_release', canvas_keyboard_event);\n",
       "    this.canvas_div = canvas_div\n",
       "    this._canvas_extra_style(canvas_div)\n",
       "    this.root.append(canvas_div);\n",
       "\n",
       "    var canvas = $('<canvas/>');\n",
       "    canvas.addClass('mpl-canvas');\n",
       "    canvas.attr('style', \"left: 0; top: 0; z-index: 0; outline: 0\")\n",
       "\n",
       "    this.canvas = canvas[0];\n",
       "    this.context = canvas[0].getContext(\"2d\");\n",
       "\n",
       "    var backingStore = this.context.backingStorePixelRatio ||\n",
       "\tthis.context.webkitBackingStorePixelRatio ||\n",
       "\tthis.context.mozBackingStorePixelRatio ||\n",
       "\tthis.context.msBackingStorePixelRatio ||\n",
       "\tthis.context.oBackingStorePixelRatio ||\n",
       "\tthis.context.backingStorePixelRatio || 1;\n",
       "\n",
       "    mpl.ratio = (window.devicePixelRatio || 1) / backingStore;\n",
       "\n",
       "    var rubberband = $('<canvas/>');\n",
       "    rubberband.attr('style', \"position: absolute; left: 0; top: 0; z-index: 1;\")\n",
       "\n",
       "    var pass_mouse_events = true;\n",
       "\n",
       "    canvas_div.resizable({\n",
       "        start: function(event, ui) {\n",
       "            pass_mouse_events = false;\n",
       "        },\n",
       "        resize: function(event, ui) {\n",
       "            fig.request_resize(ui.size.width, ui.size.height);\n",
       "        },\n",
       "        stop: function(event, ui) {\n",
       "            pass_mouse_events = true;\n",
       "            fig.request_resize(ui.size.width, ui.size.height);\n",
       "        },\n",
       "    });\n",
       "\n",
       "    function mouse_event_fn(event) {\n",
       "        if (pass_mouse_events)\n",
       "            return fig.mouse_event(event, event['data']);\n",
       "    }\n",
       "\n",
       "    rubberband.mousedown('button_press', mouse_event_fn);\n",
       "    rubberband.mouseup('button_release', mouse_event_fn);\n",
       "    // Throttle sequential mouse events to 1 every 20ms.\n",
       "    rubberband.mousemove('motion_notify', mouse_event_fn);\n",
       "\n",
       "    rubberband.mouseenter('figure_enter', mouse_event_fn);\n",
       "    rubberband.mouseleave('figure_leave', mouse_event_fn);\n",
       "\n",
       "    canvas_div.on(\"wheel\", function (event) {\n",
       "        event = event.originalEvent;\n",
       "        event['data'] = 'scroll'\n",
       "        if (event.deltaY < 0) {\n",
       "            event.step = 1;\n",
       "        } else {\n",
       "            event.step = -1;\n",
       "        }\n",
       "        mouse_event_fn(event);\n",
       "    });\n",
       "\n",
       "    canvas_div.append(canvas);\n",
       "    canvas_div.append(rubberband);\n",
       "\n",
       "    this.rubberband = rubberband;\n",
       "    this.rubberband_canvas = rubberband[0];\n",
       "    this.rubberband_context = rubberband[0].getContext(\"2d\");\n",
       "    this.rubberband_context.strokeStyle = \"#000000\";\n",
       "\n",
       "    this._resize_canvas = function(width, height) {\n",
       "        // Keep the size of the canvas, canvas container, and rubber band\n",
       "        // canvas in synch.\n",
       "        canvas_div.css('width', width)\n",
       "        canvas_div.css('height', height)\n",
       "\n",
       "        canvas.attr('width', width * mpl.ratio);\n",
       "        canvas.attr('height', height * mpl.ratio);\n",
       "        canvas.attr('style', 'width: ' + width + 'px; height: ' + height + 'px;');\n",
       "\n",
       "        rubberband.attr('width', width);\n",
       "        rubberband.attr('height', height);\n",
       "    }\n",
       "\n",
       "    // Set the figure to an initial 600x600px, this will subsequently be updated\n",
       "    // upon first draw.\n",
       "    this._resize_canvas(600, 600);\n",
       "\n",
       "    // Disable right mouse context menu.\n",
       "    $(this.rubberband_canvas).bind(\"contextmenu\",function(e){\n",
       "        return false;\n",
       "    });\n",
       "\n",
       "    function set_focus () {\n",
       "        canvas.focus();\n",
       "        canvas_div.focus();\n",
       "    }\n",
       "\n",
       "    window.setTimeout(set_focus, 100);\n",
       "}\n",
       "\n",
       "mpl.figure.prototype._init_toolbar = function() {\n",
       "    var fig = this;\n",
       "\n",
       "    var nav_element = $('<div/>')\n",
       "    nav_element.attr('style', 'width: 100%');\n",
       "    this.root.append(nav_element);\n",
       "\n",
       "    // Define a callback function for later on.\n",
       "    function toolbar_event(event) {\n",
       "        return fig.toolbar_button_onclick(event['data']);\n",
       "    }\n",
       "    function toolbar_mouse_event(event) {\n",
       "        return fig.toolbar_button_onmouseover(event['data']);\n",
       "    }\n",
       "\n",
       "    for(var toolbar_ind in mpl.toolbar_items) {\n",
       "        var name = mpl.toolbar_items[toolbar_ind][0];\n",
       "        var tooltip = mpl.toolbar_items[toolbar_ind][1];\n",
       "        var image = mpl.toolbar_items[toolbar_ind][2];\n",
       "        var method_name = mpl.toolbar_items[toolbar_ind][3];\n",
       "\n",
       "        if (!name) {\n",
       "            // put a spacer in here.\n",
       "            continue;\n",
       "        }\n",
       "        var button = $('<button/>');\n",
       "        button.addClass('ui-button ui-widget ui-state-default ui-corner-all ' +\n",
       "                        'ui-button-icon-only');\n",
       "        button.attr('role', 'button');\n",
       "        button.attr('aria-disabled', 'false');\n",
       "        button.click(method_name, toolbar_event);\n",
       "        button.mouseover(tooltip, toolbar_mouse_event);\n",
       "\n",
       "        var icon_img = $('<span/>');\n",
       "        icon_img.addClass('ui-button-icon-primary ui-icon');\n",
       "        icon_img.addClass(image);\n",
       "        icon_img.addClass('ui-corner-all');\n",
       "\n",
       "        var tooltip_span = $('<span/>');\n",
       "        tooltip_span.addClass('ui-button-text');\n",
       "        tooltip_span.html(tooltip);\n",
       "\n",
       "        button.append(icon_img);\n",
       "        button.append(tooltip_span);\n",
       "\n",
       "        nav_element.append(button);\n",
       "    }\n",
       "\n",
       "    var fmt_picker_span = $('<span/>');\n",
       "\n",
       "    var fmt_picker = $('<select/>');\n",
       "    fmt_picker.addClass('mpl-toolbar-option ui-widget ui-widget-content');\n",
       "    fmt_picker_span.append(fmt_picker);\n",
       "    nav_element.append(fmt_picker_span);\n",
       "    this.format_dropdown = fmt_picker[0];\n",
       "\n",
       "    for (var ind in mpl.extensions) {\n",
       "        var fmt = mpl.extensions[ind];\n",
       "        var option = $(\n",
       "            '<option/>', {selected: fmt === mpl.default_extension}).html(fmt);\n",
       "        fmt_picker.append(option)\n",
       "    }\n",
       "\n",
       "    // Add hover states to the ui-buttons\n",
       "    $( \".ui-button\" ).hover(\n",
       "        function() { $(this).addClass(\"ui-state-hover\");},\n",
       "        function() { $(this).removeClass(\"ui-state-hover\");}\n",
       "    );\n",
       "\n",
       "    var status_bar = $('<span class=\"mpl-message\"/>');\n",
       "    nav_element.append(status_bar);\n",
       "    this.message = status_bar[0];\n",
       "}\n",
       "\n",
       "mpl.figure.prototype.request_resize = function(x_pixels, y_pixels) {\n",
       "    // Request matplotlib to resize the figure. Matplotlib will then trigger a resize in the client,\n",
       "    // which will in turn request a refresh of the image.\n",
       "    this.send_message('resize', {'width': x_pixels, 'height': y_pixels});\n",
       "}\n",
       "\n",
       "mpl.figure.prototype.send_message = function(type, properties) {\n",
       "    properties['type'] = type;\n",
       "    properties['figure_id'] = this.id;\n",
       "    this.ws.send(JSON.stringify(properties));\n",
       "}\n",
       "\n",
       "mpl.figure.prototype.send_draw_message = function() {\n",
       "    if (!this.waiting) {\n",
       "        this.waiting = true;\n",
       "        this.ws.send(JSON.stringify({type: \"draw\", figure_id: this.id}));\n",
       "    }\n",
       "}\n",
       "\n",
       "\n",
       "mpl.figure.prototype.handle_save = function(fig, msg) {\n",
       "    var format_dropdown = fig.format_dropdown;\n",
       "    var format = format_dropdown.options[format_dropdown.selectedIndex].value;\n",
       "    fig.ondownload(fig, format);\n",
       "}\n",
       "\n",
       "\n",
       "mpl.figure.prototype.handle_resize = function(fig, msg) {\n",
       "    var size = msg['size'];\n",
       "    if (size[0] != fig.canvas.width || size[1] != fig.canvas.height) {\n",
       "        fig._resize_canvas(size[0], size[1]);\n",
       "        fig.send_message(\"refresh\", {});\n",
       "    };\n",
       "}\n",
       "\n",
       "mpl.figure.prototype.handle_rubberband = function(fig, msg) {\n",
       "    var x0 = msg['x0'] / mpl.ratio;\n",
       "    var y0 = (fig.canvas.height - msg['y0']) / mpl.ratio;\n",
       "    var x1 = msg['x1'] / mpl.ratio;\n",
       "    var y1 = (fig.canvas.height - msg['y1']) / mpl.ratio;\n",
       "    x0 = Math.floor(x0) + 0.5;\n",
       "    y0 = Math.floor(y0) + 0.5;\n",
       "    x1 = Math.floor(x1) + 0.5;\n",
       "    y1 = Math.floor(y1) + 0.5;\n",
       "    var min_x = Math.min(x0, x1);\n",
       "    var min_y = Math.min(y0, y1);\n",
       "    var width = Math.abs(x1 - x0);\n",
       "    var height = Math.abs(y1 - y0);\n",
       "\n",
       "    fig.rubberband_context.clearRect(\n",
       "        0, 0, fig.canvas.width, fig.canvas.height);\n",
       "\n",
       "    fig.rubberband_context.strokeRect(min_x, min_y, width, height);\n",
       "}\n",
       "\n",
       "mpl.figure.prototype.handle_figure_label = function(fig, msg) {\n",
       "    // Updates the figure title.\n",
       "    fig.header.textContent = msg['label'];\n",
       "}\n",
       "\n",
       "mpl.figure.prototype.handle_cursor = function(fig, msg) {\n",
       "    var cursor = msg['cursor'];\n",
       "    switch(cursor)\n",
       "    {\n",
       "    case 0:\n",
       "        cursor = 'pointer';\n",
       "        break;\n",
       "    case 1:\n",
       "        cursor = 'default';\n",
       "        break;\n",
       "    case 2:\n",
       "        cursor = 'crosshair';\n",
       "        break;\n",
       "    case 3:\n",
       "        cursor = 'move';\n",
       "        break;\n",
       "    }\n",
       "    fig.rubberband_canvas.style.cursor = cursor;\n",
       "}\n",
       "\n",
       "mpl.figure.prototype.handle_message = function(fig, msg) {\n",
       "    fig.message.textContent = msg['message'];\n",
       "}\n",
       "\n",
       "mpl.figure.prototype.handle_draw = function(fig, msg) {\n",
       "    // Request the server to send over a new figure.\n",
       "    fig.send_draw_message();\n",
       "}\n",
       "\n",
       "mpl.figure.prototype.handle_image_mode = function(fig, msg) {\n",
       "    fig.image_mode = msg['mode'];\n",
       "}\n",
       "\n",
       "mpl.figure.prototype.updated_canvas_event = function() {\n",
       "    // Called whenever the canvas gets updated.\n",
       "    this.send_message(\"ack\", {});\n",
       "}\n",
       "\n",
       "// A function to construct a web socket function for onmessage handling.\n",
       "// Called in the figure constructor.\n",
       "mpl.figure.prototype._make_on_message_function = function(fig) {\n",
       "    return function socket_on_message(evt) {\n",
       "        if (evt.data instanceof Blob) {\n",
       "            /* FIXME: We get \"Resource interpreted as Image but\n",
       "             * transferred with MIME type text/plain:\" errors on\n",
       "             * Chrome.  But how to set the MIME type?  It doesn't seem\n",
       "             * to be part of the websocket stream */\n",
       "            evt.data.type = \"image/png\";\n",
       "\n",
       "            /* Free the memory for the previous frames */\n",
       "            if (fig.imageObj.src) {\n",
       "                (window.URL || window.webkitURL).revokeObjectURL(\n",
       "                    fig.imageObj.src);\n",
       "            }\n",
       "\n",
       "            fig.imageObj.src = (window.URL || window.webkitURL).createObjectURL(\n",
       "                evt.data);\n",
       "            fig.updated_canvas_event();\n",
       "            fig.waiting = false;\n",
       "            return;\n",
       "        }\n",
       "        else if (typeof evt.data === 'string' && evt.data.slice(0, 21) == \"data:image/png;base64\") {\n",
       "            fig.imageObj.src = evt.data;\n",
       "            fig.updated_canvas_event();\n",
       "            fig.waiting = false;\n",
       "            return;\n",
       "        }\n",
       "\n",
       "        var msg = JSON.parse(evt.data);\n",
       "        var msg_type = msg['type'];\n",
       "\n",
       "        // Call the  \"handle_{type}\" callback, which takes\n",
       "        // the figure and JSON message as its only arguments.\n",
       "        try {\n",
       "            var callback = fig[\"handle_\" + msg_type];\n",
       "        } catch (e) {\n",
       "            console.log(\"No handler for the '\" + msg_type + \"' message type: \", msg);\n",
       "            return;\n",
       "        }\n",
       "\n",
       "        if (callback) {\n",
       "            try {\n",
       "                // console.log(\"Handling '\" + msg_type + \"' message: \", msg);\n",
       "                callback(fig, msg);\n",
       "            } catch (e) {\n",
       "                console.log(\"Exception inside the 'handler_\" + msg_type + \"' callback:\", e, e.stack, msg);\n",
       "            }\n",
       "        }\n",
       "    };\n",
       "}\n",
       "\n",
       "// from http://stackoverflow.com/questions/1114465/getting-mouse-location-in-canvas\n",
       "mpl.findpos = function(e) {\n",
       "    //this section is from http://www.quirksmode.org/js/events_properties.html\n",
       "    var targ;\n",
       "    if (!e)\n",
       "        e = window.event;\n",
       "    if (e.target)\n",
       "        targ = e.target;\n",
       "    else if (e.srcElement)\n",
       "        targ = e.srcElement;\n",
       "    if (targ.nodeType == 3) // defeat Safari bug\n",
       "        targ = targ.parentNode;\n",
       "\n",
       "    // jQuery normalizes the pageX and pageY\n",
       "    // pageX,Y are the mouse positions relative to the document\n",
       "    // offset() returns the position of the element relative to the document\n",
       "    var x = e.pageX - $(targ).offset().left;\n",
       "    var y = e.pageY - $(targ).offset().top;\n",
       "\n",
       "    return {\"x\": x, \"y\": y};\n",
       "};\n",
       "\n",
       "/*\n",
       " * return a copy of an object with only non-object keys\n",
       " * we need this to avoid circular references\n",
       " * http://stackoverflow.com/a/24161582/3208463\n",
       " */\n",
       "function simpleKeys (original) {\n",
       "  return Object.keys(original).reduce(function (obj, key) {\n",
       "    if (typeof original[key] !== 'object')\n",
       "        obj[key] = original[key]\n",
       "    return obj;\n",
       "  }, {});\n",
       "}\n",
       "\n",
       "mpl.figure.prototype.mouse_event = function(event, name) {\n",
       "    var canvas_pos = mpl.findpos(event)\n",
       "\n",
       "    if (name === 'button_press')\n",
       "    {\n",
       "        this.canvas.focus();\n",
       "        this.canvas_div.focus();\n",
       "    }\n",
       "\n",
       "    var x = canvas_pos.x * mpl.ratio;\n",
       "    var y = canvas_pos.y * mpl.ratio;\n",
       "\n",
       "    this.send_message(name, {x: x, y: y, button: event.button,\n",
       "                             step: event.step,\n",
       "                             guiEvent: simpleKeys(event)});\n",
       "\n",
       "    /* This prevents the web browser from automatically changing to\n",
       "     * the text insertion cursor when the button is pressed.  We want\n",
       "     * to control all of the cursor setting manually through the\n",
       "     * 'cursor' event from matplotlib */\n",
       "    event.preventDefault();\n",
       "    return false;\n",
       "}\n",
       "\n",
       "mpl.figure.prototype._key_event_extra = function(event, name) {\n",
       "    // Handle any extra behaviour associated with a key event\n",
       "}\n",
       "\n",
       "mpl.figure.prototype.key_event = function(event, name) {\n",
       "\n",
       "    // Prevent repeat events\n",
       "    if (name == 'key_press')\n",
       "    {\n",
       "        if (event.which === this._key)\n",
       "            return;\n",
       "        else\n",
       "            this._key = event.which;\n",
       "    }\n",
       "    if (name == 'key_release')\n",
       "        this._key = null;\n",
       "\n",
       "    var value = '';\n",
       "    if (event.ctrlKey && event.which != 17)\n",
       "        value += \"ctrl+\";\n",
       "    if (event.altKey && event.which != 18)\n",
       "        value += \"alt+\";\n",
       "    if (event.shiftKey && event.which != 16)\n",
       "        value += \"shift+\";\n",
       "\n",
       "    value += 'k';\n",
       "    value += event.which.toString();\n",
       "\n",
       "    this._key_event_extra(event, name);\n",
       "\n",
       "    this.send_message(name, {key: value,\n",
       "                             guiEvent: simpleKeys(event)});\n",
       "    return false;\n",
       "}\n",
       "\n",
       "mpl.figure.prototype.toolbar_button_onclick = function(name) {\n",
       "    if (name == 'download') {\n",
       "        this.handle_save(this, null);\n",
       "    } else {\n",
       "        this.send_message(\"toolbar_button\", {name: name});\n",
       "    }\n",
       "};\n",
       "\n",
       "mpl.figure.prototype.toolbar_button_onmouseover = function(tooltip) {\n",
       "    this.message.textContent = tooltip;\n",
       "};\n",
       "mpl.toolbar_items = [[\"Home\", \"Reset original view\", \"fa fa-home icon-home\", \"home\"], [\"Back\", \"Back to  previous view\", \"fa fa-arrow-left icon-arrow-left\", \"back\"], [\"Forward\", \"Forward to next view\", \"fa fa-arrow-right icon-arrow-right\", \"forward\"], [\"\", \"\", \"\", \"\"], [\"Pan\", \"Pan axes with left mouse, zoom with right\", \"fa fa-arrows icon-move\", \"pan\"], [\"Zoom\", \"Zoom to rectangle\", \"fa fa-square-o icon-check-empty\", \"zoom\"], [\"\", \"\", \"\", \"\"], [\"Download\", \"Download plot\", \"fa fa-floppy-o icon-save\", \"download\"]];\n",
       "\n",
       "mpl.extensions = [\"eps\", \"pdf\", \"png\", \"ps\", \"raw\", \"svg\"];\n",
       "\n",
       "mpl.default_extension = \"png\";var comm_websocket_adapter = function(comm) {\n",
       "    // Create a \"websocket\"-like object which calls the given IPython comm\n",
       "    // object with the appropriate methods. Currently this is a non binary\n",
       "    // socket, so there is still some room for performance tuning.\n",
       "    var ws = {};\n",
       "\n",
       "    ws.close = function() {\n",
       "        comm.close()\n",
       "    };\n",
       "    ws.send = function(m) {\n",
       "        //console.log('sending', m);\n",
       "        comm.send(m);\n",
       "    };\n",
       "    // Register the callback with on_msg.\n",
       "    comm.on_msg(function(msg) {\n",
       "        //console.log('receiving', msg['content']['data'], msg);\n",
       "        // Pass the mpl event to the overriden (by mpl) onmessage function.\n",
       "        ws.onmessage(msg['content']['data'])\n",
       "    });\n",
       "    return ws;\n",
       "}\n",
       "\n",
       "mpl.mpl_figure_comm = function(comm, msg) {\n",
       "    // This is the function which gets called when the mpl process\n",
       "    // starts-up an IPython Comm through the \"matplotlib\" channel.\n",
       "\n",
       "    var id = msg.content.data.id;\n",
       "    // Get hold of the div created by the display call when the Comm\n",
       "    // socket was opened in Python.\n",
       "    var element = $(\"#\" + id);\n",
       "    var ws_proxy = comm_websocket_adapter(comm)\n",
       "\n",
       "    function ondownload(figure, format) {\n",
       "        window.open(figure.imageObj.src);\n",
       "    }\n",
       "\n",
       "    var fig = new mpl.figure(id, ws_proxy,\n",
       "                           ondownload,\n",
       "                           element.get(0));\n",
       "\n",
       "    // Call onopen now - mpl needs it, as it is assuming we've passed it a real\n",
       "    // web socket which is closed, not our websocket->open comm proxy.\n",
       "    ws_proxy.onopen();\n",
       "\n",
       "    fig.parent_element = element.get(0);\n",
       "    fig.cell_info = mpl.find_output_cell(\"<div id='\" + id + \"'></div>\");\n",
       "    if (!fig.cell_info) {\n",
       "        console.error(\"Failed to find cell for figure\", id, fig);\n",
       "        return;\n",
       "    }\n",
       "\n",
       "    var output_index = fig.cell_info[2]\n",
       "    var cell = fig.cell_info[0];\n",
       "\n",
       "};\n",
       "\n",
       "mpl.figure.prototype.handle_close = function(fig, msg) {\n",
       "    var width = fig.canvas.width/mpl.ratio\n",
       "    fig.root.unbind('remove')\n",
       "\n",
       "    // Update the output cell to use the data from the current canvas.\n",
       "    fig.push_to_output();\n",
       "    var dataURL = fig.canvas.toDataURL();\n",
       "    // Re-enable the keyboard manager in IPython - without this line, in FF,\n",
       "    // the notebook keyboard shortcuts fail.\n",
       "    IPython.keyboard_manager.enable()\n",
       "    $(fig.parent_element).html('<img src=\"' + dataURL + '\" width=\"' + width + '\">');\n",
       "    fig.close_ws(fig, msg);\n",
       "}\n",
       "\n",
       "mpl.figure.prototype.close_ws = function(fig, msg){\n",
       "    fig.send_message('closing', msg);\n",
       "    // fig.ws.close()\n",
       "}\n",
       "\n",
       "mpl.figure.prototype.push_to_output = function(remove_interactive) {\n",
       "    // Turn the data on the canvas into data in the output cell.\n",
       "    var width = this.canvas.width/mpl.ratio\n",
       "    var dataURL = this.canvas.toDataURL();\n",
       "    this.cell_info[1]['text/html'] = '<img src=\"' + dataURL + '\" width=\"' + width + '\">';\n",
       "}\n",
       "\n",
       "mpl.figure.prototype.updated_canvas_event = function() {\n",
       "    // Tell IPython that the notebook contents must change.\n",
       "    IPython.notebook.set_dirty(true);\n",
       "    this.send_message(\"ack\", {});\n",
       "    var fig = this;\n",
       "    // Wait a second, then push the new image to the DOM so\n",
       "    // that it is saved nicely (might be nice to debounce this).\n",
       "    setTimeout(function () { fig.push_to_output() }, 1000);\n",
       "}\n",
       "\n",
       "mpl.figure.prototype._init_toolbar = function() {\n",
       "    var fig = this;\n",
       "\n",
       "    var nav_element = $('<div/>')\n",
       "    nav_element.attr('style', 'width: 100%');\n",
       "    this.root.append(nav_element);\n",
       "\n",
       "    // Define a callback function for later on.\n",
       "    function toolbar_event(event) {\n",
       "        return fig.toolbar_button_onclick(event['data']);\n",
       "    }\n",
       "    function toolbar_mouse_event(event) {\n",
       "        return fig.toolbar_button_onmouseover(event['data']);\n",
       "    }\n",
       "\n",
       "    for(var toolbar_ind in mpl.toolbar_items){\n",
       "        var name = mpl.toolbar_items[toolbar_ind][0];\n",
       "        var tooltip = mpl.toolbar_items[toolbar_ind][1];\n",
       "        var image = mpl.toolbar_items[toolbar_ind][2];\n",
       "        var method_name = mpl.toolbar_items[toolbar_ind][3];\n",
       "\n",
       "        if (!name) { continue; };\n",
       "\n",
       "        var button = $('<button class=\"btn btn-default\" href=\"#\" title=\"' + name + '\"><i class=\"fa ' + image + ' fa-lg\"></i></button>');\n",
       "        button.click(method_name, toolbar_event);\n",
       "        button.mouseover(tooltip, toolbar_mouse_event);\n",
       "        nav_element.append(button);\n",
       "    }\n",
       "\n",
       "    // Add the status bar.\n",
       "    var status_bar = $('<span class=\"mpl-message\" style=\"text-align:right; float: right;\"/>');\n",
       "    nav_element.append(status_bar);\n",
       "    this.message = status_bar[0];\n",
       "\n",
       "    // Add the close button to the window.\n",
       "    var buttongrp = $('<div class=\"btn-group inline pull-right\"></div>');\n",
       "    var button = $('<button class=\"btn btn-mini btn-primary\" href=\"#\" title=\"Stop Interaction\"><i class=\"fa fa-power-off icon-remove icon-large\"></i></button>');\n",
       "    button.click(function (evt) { fig.handle_close(fig, {}); } );\n",
       "    button.mouseover('Stop Interaction', toolbar_mouse_event);\n",
       "    buttongrp.append(button);\n",
       "    var titlebar = this.root.find($('.ui-dialog-titlebar'));\n",
       "    titlebar.prepend(buttongrp);\n",
       "}\n",
       "\n",
       "mpl.figure.prototype._root_extra_style = function(el){\n",
       "    var fig = this\n",
       "    el.on(\"remove\", function(){\n",
       "\tfig.close_ws(fig, {});\n",
       "    });\n",
       "}\n",
       "\n",
       "mpl.figure.prototype._canvas_extra_style = function(el){\n",
       "    // this is important to make the div 'focusable\n",
       "    el.attr('tabindex', 0)\n",
       "    // reach out to IPython and tell the keyboard manager to turn it's self\n",
       "    // off when our div gets focus\n",
       "\n",
       "    // location in version 3\n",
       "    if (IPython.notebook.keyboard_manager) {\n",
       "        IPython.notebook.keyboard_manager.register_events(el);\n",
       "    }\n",
       "    else {\n",
       "        // location in version 2\n",
       "        IPython.keyboard_manager.register_events(el);\n",
       "    }\n",
       "\n",
       "}\n",
       "\n",
       "mpl.figure.prototype._key_event_extra = function(event, name) {\n",
       "    var manager = IPython.notebook.keyboard_manager;\n",
       "    if (!manager)\n",
       "        manager = IPython.keyboard_manager;\n",
       "\n",
       "    // Check for shift+enter\n",
       "    if (event.shiftKey && event.which == 13) {\n",
       "        this.canvas_div.blur();\n",
       "        // select the cell after this one\n",
       "        var index = IPython.notebook.find_cell_index(this.cell_info[0]);\n",
       "        IPython.notebook.select(index + 1);\n",
       "    }\n",
       "}\n",
       "\n",
       "mpl.figure.prototype.handle_save = function(fig, msg) {\n",
       "    fig.ondownload(fig, null);\n",
       "}\n",
       "\n",
       "\n",
       "mpl.find_output_cell = function(html_output) {\n",
       "    // Return the cell and output element which can be found *uniquely* in the notebook.\n",
       "    // Note - this is a bit hacky, but it is done because the \"notebook_saving.Notebook\"\n",
       "    // IPython event is triggered only after the cells have been serialised, which for\n",
       "    // our purposes (turning an active figure into a static one), is too late.\n",
       "    var cells = IPython.notebook.get_cells();\n",
       "    var ncells = cells.length;\n",
       "    for (var i=0; i<ncells; i++) {\n",
       "        var cell = cells[i];\n",
       "        if (cell.cell_type === 'code'){\n",
       "            for (var j=0; j<cell.output_area.outputs.length; j++) {\n",
       "                var data = cell.output_area.outputs[j];\n",
       "                if (data.data) {\n",
       "                    // IPython >= 3 moved mimebundle to data attribute of output\n",
       "                    data = data.data;\n",
       "                }\n",
       "                if (data['text/html'] == html_output) {\n",
       "                    return [cell, data, j];\n",
       "                }\n",
       "            }\n",
       "        }\n",
       "    }\n",
       "}\n",
       "\n",
       "// Register the function which deals with the matplotlib target/channel.\n",
       "// The kernel may be null if the page has been refreshed.\n",
       "if (IPython.notebook.kernel != null) {\n",
       "    IPython.notebook.kernel.comm_manager.register_target('matplotlib', mpl.mpl_figure_comm);\n",
       "}\n"
      ],
      "text/plain": [
       "<IPython.core.display.Javascript object>"
      ]
     },
     "metadata": {},
     "output_type": "display_data"
    },
    {
     "data": {
      "text/html": [
       "<img src=\"data:image/png;base64,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\" width=\"640\">"
      ],
      "text/plain": [
       "<IPython.core.display.HTML object>"
      ]
     },
     "metadata": {},
     "output_type": "display_data"
    },
    {
     "data": {
      "application/vnd.jupyter.widget-view+json": {
       "model_id": "4796b56ce3f14b3485b96f3c8681b8d0",
       "version_major": 2,
       "version_minor": 0
      },
      "text/plain": [
       "A Jupyter Widget"
      ]
     },
     "metadata": {},
     "output_type": "display_data"
    },
    {
     "data": {
      "application/vnd.jupyter.widget-view+json": {
       "model_id": "c02bfef4ac31493284ce71f7c13630d9",
       "version_major": 2,
       "version_minor": 0
      },
      "text/plain": [
       "A Jupyter Widget"
      ]
     },
     "metadata": {},
     "output_type": "display_data"
    },
    {
     "data": {
      "application/vnd.jupyter.widget-view+json": {
       "model_id": "d5626d326b474ae08b1de9af336c6505",
       "version_major": 2,
       "version_minor": 0
      },
      "text/plain": [
       "A Jupyter Widget"
      ]
     },
     "metadata": {},
     "output_type": "display_data"
    },
    {
     "data": {
      "application/vnd.jupyter.widget-view+json": {
       "model_id": "489ede789c1d48dc81976c0b45bf058c",
       "version_major": 2,
       "version_minor": 0
      },
      "text/plain": [
       "A Jupyter Widget"
      ]
     },
     "metadata": {},
     "output_type": "display_data"
    },
    {
     "data": {
      "application/vnd.jupyter.widget-view+json": {
       "model_id": "fddcbeeda8674d4da975369b92aafc93",
       "version_major": 2,
       "version_minor": 0
      },
      "text/plain": [
       "A Jupyter Widget"
      ]
     },
     "metadata": {},
     "output_type": "display_data"
    },
    {
     "data": {
      "application/vnd.jupyter.widget-view+json": {
       "model_id": "2715248910f54ce885844419727a747e",
       "version_major": 2,
       "version_minor": 0
      },
      "text/plain": [
       "A Jupyter Widget"
      ]
     },
     "metadata": {},
     "output_type": "display_data"
    }
   ],
   "source": [
    "a = ca.read_amplicon('../calour/tests/data/test2.biom', \n",
    "                     '../calour/tests/data/test2.sample',\n",
    "                     feature_metadata_file='../calour/tests/data/test2.feature',\n",
    "                     min_reads=100, normalize=1000)\n",
    "\n",
    "b = a.plot(sample_field='group',\n",
    "           bary_fields=['oxygen'], \n",
    "           barx_fields=['group', 'categorical'],\n",
    "           barx_label_kwargs=[{'color': 'b'}, {'color': 'white', 'size': 9}],\n",
    "           cmap='inferno',\n",
    "           gui='jupyter',\n",
    "           title='simple figure');"
   ]
  },
  {
   "cell_type": "markdown",
   "metadata": {},
   "source": [
    "# Use a different color map"
   ]
  },
  {
   "cell_type": "code",
   "execution_count": 5,
   "metadata": {},
   "outputs": [
    {
     "data": {
      "application/javascript": [
       "/* Put everything inside the global mpl namespace */\n",
       "window.mpl = {};\n",
       "\n",
       "\n",
       "mpl.get_websocket_type = function() {\n",
       "    if (typeof(WebSocket) !== 'undefined') {\n",
       "        return WebSocket;\n",
       "    } else if (typeof(MozWebSocket) !== 'undefined') {\n",
       "        return MozWebSocket;\n",
       "    } else {\n",
       "        alert('Your browser does not have WebSocket support.' +\n",
       "              'Please try Chrome, Safari or Firefox ≥ 6. ' +\n",
       "              'Firefox 4 and 5 are also supported but you ' +\n",
       "              'have to enable WebSockets in about:config.');\n",
       "    };\n",
       "}\n",
       "\n",
       "mpl.figure = function(figure_id, websocket, ondownload, parent_element) {\n",
       "    this.id = figure_id;\n",
       "\n",
       "    this.ws = websocket;\n",
       "\n",
       "    this.supports_binary = (this.ws.binaryType != undefined);\n",
       "\n",
       "    if (!this.supports_binary) {\n",
       "        var warnings = document.getElementById(\"mpl-warnings\");\n",
       "        if (warnings) {\n",
       "            warnings.style.display = 'block';\n",
       "            warnings.textContent = (\n",
       "                \"This browser does not support binary websocket messages. \" +\n",
       "                    \"Performance may be slow.\");\n",
       "        }\n",
       "    }\n",
       "\n",
       "    this.imageObj = new Image();\n",
       "\n",
       "    this.context = undefined;\n",
       "    this.message = undefined;\n",
       "    this.canvas = undefined;\n",
       "    this.rubberband_canvas = undefined;\n",
       "    this.rubberband_context = undefined;\n",
       "    this.format_dropdown = undefined;\n",
       "\n",
       "    this.image_mode = 'full';\n",
       "\n",
       "    this.root = $('<div/>');\n",
       "    this._root_extra_style(this.root)\n",
       "    this.root.attr('style', 'display: inline-block');\n",
       "\n",
       "    $(parent_element).append(this.root);\n",
       "\n",
       "    this._init_header(this);\n",
       "    this._init_canvas(this);\n",
       "    this._init_toolbar(this);\n",
       "\n",
       "    var fig = this;\n",
       "\n",
       "    this.waiting = false;\n",
       "\n",
       "    this.ws.onopen =  function () {\n",
       "            fig.send_message(\"supports_binary\", {value: fig.supports_binary});\n",
       "            fig.send_message(\"send_image_mode\", {});\n",
       "            if (mpl.ratio != 1) {\n",
       "                fig.send_message(\"set_dpi_ratio\", {'dpi_ratio': mpl.ratio});\n",
       "            }\n",
       "            fig.send_message(\"refresh\", {});\n",
       "        }\n",
       "\n",
       "    this.imageObj.onload = function() {\n",
       "            if (fig.image_mode == 'full') {\n",
       "                // Full images could contain transparency (where diff images\n",
       "                // almost always do), so we need to clear the canvas so that\n",
       "                // there is no ghosting.\n",
       "                fig.context.clearRect(0, 0, fig.canvas.width, fig.canvas.height);\n",
       "            }\n",
       "            fig.context.drawImage(fig.imageObj, 0, 0);\n",
       "        };\n",
       "\n",
       "    this.imageObj.onunload = function() {\n",
       "        this.ws.close();\n",
       "    }\n",
       "\n",
       "    this.ws.onmessage = this._make_on_message_function(this);\n",
       "\n",
       "    this.ondownload = ondownload;\n",
       "}\n",
       "\n",
       "mpl.figure.prototype._init_header = function() {\n",
       "    var titlebar = $(\n",
       "        '<div class=\"ui-dialog-titlebar ui-widget-header ui-corner-all ' +\n",
       "        'ui-helper-clearfix\"/>');\n",
       "    var titletext = $(\n",
       "        '<div class=\"ui-dialog-title\" style=\"width: 100%; ' +\n",
       "        'text-align: center; padding: 3px;\"/>');\n",
       "    titlebar.append(titletext)\n",
       "    this.root.append(titlebar);\n",
       "    this.header = titletext[0];\n",
       "}\n",
       "\n",
       "\n",
       "\n",
       "mpl.figure.prototype._canvas_extra_style = function(canvas_div) {\n",
       "\n",
       "}\n",
       "\n",
       "\n",
       "mpl.figure.prototype._root_extra_style = function(canvas_div) {\n",
       "\n",
       "}\n",
       "\n",
       "mpl.figure.prototype._init_canvas = function() {\n",
       "    var fig = this;\n",
       "\n",
       "    var canvas_div = $('<div/>');\n",
       "\n",
       "    canvas_div.attr('style', 'position: relative; clear: both; outline: 0');\n",
       "\n",
       "    function canvas_keyboard_event(event) {\n",
       "        return fig.key_event(event, event['data']);\n",
       "    }\n",
       "\n",
       "    canvas_div.keydown('key_press', canvas_keyboard_event);\n",
       "    canvas_div.keyup('key_release', canvas_keyboard_event);\n",
       "    this.canvas_div = canvas_div\n",
       "    this._canvas_extra_style(canvas_div)\n",
       "    this.root.append(canvas_div);\n",
       "\n",
       "    var canvas = $('<canvas/>');\n",
       "    canvas.addClass('mpl-canvas');\n",
       "    canvas.attr('style', \"left: 0; top: 0; z-index: 0; outline: 0\")\n",
       "\n",
       "    this.canvas = canvas[0];\n",
       "    this.context = canvas[0].getContext(\"2d\");\n",
       "\n",
       "    var backingStore = this.context.backingStorePixelRatio ||\n",
       "\tthis.context.webkitBackingStorePixelRatio ||\n",
       "\tthis.context.mozBackingStorePixelRatio ||\n",
       "\tthis.context.msBackingStorePixelRatio ||\n",
       "\tthis.context.oBackingStorePixelRatio ||\n",
       "\tthis.context.backingStorePixelRatio || 1;\n",
       "\n",
       "    mpl.ratio = (window.devicePixelRatio || 1) / backingStore;\n",
       "\n",
       "    var rubberband = $('<canvas/>');\n",
       "    rubberband.attr('style', \"position: absolute; left: 0; top: 0; z-index: 1;\")\n",
       "\n",
       "    var pass_mouse_events = true;\n",
       "\n",
       "    canvas_div.resizable({\n",
       "        start: function(event, ui) {\n",
       "            pass_mouse_events = false;\n",
       "        },\n",
       "        resize: function(event, ui) {\n",
       "            fig.request_resize(ui.size.width, ui.size.height);\n",
       "        },\n",
       "        stop: function(event, ui) {\n",
       "            pass_mouse_events = true;\n",
       "            fig.request_resize(ui.size.width, ui.size.height);\n",
       "        },\n",
       "    });\n",
       "\n",
       "    function mouse_event_fn(event) {\n",
       "        if (pass_mouse_events)\n",
       "            return fig.mouse_event(event, event['data']);\n",
       "    }\n",
       "\n",
       "    rubberband.mousedown('button_press', mouse_event_fn);\n",
       "    rubberband.mouseup('button_release', mouse_event_fn);\n",
       "    // Throttle sequential mouse events to 1 every 20ms.\n",
       "    rubberband.mousemove('motion_notify', mouse_event_fn);\n",
       "\n",
       "    rubberband.mouseenter('figure_enter', mouse_event_fn);\n",
       "    rubberband.mouseleave('figure_leave', mouse_event_fn);\n",
       "\n",
       "    canvas_div.on(\"wheel\", function (event) {\n",
       "        event = event.originalEvent;\n",
       "        event['data'] = 'scroll'\n",
       "        if (event.deltaY < 0) {\n",
       "            event.step = 1;\n",
       "        } else {\n",
       "            event.step = -1;\n",
       "        }\n",
       "        mouse_event_fn(event);\n",
       "    });\n",
       "\n",
       "    canvas_div.append(canvas);\n",
       "    canvas_div.append(rubberband);\n",
       "\n",
       "    this.rubberband = rubberband;\n",
       "    this.rubberband_canvas = rubberband[0];\n",
       "    this.rubberband_context = rubberband[0].getContext(\"2d\");\n",
       "    this.rubberband_context.strokeStyle = \"#000000\";\n",
       "\n",
       "    this._resize_canvas = function(width, height) {\n",
       "        // Keep the size of the canvas, canvas container, and rubber band\n",
       "        // canvas in synch.\n",
       "        canvas_div.css('width', width)\n",
       "        canvas_div.css('height', height)\n",
       "\n",
       "        canvas.attr('width', width * mpl.ratio);\n",
       "        canvas.attr('height', height * mpl.ratio);\n",
       "        canvas.attr('style', 'width: ' + width + 'px; height: ' + height + 'px;');\n",
       "\n",
       "        rubberband.attr('width', width);\n",
       "        rubberband.attr('height', height);\n",
       "    }\n",
       "\n",
       "    // Set the figure to an initial 600x600px, this will subsequently be updated\n",
       "    // upon first draw.\n",
       "    this._resize_canvas(600, 600);\n",
       "\n",
       "    // Disable right mouse context menu.\n",
       "    $(this.rubberband_canvas).bind(\"contextmenu\",function(e){\n",
       "        return false;\n",
       "    });\n",
       "\n",
       "    function set_focus () {\n",
       "        canvas.focus();\n",
       "        canvas_div.focus();\n",
       "    }\n",
       "\n",
       "    window.setTimeout(set_focus, 100);\n",
       "}\n",
       "\n",
       "mpl.figure.prototype._init_toolbar = function() {\n",
       "    var fig = this;\n",
       "\n",
       "    var nav_element = $('<div/>')\n",
       "    nav_element.attr('style', 'width: 100%');\n",
       "    this.root.append(nav_element);\n",
       "\n",
       "    // Define a callback function for later on.\n",
       "    function toolbar_event(event) {\n",
       "        return fig.toolbar_button_onclick(event['data']);\n",
       "    }\n",
       "    function toolbar_mouse_event(event) {\n",
       "        return fig.toolbar_button_onmouseover(event['data']);\n",
       "    }\n",
       "\n",
       "    for(var toolbar_ind in mpl.toolbar_items) {\n",
       "        var name = mpl.toolbar_items[toolbar_ind][0];\n",
       "        var tooltip = mpl.toolbar_items[toolbar_ind][1];\n",
       "        var image = mpl.toolbar_items[toolbar_ind][2];\n",
       "        var method_name = mpl.toolbar_items[toolbar_ind][3];\n",
       "\n",
       "        if (!name) {\n",
       "            // put a spacer in here.\n",
       "            continue;\n",
       "        }\n",
       "        var button = $('<button/>');\n",
       "        button.addClass('ui-button ui-widget ui-state-default ui-corner-all ' +\n",
       "                        'ui-button-icon-only');\n",
       "        button.attr('role', 'button');\n",
       "        button.attr('aria-disabled', 'false');\n",
       "        button.click(method_name, toolbar_event);\n",
       "        button.mouseover(tooltip, toolbar_mouse_event);\n",
       "\n",
       "        var icon_img = $('<span/>');\n",
       "        icon_img.addClass('ui-button-icon-primary ui-icon');\n",
       "        icon_img.addClass(image);\n",
       "        icon_img.addClass('ui-corner-all');\n",
       "\n",
       "        var tooltip_span = $('<span/>');\n",
       "        tooltip_span.addClass('ui-button-text');\n",
       "        tooltip_span.html(tooltip);\n",
       "\n",
       "        button.append(icon_img);\n",
       "        button.append(tooltip_span);\n",
       "\n",
       "        nav_element.append(button);\n",
       "    }\n",
       "\n",
       "    var fmt_picker_span = $('<span/>');\n",
       "\n",
       "    var fmt_picker = $('<select/>');\n",
       "    fmt_picker.addClass('mpl-toolbar-option ui-widget ui-widget-content');\n",
       "    fmt_picker_span.append(fmt_picker);\n",
       "    nav_element.append(fmt_picker_span);\n",
       "    this.format_dropdown = fmt_picker[0];\n",
       "\n",
       "    for (var ind in mpl.extensions) {\n",
       "        var fmt = mpl.extensions[ind];\n",
       "        var option = $(\n",
       "            '<option/>', {selected: fmt === mpl.default_extension}).html(fmt);\n",
       "        fmt_picker.append(option)\n",
       "    }\n",
       "\n",
       "    // Add hover states to the ui-buttons\n",
       "    $( \".ui-button\" ).hover(\n",
       "        function() { $(this).addClass(\"ui-state-hover\");},\n",
       "        function() { $(this).removeClass(\"ui-state-hover\");}\n",
       "    );\n",
       "\n",
       "    var status_bar = $('<span class=\"mpl-message\"/>');\n",
       "    nav_element.append(status_bar);\n",
       "    this.message = status_bar[0];\n",
       "}\n",
       "\n",
       "mpl.figure.prototype.request_resize = function(x_pixels, y_pixels) {\n",
       "    // Request matplotlib to resize the figure. Matplotlib will then trigger a resize in the client,\n",
       "    // which will in turn request a refresh of the image.\n",
       "    this.send_message('resize', {'width': x_pixels, 'height': y_pixels});\n",
       "}\n",
       "\n",
       "mpl.figure.prototype.send_message = function(type, properties) {\n",
       "    properties['type'] = type;\n",
       "    properties['figure_id'] = this.id;\n",
       "    this.ws.send(JSON.stringify(properties));\n",
       "}\n",
       "\n",
       "mpl.figure.prototype.send_draw_message = function() {\n",
       "    if (!this.waiting) {\n",
       "        this.waiting = true;\n",
       "        this.ws.send(JSON.stringify({type: \"draw\", figure_id: this.id}));\n",
       "    }\n",
       "}\n",
       "\n",
       "\n",
       "mpl.figure.prototype.handle_save = function(fig, msg) {\n",
       "    var format_dropdown = fig.format_dropdown;\n",
       "    var format = format_dropdown.options[format_dropdown.selectedIndex].value;\n",
       "    fig.ondownload(fig, format);\n",
       "}\n",
       "\n",
       "\n",
       "mpl.figure.prototype.handle_resize = function(fig, msg) {\n",
       "    var size = msg['size'];\n",
       "    if (size[0] != fig.canvas.width || size[1] != fig.canvas.height) {\n",
       "        fig._resize_canvas(size[0], size[1]);\n",
       "        fig.send_message(\"refresh\", {});\n",
       "    };\n",
       "}\n",
       "\n",
       "mpl.figure.prototype.handle_rubberband = function(fig, msg) {\n",
       "    var x0 = msg['x0'] / mpl.ratio;\n",
       "    var y0 = (fig.canvas.height - msg['y0']) / mpl.ratio;\n",
       "    var x1 = msg['x1'] / mpl.ratio;\n",
       "    var y1 = (fig.canvas.height - msg['y1']) / mpl.ratio;\n",
       "    x0 = Math.floor(x0) + 0.5;\n",
       "    y0 = Math.floor(y0) + 0.5;\n",
       "    x1 = Math.floor(x1) + 0.5;\n",
       "    y1 = Math.floor(y1) + 0.5;\n",
       "    var min_x = Math.min(x0, x1);\n",
       "    var min_y = Math.min(y0, y1);\n",
       "    var width = Math.abs(x1 - x0);\n",
       "    var height = Math.abs(y1 - y0);\n",
       "\n",
       "    fig.rubberband_context.clearRect(\n",
       "        0, 0, fig.canvas.width, fig.canvas.height);\n",
       "\n",
       "    fig.rubberband_context.strokeRect(min_x, min_y, width, height);\n",
       "}\n",
       "\n",
       "mpl.figure.prototype.handle_figure_label = function(fig, msg) {\n",
       "    // Updates the figure title.\n",
       "    fig.header.textContent = msg['label'];\n",
       "}\n",
       "\n",
       "mpl.figure.prototype.handle_cursor = function(fig, msg) {\n",
       "    var cursor = msg['cursor'];\n",
       "    switch(cursor)\n",
       "    {\n",
       "    case 0:\n",
       "        cursor = 'pointer';\n",
       "        break;\n",
       "    case 1:\n",
       "        cursor = 'default';\n",
       "        break;\n",
       "    case 2:\n",
       "        cursor = 'crosshair';\n",
       "        break;\n",
       "    case 3:\n",
       "        cursor = 'move';\n",
       "        break;\n",
       "    }\n",
       "    fig.rubberband_canvas.style.cursor = cursor;\n",
       "}\n",
       "\n",
       "mpl.figure.prototype.handle_message = function(fig, msg) {\n",
       "    fig.message.textContent = msg['message'];\n",
       "}\n",
       "\n",
       "mpl.figure.prototype.handle_draw = function(fig, msg) {\n",
       "    // Request the server to send over a new figure.\n",
       "    fig.send_draw_message();\n",
       "}\n",
       "\n",
       "mpl.figure.prototype.handle_image_mode = function(fig, msg) {\n",
       "    fig.image_mode = msg['mode'];\n",
       "}\n",
       "\n",
       "mpl.figure.prototype.updated_canvas_event = function() {\n",
       "    // Called whenever the canvas gets updated.\n",
       "    this.send_message(\"ack\", {});\n",
       "}\n",
       "\n",
       "// A function to construct a web socket function for onmessage handling.\n",
       "// Called in the figure constructor.\n",
       "mpl.figure.prototype._make_on_message_function = function(fig) {\n",
       "    return function socket_on_message(evt) {\n",
       "        if (evt.data instanceof Blob) {\n",
       "            /* FIXME: We get \"Resource interpreted as Image but\n",
       "             * transferred with MIME type text/plain:\" errors on\n",
       "             * Chrome.  But how to set the MIME type?  It doesn't seem\n",
       "             * to be part of the websocket stream */\n",
       "            evt.data.type = \"image/png\";\n",
       "\n",
       "            /* Free the memory for the previous frames */\n",
       "            if (fig.imageObj.src) {\n",
       "                (window.URL || window.webkitURL).revokeObjectURL(\n",
       "                    fig.imageObj.src);\n",
       "            }\n",
       "\n",
       "            fig.imageObj.src = (window.URL || window.webkitURL).createObjectURL(\n",
       "                evt.data);\n",
       "            fig.updated_canvas_event();\n",
       "            fig.waiting = false;\n",
       "            return;\n",
       "        }\n",
       "        else if (typeof evt.data === 'string' && evt.data.slice(0, 21) == \"data:image/png;base64\") {\n",
       "            fig.imageObj.src = evt.data;\n",
       "            fig.updated_canvas_event();\n",
       "            fig.waiting = false;\n",
       "            return;\n",
       "        }\n",
       "\n",
       "        var msg = JSON.parse(evt.data);\n",
       "        var msg_type = msg['type'];\n",
       "\n",
       "        // Call the  \"handle_{type}\" callback, which takes\n",
       "        // the figure and JSON message as its only arguments.\n",
       "        try {\n",
       "            var callback = fig[\"handle_\" + msg_type];\n",
       "        } catch (e) {\n",
       "            console.log(\"No handler for the '\" + msg_type + \"' message type: \", msg);\n",
       "            return;\n",
       "        }\n",
       "\n",
       "        if (callback) {\n",
       "            try {\n",
       "                // console.log(\"Handling '\" + msg_type + \"' message: \", msg);\n",
       "                callback(fig, msg);\n",
       "            } catch (e) {\n",
       "                console.log(\"Exception inside the 'handler_\" + msg_type + \"' callback:\", e, e.stack, msg);\n",
       "            }\n",
       "        }\n",
       "    };\n",
       "}\n",
       "\n",
       "// from http://stackoverflow.com/questions/1114465/getting-mouse-location-in-canvas\n",
       "mpl.findpos = function(e) {\n",
       "    //this section is from http://www.quirksmode.org/js/events_properties.html\n",
       "    var targ;\n",
       "    if (!e)\n",
       "        e = window.event;\n",
       "    if (e.target)\n",
       "        targ = e.target;\n",
       "    else if (e.srcElement)\n",
       "        targ = e.srcElement;\n",
       "    if (targ.nodeType == 3) // defeat Safari bug\n",
       "        targ = targ.parentNode;\n",
       "\n",
       "    // jQuery normalizes the pageX and pageY\n",
       "    // pageX,Y are the mouse positions relative to the document\n",
       "    // offset() returns the position of the element relative to the document\n",
       "    var x = e.pageX - $(targ).offset().left;\n",
       "    var y = e.pageY - $(targ).offset().top;\n",
       "\n",
       "    return {\"x\": x, \"y\": y};\n",
       "};\n",
       "\n",
       "/*\n",
       " * return a copy of an object with only non-object keys\n",
       " * we need this to avoid circular references\n",
       " * http://stackoverflow.com/a/24161582/3208463\n",
       " */\n",
       "function simpleKeys (original) {\n",
       "  return Object.keys(original).reduce(function (obj, key) {\n",
       "    if (typeof original[key] !== 'object')\n",
       "        obj[key] = original[key]\n",
       "    return obj;\n",
       "  }, {});\n",
       "}\n",
       "\n",
       "mpl.figure.prototype.mouse_event = function(event, name) {\n",
       "    var canvas_pos = mpl.findpos(event)\n",
       "\n",
       "    if (name === 'button_press')\n",
       "    {\n",
       "        this.canvas.focus();\n",
       "        this.canvas_div.focus();\n",
       "    }\n",
       "\n",
       "    var x = canvas_pos.x * mpl.ratio;\n",
       "    var y = canvas_pos.y * mpl.ratio;\n",
       "\n",
       "    this.send_message(name, {x: x, y: y, button: event.button,\n",
       "                             step: event.step,\n",
       "                             guiEvent: simpleKeys(event)});\n",
       "\n",
       "    /* This prevents the web browser from automatically changing to\n",
       "     * the text insertion cursor when the button is pressed.  We want\n",
       "     * to control all of the cursor setting manually through the\n",
       "     * 'cursor' event from matplotlib */\n",
       "    event.preventDefault();\n",
       "    return false;\n",
       "}\n",
       "\n",
       "mpl.figure.prototype._key_event_extra = function(event, name) {\n",
       "    // Handle any extra behaviour associated with a key event\n",
       "}\n",
       "\n",
       "mpl.figure.prototype.key_event = function(event, name) {\n",
       "\n",
       "    // Prevent repeat events\n",
       "    if (name == 'key_press')\n",
       "    {\n",
       "        if (event.which === this._key)\n",
       "            return;\n",
       "        else\n",
       "            this._key = event.which;\n",
       "    }\n",
       "    if (name == 'key_release')\n",
       "        this._key = null;\n",
       "\n",
       "    var value = '';\n",
       "    if (event.ctrlKey && event.which != 17)\n",
       "        value += \"ctrl+\";\n",
       "    if (event.altKey && event.which != 18)\n",
       "        value += \"alt+\";\n",
       "    if (event.shiftKey && event.which != 16)\n",
       "        value += \"shift+\";\n",
       "\n",
       "    value += 'k';\n",
       "    value += event.which.toString();\n",
       "\n",
       "    this._key_event_extra(event, name);\n",
       "\n",
       "    this.send_message(name, {key: value,\n",
       "                             guiEvent: simpleKeys(event)});\n",
       "    return false;\n",
       "}\n",
       "\n",
       "mpl.figure.prototype.toolbar_button_onclick = function(name) {\n",
       "    if (name == 'download') {\n",
       "        this.handle_save(this, null);\n",
       "    } else {\n",
       "        this.send_message(\"toolbar_button\", {name: name});\n",
       "    }\n",
       "};\n",
       "\n",
       "mpl.figure.prototype.toolbar_button_onmouseover = function(tooltip) {\n",
       "    this.message.textContent = tooltip;\n",
       "};\n",
       "mpl.toolbar_items = [[\"Home\", \"Reset original view\", \"fa fa-home icon-home\", \"home\"], [\"Back\", \"Back to  previous view\", \"fa fa-arrow-left icon-arrow-left\", \"back\"], [\"Forward\", \"Forward to next view\", \"fa fa-arrow-right icon-arrow-right\", \"forward\"], [\"\", \"\", \"\", \"\"], [\"Pan\", \"Pan axes with left mouse, zoom with right\", \"fa fa-arrows icon-move\", \"pan\"], [\"Zoom\", \"Zoom to rectangle\", \"fa fa-square-o icon-check-empty\", \"zoom\"], [\"\", \"\", \"\", \"\"], [\"Download\", \"Download plot\", \"fa fa-floppy-o icon-save\", \"download\"]];\n",
       "\n",
       "mpl.extensions = [\"eps\", \"pdf\", \"png\", \"ps\", \"raw\", \"svg\"];\n",
       "\n",
       "mpl.default_extension = \"png\";var comm_websocket_adapter = function(comm) {\n",
       "    // Create a \"websocket\"-like object which calls the given IPython comm\n",
       "    // object with the appropriate methods. Currently this is a non binary\n",
       "    // socket, so there is still some room for performance tuning.\n",
       "    var ws = {};\n",
       "\n",
       "    ws.close = function() {\n",
       "        comm.close()\n",
       "    };\n",
       "    ws.send = function(m) {\n",
       "        //console.log('sending', m);\n",
       "        comm.send(m);\n",
       "    };\n",
       "    // Register the callback with on_msg.\n",
       "    comm.on_msg(function(msg) {\n",
       "        //console.log('receiving', msg['content']['data'], msg);\n",
       "        // Pass the mpl event to the overriden (by mpl) onmessage function.\n",
       "        ws.onmessage(msg['content']['data'])\n",
       "    });\n",
       "    return ws;\n",
       "}\n",
       "\n",
       "mpl.mpl_figure_comm = function(comm, msg) {\n",
       "    // This is the function which gets called when the mpl process\n",
       "    // starts-up an IPython Comm through the \"matplotlib\" channel.\n",
       "\n",
       "    var id = msg.content.data.id;\n",
       "    // Get hold of the div created by the display call when the Comm\n",
       "    // socket was opened in Python.\n",
       "    var element = $(\"#\" + id);\n",
       "    var ws_proxy = comm_websocket_adapter(comm)\n",
       "\n",
       "    function ondownload(figure, format) {\n",
       "        window.open(figure.imageObj.src);\n",
       "    }\n",
       "\n",
       "    var fig = new mpl.figure(id, ws_proxy,\n",
       "                           ondownload,\n",
       "                           element.get(0));\n",
       "\n",
       "    // Call onopen now - mpl needs it, as it is assuming we've passed it a real\n",
       "    // web socket which is closed, not our websocket->open comm proxy.\n",
       "    ws_proxy.onopen();\n",
       "\n",
       "    fig.parent_element = element.get(0);\n",
       "    fig.cell_info = mpl.find_output_cell(\"<div id='\" + id + \"'></div>\");\n",
       "    if (!fig.cell_info) {\n",
       "        console.error(\"Failed to find cell for figure\", id, fig);\n",
       "        return;\n",
       "    }\n",
       "\n",
       "    var output_index = fig.cell_info[2]\n",
       "    var cell = fig.cell_info[0];\n",
       "\n",
       "};\n",
       "\n",
       "mpl.figure.prototype.handle_close = function(fig, msg) {\n",
       "    var width = fig.canvas.width/mpl.ratio\n",
       "    fig.root.unbind('remove')\n",
       "\n",
       "    // Update the output cell to use the data from the current canvas.\n",
       "    fig.push_to_output();\n",
       "    var dataURL = fig.canvas.toDataURL();\n",
       "    // Re-enable the keyboard manager in IPython - without this line, in FF,\n",
       "    // the notebook keyboard shortcuts fail.\n",
       "    IPython.keyboard_manager.enable()\n",
       "    $(fig.parent_element).html('<img src=\"' + dataURL + '\" width=\"' + width + '\">');\n",
       "    fig.close_ws(fig, msg);\n",
       "}\n",
       "\n",
       "mpl.figure.prototype.close_ws = function(fig, msg){\n",
       "    fig.send_message('closing', msg);\n",
       "    // fig.ws.close()\n",
       "}\n",
       "\n",
       "mpl.figure.prototype.push_to_output = function(remove_interactive) {\n",
       "    // Turn the data on the canvas into data in the output cell.\n",
       "    var width = this.canvas.width/mpl.ratio\n",
       "    var dataURL = this.canvas.toDataURL();\n",
       "    this.cell_info[1]['text/html'] = '<img src=\"' + dataURL + '\" width=\"' + width + '\">';\n",
       "}\n",
       "\n",
       "mpl.figure.prototype.updated_canvas_event = function() {\n",
       "    // Tell IPython that the notebook contents must change.\n",
       "    IPython.notebook.set_dirty(true);\n",
       "    this.send_message(\"ack\", {});\n",
       "    var fig = this;\n",
       "    // Wait a second, then push the new image to the DOM so\n",
       "    // that it is saved nicely (might be nice to debounce this).\n",
       "    setTimeout(function () { fig.push_to_output() }, 1000);\n",
       "}\n",
       "\n",
       "mpl.figure.prototype._init_toolbar = function() {\n",
       "    var fig = this;\n",
       "\n",
       "    var nav_element = $('<div/>')\n",
       "    nav_element.attr('style', 'width: 100%');\n",
       "    this.root.append(nav_element);\n",
       "\n",
       "    // Define a callback function for later on.\n",
       "    function toolbar_event(event) {\n",
       "        return fig.toolbar_button_onclick(event['data']);\n",
       "    }\n",
       "    function toolbar_mouse_event(event) {\n",
       "        return fig.toolbar_button_onmouseover(event['data']);\n",
       "    }\n",
       "\n",
       "    for(var toolbar_ind in mpl.toolbar_items){\n",
       "        var name = mpl.toolbar_items[toolbar_ind][0];\n",
       "        var tooltip = mpl.toolbar_items[toolbar_ind][1];\n",
       "        var image = mpl.toolbar_items[toolbar_ind][2];\n",
       "        var method_name = mpl.toolbar_items[toolbar_ind][3];\n",
       "\n",
       "        if (!name) { continue; };\n",
       "\n",
       "        var button = $('<button class=\"btn btn-default\" href=\"#\" title=\"' + name + '\"><i class=\"fa ' + image + ' fa-lg\"></i></button>');\n",
       "        button.click(method_name, toolbar_event);\n",
       "        button.mouseover(tooltip, toolbar_mouse_event);\n",
       "        nav_element.append(button);\n",
       "    }\n",
       "\n",
       "    // Add the status bar.\n",
       "    var status_bar = $('<span class=\"mpl-message\" style=\"text-align:right; float: right;\"/>');\n",
       "    nav_element.append(status_bar);\n",
       "    this.message = status_bar[0];\n",
       "\n",
       "    // Add the close button to the window.\n",
       "    var buttongrp = $('<div class=\"btn-group inline pull-right\"></div>');\n",
       "    var button = $('<button class=\"btn btn-mini btn-primary\" href=\"#\" title=\"Stop Interaction\"><i class=\"fa fa-power-off icon-remove icon-large\"></i></button>');\n",
       "    button.click(function (evt) { fig.handle_close(fig, {}); } );\n",
       "    button.mouseover('Stop Interaction', toolbar_mouse_event);\n",
       "    buttongrp.append(button);\n",
       "    var titlebar = this.root.find($('.ui-dialog-titlebar'));\n",
       "    titlebar.prepend(buttongrp);\n",
       "}\n",
       "\n",
       "mpl.figure.prototype._root_extra_style = function(el){\n",
       "    var fig = this\n",
       "    el.on(\"remove\", function(){\n",
       "\tfig.close_ws(fig, {});\n",
       "    });\n",
       "}\n",
       "\n",
       "mpl.figure.prototype._canvas_extra_style = function(el){\n",
       "    // this is important to make the div 'focusable\n",
       "    el.attr('tabindex', 0)\n",
       "    // reach out to IPython and tell the keyboard manager to turn it's self\n",
       "    // off when our div gets focus\n",
       "\n",
       "    // location in version 3\n",
       "    if (IPython.notebook.keyboard_manager) {\n",
       "        IPython.notebook.keyboard_manager.register_events(el);\n",
       "    }\n",
       "    else {\n",
       "        // location in version 2\n",
       "        IPython.keyboard_manager.register_events(el);\n",
       "    }\n",
       "\n",
       "}\n",
       "\n",
       "mpl.figure.prototype._key_event_extra = function(event, name) {\n",
       "    var manager = IPython.notebook.keyboard_manager;\n",
       "    if (!manager)\n",
       "        manager = IPython.keyboard_manager;\n",
       "\n",
       "    // Check for shift+enter\n",
       "    if (event.shiftKey && event.which == 13) {\n",
       "        this.canvas_div.blur();\n",
       "        // select the cell after this one\n",
       "        var index = IPython.notebook.find_cell_index(this.cell_info[0]);\n",
       "        IPython.notebook.select(index + 1);\n",
       "    }\n",
       "}\n",
       "\n",
       "mpl.figure.prototype.handle_save = function(fig, msg) {\n",
       "    fig.ondownload(fig, null);\n",
       "}\n",
       "\n",
       "\n",
       "mpl.find_output_cell = function(html_output) {\n",
       "    // Return the cell and output element which can be found *uniquely* in the notebook.\n",
       "    // Note - this is a bit hacky, but it is done because the \"notebook_saving.Notebook\"\n",
       "    // IPython event is triggered only after the cells have been serialised, which for\n",
       "    // our purposes (turning an active figure into a static one), is too late.\n",
       "    var cells = IPython.notebook.get_cells();\n",
       "    var ncells = cells.length;\n",
       "    for (var i=0; i<ncells; i++) {\n",
       "        var cell = cells[i];\n",
       "        if (cell.cell_type === 'code'){\n",
       "            for (var j=0; j<cell.output_area.outputs.length; j++) {\n",
       "                var data = cell.output_area.outputs[j];\n",
       "                if (data.data) {\n",
       "                    // IPython >= 3 moved mimebundle to data attribute of output\n",
       "                    data = data.data;\n",
       "                }\n",
       "                if (data['text/html'] == html_output) {\n",
       "                    return [cell, data, j];\n",
       "                }\n",
       "            }\n",
       "        }\n",
       "    }\n",
       "}\n",
       "\n",
       "// Register the function which deals with the matplotlib target/channel.\n",
       "// The kernel may be null if the page has been refreshed.\n",
       "if (IPython.notebook.kernel != null) {\n",
       "    IPython.notebook.kernel.comm_manager.register_target('matplotlib', mpl.mpl_figure_comm);\n",
       "}\n"
      ],
      "text/plain": [
       "<IPython.core.display.Javascript object>"
      ]
     },
     "metadata": {},
     "output_type": "display_data"
    },
    {
     "data": {
      "text/html": [
       "<img src=\"data:image/png;base64,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\" width=\"640\">"
      ],
      "text/plain": [
       "<IPython.core.display.HTML object>"
      ]
     },
     "metadata": {},
     "output_type": "display_data"
    },
    {
     "data": {
      "application/vnd.jupyter.widget-view+json": {
       "model_id": "7b523be8f8674136a56556e091eb6102",
       "version_major": 2,
       "version_minor": 0
      },
      "text/plain": [
       "A Jupyter Widget"
      ]
     },
     "metadata": {},
     "output_type": "display_data"
    },
    {
     "data": {
      "application/vnd.jupyter.widget-view+json": {
       "model_id": "0e479cb65d1f4c10a4487999af6e25dc",
       "version_major": 2,
       "version_minor": 0
      },
      "text/plain": [
       "A Jupyter Widget"
      ]
     },
     "metadata": {},
     "output_type": "display_data"
    },
    {
     "data": {
      "application/vnd.jupyter.widget-view+json": {
       "model_id": "3c35e565499147569f9bcaa51b42566c",
       "version_major": 2,
       "version_minor": 0
      },
      "text/plain": [
       "A Jupyter Widget"
      ]
     },
     "metadata": {},
     "output_type": "display_data"
    },
    {
     "data": {
      "application/vnd.jupyter.widget-view+json": {
       "model_id": "9077200b3a754477aac92fd808181394",
       "version_major": 2,
       "version_minor": 0
      },
      "text/plain": [
       "A Jupyter Widget"
      ]
     },
     "metadata": {},
     "output_type": "display_data"
    },
    {
     "data": {
      "application/vnd.jupyter.widget-view+json": {
       "model_id": "6b3c6100d8224121a98cd11107902fd3",
       "version_major": 2,
       "version_minor": 0
      },
      "text/plain": [
       "A Jupyter Widget"
      ]
     },
     "metadata": {},
     "output_type": "display_data"
    },
    {
     "data": {
      "application/vnd.jupyter.widget-view+json": {
       "model_id": "5b3e608a0da944ee93794a5ed1974411",
       "version_major": 2,
       "version_minor": 0
      },
      "text/plain": [
       "A Jupyter Widget"
      ]
     },
     "metadata": {},
     "output_type": "display_data"
    }
   ],
   "source": [
    "a = ca.read_amplicon('../calour/tests/data/test2.biom',\n",
    "                     '../calour/tests/data/test2.sample', \n",
    "                     feature_metadata_file='../calour/tests/data/test2.feature',\n",
    "                     min_reads=100, normalize=None)\n",
    "\n",
    "b = a.plot(sample_field='group', feature_field='taxonomy',\n",
    "           yticklabel_kwargs={'size': 9},\n",
    "           bary_fields=['oxygen'], \n",
    "           barx_fields=['group', 'categorical'],\n",
    "           barx_label_kwargs=[{'color': 'b'}, {'color': 'white', 'size': 9}],\n",
    "           cmap='viridis',\n",
    "           gui='jupyter',\n",
    "           title='simple figure');"
   ]
  },
  {
   "cell_type": "markdown",
   "metadata": {},
   "source": [
    "# No log scale of heatmap color"
   ]
  },
  {
   "cell_type": "code",
   "execution_count": 6,
   "metadata": {},
   "outputs": [
    {
     "data": {
      "application/javascript": [
       "/* Put everything inside the global mpl namespace */\n",
       "window.mpl = {};\n",
       "\n",
       "\n",
       "mpl.get_websocket_type = function() {\n",
       "    if (typeof(WebSocket) !== 'undefined') {\n",
       "        return WebSocket;\n",
       "    } else if (typeof(MozWebSocket) !== 'undefined') {\n",
       "        return MozWebSocket;\n",
       "    } else {\n",
       "        alert('Your browser does not have WebSocket support.' +\n",
       "              'Please try Chrome, Safari or Firefox ≥ 6. ' +\n",
       "              'Firefox 4 and 5 are also supported but you ' +\n",
       "              'have to enable WebSockets in about:config.');\n",
       "    };\n",
       "}\n",
       "\n",
       "mpl.figure = function(figure_id, websocket, ondownload, parent_element) {\n",
       "    this.id = figure_id;\n",
       "\n",
       "    this.ws = websocket;\n",
       "\n",
       "    this.supports_binary = (this.ws.binaryType != undefined);\n",
       "\n",
       "    if (!this.supports_binary) {\n",
       "        var warnings = document.getElementById(\"mpl-warnings\");\n",
       "        if (warnings) {\n",
       "            warnings.style.display = 'block';\n",
       "            warnings.textContent = (\n",
       "                \"This browser does not support binary websocket messages. \" +\n",
       "                    \"Performance may be slow.\");\n",
       "        }\n",
       "    }\n",
       "\n",
       "    this.imageObj = new Image();\n",
       "\n",
       "    this.context = undefined;\n",
       "    this.message = undefined;\n",
       "    this.canvas = undefined;\n",
       "    this.rubberband_canvas = undefined;\n",
       "    this.rubberband_context = undefined;\n",
       "    this.format_dropdown = undefined;\n",
       "\n",
       "    this.image_mode = 'full';\n",
       "\n",
       "    this.root = $('<div/>');\n",
       "    this._root_extra_style(this.root)\n",
       "    this.root.attr('style', 'display: inline-block');\n",
       "\n",
       "    $(parent_element).append(this.root);\n",
       "\n",
       "    this._init_header(this);\n",
       "    this._init_canvas(this);\n",
       "    this._init_toolbar(this);\n",
       "\n",
       "    var fig = this;\n",
       "\n",
       "    this.waiting = false;\n",
       "\n",
       "    this.ws.onopen =  function () {\n",
       "            fig.send_message(\"supports_binary\", {value: fig.supports_binary});\n",
       "            fig.send_message(\"send_image_mode\", {});\n",
       "            if (mpl.ratio != 1) {\n",
       "                fig.send_message(\"set_dpi_ratio\", {'dpi_ratio': mpl.ratio});\n",
       "            }\n",
       "            fig.send_message(\"refresh\", {});\n",
       "        }\n",
       "\n",
       "    this.imageObj.onload = function() {\n",
       "            if (fig.image_mode == 'full') {\n",
       "                // Full images could contain transparency (where diff images\n",
       "                // almost always do), so we need to clear the canvas so that\n",
       "                // there is no ghosting.\n",
       "                fig.context.clearRect(0, 0, fig.canvas.width, fig.canvas.height);\n",
       "            }\n",
       "            fig.context.drawImage(fig.imageObj, 0, 0);\n",
       "        };\n",
       "\n",
       "    this.imageObj.onunload = function() {\n",
       "        this.ws.close();\n",
       "    }\n",
       "\n",
       "    this.ws.onmessage = this._make_on_message_function(this);\n",
       "\n",
       "    this.ondownload = ondownload;\n",
       "}\n",
       "\n",
       "mpl.figure.prototype._init_header = function() {\n",
       "    var titlebar = $(\n",
       "        '<div class=\"ui-dialog-titlebar ui-widget-header ui-corner-all ' +\n",
       "        'ui-helper-clearfix\"/>');\n",
       "    var titletext = $(\n",
       "        '<div class=\"ui-dialog-title\" style=\"width: 100%; ' +\n",
       "        'text-align: center; padding: 3px;\"/>');\n",
       "    titlebar.append(titletext)\n",
       "    this.root.append(titlebar);\n",
       "    this.header = titletext[0];\n",
       "}\n",
       "\n",
       "\n",
       "\n",
       "mpl.figure.prototype._canvas_extra_style = function(canvas_div) {\n",
       "\n",
       "}\n",
       "\n",
       "\n",
       "mpl.figure.prototype._root_extra_style = function(canvas_div) {\n",
       "\n",
       "}\n",
       "\n",
       "mpl.figure.prototype._init_canvas = function() {\n",
       "    var fig = this;\n",
       "\n",
       "    var canvas_div = $('<div/>');\n",
       "\n",
       "    canvas_div.attr('style', 'position: relative; clear: both; outline: 0');\n",
       "\n",
       "    function canvas_keyboard_event(event) {\n",
       "        return fig.key_event(event, event['data']);\n",
       "    }\n",
       "\n",
       "    canvas_div.keydown('key_press', canvas_keyboard_event);\n",
       "    canvas_div.keyup('key_release', canvas_keyboard_event);\n",
       "    this.canvas_div = canvas_div\n",
       "    this._canvas_extra_style(canvas_div)\n",
       "    this.root.append(canvas_div);\n",
       "\n",
       "    var canvas = $('<canvas/>');\n",
       "    canvas.addClass('mpl-canvas');\n",
       "    canvas.attr('style', \"left: 0; top: 0; z-index: 0; outline: 0\")\n",
       "\n",
       "    this.canvas = canvas[0];\n",
       "    this.context = canvas[0].getContext(\"2d\");\n",
       "\n",
       "    var backingStore = this.context.backingStorePixelRatio ||\n",
       "\tthis.context.webkitBackingStorePixelRatio ||\n",
       "\tthis.context.mozBackingStorePixelRatio ||\n",
       "\tthis.context.msBackingStorePixelRatio ||\n",
       "\tthis.context.oBackingStorePixelRatio ||\n",
       "\tthis.context.backingStorePixelRatio || 1;\n",
       "\n",
       "    mpl.ratio = (window.devicePixelRatio || 1) / backingStore;\n",
       "\n",
       "    var rubberband = $('<canvas/>');\n",
       "    rubberband.attr('style', \"position: absolute; left: 0; top: 0; z-index: 1;\")\n",
       "\n",
       "    var pass_mouse_events = true;\n",
       "\n",
       "    canvas_div.resizable({\n",
       "        start: function(event, ui) {\n",
       "            pass_mouse_events = false;\n",
       "        },\n",
       "        resize: function(event, ui) {\n",
       "            fig.request_resize(ui.size.width, ui.size.height);\n",
       "        },\n",
       "        stop: function(event, ui) {\n",
       "            pass_mouse_events = true;\n",
       "            fig.request_resize(ui.size.width, ui.size.height);\n",
       "        },\n",
       "    });\n",
       "\n",
       "    function mouse_event_fn(event) {\n",
       "        if (pass_mouse_events)\n",
       "            return fig.mouse_event(event, event['data']);\n",
       "    }\n",
       "\n",
       "    rubberband.mousedown('button_press', mouse_event_fn);\n",
       "    rubberband.mouseup('button_release', mouse_event_fn);\n",
       "    // Throttle sequential mouse events to 1 every 20ms.\n",
       "    rubberband.mousemove('motion_notify', mouse_event_fn);\n",
       "\n",
       "    rubberband.mouseenter('figure_enter', mouse_event_fn);\n",
       "    rubberband.mouseleave('figure_leave', mouse_event_fn);\n",
       "\n",
       "    canvas_div.on(\"wheel\", function (event) {\n",
       "        event = event.originalEvent;\n",
       "        event['data'] = 'scroll'\n",
       "        if (event.deltaY < 0) {\n",
       "            event.step = 1;\n",
       "        } else {\n",
       "            event.step = -1;\n",
       "        }\n",
       "        mouse_event_fn(event);\n",
       "    });\n",
       "\n",
       "    canvas_div.append(canvas);\n",
       "    canvas_div.append(rubberband);\n",
       "\n",
       "    this.rubberband = rubberband;\n",
       "    this.rubberband_canvas = rubberband[0];\n",
       "    this.rubberband_context = rubberband[0].getContext(\"2d\");\n",
       "    this.rubberband_context.strokeStyle = \"#000000\";\n",
       "\n",
       "    this._resize_canvas = function(width, height) {\n",
       "        // Keep the size of the canvas, canvas container, and rubber band\n",
       "        // canvas in synch.\n",
       "        canvas_div.css('width', width)\n",
       "        canvas_div.css('height', height)\n",
       "\n",
       "        canvas.attr('width', width * mpl.ratio);\n",
       "        canvas.attr('height', height * mpl.ratio);\n",
       "        canvas.attr('style', 'width: ' + width + 'px; height: ' + height + 'px;');\n",
       "\n",
       "        rubberband.attr('width', width);\n",
       "        rubberband.attr('height', height);\n",
       "    }\n",
       "\n",
       "    // Set the figure to an initial 600x600px, this will subsequently be updated\n",
       "    // upon first draw.\n",
       "    this._resize_canvas(600, 600);\n",
       "\n",
       "    // Disable right mouse context menu.\n",
       "    $(this.rubberband_canvas).bind(\"contextmenu\",function(e){\n",
       "        return false;\n",
       "    });\n",
       "\n",
       "    function set_focus () {\n",
       "        canvas.focus();\n",
       "        canvas_div.focus();\n",
       "    }\n",
       "\n",
       "    window.setTimeout(set_focus, 100);\n",
       "}\n",
       "\n",
       "mpl.figure.prototype._init_toolbar = function() {\n",
       "    var fig = this;\n",
       "\n",
       "    var nav_element = $('<div/>')\n",
       "    nav_element.attr('style', 'width: 100%');\n",
       "    this.root.append(nav_element);\n",
       "\n",
       "    // Define a callback function for later on.\n",
       "    function toolbar_event(event) {\n",
       "        return fig.toolbar_button_onclick(event['data']);\n",
       "    }\n",
       "    function toolbar_mouse_event(event) {\n",
       "        return fig.toolbar_button_onmouseover(event['data']);\n",
       "    }\n",
       "\n",
       "    for(var toolbar_ind in mpl.toolbar_items) {\n",
       "        var name = mpl.toolbar_items[toolbar_ind][0];\n",
       "        var tooltip = mpl.toolbar_items[toolbar_ind][1];\n",
       "        var image = mpl.toolbar_items[toolbar_ind][2];\n",
       "        var method_name = mpl.toolbar_items[toolbar_ind][3];\n",
       "\n",
       "        if (!name) {\n",
       "            // put a spacer in here.\n",
       "            continue;\n",
       "        }\n",
       "        var button = $('<button/>');\n",
       "        button.addClass('ui-button ui-widget ui-state-default ui-corner-all ' +\n",
       "                        'ui-button-icon-only');\n",
       "        button.attr('role', 'button');\n",
       "        button.attr('aria-disabled', 'false');\n",
       "        button.click(method_name, toolbar_event);\n",
       "        button.mouseover(tooltip, toolbar_mouse_event);\n",
       "\n",
       "        var icon_img = $('<span/>');\n",
       "        icon_img.addClass('ui-button-icon-primary ui-icon');\n",
       "        icon_img.addClass(image);\n",
       "        icon_img.addClass('ui-corner-all');\n",
       "\n",
       "        var tooltip_span = $('<span/>');\n",
       "        tooltip_span.addClass('ui-button-text');\n",
       "        tooltip_span.html(tooltip);\n",
       "\n",
       "        button.append(icon_img);\n",
       "        button.append(tooltip_span);\n",
       "\n",
       "        nav_element.append(button);\n",
       "    }\n",
       "\n",
       "    var fmt_picker_span = $('<span/>');\n",
       "\n",
       "    var fmt_picker = $('<select/>');\n",
       "    fmt_picker.addClass('mpl-toolbar-option ui-widget ui-widget-content');\n",
       "    fmt_picker_span.append(fmt_picker);\n",
       "    nav_element.append(fmt_picker_span);\n",
       "    this.format_dropdown = fmt_picker[0];\n",
       "\n",
       "    for (var ind in mpl.extensions) {\n",
       "        var fmt = mpl.extensions[ind];\n",
       "        var option = $(\n",
       "            '<option/>', {selected: fmt === mpl.default_extension}).html(fmt);\n",
       "        fmt_picker.append(option)\n",
       "    }\n",
       "\n",
       "    // Add hover states to the ui-buttons\n",
       "    $( \".ui-button\" ).hover(\n",
       "        function() { $(this).addClass(\"ui-state-hover\");},\n",
       "        function() { $(this).removeClass(\"ui-state-hover\");}\n",
       "    );\n",
       "\n",
       "    var status_bar = $('<span class=\"mpl-message\"/>');\n",
       "    nav_element.append(status_bar);\n",
       "    this.message = status_bar[0];\n",
       "}\n",
       "\n",
       "mpl.figure.prototype.request_resize = function(x_pixels, y_pixels) {\n",
       "    // Request matplotlib to resize the figure. Matplotlib will then trigger a resize in the client,\n",
       "    // which will in turn request a refresh of the image.\n",
       "    this.send_message('resize', {'width': x_pixels, 'height': y_pixels});\n",
       "}\n",
       "\n",
       "mpl.figure.prototype.send_message = function(type, properties) {\n",
       "    properties['type'] = type;\n",
       "    properties['figure_id'] = this.id;\n",
       "    this.ws.send(JSON.stringify(properties));\n",
       "}\n",
       "\n",
       "mpl.figure.prototype.send_draw_message = function() {\n",
       "    if (!this.waiting) {\n",
       "        this.waiting = true;\n",
       "        this.ws.send(JSON.stringify({type: \"draw\", figure_id: this.id}));\n",
       "    }\n",
       "}\n",
       "\n",
       "\n",
       "mpl.figure.prototype.handle_save = function(fig, msg) {\n",
       "    var format_dropdown = fig.format_dropdown;\n",
       "    var format = format_dropdown.options[format_dropdown.selectedIndex].value;\n",
       "    fig.ondownload(fig, format);\n",
       "}\n",
       "\n",
       "\n",
       "mpl.figure.prototype.handle_resize = function(fig, msg) {\n",
       "    var size = msg['size'];\n",
       "    if (size[0] != fig.canvas.width || size[1] != fig.canvas.height) {\n",
       "        fig._resize_canvas(size[0], size[1]);\n",
       "        fig.send_message(\"refresh\", {});\n",
       "    };\n",
       "}\n",
       "\n",
       "mpl.figure.prototype.handle_rubberband = function(fig, msg) {\n",
       "    var x0 = msg['x0'] / mpl.ratio;\n",
       "    var y0 = (fig.canvas.height - msg['y0']) / mpl.ratio;\n",
       "    var x1 = msg['x1'] / mpl.ratio;\n",
       "    var y1 = (fig.canvas.height - msg['y1']) / mpl.ratio;\n",
       "    x0 = Math.floor(x0) + 0.5;\n",
       "    y0 = Math.floor(y0) + 0.5;\n",
       "    x1 = Math.floor(x1) + 0.5;\n",
       "    y1 = Math.floor(y1) + 0.5;\n",
       "    var min_x = Math.min(x0, x1);\n",
       "    var min_y = Math.min(y0, y1);\n",
       "    var width = Math.abs(x1 - x0);\n",
       "    var height = Math.abs(y1 - y0);\n",
       "\n",
       "    fig.rubberband_context.clearRect(\n",
       "        0, 0, fig.canvas.width, fig.canvas.height);\n",
       "\n",
       "    fig.rubberband_context.strokeRect(min_x, min_y, width, height);\n",
       "}\n",
       "\n",
       "mpl.figure.prototype.handle_figure_label = function(fig, msg) {\n",
       "    // Updates the figure title.\n",
       "    fig.header.textContent = msg['label'];\n",
       "}\n",
       "\n",
       "mpl.figure.prototype.handle_cursor = function(fig, msg) {\n",
       "    var cursor = msg['cursor'];\n",
       "    switch(cursor)\n",
       "    {\n",
       "    case 0:\n",
       "        cursor = 'pointer';\n",
       "        break;\n",
       "    case 1:\n",
       "        cursor = 'default';\n",
       "        break;\n",
       "    case 2:\n",
       "        cursor = 'crosshair';\n",
       "        break;\n",
       "    case 3:\n",
       "        cursor = 'move';\n",
       "        break;\n",
       "    }\n",
       "    fig.rubberband_canvas.style.cursor = cursor;\n",
       "}\n",
       "\n",
       "mpl.figure.prototype.handle_message = function(fig, msg) {\n",
       "    fig.message.textContent = msg['message'];\n",
       "}\n",
       "\n",
       "mpl.figure.prototype.handle_draw = function(fig, msg) {\n",
       "    // Request the server to send over a new figure.\n",
       "    fig.send_draw_message();\n",
       "}\n",
       "\n",
       "mpl.figure.prototype.handle_image_mode = function(fig, msg) {\n",
       "    fig.image_mode = msg['mode'];\n",
       "}\n",
       "\n",
       "mpl.figure.prototype.updated_canvas_event = function() {\n",
       "    // Called whenever the canvas gets updated.\n",
       "    this.send_message(\"ack\", {});\n",
       "}\n",
       "\n",
       "// A function to construct a web socket function for onmessage handling.\n",
       "// Called in the figure constructor.\n",
       "mpl.figure.prototype._make_on_message_function = function(fig) {\n",
       "    return function socket_on_message(evt) {\n",
       "        if (evt.data instanceof Blob) {\n",
       "            /* FIXME: We get \"Resource interpreted as Image but\n",
       "             * transferred with MIME type text/plain:\" errors on\n",
       "             * Chrome.  But how to set the MIME type?  It doesn't seem\n",
       "             * to be part of the websocket stream */\n",
       "            evt.data.type = \"image/png\";\n",
       "\n",
       "            /* Free the memory for the previous frames */\n",
       "            if (fig.imageObj.src) {\n",
       "                (window.URL || window.webkitURL).revokeObjectURL(\n",
       "                    fig.imageObj.src);\n",
       "            }\n",
       "\n",
       "            fig.imageObj.src = (window.URL || window.webkitURL).createObjectURL(\n",
       "                evt.data);\n",
       "            fig.updated_canvas_event();\n",
       "            fig.waiting = false;\n",
       "            return;\n",
       "        }\n",
       "        else if (typeof evt.data === 'string' && evt.data.slice(0, 21) == \"data:image/png;base64\") {\n",
       "            fig.imageObj.src = evt.data;\n",
       "            fig.updated_canvas_event();\n",
       "            fig.waiting = false;\n",
       "            return;\n",
       "        }\n",
       "\n",
       "        var msg = JSON.parse(evt.data);\n",
       "        var msg_type = msg['type'];\n",
       "\n",
       "        // Call the  \"handle_{type}\" callback, which takes\n",
       "        // the figure and JSON message as its only arguments.\n",
       "        try {\n",
       "            var callback = fig[\"handle_\" + msg_type];\n",
       "        } catch (e) {\n",
       "            console.log(\"No handler for the '\" + msg_type + \"' message type: \", msg);\n",
       "            return;\n",
       "        }\n",
       "\n",
       "        if (callback) {\n",
       "            try {\n",
       "                // console.log(\"Handling '\" + msg_type + \"' message: \", msg);\n",
       "                callback(fig, msg);\n",
       "            } catch (e) {\n",
       "                console.log(\"Exception inside the 'handler_\" + msg_type + \"' callback:\", e, e.stack, msg);\n",
       "            }\n",
       "        }\n",
       "    };\n",
       "}\n",
       "\n",
       "// from http://stackoverflow.com/questions/1114465/getting-mouse-location-in-canvas\n",
       "mpl.findpos = function(e) {\n",
       "    //this section is from http://www.quirksmode.org/js/events_properties.html\n",
       "    var targ;\n",
       "    if (!e)\n",
       "        e = window.event;\n",
       "    if (e.target)\n",
       "        targ = e.target;\n",
       "    else if (e.srcElement)\n",
       "        targ = e.srcElement;\n",
       "    if (targ.nodeType == 3) // defeat Safari bug\n",
       "        targ = targ.parentNode;\n",
       "\n",
       "    // jQuery normalizes the pageX and pageY\n",
       "    // pageX,Y are the mouse positions relative to the document\n",
       "    // offset() returns the position of the element relative to the document\n",
       "    var x = e.pageX - $(targ).offset().left;\n",
       "    var y = e.pageY - $(targ).offset().top;\n",
       "\n",
       "    return {\"x\": x, \"y\": y};\n",
       "};\n",
       "\n",
       "/*\n",
       " * return a copy of an object with only non-object keys\n",
       " * we need this to avoid circular references\n",
       " * http://stackoverflow.com/a/24161582/3208463\n",
       " */\n",
       "function simpleKeys (original) {\n",
       "  return Object.keys(original).reduce(function (obj, key) {\n",
       "    if (typeof original[key] !== 'object')\n",
       "        obj[key] = original[key]\n",
       "    return obj;\n",
       "  }, {});\n",
       "}\n",
       "\n",
       "mpl.figure.prototype.mouse_event = function(event, name) {\n",
       "    var canvas_pos = mpl.findpos(event)\n",
       "\n",
       "    if (name === 'button_press')\n",
       "    {\n",
       "        this.canvas.focus();\n",
       "        this.canvas_div.focus();\n",
       "    }\n",
       "\n",
       "    var x = canvas_pos.x * mpl.ratio;\n",
       "    var y = canvas_pos.y * mpl.ratio;\n",
       "\n",
       "    this.send_message(name, {x: x, y: y, button: event.button,\n",
       "                             step: event.step,\n",
       "                             guiEvent: simpleKeys(event)});\n",
       "\n",
       "    /* This prevents the web browser from automatically changing to\n",
       "     * the text insertion cursor when the button is pressed.  We want\n",
       "     * to control all of the cursor setting manually through the\n",
       "     * 'cursor' event from matplotlib */\n",
       "    event.preventDefault();\n",
       "    return false;\n",
       "}\n",
       "\n",
       "mpl.figure.prototype._key_event_extra = function(event, name) {\n",
       "    // Handle any extra behaviour associated with a key event\n",
       "}\n",
       "\n",
       "mpl.figure.prototype.key_event = function(event, name) {\n",
       "\n",
       "    // Prevent repeat events\n",
       "    if (name == 'key_press')\n",
       "    {\n",
       "        if (event.which === this._key)\n",
       "            return;\n",
       "        else\n",
       "            this._key = event.which;\n",
       "    }\n",
       "    if (name == 'key_release')\n",
       "        this._key = null;\n",
       "\n",
       "    var value = '';\n",
       "    if (event.ctrlKey && event.which != 17)\n",
       "        value += \"ctrl+\";\n",
       "    if (event.altKey && event.which != 18)\n",
       "        value += \"alt+\";\n",
       "    if (event.shiftKey && event.which != 16)\n",
       "        value += \"shift+\";\n",
       "\n",
       "    value += 'k';\n",
       "    value += event.which.toString();\n",
       "\n",
       "    this._key_event_extra(event, name);\n",
       "\n",
       "    this.send_message(name, {key: value,\n",
       "                             guiEvent: simpleKeys(event)});\n",
       "    return false;\n",
       "}\n",
       "\n",
       "mpl.figure.prototype.toolbar_button_onclick = function(name) {\n",
       "    if (name == 'download') {\n",
       "        this.handle_save(this, null);\n",
       "    } else {\n",
       "        this.send_message(\"toolbar_button\", {name: name});\n",
       "    }\n",
       "};\n",
       "\n",
       "mpl.figure.prototype.toolbar_button_onmouseover = function(tooltip) {\n",
       "    this.message.textContent = tooltip;\n",
       "};\n",
       "mpl.toolbar_items = [[\"Home\", \"Reset original view\", \"fa fa-home icon-home\", \"home\"], [\"Back\", \"Back to  previous view\", \"fa fa-arrow-left icon-arrow-left\", \"back\"], [\"Forward\", \"Forward to next view\", \"fa fa-arrow-right icon-arrow-right\", \"forward\"], [\"\", \"\", \"\", \"\"], [\"Pan\", \"Pan axes with left mouse, zoom with right\", \"fa fa-arrows icon-move\", \"pan\"], [\"Zoom\", \"Zoom to rectangle\", \"fa fa-square-o icon-check-empty\", \"zoom\"], [\"\", \"\", \"\", \"\"], [\"Download\", \"Download plot\", \"fa fa-floppy-o icon-save\", \"download\"]];\n",
       "\n",
       "mpl.extensions = [\"eps\", \"pdf\", \"png\", \"ps\", \"raw\", \"svg\"];\n",
       "\n",
       "mpl.default_extension = \"png\";var comm_websocket_adapter = function(comm) {\n",
       "    // Create a \"websocket\"-like object which calls the given IPython comm\n",
       "    // object with the appropriate methods. Currently this is a non binary\n",
       "    // socket, so there is still some room for performance tuning.\n",
       "    var ws = {};\n",
       "\n",
       "    ws.close = function() {\n",
       "        comm.close()\n",
       "    };\n",
       "    ws.send = function(m) {\n",
       "        //console.log('sending', m);\n",
       "        comm.send(m);\n",
       "    };\n",
       "    // Register the callback with on_msg.\n",
       "    comm.on_msg(function(msg) {\n",
       "        //console.log('receiving', msg['content']['data'], msg);\n",
       "        // Pass the mpl event to the overriden (by mpl) onmessage function.\n",
       "        ws.onmessage(msg['content']['data'])\n",
       "    });\n",
       "    return ws;\n",
       "}\n",
       "\n",
       "mpl.mpl_figure_comm = function(comm, msg) {\n",
       "    // This is the function which gets called when the mpl process\n",
       "    // starts-up an IPython Comm through the \"matplotlib\" channel.\n",
       "\n",
       "    var id = msg.content.data.id;\n",
       "    // Get hold of the div created by the display call when the Comm\n",
       "    // socket was opened in Python.\n",
       "    var element = $(\"#\" + id);\n",
       "    var ws_proxy = comm_websocket_adapter(comm)\n",
       "\n",
       "    function ondownload(figure, format) {\n",
       "        window.open(figure.imageObj.src);\n",
       "    }\n",
       "\n",
       "    var fig = new mpl.figure(id, ws_proxy,\n",
       "                           ondownload,\n",
       "                           element.get(0));\n",
       "\n",
       "    // Call onopen now - mpl needs it, as it is assuming we've passed it a real\n",
       "    // web socket which is closed, not our websocket->open comm proxy.\n",
       "    ws_proxy.onopen();\n",
       "\n",
       "    fig.parent_element = element.get(0);\n",
       "    fig.cell_info = mpl.find_output_cell(\"<div id='\" + id + \"'></div>\");\n",
       "    if (!fig.cell_info) {\n",
       "        console.error(\"Failed to find cell for figure\", id, fig);\n",
       "        return;\n",
       "    }\n",
       "\n",
       "    var output_index = fig.cell_info[2]\n",
       "    var cell = fig.cell_info[0];\n",
       "\n",
       "};\n",
       "\n",
       "mpl.figure.prototype.handle_close = function(fig, msg) {\n",
       "    var width = fig.canvas.width/mpl.ratio\n",
       "    fig.root.unbind('remove')\n",
       "\n",
       "    // Update the output cell to use the data from the current canvas.\n",
       "    fig.push_to_output();\n",
       "    var dataURL = fig.canvas.toDataURL();\n",
       "    // Re-enable the keyboard manager in IPython - without this line, in FF,\n",
       "    // the notebook keyboard shortcuts fail.\n",
       "    IPython.keyboard_manager.enable()\n",
       "    $(fig.parent_element).html('<img src=\"' + dataURL + '\" width=\"' + width + '\">');\n",
       "    fig.close_ws(fig, msg);\n",
       "}\n",
       "\n",
       "mpl.figure.prototype.close_ws = function(fig, msg){\n",
       "    fig.send_message('closing', msg);\n",
       "    // fig.ws.close()\n",
       "}\n",
       "\n",
       "mpl.figure.prototype.push_to_output = function(remove_interactive) {\n",
       "    // Turn the data on the canvas into data in the output cell.\n",
       "    var width = this.canvas.width/mpl.ratio\n",
       "    var dataURL = this.canvas.toDataURL();\n",
       "    this.cell_info[1]['text/html'] = '<img src=\"' + dataURL + '\" width=\"' + width + '\">';\n",
       "}\n",
       "\n",
       "mpl.figure.prototype.updated_canvas_event = function() {\n",
       "    // Tell IPython that the notebook contents must change.\n",
       "    IPython.notebook.set_dirty(true);\n",
       "    this.send_message(\"ack\", {});\n",
       "    var fig = this;\n",
       "    // Wait a second, then push the new image to the DOM so\n",
       "    // that it is saved nicely (might be nice to debounce this).\n",
       "    setTimeout(function () { fig.push_to_output() }, 1000);\n",
       "}\n",
       "\n",
       "mpl.figure.prototype._init_toolbar = function() {\n",
       "    var fig = this;\n",
       "\n",
       "    var nav_element = $('<div/>')\n",
       "    nav_element.attr('style', 'width: 100%');\n",
       "    this.root.append(nav_element);\n",
       "\n",
       "    // Define a callback function for later on.\n",
       "    function toolbar_event(event) {\n",
       "        return fig.toolbar_button_onclick(event['data']);\n",
       "    }\n",
       "    function toolbar_mouse_event(event) {\n",
       "        return fig.toolbar_button_onmouseover(event['data']);\n",
       "    }\n",
       "\n",
       "    for(var toolbar_ind in mpl.toolbar_items){\n",
       "        var name = mpl.toolbar_items[toolbar_ind][0];\n",
       "        var tooltip = mpl.toolbar_items[toolbar_ind][1];\n",
       "        var image = mpl.toolbar_items[toolbar_ind][2];\n",
       "        var method_name = mpl.toolbar_items[toolbar_ind][3];\n",
       "\n",
       "        if (!name) { continue; };\n",
       "\n",
       "        var button = $('<button class=\"btn btn-default\" href=\"#\" title=\"' + name + '\"><i class=\"fa ' + image + ' fa-lg\"></i></button>');\n",
       "        button.click(method_name, toolbar_event);\n",
       "        button.mouseover(tooltip, toolbar_mouse_event);\n",
       "        nav_element.append(button);\n",
       "    }\n",
       "\n",
       "    // Add the status bar.\n",
       "    var status_bar = $('<span class=\"mpl-message\" style=\"text-align:right; float: right;\"/>');\n",
       "    nav_element.append(status_bar);\n",
       "    this.message = status_bar[0];\n",
       "\n",
       "    // Add the close button to the window.\n",
       "    var buttongrp = $('<div class=\"btn-group inline pull-right\"></div>');\n",
       "    var button = $('<button class=\"btn btn-mini btn-primary\" href=\"#\" title=\"Stop Interaction\"><i class=\"fa fa-power-off icon-remove icon-large\"></i></button>');\n",
       "    button.click(function (evt) { fig.handle_close(fig, {}); } );\n",
       "    button.mouseover('Stop Interaction', toolbar_mouse_event);\n",
       "    buttongrp.append(button);\n",
       "    var titlebar = this.root.find($('.ui-dialog-titlebar'));\n",
       "    titlebar.prepend(buttongrp);\n",
       "}\n",
       "\n",
       "mpl.figure.prototype._root_extra_style = function(el){\n",
       "    var fig = this\n",
       "    el.on(\"remove\", function(){\n",
       "\tfig.close_ws(fig, {});\n",
       "    });\n",
       "}\n",
       "\n",
       "mpl.figure.prototype._canvas_extra_style = function(el){\n",
       "    // this is important to make the div 'focusable\n",
       "    el.attr('tabindex', 0)\n",
       "    // reach out to IPython and tell the keyboard manager to turn it's self\n",
       "    // off when our div gets focus\n",
       "\n",
       "    // location in version 3\n",
       "    if (IPython.notebook.keyboard_manager) {\n",
       "        IPython.notebook.keyboard_manager.register_events(el);\n",
       "    }\n",
       "    else {\n",
       "        // location in version 2\n",
       "        IPython.keyboard_manager.register_events(el);\n",
       "    }\n",
       "\n",
       "}\n",
       "\n",
       "mpl.figure.prototype._key_event_extra = function(event, name) {\n",
       "    var manager = IPython.notebook.keyboard_manager;\n",
       "    if (!manager)\n",
       "        manager = IPython.keyboard_manager;\n",
       "\n",
       "    // Check for shift+enter\n",
       "    if (event.shiftKey && event.which == 13) {\n",
       "        this.canvas_div.blur();\n",
       "        // select the cell after this one\n",
       "        var index = IPython.notebook.find_cell_index(this.cell_info[0]);\n",
       "        IPython.notebook.select(index + 1);\n",
       "    }\n",
       "}\n",
       "\n",
       "mpl.figure.prototype.handle_save = function(fig, msg) {\n",
       "    fig.ondownload(fig, null);\n",
       "}\n",
       "\n",
       "\n",
       "mpl.find_output_cell = function(html_output) {\n",
       "    // Return the cell and output element which can be found *uniquely* in the notebook.\n",
       "    // Note - this is a bit hacky, but it is done because the \"notebook_saving.Notebook\"\n",
       "    // IPython event is triggered only after the cells have been serialised, which for\n",
       "    // our purposes (turning an active figure into a static one), is too late.\n",
       "    var cells = IPython.notebook.get_cells();\n",
       "    var ncells = cells.length;\n",
       "    for (var i=0; i<ncells; i++) {\n",
       "        var cell = cells[i];\n",
       "        if (cell.cell_type === 'code'){\n",
       "            for (var j=0; j<cell.output_area.outputs.length; j++) {\n",
       "                var data = cell.output_area.outputs[j];\n",
       "                if (data.data) {\n",
       "                    // IPython >= 3 moved mimebundle to data attribute of output\n",
       "                    data = data.data;\n",
       "                }\n",
       "                if (data['text/html'] == html_output) {\n",
       "                    return [cell, data, j];\n",
       "                }\n",
       "            }\n",
       "        }\n",
       "    }\n",
       "}\n",
       "\n",
       "// Register the function which deals with the matplotlib target/channel.\n",
       "// The kernel may be null if the page has been refreshed.\n",
       "if (IPython.notebook.kernel != null) {\n",
       "    IPython.notebook.kernel.comm_manager.register_target('matplotlib', mpl.mpl_figure_comm);\n",
       "}\n"
      ],
      "text/plain": [
       "<IPython.core.display.Javascript object>"
      ]
     },
     "metadata": {},
     "output_type": "display_data"
    },
    {
     "data": {
      "text/html": [
       "<img src=\"data:image/png;base64,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\" width=\"640\">"
      ],
      "text/plain": [
       "<IPython.core.display.HTML object>"
      ]
     },
     "metadata": {},
     "output_type": "display_data"
    },
    {
     "data": {
      "application/vnd.jupyter.widget-view+json": {
       "model_id": "f19d1fae0b3e47f89ddbbaa67aad6452",
       "version_major": 2,
       "version_minor": 0
      },
      "text/plain": [
       "A Jupyter Widget"
      ]
     },
     "metadata": {},
     "output_type": "display_data"
    },
    {
     "data": {
      "application/vnd.jupyter.widget-view+json": {
       "model_id": "776392b057f04fd38282e5dd5c034166",
       "version_major": 2,
       "version_minor": 0
      },
      "text/plain": [
       "A Jupyter Widget"
      ]
     },
     "metadata": {},
     "output_type": "display_data"
    },
    {
     "data": {
      "application/vnd.jupyter.widget-view+json": {
       "model_id": "ee12f25dca4c4bdbb2354c3ec5396fa6",
       "version_major": 2,
       "version_minor": 0
      },
      "text/plain": [
       "A Jupyter Widget"
      ]
     },
     "metadata": {},
     "output_type": "display_data"
    },
    {
     "data": {
      "application/vnd.jupyter.widget-view+json": {
       "model_id": "8700f0e0af494edda9b90ad14280f472",
       "version_major": 2,
       "version_minor": 0
      },
      "text/plain": [
       "A Jupyter Widget"
      ]
     },
     "metadata": {},
     "output_type": "display_data"
    },
    {
     "data": {
      "application/vnd.jupyter.widget-view+json": {
       "model_id": "4265d3f75038429c8efd6004907589c5",
       "version_major": 2,
       "version_minor": 0
      },
      "text/plain": [
       "A Jupyter Widget"
      ]
     },
     "metadata": {},
     "output_type": "display_data"
    },
    {
     "data": {
      "application/vnd.jupyter.widget-view+json": {
       "model_id": "0829d1d5f47348b69bc5b4b1101568b5",
       "version_major": 2,
       "version_minor": 0
      },
      "text/plain": [
       "A Jupyter Widget"
      ]
     },
     "metadata": {},
     "output_type": "display_data"
    }
   ],
   "source": [
    "a = ca.read_amplicon('../calour/tests/data/test2.biom',\n",
    "                     '../calour/tests/data/test2.sample', \n",
    "                     feature_metadata_file='../calour/tests/data/test2.feature',\n",
    "                     min_reads=100, normalize=None)\n",
    "\n",
    "b = a.plot(sample_field='group', feature_field='taxonomy', yticklabel_kwargs={'size': 9},\n",
    "           bary_fields=['oxygen'], barx_fields=['group', 'categorical'],\n",
    "           barx_label_kwargs=[{'color': 'b'}, {'color': 'white', 'size': 9}],\n",
    "           cmap='viridis', norm=mpl.colors.Normalize(),\n",
    "           gui='jupyter', title='simple figure');"
   ]
  },
  {
   "cell_type": "code",
   "execution_count": null,
   "metadata": {
    "collapsed": true
   },
   "outputs": [],
   "source": []
  }
 ],
 "metadata": {
  "anaconda-cloud": {},
  "kernelspec": {
   "display_name": "Python [conda env:calour]",
   "language": "python",
   "name": "conda-env-calour-py"
  },
  "language_info": {
   "codemirror_mode": {
    "name": "ipython",
    "version": 3
   },
   "file_extension": ".py",
   "mimetype": "text/x-python",
   "name": "python",
   "nbconvert_exporter": "python",
   "pygments_lexer": "ipython3",
   "version": "3.5.2"
  },
  "notify_time": "30",
  "toc": {
   "nav_menu": {
    "height": "48px",
    "width": "251px"
   },
   "number_sections": true,
   "sideBar": true,
   "skip_h1_title": false,
   "toc_cell": false,
   "toc_position": {},
   "toc_section_display": "block",
   "toc_window_display": false
  },
  "widgets": {
   "application/vnd.jupyter.widget-state+json": {
    "state": {
     "000511e190d34fc7a55cc999780bbe6b": {
      "model_module": "@jupyter-widgets/controls",
      "model_module_version": "1.0.0",
      "model_name": "ButtonModel",
      "state": {
       "description": "Annotate",
       "layout": "IPY_MODEL_4f464af4da23451a856be68754ae15b6",
       "style": "IPY_MODEL_fbbfdde6408d4d7d9e6044ff76ed23a3"
      }
     },
     "002cb088b10f4b4282410cee493af930": {
      "model_module": "@jupyter-widgets/controls",
      "model_module_version": "1.0.0",
      "model_name": "ButtonStyleModel",
      "state": {}
     },
     "005184ab2b7c40a6a0dd1bd52880e8ea": {
      "model_module": "@jupyter-widgets/controls",
      "model_module_version": "1.0.0",
      "model_name": "DropdownModel",
      "state": {
       "_options_labels": [
        "ori.order",
        "group",
        "new.order",
        "categorical",
        "_calour_original_abundance"
       ],
       "index": 0,
       "layout": "IPY_MODEL_e78b775f90b54433b7c6c993b393d783",
       "style": "IPY_MODEL_1cdffe63f17a4ec7938b0dd19311d3c2"
      }
     },
     "005dab0790f147f496ce3f1440a54c24": {
      "model_module": "@jupyter-widgets/base",
      "model_module_version": "1.0.0",
      "model_name": "LayoutModel",
      "state": {}
     },
     "00b35cc801fb45c88ad583bd97764686": {
      "model_module": "@jupyter-widgets/base",
      "model_module_version": "1.0.0",
      "model_name": "LayoutModel",
      "state": {}
     },
     "00c5cc0c541145ef889071188e37e46f": {
      "model_module": "@jupyter-widgets/controls",
      "model_module_version": "1.0.0",
      "model_name": "DescriptionStyleModel",
      "state": {
       "description_width": ""
      }
     },
     "00d386f8218c49c8a5e220134fd4dacc": {
      "model_module": "@jupyter-widgets/base",
      "model_module_version": "1.0.0",
      "model_name": "LayoutModel",
      "state": {}
     },
     "00e25675da1049568f10c1796c6c6c5a": {
      "model_module": "@jupyter-widgets/base",
      "model_module_version": "1.0.0",
      "model_name": "LayoutModel",
      "state": {
       "width": "80%"
      }
     },
     "011264ac05254126802325ccfac4e148": {
      "model_module": "@jupyter-widgets/base",
      "model_module_version": "1.0.0",
      "model_name": "LayoutModel",
      "state": {}
     },
     "01153d9064cb4df28e3ea8f98c662245": {
      "model_module": "@jupyter-widgets/base",
      "model_module_version": "1.0.0",
      "model_name": "LayoutModel",
      "state": {}
     },
     "01474d88c84e4f1b8cdb59872b22ba25": {
      "model_module": "@jupyter-widgets/controls",
      "model_module_version": "1.0.0",
      "model_name": "DescriptionStyleModel",
      "state": {
       "description_width": ""
      }
     },
     "017be272e1c349508a926e10c0a688a5": {
      "model_module": "@jupyter-widgets/controls",
      "model_module_version": "1.0.0",
      "model_name": "HBoxModel",
      "state": {
       "children": [
        "IPY_MODEL_f1ea95ca57304dd592563270d5ba2a90",
        "IPY_MODEL_b2dbcb5139814badb829f3b8bbc8ba35",
        "IPY_MODEL_ff776c412b9b4ebe837047240a71f1f1"
       ],
       "layout": "IPY_MODEL_8990643322ae487c8d7077c02177e3db"
      }
     },
     "0188bd766c4041b48cb5c820dc4c873d": {
      "model_module": "@jupyter-widgets/controls",
      "model_module_version": "1.0.0",
      "model_name": "TextModel",
      "state": {
       "layout": "IPY_MODEL_2088bf9c285b4ed482c5ac44c04f2a92",
       "placeholder": "feature meta",
       "style": "IPY_MODEL_7e84f94739f7488783d1480b62658c87",
       "value": "aerobic"
      }
     },
     "019046940176475d87de54db26107ee7": {
      "model_module": "@jupyter-widgets/base",
      "model_module_version": "1.0.0",
      "model_name": "LayoutModel",
      "state": {
       "width": "100%"
      }
     },
     "01d4b71b2d8e4a37acfcbe7ee7d0fbbc": {
      "model_module": "@jupyter-widgets/controls",
      "model_module_version": "1.0.0",
      "model_name": "DropdownModel",
      "state": {
       "_options_labels": [
        "oxygen",
        "ph",
        "level1",
        "level2",
        "new.order",
        "ori.order",
        "taxonomy"
       ],
       "index": 0,
       "layout": "IPY_MODEL_806048cb71944a49acb988035601c2a8",
       "style": "IPY_MODEL_1ed638313c3f448f9b882883690d7fad"
      }
     },
     "01e623669876475d81e26a4e11870874": {
      "model_module": "@jupyter-widgets/controls",
      "model_module_version": "1.0.0",
      "model_name": "DescriptionStyleModel",
      "state": {
       "description_width": ""
      }
     },
     "022948883ab44feb8b8c02ea11bf5709": {
      "model_module": "@jupyter-widgets/controls",
      "model_module_version": "1.0.0",
      "model_name": "ButtonModel",
      "state": {
       "description": "print axes ranges",
       "layout": "IPY_MODEL_a459556696f2415e880f07f71cf589ed",
       "style": "IPY_MODEL_61f332d70e2f476a8397be672f3ab39b",
       "tooltip": "Print the x axis and y axis ranges. Useful to pass to `rect` parameter of heatmap() to zoom in the region automatically."
      }
     },
     "02ba871b4a494398a1e647e21c42cdd8": {
      "model_module": "@jupyter-widgets/controls",
      "model_module_version": "1.0.0",
      "model_name": "ButtonModel",
      "state": {
       "description": "print axes ranges",
       "layout": "IPY_MODEL_6033ad064cf74022b91cf02d892c6302",
       "style": "IPY_MODEL_a70ec2eed2ce499fb49762cec213ea79",
       "tooltip": "Print the x axis and y axis ranges. Useful to pass to `rect` parameter of heatmap() to zoom in the region automatically."
      }
     },
     "02ce769e358a45d19416951caf15ad65": {
      "model_module": "@jupyter-widgets/controls",
      "model_module_version": "1.0.0",
      "model_name": "ButtonModel",
      "state": {
       "description": "Annotate",
       "layout": "IPY_MODEL_14f2eb449d4d454dbdfbc5bd2c97f9de",
       "style": "IPY_MODEL_abd82e35aa0e47389ee1baedc79346a1"
      }
     },
     "0334bb41e42d40e893a20836dec75a79": {
      "model_module": "@jupyter-widgets/controls",
      "model_module_version": "1.0.0",
      "model_name": "HBoxModel",
      "state": {
       "children": [
        "IPY_MODEL_ff447792a03a4727a8929c3f91697ae0",
        "IPY_MODEL_202fbfc1d72d49538f9352c9a54f7716",
        "IPY_MODEL_0cc44c0f647840f09a5a324c3880a9b2"
       ],
       "layout": "IPY_MODEL_0d20f9dadc1342c8ba22b76fccbd3807"
      }
     },
     "034016157c1e4834a1874ad730db1d35": {
      "model_module": "@jupyter-widgets/controls",
      "model_module_version": "1.0.0",
      "model_name": "TextModel",
      "state": {
       "description": "Sample ID",
       "layout": "IPY_MODEL_019046940176475d87de54db26107ee7",
       "placeholder": "Sample ID",
       "style": "IPY_MODEL_bc1a4c60a761466dbecce0203ce6ea82",
       "value": "S7"
      }
     },
     "035b151e0a704fefa1b6d7fa748feb94": {
      "model_module": "@jupyter-widgets/controls",
      "model_module_version": "1.0.0",
      "model_name": "DescriptionStyleModel",
      "state": {
       "description_width": ""
      }
     },
     "0376c356e3a645a4b26a4cbf09b020c3": {
      "model_module": "@jupyter-widgets/controls",
      "model_module_version": "1.0.0",
      "model_name": "DescriptionStyleModel",
      "state": {
       "description_width": ""
      }
     },
     "03a4d672e09e4fb98b1d8f842e7559e8": {
      "model_module": "@jupyter-widgets/base",
      "model_module_version": "1.0.0",
      "model_name": "LayoutModel",
      "state": {
       "width": "20%"
      }
     },
     "03afd9c80305460da693465a4c8c4960": {
      "model_module": "@jupyter-widgets/controls",
      "model_module_version": "1.0.0",
      "model_name": "TextModel",
      "state": {
       "layout": "IPY_MODEL_6757ce8a7ce14b17ba15553f5b3c59b5",
       "placeholder": "sample meta",
       "style": "IPY_MODEL_089081dc448441e3a64eba8d90081df7",
       "value": "-"
      }
     },
     "03bff66ed3ff4e259d4d6767ca143e1e": {
      "model_module": "@jupyter-widgets/controls",
      "model_module_version": "1.0.0",
      "model_name": "TextModel",
      "state": {
       "description": "Sample ID",
       "layout": "IPY_MODEL_e645d7359c8d49039234e2ac88b11a85",
       "placeholder": "Sample ID",
       "style": "IPY_MODEL_585237215be14ffdb80a2ea3f9bbd594",
       "value": "S9"
      }
     },
     "03e0490bdbd84a58946021fdba53e55b": {
      "model_module": "@jupyter-widgets/base",
      "model_module_version": "1.0.0",
      "model_name": "LayoutModel",
      "state": {
       "width": "100%"
      }
     },
     "03f1c9ce4df544d492ec0a01f1a26d87": {
      "model_module": "@jupyter-widgets/base",
      "model_module_version": "1.0.0",
      "model_name": "LayoutModel",
      "state": {
       "width": "80%"
      }
     },
     "041ae82cfe7043b681e697b0de4a6cb7": {
      "model_module": "@jupyter-widgets/base",
      "model_module_version": "1.0.0",
      "model_name": "LayoutModel",
      "state": {}
     },
     "04d093ac7b5948ae8cd5d2ab2ef37772": {
      "model_module": "@jupyter-widgets/controls",
      "model_module_version": "1.0.0",
      "model_name": "ButtonModel",
      "state": {
       "description": "Annotate",
       "layout": "IPY_MODEL_8ca32759f63a4ded87ead51f4350989a",
       "style": "IPY_MODEL_c7ae798042f14c048ad1a605d3cdebe1"
      }
     },
     "05014d49071b4400bf2eef46ac4876b6": {
      "model_module": "@jupyter-widgets/controls",
      "model_module_version": "1.0.0",
      "model_name": "ButtonStyleModel",
      "state": {}
     },
     "054edc993fcf47d388a137916bc92da7": {
      "model_module": "@jupyter-widgets/base",
      "model_module_version": "1.0.0",
      "model_name": "LayoutModel",
      "state": {}
     },
     "059b542a24dd44379e3f1b76bc82c050": {
      "model_module": "@jupyter-widgets/controls",
      "model_module_version": "1.0.0",
      "model_name": "HBoxModel",
      "state": {
       "children": [
        "IPY_MODEL_005184ab2b7c40a6a0dd1bd52880e8ea",
        "IPY_MODEL_27cb91b373b0428ca464d7ec2e4a81e7"
       ],
       "layout": "IPY_MODEL_09600fec608f486f8f4f1c9aa989e0d8"
      }
     },
     "05bbad225e6e4edca15e9f8899271290": {
      "model_module": "@jupyter-widgets/controls",
      "model_module_version": "1.0.0",
      "model_name": "DropdownModel",
      "state": {
       "_options_labels": [
        "ori.order",
        "group",
        "new.order",
        "categorical",
        "_calour_original_abundance"
       ],
       "index": 0,
       "layout": "IPY_MODEL_83c9cd3cec774a6b812d99a2c26f17cb",
       "style": "IPY_MODEL_6875cdaa8a7c4d8497f1fbd057a50ffd"
      }
     },
     "06c8262203bd45d8b9f32ffea0284b88": {
      "model_module": "@jupyter-widgets/controls",
      "model_module_version": "1.0.0",
      "model_name": "ButtonModel",
      "state": {
       "description": "Save",
       "layout": "IPY_MODEL_fbd2b18a15df437bb2fc9a0a4c1f6cb6",
       "style": "IPY_MODEL_45b1ae6bbc624fbba2607a821aa5ddc6",
       "tooltip": "Save the selection(s)"
      }
     },
     "078c5e1f16534be285459920ee6c9e11": {
      "model_module": "@jupyter-widgets/controls",
      "model_module_version": "1.0.0",
      "model_name": "ButtonModel",
      "state": {
       "description": "Annotate",
       "layout": "IPY_MODEL_8377246142eb4ea9b081c42a780da736",
       "style": "IPY_MODEL_f9df0261d0744316926b1e4b3696e71b"
      }
     },
     "079f8e3aef0f4998a03ad08097eb74c8": {
      "model_module": "@jupyter-widgets/controls",
      "model_module_version": "1.0.0",
      "model_name": "HBoxModel",
      "state": {
       "children": [
        "IPY_MODEL_0b8e67265b874295b6405c31bfb1e4e1",
        "IPY_MODEL_af2f432925244da9a661f4cac35f99eb",
        "IPY_MODEL_eb301619e7274e84bf5ea4435c8ef35c"
       ],
       "layout": "IPY_MODEL_ba40b1fcc938431b8c0f6cb2c92e13de"
      }
     },
     "07e34177f7424e02b6147b119a6e6ab5": {
      "model_module": "@jupyter-widgets/controls",
      "model_module_version": "1.0.0",
      "model_name": "TextModel",
      "state": {
       "layout": "IPY_MODEL_e88b79b8f16949a2a6d58581fdbd58a9",
       "placeholder": "sample meta",
       "style": "IPY_MODEL_39a0c7e40f304fa99aeae4b208ecc13b",
       "value": "-"
      }
     },
     "0829cfc8d9594bb2998252d03d7d9cc1": {
      "model_module": "@jupyter-widgets/base",
      "model_module_version": "1.0.0",
      "model_name": "LayoutModel",
      "state": {
       "width": "80%"
      }
     },
     "0829d1d5f47348b69bc5b4b1101568b5": {
      "model_module": "@jupyter-widgets/controls",
      "model_module_version": "1.0.0",
      "model_name": "HTMLModel",
      "state": {
       "layout": "IPY_MODEL_ad8779c79b054fe19ab0454d8ee5a89e",
       "style": "IPY_MODEL_55439dc59e614cdfb157ab77a8fe3a33",
       "value": "<style> a:link {color:black; background-color:transparent; text-decoration:none}a:visited {color:black; background-color:transparent; text-decoration:none}</style><p style=\"color:black;white-space:nowrap;\"><a href=\"http://dbbact.org/annotation_info/NA\"   target=\"_blank\">No annotation found in database dbBact</a></p>"
      }
     },
     "0844b68abc714506adf0d5859a7e0fdd": {
      "model_module": "@jupyter-widgets/controls",
      "model_module_version": "1.0.0",
      "model_name": "FloatTextModel",
      "state": {
       "description": "Abundance",
       "layout": "IPY_MODEL_773cb8dede5f4d728628430598683cc5",
       "step": null,
       "style": "IPY_MODEL_8a439e52677e4ce38fca38efb35d440e"
      }
     },
     "089081dc448441e3a64eba8d90081df7": {
      "model_module": "@jupyter-widgets/controls",
      "model_module_version": "1.0.0",
      "model_name": "DescriptionStyleModel",
      "state": {
       "description_width": ""
      }
     },
     "08e7c1acec87461f8d4f65b1f5a24b60": {
      "model_module": "@jupyter-widgets/controls",
      "model_module_version": "1.0.0",
      "model_name": "DescriptionStyleModel",
      "state": {
       "description_width": ""
      }
     },
     "0916bd9112904822aba6f4e7ba6ccc37": {
      "model_module": "@jupyter-widgets/base",
      "model_module_version": "1.0.0",
      "model_name": "LayoutModel",
      "state": {}
     },
     "0918fcd942134604b0feb6a4db01ee24": {
      "model_module": "@jupyter-widgets/controls",
      "model_module_version": "1.0.0",
      "model_name": "TextModel",
      "state": {
       "description": "Feature ID",
       "layout": "IPY_MODEL_e645d7359c8d49039234e2ac88b11a85",
       "placeholder": "Feature ID",
       "style": "IPY_MODEL_a6fda4faa1434abdb3574b8b173ab8ef",
       "value": "TC"
      }
     },
     "09600fec608f486f8f4f1c9aa989e0d8": {
      "model_module": "@jupyter-widgets/base",
      "model_module_version": "1.0.0",
      "model_name": "LayoutModel",
      "state": {}
     },
     "09b52d63346c491ebffacd8fe01b212d": {
      "model_module": "@jupyter-widgets/controls",
      "model_module_version": "1.0.0",
      "model_name": "DropdownModel",
      "state": {
       "_options_labels": [
        "oxygen",
        "ph",
        "level1",
        "level2",
        "new.order",
        "ori.order",
        "taxonomy"
       ],
       "index": 0,
       "layout": "IPY_MODEL_8e09963766f748d097e90ca66279ebf2",
       "style": "IPY_MODEL_af29d69b379547a5aafbfab7026cd73c"
      }
     },
     "09ef0699338a477795d893f3af0b21a9": {
      "model_module": "@jupyter-widgets/base",
      "model_module_version": "1.0.0",
      "model_name": "LayoutModel",
      "state": {}
     },
     "0a33afa81af04d598d3cf743b1b36c1a": {
      "model_module": "@jupyter-widgets/controls",
      "model_module_version": "1.0.0",
      "model_name": "TextModel",
      "state": {
       "layout": "IPY_MODEL_9354b50cf37742798cf9830a78845f29",
       "placeholder": "feature meta",
       "style": "IPY_MODEL_c9356130646942dda88a7fae4e8ebd90",
       "value": "-"
      }
     },
     "0a3dbc9e3d4344749c3bf9fdfb9286c0": {
      "model_module": "@jupyter-widgets/controls",
      "model_module_version": "1.0.0",
      "model_name": "ButtonStyleModel",
      "state": {}
     },
     "0a58be3902ff46f1bd98b3d8228b9583": {
      "model_module": "@jupyter-widgets/controls",
      "model_module_version": "1.0.0",
      "model_name": "TextModel",
      "state": {
       "layout": "IPY_MODEL_8838d0c6af0445bebaf48aecd78e2efc",
       "placeholder": "feature meta",
       "style": "IPY_MODEL_3494986736514571ae2c90fc89f1f6bb",
       "value": "anaerobic"
      }
     },
     "0a804213a3484329a31d3bc63f2d6cfb": {
      "model_module": "@jupyter-widgets/base",
      "model_module_version": "1.0.0",
      "model_name": "LayoutModel",
      "state": {
       "width": "80%"
      }
     },
     "0a933edb5afd437488d1a42c77fc4c62": {
      "model_module": "@jupyter-widgets/base",
      "model_module_version": "1.0.0",
      "model_name": "LayoutModel",
      "state": {}
     },
     "0b1405200deb4d2c80c5e2247c028fa1": {
      "model_module": "@jupyter-widgets/controls",
      "model_module_version": "1.0.0",
      "model_name": "ButtonModel",
      "state": {
       "description": "Annotate",
       "layout": "IPY_MODEL_2bb37815d26946618ddde090bc8a36d1",
       "style": "IPY_MODEL_367f81208665413ea1e085c2f4e6c455"
      }
     },
     "0b6fe2c41fc84f98b3a16f002cfbb28b": {
      "model_module": "@jupyter-widgets/base",
      "model_module_version": "1.0.0",
      "model_name": "LayoutModel",
      "state": {
       "width": "100%"
      }
     },
     "0b8e67265b874295b6405c31bfb1e4e1": {
      "model_module": "@jupyter-widgets/controls",
      "model_module_version": "1.0.0",
      "model_name": "ButtonModel",
      "state": {
       "description": "print axes ranges",
       "layout": "IPY_MODEL_3ad0d55915714ffb9375ffbaf886cf13",
       "style": "IPY_MODEL_dc519691bec749738e7974bd2d9303b7",
       "tooltip": "Print the x axis and y axis ranges. Useful to pass to `rect` parameter of heatmap() to zoom in the region automatically."
      }
     },
     "0bfca4e6359a4e6cbd9128b26181b722": {
      "model_module": "@jupyter-widgets/base",
      "model_module_version": "1.0.0",
      "model_name": "LayoutModel",
      "state": {}
     },
     "0c33c99a4c2c480e83fde9ed11c6ce8d": {
      "model_module": "@jupyter-widgets/controls",
      "model_module_version": "1.0.0",
      "model_name": "ButtonModel",
      "state": {
       "description": "print axes ranges",
       "layout": "IPY_MODEL_b3cce65fc8fc466e9654e81180d50789",
       "style": "IPY_MODEL_64f7eda8a40d4fffa8cbd42870cc5351",
       "tooltip": "Print the x axis and y axis ranges. Useful to pass to `rect` parameter of heatmap() to zoom in the region automatically."
      }
     },
     "0c4a02a494cd4a6e97566225dc49bad3": {
      "model_module": "@jupyter-widgets/controls",
      "model_module_version": "1.0.0",
      "model_name": "ButtonModel",
      "state": {
       "description": "print axes ranges",
       "layout": "IPY_MODEL_4cdb36b14f8e468eb174fa57ee9e4e66",
       "style": "IPY_MODEL_ecedbf261dba4bf6ba6b35ac3bbcf5d1",
       "tooltip": "Print the x axis and y axis ranges. Useful to pass to `rect` parameter of heatmap() to zoom in the region automatically."
      }
     },
     "0cc44c0f647840f09a5a324c3880a9b2": {
      "model_module": "@jupyter-widgets/controls",
      "model_module_version": "1.0.0",
      "model_name": "ButtonModel",
      "state": {
       "description": "Annotate",
       "layout": "IPY_MODEL_70d70308bb8443e594ea4a8e6993dc7f",
       "style": "IPY_MODEL_87510413707e4b36b7894ac3c17e83de"
      }
     },
     "0cc799d027954a0da877c1b6c0c99afc": {
      "model_module": "@jupyter-widgets/controls",
      "model_module_version": "1.0.0",
      "model_name": "TextModel",
      "state": {
       "description": "Sample ID",
       "layout": "IPY_MODEL_91d34eaab44e4d849f70e949826ffee3",
       "placeholder": "Sample ID",
       "style": "IPY_MODEL_76fd7714395a42a2a8390a555349436c",
       "value": "-"
      }
     },
     "0d1ac708b20d42ec89747468e9d2867c": {
      "model_module": "@jupyter-widgets/base",
      "model_module_version": "1.0.0",
      "model_name": "LayoutModel",
      "state": {}
     },
     "0d20f9dadc1342c8ba22b76fccbd3807": {
      "model_module": "@jupyter-widgets/base",
      "model_module_version": "1.0.0",
      "model_name": "LayoutModel",
      "state": {}
     },
     "0d5a26f315034d6cacf1dfedc5a5b09c": {
      "model_module": "@jupyter-widgets/controls",
      "model_module_version": "1.0.0",
      "model_name": "DropdownModel",
      "state": {
       "_options_labels": [
        "ori.order",
        "group",
        "new.order",
        "categorical",
        "_calour_original_abundance"
       ],
       "index": 0,
       "layout": "IPY_MODEL_3fdba54d6f17473489cc454aab683b5b",
       "style": "IPY_MODEL_53273d3fb9f24094b363f44664209bd0"
      }
     },
     "0dc53c760b5e40fdb51a80127ded9810": {
      "model_module": "@jupyter-widgets/base",
      "model_module_version": "1.0.0",
      "model_name": "LayoutModel",
      "state": {}
     },
     "0dcb8e4af49f4ae589e9f9c6952f95c1": {
      "model_module": "@jupyter-widgets/base",
      "model_module_version": "1.0.0",
      "model_name": "LayoutModel",
      "state": {}
     },
     "0e00371c11dc4a7381104deec97aefcf": {
      "model_module": "@jupyter-widgets/controls",
      "model_module_version": "1.0.0",
      "model_name": "TextModel",
      "state": {
       "description": "Feature ID",
       "layout": "IPY_MODEL_91d34eaab44e4d849f70e949826ffee3",
       "placeholder": "Feature ID",
       "style": "IPY_MODEL_4b1f475415bd461db71ad386a26f7e13",
       "value": "-"
      }
     },
     "0e032ba7dca64c848bf64209f9e32b63": {
      "model_module": "@jupyter-widgets/controls",
      "model_module_version": "1.0.0",
      "model_name": "ButtonStyleModel",
      "state": {}
     },
     "0e07ef18630d400ebd047cfa66842770": {
      "model_module": "@jupyter-widgets/base",
      "model_module_version": "1.0.0",
      "model_name": "LayoutModel",
      "state": {}
     },
     "0e479cb65d1f4c10a4487999af6e25dc": {
      "model_module": "@jupyter-widgets/controls",
      "model_module_version": "1.0.0",
      "model_name": "HBoxModel",
      "state": {
       "children": [
        "IPY_MODEL_2062ce2a6b1549bea755c5a781ebd239",
        "IPY_MODEL_5b4d384f9b0a4da9b02c2b8193d33f04",
        "IPY_MODEL_935a2cdecc83454095c90340cc420520"
       ],
       "layout": "IPY_MODEL_9031897ce4ab4d2284993dd49f075fc0"
      }
     },
     "0e76858a2ed74489b9f5365a7c271df8": {
      "model_module": "@jupyter-widgets/controls",
      "model_module_version": "1.0.0",
      "model_name": "HBoxModel",
      "state": {
       "children": [
        "IPY_MODEL_faaa714f16e7436fb99901697ed01a4d",
        "IPY_MODEL_2e2b0abce5da4dc5a6a66343af5f5fe6",
        "IPY_MODEL_2c8de8243de84e59bc88e66697fc11b2"
       ],
       "layout": "IPY_MODEL_c8ead31e561e4cbc823dac3c7a1f5076"
      }
     },
     "0ea06b327a1c410a8de51123c628116b": {
      "model_module": "@jupyter-widgets/controls",
      "model_module_version": "1.0.0",
      "model_name": "FloatTextModel",
      "state": {
       "description": "Abundance",
       "layout": "IPY_MODEL_0b6fe2c41fc84f98b3a16f002cfbb28b",
       "step": null,
       "style": "IPY_MODEL_6c078c1531754752b98c6688b0ca8fda",
       "value": 900
      }
     },
     "0eb099a48d0a46ed9d2c5c9068ee3cbf": {
      "model_module": "@jupyter-widgets/base",
      "model_module_version": "1.0.0",
      "model_name": "LayoutModel",
      "state": {
       "width": "100%"
      }
     },
     "0f41cda0e2e849ffb2bc1336f05c5a1c": {
      "model_module": "@jupyter-widgets/controls",
      "model_module_version": "1.0.0",
      "model_name": "DropdownModel",
      "state": {
       "_options_labels": [
        "oxygen",
        "ph",
        "level1",
        "level2",
        "new.order",
        "ori.order",
        "taxonomy"
       ],
       "index": 0,
       "layout": "IPY_MODEL_69a8c7b362dc464390ce4ce8d0f479ca",
       "style": "IPY_MODEL_9efe0892a42b4c7eaec597f1b9a330a1"
      }
     },
     "0fc054d821a547a59cd2399708c31d56": {
      "model_module": "@jupyter-widgets/base",
      "model_module_version": "1.0.0",
      "model_name": "LayoutModel",
      "state": {
       "width": "100%"
      }
     },
     "0fe4437f03514de2a3929adfcab239a3": {
      "model_module": "@jupyter-widgets/base",
      "model_module_version": "1.0.0",
      "model_name": "LayoutModel",
      "state": {
       "width": "100%"
      }
     },
     "10239a33f22a4113a1a9d79aa4d1288c": {
      "model_module": "@jupyter-widgets/base",
      "model_module_version": "1.0.0",
      "model_name": "LayoutModel",
      "state": {}
     },
     "1034c1d1787f4fa999489ac1ac9f0117": {
      "model_module": "@jupyter-widgets/controls",
      "model_module_version": "1.0.0",
      "model_name": "ButtonModel",
      "state": {
       "description": "print axes ranges",
       "layout": "IPY_MODEL_b5bd938134374736a4c7917822853dc7",
       "style": "IPY_MODEL_ce046812970f4a9aa67508191c6b863f",
       "tooltip": "Print the x axis and y axis ranges. Useful to pass to `rect` parameter of heatmap() to zoom in the region automatically."
      }
     },
     "105dc9bc4cdf424f9691cc233cdf519e": {
      "model_module": "@jupyter-widgets/base",
      "model_module_version": "1.0.0",
      "model_name": "LayoutModel",
      "state": {
       "width": "100%"
      }
     },
     "10663756ad8e44caaceb81c6a59f9b3f": {
      "model_module": "@jupyter-widgets/controls",
      "model_module_version": "1.0.0",
      "model_name": "ButtonStyleModel",
      "state": {}
     },
     "1068d33eb6644267a3368ea17fc89a4f": {
      "model_module": "@jupyter-widgets/controls",
      "model_module_version": "1.0.0",
      "model_name": "DropdownModel",
      "state": {
       "_options_labels": [
        "ori.order",
        "group",
        "new.order",
        "categorical",
        "_calour_original_abundance"
       ],
       "index": 0,
       "layout": "IPY_MODEL_d244556ba0d24517aad4dcfc5d45ab65",
       "style": "IPY_MODEL_5c3c15c389ee47ed8b6700aa69b4d975"
      }
     },
     "10b26dff500c49269c83660b9e44d98d": {
      "model_module": "@jupyter-widgets/base",
      "model_module_version": "1.0.0",
      "model_name": "LayoutModel",
      "state": {}
     },
     "10dd02f05d764e9d9fc780d6c5dd77e5": {
      "model_module": "@jupyter-widgets/controls",
      "model_module_version": "1.0.0",
      "model_name": "ButtonModel",
      "state": {
       "description": "Save",
       "layout": "IPY_MODEL_b6a36d6e67684d5987e4c9bc85fa735b",
       "style": "IPY_MODEL_f803bea43c004459aa285a59a90c5c7f",
       "tooltip": "Save the selection(s)"
      }
     },
     "11023a2aa2754f098f825300fd0b271c": {
      "model_module": "@jupyter-widgets/controls",
      "model_module_version": "1.0.0",
      "model_name": "DescriptionStyleModel",
      "state": {
       "description_width": ""
      }
     },
     "115957e8b71740928560b256a2c45df3": {
      "model_module": "@jupyter-widgets/controls",
      "model_module_version": "1.0.0",
      "model_name": "ButtonModel",
      "state": {
       "description": "Save",
       "layout": "IPY_MODEL_4893f5e05fd546ce8e956d8083dff7d0",
       "style": "IPY_MODEL_6048211753f944f8b69ae5d26842b0cf",
       "tooltip": "Save the selection(s)"
      }
     },
     "11755ef1399f4350828788701485702f": {
      "model_module": "@jupyter-widgets/controls",
      "model_module_version": "1.0.0",
      "model_name": "HBoxModel",
      "state": {
       "children": [
        "IPY_MODEL_be2f8aa9d2a24b48b08e544fe904a929",
        "IPY_MODEL_4cce2edfb5ae42c585549507fdfe1826"
       ],
       "layout": "IPY_MODEL_eacd14c5f8174e70abc48f6af3752b70"
      }
     },
     "11c27a0ecdac4d5db4e19f8a166c576b": {
      "model_module": "@jupyter-widgets/base",
      "model_module_version": "1.0.0",
      "model_name": "LayoutModel",
      "state": {
       "width": "80%"
      }
     },
     "121ba1781cd647fb89530aaafdf1a241": {
      "model_module": "@jupyter-widgets/controls",
      "model_module_version": "1.0.0",
      "model_name": "FloatTextModel",
      "state": {
       "description": "Abundance",
       "layout": "IPY_MODEL_0eb099a48d0a46ed9d2c5c9068ee3cbf",
       "step": null,
       "style": "IPY_MODEL_7190db1d6935404a86a936b03fb35aee"
      }
     },
     "12611792fecb4e3a825fa33b00dfab4f": {
      "model_module": "@jupyter-widgets/base",
      "model_module_version": "1.0.0",
      "model_name": "LayoutModel",
      "state": {}
     },
     "1263795e9b9b4ff282b8af4592c23bdf": {
      "model_module": "@jupyter-widgets/controls",
      "model_module_version": "1.0.0",
      "model_name": "HTMLModel",
      "state": {
       "layout": "IPY_MODEL_93b3cf55930c4dd086479f3a5f922ade",
       "style": "IPY_MODEL_16c70636beb949efaa24cdb436c457c2",
       "value": "no annotation found"
      }
     },
     "12b79f054bad44a593585fa8ca3a8c51": {
      "model_module": "@jupyter-widgets/controls",
      "model_module_version": "1.0.0",
      "model_name": "ButtonModel",
      "state": {
       "description": "print axes ranges",
       "layout": "IPY_MODEL_96051a033f5b41e8b1d6420dc4a56497",
       "style": "IPY_MODEL_77a00bf1757a4947a5533197f51efd3d",
       "tooltip": "Print the x axis and y axis ranges. Useful to pass to `rect` parameter of heatmap function to zoom in the region automatically."
      }
     },
     "1301c4f3fffe4d4497f505b5fc37a806": {
      "model_module": "@jupyter-widgets/controls",
      "model_module_version": "1.0.0",
      "model_name": "ButtonStyleModel",
      "state": {}
     },
     "130932151fb0454d83008a76f0dae498": {
      "model_module": "@jupyter-widgets/controls",
      "model_module_version": "1.0.0",
      "model_name": "DescriptionStyleModel",
      "state": {
       "description_width": ""
      }
     },
     "130c532f5617441694bdc4dd1970a9fb": {
      "model_module": "@jupyter-widgets/controls",
      "model_module_version": "1.0.0",
      "model_name": "DropdownModel",
      "state": {
       "_options_labels": [
        "oxygen",
        "ph",
        "level1",
        "level2",
        "new.order",
        "ori.order",
        "taxonomy"
       ],
       "index": 0,
       "layout": "IPY_MODEL_76a4c29ac6244662b3cb68e1f2604050",
       "style": "IPY_MODEL_73abd810f1734ecfae7a305d76782767"
      }
     },
     "13bf6fe0be3d4ffdaf133741f2c0c76b": {
      "model_module": "@jupyter-widgets/controls",
      "model_module_version": "1.0.0",
      "model_name": "DescriptionStyleModel",
      "state": {
       "description_width": ""
      }
     },
     "140c80ea13984d0497fae62bd5c39e16": {
      "model_module": "@jupyter-widgets/base",
      "model_module_version": "1.0.0",
      "model_name": "LayoutModel",
      "state": {
       "width": "80%"
      }
     },
     "14255cf3a50244ee8e97663be3cfc90e": {
      "model_module": "@jupyter-widgets/controls",
      "model_module_version": "1.0.0",
      "model_name": "ButtonStyleModel",
      "state": {}
     },
     "148faa86f38543eca421ddfd03e4ee0b": {
      "model_module": "@jupyter-widgets/base",
      "model_module_version": "1.0.0",
      "model_name": "LayoutModel",
      "state": {}
     },
     "14c54f9ce4aa4ad7b3dc0efcd5256a9a": {
      "model_module": "@jupyter-widgets/controls",
      "model_module_version": "1.0.0",
      "model_name": "DescriptionStyleModel",
      "state": {
       "description_width": ""
      }
     },
     "14f2eb449d4d454dbdfbc5bd2c97f9de": {
      "model_module": "@jupyter-widgets/base",
      "model_module_version": "1.0.0",
      "model_name": "LayoutModel",
      "state": {}
     },
     "1539ec922da9434aa3284350d87a0477": {
      "model_module": "@jupyter-widgets/base",
      "model_module_version": "1.0.0",
      "model_name": "LayoutModel",
      "state": {}
     },
     "15b815f52c2f4a3fb3339e012a56c3a3": {
      "model_module": "@jupyter-widgets/controls",
      "model_module_version": "1.0.0",
      "model_name": "DescriptionStyleModel",
      "state": {
       "description_width": ""
      }
     },
     "169d5b99574f4b63b87199ac645201db": {
      "model_module": "@jupyter-widgets/base",
      "model_module_version": "1.0.0",
      "model_name": "LayoutModel",
      "state": {}
     },
     "16c70636beb949efaa24cdb436c457c2": {
      "model_module": "@jupyter-widgets/controls",
      "model_module_version": "1.0.0",
      "model_name": "DescriptionStyleModel",
      "state": {
       "description_width": ""
      }
     },
     "16f43a8c6b264025a2b6f27fd1d1a7b8": {
      "model_module": "@jupyter-widgets/controls",
      "model_module_version": "1.0.0",
      "model_name": "DescriptionStyleModel",
      "state": {
       "description_width": ""
      }
     },
     "170910412c47479d93ab6de0cfe5134d": {
      "model_module": "@jupyter-widgets/base",
      "model_module_version": "1.0.0",
      "model_name": "LayoutModel",
      "state": {
       "width": "20%"
      }
     },
     "175799df856748a3bbbad60e888ea6f4": {
      "model_module": "@jupyter-widgets/controls",
      "model_module_version": "1.0.0",
      "model_name": "DescriptionStyleModel",
      "state": {
       "description_width": ""
      }
     },
     "17945b3f34e9495b94e72877cc177ba9": {
      "model_module": "@jupyter-widgets/controls",
      "model_module_version": "1.0.0",
      "model_name": "HBoxModel",
      "state": {
       "children": [
        "IPY_MODEL_2e88b9c2aeaa47589580eaa4c139599f",
        "IPY_MODEL_7ec1d504c6d24d31913faf7265dba223"
       ],
       "layout": "IPY_MODEL_c3adfefeddca4773acdab8698aa6a6ac"
      }
     },
     "17a595be441a4df3a173bcf7e6d937c2": {
      "model_module": "@jupyter-widgets/base",
      "model_module_version": "1.0.0",
      "model_name": "LayoutModel",
      "state": {}
     },
     "17c1aa17f2104a48a90f5d16f19da70c": {
      "model_module": "@jupyter-widgets/controls",
      "model_module_version": "1.0.0",
      "model_name": "DescriptionStyleModel",
      "state": {
       "description_width": ""
      }
     },
     "17e6c6f5ef3944b18f112be21299f4cc": {
      "model_module": "@jupyter-widgets/controls",
      "model_module_version": "1.0.0",
      "model_name": "TextModel",
      "state": {
       "layout": "IPY_MODEL_dc6e298893a744e59909ba0b189be545",
       "placeholder": "feature meta",
       "style": "IPY_MODEL_bbb078d65f794a72b7e5112b4df5c9b1",
       "value": "aerobic"
      }
     },
     "18bf9761334845b28c0a3aa5c2ed99e3": {
      "model_module": "@jupyter-widgets/controls",
      "model_module_version": "1.0.0",
      "model_name": "ButtonModel",
      "state": {
       "description": "print axes ranges",
       "layout": "IPY_MODEL_48885d2c446042efa4b74b97572049e6",
       "style": "IPY_MODEL_3768e755d3a248859fac3856d251c403",
       "tooltip": "Print the x axis and y axis ranges. Useful to pass to `rect` parameter of heatmap() to zoom in the region automatically."
      }
     },
     "18f720008c9a4ccdb2498fcb8b93a6b1": {
      "model_module": "@jupyter-widgets/controls",
      "model_module_version": "1.0.0",
      "model_name": "TextModel",
      "state": {
       "description": "Feature ID",
       "layout": "IPY_MODEL_eb5873d689c945bebbb75ea92831f359",
       "placeholder": "Feature ID",
       "style": "IPY_MODEL_b3bff8aac6484568ba2be1ecb46d5a48",
       "value": "-"
      }
     },
     "1912bfebd2fc483bb4324f79adc1d059": {
      "model_module": "@jupyter-widgets/controls",
      "model_module_version": "1.0.0",
      "model_name": "DescriptionStyleModel",
      "state": {
       "description_width": ""
      }
     },
     "192e851cd1444172b6eadc18aadea290": {
      "model_module": "@jupyter-widgets/controls",
      "model_module_version": "1.0.0",
      "model_name": "DescriptionStyleModel",
      "state": {
       "description_width": ""
      }
     },
     "1943c6877755496fb5c3bc28587923ed": {
      "model_module": "@jupyter-widgets/controls",
      "model_module_version": "1.0.0",
      "model_name": "HBoxModel",
      "state": {
       "children": [
        "IPY_MODEL_0f41cda0e2e849ffb2bc1336f05c5a1c",
        "IPY_MODEL_4ffe4af096164b31a7c16031578d6bd2"
       ],
       "layout": "IPY_MODEL_e4bf18ee5d5740238c505c1defb7026e"
      }
     },
     "195665b307514fb28b4a42014a81a556": {
      "model_module": "@jupyter-widgets/base",
      "model_module_version": "1.0.0",
      "model_name": "LayoutModel",
      "state": {}
     },
     "19bf21bc950c4dd2a4a5ea5b863db538": {
      "model_module": "@jupyter-widgets/controls",
      "model_module_version": "1.0.0",
      "model_name": "DescriptionStyleModel",
      "state": {
       "description_width": ""
      }
     },
     "1a7a5c06d73a4c13a2f61611d55ccd09": {
      "model_module": "@jupyter-widgets/controls",
      "model_module_version": "1.0.0",
      "model_name": "HBoxModel",
      "state": {
       "children": [
        "IPY_MODEL_1ca598c25b9243aabfabd7fa4829a7bb",
        "IPY_MODEL_03afd9c80305460da693465a4c8c4960"
       ],
       "layout": "IPY_MODEL_277774fb06a445ada09b50fa66740e42"
      }
     },
     "1aa033a2c0084e96a8aac724ffcc9e2e": {
      "model_module": "@jupyter-widgets/base",
      "model_module_version": "1.0.0",
      "model_name": "LayoutModel",
      "state": {}
     },
     "1ac6b37afacb498ebfece1a72b94a757": {
      "model_module": "@jupyter-widgets/controls",
      "model_module_version": "1.0.0",
      "model_name": "ButtonModel",
      "state": {
       "description": "print axes ranges",
       "layout": "IPY_MODEL_c3cc053d613446ee9afc199a73662d26",
       "style": "IPY_MODEL_89ae00871d4140e1a799839ff5fcc377",
       "tooltip": "Print the x axis and y axis ranges. Useful to pass to `rect` parameter of heatmap() to zoom in the region automatically."
      }
     },
     "1aceff07744c4442ab914d6ffe4c7528": {
      "model_module": "@jupyter-widgets/base",
      "model_module_version": "1.0.0",
      "model_name": "LayoutModel",
      "state": {}
     },
     "1af83f23ed93416fa763860d11a7fbc2": {
      "model_module": "@jupyter-widgets/controls",
      "model_module_version": "1.0.0",
      "model_name": "DescriptionStyleModel",
      "state": {
       "description_width": ""
      }
     },
     "1b93ba673e8a447ba9a94ca63684b4df": {
      "model_module": "@jupyter-widgets/controls",
      "model_module_version": "1.0.0",
      "model_name": "DropdownModel",
      "state": {
       "_options_labels": [
        "ori.order",
        "group",
        "new.order",
        "categorical",
        "_calour_original_abundance"
       ],
       "index": 0,
       "layout": "IPY_MODEL_8b3f124b74d34e099526cd43528360e9",
       "style": "IPY_MODEL_fb2bc2f08bf94fac954692de749449a2"
      }
     },
     "1b96d65ac89749b09de255e7b81a7540": {
      "model_module": "@jupyter-widgets/controls",
      "model_module_version": "1.0.0",
      "model_name": "DescriptionStyleModel",
      "state": {
       "description_width": ""
      }
     },
     "1bca3f6dd10c4d21b4f8e64d641d5e00": {
      "model_module": "@jupyter-widgets/base",
      "model_module_version": "1.0.0",
      "model_name": "LayoutModel",
      "state": {
       "width": "20%"
      }
     },
     "1be9ad42625e48cfbce132d77aeefcaf": {
      "model_module": "@jupyter-widgets/controls",
      "model_module_version": "1.0.0",
      "model_name": "TextModel",
      "state": {
       "description": "Feature ID",
       "layout": "IPY_MODEL_2ba689d5830d4d06b98eb1020bab37da",
       "placeholder": "Feature ID",
       "style": "IPY_MODEL_a0cb132f7340491781db63390944a956",
       "value": "AT"
      }
     },
     "1c5c5ccf5ee94e9e836a6732b53ed0c0": {
      "model_module": "@jupyter-widgets/base",
      "model_module_version": "1.0.0",
      "model_name": "LayoutModel",
      "state": {
       "width": "80%"
      }
     },
     "1ca598c25b9243aabfabd7fa4829a7bb": {
      "model_module": "@jupyter-widgets/controls",
      "model_module_version": "1.0.0",
      "model_name": "DropdownModel",
      "state": {
       "_options_labels": [
        "ori.order",
        "group",
        "new.order",
        "categorical",
        "_calour_original_abundance"
       ],
       "index": 0,
       "layout": "IPY_MODEL_1fe4969c6c2b4ba2871514b522ea16a1",
       "style": "IPY_MODEL_6df422153c51450d85155036cba4cf6f"
      }
     },
     "1cdffe63f17a4ec7938b0dd19311d3c2": {
      "model_module": "@jupyter-widgets/controls",
      "model_module_version": "1.0.0",
      "model_name": "DescriptionStyleModel",
      "state": {
       "description_width": ""
      }
     },
     "1d2247fc840142599b3ddef502af6cd5": {
      "model_module": "@jupyter-widgets/controls",
      "model_module_version": "1.0.0",
      "model_name": "TextModel",
      "state": {
       "layout": "IPY_MODEL_a264106d08ab4e3182f0eb151d3a5a3b",
       "placeholder": "sample meta",
       "style": "IPY_MODEL_8c33abe2cb1044fb83829803231f6851",
       "value": "8"
      }
     },
     "1d316816306648799af56406d3904b0c": {
      "model_module": "@jupyter-widgets/controls",
      "model_module_version": "1.0.0",
      "model_name": "TextModel",
      "state": {
       "description": "Sample ID",
       "layout": "IPY_MODEL_44994213f04e4c3ba75264ca4cf6a7cd",
       "placeholder": "Sample ID",
       "style": "IPY_MODEL_fdd580f0a23446928b11450afc7126c6",
       "value": "-"
      }
     },
     "1ed638313c3f448f9b882883690d7fad": {
      "model_module": "@jupyter-widgets/controls",
      "model_module_version": "1.0.0",
      "model_name": "DescriptionStyleModel",
      "state": {
       "description_width": ""
      }
     },
     "1f3e1bb65140435b8d35fa3271d8d3ed": {
      "model_module": "@jupyter-widgets/controls",
      "model_module_version": "1.0.0",
      "model_name": "DescriptionStyleModel",
      "state": {
       "description_width": ""
      }
     },
     "1fa38d87ff6742e68997a9f231d354ab": {
      "model_module": "@jupyter-widgets/controls",
      "model_module_version": "1.0.0",
      "model_name": "HBoxModel",
      "state": {
       "children": [
        "IPY_MODEL_31ff334f0f0a4500b8c01fefed5e7a40",
        "IPY_MODEL_0188bd766c4041b48cb5c820dc4c873d"
       ],
       "layout": "IPY_MODEL_6d3f9f8661564e979d032d847121a960"
      }
     },
     "1fc0a26a88e04820bd0e31013f0d20f3": {
      "model_module": "@jupyter-widgets/controls",
      "model_module_version": "1.0.0",
      "model_name": "DropdownModel",
      "state": {
       "_options_labels": [
        "ori.order",
        "group",
        "new.order",
        "categorical",
        "_calour_original_abundance"
       ],
       "index": 0,
       "layout": "IPY_MODEL_637cab06a7964540a03c4c44cc007a97",
       "style": "IPY_MODEL_42d2c3b567f84b668c7dacfc2f617807"
      }
     },
     "1fe4969c6c2b4ba2871514b522ea16a1": {
      "model_module": "@jupyter-widgets/base",
      "model_module_version": "1.0.0",
      "model_name": "LayoutModel",
      "state": {
       "width": "20%"
      }
     },
     "200cb43361284d0f99b1e50f867b437c": {
      "model_module": "@jupyter-widgets/base",
      "model_module_version": "1.0.0",
      "model_name": "LayoutModel",
      "state": {}
     },
     "202fbfc1d72d49538f9352c9a54f7716": {
      "model_module": "@jupyter-widgets/controls",
      "model_module_version": "1.0.0",
      "model_name": "ButtonModel",
      "state": {
       "description": "Save",
       "layout": "IPY_MODEL_e7332e7508064f9ab0dc7129ca5814b5",
       "style": "IPY_MODEL_619a4953f5e043a9a548fad66ccba3ca",
       "tooltip": "Save the selection(s)"
      }
     },
     "203bc1efd27145f4990a475c796ad20f": {
      "model_module": "@jupyter-widgets/controls",
      "model_module_version": "1.0.0",
      "model_name": "HBoxModel",
      "state": {
       "children": [
        "IPY_MODEL_29f107f897974babaeec89338afa71e4",
        "IPY_MODEL_0a33afa81af04d598d3cf743b1b36c1a"
       ],
       "layout": "IPY_MODEL_c3dca8624be44fa980083b76739f44f4"
      }
     },
     "2062ce2a6b1549bea755c5a781ebd239": {
      "model_module": "@jupyter-widgets/controls",
      "model_module_version": "1.0.0",
      "model_name": "TextModel",
      "state": {
       "description": "Sample ID",
       "layout": "IPY_MODEL_452f48ef744e4620a76c97266df33ac1",
       "placeholder": "Sample ID",
       "style": "IPY_MODEL_57765883fde449c2a89fe146b1bf031c",
       "value": "-"
      }
     },
     "2088bf9c285b4ed482c5ac44c04f2a92": {
      "model_module": "@jupyter-widgets/base",
      "model_module_version": "1.0.0",
      "model_name": "LayoutModel",
      "state": {
       "width": "80%"
      }
     },
     "2089cc59783946a28690e78b3d6692c1": {
      "model_module": "@jupyter-widgets/controls",
      "model_module_version": "1.0.0",
      "model_name": "FloatTextModel",
      "state": {
       "description": "Abundance",
       "layout": "IPY_MODEL_eb5873d689c945bebbb75ea92831f359",
       "step": null,
       "style": "IPY_MODEL_54e3b93483e440b2b50459e7b18b5d0b"
      }
     },
     "21566f57e7074209b44de392e4e27393": {
      "model_module": "@jupyter-widgets/controls",
      "model_module_version": "1.0.0",
      "model_name": "ButtonModel",
      "state": {
       "description": "Save",
       "layout": "IPY_MODEL_195665b307514fb28b4a42014a81a556",
       "style": "IPY_MODEL_d0995ed1839d48dc85eda76152354b9d"
      }
     },
     "21a640f396f34f4db4b7a7fffd54d96e": {
      "model_module": "@jupyter-widgets/controls",
      "model_module_version": "1.0.0",
      "model_name": "DescriptionStyleModel",
      "state": {
       "description_width": ""
      }
     },
     "21bd540ca3754b9c971290c257117b0f": {
      "model_module": "@jupyter-widgets/controls",
      "model_module_version": "1.0.0",
      "model_name": "TextModel",
      "state": {
       "description": "Sample ID",
       "layout": "IPY_MODEL_90938660446045f789e980da5024085c",
       "placeholder": "Sample ID",
       "style": "IPY_MODEL_251fefe9eb104ecba782bcfc5118074a",
       "value": "-"
      }
     },
     "21cb8b2b996949ba8aa772921d80b96a": {
      "model_module": "@jupyter-widgets/base",
      "model_module_version": "1.0.0",
      "model_name": "LayoutModel",
      "state": {
       "width": "80%"
      }
     },
     "21e8a7ff1b614639866a5c3baf905390": {
      "model_module": "@jupyter-widgets/controls",
      "model_module_version": "1.0.0",
      "model_name": "DescriptionStyleModel",
      "state": {
       "description_width": ""
      }
     },
     "222c760c1e2c4d4aa967d479fb0effb6": {
      "model_module": "@jupyter-widgets/controls",
      "model_module_version": "1.0.0",
      "model_name": "DescriptionStyleModel",
      "state": {
       "description_width": ""
      }
     },
     "22c1472937e64ed084e5635ee98f157c": {
      "model_module": "@jupyter-widgets/base",
      "model_module_version": "1.0.0",
      "model_name": "LayoutModel",
      "state": {
       "width": "80%"
      }
     },
     "22d4ab3d84414b5eb1aff5eca6f11e4c": {
      "model_module": "@jupyter-widgets/controls",
      "model_module_version": "1.0.0",
      "model_name": "ButtonStyleModel",
      "state": {}
     },
     "22f53a34a2bd4748a14ca0ae7398e231": {
      "model_module": "@jupyter-widgets/controls",
      "model_module_version": "1.0.0",
      "model_name": "DescriptionStyleModel",
      "state": {
       "description_width": ""
      }
     },
     "2306aee16b2e498fb8752c9345c366fd": {
      "model_module": "@jupyter-widgets/base",
      "model_module_version": "1.0.0",
      "model_name": "LayoutModel",
      "state": {}
     },
     "232d1bbacd774565a1f19442f7cc04b0": {
      "model_module": "@jupyter-widgets/controls",
      "model_module_version": "1.0.0",
      "model_name": "DescriptionStyleModel",
      "state": {
       "description_width": ""
      }
     },
     "23aa5666830e46a28a3081ea708151b4": {
      "model_module": "@jupyter-widgets/base",
      "model_module_version": "1.0.0",
      "model_name": "LayoutModel",
      "state": {}
     },
     "23b061e4a6d6467bbe15094c7375cb96": {
      "model_module": "@jupyter-widgets/controls",
      "model_module_version": "1.0.0",
      "model_name": "DescriptionStyleModel",
      "state": {
       "description_width": ""
      }
     },
     "23e50a1a174846699df34ed9cd5225dc": {
      "model_module": "@jupyter-widgets/controls",
      "model_module_version": "1.0.0",
      "model_name": "HTMLModel",
      "state": {
       "layout": "IPY_MODEL_b9bdee414b69412d84a2571780f1f7b0",
       "style": "IPY_MODEL_fadb1ba531c74fe8ac7152c0836b2bb3",
       "value": "no annotation found"
      }
     },
     "243ca8ad67194a5e90e30528a4f3a959": {
      "model_module": "@jupyter-widgets/controls",
      "model_module_version": "1.0.0",
      "model_name": "DescriptionStyleModel",
      "state": {
       "description_width": ""
      }
     },
     "2470ee5124b4465b9848dd784432767a": {
      "model_module": "@jupyter-widgets/base",
      "model_module_version": "1.0.0",
      "model_name": "LayoutModel",
      "state": {
       "width": "20%"
      }
     },
     "251fefe9eb104ecba782bcfc5118074a": {
      "model_module": "@jupyter-widgets/controls",
      "model_module_version": "1.0.0",
      "model_name": "DescriptionStyleModel",
      "state": {
       "description_width": ""
      }
     },
     "255537ebc0b3440bb5aa1005ee72f7c5": {
      "model_module": "@jupyter-widgets/controls",
      "model_module_version": "1.0.0",
      "model_name": "DropdownModel",
      "state": {
       "_options_labels": [
        "oxygen",
        "ph",
        "level1",
        "level2",
        "new.order",
        "ori.order",
        "taxonomy"
       ],
       "index": 0,
       "layout": "IPY_MODEL_6ba4d258476e48e7b1b63a2ea5c37cdc",
       "style": "IPY_MODEL_34d17a8e01d6450d8bcb4d905aaacbc1"
      }
     },
     "25fefce25fe843eb97fb0dddec8ce158": {
      "model_module": "@jupyter-widgets/base",
      "model_module_version": "1.0.0",
      "model_name": "LayoutModel",
      "state": {
       "width": "20%"
      }
     },
     "264c71cb5c2f448fbc2b032fcae8e7e8": {
      "model_module": "@jupyter-widgets/controls",
      "model_module_version": "1.0.0",
      "model_name": "DescriptionStyleModel",
      "state": {
       "description_width": ""
      }
     },
     "266acbea6439498d9c9835dd34bc2b56": {
      "model_module": "@jupyter-widgets/controls",
      "model_module_version": "1.0.0",
      "model_name": "HBoxModel",
      "state": {
       "children": [
        "IPY_MODEL_3a1f7ad3862c448a9d633ce9308ec357",
        "IPY_MODEL_72ca2da620864950a1ce9d943470cdf3"
       ],
       "layout": "IPY_MODEL_a90a70232dbc40e498e9530981c3096b"
      }
     },
     "26b0a8291b8a43779ec1ea5975dce562": {
      "model_module": "@jupyter-widgets/base",
      "model_module_version": "1.0.0",
      "model_name": "LayoutModel",
      "state": {
       "width": "100%"
      }
     },
     "270b6d3846df4858be126fb7414162e0": {
      "model_module": "@jupyter-widgets/controls",
      "model_module_version": "1.0.0",
      "model_name": "DropdownModel",
      "state": {
       "_options_labels": [
        "ori.order",
        "group",
        "new.order",
        "categorical",
        "_calour_original_abundance"
       ],
       "index": 0,
       "layout": "IPY_MODEL_b99e9da4029b419090801961b9cf61bd",
       "style": "IPY_MODEL_5d347afdf8964e68ad9b873b4e3561ef"
      }
     },
     "2715248910f54ce885844419727a747e": {
      "model_module": "@jupyter-widgets/controls",
      "model_module_version": "1.0.0",
      "model_name": "HTMLModel",
      "state": {
       "layout": "IPY_MODEL_3a3f2fd1125a41adad85ab3a1433de1f",
       "style": "IPY_MODEL_1912bfebd2fc483bb4324f79adc1d059",
       "value": "<style> a:link {color:black; background-color:transparent; text-decoration:none}a:visited {color:black; background-color:transparent; text-decoration:none}</style><p style=\"color:black;white-space:nowrap;\"><a href=\"http://dbbact.org/annotation_info/NA\"   target=\"_blank\">No annotation found in database dbBact</a></p>"
      }
     },
     "277774fb06a445ada09b50fa66740e42": {
      "model_module": "@jupyter-widgets/base",
      "model_module_version": "1.0.0",
      "model_name": "LayoutModel",
      "state": {}
     },
     "27b1fc23675040c7ae865bfc0604cc82": {
      "model_module": "@jupyter-widgets/controls",
      "model_module_version": "1.0.0",
      "model_name": "DescriptionStyleModel",
      "state": {
       "description_width": ""
      }
     },
     "27cb91b373b0428ca464d7ec2e4a81e7": {
      "model_module": "@jupyter-widgets/controls",
      "model_module_version": "1.0.0",
      "model_name": "TextModel",
      "state": {
       "layout": "IPY_MODEL_47e81a79b0d449069d97164dbb7f2445",
       "placeholder": "sample meta",
       "style": "IPY_MODEL_f017309af9ce4009baf89347e8da140d",
       "value": "-"
      }
     },
     "28402a2388724c3fae2a366a99faa3cd": {
      "model_module": "@jupyter-widgets/controls",
      "model_module_version": "1.0.0",
      "model_name": "TextModel",
      "state": {
       "description": "Sample ID",
       "layout": "IPY_MODEL_0fc054d821a547a59cd2399708c31d56",
       "placeholder": "Sample ID",
       "style": "IPY_MODEL_fe8b7b14bd7e4db583f408717f0e0285",
       "value": "S9"
      }
     },
     "284f28960d404abc9d30388fd673c37c": {
      "model_module": "@jupyter-widgets/controls",
      "model_module_version": "1.0.0",
      "model_name": "HBoxModel",
      "state": {
       "children": [
        "IPY_MODEL_255537ebc0b3440bb5aa1005ee72f7c5",
        "IPY_MODEL_4395cc26020f41f4b1321cc2eb9c4532"
       ],
       "layout": "IPY_MODEL_7daf8677bcaf43b191a32cfa52e9cb66"
      }
     },
     "287bcf9dbc26408cba8f5cdf3348f93b": {
      "model_module": "@jupyter-widgets/controls",
      "model_module_version": "1.0.0",
      "model_name": "DropdownModel",
      "state": {
       "_options_labels": [
        "oxygen",
        "ph",
        "level1",
        "level2",
        "new.order",
        "ori.order",
        "taxonomy"
       ],
       "index": 0,
       "layout": "IPY_MODEL_43d4178e3a6748de8b719661c4738663",
       "style": "IPY_MODEL_1af83f23ed93416fa763860d11a7fbc2"
      }
     },
     "28933b63a14b4519b03df2e558d27162": {
      "model_module": "@jupyter-widgets/base",
      "model_module_version": "1.0.0",
      "model_name": "LayoutModel",
      "state": {
       "width": "20%"
      }
     },
     "28b49254158a4cd68e7f78a0c69fccad": {
      "model_module": "@jupyter-widgets/controls",
      "model_module_version": "1.0.0",
      "model_name": "TextModel",
      "state": {
       "layout": "IPY_MODEL_ade922e74dca451c9513706e02715cef",
       "placeholder": "sample meta",
       "style": "IPY_MODEL_7043632e77bf4cfd8248c070e4b06212",
       "value": "8"
      }
     },
     "2979aa0ba7fa4d099eb2e734cbd2da55": {
      "model_module": "@jupyter-widgets/base",
      "model_module_version": "1.0.0",
      "model_name": "LayoutModel",
      "state": {
       "width": "20%"
      }
     },
     "29e59b1f20dc408bb2d2fff975a9b41b": {
      "model_module": "@jupyter-widgets/controls",
      "model_module_version": "1.0.0",
      "model_name": "DropdownModel",
      "state": {
       "_options_labels": [
        "ori.order",
        "group",
        "new.order",
        "categorical",
        "_calour_original_abundance"
       ],
       "index": 0,
       "layout": "IPY_MODEL_abe3ea449b7341bb8514ac5575384e14",
       "style": "IPY_MODEL_0376c356e3a645a4b26a4cbf09b020c3"
      }
     },
     "29e808bc686b4452995d7e9049b7205f": {
      "model_module": "@jupyter-widgets/base",
      "model_module_version": "1.0.0",
      "model_name": "LayoutModel",
      "state": {
       "width": "20%"
      }
     },
     "29f107f897974babaeec89338afa71e4": {
      "model_module": "@jupyter-widgets/controls",
      "model_module_version": "1.0.0",
      "model_name": "DropdownModel",
      "state": {
       "_options_labels": [
        "oxygen",
        "ph",
        "level1",
        "level2",
        "new.order",
        "ori.order",
        "taxonomy"
       ],
       "index": 0,
       "layout": "IPY_MODEL_7bef7c20e9464d468783ca4a78c3d30d",
       "style": "IPY_MODEL_879abe67fe034d72aa5ee141d7fd465e"
      }
     },
     "2a79dfa401c949a59b6432958fb07569": {
      "model_module": "@jupyter-widgets/controls",
      "model_module_version": "1.0.0",
      "model_name": "ButtonStyleModel",
      "state": {}
     },
     "2a949cb24c8549f99ad364f255401d62": {
      "model_module": "@jupyter-widgets/controls",
      "model_module_version": "1.0.0",
      "model_name": "FloatTextModel",
      "state": {
       "description": "Abundance",
       "layout": "IPY_MODEL_6a78243a8abb4458b19ae1a0500dab91",
       "step": null,
       "style": "IPY_MODEL_7bc60e2cf7fa45db8205d74c444fb512"
      }
     },
     "2aec13d18d6f43d592eea906856e9abc": {
      "model_module": "@jupyter-widgets/controls",
      "model_module_version": "1.0.0",
      "model_name": "DescriptionStyleModel",
      "state": {
       "description_width": ""
      }
     },
     "2b4b30636de24a7d87ec9b53a9931001": {
      "model_module": "@jupyter-widgets/controls",
      "model_module_version": "1.0.0",
      "model_name": "FloatTextModel",
      "state": {
       "description": "Abundance",
       "layout": "IPY_MODEL_e645d7359c8d49039234e2ac88b11a85",
       "step": null,
       "style": "IPY_MODEL_34c560d96eef45a3a977baffe76d58a3",
       "value": 900
      }
     },
     "2ba689d5830d4d06b98eb1020bab37da": {
      "model_module": "@jupyter-widgets/base",
      "model_module_version": "1.0.0",
      "model_name": "LayoutModel",
      "state": {
       "width": "100%"
      }
     },
     "2bb37815d26946618ddde090bc8a36d1": {
      "model_module": "@jupyter-widgets/base",
      "model_module_version": "1.0.0",
      "model_name": "LayoutModel",
      "state": {}
     },
     "2bd369cb84544a29820f7d31f00d75ea": {
      "model_module": "@jupyter-widgets/base",
      "model_module_version": "1.0.0",
      "model_name": "LayoutModel",
      "state": {
       "width": "20%"
      }
     },
     "2bfb81ad23ac4a45baa2a3e07d12d60c": {
      "model_module": "@jupyter-widgets/base",
      "model_module_version": "1.0.0",
      "model_name": "LayoutModel",
      "state": {}
     },
     "2c2795edfcaa4232adfbbcd583c438b4": {
      "model_module": "@jupyter-widgets/base",
      "model_module_version": "1.0.0",
      "model_name": "LayoutModel",
      "state": {
       "width": "20%"
      }
     },
     "2c8602ed24ca483db38d09c8cd22029f": {
      "model_module": "@jupyter-widgets/controls",
      "model_module_version": "1.0.0",
      "model_name": "ButtonModel",
      "state": {
       "description": "Save",
       "layout": "IPY_MODEL_6bedb4baac694ac8a59c20e170d35890",
       "style": "IPY_MODEL_f1b89d11ed9d4e528e65da3a7f0a7637",
       "tooltip": "Save the selection(s)"
      }
     },
     "2c8de8243de84e59bc88e66697fc11b2": {
      "model_module": "@jupyter-widgets/controls",
      "model_module_version": "1.0.0",
      "model_name": "ButtonModel",
      "state": {
       "description": "Annotate",
       "layout": "IPY_MODEL_fff4cb1692bd4787bc8a886a83220275",
       "style": "IPY_MODEL_b8a335a2fd044ae29795138322201e00"
      }
     },
     "2cd6a44f6b394ae08f319e2560c5ae91": {
      "model_module": "@jupyter-widgets/controls",
      "model_module_version": "1.0.0",
      "model_name": "TextModel",
      "state": {
       "layout": "IPY_MODEL_4ba7c81175cf491ab6cea7432343952d",
       "placeholder": "feature meta",
       "style": "IPY_MODEL_7a41573e30004dbabf0043eee1f46740",
       "value": "anaerobic"
      }
     },
     "2d37a5e15cda47b68a805f2ec44bcbbd": {
      "model_module": "@jupyter-widgets/controls",
      "model_module_version": "1.0.0",
      "model_name": "TextModel",
      "state": {
       "layout": "IPY_MODEL_03f1c9ce4df544d492ec0a01f1a26d87",
       "placeholder": "feature meta",
       "style": "IPY_MODEL_4aae4558364a4e80a2d3a1cd34e490a0",
       "value": "-"
      }
     },
     "2d96f0e0dcce496b9430fe6b238e5ba8": {
      "model_module": "@jupyter-widgets/controls",
      "model_module_version": "1.0.0",
      "model_name": "HBoxModel",
      "state": {
       "children": [
        "IPY_MODEL_12b79f054bad44a593585fa8ca3a8c51",
        "IPY_MODEL_726ebe804d5546d1b1d32c81ba16eb54",
        "IPY_MODEL_6b04e885f258431aa527f05fa131ddcd"
       ],
       "layout": "IPY_MODEL_fe17a9f6eb674a01bf2b574371434fa7"
      }
     },
     "2d96ff52a28448d9a5b34edec0c6c130": {
      "model_module": "@jupyter-widgets/controls",
      "model_module_version": "1.0.0",
      "model_name": "DropdownModel",
      "state": {
       "_options_labels": [
        "ori.order",
        "group",
        "new.order",
        "categorical",
        "_calour_original_abundance"
       ],
       "index": 0,
       "layout": "IPY_MODEL_c77aefc22b624e44b3dedac6e100afcc",
       "style": "IPY_MODEL_c6baf46e7ef5412da2ba5d6d8d9a3176"
      }
     },
     "2e2b0abce5da4dc5a6a66343af5f5fe6": {
      "model_module": "@jupyter-widgets/controls",
      "model_module_version": "1.0.0",
      "model_name": "ButtonModel",
      "state": {
       "description": "Save",
       "layout": "IPY_MODEL_054edc993fcf47d388a137916bc92da7",
       "style": "IPY_MODEL_b1865a55f3cc4806936ca9846d26dfdc",
       "tooltip": "Save the selection(s)"
      }
     },
     "2e2fc3b9154e4cc086926a7671fbe671": {
      "model_module": "@jupyter-widgets/controls",
      "model_module_version": "1.0.0",
      "model_name": "DescriptionStyleModel",
      "state": {
       "description_width": ""
      }
     },
     "2e88b9c2aeaa47589580eaa4c139599f": {
      "model_module": "@jupyter-widgets/controls",
      "model_module_version": "1.0.0",
      "model_name": "DropdownModel",
      "state": {
       "_options_labels": [
        "oxygen",
        "ph",
        "level1",
        "level2",
        "new.order",
        "ori.order",
        "taxonomy"
       ],
       "index": 0,
       "layout": "IPY_MODEL_28933b63a14b4519b03df2e558d27162",
       "style": "IPY_MODEL_222c760c1e2c4d4aa967d479fb0effb6"
      }
     },
     "2eb8e2db28e04011a26a20c32b732cd5": {
      "model_module": "@jupyter-widgets/base",
      "model_module_version": "1.0.0",
      "model_name": "LayoutModel",
      "state": {}
     },
     "2ef739485b2b43fcb5cf79c53e6346dd": {
      "model_module": "@jupyter-widgets/controls",
      "model_module_version": "1.0.0",
      "model_name": "DescriptionStyleModel",
      "state": {
       "description_width": ""
      }
     },
     "3031ec9cc51948878c34cf0d2cc36791": {
      "model_module": "@jupyter-widgets/controls",
      "model_module_version": "1.0.0",
      "model_name": "DescriptionStyleModel",
      "state": {
       "description_width": ""
      }
     },
     "303bf4dfd017450fb4be2a009fe5f381": {
      "model_module": "@jupyter-widgets/controls",
      "model_module_version": "1.0.0",
      "model_name": "HTMLModel",
      "state": {
       "layout": "IPY_MODEL_8ae8fe10e65a46efbed6fafc0d1aba7c",
       "style": "IPY_MODEL_5bd5353aa92640ac9a7407187cf89779",
       "value": "<style> a:link {color:black; background-color:transparent; text-decoration:none}a:visited {color:black; background-color:transparent; text-decoration:none}</style><p style=\"color:black;white-space:nowrap;\"><a href=\"http://dbbact.org/annotation_info/NA\"   target=\"_blank\">No annotation found in database dbBact</a></p>"
      }
     },
     "30c9afd23bbb4a14b515ac1cc0d9b2a8": {
      "model_module": "@jupyter-widgets/controls",
      "model_module_version": "1.0.0",
      "model_name": "DropdownModel",
      "state": {
       "_options_labels": [
        "oxygen",
        "ph",
        "level1",
        "level2",
        "new.order",
        "ori.order",
        "taxonomy"
       ],
       "index": 0,
       "layout": "IPY_MODEL_3210a34bce134a5eab168002ba9c757c",
       "style": "IPY_MODEL_960df2a4f6054b57a54b257213e7f63e"
      }
     },
     "31ff334f0f0a4500b8c01fefed5e7a40": {
      "model_module": "@jupyter-widgets/controls",
      "model_module_version": "1.0.0",
      "model_name": "DropdownModel",
      "state": {
       "_options_labels": [
        "oxygen",
        "ph",
        "level1",
        "level2",
        "new.order",
        "ori.order",
        "taxonomy"
       ],
       "index": 0,
       "layout": "IPY_MODEL_2c2795edfcaa4232adfbbcd583c438b4",
       "style": "IPY_MODEL_27b1fc23675040c7ae865bfc0604cc82"
      }
     },
     "3210a34bce134a5eab168002ba9c757c": {
      "model_module": "@jupyter-widgets/base",
      "model_module_version": "1.0.0",
      "model_name": "LayoutModel",
      "state": {
       "width": "20%"
      }
     },
     "32531c6449d2475e958d1725bcabe040": {
      "model_module": "@jupyter-widgets/base",
      "model_module_version": "1.0.0",
      "model_name": "LayoutModel",
      "state": {
       "width": "80%"
      }
     },
     "32e6f77cf1564b7a942e1df329361bc8": {
      "model_module": "@jupyter-widgets/controls",
      "model_module_version": "1.0.0",
      "model_name": "DescriptionStyleModel",
      "state": {
       "description_width": ""
      }
     },
     "32ed7ce94fa4446685d4c9fd31f767a9": {
      "model_module": "@jupyter-widgets/base",
      "model_module_version": "1.0.0",
      "model_name": "LayoutModel",
      "state": {
       "width": "20%"
      }
     },
     "33344284774f4887ad26d9c556943fe0": {
      "model_module": "@jupyter-widgets/controls",
      "model_module_version": "1.0.0",
      "model_name": "LabelModel",
      "state": {
       "layout": "IPY_MODEL_83abe99485bf4107aac03846fa6c9969",
       "style": "IPY_MODEL_e313380e1f6b41359c77a6705ccd1576",
       "value": "1 features are selected"
      }
     },
     "336d2c9752d943d387b7a98127cf5e54": {
      "model_module": "@jupyter-widgets/controls",
      "model_module_version": "1.0.0",
      "model_name": "TextModel",
      "state": {
       "description": "Sample ID",
       "layout": "IPY_MODEL_2ba689d5830d4d06b98eb1020bab37da",
       "placeholder": "Sample ID",
       "style": "IPY_MODEL_91814db0b8d64f12b71d3d70653e8801",
       "value": "S3"
      }
     },
     "33f27180a6ac49a5b8eac0b8e7c1a59b": {
      "model_module": "@jupyter-widgets/controls",
      "model_module_version": "1.0.0",
      "model_name": "DescriptionStyleModel",
      "state": {
       "description_width": ""
      }
     },
     "3420682b367d4a3f961ac834a60cea69": {
      "model_module": "@jupyter-widgets/controls",
      "model_module_version": "1.0.0",
      "model_name": "ButtonModel",
      "state": {
       "description": "Annotate",
       "layout": "IPY_MODEL_0dcb8e4af49f4ae589e9f9c6952f95c1",
       "style": "IPY_MODEL_480e3f0f685a447ab02485dab40b2440"
      }
     },
     "3494986736514571ae2c90fc89f1f6bb": {
      "model_module": "@jupyter-widgets/controls",
      "model_module_version": "1.0.0",
      "model_name": "DescriptionStyleModel",
      "state": {
       "description_width": ""
      }
     },
     "3499ffa30e94402ba4c68f98a5f63755": {
      "model_module": "@jupyter-widgets/controls",
      "model_module_version": "1.0.0",
      "model_name": "DescriptionStyleModel",
      "state": {
       "description_width": ""
      }
     },
     "34c560d96eef45a3a977baffe76d58a3": {
      "model_module": "@jupyter-widgets/controls",
      "model_module_version": "1.0.0",
      "model_name": "DescriptionStyleModel",
      "state": {
       "description_width": ""
      }
     },
     "34d17a8e01d6450d8bcb4d905aaacbc1": {
      "model_module": "@jupyter-widgets/controls",
      "model_module_version": "1.0.0",
      "model_name": "DescriptionStyleModel",
      "state": {
       "description_width": ""
      }
     },
     "351ae87e74134ce0b3f740d54860644e": {
      "model_module": "@jupyter-widgets/controls",
      "model_module_version": "1.0.0",
      "model_name": "TextModel",
      "state": {
       "layout": "IPY_MODEL_f114eb6581ee4c87b838083234c754da",
       "placeholder": "sample meta",
       "style": "IPY_MODEL_b6d12b824375495ab474bda317ce2bbe",
       "value": "-"
      }
     },
     "354225d24e364044adb57e3f33eab86a": {
      "model_module": "@jupyter-widgets/controls",
      "model_module_version": "1.0.0",
      "model_name": "TextModel",
      "state": {
       "layout": "IPY_MODEL_6cfc29a9736b486589cddb2aec69eff6",
       "placeholder": "sample meta",
       "style": "IPY_MODEL_7968a43a1a314708885a2febf7586d07",
       "value": "-"
      }
     },
     "354496bb29d4433ab4ccb97caa24001b": {
      "model_module": "@jupyter-widgets/controls",
      "model_module_version": "1.0.0",
      "model_name": "DescriptionStyleModel",
      "state": {
       "description_width": ""
      }
     },
     "3635eb6bf5bd4eb2b3c511ad41937e04": {
      "model_module": "@jupyter-widgets/controls",
      "model_module_version": "1.0.0",
      "model_name": "DropdownModel",
      "state": {
       "_options_labels": [
        "oxygen",
        "ph",
        "level1",
        "level2",
        "new.order",
        "ori.order",
        "taxonomy"
       ],
       "index": 0,
       "layout": "IPY_MODEL_2470ee5124b4465b9848dd784432767a",
       "style": "IPY_MODEL_7bbecd1f33544181b1889546cbaa4c14"
      }
     },
     "367f81208665413ea1e085c2f4e6c455": {
      "model_module": "@jupyter-widgets/controls",
      "model_module_version": "1.0.0",
      "model_name": "ButtonStyleModel",
      "state": {}
     },
     "36dc4783e43a44b388f2c5cdfc82846f": {
      "model_module": "@jupyter-widgets/controls",
      "model_module_version": "1.0.0",
      "model_name": "HBoxModel",
      "state": {
       "children": [
        "IPY_MODEL_022948883ab44feb8b8c02ea11bf5709",
        "IPY_MODEL_c81aaf95ebd94deb936e19ba5d3622f2",
        "IPY_MODEL_48782a6453594d8382b5b86c6eda84b7"
       ],
       "layout": "IPY_MODEL_80eb024d88ec4617a8178421dfb17d8f"
      }
     },
     "36fb6a81180c48d68e3c1213de0693c1": {
      "model_module": "@jupyter-widgets/controls",
      "model_module_version": "1.0.0",
      "model_name": "TextModel",
      "state": {
       "description": "Sample ID",
       "layout": "IPY_MODEL_d59215ebf4b145409800dd999aeb9210",
       "placeholder": "Sample ID",
       "style": "IPY_MODEL_e025ed167a4e45f8b19de4325b880c74",
       "value": "S2"
      }
     },
     "3768e755d3a248859fac3856d251c403": {
      "model_module": "@jupyter-widgets/controls",
      "model_module_version": "1.0.0",
      "model_name": "ButtonStyleModel",
      "state": {}
     },
     "37a7059974b241c89345100dcfa39b8e": {
      "model_module": "@jupyter-widgets/controls",
      "model_module_version": "1.0.0",
      "model_name": "DescriptionStyleModel",
      "state": {
       "description_width": ""
      }
     },
     "383eff41594943228926d9b13904e810": {
      "model_module": "@jupyter-widgets/controls",
      "model_module_version": "1.0.0",
      "model_name": "LabelModel",
      "state": {
       "layout": "IPY_MODEL_7023f7c41ae144399908a4f124e9db30",
       "style": "IPY_MODEL_42527617e31540bda5e8c2bad299ee44",
       "value": "0 features are selected"
      }
     },
     "389e14a306a3404fa87ca08730449c9d": {
      "model_module": "@jupyter-widgets/controls",
      "model_module_version": "1.0.0",
      "model_name": "TextModel",
      "state": {
       "description": "Feature ID",
       "layout": "IPY_MODEL_019046940176475d87de54db26107ee7",
       "placeholder": "Feature ID",
       "style": "IPY_MODEL_71ae1c1cdd5d43dfa2c3cf492850d582",
       "value": "AT"
      }
     },
     "39410abbc167453387a2c1c5e76bcf55": {
      "model_module": "@jupyter-widgets/controls",
      "model_module_version": "1.0.0",
      "model_name": "HBoxModel",
      "state": {
       "children": [
        "IPY_MODEL_9802adaa4e154ffdb94436771cbfd92b",
        "IPY_MODEL_4718753b688d4ccf992e28d8c92e5cc5"
       ],
       "layout": "IPY_MODEL_544ce9bde23e4414a401b9c64bab2e25"
      }
     },
     "39a0c7e40f304fa99aeae4b208ecc13b": {
      "model_module": "@jupyter-widgets/controls",
      "model_module_version": "1.0.0",
      "model_name": "DescriptionStyleModel",
      "state": {
       "description_width": ""
      }
     },
     "3a1f7ad3862c448a9d633ce9308ec357": {
      "model_module": "@jupyter-widgets/controls",
      "model_module_version": "1.0.0",
      "model_name": "DropdownModel",
      "state": {
       "_options_labels": [
        "oxygen",
        "ph",
        "level1",
        "level2",
        "new.order",
        "ori.order",
        "taxonomy"
       ],
       "index": 0,
       "layout": "IPY_MODEL_170910412c47479d93ab6de0cfe5134d",
       "style": "IPY_MODEL_c731b56898dc4e27ab0253d2af3629dc"
      }
     },
     "3a227cd0d6bd41d4bd2b38aea0a2a997": {
      "model_module": "@jupyter-widgets/base",
      "model_module_version": "1.0.0",
      "model_name": "LayoutModel",
      "state": {
       "width": "80%"
      }
     },
     "3a272e5250e94bda8d8d50c0e56ed531": {
      "model_module": "@jupyter-widgets/controls",
      "model_module_version": "1.0.0",
      "model_name": "DropdownModel",
      "state": {
       "_options_labels": [
        "oxygen",
        "ph",
        "level1",
        "level2",
        "new.order",
        "ori.order",
        "taxonomy"
       ],
       "index": 0,
       "layout": "IPY_MODEL_1bca3f6dd10c4d21b4f8e64d641d5e00",
       "style": "IPY_MODEL_08e7c1acec87461f8d4f65b1f5a24b60"
      }
     },
     "3a3f2fd1125a41adad85ab3a1433de1f": {
      "model_module": "@jupyter-widgets/base",
      "model_module_version": "1.0.0",
      "model_name": "LayoutModel",
      "state": {
       "height": "100px",
       "overflow_y": "auto"
      }
     },
     "3a956e689a7942c8a0268a5ff91df731": {
      "model_module": "@jupyter-widgets/base",
      "model_module_version": "1.0.0",
      "model_name": "LayoutModel",
      "state": {
       "width": "20%"
      }
     },
     "3ad0d55915714ffb9375ffbaf886cf13": {
      "model_module": "@jupyter-widgets/base",
      "model_module_version": "1.0.0",
      "model_name": "LayoutModel",
      "state": {}
     },
     "3ba474507f8e46aa97e33120097f76f3": {
      "model_module": "@jupyter-widgets/controls",
      "model_module_version": "1.0.0",
      "model_name": "DescriptionStyleModel",
      "state": {
       "description_width": ""
      }
     },
     "3bb822e442e044afaae17f995f5c8a5e": {
      "model_module": "@jupyter-widgets/base",
      "model_module_version": "1.0.0",
      "model_name": "LayoutModel",
      "state": {}
     },
     "3c35e565499147569f9bcaa51b42566c": {
      "model_module": "@jupyter-widgets/controls",
      "model_module_version": "1.0.0",
      "model_name": "HBoxModel",
      "state": {
       "children": [
        "IPY_MODEL_2d96ff52a28448d9a5b34edec0c6c130",
        "IPY_MODEL_3ec9e28fcee144c59251023bbf160f50"
       ],
       "layout": "IPY_MODEL_a98dab2261f4407fb148957ab4044bf2"
      }
     },
     "3c7ffdcf60624398aa86e346c6a81ecc": {
      "model_module": "@jupyter-widgets/controls",
      "model_module_version": "1.0.0",
      "model_name": "DescriptionStyleModel",
      "state": {
       "description_width": ""
      }
     },
     "3c99b2cb53f348098705e2b6ec245d63": {
      "model_module": "@jupyter-widgets/controls",
      "model_module_version": "1.0.0",
      "model_name": "DescriptionStyleModel",
      "state": {
       "description_width": ""
      }
     },
     "3d476dd4fe5a4d309ebc33a3228e1984": {
      "model_module": "@jupyter-widgets/controls",
      "model_module_version": "1.0.0",
      "model_name": "DropdownModel",
      "state": {
       "_options_labels": [
        "oxygen",
        "ph",
        "level1",
        "level2",
        "new.order",
        "ori.order",
        "taxonomy"
       ],
       "index": 0,
       "layout": "IPY_MODEL_2bd369cb84544a29820f7d31f00d75ea",
       "style": "IPY_MODEL_a27ef6f8258a4627a196f6c7e3d9208e"
      }
     },
     "3d60c6483bad4efebc2f73a3c5fe22c7": {
      "model_module": "@jupyter-widgets/base",
      "model_module_version": "1.0.0",
      "model_name": "LayoutModel",
      "state": {}
     },
     "3e9d3806dcc145989927b1e74fb92344": {
      "model_module": "@jupyter-widgets/controls",
      "model_module_version": "1.0.0",
      "model_name": "DescriptionStyleModel",
      "state": {
       "description_width": ""
      }
     },
     "3ea86f2b58ad4827964408c8d437eced": {
      "model_module": "@jupyter-widgets/controls",
      "model_module_version": "1.0.0",
      "model_name": "DescriptionStyleModel",
      "state": {
       "description_width": ""
      }
     },
     "3ec9e28fcee144c59251023bbf160f50": {
      "model_module": "@jupyter-widgets/controls",
      "model_module_version": "1.0.0",
      "model_name": "TextModel",
      "state": {
       "layout": "IPY_MODEL_140c80ea13984d0497fae62bd5c39e16",
       "placeholder": "sample meta",
       "style": "IPY_MODEL_96126401a62a46ada51531a573230569",
       "value": "-"
      }
     },
     "3eecac5f6502494fa740fe460326cbd7": {
      "model_module": "@jupyter-widgets/controls",
      "model_module_version": "1.0.0",
      "model_name": "ButtonStyleModel",
      "state": {}
     },
     "3ef4557cd5c14d868882336d821d6c24": {
      "model_module": "@jupyter-widgets/base",
      "model_module_version": "1.0.0",
      "model_name": "LayoutModel",
      "state": {}
     },
     "3effb17aa2a4473fbe49ea9685595680": {
      "model_module": "@jupyter-widgets/controls",
      "model_module_version": "1.0.0",
      "model_name": "TextModel",
      "state": {
       "description": "Sample ID",
       "layout": "IPY_MODEL_80c5bc5bac9f4b009ff6369d9b52c34d",
       "placeholder": "Sample ID",
       "style": "IPY_MODEL_bcb1a3d1bc194669a7016a10d8c99974",
       "value": "-"
      }
     },
     "3f1a094381784559bff88f2e238299e3": {
      "model_module": "@jupyter-widgets/controls",
      "model_module_version": "1.0.0",
      "model_name": "TextModel",
      "state": {
       "description": "Feature ID",
       "layout": "IPY_MODEL_26b0a8291b8a43779ec1ea5975dce562",
       "placeholder": "Feature ID",
       "style": "IPY_MODEL_ea9ba488adb14f929111ea8b48fbc9e7",
       "value": "TA"
      }
     },
     "3f1bcaf1c7df4fc9b42f9ff393e652d9": {
      "model_module": "@jupyter-widgets/controls",
      "model_module_version": "1.0.0",
      "model_name": "LabelModel",
      "state": {
       "layout": "IPY_MODEL_dc8840a850dc4b9a917c76c09a539f1c",
       "style": "IPY_MODEL_9ca03c1d41354c71be81a71d333417ee",
       "value": "0 features are selected"
      }
     },
     "3f84dbfd56524588b905d65224fb99b7": {
      "model_module": "@jupyter-widgets/controls",
      "model_module_version": "1.0.0",
      "model_name": "ButtonStyleModel",
      "state": {}
     },
     "3fcda6f2fb8c4481a8daed3a5dc0b21c": {
      "model_module": "@jupyter-widgets/controls",
      "model_module_version": "1.0.0",
      "model_name": "ButtonStyleModel",
      "state": {}
     },
     "3fdba54d6f17473489cc454aab683b5b": {
      "model_module": "@jupyter-widgets/base",
      "model_module_version": "1.0.0",
      "model_name": "LayoutModel",
      "state": {
       "width": "20%"
      }
     },
     "3fe8ba46b3be4ea78feca9feb84f3297": {
      "model_module": "@jupyter-widgets/controls",
      "model_module_version": "1.0.0",
      "model_name": "LabelModel",
      "state": {
       "layout": "IPY_MODEL_66e03cdd6dd140baa4c0bb44184822b3",
       "style": "IPY_MODEL_e240ab8593bd4e1e87e617545d0e25b0",
       "value": "0 features are selected"
      }
     },
     "3ff5012bd69a49138566f31f67ade583": {
      "model_module": "@jupyter-widgets/controls",
      "model_module_version": "1.0.0",
      "model_name": "DescriptionStyleModel",
      "state": {
       "description_width": ""
      }
     },
     "403ccc4602c54ebf9c5913e99ca37ce7": {
      "model_module": "@jupyter-widgets/base",
      "model_module_version": "1.0.0",
      "model_name": "LayoutModel",
      "state": {}
     },
     "40a65f059ff14cb0b7d09b4be951360c": {
      "model_module": "@jupyter-widgets/base",
      "model_module_version": "1.0.0",
      "model_name": "LayoutModel",
      "state": {}
     },
     "40ec191134c74d55ac914e8421098573": {
      "model_module": "@jupyter-widgets/controls",
      "model_module_version": "1.0.0",
      "model_name": "DescriptionStyleModel",
      "state": {
       "description_width": ""
      }
     },
     "41109dfeb3eb418b93516e3e34efb8a4": {
      "model_module": "@jupyter-widgets/controls",
      "model_module_version": "1.0.0",
      "model_name": "DropdownModel",
      "state": {
       "_options_labels": [
        "oxygen",
        "ph",
        "level1",
        "level2",
        "new.order",
        "ori.order",
        "taxonomy"
       ],
       "index": 0,
       "layout": "IPY_MODEL_b823c3e52c424a33ac95ee01ac525d6d",
       "style": "IPY_MODEL_2aec13d18d6f43d592eea906856e9abc"
      }
     },
     "419e6fcc7ceb4895bfe29bc9294e0bcc": {
      "model_module": "@jupyter-widgets/controls",
      "model_module_version": "1.0.0",
      "model_name": "HTMLModel",
      "state": {
       "layout": "IPY_MODEL_68d69335456a4a9eb8285559f8a6244f",
       "style": "IPY_MODEL_32e6f77cf1564b7a942e1df329361bc8",
       "value": "<style> a:link {color:black; background-color:transparent; text-decoration:none}a:visited {color:black; background-color:transparent; text-decoration:none}</style><p style=\"color:black;white-space:nowrap;\"><a href=\"http://dbbact.org/annotation_info/NA\"   target=\"_blank\">No annotation found in database dbBact</a></p>"
      }
     },
     "41aa402ee7d14626a93a4fd8eb2fdf72": {
      "model_module": "@jupyter-widgets/base",
      "model_module_version": "1.0.0",
      "model_name": "LayoutModel",
      "state": {
       "height": "100px",
       "overflow_y": "auto"
      }
     },
     "41cda9e6486e4b50b31d77ed42a32c2e": {
      "model_module": "@jupyter-widgets/controls",
      "model_module_version": "1.0.0",
      "model_name": "TextModel",
      "state": {
       "description": "Sample ID",
       "layout": "IPY_MODEL_5d7e0419d4ec4655b22c5d7169b62c7f",
       "placeholder": "Sample ID",
       "style": "IPY_MODEL_8ec1123f964a4ad993760b0c3b4053d1",
       "value": "-"
      }
     },
     "42527617e31540bda5e8c2bad299ee44": {
      "model_module": "@jupyter-widgets/controls",
      "model_module_version": "1.0.0",
      "model_name": "DescriptionStyleModel",
      "state": {
       "description_width": ""
      }
     },
     "4265d3f75038429c8efd6004907589c5": {
      "model_module": "@jupyter-widgets/controls",
      "model_module_version": "1.0.0",
      "model_name": "HBoxModel",
      "state": {
       "children": [
        "IPY_MODEL_b6847696b5334bb9813a3d03d95473a3",
        "IPY_MODEL_2c8602ed24ca483db38d09c8cd22029f",
        "IPY_MODEL_02ce769e358a45d19416951caf15ad65"
       ],
       "layout": "IPY_MODEL_5cf196e1287343c092c76523917121db"
      }
     },
     "426af36c438e42928a587f3cefaccecd": {
      "model_module": "@jupyter-widgets/controls",
      "model_module_version": "1.0.0",
      "model_name": "DropdownModel",
      "state": {
       "_options_labels": [
        "ori.order",
        "group",
        "new.order",
        "categorical",
        "_calour_original_abundance"
       ],
       "index": 0,
       "layout": "IPY_MODEL_ecd4c081588e4208aef03886f1406ce6",
       "style": "IPY_MODEL_af8fdc59253e49b9b9d99462cfdf1ac2"
      }
     },
     "426c43fca8b04f82896dedf27ad74826": {
      "model_module": "@jupyter-widgets/base",
      "model_module_version": "1.0.0",
      "model_name": "LayoutModel",
      "state": {}
     },
     "42d2c3b567f84b668c7dacfc2f617807": {
      "model_module": "@jupyter-widgets/controls",
      "model_module_version": "1.0.0",
      "model_name": "DescriptionStyleModel",
      "state": {
       "description_width": ""
      }
     },
     "43312d0cc3514e469aa86673c7dbd8fb": {
      "model_module": "@jupyter-widgets/controls",
      "model_module_version": "1.0.0",
      "model_name": "DescriptionStyleModel",
      "state": {
       "description_width": ""
      }
     },
     "433210ce464844fcb3b51d74ec0d7eec": {
      "model_module": "@jupyter-widgets/controls",
      "model_module_version": "1.0.0",
      "model_name": "DescriptionStyleModel",
      "state": {
       "description_width": ""
      }
     },
     "436daf778d42400cbcbf5fdd3a76f456": {
      "model_module": "@jupyter-widgets/controls",
      "model_module_version": "1.0.0",
      "model_name": "LabelModel",
      "state": {
       "layout": "IPY_MODEL_a947787b553a485fab496b15d7e0bb9a",
       "style": "IPY_MODEL_b957e7ac728047f48100ffb857fc966b",
       "value": "0 features are selected"
      }
     },
     "4395cc26020f41f4b1321cc2eb9c4532": {
      "model_module": "@jupyter-widgets/controls",
      "model_module_version": "1.0.0",
      "model_name": "TextModel",
      "state": {
       "layout": "IPY_MODEL_6b05e69ce5d848c98718e99b4bcdf07a",
       "placeholder": "feature meta",
       "style": "IPY_MODEL_175799df856748a3bbbad60e888ea6f4",
       "value": "-"
      }
     },
     "43a16580f116427a87abeda9ec8465da": {
      "model_module": "@jupyter-widgets/base",
      "model_module_version": "1.0.0",
      "model_name": "LayoutModel",
      "state": {}
     },
     "43d4178e3a6748de8b719661c4738663": {
      "model_module": "@jupyter-widgets/base",
      "model_module_version": "1.0.0",
      "model_name": "LayoutModel",
      "state": {
       "width": "20%"
      }
     },
     "442a539c0e5545a685e48a2b96d94796": {
      "model_module": "@jupyter-widgets/controls",
      "model_module_version": "1.0.0",
      "model_name": "DescriptionStyleModel",
      "state": {
       "description_width": ""
      }
     },
     "44705496aa0c4ec488da67db63d7cdc6": {
      "model_module": "@jupyter-widgets/base",
      "model_module_version": "1.0.0",
      "model_name": "LayoutModel",
      "state": {}
     },
     "44994213f04e4c3ba75264ca4cf6a7cd": {
      "model_module": "@jupyter-widgets/base",
      "model_module_version": "1.0.0",
      "model_name": "LayoutModel",
      "state": {
       "width": "100%"
      }
     },
     "44f1c99134484a6192cae249bf8853d0": {
      "model_module": "@jupyter-widgets/base",
      "model_module_version": "1.0.0",
      "model_name": "LayoutModel",
      "state": {}
     },
     "452f48ef744e4620a76c97266df33ac1": {
      "model_module": "@jupyter-widgets/base",
      "model_module_version": "1.0.0",
      "model_name": "LayoutModel",
      "state": {
       "width": "100%"
      }
     },
     "45a205b117a7489a8113fb0148a15d91": {
      "model_module": "@jupyter-widgets/controls",
      "model_module_version": "1.0.0",
      "model_name": "DescriptionStyleModel",
      "state": {
       "description_width": ""
      }
     },
     "45b1ae6bbc624fbba2607a821aa5ddc6": {
      "model_module": "@jupyter-widgets/controls",
      "model_module_version": "1.0.0",
      "model_name": "ButtonStyleModel",
      "state": {}
     },
     "45e5e82f447c4411988a68f0c6965574": {
      "model_module": "@jupyter-widgets/controls",
      "model_module_version": "1.0.0",
      "model_name": "LabelModel",
      "state": {
       "layout": "IPY_MODEL_b3414ba788f84cdbb2eabbbdf4e6c98f",
       "style": "IPY_MODEL_56b49f134c7047d9923f559bceeaca8c",
       "value": "0 features are selected"
      }
     },
     "45f7a1809e424d3096633eb86818a591": {
      "model_module": "@jupyter-widgets/controls",
      "model_module_version": "1.0.0",
      "model_name": "HBoxModel",
      "state": {
       "children": [
        "IPY_MODEL_bce1f898cb464f538ae1f5f348174688",
        "IPY_MODEL_fca0c8965c7b48618a67af8a73038f08",
        "IPY_MODEL_83d02d059fdd49beb8d858c03c30d6fa"
       ],
       "layout": "IPY_MODEL_44f1c99134484a6192cae249bf8853d0"
      }
     },
     "45fd4d89452c4a8685ed528df010d21d": {
      "model_module": "@jupyter-widgets/controls",
      "model_module_version": "1.0.0",
      "model_name": "TextModel",
      "state": {
       "layout": "IPY_MODEL_4d92915449c142699bfea6102a532c03",
       "placeholder": "sample meta",
       "style": "IPY_MODEL_3031ec9cc51948878c34cf0d2cc36791",
       "value": "8"
      }
     },
     "463ccf9e5f9e48569343575f205adec3": {
      "model_module": "@jupyter-widgets/base",
      "model_module_version": "1.0.0",
      "model_name": "LayoutModel",
      "state": {
       "height": "100px",
       "overflow_y": "auto"
      }
     },
     "46fd1a9ea25a4c888e0f728591bcbb77": {
      "model_module": "@jupyter-widgets/controls",
      "model_module_version": "1.0.0",
      "model_name": "FloatTextModel",
      "state": {
       "description": "Abundance",
       "layout": "IPY_MODEL_b9e20f433739466d836038e789e66f1a",
       "step": null,
       "style": "IPY_MODEL_eb416d4fc8084a5c9ce91c8c0ef6846c"
      }
     },
     "4718753b688d4ccf992e28d8c92e5cc5": {
      "model_module": "@jupyter-widgets/controls",
      "model_module_version": "1.0.0",
      "model_name": "TextModel",
      "state": {
       "layout": "IPY_MODEL_cffcaf88bd3b432bac472831ed6b33d3",
       "placeholder": "sample meta",
       "style": "IPY_MODEL_65acef67ce394b698ae560a4ed6b5fc9",
       "value": "8"
      }
     },
     "478d897582d1402791ae5fcd9a92698c": {
      "model_module": "@jupyter-widgets/controls",
      "model_module_version": "1.0.0",
      "model_name": "DescriptionStyleModel",
      "state": {
       "description_width": ""
      }
     },
     "4796b56ce3f14b3485b96f3c8681b8d0": {
      "model_module": "@jupyter-widgets/controls",
      "model_module_version": "1.0.0",
      "model_name": "LabelModel",
      "state": {
       "layout": "IPY_MODEL_4890dab6f10b4a76acc85ebe06ef95dd",
       "style": "IPY_MODEL_fa919bbd522b4c0eabe9311b2205c3b6",
       "value": "1 features are selected"
      }
     },
     "47e81a79b0d449069d97164dbb7f2445": {
      "model_module": "@jupyter-widgets/base",
      "model_module_version": "1.0.0",
      "model_name": "LayoutModel",
      "state": {
       "width": "80%"
      }
     },
     "480e3f0f685a447ab02485dab40b2440": {
      "model_module": "@jupyter-widgets/controls",
      "model_module_version": "1.0.0",
      "model_name": "ButtonStyleModel",
      "state": {}
     },
     "48318f6ceacd41b3bcd639a430ea7386": {
      "model_module": "@jupyter-widgets/controls",
      "model_module_version": "1.0.0",
      "model_name": "DescriptionStyleModel",
      "state": {
       "description_width": ""
      }
     },
     "48782a6453594d8382b5b86c6eda84b7": {
      "model_module": "@jupyter-widgets/controls",
      "model_module_version": "1.0.0",
      "model_name": "ButtonModel",
      "state": {
       "description": "Annotate",
       "layout": "IPY_MODEL_da8d13a9f853462cb0af42514b19e892",
       "style": "IPY_MODEL_3fcda6f2fb8c4481a8daed3a5dc0b21c"
      }
     },
     "48885d2c446042efa4b74b97572049e6": {
      "model_module": "@jupyter-widgets/base",
      "model_module_version": "1.0.0",
      "model_name": "LayoutModel",
      "state": {}
     },
     "4890dab6f10b4a76acc85ebe06ef95dd": {
      "model_module": "@jupyter-widgets/base",
      "model_module_version": "1.0.0",
      "model_name": "LayoutModel",
      "state": {}
     },
     "4893f5e05fd546ce8e956d8083dff7d0": {
      "model_module": "@jupyter-widgets/base",
      "model_module_version": "1.0.0",
      "model_name": "LayoutModel",
      "state": {}
     },
     "489ede789c1d48dc81976c0b45bf058c": {
      "model_module": "@jupyter-widgets/controls",
      "model_module_version": "1.0.0",
      "model_name": "HBoxModel",
      "state": {
       "children": [
        "IPY_MODEL_b431de663d9b41c184178269bbed151c",
        "IPY_MODEL_7b89056dbb8b4019902884ce6ec03104"
       ],
       "layout": "IPY_MODEL_169d5b99574f4b63b87199ac645201db"
      }
     },
     "496cb9f2f0ec49dca3c0e80f1431ac3e": {
      "model_module": "@jupyter-widgets/controls",
      "model_module_version": "1.0.0",
      "model_name": "HBoxModel",
      "state": {
       "children": [
        "IPY_MODEL_753d38c4b75d42a9bcf588978cef511c",
        "IPY_MODEL_94343b458ad346609429d806bf90ad88",
        "IPY_MODEL_e92c6a864cc747e9b91def861fcec3d5"
       ],
       "layout": "IPY_MODEL_928d371f132f4db0bc065c7e360ab249"
      }
     },
     "4983a569ae68420a8b65fbba8871f3ce": {
      "model_module": "@jupyter-widgets/base",
      "model_module_version": "1.0.0",
      "model_name": "LayoutModel",
      "state": {}
     },
     "49b9fba17ead47689325a581f61a2185": {
      "model_module": "@jupyter-widgets/base",
      "model_module_version": "1.0.0",
      "model_name": "LayoutModel",
      "state": {
       "width": "100%"
      }
     },
     "4a52fb73e8fc4c2fb1b68fd6a23986a6": {
      "model_module": "@jupyter-widgets/controls",
      "model_module_version": "1.0.0",
      "model_name": "ButtonModel",
      "state": {
       "description": "Annotate",
       "layout": "IPY_MODEL_426c43fca8b04f82896dedf27ad74826",
       "style": "IPY_MODEL_ffbc70be7ab041438df3d5e5ea61d049"
      }
     },
     "4a71d6cbea354d23834a2c450a205076": {
      "model_module": "@jupyter-widgets/controls",
      "model_module_version": "1.0.0",
      "model_name": "TextModel",
      "state": {
       "description": "Sample ID",
       "layout": "IPY_MODEL_c10309f8310f4f6b8aba5ee20d8734be",
       "placeholder": "Sample ID",
       "style": "IPY_MODEL_33f27180a6ac49a5b8eac0b8e7c1a59b",
       "value": "S9"
      }
     },
     "4aae4558364a4e80a2d3a1cd34e490a0": {
      "model_module": "@jupyter-widgets/controls",
      "model_module_version": "1.0.0",
      "model_name": "DescriptionStyleModel",
      "state": {
       "description_width": ""
      }
     },
     "4ad914973dc449108fc75e33fec426bb": {
      "model_module": "@jupyter-widgets/controls",
      "model_module_version": "1.0.0",
      "model_name": "DescriptionStyleModel",
      "state": {
       "description_width": ""
      }
     },
     "4ae9d360d17d405f8c6092a611a7a888": {
      "model_module": "@jupyter-widgets/controls",
      "model_module_version": "1.0.0",
      "model_name": "DescriptionStyleModel",
      "state": {
       "description_width": ""
      }
     },
     "4b1831b5a72e4998ab49867d07da36d5": {
      "model_module": "@jupyter-widgets/controls",
      "model_module_version": "1.0.0",
      "model_name": "ButtonModel",
      "state": {
       "description": "Annotate",
       "layout": "IPY_MODEL_f7629e405cd54f89af940ada9ecc0ff8",
       "style": "IPY_MODEL_f88872a804bc43ed9a908b306dd8436d"
      }
     },
     "4b1f475415bd461db71ad386a26f7e13": {
      "model_module": "@jupyter-widgets/controls",
      "model_module_version": "1.0.0",
      "model_name": "DescriptionStyleModel",
      "state": {
       "description_width": ""
      }
     },
     "4b505a53db964658a04ea97938d2e8ad": {
      "model_module": "@jupyter-widgets/controls",
      "model_module_version": "1.0.0",
      "model_name": "TextModel",
      "state": {
       "layout": "IPY_MODEL_e2553d094641498c974282a69cb0ddd1",
       "placeholder": "sample meta",
       "style": "IPY_MODEL_61bab3f594704f2a9c85b7d990915cef",
       "value": "1"
      }
     },
     "4b5072a20aa94e65bd92770a67611ca5": {
      "model_module": "@jupyter-widgets/controls",
      "model_module_version": "1.0.0",
      "model_name": "DescriptionStyleModel",
      "state": {
       "description_width": ""
      }
     },
     "4b66e6ad6758443c8d030ff1915ff35a": {
      "model_module": "@jupyter-widgets/base",
      "model_module_version": "1.0.0",
      "model_name": "LayoutModel",
      "state": {
       "width": "80%"
      }
     },
     "4b7398aac7f045878bcfad5f24ceac70": {
      "model_module": "@jupyter-widgets/base",
      "model_module_version": "1.0.0",
      "model_name": "LayoutModel",
      "state": {}
     },
     "4b9bf28a5ef74b7e9106fa09d8b26bbf": {
      "model_module": "@jupyter-widgets/controls",
      "model_module_version": "1.0.0",
      "model_name": "HBoxModel",
      "state": {
       "children": [
        "IPY_MODEL_30c9afd23bbb4a14b515ac1cc0d9b2a8",
        "IPY_MODEL_9d1881feb0e84fffbecd19f344db35cd"
       ],
       "layout": "IPY_MODEL_4983a569ae68420a8b65fbba8871f3ce"
      }
     },
     "4ba7c81175cf491ab6cea7432343952d": {
      "model_module": "@jupyter-widgets/base",
      "model_module_version": "1.0.0",
      "model_name": "LayoutModel",
      "state": {
       "width": "80%"
      }
     },
     "4c4a6d2cb43b471eaa24e37f75b812f9": {
      "model_module": "@jupyter-widgets/controls",
      "model_module_version": "1.0.0",
      "model_name": "ButtonModel",
      "state": {
       "description": "Save",
       "layout": "IPY_MODEL_4b7398aac7f045878bcfad5f24ceac70",
       "style": "IPY_MODEL_cf6228db2ae140679ec14ac74a5d0247",
       "tooltip": "Save the selection(s)"
      }
     },
     "4cc227f13fbd45b7bc5323599c31540b": {
      "model_module": "@jupyter-widgets/controls",
      "model_module_version": "1.0.0",
      "model_name": "TextModel",
      "state": {
       "description": "Feature ID",
       "layout": "IPY_MODEL_c10309f8310f4f6b8aba5ee20d8734be",
       "placeholder": "Feature ID",
       "style": "IPY_MODEL_dfbc4242017a4239b2993de119455213",
       "value": "TC"
      }
     },
     "4cce2edfb5ae42c585549507fdfe1826": {
      "model_module": "@jupyter-widgets/controls",
      "model_module_version": "1.0.0",
      "model_name": "TextModel",
      "state": {
       "layout": "IPY_MODEL_b66cbc1194f04311a4018a0c8caa09c3",
       "placeholder": "sample meta",
       "style": "IPY_MODEL_6bbbd5abc3ac469cb144935a38bbba26",
       "value": "-"
      }
     },
     "4cdb36b14f8e468eb174fa57ee9e4e66": {
      "model_module": "@jupyter-widgets/base",
      "model_module_version": "1.0.0",
      "model_name": "LayoutModel",
      "state": {}
     },
     "4d59a5ada21d43ab9b4b2d403ad65e0c": {
      "model_module": "@jupyter-widgets/controls",
      "model_module_version": "1.0.0",
      "model_name": "HBoxModel",
      "state": {
       "children": [
        "IPY_MODEL_9f820ac307b94e6f8c537a5501a0236a",
        "IPY_MODEL_2d37a5e15cda47b68a805f2ec44bcbbd"
       ],
       "layout": "IPY_MODEL_43a16580f116427a87abeda9ec8465da"
      }
     },
     "4d92915449c142699bfea6102a532c03": {
      "model_module": "@jupyter-widgets/base",
      "model_module_version": "1.0.0",
      "model_name": "LayoutModel",
      "state": {
       "width": "80%"
      }
     },
     "4d9ebfcc416f45a3bc4640a12862b93b": {
      "model_module": "@jupyter-widgets/base",
      "model_module_version": "1.0.0",
      "model_name": "LayoutModel",
      "state": {
       "height": "100px",
       "overflow_y": "auto"
      }
     },
     "4e275977fa734baa8bb4a9a9b5991816": {
      "model_module": "@jupyter-widgets/controls",
      "model_module_version": "1.0.0",
      "model_name": "HBoxModel",
      "state": {
       "children": [
        "IPY_MODEL_1fc0a26a88e04820bd0e31013f0d20f3",
        "IPY_MODEL_4b505a53db964658a04ea97938d2e8ad"
       ],
       "layout": "IPY_MODEL_fe5d837c7ba7440a913f182b402e409f"
      }
     },
     "4eaaeb69621c4c9a9418c57f4a4f2e40": {
      "model_module": "@jupyter-widgets/controls",
      "model_module_version": "1.0.0",
      "model_name": "ButtonStyleModel",
      "state": {}
     },
     "4f0614ca1de848638a415a2a8ccb8807": {
      "model_module": "@jupyter-widgets/controls",
      "model_module_version": "1.0.0",
      "model_name": "ButtonModel",
      "state": {
       "description": "print axes ranges",
       "layout": "IPY_MODEL_f8f2509347ce4216930b3b739010eeb0",
       "style": "IPY_MODEL_7cb4f927092a4406ac2e1aa4fd672e0b",
       "tooltip": "Print the x axis and y axis ranges. Useful to pass to `rect` parameter of heatmap() to zoom in the region automatically."
      }
     },
     "4f3ecb51b51041fbbf4a1b6a94b47faa": {
      "model_module": "@jupyter-widgets/controls",
      "model_module_version": "1.0.0",
      "model_name": "HBoxModel",
      "state": {
       "children": [
        "IPY_MODEL_5567978f1208402aa53fd7c4c502a945",
        "IPY_MODEL_c014d91977b94ce19671f87a8bfbb187",
        "IPY_MODEL_e5c7ccb9dc224b3e93a57929237dea0a"
       ],
       "layout": "IPY_MODEL_9d96b4c7dbf249aa9e759a336fffe6d5"
      }
     },
     "4f464af4da23451a856be68754ae15b6": {
      "model_module": "@jupyter-widgets/base",
      "model_module_version": "1.0.0",
      "model_name": "LayoutModel",
      "state": {}
     },
     "4f5557f6a67b4762a7c1a83f8ef2e1e3": {
      "model_module": "@jupyter-widgets/controls",
      "model_module_version": "1.0.0",
      "model_name": "DescriptionStyleModel",
      "state": {
       "description_width": ""
      }
     },
     "4f647c79f6344ce1b5ccb6369e4c9872": {
      "model_module": "@jupyter-widgets/controls",
      "model_module_version": "1.0.0",
      "model_name": "HBoxModel",
      "state": {
       "children": [
        "IPY_MODEL_914dc9b399cc4d9d8bc40c5f5c8f2001",
        "IPY_MODEL_a9c7d5950d9143d687f78a5747709eb2"
       ],
       "layout": "IPY_MODEL_0bfca4e6359a4e6cbd9128b26181b722"
      }
     },
     "4ffc944b0ad5429397444de5a2179e61": {
      "model_module": "@jupyter-widgets/controls",
      "model_module_version": "1.0.0",
      "model_name": "DescriptionStyleModel",
      "state": {
       "description_width": ""
      }
     },
     "4ffe4af096164b31a7c16031578d6bd2": {
      "model_module": "@jupyter-widgets/controls",
      "model_module_version": "1.0.0",
      "model_name": "TextModel",
      "state": {
       "layout": "IPY_MODEL_83b1180f221b489eb0f84ba3baf0d21b",
       "placeholder": "feature meta",
       "style": "IPY_MODEL_bfa70a755ef7476790c54af339eb8deb",
       "value": "-"
      }
     },
     "50d91fe195e14cbfabd45f9c2270b3a3": {
      "model_module": "@jupyter-widgets/controls",
      "model_module_version": "1.0.0",
      "model_name": "ButtonStyleModel",
      "state": {}
     },
     "51108bd934ee4c67a0d92fe4929de68e": {
      "model_module": "@jupyter-widgets/controls",
      "model_module_version": "1.0.0",
      "model_name": "TextModel",
      "state": {
       "description": "Feature ID",
       "layout": "IPY_MODEL_03e0490bdbd84a58946021fdba53e55b",
       "placeholder": "Feature ID",
       "style": "IPY_MODEL_f8c78431a7ba42ecb851602b9df0d837",
       "value": "-"
      }
     },
     "51218c4b4aca414d80f0de3af3b71ba0": {
      "model_module": "@jupyter-widgets/base",
      "model_module_version": "1.0.0",
      "model_name": "LayoutModel",
      "state": {}
     },
     "51dc199e597c4ce7b96e4602e0f500dc": {
      "model_module": "@jupyter-widgets/controls",
      "model_module_version": "1.0.0",
      "model_name": "HBoxModel",
      "state": {
       "children": [
        "IPY_MODEL_0cc799d027954a0da877c1b6c0c99afc",
        "IPY_MODEL_0e00371c11dc4a7381104deec97aefcf",
        "IPY_MODEL_5ae7ae5b381d4a298d37d72450ca33c3"
       ],
       "layout": "IPY_MODEL_edfa1bbc094c4adda04362ee3a37442d"
      }
     },
     "5266a1e5d1374d899a445b315533358f": {
      "model_module": "@jupyter-widgets/controls",
      "model_module_version": "1.0.0",
      "model_name": "HBoxModel",
      "state": {
       "children": [
        "IPY_MODEL_5ce812d27d8847a8800537f94dbd1779",
        "IPY_MODEL_21566f57e7074209b44de392e4e27393",
        "IPY_MODEL_d2b2a7ab3d9e4bb1b8f9258ecfbdd050"
       ],
       "layout": "IPY_MODEL_659c5d978baa4f318b2b11d7e4167781"
      }
     },
     "529d9991c9ca4bdfa9f74e7957d3d9b2": {
      "model_module": "@jupyter-widgets/controls",
      "model_module_version": "1.0.0",
      "model_name": "LabelModel",
      "state": {
       "layout": "IPY_MODEL_51218c4b4aca414d80f0de3af3b71ba0",
       "style": "IPY_MODEL_3ea86f2b58ad4827964408c8d437eced",
       "value": "0 features are selected"
      }
     },
     "52f3b7acbfc4479986a61d2766623fd3": {
      "model_module": "@jupyter-widgets/controls",
      "model_module_version": "1.0.0",
      "model_name": "HBoxModel",
      "state": {
       "children": [
        "IPY_MODEL_1d316816306648799af56406d3904b0c",
        "IPY_MODEL_c157b2a65ae247509363ed46c0fb6539",
        "IPY_MODEL_70a507fee43f46cc8fd648953e2442b2"
       ],
       "layout": "IPY_MODEL_89ea376b653c4de2bfeba31e498386d2"
      }
     },
     "53273d3fb9f24094b363f44664209bd0": {
      "model_module": "@jupyter-widgets/controls",
      "model_module_version": "1.0.0",
      "model_name": "DescriptionStyleModel",
      "state": {
       "description_width": ""
      }
     },
     "53517737dea14c08b4225ce03480407e": {
      "model_module": "@jupyter-widgets/controls",
      "model_module_version": "1.0.0",
      "model_name": "DescriptionStyleModel",
      "state": {
       "description_width": ""
      }
     },
     "538870d6f90f4b3b999fd011f6d303aa": {
      "model_module": "@jupyter-widgets/controls",
      "model_module_version": "1.0.0",
      "model_name": "HBoxModel",
      "state": {
       "children": [
        "IPY_MODEL_c6d76c64fcc242c2ab6eaf01b0f9523f",
        "IPY_MODEL_81e674ca72694d4aa76cbab29d1275b5"
       ],
       "layout": "IPY_MODEL_e7fe72a74b0e4c3cb165d044c2990c47"
      }
     },
     "541d4fd136ab4073ab0990280e3ee208": {
      "model_module": "@jupyter-widgets/base",
      "model_module_version": "1.0.0",
      "model_name": "LayoutModel",
      "state": {}
     },
     "5426d3a2ecd44f1489a2442d188fec74": {
      "model_module": "@jupyter-widgets/controls",
      "model_module_version": "1.0.0",
      "model_name": "ButtonModel",
      "state": {
       "description": "print axes ranges",
       "layout": "IPY_MODEL_a2eba17947374cde99087fc645fe0922",
       "style": "IPY_MODEL_22d4ab3d84414b5eb1aff5eca6f11e4c",
       "tooltip": "Print the x axis and y axis ranges. Useful to pass to `rect` parameter of heatmap() to zoom in the region automatically."
      }
     },
     "544c7f8ca21b4cc7afa7ac6de0d29d17": {
      "model_module": "@jupyter-widgets/controls",
      "model_module_version": "1.0.0",
      "model_name": "TextModel",
      "state": {
       "description": "Sample ID",
       "layout": "IPY_MODEL_49b9fba17ead47689325a581f61a2185",
       "placeholder": "Sample ID",
       "style": "IPY_MODEL_bbc1e315c00e49789b1c398221ebe175",
       "value": "-"
      }
     },
     "544ce9bde23e4414a401b9c64bab2e25": {
      "model_module": "@jupyter-widgets/base",
      "model_module_version": "1.0.0",
      "model_name": "LayoutModel",
      "state": {}
     },
     "54a4f1f7811643b5817626a2b90ecf2d": {
      "model_module": "@jupyter-widgets/controls",
      "model_module_version": "1.0.0",
      "model_name": "ButtonModel",
      "state": {
       "description": "Annotate",
       "layout": "IPY_MODEL_6d5cf4c76420409c8aa6c8ffcbed1f00",
       "style": "IPY_MODEL_8cc83df01337452c9bdab88f67a36a67"
      }
     },
     "54b1602bd37045a48d064814c4103619": {
      "model_module": "@jupyter-widgets/controls",
      "model_module_version": "1.0.0",
      "model_name": "DescriptionStyleModel",
      "state": {
       "description_width": ""
      }
     },
     "54b21fb5ca70416a923184fab19163f8": {
      "model_module": "@jupyter-widgets/controls",
      "model_module_version": "1.0.0",
      "model_name": "ButtonModel",
      "state": {
       "description": "print axes ranges",
       "layout": "IPY_MODEL_cafdedaee85e4f5f83b8d9bef6a862c3",
       "style": "IPY_MODEL_94d09775552249bc9f906d9407c1047d",
       "tooltip": "Print the x axis and y axis ranges. Useful to pass to `rect` parameter of heatmap() to zoom in the region automatically."
      }
     },
     "54e3b93483e440b2b50459e7b18b5d0b": {
      "model_module": "@jupyter-widgets/controls",
      "model_module_version": "1.0.0",
      "model_name": "DescriptionStyleModel",
      "state": {
       "description_width": ""
      }
     },
     "552dc67caaba4b9c998110d2ef16fabe": {
      "model_module": "@jupyter-widgets/base",
      "model_module_version": "1.0.0",
      "model_name": "LayoutModel",
      "state": {}
     },
     "553c234d77df43fead1a948455e8c20d": {
      "model_module": "@jupyter-widgets/controls",
      "model_module_version": "1.0.0",
      "model_name": "DescriptionStyleModel",
      "state": {
       "description_width": ""
      }
     },
     "55439dc59e614cdfb157ab77a8fe3a33": {
      "model_module": "@jupyter-widgets/controls",
      "model_module_version": "1.0.0",
      "model_name": "DescriptionStyleModel",
      "state": {
       "description_width": ""
      }
     },
     "555d176e04db4da5bc432d8ced7464e0": {
      "model_module": "@jupyter-widgets/controls",
      "model_module_version": "1.0.0",
      "model_name": "LabelModel",
      "state": {
       "layout": "IPY_MODEL_23aa5666830e46a28a3081ea708151b4",
       "style": "IPY_MODEL_fb41f1a7ebde4696b1d5d0e53e452bfd",
       "value": "1 features are selected"
      }
     },
     "5567978f1208402aa53fd7c4c502a945": {
      "model_module": "@jupyter-widgets/controls",
      "model_module_version": "1.0.0",
      "model_name": "TextModel",
      "state": {
       "description": "Sample ID",
       "layout": "IPY_MODEL_f00d265f4407431c9b6f1160207fdc81",
       "placeholder": "Sample ID",
       "style": "IPY_MODEL_84c3f0edd12b4194a3949dcdfc865e7a",
       "value": "S1"
      }
     },
     "557fc7fbbe344a25aef5906ccc4456aa": {
      "model_module": "@jupyter-widgets/base",
      "model_module_version": "1.0.0",
      "model_name": "LayoutModel",
      "state": {}
     },
     "55c5690ccc034658857bb3dfba7de4b0": {
      "model_module": "@jupyter-widgets/controls",
      "model_module_version": "1.0.0",
      "model_name": "DescriptionStyleModel",
      "state": {
       "description_width": ""
      }
     },
     "55d907b31fa84b448d8f1aad19c0df60": {
      "model_module": "@jupyter-widgets/controls",
      "model_module_version": "1.0.0",
      "model_name": "ButtonStyleModel",
      "state": {}
     },
     "55d97b3c8abd4b95ade56822b9fcc20d": {
      "model_module": "@jupyter-widgets/controls",
      "model_module_version": "1.0.0",
      "model_name": "ButtonStyleModel",
      "state": {}
     },
     "56063088efea414a85ae1a8defc66457": {
      "model_module": "@jupyter-widgets/base",
      "model_module_version": "1.0.0",
      "model_name": "LayoutModel",
      "state": {
       "width": "20%"
      }
     },
     "565b1c6b9e874be098cfd20b625f76fe": {
      "model_module": "@jupyter-widgets/base",
      "model_module_version": "1.0.0",
      "model_name": "LayoutModel",
      "state": {
       "width": "100%"
      }
     },
     "565bbe9d08ec4bf4b632b729b5958533": {
      "model_module": "@jupyter-widgets/controls",
      "model_module_version": "1.0.0",
      "model_name": "DescriptionStyleModel",
      "state": {
       "description_width": ""
      }
     },
     "5676144cdbe645c8bf6d8259e1e2647a": {
      "model_module": "@jupyter-widgets/controls",
      "model_module_version": "1.0.0",
      "model_name": "DescriptionStyleModel",
      "state": {
       "description_width": ""
      }
     },
     "56b49f134c7047d9923f559bceeaca8c": {
      "model_module": "@jupyter-widgets/controls",
      "model_module_version": "1.0.0",
      "model_name": "DescriptionStyleModel",
      "state": {
       "description_width": ""
      }
     },
     "56d6390bab0640a28e021d6d0e5f2abd": {
      "model_module": "@jupyter-widgets/controls",
      "model_module_version": "1.0.0",
      "model_name": "ButtonStyleModel",
      "state": {}
     },
     "570501f228ae4e62a67061949e28c699": {
      "model_module": "@jupyter-widgets/base",
      "model_module_version": "1.0.0",
      "model_name": "LayoutModel",
      "state": {}
     },
     "5706ba7662414e09bee0759455e33856": {
      "model_module": "@jupyter-widgets/controls",
      "model_module_version": "1.0.0",
      "model_name": "DescriptionStyleModel",
      "state": {
       "description_width": ""
      }
     },
     "57765883fde449c2a89fe146b1bf031c": {
      "model_module": "@jupyter-widgets/controls",
      "model_module_version": "1.0.0",
      "model_name": "DescriptionStyleModel",
      "state": {
       "description_width": ""
      }
     },
     "57ec8c45d14f4a18aaec4256deef4e4c": {
      "model_module": "@jupyter-widgets/controls",
      "model_module_version": "1.0.0",
      "model_name": "DropdownModel",
      "state": {
       "_options_labels": [
        "oxygen",
        "ph",
        "level1",
        "level2",
        "new.order",
        "ori.order",
        "taxonomy"
       ],
       "index": 0,
       "layout": "IPY_MODEL_e088ff84d6814189af691619b4ce66fb",
       "style": "IPY_MODEL_43312d0cc3514e469aa86673c7dbd8fb"
      }
     },
     "582a75e26aa04fdebd700e8da78af957": {
      "model_module": "@jupyter-widgets/controls",
      "model_module_version": "1.0.0",
      "model_name": "TextModel",
      "state": {
       "layout": "IPY_MODEL_6322c2f8aec142d197a8e9201b0bab98",
       "placeholder": "feature meta",
       "style": "IPY_MODEL_b0110399b90b41f8b940b9d3c8f692f8",
       "value": "aerobic"
      }
     },
     "585237215be14ffdb80a2ea3f9bbd594": {
      "model_module": "@jupyter-widgets/controls",
      "model_module_version": "1.0.0",
      "model_name": "DescriptionStyleModel",
      "state": {
       "description_width": ""
      }
     },
     "58afc157d577451fa4d4ce893914a4db": {
      "model_module": "@jupyter-widgets/base",
      "model_module_version": "1.0.0",
      "model_name": "LayoutModel",
      "state": {
       "height": "100px",
       "overflow_y": "auto"
      }
     },
     "59813787b85646d7a5aba17eb6548f90": {
      "model_module": "@jupyter-widgets/base",
      "model_module_version": "1.0.0",
      "model_name": "LayoutModel",
      "state": {}
     },
     "5985d0c15a8a4ea18e0b57652b09c2d9": {
      "model_module": "@jupyter-widgets/base",
      "model_module_version": "1.0.0",
      "model_name": "LayoutModel",
      "state": {
       "width": "20%"
      }
     },
     "59b2ad4d5528452b801e558233191f54": {
      "model_module": "@jupyter-widgets/base",
      "model_module_version": "1.0.0",
      "model_name": "LayoutModel",
      "state": {}
     },
     "59e976c095204998a963c6f4f945f91f": {
      "model_module": "@jupyter-widgets/base",
      "model_module_version": "1.0.0",
      "model_name": "LayoutModel",
      "state": {
       "width": "20%"
      }
     },
     "59f81bb9b71047c3af653b2bb344abc4": {
      "model_module": "@jupyter-widgets/base",
      "model_module_version": "1.0.0",
      "model_name": "LayoutModel",
      "state": {
       "width": "100%"
      }
     },
     "5a6267c9ac7d49b896375e360736ae37": {
      "model_module": "@jupyter-widgets/controls",
      "model_module_version": "1.0.0",
      "model_name": "ButtonModel",
      "state": {
       "description": "print axes ranges",
       "layout": "IPY_MODEL_fa2e3ed2c34e40978a63ddc618ddd2ad",
       "style": "IPY_MODEL_d931cba4c3cd4b1e94f390b316e9ea4b",
       "tooltip": "Print the x axis and y axis ranges. Useful to pass to `rect` parameter of heatmap() to zoom in the region automatically."
      }
     },
     "5adfe85ddb7c499bb2d096394ab57d6f": {
      "model_module": "@jupyter-widgets/controls",
      "model_module_version": "1.0.0",
      "model_name": "ButtonStyleModel",
      "state": {}
     },
     "5ae7ae5b381d4a298d37d72450ca33c3": {
      "model_module": "@jupyter-widgets/controls",
      "model_module_version": "1.0.0",
      "model_name": "FloatTextModel",
      "state": {
       "description": "Abundance",
       "layout": "IPY_MODEL_91d34eaab44e4d849f70e949826ffee3",
       "step": null,
       "style": "IPY_MODEL_fe227c119f344263bbc579a5c9c24ebd"
      }
     },
     "5b3e608a0da944ee93794a5ed1974411": {
      "model_module": "@jupyter-widgets/controls",
      "model_module_version": "1.0.0",
      "model_name": "HTMLModel",
      "state": {
       "layout": "IPY_MODEL_84139b6bcf274c53b2d6924ed9bb2831",
       "style": "IPY_MODEL_e32be2aebdc84c918290124ead7569a2",
       "value": "no annotation found"
      }
     },
     "5b4d384f9b0a4da9b02c2b8193d33f04": {
      "model_module": "@jupyter-widgets/controls",
      "model_module_version": "1.0.0",
      "model_name": "TextModel",
      "state": {
       "description": "Feature ID",
       "layout": "IPY_MODEL_452f48ef744e4620a76c97266df33ac1",
       "placeholder": "Feature ID",
       "style": "IPY_MODEL_e6bebda2888247708ddc1fe17cda8cb4",
       "value": "-"
      }
     },
     "5b6a5dd495b4481090dd164544af4155": {
      "model_module": "@jupyter-widgets/controls",
      "model_module_version": "1.0.0",
      "model_name": "DescriptionStyleModel",
      "state": {
       "description_width": ""
      }
     },
     "5b9001b811bd49f38dd1e6f0e92643b4": {
      "model_module": "@jupyter-widgets/controls",
      "model_module_version": "1.0.0",
      "model_name": "TextModel",
      "state": {
       "layout": "IPY_MODEL_b72e766891d8489782dea99baec9b8d4",
       "placeholder": "sample meta",
       "style": "IPY_MODEL_ba09687fc2ef4ed8b5ada170c5f6883c",
       "value": "-"
      }
     },
     "5bb938b40d1d4891b4653d7cd14b7f22": {
      "model_module": "@jupyter-widgets/controls",
      "model_module_version": "1.0.0",
      "model_name": "DescriptionStyleModel",
      "state": {
       "description_width": ""
      }
     },
     "5bcf19c5734e4e53ac7475d545292eda": {
      "model_module": "@jupyter-widgets/controls",
      "model_module_version": "1.0.0",
      "model_name": "LabelModel",
      "state": {
       "layout": "IPY_MODEL_a9c583a886f84b2d820e9e97a0def3fe",
       "style": "IPY_MODEL_243ca8ad67194a5e90e30528a4f3a959",
       "value": "0 features are selected"
      }
     },
     "5bd5353aa92640ac9a7407187cf89779": {
      "model_module": "@jupyter-widgets/controls",
      "model_module_version": "1.0.0",
      "model_name": "DescriptionStyleModel",
      "state": {
       "description_width": ""
      }
     },
     "5c3c15c389ee47ed8b6700aa69b4d975": {
      "model_module": "@jupyter-widgets/controls",
      "model_module_version": "1.0.0",
      "model_name": "DescriptionStyleModel",
      "state": {
       "description_width": ""
      }
     },
     "5c99b41ed6524fbab6a995822dfd431e": {
      "model_module": "@jupyter-widgets/controls",
      "model_module_version": "1.0.0",
      "model_name": "ButtonModel",
      "state": {
       "description": "Save",
       "layout": "IPY_MODEL_f643626637a043cf93c833dab125347a",
       "style": "IPY_MODEL_05014d49071b4400bf2eef46ac4876b6",
       "tooltip": "Save the selection(s)"
      }
     },
     "5cd16490bf0a4375a50d5c297a5ca339": {
      "model_module": "@jupyter-widgets/base",
      "model_module_version": "1.0.0",
      "model_name": "LayoutModel",
      "state": {
       "width": "20%"
      }
     },
     "5cda5cc11fa2423e9063cd34c5ed4cd4": {
      "model_module": "@jupyter-widgets/base",
      "model_module_version": "1.0.0",
      "model_name": "LayoutModel",
      "state": {}
     },
     "5ce812d27d8847a8800537f94dbd1779": {
      "model_module": "@jupyter-widgets/controls",
      "model_module_version": "1.0.0",
      "model_name": "ButtonModel",
      "state": {
       "description": "print axes ranges",
       "layout": "IPY_MODEL_806967ab5b2348428e5f2873e3cd2e10",
       "style": "IPY_MODEL_f395051445ed40728dd0eee5ad7b6f8f",
       "tooltip": "Print the x axis and y axis ranges. Useful to pass to `rect` parameter of heatmap function to zoom in the region automatically."
      }
     },
     "5cf196e1287343c092c76523917121db": {
      "model_module": "@jupyter-widgets/base",
      "model_module_version": "1.0.0",
      "model_name": "LayoutModel",
      "state": {}
     },
     "5d347afdf8964e68ad9b873b4e3561ef": {
      "model_module": "@jupyter-widgets/controls",
      "model_module_version": "1.0.0",
      "model_name": "DescriptionStyleModel",
      "state": {
       "description_width": ""
      }
     },
     "5d7e0419d4ec4655b22c5d7169b62c7f": {
      "model_module": "@jupyter-widgets/base",
      "model_module_version": "1.0.0",
      "model_name": "LayoutModel",
      "state": {
       "width": "100%"
      }
     },
     "5e61e54d095b4c22aab110b5934924ca": {
      "model_module": "@jupyter-widgets/controls",
      "model_module_version": "1.0.0",
      "model_name": "HBoxModel",
      "state": {
       "children": [
        "IPY_MODEL_9a1563c5454f45ae934861bf403039ac",
        "IPY_MODEL_354225d24e364044adb57e3f33eab86a"
       ],
       "layout": "IPY_MODEL_8892dfae6dd94af2a7767c4d2293f791"
      }
     },
     "5eb423e1e9a04a7c8b36f334111e4bb6": {
      "model_module": "@jupyter-widgets/base",
      "model_module_version": "1.0.0",
      "model_name": "LayoutModel",
      "state": {}
     },
     "5ebdfa33a49b411ebfe62ab85f67bfd3": {
      "model_module": "@jupyter-widgets/controls",
      "model_module_version": "1.0.0",
      "model_name": "DescriptionStyleModel",
      "state": {
       "description_width": ""
      }
     },
     "5ee67d1601fc4ec39f0ea109ddc67685": {
      "model_module": "@jupyter-widgets/controls",
      "model_module_version": "1.0.0",
      "model_name": "DescriptionStyleModel",
      "state": {
       "description_width": ""
      }
     },
     "5fcb24395066450980f09bd5d9940149": {
      "model_module": "@jupyter-widgets/controls",
      "model_module_version": "1.0.0",
      "model_name": "HBoxModel",
      "state": {
       "children": [
        "IPY_MODEL_a077060fd24548a6a6332e1b6a13c720",
        "IPY_MODEL_07e34177f7424e02b6147b119a6e6ab5"
       ],
       "layout": "IPY_MODEL_73df2e60b3ec49a7a694e918dad43d82"
      }
     },
     "6033ad064cf74022b91cf02d892c6302": {
      "model_module": "@jupyter-widgets/base",
      "model_module_version": "1.0.0",
      "model_name": "LayoutModel",
      "state": {}
     },
     "6048211753f944f8b69ae5d26842b0cf": {
      "model_module": "@jupyter-widgets/controls",
      "model_module_version": "1.0.0",
      "model_name": "ButtonStyleModel",
      "state": {}
     },
     "60649a3b46c64cb8a93dc859d9388808": {
      "model_module": "@jupyter-widgets/controls",
      "model_module_version": "1.0.0",
      "model_name": "DescriptionStyleModel",
      "state": {
       "description_width": ""
      }
     },
     "609dff85150d4538ab085ef2142ed917": {
      "model_module": "@jupyter-widgets/controls",
      "model_module_version": "1.0.0",
      "model_name": "LabelModel",
      "state": {
       "layout": "IPY_MODEL_983de6053288462fb9b51281807210b1",
       "style": "IPY_MODEL_7e982471a4d04c73951df4eb2b7e5e75",
       "value": "0 features are selected"
      }
     },
     "611a1e8802c349f3b59b0253d39bcf7d": {
      "model_module": "@jupyter-widgets/controls",
      "model_module_version": "1.0.0",
      "model_name": "DescriptionStyleModel",
      "state": {
       "description_width": ""
      }
     },
     "619a4953f5e043a9a548fad66ccba3ca": {
      "model_module": "@jupyter-widgets/controls",
      "model_module_version": "1.0.0",
      "model_name": "ButtonStyleModel",
      "state": {}
     },
     "61bab3f594704f2a9c85b7d990915cef": {
      "model_module": "@jupyter-widgets/controls",
      "model_module_version": "1.0.0",
      "model_name": "DescriptionStyleModel",
      "state": {
       "description_width": ""
      }
     },
     "61f332d70e2f476a8397be672f3ab39b": {
      "model_module": "@jupyter-widgets/controls",
      "model_module_version": "1.0.0",
      "model_name": "ButtonStyleModel",
      "state": {}
     },
     "6210d9a4c539465c9aa1847af99b36a1": {
      "model_module": "@jupyter-widgets/base",
      "model_module_version": "1.0.0",
      "model_name": "LayoutModel",
      "state": {}
     },
     "6223e83501cd46599813c973d7de8656": {
      "model_module": "@jupyter-widgets/controls",
      "model_module_version": "1.0.0",
      "model_name": "ButtonStyleModel",
      "state": {}
     },
     "62644c855f194c82b8b45793cdbeb491": {
      "model_module": "@jupyter-widgets/controls",
      "model_module_version": "1.0.0",
      "model_name": "LabelModel",
      "state": {
       "layout": "IPY_MODEL_b7bfb8cc6fd5430a82aad0cf066be6d0",
       "style": "IPY_MODEL_788e498b41be4e5dac18b2d294a861ff",
       "value": "0 features are selected"
      }
     },
     "62bff018dc1e48e8b4a98d294bbbae29": {
      "model_module": "@jupyter-widgets/controls",
      "model_module_version": "1.0.0",
      "model_name": "DropdownModel",
      "state": {
       "_options_labels": [
        "oxygen",
        "ph",
        "level1",
        "level2",
        "new.order",
        "ori.order",
        "taxonomy"
       ],
       "index": 0,
       "layout": "IPY_MODEL_e85ff357e1e941ef95c1f4c4e471278e",
       "style": "IPY_MODEL_c72e3a70fded4606abe6fb8e2750b710"
      }
     },
     "631f4a2616524b21ad7ab65309aa7843": {
      "model_module": "@jupyter-widgets/controls",
      "model_module_version": "1.0.0",
      "model_name": "TextModel",
      "state": {
       "description": "Sample ID",
       "layout": "IPY_MODEL_105dc9bc4cdf424f9691cc233cdf519e",
       "placeholder": "Sample ID",
       "style": "IPY_MODEL_c56e1c5f5bfe4100a19d8093a03bbca9",
       "value": "-"
      }
     },
     "6322c2f8aec142d197a8e9201b0bab98": {
      "model_module": "@jupyter-widgets/base",
      "model_module_version": "1.0.0",
      "model_name": "LayoutModel",
      "state": {
       "width": "80%"
      }
     },
     "6352539279464923a2b44c9466fe561b": {
      "model_module": "@jupyter-widgets/controls",
      "model_module_version": "1.0.0",
      "model_name": "ButtonModel",
      "state": {
       "description": "Annotate",
       "layout": "IPY_MODEL_91a0346c66f14ccdb973c8a3265dd954",
       "style": "IPY_MODEL_bc108b4dfb794068ac7682d11f07517d"
      }
     },
     "637553ca7a0d43fda705706126e7eced": {
      "model_module": "@jupyter-widgets/controls",
      "model_module_version": "1.0.0",
      "model_name": "ButtonStyleModel",
      "state": {}
     },
     "637cab06a7964540a03c4c44cc007a97": {
      "model_module": "@jupyter-widgets/base",
      "model_module_version": "1.0.0",
      "model_name": "LayoutModel",
      "state": {
       "width": "20%"
      }
     },
     "63934eef274e419b98c33f370b7a8b9c": {
      "model_module": "@jupyter-widgets/controls",
      "model_module_version": "1.0.0",
      "model_name": "DropdownModel",
      "state": {
       "_options_labels": [
        "oxygen",
        "ph",
        "level1",
        "level2",
        "new.order",
        "ori.order",
        "taxonomy"
       ],
       "index": 0,
       "layout": "IPY_MODEL_c1364fc7758b4ef59a92690a8ea53e71",
       "style": "IPY_MODEL_5ebdfa33a49b411ebfe62ab85f67bfd3"
      }
     },
     "64f7eda8a40d4fffa8cbd42870cc5351": {
      "model_module": "@jupyter-widgets/controls",
      "model_module_version": "1.0.0",
      "model_name": "ButtonStyleModel",
      "state": {}
     },
     "659c5d978baa4f318b2b11d7e4167781": {
      "model_module": "@jupyter-widgets/base",
      "model_module_version": "1.0.0",
      "model_name": "LayoutModel",
      "state": {}
     },
     "65ac9237364c47539f0048f1655628cc": {
      "model_module": "@jupyter-widgets/base",
      "model_module_version": "1.0.0",
      "model_name": "LayoutModel",
      "state": {}
     },
     "65acef67ce394b698ae560a4ed6b5fc9": {
      "model_module": "@jupyter-widgets/controls",
      "model_module_version": "1.0.0",
      "model_name": "DescriptionStyleModel",
      "state": {
       "description_width": ""
      }
     },
     "66347957a913491dbf13fbf84f5d419f": {
      "model_module": "@jupyter-widgets/controls",
      "model_module_version": "1.0.0",
      "model_name": "TextModel",
      "state": {
       "description": "Sample ID",
       "layout": "IPY_MODEL_0b6fe2c41fc84f98b3a16f002cfbb28b",
       "placeholder": "Sample ID",
       "style": "IPY_MODEL_889983beb1e44721bc155ac0b82da191",
       "value": "S9"
      }
     },
     "66bb3766c4444d948885c4e0d150b6b8": {
      "model_module": "@jupyter-widgets/base",
      "model_module_version": "1.0.0",
      "model_name": "LayoutModel",
      "state": {}
     },
     "66bdf50f44214eb294618fb6ff944980": {
      "model_module": "@jupyter-widgets/base",
      "model_module_version": "1.0.0",
      "model_name": "LayoutModel",
      "state": {}
     },
     "66d08631e17b45fab4f1f4cf37d32722": {
      "model_module": "@jupyter-widgets/controls",
      "model_module_version": "1.0.0",
      "model_name": "TextModel",
      "state": {
       "description": "Feature ID",
       "layout": "IPY_MODEL_59f81bb9b71047c3af653b2bb344abc4",
       "placeholder": "Feature ID",
       "style": "IPY_MODEL_b666ea6599e04f1cad488957a078c599",
       "value": "-"
      }
     },
     "66e03cdd6dd140baa4c0bb44184822b3": {
      "model_module": "@jupyter-widgets/base",
      "model_module_version": "1.0.0",
      "model_name": "LayoutModel",
      "state": {}
     },
     "6757ce8a7ce14b17ba15553f5b3c59b5": {
      "model_module": "@jupyter-widgets/base",
      "model_module_version": "1.0.0",
      "model_name": "LayoutModel",
      "state": {
       "width": "80%"
      }
     },
     "67ce2baa6faf4ef993a429ec34743e4b": {
      "model_module": "@jupyter-widgets/controls",
      "model_module_version": "1.0.0",
      "model_name": "TextModel",
      "state": {
       "description": "Feature ID",
       "layout": "IPY_MODEL_49b9fba17ead47689325a581f61a2185",
       "placeholder": "Feature ID",
       "style": "IPY_MODEL_ecd7d27d1b4547efaf71ece1dfb7463a",
       "value": "-"
      }
     },
     "6875cdaa8a7c4d8497f1fbd057a50ffd": {
      "model_module": "@jupyter-widgets/controls",
      "model_module_version": "1.0.0",
      "model_name": "DescriptionStyleModel",
      "state": {
       "description_width": ""
      }
     },
     "6877676d1fd94792b98827cf61a53fe1": {
      "model_module": "@jupyter-widgets/controls",
      "model_module_version": "1.0.0",
      "model_name": "HBoxModel",
      "state": {
       "children": [
        "IPY_MODEL_dae5122e005440f296cc33e428da986c",
        "IPY_MODEL_1d2247fc840142599b3ddef502af6cd5"
       ],
       "layout": "IPY_MODEL_1aa033a2c0084e96a8aac724ffcc9e2e"
      }
     },
     "68d69335456a4a9eb8285559f8a6244f": {
      "model_module": "@jupyter-widgets/base",
      "model_module_version": "1.0.0",
      "model_name": "LayoutModel",
      "state": {
       "height": "100px",
       "overflow_y": "auto"
      }
     },
     "69277c7e72204237ad8a465672f0f0e0": {
      "model_module": "@jupyter-widgets/controls",
      "model_module_version": "1.0.0",
      "model_name": "DescriptionStyleModel",
      "state": {
       "description_width": ""
      }
     },
     "695a36c3c1d84196907185f8d97b0d82": {
      "model_module": "@jupyter-widgets/base",
      "model_module_version": "1.0.0",
      "model_name": "LayoutModel",
      "state": {
       "width": "20%"
      }
     },
     "69a8c7b362dc464390ce4ce8d0f479ca": {
      "model_module": "@jupyter-widgets/base",
      "model_module_version": "1.0.0",
      "model_name": "LayoutModel",
      "state": {
       "width": "20%"
      }
     },
     "69d579d7e3eb41478ea0680369cccc81": {
      "model_module": "@jupyter-widgets/controls",
      "model_module_version": "1.0.0",
      "model_name": "LabelModel",
      "state": {
       "layout": "IPY_MODEL_e858d7ed581b4904838b59e46e5a8a84",
       "style": "IPY_MODEL_9e0e8123e265482c84d6942cc9ab754c",
       "value": "0 features are selected"
      }
     },
     "6a01b0a150d54bdf990c99b26ebbb8b4": {
      "model_module": "@jupyter-widgets/controls",
      "model_module_version": "1.0.0",
      "model_name": "FloatTextModel",
      "state": {
       "description": "Abundance",
       "layout": "IPY_MODEL_c10309f8310f4f6b8aba5ee20d8734be",
       "step": null,
       "style": "IPY_MODEL_7ea633521cff401aa3b8eb9814f55e01",
       "value": 900
      }
     },
     "6a055f899a7b4635a8b466305124fc89": {
      "model_module": "@jupyter-widgets/controls",
      "model_module_version": "1.0.0",
      "model_name": "ButtonModel",
      "state": {
       "description": "Save",
       "layout": "IPY_MODEL_af2e94daef064648bac8a9d6c8318db5",
       "style": "IPY_MODEL_3f84dbfd56524588b905d65224fb99b7",
       "tooltip": "Save the selection(s)"
      }
     },
     "6a577bbbd0aa4150aede2160b8874332": {
      "model_module": "@jupyter-widgets/base",
      "model_module_version": "1.0.0",
      "model_name": "LayoutModel",
      "state": {
       "width": "20%"
      }
     },
     "6a5ff6f45dbc46978f342ad4d6166c1a": {
      "model_module": "@jupyter-widgets/controls",
      "model_module_version": "1.0.0",
      "model_name": "DescriptionStyleModel",
      "state": {
       "description_width": ""
      }
     },
     "6a71069cbb2c43438b8568cd956163c5": {
      "model_module": "@jupyter-widgets/base",
      "model_module_version": "1.0.0",
      "model_name": "LayoutModel",
      "state": {
       "width": "20%"
      }
     },
     "6a78243a8abb4458b19ae1a0500dab91": {
      "model_module": "@jupyter-widgets/base",
      "model_module_version": "1.0.0",
      "model_name": "LayoutModel",
      "state": {
       "width": "100%"
      }
     },
     "6a94fb38b86145b089f8f533170451e3": {
      "model_module": "@jupyter-widgets/base",
      "model_module_version": "1.0.0",
      "model_name": "LayoutModel",
      "state": {}
     },
     "6b04e885f258431aa527f05fa131ddcd": {
      "model_module": "@jupyter-widgets/controls",
      "model_module_version": "1.0.0",
      "model_name": "ButtonModel",
      "state": {
       "description": "Annotate",
       "layout": "IPY_MODEL_0e07ef18630d400ebd047cfa66842770",
       "style": "IPY_MODEL_4eaaeb69621c4c9a9418c57f4a4f2e40"
      }
     },
     "6b05c4a3ae9148dcb7dff94e4d3548ac": {
      "model_module": "@jupyter-widgets/controls",
      "model_module_version": "1.0.0",
      "model_name": "ButtonModel",
      "state": {
       "description": "Annotate",
       "layout": "IPY_MODEL_200cb43361284d0f99b1e50f867b437c",
       "style": "IPY_MODEL_eec2a448499d4e71bd76926c521cd3fe"
      }
     },
     "6b05e69ce5d848c98718e99b4bcdf07a": {
      "model_module": "@jupyter-widgets/base",
      "model_module_version": "1.0.0",
      "model_name": "LayoutModel",
      "state": {
       "width": "80%"
      }
     },
     "6b2dff180bc84f5a80b4dd9dd0551483": {
      "model_module": "@jupyter-widgets/controls",
      "model_module_version": "1.0.0",
      "model_name": "DescriptionStyleModel",
      "state": {
       "description_width": ""
      }
     },
     "6b3785a0ec934f519fbee5930687dd10": {
      "model_module": "@jupyter-widgets/controls",
      "model_module_version": "1.0.0",
      "model_name": "TextModel",
      "state": {
       "layout": "IPY_MODEL_1c5c5ccf5ee94e9e836a6732b53ed0c0",
       "placeholder": "sample meta",
       "style": "IPY_MODEL_acc504f859be4cf099bea5c25253750b",
       "value": "-"
      }
     },
     "6b3c6100d8224121a98cd11107902fd3": {
      "model_module": "@jupyter-widgets/controls",
      "model_module_version": "1.0.0",
      "model_name": "HBoxModel",
      "state": {
       "children": [
        "IPY_MODEL_91b0dd3318d0419c85d7c8e2f5f3e1e5",
        "IPY_MODEL_10dd02f05d764e9d9fc780d6c5dd77e5",
        "IPY_MODEL_6352539279464923a2b44c9466fe561b"
       ],
       "layout": "IPY_MODEL_efffb80988fd42e783a47c0eedf2e2fd"
      }
     },
     "6ba4d258476e48e7b1b63a2ea5c37cdc": {
      "model_module": "@jupyter-widgets/base",
      "model_module_version": "1.0.0",
      "model_name": "LayoutModel",
      "state": {
       "width": "20%"
      }
     },
     "6bbbd5abc3ac469cb144935a38bbba26": {
      "model_module": "@jupyter-widgets/controls",
      "model_module_version": "1.0.0",
      "model_name": "DescriptionStyleModel",
      "state": {
       "description_width": ""
      }
     },
     "6bedb4baac694ac8a59c20e170d35890": {
      "model_module": "@jupyter-widgets/base",
      "model_module_version": "1.0.0",
      "model_name": "LayoutModel",
      "state": {}
     },
     "6c078c1531754752b98c6688b0ca8fda": {
      "model_module": "@jupyter-widgets/controls",
      "model_module_version": "1.0.0",
      "model_name": "DescriptionStyleModel",
      "state": {
       "description_width": ""
      }
     },
     "6c3a71d4e3e1443a945934f46458e065": {
      "model_module": "@jupyter-widgets/controls",
      "model_module_version": "1.0.0",
      "model_name": "HBoxModel",
      "state": {
       "children": [
        "IPY_MODEL_c890b29770df44c78f990c5fe9592d67",
        "IPY_MODEL_8571dc85edd64b6581e571786c8da366"
       ],
       "layout": "IPY_MODEL_9e199d24e61c405b8edb8936de74b20d"
      }
     },
     "6cfc29a9736b486589cddb2aec69eff6": {
      "model_module": "@jupyter-widgets/base",
      "model_module_version": "1.0.0",
      "model_name": "LayoutModel",
      "state": {
       "width": "80%"
      }
     },
     "6d3f9f8661564e979d032d847121a960": {
      "model_module": "@jupyter-widgets/base",
      "model_module_version": "1.0.0",
      "model_name": "LayoutModel",
      "state": {}
     },
     "6d5cf4c76420409c8aa6c8ffcbed1f00": {
      "model_module": "@jupyter-widgets/base",
      "model_module_version": "1.0.0",
      "model_name": "LayoutModel",
      "state": {}
     },
     "6df422153c51450d85155036cba4cf6f": {
      "model_module": "@jupyter-widgets/controls",
      "model_module_version": "1.0.0",
      "model_name": "DescriptionStyleModel",
      "state": {
       "description_width": ""
      }
     },
     "6e84535438464322ad9d0ce0f852bd4c": {
      "model_module": "@jupyter-widgets/controls",
      "model_module_version": "1.0.0",
      "model_name": "HBoxModel",
      "state": {
       "children": [
        "IPY_MODEL_1068d33eb6644267a3368ea17fc89a4f",
        "IPY_MODEL_a72bce7ab7f24dfda5d25eefa936bec7"
       ],
       "layout": "IPY_MODEL_fa0d8e862dc149efadf22881e88f98a6"
      }
     },
     "6f064e0bd51b4c33a3c560609634a9f8": {
      "model_module": "@jupyter-widgets/controls",
      "model_module_version": "1.0.0",
      "model_name": "TextModel",
      "state": {
       "layout": "IPY_MODEL_4b66e6ad6758443c8d030ff1915ff35a",
       "placeholder": "feature meta",
       "style": "IPY_MODEL_e861d332fb004e78a55d3d6b80d56bce",
       "value": "-"
      }
     },
     "6f8908526ebe4dfba8f58bb8372f84f8": {
      "model_module": "@jupyter-widgets/base",
      "model_module_version": "1.0.0",
      "model_name": "LayoutModel",
      "state": {}
     },
     "6fb85714ca1549ed97dd6356997d984a": {
      "model_module": "@jupyter-widgets/controls",
      "model_module_version": "1.0.0",
      "model_name": "TextModel",
      "state": {
       "layout": "IPY_MODEL_7bdf3de85b434ba0881f43efebe11ef9",
       "placeholder": "sample meta",
       "style": "IPY_MODEL_d7597257851f4b00bbbe9e092bfff7cd",
       "value": "0"
      }
     },
     "6fd69de8331747f596b0c83eedda1df4": {
      "model_module": "@jupyter-widgets/controls",
      "model_module_version": "1.0.0",
      "model_name": "HTMLModel",
      "state": {
       "layout": "IPY_MODEL_84fad15c8579408bbe5f2d4942247573",
       "style": "IPY_MODEL_21a640f396f34f4db4b7a7fffd54d96e",
       "value": "<style> a:link {color:black; background-color:transparent; text-decoration:none}a:visited {color:black; background-color:transparent; text-decoration:none}</style><p style=\"color:black;white-space:nowrap;\"><a href=\"http://dbbact.org/annotation_info/NA\"   target=\"_blank\">No annotation found in database dbBact</a></p>"
      }
     },
     "7023f7c41ae144399908a4f124e9db30": {
      "model_module": "@jupyter-widgets/base",
      "model_module_version": "1.0.0",
      "model_name": "LayoutModel",
      "state": {}
     },
     "7043632e77bf4cfd8248c070e4b06212": {
      "model_module": "@jupyter-widgets/controls",
      "model_module_version": "1.0.0",
      "model_name": "DescriptionStyleModel",
      "state": {
       "description_width": ""
      }
     },
     "707be9b38bd0444ebaa21b52053dffcc": {
      "model_module": "@jupyter-widgets/controls",
      "model_module_version": "1.0.0",
      "model_name": "DropdownModel",
      "state": {
       "_options_labels": [
        "ori.order",
        "group",
        "new.order",
        "categorical",
        "_calour_original_abundance"
       ],
       "index": 0,
       "layout": "IPY_MODEL_dabc18c0d25e4cee869b075bd6b23195",
       "style": "IPY_MODEL_19bf21bc950c4dd2a4a5ea5b863db538"
      }
     },
     "70a507fee43f46cc8fd648953e2442b2": {
      "model_module": "@jupyter-widgets/controls",
      "model_module_version": "1.0.0",
      "model_name": "FloatTextModel",
      "state": {
       "description": "Abundance",
       "layout": "IPY_MODEL_44994213f04e4c3ba75264ca4cf6a7cd",
       "step": null,
       "style": "IPY_MODEL_7e73fabbdcbe44178d8851f93e710edc"
      }
     },
     "70d70308bb8443e594ea4a8e6993dc7f": {
      "model_module": "@jupyter-widgets/base",
      "model_module_version": "1.0.0",
      "model_name": "LayoutModel",
      "state": {}
     },
     "7101cd7a90c945eb8d5bf6e1d160160c": {
      "model_module": "@jupyter-widgets/base",
      "model_module_version": "1.0.0",
      "model_name": "LayoutModel",
      "state": {}
     },
     "710e9a880e50423e8a2f662cfdbd655b": {
      "model_module": "@jupyter-widgets/controls",
      "model_module_version": "1.0.0",
      "model_name": "DescriptionStyleModel",
      "state": {
       "description_width": ""
      }
     },
     "7158233a34804accb15cfc8a8f90b29b": {
      "model_module": "@jupyter-widgets/controls",
      "model_module_version": "1.0.0",
      "model_name": "HBoxModel",
      "state": {
       "children": [
        "IPY_MODEL_c58749cff455446892e749eb3f0a661f",
        "IPY_MODEL_17e6c6f5ef3944b18f112be21299f4cc"
       ],
       "layout": "IPY_MODEL_e8622ae6264e44a69ce804a25a56e906"
      }
     },
     "7190db1d6935404a86a936b03fb35aee": {
      "model_module": "@jupyter-widgets/controls",
      "model_module_version": "1.0.0",
      "model_name": "DescriptionStyleModel",
      "state": {
       "description_width": ""
      }
     },
     "71985afa968b47fd99d609d701371cf9": {
      "model_module": "@jupyter-widgets/base",
      "model_module_version": "1.0.0",
      "model_name": "LayoutModel",
      "state": {
       "width": "20%"
      }
     },
     "719adc055c314f4085a30d51d1161e4a": {
      "model_module": "@jupyter-widgets/controls",
      "model_module_version": "1.0.0",
      "model_name": "HBoxModel",
      "state": {
       "children": [
        "IPY_MODEL_66347957a913491dbf13fbf84f5d419f",
        "IPY_MODEL_e34ed2b52c4c412ca1645cb60e5d0ee3",
        "IPY_MODEL_0ea06b327a1c410a8de51123c628116b"
       ],
       "layout": "IPY_MODEL_8b0dca0147304f74844eaa8c2c60ccff"
      }
     },
     "71ae1c1cdd5d43dfa2c3cf492850d582": {
      "model_module": "@jupyter-widgets/controls",
      "model_module_version": "1.0.0",
      "model_name": "DescriptionStyleModel",
      "state": {
       "description_width": ""
      }
     },
     "7219b0dfd22044038cf7a1143dcc0579": {
      "model_module": "@jupyter-widgets/controls",
      "model_module_version": "1.0.0",
      "model_name": "HBoxModel",
      "state": {
       "children": [
        "IPY_MODEL_287bcf9dbc26408cba8f5cdf3348f93b",
        "IPY_MODEL_bab1e351a9614a358357ae04c1a14aa6"
       ],
       "layout": "IPY_MODEL_c635c39acb6f4b90a5213287645b86c0"
      }
     },
     "7259489984144c46bdd2b76505b626bb": {
      "model_module": "@jupyter-widgets/controls",
      "model_module_version": "1.0.0",
      "model_name": "HBoxModel",
      "state": {
       "children": [
        "IPY_MODEL_b9bf199686854385a278888607e8d84c",
        "IPY_MODEL_18f720008c9a4ccdb2498fcb8b93a6b1",
        "IPY_MODEL_2089cc59783946a28690e78b3d6692c1"
       ],
       "layout": "IPY_MODEL_e00ff9eaff7c4b6c8dba4543d9743065"
      }
     },
     "726ebe804d5546d1b1d32c81ba16eb54": {
      "model_module": "@jupyter-widgets/controls",
      "model_module_version": "1.0.0",
      "model_name": "ButtonModel",
      "state": {
       "description": "Save",
       "layout": "IPY_MODEL_e40cc68957154694a03642a59ea71bbb",
       "style": "IPY_MODEL_14255cf3a50244ee8e97663be3cfc90e"
      }
     },
     "72ca2da620864950a1ce9d943470cdf3": {
      "model_module": "@jupyter-widgets/controls",
      "model_module_version": "1.0.0",
      "model_name": "TextModel",
      "state": {
       "layout": "IPY_MODEL_806f56efe28f45e2bdfec36966e50082",
       "placeholder": "feature meta",
       "style": "IPY_MODEL_37a7059974b241c89345100dcfa39b8e",
       "value": "-"
      }
     },
     "7304182849904b22a00b947cfce4be0a": {
      "model_module": "@jupyter-widgets/controls",
      "model_module_version": "1.0.0",
      "model_name": "ButtonStyleModel",
      "state": {}
     },
     "7311948263a042008615437990448798": {
      "model_module": "@jupyter-widgets/controls",
      "model_module_version": "1.0.0",
      "model_name": "ButtonStyleModel",
      "state": {}
     },
     "735353246d5b449aa382f166533e5323": {
      "model_module": "@jupyter-widgets/controls",
      "model_module_version": "1.0.0",
      "model_name": "FloatTextModel",
      "state": {
       "description": "Abundance",
       "layout": "IPY_MODEL_03e0490bdbd84a58946021fdba53e55b",
       "step": null,
       "style": "IPY_MODEL_565bbe9d08ec4bf4b632b729b5958533"
      }
     },
     "73a55c1e92444702a764b270a9fcea1c": {
      "model_module": "@jupyter-widgets/controls",
      "model_module_version": "1.0.0",
      "model_name": "FloatTextModel",
      "state": {
       "description": "Abundance",
       "layout": "IPY_MODEL_80c5bc5bac9f4b009ff6369d9b52c34d",
       "step": null,
       "style": "IPY_MODEL_ac1146579d5f4db58af5e2c31d39cd51"
      }
     },
     "73abd810f1734ecfae7a305d76782767": {
      "model_module": "@jupyter-widgets/controls",
      "model_module_version": "1.0.0",
      "model_name": "DescriptionStyleModel",
      "state": {
       "description_width": ""
      }
     },
     "73df2e60b3ec49a7a694e918dad43d82": {
      "model_module": "@jupyter-widgets/base",
      "model_module_version": "1.0.0",
      "model_name": "LayoutModel",
      "state": {}
     },
     "73e180d5a3764940b477890507ce376e": {
      "model_module": "@jupyter-widgets/controls",
      "model_module_version": "1.0.0",
      "model_name": "FloatTextModel",
      "state": {
       "description": "Abundance",
       "layout": "IPY_MODEL_105dc9bc4cdf424f9691cc233cdf519e",
       "step": null,
       "style": "IPY_MODEL_b62f67d02adc4feaa6abedd89793afbe"
      }
     },
     "741681fa14a341b29bbbe7eeec034d60": {
      "model_module": "@jupyter-widgets/base",
      "model_module_version": "1.0.0",
      "model_name": "LayoutModel",
      "state": {}
     },
     "741fd99505aa4bbfa4abde0dd33a0418": {
      "model_module": "@jupyter-widgets/controls",
      "model_module_version": "1.0.0",
      "model_name": "DescriptionStyleModel",
      "state": {
       "description_width": ""
      }
     },
     "746c54e4b29848b98c498c38805e7f20": {
      "model_module": "@jupyter-widgets/controls",
      "model_module_version": "1.0.0",
      "model_name": "ButtonModel",
      "state": {
       "description": "print axes ranges",
       "layout": "IPY_MODEL_00d386f8218c49c8a5e220134fd4dacc",
       "style": "IPY_MODEL_b799b9fcd34d4becb0edb96deea3048a",
       "tooltip": "Print the x axis and y axis ranges. Useful to pass to `rect` parameter of heatmap() to zoom in the region automatically."
      }
     },
     "74aae64026d44fd4afe508d0d3b3cec7": {
      "model_module": "@jupyter-widgets/controls",
      "model_module_version": "1.0.0",
      "model_name": "HTMLModel",
      "state": {
       "layout": "IPY_MODEL_7d5e0bfb3cb14c1c922ae0c48a2e2489",
       "style": "IPY_MODEL_ff9930cba4944728bc3ab7d67dfe37ba",
       "value": "<style> a:link {color:black; background-color:transparent; text-decoration:none}a:visited {color:black; background-color:transparent; text-decoration:none}</style><p style=\"color:black;white-space:nowrap;\"><a href=\"http://dbbact.org/annotation_info/NA\"   target=\"_blank\">No annotation found in database dbBact</a></p>"
      }
     },
     "74acd45c93c14d78bd5bb643e5ad49bb": {
      "model_module": "@jupyter-widgets/base",
      "model_module_version": "1.0.0",
      "model_name": "LayoutModel",
      "state": {}
     },
     "753d38c4b75d42a9bcf588978cef511c": {
      "model_module": "@jupyter-widgets/controls",
      "model_module_version": "1.0.0",
      "model_name": "ButtonModel",
      "state": {
       "description": "print axes ranges",
       "layout": "IPY_MODEL_011264ac05254126802325ccfac4e148",
       "style": "IPY_MODEL_7304182849904b22a00b947cfce4be0a",
       "tooltip": "Print the x axis and y axis ranges. Useful to pass to `rect` parameter of heatmap() to zoom in the region automatically."
      }
     },
     "7580005c49474c62a7cc1db66ddc5626": {
      "model_module": "@jupyter-widgets/controls",
      "model_module_version": "1.0.0",
      "model_name": "ButtonStyleModel",
      "state": {}
     },
     "758070c99c514370887433836531b003": {
      "model_module": "@jupyter-widgets/base",
      "model_module_version": "1.0.0",
      "model_name": "LayoutModel",
      "state": {}
     },
     "75e9dc465c294e5da385c87640bcaf7e": {
      "model_module": "@jupyter-widgets/controls",
      "model_module_version": "1.0.0",
      "model_name": "HTMLModel",
      "state": {
       "layout": "IPY_MODEL_e2f6215f3c8a4b4e9fa58466faaa0b56",
       "style": "IPY_MODEL_880b8b7bec7e40f5a6391728735efdae",
       "value": "<style> a:link {color:black; background-color:transparent; text-decoration:none}a:visited {color:black; background-color:transparent; text-decoration:none}</style><p style=\"color:black;white-space:nowrap;\"><a href=\"http://dbbact.org/annotation_info/NA\"   target=\"_blank\">No annotation found in database dbBact</a></p>"
      }
     },
     "760310d170c24d5181467e9bd76c649c": {
      "model_module": "@jupyter-widgets/controls",
      "model_module_version": "1.0.0",
      "model_name": "DescriptionStyleModel",
      "state": {
       "description_width": ""
      }
     },
     "7678c6a0341b4618be1ac97d2ae028e4": {
      "model_module": "@jupyter-widgets/controls",
      "model_module_version": "1.0.0",
      "model_name": "TextModel",
      "state": {
       "description": "Sample ID",
       "layout": "IPY_MODEL_565b1c6b9e874be098cfd20b625f76fe",
       "placeholder": "Sample ID",
       "style": "IPY_MODEL_de5a5365889047b2bbb3b419e902f70d",
       "value": "S4"
      }
     },
     "76a4c29ac6244662b3cb68e1f2604050": {
      "model_module": "@jupyter-widgets/base",
      "model_module_version": "1.0.0",
      "model_name": "LayoutModel",
      "state": {
       "width": "20%"
      }
     },
     "76a765e017d74f1aa3c856312383cb42": {
      "model_module": "@jupyter-widgets/controls",
      "model_module_version": "1.0.0",
      "model_name": "TextModel",
      "state": {
       "layout": "IPY_MODEL_3a227cd0d6bd41d4bd2b38aea0a2a997",
       "placeholder": "sample meta",
       "style": "IPY_MODEL_17c1aa17f2104a48a90f5d16f19da70c",
       "value": "-"
      }
     },
     "76dd7b23470844b99eb1d6f98485c541": {
      "model_module": "@jupyter-widgets/base",
      "model_module_version": "1.0.0",
      "model_name": "LayoutModel",
      "state": {}
     },
     "76e87c5ac05944d5bc71d33b144d21fe": {
      "model_module": "@jupyter-widgets/controls",
      "model_module_version": "1.0.0",
      "model_name": "TextModel",
      "state": {
       "layout": "IPY_MODEL_0a804213a3484329a31d3bc63f2d6cfb",
       "placeholder": "feature meta",
       "style": "IPY_MODEL_21e8a7ff1b614639866a5c3baf905390",
       "value": "-"
      }
     },
     "76eafdc28f5c4e01983bae61f167056e": {
      "model_module": "@jupyter-widgets/controls",
      "model_module_version": "1.0.0",
      "model_name": "TextModel",
      "state": {
       "description": "Feature ID",
       "layout": "IPY_MODEL_0fc054d821a547a59cd2399708c31d56",
       "placeholder": "Feature ID",
       "style": "IPY_MODEL_232d1bbacd774565a1f19442f7cc04b0",
       "value": "TC"
      }
     },
     "76fd7714395a42a2a8390a555349436c": {
      "model_module": "@jupyter-widgets/controls",
      "model_module_version": "1.0.0",
      "model_name": "DescriptionStyleModel",
      "state": {
       "description_width": ""
      }
     },
     "7702f976b643477284a2fee1ed687753": {
      "model_module": "@jupyter-widgets/controls",
      "model_module_version": "1.0.0",
      "model_name": "DescriptionStyleModel",
      "state": {
       "description_width": ""
      }
     },
     "770ab8b0235c40b8a906fcd1fceb2b0c": {
      "model_module": "@jupyter-widgets/controls",
      "model_module_version": "1.0.0",
      "model_name": "HBoxModel",
      "state": {
       "children": [
        "IPY_MODEL_a4e2633eab3349ea89670415a2b9a143",
        "IPY_MODEL_ffb99856481a41c8af1402e46612c9bd",
        "IPY_MODEL_2a949cb24c8549f99ad364f255401d62"
       ],
       "layout": "IPY_MODEL_10239a33f22a4113a1a9d79aa4d1288c"
      }
     },
     "773cb8dede5f4d728628430598683cc5": {
      "model_module": "@jupyter-widgets/base",
      "model_module_version": "1.0.0",
      "model_name": "LayoutModel",
      "state": {
       "width": "100%"
      }
     },
     "776392b057f04fd38282e5dd5c034166": {
      "model_module": "@jupyter-widgets/controls",
      "model_module_version": "1.0.0",
      "model_name": "HBoxModel",
      "state": {
       "children": [
        "IPY_MODEL_b03f2152149e4ef7a4fdf0ae880db8ac",
        "IPY_MODEL_85377326bf8d458d983308fd85e417a2",
        "IPY_MODEL_caed2d5df2d94e338136eea89546e865"
       ],
       "layout": "IPY_MODEL_7b094315b33a4530a2d01851f9b23171"
      }
     },
     "77a00bf1757a4947a5533197f51efd3d": {
      "model_module": "@jupyter-widgets/controls",
      "model_module_version": "1.0.0",
      "model_name": "ButtonStyleModel",
      "state": {}
     },
     "782e6ced6e6b4e71825939e6bfd906ce": {
      "model_module": "@jupyter-widgets/base",
      "model_module_version": "1.0.0",
      "model_name": "LayoutModel",
      "state": {}
     },
     "787928167271476883e9915eb5ae5786": {
      "model_module": "@jupyter-widgets/controls",
      "model_module_version": "1.0.0",
      "model_name": "LabelModel",
      "state": {
       "layout": "IPY_MODEL_e70a8c83eeb042a29041fa50e92193b6",
       "style": "IPY_MODEL_55c5690ccc034658857bb3dfba7de4b0",
       "value": "1 features are selected"
      }
     },
     "788e498b41be4e5dac18b2d294a861ff": {
      "model_module": "@jupyter-widgets/controls",
      "model_module_version": "1.0.0",
      "model_name": "DescriptionStyleModel",
      "state": {
       "description_width": ""
      }
     },
     "78c7ceed4c0b4330961df0dd3171e087": {
      "model_module": "@jupyter-widgets/controls",
      "model_module_version": "1.0.0",
      "model_name": "HTMLModel",
      "state": {
       "layout": "IPY_MODEL_b5e94d76b1364bbcb8eb0a8c99044feb",
       "style": "IPY_MODEL_b9db7a9b6b174315888eb94d75f4705d",
       "value": "no annotation found"
      }
     },
     "7968a43a1a314708885a2febf7586d07": {
      "model_module": "@jupyter-widgets/controls",
      "model_module_version": "1.0.0",
      "model_name": "DescriptionStyleModel",
      "state": {
       "description_width": ""
      }
     },
     "79ffec5865d446dc8d95294eb3e91e06": {
      "model_module": "@jupyter-widgets/controls",
      "model_module_version": "1.0.0",
      "model_name": "FloatTextModel",
      "state": {
       "description": "Abundance",
       "layout": "IPY_MODEL_90938660446045f789e980da5024085c",
       "step": null,
       "style": "IPY_MODEL_15b815f52c2f4a3fb3339e012a56c3a3"
      }
     },
     "7a2095c306f64afc96a142734d9c5800": {
      "model_module": "@jupyter-widgets/base",
      "model_module_version": "1.0.0",
      "model_name": "LayoutModel",
      "state": {}
     },
     "7a41573e30004dbabf0043eee1f46740": {
      "model_module": "@jupyter-widgets/controls",
      "model_module_version": "1.0.0",
      "model_name": "DescriptionStyleModel",
      "state": {
       "description_width": ""
      }
     },
     "7a649c0f551647b98db4fa352507904b": {
      "model_module": "@jupyter-widgets/controls",
      "model_module_version": "1.0.0",
      "model_name": "HBoxModel",
      "state": {
       "children": [
        "IPY_MODEL_ea5507ad074f4247962014b1b9a5350c",
        "IPY_MODEL_da869a499d2645e4b2748cd1983f39f4",
        "IPY_MODEL_0844b68abc714506adf0d5859a7e0fdd"
       ],
       "layout": "IPY_MODEL_741681fa14a341b29bbbe7eeec034d60"
      }
     },
     "7a817942ba3542bfafc40461d82c05f1": {
      "model_module": "@jupyter-widgets/controls",
      "model_module_version": "1.0.0",
      "model_name": "ButtonStyleModel",
      "state": {}
     },
     "7b02f671f963406ea6b3c07d1b9e9c68": {
      "model_module": "@jupyter-widgets/controls",
      "model_module_version": "1.0.0",
      "model_name": "TextModel",
      "state": {
       "layout": "IPY_MODEL_e33f725ed57145cfa921fe0f15d67d49",
       "placeholder": "sample meta",
       "style": "IPY_MODEL_478d897582d1402791ae5fcd9a92698c",
       "value": "-"
      }
     },
     "7b094315b33a4530a2d01851f9b23171": {
      "model_module": "@jupyter-widgets/base",
      "model_module_version": "1.0.0",
      "model_name": "LayoutModel",
      "state": {}
     },
     "7b523be8f8674136a56556e091eb6102": {
      "model_module": "@jupyter-widgets/controls",
      "model_module_version": "1.0.0",
      "model_name": "LabelModel",
      "state": {
       "layout": "IPY_MODEL_40a65f059ff14cb0b7d09b4be951360c",
       "style": "IPY_MODEL_130932151fb0454d83008a76f0dae498",
       "value": "0 features are selected"
      }
     },
     "7b627dc3f6f943d3824e1c9e6ec3c60a": {
      "model_module": "@jupyter-widgets/controls",
      "model_module_version": "1.0.0",
      "model_name": "DropdownModel",
      "state": {
       "_options_labels": [
        "ori.order",
        "group",
        "new.order",
        "categorical",
        "_calour_original_abundance"
       ],
       "index": 0,
       "layout": "IPY_MODEL_25fefce25fe843eb97fb0dddec8ce158",
       "style": "IPY_MODEL_d39b3bda87b444f9bec70cb9e717ee58"
      }
     },
     "7b89056dbb8b4019902884ce6ec03104": {
      "model_module": "@jupyter-widgets/controls",
      "model_module_version": "1.0.0",
      "model_name": "TextModel",
      "state": {
       "layout": "IPY_MODEL_0829cfc8d9594bb2998252d03d7d9cc1",
       "placeholder": "feature meta",
       "style": "IPY_MODEL_54b1602bd37045a48d064814c4103619",
       "value": "anaerobic"
      }
     },
     "7bbecd1f33544181b1889546cbaa4c14": {
      "model_module": "@jupyter-widgets/controls",
      "model_module_version": "1.0.0",
      "model_name": "DescriptionStyleModel",
      "state": {
       "description_width": ""
      }
     },
     "7bc60e2cf7fa45db8205d74c444fb512": {
      "model_module": "@jupyter-widgets/controls",
      "model_module_version": "1.0.0",
      "model_name": "DescriptionStyleModel",
      "state": {
       "description_width": ""
      }
     },
     "7bdf3de85b434ba0881f43efebe11ef9": {
      "model_module": "@jupyter-widgets/base",
      "model_module_version": "1.0.0",
      "model_name": "LayoutModel",
      "state": {
       "width": "80%"
      }
     },
     "7bef7c20e9464d468783ca4a78c3d30d": {
      "model_module": "@jupyter-widgets/base",
      "model_module_version": "1.0.0",
      "model_name": "LayoutModel",
      "state": {
       "width": "20%"
      }
     },
     "7cb4f927092a4406ac2e1aa4fd672e0b": {
      "model_module": "@jupyter-widgets/controls",
      "model_module_version": "1.0.0",
      "model_name": "ButtonStyleModel",
      "state": {}
     },
     "7cccff9917444f4cbcd36a3659d14d47": {
      "model_module": "@jupyter-widgets/controls",
      "model_module_version": "1.0.0",
      "model_name": "HTMLModel",
      "state": {
       "layout": "IPY_MODEL_c92a4328c2b1497eae41115cfda206cb",
       "style": "IPY_MODEL_3ff5012bd69a49138566f31f67ade583",
       "value": "<style> a:link {color:black; background-color:transparent; text-decoration:none}a:visited {color:black; background-color:transparent; text-decoration:none}</style><p style=\"color:black;white-space:nowrap;\"><a href=\"http://dbbact.org/annotation_info/NA\"   target=\"_blank\">No annotation found in database dbBact</a></p>"
      }
     },
     "7d5e0bfb3cb14c1c922ae0c48a2e2489": {
      "model_module": "@jupyter-widgets/base",
      "model_module_version": "1.0.0",
      "model_name": "LayoutModel",
      "state": {
       "height": "100px",
       "overflow_y": "auto"
      }
     },
     "7d658cd9365c45d7b1a8dfb9c62aa85d": {
      "model_module": "@jupyter-widgets/controls",
      "model_module_version": "1.0.0",
      "model_name": "TextModel",
      "state": {
       "layout": "IPY_MODEL_21cb8b2b996949ba8aa772921d80b96a",
       "placeholder": "sample meta",
       "style": "IPY_MODEL_442a539c0e5545a685e48a2b96d94796",
       "value": "5"
      }
     },
     "7d98d60283e441a699fa2dff142c7eb3": {
      "model_module": "@jupyter-widgets/controls",
      "model_module_version": "1.0.0",
      "model_name": "HBoxModel",
      "state": {
       "children": [
        "IPY_MODEL_7678c6a0341b4618be1ac97d2ae028e4",
        "IPY_MODEL_e73941486eab497da45f1fe2014cf016",
        "IPY_MODEL_d8c24935b2bc44d986fee186e60eadb8"
       ],
       "layout": "IPY_MODEL_e483774b63b64cdda9c557aa3c8d70b9"
      }
     },
     "7da83618b42c476784719d5cc337780f": {
      "model_module": "@jupyter-widgets/controls",
      "model_module_version": "1.0.0",
      "model_name": "HBoxModel",
      "state": {
       "children": [
        "IPY_MODEL_41cda9e6486e4b50b31d77ed42a32c2e",
        "IPY_MODEL_f431bb5957f84f60a5fbc3e3f64baaf5",
        "IPY_MODEL_e19f08f6a7a94079a4c97293226ed764"
       ],
       "layout": "IPY_MODEL_148faa86f38543eca421ddfd03e4ee0b"
      }
     },
     "7daf8677bcaf43b191a32cfa52e9cb66": {
      "model_module": "@jupyter-widgets/base",
      "model_module_version": "1.0.0",
      "model_name": "LayoutModel",
      "state": {}
     },
     "7dbddc9d7d2843ccb0bf1617f18d25d2": {
      "model_module": "@jupyter-widgets/controls",
      "model_module_version": "1.0.0",
      "model_name": "DescriptionStyleModel",
      "state": {
       "description_width": ""
      }
     },
     "7e5b78e4cf224243938df1115c7c123e": {
      "model_module": "@jupyter-widgets/controls",
      "model_module_version": "1.0.0",
      "model_name": "TextModel",
      "state": {
       "description": "Sample ID",
       "layout": "IPY_MODEL_03e0490bdbd84a58946021fdba53e55b",
       "placeholder": "Sample ID",
       "style": "IPY_MODEL_45a205b117a7489a8113fb0148a15d91",
       "value": "-"
      }
     },
     "7e73fabbdcbe44178d8851f93e710edc": {
      "model_module": "@jupyter-widgets/controls",
      "model_module_version": "1.0.0",
      "model_name": "DescriptionStyleModel",
      "state": {
       "description_width": ""
      }
     },
     "7e8004da805b4f3bb7b11f0929d70423": {
      "model_module": "@jupyter-widgets/controls",
      "model_module_version": "1.0.0",
      "model_name": "ButtonStyleModel",
      "state": {}
     },
     "7e84f94739f7488783d1480b62658c87": {
      "model_module": "@jupyter-widgets/controls",
      "model_module_version": "1.0.0",
      "model_name": "DescriptionStyleModel",
      "state": {
       "description_width": ""
      }
     },
     "7e982471a4d04c73951df4eb2b7e5e75": {
      "model_module": "@jupyter-widgets/controls",
      "model_module_version": "1.0.0",
      "model_name": "DescriptionStyleModel",
      "state": {
       "description_width": ""
      }
     },
     "7ea633521cff401aa3b8eb9814f55e01": {
      "model_module": "@jupyter-widgets/controls",
      "model_module_version": "1.0.0",
      "model_name": "DescriptionStyleModel",
      "state": {
       "description_width": ""
      }
     },
     "7ec1d504c6d24d31913faf7265dba223": {
      "model_module": "@jupyter-widgets/controls",
      "model_module_version": "1.0.0",
      "model_name": "TextModel",
      "state": {
       "layout": "IPY_MODEL_e5af046a55e84cc08199c28d86dd60ba",
       "placeholder": "feature meta",
       "style": "IPY_MODEL_7702f976b643477284a2fee1ed687753",
       "value": "-"
      }
     },
     "800802d49d4140e4ab3d0ddb14d67c95": {
      "model_module": "@jupyter-widgets/controls",
      "model_module_version": "1.0.0",
      "model_name": "HBoxModel",
      "state": {
       "children": [
        "IPY_MODEL_21bd540ca3754b9c971290c257117b0f",
        "IPY_MODEL_c8441c1d7b254b46b02e16a3990b2bf8",
        "IPY_MODEL_79ffec5865d446dc8d95294eb3e91e06"
       ],
       "layout": "IPY_MODEL_db14f6d579c146e0a292895ba3a6cdd2"
      }
     },
     "804800559e4e4e65b16ac6954c8193fe": {
      "model_module": "@jupyter-widgets/controls",
      "model_module_version": "1.0.0",
      "model_name": "HTMLModel",
      "state": {
       "layout": "IPY_MODEL_58afc157d577451fa4d4ce893914a4db",
       "style": "IPY_MODEL_c3f9096ce69e43749fbff18320a94a2c",
       "value": "no annotation found"
      }
     },
     "806048cb71944a49acb988035601c2a8": {
      "model_module": "@jupyter-widgets/base",
      "model_module_version": "1.0.0",
      "model_name": "LayoutModel",
      "state": {
       "width": "20%"
      }
     },
     "806967ab5b2348428e5f2873e3cd2e10": {
      "model_module": "@jupyter-widgets/base",
      "model_module_version": "1.0.0",
      "model_name": "LayoutModel",
      "state": {}
     },
     "806f56efe28f45e2bdfec36966e50082": {
      "model_module": "@jupyter-widgets/base",
      "model_module_version": "1.0.0",
      "model_name": "LayoutModel",
      "state": {
       "width": "80%"
      }
     },
     "8085f1c37d5d41cd8077baede5ddff6c": {
      "model_module": "@jupyter-widgets/base",
      "model_module_version": "1.0.0",
      "model_name": "LayoutModel",
      "state": {}
     },
     "80c5bc5bac9f4b009ff6369d9b52c34d": {
      "model_module": "@jupyter-widgets/base",
      "model_module_version": "1.0.0",
      "model_name": "LayoutModel",
      "state": {
       "width": "100%"
      }
     },
     "80eb024d88ec4617a8178421dfb17d8f": {
      "model_module": "@jupyter-widgets/base",
      "model_module_version": "1.0.0",
      "model_name": "LayoutModel",
      "state": {}
     },
     "812262d2401b42b78d9a50f7003a1280": {
      "model_module": "@jupyter-widgets/controls",
      "model_module_version": "1.0.0",
      "model_name": "HBoxModel",
      "state": {
       "children": [
        "IPY_MODEL_426af36c438e42928a587f3cefaccecd",
        "IPY_MODEL_6b3785a0ec934f519fbee5930687dd10"
       ],
       "layout": "IPY_MODEL_557fc7fbbe344a25aef5906ccc4456aa"
      }
     },
     "81e674ca72694d4aa76cbab29d1275b5": {
      "model_module": "@jupyter-widgets/controls",
      "model_module_version": "1.0.0",
      "model_name": "TextModel",
      "state": {
       "layout": "IPY_MODEL_d95d674e1357464bbd808e447980a5cb",
       "placeholder": "sample meta",
       "style": "IPY_MODEL_5bb938b40d1d4891b4653d7cd14b7f22",
       "value": "-"
      }
     },
     "831b60f52be34ce8ac2b231fd734c5ad": {
      "model_module": "@jupyter-widgets/base",
      "model_module_version": "1.0.0",
      "model_name": "LayoutModel",
      "state": {}
     },
     "83351f1927c64058bbdb8f2b519dd250": {
      "model_module": "@jupyter-widgets/base",
      "model_module_version": "1.0.0",
      "model_name": "LayoutModel",
      "state": {}
     },
     "836f96c878c74977931f83949fb969fb": {
      "model_module": "@jupyter-widgets/controls",
      "model_module_version": "1.0.0",
      "model_name": "HBoxModel",
      "state": {
       "children": [
        "IPY_MODEL_e809ad160f1b4c78b3109e4e8a78c15f",
        "IPY_MODEL_da38a07ae4be4915ba078b993bfda538"
       ],
       "layout": "IPY_MODEL_9738f70ce649453781dc00ba9615c623"
      }
     },
     "8371f4d10a5a434bb265dfab56b71ea4": {
      "model_module": "@jupyter-widgets/controls",
      "model_module_version": "1.0.0",
      "model_name": "DescriptionStyleModel",
      "state": {
       "description_width": ""
      }
     },
     "8374453c2ad747b79afe66e55c3eea32": {
      "model_module": "@jupyter-widgets/controls",
      "model_module_version": "1.0.0",
      "model_name": "DescriptionStyleModel",
      "state": {
       "description_width": ""
      }
     },
     "8377246142eb4ea9b081c42a780da736": {
      "model_module": "@jupyter-widgets/base",
      "model_module_version": "1.0.0",
      "model_name": "LayoutModel",
      "state": {}
     },
     "83a3f0c4771a4700b09e1b44ac984df4": {
      "model_module": "@jupyter-widgets/controls",
      "model_module_version": "1.0.0",
      "model_name": "HBoxModel",
      "state": {
       "children": [
        "IPY_MODEL_18bf9761334845b28c0a3aa5c2ed99e3",
        "IPY_MODEL_4c4a6d2cb43b471eaa24e37f75b812f9",
        "IPY_MODEL_85f0b6970ddb4ae4809906e0e6177d2f"
       ],
       "layout": "IPY_MODEL_c2454d63815f498bb1e29d4fb7891ca2"
      }
     },
     "83ab89d0308948c29f4d7083be4b3697": {
      "model_module": "@jupyter-widgets/controls",
      "model_module_version": "1.0.0",
      "model_name": "DropdownModel",
      "state": {
       "_options_labels": [
        "ori.order",
        "group",
        "new.order",
        "categorical",
        "_calour_original_abundance"
       ],
       "index": 0,
       "layout": "IPY_MODEL_6a577bbbd0aa4150aede2160b8874332",
       "style": "IPY_MODEL_4ae9d360d17d405f8c6092a611a7a888"
      }
     },
     "83abe99485bf4107aac03846fa6c9969": {
      "model_module": "@jupyter-widgets/base",
      "model_module_version": "1.0.0",
      "model_name": "LayoutModel",
      "state": {}
     },
     "83b1180f221b489eb0f84ba3baf0d21b": {
      "model_module": "@jupyter-widgets/base",
      "model_module_version": "1.0.0",
      "model_name": "LayoutModel",
      "state": {
       "width": "80%"
      }
     },
     "83c9cd3cec774a6b812d99a2c26f17cb": {
      "model_module": "@jupyter-widgets/base",
      "model_module_version": "1.0.0",
      "model_name": "LayoutModel",
      "state": {
       "width": "20%"
      }
     },
     "83d02d059fdd49beb8d858c03c30d6fa": {
      "model_module": "@jupyter-widgets/controls",
      "model_module_version": "1.0.0",
      "model_name": "ButtonModel",
      "state": {
       "description": "Annotate",
       "layout": "IPY_MODEL_d399ca2f1bf7431b8d5102550d3dae3d",
       "style": "IPY_MODEL_a708261462d840178f28f54b4dad290e"
      }
     },
     "83f220c4c3154575b6bc91246594bdb3": {
      "model_module": "@jupyter-widgets/base",
      "model_module_version": "1.0.0",
      "model_name": "LayoutModel",
      "state": {}
     },
     "84139b6bcf274c53b2d6924ed9bb2831": {
      "model_module": "@jupyter-widgets/base",
      "model_module_version": "1.0.0",
      "model_name": "LayoutModel",
      "state": {
       "height": "100px",
       "overflow_y": "auto"
      }
     },
     "841fa30f5835461d83723cac9991d217": {
      "model_module": "@jupyter-widgets/controls",
      "model_module_version": "1.0.0",
      "model_name": "DescriptionStyleModel",
      "state": {
       "description_width": ""
      }
     },
     "84b38747fe924271b63cb3e83c684ae5": {
      "model_module": "@jupyter-widgets/controls",
      "model_module_version": "1.0.0",
      "model_name": "LabelModel",
      "state": {
       "layout": "IPY_MODEL_12611792fecb4e3a825fa33b00dfab4f",
       "style": "IPY_MODEL_13bf6fe0be3d4ffdaf133741f2c0c76b",
       "value": "0 features are selected"
      }
     },
     "84c3f0edd12b4194a3949dcdfc865e7a": {
      "model_module": "@jupyter-widgets/controls",
      "model_module_version": "1.0.0",
      "model_name": "DescriptionStyleModel",
      "state": {
       "description_width": ""
      }
     },
     "84ed5c80cc094cc09b17e21aabf103cd": {
      "model_module": "@jupyter-widgets/controls",
      "model_module_version": "1.0.0",
      "model_name": "HBoxModel",
      "state": {
       "children": [
        "IPY_MODEL_a28394d75da84729a1d5332f2ac091b5",
        "IPY_MODEL_f1d6f03421744fb8b7dd8eb3cf00fc4e",
        "IPY_MODEL_4b1831b5a72e4998ab49867d07da36d5"
       ],
       "layout": "IPY_MODEL_e871b23b4b534364be1603d87700353e"
      }
     },
     "84fad15c8579408bbe5f2d4942247573": {
      "model_module": "@jupyter-widgets/base",
      "model_module_version": "1.0.0",
      "model_name": "LayoutModel",
      "state": {
       "height": "100px",
       "overflow_y": "auto"
      }
     },
     "85377326bf8d458d983308fd85e417a2": {
      "model_module": "@jupyter-widgets/controls",
      "model_module_version": "1.0.0",
      "model_name": "TextModel",
      "state": {
       "description": "Feature ID",
       "layout": "IPY_MODEL_f941e7f103b34e8a97ae60e01fe0cf36",
       "placeholder": "Feature ID",
       "style": "IPY_MODEL_e1195e68c8e747cb97e3475398843fb4",
       "value": "TG"
      }
     },
     "8571dc85edd64b6581e571786c8da366": {
      "model_module": "@jupyter-widgets/controls",
      "model_module_version": "1.0.0",
      "model_name": "TextModel",
      "state": {
       "layout": "IPY_MODEL_cbf88707cd60458bb4ba01415d517065",
       "placeholder": "feature meta",
       "style": "IPY_MODEL_f65e8fbb0d6d4f26a2395cbf5325f119",
       "value": "-"
      }
     },
     "858ef5db577945bda0df0e4f119a8cff": {
      "model_module": "@jupyter-widgets/controls",
      "model_module_version": "1.0.0",
      "model_name": "ButtonStyleModel",
      "state": {}
     },
     "85a411cb20fe45d59527aa71c44511dd": {
      "model_module": "@jupyter-widgets/base",
      "model_module_version": "1.0.0",
      "model_name": "LayoutModel",
      "state": {}
     },
     "85f0b6970ddb4ae4809906e0e6177d2f": {
      "model_module": "@jupyter-widgets/controls",
      "model_module_version": "1.0.0",
      "model_name": "ButtonModel",
      "state": {
       "description": "Annotate",
       "layout": "IPY_MODEL_00b35cc801fb45c88ad583bd97764686",
       "style": "IPY_MODEL_1301c4f3fffe4d4497f505b5fc37a806"
      }
     },
     "864b62d99b484d6b8195378686862840": {
      "model_module": "@jupyter-widgets/controls",
      "model_module_version": "1.0.0",
      "model_name": "DropdownModel",
      "state": {
       "_options_labels": [
        "ori.order",
        "group",
        "new.order",
        "categorical",
        "_calour_original_abundance"
       ],
       "index": 0,
       "layout": "IPY_MODEL_03a4d672e09e4fb98b1d8f842e7559e8",
       "style": "IPY_MODEL_5676144cdbe645c8bf6d8259e1e2647a"
      }
     },
     "86546455beb6418e9f445eb6bc82dc03": {
      "model_module": "@jupyter-widgets/controls",
      "model_module_version": "1.0.0",
      "model_name": "ButtonStyleModel",
      "state": {}
     },
     "86a559a37b0646668bae032c223a7e90": {
      "model_module": "@jupyter-widgets/base",
      "model_module_version": "1.0.0",
      "model_name": "LayoutModel",
      "state": {}
     },
     "86cde3d2fbe84649a2e4654e4325577d": {
      "model_module": "@jupyter-widgets/controls",
      "model_module_version": "1.0.0",
      "model_name": "HBoxModel",
      "state": {
       "children": [
        "IPY_MODEL_e8ad69a11b824ac89de5ff7d2b13da15",
        "IPY_MODEL_ccbd4eb091ff48dc8b4b5fde7d511a2a",
        "IPY_MODEL_8e93b3ed298c4843a791d725e579e86c"
       ],
       "layout": "IPY_MODEL_1539ec922da9434aa3284350d87a0477"
      }
     },
     "8700f0e0af494edda9b90ad14280f472": {
      "model_module": "@jupyter-widgets/controls",
      "model_module_version": "1.0.0",
      "model_name": "HBoxModel",
      "state": {
       "children": [
        "IPY_MODEL_57ec8c45d14f4a18aaec4256deef4e4c",
        "IPY_MODEL_0a58be3902ff46f1bd98b3d8228b9583"
       ],
       "layout": "IPY_MODEL_09ef0699338a477795d893f3af0b21a9"
      }
     },
     "87510413707e4b36b7894ac3c17e83de": {
      "model_module": "@jupyter-widgets/controls",
      "model_module_version": "1.0.0",
      "model_name": "ButtonStyleModel",
      "state": {}
     },
     "879abe67fe034d72aa5ee141d7fd465e": {
      "model_module": "@jupyter-widgets/controls",
      "model_module_version": "1.0.0",
      "model_name": "DescriptionStyleModel",
      "state": {
       "description_width": ""
      }
     },
     "87cfb34bd339422a9b6cbe42f5d4c59f": {
      "model_module": "@jupyter-widgets/controls",
      "model_module_version": "1.0.0",
      "model_name": "DescriptionStyleModel",
      "state": {
       "description_width": ""
      }
     },
     "880b8b7bec7e40f5a6391728735efdae": {
      "model_module": "@jupyter-widgets/controls",
      "model_module_version": "1.0.0",
      "model_name": "DescriptionStyleModel",
      "state": {
       "description_width": ""
      }
     },
     "8838d0c6af0445bebaf48aecd78e2efc": {
      "model_module": "@jupyter-widgets/base",
      "model_module_version": "1.0.0",
      "model_name": "LayoutModel",
      "state": {
       "width": "80%"
      }
     },
     "884df1dfc42146a3a45898f5dcffccbb": {
      "model_module": "@jupyter-widgets/base",
      "model_module_version": "1.0.0",
      "model_name": "LayoutModel",
      "state": {}
     },
     "8892dfae6dd94af2a7767c4d2293f791": {
      "model_module": "@jupyter-widgets/base",
      "model_module_version": "1.0.0",
      "model_name": "LayoutModel",
      "state": {}
     },
     "889983beb1e44721bc155ac0b82da191": {
      "model_module": "@jupyter-widgets/controls",
      "model_module_version": "1.0.0",
      "model_name": "DescriptionStyleModel",
      "state": {
       "description_width": ""
      }
     },
     "88c19cd3ff164e89a88a17a7aec52153": {
      "model_module": "@jupyter-widgets/controls",
      "model_module_version": "1.0.0",
      "model_name": "HBoxModel",
      "state": {
       "children": [
        "IPY_MODEL_41109dfeb3eb418b93516e3e34efb8a4",
        "IPY_MODEL_582a75e26aa04fdebd700e8da78af957"
       ],
       "layout": "IPY_MODEL_3d60c6483bad4efebc2f73a3c5fe22c7"
      }
     },
     "8944426cfd89480ea8a12fb082514d20": {
      "model_module": "@jupyter-widgets/base",
      "model_module_version": "1.0.0",
      "model_name": "LayoutModel",
      "state": {}
     },
     "8990643322ae487c8d7077c02177e3db": {
      "model_module": "@jupyter-widgets/base",
      "model_module_version": "1.0.0",
      "model_name": "LayoutModel",
      "state": {}
     },
     "89ae00871d4140e1a799839ff5fcc377": {
      "model_module": "@jupyter-widgets/controls",
      "model_module_version": "1.0.0",
      "model_name": "ButtonStyleModel",
      "state": {}
     },
     "89ea376b653c4de2bfeba31e498386d2": {
      "model_module": "@jupyter-widgets/base",
      "model_module_version": "1.0.0",
      "model_name": "LayoutModel",
      "state": {}
     },
     "8a439e52677e4ce38fca38efb35d440e": {
      "model_module": "@jupyter-widgets/controls",
      "model_module_version": "1.0.0",
      "model_name": "DescriptionStyleModel",
      "state": {
       "description_width": ""
      }
     },
     "8abd7680e3184166bc837bb4f27fbbc3": {
      "model_module": "@jupyter-widgets/base",
      "model_module_version": "1.0.0",
      "model_name": "LayoutModel",
      "state": {}
     },
     "8ae8fe10e65a46efbed6fafc0d1aba7c": {
      "model_module": "@jupyter-widgets/base",
      "model_module_version": "1.0.0",
      "model_name": "LayoutModel",
      "state": {
       "height": "100px",
       "overflow_y": "auto"
      }
     },
     "8af73284f30b40409de43e02b8769aea": {
      "model_module": "@jupyter-widgets/controls",
      "model_module_version": "1.0.0",
      "model_name": "TextModel",
      "state": {
       "layout": "IPY_MODEL_22c1472937e64ed084e5635ee98f157c",
       "placeholder": "feature meta",
       "style": "IPY_MODEL_c18afdec8a8e45f2982224e1bedefddf",
       "value": "-"
      }
     },
     "8b0dca0147304f74844eaa8c2c60ccff": {
      "model_module": "@jupyter-widgets/base",
      "model_module_version": "1.0.0",
      "model_name": "LayoutModel",
      "state": {}
     },
     "8b2d341361da4aabb3d21abb9382909b": {
      "model_module": "@jupyter-widgets/controls",
      "model_module_version": "1.0.0",
      "model_name": "HBoxModel",
      "state": {
       "children": [
        "IPY_MODEL_ffa4c25b4dbb4c18bfd1d769b2463a9d",
        "IPY_MODEL_45fd4d89452c4a8685ed528df010d21d"
       ],
       "layout": "IPY_MODEL_6210d9a4c539465c9aa1847af99b36a1"
      }
     },
     "8b3f124b74d34e099526cd43528360e9": {
      "model_module": "@jupyter-widgets/base",
      "model_module_version": "1.0.0",
      "model_name": "LayoutModel",
      "state": {
       "width": "20%"
      }
     },
     "8b862ece7bc7495f82a29350804b8020": {
      "model_module": "@jupyter-widgets/controls",
      "model_module_version": "1.0.0",
      "model_name": "LabelModel",
      "state": {
       "layout": "IPY_MODEL_8944426cfd89480ea8a12fb082514d20",
       "style": "IPY_MODEL_d954400a3f614d1ba761ff49e7b98d21",
       "value": "0 features are selected"
      }
     },
     "8bab61fee22144b38a35287103cd1df7": {
      "model_module": "@jupyter-widgets/controls",
      "model_module_version": "1.0.0",
      "model_name": "DescriptionStyleModel",
      "state": {
       "description_width": ""
      }
     },
     "8befc7c1c1fc4bfa949fdadb70e0ddad": {
      "model_module": "@jupyter-widgets/controls",
      "model_module_version": "1.0.0",
      "model_name": "TextModel",
      "state": {
       "description": "Sample ID",
       "layout": "IPY_MODEL_0eb099a48d0a46ed9d2c5c9068ee3cbf",
       "placeholder": "Sample ID",
       "style": "IPY_MODEL_192e851cd1444172b6eadc18aadea290",
       "value": "-"
      }
     },
     "8c33abe2cb1044fb83829803231f6851": {
      "model_module": "@jupyter-widgets/controls",
      "model_module_version": "1.0.0",
      "model_name": "DescriptionStyleModel",
      "state": {
       "description_width": ""
      }
     },
     "8c487dd769f54b7b94569691916fb0c7": {
      "model_module": "@jupyter-widgets/controls",
      "model_module_version": "1.0.0",
      "model_name": "FloatTextModel",
      "state": {
       "description": "Abundance",
       "layout": "IPY_MODEL_2ba689d5830d4d06b98eb1020bab37da",
       "step": null,
       "style": "IPY_MODEL_00c5cc0c541145ef889071188e37e46f",
       "value": 15.384615384615385
      }
     },
     "8ca32759f63a4ded87ead51f4350989a": {
      "model_module": "@jupyter-widgets/base",
      "model_module_version": "1.0.0",
      "model_name": "LayoutModel",
      "state": {}
     },
     "8cad085a937c41b7aa68f171f5520a78": {
      "model_module": "@jupyter-widgets/controls",
      "model_module_version": "1.0.0",
      "model_name": "HBoxModel",
      "state": {
       "children": [
        "IPY_MODEL_3635eb6bf5bd4eb2b3c511ad41937e04",
        "IPY_MODEL_a5f6c021b2de4ac4bf6a6a3de4256a7d"
       ],
       "layout": "IPY_MODEL_b1b45e1f60cf469d85fe72521ef86580"
      }
     },
     "8cc83df01337452c9bdab88f67a36a67": {
      "model_module": "@jupyter-widgets/controls",
      "model_module_version": "1.0.0",
      "model_name": "ButtonStyleModel",
      "state": {}
     },
     "8d9bfb06614d4f398a8be639adbdc256": {
      "model_module": "@jupyter-widgets/base",
      "model_module_version": "1.0.0",
      "model_name": "LayoutModel",
      "state": {}
     },
     "8e09963766f748d097e90ca66279ebf2": {
      "model_module": "@jupyter-widgets/base",
      "model_module_version": "1.0.0",
      "model_name": "LayoutModel",
      "state": {
       "width": "20%"
      }
     },
     "8e13c884d4644d7ebec461c4ec95c2e2": {
      "model_module": "@jupyter-widgets/base",
      "model_module_version": "1.0.0",
      "model_name": "LayoutModel",
      "state": {}
     },
     "8e93b3ed298c4843a791d725e579e86c": {
      "model_module": "@jupyter-widgets/controls",
      "model_module_version": "1.0.0",
      "model_name": "FloatTextModel",
      "state": {
       "description": "Abundance",
       "layout": "IPY_MODEL_0fe4437f03514de2a3929adfcab239a3",
       "step": null,
       "style": "IPY_MODEL_d7fd20b06fce4f118c17aa3b98bce218"
      }
     },
     "8e98071a10f64bbe973f661397fb9905": {
      "model_module": "@jupyter-widgets/controls",
      "model_module_version": "1.0.0",
      "model_name": "FloatTextModel",
      "state": {
       "description": "Abundance",
       "layout": "IPY_MODEL_d59215ebf4b145409800dd999aeb9210",
       "step": null,
       "style": "IPY_MODEL_aae2dd8ce3d14f45be984eed94dfe960"
      }
     },
     "8ec1123f964a4ad993760b0c3b4053d1": {
      "model_module": "@jupyter-widgets/controls",
      "model_module_version": "1.0.0",
      "model_name": "DescriptionStyleModel",
      "state": {
       "description_width": ""
      }
     },
     "8ec749af4c8c4e809b2e067ae8f64a5e": {
      "model_module": "@jupyter-widgets/base",
      "model_module_version": "1.0.0",
      "model_name": "LayoutModel",
      "state": {
       "width": "20%"
      }
     },
     "8ee67ac9a296407d9a2c1c679f39d567": {
      "model_module": "@jupyter-widgets/controls",
      "model_module_version": "1.0.0",
      "model_name": "DropdownModel",
      "state": {
       "_options_labels": [
        "ori.order",
        "group",
        "new.order",
        "categorical",
        "_calour_original_abundance"
       ],
       "index": 0,
       "layout": "IPY_MODEL_5985d0c15a8a4ea18e0b57652b09c2d9",
       "style": "IPY_MODEL_8371f4d10a5a434bb265dfab56b71ea4"
      }
     },
     "8ef1645848e3407f8ae324cc4e745687": {
      "model_module": "@jupyter-widgets/controls",
      "model_module_version": "1.0.0",
      "model_name": "HBoxModel",
      "state": {
       "children": [
        "IPY_MODEL_62bff018dc1e48e8b4a98d294bbbae29",
        "IPY_MODEL_2cd6a44f6b394ae08f319e2560c5ae91"
       ],
       "layout": "IPY_MODEL_884df1dfc42146a3a45898f5dcffccbb"
      }
     },
     "8f1b2c6ba9ec44f89f92c45d26c0b8d8": {
      "model_module": "@jupyter-widgets/controls",
      "model_module_version": "1.0.0",
      "model_name": "HBoxModel",
      "state": {
       "children": [
        "IPY_MODEL_e71c9cdd86744c64a7a7e795fac33ef0",
        "IPY_MODEL_76a765e017d74f1aa3c856312383cb42"
       ],
       "layout": "IPY_MODEL_b4650b6a8831470fb8f3256cfc10e622"
      }
     },
     "9031897ce4ab4d2284993dd49f075fc0": {
      "model_module": "@jupyter-widgets/base",
      "model_module_version": "1.0.0",
      "model_name": "LayoutModel",
      "state": {}
     },
     "9077200b3a754477aac92fd808181394": {
      "model_module": "@jupyter-widgets/controls",
      "model_module_version": "1.0.0",
      "model_name": "HBoxModel",
      "state": {
       "children": [
        "IPY_MODEL_de377be0844d4edabebef5220be7781a",
        "IPY_MODEL_e0e4deefe5014ed5b936c29fc160a252"
       ],
       "layout": "IPY_MODEL_7101cd7a90c945eb8d5bf6e1d160160c"
      }
     },
     "90938660446045f789e980da5024085c": {
      "model_module": "@jupyter-widgets/base",
      "model_module_version": "1.0.0",
      "model_name": "LayoutModel",
      "state": {
       "width": "100%"
      }
     },
     "90a5ada6dce940d18ca2b320df4c44b3": {
      "model_module": "@jupyter-widgets/controls",
      "model_module_version": "1.0.0",
      "model_name": "HBoxModel",
      "state": {
       "children": [
        "IPY_MODEL_034016157c1e4834a1874ad730db1d35",
        "IPY_MODEL_389e14a306a3404fa87ca08730449c9d",
        "IPY_MODEL_9d518ef1b3e2421ea49a010ceed75512"
       ],
       "layout": "IPY_MODEL_ceed02f0cb2d4fd981e1710d1c19a415"
      }
     },
     "90e1f51b6d304105a7032bf7f92896fc": {
      "model_module": "@jupyter-widgets/controls",
      "model_module_version": "1.0.0",
      "model_name": "LabelModel",
      "state": {
       "layout": "IPY_MODEL_552dc67caaba4b9c998110d2ef16fabe",
       "style": "IPY_MODEL_dafcf9781ae14313a9712f3f3ac763a3",
       "value": "0 features are selected"
      }
     },
     "914dc9b399cc4d9d8bc40c5f5c8f2001": {
      "model_module": "@jupyter-widgets/controls",
      "model_module_version": "1.0.0",
      "model_name": "DropdownModel",
      "state": {
       "_options_labels": [
        "oxygen",
        "ph",
        "level1",
        "level2",
        "new.order",
        "ori.order",
        "taxonomy"
       ],
       "index": 0,
       "layout": "IPY_MODEL_2979aa0ba7fa4d099eb2e734cbd2da55",
       "style": "IPY_MODEL_760310d170c24d5181467e9bd76c649c"
      }
     },
     "91814db0b8d64f12b71d3d70653e8801": {
      "model_module": "@jupyter-widgets/controls",
      "model_module_version": "1.0.0",
      "model_name": "DescriptionStyleModel",
      "state": {
       "description_width": ""
      }
     },
     "91a0346c66f14ccdb973c8a3265dd954": {
      "model_module": "@jupyter-widgets/base",
      "model_module_version": "1.0.0",
      "model_name": "LayoutModel",
      "state": {}
     },
     "91b0dd3318d0419c85d7c8e2f5f3e1e5": {
      "model_module": "@jupyter-widgets/controls",
      "model_module_version": "1.0.0",
      "model_name": "ButtonModel",
      "state": {
       "description": "print axes ranges",
       "layout": "IPY_MODEL_76dd7b23470844b99eb1d6f98485c541",
       "style": "IPY_MODEL_002cb088b10f4b4282410cee493af930",
       "tooltip": "Print the x axis and y axis ranges. Useful to pass to `rect` parameter of heatmap() to zoom in the region automatically."
      }
     },
     "91d34eaab44e4d849f70e949826ffee3": {
      "model_module": "@jupyter-widgets/base",
      "model_module_version": "1.0.0",
      "model_name": "LayoutModel",
      "state": {
       "width": "100%"
      }
     },
     "928d371f132f4db0bc065c7e360ab249": {
      "model_module": "@jupyter-widgets/base",
      "model_module_version": "1.0.0",
      "model_name": "LayoutModel",
      "state": {}
     },
     "92ecc96096da498bb9a57909e80edf53": {
      "model_module": "@jupyter-widgets/controls",
      "model_module_version": "1.0.0",
      "model_name": "TextModel",
      "state": {
       "layout": "IPY_MODEL_00e25675da1049568f10c1796c6c6c5a",
       "placeholder": "sample meta",
       "style": "IPY_MODEL_8bab61fee22144b38a35287103cd1df7",
       "value": "-"
      }
     },
     "92f3abcf76e74fe8b6455d490c72278c": {
      "model_module": "@jupyter-widgets/controls",
      "model_module_version": "1.0.0",
      "model_name": "HBoxModel",
      "state": {
       "children": [
        "IPY_MODEL_a2c45c3cba814c71aa78d01db5a88514",
        "IPY_MODEL_3f1a094381784559bff88f2e238299e3",
        "IPY_MODEL_ef744ca46c1740209f24bb72bbf7b4e3"
       ],
       "layout": "IPY_MODEL_74acd45c93c14d78bd5bb643e5ad49bb"
      }
     },
     "931584c76d5348c3a7627adefa8f6b1c": {
      "model_module": "@jupyter-widgets/controls",
      "model_module_version": "1.0.0",
      "model_name": "DescriptionStyleModel",
      "state": {
       "description_width": ""
      }
     },
     "932cc02db0f04f68aa6f3035a74859e5": {
      "model_module": "@jupyter-widgets/controls",
      "model_module_version": "1.0.0",
      "model_name": "DescriptionStyleModel",
      "state": {
       "description_width": ""
      }
     },
     "9354b50cf37742798cf9830a78845f29": {
      "model_module": "@jupyter-widgets/base",
      "model_module_version": "1.0.0",
      "model_name": "LayoutModel",
      "state": {
       "width": "80%"
      }
     },
     "935a2cdecc83454095c90340cc420520": {
      "model_module": "@jupyter-widgets/controls",
      "model_module_version": "1.0.0",
      "model_name": "FloatTextModel",
      "state": {
       "description": "Abundance",
       "layout": "IPY_MODEL_452f48ef744e4620a76c97266df33ac1",
       "step": null,
       "style": "IPY_MODEL_ea2d02d0b75a4ccab2edaa9d74a1b9ae"
      }
     },
     "93b3cf55930c4dd086479f3a5f922ade": {
      "model_module": "@jupyter-widgets/base",
      "model_module_version": "1.0.0",
      "model_name": "LayoutModel",
      "state": {
       "height": "100px",
       "overflow_y": "auto"
      }
     },
     "94343b458ad346609429d806bf90ad88": {
      "model_module": "@jupyter-widgets/controls",
      "model_module_version": "1.0.0",
      "model_name": "ButtonModel",
      "state": {
       "description": "Save",
       "layout": "IPY_MODEL_541d4fd136ab4073ab0990280e3ee208",
       "style": "IPY_MODEL_7580005c49474c62a7cc1db66ddc5626",
       "tooltip": "Save the selection(s)"
      }
     },
     "94d09775552249bc9f906d9407c1047d": {
      "model_module": "@jupyter-widgets/controls",
      "model_module_version": "1.0.0",
      "model_name": "ButtonStyleModel",
      "state": {}
     },
     "94f4358e5826460898af63aab3ece55e": {
      "model_module": "@jupyter-widgets/controls",
      "model_module_version": "1.0.0",
      "model_name": "HBoxModel",
      "state": {
       "children": [
        "IPY_MODEL_0c33c99a4c2c480e83fde9ed11c6ce8d",
        "IPY_MODEL_6a055f899a7b4635a8b466305124fc89",
        "IPY_MODEL_d7064ad2257e4ce0a66f4d4e77d87f4c"
       ],
       "layout": "IPY_MODEL_b30c1d2cf00d440ba7c63966907b7e4f"
      }
     },
     "9574655f903441b6994aef806e87bc92": {
      "model_module": "@jupyter-widgets/base",
      "model_module_version": "1.0.0",
      "model_name": "LayoutModel",
      "state": {}
     },
     "96051a033f5b41e8b1d6420dc4a56497": {
      "model_module": "@jupyter-widgets/base",
      "model_module_version": "1.0.0",
      "model_name": "LayoutModel",
      "state": {}
     },
     "960df2a4f6054b57a54b257213e7f63e": {
      "model_module": "@jupyter-widgets/controls",
      "model_module_version": "1.0.0",
      "model_name": "DescriptionStyleModel",
      "state": {
       "description_width": ""
      }
     },
     "96126401a62a46ada51531a573230569": {
      "model_module": "@jupyter-widgets/controls",
      "model_module_version": "1.0.0",
      "model_name": "DescriptionStyleModel",
      "state": {
       "description_width": ""
      }
     },
     "962fb1baec2b4b7caa211f6145c32f68": {
      "model_module": "@jupyter-widgets/controls",
      "model_module_version": "1.0.0",
      "model_name": "DropdownModel",
      "state": {
       "_options_labels": [
        "oxygen",
        "ph",
        "level1",
        "level2",
        "new.order",
        "ori.order",
        "taxonomy"
       ],
       "index": 0,
       "layout": "IPY_MODEL_5cd16490bf0a4375a50d5c297a5ca339",
       "style": "IPY_MODEL_b97b03781d7a40b1a523420afd38c73f"
      }
     },
     "96b797df1fbd4dafb286b8482fe1f434": {
      "model_module": "@jupyter-widgets/controls",
      "model_module_version": "1.0.0",
      "model_name": "LabelModel",
      "state": {
       "layout": "IPY_MODEL_e92f6c43518f4ce183b878b306c7fd5d",
       "style": "IPY_MODEL_01474d88c84e4f1b8cdb59872b22ba25",
       "value": "1 features are selected"
      }
     },
     "970d0c5960684f28a1079a2140812443": {
      "model_module": "@jupyter-widgets/base",
      "model_module_version": "1.0.0",
      "model_name": "LayoutModel",
      "state": {
       "width": "20%"
      }
     },
     "9738f70ce649453781dc00ba9615c623": {
      "model_module": "@jupyter-widgets/base",
      "model_module_version": "1.0.0",
      "model_name": "LayoutModel",
      "state": {}
     },
     "97b893952a074e74a8eff9c57837cf55": {
      "model_module": "@jupyter-widgets/controls",
      "model_module_version": "1.0.0",
      "model_name": "HBoxModel",
      "state": {
       "children": [
        "IPY_MODEL_707be9b38bd0444ebaa21b52053dffcc",
        "IPY_MODEL_5b9001b811bd49f38dd1e6f0e92643b4"
       ],
       "layout": "IPY_MODEL_ad45a826b3a74161bb44a5749d644fa8"
      }
     },
     "9802adaa4e154ffdb94436771cbfd92b": {
      "model_module": "@jupyter-widgets/controls",
      "model_module_version": "1.0.0",
      "model_name": "DropdownModel",
      "state": {
       "_options_labels": [
        "ori.order",
        "group",
        "new.order",
        "categorical",
        "_calour_original_abundance"
       ],
       "index": 0,
       "layout": "IPY_MODEL_59e976c095204998a963c6f4f945f91f",
       "style": "IPY_MODEL_48318f6ceacd41b3bcd639a430ea7386"
      }
     },
     "983de6053288462fb9b51281807210b1": {
      "model_module": "@jupyter-widgets/base",
      "model_module_version": "1.0.0",
      "model_name": "LayoutModel",
      "state": {}
     },
     "98889e3b9253435abc2a0d74609bda4c": {
      "model_module": "@jupyter-widgets/controls",
      "model_module_version": "1.0.0",
      "model_name": "HBoxModel",
      "state": {
       "children": [
        "IPY_MODEL_8ee67ac9a296407d9a2c1c679f39d567",
        "IPY_MODEL_bd10010d59764e0abcfc3fe07df46ee9"
       ],
       "layout": "IPY_MODEL_eef1b0e464e34f7f962a9b1c73d43754"
      }
     },
     "99214093a1354cc893fa705705f32128": {
      "model_module": "@jupyter-widgets/controls",
      "model_module_version": "1.0.0",
      "model_name": "DescriptionStyleModel",
      "state": {
       "description_width": ""
      }
     },
     "994b82b2cc834d9da39e026f937dafec": {
      "model_module": "@jupyter-widgets/controls",
      "model_module_version": "1.0.0",
      "model_name": "DescriptionStyleModel",
      "state": {
       "description_width": ""
      }
     },
     "9a0b3f943c234e00a1a9b561b6501020": {
      "model_module": "@jupyter-widgets/base",
      "model_module_version": "1.0.0",
      "model_name": "LayoutModel",
      "state": {}
     },
     "9a1563c5454f45ae934861bf403039ac": {
      "model_module": "@jupyter-widgets/controls",
      "model_module_version": "1.0.0",
      "model_name": "DropdownModel",
      "state": {
       "_options_labels": [
        "ori.order",
        "group",
        "new.order",
        "categorical",
        "_calour_original_abundance"
       ],
       "index": 0,
       "layout": "IPY_MODEL_695a36c3c1d84196907185f8d97b0d82",
       "style": "IPY_MODEL_741fd99505aa4bbfa4abde0dd33a0418"
      }
     },
     "9abb0308de48404d9d6bac5ae218fef2": {
      "model_module": "@jupyter-widgets/controls",
      "model_module_version": "1.0.0",
      "model_name": "LabelModel",
      "state": {
       "layout": "IPY_MODEL_59b2ad4d5528452b801e558233191f54",
       "style": "IPY_MODEL_9be8cc2a16dc4adbbb6ba33159e50119",
       "value": "0 features are selected"
      }
     },
     "9b89b5da51b44dc2b3c38106fa8c9484": {
      "model_module": "@jupyter-widgets/controls",
      "model_module_version": "1.0.0",
      "model_name": "HBoxModel",
      "state": {
       "children": [
        "IPY_MODEL_4a71d6cbea354d23834a2c450a205076",
        "IPY_MODEL_4cc227f13fbd45b7bc5323599c31540b",
        "IPY_MODEL_6a01b0a150d54bdf990c99b26ebbb8b4"
       ],
       "layout": "IPY_MODEL_9c6bd10db3ee44d5bdc59198688e21b7"
      }
     },
     "9be8cc2a16dc4adbbb6ba33159e50119": {
      "model_module": "@jupyter-widgets/controls",
      "model_module_version": "1.0.0",
      "model_name": "DescriptionStyleModel",
      "state": {
       "description_width": ""
      }
     },
     "9c6bd10db3ee44d5bdc59198688e21b7": {
      "model_module": "@jupyter-widgets/base",
      "model_module_version": "1.0.0",
      "model_name": "LayoutModel",
      "state": {}
     },
     "9ca03c1d41354c71be81a71d333417ee": {
      "model_module": "@jupyter-widgets/controls",
      "model_module_version": "1.0.0",
      "model_name": "DescriptionStyleModel",
      "state": {
       "description_width": ""
      }
     },
     "9cec1e91b91e418dbf8596e2c7e9c839": {
      "model_module": "@jupyter-widgets/base",
      "model_module_version": "1.0.0",
      "model_name": "LayoutModel",
      "state": {}
     },
     "9d1881feb0e84fffbecd19f344db35cd": {
      "model_module": "@jupyter-widgets/controls",
      "model_module_version": "1.0.0",
      "model_name": "TextModel",
      "state": {
       "layout": "IPY_MODEL_ded221a894904090a0d64b0ccae8a4e9",
       "placeholder": "feature meta",
       "style": "IPY_MODEL_c8bc8ee6e8b347a2899afc429d68cf90",
       "value": "-"
      }
     },
     "9d518ef1b3e2421ea49a010ceed75512": {
      "model_module": "@jupyter-widgets/controls",
      "model_module_version": "1.0.0",
      "model_name": "FloatTextModel",
      "state": {
       "description": "Abundance",
       "layout": "IPY_MODEL_019046940176475d87de54db26107ee7",
       "step": null,
       "style": "IPY_MODEL_01e623669876475d81e26a4e11870874",
       "value": 11.76470588235294
      }
     },
     "9d96b4c7dbf249aa9e759a336fffe6d5": {
      "model_module": "@jupyter-widgets/base",
      "model_module_version": "1.0.0",
      "model_name": "LayoutModel",
      "state": {}
     },
     "9e0e8123e265482c84d6942cc9ab754c": {
      "model_module": "@jupyter-widgets/controls",
      "model_module_version": "1.0.0",
      "model_name": "DescriptionStyleModel",
      "state": {
       "description_width": ""
      }
     },
     "9e199d24e61c405b8edb8936de74b20d": {
      "model_module": "@jupyter-widgets/base",
      "model_module_version": "1.0.0",
      "model_name": "LayoutModel",
      "state": {}
     },
     "9eb4726ed113454fbe79704dae83a7d7": {
      "model_module": "@jupyter-widgets/controls",
      "model_module_version": "1.0.0",
      "model_name": "ButtonStyleModel",
      "state": {}
     },
     "9efe0892a42b4c7eaec597f1b9a330a1": {
      "model_module": "@jupyter-widgets/controls",
      "model_module_version": "1.0.0",
      "model_name": "DescriptionStyleModel",
      "state": {
       "description_width": ""
      }
     },
     "9f38024313b54c139cecfbdf6d85b722": {
      "model_module": "@jupyter-widgets/base",
      "model_module_version": "1.0.0",
      "model_name": "LayoutModel",
      "state": {
       "width": "80%"
      }
     },
     "9f820ac307b94e6f8c537a5501a0236a": {
      "model_module": "@jupyter-widgets/controls",
      "model_module_version": "1.0.0",
      "model_name": "DropdownModel",
      "state": {
       "_options_labels": [
        "oxygen",
        "ph",
        "level1",
        "level2",
        "new.order",
        "ori.order",
        "taxonomy"
       ],
       "index": 0,
       "layout": "IPY_MODEL_32ed7ce94fa4446685d4c9fd31f767a9",
       "style": "IPY_MODEL_bf3c8254d1b044f4b60a69e8e211ad34"
      }
     },
     "9fc9fd4654ea449cb3b8f29da806f632": {
      "model_module": "@jupyter-widgets/controls",
      "model_module_version": "1.0.0",
      "model_name": "DescriptionStyleModel",
      "state": {
       "description_width": ""
      }
     },
     "9fd18553292c463cbbbeb64a01514014": {
      "model_module": "@jupyter-widgets/controls",
      "model_module_version": "1.0.0",
      "model_name": "HTMLModel",
      "state": {
       "layout": "IPY_MODEL_fb0d20d518b54a85950da404e23b9bf1",
       "style": "IPY_MODEL_d313571b489e47faaaab501e167abe62",
       "value": "<style> a:link {color:black; background-color:transparent; text-decoration:none}a:visited {color:black; background-color:transparent; text-decoration:none}</style><p style=\"color:black;white-space:nowrap;\"><a href=\"http://dbbact.org/annotation_info/NA\"   target=\"_blank\">No annotation found in database dbBact</a></p>"
      }
     },
     "9fe0e4c85aaa4eaab7efd74c3256fba2": {
      "model_module": "@jupyter-widgets/controls",
      "model_module_version": "1.0.0",
      "model_name": "LabelModel",
      "state": {
       "layout": "IPY_MODEL_bf830b8f53b04c579b435a2f86c42dfa",
       "style": "IPY_MODEL_ad686106732e4eccb4a7fdc48cbbe17a",
       "value": "0 features are selected"
      }
     },
     "a00aed31ff3140e98deefa3bd6a0e180": {
      "model_module": "@jupyter-widgets/controls",
      "model_module_version": "1.0.0",
      "model_name": "TextModel",
      "state": {
       "layout": "IPY_MODEL_e9ee8ed6b979409e904c883d3fad034b",
       "placeholder": "sample meta",
       "style": "IPY_MODEL_264c71cb5c2f448fbc2b032fcae8e7e8",
       "value": "3"
      }
     },
     "a05ae91718b24496b01645ab6a7855f3": {
      "model_module": "@jupyter-widgets/controls",
      "model_module_version": "1.0.0",
      "model_name": "ButtonStyleModel",
      "state": {}
     },
     "a077060fd24548a6a6332e1b6a13c720": {
      "model_module": "@jupyter-widgets/controls",
      "model_module_version": "1.0.0",
      "model_name": "DropdownModel",
      "state": {
       "_options_labels": [
        "ori.order",
        "group",
        "new.order",
        "categorical",
        "_calour_original_abundance"
       ],
       "index": 0,
       "layout": "IPY_MODEL_c1e6ed53474d42cf89091266d7f31d68",
       "style": "IPY_MODEL_5b6a5dd495b4481090dd164544af4155"
      }
     },
     "a09704fd86b54b469126d635682343ae": {
      "model_module": "@jupyter-widgets/controls",
      "model_module_version": "1.0.0",
      "model_name": "TextModel",
      "state": {
       "description": "Feature ID",
       "layout": "IPY_MODEL_105dc9bc4cdf424f9691cc233cdf519e",
       "placeholder": "Feature ID",
       "style": "IPY_MODEL_d3d981a1c06f4eee976f65d1dae9e210",
       "value": "-"
      }
     },
     "a0aff6b3fa7b4cfbb5d12bead2b64cc9": {
      "model_module": "@jupyter-widgets/controls",
      "model_module_version": "1.0.0",
      "model_name": "TextModel",
      "state": {
       "layout": "IPY_MODEL_11c27a0ecdac4d5db4e19f8a166c576b",
       "placeholder": "feature meta",
       "style": "IPY_MODEL_f62fdecc01eb49fcb29a099cf8dc13e2",
       "value": "aerobic"
      }
     },
     "a0cb132f7340491781db63390944a956": {
      "model_module": "@jupyter-widgets/controls",
      "model_module_version": "1.0.0",
      "model_name": "DescriptionStyleModel",
      "state": {
       "description_width": ""
      }
     },
     "a17decffdb3c42ef9458fe2a83b3720b": {
      "model_module": "@jupyter-widgets/base",
      "model_module_version": "1.0.0",
      "model_name": "LayoutModel",
      "state": {}
     },
     "a264106d08ab4e3182f0eb151d3a5a3b": {
      "model_module": "@jupyter-widgets/base",
      "model_module_version": "1.0.0",
      "model_name": "LayoutModel",
      "state": {
       "width": "80%"
      }
     },
     "a27ef6f8258a4627a196f6c7e3d9208e": {
      "model_module": "@jupyter-widgets/controls",
      "model_module_version": "1.0.0",
      "model_name": "DescriptionStyleModel",
      "state": {
       "description_width": ""
      }
     },
     "a28394d75da84729a1d5332f2ac091b5": {
      "model_module": "@jupyter-widgets/controls",
      "model_module_version": "1.0.0",
      "model_name": "ButtonModel",
      "state": {
       "description": "print axes ranges",
       "layout": "IPY_MODEL_758070c99c514370887433836531b003",
       "style": "IPY_MODEL_5adfe85ddb7c499bb2d096394ab57d6f",
       "tooltip": "Print the x axis and y axis ranges. Useful to pass to `rect` parameter of heatmap() to zoom in the region automatically."
      }
     },
     "a2906b1c4804455d87289cc1a55c2646": {
      "model_module": "@jupyter-widgets/base",
      "model_module_version": "1.0.0",
      "model_name": "LayoutModel",
      "state": {}
     },
     "a2a329ec00034b4cb3a19e1f2b5f437a": {
      "model_module": "@jupyter-widgets/controls",
      "model_module_version": "1.0.0",
      "model_name": "HBoxModel",
      "state": {
       "children": [
        "IPY_MODEL_130c532f5617441694bdc4dd1970a9fb",
        "IPY_MODEL_e5fde036ecc54c3ab9b454f664f228cf"
       ],
       "layout": "IPY_MODEL_2306aee16b2e498fb8752c9345c366fd"
      }
     },
     "a2c45c3cba814c71aa78d01db5a88514": {
      "model_module": "@jupyter-widgets/controls",
      "model_module_version": "1.0.0",
      "model_name": "TextModel",
      "state": {
       "description": "Sample ID",
       "layout": "IPY_MODEL_26b0a8291b8a43779ec1ea5975dce562",
       "placeholder": "Sample ID",
       "style": "IPY_MODEL_bd071abae5a94ceda7e8e67632b456b4",
       "value": "S4"
      }
     },
     "a2eba17947374cde99087fc645fe0922": {
      "model_module": "@jupyter-widgets/base",
      "model_module_version": "1.0.0",
      "model_name": "LayoutModel",
      "state": {}
     },
     "a311150e5f0f4e648eb8602800718030": {
      "model_module": "@jupyter-widgets/base",
      "model_module_version": "1.0.0",
      "model_name": "LayoutModel",
      "state": {
       "width": "20%"
      }
     },
     "a3ab973b0c1743e68ef7ae085276b3c4": {
      "model_module": "@jupyter-widgets/controls",
      "model_module_version": "1.0.0",
      "model_name": "HBoxModel",
      "state": {
       "children": [
        "IPY_MODEL_962fb1baec2b4b7caa211f6145c32f68",
        "IPY_MODEL_a0aff6b3fa7b4cfbb5d12bead2b64cc9"
       ],
       "layout": "IPY_MODEL_c37ce0442b534130afb115992d268ec0"
      }
     },
     "a3acabb2369f49b5aa77b77acd4192f4": {
      "model_module": "@jupyter-widgets/controls",
      "model_module_version": "1.0.0",
      "model_name": "ButtonModel",
      "state": {
       "description": "print axes ranges",
       "layout": "IPY_MODEL_b27e428d37ac4a12aaa2f313b7dadea3",
       "style": "IPY_MODEL_a9ed3ea44ca2428fbae791f213cc1249",
       "tooltip": "Print the x axis and y axis ranges. Useful to pass to `rect` parameter of heatmap() to zoom in the region automatically."
      }
     },
     "a459556696f2415e880f07f71cf589ed": {
      "model_module": "@jupyter-widgets/base",
      "model_module_version": "1.0.0",
      "model_name": "LayoutModel",
      "state": {}
     },
     "a4e2633eab3349ea89670415a2b9a143": {
      "model_module": "@jupyter-widgets/controls",
      "model_module_version": "1.0.0",
      "model_name": "TextModel",
      "state": {
       "description": "Sample ID",
       "layout": "IPY_MODEL_6a78243a8abb4458b19ae1a0500dab91",
       "placeholder": "Sample ID",
       "style": "IPY_MODEL_5ee67d1601fc4ec39f0ea109ddc67685",
       "value": "-"
      }
     },
     "a5f6c021b2de4ac4bf6a6a3de4256a7d": {
      "model_module": "@jupyter-widgets/controls",
      "model_module_version": "1.0.0",
      "model_name": "TextModel",
      "state": {
       "layout": "IPY_MODEL_a7a57b631d974eddb52bc1006fd12984",
       "placeholder": "feature meta",
       "style": "IPY_MODEL_c1f15a885d774711a675c6aa3226751c",
       "value": "aerobic"
      }
     },
     "a6fda4faa1434abdb3574b8b173ab8ef": {
      "model_module": "@jupyter-widgets/controls",
      "model_module_version": "1.0.0",
      "model_name": "DescriptionStyleModel",
      "state": {
       "description_width": ""
      }
     },
     "a708261462d840178f28f54b4dad290e": {
      "model_module": "@jupyter-widgets/controls",
      "model_module_version": "1.0.0",
      "model_name": "ButtonStyleModel",
      "state": {}
     },
     "a70ec2eed2ce499fb49762cec213ea79": {
      "model_module": "@jupyter-widgets/controls",
      "model_module_version": "1.0.0",
      "model_name": "ButtonStyleModel",
      "state": {}
     },
     "a72ab8ff79394bafbc7334b1436629e6": {
      "model_module": "@jupyter-widgets/base",
      "model_module_version": "1.0.0",
      "model_name": "LayoutModel",
      "state": {}
     },
     "a72bce7ab7f24dfda5d25eefa936bec7": {
      "model_module": "@jupyter-widgets/controls",
      "model_module_version": "1.0.0",
      "model_name": "TextModel",
      "state": {
       "layout": "IPY_MODEL_de0d8b69b9db475ba5f7778b1702db02",
       "placeholder": "sample meta",
       "style": "IPY_MODEL_6b2dff180bc84f5a80b4dd9dd0551483",
       "value": "3"
      }
     },
     "a7a57b631d974eddb52bc1006fd12984": {
      "model_module": "@jupyter-widgets/base",
      "model_module_version": "1.0.0",
      "model_name": "LayoutModel",
      "state": {
       "width": "80%"
      }
     },
     "a7c366c932e24995b79e42c529bac028": {
      "model_module": "@jupyter-widgets/controls",
      "model_module_version": "1.0.0",
      "model_name": "HBoxModel",
      "state": {
       "children": [
        "IPY_MODEL_29e59b1f20dc408bb2d2fff975a9b41b",
        "IPY_MODEL_e188e29063d245d5b865ccd346ff8efa"
       ],
       "layout": "IPY_MODEL_5eb423e1e9a04a7c8b36f334111e4bb6"
      }
     },
     "a84f80290333459a9a557f6142ef17e1": {
      "model_module": "@jupyter-widgets/controls",
      "model_module_version": "1.0.0",
      "model_name": "DescriptionStyleModel",
      "state": {
       "description_width": ""
      }
     },
     "a86a2ba6593f496c88338dc932280f35": {
      "model_module": "@jupyter-widgets/controls",
      "model_module_version": "1.0.0",
      "model_name": "HBoxModel",
      "state": {
       "children": [
        "IPY_MODEL_ac5e67eb367b452c906a7f6c4093cc64",
        "IPY_MODEL_6fb85714ca1549ed97dd6356997d984a"
       ],
       "layout": "IPY_MODEL_b5ce8d98735147458c9b1bad49e8fc00"
      }
     },
     "a8742efbdb9d4e50b56783b97e50a5be": {
      "model_module": "@jupyter-widgets/controls",
      "model_module_version": "1.0.0",
      "model_name": "DropdownModel",
      "state": {
       "_options_labels": [
        "oxygen",
        "ph",
        "level1",
        "level2",
        "new.order",
        "ori.order",
        "taxonomy"
       ],
       "index": 0,
       "layout": "IPY_MODEL_6a71069cbb2c43438b8568cd956163c5",
       "style": "IPY_MODEL_6a5ff6f45dbc46978f342ad4d6166c1a"
      }
     },
     "a87c80be889f46c6944dad1a8600d926": {
      "model_module": "@jupyter-widgets/controls",
      "model_module_version": "1.0.0",
      "model_name": "TextModel",
      "state": {
       "layout": "IPY_MODEL_bf3e56626f2f48e2b9eba29a2dbe8019",
       "placeholder": "sample meta",
       "style": "IPY_MODEL_f5a0540017034c4d907b6de51e08173a",
       "value": "-"
      }
     },
     "a90a70232dbc40e498e9530981c3096b": {
      "model_module": "@jupyter-widgets/base",
      "model_module_version": "1.0.0",
      "model_name": "LayoutModel",
      "state": {}
     },
     "a93ef3365c3d4bef9155fc296849f5f8": {
      "model_module": "@jupyter-widgets/base",
      "model_module_version": "1.0.0",
      "model_name": "LayoutModel",
      "state": {}
     },
     "a947787b553a485fab496b15d7e0bb9a": {
      "model_module": "@jupyter-widgets/base",
      "model_module_version": "1.0.0",
      "model_name": "LayoutModel",
      "state": {}
     },
     "a9801bfd8b2e4dc980457c0b9cb11527": {
      "model_module": "@jupyter-widgets/controls",
      "model_module_version": "1.0.0",
      "model_name": "LabelModel",
      "state": {
       "layout": "IPY_MODEL_85a411cb20fe45d59527aa71c44511dd",
       "style": "IPY_MODEL_d3e470dc3e9242f3926abe4394425f39",
       "value": "1 features are selected"
      }
     },
     "a98dab2261f4407fb148957ab4044bf2": {
      "model_module": "@jupyter-widgets/base",
      "model_module_version": "1.0.0",
      "model_name": "LayoutModel",
      "state": {}
     },
     "a9aef8431bda4f65aebdffab7bdeda0b": {
      "model_module": "@jupyter-widgets/controls",
      "model_module_version": "1.0.0",
      "model_name": "ButtonModel",
      "state": {
       "description": "print axes ranges",
       "layout": "IPY_MODEL_cd591a975e034460be5bc9cd73df96d2",
       "style": "IPY_MODEL_cd5fad4fcf6b4df2957a9e064c607938",
       "tooltip": "Print the x axis and y axis ranges. Useful to pass to `rect` parameter of heatmap() to zoom in the region automatically."
      }
     },
     "a9c583a886f84b2d820e9e97a0def3fe": {
      "model_module": "@jupyter-widgets/base",
      "model_module_version": "1.0.0",
      "model_name": "LayoutModel",
      "state": {}
     },
     "a9c7d5950d9143d687f78a5747709eb2": {
      "model_module": "@jupyter-widgets/controls",
      "model_module_version": "1.0.0",
      "model_name": "TextModel",
      "state": {
       "layout": "IPY_MODEL_9f38024313b54c139cecfbdf6d85b722",
       "placeholder": "feature meta",
       "style": "IPY_MODEL_4ad914973dc449108fc75e33fec426bb",
       "value": "anaerobic"
      }
     },
     "a9ed3ea44ca2428fbae791f213cc1249": {
      "model_module": "@jupyter-widgets/controls",
      "model_module_version": "1.0.0",
      "model_name": "ButtonStyleModel",
      "state": {}
     },
     "aad6602769a74e419b6b9b499533d582": {
      "model_module": "@jupyter-widgets/base",
      "model_module_version": "1.0.0",
      "model_name": "LayoutModel",
      "state": {}
     },
     "aae2dd8ce3d14f45be984eed94dfe960": {
      "model_module": "@jupyter-widgets/controls",
      "model_module_version": "1.0.0",
      "model_name": "DescriptionStyleModel",
      "state": {
       "description_width": ""
      }
     },
     "aaf1e2a904274269925ae15bde5ebf6b": {
      "model_module": "@jupyter-widgets/base",
      "model_module_version": "1.0.0",
      "model_name": "LayoutModel",
      "state": {
       "width": "80%"
      }
     },
     "aaf54215325e43f7a2ea12afd1d96dc4": {
      "model_module": "@jupyter-widgets/controls",
      "model_module_version": "1.0.0",
      "model_name": "HBoxModel",
      "state": {
       "children": [
        "IPY_MODEL_cefb9977328047de986c3d7416c1a229",
        "IPY_MODEL_b3a2a0cf9dac424ca11c4d102069836e",
        "IPY_MODEL_46fd1a9ea25a4c888e0f728591bcbb77"
       ],
       "layout": "IPY_MODEL_9574655f903441b6994aef806e87bc92"
      }
     },
     "ab73c7b03b004f3cb46543ebe09ed2fa": {
      "model_module": "@jupyter-widgets/controls",
      "model_module_version": "1.0.0",
      "model_name": "HBoxModel",
      "state": {
       "children": [
        "IPY_MODEL_e01d8976dd3e4188a5515717959c760a",
        "IPY_MODEL_115957e8b71740928560b256a2c45df3",
        "IPY_MODEL_6b05c4a3ae9148dcb7dff94e4d3548ac"
       ],
       "layout": "IPY_MODEL_a72ab8ff79394bafbc7334b1436629e6"
      }
     },
     "aba8b415a4a24b819e90e3c9fe6536dc": {
      "model_module": "@jupyter-widgets/controls",
      "model_module_version": "1.0.0",
      "model_name": "ButtonStyleModel",
      "state": {}
     },
     "abbeddd2294244e19731984ab5425bb9": {
      "model_module": "@jupyter-widgets/controls",
      "model_module_version": "1.0.0",
      "model_name": "HBoxModel",
      "state": {
       "children": [
        "IPY_MODEL_a8742efbdb9d4e50b56783b97e50a5be",
        "IPY_MODEL_8af73284f30b40409de43e02b8769aea"
       ],
       "layout": "IPY_MODEL_2eb8e2db28e04011a26a20c32b732cd5"
      }
     },
     "abd82e35aa0e47389ee1baedc79346a1": {
      "model_module": "@jupyter-widgets/controls",
      "model_module_version": "1.0.0",
      "model_name": "ButtonStyleModel",
      "state": {}
     },
     "abe3ea449b7341bb8514ac5575384e14": {
      "model_module": "@jupyter-widgets/base",
      "model_module_version": "1.0.0",
      "model_name": "LayoutModel",
      "state": {
       "width": "20%"
      }
     },
     "ac1146579d5f4db58af5e2c31d39cd51": {
      "model_module": "@jupyter-widgets/controls",
      "model_module_version": "1.0.0",
      "model_name": "DescriptionStyleModel",
      "state": {
       "description_width": ""
      }
     },
     "ac1acc7776a74ca495e616d6cefbc36c": {
      "model_module": "@jupyter-widgets/controls",
      "model_module_version": "1.0.0",
      "model_name": "DescriptionStyleModel",
      "state": {
       "description_width": ""
      }
     },
     "ac5e67eb367b452c906a7f6c4093cc64": {
      "model_module": "@jupyter-widgets/controls",
      "model_module_version": "1.0.0",
      "model_name": "DropdownModel",
      "state": {
       "_options_labels": [
        "ori.order",
        "group",
        "new.order",
        "categorical",
        "_calour_original_abundance"
       ],
       "index": 0,
       "layout": "IPY_MODEL_ef2fb6bdf77242dca72164d2ab57a968",
       "style": "IPY_MODEL_4b5072a20aa94e65bd92770a67611ca5"
      }
     },
     "acc504f859be4cf099bea5c25253750b": {
      "model_module": "@jupyter-widgets/controls",
      "model_module_version": "1.0.0",
      "model_name": "DescriptionStyleModel",
      "state": {
       "description_width": ""
      }
     },
     "acd000fbeb2e4b6c9e5e67b954e23bd8": {
      "model_module": "@jupyter-widgets/controls",
      "model_module_version": "1.0.0",
      "model_name": "DescriptionStyleModel",
      "state": {
       "description_width": ""
      }
     },
     "ad45a826b3a74161bb44a5749d644fa8": {
      "model_module": "@jupyter-widgets/base",
      "model_module_version": "1.0.0",
      "model_name": "LayoutModel",
      "state": {}
     },
     "ad686106732e4eccb4a7fdc48cbbe17a": {
      "model_module": "@jupyter-widgets/controls",
      "model_module_version": "1.0.0",
      "model_name": "DescriptionStyleModel",
      "state": {
       "description_width": ""
      }
     },
     "ad8779c79b054fe19ab0454d8ee5a89e": {
      "model_module": "@jupyter-widgets/base",
      "model_module_version": "1.0.0",
      "model_name": "LayoutModel",
      "state": {
       "height": "100px",
       "overflow_y": "auto"
      }
     },
     "ad97ea7fc7b24c0a80691226e12610ae": {
      "model_module": "@jupyter-widgets/base",
      "model_module_version": "1.0.0",
      "model_name": "LayoutModel",
      "state": {
       "height": "100px",
       "overflow_y": "auto"
      }
     },
     "ade922e74dca451c9513706e02715cef": {
      "model_module": "@jupyter-widgets/base",
      "model_module_version": "1.0.0",
      "model_name": "LayoutModel",
      "state": {
       "width": "80%"
      }
     },
     "aef9e9a7968a4e7dbd1cdc357d2c3a08": {
      "model_module": "@jupyter-widgets/controls",
      "model_module_version": "1.0.0",
      "model_name": "HBoxModel",
      "state": {
       "children": [
        "IPY_MODEL_631f4a2616524b21ad7ab65309aa7843",
        "IPY_MODEL_a09704fd86b54b469126d635682343ae",
        "IPY_MODEL_73e180d5a3764940b477890507ce376e"
       ],
       "layout": "IPY_MODEL_8e13c884d4644d7ebec461c4ec95c2e2"
      }
     },
     "af29d69b379547a5aafbfab7026cd73c": {
      "model_module": "@jupyter-widgets/controls",
      "model_module_version": "1.0.0",
      "model_name": "DescriptionStyleModel",
      "state": {
       "description_width": ""
      }
     },
     "af2e94daef064648bac8a9d6c8318db5": {
      "model_module": "@jupyter-widgets/base",
      "model_module_version": "1.0.0",
      "model_name": "LayoutModel",
      "state": {}
     },
     "af2f432925244da9a661f4cac35f99eb": {
      "model_module": "@jupyter-widgets/controls",
      "model_module_version": "1.0.0",
      "model_name": "ButtonModel",
      "state": {
       "description": "Save",
       "layout": "IPY_MODEL_0d1ac708b20d42ec89747468e9d2867c",
       "style": "IPY_MODEL_10663756ad8e44caaceb81c6a59f9b3f",
       "tooltip": "Save the selection(s)"
      }
     },
     "af64768fd9aa4166ace42e7d5d08e613": {
      "model_module": "@jupyter-widgets/controls",
      "model_module_version": "1.0.0",
      "model_name": "ButtonModel",
      "state": {
       "description": "Save",
       "layout": "IPY_MODEL_f24fa96118a844a0859a8b7f7ad5a60e",
       "style": "IPY_MODEL_f16ea498af894761acde79303d5fdba3",
       "tooltip": "Save the selection(s)"
      }
     },
     "af8fdc59253e49b9b9d99462cfdf1ac2": {
      "model_module": "@jupyter-widgets/controls",
      "model_module_version": "1.0.0",
      "model_name": "DescriptionStyleModel",
      "state": {
       "description_width": ""
      }
     },
     "afa3ee4bf4774e12916fba17cccb8198": {
      "model_module": "@jupyter-widgets/base",
      "model_module_version": "1.0.0",
      "model_name": "LayoutModel",
      "state": {
       "width": "20%"
      }
     },
     "b0110399b90b41f8b940b9d3c8f692f8": {
      "model_module": "@jupyter-widgets/controls",
      "model_module_version": "1.0.0",
      "model_name": "DescriptionStyleModel",
      "state": {
       "description_width": ""
      }
     },
     "b03f2152149e4ef7a4fdf0ae880db8ac": {
      "model_module": "@jupyter-widgets/controls",
      "model_module_version": "1.0.0",
      "model_name": "TextModel",
      "state": {
       "description": "Sample ID",
       "layout": "IPY_MODEL_f941e7f103b34e8a97ae60e01fe0cf36",
       "placeholder": "Sample ID",
       "style": "IPY_MODEL_553c234d77df43fead1a948455e8c20d",
       "value": "S6"
      }
     },
     "b042f579debc413282d91e47a7518627": {
      "model_module": "@jupyter-widgets/controls",
      "model_module_version": "1.0.0",
      "model_name": "HBoxModel",
      "state": {
       "children": [
        "IPY_MODEL_864b62d99b484d6b8195378686862840",
        "IPY_MODEL_a87c80be889f46c6944dad1a8600d926"
       ],
       "layout": "IPY_MODEL_d2d5b4728df142e89336ceb31db7951c"
      }
     },
     "b0e307aac6814695ba82888ebb610e47": {
      "model_module": "@jupyter-widgets/base",
      "model_module_version": "1.0.0",
      "model_name": "LayoutModel",
      "state": {
       "width": "20%"
      }
     },
     "b0f5a06a4ab44a1d948613014cadb06e": {
      "model_module": "@jupyter-widgets/controls",
      "model_module_version": "1.0.0",
      "model_name": "HBoxModel",
      "state": {
       "children": [
        "IPY_MODEL_270b6d3846df4858be126fb7414162e0",
        "IPY_MODEL_92ecc96096da498bb9a57909e80edf53"
       ],
       "layout": "IPY_MODEL_7a2095c306f64afc96a142734d9c5800"
      }
     },
     "b1865a55f3cc4806936ca9846d26dfdc": {
      "model_module": "@jupyter-widgets/controls",
      "model_module_version": "1.0.0",
      "model_name": "ButtonStyleModel",
      "state": {}
     },
     "b18c660ed276410285cf6d39ec4f64e9": {
      "model_module": "@jupyter-widgets/controls",
      "model_module_version": "1.0.0",
      "model_name": "HBoxModel",
      "state": {
       "children": [
        "IPY_MODEL_05bbad225e6e4edca15e9f8899271290",
        "IPY_MODEL_7b02f671f963406ea6b3c07d1b9e9c68"
       ],
       "layout": "IPY_MODEL_f069355a505548daab227402416d8735"
      }
     },
     "b1b45e1f60cf469d85fe72521ef86580": {
      "model_module": "@jupyter-widgets/base",
      "model_module_version": "1.0.0",
      "model_name": "LayoutModel",
      "state": {}
     },
     "b2260c5f7499484593b93b93b818fd94": {
      "model_module": "@jupyter-widgets/controls",
      "model_module_version": "1.0.0",
      "model_name": "HTMLModel",
      "state": {
       "layout": "IPY_MODEL_ad97ea7fc7b24c0a80691226e12610ae",
       "style": "IPY_MODEL_3e9d3806dcc145989927b1e74fb92344",
       "value": "no annotation found"
      }
     },
     "b27e428d37ac4a12aaa2f313b7dadea3": {
      "model_module": "@jupyter-widgets/base",
      "model_module_version": "1.0.0",
      "model_name": "LayoutModel",
      "state": {}
     },
     "b2dbcb5139814badb829f3b8bbc8ba35": {
      "model_module": "@jupyter-widgets/controls",
      "model_module_version": "1.0.0",
      "model_name": "ButtonModel",
      "state": {
       "description": "Save",
       "layout": "IPY_MODEL_570501f228ae4e62a67061949e28c699",
       "style": "IPY_MODEL_637553ca7a0d43fda705706126e7eced",
       "tooltip": "Save the selection(s)"
      }
     },
     "b30c1d2cf00d440ba7c63966907b7e4f": {
      "model_module": "@jupyter-widgets/base",
      "model_module_version": "1.0.0",
      "model_name": "LayoutModel",
      "state": {}
     },
     "b3414ba788f84cdbb2eabbbdf4e6c98f": {
      "model_module": "@jupyter-widgets/base",
      "model_module_version": "1.0.0",
      "model_name": "LayoutModel",
      "state": {}
     },
     "b3a2a0cf9dac424ca11c4d102069836e": {
      "model_module": "@jupyter-widgets/controls",
      "model_module_version": "1.0.0",
      "model_name": "TextModel",
      "state": {
       "description": "Feature ID",
       "layout": "IPY_MODEL_b9e20f433739466d836038e789e66f1a",
       "placeholder": "Feature ID",
       "style": "IPY_MODEL_53517737dea14c08b4225ce03480407e",
       "value": "-"
      }
     },
     "b3bff8aac6484568ba2be1ecb46d5a48": {
      "model_module": "@jupyter-widgets/controls",
      "model_module_version": "1.0.0",
      "model_name": "DescriptionStyleModel",
      "state": {
       "description_width": ""
      }
     },
     "b3cce65fc8fc466e9654e81180d50789": {
      "model_module": "@jupyter-widgets/base",
      "model_module_version": "1.0.0",
      "model_name": "LayoutModel",
      "state": {}
     },
     "b431de663d9b41c184178269bbed151c": {
      "model_module": "@jupyter-widgets/controls",
      "model_module_version": "1.0.0",
      "model_name": "DropdownModel",
      "state": {
       "_options_labels": [
        "oxygen",
        "ph",
        "level1",
        "level2",
        "new.order",
        "ori.order",
        "taxonomy"
       ],
       "index": 0,
       "layout": "IPY_MODEL_e09a841863a44594a523b094f4726665",
       "style": "IPY_MODEL_c7ea1fe2a9c945d186221c9e9dce4023"
      }
     },
     "b4650b6a8831470fb8f3256cfc10e622": {
      "model_module": "@jupyter-widgets/base",
      "model_module_version": "1.0.0",
      "model_name": "LayoutModel",
      "state": {}
     },
     "b4e9d87503fb4709bcc2ada49585adcd": {
      "model_module": "@jupyter-widgets/controls",
      "model_module_version": "1.0.0",
      "model_name": "DescriptionStyleModel",
      "state": {
       "description_width": ""
      }
     },
     "b5bd938134374736a4c7917822853dc7": {
      "model_module": "@jupyter-widgets/base",
      "model_module_version": "1.0.0",
      "model_name": "LayoutModel",
      "state": {}
     },
     "b5c923d077f24692a410488fd604bba6": {
      "model_module": "@jupyter-widgets/controls",
      "model_module_version": "1.0.0",
      "model_name": "HBoxModel",
      "state": {
       "children": [
        "IPY_MODEL_3d476dd4fe5a4d309ebc33a3228e1984",
        "IPY_MODEL_fce124c81ac54d4db619d6dd76e78e6a"
       ],
       "layout": "IPY_MODEL_c465fd0a57b342189630177ae8e7696b"
      }
     },
     "b5ce8d98735147458c9b1bad49e8fc00": {
      "model_module": "@jupyter-widgets/base",
      "model_module_version": "1.0.0",
      "model_name": "LayoutModel",
      "state": {}
     },
     "b5e94d76b1364bbcb8eb0a8c99044feb": {
      "model_module": "@jupyter-widgets/base",
      "model_module_version": "1.0.0",
      "model_name": "LayoutModel",
      "state": {
       "height": "100px",
       "overflow_y": "auto"
      }
     },
     "b62f67d02adc4feaa6abedd89793afbe": {
      "model_module": "@jupyter-widgets/controls",
      "model_module_version": "1.0.0",
      "model_name": "DescriptionStyleModel",
      "state": {
       "description_width": ""
      }
     },
     "b666ea6599e04f1cad488957a078c599": {
      "model_module": "@jupyter-widgets/controls",
      "model_module_version": "1.0.0",
      "model_name": "DescriptionStyleModel",
      "state": {
       "description_width": ""
      }
     },
     "b66cbc1194f04311a4018a0c8caa09c3": {
      "model_module": "@jupyter-widgets/base",
      "model_module_version": "1.0.0",
      "model_name": "LayoutModel",
      "state": {
       "width": "80%"
      }
     },
     "b6847696b5334bb9813a3d03d95473a3": {
      "model_module": "@jupyter-widgets/controls",
      "model_module_version": "1.0.0",
      "model_name": "ButtonModel",
      "state": {
       "description": "print axes ranges",
       "layout": "IPY_MODEL_66bdf50f44214eb294618fb6ff944980",
       "style": "IPY_MODEL_7311948263a042008615437990448798",
       "tooltip": "Print the x axis and y axis ranges. Useful to pass to `rect` parameter of heatmap() to zoom in the region automatically."
      }
     },
     "b6a36d6e67684d5987e4c9bc85fa735b": {
      "model_module": "@jupyter-widgets/base",
      "model_module_version": "1.0.0",
      "model_name": "LayoutModel",
      "state": {}
     },
     "b6d12b824375495ab474bda317ce2bbe": {
      "model_module": "@jupyter-widgets/controls",
      "model_module_version": "1.0.0",
      "model_name": "DescriptionStyleModel",
      "state": {
       "description_width": ""
      }
     },
     "b72e766891d8489782dea99baec9b8d4": {
      "model_module": "@jupyter-widgets/base",
      "model_module_version": "1.0.0",
      "model_name": "LayoutModel",
      "state": {
       "width": "80%"
      }
     },
     "b799b9fcd34d4becb0edb96deea3048a": {
      "model_module": "@jupyter-widgets/controls",
      "model_module_version": "1.0.0",
      "model_name": "ButtonStyleModel",
      "state": {}
     },
     "b7bc3927d61a4ecbb9ffd144c816220b": {
      "model_module": "@jupyter-widgets/base",
      "model_module_version": "1.0.0",
      "model_name": "LayoutModel",
      "state": {}
     },
     "b7bfb8cc6fd5430a82aad0cf066be6d0": {
      "model_module": "@jupyter-widgets/base",
      "model_module_version": "1.0.0",
      "model_name": "LayoutModel",
      "state": {}
     },
     "b7dab112f0ae4cf1919e49f4a35f8fbd": {
      "model_module": "@jupyter-widgets/base",
      "model_module_version": "1.0.0",
      "model_name": "LayoutModel",
      "state": {
       "width": "80%"
      }
     },
     "b823c3e52c424a33ac95ee01ac525d6d": {
      "model_module": "@jupyter-widgets/base",
      "model_module_version": "1.0.0",
      "model_name": "LayoutModel",
      "state": {
       "width": "20%"
      }
     },
     "b8a335a2fd044ae29795138322201e00": {
      "model_module": "@jupyter-widgets/controls",
      "model_module_version": "1.0.0",
      "model_name": "ButtonStyleModel",
      "state": {}
     },
     "b957e7ac728047f48100ffb857fc966b": {
      "model_module": "@jupyter-widgets/controls",
      "model_module_version": "1.0.0",
      "model_name": "DescriptionStyleModel",
      "state": {
       "description_width": ""
      }
     },
     "b97b03781d7a40b1a523420afd38c73f": {
      "model_module": "@jupyter-widgets/controls",
      "model_module_version": "1.0.0",
      "model_name": "DescriptionStyleModel",
      "state": {
       "description_width": ""
      }
     },
     "b990b3945b8d461f8e5fda15de2878cd": {
      "model_module": "@jupyter-widgets/base",
      "model_module_version": "1.0.0",
      "model_name": "LayoutModel",
      "state": {}
     },
     "b99e9da4029b419090801961b9cf61bd": {
      "model_module": "@jupyter-widgets/base",
      "model_module_version": "1.0.0",
      "model_name": "LayoutModel",
      "state": {
       "width": "20%"
      }
     },
     "b9bdee414b69412d84a2571780f1f7b0": {
      "model_module": "@jupyter-widgets/base",
      "model_module_version": "1.0.0",
      "model_name": "LayoutModel",
      "state": {
       "height": "100px",
       "overflow_y": "auto"
      }
     },
     "b9bf199686854385a278888607e8d84c": {
      "model_module": "@jupyter-widgets/controls",
      "model_module_version": "1.0.0",
      "model_name": "TextModel",
      "state": {
       "description": "Sample ID",
       "layout": "IPY_MODEL_eb5873d689c945bebbb75ea92831f359",
       "placeholder": "Sample ID",
       "style": "IPY_MODEL_3ba474507f8e46aa97e33120097f76f3",
       "value": "-"
      }
     },
     "b9db7a9b6b174315888eb94d75f4705d": {
      "model_module": "@jupyter-widgets/controls",
      "model_module_version": "1.0.0",
      "model_name": "DescriptionStyleModel",
      "state": {
       "description_width": ""
      }
     },
     "b9e20f433739466d836038e789e66f1a": {
      "model_module": "@jupyter-widgets/base",
      "model_module_version": "1.0.0",
      "model_name": "LayoutModel",
      "state": {
       "width": "100%"
      }
     },
     "ba09687fc2ef4ed8b5ada170c5f6883c": {
      "model_module": "@jupyter-widgets/controls",
      "model_module_version": "1.0.0",
      "model_name": "DescriptionStyleModel",
      "state": {
       "description_width": ""
      }
     },
     "ba40b1fcc938431b8c0f6cb2c92e13de": {
      "model_module": "@jupyter-widgets/base",
      "model_module_version": "1.0.0",
      "model_name": "LayoutModel",
      "state": {}
     },
     "ba70037ec3424306af4f90ed7f5a5287": {
      "model_module": "@jupyter-widgets/base",
      "model_module_version": "1.0.0",
      "model_name": "LayoutModel",
      "state": {
       "width": "80%"
      }
     },
     "bab1e351a9614a358357ae04c1a14aa6": {
      "model_module": "@jupyter-widgets/controls",
      "model_module_version": "1.0.0",
      "model_name": "TextModel",
      "state": {
       "layout": "IPY_MODEL_deddb7ce2a1e447989532d08d62045e7",
       "placeholder": "feature meta",
       "style": "IPY_MODEL_994b82b2cc834d9da39e026f937dafec",
       "value": "-"
      }
     },
     "bb0f8870b40f4c4292b537d42c36d91d": {
      "model_module": "@jupyter-widgets/base",
      "model_module_version": "1.0.0",
      "model_name": "LayoutModel",
      "state": {}
     },
     "bb16e1a9dfa448bc977134c8bc7189d8": {
      "model_module": "@jupyter-widgets/controls",
      "model_module_version": "1.0.0",
      "model_name": "HBoxModel",
      "state": {
       "children": [
        "IPY_MODEL_544c7f8ca21b4cc7afa7ac6de0d29d17",
        "IPY_MODEL_67ce2baa6faf4ef993a429ec34743e4b",
        "IPY_MODEL_c6af5102d7b843fdacdad20e92ae5a56"
       ],
       "layout": "IPY_MODEL_3bb822e442e044afaae17f995f5c8a5e"
      }
     },
     "bb93b78c90404c429600d1d0f4fff5a5": {
      "model_module": "@jupyter-widgets/controls",
      "model_module_version": "1.0.0",
      "model_name": "TextModel",
      "state": {
       "description": "Sample ID",
       "layout": "IPY_MODEL_59f81bb9b71047c3af653b2bb344abc4",
       "placeholder": "Sample ID",
       "style": "IPY_MODEL_f72da23ee08a453fa9592a17b4b303d7",
       "value": "-"
      }
     },
     "bbb078d65f794a72b7e5112b4df5c9b1": {
      "model_module": "@jupyter-widgets/controls",
      "model_module_version": "1.0.0",
      "model_name": "DescriptionStyleModel",
      "state": {
       "description_width": ""
      }
     },
     "bbc1e315c00e49789b1c398221ebe175": {
      "model_module": "@jupyter-widgets/controls",
      "model_module_version": "1.0.0",
      "model_name": "DescriptionStyleModel",
      "state": {
       "description_width": ""
      }
     },
     "bbcf9893fa8b44ecafcfb2fa23d3ed78": {
      "model_module": "@jupyter-widgets/controls",
      "model_module_version": "1.0.0",
      "model_name": "ButtonStyleModel",
      "state": {}
     },
     "bc108b4dfb794068ac7682d11f07517d": {
      "model_module": "@jupyter-widgets/controls",
      "model_module_version": "1.0.0",
      "model_name": "ButtonStyleModel",
      "state": {}
     },
     "bc1a4c60a761466dbecce0203ce6ea82": {
      "model_module": "@jupyter-widgets/controls",
      "model_module_version": "1.0.0",
      "model_name": "DescriptionStyleModel",
      "state": {
       "description_width": ""
      }
     },
     "bc309ced75cb41b3809636e1ebdb6c08": {
      "model_module": "@jupyter-widgets/base",
      "model_module_version": "1.0.0",
      "model_name": "LayoutModel",
      "state": {}
     },
     "bcb1a3d1bc194669a7016a10d8c99974": {
      "model_module": "@jupyter-widgets/controls",
      "model_module_version": "1.0.0",
      "model_name": "DescriptionStyleModel",
      "state": {
       "description_width": ""
      }
     },
     "bce1f898cb464f538ae1f5f348174688": {
      "model_module": "@jupyter-widgets/controls",
      "model_module_version": "1.0.0",
      "model_name": "ButtonModel",
      "state": {
       "description": "print axes ranges",
       "layout": "IPY_MODEL_c408069e398c46e79f79c358afc2fa0e",
       "style": "IPY_MODEL_e08d987495fb413bbf7aaef3649e627c",
       "tooltip": "Print the x axis and y axis ranges. Useful to pass to `rect` parameter of heatmap() to zoom in the region automatically."
      }
     },
     "bd071abae5a94ceda7e8e67632b456b4": {
      "model_module": "@jupyter-widgets/controls",
      "model_module_version": "1.0.0",
      "model_name": "DescriptionStyleModel",
      "state": {
       "description_width": ""
      }
     },
     "bd10010d59764e0abcfc3fe07df46ee9": {
      "model_module": "@jupyter-widgets/controls",
      "model_module_version": "1.0.0",
      "model_name": "TextModel",
      "state": {
       "layout": "IPY_MODEL_ba70037ec3424306af4f90ed7f5a5287",
       "placeholder": "sample meta",
       "style": "IPY_MODEL_3499ffa30e94402ba4c68f98a5f63755",
       "value": "2"
      }
     },
     "be2f8aa9d2a24b48b08e544fe904a929": {
      "model_module": "@jupyter-widgets/controls",
      "model_module_version": "1.0.0",
      "model_name": "DropdownModel",
      "state": {
       "_options_labels": [
        "ori.order",
        "group",
        "new.order",
        "categorical",
        "_calour_original_abundance"
       ],
       "index": 0,
       "layout": "IPY_MODEL_e684e8dd927b49619c5aa7438782afcd",
       "style": "IPY_MODEL_14c54f9ce4aa4ad7b3dc0efcd5256a9a"
      }
     },
     "bf3c8254d1b044f4b60a69e8e211ad34": {
      "model_module": "@jupyter-widgets/controls",
      "model_module_version": "1.0.0",
      "model_name": "DescriptionStyleModel",
      "state": {
       "description_width": ""
      }
     },
     "bf3e56626f2f48e2b9eba29a2dbe8019": {
      "model_module": "@jupyter-widgets/base",
      "model_module_version": "1.0.0",
      "model_name": "LayoutModel",
      "state": {
       "width": "80%"
      }
     },
     "bf830b8f53b04c579b435a2f86c42dfa": {
      "model_module": "@jupyter-widgets/base",
      "model_module_version": "1.0.0",
      "model_name": "LayoutModel",
      "state": {}
     },
     "bfa70a755ef7476790c54af339eb8deb": {
      "model_module": "@jupyter-widgets/controls",
      "model_module_version": "1.0.0",
      "model_name": "DescriptionStyleModel",
      "state": {
       "description_width": ""
      }
     },
     "c014d91977b94ce19671f87a8bfbb187": {
      "model_module": "@jupyter-widgets/controls",
      "model_module_version": "1.0.0",
      "model_name": "TextModel",
      "state": {
       "description": "Feature ID",
       "layout": "IPY_MODEL_f00d265f4407431c9b6f1160207fdc81",
       "placeholder": "Feature ID",
       "style": "IPY_MODEL_dec73cdacb304c478169e640a5e20f33",
       "value": "TG"
      }
     },
     "c027c1ab8d09406b89c8f3b371d881f1": {
      "model_module": "@jupyter-widgets/controls",
      "model_module_version": "1.0.0",
      "model_name": "ButtonStyleModel",
      "state": {}
     },
     "c02bfef4ac31493284ce71f7c13630d9": {
      "model_module": "@jupyter-widgets/controls",
      "model_module_version": "1.0.0",
      "model_name": "HBoxModel",
      "state": {
       "children": [
        "IPY_MODEL_28402a2388724c3fae2a366a99faa3cd",
        "IPY_MODEL_76eafdc28f5c4e01983bae61f167056e",
        "IPY_MODEL_f29bf907224b43ea8b712baad99656e7"
       ],
       "layout": "IPY_MODEL_01153d9064cb4df28e3ea8f98c662245"
      }
     },
     "c10309f8310f4f6b8aba5ee20d8734be": {
      "model_module": "@jupyter-widgets/base",
      "model_module_version": "1.0.0",
      "model_name": "LayoutModel",
      "state": {
       "width": "100%"
      }
     },
     "c1364fc7758b4ef59a92690a8ea53e71": {
      "model_module": "@jupyter-widgets/base",
      "model_module_version": "1.0.0",
      "model_name": "LayoutModel",
      "state": {
       "width": "20%"
      }
     },
     "c157b2a65ae247509363ed46c0fb6539": {
      "model_module": "@jupyter-widgets/controls",
      "model_module_version": "1.0.0",
      "model_name": "TextModel",
      "state": {
       "description": "Feature ID",
       "layout": "IPY_MODEL_44994213f04e4c3ba75264ca4cf6a7cd",
       "placeholder": "Feature ID",
       "style": "IPY_MODEL_035b151e0a704fefa1b6d7fa748feb94",
       "value": "-"
      }
     },
     "c18afdec8a8e45f2982224e1bedefddf": {
      "model_module": "@jupyter-widgets/controls",
      "model_module_version": "1.0.0",
      "model_name": "DescriptionStyleModel",
      "state": {
       "description_width": ""
      }
     },
     "c1e6ed53474d42cf89091266d7f31d68": {
      "model_module": "@jupyter-widgets/base",
      "model_module_version": "1.0.0",
      "model_name": "LayoutModel",
      "state": {
       "width": "20%"
      }
     },
     "c1f15a885d774711a675c6aa3226751c": {
      "model_module": "@jupyter-widgets/controls",
      "model_module_version": "1.0.0",
      "model_name": "DescriptionStyleModel",
      "state": {
       "description_width": ""
      }
     },
     "c21ab4b33f0040248f986d8b4fedc460": {
      "model_module": "@jupyter-widgets/base",
      "model_module_version": "1.0.0",
      "model_name": "LayoutModel",
      "state": {
       "width": "80%"
      }
     },
     "c2454d63815f498bb1e29d4fb7891ca2": {
      "model_module": "@jupyter-widgets/base",
      "model_module_version": "1.0.0",
      "model_name": "LayoutModel",
      "state": {}
     },
     "c2b1db5f22e14ce59f9805edc8f2db33": {
      "model_module": "@jupyter-widgets/controls",
      "model_module_version": "1.0.0",
      "model_name": "HBoxModel",
      "state": {
       "children": [
        "IPY_MODEL_3effb17aa2a4473fbe49ea9685595680",
        "IPY_MODEL_d6416e07b0d7465692f61a210655ac37",
        "IPY_MODEL_73a55c1e92444702a764b270a9fcea1c"
       ],
       "layout": "IPY_MODEL_e3e571cce4de4f12a18096b0298e9ae7"
      }
     },
     "c37ce0442b534130afb115992d268ec0": {
      "model_module": "@jupyter-widgets/base",
      "model_module_version": "1.0.0",
      "model_name": "LayoutModel",
      "state": {}
     },
     "c3adfefeddca4773acdab8698aa6a6ac": {
      "model_module": "@jupyter-widgets/base",
      "model_module_version": "1.0.0",
      "model_name": "LayoutModel",
      "state": {}
     },
     "c3cc053d613446ee9afc199a73662d26": {
      "model_module": "@jupyter-widgets/base",
      "model_module_version": "1.0.0",
      "model_name": "LayoutModel",
      "state": {}
     },
     "c3d8d47f143a475cb38cdea8b41c19bc": {
      "model_module": "@jupyter-widgets/controls",
      "model_module_version": "1.0.0",
      "model_name": "DescriptionStyleModel",
      "state": {
       "description_width": ""
      }
     },
     "c3dca8624be44fa980083b76739f44f4": {
      "model_module": "@jupyter-widgets/base",
      "model_module_version": "1.0.0",
      "model_name": "LayoutModel",
      "state": {}
     },
     "c3f9096ce69e43749fbff18320a94a2c": {
      "model_module": "@jupyter-widgets/controls",
      "model_module_version": "1.0.0",
      "model_name": "DescriptionStyleModel",
      "state": {
       "description_width": ""
      }
     },
     "c408069e398c46e79f79c358afc2fa0e": {
      "model_module": "@jupyter-widgets/base",
      "model_module_version": "1.0.0",
      "model_name": "LayoutModel",
      "state": {}
     },
     "c465fd0a57b342189630177ae8e7696b": {
      "model_module": "@jupyter-widgets/base",
      "model_module_version": "1.0.0",
      "model_name": "LayoutModel",
      "state": {}
     },
     "c56e1c5f5bfe4100a19d8093a03bbca9": {
      "model_module": "@jupyter-widgets/controls",
      "model_module_version": "1.0.0",
      "model_name": "DescriptionStyleModel",
      "state": {
       "description_width": ""
      }
     },
     "c58749cff455446892e749eb3f0a661f": {
      "model_module": "@jupyter-widgets/controls",
      "model_module_version": "1.0.0",
      "model_name": "DropdownModel",
      "state": {
       "_options_labels": [
        "oxygen",
        "ph",
        "level1",
        "level2",
        "new.order",
        "ori.order",
        "taxonomy"
       ],
       "index": 0,
       "layout": "IPY_MODEL_8ec749af4c8c4e809b2e067ae8f64a5e",
       "style": "IPY_MODEL_8374453c2ad747b79afe66e55c3eea32"
      }
     },
     "c5b002ccbf0849c0a8cffdfe7674dd37": {
      "model_module": "@jupyter-widgets/controls",
      "model_module_version": "1.0.0",
      "model_name": "HBoxModel",
      "state": {
       "children": [
        "IPY_MODEL_3a272e5250e94bda8d8d50c0e56ed531",
        "IPY_MODEL_6f064e0bd51b4c33a3c560609634a9f8"
       ],
       "layout": "IPY_MODEL_6a94fb38b86145b089f8f533170451e3"
      }
     },
     "c5f6370e551f4097860a8ab70ec1a036": {
      "model_module": "@jupyter-widgets/base",
      "model_module_version": "1.0.0",
      "model_name": "LayoutModel",
      "state": {
       "width": "80%"
      }
     },
     "c6072b75aa8a4dcbbd88605eeff21360": {
      "model_module": "@jupyter-widgets/controls",
      "model_module_version": "1.0.0",
      "model_name": "TextModel",
      "state": {
       "layout": "IPY_MODEL_c21ab4b33f0040248f986d8b4fedc460",
       "placeholder": "feature meta",
       "style": "IPY_MODEL_c89852fe7c9b47bdb86bf9393455f709",
       "value": "anaerobic"
      }
     },
     "c615cf7e572a4983b6be6014e6be44a5": {
      "model_module": "@jupyter-widgets/controls",
      "model_module_version": "1.0.0",
      "model_name": "HBoxModel",
      "state": {
       "children": [
        "IPY_MODEL_1b93ba673e8a447ba9a94ca63684b4df",
        "IPY_MODEL_f5a856e3904c429aa8a230729cf00bf3"
       ],
       "layout": "IPY_MODEL_b990b3945b8d461f8e5fda15de2878cd"
      }
     },
     "c615fff1cada4a4aace63216a3b1268b": {
      "model_module": "@jupyter-widgets/controls",
      "model_module_version": "1.0.0",
      "model_name": "HBoxModel",
      "state": {
       "children": [
        "IPY_MODEL_01d4b71b2d8e4a37acfcbe7ee7d0fbbc",
        "IPY_MODEL_76e87c5ac05944d5bc71d33b144d21fe"
       ],
       "layout": "IPY_MODEL_aad6602769a74e419b6b9b499533d582"
      }
     },
     "c635c39acb6f4b90a5213287645b86c0": {
      "model_module": "@jupyter-widgets/base",
      "model_module_version": "1.0.0",
      "model_name": "LayoutModel",
      "state": {}
     },
     "c6af5102d7b843fdacdad20e92ae5a56": {
      "model_module": "@jupyter-widgets/controls",
      "model_module_version": "1.0.0",
      "model_name": "FloatTextModel",
      "state": {
       "description": "Abundance",
       "layout": "IPY_MODEL_49b9fba17ead47689325a581f61a2185",
       "step": null,
       "style": "IPY_MODEL_c7aa4ee6ea684a98a938eaf61fcc2d83"
      }
     },
     "c6baf46e7ef5412da2ba5d6d8d9a3176": {
      "model_module": "@jupyter-widgets/controls",
      "model_module_version": "1.0.0",
      "model_name": "DescriptionStyleModel",
      "state": {
       "description_width": ""
      }
     },
     "c6d76c64fcc242c2ab6eaf01b0f9523f": {
      "model_module": "@jupyter-widgets/controls",
      "model_module_version": "1.0.0",
      "model_name": "DropdownModel",
      "state": {
       "_options_labels": [
        "ori.order",
        "group",
        "new.order",
        "categorical",
        "_calour_original_abundance"
       ],
       "index": 0,
       "layout": "IPY_MODEL_a311150e5f0f4e648eb8602800718030",
       "style": "IPY_MODEL_de886f79a7e8421ebc9e9d663529c001"
      }
     },
     "c72e3a70fded4606abe6fb8e2750b710": {
      "model_module": "@jupyter-widgets/controls",
      "model_module_version": "1.0.0",
      "model_name": "DescriptionStyleModel",
      "state": {
       "description_width": ""
      }
     },
     "c731b56898dc4e27ab0253d2af3629dc": {
      "model_module": "@jupyter-widgets/controls",
      "model_module_version": "1.0.0",
      "model_name": "DescriptionStyleModel",
      "state": {
       "description_width": ""
      }
     },
     "c7525fd25fd940b2847868f80d19502d": {
      "model_module": "@jupyter-widgets/controls",
      "model_module_version": "1.0.0",
      "model_name": "DescriptionStyleModel",
      "state": {
       "description_width": ""
      }
     },
     "c77aefc22b624e44b3dedac6e100afcc": {
      "model_module": "@jupyter-widgets/base",
      "model_module_version": "1.0.0",
      "model_name": "LayoutModel",
      "state": {
       "width": "20%"
      }
     },
     "c7aa4ee6ea684a98a938eaf61fcc2d83": {
      "model_module": "@jupyter-widgets/controls",
      "model_module_version": "1.0.0",
      "model_name": "DescriptionStyleModel",
      "state": {
       "description_width": ""
      }
     },
     "c7ae798042f14c048ad1a605d3cdebe1": {
      "model_module": "@jupyter-widgets/controls",
      "model_module_version": "1.0.0",
      "model_name": "ButtonStyleModel",
      "state": {}
     },
     "c7c9939b9e854eee9264fc85e1bc276a": {
      "model_module": "@jupyter-widgets/controls",
      "model_module_version": "1.0.0",
      "model_name": "ButtonModel",
      "state": {
       "description": "Annotate",
       "layout": "IPY_MODEL_005dab0790f147f496ce3f1440a54c24",
       "style": "IPY_MODEL_a05ae91718b24496b01645ab6a7855f3"
      }
     },
     "c7ea1fe2a9c945d186221c9e9dce4023": {
      "model_module": "@jupyter-widgets/controls",
      "model_module_version": "1.0.0",
      "model_name": "DescriptionStyleModel",
      "state": {
       "description_width": ""
      }
     },
     "c81aaf95ebd94deb936e19ba5d3622f2": {
      "model_module": "@jupyter-widgets/controls",
      "model_module_version": "1.0.0",
      "model_name": "ButtonModel",
      "state": {
       "description": "Save",
       "layout": "IPY_MODEL_a2906b1c4804455d87289cc1a55c2646",
       "style": "IPY_MODEL_55d97b3c8abd4b95ade56822b9fcc20d",
       "tooltip": "Save the selection(s)"
      }
     },
     "c8441c1d7b254b46b02e16a3990b2bf8": {
      "model_module": "@jupyter-widgets/controls",
      "model_module_version": "1.0.0",
      "model_name": "TextModel",
      "state": {
       "description": "Feature ID",
       "layout": "IPY_MODEL_90938660446045f789e980da5024085c",
       "placeholder": "Feature ID",
       "style": "IPY_MODEL_931584c76d5348c3a7627adefa8f6b1c",
       "value": "-"
      }
     },
     "c86cc1aa3f34469ebd12b119d20146f7": {
      "model_module": "@jupyter-widgets/controls",
      "model_module_version": "1.0.0",
      "model_name": "DropdownModel",
      "state": {
       "_options_labels": [
        "ori.order",
        "group",
        "new.order",
        "categorical",
        "_calour_original_abundance"
       ],
       "index": 0,
       "layout": "IPY_MODEL_970d0c5960684f28a1079a2140812443",
       "style": "IPY_MODEL_a84f80290333459a9a557f6142ef17e1"
      }
     },
     "c890a289a81c461daad0bc9e84f38f8e": {
      "model_module": "@jupyter-widgets/controls",
      "model_module_version": "1.0.0",
      "model_name": "ButtonModel",
      "state": {
       "description": "Save",
       "layout": "IPY_MODEL_cd94a4ceb5824d0f9d864f03d90dd090",
       "style": "IPY_MODEL_bbcf9893fa8b44ecafcfb2fa23d3ed78",
       "tooltip": "Save the selection(s)"
      }
     },
     "c890b29770df44c78f990c5fe9592d67": {
      "model_module": "@jupyter-widgets/controls",
      "model_module_version": "1.0.0",
      "model_name": "DropdownModel",
      "state": {
       "_options_labels": [
        "oxygen",
        "ph",
        "level1",
        "level2",
        "new.order",
        "ori.order",
        "taxonomy"
       ],
       "index": 0,
       "layout": "IPY_MODEL_afa3ee4bf4774e12916fba17cccb8198",
       "style": "IPY_MODEL_69277c7e72204237ad8a465672f0f0e0"
      }
     },
     "c895664996f1421a86014d3cf4d3692d": {
      "model_module": "@jupyter-widgets/controls",
      "model_module_version": "1.0.0",
      "model_name": "DescriptionStyleModel",
      "state": {
       "description_width": ""
      }
     },
     "c89852fe7c9b47bdb86bf9393455f709": {
      "model_module": "@jupyter-widgets/controls",
      "model_module_version": "1.0.0",
      "model_name": "DescriptionStyleModel",
      "state": {
       "description_width": ""
      }
     },
     "c8bc8ee6e8b347a2899afc429d68cf90": {
      "model_module": "@jupyter-widgets/controls",
      "model_module_version": "1.0.0",
      "model_name": "DescriptionStyleModel",
      "state": {
       "description_width": ""
      }
     },
     "c8ead31e561e4cbc823dac3c7a1f5076": {
      "model_module": "@jupyter-widgets/base",
      "model_module_version": "1.0.0",
      "model_name": "LayoutModel",
      "state": {}
     },
     "c91c380a4bf44a68a414e5f0461d18fd": {
      "model_module": "@jupyter-widgets/base",
      "model_module_version": "1.0.0",
      "model_name": "LayoutModel",
      "state": {
       "width": "80%"
      }
     },
     "c92a4328c2b1497eae41115cfda206cb": {
      "model_module": "@jupyter-widgets/base",
      "model_module_version": "1.0.0",
      "model_name": "LayoutModel",
      "state": {
       "height": "100px",
       "overflow_y": "auto"
      }
     },
     "c9356130646942dda88a7fae4e8ebd90": {
      "model_module": "@jupyter-widgets/controls",
      "model_module_version": "1.0.0",
      "model_name": "DescriptionStyleModel",
      "state": {
       "description_width": ""
      }
     },
     "caed2d5df2d94e338136eea89546e865": {
      "model_module": "@jupyter-widgets/controls",
      "model_module_version": "1.0.0",
      "model_name": "FloatTextModel",
      "state": {
       "description": "Abundance",
       "layout": "IPY_MODEL_f941e7f103b34e8a97ae60e01fe0cf36",
       "step": null,
       "style": "IPY_MODEL_f1f890f5703041d18f79ff18a9fbab18",
       "value": 849
      }
     },
     "cafdedaee85e4f5f83b8d9bef6a862c3": {
      "model_module": "@jupyter-widgets/base",
      "model_module_version": "1.0.0",
      "model_name": "LayoutModel",
      "state": {}
     },
     "cb4e8d268e69439899fa387df70cd3d5": {
      "model_module": "@jupyter-widgets/controls",
      "model_module_version": "1.0.0",
      "model_name": "DescriptionStyleModel",
      "state": {
       "description_width": ""
      }
     },
     "cbf88707cd60458bb4ba01415d517065": {
      "model_module": "@jupyter-widgets/base",
      "model_module_version": "1.0.0",
      "model_name": "LayoutModel",
      "state": {
       "width": "80%"
      }
     },
     "ccbd4eb091ff48dc8b4b5fde7d511a2a": {
      "model_module": "@jupyter-widgets/controls",
      "model_module_version": "1.0.0",
      "model_name": "TextModel",
      "state": {
       "description": "Feature ID",
       "layout": "IPY_MODEL_0fe4437f03514de2a3929adfcab239a3",
       "placeholder": "Feature ID",
       "style": "IPY_MODEL_2ef739485b2b43fcb5cf79c53e6346dd",
       "value": "-"
      }
     },
     "cd1b247c31e448c4b962d6684da16ba1": {
      "model_module": "@jupyter-widgets/controls",
      "model_module_version": "1.0.0",
      "model_name": "HBoxModel",
      "state": {
       "children": [
        "IPY_MODEL_54b21fb5ca70416a923184fab19163f8",
        "IPY_MODEL_c890a289a81c461daad0bc9e84f38f8e",
        "IPY_MODEL_c7c9939b9e854eee9264fc85e1bc276a"
       ],
       "layout": "IPY_MODEL_831b60f52be34ce8ac2b231fd734c5ad"
      }
     },
     "cd591a975e034460be5bc9cd73df96d2": {
      "model_module": "@jupyter-widgets/base",
      "model_module_version": "1.0.0",
      "model_name": "LayoutModel",
      "state": {}
     },
     "cd5fad4fcf6b4df2957a9e064c607938": {
      "model_module": "@jupyter-widgets/controls",
      "model_module_version": "1.0.0",
      "model_name": "ButtonStyleModel",
      "state": {}
     },
     "cd94a4ceb5824d0f9d864f03d90dd090": {
      "model_module": "@jupyter-widgets/base",
      "model_module_version": "1.0.0",
      "model_name": "LayoutModel",
      "state": {}
     },
     "ce046812970f4a9aa67508191c6b863f": {
      "model_module": "@jupyter-widgets/controls",
      "model_module_version": "1.0.0",
      "model_name": "ButtonStyleModel",
      "state": {}
     },
     "ce9f0f88d2c64697aa1aa8d5e49e6627": {
      "model_module": "@jupyter-widgets/controls",
      "model_module_version": "1.0.0",
      "model_name": "HTMLModel",
      "state": {
       "layout": "IPY_MODEL_e28c5cc30d5c4923bf62c164dd23084c",
       "style": "IPY_MODEL_611a1e8802c349f3b59b0253d39bcf7d",
       "value": "<style> a:link {color:black; background-color:transparent; text-decoration:none}a:visited {color:black; background-color:transparent; text-decoration:none}</style><p style=\"color:black;white-space:nowrap;\"><a href=\"http://dbbact.org/annotation_info/NA\"   target=\"_blank\">No annotation found in database dbBact</a></p>"
      }
     },
     "ceed02f0cb2d4fd981e1710d1c19a415": {
      "model_module": "@jupyter-widgets/base",
      "model_module_version": "1.0.0",
      "model_name": "LayoutModel",
      "state": {}
     },
     "cefb9977328047de986c3d7416c1a229": {
      "model_module": "@jupyter-widgets/controls",
      "model_module_version": "1.0.0",
      "model_name": "TextModel",
      "state": {
       "description": "Sample ID",
       "layout": "IPY_MODEL_b9e20f433739466d836038e789e66f1a",
       "placeholder": "Sample ID",
       "style": "IPY_MODEL_d6bb2dfaf1224d2fb7c310ac1ec3913d",
       "value": "-"
      }
     },
     "cf6228db2ae140679ec14ac74a5d0247": {
      "model_module": "@jupyter-widgets/controls",
      "model_module_version": "1.0.0",
      "model_name": "ButtonStyleModel",
      "state": {}
     },
     "cffcaf88bd3b432bac472831ed6b33d3": {
      "model_module": "@jupyter-widgets/base",
      "model_module_version": "1.0.0",
      "model_name": "LayoutModel",
      "state": {
       "width": "80%"
      }
     },
     "d06c95e2393345f8932af7b40616a3e6": {
      "model_module": "@jupyter-widgets/controls",
      "model_module_version": "1.0.0",
      "model_name": "HTMLModel",
      "state": {
       "layout": "IPY_MODEL_463ccf9e5f9e48569343575f205adec3",
       "style": "IPY_MODEL_932cc02db0f04f68aa6f3035a74859e5",
       "value": "no annotation found"
      }
     },
     "d0995ed1839d48dc85eda76152354b9d": {
      "model_module": "@jupyter-widgets/controls",
      "model_module_version": "1.0.0",
      "model_name": "ButtonStyleModel",
      "state": {}
     },
     "d143f8f3eb7f4f1487dc336bc041b1a1": {
      "model_module": "@jupyter-widgets/controls",
      "model_module_version": "1.0.0",
      "model_name": "HBoxModel",
      "state": {
       "children": [
        "IPY_MODEL_a3acabb2369f49b5aa77b77acd4192f4",
        "IPY_MODEL_5c99b41ed6524fbab6a995822dfd431e",
        "IPY_MODEL_e261c0f9a68142a788a4382aafaf37fb"
       ],
       "layout": "IPY_MODEL_e35032dd26d44e02bbc34990f91259c2"
      }
     },
     "d244556ba0d24517aad4dcfc5d45ab65": {
      "model_module": "@jupyter-widgets/base",
      "model_module_version": "1.0.0",
      "model_name": "LayoutModel",
      "state": {
       "width": "20%"
      }
     },
     "d2b2a7ab3d9e4bb1b8f9258ecfbdd050": {
      "model_module": "@jupyter-widgets/controls",
      "model_module_version": "1.0.0",
      "model_name": "ButtonModel",
      "state": {
       "description": "Annotate",
       "layout": "IPY_MODEL_9cec1e91b91e418dbf8596e2c7e9c839",
       "style": "IPY_MODEL_0e032ba7dca64c848bf64209f9e32b63"
      }
     },
     "d2d5b4728df142e89336ceb31db7951c": {
      "model_module": "@jupyter-widgets/base",
      "model_module_version": "1.0.0",
      "model_name": "LayoutModel",
      "state": {}
     },
     "d313571b489e47faaaab501e167abe62": {
      "model_module": "@jupyter-widgets/controls",
      "model_module_version": "1.0.0",
      "model_name": "DescriptionStyleModel",
      "state": {
       "description_width": ""
      }
     },
     "d399ca2f1bf7431b8d5102550d3dae3d": {
      "model_module": "@jupyter-widgets/base",
      "model_module_version": "1.0.0",
      "model_name": "LayoutModel",
      "state": {}
     },
     "d39b3bda87b444f9bec70cb9e717ee58": {
      "model_module": "@jupyter-widgets/controls",
      "model_module_version": "1.0.0",
      "model_name": "DescriptionStyleModel",
      "state": {
       "description_width": ""
      }
     },
     "d3d981a1c06f4eee976f65d1dae9e210": {
      "model_module": "@jupyter-widgets/controls",
      "model_module_version": "1.0.0",
      "model_name": "DescriptionStyleModel",
      "state": {
       "description_width": ""
      }
     },
     "d3e2cdb0e15141869579e7e86277678c": {
      "model_module": "@jupyter-widgets/controls",
      "model_module_version": "1.0.0",
      "model_name": "DropdownModel",
      "state": {
       "_options_labels": [
        "ori.order",
        "group",
        "new.order",
        "categorical",
        "_calour_original_abundance"
       ],
       "index": 0,
       "layout": "IPY_MODEL_29e808bc686b4452995d7e9049b7205f",
       "style": "IPY_MODEL_710e9a880e50423e8a2f662cfdbd655b"
      }
     },
     "d3e470dc3e9242f3926abe4394425f39": {
      "model_module": "@jupyter-widgets/controls",
      "model_module_version": "1.0.0",
      "model_name": "DescriptionStyleModel",
      "state": {
       "description_width": ""
      }
     },
     "d40b804cdd9541688c3ab4f9459bc634": {
      "model_module": "@jupyter-widgets/controls",
      "model_module_version": "1.0.0",
      "model_name": "HBoxModel",
      "state": {
       "children": [
        "IPY_MODEL_d3e2cdb0e15141869579e7e86277678c",
        "IPY_MODEL_a00aed31ff3140e98deefa3bd6a0e180"
       ],
       "layout": "IPY_MODEL_df6a0243f4824cdf8dc8a40264604c0d"
      }
     },
     "d5626d326b474ae08b1de9af336c6505": {
      "model_module": "@jupyter-widgets/controls",
      "model_module_version": "1.0.0",
      "model_name": "HBoxModel",
      "state": {
       "children": [
        "IPY_MODEL_0d5a26f315034d6cacf1dfedc5a5b09c",
        "IPY_MODEL_28b49254158a4cd68e7f78a0c69fccad"
       ],
       "layout": "IPY_MODEL_5cda5cc11fa2423e9063cd34c5ed4cd4"
      }
     },
     "d59215ebf4b145409800dd999aeb9210": {
      "model_module": "@jupyter-widgets/base",
      "model_module_version": "1.0.0",
      "model_name": "LayoutModel",
      "state": {
       "width": "100%"
      }
     },
     "d6416e07b0d7465692f61a210655ac37": {
      "model_module": "@jupyter-widgets/controls",
      "model_module_version": "1.0.0",
      "model_name": "TextModel",
      "state": {
       "description": "Feature ID",
       "layout": "IPY_MODEL_80c5bc5bac9f4b009ff6369d9b52c34d",
       "placeholder": "Feature ID",
       "style": "IPY_MODEL_1b96d65ac89749b09de255e7b81a7540",
       "value": "-"
      }
     },
     "d6bb2dfaf1224d2fb7c310ac1ec3913d": {
      "model_module": "@jupyter-widgets/controls",
      "model_module_version": "1.0.0",
      "model_name": "DescriptionStyleModel",
      "state": {
       "description_width": ""
      }
     },
     "d7064ad2257e4ce0a66f4d4e77d87f4c": {
      "model_module": "@jupyter-widgets/controls",
      "model_module_version": "1.0.0",
      "model_name": "ButtonModel",
      "state": {
       "description": "Annotate",
       "layout": "IPY_MODEL_e1a11ecac6344e98b920adcfc16c9f15",
       "style": "IPY_MODEL_7e8004da805b4f3bb7b11f0929d70423"
      }
     },
     "d7597257851f4b00bbbe9e092bfff7cd": {
      "model_module": "@jupyter-widgets/controls",
      "model_module_version": "1.0.0",
      "model_name": "DescriptionStyleModel",
      "state": {
       "description_width": ""
      }
     },
     "d7a75aa13bdd4fc59f69ad6a2fb88f4c": {
      "model_module": "@jupyter-widgets/base",
      "model_module_version": "1.0.0",
      "model_name": "LayoutModel",
      "state": {
       "width": "20%"
      }
     },
     "d7bfd2ec143b431fb851d4a3b244c499": {
      "model_module": "@jupyter-widgets/controls",
      "model_module_version": "1.0.0",
      "model_name": "LabelModel",
      "state": {
       "layout": "IPY_MODEL_0a933edb5afd437488d1a42c77fc4c62",
       "style": "IPY_MODEL_df0101fc479f41be965d883a51df5aac",
       "value": "0 features are selected"
      }
     },
     "d7d9f5e6a2514827a1c812b1c9f71030": {
      "model_module": "@jupyter-widgets/controls",
      "model_module_version": "1.0.0",
      "model_name": "FloatTextModel",
      "state": {
       "description": "Abundance",
       "layout": "IPY_MODEL_59f81bb9b71047c3af653b2bb344abc4",
       "step": null,
       "style": "IPY_MODEL_cb4e8d268e69439899fa387df70cd3d5"
      }
     },
     "d7fd20b06fce4f118c17aa3b98bce218": {
      "model_module": "@jupyter-widgets/controls",
      "model_module_version": "1.0.0",
      "model_name": "DescriptionStyleModel",
      "state": {
       "description_width": ""
      }
     },
     "d888a561bc434626b3ab86b6c53ddf75": {
      "model_module": "@jupyter-widgets/controls",
      "model_module_version": "1.0.0",
      "model_name": "LabelModel",
      "state": {
       "layout": "IPY_MODEL_f2bc07b742c4414297347865fb806c5b",
       "style": "IPY_MODEL_87cfb34bd339422a9b6cbe42f5d4c59f",
       "value": "1 features are selected"
      }
     },
     "d8c24935b2bc44d986fee186e60eadb8": {
      "model_module": "@jupyter-widgets/controls",
      "model_module_version": "1.0.0",
      "model_name": "FloatTextModel",
      "state": {
       "description": "Abundance",
       "layout": "IPY_MODEL_565b1c6b9e874be098cfd20b625f76fe",
       "step": null,
       "style": "IPY_MODEL_433210ce464844fcb3b51d74ec0d7eec"
      }
     },
     "d931cba4c3cd4b1e94f390b316e9ea4b": {
      "model_module": "@jupyter-widgets/controls",
      "model_module_version": "1.0.0",
      "model_name": "ButtonStyleModel",
      "state": {}
     },
     "d954400a3f614d1ba761ff49e7b98d21": {
      "model_module": "@jupyter-widgets/controls",
      "model_module_version": "1.0.0",
      "model_name": "DescriptionStyleModel",
      "state": {
       "description_width": ""
      }
     },
     "d95d674e1357464bbd808e447980a5cb": {
      "model_module": "@jupyter-widgets/base",
      "model_module_version": "1.0.0",
      "model_name": "LayoutModel",
      "state": {
       "width": "80%"
      }
     },
     "d9b238c7736e4d7e97de3fde029e5d36": {
      "model_module": "@jupyter-widgets/controls",
      "model_module_version": "1.0.0",
      "model_name": "DescriptionStyleModel",
      "state": {
       "description_width": ""
      }
     },
     "da38a07ae4be4915ba078b993bfda538": {
      "model_module": "@jupyter-widgets/controls",
      "model_module_version": "1.0.0",
      "model_name": "TextModel",
      "state": {
       "layout": "IPY_MODEL_fce95abc72f74ff698cfc1c1bbcd3d80",
       "placeholder": "feature meta",
       "style": "IPY_MODEL_ac1acc7776a74ca495e616d6cefbc36c",
       "value": "-"
      }
     },
     "da869a499d2645e4b2748cd1983f39f4": {
      "model_module": "@jupyter-widgets/controls",
      "model_module_version": "1.0.0",
      "model_name": "TextModel",
      "state": {
       "description": "Feature ID",
       "layout": "IPY_MODEL_773cb8dede5f4d728628430598683cc5",
       "placeholder": "Feature ID",
       "style": "IPY_MODEL_c7525fd25fd940b2847868f80d19502d",
       "value": "-"
      }
     },
     "da8d13a9f853462cb0af42514b19e892": {
      "model_module": "@jupyter-widgets/base",
      "model_module_version": "1.0.0",
      "model_name": "LayoutModel",
      "state": {}
     },
     "dabc18c0d25e4cee869b075bd6b23195": {
      "model_module": "@jupyter-widgets/base",
      "model_module_version": "1.0.0",
      "model_name": "LayoutModel",
      "state": {
       "width": "20%"
      }
     },
     "dacee143039a45d7a1e313fee5955c53": {
      "model_module": "@jupyter-widgets/controls",
      "model_module_version": "1.0.0",
      "model_name": "LabelModel",
      "state": {
       "layout": "IPY_MODEL_65ac9237364c47539f0048f1655628cc",
       "style": "IPY_MODEL_f2560641d0d84949aff86c64dddcc7c8",
       "value": "1 features are selected"
      }
     },
     "dae5122e005440f296cc33e428da986c": {
      "model_module": "@jupyter-widgets/controls",
      "model_module_version": "1.0.0",
      "model_name": "DropdownModel",
      "state": {
       "_options_labels": [
        "ori.order",
        "group",
        "new.order",
        "categorical",
        "_calour_original_abundance"
       ],
       "index": 0,
       "layout": "IPY_MODEL_71985afa968b47fd99d609d701371cf9",
       "style": "IPY_MODEL_3c7ffdcf60624398aa86e346c6a81ecc"
      }
     },
     "dafcf9781ae14313a9712f3f3ac763a3": {
      "model_module": "@jupyter-widgets/controls",
      "model_module_version": "1.0.0",
      "model_name": "DescriptionStyleModel",
      "state": {
       "description_width": ""
      }
     },
     "db14f6d579c146e0a292895ba3a6cdd2": {
      "model_module": "@jupyter-widgets/base",
      "model_module_version": "1.0.0",
      "model_name": "LayoutModel",
      "state": {}
     },
     "db45bc7126fb406a83877a122908247f": {
      "model_module": "@jupyter-widgets/controls",
      "model_module_version": "1.0.0",
      "model_name": "DescriptionStyleModel",
      "state": {
       "description_width": ""
      }
     },
     "db731c3e066c482494d00b39b4c4662a": {
      "model_module": "@jupyter-widgets/controls",
      "model_module_version": "1.0.0",
      "model_name": "ButtonModel",
      "state": {
       "description": "print axes ranges",
       "layout": "IPY_MODEL_8abd7680e3184166bc837bb4f27fbbc3",
       "style": "IPY_MODEL_86546455beb6418e9f445eb6bc82dc03",
       "tooltip": "Print the x axis and y axis ranges. Useful to pass to `rect` parameter of heatmap() to zoom in the region automatically."
      }
     },
     "dc519691bec749738e7974bd2d9303b7": {
      "model_module": "@jupyter-widgets/controls",
      "model_module_version": "1.0.0",
      "model_name": "ButtonStyleModel",
      "state": {}
     },
     "dc6e298893a744e59909ba0b189be545": {
      "model_module": "@jupyter-widgets/base",
      "model_module_version": "1.0.0",
      "model_name": "LayoutModel",
      "state": {
       "width": "80%"
      }
     },
     "dc8840a850dc4b9a917c76c09a539f1c": {
      "model_module": "@jupyter-widgets/base",
      "model_module_version": "1.0.0",
      "model_name": "LayoutModel",
      "state": {}
     },
     "dcae6184a699431bbfc62a92802f0b23": {
      "model_module": "@jupyter-widgets/controls",
      "model_module_version": "1.0.0",
      "model_name": "HBoxModel",
      "state": {
       "children": [
        "IPY_MODEL_09b52d63346c491ebffacd8fe01b212d",
        "IPY_MODEL_c6072b75aa8a4dcbbd88605eeff21360"
       ],
       "layout": "IPY_MODEL_0dc53c760b5e40fdb51a80127ded9810"
      }
     },
     "dd5bca93f27449e3bc2259213e4afd44": {
      "model_module": "@jupyter-widgets/controls",
      "model_module_version": "1.0.0",
      "model_name": "HBoxModel",
      "state": {
       "children": [
        "IPY_MODEL_7e5b78e4cf224243938df1115c7c123e",
        "IPY_MODEL_51108bd934ee4c67a0d92fe4929de68e",
        "IPY_MODEL_735353246d5b449aa382f166533e5323"
       ],
       "layout": "IPY_MODEL_a17decffdb3c42ef9458fe2a83b3720b"
      }
     },
     "de0d8b69b9db475ba5f7778b1702db02": {
      "model_module": "@jupyter-widgets/base",
      "model_module_version": "1.0.0",
      "model_name": "LayoutModel",
      "state": {
       "width": "80%"
      }
     },
     "de377be0844d4edabebef5220be7781a": {
      "model_module": "@jupyter-widgets/controls",
      "model_module_version": "1.0.0",
      "model_name": "DropdownModel",
      "state": {
       "_options_labels": [
        "oxygen",
        "ph",
        "level1",
        "level2",
        "new.order",
        "ori.order",
        "taxonomy"
       ],
       "index": 0,
       "layout": "IPY_MODEL_b0e307aac6814695ba82888ebb610e47",
       "style": "IPY_MODEL_eafea4669ccc4cc0807c56f7ccedb8f9"
      }
     },
     "de3a5a23d1084b28a04cfa1b03470493": {
      "model_module": "@jupyter-widgets/controls",
      "model_module_version": "1.0.0",
      "model_name": "HBoxModel",
      "state": {
       "children": [
        "IPY_MODEL_bb93b78c90404c429600d1d0f4fff5a5",
        "IPY_MODEL_66d08631e17b45fab4f1f4cf37d32722",
        "IPY_MODEL_d7d9f5e6a2514827a1c812b1c9f71030"
       ],
       "layout": "IPY_MODEL_ea37af9f0a694665acbc873c0e96fc4b"
      }
     },
     "de5a5365889047b2bbb3b419e902f70d": {
      "model_module": "@jupyter-widgets/controls",
      "model_module_version": "1.0.0",
      "model_name": "DescriptionStyleModel",
      "state": {
       "description_width": ""
      }
     },
     "de886f79a7e8421ebc9e9d663529c001": {
      "model_module": "@jupyter-widgets/controls",
      "model_module_version": "1.0.0",
      "model_name": "DescriptionStyleModel",
      "state": {
       "description_width": ""
      }
     },
     "dec73cdacb304c478169e640a5e20f33": {
      "model_module": "@jupyter-widgets/controls",
      "model_module_version": "1.0.0",
      "model_name": "DescriptionStyleModel",
      "state": {
       "description_width": ""
      }
     },
     "ded221a894904090a0d64b0ccae8a4e9": {
      "model_module": "@jupyter-widgets/base",
      "model_module_version": "1.0.0",
      "model_name": "LayoutModel",
      "state": {
       "width": "80%"
      }
     },
     "deddb7ce2a1e447989532d08d62045e7": {
      "model_module": "@jupyter-widgets/base",
      "model_module_version": "1.0.0",
      "model_name": "LayoutModel",
      "state": {
       "width": "80%"
      }
     },
     "df0101fc479f41be965d883a51df5aac": {
      "model_module": "@jupyter-widgets/controls",
      "model_module_version": "1.0.0",
      "model_name": "DescriptionStyleModel",
      "state": {
       "description_width": ""
      }
     },
     "df6533249cdc4fa1b0ed510bea9997c6": {
      "model_module": "@jupyter-widgets/controls",
      "model_module_version": "1.0.0",
      "model_name": "HBoxModel",
      "state": {
       "children": [
        "IPY_MODEL_03bff66ed3ff4e259d4d6767ca143e1e",
        "IPY_MODEL_0918fcd942134604b0feb6a4db01ee24",
        "IPY_MODEL_2b4b30636de24a7d87ec9b53a9931001"
       ],
       "layout": "IPY_MODEL_17a595be441a4df3a173bcf7e6d937c2"
      }
     },
     "df6a0243f4824cdf8dc8a40264604c0d": {
      "model_module": "@jupyter-widgets/base",
      "model_module_version": "1.0.0",
      "model_name": "LayoutModel",
      "state": {}
     },
     "df72cbb23b084ef39181a26ef8eee232": {
      "model_module": "@jupyter-widgets/controls",
      "model_module_version": "1.0.0",
      "model_name": "TextModel",
      "state": {
       "description": "Feature ID",
       "layout": "IPY_MODEL_0eb099a48d0a46ed9d2c5c9068ee3cbf",
       "placeholder": "Feature ID",
       "style": "IPY_MODEL_db45bc7126fb406a83877a122908247f",
       "value": "-"
      }
     },
     "dfbc4242017a4239b2993de119455213": {
      "model_module": "@jupyter-widgets/controls",
      "model_module_version": "1.0.0",
      "model_name": "DescriptionStyleModel",
      "state": {
       "description_width": ""
      }
     },
     "e00ff9eaff7c4b6c8dba4543d9743065": {
      "model_module": "@jupyter-widgets/base",
      "model_module_version": "1.0.0",
      "model_name": "LayoutModel",
      "state": {}
     },
     "e01d8976dd3e4188a5515717959c760a": {
      "model_module": "@jupyter-widgets/controls",
      "model_module_version": "1.0.0",
      "model_name": "ButtonModel",
      "state": {
       "description": "print axes ranges",
       "layout": "IPY_MODEL_bb0f8870b40f4c4292b537d42c36d91d",
       "style": "IPY_MODEL_e77d0442d7ef4b05bec08039e3ce28dd",
       "tooltip": "Print the x axis and y axis ranges. Useful to pass to `rect` parameter of heatmap() to zoom in the region automatically."
      }
     },
     "e025ed167a4e45f8b19de4325b880c74": {
      "model_module": "@jupyter-widgets/controls",
      "model_module_version": "1.0.0",
      "model_name": "DescriptionStyleModel",
      "state": {
       "description_width": ""
      }
     },
     "e088ff84d6814189af691619b4ce66fb": {
      "model_module": "@jupyter-widgets/base",
      "model_module_version": "1.0.0",
      "model_name": "LayoutModel",
      "state": {
       "width": "20%"
      }
     },
     "e08d987495fb413bbf7aaef3649e627c": {
      "model_module": "@jupyter-widgets/controls",
      "model_module_version": "1.0.0",
      "model_name": "ButtonStyleModel",
      "state": {}
     },
     "e09a841863a44594a523b094f4726665": {
      "model_module": "@jupyter-widgets/base",
      "model_module_version": "1.0.0",
      "model_name": "LayoutModel",
      "state": {
       "width": "20%"
      }
     },
     "e0e4deefe5014ed5b936c29fc160a252": {
      "model_module": "@jupyter-widgets/controls",
      "model_module_version": "1.0.0",
      "model_name": "TextModel",
      "state": {
       "layout": "IPY_MODEL_32531c6449d2475e958d1725bcabe040",
       "placeholder": "feature meta",
       "style": "IPY_MODEL_11023a2aa2754f098f825300fd0b271c",
       "value": "-"
      }
     },
     "e1195e68c8e747cb97e3475398843fb4": {
      "model_module": "@jupyter-widgets/controls",
      "model_module_version": "1.0.0",
      "model_name": "DescriptionStyleModel",
      "state": {
       "description_width": ""
      }
     },
     "e188e29063d245d5b865ccd346ff8efa": {
      "model_module": "@jupyter-widgets/controls",
      "model_module_version": "1.0.0",
      "model_name": "TextModel",
      "state": {
       "layout": "IPY_MODEL_e21b6b56b6a24315b85bd92d66f3ec6c",
       "placeholder": "sample meta",
       "style": "IPY_MODEL_2e2fc3b9154e4cc086926a7671fbe671",
       "value": "-"
      }
     },
     "e19f08f6a7a94079a4c97293226ed764": {
      "model_module": "@jupyter-widgets/controls",
      "model_module_version": "1.0.0",
      "model_name": "FloatTextModel",
      "state": {
       "description": "Abundance",
       "layout": "IPY_MODEL_5d7e0419d4ec4655b22c5d7169b62c7f",
       "step": null,
       "style": "IPY_MODEL_b4e9d87503fb4709bcc2ada49585adcd"
      }
     },
     "e1a11ecac6344e98b920adcfc16c9f15": {
      "model_module": "@jupyter-widgets/base",
      "model_module_version": "1.0.0",
      "model_name": "LayoutModel",
      "state": {}
     },
     "e1a702ca577f46578932187d06c7ed6b": {
      "model_module": "@jupyter-widgets/controls",
      "model_module_version": "1.0.0",
      "model_name": "DescriptionStyleModel",
      "state": {
       "description_width": ""
      }
     },
     "e21b6b56b6a24315b85bd92d66f3ec6c": {
      "model_module": "@jupyter-widgets/base",
      "model_module_version": "1.0.0",
      "model_name": "LayoutModel",
      "state": {
       "width": "80%"
      }
     },
     "e240ab8593bd4e1e87e617545d0e25b0": {
      "model_module": "@jupyter-widgets/controls",
      "model_module_version": "1.0.0",
      "model_name": "DescriptionStyleModel",
      "state": {
       "description_width": ""
      }
     },
     "e2553d094641498c974282a69cb0ddd1": {
      "model_module": "@jupyter-widgets/base",
      "model_module_version": "1.0.0",
      "model_name": "LayoutModel",
      "state": {
       "width": "80%"
      }
     },
     "e261c0f9a68142a788a4382aafaf37fb": {
      "model_module": "@jupyter-widgets/controls",
      "model_module_version": "1.0.0",
      "model_name": "ButtonModel",
      "state": {
       "description": "Annotate",
       "layout": "IPY_MODEL_66bb3766c4444d948885c4e0d150b6b8",
       "style": "IPY_MODEL_858ef5db577945bda0df0e4f119a8cff"
      }
     },
     "e28c5cc30d5c4923bf62c164dd23084c": {
      "model_module": "@jupyter-widgets/base",
      "model_module_version": "1.0.0",
      "model_name": "LayoutModel",
      "state": {
       "height": "100px",
       "overflow_y": "auto"
      }
     },
     "e2f6215f3c8a4b4e9fa58466faaa0b56": {
      "model_module": "@jupyter-widgets/base",
      "model_module_version": "1.0.0",
      "model_name": "LayoutModel",
      "state": {
       "height": "100px",
       "overflow_y": "auto"
      }
     },
     "e313380e1f6b41359c77a6705ccd1576": {
      "model_module": "@jupyter-widgets/controls",
      "model_module_version": "1.0.0",
      "model_name": "DescriptionStyleModel",
      "state": {
       "description_width": ""
      }
     },
     "e32be2aebdc84c918290124ead7569a2": {
      "model_module": "@jupyter-widgets/controls",
      "model_module_version": "1.0.0",
      "model_name": "DescriptionStyleModel",
      "state": {
       "description_width": ""
      }
     },
     "e33f725ed57145cfa921fe0f15d67d49": {
      "model_module": "@jupyter-widgets/base",
      "model_module_version": "1.0.0",
      "model_name": "LayoutModel",
      "state": {
       "width": "80%"
      }
     },
     "e34ed2b52c4c412ca1645cb60e5d0ee3": {
      "model_module": "@jupyter-widgets/controls",
      "model_module_version": "1.0.0",
      "model_name": "TextModel",
      "state": {
       "description": "Feature ID",
       "layout": "IPY_MODEL_0b6fe2c41fc84f98b3a16f002cfbb28b",
       "placeholder": "Feature ID",
       "style": "IPY_MODEL_3c99b2cb53f348098705e2b6ec245d63",
       "value": "TC"
      }
     },
     "e35032dd26d44e02bbc34990f91259c2": {
      "model_module": "@jupyter-widgets/base",
      "model_module_version": "1.0.0",
      "model_name": "LayoutModel",
      "state": {}
     },
     "e3e571cce4de4f12a18096b0298e9ae7": {
      "model_module": "@jupyter-widgets/base",
      "model_module_version": "1.0.0",
      "model_name": "LayoutModel",
      "state": {}
     },
     "e3f77d3d2f264656abcc6a1b209fbf5b": {
      "model_module": "@jupyter-widgets/controls",
      "model_module_version": "1.0.0",
      "model_name": "HBoxModel",
      "state": {
       "children": [
        "IPY_MODEL_36fb6a81180c48d68e3c1213de0693c1",
        "IPY_MODEL_fee7f0bee991456d91b81654bfa40d47",
        "IPY_MODEL_8e98071a10f64bbe973f661397fb9905"
       ],
       "layout": "IPY_MODEL_041ae82cfe7043b681e697b0de4a6cb7"
      }
     },
     "e40cc68957154694a03642a59ea71bbb": {
      "model_module": "@jupyter-widgets/base",
      "model_module_version": "1.0.0",
      "model_name": "LayoutModel",
      "state": {}
     },
     "e483774b63b64cdda9c557aa3c8d70b9": {
      "model_module": "@jupyter-widgets/base",
      "model_module_version": "1.0.0",
      "model_name": "LayoutModel",
      "state": {}
     },
     "e4bf18ee5d5740238c505c1defb7026e": {
      "model_module": "@jupyter-widgets/base",
      "model_module_version": "1.0.0",
      "model_name": "LayoutModel",
      "state": {}
     },
     "e5af046a55e84cc08199c28d86dd60ba": {
      "model_module": "@jupyter-widgets/base",
      "model_module_version": "1.0.0",
      "model_name": "LayoutModel",
      "state": {
       "width": "80%"
      }
     },
     "e5c7ccb9dc224b3e93a57929237dea0a": {
      "model_module": "@jupyter-widgets/controls",
      "model_module_version": "1.0.0",
      "model_name": "FloatTextModel",
      "state": {
       "description": "Abundance",
       "layout": "IPY_MODEL_f00d265f4407431c9b6f1160207fdc81",
       "step": null,
       "style": "IPY_MODEL_1f3e1bb65140435b8d35fa3271d8d3ed",
       "value": 767.2727272727273
      }
     },
     "e5fde036ecc54c3ab9b454f664f228cf": {
      "model_module": "@jupyter-widgets/controls",
      "model_module_version": "1.0.0",
      "model_name": "TextModel",
      "state": {
       "layout": "IPY_MODEL_aaf1e2a904274269925ae15bde5ebf6b",
       "placeholder": "feature meta",
       "style": "IPY_MODEL_c3d8d47f143a475cb38cdea8b41c19bc",
       "value": "-"
      }
     },
     "e645d7359c8d49039234e2ac88b11a85": {
      "model_module": "@jupyter-widgets/base",
      "model_module_version": "1.0.0",
      "model_name": "LayoutModel",
      "state": {
       "width": "100%"
      }
     },
     "e684e8dd927b49619c5aa7438782afcd": {
      "model_module": "@jupyter-widgets/base",
      "model_module_version": "1.0.0",
      "model_name": "LayoutModel",
      "state": {
       "width": "20%"
      }
     },
     "e6bebda2888247708ddc1fe17cda8cb4": {
      "model_module": "@jupyter-widgets/controls",
      "model_module_version": "1.0.0",
      "model_name": "DescriptionStyleModel",
      "state": {
       "description_width": ""
      }
     },
     "e70a8c83eeb042a29041fa50e92193b6": {
      "model_module": "@jupyter-widgets/base",
      "model_module_version": "1.0.0",
      "model_name": "LayoutModel",
      "state": {}
     },
     "e71c9cdd86744c64a7a7e795fac33ef0": {
      "model_module": "@jupyter-widgets/controls",
      "model_module_version": "1.0.0",
      "model_name": "DropdownModel",
      "state": {
       "_options_labels": [
        "ori.order",
        "group",
        "new.order",
        "categorical",
        "_calour_original_abundance"
       ],
       "index": 0,
       "layout": "IPY_MODEL_d7a75aa13bdd4fc59f69ad6a2fb88f4c",
       "style": "IPY_MODEL_5706ba7662414e09bee0759455e33856"
      }
     },
     "e7332e7508064f9ab0dc7129ca5814b5": {
      "model_module": "@jupyter-widgets/base",
      "model_module_version": "1.0.0",
      "model_name": "LayoutModel",
      "state": {}
     },
     "e73941486eab497da45f1fe2014cf016": {
      "model_module": "@jupyter-widgets/controls",
      "model_module_version": "1.0.0",
      "model_name": "TextModel",
      "state": {
       "description": "Feature ID",
       "layout": "IPY_MODEL_565b1c6b9e874be098cfd20b625f76fe",
       "placeholder": "Feature ID",
       "style": "IPY_MODEL_f99f0e3372b94545a99212a8e15502c0",
       "value": "TA"
      }
     },
     "e77c61601f3e4d23be53604bfa63b427": {
      "model_module": "@jupyter-widgets/controls",
      "model_module_version": "1.0.0",
      "model_name": "HBoxModel",
      "state": {
       "children": [
        "IPY_MODEL_63934eef274e419b98c33f370b7a8b9c",
        "IPY_MODEL_fda45d9d440548b79ae727f9c249d0b3"
       ],
       "layout": "IPY_MODEL_59813787b85646d7a5aba17eb6548f90"
      }
     },
     "e77d0442d7ef4b05bec08039e3ce28dd": {
      "model_module": "@jupyter-widgets/controls",
      "model_module_version": "1.0.0",
      "model_name": "ButtonStyleModel",
      "state": {}
     },
     "e78b775f90b54433b7c6c993b393d783": {
      "model_module": "@jupyter-widgets/base",
      "model_module_version": "1.0.0",
      "model_name": "LayoutModel",
      "state": {
       "width": "20%"
      }
     },
     "e7fe72a74b0e4c3cb165d044c2990c47": {
      "model_module": "@jupyter-widgets/base",
      "model_module_version": "1.0.0",
      "model_name": "LayoutModel",
      "state": {}
     },
     "e809ad160f1b4c78b3109e4e8a78c15f": {
      "model_module": "@jupyter-widgets/controls",
      "model_module_version": "1.0.0",
      "model_name": "DropdownModel",
      "state": {
       "_options_labels": [
        "oxygen",
        "ph",
        "level1",
        "level2",
        "new.order",
        "ori.order",
        "taxonomy"
       ],
       "index": 0,
       "layout": "IPY_MODEL_3a956e689a7942c8a0268a5ff91df731",
       "style": "IPY_MODEL_d9b238c7736e4d7e97de3fde029e5d36"
      }
     },
     "e858d7ed581b4904838b59e46e5a8a84": {
      "model_module": "@jupyter-widgets/base",
      "model_module_version": "1.0.0",
      "model_name": "LayoutModel",
      "state": {}
     },
     "e859ed715c7343db972d9b9945fee8f4": {
      "model_module": "@jupyter-widgets/controls",
      "model_module_version": "1.0.0",
      "model_name": "HBoxModel",
      "state": {
       "children": [
        "IPY_MODEL_8befc7c1c1fc4bfa949fdadb70e0ddad",
        "IPY_MODEL_df72cbb23b084ef39181a26ef8eee232",
        "IPY_MODEL_121ba1781cd647fb89530aaafdf1a241"
       ],
       "layout": "IPY_MODEL_0916bd9112904822aba6f4e7ba6ccc37"
      }
     },
     "e85ff357e1e941ef95c1f4c4e471278e": {
      "model_module": "@jupyter-widgets/base",
      "model_module_version": "1.0.0",
      "model_name": "LayoutModel",
      "state": {
       "width": "20%"
      }
     },
     "e861d332fb004e78a55d3d6b80d56bce": {
      "model_module": "@jupyter-widgets/controls",
      "model_module_version": "1.0.0",
      "model_name": "DescriptionStyleModel",
      "state": {
       "description_width": ""
      }
     },
     "e8622ae6264e44a69ce804a25a56e906": {
      "model_module": "@jupyter-widgets/base",
      "model_module_version": "1.0.0",
      "model_name": "LayoutModel",
      "state": {}
     },
     "e871b23b4b534364be1603d87700353e": {
      "model_module": "@jupyter-widgets/base",
      "model_module_version": "1.0.0",
      "model_name": "LayoutModel",
      "state": {}
     },
     "e88b79b8f16949a2a6d58581fdbd58a9": {
      "model_module": "@jupyter-widgets/base",
      "model_module_version": "1.0.0",
      "model_name": "LayoutModel",
      "state": {
       "width": "80%"
      }
     },
     "e8ad69a11b824ac89de5ff7d2b13da15": {
      "model_module": "@jupyter-widgets/controls",
      "model_module_version": "1.0.0",
      "model_name": "TextModel",
      "state": {
       "description": "Sample ID",
       "layout": "IPY_MODEL_0fe4437f03514de2a3929adfcab239a3",
       "placeholder": "Sample ID",
       "style": "IPY_MODEL_841fa30f5835461d83723cac9991d217",
       "value": "-"
      }
     },
     "e92c6a864cc747e9b91def861fcec3d5": {
      "model_module": "@jupyter-widgets/controls",
      "model_module_version": "1.0.0",
      "model_name": "ButtonModel",
      "state": {
       "description": "Annotate",
       "layout": "IPY_MODEL_f135d4db36aa4909bb0f8cd022a7ee40",
       "style": "IPY_MODEL_6223e83501cd46599813c973d7de8656"
      }
     },
     "e92f6c43518f4ce183b878b306c7fd5d": {
      "model_module": "@jupyter-widgets/base",
      "model_module_version": "1.0.0",
      "model_name": "LayoutModel",
      "state": {}
     },
     "e9ac59c242d04a9ca10e74bd751056f6": {
      "model_module": "@jupyter-widgets/controls",
      "model_module_version": "1.0.0",
      "model_name": "ButtonModel",
      "state": {
       "description": "Annotate",
       "layout": "IPY_MODEL_b7bc3927d61a4ecbb9ffd144c816220b",
       "style": "IPY_MODEL_c027c1ab8d09406b89c8f3b371d881f1"
      }
     },
     "e9cef8e68c944ed7b838de4db72b609c": {
      "model_module": "@jupyter-widgets/controls",
      "model_module_version": "1.0.0",
      "model_name": "LabelModel",
      "state": {
       "layout": "IPY_MODEL_a93ef3365c3d4bef9155fc296849f5f8",
       "style": "IPY_MODEL_fdb92ade80f74eeead0e32ac89ba0912",
       "value": "0 features are selected"
      }
     },
     "e9ee8ed6b979409e904c883d3fad034b": {
      "model_module": "@jupyter-widgets/base",
      "model_module_version": "1.0.0",
      "model_name": "LayoutModel",
      "state": {
       "width": "80%"
      }
     },
     "ea2d02d0b75a4ccab2edaa9d74a1b9ae": {
      "model_module": "@jupyter-widgets/controls",
      "model_module_version": "1.0.0",
      "model_name": "DescriptionStyleModel",
      "state": {
       "description_width": ""
      }
     },
     "ea37af9f0a694665acbc873c0e96fc4b": {
      "model_module": "@jupyter-widgets/base",
      "model_module_version": "1.0.0",
      "model_name": "LayoutModel",
      "state": {}
     },
     "ea5507ad074f4247962014b1b9a5350c": {
      "model_module": "@jupyter-widgets/controls",
      "model_module_version": "1.0.0",
      "model_name": "TextModel",
      "state": {
       "description": "Sample ID",
       "layout": "IPY_MODEL_773cb8dede5f4d728628430598683cc5",
       "placeholder": "Sample ID",
       "style": "IPY_MODEL_acd000fbeb2e4b6c9e5e67b954e23bd8",
       "value": "-"
      }
     },
     "ea9ba488adb14f929111ea8b48fbc9e7": {
      "model_module": "@jupyter-widgets/controls",
      "model_module_version": "1.0.0",
      "model_name": "DescriptionStyleModel",
      "state": {
       "description_width": ""
      }
     },
     "eacd14c5f8174e70abc48f6af3752b70": {
      "model_module": "@jupyter-widgets/base",
      "model_module_version": "1.0.0",
      "model_name": "LayoutModel",
      "state": {}
     },
     "eafea4669ccc4cc0807c56f7ccedb8f9": {
      "model_module": "@jupyter-widgets/controls",
      "model_module_version": "1.0.0",
      "model_name": "DescriptionStyleModel",
      "state": {
       "description_width": ""
      }
     },
     "eb301619e7274e84bf5ea4435c8ef35c": {
      "model_module": "@jupyter-widgets/controls",
      "model_module_version": "1.0.0",
      "model_name": "ButtonModel",
      "state": {
       "description": "Annotate",
       "layout": "IPY_MODEL_2bfb81ad23ac4a45baa2a3e07d12d60c",
       "style": "IPY_MODEL_55d907b31fa84b448d8f1aad19c0df60"
      }
     },
     "eb416d4fc8084a5c9ce91c8c0ef6846c": {
      "model_module": "@jupyter-widgets/controls",
      "model_module_version": "1.0.0",
      "model_name": "DescriptionStyleModel",
      "state": {
       "description_width": ""
      }
     },
     "eb5873d689c945bebbb75ea92831f359": {
      "model_module": "@jupyter-widgets/base",
      "model_module_version": "1.0.0",
      "model_name": "LayoutModel",
      "state": {
       "width": "100%"
      }
     },
     "ec1501d8cd2a4c828cbb3c6a7ed1ef18": {
      "model_module": "@jupyter-widgets/controls",
      "model_module_version": "1.0.0",
      "model_name": "ButtonModel",
      "state": {
       "description": "Save",
       "layout": "IPY_MODEL_782e6ced6e6b4e71825939e6bfd906ce",
       "style": "IPY_MODEL_3eecac5f6502494fa740fe460326cbd7",
       "tooltip": "Save the selection(s)"
      }
     },
     "ec409f17f8fe4b44bd4a1562e7699c80": {
      "model_module": "@jupyter-widgets/controls",
      "model_module_version": "1.0.0",
      "model_name": "HBoxModel",
      "state": {
       "children": [
        "IPY_MODEL_83ab89d0308948c29f4d7083be4b3697",
        "IPY_MODEL_351ae87e74134ce0b3f740d54860644e"
       ],
       "layout": "IPY_MODEL_10b26dff500c49269c83660b9e44d98d"
      }
     },
     "ec844700ca8443469b19506bc2aa37ef": {
      "model_module": "@jupyter-widgets/controls",
      "model_module_version": "1.0.0",
      "model_name": "HTMLModel",
      "state": {
       "layout": "IPY_MODEL_4d9ebfcc416f45a3bc4640a12862b93b",
       "style": "IPY_MODEL_60649a3b46c64cb8a93dc859d9388808",
       "value": "<style> a:link {color:black; background-color:transparent; text-decoration:none}a:visited {color:black; background-color:transparent; text-decoration:none}</style><p style=\"color:black;white-space:nowrap;\"><a href=\"http://dbbact.org/annotation_info/NA\"   target=\"_blank\">No annotation found in database dbBact</a></p>"
      }
     },
     "ecd4c081588e4208aef03886f1406ce6": {
      "model_module": "@jupyter-widgets/base",
      "model_module_version": "1.0.0",
      "model_name": "LayoutModel",
      "state": {
       "width": "20%"
      }
     },
     "ecd7d27d1b4547efaf71ece1dfb7463a": {
      "model_module": "@jupyter-widgets/controls",
      "model_module_version": "1.0.0",
      "model_name": "DescriptionStyleModel",
      "state": {
       "description_width": ""
      }
     },
     "ecedbf261dba4bf6ba6b35ac3bbcf5d1": {
      "model_module": "@jupyter-widgets/controls",
      "model_module_version": "1.0.0",
      "model_name": "ButtonStyleModel",
      "state": {}
     },
     "edfa1bbc094c4adda04362ee3a37442d": {
      "model_module": "@jupyter-widgets/base",
      "model_module_version": "1.0.0",
      "model_name": "LayoutModel",
      "state": {}
     },
     "ee12f25dca4c4bdbb2354c3ec5396fa6": {
      "model_module": "@jupyter-widgets/controls",
      "model_module_version": "1.0.0",
      "model_name": "HBoxModel",
      "state": {
       "children": [
        "IPY_MODEL_c86cc1aa3f34469ebd12b119d20146f7",
        "IPY_MODEL_7d658cd9365c45d7b1a8dfb9c62aa85d"
       ],
       "layout": "IPY_MODEL_3ef4557cd5c14d868882336d821d6c24"
      }
     },
     "eec2a448499d4e71bd76926c521cd3fe": {
      "model_module": "@jupyter-widgets/controls",
      "model_module_version": "1.0.0",
      "model_name": "ButtonStyleModel",
      "state": {}
     },
     "eef1b0e464e34f7f962a9b1c73d43754": {
      "model_module": "@jupyter-widgets/base",
      "model_module_version": "1.0.0",
      "model_name": "LayoutModel",
      "state": {}
     },
     "ef2fb6bdf77242dca72164d2ab57a968": {
      "model_module": "@jupyter-widgets/base",
      "model_module_version": "1.0.0",
      "model_name": "LayoutModel",
      "state": {
       "width": "20%"
      }
     },
     "ef744ca46c1740209f24bb72bbf7b4e3": {
      "model_module": "@jupyter-widgets/controls",
      "model_module_version": "1.0.0",
      "model_name": "FloatTextModel",
      "state": {
       "description": "Abundance",
       "layout": "IPY_MODEL_26b0a8291b8a43779ec1ea5975dce562",
       "step": null,
       "style": "IPY_MODEL_40ec191134c74d55ac914e8421098573"
      }
     },
     "efffb80988fd42e783a47c0eedf2e2fd": {
      "model_module": "@jupyter-widgets/base",
      "model_module_version": "1.0.0",
      "model_name": "LayoutModel",
      "state": {}
     },
     "f00d265f4407431c9b6f1160207fdc81": {
      "model_module": "@jupyter-widgets/base",
      "model_module_version": "1.0.0",
      "model_name": "LayoutModel",
      "state": {
       "width": "100%"
      }
     },
     "f017309af9ce4009baf89347e8da140d": {
      "model_module": "@jupyter-widgets/controls",
      "model_module_version": "1.0.0",
      "model_name": "DescriptionStyleModel",
      "state": {
       "description_width": ""
      }
     },
     "f069355a505548daab227402416d8735": {
      "model_module": "@jupyter-widgets/base",
      "model_module_version": "1.0.0",
      "model_name": "LayoutModel",
      "state": {}
     },
     "f114eb6581ee4c87b838083234c754da": {
      "model_module": "@jupyter-widgets/base",
      "model_module_version": "1.0.0",
      "model_name": "LayoutModel",
      "state": {
       "width": "80%"
      }
     },
     "f135d4db36aa4909bb0f8cd022a7ee40": {
      "model_module": "@jupyter-widgets/base",
      "model_module_version": "1.0.0",
      "model_name": "LayoutModel",
      "state": {}
     },
     "f16ea498af894761acde79303d5fdba3": {
      "model_module": "@jupyter-widgets/controls",
      "model_module_version": "1.0.0",
      "model_name": "ButtonStyleModel",
      "state": {}
     },
     "f19d1fae0b3e47f89ddbbaa67aad6452": {
      "model_module": "@jupyter-widgets/controls",
      "model_module_version": "1.0.0",
      "model_name": "LabelModel",
      "state": {
       "layout": "IPY_MODEL_8085f1c37d5d41cd8077baede5ddff6c",
       "style": "IPY_MODEL_4f5557f6a67b4762a7c1a83f8ef2e1e3",
       "value": "1 features are selected"
      }
     },
     "f1b89d11ed9d4e528e65da3a7f0a7637": {
      "model_module": "@jupyter-widgets/controls",
      "model_module_version": "1.0.0",
      "model_name": "ButtonStyleModel",
      "state": {}
     },
     "f1d6f03421744fb8b7dd8eb3cf00fc4e": {
      "model_module": "@jupyter-widgets/controls",
      "model_module_version": "1.0.0",
      "model_name": "ButtonModel",
      "state": {
       "description": "Save",
       "layout": "IPY_MODEL_bc309ced75cb41b3809636e1ebdb6c08",
       "style": "IPY_MODEL_7a817942ba3542bfafc40461d82c05f1",
       "tooltip": "Save the selection(s)"
      }
     },
     "f1ea95ca57304dd592563270d5ba2a90": {
      "model_module": "@jupyter-widgets/controls",
      "model_module_version": "1.0.0",
      "model_name": "ButtonModel",
      "state": {
       "description": "print axes ranges",
       "layout": "IPY_MODEL_44705496aa0c4ec488da67db63d7cdc6",
       "style": "IPY_MODEL_0a3dbc9e3d4344749c3bf9fdfb9286c0",
       "tooltip": "Print the x axis and y axis ranges. Useful to pass to `rect` parameter of heatmap() to zoom in the region automatically."
      }
     },
     "f1f890f5703041d18f79ff18a9fbab18": {
      "model_module": "@jupyter-widgets/controls",
      "model_module_version": "1.0.0",
      "model_name": "DescriptionStyleModel",
      "state": {
       "description_width": ""
      }
     },
     "f24fa96118a844a0859a8b7f7ad5a60e": {
      "model_module": "@jupyter-widgets/base",
      "model_module_version": "1.0.0",
      "model_name": "LayoutModel",
      "state": {}
     },
     "f2560641d0d84949aff86c64dddcc7c8": {
      "model_module": "@jupyter-widgets/controls",
      "model_module_version": "1.0.0",
      "model_name": "DescriptionStyleModel",
      "state": {
       "description_width": ""
      }
     },
     "f29bf907224b43ea8b712baad99656e7": {
      "model_module": "@jupyter-widgets/controls",
      "model_module_version": "1.0.0",
      "model_name": "FloatTextModel",
      "state": {
       "description": "Abundance",
       "layout": "IPY_MODEL_0fc054d821a547a59cd2399708c31d56",
       "step": null,
       "style": "IPY_MODEL_c895664996f1421a86014d3cf4d3692d",
       "value": 473.6842105263158
      }
     },
     "f2ac8ebefe854958a92d662aa815be07": {
      "model_module": "@jupyter-widgets/controls",
      "model_module_version": "1.0.0",
      "model_name": "ButtonModel",
      "state": {
       "description": "Annotate",
       "layout": "IPY_MODEL_83f220c4c3154575b6bc91246594bdb3",
       "style": "IPY_MODEL_50d91fe195e14cbfabd45f9c2270b3a3"
      }
     },
     "f2bc07b742c4414297347865fb806c5b": {
      "model_module": "@jupyter-widgets/base",
      "model_module_version": "1.0.0",
      "model_name": "LayoutModel",
      "state": {}
     },
     "f381a21ef11c4198b9c4c4dcbea2b451": {
      "model_module": "@jupyter-widgets/controls",
      "model_module_version": "1.0.0",
      "model_name": "HBoxModel",
      "state": {
       "children": [
        "IPY_MODEL_336d2c9752d943d387b7a98127cf5e54",
        "IPY_MODEL_1be9ad42625e48cfbce132d77aeefcaf",
        "IPY_MODEL_8c487dd769f54b7b94569691916fb0c7"
       ],
       "layout": "IPY_MODEL_6f8908526ebe4dfba8f58bb8372f84f8"
      }
     },
     "f395051445ed40728dd0eee5ad7b6f8f": {
      "model_module": "@jupyter-widgets/controls",
      "model_module_version": "1.0.0",
      "model_name": "ButtonStyleModel",
      "state": {}
     },
     "f3c72208ec2e4e6398a5db36182d8345": {
      "model_module": "@jupyter-widgets/controls",
      "model_module_version": "1.0.0",
      "model_name": "HBoxModel",
      "state": {
       "children": [
        "IPY_MODEL_5426d3a2ecd44f1489a2442d188fec74",
        "IPY_MODEL_ec1501d8cd2a4c828cbb3c6a7ed1ef18",
        "IPY_MODEL_04d093ac7b5948ae8cd5d2ab2ef37772"
       ],
       "layout": "IPY_MODEL_8d9bfb06614d4f398a8be639adbdc256"
      }
     },
     "f431bb5957f84f60a5fbc3e3f64baaf5": {
      "model_module": "@jupyter-widgets/controls",
      "model_module_version": "1.0.0",
      "model_name": "TextModel",
      "state": {
       "description": "Feature ID",
       "layout": "IPY_MODEL_5d7e0419d4ec4655b22c5d7169b62c7f",
       "placeholder": "Feature ID",
       "style": "IPY_MODEL_4ffc944b0ad5429397444de5a2179e61",
       "value": "-"
      }
     },
     "f536d90645184dc78ebfd4044a9f3d4d": {
      "model_module": "@jupyter-widgets/base",
      "model_module_version": "1.0.0",
      "model_name": "LayoutModel",
      "state": {}
     },
     "f5449ae346864da8a7e3f72e5804355f": {
      "model_module": "@jupyter-widgets/controls",
      "model_module_version": "1.0.0",
      "model_name": "TextModel",
      "state": {
       "layout": "IPY_MODEL_f8f3af89f8df4f8ebbba9ef2745cb57d",
       "placeholder": "sample meta",
       "style": "IPY_MODEL_23b061e4a6d6467bbe15094c7375cb96",
       "value": "-"
      }
     },
     "f5a0540017034c4d907b6de51e08173a": {
      "model_module": "@jupyter-widgets/controls",
      "model_module_version": "1.0.0",
      "model_name": "DescriptionStyleModel",
      "state": {
       "description_width": ""
      }
     },
     "f5a856e3904c429aa8a230729cf00bf3": {
      "model_module": "@jupyter-widgets/controls",
      "model_module_version": "1.0.0",
      "model_name": "TextModel",
      "state": {
       "layout": "IPY_MODEL_c91c380a4bf44a68a414e5f0461d18fd",
       "placeholder": "sample meta",
       "style": "IPY_MODEL_e1a702ca577f46578932187d06c7ed6b",
       "value": "6"
      }
     },
     "f62fdecc01eb49fcb29a099cf8dc13e2": {
      "model_module": "@jupyter-widgets/controls",
      "model_module_version": "1.0.0",
      "model_name": "DescriptionStyleModel",
      "state": {
       "description_width": ""
      }
     },
     "f643626637a043cf93c833dab125347a": {
      "model_module": "@jupyter-widgets/base",
      "model_module_version": "1.0.0",
      "model_name": "LayoutModel",
      "state": {}
     },
     "f65e8fbb0d6d4f26a2395cbf5325f119": {
      "model_module": "@jupyter-widgets/controls",
      "model_module_version": "1.0.0",
      "model_name": "DescriptionStyleModel",
      "state": {
       "description_width": ""
      }
     },
     "f66fd8bff6a847839d2b939a2daeb1c4": {
      "model_module": "@jupyter-widgets/controls",
      "model_module_version": "1.0.0",
      "model_name": "HTMLModel",
      "state": {
       "layout": "IPY_MODEL_41aa402ee7d14626a93a4fd8eb2fdf72",
       "style": "IPY_MODEL_22f53a34a2bd4748a14ca0ae7398e231",
       "value": "no annotation found"
      }
     },
     "f72da23ee08a453fa9592a17b4b303d7": {
      "model_module": "@jupyter-widgets/controls",
      "model_module_version": "1.0.0",
      "model_name": "DescriptionStyleModel",
      "state": {
       "description_width": ""
      }
     },
     "f7629e405cd54f89af940ada9ecc0ff8": {
      "model_module": "@jupyter-widgets/base",
      "model_module_version": "1.0.0",
      "model_name": "LayoutModel",
      "state": {}
     },
     "f803bea43c004459aa285a59a90c5c7f": {
      "model_module": "@jupyter-widgets/controls",
      "model_module_version": "1.0.0",
      "model_name": "ButtonStyleModel",
      "state": {}
     },
     "f88872a804bc43ed9a908b306dd8436d": {
      "model_module": "@jupyter-widgets/controls",
      "model_module_version": "1.0.0",
      "model_name": "ButtonStyleModel",
      "state": {}
     },
     "f8c78431a7ba42ecb851602b9df0d837": {
      "model_module": "@jupyter-widgets/controls",
      "model_module_version": "1.0.0",
      "model_name": "DescriptionStyleModel",
      "state": {
       "description_width": ""
      }
     },
     "f8f2509347ce4216930b3b739010eeb0": {
      "model_module": "@jupyter-widgets/base",
      "model_module_version": "1.0.0",
      "model_name": "LayoutModel",
      "state": {}
     },
     "f8f3af89f8df4f8ebbba9ef2745cb57d": {
      "model_module": "@jupyter-widgets/base",
      "model_module_version": "1.0.0",
      "model_name": "LayoutModel",
      "state": {
       "width": "80%"
      }
     },
     "f941e7f103b34e8a97ae60e01fe0cf36": {
      "model_module": "@jupyter-widgets/base",
      "model_module_version": "1.0.0",
      "model_name": "LayoutModel",
      "state": {
       "width": "100%"
      }
     },
     "f99f0e3372b94545a99212a8e15502c0": {
      "model_module": "@jupyter-widgets/controls",
      "model_module_version": "1.0.0",
      "model_name": "DescriptionStyleModel",
      "state": {
       "description_width": ""
      }
     },
     "f9df0261d0744316926b1e4b3696e71b": {
      "model_module": "@jupyter-widgets/controls",
      "model_module_version": "1.0.0",
      "model_name": "ButtonStyleModel",
      "state": {}
     },
     "fa0d8e862dc149efadf22881e88f98a6": {
      "model_module": "@jupyter-widgets/base",
      "model_module_version": "1.0.0",
      "model_name": "LayoutModel",
      "state": {}
     },
     "fa2e3ed2c34e40978a63ddc618ddd2ad": {
      "model_module": "@jupyter-widgets/base",
      "model_module_version": "1.0.0",
      "model_name": "LayoutModel",
      "state": {}
     },
     "fa919bbd522b4c0eabe9311b2205c3b6": {
      "model_module": "@jupyter-widgets/controls",
      "model_module_version": "1.0.0",
      "model_name": "DescriptionStyleModel",
      "state": {
       "description_width": ""
      }
     },
     "faaa714f16e7436fb99901697ed01a4d": {
      "model_module": "@jupyter-widgets/controls",
      "model_module_version": "1.0.0",
      "model_name": "ButtonModel",
      "state": {
       "description": "print axes ranges",
       "layout": "IPY_MODEL_f536d90645184dc78ebfd4044a9f3d4d",
       "style": "IPY_MODEL_9eb4726ed113454fbe79704dae83a7d7",
       "tooltip": "Print the x axis and y axis ranges. Useful to pass to `rect` parameter of heatmap() to zoom in the region automatically."
      }
     },
     "fadb1ba531c74fe8ac7152c0836b2bb3": {
      "model_module": "@jupyter-widgets/controls",
      "model_module_version": "1.0.0",
      "model_name": "DescriptionStyleModel",
      "state": {
       "description_width": ""
      }
     },
     "fb0d20d518b54a85950da404e23b9bf1": {
      "model_module": "@jupyter-widgets/base",
      "model_module_version": "1.0.0",
      "model_name": "LayoutModel",
      "state": {
       "height": "100px",
       "overflow_y": "auto"
      }
     },
     "fb2bc2f08bf94fac954692de749449a2": {
      "model_module": "@jupyter-widgets/controls",
      "model_module_version": "1.0.0",
      "model_name": "DescriptionStyleModel",
      "state": {
       "description_width": ""
      }
     },
     "fb41f1a7ebde4696b1d5d0e53e452bfd": {
      "model_module": "@jupyter-widgets/controls",
      "model_module_version": "1.0.0",
      "model_name": "DescriptionStyleModel",
      "state": {
       "description_width": ""
      }
     },
     "fbbfdde6408d4d7d9e6044ff76ed23a3": {
      "model_module": "@jupyter-widgets/controls",
      "model_module_version": "1.0.0",
      "model_name": "ButtonStyleModel",
      "state": {}
     },
     "fbd2b18a15df437bb2fc9a0a4c1f6cb6": {
      "model_module": "@jupyter-widgets/base",
      "model_module_version": "1.0.0",
      "model_name": "LayoutModel",
      "state": {}
     },
     "fca0c8965c7b48618a67af8a73038f08": {
      "model_module": "@jupyter-widgets/controls",
      "model_module_version": "1.0.0",
      "model_name": "ButtonModel",
      "state": {
       "description": "Save",
       "layout": "IPY_MODEL_83351f1927c64058bbdb8f2b519dd250",
       "style": "IPY_MODEL_56d6390bab0640a28e021d6d0e5f2abd",
       "tooltip": "Save the selection(s)"
      }
     },
     "fce124c81ac54d4db619d6dd76e78e6a": {
      "model_module": "@jupyter-widgets/controls",
      "model_module_version": "1.0.0",
      "model_name": "TextModel",
      "state": {
       "layout": "IPY_MODEL_c5f6370e551f4097860a8ab70ec1a036",
       "placeholder": "feature meta",
       "style": "IPY_MODEL_9fc9fd4654ea449cb3b8f29da806f632",
       "value": "anaerobic"
      }
     },
     "fce95abc72f74ff698cfc1c1bbcd3d80": {
      "model_module": "@jupyter-widgets/base",
      "model_module_version": "1.0.0",
      "model_name": "LayoutModel",
      "state": {
       "width": "80%"
      }
     },
     "fda45d9d440548b79ae727f9c249d0b3": {
      "model_module": "@jupyter-widgets/controls",
      "model_module_version": "1.0.0",
      "model_name": "TextModel",
      "state": {
       "layout": "IPY_MODEL_b7dab112f0ae4cf1919e49f4a35f8fbd",
       "placeholder": "feature meta",
       "style": "IPY_MODEL_7dbddc9d7d2843ccb0bf1617f18d25d2",
       "value": "-"
      }
     },
     "fdb92ade80f74eeead0e32ac89ba0912": {
      "model_module": "@jupyter-widgets/controls",
      "model_module_version": "1.0.0",
      "model_name": "DescriptionStyleModel",
      "state": {
       "description_width": ""
      }
     },
     "fdd580f0a23446928b11450afc7126c6": {
      "model_module": "@jupyter-widgets/controls",
      "model_module_version": "1.0.0",
      "model_name": "DescriptionStyleModel",
      "state": {
       "description_width": ""
      }
     },
     "fddcbeeda8674d4da975369b92aafc93": {
      "model_module": "@jupyter-widgets/controls",
      "model_module_version": "1.0.0",
      "model_name": "HBoxModel",
      "state": {
       "children": [
        "IPY_MODEL_1ac6b37afacb498ebfece1a72b94a757",
        "IPY_MODEL_06c8262203bd45d8b9f32ffea0284b88",
        "IPY_MODEL_e9ac59c242d04a9ca10e74bd751056f6"
       ],
       "layout": "IPY_MODEL_86a559a37b0646668bae032c223a7e90"
      }
     },
     "fe17a9f6eb674a01bf2b574371434fa7": {
      "model_module": "@jupyter-widgets/base",
      "model_module_version": "1.0.0",
      "model_name": "LayoutModel",
      "state": {}
     },
     "fe227c119f344263bbc579a5c9c24ebd": {
      "model_module": "@jupyter-widgets/controls",
      "model_module_version": "1.0.0",
      "model_name": "DescriptionStyleModel",
      "state": {
       "description_width": ""
      }
     },
     "fe5d837c7ba7440a913f182b402e409f": {
      "model_module": "@jupyter-widgets/base",
      "model_module_version": "1.0.0",
      "model_name": "LayoutModel",
      "state": {}
     },
     "fe8b7b14bd7e4db583f408717f0e0285": {
      "model_module": "@jupyter-widgets/controls",
      "model_module_version": "1.0.0",
      "model_name": "DescriptionStyleModel",
      "state": {
       "description_width": ""
      }
     },
     "fea90bb19aeb4cc5a44fcda09262ac35": {
      "model_module": "@jupyter-widgets/controls",
      "model_module_version": "1.0.0",
      "model_name": "HBoxModel",
      "state": {
       "children": [
        "IPY_MODEL_7b627dc3f6f943d3824e1c9e6ec3c60a",
        "IPY_MODEL_f5449ae346864da8a7e3f72e5804355f"
       ],
       "layout": "IPY_MODEL_403ccc4602c54ebf9c5913e99ca37ce7"
      }
     },
     "fee7f0bee991456d91b81654bfa40d47": {
      "model_module": "@jupyter-widgets/controls",
      "model_module_version": "1.0.0",
      "model_name": "TextModel",
      "state": {
       "description": "Feature ID",
       "layout": "IPY_MODEL_d59215ebf4b145409800dd999aeb9210",
       "placeholder": "Feature ID",
       "style": "IPY_MODEL_16f43a8c6b264025a2b6f27fd1d1a7b8",
       "value": "TA"
      }
     },
     "ff447792a03a4727a8929c3f91697ae0": {
      "model_module": "@jupyter-widgets/controls",
      "model_module_version": "1.0.0",
      "model_name": "ButtonModel",
      "state": {
       "description": "print axes ranges",
       "layout": "IPY_MODEL_9a0b3f943c234e00a1a9b561b6501020",
       "style": "IPY_MODEL_2a79dfa401c949a59b6432958fb07569",
       "tooltip": "Print the x axis and y axis ranges. Useful to pass to `rect` parameter of heatmap() to zoom in the region automatically."
      }
     },
     "ff776c412b9b4ebe837047240a71f1f1": {
      "model_module": "@jupyter-widgets/controls",
      "model_module_version": "1.0.0",
      "model_name": "ButtonModel",
      "state": {
       "description": "Annotate",
       "layout": "IPY_MODEL_1aceff07744c4442ab914d6ffe4c7528",
       "style": "IPY_MODEL_aba8b415a4a24b819e90e3c9fe6536dc"
      }
     },
     "ff9930cba4944728bc3ab7d67dfe37ba": {
      "model_module": "@jupyter-widgets/controls",
      "model_module_version": "1.0.0",
      "model_name": "DescriptionStyleModel",
      "state": {
       "description_width": ""
      }
     },
     "ffa4c25b4dbb4c18bfd1d769b2463a9d": {
      "model_module": "@jupyter-widgets/controls",
      "model_module_version": "1.0.0",
      "model_name": "DropdownModel",
      "state": {
       "_options_labels": [
        "ori.order",
        "group",
        "new.order",
        "categorical",
        "_calour_original_abundance"
       ],
       "index": 0,
       "layout": "IPY_MODEL_56063088efea414a85ae1a8defc66457",
       "style": "IPY_MODEL_354496bb29d4433ab4ccb97caa24001b"
      }
     },
     "ffb99856481a41c8af1402e46612c9bd": {
      "model_module": "@jupyter-widgets/controls",
      "model_module_version": "1.0.0",
      "model_name": "TextModel",
      "state": {
       "description": "Feature ID",
       "layout": "IPY_MODEL_6a78243a8abb4458b19ae1a0500dab91",
       "placeholder": "Feature ID",
       "style": "IPY_MODEL_99214093a1354cc893fa705705f32128",
       "value": "-"
      }
     },
     "ffbc70be7ab041438df3d5e5ea61d049": {
      "model_module": "@jupyter-widgets/controls",
      "model_module_version": "1.0.0",
      "model_name": "ButtonStyleModel",
      "state": {}
     },
     "fff4cb1692bd4787bc8a886a83220275": {
      "model_module": "@jupyter-widgets/base",
      "model_module_version": "1.0.0",
      "model_name": "LayoutModel",
      "state": {}
     }
    },
    "version_major": 2,
    "version_minor": 0
   }
  }
 },
 "nbformat": 4,
 "nbformat_minor": 1
}
