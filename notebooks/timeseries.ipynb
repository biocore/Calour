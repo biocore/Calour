{
 "cells": [
  {
   "cell_type": "markdown",
   "metadata": {},
   "source": [
    "# Setup\n",
    "## import calour"
   ]
  },
  {
   "cell_type": "code",
   "execution_count": 1,
   "metadata": {
    "collapsed": true
   },
   "outputs": [],
   "source": [
    "import calour as ca"
   ]
  },
  {
   "cell_type": "markdown",
   "metadata": {},
   "source": [
    "## let's set to print messages of INFO level from Calour\n",
    "Calour uses Python's builtin [`logging` module](https://docs.python.org/3.5/library/logging.html#levels) to print out logging messages. By default the logging level is set to `WARNING`. Let's change it to `INFO` for the purpose of this tutorial."
   ]
  },
  {
   "cell_type": "code",
   "execution_count": 2,
   "metadata": {
    "collapsed": false
   },
   "outputs": [],
   "source": [
    "ca.set_log_level('INFO')"
   ]
  },
  {
   "cell_type": "markdown",
   "metadata": {},
   "source": [
    "## and we want interactive plots inside the notebook"
   ]
  },
  {
   "cell_type": "code",
   "execution_count": 3,
   "metadata": {
    "collapsed": true
   },
   "outputs": [],
   "source": [
    "%matplotlib notebook"
   ]
  },
  {
   "cell_type": "markdown",
   "metadata": {},
   "source": [
    "# Time series tutorial 1: Moving picture data set\n",
    "\n",
    "This data set is from:\n",
    "Caporaso JG, Lauber CL, Costello EK, Berg-Lyons D, Gonzalez A, Stombaugh J, Knights D, Gajer P, Ravel J, Fierer N, et al. (2011) Moving pictures of the human microbiome. Genome Biology, 12, R50.\n",
    "\n",
    "The raw data are reproccessed with [deblur method](https://github.com/biocore/deblur), which is published in [mSystem](http://msystems.asm.org/content/2/2/e00191-16)\n",
    "\n",
    "## Load the data\n",
    "\n",
    "We use __`read_amplicon`__ to read the data into __`AmpliconExperiment`__ class. This class has some amplicon experiment specific functions such as `filter_taxonomy` etc.\n",
    "\n",
    "Useful parameters are:\n",
    "- biom table name\n",
    "- mapping file name (can be None if no sample metadata available)\n",
    "- filter_reads - the minimal number of reads per sample in order to keep it\n",
    "- normalize - the depth to normalize each sample to (note it is not rarefaction butn normalization to constant sum)"
   ]
  },
  {
   "cell_type": "code",
   "execution_count": 4,
   "metadata": {
    "collapsed": false
   },
   "outputs": [
    {
     "name": "stdout",
     "output_type": "stream",
     "text": [
      "2017-03-14 15:36:50 INFO loaded 1968 samples, 7056 observations\n",
      "2017-03-14 15:36:51 INFO 1967 remaining\n"
     ]
    }
   ],
   "source": [
    "exp = ca.read_amplicon(data_file='data/moving_pic.biom', sample_metadata_file='data/moving_pic.sample.txt', filter_reads=1000, normalize=10000)"
   ]
  },
  {
   "cell_type": "code",
   "execution_count": 5,
   "metadata": {
    "collapsed": false
   },
   "outputs": [
    {
     "data": {
      "text/plain": [
       "AmpliconExperiment moving_pic.biom with 1967 samples, 7056 features"
      ]
     },
     "execution_count": 5,
     "metadata": {},
     "output_type": "execute_result"
    }
   ],
   "source": [
    "exp"
   ]
  },
  {
   "cell_type": "markdown",
   "metadata": {},
   "source": [
    "## each `Experiment` has the following attributes:\n",
    "### `data` : a data sparse (or dense) 2D array\n",
    "\n",
    "This stores the abundance information. Each row is a sample, each column a feature (i.e. OTU, gene, metabolites, etc)"
   ]
  },
  {
   "cell_type": "code",
   "execution_count": 6,
   "metadata": {
    "collapsed": false
   },
   "outputs": [
    {
     "data": {
      "text/plain": [
       "<1967x7056 sparse matrix of type '<class 'numpy.float64'>'\n",
       "\twith 130081 stored elements in Compressed Sparse Row format>"
      ]
     },
     "execution_count": 6,
     "metadata": {},
     "output_type": "execute_result"
    }
   ],
   "source": [
    "exp.data"
   ]
  },
  {
   "cell_type": "markdown",
   "metadata": {},
   "source": [
    "### `sample_metadata` : a pandas dataframe with one row per sample\n",
    "index is the SampleID (first column in the mapping file), matching the biom table sampleIDs"
   ]
  },
  {
   "cell_type": "code",
   "execution_count": 7,
   "metadata": {
    "collapsed": false
   },
   "outputs": [
    {
     "data": {
      "text/html": [
       "<div>\n",
       "<table border=\"1\" class=\"dataframe\">\n",
       "  <thead>\n",
       "    <tr style=\"text-align: right;\">\n",
       "      <th></th>\n",
       "      <th>#SampleID</th>\n",
       "      <th>BarcodeSequence</th>\n",
       "      <th>LinkerPrimerSequence</th>\n",
       "      <th>DAYS_SINCE_EPOCH</th>\n",
       "      <th>TARGET_SUBFRAGMENT</th>\n",
       "      <th>ASSIGNED_FROM_GEO</th>\n",
       "      <th>EXPERIMENT_CENTER</th>\n",
       "      <th>TITLE</th>\n",
       "      <th>COMMON_SAMPLE_SITE</th>\n",
       "      <th>RUN_PREFIX</th>\n",
       "      <th>...</th>\n",
       "      <th>KEY_SEQ</th>\n",
       "      <th>BODY_PRODUCT</th>\n",
       "      <th>AGE_IN_YEARS</th>\n",
       "      <th>RUN_CENTER</th>\n",
       "      <th>LIBRARY_CONSTRUCTION_PROTOCOL</th>\n",
       "      <th>LATITUDE</th>\n",
       "      <th>REGION</th>\n",
       "      <th>HOST_INDIVIDUAL</th>\n",
       "      <th>Description</th>\n",
       "      <th>_calour_original_abundance</th>\n",
       "    </tr>\n",
       "    <tr>\n",
       "      <th>#SampleID</th>\n",
       "      <th></th>\n",
       "      <th></th>\n",
       "      <th></th>\n",
       "      <th></th>\n",
       "      <th></th>\n",
       "      <th></th>\n",
       "      <th></th>\n",
       "      <th></th>\n",
       "      <th></th>\n",
       "      <th></th>\n",
       "      <th></th>\n",
       "      <th></th>\n",
       "      <th></th>\n",
       "      <th></th>\n",
       "      <th></th>\n",
       "      <th></th>\n",
       "      <th></th>\n",
       "      <th></th>\n",
       "      <th></th>\n",
       "      <th></th>\n",
       "      <th></th>\n",
       "    </tr>\n",
       "  </thead>\n",
       "  <tbody>\n",
       "    <tr>\n",
       "      <th>L2S137.273277</th>\n",
       "      <td>L2S137.273277</td>\n",
       "      <td>AATCAGTCTCGT</td>\n",
       "      <td>GTGCCAGCMGCCGCGGTAA</td>\n",
       "      <td>14223</td>\n",
       "      <td>V4</td>\n",
       "      <td>n</td>\n",
       "      <td>CCME</td>\n",
       "      <td>Moving_pictures_of_the_human_microbiome</td>\n",
       "      <td>L_palm</td>\n",
       "      <td>s_2_sequence</td>\n",
       "      <td>...</td>\n",
       "      <td>none</td>\n",
       "      <td>UBERON:zone of skin of hand</td>\n",
       "      <td>None</td>\n",
       "      <td>CGS-GL</td>\n",
       "      <td>Five primers, two for PCR and three for sequen...</td>\n",
       "      <td>40.014986</td>\n",
       "      <td>L2</td>\n",
       "      <td>F4</td>\n",
       "      <td>illumina_time_series</td>\n",
       "      <td>10000.0</td>\n",
       "    </tr>\n",
       "    <tr>\n",
       "      <th>L3S167.273782</th>\n",
       "      <td>L3S167.273782</td>\n",
       "      <td>TACTTCGCTCGC</td>\n",
       "      <td>GTGCCAGCMGCCGCGGTAA</td>\n",
       "      <td>14526</td>\n",
       "      <td>V4</td>\n",
       "      <td>n</td>\n",
       "      <td>CCME</td>\n",
       "      <td>Moving_pictures_of_the_human_microbiome</td>\n",
       "      <td>L_palm</td>\n",
       "      <td>s_3_sequence</td>\n",
       "      <td>...</td>\n",
       "      <td>none</td>\n",
       "      <td>UBERON:zone of skin of hand</td>\n",
       "      <td>None</td>\n",
       "      <td>CGS-GL</td>\n",
       "      <td>Five primers, two for PCR and three for sequen...</td>\n",
       "      <td>40.014986</td>\n",
       "      <td>L3</td>\n",
       "      <td>M3</td>\n",
       "      <td>illumina_time_series</td>\n",
       "      <td>10000.0</td>\n",
       "    </tr>\n",
       "    <tr>\n",
       "      <th>L4S102.275028</th>\n",
       "      <td>L4S102.275028</td>\n",
       "      <td>GCAATAGCTGCT</td>\n",
       "      <td>GTGCCAGCMGCCGCGGTAA</td>\n",
       "      <td>14310</td>\n",
       "      <td>V4</td>\n",
       "      <td>n</td>\n",
       "      <td>CCME</td>\n",
       "      <td>Moving_pictures_of_the_human_microbiome</td>\n",
       "      <td>R_palm</td>\n",
       "      <td>s_4_sequence</td>\n",
       "      <td>...</td>\n",
       "      <td>none</td>\n",
       "      <td>UBERON:zone of skin of hand</td>\n",
       "      <td>None</td>\n",
       "      <td>CGS-GL</td>\n",
       "      <td>Five primers, two for PCR and three for sequen...</td>\n",
       "      <td>40.014986</td>\n",
       "      <td>L4</td>\n",
       "      <td>M3</td>\n",
       "      <td>illumina_time_series</td>\n",
       "      <td>10000.0</td>\n",
       "    </tr>\n",
       "    <tr>\n",
       "      <th>L6S243.274842</th>\n",
       "      <td>L6S243.274842</td>\n",
       "      <td>ACGAGTGCTATC</td>\n",
       "      <td>GTGCCAGCMGCCGCGGTAA</td>\n",
       "      <td>14507</td>\n",
       "      <td>V4</td>\n",
       "      <td>n</td>\n",
       "      <td>CCME</td>\n",
       "      <td>Moving_pictures_of_the_human_microbiome</td>\n",
       "      <td>Tongue</td>\n",
       "      <td>s_6_sequence</td>\n",
       "      <td>...</td>\n",
       "      <td>none</td>\n",
       "      <td>UBERON:tongue</td>\n",
       "      <td>None</td>\n",
       "      <td>CGS-GL</td>\n",
       "      <td>Five primers, two for PCR and three for sequen...</td>\n",
       "      <td>40.014986</td>\n",
       "      <td>L6</td>\n",
       "      <td>M3</td>\n",
       "      <td>illumina_time_series</td>\n",
       "      <td>10000.0</td>\n",
       "    </tr>\n",
       "    <tr>\n",
       "      <th>L3S240.274358</th>\n",
       "      <td>L3S240.274358</td>\n",
       "      <td>AGTACGCTCGAG</td>\n",
       "      <td>GTGCCAGCMGCCGCGGTAA</td>\n",
       "      <td>14178</td>\n",
       "      <td>V4</td>\n",
       "      <td>n</td>\n",
       "      <td>CCME</td>\n",
       "      <td>Moving_pictures_of_the_human_microbiome</td>\n",
       "      <td>R_palm</td>\n",
       "      <td>s_3_sequence</td>\n",
       "      <td>...</td>\n",
       "      <td>none</td>\n",
       "      <td>UBERON:zone of skin of hand</td>\n",
       "      <td>None</td>\n",
       "      <td>CGS-GL</td>\n",
       "      <td>Five primers, two for PCR and three for sequen...</td>\n",
       "      <td>40.014986</td>\n",
       "      <td>L3</td>\n",
       "      <td>F4</td>\n",
       "      <td>illumina_time_series</td>\n",
       "      <td>10000.0</td>\n",
       "    </tr>\n",
       "  </tbody>\n",
       "</table>\n",
       "<p>5 rows × 49 columns</p>\n",
       "</div>"
      ],
      "text/plain": [
       "                   #SampleID BarcodeSequence LinkerPrimerSequence  \\\n",
       "#SampleID                                                           \n",
       "L2S137.273277  L2S137.273277    AATCAGTCTCGT  GTGCCAGCMGCCGCGGTAA   \n",
       "L3S167.273782  L3S167.273782    TACTTCGCTCGC  GTGCCAGCMGCCGCGGTAA   \n",
       "L4S102.275028  L4S102.275028    GCAATAGCTGCT  GTGCCAGCMGCCGCGGTAA   \n",
       "L6S243.274842  L6S243.274842    ACGAGTGCTATC  GTGCCAGCMGCCGCGGTAA   \n",
       "L3S240.274358  L3S240.274358    AGTACGCTCGAG  GTGCCAGCMGCCGCGGTAA   \n",
       "\n",
       "               DAYS_SINCE_EPOCH TARGET_SUBFRAGMENT ASSIGNED_FROM_GEO  \\\n",
       "#SampleID                                                              \n",
       "L2S137.273277             14223                 V4                 n   \n",
       "L3S167.273782             14526                 V4                 n   \n",
       "L4S102.275028             14310                 V4                 n   \n",
       "L6S243.274842             14507                 V4                 n   \n",
       "L3S240.274358             14178                 V4                 n   \n",
       "\n",
       "              EXPERIMENT_CENTER                                    TITLE  \\\n",
       "#SampleID                                                                  \n",
       "L2S137.273277              CCME  Moving_pictures_of_the_human_microbiome   \n",
       "L3S167.273782              CCME  Moving_pictures_of_the_human_microbiome   \n",
       "L4S102.275028              CCME  Moving_pictures_of_the_human_microbiome   \n",
       "L6S243.274842              CCME  Moving_pictures_of_the_human_microbiome   \n",
       "L3S240.274358              CCME  Moving_pictures_of_the_human_microbiome   \n",
       "\n",
       "              COMMON_SAMPLE_SITE    RUN_PREFIX            ...              \\\n",
       "#SampleID                                                 ...               \n",
       "L2S137.273277             L_palm  s_2_sequence            ...               \n",
       "L3S167.273782             L_palm  s_3_sequence            ...               \n",
       "L4S102.275028             R_palm  s_4_sequence            ...               \n",
       "L6S243.274842             Tongue  s_6_sequence            ...               \n",
       "L3S240.274358             R_palm  s_3_sequence            ...               \n",
       "\n",
       "              KEY_SEQ                 BODY_PRODUCT AGE_IN_YEARS RUN_CENTER  \\\n",
       "#SampleID                                                                    \n",
       "L2S137.273277    none  UBERON:zone of skin of hand         None     CGS-GL   \n",
       "L3S167.273782    none  UBERON:zone of skin of hand         None     CGS-GL   \n",
       "L4S102.275028    none  UBERON:zone of skin of hand         None     CGS-GL   \n",
       "L6S243.274842    none                UBERON:tongue         None     CGS-GL   \n",
       "L3S240.274358    none  UBERON:zone of skin of hand         None     CGS-GL   \n",
       "\n",
       "                                   LIBRARY_CONSTRUCTION_PROTOCOL   LATITUDE  \\\n",
       "#SampleID                                                                     \n",
       "L2S137.273277  Five primers, two for PCR and three for sequen...  40.014986   \n",
       "L3S167.273782  Five primers, two for PCR and three for sequen...  40.014986   \n",
       "L4S102.275028  Five primers, two for PCR and three for sequen...  40.014986   \n",
       "L6S243.274842  Five primers, two for PCR and three for sequen...  40.014986   \n",
       "L3S240.274358  Five primers, two for PCR and three for sequen...  40.014986   \n",
       "\n",
       "               REGION HOST_INDIVIDUAL           Description  \\\n",
       "#SampleID                                                     \n",
       "L2S137.273277      L2              F4  illumina_time_series   \n",
       "L3S167.273782      L3              M3  illumina_time_series   \n",
       "L4S102.275028      L4              M3  illumina_time_series   \n",
       "L6S243.274842      L6              M3  illumina_time_series   \n",
       "L3S240.274358      L3              F4  illumina_time_series   \n",
       "\n",
       "              _calour_original_abundance  \n",
       "#SampleID                                 \n",
       "L2S137.273277                    10000.0  \n",
       "L3S167.273782                    10000.0  \n",
       "L4S102.275028                    10000.0  \n",
       "L6S243.274842                    10000.0  \n",
       "L3S240.274358                    10000.0  \n",
       "\n",
       "[5 rows x 49 columns]"
      ]
     },
     "execution_count": 7,
     "metadata": {},
     "output_type": "execute_result"
    }
   ],
   "source": [
    "exp.sample_metadata.head(5)"
   ]
  },
  {
   "cell_type": "markdown",
   "metadata": {},
   "source": [
    "### `feature_metadata` : a pandas dataframe with one row per feature (i.e. sOTU)\n",
    "For deblurred data set, index is the actual sequence, matching the biom table\n",
    "\n",
    "Additional properties are loaded from biom table observation metadata (i.e. taxonomy)"
   ]
  },
  {
   "cell_type": "code",
   "execution_count": 8,
   "metadata": {
    "collapsed": false
   },
   "outputs": [
    {
     "data": {
      "text/html": [
       "<div>\n",
       "<table border=\"1\" class=\"dataframe\">\n",
       "  <thead>\n",
       "    <tr style=\"text-align: right;\">\n",
       "      <th></th>\n",
       "      <th>id</th>\n",
       "      <th>taxonomy</th>\n",
       "    </tr>\n",
       "  </thead>\n",
       "  <tbody>\n",
       "    <tr>\n",
       "      <th>TACGGAGGATCCGAGCGTTATCCGGATTTATTGGGTTTAAAGGGTGCTTAGGCGGCAAATTAAGTTAGTGGTTAAATAGTTCGGCTCAACCGGATTTCGCCATTAAAACTGATATGCTAGAGATTAAACGAGGTAGGCGGAATAAGTTA</th>\n",
       "      <td>TACGGAGGATCCGAGCGTTATCCGGATTTATTGGGTTTAAAGGGTG...</td>\n",
       "      <td>Bacteria;Bacteroidetes;Bacteroidia;Bacteroidal...</td>\n",
       "    </tr>\n",
       "    <tr>\n",
       "      <th>TACAGAGGTCTCAAGCGTTGTTCGGAATCACTGGGCGTAAAGCGTGCGTAGGCTGTTTCGTAAGTCGTGTGTGAAAGGTGCGGGCTCAACCCGCGGACGGCACATGATACTGCGAGACTAGAGTAATGGAGGGGGAACCGGAATTCTCG</th>\n",
       "      <td>TACAGAGGTCTCAAGCGTTGTTCGGAATCACTGGGCGTAAAGCGTG...</td>\n",
       "      <td>Bacteria;Verrucomicrobia;Verrucomicrobiae;Verr...</td>\n",
       "    </tr>\n",
       "    <tr>\n",
       "      <th>TACGTAGGGTGCGAGCGTTGTCCGGAATTATTGGGCGTAAAGGGCTCGTAGGCGGTTTGTTGCGTCGGGAGTGAAAACTCAGGGCTTAACCCTGAGCCTGCTTCCGATACGGGCAGACTAGAGGTATGCAGGGGAGAACGGAATTCCTG</th>\n",
       "      <td>TACGTAGGGTGCGAGCGTTGTCCGGAATTATTGGGCGTAAAGGGCT...</td>\n",
       "      <td>Bacteria;Actinobacteria;Actinobacteria;Actinom...</td>\n",
       "    </tr>\n",
       "    <tr>\n",
       "      <th>TACGTATGGAGCAAGCGTTATCCGGATTTACTGGGTGTAAAGGGAGTGTAGGTGGCCATGCAAGTCAGAAGTGAAAATCCGGGGCTCAACCCCGGAACTGCTTTTGAAACTGCAGGGCTAGAGTGCAGGAGGGGCAAGTGGAATTCCTA</th>\n",
       "      <td>TACGTATGGAGCAAGCGTTATCCGGATTTACTGGGTGTAAAGGGAG...</td>\n",
       "      <td>Bacteria;Firmicutes;Clostridia;Clostridiales;L...</td>\n",
       "    </tr>\n",
       "    <tr>\n",
       "      <th>TACGTAGGTGGCGAGCGTTATCCGGATTTATTGGGTTTAAAGGGAGCGTAGGCGGCTGATTAAGTCAGCGGTGAAAGGTAGCAGCTTAACTGTTTTACATGCCGTTGATACTGGTTAGCTTGAGTTGACAGAAGGCAGATAGAATTCCT</th>\n",
       "      <td>TACGTAGGTGGCGAGCGTTATCCGGATTTATTGGGTTTAAAGGGAG...</td>\n",
       "      <td>Bacteria;Bacteroidetes;Cytophagia;Cytophagales...</td>\n",
       "    </tr>\n",
       "  </tbody>\n",
       "</table>\n",
       "</div>"
      ],
      "text/plain": [
       "                                                                                                   id  \\\n",
       "TACGGAGGATCCGAGCGTTATCCGGATTTATTGGGTTTAAAGGGTGC...  TACGGAGGATCCGAGCGTTATCCGGATTTATTGGGTTTAAAGGGTG...   \n",
       "TACAGAGGTCTCAAGCGTTGTTCGGAATCACTGGGCGTAAAGCGTGC...  TACAGAGGTCTCAAGCGTTGTTCGGAATCACTGGGCGTAAAGCGTG...   \n",
       "TACGTAGGGTGCGAGCGTTGTCCGGAATTATTGGGCGTAAAGGGCTC...  TACGTAGGGTGCGAGCGTTGTCCGGAATTATTGGGCGTAAAGGGCT...   \n",
       "TACGTATGGAGCAAGCGTTATCCGGATTTACTGGGTGTAAAGGGAGT...  TACGTATGGAGCAAGCGTTATCCGGATTTACTGGGTGTAAAGGGAG...   \n",
       "TACGTAGGTGGCGAGCGTTATCCGGATTTATTGGGTTTAAAGGGAGC...  TACGTAGGTGGCGAGCGTTATCCGGATTTATTGGGTTTAAAGGGAG...   \n",
       "\n",
       "                                                                                             taxonomy  \n",
       "TACGGAGGATCCGAGCGTTATCCGGATTTATTGGGTTTAAAGGGTGC...  Bacteria;Bacteroidetes;Bacteroidia;Bacteroidal...  \n",
       "TACAGAGGTCTCAAGCGTTGTTCGGAATCACTGGGCGTAAAGCGTGC...  Bacteria;Verrucomicrobia;Verrucomicrobiae;Verr...  \n",
       "TACGTAGGGTGCGAGCGTTGTCCGGAATTATTGGGCGTAAAGGGCTC...  Bacteria;Actinobacteria;Actinobacteria;Actinom...  \n",
       "TACGTATGGAGCAAGCGTTATCCGGATTTACTGGGTGTAAAGGGAGT...  Bacteria;Firmicutes;Clostridia;Clostridiales;L...  \n",
       "TACGTAGGTGGCGAGCGTTATCCGGATTTATTGGGTTTAAAGGGAGC...  Bacteria;Bacteroidetes;Cytophagia;Cytophagales...  "
      ]
     },
     "execution_count": 8,
     "metadata": {},
     "output_type": "execute_result"
    }
   ],
   "source": [
    "exp.feature_metadata.head(5)"
   ]
  },
  {
   "cell_type": "markdown",
   "metadata": {},
   "source": [
    "## Analysis"
   ]
  },
  {
   "cell_type": "markdown",
   "metadata": {},
   "source": [
    "### divide to per sample-type experiments\n",
    "what sample types do we have?"
   ]
  },
  {
   "cell_type": "code",
   "execution_count": 9,
   "metadata": {
    "collapsed": false
   },
   "outputs": [
    {
     "data": {
      "text/plain": [
       "UBERON:zone of skin of hand    992\n",
       "UBERON:tongue                  508\n",
       "UBERON:feces                   467\n",
       "Name: BODY_PRODUCT, dtype: int64"
      ]
     },
     "execution_count": 9,
     "metadata": {},
     "output_type": "execute_result"
    }
   ],
   "source": [
    "exp.sample_metadata['BODY_PRODUCT'].value_counts()"
   ]
  },
  {
   "cell_type": "markdown",
   "metadata": {},
   "source": [
    "let's split the dataset:"
   ]
  },
  {
   "cell_type": "code",
   "execution_count": 10,
   "metadata": {
    "collapsed": true
   },
   "outputs": [],
   "source": [
    "feces = exp.filter_samples('BODY_PRODUCT', 'UBERON:feces')\n",
    "tongue = exp.filter_samples('BODY_PRODUCT', 'UBERON:tongue')\n",
    "# just to have fun, let's negate and use multiple values\n",
    "hand = exp.filter_samples('BODY_PRODUCT', ['UBERON:feces', 'UBERON:tongue'], negate=True )"
   ]
  },
  {
   "cell_type": "markdown",
   "metadata": {},
   "source": [
    "__NOTE: The data array and sample and feature metadata are always synchronized to the same order__ for all the manipulations (filtering, sorting, transforming, etc.) done on `Experiment` object."
   ]
  },
  {
   "cell_type": "code",
   "execution_count": 11,
   "metadata": {
    "collapsed": false
   },
   "outputs": [
    {
     "data": {
      "text/plain": [
       "AmpliconExperiment moving_pic.biom with 467 samples, 7056 features"
      ]
     },
     "execution_count": 11,
     "metadata": {},
     "output_type": "execute_result"
    }
   ],
   "source": [
    "feces"
   ]
  },
  {
   "cell_type": "code",
   "execution_count": 12,
   "metadata": {
    "collapsed": false
   },
   "outputs": [
    {
     "data": {
      "text/plain": [
       "AmpliconExperiment moving_pic.biom with 508 samples, 7056 features"
      ]
     },
     "execution_count": 12,
     "metadata": {},
     "output_type": "execute_result"
    }
   ],
   "source": [
    "tongue"
   ]
  },
  {
   "cell_type": "code",
   "execution_count": 13,
   "metadata": {
    "collapsed": false
   },
   "outputs": [
    {
     "data": {
      "text/plain": [
       "AmpliconExperiment moving_pic.biom with 992 samples, 7056 features"
      ]
     },
     "execution_count": 13,
     "metadata": {},
     "output_type": "execute_result"
    }
   ],
   "source": [
    "hand"
   ]
  },
  {
   "cell_type": "markdown",
   "metadata": {},
   "source": [
    "Note that filtering samples does not change or get rid of features not present in the set of samples."
   ]
  },
  {
   "cell_type": "markdown",
   "metadata": {},
   "source": [
    "### cluster the features so that features behaving similarly are sorted close to each other"
   ]
  },
  {
   "cell_type": "code",
   "execution_count": 14,
   "metadata": {
    "collapsed": false
   },
   "outputs": [
    {
     "name": "stdout",
     "output_type": "stream",
     "text": [
      "2017-03-14 15:36:52 INFO 1145 remaining\n"
     ]
    }
   ],
   "source": [
    "# we'll get rid of features will less than 10 total reads over all samples together (they are not interesting and slows clustering)\n",
    "feces = feces.cluster_features(min_abundance=10)"
   ]
  },
  {
   "cell_type": "code",
   "execution_count": 15,
   "metadata": {
    "collapsed": false
   },
   "outputs": [
    {
     "data": {
      "text/plain": [
       "AmpliconExperiment moving_pic.biom with 467 samples, 1145 features"
      ]
     },
     "execution_count": 15,
     "metadata": {},
     "output_type": "execute_result"
    }
   ],
   "source": [
    "feces"
   ]
  },
  {
   "cell_type": "markdown",
   "metadata": {},
   "source": [
    "### since it's a time series - let's sort by the time field\n",
    "order from previous sorting is perseved if a tie (stable sort)"
   ]
  },
  {
   "cell_type": "code",
   "execution_count": 16,
   "metadata": {
    "collapsed": true
   },
   "outputs": [],
   "source": [
    "feces = feces.sort_samples('DAYS_SINCE_EXPERIMENT_START')"
   ]
  },
  {
   "cell_type": "markdown",
   "metadata": {},
   "source": [
    "can also be done inplace as:"
   ]
  },
  {
   "cell_type": "code",
   "execution_count": 17,
   "metadata": {
    "collapsed": false
   },
   "outputs": [
    {
     "data": {
      "text/plain": [
       "AmpliconExperiment moving_pic.biom with 467 samples, 1145 features"
      ]
     },
     "execution_count": 17,
     "metadata": {},
     "output_type": "execute_result"
    }
   ],
   "source": [
    "feces.sort_samples('HOST_SUBJECT_ID', inplace=True)"
   ]
  },
  {
   "cell_type": "markdown",
   "metadata": {},
   "source": [
    "### and now let's plot it.\n",
    "We use the plot_sort shortcut which does a sort on a (set) of fields and then plots.\n",
    "We can specify the type of interactive heatmap using the `gui` with following options:\n",
    "- 'jupyter' plots an interactive plot inside the notebook\n",
    "- 'qt5' opens the plot in an interactive qt5 window\n",
    "- None just creates the static matplotlib figure"
   ]
  },
  {
   "cell_type": "code",
   "execution_count": 18,
   "metadata": {
    "collapsed": false
   },
   "outputs": [
    {
     "data": {
      "application/javascript": [
       "/* Put everything inside the global mpl namespace */\n",
       "window.mpl = {};\n",
       "\n",
       "\n",
       "mpl.get_websocket_type = function() {\n",
       "    if (typeof(WebSocket) !== 'undefined') {\n",
       "        return WebSocket;\n",
       "    } else if (typeof(MozWebSocket) !== 'undefined') {\n",
       "        return MozWebSocket;\n",
       "    } else {\n",
       "        alert('Your browser does not have WebSocket support.' +\n",
       "              'Please try Chrome, Safari or Firefox ≥ 6. ' +\n",
       "              'Firefox 4 and 5 are also supported but you ' +\n",
       "              'have to enable WebSockets in about:config.');\n",
       "    };\n",
       "}\n",
       "\n",
       "mpl.figure = function(figure_id, websocket, ondownload, parent_element) {\n",
       "    this.id = figure_id;\n",
       "\n",
       "    this.ws = websocket;\n",
       "\n",
       "    this.supports_binary = (this.ws.binaryType != undefined);\n",
       "\n",
       "    if (!this.supports_binary) {\n",
       "        var warnings = document.getElementById(\"mpl-warnings\");\n",
       "        if (warnings) {\n",
       "            warnings.style.display = 'block';\n",
       "            warnings.textContent = (\n",
       "                \"This browser does not support binary websocket messages. \" +\n",
       "                    \"Performance may be slow.\");\n",
       "        }\n",
       "    }\n",
       "\n",
       "    this.imageObj = new Image();\n",
       "\n",
       "    this.context = undefined;\n",
       "    this.message = undefined;\n",
       "    this.canvas = undefined;\n",
       "    this.rubberband_canvas = undefined;\n",
       "    this.rubberband_context = undefined;\n",
       "    this.format_dropdown = undefined;\n",
       "\n",
       "    this.image_mode = 'full';\n",
       "\n",
       "    this.root = $('<div/>');\n",
       "    this._root_extra_style(this.root)\n",
       "    this.root.attr('style', 'display: inline-block');\n",
       "\n",
       "    $(parent_element).append(this.root);\n",
       "\n",
       "    this._init_header(this);\n",
       "    this._init_canvas(this);\n",
       "    this._init_toolbar(this);\n",
       "\n",
       "    var fig = this;\n",
       "\n",
       "    this.waiting = false;\n",
       "\n",
       "    this.ws.onopen =  function () {\n",
       "            fig.send_message(\"supports_binary\", {value: fig.supports_binary});\n",
       "            fig.send_message(\"send_image_mode\", {});\n",
       "            if (mpl.ratio != 1) {\n",
       "                fig.send_message(\"set_dpi_ratio\", {'dpi_ratio': mpl.ratio});\n",
       "            }\n",
       "            fig.send_message(\"refresh\", {});\n",
       "        }\n",
       "\n",
       "    this.imageObj.onload = function() {\n",
       "            if (fig.image_mode == 'full') {\n",
       "                // Full images could contain transparency (where diff images\n",
       "                // almost always do), so we need to clear the canvas so that\n",
       "                // there is no ghosting.\n",
       "                fig.context.clearRect(0, 0, fig.canvas.width, fig.canvas.height);\n",
       "            }\n",
       "            fig.context.drawImage(fig.imageObj, 0, 0);\n",
       "        };\n",
       "\n",
       "    this.imageObj.onunload = function() {\n",
       "        this.ws.close();\n",
       "    }\n",
       "\n",
       "    this.ws.onmessage = this._make_on_message_function(this);\n",
       "\n",
       "    this.ondownload = ondownload;\n",
       "}\n",
       "\n",
       "mpl.figure.prototype._init_header = function() {\n",
       "    var titlebar = $(\n",
       "        '<div class=\"ui-dialog-titlebar ui-widget-header ui-corner-all ' +\n",
       "        'ui-helper-clearfix\"/>');\n",
       "    var titletext = $(\n",
       "        '<div class=\"ui-dialog-title\" style=\"width: 100%; ' +\n",
       "        'text-align: center; padding: 3px;\"/>');\n",
       "    titlebar.append(titletext)\n",
       "    this.root.append(titlebar);\n",
       "    this.header = titletext[0];\n",
       "}\n",
       "\n",
       "\n",
       "\n",
       "mpl.figure.prototype._canvas_extra_style = function(canvas_div) {\n",
       "\n",
       "}\n",
       "\n",
       "\n",
       "mpl.figure.prototype._root_extra_style = function(canvas_div) {\n",
       "\n",
       "}\n",
       "\n",
       "mpl.figure.prototype._init_canvas = function() {\n",
       "    var fig = this;\n",
       "\n",
       "    var canvas_div = $('<div/>');\n",
       "\n",
       "    canvas_div.attr('style', 'position: relative; clear: both; outline: 0');\n",
       "\n",
       "    function canvas_keyboard_event(event) {\n",
       "        return fig.key_event(event, event['data']);\n",
       "    }\n",
       "\n",
       "    canvas_div.keydown('key_press', canvas_keyboard_event);\n",
       "    canvas_div.keyup('key_release', canvas_keyboard_event);\n",
       "    this.canvas_div = canvas_div\n",
       "    this._canvas_extra_style(canvas_div)\n",
       "    this.root.append(canvas_div);\n",
       "\n",
       "    var canvas = $('<canvas/>');\n",
       "    canvas.addClass('mpl-canvas');\n",
       "    canvas.attr('style', \"left: 0; top: 0; z-index: 0; outline: 0\")\n",
       "\n",
       "    this.canvas = canvas[0];\n",
       "    this.context = canvas[0].getContext(\"2d\");\n",
       "\n",
       "    var backingStore = this.context.backingStorePixelRatio ||\n",
       "\tthis.context.webkitBackingStorePixelRatio ||\n",
       "\tthis.context.mozBackingStorePixelRatio ||\n",
       "\tthis.context.msBackingStorePixelRatio ||\n",
       "\tthis.context.oBackingStorePixelRatio ||\n",
       "\tthis.context.backingStorePixelRatio || 1;\n",
       "\n",
       "    mpl.ratio = (window.devicePixelRatio || 1) / backingStore;\n",
       "\n",
       "    var rubberband = $('<canvas/>');\n",
       "    rubberband.attr('style', \"position: absolute; left: 0; top: 0; z-index: 1;\")\n",
       "\n",
       "    var pass_mouse_events = true;\n",
       "\n",
       "    canvas_div.resizable({\n",
       "        start: function(event, ui) {\n",
       "            pass_mouse_events = false;\n",
       "        },\n",
       "        resize: function(event, ui) {\n",
       "            fig.request_resize(ui.size.width, ui.size.height);\n",
       "        },\n",
       "        stop: function(event, ui) {\n",
       "            pass_mouse_events = true;\n",
       "            fig.request_resize(ui.size.width, ui.size.height);\n",
       "        },\n",
       "    });\n",
       "\n",
       "    function mouse_event_fn(event) {\n",
       "        if (pass_mouse_events)\n",
       "            return fig.mouse_event(event, event['data']);\n",
       "    }\n",
       "\n",
       "    rubberband.mousedown('button_press', mouse_event_fn);\n",
       "    rubberband.mouseup('button_release', mouse_event_fn);\n",
       "    // Throttle sequential mouse events to 1 every 20ms.\n",
       "    rubberband.mousemove('motion_notify', mouse_event_fn);\n",
       "\n",
       "    rubberband.mouseenter('figure_enter', mouse_event_fn);\n",
       "    rubberband.mouseleave('figure_leave', mouse_event_fn);\n",
       "\n",
       "    canvas_div.on(\"wheel\", function (event) {\n",
       "        event = event.originalEvent;\n",
       "        event['data'] = 'scroll'\n",
       "        if (event.deltaY < 0) {\n",
       "            event.step = 1;\n",
       "        } else {\n",
       "            event.step = -1;\n",
       "        }\n",
       "        mouse_event_fn(event);\n",
       "    });\n",
       "\n",
       "    canvas_div.append(canvas);\n",
       "    canvas_div.append(rubberband);\n",
       "\n",
       "    this.rubberband = rubberband;\n",
       "    this.rubberband_canvas = rubberband[0];\n",
       "    this.rubberband_context = rubberband[0].getContext(\"2d\");\n",
       "    this.rubberband_context.strokeStyle = \"#000000\";\n",
       "\n",
       "    this._resize_canvas = function(width, height) {\n",
       "        // Keep the size of the canvas, canvas container, and rubber band\n",
       "        // canvas in synch.\n",
       "        canvas_div.css('width', width)\n",
       "        canvas_div.css('height', height)\n",
       "\n",
       "        canvas.attr('width', width * mpl.ratio);\n",
       "        canvas.attr('height', height * mpl.ratio);\n",
       "        canvas.attr('style', 'width: ' + width + 'px; height: ' + height + 'px;');\n",
       "\n",
       "        rubberband.attr('width', width);\n",
       "        rubberband.attr('height', height);\n",
       "    }\n",
       "\n",
       "    // Set the figure to an initial 600x600px, this will subsequently be updated\n",
       "    // upon first draw.\n",
       "    this._resize_canvas(600, 600);\n",
       "\n",
       "    // Disable right mouse context menu.\n",
       "    $(this.rubberband_canvas).bind(\"contextmenu\",function(e){\n",
       "        return false;\n",
       "    });\n",
       "\n",
       "    function set_focus () {\n",
       "        canvas.focus();\n",
       "        canvas_div.focus();\n",
       "    }\n",
       "\n",
       "    window.setTimeout(set_focus, 100);\n",
       "}\n",
       "\n",
       "mpl.figure.prototype._init_toolbar = function() {\n",
       "    var fig = this;\n",
       "\n",
       "    var nav_element = $('<div/>')\n",
       "    nav_element.attr('style', 'width: 100%');\n",
       "    this.root.append(nav_element);\n",
       "\n",
       "    // Define a callback function for later on.\n",
       "    function toolbar_event(event) {\n",
       "        return fig.toolbar_button_onclick(event['data']);\n",
       "    }\n",
       "    function toolbar_mouse_event(event) {\n",
       "        return fig.toolbar_button_onmouseover(event['data']);\n",
       "    }\n",
       "\n",
       "    for(var toolbar_ind in mpl.toolbar_items) {\n",
       "        var name = mpl.toolbar_items[toolbar_ind][0];\n",
       "        var tooltip = mpl.toolbar_items[toolbar_ind][1];\n",
       "        var image = mpl.toolbar_items[toolbar_ind][2];\n",
       "        var method_name = mpl.toolbar_items[toolbar_ind][3];\n",
       "\n",
       "        if (!name) {\n",
       "            // put a spacer in here.\n",
       "            continue;\n",
       "        }\n",
       "        var button = $('<button/>');\n",
       "        button.addClass('ui-button ui-widget ui-state-default ui-corner-all ' +\n",
       "                        'ui-button-icon-only');\n",
       "        button.attr('role', 'button');\n",
       "        button.attr('aria-disabled', 'false');\n",
       "        button.click(method_name, toolbar_event);\n",
       "        button.mouseover(tooltip, toolbar_mouse_event);\n",
       "\n",
       "        var icon_img = $('<span/>');\n",
       "        icon_img.addClass('ui-button-icon-primary ui-icon');\n",
       "        icon_img.addClass(image);\n",
       "        icon_img.addClass('ui-corner-all');\n",
       "\n",
       "        var tooltip_span = $('<span/>');\n",
       "        tooltip_span.addClass('ui-button-text');\n",
       "        tooltip_span.html(tooltip);\n",
       "\n",
       "        button.append(icon_img);\n",
       "        button.append(tooltip_span);\n",
       "\n",
       "        nav_element.append(button);\n",
       "    }\n",
       "\n",
       "    var fmt_picker_span = $('<span/>');\n",
       "\n",
       "    var fmt_picker = $('<select/>');\n",
       "    fmt_picker.addClass('mpl-toolbar-option ui-widget ui-widget-content');\n",
       "    fmt_picker_span.append(fmt_picker);\n",
       "    nav_element.append(fmt_picker_span);\n",
       "    this.format_dropdown = fmt_picker[0];\n",
       "\n",
       "    for (var ind in mpl.extensions) {\n",
       "        var fmt = mpl.extensions[ind];\n",
       "        var option = $(\n",
       "            '<option/>', {selected: fmt === mpl.default_extension}).html(fmt);\n",
       "        fmt_picker.append(option)\n",
       "    }\n",
       "\n",
       "    // Add hover states to the ui-buttons\n",
       "    $( \".ui-button\" ).hover(\n",
       "        function() { $(this).addClass(\"ui-state-hover\");},\n",
       "        function() { $(this).removeClass(\"ui-state-hover\");}\n",
       "    );\n",
       "\n",
       "    var status_bar = $('<span class=\"mpl-message\"/>');\n",
       "    nav_element.append(status_bar);\n",
       "    this.message = status_bar[0];\n",
       "}\n",
       "\n",
       "mpl.figure.prototype.request_resize = function(x_pixels, y_pixels) {\n",
       "    // Request matplotlib to resize the figure. Matplotlib will then trigger a resize in the client,\n",
       "    // which will in turn request a refresh of the image.\n",
       "    this.send_message('resize', {'width': x_pixels, 'height': y_pixels});\n",
       "}\n",
       "\n",
       "mpl.figure.prototype.send_message = function(type, properties) {\n",
       "    properties['type'] = type;\n",
       "    properties['figure_id'] = this.id;\n",
       "    this.ws.send(JSON.stringify(properties));\n",
       "}\n",
       "\n",
       "mpl.figure.prototype.send_draw_message = function() {\n",
       "    if (!this.waiting) {\n",
       "        this.waiting = true;\n",
       "        this.ws.send(JSON.stringify({type: \"draw\", figure_id: this.id}));\n",
       "    }\n",
       "}\n",
       "\n",
       "\n",
       "mpl.figure.prototype.handle_save = function(fig, msg) {\n",
       "    var format_dropdown = fig.format_dropdown;\n",
       "    var format = format_dropdown.options[format_dropdown.selectedIndex].value;\n",
       "    fig.ondownload(fig, format);\n",
       "}\n",
       "\n",
       "\n",
       "mpl.figure.prototype.handle_resize = function(fig, msg) {\n",
       "    var size = msg['size'];\n",
       "    if (size[0] != fig.canvas.width || size[1] != fig.canvas.height) {\n",
       "        fig._resize_canvas(size[0], size[1]);\n",
       "        fig.send_message(\"refresh\", {});\n",
       "    };\n",
       "}\n",
       "\n",
       "mpl.figure.prototype.handle_rubberband = function(fig, msg) {\n",
       "    var x0 = msg['x0'] / mpl.ratio;\n",
       "    var y0 = (fig.canvas.height - msg['y0']) / mpl.ratio;\n",
       "    var x1 = msg['x1'] / mpl.ratio;\n",
       "    var y1 = (fig.canvas.height - msg['y1']) / mpl.ratio;\n",
       "    x0 = Math.floor(x0) + 0.5;\n",
       "    y0 = Math.floor(y0) + 0.5;\n",
       "    x1 = Math.floor(x1) + 0.5;\n",
       "    y1 = Math.floor(y1) + 0.5;\n",
       "    var min_x = Math.min(x0, x1);\n",
       "    var min_y = Math.min(y0, y1);\n",
       "    var width = Math.abs(x1 - x0);\n",
       "    var height = Math.abs(y1 - y0);\n",
       "\n",
       "    fig.rubberband_context.clearRect(\n",
       "        0, 0, fig.canvas.width, fig.canvas.height);\n",
       "\n",
       "    fig.rubberband_context.strokeRect(min_x, min_y, width, height);\n",
       "}\n",
       "\n",
       "mpl.figure.prototype.handle_figure_label = function(fig, msg) {\n",
       "    // Updates the figure title.\n",
       "    fig.header.textContent = msg['label'];\n",
       "}\n",
       "\n",
       "mpl.figure.prototype.handle_cursor = function(fig, msg) {\n",
       "    var cursor = msg['cursor'];\n",
       "    switch(cursor)\n",
       "    {\n",
       "    case 0:\n",
       "        cursor = 'pointer';\n",
       "        break;\n",
       "    case 1:\n",
       "        cursor = 'default';\n",
       "        break;\n",
       "    case 2:\n",
       "        cursor = 'crosshair';\n",
       "        break;\n",
       "    case 3:\n",
       "        cursor = 'move';\n",
       "        break;\n",
       "    }\n",
       "    fig.rubberband_canvas.style.cursor = cursor;\n",
       "}\n",
       "\n",
       "mpl.figure.prototype.handle_message = function(fig, msg) {\n",
       "    fig.message.textContent = msg['message'];\n",
       "}\n",
       "\n",
       "mpl.figure.prototype.handle_draw = function(fig, msg) {\n",
       "    // Request the server to send over a new figure.\n",
       "    fig.send_draw_message();\n",
       "}\n",
       "\n",
       "mpl.figure.prototype.handle_image_mode = function(fig, msg) {\n",
       "    fig.image_mode = msg['mode'];\n",
       "}\n",
       "\n",
       "mpl.figure.prototype.updated_canvas_event = function() {\n",
       "    // Called whenever the canvas gets updated.\n",
       "    this.send_message(\"ack\", {});\n",
       "}\n",
       "\n",
       "// A function to construct a web socket function for onmessage handling.\n",
       "// Called in the figure constructor.\n",
       "mpl.figure.prototype._make_on_message_function = function(fig) {\n",
       "    return function socket_on_message(evt) {\n",
       "        if (evt.data instanceof Blob) {\n",
       "            /* FIXME: We get \"Resource interpreted as Image but\n",
       "             * transferred with MIME type text/plain:\" errors on\n",
       "             * Chrome.  But how to set the MIME type?  It doesn't seem\n",
       "             * to be part of the websocket stream */\n",
       "            evt.data.type = \"image/png\";\n",
       "\n",
       "            /* Free the memory for the previous frames */\n",
       "            if (fig.imageObj.src) {\n",
       "                (window.URL || window.webkitURL).revokeObjectURL(\n",
       "                    fig.imageObj.src);\n",
       "            }\n",
       "\n",
       "            fig.imageObj.src = (window.URL || window.webkitURL).createObjectURL(\n",
       "                evt.data);\n",
       "            fig.updated_canvas_event();\n",
       "            fig.waiting = false;\n",
       "            return;\n",
       "        }\n",
       "        else if (typeof evt.data === 'string' && evt.data.slice(0, 21) == \"data:image/png;base64\") {\n",
       "            fig.imageObj.src = evt.data;\n",
       "            fig.updated_canvas_event();\n",
       "            fig.waiting = false;\n",
       "            return;\n",
       "        }\n",
       "\n",
       "        var msg = JSON.parse(evt.data);\n",
       "        var msg_type = msg['type'];\n",
       "\n",
       "        // Call the  \"handle_{type}\" callback, which takes\n",
       "        // the figure and JSON message as its only arguments.\n",
       "        try {\n",
       "            var callback = fig[\"handle_\" + msg_type];\n",
       "        } catch (e) {\n",
       "            console.log(\"No handler for the '\" + msg_type + \"' message type: \", msg);\n",
       "            return;\n",
       "        }\n",
       "\n",
       "        if (callback) {\n",
       "            try {\n",
       "                // console.log(\"Handling '\" + msg_type + \"' message: \", msg);\n",
       "                callback(fig, msg);\n",
       "            } catch (e) {\n",
       "                console.log(\"Exception inside the 'handler_\" + msg_type + \"' callback:\", e, e.stack, msg);\n",
       "            }\n",
       "        }\n",
       "    };\n",
       "}\n",
       "\n",
       "// from http://stackoverflow.com/questions/1114465/getting-mouse-location-in-canvas\n",
       "mpl.findpos = function(e) {\n",
       "    //this section is from http://www.quirksmode.org/js/events_properties.html\n",
       "    var targ;\n",
       "    if (!e)\n",
       "        e = window.event;\n",
       "    if (e.target)\n",
       "        targ = e.target;\n",
       "    else if (e.srcElement)\n",
       "        targ = e.srcElement;\n",
       "    if (targ.nodeType == 3) // defeat Safari bug\n",
       "        targ = targ.parentNode;\n",
       "\n",
       "    // jQuery normalizes the pageX and pageY\n",
       "    // pageX,Y are the mouse positions relative to the document\n",
       "    // offset() returns the position of the element relative to the document\n",
       "    var x = e.pageX - $(targ).offset().left;\n",
       "    var y = e.pageY - $(targ).offset().top;\n",
       "\n",
       "    return {\"x\": x, \"y\": y};\n",
       "};\n",
       "\n",
       "/*\n",
       " * return a copy of an object with only non-object keys\n",
       " * we need this to avoid circular references\n",
       " * http://stackoverflow.com/a/24161582/3208463\n",
       " */\n",
       "function simpleKeys (original) {\n",
       "  return Object.keys(original).reduce(function (obj, key) {\n",
       "    if (typeof original[key] !== 'object')\n",
       "        obj[key] = original[key]\n",
       "    return obj;\n",
       "  }, {});\n",
       "}\n",
       "\n",
       "mpl.figure.prototype.mouse_event = function(event, name) {\n",
       "    var canvas_pos = mpl.findpos(event)\n",
       "\n",
       "    if (name === 'button_press')\n",
       "    {\n",
       "        this.canvas.focus();\n",
       "        this.canvas_div.focus();\n",
       "    }\n",
       "\n",
       "    var x = canvas_pos.x * mpl.ratio;\n",
       "    var y = canvas_pos.y * mpl.ratio;\n",
       "\n",
       "    this.send_message(name, {x: x, y: y, button: event.button,\n",
       "                             step: event.step,\n",
       "                             guiEvent: simpleKeys(event)});\n",
       "\n",
       "    /* This prevents the web browser from automatically changing to\n",
       "     * the text insertion cursor when the button is pressed.  We want\n",
       "     * to control all of the cursor setting manually through the\n",
       "     * 'cursor' event from matplotlib */\n",
       "    event.preventDefault();\n",
       "    return false;\n",
       "}\n",
       "\n",
       "mpl.figure.prototype._key_event_extra = function(event, name) {\n",
       "    // Handle any extra behaviour associated with a key event\n",
       "}\n",
       "\n",
       "mpl.figure.prototype.key_event = function(event, name) {\n",
       "\n",
       "    // Prevent repeat events\n",
       "    if (name == 'key_press')\n",
       "    {\n",
       "        if (event.which === this._key)\n",
       "            return;\n",
       "        else\n",
       "            this._key = event.which;\n",
       "    }\n",
       "    if (name == 'key_release')\n",
       "        this._key = null;\n",
       "\n",
       "    var value = '';\n",
       "    if (event.ctrlKey && event.which != 17)\n",
       "        value += \"ctrl+\";\n",
       "    if (event.altKey && event.which != 18)\n",
       "        value += \"alt+\";\n",
       "    if (event.shiftKey && event.which != 16)\n",
       "        value += \"shift+\";\n",
       "\n",
       "    value += 'k';\n",
       "    value += event.which.toString();\n",
       "\n",
       "    this._key_event_extra(event, name);\n",
       "\n",
       "    this.send_message(name, {key: value,\n",
       "                             guiEvent: simpleKeys(event)});\n",
       "    return false;\n",
       "}\n",
       "\n",
       "mpl.figure.prototype.toolbar_button_onclick = function(name) {\n",
       "    if (name == 'download') {\n",
       "        this.handle_save(this, null);\n",
       "    } else {\n",
       "        this.send_message(\"toolbar_button\", {name: name});\n",
       "    }\n",
       "};\n",
       "\n",
       "mpl.figure.prototype.toolbar_button_onmouseover = function(tooltip) {\n",
       "    this.message.textContent = tooltip;\n",
       "};\n",
       "mpl.toolbar_items = [[\"Home\", \"Reset original view\", \"fa fa-home icon-home\", \"home\"], [\"Back\", \"Back to  previous view\", \"fa fa-arrow-left icon-arrow-left\", \"back\"], [\"Forward\", \"Forward to next view\", \"fa fa-arrow-right icon-arrow-right\", \"forward\"], [\"\", \"\", \"\", \"\"], [\"Pan\", \"Pan axes with left mouse, zoom with right\", \"fa fa-arrows icon-move\", \"pan\"], [\"Zoom\", \"Zoom to rectangle\", \"fa fa-square-o icon-check-empty\", \"zoom\"], [\"\", \"\", \"\", \"\"], [\"Download\", \"Download plot\", \"fa fa-floppy-o icon-save\", \"download\"]];\n",
       "\n",
       "mpl.extensions = [\"eps\", \"pdf\", \"png\", \"ps\", \"raw\", \"svg\"];\n",
       "\n",
       "mpl.default_extension = \"png\";var comm_websocket_adapter = function(comm) {\n",
       "    // Create a \"websocket\"-like object which calls the given IPython comm\n",
       "    // object with the appropriate methods. Currently this is a non binary\n",
       "    // socket, so there is still some room for performance tuning.\n",
       "    var ws = {};\n",
       "\n",
       "    ws.close = function() {\n",
       "        comm.close()\n",
       "    };\n",
       "    ws.send = function(m) {\n",
       "        //console.log('sending', m);\n",
       "        comm.send(m);\n",
       "    };\n",
       "    // Register the callback with on_msg.\n",
       "    comm.on_msg(function(msg) {\n",
       "        //console.log('receiving', msg['content']['data'], msg);\n",
       "        // Pass the mpl event to the overriden (by mpl) onmessage function.\n",
       "        ws.onmessage(msg['content']['data'])\n",
       "    });\n",
       "    return ws;\n",
       "}\n",
       "\n",
       "mpl.mpl_figure_comm = function(comm, msg) {\n",
       "    // This is the function which gets called when the mpl process\n",
       "    // starts-up an IPython Comm through the \"matplotlib\" channel.\n",
       "\n",
       "    var id = msg.content.data.id;\n",
       "    // Get hold of the div created by the display call when the Comm\n",
       "    // socket was opened in Python.\n",
       "    var element = $(\"#\" + id);\n",
       "    var ws_proxy = comm_websocket_adapter(comm)\n",
       "\n",
       "    function ondownload(figure, format) {\n",
       "        window.open(figure.imageObj.src);\n",
       "    }\n",
       "\n",
       "    var fig = new mpl.figure(id, ws_proxy,\n",
       "                           ondownload,\n",
       "                           element.get(0));\n",
       "\n",
       "    // Call onopen now - mpl needs it, as it is assuming we've passed it a real\n",
       "    // web socket which is closed, not our websocket->open comm proxy.\n",
       "    ws_proxy.onopen();\n",
       "\n",
       "    fig.parent_element = element.get(0);\n",
       "    fig.cell_info = mpl.find_output_cell(\"<div id='\" + id + \"'></div>\");\n",
       "    if (!fig.cell_info) {\n",
       "        console.error(\"Failed to find cell for figure\", id, fig);\n",
       "        return;\n",
       "    }\n",
       "\n",
       "    var output_index = fig.cell_info[2]\n",
       "    var cell = fig.cell_info[0];\n",
       "\n",
       "};\n",
       "\n",
       "mpl.figure.prototype.handle_close = function(fig, msg) {\n",
       "    var width = fig.canvas.width/mpl.ratio\n",
       "    fig.root.unbind('remove')\n",
       "\n",
       "    // Update the output cell to use the data from the current canvas.\n",
       "    fig.push_to_output();\n",
       "    var dataURL = fig.canvas.toDataURL();\n",
       "    // Re-enable the keyboard manager in IPython - without this line, in FF,\n",
       "    // the notebook keyboard shortcuts fail.\n",
       "    IPython.keyboard_manager.enable()\n",
       "    $(fig.parent_element).html('<img src=\"' + dataURL + '\" width=\"' + width + '\">');\n",
       "    fig.close_ws(fig, msg);\n",
       "}\n",
       "\n",
       "mpl.figure.prototype.close_ws = function(fig, msg){\n",
       "    fig.send_message('closing', msg);\n",
       "    // fig.ws.close()\n",
       "}\n",
       "\n",
       "mpl.figure.prototype.push_to_output = function(remove_interactive) {\n",
       "    // Turn the data on the canvas into data in the output cell.\n",
       "    var width = this.canvas.width/mpl.ratio\n",
       "    var dataURL = this.canvas.toDataURL();\n",
       "    this.cell_info[1]['text/html'] = '<img src=\"' + dataURL + '\" width=\"' + width + '\">';\n",
       "}\n",
       "\n",
       "mpl.figure.prototype.updated_canvas_event = function() {\n",
       "    // Tell IPython that the notebook contents must change.\n",
       "    IPython.notebook.set_dirty(true);\n",
       "    this.send_message(\"ack\", {});\n",
       "    var fig = this;\n",
       "    // Wait a second, then push the new image to the DOM so\n",
       "    // that it is saved nicely (might be nice to debounce this).\n",
       "    setTimeout(function () { fig.push_to_output() }, 1000);\n",
       "}\n",
       "\n",
       "mpl.figure.prototype._init_toolbar = function() {\n",
       "    var fig = this;\n",
       "\n",
       "    var nav_element = $('<div/>')\n",
       "    nav_element.attr('style', 'width: 100%');\n",
       "    this.root.append(nav_element);\n",
       "\n",
       "    // Define a callback function for later on.\n",
       "    function toolbar_event(event) {\n",
       "        return fig.toolbar_button_onclick(event['data']);\n",
       "    }\n",
       "    function toolbar_mouse_event(event) {\n",
       "        return fig.toolbar_button_onmouseover(event['data']);\n",
       "    }\n",
       "\n",
       "    for(var toolbar_ind in mpl.toolbar_items){\n",
       "        var name = mpl.toolbar_items[toolbar_ind][0];\n",
       "        var tooltip = mpl.toolbar_items[toolbar_ind][1];\n",
       "        var image = mpl.toolbar_items[toolbar_ind][2];\n",
       "        var method_name = mpl.toolbar_items[toolbar_ind][3];\n",
       "\n",
       "        if (!name) { continue; };\n",
       "\n",
       "        var button = $('<button class=\"btn btn-default\" href=\"#\" title=\"' + name + '\"><i class=\"fa ' + image + ' fa-lg\"></i></button>');\n",
       "        button.click(method_name, toolbar_event);\n",
       "        button.mouseover(tooltip, toolbar_mouse_event);\n",
       "        nav_element.append(button);\n",
       "    }\n",
       "\n",
       "    // Add the status bar.\n",
       "    var status_bar = $('<span class=\"mpl-message\" style=\"text-align:right; float: right;\"/>');\n",
       "    nav_element.append(status_bar);\n",
       "    this.message = status_bar[0];\n",
       "\n",
       "    // Add the close button to the window.\n",
       "    var buttongrp = $('<div class=\"btn-group inline pull-right\"></div>');\n",
       "    var button = $('<button class=\"btn btn-mini btn-primary\" href=\"#\" title=\"Stop Interaction\"><i class=\"fa fa-power-off icon-remove icon-large\"></i></button>');\n",
       "    button.click(function (evt) { fig.handle_close(fig, {}); } );\n",
       "    button.mouseover('Stop Interaction', toolbar_mouse_event);\n",
       "    buttongrp.append(button);\n",
       "    var titlebar = this.root.find($('.ui-dialog-titlebar'));\n",
       "    titlebar.prepend(buttongrp);\n",
       "}\n",
       "\n",
       "mpl.figure.prototype._root_extra_style = function(el){\n",
       "    var fig = this\n",
       "    el.on(\"remove\", function(){\n",
       "\tfig.close_ws(fig, {});\n",
       "    });\n",
       "}\n",
       "\n",
       "mpl.figure.prototype._canvas_extra_style = function(el){\n",
       "    // this is important to make the div 'focusable\n",
       "    el.attr('tabindex', 0)\n",
       "    // reach out to IPython and tell the keyboard manager to turn it's self\n",
       "    // off when our div gets focus\n",
       "\n",
       "    // location in version 3\n",
       "    if (IPython.notebook.keyboard_manager) {\n",
       "        IPython.notebook.keyboard_manager.register_events(el);\n",
       "    }\n",
       "    else {\n",
       "        // location in version 2\n",
       "        IPython.keyboard_manager.register_events(el);\n",
       "    }\n",
       "\n",
       "}\n",
       "\n",
       "mpl.figure.prototype._key_event_extra = function(event, name) {\n",
       "    var manager = IPython.notebook.keyboard_manager;\n",
       "    if (!manager)\n",
       "        manager = IPython.keyboard_manager;\n",
       "\n",
       "    // Check for shift+enter\n",
       "    if (event.shiftKey && event.which == 13) {\n",
       "        this.canvas_div.blur();\n",
       "        // select the cell after this one\n",
       "        var index = IPython.notebook.find_cell_index(this.cell_info[0]);\n",
       "        IPython.notebook.select(index + 1);\n",
       "    }\n",
       "}\n",
       "\n",
       "mpl.figure.prototype.handle_save = function(fig, msg) {\n",
       "    fig.ondownload(fig, null);\n",
       "}\n",
       "\n",
       "\n",
       "mpl.find_output_cell = function(html_output) {\n",
       "    // Return the cell and output element which can be found *uniquely* in the notebook.\n",
       "    // Note - this is a bit hacky, but it is done because the \"notebook_saving.Notebook\"\n",
       "    // IPython event is triggered only after the cells have been serialised, which for\n",
       "    // our purposes (turning an active figure into a static one), is too late.\n",
       "    var cells = IPython.notebook.get_cells();\n",
       "    var ncells = cells.length;\n",
       "    for (var i=0; i<ncells; i++) {\n",
       "        var cell = cells[i];\n",
       "        if (cell.cell_type === 'code'){\n",
       "            for (var j=0; j<cell.output_area.outputs.length; j++) {\n",
       "                var data = cell.output_area.outputs[j];\n",
       "                if (data.data) {\n",
       "                    // IPython >= 3 moved mimebundle to data attribute of output\n",
       "                    data = data.data;\n",
       "                }\n",
       "                if (data['text/html'] == html_output) {\n",
       "                    return [cell, data, j];\n",
       "                }\n",
       "            }\n",
       "        }\n",
       "    }\n",
       "}\n",
       "\n",
       "// Register the function which deals with the matplotlib target/channel.\n",
       "// The kernel may be null if the page has been refreshed.\n",
       "if (IPython.notebook.kernel != null) {\n",
       "    IPython.notebook.kernel.comm_manager.register_target('matplotlib', mpl.mpl_figure_comm);\n",
       "}\n"
      ],
      "text/plain": [
       "<IPython.core.display.Javascript object>"
      ]
     },
     "metadata": {},
     "output_type": "display_data"
    },
    {
     "data": {
      "text/html": [
       "<img src=\"data:image/png;base64,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\" width=\"639.6499809369451\">"
      ],
      "text/plain": [
       "<IPython.core.display.HTML object>"
      ]
     },
     "metadata": {},
     "output_type": "display_data"
    }
   ],
   "source": [
    "feces.plot(sample_field='HOST_SUBJECT_ID', feature_field=None, gui='jupyter')"
   ]
  },
  {
   "cell_type": "markdown",
   "metadata": {},
   "source": [
    "__We can see there is a set of sOTUs showing up in together in the individual of \"M3\" sporadically__ (near the bottom of the heatmap above). This behavior is difficult to see in a naive heatmap without clustering and sorting the features."
   ]
  },
  {
   "cell_type": "markdown",
   "metadata": {},
   "source": [
    "### Let's look at bacteria that are more abundance (mean abundance at least 0.1%)"
   ]
  },
  {
   "cell_type": "code",
   "execution_count": 19,
   "metadata": {
    "collapsed": false
   },
   "outputs": [
    {
     "name": "stdout",
     "output_type": "stream",
     "text": [
      "2017-03-14 15:36:53 INFO 114 remaining\n"
     ]
    }
   ],
   "source": [
    "tt=feces.filter_mean(0.001)"
   ]
  },
  {
   "cell_type": "markdown",
   "metadata": {},
   "source": [
    "and let's do Qt gui to test the enrichment of the strange sporadic bacteria"
   ]
  },
  {
   "cell_type": "code",
   "execution_count": 20,
   "metadata": {
    "collapsed": false
   },
   "outputs": [],
   "source": [
    "#tt.plot(sample_field='HOST_SUBJECT_ID', gui='qt5')"
   ]
  },
  {
   "cell_type": "markdown",
   "metadata": {},
   "source": [
    "### Some more analyses\n",
    "We can sort the features based on abundance in a specific field/value group. For example, let's sort the features by their abundances in the individual \"M3\" and then look how abundant those bacteria are in the individual \"F4\":"
   ]
  },
  {
   "cell_type": "code",
   "execution_count": 21,
   "metadata": {
    "collapsed": false
   },
   "outputs": [],
   "source": [
    "tt = feces.sort_abundance({'HOST_SUBJECT_ID': ['M3']})"
   ]
  },
  {
   "cell_type": "code",
   "execution_count": 22,
   "metadata": {
    "collapsed": false
   },
   "outputs": [
    {
     "data": {
      "application/javascript": [
       "/* Put everything inside the global mpl namespace */\n",
       "window.mpl = {};\n",
       "\n",
       "\n",
       "mpl.get_websocket_type = function() {\n",
       "    if (typeof(WebSocket) !== 'undefined') {\n",
       "        return WebSocket;\n",
       "    } else if (typeof(MozWebSocket) !== 'undefined') {\n",
       "        return MozWebSocket;\n",
       "    } else {\n",
       "        alert('Your browser does not have WebSocket support.' +\n",
       "              'Please try Chrome, Safari or Firefox ≥ 6. ' +\n",
       "              'Firefox 4 and 5 are also supported but you ' +\n",
       "              'have to enable WebSockets in about:config.');\n",
       "    };\n",
       "}\n",
       "\n",
       "mpl.figure = function(figure_id, websocket, ondownload, parent_element) {\n",
       "    this.id = figure_id;\n",
       "\n",
       "    this.ws = websocket;\n",
       "\n",
       "    this.supports_binary = (this.ws.binaryType != undefined);\n",
       "\n",
       "    if (!this.supports_binary) {\n",
       "        var warnings = document.getElementById(\"mpl-warnings\");\n",
       "        if (warnings) {\n",
       "            warnings.style.display = 'block';\n",
       "            warnings.textContent = (\n",
       "                \"This browser does not support binary websocket messages. \" +\n",
       "                    \"Performance may be slow.\");\n",
       "        }\n",
       "    }\n",
       "\n",
       "    this.imageObj = new Image();\n",
       "\n",
       "    this.context = undefined;\n",
       "    this.message = undefined;\n",
       "    this.canvas = undefined;\n",
       "    this.rubberband_canvas = undefined;\n",
       "    this.rubberband_context = undefined;\n",
       "    this.format_dropdown = undefined;\n",
       "\n",
       "    this.image_mode = 'full';\n",
       "\n",
       "    this.root = $('<div/>');\n",
       "    this._root_extra_style(this.root)\n",
       "    this.root.attr('style', 'display: inline-block');\n",
       "\n",
       "    $(parent_element).append(this.root);\n",
       "\n",
       "    this._init_header(this);\n",
       "    this._init_canvas(this);\n",
       "    this._init_toolbar(this);\n",
       "\n",
       "    var fig = this;\n",
       "\n",
       "    this.waiting = false;\n",
       "\n",
       "    this.ws.onopen =  function () {\n",
       "            fig.send_message(\"supports_binary\", {value: fig.supports_binary});\n",
       "            fig.send_message(\"send_image_mode\", {});\n",
       "            if (mpl.ratio != 1) {\n",
       "                fig.send_message(\"set_dpi_ratio\", {'dpi_ratio': mpl.ratio});\n",
       "            }\n",
       "            fig.send_message(\"refresh\", {});\n",
       "        }\n",
       "\n",
       "    this.imageObj.onload = function() {\n",
       "            if (fig.image_mode == 'full') {\n",
       "                // Full images could contain transparency (where diff images\n",
       "                // almost always do), so we need to clear the canvas so that\n",
       "                // there is no ghosting.\n",
       "                fig.context.clearRect(0, 0, fig.canvas.width, fig.canvas.height);\n",
       "            }\n",
       "            fig.context.drawImage(fig.imageObj, 0, 0);\n",
       "        };\n",
       "\n",
       "    this.imageObj.onunload = function() {\n",
       "        this.ws.close();\n",
       "    }\n",
       "\n",
       "    this.ws.onmessage = this._make_on_message_function(this);\n",
       "\n",
       "    this.ondownload = ondownload;\n",
       "}\n",
       "\n",
       "mpl.figure.prototype._init_header = function() {\n",
       "    var titlebar = $(\n",
       "        '<div class=\"ui-dialog-titlebar ui-widget-header ui-corner-all ' +\n",
       "        'ui-helper-clearfix\"/>');\n",
       "    var titletext = $(\n",
       "        '<div class=\"ui-dialog-title\" style=\"width: 100%; ' +\n",
       "        'text-align: center; padding: 3px;\"/>');\n",
       "    titlebar.append(titletext)\n",
       "    this.root.append(titlebar);\n",
       "    this.header = titletext[0];\n",
       "}\n",
       "\n",
       "\n",
       "\n",
       "mpl.figure.prototype._canvas_extra_style = function(canvas_div) {\n",
       "\n",
       "}\n",
       "\n",
       "\n",
       "mpl.figure.prototype._root_extra_style = function(canvas_div) {\n",
       "\n",
       "}\n",
       "\n",
       "mpl.figure.prototype._init_canvas = function() {\n",
       "    var fig = this;\n",
       "\n",
       "    var canvas_div = $('<div/>');\n",
       "\n",
       "    canvas_div.attr('style', 'position: relative; clear: both; outline: 0');\n",
       "\n",
       "    function canvas_keyboard_event(event) {\n",
       "        return fig.key_event(event, event['data']);\n",
       "    }\n",
       "\n",
       "    canvas_div.keydown('key_press', canvas_keyboard_event);\n",
       "    canvas_div.keyup('key_release', canvas_keyboard_event);\n",
       "    this.canvas_div = canvas_div\n",
       "    this._canvas_extra_style(canvas_div)\n",
       "    this.root.append(canvas_div);\n",
       "\n",
       "    var canvas = $('<canvas/>');\n",
       "    canvas.addClass('mpl-canvas');\n",
       "    canvas.attr('style', \"left: 0; top: 0; z-index: 0; outline: 0\")\n",
       "\n",
       "    this.canvas = canvas[0];\n",
       "    this.context = canvas[0].getContext(\"2d\");\n",
       "\n",
       "    var backingStore = this.context.backingStorePixelRatio ||\n",
       "\tthis.context.webkitBackingStorePixelRatio ||\n",
       "\tthis.context.mozBackingStorePixelRatio ||\n",
       "\tthis.context.msBackingStorePixelRatio ||\n",
       "\tthis.context.oBackingStorePixelRatio ||\n",
       "\tthis.context.backingStorePixelRatio || 1;\n",
       "\n",
       "    mpl.ratio = (window.devicePixelRatio || 1) / backingStore;\n",
       "\n",
       "    var rubberband = $('<canvas/>');\n",
       "    rubberband.attr('style', \"position: absolute; left: 0; top: 0; z-index: 1;\")\n",
       "\n",
       "    var pass_mouse_events = true;\n",
       "\n",
       "    canvas_div.resizable({\n",
       "        start: function(event, ui) {\n",
       "            pass_mouse_events = false;\n",
       "        },\n",
       "        resize: function(event, ui) {\n",
       "            fig.request_resize(ui.size.width, ui.size.height);\n",
       "        },\n",
       "        stop: function(event, ui) {\n",
       "            pass_mouse_events = true;\n",
       "            fig.request_resize(ui.size.width, ui.size.height);\n",
       "        },\n",
       "    });\n",
       "\n",
       "    function mouse_event_fn(event) {\n",
       "        if (pass_mouse_events)\n",
       "            return fig.mouse_event(event, event['data']);\n",
       "    }\n",
       "\n",
       "    rubberband.mousedown('button_press', mouse_event_fn);\n",
       "    rubberband.mouseup('button_release', mouse_event_fn);\n",
       "    // Throttle sequential mouse events to 1 every 20ms.\n",
       "    rubberband.mousemove('motion_notify', mouse_event_fn);\n",
       "\n",
       "    rubberband.mouseenter('figure_enter', mouse_event_fn);\n",
       "    rubberband.mouseleave('figure_leave', mouse_event_fn);\n",
       "\n",
       "    canvas_div.on(\"wheel\", function (event) {\n",
       "        event = event.originalEvent;\n",
       "        event['data'] = 'scroll'\n",
       "        if (event.deltaY < 0) {\n",
       "            event.step = 1;\n",
       "        } else {\n",
       "            event.step = -1;\n",
       "        }\n",
       "        mouse_event_fn(event);\n",
       "    });\n",
       "\n",
       "    canvas_div.append(canvas);\n",
       "    canvas_div.append(rubberband);\n",
       "\n",
       "    this.rubberband = rubberband;\n",
       "    this.rubberband_canvas = rubberband[0];\n",
       "    this.rubberband_context = rubberband[0].getContext(\"2d\");\n",
       "    this.rubberband_context.strokeStyle = \"#000000\";\n",
       "\n",
       "    this._resize_canvas = function(width, height) {\n",
       "        // Keep the size of the canvas, canvas container, and rubber band\n",
       "        // canvas in synch.\n",
       "        canvas_div.css('width', width)\n",
       "        canvas_div.css('height', height)\n",
       "\n",
       "        canvas.attr('width', width * mpl.ratio);\n",
       "        canvas.attr('height', height * mpl.ratio);\n",
       "        canvas.attr('style', 'width: ' + width + 'px; height: ' + height + 'px;');\n",
       "\n",
       "        rubberband.attr('width', width);\n",
       "        rubberband.attr('height', height);\n",
       "    }\n",
       "\n",
       "    // Set the figure to an initial 600x600px, this will subsequently be updated\n",
       "    // upon first draw.\n",
       "    this._resize_canvas(600, 600);\n",
       "\n",
       "    // Disable right mouse context menu.\n",
       "    $(this.rubberband_canvas).bind(\"contextmenu\",function(e){\n",
       "        return false;\n",
       "    });\n",
       "\n",
       "    function set_focus () {\n",
       "        canvas.focus();\n",
       "        canvas_div.focus();\n",
       "    }\n",
       "\n",
       "    window.setTimeout(set_focus, 100);\n",
       "}\n",
       "\n",
       "mpl.figure.prototype._init_toolbar = function() {\n",
       "    var fig = this;\n",
       "\n",
       "    var nav_element = $('<div/>')\n",
       "    nav_element.attr('style', 'width: 100%');\n",
       "    this.root.append(nav_element);\n",
       "\n",
       "    // Define a callback function for later on.\n",
       "    function toolbar_event(event) {\n",
       "        return fig.toolbar_button_onclick(event['data']);\n",
       "    }\n",
       "    function toolbar_mouse_event(event) {\n",
       "        return fig.toolbar_button_onmouseover(event['data']);\n",
       "    }\n",
       "\n",
       "    for(var toolbar_ind in mpl.toolbar_items) {\n",
       "        var name = mpl.toolbar_items[toolbar_ind][0];\n",
       "        var tooltip = mpl.toolbar_items[toolbar_ind][1];\n",
       "        var image = mpl.toolbar_items[toolbar_ind][2];\n",
       "        var method_name = mpl.toolbar_items[toolbar_ind][3];\n",
       "\n",
       "        if (!name) {\n",
       "            // put a spacer in here.\n",
       "            continue;\n",
       "        }\n",
       "        var button = $('<button/>');\n",
       "        button.addClass('ui-button ui-widget ui-state-default ui-corner-all ' +\n",
       "                        'ui-button-icon-only');\n",
       "        button.attr('role', 'button');\n",
       "        button.attr('aria-disabled', 'false');\n",
       "        button.click(method_name, toolbar_event);\n",
       "        button.mouseover(tooltip, toolbar_mouse_event);\n",
       "\n",
       "        var icon_img = $('<span/>');\n",
       "        icon_img.addClass('ui-button-icon-primary ui-icon');\n",
       "        icon_img.addClass(image);\n",
       "        icon_img.addClass('ui-corner-all');\n",
       "\n",
       "        var tooltip_span = $('<span/>');\n",
       "        tooltip_span.addClass('ui-button-text');\n",
       "        tooltip_span.html(tooltip);\n",
       "\n",
       "        button.append(icon_img);\n",
       "        button.append(tooltip_span);\n",
       "\n",
       "        nav_element.append(button);\n",
       "    }\n",
       "\n",
       "    var fmt_picker_span = $('<span/>');\n",
       "\n",
       "    var fmt_picker = $('<select/>');\n",
       "    fmt_picker.addClass('mpl-toolbar-option ui-widget ui-widget-content');\n",
       "    fmt_picker_span.append(fmt_picker);\n",
       "    nav_element.append(fmt_picker_span);\n",
       "    this.format_dropdown = fmt_picker[0];\n",
       "\n",
       "    for (var ind in mpl.extensions) {\n",
       "        var fmt = mpl.extensions[ind];\n",
       "        var option = $(\n",
       "            '<option/>', {selected: fmt === mpl.default_extension}).html(fmt);\n",
       "        fmt_picker.append(option)\n",
       "    }\n",
       "\n",
       "    // Add hover states to the ui-buttons\n",
       "    $( \".ui-button\" ).hover(\n",
       "        function() { $(this).addClass(\"ui-state-hover\");},\n",
       "        function() { $(this).removeClass(\"ui-state-hover\");}\n",
       "    );\n",
       "\n",
       "    var status_bar = $('<span class=\"mpl-message\"/>');\n",
       "    nav_element.append(status_bar);\n",
       "    this.message = status_bar[0];\n",
       "}\n",
       "\n",
       "mpl.figure.prototype.request_resize = function(x_pixels, y_pixels) {\n",
       "    // Request matplotlib to resize the figure. Matplotlib will then trigger a resize in the client,\n",
       "    // which will in turn request a refresh of the image.\n",
       "    this.send_message('resize', {'width': x_pixels, 'height': y_pixels});\n",
       "}\n",
       "\n",
       "mpl.figure.prototype.send_message = function(type, properties) {\n",
       "    properties['type'] = type;\n",
       "    properties['figure_id'] = this.id;\n",
       "    this.ws.send(JSON.stringify(properties));\n",
       "}\n",
       "\n",
       "mpl.figure.prototype.send_draw_message = function() {\n",
       "    if (!this.waiting) {\n",
       "        this.waiting = true;\n",
       "        this.ws.send(JSON.stringify({type: \"draw\", figure_id: this.id}));\n",
       "    }\n",
       "}\n",
       "\n",
       "\n",
       "mpl.figure.prototype.handle_save = function(fig, msg) {\n",
       "    var format_dropdown = fig.format_dropdown;\n",
       "    var format = format_dropdown.options[format_dropdown.selectedIndex].value;\n",
       "    fig.ondownload(fig, format);\n",
       "}\n",
       "\n",
       "\n",
       "mpl.figure.prototype.handle_resize = function(fig, msg) {\n",
       "    var size = msg['size'];\n",
       "    if (size[0] != fig.canvas.width || size[1] != fig.canvas.height) {\n",
       "        fig._resize_canvas(size[0], size[1]);\n",
       "        fig.send_message(\"refresh\", {});\n",
       "    };\n",
       "}\n",
       "\n",
       "mpl.figure.prototype.handle_rubberband = function(fig, msg) {\n",
       "    var x0 = msg['x0'] / mpl.ratio;\n",
       "    var y0 = (fig.canvas.height - msg['y0']) / mpl.ratio;\n",
       "    var x1 = msg['x1'] / mpl.ratio;\n",
       "    var y1 = (fig.canvas.height - msg['y1']) / mpl.ratio;\n",
       "    x0 = Math.floor(x0) + 0.5;\n",
       "    y0 = Math.floor(y0) + 0.5;\n",
       "    x1 = Math.floor(x1) + 0.5;\n",
       "    y1 = Math.floor(y1) + 0.5;\n",
       "    var min_x = Math.min(x0, x1);\n",
       "    var min_y = Math.min(y0, y1);\n",
       "    var width = Math.abs(x1 - x0);\n",
       "    var height = Math.abs(y1 - y0);\n",
       "\n",
       "    fig.rubberband_context.clearRect(\n",
       "        0, 0, fig.canvas.width, fig.canvas.height);\n",
       "\n",
       "    fig.rubberband_context.strokeRect(min_x, min_y, width, height);\n",
       "}\n",
       "\n",
       "mpl.figure.prototype.handle_figure_label = function(fig, msg) {\n",
       "    // Updates the figure title.\n",
       "    fig.header.textContent = msg['label'];\n",
       "}\n",
       "\n",
       "mpl.figure.prototype.handle_cursor = function(fig, msg) {\n",
       "    var cursor = msg['cursor'];\n",
       "    switch(cursor)\n",
       "    {\n",
       "    case 0:\n",
       "        cursor = 'pointer';\n",
       "        break;\n",
       "    case 1:\n",
       "        cursor = 'default';\n",
       "        break;\n",
       "    case 2:\n",
       "        cursor = 'crosshair';\n",
       "        break;\n",
       "    case 3:\n",
       "        cursor = 'move';\n",
       "        break;\n",
       "    }\n",
       "    fig.rubberband_canvas.style.cursor = cursor;\n",
       "}\n",
       "\n",
       "mpl.figure.prototype.handle_message = function(fig, msg) {\n",
       "    fig.message.textContent = msg['message'];\n",
       "}\n",
       "\n",
       "mpl.figure.prototype.handle_draw = function(fig, msg) {\n",
       "    // Request the server to send over a new figure.\n",
       "    fig.send_draw_message();\n",
       "}\n",
       "\n",
       "mpl.figure.prototype.handle_image_mode = function(fig, msg) {\n",
       "    fig.image_mode = msg['mode'];\n",
       "}\n",
       "\n",
       "mpl.figure.prototype.updated_canvas_event = function() {\n",
       "    // Called whenever the canvas gets updated.\n",
       "    this.send_message(\"ack\", {});\n",
       "}\n",
       "\n",
       "// A function to construct a web socket function for onmessage handling.\n",
       "// Called in the figure constructor.\n",
       "mpl.figure.prototype._make_on_message_function = function(fig) {\n",
       "    return function socket_on_message(evt) {\n",
       "        if (evt.data instanceof Blob) {\n",
       "            /* FIXME: We get \"Resource interpreted as Image but\n",
       "             * transferred with MIME type text/plain:\" errors on\n",
       "             * Chrome.  But how to set the MIME type?  It doesn't seem\n",
       "             * to be part of the websocket stream */\n",
       "            evt.data.type = \"image/png\";\n",
       "\n",
       "            /* Free the memory for the previous frames */\n",
       "            if (fig.imageObj.src) {\n",
       "                (window.URL || window.webkitURL).revokeObjectURL(\n",
       "                    fig.imageObj.src);\n",
       "            }\n",
       "\n",
       "            fig.imageObj.src = (window.URL || window.webkitURL).createObjectURL(\n",
       "                evt.data);\n",
       "            fig.updated_canvas_event();\n",
       "            fig.waiting = false;\n",
       "            return;\n",
       "        }\n",
       "        else if (typeof evt.data === 'string' && evt.data.slice(0, 21) == \"data:image/png;base64\") {\n",
       "            fig.imageObj.src = evt.data;\n",
       "            fig.updated_canvas_event();\n",
       "            fig.waiting = false;\n",
       "            return;\n",
       "        }\n",
       "\n",
       "        var msg = JSON.parse(evt.data);\n",
       "        var msg_type = msg['type'];\n",
       "\n",
       "        // Call the  \"handle_{type}\" callback, which takes\n",
       "        // the figure and JSON message as its only arguments.\n",
       "        try {\n",
       "            var callback = fig[\"handle_\" + msg_type];\n",
       "        } catch (e) {\n",
       "            console.log(\"No handler for the '\" + msg_type + \"' message type: \", msg);\n",
       "            return;\n",
       "        }\n",
       "\n",
       "        if (callback) {\n",
       "            try {\n",
       "                // console.log(\"Handling '\" + msg_type + \"' message: \", msg);\n",
       "                callback(fig, msg);\n",
       "            } catch (e) {\n",
       "                console.log(\"Exception inside the 'handler_\" + msg_type + \"' callback:\", e, e.stack, msg);\n",
       "            }\n",
       "        }\n",
       "    };\n",
       "}\n",
       "\n",
       "// from http://stackoverflow.com/questions/1114465/getting-mouse-location-in-canvas\n",
       "mpl.findpos = function(e) {\n",
       "    //this section is from http://www.quirksmode.org/js/events_properties.html\n",
       "    var targ;\n",
       "    if (!e)\n",
       "        e = window.event;\n",
       "    if (e.target)\n",
       "        targ = e.target;\n",
       "    else if (e.srcElement)\n",
       "        targ = e.srcElement;\n",
       "    if (targ.nodeType == 3) // defeat Safari bug\n",
       "        targ = targ.parentNode;\n",
       "\n",
       "    // jQuery normalizes the pageX and pageY\n",
       "    // pageX,Y are the mouse positions relative to the document\n",
       "    // offset() returns the position of the element relative to the document\n",
       "    var x = e.pageX - $(targ).offset().left;\n",
       "    var y = e.pageY - $(targ).offset().top;\n",
       "\n",
       "    return {\"x\": x, \"y\": y};\n",
       "};\n",
       "\n",
       "/*\n",
       " * return a copy of an object with only non-object keys\n",
       " * we need this to avoid circular references\n",
       " * http://stackoverflow.com/a/24161582/3208463\n",
       " */\n",
       "function simpleKeys (original) {\n",
       "  return Object.keys(original).reduce(function (obj, key) {\n",
       "    if (typeof original[key] !== 'object')\n",
       "        obj[key] = original[key]\n",
       "    return obj;\n",
       "  }, {});\n",
       "}\n",
       "\n",
       "mpl.figure.prototype.mouse_event = function(event, name) {\n",
       "    var canvas_pos = mpl.findpos(event)\n",
       "\n",
       "    if (name === 'button_press')\n",
       "    {\n",
       "        this.canvas.focus();\n",
       "        this.canvas_div.focus();\n",
       "    }\n",
       "\n",
       "    var x = canvas_pos.x * mpl.ratio;\n",
       "    var y = canvas_pos.y * mpl.ratio;\n",
       "\n",
       "    this.send_message(name, {x: x, y: y, button: event.button,\n",
       "                             step: event.step,\n",
       "                             guiEvent: simpleKeys(event)});\n",
       "\n",
       "    /* This prevents the web browser from automatically changing to\n",
       "     * the text insertion cursor when the button is pressed.  We want\n",
       "     * to control all of the cursor setting manually through the\n",
       "     * 'cursor' event from matplotlib */\n",
       "    event.preventDefault();\n",
       "    return false;\n",
       "}\n",
       "\n",
       "mpl.figure.prototype._key_event_extra = function(event, name) {\n",
       "    // Handle any extra behaviour associated with a key event\n",
       "}\n",
       "\n",
       "mpl.figure.prototype.key_event = function(event, name) {\n",
       "\n",
       "    // Prevent repeat events\n",
       "    if (name == 'key_press')\n",
       "    {\n",
       "        if (event.which === this._key)\n",
       "            return;\n",
       "        else\n",
       "            this._key = event.which;\n",
       "    }\n",
       "    if (name == 'key_release')\n",
       "        this._key = null;\n",
       "\n",
       "    var value = '';\n",
       "    if (event.ctrlKey && event.which != 17)\n",
       "        value += \"ctrl+\";\n",
       "    if (event.altKey && event.which != 18)\n",
       "        value += \"alt+\";\n",
       "    if (event.shiftKey && event.which != 16)\n",
       "        value += \"shift+\";\n",
       "\n",
       "    value += 'k';\n",
       "    value += event.which.toString();\n",
       "\n",
       "    this._key_event_extra(event, name);\n",
       "\n",
       "    this.send_message(name, {key: value,\n",
       "                             guiEvent: simpleKeys(event)});\n",
       "    return false;\n",
       "}\n",
       "\n",
       "mpl.figure.prototype.toolbar_button_onclick = function(name) {\n",
       "    if (name == 'download') {\n",
       "        this.handle_save(this, null);\n",
       "    } else {\n",
       "        this.send_message(\"toolbar_button\", {name: name});\n",
       "    }\n",
       "};\n",
       "\n",
       "mpl.figure.prototype.toolbar_button_onmouseover = function(tooltip) {\n",
       "    this.message.textContent = tooltip;\n",
       "};\n",
       "mpl.toolbar_items = [[\"Home\", \"Reset original view\", \"fa fa-home icon-home\", \"home\"], [\"Back\", \"Back to  previous view\", \"fa fa-arrow-left icon-arrow-left\", \"back\"], [\"Forward\", \"Forward to next view\", \"fa fa-arrow-right icon-arrow-right\", \"forward\"], [\"\", \"\", \"\", \"\"], [\"Pan\", \"Pan axes with left mouse, zoom with right\", \"fa fa-arrows icon-move\", \"pan\"], [\"Zoom\", \"Zoom to rectangle\", \"fa fa-square-o icon-check-empty\", \"zoom\"], [\"\", \"\", \"\", \"\"], [\"Download\", \"Download plot\", \"fa fa-floppy-o icon-save\", \"download\"]];\n",
       "\n",
       "mpl.extensions = [\"eps\", \"pdf\", \"png\", \"ps\", \"raw\", \"svg\"];\n",
       "\n",
       "mpl.default_extension = \"png\";var comm_websocket_adapter = function(comm) {\n",
       "    // Create a \"websocket\"-like object which calls the given IPython comm\n",
       "    // object with the appropriate methods. Currently this is a non binary\n",
       "    // socket, so there is still some room for performance tuning.\n",
       "    var ws = {};\n",
       "\n",
       "    ws.close = function() {\n",
       "        comm.close()\n",
       "    };\n",
       "    ws.send = function(m) {\n",
       "        //console.log('sending', m);\n",
       "        comm.send(m);\n",
       "    };\n",
       "    // Register the callback with on_msg.\n",
       "    comm.on_msg(function(msg) {\n",
       "        //console.log('receiving', msg['content']['data'], msg);\n",
       "        // Pass the mpl event to the overriden (by mpl) onmessage function.\n",
       "        ws.onmessage(msg['content']['data'])\n",
       "    });\n",
       "    return ws;\n",
       "}\n",
       "\n",
       "mpl.mpl_figure_comm = function(comm, msg) {\n",
       "    // This is the function which gets called when the mpl process\n",
       "    // starts-up an IPython Comm through the \"matplotlib\" channel.\n",
       "\n",
       "    var id = msg.content.data.id;\n",
       "    // Get hold of the div created by the display call when the Comm\n",
       "    // socket was opened in Python.\n",
       "    var element = $(\"#\" + id);\n",
       "    var ws_proxy = comm_websocket_adapter(comm)\n",
       "\n",
       "    function ondownload(figure, format) {\n",
       "        window.open(figure.imageObj.src);\n",
       "    }\n",
       "\n",
       "    var fig = new mpl.figure(id, ws_proxy,\n",
       "                           ondownload,\n",
       "                           element.get(0));\n",
       "\n",
       "    // Call onopen now - mpl needs it, as it is assuming we've passed it a real\n",
       "    // web socket which is closed, not our websocket->open comm proxy.\n",
       "    ws_proxy.onopen();\n",
       "\n",
       "    fig.parent_element = element.get(0);\n",
       "    fig.cell_info = mpl.find_output_cell(\"<div id='\" + id + \"'></div>\");\n",
       "    if (!fig.cell_info) {\n",
       "        console.error(\"Failed to find cell for figure\", id, fig);\n",
       "        return;\n",
       "    }\n",
       "\n",
       "    var output_index = fig.cell_info[2]\n",
       "    var cell = fig.cell_info[0];\n",
       "\n",
       "};\n",
       "\n",
       "mpl.figure.prototype.handle_close = function(fig, msg) {\n",
       "    var width = fig.canvas.width/mpl.ratio\n",
       "    fig.root.unbind('remove')\n",
       "\n",
       "    // Update the output cell to use the data from the current canvas.\n",
       "    fig.push_to_output();\n",
       "    var dataURL = fig.canvas.toDataURL();\n",
       "    // Re-enable the keyboard manager in IPython - without this line, in FF,\n",
       "    // the notebook keyboard shortcuts fail.\n",
       "    IPython.keyboard_manager.enable()\n",
       "    $(fig.parent_element).html('<img src=\"' + dataURL + '\" width=\"' + width + '\">');\n",
       "    fig.close_ws(fig, msg);\n",
       "}\n",
       "\n",
       "mpl.figure.prototype.close_ws = function(fig, msg){\n",
       "    fig.send_message('closing', msg);\n",
       "    // fig.ws.close()\n",
       "}\n",
       "\n",
       "mpl.figure.prototype.push_to_output = function(remove_interactive) {\n",
       "    // Turn the data on the canvas into data in the output cell.\n",
       "    var width = this.canvas.width/mpl.ratio\n",
       "    var dataURL = this.canvas.toDataURL();\n",
       "    this.cell_info[1]['text/html'] = '<img src=\"' + dataURL + '\" width=\"' + width + '\">';\n",
       "}\n",
       "\n",
       "mpl.figure.prototype.updated_canvas_event = function() {\n",
       "    // Tell IPython that the notebook contents must change.\n",
       "    IPython.notebook.set_dirty(true);\n",
       "    this.send_message(\"ack\", {});\n",
       "    var fig = this;\n",
       "    // Wait a second, then push the new image to the DOM so\n",
       "    // that it is saved nicely (might be nice to debounce this).\n",
       "    setTimeout(function () { fig.push_to_output() }, 1000);\n",
       "}\n",
       "\n",
       "mpl.figure.prototype._init_toolbar = function() {\n",
       "    var fig = this;\n",
       "\n",
       "    var nav_element = $('<div/>')\n",
       "    nav_element.attr('style', 'width: 100%');\n",
       "    this.root.append(nav_element);\n",
       "\n",
       "    // Define a callback function for later on.\n",
       "    function toolbar_event(event) {\n",
       "        return fig.toolbar_button_onclick(event['data']);\n",
       "    }\n",
       "    function toolbar_mouse_event(event) {\n",
       "        return fig.toolbar_button_onmouseover(event['data']);\n",
       "    }\n",
       "\n",
       "    for(var toolbar_ind in mpl.toolbar_items){\n",
       "        var name = mpl.toolbar_items[toolbar_ind][0];\n",
       "        var tooltip = mpl.toolbar_items[toolbar_ind][1];\n",
       "        var image = mpl.toolbar_items[toolbar_ind][2];\n",
       "        var method_name = mpl.toolbar_items[toolbar_ind][3];\n",
       "\n",
       "        if (!name) { continue; };\n",
       "\n",
       "        var button = $('<button class=\"btn btn-default\" href=\"#\" title=\"' + name + '\"><i class=\"fa ' + image + ' fa-lg\"></i></button>');\n",
       "        button.click(method_name, toolbar_event);\n",
       "        button.mouseover(tooltip, toolbar_mouse_event);\n",
       "        nav_element.append(button);\n",
       "    }\n",
       "\n",
       "    // Add the status bar.\n",
       "    var status_bar = $('<span class=\"mpl-message\" style=\"text-align:right; float: right;\"/>');\n",
       "    nav_element.append(status_bar);\n",
       "    this.message = status_bar[0];\n",
       "\n",
       "    // Add the close button to the window.\n",
       "    var buttongrp = $('<div class=\"btn-group inline pull-right\"></div>');\n",
       "    var button = $('<button class=\"btn btn-mini btn-primary\" href=\"#\" title=\"Stop Interaction\"><i class=\"fa fa-power-off icon-remove icon-large\"></i></button>');\n",
       "    button.click(function (evt) { fig.handle_close(fig, {}); } );\n",
       "    button.mouseover('Stop Interaction', toolbar_mouse_event);\n",
       "    buttongrp.append(button);\n",
       "    var titlebar = this.root.find($('.ui-dialog-titlebar'));\n",
       "    titlebar.prepend(buttongrp);\n",
       "}\n",
       "\n",
       "mpl.figure.prototype._root_extra_style = function(el){\n",
       "    var fig = this\n",
       "    el.on(\"remove\", function(){\n",
       "\tfig.close_ws(fig, {});\n",
       "    });\n",
       "}\n",
       "\n",
       "mpl.figure.prototype._canvas_extra_style = function(el){\n",
       "    // this is important to make the div 'focusable\n",
       "    el.attr('tabindex', 0)\n",
       "    // reach out to IPython and tell the keyboard manager to turn it's self\n",
       "    // off when our div gets focus\n",
       "\n",
       "    // location in version 3\n",
       "    if (IPython.notebook.keyboard_manager) {\n",
       "        IPython.notebook.keyboard_manager.register_events(el);\n",
       "    }\n",
       "    else {\n",
       "        // location in version 2\n",
       "        IPython.keyboard_manager.register_events(el);\n",
       "    }\n",
       "\n",
       "}\n",
       "\n",
       "mpl.figure.prototype._key_event_extra = function(event, name) {\n",
       "    var manager = IPython.notebook.keyboard_manager;\n",
       "    if (!manager)\n",
       "        manager = IPython.keyboard_manager;\n",
       "\n",
       "    // Check for shift+enter\n",
       "    if (event.shiftKey && event.which == 13) {\n",
       "        this.canvas_div.blur();\n",
       "        // select the cell after this one\n",
       "        var index = IPython.notebook.find_cell_index(this.cell_info[0]);\n",
       "        IPython.notebook.select(index + 1);\n",
       "    }\n",
       "}\n",
       "\n",
       "mpl.figure.prototype.handle_save = function(fig, msg) {\n",
       "    fig.ondownload(fig, null);\n",
       "}\n",
       "\n",
       "\n",
       "mpl.find_output_cell = function(html_output) {\n",
       "    // Return the cell and output element which can be found *uniquely* in the notebook.\n",
       "    // Note - this is a bit hacky, but it is done because the \"notebook_saving.Notebook\"\n",
       "    // IPython event is triggered only after the cells have been serialised, which for\n",
       "    // our purposes (turning an active figure into a static one), is too late.\n",
       "    var cells = IPython.notebook.get_cells();\n",
       "    var ncells = cells.length;\n",
       "    for (var i=0; i<ncells; i++) {\n",
       "        var cell = cells[i];\n",
       "        if (cell.cell_type === 'code'){\n",
       "            for (var j=0; j<cell.output_area.outputs.length; j++) {\n",
       "                var data = cell.output_area.outputs[j];\n",
       "                if (data.data) {\n",
       "                    // IPython >= 3 moved mimebundle to data attribute of output\n",
       "                    data = data.data;\n",
       "                }\n",
       "                if (data['text/html'] == html_output) {\n",
       "                    return [cell, data, j];\n",
       "                }\n",
       "            }\n",
       "        }\n",
       "    }\n",
       "}\n",
       "\n",
       "// Register the function which deals with the matplotlib target/channel.\n",
       "// The kernel may be null if the page has been refreshed.\n",
       "if (IPython.notebook.kernel != null) {\n",
       "    IPython.notebook.kernel.comm_manager.register_target('matplotlib', mpl.mpl_figure_comm);\n",
       "}\n"
      ],
      "text/plain": [
       "<IPython.core.display.Javascript object>"
      ]
     },
     "metadata": {},
     "output_type": "display_data"
    },
    {
     "data": {
      "text/html": [
       "<img src=\"data:image/png;base64,iVBORw0KGgoAAAANSUhEUgAABIsAAANoCAYAAABA+GrMAAAgAElEQVR4nOy96bNb1Z3vbdWt/gPu266OdAbPPjYe8LGNfYwHETM3YBsDhhADtiFgBgdsbDzg4QwaQ5iHhDCGMCUMmSCdkHATJ91JZ2zSyb236/Z9mipME4rE7ufFU5Wq3/NC+q69taQtbR2dUefzqfq+kLS199pr2mt9hA/TpgEAAAAAAAAAAAAAAAAAAAAAAAAAAAAAAAAAAAAAAAAAAAAAAAAAAAAAAAAAAAAAAAAAAAAAAAAAAAAAAAAAAAAAAAAAAAAAAAAAAAAAAAAAAAAAAAAAAAAAAAAAAAAAAAAAAAAAAAAAAAAAAAAAAAAAAAAAAAAAAAAAAAAAAAAAAAAAAAAAAAAAAAAAAAAAAAAAAAAAAAAAAAAAAAAAAAAAAAAAAAAAAAAAAAAAAAAAAAAAAAAAAAAAAAAAAAAAAAAAAAAAAAAAAAAAAAAAAAAAAAAAAAAAAAAAAAAAAAAAAAAAAAAAAAAAAAAAAAAAAAAAAAAAAAAAAAAAAAAAAAAAAAAAAAAAAAAAAAAAAAAAAAAAAAAAAAAAAAAAAAAAAAAAAAAAAAAAAAAAAAAAAAAAAAAAAAAAAAAAAAAAAAAAAAAAAAAAAAAAAAAAAAAAAAAAAAAAAAAAAAAAAAAAAAAAAAAAAAAAAAAAAAAAAAAAAAAAAAAAAAAAAAAAAAAAAAAAAAAAAAAAAAAAAAAAAAAAAAAAAAAAAAAAAAAAAAAAAAAAAAAAAAAAAAAAAAAAAAAAAAAAAAAAAAAAAAAAAAAAAAAAAAAAAAAAAAAAAAAAAAAAAAAAAAAAAAAAAAAAAAAAAAAAAAAAAAAAAAAAAAAAAAAAAAAAAAAAAAAAAAAAAAAAAAAAAAAAAAAAAAAAAAAAAAAAAAAAAAAAAAAAAAAAAAAAAAAAAAAAAAAAAAAAAAAAAAAAAAAAAAAAAAAAAAAAAAAAAAAAAAAAAAAAAAAAAAAAAAAAAAAAAAAAAAAAAAAAAAAAAAAAAAAAAAAAAAAAAAAAAAAAAAAAAAAAAAAAAAAAAAAAAAAAAAAAAAAAAAAAAAAAAAAAAAAAAAAAAAAAAAAAAAAAAAAAAAAAAAAAAAAAAAAAAAAAAAAAAAAAAAAAAAAAAAAAAAAAAAAAAAAAAAAAAAAAAAAAAAAAAAAAAAAAAAAAAAAAAAAAAAAAAAAAAAAAAAAAAAAAAAAAAAAAAAAAAAAAAAAAAAAAAAAAAAAAAAAAAAAAAAAAAAAAAAAAAAAAAAAAAAAAAAAAAAAAAAAAAAAAAAAAAAAANCYxbdq0vynnvxFCCCGEEEIIISR2tJ9OTANoI/5m2rRpRgghhBBCCCGEkGHnb6YBtBHIIkIIIYQQQgghpLUgi6Ct+G/Typ173bTLbP20jYQQ0nRO/t//tL/+9a/217/+1U7+3/8c9/IMN8mv9Lt0ZnLWmcnZrH15m7UvX3XswhtytvCGnM3em7fZe4PPZ+/J2+w91ccPJ/Nvztv8m4Nzrf70gIveSxWzlipm45/zc3mb/7na5Vt8bc4WX5tzr3XvvZdnrffy+NcYicw4mLcZB/OuDNPvDTLv1lJ0LwtuzNmCG3OWvD9jyfszdsb2nJ2xPWepZ49Z6tlj7lyLPpuzRZ/NWddgKUuuDqJ2/NTDQ/aph4eq6n4ss+SanC25JtfUd2YcztuMw0FduD79QMaSD2SsZ1feenYFdVivnzXKGTtydsaO4BrLNmVs2aZMrHvSd8+8KmtnXpW1zqGcdQ7lrCOftY581lJfKGXOnXmbc2fell6RdenI5qwjG1xXx+h1zy1567kleK22HU4baHxHtcXSK7O29Mqs61MLrwuiuUPH6t6mf+2wTf/aYfvUlwZKeaKUjly2IqPZt7qP5VxU9lXnDdqq8wbdMbPuztusu/PWfTxn3ceD+5i5P28z99fvJ3GOWT9to6urkbgnlVdzr+pR5Z9zV97lU48O2qceHbSF1+ds4fWhe7snbzPvyduCnTlbsDO6XMkHM5Z8MOP6bedQcP6u/px19Vd/V+Xzx436mBuHN+VdZh4oRZ/1bsla75aszbstb/NuC+Zk//k07/a8zbt9ZOct3Z9eq393ZnLu3qrq6b6sJe/LVn1HrzVfab791JcHXPzn0ESP+pnuSe93vXCvdb1wrxvv41U+f56sKn95PvDvR69rPTOijp2qWTftsrAs+m/jurMHGGGcLFo/baOlE5sIIaTpfPT+xyY+ev/jcS/PcJN6etClK1ewrlzBZt9TtNn3FKuOXbSjYIt2FGzOvqLN2Rd8Pufuos25u/r44WTBrqIt2BWc6+wNQy56r+O+vHXcl49/zluKtuCW2uVbsq1gS7YV3Gvd+7Ir8rbsivjXGInMPFy0mYeLrgwzjgbpub0U3csZnyvYGZ8rWOrBnKUezNnCnQVbuLNgHc/3W8fz/e5ci68r2OLrCtadKeXMzwRROyYfzVry0WxV3Y9lzry2YGdeW2jqOzOPFG3mkaAuXJ9+KGeph3I2/7aizb8tqMN6/axRFt5YsIU3BtdYfnnOll+ei3VP+u7Sq/O29Oq8dWUL1pUtWGcxb53FvHV8sZS5e4o2d0/Req/Ku3TmC9aZD66rY/R6/q1Fm39r8FptO5w20PiOaoverXnr3Zp3fWrRDUE0d+hY3duMl4/YjJePWPLJoVK+XEpnIV+R0exb0/sLLip73/kZ6zs/446Zvb9os/cXbfpAwaYPBPcx60DRZh2o30/iHJNObHJ1NRL3pPJq7lU9qvxz9xZdko9nLPl4xhZtL9ii7aF7O1i0WQeLdsZNBTvjpuhypR7OWerhnOu3Xdng/N2DBeserP6uyuePG/UxNw5vLrrMOlSKPlt2Zd6WXZm3njuK1nNHMCf7z6ee3UXr2T2y85buT6/Vv7tyBXdvVfV0f95S9+ervqPXmq803ya/MuTiP4cmetTPdE96v/vFo9b94lE33serfP48WVX+8nzg349e13pmRB07VbN+2kZkEbQtyCJCSMtBFiGLRjrIImQRsmjk06ws+uDUaTe3n/zLaWQRsghZ5I8pZNG4t8F4B1kE7QyyiBDScpBFyKKRDrIIWYQsGvkgi5BFzQZZ1GBMIYvGvQ3GO8giaGeQRYSQltMusogQQsYqi68v2OLrC9aVKUVSM/VAzlIP5Cz5SNYl9eyApZ4dcIJU0kKCQpvx6cdL8a8141jBZhwrWMcX8i4SDZIBOkab3nl3Fu3knwNZ9MF/nbLkI1mbeW/RZt5brJJOi68rWPKpQUs+NVglGJZ8tmBLPltwG1cnfsvy4+xzBu3scwad7JAQ7rk9KJ8vclRv8z5ftHmfDwRL8omMJZ/IWOqZAUs9M1BRDxJKTk48lrXkY1knkFWfaguJUP2IoHvXeebcHVxXAkzfkTiTtFabSXrqXPUEvqSLziX5K1mk+pRkVduec+ZhO+fMw7by0qyL+ojaWW2g+tJ9LL0mb0uvyUeKoHBUT3HfjzxPuc+FZYsfX2ooccSj/6NOo4ylBJGonHUwKJ/aQu9LTFaN5/KPRfXKG1WvUT9sdb1w3LpeOO76heSrfoxJPZirkn+rzx2y1ecGQkzjSn08ql/HqR/JQ40BzQcj+cNcw/4QkuyunsrzTzqBLIL2BllECGk5yCJCCGkuyCJkEbKofDyyCFkUEWQRwPiCLCKEtBxkESGENBdkEbIIWVQ+HlmELIoIsghgfEEWEUJaDrKIEEKay2SQRQ+9dcK++s2f21e/+XMr/vzHyCJkUUWQRa0HWVQ/yCKA8QVZRAhpOcgiQghpLpNBFs27s2jLt+Rt+Za8KwuyCFmkIItaD7KofpBFAOMLsogQ0nKQRYQQ0lyQRcgiZFH5eGQRsigiyCKA8QVZRAhpOcgiQghpLsgiZBGyqHw8sghZFBFkEcD4giwihLQcZBEhhDQXZBGyCFlUPh5ZhCyKCLIIYHxBFhFCWg6yiBBCmguyCFmELCofjyxCFkUEWQQwvtSVRVp0NDvpj3VqTYStTiL+Qied2GQLdhVtwa6iW/REfVeLJn+SrLWI8yd4PZz9xdpw7mHhjQVbeGPBFtxctAU3B+eYf2vR5t8aLNZcPZbbuda9z7+taPNvK0Y+rF293VW0uXcV3YIrTjm1ONTrRvesBWO9hYwWX40WH1qo1iufFqJRn2sRoj6nc/rfW7iz4KJj1Jd0T1oY6FxqC7cY9hYU9epHr8+8tmBnXluwpVfnbenVwcPZHyNuMVpe0KYezgX9tNzuWrz79ReWRSc/OW3JL2VKeTRryUezrg8uuDm4J31Xfcu/j7XrBmztugE37lzdeWVIJza5hb76jtrEP9YtMryFo9pBfWr2/mDs6d61CNcizm1qvD60aHuhlB2lhBfBGpPDGc8jnTgL7JHMik05W7Ep1/C4Mz9TsDM/U6iaZ9WPz7y2+TKfdVnOzrqs8bXr5dyOO+zcjjvc66h+Wyv+HOy/r3mzmfL485/61hmfK8VvZ3++r1n35fpVn/bPpWeb3481d4TPpXlI96b21zykMaFrLLsyb8uuzDsxofP0XpV3UZ2fvWHIzt4wZL1b89a7tXrDoXJqjPrjfcXmnIvmCN2DBI5/Tj0347SN6jFqzlId+JKgmX6gc2rzFvUsU/06obEjmJu04fPnNj1vZt9TtN+9f9JOfnLKTn5yyv748/9dUb/h+dLvj/5aQZtayY2q+/HWAeE0mqvUH1Unqle1g+b9uXuDzzRP+9dXv9VxUeWqtcH3n6k6l+or7nxQ8byM2Sf84+qN91rP0PD1/b7krwk1FubfWl90kfqJ6geTOXEEY7ulK1ewzkwOWQRtC7IoIsgiZJErD7IIWYQsajnIImQRsqj0+WSSRSf/crrqvxpFFiGLkEWtB1nUHkEWQbuDLIoIsghZ5MqDLEIWIYtaDrIIWYQsKn2OLEIWIYsIsqg9giyCdgdZFBFkEbLIlQdZhCxCFrUcZBGyCFlU+hxZhCxCFhFkUXsEWQTtDrIoIsgiZJErD7IIWYQsajnIImQRsqj0ObIIWYQsIsii9giyCNodZFFEkEXIIlceZBGyCFnUcpBFyCJkUenzySSLvvZPv7G3fvVHe+tXf7Q3H3u7on6RRcgiZNHwgyxqjyCLoN1BFkUEWYQscuVBFiGLkEUtB1mELEIWlT6fTLJo9j3VczSyCFmELGo9yKL2CLII2h1kUUSQRcgiVx5kEbIIWdRykEXIImRR6XNkEbIIWUSQRe0RZBG0O8iiiCCLkEWuPMgiZBGyqOUgi5BFyKLS58giZBGyiCCL2iPIImh36soiQgiJk7As0h9BDWfZFXmXlZdmbeWlWfeZNn7dQwXrHipY8pGsJR/JuuOjrqkNTK0Ne5QciNrwacFbSxbpO9pEaiPlbyKiFvXaKIQ3C1EZzcXj8stztvzy5oSJhF2jtvCjNj17w1DT5RyO6Jdg0gZVm3TVey2Z4WfpNXlbek3e1qQHbU160H1X5466x7VrB2zt2oFAhpTPs/SafKRolgjruyBjfRdkIsvUd2HG+i6s/HzlJVlbeUkwfrTxj5JxURvDOOk7P2N952eqxJ0252dtzNlZG3O2bk2/rVvT70TP8i15N571nXV9x21d33EnIPT+6vMytvq8jBMCvqwJb8p9Ee5HAirOjwCN6keCKkpQrro4a6suzjr5oc35jKPBRl9zhOY8iRvJoigxpf4reTPrUNHVtaSayq15Stfo+GLeOr6YdxJpQ889tqHnHle/mhvryVNdy//hRvVabz7TPKNyazyrf2o+9ftxvTQSs7rnGccKNuNYczJZ9aK+rvf1TFD/1Bzo/zgUnquipFajuVfnrvWjijum3O760VH1q/6n54/mg2buXfOU39f1Y49flvAPII1+PB2JxBHdrUZtqR+emvmufvRt9OOkq/cYbaT2HYl78/vIaNZjo4y3TNL1h9POfiTZ5+wr2uy9eWQRtC3IIkJIy0EWIYvCQRYhi5BFyCJkUWWdRJUBWVQ/yKLWgiyqvj6yCCA+yCJCSMtBFiGLwkEWIYuQRe0hi95579/svRN/tPdO/NHe+Zd/QxYhi5BFXpBF8YMsAph8IIsIIS0HWYQsCgdZhCxCFrWHLDr559PB36P782lkEbIIWeQFWRQ/yCKAyQeyiBDScpBFyKJwkEXIImQRsghZVFknUWVAFtUPsqi1IIuqr48sAogPsogQ0nKQRciicJBFyCJkEbIIWVRZJ1FlQBbVD7KotSCLqq+PLAKID7KIENJykEXIonCQRcgiZBGyCFlUWSdRZUAW1Q+yqLUgi6qvjywCiA+yiBDScpBFyKJwkEXIImRRe8gi/sA1sghZVD/IovhBFgFMPpBFhJCWgyxCFoWDLEIWIYvaQxbNuzOoG9UrsghZhCwKgiyKH2QRwOSjrixKfiljyS9FL2TTiU0269V7bdar9waTZvlBptdaVEZ9PlrpyhasK9v6dbSYq7WgazgplRfFmqBTTw9a6ulBtwhZcEvzE6Y2PVo8axGlxVLHF+Nv6KI2Zd0vHrXuF4+6jdf0/oJb+GsB2j1YsO7BxnUyFg95bSDOuKngHgBR9euXJ6qPq/90ZQuurqOuH7cutCCb9/miLdpesEXbC9aZLyXud5upDy3w1Gap+/OWuj/oHzMPF0u5t5Rm6nzmK0ds5itH3Dk//CT0TxX+ctrVnRaj4UWwxoUW4b1b89a7tXG/1abctV15IZt8NOvOGbVYj4o/P4XbPfVQzlIP5Vz9aB6IEjo6Xm2r98PjSO913Je3jvvytmRbwZZsK7h5sZEsijMf+fekqB+r3f3jw9+J6tOSINq4uHKVN4/aAKo9wlJAm0X1GW3GdU5fjGgTsmBX0Rbsql0nmlv9uUybWtWnNsfaYGvxrD64+rzo55zmXG2co+o3StakE5sihUNU/E3v+pXHXBrNERISukdfhuiZobqbe1cgSDUfaUOscqseu3IF68oVXF1o0xNHROpcKo9LWaio/PU2E8kvD1nyy4GA9Bf8ait/TtOcWKucGq++LFA5VO4o0ezOc0P1fNdojPqb8HpptMmKEmSSSPUkrD+nSFapnSUA45SzkdDz6yvumAhH/VTl85+Pel9joeb1y+2ucqjPqw91FvPWWcw7Way2qjcf6VyaU3zZpgznRwHNudqgRq33/B8xxjp6fvrPmbHIis05W7G5uR9EpnLGYn3ezgnX3/ppG5FF0LYgixoEWYQsQhZVB1mELEIWVR6HLEIWIYuQRcgiZNFkCbJo5OoPWQTtDLKoQZBFyCJkUXWQRcgiZFHlccgiZBGyCFmELEIWTZYgi0au/pBF0M4gixoEWYQsQhZVB1mELEIWVR6HLEIWIYuQRcgiZNFkCbJo5OoPWQTtDLKoQZBFyCJkUXWQRcgiZFHlccgiZFE7yqIXf/ob+/5P/2Df/+kf7M3H3m5YTmQRsghZNDmCLBq5+kMWQTuDLGoQZBGyCFlUHWQRsghZVHkcsghZ1I6y6OSfg7m91v/p0g+yCFmELJocQRaNXP0hi6CdQRY1CLIIWYQsqg6yCFmELKo8DlmELEIWIYuQRciiyRJk0cjVH7II2hlkUYMgi5BFyKLqIIuQRciiyuOQRcgiZBGyCFmELJosQRaNXP0hi6CdQRY1CLIIWYQsqg6yCFmELKo8DlmELEIWIYuQRciiyRJk0cjVH7II2hlkUYMgi5BFyKLqIIuQRciiyuOQRciidpRF//L/nLQP/3TKPvzTKfvjz/93w3Iii5BFyKLJEWTRyNUfsgjambqyiBBC4uSj9z9u6tfnZuJv/LoyBevKBKKtlmzzhY2iDd+a9KCtSQ+697Wol7xZsq0QeX13jfJGWZsM/9rr1vTbujX9btM+d0+wqUk+OWTJJ4fcZr3zhePW+cJxJ9+18Us+NWjJpwabrrM40eYxLIucFH44Z6mHc066NtrY+ZvwpVfnXYZbPskivz3C59drbej0WhsrbcokpFTOWsJHbSGJJQEWd/M7UeO3Xa22bCQiGkV9PSwzo+SF2k5yUH1u+kApvkBxsvvBXJV01Q8bet3xXL91PNfvZJukrP+9cJJfGbLkV4aq3pdcVd10vXDcul447vqO7nPmkaLNPFJ0G4cZR4Px7Orcm4+Sj2dKKctuX+SPRjTeNW8t2hHdpzsLeess5Ktkh8aCREqtfiOZ4QRjWR5oPLvjym3jt7f7QexQkKhyan5SG/jl1nzrfhg5XKz4QSD8g4baW9f3f3BSOSUsda3OQt79UCAR65eznrRqNZqnNAaHc45G9azxo3rWMy/83COTN/Xmx9HKcH6kbJSxll+aE7pyBevM5JBF0LYgiwghLQdZhCxCFk3MIIuQRekEsghZFB1k0dQOsmh4QRbBVAFZRAhpOcgiZBGyaGIGWYQsSieQRcii6CCLpnaQRcMLsgimCsgiQkjLQRYhi5BFEzPIImRROoEsQhZFB1k0tYMsGl6QRTBVQBYRQloOsghZhCyamEEWIYvSCWQRsig6yKKpHWTR8IIsgqkCsogQ0nKQRcgiZNHEDLIIWZRODF8WPfTWCXu5+Ka9XHzTHvnmCWQRsghZ1GZBFg0vyCKYKiCLCCEtB1mELEIWTcwgi5BF6cTwZdHJP592c/uHn5xGFiGLkEVtFmTR8IIsgqkCsogQ0nKQRcgiZNHEDLIIWZROIIuQRdFBFk3tIIuGF2QRTBWQRYSQloMsQhYhiyZmkEXIonQCWYQsig6yaGoHWTS8IItgqoAsIqRBtOBsdNxwNpX+AjpqU75wZ8EW7hybh7k2T+EN1JnXFuzMa6OvP5qySFl1cdZWXZyt+qOr6cQmm31P0WbfU3pod+UKlnwsa8nHspZ6etBSTw/awm/ut4Xf3O82eH//P26yv/8fN1VdQ5uf8AZIgsmvn57dRevZXb1o1sJ768+us60/u84txKb3F4KN7wOl3PSLrXbTL7a68vuL9gW7irZgV/C686v9Lqv/4fO2+h8+7/qGXo/nWNn768ts768vq/lZ73f3Wu9390Z+d8uJ7bblxPYq8TOcpJ4dsNSzA0GblftDK+dc+fZdtvLtu6re90WZ2+weGP6i9ayNOTtrY3BOtW24fWe+csRmvnKk6XN3Dxase7CyfqcfL9j049V1HndDmHpmwFLPDNT8TAJU/Vbvz/76YZv99cMNz11rTGrc9G7NW+/WvBMh/ne1Sde8sOGHt9qGH95qfd+708XvnwveOGAL3jhQJXAkQZqp61Yl3EhE9V/vmM0ndtjmEztszjcO25xvVLZJrLn9B7cHiep3mYJ1Z6LHddSc3EoaPbdq9RX/Oa7+EOccen5LKI1nu/e8ftB6Xj9oF717s0uj70jwLfn2Plvy7X3Dum6tPpRObHJjMM459LyOe00JZ/0IU+uYuNfXDzt6vfytPbb8rT2j0kbTXzpq0186WvMzieTx7EPNxD2fIuYBf75tJnGfFbUynHm7UWrNVeunbUQWQduCLCKkQZBFyCJkUbwgi5BFfpBFyKJ0Alk01kEWDe/6yKLhBVmELIL2BVlESIMgi5BFyKJ4QRYhi/wgiya3LEonNtm81w/avNcPRp8DWWTpBLIonUAWNRNkUbwgiwDGF2QRIQ2CLEIWIYviBVmELPKDLEIWpRPIorEOsmh410cWDS/IImQRtC/IIkIaBFmELEIWxQuyCFnkB1mELEonkEVjHWTR8K6PLBpekEXIImhfkEWENAiyCFmELIoXZBGyyA+yCFmUTiCLxjrIouFdH1k0vCCLkEXQviCLCGkQZBGyCFkUL8giZJEfZBGyKJ1AFo11kEXDuz6yaHhBFiGLoH1BFhHSIMgiZBGyKF6QRcgiP8iiyS2LijsetczvvmOZ333HijserX0OZJGlE8iidAJZ1EyQRfGCLAIYX5BFhDQIsghZhCyKF2QRssgPsmhyy6JYczuyyNIJZFE6gSxqJsiieEEWAYwvyKIWsvi6gi2+Lnj4dGUK1pUJNoYjea0ZR4s242jwAJPA6CzkrbOQdw/5BTc3vzCde1fR5t5V/b1ai/S4ibvJqBdtxv33tZjTJjn5SNZl/m1Fm39b9HU77stbx33Bg6OzmLfOYvWDZPpAwUX3MvNwKb7g8cvVzD0uuKVoC24puu/67ey396yDpdQ7p8618pKsrbwkG1mPUdHmN7wB1qJ76dV5W3p1dX35Gwot2iRF1E87C3nryhasK1twEkYPc9WvFnVr1w3Y2nUDbqPvyyK19fzbiu4e9Vpt5t+H0ntV3nqvCu5D7RDu87qO+ohEkz/Oeu4oWs8dgSDoub0UfT7zSNFFdaD2VFu5ucPbtKsuOvOlfPqMAy6tjK24URssuyJvy67Iu3uNOl59bsaxgosbU+V7Uzsv2lGwRTsKtvDGUpZdmbdlV1b3LV+YpRObXD9Uu0kWqE8t2VawJduaG4vrVx6z9SuPVb2/+ryMrT4v415L7KmvaU7Ra7VpeC6QBFQ5NYeor/lzsO5Z97H0mryLxk+j+9HmV/2x0dwYHuf++1Fzntpw5r1Fm3lv0fWPnjuKVXWwru+4res7HoyLcj8YCTmoaIxq3OvcUc+4cPrOz1jf+UE7+5JYY1Z15Oq3fL8SBYtuKFTVo9pA3/HL6+rZ67dxnutqg0XbS/E/X5MetDXpwaB8O4JorbJ+1XFbvypom/CPE+G5/cOPT9nSa4Ix6p4ty44EiSjnik05W7EpV7UZV985+5xBO/ucweC+tlffk9+nav1wkE6EnqtefVfUm3duPTN0zigBWS8aY/6c4fchN5d46ys932cdLNryLXlbviXv+q6+68/BknBuzTIK608yMmmlbTROxvseJntGUuCH1+vIImhnkEUtBFkUHWRRvCCLkEXIImQRsghZlE4gi5BFyKJ2DrJo/IMsAmgeZFELQRZFB1kUL8giZBGyCFmELEIWpRPIImQRsqidgywa/yCLAJoHWdRCkEXRQRbFC7IIWYQsQhYhi5BF6QSyCFmELCWuO7cAACAASURBVGrnIIvGP8gigOZBFrUQZFF0kEXxgixCFiGLkEXIImRROjExZdGWv91uG+56zDbc9Zidt+sRZFGdIItIvSCLxj/IIoDmQRa1EGRRdJBF8YIsQhYhi5BFyCJkUToxMWVROhGIFfVBd1/Iooogi0i9IIvGP8gigOZBFrUQZFF0kEXxgixCFiGLkEXIImRROoEsQhYhi9o5yKLxD7IIoHmQRS0EWRQdZFG8IIuQRcgiZBGyCFmUTiCLkEXIonYOsmj8gywCaB5kUQtBFkUHWRQvyCJkEbIIWYQsQhalE8giZBGyqJ2DLBr/IIsAmqemLNKk1PF8v3U83+8enuFNuT/5RW12tBHQa//76cQm6x4qVMTfYOoh7n9X59bDMrwp0zGph3OWerh6s6jNV/KpQUs+NejuuXdr3nq3Vm9YCBnLxNnYjVa0wA4vsqM2kUpYFn3y/31su3+12Xb/arMt/c7dtvQ7d9vKt+9y0aJ3xeacrdiccxvp8azvvgsz1ndhxqa/dNQl7ndXXpq1lZdmI1+3klqixE+zMnAsIplTSyyORM7eMGRnbxiqet8X+H7Wrem3dWv6657bF4kt9auygOi7oJSxbAN/U95K+f33faktyRGWwtrUrlk/aGvWD7o5xF8T+Fm7dsDWrh2oeZwvC/yFvwSP5q+o8ktMLrsy76SBf6wvM3VtSS/Ja23qw+f3fyzRHKeNv4SjL7l1vNYjEuXJx7JubZO6P2+p+/NOYs997ZDNfe2Qdb941LpfPOpEvX/PtWSRL8QUnSP5RMa2vfWK7X3wDdv74Bu27TuvlsrzlaGKaI04786iW8fpXJKbki8S4N2Dpfg/2Ei66/PuwWB9WdU/y+Mq9WDOUg8GzxJfqEoeLbiluk302n/GSWb616w1J+tcKq//Hc1Lfp8+67KcnXVZzpVNa9nuTMFmvnLEZr5yxLq/dsy6v3YsWKt65dLxkvPJJzKWfCJjc/cWbe7eonse1XomqU18iVU1l5TPpfGm/j1nX/SPZ2ORqPoe60jUxT1e40+vNQ/07K7+4cD/gVDjwz9nMxJEfWY433XjI0JeSU4P9/vpRPTYi0rUPFYrej41Oi7OurTzhePW+cJxS355yD71xACyCNoWZBGyiEzAIIvGNsiikQ2yqNyvkEXIosTklkUf/NcpN7d/8F+nkEXIImSRF2RREGQRsgjaD2QRsohMwCCLxjbIopENsqjcr5BFyKIEsghZhCwajSCLgiCLkEUAowWyCFlEJmCQRWMbZNHIBllU7lfIImRRAlmELEIWjUaQRUGQRcgigNECWYQsIhMwyKKxDbJoZIMsKvcrZBGyKIEsQhYhi0YjyKIgyCJkEcBogSxCFpEJGGTR2AZZNLJBFpX7FbIIWZRAFiGLkEWjEWRREGQRsghgtEAWIYvIBAyyaGyDLBrZIIvK/QpZhCxKTG5ZdP7Xn7JtR79q245+1c5/9WlkEbIIWeQFWRQEWYQsgvYDWYQsIhMwyKKxDbJoZIMsKvcrZBGyKDG5ZVHyiYxrO1ceZFHFe8giZBGyqBRkEbII2g9kEbKITMAgi8Y2yKKRDbKo3K+QRciiBLIIWYQsGo0gi4Igi5BFAKNFTVlEQhNGeaIOT9bNRgusjuf6reO5fvfgnbs3WAz6C6bF39pvi7+1v2G5tDDr+GLeJfXsgKWeHXDHuvfLi8yO+0rR5zpHLZGn+A+Tji/kreMLeUs+nrHk49WLcV/a1YqTgI9mLflo9XUl9Pz3de3htIUWR3qtBZZfV+HvaGOkNvPPqQeVRKk2SVoYaiEb/o42KP65em4vWs/tRddGS68pRQ9WX+JoIdn9tWNuwafFuDYg/iZN9+HXhRYhYVmkxZj6rhasrrzlew3Loo/e/3hMxqbur55UW3VR1lZdFPQtf1HhL961EaglaPRd9Ust+FTf2kyqDd1YLm8U6kmMRvHbvV409nxZoHGuxahfznrRRtN/Xxtl//5UJ125YEPq17W/YI6K2kP9uNaGTvemttH76p/ajC2/PGfLL885kbX6vIxLVB858zMFO/MzBUuvOGrpFUfdONcGQa/98ZRObLIFNxcromNUvqiNlu5ZEmbZFXkXzf1qE92zxr/mR7W/L3b8H3amHw8kgI7R+zqnFs6aI/wfalSvmrc67su78SAps2JTzlZsykXKIl2rlnxR/Pryf9zx204/Zqke6/UzXxb50lBySPWrZ6IvJtKJavGg+V71p7G3+PqCLb4+mKv1jNZ8H5YHvjDRs0vldEIq4jkVZ37028KvG//HwGbinj/evKR7PWtjzs7aWP3DXjpRLSeVqLWAxJXaQeNt5uFqaaS20LjSd6vGpPe9evOkxoMvN6OkjM6tugnXj+7d31yr7+i1mxfK82ozEscf575c0vzlj7P5t7Yui2qNn9GIL3DJxE2zsmgiZP20jcgiaFuQRQ2CLCoFWYQsQhYhi/z3kUXIImQRsihOkEXIolpBFhE/yCKAiQWyqEGQRaUgi5BFyCJkkf8+sghZhCxqb1l005I9duPuZ+3G3c/a33/pWWRRjHkSWRQ/yCLiB1kEMLFAFjUIsqgUZBGyCFmELPLfRxYhi5BF7S2LwnP7B6dOI4tizJPIovhBFhE/yCKAiQWyqEGQRaUgi5BFyCJkkf8+sghZhCxCFsUJsghZVCvIIuIHWQQwsUAWNQiyqBRkEbIIWYQs8t9HFiGLkEXIojhBFiGLagVZRPwgiwAmFsiiBkEWlYIsQhYhi5BF/vvIImQRsghZFCfIImRRrSCLiB9kEcDEAlnUIMiiUpBFyCJkEbLIfx9ZhCxCFiGL4gRZhCyqFWQR8YMsAphYIIsaBFlUCrIIWYQsQhb57yOLkEXIovaWRQcuGrSDA6/ZwYHXbMeL30AWxZgnkUXxgywifpBFABOLSS2Lam3sW40WgJIgWox0fCEfLKy/MlTKl0vRYkOLudQDOUs9kHOLtukvHS1F339yyEUL/Y7n+63j+WAzrnLofS3AtdhMPpGx5BMZm/XqvTbr1XudkEg9mHObwc5C3joLeXet1MM5Sz0cLOi1CNE1NUHr3rXQnt4fbEi0INHmQnUhmdD94lHrfvGoe60ynfHmPXbGm/dU3Pucbxy2Od84bGu+v9vWfH+39X53r/V+d68lv5QppSyRlr+1x5a/tcdttHQfrq1UlseytuTb+2zJt/e5crl6eXrQUk8PunvufOG4db5w3G0mdZw2gAu/ud9FmwjVi8qvttHmXLJN51SZzrosZ2ddFpx7+kChql7Ux1IP5Sz1UC7oS88MWOqZAdeWajt3f+X7Sj09aLO/fthmf/2wO8e81w/avNcPuv4nqaTyz33tkM197VDQT7wNYzoRiE7Vl66hNln3gzts3Q/usA/+61RdWTTj5SMuqh8tfnV9bfi1qFu7bsDWrhuo2hD0XZCxvgsy1vnVfpeoTc+6Nf22bk2/e+1vpCRp+y7MWN+F1dIzndjk+qO/EY2KLwLD4kQbJn/TMPueos2+p1glFrXR1uuzNwy56D2NUV1X19C9qc9oDGtDqrad+coRF80dkoRayKttnHwpywz1Q7Xlpxcdsk8vOlRRH+rLkgWaL6M2ZT27i9azO9iE6Foau7U2jb7QV3uuXTtga9cG4lybuHrtp3aO6lO6V1+g14o2+npW+HJafVnl1RyjflqrX668JGsrL6kul9uMl9uwmeeerqP6VXs3+p7aaiSeverr2gSrn2vzu2hHwVZsztmKzdHtp7ZTPWvc1ROjcaWp2kT17IuqcPzNdaOo//pCQuJs+ZZATqmeNGdorGpsqpx6Lmnj736ICK1pGpUraoxqzqnX/pKb/vu+WPbnZCdnR6BPxYnWE3Flgj8nh+9V0u+cxYftnMWHG56rXjvElX6SS838oOBH60m91o9UY9UG6USlgIo6ZuHOgi3cGaxDfRnn+md5nVXveurDkZ/HOEeUQPSFnx//hxKNo57dxap1WKs/Vo9W9BxUm4x3eRolai5T/L4kcVrvnOH1CLII2hlkkRdkEbIIWRSMB2QRsghZVPk5sqi6rUbi2YssQhalE8iiqHqJ7JfIour+iSwa9SCLkEUwdUAWeUEWIYuQRcF4QBYhi5BFlZ8ji6rbaiSevcgiZFE6gSyKqpfIfoksqu6fyKJRD7IIWQRTB2SRF2QRsghZFIwHZBGyCFlU+TmyqLqtRuLZiyxCFqUTyKKoeonsl8ii6v6JLBr1IIuQRTB1QBZ5QRYhi5BFwXhAFiGLkEWVnyOLqttqJJ69yKKJKYvWHH3Mrvi7HXbF3+2wLX+7vWLOQRZV3iuyaPhBFiGLRjPIIoDhgyzygixCFiGLgvGALEIWIYsqP0cWVbfVSDx7kUUTUxad/PPpqrkdWYQsGukgi5BFoxlkEcDwQRZ5QRYhi5BFwXhAFiGLkEWVnyOLqttqJJ69yCJkUTqBLIqql8h+iSyqOg5ZNPpBFiGLYOqALPKCLEIWIYuC8YAsQhYhiyo/RxZVt9VIPHuRRciidAJZFFUvkf0SWVR1HLJo9IMsQhbB1AFZ5AVZhCxCFgXjAVmELEIWVX6OLKpuq5F49iKLkEXpBLIoql4i+yWyqOo4ZNHoB1mELIKpg5NFs+7Ou4eTFrbabDihcV+w8YicYMtCRJsPLaz84zQBzjpYdAJEn2lRpGjhp3Nr0LvFsbc4mnkkEAr6jhZWuoY2TLqGFpVVk/7eYPGlRXjUQnDRDQVbdEPBPSj8h30zckv1rHvVuVRX2mzqnJrYZh0qOumje1Z5da+qIy0y/Y2BNsd+O4Q3RlELKwkT1affdyQyUg/lnFRLPTtgqWcHqtrAF1V6X+V1Ukny7itDrj7Ud3WvWvz4D2JJEP99PQhn3htsULXpVT2rj6kedbwTOOWNv9ojfE6dw23gy3Xi7qksdNSG+p6/CNHn4b6telS5z7y2YGdeG0gEXUsSSd/TZiM8Np0IK9evxI4WUqqTD04FG4oP/t9Trl5VN/peWEo5UVfuByqHv2DUObRpUvur7jrzBbcp13hRubQoW7KtFJ1bG6g4Y1F1ru9KYrhx78kh/3XF/CgZWV5gafPr18F4RWJGc13Uhk9zXZxzxpVs9YSdn6jnih8nt8qLem1Ul16dt6VX15+LVRdaRPqSRm2pa2ijWOtcmj817vVM03yl55SEuI53z68ac7C/UY+SV1EyRGNiybbg2aq5Qn1YG1D1eX+jr/Gl/hKWG5qztLlWm+ne9UyTHFCf0vNKbeSeU4OFqueOPx+qr+naeoboPn15GI7u3b831Y3/PJfUUh2p/effVox8PupY1YW/2RyO6Gslqi9dt/eqvPVelXfzky+LPjh12jrzgcDVedakB100XtSO6tP+XK3nk9Y0Z58zaGefM1i1HkwnNrl69etHz0s9p/yx4LdpOhFs8LVGcOPZkwcqty+v1J/Vj8N9WX3Yl9L+uIkaw+Hx4x+rNZ/uTT+mqC30zPZlu551Ky/Nur6s56N/Dc1PzTwfCSHIImhvkEXIImQRssjSCWRRVJBFyCJkEbJoqsqiwy9/zx7Z/ZQ9svsp2/fW28giZBEhxAuyCNoZZBGyCFmELLJ0AlkUFWQRsghZhCyaqrIo/E83NN8ii5BFhJAgyCJoZ5BFyCJkEbLI0glkUVSQRcgiZBGyCFmELEonkEWEkOogi6CdQRYhi5BFyCJLJ5BFUUEWIYuQRcgiZBGyKJ1AFhFCqoMsgnYGWYQsQhYhiyydQBZFBVmELEIWIYuQRciidAJZRAipDrII2hlkEbIIWYQssnQCWRQVZBGyCFmELEIWIYvSCWQRIaQ6yCJoZ5BFyCJkEbLI0glkUVSQRcgiZBGyaKrKopN/Ds3tp04ji5BFhBAvyCJoZ5BFyCJkEbLI0glkUVSQRcgiZBGyCFmELEonkEWEkOogi6CdcbJo/bSN4z7YCCGTMx+9/7HbUHz0/sfjXp7RjC+LJQvc64jNeSvRJkkb1MXXBwt9f8PRlS1YV7Z6I6CNqqSMNuDauC68MdgYa0OlDZ2EpDZY/iZJ5/broOf2Gj8GlM+lzbjqTxtU/35qbaAlElROfUebRskBbawkGKOESjqxyW2Q/H9648qz4mgp5fdVN9oI+jI29VDObYz96/qSQEJZG1RdU+0RLqeO0Wtfpqu+Kn6QORjqH+WNYlheq8+4HxTK5VF7ux8iyvXr9zG1dVhq+eNC9aNz+/3S/chR/r6OVz9ZtKNQJeR8WbTq4qytujjr7stdoywwaskiiZ11fcdtXd/xoE08AaFz+/fh32c6EYgn9Wn1LV8iuL5XFpG69+SjWUs+mnX9J9yH3Ngsj0Ffxmp+8suvNgqfU9+VADmn94id03vElXvhjQX78JNAFp388+mKvueP1XBdu3FSLueKTTlbsSlXJU70Q47/ffXz8PWq5uJyXUik+O9L6NYaP+E5Ks587cvCONFc4v/4Mpy5X/eifqfngOZTJ6/LbdJ3Qcb6LqiU7/ohKe49+/NWPSFOGqfRj+1jFc3n412OdgqyCNoZZBEhpOUgi5BFyCJkEbKoFGQRsiidQBaRyiCL2jfIImhnkEWEkJaDLEIWIYuQRciiUpBFyKJ0AllEKoMsat8gi6CdQRYRQloOsghZhCxCFiGLSmknWfTImyfs5eKb9nLxTXvweyeQRU3M28giEg6yqH2DLIJ2BllECGk5yCJkEbIIWYQsKqWdZFH4D8n7fQ9ZVD/IIhIOsqh9gyyCdgZZRAhpOcgiZBGyCFmELCoFWYQsSieQRaQyyKL2DbII2hlkESGk5SCLkEXIImQRsqgUZBGyKJ1AFpHKIIvaN8giaGeQRYSQloMsQhYhi5BFyKJSkEXIonQCWUQqgyxq3yCLoJ1BFhFCWg6yCFmELEIWIYtKQRYhi9IJZBGpDLKofYMsgnYGWUQIaTnIImQRsghZhCwqpZ1k0Xv//oH953/8yf7zP/5kv/uPk8iiJuZtZBEJB1nUvkEWQTuDLCKEtJypJIsIIWSqhLmd1IvEpl7f8PNr7IafX2Pv/J/p9s7/mW77fnOp7fvNpXb7Ly+32395uSW/PGTJLw9Z6sGcpR7MWc/rB63n9YO29WfXuUiyLf7Wflv8rf123o922Xk/2mUXvXuzXfTuzbbrl1fYrl9eYRt/stM2/mSnLXjjgC1444D7YeK6f7rWrvuna233rza7bD6xwzaf2GE3/WKr3fSLrTbv9YM27/WD1vnVfuv8an+VmNTnOufeX19me399mX3mH7e5bDmx3bac2O7Kec47t9k579xmh357sR367cWWe+/TFRl6b4MNvbfBLv3xjXbpj2+0rheOW9cLx+3+f13rovq64N1b7IJ3b3Hnuvmfr6zIlT+9wa786Q0269V7bdar99q6H9xh635whyW/MlTKY1kX1euGH95qG354a1X5GrWxfhhRfW/8yU5XPwd++/d24Ld/79pM7arPUw/kLPVAtSCf+9ohm/vaIVemDT+81Va+fZetfPsud0+qL0lOHbfk2/tsybf3WfoHt1v6B7db71V5670qb52FUnTuua8dstQzA5Z6ZsC1v76jfuHO8d291vvdvVXl1H1N7y+46AcDCdvkl4fsU08MIIugbUEWEUJaDhsKQghpvzC3k3pBFiGLkEXIImhvkEWEkJbDhoIQQtovzO2kXpBFyCJkEbII2htkESGk5bChIISQ9gtzO6kXZBGyCFmELIL2BllECGk5bCgIIaT98uZjb9uPXjphP3rphL352NvjXh4ysYIsQhYhi5BF0N4giwghLQdZRAghhEytIIuQRcgiZBG0N8giQkjLQRYRQgghUyvIImQRsghZBO0NsogQ0nKQRYQQQsjUCrIIWYQsQhZBe4MsIoS0HGQRIYQQMrWCLEIWIYuQRdDeOFm05JpgMHdlC9aVLdj046Ukv5Qp5YkgM44VbMaxQuwHSvdgwboHg3OGB97cu4o2965gktb7ej1nX9Hm7Cu672rwzvt8KXP3ljL/1iCph3OWejjnvtNZzFtnMR9co/y+JjJNRjOPFEs5XIomyRlHi1UTp1/u+bcVbf5tRZt9T2V0XOrpQUs9PVhRL/qOXs/eX7TZ+4P7qJq0Xz5iM14+4u5dk2OcNui5vWg9t1efs2oSL9dnrc9mHSzarIPBZx335a3jvurrq83896cPFFwW7Cragl1F69lditqk+8Wj1v3iUVu4s2ALdxZcfbtFRrltFfWt7sGCq0+1nx5cags9nPU6+eSQJZ8ccv1DC4eZ9xZdUg/lLPVQzhbcUrQFt1Tf05xvHLY53zjsHszTXzpq01866h5o3UMF6x4qWFcmyKLtpai9XX0+128dz/XbohsKtuiGgvXcUbSeO4K+o/qu1dfUJ864qWBn3FSo7lvl41wblMeZ7tMtLkLj3D0wy+f2r6XPT/7ltJNFJz857fql+kv43jV3LL0mb0uvybs6WLKtYEu2FVzfVx24/luuiyWfLdiSz1bOPd2ZgnVnCq5P6P3F1xVs8XXV89QZnyvYGZ+rfl9lCbeJ6/vlRaNeL9pRsEU7gjbyj9fnKsPi64K+r77tzyELbi7agptDr8tjxJ8bp/cXbMO8/bZh3v6qMaeFTOT49q5ZL1F9Xlm+JW/Lt+Td/UXVRTqxybXb0qvztvTqvFvgVT0ryuPFrwP1uXmfL7pzRJVL/UHl0rxeVf7Lcy6N6sLfTPjnWLGplJr16LWr6qJWXw7Pwar/ZVfkXTSP+89J3aPfvhpH/nygeg33L/ed8vwUp4+E+5T6w/ItQdtozlD9zN1TtLl7gnlK87/fp/Ra/STcVxq1v9r9zM+UojpbdVHWVl2UdeNv4c5CVT1p/Gj8Rl1j1cVZW3Vx1s0lqt9wHfvx5x21qesX5Tmw1nfV9/1+6ObLiDbTfObPp+Hvap721x1aa/Wdn7G+8zNV51Ydam4Mz4+zDhVt1qHgdWe+YJ356vpefe6QrT53yN271gG16sC/hp4pajN/jaP7Cs+biupL5Tjz2lL88e6vefzyh+vUPZfLda61i9rdn4fU9zXONTbm7im6+tM4iZpT3DrKmxdUjxqb4TlBz0nVn7vn8jNE87jO5c9f4bV2o7mhXntGpd44qBXVY1Rdhe+t0bminhWjEb/PDSdRa/DxiuaM8S7HWGf9tI3IImhbkEXIoqogi5BFyCJkUTqBLKoY58iihn0KWdR+suid9/7Nfvf79+13v3/fTrzx84rvI4uQRY3mBmRRdJBF7RNkEbQzyCJkUVWQRcgiZBGyKJ1AFlWMc2RRwz6FLGo/WXTyz6cj/4kxsghZ1GhuQBZFB1nUPkEWQTuDLEIWVQVZhCxCFiGL0glkUcU4RxY17FPIImSRPkMWIYvSCWRRvSCL2ifIImhnkEXIoqogi5BFyCJkUTqBLKoY58iihn0KWYQs0mfIImRROoEsqhdkUfsEWQTtDLIIWVQVZBGyCFmELEonkEUV4xxZ1LBPIYuQRfoMWYQsSieQRfWCLGqfIIugnUEWIYuqgixCFiGLkEXpBLKoYpwjixr2KWRR+8ki/sA1sghZNDpBFrVPkEXQziCLkEVVQRYhi5BFyKJ0AllUMc6RRQ37FLKo/WTRvDuL1nd+xvrOz1SdG1mELGo0NyCLooMsap8gi6CdQRYhi6qCLEIWIYuQRekEsqhinCOLGvYpZBGySJ8hi5BF6QSyqF6QRe0TZBG0M04WrZ+2seFg0EMzjizwJ46qhUSNc41FUvfnLXX/2EysWiS7e/bqoFYu/fGNdumPb3SvZ75yxGa+cqSpB0LczaDEif++hFS9jXPc9le0AQyLCCcpnhq05FOD1ve9O63ve3dWLTJ9WRfn2pIr/mJoJKJFrxaT/qKp3obZ9QXvHju+kLeOL+Qj7zVWucqiS68XX1+wxdePzL1rUaM+rbGre/3gVPTftUgnKiVH1GfNiM90YpOt+f5uF3/Dqaxb02/r1vQ3PFc9KaKNp9rItXPENcc6Koc21I0Wa5of1IaaE1P3550Y1RjV+/oBQRKj1sazoi+W27KzkHfznjZ0OofKqff7LsxY34XVG1K/D555bfWmMEr++ZucesJ85aVZW3lp1r2WcPI3IBe9e7Nd9O7NTq5q4yVBrePPuKlQJVWj6k316+SGt4kMHxs17zSqi3oiQ/OzpLnuxT/Ob0sJFV1Tc87i6+uLw3SiWkjpmrr3Wm0lubb+rGO2/qxjkffU6LlVqxySWZIXGk8SvL1b89a7Ne+O0+soIV3vXocTvy+5NimPY/2o5/f5NelBW5MedM8ctVktESaZptdqZwm8KGEaJ2o79Vs96/RDjy+LVN7wc9JPVD9V1HY6bubhohtruq47tvwcqiccoqI5TfOn2ltznASEyqO5RWugVvqF+p+ktdq274KM9V2QceMwPBb1g42/PtL8qh9y/LqJUx7VX6O2UdQe7ofaGKLG/1FI8+qKzTlbsbm2sI8ri/y+U7fsw1xf1puf/HpzP7iV68lvQ/+cvpStl1bGs596P5ZMxGgMunpusD+rtYYNtz+yCNoZZNEoBlkUmpiRRRVBFlV/hiwaXpBFyKJwkEXIImRRKcgiZJGCLKpRJ8iioJ6RRQCRIItGMcii0MSMLKoIsqj6M2TR8IIsQhaFgyxCFiGLSkEWIYsUZFGNOkEWBfWMLAKIBFk0ikEWhSZmZFFFkEXVnyGLhhdkEbIoHGQRsmgkZdHL7/7Gvv/TP9j3f/oHe/Fnv0EW1QiyKDT/IIsaBlk0/kEWAcQHWTSKQRaFJmZkUUWQRdWfIYuGF2QRsigcZBGyaCRl0YefhP7nBX8+jSyqEWRRaP5BFjUMsmj8gywCiA+yaBSDLApNzMiiiiCLqj9DFg0vyCJkUTjIImQRsqgUZBGySEEW1agTZFFQz8gigEiQRaMYZFFoYkYWVQRZVP0Zsmh4QRYhi8JBFiGLkEWlIIuQRQqyqEadIIuCekYWAUSCLBrFIItC8SRehQAAIABJREFUEzOyqCLIourPkEXDC7IIWRQOsghZhCwqBVmELFKQRTXqBFkU1DOyCCASZNEoBlkUmpiRRRVBFlV/hiwaXpBFyKJwkEXIopGURe/9+wf24Z9O2Yd/OmW/+4+TyKIaQRaF5h9kUcMgi8Y/yCKA+DQliwghpFY+ev/jurKIxMvcPUWbu6doyUeypZRFqgRPV67gou8seOOALXjjgNugTH/pqE1/6ajbRERJBUUbmrBgknhc/K39tvhb+y35eMaSj2es+2vHrPtrxyz1YM5SD+Zs7muHbO5rh9xx2ih0vnDcZflbe2z5W3ss9exAKeXvahHsb0yiEv6BQRJLwrj7xaPW/eJR63iu3zqe63fyQ9JYmxAJHgnx1edlXHpeP1gRbZwlcM7eMGRnbxiqKq/qed3qflu3urGYrBWJsuEISG0OJRO0aRxWOcobTPUl1e/srx+22V8/7OpZWfLtfbbk2/tcfav/zt1TdJv+DfP224Z5+wMBWd7oaXOjvqM+5457ZsBSzwxUlE+yupEs8vuMNuWqG5Vpw7z97l787875xmGb843DTsJo86hNkcaExqrqquO+fNDvytdVn9cGT3WgzYfG1caf7LSNP9lpqQdylnog5+p99tcPB/XzaNaSj2bd+Eo+OWTJJ4ecEJAsUj2qPdSvZ716r4vuTbLvnN4jdk7vESd6ncQsSwSNFVeW8nhygm93MEf1fnev9X53r205sd22nNju5JB+AFPbxfkRbaKnkTTwx6Qv9AghkzvIImhnkEWEkJaDLBqZIIuigyyqHWQRsghZNL5BFhEytYMsgnYGWUQIaTnIopEJsig6yKLaQRYhi5BF4xtkESFTO8giaGeQRYSQloMsGpkgi6KDLKodZBGyCFk0vkEWETK1gyyCdgZZRAhpOciikQmyKDrIotpBFiGLkEXjG2QRIVM7yCJoZ5BFhJCWgywamSCLooMsqh1kEbJoNGXRfT8+Yc995xf23Hd+YU8+92NkUY0giwiZ2kEWQTuDLCKEtBxk0cgEWRQdZFHtIIuQRaMpiz44ddrN7f/50SlkUY0giwiZ2kEWQTuDLCKEtBxk0cgEWRQdZFHtIIuQRcii8Q2yiJCpHWQRtDPIIkJIy0EWjUyQRdFBFtUOsghZhCwa3yCLCJnaQRZBOxNLFs08XLSZh4tugT3j5SNu0aNj9LDszJeiBYBbWJUXFXP2FW3OvqJbJE3vr37ARr2v73Z8MW8dX8y7hWN3pmDdmYL7fM6+YFOgxZCO1SZDC1Vda8Guoi3YVay6Zy1o5t9WtCXbCrZkW7Ao97+z8pKsrbwk6953G6fywkuL5/A9qb7ca28Rpvfn7i3a3L3BwkqLYNWF6r8rU3CLVy0So9pVf7yy64Xj1vXCcXfPupZezzxcdPWljZPq2S16ywtpt8n1yq9FdHjDp4W0XmvxPetQ0WYdKrpFsTYiOpfaUPWq16n781X30vF8v3U83+/6q+7Z7w/JLw9Z8stDrj3Uhgt2BX2ps5i3zmLetb++o3ubc3fR5txdtHmvHyylfJwWz7rfmfcGbaLNmTbrume1pcqp16orfV+fz76n6K6nTZba0d+Aug13eUOj97XZUB105guu3d14Km9AdC19N7yh+Oj9j11/6B4sJdzvtNlesTlnKzbnbOHOgi3cGb3Q9qPNcXhsamPvxuAtRVtwS9FtgvTdVRdnbdXF2apzLvlsoZRtQdx3yufWPOPqy9sc6X6q5s+yqJh5JHosqg399/05ZunVeRf/2JWXZm3lpdX3pjZwG/qyeNL4CfchSQvVgd5fdkXell2Rd31kzfpBW7N+0G161q3pr0j4nOoL6lOrzx2y1ecOufHkrnFl3pZdmXfyxo2RcpnU5+Z9vmgLbyzYwhsLbvxq7GnOU59S+XTPPbeXou/Xqj+JErW72k6yyG+LtWsHbO3aATeGVUc9dxSt7/yM9Z2fcX8gWOXUuNL41zk1v65fddzWrzru2kFCavF1BTeX6Z40HhqNG13Tf04t2BXUj8qp8e7m6/KcrHOp/jSfqZzLt+RddC/qK2pn/zmjMar2d/2yXN7w+NEYkyzyn3E6zs1l5XPpuao2DdeL7m3RDQVbdENQj71X5a33qrxbw6g8Oj5qLglH/VB9Ku64byZr0oO2Jj3orqH6949T3w+/pz6lcuqew/N7+IeAk385bbMOFKvqPdw/I+ui3GdUb+pbmg90nNZNGitz7g7axhdL6kuaY3SP6o9ap1TMx+Xv6FhdQ/O5rq/jm5GvWgv496K+o3rVs0Tvxzm3/8z1nxFujivfR63jtR7yz6H6k9DzhbjGqr8WSyeCZ2crfZiQyRiNl3QCWQTtDbIIWYQsQhZZOoEsQhYhi5BFyCK9jyxCFqUTyKJ0AllESK0gi2CqgCxCFiGLkEWWTiCLkEXIImQRskjvI4uqy6X1B7KodpBFhEydIItgqoAsQhYhi5BFlk4gi5BFyCJkEbJI7yOLkEXpBLIonUAWEVIryCKYKiCLkEXIImSRpRPIImQRsghZhCzS+8giZFE6gSxKJ5BFhNQKsgimCsgiZBGyCFlk6QSyCFmELEIWIYv0PrIIWZROIIvSCWQRIbWCLIKpArIIWYQsQhZZOoEsQhYhi5BFyCK9jyxCFqUTyKJ0AllESK0gi2CqgCxCFiGLkEWWTiCLkEXIImQRskjvI4tKxxZ3PGqP7H7KHtn9lB187XvIojpBFhEydYIsgqkCsghZhCxCFlk6gSxCFiGLkEXIIr2PLCod+9H7H7u5/eRfTiOL6gRZRMjUCbIIpgpOFnUOxnsYNptai/J0IthohTexfvQg1ULP/1yiRK/n31p0Ge9JZLjxF3S1NtsjFW20x/ue/UhAxT1e/aNWHxmJSAY0Os4XQXHiS1d/wzJRok2k/742ZRUbik9O1z2XNuW+FGhU7xoLtRbYklh+1CYSe4uvL9ji6wuWeihnqYeCPqYFb3gDrYW+vwnyv+tLGG3aZn/9sM3++uGKjZQ2s044PjlkySeDjZIvpPx+svofPu+iBbwbB2X5Mp79RGWr9VnP6wet5/WDkd899NuL7dBvL3avJfzqXS/qGF9WS7b6Gz+9rrcZlPQ470e77Lwf7ar63BeSzcSXMFG54efXuGhze+mPb7RLf3xj09esNe/7UtKVz5PTUYnahKYTmyz9g9st/YPbbdar99qsV+91ki31YM5SDwb1Llnkf7+WbNV830g0a42hsal5IByNV9Wn4s8zvhxqRhb574+EJIobfyzUypYT223Lie120y+22k2/2FrxWXhu/+j9j2t+/77fr3eJ7CPees1f2yz59j5b8u19brwN515beX7qGSfpq/cLv09b4ffpqvm2VjS2ul88at0vHm2p3fwfFzU+GgkmPfNWvLXHVry1J/ihp0EfSCc2uTlu5y+utp2/uLopmaX0fnev9X53b9X7zdTJ7b+83G7/5eWxr/nZf/ysffYfP+ueuXpfa4iuXME2/PBW2/DDWxuea+l37ral37m7qixRz+ZW4q8lwtEP3SN5vZGMv95d+fZdtvLtuyKfS/XWBo3ymX/cZp/5x2116ysqufc+bbn3Pu1eS4y2cu8aH+H3kEXQziCLJliQRcgiZFHtekcWIYv8IIuQRcii+kEWxQuyCFmUTiCL4gZZhCyCqQOyaIIFWYQsQhbVrndkEbLID7IIWYQsqh9kUbwgi5BF6QSyKG6QRcgimDogiyZYkEXIImRR7XpHFiGL/CCLkEXIovpBFsULsghZlE4gi+IGWYQsgqkDsmiCBVmELEIW1a53ZBGyyA+yCFmELKqfVmXRlr/dbvnfb7P877fZlr/dXvP7yKLKsYUsQhbFCbIoXpBFAOMLsmiCBVmELEIW1a53ZBGyyA+yCFmELKqfVmVROlE9Nv0giyrHFrIIWRQnyKJ4QRYBjC/IogkWZBGyCFlUu96RRcgiP8giZBGyqH6QRfGCLEIWpRPIorhBFiGLYOqALJpgQRYhi5BFtesdWYQs8oMsQhYhi+oHWRQvyCJkUTqBLIobZBGyCKYOyKIJFmQRsghZVLvekUXIIj/IImQRsqh+kEXxgixCFqUTyKK4QRYhi2Dq4GTR3l9eMqYTTRxZ1ChjueBqx0xUMTHRoo19o+MayY848WXhREmULFLCsuiDU6fdok0bxPCx3/q3efatf5tnj/9hlT3+h1U28C/n2cC/nOc2bzrun//9U/bP//4pt6l45n8us2f+5zLb9csrbNcvr6g45/3/utbu/9e19tL/Wmwv/a/FbnOj9+/89Sa789fB8VGLUS1GUg/lbNaBos06UN0W/mJDC3HJJQmAI7+70I787sLK85dFqDaR635wh637wR2x2+HY7y5w0SZcn0Vt9MYyF7x7i13w7i01P0s+krXkI9EbFvUVyRC9v2RbwZZsa26e8sWONiq++Gsmfh+KivrBGTdFX0dyUq+jZI1SazNea8EaJzOOFm3G0XhzTNy5b8bLR2zGy0fqtkXy8YwlH884WRRV/gU3F23BzcE1tWENb1q3/uw62/qz66x3a956t+Zt3ep+W7c6kFV+O/sb6IvevdlFx2j8RG12h/NDVGe+YJ35oBwSi/oRbdkVeVt2RXOCN45EDUfzbL1jtJGuNX4PXDRo+T88Zvk/PGYHLhqs+f3r/ulal0bXiPr8nHdus3Peua3p/hzOaDw/az1v0olg/VRrDeXfSyvzznAz97VDNve1Q64scepWQmTN93fbmu/vjnUdfy6r9cxPJzY19YNeXLGj9H3vTuv73p22+1ebbfevNtc8JvX0oKWert1/6x3XrLhqJkPvbbCh9zaMab8YrWg+3Xxih20+sSPy8+Gcu5W5QXP+SN7rzFeO2MxXKp93yCJoZ5BFUzjIonhBFiGLwkEWRQdZhCyKagtk0eSUReG5/aP3P675fWRR/XtBFiGLagVZFC/IIoDxBVk0hYMsihdkEbIoHGRRdJBFyKKotkAWIYuQRSNXrkZBFlUGWTS6QRYhi6B9QRZN4SCL4gVZhCwKB1kUHWQRsiiqLZBFyCJk0ciVq1GQRZVBFo1ukEXIImhfkEVTOMiieEEWIYvCQRZFB1mELIpqC2QRsghZNHLlahRkUWWQRaMbZBGyCNoXZNEUDrIoXpBFyKJwkEXRQRYhi6LaAlmELEIWjVy5GgVZVBlk0egGWYQsgvYFWTSFgyyKF2QRsigcZFF0kEXIoqi2QBZNTll005I9tu83Q7bvN0N205Lamy5kUf17QRYhi2oFWRQvyCKA8QVZNIWDLIoXZBGyKBxkUXSQRciiqLZAFk1OWZRObLKNP9lpG3+yM/L7yKL694IsQhbVCrIoXpBFAOMLsmgKB1kUL8giZFE4yKLoIIuQRVFtgSxCFiGLRq5cjYIsqgyyaHSDLEIWQfviZNH6aRvHfbIhhEzOxPm7FlM1qQdzLhJL0/sLNr2/0FCEzNlXtDn7gs3P2RuGXKK+01nMW2cx7zbIM4+Uos8l37TRkTyYcbRoyacGS3kiU5my6El+KVNK+bXO1T1UTnmz0VnIu0iQqQ5mHCvYjGMF63iu3zqe63ebiO6vHbPurx1z59amWD8KzDoYRJtCSQRtwrUpk9BbviVvy7fkreeOovXcUXSfqwwSvKvPy1Rtwv0Nns6p8sy/rRQdJwGga/XcEZxLAkR1rg2W3u/KFqwrW3A/oEgeTT9esOnHC+5a828L6kDfUV8aib4q0anySxLHlUaq7+VbAgEStaFesTlnKzbn3OtlV+Zt2ZXB99W24Xafd2cpEje++FJfX355zpZfnnP9QuNM7+tay64Myrmu77it6ztuq88dstXnBuNL7brq4qytujiQnaoT1VW4jaLqR+VpVI++HAtH/VBjQHXR8cV8RVQXvVflrfeqUHvsKLioL0teR/UltcnSa0rxP1e7zLuz6ESpL/0UlVdSXuc8+5xBO/ucYJOu/t2VLVjyySFLPjnk5hk315VlnF8nzQq1un263GdG4lxxx1G9qO30WvOP+pabQyLqPxyJeZVL0TwQpzy+LGo2Mw8Xbebh1upE0rWRpA/3K7+v+32t4768ddyXd89APdtqlV3fibzH8rPYf1/zV7iv+8foeeifQ8+wqGtqHdBZDMbr3LuKNveuoH2jrjkakdgfi2vVi/9j30gFWQTtDLKIENJykEXRQRYhi5BFyKJ0AlmUTiCLkEWVQRYhi8YyyCKA5kEWEUJaDrIoOsgiZBGyCFmUTkxOWXTTkj12w4Hn7YYDz9s1B59BFrUQZFF1kEXIorEMsgigeZBFhJCWgyyKDrIIWYQsQhalE5NTFoXn9g8/PoUsaiHIouogi5BFYxlkEUDzIIsIIS0HWRQdZBGyCFmELEonkEXpBLIIWVQZZBGyaCyDLAJoHmQRIaTlIIuigyxCFiGLkEXpBLIonUAWIYsqgyxCFo1lkEUAzYMsIoS0HGRRdJBFyCJkEbIonUAWpRPIImRRZZBFyKKxDLIIoHmQRYSQloMsig6yCFmELEIWpRPIonQCWYQsqgyyCFk0lkEWATQPsogQ0nKQRdFBFiGLkEXIonRicsqiAxcN2v7iG7a/+IbdUfg6sqiFIIuqgyxCFo1lkEUAzYMsIoS0HGRRdJBFyCJkEbIonZicsijcrhI7/ufIonhBFlUHWYQsGssgiwCaB1lECGk5IymLfEGiRZI2LNoEhTdn2oBowaxFnL/h13H+Nd3mfVewUU/dn7fU/Xmbu6doc/cE0sVtEsuLcm0WZx0opd69aePpbxp0Di0M9X5XrmBduWAjoE1QeCOkjZ7uQRvAqDJoI+qEyz3Fqu9oc6161OduI1iuo7l7yynXkQSA7nPhjQV3jBauS68uxd+w9l2Ysb4LM9bxhbx1fCHv7kdlUR2c8bngO9o8+gt/1yZlyaC2Uzlr1Ys2rdr0qu61+V55SdZWXhIIMrWVNpMrNpVSSxZpY5x6oBRJN1+2+fWr9yUwVp875ISj23SX+6lknDbQiq6hMui1+sHs/UV3TreJ8PqdEzflPq4NlMamPlc9zzwSHKt6k3hqNP6dmCj3k/BnvmBS3x+JOUyyyH9f7eq/ljzy5VjFeC+Xb9H2UvS++qHGhjaNakPND2qX5GNZdy6NI20WNY70WpJA7aBrJx/NWvLRbDBv7Q7aWefWmHVzhTcvRG3G16QHXfSeLyt0bn8O1jnP2pizszbWljJREk5zRCsSRvOgXmv8j0Sf8ucj1UEckdPwnJ5YlgjQ530XZKzvgkysc2ncqx6jpGC9aC4YifqL+hHFl6jqn5JF/vwwFSKpNRbXcvNWxDN0KgdZBO0MsogQ0nKQRcgiZBGyCFnkjXdkUdXchyxCFjUKsih+kEUTI8giaGeQRYSQloMsQhYhi5BFyCJvvCOLquY+ZBGyqFGQRfGDLJoYQRZBO4MsIoS0HGQRsghZhCxCFnnjvQ1kUd/QY3bF3+2wK/5uh6XvfhRZNJxrIIuaCrIofpBFEyPIImhnkEWEkJaDLEIWIYuQRcgib7y3gSw6+ZfTbm7/8JPTyKLhXANZ1FSQRfGDLJoYQRZBO4MsIoS0HGQRsghZhCxCFnnjHVlUNfchi5BFjYIsih9k0cQIsgjaGWQRIaTlIIuQRcgiZBGyyBvvyKKquQ9ZhCxqFGRR/CCLJkaQRdDOIIsIIS0HWYQsQhYhi5BF3nhHFlXNfcgiZFGjIIviB1k0MYIsgnYGWUQIaTnIImQRsghZhCzyxjuyqGruQxYhixoFWRQ/yKKJEWQRtDPIIi+aeLVB0GZj1sFgctQiPPXMgKWeGbBFNxRs0Q3BpkgPzenHCzb9eMGSTw1a8qlgEaVzd3wxb12ZgnVlCtbxfL91PN9vPa8ftJ7XD7rNRPIrQ6WUF4xV5Xyu3zqe669YVGoTM32gYNMHggeuyqvv6r7cZqOcWa/ea7NevbfinNq0aCOnc2ozodddLxy3rheOuw3/nG8ctjnfOGzJxzOWfDzjFqdduULVPbnrlxcuWhhoodiVLVhXNthYadGuhfaMo0XrzhSsO1Ow6S8dtekvHXVt4i8IVTdaxPmb5WVX5l20ydGGVJsuv/w6l9pUbXfWZTk767Jgo5h6IOfqJ/VwzlIP51yd+Bs61ZvqQvenNlRbJx8J2spvT21AdI+6hqSD+mut8eALEm1IUs8OlPL0oKWeHrQPTp0eMVlEyEjF38hroetvisPpvSpvvVdVL74lhZJPDlnyySE3jjQHa37SvD/9eDDXafysvDRrKy/NunlUc4U/v4ZFzuz9wWZo2RV597xZfV7GVp+XcfOL7kmSxsmE8vG+fNE1u4cKruwSETqn5lXNMW7+Lh/v6rW8UV18fcFFx2ie8WWR5KBeS0yuXTtga9cOuHtXHXVlqkWoLxF075rfnfAtl0/n3vDfr3fRXNx3fsb6zs+4DefZ5wza2ecMuueR5JCeO7q25uJwOdU3fFmk8ul5pDaVUNN96HtOxu4NrjPn7qLNuTuoF/U13YfKq7lbfU4J9yuJG5Vn1UVZW3VRsHaYd2fRDr/8Pbvv6Xfsvqffsf3fftu6B0MyqXyec5O3u/jSwhdlrn+W+5Zef3r+Afv0/APu/sLrJH1X/c/1YU98+s95rU/C40f9UcdqnKj+GgkHrQvUZisvybpzRkktlc8J9PI8pPfVxpqvwnOW6klSSONEwklrCgkWrRHqSUw/am+/fn0507s1b71b88H6bl9ofJbHu19/vjjXfbjX3o8f6US1LOos5K2zEMyLWjdpPlCdtPKsUL/z35ekr/UdNwa9tXZkPZfXkBK8bkzU2Gf40TrNX3M3E4lZv2/F/b5+fAv/ADdcYV9v3dkomuMa1XP4B6SoPh33GrXOqXGbTiCLoL1BFnlBFiGL0glkkXugI4vIJA6yCFmELGpNFs27M5AYei6pnMgiZBGyCFmELEIWQXuDLPKCLEIWpRPIIvdARxaRSRxkEbIIWYQsQhbVD7IIWRQnyCJkEUxNkEVekEXIonQCWeQe6MgiMomDLEIWIYuQRcii+kEWIYviBFmELIKpCbLIC7IIWZROIIvcAx1ZRCZxkEXIImQRsghZVD/IImRRnCCLkEUwNUEWeUEWIYvSCWSRe6Aji8gkDrIIWYQsQhYhi+oHWYQsihNkEbIIpibIIi/IImRROoEscg90ZBGZxEEWIYuQRa3JopN/Dub2D06dRhYhi5BF6o/IImQRsgimAMgiL8giZFE6gSxyD3RkEZnEQRYhi5BFyCJkUf0gi5BFcYIsQhbB1ARZ5AVZhCxKJ5BF7oGOLCKTOMgiZBGyCFmELKofZBGyKE6QRcgimJpMOVk04+UjNuPlI7EnjJGMv/CpFS0yx7ueRivaNM37/NjWvb/JGM34i6Oxjr9YH4t89P7HYyaL+i7IWN8FmVG9Rs16LS/wR+P649ln9HdJ5t0ZbEi1WNdYjVpIax7Vwk8CQxuwGccKbkMadd2l1+Rt6TX5KnngJ7ygVlvU2miMdlRe/31JBLVlzx2BIHEit7yxkxRyUvj/Z+89v+Sqrr1d959wv51zxnmrWzk1QgEJZRQahA7JQhJJZCQkWYggQEJZLanVoQIYTAZjMCAyCBkTDMZgI4zB2CTbvE4ncF7kY/seLPneO947xh3zfqj9m3vXqqru6q6OpWeO8fuwq/dee6255lprzmfLOIIx5fzcaexszFnjxsr3VcGjUn/TfIYFvs9BVNir6NX9muvk2MPCRP0rAvdKwiPA31Uh0FRXDAGrkca6cO4+Wzh3n/8u2CLYrjka/UyzjX6m2YY93mLDHm/x3+XXyatiWKS56WnfkuBRBbIKY/lR60tzELYxv6nV5je1duu9KgBT97fbl38/6nv7ka+OWeMNOZ+z7hSKIaANC1WdW93xmfaQcrHdWQEuf4awSH/XWhQk7sn8qX+CCYIeAj1aP53tYwKegiwCDSpU/QNTBH5D/ym+J6+O16uAt/YlQSL1K9wPKlmT5SQAXTSuaF2F18nf/G/RGPWhVv2vZt0rhvVBTutaH8DkG+33OhtLzU0I2zQX5d4d+jt5tunDcU/HVcqHqXs6LHVPh6+x1P3tlrq/3UY8ucdGPLmnqA3VKrrPPxpE7aTuiWNGY9f5F44x3FN03Rkskl91HQLI8EOtzlGtr4KPqMHH+t6UPoyMeXa3jX5qJ7AIq1kDFvXju4FFwKL+ELCoj/wKLCp6FlgUC1gELAIWddImsAhYlBwXsAhYBCzCsCFhwKJ+fDewCFjUHwIW9ZFfgUVFzwKLYgGLgEW1CItyP/+JPf699+3x771vd75yGFjUDQGLgEWlBCwCFmHYUDJgUT++G1gELOoPAYv6yK/AoqJngUWxgEXAolqERan7293fmltgUWUCFgGLSglYBCzCsKFkwKJ+fDewCFjUHwIW9ZFfgUVFzwKLYgGLgEXAok7aBBYBi5LjAhYBi4BFGDYkDFjUj+8GFgGL+kPAoj7yK7Co6FlgUSxgEbAIWNRJm8AiYFFyXMAiYBGwCMOGhAGL+vHdwCJgUX8IWNRHfgUWFT0LLIoFLAIWAYs6aRNYBCxKjgtYBCwCFmHYkDBgUT++G1gELOoPAYv6yK/AoqJngUWxgEXAImBRJ20Ci4BFyXEBi4BFwCIMGxIGLOrHdwOLgEX9IWBRH/kVWFT0LLAoFrAIWFSLsOij//rS/vSXo/anvxy1T//9CLCoGwIWAYtKCVgELMKwoWTHHSwaSCnRTv52wnU5O+G6gQMLg1FhAlhOOrwnHNzh6i4EVMLY2T1jn9tlY5/b1aP5baorPjSb6mI4UP/Ifqt/ZL8XVjr0inzSD4BNfVKCkLo/LtzDRDpUf8AiJcel5ljFt5IcFVjTXr7Fpr18i5319no76+31fv+pb15np755XTzHUZsNj7a49DcVY3pH6sE2Sz3Y5s+EyZkSa70z6U8lueOe32Xjnt9l1394nl3/4XllYZEKhBPu4BKpAAAgAElEQVS/kbUTv5G11APtrr2fnGF7PznDk65wjJVKiWCycOtK5YDD1O9vsanf31LymdRDbZZ6qDjBVzKuJL03YiUsJoa3Z214e2VFbaiTLs3aSZdmfa2Gfw+LSc1HuUS4JxKYGPZ4HJddjalcoVxuj+ksNrr0dycJueJyyktbbcpLWx12dBYrSSWBicdMtK7LPROup8aDO6zx4A5Lf3aapT87zfZ/usSleya+uN0mvrjdZr66yWa+usnfKeAXFlZak53O24F9NuzAviL4NqI9ayPas3byBRk7+YLy0Et73vjN8Vi6C0g1ns7uUWwPP7DPhh+IgdmktVn7038f8739yFfHSsLM8S/sdJWNkWjfLPf3pT9Za0t/srZH60NroTMQGiqcE0EWncXyc7l+JeFg+NuaDy62NR9cXBR/XfVJOU0IJZrqlhfBonJtaO9ZcfhqW3H4arv7N/NcFfsziIPuSOtc11pHYYFftFYiEDQsk/WzrdJ3av8J/Z6UPhR31Zagka7X//xCW//zC0veG0INqStYJJ3x9jV2xtvXdDqm7vpfkLugP9F+U+6Z3vh4rr31pl8ut5t+Wfz37K+aLPurpsrmMwJSun72d5Ps2d9NKptj99THPdWLv2+0F3/fWPDboq8tAxZhNWvAon4UsKgyAYuARaUELAIWVSpgEbAIWJQXsKi0gEWd+BNY5NfAosoELAIWYbVrwKJ+FLCoMgGLgEWlBCwCFlUqYBGwCFiUF7CotIBFnfgTWOTXwKLKBCwCFmG1a8CifhSwqDIBi4BFpQQsAhZVKmARsAhYlBewqLSARZ34E1jk18CiygQsAhZhtWvAon4UsKgyAYuARaUELAIWVSpgEbAIWJRXtbDo6bc/snf/8oG9+5cP7MmffgQs0vPAopICFgGLgEXAIqy2DFjUjwIWVSZgEbColIBFwKJKBSwCFgGL8qoWFk1am7XzD6+28w+vLvv/1gcsKvwNWAQsAhYVCliEYUPXgEX9KGBRZQIWAYtKCVgELKpUwCJgEbAoL2BRaQGLOvEnsMivgUWVCVgELMJq14BF/ShgUWUCFgGLSglYBCyqVMAiYBGwKC9gUWkBizrxJ7DIr4FFlQlYBCzCateARf0oYFFlAhYBi0oJWAQsqlTAImARsCgvYFFpAYs68SewyK+BRZUJWAQswmrXgEUIoarVH7AIIYQQQkNHw3IZG5aLgUrDYy3W8FiLA98TD22zEw9tc8iUBE1L3tpgS97aYG2fLba2zxYXAYkrf3aZXfmzy2zGq5tsxqubvE3Bsdt/vcC1/eNzbPvH53hbb/xhdEkJVOld9Xemrf7OtG35aKlt+Wip3fnrU1xq6/L3LrfL37vc79n58dm28+Oz/Z1qs/mTM635kzPt7T8Ot7f/ONwmfW+rTfreVgcaZ7x9jW3+5bm2+Zfn2sqfXmkrf3qlg1qBML1bbW/48ALb8OEF3l99CNPvGz68wIGnfK1+SCFQFsg/58fr7Jwfr7Mxz+62Mc/udj/PeHWTz4E0siVrI1uyDm7Dv+uj2rzXb7R5r9/ofZOvdn58ts+VPjDIbw7lfni9Nf3wegdPauP5302053830e/f+IsVrtmv3WyzX7vZ/aNn9U7BQPntoc9n2EOfz3B/6x2a2y0fLXWge+G7q+zCd1fZug9W2pr3LgQWYTVrwCKEUNUCFiGEUO3p8Ivv22eHP7fPDn9uh198f8D7g4aWgEXAImARhg1tAxYhhKoWsAghhGpP7O2oGgGLgEXAIgwb2gYsQghVLQoKhBCqPbG3o2oELAIWAYswbGgbsAghVLUoKBBCqPbE3o6qEbAIWAQswrChbcAihFDVoqBACKHaE3s7qkbAImARsAjDhrYBixBCVYuCAiGEak/8B65RNQIWAYuARRg2tA1YhBCqWsAihBBCCCUFLAIWAYswbGgbsAghVLWARQghhBBKClgELAIWYdjQNodFqds6BuwwOXFd1k5cl7WxW3M2dmuu6O8N38xYwzczRb+n7mu31H3tA34Y9qUm3JSzCTfFPmncmLPGjcU+6okmr8ra5FXZAR9jOU1ak7VJa8r3T39X/Jy4ruuxDO/I2vCO+L6x23I2dlvn/hzRnrUR7V23XS5OS2nclpyN25IrivnG63PWeH1xf7ryRW9qzI6cq9JnkrDoy6PHbPQzzTb6meaS94aH77oPVtq6D1Za6u4OS90d70M61OWr6z88z67/8Dw/xJNt7v90ie3/dInfowRBh7mSOt0fXktKDOvvTPtvU67M2pQrszbn7A6bc3aHpR5ss9SDbb4W6+9KW/1daY/BcbfkbNwtObvtV4vstl8t8rho+GbGUt9us9S322xYNmPDshlPVCr1s8Z3/YfnFY1Bfu2PGDn5woydfGFxrGtOS66jJ/fYiCf3lG1TCbf8OvXyrE29vGcxr4RW16l7Oyx1b4fPZXfa0rzK7/q93JqcdknG1Vv+VtG05K0Nvkcse2eNLXtnTcVtnHBdzk64Lufx2dm9k1dnbfLqrJ10WV5dtT38wD4bfmBfyb9d+t4Vdul7V1jjwR3WeHCHjd6Vs9G7cl4MhfdPXJ+zievj/p1wbc6l31QUVDp2rTsVR3o+2YZiV/0taqMH+YbiLvx90tqsTVob+3XKVVmbclXf7O/l9rpS8TXu+V027vldRX/vbF031cVr9/L3Li97j4qxcn/vz/2rEk28JmcTr4nPHV1X8uyKw1fbisNX+3V3z9NqpP1z1fuX2Kr3L/Ez8MJ3V3U95mjtaW8RAOjO+wU9wt+1Bitp477fzLH7fjOn6Pdy/RFQESAo1eaIJ/baiCf2dvnukU/tsZFPxeeU8pBS9wqM9HSuwjMlqYZHW6zh0ZZeiYnxm3I2flPfxt+B3061A7+dWnbuBGF60rb2sIZbM9Zwa/fO1XL9qUYPfj7LHvx8VsFvi762DFiE1awBiwa5gEXAokp80ZsCFgGLuhKwCFiUFLCozHuBRS5gEbAIWFQoYFFlAhZh2MAasGiQC1gELKrEF70pYBGwqCsBi4BFSQGLyrwXWOQCFgGLgEWFAhZVJmARhg2sAYsGuYBFwKJKfNGbAhYBi7oSsAhYlBSwqMx7awAWHbr3Nfv4v9+xj//7HTt072slnwcWFQpYBCyqRMCiygQswrCBNWDRIBewCFhUiS96U8AiYFFXAhYBi5ICFpV5bw3Aokr+zwuARYUCFgGLKhGwqDIBizBsYA1YNMgFLAIWVeKL3hSwCFjUlYBFwKKkgEVl3gsscgGLgEXAokIBiyoTsAjDBtaARYNcwCJgUSW+6E0Bi4BFXQlYBCxKClhU5r3AIhewCFgELCoUsKgyAYswbGANWDTIBSwCFlXii94UsAhY1JWARcCipIBFZd4LLHIBi4BFwKJCAYsqE7AIwwbWgEWDXMAiYFElvuhNAYuARV0JWAQsSgpYVOa9NQCLPn//d/bV//6LffW//2Kfv/+7ks8DiwoFLAIWVSJgUWUCFmHYwJrDokVfW9anGwlCqHbV1dfn8ZtzrtOHbbTTh220eUvabd6SuPgaf3POxt+cs9G781qwcL8tWLjfYZFgzdwz2m3uGYVFm4ovAVAV63PO6rA5Z3U43BizPWdjtudsflOrzW9qdRirQmDihlg99YUKbV0ni11BohASClqO3Je1kfuynhSpL/LNzOVpl489gBbyhfyodwtqjWjN2ojW4vsnrY2B/dQrsjb1iqz7RX5VmwIOM87P2Izzi8ej5HT8ppz7PPST+qV3650h+NXvpeZbfjnxG1k78RtZh0Gab/Vh1rlpm3Vu2macl5eAS+r+dpdiRvGmwsQB/cw9eQXjUCGoPmm8Y7bnHLZMuDFnE24sH1OKC71r1rK0zVqWdrCyaPZel54J14/mYNTerI3am/Wxq21BbxU48t34m+N+jdyftZH7s9Z4Q84ab8h5v1VEas60bvRO+VPQY8pVxfMo/0y7OGPTLo4T/pMuzdpJl2aL1p3un35RxiWAOHtph81e2lFUBI1uztno5jj2FBcL57fYwvktvh8s/j+ucpUD9Hqn+qH9R+tv+sqMTV+Z8TUgGHfCdeXnWXOjd2p+FUNab5oj+X3i+jgm1Jbu0Zi174zZmbMxO3M2LJexYbnYz3qnYqxxYxzjmrMQYoVSXGi/8r3n5GaXx1W035db9+Ferb+X+vAjv4bxqjgM15f8WAp26m/loOmoPTkbtSf+XesshEXq/+RVWR+rrk+dsstOnRJDt3IfQsv93lQXgxv5Q3uK5iC8X7Gua8Xloll7XeEHmXJj1/2+n0fjG9GWzas1VjgG9Vex3d3zMym9L5yTahR+MJQqgeihemOMg0HhHOocCO9Lnuvl2tK+2Zv9m7kibTNXpHu1zd5Qco8DFmG1bMAihFDVAhbFAhYBi4BFwKJSAhYBi5ICFnUuYFH/CFjUMwGLsOPFgEUIoaoFLIoFLAIWAYuARaUELAIWJQUs6lzAov4RsKhnAhZhx4sBixBCVQtYFAtYBCwCFgGLSglYBCxKCljUuYBF/SNgUc8ELMKOFwMWIYSqFrAoFrAIWAQsAhaVErAIWJQUsKhzAYv6R8CinglYhB0vBixCCFUtYFEsYBGwCFgELCqloQiLHt79pD2dO2RP5w7Zna8cBhZpnwcWAYuARUUCFgGLsNozYBFCqGoBi2IBi4BFwCJgUSkNRViU3NuPfHUMWKR9HlgELAIWFQlYBCzCas+ARQihqgUsigUsAhYBi4BFpQQsAhYlBSzqXMCi/hGwqGcCFmHHiwGLEEJVC1gUC1gELAIWAYtKCVgELEoKWNS5gEX9I2BRzwQswo4XAxb1QNpIw4NXiYKudaiHCU5S5QqpYZmsDcvEbSkxrKR/Kg6k+u/ut/rv7reGx1qs4bEWq/9W2uq/lbbUA+2WeqDd7zvx0DY78dA2q78zbfV3pi31nVaXDm0ltSqodB0eLvV3pK3+jrQneUpklNRNuDFXdKioUHb/RQmtJwxRot2dOVISrIQ0nKNKpDFWHB/BOHoi9bOr/+BoUvJruWRdbc3+eofN/npHRYmOJ4VRoalYCZPzL48d7RQWocqkAkGwaOxzu2zsc7ts/As7bfwLOwvAjp5xmBHMma7DtZpM9Ee0xon4qD05S93bYal7O3yP0DyffEHGTr4gU1TYaX2FyabAVP1d6aJCVHGpolH75Nwz223ume0xPAiKMxV+J10WFyKKdRV0KujL+TeERcm/hWNTUuzrOYJFKpTDvU17tva++jvS8VnxYJulHmxzn6v/um/Ek3tsxJN7bNjjLTbs8ZZ4r3641eofbvW+TbskY8MP7LPhB/bF4ObgDptwcIc1RtK+PvHF7Tbxxe1+f/0j+63+kf025aWtNuWlrb7fn3hom7939DPNNvqZZj/bUt9us9S327wfY57dbWOe3V3Utt454om9roZvZqzhmxkHd/KFA5MobuWbcc/vsnHP7/IYlA9GPd3sSt3Xbqn7YkAWXivm1IZgyPB0XqViYur3t9jU72/xuRG00hrQszoX9Q6tUcVJck013JaxhtviWPI21L+o3+qn9tXUPR2WuqfD153Az5idOYdCYf/Dc1T91jwIjLtfo3433Jrx3xTDgml6V+reDvvy7/He/uXfj1rqoTY/kzWe5Np0WBr1W0W4wI7iQnuOoNYpp7baKae2emwpLlIPtvm9nc1jKXUGabUHyPfaH9X/cP9RLOna798Rj7W7+7zO1fBdTXVxHhHu513ubcF5kFQ5ONUVzJYciCY+gNQKMEGopxq3JWdjN2eARVjNGrCoBwIWAYs6fTewaMDX6FAVsAhYBCwCFgGLgEXAIoSGhoBFWK0bsKgHAhYBizp9N7BowNfoUBWwCFgELAIWDSZYlLq3w9dd6qE2YFF0DSwCFiHUVAcswmrfgEU9ELAIWNTpu4FFA75Gh6qARcAiYBGwCFgELAIWITQ0BCzCat2ART0QsAhY1Om7gUUDvkaHqoBFwCJgEbAIWAQsAhYhNDQELMJq3YBFPRCwCFjU6buBRQO+RoeqgEXAImARsAhYBCwCFiE0NAQswmrdgEU9ELAIWNTpu4FFA75Gh6qARcAiYBGwCFgELAIWITQ0BCzCat2ART0QsAhY1Om7gUUDvkaHqoBFwCJgEbBoMMGizW+9YrnH37Tc42/a5ndeBhZF18AiYBFCTXXAIqz2DVjUAwGLgEWdvhtYNOBrdKgKWAQsAhYBiwYTLPry7/He/uXfjwKLomtgEbAIoaY6YBFW+wYs6oGARcCiTt8NLBrwNTpUBSwCFgGLgEXAImARsAihoSFgEVbr5rBownPb7Iv/+Af74j/+wd7913p791/r7e0/Dre3/zjcfv3v/2i//vd/tJ0fn+164w+j7Y0/jLZL37vCLn3vCi9mHvuf0+yx/zktTjqj/437snfW2LJ31tjdv5lnd/9mXkFbSjjVpgqkph9eb00/vN62f3yObf/4HE+wlLCu+2Clrftgpd32q0V2268W2alvXuf69N/+yT79t3+yJW9tsCVvbbAZr26yGa9usuZPzrTmT870Q/PZ302yZ383yc4/vNrOP7zaF//Ip/bYyKf22PUfnuf6yxf/ZH/54p/spl8ut5t+udze/ONIe/OPI+1PX/yj/emLf7QXf99oL/6+0R76fIY99PkMe+n3E+yl30+wpT9Za0t/stbWfHCxrfngYtv/6RKXknTdo/cPO7DPhh3Y5wexEme1qfvku77YACdfnXXpN/VD15t/ea5t/uW5Rc/Oe/1Gm/f6jUX/jQMle8PTWVv8o2tt8Y+uLXpWcxT+nv7sNEt/dppfy88nrsu6wmfkR10r4ffr2zNWf3umrA+a6rqGRfKBkjsVVopXJe+KuVLJmqSkuOj3qFjqi3lWP73Ie6ylaJ5VCITPqtD/8xd/9YLi7//vf3nh9+Dns+zBz2cVFJEqRFWkqYhVrI/enZfWbur+dkvd326r3r/EVr1/iRcdSX9OuTKbV1QIq1jTvqP9yNdNmaLD+7ArLm7Ce8LEWrFdLgY1/0mpn9NevsWmvXyLF0jad1TEh8X6zOVpl/c58pf2EhVfvmYjX6gg1PhCIJkEUFOvyNrUK+LrSiHrwvkttnB+SwwbEjBdkKXcs4IK4e/DO7I2vKOyAlEFTLi3OIiIYkn70//35UiXzpP7fjPH7vvNHI8ZgRzNTfhOwYKpl2dt6uWl+6niUGNRP/SMAEW5cSULfP2m4rDsM4+2WMOjLV6sa28RXOrMj1rXle4hWgOd3aNzW0W6JDio+wQXO2tLZ3KlRbri+ay319tZb6/3HGPsc7vi/kWQQPtMpWP32LsuBoj6bdKarE1aU36fKYqTEtCgJ/ckFcKkUtI+Wio2knt7uQ8BDtLuLB+PinntvaGvBItKPav9p7MPb6VU7tzqTOE+LqCmPLSSNma+uslmvrrJc2mBXPlZuYL2IeWDj/zPk11bPlpqWz5a6jm2zgz5L8xZQ2l9KTcf/8JO/5vOCJ3BOtM0RwK7Opu7uxaqVXf2/Ka64g8m1Uhnrbcd7YXdBYKVqFy+11TXvQ/Elaq766c7mnd6m807va3o3O/pnCYV5iO95eOeyv8hQPTha8QTe234483AIqxmDVgELCorYFFewCJgUVLAovICFgGLyglYVLzPFMUJsKjks8AiYFFnAhZVJmBR7whYhB1vBiwCFpUVsCgvYBGwKClgUXkBi4BF5QQsKt5niuIEWFTyWWARsKgzAYsqE7CodwQswo43AxYBi8oKWJQXsAhYlBSwqLyARcCicgIWFe8zRXEyCGHR+f+02mbed4/NvO8eO/+fSsMJYFGhgEXVCVgELEoKWIRhA2vAImBRWQGL8gIWAYuSAhaVF7AIWFROwKLifaYoTgYhLGqqW160p4QCFhUKWFSdgEXAoqSARRg2sAYsAhaVFbAoL2ARsCgpYFF5AYuAReUELCreZ4riBFhU8llgEbCoMwGLKhOwqHcELMKONwMWAYvKCliUF7AIWJQUsKi8gEXAonICFhXvM0VxAiwq+SywCFjUmYBFlQlY1DsCFmHHmwGLgEVlBSzKC1gELEoKWFRewCJgUTkBi4r3maI4ARaVfBZYBCzqTMCiygQs6h0Bi7DjzYBFwKKyAhblBSwCFiUFLCovYBGwqJyARcX7TFGcDEJYtP2sVvvGoRftG4detO1nlYY5wKJCAYuqE7AIWJQUsAjDBtYcFi362rI+2UCGmoZlsjYsk/XER5vB+M3xZqPEXwl+pYUUQrWqSv7vlVHfKEwqy/0rACWKKlQFEQRM62/POBgR1NJ+KPCQerDNUg+2xVAtAioCAfOWtNu8Je0OVkY+tccLkBGtWRvRGsNif0fU37lnttvcM9ttWDZjw7KZGK5Fe7GAz7jnd3kbIQgTNFRyKZAz69y0zTo33SlgUT8mr87a5NVxP5X8zv56XgJR01/ZbNNf2exjn/S9rTbpe1t9vKn7271IVMKqgmPuGe0294x2B5IqHlWozlqWtlnL0iXhsopA+Vr3KA4EburvSFv9HWk/n9QHFb/JAl+/CRynvtNqqe+0xn+PfCCI7Pffk5fereJ33us3+ocMFaLql2Jp2sUZm3ZxxmGRigkVfhpn8qNFGNt6v19H8amPFIoXfTRYsGC/LVhQWPyqOFw4d58tnBt/WFC8CtJpjaiQFshVjMnf9XekPRYUn6kH2i31QLvV35W2+rvSHuMeK4LCUXEu/49oz7o0N/29vwymvT0EOYp9xaNgl+Ki6EPErpzHkNamQIrHvuYkiiHtLSNb8hq3JWfjtuT8Hal7OvxDiOZVa9NjLIoLXWsd6TkBQMVLw20Zh5nat7UvKVbcBxGE10etzj5IlftIot/LwTWNvVSbXX0Aq0ZdQWit0d5416i9WRu1t3faqgSe95V0bvbX+/pi/rVWdS5W05b2DMVKX8Xroq8tAxZhNWvAokDAIoS6r8FUUBxvAhYBi4BF0TWwqNc1mPZ2YBGwqODvwKIiAYsKBSzCsOoNWBQIWIRQ9zWYCorjTcAiYBGwKLoGFvW6BtPeDiwCFhX8HVhUJGBRoYBFGFa9AYsCAYsQ6r4GU0FxvAlYBCwCFkXXwKJe12Da24FFwKKCvwOLigQsKhSwCMOqN2BRIGARQt3XYCoojjcBi4BFwKLoGljU6xpMezuwCFhU8HdgUZGARYUCFmFY9QYsCgQsQqj7GkwFxfEmYBGwCFgUXQOLel3rpm6yDTO32oaZW23d1E0DutcBi4BFBX8HFhUJWFQoYBGGVW/AokDAIoS6L2DRwAlYBCwCFkXXwKKaFrAIWFTwd2BRkYBFhQIWYVj1BiwKBCxCqPsCFg2cgEXAImBRdA0sqmkBi4BFBX8HFhUJWFQoYBGGVW/AokDAIoS6L2DRwAlYBCwCFkXXwKKaFrAIWFTwd2BRkYBFhQIWYVj1BixCCFWt3oBFShBOuDavBQv324KF+2307pyN3p3zwlpFpEDGsEycTKigV1uCBwIRIfgd3Zyz0c05TxSVmI+/OefFdcM3M9bwzYy/S8Wv2mi8IWeNN8TXgjB6p94xujnx3mhMoQ/CRE9JvPo3c3na5fdEhfrspR02e2mHJ0Uqgr0QjQpVFeXqpxf+93b43zxZi4oEFSTq98kXZuzkCzM24/y8lIDJ/+r38HTWxmzP2ZjtOZu0NmuT1sZj0TxrTtSm3unQKCq0NB+j9sQxoCJL/dYYJ63J2qQ1cWKoAk/PSYJHM85LxzAtmisV6epHZ6ApKSWnyaJWgEH9nHp5Xporwa3urJewIJV/u3ruhOtydsJ13UuWBbc0ZzNXpG3mitgXKqi1FhpviGHk/EWtNn9RqxdQpyxus1MWt9nCeS22cF6Lj0MfX6ZclbUpV8XjSMKiLscW9S/sl67nnNVhc87qsMX/x1UuxULRfhTFQbkCuunkZms6ubkkgNIzimWtTcEFAabOivBQimmP+WjdT78oY9Mvyvg7dL/eoWvFseBXw63x2tLa0zPhHldur5PmN7W6wr+F+82csztsztkdRfeddsJ2O+2E7Q4Pk3/THqG9RL9rHWmuNJcCPtqD5OeRLdkiwOj7drRHaI/Rmg37oD1GcGbMjhgCC6pqL+kuzEjCIp074VrTWtD5GLYRFsPq25idMXgtF/OVSuvshGtzPgddPRNCLkkQttR5Lj921fbJF2Ts5AtiiKy503mVPGsdLAYxrt99bQbzX0p+Tmp/j+JNbSgOvV9RDFa6n3UmredK7lUepGt98C53fzj2Uu/Sfh0+q/2oqz6VyoF05vp6iPYpnRVa/5pvrdVK39mZwjO7uwIWYbVswCKEUNUCFgGLgEV5AYuARbUEi5L/gevzso8Ci4BFwCLtEcCiomeBRcAirPYMWIQQqlrAImARsCgvYBGwqJZgUXJvP/LVMWARsAhYpD0CWFT0LLAIWITVngGLEEJVC1gELAIW5QUsAhYBi2IBi4BFTXXAoqY6YFGB74BFGDZkDFiEEKpawCJgEbAoL2ARsAhYFAtYBCxqqgMWNdUBiwp8ByzCsCFjwCKEUNUCFgGLgEV5AYuARcCiWMAiYFFTHbCoqQ5YVOA7YBGGDRkDFiGEqhawCFgELMoLWAQsAhbFAhYBi5rqgEVNdcCiAt8BizBsyBiwCCFUtYBFwCJgUV7AImBRLcGi7We12p4VGduzImPr738BWAQsAhZpjwAWFT0LLAIWYbVnwCKEUNUCFgGLgEV5AYuARbUEi5IK9zoJWAQs6uoZYBGwqMB3wCIMGzLWY1gUboKhwkO9MymJDBM9HXoqLnSY67D2YiIqsJIFiu4Z/UyzjX6muagIU9upB9ot9UCcVPhGGCVkSqxPuC7nCb0OtHCzrL8zbfV3pv1QTD2Yl/o57ZK8hj3e4lJy0fBYizU81hInOw+1WeqhNht2YJ8NO7DPE8PhB/bZ8AP7ihKKpPQ+taUNWL7wYjJKFH1c0XPqU4JoSFUAACAASURBVPLw1qZc/8j+vKJnNXdekEa/y58aR6kEy4vJ6HrCwR024eAOv1cxprnSmPX3sAAb3pF1n3vxGM27/KvfGx5tsYZHW2xYLmPDchl/TnOocdTfkfaCI3Vfe17RWHWQKW512IT9U3woOZlwY1y8KlHSnMjPijklqHpOa0HJsXxUoCgZVhu6VwW/3iFfaA4VY0l4oL7rGcWIxqb18+Wxo1XDot6U1lr4e1ioCEAp4dWanrghnk8lNV0lx/JjUVKUgEVdFfRhUqY40RpRIZ0spjVv4ZjUb60btaEEV8WbYm9EawyJlKTrHiksFgWLlBwvnN9iC+e3+DgnrY37K79Nuzhj0y7OFO33gmsqFkM/J9eP3qe9S/1Tm7pWUjx5ddYmr47b0jgnr8q6NGb5KVwD01dmbPrKeG40Du0PWl86+8Zsj0GD1o+KNj9nov5pHI0bc9a4MZ479SkJTDQ2wSsHetE+qXfLRxpPmIgnYz1M3BV3Prao7RBu6PewQE1KsCj8XQVAmDMoXsK2x26NIZX8Fe6xmv8wZ9D4BIvUp/mLWv0cmvsv7Tb3X9pt3ultNu/0Nvd9GMdhn9QHrd1h2UxRMab+aIyaC+UZ5dpO+iuERWHBr7VZrhBU3Cj2R++KzwRvI4o/XWtsiuNy+2oSFulcDGM9XM+Ky3IAX2t28upsfB4G8EBtOhSOxqj4CGFhwX4dgBzdq/1Tfq4EEmsMWufhBwe1He7/SYg1siVbkB9pHtWW9r4wR/G9OOqncjbtzYKISZDocRn1L5xv3S+/hnOUhEX6LeyPt7kvayP3dV2El/qo0lN1BnoU+2G/PR8K9slygDTZVldgqdzHoe6onH/LSbntsFx8PiunCddmuN+Ug0VqJwmhdW/4EasahXPUlbTPl1ybwZ5Rbq66U7NKyfUDLMJq2YBFwCJgEbAIWAQsAhYBi4riDlgELAIWAYuARcAiYFGxgEXY8WLAImARsAhYBCwCFgGLgEVFcQcsAhYBi4BFwCJgEbCoWMAi7HgxYBGwCFgELAIWAYuARcCiorgDFgGLZt1+j/3L9ffav1x/ry3ZcDewqISARcAiYBGw6GvAIqxGDVgELAIWAYuARcAiYBGwqCjugEXAoi+PHvO9/U9/PQosKiFgEbAIWAQs+hqwCKtRAxYBi4BFwCJgEbAIWAQsKoo7YBGwCFgELAIWAYuARcUCFmHHiwGLgEXAImARsAhYBCwCFhXFHbAIWAQsAhYBi4BFwKJiAYuw48WARcAiYBGwCFgELAIWAYuK4g5YBCwCFgGLgEXAImBRsYBF2PFiwCJgEbAIWAQsAhYBi4BFRXEHLAIWAYuARcAiYBGwqFjAIux4sR7DIoQQkv78xV8HFSwaqlKieuG7q+zCd1fZkrc22JK3Nti453fZuOd32dTvb3EJRNz3mzl232/mOPC89L0r7NL3rihKUFWECFSrgC14/xN7bcQTe23e6zfavNdvtLbPFlvbZ4vt8vcut8vfu9wW/+haW/yja239zy+09T+/0LZ/fI5t//gcu/3XC+z2Xy8o6sOl713hbcx4dZPNeHWTtz3yqT028qk9DrMEi0KfKNkTmEw90G7TX9ls01/ZbCt/eqWt/OmVduXPLrMrf3aZ91NQfcXhq23F4att0ve22qTvbbWZr26yma9usg0fXmAbPrygoMBv/uRMa/7kTG/zrLfX21lvr3fIrkJUBV8SqqbujeFsT+Y9TGi7IxX4Svg7K5C7kgOQqMDTXMmPG3+xwjb+YoWt+2Clrftgpd32q0V2268W2YmHttmJh7ZZ/cOtsaKi9uQLM3byhRn/0CC/1n93v9V/d789+Pkse/DzWXb9h+fZ9R+e53GiWJNvxt9cDPBCn6vYVOEsX+ijSymIfMbb19gZb1/ja0+waMtHS23LR0t9vekjiuJWPtDaXPjDG4o0a1naZi1L+7qSDxSf+piy7J01tuydNfbUb6fYU7+dYvPf2Gjz39ho5x9e7Trnx+vsnB+vc/9Jp755nZ365nUxIIv6ozWisWuuNK4tHy31daAPIVoLq96/xFa9f4mtOHy13fO779q+N9+0fW++aVtfec2Gt2d9bvS8f8xqz3qs6H0PfT7DHvp8ho16utlGPd3se5r6pY9EgqG9sY8KFvXXvj3t5Vts2su3OHj2/TQCUlpP+qAnkNPf5wtCqG8ELMJq2YBFCKGqBSzqHQGLgEXdFbAIWNSXsGjF4av9X6sICAGLCgUsQuj4FrAIq2UDFiGEqhawqHcELAIWdVfAImARsKhQwCKEUH8KWITVsgGLEEJVC1jUOwIWAYu6K2ARsAhYVChgEUKoPwUswmrZgEUIoaoFLOodAYuARd0VsAhYBCwqFLAIIdSfAhZhtWzAIoRQ1QIW9Y6ARcCi7gpYBCwCFhUKWIQQ6k8Bi7BaNmARQqhqAYt6R8AiYFF3BSwCFvUlLPrr//4/fW//8ugxYFEJAYsQOr4FLMJq2YBFCKGqBSzqHQGLgEXdFbAIWAQsKhSwCCHUnwIWYbVswCKEUNUCFvWOgEXAou4KWAQsAhYVCliEEOpPAYuwWjZgEUJ1y23stpyN3Va6WOtu8aWCtrM2B0Iqcru6T+NNjnnclpyN21J+LEf+dqxTWDRxfc7VeENeKr7H7MxLxWPq/nZL3d9uE6/J2cRrctZwa8Yabs14QTNme87GbM95oXjCdTkbvymv6SszNn1lpqgoLAciBqtUXFTThmCRCpbw7ypsJtyUc03ckNfoXYWacGNeelYAoCh21mXtxHVZm3ZxxjXn7A6bc3aHz7N+L9dvFawCF+qT4NhJl8VjUVE4b0m7zVsSz++oPTkbtSdX1KautTYVS2O252zy6qxNXp21E67N2QnX5oruSX27zVLfbvM2FHsj92dt5P6szVyetpnL0xXNzdTLszb18myR3+W/SWvykv+1BhpuzTiEETiRnwRKqgFPXWnKlVmbcmVxLNXfkbb6O9IF69znIoIYWr+N1+es8fpc2YI+LKSTsEj/7RyBHflJ9+p39UcgbeaKtM1ckbaRLVkb2VII+oblMjYsl3HY0fBYizU81uJ+VcwpLvQurYnwv+czvD3rYFZtyAeS+jmiLS/Fq/Y89TPpF7WduqfDUvd02Jhnd9uYZ3f77xqH2ta1QJ7WgKDM5KuzHuOCVgKjOsNGN+cK9vYjfztmY7bH/RMMk88aHmvx/o3fnLPxm+N1JcgmP6rf2uu072u9Caw0fDNTtJ4lrUnFfhhbDY+2WMOjLX5f6tttNrwja8M7st4v7YPD04US+JYvNGat1SRo1rypX9qPtL4VBx53kb8FD7U3ely0Zx1Oyh++b0dzp7bUHweqkf+nvLTVpry01eq/lXYVrdtoL9G1zvlwDXdH8m9f7D9dSf4u9bdyOYzWoPKR8COG8pVSbWp/1hmg2NH+U66feq6Un/U3XWsvCdso9bGnK1V7NijPGr+pfBvl8g3lZj15b1fwt7P8VOunXL96Er+l+gMswmrZgEUI1QGLSo0XWDRwAhYBi4BF+WtgUV7AImBRUx2wqDMBizoXsAhYhGE9MWARQnXAolLjBRYNnIBFwCJgUf4aWJTXQMGi23902B54/wN74P0P7I43DgOLgEWdClgELAIWAYuw2jJgEUJ1wKJS4wUWDZyARcAiYFH+GliU10DBotHNOS+CtRaARcCicgIWAYuARcAirLYMWIRQHbCo1HiBRQMnYBGwCFiUvwYW5QUsAhY11QGLOhOwqHMBi4BFGNYTAxYhVAcsKjVeYNHACVgELAIW5a+BRXkBi4BFTXXAos4ELOpcwCJgEYb1xIBFCNUBi0qNF1g0cAIWAYuARflrYFFewCJgUVMdsKgzAYs6F7AIWIRhPTFgEUJ1wKJS4wUWDZyARcAiYFH+GliUF7AIWNRUByzqTMCizgUsAhZhWE8MWIRQHbCo1HiBRQMnYBGwCFiUvwYW5TVQsOiT/zxi/+voUftfR4/aJ18cARYBizoVsAhYBCwCFmG1ZVXDIm1knshEB5wOWi08TwCiw7vUBqYDXwerpPvCAkptKykp1T9PoIKNov72jNXfHhckSlR0wOrwVyI4LJP1DUJjVVtKUNSmirT6u9JWf1faxj63y8Y+tytOihKJiw4Z9U/90EFVboNT4qIkSm2P3BcXGEoEdSB5IvLkHhvx5B5PNry/Uf813s7mPdycldRpLnVYhkmeEuxk4akx+3XQr7ANFVTyXWfzrmv5QgmBz12UCIT3J6X+hnGmJC1sy/uvBDb6Xf0duT+eqzDJ1HpSPwV4FKchxNG4xm4r9mvYpt495aq8imIq6pPitv6u4iRSMaK2NLY/f/HXTmFRNZKfFcfya3JtekGqZDxaX1qb8oH+7gVMNA49nyxMFXdaNyrWFStaZ2pLcRkWLFqrI1ti32quvIiNfB9CjSJfXJMrihkVxEqUK02KeiJBuBAWCSLM/nqHzf56RwFoCuGLYlr91brSetdZ4WMVSElATN/jonUhHyg2fP9U4RXFgxLdUom2759RG75PK6ais0399WJRsCE6j+T/5BwU7fNRmyoS9W7FkM4YPxt354rgn/ZYrQHvdwRl9A75QtdqW2u5/vaM36Pi0feC6Frv8jMk6kOyX6N3x/4f3ZzzIkyxrvkPC6uTLs1Lc6q59HM1UexqDItm7bVFs/b6uROeQ5oTtaXndN/cf2l36T2CfYpP+UkxpmJH8y4fad6T8Fp7lWCW9k/tIfJjmEvoXQ6uEsAkBGN9qWTuldzbj3x1rOC8DNdf48acwxX5SWdZCPo0Rl/30VrQOkueQ4qZEJwod3BwF71TcxKCwOHt2aJ9W7BI71Kbnl9GazDcw5PwT/1RW2p7+IF9NvzAPl8Tiq1KYEx4T7nzPZTmIcyfC+6JYl7X9Q+35iUQrTmIYJZiUONQPI/bkivK17SHhdDD94bovrBPyb2ju/F68gUZO/mCnoEIhHpDwCKslg1YBCwCFgGLCtYXsAhYVE7AImARsAhYBCwCFgGLEIoFLMJq2YBFwCJgEbCoYH0Bi4BF5QQsAhYBi4BFwCJgEbAIoVjAIqyWDVgELAIWAYsK1hewCFhUTsAiYBGwCFgELAIWAYsQigUswmrZgEXAImARsKhgfQGLgEXlBCwCFgGLji9YdOje1+ytpw7bW08dtqcOfwQsAhYBixAKBCzCatmARcAiYBGwqGB9AYuAReUELAIWAYuOL1iUVHheAouARcAihIBFWG0bsAhYBCwCFhWsL2ARsKicgEXAImARsAhYBCwCFiEUC1iE1bIBi4BFwCJgUcH6AhYBi8oJWAQsAhYBi4BFwCJgEUKxgEVYLRuwCFgELAIWFawvYBGwqJyARcAiYBGwCFgELAIWIRQLWITVslUNixBCqBwsUvKsAiL1QLsniw5qo9/Hv7DTxr+w0+GqF5dP7bGRT+3xIl2FqxLZ+kf2+71KUFWIhnBNxcbUy7M29fKsF6ECFyoQhnckCuWoOFDCHBYdKopVeOv5xWM22+IxmwuAnooeL7KipD0ssEL/qmBRQTtzeQzyvJi9KGPTL+qdhFnvc+AcgRvBIhUuCxbutwUL9zssqqTtaRdnbNrFmaJiZu6Z7Tb3zPaigkG/JwsU+VH+0jyroNPcOGCMrgWLOgPN85tabX5TaxEAOb3hBju94QYvmMuNLxnrJ12WtZMuKwbbijcpBM8CAxrfrHPTLt0jCKexaU60PuQTh1qRFNdJMCrApILePz5E/Vbs+wcQxXQ0h/J78iOP1kUIC7ROimBQ9Ls+NAkqJItI9f2UxW12yuK2IoCi+XVIEO0DKn5nnJe2GeelHWrO/nqHzV6aV9iWQ8IA/jvwicandyU/AjlUExiJ+qH9R2NVG9rb5DvFnn5P/i11T0deUb+0B+odYWGvtkLombq7w/0VgjrFku5THM9b0m7zlrR7vMpngt4zV8TxKfgTAhX1U3GhPWXWsrTNWhaDSs3L7KUdZdear6eov4KY2q/U7+S9AguKPz2jDwqaI+3jAj/yu+Y/eVYo/jUmAVCBkwUL9tuCBfvL77clPnhq71IbRYA++uijOVw4v8UWzm8p2leT69w/kkZnrNaTz0m0v4ZjDsGV7h+eLgZm2hvCMWq/6o3zSXPVG20NVYXAr1v+i9bmQI+hK4X/QGAwC1iE1bIBixBCVQtYBCwCFuUFLAIW1RIs+sEff2sf/fY/7aPf/qe989PfAouARcCiQSBg0eASsAirZQMWIYSqFrAIWAQsygtYBCyqJVj05d+P+t7+X38+CiwCFgGLBoGARYNLwCKslg1YhBCqWsAiYBGwKC9gEbAIWAQsAhYVjhFY1LsCFg0uAYuwWjZgEUKoagGLgEXAoryARcAiYBGwCFhUOEZgUe8KWDS4BCzCatmARQihqgUsAhYBi/ICFgGLgEXAImBR4RiBRb0rYNHgErAIq2UDFiGEqhawCFgELMoLWAQsqiVYxH/gGlgELBp8AhYNLgGLsFo2YBFCqGoBi4BFwKK8gEXAolqCRam7OzyO5y1pBxYBi4BFg0DAosElYBFWywYsQghVLWARsAhYlBewCFgELAIWAYsKxwgs6l0BiwaXgEVYLRuwCCFUtYBFwCJgUV7AImARsAhYBCwqHCOwqHcFLBpcAhZhtWwOi/7HXW2WeiivEw9tsxMPbbP6h1ut/uFW/73htowrLGqUoKbub7fU/e1+CCkZ1gGswyi5yJSAetEVtRUuxoZHW6zh0RbvjxIE/T15gOkQVyIn6V4lrrpWv8LkLZks6sD1gi84FPW77lcSpERM9yUTQPlFf0t9p9VS32mNfRH5Rv5UUuL3R4m1Ctjh7XFirAIgPOiVRI54Yq+NeGKvJxChbzSXqfvbi/xV7uBXzMifXghE4xj9TLNLY214rMUaHmvxRLvcfGtONS61mUza3B+6juZC8z/m2d025tndRbHnf48OUfWp4bEWj3n5S/PceHCHNR7c4f7WnPn4on7r92Qhpfcq0VLcDnu8Ja9ofSlZU8Kv+wVWxj2/y+UxEsEVXav/6rf/Ho1Pca1YLFUgTX9ls01/ZbOPTb5Q4Zz8j6D++Yu/+nNKnhWDE9fn/BkVF2GRJimpVzKv3ydfnbXJVxf6U/M2fWXGpq/M+DvmnNVhc86Kiw2NMSzWHR59d78rjHUVCSrGdB3GlDT1iqxNvSLrIGXKlfF61t4l32vthkmc7lfh7wXNjpw1zdxjTTP3uA9KFRxJKXZ0v+YmCbN0b3iP9jAVLrpvxvkZm3F+DH405uR75T/5WkmuA7MbCqW1qzlRm8mxh7BCa0zv8mI8KtZDgDJpbV7JfqowVT99zqJnBRq0r6tIk0btyUsxNmZ7XKxqvh1ERvui5l1xoGLdQZWK+IR/vLiN3uGAQft65IvwPNWeojlNFpG+B0Txp/eq//q93L6vd5Va52o7BGdaRyqsw71Cc5Rc5/Kf3qv1Xu5c0nxrzytVtHuBHIFtPwejM8H9pTM78oX+rnFq/kftieNUe1sIixQzHrfX5eyE6+L14/tDIlcI8x0/s7oonAU/S/3N4zfYO/QurTP5yCFW9JzvPcl1EO0zmkf5z8+y4GzwvCRqW78nJf+E/RcU8rMhmkP9rvnQ9cRrckVgR/tRCKn1d8WQfKR+luqH1phgi+eGUdGrmHZIF7RVsKeUmZPQB5oj9TO5XpLQKLmvh21oTSpOw5wx7EsS4FYKi6RwDVcizWO5vys/1X2l+lCq9kjuXX7WBXHQF1IOo2vt+40be/7e8Bwotc7D87u3/N9Ut9zmnd5m805v63bblahUXtFdhXlkbyi5LoBFWC0bsKiu8CABFgGLgEXAImARsAhYBCwCFgGLgEXAot4WsKh7AhZh2MAasKiu8CABFgGLgEXAImARsAhYBCwCFuXsiZ99ZK98/Lm98vHnduCDj4BFwCJgUZUCFnVPwCIMG1gDFtUVHiTAImARsAhYBCwCFgGLgEXAopwd+dsx39uP/O0YsAhYBCyqUsCi7glYhGEDa8CiusKDBFgELAIWAYuARcAiYBGwCFgELAIWAYt6W8Ci7glYhGEDa8CiusKDBFgELAIWAYuARcAiYBGwCFgELAIWAYt6W8Ci7glYhGEDa8CiusKDBFgELAIWAYuARcAiYBGwCFgELAIWAYt6W8Ci7glYhGEDa8CiusKDBFgELAIWAYuARcAiYBGwCFiUs0++OGJffnXUvvzqqH3yn0eARcAiYFGVAhZ1T8AiDBtYAxbVFR4kwCJgEbAIWAQsAhYBi4BFwKK85CPFJbAIWAQs6rmARd0TsAjDBtYcFi362jJPrFVw64BT8tyXm2cl0mav/lSzqauY0OE+cUPOJm4obmvKVVmXNixBAD2jayWkKrT9XVHxqSKjZH+iZ0MIF0oHiidzZQ7/UgqTCEEEJfO6T9Amea8Oi3IHmhL/2a/dbLNfu9kLlLCQVr8n3JjzewQelKg4BIoKqbBw1YHniXgJWJQEHql7O2zq97fY1O9vsdQD7ZZ6oN1mvLrJZry6yeNAYMrHc2sMA9QvjbFsTEVz2JN4lH81J154BImYfKZiMwlCNdauEgIdcAJTSljlb3/HHWkHYQJLgkaCiOrfl8cKYdGwA/ts2IF93qfzD692aR05CFUcREmb/K7Ef8pLW23KS1ttztkdNufsGPwli7OiMar4jgqBcD37moiSSodGV8TrXG0LgDociorFEHao/2FfCuCbYGmJgqOzPU+FgMaTHJPmTXAlBOPl9gHtNYrb+jvj+fbYiKCBF1bRWLWGVVQoWT9t8k47bfLOQsgexZsKpWkXZ2zaxTEEDBP7cuss+bFCya+uHSRFxbjmUP1T8eaFX/S84MIJ1+YcFk2/KGPTL4rXvXzi8xkVvT7G6FpxnCxyBUj0rMaseFP/FDs6c1XQqgjV2THtkhggC7Lo/BFEd8geXWueNe8hmEhK86oxe/ElKBflCOq/r4nI7xrfiNZsUVEoPyumQgio81R7m/xb6sxy6P7Ifqt/ZH9R7IQftbRfCR5rb5m8KutnguZCe0QIItUfza3G7EVzYj9ykBSdl1rHDviimA/hkvatUue6r7kAkFR8xkR7teZwRHvW9yGti64Kf81t+AFRZ07y3NG6D6GQ1p4X51EfBP7kZ+2zY3bGH+gUb34eRnuzYsY/vnQDSGg/1Rz4GKN1Nm9Ju81b0u7jUV9K5T8hLPKPpVHbelb+11qtZE41/9qDff8P8hP5U/f7npJQeHaoX4pbzwWi/MjPh8gnyXXe03jsSX7Ul+8I47QShR+CUf+qP+Ki0vcDi7BaNmARsAhYBCwCFgGLgEXAImARsAhYBCwCFlUoYNHACliEYf1jwCJgEbAIWAQsAhYBi4BFwCJgEbAIWAQsqlDAooEVsAjD+seARcAiYBGwCFgELAIWAYuARcAiYBGwCFhUoYBFAytgEYb1jwGLgEXAImARsAhYBCwCFgGLgEVFsOiONw7b07lD9nTukH3zx4eBRcAiYFEkYNHACliEYf1jwCJgEbAIWAQsAhYBi4BFwCJgUREsOvK3Y763f3n0GLAIWAQsigQsGlgBizCsfwxYBCwCFgGLgEXAImARsAhYBCwCFgGLgEUVClg0sAIWYVj/GLAIWAQsAhYBi4BFwCJgEbAIWAQsAhYBiyoUsGhgBSzCsP4xYBGwCFgELAIWAYuARcAiYBGwCFgELAIWVShg0cAKWIRh/WMFsKiaRaMkqKv7dLCV+psOIiVKSuKUaOngCuGVDl7dN25LnFTqcFQy4YdfpLAPercOy1KwyJO2ADAp+VQiGB7qSlhLbTY6eH1MQeGpREXX6oOeV6I7cX2cjKsf+t3bThz0yXcqUQ0L6qa65V5ghMlvuXnu6u/Jfqgw0lwpQdS7VIiG/VRSmYRFStZ0HUKV8HeBPLUVJqUNt2b8HvVT/dHfU99ptdR3Wj1JU9wqodZ8OBy5KwYj+pvWj5JfL7iUCEbx7BAnWitaCxNuyvm9ast9EUA4X1dRcqS1MPzAPht+YJ/DuxFP7PV79Tfdq7+rzS//XgiLFHtaE8n4nHF+xmacX7z2NK/y44KF+23Bwv0eS3quFJRRkSBfaB61TtS2w4QIrKifvuckIIe3Fcy7VG4tyCe+nq7MutQfjdGLw6gfKqTCpD6MuWTBpH4oNiqF+5obQZxJa7NFxWpYoMp/4d4Xwhr367ac713hvhPCNoeW0RrVHDl43hEXXeqvYiGEQNprfW+I4tf9Ht2X9EcI83VPCAt0n84d7S3+EWN3LMW8zhNfD5E/Q4Cvd8u/4ZoYvTvnMH/U08026unmuB/RetdakK90Rgikh0V6Mg49PgUJ9YFG6yjyidqcfHXWJl8dA5fkealY0N8EzjQ3ApKaO39HcNbpHZOvjn1dbg/Rux2uRmtDZ/eCBfttwYL9BbmCYIH28RAGK9YEhTQO9VdrOxmfmhPtHZoTxbL2ZEnnq+IiPBNH7isu6MO1F+YblUjzKZ+XWhd//uKvvrcf+dsxG7077p/vT4mPFhqTYl/xpg8Igobhxx/tm5qzJBjXugmBlNaAA7sAFsk3Wn/D27P+Xt2jttXvEILouRCKJKFwuMfNOC9tM86L92Kd3yFk11gVc0kgrnnXfq9ntRbCOdM7/aNvtO60tsffnPOPPo0Hd1jjwR1Febne7R9Ao/Ne79KakL9HNxfnrqHCs6wSdRdAaQ47q0Mq7Ud4vvalNKf98a6muuVdfkh0H3TxYbSU5p3eZvNOb/P1Hf5dH3f7YlzV/MOB3tDwdNaGtaeBRVjNGrAo6AOwCFgELAIWAYuARcAiYBGwKCrGdhfGC7AIWAQsql7Aot4RsAjD+taARUEfgEXAImARsAhYBCwCFgGLgEVRMQYsAhYBi3pdwKLeEbAIw/rWgEVBH4BFwCJgEbAIWAQsAhYBi4BFUTEGLAIWAYt6XcCi3hGwCMP61oBFQR+ARcAiYBGwr0hG6gAAIABJREFUCFgELAIWAYuARVExBiwCFgGLel3Aot4RsAjD+taARUEfgEXAImARsAhYBCwCFgGLgEVRMQYsAhYBi3pdwKLeEbAIw/rWgEVBH4BFwCJgEbAIWAQsAhYBi4BFyy139T22/5Uf2f5XfmTbX/wBsEg5DrAIWFSlgEW9I2ARhvWtAYuCPgCLgEXAImARsAhYBCwCFgGLltufv/ir7+1H/nYMWKQcB1gELKpSwKLeEbAIw/rWgEVBH4BFwCJgEbAIWAQsAhYBi4BFwCJgEbCorwQs6h0BizCsb63XYBFC6PhVsqD48xd/HfD+oJ5JwMHBfJTMOtyM4IKKChXnup799Q6b/fWOuAjdlHMw60VMVIiEcGXume0298x2O+nSrJ10aZxUqsBJgjwVheqXF20B4NE71QeHCFERmhx7WPwIdunv01dmbPrKEoAiggWCCsm/lYPmKkA1DsEZjV1AQpBj1rlpl/ruRWVUuKv/YcGkgtn7FPlKbU+9ImupuzssdXdH0XyHhb/GqnlQYaX7kvMueCHQqTlI3dduqfviItahVuQLvUv+TMKiEFKEkE2FivoQti1YtHjCVpdDiai/eq/akuac3WFzzu7wa8W+II4A2qg98XsdiEbv8I8C0frS/eEHGhVWDgQ2x8DOP3gkPj7U35X2WJP/5AOtM8G55McyAR49q7Xo/t2WsyN/O+Z7+5dHjxWsDcGOpJ9UkDY82mINj7Y4hHPoG/lA60x+VyzqeQGUMTtjH4TFrn/EeGS/1T+y3/cv/V3+LViTUfwLWmputDfovhDoKm4FchVTo/bG8yTo5+AmGqPmIozX8F2l9mSNWe9SGyrofc1F66mSfb7U/tdUt9z3ndlLO2z20o6enSEBzPQPZE/uyUsfoqJzoOgD3rfSPsbww1D44UBxqHieuSJtM1eki8Dl8HTWIXvYXwe4UT/mvX6jzXv9Rt/jHNIrXiLQ1nhwh59NisMiP0f3qS39Hn4YdTjcEp8Fgn3l/Fx/ZzqvKPa1D5W6V+dguY/15eIyhEZJSCi/yH86j8K/+zkUjVUfX+XvSmJK86rzxiF8tL79HxREPkk+q3WhtegxFPXHxxpAQp3RHtcR7B6W+OiUfN+iry0DFmE1a8AihFDVAhbVhoBFwCJgEbDI/QssAhZ19wwBFsV+BhbF5xCwCMOGrAGLEEJVC1hUGwIWAYuARcAi9y+wCFjU3TMEWBT7GVgUn0PAIgwbsgYsQghVLWBRbQhYBCwCFgGL3L/bcja37V6b33qfzW+9z2becQ+wCFjU+RkCLIr9DCyKzyFgEYYNWQMWIYSqFrCoNgQsAhYBi4BF7t9oDejv4doAFgGLis4QYFHsZ2BRfA4BizBsyBqwCCFUtYBFtSFgEbAIWAQscv8Ci4BF3T1DgEWxn4FF8TkELMKwIWvAIoRQ1QIW1YaARcAiYBGwyP0LLAIWdfcMARbFfgYWxecQsAjDhqwBixBCVQtYVBsCFgGLgEXAIvcvsAhY1N0zBFgU+xlYFJ9DwCIMG7IGLEIIVS1gUW0IWAQsAhYBi9y/23K29pEX7PrHDtn1jx2y1U8/DywCFnV+hgCLYj8Di+JzCFiEYUPWgEUIoaoFLKpOKphU6Ol3JTgTDu6wCQd3eFGRLCxUsOk6hBZK3sq9W/dPWhvDg7DwmLwqa5NXxW2efGHGTr4whkUqjk6bvNNOm7wzLsATBXLYLwGAcv1VcaQCUAnviPZiWKBCT+/SOORP+Vf9nHZxxqZdnLF5S9pdKpCmX5Sx6RcVQyHBonKFocah4i5Z8CpBlR9VEKh/ISxSMqy5Vv8bb8i5P3SPklyHXVGBpSJS/Vd/JQdqbfF8q1icvDovJeMCFWGSrqRZzyf7qblQQSeYIN8rPtRvFeHymfyp+Zh+URwDi2bttUWz9hbNUQjK5M8wnjuDRT7f0TvVD/lAPgrhggrYMTty3k8VF6l7Oix1T4cXzl4QRgWsCmcVy5pjFaip+9u9GNP7HB48t8vGPrfLRj3dbKOebnY4o6Jc/dQ7km2q0FR/wnU1dlvOjvztmO/tXx49ZiP3xXGjeEjOkfoVAlGNXWPW3qb7tI9p7Cr4h+Uy/ltY7GqMDs2idaa2NQ8a3+hdcYEnaKR7HZQ/3Gr1D7d6Mas51VhVmHo/E9L7tacI1KmQF7CT/7UHCgwIOgw/sM/m/uAmm/uDm7y41ryGoFbrXH5UrAlIJNdHqd+a6pa7X+Vv7YWCMNrz1Lb7tzXef+QvrXddl4MeWve6T1B5WCbrfhOg0zMhLHKgE82t5ij1YJulHmzz++vvSPvYBXhC8Kx4CKFBZwqBQqgQtoTv1J5S6tkQZlQqxYviuP7h1iJYFLateda11mjY/1IxE4Km8PyU/4ueLwGLtP95P6LY0f49/oWdNv6FnUV+LAfBeiLtJZpbj/No/224LeMftpLPAYuwWjZgEUKoagGLqhOwCFgELAIWAYuARcAiYFFTHbCoqQ5YhGGDxYBFCKGqBSyqTsAiYBGwCFgELAIWAYuARU11wKKmOmARhg0WAxYhhKoWsKg6AYuARcAiYBGwCFgELAIWNdUBi5rqgEUYNlgMWIQQqlrAouoELAIWAYuARcAiYBGwCFjUVAcsaqoDFmHYYDFgEUKoagGLqhOwCFgELAIWDUZYdO6dj9pFtx+wi24/YOc88F1gEbAIWCS/AYuARZGARVgtG7AIIVS1gEXVCVgELAIWAYsGIywauy0x/1HBDSwCFgGLgEXAovg5YBFWywYsQghVLWBRdQIWAYuARcAiYBGwCFgELGqqAxY11QGLMGywGLAIIVS1gEXVCVgELAIWAYuARcAiYBGwqKkOWNRUByzCsMFiwCKEUNUCFiF0/CkElYJfE9fnvPhSIq/Co+HRFmt4tCUuQKOC0CVwEiXtKvJG7svamGd325hnd8ewJSoW9X4BExWTKoL0ThU2KlRHN+ccmKiIFJhVQa+CTrDLgc8zzTb6mWYvIJJjUNE99ftbbOr3t3jxqkJUgEo+kAQ5e2NuND6BP4FKB0FbczblyqxNuTKGPirO9KzmTH5tPLjDGg/ucFgk/098cbtLkMNhZtSGii4VouOe32Xjnt8Vg7RoHhwyJKFWVADL5xrjlJe22pSXtjowE1AJ7xcgqr8zbSOf2mMjn9rj79PcaCxhsT3t5Vts2su3+HOKwaQErRQ73p+o/4oD/z16l+ZBPkjOnwp8xbDD1+gZh2+KuQhE6R3zXr/R5r1+YwzS7kr7WATwBH3PP7zazj+82pa9s8aWvbPG53DdBytt3QcrfW41DsVB48Edvl7P+fE6O+fH6/wdDueidy/9yVpb+pO1PmcCQz7fD8XQ1Nd3NJ8hIA/XmebKIVPkX/lg3us3egw3/fB6a/rh9Q5yRzy5x0Y8ucff5WtWIPfujryiuUzOkdZLZ1AlKcWWz7vGF/Vl2IF9Ho/z39ho89/Y6M9c+t4Vdul7V/g+JXCi2HOYGPhmWC7ul/ZixVY5kCdg6Wswmpdkm+7PIF7lLwfR0QeFcH3NfHWTzXx1U6F/IlgUAk+9S2PXGZMEOA23Zbyf8t38NzZ67OpZrZOiuYn2h/B39VuxN7Il6/BX+/a4LTkbuzkDLMJq1oBFCKGqBSxC6PgTsKj2YdGZjz9iK9540Fa88aCd96O7gEXAImBRJGARsAhYhB0PBixCCFUtYBFCx5+ARbUPi748dtT39iP/99+ARcAiYFEkYBGwCFiEHQ8GLEIIVS1gEULHn4BFwCJgEbAIWAQsAhYBi7DaNWARQqhqAYsQOv4ELAIWAYuARcAiYBGwCFiE1a4BixBCVQtYhNDxJ2ARsAhYBCwCFgGLgEXAIqx2DViEEKpawCKEjj8Bi4BFwCJgEbAIWAQsAhZhtWvAIoRQ1QIWIXT8CVhU+7Doqhefsw2Hn7INh5+y9T99FFgELAIWRQIWAYuARdjxYMAihFDVAhYhdPwJWFT7sKjhm3FhKEAALAIWAYuARcAiYBF2fNiQhkVasAPdj9lLO2z20g474bqcnXBdzhOpE9flFd5/8gUZV1dt6/DToa6EQQmsfi9IOm/OS23ooPUDKtr8lLzpPj2ncagQaNyYs+krMzZ9ZcaTcCXOYX+9jTJ/LyW9Q/0L+6V3q/jQO+QD+WjCTXHfdeDKJ0pY5C/FzrRLMjbtknge9PvJF2ZcJ34jayd+Iz4olOSExZCudZiqf0rWvb83xn6Ze0a7zT2j3WauSNvMFWmb/fUOm/31Dk/sG2/IWeMNOT9w5X/5RONJjkn+mXJV1qZclfX5n7Q2a5PWZt1HikEd7l6Q7Yjfo7lQv5W4nnRZ1k66LJ6jI18di/+nCn875sWG+qaYS93b4XOisWnePWGKDnP5Qv5dsGC/LViw3/ukdTaiLetj0zPjtuQPcPV77pntNvfMdk+opl+UsekXZdxnmlNPuL7TWlTkau150RsVfkoq5fcxO/Pydyrp/HZb3H50rf6P3ZazsdtynkgpgVVBpftUZDZeH8eQYmN+U6vNb2rtcr2pIFXBUOpvmhOP4SgetadpbWie5T/534uRvXFCpTnyfkfP6u9qUwmj4lZxozkdtyXnbese7SFaoyo2lMD6deRHPXfSpVmX+qP4kl/196aZe6xp5h4b3p614e2xj7RWNIcen61Z3wsUZ4oNxY6u1T/9rnerkEqeGfpN+5L86f2J4nT8prwUL1qLSqy1lpMK+yP/6XfBBY1V/ZTftWaGp+O1qf6pjWkXZ2zaxRmPJfnP3xn5zveFTLw+9bcZ52dsxvkZm7Qma5PWFJ+x6peuw7N48YStLp0V4Znl8xr1I4xjrQ35SDE1LBsXL17cRsWPfKOCLpwT7cHJtsI2wwLQ531nodQv3Vd/R9rq70gXnOsqFuf+S17ygfqnWFMbYVyrHe0985ta3dfyl9rwsUXP6hzSXJ1yaqudcmpryb1ObYXzqLWoudD9iiXd53v2NzNeFGoP8bMu8pdyCfV7xnlpm3Fe2tv0tZw4J+Vzta1cQGtRY1c/tTYVFxpfARiN2tT+53tCFEOKLW9LoC+6b/LVWZt8ddbz09lL4zO+KM9M5CYTbsz5/eXOkORerD3L4zHaG3StfmlfL1qrwVz1ROXy6eR+1FUbnl9G/gz/rjypJ/0L9yPNTal7w/xdMVaubYdD0T6hc6yz/ii2dK1Y6moc8s34TbmiMZUbc7iH+NyU+b3TfkfrqdwHCc+FE2CnKx9UOvautOhry4BFWM0asKgXBCxaXtwGsAhYBCwCFgGLgEVR/4BFwCJgEbCoaK0Ci0rm0OE+VK5tYBGwCMP62oBFvSBg0fLiNoBFwCJgEbAIWAQsivoHLAIWAYuARUVrFVhUMocO96FybQOLgEUY1tcGLOoFAYuWF7cBLAIWAYuARcAiYFHUP2DR0IRFM+68xy7456vtgn++2mbecQ+wCFgELOqmgEXAIgwbygYs6gUBi5YXtwEsAhYBi4BFwCJgUdQ/YNHQhEVfHo339i+PHgMWAYuARd0UsAhYhGFD2YBFvSBg0fLiNoBFwCJgEbAIWAQsivoHLAIWAYuARUVrFVhUMocO96FybQOLgEUY1tcGLOoFAYuWF7cBLAIWAYuARcAiYFHUP2ARsAhYBCwqWqvAopI5dLgPlWsbWAQswrC+NmBRLwhYtLy4DWARsAhYBCwCFgGLov4Bi4BFwCJgUdFaBRaVzKHDfahc28AiYBGG9bUBi3pBwKLlxW0Ai4BFwCJgEbAIWBT1D1gELAIWAYuK1iqwqGQOHe5D5doGFgGLMKyvbUjDIoTQ4NCfv/irFxR//uKvPWojhAICDxMO7rAJB3d4gqCkX1Bp2OMtnsCoABGgm3NWh805K07wUg+1WeqhNi9sVLh4IbCvuKgpV/DrGS/OoiJH7144v8UWzm/xJLn+W2kv7FTkCBLqHUpIBYtU4Kmwmbk87dKYBEJ1rbZU/Dioi8au8alQScICvzcqoL3IjRK7sO2wSNKYVdg23JbxtvTsqKebbdTTzT5Gza+S5BDoaFx654j2bNw/+UvgMPq7QJ38rZjStXyWhEWaNxXMIRQUoBXw09zIRw4coz6l7o4BqT/zyH6rf2S/P6O/u6+ixN/bvr/dUve3O9SedknGgaL6GYJOf0fYVvQuFR/JOQpBhPwVzrMD8zAOoiRegHrKVdmiwlSQJfzII/+rUNU6131J0BzGusaq64ZHW6zh0RZ/VnFRCoz6M9E8h787pIriUH5UYaJr939UFKceaC/6WxKeJvsRAn1fZ9F1cj/SWDX/Y5/bZWOf2+VAueGxFmt4rMWh+4mHttmJh7bF49E4EutdYxf0UUzpXZPWZm3Po6/ZHfe9YXfc94Zt/snLedCt+I7iuOnkZpdD9GDv0L7lQErzGsX4rGVpm7Us7XuJr5F7OuJYiGI6nH+NTf7VOhdQTX5MU4EpsKT+6V3qv2JcsEix72sjCYXl26jv6p/HStTPEU/stRFP7PXzIAR6iv2J63NFBf3EDTmbuCFXBBp09hXtgdGHqGRMyy8COvKFA+QotsKPaD4X0RlS6kzrz3yjK4BSSpo3X/cac7RW5Yu+6G9XsCgJcPvSb+U+YFeqJCzqaRudxUv4cacc3NQaCX8XLCrZdvARulJ19pz23IZvZqz+1g5gEVazBixCCFUtYBGwCFgELAIW1R4smrQ26//yyP+FJLAIWAQsqljAouIYLPU3YBGGDU4DFiGEqhawCFgELAIWAYuARcAiYFFfC1jUMwGLgEUY1hMDFiGEqhawCFgELAIWAYuARcAiYFFfC1jUMwGLgEUY1hMDFiGEqhawCFgELAIWAYuARcAiYFFfC1jUMwGLgEUY1hMDFiGEqhawCFgELAIWAYuARcAiYFFfC1jUMwGLgEUY1hMDFiGEqhawCFgELAIWAYtqDxb96b+P+d7+5d+PAouARcCibgpYVByDpf4GLMKwwWnAIoRQ1QIWAYuARcAiYBGwCFgELOprAYt6JmARsAjDemLAIoRQ1QIWAYuARcAiYBGwCFgELOprAYt6JmARsAjDemLAIoRQ1QIWAYuARcAiYBGwCFgELOprAYt6JmARsAjDemLAIoRQ1eoNWHQ8S8n59Fc22/RXNttZb6+3s95eb3f++hS789en2PaPz7HtH5/jxXL9XWlbPGGrLZ6w1S597wq79L0rbOrlWZt6ec8Twaa6GNipzYnX5GziNTkvLs8/vNrOP7za0p+dZunPTrOp399iU7+/xYsMtaNC9cRD22x0c85GN8cJnAqPxoM7rPHgDm9Df1/8o2tt8Y+utdf+MMZe+8MYT8iW/mSta+KL223ii9u7HM+Ul7balJe2+vWaDy62NR9cbONf2GnjX9jpheCM89I+5pFP7bGRT+2xU9+8zk598zqb+eomm/nqJodF639+oa3/+YU+PhWy89/YaPPf2Ohtj39hp+3/dInt/3RJ2SRW9w0/sM+GH9hnGz68wDZ8eIG99PsJ9tLvJ9jGX6ywjb9YUfCMAGnYlpJwQTf9rmQ3hCJJEDH1irw01nL+1FwK/HhbgkgRqBh2YJ9DwS5jLgIsAiuaW/n/jLevcRU9/8Pr8wr6J78rLgUXe7Im5JPmT8605k/OtAvfXWUXvrvKQYSgpxcOj7X4b0XzHc2N5lvrS2PWXKmALdUfPRP6QGtz7g9usrk/uMkW/vAGW/jDG2z6RRmbflEMopLQtVzhp0J6wk05O/LVsaK9XbChM78JiAvghDFTTtUWtCVjLAGe9Jv6pbF26ecKFALu7ioJi8rdE4KG/lA5oFqJnwTdupyjCESlHorXabiXaa+Y9/qNNu/1G23dBytt3QcrHRL3p09KSee39m3tP4KG4f1ah9qv9n+6xM9++XXJWxtsyVsb/Cy7+zfz7O7fzLNV719iq96/xPclrffRzzTb6Gea7aZfLnf94t/+2X7xb/9s//Yf/2D/9h//YHs/OcP2fnKGtX222No+W+xtql+bf3mubf7luX7f7b9eYLf/eoE9+Pksl/6mfk+7OGPTLs74fqM9bOfHZ9vOj892uPjuv9bbu/9a72edzvnX/jDGbvvVIrvtV4v8/Vs+WmpbPlrqe4ne9dDnM+yhz2fYz//1f9jP//V/2MqfXmkrf3ql91PPb/7lub4fKlZ0Tuudb/9xuL39x+H28u/H2cu/H+dn74u/b7QXf99ob/xhtL3xh9H2zh+HuQTqZ7y6yWa8usnW//xCW/ez84FFWM0asAghVLWARdUJWAQsAhYBiwYjLLrz1cP2dO6QPZ07ZA/vfjIfa8CikgIWlfAJsAhYBCzCsCFtwCKEUNUCFlUnYBGwCFgELBqMsGjCTcV/BxaVFrCohE+ARcAiYBGGDWkDFiGEqhawqDoBi4BFwCJgEbAIWAQsAhYBi4BFGDaYDFiEEKpawKLqBCwCFgGLgEXAImARsAhYBCwCFmHYYDJgEUKoagGLqhOwCFgELAIWAYuARcAiYBGwCFiEYYPJgEUIoaoFLKpOwCJgEbAIWAQsAhYBi4BFwCJgEYYNJgMWIYSqFrCoOgGLgEXAImDRYIRFn/77Efuv//iL/dd//MU+f/93+VgDFpUUsKiET4BFwCJgEYYNaQMWIYSqFrCoOgGLgEXAImDRYIRFR746VrS3A4tKC1hUwifAImARsAjDhrQ5LJp6Sdoabs1Yw61xUlH/cKvVP9zqm9eVP7vMNel7W23S97bamGd325hnd3uyM+HgDptwcIcvJiU/SqyV2CSTShU/SpzrH9lv9Y/s96RdB4E07eVbbNrLt3jCooNDxUfjwR1x8vXEXhvxxF4758fr7Jwfr/N+pO5vt9T97UXXGrP6IJ803JqxiRtyNnFDzouycc/vsnHP7/KkI3Vfu6Xua/fNWgds6jutlvpOqyeSyWJC71OhoqRY/dcz9Xemrf7OtB8I+rvGq3eOfqbZN0NJcyW/6d3ux2iu9C7NkTbZuT+4yZNtxca4LTkbtyXnY9ZYVfjpnTr81RfNwzk/XufvUX90rWeWvbPGlr2zxhNrHYqa79mv3WyzX7vZf2/+5Ez3tfqrfshvl793uV3+3uX+u2JM/dOBonck36O2VTxIKmDdV1FCo3hVApFUsvBd+pO13rbaUJIhX2kN6rBUopCcZ90jyW+Kca1NxZh8oOJcY5ffl72zxhMVvUM+WXH4altx+GovCL/8v456QXHkb8dswo05m3BjzhqvzyuZBOtvY3bmVa5gUaKoWGu8Ia/xm/NSAT5qT873AhVwmn+9S2t3zPa89D+v0H1aw6N35VwqWsJET8mv7lP//P5ojagAn3JlLK2T0btzNnp33J8woVYRr7blCxXDo5tz1jRzjzXN3ONtyRf6u/zq11EbAj+zv95hs7/e4XtL/Z1p7/PcM9tt7pntcTEbSWOcv6jV5i9q9f7K75pvJY7TLs7YnLM7bM7ZHUXzqzmYd3qbzTu9zSatydqkNVn3ie+r0RwJSIxsiedJcGtEW9ZGtGUdOAioqEBUnGqf1/PJ/shPDlGid2n/176kolfxO2ZHXkqOU3d3xIrep/Wte3TmqZ/ye+PGnDVuzHnRKQAkIDVyf9bfF8al/q7+yn+6P7leRu2J42H8zfE+rjWqtrV+pBOuzSssXHW/+2Rn7EdfW5F/VZyrUJq3pN3mLWn3mJpxfsZmnJ+xUxa32SmLCwGPzt5Fs/baoll7HeDp71OuyuYVrTf9rrgsVeDNXtphs5d22EmXZe2ky7I2c0XaZq6IQY3mW3Gsa8V8qf1L/lJMKz4FJrVfnXxBxk6+ION7mtaZnku2OWtZ2mYtSxeNKYSx8p+uFzdus8WN20qOXX0Pi3LF3aS1WfvTfxfDIj2nfur+sVvjNjQ2X1/BmguBmOZSayDZz8mrsjZ5VXGxrTb1bt0nPyr21ZdkfzTvukfzqX1JbZ82eaedNnlnp5BAbZ9wXc5OuC7nY1Asqe3Q7521qXWkNhRT+rvWqtaR1nC4h+hDxLRLMr4f6ezXXqDY1zmknFB5cAiwkudQ6tttlvp2vE619+mccRgc7XU6i+Ur+TlZE2g+FSMai+JN+6eKdeWyyq+Ue2lfGp7Oei2gfFP7u/qtfUlnhvbTcbfkbNwt8b6WnCPd2xlMa6pb7md0OIfhGTJmR+yPUu8reLfqiqjf8pHioBSU0j6ktj1/CtZuKOUHBflHcI/2XofTwfmk9e1nYBQfpfqpHEoxo3tVo2juwo8w6mcyV1A+Uep9TXXLi+KgnOTnhtvic1ln7bgtORu7OQMswmrWgEXAImARsAhYBCwCFgGLgEXAImuqAxYBi4BFwCJgUVLAIux4NmARsAhYBCwCFgGLgEXAImARsMia6oBFwCJgEbAIWJQUsAg7ng1YBCwCFgGLgEXAImARsAhYBCyyprpCWPT02x/ZWz/41N76wad26N7XCp4DFgGLgEXAouTeCywCFmG1Z8AiYBGwCFgELAIWAYuARcAiYJE11RXCoklrs3bqlF126pRdRc8Bi4BFwCJgUXLvBRYBi7DaM2ARsAhYBCwCFgGLgEXAImARsMia6oBFwCJgEbAIWJQUsAg7ng1YBCwCFgGLgEXAImARsAhYBCyypjpgEbAIWAQsAhYlBSzCjmcDFgGLgEXAImARsAhYBCwCFgGLrKkOWAQsAhYBi4BFSQGLsOPZgEXAImARsAhYBCwCFgGLgEXAImuqAxYBi4BFwCJgUVLAIux4NodFJ65O+2IvWiTRxquEe9TTzUWJqBZkuOnMXJ62mcvTnvBrwZ50adblm1+UjIeLd/LqrE1enS1a7Eq4fKOJwNSI1uIxCMrooFKSG/ZXG1pnG4gOTiWk5RLRcv1TYjh+c+fJQlLD27M2vD3hq+iQ0uZf8jCJDm0l7e6Lb6Wt/ltp748KlfA5JR3JxC2cs66khMA35kTRE96rOVGyFiaTShB0SOpwTBZA5frhyVL0rH4XgFBS7HO8IQYM5eYlMfXuAAAgAElEQVQg9Ff4u9pU/BY8ExW5SmqVEKqA132KEwcs0Xqr1P9NdcuLEtW+0JGv4v975f/6f75yiKk5HPHkHpeglRf40Tx6chn5Rgmskg8HlFHyqT0l9WCbgzHFga6VHJ86bbedOm23v8OTif+fvTf9s6o69v/1T/g+va/7ZXJgFAQEQQQRUCQ4XCKoXCckOBAFERFkFpCh6T7HIU4xaqJxuGoUBRFnRQ0GRUQU0ai5MTE2gkyN8833V78HrHft1WvvBqThBk5/6vWqB+ecvddeq6pWrar3ljbEItcxlziujj9toR1/2sIMLIXvGwI6FGKAFQcG0fgUHVzDWBRL2JUiEwjihdavqm3g//mFDfw/v8g1bBRa2BuwTA70Bis0BDFoptBkntjJISx5J8zTi3qKyTBfb0InZrkuzc3sJ4eAwX7YpKE4jqHU3ualIu3fa4717zXHP+P39Drg1u5yTbfzG24eWDtnCXakEOd8TWOs7eSsIaaJIW82ZC9sRUPDs+vBIvZSiFP2ZlocMz9ijGIZ6M7Z0vyWagfeNGnkMJoIGkNiin3P994ER/CNZvaUluPtlJbjc3mfe1KwxpyYAzbsPCqzD/Pl3OZZ7AUfO/iEtWPnuP5gLWkzSV5Kc4wD25CfmKc3ecFn9WqA8AzORZ7B/Fiz50v2cKS88HK4Gr7H3y3LNfbCp5/Y21/8w97+4h/2/GcfW7O7qnyfozFw9towaXbJ+9gEezNv8pPbZk4GGtMzwvdieHmBv4lLcpzHXnh2+yen+1q9HgvwgDoX+JGeR5zV+D2OIdbKmOQjahlyYRqXjI1v44aUMd1eYT6sjXngg35951q/vnNzZ0ecj9JaEHXAG+YHjOV3YFgRVHBwzwuasGZ+55nkDl9HA9BhV7qnjf1PGYvzFF8yL/bg7vJ9vbyeAJL0e3xLzna7R3Ajrcd3p4yZ1tWev6KXUMDqfWG/hs5F6rX09xRIF2kKUakN+vWZa/36zPU+k3jEZ+lLjLh32ZPn1vMVZ9tuAGCq/Q85U7BIUrEiWCRYJFgkWNRoFSwSLBIsqp9rBIsEiyoBFtXuyP6r0dqv6wSLBIvq3StYFOV1wSLBIsEiSQWKYJFgkWCRYFGjVbBIsEiwqH6uESwSLBIsEiwSLBIsEiwSLJJIDmYRLBIsEiwSLGq0ChYJFgkW1c81gkWCRYJFgkWCRYJFgkWCRRLJwSyCRYJFgkWCRY1WwSLBIsGi+rlGsEiwSLBIsEiwSLBIsEiwSCI5mEWwSLBIsEiwqNEqWCRYJFhUP9cIFgkWVQIs0h+4FiwSLBIs2p0KFgkWSSpXBIsEiwSLBIsarYJFgkWCRfVzjWCRYFElwKKW5SxfMZZgkWCRP0ewKMvrgkWCRYJFkgoUwSLBIsEiwaJGq2CRYJFgUf1cI1gkWCRYJFgkWCRYJFgkWCSRHMwiWCRYJFgkWNRoFSwSLBIsqp9rBIsEiwSLBIsEiwSLBIsEiySSg1kcFrW7qsYPVpTCgMYv/u2M10bbGa+N9kaEIqj7M5Os+zOTrMezE63HsxN9wzFG3xfHW98Xx1uLB+a6etMYGiIaFwpQxuSQ6bJ0inVZOsWT+uBXr7DBr16RFUV3VdnRT02xo5+akmssgV3M15vaUHClhyEALYZoFPgkaYpNbzxDw8U6WJ8XkNE8veALhZIX9mHs5vfNs+b3zcvmHRIZBQRzosBpds8Cf16382qs23k1XjS6vYMPATlpg+h+CEXAkTPL2bXBjjQuacHH4eRAhyY32JdDs1V1VFiHazstmWqdlkz1ApB7UvuR/JkvxX2bqVlxnTYz/M733tCEmOr57ETr+exELxhjqMVaWaMX5eF3b4qYZ/Btt2XXWrdl12bfRz4CjLZ+7Dpr/dh1uQKLYpJi2fdAsAnPZJxmv13gezGNDfYJ8YAvKU4uXXWeXbrqPBuz+hwbs/qc7Bm3VXuTlkIqL2BD3NZ+Hf0R1G/qspgKhXlsNw527JLGljeswZfMhUKBPcJebTMlK7odBoUClRihGOfZvYYstF5DFrptvDmKYBHPo4Dh2q4jStZ1RMkLPuIDX2Ej7M19R84q+zwAPBSGaSPI/NPi8+RO01z5LrZDmyll9xlFMGP4fgr7zqFS1OSyt3yfBHuyj7EJRZrfF2zk64n2ObAIPwNRiSkKwmOH19ixwzNARXNGnMSwKG0iASfcSx5K7Q7gxzfc1/barKj0JjFp9LnOG7yFpUKNmzMaDvZDalfPgSH2AWUUulznL2WmZzHqPgj7xHNw8JXDlyimY1AZA3Fix+FFyC/kOL5P8yv2xh8xJCSGWRM5OAXz+Ij1pPsnhlpAdWKLlzvpeU1M8T1xyTrJt+0n5CFcCtPSRoT5x/HY6ZelevAgbVqI4XhftKrObMLeYJ7ePIYa6PBHZnstQEwwT2LI4VDwOzAYH6cA+PC52fOxAfk6bTwdwif7iPXh68OvL/la2fcOysg3IYYYk71C40yOifcm13J+prmPGOJ6fndAGcE2app037K/PC7CWO5D6uJg3yJ/85kalbGIEWKHGpKxPeYKIDtjkx9ZMz7kemARY/rLgyje3G7B79QqgD7mxRmcgmjiNIbXnIfAqT1txtPP8Tn5U4GJ2zHZVzHQTOMQ+/neTGrG9IUOn4ue78AzecHZ4HyT/BTnd/8uga2p3djPDT2jCBY1BLNSbeiFbj0/NjCW9y4N2ML37B7Gy55omqPdhzdkaydvFgHPn6q9T62y3qdW1ftOsEhSySJYJFgkWCRYJFgkWCRYJFgkWCRYJFgkWCRYJFgkWLQLFSySNDURLBIsEiwSLBIsEiwSLBIsEiwSLMrBoiW/fs6eXveRPb3uI3vwnXcFiwSLBItSQCJYlNlCsEiwSFJxIlgkWCRYJFgkWCRYJFgkWCRYJFiUg0WbPt+c5fa6HYJFgkWCRSkgESzKbCFYJFgkqTgRLBIsEiwSLBIsEiwSLBIsEiwSLBIsEiwSLBIsEizahQoWSZqaCBYJFgkWCRYJFgkWCRYJFgkWCRYJFgkWCRYJFgkW7UIFiyRNTQSLBIsEiwSLBIsEiwSLBIsEiwSLBIsEiwSLBIsEi3ahgkWSpiaCRYJFgkWCRYJFgkWCRYJFgkWCRTlY9NFbn1jt9jqr3V5na2trBYsEiwSLUkAiWJTZQrBIsEhScSJYJFgkWCRYJFgkWCRYJFgkWCRYlINFAw4d6v5P95FgkWCRYJFgUT1bCBYJFkkqThwW9T/kzH2yaaVSadPTev9U4es6L6gp8uNr+5yywPqcsqDBsTj4T+w3z07sN8+bHX4HIhTdSyHgUCMtdsPYFO98T8FLkdzsN1U+d29+I4B4+LwMFlEopnPhd54ZFzP+XJrYUNymjTZQe8TKETZi5Yh6TT+NM2umeGes9FmsmeaS7ymimt+cNebYmO8B3zQVFKEUZGkzHANc7AXAd1gVrm27aKa1XTTTGxeKc3yC/4+5sOQK1KUpS4EiwCyFmqwZENHjrGpX5tv54pJ1vjizzzEXlOyYC/IgD1+lsAZbHfmHWd580bj7S4nwmXlSYNOgphCH5rzLyHxx7j4JcYEP8QkvGphf7uVAKWugmC9j+/y4N9iTppcmze0O8L17gb+IYT/hM8Z0vwb7Mi+uc4Bbk71ISmMbH/CZZhOfOnQLIIXf47VzL/vdG2mgYIhT4hIbpBAz9ok33eFa9mY6b+bnAC/sOwDRgJfGufo+CfZNAXP6DLTvgPnWd8D8XPM54NCh3rClUB/I4i+a8H94sUOjDfTGNp1GlxxqpbHkYDQAn6KzYcChQz2W4hcM3MMzGsr7vEjwl2rE2hVRTuPlDpAtNLU06w7IAc4BLgFvHKDOyZQ96GfcoCrrM6jKxyJGsGtDZx82q2e3AKnYx7yEOunlK+2kl690G/EM5sI6yWedLy7Vy/XNb85in3kRI1yfvkTxFzzRmeZnQALT0rWl3/uLRM6YAlhETvDcG+IOX3E+YhvgHL7Dt/VemiRnQaopZPgpujtY5C+YAyxKfR1ry4eut5YPXe/5k33FXkjzF3s1tXeRL/BzCqBSPezh2XbYw7N9rxYBKJS9R93TEEzyl1ohjxXaMfGRv1AMa0/t1lB9NeDQ7MWm2yPksN35Ms2vRUpOaDu5bG0m1QgWSSpWBIukUmmjVbBIsEiwSLBIsCjkKMEiwSLBonoqWCRYFO9VwSKJ5OARwSKpVNpoFSwSLBIsEiwSLAo5SrBIsEiwqJ4KFgkWxXtVsEgiOXhEsEgqlTZaBYsEiwSLBIsEi0KOEiwSLBIsqqeCRYJF8V4VLJJIDh4RLJJKpY1WwSLBIsEiwSLBopCjKggW3bDyj/ab1W/Zb1a/ZeV3XhMsEiwSLGpABYsEiw4RLJJUoAgWSaXSRqtgkWCRYJFgkWBRyFEVBItqdyT/p0vBIsEiwaJCFSwSLDpEsEhSgSJYJJVKG62CRYJFgkWCRYJFIUcJFgkWCRbVU8EiwaJ4rwoWSSQHjwgWSaXSRqtgkWCRYJFgkWBRyFGCRYJFgkX1VLBIsCjeq4JFEsnBI4JFUqm00SpYJFgkWCRYJFgUcpRgkWCRYFE9FSwSLIr3qmCRRHLwiGBRoiPfvNBGvnmhXbDyIrtg5UX1Ei6JlQOhoeK9oe/3Rjn8PPElzQVJPC4yaBYaahorTePGtLFjFRXUjdW0+YyVhpgiuPOoncpBRTH/U9buTcySqdZpydQGm4h9qTEs2vDtdmvxwFxr8cBcP6i7Pj3ZlWKBAx5I0O6JGdbuiRnW/snp1v7J6Q4GaLB7nF1jPc6ucdvQcLd5fKYXeDTyKayiqeEZXliHAot5xmuiKGKeNDH4jKKImKGwJU9Q8NL4Hf7IbJ8Xa2Kv8j12o0ijQOQ6GpcjZ2b+pOGkAKXg5neffyiwGYvijhzTfkJWpNNY0USgFEeM3eUXpZ0act7JnWfYyZ1nOIzpdl6NNwXMiybN5xPG7H1qlfU+tcrjF58yX+K47eQMqnEtTQT3AF14Nr5LwRCx2GZKZhfii6aLewf0nG0Des72YrPZbxdYs98u8LUzZtygpIDRz5MQb94whThk3ux7/ECxfNSVWYHPfH3t7LlQUGNfmgpvIoPGYJTzhFgmxtiDaZPL3uDZNM2As8OqSr4X0wafa4kPbxbDM4kpgFTsI2zAvd3P3alpPDIH4oVnFuUuYqhf7+utX+/rc2tk7YyBjZgLdsbuze5Z4P5nb3qjmjSu5CdiLq0x4jHJYbuC5Y3VtHZpP6FsG7btyGBR3Q47bH4U68DPyEfYiVgHnGJP1kMeIG+l8V0PFoWx8BXzY78T4w5vQkwRv0CFVg9d7+PjR2Ifn7ivwj4hZ6S5L4ZFfEd9ht/9nE6gC/uePIBP4/3D2gF55Ah+p95jvulLDM7LXkMWuqaQiDVyb0MggPjkrK4X6wFKpTUJayMvNQQPAANxre2wKGns/WVQAouwpwNdxormuad7gLOFuPgp+8fPuCRO07XjI3zIelpPz9/raw1xm/6O4sNdramx+SEGep4nQ0ynLwHT2jXN1bvStB7jxdju5pUCtAGHDvVzMp1vWuv7Of8T7EH+PmJOyQ6fVS1YJKlYESxKVLDo4FPBIsEiwSLBIsEiwSLBosZpESxqPyFbK3tXsEiwSLAor4JFgkWHCBZJKlAEixIVLDr4VLBIsEiwSLBIsEiwSLCocSpYJFgkWCRYtLv1CRaFHCBYJGkiIliUqGDRwaeCRYJFgkWCRYJFgkWCRY1TwSLBIsEiwaLdrU+wKOQAwSJJExHBokQFiw4+FSwSLBIsEiwSLBIsEixqnAoWCRYJFgkW7W59gkUhBwgWSZqICBYlKlh08KlgkWCRYJFgkWCRYJFgUeNUsEiwSLBIsGh36xMsCjlAsEjSRESwKFHBooNPBYsEiwSLBIsEiwSLBIsap0WwaOajz9vCRa/YwkWv2JSnnxMsSuJYsEiwCBUsEiw6RLBIUoEiWJSoYNHBp4JFgkWCRYJFgkWCRYJFjdMiWLRh2w7P7bV1OwSLkjgWLBIsQgWLBIsOESySVKAIFiUqWHTwqWCRYJFgkWCRYJFgkWBR41SwSLBIsEiwaHfrEywKOUCwSNJE5KCGRRSTRY3eniqHz/6YX1ok70opnHY3LwDAv9r2+1MbWiON/r96fqnSjKffE5/74hlp0XSgaQyLNn2++V8+H6l0fykNVYv751qL++fmQKA3/lWlHMwnzwNGvFECQIVmE1gAOI0h4RGPzrIjHp3lRXDLh663llEzzGfmd9h/zbHD/muONbt7wU4NUDNWGlLm0eHJ6dbhyekOK70xDA1rl6VTrMvSKf5Mb84iAEVTA5R0aBXW7DAV2BWaM2zEOMyt5YNzfT7ci33wDfPhOmzF/IEhffvPd6Xh7zm02noOrXZwmsJDrvN1YJsADePG1Bv+sCbWnELqFEzwTCBMDA9oymm+PXbwDfcE0AxIxzY0RzHYwfYdx5St45iy2yeGV7V1GSzasH2HtZ6WgTFin+a38yUljzuP6RAbgFDW7OA8rOO4M6vtuDOrPW6wb/P75rl90ka527JrrduyazObBBsAkfxZd2SAln3kkD/sC+7lWccOr7Fjh9dYn0FV1mdQVbbvw9gxFHawHBr7NGdgJ+IR7bh4mnVcPC2DRvFLvwCneB65wV+uhN8Zm/hIAXkMi9i33c6vsW7n17jdmA+5gxdc7Cd8ir27PzPJFbtRt7F/eRawkIae3JIq84/BE/Zlz1ED8uLJcx4vdgJw9N4gAlDkOsAcz2r92HXW+rHrfK8CVohxYKbvp5fGueILwB7zZQ+mQIJnANIBPL2fn+Da54Wrrc8LV3tuI7+wF/CrQ48wf/ZbCnPiM4v947Ef7jn6qSl29FNT/HrsS3zioxgWYQ/ij3v53XNv2F/AbgfhwS/xPHs9d431eu4azwnYHljEPiM/YU9/iR7ilPUc/dQUtxdxSZzif3xFnLqv8GkArH5+3r3Az5+Br4y1ga+MtXZPzLC2j00TLJJUrAgWCRYdcCpYlFfBIqn0wFDBIsEiwSLBIsEiwSLBIsEiwSJJUxDBIsGiA04Fi/IqWCSVHhgqWCRYJFgkWCRYJFgkWCRYJFgkaQoiWCRYdMCpYFFeBYuk0gNDBYsEi5oSLOpx6x122uid2rvq14JFgkWCRYJFgkWCRZImJIJFgkUHnAoW5VWwSCo9MFSwSLCoKcGiVguzP5ZM4yVYJFgkWCRYJFgkWCRpGiJYJFh0wKlgUV4Fi6TSA0MFiwSLBIsEiwSLBIsEiwSLBIskTUEEiwSLDjgVLMqrYJFUemCoYJFgkWCRYJFgkWCRYJFgkWCRpCmIYJFg0QGngkV5FSySSg8MFSwSLBIsEiwSLBIsEiwSLBIskjQFESwSLDrgVLAor4JFUumBoYJFgkVNCRaNemyRTSkvtinlxXbZ758QLBIsEiwSLBIsEiySNCE5qGHR/lAOmzRRNL85S/D8RgL2xMthniRBL+ZDgiMRNr83aw78AKBoZ6xwUHCoU9z5wRASHMVn81uqPaFxjx/WybVe2Idncfh4ExEV/p6kw5tGL4zD/HLFD2NSuIQDre2ima7YiQLAi28O91BAcRjxbK7DnhwCh80v5Q/YsFYaJpo3b4rCYcT9+Jb5tn7sOi84/YCiGA628QP0up1KnOAH7qcwOHxeVsQwr7RpcA1xwtg0LNg7LrC8aQjx6nbld3xJTIfvGRtb4LOWNSUvhrxhC7FMLFFE1H5dVwiLev3HQuv1HwuzeL59ofU/bo71P26OQzb8ShHfdvJO9eIjzM8LmREl6zqiVO/wpjjsfm6NdT83ewNO8+N7MayL4pn7PYYWZEr8uQ+Cn70gpJFLricf9Dir2nqcVZ01Tb+b7/Mklig6vGANezZtdmgiaUbihgQ/9h0w3/oOmJ/FfJif79XgS99PodDm8+GPzM72Ps1Vshd9LWEs/M/3/frOtX5959bLHaylzdSytZla9rzp+yrMIy02KeqJGxrtTr/M9pHHMjk1NC4OD0Js9e81x/r3muOfu51XY93Oq6mX+1kDeZB5sp89loMtGIvfWV8Mi1JwwzPYx8SKQwUK2BBT6fz795rj19LE0qR7/iYOQ5x0HlWyzqNKuT1JTLW7puzPIz+y9vZXl6391Rlc8P+yJMRFujfjZuKYC0p2zAV5WI7tUx/4eRCa4DTvtqrKcgT30IB4Ux7ORxq+NB7Qge2nuJLbgEU0Jr7fATucfWGPYDOuA4bEQKTD+LJ1GJ/Zl/ngf373syXsFdZR71wPz+VsIN7IYYzp+z7sv+7/WWPd/7Mmi4+ogcbPObjB/rql2mp3ZLm9tm7HznhnfmHfDTh2lit5Dz8yJrYh7xNr5NMTTppvJ5w036+LYYw3xiH+0rOAvMq9e/IS0P0JtEpBU/g9jS33bYCgHcaVfc8xT2AL95K3qC+8yQ338X0MB72OSK5hv5/Yb56d2G+e52Lmzxnn+z2CReRLtwE1aYgp9jvXcx0Ai/M13ufpi87UvrnckOQMr1OjMT0nhJgnfxIP+Ij45axIa4c41j2f4HfO9zAmsfNT+gXyEfuFXMLvgAie4bYJcznmwp3q535Ur/sYIR5SuxF7fl2oJVPgEtcu6ZgNrZk44DN7Ne4jvKZK1txQ3ebXhz1SZE8H40mc5mIrgUUeS7zAmZvlKM44egJyg++zcJ3XU2EfpfV+0TyIrQ5PTrf2j08VLJJUrAgWJSpYJFgkWCRYJFgkWCRYJFgkWCRYlMaWYJFgka9JsEiwSLBI0gREsChRwSLBIsEiwSLBIsEiwSLBIsEiwaI0tgSLBIt8TYJFgkWCRZImIIJFiQoWCRYJFgkWCRYJFgkWCRYJFgkWpbElWCRY5GsSLBIsEiySNAERLEpUsEiwSLBIsEiwSLBIsEiwSLBIsCiNLcEiwSJfk2CRYJFgkaQJiGBRooJFgkWCRYJFgkWCRYJFgkWCRdU2+OH77KLZD9pFsx+0M+76vWCRYJFgEWsSLBIsEiySNAERLEpUsEiwSLBIsEiwSLBIsEiwSLBo57Npav1/+S1YJFgkWCRYdKhgkWCRpCmIYFGigkWCRYJFgkWCRYJFgkWCRYJFgkVpbAkWCRb5mgSLBIsEiyRNQASLEhUsEiwSLBIsEiwSLBIsEiwSLBIsSmNLsEiwyNckWCRYJFgkaQIiWJSoYJFgkWCRYJFgkWCRYJFgkWCRYFEaW4JFgkW+JsEiwSLBIkkTkIMaFqVNxr7QbsuutW7LrnXowDNaPXS9HzJDXr/Mhrx+mQ1/Y5QNf2NUvuAPMIPDfeArY23gK2OzYjICJme8NtrOeG20DVo+xgYtH2OlDwZY6YMBdumq8+qpQ5DQOA14aZwNeGmcnb3iYjt7xcU+l+FvjLLL3x5ul7893I5+aood/dQUb1j4vcvSKdZl6RT/DFRgzFnvnWqz3jvVn9n+yenW98Xx1vfF8T5WpyVTrdOSqX5AcV31upOtet3JduYfL7Uz/3ipjzVj7ek2Y+3p1u+lq1yxdWoDgNNpr15up716uTekrIf5ckhxfcfF03yM0avOtdGrzvU1ci++5DOHKc9wSBKBCPzKIYn/R755oY1888IMfoWijevGrD7Hxqw+JytYImjgQDHYHJ/Ea+m4eJrbiAMWe/M993VZOsXHwm6j3jrfRr11vvV8dqL1fHaiAwEHVMEWDpMSwNeypmSDX73CBr96hT+vx7MTrcezE23e+4Ns3vuDbNKan9ukNT+3jd9tK4RFUum/UimSu51fY93Or8n2N3k0upbmzMEtQD/kAYrMC1ZeZBesvMhjf8TKETZi5QjPPTF881wV8iZ5hhzR5vGZ1ubxmZ4Tez8/wXo/P8H3KBDRm/Trs+LVQVk4bxwqAAdDo8U+55l8rvcyIOQAGo103uR39j95tfszk6z7M5OyfHlPpGFsb84AxuH3jmPK1nFM2fMmzRLPZH1xjqPp6nF2jfU4u8afiw9pzhiLc4vvARUAs17/kUECGk2gucN3XmIkL4OwEbka38bKOeMvL2hEQow5ZAhnmb+YIlc/HGkSE/iEeXAOpfEAUOEZjBOPBSxw0BTOqeb3zbPBT91jZ931kJ1110M2eOk99V5M+DwjyMGYDqd4sRUaa2yAjYhH6iPGjOsPzrC05nPf8FKjVFNP2SuAq3aTym5jXrg4NADM3Vz/JSGgBzCRe8EwP3rJE/aRQ1iuCfb2WKdWDDnG53tjBJKSvUnNRWwzFn5nPe7fAChjKEzcpXnSoX+IccCj58skp8QvqbyWAu4Fu3l9AbTAvuRVxkqAxpGzyv4ShWuwT5xbD39kttsdPwMTiUGAxZHXZS+AHcwEO7MvUoBH7AGmis4MBwph7PSFEtelscZeARbFUNjhBi808Q11ZJJfeQY2SmHOgEOHOjzHr3GcxbAFTWGR77donv5diIM+pyywPqcsyF4ChlhrCBrxffwikd98T4b9zUt8/Au8BGIBxMmz8XM6jS5Zp9El3yfsIz/3E1iE+gue9IXZHQut96lV1vvU7EXYgEOHWv9DzhQsklSsCBYlKlgkWCRYJFgkrQwVLBIsEixqHCyq/Sb7r0Zrv6kTLBIsEiwKKlgkWCRYJGkKIliUqGCRYJFgkWCRtDJUsEiwSLBIsEiwSLBIsEiwSLBIItk7ESxKVLBIsEiwSLBIWhkqWCRYJFgkWCRYJFgkWCRYJFgkkeydCBYlKlgkWCRYJFgkrQwVLBIsEiwSLBIsEiwSLBIsEiySSPZOBIsSFSwSLBIsEiySVoYKFgkWCRYJFgkWCRYJFgkWCRZJJHsngkWJChYJFgkWCRZJK0MFiwSLBIsaB4tGvvSIjX1kiY19ZImNfOkRwSLBIsGioIJFgkWCRZKmIIJFiQoWCRYJFgkWSStDBYsEiwSLGgeLmt83zxs7PysEiwSLBIsEiw4VLBIskjQFESxKVLBIsEiwSLBIWhkqWCRYJGlvAzUAACAASURBVFgkWCRYJFgkWCRYJFgkkeydHNSwiEJ1f4ydFietHrremwEKZpIJMIhmHVDC78NWXGLDVlziSTyGAV2fnmxdn55cvyh8eLYnP8YGUPBsxqRp5/OwFZc4fKGJYV6MzfwAOMAl5gdo4Vk9np1oJ718pZ308pUOIqatPcOmrT3Dxr8zzMa/M8yL+XGrz7Jxq8/yeTMnoBcAZczqc/z5c94bbHPeG5wBsZDwAWE0ZzQorItnF4156/oT7Nb1J9i5fxpp5/5pZL1rxqw+x5uI2z/sY7d/2MefxfVAr+p1J/tvN37Q3278oL9DIppF1sb8UpAy+d0hNvndIW7X0avO9bkD05gvik+AhzwT3/E9652x9nSfB8+488Pj7c4Pj/c180zWzPfchw9jO928/kS7ef2J/jy+xyY8++v/2ShY1IB6kXpTVpRRoPTrO9f69Z3rICAtdig6KfxPGLjAlWsoZrzJTcageKNQ5FkUTTSb7Z6YkTUcIVe0mVq2NlPL3ih5URwavw7jd2qPs6qtx1lZAVk0z32pPB+70Gjye9pscB2NgYOU6gwOYUfyNvmeghXoAdChYQEi0bzFwIR72S/sTfI+uRooy3U0CDQ2FLydRmcNamqTw+eV7PB5pQy2EDuheXTIFBqsGMJwlrJmYikdG1sRF6n/42YCe3UetVMb8iXN5bHDd6o32KGh4izs/p/Z/mFMXtT4WAFEsHZ8QuxzXQyLONsckgPmwx7ARn4d9g3P2lWcss/xM/cSH76vaExCM0ITF9cfxB25mL3KWfHQx13toY+7+hnMWcZYxByAss3jM72uSPcAuQF4SPPI+U+cAAriRp8GirjD9ozNmNQInGk0gpxHjH30U1N87f5iJNi39+Aq6z24yn2BTdg/rIO1d316so/FXuNspU4CNDi4DfHI2MRWPD8HY0m89RxWbT2HZQCFeeNT5tfxirJ1vKJcb/84QAo5AJuTK9iznOv426FSdO6g/hIqwHPWSjzgs84Xl6zzxdl5xLnPHohhUZ8XrrY+L1yd7cEAf/ieexykJC/osA3rG7R8TJbfwx7ke9aM3YHs5Hfggb+Ui+F1AeyJFZ8xz4aASVHu8tgI+T6t57Gr3xeu4+yIAa6/SOR8D/PmHvaJ/x7OMnI0n+NzHVjEGYK/3Y9JfDakMRTmO+K059Bq6zm02jpfUrLOl5Ry60lzdRFEYp7EPDHizw97MYVF7Bk+16u/Qj5yyBpig30C/MWunFvsmfYTytZ+QrkeLGJsf1lyZ5X93zvmCxZJKlYEixpQwSLBIsEiwaJ9oYJF+96mgkWCRYJFgkWCRYJFgkWCRYJFEsn+FcGiBlSwSLBIsEiwaF+oYNG+t6lgkWCRYNH/Diw6ffkc6zf7Tus3+0678E9TBIsEiwSLktwlWCRYJFgkqWQRLGpABYsEiwSLBIv2hQoW7XubChYJFgkW/e/Aovjv0X31/VbBIsEiwaIkdwkWCRYJFkkqWQSLGlDBIsEiwSLBon2hgkX73qaCRYJFgkWCRYJFgkWCRYJFgkUSyf4VwaIGVLBIsEiwSLBoX6hg0b63qWCRYJFgkWCRYJFgkWCRYJFgkUSyf0WwqAEVLBIsEiwSLNoXKli0720qWCRYJFgkWCRYJFgkWCRYJFgkkexfESxqQAWLBIsEiwSL9oUKFu17mwoWCRYJFgkWCRYJFgkWCRYJFkkk+1cEixpQwSLBIsEiwaJ9oYJF+96mgkWCRYJF/zuwqGrdH6zqyVes6slX7JY/PyhYJFgkWJTkLsEiwSLBIkkli8Oinj+vyjUfbHYgAg123xfHe4IgiVOw0DCPeut8G/XW+Q5dOGwoFPh91Fvn+6HCbwAJDnfG4DDksKTw4j6+H/zqFZ4A0iKcsSkQeAbrYH3eCESFFUUXBQEFFgksB37C9158hs+tqjJlLGzsDUtIbBRzgBSSYrPfVFmz31R5sqIBPPz6Uq45YEzXcPjQOLFmbMY6GLv7M5P8MOSQ5jMFVQqJuA87Y3982fPZib4m/E8hw6FIIdBt2bXWbdm13hBi97aLZlrbRTPrwTcOAIoginTWSKPE78ROCu/4vfVj12UNZSjwKD4ogrABzQZjEJ/EA0VS83vnu68ocrEB8cCa/Z5QoDLPOC5RfEIspcUx8wEAUgh6YRXiI/Y7yjxTeIhd47fPm3/Y4v4mH8R7k7GAGMQ6NgAwUkhhC4oN9iHx2/LBud5M0gBiRwo+GlHsx7PxKTaMGwAaE57PtTyTzxRc2JHc4cAiKjKwMWNQoHrRFvxNHKfxzHriIpZc4sVb8DPzZ8340u2XxOdhD8/OIEeYh38fcgMx5k1v+J750xzF+4dryH98pqh1QBUK/rTYJR/ExS9jewEYxiTntZ5ettbTy74e9jD7iDwKdOg8quRr9jHxWciXXUeUrOuIkjf45GDmlwK1FjfVZDkXu4bYJ1f4dWEs1J8RYurYc2pcye++f0Ix7E1RuMfXE/zt58HtC/Ma7vECP/jAARhzYz0hdzhIC/aNoQE5jj1J/uY89IaUZ4X5OzilSQqNTPOba9wuaaPkjUHwXQphiC2gVv/j5ri2nVy2tpPL1vtnVdb7Z9FYnPdhzZwdzA+701zEDbSf19yT1BO+pmTfM6aDgiiWiJ3UXviI69gb+LLvgPnWd8B8f1Z8ZvBcci0x5fVI8Du+clAW7mPfse97Dqt2G3uNE+xH00VT5nko+Oq4M6vtuDOrfUy+b1mu8bHwozeczDPEL3ZzKJwA4Bb3z81yWlib56VwrQOHMI8+g6qsz6Aq96XnkEg9zwCBflmyTr8s5fKS75/wbBpm5kv8tnhgrq/Nn0ushM9pA+9xEGKIfNVryEJX9qsDkqS5bgiotJtUtnaTIpgVxTpxhi0AEg2C/gQS+N4G1tbk7y2CAAMOHerQOm3iU7jdqjobE58ActPvdwdMdqXkvt2teVfa7pqytbsmu5azjDFSWPRT1F84JMAnjYv05Rb7qjG22RP1/ibxZ6rAoj2NkwGHDs31Yx4rIQ7SfZXGJ9fFMcM9bSeXrc2kGsEiScWKYJFgkWCRYJFgkWCRYJFgkWCRYJFgkWBRHmAIFu2RChYJFh0iWCSpQBEsEiwSLBIsEiwSLBIsEiwSLBIsEiwSLMoDDMGiPVLBIsGiQwSLJBUogkWCRYJFgkWCRYJFgkWCRYJFgkWCRYJFeYAhWLRHKlgkWHSIYJGkAkWwSLBIsEiwSLBIsEiwSLBIsEiwSLBIsCgPMASL9kgFiwSLDhEsklSgCBYJFgkWCRYJFgkWCRYJFgkWCRblYFHt13We22u/qRMsEiwSLGpobYJFjVLBIonkwBTBIsEiwSLBIsEiwSLBIsEiwSLBIsEiwaI8wBAs2iMVLBIsOkSwSFKBIlgkWCRYJFgkWCRYJFgkWCRYJFgkWCRYlAcYgkV7pIJFgkWHCBZJKlAEiwSLBIsEiwSLBIsEiwSLBIsEiwSLBIvyAEOwaI9UsEiw6BDBIkkFisOi/oecud8Twb7W/ZHAvGGhSI4KapI1hyJFY4dxZeswrpw1gvwRyHAd8xz/zjAb/86weg0p11JkUFRQzHlDH+aTJlOKpLiopNjwwzwURzRlwBqeTXHJPDk4aDa7LJ2SNTVJA8X8ABI0pkAE7me9MdjhN+YBUAQKeEFKYxLWM+ClcTbgpXE+X6BR20UzHWZ4sxBsQcMPiOCZ/M59NOcxKAEopY07jWuryH+tojH5zPXAmxjEMbYX7fg9xBJwE/sB4/gcj4l/URqWFB5iC4egFKjhd+bU67lr/Dk0O0Agb4ZCA1P7TdZQbPp88788NxzoevSlJTv60pI3WOQSfIJPsT/2poE48g+zrG//+da3/3z3tzeToRHhWTTDgClyBuOwF1o+dL03jSlYJu+wrwAsFGDkTe5nLs1vq/ZGgxzCPTSL/I4NUrhOc+yNSgTLHQ6wn8MzyAfYjb3KumgyKJ47jY6gBbktXJs2pNzbbuJOJT+xf2IoTFGeQg6HRoDHABxQBz6hUI1hv18HrAzXOOjh7ALkhbl4Ax3WF+es9A8aOyABagAzgn29SQtrd9BPY3tr1kBzZsQNZvPfz8sDR54Vzh9sFzf6+LPbeTXW7byaXIHvQB8AnoDH409baMefttDh8bHDszONRsObhzBPhzXR2prfGkEb4iIG92Esj4mwJuKVM8FBMzXGzLIdOTOrMWK/s19ohN1HYey0RvC9Eq7jmfELG840nk+uiGN/w7fbM1hUt2NnwxXiGVu5ryNNG05/8cCaidMQQ+z7FOIcNr/k16SwiPyI3/lMzcMLp7jmIoZSyOdwhvmRd4J98W1q/2a/XpgDYwAzGnt/OUQcBF+yb3ztsb+puYBAAKcwL3Icn5mX15RhTvVgEfmEMcM84pcQ7a8uO7TxPRli3uvjyM/YlRoKKOj25VxibWG/A1Y8P0WwyM+hBAbzPfPgXs+F6b6J5kkssCbqT+5xOJyACs4H6tL4HGcszz/JS4n0+4agVvxCye9JXgKl6rmIlxXEUGKzAYcO9bMqBVEA/Bw4C/bjc1Gv5X1QWEOfUxZYn1MWuP9TAMWz8eGeADTykvsg7CdqBuYP5GaeMdjhHnIJz2/Qnkne5764d+l9apX1PrXK83yr6pK1rKoWLJJUrAgWJSpYJFgkWCRYtL9VsEiwSLBIsOhggEU3r3vF7lr1lt216i276bUVgkWCRYJF5HHBIsEiwSJJExDBokQFiwSLBIsEi/a3ChYJFgkWCRYdDLDoyD/M8vj1f8ohWCRYJFgkWCRYJFgkaRIiWJSoYJFgkWCRYNH+VsEiwSLBIsEiwSLBIsEiwSLBomIVLJJIDgwRLEpUsEiwSLBIsGh/q2CRYJFgkWCRYJFgkWCRYJFgUbEKFkkkB4YIFiUqWCRYJFgkWLS/VbBIsEiwSLBIsEiwSLBIsEiwqFgFiySSA0MEixIVLBIsEiwSLNrfKlgkWCRYJFgkWCRYJFgkWCRYVKyCRRLJgSGCRYkKFgkWCRYJFu1vFSwSLBIsEiw6GGDRe1v+YV/U1dkXdXW29otawSLBIsEi8rhgkWCRYJGkCYhgUaKCRYJFgkWCRftbBYsEiwSLBIsOBli04dvtnttr63YIFgkWCRaRxwWLBIsEiyRNQA5qWFTJ2lBC2xNNDwSUppLPraeXrfX0vXtGqg5+QhFJ8iaZ8qy4IKEo7DC+bB3GZ/PoOqJkXUeUcoUBv/OZw73eGin4wwH2r/Bdh6vK1uGqbD2dLy5Z54tLPqfD52VQYG+fcdSVZTvqynK95uVfGa+bPt98UMCiOe8NtjnvDXYfPfRxV3vo46626JOOtuiTjvbAn7u53rz+RLt5/YlWve5kq153st26/gS7df0JNu/9QTbv/UF+D78z9juf/bu989m/+347908jXfE/hVLXi0rW9aL9E6ePfNzFHvm4i93+YR+7/cM+tvjTDrb40w4+/8vfHp7Tk16+0k56+UqHg8QpMPiM10bbGa+N9qJp8KtX2OBXr3CICJBinJNevjIHYgctH2ODlo/xZsdhQCjOuI6GlnFiMDpi5QgbsXKETVgz1CasGeog/tJV59mlq87zZoh78QU+mrH2dJux9nSf7xFzSjmAj4+YHw2gw64baqzFDTUZ5AqNjsPXB+Z600rR60AewBPGorHid/IlY8d+pUDmM/OgKQMKdHhyunV4crrnWXKjv8QI8Kjlg3O9kcLvfM9nb+ADkErBA77s88LVrvwGWCKWAOBAFmJr0pqf26Q1P7cz/3ipnfnHS/17ntX6ses83lg7Db7bJ7xIIE6JB+KlaJ/wXOyXxgPgnDge/sYoG/7GKF8njWoM2bG95+fQ1BKH/M5nxgbkAzTYC52WTHXg9a/M7V9urrNu59dYl5El6zKy5Gf38acvdG1oHJpIIIFDjhBj3c+tse7n1rhtsEmPZye6n4lTxvS4DPsMf/NSCB/GgIwxyXnkEOJg3OqzbNzqszxnM1+ePeT1y2zI65e5r7otu9ZjFV+RK5gfcUDtw/5O6zz2++HXlxyWsk+IM3Ia+ZJnsw72D5Ck2/k1ruyPFERQvznwDHuWPMYz2ef1QB4wOOQVh6kBCrEe7Ji+zCzyN7HC2sldzDeFRby8oC7639obwN39+YyiOrdIU8ATv7RIzwrG5CxJ86iDyhC/6d7p8exE93dDvUoMPpv9eqG/IEuBXnyPQ27Ox7Cv6WmIaUBQGhf+4oZ13lCTnXuA0hBT7FXGIucyL/YRtUW837EbYxz91BTr9OS1gkWSihXBogNUBYsEi3algkV7p4JFgkWCRYJFsQoW7XluFywSLBIsylSwSLBIsEjSFESw6ABVwSLBol2pYNHeqWCRYJFgkWBRrIJFe57bBYsEiwSLMhUsEiwSLJI0BREsOkBVsEiwaFcqWLR3KlgkWCRYJFgUq2DRrnXJr5+z5Y+ssOWPrLDHXlwjWCRYJFhE/hEsEiwSLJI0AREsOkBVsEiwaFcqWLR3KlgkWCRYJFgUq2DRnivQQbBIsEiwSLBIsEiwSNI0RLDoAFXBIsGiXalg0d6pYJFgkWCRYFGsgkV7roJFgkWCRZkKFgkWCRZJmoIIFh2gKlgkWLQrFSzaOxUsEiwSLBIsilWwaM9VsEiwSLAoU8EiwSLBIklTEMGiA1QFiwSLdqWCRXungkWCRYJFgkWxChbtuQoWCRYJFmUqWCRYJFgkaQoiWHSAqmCRYNGuVLBo71SwSLBIsEiwKFbBoj1XwSLBIsGiTAWLBIsEiyRNQRwWHTm1xtpNKlu7SVkyZ/N0f2aSdX9mUr1CkCRCEcemoViisAEecCBwKJGsWtxY48mDz2xeDiGKNwpuijoSB9fVGzNcQxJkPqyNIoIDiyKYJoMGIW7GSTasKadR8d3ywbm5YojigwLxiEdn+Tw48LmGpEdzRKEy8s0LbeSbF/qhjb353HbRTE92HPAkOGxA4seXXMfh3vfF8db3xfE+p7hgZ94k3PR75suBwpywc9zwUfwwBs8iVpi3g5VQ6PCZseMx8TeKfbmHJpdn0lTQwPAM4rTL0ik+lhdSQRn7gpUX2QUrL3K7U0xSsPoBE/lo4CtjbeArY30exDJNN/HIvfifZol5s0fbPznd/cZeZP6MQZNOzOAz1sOYk98d4sq9acOEnYjtDd9ud1i08bttbht+j33ijTQF333zrPl983x/e24JBTWHPs07cUpB0+KmGrcfxRvPIrdwuFOM0NgDBohP9njzm2uyQifkBPYPexMfkWuYJ/nA88ZtmTJfz3FhzWle9PmH+7BVHEO9f1ZlvX+W5Sr8CHhgTcQ8cYHfPScCa+6f62tKfcXv3Ov2A36EZ2ErL/puyYpC/EwB6/al2Qh2T4FFCj2a/aYq5yO3Mc8kjwd7er4P17WbWLZ2E8t2zAUlV3xDU9OqumStqkseO8QYoJFncz1+r1ckM+dwFmAv5kf8eUxT5Ia54HdirtlvF/g8fI+FWGIevq9o3oKmOZH9dOR1ZR+bJtL3SVhTx8vL1vHyrNEnxrwg51xgD0fKGgGl2IYc6L4MNsBG/rIgbkyDPU8YuMBOGLjA10azQFyyLt/PYT1Ajlhbzyhb6xmZfzuOKVvHMdlzsQnzIR6wM+uKa4W0QcL/XuskDTN7gsba90S0j7ALz/PcRf5MYg5f4W987Pvwvnm5XOB5KYzVslxjL3z6ib298XN7e+Pn9sLHn+yMj7BOj59ob3q9BuQIscKZ4bmQXBfGINa4PlauTV+EkSPYLzwb2OA5Jazr8Lkl63hF2TpeUfZ7OowrW4dxZev0y5J1+mUe3HNf2nDHcUkM4SPOodbTdip+JYbSc4jau16zHezHGgBNjAWoY37Eo0Om4I+2k8uuxB21X5rbUOKUsdM9SW5sVZ3lAAfewY+pHdMzNgUu/vvv57mPuIaGn+c7bAtQy8885p28lDnyuswGu4MunJPEXKfRJes0OvNxESxKzw5/oRm+T5/R+ZKSdb4ksxXraT09u5fn4U9/eRHsTXxwZmMbh7HROcRz2T+Myfcp8CEO0nnH/U5D9uP32PZHXld2kOd7IImDerHSQIyke5L4JRZzUOyGLGcw5u5exKdwjj0eX3Ps8Bo7dnhUf9w735r9dq5gkaRiRbBIsEiwSLBIsEiwSLBIsEiwSLAoB4tqd9R5bq+t2yFYJFgkWCRYJFgkWCRpQiJYJFgkWCRYJFgkWCRYJFgkWCRYJFgkWCRYJFgkWCRYJJG4CBYJFgkWCRYJFgkWCRYJFgkWCRYJFgkWCRYJFgkWCRZJJC6CRYJFgkWCRYJFgkWCRYJFgkWCRYJFgkWCRYJFgkWCRRKJi2CRYJFgkWCRYJFgkWCRYJFgkWCR/sC1YJFgkWCRYJFgkUTiIlgkWCRYJFgkWCRYJFgkWCRYJFiUg0UtyzU+P48PwSLBIsEiwSLBIsEiSZMQwSLBIsEiwSLBIsEiwSLBIsEiwSLBIsEiwSLBIsEiwSKJxEWwSLBIsEiwSLBIsEiwSLBIsEiwSLBIsEiwSLBIsEiwSCJxcVjU/5Azd5tEY+VQ/in37E7ZxBxoNKY0D2x2mnAaGJp1rjv8kdleiNJY0QjPWHu6zVh7ujfljEWjRULz4i4qANPikGs8KfM5FMk02tzX7fwa63Z+Vng1vzeDLQ5skgaEoo7f+ZzajoOl9YzskMBHFCYUhKgn91AIUDhiQw6jZr+b7/YBWvCZgzVXYIUxOOQd4kUFAYc3iZ/n4xsKZnzizTpFVLBFvcIyACgKafzuRVB4NuugkaaQxR9xg8+8KJRZM/HIWNidtQNvHHLGzRsxQCEYilt8kRZDACGPNYDFw7NdvWEP9sEXHKQUxWlBCwy+/O3hdvnbw+sBCW/sgy8Yg/kxn9qvsz+CuunzzbuMz64XlazrRVkh5XFLgxnGJGawP3uCApw5xUAZH3Et3/PMtPFLm4wYODuEDnnGm60ULNHQhTyBjbqdV2Pdzquxo8aWXckdFP7sAQosIEYKyLA3TfIJA7NCjoa074D51ndABmG8CQsNFT6NAWP7AGLQFBo5RAfGhTEplnqcHfSsautxVrWd3HmGndx5hhejh1WVfO189kYj+CItzth3DlJCXMSQnWvSptIbHvI38CiMgW94ZgyLmA/XpiASiEBj58+ksWdPR/scyJIDScCi5AUDz3QwEBpDmqeOV2RzZ77kT19rmC+5zH2YNBdFYNTBQ7CfN54JlPN8BLzjBU4EDbCPN6QBBnFt54tL1vniUpZjOG+AHTRi0Z70F0phH7FPvNAPtUMKMxmT/cX+bzMlyxHd/7PGuv9njR19WcmOviwDAcyf+XCeu08Bk4DVB+bmmu4U9KVg1P0Qfud8jWuaFCzR8HMeOeAJ+wY4SL7Et3G8ETvYIoWanqPJ98wvnEupDY+YU/LmLJeb2S/4Oewz4hg705zHgNThVFiT54oQ83zvMRbs6TknUocrwMAwL9bo52b43mEyUD3EXFwjeI0Y9tbN60+0m9efmL0MCjHiezM8C2jAnGJo4HVD+tIh+JG48LhjXsQWEDMG9wDvkAeZl79oCLnZ58t+TnJcDKCwI7GeAhxymDf+4QxxMFHwgiEFZu7v8Az2oPcO4Zlev4f76r28Ze28fAhr4kUN9qTO9Po9rI86iVpxwEvjvN4kH3otFuzE/sFnjE1c4KP4DPNckOwT9jf7mT3qNXfSl8T1F3nPIVbIo+y5FIjmAFB4VgzZPd+E33oOrbaeQ6vd38QSPktBbwqyimARMd1zWLX1HFadm4/XasG3/n0BLPLcHOKNupPrsKsDqJAvfE4RZE/ryea3VVuzW6oEiyQVK4JFgkWCRYJFgkWCRYJFgkWCRYJFgkWCRYJFgkWCRYJFEomLYJFgkWCRYJFgkWCRYJFgkWCRYFEOFj2wdo0te+8jW/beR3b/h+8IFgkWCRYJFgkWCRZJmpAIFgkWCRYJFgkWCRYJFgkWCRYJFuVgUe2OLLfXfl0nWCRYJFgkWCRYJFgkaUIiWCRYJFgkWCRYJFgkWCRYJFgkWCRYJFgkWCRYJFgkWCSRuAgWCRYJFgkWCRYJFgkWCRYJFgkWCRYJFgkWCRYJFgkWSSQugkWCRYJFgkWCRYJFgkWCRYJFgkWCRYJFgkWCRYJFgkUSiYtgkWCRYJFgkWCRYJFgkWCRYJFgUQ4Wvbuh1mq31Vnttjp7d9MXgkWCRYJFgkWCRYJFkiYkgkWCRYJFgkWCRYJFgkWCRYJFgkU5WNTipuw88vkJFgkWCRYJFgkWCRZJmoTsNSySHlhKU9Lx8qyo5YAgeVPYedMdipI0iXuhHSmHMAfa7uZDIQEs4nua5PZXR0VZdame8j1NcDr2noDKhhL+7pQDhMaw45hsnjRr/jn8TjOcjpWuM25Qcs8NB1X6PYARW7D2tFiKn4c/0+KXJhf17xP/EzftJubn4/AqPKvDVTt10+ebs3+qsKPOD22K0rgQBDBQAHjzBRxICkSKihNPnGcnnjjPbQDo67h4mjd43EPMAzF8rNBM8DmFdvFavUCmyQp7gZhmn6VNI7GX2qzN1MwO2McbIwBvgCE+VthHjEVB1nNodW6evqbwDAcr2B4IE4rnHPS6ucb3t8Pd8D1rx66s3Quo0ND0GVRlfQZFAP3XC63LL0rW5Rel+s3VbdX1Cq3mt1Vb71OrrPepVZkNAD80TdE8uYcCkKLdmyJAYvC3zzs0KvijKGdR3FLop7FE85CCfZ4V501ihbV4gxcaT+KPZsMbeyBDGJOmsvMlmW/IJRT6bnPsRuOcrMcL7OhlAH6n2fHfGDN89uYn+Jt1OMCNYBH7mrzpsCDENv72lywBDDjgCdfF0JK19Bqy0HoNWehNl+eu0IwxP28UeYET8ikgt9t5NX7usK+4hrXnAHNoLtzPgL4IFgEvvLkNdvUXHsmLJnIyz/D7IujqTXXYtzT4/pKA38OeJDfimzhfop4LovzcZS/RzQAAIABJREFU/JbqLKaD3bwJT158kLNjmMnew2fEDOvARozB/jruzGo77swMvMTx6aAm3Ou5DkjJCyRiHR+Rm+/JQJ3HWfjNz510/4Tr/Fkh93h+iuaHHfF7h/Fl6zA+A1808ii1msPZ5AVJixszwOk5JHlBhN/9ZQb7PeQUnsFe6TVkofuPNTl4TmowQC4x7vkUmBgD7uTFBi++OCOIS8ZmzwJpPHdHLxK9LgrXskYHoKG2IVbS2gx7skdiENbz2YnWM7yI7vHsRAc/fHZ7ApdCjUOcxC9XUljkUD3Z9/zuscYLCOIgBnpJ3vH9Hb5nrPTFjucOaoxyTU69Ngx1bhrbqf3IEw5D43zEPknqD6A7v6c1pOcpgG70wjN9UZDGq5+PAFT2ACAoxGcMi/A7L8vSPJqCMt+D2Dec97vqGwSLJJUugkUVooJFyfMFiwSLBIsEiwSLBIsEiwSLBIsEiwSLBIsEiySSvRLBogpRwaLk+YJFgkWCRYJFgkWCRYJFgkWCRYJFgkWCRYJFEsleiWBRhahgUfJ8wSLBIsEiwSLBIsEiwSLBIsEiwSLBIsEiwSKJZK9EsKhCVLAoeb5gkWCRYJFgkWCRYJFgUaNgUfmt1+3el1fZvS+vsvJbrwsWCRYJFgkWCRZFKlgkqXQRLKoQFSxKni9YJFgkWCRYJFgkWCRY1ChYFP+fLmu/rhMsEiwSLBIsEiyKVLBIUukiWFQhKliUPF+wSLBIsEiwSLBIsEiwSLBIsEiwSLBIsEiwSCLZKxEsqhAVLEqeL1gkWCRYJFgkWCRYJFgkWCRYJFgkWCRYJFgkkeyVCBZViAoWJc8XLBIsEiwSLBIsEiwSLBIsEiwSLBIsEiwSLJJI9koEiypEBYuS5wsWCRYJFgkWCRYJFgkWCRYJFgkWCRYJFgkWSSR7JYJFUqm00RrDok2fb/6Xz+d/Q2neKUYoxABk3gxHjcrAV8bawFfGWt8Xx1vfF8f7vUc/NcWOfmqKF6EUSd4oh2IqbnKZB80LDQHNQkONP7/TXMTNuDfXNB40j0nx5gVoaOwpsE7uPMNO7jzDi/oj/zArGzMUct4chGIxLcq9WE8aFIq6w+dmNmc+PIu1AnIBFDSkOYhwdwZVaBZoJro+Pdm6Pj3ZC/yuI0rWdUTJbcU6KEK9YQxN05HXZQ2eA5Sk0eN39wlNIw12uJ6ms9PoDKqmwC61sxfh+DcU+Q6iombXG2CaweBfb9yDnVkHDRhrBwzFQM9B16iSdR5VykGgrheVrOtF2ff4ikYmhcfNfjffY6X/cXOs/3Fz/PnsBYdVwY7Mi/kff9pOHdh+iitxxjyJQ98vYQ/Q6HszF/yPLZhvDB7wc58XrrY+L1ztMeUNbNpshvWxB+Ix8S/35CAHsZwADG/8owbfYwV/BnhKg0ocsPbeP6uy3j+LIDANF7BzQgYJiCWeQfzxwon58T2fyae+jgg8psAYf3vjTLMIqCL3AYZiuMG1yW+sNb0X8OPwLQCMWIGArP2YC0p2zAVZvmlo3/d76Srr99JVDk5iuOH+DbbGFswXCO/5kt/DfTTWDkjPr/FzBn/zYoM95/AynGXpywDWx7z7vXSVn1lDXr/Mhrx+mc8DME7sY7/U/n7mRS8YyA2+f4EI5Hlga4gVYJG/fAnfxwDMz5EwL7dzsKfvwRBDrJVY67RkqnVaMrVeDUD+cYiOvXgJFfzt8ZfAomMuLNkxF2Ygo+2imZl9EqjhYDGsw3MeOZsXdAX2JJ871Cefh9+5p6G1cib6uqIXHJwnXAss8jMwiSk/wwtePBNT+Ah/41f2GZCNfZX62P1w37wMMKVADBuEWPFcAqzlZQUvh6JawWs79ubdC+z//maeYJGkYkWwSCqVNloFiwSLBIsEiwSLBIsEiwSLBIsEiwSLJJLKEcEiqVTaaBUsEiwSLBIsEiwSLBIsEiwSLBIsEiySSCpHBIukUmmjVbBIsEiwSLBIsEiwSLBIsEiwSLBIsEgiqRwRLJJKpY1WwSLBIsEiwSLBIsEiwSLBIsEiwSLBIomkckSwSCqVNloFiwSLBIsEiwSLKg8WXfvSs/arO1+0X935ok1a/oxgkWCRYFFQwSLBIsEiSVMQwSKpVNpoFSwSLBIsEiwSLKo8WFS7o85ze+3XdYJFgkWCRUEFiwSLBIskTUEEi6RSaaNVsEiwSLBIsEiwSLBIsEiwSLBIsEiwSCKpHBEskkqljVbBIsEiwSLBIsEiwSLBIsEiwSLBIsEiiaRy5ICGRSQwErEXTTUla1lTsvZXl6391eXsIJlVdmUMmgSSnydSCoWQYClcuK/dpLK1m1TOksFdVZ7cjphdtiNmlz0Bcw9JxhupoBx4fqhHYzIPkl6bKWVrM6XsBwSJigIx1ywVFFY8j+KWJgH7key9eKcBDL97wRgdNl7ohWTMQdCQ75gfvmKd2KjFjTXW4oadylo5nPE3BwWfKWxI+vg6bqQo3igeWIs/I/iOYom4oFBkvdju8Hkl6/TLnUpMpIUVxS6HEs9k3hTr+LbNlLLbx59LoZf4hGcefWnJjr60ZM1vq7bmt1X72onJVgtLXoBwoHIvccd6+D6NT5okDv/mv6rOFSr+ORSPFDZxQ7Hp+61ZfNO4RM0NhetRY8t21NhyrnCmqDz2nBo79pyswD3xxHl24onz3K4U2F2WTvF4xFf4Bnv74R72C8/GBjTe2L9lqcbX5kUaMRyen2smQ4GDPXkmzzpqbLZ/UMDS7nIhYx59WaY0u+QE9x8FHVAg2sfNfr3Qi2H2IXviiNnlHGTxZoccFtZOrJOf+J5CMc5x6bUOOdjHwXcUk+zhNObi3OFjJPvWwRzQJVzPOXDEnJ3abmLZ2k0sW59BVa5tJ5et7eSy38PaHXyFPUfuYD+5jUKeZb2tp5W9GfBmN+xf9qT7KMQlz0h912VkyRU70pB6kx2fK3dVeT7Ft8yz9fSytZ5erpeP8IVDhGBHPuMTh4jBJ36eUqRHzQT7hWd4Ix/slIMY4azw8yesg+9b1mR5/ISBC+yEgQv8DPF9QqMf7iV3MCdgUc9h1a7ELn/EmbH87AprYx1cT0z5GVxge/cjUBCwByDjfAq+cagZ4iQGzT4+tiaWkrqD+dH8cF6leazZbxd4LLMHPS+SA2+qKYRFfj6EOXA2t70287NDtZBL3I9hnqzHz8kQx3yOwQl7kByLj3i+N+Vh3mmOiesxvqPmc1uTl5l/sBF5CZ92W3atdVt2bba/Hp3lzwU4k5PTvcd17EHW5VA2quOo+YhxzlL8yu9eCxIn4X6eHZ8j/Oafgw8cVIS8xBmNLbxmYE9E5wm1FjFBTLmPyAkhVzsM4QzcBSyiliH/YFc/I4Ld8Cl1qtfaMTAJ9cfgV6+wwa9e4RCLGgJ7YqPez0+w3s9P8D2J35lvhwhSpuAkBfbEMbUNz+R8iF+EAGawfa/nrrFez13j+9ehRlgj+5/8xPWx3/EB518aB/g1hUPEs5+FUY/l8Rbm2eeUBdbnlKy28vM72KT7uTXW/dyaXM/lLzUenp31IOSMcDY4vORsSc75FKTHY7J/PO7CPQ32Luw7zugQW7GPivqdllXVgkWSihXBIsEiwSLBIsEiwSLBIsEiwSLBIsEiwSLBIsEiwSLBIonERbBIsEiwSLBIsEiwSLBIsEiwSLAoB4u633W7nVB1p51Qdacd8/tbBYsEiwSLBIsEiwSLJE1IBIsEiwSLBIsEiwSLBIsEiwSLBItysKjFTTV+nec8wSLBIsEiwSLBIsEiSZMQwSLBIsEiwSLBIsEiwSLBIsEiwSLBIsEiwSLBIsEiwSKJxEWwSLBIsEiwSLBIsEiwSLBIsEiwSLBIsEiwSLBIsEiwSCJxESwSLBIsEiwSLBIsEiwSLBIsEiwSLBIsEiwSLBIsEiySSFwEiwSLBIsEiwSLBIsEiwSLBIsEi3Kw6BeLH7crH1xiVz64xC5a9phgkWCRYJFgkWCRYJGkCYlgkWCRYJFgkWCRYJFgkWCRYJFgUQ4Wxbm99us6wSLBIsEiwSLBIsEiSROSAxoWHWhKI0Xxlf5edDjHmibkAYcOteNPX2jHn55PXDRdDY1FsUEC7nh52XVP19N5VMk6j8onvn2hFDAc3jTx+/IZPYdWW8+h1ftl/scOr3GlKQRe/NSxaOJ3dU37CWVrPyFrVLFbY9ZAPKZN0O4UXxX5Ky0E+Vxbt8Mbig3fbveinoPXC4f75nkh6mOEIgcgQWPN7zTHqa2w0VFXln2/sGaaMObnsC0UrBS//J4WG60iqEphBQBgH1OMUGhTxLEO8oU3H3cs9OaCzxQfDu5CI00RTxPH5xhiAouYL813CsxTpfAq+o3CmAaAHIF6owdsT+ACDbgXgv81x23uzQJFWPg8aPkYG7R8jBdzbmca6lA4AnPaTs4aN4e9IbZovhyg0ljTTIb5U1DHzTj31mvQ71ngxS7+9OYyxAWxDpiI1aFqaIDZ38S0A4BQwLL2dA5xrPtaQ0Ps9qRxDvNlDjQ9NCj4JYatFMTYKwdE2QuhYWUM4tgBefBhiwfmuo8cqjFGAkodTATbAF9oHOKGD7+m8NXjNynmAWrEJd+zdwa2n+JxSGx5HkpeBnCdN5UA/dDQ1osZ4AD7I+wXYoXr+OwgJzxz2IpLbNiKSzJQ+YdZGbALNm9of/c4u8Z6nJ0/p3xPxOCY+YbYwa9xTtvw7fZ6ub3N4zM9xtIm/vC5Jev+zCTr/swktxuxlMKCFOxxP/sqjk/PJcFOrCnNP8wLEND3xfHW98Xxvt97PXeNjXzzQhv55oW+RnIDdh74ylgb+MpY3zfM33P37+bn1GM1xKOfoeElFmOd9PKVdtLLV2ZxACQmb0XnD2Mzb2zgn7FfArcAEtiVfN/umnK2NwM0cEjJHg224CzBJ8yPFzqxb/A3eZyYADgMf2OUDX9jlN8LaGFMfBW/UKLBx39dn55sXZ+e7GvF7+QU1kVc8EKFM7n9k9N9f+8OFjR0flL3x/N0sB3iz/N+iMMU3KbAnBfe1POtp5fdz/68sNZ0L5AjsDd+wM4XrLzIFVhFnscHgLMUMI1663wb9db5duYfL7Uz/3ipr6tHBJBYM/OiHscmC9YNtAXrBnqME0v4kjmwN3o/P8HXMG71WTZu9Vl+Dfem573vySSfsq7Br17hMe4xRO4LecZfWofrPE+G/J6+ZGt2x0KPL9ba/ZlJ1m3pNYJFkooVwaKfoIJFe66CRZkKFgkWCRYJFgkWCRYJFgkWCRYJFgkWCRZJJAeTCBb9BBUs2nMVLMpUsEiwSLBIsEiwSLBIsEiwSLBIsEiwSLBIIjmYRLDoJ6hg0Z6rYFGmgkWCRYJFgkWCRYJFgkWCRYJFgkWCRYJFEsnBJIJFP0EFi/ZcBYsyFSwSLBIsEiwSLBIsOhhh0bBXbrOhv3/Qhv7+Qfv5S3cIFgkWCRYJFgkWCRZJmpAIFv0EFSzacxUsylSwSLBIsEiwSLBIsOhghEXtn5zuecmbTsEiwSLBIsEiwSLBIkmTEMGin6CCRXuugkWZChYJFgkWCRYJFgkWCRYJFgkWCRYJFgkWSSQHkwgW/QQVLNpzFSzKVLBIsEiwSLBIsEiwSLBIsEiwSLBIsEiwSCI5mESw6CeoYNGeq2BRpoJFgkWCRYJFgkWCRYJFgkWCRYJFgkWCRRLJwSSCRVKptNG66fPNDos2fb4597sfvLcv9EK0z6Aq6zOoyg9nml8KE+6l8Eo/x0AifR5QoPMlJet8SdY8UmB3HVGyriNKXpSgNN4t7p/rRexpr15up716eQZIAiyatObnNmnNz23I65fZkNcv8+Ke4tifGQrDw6pKGWiguQkNFM9i7RT6FLgUp3vjGxrrIlg94NAMxh02v+RFIoXo2SsutrNXXOyfmSdNzxmvjbYzXhvtDRZj0oi1XTTT7QOIonClWaDJ4F4+0/Rg/7hBQYkd7NNuYtnaTcwKfQptPlP8UrwTg30GVflaKFi7LbvWui271uMNWJP6ikYLaECB2+HJ6Xb3R8fZ3R8d53GHnfjMM9HSBwOs9MEAu/zt4Xb528P9+v695rhSrANCWBtjeBMbilzmRUNAgcs6+rxwtRfOfCYuaXppXBzkBLuy/yjS8dVpr16e28fHXFiyYy7MICsNLA0hNqMhmPf+IJv3/iAbvepcV5pDxmTf8hnfYbdLV51nl646z8fmuv7HzXH1Zrb39dav9/W5GOYZNDQjVo6wEStHeDzzPXE+5PXL7Nw/jbRz/zTS9xy299zw0jgb8NI431fj3xlm498Z5j5kDwDSWpZqPA49HwWfMSbzuvGD/nbjB/1t8rtDbPK7Q9x37Bn27kkvX5lrslGazJFvXmiz3p9hF85/0C6c/6Cd/rvfW6uqko1ZfU49BS53vCIDEqzR92qAIA6LQuwAb3jZhT2Ji74vjvdrUM9dYQxyCrFD7mBvxgCX5xPr5ASaSZpMfMKzeMEwYc1Qm7BmaL3143d8kO7NFJCwv9PGH78PWj7GY97BbDh/2D/4lWdiK2zAs3k50+38Gr8XaEDsMB/u6TVkofUakr3MwEaAiDi/Yy/mSW5lDxKHxC22uv3DPnb7h33svj8fa/f9+VjPfaUPBnhev3X9CXbr+hM8prEJuQG7sRfIfdPWnmHT1p5RD4x6/RBySHq+z3lvsM15b7Cf1fgf4Md5EEMYcsOdHx5vd354vNcE3MsaZ713qs1671R/JjagTokhDJCNGCbmASN+1ob9hb1ZM7mHz9PWnuH+A4QTI9jmtx/1sN9+1MNtRIwTLzyL7yesGeprrV53slWvO9n6nLLA+pyywOsNYBF248U2dmZM4mPyu0N8D7IGckHqO2IO32Er9gJzql53stda5FZyHzmDz/5iJABTf6GUnKPtnphhvU+tst6nVrmf57w32Gat+ZlgkaRiRbBIKpU2WgWLBIsEiwSLBIsqDxZt+WGL5/bauh2CRYJFgkWCRYJFgkWSJiQOizZ8ttE2fb7Z9d7rHi5sPD5665N61236fLMt+fVzhdeuWPxW7toVi98qvHbJr5/LXfvRW58UXnvvdQ/nri1qUAccOtTKl9xReO3Z/3Zx7tppp80vvHZ014m5a0d3nVh47bTT5ueuPfvfLi68tnzJHQ023qnKH/LHgeyPFBal/qj9us5qv66zi55+LAeLetx6h9XW7bAN23fql99tty+/2+7+SGFR7Y66nfrNdtfUHxRh6/5aa19u2ZHN45vt9uAnqwph0fvbVlntN3WuG7/bZn/cuK4QFj2w5l3b9uNXtu3Hr+yr77faV99vtXc3fVEIi256fYXV1u3Yqcz967pCWDT73UX25Xfb3V4btu2wDdt22LGLbszBoj3dH0eNLdtZC+/3OaT7I4VFV68ZY5t/2JLTOz75fSEs+ur7rbYJDePesv7lQli09ota2/Dt9nq69IvXC2HRK7Xr7ctvt7t9v/xuuy3fsL4QFj3w8dtW+01mL/ZHESx6+G9L/NkbN9W5FsGiue895j7bsHWHbdi6wzZ+t82GvDorB4t++cb9ubV9/T8b7Ym/XpSDRac/d6fVfpOtDV30t2k5WDR8xTTbtHG768bvttnG77bZ3HueK4RFHsPE0Lfb7Zb1LxXCovXb/2Ybv9vm1278bps9+fmKQlj00oef+nU848XPPyqERcu+eM33MTGx7i+1hbDot395xjZ+v81txn1FsOjaFU9b7Td1PubWH3Yq+SqGRTPe+7X/ztjsjxQWTVk72zZtrNupYewN32630W88kINF41aPsy0/bPH9hD9u+/j+QlgUX8Neuvcvywph0cd1f623n2p31NkD764phEXPf/ax1X5d52Nu+WGLvbPlnUJY9F9vvZv5I4z9Ud1nhbDo3useti1hvC0/bLH/9//9vwZh0UOf3Wlbf9hsX27d4Vr7TZ11f/ymHCwatfzhevmV3D3r/Rk5WPSLP91gG7/f5spcbvrohhws6vnEDbnY+fLb7TZrzROFsCjO7xu/22Zffb/VHv7bkkJY9LdvsvOc3PLGV88VwqI3N7/r8/xyyw77cssOP89TWPTaxhds6w+b3Qabf9hin+z4ayEsuum95Tuv8723854iWFSz/pHcvvtyc50NGnN7DhaNXPy4xw77hP2RwqJr1swNcbnNNkV7dfQbD+RgUd9nFu7cayHOOCdv+fODhbDom//50r75ny9tx4+bXG98fUUhLPrr15/a1h82W92Pm6zux022+Yct9tyG5YWwaP32NzObfV3n9VURLFr2xWu2/cevbPuPX/m+/ts3nxTCosc/f8L9jN2+/nFjISx6pbbavv5xo49NzI18c1IOFk1Y/Vv/feN32+zLb0Mch/0Rw6LLVy10++KL7T9+Zb//7+tzsKjqgxF+vrC2L7/bbrPfXVQIizZ9vtm2/bhTvb4K+SqFRX//5mP3BefoI6+/WwiLXn37E/tyc53bYtP3W23FpvcLYdGLG162zT9scVtwnhfBogf/utRthV/qftxUCItu/fP9Obtt+n6rnf3H6TlYNHH1PfXORq4f+vLtOVj0m4/H2pbvvhQsklSsOCz65z//abE8Wl5S2Fxu/PtXlsryR1YUXrtuxUe5a9et+Kjw2uWPrMhdu/HvXxVe+2h5Se5aMyu89vbxvyu89px/vyR37exhNYXXjuk5JXftmJ5TCq+dPSz/twLO+fdLCq+9ffzvCudcJPJHJvLHTjmQ/JHCoob8cdmzT+Rg0XG3/brwWvyRwqIiSf1BEbZhS13u2qf/tq4QFv3313l/vL/tvwth0dIP89d+8fX2Qlh095urCudcBItq1i0tvLbnEzflYNGe7o+jxpbt3PJDhdfOHlaTg0XXrBlbeO3v/vuRQlhUJL/9eEUhLKrdnvfHqxtXF8KiNZs/y1377pbPCmHR0s8+yF278e9fFcKixf94vnDORbDohvVPFV575muzc7Bo3Jv/VXjt4s8uzsGioS/cXXzt32fnYNG5K6YXXlt+4OVCWFQkv/v4j4Ww6MvvtuaufXnDmkJY9M7f/pG7dvWmvxfCotc3vp27dsPmukJY9MhnrxTOuQgWzX7zhcJryVcxLLr+/XsKrx3Tc0oOFs14b17hteNWPpyDRVetvqrw2nv+8mghLCqSR//2ciEs2vT9lty1Sz/6sBAWvb3h89y1H+/4uBAWLXs/n682fr+1EBY1dH6Y5WHR43+/r/C6Ho/fnINFl7/+h8Jr566bnYNFl735q8Jrb/v4lhws6vXkjYXXVr//dCEsKpLF/3i+EBZt/SF/nq/ZuqIQFn24/dPctZznKSx6e8ufctd+9f2WQlh094dvFM65CBbd+ucnCq8dPPaOHCwa/fTiwmvH9JySg0WT311QeO24lQ/nYFG/Z6sLr73r08cKYVHhtW+tKoRFW37YnLt2xVerCmHRZ9+sz127bsVHhbCoKF9t/eGrQli0rPaZwjkXwaI/fnlL4bWj3rw2B4umrPl94bXsjxgWjVtdLrz2ob9W5WDRwg9GFl5b/f7SQlhUJOSrFBZtK9gfz67+qBAWrf1z/vxYt+2/C2HRn756K3ftxr9/VQiLFv39xeL1FcCiuz99tPDa4Stm5GDRtDXFuW348jtzsOieT662f/7zn4JFkooVwSLBCfkjiPyRiWDRThEsykSwKBPBop0iWJSJYFEmgkU7RbAoE8GiTASLdopgkURycIj+GVqk+mdP8of8oX+Gpn+Gpn+Gpn+Gpn+Gpn+Gpn+Gpn+Gpn+Gpn+Gpn+Gpn+GJmnqoj9wLZVKG60pLEp/1x+41h+41h+41h+41h+4Pvj+wPVNH91g19yx2K65Y7GN+sMi/YFr/YFr/YFr/YFr/YFr/YFrSRMSwSKpVNpoFSwSLBIsEiwSLKo8WDTyzQs9ZxM7gkWCRYJFgkWCRYJFkqYhgkVSqbTRKlgkWCRYJFgkWCRYJFgkWCRYJFgkWCSRVI4IFkml0kbr7mDRgaJdflGyLr8oWd8B863vgPneTFAQUMwf+YdZXpzzG0UZSgNA4UJRQlNEoU3xdNTYsrW/eqcynxY31ViLm2ocdgDUKMQpTmi4KJaa3zvfev3HQuv1Hwu9wKKRT6+l4OI6xm5+3zxrft88b7C7PzMpg1g8J0AD7sEW2I2GhbEofvnc/L55Xsg7fAnFGECMZ1CYUsjS1FFExyAP37AmfEIzQyHIevAVvgF24KPD55Z8XviiVXXJWlWXHAqwdgAANuJZ3M/nGIjhx9QH3tQG2OKxR5NDExTB1hRKYSePg9AwMTZzcUAWGpY4lomZNN5oariHWCLW0hiKx6Q5Z56tH7vOWj92nTcJPAufch/rwBYxFM41D8HmfKahAsr6GCG2gMfdzqtxTe3TZmrZ2kwt+1gpJMZ3xCm26hk1elzDZ2zA/LFNumaeydhxE0ljRKzQrKV5ibFZF2tP81aHJ6d7o8TeJJZ4hu+XoHzPMxz8RY0Ue7DZHQut2R1Z88X8WU8a81xHPMS5mPmyJvztDV3IJawxzmlpXOIv4pE1EOP4AmWe+ASbxdCasckJR8wp2RFzSr5mnoWNgEysg/tjuAH8AZDwXN+D4Tp8xDP4nes7XFV29bMh7A+gB3YCTGBvwARj4lvs3uu5azzWebHA/mbt+JBzEnABqMKuMRwkdtKzi2vJ38zH7RmejU9jgEtjj11SOIMNABWAZnyKLYAgC9YNdHsxT/YkPmM95C9ijJcIPJMYO/yR2f5cj+2Q94HF5FzgRwplAW7xnmQNze6ssmZ3VmW5LewbriMeWQ/xkYL8Tkum+pr4nM6Pvbr00/a29NP2fpYxVprrOi2Z6rUA+cjPQ3JJWAf2I2cAsJrfWm3Nb632vdD6set8PumZ0eLGGmtxY42fk62nla31tLLHCc8mvuNa4YjZZTtidtla3FBjLW6o2Qmon5gsWCSpWBEskkqljVbBIsEiwSLBIsEiwSLBIsEiwSLBIsEiiaRyRLAmVdjbAAAgAElEQVRIKpU2WgWLBIsEiwSLBIsqDxb1WHSj9XziJuv5xE123OKyYJFgkWCRYJFgkWCRpAmJYJFUKm20ChYJFgkWCRYJFlUeLKr9ps5ze+232wWLBIsEiwSLBIsEiyRNSASLpFJpo1WwSLBIsEiwSLBIsEiwSLBIsEiwSLBIIqkcESySSqWNVsEiwSLBIsEiwSLBIsEiwSLBIsEiwSKJpHJEsEgqlTZaBYsEiwSLBIsEiwSLBIsEiwSLBIsEiySSyhHBIqlU2mgVLBIsEiwSLBIsEiwSLBIsEiwSLBIskkgqRwSLpFJpo1WwSLBIsEiwSLCo8mDRlDeX2vWrn7PrVz9nU99aIlgkWCRYJFgkWCRYJGlCIlgklUobrfVg0fdbvZCZ895gm/Pe4HpFG0WRN4uhQaGIpMA6cmbZjpxZ9uIOMEHxFI/JgU7RTTFJQd1mSnmnAhFCA+jwICgF7mmvXu7zoLjxpjVpvtLGMAUacdNCwUzRSHFD0cn3aNpgY4uTXr7SbU8h3bJUYy1LNW7f3fms86iSdR5VqvcdNmcsnoUtKCJZDz6jeaQAY76xsiaKYIpv7EbhnwILfo+bRwo8/HvMBSU75oKSdRm5U7tetFN7nF1jPc6uyRqmcTvV4wMY85sq91tahNME4XeaHGIP+2MTbNT7+Qm+5nGrz7Jxq8/KQRdii+/5zDrTJrT5vfNzDQbzwxfEL2OmPqIQj0EEY7IW1ogN8D9FPQ0V88VX8ZgOIIJdiWWahI5jytZxTNn3Cb/jW8aMGykHHcGP7D3ilzHIKb7faawDACSXtJ5RzhqV0EATG+QGB59hr6aAzBuaAOma/W6+7wNvTAIUplnzmAvzbD29bK2nlx1M4mts0XHxNN8XDk/DvQBRcli7SWVrN6nsDRa5j+uxWazY1Zv1ME+aN+znTWZ4JtAQu7aqLvlYzBv7MD/2PetgrYDmNF5aP3adzzOFRTRrzO+w+SU7bH7J1zpsxSU2bMUl9eyI39JmNW2k8Te+cl+GZ5IjW5Zqcn5nLTyTfcx+whacKd7YBns3vyUDncyX/cRnxmL+7G/yJfPteEXZ1aFUgARcm47h0CrszTReYt+QM9gX5Enyju/RMF98w/rSM7jlQ9e7jVOgzLx5NjmOWGo7uWxtJ5c9LmP4RszyfHx12IKSHbagZG2vLVvba8t25KydyguRTqN3KnOLz8tWVSVrVZWdoZ4rQkxjC2LKX0wQW2FuzKXFjTXuI/ITNQPnEmtNITexlJ7VvZ+fkJ1zwX74woFU8LPvK/JVuI84j1+EsN+JM3Iy+cbPrmATAAvXp7Cp05KpdlhVyQ6rKuViJPWdxwrnOPko7OF6aw95kDj1l3thzfjIX6KFcwDbFOUj6gvGaPP4TGv96HTBIknFimCRVCpttAoWCRYJFgkWCRYJFgkWCRYJFgkWCRZJJJUjgkVSqbTRKlgkWCRYJFgkWCRYJFgkWCRYJFgkWCSRVI4IFkml0karYJFgkWCRYJFgkWCRYJFgkWCRYJFgkURSOSJYJJVKG62CRYJFgkWCRYJFgkWCRYJFgkWCRYJFEknliGCRVCpttAoWCRYJFgkWCRZVHiyq3VHnuX3Dt9sFiwSLBIuCChYJFgkWSZqCCBZJpdJGq2CRYJFgkWCRYJFgkWCRYJFgkWCRYJFEUjkiWCSVShutgkWCRYJFgkWCRYJFgkWCRYJFgkWCRRJJ5YhgkVQqbbQKFgkWCRYJFgkWCRYJFgkWCRYJFgkWSSSVI4JFUqm00VoPFn2++Sfde8LABXbCwKxQOWps2Y4aW7ZjLizZMReWvAA8+tKSHX1pyQssipH2T0734oHPNCxpsePAJxSIXhSFgiIGEhQPFAsU1t6AJpCB7yk+vIC5KyvSaHopmPieeTGGF0kUkxTLAZQ1u32hDWw/xQa2n2Ita0rWsqZkzW+useY3Z8Vmu4llazcxK34pYCnAKbTiJsAb4jAWz2I+2IACn/tYM+sA/PR76SpfE00iNqAx4TM+An5QrI1ZfY6NWX1OPejGvag3Cwm443uKYwcAoSEjDg5bkDXozJcCFnCSAhUaQaARwG/Smp+7UuCPWDnCRqwcYaNXnWujV51rM9aebjPWnu7XAXiYJ7YCyvDMrk9P9rG454KVF9kFKy/KQSDmhx+YH59jKMkaBi0fY4OWj7Hx7wyz8e8M8/mizIt4ZE7Mk7lcsPIiH4PPNI/YhD3Ks1k7Y9H0xGNyrzfsIYbJHcQS9zI/oAFxTTPfslzjjRxjYTe+dxAa1pw2Z1wf+4g9xpqJHWIqbbSJS+ZP7Mf5iOYVoHvEnJIdMadknS/ZqdgAWESMA+VYR9zwMU9iJ7X5oOVjbNP3Wz2313673Q5/ZLbnJRor5nLEnKzRi/dr92cmeWylADLNAzR5+PqM10b7d9jPz49kLNZFHojhJYrNHYyFhg/gkzbd5AU+M058/qDAdfI6wDPNHTwTu7OuGIxypnEv+xY73vhBf7vxg/4+JmOxp2mKHY48MNftyL2XrjrPLl11Xg4wk89T2OXnZgQ30rzJPeleJK8TW97MB1vFsQ70I4+TdxgD/2KbNOelcdH3xfH1zqR+L13l9kohdQrGW08rW+tpZb8vhlqs0ffDr6qt+a+qHVpgkxRqAEUcEgKZ7pvna8ZOjEGeTPdX+tKKdZG/inKY/6F6IHrIP+yrtKZhnfHLqrS+AXiT1+PnH/HorHpgpc3jM31vxLUgOQsfsEbikjMlzdXcxzrieWIfz6P4LNQ22B37YRM+E3sxcHY/kzvuXmD/9zfzBIskFSuCRVKptNEqWCRYJFgkWCRYVHmw6P6/Pm33/+U1u/8vr9lN778iWCRYJFgkWCRYJFgkaUIiWCSVShutgkWCRYJFgkWCRZUHiwYtH+PzzDXHgkWCRYJFgkWCRYJFkooWwSKpVNpoFSwSLBIsEiwSLBIsEiwSLBIsEiwSLJJIKkcEi6RSaaNVsEiwSLBIsEiwSLBIsEiwSLBIsEiwSCKpHBEskkqljVbBIsEiwSLBIsEiwSLBIsEiwSLBIsEiiaRyRLBIKpU2WgWLBIsEiwSLBIsEiwSLBIsEiwSLBIskksoRwSKpVNpoFSwSLBIsEiwSLKo8WPTnus9sw3fbbMN322zt5n8IFgkWCRYJFgkWCRZJmpAIFkml0karYJFgkWCRYJFgUeXBok3fb/XcXvvtdsEiwSLBIsEiwSLBIkkTknqwiCJj3vuDbN77g2zpp+1t6aftvbB95OMurvz25l+b2Zt/bWbLPm1ryz5ta4s+6WiLPuloiz/tYIs/7WAL1g20BesG+udb159gt64/wSasGep654fH250fHu8H2Puf/Zu9/9m/+bXV60626nUn2+0f9rHbP+xjN68/0W5ef6Lfz3Vz3hvsyiFI4cnYl7893C5/e7iVPhhgpQ8G2GOfHG2PfXK0z5tkNG3tGTZt7Rk+9q3rT/j/27vvODuqgo3jDyCvoq/ltaNkUwkpkFCEUDUSpAgigUgTBDE06RgIoW562SKCCCKRBQxEpEkVEFgJ0ksgpJBQYgFBihQRRMx5/5h5zj07e7eEbcnu7/v5nA/kzr0zZ86cOXPm2VvioOF98nPGPnRgGPvQgbHdXC5+astw8VNbxm16wE733cXPdVu7flcs2yxcsWyzuE1P2r0/rtPsp7aOxfWduGC3MHHBbmHC46PDhMdHx+VuP1+U/Dw/7uen7enHXK9iO/sGxsfK++P6u018w3LIgwfFCbwvin6tJz/e1t3P9Qt3P9cvXlzcBt6m63D4wwfEenmdxz+6dzj+0b0b1dPr9gXF9fMExu2dHmf/2+eA+6PbxhdB9wdPwHyR97q3u31cvBi6DTwp9uPuF75R9T57W37cfeuoR/aL++w+4XW4Tzd1k+n98gQrvTl0P/M63J5p+8xYuFN49d+vxRuKV979R1yXL/buYxMX7BYn5cUbTu+H28uTD++zb/R80U8v3hWzswu2JxGeUPnC7xstt7cnCr4p8zbTyaXb0f8uTsI9QfXk3cfQ6/LNaHpT7mMQ9ykPjbwur8PHxueK28bP733ZtBgWxZuafALjvu4bVU9yvQ73+fRcdPE5VryJdf08EYyT3LwunqA6fEvb0fvu57j9XA8fE2/T7e5+6vZNJ4DFwMPr9Gtdb98Mu5+47/i64P7S9/KpjW4qPT56G56Q+hx2XXy8vX+uw071x8bt+zneV//bE2nvj7ftc8NjSRpu+Fj5ptbPSW+uvz3vyEbjkOvr/pGGMN5usV19/vp89jq8ThdPrNNjFG9Q8j6xYRLibvjbM+L+xJvG/Fz1fsUbKwe8cyfH+gysrA0DK2sb3XAUgwff8Pn495tZE/rNrAkbnlAbS7wJzOvjwNT77HX4Btr92u3s56Xt4f7o4uf4316Hx1nXweeVx+50nT5uvmH2GOJj6Hb3NnwMHbYXw8/0uuL2cft6nNry1pPD3995vcHY/u15R8ZzNd445uNvxewZcZ3FPuMbaO+7z2vX06G3110uLPKyGIzl51cxTPT+eT/Sfunzwu3kfS9ei31ODJhaEwZMrYnntOvic3j0PUfE4+friW8ivS63q8dkr9vH2+d02me8Dz7err/HJfdHr8N18fP9BxBfbyvqpscbY79m/Um1Yf1JtY3Cdx/LYlhTvF6OvueIePx8Lg4dVxuGjquN12tfiz3O+pi5P3qdHj83v+WUuA7vo/+Q4GucQyuPGf7DjYPU+AcbL/956Y8sxePq4+lQwWNH/MNTPk64z6XXCO+b96V4HfX10e3qdnedhh1VG4YdVRvrMmBqKfR1v/S80sfOQXmjx/NrhsfiNNRyu8Vjkgd9rkfxvGqqpNchPzbo1Now6NRS+3jeFgOgvH4x0M/3M47r/kPTryfFfXJfd59xYBfLmVlx/+1XVRP6VdXE885t1OfH1XGZj5nbwv3Q9Yt/yMsD8PiHsDy4TIPc7XabGbbbbWbpj1FrjAmjtBdhEbotwiLCIsIiwiLCIsIiwiLCIsIiwiLCIsIiwiLCIsIiwiIgIiwiLCIsIiwiLCIsIiwiLCIsIiwiLCIsIiwiLCIsIiwCIsIiwiLCIsIiwiLCIsIiwiLCIsKiRmHRtX++P9z49JJw49NLwu9euJuwiLCIsIiwiLCIsAg9CGERYRFhEWERYRFhEWERYRFhEWFRo7Boy1tPjjdQ3mfCIsIiwiLCIsIiwiL0DIRFhEWERYRFhEWERYRFhEWERYRFhEWERYRFhEWERYRFQERYRFhEWERYRFhEWERYRFhEWERYRFhEWERYRFhEWERYBESERYRFhEWERYRFhEWERYRFhEWERYRFhEWERYRFhEWERUBEWERYRFhEWERYRFhEWERYRFhEWERYRFhEWERYRFhEWAREhEWERYRFhEWERYRFhEWERYRFhEWNwqJ5f18YHvnb8+GRvz0fHnz1CcIiwiLCIsIiwiLCIvQgDcKilgaKriqe7HR1PVbl4ovOsKM6tp02PLE2bHhi+2xj2DG1YdgxtY3W6YtI8fnrT64J60+uaZdtr26leEFuTdn0BzVh0x803V7Djq4Nw45uvM7hP6yJZaNja8NGx7a83Zf/+moMi17+66vxcU9Gyu3L8CNrwvAja+JNhCeNviBvs8essM0es+IE25O2OPnIb0Z2uPP4eCPvyUVx0uC+5snaJofWhE0OrYmv9yQ1nVx6subJtycGrqf/7Ymgb4I8yRj6o9ow9Ee18d+Drz0r3ih7H+PkJ69XvHHK98OTTp8TPgfS88A3Ig77fXPpya6Xe53FECSdpLutvY40jDzqkf3CMY/uG455dN/4PN+M+cbGoVx6Q+oJtCekvinzBNs3jd5Xt5Enjm5XT+6GXHdmrK9v0nyz6Pp43z3pdPu7DjGguGhmLO4L3p7bIN4A5uGFb5y8Xw5QHSqnN/jevtftdnPbOLRy+3rdPjYxJMz7d++fVsV9LIZFPq5ep2/a3b7uY35dGramAddO9cfGY+RtFYN974dvbN3H0kDc9fCNp4+v983jvvuB1+XnFbeZBiJb7lMdttynFJz5XPA2i0Gew0PfKHhOMXhCbayvb0B9HhXHBq+jGKh4fEjHI++jlxUD6OIfELwuHyP3U7fN8BtOaxQ4Oojwtnyci6HBFvtXhy32r240fm1z20lxO75BcnjpUHX0PUeEV979R2lsf/cf4Rt3HRf3w3VIz6PiDbPPUYcX3me/1sfK45rbNx2XvI8eN3283Q+9736tnx/HzXy/1v9N6Y8MxTDQ54/r43W5X3idbt/0ePsxjzMOZ9LzYbvbx8U2cfsV38G1VVI8hjUVrvkG2+3rMcfbcniQ/oHBY4Wvcd5GcbyK1+C8n7gt/Pr0D0renv/Q6Rt4zy8cqPimvfhHgOI5MfqeI8Jm368Jm32/9Fy3idvJryle23y993mU/tGieJyLf9CKc4c8ePJ45HUWr/tpWFQMN1zc7v63/+jmQNpzofQPSt43b8OvdV/3sfG8w88v/kEkHd/9Gp+DMdjLj79f4/PKj/vfHn/dVmnxef/VnWeEr+48I84ZvW2fd3F+mR+HYmg4/IbT4jqLIZz7Tvx3Hvq7fR0E+jj4+G9wdWWcY/n4eVz0a/0873O/WTWh36xSaO1zOj1G7p9ulwFXTgr951YSFqHbIizqJoWwqHsXwiLCIsIiwiLCIsIiwiLCIsIiwiLCIsIioLMQFnWTQljUvQthEWERYRFhEWERYRFhEWERYRFhEWERYRHQWQiLukkhLOrehbCIsIiwiLCIsIiwiLCIsIiwiLCIsIiwCOgshEXdpBAWde9CWERYRFhEWERYRFjU2WHRg68+Hh554fnwyAvPh/teXkBYRFhEWERYRFhEWIQehLComxTCou5dCIsIiwiLCIsIiwiLOjssGn3PEfEX7dyuhEWERYRFhEWERYRF6BkIi7pJISzq3oWwiLCIsIiwiLCIsIiwiLCIsIiwiLCIsAjoLIRF3aQQFnXvQlhEWERYRFhEWERYRFhEWERYRFhEWERYBHQWwqJuUgiLunchLCIsIiwiLCIsIiwiLCIsIiwiLCIsIiwCOstqERZRKJRVu6Rh0d/efKtB6FLx81nxwrvZzRPi5McTAIdFnrA4LBh8Sm0YfEopHBo6rjYMHVcbb1zS4hs/T756XzI99L5keuhbXRP6VtfEsMgTBE9ofQPef3pN6D+9Jt7YVsyeUbrBzLfvGxdPvLwuTzI8GfG2PUlxyFDxyxmh7xVTQt8rpsSJ/sDK2jCwsrbRjVxxAuhJlNfd+5LpYYetJoUdtpoU29WTLwcMQ06uDUNOro2Ttw3OyErfmuqs5HVJj433xZNJT7SL4YC35Qm3b1i8X+nE3ze3vpH3BGvc/DFh3PwxMWzx88fP3zOMn79nnJh5m+lNl+vjdcdJXL4ffo1vaHwj45sPP3/ISbWxeNLoffGk0jdIPkY+Jq6L98fr9g3BiY99J7aH29M3KsX2dDDm/uy+53p6Mlxx/qzYjl7mfXP7ua+4nl53MfhJA71iuxz+8AHh8IcPaBTCeRvFGy7f+Hl/dr376Pga92UfiwmPjw4THh8db3aKN/gOGzzxT2/4Ji7YLUxcsFsYeFZtGHhWbay/xyEfu2Lo5roMmFoTBkytiefGkJNrSzeJ+Tjkm0WHGe6nxf1wcDrtyV3CtCd3iW12+MMHxPaoWrhjqFq4Y1yX28uv9bocsvpGxUGzg6sh4z/4H2gcFvmmzX2y/68nxfPd4Ubf2urQt7Y63iB5zPOY477kvu/lHrsHXjWx0bnn/uZ/+9xwu7rveZtuu7S4/Xyz6H3z9n1uus+4f/r16Q1pMSjz43FMzvfD9el9TnXofU6p/byt9OaxeEPpm1n3ZZ+z7h8xhMtvih0eDJhSE8sGZ9aGDc6sjccmXrvyerhPe5+Lwa+PlYPA3j+rivW467kB4a7nBsQxzueN+6fboBiIejxI+7qP33mLvxbOW/y1OF4W1+lx/vwlXw3nL/lqDNeLY+NWt54cAxqPbX7t5AW7hskLdm10TXH/cL/0un0tGT9/z3jOFYNO75vbz/3DdfEcxvue/vGk2C89lrge7ivFwM9jn8f59NrmPu3zxPVz/d3e3nfvn9vI7Z6GWsXg0f3S++Exz+eV96fY19OA1Mvc9wedVhsGnVYb+777qfu4j6nH+9g/krHKj/n4xmOQB1LuW8X6uU3cX9M/LPm67mPl4+zlxT/2FY+h+4PPs2/cdVycZ3oONeS6M8Pgq08nLEK3RVhEoVDaXAiLCIsIiwiLCIu6X1h09Z/vDzc+tzjc+NziMPfZhwiLCIsIiwiLCIsIi9CDEBZRKJQ2F8IiwiLCIsIiwqLuFxa99M7rcWx/8V9vEBYRFhEWERYRFhEWoQchLKJQKG0uhEWERYRFhEWERYRFhEWERYRFhEWERUD3QVhEoVDaXAiLCIsIiwiLCIsIiwiLCIsIiwiLCIuA7oOwiEKhtLkQFhEWERYRFhEWERYRFhEWERYRFhEWAd0HYRGFQmlzISwiLCIsIiwiLOp+YdGi1/8SXvjnG+GFf74RFrz2PGERYRFhEWERYRFhEXoQwiIKhdLmQlhEWERYRFhEWNT9wqLNbzkljjnuS4RFhEWERYRFhEWERegZCIsoFEqbC2ERYRFhEWERYRFhEWERYRFhEWERYRHQfbQ5LPLJffaiUeHsRaPihMAD3IyFO4UZC3dqNLB5ojBu/ph4AfCJ7uLB2SerJ5mejPjxPr+aGvr8amqDk9nb8wXM9fO6PUj6xskXkCuWbRauWLZZqFm0Q6hZtEN83dmLRsUJ/jmLvx7OWfz1OFB54PKg44HYA4kveC6+OG5606lxkPPNqicwHhQrLp4RKi6eEScyHjzdvq6TB8JvzzsybtcXOV+QPOnwxciv9X74IuA6pBcbX+S8zBcC/9sDqwdi758fd5v4mH7vge83ujn0tjy4+8bA++p9d7/xBcVtNfahAxtNIooTA/c177vr77ZyH0vXWbyZ8UWmeBNbvBH0frpO6YTAr/VF3NvwMUhvuna9++hGgYDXkx5390Nv1xMmt5+Pu89RH1PXwceuz9nVsfg4e3uegDrQcf99471XYlj08l9fjROHTcbWhE3G1jTo854Yu5+6na9+euNw9dMbx4ms++2lS0eES5eOiOe5n3/LM4Njcd9xW/s18fyaOzn0nzs53PTM0HDTM0PjfsxZunmYs3TzcPFTW4aLn9oyHv8Jj48OVy7bNFy5bNN4vntsKD7uMe62ZzcItz27QWxfT9C9X1c/vXFch4v7lCfQHq+8Th9bTxTjxGvO1DgGxz6cB1Kuv9vG+1yspx93W126dERc5jHPE9BiX3Lxzbr/7eAlfY7HXJ+THgc9xnq5J6zelvfL50Y6HrmPe52up9vP7eYxxM/z9crXiRic1VTHdfs8ScOU/e4bG/tjUwGat5mGbz6nvMyv8TqLYVfxZsznqK8DFRfPiOOmz0GPhx5H3S/9b7enxz7fhPjx05/4dmy/Ykjkdfucczt6274GF6/REx4fHY+rx3O3udftccd92+t2+OLzKC2uu288XF+fC7Of2jrMfmrruG2f/27nTQ6rCZscVhO22WNWLPF67dAovzEp3qy5fm5/H9Pitec79x4Wx3FfE9y+7ivuY+6P3r9icJruux/zPrlveW7gwNzhtvuUg3HXKQ05vA8e530ddMjlccDXneJ46b7mc3SL342P7eF29fH18XYb+dhduGTbcOGSbeP1wWOlH79wybZxO9c/s2G4/pkN4/H2Nnzee2z269zX/Lrrn9kwngd+rccj91uPGS5uz2J4nNbP/c718B8UfE32eeTlbkcX1zu9VriePkd9LFwv9/Hi+eb9ch/zzfzga8+KY4LHsOJ1xvvoa7Pb3eek+6e3cciDB8V98776OHqdPu9dB//b/djjQzrG+fj2Prcq9D63Ko7RDnvdf73N+MeY/HneP1/3+8+dHANPj11ehx/3ujw3cD/1H63cnm6bvldMieOzx/XiPNjrch28Ds/Ffb6lQZn7TsUFs0LFBaVlPkc9r/D1KN3H/nMnxz+Apdfg/jNrQv+ZNfE1cX6Xjw3Fdnd7enzyMfK6e/+0Kt7vuD03PqImbHxETQyLivvu8NNjiR9P58UeQ7zvXnesV95eHqtdHKT69WlY1H9GTeg/oyauo9jffC0pBnj+w03sl3mdKi6YFbbbbWbYbreZcRt9fjU19L50MmERui3CIsIiwiLCIsIiwiLCIsIiwiLCIsIiwiLCIsIiwiLCIiAiLCIsIiwiLCIsIiwiLCIsIiwiLCIsIiwiLCIsIiwiLAIiwiLCIsIiwiLCIsIiwiLCIsIiwqJGYdF9f78k1C37Y6hb9sfwxCsXEhYRFhEWERYRFhEWoQchLCIsIiwiLCIsIiwiLCIsIiwiLGoUFr313stxbH/7Py8RFhEWERYRFhEWERahByEsIiwiLCIsIiwiLCIsIiwiLCIsIiwiLCIsIiwiLCIsAiLCIsIiwiLCIsIiwiLCIsIiwiLCIsIiwiLCIsIiwiLCIiCKYdH22jOM0l4rXb5++3Hh67cfF2oXbB9qF2wfDn9gv3D4A/uF78z7QfjOvB+EaU/sGKY9sWPY748Hh/3+eHA46ZHR4aRHRocTH9krlonzvxkmzv9m+N6932tQDrj3oHDAvQeFrW/5Udj6lh+F8Y/uEcY/ukf45l0/DN+864fx8d6XTg69L50cdvj9MbF4e+c++dVw7pNfjfXzuo98cJ9w5IP7hD5Vs0KfqllhxzuODjvecXSYs2TTMGfJpqFqwahQtWBUfF3tgu3DnncfGva8+9Bw9pMjw9lPjgwjbh4XRtw8Lgy7bkIYdt2EMPy3p4Thvz0lHHzfgeHg+w4MfeZMCn3mTAqnP/atBmWT60+JZbe7jgy73XVk6De1KvSbWhU2vWF82PSG8eGQ+78bDrn/u6HX7Gmh1575B8IAABgmSURBVOxpod8VlaHfFZVhy5vHhS1vHhfb13Xavf7wWLzdXufPCL3OnxH6zpkU+s6ZFHr9cmro9cup4Ss3nhy+cuPJ8bXej1G3HxtG3X5srIMfH3HzuLDznUeFne88Ki4bMPesMGDuWfHf2/7uxLDt704MG117atjo2lPj/vlxt4mP6QH3HhT2+MNhYY8/HBb7hLc18Mozw8Arzwxnzd81nDV/17iv3nf3mzHzxoYx88bGtjrk/u/Gx3z8fVzdNu5r3nfX323lPpauc/ObTgqb33RS2O7WE8J2t54QBl99ehh89emxH3ofXT+v2/vpOvl52/7uxPjaIdecFoZcc1rcho+Bl7u4nt6215Med/dDb/fUx3YPpz62e2w/H3efoz6mroOPXe/aWbH4OHt7G/zmjLDBb84IQ685LQy95rTYf19756Xw/vvvh/fffz+8+Ke/hw0mVIcNJlSHjQ+pChsfUtWgz1ecOzNUnDsz9lO385VPDQ9XPjU8/P7p/uH3T/eP/bZu8RahbvEW8Tz3829cOigW9x23tV8Tz6/LJ4Z+l08M1y8dEq5fOiTux2WLvxIuW/yVMHvRiDB70Yh4/Mc/ukeYu2STMHfJJvF899hQfNxj3C3LBoZblg2M7Vvx05mh4qcz435d+dTwuA4X96nzFm4Xzlu4XRyvvE4f26Me2jsc9dDeofdlk2PxGBz78EXTQq+LpsX6u228z8V6+nG3Vd3iLeIyj3nHPjQmHPvQmEZ9yWWfew4J+9xzSPz34B9Vh8E/qm7wHI+5Pic9DnqM9fJeP58eev18etyW98vnRjoeuY97na6n28/t5jHEz/P1ytcJj/99qmbFdfs88b65uD9+7bbjw9duOz6e5z5HvU3Xe9Mbxsdzysv8Gq/T/dX9wPt16AP7h0Mf2D+eo74O9Jo9LY6bPgc9Hnocdb/0v92eHvuOf3hMOP7h0jE99bHdY/t5u66H1+1zzu3obfsaXLxGj390j3hcPZ67zb1ujzvu2173lMd3DlMe3zmeR2lx3XvXzAq9a2bF+vpc+MWircIvFm0Vt+3z3+288diqsPHYqrD1t2fEEq/Xv5oc+vxqcuh14fTQ68LpcVvux66f29/HtHjtGTNvbBzHfU1w+7qvuI+5P3r//DxvI913P+Z9ct/y3GDQ+OowaHx1qKibEirqpsQ+NaCyOgyorI518uPb3XpC3AeP874OznziG2HmE98ItQu2D6+/82Ic299894UG46X7ms/RzW86KbaH29XH18fbbeRjd8HCbcIFC7eJ1wePlX78goXbxO1cu3RouHbp0Hi8vQ2f9x6b/Tr3Nb/u2qVD43ng13o8cr/1mOHi9nQ/8P6l9XO/cz36z60M/edWxmuyzyMv93XHxfVOrxWup89Rj8mul/t48XzzfrmPDbrqjFg8JngMK15nvI++NrvdfU66f3obB993YNw376uPo9fp89518L/djz0+pGOcj2/FT2aGip/MjGN0/8lVof/kqth/vU1f+/w875+v+/0unxgqLp4aKi6eGscur8OPe12eG7ifDjq5Ogw6uTq2p9umz5xJcXz2uF6cB3tdroPX4bm4zzePE1vePC72nV4/mxF6/ay0zOeo5xW+HqX72O/yiaHinJmh4pyZDa7B/aZXhX7Tq+Jr4vwuHxuK7e729PjkY+R1V5wzM97vuD2HH1YVhh9WFfpOz0px3weeXh0Gnl4d57B+PJ0XewzxvnvdsV55e3msdqm4ZEqouGRKfL23Mfjq00O/aVWh37SquI5if/O1xPsT2+jHs0LvH88q9cu8Tr1+NiNsu+v0sO2u0+M2el86OVTUTSQsQre1tkqdm0KhUCgUCoVCoVAoFMrKl7UFdCOERRQKhUKhUCgUCoVCobStEBahW1lDWadeW9nb5iiUciUNFekrFAqFQqGsWoXrNIVCoXRd8f30GgKAHmYtlSaha3VxXQAAQENcpwEAANDpmIQCALDq4joNAACATsckFACAVRfXaQAAAHQ6JqEAAKy6uE4DAACg0zEJBQBg1cV1GgAAAJ2OSSgAAKsurtMAAADodExCAQBYdXGdBgAAAAAAAAAAAAAAAAAAAAAAAAAAAAAAAAAAAAAAAAAAAAAAAAAAAAAAAAAAAAAAAAAAAAAAAAAAAAAAAAAAAAAAAAAAAAAAAAAAAAAAAAAAAAAAAAAAAAAAALBq+1RXVwAAAAAAAACrhoMkXSJpo66uCAAAaGSNrq4AAAAAepZDJa2Q9F9J50nasGurAwAACr4gabCk7yn7A88XJK3TpTUCAABAt7SGpM9IeldZWLRC0luSzheBEQAAq4pdJN0s6RWVrtePSTpO0v91Yb0AAADQDfkt7bdKelnS08omoG9I+pkIjAAA6GoHqhQQ/UXSEmXX6RWSFikLkiRpzS6pHQAAALqtcyW9KWmYpN+qFBjxDiMAALrOPioFRWdI6i/pc5K2VOldRld3We0AAADQLfmvkAcom3Aemv/7DhEYAQDQlXZU9tHwFZKOLLP8pHzZTZ1ZKQAAAPQcGyj73qKLksduU8PAaFiyjPAIAICOM0jS3cquw6ckj6+V/H91vvxKZR8r7yvpo5L+J1/Or6cBAADgA1tT0nqS/ibpOUmfTZYVA6M+ko7OHzuhU2sJAEDPsLaydxKtkHRZ8viaKr0j+MOSfp0/55eSrpL0d0kPSfqJsl9NkwiMAAAA0ILP5P9t6gswr1L2dvdehcdvVzYZfV3SPJW+O+HoDqgjAADIwqI7JO2QPJa+q+h0la7HiyQ9q4a/lDZf0pBOqSkAAABWW0dK+o+kzcss818dz1U2wdw7//eHk+fcrNIEdIWkyckyfn0FAID2t7nKX2PHq3Q9PkHSRpI+pOxjaBcp+3XTFZLmSvpEp9QUAAAAq53vqzSp/G4zz9sjf86k/N9rqPRXzGPyZe9J+pekGklDO6KyAAD0QLtI2lkN3z1k6UfJvq7sevy+pL3KPPfzyn4dbYWkZWr40XIAAABAUsOg6PstPPcr+fOuV/aXTE9Oj0/WsVil7zA6T9LG7V9lAAB6lB8ou7bOkzRKpcCoqe8bqpK0b/JvP8/vQtpC0jv5Ordt15oCAABgtZcGRT9IHm/qY2MfV/adB89LWjd/zF9mnYZNtyWP1ar0qysAAGDl7KWGH/O+Xdn3FJV7h1FL7zqyTZX9wukKZcERAAAAIKn5oCgNi4qTzOsl/VPZr6Mdkazjh8lz1pL0QP74oHatNQAAPcfakqYqu576e4ZWSPqdmg6MmvOh/L/75uv5g/g1NAAAAOTSoOiw5PFiUPQtSSOVTS49mZyZv+4OlQ+K0i+97t2elQYAoAcaIOk1SX+S9HOVrr23aOUCo/R5voafoYbXeAAAAPRQaVB0cP7YmmocFB2WP+dRZV+GaTtL+rfKB0V+/YcEAADaytdV/6FmrKTttfKBUXp9r8tf+6CkL7djXQEAALCa+qikK1WaZF6RLEvfEXRY8pyxhXV8XNLp+bJxyeNNfc8RAABom12VXXfflvTF5N8tBUbpO4bWkjQnf80LktbvwPoCAABgNfMlSRcp+3n7FZKuKSw/XKUJ6AHJ4+mEc11JmyX/JigCAKBjXazs2nxC/u991LrAqI+yj5XX5899SnyfIAAAAMpYV9IvVQqMrsofP0gtB0VFBEUAALSf4nXV/95f2fV5vqSP5I+NUdOB0RrK3g08N1/+jqQbJfXtqIoDAABg9fclNQyMHlHj7zKS+NJLAAA62iaShhUeK15/15H0kLLr9DEqhUh7qenAaE1JI5Rd7w+V9Ln2rjgAAAC6H7/D6B2VJpr75cv4dRQAADqevydwqaQZyr5LaJ18ma/Da+f//a6kd9XwOwel8oFR+mMTa6v1v5oGAAAAaF1lv4zyrrJJ5pxkGb9qBgBAx0l/ofS9/L/LlX2f4HBJny08f5ikl/Ln7VlYVgyMRonrOAAAANrgS8q+OPNtNf7SayaaAAC0v/QXSt+T9LSyP94syB97RdJNyt7xu07yuvH58tnKrtHpO4HTwOheSSM7dhcAAADQ3RW/9PrqZBmBEQAA7e9LykKff0v6r7J3935ZUpWkhSoFP7dKmiLpE5K2VfaRtX8o+8ia1PBLsUcnr6vo8D0AAABAt0dgBABA51pX0iUqfRx8Zv74JyUdJ+lRSW+p9GMUMyQ9nv/7ApV+GS39nsFvSRra0RUHAABAz9FcYMSXYwIA0P7WVfZxcP/gxM+SZQMl7STpHklvqvSuoRWSLpP0f8lz+WEKAAAAdJgvqWFgdHvXVgcAgG6vGBhdWFj+cUnbKfvY2iuSHpD0w86sIAAAALCupF+o9NfL9bq2OgAAdHvFwOiCJp63laSvqPROIt5RBAAAgE6znqRzJQ3q6ooAANBDFAOj85NlHy7zfIIiAAAAdDq+2BoAgM7V3DuMuC4DAAAAAAD0QM0FRvzgBAAAAAAAQA/U3EfSCIwAAAAAAAB6oGJg9KuurQ4AAAAAAAC62rqSLlIWFv1H0he7tjoAAAAAAADoal+WdJ74hVIAAAAAAADk+CU0AAAAAAAAAAAAAAAAAAAAAAAAAAAAAAAAAAAAAAAAAAAAAAAAAAAAAAAAAAAAAAAAAAAAAAAAAAAAAAAAAAAAAAAAAAAAAAAAAAAAAAAAAAAAAAAAAAAkVUoKeWkNP7eymed8WNJYSddJ+pOkf0l6U9JSSXWSdm3ltj4q6WhJt0v6m6R/S3ojX89dkqZJ2kXSR/Lnj0zq90HKwa2sV1PWkDRa0m8kPadsv/8labmk+yWdJ2lfSZ8r89r6vA71rdhOHzVf5+Uqv3//VdZ+j0iaJalXM9uoy1+zvIXtt6ZUtrA/G0iaKumPKh3ntyQ9LelKSd+T9L/J89tyjOtaqEtzRibrGVlmeX2Z7f1X0uvKzoM7JFVL2kFZXwEAAAAAYJVUqfYNi7ZXdmOc3jC/oSw0SR/7o6SKZrazoRqHHu9Kek3ZDXj6+Mj8NVtLerGJ8l7+3Peaec4+rWmAJnxS0p2Fer0v6dVk2821Xb3aPyx6Rw337x+FerwtaacmtlGn1oVFb6jp9nQZ18Q2Pippthofz9fzuqWPvSxp7/x1TW3nn8nzm3rOT5qoS2uMVOM+l6pX+T6W1svlOUnfakNdAAAAAADoMJVqv7BoL5WCkRckHS7ps8nyfpImKQsxgrJ3kQwss56PS/pL/pxXJJ0g6QvJ8o9IGpHX4WmVv3Evqlfrw5gP4jqVAqJaZe+WWStftqakwZKOURaSndXG+vVR68KiujLL1pG0n7IQK+T//ViZ59WpdWFRue23xiclPZas5ypJo/L62acljZH0e7XuXUGVWrm+vLJGqnVhUX2ZZe6zU5QFX15Pub4AAAAAAECXqlT7hEUDlX10KEhaqIbhTtEIZe9ICZKeUOljZHZosp2tWqjPGso+9taSenVcWLS+SvWd0Irnr1PmsXp1TlhkBybr2KXM8jp1bFh0vUrh2n6teP4uyj4615xKrbphUerzkuYl6/pOO9UPAAAAAIB2Uan2CYuuVOmjYoNbsZ6Dk3UdWVh2Xv74S62sU2vUq+PCou+otC+t2fdy6tW5YdGGaj6sqFPHhUU7qul+1Jw1W1heqdUjLJKkzyh7911Q9u64D7VD/QAAAAAAaBeVantY9EWVvnemrpXrWVPSsyq9Eyn1U5W+++WjrVxfS+rVcWHRGJXa5RsfcB316tyw6IBkHRuVWV6njguLblDp+47+t4XnroxKrT5hkSSNb2F9AAAAAAB0iUq1PSzaN3l8Zb60tyZ5XfqxtfQjUr9W9i6MtqpXx4VFvSWtyNf/pKRBH2Ad9eqcsOgjyr4o+pX8OTc3sY06dUxY9CGVPq74m5V8bUsqtXqFRUNU/nwCAAAAAKBLVap0w9rSr1q9qPI3t5OTx7+8EttOQ6FRyeP/I+nxZNm/ld2AVyn7fpu+K7ENq1fHhUWSdL5K9Q2S5uePHSppuFr+CNXK1K+PWhcWFX8N7bXkdX+SNF2Nvy/K6tS6sKg1v4bWK3lt/+S1pza7lyuvUqtXWLSGsr4dJF3W1soBAAAAANBeKtUw5GhtqUzWkQYlTYUP5eycvG7vwrLPSJqjxj+r7vKMpNPU+o8x1atjw6K1lP2yld81UyyvSbpA2buQ2lq/Psl6Dy6zfHkTdUjL68qO26eb2EadWhcWtab0SV67RfL4Ec3t5AdQmay7I4xM1j+yzPJ6rXwfcwDb1Du8AAAAAADodJVq+8fQOiIssvUkHSXpcklL1Dg8WqbWvdOoXh0bFtnHlb376QJJDyt7d09a37dU/tfHVqZ+fZL1HVxm+XKV/xjaGsrCoW8p+7hcUNamXyyzjjp1zMfQCIsaeil/zU1tqhkAAAAAAO2oUm0Pi6Ykj6+3Ettu6mNozfm4pNGS7k1e+0ArXlevzgmLitaWtK2yjxm5vm+q4Xc0SZ3/BdfrKfsIWZB0aZnldeqYsIiPoZWkH0MrdwwAAAAAAOgSlWp7WLRf8vjuK7Ht2uR15d7d0py1VLo5D8q+F6g5fm79Sm6nPaXf7XRcYdktan3wNTRZzz5lli9Xy2GRlH15eJD0thr/dHudOiYs4guuS9LjeFZbKwcAAAAAQHupVNvDoi+q9PGwS1q5njUlPZu/ZmErX1O0v5oPTVL16vqw6Esq1ff8wjK/8+j5Vqxnx2Q925dZvlytC4tmJetZt7CsTh0TFknSDflr31Drv3OqNSq1eoVF45P1fa2tlQMAAAAAoL1Uqu1hkSRdlT/+rqTBrVjPwcm6jmrltot2T9axRwvPrVfXh0WfUKm+ZxeWHZcs69fCeiblz/uvpE+VWb5crQuLLk+2+YnCsjp1XFi0U/L6lXlHTUu/KFep1Scs+oykF/LnL1Pjd3YBAAAAANBlKtU+YdFgZR9nCsq+PPnzzaxjC5W+L+dJNf5S7C3U9K90pa5O6lPRwnPr1XFhUV9JA1vxvGNVqu+BhWW9JP0nX3ZRM+v4jEpfinxLE89ZrpbDos9Kejl/3tIyy+vUcWGRJN2Yv/59ZR9jbMkuyt4J1ZxKrR5h0eclzUvWNaad6gcAAAAAQLuoVPuERVL2i2YOPF6QdJgahj59JE2U9K/8OS9JGlRmPdWS/qkssNhd0ueSZeso+8iOw4ag7Lt3WlKvjguLdlP2Lp9blIUn/ZNlH5I0RNJPlAUjQdJzkj5aZj3px8IuVsO2+bCkXSUtype/I2mTJuqzXE2HRWtK2lzSPcm2yv0qWZ06Niz6lKTH83WsUPb9RdurYXD4aWVByu1q3TulKrXqhkUfVhaCTlYppOO7igAAAAAAq6RKtV9YJEk7SPpL8jx/N83bhcfuVxY6lDO98NygLGD6R5nHb1b2C2ktqVfHhUXpx6pc3pP0qkrf5eSyTOUDMin70u4L1Hi/X1EpaAqSXlcWUDVluUqB0otJeSl/LF1/TRPrqFMp2Crqo4bH9sUWyjVNbONjyr7jKm2jFcqOc7G//E3Zr+A1pzJ5fkcYmax/ZJnl9Sod+3T/31S2X+n+PCvpWx1UTwAAAAAA2qRS7RsWSdm7Qw6TdL2kPysLKN6S9LSynwhv6SZ5DUkjJJ0u6SZJzygLTd5XFk4skPRLZV/03Fr16riwSMreTXSMpLnKPlr3hrL6vq2s/tcoexfO/7RiXSOUfRRtsbKg4T/KAqN7JJ2hhu+0Kme5GodXLm9LekrSbElbNbMOf5/RojLL+jSz/nKlvoX6DpI0TdJ9ysKV95S9s2yZsneNfVfZO8paUqlVIyxKy3+V9YU/S7pTWTi3g7I+DgAAAAAAsNq4Ux0brgEAAAAAAGA18TFl7wQLkn7cxXUBAAAAAABAF1pP2ccH/TGqzbu2OgAAAAAAAOgKhyr74uz0+3bO7tIaAQAAAAAAdLGH1PIvexXL1l1S0/Z3vLJf7HpN2fcV7d+11ekwP9HKH+NxXVJTAAAAAADQ5ZZr5X7lq6lfxcKqq04rf4wru6CeAAAAAAAAAAAAAAAAAAAAAAAAAAAAAAAAAAAAAAAAAAAAAAAAAAAAAAAAAAAAAAAAAAAAAAAAAAAAAAAAAAAAAAAAAAAAAAAAAAAAAAAAAAAAAAAAAAAAAAAAAAAAAAAAAAAAAAAAAAAAAAAAAAAAAAAAAAAAAAAAAAAAAAAAAAAAAAAAAAAAAAAAAAAAAAAAAAAAAAAAAAAAAAAAAAAAAAAAAAAAAAAAAAAAAAAAAAAAAAAAAAAAAAAAAAAAAAAAAAAAAAAAAAAAAAAAALCa+n9IaA1AOU60swAAAABJRU5ErkJggg==\" width=\"639.6499809369451\">"
      ],
      "text/plain": [
       "<IPython.core.display.HTML object>"
      ]
     },
     "metadata": {},
     "output_type": "display_data"
    }
   ],
   "source": [
    "tt.plot(sample_field='HOST_SUBJECT_ID', feature_field=None, gui='jupyter')"
   ]
  },
  {
   "cell_type": "markdown",
   "metadata": {},
   "source": [
    "### find features correlated with time in the individule of \"M3\""
   ]
  },
  {
   "cell_type": "code",
   "execution_count": 23,
   "metadata": {
    "collapsed": true
   },
   "outputs": [],
   "source": [
    "tt = feces.filter_samples('HOST_SUBJECT_ID','M3')"
   ]
  },
  {
   "cell_type": "code",
   "execution_count": 24,
   "metadata": {
    "collapsed": false
   },
   "outputs": [
    {
     "name": "stdout",
     "output_type": "stream",
     "text": [
      "2017-03-14 15:36:55 INFO method spearman for field DAYS_SINCE_EXPERIMENT_START. Positive correlated features : 65. Negative correlated features : 191. total 256\n"
     ]
    }
   ],
   "source": [
    "dd = tt.correlation('DAYS_SINCE_EXPERIMENT_START')"
   ]
  },
  {
   "cell_type": "markdown",
   "metadata": {},
   "source": [
    "We get 259 features with significant correlation following FDR control.\n",
    "\n",
    "Note features are sorted by the effect size (biggest/smallest correlation is top/bottom)"
   ]
  },
  {
   "cell_type": "code",
   "execution_count": 25,
   "metadata": {
    "collapsed": false
   },
   "outputs": [
    {
     "data": {
      "application/javascript": [
       "/* Put everything inside the global mpl namespace */\n",
       "window.mpl = {};\n",
       "\n",
       "\n",
       "mpl.get_websocket_type = function() {\n",
       "    if (typeof(WebSocket) !== 'undefined') {\n",
       "        return WebSocket;\n",
       "    } else if (typeof(MozWebSocket) !== 'undefined') {\n",
       "        return MozWebSocket;\n",
       "    } else {\n",
       "        alert('Your browser does not have WebSocket support.' +\n",
       "              'Please try Chrome, Safari or Firefox ≥ 6. ' +\n",
       "              'Firefox 4 and 5 are also supported but you ' +\n",
       "              'have to enable WebSockets in about:config.');\n",
       "    };\n",
       "}\n",
       "\n",
       "mpl.figure = function(figure_id, websocket, ondownload, parent_element) {\n",
       "    this.id = figure_id;\n",
       "\n",
       "    this.ws = websocket;\n",
       "\n",
       "    this.supports_binary = (this.ws.binaryType != undefined);\n",
       "\n",
       "    if (!this.supports_binary) {\n",
       "        var warnings = document.getElementById(\"mpl-warnings\");\n",
       "        if (warnings) {\n",
       "            warnings.style.display = 'block';\n",
       "            warnings.textContent = (\n",
       "                \"This browser does not support binary websocket messages. \" +\n",
       "                    \"Performance may be slow.\");\n",
       "        }\n",
       "    }\n",
       "\n",
       "    this.imageObj = new Image();\n",
       "\n",
       "    this.context = undefined;\n",
       "    this.message = undefined;\n",
       "    this.canvas = undefined;\n",
       "    this.rubberband_canvas = undefined;\n",
       "    this.rubberband_context = undefined;\n",
       "    this.format_dropdown = undefined;\n",
       "\n",
       "    this.image_mode = 'full';\n",
       "\n",
       "    this.root = $('<div/>');\n",
       "    this._root_extra_style(this.root)\n",
       "    this.root.attr('style', 'display: inline-block');\n",
       "\n",
       "    $(parent_element).append(this.root);\n",
       "\n",
       "    this._init_header(this);\n",
       "    this._init_canvas(this);\n",
       "    this._init_toolbar(this);\n",
       "\n",
       "    var fig = this;\n",
       "\n",
       "    this.waiting = false;\n",
       "\n",
       "    this.ws.onopen =  function () {\n",
       "            fig.send_message(\"supports_binary\", {value: fig.supports_binary});\n",
       "            fig.send_message(\"send_image_mode\", {});\n",
       "            if (mpl.ratio != 1) {\n",
       "                fig.send_message(\"set_dpi_ratio\", {'dpi_ratio': mpl.ratio});\n",
       "            }\n",
       "            fig.send_message(\"refresh\", {});\n",
       "        }\n",
       "\n",
       "    this.imageObj.onload = function() {\n",
       "            if (fig.image_mode == 'full') {\n",
       "                // Full images could contain transparency (where diff images\n",
       "                // almost always do), so we need to clear the canvas so that\n",
       "                // there is no ghosting.\n",
       "                fig.context.clearRect(0, 0, fig.canvas.width, fig.canvas.height);\n",
       "            }\n",
       "            fig.context.drawImage(fig.imageObj, 0, 0);\n",
       "        };\n",
       "\n",
       "    this.imageObj.onunload = function() {\n",
       "        this.ws.close();\n",
       "    }\n",
       "\n",
       "    this.ws.onmessage = this._make_on_message_function(this);\n",
       "\n",
       "    this.ondownload = ondownload;\n",
       "}\n",
       "\n",
       "mpl.figure.prototype._init_header = function() {\n",
       "    var titlebar = $(\n",
       "        '<div class=\"ui-dialog-titlebar ui-widget-header ui-corner-all ' +\n",
       "        'ui-helper-clearfix\"/>');\n",
       "    var titletext = $(\n",
       "        '<div class=\"ui-dialog-title\" style=\"width: 100%; ' +\n",
       "        'text-align: center; padding: 3px;\"/>');\n",
       "    titlebar.append(titletext)\n",
       "    this.root.append(titlebar);\n",
       "    this.header = titletext[0];\n",
       "}\n",
       "\n",
       "\n",
       "\n",
       "mpl.figure.prototype._canvas_extra_style = function(canvas_div) {\n",
       "\n",
       "}\n",
       "\n",
       "\n",
       "mpl.figure.prototype._root_extra_style = function(canvas_div) {\n",
       "\n",
       "}\n",
       "\n",
       "mpl.figure.prototype._init_canvas = function() {\n",
       "    var fig = this;\n",
       "\n",
       "    var canvas_div = $('<div/>');\n",
       "\n",
       "    canvas_div.attr('style', 'position: relative; clear: both; outline: 0');\n",
       "\n",
       "    function canvas_keyboard_event(event) {\n",
       "        return fig.key_event(event, event['data']);\n",
       "    }\n",
       "\n",
       "    canvas_div.keydown('key_press', canvas_keyboard_event);\n",
       "    canvas_div.keyup('key_release', canvas_keyboard_event);\n",
       "    this.canvas_div = canvas_div\n",
       "    this._canvas_extra_style(canvas_div)\n",
       "    this.root.append(canvas_div);\n",
       "\n",
       "    var canvas = $('<canvas/>');\n",
       "    canvas.addClass('mpl-canvas');\n",
       "    canvas.attr('style', \"left: 0; top: 0; z-index: 0; outline: 0\")\n",
       "\n",
       "    this.canvas = canvas[0];\n",
       "    this.context = canvas[0].getContext(\"2d\");\n",
       "\n",
       "    var backingStore = this.context.backingStorePixelRatio ||\n",
       "\tthis.context.webkitBackingStorePixelRatio ||\n",
       "\tthis.context.mozBackingStorePixelRatio ||\n",
       "\tthis.context.msBackingStorePixelRatio ||\n",
       "\tthis.context.oBackingStorePixelRatio ||\n",
       "\tthis.context.backingStorePixelRatio || 1;\n",
       "\n",
       "    mpl.ratio = (window.devicePixelRatio || 1) / backingStore;\n",
       "\n",
       "    var rubberband = $('<canvas/>');\n",
       "    rubberband.attr('style', \"position: absolute; left: 0; top: 0; z-index: 1;\")\n",
       "\n",
       "    var pass_mouse_events = true;\n",
       "\n",
       "    canvas_div.resizable({\n",
       "        start: function(event, ui) {\n",
       "            pass_mouse_events = false;\n",
       "        },\n",
       "        resize: function(event, ui) {\n",
       "            fig.request_resize(ui.size.width, ui.size.height);\n",
       "        },\n",
       "        stop: function(event, ui) {\n",
       "            pass_mouse_events = true;\n",
       "            fig.request_resize(ui.size.width, ui.size.height);\n",
       "        },\n",
       "    });\n",
       "\n",
       "    function mouse_event_fn(event) {\n",
       "        if (pass_mouse_events)\n",
       "            return fig.mouse_event(event, event['data']);\n",
       "    }\n",
       "\n",
       "    rubberband.mousedown('button_press', mouse_event_fn);\n",
       "    rubberband.mouseup('button_release', mouse_event_fn);\n",
       "    // Throttle sequential mouse events to 1 every 20ms.\n",
       "    rubberband.mousemove('motion_notify', mouse_event_fn);\n",
       "\n",
       "    rubberband.mouseenter('figure_enter', mouse_event_fn);\n",
       "    rubberband.mouseleave('figure_leave', mouse_event_fn);\n",
       "\n",
       "    canvas_div.on(\"wheel\", function (event) {\n",
       "        event = event.originalEvent;\n",
       "        event['data'] = 'scroll'\n",
       "        if (event.deltaY < 0) {\n",
       "            event.step = 1;\n",
       "        } else {\n",
       "            event.step = -1;\n",
       "        }\n",
       "        mouse_event_fn(event);\n",
       "    });\n",
       "\n",
       "    canvas_div.append(canvas);\n",
       "    canvas_div.append(rubberband);\n",
       "\n",
       "    this.rubberband = rubberband;\n",
       "    this.rubberband_canvas = rubberband[0];\n",
       "    this.rubberband_context = rubberband[0].getContext(\"2d\");\n",
       "    this.rubberband_context.strokeStyle = \"#000000\";\n",
       "\n",
       "    this._resize_canvas = function(width, height) {\n",
       "        // Keep the size of the canvas, canvas container, and rubber band\n",
       "        // canvas in synch.\n",
       "        canvas_div.css('width', width)\n",
       "        canvas_div.css('height', height)\n",
       "\n",
       "        canvas.attr('width', width * mpl.ratio);\n",
       "        canvas.attr('height', height * mpl.ratio);\n",
       "        canvas.attr('style', 'width: ' + width + 'px; height: ' + height + 'px;');\n",
       "\n",
       "        rubberband.attr('width', width);\n",
       "        rubberband.attr('height', height);\n",
       "    }\n",
       "\n",
       "    // Set the figure to an initial 600x600px, this will subsequently be updated\n",
       "    // upon first draw.\n",
       "    this._resize_canvas(600, 600);\n",
       "\n",
       "    // Disable right mouse context menu.\n",
       "    $(this.rubberband_canvas).bind(\"contextmenu\",function(e){\n",
       "        return false;\n",
       "    });\n",
       "\n",
       "    function set_focus () {\n",
       "        canvas.focus();\n",
       "        canvas_div.focus();\n",
       "    }\n",
       "\n",
       "    window.setTimeout(set_focus, 100);\n",
       "}\n",
       "\n",
       "mpl.figure.prototype._init_toolbar = function() {\n",
       "    var fig = this;\n",
       "\n",
       "    var nav_element = $('<div/>')\n",
       "    nav_element.attr('style', 'width: 100%');\n",
       "    this.root.append(nav_element);\n",
       "\n",
       "    // Define a callback function for later on.\n",
       "    function toolbar_event(event) {\n",
       "        return fig.toolbar_button_onclick(event['data']);\n",
       "    }\n",
       "    function toolbar_mouse_event(event) {\n",
       "        return fig.toolbar_button_onmouseover(event['data']);\n",
       "    }\n",
       "\n",
       "    for(var toolbar_ind in mpl.toolbar_items) {\n",
       "        var name = mpl.toolbar_items[toolbar_ind][0];\n",
       "        var tooltip = mpl.toolbar_items[toolbar_ind][1];\n",
       "        var image = mpl.toolbar_items[toolbar_ind][2];\n",
       "        var method_name = mpl.toolbar_items[toolbar_ind][3];\n",
       "\n",
       "        if (!name) {\n",
       "            // put a spacer in here.\n",
       "            continue;\n",
       "        }\n",
       "        var button = $('<button/>');\n",
       "        button.addClass('ui-button ui-widget ui-state-default ui-corner-all ' +\n",
       "                        'ui-button-icon-only');\n",
       "        button.attr('role', 'button');\n",
       "        button.attr('aria-disabled', 'false');\n",
       "        button.click(method_name, toolbar_event);\n",
       "        button.mouseover(tooltip, toolbar_mouse_event);\n",
       "\n",
       "        var icon_img = $('<span/>');\n",
       "        icon_img.addClass('ui-button-icon-primary ui-icon');\n",
       "        icon_img.addClass(image);\n",
       "        icon_img.addClass('ui-corner-all');\n",
       "\n",
       "        var tooltip_span = $('<span/>');\n",
       "        tooltip_span.addClass('ui-button-text');\n",
       "        tooltip_span.html(tooltip);\n",
       "\n",
       "        button.append(icon_img);\n",
       "        button.append(tooltip_span);\n",
       "\n",
       "        nav_element.append(button);\n",
       "    }\n",
       "\n",
       "    var fmt_picker_span = $('<span/>');\n",
       "\n",
       "    var fmt_picker = $('<select/>');\n",
       "    fmt_picker.addClass('mpl-toolbar-option ui-widget ui-widget-content');\n",
       "    fmt_picker_span.append(fmt_picker);\n",
       "    nav_element.append(fmt_picker_span);\n",
       "    this.format_dropdown = fmt_picker[0];\n",
       "\n",
       "    for (var ind in mpl.extensions) {\n",
       "        var fmt = mpl.extensions[ind];\n",
       "        var option = $(\n",
       "            '<option/>', {selected: fmt === mpl.default_extension}).html(fmt);\n",
       "        fmt_picker.append(option)\n",
       "    }\n",
       "\n",
       "    // Add hover states to the ui-buttons\n",
       "    $( \".ui-button\" ).hover(\n",
       "        function() { $(this).addClass(\"ui-state-hover\");},\n",
       "        function() { $(this).removeClass(\"ui-state-hover\");}\n",
       "    );\n",
       "\n",
       "    var status_bar = $('<span class=\"mpl-message\"/>');\n",
       "    nav_element.append(status_bar);\n",
       "    this.message = status_bar[0];\n",
       "}\n",
       "\n",
       "mpl.figure.prototype.request_resize = function(x_pixels, y_pixels) {\n",
       "    // Request matplotlib to resize the figure. Matplotlib will then trigger a resize in the client,\n",
       "    // which will in turn request a refresh of the image.\n",
       "    this.send_message('resize', {'width': x_pixels, 'height': y_pixels});\n",
       "}\n",
       "\n",
       "mpl.figure.prototype.send_message = function(type, properties) {\n",
       "    properties['type'] = type;\n",
       "    properties['figure_id'] = this.id;\n",
       "    this.ws.send(JSON.stringify(properties));\n",
       "}\n",
       "\n",
       "mpl.figure.prototype.send_draw_message = function() {\n",
       "    if (!this.waiting) {\n",
       "        this.waiting = true;\n",
       "        this.ws.send(JSON.stringify({type: \"draw\", figure_id: this.id}));\n",
       "    }\n",
       "}\n",
       "\n",
       "\n",
       "mpl.figure.prototype.handle_save = function(fig, msg) {\n",
       "    var format_dropdown = fig.format_dropdown;\n",
       "    var format = format_dropdown.options[format_dropdown.selectedIndex].value;\n",
       "    fig.ondownload(fig, format);\n",
       "}\n",
       "\n",
       "\n",
       "mpl.figure.prototype.handle_resize = function(fig, msg) {\n",
       "    var size = msg['size'];\n",
       "    if (size[0] != fig.canvas.width || size[1] != fig.canvas.height) {\n",
       "        fig._resize_canvas(size[0], size[1]);\n",
       "        fig.send_message(\"refresh\", {});\n",
       "    };\n",
       "}\n",
       "\n",
       "mpl.figure.prototype.handle_rubberband = function(fig, msg) {\n",
       "    var x0 = msg['x0'] / mpl.ratio;\n",
       "    var y0 = (fig.canvas.height - msg['y0']) / mpl.ratio;\n",
       "    var x1 = msg['x1'] / mpl.ratio;\n",
       "    var y1 = (fig.canvas.height - msg['y1']) / mpl.ratio;\n",
       "    x0 = Math.floor(x0) + 0.5;\n",
       "    y0 = Math.floor(y0) + 0.5;\n",
       "    x1 = Math.floor(x1) + 0.5;\n",
       "    y1 = Math.floor(y1) + 0.5;\n",
       "    var min_x = Math.min(x0, x1);\n",
       "    var min_y = Math.min(y0, y1);\n",
       "    var width = Math.abs(x1 - x0);\n",
       "    var height = Math.abs(y1 - y0);\n",
       "\n",
       "    fig.rubberband_context.clearRect(\n",
       "        0, 0, fig.canvas.width, fig.canvas.height);\n",
       "\n",
       "    fig.rubberband_context.strokeRect(min_x, min_y, width, height);\n",
       "}\n",
       "\n",
       "mpl.figure.prototype.handle_figure_label = function(fig, msg) {\n",
       "    // Updates the figure title.\n",
       "    fig.header.textContent = msg['label'];\n",
       "}\n",
       "\n",
       "mpl.figure.prototype.handle_cursor = function(fig, msg) {\n",
       "    var cursor = msg['cursor'];\n",
       "    switch(cursor)\n",
       "    {\n",
       "    case 0:\n",
       "        cursor = 'pointer';\n",
       "        break;\n",
       "    case 1:\n",
       "        cursor = 'default';\n",
       "        break;\n",
       "    case 2:\n",
       "        cursor = 'crosshair';\n",
       "        break;\n",
       "    case 3:\n",
       "        cursor = 'move';\n",
       "        break;\n",
       "    }\n",
       "    fig.rubberband_canvas.style.cursor = cursor;\n",
       "}\n",
       "\n",
       "mpl.figure.prototype.handle_message = function(fig, msg) {\n",
       "    fig.message.textContent = msg['message'];\n",
       "}\n",
       "\n",
       "mpl.figure.prototype.handle_draw = function(fig, msg) {\n",
       "    // Request the server to send over a new figure.\n",
       "    fig.send_draw_message();\n",
       "}\n",
       "\n",
       "mpl.figure.prototype.handle_image_mode = function(fig, msg) {\n",
       "    fig.image_mode = msg['mode'];\n",
       "}\n",
       "\n",
       "mpl.figure.prototype.updated_canvas_event = function() {\n",
       "    // Called whenever the canvas gets updated.\n",
       "    this.send_message(\"ack\", {});\n",
       "}\n",
       "\n",
       "// A function to construct a web socket function for onmessage handling.\n",
       "// Called in the figure constructor.\n",
       "mpl.figure.prototype._make_on_message_function = function(fig) {\n",
       "    return function socket_on_message(evt) {\n",
       "        if (evt.data instanceof Blob) {\n",
       "            /* FIXME: We get \"Resource interpreted as Image but\n",
       "             * transferred with MIME type text/plain:\" errors on\n",
       "             * Chrome.  But how to set the MIME type?  It doesn't seem\n",
       "             * to be part of the websocket stream */\n",
       "            evt.data.type = \"image/png\";\n",
       "\n",
       "            /* Free the memory for the previous frames */\n",
       "            if (fig.imageObj.src) {\n",
       "                (window.URL || window.webkitURL).revokeObjectURL(\n",
       "                    fig.imageObj.src);\n",
       "            }\n",
       "\n",
       "            fig.imageObj.src = (window.URL || window.webkitURL).createObjectURL(\n",
       "                evt.data);\n",
       "            fig.updated_canvas_event();\n",
       "            fig.waiting = false;\n",
       "            return;\n",
       "        }\n",
       "        else if (typeof evt.data === 'string' && evt.data.slice(0, 21) == \"data:image/png;base64\") {\n",
       "            fig.imageObj.src = evt.data;\n",
       "            fig.updated_canvas_event();\n",
       "            fig.waiting = false;\n",
       "            return;\n",
       "        }\n",
       "\n",
       "        var msg = JSON.parse(evt.data);\n",
       "        var msg_type = msg['type'];\n",
       "\n",
       "        // Call the  \"handle_{type}\" callback, which takes\n",
       "        // the figure and JSON message as its only arguments.\n",
       "        try {\n",
       "            var callback = fig[\"handle_\" + msg_type];\n",
       "        } catch (e) {\n",
       "            console.log(\"No handler for the '\" + msg_type + \"' message type: \", msg);\n",
       "            return;\n",
       "        }\n",
       "\n",
       "        if (callback) {\n",
       "            try {\n",
       "                // console.log(\"Handling '\" + msg_type + \"' message: \", msg);\n",
       "                callback(fig, msg);\n",
       "            } catch (e) {\n",
       "                console.log(\"Exception inside the 'handler_\" + msg_type + \"' callback:\", e, e.stack, msg);\n",
       "            }\n",
       "        }\n",
       "    };\n",
       "}\n",
       "\n",
       "// from http://stackoverflow.com/questions/1114465/getting-mouse-location-in-canvas\n",
       "mpl.findpos = function(e) {\n",
       "    //this section is from http://www.quirksmode.org/js/events_properties.html\n",
       "    var targ;\n",
       "    if (!e)\n",
       "        e = window.event;\n",
       "    if (e.target)\n",
       "        targ = e.target;\n",
       "    else if (e.srcElement)\n",
       "        targ = e.srcElement;\n",
       "    if (targ.nodeType == 3) // defeat Safari bug\n",
       "        targ = targ.parentNode;\n",
       "\n",
       "    // jQuery normalizes the pageX and pageY\n",
       "    // pageX,Y are the mouse positions relative to the document\n",
       "    // offset() returns the position of the element relative to the document\n",
       "    var x = e.pageX - $(targ).offset().left;\n",
       "    var y = e.pageY - $(targ).offset().top;\n",
       "\n",
       "    return {\"x\": x, \"y\": y};\n",
       "};\n",
       "\n",
       "/*\n",
       " * return a copy of an object with only non-object keys\n",
       " * we need this to avoid circular references\n",
       " * http://stackoverflow.com/a/24161582/3208463\n",
       " */\n",
       "function simpleKeys (original) {\n",
       "  return Object.keys(original).reduce(function (obj, key) {\n",
       "    if (typeof original[key] !== 'object')\n",
       "        obj[key] = original[key]\n",
       "    return obj;\n",
       "  }, {});\n",
       "}\n",
       "\n",
       "mpl.figure.prototype.mouse_event = function(event, name) {\n",
       "    var canvas_pos = mpl.findpos(event)\n",
       "\n",
       "    if (name === 'button_press')\n",
       "    {\n",
       "        this.canvas.focus();\n",
       "        this.canvas_div.focus();\n",
       "    }\n",
       "\n",
       "    var x = canvas_pos.x * mpl.ratio;\n",
       "    var y = canvas_pos.y * mpl.ratio;\n",
       "\n",
       "    this.send_message(name, {x: x, y: y, button: event.button,\n",
       "                             step: event.step,\n",
       "                             guiEvent: simpleKeys(event)});\n",
       "\n",
       "    /* This prevents the web browser from automatically changing to\n",
       "     * the text insertion cursor when the button is pressed.  We want\n",
       "     * to control all of the cursor setting manually through the\n",
       "     * 'cursor' event from matplotlib */\n",
       "    event.preventDefault();\n",
       "    return false;\n",
       "}\n",
       "\n",
       "mpl.figure.prototype._key_event_extra = function(event, name) {\n",
       "    // Handle any extra behaviour associated with a key event\n",
       "}\n",
       "\n",
       "mpl.figure.prototype.key_event = function(event, name) {\n",
       "\n",
       "    // Prevent repeat events\n",
       "    if (name == 'key_press')\n",
       "    {\n",
       "        if (event.which === this._key)\n",
       "            return;\n",
       "        else\n",
       "            this._key = event.which;\n",
       "    }\n",
       "    if (name == 'key_release')\n",
       "        this._key = null;\n",
       "\n",
       "    var value = '';\n",
       "    if (event.ctrlKey && event.which != 17)\n",
       "        value += \"ctrl+\";\n",
       "    if (event.altKey && event.which != 18)\n",
       "        value += \"alt+\";\n",
       "    if (event.shiftKey && event.which != 16)\n",
       "        value += \"shift+\";\n",
       "\n",
       "    value += 'k';\n",
       "    value += event.which.toString();\n",
       "\n",
       "    this._key_event_extra(event, name);\n",
       "\n",
       "    this.send_message(name, {key: value,\n",
       "                             guiEvent: simpleKeys(event)});\n",
       "    return false;\n",
       "}\n",
       "\n",
       "mpl.figure.prototype.toolbar_button_onclick = function(name) {\n",
       "    if (name == 'download') {\n",
       "        this.handle_save(this, null);\n",
       "    } else {\n",
       "        this.send_message(\"toolbar_button\", {name: name});\n",
       "    }\n",
       "};\n",
       "\n",
       "mpl.figure.prototype.toolbar_button_onmouseover = function(tooltip) {\n",
       "    this.message.textContent = tooltip;\n",
       "};\n",
       "mpl.toolbar_items = [[\"Home\", \"Reset original view\", \"fa fa-home icon-home\", \"home\"], [\"Back\", \"Back to  previous view\", \"fa fa-arrow-left icon-arrow-left\", \"back\"], [\"Forward\", \"Forward to next view\", \"fa fa-arrow-right icon-arrow-right\", \"forward\"], [\"\", \"\", \"\", \"\"], [\"Pan\", \"Pan axes with left mouse, zoom with right\", \"fa fa-arrows icon-move\", \"pan\"], [\"Zoom\", \"Zoom to rectangle\", \"fa fa-square-o icon-check-empty\", \"zoom\"], [\"\", \"\", \"\", \"\"], [\"Download\", \"Download plot\", \"fa fa-floppy-o icon-save\", \"download\"]];\n",
       "\n",
       "mpl.extensions = [\"eps\", \"pdf\", \"png\", \"ps\", \"raw\", \"svg\"];\n",
       "\n",
       "mpl.default_extension = \"png\";var comm_websocket_adapter = function(comm) {\n",
       "    // Create a \"websocket\"-like object which calls the given IPython comm\n",
       "    // object with the appropriate methods. Currently this is a non binary\n",
       "    // socket, so there is still some room for performance tuning.\n",
       "    var ws = {};\n",
       "\n",
       "    ws.close = function() {\n",
       "        comm.close()\n",
       "    };\n",
       "    ws.send = function(m) {\n",
       "        //console.log('sending', m);\n",
       "        comm.send(m);\n",
       "    };\n",
       "    // Register the callback with on_msg.\n",
       "    comm.on_msg(function(msg) {\n",
       "        //console.log('receiving', msg['content']['data'], msg);\n",
       "        // Pass the mpl event to the overriden (by mpl) onmessage function.\n",
       "        ws.onmessage(msg['content']['data'])\n",
       "    });\n",
       "    return ws;\n",
       "}\n",
       "\n",
       "mpl.mpl_figure_comm = function(comm, msg) {\n",
       "    // This is the function which gets called when the mpl process\n",
       "    // starts-up an IPython Comm through the \"matplotlib\" channel.\n",
       "\n",
       "    var id = msg.content.data.id;\n",
       "    // Get hold of the div created by the display call when the Comm\n",
       "    // socket was opened in Python.\n",
       "    var element = $(\"#\" + id);\n",
       "    var ws_proxy = comm_websocket_adapter(comm)\n",
       "\n",
       "    function ondownload(figure, format) {\n",
       "        window.open(figure.imageObj.src);\n",
       "    }\n",
       "\n",
       "    var fig = new mpl.figure(id, ws_proxy,\n",
       "                           ondownload,\n",
       "                           element.get(0));\n",
       "\n",
       "    // Call onopen now - mpl needs it, as it is assuming we've passed it a real\n",
       "    // web socket which is closed, not our websocket->open comm proxy.\n",
       "    ws_proxy.onopen();\n",
       "\n",
       "    fig.parent_element = element.get(0);\n",
       "    fig.cell_info = mpl.find_output_cell(\"<div id='\" + id + \"'></div>\");\n",
       "    if (!fig.cell_info) {\n",
       "        console.error(\"Failed to find cell for figure\", id, fig);\n",
       "        return;\n",
       "    }\n",
       "\n",
       "    var output_index = fig.cell_info[2]\n",
       "    var cell = fig.cell_info[0];\n",
       "\n",
       "};\n",
       "\n",
       "mpl.figure.prototype.handle_close = function(fig, msg) {\n",
       "    var width = fig.canvas.width/mpl.ratio\n",
       "    fig.root.unbind('remove')\n",
       "\n",
       "    // Update the output cell to use the data from the current canvas.\n",
       "    fig.push_to_output();\n",
       "    var dataURL = fig.canvas.toDataURL();\n",
       "    // Re-enable the keyboard manager in IPython - without this line, in FF,\n",
       "    // the notebook keyboard shortcuts fail.\n",
       "    IPython.keyboard_manager.enable()\n",
       "    $(fig.parent_element).html('<img src=\"' + dataURL + '\" width=\"' + width + '\">');\n",
       "    fig.close_ws(fig, msg);\n",
       "}\n",
       "\n",
       "mpl.figure.prototype.close_ws = function(fig, msg){\n",
       "    fig.send_message('closing', msg);\n",
       "    // fig.ws.close()\n",
       "}\n",
       "\n",
       "mpl.figure.prototype.push_to_output = function(remove_interactive) {\n",
       "    // Turn the data on the canvas into data in the output cell.\n",
       "    var width = this.canvas.width/mpl.ratio\n",
       "    var dataURL = this.canvas.toDataURL();\n",
       "    this.cell_info[1]['text/html'] = '<img src=\"' + dataURL + '\" width=\"' + width + '\">';\n",
       "}\n",
       "\n",
       "mpl.figure.prototype.updated_canvas_event = function() {\n",
       "    // Tell IPython that the notebook contents must change.\n",
       "    IPython.notebook.set_dirty(true);\n",
       "    this.send_message(\"ack\", {});\n",
       "    var fig = this;\n",
       "    // Wait a second, then push the new image to the DOM so\n",
       "    // that it is saved nicely (might be nice to debounce this).\n",
       "    setTimeout(function () { fig.push_to_output() }, 1000);\n",
       "}\n",
       "\n",
       "mpl.figure.prototype._init_toolbar = function() {\n",
       "    var fig = this;\n",
       "\n",
       "    var nav_element = $('<div/>')\n",
       "    nav_element.attr('style', 'width: 100%');\n",
       "    this.root.append(nav_element);\n",
       "\n",
       "    // Define a callback function for later on.\n",
       "    function toolbar_event(event) {\n",
       "        return fig.toolbar_button_onclick(event['data']);\n",
       "    }\n",
       "    function toolbar_mouse_event(event) {\n",
       "        return fig.toolbar_button_onmouseover(event['data']);\n",
       "    }\n",
       "\n",
       "    for(var toolbar_ind in mpl.toolbar_items){\n",
       "        var name = mpl.toolbar_items[toolbar_ind][0];\n",
       "        var tooltip = mpl.toolbar_items[toolbar_ind][1];\n",
       "        var image = mpl.toolbar_items[toolbar_ind][2];\n",
       "        var method_name = mpl.toolbar_items[toolbar_ind][3];\n",
       "\n",
       "        if (!name) { continue; };\n",
       "\n",
       "        var button = $('<button class=\"btn btn-default\" href=\"#\" title=\"' + name + '\"><i class=\"fa ' + image + ' fa-lg\"></i></button>');\n",
       "        button.click(method_name, toolbar_event);\n",
       "        button.mouseover(tooltip, toolbar_mouse_event);\n",
       "        nav_element.append(button);\n",
       "    }\n",
       "\n",
       "    // Add the status bar.\n",
       "    var status_bar = $('<span class=\"mpl-message\" style=\"text-align:right; float: right;\"/>');\n",
       "    nav_element.append(status_bar);\n",
       "    this.message = status_bar[0];\n",
       "\n",
       "    // Add the close button to the window.\n",
       "    var buttongrp = $('<div class=\"btn-group inline pull-right\"></div>');\n",
       "    var button = $('<button class=\"btn btn-mini btn-primary\" href=\"#\" title=\"Stop Interaction\"><i class=\"fa fa-power-off icon-remove icon-large\"></i></button>');\n",
       "    button.click(function (evt) { fig.handle_close(fig, {}); } );\n",
       "    button.mouseover('Stop Interaction', toolbar_mouse_event);\n",
       "    buttongrp.append(button);\n",
       "    var titlebar = this.root.find($('.ui-dialog-titlebar'));\n",
       "    titlebar.prepend(buttongrp);\n",
       "}\n",
       "\n",
       "mpl.figure.prototype._root_extra_style = function(el){\n",
       "    var fig = this\n",
       "    el.on(\"remove\", function(){\n",
       "\tfig.close_ws(fig, {});\n",
       "    });\n",
       "}\n",
       "\n",
       "mpl.figure.prototype._canvas_extra_style = function(el){\n",
       "    // this is important to make the div 'focusable\n",
       "    el.attr('tabindex', 0)\n",
       "    // reach out to IPython and tell the keyboard manager to turn it's self\n",
       "    // off when our div gets focus\n",
       "\n",
       "    // location in version 3\n",
       "    if (IPython.notebook.keyboard_manager) {\n",
       "        IPython.notebook.keyboard_manager.register_events(el);\n",
       "    }\n",
       "    else {\n",
       "        // location in version 2\n",
       "        IPython.keyboard_manager.register_events(el);\n",
       "    }\n",
       "\n",
       "}\n",
       "\n",
       "mpl.figure.prototype._key_event_extra = function(event, name) {\n",
       "    var manager = IPython.notebook.keyboard_manager;\n",
       "    if (!manager)\n",
       "        manager = IPython.keyboard_manager;\n",
       "\n",
       "    // Check for shift+enter\n",
       "    if (event.shiftKey && event.which == 13) {\n",
       "        this.canvas_div.blur();\n",
       "        // select the cell after this one\n",
       "        var index = IPython.notebook.find_cell_index(this.cell_info[0]);\n",
       "        IPython.notebook.select(index + 1);\n",
       "    }\n",
       "}\n",
       "\n",
       "mpl.figure.prototype.handle_save = function(fig, msg) {\n",
       "    fig.ondownload(fig, null);\n",
       "}\n",
       "\n",
       "\n",
       "mpl.find_output_cell = function(html_output) {\n",
       "    // Return the cell and output element which can be found *uniquely* in the notebook.\n",
       "    // Note - this is a bit hacky, but it is done because the \"notebook_saving.Notebook\"\n",
       "    // IPython event is triggered only after the cells have been serialised, which for\n",
       "    // our purposes (turning an active figure into a static one), is too late.\n",
       "    var cells = IPython.notebook.get_cells();\n",
       "    var ncells = cells.length;\n",
       "    for (var i=0; i<ncells; i++) {\n",
       "        var cell = cells[i];\n",
       "        if (cell.cell_type === 'code'){\n",
       "            for (var j=0; j<cell.output_area.outputs.length; j++) {\n",
       "                var data = cell.output_area.outputs[j];\n",
       "                if (data.data) {\n",
       "                    // IPython >= 3 moved mimebundle to data attribute of output\n",
       "                    data = data.data;\n",
       "                }\n",
       "                if (data['text/html'] == html_output) {\n",
       "                    return [cell, data, j];\n",
       "                }\n",
       "            }\n",
       "        }\n",
       "    }\n",
       "}\n",
       "\n",
       "// Register the function which deals with the matplotlib target/channel.\n",
       "// The kernel may be null if the page has been refreshed.\n",
       "if (IPython.notebook.kernel != null) {\n",
       "    IPython.notebook.kernel.comm_manager.register_target('matplotlib', mpl.mpl_figure_comm);\n",
       "}\n"
      ],
      "text/plain": [
       "<IPython.core.display.Javascript object>"
      ]
     },
     "metadata": {},
     "output_type": "display_data"
    },
    {
     "data": {
      "text/html": [
       "<img src=\"data:image/png;base64,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\" width=\"639.6499809369451\">"
      ],
      "text/plain": [
       "<IPython.core.display.HTML object>"
      ]
     },
     "metadata": {},
     "output_type": "display_data"
    }
   ],
   "source": [
    "dd.plot(feature_field=None, gui='jupyter')"
   ]
  },
  {
   "cell_type": "markdown",
   "metadata": {},
   "source": [
    "## Conclusions\n",
    "\n",
    "* We can identify the taxa that colonize and persist, the ones that disappear forever in the middle of the period, and the ones that stochastically come and go, which is also reported in the original paper.\n",
    "* In addition, with convenient exploration of the data in heatmap, we find a set of sOTUs appear together in a group. This set is enriched with skin bacteria. We can hypothesize that this set is likely from skin and is a result of sample collecting protocol."
   ]
  },
  {
   "cell_type": "markdown",
   "metadata": {},
   "source": [
    "# Time Series tutorial 2: Eric Alm dataset\n",
    "\n",
    "This data set is from:\n",
    "David LA, Materna AC, Friedman J, Campos-Baptista MI, Blackburn MC, Perrotta A, Erdman SE and Alm EJ (2014) Host lifestyle affects human microbiota on daily timescales. Genome Biology, 15, R89.\n",
    "\n",
    "The raw data are reproccessed with [deblur method](https://github.com/biocore/deblur), which is published in [mSystem](http://msystems.asm.org/content/2/2/e00191-16)\n",
    "\n",
    "## Load data"
   ]
  },
  {
   "cell_type": "code",
   "execution_count": 26,
   "metadata": {
    "collapsed": false,
    "scrolled": true
   },
   "outputs": [
    {
     "name": "stdout",
     "output_type": "stream",
     "text": [
      "2017-03-14 15:36:55 INFO loaded 811 samples, 7289 observations\n"
     ]
    }
   ],
   "source": [
    "# we can also read into the generic `Experiment` object\n",
    "alm = ca.read('data/alm.biom','data/alm.samples.txt', normalize=10000)"
   ]
  },
  {
   "cell_type": "markdown",
   "metadata": {},
   "source": [
    "Get rid of the 'unknown' days and convert to number"
   ]
  },
  {
   "cell_type": "code",
   "execution_count": 27,
   "metadata": {
    "collapsed": true
   },
   "outputs": [],
   "source": [
    "alm.sample_metadata['collection_day'] = alm.sample_metadata.collection_day.replace('unknown', -1).astype(float)"
   ]
  },
  {
   "cell_type": "markdown",
   "metadata": {},
   "source": [
    "## `DonorA` was abroad days 71-122, let's add that info to sample metadata"
   ]
  },
  {
   "cell_type": "code",
   "execution_count": 28,
   "metadata": {
    "collapsed": false
   },
   "outputs": [],
   "source": [
    "alm.sample_metadata['travel'] = None\n",
    "alm.sample_metadata.loc[(alm.sample_metadata.host_subject_id == 'DonorA'),\n",
    "                        'travel'] = 'no'\n",
    "alm.sample_metadata.loc[(alm.sample_metadata.host_subject_id == 'DonorA') & \n",
    "                        (71 <= alm.sample_metadata.collection_day) &\n",
    "                        (alm.sample_metadata.collection_day <=122),\n",
    "                        'travel'] = 'yes'"
   ]
  },
  {
   "cell_type": "markdown",
   "metadata": {},
   "source": [
    "## Both donors had diarrhea at some time points - let's also add that info to sample metadata\n",
    "be careful with what you eat `:)`"
   ]
  },
  {
   "cell_type": "code",
   "execution_count": 29,
   "metadata": {
    "collapsed": true
   },
   "outputs": [],
   "source": [
    "# donor A had diarrhea during his/her travel\n",
    "alm.sample_metadata['diarrhea_donor_A'] = None\n",
    "# no diarrhea except for 2 periods ...\n",
    "alm.sample_metadata.loc[(alm.sample_metadata.host_subject_id == 'DonorA'),\n",
    "                        'diarrhea_donor_A'] = 'n'\n",
    "# 1st period of diarrhea\n",
    "alm.sample_metadata.loc[(alm.sample_metadata.host_subject_id == 'DonorA') & \n",
    "                        (80 <= alm.sample_metadata.collection_day) &\n",
    "                        (alm.sample_metadata.collection_day <=85),\n",
    "                        'diarrhea_donor_A'] = 'y'\n",
    "# 2nd period of diarrhea\n",
    "alm.sample_metadata.loc[(alm.sample_metadata.host_subject_id == 'DonorA') & \n",
    "                        (104 <= alm.sample_metadata.collection_day) &\n",
    "                        (alm.sample_metadata.collection_day <=113),\n",
    "                        'diarrhea_donor_A'] = 'y'\n"
   ]
  },
  {
   "cell_type": "markdown",
   "metadata": {},
   "source": [
    "__Donor B had diarrehea but from Salmonella infection instead of traveling__:"
   ]
  },
  {
   "cell_type": "code",
   "execution_count": 30,
   "metadata": {
    "collapsed": true
   },
   "outputs": [],
   "source": [
    "alm.sample_metadata['diarrhea_donor_B'] = None\n",
    "\n",
    "# before diarrhea\n",
    "alm.sample_metadata.loc[(alm.sample_metadata.host_subject_id == 'DonorB') & \n",
    "                        (151 > alm.sample_metadata.collection_day),\n",
    "                        'diarrhea_donor_B'] = 'n'\n",
    "# diarrhea\n",
    "alm.sample_metadata.loc[(alm.sample_metadata.host_subject_id == 'DonorB') & \n",
    "                        (151 <= alm.sample_metadata.collection_day) &\n",
    "                        (alm.sample_metadata.collection_day <=159),\n",
    "                        'diarrhea_donor_B'] = 'y'\n",
    "# after diarrhea\n",
    "alm.sample_metadata.loc[(alm.sample_metadata.host_subject_id == 'DonorB') & \n",
    "                        (alm.sample_metadata.collection_day > 159),\n",
    "                        'diarrhea_donor_B'] = 'n'"
   ]
  },
  {
   "cell_type": "markdown",
   "metadata": {},
   "source": [
    "## Take the fecal samples"
   ]
  },
  {
   "cell_type": "code",
   "execution_count": 31,
   "metadata": {
    "collapsed": false
   },
   "outputs": [
    {
     "data": {
      "text/plain": [
       "UBERON:feces     526\n",
       "UBERON:tongue    285\n",
       "Name: body_site, dtype: int64"
      ]
     },
     "execution_count": 31,
     "metadata": {},
     "output_type": "execute_result"
    }
   ],
   "source": [
    "alm.sample_metadata['body_site'].value_counts()"
   ]
  },
  {
   "cell_type": "code",
   "execution_count": 32,
   "metadata": {
    "collapsed": false
   },
   "outputs": [
    {
     "data": {
      "text/plain": [
       "Experiment alm.biom with 811 samples, 7289 features"
      ]
     },
     "execution_count": 32,
     "metadata": {},
     "output_type": "execute_result"
    }
   ],
   "source": [
    "alm.sort_samples('collection_day',inplace=True)\n",
    "alm.sort_samples('host_subject_id',inplace=True)"
   ]
  },
  {
   "cell_type": "code",
   "execution_count": 33,
   "metadata": {
    "collapsed": true
   },
   "outputs": [],
   "source": [
    "alm_feces = alm.filter_samples('body_site','UBERON:feces')\n",
    "alm_saliva = alm.filter_samples('body_site','UBERON:tongue')"
   ]
  },
  {
   "cell_type": "code",
   "execution_count": 34,
   "metadata": {
    "collapsed": false
   },
   "outputs": [
    {
     "name": "stdout",
     "output_type": "stream",
     "text": [
      "2017-03-14 15:36:58 INFO 908 remaining\n"
     ]
    },
    {
     "data": {
      "text/plain": [
       "Experiment alm.biom with 526 samples, 908 features"
      ]
     },
     "execution_count": 34,
     "metadata": {},
     "output_type": "execute_result"
    }
   ],
   "source": [
    "alm_feces.cluster_features(min_abundance=10,inplace=True)"
   ]
  },
  {
   "cell_type": "markdown",
   "metadata": {},
   "source": [
    "Let's plot it with color bars showing the travel and diarrhea status of samples:"
   ]
  },
  {
   "cell_type": "code",
   "execution_count": 35,
   "metadata": {
    "collapsed": false
   },
   "outputs": [
    {
     "data": {
      "application/javascript": [
       "/* Put everything inside the global mpl namespace */\n",
       "window.mpl = {};\n",
       "\n",
       "\n",
       "mpl.get_websocket_type = function() {\n",
       "    if (typeof(WebSocket) !== 'undefined') {\n",
       "        return WebSocket;\n",
       "    } else if (typeof(MozWebSocket) !== 'undefined') {\n",
       "        return MozWebSocket;\n",
       "    } else {\n",
       "        alert('Your browser does not have WebSocket support.' +\n",
       "              'Please try Chrome, Safari or Firefox ≥ 6. ' +\n",
       "              'Firefox 4 and 5 are also supported but you ' +\n",
       "              'have to enable WebSockets in about:config.');\n",
       "    };\n",
       "}\n",
       "\n",
       "mpl.figure = function(figure_id, websocket, ondownload, parent_element) {\n",
       "    this.id = figure_id;\n",
       "\n",
       "    this.ws = websocket;\n",
       "\n",
       "    this.supports_binary = (this.ws.binaryType != undefined);\n",
       "\n",
       "    if (!this.supports_binary) {\n",
       "        var warnings = document.getElementById(\"mpl-warnings\");\n",
       "        if (warnings) {\n",
       "            warnings.style.display = 'block';\n",
       "            warnings.textContent = (\n",
       "                \"This browser does not support binary websocket messages. \" +\n",
       "                    \"Performance may be slow.\");\n",
       "        }\n",
       "    }\n",
       "\n",
       "    this.imageObj = new Image();\n",
       "\n",
       "    this.context = undefined;\n",
       "    this.message = undefined;\n",
       "    this.canvas = undefined;\n",
       "    this.rubberband_canvas = undefined;\n",
       "    this.rubberband_context = undefined;\n",
       "    this.format_dropdown = undefined;\n",
       "\n",
       "    this.image_mode = 'full';\n",
       "\n",
       "    this.root = $('<div/>');\n",
       "    this._root_extra_style(this.root)\n",
       "    this.root.attr('style', 'display: inline-block');\n",
       "\n",
       "    $(parent_element).append(this.root);\n",
       "\n",
       "    this._init_header(this);\n",
       "    this._init_canvas(this);\n",
       "    this._init_toolbar(this);\n",
       "\n",
       "    var fig = this;\n",
       "\n",
       "    this.waiting = false;\n",
       "\n",
       "    this.ws.onopen =  function () {\n",
       "            fig.send_message(\"supports_binary\", {value: fig.supports_binary});\n",
       "            fig.send_message(\"send_image_mode\", {});\n",
       "            if (mpl.ratio != 1) {\n",
       "                fig.send_message(\"set_dpi_ratio\", {'dpi_ratio': mpl.ratio});\n",
       "            }\n",
       "            fig.send_message(\"refresh\", {});\n",
       "        }\n",
       "\n",
       "    this.imageObj.onload = function() {\n",
       "            if (fig.image_mode == 'full') {\n",
       "                // Full images could contain transparency (where diff images\n",
       "                // almost always do), so we need to clear the canvas so that\n",
       "                // there is no ghosting.\n",
       "                fig.context.clearRect(0, 0, fig.canvas.width, fig.canvas.height);\n",
       "            }\n",
       "            fig.context.drawImage(fig.imageObj, 0, 0);\n",
       "        };\n",
       "\n",
       "    this.imageObj.onunload = function() {\n",
       "        this.ws.close();\n",
       "    }\n",
       "\n",
       "    this.ws.onmessage = this._make_on_message_function(this);\n",
       "\n",
       "    this.ondownload = ondownload;\n",
       "}\n",
       "\n",
       "mpl.figure.prototype._init_header = function() {\n",
       "    var titlebar = $(\n",
       "        '<div class=\"ui-dialog-titlebar ui-widget-header ui-corner-all ' +\n",
       "        'ui-helper-clearfix\"/>');\n",
       "    var titletext = $(\n",
       "        '<div class=\"ui-dialog-title\" style=\"width: 100%; ' +\n",
       "        'text-align: center; padding: 3px;\"/>');\n",
       "    titlebar.append(titletext)\n",
       "    this.root.append(titlebar);\n",
       "    this.header = titletext[0];\n",
       "}\n",
       "\n",
       "\n",
       "\n",
       "mpl.figure.prototype._canvas_extra_style = function(canvas_div) {\n",
       "\n",
       "}\n",
       "\n",
       "\n",
       "mpl.figure.prototype._root_extra_style = function(canvas_div) {\n",
       "\n",
       "}\n",
       "\n",
       "mpl.figure.prototype._init_canvas = function() {\n",
       "    var fig = this;\n",
       "\n",
       "    var canvas_div = $('<div/>');\n",
       "\n",
       "    canvas_div.attr('style', 'position: relative; clear: both; outline: 0');\n",
       "\n",
       "    function canvas_keyboard_event(event) {\n",
       "        return fig.key_event(event, event['data']);\n",
       "    }\n",
       "\n",
       "    canvas_div.keydown('key_press', canvas_keyboard_event);\n",
       "    canvas_div.keyup('key_release', canvas_keyboard_event);\n",
       "    this.canvas_div = canvas_div\n",
       "    this._canvas_extra_style(canvas_div)\n",
       "    this.root.append(canvas_div);\n",
       "\n",
       "    var canvas = $('<canvas/>');\n",
       "    canvas.addClass('mpl-canvas');\n",
       "    canvas.attr('style', \"left: 0; top: 0; z-index: 0; outline: 0\")\n",
       "\n",
       "    this.canvas = canvas[0];\n",
       "    this.context = canvas[0].getContext(\"2d\");\n",
       "\n",
       "    var backingStore = this.context.backingStorePixelRatio ||\n",
       "\tthis.context.webkitBackingStorePixelRatio ||\n",
       "\tthis.context.mozBackingStorePixelRatio ||\n",
       "\tthis.context.msBackingStorePixelRatio ||\n",
       "\tthis.context.oBackingStorePixelRatio ||\n",
       "\tthis.context.backingStorePixelRatio || 1;\n",
       "\n",
       "    mpl.ratio = (window.devicePixelRatio || 1) / backingStore;\n",
       "\n",
       "    var rubberband = $('<canvas/>');\n",
       "    rubberband.attr('style', \"position: absolute; left: 0; top: 0; z-index: 1;\")\n",
       "\n",
       "    var pass_mouse_events = true;\n",
       "\n",
       "    canvas_div.resizable({\n",
       "        start: function(event, ui) {\n",
       "            pass_mouse_events = false;\n",
       "        },\n",
       "        resize: function(event, ui) {\n",
       "            fig.request_resize(ui.size.width, ui.size.height);\n",
       "        },\n",
       "        stop: function(event, ui) {\n",
       "            pass_mouse_events = true;\n",
       "            fig.request_resize(ui.size.width, ui.size.height);\n",
       "        },\n",
       "    });\n",
       "\n",
       "    function mouse_event_fn(event) {\n",
       "        if (pass_mouse_events)\n",
       "            return fig.mouse_event(event, event['data']);\n",
       "    }\n",
       "\n",
       "    rubberband.mousedown('button_press', mouse_event_fn);\n",
       "    rubberband.mouseup('button_release', mouse_event_fn);\n",
       "    // Throttle sequential mouse events to 1 every 20ms.\n",
       "    rubberband.mousemove('motion_notify', mouse_event_fn);\n",
       "\n",
       "    rubberband.mouseenter('figure_enter', mouse_event_fn);\n",
       "    rubberband.mouseleave('figure_leave', mouse_event_fn);\n",
       "\n",
       "    canvas_div.on(\"wheel\", function (event) {\n",
       "        event = event.originalEvent;\n",
       "        event['data'] = 'scroll'\n",
       "        if (event.deltaY < 0) {\n",
       "            event.step = 1;\n",
       "        } else {\n",
       "            event.step = -1;\n",
       "        }\n",
       "        mouse_event_fn(event);\n",
       "    });\n",
       "\n",
       "    canvas_div.append(canvas);\n",
       "    canvas_div.append(rubberband);\n",
       "\n",
       "    this.rubberband = rubberband;\n",
       "    this.rubberband_canvas = rubberband[0];\n",
       "    this.rubberband_context = rubberband[0].getContext(\"2d\");\n",
       "    this.rubberband_context.strokeStyle = \"#000000\";\n",
       "\n",
       "    this._resize_canvas = function(width, height) {\n",
       "        // Keep the size of the canvas, canvas container, and rubber band\n",
       "        // canvas in synch.\n",
       "        canvas_div.css('width', width)\n",
       "        canvas_div.css('height', height)\n",
       "\n",
       "        canvas.attr('width', width * mpl.ratio);\n",
       "        canvas.attr('height', height * mpl.ratio);\n",
       "        canvas.attr('style', 'width: ' + width + 'px; height: ' + height + 'px;');\n",
       "\n",
       "        rubberband.attr('width', width);\n",
       "        rubberband.attr('height', height);\n",
       "    }\n",
       "\n",
       "    // Set the figure to an initial 600x600px, this will subsequently be updated\n",
       "    // upon first draw.\n",
       "    this._resize_canvas(600, 600);\n",
       "\n",
       "    // Disable right mouse context menu.\n",
       "    $(this.rubberband_canvas).bind(\"contextmenu\",function(e){\n",
       "        return false;\n",
       "    });\n",
       "\n",
       "    function set_focus () {\n",
       "        canvas.focus();\n",
       "        canvas_div.focus();\n",
       "    }\n",
       "\n",
       "    window.setTimeout(set_focus, 100);\n",
       "}\n",
       "\n",
       "mpl.figure.prototype._init_toolbar = function() {\n",
       "    var fig = this;\n",
       "\n",
       "    var nav_element = $('<div/>')\n",
       "    nav_element.attr('style', 'width: 100%');\n",
       "    this.root.append(nav_element);\n",
       "\n",
       "    // Define a callback function for later on.\n",
       "    function toolbar_event(event) {\n",
       "        return fig.toolbar_button_onclick(event['data']);\n",
       "    }\n",
       "    function toolbar_mouse_event(event) {\n",
       "        return fig.toolbar_button_onmouseover(event['data']);\n",
       "    }\n",
       "\n",
       "    for(var toolbar_ind in mpl.toolbar_items) {\n",
       "        var name = mpl.toolbar_items[toolbar_ind][0];\n",
       "        var tooltip = mpl.toolbar_items[toolbar_ind][1];\n",
       "        var image = mpl.toolbar_items[toolbar_ind][2];\n",
       "        var method_name = mpl.toolbar_items[toolbar_ind][3];\n",
       "\n",
       "        if (!name) {\n",
       "            // put a spacer in here.\n",
       "            continue;\n",
       "        }\n",
       "        var button = $('<button/>');\n",
       "        button.addClass('ui-button ui-widget ui-state-default ui-corner-all ' +\n",
       "                        'ui-button-icon-only');\n",
       "        button.attr('role', 'button');\n",
       "        button.attr('aria-disabled', 'false');\n",
       "        button.click(method_name, toolbar_event);\n",
       "        button.mouseover(tooltip, toolbar_mouse_event);\n",
       "\n",
       "        var icon_img = $('<span/>');\n",
       "        icon_img.addClass('ui-button-icon-primary ui-icon');\n",
       "        icon_img.addClass(image);\n",
       "        icon_img.addClass('ui-corner-all');\n",
       "\n",
       "        var tooltip_span = $('<span/>');\n",
       "        tooltip_span.addClass('ui-button-text');\n",
       "        tooltip_span.html(tooltip);\n",
       "\n",
       "        button.append(icon_img);\n",
       "        button.append(tooltip_span);\n",
       "\n",
       "        nav_element.append(button);\n",
       "    }\n",
       "\n",
       "    var fmt_picker_span = $('<span/>');\n",
       "\n",
       "    var fmt_picker = $('<select/>');\n",
       "    fmt_picker.addClass('mpl-toolbar-option ui-widget ui-widget-content');\n",
       "    fmt_picker_span.append(fmt_picker);\n",
       "    nav_element.append(fmt_picker_span);\n",
       "    this.format_dropdown = fmt_picker[0];\n",
       "\n",
       "    for (var ind in mpl.extensions) {\n",
       "        var fmt = mpl.extensions[ind];\n",
       "        var option = $(\n",
       "            '<option/>', {selected: fmt === mpl.default_extension}).html(fmt);\n",
       "        fmt_picker.append(option)\n",
       "    }\n",
       "\n",
       "    // Add hover states to the ui-buttons\n",
       "    $( \".ui-button\" ).hover(\n",
       "        function() { $(this).addClass(\"ui-state-hover\");},\n",
       "        function() { $(this).removeClass(\"ui-state-hover\");}\n",
       "    );\n",
       "\n",
       "    var status_bar = $('<span class=\"mpl-message\"/>');\n",
       "    nav_element.append(status_bar);\n",
       "    this.message = status_bar[0];\n",
       "}\n",
       "\n",
       "mpl.figure.prototype.request_resize = function(x_pixels, y_pixels) {\n",
       "    // Request matplotlib to resize the figure. Matplotlib will then trigger a resize in the client,\n",
       "    // which will in turn request a refresh of the image.\n",
       "    this.send_message('resize', {'width': x_pixels, 'height': y_pixels});\n",
       "}\n",
       "\n",
       "mpl.figure.prototype.send_message = function(type, properties) {\n",
       "    properties['type'] = type;\n",
       "    properties['figure_id'] = this.id;\n",
       "    this.ws.send(JSON.stringify(properties));\n",
       "}\n",
       "\n",
       "mpl.figure.prototype.send_draw_message = function() {\n",
       "    if (!this.waiting) {\n",
       "        this.waiting = true;\n",
       "        this.ws.send(JSON.stringify({type: \"draw\", figure_id: this.id}));\n",
       "    }\n",
       "}\n",
       "\n",
       "\n",
       "mpl.figure.prototype.handle_save = function(fig, msg) {\n",
       "    var format_dropdown = fig.format_dropdown;\n",
       "    var format = format_dropdown.options[format_dropdown.selectedIndex].value;\n",
       "    fig.ondownload(fig, format);\n",
       "}\n",
       "\n",
       "\n",
       "mpl.figure.prototype.handle_resize = function(fig, msg) {\n",
       "    var size = msg['size'];\n",
       "    if (size[0] != fig.canvas.width || size[1] != fig.canvas.height) {\n",
       "        fig._resize_canvas(size[0], size[1]);\n",
       "        fig.send_message(\"refresh\", {});\n",
       "    };\n",
       "}\n",
       "\n",
       "mpl.figure.prototype.handle_rubberband = function(fig, msg) {\n",
       "    var x0 = msg['x0'] / mpl.ratio;\n",
       "    var y0 = (fig.canvas.height - msg['y0']) / mpl.ratio;\n",
       "    var x1 = msg['x1'] / mpl.ratio;\n",
       "    var y1 = (fig.canvas.height - msg['y1']) / mpl.ratio;\n",
       "    x0 = Math.floor(x0) + 0.5;\n",
       "    y0 = Math.floor(y0) + 0.5;\n",
       "    x1 = Math.floor(x1) + 0.5;\n",
       "    y1 = Math.floor(y1) + 0.5;\n",
       "    var min_x = Math.min(x0, x1);\n",
       "    var min_y = Math.min(y0, y1);\n",
       "    var width = Math.abs(x1 - x0);\n",
       "    var height = Math.abs(y1 - y0);\n",
       "\n",
       "    fig.rubberband_context.clearRect(\n",
       "        0, 0, fig.canvas.width, fig.canvas.height);\n",
       "\n",
       "    fig.rubberband_context.strokeRect(min_x, min_y, width, height);\n",
       "}\n",
       "\n",
       "mpl.figure.prototype.handle_figure_label = function(fig, msg) {\n",
       "    // Updates the figure title.\n",
       "    fig.header.textContent = msg['label'];\n",
       "}\n",
       "\n",
       "mpl.figure.prototype.handle_cursor = function(fig, msg) {\n",
       "    var cursor = msg['cursor'];\n",
       "    switch(cursor)\n",
       "    {\n",
       "    case 0:\n",
       "        cursor = 'pointer';\n",
       "        break;\n",
       "    case 1:\n",
       "        cursor = 'default';\n",
       "        break;\n",
       "    case 2:\n",
       "        cursor = 'crosshair';\n",
       "        break;\n",
       "    case 3:\n",
       "        cursor = 'move';\n",
       "        break;\n",
       "    }\n",
       "    fig.rubberband_canvas.style.cursor = cursor;\n",
       "}\n",
       "\n",
       "mpl.figure.prototype.handle_message = function(fig, msg) {\n",
       "    fig.message.textContent = msg['message'];\n",
       "}\n",
       "\n",
       "mpl.figure.prototype.handle_draw = function(fig, msg) {\n",
       "    // Request the server to send over a new figure.\n",
       "    fig.send_draw_message();\n",
       "}\n",
       "\n",
       "mpl.figure.prototype.handle_image_mode = function(fig, msg) {\n",
       "    fig.image_mode = msg['mode'];\n",
       "}\n",
       "\n",
       "mpl.figure.prototype.updated_canvas_event = function() {\n",
       "    // Called whenever the canvas gets updated.\n",
       "    this.send_message(\"ack\", {});\n",
       "}\n",
       "\n",
       "// A function to construct a web socket function for onmessage handling.\n",
       "// Called in the figure constructor.\n",
       "mpl.figure.prototype._make_on_message_function = function(fig) {\n",
       "    return function socket_on_message(evt) {\n",
       "        if (evt.data instanceof Blob) {\n",
       "            /* FIXME: We get \"Resource interpreted as Image but\n",
       "             * transferred with MIME type text/plain:\" errors on\n",
       "             * Chrome.  But how to set the MIME type?  It doesn't seem\n",
       "             * to be part of the websocket stream */\n",
       "            evt.data.type = \"image/png\";\n",
       "\n",
       "            /* Free the memory for the previous frames */\n",
       "            if (fig.imageObj.src) {\n",
       "                (window.URL || window.webkitURL).revokeObjectURL(\n",
       "                    fig.imageObj.src);\n",
       "            }\n",
       "\n",
       "            fig.imageObj.src = (window.URL || window.webkitURL).createObjectURL(\n",
       "                evt.data);\n",
       "            fig.updated_canvas_event();\n",
       "            fig.waiting = false;\n",
       "            return;\n",
       "        }\n",
       "        else if (typeof evt.data === 'string' && evt.data.slice(0, 21) == \"data:image/png;base64\") {\n",
       "            fig.imageObj.src = evt.data;\n",
       "            fig.updated_canvas_event();\n",
       "            fig.waiting = false;\n",
       "            return;\n",
       "        }\n",
       "\n",
       "        var msg = JSON.parse(evt.data);\n",
       "        var msg_type = msg['type'];\n",
       "\n",
       "        // Call the  \"handle_{type}\" callback, which takes\n",
       "        // the figure and JSON message as its only arguments.\n",
       "        try {\n",
       "            var callback = fig[\"handle_\" + msg_type];\n",
       "        } catch (e) {\n",
       "            console.log(\"No handler for the '\" + msg_type + \"' message type: \", msg);\n",
       "            return;\n",
       "        }\n",
       "\n",
       "        if (callback) {\n",
       "            try {\n",
       "                // console.log(\"Handling '\" + msg_type + \"' message: \", msg);\n",
       "                callback(fig, msg);\n",
       "            } catch (e) {\n",
       "                console.log(\"Exception inside the 'handler_\" + msg_type + \"' callback:\", e, e.stack, msg);\n",
       "            }\n",
       "        }\n",
       "    };\n",
       "}\n",
       "\n",
       "// from http://stackoverflow.com/questions/1114465/getting-mouse-location-in-canvas\n",
       "mpl.findpos = function(e) {\n",
       "    //this section is from http://www.quirksmode.org/js/events_properties.html\n",
       "    var targ;\n",
       "    if (!e)\n",
       "        e = window.event;\n",
       "    if (e.target)\n",
       "        targ = e.target;\n",
       "    else if (e.srcElement)\n",
       "        targ = e.srcElement;\n",
       "    if (targ.nodeType == 3) // defeat Safari bug\n",
       "        targ = targ.parentNode;\n",
       "\n",
       "    // jQuery normalizes the pageX and pageY\n",
       "    // pageX,Y are the mouse positions relative to the document\n",
       "    // offset() returns the position of the element relative to the document\n",
       "    var x = e.pageX - $(targ).offset().left;\n",
       "    var y = e.pageY - $(targ).offset().top;\n",
       "\n",
       "    return {\"x\": x, \"y\": y};\n",
       "};\n",
       "\n",
       "/*\n",
       " * return a copy of an object with only non-object keys\n",
       " * we need this to avoid circular references\n",
       " * http://stackoverflow.com/a/24161582/3208463\n",
       " */\n",
       "function simpleKeys (original) {\n",
       "  return Object.keys(original).reduce(function (obj, key) {\n",
       "    if (typeof original[key] !== 'object')\n",
       "        obj[key] = original[key]\n",
       "    return obj;\n",
       "  }, {});\n",
       "}\n",
       "\n",
       "mpl.figure.prototype.mouse_event = function(event, name) {\n",
       "    var canvas_pos = mpl.findpos(event)\n",
       "\n",
       "    if (name === 'button_press')\n",
       "    {\n",
       "        this.canvas.focus();\n",
       "        this.canvas_div.focus();\n",
       "    }\n",
       "\n",
       "    var x = canvas_pos.x * mpl.ratio;\n",
       "    var y = canvas_pos.y * mpl.ratio;\n",
       "\n",
       "    this.send_message(name, {x: x, y: y, button: event.button,\n",
       "                             step: event.step,\n",
       "                             guiEvent: simpleKeys(event)});\n",
       "\n",
       "    /* This prevents the web browser from automatically changing to\n",
       "     * the text insertion cursor when the button is pressed.  We want\n",
       "     * to control all of the cursor setting manually through the\n",
       "     * 'cursor' event from matplotlib */\n",
       "    event.preventDefault();\n",
       "    return false;\n",
       "}\n",
       "\n",
       "mpl.figure.prototype._key_event_extra = function(event, name) {\n",
       "    // Handle any extra behaviour associated with a key event\n",
       "}\n",
       "\n",
       "mpl.figure.prototype.key_event = function(event, name) {\n",
       "\n",
       "    // Prevent repeat events\n",
       "    if (name == 'key_press')\n",
       "    {\n",
       "        if (event.which === this._key)\n",
       "            return;\n",
       "        else\n",
       "            this._key = event.which;\n",
       "    }\n",
       "    if (name == 'key_release')\n",
       "        this._key = null;\n",
       "\n",
       "    var value = '';\n",
       "    if (event.ctrlKey && event.which != 17)\n",
       "        value += \"ctrl+\";\n",
       "    if (event.altKey && event.which != 18)\n",
       "        value += \"alt+\";\n",
       "    if (event.shiftKey && event.which != 16)\n",
       "        value += \"shift+\";\n",
       "\n",
       "    value += 'k';\n",
       "    value += event.which.toString();\n",
       "\n",
       "    this._key_event_extra(event, name);\n",
       "\n",
       "    this.send_message(name, {key: value,\n",
       "                             guiEvent: simpleKeys(event)});\n",
       "    return false;\n",
       "}\n",
       "\n",
       "mpl.figure.prototype.toolbar_button_onclick = function(name) {\n",
       "    if (name == 'download') {\n",
       "        this.handle_save(this, null);\n",
       "    } else {\n",
       "        this.send_message(\"toolbar_button\", {name: name});\n",
       "    }\n",
       "};\n",
       "\n",
       "mpl.figure.prototype.toolbar_button_onmouseover = function(tooltip) {\n",
       "    this.message.textContent = tooltip;\n",
       "};\n",
       "mpl.toolbar_items = [[\"Home\", \"Reset original view\", \"fa fa-home icon-home\", \"home\"], [\"Back\", \"Back to  previous view\", \"fa fa-arrow-left icon-arrow-left\", \"back\"], [\"Forward\", \"Forward to next view\", \"fa fa-arrow-right icon-arrow-right\", \"forward\"], [\"\", \"\", \"\", \"\"], [\"Pan\", \"Pan axes with left mouse, zoom with right\", \"fa fa-arrows icon-move\", \"pan\"], [\"Zoom\", \"Zoom to rectangle\", \"fa fa-square-o icon-check-empty\", \"zoom\"], [\"\", \"\", \"\", \"\"], [\"Download\", \"Download plot\", \"fa fa-floppy-o icon-save\", \"download\"]];\n",
       "\n",
       "mpl.extensions = [\"eps\", \"pdf\", \"png\", \"ps\", \"raw\", \"svg\"];\n",
       "\n",
       "mpl.default_extension = \"png\";var comm_websocket_adapter = function(comm) {\n",
       "    // Create a \"websocket\"-like object which calls the given IPython comm\n",
       "    // object with the appropriate methods. Currently this is a non binary\n",
       "    // socket, so there is still some room for performance tuning.\n",
       "    var ws = {};\n",
       "\n",
       "    ws.close = function() {\n",
       "        comm.close()\n",
       "    };\n",
       "    ws.send = function(m) {\n",
       "        //console.log('sending', m);\n",
       "        comm.send(m);\n",
       "    };\n",
       "    // Register the callback with on_msg.\n",
       "    comm.on_msg(function(msg) {\n",
       "        //console.log('receiving', msg['content']['data'], msg);\n",
       "        // Pass the mpl event to the overriden (by mpl) onmessage function.\n",
       "        ws.onmessage(msg['content']['data'])\n",
       "    });\n",
       "    return ws;\n",
       "}\n",
       "\n",
       "mpl.mpl_figure_comm = function(comm, msg) {\n",
       "    // This is the function which gets called when the mpl process\n",
       "    // starts-up an IPython Comm through the \"matplotlib\" channel.\n",
       "\n",
       "    var id = msg.content.data.id;\n",
       "    // Get hold of the div created by the display call when the Comm\n",
       "    // socket was opened in Python.\n",
       "    var element = $(\"#\" + id);\n",
       "    var ws_proxy = comm_websocket_adapter(comm)\n",
       "\n",
       "    function ondownload(figure, format) {\n",
       "        window.open(figure.imageObj.src);\n",
       "    }\n",
       "\n",
       "    var fig = new mpl.figure(id, ws_proxy,\n",
       "                           ondownload,\n",
       "                           element.get(0));\n",
       "\n",
       "    // Call onopen now - mpl needs it, as it is assuming we've passed it a real\n",
       "    // web socket which is closed, not our websocket->open comm proxy.\n",
       "    ws_proxy.onopen();\n",
       "\n",
       "    fig.parent_element = element.get(0);\n",
       "    fig.cell_info = mpl.find_output_cell(\"<div id='\" + id + \"'></div>\");\n",
       "    if (!fig.cell_info) {\n",
       "        console.error(\"Failed to find cell for figure\", id, fig);\n",
       "        return;\n",
       "    }\n",
       "\n",
       "    var output_index = fig.cell_info[2]\n",
       "    var cell = fig.cell_info[0];\n",
       "\n",
       "};\n",
       "\n",
       "mpl.figure.prototype.handle_close = function(fig, msg) {\n",
       "    var width = fig.canvas.width/mpl.ratio\n",
       "    fig.root.unbind('remove')\n",
       "\n",
       "    // Update the output cell to use the data from the current canvas.\n",
       "    fig.push_to_output();\n",
       "    var dataURL = fig.canvas.toDataURL();\n",
       "    // Re-enable the keyboard manager in IPython - without this line, in FF,\n",
       "    // the notebook keyboard shortcuts fail.\n",
       "    IPython.keyboard_manager.enable()\n",
       "    $(fig.parent_element).html('<img src=\"' + dataURL + '\" width=\"' + width + '\">');\n",
       "    fig.close_ws(fig, msg);\n",
       "}\n",
       "\n",
       "mpl.figure.prototype.close_ws = function(fig, msg){\n",
       "    fig.send_message('closing', msg);\n",
       "    // fig.ws.close()\n",
       "}\n",
       "\n",
       "mpl.figure.prototype.push_to_output = function(remove_interactive) {\n",
       "    // Turn the data on the canvas into data in the output cell.\n",
       "    var width = this.canvas.width/mpl.ratio\n",
       "    var dataURL = this.canvas.toDataURL();\n",
       "    this.cell_info[1]['text/html'] = '<img src=\"' + dataURL + '\" width=\"' + width + '\">';\n",
       "}\n",
       "\n",
       "mpl.figure.prototype.updated_canvas_event = function() {\n",
       "    // Tell IPython that the notebook contents must change.\n",
       "    IPython.notebook.set_dirty(true);\n",
       "    this.send_message(\"ack\", {});\n",
       "    var fig = this;\n",
       "    // Wait a second, then push the new image to the DOM so\n",
       "    // that it is saved nicely (might be nice to debounce this).\n",
       "    setTimeout(function () { fig.push_to_output() }, 1000);\n",
       "}\n",
       "\n",
       "mpl.figure.prototype._init_toolbar = function() {\n",
       "    var fig = this;\n",
       "\n",
       "    var nav_element = $('<div/>')\n",
       "    nav_element.attr('style', 'width: 100%');\n",
       "    this.root.append(nav_element);\n",
       "\n",
       "    // Define a callback function for later on.\n",
       "    function toolbar_event(event) {\n",
       "        return fig.toolbar_button_onclick(event['data']);\n",
       "    }\n",
       "    function toolbar_mouse_event(event) {\n",
       "        return fig.toolbar_button_onmouseover(event['data']);\n",
       "    }\n",
       "\n",
       "    for(var toolbar_ind in mpl.toolbar_items){\n",
       "        var name = mpl.toolbar_items[toolbar_ind][0];\n",
       "        var tooltip = mpl.toolbar_items[toolbar_ind][1];\n",
       "        var image = mpl.toolbar_items[toolbar_ind][2];\n",
       "        var method_name = mpl.toolbar_items[toolbar_ind][3];\n",
       "\n",
       "        if (!name) { continue; };\n",
       "\n",
       "        var button = $('<button class=\"btn btn-default\" href=\"#\" title=\"' + name + '\"><i class=\"fa ' + image + ' fa-lg\"></i></button>');\n",
       "        button.click(method_name, toolbar_event);\n",
       "        button.mouseover(tooltip, toolbar_mouse_event);\n",
       "        nav_element.append(button);\n",
       "    }\n",
       "\n",
       "    // Add the status bar.\n",
       "    var status_bar = $('<span class=\"mpl-message\" style=\"text-align:right; float: right;\"/>');\n",
       "    nav_element.append(status_bar);\n",
       "    this.message = status_bar[0];\n",
       "\n",
       "    // Add the close button to the window.\n",
       "    var buttongrp = $('<div class=\"btn-group inline pull-right\"></div>');\n",
       "    var button = $('<button class=\"btn btn-mini btn-primary\" href=\"#\" title=\"Stop Interaction\"><i class=\"fa fa-power-off icon-remove icon-large\"></i></button>');\n",
       "    button.click(function (evt) { fig.handle_close(fig, {}); } );\n",
       "    button.mouseover('Stop Interaction', toolbar_mouse_event);\n",
       "    buttongrp.append(button);\n",
       "    var titlebar = this.root.find($('.ui-dialog-titlebar'));\n",
       "    titlebar.prepend(buttongrp);\n",
       "}\n",
       "\n",
       "mpl.figure.prototype._root_extra_style = function(el){\n",
       "    var fig = this\n",
       "    el.on(\"remove\", function(){\n",
       "\tfig.close_ws(fig, {});\n",
       "    });\n",
       "}\n",
       "\n",
       "mpl.figure.prototype._canvas_extra_style = function(el){\n",
       "    // this is important to make the div 'focusable\n",
       "    el.attr('tabindex', 0)\n",
       "    // reach out to IPython and tell the keyboard manager to turn it's self\n",
       "    // off when our div gets focus\n",
       "\n",
       "    // location in version 3\n",
       "    if (IPython.notebook.keyboard_manager) {\n",
       "        IPython.notebook.keyboard_manager.register_events(el);\n",
       "    }\n",
       "    else {\n",
       "        // location in version 2\n",
       "        IPython.keyboard_manager.register_events(el);\n",
       "    }\n",
       "\n",
       "}\n",
       "\n",
       "mpl.figure.prototype._key_event_extra = function(event, name) {\n",
       "    var manager = IPython.notebook.keyboard_manager;\n",
       "    if (!manager)\n",
       "        manager = IPython.keyboard_manager;\n",
       "\n",
       "    // Check for shift+enter\n",
       "    if (event.shiftKey && event.which == 13) {\n",
       "        this.canvas_div.blur();\n",
       "        // select the cell after this one\n",
       "        var index = IPython.notebook.find_cell_index(this.cell_info[0]);\n",
       "        IPython.notebook.select(index + 1);\n",
       "    }\n",
       "}\n",
       "\n",
       "mpl.figure.prototype.handle_save = function(fig, msg) {\n",
       "    fig.ondownload(fig, null);\n",
       "}\n",
       "\n",
       "\n",
       "mpl.find_output_cell = function(html_output) {\n",
       "    // Return the cell and output element which can be found *uniquely* in the notebook.\n",
       "    // Note - this is a bit hacky, but it is done because the \"notebook_saving.Notebook\"\n",
       "    // IPython event is triggered only after the cells have been serialised, which for\n",
       "    // our purposes (turning an active figure into a static one), is too late.\n",
       "    var cells = IPython.notebook.get_cells();\n",
       "    var ncells = cells.length;\n",
       "    for (var i=0; i<ncells; i++) {\n",
       "        var cell = cells[i];\n",
       "        if (cell.cell_type === 'code'){\n",
       "            for (var j=0; j<cell.output_area.outputs.length; j++) {\n",
       "                var data = cell.output_area.outputs[j];\n",
       "                if (data.data) {\n",
       "                    // IPython >= 3 moved mimebundle to data attribute of output\n",
       "                    data = data.data;\n",
       "                }\n",
       "                if (data['text/html'] == html_output) {\n",
       "                    return [cell, data, j];\n",
       "                }\n",
       "            }\n",
       "        }\n",
       "    }\n",
       "}\n",
       "\n",
       "// Register the function which deals with the matplotlib target/channel.\n",
       "// The kernel may be null if the page has been refreshed.\n",
       "if (IPython.notebook.kernel != null) {\n",
       "    IPython.notebook.kernel.comm_manager.register_target('matplotlib', mpl.mpl_figure_comm);\n",
       "}\n"
      ],
      "text/plain": [
       "<IPython.core.display.Javascript object>"
      ]
     },
     "metadata": {},
     "output_type": "display_data"
    },
    {
     "data": {
      "text/html": [
       "<img src=\"data:image/png;base64,iVBORw0KGgoAAAANSUhEUgAABIsAAANoCAYAAABA+GrMAAAgAElEQVR4nOydeXQc1Z3vZXhw4MCQBwc4wDOSJdmS8CbLtmxLsmRt3dXGdgawjY1tvGIZL9jyIq+yZdnaWt1VgSQESEgCIQkQksniYRIywyQwjEPCS0I2AjwGSCAJmCUYAwFj831/dP9ud1fvre6u7tL3c87nHKmX6ltVt25V/ere3y0oIIQQQgghhBBCCCGEEEIIIYQQQgghhBBCCCGEEEIIIYQQQgghhBBCCCGEEEIIIYQQQgghhBBCCCGEEEIIIYQQQgghhBBCCCGEEEIIIYQQQgghhBBCCCGEEEIIIYQQQgghhBBCCCGEEEIIIYQQQgghhBBCCCGEEEIIIYQQQgghhBBCCCGEEEIIIYQQQgghhBBCCCGEEEIIIYQQQgghhBBCCCGEEEIIIYQQQgghhBBCCCGEEEIIIYQQQgghhBBCCCGEEEIIIYQQQgghhBBCCCGEEEIIIYQQQgghhBBCCCGEEEIIIYQQQgghhBBCCCGEEEIIIYQQQgghhBBCCCGEEEIIIYQQQgghhBBCCCGEEEIIIYQQQgghhBBCCCGEEEIIIYQQQgghhBBCCCGEEEIIIYQQQgghhBBCCCGEEEIIIYQQQgghhBBCCCGEEEIIIYQQQgghhBBCCCGEEEIIIYQQQgghhBBCCCGEEEIIIYQQQgghhBBCCCGEEEIIIYQQQgghhBBCCCGEEEIIIYQQQgghhBBCCCGEEEIIIYQQQgghhBBCCCGEEEIIIYQQMnx4bsUZoJTmrh3tR5LW6jLT1LT6fEAIIYQQQgghBQUFDBZRmusyWDR8tPp8QAghhBBCCCEFBQUMFuW7b373IIR3/use/Ll3Ft7/409x+sP3cOrEm3jnsS/j+bZ/srycNHU72o/g6BMvqf388JFnQgJD3Z2P4PTpTwAAH3xwEnt2PGx5mdPpcKrjVp8PCCGEEEIIIaSgoIDBonw3+Eb65LEX8cmpj2HmnZ9+yfJy0tTtaD8C3f1TtT9ff+1ESLDoO9/6jXrvyaMv265n0XCq41afDwghhBBCCCGkoKCAwaJ8N/hGGgBOPP0wXjXm4e1//5x67ZOPT+L5dRdYXlaamhIUeunFt9Q+/fytTwSGnD17TL1++21P2DpYZPc6bvX5gBBCCCGEEEIKCgoYLMp3g2+kPz7+Op6/6VzfeyvPxOkP31PvvbSv0vKy0tSUoNA37/tVUA+iP6Gj/QgO7PkRTp06DQB449h7tsxZNJzquNXnA0IIIYQQQggpKChgsCjfDb6RPvHL74e8d/KtV9R7f+5rtLysNDUlALR7+8M4ceJDAL7cRHs7HsYD3/i12seP/PBZ2weL7F7HrT4fEEIIIYQQQkhBQQGDRfmuOflv8Hsn33gpcCPd32R5WWlqBucn+smjL6h9ev/Xf4U//O5vAIDTpz9B/+FHbR8ssnsdt/p8QAghhBBCCCEFBQUMFuW7w+lGergaHCzqP/yomvns5ZfexsmPTgEA/ueFN0M+Z3WZ0+lwquNWnw8IIYQQQgghpKCggMGifHc43UgPV4ODQB3tR/DsM6/DzEP3P81gkQ3quNXnA0IIIYQQQggpKChgsCjfHU430sNVc7Doq3f/IiRQdPKjU9i/+4cMFtmgjlt9PiCEEEIIIYSQgoICBovy3eF0Iz1cNQeLdm49gr+//YHat7/+5athn7G6zOl0ONVxq88HhBBCCCGEEFJQUMBgEaW5rjkQ1NF+BD/775dVkOTuO5+0dbBoOGn1+YAQQgghhBBCCgoKGCyiNNcN7lG0b+e/wRh8DMeP/wMA8PZb72Pn1vBgktVlpqlp9fmAEEIIIYQQQgoKChgsojTXlQDQHZ87GpbY+v6v/ypizyOry0xT0+rzASGEEEIIIYQQQvIIAI3+GNEpAM8DuNnqMhFCCCGEEEIIIYQQQgghyWF1tz1qHyN1p43ncC4XpZRSmqpWXz8SQgghxOZYfbFD7WOuBmVytVyUUkppqlp9/UgIIYQQm2P1xQ61j7kalMnVclFKKaWpavX1IyGEEEJsjtUXO7nom989qGYreOe/7sGfe2fh/T/+FKc/fA+nTryJdx77Mp5v+yfLy5lrdrQfwdEnXlLb7uEjz4QEYLo7H8Hp058AAD744CT27Hg4K/siE+WilEaXbSilmdfq60dCCCGE2ByrL3Zy0eAbnZPHXsQnpz4Om/LynZ9+yfJy5pod7Uegu3+qttHrr50ICcp851u/Ue89efTlhHrwpGNfZKJclNLosg2lNPNaff1ICCGEEJtj9cVOLhp8owMAJ55+GK8a8/D2v39OvfbJxyfx/LoLLC9rLinBl5defEttp8/f+kRgaNezx9Trt9/2RNLBolT3RSbKRSmNLttQSjOv1dePhBBCCLE5Vl/s5KLBNzofH38dz990ru+9lWfi9Ifvqfde2ldpeVlzSQm+fPO+XwX11PkTOtqP4MCeH+HUqdMAgDeOvZdwbqB07ItMlItSGl22oZRmXquvHwkhhBBic6y+2MlFg290Tvzy+yHvnXzrFfXen/saLS9rLimBlt3bH8aJEx8C8OUA2tvxMB74xq/Vdnvkh8+mFCxKdV9kolyU0uiyDaU081p9/UgIIYQQm2P1xU4uak7OGvzeyTdeCtzo9DdZXtZcMjgP0E8efUFtp/u//iv84Xd/AwCcPv0J+g8/mlKwKNV9kYlyUUqjyzaU0sxr9fUjIYQQQmyO1Rc7uShvdFIzOCjTf/hRNcPYyy+9jZMfnQIA/M8LbyY1RX26g0XpKhelNLpsQynNvFZfPxJCCCHE5lh9sZOL8kYnNYODLR3tR/DsM6/DzEP3P21psChd5aKURpdtKKWZ1+rrR0IIIYTYHKsvdnJR3uikpjko89W7fxESkDn50Sns3/1Dy4NF6SgXpTS6bEMpzbxWXz8SQgghxOZYfbGTi/JGJzXNQZmdW4/g729/oLbXr3/5athnsrEvMlEuSml02YZSmnmtvn4khBBCiM2x+mKH2kdzwKWj/Qh+9t8vqxvDu+980pKgTK6Wi1JKKU1Vq68fCSGEEGJzrL7YofYxuOfOvp3/BmPwMRw//g8AwNtvvY+dW8ODNsO5XJRSSmmqWn39SAghhBCbY/XFDrWPEmi543NHYeb+r/8qYg+f4VwuSimlNFWtvn4khBBCCCEkKQA0+mMxpwA8D+Bmq8tUUJC75SKEEEIIIYQQQgghhBBCCCGEEEIIyU2s7kZNrTfSMCw6NK3ep5RSSu2t1dePhBBCCLE5Vl/sUOu1OrBiR63ep5RSSu2t1dePhBBCCLE5Vl/sUOu1OrBiR63ep5RSSu2t1dePhBBCCLE5Vl/sZMo3v3tQzXj1zn/dgz/3zsL7f/wpTn/4Hk6deBPvPPZlPN/2TyHfefnAVBw/+k2cfOsVfPLxRzj1/t/x/rOP4W9fWm35+mTSbAVQjj7xktonDx95JuS97s5HcPr0JwCADz44iT07HkZH+xHcftsT+O3Tf8Xx4//Axx+fxol3P8Rvn/4rbtMfD1v+l7/4czz/3DG8d+IjnDp1Gu+99xH++pfj+MWTf8bnb32CwSJKLZBtMaWZ0errR0IIIYTYHKsvdjJl8A3KyWMv4pNTH4dNm/7OT7+kPv/XO5fhk49Phn1GePcXD+G5lWdavl6ZMFsBFN39U7U9X3/tRMh73/nWb9R7Tx59GR3tR/CD7/5eBZDMfPzxadz7lafU9+/6ws+ifhYAfvjwHxksotQC2RZTmhmtvn4khBBCiM2x+mInUwbfoADAiacfxqvGPLz9759Tr33y8Uk8v+4CvLD5Cpz+8H31+vEnH8Cr+hwce6ADp0/+Q73+2ldvtny9MmE2gygvvfiW2p7BvX2ee/aYev32256A7v6pCv6cPHkKDx95Bnd94Wf41x88g48/Pg0A+Mc/TqJr74/Q0X4E//1fL6nvP/H4S7jr9qP46pd+ge9953d45vev4cj3/sBgEaUWyLaY0sxo9fUjIYQQQmyO1Rc7mTL4BuXj46/j+ZvO9b238kyc/vA99d5L+yrx+n2b1f8fvf5CyFPrt/7Vrd774PknLF+vTJjNIMo37/uV2p5PHv0TOtqP4MCeH+HUKV8A6I1j76Gj/Qge+88X1Od+8+u/4PbbnlD+v+ffUO9951u/QUf7EfzHj59Xr/3gu79H9/4fZ3W9GCyiNLJsiynNjFZfPxJCCCHE5lh9sZMpg29QTvzy+yHvnXzrFfXen/sa8ff/+ELgSfbRb4Z89tXP/LN679SJNy1fr0yYzSDK7u0P48SJD303fB+cxN6Oh/HAN36ttvEjP3wWHe1H8Mc/vI5EeOLxF9HRfgSDff+JDz8MHd7ywQcn8eL/vImHf/AM9u78NwaLKLVAtsWUZkarrx8JIYQQYnOsvtjJlOakqsHvnXzjpcANSn/TsL9ByXavm588Gug1dP/Xf4U//O5vAIDTpz9B/+FHkwoW/eLJP6vlDvQ8ikd//Dxe+H9v4vg7/wj53O9/+zcGiyi1QLbFlGZGq68fCSGEEGJzrL7YyZTJ3KC8/vUt6v/woQ8D6j27Dn3IdrCo//CjKh/Ryy+9jZMfnQIA/M8Lb6rPPPaT/1Hb/b8eezFKL6V/xa5t/xr1dw4d+DHeevN9FYja2/Ewg0WUZlm2xZRmRquvHwkhhBBic6y+2MmUydyghCVVPfpNX1LV+7fj9EcfqNftmlQ128GijvYjePaZ8J5DD93/tHrfGHxMBZROn/4EP/3PF/Dlu36Ou+98Et9+8Dd48ujLOPHuh+jr/g90tB/Bke/9Ac8/9wZ+8N3f496vPIU7P38U337wNyFD0w7s+RGDRZRmWbbFlGZGq68fCSGEEGJzrL7YyZTJ3KA8tyKR6Zq/bdvpmq0IFn317l+EbN+TH53C/t0/DPnMv37/DypgFA0JFj185JmYn/vD7zgMjVIrZFtMaWa0+vqREEIIITbH6oudTJnsDcpzK87Ay13VOP6z+/Hx26/ik49P4tT77+D9Zx/H3+5eY/n6ZFIrgkU7tx7B398O9BT49S9fjfi52z/73/jNr/+Cd/7+D3z88Wm8995H+OtfjuPJo3/Cl7/4c+zcGuiJ9MTjL+HVV97BiXc/xKlTp/HRhx/jL68exyM/fBZ7sjgEjcEiSgOyLaY0M1p9/UgIIYQQm2P1xQ61XiuCRR3tR/Cz/35Z3SjefeeTlpWDwSJKKaX5ptXXj4QQQgixOVZf7FDrzWYQZefWI9i3899gDD6G48d9M5a9/db7qoeQXbR6n1JKKbW3Vl8/EkIIIcTmWH2xQ603m0GUOz53NCwHyf1f/5XlwR0GiyillOaTVl8/EkIIIYQQkjYANPpjRKcAPA/gZqvLRAghhBBCCCGEEB8jCgoKzvJ7JqWUUkoppZRSShNW7qdHFBBiI84qKCgApZRSSimllFJKU/asAkJsBINFlFJKKaWUUkrp0GSwiNiKMwv8lbu54Dq0FMynlFKaZhsbe9DY2BP2emt1FxyV++Co3Gd5Gc06//cqOP/3qqEvZ8wOOMfsSEuZRh/0YvRBr+XbJljH+L1wjN+b2nf/aQUc/7TC8nWg+edrfzqGU6dO4dSpU3jtT8csLw+lNPuyHcgNmwuuCw4WnWnpnT0haUYFi1oK5qN1xILcseaQT6vLQWmanLbUi2lLvXBO2g/npP2Wl4dSmn2bmvosLwPNL5vre9Bc3xPy2huvvqVmE33j1bcsLyOlNPuyHcgNWwrmM1hEbEvmgkVnLLT84KWUpqZjchcck7ssLwdNrw2z3ZaXIREdZy+B4+wllpeD0lyVN4n2lm0gTUS2A7khg0XEzuRuzyJKKR3Gmm8WtMs2QLtsQ0LfdV2+Ea7LN2a9zNql632O3QNt7J6Ul+O6cgtcV26J/jsXt0G7uC25sl2yDtol6yKWOez3i7fBVbwtsfX91Gpon1o9tO124RpoF64JvHbGwqQfuDjPXwHn+Stifqal7jBa6g5Hr3NnLYbjrMVZrzc0eXmTSCl97qkXcOyVN3HslTfx3FMvWF6e4SqDRcTOpBws4lAami0d1QfhqD4Y8zMNs90Re03MuN6DGdd7LF8HOzrz04OY+enBrPzW5DW65eubCV2lOywvQ6I6zlmaluVoYzqgjekY0jKc5y2H87zlQ1pG/dVu1F/tazMm3axj0s25Xce0i9ZCu2it5eWguSGDRZRSmhsyWETsTEiwyDG1C46pkYeeyMW5Nm4vtHF74Rq5Ga6Rm9Hc0Ivmht7IB9D0brRO71ZPTWuv86D2Og+0it3QKnYndAC6SndEvKEKvlmIVe5Ixure66w6AGfVgcBrZy7ymQONUTo0P8GW/Sjb0HnBqsBn/U/MJddOxsrk740QrS41NfUlnOfDecEqOC9YlZYb0qHoGrk5K7/jOGdpem7izfU8Sr1P5ibd3JMjXq+HuMtLQw+OqPvLop44KW2HYRA0iNZzKJHeM8N1+MYsbQCztIHEPu8/Nyez/KSOEVP7Ea+nWaQeX4kaqSeUq7AdrsL2tG9j1xWb4Lpik+X7unUEg0WUUporMlhE7EzODkOTm/2qNh1VbZl/4ls734Pa+fF7oDCPi/U2NTNBLKWU0uGrnYNFkRJ6U0pprspgEbEzORssopTSfNNVsh2uku2Wl4Pmti21h9FSGz13kGXlmtmDlpm8Sc8H7RwsogETGYZPKbVWBouInclKsCgTF8acrYlmWhn+FivRLrWHidwka2U7oZXttLysNDnjJctOl8kOh6Z0KOZrsEiGnVtdjnwx13pZMQF+fskHWNmRwSJiZ9iziFJKKaU0j8zVYJEE3mXmvUTyjFFKU/Pegw/iIeMIHjKO4N6DD1penuEqg0XEzjBYRKlFhiVTz5LJJAynlFI6dM2TSwzVXA0WUUqzJ9uB3JDBImJnGCyiIQ61i7F5OnV5utjgGkCDK3ymnkTyYzgn7Ydz0v6Yn5FZ3dR3/LOiyRDIkFm0ag75jLDuwevvPHcZnOcug6t0R9RZwKLNuuas7Az8b7MZ9SillForbxIppWwHckMGi4idYbBoKKYw/XBcowQy0mUigRca6qjPeC0vA6Wx1MbvgzZ+X1qX6ZjWDce0NLdvaTYf8gQ1NfdxBsc8srG1H42t/ZaXI575cpMY7YFKpmxu7EVzY2/al1t7nQe118WfMTeWris2wXXFpoxvA+eETjgndKb03cr1OirXZ34G4nwvUzTrr3aj/mp31n4vmXbA/FA1nrHyzTbMdqNhdvbWM5rVy7yoXmb9NTqDRcTOJB0s0sbugTZ2j+UHZi44/QYvpt+Q+UZKEhxKwy29dFylO+Aq3RHzu0xulztW7DVQsdfApJt1TLpZR8U+AxX7DJQO6CgdSO5CqLmhF80NQ7sgzoe6UdWmo6ot9rZxFbbDVdiOmgUe1CyIfTEf7wJHhook0sbJ8TjUAGw2bk5do7bCNWqrJfuwfo4b9XOsv6ik0U1HEt1Yx5bUv+mLvZi+OHDOrLt2EHXXDmLy6szeCJZ1GSjrMkJeS8cw4GSS3ktv13QFT/IlWEQpzZxsB9JrqhOZMFhE7EzSwaLa+R7Uzh/a05VULPqsF0WfTSwwE23IU7qdskrHlFXhF7nl+w2U7zcw5pBP9XqnkdLvjN9mYPw2A9U3elF9oxfTlvpsbOlHY0v4TebonkCZJmwxMGFLar87caOBiRtT+248yzuNlLdHyr/p3y/Z/M1UHbfdwLjt0cs6ZaWOKSt1VG7wGXEZOwyM2xF9GZGCK/G+E6zUy0xuh7E7DYzdGfs3xu4yMHaXgav2+Bzdq2N0b+g2kZvFSO+FrFO7gfHtvmOm1K2j1K2j7KCBsoOB47m0X0dpv67qkywz0fbJbDYC8GM7DIztSP++SuR8EK8uz1jkxYxF6Qu6S9ti7mEg9SST2zlfjbQfpd6XH/ApgR45RpLZzxIUMrf7ci4LbnPkM0X39aHovj4U3tOPwnsC57mJtxiYeEvkY1mOTbHE7dMcLCrt19Vy5LVir45ir44xh31etdvAVbsDx3uDa0Ad8xLoj3YeixSckmuYeOe+RJ/Y8yaRUsp2IL1WrdVRtTb5hxcMFhE7k3zPohSGO6hp7qPkbgl+8uw4ewkcZy+xvMGwWsc5S+E4Z6klvx3t5jXWvtEuboN2cZvq8SL7XKvYDa1it+XbMxdUx0Gcz7XUBbr9pjMZ9dQVOqau0BPqrSOaexzEGvaTK/tau2gttIvWJved8l3QyndF3AfZ0lnZGZrrKkvOcvRjliPzw25cl2/0GWUoRjIJgJPq0eHPPZbt7Rp1OxS2q7/rrhlE3TWDWfvt+rlu1M/NfC8vbdxeaOP2Bv5P4LphKENnErXqJh1VNw29F5M5h10qZZdzpXbJOmiXrFM9DKV9dl6wKuZ33zj2blpvEl0l29UxKq+ZH7xle2hqMjOpmcueaVPtgZC2bePvqRbrM+Y8jKIMqZulDagesjOu92DG9R51PpBrDwnoSvBdu2Rd2PJmaQOYpYU/oJXjPri9l3puzm+ZDqW3fc1Cjyq//J48bI32Xflc3bXxy6Rduh7apevVzH8xP5vC9QjNPxksInaGOYuGoPap1aGJk2l0meSZZtlIF7WUDhdzJXhLMyN7FNBs6Kg+CEf1QcvLQWkuy2ARsTMMFlFKKaWU5pGxgkVDndU0FaV3sdXbJReM1ktSHjAmkrfK3JM7lYeT0mtN/W4CAWT12SE8DM2HupCO3vvB+zmZnrHUfjJYROzMkINFySROTUdjKie7RH5Xpm1P5XfMQ0Jk+I1zQmdCiaXtoFwsSFdwSYiskgD7L0RCtpsp2a9sR+niLK9LN+hJ63Q1q1y0mRcidfFPdHhWpMSt5tfk/0QuHszJeqUruPnpW3A9lyFO0XJMqTrmX0akLsvm7eq6cgtcV24J3V/+bvFybJjLJImgzftNu7gt7NiUZalk6qahQ66S7arruWw3mfVJ5Yrxz+wn3bBbZvaoskUbMiBlTKqe+ruEJ/OdZGYskQt7qYeSU0QMHmIjdUmSmEsOKEluLsuUrv2Rfk+2oxwjss2ky7u0Rdql69VQFvOxIzmtJMdK8Dh8+W3JxTJ1uU/5PTUMxl/nZH86J3SGDVmIts2kfk5erYcNUZChQPK6Gt7gr4POys6w4S4yXEuOe1fxNriKt6m8W7JMbfy+uG3D5NU6Jq/WVU62Gdd7MHmNjslrdDVUU4YkyHrKPpZly7EVaUimlNW8PWX/zXL0q3ZEDU31t4HmPGKyDyIN21PDlvz7Vuqa/J6s06SbEx92JW28o/pg3PYw3UOSJHeVeeIIyZkk+8A8rMNZ2YmZ8wYxc95g1JtU2VbBw+PMN8PmYT2y7YNv2uXcL+9pl20IMdqwn5D2JImh/LEmMmDPoqErQ+5jDRWSNiHasC85hoNnPUzHzGmJOtShm8lO0BDrGkZt1zTPzpnIcRX2nQSDQXIuSarexAikyfnZ3D5KHVN1Iwd72ufDDKiZVtp4uX+Uc0u87zFYROxM2nsWyY1oIuPMzXlCUjXVqRMjlVFuApKZKUouFNOy/fw3TMHjua2cyah1xIKYSZQTdbgE2Oxitqc7ppRSuziUc3aiOU4YLLJ4H/OahvqNdR8jD9yGMizYHDSeujz56/EZ13vSMotuKrm60hE8TKbsyeTDStf9FYNFxM5wGBqllFJKaR4ZEiz669/T9sAqEbOer/GMhT7ztfw0q2Z7khwr65LRdifu2HYP7th2D4y2Oy3f9sNRx1mL0fq/rmewiNgWBotsbtisNEx6Sumw06pZJpP5zXiz1SSrDJ+VHqypDHE0y94E+WU6Z/pzjdyclTInOoSJPYsopWwH0qv5OiHRkSPsWUTsDINFlA430/yUllJKaXYNuUn8y9twnrfc8jLFMm0JgNNx/kpwdtZYU9NLMNrq7TqkfZLAjKHO85ant25xZty0ymBRbshgEbEzaQsWmRNCt46In2BuwmYDEzYbCS1fJXuNkEtIEs3K/+Z8K5LcUpXLn4CueplXLS9SwuBMqpIAR3k/OA9T0e0eFN3uSfip9rQlgafz8rReErXKtpiwxcCELUZY0sbgbRttytTRPTpG9+ioWehBzUIPij7rVclqx7cbGN8etE9NF3ayH809nlpHLMD4bQbGbwt8V5L0mpMDx1LKLGOWZZuVPnhIbYsbfnYTbvjZTbjj2Qbc8WwDxjzUjTEPBZL6SXJi+b/4/h5MW+LFtCVeFH2tD0Vf61MJaiX5qvye1PnqZV6UuHWUuHWVAHPcdgPjtkdfD7W9Y1wIO6sOwFl1IHAM+fejJC8OXo55PeR4M1/8JTKWXBJMBtdbSUgb7TvS1T94/8mTfnnNNXIzXCM3Rx3THtwTTv0d7WLTVNcaXIGkynLMSyLhsoMGyg4aqFyvo3K9HlYfg3vEOM9dBue5y9Jy3F+128BVuxOry2obREjoa25rU1GSKcuYfUmQLAlPC+/pR+E9/SrpZay2vPBLbhR+ya2SZge/J/VQ9rW8HiuxaFiye/9+CzseYiRnlSeC0iZJwkrZBxHLuk73Jd2Ps+0kiXXNAo9Kai5tqzl5e3Di22hGSuIfbKx2Q62vP5dEWJs+aqsqoxx/EzcZmLgpsMxY6y1JgGX/mZOzS5su54CqtsBybnrqRtz01I1q/0lScUkyHlwH5DiTNk7OL7Ks0b06RvfqGLvTwNidhkpSH5LHwv87krS9rMtAWZehzu+yncu6DdUGlD5wGKUPHFa5ReQ8dNUen7Jeo77eqyYpkKSnsi2kbS3WvSjWvWrZ0tYW617Uz3Wjfq5bld/cg0iS0YuT1+hhPYElkfvobx3C3z44zptEGlGrepJmwkgTYeSjch6YskrHlFU6Gh/dhhKPjhKPHrj29U8KYv6umsQjwrUPg0Xp1TyZS7SJd8wyWETsDHsWUUppDptIIDte8DmWcpOcynfjzfBHKc2MvEmklOZzO2Cn2dcYLCJ2hsEiSimllNI8MpM3ieZezOb/pfdqrPllY9EAACAASURBVB5zqgekqcdn3bWDqLs2sZmK1O/7ez8mM2uR9MgUW2b2WL7P8lHVq0X2a44Pd1RmYbh9cI9oc6/vbJnPwSI7yWARsTPDIlgk3eitLkdSDU+CXR9zVclPYB56QimlVmgeHkbtr3lIXrZVQ+Cnd4cNjx+qvEmklC66Yi0Wj2zD4pFtWHTFWsvLYzcTPYcwWETszLAIFtH0aM6dQmkk05njh2bfaPmjKB2qTU19aGqKnb+JJiaDRZTSfLB2vge18+PP8JjPMlhE7AyDRZRSSimleeRwDBZpn1qd9dk8w6bS9k/ckI5lmx+sOM5aHPc7MtlEpJ6S2sVt0C5uS/j3IyXB1sp3QSvfFb4dkuiZqZLi+5MFR+qZkeiELdlStqvV5aD5KYNFxM6EBIvy8Ylyuk7adGjKcDM160wK062ak+XKMpobekNnvAne/5esizj9q8xAZp5NJlXNsxXJE3KZcSlb29k8y4nkE4g1U1Uy+y/ahWIuKbkr0jlUU2YmijYDIA1V5QIx5bMY0jLTNbW2LM8/O1hCN1BZvgG1o1NX6Ji6InRGNTULYQany47Y/keZDUpmq0xlNkHt4ra019GIv5PgMTUcg0WUUpqLMlhE7Eze9izK9lT3lNL8MJ0BjGRNJUhKKaXJymARpZSG6yrZDlfJ9qz+JoNFxM7kbbCIUkoppblr9Y1eVN/otbwcdpTBIkrja/cHy53z+nFooReHFnrROa/f8vIMVxksInYmq8GirD11T6LL+3CbrSve+gYPQTIntJ756UHM/HRyU95GrQvnr4Dz/BWxy+p/OiBDo2RoWUh5TWWUYQ/N9T1oru9Ja36BZNcv2vpEXV//8Cpt3N6o+8ucPyFkW5jX1XQcOKZ1wzGtO+JxKMuVYRrm4Rayv+TCy3HW4pSe3kQbtpfMrEWJ1J3WEYnlfwgrX5qGLdpeU92SuhexV1cGhiBJHY5VF1T7YZoNM5E231W8Da7ibWG/p4ZrBh0fyea6GOqQ0Ww4lPO0VrYz8c/GGtYVZ2igDEGONF21DD00nzNkaGLrmYsSvh6JtX+l/smyYg1/k+PA3G6ahzhLWxyvjoYEi/7696wOh07F+jlu1M9xp/Z9DhOlNKIMGqdHc0qLaG15NBksInaGPYsopZTSIVrVpqOqTceob/Ri1Dd6MWWljikrdYzdZWDsLgOjbvVi1K1ejO7VUbXWZ+FXB1D41QGUdxoo7zQyXkYpQ+EX3T7vHPT5JbfPuwZReNcgKtfrKOsyUNZlYOImn9GWKQGf5T9fheU/X4Wi2z3o/t1cdP9uLsq+3Y2yb3ej/DsHUf6dg+ozh383B4d/NweNj25D46PbMPZ7B1B0bz+K7uWT8UTlTSKllO1AbshgEbEzDBZRSimllOaR2bhJTGYGLDo8nH4Dh5XmkgwW5YYMFhE7w2ARpZRSSmkemcmbxJnzBjFz3iCm3+C1dXAgH2cAttry/ZnvAUkTl8Gi3JDBImJnGCyilFJKKc0jeZOY+yab94TSZLW6HZhxvQczrveo/xtcA2hwDVi+XbItg0XEzjBYRGkadV2xCa4rNoW8Jkm3h7RsJvjMS2c5+jHLwTwsuezMeakn7WevhNzWzrOxWX2TaJXRJkmgQ9yuFk0GQofm+ik7cUvNXtxSsxfrpyQ+uUCqTlvixbQludOmmie5GfLyTBNiJCqDRcTOZDVYpGYiyYEGhlJqD5OZSW24q13cltblDWmGoxyR5ySajw7XYNFwMS0PmSilWZHBImJn2LOIUkoppTSPjBQskmFPzvOWw3nuMjjPXRb2Pe3S9dAuXR/43/9kXj4f6Tuic0InnBM6A98t3wVt3F5o4/ZG/05lJ5yVnahZ4EHNAk/Y7yejNm5v1F62UZNxn7nIZ4xtEE3HOUszsu8c5yxNeNnxelJpYzri77fzlsN53nL1u46zFsNx1uLQ5UTpWeQqbIersD3ysv3bNqxOxeilZJ6iPB1K7ikZAqWN2wvXyM1wjdyc8PrIQ6fgbV13zSDqrhlEzUIPahZ6IvYcp7R1BINFxN4wWEQppZRSmkeyZ1Hu6ireBlfxNsvLQbMj81JRBouInWGwiFIbGHEYVoQnqtGUJ40c0kWTkfWFUmtksIhSStNrqtc0DBYRO8NgEaWUUkppHslgEaU0lQTXrpLtcJVsz3jZspk03VW6w9L9wGARsTMMFlFKaaaM17vrjIUqn4S85irdkbELH3OeimC1i9tSToDtnLQfzkn7Y39G8mqkYWY/8zYb0j5IwKHkWcklo80cI3lR7LKew8F8CxZl6wY1nWrlu8Jei5TvJ50mk88oVc25p1pHLIBWsRtaxW7LtzmNb3AAJlo7YM4l5rpyS+LLN10LRKrvrlFb4Rq1Nez1SD1zotXplOq66XyejeMl6nYKOl8yWETsTE4Ei7QL10C7cI1lv08DOs9fkdblxWvItbF70FpzyGeayp/udciW6T4OMpFIcshlSnGa04iJSymN5RCCUuacI3JRqC6Q0xDwGlamIWBHQ823YBG1r/ESbNPMyXYgN2SwiNiZnAgWUUrz0ARvmB2Tu+CY3JXSzaLMcmL5utrIeLPr0OFry8wetMzssbwcNL68SaSZVGYCs7ocQ7Vyg47KDbrl5ciU2WoHos0uZ7UzFnkxY5E3bctzVB+Eo/pg0t9jsIjYGQaLKKWUUkrzyHTdJNbO96B2vgdX7TbUjZcMGYs5bbpJdZOVjmGf0stWeh0H9T6W6dGbmvrQ1NSHlrrDaKk7nNIwN8fZS+A4ewlcl2/MSu/V+jlu1M9xY+a8Qcycl1wgRoaOaWU7oZUlmJvGf4MvQ5Kkp3cqPYFkaFK+9PJNx/Ck5oZeNDf0orGlH40t/aq+xNxO/jw9EmyTALwaqp3mXqkMGueGDBYRO8NgUY7aMNuNhtluy8tBKaWUxlMb0wFtTIfl5Rgu8iaRUmpVO8D2PlQGi4idsSRYxGEQlNJUzcdEqXT4mki39pqFHtQs9FheVpo/MlhE88UpK4c2DGx8u4Hx7UZS30ml95YoPYqs3m6J2DmvH4cWenFooRed8/otL4+VztIGMEsbsOS3GSwidiYkWJTINIfmTPeuKzbBdcWmhA4m6cqZVEQ6Tpdm18jNlmbDz0VjzXqQzwmgI66Hv37IDCW5ktQ5UlftSLNEBOuY2gXH1K6wWUqCNR+j0rXZecGqsCCKebYKmWUrkZmkZDuaZ36R7vrOys6wJMBRt4W/HK6S7Wq5sh7xtknw+sp3ZWiE/B+2PikMg5BhD9rYPb6k62muD+Y2L9FtF+8YSLRuxSxbhtZZlc00C1qkmXhCPl8Z/T1VZtNsLZHOXWrYRJRZW4ZipPNepmdJSnh/+tc7kYcykrjbWXUAzqoDITPoJDsrn2yTiLOtmZP3m45R54TOlJPkBg+TUucB/++Z82wE/x939j/TxAvOC1bBdeUW3/nVX361zkM478jQFvM2ihcQjxQsCm4LE70uyvY1QUptlb/tcEzuSv13I5zzEjlGMjE7Zaxr4Gj7TY5VqeOx2ptM7tN8GYYWrZ7JdVI6rhVjTUpi3o9qco8cnhwh1nWJ1Klo7WYydU7qrnwnl+/hzOeQaPfJDBYRO8NhaDlqUlNDU8vMxEmOs4pQGmqmc4qYb94yHUCjFpnDN2rJyp5FlFKaGzJYROwMg0WUUkqjqp6IpvLdKE9d7Wg6eovlijF73NCckMEiSinNDRksInaGwSJKKaXDWibrpPkmg0WUUpobMlhE7AyDRZRSSimleSSDRZTSRVesxeKRbVg8sg2LrkitBzAdugwWETvDYBGllFJKaR7JYBGllO1AbshgEbEzIcGi5sZeNDf2Qivb6TNolgjJCN9SdxgtdYfV65IIVN6vn+NG/Rx3yEFUd+0g6q4djJq0OTgnhjZ+H7Tx+xI+QLWL1qJmgQc1CwLTDksy1Pqr3ai/2o2ybgNl3QYaZrvRMNut1q91RNBMTX5lxjZZ1rSlXkxb6kVTcx+amvvQXN+DyWt0TF6jq9fCyiRDGvyzqYzbYWDcDgOOad1hn42W58K8Tubt1DpiAbSK3dAqdod91zmhM+4UkqX9Okr7dUy62ae8Xv6dwBTPu56+Druevg5F9/Wh6L4+FH+zF8Xf7EX37+ai+3dzUfPITtQ8shOOn2zB7X+chdv/OAt/euUy/OmVy/DHP18eorw+5/FNmPP4JjXz149fLMdPXhqNn7w0Gt95YRK+88Iktb9W/nwlVv58JfRnWqE/06rKc+0TN+Omp27ETU/dqD4z+7FbMPuxW1TZ7ni2AXc824ADv/00Dvz20/jZy0UYu9PA2J2G+p23//J/8PZf/g/6fj8bfb+fjbofd6Duxx3Y8fQC7Hh6Aab82x5M+bc92PbrhbjlV4txy68Wo1j3olj3ouhrfSj6Wp/67NInV2Ppk6tReNcgCu8axO1/nIWNv7wBG395A0ofPITSBw9h8sN7MfnhvSi8243Cu90o+qwXRZ/1osSjo8Sjq+8Wfsmt6tjEWwxMvMXALEc/Zjn61XYL26fTu1W9q5/rRv1cN5qa+tDUFKifFXsNVOw1UHudB7XXedSMPhNvMVD6wGGUPnAYo791CKO/dQgNrgE0uAbgrOz0zU41vRut07tRO9+D2vkeuC7fqOqYtAky3awcf1NX6Ji6QsfY7x3wuctQ09nKVOEV/9KFin/pwvjv78f47+9X9VLKHjxzlsxeIseGzKghs6NFqufmNkdmfRq7y8DYXQamrNIxZZWOYq/P6mVeVC/zony/ofbBqNu8GHWbV223ott9jjmsY8xhHTMWeTFjkRdVbbqanc4xrRuOad3q+JZ9M3m1jsmrdVSt9RlpxiPz7DuNrf1obO0Pm50pZD1NM0nJvpAZYaTtCG7TZR9LOzZ9sdfnDT6lfZFt4hq5GY7JXXBM7lLHSudv/xmdv/1njDlkYMyhwP6VZU5b4lV1Rsoo54OJmwxM3GSgZFBHyaAeqJcjFqhtLsuR35WyS5lGfcan1O0Jmw1ctcenLE/Oa9L+m+v6qNu8KLq3H0X3Btp9+a6UQ94vvHMQhXcOqvNCc2MvKo/sQ+WRfYF96q//lRt0VG7QVbujjvf7e1DsV8ow7Ue7MO1Hu3DVbgNX7TbUMSznU2fVAbX9zDOxmWdrkf0q/09ap2N0n08ptyhllt+R+lni0VF1k0/VBsi5yX/szvz0IGZ+ehDl+w2U7zdQ+EU3Cr/oxlV7DLU/zL8r7Zkc31LHZiwKvCdlKj9goPxAYLuN225g3HZDlUuOu+bGXtU+qRmj/DOMVbXpqGrTVf2UuuC6cou6PlCztPqPkeb6HjTX90Scnc18Dpb2WCVE9yfQlrLJfmw9Y2H4bGdRkrZLu1Z1U6AdlOW01B5GS+1hFN7txt/eezevbhIjtdNy/gz7rH/biIkknE9mls+wbe6vL+Zj6ao94dO1t8zsQcvMnrDp1WPN8pbIrGutIxaEzAw1ZaWe8JTzsc6BkZTjoHXEgrBZVEVptyN9X65t1Pr5j7tU6oVcO5pfl7Yj5vaS2WDjzLCZjMH52sz7VM6R8r+0hcH3DPGUdm35z1epa8+FR9uw8Ggb1v/fpVj/f5fi0RfL8OiLZbj2iZtx7RM3o/Cefp9fHUDhVwcwtsNQ7e5rx0+oduDYm++q69bHXyrB4y+VBL57Tz+08l3QynelZTvJtVPYfuvVMbo39HWpb7HqVLJGmn3NfO5LaH/77wfVTJf+1+U4l+sGOU7kGqd1xIKQ+ywGi4idYc+iDDq6R8fonsRO9vlu6YCO0oHcXlcJ2mXr9yTYkMp35QYz2vtyox1zGf6AiNXbPVvKNqvY5zPSZ8o7DZR35uc2GXWrF6NuDdw0l3VFXw8JuFpd5tL+QP1PR5nKDhooOxhYRtHnPCj6XHouPimNp9ygpfLdRG5+k5E9CiilbAcyozxgSPTzDBYRO8NgEaU0ozqqD8JRfdDyclAaycbWxJ8K0wQ8c5H1ZRgG8iaR0swoPZasLkcish3IDRksInaGwaJM6h/mY3k5clF/d33Ly8H6MGSl27zV5aC5Y6amkY/U9TzYWPXQPMRETHX4ROuIBSHDBSnNprxJpJSyHcgNGSwidobBIkoppZTSPDJfbxLTmV8m4vJj5A7KJ7VPrYb2qdVhr0tOq0z9rjknWqZ/jw5No+1O3LHtHtyx7R4YbXdaXp7hKoNFxM4wWEQpHTZqF7eFJLCklIbLYyT3zddgEaWU2k0Gi4idYbCIUkoppTSPZLCI0tzXDjkbq5d5M7p8bdxeaOP2Dnk5MsOlFfuWwSJiZxgsopRSSinNIxksopTSgDMWeTFjUWYDW9FksIjYGRUsGvWNQyi8axCFdw1m7GDKRNR31G1elHh0lHiCpmj2T6+cyNThRff2o+jefoz6jBejPhO9kYk0lXnhHYMovCO926tqrY6qtTqKvtaHoq/1YcJmA1NX6Ji6Qse0H+3CtB/tUr9b9AUPir7gCSv76B4dxboXxbo38NnPelH0Wa/aJrMfuwWzH7sFq3+xAqt/sQKl/TpK+3UU3hOYGajEraPEnb6pfltHLMDU5TqmLg9d5qhv9GLUN3pR+EU3Cr8YvX6UPnAYpQ8cTul3i24PTK/trDoAZ9WBsOnnzVNljtthYNyOyPWnqk1HVVv0bVP8zd60bjdVxsM6xhwe4j75z3a0/mc7HD/ZAsdPtqBkUEfVTT6j/u5D3RjzUDdqFnpQszB0qvLG1v60zSgl+6DY8KLYSOykL8eH/F//7ztQ/+87MrL97Ww6noBOXq1j8urI9UjOL03NfWhq7lNt6oxHdmLGIztRP9eN+rmxzw/SBk68xcDEWwLHZt01g6i7xtcWlwzqKBnU1e8lUpfmPL4Jcx7flPB6Rtx+/tweM673YMb1niEtK9NO2GxgwubA9mt8dBsaH42dkLzocx4UfS76ejU39qK5Mbl2r+JfulDxL11oru/B9Bu8mH6DF7Mc/ZjlSE97InXB/Hpw2+26cgtcV25RNxpyfohYh+8cROGdg2iZ2YOWmT1xt+/0xV5MX+xFY0u/ygVTP8eN+jlDuw5yTO3CG68fZ7CIUkrT6MQfdGLiD5LPqcZgEbEzMXsWRUquJzorO+GsjH5A5VtCPMfZS+A4ewlche1wFbbbJklirioX6K0jFqibhHizhUlAwzVqa9h7wTeLwdYs8KBmgQfO85ZDu3ANtAvXqH2rXbIO2iXrMLpXx+jexAIwEsyL9n6DawANrgG0jggcI3JjK4GQWDcjYdspxgxO2qXrQ3LwyI2JfGbmvEHMnBfYJhLokWW6Lt8I1+Ub0Tq9O2z55sCBY1o3HNO6Q943f8d53nKfcuxE2J8yc5osX26wnecu8+nfZjLrlTnZZjKm64Yz3gxcdjOR4J82fh+08fsSq8NBx3oiNtcHbsKHsv8zqaqv56/ALG0As7SBqIlgtTEd0MZ0qDqvVewOawNSSSIrZUhoH5TuyMmZ27SK3dAqdoeuV5z2MVZAUtrFsG3lb5siLnN6d0gbKPsreB/L8S/LNz9omLJKx5RVuqqvMhtgU1Mfmpr60DDbHfZ70ta5Rm2NeE6LtD5yzmodwZ5FlOazFXsD14QV+3zGewhJc1cGi4id4TA0arnypLX2Og9qr8vtJ/KU0vwyWgCB0nw2JFh07DhaamP3upUHYbE+I7lDJLg4YYuBCVsi9K4NCrC11B6O+9utI3x5TzKd+4TS4eZwCRrLA0t5+CQPX5J5sK+N3QNt7B71f6QHsVG/639AFvzgQR4O1F07iNprBhgsIraFwSJKKaWU0jxyuNwkUkpDDe5ZyXYgN2TPImJnGCyiiVtzyKfV5aCUUkqHsSE3iX/9u29IcdD75mGK2kVroV20NuYy1dBk83tnLPTp/1+G7SdTXjUMfEInnBOSzwnSOiI0NUIywzDV+kmvhKldcEztUv/Ltok27DtkGf5hg66S7XCVbE9pPWQ4djrqQXB5Ex3emtB6+ntNpJKLLB2mI7fXcJDBotyQwSJiZ4ZVsMg5aT+ck/ZbWw5/wCXZPB50eBkvJxillFoiHxrkhLxJTN3gXH+U5qoxc635jdcOmPNN0szIYBGxMzkVLMrUlIda+S5o5bssX79c1Dzjl+OcpSpQITmESgd0n26f5fsNlO83VAJl7aK1KlGfLE9maJPZ5kb36Rjdp6snlLKMos961cxs47+/H+O/HwjmFd/fg+L7e1D27W6Ufbs7MLuRV0fR7R4U3e5RM6kV3deHovv6MPZ7BzD2ewdQ+uAhlD54CIVfHkDhlwcwfbEXEzcamLgxMNOWJFedtsSLaUvC615wcFGeRGqXbYB22Qb1nav2GLhqj4GxHX79s82V3N+D8dsMjN9mqJnpZDvK8ssPGCg/YKjtKrNDjbrVi/HtBsa3Gxjdo2N0j64SH0rZK/YaqNhrYPIaHZPX6CjvNFTy7at2G7hqd3iyRJkRT35PyjfqNq/a1jLDnsyEJ5+VbV94txuFd7tRsc9AWbdPWb6UWZ6aysxBsoyybt9vjbrNi2Kv7tuP/v1mrmNlXYZP/8yGUq6iL3jUzGwyO558VranbO9Rt3rVbEiTbvYps8kVfsnt079esm3GbTcwbrsvT4fsW1UfTTMMlncaKO8MlDHS8SX1RGYblLLKsmYs8qqEveO3Ghi/NbBdpS7JfpRk7VKuKSt1NfOWeSa/umsHUXftoErEK/WzZFBXMzXJE3KZ5Upel4Tvsmz5P7jru+xHWS/ZzkWf96Do8x51vI/6jFdtY6mzsq9lW0g9kbKWHQx8RmZOk//lGFb1w++0pV5MW+pFiVtX20LKotog/3rItpc2pPxA0Gf9r0mZZVtLO6PW0z9b5eheXdVl2W+V63VUrtdV/ZDvSP0s8egqIbIsX+qUlE2Oe9kmU1bpah9K2eT3pK1Vy/rKAAq/MqBer9gXqBfmBP1TVuqYsjKw3yQJ/sSNhiq/atv9x4a0+9JGSHJW2eeFX3SrOm3eNrItRt0aenxW7DVQuUFH5QZdHU9SH2XyAtmu8r4so+jzHrWdpO2TdZcZNmV7S70NrrvSJshxIMtX6+evt2VdgeVLueUz0n6M+novRn29V7VjUq7xWwNJbNU50l9+qdtSBxpmu9Ew241JNwfquyxP2rHy/QZeO35C3SS+dvwExhzWVZsxdUWgfZdjQ9ZLZo+UHiMycUT91e6QY33y6kCdk30j35HXpy3xqnO5zGYo20gmrpB6U/PITtQ8slPV7eBcSM31PSGJ7aXtkbLJvgo+50muJFkfqZdqshJ/zx9Z9uTVgbpqbrslN5P8juyj0T06Jq3zKfVQ1ke2gdQtqSeR8kLJcSY5U8zHv7T9U1foavnyu3IcyPWBfFZmDay7ZlBtL1EeRjY39KK5IdArSIIPsg9mfnpQlU22q5wXZHuaZxt1TO1Sf0d76GnODZOKwbmwJLgnvdOifUeuz1pHLFDnjrDP+K/75H3p6Sb5uoInSpFtIG23tHGyrWQZwXU3USMFcKTdkuVLGyGvy/Xf6F5dtRt/ezfQDvztvXdj/qYcx+brIDVrpD8XmfyOtG8TNxlhMyvLeUHqnLo29B8HhV90q3O7tP/Svsg5Ss1c6i+HlKu0P3CfIWVQ16D+csi1vVj0tb6w60dZvpyH5H25Pir8olu9JzNzyrrLZ+XcWPzNXhR/s1eVq3RAV9egYx7qxugHuhgsIrbF0mDRULrxpstsznQUa7YbuRFMy2/FmFEsXvdnZ9UBaJ9aHXsmPP/JNTgYkeiTuliBO5k5xvx6Y0s/GluGPrOVeWpuc/JOuahOxz6ItJxUus1H05xUdKi91ORCKS31z2IjTQEfbba8qMuY3JXwZ+UGO2vr5w9cxvpM7XwPaufnb7J48zCXaMNjZOaq+qvdqL/ajanLk59JZmyHEffmRhL+SrLs4GTBWtlOaGU7c3bmtpDtleAsdrGeZpunja++0YvqG73qBjjmsv29kszBgVxUZh6ThyaRhl0lkjQ6TNOQrmjWXTsYlrw1+PzJnkVZqgf+4ILsi0R6e+Sa8a7paP5678EH8ZBxBA8ZR3DvwQejfi7ZYaM0OdmziNiZnOpZRCmldtAcCJegRiK5IuJ65qKYAeHWEUEBDAmyBM1eJIEYCThKvg5zEEBuhKXsrSMSy3URrOPsJepJdUo5RuIEYCQAHPwEPdoNfNR8LDFMJl9HIkG8RJXguwTmEwlCyQ1hpH1kDs5Ee1ATLcdJzPX2fyeV71pl8I1TIrl8WkcsSCjAI8pDKDnWpLdDUsY5xvMtWJQPPbwzFQiK1yOGpmk7Zygo5pjc5XuAFHQejaec96zeJjTJfW0athfcWy2WDBYRO8NgEaWUWqR2yTrLy5BI8Gm4Kz2L0r7c4m1wFW+zfP1o/pl3waJ0BEySCNjRzMvcm5T6ZLCI2BkGi2hGNHefpzRdyrCQqJ9J4Omf+SI3kafeMkwy7u8PY3NhaHE8ow13tYuJDjXLmFkKPMY6ZiVXmOQMUu/524ZI+988VDVWTzgZoqb+T/DpczrNt2ARpZTaVQaLiJ1hsIhSStNsNnOhpWo6u+xbnRMjeCgRh3zQ4SCDRZRSmhsyWETsjCXBopyYwp5aYqYSKcebHjT4RlaNP8+B7TGcZE8zSilNjwwWUZr7mmeki6Q84Ig2My/NfRksInaGPYsopZRSSvNIBosotYcydLh+jhv1c9xJffe5p17AsVfexLFX3sRzT71g+boMVxksInaGwSKasFVrdVStTX5qakoppZSmTwaL6LDQZpMvOKoPwlF9EGM7DExZqWPKSh2Fdw76/MoACr8ygPHtBsa3G5iySseUVbGvudkO5IYMFhE7w2ARpZRSSmkemQs3idqnVqvk3s6qA3BWHbB8uzjOXgLH2UtifsbqJPd2nVZdtn06cti11B5GS+3htJdRG9MBbUxH1rdNcF69dJoL7QBlsIjYGwaLKKWUUkrzyJCbxL++nZEb1AXj2wAAIABJREFU0Xgmk8TfVdgOV2F7ct89Y6HPGK9pF7dBu7gt/LtnLkq5V4rc2AeXN1tmIqggwRtzEEe7uC3udnKctdjnOUvhOGdp1reHFcpsvo6pXXBM7Yoa/JJcQ65RWxMKUmZCBotyQwaLiJ2xRbDIPE171IuHYajzvOVwnrc8rctMZPuaLwzD3k/hyVqDawANroHQ100XOtrYPdDG7sGMRV7MWOQNeX/aUi+mLc1M8kDzVOwR94W/nrou3wjX5RtVF+Pm+h401/egYbYbDbPdcI3crJJwz9IGMEsbQPUyL6qXeVG5QUflBh1a2U5oZTvhKt4GV/E21M4PTOU+y9GPWY7+sMSKss3l9yUpeM1Cj/qOKoN//zU196GpuU+VUS6OHNO60VJ3GC110Z/8yfKVZy2Gs7ITzspOVe6wbeRPfi8XpjOu92DG9R5oZTsD3/Wvh9QHc32U8f+NLf2one9B7XwPGlv60dgSWD/5rkz1LmWUnAF11wxi+g1eTL/BC9fIzXCN3BzYjldsguuKTZFvZMzHSsVuaBW71baS3zVP0x3yHf+Fqat0B1ylO9TMamLEulZzyKfp+JP1krrf1NynlmteH/N2lNcjJYQfv9XA+K0G6q92o/5qNyZsMTBhi6GGqsq05q7SHXBO6IRzQqf6rHr67J9+XLZFc2Mvmht7Q9oY8zEr20A+K/tafr9mgUclCZV9LnUoVvJQOTav2m3gqt0Gaq/zoPa6wDGl6p6/Lky8xcDEWwxMXhM4fmsWelCz0BNx+Ym2Cdql66Fduj5sHzkn7Vf7Qx2j/v9l+8q+ll4TLTN70DKzx3es+Zcn9VDqvfyeOVeGY3KXOgalTZVp51WZ/D1J5BibuNHAxI0Gpi/2qqf38hmpjzULPKhZ4FHrIMdHpEkP5CZVHRemm2hZ76bmvsDv+ffTzHmDmDlvUO0b+Y70Vgi+qZMyyvZT7ab/mJJtpl26PlA2/1ASWb60SVIf5fel/Z6yUlfnpEnrdExap6u2VPaXtH3VN3pRfaMXtfM9akIIKaN8pu6aQRx7893ATeLf/p6WwIYck0md+8zto/nc728nExlSE9UE2tqE1s+/f0RpS+U6SY7DhJaVxhkgzXU95Hf8PbfS8TsJlcUU9Ih3LZdLqvbk4rawNjTss/42Q9rA4Dpi/qwc5/Vz3aifm1hOIfNEPhJ4ingdOwTjBov87Xb91W5VfmknJ2w2MGGzEVZW+d+8bVpHLFDXbnJ+iVU2aRtkOXItYV5uUoFI/zW9+XyQrp6Cci0s5xd1LxFp/fx1bOoKHVNu9DBYRGxLzgaLzI3H9MVeTF/sVRe5VpcvVeWiMt6Ndi5Z3mmgvNPIyLIrNyR+8Vh0Xx+K7utLeVrsumsHUXdt5Bv0jO5zCS6k8F3nucvgPHeZ5XWA0lgW3e5B0e0elB00UHYwsbYilRvTTNjY2h92QyQXwnLTH+27M65PLjiUSSWQZnU5aHbMtR4F2Q5qZGpYjx3Mdi+XSEGFdJlo8G64euSuH+Oxbx3FY986iiN3/djy8gxX2bOI2JmcDRZRSmkiSo8Aq8tBKaWtIwI9jzL5G7kWLKKU0lww3b23EpHBImJnGCyilFJKKU2TsYaZpksGiyilNFzzsLpsyGARsTMMFlFKKaWU5pGRgkWxct9EU77jKtkeyCXozwuSSG5Bc/65aMMhhzRMLYWcRfJ7ahj4mYtSGtYt6yPD3iS/kXk9g7e95KOKto3CfsOUdzNkPaIMt0tlX6vvSuLmcXsD+Q8l75Y/F5P02DWvS8QypjAMLThHXbqUXHfa+H1Ryy3bTfZfuofsybaQ31d50oZRgvDhKINFxM4wWEQppTQhi+7tR9G9/Rj1jV6M+kYvGv5jOxr+Y3tGk8dTSsNlzyJKh6+5ks8yk/mq8kkGi4idYbCIUkppQo66zYtRt3lR4tZR4tZRfH8Piu/vCZsRiVKaWRksopRaLc/9PhksInaGwSJKs2TVTTqqboo++9vETQYmbsrMrHOUUkrtI4NFlNKjP3gKfzj6HP5w9Dkc/cFTlpdnuMpgEbEzDBZRSimllOaRIcGi196BNnZPxM+pnDvj90Ebv29IvzlLG8AsbQBjdxoYu9PIq6nrg3MvmfMQmbeNs7ITzspOuEZuxtQVOqauiP6Qh9JErNhroGJv+h8GMmicGzJYROwMg0WUUkoppXlkyE3iX/8O1+UboyZDbh2xQCVmlv8lsbEkBY6VgNkqVVLgoATXrsJ2uArbo66XXZRE01aXYziaSGL3XJHBotyQwSJiZxgsopRSSinNI/P9JnHGIibEp3So5ns7YBcZLCJ2hsEiGmb5fgPl+5k7h1JKKc1Fs3GTaO6pVNZtoKw78rVBOntjTFqnY9K61IZ+lXUZKOsyMHaXTyv2Tbz8hOk0eGhT7XwPaud7AuVYq6NqbaAcRV/woOgLnrT99uQ1Oiavib6eV+0xcNUeA9Nv8KJyvY7K9eGfjfZ6sGMOGRhzyMCoW70YdasX5Z0GyjsNNbRLu2wDtMs2RK4P/jorU9gnsl5TVuqYslJHxT4DFfvC69DEWwxMvCX0dal32a5rDBYNzeplXlQvSzxwPWGLgQlbwvczg0XEzjBYRMPM1NhqSimllA5dO98kamM6oI3piPheY2s/Glv7o353dI+O0T06xm03MG67NdcxEzcamLgxO78dnE+p7tpB1F07qP53lWyHq2S7JeVqHbEANQs8qFngwZSVOmbOG8TMeYNpWZ78n0gAKFYgKZ6Oad1wTOu2pA4laq4muK69Ln1ByUzaMNuNhtnuhD8fLZDNYBGxMwwWUUoppZTmkXYOFtH4yk2us7LT8rJQOtxlsIjYGQaLKKWUUkrzyEwGi5obe9Hc2GvZus1y9GOWI9B7SGYnaz1jIZxVB+CsOpDUsKJs6jx/hfrbcfYSOM5ektJyZP3q57pRP9eN5oZeNDf0oqXuMFrqQtdbkmHLtknmd4ZSRqvNdCLqSNu6dcQCuIq35WRCeGqdDBYRO2NJsMh57jI4z10G18jNcI3cPOTlaZesg3bJuuw0CBEuTuw6G4dZR/VBOKoPWl6OdKmN3RN1uuHWEQtQf7Ub9Vcn3j01Vy36Wh+KvtZneTly2Xys2/Vz879uJqs5n5rcSMX6juvKLXBducXyskeyub4HzfU9Ya+nY8gGtbfsWZQ5HVO74JjaZXk5ctXi+3tQfH94u5UO5zy+CXMe32T5Oua62oVroF24xvJy5IrpuJccigwWETuTcLAoXYEdGqfBifIkIxmjTZ2bLrMZnLOV07t9Wl0OSmlOGGuq84z+bsVuaBW7LV9/u5qNXi8MFvnM514e+fiQItMWG14UG6EJh7WL26Bd3GZ52Wh6Tcf9TiK6Lt8I1+UbM7suDBYRG8NhaJRSSsOctsSLaUs4vTWluSiDRdSOfvm5Wnz5uVrLy0FpMjJYROxMSLDIVdgOV2G75QddJOMNGaKU0nzWPHMNpZRGk8EiakdL7u9BSYaGuNnRI3f9GI996yge+9ZRHLnrx5aXZ7jKYBGxM+xZRCmlNC90nr8iJIEspcNVBouoHa1Z4EHNgvyYdj0XZDuQGzJYROwMg0WUUkppLnnGQp9Wl4PmrLxJpHZ0whYDE7YYlpcjX2Q7kBsyWETsDINFlFJKKaV5JG8SqR0d22FgbAeDRYnKdiA3ZLCI2BkGiyillFJK80jeJFI7etNTN+Kmp260vBz5ItuB3JDBImJnGCyilFI6bNXKdsIxuQuOyV2YsNnAhM0GKvb6nHG9BzOu96DwrkEU3jWIoq/1oehrfRhzWMeYwzom3azDMa0bjmndankyTW/dtYOou3YQ05Z6MW2pF9U3+hy7y8D4rT7LD/isatNR1aZj8hqf8nR96godU1foqNhnoMSto8Sto+h2D4pu96B0QEfpgI5x2w2M225g0jodk9bpatlVN+mouknHmEMGmut70Fzfo75Ts9CDmoUe9d2ybp+VG3RUbtBRvt/A9Bu8mH6DVy1HylTW5bNyvY7K9Tq0MR3QxnSgYbYbDbPdqNygo8E1gAbXgJqYomKfgYp9htomU1bqmLJSx8RNBiZu8v3WlFU6pqzS1e81NfWhqalPfUeWL9uk2Ouzqk1X78m2nvnpQcz89CAm3ezbR7JdZdkNs91qezkrO+Gs7FRlrr/ajfqr3YHcKdO70Tq9G/Vz3eq96mVeVC/zqm09dbmOqct11M9xo36OW20rVa4lXjjOXgLH2UvCtqvavjsNjN1pwHnBKjgvWIX6OW7M0gYwSxtQy9fG74M2fh8aZrtx7I13eZNI6TD3uadewLFX3sSxV97Ec0+9YHl5hqsMFhE7w2ARpZRSSmkeyR4FNJ8s7zRQ3snhZdSeMlhE7AyDRZRSSimleSSDRTSfnHiLgYm3MFhE7SmDRcTOMFhEaQbULllneRlco7bCNWprepd5xSa4rthk+bpRSmmyyhAvq8sRrAxPS/Z7DBZRSmluyGARsTMqWFQ3dwCuwna4CttjHhCSE0Cr2A2tYjec56+A8/wVMb9TO9+D2vketNQeRkvtYZUjwDVyM1wjN6O5sRfNjb1oqTuc9AHqnNAZ/zPnLoPz3GVDagi0T62G9qnVoa+fuchnGhsc7eI2aBe3wVW8Da7ibTE/29zQi+aGXtRe50HtdZ5AoxVjO0puDvX/OUvhOGdpQmVzlWyHq2R7YusSb9vUHPIZvO7+/Bbq/8s2QLtsQ8TPRiub5HRwXbkFriu3pHXfJOX0bjirDsBZdSBQxjjHl+TB0C7bENgG4/ZCG7cXzvOWw3necpUfxPx+VZuOaUu8mLbEG3X5kiujpe5wSB0Jzt8hOT7kPckXov6/ZhB11wzGX/+gujxz3iBmzhuEY2oXGlv60djSr/btjEVezFgUvczyXWfVAWgXrYV20Vo4J+2Hc9J+aOW7oJXvUseKHKOSy8QxuStsXRtb+9HYGvh9+Y7kS1H1J86xly6nrNLVesi2SfXmMdF9Evaav06p4y2dv5fE8mTfJPJZOR5ifcZVugOu0h1quVJPwr4boW1xTuiEc0Knqn9y7DiqD8JRfTCwfpeuH9L2kZxICW1LaQv89V9ej1ZftEvXD6l8ciwk/J0Y7bSUPex1f93XLtuQ8vk07Lwc7BkLfZp+L5U6pY3bC8dZi+E4a3HgdX+ZI14fxFFyMsn/kiNJ8hMFHwvm66xpS714/a1AzqJjb76L+jludW2VyO/L9ddQ6m+wkgdLcnOp6zz/eS+p64doZb58Y9SAn5wf1GeTuAbQynZCK9sZsX5K+6HWx78ekuMqrB6dv0JdH6dr20asr2kKfEqeremLvZi+2KuuEWc5+jHLEaiDkvcs+JpG2i+5FpXXzefdfDPdxwbNP6VNl4eu9XPdqJ/rjvhZx1mL0fq/rmewiNgWW/YskpOf1eXItOkIgg0XXaU7wl6TGxhzglpKKaX2NTjgnq+yZxGllOaG7FlE7Iwtg0WUUkrzX3Nvw4wYp9disNI7NlpPhFw36d5CNGdlsCh3tbxnMx023nvwQTxkHMFDxhHce/BBy8szXGWwiNgZBosopZRSSvNIBot8ynDnRD6b7Zx7mRxSnNC2uWRdxPyJ5qGsNH9lO5AbMlhE7AyDRZRSmmbHdhgY22Fg/DafkhNKcuHIk+fqZV6VoyTa8FnpDSK5JBxTfU5bGsj1JLnk5P8pK3VMWamrPBMy7n76DV6VW8TqbZTPyhDgltr4eTmkd1QqeW0ojSZvEimlbAdyQwaLiJ1hsIhSSimlNI+MdJOoXbgG2oVrLC8bpTQ7MliUGzJYROwMg0WUUkoppXlkpJtETtaQHyYzCy2lsWSwKDdksIjYGQaLKKWUUkrzSDvdJMbLJTRhi4EJW3xDe2fOG8TMeYMJL3uWNoBZWvgU97F0Vh2As+oAKtfrlm8bSmNpp3Ygn2WwiNgZBoto8k7v9pnCd52VnXBWdlq/DinqPH8FnOevyNvZkCillOa/vEmklNLckMEiYmcYLMo1z1jo0+pyUDoMdZy1GI6zFltejly1pe4wWuriJ3WmlAZsaupL+zIZLKKU0tyQwSJiZxgsopRSSoeBMrNe2OtpmKlNpunWLtugXmuY7UbDbLea3txVsh2uku1qVkD5TqRZ5Zqa+9DU3Ke+W3+1G/VXu6FdtgHaZRtQP9etVL1d/TqqD8JRfVDNNOi8YBWcF6wKWb7r8o1wXb4xMI14zSG01hxCY0s/Glv60TKzBy0ze+Aq3gZX8Tbf+7KuF6316e9h6ipsh6uwHY2t/Whs7Q/MYCjlWKEH8gn5f0cCr/L70mt1xiIvZizyonqZVw2Hku0ln5m6XMfrb59gsIhSSnNABouInWGwiFJKKaU0j2TPIkopzQ0ZLCJ2hsEiSiml1CbWXudB7XUey8tBMyuDRZQOY89c5NPqclC0jmCwiNgbBosopZRSCx2/1cD4rQa0it3QKnaHve+6ckvYazJcapbDp7xevcw3hEmGUSVTDhkm1jDbrYZfyaQErpGb4Rq52fJtlWnjzcyVKzJYRCk12u7EHdvuwR3b7oHRdqfl5RmuMlhE7AyDRTTvdFQftLwMlFKaLpua+jKSBJnaVwaLKKVsB3JDBouInWGwKAWd5y6D89xllpcjL+Vsb5RSGqIkQra8HJwNMG/kTSKllO1AbshgEbEzDBZRSqlFBg/rkRmPrC5TNLWynVn7LcfkLjgmd0Ebuwfa2D3h201mqIq1HAamqY3lTSKllO1AZpQZQh1nL4Hj7CVxP89gEbEzDBblodHyWtD0mO6eYzL1s9XrRSnl8UjtIW8SI9sw242G2W7Ly0FpNmQ7kBsyWETsTMaCRTPnDaZlORLdNb8uT55jXRSk0rU/E0k8neevgPP8FZHXz//kPNp6RnKWNoBZ2sCQEnG6SnfAVbpD/X/TUzfipqduRLHhDfts0b39KLq3HxM2G5iw2Yi4vBnXezDj+sAMPNplG6BdtmFo+z6NN3WRhlZol6yDdsm6hL4vyWTjbUfnBavgvGAVWkcsQP0cN+rnJH7Rmkx51O8Pob5qYzqgjekIea3u2kHUXZvcses4Zykc5yxNy35Kp9q4vRldviQQdhW2w1XYntA+1C5dD+3S9Yn1jIm2jIvWQrtobVLfMR+frSMWQCvfBa18V/jyk2iLzPU/qfooPX9qDvlMZVtcuAbahWtCXqvYZ6BiX+R2KpI1C6LPHFZ9oxfVN4a3ic0NvWhu6EXriAUY3aNjdI+e0SFc2Q5uBe9DVU+md6N1enf2hqrFqReR9n00W+oOo6XucMT3nFUH4Kw6kPbt5xq5GZPX6Ji8RkfriMA1S7p+I5M3iaqdSuEaY8YiL2Ys8sJ15Ra4rtyirnGq1uqoWqsPrS4E9RSUoNDMeYNpu95Mhy21gXomvRKSmaEw186nyRxndlPuISrX66hcr6N8v4Hy/YmfW2JZ2h/9WJBzvFxPRDonS9neeO2dkHZAPis9lWO1O3KcJ1QPTNeL8eqpY2qXuleJVqfM1w9DMdJykqm7rlFb4Rq1NanflAfLzQ29aKo/zGARsS3sWZSjygw0VpeDUkqzLXtPUhpb9iig1FodU7vgmJq+AHAqLrpiLRaPbMPikW1YdEVyD5Fo+mTPImJnGCyilFJKk1CeKGrj90X/TAo9VmoWeGL2dEq3yTxZptYrvXVaRzBYRCmluSKDRcTOMFhEKaWUUppHMliUP3IGXUrtLYNFxM4wWESzouvyjXBdvtHycmRTbdzejOfNYTLP/DA4r5GVJjLbWqwca6kYKV9SPCXXR/1cN+rnulXOmZTK5s+1o9bvvOVwnrccU1fomLpCj5ijS/KNST6UaPkMqpd5VT6SumsGUXdNhNwpWZ6VLdYQPm38vpi9ocRU82nR7MlgEbWzyeTOy5bpzLFD7SWDRcTOWBosmrbUi2lLw5OHUpqsTc19aGrus7wcVjocA3K5ZLLJySml2THRIFk+yWARpblvtMlRqL1ksIjYmZSDRclkmc+12R2GYnB+h+D8AflirvRwyNj6DWGGuEybygxx0YJgqfSwkGN2KMnTg2+6sjYrUjzPXORzCMswb+fgGW1oeg2eSSwrJlA/zMemzCSTznJEOv7tmjMo2rCbSDMwZtPqZV5UL0vfAyqZKU56qw0lYN/gGkCDK3zmoJDt6m/3tfH78MZrxxksonSY2zmvH4cWenFooRed8xiUskoGi4idUcEi54VrkgokaGU7oZXtjPkZczAleFrxtDqUqZeHMj17locXZELz8Ir/z96bxsZxpHner9qwYb02bMiwBVuQeYgSRUmURFKiJF4Sr6osH/L4kFqyJEuWZFHWYd23KFEHxbMqe/oa2z3T03b3TvfY3t05jMG83QsM0LM93t3xArtfZjHGNvZLY2d3uhvv7uy+2K/P+6HyiSpmVbGqyCpmVtTvAX4AWZWVGRkZ8UTEPyOemO+6+tiKi0m8smSWRPiWgpj8f/akNF9wpfmCK+suJTHfeVvu6kA+2wBEy5R21nUwor8NOn9n3GueLc+zLnUpsIwVMjXa5I1vedxsgxvNV/85FizfvIF+pc/a0W1uF6IcFZ22Em/pnTf9OcpQrP6CWf6ky9BKcr1CZpUE5MtL/SznXAZKkd8qyqULc77/dSto87+31CTy6P45iemDi3bN8E8Z3/najBnLSAJuv1W89+d9IeU1uviA/Oa/VtbMolLv8Jqv7pTqJWW+fjHxiAp/JlAcOobSfnS6/9RytxAzDLO9mMxVv8LY9y7oHn193bzHP3F4Rt1HLMJsNmIWAUDV03YkIW1HEoGnAwCgEFiGBgD4gXCAWITZbIhFAACWojP9gk5HpVLIDFolNMsyCykXOZZL9bw4KT0vEjC/EmCQCAD4gXCAWITZbDOWoemUcJ1GmG3ph3+K4Wydaf/03cjmEYlsHsmYqqrHRdcPZ0zJzjU9XpcsOKuvSn/PqPT3jJrOuk41j2y5K5EtdzOWv+kAynnmeEbMCE3LbLEHdOnaXJaW6DRSjYmRazCnS0NidedNBz5jWZZ3joHO+zNirETXD5vYPZpG82z9saa85WFm54k5TsvX56T3p7sYBeW4S71cyj9F1V8+dDqq5kO23YQKXeqRrT6Z/PWWKPhjFmWLseOfHq/n0Hpi0pw2wM0XcyNrrLISxAwq6ll4917stOGCys0cl8LAwjDbTl/ForuhBX1PAHOBQSIA4AfCAWIRZrMZsSjyfx/IGCjNGNh66/tVeOnrG5O+vjETL0i3DVbxKNtAXUUd3Y649VhCWo8ljGARe/6sDHSPykD3qNkSXAUmPYcOcHXQ6jReMWtnNXCqf3tLPaem1YhLs6xn153aOnZPS8fuaRPIcnDRLiPO6MBl48mEbDyZkLajSbpem5qBrjvOtu492nJLoi23pHUoIa1DiYz77R0cz4j3E1t+RmLLz+RMu/PkEXOP5jNPZNDzt78Vl/a3UoE+9dkX8mZc8zP9LbTmV754C72D48l7CoFzh9KwdW9ctu5lV0MAgIWCQSIA4AfCAWIRZrMZsWjNxbhsOpyQTYcTsvaKK2uvuNI4kgo2vOa6K2uuu1LvxqXejUvDeEIaxhOy8kESFTv0/9rvTMuKyYSsmEzIqnuurLrnSt0341L3zbisvu3K6tuurD+TRAMbr77lSt3vxqXud+PmOiumE7JiOpWmhomENEwkzOcNkwmpj3u48Rk0TCa/X3/WlfVnXZPmVfeTrL7lmuDKjXeTbHgvieaFDoT1/lbdT0jtt+JS+61UHqy55sqaa665zupbSVaOJmTlaEKabrjSdMOdcW1Nv+aR5pvB+23DRMLkiV5P77fuG/EZ6LNaf9Y159fvNI81LfpWXbf1VOFu48nUm/aelyal56XJGeddf9Y1Yl/nG9PS+ca0DC7aJZveTiTx8q3l3ST6m7VXk+hv9Zxrr7olcdQmmLo3y2XzwYRsPpjIOvOtFDsdbdsTl2174ub8KvqlXy/X7CoV21qOJ6TleGJO6dHrZQ2KvcBoXgTdWAMADC7KbLvU52p77jRdM75aX3TpTEV9UaVtiLb3Nd+fMG2vts+NI8l+krar2r5rH0T/X3fRzeknN55IyMYTCdNG13xvUmq+NymNI65sfTMuW9+Mm75S+u8YJALAiU1X5L2OG/Jexw05samwJdNQehCLMJvNiEW1P7wvTTddabrpmmCvm95OCQc6s0ZFIxVEVFypT8SlPhGX5vOuNJ93ZfPBlMCz9nISFWRUXGk+l0Q7QhtPJIxo0f3KlHS/MmVm9tR8OCU1H07JyrGErBxLmOs13XBlw6kkmlb9X3+rn+tsKP2858VJWT3syuphV9ZdTKLH6CBcr6PX7Xp1ypxfO4h+p6GClj/+w5prKWFM88b/W/2Niis9L0+aWTuaT7rFrj4DTaO5/mRCtn19WrZ9PXXvKqas+ZMRWfMnI0ZMarzjSuOdlJiTfh4VmlTw0dlI+iy0Qzy4aJd5xips6SwuFbg0r1Sc02vUvD81qwNOJ12I1E66ERy95+f/TX/vA+nvXcBtuqsQLUtBpwMAoFpALAIAmB8aesG/e3fO43O8oEUswmw2IxatvRCXun/2IEmW2So6OFexQ2cJ6UBR4wOpaLDhPdcsy9KBvH6ng379XkWPrXvjRlQwgpInLuixusxJxZvVw64RsHSGhp5Dr6dvBlWcan0nIa3vJNOtYpF+pv+r4KMzcAa67stA133p6xvLEMH8TkNjCukbSxXUWt5NGDFNBSe/eLLhtCsbTqfuf/Vw6m2lLn/TN5R6jtofjUntj8ZSz+pOSszTe9c3obUfj0vtx+NmJpAuldNrrD+bSouKQxojRuMf6Ra4OnNrcNEuI9ro21g9R75laemCZD70uv3bM8UfnaXjd+Sdr09L5+vTBV8DiidXPQAAgPKAWAQAEA4QizCbzYhFz384LvU/fiD1P35gZp80fHLPVIQVPxmVFT8ZldpvT0vtt6e8khTkAAAgAElEQVTNdGwVKpS6P3ogdX/0QOp/Mio1vz+ZxJuJov+rYFH73Wmp/e601PzBZJLvT0jtD8ek9odjsvZPb8vaP70tqz67K6s+u2vOq9/X/GBCan4wIQ2f3DOzWfR8KkbV/2RU6n8yagQTcw/e/7U/HDP3UfOHE1LzhxPS8Mf3peGP75u80LSpOJa+bE6X15n7+yCJCmg640fPUe/GpfY700m8tOrsHP3fzMTxZnnV/MGkEXr8s5zM9b280GfVOOKafNLz6dR2RdPofwYrx1LijZkN5AlcKsis/PSerPz0ntS8P2VmBum96wylXDN6tGwF7dihdGidCTodAADVAmIRAEA4QCzCbDYjFg38X28EXtkAAADCisa+0eW70ccPmRm5uX6jcel0luqmw6nYdXqMLrvW+DWFpEVfPOgScRXq9fsdzoTscCbmdJ+5djjNemyWnSfnEodNZ7nq//5l5P5Zq+lojCKNo6dL6TOO9ZZHRxcfyIjrp7OLdebuiqmErJhKxRHcERk3y9R1pvVseeCnY9e0dOxK3Y/GT9IXLf7jNx9MmJdU+kIqfaYsYhEAQDhALMJsNsQiAACAItClxoOLdpnlzbmO3bIvLlv2zQxsrDt3+o+NPLy3oB0pBxftMpsJ6P9hCHYPCwdiEQAQ4DocIBZhNhtiEQAAQBH094xKf8+oxBouZezwCLAQIBYBAH4gHCAWYTYbYhEAAADAAhBdfECiiw/M+zwMEgEAPxAOEIswmw2xCACsQHfLy/ZdrP6CxOovBJ5GgDASW3FRYisuBp4OKBwGiXNHd2nV7bIjj+yTyCP7Ak8XQLGE2Q84Tx4R58kjgadjIUAswmw2xCIAAIBFu0yA5KDTAZCPMA8Sw0i09XbgaagEIm0jEmmr7h1rK2lpMX4gHCAWYTYbYhEAQID4O+fOM8fFeeZ44Okqyb2V+G2903RNnKZrhR275Kg4S47K4EN7khTwm2oRi9IDdBf9DJ46Js5TxwK/h2qHQSIA4AfCAWIRZrMhFgEAlIDYc6cyPy9CqIAk/T2jC3/dr+2Wwa/tloGu+zLQdT/ncdHHDkr0sYNlT0+s4ZLEGi6Z//Nty54P/7btUPkwSAw/seVnJLb8zIJdT5fXZaSj5pzEas4Fnh9QeoZ3jsu93XG5tzsuwzvHA09PtYJYhNlsiEUAAHMg+vghiT5+KPB0wPxxVl0WZ9Vla2cWIRbZB2IRAEA4QCzCbDbEIgAAqB58s72cpSfM3yoW9bw8KT0vT4rTeEWcxivm++2xCdkem6iomBZgJ4hFAADhALEIs9kQiwAqmFJtwxxWnHU3xFl3I/B0AEDlE3l4r0Qe3ht4OkrBQohFJfW/W+8mmctvvWWiZS8fVbIrmrP0xAyRHADmB2IRZrMhFgEAAABUEJU2s6hahBgAqD4QizCbDbEIAAAAoIJALAKAPcuOyd7lQ7J3+ZDsWcYulUGBWITZbIhFUFK2vhmXrW/GA08HAACArVSaWAQApQc/EA4QizCbDbEISooGgO16dUq6Xp1asK2mAQAAqgUGiQCAHwgHiEWYzYZYBFVPX/+Y9PWPBZ6OQnCWHBVnydHA0wHBY0ugXoAwUvJg2L5d+OYLg0QAwA+EA8QizGazWiza9vVp2fb16cDTAfYReXS/RB7dX/brxOrOS6zu/ILd16bDCdl0OBH4fSsDXfdloOt+2a/T3zMq/T2jRf0mun5YouuHFywvwsjWvXHZure4ZafRJw5L9InDgae9GnGeOibOU3bFtbAtDk6s4ZLEGi7lPY5BIgDgB8IBYhFms1ktFgHA/Mg1sM/2WSHbLBPkFCoRFW11IB9bdlpiy04Hni6oXhgkAgB+IBwgFmE2G2IRwBxwlp4QZ+mJwNMRFNlm1GicqsjmEYlsHgk8jQAAtsIgEQDcoQ/k/QsfyfsXPhJ36IPA01OtIBZhNtuCiEVdr01J12tTgVdmAIAw0TswHngaAKDyQCwCAAgHiEWYzcbMIgAAKCkLHdtKcZYcZakjVAWIRQAA4QCxCLPZEIsAACxh20+vyLafXgk8HQBQXhCLAADCAWIRZrMhFgEAWEL/X52X/r9auN3zACAYEIsAAMIBYhFmsyEWAQBYwht/c1ze+JvjgacDAMoLYhEAQDhALMJsNsQiAABLqPnepNR8bzLwdABAeUEsAgD8QDhALMJsNsQiAABLQCwCqA4YJAIAfiAcIBZhNhtiEQCAJSAWAVQHDBIBAD8QDhCLMJsNsQgAwBIQiwCqAwaJAIAfCAeIRZjNhlgEAGAJiEUA1QGDRADAD4QDxCLMZkMsAgCwBMQigOqAQSIAfHznE/nM/Vw+cz+Xj+98Enh6qhXEIsxmQywCALCEum/Epe4b8cDTAQDlBbEIACAcIBZhNhtiEQCAJSAWAVQHiEUAAOEAsQiz2RCLAAAsAbEIoDpALAIACAeIRZjNhlgEAGAJiEUA1QFiEQBAOEAswmw2xCIAAEtALAKoDhCLAADCAWIRZrMhFgEAWAJiEUB1gFgEAF99+Uv59a9+K7/+1W/lqy9/GXh6qhXEIsxmQywCALAExCKA6gCxCADwA+EAsQiz2RCLAAAsAbEIoDpgkAgA+IFwgFiE2WyIRQAAloBYBFAdMEgEAPxAOEAswmw2xCIAAEtALAKoDhgkAgB+IBwgFmE2G2IRAIAlIBYBVAcMEgHg8w9/Jj//9Av5+adfyOcf/izw9FQriEWYzYZYBABgCYhFANUBYhEAQDhALMJsNsQiAABLQCwCqA4QiwAAwgFiEWazIRYBAFgCYhFAdYBYBAAQDhCLMJsNsQgAwBIQiwCqA8QiAIBwgFiE2WyIRQAAloBYBFAdIBYBAIQDxCLMZkMsAgCwBMQigOoAsQgAvvjzL+XvvvhK/u6Lr+SLP/8y8PRUK4hFmM2GWAQAYAnvfPmWvPPlW4GnAwDKC2IRAOAHwgFiEWazIRYBAFhC001Xmm66gacDAMoLg0QAwA+EA8QizGZDLAIAsATEIoDqgEEiAOAHwgFiEWazIRYBAFgCYhFAdcAgEQDwA+EAsQiz2RCLAAAsAbEIoDpgkAgABLgOB4hFmM2GWAQAYAmIRQDVAWIRAEA4QCzCbDbEIgAAS0AsAqgOEIsAAMIBYhFmsyEWAQBYAmIRQHWAWAQAEA4QizCbDbEIAMASEIsAqgPEIgCAcIBYhNlsiEUAAJaAWARQHSAWAQCEA8QizGZDLAIAsATEIoDqALEIAD7/8Gfy80+/kJ9/+oV8/uHPAk9PtYJYhNlsiEUAAJaAWARQHSAWAQB+IBwgFmE2G2IRAIAlIBYBVAcMEgEAPxAOEIswmw2xCADAEhCLAKoDBokAgB8IB4hFmM2GWAQAYAmIRQDVAYNEAMAPhAPEIsxmQywCALAExCKA6oBBIgB89eUv5de/+q38+le/la++/GXg6alWEIswmw2xCADAEhCLAKoDxCIAgHCAWITZbIhFAACWgFgEUB0gFgEAhAPEIsxmQywCALAExCKA6gCxCAAgHCAWYTYbYhEAgCUgFgFUB4hFAADhALEIs9kQiwAALAGxCKA6QCwCAAgHiEWYzYZYBABgCYhFANUBYhEAfHznE/nM/Vw+cz+Xj+98Enh6qhXEIsxmQywCALAExCKA6gCxCADwA+EAsQiz2RCLAAAsAbEIoDpgkAgA+IFwgFiE2WyIRQAAloBYBFAdMEgEAPxAOEAswmw2xCIAAEtALAKoDhgkAgB+IBwgFmE2G2IRAIAlIBYBVAcMEgEAPxAOEIswmw2xCADAEl7669Py0l+fDjwdAFBeGCQCAIQDxCLMZkMsAgCwhNofjUntj8YCTwcAlBfEIgCAcIBYhNlsiEUAAJDB1jfjsvXNeODpAIBMEIsAAMIBYhFmsyEWAfjYsi8uW/bFpefFSel5cVKiG4cDTxMAAICCWARgFz0vT0rPy5OBpwOKB7EIs9kQiwAAysSOyLjsiIwHng6AIHCWnhBn6YnA02EjiEXlY3tsQrbHJgJPB9iD03RNnKZrgacDygNiEWazIRYBAJSJrlenpOvVqcDTAVBNOM+eFOfZk4GnoxCiLbck2nKr6N8hFgGAO/SBvH/hI3n/wkfiDn1gPo89f1Ziz58NPH3VAmIRZrPNEIvm2mkBsJGNJxKy8UQi8HRA5VNJg1cACD+IRQCAHwgHiEWYzcbMIgCAMrHhtCsbTrtz+u1A130Z6Lof+D1AcLS8m5CWdxGsIRMGiQCwEH6AfkgBeYRYhFlsiEWWE3vulMSeO1XSc0afOCzRJw5n/c555rg4zxzP+dtiZljE6s5LrO78nNLoLDkqzpKjhd3PYwcl+tjBzHM8dUycp45J5NH9gT9HKC2RR/ZJ5JF9gacjSJynh8R5eij/sQ/tSRKCNBd0X0XU/bDTOzguvYOVG/PKab4pTvNN8/9sbUfYiTyyr+A6E6u/ILH6CzPu2/y9+IBEFx/InWdeuzNbnXOeOS6/+Yf/gVgEUOUgGocDxCLMZkMsAgAACCG6M2PQ6YDwwSCxfETXD0t0/ey7oPYOjEvvQDiE3FjDJYk1XAo8HbDw4AfCAWIRZrMhFgHkoGPXtHTsmg48HQBQnTRfcKX5wtyWMYLdMEgEAPxAOEAswmw2xKIimeuyKAAAAIBSwCARAPYsOyZ7lw/J3uVDsmfZscDTU60gFmE2G2JRsQ6BQG+GyKP7rYznE3l4r0Qe3ht4OgAKJV8cFCg//jg1AOUEsQgAIBwgFmE2G2IRQJnoenVKul6dCjwdAABgF4hFANWBs+qyOKsuB54OyA1iEWazIRYBAIBh+wuTsv2FycDTUQ10vj4tna8vfFw0p+maOE3XAr9/mDuIRQAA4QCxCLPZQisWNY640jhCYE8AqFyYXRYeBrruV9cy4of2zLr9OlQ2iEUA1UlYduGDFIhFmM0WWrFow2lXNpxGLAIAAABIB7EIoDqJbLlr/h7eOS73dsfl3u64DO9ERAoKxCLMZgutWLT5YEI2H0wEng4AAACAMIFYBAD4gXCAWITZbKEVi1bdc2XVPWYWAQAAAKTDIBEA8APhALEIs9lCKxYBGL62O0nQ6QAAAAgBDBIBAD8QDhCLMJsNsQiKxllyVJwlRxf8uq3vJKT1HZYmAgBAdcMgEQDwA+EAsQiz2RCLinUIneHfTad3kCB3AABhwFl7XZy11wNPB9gFg8TwM9A9KgPdo4GnA3aFboZ6X/9YSc6DHwgHiEWYzYZYVOXYtp20s+6GOOtuBJ6OMBJ5eK9EHt4beDoAwoTTeCXnd907p6R751TgaVwo8BGVA4NEADix6Yq813FD3uu4ISc25W7LoLwgFmE2mxGLokuOSnTjsEQ3Dkus5pzEas6J8+xJUxFiz5+V2PNnMypIrOGSxBouzalyOUtPiLP0RKqypc3aiTy6XyKP7s/4TXTxAYkuPiCRLXcNTvNNcZpvymDHPRnsuCf92x9I//YHsv6MK+vPuLI9NiHbYxMSqzsvsbrz5vjo44cy0h99/JBEHz+Ucd/OM8eTPHlEnGdPivPsSYk9dypJ/QWJ1V+QnpcmpeelSYk+cViiTxxOdby9dDlN11LHrB+W6PphGdx6Vwa33jX/rxxLyMqxhNTHkwx23DPHxJadTrLiosRWXDRCT2z5GYktP5PKu80j5pimfzkiTf9yRJzGK0m8tOvb7r6+MenrG5Oa701KzfcmZdvXp2ecJ7J5JOMZ6LNRYSa6fljWXnFl7RVX2g/Epf1AXLbtSaL5Zu679bZEW29LpP2ORNrvSKzhkkmLPje9Tufr09L5+rTUfisutd+Km+e2PTZh8lzT6Dx1LInvLb6ec90l16S75+VJ6Xl50gRR7+sfk77+seSzffKI9A6OS+/guLneDmdCul6dkq5Xp0wd0e/0GWx9My5b34xL61BCWoeSz63ejUu9GzfnNWXIK/dafqOPHZToYwdT9eKpYyatWt71DeW6i66su+hm1p20t5f+8mA+13rt5ZHmWWTziPQOjEvvwLhsf2FStr8wacqsKWud92Wg8775P9pyy5R/5+khcZ4eyqhfkbYRibSlyk90/bApM5oG/3X1f1O35zkrQ59Xz4uT0vPipEmj5qeWD61/m95OyKa3E7LukmvSqs9Y646WF1OGvXzt2D1tyrl5lt4zN2nS+u7Vg3Rfo5jyp3VVy7aH+oEZddKX15q2bHmidcdpuiZO07WMz/3+2QjKD+2RbT+9Itt+ekUa77jSeMeV9r+8Ju1/eU1ajiek5XhC2o4kUb8yuGiX8T0mDV7ZUiFG8yx9eWvkkX0SeWRfTr+ck457qbzw3iTrs9X8y9YO5XvrbNLmHVfz0bjUfJScwVn77Wmp/fZ0yhd5+ep/TsYPpInZ2lbkq7szynSOvNAyrvevaXaeOS79PaPS3zNqfF/rsYS0Hpt9Sa/6IHM+L/0mrVnKYaFo/c5aPtVP+eqO+iB9npoP6f2UaMutpG/y0qa+SH2UeRaNV1JlzP/svTpaiuXW2i5EFx8o+DfaduYrBzPEov/+P8VZdXn2cuO1JRn5nVbm/PUuNIRsVsh80bJcrvMX7C/nQBAhCMqCtg++/lc6pq/r62+V4rrH//2BnO206edpH81Lh/a5Zju/9tFMvzatz5/xLHXspOVmlrzwo+Mq/3WzpknHUTnaYO2XFXJd08/Mca5y4R8DO08PmTweXIRYhNltM2YWmc6sR3pH0AgjPmdlBsCeQ8rmaHNVPn/HpJjG03QYNw6bwYgKPyrS6Plne1vqb1T9Axsj6uj3S0+kHJ/XAdXz6wBUr2vy0hvwxurOm8GwDijM4Hn1VXFWXzViS8u7CWl5N5FspDyHrk5SB5o66MrWWOi1/QMnI0J496UdxTXXXFlzzZWuV1Nv0TWNa667suZ62s50vo6b89QxM1DZ4UzIDmciNXDx8kadqua3Pqv0MuN3/kbk845tfysu7W/FxVlyNL8g4nX09biWdxPmMxUm1l51Ze1V1+SrHmtEMK9z3dc/lipj3vl1YK1ihBlgqBC5cThjMG7S6Eu7GdSlD0j9jbpX1vQY/yAzWznwD+6M4OAbhDlrr5vB2+ZDCdl8KJEqsyoI6aArreNhvlt1WZxVl1MDNC+tGXWn6VrqWC8PtM5ouTEDbu+4UjX0RoTyyqMRuHwCida79Nl2ft9m7sHnC2PPnco/s03LySwimHYgcw3ctFw6Tx0zx/hF79nOb+qg97y0LGnZNt9795feoVUxSAUt9S9ap/Q5pg+4/ddX4ULLnPGJs4hFuaj90ZjU/mjM+M9I20iqDKmor51Lv3CX5tPzliGfz+t6bUq6XpsSp+maqTOanyqu5RqcO08dy6y/Woa0PM5lcPzQHhl8aE/GuWe0sZo2z2+puJItHf7zGDHfe7bmfrQNSyv76rtVZDfCq1ffNx9MyOaDCdNOpJcHfx3V8qFpNc/VV3ezoQMYf18kvd5qu5LxnLzyogP7bXviJi0quun9aZnrfGNaOt+YNkKo1ovNBxPm5UfHriT+lz56nS3747Jlf1zWXnFNfUo/z+aDCVl/1pX//j/+d0os+of/N+/AKVeZ87cTUBj5+rdZf6P+ugBRuBTXgxDi+fY9XxzLfJHi0XzOleZzrvGX2eporr6G+hX/99mEfb9YVAzpL4QGF6WNBb2+x4yXIHnEoqLw2rnAn+OiVL9ycBFiEWa3sQwNAAAAoIJgGRrkxSfsloJ0gUDRFw0qKPtnmaSL5nMRykqBmVHtiSgZAnIRqyTMy0NPBJkxMzzPLCSdORh42ch2XwFtXmMDiEWYzYZYBABWku0tOgCADSAWAUAls+3r0zNCX1QyiEWYzVYVYhHTrOdIgUshaj6cMtPlN55IyMYTuWNhmGVbBVy/v/eB9Pc+kNZ3EtL6TkI2nkwy1zKgf2tcqHWXXFl3yZW6b8Sl7hvxjOVGGpck/e1TtuWWg4t2mfufbc23P55NtVDu+AylRJdI1fzB5IKviS+YEE3DDgpd0hPU9dNjRJU0nsV8yLEseS7kW941X3QZX7nzxB+rqNzkiu2YNW05lkXO+pu0ZSOIRQCVh/aH3vw370j9jx9I/Y8fzBrDLR8EuA4HiEWYzVa0WDRbELP5MtdA2QAAAJBiPvEoIPwgFgHkR182Bp2ObGj8svmcAz8QDhCLMJutKmYWAQAAANgCg0QA+M0//lNBfiB9x9xykiuQfpjItUKgGPz5iViE2WyIRQB5YAcSsJFyzBLNtgwzZ+DQMmyHnS0450ItEzM7MBawvXHO/FvgjrbZRa5MW6ZXXcDUAsp0SZbGPbQHsQigAjG7Gns77erW63MFPxAOEIswmw2xCBaWIgaIs8X/KZbIw3vn/NuFjHkBYBu5tpAvBeUSOQDmggpBs8ZJLJFIyiARoPJI34Utun5YousLi+GZC/xAiZ/PHPsUiEWYzYZYBAAAAFBBMEgEqGzajiak7ej84inhB8IBYhFmsyEWFUls+ZnA01BKoi23JNpyK/B0AAAALBQ6czXy8N55zTwtBOfZk+Z685lpl76DGoNEgMql0F0T8zG8c1zu7Y7Lvd1xGd45nvO46OOHAr9nm0Eswmw2K8Wi7lempPuV8m/LCwAAALDQIBYBVC49L08GngYoHYhFmM1mpVgEhbMQb1UBoAJ4aE+SOfx21hgtADlInyljM+WoG4hFAJVL1k0foGJBLMJstuoSi7beTVKm86cHrstFoVs2zmvwVcCAz2m6Jk7TtZLnQez5s0mWnZbYstOp681nB5gSBARN33FCn8FA130Z6LpftvJQLM7a6+KsvS6Di3bJQOd9GehcuLTpLkzlKhd5y42vvJQsT9fdEGfdjTk9g1zkEljnuxVr0c9slmnlpQwOX8gOXbHlZ5J4O70Uko/Rxw/Ne2q8niNWc05iNefm5CdKtVNa2IT32Xyu/5kWFdSziHY033mDyrN0garQupKtDhTaThcjiGmZdlZdznoe55njEm25VfCW2QAQPup/knsr+76+Menrm98uafN5+QPF5zFiEWazVZdYBGWB3YgAAAAWDmYWAVQujXddaR1KSOvQ/AJcQzhALMJsNsSiSsJTsUvxRl7p7xmV/p7cbzig8og9d0piz51asOs5S46Ks+Ro4PddLtieHaqZhZj9M9+NI3LO9itgRmshM4Lni7PqsqEU54suPiC/+a+IRQA2Uszy3D3Ljsne5UOyd/mQ7Fl2bMHS2HYkIW1HELoUxCLMZguFWOQsPVGypQAAAAAANsPMIoDKZcMpN+d3sRUXJbbiYkHnKdQPlHo3tBXTCVkxjVikIBZhNlsoxCIAAAAAKAzEIoDKpVS7oeXyA6VcgZCNYuNB2g5iEWazIRYBAAAAVBCIRQCVS+cb0yU5T1B+oHdwXHoHxwPPx7CAWITZbIhFRTLf2Aal2KUo0n5HIu13As+LrPfnvc2IbB6RyOaRwNOjxGrOZXw20D0qA92j89qJq9xvbxaKoOMOlXL3rqAoZCvchYiPUvJns/iARBcfKCwPvN3Qijm/89QxcZ5auFgL5SJsu6FBhZNnJyPEIoDKpfY7ucWiSNuIRNoK6z8H5QfmtcOxLbAbGlYlhlgEVUsxg2AAAICwgFgEULm0vxUvyXnwA+EAsQiz2RCLAAAWiEqcWQQA4YNBIkDl0rGrNMvQ3KEP5P0LH8n7Fz4Sd+iDwO+rWkEswmw2xCIAAACACgKxCKBy2XiSncRsArEIs9kQiwAAAAAqCMQigMpl257SLEODcIBYhNlsiEUAAAAAFQRiEUDl0njHzfldbMVFia24GHgaoXAQizCbDbEIqgLn2ZMZn4V5VzkAAIBcIBYBVC4rpnIvQ3PWXhdn7fXA0wiFg1iE2WyIRQCQ4mu7kwSdDgAAyAliEQAUirP2ujhLjoqz5GjgafFTio0/5rKzsbPkqAw+tCdJvvM/cViiTxyekeb07xGLMJsNsQgAAACggkAsAgD8QDhALMJsNsQiAAAAgAqCQSIAFOoHul6dyvgsun5YouuH53Td9gNxaT9QXJDuQmMxOc8cDzxfCyF9thFiEWazIRYBQNUSbbkl0ZZbgacDAIKhFEsgggCxCACC8gObDidk0+HccZeqDcQizGZDLKpynKeHxHl6KPB0AAAAQGEgFgFAUH6gdSghrUOIRQpiEWazIRYBAABAdVKhQf0RiwAgKD/gLD0hztITgd9/WEAswmw2xCIAAACQyMN7JfLw3sDTAflBLAKAj+98Ip+5n8tn7ufy8Z1PFuy6W/fGZeve4mIW2QxiEWazIRZVOdHW2xJtvV2y88WePyux588Gfl8AAAC2glgEAEFRaLDqagGxCLPZEIsAACCDge5RGegeLbmgXEk4jVfEabwSeDoA/CAWAVQezRdcab7gSuOIO6/zOM+eFOfZk4HfDyRBLMJsNsQiCD01H41LzUfjgacDoJog+D1UPBUaj6gQEIsAKo8Xfv6evPDz96TtL25Iwyf3pOGTe4GnCeYPYhFmsyEWAQAAAFQQiEUAlce6i66su5icVdR2NCFtR9lRzAYQizCbDbEIAAAAoIJALAKoPOp//EDqf/wg63fOM8fFeeb4vM7f/cqUdL8yNWv80Niy0xJbdrqo80bXD0t0/XDg+RdWEIswmw2xCAAAAKCCQCwCqDza34pL+1ul20Xsqy9/Kb/+1W/l17/6rXz15S8Dv79qBbEIs9kQiwAASkwxuwI6S46Ks+RoSa8faRuRSNtI4PlQ0P0/dUycp47NTP8j+yTyyL7A01YKBrruy0DXfXGePCLOk0dmf25b7kpky905xdqZ7fyxhksSa7gUeF5A6UAsAqhcundOleQ8+IFwgFiE2WyIRQAAlqE7mS30dbe/MCnbX5ic8VmuqfWdr09L5+vTgefVfPN5hzMhO5yJzO+33pXBrXelY/e0dOyeeZ+R9jsSab+T8Zu2IwlpOzK3GBb+pQXRxQckuvjArL9xVl8VZ/XVwPMRipm2A90AACAASURBVIdBIkDl0fpOQlrfScia66709z6Q/t7sS9IKBT8QDhCLMJvNCrGo841p6XyjsgcdAAAAAIXAIBEA8AP5WYiZtYhFmM1mhVi0dW9ctu4t3RpgAAAAgLDCIBEgHES23M35XbnHJ7/5x3/CD4QAxCLMZssqFsVWXJTYiouBVz4AAABYGHQnnaDTAflBLAIIB86qyzm/az2WkNZjiayx+eZ8vaUnzN+ff/gz+fmnX8jPP/1CPv/wZ4HnRaB4S7+DuDZiEWazVezMosjmEYlsrowArgAAAAClArEIIPxsPpSQzYfmFocuzPS8PCk9L08Gno6wgFiE2WwVKxYBAAAAVCOIRQAA4QCxCLPZEIsAAAAAKgjEIgCAcIBYhNlsiEUAAAAAFQRiEQBAOEAswmw2xCIAAACACgKxCAAgHCAWYTYbYhEAAABABYFYBABf/PmX8ndffCV/98VX8sWffxl4eqoVxCLMZkMsAgAAAKggEIsAAD8QDhCLMJsNsQgAAACggmCQCAD4gXCAWITZbIhFAAAAABUEg0QAwA+EA8QizGZDLAIAAACoIBgkAgB+IBwgFmE2G2IRAAAAQAXBIBEACHAdDhCLMJsNsQgAAACggkAsAgAIB4hFmM2GWAQAAABQQSAWAQCEA8QizGZDLAIAAACoIBCLAADCAWIRZrMhFgEAAABUEIhFAADhALEIs9kQiwAAAAAqCMSi8BN5ZJ9EHtmX8/9qJvLofok8uj/wdACUAsQizGZDLAIAAACoIBCLoJJBLCoNn3/4M/n5p1/Izz/9Qj7/8GeBp6daQSzCbDbEIgAAAIAKArGo8nCePCLOk0cktvyMxJafCTw9hRCrvyCx+gslP2/vwLj0Dowv/DNYclScJUcX/LrRJw5L9InDJT8vfiAcIBZhNhtiEQAAAEAFwSCxDHxtd5Kg0zELkYf3SuThvWU7v/PMcXGeOR74fTrrboiz7kbg6Qg7+IFwgFiE2WyIRQAAFUj08UOBpwEAgoFBIthM+1txaX8rHng6wg5+IBwgFmE2mxGLnGdPSGzZaYktOz1rhdCplE7jFXEar8x6rPPUMXGeOmamm0Zbbkm05VbGcenXjS4+INHFB1LnWHVZnFWXZ0/T+mGJrh82/0faRiTSNiJO801xmm9KrOGSxBouZf1trOacxGrOzck5OE8PifP0UEkdjknPQ3uSFPCb7S9MyvYXJlP3nxZAsb9nVPp7RlPn9+VFz0uT0vNS6rfpz7SQvE+/5oxAjptHJLJ5JHVd31Tm2IqLEltxUaKPH5IdkXHZERmXLfvismVfqnMQbb0t0dbb0vPipPS8OJn1epEtdyWy5W6qDHTck8GOe+b6/vJUKvK+feu4l5lHed4I+p/F4KJdMtB1Xwa67pv/u3dOSffOKXNfWqdiDZfyBs90mq6J03TN1I/0MtLybkJa3k1k3Je/fmzbE5dtewrrwJkp93XnJVZ3XqItt8z5te7k9AnPnZLYc6ckunFYohuHk/XYO4/mk5Zl9UnRxw9J9PFDs9bLXN9F2u9IpP1OUWU+qLfQztIT4iw9kfzb87HzOZ/mcVG/8eqb1t1cx0Ue2Wd8mT4/9cv+Y3sHx6V3cDyZHp9P95dh/xKG9HJrlnh4vkCP1bzS8rL5UEI2H0qYvAw9OdoErWcZnz97UpxnT874jd+f+I9Vvzy4KLOu5CsnuZ7r4KJdEnv+rMSeP2vqu7P2ujhrr5u67DRdm3O+xOrOZ5bPxw4m8S390LZS61C2Zz9bLJVSBijO1R5om53eF0t/LoOLkn75N//tf2QMEsu11KUk91uCvMtWzgGqGRvEIn8blu1FmLb9Oc8xSz/I9DuzLEHUtkn7nLnOkd7XjjVckpZ3E7LxZJLYstPiPHcSsQiz1oxY1LfjvunAFVS5dbDn69SnV3rtnGtHVAcWOsA3v/Gmm8aeO5Xq4OZwIn5iz5/NEBPUMWyPTcj22ERGJzu906IDTP99ZTgKr/OZ/llf35j09Y0V7hS/tttcO9cgTzuQ6ricJUfNtZ3VV8VZfdUIBTqw7e99IP29D1LnSRMq9Ds9Vgf/5pxe3usz6etP3c9sIlvGc/AGaJon+lbIdLy9gZvJZ+85D3SPpr7zPScVJFVM1Gs4S0+YcqEDFL0PbVByiRAla9zyiEVzWhO/9W6S9Hz1DRL8x+iAJ1Z/IW8cBCOmeA2mlsG+vjFz3o5d09Kxa1oGukdloHvUiChabs1g68kjecVlMwD1ynJk84hJrw5qcg3M9L514BRdfCCjzugzUBHC/9vY8jMZgo5/gKjlRv1Y//YH0r/9gcRqzslA530Z6MwcWKvwuXVvXLbuLUw48w/ijCiVljbNTy27/sG5GXDnEFJmY7aBml43p+jg5Xt6R0rToOKhlhsVIvv6x4wvUdE3n7imviq6cTjDD2u9ztVhzPbyQu9Ln2kuMaMosagAgTBfp3PW5zSLoKxlqJCXOoOLMl+8DC6aXdDJyBfvGRhhP0+5Sy+vGS99fM9T6736rIHu0TkL+8W87NF7cZaeMPUp4xnk8EnO00OpNHptlV94LwTTfmv/yKt3xj+n9ZtmO0+lDRJZVmQvuYTX2SDAdWn46stfyq9/9Vv59a9+K199+cvyP2vfGE0xLwK877NNJtDxh45lTDvg9eHMuCdL39q8FPfGC9oeKaav2n4ndT1vDGPGmF57Y15EvzRp/LG+YDbCko4xfGNdbUO6d06Zlx07IuOyffABYhFmrbEMDTIoxWwFAAAAKA8zxKL//j/FWXU540VcNnQwVMgsJBWwzKDOG+zpy4TBRZmzhv1BnM3LgvnMLPJE2nQxWwX3XLPc9T6ziRIqFJoBoQrl/pcLWV4cmhm6vtnTc0EHnuYlYVo+5sovM5N2HrOms/021/nmIgSVgnRxUfOnmHhN5qWYvkj0BIpiAlznE7TMNZjxVvWwDA2z2RCLbCSts9N6LCGtxxJluU62ZQnaIOf6zepbrqy+5RZ1nWJmOOVithlgay+7svZy7jSVK/8AKp2gBhJhJH02VT7yLd+D4PDPIvbPXJwv+qZ6vnWn0mYWAUCKhkn6lTaBWITZbIhFUL0UERcKAADmR7l3cqoaHtqDWAQAEBIQizCbDbGo2ilBkN7unVPB30cR6LT4ztenpfP1aTONnYEMAABUAohFAADhALEIs9kQiyqQUk+Lny+l2h1moWk+70rzeTcjsLsJ0JcWu6mYde4LyVyCHQOUmnzB1cNEts0KYGEgyHHpQCwCAAgHiEWYzYZYVInobgC+ndwWCv8MnIUeJGbbwWYuNN51pfGua3ZLMvfn7XCjIlLk0f05d4AImoyd8KDiKUWMrrKlzRfMthJJD84LC0vPy5PS8/Jk4OmwAcQigMplvqK5Bmn/+M4n8pn7uXzmfi4f3/kkdYwXZiGsfVfbQCzCbDbEIshNniVqulNEfTwzUN+8dj7xUczsmfa34tL+Vlxqv5WkYTIhDZOJ5LaZ3pbTGvS75gcTUvODCVkxlZAVUwlZOZZkxXSSxhFXGkfc5HejSbpfmZLuV6bMOdZcc2XNNdf8ZtU9V1bdKyyAt+6m0njHlcY7rrnP9WfczG3ZS7BcEADmhn9L3jCiPjfbxgPF0vxnt2TdJVfWXXKl841p6XxjWrbHJmR7bEJqPpiSmg+mpOmmK003XeMDNWBzdOOw7HAmZIczEXie2AxiEUDl0vNSaURz/EA4QCzCbLayiUVz3dJT0bgy+Y7Lps7rbiP6fyXEonGab4rTfDP1v9fxdp48UvSuKV2vTZnzaVyeQn9bTD6pWDSrKOQTOVQQKWRWlD7Hgc77MtB5v7jy51tqcuLfp7Y/1Z2IdLvcrtempOu1VNyl9WdcWX8mJfhE2kbMbIRNbydk09uZ4ph+n750bUHLz9NDeQW69JlSkUf3y0DXfRnoKixfsy3VK+k9eG/B/M+tXPkZ1FKkMO2CpeJpMWkrVLhN99/6t9+n+31eOvm2AO/rG5O+vrGs6THbGXuxyIzPKWCr8EIx/nnpCfOGt79nVPp7RmXL/rhs2R/P+dvI5pGcMwJztVWxFRdzPrd8bI+VVrTJmPmWZaMA9a3RllsSbbmVuj/P9+iumdl8u1nSuPWuDG69m3M2m9l5czYR3b8VupeuSFtqy3N9AWCu720P77/ujHLm3bP/GJ2VmpHWZ46nfuNtl26u552j2HaeQSJUC5XQh897D57v0/9rvzOd0a/yo/6zd2BcegfGzQvG9GPwA6Vlrv0ExCLMZmNmkYU4TdfM34WKbguFv6O8UKz+F6lZAf6YT/5ZA/5Bc3oDn62xHlxU2plUCwazlRacMMf20UHybMcU2mlP7xjrAH22Y2zKx1w+Yj73Ph9hM1veLxS5Ot7m/kPgg1RULOczmEGJ7rnSBokV2UYClIn0F5IFk0WYrzQ/YCuIRZjNhlhkOc4zx5NvNUOQliBpmMycDZSL2QKI5xr4AsDCE1TcNoCgYZAIULmUKm4efiAcIBZhNluoxKIwv3UqZNlKvqUTYUSXUJT6vLpEQN8g6wynrlenpOvV1JT/2Z65ijb6mxmzCXxvWPRYja+hn3fsmpaOXdPScjwlFmmMjdpvT0vtt6dly764bNkXTy2F8i1tSV/S6N/NR5fS6HRiXTZVzDIRkxfzmGkBAGATvOiYHQaJAIAfCAeIRZjNFiqxCIKnkOn4fl77xbs5v2u64UrTDVfq/uiB1P1RZoyODX8+LP1/dV76/+q8rP4Xd2YsF9P4QEq6WKQzCnQJmcYd0hgYxewoteeLY7Lni2NS+/G41H48Lq/94l157RfvyrafXpFtP70iq4ddWX82iQa91ng/Jh5K622Jtt42cScKjQUEANVLRiB7gAJhkAgAEA4QizCbDbEICsa/xfyqz+7Kqs/uSv1PRmXj5zdl4+fZg9XOlbpvxqXum+UbSH3/q075/ledUvujMan90Zh0/PSKdPz0inzv77vle3/fLS/8/D154efvyZb/56r5TbEBwwEAAEoNYhEAQDhALMJsNsQimDeVIJ6kzzLyLyVrO5qQtqMJE9had1rS2Uqz7VaRiw2n5xC8EABCje60FnQ6ABCLAADCAWIRZrMhFsG8qXl/KvA05KLnpUnpeWlS3v53b5vPjvztITnyt4ek/scPpP7HD2T1bVdW33al5oMpqflgSt7+d2/L2//ubVkxmZAVkwnpfH1atr4Zl61vxs0yND1X3T97IHX/LDXbquV4YkZ8JAAAgFKDWAQAEA4QizCbDbEI5k1f39icfxtpv2MCTm8+mJDNB0sjtGiAbf0/PTh583lXms+7JrB167GEtB5LGHFo5VgSTdfqW6lYRc3nkqy7lKT296al9vempWEiIQ0TCVlz3ZU1111pvuBK25GEtB1BOAIAgNKCWAQA+eAF5sKAWITZbIhFAB4atFp3btOdzSJtI7LpcEI2HU5I9ytT0v3KlFmO0vPiZJKXk2jA7WjLLRNsO+j7AgAAu0AsAgB36AN5/8JH8v6Fj8Qd+iDw9FQriEWYzWbEok0HpsV58og4Tx6RaMstibbcmhHXRYktO53cFrzjngx23BNn1WVxVl2Wge5RGegeNf9H2u+YwXL6DlEDXfeld3BcegfHM7ZtH+i8L5FH9knkkX1mwK7H9vc+kP7eB+b6vQPj0jswLpEtd02MmegThyX6xGETiNl/fj23Duxjy8+Y38bqLyTR32y9K4Nb70p08QGJLj4wMx++tlsGv7ZbYisuJvF23lJxIZczidWdN/FynGdPivPsSZNv/uDRTuMVcRqvSGTLXYm0jUikbcSk1RzTdE2cpmsZ29HHGi6ZXbr6+sekrz/1G12WpXF6+ntGpb9nVKIbhyW6cTh5rYf3SuThvRmzc8z9eXmTbat3vQ9dtqV5Y56Jl2fbYxOyPTYhkUf2mTyIbLkrkS13U9fTvPKuq2Vhrs5cBR4tJ6VoIKKPHZwxa8lcKy3fzHOpOSexmnMZ5ciUT09oitWdN3VRy4l5Jt7n/nIyo1x4dVDLgD8/tW7pM3dWXTb1qWP3tHTsns7YTU6vozvSxZafSdXvp4eSeOUlsnlEIptHzPfGNyw9YfJL78uc37svrd9aD81bsa13zXVMfnl54q+jZme6NP+l5U7zRMufXsfEovH82mDHPXPPJt+8+962Jy7b9sRNedX7izVcyvhu8KE9MvjQHlN21bfucCZkhzMh3TunzHf6m843pqXzjWlTHrS+aZ7F6s4ny8jSE2ZXQH1+er/dO6eke2fm8lBn1WXz3DXdmkan+aY4zTdNvmqdVd9r/NGWu8Zv6G5eGu9L/YvxSVvvGh+k+elvBzTP9PMdzoS5jpYlLZf+8pje3kTa70is/oJ5xvqZpsmUC1/Z6x0cT+W1tkXql717N8/IS4/J0613U3XVK/9av7Qsq7/R60dbb5vradny+399rvpbp+maKasqUOszMGVcy7KWV68OR1tvy5b9cdmyP26esf5G47JpeUz3RaZee7/RZ6B5YfyM+pG11018N932XsuBplX7AtqWtb6TkNZ3EtLz0qTJa3890E0FNH8zrrvuhikP+uw1LaYN0zLu/T/QPWqO1XKn7Yzer/FV3rliz59NtWdeWre/MCnbX5g09Vqfr96v+ox0/6R1U4/R56n1XOv3lv1xU5bUJ6Vf5zf/+E8zxaKH9pg+TkFtV5Z20P+Zv73xE3l4b6aP8f1Gz2nqYRHtr7/NnC0t+rz0/KZ/5tXDyKP7Td6a83nl1LQ/2g/0rrvDmTD9L9Mf8fpdpr3LkudaNvX554p15vdFsedOmX6V+hot2xl5o2WjiP6K3mf7gbi0H4hLrP6CqW/mvrw80c+1zBVy/mLKXzE71gaNtoklSbOv35c1b3xth+m/6Nis6Zr5e4Yf+Md/Mn5afZN5ofniZKoP4bUV6ov8zzj9pWe05ZbEas6Z/pyeV9sOLeNmLKV1duvdjDGgtnOm/fPKmjnO8+3O2uumPGpd0t9qf8KMI73rxRouZeST1l3FX/airbdTdUPbF8//+8fDpj56eRh94nBq/NR6WyItw4hFmLVmxKLevlGzzXnNH04k+YNJU5Hq44kkXpyX1qGEtA4lzPIbjfuiO1jVJ+Jmu3Ht7On5115OktUpew2UDiD0c90+XR3UuouurLvoyuph1+xmpWnTNKy658qqe67pdK4eTh6v56797rSsmErIiqmEWZK0cjQhK0cTsmI6id63Li9qPxA3n+lv9Tdrr7iy9krmfWkeNZ9zzd9134gn+V0P7/8Np1zZcMqV+kQyD2t/b9ps6a7LpGq/Oy21352Wmg+npObDqRmd9MFFu6Tr1anUs/zBhNT8YMIsqdJnsvFkQjaeTEjLu0k2H0oyuGiXuS89X8+/uiQ9/+qStP/lNWn/y2sFNYj5lmDp81zIBl/zJOiOh+aNLnczjZXXUA4u2mXKqi5/0zJQ8/0Jqfn+hClruoSu3k3VN32Wa6+6svZq5v1qWV9/xpX1Z5JlUpfT1fzB5Ix6n4uO3dPS/lZc2t+KS83vT0rN70+a9Ov555I3ej+aN7XfmZba7yRjRun9NV9IouVUj9HfaL1fc901fknrqP96ei4tG7U/HJPaH45J4x1Xat6fkpr3p8z59Td63ZqPxqXmo3HjD5r+5Yg0jCekYTwhjXdcabzjGlFWr6PnUBEsunHYdLJUcNFz6P3qb7TO6jLKjl2pezb1/XuTUvO9San99rTUfnva3Ld+v/qWa3yb+hz1AZpXWjeNb/L8afOFlP/StNW7cal348Y/+sXp7S9MyravT8u2r0+bAYr/GejAW33fjDp705Wmm67pOOYqNxvec2XDe8nf6hJRs1T0W3Gp/Vbc+FQVKNKvX2j51IFbuhinnUjNL21vst1PtnrUsXva5LHOXGyYTMyg7ptxU+70WH32Wi5MmfaWyqb7YG0rtNypH9FyoedUVkwlZPUtr7x47Y7ufqntgNZ7jdumZaNxJHW+hj++Lw1/fN+kUdOx8kFCVj5ImGdS89G48SdaD7QjrnVow2k368YB6YMA/+YFmhf+36SXw3xtlZbbNdddUx51yfTGE0m0DOtvzH15cfAaJlLnN2Xaa7d11mrHrmnp2DVtBLaaD6ZM/dX70Ha8YTwh/+1//W8zSPxv/9//kpofTJg63XTDNWVHf6tp0v6Xos+q8a4ra/5kRNb8yUiqL/VHSXS3U9M39HxfzR9MyrafXpFtP71ijlW0bJky7JUTLbfp7Yy/LdSyZHytV27qvpGqX+rntX6rXzPX9c6h+V373WlzX+on9bzqL7UOa7u74bRrno+2uXqM/lbzV/Nx48lE6jdeHmsfVcuLaW+98qHUxxPmfvQ65livvmmfzjyD359M9Q+89tu0n95vtS5ru7TiJ6Oy4iejM/JJf6N9a31upg/p+fj0tlDrpmlnvXP4n8W6S64ZM6g/0bYjV71L7xNr2dV+kQkR4F1Xn9eMvPF8nKbFX5ZM/mnZ8p5f7cfjpo3V/Gz+s1vS/Ge3TP3QZ2HGC5MJ03cxadHreGgd0va+6WZp+qKlnGHofwFRjWjd0PKnZS/f75hZhNlsLEMDAAAAqCAqbRmafwY0QKXhn4EZBirJDyz0S2Kd0ZTz+7QXC3OJ7aSzrAYXIRZhdpsRi/q675m3Y/p2OH1LdDO10Vu+oQq0Ok//VP/tL0yat6+6JEmXf5kpkd5bQLOE4eXJ1DIp722fvpVOr9zOuhvm8x2R8Yy32Yp/WZMuLTDLY7rumym/OvXQTO31pq2btHlpHui8nxGI2Uxl9khfqhNbfiYQp+zPtwwn6VuOYD5fctRM5cw1pVinfer00Bm/9/IgrxPXJSndud9iaDrS0+afzp2+ZNJZd8O8ddRyqedw1t1ITSP1vX0uaDtsb+qwWcqiSxZ8S6P0XOn5plPbTbn0pjT7f2OW/fSMmrfMeox/mYrOsNN83PR2ImMpjX/KvaZDGzgt29nuXfNPjzVT4XVJ1LobJi+0zmq90rSaacJ6/1vvmuVSiqZB78dMiffyxCzrenR/akmL56d0FoZ/uanS/cpUatlsvvLoW9oy13qnU5n9062N//CWvOi99PWNpZZo+p6X/3nOhj8+ln+mg15joHs0YymVf7liKcnmP/zLabORy6frG3t/ndJyFG25VfD29jrzqGPXdMY0dfUj/uV8Wg/0+/7eBxkdUn3G/uull1NTznW5sW+psU6T1/vsHRhPzTzRuu/NtjLX8y0N1zY6Wz5mpM3zkyb2WttIqq6nzXjM5hsynnlaPhZK9yu5RYRC6/DgotSyHtMupC07G+gezfDXM/DafP1ffZR/5u5s6JJYv48v6LdF+p5yDhL9baQui5y1DHnPKdeyKXPuPLMEZyOyJbUc1/jsHEvB/WStkxpCQJ9xliVCfl/jv79Cnpt/uVlJn9Xqq6ZPVkybMVey9SnKeb1s5TEDDQ3hpSfSNpKzXTNLl3W5n8/3F+K/Cmkzy9muplNJYlElYNpkb/xT6LJZxCLMZmNmEQAAAEAFwSAxGAoVp8p2/RLGXITKJ3R+wBPunKeH8sY8U/LNABpcVFw8rLkw3/MjFmE2G2IRAAAAQAWxIINE32wrpdAZxDN+M8uMv3wDtUIHncWSV/iZJRDxXAJMF5Vf5ZyNNNsMO8j9zIuY5bhQ7Fl2TPYuH5K9y4dkz7LcG+xAGUjzj4hFmM2GWJSHrLuh5SHXNOv06btB4++cpU+l1o5EMZ2hYlX5YnbYCJr05T3lZC55ostkFmIqeC4ydnkrhByDkKKuW+Yp8PN5g+vfSdCfR7MtXdByoDuN+Zc9pHdYdTmULhkyx/iWcCobTrlmyZYuJ9LAnBqoVYOwzpa/ukxMlwnqev9sy1v9A0uTZu9//5K57lemzPIQXa5XzJR+DdyuadRz6bLFbLs4zgfNP3+gabMkybfMofuVqVQQeG/pmC5TLOY+/WVIl53p8jC933zLhwou00Usx8p7Ll22rct5G69k1Jmcv9VBtOdDst1fKWd/6BKYnpfyB/6fS3/BXKfA+1dmiEX/+E95l0IV0p6rT9A+jNlpyOdPzDLJ58+aJbD5lqFpEHpd6pi+gYkfrbt6bt3NL33XRK0r+l3O+/buoXvnlPENGtRfg9Br2AP1gbq0ekcktcOkhmAwGw14x2pgdg3unG3HVg0arb5AN6HQ4OkadL/z9emUn/KWC+uyU80/3VxAl6y2HUmYMBFm10Ovrqqv13SU2vdVC+pPMnbDtIxcS4shP4hFmM1mxKLO35kwHX2z1XHamxx1kv6GLKMTkRanRxsqjbWgja3ZCtfr9JltpdO2NTaNWo5BpXZ8Brrum4Zdv/MPEvy/1bdUff1jGTv0mG1svf9nGzDmXUedhXwdttneXPjfzOkz8N9/eqwEbeQ0XoY/9k1GbILW2yY+QT4BKJtIUEhsg8FFu3LGmSkE5+mhVBo19oc36NAyZtJTQDwBsy29Px5SWsdfy4G/s5CxnbuXZ+kxPrLVjWzoc2w/EE9tx+3dV85ylFY/8r3t1Q6p7uqi9XBGbCtvCrGmRcUoHbSbLU/XXs/YRcg/KDZp9WLxRDaPmPplYrTkiE2jgxUTd6zjnol9pufTNJp6rnELNE5V07WCB40aC0eFi21fny5tzAFfLIz0LbbN9rE5Yt1klFf1vctOm7zIt4uJqS9tIxl1QtOS8RuvzGuedL2WiiuTT6gzPrZvLGNLdx3QmLhunh/R6zRfcDNirmV0Yj2RZbZ8UlFK49XM5blpmjSf07dCjy4+kHfq/OCitNgVnqDXOzhu2jkjhqmf1q27fQNv59mTqS3eNb6eV87NNu1ePutgXO8/2+DVpM0TJk18Hm85QKz+gikXZutwX+yiXPmaPjg1vq0AMazQ2Q7+2Gvp5UAH0Ho/fhE1PQZVPpFb89EII8+dymgTM2K5FRCPR+uG+i/t//hjIc74TRYRNtvMokIEbn8brX2tQtrj2dr3rTVySQAAIABJREFU+Qh0udKd0aapH03zpbl8kV8YydaO5i1rWcqHEQ403+Yw20T9iH/2UOThvak4mhp/yydAZnuZNx+RMh+FxIArx/VNHZ7rOTTOpNfe5Vzq5B2XHmdMjy1YwJ7DrLf55FfL8YQJFq0vlbQPo7vO5SrPsZpzqXbFw98P05dA2cq2v8xqXmlbku5X880ILHS8UPIy7WvLZqTJ99I2Vx819typGb4HsQiz2ZhZBBnoNqv+z/1CDAAAACw8pV6GFnl4rxHDTKBkDZruiTbZZqaoUGBe0nmipQr95ZoBqtdVUUHFSxWe8gXaHlyUJvz4REAVHTtfT83W0evoTB//LJ5sgokJkusJFjr4LiYQtRGmPeFC89Vs2LH0hBEp9YWQSZvO4FOBKZtAWoJZvoWgL4/NzLA8L/LMc+28b/LLbM7hzYCbTaQyG4b4Zq4asgQzLxQjtOhLrTLG0oHKALEIs9kQiwAAAAAqiNmWoWUbvJo3/zlmXA8u2pXxnf9/Izr4dm6cC4XMKMgQpwoY3M82I9qIJ74Z1Sq8+GfLzbYsvJTLMg1b7xqRwy+I6Ky8XDvZFoPef2z5mZy7HpoyUCaxrxLjJoUxZlFJn0kBgaYhO4hFmM22oGJR0LtIQBbm8XYlTOgU4nlPXbYYs+ynzIE55/Lcgk4HLBw5l5xkWe4wn865mR6fY5ndjGPLGEwWgmOhYozMJeCzQZfB6HK/AgdsodsFCQAWnOGd43Jvd1zu7Y7L8E76vkGBWITZbMwsgvCjsWhmecOlHWyd4qzkixNULuYzLbmYIKdFnbeA2AOFwta9AADBgVgEAPiBcIBYhNlsRiyKLjkqzeddaT7vmnXPzRdScWuabrjSdCO1E0PjnSSr7iWp+cMJqfnDCWm66UrTTVdWTCZMAF3dLUbPUfvtaan99rTUu3Gpd+Oy5rora667svlgwqRBd5bQXSNWTCdpGJ/JpsMJEwy18a4rjXddEzRU12Lrjherh5No4M9te+JmarYeo7tlaLBJDQZsdgw670rNh1NS8+GUbDjtyobTrqy9mkTvS9Ohn2seth1NmF04dP227qSh92mmGntTgnWqc7bpzjpFXAOI6+eRzSNm9ojOtNG3lpq/td+KS+234iZInq4J33wwYYIqa9o0YJ4G5NTn2jCRkIaJZCA9XReux+obXXM/vuC2mtbZ3vjrTijmWG86ds9Lk6kg7N6UbJNGX4ByfZ7ps42Y4VZadFeYoNMB+Wk5npCa35+Umt+flJUPErLyQeauPrrrTu13p6X2u6mNCVqHEqY++QMVGx/kLWnQ+r/5YCIVR8PbAaz5givNF1yp+2Zc6r6Z8i8aVLPxTso/6cwi/a0G81QfbnZ0886x6n4iFYzdi+2hfkTjkOj9rbuUZOPJVBr1vPqdti2aR+ovTZtyyzVtk8YU0TZRP9f2Qtu7luMJ077pdTUOSn08IfXxhGlDNK+aL6QC0msbu/ZyEt1pqfb3pqX296bNpg36rFaOJszzMYFLveDY2v5pkGzN540nUvmogeXVb2pA5obJhDRMJkz50Dar8/VUW2R8uMa+8WJ96L3ocbFlp41/1+ej96l5X5+Iz0D7INu+Pm2eh5ZhfY5aLvR5arsR2XLX3JfObtRdrrSfsnI0IStHU791Vl8196Np1HZP81zzUQNpa16lB73WWC26g5XinwW16e2EyQMNtq3lb3BR5jK0wa13Tbr6+sfMciazbEmXG+n/3jPRfkT0sYMZwbfNhiNe/0DLgNmAIS0mkNl9TwMK5+i36Ey/GcvbfMdqf8gfMLznpdQuf5oXutGCtv36okjLpd5L12tTph+k59D6rc/NBGJPi4Xj75uZGDhe/rUdTUjb0YQ590D3qDnGbHjhvajR+qXn1Oeq5aSvb8z0K9XXabnUtGofSq+7IzJunrWpi971TCDtXEu+Ou6lNpHQl3JeedD67M+b9Hqr9U3Tr+VEgy1r3Yq03zF/+wPy52uzYs+dSs268+5Lz6X9dNMeeP3q/u0PTHnXuqjH6jGa9/682Xwo5fv8m/PMNusv1/34A0DXfmdaar8znfe+C6WUYlGuTUqqCa1Xuiusjk/z/Q6xCLPZmFkEAAChofuVqZzfLfTuKYUEyQUIAmYUAAB+IBwgFmE2m5Vikb7lCDodUBz6ll3/1zfKs20pnIE3myxjq20AAABLYJAIAPiBcIBYhNlsWcWibNujBkWugMXZtszUZQZBp9lWdCpu0OkAAKgU/Ev2AEoBg8TwM9vObDCTC/9ht1z4D6XfbEWXvQV9f+WiUD8QbblV0h385rIrX67r6xLu2X6ba6MKXfaa/pkJRTLLMaUGsQiz2aycWQQAKTQ+Q9DpAIDiKNe21blgd8LKAbEIgkLjpOU7Lt2f5ItRVPP9Can5fjheRsbqzkus7nzg6SiEE5uuyHsdN+S9jhtyYlOVL5kOcHdnxCLMZssrFmkQzcCdAADMiUIDSQJAuEC8gVwgFkFQaPD8fMcVIxaVOvDzfIg+cZgdX6EoEIswm23OM4t0ty3/52ZnhRBUXggPuaaQFkP68kjdjaXQ3842XTbbksbBRaldEeZ777ojSdDPoBKZbfeRUqI7IwV9vwDF4i+7uvNk0OmC8oJYVJ3k3NmsQtEdIINOR6WSb+b4XPqfuutcIccWKhzOlUop74hFmM1WtmVo5V4fmhVvq8ygnQbMj9/51yfkd/51+QUCsBPdOjnodMzA22a5lOdsfwtxqyIoYGp8tcwgcp46Js5TxwJPR7nRbcbTPys4bkaB/RjEIigHurFIru+zvSQuBt26Puj7BDsIS5uCWITZbFURs6iQWSiFBFiziTBPs93516dk51/Pr0MCAABgK4hFAADhALEIs9kCEYtiNeckVnMu8MpdaUQfOyjRxw4Gno5Kxz8t1/Y3Xe1/eU3a//Ja4OmwHefZk4GnYU7pXnVZnFWX53eOWQT5luMJaTmeKMtyzEoKRFoMtvukSiXfDLBoyy2JttySrXvjsnVveWf+lUMsaj7vSvP5hY9RWW27hpViWf5Ckx56Yv+/PSL7/23hYQDmQu23p6X22/OPYbTxZEI2nixumZv/ZarW61LeX+tQaZbeFRPgeqE3TDDXbbgksYZLZTl3+syiUvRl5gpiEWaz5RWLGv74vjT88cIt6Yg+fkiijx+SphuuNN1YuE6L03hFnMYq30mgBGSbfh8GqmGJRy5W3U/Iqvv2xASIrbgosRUXA09HuYm0jUikbaQk51K/GsR92O5b57OErK9vTPr6xkoa6y9MA9GgX3BUhJg4xx18KnVmUe/guPQOjkvXq1M5l5y3vpOQ1nfm1mZ175yS7p3z2/1ze2xCtseK25mr1APisLRz/tiNkS135bVfvCuv/eLdnL9Rf6b0vDxZdD8kPeB112tT0vVa7mfasWtaOnaVJjh27+D8RHq//+15eVJ6Xk71iYuNt5k1fzen+gWV6gdsA7EIs9lCuwwtPZgxAEC1UW1v2wGgcCp9kBh9/JCsmEzIikl7XmTYSGzZaYktOz3js7kENc61KU4u8glEkKTS/YAtIBZhNltoxSIAAKgeitmBpaTXXYDd9oKm56VJ6XlpUpzmmzN2hizn8gAoLzYMEhGLAOaHDX7ABhCLMJsNsQgAAACggrBhkFjz/Qmp+X5xy70gP2FaigrlxQY/YAOIRZjNhlgEAAAG55nj4jxzPPB0AEBubBgkrr3qytqrCx9QG8AWKsEPxJ4/K7HnzwaejnKCWITZbIhFAAAAABVEJQwS84FYBDA/hneOy73dcbm3Oy7DO9lBMygQizCbDbEIAAAAoIJALAIACAeIRZjNhlgEAAAAUEHYIBbVfndaar9bmi3PAQCCArEIs9kQiwAAAAAqCBvEInZDAwAbQCzCbDbEIgAAAIAKArEIACAcIBZhNhtiEQAAAEAFgVgEAHuWHZO9y4dk7/Ih2bPsWODpqVYQizCbDbEIAAAAoIJALAIAG/yADSAWYTZbaMWium/Gpe6b8dzHPLQnSZbvnLXXxVl7vexpdJ4eEufpocDzCiBIel6clJ4XJwNPRyE4S0+Is/TEgl+3f/sD6d/+YMGvG3vulMSeOzX7Mc+fldjzZwN/NmAfkfY7Emm/E3g6ForYiosSW3Ex63c7nAnZ4UyU7FoMErPT+fq0dL4+t6DZvQPj0juw8NuPR1tvS7T1dsnOV+4+8Jv/5h1589+8U9Y8cZ48Is6TR2Z+1nhFnMYrC/585kM5fGBf/5j5uxR+ILb8jMSWnyno2I7d09Kxe35B6XtenpSelyujz1goiEWYzRZasUgpdQcLgiGoQToURvSxgxJ97GDg6QCYD5FH9weeBoCFALGo9PT1j80YiKfTfM6V5nNuzt8OdN2Xga77gd9DuYk8vFeO/O0hOfK3h3Ieo4LClv1x2bJ/lpe+IWTzoYRs2xOXbXsqI934gXCAWITZbKEXi+ZUabtHZaB7dOGvPctsp3ISa7gksYZLgef7rGmsOSexmnOBpyMISv3WECqHzYcSsvlQeZZZdO+cCvz+Koloyy2JttzK/Jy6WVIqXbCLPn5Ioo/nHgiHBQaJkI9iZowUQ+M/vyuN//xu4PcH+IGwgFiE2WxWikVQ2dR8MCU1HzAQBgDIR/uBuLQfqIy34FA6GCRCUKz909uy9k8R2cMAfiAcIBZhNtu8xSJn3Q1x1t0IvKICzEalTYUuBdHFByS6+EDg6QAAgNLCIBGC4o2/OS5v/M3xwNMBu8Qd+kDev/CRvH/hI3GHPgg8PdUKYhFmszGzCAAAoELp7xmV/p4All1DoCAWQVCsHE3IylF2sQNQEIswmw2xCAAAAKCCQCyCXJQibme23ciUjZ/flI2f3wz8PpXoxmGJbhwOPB1QvSAWYTYbYhEAAEAIidVfkFj9hcDTAeEDsQiCopwbNwBUIohFmM2GWAQAAABQQSAWQVA0TCSkYQKxCEBBLMJsNsQiAAAAgAoCsQiCYv0ZV9afcQNPB0BYQCzCbDbEIgAAAIAKArEIgqLuG3Gp+0b17TAbRvAD4QCxCLPZEIsAAAAAKggGiRAUr/3iXXntF+8Gng7AD4QFxCLMZkMsAgAAAKggGCRCULQdTUjbUWIWhQH8QDhALMJsNsQiAAAAgAqCQSIEBbuhhQf8QDhALMJsNsQiAIAyEWm/I5H2O4GnAwDswsZBYuMdVxrvBB84OfbcKYk9dyrwdISVxhFXGkeKe04D3aMy0D2a8fmq+wlZdR/haa7Y6AcqEcQizGZDLAIAAACoIBgkgg3U/W5c6n6XYNlz5eM7n8hn7ufymfu5fHznk8DTU60gFmE2G2IRAAAAQAWBWAQ2sPFEQjaeYGYRVDaIRZjNhlgEAAAAUEEgFoENIBaBDSAWYTYbYpHHlv1x2bKfqbAAEE6cdTfEWXcj8HQAwOxsfTMuW98sb3+i0sWiztenZePnN2Xj5zcDTwtkMtB1Xwa67su2r0/Ltq9Pl/167//9dnn/77eX7HzRjcMS3Ti84L8tJ9HW2xJtvR1oGpzGK+I0Xgk8L8IGYhFmsyEWAQCUi4f2JAk6HR7OsyeDu/7XdieZzzm23k0SgrwsJRkBdb280gFb0OmD8FHpYtHgol2y9qora6+mAiXXfSMudd+Yn8jmPHNcnGeOz+scseVnJLb8TNnvP7biosRWXAz8OaQTbbkl0ZZbqfxsvilO80xBr/ONael8o3ABKbr4QM6g4TqzqO0vbkjbX9yQlZ/ek5Wf3ptxjO6+lusckUf2SeSRfVmvHXl4r0Qe3ht4vpYSZ+mJ4K6NWJQVxCLMZkMsAgCoBEImPMFMbBiUMHutcrBBLFoxmZAVk6klSDU/mJCaH0wEni4oPc7SE7OKHPU/GZX6n2TulgbhItZwSWINl1L/152XWN35wNMVNIhFmM2WVyxK/KdBSfynwYzPnbXXxVl7XbbHJmR7LNW4Z5u+qW8OnCePiPPkEfMWILbstMSWnZbI5hGJbB6Z8TZo3UVX1l10zdbTOyLjsiMynqqYadtw9veMSn/PqElT16tT0vXqlEQe3S+RR/en0pzljZP+pn/7A+nf/iDvG5NsU8udZ08W/cbe/4ZE822HMyE7nOydpdjzZyX2/Nm8545sHsn53Vym19Z9My5134wX9BZsw3uubHgv/5aqs93L1f/4ulz9j6/Pmndrrrmy5pprBjfdO6eke+dU5vHeAHv1rVSatu2Jy7Y9qee4/YVJ2f7CZMZvdXvY2h+NyWDHPRnsuJd61t4Mh8iWJKZcZpkJ0LF7OsmuJPq5pnk+jW36W0Aty/5j/s8/1Mr/+Yda83/zeVeaz7sz0urPP/996fNymq6J03Qt2Vnw8kDPp8f2Do5L72CqrqqPiD5xOFVnsrytnFGnnh4S5+mhrN+tvu3K6tup6+kz0bLQ89JkkhcnMwa/Wm78z2btFVfWXkl93t/7ILPcec9J057h+1puGV+kn7UOJaR1KCGRthGJtOWul9lQn5Rry+EZafPqZs33JqXme5llWel5OfM7/7P339dC4Sw5Ks6SozPKkLYNekztD8ek9odjBZ1voPO+DHTmnpWjb6s3nM70V9HFByS6+EDu/K45J7GaczOWBDirr4qz+qo0n3Ol+VzaOT3f0f3KlHS/ksVHzYK/Ls2G5lXL8YS0HE9I9PFDEn38UGF5XwKRyLQtHalZAf721P9/vgHkDNTnen2CotLkv9+njuXNR//n2XxCzrJXQJ2dL+UQi0oxKyfjnGn1Op2W45lxan72X1bLz/7Lalk97MrqYTfj+TlPHsl7vfYDcWk/MLfZSbrMp+mGK003ZvoF9RfleJbp9+msuizOqsvmu76+MenrG5Po+mGJrp/f0ij1UbMdo+25LqVUX5d+zPTfRWX676IFX3d7bMK0Tf5n+ul/bpNP/3Ob+X/PF8dkzxcz66c/T/IRW3baiPdtRxLSdqTw59b5xnRGWAp/f9XfP0nvF+v4Q//394nTz6V9l96BcekdKMzPDy7aJVv2pdL291/9g/z61/8kv/7Vb+WrL3+ZebzX/sxa/vK0FbGac+a+NpxyZcOp3H386BOHZ/T1BhelZiPleqEyWzvg/077oLnyZcu+eEZfOF97nk6uZ9Hf+yCjDdDrDHTel/6Ou4hFmLU2QyzSQbMZLKQ5GP3M35Hyr6FVJ5rN8Whl0wFVz4vJAZ06od7B8f+fvTcPjqM69/5fkQoFBUUKCijgGq22ZcuyLC/arMW2NJsxNhhb3vFu2fK+r/Iia5+ZnhBuuITcEJaEQAyEAAkEQiAQMBAIEBJCSCBL5b03YUlCyFv33t/v/eN5/5j+Pt3qWbV5Fn1P1adKo5k+fbY+ffrbz3meiEkYAlPEhGQ+JHu/sD5iYYbFZO1Cfz88F60Wz0WrxXvZJvFetkkaZ3fp4ijWgzbqjQePkTJNxmQNAW0gx0Z7sEZd66/vk/rr+yL6yfngMqexW+Y0douvYK/ezNBuzhslFhEQG3yF+/Shu2pZUKqWWTcyPLjghq3CIESeBf6EZq0qUMA0vOa0ihlYSKmY4bixQDgo3R3S8Y0y4TfoW33IMscWxmf5ZkNv+OVbDCnfYsiM1WGwnx/1rrg5TM3igI535J/oAQJlteeX6GZqvx7RjtEWd64cS1RFW6EfZy4KRByDaxJ5YlGD9nbPOKkCCG7QseoFMcI946S2BRaMugiEGIcHC1Pkg8DmK9ir7YexBGEV48O5CG2a2REh3qiQZAJBRtsZ88Flm1SgxtzgfKMGYv2/X35mPcd1GDKuw5DJu0IyeVdImuo69drDMRhraHOM2+nrDJm+ztB+q13o1+vbKTLjwQaL3rLtISnbHtLPlSuDWhZn/03bYMi0DYZM3hnqR/lmQ4Uy9CmuY4wL53VftSxoiaTYWoXrwOzzKVsNmbLV0Ae0ipuDeu2gfhiPaIOZNwVk5k0BXbji4XL6WkOvQfQt5jGUA+D61sV0zWmd0zA+nH2sQnOU7XCYN3DtRixYzTm4ZnFARRP0LfLVeq41ZPpaQ6+/qmVB7dPSvSEp3RvSORf/13Y2ywahyS7OYBygzfEiB/2JhbJd1HbeI5yidwQ1p/VlCETMWHMf7sXuGSe1v1ButA36L+I8cbYk4sEa9zncx+0vPHCPjFcP50NWrIfWaA9IrhzrwdAubmHedN73BrrlsJ9Y9OE/+onR0QQftHUyees9N8GLDPvLuFj4CvaKr2BvxLrMLlzHFPUc4lVTXWeEgBrrWFzD6PPG+s6I+T4ZMD/GmueHIrTGe9Ho3FqF9Q/qgGusaWaHXiuYnzF/RohD5jWD+727sn3ALzvjCfCp2r4XS5BMpoxoI/sa2dluupYbBhEY96fhaovhFI2TEROzHnPen7rJkKmbjAhDhVjQsogpmxO3oRFCCCGEZBD9HhL//Kn4Cvb2f2h2+AiL9eJNX/DZhDO1fDZFe1gEQMBQK3G7lYD5W6eVAiy8Iargxcdg/K54prSpMAdrAYhRzt86X7z5cner4KNlcli7QwxE3u4LVlpiF45xiG7RhAocj986f4PzQKhB+3ouXmNZsDr6C+fX35rt4C09pnVVzP5LZmtsIqHFmUcyosxw+7VBfRJZwGi/nb8iYoxBJHIKkGhnXAf9diM4xBP0J9pZ+/mqrdYLSzM/7ccBWkUlfS2Y/Z+sWBRvV4JaZ8cYC94vrNdrB6I2XhDFmlf6jaEYltX6gtMh4CVrEescIzG/i/NCb6DtjevQV7C3n8USxSKmbE4JxaJU7SMeqQmWDJxzYVJvp+BbXVLwrfhv/87FGxBYpcy8aWiRQGKa9g+Hw98kWPjiFln44hb9HO1NbDwHkYmItW1jpIi1bTCpvohhnjyYN86EkPRmINsPMo1s8FlECBkanAfSA4pFTNmcEopFt747R259d45+Hsy+aZjUp/piJtmDc3tRLKKZ3ju3XDmjf0TNJ4GPnaFwrp3KRvOLFeu6joiMMkxvDIfjTQ8hA8Hph4uQeCRzX0glfEgkhHAeSA8oFjFlc0ooFuV/s0vyvzm0N+5OR9PJAN8wqZ4AyMBI1z3PyTjGzFbgmybV5RjOvhzN/UkISY5MiNQzWKfSfEgk2Qzv88nx+B1Py/NnzsrzZ87K43c8nfLyjFYoFjFlc4orFnmv2ip732yWvW9G2SozAltoko36QgghhBAyWsl0sWio27sJSSeSiRacDSDASEyH+SPsXmGkXJTECnKULBSLmLI5JbQsKjkQkpIDiUOhE0IIIYSQkSfTxSJCCEk3BusigWIRUzanhGIRQuum+gImhBBCCCEUiwghJF2gWMSUzYliESGEEEJIBkGxiBBC0gOKRUzZnBKKRaliKA6uRzrqzVD3tpLhxzP1hHimnkjutxetFs9Fq8V71VbxXrU15u8QNWzCseS3YdbN90vdfH//8WKeZySi69j3yceKVHbi7QVy4u0F+rn2Rr/U3ugX37W7xHftroG188VrxHPxmqR+i/JUrApKxapg/++GsO8c5Xf+v/76Pqm/vk/mNHbLnMbuAeVZ3BaS4raBbbfFPOC9vEW8l7cMa78SQvozkhEpky5DGl3rFIsIyTzSNQjMYJnd1COzm5LzNxvLr1Oy0Y3TGYpFTNmc0lYsiphMZndJ4+yhRWUjifFdvS3lZSDDS9ljbVL2WFvKy0FGjsoVQalcEUx5OdKBppkd0jSzI+XlGA6mthgytSW5lybZsOAmyUOxKP2paQ5ITTMdeZOR4+xjr8k7Z9+Td86+J2cfey3l5RkI1UsCUr0kM66PRC+XKRYxZXPKGLFopJkzp1vmzBmYNQIhyeCZ3CaeyakTa3K/3iu5X+/Vz021HdJUmx0P00MlZkQPcs5xzzgp7hknU14OMji8V7aK98rWlJdjtECxKDqxLE8zjXSNruX+/LKUl4FYZMI84Ltmu/iu2Z7ycowkFIuYsjlRLCIky8m9u0dy707OTJgQQkj6kwkPiYSQkYXzQHpAsYgpmxPFIkKynImHQzLx8MD88RBCCElf+JBICOE8kB5QLGLK5kSxiCQNt+oRQgghqWegD4lwyI/ABjMXBWTmooB4prSJZ0qb+K7dJd4rNov3is3SVNcpTXWdUj+vT+rn9YmvaH8Y81j71mpfwV7xFewVV81pcdWc1gAjCDSAvAZSN9/V28L+E8087U504ZursaFLGhu6pG6Bvx/u81eI+/wV8dviC+vDoE1QhwGUEXngMwJilG8xZMbqMJN3hWTyrpBMPBLGXXFK3BWnxJe/R3z5e1I+hlw5tuAgVe3iqmqPCOCCMmu9r9ic8jKnmtmuHpnt6hHvpRvEe+mGlJZlOMUiuigYQttRLGLK4kSxiBBCCCEkg6BFASFEHVy/9Ud5+cfvDsp3XNXyoFQttwJkOP1s+gr3qRiK/w1GBAYQod0XrBT3BSut816yTjyXrBNXTtg3Vjz/WM7Iw55L1onrvGZxndcs09cZMn2doYIyRHBE8/VOOireSUelbHtIXJ9bGibJsseKtk2xiCmbE8WiNGXqRkOmbkwuCs5wUL00KNVLg4M656RHY4eDL90dktLdIcn9Wp/kfq0v4vuCb3VJ7p29kntnb8w8okXCG38qJONPhST/S0HJ/1JQCgOGFAYMPZ8zj+nrjIhjx3YbMrbbkIonD0vFk4dl3IPtMu7Bdg2jPv2JIzL9iSOSd2+35N8SlPxbglIQCpN3axjneWoWB6RmcUDGn4osw5RWQ6a0nrs+HQ4YZYuQkWPC0ZBMODq8W0RrF/qldqFf8r8YlPwv9r92E21JtVtwxJqzYzFjjSEz1oTnN6c1wsybAjLzpvSJepOOEaqqlgWlallQ6q/rk/rrErc7xSJC0o8GX680+GKvZ6OBuXbu8ztk7vM7JPd2v+Te7peC+zul4P5Oybu3W/Lu7dY1a+5dvVL5g0NS+YND6pMy/74uyb+vS/MqORSSkkMhGdtpyNhOQwrv75SSgyEpOZj8/QYJhzwRAAAgAElEQVT3i9I9kccUHw9J8fGQTNtgyLQNhpTuDUnp3pDkf7NL8r/ZJTNWx17rFp8ISfGJkHhLj4m39Jjm0e93pqUbRClYQJZtD4VFHvN39mPx3DR1U5hE9StuS74t8GzhFKkAxSKmbE4Ui0jSMHLUCLdvgtCcQ87fvDEn89tkTPkJSWfwFjHRlg/vla36RlL/by5U8RkPAMO9fcT+JpWMbnQ7UJK/t4tFH338mcxu6tE36K4c27az3N3iy92tW7qw5QoPX3r+i1br3xjnuOd7Llrdj6jlN7/zjj8o3vEH9f+z3D0yy20FWPBOOBzGZv0ASwNnnvb6uHLC29Ng9YD2cp4Pn/V7877qvWyT/o1IY7Hq4y0+JN7iQ+LKWazWD04rCO/lLeK9vGVAfYz7KsrmnnZS3NNOWtvuchZL08wOaZrZEbHNDedP5rzoP91iOGan+MbsHP4xG2c8RLSpY/3oHH8x63L1NssixNHXsc7hvbzF2lZntqPnwlXiuXBV7POYWy09l6wT77gD4h13IOky2vsp4RiIYZlChp9YEVZx/ZVvNlSMwlbRWHlhm2vD3D5pmNsnE46GZNzpML7CfeIt2EOxiClrE8UiQgghhJAMYlRZFjnFXEJSAF+ikVjQsogpmxPFIkIIIYSQDGJUiUWEpAG0rifR8Fy8RtwX3UyxiClrk4pFrumx/c4kQ7yoADDltJv22knkyCxdgTn1iORvmowPqlxXtibttG0g5skjWt94ZTRNtBGJxZVjmZojKkXtjX6pvdEv1UsCUr0kMCxldUYFicoAnePFPR/M5QcRXcNXtD/hWy9sR4gW8cJp8o7r2dmOTlP8gfaj83+xth9EtE2UeWMkxthIniNdOdcL4CFFR0KZE2xHcOVY2zmc23sQTQk+dqqXBCJ86jjLCL9p6k9mmCwdMH+ds74ewFbUweIr3Bd5XsxtMc7vu3rbOdmeoVuyhppXjHnfd8128V2zfVB5RkSdSnAfoFhECCHpAS2LmLI50bKIEEIIISSDoFhEBguiQc1u6onp18XJcPtXS9YfkCvH5n/OFGPxkhNlgo8hu+Ac6+WY3Ym/K8d68RDNHx1ePiKPmGWualfnyvCH5fS3NVI8fsfT8vyZs/L8mbPy+B1Pp3xsjVYoFjFlc6JYRAghhBCSQVAsOjcgDDeEAoTjhgPlsV2GjO2yIrGOPxWSvHt6JO+eHo0mNWlffxANqnyzIeWbDY3AWnw8JBWrglKxihFISXIM5zwwtcWQqS3pEbEXgiauK0RZQ0RiREJG1M/cu3qlqMeQoh5Dv0P0OFByIBTGjAo3rsPQiKS4JmOVB1FGYznCpljElM2JYhGJYKSjchFCCCFk8PR7SPzPv4n3sk26pd9z4aqIrcWxwDZU9/krxHtlq3ivbNWIadhuF7FN2fzsLT6k1h2w6kDUKViDxDyvLRqak1hRtqJtFdYobIjcZpbHvm19KDi3LjrdJmhb4XPRft3GDQsYWL4g4pZzy2G0bdAov7Me0Sx8sAUdZcUxiBznLCOsadznrxhwpLRktmtH216rY9Psr0Rb2u1b1CEcOCOaoV3hhgBbj105iyO2Cuuxpsin0fKSvE7iXkPFh7St9Xwxtj8PdTw6GU6xaCDR7Uh/KBYxZXOiWESyikQLVBIdPCSkuhyEkOxl2HwGDZLB+Ms61zhDzUfDM7lNPv7LP6yHxI8+k8aGrrg+k/DAHc8/m/MhP9ZWGg1fX35cZnl7ZZa3V/16IcQ0fP5BGInlszIu5gM/xIBoD/UQQuwCSKKIVSg/tiRF+CTDeJnZEXEs7pXO7U2JQrNH7ROHvzjvuAPqJxCCD8qG9nOKEK6c4fW5hz7HWHKuDTLRv2g2QwvD1DPb1SOzmrooFjFlbUpbsWgojnQj8jIXK4PJUxci5k3dV7Q/6WNxcx/Um4ssCRXb4OuVBl9v/DY294o7F8mTd4Zk8s7YZqHnEpigproc6YjzjRohhKQDTqsJCCapLtdwwIdEQjKPOXO6Zc6c7kEdW7kyKJUrgzJ9raFr648/skTjjz7+LCIwC46JFvAFeSQTMMJJIuE/2rofAivOO32tIdPXGmrthd/N8vaqWOkUcGFxVtMckJrmgNUm6yK3z2Hdjt9WLw1K9dLoWzyrlgelanns7Z/Rtofay0bLIqZsTmkrFhFCCCGEkEgoFhFC3nvtffnoT5/IR3/6RN577f0BHTuc2876bQHMWdwvumjSxIsuPIgX6HjZ79yGaS8z/k5kkQhBzW6dqmJXDsUipuxOFItIQkr3hKR0T3pY+CRiKG9tCCHZB/xaDOSYoYRAJ+Rc0E8s+o+/hf3AILLVec0R4z5WNKtoPgrVJ5H5HR6ksCUp2oNVrAfPZLZnJbN1zJVj+ssZ6ENjlAdQtfZOkFcyFrPwQ6R1ScJ6HRZviJwV7TfObXuwjMcx6iMqWpsn2I7v9LuUDAOxzPde3iLey1vi1j3eb1w5NivAWOLBMJbXOU5RNljpRIuURogdikVM2ZwoFpGUA2eQwxFqdKDOGkcVw7C10eljIRnwEDHYBwlCUg6unWHeHjyc261JYrLJgSstiwghZPAM9CVSPCgWMWVzolhECCGEEJJBZJNYFM/CZqgMJdpVMpZFjB6bpPXYAK2ZhiNK2aDrk2TENpLZuCvbh5aHzWqRYhFTNieKRYQQQgghGUQ2iUWEEJJKPOXHxVN+POb3Gk3S3HbquWh1v+3qFIuYsjlRLCKEEEIIySAoFhFCyLkhkWUcxSKmbE4UiwghZIRJFGY2U4jlJDdVwN9Z3LZ3OKB1UjffP6xlmrbBkGkbIsP4DgR1VJwGbUzSE4pFhJB7Tn1bHgw9Lg+GHpd7Tn075eUZrVAsYsrmRLGIEEIIGSbGdhkytmtoYhEhiaBYRAjhPJAeUCxiyuZEsYgQQggZJibtC8mkfaGUl4NkN3xIJIRwHkgPKBYxZXOiWEQIIYQQkkHwIZEQwnkgjHvayYht8s4ofU6/Q56pJ4bt/BSLmLI5USwihBBCCMkg+JBICOE8MHi8k44OW14Ui5iyOVEsIoQQQgjJIPiQSAgZrfOAu7Jd3JXtUrfAL3UL/DJ1kyGz3D0yy90jjbO7pHF2l9Rf1yf11/WJq+a0uGpOa+AIHFu9JKD5ecqPi6f8eMzzeS/bJN7LNlm/n9wms5t6ZHZTj7hyKBYxZXeiWEQIIYQQkkGM1odEQgiJxpSthkzZakjZjpCU7QjJ+JNhitvCTDgaBiJP2Y6QlBwKUxA0pCAYOzBF2baQlG0LScnBMK6cxVK9JKCCE8UipmxOFItIQop6DSnqZXQfQgghJB2gWEQIIRYFoaAUhIKSe7tfcm/3S/59XZJ/X5cUfCtM7t09knt3j5TuDknp7pDkfq1Pcu/wS+4dfpn+xBGZ/sSRmHnn3xKU/FuCkndvt+Td2y2Ns7tUhKp+6qBUPbGfYhFT1iaKRYSMcuwO/wghhKQ33gmH5eO/fEqxiBBC0gBaFjFlc6JYRJLGV7hPfIX7Ul4OQgghZDRDyyIynCByFPy81CwOSM3igHgv3SDeSzdEPaaptkOaajsGdB5v8SHxFh9S/zIjURff1dsGXv8pbeKZ0jZ85TivOUwa9C0ZeSgWMWVzolhECCGEEJJBUCwihJChAWfXnotWi+ei1TF/19jQJY0NXdLg65UGX69MW2+It/SYeEuPiSuHYhFTdieKRSQhk3eGZPLOUMrLQQghhBCKRWToeC5cZX2GJUxVu7iq2jWilC93t/hyd0c93nfNdvFds936PGan+MbsjHtO39XbxHf1thG1LHJXnBr4MWakLO/lLSnvl4EQavmK3L73brl9790SavlKysszWqFYxJTNacTEon43oQQ4bzgkPUE0gFSXg5Bk4JxCUsH0dYZMX8eAAGRkoVhECMmEeWA0PONRLGLK5kTLIpKQprpOaarrlDlzumXOnO6Ul4cQQggZzWTCQyIhZGThPJAeUCxiyuZEsYgkpG6BX+oW+CkWEUIIIWkAHxIJyVwGsvsiHpwH0gOKRUzZnCgWkYRwWwUhhBCSPvAhkZD0IJUvUTkPpAcUi5iyOVEsIgmhWEQIIYSkD3xIJIRkwzzgvbJVvFe2Dnu+novXiOfiNSNWbs+Fq8IWYjWnpan6FMUipqxNFItIQopPhKT4BB1bE0IIIelANjwkEkKGxtJrNsmyMS2ybEyLLL1mU8zfeccfTHlZsxlaFjFlc6JYRBJSGDCkMEDLIkIIISQdoFh0DjivOfVlOMe4z18h7vNX6OeRsvogJJugWMSUzYliEUlIUY8hRT0UiwghhJB0gGIRIYSkBxSLmLI5USwiCZlwNCQTjnIbGiGEEJIOUCwihJD0gGIRUzYnikUkITWLA1KzOJDychBCCCGEYhEhhKQLFIuYsjlRLCIJKTkQkpIDtCwihBBC0gGKRYSQtvk9cro5KKebg9I2vyfl5RmtUCxiyuZEsYgkZPLOkEzeSbGIEEIISQcoFhFCOA+kBxSLmLI5USwiCalaFpSqZcGUl4MQQgghfEgkhHAeSBcoFjFlc6JYRBJCsYgQQghJH/iQSAjhPJAeUCxiyuZEsYgkZPo6Q6avM1JeDkIIIYTwIZEQwnkgXaBYxJTNiWIRSUjZ9pCUbafPIkIIISQd4EMiIYTzQHpAsYgpmxPFIpKQaRsMmbaBlkWEEEJIOsCHREJI6/SDsqPmqOyoOSqt0w+mvDyjFYpFTNmcKBaRhFSuCErlCvosIoQQQtIBikWEEJIeUCxiyuZEsYgkZMZqQ2aspmURIYQQkg5QLCKEkPSAYhFTNieKRSQhU1sMmdpCsYgQQghJBygWEUJIekCxiCmbE8UikpDJu0IyeRcdXBNCCCHpAMUiQghJDygWMWVzolhEEjLhaEgmHKVYRAghhKQDFIsIIXRwnR5QLGLK5kSxiCSkcmVQKlfSwTUhhBCSDlAsIoRwHkgPKBYxZXOiWESSxjO5TTyT21JeDkIIIWS04p1wWD7+y6d8SCRklEOxKD2gWMSUzYliEUka35id4huzM+XlIIQQQkYz5+Ih0X3BSnFfsDJldUz1+V3nNQ9vfc5fIe7zV6SuPnHwfmG9eL+wPq3LSCKhWJQeUCxiyuZEsYgkTe1Cv9Qu9Ke8HIQQQshopt9D4n/+XbxXbE55mTKNoQgk3itbxXtla1K/9V27S3zX7kp5fePW56qt4r1qK8WiIeL+/DJxf37ZOTsfxaL0gGIRUzYnikVZiuei1eK5aPWw5jm1xZCpLcaQ8sCCJNXtQ0iyDGnx/LmlYdKgHk68l7eI9/KWlJeDkJHCc+Eq8Vy4KuXl6Md5zUO3WPncUj4kEkI4D6QJFIuYsjlRLCJJU7Y9JGXbGRWNEEIISSV8SDwHDPM2NEKGm7b5PXK6OSinm4PSNr8n5eUZrVAsYsrmRLGIJE3FqqBUrGJUNEIIISSVUCwihJD0gGIRUzYnikUkaSgWEUIIIamHYhEhhKQHFIuYsjlRLCJJQ7GIEEIIST0UiwghJD2gWMSUzYliEUmaipuDUnEzxSJCCCEklVAsIoSQ9IBiEVM2J4pFJGnyvhyQvC8HUl4OQgghZDRDsYgQsvSaTbJsTIssG9MiS6/ZlPLyjFYoFjFlc6JYRJKmanlQqpbTsogQQghJJRSLCCGcB9IDikVM2ZwoFpGkafD1SoOvN+XlIIQQQkYz0R4S3Z9fJu7PL0t52UgY9/krxH3+Cv3s/cJ68X5hvbgvWCnuC1Za/y89Jt7SY9I4u0t8+XvEl78nZp6eS9aJ55J14r1sk3gvG3lLEu+lG8R76QbxXb1NfFdvS3mbkv5QLEoNdfP9UrM4IDWLw7stKBYxZXOiWESSpnpJQKqXcBsaIYQQkkpG4iHRe8Vm8V6xOeV1I4QkB8WiwTPb1aNzXmN9pzTWd8b8rXf8wTDFh8RbfKjfd3UL/FI7v5diEVPWJopFhBBCCCEZRKKHRFix4LMvd7f4cnfHzXNYLJM+tzRMjO+9V7aK98rWweV9XvOwtqHTOsc77oB4xx0YsT6DpVGEZdHlLeK9vCXqMZ4LV4nnwlUpG2eei1aL56LVKTv/gPrT1o4jYWXnuXiNeC5eM7QyDrNFGMWi1OC+YKV4JreJZ3KbVC0PSuVSP8UipqxN0cWiBDd7QhLhK9ovvqL9w5pnMoumZBbEhBDSj/Oah/1BlKQfTXWd0lQX++1xskQ87E84HCbOQ3+yFJ8ISfGJUNzfTNlqyId//ycfEgkZ5VAsSj0v/L5Qnnu/gGIRU9YmWhYRQgghZMQYjjfypD98SCSEhFq+IrfvvVtu33u3hFq+kvLyjBbcle3698TDIZlwMEixiClrE8UiQgghhJAMgmIRGVZoXUnIoPBetkk8l26gWMSUtYliESGEEEJIBpFpYpEzMhghhGQycI0x29Ujs5q6KBYxZW2iWEQIIYQQkkFkmlhECCHZyMpX1svyl9ZSLGLK2kSxiBBCCCEkg6BYRAjJBpwREqMFskF0R4S6TyrfBAEHvJdusM5Zflw85cdj/jZagB2Uu2pZUCqXMBoaU/YmikWEEEIIIRkExSJCCBkavvw9Ya7eJr6rt8X8nfeqreK9aqtGXHZPOylNtR3SVNsh1UuDUtVMsYgpexPFIkIIIYSQDIJiESGE80AK+dzSMDmLpel/LaJYxJS1iWIRIYQQQkgGwYdEQgjngRTx7G4p/95RKf/eUalZHJDqRX0Ui5iyNlEsIoQQQgjJIPiQSAjhPJAapm4ypHppUKqXBsV72SbxXLqBYhFT1iYVizp/7pOGZ/ZJwzP7pPlsizSfbZGVr6zXC2P/W2FaX18pra+vlNWvrpPVr66T5S9vlOUvb5SVr6yXla+s19+1vX2DdPxinnT8Yp4c+flCOfLzhXrsvBe2y7wXtsvG127uh/u5XXqM8SuXGL9yyS2/apJbftUktU8fkNqnD8jeN5tl75vNWkbXs7tl0UubZdFLm2X2j/b2o/jhU1L88Cn9vOONZbLjjWWax9Kzm8T17G5xPbtbbv91g9z+6wYtC+q19OwmWXp2k9z1XnUEKFvb2zdI29s3aDlQhzvfmyl3vjdTv9/8+ir9zfqfrpH1P12jZap48rBUPHlY2w+Kdemjx/UYtB9+g2MD73gk8I5H+8r7451ax9y7eiX3rl5tL2cfTPjOSZnwnZMy/YkjMv2JI9L47B7Nd9r3j8q07x+Vuc/vkLnP75AbftIqN/ykVfsTeXz/g0maP8o9ttuQsd2G1P9wv9T/cL+UPnpcSh89LpU/OCSVPzikxy58cYv2E/JHPbp/OVe6fzlXet/xSu87Xm3v3W8skVvfnSO3vjtH/4c2yP9ml+R/s0vrU/PUQal56qBUPHlY6462yftyQPK+HNBj3/7jv8jbf/wXrd9t786S296dJW/+cYz87z9dJf/7T1fJm38cI2/+cYz87T/+Rf72H/8iD79fLg+/Xy7P/X6sPPf7sfLyH/Lk5T/kyYm3F0SU/6XfF8hLvy/QPADO6/3xTvH+eKe0vr5STry9oB+731giu99YIvNf2CbzX9imZcQx81/YpmO16Nunpejbp7Uv0J4Yc2tfXStrX12r42ju8ztkyuPHwrQaMqXV0PGP6+HQWzfJobdu0ut+3gvbxf3cLnE/t0s2v75KNr++Stv1/t9Ol/t/O13L3PjsHml8dk84YoSZL86NcYAy4RicD21X8eRhPY/zWPQx6o88Vr6yXqqfOijVTx3UdsM4xTE4L9oGbVb79AGdG3A+lD3vG92S941uvT4wN618Zb3OWxjLOB8+Iw9cB/U/3K9lwByAuRTzCNoVxyLPbT9brtcq+gl9jbkcZcMcuPDFLTpm8u7tlrx7u7UfcY3iWLRF0QMdUvRAhxQYQf0Ov52xxpAZawz9be7XeyX3673avrN/tFfKHmuTssfatH6oB/oG5UF71z59QOc8zA3oP7QN6pP7732S++99Wq6lZzfpdyjTuAfbZdyD7Vrmol5DinoNybs1KHm3BmXiIye1TLh2MH8UfKtLCr7VpeXAMSj73Od36DjEXIvxgbbH/N/+i+ul/RfXy8pX1mudUR98xjjEXIXzTPv+UR3fyBf1Q//he8zXoOGZfVb57+mRvHt6dDzimlr44hZZ+OIWbXf3c7u0TPgO4w7jHuMW58HvK39wSPsD/YO+x1wAcGzjs3sk/74uyb+vK6Ks+Iz+w5jf9rPlsu1ny6XhmX2aH86L8YIy4T6BeaXkuyf0GkS/4beYCzEe0Vb53+zScT3p0eMy6dHjWjacH22Fa2vc6ZCMOx2SKVsN/V/u3T2Se3ePtgmuD5yn+ERIik+EJO+eHi0j+hjnq3jysHz435/qQ+JH//1pv3aY9OjxiHGJ+kx85KRMfOSk9iPmt9qnD+jcifkE4xB9X3h/pxTe36nlmfL4Ma0zxh+Oda4b8D3G+OpX1+l8lXuHX3Lv8Otn9N/4h9pl/EPtet9Z++parQfyx/nRJwX3d0rB/Z163eNaXnp2k44d1AtlxRyLMY02mvTocV3DoPy4ZpEHrm/g/fFOHcvoY4xV1Mt5frSJ+7ldeg2i3KgfjsFv7fdm5I++RFlxfTvnYHyusd0b0a44r3OtjTotPbvJ6jfz+i7bEZKyHSEpPh4GYwv3h6ktho4d1AfzNNYczodxjJvC+zu1Prlf8UvuV/wyttOQsZ3WfQfXCdpm6dlNOv4xhnDton1Rb+fnG37SqutilBF9jja3rzFWvrJe7z1Lz27SMYT2Q7857+u5d/h1PGJewroW/fjI+2XyyPtlulY889tpcua30+TWd+doGf75/3+s88Bf/7+/6f2hpjkgNc0BzfuxD0o1H6xFsX7FGhTnxXr2Z3+4Vn72h2vl5T/kyX2/qZD7flOhazKUFWMKa1V8PvTWTVp+PDN99dd18tVf1+k66Ue/Gy8/+t14rRfW3Pf+pkpe+H2hvPD7Qvn+B5Pk+x9M6vfdvb+p0nZEeXrf8epvcb4nP5goT34wUcuBZ7KxZ07L2DOn5dBbN2l+uH4x/jFuSr57Qkq+e0LXtWibn/4hV+8rRQ90SOG32ikWMWVtomURicAzuU08k9us/1W1h0mDshFCCCGjnWgWBb5rd4nv2l3iuXhN0vl4L92gUYHc568Q9/krxDOlTTxTrDUA8nUe67t2lx7jHXdAvOMO6LH47DymcXaXNM7uilsmz0WrxXPR6oj/u6edtM5tOqZ1ljUW9mO17hMOi3fC4eTaafxB8Y4/mPJ+j2ir8uPiqjktrprT4q5sF3fl4NZqzmhPcOTr7Md+a8MRpHpJQKqXBOL3yWWbxHuZJV4lin7lylksTTM7pGlmh/gK94mvcF9S4xFjbSDl9046Kt5JR8Vz8ZoBXY8DZTgtixJFBCNxxhV9FjFlcaJYRAghhBCSQfR7SPzPv8eN5GMHIajtzlmTBYKC5pFjCUwjUUcIWYkiFblyLOEAobXxsI4oRvbfui9YKe4LViY8f2N9p1X3S9aJ55J14v78MnF/fpl4S4+Jt/RYxDH2fIejbZyCCEQOlCOZPLTMZr9BYPMV7df28ZYcEW/JEUv8c4QoT7bNXDmL4/aXfewMlGSFl35tfl6zuM5rTkpIiqjHIESiWG0/lDzicc+pb8uDocflwdDjcs+pb4/YebKJkRDwKBYxZXOiWEQIIYQQkkHQVwkhJF0ZjEjqtG6z47tme5gYVo5R80sgCvnG7By2+lIsYsrmRLGIEEIIISSDoFiUWrB9CQ+vsMQp32zILG+vzPL2St18v9TN94uvYK/4Cvaq1U7ZtpCUbQvp9xU3B6Xi5qDU3uiXyTtDMnlnSP8386aAzLwpoHnWLA5IzeL427MIGRTmdsaUlyMDoVjElM2JYhEhhBBCSAbh3IbmvWqruGecFPeMk/22zuBtPUQNX9F+8RXtt/KKsx3N7s+o3/9NYSTam3nd9mXmqz5vHL4P7W/8nVue4p7f3FYU8VuHT6FoeepWNceWJO+VreK9slW3T2HLmbfkiG6/wm9wDHz6RNtqFqvdYraV+dn9+WVWGc3tWk5LCpQNuHIGvt0NW9k8l6yztvqN2Rm9Px31jloPs+2dW+aibcEaqK8p+9iMZ3kSs65mvWId6/SPZW+DZK1Y4rX9SG9DIwNHr+kkrtFY+Ar2irvilLgrTomr5rQ0VZ+iWMSUtYliESGEEEJIBtFPLPrwH+EHF5tfGaePGYgL2M4RN38ISHCcbIoREJqS8TvjFEKa6jqlqa6zn8ihZZt6QjxTT0TkoQ9jEIiiiESah/nQD987EDDs7aB+eUxRzZmnU0RqmNunAT8ihJA4PnwGI2q4csLihNNReESbDIP4EM9/j1N4gliEPvIV7rO+M4UmFdtMEQr5RxWL4HNp2smoTsc1b9Pn1GDriC1IKgxgPCRov2iO1QcCxaHRCS2LmLI5USwihBBCCMkguA2NkOFDrfLG7JQ5jd0yp7Fb6q/vk/rr+zRKGKLnQXDFVkS7I3SIYbCkU5E0hiBKsgOKRUzZnCgWETLC4G1mqstByGhiII4wCck0KBYRQt577X356E+fyEd/+kTee+39iO9rb/RL7Y3+lJczlZwLoY5iEVM2J4pFJCFwsBhrTzshhBBCzh3RxKJk/Ms4sW+ZSiZE/Ujg3Prk3MoDPzcDCbkeLRIStsZhLYMtX2i3pLbXwT+PuU0Kx2LLXDTfS07hWs9feiwMLFau3aV9oFv/4EC7+JB4iw9F+H7qVzYzP20Dhz8e/Z1tG5qWJUbdndvF7FvD1GomwbY7+3co0yx3j8xy9wzrOLKHuscWOWwjxHcos7uyXdyV7dJU2yFNtR1Sf12f1F/XJ94Jh60tjebWwwZfrzT4eq3ti+f4+ogHReP0gGIRUzYnikWjjGQWg7H2XFesCkrFqmDK6zCaGKjjysGiDjkT+IUgJNOg+f+5x+nLBP+HU+CUlcvhd2YgRBtDyYgLyQLfKsk+RPxiNKQAACAASURBVPd7SPyPv4b9ssBfzxWbk/NN5GgTiCcQKCC4xOo37xfWS2N9pzTWd0b4tlEn2GYksKmbDJm6yRjUOFJRYkpbhC+kIY0HR//F8+WjvzHbGFuTdGxj+9EgyoF1ma9grwpH+h3EIohTpiCEdZrdWXky5XflLJaa5oDUNJsR1RwOztWxtjl+1G8UymNznp6oPlG/M+uDcZOwfWI4X4/aN2bbuc9fIU0zO6RpZkeEo3MtG9Y6jghg7gtWWmIRxjS2oTmcqKcDFIvSA4pFTNmcKBYRQgghhGQQ/R4S//KpeEuOxLX+xUNyvEhdTksUtWbBZ4iAgxDJ4jksjub02pWzWOrn9Un9vL6kImfBUmR2U4/MbuqxhK84ohlexqjzZlPY0nJNTiJaV7wymfkPROCCBYyKRMMojuk5bOMEfQnrGaflUqq20Q/VwXUmM229IdPWGzJ5Z0gm7wzJhKNhJh4JM22Dob/56JPPrHngz5+OXH8MwmoxIaZgp9ZtNmFPxVGHnygIx/Gua+e85cQuyA/XdnWKRUzZnFQsmrYmEJ6ANhi67WjGGustUM3igNQsDqjjN+eFkvflgOR9OaAXXuWKoII9s+NPhWT8qZDUzfdL3Xy/jO00ZGynIVM3hnFVtUdGYjBvZIV9hhT2GVK6OySlu0N6nqkbDcn/YlDyvxjU30xfG2bSvpBM2heKeLOMNyXuaSdlzpxumTOnW3+LNy7Io3pJoB9z5nTrGwtY2hQYYQrv7wwTMKQwYEjebQHJuy2gbVdxc1DKdoSkbEdI32aM6zBkXIchuV/vldyv98qM1YbMWG1oHmO7DZnSGmbGmjBog5IDYdDOqF/JgZBULQtK1bKg5H61T3K/2id5twYl79agFPUYUtRjyMIXt8jCF7dI6d6QlO4NSdXyoFQtD+eBxQnaHvVDH+PGBfNdV45ljtzY0CWNDV0y8XBIJh4ORZjton7oe/sYqrg5KBU3W/WY+MhJmfjIScm9wy+5d/il4snDUvHkYZm0PyTFx8OM7TJkbJehZcIYQNtPOBaSCcdC4spZrL891zd+XE9gtqtHZrt6dHGG8YExOLbT0Pab2mLI1BZr0TC2OzwmUC8cU/Tt03odAPwW5UBe5ZvDTN4Vksm7wosPjEMwfV0YjNeiXkOKeg0dc5P2W2MG4xJlGX/SpD0MxmvZjpCeG+MO+WJ8Yo7A93gb3Vjfqflg7EzaHy4Hrg+0L8b+lK1WPfL+NSB5/xrQfDFe0AZl28Kg/iUHQ7oYwxtQzBVYTGMsY26YscbqF702VwalcmVQ64EyVy8NSvXS8FjHW0vMaSUHQ1Jy0Go/tC/GBMpeusc2Psx66BxwKCQlh0I6R6HdSw5acwPaHseOOx0G+WtdzPKUbzF0sYrxiGsWbVC2PSRl261ylG8xZMrWMMUnQlJ8IqRlK/QbUug3tO1Rxkn7rHIXt4WkuC2kWwlQX8zhyCv3a32S+7U+GddhnQdlwbyFeRJjDOefvDOk9768fwtI3r8F9LyoL8Y2+gJtMm2Doddxw9w+aZjbZ90TzTkIeaDdC/sMyb8lKPm3BPU7Pa9Zdr1XmVtApmw1Iha1GFPIF/M15mDcp+oW+HUc5n7FL7lf8escgT5GW2AMTNpvjS20MT7jWCy4Ufbcf++T3H+37jV5twal5LsnpOS7J3S+Lri/Uwru79Q+KeozpKjPkNw7/DruMO4xxrBewHkwnjBuSg5ZfYx6oKyoH/LGGCvfYqgQgbGDaxZzAMYAzlu5Mqhtjd865w+cH22E+2/+Ldb6BH2M/sN4xHyK8+fdFpCCUFAKQlZ7Fj98SoofPiW5/94nf/4/1kPih3/9TCpXBPttGXLee+sW+KVugT9iWxHGi/eyTVofrH+wNsNnWCHNXBSQmYsCUnujX+8RuK9hPsY1iv7DfRz9V7o7FPOeOcvbG8YcY5i3S3eHLEsXcx7Gde609NE1pLmeqVoe1HxQBr0PmGMN/YpxUrfAr+tHrGMxV6DPUW98jlYfHIPPWEejTzCu3BWnpHahX2oX+rXcuO9g7sGxiExXu9Cv/YHf6PxhCmjO9TTmrPrr+vTcaEfUE+MT90HkMWm/rY5OqyTzwR6OoaO1BebhRA/pEP1cObGFI4gLmOtwf52805qzncfg3uucR/D/qS1WXTGmsB7HWrh0T/j+i3p6iw9pGTD+MbawTsB8Uv3UQal+6qCUbQtJ0QMdUvRAh46/3Dt7JffOXqn/4X6p/+F+Xae7n9sl7ud2yfqfrpH1P10ja19dq39/9D+f6jzwyf/8XY78fKEc+flC6f7lXOn+5Vy55VdNcsuvmmTjazfL7B/tldk/2iuNz+6Rxmf3yI43lsmON5ZJ89kWaT7bYlmTmedDOep/uF/mPr9D5j6/Q4+teeqg1Dx1UK+Z+S9sk/kvbJO8e7sl795uWfvqWln00mZZ9NJmzQO/QV7LX94oy1/eqHW54SetcsNPWqX5bIu4nt0trmd36zGrX10nq19dp3nufbNZ9r7ZLNt+tly2/Wy5LHpps5ap8geHpPIHh7QeAHmiH8c92K7z/8bXbpaNr90s5VuMfmsdzAWoN+5huXf4ZcJ3TsqE75yU3Lt65do7uykWMWVtynjLogZfb8rLMFrAgjHeb3Dzdi5SyPDiDAub1HHmW5xEIWvtxDOtd5p3n/M2GGR44mjoAhzbAZLYvjHcDGUbQ6oZzu04w1amJN/Ip9u2gnRhQHNLKvt5AOPO+TCdziSa2+yWRR998pnU3ujXB1b355dFzCcRvmfMt+84ZrarJ64/HFeObZuaKVQM21iLtV6Isi0aVkga0j7G1iDdkmfOTd7LNunDMMQSteIxt9lFq5fzOtAtSsjXFDJQLt/V2yLmHrVccvjNwctJ3T417aSKd05rKvQXtpo5raBwLXi/sF7XByiH07WAfaub5htjvsTLEpyvsaFLv1PrDvPlJ8REu+8gV85i8Uxp0z6G+IWXO/Gua90Sh61rZtvo+Z2WdLbxgjbHiwycD22PsYxxhJef3vEHtV7q7yiBsBXNL1Q0n1kjweN3PC3Pnzkrz585K4/f8fSQ8hqMFRmuD4jCEOHtv0GfI3ocxGAIrXg5hJcanvLjOi/FPLc5V6kovcASTZOeX3IsET3p+przaFGf0W8secbuo1jElLUp48UiQgghhJDRxEj6KsEDNqzKnN/DorD++j59sB5Ofy5q2Wpau6hVZ47l9woWMbCGgkUALHNgsYsHSPtvgd1qsnyLZTGIlwclB0JqjY0HWViADcYHEyEkO+E2NKZsThSLSMrB9o1+ThdzrG1TMOtNJi81GYcp9xAcmhJCCCHpCB3bEkIGAyzNdAuq09E7Iv6ZztQ9F65SCzpYYDm3fapDcdNCrbGhS0Vep+N1zde5XoeV3pQ2LSMs9tTCzbRagwUTrOQa5vZFWJrBGi6WTzS7tRGsyGK1WTTLb1i3Vy8NSlWzn2IRU9YmikWEEEIIIRlE/2hof4u6FSbrYKROQsSVY/lTwpYubCGD8BL1GEQqNLfg6VZNh08oFX4ckfkGgvfylggRKtkIjVHzS2ZbuWPb6nC6KohWP/tnWhYxZXOiWEQicJqew2QbjkdTXT5CCCFkNEPLIuLKCQcRgIN3bKOzB8sY22noVjxYhUx5/JhMefyY5P1bQH8DB/UIBAIH/fZAAJN3hoNX4NywHIH1N9aOcHKMrXrlWyxn6c6ANLHqBcfyM1ZbTqidAR0AHFDnfyko+V8KyviH2jWIgDqdNz/D0bQzGEpB0JCCoCF53+jWNkBZJz16XCY9ely8P94p3h/v1PZGYJr8L1nBCvK/2SX53+zS9TLKhL6BJf1I+1tVfzqmYGN31p/oWLSRBsixBQ/QgAamM244gMbWUbRD7lf8/QLMuHIs6xxYCWlZTXEKzvLzbwlquyEoQ+7dPZJ7d486vEafFH37tAZ4wThEQBMcq2U2+6v00eNS+uhxGfdgu/YlHI/HahM4z9bPzVYAnbHdhhR1BigWMWVtUrHIM3ZfRGSDaDhN9ZJxdKjhWKM4K3TlWCFdBzMhptLBtTP6zbDmbTpgTMZBq9ORnn3bFSZh/MYZGS4iTGrxoZhO7pyR6vp9Zzp9g7NEjfpm9nmEGar52Vt6TKO21F/XJ/XXWe3pdFBoD92JEL6IRgEHdog8AUemIxF21pVj+U2IFYbYV7gvwsljItAOiDDnyrHMddH2cCIIE13Uu26BP8JMFs4EtT1Nh5nR+hf+GBAtxtkH+Izzu2pOR3WwGQ19i1V6LOJaj+YMMWabmybGOCZexJWBoj44zLwHOx8lizoHH8Kb8oG8ocN2zGjRghKZX0cdqwg5bY6pePcB59tFOLV0/s6+DRX5x3JYibGH6w/Xo/03iOKD6Hxw0O+MHtkwt0/nL8wbWGhj7oEDVxyDt7n11/dZ81IC58DR0HDVwzi2NGJplPJgPokYA5gbbHNsLNP9WGg44qp2dRqqDpHN6x597Jw7mmZ2xA37Ho9oYxf3F6fzUo3qNeGwFVXLsS7BWHaGkZ/SalhOV+HQ12xP/N8ekjlhuXHtmG/bEY0J0dDirS0a6zvl44+saGgfffxZv3HsvWxTxDyvW0twPZrrPfu1gzLgXoz+cjqbxfaVxnqbk2bTOgHRtHA/wv/xsIzf97vXO8Yayo6yQXSoXeiPeNDU7Skx1pHq9Ln8uPobwjiAFQbmGVzv6Ed3xSkdq5gTEKUL90K0BY6Jdn1hzkH/2CMV1i3wa56NDV06J6BemGvgoBn3KrTRnDndei+EeIP5E+sDjXBr3nf6Obg2rxVcD+r43BSWnFFq4zkdxjUc71qOFdnMiUZD+9zSmJHuFPMaxtiaeVPAuvbN72BlgvsP2hW+rTBf2sclxrCKVeY4VGsec35z5VjrcByjY+um/uVJZl0Ih89YRyOapD3aKsQ7rHn1txB67uoNYwo+JQetyLQQ7iDuqasHsw00Yq55jqrlQRXq4EfMGeEPbYO5Y/Iu6zzoFxwDUE98xvwzbYMVgVGjQJsR6FBWZ8Te6eusCJfOiH726Nz2e3/ZNiuiHeqqkQKRl9mPyAv9WDff8otWujskk3YGKRYxZW2iZRFJf2KIjHFJQvjMROIJdoQQQkYG57aDkcIeMjwetCwihJx97DV55+x78s7Z9+TsY6+lvDzAe3lL0sKg/SWFYgpXEFYh9EDcwctQCLCeS9ZZL6dNYdwp7juj6dl9FtmFv4HSWN8pc+pOUyxiytpEsYgQQgghJIOgWEQIcc4DsSx37VaGalUZI09YPyGv+nmW1Zo9MmFUINjYrTcT1GGgVvjpCH0WMWVzUrHozl9VycpX1svKV9bL0rObZOnZTdJ81nqThn2i2NeJ37qe3S2uZ3dLwbe6pOBbXbL61XWy+tV1kndvt/7myM8XypGfL5S5z++Quc/v0H2/YPcbS2T3G0tk3gvb9X8TjoZkwtGQ5lH88CkpfviU7i+d9v2jMu37R2Xvm82y/OWNsvzljVrWRS9tlkUvbZaS756Qku+e0D3EebcGJe/WoEz4zkmZ8J2TUv69o7LtZ8tl28+WS9ljbVL2WJvWPf++Lsm/r0vLs+ONZbLjjWWy+fVVWg/necHEwyGZeNjaylN8IiTFJ0Lifm6XHHrrJjn01k2y/qdrZP1P18jYM6dl7JnTag6Ktqj/4X6p/+F+KfnuCSl6oEOKHuiQxmf3SOOze7Qt0Pbtv7he2n9xvZ5v7vM7ZPoTR2T6E0ek/HtHpfx7R/W3a19dK2tfXat7yvE77OFd/9M12ofY177wxS2y8MUtMu+F7TLvhe1qloxjlp7dJLm3+8OYe4JhXoq9wnnf6Ja8b1g3GNQl9+u9OqbwP93rbfYBzoO2uuEnrTL7R3tl9o/2av1QL2cboa8mHg5J89kWaT7bYo2le3ok754eueu9arnrvWo9D+qPvrL3Nb7DeMAYQ95oo9qnD+gYRRnRBuMebJdxD7ZLwzP7pOGZfdq+xq9cYvzKJQtf3KLH4jy4/lCfjl/Mk45fzJNb350jt747Rza/vkrbAGNZr1GMTXMMYMzj+42v3az5oh74zcbXbpaNr92sZcT1sfTsJun+5Vzp/uXciHbD9YX8T7y9QE68vUAWvbRZryfkqz4AzGsT+9BxDWPuuOu9ai0TxoFef2a90Pa4hip/cEjHMMy4USb3c7vE/dwuPX/b2zdI29s36LFHfr5QWl9fKa2vr9Q9+JtfXyWbX18lN/ykVW74SavWC9dytLDROveYYw2m3Kj/vb+pkq/+uk6++us6uf3XDXL7rxu07ijrLb9qklt+1aR9jvPufmOJ9gGOwXlz7/BL7h1+3c+Pvln44ha95mFejXqNf6hdxj/UrmbraCOc/97fVKkJOOacvW82y943m63w1ab5OvKqfuqgthfaE8fiTSHGE8byobduktvenSW3vTtL6wdQd1wXME3HtZV/S1BN9XEezAkYW4+8XyaPvF8mP/rdePnR78bLXe9V6/nu/U2V3PubKrnzvZly53sztc3x/6d/VyxP/65Yzvx2mpz57TR57INSnauxsIaZPvoCcxXukTVPHdTtnag77muYG+CDA3NV7tf6tI8xlnBfwPWGa8g5p4970Hp7ijmn4P5OKbi/U68ZzBkTHzkpEx85KdVPHdT5BL8B406HZNzpkHUfMvPGeCr57gntf/hOwbGY0+FTwn5fxVgqCAWlIGRtFcAWhUn7QzJpv+VrBHVoeGaf+tOoePKwVDx5WM+PeqGN0Fdjz5zWMYPtRbptw7x2MG7Qznn39OjxmC/xG7QV2h73V/hJKQgFdR2A73BfwP0P85u9rDqPmO2G66t0T0j+8uk/9SHxw//+h0z7/lG91m74Savmj/GH8Y86YH7Bddn6+kr1y4F5Efc33I9QVsyra19dq/Mv2h59jTbBuMV5Uc+9b1rWwiiz9rl5PpwHebue3a33KMxbuIYwljDXoU64Tyx6abO2ib2dbvhJq+aFMuIckx49rveE/W8tlv1vLY5YM2IM1D59QGqfPiBrX12r+WGexzoIbY7zYAzbr1Vco8gXbWD/zbgH27VfZ/9or1T+4JBU/uCQ9gXOgzLhHoX64v8bX7tZv0Nfo93Qfzgv1iC731ii/YS2wD0CbYQ8sLZqe/sGPQ/6VuvniHaLewnat/IHh/S6wljCGEP7oqxYp9jXAwDtivsa2g59gbFf/r2jEestjD+Mf/VfY7b3whe36LhD36ONAeqNuuTe1avHPPnBRHnyg4l6n8G9C+2KtSHukXe9V61//5//+5HOA//1fz/UdYRzbsK988TbC/QeiPPd/9vpcv9vp+u4efj9cnn4/XK57zcVct9vKuT7H0zSex4IvOORwDseefOPY+TNP47ReyiObXv7Bi0jzof7KvLA/bX3Ha/0vuPVtdBt787SsYP64Bh8Bmij7l/O1XogH6wfUVaUERx66yY9t3NtiOseYxz9ijFufx7O+0a35N7TSbGIKWuTikX5Ab9OZliM5t1jqdO4qcEJXuH9nVJ4v7XAwgMVborFx62HfSxSsEjCeeDADDc/+/5a7FdFOeB3Ymy3IWO7DeuYu3s0H+cxWICjrFiAYzGY+9U+q17meQuMoBQYllM15K15+S0HbjEdPpvmk05/L2O7DSnqC4OywD8BHiLhNA4L/4L7Oy0hxnTwlvu1Psn9Wp8udtGuOE+h39AHatzk0Cb2G5V9YazO/x4+pQttLJIhAKmzODiPM8tV1Gc5D8TDMSZePCCpw0NzDzP+b78B64IQD7xmPfHAi7GVf19XxCILv8GNGfXCwnvGGusBFsIc/PRgEY+2UceHZpvlfsVvtZfZFji//gZ9g/6ziUIoAxwolhwI7zlHe+LhCDepiicPa364hpAXzocxjWsr9yt+qyxmGXAs2lMfYMz/28cG6od92/gN+hj1Rb/h2su9u0fGnwrJ+FMh7QM8wGP8oI8mfOekLkjxP6DXJBxGmuMI37uf26Xn1rY3xz/aIuLzbQHLQaX5oOkcy7jei3oNKeq1+ryo19A5AQ9oOv7NaxNjHmX3lB+3/MWYba59jf405xOMCfsDLa5ZlAH5O6839GPu1/q0fug/57WD+RLzTVGfoeMQcxF+q34RTKEe1xvac+yZ0+rTCr4PsH8fx0Ao13nT5ggTjkTtPhRKDtqcaJr1Gv9Qu44lfcA2+1bHu6PMGIN5twUsB6a2co89c1r7GGBM5P2rNU50jkHbm2XCmIOYgt+Nf6hdzw3fEbiGIIbhfoHrIv+LlqCFttE+6QmDewtEkIJQ0GpHs0w6F5jzlbb9LcF+5N1qOf7EdYU5B20D4QftWeg3rGvFvOfjvo17Fv4PQQhjLO/ebu1TjAs8mDmvGTx0FdzfqfMz8oGfEBwDp7NoE+SR941uLZOOafM7ddbrcEhbEDS0HbGdAW2vAqR5jP3lhX2Mjn+o3Woj27yf943uiPkz/0tBfYGi9wOsPcyxjLy0f+/t1vbD3IexNWl/f7HoL//1Dxn/ULv2Ucl3T+g1hPnFKQhibkVZIUrmfq1P52693sz5C/dqnMf+0gXlx1hCmfGwjvNC2Mj/pnVvwgO7zl/m+SBu6Nr0XwM6ZnUNarY9yoYHfByD9h575nTE/RTngSCD39oFEghMqJfzmsFY1/F4a1DbXvvUbCNc5zqGHesKlHPsmdOWSGmOKVyzyAPlGnvmtLY1rm+9v5n/d66HMBYantmnx0Agw3eYV5x1sAvEuDfhWsH50DYqDt/brfdNrAESORRWEfwb3dbLD7NNnH2v15s5J+Xd263fYZ2j1x3WEea9P9qx+B/GpX0MjT1zWj/j+qh9+oD2OcYWwDE61rYaitbXdJvgnPOccwXabOIjJ3W9+uF/f2pZFv3P31XAwloE/Tft+0d13kK9AMY/2hkCLAS26U8c0XyxxtY1oQnEKaxj3c/t0nwxVnWON/sPx6Jf8Tu7QG1fA7qf26Xnxz0F13v+fV06x6CsKBPyQh/h5WDz2RYVkzEvYZ2ClyK4DtDXyGvlK+tVSHI9u1uafriTYhFT1iYVi1zP7NCLEBdF4f2WE0FczLjY9IaPm695YWFym9Jq6E0HNyEcgwkBkzYWBBMfsSZjPMirYIGbhbkYxP+Xv7xR3wI4H5SwsMINDQ4JVRj6VpfeuHRhiEWgeRPHQwTqWfRAhxUlwpzwnDc55wMjGNdh6AMSbvx4YIFzPEyuKg78W0DPpwsB2yI57xvd2mb/9Z958l//mSf593VpPXCD1+gXeNA0b6R4wMDb27xbg9pfWKjiZoO+14WC+cA0eZclmOHBAU7isFjGoh2/w9sO+yILN2s4rNM3yBDw8Lu7e3SxhZsD3oRiYYo2w3h05SzWt1DoAzzwan3MxQzAOHHlWI6YUQ9d4JvtiIWAjm0jqDchvKHAb503TIx/vBnd/cYSFducb2fRF3hzZ7c8giUU6qxv2cz64c0ejsXvl7+8URd3Tgspp1UIPi89u0nrhYdz5I/5A8fg7VHz2RbtJ6d1Hq5hlBn/xwLB/jYUAojz4cC5ACq0LWDQl/gOcxHAeZBn2WNt2iZwuqhiFBbRDuudaAteFeTMYzHmsNBZ/vJGbWss0DAvYnxgvAD7wwraE/npHIgHGHO8YPE07sH2CNENx+oDt/nQjP9jLO5/a7E+OOu1aKKm2KZTVBWnHujQ86Ft0QeYWzG2wdpX1+o4g5iAPsbbPfwWDmvRJqWPHte6Y3xjcYdrFnMGxobdCgfjD8dgXOIzxgn6puGZfWpJBEfFaAO0Ce6DaIeyx9r0YQD9gvbSB0XzPmd/EMdY1egw5nypYjpERbOe9pc0eg8y7yu4f2L+UAsI83zVTx3UeQT3SLSXM1IQHEJrtKSH2nUOxf0F82LEQ555Tyt++JReK5hLIyx2TdENAqK+WHriiL5MUvHG8RIE16z9YRr3EH3JgpcEEIPNe75ie3jDWMY1hL5xviBAXsVtIXXUivGCMuu14ujHogc61H8RHC9DkJy5KCAffWI5uP7kf/4ui17arP3Z+vpKtVpA3+LawbyMawjX+cIXt+h8Yrcubz7bouMe/8dYWHp2k45htAHmM9wPcF6nlfaRny/Utsebf3zGMbAegEXE2lfX6gMajsGbfqclAh4IYV2w983mfpajR36+UD87LTiQZ+87Xr1/ARyLMqE8yGv3G0vUSg6fnVYJTgtl3OftlqMov/2B1PXsbu0L/H/5yxu1X3QtbP4WOB+sYbmy/63FWkacF/XDXAhQB7s1PcYByoJyOC2RV76yPsLiC+fFCxXn9Y7xMv+FbTq2IF4A+71p/1uL+1ke4Tc4FvcSzP+43rA2tluKYf2B8Y9jnZZ1aNelZzepeKPiEOYgc87BfAlHyeM6YkeCi7BQNucxfQ57oEOfUezb0P7yX//Q8+NeDUutiicP670Xcyl+i/phzKFf8fv5L2yzhB3HvQnjEWPNPt/gHozrwWnV7lz/ob1Xv7pOj8G1gfGC/PE9jml4Zp/WB/2EcYhxj7xgIWy3eMP1jfsm1ltYB6KeKHv3L+fKYx+UymMflMqON5bJtteWUCxiytpEn0WEEEIIIRmE/SHxz5/9Uwr7DPUn0ljfqUIqXtzAmgGiJiJMIQrn7KYefUGE72CFiwhHiJQFKylXjhUZNFZQCUR9G0wdBxMhD/WGaIsXj+4LVlrRyMzv8AIRL/gQYQl51c23hHBnxEc4y0WULXuZ8T/kC+s1nNfp9wUOeeuv7wuX84KVKhQikhmc9UIwjNcG6iTddOzrjGY3FIYaKRTOjH3X7hLftbtG7PpAtGJEw4NoAgfJGMMa/dAcp1NbDI0Wh0ih2KqKCHXOPu/XPiNcLyfD6eA6VnRfkhj6LGLK5kSxiBBCCCEkg8g0B9fYCqmiS1V74uNMZ7l48B+qE1wVeEwXAXj4h7gCMQm/9xXui8jDe9km8V62KSKyUjyqlgWlalkwMi9TJIJQEc0iHWHaOS3XLgAAIABJREFUNTqUw3KxX36msKSfY0R40vPaBA+UwXvFZvFesVmFLmebuGqiW9H2y//ylojoge7PLxP355eJ7+ptQxacYp639Jh4S48N6lgIQEMV1XyF+8RXuC+in/D/kag3ST0Ui5iyOVEsIhFELA4IIYQQkjYMVCzCQ3q8aEawEoJwAMsbfA8rJThzj2b1A7EBn+H4HFZJ+L/n4jXWMY6HfITcxnYZWIPYy+g8LwQZWN7AOkqtbOK0jbfkiHhLjlhWJuaxk/ZZ26Ng8ZNM30CkSSQQOC1+PJPb1KolVts4iReZypk/2gh9YXcsDZ+f2DoK1xIQjWpv9Evtjf5+feu0Jpvl7pFZ7h61pMIxvmu2q8iWbHtiDHjHH9Q2QXQtZxtBSMPn+uv6+rWpZ3KbWjTFsp7BmPeN2anlx/hHWbAd1Dmm6ub7rYhepjWX1tO03BvMNY5rCe3qtG4bbnAdjFT+2QzFIqZsThSLCCEW5pvclJeDEEJITDLNsogQMnyoFZm5ZvMV7BVfwV7ddofPEK+8pcdUfHIKdfCZqnmblmEQ2OznjSXWRgPinvP/notWi+ei1ZoXyhPN6gxbUVWANbfRRm0Ts9zYCgihEKImrNv098O05c5bekw8k45QLGLK2kSxiBBCCCEkg+gnFv35034WLN4rNif9UBfP/0oyuM9fIe7zV5ybekd5keH0a+S0bLL/f6h1HSk8l6wTzyXrkvpttC1e0R7qXTk2SzHz4TzV9UxHkmmbiN84LKoyrW1hmaVjCRGcIeKYQpPdMk4tsyBGOazmnJ89l6xTyyxYYmE8YgsnfKFBVIJvKFg4eUuOqIDktExz0lTbESGCqdDkrK/tOAhLyW4rhUjnK9jb//y0LGLK4kSxiBBCCCEkg6BlESHZjQowsA4yhdB42xIhssBZPaKveS5eo7668Fv4Aos4r7ndTQWiKzZHbCN1V7aLu7I9sqzm58Z6K1I0joVVELZWKuY2P/19lPqp03HbdkHfmJ39rJJitqUphjnrYLcswnbZWHnAPYeKV5duUIFp8s6QlG4PUixiytpEsYgQQsioZiBv9glJBygWETK6gIjjK9qv4szjdzwtz585K8+fOSuP3/G0+qWatt6QaesNjQIXbetWLIu0c81A/IGlK7QsYsrmRLGIEEIIISSDoFhECHHOA9hWVbEqKBWrguocfrhEIaffn+EgVaLVcPks8kw9Ie7yNopFTFmbKBYRQgghhGQQFIsIIbHmgboFfqlbEHtbFRleaFnElM2JYhEZvTicFBJCCCGZAMUiQrITOI2HTyH49rH/pmlmhzTN7JCPPvnMmgf+8mnKyz5aoVjElM2JYhEhhIwUECTN8LZwkgi/ArUL/TJjtSEzVhv6JhARQZAHzMrhBNIetcOXv0d8+XtkTmO3zGnsts5rOnTEZ/eMk+KecVJcNafV5wG+Q0QS7/iDYcxoJ431ndJY36mOLOsW+CNM0NW5pJmnM5qK99INmg8cVM529chsV486ikTElKbaDmmq7ZDp6wypn9cn9fP6tF44FudFdBWNmmI6/pzd1CPeSzeI99INmgcW1XBuiWOQl3f8Qf175qKAzFwUiOiD6iUBqV4SkMqVQalcGVSz+fp5fZHheB1ljQbaC1FgGmd3SePsLm03hDJGOdyV7TLzpkA/tA3McYGxgDGGPOOVBc5PZ6wJg3o1zk4cFYaklkwTi7AdBnNf1bKgfjdtgyHTNhj6ufZGv9Te6JfS3SEp3R2SyhVBqVwR/j3GdYOvVxp8vTr+yzcbUr7ZkLJtISnbFpLpaw2Zvtawzrs8qNe3c36Zvs6Q6esMPS/mxNK9IalaHpSq5UE9H36DOQERntRZb/EhzR+OiXUON+ceXPfIE+WovdGv8xXmGs0LbWnO7dVLg1K9NCizvL36G8ytaCPcKzCHoy5TthoyZashU1sMPaZ8iyHlWwxtC7Srcx6dscbqJ8xPnvLj4ik/LnPmdMucOd3aNvh/g69X2wJ9j/PEGi/ov4qbg5ov5r5Z3t5+9UZ/ab3rO/U38N2jY84sB86DPsA9sn5en9Q0B6SmOWDdm817FH5bszggNYsDOhZmrDa0DzFWMT+j7BHRtqK8qMR9DCHfUWbkgTZr8PXq3x/+7Z86D3z4t39KyYGQlBwIafQw9H1Nc0CdOKP/kQfqOcvdI7PcPTLxSEgmHgnJ1I2GTN0Yvq5wDO4VqCeuKdxL4COpbEdIxS7nbzBunNcyxk2Dr1f7H2XD+dE3U1oNmdJq9WvdfL9VP/M7HIP5Bd+Pbw/J+PaQTNpngXxwHWM9gvsqxh6uy5KDIXUiPmWrIWVbAhSLmLI2USwihBBCCMkgMk0sIpkNolAl81s8UKe6zKOB9157Xz760yfy0Z8+kfdeez/ubyEW4rPzpQiAOIUXD/bvNLy9Iww9RBaIc9M2GCqK6osMU7hCVLRY5bSHpYfoBkHQ+WIMZfVesfmctru9jK4cWhYxZXeiWEQIIWR0Y1p+4bPnwlXiuXBV6stFSAxSIRY5HdHGC1cNa5pkHOI6Q3onA65RhNDG/7GFR8tsWli4ciznvLqtx3HdR5zjHEdItD98DwVnG0SrV6y64cFe80qi/2BdlVQdTcvVgUTAGgmnymRxhJWx9pFpVWYXi9Q6zrRAdvYnrMgwFnxF+zUf/Abzh3fcAfGOO2CVw7yG8X/fNdu1z3Gda/7m+Iw4n20u8l61VbxXbVXr5YjxZIpW3nEH9Dewio7ZVqi/OZ/4Cvf1mw8pFjFlczonYpFuSXAo0cNBvIubRGJfOLlyIhcGrpzFMSfYkQJbLpxmuljQYPtItGPVBNy8yeDNSaKJf6SJt1CL2TfYBpRgC0u/+id4Q9Mvf9y447Sn/tY0h471f/cFK3W7T9JljbIogdlzUm3qWDDGWugMBucDBxk5nIvNqP1hLsyGch59A+oY784HJc/UExH/G4l7VaYx2DaINu9inh6REMlxHvad4C31sLcVHk4GMG6dgiTWSfqbBP707GLRRx9/JrO8vXoP9ZQf1wc93V5jvpnH9hxsl0QIbu+ko7rFSYUeWAaYawK0H+Zt74TD1lZQgPuMeZ3joQ7bOHBeT/lxrYtuk0VbmOfDNhZsN/JOOmptYzXvfbjX43xoA912av7fl79HtyDp1ips8zTr6bwf1SwOxByzzu2scfs6Sascz+Q2bZ9Y90Z9OMbap/iQrqG0bOZ9OtZ9DdYY9v/peHEITfg/5oNo93w8NKMdnXOH55J11kO/2RbY2hWrLbBlyJWzOKJ+segXVh4P9+Y4cAqSmqcpGOqWwDnd1nZq5GH2idMyJpmXCrGEtKG8jHCfv0LPjbWvWtg4xRyzL8q2h3SbFyKlYQtWxc1BqbjZWjeX7QhvI9PtamsNtRgq3ROS0j0hS9gxnyGw/Qxb88q2hfQ86EucH/MI5gZswcccUbfAr9tHse0M1mr4DHBM/TxrbsN5MMZ0a7Y5N6C+c+Z063jEdvlYbY68kUdNs9WONYsDUr2oj2IRU9YmWhYRQpSBCkCEEELOPf0si/7jb2n/4gwPVgM5BkKWWgANQBgEdrFHBawYlkwqesCqofx4zLDeA7GmGQwQbSBYwI9NMmJ7IqJFyhqKNWW2W2LqOEyDskS0vTkunP+HQDO2y5CxXf39DEEsLdse6ici4Vj4w5q0PyST9odk5qKA/hYCk4pFpiCpW9dMwdDuIwnXEISZWOvMeNeUCuExhEO7+JxwXJqi8dRNls8s+FWK1c7OF+2uHOvFU8XNQZmx0k+xiClrE8UiQgghhJAMIto2tOGyqMU2rQinvHGY2hJ2mIyHU1gADUt98XC30Ri0aDRY1Nm86fAWZYEFlf4uQwUTdWp8OCQTD4fUGTCsL/A7PPj3c7Ztgod8CBeFfkMK/cY5e/mUjLV0IlCHKa2GiiXoa4iLibb3pQK12jRFmojvTaGrbHtIik+EgWNpWBA5j8G1DIG3qbZDnXrDwkgDV5htDwfRcB5d1GdZIUGkgsNsWAVBYMIYxHxTt8Cv303eGeoHHLHDKhCO7We7eqzzmI60VaA2+9FpPTR1oxHhZDtWO6Pt7NZPsHyctt6QqWvp4JopexPFIkIIIYSQDIIOrgkh6YIzilhjvbW9E4IrLIw06qgZYU8tkLB19IrN1rZHEwgz2P4JcQd5zPL2WlthzbJEbPV1bBMeTiGTPouYsjlRLCKEEEIIySAoFoUZin+xdLQUSVhmOnseNUAQgY8fbBeb09itPnTuufN5efCBV+TbD70qd937kwiLMOC7ZrvlPxb+yuDc2eFTK9o1hf+pY3nHljGnDyhXjuX8OppI4710Q2zfmLbtXuqU3swrXnuNiE+8JKFYxJTNiWIRIYQQQkgGQbGIkOzCGWgBAVuwvWr6WkOBw+cP//qZ5ej+k890i5dToPFcvEYdgCdyzh5NRE20zRLWPPbtcM6tmsAZmCUZIWggDEeAjIR9Nbmt3/ZHikVM2ZwoFhGSxiQbBYQQ0p+BRAokJNOgWERIlvC5peL63NJ+oepdOZZT+CmthkxpNdQxedn2kIpGH3/4D50H/vKPf6q/pZJDISk5FFIn1fXX9SXtZP5ciC2ZCqK0Of9PsYgpmxPFIkIIIYSQDIJiESHZjW4XM7ePwWqnYa4VJv6jj22WRX/9TP+fe4dfcu/wi6uqXVxV7VKzOKBiFPId0bJPOqr+hCK+ixFhMB7uGSfFPeNkUr+N9aLIuYXTe+mGCKfXCetlbp1zTzupIl/N4oBUL+qjWMSUtYliESGEEEJIBkGxiBByLuYB7xfWq+NqbI1zCj6IfoitdI0NXVI/r0/q5/VZ0eRMsQp5eccfFO/4g+rgOl4ZEB3Nl79HfPl7NE8IQ+7K9oHXa9wB/RuR/GL+Ns7WPV/hPvEW7KFYxJS1iWJRmlO3wK8TLv6HEJZQxJ37nM81+bckNmuNB+pTti0kZdsiw3iONLl39krunb361kbDeZpvaKK9GSGjF4Ru1f+d41DO6cRg3hCmI2M7DRnbaST8XSJfD4ScKygWEZJ5eC5aLZ6LVsf9DULJwy9R3m0BybstILlf7w1zd4/kfrVPcr/aJx/+/Z86D/z5n59J7dMHpPbpA/LVX9f1I++eHg17jzD0JQfC2P0MuXIs4QcRyCbvsn474WgYpyNtRDhDXuWbDSk5GIoKtsbNWG3IjNWGlguOvN2V7Zb4ZDrfRlkaG7qksaFLZqwxZMYaQ9uqqbZD12KNs7ukcXaXOgjHs1Lp7pCU7g6pwOSZekLFp0T9BufiqKfze25DY8rmRLEoTYHiPtLnSebGRUYvtTf6pfZG643PUKJN+Ar3Rf5vzE7xjdk5rGVuquuUprrkzYpHO77CfVH7how8qRb6SfrgjEiUCIpFhBCsdyCAxHp2mOXttULTYxuauUUNjq/xW6z78ALXHqoefo+cEdPwUhvHTNoXkunrDJm+zlArILxcgiURhCUIQChH7UK/vqyFk2yIQt6rtor3qq36UlePHbNTywh/TWU7wkBY0rKbeRYfD+lWOadgNuB+oFjElMWJYhEhhBBCSAZBsYiQ7AL+cLyXbRLvZZtUCML2LfvLNQgewLk9KyJvWzj6RC+j9Tw1p8VVczosYpt/D+RlnEZfs0UNc5bJe9mmpKKhuSvb+201i1YOvHxBvojghvp4L90g3ks3jEjfUSxiyuZEsYgQQgghJINIG7EoyW240cJxE5IJwDFyqsaw0/rX+4X16lw51u4AT/lx8ZQft5xM15xWJ9GIdqYWRY5rWEWe0mPiLT0m7hknNQoYoq1BpMIxsASChU71koBa/6As+A5WlBCA4MMI5fNMbouIyFZ/XZ/UX9enFkZwX4HyzPL2WtZOpsXUnMZumdPYrW2F+tjLrHVOcjtaLCgWMWVzolhECCGEEJJBpI1YRAjJCGBRBKscbNtyRg+DWATxZnZTj3jHHQg7hDaFGOSBrWXIa/paQ6avNcJbxExfQeoU2xRrICJBcIKIpKJRZbv6L4IA5Nxuh+8RKW6Wu0fFIfgVmnlTGJwXFk7wkVRxc1DzhaAVs+2Qh1nmxoauflZcFIuYsjlRLCKEEEIIySAoFhFCEjF1oyFTNxpSuSKoDqaLT4TJvd0vubf7ZWy3IWO7rQAPBaGgFISCUthnSGFf2CE2jinqNaSo15AJx0Iy4VhIt3iV7g1J6V7LP1D+F4NS1GNIUY8hk/aFfRhNPBxGrZRMp9FTWg2Z0mpI1bKgVC0LyvS1hn6H8uM3cKyNz6jTlFZDBR84uIZvJJRpytYwqGfZjpBaHeE8sdqxboFf6hb41crLfp6ZiwJSc1MfxSKmrE0UiwghhBBCMgiKRYSMDiBQwHKmsaFLrXNuaXtI7uh+TG77t2ckGHpCt3bBb0+0/NRZtOnoGhZAzu8h3sx29ah1UOWKMLD4gVUQxBSIRr6i/Za1junvCPljGxosmPA7WAm5cqxtYfitOrI2LYvUssmsg7f4kGWFZG69g9WTOvY2PyPKnCtnsfiu3ia+q7cNuE/q5/WpLynvla3iuWIzxSKmrE0Ui0hCnHuHCSEkm0j0VpGQdINiESGjAwgxEIhc5zVrxLIP//ZPnQf+8uk/pTBgSGHA0Hta/i1Byb8lKGM7Dd2WBcEHFj5Oh9cQpSCq2AUlDVVvCjIQdeBDCOe1Rx3Ddja7+DTb1SO+3N3iy92tUcpwDndlu567pjkgNc0BqZvvl7r5frUWwjHAd/U23SKH9oJwBusntF/D3D5pmNsnrpzkxSIV30xLJF/ubkuwKj0mnklHKBYxZW2iWEQIIYQQkkFQLCIku4CFDXzuTN4Vksm7QjK+PUxB0JCCYHhb14zVhsxYbciHf/3Mmgc+/izCigd4JxxWUQj+fmCtA3EFv8UWMHs0NohE5ZsNKd9sqOATqy6+MTulfl7f/2PvzYPrqq58/6ekmqIrKah0JSlDw5VkWZYH2bLlCQ/yIEu6IuCEwQaDwRNgYxsb23jAtjzI1qx7bxjCEAiBMIchTAFCCCQhgQyQoZN0CGnICPEEBOz3+tf9XrrW74+7P2vvu889kmwLZIt9qlaVju4Z9nz2/u7v+q4sA8ewj3xtJFhBCjwZ8Ki+aI0KWvMMXNnId/majJSvyVjB7dL1ysBKDlguyQHLFWgCJOOZuNBNnNPZa3UXNIvC0Z+PABYF69YqL0lL5SVh1z1YsGAfLesuxHCwYH1lASwKFqx/2YhVGRmxKiPD12Vt6CPbZegj22XMU5tkzFOb9Dxxa7sU3tgphTd2yu4Dllm0++ABGXhfkwy8z7qUFV2bkqJrU1L6YKMkbm3P2u1tkri9TUofbJTSBxsjmkVFX0xlNYeMPlFxOiWFN3RK4Q2dMqgpLYOa0upuhih12daMlG3NyNBNWRvcmFFQBl2hQc1pGdSclsTNHZK4uUM1jQqvS0nhdSnVRSrbltE0le7KWkl71vg/7xmyOWvD1tt3cw/gmoJt6ZQUp1PKtkrc3iZlDZkci6sbQDKAtLHzbdrKtmVkcEMqgEXh6LeHgkV7/rxP9r/5jtrXdnw9b4d57eXXc67b/+Y78sSXv5332pcefzly7UuPv5z32ie+/O3Ita+9/Hrea7+24+uRa+MmS5klN+e99vyTo768DbNa8167bEx0sbBszIa81zbMiiLt5598Wd5rM0tuzpvmfNeG+gj1Eeoj1Eeoj1AfoT5CfdQUzJb//s//1kXiP/7xP6E+Qv8I9dFP6mPfOwdk3zsHZM97B+Xc6+9W1zIEp8+56W7ZfeCg7D5wUP7xP/+j48DfD/wfGXlFRkZeYcWkJ15/s+w+cFD2vHdQ79nz3kHZ/vCzCsy4G8L733xH9v79YI7d8tCLMvqytIy+LK1AVvnajPzmL3tk/573ZP+e9zTND33/32T0kiyAApAzfl5KXvjZ67L3nQM59oOfvS4TLkgpWwgXtkee+aW97t2Dsvfdg/Kbv+yR8rUZFbbGDe+Wh16Uve8ckP1739dr9757UMbOTyvAgyh281e/LXvfzeZ/z3sHZc/7B2Xf2wfk85femKNjlK9/7Hv7gOx7+4AsvfQ2qZ7aLFPr2/S5F2+9U/627+8BLApHvz0ULPrHP/4h7vFg5om8g9++v74t/vH9B17Ke+2/v/Ra5Np/f+m1vNd+/4GXItfu++vbea99MPNE5FoRyXvtTWvvyHvt3FOWRK7dOSeV99qVEzdHrl05cXPea3fOSUWunXvKkrzX3rT2jrxpznd8YPXx67/mCNvVFGR9c1949JXItfv2vi8zpzRFnvvw7T/Im+ZDqo/PfzEnDGVP6wPa7hWXfTXvtYdSH1+6+TsyrbZVqatEUMh3fFT6R90n5kvdJ+Z/dPvHUVYfH/nx6gOsj2nJtlAfcvTUR+gf2SOuPv7vf/+/yLWhPuzRK/Wx573ItaF/2OODrA/0bvrtePXx8/W6qfVtsq3pkbzXLmy6VwEawJ25N96X99r3Dv6nsnl49nnnXpf32vT931Vwxg0bn++4/5GXVd8IvaOx89Oyx3GB43j2p6/JmIVZkAam1KRzOuXXv3srcu2vfv+WjL8wpQAXItrP/eh3kWv3vHsge92KrJH2e598OW+axyxM6xwed7rrb3ku77VnL7pRhq3PspO66x+Xr71LXdlKd2bt3LvulX/84x8BLApHvz0CWHQMfTw/rPqoL1ojLzz5i8i1oT7sEfqHPUJ9ZI9QH/YI9WGPUB/ZI9SHPT4MsKjuhEVSd8KibuuDiETJActl6unt8vVv/DRvmpP/cpkkP3WJJD91ieqifHnz/XmvveDMjAbGwE3l6usez3vtodRH06q7Ipos80ZsyHst9ZH8zFJJfmap1Jesk9rK7XmvffD+H0t1VZNqpyDwu/ft6GL4hWd+LcnyLVak1+Tztz/7Y+Ra6kOFcE9cLMkTF8sLT/1b5Np9e96T2srtmgbuefirL+RNs1tetcddKLXHXdjj/jGttlW27fxG3mtXz0qptkz9yVdIbeV2WbXg1rzXHm39gzZff+qV8ttX/hC51u0frrBxd+MVdVw7drs8dHf0WpFDHK9OXfqBjFf52FtHy3jVX74fSzbeLZPP7pDpNa1Svjoj5aszctYjdwewKBz9+ghuaI4FWm7WkgOWy5N3/iDUx1FSH6F/hPoI9RHqI9RHqA/XIm5o+96XHz/7a41c6i6Gu6oPgIaagtmSHL5Z7rrhO7J/93vG/p61v/1dkp9dpu8GYLpm7V2yf+/7Wftb9rr9e96TC6qapPb4eTm2sfEh2ff2AXv97vdi6+OKujb7vL/9XfbvOyD79x2QDbselpqPzZGaj82RuhENUjeiQeacdU3295j6AKCpntosVWe0Z9OwL9fuvPn5LLPZPJOye+0Xf8pN7+735JsPvSy1lds1chPhun/03d9mXXJMGezf857tHx7ApfXBs/cdkN+9+jeZOaVJWR6I9H7t1u/J/r3vqxsM9xCdqb54rSSHbZLksE2SSj8l+/c7ZWHKz+8fybKNsu3yO7LXvPWusXdk/1u2PhAbrjqjXS5ZdceH3j/yMYu66x9udKqXfvia7N/3vuaL8YoIWUTOqq3cLt98yBnb9r0fGa94bl1Fg9x503O23rA339F+BLBUPbVZ0p1POnX8vj77aB2v6j4xP9sWvGvv6nhCqqc3S/X0ZhW6rhvRIK/95k29Zt/+A7Jv/4FsfXxsjlRPbdboYzOqW+Sll36v12A//PF/SNXn2jWSGoLXjz/xc9veTbm9+vvd2Qhmpt5Ix1fufzF73f4Dsn/P+1nb+77UVTSocDfXdlz3Ldnn9o992b435+xrNapbbH2Yely28BapmbhTpta3ab9bcdY1suetdwJYFI5+eyhYdNrsdt0BIjRgzkBiOmjF8rRULE+rij7q8/oRKt8iyfItUlMwW31cCZc4tb5Npta3qTI+Bq1xzKK0qtXr4FXRIHUVDZFBjQ/0uItS6sPKb7WV26W2cnvOAIgrjTvw13xsTuR9DCqR95ndKfd/hHLM9wGMs9p/mps1M4Hyf8dvlnzXfXKBTsyICsAkQSMamEFc01q63t5vdlrYrYLmqZO+4rVSX7w2Jw3+NXHGZMJ1HaNdJD+7LGdyGVseY7frPUy+3HwkS9drfeozJ+7UgZ0ICUREoK1pCE1TR279J8s2SrJso7Y/fa/X7jVUplP/pInJH2VPORMidNI50SgLdZ9cIHWfXBBbFnzYhm3I6K6eRpwwE2R91j9fJHX/fJGti1OvtGmLeT4028HbszZmYVrGLExL5eJ0pOz5yNO3KEcN4Vrdov7gWvfeM6AJVy7O2oS5NgwqoUyJ9qHtxowftEHGkGnJNhm9JC2jl1hfdSjGTDB4P++oG9Gg74mk0dQfzyJaBvU5dkE6duw5HIPCrW3LTDJqx+3QeogTWKStE+6VULGTz7Jjj98e4tpW1ZntkTKJi2rC5JcyqzrDGSeTbXndtnybdG6n9kl26+mzsBToM5xPS7bpjh3lhJhmT8qa50Bt978Pfqjc5OANOSyMmgL7vdP6M2MvZcdYVHVmuy5G9XmmPeq5WfTxrRx3kR1bacNuWpKDN+i32BXYJkIOApt8S/z6GnV5WkZdnlYdinyuw6SFZ6K9wLexenqzugWzuPLHdJ0v8Fwzfo5dkI5MvHn+mEVpGbMoHRlPq6c2dxtdxx3r6k+9UtPupoE0k3fKgt8Zb+pL1kXGK42kY9LE91Uj9JSss/XEQta0E/LFd8jPf1zfmHRup5YvIqyaF6c9Mj6635D9b1qB6z3vH5QhmzMqMjviyoz2M9w2yPuwjVlj/Cbtoy5P69jCPZQjfZj/cz5qaVrHZa7lvfQ7RGcZl5nvuXMM7vH7mx8+u2JZWsdL0uCHAScdfDvoLyOutPnh28Q1zGsJy8114y5OaR+lnGjLpI30MMZWLk5revm+kFbupWwY11gsV16StuOWSRNpIR+kAz2YIZszeg9lgVHHaMKOUccUAAAgAElEQVQwv2XeO2VWh6aftDK2Y/zOe925DfMC2g1pJD3U45RZ9ntNFCs0deL6B+1q7Hxb57yHcYp5CmMR11V9rj3S/ihr6lzL3MxPaNsVy9PaV7iHsiE/5IV7Rl5ho3TRn7lHvz8eYNiTcO29aTOnNOmYxpya8iKf1Bvm5n/kyoyMXGnHEcZF2hrtVMt7tRWNps4pc8qKfkK9Mu9z2xttGLFqxnTSQR+oXGzHX+qYNDO+kI7Elzsk8eWOnDokTYy1/lyH/kh+i65Naf5mTtol1RMbA1gUjn57KFg0fFVKB346BztU7gTc/7AoymvuYWempsCqx6N0T4dl0cDAwWA6dn5aB3/tqObjBjikE2Oz0B+5wg5A/kRf6dVmwu3vdNUnVmt+/Ekt5wyu5KVycVon5QwuPR2sq6c3a94BbyITSLNo1YWwk2fS4g7+M6c0RYTZ6kvW6ULXX5DxEeD/fLBZQI1ZaCcWTN7Juz/xdhdUfCAZ9AFkmFQrfZ3JoJms1BevjUzY/Mk0k1vumVpvJzC0HSI0ELGB37nXXby5O6k1BXbhrgs0AxK5QCK/sWDnGUw0qFc+NOMuSkUWjX49xU2ORi1N66IA8EIXceb5uhgydVM9vTnSHn0AAbAIv3c+zEM2ZyLtHl9z6pP8KQB8QSoywfc1p1iM0W5KWm16mdgT4YL27i4k3HeMuDKj5ceEHkCBemJCzjhWdUZ7JE3aR8yCk/GGsiF9FcuiwPURTdS8hTV9eeQKO2kmP377VDOLcfLHM2dO3hVZ+PqmQNPFqQjQw4TNv4c+Szmcdr5tH+4435Ulh2/Wa6kL9Be4hvwwORx9qV0g0Tdpd5pmf8znfWUb9W8WzvQrxkDaOm1u8tkdkTTRPkkb47Julpjydsfj2HHfq5spszoUDGY89suV33WnfMDyyGSV59KGAXPoO270Fi0fZzOnpsB+72h7TLbHXZTSMcDfjNC0+uC3aZ+jLk/bsc78jwk9eaAt0PaqzmyPAGexbYrNEvN9csE3xkfGQsqK9xCVR79LDnMBUI92wuKfMkuWb7HfLQMGUTaUG4tlVwMkzvi+kQ4WP3xL3XkQ/ZfzGdUtsn+/dZHaffCAFH6pU6MNDd6RUTFcQCjmYXFRhQY3ZnQc1GhM5jfqDY0ONhxGXZ7W8YuypS3RtjUCklmgcb0L4Po6K9Qb/+f7PmRLJhoFybyXc41s5EVnGrbRPsd93pAtNjQ50Y34rhfe2KnP8SM78X++b66mC98iBaWW5BrPoDwpM/c95IOxjjbmz33KttrFMN926tGvP9qlOxfnufRZNnVp//RL2mvlYltvjNOkyY/mRX8cdbntiwAQ1Fdc/6CNVSxPRzaedPPFjC8AF4x9YxdYoIBxkDLnO8M8gt+1XS63+SCtlA3jCvWr4+XFKa0nxmPSyDW8T8cbZ27of3MZ27QPmb5Kny5rsOVHeyFyGXWu3yjzrLKtNu9+dDD6KOVL/6B9jlxh38e9lBftg3GFOXdxKq1R1Ui/33cAb0j74B0ZGbwjW+b8rePXlzql8Eudek6aNSJZgx1z6Ds8l/eRr2GPbpNhj27LGR/pM8zNKDfyR1nos9vTORHiSnZ2BrAoHP32ULBo5v86t1cWRcGCBQsWLFiwYME+OHOZRft3v5fDfMpnPhMtn7HoZhHub1DpdWYjrrfyEgeQA6R1xdRiIxFmGECrahWZjYGaAruBwuYY4CwLQ3+zModt6Fnchl9ywPLI5piy8wwLUUFgA3yyuVd1Znss61yfZcBMrKvyo859dj2gZ/LTSyy7z4ALgBuwT5TBZ9LsehLEtiNYembTMOc3U/ZuveSt1zxuaD21+qI1Cv66ddlVfeq9HtP+SM1lqAc7eq07Zn53NvN/nRvAonD02yOARcGCBQsWLFiwYMeQ5YBFe9/PASNqCqz7KqCJuvp6jFfXfJdKFvSwyFz32dpxO3qUTmV45wEO9BoD8Oi5cfeE5eK6BMct+mGQwwLjHtWoce5V13aHNZYs32LBMvNMV2YA5p6yzDzXYr3OYe4paMI7uiiDmoKshIIPIEWuAQDqAfhBffpgkbLtK7dre4BxCgNI2Y2IfntAWt73mbT773UlHMhXd4CjgkW+JEZP2lzxWssexLXX5AMgz3fH1vR1UaZxUgL1A6+K/e1Q+srhWMOsVtk5JyU756TyahYdUrl57f+jZCpPcgj3wJCtrmqSGVN2BrAoHP32CGBRsG7Np4gHCxYsWLBgwfrOXLBo7zsHZPyF3esM5rM4l86aAqv/6LMjYOQkh29WdyFcTHAfiXMBzme+ayyuHwAynJc1WO0jFv+4QvlaZOjLuFoxAAi4WJW0Zt2jSTsajq7LOGCKSh+g52JcaMgvLmAjV9hIcFzr66skbu6QxM0d6hbjaoHGlRGuuF25syuDqRuWBO5ak8/usG6sBuABEHTdBSuWWS2XxO22nnAtpE5wb+P/qrU1aqu6OOH248sO+OYytyh72gOsKl+/qejarJZM0RdTmoY4l2lAMeqvOJOS4oyRUfBYSb1huDKT1q4kCQ53HIgLDNBT88PHB+u5BWZROPrzEcCiYMGCBQsWLFiwY8h6c5F4tFlXwQXiGDV+sJUeMTo80eF85gdMOVqsqyAifll8YGkwwBLsna7e210QhkMx2FUa9CUPW051MwmUguueAdTimEU55egBkPp/w7oC5Kye3mzf0wN3z960/jwOHEsWwKJw9OcjgEXBujXEChGJ6+v0BAsWLFiwYB9lC4vEYB+Eod+EyDNRqBBXTtxhXZ2WvTJPlr0yT6Y/t1amP7dWBt7XJAPva5LEV9ol8ZV2FVsu3WUFkBEFhpEWlw4YOAScqFhmBcI12IUJtIN4NFpMdaO2agAWFUk3Ist+FEBcBPn/6CU2YpsbaatysQ3EgeA26Rp1uY00B1MLEWyehUCyuubFuIIeqoVx4OiwABaFoz8fChYl7mhSiqerBu93CMIM8gFB/I4oAQyiNQU20krRPc1SdE+zJG5rk8RtbTrQ83vi9jZJ3N4mE+amIhGI/GhlGBTn4rQV4otD9Eljvg4O3RS/foARjUpj/P6hKQ/bkNFy4uMZSVvMrljd6G3RcMdGzJCdEejBKP+fdl6npg1aroYHNh+wgR1Z45lDNmc0CgEfOyjFUHOZEBC5gHvLGjIy5qlNMuapTXpN4pZ2SdwSn1/XfDo5fsCIJmq9mg/1jBkt2t6gBXMN9HKo4kQ/GLXURnwouiaVtbubpejuZql8crNUPrlZ7+FjnjxxcUR0MmJeeHoigNWfeqVOPNitZNIC7Zo2Qft3o8chHMlkgQhLvIfdOKWmN6eV9g+9mzoe2Jm1xFfbJPHVNin8WmvWru+MhF72y5zn0w/pF5PP7pDEHa2SuKM1EoGCfg5t341Aw1jA86GcsxvnhmuvOrNdir5oQ41SL6UPNkrpg406oSKaEBM70jr8sa1a/4wRGpXC1DVtyo2uSNvSUN1mN9Z3N2AiC409cVOH9q8PcoIxdn5a6elx/YvxjUg2bgQpDenuaX74xnWjL7OTWn5jUeD3P799uloG7CTrxNfTOsHc6Gu4XNAO2dmljuhT1VVNmmc/7DFtiv/rOGOiwrm6HIXXd0rh9Z1SfG+zFN/brOM3ixXtO9fZbxRlQf+iPXAP/Y8ymTinU9/N2E77pz8wZnDP6CVp/e4wbnGv6pUY/QuXReHrx/BcXwiWOqFdVZ1hv6eUox+9i35A/6gdt0MjyXTF8qgpsAwHxsuhm2zkGhZXiVvbJXGrjX6o0Z+cyDL+d6w7I0JYXt0YU77ki4Ug38XqqiYrEGzGfeqHBShtwV0YMobzPWX818g85nfKXpkXeVyCeL66RH19p5R8fackbuqQxE0dUnSN7Yt+pNopn++QfW/baGh7/7/3ZNzTV8vQR7bL0Ee2y5inNsm4p6/OsYnPbJCJz2yQUd/cnGN8M6ueXSeDHtgpgx7Yqb+N/9ZGGf+tjTLkG9tlyDe2KyjA70X3NNt+dGeLFN7Zos8gP9XPr5Hq59dI8nurJPm9VXp94hZbb1O/c5VM/Y5lpHDNip9dICt+doHmoeieZil/bKuUP7ZVIxpVPLFFKp7YIue+uFTOfXGpTP72epn87fUy/LGtMvyxrZrmQQ/s1PLh3rKHd0jZwzv0GeSL/C7+6QK9lnLit9Oe2SCnPbNBv2H6/X5gZyRtjEGDH2qUwQ816rPOeOEKOeOFK6T4viYpvq9Jxj19tV5DfZGPwrtapPCuFi1Xnj3ogZ16j35PTRnxDNJT8/xqqXl+tVz68sVy6csXS83zq7VeSAv3UI6UCfPCkY/bsYA0zf/JIpn/k0V6DfVJ2kvu36VzT9JW9ew6qXp2nQ0t7/UPyoixueieZm0HPJfxs+T+XVJy/y5te9SrW7c6NzTXYlxHeiqf3KxlwP9oN355kpczXrhCn0M/oJ5IE23AjaLXG3OI3gSLKNcPcs5ztBtjLPPJuDWobwEsCkd/PgKzKFiwYMGCBQsW7BiywCgIdrQbQOi4p6/WxTebOwDvcffCTippSyvQAoh4+vdXyunfXynjLspqDAHeAuonbrKbYjwHQBfgmv9zD6BS0d3NuikGgM2zAPUKb+yUwhs7dXOt6Fobfh7tIzbgABEBp2BBVV5y9IFFwQ7fAlgUjv58BLAoWLBgwYIFCxbsGLJjdZGYL+KSz3asnt6c1YHpInIb5uvlINgNM5rr8rHj/Ihm+XRsYKXFaRfhbkR0r+k1rSps7V8Lmx62sYaPN8zl+lOvVCHrbsvRpDVHeNywAGEMUtaw/vLVhR/FyxeE5hkwWsfOT0fyDigEk5wodrAOp9W2KtsONy3KNbZeDVu1dnyjtgMVvTblhXA4rFRNc/FaZaa7gtLj56WUva917zHK6xOrtfyor+7qourMdmVIxTF0VXw8hoV7uLZszAZZOXGzrJy4WZaN2XBEz+rKCyNY1xbAonD050PBoql1XYfE/LAN96y435kgTJnVYUOmdiH4V1MwW904OHf9i/kf1HY+xHxQ+CiOXJmRwutSUnhdKuKyxkcAFwkmQEwyEjd16A4JdHw+frgsMFjz0XWjYzAZ4UPMPb4rWU1BvDAfrlHJTy+R5KeXqEsbrhT1JevsNbhK4EZoaMRaB8a158NuG8lPL+nz9hnMGm5EfZ2OYMGCBfuomAsW7Xv7gEw+q0MXuVNmdeicBSaDv4jFxZ5F7ohVGWVqENkLt0W+/bAkYGPkCwOPkHHcHCSfAUT4/2ceiGvgjBktCjow/wGYAWTBFbA4nZLidEqjbiWHbYrMAZl/Md/DPRnQxZVE+DCstnK7zkEBKki/usQaF0/+X77aautQFpxzLfVH/eJiXTu+UV1CcbfEzZu6py0wNx2+zs41aWMYABBu7AAkMyftUrCG98AGiisL0nXa+VZOgfQje4ErJwbjp+haK02AZhHPQ1fJd2Wj3SRu6lDGECwoZQnBSvLYSYmbO/Rv3NFGPt4gIx9v0PfwXvKHXEew/mEBLApHfz4CsyhYsGDBggUL1muGaGxfp6M/mwsW7Xn/oJRts4vbsm02FLi6/ZjFaumutJTusnp7sDMG78ioaxAAAbpVAC++2PGYhdatCMFitMkADngPIAibaO7GHgCQ5s8wRwCA2KArvLNF0+8CY1NmdSiAgAFOABKMXWBZJoALgFAAJKQZoKY4lVYABkP7TDUIDaumr9tDsGDB+s4CWBSO/nwEsChYsGDBggULFuwYsmPVDS2f1R53odQed2GPrvXd2GAFwTRCvN0NouGyx492g/EFUx0mOYwcgK6aiTulZuJOmVHdoqAX7nuUAUAZ7HNE8bGagtnWZcyIsfNcnoVbHwCwK5gPqIfIvgY0MUCemy8V7zdM/O5cnvIxlglPj4i/70YI22rU0rQyimDWcY0CoR7I6b4HVzXOARkpTwBW2FHlq+3fAKwAr7GBK8Y39nlbC9Z7FsCicPTnI4BFwYIFCxYsWLBgx5DlgEV73svR9qk7YZEu7lmks9AmKihaNRqxrXyLJMs2SrJso7p/EWURl3R0gdRt/ZRVORH7agqiEgK+DlA+uYA4l3Zc+FXnBX2Zj83RtOEy5ruY4VKmkSI/fr6mn2vRDKKM8mkWuWXq5pPyBejSiIZOGftlz7WUswI0pPnUK+3zDQBDmvX/SAiY9LjREyknypPyi9SBkW6oKZitaQWkIo24E0aiDE/cGdsmyW/e8jPP02u9vMfax8+PtouYyMf67BMX20jHpr1hAE1a5h74mPzUJTayJZFAvXbit+G6T8xXt8vu0nY0Wz49sWA9swAWhaM/HwEsChYxtJH6Oh3BggULFixYsKjlaBbtPyDTZ7ba6FMXp6R8TUbK11hhXzQWYYqgEwTwk/zsMgUMAFhYJAOuoEEDcyU55GrLcDEMHsSbEZjWENTGVCdx0i7NC4AP54ArpI331hTYBS0MFYAQriHtsGcUiJrQqGmCteILMlN+btphmVCO6P3AYoHVQxnlE9JWoMSUFWnDJU+Bn9L1mi/0lBQEMywerlVwwmFkqRC0yVft2O05BpikroCDN+h7YOkAMPngDtaVjpOKbjtgVJz5ouZd2aHoX/ltSssLoBCNUVNWtEdAs9rj5ykYpKCpBxblKxvabCQdnoB4b1tvClzHibgH694CWBSO/nwEsChYsGDBggULFuwYshxm0d731a0I81keyp7pYuHtM3xgsbBohu3iujF1ZyzCu7omzg0NAKirIAqkCTAlLi81BbOt25QBCpQp4jGA9Bl5Fv+YD3AdjuUDiyhrjQhHABdYQ6ZOcpg5Hz8/h4EDIAIgCOAEG4pIYXUjGhQM88EUnqWaTKbspsyyLl0Ac+hR8SzuUaBqfKPmgzx3FxgD97Hqqc0azY0yAZCkjjHAxamnW9ALFhdpAmxU1pA5xy2u6sx2TSvt3HfvA1wEKJw4pzMCCkUYdocBeB3yOHCE7qg+6ypYzy2AReHoz0cAi4L12HoSxjZYsGDBggUL9sFaf9IsCpa1uk8usECWATkAYPyodgAYVZ9rV6ADcKPqjHapOqNdGVIIiMMaVxe3xGoFdGCVKYvM/B/9oWnJNpmWbMvR8gGkUlaVYekAzKgr5LBNCg7B0Bq5IiMjV8RHQ4PxNLW+TZlSgF+khWth/sBum15j30N0X9IEwEOZIaI+dkHWKhfbv9EoUndMXNkMoEYZTZzTqaLoMM94PwCT1psBunqrzYRx4OiwABaFoz8fASwKFjE+zJwTQpUPaF+nL1iwYMGCBfsoW84i8a13pe4T8y3Q4DNPujAW0XWfmK8LWb71RAkjZLneYyKQJcu36DUAEhgLe56JQDMAhitM7FucdlDFchsFjYW6L3KszzCaRbBNKi9JR1zsWeD7othudDau4R5AGpgivJ/85cuP6v/EMKiURTO9OfIbTBxAD9zfqN+xC9IKDgFQwMQhX+SbtPPs5KeXRNLEOSAVEeL43RW49l3JYNz47cU1hMj9tPgG+6mmYHaE7eSnFZAIseoJF6RUlNqvA/LD7whTk1/3HsAhIuHxf+qaNlg9tVnrYOimjAzdlFFha0Cxoi+mpOiLKQWnPpBx4AjBIh+EC9ZzC2BROPrzEcCiYBHzJz1EfiAEbl+nrysbtj4jw9YfHWmMm+D0lfXEHcA3VysiWLCPrCGsewTPOJSIT8e6sYjq63T4diwIuOLO0lVbqR94lezf/Z4uEncfOCiDmtMKDsyobtFFOd8hmB2+ewyh5qfPbFUgh3Hfj5Dlp+O08zqVqQGLBFADJgVGdKiyhoyUNeSySuLYFqQVl6/k4A2xfVFdh3BdM3lRMenPLFVQwdfUwQ0NEEzL+ZRVsQLJPdF27K7P+66C9adeqZpSRD1Da6p0Z65RrpWL0zrvqViWlopladWrwgC0sGEbMjJsQ1bPimt4D4AZm4RcC2hWts3WG+0NkIG5ItHXlP10ZruCh0Qp47lxZVOcSUlxJiUT50TZP4B5MKkApwCLBjWnZXBjRgY3ZmT0krSMXmJZQsxjBzWlZVCTBY2wkjabd6zompQUXZPSNBFRDRBp+LqMglvUD88HPOK9ALpj5/cOYBSYRX1vo765WSoeuzqAReHot0cAi4IFCxYsWLBgwY4hO9YXiYMbLVDgb0Sx+AccANBy7x+5MiMjV1pgAsYIi/ayrRkp22oFvsdfmNKF/OAdWQMM4JljFqZlzMK0ghOjL00rMOALhfP8vNHdiJRmgCvABtIIqAGQQB5Grszou9VtyrCOYMAAtlAmg3dkFIADzJgwN2vqCmXYWKRZ2eMfm6PglAqdE3nuKGgjwbq3Y30c6C8WmEXh6M9HAIuCRSzx1TZJfNVSUZnYQLPt6/QFCxYsWLBgH2VzF4nv/vc7cunLF8vZP7xczv7h5bL4pwtk7S/myNpfzJEbXp0mN7w6TS740aVywY8ulXNfXCrnvrhUdv36DNn16zNk2SvzZNkr82TQAzsl8eUOSXy5Q9kYgBvzf7JI5v9kkQx9ZLsMfWS7nP79lXL691fKrBdW6D0rfz5XVv58rgIxMF+KU2kpTlmgB3ZX6S77v6WvXCRLX7HRpaqeXSdVz66TxO1tkri9TYrubpaiuw1TyujiJG5pl8Qt7erug8YNbJ7Cr7VK4ddapfr5NVL9/Bo544UrZNij22TYo9tk8EONMvihRilpTUtJq+PaRth4w2Qa1JSWkvasAU6N/9ZGGf+tjTLy8QYZ+XiDgjik8eHXR8mmfztbNv3b2fLw66Pk4ddHycZfniMbf3mOpH9bI+nf1miZT/3OVTL1O1fJ6p+fJ6t/fp5MfGaDTH9urUx/bq3+79KXL5ZLX75Y76EuKp/cLJVPbs6Wg6mDgfc1ycD7mrQ8yx/bKuWPbZVHXh8pj7w+Uma9sEJmvbBCzn/pMjn/pctk+GNb5Qs/WCZf+MEyGfPUJhnz1CYpe3iHlD28Q59Z+mCjlD7YqGkvaYtnxCAa3dd946NkDbNaZeeclOyck5KGWT2LLhdn9O++ztOxaAEsCkd/PgJYFCxiyQHLJTlgeZ+nI1iwYMGCBQsWNRcs2vvuQRmzMJ3jZqVuWMb9WMPFE5LduKfpPcM2WS0iQoQb0ETD0BsXGpg/ycEbVB8HtyzOiSwGiwV3J41IVr4lNm+1/zRXav9prrqLuaHuuQbRYdLmAxW+u11ywHItE19s2HfV02eM22HDpyMObZg3ysQxLCJElvNGSDNufKQVcWXKnjKZOaUpEgEO8WjSni/kvO/yTnQw/u+7X/LMmoLZKmzNvE/d9mIi39UXrbHv9qKwYZRNvrrVSGYmqltcG8DtLXni4m7DzyvIZ/I1+awOLT/yrtHlTL4AHfmdiG41ExojbrSca18hMh1lduJiG5XNMM2oL5hhvuvj0WjdRajrz9adlpS2D+d/6LVNmJuS8ed1BLAoHP32CGBRsB4b/ul9nY5gwYIFCxbso2w+WDR2vgWL6hOrFVRAiJlzFr6AHOjYzJy8S0EMFsMspAEwEI0GLKqraFBRYxbsqntkQAbuPRzNQ8ApfX/RmsPWnar7xHwtAxbwpBGQwRfLdgEP8u7+NnPyLgVXAIuSpesj79ayN+HcAUw0FLzRl3LBItVpMvUEoKQAk5u3GDAFoXA/JLoLXNA+FACh7gkt7+W7q9DqvgZTPlMGmAfmRZ5lQJ2aglxwq8v2YgDKabWtFtgx4E0E9DL5A7SiTmort0fyTFpo69yDaHZOGozOF2AUIAOgXF+PG12aaWN9no4+MATO437Pp0FKe5jy+Q6ZPKstgEXh6LdHAIuCRQxhRf//UNP7On3BggULFizYR9nyaZUAgtSffEXk+p5ERwNUIOIW7B20b9DJITz4yJUZFRJGd6ekLS0lbVbo11/oIyQ8fl40uhrnaPnwHoCmIZutUDBizogMw4pAdwixZZ5RujMjpbvSUrorLQM7soYLGawnXOgQJx53UUr/V3RtSoquTanrGs/Czc59JvlgLgXbinJEoJk0Ir5M5KyRK6wGE+9HO4n3UkdjFqVVVJy6IM9+JDff3HKiXAEMYV8hQ8D/XXYF0gQAeGhAUTfuuxS8MQDgoJa0DGqJn0/qs4vWqAaTf40voo47YU3BbC1rBLsBOKlz2g339nV/PhoMzau+TsexaMENLRz9+QhgUbCIsfPDeXcU4MOxY2KXpZ+av2vWlcWJXdYnVusuHv/LR48P1o19bI5doOWZYNcUfPBRtA6nL3YX9rgr89tN5PdPL1F2Av/LRwE/UkOodnCjXaB1dw8LDhXR3ZbpMmR2TcFsfTbRgHpr59bfKQ/Wu6YsgjwCxr6pO4pxRTmU98DGOFQ3FRcs2rf/gEyrbdU2Vl+0xrr5GBcowBTSCoMFhsz4eSnrVmF22Vmwx4lJJ8u3WLclk37AIZgavksS/cUN0c1zOWchz/8BSEYvSSuQA2gDODWoOWuAKxj3lrSmNQIXQs+FN3ZK4Y2dukiueGKLVDyxRQqvS0nhdVlgqPDOFim8s0W1HBM3d2Tt1vasGW2fwus7pfD6TindmbGR3wzAQ1oAlkgzABO6S0XXpmzkrXTWAFU0Twa8SdzUIYmbOmTU5VYMG2YUYBvfFB8QyceI0fbotWGAGmVOOb/xPj9yGkAWLLbpM1tVrBwAjTKOa988Y/hVVoic9ulHaeUbBvt99BLbHtBxQv/KrxvSQz6HbbCR0agfypHxn2eQh8LrUvr8wi915pjfTmByxbnp9aWRr75Ox7FoASwKR38+AlgULGIaKcOcxzGNggULFixYsGAfvuWARW8fkEnnduqCFwbI1NPb9XsOAMv/YbvgelI9tVndpHB98jV9uIdnJodtsu5YBoTiN56lC3xP98jNC2AH5+gs6b24b01tVrBZtXaMixBglbq/GVO3p8rtmg9ADIB4TF3KzIK+enpzRLOI9+LiRZrrTlgkdScskplTmtQFCfcy8uy7KPlAWt2IBgu2Oe14d3MAACAASURBVGHnq85s13xQJqpJVbpewRMAQspP84PekgGC0Gc57bxOZTn5BriojCC0mZw8kx8YPZF8m99dEDROH8o31w0NoIqNLgVnTT5hNnXlBkedcu67wbkAmmpmmfLTa8zGKeVMeqbPbD0soLg37PyTL5O5pyyRuacskfNP7toFsDvztZqC9dwCWBSO/nwEsChYxNhx55xdKujKfZ2+YMGCBQsW7KNsLli0+38fkMRtlvVSdG1KWREwKGC+wISAsQJLaMhmG4IdVx3cmmC+wI5QFsWNlkHBvIF5Au+HvaPh3Q27pvCGTs0L13IO2KAsG3NP+Vrr5qZpMQybxB2tWTNpK763WYrvbZaSr++Ukq/vlEEtaWXrwCRSpo+JeAZ7SNk8DzUqo6fwhk4pvKFT31d0T7MU3dOsTCeeXXL/Ln134V0tUnhXiwx/bKsMN5HJyh/bqhHHeIaW1Zc6lU1FGnDnIx3KaqFct2VkyJasAZjBquEZMGVwt6OMRn1zs0Z3I42Ul5920jxks50DwtpKfKU9a6YOaGvUX9E1KS0TNS9Knm+U97CNlv1DPmjTcfeOWZS2eaV9+Mww034o12HrszZ6SVpd7tA1wqWNNuyyUgc3ZqSkPa0umjCJqDfq1mcOusxZ3wAC6Vu0V/qly7L1QePY8nRYXLCtNKIe9WeMyHjKyrq1XevLZSKOn5dSxhhumsrOu77Tjh+mzVL3Nc+vlprnV2u/o50qG6wzrfVEfyftsLx8Zu3oJWmtQ61rU8cwgWFe0ndcRmB37dHvd4lb2zW6YuL2Njn1tpYAFoWj3x4BLAoWsd1vniS73zxJz+f9eLHM+/FiWffL2bLul32fvmDBggULdvSav/gP1vvmLhL/8//tkcffKJcn3xguT74xXH72p1Plp39KyE//lJBf/flf5Vd//ld5+o2h8vQbQ+WPfx0gf/zrAPn9X7LGda/+5ST50Z8K5Ud/KpTf/Plk+c2fT9Zrf/anU+VnfzpV/vzXAfLnvw6QX/z5FPnFn0+R3/z5ZHn8jXJ5/I1y/R9h2nk+5wt/slAW/mShPPeHwfLcHwbL42+Ua164Fzcf3kuaG399pjT++kz59h/K5NW/nCSv/uUkTeOLfyyWF/9YrPnkvTyD63/0p0K54dVpcsOr06TlN6dLy29O17R894+D5Lt/HKSh7nmW+zfXfPsPZfLtP5RpvkgHZf/0G0Plzb8OkDedcvPLiDLnWeTBzQ/3cA3P55xnvf6XAZH62vvmSbL3zZO0vl7/S9befetf5d23/lXz6ebZzztt4abfTZWbfjc1p93ATnv/rVPk/bdO0d/IN8/4z78Vyn/+rVDefetf5eBbCTn4VkLLBAMQoS0AHNz3H2Pkvv8YI/+ze5DOSf/rb8XyX38rlrffPFnefvNkPSd/lBnt5uk3hmoZ0A547wt/HCgv/HGg1iv29BtD9fk8957fj5N7fj9Obnttktz22iS9l3r86Z8SkXbAPZzT1kjX5G/Hu2JjMPkUBDbg4uKfLtA+ceD/7tdx4N3/flfTdu6LS+XcF5cqcHLaMxvkuldnyHWvzpBrfjtTrvntTGn41Rek4VdfkF2/PkN2/foMrXP6R/q3NZL+bY08/cZQrVPKhHZK3fBefv/9XwZoW6VsKQPKkT7EdW6/IK2UI2m95XdTcozydMuW53Ev+cJuf+00uf210+S21yZpeyBNcXVBf6Mctv3q87Ly53Nl5c/nSuIr7XLqLa0BLApHvz0CWBQsYn60EfQK2IHs6/QFCxYsWLBgH2XLEbje817WBcu4I9X+01x77cfmSM3H5qgbDm5ORNvivHZ8Y7eRxlS/xghfJ4dt0ufgNtVdlCus/tQr9W/0oThHxw13KUSrawqsu5dGdSMUurkHNzgV+zauQlNmdVhXLsSTTT78tPGMrqK/dqXb5msC5XO9c01d5ibvstHJ0JbCfc/oB5J23NGSJy62elHmvbhLwaRQt0FPH2vGDOuGGCeGfST6dPnKBKDJdz30DTaI68ZHWmlzvg4SQVjGXZzS56tguBEBhzUEEIMLnfs+0ghbCNdHLXNTfqSr6nPtEZF2+hXuih+UTmc+oftgH74FN7Rw9OcjgEXBIuZOzGoKrCBldx/3YMGCBQsWLNgHb+4ice/fD8qoy9PqKjFsY0bdYBCCxv0MVw1cy3AlGrIlo+CM6gF5GjCR8OqOBgwLeRbwRPjinOsQr3YFronExTkC1BiuRCVtaXW5AhhgQa8hyg0AhPYO7x+11EYQw3WMZ8RFiqs9fp6CM+qaBJiDgHieuoEhBSCBW526U5k8UPa4N5VtdaLJOfUyZIt1wYJ5Q8Sz5GeXaRoBRAD1AMwU5DNgIEBG4qYOFfAu/Fpr1oybDW5ouCaRrsrFti4RQgc8ATDxI+e6Ec1wI8I9La59uy501BdC3b6WFvnCfWvi7E7d5NR2bvoD7+WZlC/tqHy1bXeIidNuKE9+p78NX5dRcW3ANdrfxNlZ8wFR9Jh6cxwIYFHfWQCLwtGfj0MGiw41YkdNgY0UEvc7A39fd/Zgpj5idpK6Erpm4sQHk8kSk6TeSBcih11d44ZO7U1jdwgRQ3ZPmRBoORgRyJqPnx+JKgfYxs5o3LvqRjR8IPUKCMhkvSf3+BP9rsyPUHIsme//HrcI6I/Wm330w7KuFmqH/KzBGz5YPTbD7Mj3G8KzfV2evW3dMVTy1oMjaPtB2QdVzzAdDqU+/UiTPbmX78+EuSnZ+84BXSTuef9gNtqW0TYp3WUXx2i3KNhgdEH4nvO9r6toUAYFIADfcwSmNdqUAZXK19qIZXwr+G3yWR0y+awO1ZcZ+sh2GfrIdgWrXJayz/ABrILtoZo7qzO66PYFrnkvvwMcsMAfd7HVnOG5MG4oA/QZYS0Vp9KqT6Mh1w1ThXMMoGTyWRacAYBgw00j7Jk0A5yQ1mnJNp07uRHgRi+xQAV1wPd81OVWd0q/8QYoIe3UDRFLiVo2tb5Nn0/f4JzvOc8i32Pn23ojrb7WFfmmXMddnFLQhLpEKyiureOeNuJK23b9uoANRdr5vXSnjcxG3jX95py0j1mUljGLLIA4dFNGgU50qIq+aMwATeSFOV352oyCpSqObdZKKvjuiUfXVfTOPK83waK4iKz92Rh3u4vOR7tBx6qmwAq8Tz67Qyad1RbAonD02yMwi4JFbFqyLWfXL1iwYMGCBQt29FgkGto5nQo6jJ1vgQEWq0SqYqGrIIpZNI+4MqOgBoAEjBUWwrBreE/NhEZlqfCbbyyy1F3MpGNarRX4xV0qks+JO6Vm4k5dlE2rbVVXIOYp/uYW4DdAAhtIyWGblCmFSC9lwDkuazwrWbZR0xtXD35Y+qrPtWu5adQzUwca/cyUp4ajN+D39JrWHIBl3MWpSNkjLEy9TUu2KTBHXSjrypQ94A2bXDBy8uUHYDAuvxPm2rwS0YwyIHIb7Yf0TD3dhrunzLtjqrtsHtobdckzcAMDiHEj7wHYkSY29ig/AFFAPupmyqwOBd38dknZ8H6X3QbQwnMViDTtUZlvveyOlllys9y09g65ae0dklly8xE9izbV12PbsWiBWRSO/nwEsChYxPxwocGCBQsWLFiwo8dywKL9B2Tq6e26eD7tvE5ltqrblAkzzv9hdLNoH7sgrQtpGDC4USnrC/DGMJySgzcoc5xrWbjDtoqwNj+7TJKfXZbDsojTDtJ7cH0bvtlq+XgAgTI7zIIeEEDZPGUbrdYMcxyTH+7131ufWK36P3FpI38wSupGNGgaAWU4J5/+//V9xWsjYAJMBtIMAKWaUyMaFEyDJQHIAaBG3Wh5mrbQk3aGFpTm12EP8xzV5zFpJW16z9jt2jYBUbp7L+00eeJirQPAPGVwe+ngHYSznz6z1T6He0ydz5jRIjNmtETSkyxdr4AdfUfLwqSD/PKs6TMtg41+pTpSgI20taNg7Igzyqyv03EsWgCLwtGfjwAWBYsY9F3O+TAGzaJgwYIFCxas7y1Hs+idAzL+wpQU3d2ctWtS6m5GSGhchWBA8LurkQODgzDYLB4BDGCHAHqUr8noc3FHg52EG5zvGk56XJd2wCfO0ZFhzsGCfuz8tLqKKcvEsGrID27WsEMAi0ZdnlZgCQDBB8VwY+Le5KeXqGsf2k8wXmCu4E6lLkmrrRtT7XEXSu1xF2q+YBwBLPA+0jz5rA7V6tHQ60YXB50cyhkbuSIT0TVK3N4midvb1H0eV0QYP+6GoF/2CvwYV1Jc3FwmDteSVkKkA4ioK5vDxKHtAPyR1u7aeXLwBmXnUG+wgHAdoowAyepGNGhERvSuAEK1PI17JG522vY223D3GPXFNdxDpLGB7bY/+fWD7hHtB/aO64J6tBjsp75Ox7FoASwKR38+AlgULGL+rpA/6err9AULFixYsGAfZcvRKtn9ntQPvMq64VRuj2hBqtaPYX/4QEZNwWx1XQM8YXHus4NcNzRckHy3NgAJ7gUQ4bwrV3fSwVwEkGP6zFbVACO6FtfG6WThelVfsk7LQBk3hl3CM3BVAoCaWt+mbBKYSrh0+Xp+/ryppsCygihPWEMwi/g/QFNt5XZNA2nkNxbygDawXmqPuzDWVQ6wCNaT/t9Jh0ZKM8wb2gWgEW6L3NtVVDf3Gv86Pxpad7pz6gJZ0HM9M8oKVzS3zWp7MKCVAk+4aZo6mV5jmTW4Lar2lNHFUuDLySdMN36jXwAq9jRKYLBj0wJYFI7+fASwKFjElNZtzomwwYStr9MXLFiwYMGCfZQtxw3tnQNy2nmdUnhD1kpa08p4IZqVRkozAtP5oqPBOlIhaBNxC6YIC1/0dHLYFgYM4jfYLL5bO4to1w3NFx6HdcJGFeBNbeV2ZY+wcIfpg4Ax92Jo/YxaatMP0AMjxge6ABCqPmfLDUFw3q+MJi+y2qCmtCRuaZfELe2aL4TDS9rTUtJuI3DBkiIPYxeklclEeTL/AlgCqAMYqZ7aHAGyqD/yC9MJ9yrYQpPOcULGm99gzaggtUkrTJySdguQUX6UNW2Ja2EAVSy3jJvytVlL3NouiVvjWSzke+wCy2qijikbIrcR8Yw6GrHKRj0jyhssKGVDGcYP7ZQyGbkyo/mC3UU5Ah7BaiONQ7ZkJPHlDkl82TLDaJ+UI9ciqH00BpUgv32djmPRAlgUjv58BLAoWMSg6/Z1OoIFCxYs2LFn/TXK29FkLli0++ABKbyxUxei4+c5kbgMiIG7Ga5PmBvRigUtIBGLf0APQAEW1lNPb1ewAfCCSFUAPSzKXaZITcHsHLDIdwUC4AH8YuE/c9IuBQ5YjJM2AAPeP/yqrPH+MQvT6mLP/7iXtDL3ARQozthw8wglcw3voa3Dfpkyy7KAAKEoT94DYKKugQYsKmmzkdMAnMgH7yXNAE1TT2+3AI8BsriW52PUG+6KFcusWx9AAe0EwISy572jLo9GywJM4b2kGSZX1efaFYyiTVEHce1bNbeK1qg7G2wqyhf2kB9xbPyFKWWN0c4VuDPgJSBOTlS5y7OgFm2MsgGc0nMDWtF3ytdmtH0AIvJ8bdueZlHdP1/U52NIxI4BXaWj1QJYFI7+fASwKFjE4ii/QfwuWLBgwYIF63vLcUPbf0BmVLdYF58hV9sFNqLDxlVJxZaNWDCL2wkXpNQdC2AHFhBsFv6vEZ8m77LRyIxINAABOjOAVgAZXD9z0i7NCwt7zlUc27j0wJypOrNd0+ILB3Mt+fajpk2f2Rpx7eKchT6ue5qH6c3W5YhobsZdiWsBLFR42xGApuxVmNno9fiuX1xXdaYF01SYGaFkRLFxF0NIPI/ANWkC6CJtvJ88jV2QVrc32g5sIM4pR97hgnwRYXBPPNp1fwOA433daWAy36w/aYXNu0kD53UnLMqaaS+0k0nndlphc6PJRJmTL9o69ag2tdnOdU1+uFYZbqb86A/VVU0WsDK/8TyehctaT13qDmscePOdI3oWae/rse1YtAAWhaM/HwEsChYxX+uA8K7svPR1+oIFCxYsWLCPsuVzQ2MhXF3VpKAK+jTKxjAgAwtvwJtk+RbL1jGuPJxr6HU/AlmedClwYfRyYAkhbA0AlaOD40W38hfriDuPXJHRdwMW+SHmFYABoDFMkqoz29XNjrkM7CBcrXDdw+V+5iQLhsH4gZ2EqxX5gbVTN2qrzpkASGCmAMSQB9+lbcrnOyKucuQPBhdAHfU5Y0aLgiQY4BNtANCG9MB4mlrfZkWNTflR9rwPRg7AjKvTRFkDaPF/8pnTLkwUPPLuzzN9A4ipL1qjwCPlqtd9/Hyp+fj56uYH06dysdWUUpDPaDDhQkY5Un8AhuMuTqmeEuAJ7CTaC2WjAvAVVvuJ9q4gqWEYqSsb0QDz6Ckd6ThwpGBRYBYdvgWwKBz9+QhgUbCIqXilOefjCn24r9MXLFiwYMGCfZQtJxra3w9KxTILxEw6p1Pdz2CbsMBVxgWLd7Morxu9Td3MAInQusFVB0BB9VjmdKprDu/GvYjFMa5xhdd3SuH1nfqOiuWOOLQBIjgHHICFAjAzdJN1EQKUAhTwo64BJABKTLggpe/GDQx3KdyKAJFgqoydb9MIsAMIoG5ohr0DSJCjRWMW37yHKHKANQBQgHOuHg8gA5o6/B+wymXIUD9aT+b9Chga4I604i42c9IuZQFRT4A5uMbxftqRG8VO68+IV/O+fFG1qAfaCe0zrn3z/p70BUAd6nHMQht1jGsAyqgTAEHAOOp31FL7TsBRwC90owCeACyV1Ta+Udun7+JI+ea0z14eB44ULIoTiQ/WvQWwKBz9+TgqwCIdxI+CDn8sGbtHvf1c35cc+qzu4B0FeQ/Wu8bk3P8/C4oP6r3sevd1/oMFCxasL41FO7os3V2fAxa9c0AmzE0psyRHiNkAEwAkLHgBiQCRJp1jgQkX0KlYbrV8fB2Ywus7VQAaYIkFO2wg/g+QoGLIG5w5hscs0hD2ZoHNnGTcRSkVSiZtPggFyEK+AZHGXWwFkmESAfBQbvyujJERDQp6le5KS+mutApak28ANN476RwLWPE/gAkVYDZAAoLX/L9iuQ3TDigF2wnhZMK58+y6EQ2qi8McDSM/vJ+8ABhOuMBqW6mYuHk/5Ylmkcs8imuT1DHufe5vuJ1R9vmucS1fNDRAKa7xgTu3jmCykS9ARfJDqHtAONhdlYstoMMGaeKOVknc0SqFX+qUwi9ZsWpXmBxmEvksaU1LSWta70E3imf3lmZRrzKLfLfCYD22ABaFoz8fRwVYFOzoMn9Hh52syM5IsGDBggULFuxDN3eRuOe9g1mGD24yi61QMuAKi3+AF9g6gDqlu6zLEWAJC1+NYHVzhyRuthHASnda1y0EkVl8w1CBaaGaRYZhUtJq5xI8l3PSOOiBnTLogZ0a0WroJguCATogbM1inHQQKYv5S9E1KQVniBAHKAXooJHizAI/cYt1XdMIaia/xemUFKdTKl4Ne2jGjBa9h7kUaQKcIu0aPcykvThjRanJF6AGzwA0IvpWccoCWABzXItINs8CDFTApMneW3hnixTe2RKpe95H+0mWrtd6csPNT6+xboMwbqirqae3K2gDiEMdxLVv0lN4faeWNUCZtulvbJch39guIx9vkJGPN8jwx7bK8Me2SvG9zVJ4V4sU3tUi47+1UcZ/a6OUP7ZVyh/bqmVCGRTf1yTF9zVJyf27pOT+Xdl0fbVNEl9t0+cDDFKORBJEFDxxc4e2GfJHVDuuLbo2a+Svt/Q/exMswpWyr8e2Y9ECWBSO/nwEsChYxBBH5JxJg0/rDRYsWLBgwYJ9+JYDFr1/UMq25oZgh0UCc0ijoxkQCfYJm0Bj59t7ADsAM2Cb4ELEPa7mDexUfgMYATyCnQFo4DJwuIZz2E/qDmdAjsrF1r2IfCE+zDzFDy2voNl668IFwONHVnMjYg3bmJHCGzotCGZYOr4bFeWq2kJOGilPmD3kC/cmn+kz+Ww7z6JMXHHvqjPbFcwhHVM+b3/jWthUlIH/DECXiuVpBa4ACv2IatSnthNHswgAjTJwGVIVy235nnZep7pp8RzqNK59k4ep9W1ap6QNIFJFzE0b4H1uu6fscWmEHUe71baAVtR8e48fUZD+4OtKjb/QgoakW13icO8zTCmN8uZqLx2BfW3H1+XBzBPyYOYJ+dqOrx/Rs+j3fT22HYsWwKJw9OcjgEXBIsZOE+eEUmW3pa/TFyxYsGDBjl7LJ3AbrHcth1HwX3+XmudXK0sicUerDHt0mwx7dJskbm2XxK3tMu7pq2Xc01crY6P0wUYpfbBRBj+UtYontihDo/jeZim+t1mmP7dWpj+3VoruaZaie5r1nlHf3CyjvrlZCm/otIwNwxThvbCBkt9bJcnvrZJlr8yTZa/M03nEwPusuDHsD84TN3VI4qYOfW/lk5ul8snNMuzRbZYBYq4hrYnb2yRxe5umEYNhMuiBnTL52+tl8rfXy5inNsmYpzbpb7wHJgnA1gU/ujTyfBhLidvaJHFbm6YdBknhnS05zKTELe32ueacsiE9PGvwQ41S8vWdWTP55H3UG3XM+waa8+L7mrRMeAZ1w70wxCibknbrxofBiIFNo+2IOrnGbhjyXOp+6neukqnfuUoZPjp3/HKHFN7QKYU3dMppz2yQ057ZoM+Na9+nf3+lnP79lVJ8X5PWj5aJeRagFKwu2FaVT27WeiONQx/ZLkMf2W7TbOqTdEx8ZoNMfGaDDLyvSev0Cz9YJl/4wTLND/1D283dzVJ0d7OUPbzDPtew5Hg//Yt6BEw6GoPFDLyvKadfBuu5BbAoHP35CGBRsIhBO/b/z25UX6cvWLBgwYIdvZZP4DZY71o+NzTcqkZfmlZmBS5BLKxh2vgMo7EL0vrtL/piSoq+aN22MNggLMoHdqYVWFGQwSw4cSXj/yzAOXd1EWFbcA5DhbSxsOedAzsdLR+0Z4xuDywd2iDuU8XplII0gDnMaXBzQvMGts3wddZ1DHc98g5QANtEXb1WZyT5qUsk+alLlOlCnpV1YtKqwJMBYgY12/LkPQAxPAN3JlwOFUy60epHqVudYVIpU8YwYWBOlW21bomUjbpW8X6THmXXOFpTMJaIhka9UZ5EYas7YZGyccgH9RLXvqmbyWd1qMskGooIhVOOsKLUNS+TUtCGcnJd/VxT0JHzW+24pcLqBmiibSswBMi3w7oUwkTzn695MBqtvRUNrTeNOurrdByLFsCicPTnI4BFwSLGLh7ntd+9Umq/e6XuMvZ1+oIFCxYs2NFrLBr7Oh392VywaPf/OSCFX2tVJknxfU3KLgH4UZaJYWWgBwTLJPHVNv3Ww4QBQIBZwcIX4Gf8tzbKyp/PlZU/n6ssjBU/u0BW/OwCfRasEBbL/H/qd2xwDlgtnMM+4f3zf7JI5v9kkVzwo0tl1gsrZNYLKzRNvBegAGY0oApgy8RnNui9C3+yUBb+ZKHUPL9aap5frawrwADeV3hDpzJPeA/POPuHl8vZP7xc3wuDavy3NkZANZhYMItgqDDX4t6Jz2xQ1hP1xXsX/3SBLP7pAvteA4Ykvtyh1yrzxYBhAFoAWSrYbO6FqVNy/y5NI/dUPbtOqp5dJ2e8cIWc8cIVtjxvs+xyABjCxqtOjwFTAItmzGjROobB47PJfKMuBjWlNX8AoLjT0ZYpV8pmzktLtJ6UlWT6A/nid9orbeHcF5cqyEYfmfPSEpnz0hKpfn5NjpGXxK3tei1p5fkX/OhSueBHl2pd495X0nb0bbyWPbxDyh4++kCsY8ECWBSO/nwoWDT+/A4NjVl7/DypPX5e3ghlROrQaBGfXCB1n1yQt/PUF6+V+uK16p+Nzy7+xYQ2JSrCjBktkagY3Vly2CYV2dP3nnplj/2BIxEZvGgA5C85YLkkByyX2uPn2feYcKQ9TWvtcRdq+fG8SH4+s1SSn1lqzz91if3dlFdcnWiaPzHf/m1C0rITw8db02TqhvPx81K6e8OuUVx+8oXZpP54BvpH/rW0tfHzUhqmNq7u/XvrKho0QhsRLKg3fPS5p7s89LidmZ0zonJo+Zn8+fU2c0qUyttde0H4s+rMdn2eXz/km2e57h78puXkRQ5hlxP//2TpekmWrpfqqc2RPkQfZVeVZ6MRUDtuh44BsWVmyop6nXROp97TVdSUmgKrWcHucPnajJY14xMaBH5/17Kr3B4JyRwxbwyiDqqrmrTPHGnbcfthpJ9P3Kn916/ruPJ0r+PvnkZGzDfmxEak+9gcqfnYHG1j1VVOm/bGyeSJiyV54uK876QuabN+n2Snle/FtGSb9mvCY/vR+vy2Rxtw24GKqxqmgd6LGCt1M3qbCrPS3v1riDykocnNdT2JHOPXfX2xA7j75dhFZFAYIvoc2qf3DFgatZXbs31gdLyrB31T7zHfh/ritToux/WDuDqvq2iI/I8Fkh9dkbZfPb1ZkmUbJVkWv3j0y1PnF+Nt3hkjCG3tM1ZyIix574uMFaZNuNcxplJulA1tTPujSVtX+eAe6lV39U195ggJm7pw789xQ9v3fjaf5t7acTts+r1xmLLRCFPm3G1D9FX97tFHzXfbHTtg0VB+WgaMK1458q3JeU5MyG7ah46Rldv1u8XzNR+fmC91n5ivYyvv0eudby/5o1z1XvOd08hm53ba8jNloZqO5tuBFg9tob5ojX5PtBy9+R79gPFNn/1PcyPzOcY1vcdcy7icPHGxbZefXpI1U9aUK+/XejTpqq3cLtXTm6V6enPsN4Sy0bQ7c1Lajq9zSTrc+SbjBe8+lHm63x4i44g3t6o/ZZXNO+3OlBH5pJ1oGzd1X3v8PAW/tO5hNPGdMf1by710fXTubsqc/s2zDiffH5bRl/s6HX1pjHHMOfy5cZwFsCgc/flQsKhm9Fb70TMDYb7JDh2o9rgLs+YtcNwPmw64ZgDSCb9ZhOhi1kwmaibutucbqQAAIABJREFUjExASZOfDvcjhWAdvzHRj52g8lF3QC/9zXxIlD7LJIKB/pRV9gPvLc5jB2Dz0Zhe06qTORakCqqY8uSD44o16ofYlBELdj5ClLO+c0Kj/qaLLiZM3sSfxTgfzK4WFl2Zn379QHe3WO/C9F4mz87HWCdFZvJDXegEqocLj5z3eZMizdvx87TNuv9zgUN/IlBfvFbL1G93se2ED7XzHto5k1raNmWjbXBCY6Tv+AslNS8v02pbFXhByDRuIaj94/h5dgIVE+rZX/jWF62xZQzwSfQUD9jS9uqMQ0z+aLOMPQpIsngAUCtZpwtm8uyDK/zOOOCCRexe+pMI/71dtXF/4eKPk4fTL+JA455YcsDyyIRQyy0GwNbvggvYmvEFIIj24j87+alL7PPpD177o53kAJ8sNmIANP1GeZP3fGVOm1bQqgehyXl/d+WZs+A9AnDRX2iwSZHzHaLPM1Z7fSZSXyxUu5j8a/nl+e4xximYb/qkAkqmP1K/CtSftEK/STrhZqHG+0ibeWZyyNWx+em27IZcnQNy1Revtd9ZsxDW6/mGnmHFcclHd4vmCRek7ILSlDGm3ztTVjxL5zwTGiPzBgWcaMvmvbgKueAsbZZ2Ma22VfbtP2DBot1/P6SNq67KMjnkah2ne/L91rZj5gBx4LMK+8YAQ12my5Rdd/222+fwnQaAMmO65tcDZPONAQp69GAc0TLqAXh4RBbzTfA3Bw+rzI4hAEHnoc58P/Zabw7XlfEt4XvU1eaIjkU93MAJdnQZ3/G4uVucBbAoHP35ULAoeWp0ouEunJn8sCvMB98Hapj8zZzSpGANC14WpMrGgIUCo2TiTrvD2c0uu9uBea52djMhVQaT36mdnVcmIUxu/Yk2+cV3PnniYo1WEfd8JowRVsi/XBZhEfgL+nwLfCZflCOLHl3Yex/zulFb7cfNWyxzrb8YcoEnfTcgXtwA6exo85HmN12Um8mYr2Hh7tD3dBBnkVRftMYuUtkx8xg/bpkrYNFdfmKs9vh5ei9t129z/B+gYUZ1iwUCvQWFsrxM3Sj4wXXOjjITDn+ySXulfGdOaYp81HTH2JwDHGpEEQOGVJ3ZbifA5j2UL22dXXC994x2LXN0GGiP7Kqim8CYMPX0dl0I0Z/8KDH0Nzc6zOSzO6Ru1FbtbzwP4Iw003cYk+pGb1M2Fe2f/NBeeQ9p1gVNFxN7XQCbhRSLzq7akF83kUVsgbOjZX6L9CnTXnyWTU3B7Mg4TD4ijKbS9XZMMP/TMf0IwA4FnT1gvqZgdnQhE9MPGTOmJdu6naD5TAvdHXbBMFPnlGccczH52WXapmAM+YtGH+DKaQ956jLv+GXGqqn1bbZeAEvNYjXC3ABIKFqjbAfaPfWowBrAp/mdvByONkZy+GYdYwCBFGwz337daDH1C9jnAgUu26K+aI2OZ/Q7nnXaeZ09BviVYWHM3ezR75jDhnNBFxZyteMbI2UdaWMA9V20Rf2eMn56gHWXQDLgm6k37Ydm/uKy4fJZb4bMDhYs2LFpr738uuz769uy769vy2svv97n6ekv5rPlurMAFoWjPx8KFtWVrotMDl3xOf6n52Zig7Acwnr87k7ClKZsdsXUtWR1RspX54ZL1cmxt2uDTzJ+1SyOXIov97AAHrU0LaOWWj9tJo4I57nhT/G9BjxS1kAeNzt/kjl0U0aGbsrI0lcukqWvXGSjjhjRQZ7lLpb5H+8nUgiLPPXXbrHhXMknC2wWvv5k1hWiRJiSa5mgXvfqDLnu1RlWyNFEk3DBIia8CBFS5/jhE9q1OGPDhrLg8xevmEaEMHlwJ/oACJzjO4//e0lrWkpas22MBZGCHWaxyDOoTxYjs15YoYKYhO7lPYTNZfFDlBF+H7zDhj9FJBRdBPKt0U+MPkLd6G0qFqoAiGn3pIl7i65JSdE1KV0MugKS/qKVegK0ob2OnZ9WsAlBR/z7uZcyUVcFBzSgj9AeqHP6DP8HABrUYtsY7Y86QeCRxRYLw2EbMlZA1egI+GKefiheyrN8TSbibkMaEbkEgERvYNij21SvA3FS2jQCnABd7hg0o7olCxiYfNHG6JvcQ5lQDiNXZDT0LGCiv2jkWvpHV5MRREh5JpFsECR1AQq/v6HlQJ3QbolM4wrFUjbaPpj8mO+Ba7QtQFgASOoRPQjqcfSladUqQVCX5yMmC0hAH5uWbIto3vjjMEAI/RANjspL0hZUMf2ZPsM3zK/z8fNsX+e99Cv6KOMLbZl6nDLLhuZGE4O+xPhIW1Aws7pFhYj9UNB8T6lr3jtlVocyb2gPABP6fjM+KtPOfKcmndOpUYnID99AH3hkXB62PqObPYyb9DM0Tuij3IteyYS5KW1v6JwAaFEW9F3EiSuWpTV/1Ck6K4zpfA8YQ1Qj5sKU9nPaJ32TMgF0ZhMocastazRFyCdaKnwnaNuDt2f0+XyfqUedB5ly5TtHWme9sELHfRX/NfVEfvk+6Pf18QZNP7+hSZP4Srvs/t8Os+itdw+bwUt/qTthkda/sqxgU3rA9Qdt6v5jdvfzuTwDRMYxgnvj/Ydzbz5Zhu6YpC7LzN8wVEYarCjfpb94rWVYe2zmnlh3detvOuUzf/OsN6w7N/eagtmR/HbF+NFrzBw43zyopmB27uaKKXvGY75RPgvSdX+kDzF+0M8Z8wDMR14R1XTz88OmCOO2vn9Eg77HB435ljCvPVzGZk4bOUJ2mrZVr+3qJk+eTSa/z/SU4ZNTnvQd6tz7fVqyTTc7aMN8t1k7MX9h3qDM0E9domPQuItSMvbCjgAWhaPfHkHgOljEfB2ZrnSpDtf4kH2Y+QJM+DDeNfTqTGSSwILCjwLCYohFbcVyG30GYIBrWMxSR8qEqGhQFg0LNRaifv5ZNAOmVixPq3DpyBVZ0IOFH6KNTFZ4x9CrMxFRUhaXpIlnuawrFrY8h8kCgAwTLJ4B6DHyioxqegBQADYzgeJ3/j9yRcYu/s1Em/Jksc/7yB+LweHrMlKcSktxKq3PY1HFAg4wR8GbqTYyDs9X4MAstMkXbWDcRSmdrALIUEY+uMeCV0U+P9euExt/4U5dAGQDSldeEm0Xypo0kyCAZUzBgisyOnECHAUYBKBjUk3aRy+xZUufB/zm/bRXgK0pn+/Q8qJdsBGgi2bzO/WngNoa2054rg8i+oxQF0yjT/iMUr9/a7/75AJlsfhaTNQBz6Q/jLrcAn/UD/cwRtDGSXvZ1oyCa7oR0JrOMdoa/YHz0UuiwLgPEgGSUg5Dtti+Qx8kbdxDeWq7NPU8YlVG65iFC32FNk7/J08Vy9KWLWbauw/u++xmnjXiStuvAG8oa3VFR/vKgN/jLkrZdm8WeYy5ADykmXyNnZ/WeqFsAbs4ZwHHhgNlWL7aAu8ASQo8GVBMx3rT7yad26ljjrq5OQt3d5G4992DMnpJWvM7cXZnJLIR4762XTR9YHeXbdSxhfGEsqZ/+WzSiXNs+HLy7vch2gfjKPVasTz+++9rFTFmjVxpxzrGBoDpOL0v8lexPG3HS8Bs0x/8TQrGy3EX2XGR9ulfo/plXcwHfGYw/YJnUe6jllpwlLZGGrmGPFC+E+am9JvB81ho+/0csJR31BetsSx3XPg9vUTqk/yj+VVTYBfjqt1DpK888hGqe2jqrbv5WE/AInU7MxupjGPV05sjc0yudb8zUz7fod8Dvi0Vy6Ltkk0CxjXSxv+TA5brOEE0OeqLPsl8iTrpDtTqqQWGYe+aOzcbd1Eq8o2Os8AsCkd/PgJYFKxb4yPam7tHh7NLcKTWUx2SXjGHAeOLcPtgHJModZmY0KiTVyai7GD4ul/uThpMAyZqTJx4j+7EGpaLMkYm7dIJP4sBJjpM7NXtw7xvyuc79J645/s7djUFjithjIZDjjvRgOW6SKkbvS3C6FNXPG9h4ebL1cGpKZitixzKRhdMZtJL3Uw93QJXvtgxiyLEclmU1X1ygb2fSaSpW/5POfKMnMWN2eFSRoi3CFF9F8edkYl3RGvD5EcFfZ1dVN8dK86NigWHug+Pb9TnsYBQQWgm9h6w5Qra6m6954bmaxa5mi8Rd2RHwLd23A6rIWGeMXF2pzJZte7N+3yQLKfN4T7ttZfYsaQHOh4+jV3bwJCrtR9HxgLEej03u0nnduo4Qp5pdyy6/DZAnbj5icuf6uqZe047r1P7E8Ccz3jQPoSuHyK9rrhxTBuj/yvbMo87mAIl3rjta424bFjfPTeiNWfc0JJDro7Uj4LdfOfQUXR2krmf/NCmNGiA6d+Mn5SZm3f6DmXNtZpfFtzHXRjVcnO0rbpbJB6KJgumbcjTCeyKGeOnMY5VTNtWd8YuXAAjY5HTniLMmm4CR6jm1pCrddylH5AWPTdpZ6E4+axocAzV5TTjMGOw6kPmAax8kX110zfP6kpbiPGa+lSRZ1jwY7dbMWePWeNroekzcHmuatK0+d85fYbHyshhcXkuxgAyvcFmyWnLPdRe0v7viIzHXQtIxDyFcq1cbOc0yjBlPmQAXXUZxRPCEbkHRAdYAsCD/dhbZYIFsKh3zZ27JMs29jhITgCLwtGfDwWLZkzbpYMnE5ycD4RZAOrEP0Yrxv1I+NE39LlehA3VMCrbGGGx5FtwulY3oiGih6PRRczuZYRm6mgK+ff6OyIsCjTyyvHz7G5GDwWusfqiNVZnIi7yF+JqLBpGNOjCQiPQOZOf5JCro7Tl8i0RwEDPvYmcLxbsCtz6O71dRerJWaBP2qW7Xz5goWl02415vp+PiPaNcw+THd1xNXVO+wRs8dtKbwFUkQh0njZFvjYbJ3jIAkMBhs8stTtlpr6YsCnIgN6F6TvjLrJRdHzxVX0/bZjJkSPYTNnrggXxakRsPbCq9vh5VhTU9Fm/76qOB23aGQtUWNQXfjZlRH2qxtDx8+xuqVmoAVxovzD38Hs+7TPVrzFtmTGPfLmaSf7kWSfkZgJJ34nTLqspcKIzefl0ozL5E2HKLeIeYCbmboSW2Ehmecae+qI12UWOB3Soy5zJV+wzXNdiM37p+IHrk9fGa8ft0IWYtkl/PPbcGLvqb/4uP/nKF+WKtqbtwYxR9FV3jIijqfvfAU2zI9isVHdAvEMQvu2puRGPIpGxPEBEdYLyLPBpqxEtK08vSL91x8+z7AHvvdqv/fHrXy5TgEcjD6GrxLfe+3bNqG45bCHdfGAifdVPswqzz7CRFhkXfVaEgt6mH1ZPb7bfQtP+Afj9sScnwhgBJ0xatD8wDnsC15Sjr0tWU2BZvuMvTMnedw4cU4vEwwk64bfx3mJjBAt2LBibdbAc2ewaO98yH91xYM97B1UGA3AK6Y7ijGX9KQvUsEUBynkvayfYV2XbMsoMhNnqM798JlX56owyj1XLzVtDME7qRooTSEhBWfM/wFjGR9hxsPSS5VuiGwvoPJpx2Z+rVVfZzUbyyvjMfMQf05m7uuuPcRenZOy84IYWjv57KFg05QxLqWTBlBMKE+0E06HiGAJ08Lp/vkgX+X5UGn9nmd3pqjPbIwBMnMiYdlZn0caEwqe5+pMUXRRNaLSRjYjuBphD1BN2Itlhc8LJdrdz4VvdCYvsYhjAx0sbAxN1UXVmu34gWOzouZlo+y4o7i4XNHjfhYc6AcxR7Z98AJapUxULzpM3H6BgxzVOT0CpuAOWa/35tHkFFwHOzES5/qQVWl++XziTdtX8cHbaYoHHHkSX8iNFxe3Q015yRN+JFOUBq5EFGtFw5qcjiw3Kwg+vTDsatTRtdbzMc9wFdE2BdUOjbnjW6EvtrjYTARWRJkqYL3B/yqrIZMFfcPNM6reuwgquk0YFb0z5qtiro5s2ZHNG6kZv03bPjh0THnf8cN0STjs/pXlk95nJEu0GMAqWFP8fPy+lrCbKGqq/ugMYxgV0d3cho9GsTLukj7IAJ60uoKtgqRdqmnLWHWxEvysaLLXej+poFsu+K8GopdYFib6pi1fPHYGyYUE8ZlFaJ2Pkh11UHwTgHRPndKp7JaCU/83wI83UVdhxCVcP1egi0h1C7KbN0zbqS9bp3+pSZdoQk1jGQFyWagpmRwAXrnG/hbXjdiigoZppZ7Trd8AHuyIAianPmVOaLFhixnRliJmyoE3x7JFXWFdU9PsYj2kPlJ/vJlM7vjHibgno7LqdDdliXcpGLU3rd5J2g8sVroj8nwUHbhaVi+27ofCrC5LZmSe/uGKNXGEXQgoMmPFSQ8x7LEDGtymzOnTcYMyhjzKeUQf02WEbrIYW45OK75t2r3VsFiPF6ZSWrfucYRusmynlqXpj5nzsgnTE1ZH30C5xnaO/uN9CxgTSNHZBWva+e/DQwKIuRNr9eZ4C/d2IgPc305DyvRBFLKdcj6GIYsE+HHMZX5HfDKjCd52xCRfjykvs348/8XP57vdele/8+Hfyje/8Uv8PSITEwJTP2+AmfDsYe3yWuK+RNHpJOqLbqfMUJ9DA9JmtOW7XrD/8zWq+M8zddN5l5qjunJPx1/+OM34zT6v6XLvOG1yX6BGrrH4g72GjY8gWqx/JN4M5ozuHmTinU9+nG4zTm/U7NnhHRkq3pQJYFI5+e1iB688steHonag0kYHMo2b77gJMysZfaPVIWCAx2aXzqSuBs4hnQshk1qfWszjWxcEpqyxwFEPhxzTaFDvz5VssGGQm9gwQmEb54Z6yjXbyatLGgMHkj0ksE1f9AJSut4ABIIBZLMSFrXZF1OI+LD7dvP6kFfEAiHmvlq+nW5DDcPAozBiDq8tS6o4KjkXcBAq6Z49pvogKV9EQAV6OxNixJx1+tD53RyI2HL3/zE8usEwYs9hWlg6MHnawTTvS91duj4QZ99kKyuzL027iovFpW+vBDi9tmH6gLALE5Adepb/R/lnY6sLeo8TXnbBIJxRxLBJ1acHtzUlrhA4f088V2HWjSvUwXLMyWJxxK445ldOvSZcZH5VRYdLSU/emnH4dF40DdsOwTdp/I25ohFf3o3oVOOOgGfMi5erl0x1/NE3dLDy1HA07sm5Eg2XGGMaG75rkRrBSlw60ZjztjQjwCtPO08noieUThI1zo9CoZQ57J58+h1tW2v9Nm3D1MeKiuvUk3fQl7St8o2D1mDHZ/XZoxDKPAeazkJKDN9iNH9qQ903RDRXv++P3+boTFkWer0w3Z4fW32jg28wCgmcoQ8zMV6o+Z8tRI8XF1AnjV90nF0SAEGUaedFUc1jApt37LDm/rjXQgxO10x9bGS9ZDPlCwq64fr4IgsH9JFiwYMF613xGd9zazLfghhaO/nwoWFQzeqtlJphdW5cR4tP7QKZVXNDzR8/bCc2kkt05diIReHQnblAoFQDyaPNMdsddFGW6qKuOWWiAiOvC29zbVQQIdS1gJzuPu0ec7krE0CIZeFWOKKG7c8jOq05MnchPcQtdwCidUFJ211pWhAIfZkGBEGfpg41S+mCjjUBkJsYuuBUXJcMXfZ3zUs91gNywwN2FBvbtSIW2/WhMlPXghxpl8EONsvYXc2TtL+ZoNByi/gx+qFGK722W4nubrdidF5nLD3teUzA7Ap746WGHhoWORiLbYqO4qWuH6X9+GbiAnfYVs+jwWXoRoIuQ11OaVJAYYVafluy7a467yDIatL2YBRKgKTtMLIbqE6sjzAxfpJr/wx7qqb+4mz/GF9fVxF/Q0v984CxfqGvqAraHsgnMbhUsgpErMgqSkA/uYQdt6CPbZegj23MYD5G8eG2rJ+ONvxNOW+9KZyzCbDsEFgFjD+2PRTKRnWgDXT1DtXZ64B7qs+RUFLwn4C0gRwyA7kdh6cp8UDwneqQZTzS6YZxG0meX6digGiKAJ2hveXWRw4z1+jX9Xll6eUBABWXMjnVXId1rCrK6DZoWXLri6smUaz6tGmWTed8wACjKwa1DgDqihmmkPa8NMFZ15T4Y56ZZPb1Zd51VFNjkV92e8wB3EXZtN6xUdrIB2OsHXhWJxumD6gqkd/Hc+sRq2b/77wEsChbsKLG4DSFfaJv52cgrbHTWxK3tkri1XQrvapHCu1p0XhQXCKY74e+jznrAajzqLGYeFlv/ASwKRz8+FCyqXGAFHVlguYt5nYAagzKtNGtcocwzxs9LRSZWfiQGwuqqq0lFg9XrYHFnnqe7buZcQ4i74IYBRgg9y+JKKf3sFEKxdsKUAlhBJ2exqq5mvHddRqMd+OKW/gJUmRzov5yyShdITKJJE6GfOQdUmTGjxUZt8SaVLNYVDDP/L/piStPop42IL/g1+9R7tzxZ7PuDIpNdFfR7dJuWm79I9BcQgFUus4R7I+6CUOLNYoioP9NrWpWxwfO1rXmTd6WOJttyKK4uzZUwyErbva1NEre1aZtI3N6mbQoXEB884f2APckhVyuYgPsGi0jalOs6U1+yTkGH8tUZu5iizXpuK0xMXFdIaLQsSgA1SKOG3DYLN8puzEInwpJpHyyk1EWQ6GUGRK1Ylo64T9EeuJY+pNpljm4HfRLwTaNvmbbOvS5o5WvqADz5LmwK1CxJRxaYmEbZ8haTLjjM/ygDgCv6DOcKCDmLYsqAMmFsIrIU+a1PrLZsKtgxsMvIl+ce5uYjjtHnu5C5v6kLMToCplxphypqns91woyDjNm0R9op4ePpd7WV27VOuZZ2R5hx1YIy7WTi7M4I2xBauZ9PBUjM2NhVCG2fnacbHT0Ai5SlY8qIPJ12fkpdqxi/AMzom77rqOsO4OcDxopfbzk7nXxPnE2P2uMu1PYIOKuujsddqP3IF3GmTvQ9BnSsHbfDAkymXWoZUF/eeO0+SwWzGedhw5n5gz9WuCxDxh7cBLU9mnbKuEwbdDd1mBeo+6BpR9QB/XDinM5I5ELyxfeITSf3G0baStrSUtJmRaqJnEi9KnhqIqtNOscGKdBxGnaaPwYBUk1ojPRvvnuTzumUfW8fW5pFwYIF69qCu+LRY6rV183GChbAonD050PBomFrUzm6FqOW5gIQTLKYtOMmwOQIcAKtgpK2tJRtzUjZ1kxO5IXqqiZdULNjyKSw6ox2naDxXnaweR879Lwvh+2ApoMBXlhcsdjTSZqZFE46p9OG9n10mwx7dJs+lzQxUWThP/C+JvnCD5bJF36wTPPB5JJ7AdJga3DdxNmdCggw6SRNRfc0S9E9NjoOk9+hm+xkWcEnM3nXELRoq5hyGLI5o2XPIkS1KAhp/Ow6qXp2nU7WAS7cBZrvxuSHvMbyhY1V6mYMOu/qLOnC2ZsY6yLaLCIpTxd8UvF0fyHtsLnqB14lYxZZlgVlooCF0c1gN8dP67iLU1r/XKsuH2annnO3jNDyYMFAu/R1NfwFW02Bw0oy12rkDrMwBARxARQWUZQJO/M8E2BX2U9m4V+xLB0Bin0tKPo9945cYfs16ddQ3aZcfTfM2vGN+j/6Cu3SB5joQ269quuOp13Cubp+mf6RuL1Nn++3D8pCI9WZ/yvz7XQbrp3FpGr9mPKlz9AmSndmIhoA3EvaAQ4ph/qTVuhYwP8A+ejXjBmMfcoOqWiwLiwe64O0+azDuk8uyNEnS5ZviWjCENrbFzdPfnqJju+Mj5QRdQ5Lj7Sfdn4qIrLPuOKHpNX+WdVko0t5dQzgyoLaFUieUd2SBcF66HJ4SGZ2RqlHQOMhmzNZMPn2NgUvCr/UKYVf6lQQiX5JmVUsS0cYhIBr2mfYJHHEv0mLjl/mHkBw1c4yY5GKjp98hY5FGmEPMXxvjEcrzA0p7UeH4V7GcMpE9fBOWKQACNdoe8fFy4xv3DP5rA5lTdIuKD/6FEDJmKc2yZinNum4Wjt2u85D9H8e80yF+02bH3exDW9fnMka3x/GaW3DaCkV2KhW6IAwXvH95lrqgI2I0ZelI+xeBeRjWLYTLrDsNMqG+ptwwbEncB3so2O9HQ3tWLQ49yXmD4V3tehYBtOfbwlzUY2G28NAFsGO3JhjM+/x54hxFsCicPTnI0ezqCcdSRfw6KV4ujZ5PxJehJLIoIr2QQ90ayL3Ek66Cyp6T/Kjz4vR6clrPRBG/iAtLhR83YgGW0/d7FSw2OS8qyg+vtvRoVhcxKic6DoxLIl87g9cq+2QdgBLwouc1aPy9MrKdXHRdmLqXF30EJr22n2OxlQP24kbbr2n5QoAW3Wm1dWKe68uwGEIduGLrZGdzCQlIvj58fN7vAum7KjS9VYzBJ0mdJvQszGLImW/4ApzyipdbGkZI+J8CGKkkchjnt7L4bhHHo5ppI/PLI20rbh7fNHzQ3GfcqNYRtISE6UPgIQFq+uWeFh5JuoIroUx1PTkp5dENGe0XRANzRu3AQPcbxPpZsKtzCYDLMEsml5jwyezgIcxomwyA3oABvTWYshv012Wn5m8Rlzv/GhoRPfKo03mb8YoC9Y80+0fhxvVzdWW0iib3UQOpQ3mbYfdWFfu5P43S3eJu+hnXelGcb8fsVDbZ0/mD6a+/DYciTbXhUtoffFa2b/7vQAWBQsWLNgHaF1pqjKnKN2ZkUE7gsB1OPrvoWDRzP91bpcdRheNMcKRPTEWLCxw/bCzFcvTkQUskzA/FLqbDp/BAJDATiuuEZoWRywyFrEnTHUXQJSKenshcHXnvptQ1IdsPQQd3AUCix7dHTZAATuiWq+4/TmLDl9wk4UTu9QATRPmWldCGBUwRxJfaZfEV9qVtu/urlcsy7Is2En2FzLswHItO81jF9ioVYTm5L24A/BeWBrTaq0ODjvJLPhgtRTe2ZI14yqEm0zRNSllC5BPXE1oW+hv4cZVutPujMPUI5+0d9KDGyEslEFNNiKDzxqDMQYbi12P0l1pZRrAdGPhy72wdXwWw+gllulAvmDi0Aaoc/JfO25HToTA+lNWWXcVA4RQR9wzZqGN2EYaYD8RvQ7mCmwJlxmjmkGmXfhMN5hO5Gv4VVZXCMCA8vM1AWAHaWQpR0vIZyWpe4zcra59AAAgAElEQVRpe5R3vr7I+ylf2HH8v66iQRfoLM4BOcg7DDTeS9mNutyyOnw9LsYk2h5pLbo2FWFE0cYADDSSlKkT1wWM32jbPIN+B4vGjd5CnyDvpAXXTvqbG8WLtuPrQ1GOPGPQAztl0AM7lelTdG1Kn4vuXfF9TVJ8X5Oe089peyNXOswv0/61nZgy8BljPKN0l80f7YD2QtnTpgFDBm/PaH8CnCQ/tEvq2o0KqGVg+hNp03Zo+jdjL/VadHezamVNf26tTH9urZY54xplwzsqL7FtiXEZNiNpZ7zinPFyyGabL8Z9xr7SXekco92Wr7YsWD+aKeMzZUOZkP9xF6e0vZBW2qw/vtBeh15t00K7pF+QJpjKpGvsAsus5Fre43+jOOcZw9Zn9LtDfriX/u4zTKfMsuwm8qyR565Lye6DgVkULNixZl3puh6OvfT4y/LvL70m//7Sa/LS4y8f0r3M1Xx3feZLcVIUR4Mxjz6UYDeMo5xPr2nV8Ri2K3MAWMzqckzwBI+NiwVmUTj686FgUbJ4je6WAQK4oBDsACaiPi0aAWAmkJPP7rBuX4Qj9RBaJnhMkspXZxQsAkjiN4AKaORKDXRcnACQVCfBgEIapt3cq0yHAct1QqpRuojiA2hlnsGCvjiTUqo74BcLdyZyADQsQHAXqy9eq4soBmed3JqyIm3qHuaE/8YdhcUCCyff1WvEKgvksMjxd22Vlm92lnXnN99OP8wv6JkeA6j+lFVWI+L/Z+/Mw+wsqvx/GsRxxmVGR51h1KxkD9kXQvakFxYBkQQIAbKYhRgCCYSEhOx7ehvEBcFlEGRQGFREVEQBo6AgIoIIKO7+BhFX0HF0kPf3x63Pqeq6fbs7odPB5Pt5nnqSvve+71tvradOnTonDKS8T+6gGGG6RZQmjkRk7YMyoo21puHPd2dJbiESFGzTJm6LR1rCs5k4ckVkPqkPWdpcFkLb21woE/fdkhwjdEu6kAcWmihMPDJREuWtdui60vHI8O7cg/rMj+eQj+ELmsqi/fmRk/Ab94sS3oFnjJgfw6GSf+qYfsgRIY9AdOJutyyifbrvIhQY+bGYERvjEZfwHHfEHvLOc10QSCIR8X+sMVg8Up609TRCI4tf+iR5YuxhMUfbYlwZuiSOS/RvxjzeAUsP7jV4RXJsNSgOCDPuSr7wPPrBcUcu9c+oWxaxvG+uNOX3o86NSrU8YiK+W1DA0C/HzooLa5RtLI55d46h5T5whixr9ryw4CYv9HeUtLStmtGbXNiivlAAUTaMo4yT0yZu888oR9oL5UubYr7xcWXYeq9/FLgcjUNpw5jrPovaiD7GvfKFPO8wbmZUIKN0cKVtUN74ceXQFrt9eFf0bRbeAwE1f18UiSPnRUf4vLPPWZkDap6fRjREocSYQPtgTmEM9vb05gt8Y8GjlIU5g7bk1nFhrkz9xvnxbu7PXBLGLeqRvlQzepPPtdQPShTej+czzqQ+hRjTKD/6OXVC/+a9R85r8vaGQilX8vE8nnPs2xtiKGmUXJnCjDbuIZVDuxyyLPrpQ3FFouy9T4XxpmdjnCuYv/lNt6vqi6f+8NJQFlUKhJEnb6dYZ+2FZWQLf40vwlmu+0HMrLI9ymEbTv7Los5mlvK0sX0JwpFa8e2rRV911Ys7/uVRFMNc4lFiM2vcfbH+6+pU94/zOxT1tdUyTKNThiPfPo92JHJvGMeQmdzqPbQ9V0JP2l62GZ2Xde4vJ/X/SN5aREV86ncx+mhIyMLH9VgR239m0dpeu0k38PfGkrtiew8b6x6BMtu0n37s1vIIqGGeYd4jH5RRzehN5X20A0E7eHeexxyIvJVH52ztHlOqdxaTp2+XskgctLRQFpWFok4mZDe3ZqIPQm4eEjdNbnGDz4tk0ZgOuC2OCuXheduxzjnuyKUV/eIwmLZ2DZMxi8gWk0ziRDr/u8X99yLMcT54VToChLWGR7Tqt9qFo0rvUxbqkTC/VTOioiws7MvC8wYhiYVwC6fmbbx7dVW58JTmP/eVkh+dSK1AWGTkR+K4B4tYV2QE/yl1r1/kAjiTDgK++3poZRKsVI5ttR9v76EtoyChz7ijXRQ1by9XbuWTX54oo7RN5ZZ8+TGpVEHqyiIc4GZCJ1YzeYSw8W+r9/uWOcANeWJyd+fmx++OfaeSFR7R1sI9plTv9Hpn8YNCLq+nvB3VDlvfIux17avmVLRy5N61R69rd2FBWSFYeRn2XbVX0cHaTflRoeR4XUeFL97b/fO8bmGL8Ogtjj7mZcLv3nJhm8ct2+oH6SKBdpJaOQ07L1qk+SK398qyBS/CNO2P+zMOjJvREJUlFXbx8shw9MPaV55b5vDZLdA4Dh3mLJRFtcM3lM0z9AfuwXvxO1faDr4sHqEKecot0ZgzUYCm31GX7my8jV3SXKlc9hv6IUdx2fhoY46iLHgHD0s/dF3Zgrqtub66KlqiTpm+Mz47O+bpUUYzxX31uC17faybPLdYUITFFAv5vC5QoE2dtsPHr7LIc2Ec8zk4tM9Jx+/2/ObHnBnbvV0wj3Mc/A2LfdPFld7hOX6PoJj3SJDJDnje3uvesLh45r+TaGj//dtSxDXq6LCZZZEz8wWiB/oI79+Wc/hK49jepH09ZpiOly0sn8Oc0VE5LHVQz7v7Qp52yuYZi+rBl3nZu0Ny8sJGVKi/jviVKXNmHua01lw0VOpvrTrczfoOdU/7a08J0VbK54sWbhuy8uqo4rAj48k+tRPmuV4Xt+gL1YfN9PfI26G3ifAuaXRKH/ez92tNrizrb1m50cZak5tfTGqhLJKF4YtOrowi0EgHxxdZFomDmRbH0Ig2xZGC3rujtUVu2s7nvnPOEYOwk9ZvQ7Pv4rHDyq4Y1/I3u9Vp6HBM+9lx5Rq3quE40Pb4Xb6LmSfu6SbxW+Jv2WXEaoj35f143piz4pErdmu5L6b83KtXQ1PRq6HJ78nv+26OTqtJ5IOy8qgrO+NxEN6P/Puxg2CJkL4r+WYHPH8OiZ1Q3+WsmuE78PyGesRsnuMGbQ2clRZ5lBFl2JWTAGXSGfdqYRlVFZVJTDSTjo9WXd6+M4sw2gWWF1ifjJwXj2mg9KI9sCvF7gf1N2BNbDO0kzyClFtUhF0ydtDHzI6WIe6oPrM28faEg/YL4/8ZN3g/+jX3dwf2J+x2hRV5QxDnOXzuFiOh3abO2Sk3xiI/4hXKj343dEm01KA8yTN5yscm7tF3c7ObIedHDLG88foLn3f7wG5v3zi27fHR7UWPj26P0fQ+vKuUgiPLXg2xzClHPxIU8k774Fqe2+PfGyseheMe/lzSlfX+HCxuOB5DnogGyHtiLdTtynr/DWWCM2CONRHhEufB3d/dEM26w3deF1m/YFw5ansc93le749tLaVQ1swz3JPQw/3XRofSeTAB5jU/Rhju0bOxyfNLO/ComNkRUo6dMt91+2B0dk0eZ399fjH76/O9bGgLfN/t6t3+nYdM/sjOovtHdvp7Uzc8L004ReW+1Bf54GgZTph7NjW6A2bec9At64tBt6wvBodE/Q299bJi6K2XFQM+udEtbig3j+oYytz/5nhfuHfvnU3xeFvoQ9QxefK6pp6vqvf7+jFFjhaGvNPPqU/uefSF8egd9+P+fO6RV5N75Mf6XOYI70VboGyGLItthvvSlr19hL5Kn+LvIUujBRP9l7GOtuZzdXhG751xHvByCuU39J1NxdO/fa6FRUEapW/82+rLfIO5xWVYBLFpwPMnnFxf0RrDlcFBscxzUos6ysStpsIYzgYDVtPUb8/GODflylraFPOfHzvd0RSt4sL4wXjGnMgcw1FBLLW6v7vBx7T0SHtqVcy16ZFx5kIUu7kcyTxPuxm8IlrIkyc/uh82P6hr6tWvXR7lZsYel3VDu6FtU+49mxvLjvS6FSdHtsO9aPMozqdN3OZzIHWMopz347l5BMfqqhllURuxXMyj4lZXzfA5nvejbCrJWIw7Y85q9HLyTciw4UAfYqynn/faHcuJd8f6kPsyXjGv0t977Y7BUPJxBdmYMuGayTU7fVxi07Mtn5DVVTPKIpvua+pMZVEu+x+KyeU+jmqHMaO966QsEgczrizqvaXBd9qwzkgHcgQMdtBceRImSiYWzLTZJR47KzkiEQb4/BgOn0986+54HIajYmGHLg9BnZ89bSvxWyYwJupJx+924Yfnkn9fjONLJfEJwg4hZeG+VJLQ54OXR+EpjURD/t26I5QrE7+fnw3vP3h5XJTzPL5jQsvPFXd/TxSuuB/5d58pQUBEccDfgy6OC07e3YXZkA8EWJ5RXTUj+qYIkyeTKxY47usk868x5PyOK28QDI45vdziJVfe5EehUp9IrYUTf9EJa4nkGJ4rb0J7yxUx7ELTHxDAhy5p8npx3z1hRxyBjvbKOw07L5Y1bTh3Ko4gQL4om7SPIOAgNJOn3IfKiPnxWBHCui+0UcCEMQEhe9zMhjIBON9Np52436XQd1L/O9yfdydP5JmyG39qvZef+/tZ1NQi8Vt2JP35S5vLrKyw6GCcREHIYqi6KkZZY6yh3uiHvC91P7lmp9+P+5DXfKGYR1tMFzDklbqmr6Z1XF1VijjmkfaC8M+CIldutrbb7WHgE79v1VVxMemLIBbca+IiGSWOK3jCwpfn+vGjGVERRxujvVBv/E1ZuCLvijgXUeZ+7C2MfbSptHwpcxaPKA1zxTxKU1doXFnv//cNhnAtykz6BWU37LymsuNSvHv+frm1ZXVVtODhN3mEUN47PVKWHjkdMT8uGunfvF9qgp9HQ8uP4vkx8jAW00+OvqDZr6UMWCjS/vN5of/aOM/Qpv2YXZAfkEvSzZ4+W6IyYuTcprINKn5DWaXKgHyTxTdFQp5oC/73ufH/+VFD2g99NR8Hhi2Ox0rJP9cwrrkfqzB3jTmr3HKPcqwZs7l45unfly0S02O7HU20p860dujQc9s4rsUY1db1exvYpNUIidk45lH0krZeZomcW0buRZm7ZUorQTs6XG4Eh8DyoQ3r73bvdfS6eKwUC8nMP2lZNMQ27udyezsO7aurZnQ4+Mi+vl/u/qI9C1q/rgPWb35kL7H4Yz3DGIesz9+pnNCZSZZFnZtoL8w3HV0vSFkkDmZcWdR3XaNPDggraVh6TPFyvwm+4AgCOUIvC6EWEbDCboabdnL+NlmEsXhzh2vBvNYjRYUFGgvsVjt7ZubJwsydRIbF8rRJ231HCyEQwTv1XZKHz/VoJmHSdoVL5kDYfVWEz6dNiX6TKAsEYxZ35JGJdNh50coit16hjBD4ed+ejfHZ1A+/yf0luJPjkOfUaox3R4hlgcGii0VRdVW0zKIduHCeWYxwDeWd7z61lRDeJ5wcfSNhEp5bMtHGWJQMWNMcj1a1Eqp+X5MfMyB6WBAeRp0bBXwWQbmC1Y+lBeGThcXosxu9vqg/+hJtjfJkMYmF0JjZ8R75QpN7Ute+8K+Kwjnm+fzNb6h78jH6nBjmvpIzYP6mLiacXB/9+wQlAN+xSM3DgLPoquu32pVgJPoqfSg/SjfxhOg7h/znvoo81HVQSlO+o+bEhZmfqw/CJ/dksZLukPrCNeQxV+ZQ54yTNaM3lTkzp3/llokoYFDmDF8U85gri7yfZdZlI+bHcuM7V8SEMnerP6KuJYsl3o8yYNHjipGwEEZB1HdjDCXP+7iVU7CIQUHibb1ulyuWqDcULpRrbsXAbmC3K6MVHPflb8oxV3r3uDxanOTKbrcsDd+TL+7V7QO7o4VNyINbm2A5G8ZEdxy+IuabcssVBjzP/Sql/lXCfEkZUG4obXNFRjoHu2VNeE5u/UeZDV3SVOZXIj+yzXOZi9n1H76wqczXH22O+Za/6TsDL4ntzxUiHGPPnLDmzvbHntno9+M72nZeB/THVAHJ++RjBGMDY8K4mdF/Ud7PGafyfueWFuc0+tzvliOZzzDaAnmcXLerhSJs5NzEyeroTa0qi/bl6Gx7x827IuVHK/O21iKvBFIISo1KUVTL5MJWjiy74iXzPZjKv4zZKC39WC1HiStE+W2rrHN5pSN+ityNQ5DT/eh7oqgiL3neyvwOcey17yp/Zz/mnRwnTYOj5Iq16qoZ5QokFGltBMLxo3Ed8f/DcypE/u1Im8o3WcvuzbH9oCyrG7jG57WyY4McV2zFPYb7twsyDfIIiTGho0qrjqYX4+BaqTzRdhnb87VwpSRlkTiYcWXRMZ9dWYy4bW0x4ra1xSlfWVKc8pUlxcQ7VnpHwKSz+3U7iu7X7Sj63byp6HfzpmLBN84pFnzjnOK9j00u3vvY5GL+/XOK+ffPKWZ9bUFRd/cFRd3dF3gkltPuWVycds/iYtqdK4ppd64oxn/hkmL8Fy5xU/jlD57u98UMH5N77ss9tz5yYrH1kROLZQ+eWSx5YHax5IHZxdJvziqWfnOWvwfHAb70w77Fl37Yt1j50Ixi5UMzih3fOb7Y8Z3jiyUPzPboMOSBa07as7Q4ac/Sos9Nm4s+N20uJt6xsph4x8qix/XbizGfX12M+fzq4tz75hXn3jevuPrxCcXVj08o9vyoV7HnR72Ki741s7joWzM9X598ckjxySeHFCM/uyYeqwhHCmruurCouetCvwdlxedLHphdrHv4lGLdw6d43ihz8t7/ExuL/p+Ik+6Gh0/2a3hX3p2y51ruSV4H3bLeFztn3LuwOOPehV4Hk754cTHpixf7vXBqPn3CNr+ecuJ9qJNTv3pecepXzyvu+VHP4p4f9SwGfmpDMfBTG4p+N2+KO/xhAYZypeHR2qLh0drixD3nFyfuOd/vXXf3BZ4n6on6G/LpdcWQT6/z9x/9uUuL0Z+7tOiztcn/P+72VcW421f5osSPCYY254tZjthct8PbFPenHc69b24x9765/jz+Hv25S729U9azvragmPW1Bf58jld0u2Zn0e2anf6Mobde5vehbil76mTmvYuKmfcu8nssf/B0b4+UOeXGov+Y21cVx9y+ytsYZTb+C5cU1XcuL6rvXF5c/t3pxeXfne5tnN8M+8zaYthn1rZoP+SNoyuUDXllHKGuOPqSHn+hTGhT5IPnUL+9dzV5mfMZZbH5kbcWmx95q//N+zd9t9rHCcYn7k+/2PVoXbHr0Tq/N31r8yNv9e+u/97o4vrvjfY2u+Hhk4sND5/sZcU7vPexyd73uR9lQ91QJpRRny3N0REz0fNCWfNb8szflPvAT23wSF+My4wBtHWeS3mf+tXz/DvySjvJ+ypjn7fT99f7uETbJm/UAeXNc0/as9S/W/bgmcWyB8/09rf8wdOL5Q+e7vXJu/S5abPXP9fQbvicseCuHx1V3PWjo4orHptaXPHY1OLEPed7X+S3jE3kg3dg7Ku+c7nfn77Ku9NXKROOLvD+J+1Z6m2JeYb3oV3k/eOkPUu9DjhqRZ6pe/oqRyZq7rrQ50bKnLZKX+V9Fz9wdrH4gbO9Da57+JTith8MKm77wSDvZ2u+fWqx5tun+vvy/pTryM+uaZHfk/Ys9efwvvS3/3jimBbpxD3ne73d/OSw4uYnh/l9uRfvx7tc+72xnjf6F/Mm9Xbl45OKKx+f5O2RMfK0exb7b7iW+mJOvvH7I4obvz/Cy+xDTxzrYwJtiP5Mnrk/bWvdw6d4m+U5lDVtjHrkGsrqth8M8jmR51AHvDflTb+84rGpXo7kmzK5/8fdij//31OuLHrqD88W3a6qb3EsjqNwKL2Q4VBsoazCKnj4gqZ4PDK0Sz/eFBS+KBdRVA5c3exjj1vbhfnMj/cFJWZ6FLbblaV51xfhmV8QFLoo9f1o7HuiZRkbDn5MCgfsQQnBZgnKvp6NTd52aI9EU0SWQS5D2T1wdRK5NSiQGae4BiU4bfqoHfG4FGXNcdM8mqQf5w3f994VHa+j+EQByXEY6rHFMcqgBKb+2XREYYyilU0glMJpxMk8six55N5YWPS4PG5KoDTBigZFWmtRtFCUUZ7krdLi25W5h5/RYmOrRQqyDd+jzKdOejXEICvIe9zXj0yHcqU/dHt/vd8XBU9+nJz2n7poQOGe9yE/QhqOc3PkuPfuGD0UJRvKc/JOHyYfrfmrc/9bQZnYliUMZZG68UiPffupAdxyhM9rh66L0SlDWZM37s04kFpv+hF6xhEikYZ5DZnbo5qGsaH7FY3l40X4jR+PD2spP/L78RgV1aMhB5mNMYm6QYl/yleW+HfILMwd+RrJ8xj6aq/6eEz+1K+eV7zty4ukLBIHLa4smnB8DC3eprPUYOnDzoXvdLXh2I4JpT0T1dQZXEfTmNmN5U6qg/Y/P6Pf6uDZweNs7pTzjUvcsqi9M9cvJvnuVY8VvrOfO8wj5bsf499W7xOIR5UKZcIRBeorj9gwcFWcvPMJOo+ule6oscuMhUZebnlZka+Bq6K1QGqpVF0Vj00hHHpUglEbyyyVmOQQatmtTS0rKpWfOx7Nz5gnUdrY9ea+CHIeZjlY8/Ce/S+L/glwfNhee3EfPMludx4tIm/rWB4MWRqPWFRq23mErLT9IMTyGYKc+xYKz0+th1I/V60lLPzcL9aK8lD2CCu5KT9ti/Fl2qTtvtvnVmOhLefOOt1h5eDLygQn3zHMnGuSR9rcmNmNFXciOyPRT9L7t3c0gTyzUznxhN0dtpKj/lrbIWvvOEAaDcrzn9dXhYiX6QLFo7uFxYnfK+xOp9Yt+ZFKyiaPNkf7oP+lUcEQeP34Z3YMk+eNmB/HGNol92eh7f65wnE3Fh6MY7XDN0QHqjh3rrAbnvY9rMj2pu141KXQ7t0xfmhTbvGDI/TEaqRS5Ee3KsDSYvSmsmhoHc3fqDlNPqbmfdV377FUJprluC17bT1AezrmjDimIruQZxatfE4bqB26rixSJ8l3/rGs48hJ75X+XX6clHJNo2HW9b/U6yS1fGGu5beM6YzPqfVmW++v4ydKSkpKnZtYEyH75kf5KyVZFomDGVcWjTor+l5IHbvSEdhpcee8YZHnDkeDYI5Q2HtXPM7gDqETh6I9G5vKfJ10f0+Da4nzIxj81p2OcbShPu6MsDjmOeSdRXgL53e7S9puz0vQgLPTwwKDXSR3THtVvZcPAiL3QJtNmbAQYGHRZ0uzO25kcUKiXFn0sEt29AXNbhbM4MV3HjUlE3onHberzMQe4ZayIo8sklMnjSxGU0ebvXdGM3l2tmgTQ5fEHQnukzuzdCudrHx7fHS7a+epHx98w0LY/ZcE5UT3dzeUOVUmsTjxMg/56tkYFT1YDdBe3GFw2D3KQ2H3W5f4KAl55XgKZUCboFx774y7r+7IPJRnC4fBV9b7Nb6b1BidKLM7StljUk2fQWl1zOkN/q4og2hTlKf3XZzAhueNnNtUZhbPTi79kfekvXa7qt7fw50p42g37AhRRrTTvpvKjySxeMsdx7Jw4rnDFse+z7uXOTsO+XC/OTsSJ6A46Q11zeeMYyzcWoR159qQB/dvlEVTIa9HX9Bc5lCaduFjTtj5omxSB/UoE31cYceMtp4dIRo3s8GPqOaKO8qKdku/HHJ+dCRNXeSBAfjc/QGF5w9cHZ3WokDimtyJLYqY9CgZi2LqgPej7XkEw6HrPI+MRbnPIsocpbeHrV8YjwahpEXJxq4silGshHo1xONm6bGhNHFPLHDS/kBeGKdRdNHvGfvSHXwfO8Mufh40wS0FQn8Y8Y6ooPYACqFNubPt0LZyp+1pEAjqLXUYfNSOprKjo713xzmR5/Ce+fOYQ1Cs9dkalfT0L/ooym++92PYl8S2xfhEG6bvusNtHLKHcj1qe9w04Hn5UTXGirSv5QE30gADI+fF9sm8NPGtu338o/zc2TL+Cjl6G5RKefTK6qoZ/p6UK9eUHRl9R3QeTqJORs1pKp7+TeLg+unfFzWjNvqGwfhT69uNsogCmXqrGb3J64N+4IrCYPngkfZQyo3e5Mov6hbFI3MVsodHzgqKtNRnUVtuBdLU2qZfJSWjuy4gMt3R6+LGG9YY/F3h8+qqGa36DWvtOVjv1LxidowymB2RQzGPQrujkVmrq6JCnnHMldL9L43HosJmbq6I9DDjKGe5Z7flHfIvlKbxb4uyJu3Do4OFdtLasTo/+kY76KBy+LgeK8o2UlCUU87MC6l1DYt+6o+y52/Kxt1iZAru6eO3tvAtOLlmZ4yKFiyp6DsTT9gdN7ZCe+cezG/0KWSDzlZydEbKXVociin37+rWX+1cJ2WROJhxZdG08Vtc0YNwny4g0K6y48piHAE4d0jbe2f0C8IgyQIChQiCMtdOPGG3L5QQyvibiZi/EUyGnVe+OGbiQDBGeMLXB8LgsPOiUMkk4I43E2fKx5ze4BNPaqpJnhBuETTclJOIGyF//dZHoZW8ImRSBu7LB8fCSVQMd2gdFt8I+Exc1NXIebFMuD8KpvzcOe/gfpGSc9gsthgsEZ4pz9SyqMxqBgs0fCiEXVoWlS3CWVcYfGlj/O3h1qfuKHvn3LqEyd2dQP7rO71uc+unzkgITR5mt9tyb4d5aGTaFHl0nyBB2Bh/ar33QffhE+5FH6XvYCXRd3NcHLrlxMUtHZaTD3dgH9rPqHOjZRQLXvoOZUad05cHrIljAH2S90KxxXul1gO8IwIbv3FfQSG5k96Qx7rXL4rCXVAiouyjLNxZcMjHlOk7Pf95XaR+lCacXO/5Sc+pU1+5s2oWB+78Pjw3dfCeR0xjIUrdUA7VVTO8b9DfyEPq8HncjIYyn0yj5sRyyqPPpFHrjr4w8Qdzan0L0/k0oWRggU0+qPvaYet9XHbLmiDEc//cGnHCSdFJOmObhx8P4weLB943tcygveXtMXeUjMKi5ogzvTzpi7kSjjJDWZT6gXKn9OFvj5oX+iOL9lSB7crzoNQgT7nVF+1y7Kz4HrSDfGFD2/LnLyvfSKCvUEb5HM0YO/rs6AOMxSnjMAT4EtUAACAASURBVP2P8vQACEvj8RvKgjKm/eSKrvSYAmVdaQxkMYtyos/WOCdwHxR41AntPldyjD4nRg5MAycMOT9e4+NoWAikfuBcDgnXkne32kzkE+5D+aHgzP0HMq7wuwkn1Zf5N6KdUkZuNRrm6NRJufscDHUw+uzG4ulfP+vKol8+82wx8YTdvnhuKwpTpbmrumpGWd9M+3G6IeVWa30u8TmDtuvWY8GamWs66vujrZTKGCisOuooedqk7dHXYZBL3P9PaJdleTxsZtl9Kil4PFJX1YxWQ6vvr5QqZdrzWeUWhJm81FbaW0fiByJ5u08s+pgvcwUZdZ5bDmOp2JrizJ38ByVwW6cV6Acuu4Q85WNhR5SjSl2ffAOAwDStRJtuLUlZJA5mXFk0dkbc7fOFb3K0ickFIQghCaGMxVdq5p4rU7i/C8pBOEqjbrk2PhxhqXS8jUVKv/VRsOe3DNYM6G3ttPkudBCSEJDZvWFR5M4u58Td8/zoTnupvUgS1VUz/IibHw8buMbfi8WCW89kx45I/ddGCy/f+QiCjDumDe/H7jDXpgvOSmb6fk491NG0SVEBkZcnO4Z+3CK8H3U04NJ4XCvfWeX9/HhauHbq1B1loeR9sRcWx0zUKLqmTtvhu04uUISdrdyRKWXvFgND13nZs3ij7XqY+iyCztAl0W8Awr9H0cKxe1AOIMywg50qeEjkib9ZZLoFXGO5uWyubMuj86XO6PMdUJSHHo0sCNnsFo85Ky7Q3OljKF9vJ+E9qb80EhULQSZixgTGFfph6jiZsYZ6I4+5Qpk2V3v0urJjeyysaXOu4AoLOCwThixt7vAR1Q71/UzgZhE4uSZGn2SxmjucpZ24YjcsGMfOanThv71FQlq+aQSX6qoZrozOFzgoZN3CpD45upjdw98zO+pZO3SdC9iMWyjMUdDTDrk2jVLnCovQz6hrVzaH56CYr+t/qSsicgtPt54J7cYjWV0crVrcIXJ4nlvQBusqlEQsiKdN2V52pLFSJKf06C9jZx4hJ1+EMNbWDt8QlbOhbLxcOYYWFrGMVZSVKyUTQRhFVhqBceiSluM2fWJvj6H12RqjC3oE0lCelRbawxdGpVR796etsxhMxzz6Ge0dpS3jJ/NiKh+k83NrjvQZx457y4Vepnl4dvKeK8rpy6nSkLaD3EN7YUzkd+n/3Qlx2OgYdHFz8YvfPadjaEpKSkqdmFibMMaj5GvvOimLxMGMK4uGz21w4ToNu0xHoMMgYLOzxAIOIclDT5/fXLbr5rvc4V4oBzzs8upoyp5HRcp3wbkmDdeMeT47xjhTc2VUyDvv129DNHlnx5yFk4fpDu/nEc/Oby6ziOK+mKbn16YRUtwSK1zjEaWyXVQ/1rQrHvviPTxCT9jRZaFDXaXHpzj2hSWTn8PNQjSz2EodDrKQcasWQj+H93Mz7/6X+pEAtywLbYl7sPuY75ROrtvlSinfcc2enyvHaoeu84W8H58KiqRKA38ayj7328ECo5JiMvVZxMKWdk4bT5VEQ5eU8s3ilN/mpuG0KRbl6c66W5eE/sDzaaf8TZvov7a5zHyW9ufliaUIEepCvvqtS47IBWd/tG3qgHfhuZNrdnpdUue8F8oa3/kPC8ZJx+1qEW1s1JyoFMh9BqV567eu1J5od34EJCjuWOD7kayQ0qh8uUNHt+wjeh/RsJKw1nyWh2mnzN0xeshP343R+oIjNPyGMQkHq/ydLpLpE+5sMij38mODrtBIFqeVjpKR3MHke+M43/tjW4veH9tadozWQ9vjVDY4rux2VTwyyf1w1OzvFZx3Us49m+MRGt6D+vHjg2Gs82PC9XFs9yNQoa65hnu4Q0vGnwviUUfPa3BIyVjIeOxWKEtbKo4GXRznEj/+HO5JP+AeAy+J1kZ+vDTkyZ30hvafHg+jXbsDXI6QhX5HXbsz1svj8UreNT/mliqOezYmTohXNXtd87zUgW96vJAyO2pHU9m8Rn/AwpRreA5tYuiSODdSt8wdlGeu9Ou3LlG4hzHBj2mFPsXn7MwzvgxbHPuzKwLD8/Moejxj4Ko4fjCf5tEIPTpjqPO+m5vL5kTGWOrYj/ElClaszqivPFof96C8fezYHvuK++gLeevxrsbiqedaWha1F2q+IwnFIBsqbA7sTaj33IciibpAIdlWfvNoU8xZw85rKrOK6ahl0XFvvsDLGFkA2dSPn2YWmtVV5b7kPJR85pS7kpK4umpGuRVLUEzmR6NqRsQNGTZf2NigDfv34R4TT9jt5VPmVzI7Mu3Px2fY358dj4MFSzdSpTJJN/TK7osymPu01saw9m7nGFq60VNpcyJP6amCSpu5bJSiQEaORSE7cl68hrbmjqCzY7se0Ta5P7IpimnaRR4xsbMiEN561ReKL994b/HlG+8tbr3qC51yz0M55dFa8w31SknKInEw48qinjsbPBoTHuqHfSZaCeAJvtcN24peN2xzwZ9IRywSiNhy1I3RMz0CEwsL7u9CNp7qP7wrRgoIwq1HFgiCuEeyCpHUev7ndo82Q/QSou3wOYsQz2tQIvX++BYXzPBXgyd8orYQoYR36XnDNo+mQyJSW15+lAX3mnnvIo92g6d9ourgCwM/NmkUJe7nPhzwo8QCMJSZD3Yf2uX1VRZBIJQn0VuIFkA+ejbFHel8seg+rYgMERZhfTc3e2QQ3o/oS7xP7sslVeixYMiVXu4nijbAvd5fH/1WcM/Qhrz9hKgmlNkxZ8RdZhYsnKv3RXkQBBAaXFGxq8nz4ovEUG60JV+Qhmf0u3lTXHRn0RzwmUQe3UcYkSKSSCseQSPUAc/1/hHunUb1oH3QhihPj7oV6tH9dL2nweuDiC7kiYWNL5pRHPzHLm8f9BHaRV42HpmkPh5ldAVOWOS5YiPUH+VJvxtwabRC8r5IGaEwCNe4YigZr4ggRhl4JBT+DmMR9+x+3Q6vL/o5bZv+zDjD8+vuvsB/41F2mhtbJOqNuhoxPyr8WJx6GPjQ5ljAe57x+5RYzbD497oOv0Fx4NZd65vL+o4fMw33YNzKxwzvf1fGqCaUDWXBGOjXfGiXlzGLRercfdiF53pbf19DVFxlEQPdL1xoj4ybrvhqbvT2T/t2H0nhOan1GMo/hH/uy98sKnNrw1SR4uMxSpzQv3hvyoryHHzLen8P2pvPhURayeokjSZFf8ufS7vh/Xx83hTHZ6+XLKqPzy34YPv3xrJxifmbuYvxhfkpnf+I3kWkPeZtjzoV2jTjyejPXeqR0WhTjJPM9fyWOnKlWPIb+jt583YTxiqfZ6/e7e/jc1Xob+4XMZETen98SzHpixfHeSD0Ee7nc3QmB6WRRGnLjJPklbznY/vEO1b6falz0uBb1he/+J/fu7Lo6V8/G4/czS4d/Xcrp7AYRqmPwotxkjbRb138P30nV8BzrSs1d0c/j8iEKMWY1+krbKygHE+VDrn1Ghsf7sA+sSBm04CNC57jRx3DAp5FO4qa/mujoh8FHX+TJ/eNFu49ffxW7/N+nDbzt5X7FRxzVqNbaaJ0y48W+0ZjSFw7bka0ekVZQlmgLGZMSi1SXckdxh424FDSorBA5vEjgz1WuKKJa9icozxpN8hF6SYyeeTYom/2hnaYLqZ5tjuDbyeABHV0XI8VFRWCbhEdrLc9EMnCphbW+XUD17jyjfZCObriMJR7mm+UidQTbQDFNW1h1Jx4fJa6oA8xR7MRxdjXWcqNznR0n1u6HooJeZX6Y75p7zopi8TBjCuL3vLh7b6gQiAZ8Mloos1nrnwIAkIejhvBanAQyLpdvduFn3whxfMQrMbdvsqFLwQofoOwiUCJYDX6c5d6SF8WcYQMJkQtYaoRZvld9Z3LPVwi70Fejv/ysuL4Ly/zcMQIsOfeN8/zggDqgmpQipFHQi6Sau660AVtEsI0yhqeRxhrwi/P+toCf4/8b8qMujr+y8v8foT4JU+5sgaBlTLs9sHdLjhR5wisCL58jjDdb32zhwzmuzxsOsI77YT37n7dDl88evmF9+Ce1CeC/8Q7VrpSj+fwXO6LAo/nj5zX5HWaO6xjYZ2fTXbB+WNbPf+umAvlyYKD8MfUzZQvXeRti3ZH+6feuCeLIn436Jb1xcx7FxUz713k7857rn7o7cXqh97u31P38++f4/elvVEG/j6hP+YLmlO+ssTzSqjmXLGVL36m3bnCP6MtU7f0D37LvfrdvMl/4/USEu2PMqAfeGjV7U1efiiFKXvqnLLncxZ4k754sbcX3o/yS8eCdKGa9nnyQF0QMpw+Sl7T8OLcn/fj+fRH3uGo7VERySKLPFHnlCd1z7Vz75tbln/qmrDchBTn2nPvm+fXNjxaWzQ8WutlQnhx8ohCmVDeix84u2xc4m+uoR3x/ZIHZnteaI/01XQhPemLF3v/PHHP+d7uGAMYn8krfefa740trv3eWA+rPvKza/xdWZzTH8grbQzlQ6/dUdCnHGnThEZH0cVutd/jfQ1enrserSt2PVrn5cp7oRhK2zZ1y3vShmk/vCfPP2nPUm/XPI/yo9xol5QzbaPmrgs9b7wfZUEeK43baf1Qt7Qp6iRva+NuX+XPZg5mDOC5fI+i5sQ95/ucTqLP0A9dqRPmMO458rNrfB4jMS7mmzD05eO/vMzrgzzRTijfvC2sfujt/lv6d64szcfpqx+fUFz9+IRiyQOz/TMSZU75Es6dNr/u4VP8/pQXn294+OTi93/5lS8Sn3ru2ZIDbKzDL4nzaRpgo8+WaM3mVmZB6Tbq3BjKmr6RK+9ZaLsi9D3J5hXK+kwxzzxKefN9uhmZH6H2TZew0KZNjLt9lcsBLOIIOoEyhb5MX/X3/M/t3ocYP8gL7+1KxpDnoe+MCgHfrMiCF7CoJI9DljW7sgjFFnnE8sUDZKC4J8z6jqYyq0LqkXsgd7olYXPc9CBRTx4JkiiumU+2wcvj/3muWzBmCm0sZXp8NCpteD+OopNn2pRHiPy38+P1YdMDxValxTfvOXxRU1kQCKyXfQOCzadQn2lQmtyvqgcpCfKLy3ZBSdz741vchxUKUOZg7u8bRczdm2Nd0s4Zl/M1BeNWW5Fk9yZ1prIoj1R6KCbkHeYz5KD2rpOySBzMRGXR+3b55MCklyogfKc8s1pA+++7VJjiv7/e75Nb3OQCiS+atyaWSkTkwbKHHcJs57X7exrKomixqMwtOriHR+J6VzwWwuSGMOFHM8Jk4Kb276/3fDM5MBFjeusOrrMIcT1v2OYCtgu+IU/sWFC+vju+M4mKFIQSdnooI4TNVPDyiFFBoGI3k0mO36LI8yhtyXd85r/NNOxM5tVV0fwXYQVTc4TX3CQYgSuN2NbRlO56syOXR8zBZwT1V101oyyMenuJNtZ7ZxQ4ObqAsi23bEp396lDFiy0bf7OLQEQ1rq9v97rr5JzPfexE4SZ6qoZ3k64lp0sL7fQBsi7f3799uiQmeNDWNgEAQpTfOq3V0N5dMHcogPBlOf0u3lTmYUZz8O0nx1P8sg7jLt9lffVPFIau8PeR1GKXbvDBf38iGNejnmEpx7Xb4/WJKHO/T2yY370w7p/nF8eMSo7MsTOHXkf+dk1Xi+MDV72oU74nvJOFzi+mKsQYcWPYoV89GyKzpnZNWVMZSc+X3ikx9DcuX+oJ8bY/Ll+/O2and4u+Yz3yY9xYL0w+nOX+rhE2ecLUMZ0jkhwTKH3znjck3mGxYH75wnzjQvtt6z336C0YQ4hr3kfdhP1K+vLog76nIkFE3NYKOfqO5d73liEcByM+mQ8Y2zvdcO2uEkRypy5yuc7rK6wqArP73F9XNz5eB/aEvdwi7HQ5rpft8PbDHMG9ZiP4fRzjrx0+0CM9kegA4/AFzYYPG8hH8f1vChaUmQWI1jE8X5+PC20l57/ud3vj7KI+3KMhGvcMuei5lgf4X1YTGJBwfPo02NnNfpzyiwtk/7VsylaF2A9VzNms1tbMD671VxmwUufHbAmWqehsOI4d+1r5hXP/L/fyGeRktIhnjpTWaQUXVe4ZXWQ7du7TsoicTDjyqLq0RtdqeG+OhIBmEUCSiEWUiyY/ExvWLymIa0RJlnUsShBaEKw6r82+udAUZHvjCA4erSwlXHHAAE791eQ+kXoty76ChiwJvovSvPQf230K5B/3u3KeGwjDz9MmfF8X3gTtntb9MPg5cSu1KqWPlY8ZPumct8KvjMTFqBcQ11NOLk++i0K13B/DyMaTLURuN3JbXI2n/PnOHDl2jy6xN4kN23OFAmtJXfqnJ1/P+7IpdGnQfgOAT93FpxGncqPueXJo7dk/o+GnRdNm3ku5/lZIOVRqWr//uwWxwLGzG50M2/qnnZBO3Unpv0vdSWYt7/QtvjbfXPgF2tDeT/LfRblYZH5vu/GeA33zaOG8X5ce/QFsR/TD1CE5JG/0ihe7scstCXM1vkt4wx9inZb+5p53mZZsOW7p/QlP9Z4UeyLedRBjgW4FV0WbnzQxbFfpwqyVEnGc+mf3a6q99/48ahgacmCMPcRlh7pQHlDv+bd3U9JUC6mUTpYnHINdc3iNV/Mdr8ihhwnb34Uid9y3IyjncnnvHvq22nQysRPWyhHdya9PL4HYx/m/l5vLLyDcJY6YWcM9faZBENIfftQ98MXRD8xPNcVykHZwVGQ1HcZyspUMTB2VvSzxPyDEpp3GHtm4qeG41FBaepWEaGN8S4DV8f6z5XdHgI+O0bc++Nxo8aPJ7IRENoFfdfH/PDcgavjbrpvIqCQCH9TnihpB66OeaOv4DuINkyZsdtP2dSM3uTjBn2RYyqUI2MdzqpHzWkq8yHizvCZy0LZcC+US+NmRJ98jL+5PyDaJ+11+MLob46NDI7sMK5xxIXfVY/b4n2UeYUxlSM25I178PyxZ8YIlpQBvuo8LHeYb9NoStSh+yDkiNy7G1r4LNIiUUnp0ExSFnVucrcGbGgGObDNaz68q3jLB3dIWSQOWlxZNOH4nS4AI6SlZpIIkx55KPw2V6akCxkENBZ5CJ8I4rnz6DR8M4IpApY7wF3Q1CKNPbPR80IePUx0ML/mffysPE64l8Vns9Dl/bgmd2Y9cFUUqN3BZ1jguqNWfD2EnXQE1PFvqy8La4wAjEDO8ylHHPUOXBWdXHI/np+HrR/6zigIswjnPRBysbLJQ1DXDY4+bjx6Ef5BQl172PMg1FdXlTuBxEwY59EsLBDm3c9A4hwwd8aI82p2UwmVWzNioyuJiAbVkUmAMuB+fJ5HnyKl0aFwiogSBaURbZn2mIYZZxFJO/RFcmgvuQ+OVJFHu6A9cA19xh3TJgs43i9Xwnp9EjUp5J3nTa7b5fVBu/Fw8SHPLH4ou5HzYqhn2iPPR3mEQtcdiCeRCV0pFdqf+8UI70M/oQzrBq11BQQLTcYX2jhjh/stWJT0W5RCofyoL/dFkEW7Sx3dYmGAQsYdNofFPwv/7u+NCqV8MU7ZsNikTdSM3uTjI3478hDb9DOvo6AQHXtmPGqR+xogbyh1KNcR86PCnz7PuJyXJ/dmfKk9ep0rfMgj70Nby6MRjpvZ4M9Lx8Hxb4tjgTt+T/yTMC4z9tEuc8Urdc0zJh23KypsGZOCPwvKqCwKVhLe28eiYKmUR2gkkY/JNTu9/Gj3tC3Kk7y5k+X5sUwZYykDHx/DtWn/Jv8obMkbyi/ygaLE59V3NJUprnNFFv2c5w5cFdsMbZgxiTblnwflFNdOnbrDywBlG+NHnkfqL7U+dYfgoW8yPqbBA0bObWoxZ7qDacaPzGE5fYn3739ZeZ+kH3ONWwDhvy0Zj71Nh9+68hm/MqEfpM71XVEXFJu576DWxiDvv2Ec9A2wxU3F07/t/GhozG9YBnckEh5KL/6mf3tkxLD54o6hiUbaSr9rL02u2Vnm4Lo9R8lp8uiCYWzw6LDIGEF5WSlqX4v3DhENK8kvXZXSDb3OvG+l8PBtbRR6kJAKAUf26r2y6KodSb7hNvgyl9kq3j+0Q9oCyuFUNiTRN5l73Ul3Fv0zbWN5/pGJ/XdvWNwp9fTEN54sfvmzXxW//Nmviie+8WSXt7+DLTEv+Do1zEPttj1ZFomDGFcWHb0knntOo2/RERCk3E9OFp0G4dDN2N/X4LtgCIb8FmGJhRu7qn03RwVIHjoZoZLFJQun4Qvi8R2P6BR2xvk8VwQh1PfZEndPWTh5xJIgGCNEMAmlUd0w/2fhnisFEFjZ/U8jY+UWRLlCpkWEGRyYhkWq78BnVhjU1VE74rl6LBwQNrk/QjPlzN+1r5rT7qDoO63JZ9Q/liK5AOkTZIjgkR4L4jgKgzO/ZSHDwpvJdtrEbT5ZM5Dnyi8E/FSJVSkEJkqott7Zo66Fv1lQs9jjexQog1c0u3KG9sbOuStMUISEMqGN992cWBCFxU8eRY92wyKz25X1MVJaqAu3zMr6cB7lq0WkpdBuWIwjJLG45fljz4wR21hQuHAZFud5lLLpE7b5/Sgv3pN+kVr9DVgTHfMec0bsm7SHXllCQZJGqsodluYOtlno0t8Y+1KHyPnCEEsALG8Yv46+sNmtK/L3cGshQrITIGBuU1n0M8YttzoJ+eBzt3ZZGI9c8Z0LPERJy+q1x783lkV+o9/RLl3hH/KTOqKmbeUR0ygj+gX37LcuHvehbCkbnsf3XDt8UTxixHuRl1xZlFuGDjsv1nHuJJ2/c6V73RuXeD+m/BjDUXiy8GBB4ZaE58Ryo4xdURYWFvRDz+vK2G9dKZop/suO2TZH5STHwvJIf7Tx9Phs752ltsLxNsYTr1OOW4c5k7bWs6nRlXeuDOXobWj37sg7zPNuTbcztlm3WAqyBb5+/Ch1uBYn9gMujZsRLOQZM3wDIoSydwvC5YliK3MiS1tgrEqPePF/t/YL75M6YB4xP8oPPa7fHpVsHBsM+edzyt6jAyYO9N2hfOgHjFPu5D8LYNF3U2LxGN4LReFR25qKp57tfGWRkpKS0qGcmHuR8yq5gsiTlEXiYMaVRdPttLLQ6Kk2lc9QBmB2nVv6uMn6iijYsIBC6EKpwr0Qpo++oNl3SRH+EYA9Ck0QPtPdVF9kY9qfWViQD4+igYn6suay93K/FpiMZ5EVRs5LnKGGRTHCrIdVD0JmHj1j+KIoeFJeHgabIxM4Y8T/zJryo2ksAlC2UZ7U1fBF8diG+2ogskTYOWPRw8ImDcvKffIIFCheXKmTHA+jTFlg5OGH2YWjvCnP4958QcXBN99BfLEpPXaSpvZ25epev8iVG7R7vkMp5pYCQUFEaODJdbt8cYOFDQtdlCwsRPl7yvSdMQRsaJdlxxpCHfjR0bWxT7CIyi3OqK88tH1qYcfi1K2QgiIvP+Z3zBlxkcwin/t6COHQP7CMmXT8bl+U58c58gg33JP+Uvuaef5sFpq0odz6L30/Hz+wxmNhGfqHWyVlVompf6r8O1fKhb/d2uCyROkV+jcCB3llTOD4SnXVDG8X1BPjpe/Qhx1QFo7UM1GPjj2tweuLe3ioaY7fhPFz3MyGsgUo5ZpbfVDOqRKHxHvlFhS0Kepg7KxGr0PaKlYL5Jlxxi2OzmksU9bQbsg7u7a5lctxRy71ekHpQJ7z40at9XUPPR36SkfCcjM2uJKWOmGXG2uG0M+nj9/qdZr3ByyaaFMo5kfOixsl1D8hynlOPq/y95TqaP1EvVFG1Antkb40/m313i7oo+SF5/Pe+TG14QtiWaPY5Le0JbdcDHU0+KJoPeaR5rKNKB+/w7hC/kafE+UFFD1ci6BPO3Krufmxj6I0yo/x8b1bTG6MlomMsYyb5MWV6uF3tMu+G6MyCsVxGn1pzOxYFow3/S+LyiLux0Zbn61NxS9+L2WRkpKSUmcmxlrGZebO9q6TskgczLiyaOCKuMhMFwV0BJQZuU+H3DQcoazfhuayRQJCl4dwDUKmK1CSsJcIXXkIYwQ6fjfhpHoXXhHC2M1DqcJ75RYCfbZEs3J2VsmbC5/hvTkqMnVqdJqLUM5vWVzmzi157sQTYqQxN+HHN1H4bR5ms9+G5nJhNvwmP95BXaU+btgNZmfeFU9hV5MFf3rEhfsgzKZC+ehz4m5xamGU+4tikUodo/hhkU4ZTp8QHU7nyiGUKvxNXdUOXecKmPYG8NSJbu7XZb+mw89wBQFlnh+xos69DkKZHbUjLrI85HlYwLBApC1gyTT0nbGdsyjJ2wX5YbFMeQ5ekeyUB6s19+2RWYGkPovIbx6RhPdjwUg9Tqne6f2ZhRhKMNoFn+dWE2PPbCxTTKCE8rGnFaUt4xP9iXZHXeTHplo4B8efS1iw5RY3efjxvhsTPzFZZB6UitSnW9aN2xLDGAelZe5rJ194cu2Id8QFdB6qmPbCuMn3tJFh50WrIxLt0Y8+hTGEBXdqkk25eVkEnzgop1OrMu5Loj240iP4eXELnEuigp92iDIlPwbgY1H4PPWbRFnkx+1QotCOhi0uP8bHNYzxvqmQHfkaN6OhrN8xTtJnuDeKmtT/XO77j3vlx/qOOaPR88Rvc6s8VxKF59LWx81s8P7l/Tebg/P+PXxhHLtz5Qlzb7oxNHhFVIaMmhPbGP2O8vKjbKF90C4HXVx+JDyPCkXf8qPiiY822kl+JNWPAIZ78n3v3U0+5rmvwezomittErmBPFIHlCMyDnXBe2KBN3BVzL8fKQ7357f5sb+jL4hyjuc1Oe7/i99JWaSkpKTUmcllOCIGXtTSJUulJGWROJiJPotO3Fm2sKnrt9o7ApYo7Hx25DwxjpD9vmF3EQGZXVvOeqfni/Pz4H7PV80ppXA8LHU27J02s4pId/Grq+JRqLp+q12AZxHO7q+fqw8+cdzvSnpGPZTJ3gxEvGvdGxa3embZ/fIccWZRc8SZRd1r3xHPgYcdVRQl7CijyPIyGr7BLYgoJxZIWH342fzMqgFn0NVVM8rumyfawHG9LvY8Uj9lRU7d7wAAIABJREFUvw3lnX8+4aSooMsdMrOjzYKCOpp44m5/D/ddEhYy7kA5LC7TXQGUC7l1EHXN89zaJSx40kUqC0EWZiwS+N4ttCZu83aIQqc9BZcvNs+Oi34WRiwUUShgZUD7PK73yqgYCxGI8vvnVhLU3/TxW/0a2j9KHMqGMQFLiLpBa73veJ+lnWZtnQVPuuBl8U0Z81z6Ku/H89KFEz6mqGsfk4IFhzuoTRyPUxc8F0Wo94vwLqmlBRYw7fVpFAh7Mw6kC/78iCiWRfRRP+oYLM9YsE6dtqNMEc79eT8UsK6YScqpo47qKbu0XbbmqyFNtJeJJ0Rn0N4ecPAb5oN8Ud5vfeJgPYxxtBsW1HlkRsoMy53p47d633dr2MxqJx1ncn9A+W9oN26tE/r0mNmNFX2eeVllftVSCzDGDc9LuG8+D9S8/KzY50Of9PkgjK34WKMNMza2mPvCGERd0O55rlt9jd/q1+f9inu5BWFH2nwWpMDLIjnGizVaJUtP/MgwdzK3Dbi02ecxlDW8l49X4Xva8nHdlrfr68YjjwWL2trhG7xdUl4knsc7eB8O9VjX/9Kyec39wIUyR2HXYr5nLA0K1XRsfeap30lZpKSkpNSJic04NqRyH6eVkpRF4mDGlUW7H67xsMDjv3BJMf4LlxTT7lzhHaHfzZuKfjdvcp8DS785q1j6zVn+ed3dFxR1d18Q/fh8akMx++vzW6Rpd64opt25orjoWzOLi7410+91/JeXFcd/eVmx69G6YvEDZxeLHzjbQyVz3w89cWzxoSeO9Wv43eIHzi5O+cqS4pSvLHEFQRpuuNcN24pTv3pecepXz/Pd79UPvb1Y/dDb/V4z711ULHvwzGLZg2d6SHvusebbpxZrvn1qsfzB04vlD55eTLxjpYcfJt9ulRR2LckPfgtIg29Z785y8UtAwqfEGfcuLM64d2Fx2j2Li9PuWVz0uH67h3qef/+cYv79c9xnBaG2ySt1Nfe+uV7G3J86oCyop3UPn1Kse/iU4qQ9S4uT9iwtPvTEsX6fa783trj2e2M93DHP2/rIicXWR04sbn5yWHHzk8OKiXesLBZ845xiwTfO8e94n6bvVhdN360uLv/u9OLy704vqu9cXlTfudzzc/XjE4pP/2Bwi8Tikffl2k8+OaT45JNDij0/6uW/JY+0jysem1pc8dhUf/8bvz+iuPH7I4pz75vn7e8/njim+I8njolhsEP9bX7krcXmR97q7YrfbX7krWX3o36ufnxCcfXjE7w/cI8rH5/kZU0Zz71vbjH3vrn+fkQ1on4n3rGymHjHymLpN2cVNXddWNTcdaG3S/oBf8/62oJi1tcW+Dv1umGbt0fKjVDb1CftnjwSJnzlQzO8zY75/OpizOdXe553fOf4Ysd3jvdybXi0tmh4tLaYf/+c4srHJxVXPj7J2w73pQ1Tb+R9zbdP9c/IC+9DKPGVD80oVj40w9sR+bnisale1tQb9UO5EV6aclj50IxiyQOziyUPzPbviC6169G6YtejdZ4f6o98nHbPYq8XhAfGAu7Fcwd+akMx8FOlY4eMh5Q5v2EM4J60jfc+NtnbNf2JtkbZU+Z9btpc9Llps7fPM+5d6OMX5cVzsfQjb2kIbuoaKyDqesRta4sRt631+9NXaWtpO+Q39OPcvxF5ThPt8obvjyxu+P5Ib1PUOWHc0z5K/mlrjEWUDaHtee813z7Vxx7aP32JhT1lRX7StkUfZTyhbBhnyMeGh08uNjx8crHr0TovTxQE+JbjNzyPv1c+NMP7SD4+8jfzEPeee99c76+8D2XPfa//3uji+u+N9ryT162PnOgWg/RR2h9lT3nTnmZ/fb73EdojcwYWP8yJjIW0n5ufHOZly0YReeP9bvvBoOK2HwyKc8xHdnpfpX3gw4eyIG/UFc+/4rGp3q+or3xcYRzhXfrdvMnnLHaQmUeZo2m3tPmauy70/zPGUJ68B89njPIgGDdt9oAG+HbiPagL7kE/6P2xrT4uMfYwV/V4V6OioSkpKSl1ckJmY72DjN3edVIWiYMZVxZ1e090AOqOHlfHnWp2v1mEYF7NDiyCMrvedW9c4qbhLJQ8uhCOHjOHrX22RBNsj2CT+UNghxzT7T5bmzzqGLuwuZk3R7HYcU1DCrNgykNau2l6tus94aT6Mt8KZYNN2EnnHcjXuJkNLjxiocJvsXrxoy/B8iA9zkM5kRf8F/AOPL/vxnisiLLIy9zDEYdEvfVsjtYDLADZ/cayg7zjcHXCyfFICeWGlQvPp1zZYXZHuZc3+gI+X2i7E93goJa6SNsf74UjZNowTupQlk06bpcvmPNoeVh0+DWhjbsi730NngcWqzgdRwHpocnD9322xFDZfEcZpJGixs1siNEWwuK8+0d2eh2z8EWx5BGCQt2nxxPot+43I4viwPtxrJF+Qcjx9PhXuijp8a5G/y2+tNLjnvRR2gvWGeSRxVG3D+/yhRiKD8K3YymSO62m/Qy+Zb0rSbGmYTGZOzkm7wPWxONROIFH0cvi2estvAv561UfjxVhsYGFCuXJjhNtrrpqRgyhHSw36BeUDdZ6CCJDb73M34tyYjzLj4FR9iw6+2xp9vLLFcbUF2Mw/WTApXFsIPHOWHXxXljmUI/dr9tRZkGXR8zBEih1Rk6+ceyLg2TGcJT6KIbq7r7A2x315mFsw1iBggJrDH6PP5c+W5tcUUDfZQ7jXpRjOo4wV7kT5/AejC8+Z4V8dX939JmFFQkWN7lPL+bKNPIXiqV8fsWSKT2ahdNo5hDmA/KYO42mHfV4VxzT87JwZ/HhvTi6NmBN7N+5I2ssjsgPbQLrGo5cE2lxct0urx/mO55Dv+9/WbO3E+Z6rIspN/epxVgV+se421d5O/fxJLRZxmDGNeot9VdG2XgUuSwQRnqc3B2Ah7xSf3xOefK5OzBfXj4nMvZ4Gw/jVlo21D91y/gxfGFT8fRvdAxNSelQTx/Z9PHipuZbi5uaby0+sunjBzw/f+sJGYNxPw8gVClJWSQOZlooi9h9Y8fyxD0xQhSLG3bWsPxhhzS36Gh4tNZ3CtllY3cMSwR29tipr7v7guLc++YV5943z3fZ2T3k+dwf66cz7l1YZi3Azhw7keyMs5PHzuzSb87ynVt2RfkOyweuJV9z75vru4lonPmbvPJc3pfv594313/DbjP3Z6cy33He/MhbfWFE4v7sprLYpK7G3b7Ky4ddS55DvbF45V7UVc//3O6LRoRZBHB2eKkvFt6jz270HXkWVakl1sQ7VrrQnlvKdPvgbt89JY8I2FgPUPfU84jb1vo7cx/yiFKF+hzy6XXFkE+vKyYdt8uVMSyuODLHIoHFEQo0jz73kZ3epng/V6qEhTZ5c+XK+xrKlGAokljY09awGCCyVPfrdnj9k+e87umj1MVp9yz2dkYZUye0C18chwUx7zTxjpV+DRYjlC/lSjlSrrO+tsAtDXKLG/7mexatI25b65YglAXP4b3oU7wveey3IZY15UY58t5YApDHmfcu8vZHGfMe3CNX1PC7+ffP8bLg/vRZ8si96WsfeuJYb/dYddCGadvUAXlMo0ux+GcMYEyg/ZNn0sqHZvgYyj2oa8qPfs01Yz6/2scyrCB4Hm2AxL0ZQ0bctrZ472OTi/c+NrnMso1xlLKg3S5+4GwfNxhTfbwKv2He4Tn9P7HRlYk8h7KmTLhHnvfu72vwOvbxK4xT1A39EuXVgDVxc8AjtwVlJWWPkoOjQyii+m5q9jaDhQ/vSTnT/9N+71apQZnpyq9QfvRdymTmvYviWBbuQ9lTfnxP2fGM1PqIPkl90b/oj4zFwz6z1udp8sLf1An9PZ/HR352jd+f+Zr7kycfi0M5ppbG9DusnnKLT8aktFyxXKK9UyfcE3mCupl731x/D/ooz0GOoHx578UPnO1jAO/M/enPvB/5wGJr3cOnlFl2cn/qmPciX6fds9ifx3jPe657+JTi93/5lSuLfvH750obBWEjYtLxMRorGzQoofxIYEhsok2p3ulKNuY330wL/QPrbXxRHbUtfofyjXmTedSP3GaRWdONNpTM/I0Clk20NJIumxEeETFs/qW+8aZU73TFGscoh53XFOfYoPh0ZV9Q/qHs42jgxBN3+xFAjgWjTGTzgOOh+H5L34P3Qt7iKD0bRWyyorgfsiwqlfNof3nQF9433bjkuC7v7keWCdse6jw9YspxYA+QERTVKPNR6KL87nNTcpw0bIjyNxtVrTkFpu0w7qYRcVtLtJOaERv9fn4EN/yGY6EoqlnYU959tjR7eyD/9BHmW3wdUlY93tXoLiaoY2QPxiuPXhnuNX3CNn8f5ng2bFA60/boF0dfGNs/bcytzrPNScZtxoGLvjXTrTd/9b+/9XHgt3/+tc+JyCDf+cm/Fd/5yb8Vs78+3+cO5k/mRMZLjikzLyBPp/7SeC/GQMrV1xBEf/786jJZk7GNMY/3QT5h/rvoWzNdtmecZB3JPZiXmPsv+tZMn7+R5XkO8ytlQ38Zd/sqH+OYr7k/8w9zJ3Ma806Pj273emn6bnXR8Mh0KYvEQYsri47a3OALYYTOgZ+K/jr4DksHdvIYGOlAWGMMvmW975K61UDYQcbCIbVs6L2rqYVFCPfLd3wRhFl0Dr31Mn8mQh2/YWBkgEe5wr0HfHKjLxx4Z+7L37kSoNv76/09EDAQEF0RE57PwMdA3P0jO11gIvEbjkzwfAahM+5d6II1eWLgYyFDGVFXAz+1wRdolIlbd4TdS7cuCfVJmfTeFS2H2AGlDFiU8J4IWhNP2O2TD+XkRxZCWVHHTAA8t/9lMew9wkSu4af9pLu6bn1B2Ggi3IVJgAUidTRuRoNPvLlvJASQ1GF3dVX0cZQ6oMXZK8IyFir0D9pvny3NXgZM/NQt7ZLE5+zud7+iMdZXmPyoT7d8CJO4Wwt9bKsvjrmWPHl5BoWdCy+hLXS/bocLMjzHLTnCNdS174p/eJfXC+2d51Pnfg8sBxMrQIQv2gV91C1/+F3I14j5TTEEembNRTvxfFA272r098mVDDyPsYM6oMwG3bLeBRz6G3nj/WhP3OukPUtbHOGdducKzxt1Qj9H8Bm0MnF4G9ou70xfKgtvjnXn5dEixq8J9UTbwlqHfKSKKha6tCnaK2XENW5h954GV9p4WWfKUsrIrZauqvd881u3AAt/uxUbytn3NUShHwu00E7c6i+MBYxFPjatjQofFrEIgwiQjD3UX/f3NMQ2lZUnn7syOnzO30fduMXbDnngvdzCh+cSev7q3f6cXEnFeMV70x6H3npZtMzKwtznAjJ/+4LjPQ1ex1xTVrdYDobn9f7Y1jKFbq6IZ85A0Kdtd792R9k8xnN9nmAcoxw+sTGWW5ApmN/y+dst7EL59v74Fm/nzJG0Q+optzztecM2Lx/6IteS6LO+4XHjFh9zeB738DYWyozn8rtByZFCyol7uewU3otxJx0vaIfkafTnLi2e/lP0WfSL3z1XDF4RLa8nnBQdq6MscWfmwaIWBQJWSxNP2O1yQR5EgzGKOZJ5sM+W5mhtF+YKvmPxzMLa56cgO/bbEOdg/LG5DJMoT4Ysi/Ns303RKTtKE8YGFu7uEyooRPBT1W99MueFtpNbPdJOme+POSOG0EbGyIORkB/ymPr441rmSvxf5ZE8KbvBy6PSDTkMJVSuCOEeadATfuu+HEMZoTxC0UbbmDZluyvCU6f942Y0+KaaW8UGxUzqKw5FU90blxR1b1zSwkH+8IWZIigolnJn/pWURchY04/d6vfLfW168IfwW/pJz6Y4PqAkRQmXW3xT57TLnk0xei/PRY6gP+cWoeNmNrjSkjHG59zsOK1bSy9vdstLrJep00plwjv0+PdGl/2eejZaGD713LOu/OKa1EKZ9p+veyg3lJs+xgY5LFXO81tkDPooMg9Kxm4f2uXjIc+j/JhDWA+wxiGlm2R+DCx8h4zFPRm/598/x+czP3XBSYowJlFHaZniu5P+xXzDHMachdyHQrb37iiPyLJIHOy4smi6nXbAzf+UlNpK7GDUDVobnVRXcOaspPS3mlgsINSyEEUIYwE35qx4lNF3jsM9WKAhzCOUDlwdj5wi6HL0lQVbfnwxTSyYWMjweR69jsXIkGVxUcCiigUFyg2UZDigrq6KDqXZ2SWvfkQ6LIp8cRuEwUEr4/E6Px4V3p2FWa4snnT87nbrIv88dfBNeeXlxvuya5w7uk4TQjoL+31pN7kD6vyI4Es9Yc3hjuyzIBB5wIW8zVdXxQAR7T5r6Dp/HvfBpxWbBLkVQ+3wDb4oZgeeRSsLaSxF+B7H/TUjNvpmCPWE8+0289rG/PbMz3+tY2hKSod40jjQucktF8M4nbsfqJSkLBIHM64smmZvL6bbaUpKSkpKB2maMnVbMfCixmLgRY3FiHMbihHnNhTVozcW1aM3FjWD1xY1g9cWk6q3F5OqtxeDLmgsBl3Q6NfWDry0mHD8zmLC8Tv36pnTjt1cTDt2c1H7zwuK2n9eUEyevr2YPH17MXRRQzF0UUMx/ZhNxfRjNhXVI9cX1SPXFyPmNBTD55ZS7YDVRe2A1X6vmleeU9S88pyiduClRe3AS4u6niuKup4ritqjLi5qj7q4GHVWfVHXY3lR12N55fyM21xMG7c5fnbMJs9j/pupk7cWUydvLSbW7Sgm1u0opkzZVkyZss3zPOaM+mLUWaXEtaNn1RejZ9UXI89pKEae01AMuLixGHBxYzF0YUMxdGFDUT1yvV8zdcKWYuqELUXdvy4p6v51STFiTkMxYk5DMfrM+mL0mfVeVse+bVdR84qzippXnFWMf+uuYvxbdxWTp20vJk/bXlQPX19UD1/v9Uo5Vo/aUFSP2lCMPrO+qOt1UVHX66KKZVL7L+cVtf9ynpfngW6nSu2nX/zkl8Xzzz9fPP/888UvfvLLA56fzky1r19Y1L5+YevfhbZKX6SPlv2uz8qits9KHzNq/uHs8t/0W1XU9lsV/w5jVPobxsWaV88pal49p+wefN+R96oZellRM/SyorbvJaUU8ujfv/IcH3/5bMrUbcWUqdu8D5NnfpfmvzMT401rdcP/6458Z1F35DuL2jcsLmrfsDiW1ZBSelFtIIzxbf2m7k3nF3VvOt+f3+p9XvuOova17yhq/uHsVttAa8+tftnpRfXLTvfP8r9fTDp6aWNx9NLGTrnXdDu4x4EDkZCHGFd8zm/numn2dimLxEHLERYbt5KSkpKSkpKSkpKSkpKS0t6nI0yIgwgpi5SUlJSUlJSUlJSUlJSUXlySskgcVFRZqVEfYSWzOSUlJaWDJaXKcI1xSkpKSkpKL62keVrpYEmsp6tMCCGEEC95DrcohB5+gPMihBBCiJZonhZCCCGEEF2OhFAhhBDipYvmaSGEEEII0eVICBVCCCFeumieFkIIIYQQXY6EUCGEEOKli+ZpIYQQQgjR5UgIFUIIIV66aJ4WQgghhBBdjoRQIYQQ4qWL5mkhhBBCCNHlSAgVQgghXrponhZCCCGEEEIIIYQQQgghhBBCCCGEEEIIIYQQQgghhBBCCCGEEEIIIYQQQgghhBBCCCGEEEIIIYQQQgghhBBCCCGEEEIIIYQQQgghhBBCCCGEEEIIIYQQQgghhBBCCCGEEEIIIYQQQgghhBBCCCGEEEIIIYQQQgghhBBCCCGEEEIIIYQQQgghhBBCCCGEEEIIIYQQQgghhBBCCCGEEELsG1XZ34cdkFwIIYQQQgghhBBCiJcM/2BmrzSzww90RoQQQgghhBBCCCHEgWOime0ysx+a2eNm9nUzG2dSGgkhhBBCiP1EnZlNyj6T8CmEEEK8NDjDzH5lZn81sxfM7M/h3x9aSYlkpiNpQgghhBCiE1liJYHzBTN7r5mdnX2f+0cQQgghRNcxz+I8/SEzW2dmDWb2ZPjsYTN79QHLnRBCCCGEOOgYYnGX8qdm9pfw/9vMbIGZdct+r11LIYQQoutIFUXvTD7/ezM708yeNrM/mNnI8HmVaZNHCCGEEEK8SPqb2Y+spDD6oJkttZLgiWD6MytZHo3PrpPSSAghhNi/pIqidySfMwf3NrNnzOwRMzsqfKYj5EIIIYQQolO4yEqC6MestBvZy8wuNbMvh8//YmbPmlmTmU22UhSWFO1gCiGEEJ1Lqig6J/n8MIsKoSPN7CEze9DMPmBmn7KS0+t3m1ltl+VUCCGEEEIcVKDkOdrMfmAlhdCY8NnLzOzlVlIkfcKiwPqUlZRI06ykVEqRtZEQQgjx4pllcd79pJXmY7OSkii1HFqb/O7Pyf//amb/Zy2VTEIIIYQQQuw1H7YolL4q++7VZjbBSn6M/hh+9xsz+7aZLTSzHl2WSyGEEOLgp5eZ/dpitLONZvbm7DfnWVQObbOS/6JxZnaDmf138t0pXZNlIYQQQghxMIE1UH8z+4mZfS/836xkXfSy5LdftZLg+Wsz+75FQfQ+M7vCzAaborEIIYQQLwbm3e5W8hv4gpn92Mw2m9m/hO8WW5yD52TXH2Fmm6zky+h5a30TSAghhBBCiA7xz2b2BSsJnpeHzzimdnjy3Y+tdGxtlJntspLZ+x/Cd18zs9d1WY6FEEKIg5NKCqNLzGyVRUXRuRWue7mVrIE5Pv6v+ze7QgghhBDib508SkoaYrfWSoLlTyxGPzvMoqLoJ2Y2MLnOzKzazLZbyefRsP2TZSGEEOKQ4fDs354WFUa/tKgoOiO5Jg00wXVnmNmfzOxXZtZnf2VWCCGEEEL87ZMqiqrN7LXh/wiZ/2xmn7eSEDo7fHaHRUURx9MOt5bOrKusPEKaEEIIIfaOfJ5+Y/h/D4sKo79Y6WhZVSvXpH9fEH7/lVZ+I4QQQgghhJm1VO78l5UEyAVm9orsd5dY3L2818oVRYp4JoQQQnQ+leZpfAH2MLOfh89/YCW/RLnT61QphFXwemtpRSyEEEIIIUQZm60kPD5nZmOt5AjTLAqRr7TSLiRm7j82s0HhOymKhBBCiP1LPk+/3KISKPdhtMnMjgzfHZHc40PhNw9auUJJCCGEEEKIFruMR1opBO8vzWxAhd+/3MzebSUh8/cWfRS9rMLvhRBCCLHvdHSebkth9Jbkd1dZtBDu2+m5FUIIIYQQf/OkAuhIMxthpZ3Kxa18n9LHzH5tJWHzIpNFkRBCCLE/2Nt5upLCaK2ZvcHM3hs++5VV3hQSQgghhBDCzMxustJO5fus5Bizro3fHhbSFVYSOG+20tE0M/k7EEIIIfYHezNPV1IY3R/+/2uTokgIIYQQQrTDKCsJoM+b2X+b2R/NbHr4rq2jZadY9Fs0Z39mUAghhDiE2Zd5ujWFkRRFQgghhBBirzjJzL5qJUH0BTO7OvmurSNmHwm//5aZ9d5vuRNCCCEObfZlnk4VRn8K10lRJIQQQggh2iUVMN9mZnusJIj+0czeUeF3ZvG42SIrCZ8/NLPX76c8CiGEEIcq+zpPAwqjbiZn1kIIIYQQoh1Sh5ipCfspZnaPmf3VzL5tZmcm37UmiL7OzO42s+GdnD8hhBDiUKaz5un8XkIIIYQQQji5AHlEG9+fbGZft3i8rJIgyv9f3hkZFEIIIQ5h9sc8LYQQQgghREXSHckTzOwyM/uSmV1rZo1mdpSZvSa75iQz+5qVBNGHTIKoEEIIsb/QPC2EEEIIIbqU1PT83Wb2B4sRUUjfNbPLrdxBdVuCaJUJIYQQ4sWieVoIIYQQQnQp6c7itVYSJp81s3eZ2dbw71Ph8/8xs8+aWb/sHqkg+g0zm7tfcyyEEEIcOmieFkIIIYQQB4wNVhIif2pmA7Pv3mJmHzWz31jJWeanrBRiN+UkM/tKuMdXrNwUXgghhBD7juZpIYQQQgjRpXQzs/ustCM5IXx2RPbvG8zsCivtZv7GzFZbabcz9aFwmpndYeVCrBBCCCH2Hc3TQgghhBCiy6mx0k7j42b2+la+xwT+X8zs8+G33zSzf8i+NzN71X7KoxBCCHGoonlaCCGEEEJ0OadbSbB82MxeW+E3CJoDzey34fezku/lJFMIIYTYP2ieFkIIIYQQXc5pVhIqn7HoFLM1ofJlZvZKi04y53dJ7oQQQohDG83TQgghhBCiy/knK+1WvmBmHzez14XPKwmiXw2/Pb9LcieEEEIc2mieFkIIIYQQnU5bpueHWck55jYrOc78uZldYmavDt8fHv7FgeY/mdkTZvYzMxvS6TkVQgghDj00TwshhBBCiC7l8OT/f2clXwevbuV3/c3sfivtRD5hZuss7lymfCT85lYrCaRCCCGE2Hc0TwshhBBCiC4lFUDXWUlw/L6ZPWRmcyz6PYCRVoq08oKZ/c7M7jWzk6wUheUEM/t0+O7nZtZ7f2ZcCCGEOATQPC2EEEIIIbqUNEwuu4zPh39fMLM/mdlNZjY9u264mX3RzH6Z/O4FM/tr+PcxK+1uCiGEEGLf0TwthBBCCCEOGLusJDz+0syWmdk8M7vKzH5vJcFyj5kdn13Tw8xmm9kXzOyHZvasmX3JSv4SunVFpoUQQohDBM3TQgghhBBiv5PuVL7JzH5qpVC7A7LfLTCzR6wkiN5j5YIovNHMeob/v6zzsimEEEIckmieFkIIIYQQXUoqJHY3sylm9r9mNiN8dri19I9wtpVC8f7VSmF2U0H0iOT/CLZtRWsRQgghRNtonhZCCCGEEAeMW83sM2a2ysz+bCWHmCnprmZbgqiETiGEEKLz0TwthBBCCCG6lIkWnWN+38x+ayUTdbOWwmdbguhx+z+bQgghxCGJ5mkhhBBCCHFAOMtKjjERRtcm36W7kK0Jov9rZt+xUhheIYQQQnQ+mqeFEEIIIUSXkQqV51gURO+00k4mVBJEzzKzn5nZbyw6yxRCCCFE56B5WgghhBBCdBlt7UL+0UqC6I1mNrYD15xuZr0kes3uAAAP0klEQVQ7O4NCCCHEIYzmaSGEEEIIsd85rJ2/X578/ywz+x8rCaI3WccEUSGEEELsO5qnhRBCCCFEl5KG1J1kZsvM7GozazSzd5rZ61q5JhVE851LIYQQQnQemqeFEEIIIUSXkgqg/25mz1h0jkl63MzmmtmbsmsliAohhBD7F83TQgghhBCiS0nNz6+1kjD5nJUEyneZ2d1m9uPw+X+b2S4rd36ZCqI3mNmE/ZlhIYQQ4hBC87QQQgghhDhgbLOSEPkzMxucfP4aM+trZl8L3z9jZlvM7PXZ9Wm43mvM7BX7N7tCCCHEIYXmaSGEEEII0aX0N7NHrRQ5ZUz47GXhX0zfX2lmn7WSkPlzMzsufJ4605xnZk+Z2dH7M7NCCCHEIYbmaSGEEEII0eWcZiXh8kEze5W1jJJiFgXRV4XfvGBmD1gUQFMT+dfsv2wKIYQQhySap4UQQgghRJezyEqC5efa+A07mNVWMnH/nZkNT76vyv4VQgghROegeVoIIYQQQnQah7XxXSosnmclIfS3VjJ1b4u3WMmB5gtmdvKLyp0QQghxaKN5WgghhBBCHBBeaaWoJwvMbJaZnWpmf2ctBdR+Vgq5+yczW2clM/bWqArXfsdKQugp+yfLQgghxCGD5mkhhBBCCNFl9LWS4PmYlRxivpCke83sMjPrHn77OjO7JXz3sJWcYr48u98R4d8jreQ48wdm9qb9l30hhBDioEbztBBCCCGE6FJqzexLZvY/VhIsf2JmT5rZb8zsfy2asn/dYkSUvmb2tEWnmG8zs9e2cu/rwm/+yyrvbAohhBCiMpqnhRBCCCFEl3K6mT1nJUHxZiv5OXiDlQTKUWZ2lpV2HNm9fNrMRoZrJ1gURJ8wsw+Y2Xgr+Uc4JtzvBTP7mZn16pK3EUIIIQ4uNE8LIYQQQoguZa5F4XKNlfwgtOY8s5eZfczMfhl++//MbFD4brSVdjhTc/g/Wtz9/L6171xTCCGEEOXMNc3TQgghhBCiC5lnUWhc3MbvEErfZKUdyWfCNXdZ9I3wFjNrNLO7zez58P19Zvbu5DdCCCGE6Diap4UQQgghRJeSCqCLks8rheQlHO9bzOyTFs3cz0uuwVFmfzMbYGaHW7kzTSGEEEK0j+ZpIYQQQgjRpaQC6Nzw2WFWWQAFBNE+Fnctv9TK91WtfCaEEEKIjqF5WgghhBBCdCn/YGY3WhRCb0i+e1kHrkdQvcDM/mwlh5tjOzODQgghxCGM5mkhhBBCCHFA+Dcz+6BFx5afSL7riCBqZnaclYTQv5rZpE7NnRBCCHFoo3laCCGEEEIcEI40sw9bFERvTr5rSxDFXH2wmf3azP7PzMbtjwwKIYQQhzCap4UQQgghxAHh32zfBFEzs/Fm9icz+7mZHbVfcieEEEIc2mieFkIIIYQQB4R92bl8hZldHn7/0f2aOyGEEOLQRvO0EEIIIYQ4IHRUEOX/Pc3sO2b2UzObFj5TNBUhhBBi/6B5WgghhBBCHBDaM3U/PPn7M+E3V5rZP3ZVBoUQQohDGM3TQgghhBDigNDWziX8R/juATN7S9dlTQghhDjk0TwthBBCCCEOCLkg+snkuw+Gz35qcpYphBBCHAg0TwshhBBCiANCLoj+l5m9P/z/V2bW/8BlTQghhDjk0TwthBBCCCEOCLlvBAmgQgghxEsHzdNCCCGEEOKAcKRFk/Y/mNmAA5sdIYQQQiRonhZCCCGEEAeEN5vZe007lUIIIcRLEc3TQgghhBDigPCyA50BIYQQQlRE87QQQgghhBBCCCGEEEIIIYQQQgghhBBCCCGEEEIIIYQQQgghhBBCCCGEEEIIIYQQQgghhBBCCCGEEEIIIYQQQgghhBBCCCGEEEIIIYQQQgghhBBCCCGEEEIIIYQQQgghhBBCCCGEEEIIIYQQQgghhBBCCCGEEEIIIYQQQgghhBBCCCGEEEIIIYQQQgghhBBCCCGEEEIIIYQQQgjxYrjbzAoz23Rgs3FIco2Vyv6afbx+U7j+7k7JzUuba0xlJYQQQgghhBBCdAl329+OsqiHlfK56YDmovO4xg4uBUgP23/1c40dXGUlhBBCCCGEEEK8ZLnb/naURVOslNfiAOejs7jGXpwC5Hwze9zMru2k/LxYptj+q5+dVnrXnft4/SaTskgIIYQQQgghhOgQd5uURQeKa+zFKYteakyxl279bDIpi4QQQgghhBBCiA5xt0lZdKC4xqQs6io2mZRFQgghhBBCCCFEh7jborKoyswWmtl9ZvasmT1nZl8zs7PbucdJZnaLmT1lZn8xs2fM7ItmNsfMDmvjulFWOkL1AzP7U0g/NbN7zWy7mfVLfvtji4qI1tLd7eSxI8wws9uS93g25O3zZnaxmf1T9vtrrH1lz9zwmx+38l16fZWZLTCzr5vZ78zsD2Z2v5kttspluMnaf/fXmdlGM/uGmf3WzP5spTK+3szGtHEdTDGzj5rZj8zsf0LeHjWzD5lZbfK7H9v+rZ9rrP2yPsPM9pjZ763Udr9lZivN7GUmZZEQQgghhBBCCNFh7rbSInqrmX0q/P//rLTgThf7m1u59ggrKRL4zQtm9hszez757Itm9upWrj3HzP6a/O4vVlJmpM9cl/z+G+HefPeLLH1ir9+8JR/Inv1HKykc0s8mZNdcY52nLLo+/P+vVnrPtGxuNbOXt3L9JmtbATLJzH6V3Of57J1eMLNVFa59hZldZy3f/zlrWUe/S36/v+vnGqtc1lVmdpW1fK/fWmyHd1lJ+ShlkRBCCCGEEEII0QHuttIi+jdWsqSZZ2Z/H757s5l92qISo0927W6LC/RGM3t9+PxVVrLoYLF+Y3bd31tURt1uZoOT714R/t5oZudm101JnteZjE/u22RmRybf/aOZTTSz95nZsOy6a6xzlEX/v717C/HjquMA/m2MNrVakwbpRbxV0bZQREUURf17Ae2DVUGRasWAN9QYgxcoCrrWWrzg7a0StUvBS2sfBEEtxfrHWwNV2ocgFqtGbYvaJmlijbbRrA9nhpmdzPz/u9v9Z+Pm84E/LGfmzJyZ2Zf5cs5vDqQEHHNpZi9tSXJla1yf6+k/l+EA5IKU2UkLSa5Juacbq21np4QnR6rtl/T0r4Oio0m+nOSprW2bk7w+yXWdPqPM5vkkk+/1+1rn3ZVyfUlyepIdWRxEjmcwNgAAAFhXxmletF/Zs/3UJHdX2z/Waj835SV8IclXBo69s3Xs9pKn57Xaz+npN2SU2YQRH6mOeccy+81ndcKihSRXDfT/fJqZV2d3ts1lOAC5MU2IN+RD1T63ddpf1hrXzgn9u0Y5/mHRpjSzp7qhZO29rXGNZzA2AAAAWFfGKS/Rv5iwzzeqfdozSXZUbQ8m2TrQb2NK/Z+FlNkptWekeXl/zjLGOspswoh3Vce8J2U2ylLNZ3XCon8lOWOg/5aUe7yQZHtn21z6A5Anp5kN9vgJY9ua5n6e1WqvZxX9NmWJ11KNcvzDote0znnhQN9HpAk8xzMYGwAAAKwr45SX6C9O2KdeDnVTq+3aqm33lOPXtXjaYdSGJL+p2v+e5Iokz09/XZ62UWYTRpyXEtgsJNmTEsqcn+lByXxWJyz66ZTz7B44z1z6A5C3pAmLurWDur++mV9/zPRZSX1GOf5h0RVpgr5J6tpa41UeFwAAAKw745SX6LkJ+8zl2BftH1Vt351y/M9U+/2u035RkjuzuIDyg0l+nrIs7MyeY40yuzDiTTm2qPf9KTWbLksp5t01n9UJi749ZWw3VPv9sNM+l/4ApF5Wt5zfqNW/Ds66M5mmGWV2z2c+/ff66qr91in96//D8SqPCwAAANadcdYmLEpKAPPalOLRt2fxF8D2J3l5Z/9RZhdGJKVw8ztSZkP9IYvDlD1JntDZfz4nZlh0edV+35TjDjkcYREAAACctMZZWVhUL0O7Zcrx+5ahDdmc8gW0u6o+f83ipWmjzDYs6npSSlHvumZQ9/PvX6vavzPhGB/Iw1+GdkuWtwxtW5plaEO1kCapgzLL0AAAAOAkNM7KwqL3p1k61rdkLCmFhe/JsQWup7k4Tejw3Fb7S1rtyym8/HB9tjrnPzrt9ZfKJgVh38r0sOhwkscO9N+c5N9ZXoHrp6e5T5dOGNuQlRa4nuXzmc/0AtfnD/TdkCaAHK/yuAAAAGDdGWdlYdG5KZ9zX0jyhYF+daDULaB86pQxvbTV79mt9me12ocCqpWYNp5PVOc82Gm/rGp/KMkTe/pdkCbo2duzfT7N9Xxq4Nz18qmHkpzT2TaX4QDk5mrb7zP9XnW3j1rj2jmlb9usnk8yHBZtSrIvk5fzvbs1rvEqjwsAAADWnXFWFhYlzYybhervrVX7Y5J8MMmRatt1nX5vS/LLJO9JmQVTz0LZkOTFab6U9ueU2Um109IsCbs8qzd7ZVdKXaA3Jjm71b4p5ctih6pzfrPT73Eps43q5XjPrNrrWkx3p9RemhYWHUhyNMnHq2MmZUbRJ6v2oUBuLsMByIWtcd+Z5A1JHt3aflZ1vd9LcmNP/3r54NEkX0rylNa2zUneXPVtm9XzSSbXh9qR5v/w6pRrS8r1bq/GdCDCIgAAAFiScVYeFj0yTahQBwv7k/yn1fbjHLvEaltre72U7b5Ov/uTvKhnLF9t7XM4yZ9SgphJdYOmme+M54HqOo622vakCSHa3t7Z71CawGR3SlgxLSyaT3Mf/1udu13s+wfpn/00l8kByAvSLL+qj72vur729d7U0/e0lJCvvd+hNKFL/Yy6ZvF8kslh0SlJvt46b/1/WIeVP0ny6QiLAAAAYEnGWXlYVLskyfeT/C3lBX1fSki0LWW2UNeZSd6a8oJ/W0oh6yMpYcSvk1yVxTN82h6VUnT69pTQow5qhsa2FE9LWTJ3Q8qspjpouDclaNieyUvVLk653oMpAcmeJB+txrotSwuLTknyzpSA6WCSfyb5Vcrsq757mEx/LklyekqR7Zur6zlSHfuOJNenfP1ty4T+r6r2+0tKCLa/ur5dSV7Rs/8snk+ytC/PXZrkZyn/Rw9UY/hwko1Z2r0CAAAA+L92ZUoA0reMDAAAAICTzDUpYdG1az0QAAAAANbWRSnLyhZSlqoBAAAAcBJ6dUpNo7qY811JzljTEQEAAACcoG5NKZa9nN8L12SkK/e6lKLR96Z8rey8tR3OspwMzwcAAAA4gezN4k+9L+U3WoNxnqz2xvMBAAAAAAAAAAAAAAAAAAAAAAAAAAAAAAAAAAAAAAAAAAAAAAAAAAAAAAAAAAAAAAAAAAAAAAAAAAAAAAAAAAAAAAAAAAAAAAAAAAAAAAAAAAAAAAAAAAAAAAAAAAAAAAAAAAAAAAAAAAAAAAAAAAAAAAAAAAAAAAAAAAAAAAAAAAAAAACAE8v/AI10jQAhhNhsAAAAAElFTkSuQmCC\" width=\"639.6499809369451\">"
      ],
      "text/plain": [
       "<IPython.core.display.HTML object>"
      ]
     },
     "metadata": {},
     "output_type": "display_data"
    }
   ],
   "source": [
    "alm_feces.plot(sample_field='host_subject_id', gui='jupyter',sample_color_bars=['travel','diarrhea_donor_A', 'diarrhea_donor_B']);"
   ]
  },
  {
   "cell_type": "markdown",
   "metadata": {},
   "source": [
    "By exploring the heatmap, we found that two sOTUs with sequences\n",
    "__`TACGTAGGTGGCAAGCGTTGTCCGGAATTATTGGGCGTAAAGCGCGCGCAGGCGGATAGGTCAGTCTGTCTTAAAAGTTCGGGGCTTAACCCCGTGATGG`__ and __`TACGGAGGGTGCAAGCGTTAATCGGAATTACTGGGCGTAAAGCGCACGCAGGCGGTTTGTTAAGTCAGATGTGAAATCCCCGGGCTCAACCTGGGAACTG`__ are increased in both of the donors during the diarrhea and then are decreased after diarrhea. We can look at the taxonomy of these 2 sOTUs:"
   ]
  },
  {
   "cell_type": "code",
   "execution_count": 36,
   "metadata": {
    "collapsed": false
   },
   "outputs": [
    {
     "data": {
      "text/plain": [
       "['k__Bacteria',\n",
       " 'p__Firmicutes',\n",
       " 'c__Clostridia',\n",
       " 'o__Clostridiales',\n",
       " 'f__Veillonellaceae',\n",
       " 'g__Veillonella',\n",
       " 's__dispar']"
      ]
     },
     "execution_count": 36,
     "metadata": {},
     "output_type": "execute_result"
    }
   ],
   "source": [
    "alm_feces.feature_metadata.loc['TACGTAGGTGGCAAGCGTTGTCCGGAATTATTGGGCGTAAAGCGCGCGCAGGCGGATAGGTCAGTCTGTCTTAAAAGTTCGGGGCTTAACCCCGTGATGG', 'taxonomy']"
   ]
  },
  {
   "cell_type": "code",
   "execution_count": 37,
   "metadata": {
    "collapsed": false
   },
   "outputs": [
    {
     "data": {
      "text/plain": [
       "['k__Bacteria',\n",
       " 'p__Proteobacteria',\n",
       " 'c__Gammaproteobacteria',\n",
       " 'o__Enterobacteriales',\n",
       " 'f__Enterobacteriaceae',\n",
       " 'g__Serratia',\n",
       " 's__marcescens']"
      ]
     },
     "execution_count": 37,
     "metadata": {},
     "output_type": "execute_result"
    }
   ],
   "source": [
    "alm_feces.feature_metadata.loc['TACGGAGGGTGCAAGCGTTAATCGGAATTACTGGGCGTAAAGCGCACGCAGGCGGTTTGTTAAGTCAGATGTGAAATCCCCGGGCTCAACCTGGGAACTG', 'taxonomy']"
   ]
  },
  {
   "cell_type": "markdown",
   "metadata": {},
   "source": [
    "__And we can reproduce the view we found by setting the `rect` parameter. In this view, you can see the dynamic of one of the two sOTUs:__"
   ]
  },
  {
   "cell_type": "code",
   "execution_count": 38,
   "metadata": {
    "collapsed": false
   },
   "outputs": [
    {
     "data": {
      "application/javascript": [
       "/* Put everything inside the global mpl namespace */\n",
       "window.mpl = {};\n",
       "\n",
       "\n",
       "mpl.get_websocket_type = function() {\n",
       "    if (typeof(WebSocket) !== 'undefined') {\n",
       "        return WebSocket;\n",
       "    } else if (typeof(MozWebSocket) !== 'undefined') {\n",
       "        return MozWebSocket;\n",
       "    } else {\n",
       "        alert('Your browser does not have WebSocket support.' +\n",
       "              'Please try Chrome, Safari or Firefox ≥ 6. ' +\n",
       "              'Firefox 4 and 5 are also supported but you ' +\n",
       "              'have to enable WebSockets in about:config.');\n",
       "    };\n",
       "}\n",
       "\n",
       "mpl.figure = function(figure_id, websocket, ondownload, parent_element) {\n",
       "    this.id = figure_id;\n",
       "\n",
       "    this.ws = websocket;\n",
       "\n",
       "    this.supports_binary = (this.ws.binaryType != undefined);\n",
       "\n",
       "    if (!this.supports_binary) {\n",
       "        var warnings = document.getElementById(\"mpl-warnings\");\n",
       "        if (warnings) {\n",
       "            warnings.style.display = 'block';\n",
       "            warnings.textContent = (\n",
       "                \"This browser does not support binary websocket messages. \" +\n",
       "                    \"Performance may be slow.\");\n",
       "        }\n",
       "    }\n",
       "\n",
       "    this.imageObj = new Image();\n",
       "\n",
       "    this.context = undefined;\n",
       "    this.message = undefined;\n",
       "    this.canvas = undefined;\n",
       "    this.rubberband_canvas = undefined;\n",
       "    this.rubberband_context = undefined;\n",
       "    this.format_dropdown = undefined;\n",
       "\n",
       "    this.image_mode = 'full';\n",
       "\n",
       "    this.root = $('<div/>');\n",
       "    this._root_extra_style(this.root)\n",
       "    this.root.attr('style', 'display: inline-block');\n",
       "\n",
       "    $(parent_element).append(this.root);\n",
       "\n",
       "    this._init_header(this);\n",
       "    this._init_canvas(this);\n",
       "    this._init_toolbar(this);\n",
       "\n",
       "    var fig = this;\n",
       "\n",
       "    this.waiting = false;\n",
       "\n",
       "    this.ws.onopen =  function () {\n",
       "            fig.send_message(\"supports_binary\", {value: fig.supports_binary});\n",
       "            fig.send_message(\"send_image_mode\", {});\n",
       "            if (mpl.ratio != 1) {\n",
       "                fig.send_message(\"set_dpi_ratio\", {'dpi_ratio': mpl.ratio});\n",
       "            }\n",
       "            fig.send_message(\"refresh\", {});\n",
       "        }\n",
       "\n",
       "    this.imageObj.onload = function() {\n",
       "            if (fig.image_mode == 'full') {\n",
       "                // Full images could contain transparency (where diff images\n",
       "                // almost always do), so we need to clear the canvas so that\n",
       "                // there is no ghosting.\n",
       "                fig.context.clearRect(0, 0, fig.canvas.width, fig.canvas.height);\n",
       "            }\n",
       "            fig.context.drawImage(fig.imageObj, 0, 0);\n",
       "        };\n",
       "\n",
       "    this.imageObj.onunload = function() {\n",
       "        this.ws.close();\n",
       "    }\n",
       "\n",
       "    this.ws.onmessage = this._make_on_message_function(this);\n",
       "\n",
       "    this.ondownload = ondownload;\n",
       "}\n",
       "\n",
       "mpl.figure.prototype._init_header = function() {\n",
       "    var titlebar = $(\n",
       "        '<div class=\"ui-dialog-titlebar ui-widget-header ui-corner-all ' +\n",
       "        'ui-helper-clearfix\"/>');\n",
       "    var titletext = $(\n",
       "        '<div class=\"ui-dialog-title\" style=\"width: 100%; ' +\n",
       "        'text-align: center; padding: 3px;\"/>');\n",
       "    titlebar.append(titletext)\n",
       "    this.root.append(titlebar);\n",
       "    this.header = titletext[0];\n",
       "}\n",
       "\n",
       "\n",
       "\n",
       "mpl.figure.prototype._canvas_extra_style = function(canvas_div) {\n",
       "\n",
       "}\n",
       "\n",
       "\n",
       "mpl.figure.prototype._root_extra_style = function(canvas_div) {\n",
       "\n",
       "}\n",
       "\n",
       "mpl.figure.prototype._init_canvas = function() {\n",
       "    var fig = this;\n",
       "\n",
       "    var canvas_div = $('<div/>');\n",
       "\n",
       "    canvas_div.attr('style', 'position: relative; clear: both; outline: 0');\n",
       "\n",
       "    function canvas_keyboard_event(event) {\n",
       "        return fig.key_event(event, event['data']);\n",
       "    }\n",
       "\n",
       "    canvas_div.keydown('key_press', canvas_keyboard_event);\n",
       "    canvas_div.keyup('key_release', canvas_keyboard_event);\n",
       "    this.canvas_div = canvas_div\n",
       "    this._canvas_extra_style(canvas_div)\n",
       "    this.root.append(canvas_div);\n",
       "\n",
       "    var canvas = $('<canvas/>');\n",
       "    canvas.addClass('mpl-canvas');\n",
       "    canvas.attr('style', \"left: 0; top: 0; z-index: 0; outline: 0\")\n",
       "\n",
       "    this.canvas = canvas[0];\n",
       "    this.context = canvas[0].getContext(\"2d\");\n",
       "\n",
       "    var backingStore = this.context.backingStorePixelRatio ||\n",
       "\tthis.context.webkitBackingStorePixelRatio ||\n",
       "\tthis.context.mozBackingStorePixelRatio ||\n",
       "\tthis.context.msBackingStorePixelRatio ||\n",
       "\tthis.context.oBackingStorePixelRatio ||\n",
       "\tthis.context.backingStorePixelRatio || 1;\n",
       "\n",
       "    mpl.ratio = (window.devicePixelRatio || 1) / backingStore;\n",
       "\n",
       "    var rubberband = $('<canvas/>');\n",
       "    rubberband.attr('style', \"position: absolute; left: 0; top: 0; z-index: 1;\")\n",
       "\n",
       "    var pass_mouse_events = true;\n",
       "\n",
       "    canvas_div.resizable({\n",
       "        start: function(event, ui) {\n",
       "            pass_mouse_events = false;\n",
       "        },\n",
       "        resize: function(event, ui) {\n",
       "            fig.request_resize(ui.size.width, ui.size.height);\n",
       "        },\n",
       "        stop: function(event, ui) {\n",
       "            pass_mouse_events = true;\n",
       "            fig.request_resize(ui.size.width, ui.size.height);\n",
       "        },\n",
       "    });\n",
       "\n",
       "    function mouse_event_fn(event) {\n",
       "        if (pass_mouse_events)\n",
       "            return fig.mouse_event(event, event['data']);\n",
       "    }\n",
       "\n",
       "    rubberband.mousedown('button_press', mouse_event_fn);\n",
       "    rubberband.mouseup('button_release', mouse_event_fn);\n",
       "    // Throttle sequential mouse events to 1 every 20ms.\n",
       "    rubberband.mousemove('motion_notify', mouse_event_fn);\n",
       "\n",
       "    rubberband.mouseenter('figure_enter', mouse_event_fn);\n",
       "    rubberband.mouseleave('figure_leave', mouse_event_fn);\n",
       "\n",
       "    canvas_div.on(\"wheel\", function (event) {\n",
       "        event = event.originalEvent;\n",
       "        event['data'] = 'scroll'\n",
       "        if (event.deltaY < 0) {\n",
       "            event.step = 1;\n",
       "        } else {\n",
       "            event.step = -1;\n",
       "        }\n",
       "        mouse_event_fn(event);\n",
       "    });\n",
       "\n",
       "    canvas_div.append(canvas);\n",
       "    canvas_div.append(rubberband);\n",
       "\n",
       "    this.rubberband = rubberband;\n",
       "    this.rubberband_canvas = rubberband[0];\n",
       "    this.rubberband_context = rubberband[0].getContext(\"2d\");\n",
       "    this.rubberband_context.strokeStyle = \"#000000\";\n",
       "\n",
       "    this._resize_canvas = function(width, height) {\n",
       "        // Keep the size of the canvas, canvas container, and rubber band\n",
       "        // canvas in synch.\n",
       "        canvas_div.css('width', width)\n",
       "        canvas_div.css('height', height)\n",
       "\n",
       "        canvas.attr('width', width * mpl.ratio);\n",
       "        canvas.attr('height', height * mpl.ratio);\n",
       "        canvas.attr('style', 'width: ' + width + 'px; height: ' + height + 'px;');\n",
       "\n",
       "        rubberband.attr('width', width);\n",
       "        rubberband.attr('height', height);\n",
       "    }\n",
       "\n",
       "    // Set the figure to an initial 600x600px, this will subsequently be updated\n",
       "    // upon first draw.\n",
       "    this._resize_canvas(600, 600);\n",
       "\n",
       "    // Disable right mouse context menu.\n",
       "    $(this.rubberband_canvas).bind(\"contextmenu\",function(e){\n",
       "        return false;\n",
       "    });\n",
       "\n",
       "    function set_focus () {\n",
       "        canvas.focus();\n",
       "        canvas_div.focus();\n",
       "    }\n",
       "\n",
       "    window.setTimeout(set_focus, 100);\n",
       "}\n",
       "\n",
       "mpl.figure.prototype._init_toolbar = function() {\n",
       "    var fig = this;\n",
       "\n",
       "    var nav_element = $('<div/>')\n",
       "    nav_element.attr('style', 'width: 100%');\n",
       "    this.root.append(nav_element);\n",
       "\n",
       "    // Define a callback function for later on.\n",
       "    function toolbar_event(event) {\n",
       "        return fig.toolbar_button_onclick(event['data']);\n",
       "    }\n",
       "    function toolbar_mouse_event(event) {\n",
       "        return fig.toolbar_button_onmouseover(event['data']);\n",
       "    }\n",
       "\n",
       "    for(var toolbar_ind in mpl.toolbar_items) {\n",
       "        var name = mpl.toolbar_items[toolbar_ind][0];\n",
       "        var tooltip = mpl.toolbar_items[toolbar_ind][1];\n",
       "        var image = mpl.toolbar_items[toolbar_ind][2];\n",
       "        var method_name = mpl.toolbar_items[toolbar_ind][3];\n",
       "\n",
       "        if (!name) {\n",
       "            // put a spacer in here.\n",
       "            continue;\n",
       "        }\n",
       "        var button = $('<button/>');\n",
       "        button.addClass('ui-button ui-widget ui-state-default ui-corner-all ' +\n",
       "                        'ui-button-icon-only');\n",
       "        button.attr('role', 'button');\n",
       "        button.attr('aria-disabled', 'false');\n",
       "        button.click(method_name, toolbar_event);\n",
       "        button.mouseover(tooltip, toolbar_mouse_event);\n",
       "\n",
       "        var icon_img = $('<span/>');\n",
       "        icon_img.addClass('ui-button-icon-primary ui-icon');\n",
       "        icon_img.addClass(image);\n",
       "        icon_img.addClass('ui-corner-all');\n",
       "\n",
       "        var tooltip_span = $('<span/>');\n",
       "        tooltip_span.addClass('ui-button-text');\n",
       "        tooltip_span.html(tooltip);\n",
       "\n",
       "        button.append(icon_img);\n",
       "        button.append(tooltip_span);\n",
       "\n",
       "        nav_element.append(button);\n",
       "    }\n",
       "\n",
       "    var fmt_picker_span = $('<span/>');\n",
       "\n",
       "    var fmt_picker = $('<select/>');\n",
       "    fmt_picker.addClass('mpl-toolbar-option ui-widget ui-widget-content');\n",
       "    fmt_picker_span.append(fmt_picker);\n",
       "    nav_element.append(fmt_picker_span);\n",
       "    this.format_dropdown = fmt_picker[0];\n",
       "\n",
       "    for (var ind in mpl.extensions) {\n",
       "        var fmt = mpl.extensions[ind];\n",
       "        var option = $(\n",
       "            '<option/>', {selected: fmt === mpl.default_extension}).html(fmt);\n",
       "        fmt_picker.append(option)\n",
       "    }\n",
       "\n",
       "    // Add hover states to the ui-buttons\n",
       "    $( \".ui-button\" ).hover(\n",
       "        function() { $(this).addClass(\"ui-state-hover\");},\n",
       "        function() { $(this).removeClass(\"ui-state-hover\");}\n",
       "    );\n",
       "\n",
       "    var status_bar = $('<span class=\"mpl-message\"/>');\n",
       "    nav_element.append(status_bar);\n",
       "    this.message = status_bar[0];\n",
       "}\n",
       "\n",
       "mpl.figure.prototype.request_resize = function(x_pixels, y_pixels) {\n",
       "    // Request matplotlib to resize the figure. Matplotlib will then trigger a resize in the client,\n",
       "    // which will in turn request a refresh of the image.\n",
       "    this.send_message('resize', {'width': x_pixels, 'height': y_pixels});\n",
       "}\n",
       "\n",
       "mpl.figure.prototype.send_message = function(type, properties) {\n",
       "    properties['type'] = type;\n",
       "    properties['figure_id'] = this.id;\n",
       "    this.ws.send(JSON.stringify(properties));\n",
       "}\n",
       "\n",
       "mpl.figure.prototype.send_draw_message = function() {\n",
       "    if (!this.waiting) {\n",
       "        this.waiting = true;\n",
       "        this.ws.send(JSON.stringify({type: \"draw\", figure_id: this.id}));\n",
       "    }\n",
       "}\n",
       "\n",
       "\n",
       "mpl.figure.prototype.handle_save = function(fig, msg) {\n",
       "    var format_dropdown = fig.format_dropdown;\n",
       "    var format = format_dropdown.options[format_dropdown.selectedIndex].value;\n",
       "    fig.ondownload(fig, format);\n",
       "}\n",
       "\n",
       "\n",
       "mpl.figure.prototype.handle_resize = function(fig, msg) {\n",
       "    var size = msg['size'];\n",
       "    if (size[0] != fig.canvas.width || size[1] != fig.canvas.height) {\n",
       "        fig._resize_canvas(size[0], size[1]);\n",
       "        fig.send_message(\"refresh\", {});\n",
       "    };\n",
       "}\n",
       "\n",
       "mpl.figure.prototype.handle_rubberband = function(fig, msg) {\n",
       "    var x0 = msg['x0'] / mpl.ratio;\n",
       "    var y0 = (fig.canvas.height - msg['y0']) / mpl.ratio;\n",
       "    var x1 = msg['x1'] / mpl.ratio;\n",
       "    var y1 = (fig.canvas.height - msg['y1']) / mpl.ratio;\n",
       "    x0 = Math.floor(x0) + 0.5;\n",
       "    y0 = Math.floor(y0) + 0.5;\n",
       "    x1 = Math.floor(x1) + 0.5;\n",
       "    y1 = Math.floor(y1) + 0.5;\n",
       "    var min_x = Math.min(x0, x1);\n",
       "    var min_y = Math.min(y0, y1);\n",
       "    var width = Math.abs(x1 - x0);\n",
       "    var height = Math.abs(y1 - y0);\n",
       "\n",
       "    fig.rubberband_context.clearRect(\n",
       "        0, 0, fig.canvas.width, fig.canvas.height);\n",
       "\n",
       "    fig.rubberband_context.strokeRect(min_x, min_y, width, height);\n",
       "}\n",
       "\n",
       "mpl.figure.prototype.handle_figure_label = function(fig, msg) {\n",
       "    // Updates the figure title.\n",
       "    fig.header.textContent = msg['label'];\n",
       "}\n",
       "\n",
       "mpl.figure.prototype.handle_cursor = function(fig, msg) {\n",
       "    var cursor = msg['cursor'];\n",
       "    switch(cursor)\n",
       "    {\n",
       "    case 0:\n",
       "        cursor = 'pointer';\n",
       "        break;\n",
       "    case 1:\n",
       "        cursor = 'default';\n",
       "        break;\n",
       "    case 2:\n",
       "        cursor = 'crosshair';\n",
       "        break;\n",
       "    case 3:\n",
       "        cursor = 'move';\n",
       "        break;\n",
       "    }\n",
       "    fig.rubberband_canvas.style.cursor = cursor;\n",
       "}\n",
       "\n",
       "mpl.figure.prototype.handle_message = function(fig, msg) {\n",
       "    fig.message.textContent = msg['message'];\n",
       "}\n",
       "\n",
       "mpl.figure.prototype.handle_draw = function(fig, msg) {\n",
       "    // Request the server to send over a new figure.\n",
       "    fig.send_draw_message();\n",
       "}\n",
       "\n",
       "mpl.figure.prototype.handle_image_mode = function(fig, msg) {\n",
       "    fig.image_mode = msg['mode'];\n",
       "}\n",
       "\n",
       "mpl.figure.prototype.updated_canvas_event = function() {\n",
       "    // Called whenever the canvas gets updated.\n",
       "    this.send_message(\"ack\", {});\n",
       "}\n",
       "\n",
       "// A function to construct a web socket function for onmessage handling.\n",
       "// Called in the figure constructor.\n",
       "mpl.figure.prototype._make_on_message_function = function(fig) {\n",
       "    return function socket_on_message(evt) {\n",
       "        if (evt.data instanceof Blob) {\n",
       "            /* FIXME: We get \"Resource interpreted as Image but\n",
       "             * transferred with MIME type text/plain:\" errors on\n",
       "             * Chrome.  But how to set the MIME type?  It doesn't seem\n",
       "             * to be part of the websocket stream */\n",
       "            evt.data.type = \"image/png\";\n",
       "\n",
       "            /* Free the memory for the previous frames */\n",
       "            if (fig.imageObj.src) {\n",
       "                (window.URL || window.webkitURL).revokeObjectURL(\n",
       "                    fig.imageObj.src);\n",
       "            }\n",
       "\n",
       "            fig.imageObj.src = (window.URL || window.webkitURL).createObjectURL(\n",
       "                evt.data);\n",
       "            fig.updated_canvas_event();\n",
       "            fig.waiting = false;\n",
       "            return;\n",
       "        }\n",
       "        else if (typeof evt.data === 'string' && evt.data.slice(0, 21) == \"data:image/png;base64\") {\n",
       "            fig.imageObj.src = evt.data;\n",
       "            fig.updated_canvas_event();\n",
       "            fig.waiting = false;\n",
       "            return;\n",
       "        }\n",
       "\n",
       "        var msg = JSON.parse(evt.data);\n",
       "        var msg_type = msg['type'];\n",
       "\n",
       "        // Call the  \"handle_{type}\" callback, which takes\n",
       "        // the figure and JSON message as its only arguments.\n",
       "        try {\n",
       "            var callback = fig[\"handle_\" + msg_type];\n",
       "        } catch (e) {\n",
       "            console.log(\"No handler for the '\" + msg_type + \"' message type: \", msg);\n",
       "            return;\n",
       "        }\n",
       "\n",
       "        if (callback) {\n",
       "            try {\n",
       "                // console.log(\"Handling '\" + msg_type + \"' message: \", msg);\n",
       "                callback(fig, msg);\n",
       "            } catch (e) {\n",
       "                console.log(\"Exception inside the 'handler_\" + msg_type + \"' callback:\", e, e.stack, msg);\n",
       "            }\n",
       "        }\n",
       "    };\n",
       "}\n",
       "\n",
       "// from http://stackoverflow.com/questions/1114465/getting-mouse-location-in-canvas\n",
       "mpl.findpos = function(e) {\n",
       "    //this section is from http://www.quirksmode.org/js/events_properties.html\n",
       "    var targ;\n",
       "    if (!e)\n",
       "        e = window.event;\n",
       "    if (e.target)\n",
       "        targ = e.target;\n",
       "    else if (e.srcElement)\n",
       "        targ = e.srcElement;\n",
       "    if (targ.nodeType == 3) // defeat Safari bug\n",
       "        targ = targ.parentNode;\n",
       "\n",
       "    // jQuery normalizes the pageX and pageY\n",
       "    // pageX,Y are the mouse positions relative to the document\n",
       "    // offset() returns the position of the element relative to the document\n",
       "    var x = e.pageX - $(targ).offset().left;\n",
       "    var y = e.pageY - $(targ).offset().top;\n",
       "\n",
       "    return {\"x\": x, \"y\": y};\n",
       "};\n",
       "\n",
       "/*\n",
       " * return a copy of an object with only non-object keys\n",
       " * we need this to avoid circular references\n",
       " * http://stackoverflow.com/a/24161582/3208463\n",
       " */\n",
       "function simpleKeys (original) {\n",
       "  return Object.keys(original).reduce(function (obj, key) {\n",
       "    if (typeof original[key] !== 'object')\n",
       "        obj[key] = original[key]\n",
       "    return obj;\n",
       "  }, {});\n",
       "}\n",
       "\n",
       "mpl.figure.prototype.mouse_event = function(event, name) {\n",
       "    var canvas_pos = mpl.findpos(event)\n",
       "\n",
       "    if (name === 'button_press')\n",
       "    {\n",
       "        this.canvas.focus();\n",
       "        this.canvas_div.focus();\n",
       "    }\n",
       "\n",
       "    var x = canvas_pos.x * mpl.ratio;\n",
       "    var y = canvas_pos.y * mpl.ratio;\n",
       "\n",
       "    this.send_message(name, {x: x, y: y, button: event.button,\n",
       "                             step: event.step,\n",
       "                             guiEvent: simpleKeys(event)});\n",
       "\n",
       "    /* This prevents the web browser from automatically changing to\n",
       "     * the text insertion cursor when the button is pressed.  We want\n",
       "     * to control all of the cursor setting manually through the\n",
       "     * 'cursor' event from matplotlib */\n",
       "    event.preventDefault();\n",
       "    return false;\n",
       "}\n",
       "\n",
       "mpl.figure.prototype._key_event_extra = function(event, name) {\n",
       "    // Handle any extra behaviour associated with a key event\n",
       "}\n",
       "\n",
       "mpl.figure.prototype.key_event = function(event, name) {\n",
       "\n",
       "    // Prevent repeat events\n",
       "    if (name == 'key_press')\n",
       "    {\n",
       "        if (event.which === this._key)\n",
       "            return;\n",
       "        else\n",
       "            this._key = event.which;\n",
       "    }\n",
       "    if (name == 'key_release')\n",
       "        this._key = null;\n",
       "\n",
       "    var value = '';\n",
       "    if (event.ctrlKey && event.which != 17)\n",
       "        value += \"ctrl+\";\n",
       "    if (event.altKey && event.which != 18)\n",
       "        value += \"alt+\";\n",
       "    if (event.shiftKey && event.which != 16)\n",
       "        value += \"shift+\";\n",
       "\n",
       "    value += 'k';\n",
       "    value += event.which.toString();\n",
       "\n",
       "    this._key_event_extra(event, name);\n",
       "\n",
       "    this.send_message(name, {key: value,\n",
       "                             guiEvent: simpleKeys(event)});\n",
       "    return false;\n",
       "}\n",
       "\n",
       "mpl.figure.prototype.toolbar_button_onclick = function(name) {\n",
       "    if (name == 'download') {\n",
       "        this.handle_save(this, null);\n",
       "    } else {\n",
       "        this.send_message(\"toolbar_button\", {name: name});\n",
       "    }\n",
       "};\n",
       "\n",
       "mpl.figure.prototype.toolbar_button_onmouseover = function(tooltip) {\n",
       "    this.message.textContent = tooltip;\n",
       "};\n",
       "mpl.toolbar_items = [[\"Home\", \"Reset original view\", \"fa fa-home icon-home\", \"home\"], [\"Back\", \"Back to  previous view\", \"fa fa-arrow-left icon-arrow-left\", \"back\"], [\"Forward\", \"Forward to next view\", \"fa fa-arrow-right icon-arrow-right\", \"forward\"], [\"\", \"\", \"\", \"\"], [\"Pan\", \"Pan axes with left mouse, zoom with right\", \"fa fa-arrows icon-move\", \"pan\"], [\"Zoom\", \"Zoom to rectangle\", \"fa fa-square-o icon-check-empty\", \"zoom\"], [\"\", \"\", \"\", \"\"], [\"Download\", \"Download plot\", \"fa fa-floppy-o icon-save\", \"download\"]];\n",
       "\n",
       "mpl.extensions = [\"eps\", \"pdf\", \"png\", \"ps\", \"raw\", \"svg\"];\n",
       "\n",
       "mpl.default_extension = \"png\";var comm_websocket_adapter = function(comm) {\n",
       "    // Create a \"websocket\"-like object which calls the given IPython comm\n",
       "    // object with the appropriate methods. Currently this is a non binary\n",
       "    // socket, so there is still some room for performance tuning.\n",
       "    var ws = {};\n",
       "\n",
       "    ws.close = function() {\n",
       "        comm.close()\n",
       "    };\n",
       "    ws.send = function(m) {\n",
       "        //console.log('sending', m);\n",
       "        comm.send(m);\n",
       "    };\n",
       "    // Register the callback with on_msg.\n",
       "    comm.on_msg(function(msg) {\n",
       "        //console.log('receiving', msg['content']['data'], msg);\n",
       "        // Pass the mpl event to the overriden (by mpl) onmessage function.\n",
       "        ws.onmessage(msg['content']['data'])\n",
       "    });\n",
       "    return ws;\n",
       "}\n",
       "\n",
       "mpl.mpl_figure_comm = function(comm, msg) {\n",
       "    // This is the function which gets called when the mpl process\n",
       "    // starts-up an IPython Comm through the \"matplotlib\" channel.\n",
       "\n",
       "    var id = msg.content.data.id;\n",
       "    // Get hold of the div created by the display call when the Comm\n",
       "    // socket was opened in Python.\n",
       "    var element = $(\"#\" + id);\n",
       "    var ws_proxy = comm_websocket_adapter(comm)\n",
       "\n",
       "    function ondownload(figure, format) {\n",
       "        window.open(figure.imageObj.src);\n",
       "    }\n",
       "\n",
       "    var fig = new mpl.figure(id, ws_proxy,\n",
       "                           ondownload,\n",
       "                           element.get(0));\n",
       "\n",
       "    // Call onopen now - mpl needs it, as it is assuming we've passed it a real\n",
       "    // web socket which is closed, not our websocket->open comm proxy.\n",
       "    ws_proxy.onopen();\n",
       "\n",
       "    fig.parent_element = element.get(0);\n",
       "    fig.cell_info = mpl.find_output_cell(\"<div id='\" + id + \"'></div>\");\n",
       "    if (!fig.cell_info) {\n",
       "        console.error(\"Failed to find cell for figure\", id, fig);\n",
       "        return;\n",
       "    }\n",
       "\n",
       "    var output_index = fig.cell_info[2]\n",
       "    var cell = fig.cell_info[0];\n",
       "\n",
       "};\n",
       "\n",
       "mpl.figure.prototype.handle_close = function(fig, msg) {\n",
       "    var width = fig.canvas.width/mpl.ratio\n",
       "    fig.root.unbind('remove')\n",
       "\n",
       "    // Update the output cell to use the data from the current canvas.\n",
       "    fig.push_to_output();\n",
       "    var dataURL = fig.canvas.toDataURL();\n",
       "    // Re-enable the keyboard manager in IPython - without this line, in FF,\n",
       "    // the notebook keyboard shortcuts fail.\n",
       "    IPython.keyboard_manager.enable()\n",
       "    $(fig.parent_element).html('<img src=\"' + dataURL + '\" width=\"' + width + '\">');\n",
       "    fig.close_ws(fig, msg);\n",
       "}\n",
       "\n",
       "mpl.figure.prototype.close_ws = function(fig, msg){\n",
       "    fig.send_message('closing', msg);\n",
       "    // fig.ws.close()\n",
       "}\n",
       "\n",
       "mpl.figure.prototype.push_to_output = function(remove_interactive) {\n",
       "    // Turn the data on the canvas into data in the output cell.\n",
       "    var width = this.canvas.width/mpl.ratio\n",
       "    var dataURL = this.canvas.toDataURL();\n",
       "    this.cell_info[1]['text/html'] = '<img src=\"' + dataURL + '\" width=\"' + width + '\">';\n",
       "}\n",
       "\n",
       "mpl.figure.prototype.updated_canvas_event = function() {\n",
       "    // Tell IPython that the notebook contents must change.\n",
       "    IPython.notebook.set_dirty(true);\n",
       "    this.send_message(\"ack\", {});\n",
       "    var fig = this;\n",
       "    // Wait a second, then push the new image to the DOM so\n",
       "    // that it is saved nicely (might be nice to debounce this).\n",
       "    setTimeout(function () { fig.push_to_output() }, 1000);\n",
       "}\n",
       "\n",
       "mpl.figure.prototype._init_toolbar = function() {\n",
       "    var fig = this;\n",
       "\n",
       "    var nav_element = $('<div/>')\n",
       "    nav_element.attr('style', 'width: 100%');\n",
       "    this.root.append(nav_element);\n",
       "\n",
       "    // Define a callback function for later on.\n",
       "    function toolbar_event(event) {\n",
       "        return fig.toolbar_button_onclick(event['data']);\n",
       "    }\n",
       "    function toolbar_mouse_event(event) {\n",
       "        return fig.toolbar_button_onmouseover(event['data']);\n",
       "    }\n",
       "\n",
       "    for(var toolbar_ind in mpl.toolbar_items){\n",
       "        var name = mpl.toolbar_items[toolbar_ind][0];\n",
       "        var tooltip = mpl.toolbar_items[toolbar_ind][1];\n",
       "        var image = mpl.toolbar_items[toolbar_ind][2];\n",
       "        var method_name = mpl.toolbar_items[toolbar_ind][3];\n",
       "\n",
       "        if (!name) { continue; };\n",
       "\n",
       "        var button = $('<button class=\"btn btn-default\" href=\"#\" title=\"' + name + '\"><i class=\"fa ' + image + ' fa-lg\"></i></button>');\n",
       "        button.click(method_name, toolbar_event);\n",
       "        button.mouseover(tooltip, toolbar_mouse_event);\n",
       "        nav_element.append(button);\n",
       "    }\n",
       "\n",
       "    // Add the status bar.\n",
       "    var status_bar = $('<span class=\"mpl-message\" style=\"text-align:right; float: right;\"/>');\n",
       "    nav_element.append(status_bar);\n",
       "    this.message = status_bar[0];\n",
       "\n",
       "    // Add the close button to the window.\n",
       "    var buttongrp = $('<div class=\"btn-group inline pull-right\"></div>');\n",
       "    var button = $('<button class=\"btn btn-mini btn-primary\" href=\"#\" title=\"Stop Interaction\"><i class=\"fa fa-power-off icon-remove icon-large\"></i></button>');\n",
       "    button.click(function (evt) { fig.handle_close(fig, {}); } );\n",
       "    button.mouseover('Stop Interaction', toolbar_mouse_event);\n",
       "    buttongrp.append(button);\n",
       "    var titlebar = this.root.find($('.ui-dialog-titlebar'));\n",
       "    titlebar.prepend(buttongrp);\n",
       "}\n",
       "\n",
       "mpl.figure.prototype._root_extra_style = function(el){\n",
       "    var fig = this\n",
       "    el.on(\"remove\", function(){\n",
       "\tfig.close_ws(fig, {});\n",
       "    });\n",
       "}\n",
       "\n",
       "mpl.figure.prototype._canvas_extra_style = function(el){\n",
       "    // this is important to make the div 'focusable\n",
       "    el.attr('tabindex', 0)\n",
       "    // reach out to IPython and tell the keyboard manager to turn it's self\n",
       "    // off when our div gets focus\n",
       "\n",
       "    // location in version 3\n",
       "    if (IPython.notebook.keyboard_manager) {\n",
       "        IPython.notebook.keyboard_manager.register_events(el);\n",
       "    }\n",
       "    else {\n",
       "        // location in version 2\n",
       "        IPython.keyboard_manager.register_events(el);\n",
       "    }\n",
       "\n",
       "}\n",
       "\n",
       "mpl.figure.prototype._key_event_extra = function(event, name) {\n",
       "    var manager = IPython.notebook.keyboard_manager;\n",
       "    if (!manager)\n",
       "        manager = IPython.keyboard_manager;\n",
       "\n",
       "    // Check for shift+enter\n",
       "    if (event.shiftKey && event.which == 13) {\n",
       "        this.canvas_div.blur();\n",
       "        // select the cell after this one\n",
       "        var index = IPython.notebook.find_cell_index(this.cell_info[0]);\n",
       "        IPython.notebook.select(index + 1);\n",
       "    }\n",
       "}\n",
       "\n",
       "mpl.figure.prototype.handle_save = function(fig, msg) {\n",
       "    fig.ondownload(fig, null);\n",
       "}\n",
       "\n",
       "\n",
       "mpl.find_output_cell = function(html_output) {\n",
       "    // Return the cell and output element which can be found *uniquely* in the notebook.\n",
       "    // Note - this is a bit hacky, but it is done because the \"notebook_saving.Notebook\"\n",
       "    // IPython event is triggered only after the cells have been serialised, which for\n",
       "    // our purposes (turning an active figure into a static one), is too late.\n",
       "    var cells = IPython.notebook.get_cells();\n",
       "    var ncells = cells.length;\n",
       "    for (var i=0; i<ncells; i++) {\n",
       "        var cell = cells[i];\n",
       "        if (cell.cell_type === 'code'){\n",
       "            for (var j=0; j<cell.output_area.outputs.length; j++) {\n",
       "                var data = cell.output_area.outputs[j];\n",
       "                if (data.data) {\n",
       "                    // IPython >= 3 moved mimebundle to data attribute of output\n",
       "                    data = data.data;\n",
       "                }\n",
       "                if (data['text/html'] == html_output) {\n",
       "                    return [cell, data, j];\n",
       "                }\n",
       "            }\n",
       "        }\n",
       "    }\n",
       "}\n",
       "\n",
       "// Register the function which deals with the matplotlib target/channel.\n",
       "// The kernel may be null if the page has been refreshed.\n",
       "if (IPython.notebook.kernel != null) {\n",
       "    IPython.notebook.kernel.comm_manager.register_target('matplotlib', mpl.mpl_figure_comm);\n",
       "}\n"
      ],
      "text/plain": [
       "<IPython.core.display.Javascript object>"
      ]
     },
     "metadata": {},
     "output_type": "display_data"
    },
    {
     "data": {
      "text/html": [
       "<img src=\"data:image/png;base64,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\" width=\"639.6499809369451\">"
      ],
      "text/plain": [
       "<IPython.core.display.HTML object>"
      ]
     },
     "metadata": {},
     "output_type": "display_data"
    }
   ],
   "source": [
    "alm_feces.plot(sample_field='host_subject_id', gui='jupyter',sample_color_bars=['travel','diarrhea_donor_A', 'diarrhea_donor_B'], rect=[None, None, 113.0, 56.25]);"
   ]
  },
  {
   "cell_type": "markdown",
   "metadata": {
    "collapsed": false
   },
   "source": [
    "## Let's also look at the saliva samples"
   ]
  },
  {
   "cell_type": "code",
   "execution_count": 39,
   "metadata": {
    "collapsed": false
   },
   "outputs": [
    {
     "data": {
      "text/plain": [
       "Experiment alm.biom with 285 samples, 7289 features"
      ]
     },
     "execution_count": 39,
     "metadata": {},
     "output_type": "execute_result"
    }
   ],
   "source": [
    "alm_saliva.sort_centroid(inplace=True, n=2)"
   ]
  },
  {
   "cell_type": "code",
   "execution_count": 40,
   "metadata": {
    "collapsed": false
   },
   "outputs": [
    {
     "data": {
      "application/javascript": [
       "/* Put everything inside the global mpl namespace */\n",
       "window.mpl = {};\n",
       "\n",
       "\n",
       "mpl.get_websocket_type = function() {\n",
       "    if (typeof(WebSocket) !== 'undefined') {\n",
       "        return WebSocket;\n",
       "    } else if (typeof(MozWebSocket) !== 'undefined') {\n",
       "        return MozWebSocket;\n",
       "    } else {\n",
       "        alert('Your browser does not have WebSocket support.' +\n",
       "              'Please try Chrome, Safari or Firefox ≥ 6. ' +\n",
       "              'Firefox 4 and 5 are also supported but you ' +\n",
       "              'have to enable WebSockets in about:config.');\n",
       "    };\n",
       "}\n",
       "\n",
       "mpl.figure = function(figure_id, websocket, ondownload, parent_element) {\n",
       "    this.id = figure_id;\n",
       "\n",
       "    this.ws = websocket;\n",
       "\n",
       "    this.supports_binary = (this.ws.binaryType != undefined);\n",
       "\n",
       "    if (!this.supports_binary) {\n",
       "        var warnings = document.getElementById(\"mpl-warnings\");\n",
       "        if (warnings) {\n",
       "            warnings.style.display = 'block';\n",
       "            warnings.textContent = (\n",
       "                \"This browser does not support binary websocket messages. \" +\n",
       "                    \"Performance may be slow.\");\n",
       "        }\n",
       "    }\n",
       "\n",
       "    this.imageObj = new Image();\n",
       "\n",
       "    this.context = undefined;\n",
       "    this.message = undefined;\n",
       "    this.canvas = undefined;\n",
       "    this.rubberband_canvas = undefined;\n",
       "    this.rubberband_context = undefined;\n",
       "    this.format_dropdown = undefined;\n",
       "\n",
       "    this.image_mode = 'full';\n",
       "\n",
       "    this.root = $('<div/>');\n",
       "    this._root_extra_style(this.root)\n",
       "    this.root.attr('style', 'display: inline-block');\n",
       "\n",
       "    $(parent_element).append(this.root);\n",
       "\n",
       "    this._init_header(this);\n",
       "    this._init_canvas(this);\n",
       "    this._init_toolbar(this);\n",
       "\n",
       "    var fig = this;\n",
       "\n",
       "    this.waiting = false;\n",
       "\n",
       "    this.ws.onopen =  function () {\n",
       "            fig.send_message(\"supports_binary\", {value: fig.supports_binary});\n",
       "            fig.send_message(\"send_image_mode\", {});\n",
       "            if (mpl.ratio != 1) {\n",
       "                fig.send_message(\"set_dpi_ratio\", {'dpi_ratio': mpl.ratio});\n",
       "            }\n",
       "            fig.send_message(\"refresh\", {});\n",
       "        }\n",
       "\n",
       "    this.imageObj.onload = function() {\n",
       "            if (fig.image_mode == 'full') {\n",
       "                // Full images could contain transparency (where diff images\n",
       "                // almost always do), so we need to clear the canvas so that\n",
       "                // there is no ghosting.\n",
       "                fig.context.clearRect(0, 0, fig.canvas.width, fig.canvas.height);\n",
       "            }\n",
       "            fig.context.drawImage(fig.imageObj, 0, 0);\n",
       "        };\n",
       "\n",
       "    this.imageObj.onunload = function() {\n",
       "        this.ws.close();\n",
       "    }\n",
       "\n",
       "    this.ws.onmessage = this._make_on_message_function(this);\n",
       "\n",
       "    this.ondownload = ondownload;\n",
       "}\n",
       "\n",
       "mpl.figure.prototype._init_header = function() {\n",
       "    var titlebar = $(\n",
       "        '<div class=\"ui-dialog-titlebar ui-widget-header ui-corner-all ' +\n",
       "        'ui-helper-clearfix\"/>');\n",
       "    var titletext = $(\n",
       "        '<div class=\"ui-dialog-title\" style=\"width: 100%; ' +\n",
       "        'text-align: center; padding: 3px;\"/>');\n",
       "    titlebar.append(titletext)\n",
       "    this.root.append(titlebar);\n",
       "    this.header = titletext[0];\n",
       "}\n",
       "\n",
       "\n",
       "\n",
       "mpl.figure.prototype._canvas_extra_style = function(canvas_div) {\n",
       "\n",
       "}\n",
       "\n",
       "\n",
       "mpl.figure.prototype._root_extra_style = function(canvas_div) {\n",
       "\n",
       "}\n",
       "\n",
       "mpl.figure.prototype._init_canvas = function() {\n",
       "    var fig = this;\n",
       "\n",
       "    var canvas_div = $('<div/>');\n",
       "\n",
       "    canvas_div.attr('style', 'position: relative; clear: both; outline: 0');\n",
       "\n",
       "    function canvas_keyboard_event(event) {\n",
       "        return fig.key_event(event, event['data']);\n",
       "    }\n",
       "\n",
       "    canvas_div.keydown('key_press', canvas_keyboard_event);\n",
       "    canvas_div.keyup('key_release', canvas_keyboard_event);\n",
       "    this.canvas_div = canvas_div\n",
       "    this._canvas_extra_style(canvas_div)\n",
       "    this.root.append(canvas_div);\n",
       "\n",
       "    var canvas = $('<canvas/>');\n",
       "    canvas.addClass('mpl-canvas');\n",
       "    canvas.attr('style', \"left: 0; top: 0; z-index: 0; outline: 0\")\n",
       "\n",
       "    this.canvas = canvas[0];\n",
       "    this.context = canvas[0].getContext(\"2d\");\n",
       "\n",
       "    var backingStore = this.context.backingStorePixelRatio ||\n",
       "\tthis.context.webkitBackingStorePixelRatio ||\n",
       "\tthis.context.mozBackingStorePixelRatio ||\n",
       "\tthis.context.msBackingStorePixelRatio ||\n",
       "\tthis.context.oBackingStorePixelRatio ||\n",
       "\tthis.context.backingStorePixelRatio || 1;\n",
       "\n",
       "    mpl.ratio = (window.devicePixelRatio || 1) / backingStore;\n",
       "\n",
       "    var rubberband = $('<canvas/>');\n",
       "    rubberband.attr('style', \"position: absolute; left: 0; top: 0; z-index: 1;\")\n",
       "\n",
       "    var pass_mouse_events = true;\n",
       "\n",
       "    canvas_div.resizable({\n",
       "        start: function(event, ui) {\n",
       "            pass_mouse_events = false;\n",
       "        },\n",
       "        resize: function(event, ui) {\n",
       "            fig.request_resize(ui.size.width, ui.size.height);\n",
       "        },\n",
       "        stop: function(event, ui) {\n",
       "            pass_mouse_events = true;\n",
       "            fig.request_resize(ui.size.width, ui.size.height);\n",
       "        },\n",
       "    });\n",
       "\n",
       "    function mouse_event_fn(event) {\n",
       "        if (pass_mouse_events)\n",
       "            return fig.mouse_event(event, event['data']);\n",
       "    }\n",
       "\n",
       "    rubberband.mousedown('button_press', mouse_event_fn);\n",
       "    rubberband.mouseup('button_release', mouse_event_fn);\n",
       "    // Throttle sequential mouse events to 1 every 20ms.\n",
       "    rubberband.mousemove('motion_notify', mouse_event_fn);\n",
       "\n",
       "    rubberband.mouseenter('figure_enter', mouse_event_fn);\n",
       "    rubberband.mouseleave('figure_leave', mouse_event_fn);\n",
       "\n",
       "    canvas_div.on(\"wheel\", function (event) {\n",
       "        event = event.originalEvent;\n",
       "        event['data'] = 'scroll'\n",
       "        if (event.deltaY < 0) {\n",
       "            event.step = 1;\n",
       "        } else {\n",
       "            event.step = -1;\n",
       "        }\n",
       "        mouse_event_fn(event);\n",
       "    });\n",
       "\n",
       "    canvas_div.append(canvas);\n",
       "    canvas_div.append(rubberband);\n",
       "\n",
       "    this.rubberband = rubberband;\n",
       "    this.rubberband_canvas = rubberband[0];\n",
       "    this.rubberband_context = rubberband[0].getContext(\"2d\");\n",
       "    this.rubberband_context.strokeStyle = \"#000000\";\n",
       "\n",
       "    this._resize_canvas = function(width, height) {\n",
       "        // Keep the size of the canvas, canvas container, and rubber band\n",
       "        // canvas in synch.\n",
       "        canvas_div.css('width', width)\n",
       "        canvas_div.css('height', height)\n",
       "\n",
       "        canvas.attr('width', width * mpl.ratio);\n",
       "        canvas.attr('height', height * mpl.ratio);\n",
       "        canvas.attr('style', 'width: ' + width + 'px; height: ' + height + 'px;');\n",
       "\n",
       "        rubberband.attr('width', width);\n",
       "        rubberband.attr('height', height);\n",
       "    }\n",
       "\n",
       "    // Set the figure to an initial 600x600px, this will subsequently be updated\n",
       "    // upon first draw.\n",
       "    this._resize_canvas(600, 600);\n",
       "\n",
       "    // Disable right mouse context menu.\n",
       "    $(this.rubberband_canvas).bind(\"contextmenu\",function(e){\n",
       "        return false;\n",
       "    });\n",
       "\n",
       "    function set_focus () {\n",
       "        canvas.focus();\n",
       "        canvas_div.focus();\n",
       "    }\n",
       "\n",
       "    window.setTimeout(set_focus, 100);\n",
       "}\n",
       "\n",
       "mpl.figure.prototype._init_toolbar = function() {\n",
       "    var fig = this;\n",
       "\n",
       "    var nav_element = $('<div/>')\n",
       "    nav_element.attr('style', 'width: 100%');\n",
       "    this.root.append(nav_element);\n",
       "\n",
       "    // Define a callback function for later on.\n",
       "    function toolbar_event(event) {\n",
       "        return fig.toolbar_button_onclick(event['data']);\n",
       "    }\n",
       "    function toolbar_mouse_event(event) {\n",
       "        return fig.toolbar_button_onmouseover(event['data']);\n",
       "    }\n",
       "\n",
       "    for(var toolbar_ind in mpl.toolbar_items) {\n",
       "        var name = mpl.toolbar_items[toolbar_ind][0];\n",
       "        var tooltip = mpl.toolbar_items[toolbar_ind][1];\n",
       "        var image = mpl.toolbar_items[toolbar_ind][2];\n",
       "        var method_name = mpl.toolbar_items[toolbar_ind][3];\n",
       "\n",
       "        if (!name) {\n",
       "            // put a spacer in here.\n",
       "            continue;\n",
       "        }\n",
       "        var button = $('<button/>');\n",
       "        button.addClass('ui-button ui-widget ui-state-default ui-corner-all ' +\n",
       "                        'ui-button-icon-only');\n",
       "        button.attr('role', 'button');\n",
       "        button.attr('aria-disabled', 'false');\n",
       "        button.click(method_name, toolbar_event);\n",
       "        button.mouseover(tooltip, toolbar_mouse_event);\n",
       "\n",
       "        var icon_img = $('<span/>');\n",
       "        icon_img.addClass('ui-button-icon-primary ui-icon');\n",
       "        icon_img.addClass(image);\n",
       "        icon_img.addClass('ui-corner-all');\n",
       "\n",
       "        var tooltip_span = $('<span/>');\n",
       "        tooltip_span.addClass('ui-button-text');\n",
       "        tooltip_span.html(tooltip);\n",
       "\n",
       "        button.append(icon_img);\n",
       "        button.append(tooltip_span);\n",
       "\n",
       "        nav_element.append(button);\n",
       "    }\n",
       "\n",
       "    var fmt_picker_span = $('<span/>');\n",
       "\n",
       "    var fmt_picker = $('<select/>');\n",
       "    fmt_picker.addClass('mpl-toolbar-option ui-widget ui-widget-content');\n",
       "    fmt_picker_span.append(fmt_picker);\n",
       "    nav_element.append(fmt_picker_span);\n",
       "    this.format_dropdown = fmt_picker[0];\n",
       "\n",
       "    for (var ind in mpl.extensions) {\n",
       "        var fmt = mpl.extensions[ind];\n",
       "        var option = $(\n",
       "            '<option/>', {selected: fmt === mpl.default_extension}).html(fmt);\n",
       "        fmt_picker.append(option)\n",
       "    }\n",
       "\n",
       "    // Add hover states to the ui-buttons\n",
       "    $( \".ui-button\" ).hover(\n",
       "        function() { $(this).addClass(\"ui-state-hover\");},\n",
       "        function() { $(this).removeClass(\"ui-state-hover\");}\n",
       "    );\n",
       "\n",
       "    var status_bar = $('<span class=\"mpl-message\"/>');\n",
       "    nav_element.append(status_bar);\n",
       "    this.message = status_bar[0];\n",
       "}\n",
       "\n",
       "mpl.figure.prototype.request_resize = function(x_pixels, y_pixels) {\n",
       "    // Request matplotlib to resize the figure. Matplotlib will then trigger a resize in the client,\n",
       "    // which will in turn request a refresh of the image.\n",
       "    this.send_message('resize', {'width': x_pixels, 'height': y_pixels});\n",
       "}\n",
       "\n",
       "mpl.figure.prototype.send_message = function(type, properties) {\n",
       "    properties['type'] = type;\n",
       "    properties['figure_id'] = this.id;\n",
       "    this.ws.send(JSON.stringify(properties));\n",
       "}\n",
       "\n",
       "mpl.figure.prototype.send_draw_message = function() {\n",
       "    if (!this.waiting) {\n",
       "        this.waiting = true;\n",
       "        this.ws.send(JSON.stringify({type: \"draw\", figure_id: this.id}));\n",
       "    }\n",
       "}\n",
       "\n",
       "\n",
       "mpl.figure.prototype.handle_save = function(fig, msg) {\n",
       "    var format_dropdown = fig.format_dropdown;\n",
       "    var format = format_dropdown.options[format_dropdown.selectedIndex].value;\n",
       "    fig.ondownload(fig, format);\n",
       "}\n",
       "\n",
       "\n",
       "mpl.figure.prototype.handle_resize = function(fig, msg) {\n",
       "    var size = msg['size'];\n",
       "    if (size[0] != fig.canvas.width || size[1] != fig.canvas.height) {\n",
       "        fig._resize_canvas(size[0], size[1]);\n",
       "        fig.send_message(\"refresh\", {});\n",
       "    };\n",
       "}\n",
       "\n",
       "mpl.figure.prototype.handle_rubberband = function(fig, msg) {\n",
       "    var x0 = msg['x0'] / mpl.ratio;\n",
       "    var y0 = (fig.canvas.height - msg['y0']) / mpl.ratio;\n",
       "    var x1 = msg['x1'] / mpl.ratio;\n",
       "    var y1 = (fig.canvas.height - msg['y1']) / mpl.ratio;\n",
       "    x0 = Math.floor(x0) + 0.5;\n",
       "    y0 = Math.floor(y0) + 0.5;\n",
       "    x1 = Math.floor(x1) + 0.5;\n",
       "    y1 = Math.floor(y1) + 0.5;\n",
       "    var min_x = Math.min(x0, x1);\n",
       "    var min_y = Math.min(y0, y1);\n",
       "    var width = Math.abs(x1 - x0);\n",
       "    var height = Math.abs(y1 - y0);\n",
       "\n",
       "    fig.rubberband_context.clearRect(\n",
       "        0, 0, fig.canvas.width, fig.canvas.height);\n",
       "\n",
       "    fig.rubberband_context.strokeRect(min_x, min_y, width, height);\n",
       "}\n",
       "\n",
       "mpl.figure.prototype.handle_figure_label = function(fig, msg) {\n",
       "    // Updates the figure title.\n",
       "    fig.header.textContent = msg['label'];\n",
       "}\n",
       "\n",
       "mpl.figure.prototype.handle_cursor = function(fig, msg) {\n",
       "    var cursor = msg['cursor'];\n",
       "    switch(cursor)\n",
       "    {\n",
       "    case 0:\n",
       "        cursor = 'pointer';\n",
       "        break;\n",
       "    case 1:\n",
       "        cursor = 'default';\n",
       "        break;\n",
       "    case 2:\n",
       "        cursor = 'crosshair';\n",
       "        break;\n",
       "    case 3:\n",
       "        cursor = 'move';\n",
       "        break;\n",
       "    }\n",
       "    fig.rubberband_canvas.style.cursor = cursor;\n",
       "}\n",
       "\n",
       "mpl.figure.prototype.handle_message = function(fig, msg) {\n",
       "    fig.message.textContent = msg['message'];\n",
       "}\n",
       "\n",
       "mpl.figure.prototype.handle_draw = function(fig, msg) {\n",
       "    // Request the server to send over a new figure.\n",
       "    fig.send_draw_message();\n",
       "}\n",
       "\n",
       "mpl.figure.prototype.handle_image_mode = function(fig, msg) {\n",
       "    fig.image_mode = msg['mode'];\n",
       "}\n",
       "\n",
       "mpl.figure.prototype.updated_canvas_event = function() {\n",
       "    // Called whenever the canvas gets updated.\n",
       "    this.send_message(\"ack\", {});\n",
       "}\n",
       "\n",
       "// A function to construct a web socket function for onmessage handling.\n",
       "// Called in the figure constructor.\n",
       "mpl.figure.prototype._make_on_message_function = function(fig) {\n",
       "    return function socket_on_message(evt) {\n",
       "        if (evt.data instanceof Blob) {\n",
       "            /* FIXME: We get \"Resource interpreted as Image but\n",
       "             * transferred with MIME type text/plain:\" errors on\n",
       "             * Chrome.  But how to set the MIME type?  It doesn't seem\n",
       "             * to be part of the websocket stream */\n",
       "            evt.data.type = \"image/png\";\n",
       "\n",
       "            /* Free the memory for the previous frames */\n",
       "            if (fig.imageObj.src) {\n",
       "                (window.URL || window.webkitURL).revokeObjectURL(\n",
       "                    fig.imageObj.src);\n",
       "            }\n",
       "\n",
       "            fig.imageObj.src = (window.URL || window.webkitURL).createObjectURL(\n",
       "                evt.data);\n",
       "            fig.updated_canvas_event();\n",
       "            fig.waiting = false;\n",
       "            return;\n",
       "        }\n",
       "        else if (typeof evt.data === 'string' && evt.data.slice(0, 21) == \"data:image/png;base64\") {\n",
       "            fig.imageObj.src = evt.data;\n",
       "            fig.updated_canvas_event();\n",
       "            fig.waiting = false;\n",
       "            return;\n",
       "        }\n",
       "\n",
       "        var msg = JSON.parse(evt.data);\n",
       "        var msg_type = msg['type'];\n",
       "\n",
       "        // Call the  \"handle_{type}\" callback, which takes\n",
       "        // the figure and JSON message as its only arguments.\n",
       "        try {\n",
       "            var callback = fig[\"handle_\" + msg_type];\n",
       "        } catch (e) {\n",
       "            console.log(\"No handler for the '\" + msg_type + \"' message type: \", msg);\n",
       "            return;\n",
       "        }\n",
       "\n",
       "        if (callback) {\n",
       "            try {\n",
       "                // console.log(\"Handling '\" + msg_type + \"' message: \", msg);\n",
       "                callback(fig, msg);\n",
       "            } catch (e) {\n",
       "                console.log(\"Exception inside the 'handler_\" + msg_type + \"' callback:\", e, e.stack, msg);\n",
       "            }\n",
       "        }\n",
       "    };\n",
       "}\n",
       "\n",
       "// from http://stackoverflow.com/questions/1114465/getting-mouse-location-in-canvas\n",
       "mpl.findpos = function(e) {\n",
       "    //this section is from http://www.quirksmode.org/js/events_properties.html\n",
       "    var targ;\n",
       "    if (!e)\n",
       "        e = window.event;\n",
       "    if (e.target)\n",
       "        targ = e.target;\n",
       "    else if (e.srcElement)\n",
       "        targ = e.srcElement;\n",
       "    if (targ.nodeType == 3) // defeat Safari bug\n",
       "        targ = targ.parentNode;\n",
       "\n",
       "    // jQuery normalizes the pageX and pageY\n",
       "    // pageX,Y are the mouse positions relative to the document\n",
       "    // offset() returns the position of the element relative to the document\n",
       "    var x = e.pageX - $(targ).offset().left;\n",
       "    var y = e.pageY - $(targ).offset().top;\n",
       "\n",
       "    return {\"x\": x, \"y\": y};\n",
       "};\n",
       "\n",
       "/*\n",
       " * return a copy of an object with only non-object keys\n",
       " * we need this to avoid circular references\n",
       " * http://stackoverflow.com/a/24161582/3208463\n",
       " */\n",
       "function simpleKeys (original) {\n",
       "  return Object.keys(original).reduce(function (obj, key) {\n",
       "    if (typeof original[key] !== 'object')\n",
       "        obj[key] = original[key]\n",
       "    return obj;\n",
       "  }, {});\n",
       "}\n",
       "\n",
       "mpl.figure.prototype.mouse_event = function(event, name) {\n",
       "    var canvas_pos = mpl.findpos(event)\n",
       "\n",
       "    if (name === 'button_press')\n",
       "    {\n",
       "        this.canvas.focus();\n",
       "        this.canvas_div.focus();\n",
       "    }\n",
       "\n",
       "    var x = canvas_pos.x * mpl.ratio;\n",
       "    var y = canvas_pos.y * mpl.ratio;\n",
       "\n",
       "    this.send_message(name, {x: x, y: y, button: event.button,\n",
       "                             step: event.step,\n",
       "                             guiEvent: simpleKeys(event)});\n",
       "\n",
       "    /* This prevents the web browser from automatically changing to\n",
       "     * the text insertion cursor when the button is pressed.  We want\n",
       "     * to control all of the cursor setting manually through the\n",
       "     * 'cursor' event from matplotlib */\n",
       "    event.preventDefault();\n",
       "    return false;\n",
       "}\n",
       "\n",
       "mpl.figure.prototype._key_event_extra = function(event, name) {\n",
       "    // Handle any extra behaviour associated with a key event\n",
       "}\n",
       "\n",
       "mpl.figure.prototype.key_event = function(event, name) {\n",
       "\n",
       "    // Prevent repeat events\n",
       "    if (name == 'key_press')\n",
       "    {\n",
       "        if (event.which === this._key)\n",
       "            return;\n",
       "        else\n",
       "            this._key = event.which;\n",
       "    }\n",
       "    if (name == 'key_release')\n",
       "        this._key = null;\n",
       "\n",
       "    var value = '';\n",
       "    if (event.ctrlKey && event.which != 17)\n",
       "        value += \"ctrl+\";\n",
       "    if (event.altKey && event.which != 18)\n",
       "        value += \"alt+\";\n",
       "    if (event.shiftKey && event.which != 16)\n",
       "        value += \"shift+\";\n",
       "\n",
       "    value += 'k';\n",
       "    value += event.which.toString();\n",
       "\n",
       "    this._key_event_extra(event, name);\n",
       "\n",
       "    this.send_message(name, {key: value,\n",
       "                             guiEvent: simpleKeys(event)});\n",
       "    return false;\n",
       "}\n",
       "\n",
       "mpl.figure.prototype.toolbar_button_onclick = function(name) {\n",
       "    if (name == 'download') {\n",
       "        this.handle_save(this, null);\n",
       "    } else {\n",
       "        this.send_message(\"toolbar_button\", {name: name});\n",
       "    }\n",
       "};\n",
       "\n",
       "mpl.figure.prototype.toolbar_button_onmouseover = function(tooltip) {\n",
       "    this.message.textContent = tooltip;\n",
       "};\n",
       "mpl.toolbar_items = [[\"Home\", \"Reset original view\", \"fa fa-home icon-home\", \"home\"], [\"Back\", \"Back to  previous view\", \"fa fa-arrow-left icon-arrow-left\", \"back\"], [\"Forward\", \"Forward to next view\", \"fa fa-arrow-right icon-arrow-right\", \"forward\"], [\"\", \"\", \"\", \"\"], [\"Pan\", \"Pan axes with left mouse, zoom with right\", \"fa fa-arrows icon-move\", \"pan\"], [\"Zoom\", \"Zoom to rectangle\", \"fa fa-square-o icon-check-empty\", \"zoom\"], [\"\", \"\", \"\", \"\"], [\"Download\", \"Download plot\", \"fa fa-floppy-o icon-save\", \"download\"]];\n",
       "\n",
       "mpl.extensions = [\"eps\", \"pdf\", \"png\", \"ps\", \"raw\", \"svg\"];\n",
       "\n",
       "mpl.default_extension = \"png\";var comm_websocket_adapter = function(comm) {\n",
       "    // Create a \"websocket\"-like object which calls the given IPython comm\n",
       "    // object with the appropriate methods. Currently this is a non binary\n",
       "    // socket, so there is still some room for performance tuning.\n",
       "    var ws = {};\n",
       "\n",
       "    ws.close = function() {\n",
       "        comm.close()\n",
       "    };\n",
       "    ws.send = function(m) {\n",
       "        //console.log('sending', m);\n",
       "        comm.send(m);\n",
       "    };\n",
       "    // Register the callback with on_msg.\n",
       "    comm.on_msg(function(msg) {\n",
       "        //console.log('receiving', msg['content']['data'], msg);\n",
       "        // Pass the mpl event to the overriden (by mpl) onmessage function.\n",
       "        ws.onmessage(msg['content']['data'])\n",
       "    });\n",
       "    return ws;\n",
       "}\n",
       "\n",
       "mpl.mpl_figure_comm = function(comm, msg) {\n",
       "    // This is the function which gets called when the mpl process\n",
       "    // starts-up an IPython Comm through the \"matplotlib\" channel.\n",
       "\n",
       "    var id = msg.content.data.id;\n",
       "    // Get hold of the div created by the display call when the Comm\n",
       "    // socket was opened in Python.\n",
       "    var element = $(\"#\" + id);\n",
       "    var ws_proxy = comm_websocket_adapter(comm)\n",
       "\n",
       "    function ondownload(figure, format) {\n",
       "        window.open(figure.imageObj.src);\n",
       "    }\n",
       "\n",
       "    var fig = new mpl.figure(id, ws_proxy,\n",
       "                           ondownload,\n",
       "                           element.get(0));\n",
       "\n",
       "    // Call onopen now - mpl needs it, as it is assuming we've passed it a real\n",
       "    // web socket which is closed, not our websocket->open comm proxy.\n",
       "    ws_proxy.onopen();\n",
       "\n",
       "    fig.parent_element = element.get(0);\n",
       "    fig.cell_info = mpl.find_output_cell(\"<div id='\" + id + \"'></div>\");\n",
       "    if (!fig.cell_info) {\n",
       "        console.error(\"Failed to find cell for figure\", id, fig);\n",
       "        return;\n",
       "    }\n",
       "\n",
       "    var output_index = fig.cell_info[2]\n",
       "    var cell = fig.cell_info[0];\n",
       "\n",
       "};\n",
       "\n",
       "mpl.figure.prototype.handle_close = function(fig, msg) {\n",
       "    var width = fig.canvas.width/mpl.ratio\n",
       "    fig.root.unbind('remove')\n",
       "\n",
       "    // Update the output cell to use the data from the current canvas.\n",
       "    fig.push_to_output();\n",
       "    var dataURL = fig.canvas.toDataURL();\n",
       "    // Re-enable the keyboard manager in IPython - without this line, in FF,\n",
       "    // the notebook keyboard shortcuts fail.\n",
       "    IPython.keyboard_manager.enable()\n",
       "    $(fig.parent_element).html('<img src=\"' + dataURL + '\" width=\"' + width + '\">');\n",
       "    fig.close_ws(fig, msg);\n",
       "}\n",
       "\n",
       "mpl.figure.prototype.close_ws = function(fig, msg){\n",
       "    fig.send_message('closing', msg);\n",
       "    // fig.ws.close()\n",
       "}\n",
       "\n",
       "mpl.figure.prototype.push_to_output = function(remove_interactive) {\n",
       "    // Turn the data on the canvas into data in the output cell.\n",
       "    var width = this.canvas.width/mpl.ratio\n",
       "    var dataURL = this.canvas.toDataURL();\n",
       "    this.cell_info[1]['text/html'] = '<img src=\"' + dataURL + '\" width=\"' + width + '\">';\n",
       "}\n",
       "\n",
       "mpl.figure.prototype.updated_canvas_event = function() {\n",
       "    // Tell IPython that the notebook contents must change.\n",
       "    IPython.notebook.set_dirty(true);\n",
       "    this.send_message(\"ack\", {});\n",
       "    var fig = this;\n",
       "    // Wait a second, then push the new image to the DOM so\n",
       "    // that it is saved nicely (might be nice to debounce this).\n",
       "    setTimeout(function () { fig.push_to_output() }, 1000);\n",
       "}\n",
       "\n",
       "mpl.figure.prototype._init_toolbar = function() {\n",
       "    var fig = this;\n",
       "\n",
       "    var nav_element = $('<div/>')\n",
       "    nav_element.attr('style', 'width: 100%');\n",
       "    this.root.append(nav_element);\n",
       "\n",
       "    // Define a callback function for later on.\n",
       "    function toolbar_event(event) {\n",
       "        return fig.toolbar_button_onclick(event['data']);\n",
       "    }\n",
       "    function toolbar_mouse_event(event) {\n",
       "        return fig.toolbar_button_onmouseover(event['data']);\n",
       "    }\n",
       "\n",
       "    for(var toolbar_ind in mpl.toolbar_items){\n",
       "        var name = mpl.toolbar_items[toolbar_ind][0];\n",
       "        var tooltip = mpl.toolbar_items[toolbar_ind][1];\n",
       "        var image = mpl.toolbar_items[toolbar_ind][2];\n",
       "        var method_name = mpl.toolbar_items[toolbar_ind][3];\n",
       "\n",
       "        if (!name) { continue; };\n",
       "\n",
       "        var button = $('<button class=\"btn btn-default\" href=\"#\" title=\"' + name + '\"><i class=\"fa ' + image + ' fa-lg\"></i></button>');\n",
       "        button.click(method_name, toolbar_event);\n",
       "        button.mouseover(tooltip, toolbar_mouse_event);\n",
       "        nav_element.append(button);\n",
       "    }\n",
       "\n",
       "    // Add the status bar.\n",
       "    var status_bar = $('<span class=\"mpl-message\" style=\"text-align:right; float: right;\"/>');\n",
       "    nav_element.append(status_bar);\n",
       "    this.message = status_bar[0];\n",
       "\n",
       "    // Add the close button to the window.\n",
       "    var buttongrp = $('<div class=\"btn-group inline pull-right\"></div>');\n",
       "    var button = $('<button class=\"btn btn-mini btn-primary\" href=\"#\" title=\"Stop Interaction\"><i class=\"fa fa-power-off icon-remove icon-large\"></i></button>');\n",
       "    button.click(function (evt) { fig.handle_close(fig, {}); } );\n",
       "    button.mouseover('Stop Interaction', toolbar_mouse_event);\n",
       "    buttongrp.append(button);\n",
       "    var titlebar = this.root.find($('.ui-dialog-titlebar'));\n",
       "    titlebar.prepend(buttongrp);\n",
       "}\n",
       "\n",
       "mpl.figure.prototype._root_extra_style = function(el){\n",
       "    var fig = this\n",
       "    el.on(\"remove\", function(){\n",
       "\tfig.close_ws(fig, {});\n",
       "    });\n",
       "}\n",
       "\n",
       "mpl.figure.prototype._canvas_extra_style = function(el){\n",
       "    // this is important to make the div 'focusable\n",
       "    el.attr('tabindex', 0)\n",
       "    // reach out to IPython and tell the keyboard manager to turn it's self\n",
       "    // off when our div gets focus\n",
       "\n",
       "    // location in version 3\n",
       "    if (IPython.notebook.keyboard_manager) {\n",
       "        IPython.notebook.keyboard_manager.register_events(el);\n",
       "    }\n",
       "    else {\n",
       "        // location in version 2\n",
       "        IPython.keyboard_manager.register_events(el);\n",
       "    }\n",
       "\n",
       "}\n",
       "\n",
       "mpl.figure.prototype._key_event_extra = function(event, name) {\n",
       "    var manager = IPython.notebook.keyboard_manager;\n",
       "    if (!manager)\n",
       "        manager = IPython.keyboard_manager;\n",
       "\n",
       "    // Check for shift+enter\n",
       "    if (event.shiftKey && event.which == 13) {\n",
       "        this.canvas_div.blur();\n",
       "        // select the cell after this one\n",
       "        var index = IPython.notebook.find_cell_index(this.cell_info[0]);\n",
       "        IPython.notebook.select(index + 1);\n",
       "    }\n",
       "}\n",
       "\n",
       "mpl.figure.prototype.handle_save = function(fig, msg) {\n",
       "    fig.ondownload(fig, null);\n",
       "}\n",
       "\n",
       "\n",
       "mpl.find_output_cell = function(html_output) {\n",
       "    // Return the cell and output element which can be found *uniquely* in the notebook.\n",
       "    // Note - this is a bit hacky, but it is done because the \"notebook_saving.Notebook\"\n",
       "    // IPython event is triggered only after the cells have been serialised, which for\n",
       "    // our purposes (turning an active figure into a static one), is too late.\n",
       "    var cells = IPython.notebook.get_cells();\n",
       "    var ncells = cells.length;\n",
       "    for (var i=0; i<ncells; i++) {\n",
       "        var cell = cells[i];\n",
       "        if (cell.cell_type === 'code'){\n",
       "            for (var j=0; j<cell.output_area.outputs.length; j++) {\n",
       "                var data = cell.output_area.outputs[j];\n",
       "                if (data.data) {\n",
       "                    // IPython >= 3 moved mimebundle to data attribute of output\n",
       "                    data = data.data;\n",
       "                }\n",
       "                if (data['text/html'] == html_output) {\n",
       "                    return [cell, data, j];\n",
       "                }\n",
       "            }\n",
       "        }\n",
       "    }\n",
       "}\n",
       "\n",
       "// Register the function which deals with the matplotlib target/channel.\n",
       "// The kernel may be null if the page has been refreshed.\n",
       "if (IPython.notebook.kernel != null) {\n",
       "    IPython.notebook.kernel.comm_manager.register_target('matplotlib', mpl.mpl_figure_comm);\n",
       "}\n"
      ],
      "text/plain": [
       "<IPython.core.display.Javascript object>"
      ]
     },
     "metadata": {},
     "output_type": "display_data"
    },
    {
     "data": {
      "text/html": [
       "<img src=\"data:image/png;base64,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\" width=\"639.6499809369451\">"
      ],
      "text/plain": [
       "<IPython.core.display.HTML object>"
      ]
     },
     "metadata": {},
     "output_type": "display_data"
    }
   ],
   "source": [
    "alm_saliva.plot(sample_field='host_subject_id', gui='jupyter',sample_color_bars=['travel','diarrhea_donor_A', 'diarrhea_donor_B']);"
   ]
  },
  {
   "cell_type": "markdown",
   "metadata": {},
   "source": [
    "We can see one sOTU (with sequence `TACGGAGGGTGCAAGCGTTATCCGGACTTATTGGGTTTAAAGGGTCCGTAGGCGGGTTATTAAGTCAGTGGTGAAATCTCATAGCTCAACTATGAAACTG`) starts to appear during the travel and persists even after travel. The taxonomy of this sOTU is:"
   ]
  },
  {
   "cell_type": "code",
   "execution_count": 41,
   "metadata": {
    "collapsed": false
   },
   "outputs": [
    {
     "data": {
      "text/plain": [
       "['k__Bacteria',\n",
       " 'p__Bacteroidetes',\n",
       " 'c__Flavobacteriia',\n",
       " 'o__Flavobacteriales',\n",
       " 'f__[Weeksellaceae]',\n",
       " 'g__',\n",
       " 's__']"
      ]
     },
     "execution_count": 41,
     "metadata": {},
     "output_type": "execute_result"
    }
   ],
   "source": [
    "alm_saliva.feature_metadata.loc['TACGGAGGGTGCAAGCGTTATCCGGACTTATTGGGTTTAAAGGGTCCGTAGGCGGGTTATTAAGTCAGTGGTGAAATCTCATAGCTCAACTATGAAACTG', 'taxonomy']"
   ]
  },
  {
   "cell_type": "markdown",
   "metadata": {},
   "source": [
    "## Conclusions\n",
    "* As reported in the original paper, we can see the dramatic shift in gut microbiota after Salmonella infection.\n",
    "* In addition, we see other interesting behavior (saliva sOTU picked from travel, gut sOTUs increased in diarrhea in both hosts), which is difficult to identify without capabilitie to explore the data interactively."
   ]
  }
 ],
 "metadata": {
  "kernelspec": {
   "display_name": "Python 3",
   "language": "python",
   "name": "python3"
  },
  "language_info": {
   "codemirror_mode": {
    "name": "ipython",
    "version": 3
   },
   "file_extension": ".py",
   "mimetype": "text/x-python",
   "name": "python",
   "nbconvert_exporter": "python",
   "pygments_lexer": "ipython3",
   "version": "3.5.2"
  },
  "toc": {
   "colors": {
    "hover_highlight": "#DAA520",
    "running_highlight": "#FF0000",
    "selected_highlight": "#FFD700"
   },
   "moveMenuLeft": true,
   "nav_menu": {
    "height": "497px",
    "width": "251px"
   },
   "navigate_menu": true,
   "number_sections": true,
   "sideBar": true,
   "threshold": 4,
   "toc_cell": false,
   "toc_position": {
    "height": "742px",
    "left": "0px",
    "right": "1900px",
    "top": "107px",
    "width": "212px"
   },
   "toc_section_display": "block",
   "toc_window_display": true,
   "widenNotebook": false
  },
  "widgets": {
   "state": {
    "01204e18fdb54515995c7caed4a8a87b": {
     "views": [
      {
       "cell_index": 41
      }
     ]
    },
    "01bcb96fc6f042d2806111793bebaeab": {
     "views": [
      {
       "cell_index": 40
      }
     ]
    },
    "03db431b5e3042d2b58cf72a14a9d276": {
     "views": [
      {
       "cell_index": 45
      }
     ]
    },
    "048d2143ea2a40a689d09598bcec4d03": {
     "views": [
      {
       "cell_index": 33
      }
     ]
    },
    "0532981d55e74fed9852efd1494eb782": {
     "views": [
      {
       "cell_index": 45
      }
     ]
    },
    "074b09d692714f27b0eac57158bb9095": {
     "views": [
      {
       "cell_index": 33
      }
     ]
    },
    "075ad8b4aa924d44a0fe903417dcfc52": {
     "views": [
      {
       "cell_index": 66
      }
     ]
    },
    "09a5daf13c7147c38086e38b944f0939": {
     "views": [
      {
       "cell_index": 40
      }
     ]
    },
    "09ddeef9657c401c9c44db597079c799": {
     "views": [
      {
       "cell_index": 45
      }
     ]
    },
    "09e3f0c6e0d544d3971dc95eb52a8eb8": {
     "views": [
      {
       "cell_index": 45
      }
     ]
    },
    "0a175bdb84324f75aa13c65663c51aea": {
     "views": [
      {
       "cell_index": 65
      }
     ]
    },
    "0a55ae67845d4e47a1f70cd63dd006ea": {
     "views": [
      {
       "cell_index": 63
      }
     ]
    },
    "0a7e8f4bed154148a514506825af6baa": {
     "views": [
      {
       "cell_index": 70
      }
     ]
    },
    "0c5a7770eab34e6ab92526b4951f3704": {
     "views": [
      {
       "cell_index": 63
      }
     ]
    },
    "0d6f02a3cc7e42cf97d0b8b26c907a00": {
     "views": [
      {
       "cell_index": 33
      }
     ]
    },
    "0da4a62b70e9407b832d7804ef8c5dc2": {
     "views": [
      {
       "cell_index": 62
      }
     ]
    },
    "103ce1334a3d4ac2afb9ecd4478cc9fa": {
     "views": [
      {
       "cell_index": 40
      }
     ]
    },
    "1056593fd90841e587793ec7f6fa3d1c": {
     "views": [
      {
       "cell_index": 65
      }
     ]
    },
    "109b6ed36d0347dfabd085fb5ef7ce9f": {
     "views": [
      {
       "cell_index": 63
      }
     ]
    },
    "10bae7fab08241d087c18af22b4327b3": {
     "views": [
      {
       "cell_index": 63
      }
     ]
    },
    "1137ade6a2f74f08864a4dc79bba4aba": {
     "views": [
      {
       "cell_index": 64
      }
     ]
    },
    "139f377deece47e585c5ac535f011394": {
     "views": [
      {
       "cell_index": 45
      }
     ]
    },
    "13ac018af21049a3be6af4075c4167c3": {
     "views": [
      {
       "cell_index": 33
      }
     ]
    },
    "157f01d8818e450fb3a8415e115d948c": {
     "views": [
      {
       "cell_index": 40
      }
     ]
    },
    "16058b5730514a8eb658fd8e2dc21084": {
     "views": [
      {
       "cell_index": 65
      }
     ]
    },
    "175766e816f745909e8f4bce59f2a476": {
     "views": [
      {
       "cell_index": 40
      }
     ]
    },
    "189138ceb2164f0ea6bbc10e450e2e89": {
     "views": [
      {
       "cell_index": 33
      }
     ]
    },
    "19369554d88a4c44afec1c838dfd05bc": {
     "views": [
      {
       "cell_index": 63
      }
     ]
    },
    "1ac84a66434a482b97ef31332d921ffb": {
     "views": [
      {
       "cell_index": 33
      }
     ]
    },
    "1b6ed841db1e41a4ad42208b53e5ae63": {
     "views": [
      {
       "cell_index": 33
      }
     ]
    },
    "1db47f5b94204b2fabbcfa94ea66e7c3": {
     "views": [
      {
       "cell_index": 40
      }
     ]
    },
    "1e034d3fd12e451eb398c88bb8f9870a": {
     "views": [
      {
       "cell_index": 33
      }
     ]
    },
    "20de39c35b454d36b2942e32b522107c": {
     "views": [
      {
       "cell_index": 40
      }
     ]
    },
    "212ca3de78974d978ae21e580a99f4d6": {
     "views": [
      {
       "cell_index": 70
      }
     ]
    },
    "217931c3ebdc4b93aa5fbfa25ca7dc56": {
     "views": [
      {
       "cell_index": 61
      }
     ]
    },
    "221affa5e2b94d4785f7407e4ff24fac": {
     "views": [
      {
       "cell_index": 64
      }
     ]
    },
    "237f5a2c70e94b98a956d858edb8a71c": {
     "views": [
      {
       "cell_index": 40
      }
     ]
    },
    "24431a4031ce4f82aba595457a2fd48b": {
     "views": [
      {
       "cell_index": 67
      }
     ]
    },
    "279b762f036b46c88b4a0fef2781fb40": {
     "views": [
      {
       "cell_index": 40
      }
     ]
    },
    "296e49c0fb8e4093a320aa9de0817221": {
     "views": [
      {
       "cell_index": 63
      }
     ]
    },
    "2979ed8738d34184ac6b71dae875fed7": {
     "views": [
      {
       "cell_index": 61
      }
     ]
    },
    "299818e3ddb74f7d93d2b4d3fb5bbbcc": {
     "views": [
      {
       "cell_index": 67
      }
     ]
    },
    "299af3df253a4bd48b42bc32dbffc31f": {
     "views": [
      {
       "cell_index": 45
      }
     ]
    },
    "2b3f94f1239b4f0ebd56a5197ba5fae1": {
     "views": [
      {
       "cell_index": 61
      }
     ]
    },
    "2d052f3b61e74945a4f15b82edfa7088": {
     "views": [
      {
       "cell_index": 63
      }
     ]
    },
    "2d4c59ca19bb4cabad1d3e54a959f31d": {
     "views": [
      {
       "cell_index": 40
      }
     ]
    },
    "2e11e0bedfdc42158e02e9bd751f1c8c": {
     "views": [
      {
       "cell_index": 64
      }
     ]
    },
    "3052f0f5fac14c5aae8a9a23ac85ff5c": {
     "views": [
      {
       "cell_index": 65
      }
     ]
    },
    "30a308bdd08a4560a7e0fd7bc926c9a3": {
     "views": [
      {
       "cell_index": 63
      }
     ]
    },
    "31e3cca3b84d47b695175bf0e76c6893": {
     "views": [
      {
       "cell_index": 46
      }
     ]
    },
    "327e7bf8568649bb8eb1e2ccbeb05457": {
     "views": [
      {
       "cell_index": 64
      }
     ]
    },
    "331b784ee03243fa86eeeb2db7590822": {
     "views": [
      {
       "cell_index": 40
      }
     ]
    },
    "33a9611292ad4662a3ef41bef8f651e5": {
     "views": [
      {
       "cell_index": 65
      }
     ]
    },
    "34e5c3bbcdee431e85834e4f74e4279b": {
     "views": [
      {
       "cell_index": 64
      }
     ]
    },
    "34f04613053e4ee6b667cae5c9521feb": {
     "views": [
      {
       "cell_index": 63
      }
     ]
    },
    "36d02732add3431b84431f4e7f5a426f": {
     "views": [
      {
       "cell_index": 40
      }
     ]
    },
    "3816a4faa6e14617abb8d8b4c9dafada": {
     "views": [
      {
       "cell_index": 45
      }
     ]
    },
    "387e0e9dde644236b2996d468d8e16f7": {
     "views": [
      {
       "cell_index": 63
      }
     ]
    },
    "3887e5e69d8e4b64bbd22eeef1db1144": {
     "views": [
      {
       "cell_index": 63
      }
     ]
    },
    "3b059cfd230c4dce9c669ffb96397ef1": {
     "views": [
      {
       "cell_index": 69
      }
     ]
    },
    "3b71d3f00df64280b4f54cda8bf4598c": {
     "views": [
      {
       "cell_index": 33
      }
     ]
    },
    "3c1d905625a64bbf85b7982cd744330e": {
     "views": [
      {
       "cell_index": 62
      }
     ]
    },
    "3c7a5b708993458a800255a8bf235454": {
     "views": [
      {
       "cell_index": 40
      }
     ]
    },
    "3e118e8f5e7e40d795d6a37257e2ff56": {
     "views": [
      {
       "cell_index": 69
      }
     ]
    },
    "402f1625ec5d453abd85aaba7cb0c569": {
     "views": [
      {
       "cell_index": 33
      }
     ]
    },
    "408cd89ec4f4486bac710810b3996276": {
     "views": [
      {
       "cell_index": 41
      }
     ]
    },
    "411edadb382e4776b8b20a3913ec7366": {
     "views": [
      {
       "cell_index": 67
      }
     ]
    },
    "428c79f133ca4a85b89c4cdd23368b79": {
     "views": [
      {
       "cell_index": 66
      }
     ]
    },
    "4335d00e9f1d433586304003e829240b": {
     "views": [
      {
       "cell_index": 65
      }
     ]
    },
    "4439060685be4493a9214605a95682f0": {
     "views": [
      {
       "cell_index": 64
      }
     ]
    },
    "4474e6b6b3864ab68f435e02a949cdaf": {
     "views": [
      {
       "cell_index": 66
      }
     ]
    },
    "44f09b64f5d140d0922794bc800f1314": {
     "views": [
      {
       "cell_index": 33
      }
     ]
    },
    "467206966e864e6b8511cd425b5743d8": {
     "views": [
      {
       "cell_index": 70
      }
     ]
    },
    "4866dcffac4b4190b4ac6dd12b41e753": {
     "views": [
      {
       "cell_index": 63
      }
     ]
    },
    "4977602fa2ba427c81387efc110378d3": {
     "views": [
      {
       "cell_index": 64
      }
     ]
    },
    "4a9c9d968503407b96c645a59f7bd471": {
     "views": [
      {
       "cell_index": 65
      }
     ]
    },
    "4fea2e33a7e54c499de725e363692438": {
     "views": [
      {
       "cell_index": 63
      }
     ]
    },
    "51e60777241b4c028167eab8ef434022": {
     "views": [
      {
       "cell_index": 45
      }
     ]
    },
    "5232af9b280b4c90bea28aac6d10f3b7": {
     "views": [
      {
       "cell_index": 63
      }
     ]
    },
    "5265fe57648c4a4c97b7991fe3187ccb": {
     "views": [
      {
       "cell_index": 33
      }
     ]
    },
    "53fc11455ec54407812ee15ce06f4008": {
     "views": [
      {
       "cell_index": 63
      }
     ]
    },
    "540fa31245f14bddabdc3ad4a96e63ed": {
     "views": [
      {
       "cell_index": 67
      }
     ]
    },
    "5456120162bb46efa73f4f1a2904a8ed": {
     "views": [
      {
       "cell_index": 40
      }
     ]
    },
    "55f2624f75f741bbaa9f55d2b08059c2": {
     "views": [
      {
       "cell_index": 64
      }
     ]
    },
    "569811fb751445799834a9bdce4c1cbf": {
     "views": [
      {
       "cell_index": 72
      }
     ]
    },
    "5828487c283248dabff0910334df279b": {
     "views": [
      {
       "cell_index": 69
      }
     ]
    },
    "59b4118e67fd46ba8aa35708ac38dbde": {
     "views": [
      {
       "cell_index": 46
      }
     ]
    },
    "5a417101694543039a658c991f208fc9": {
     "views": [
      {
       "cell_index": 66
      }
     ]
    },
    "5bb171dea5bd49c3bfc13ff1fe7e1d93": {
     "views": [
      {
       "cell_index": 45
      }
     ]
    },
    "5c3083a43cb84050af89437761fefd9d": {
     "views": [
      {
       "cell_index": 72
      }
     ]
    },
    "5c5eef316f2e4260881c8a5e25e1a679": {
     "views": [
      {
       "cell_index": 65
      }
     ]
    },
    "62f06df9802447a688952f6eff7a0e23": {
     "views": [
      {
       "cell_index": 41
      }
     ]
    },
    "636c559a7cad4a62a12afc52684ed599": {
     "views": [
      {
       "cell_index": 64
      }
     ]
    },
    "64031c8acb4b44f883284c7f595c4129": {
     "views": [
      {
       "cell_index": 63
      }
     ]
    },
    "641e0b0cf90849fea54fe16a2974dc34": {
     "views": [
      {
       "cell_index": 45
      }
     ]
    },
    "642b7279902c4a13b3de19c98583b9a0": {
     "views": [
      {
       "cell_index": 64
      }
     ]
    },
    "67234a514c2647c3b9360cee00c4be4f": {
     "views": [
      {
       "cell_index": 33
      }
     ]
    },
    "67a981f45a3a4839ba7275270ac590aa": {
     "views": [
      {
       "cell_index": 45
      }
     ]
    },
    "6a0e800fd7fb4b179b356f28780ab2c4": {
     "views": [
      {
       "cell_index": 63
      }
     ]
    },
    "6dbc1375575a42c2a0d77b975f907cdd": {
     "views": [
      {
       "cell_index": 40
      }
     ]
    },
    "71a0eeb393e6410a8a7032b831158cb7": {
     "views": [
      {
       "cell_index": 67
      }
     ]
    },
    "73a073ea9533465faec6ddd11d45d8e4": {
     "views": [
      {
       "cell_index": 67
      }
     ]
    },
    "73e65b201836412a8e4b5ec041fd8a0f": {
     "views": [
      {
       "cell_index": 45
      }
     ]
    },
    "748abe9e783947449c83fa79eae31cec": {
     "views": [
      {
       "cell_index": 45
      }
     ]
    },
    "748ac4a8277340bcbca71415facb8d7e": {
     "views": [
      {
       "cell_index": 66
      }
     ]
    },
    "762a7e69d1484cfdb8c5b2c49a08d849": {
     "views": [
      {
       "cell_index": 64
      }
     ]
    },
    "7717839f7aa7476b9ef89ec2f6532a68": {
     "views": [
      {
       "cell_index": 65
      }
     ]
    },
    "77b6d3e4a48c48aab7631556663d4718": {
     "views": [
      {
       "cell_index": 64
      }
     ]
    },
    "786a055ac954436696131bfe8958548a": {
     "views": [
      {
       "cell_index": 69
      }
     ]
    },
    "78ac125022ed4741ad0fc3461a745187": {
     "views": [
      {
       "cell_index": 33
      }
     ]
    },
    "79035e83f7a048e6b2ff0d33d2862423": {
     "views": [
      {
       "cell_index": 40
      }
     ]
    },
    "7c54659a123a466aba2f5e0cdf6625be": {
     "views": [
      {
       "cell_index": 64
      }
     ]
    },
    "7c91bd78e3704cdb9f22d3319885eb07": {
     "views": [
      {
       "cell_index": 61
      }
     ]
    },
    "7d55a972b11646fa85a2dd13a18c65f0": {
     "views": [
      {
       "cell_index": 40
      }
     ]
    },
    "7ea678d847724630851a4d90913e4130": {
     "views": [
      {
       "cell_index": 65
      }
     ]
    },
    "7f07f6c02c004d839d593ae362c4de3f": {
     "views": [
      {
       "cell_index": 45
      }
     ]
    },
    "7f7daedb37e54ed3a8b0a4ae7137bf5c": {
     "views": [
      {
       "cell_index": 40
      }
     ]
    },
    "815af1c36a1a4c87b8c2f749815c8446": {
     "views": [
      {
       "cell_index": 33
      }
     ]
    },
    "838972922b474f1aaacbbaa856b7bc70": {
     "views": [
      {
       "cell_index": 45
      }
     ]
    },
    "84272b4da5084638a24ec89b829f1f20": {
     "views": [
      {
       "cell_index": 62
      }
     ]
    },
    "85434244b96345f88e511d300055aac0": {
     "views": [
      {
       "cell_index": 40
      }
     ]
    },
    "863068a7646145409583cd9eda65094e": {
     "views": [
      {
       "cell_index": 41
      }
     ]
    },
    "86b65e07125b4fa29c7a3c4dcd51c5ab": {
     "views": [
      {
       "cell_index": 64
      }
     ]
    },
    "86e7d028357346faa0c1934b37080946": {
     "views": [
      {
       "cell_index": 40
      }
     ]
    },
    "873107440966465f9d8a195d4cabaec9": {
     "views": [
      {
       "cell_index": 64
      }
     ]
    },
    "8b7c3965a5594f269c2831c26b087bec": {
     "views": [
      {
       "cell_index": 63
      }
     ]
    },
    "8c45c09355234b5a9dd2d36a9234c6e1": {
     "views": [
      {
       "cell_index": 33
      }
     ]
    },
    "8cb906918fab4c5f8dd1e319fd24233c": {
     "views": [
      {
       "cell_index": 40
      }
     ]
    },
    "8dd5501ac6fc4a90aeca13a6a701471f": {
     "views": [
      {
       "cell_index": 40
      }
     ]
    },
    "8e1f0532e677485fa0a64c82a102cefb": {
     "views": [
      {
       "cell_index": 41
      }
     ]
    },
    "9069076ce7624505b0640f21a0990b7a": {
     "views": [
      {
       "cell_index": 62
      }
     ]
    },
    "90a8477c27ac451db6ce461554cef96d": {
     "views": [
      {
       "cell_index": 40
      }
     ]
    },
    "90c5893a998a4214b911164a23171aa5": {
     "views": [
      {
       "cell_index": 40
      }
     ]
    },
    "93241a17e74540beae5433f9a02c04b3": {
     "views": [
      {
       "cell_index": 46
      }
     ]
    },
    "93263b0ed0014289af35a3e3360c03c5": {
     "views": [
      {
       "cell_index": 62
      }
     ]
    },
    "9326c101e2e9466186171554a2a6b6ba": {
     "views": [
      {
       "cell_index": 33
      }
     ]
    },
    "9335ba950ed7464b94aee4c7cb642a54": {
     "views": [
      {
       "cell_index": 64
      }
     ]
    },
    "934aad75c8384ba5bdcc7d08e27be4a5": {
     "views": [
      {
       "cell_index": 33
      }
     ]
    },
    "9625db8fd4504cc1a338a72ddbe2f638": {
     "views": [
      {
       "cell_index": 45
      }
     ]
    },
    "96af6313aaa942539ffa53fe988e0e38": {
     "views": [
      {
       "cell_index": 46
      }
     ]
    },
    "975dab0f46014bac9e905de78411f102": {
     "views": [
      {
       "cell_index": 64
      }
     ]
    },
    "988963f7af6f42b1a71b3c1ba9212b8d": {
     "views": [
      {
       "cell_index": 64
      }
     ]
    },
    "997be7d5d76f4df881603ea995986b7e": {
     "views": [
      {
       "cell_index": 72
      }
     ]
    },
    "9bbccea2abe147d5975bf2b2c48d177c": {
     "views": [
      {
       "cell_index": 41
      }
     ]
    },
    "9be885e84f364eed817b5a9e6531460b": {
     "views": [
      {
       "cell_index": 40
      }
     ]
    },
    "9cb26c367a2347ac8d1c98431518f0e4": {
     "views": [
      {
       "cell_index": 63
      }
     ]
    },
    "9db415c3813e40dc8c0d3ced5231bd0f": {
     "views": [
      {
       "cell_index": 45
      }
     ]
    },
    "a0cfc3146df147bb91510b6fe9405bfc": {
     "views": [
      {
       "cell_index": 65
      }
     ]
    },
    "a162095de57d4dbcab6a9bd2e98c2b18": {
     "views": [
      {
       "cell_index": 63
      }
     ]
    },
    "a35d4b23c1c149909e696f12fc1e6fad": {
     "views": [
      {
       "cell_index": 63
      }
     ]
    },
    "a492936e81994ba2bd2ac3548bce4efe": {
     "views": [
      {
       "cell_index": 69
      }
     ]
    },
    "a49ff2f68397492cb76c0e13b113c807": {
     "views": [
      {
       "cell_index": 63
      }
     ]
    },
    "a54eb5ccba9a4f5ab078f02adc5a1ed7": {
     "views": [
      {
       "cell_index": 64
      }
     ]
    },
    "a55b6ed423194a2a9d99a3d9f5fd6809": {
     "views": [
      {
       "cell_index": 45
      }
     ]
    },
    "a8264bf45df8479ab067a4f046203bdd": {
     "views": [
      {
       "cell_index": 69
      }
     ]
    },
    "a83197d71ee4482ab9f0b9a0bd0216eb": {
     "views": [
      {
       "cell_index": 63
      }
     ]
    },
    "ad337fdf15f6408f8811d8876395ca38": {
     "views": [
      {
       "cell_index": 63
      }
     ]
    },
    "ad68494194764e3caf0ada2e5d8ec806": {
     "views": [
      {
       "cell_index": 64
      }
     ]
    },
    "af72cd810e254c8cbf8382db0555d1a4": {
     "views": [
      {
       "cell_index": 63
      }
     ]
    },
    "afe9467fc1c5429e9da7fa9a38122c82": {
     "views": [
      {
       "cell_index": 45
      }
     ]
    },
    "b0731b8d67ff41e0a792519a1a7f6464": {
     "views": [
      {
       "cell_index": 33
      }
     ]
    },
    "b0fa9919e7b046ce97a56349f7d29e98": {
     "views": [
      {
       "cell_index": 70
      }
     ]
    },
    "b4ee1275f7914ad58876340cd6ac6872": {
     "views": [
      {
       "cell_index": 33
      }
     ]
    },
    "b5ee7e4f09fb427f973f6f7d50c6dc4f": {
     "views": [
      {
       "cell_index": 33
      }
     ]
    },
    "b6bdb066c50e4a1aa6247c8784702cdd": {
     "views": [
      {
       "cell_index": 72
      }
     ]
    },
    "ba28d20a0f4c4ffdb4abed9e618852e7": {
     "views": [
      {
       "cell_index": 61
      }
     ]
    },
    "bd624f2de89b440392a89a5f188b402e": {
     "views": [
      {
       "cell_index": 45
      }
     ]
    },
    "be9f5a995f2c4ec3a9f83e063d9a0be6": {
     "views": [
      {
       "cell_index": 63
      }
     ]
    },
    "bffcdabf9ce1403387c2d07ad34fb0ba": {
     "views": [
      {
       "cell_index": 33
      }
     ]
    },
    "c251ba6e27ff4de59a02ac84b45d6aee": {
     "views": [
      {
       "cell_index": 66
      }
     ]
    },
    "c5f70fc55b8c45beaab32ebfea0fccb6": {
     "views": [
      {
       "cell_index": 45
      }
     ]
    },
    "c6810a13393345b1b5059a1fe9b2c35c": {
     "views": [
      {
       "cell_index": 63
      }
     ]
    },
    "c6bbd7b865ab46e383222a880dcffcae": {
     "views": [
      {
       "cell_index": 40
      }
     ]
    },
    "c7bace8237d94f10a2b9df61abc54b67": {
     "views": [
      {
       "cell_index": 33
      }
     ]
    },
    "c83513efc6a447b1ab2fdb95a70c1f9f": {
     "views": [
      {
       "cell_index": 64
      }
     ]
    },
    "c9b65e96936f43a88de58e0f2a46a0e4": {
     "views": [
      {
       "cell_index": 62
      }
     ]
    },
    "cbec9044f2ca40e8b00dce9de1d57ce5": {
     "views": [
      {
       "cell_index": 33
      }
     ]
    },
    "cc3ee610f02940e7acf639b258bc332b": {
     "views": [
      {
       "cell_index": 45
      }
     ]
    },
    "cdbc1d3d07d143938698bf535bb1dda7": {
     "views": [
      {
       "cell_index": 61
      }
     ]
    },
    "ce63d854d33b4191b8f6f02d1c2caa68": {
     "views": [
      {
       "cell_index": 45
      }
     ]
    },
    "d1effc27736d4d5a8e860683f8832b8b": {
     "views": [
      {
       "cell_index": 72
      }
     ]
    },
    "d2575ecb284645379ddc20b5f7c38dc4": {
     "views": [
      {
       "cell_index": 72
      }
     ]
    },
    "d281c5943d0b47c7aa72ae5eb04dfaa8": {
     "views": [
      {
       "cell_index": 64
      }
     ]
    },
    "d296f656a84a4c498424c0ce6ec4f58c": {
     "views": [
      {
       "cell_index": 66
      }
     ]
    },
    "d2f44f50968c43ddafcdfb87438ac2e3": {
     "views": [
      {
       "cell_index": 66
      }
     ]
    },
    "d3319bf2f27e4e75a4a494fbd2c1ad1d": {
     "views": [
      {
       "cell_index": 40
      }
     ]
    },
    "d47172c93acc4de4ae4003f45d87ecb8": {
     "views": [
      {
       "cell_index": 70
      }
     ]
    },
    "d677959d3f554e458d9183e2b4416b58": {
     "views": [
      {
       "cell_index": 33
      }
     ]
    },
    "d6ff7ee8f8694a6f90559a787a4e6873": {
     "views": [
      {
       "cell_index": 40
      }
     ]
    },
    "d83008844d9d4b40952bbd24970b31d4": {
     "views": [
      {
       "cell_index": 33
      }
     ]
    },
    "d8687915e1094425a4c89e85e4e3ac9a": {
     "views": [
      {
       "cell_index": 62
      }
     ]
    },
    "d910a8fe6e974ceba585011555c8779e": {
     "views": [
      {
       "cell_index": 63
      }
     ]
    },
    "d946213727ba47d1b5a1bd90565e81ea": {
     "views": [
      {
       "cell_index": 64
      }
     ]
    },
    "d9952408883c4b519a7398b3cede8a8e": {
     "views": [
      {
       "cell_index": 40
      }
     ]
    },
    "d9a0a1f7ec8344f595fdaf996f5d1c58": {
     "views": [
      {
       "cell_index": 64
      }
     ]
    },
    "da32124589544f8db386e39ab5f804a4": {
     "views": [
      {
       "cell_index": 46
      }
     ]
    },
    "dad8050bb92345dd9bd51503b315e730": {
     "views": [
      {
       "cell_index": 63
      }
     ]
    },
    "db1d7306afdc4300a37774adcc3a6844": {
     "views": [
      {
       "cell_index": 63
      }
     ]
    },
    "dc859f8a7f454e809c608d443ef72421": {
     "views": [
      {
       "cell_index": 70
      }
     ]
    },
    "df39dfbcfa0947feabebdefa94b48f24": {
     "views": [
      {
       "cell_index": 64
      }
     ]
    },
    "df6594172e7b4a9d8630168778134b5c": {
     "views": [
      {
       "cell_index": 40
      }
     ]
    },
    "e1dde9bde67248f19b169432a6a53521": {
     "views": [
      {
       "cell_index": 45
      }
     ]
    },
    "e1e5e857583f44be81161413aa5a1078": {
     "views": [
      {
       "cell_index": 33
      }
     ]
    },
    "e4182c836d41439caf8a93c91638e64f": {
     "views": [
      {
       "cell_index": 40
      }
     ]
    },
    "e4824034bf8542a69bad040617c0194c": {
     "views": [
      {
       "cell_index": 63
      }
     ]
    },
    "e4bb2e11b91b4d54adaa566134f6206b": {
     "views": [
      {
       "cell_index": 33
      }
     ]
    },
    "e55d1ba8dfeb49d4a4a343a69230aef8": {
     "views": [
      {
       "cell_index": 62
      }
     ]
    },
    "e7754e4170ef409da08502e978bc3a8c": {
     "views": [
      {
       "cell_index": 64
      }
     ]
    },
    "e7aa4657f9db453fb80d2ef26f76a2c0": {
     "views": [
      {
       "cell_index": 64
      }
     ]
    },
    "e7bbf11603804bbf8b72fb08875b0a47": {
     "views": [
      {
       "cell_index": 40
      }
     ]
    },
    "e891896f26b24c4e89d94f7cdd69ff0b": {
     "views": [
      {
       "cell_index": 62
      }
     ]
    },
    "e974557a09a5448da4b4059b199b49f6": {
     "views": [
      {
       "cell_index": 33
      }
     ]
    },
    "eb7d1e74c5f44d30896133e875c97ae6": {
     "views": [
      {
       "cell_index": 40
      }
     ]
    },
    "ec0d066f6efa40808e6940a2d88ec448": {
     "views": [
      {
       "cell_index": 40
      }
     ]
    },
    "ed4876cffc974b8095b6ae2293da617a": {
     "views": [
      {
       "cell_index": 66
      }
     ]
    },
    "edb18a519d794623a63727d8fc7fbe7e": {
     "views": [
      {
       "cell_index": 64
      }
     ]
    },
    "edcc0f0e3891446eb77eb4a7a4836390": {
     "views": [
      {
       "cell_index": 63
      }
     ]
    },
    "eec9fde8879944b7befd7e5e23f5992a": {
     "views": [
      {
       "cell_index": 33
      }
     ]
    },
    "f12561d78afa4c2188c3ef4dccb6351d": {
     "views": [
      {
       "cell_index": 33
      }
     ]
    },
    "f1d6cd08e4494356b365feedb31340b9": {
     "views": [
      {
       "cell_index": 33
      }
     ]
    },
    "f1ec2508d3f1445296d86771013e8d7f": {
     "views": [
      {
       "cell_index": 46
      }
     ]
    },
    "f56fd9d72188462e9a2ce3fd4104086c": {
     "views": [
      {
       "cell_index": 64
      }
     ]
    },
    "f740a6ed48684cbf995d1328e357454b": {
     "views": [
      {
       "cell_index": 64
      }
     ]
    },
    "f84f8d48c1734b20be45be65836d105d": {
     "views": [
      {
       "cell_index": 65
      }
     ]
    },
    "fbb04e21aa024048962b374177b0d096": {
     "views": [
      {
       "cell_index": 33
      }
     ]
    },
    "fef0cbea929f4493905aac5230e18f4a": {
     "views": [
      {
       "cell_index": 40
      }
     ]
    },
    "ff4b6a51b9da4789969776bfd1665695": {
     "views": [
      {
       "cell_index": 40
      }
     ]
    },
    "ff86e83dada144d9abc2bd53b44a0fac": {
     "views": [
      {
       "cell_index": 63
      }
     ]
    }
   },
   "version": "1.2.0"
  }
 },
 "nbformat": 4,
 "nbformat_minor": 2
}
