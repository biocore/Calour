{
 "cells": [
  {
   "cell_type": "markdown",
   "metadata": {},
   "source": [
    "# Setup\n",
    "## import calour"
   ]
  },
  {
   "cell_type": "code",
   "execution_count": 1,
   "metadata": {
    "collapsed": true
   },
   "outputs": [],
   "source": [
    "import calour as ca"
   ]
  },
  {
   "cell_type": "markdown",
   "metadata": {},
   "source": [
    "## let's set to print messages of INFO level from Calour\n",
    "Calour uses Python's builtin [`logging` module](https://docs.python.org/3.5/library/logging.html#levels) to print out logging messages. By default the logging level is set to `WARNING`. Let's change it to `INFO` for the purpose of this tutorial, so we get more detailed information about the function outputs."
   ]
  },
  {
   "cell_type": "code",
   "execution_count": 2,
   "metadata": {
    "collapsed": true
   },
   "outputs": [],
   "source": [
    "ca.set_log_level('INFO')"
   ]
  },
  {
   "cell_type": "markdown",
   "metadata": {},
   "source": [
    "## and we want interactive plots inside the notebook"
   ]
  },
  {
   "cell_type": "code",
   "execution_count": 3,
   "metadata": {
    "collapsed": true
   },
   "outputs": [],
   "source": [
    "%matplotlib notebook"
   ]
  },
  {
   "cell_type": "markdown",
   "metadata": {},
   "source": [
    "# Moving picture data set\n",
    "\n",
    "This data set is from:\n",
    "Caporaso JG, Lauber CL, Costello EK, Berg-Lyons D, Gonzalez A, Stombaugh J, Knights D, Gajer P, Ravel J, Fierer N, et al. (2011) Moving pictures of the human microbiome. Genome Biology, 12, R50.\n",
    "\n",
    "The raw data are reproccessed with [deblur method](https://github.com/biocore/deblur), which is published in [mSystem](http://msystems.asm.org/content/2/2/e00191-16)\n",
    "\n",
    "## Load the data\n",
    "\n",
    "We use __`read_amplicon`__ to read the data into __`AmpliconExperiment`__ class. This class has some amplicon experiment specific functions such as `filter_taxonomy` etc.\n",
    "\n",
    "Useful parameters are:\n",
    "- biom table name\n",
    "- mapping file name (can be None if no sample metadata available)\n",
    "- min_reads - the minimal number of reads per sample in order to keep it\n",
    "- normalize - the depth to normalize each sample to (note it is not rarefaction butn normalization to constant sum)"
   ]
  },
  {
   "cell_type": "code",
   "execution_count": 4,
   "metadata": {},
   "outputs": [
    {
     "name": "stdout",
     "output_type": "stream",
     "text": [
      "2017-10-09 12:41:32 INFO loaded 1968 samples, 7056 features\n",
      "2017-10-09 12:41:32 INFO 1967 remaining\n"
     ]
    }
   ],
   "source": [
    "exp = ca.read_amplicon(data_file='./moving_pic.biom', sample_metadata_file='./moving_pic.sample.txt', min_reads=1000, normalize=10000)"
   ]
  },
  {
   "cell_type": "code",
   "execution_count": 5,
   "metadata": {},
   "outputs": [
    {
     "data": {
      "text/plain": [
       "AmpliconExperiment moving_pic.biom\n",
       "----------------------------------\n",
       "data dimension: 1967 samples, 7056 features\n",
       "sample IDs: Index(['L2S137.273277', 'L3S167.273782', 'L4S102.275028', 'L6S243.274842',\n",
       "       'L3S240.274358', 'L5S35.273321', 'L2S88.273522', 'L3S164.273576',\n",
       "       'L6S85.273934', 'L3S337.273573',\n",
       "       ...\n",
       "       'L2S362.273633', 'L4S21.273906', 'L3S100.274551', 'L6S223.273360',\n",
       "       'L3S312.274058', 'L4S12.275133', 'L1S99.273974', 'L2S305.273862',\n",
       "       'L5S116.273963', 'L6S216.274472'],\n",
       "      dtype='object', name='#SampleID', length=1967)\n",
       "feature IDs: Index(['TACGGAGGATCCGAGCGTTATCCGGATTTATTGGGTTTAAAGGGTGCTTAGGCGGCAAATTAAGTTAGTGGTTAAATAGTTCGGCTCAACCGGATTTCGCCATTAAAACTGATATGCTAGAGATTAAACGAGGTAGGCGGAATAAGTTA',\n",
       "       'TACAGAGGTCTCAAGCGTTGTTCGGAATCACTGGGCGTAAAGCGTGCGTAGGCTGTTTCGTAAGTCGTGTGTGAAAGGTGCGGGCTCAACCCGCGGACGGCACATGATACTGCGAGACTAGAGTAATGGAGGGGGAACCGGAATTCTCG',\n",
       "       'TACGTAGGGTGCGAGCGTTGTCCGGAATTATTGGGCGTAAAGGGCTCGTAGGCGGTTTGTTGCGTCGGGAGTGAAAACTCAGGGCTTAACCCTGAGCCTGCTTCCGATACGGGCAGACTAGAGGTATGCAGGGGAGAACGGAATTCCTG',\n",
       "       'TACGTATGGAGCAAGCGTTATCCGGATTTACTGGGTGTAAAGGGAGTGTAGGTGGCCATGCAAGTCAGAAGTGAAAATCCGGGGCTCAACCCCGGAACTGCTTTTGAAACTGCAGGGCTAGAGTGCAGGAGGGGCAAGTGGAATTCCTA',\n",
       "       'TACGTAGGTGGCGAGCGTTATCCGGATTTATTGGGTTTAAAGGGAGCGTAGGCGGCTGATTAAGTCAGCGGTGAAAGGTAGCAGCTTAACTGTTTTACATGCCGTTGATACTGGTTAGCTTGAGTTGACAGAAGGCAGATAGAATTCCT',\n",
       "       'TACGGAGGGTGCGAGCGTTGTCCGGATTTATTGGGTTTAAAGGGTGCGTAGGCGGTTTATTAAGTCAGTGGTGAAAGACGGTCGCTCAACGATTGCAGTGCCATTGATACTGGTAGACTTGAGTTCGTATGCCGTCTTCTGCTTGGAAA',\n",
       "       'TACGTAGGATCCAAGCGTTATCCGGAATTACTGGGCGTAAAGCGTGCGCAGACGGTTTGATAGGTCTAATGCGAAATCCAGTGGCTCAACCATTTGGACTGTATTAGAAACCATCTAACTAGAGGTAGGTAGAGGCAAGTGGAATTTCT',\n",
       "       'TACGTAGGGGGCAAGCGTTATCCGGATTTACTGGGTGTAAAGGGAGCGTAGACGGCTTTGCAAGTCTGACGTGAAACTCCGGGGCTCAACTCCGGAACTGCGTTGGAAACTGTAAGGCTTGAGTGCCGGAGAGGTAAGCGGAATTCCTA',\n",
       "       'TACAGAGGGTGCAAGCGTTAATCGGAATTACTGGGCGTAAAGCGCGCGTAGGTGGTTCAGTAAGATGGGTGTGAAATCCCCGGGCTCAACCTGGGAACTGCTTTCATAACTGCTGAACTAGAGTACGGTAGAGGGTAGTGGAATTTCCT',\n",
       "       'TACGTAGGGTGCGAGCGTTGTCCGGAATTACTGGGCGTAAAGAGCTCGTAGGTGGTTTGTCGCGTCGTCTGTGAAATCCCGGGGCTTAACTCCGGGCGTGCAGGCGATACGGGCATAACTTGAGTGCTGTAGGGGAGACTGGAATTCCT',\n",
       "       ...\n",
       "       'TACGTATGGGGCAAGCGTTGTCCGGAATTATTGGGCGTAAAGGGTACGTAGGCGGTTTAATAAGTCCTAATTAAAAGGCTATGGCTCAACCATAGTATGGTTAGGAAACTGTTAAACTTGAGTAGATGAGGGGAAAGTGGAATTCCATG',\n",
       "       'TACGTAGGGCGCAAGCGTTATCCGGAATTATTGGGCGTAAAGAGCTCGTAGGCGGTTTGTCGCGTCTGCCGTGAAAGTCCGGGGCTTAACCCCGGATCTGCGGTGGGTACGGGCAGACTTGAGTGATGTAGGGGAGACTGGAATTCCTG',\n",
       "       'TACGTAGGCAGCGAGCGTTGTTCGGAGTTACTGGGCGTAAAGAGTGCGTAGGCGGTTTTCTAAGTTTGGTGTGAAATCTCCCGGCTTAACTGGGAGGGTGCGCCGAAGACTGGAAGGCTTGAGTATGGGAGAGGTAAGCGGAATTCCTG',\n",
       "       'TACGTAGGGGGCGAGCGTTATCCGGAATCACTGGGCGTAAAGGGTGCGTAGGCGGGACATCAAGCCAGGGGTGAAAGGCAGTGGCTCAACCATTGTAAGCCTTTGGAACTGATGTTCTTGAGTGCAGGAGAGGTAAGTGGAATTCCTAG',\n",
       "       'TACGAAGGGGGCTAGCGTTGCTCGGAATTACTGGGCGTAAAGGGCGCGTAGGCGGACATTTAAGTCGGGGGTGAAATCCCAGGGCTCAACCCTGGAACTGCCTTCGATACTGGATGTCTTGAGTGCGGGAGAGGTGTGTGGAACTCCGA',\n",
       "       'TACGGAGGGTGCAAGCGTTAATCAGAATTACTGGGCGTAAAGAGCGCGTAGGTGGTTTTTTAAGTCAGATGTGAAATCCCTAGGCTTAACCTAGGAACTGCATTTGAAACTGAAAAACTAGAGTATCGTAGAGGGAGGTAGAATTCTAG',\n",
       "       'TACGGAGGGTGCAAGCGTTATCCGGATTTACTGGGTTTAAAGGGTGCGCAGGCGGACTTTTAAGTCAGAGGTGAAATCTCCGGGCTCAACCCGGAAACTGCCCCTGATACTATTGGTCTTGAATATCGTTGAGGTAGGCGGAATACATC',\n",
       "       'TACGTAGAAGACTAGTGTTATTCATCTTTATTAGGTTTAAAGGGTACCTAGACGGTATAATTAGCCTTAAACAGGGTACGCTTATACTAGAGTTATATATGAGAAGGGGAGTATTTATGGTGTAGAGTTGAAATTTGTTGATACTATAA',\n",
       "       'TACGTAGGTGGCAAGCGTTGTCCGGAATTATTGGGCGTAAAGAGCATGTAGGCGGGCTTTTAAGTCTGACGTGAAAATGCGGGGCTTAACCCCGTATGGCGTTGGATACTGGAAGTCTTGAGTGCAGGAGAGGAAAGGGGAATTCCCAG',\n",
       "       'TACGGAGGGGGCTAGCGTTGTTCGGAATTACTGGGCGTAAAGCGCGCGTAGGCGGCTTTGTAAGTTAGAGGTGAAAGCCCAGAGCTTAACTCTGGAATTGCCTTTAAGACTGCATCGCTTGAATCATGGAGAGGTGAGTGGAATTCCGA'],\n",
       "      dtype='object', length=7056)"
      ]
     },
     "execution_count": 5,
     "metadata": {},
     "output_type": "execute_result"
    }
   ],
   "source": [
    "exp"
   ]
  },
  {
   "cell_type": "markdown",
   "metadata": {},
   "source": [
    "## each `Experiment` has the following attributes:\n",
    "### `data` : a data sparse (or dense) 2D array\n",
    "\n",
    "This stores the abundance information. Each row is a sample, each column a feature (i.e. OTU, gene, metabolites, etc)"
   ]
  },
  {
   "cell_type": "code",
   "execution_count": 6,
   "metadata": {},
   "outputs": [
    {
     "data": {
      "text/plain": [
       "<1967x7056 sparse matrix of type '<class 'numpy.float64'>'\n",
       "\twith 130081 stored elements in Compressed Sparse Row format>"
      ]
     },
     "execution_count": 6,
     "metadata": {},
     "output_type": "execute_result"
    }
   ],
   "source": [
    "exp.data"
   ]
  },
  {
   "cell_type": "markdown",
   "metadata": {},
   "source": [
    "### `sample_metadata` : a pandas dataframe with one row per sample\n",
    "index is the SampleID (first column in the mapping file), matching the biom table sampleIDs"
   ]
  },
  {
   "cell_type": "code",
   "execution_count": 7,
   "metadata": {},
   "outputs": [
    {
     "data": {
      "text/html": [
       "<div>\n",
       "<style>\n",
       "    .dataframe thead tr:only-child th {\n",
       "        text-align: right;\n",
       "    }\n",
       "\n",
       "    .dataframe thead th {\n",
       "        text-align: left;\n",
       "    }\n",
       "\n",
       "    .dataframe tbody tr th {\n",
       "        vertical-align: top;\n",
       "    }\n",
       "</style>\n",
       "<table border=\"1\" class=\"dataframe\">\n",
       "  <thead>\n",
       "    <tr style=\"text-align: right;\">\n",
       "      <th></th>\n",
       "      <th>BarcodeSequence</th>\n",
       "      <th>LinkerPrimerSequence</th>\n",
       "      <th>DAYS_SINCE_EPOCH</th>\n",
       "      <th>TARGET_SUBFRAGMENT</th>\n",
       "      <th>ASSIGNED_FROM_GEO</th>\n",
       "      <th>EXPERIMENT_CENTER</th>\n",
       "      <th>TITLE</th>\n",
       "      <th>COMMON_SAMPLE_SITE</th>\n",
       "      <th>RUN_PREFIX</th>\n",
       "      <th>HOST_COMMON_NAME</th>\n",
       "      <th>...</th>\n",
       "      <th>KEY_SEQ</th>\n",
       "      <th>BODY_PRODUCT</th>\n",
       "      <th>AGE_IN_YEARS</th>\n",
       "      <th>RUN_CENTER</th>\n",
       "      <th>LIBRARY_CONSTRUCTION_PROTOCOL</th>\n",
       "      <th>LATITUDE</th>\n",
       "      <th>REGION</th>\n",
       "      <th>HOST_INDIVIDUAL</th>\n",
       "      <th>Description</th>\n",
       "      <th>_calour_original_abundance</th>\n",
       "    </tr>\n",
       "    <tr>\n",
       "      <th>#SampleID</th>\n",
       "      <th></th>\n",
       "      <th></th>\n",
       "      <th></th>\n",
       "      <th></th>\n",
       "      <th></th>\n",
       "      <th></th>\n",
       "      <th></th>\n",
       "      <th></th>\n",
       "      <th></th>\n",
       "      <th></th>\n",
       "      <th></th>\n",
       "      <th></th>\n",
       "      <th></th>\n",
       "      <th></th>\n",
       "      <th></th>\n",
       "      <th></th>\n",
       "      <th></th>\n",
       "      <th></th>\n",
       "      <th></th>\n",
       "      <th></th>\n",
       "      <th></th>\n",
       "    </tr>\n",
       "  </thead>\n",
       "  <tbody>\n",
       "    <tr>\n",
       "      <th>L2S137.273277</th>\n",
       "      <td>AATCAGTCTCGT</td>\n",
       "      <td>GTGCCAGCMGCCGCGGTAA</td>\n",
       "      <td>14223</td>\n",
       "      <td>V4</td>\n",
       "      <td>n</td>\n",
       "      <td>CCME</td>\n",
       "      <td>Moving_pictures_of_the_human_microbiome</td>\n",
       "      <td>L_palm</td>\n",
       "      <td>s_2_sequence</td>\n",
       "      <td>human</td>\n",
       "      <td>...</td>\n",
       "      <td>none</td>\n",
       "      <td>UBERON:zone of skin of hand</td>\n",
       "      <td>None</td>\n",
       "      <td>CGS-GL</td>\n",
       "      <td>Five primers, two for PCR and three for sequen...</td>\n",
       "      <td>40.014986</td>\n",
       "      <td>L2</td>\n",
       "      <td>F4</td>\n",
       "      <td>illumina_time_series</td>\n",
       "      <td>10000.0</td>\n",
       "    </tr>\n",
       "    <tr>\n",
       "      <th>L3S167.273782</th>\n",
       "      <td>TACTTCGCTCGC</td>\n",
       "      <td>GTGCCAGCMGCCGCGGTAA</td>\n",
       "      <td>14526</td>\n",
       "      <td>V4</td>\n",
       "      <td>n</td>\n",
       "      <td>CCME</td>\n",
       "      <td>Moving_pictures_of_the_human_microbiome</td>\n",
       "      <td>L_palm</td>\n",
       "      <td>s_3_sequence</td>\n",
       "      <td>None</td>\n",
       "      <td>...</td>\n",
       "      <td>none</td>\n",
       "      <td>UBERON:zone of skin of hand</td>\n",
       "      <td>None</td>\n",
       "      <td>CGS-GL</td>\n",
       "      <td>Five primers, two for PCR and three for sequen...</td>\n",
       "      <td>40.014986</td>\n",
       "      <td>L3</td>\n",
       "      <td>M3</td>\n",
       "      <td>illumina_time_series</td>\n",
       "      <td>10000.0</td>\n",
       "    </tr>\n",
       "    <tr>\n",
       "      <th>L4S102.275028</th>\n",
       "      <td>GCAATAGCTGCT</td>\n",
       "      <td>GTGCCAGCMGCCGCGGTAA</td>\n",
       "      <td>14310</td>\n",
       "      <td>V4</td>\n",
       "      <td>n</td>\n",
       "      <td>CCME</td>\n",
       "      <td>Moving_pictures_of_the_human_microbiome</td>\n",
       "      <td>R_palm</td>\n",
       "      <td>s_4_sequence</td>\n",
       "      <td>None</td>\n",
       "      <td>...</td>\n",
       "      <td>none</td>\n",
       "      <td>UBERON:zone of skin of hand</td>\n",
       "      <td>None</td>\n",
       "      <td>CGS-GL</td>\n",
       "      <td>Five primers, two for PCR and three for sequen...</td>\n",
       "      <td>40.014986</td>\n",
       "      <td>L4</td>\n",
       "      <td>M3</td>\n",
       "      <td>illumina_time_series</td>\n",
       "      <td>10000.0</td>\n",
       "    </tr>\n",
       "    <tr>\n",
       "      <th>L6S243.274842</th>\n",
       "      <td>ACGAGTGCTATC</td>\n",
       "      <td>GTGCCAGCMGCCGCGGTAA</td>\n",
       "      <td>14507</td>\n",
       "      <td>V4</td>\n",
       "      <td>n</td>\n",
       "      <td>CCME</td>\n",
       "      <td>Moving_pictures_of_the_human_microbiome</td>\n",
       "      <td>Tongue</td>\n",
       "      <td>s_6_sequence</td>\n",
       "      <td>None</td>\n",
       "      <td>...</td>\n",
       "      <td>none</td>\n",
       "      <td>UBERON:tongue</td>\n",
       "      <td>None</td>\n",
       "      <td>CGS-GL</td>\n",
       "      <td>Five primers, two for PCR and three for sequen...</td>\n",
       "      <td>40.014986</td>\n",
       "      <td>L6</td>\n",
       "      <td>M3</td>\n",
       "      <td>illumina_time_series</td>\n",
       "      <td>10000.0</td>\n",
       "    </tr>\n",
       "    <tr>\n",
       "      <th>L3S240.274358</th>\n",
       "      <td>AGTACGCTCGAG</td>\n",
       "      <td>GTGCCAGCMGCCGCGGTAA</td>\n",
       "      <td>14178</td>\n",
       "      <td>V4</td>\n",
       "      <td>n</td>\n",
       "      <td>CCME</td>\n",
       "      <td>Moving_pictures_of_the_human_microbiome</td>\n",
       "      <td>R_palm</td>\n",
       "      <td>s_3_sequence</td>\n",
       "      <td>human</td>\n",
       "      <td>...</td>\n",
       "      <td>none</td>\n",
       "      <td>UBERON:zone of skin of hand</td>\n",
       "      <td>None</td>\n",
       "      <td>CGS-GL</td>\n",
       "      <td>Five primers, two for PCR and three for sequen...</td>\n",
       "      <td>40.014986</td>\n",
       "      <td>L3</td>\n",
       "      <td>F4</td>\n",
       "      <td>illumina_time_series</td>\n",
       "      <td>10000.0</td>\n",
       "    </tr>\n",
       "  </tbody>\n",
       "</table>\n",
       "<p>5 rows × 48 columns</p>\n",
       "</div>"
      ],
      "text/plain": [
       "              BarcodeSequence LinkerPrimerSequence  DAYS_SINCE_EPOCH  \\\n",
       "#SampleID                                                              \n",
       "L2S137.273277    AATCAGTCTCGT  GTGCCAGCMGCCGCGGTAA             14223   \n",
       "L3S167.273782    TACTTCGCTCGC  GTGCCAGCMGCCGCGGTAA             14526   \n",
       "L4S102.275028    GCAATAGCTGCT  GTGCCAGCMGCCGCGGTAA             14310   \n",
       "L6S243.274842    ACGAGTGCTATC  GTGCCAGCMGCCGCGGTAA             14507   \n",
       "L3S240.274358    AGTACGCTCGAG  GTGCCAGCMGCCGCGGTAA             14178   \n",
       "\n",
       "              TARGET_SUBFRAGMENT ASSIGNED_FROM_GEO EXPERIMENT_CENTER  \\\n",
       "#SampleID                                                              \n",
       "L2S137.273277                 V4                 n              CCME   \n",
       "L3S167.273782                 V4                 n              CCME   \n",
       "L4S102.275028                 V4                 n              CCME   \n",
       "L6S243.274842                 V4                 n              CCME   \n",
       "L3S240.274358                 V4                 n              CCME   \n",
       "\n",
       "                                                 TITLE COMMON_SAMPLE_SITE  \\\n",
       "#SampleID                                                                   \n",
       "L2S137.273277  Moving_pictures_of_the_human_microbiome             L_palm   \n",
       "L3S167.273782  Moving_pictures_of_the_human_microbiome             L_palm   \n",
       "L4S102.275028  Moving_pictures_of_the_human_microbiome             R_palm   \n",
       "L6S243.274842  Moving_pictures_of_the_human_microbiome             Tongue   \n",
       "L3S240.274358  Moving_pictures_of_the_human_microbiome             R_palm   \n",
       "\n",
       "                 RUN_PREFIX HOST_COMMON_NAME            ...              \\\n",
       "#SampleID                                               ...               \n",
       "L2S137.273277  s_2_sequence            human            ...               \n",
       "L3S167.273782  s_3_sequence             None            ...               \n",
       "L4S102.275028  s_4_sequence             None            ...               \n",
       "L6S243.274842  s_6_sequence             None            ...               \n",
       "L3S240.274358  s_3_sequence            human            ...               \n",
       "\n",
       "               KEY_SEQ                 BODY_PRODUCT AGE_IN_YEARS  RUN_CENTER  \\\n",
       "#SampleID                                                                      \n",
       "L2S137.273277     none  UBERON:zone of skin of hand         None      CGS-GL   \n",
       "L3S167.273782     none  UBERON:zone of skin of hand         None      CGS-GL   \n",
       "L4S102.275028     none  UBERON:zone of skin of hand         None      CGS-GL   \n",
       "L6S243.274842     none                UBERON:tongue         None      CGS-GL   \n",
       "L3S240.274358     none  UBERON:zone of skin of hand         None      CGS-GL   \n",
       "\n",
       "                                   LIBRARY_CONSTRUCTION_PROTOCOL   LATITUDE  \\\n",
       "#SampleID                                                                     \n",
       "L2S137.273277  Five primers, two for PCR and three for sequen...  40.014986   \n",
       "L3S167.273782  Five primers, two for PCR and three for sequen...  40.014986   \n",
       "L4S102.275028  Five primers, two for PCR and three for sequen...  40.014986   \n",
       "L6S243.274842  Five primers, two for PCR and three for sequen...  40.014986   \n",
       "L3S240.274358  Five primers, two for PCR and three for sequen...  40.014986   \n",
       "\n",
       "              REGION  HOST_INDIVIDUAL           Description  \\\n",
       "#SampleID                                                     \n",
       "L2S137.273277     L2               F4  illumina_time_series   \n",
       "L3S167.273782     L3               M3  illumina_time_series   \n",
       "L4S102.275028     L4               M3  illumina_time_series   \n",
       "L6S243.274842     L6               M3  illumina_time_series   \n",
       "L3S240.274358     L3               F4  illumina_time_series   \n",
       "\n",
       "              _calour_original_abundance  \n",
       "#SampleID                                 \n",
       "L2S137.273277                    10000.0  \n",
       "L3S167.273782                    10000.0  \n",
       "L4S102.275028                    10000.0  \n",
       "L6S243.274842                    10000.0  \n",
       "L3S240.274358                    10000.0  \n",
       "\n",
       "[5 rows x 48 columns]"
      ]
     },
     "execution_count": 7,
     "metadata": {},
     "output_type": "execute_result"
    }
   ],
   "source": [
    "exp.sample_metadata.head(5)"
   ]
  },
  {
   "cell_type": "markdown",
   "metadata": {},
   "source": [
    "### `feature_metadata` : a pandas dataframe with one row per feature (i.e. sOTU)\n",
    "For deblurred data set, index is the actual sequence, matching the biom table\n",
    "\n",
    "Additional properties are loaded from biom table observation metadata (i.e. taxonomy)"
   ]
  },
  {
   "cell_type": "code",
   "execution_count": 8,
   "metadata": {},
   "outputs": [
    {
     "data": {
      "text/html": [
       "<div>\n",
       "<style>\n",
       "    .dataframe thead tr:only-child th {\n",
       "        text-align: right;\n",
       "    }\n",
       "\n",
       "    .dataframe thead th {\n",
       "        text-align: left;\n",
       "    }\n",
       "\n",
       "    .dataframe tbody tr th {\n",
       "        vertical-align: top;\n",
       "    }\n",
       "</style>\n",
       "<table border=\"1\" class=\"dataframe\">\n",
       "  <thead>\n",
       "    <tr style=\"text-align: right;\">\n",
       "      <th></th>\n",
       "      <th>taxonomy</th>\n",
       "    </tr>\n",
       "  </thead>\n",
       "  <tbody>\n",
       "    <tr>\n",
       "      <th>TACGGAGGATCCGAGCGTTATCCGGATTTATTGGGTTTAAAGGGTGCTTAGGCGGCAAATTAAGTTAGTGGTTAAATAGTTCGGCTCAACCGGATTTCGCCATTAAAACTGATATGCTAGAGATTAAACGAGGTAGGCGGAATAAGTTA</th>\n",
       "      <td>k__Bacteria;p__Bacteroidetes;c__Bacteroidia;o_...</td>\n",
       "    </tr>\n",
       "    <tr>\n",
       "      <th>TACAGAGGTCTCAAGCGTTGTTCGGAATCACTGGGCGTAAAGCGTGCGTAGGCTGTTTCGTAAGTCGTGTGTGAAAGGTGCGGGCTCAACCCGCGGACGGCACATGATACTGCGAGACTAGAGTAATGGAGGGGGAACCGGAATTCTCG</th>\n",
       "      <td>k__Bacteria;p__Verrucomicrobia;c__Verrucomicro...</td>\n",
       "    </tr>\n",
       "    <tr>\n",
       "      <th>TACGTAGGGTGCGAGCGTTGTCCGGAATTATTGGGCGTAAAGGGCTCGTAGGCGGTTTGTTGCGTCGGGAGTGAAAACTCAGGGCTTAACCCTGAGCCTGCTTCCGATACGGGCAGACTAGAGGTATGCAGGGGAGAACGGAATTCCTG</th>\n",
       "      <td>k__Bacteria;p__Actinobacteria;c__Actinobacteri...</td>\n",
       "    </tr>\n",
       "    <tr>\n",
       "      <th>TACGTATGGAGCAAGCGTTATCCGGATTTACTGGGTGTAAAGGGAGTGTAGGTGGCCATGCAAGTCAGAAGTGAAAATCCGGGGCTCAACCCCGGAACTGCTTTTGAAACTGCAGGGCTAGAGTGCAGGAGGGGCAAGTGGAATTCCTA</th>\n",
       "      <td>k__Bacteria;p__Firmicutes;c__Clostridia;o__Clo...</td>\n",
       "    </tr>\n",
       "    <tr>\n",
       "      <th>TACGTAGGTGGCGAGCGTTATCCGGATTTATTGGGTTTAAAGGGAGCGTAGGCGGCTGATTAAGTCAGCGGTGAAAGGTAGCAGCTTAACTGTTTTACATGCCGTTGATACTGGTTAGCTTGAGTTGACAGAAGGCAGATAGAATTCCT</th>\n",
       "      <td>k__Bacteria;p__Bacteroidetes;c__Cytophagia;o__...</td>\n",
       "    </tr>\n",
       "  </tbody>\n",
       "</table>\n",
       "</div>"
      ],
      "text/plain": [
       "                                                                                             taxonomy\n",
       "TACGGAGGATCCGAGCGTTATCCGGATTTATTGGGTTTAAAGGGTGC...  k__Bacteria;p__Bacteroidetes;c__Bacteroidia;o_...\n",
       "TACAGAGGTCTCAAGCGTTGTTCGGAATCACTGGGCGTAAAGCGTGC...  k__Bacteria;p__Verrucomicrobia;c__Verrucomicro...\n",
       "TACGTAGGGTGCGAGCGTTGTCCGGAATTATTGGGCGTAAAGGGCTC...  k__Bacteria;p__Actinobacteria;c__Actinobacteri...\n",
       "TACGTATGGAGCAAGCGTTATCCGGATTTACTGGGTGTAAAGGGAGT...  k__Bacteria;p__Firmicutes;c__Clostridia;o__Clo...\n",
       "TACGTAGGTGGCGAGCGTTATCCGGATTTATTGGGTTTAAAGGGAGC...  k__Bacteria;p__Bacteroidetes;c__Cytophagia;o__..."
      ]
     },
     "execution_count": 8,
     "metadata": {},
     "output_type": "execute_result"
    }
   ],
   "source": [
    "exp.feature_metadata.head(5)"
   ]
  },
  {
   "cell_type": "markdown",
   "metadata": {},
   "source": [
    "## Sort the samples \n",
    "sort by the time field, COMMON_SAMPLE_SITE (to get separation between left/right hand), and subject id"
   ]
  },
  {
   "cell_type": "code",
   "execution_count": 9,
   "metadata": {},
   "outputs": [
    {
     "data": {
      "text/plain": [
       "Tongue    508\n",
       "L_palm    499\n",
       "R_palm    493\n",
       "feces     467\n",
       "Name: COMMON_SAMPLE_SITE, dtype: int64"
      ]
     },
     "execution_count": 9,
     "metadata": {},
     "output_type": "execute_result"
    }
   ],
   "source": [
    "exp.sample_metadata.COMMON_SAMPLE_SITE.value_counts()"
   ]
  },
  {
   "cell_type": "code",
   "execution_count": 10,
   "metadata": {
    "collapsed": true
   },
   "outputs": [],
   "source": [
    "exp=exp.sort_samples('DAYS_SINCE_EXPERIMENT_START').sort_samples('COMMON_SAMPLE_SITE').sort_samples('HOST_SUBJECT_ID')"
   ]
  },
  {
   "cell_type": "code",
   "execution_count": 11,
   "metadata": {},
   "outputs": [
    {
     "data": {
      "text/html": [
       "<div>\n",
       "<style>\n",
       "    .dataframe thead tr:only-child th {\n",
       "        text-align: right;\n",
       "    }\n",
       "\n",
       "    .dataframe thead th {\n",
       "        text-align: left;\n",
       "    }\n",
       "\n",
       "    .dataframe tbody tr th {\n",
       "        vertical-align: top;\n",
       "    }\n",
       "</style>\n",
       "<table border=\"1\" class=\"dataframe\">\n",
       "  <thead>\n",
       "    <tr style=\"text-align: right;\">\n",
       "      <th></th>\n",
       "      <th>taxonomy</th>\n",
       "    </tr>\n",
       "  </thead>\n",
       "  <tbody>\n",
       "    <tr>\n",
       "      <th>TACGGAGGATCCGAGCGTTATCCGGATTTATTGGGTTTAAAGGGTGCTTAGGCGGCAAATTAAGTTAGTGGTTAAATAGTTCGGCTCAACCGGATTTCGCCATTAAAACTGATATGCTAGAGATTAAACGAGGTAGGCGGAATAAGTTA</th>\n",
       "      <td>k__Bacteria;p__Bacteroidetes;c__Bacteroidia;o_...</td>\n",
       "    </tr>\n",
       "    <tr>\n",
       "      <th>TACAGAGGTCTCAAGCGTTGTTCGGAATCACTGGGCGTAAAGCGTGCGTAGGCTGTTTCGTAAGTCGTGTGTGAAAGGTGCGGGCTCAACCCGCGGACGGCACATGATACTGCGAGACTAGAGTAATGGAGGGGGAACCGGAATTCTCG</th>\n",
       "      <td>k__Bacteria;p__Verrucomicrobia;c__Verrucomicro...</td>\n",
       "    </tr>\n",
       "    <tr>\n",
       "      <th>TACGTAGGGTGCGAGCGTTGTCCGGAATTATTGGGCGTAAAGGGCTCGTAGGCGGTTTGTTGCGTCGGGAGTGAAAACTCAGGGCTTAACCCTGAGCCTGCTTCCGATACGGGCAGACTAGAGGTATGCAGGGGAGAACGGAATTCCTG</th>\n",
       "      <td>k__Bacteria;p__Actinobacteria;c__Actinobacteri...</td>\n",
       "    </tr>\n",
       "    <tr>\n",
       "      <th>TACGTATGGAGCAAGCGTTATCCGGATTTACTGGGTGTAAAGGGAGTGTAGGTGGCCATGCAAGTCAGAAGTGAAAATCCGGGGCTCAACCCCGGAACTGCTTTTGAAACTGCAGGGCTAGAGTGCAGGAGGGGCAAGTGGAATTCCTA</th>\n",
       "      <td>k__Bacteria;p__Firmicutes;c__Clostridia;o__Clo...</td>\n",
       "    </tr>\n",
       "    <tr>\n",
       "      <th>TACGTAGGTGGCGAGCGTTATCCGGATTTATTGGGTTTAAAGGGAGCGTAGGCGGCTGATTAAGTCAGCGGTGAAAGGTAGCAGCTTAACTGTTTTACATGCCGTTGATACTGGTTAGCTTGAGTTGACAGAAGGCAGATAGAATTCCT</th>\n",
       "      <td>k__Bacteria;p__Bacteroidetes;c__Cytophagia;o__...</td>\n",
       "    </tr>\n",
       "  </tbody>\n",
       "</table>\n",
       "</div>"
      ],
      "text/plain": [
       "                                                                                             taxonomy\n",
       "TACGGAGGATCCGAGCGTTATCCGGATTTATTGGGTTTAAAGGGTGC...  k__Bacteria;p__Bacteroidetes;c__Bacteroidia;o_...\n",
       "TACAGAGGTCTCAAGCGTTGTTCGGAATCACTGGGCGTAAAGCGTGC...  k__Bacteria;p__Verrucomicrobia;c__Verrucomicro...\n",
       "TACGTAGGGTGCGAGCGTTGTCCGGAATTATTGGGCGTAAAGGGCTC...  k__Bacteria;p__Actinobacteria;c__Actinobacteri...\n",
       "TACGTATGGAGCAAGCGTTATCCGGATTTACTGGGTGTAAAGGGAGT...  k__Bacteria;p__Firmicutes;c__Clostridia;o__Clo...\n",
       "TACGTAGGTGGCGAGCGTTATCCGGATTTATTGGGTTTAAAGGGAGC...  k__Bacteria;p__Bacteroidetes;c__Cytophagia;o__..."
      ]
     },
     "execution_count": 11,
     "metadata": {},
     "output_type": "execute_result"
    }
   ],
   "source": [
    "exp.feature_metadata.head()"
   ]
  },
  {
   "cell_type": "markdown",
   "metadata": {},
   "source": [
    "## divide to per sample-type experiments"
   ]
  },
  {
   "cell_type": "code",
   "execution_count": 12,
   "metadata": {},
   "outputs": [
    {
     "data": {
      "text/plain": [
       "UBERON:zone of skin of hand    992\n",
       "UBERON:tongue                  508\n",
       "UBERON:feces                   467\n",
       "Name: BODY_PRODUCT, dtype: int64"
      ]
     },
     "execution_count": 12,
     "metadata": {},
     "output_type": "execute_result"
    }
   ],
   "source": [
    "exp.sample_metadata['BODY_PRODUCT'].value_counts()"
   ]
  },
  {
   "cell_type": "markdown",
   "metadata": {},
   "source": [
    "let's split the dataset:"
   ]
  },
  {
   "cell_type": "code",
   "execution_count": 13,
   "metadata": {
    "collapsed": true
   },
   "outputs": [],
   "source": [
    "feces = exp.filter_samples('BODY_PRODUCT', 'UBERON:feces')\n",
    "tongue = exp.filter_samples('BODY_PRODUCT', 'UBERON:tongue')\n",
    "# just to have fun, let's negate and use multiple values\n",
    "hand = exp.filter_samples('BODY_PRODUCT', ['UBERON:feces', 'UBERON:tongue'], negate=True )"
   ]
  },
  {
   "cell_type": "markdown",
   "metadata": {},
   "source": [
    "__NOTE: The data array and sample and feature metadata are always synchronized to the same order__ for all the manipulations (filtering, sorting, transforming, etc.) done on `Experiment` object."
   ]
  },
  {
   "cell_type": "code",
   "execution_count": 14,
   "metadata": {},
   "outputs": [
    {
     "data": {
      "text/plain": [
       "AmpliconExperiment moving_pic.biom\n",
       "----------------------------------\n",
       "data dimension: 467 samples, 7056 features\n",
       "sample IDs: Index(['L1S1.275106', 'L1S2.274869', 'L1S3.273687', 'L1S4.273385',\n",
       "       'L1S5.274234', 'L1S6.274392', 'L1S7.274850', 'L1S8.273930',\n",
       "       'L1S9.274892', 'L1S10.274330',\n",
       "       ...\n",
       "       'L2S89.274561', 'L2S90.274515', 'L2S91.275128', 'L2S92.273461',\n",
       "       'L2S93.273568', 'L2S94.274742', 'L2S95.273958', 'L6S329.274368',\n",
       "       'L6S330.274280', 'L6S331.273351'],\n",
       "      dtype='object', name='#SampleID', length=467)\n",
       "feature IDs: Index(['TACGGAGGATCCGAGCGTTATCCGGATTTATTGGGTTTAAAGGGTGCTTAGGCGGCAAATTAAGTTAGTGGTTAAATAGTTCGGCTCAACCGGATTTCGCCATTAAAACTGATATGCTAGAGATTAAACGAGGTAGGCGGAATAAGTTA',\n",
       "       'TACAGAGGTCTCAAGCGTTGTTCGGAATCACTGGGCGTAAAGCGTGCGTAGGCTGTTTCGTAAGTCGTGTGTGAAAGGTGCGGGCTCAACCCGCGGACGGCACATGATACTGCGAGACTAGAGTAATGGAGGGGGAACCGGAATTCTCG',\n",
       "       'TACGTAGGGTGCGAGCGTTGTCCGGAATTATTGGGCGTAAAGGGCTCGTAGGCGGTTTGTTGCGTCGGGAGTGAAAACTCAGGGCTTAACCCTGAGCCTGCTTCCGATACGGGCAGACTAGAGGTATGCAGGGGAGAACGGAATTCCTG',\n",
       "       'TACGTATGGAGCAAGCGTTATCCGGATTTACTGGGTGTAAAGGGAGTGTAGGTGGCCATGCAAGTCAGAAGTGAAAATCCGGGGCTCAACCCCGGAACTGCTTTTGAAACTGCAGGGCTAGAGTGCAGGAGGGGCAAGTGGAATTCCTA',\n",
       "       'TACGTAGGTGGCGAGCGTTATCCGGATTTATTGGGTTTAAAGGGAGCGTAGGCGGCTGATTAAGTCAGCGGTGAAAGGTAGCAGCTTAACTGTTTTACATGCCGTTGATACTGGTTAGCTTGAGTTGACAGAAGGCAGATAGAATTCCT',\n",
       "       'TACGGAGGGTGCGAGCGTTGTCCGGATTTATTGGGTTTAAAGGGTGCGTAGGCGGTTTATTAAGTCAGTGGTGAAAGACGGTCGCTCAACGATTGCAGTGCCATTGATACTGGTAGACTTGAGTTCGTATGCCGTCTTCTGCTTGGAAA',\n",
       "       'TACGTAGGATCCAAGCGTTATCCGGAATTACTGGGCGTAAAGCGTGCGCAGACGGTTTGATAGGTCTAATGCGAAATCCAGTGGCTCAACCATTTGGACTGTATTAGAAACCATCTAACTAGAGGTAGGTAGAGGCAAGTGGAATTTCT',\n",
       "       'TACGTAGGGGGCAAGCGTTATCCGGATTTACTGGGTGTAAAGGGAGCGTAGACGGCTTTGCAAGTCTGACGTGAAACTCCGGGGCTCAACTCCGGAACTGCGTTGGAAACTGTAAGGCTTGAGTGCCGGAGAGGTAAGCGGAATTCCTA',\n",
       "       'TACAGAGGGTGCAAGCGTTAATCGGAATTACTGGGCGTAAAGCGCGCGTAGGTGGTTCAGTAAGATGGGTGTGAAATCCCCGGGCTCAACCTGGGAACTGCTTTCATAACTGCTGAACTAGAGTACGGTAGAGGGTAGTGGAATTTCCT',\n",
       "       'TACGTAGGGTGCGAGCGTTGTCCGGAATTACTGGGCGTAAAGAGCTCGTAGGTGGTTTGTCGCGTCGTCTGTGAAATCCCGGGGCTTAACTCCGGGCGTGCAGGCGATACGGGCATAACTTGAGTGCTGTAGGGGAGACTGGAATTCCT',\n",
       "       ...\n",
       "       'TACGTATGGGGCAAGCGTTGTCCGGAATTATTGGGCGTAAAGGGTACGTAGGCGGTTTAATAAGTCCTAATTAAAAGGCTATGGCTCAACCATAGTATGGTTAGGAAACTGTTAAACTTGAGTAGATGAGGGGAAAGTGGAATTCCATG',\n",
       "       'TACGTAGGGCGCAAGCGTTATCCGGAATTATTGGGCGTAAAGAGCTCGTAGGCGGTTTGTCGCGTCTGCCGTGAAAGTCCGGGGCTTAACCCCGGATCTGCGGTGGGTACGGGCAGACTTGAGTGATGTAGGGGAGACTGGAATTCCTG',\n",
       "       'TACGTAGGCAGCGAGCGTTGTTCGGAGTTACTGGGCGTAAAGAGTGCGTAGGCGGTTTTCTAAGTTTGGTGTGAAATCTCCCGGCTTAACTGGGAGGGTGCGCCGAAGACTGGAAGGCTTGAGTATGGGAGAGGTAAGCGGAATTCCTG',\n",
       "       'TACGTAGGGGGCGAGCGTTATCCGGAATCACTGGGCGTAAAGGGTGCGTAGGCGGGACATCAAGCCAGGGGTGAAAGGCAGTGGCTCAACCATTGTAAGCCTTTGGAACTGATGTTCTTGAGTGCAGGAGAGGTAAGTGGAATTCCTAG',\n",
       "       'TACGAAGGGGGCTAGCGTTGCTCGGAATTACTGGGCGTAAAGGGCGCGTAGGCGGACATTTAAGTCGGGGGTGAAATCCCAGGGCTCAACCCTGGAACTGCCTTCGATACTGGATGTCTTGAGTGCGGGAGAGGTGTGTGGAACTCCGA',\n",
       "       'TACGGAGGGTGCAAGCGTTAATCAGAATTACTGGGCGTAAAGAGCGCGTAGGTGGTTTTTTAAGTCAGATGTGAAATCCCTAGGCTTAACCTAGGAACTGCATTTGAAACTGAAAAACTAGAGTATCGTAGAGGGAGGTAGAATTCTAG',\n",
       "       'TACGGAGGGTGCAAGCGTTATCCGGATTTACTGGGTTTAAAGGGTGCGCAGGCGGACTTTTAAGTCAGAGGTGAAATCTCCGGGCTCAACCCGGAAACTGCCCCTGATACTATTGGTCTTGAATATCGTTGAGGTAGGCGGAATACATC',\n",
       "       'TACGTAGAAGACTAGTGTTATTCATCTTTATTAGGTTTAAAGGGTACCTAGACGGTATAATTAGCCTTAAACAGGGTACGCTTATACTAGAGTTATATATGAGAAGGGGAGTATTTATGGTGTAGAGTTGAAATTTGTTGATACTATAA',\n",
       "       'TACGTAGGTGGCAAGCGTTGTCCGGAATTATTGGGCGTAAAGAGCATGTAGGCGGGCTTTTAAGTCTGACGTGAAAATGCGGGGCTTAACCCCGTATGGCGTTGGATACTGGAAGTCTTGAGTGCAGGAGAGGAAAGGGGAATTCCCAG',\n",
       "       'TACGGAGGGGGCTAGCGTTGTTCGGAATTACTGGGCGTAAAGCGCGCGTAGGCGGCTTTGTAAGTTAGAGGTGAAAGCCCAGAGCTTAACTCTGGAATTGCCTTTAAGACTGCATCGCTTGAATCATGGAGAGGTGAGTGGAATTCCGA'],\n",
       "      dtype='object', length=7056)"
      ]
     },
     "execution_count": 14,
     "metadata": {},
     "output_type": "execute_result"
    }
   ],
   "source": [
    "feces"
   ]
  },
  {
   "cell_type": "code",
   "execution_count": 15,
   "metadata": {},
   "outputs": [
    {
     "data": {
      "text/plain": [
       "AmpliconExperiment moving_pic.biom\n",
       "----------------------------------\n",
       "data dimension: 508 samples, 7056 features\n",
       "sample IDs: Index(['L5S97.274849', 'L5S98.274127', 'L5S99.274143', 'L5S100.274235',\n",
       "       'L5S101.274598', 'L5S102.273274', 'L5S103.274416', 'L5S104.274492',\n",
       "       'L5S105.273323', 'L5S106.273887',\n",
       "       ...\n",
       "       'L6S318.275095', 'L6S319.274488', 'L6S320.274785', 'L6S321.274400',\n",
       "       'L6S322.274909', 'L6S323.273712', 'L6S324.274356', 'L6S325.274851',\n",
       "       'L6S326.274564', 'L6S327.273238'],\n",
       "      dtype='object', name='#SampleID', length=508)\n",
       "feature IDs: Index(['TACGGAGGATCCGAGCGTTATCCGGATTTATTGGGTTTAAAGGGTGCTTAGGCGGCAAATTAAGTTAGTGGTTAAATAGTTCGGCTCAACCGGATTTCGCCATTAAAACTGATATGCTAGAGATTAAACGAGGTAGGCGGAATAAGTTA',\n",
       "       'TACAGAGGTCTCAAGCGTTGTTCGGAATCACTGGGCGTAAAGCGTGCGTAGGCTGTTTCGTAAGTCGTGTGTGAAAGGTGCGGGCTCAACCCGCGGACGGCACATGATACTGCGAGACTAGAGTAATGGAGGGGGAACCGGAATTCTCG',\n",
       "       'TACGTAGGGTGCGAGCGTTGTCCGGAATTATTGGGCGTAAAGGGCTCGTAGGCGGTTTGTTGCGTCGGGAGTGAAAACTCAGGGCTTAACCCTGAGCCTGCTTCCGATACGGGCAGACTAGAGGTATGCAGGGGAGAACGGAATTCCTG',\n",
       "       'TACGTATGGAGCAAGCGTTATCCGGATTTACTGGGTGTAAAGGGAGTGTAGGTGGCCATGCAAGTCAGAAGTGAAAATCCGGGGCTCAACCCCGGAACTGCTTTTGAAACTGCAGGGCTAGAGTGCAGGAGGGGCAAGTGGAATTCCTA',\n",
       "       'TACGTAGGTGGCGAGCGTTATCCGGATTTATTGGGTTTAAAGGGAGCGTAGGCGGCTGATTAAGTCAGCGGTGAAAGGTAGCAGCTTAACTGTTTTACATGCCGTTGATACTGGTTAGCTTGAGTTGACAGAAGGCAGATAGAATTCCT',\n",
       "       'TACGGAGGGTGCGAGCGTTGTCCGGATTTATTGGGTTTAAAGGGTGCGTAGGCGGTTTATTAAGTCAGTGGTGAAAGACGGTCGCTCAACGATTGCAGTGCCATTGATACTGGTAGACTTGAGTTCGTATGCCGTCTTCTGCTTGGAAA',\n",
       "       'TACGTAGGATCCAAGCGTTATCCGGAATTACTGGGCGTAAAGCGTGCGCAGACGGTTTGATAGGTCTAATGCGAAATCCAGTGGCTCAACCATTTGGACTGTATTAGAAACCATCTAACTAGAGGTAGGTAGAGGCAAGTGGAATTTCT',\n",
       "       'TACGTAGGGGGCAAGCGTTATCCGGATTTACTGGGTGTAAAGGGAGCGTAGACGGCTTTGCAAGTCTGACGTGAAACTCCGGGGCTCAACTCCGGAACTGCGTTGGAAACTGTAAGGCTTGAGTGCCGGAGAGGTAAGCGGAATTCCTA',\n",
       "       'TACAGAGGGTGCAAGCGTTAATCGGAATTACTGGGCGTAAAGCGCGCGTAGGTGGTTCAGTAAGATGGGTGTGAAATCCCCGGGCTCAACCTGGGAACTGCTTTCATAACTGCTGAACTAGAGTACGGTAGAGGGTAGTGGAATTTCCT',\n",
       "       'TACGTAGGGTGCGAGCGTTGTCCGGAATTACTGGGCGTAAAGAGCTCGTAGGTGGTTTGTCGCGTCGTCTGTGAAATCCCGGGGCTTAACTCCGGGCGTGCAGGCGATACGGGCATAACTTGAGTGCTGTAGGGGAGACTGGAATTCCT',\n",
       "       ...\n",
       "       'TACGTATGGGGCAAGCGTTGTCCGGAATTATTGGGCGTAAAGGGTACGTAGGCGGTTTAATAAGTCCTAATTAAAAGGCTATGGCTCAACCATAGTATGGTTAGGAAACTGTTAAACTTGAGTAGATGAGGGGAAAGTGGAATTCCATG',\n",
       "       'TACGTAGGGCGCAAGCGTTATCCGGAATTATTGGGCGTAAAGAGCTCGTAGGCGGTTTGTCGCGTCTGCCGTGAAAGTCCGGGGCTTAACCCCGGATCTGCGGTGGGTACGGGCAGACTTGAGTGATGTAGGGGAGACTGGAATTCCTG',\n",
       "       'TACGTAGGCAGCGAGCGTTGTTCGGAGTTACTGGGCGTAAAGAGTGCGTAGGCGGTTTTCTAAGTTTGGTGTGAAATCTCCCGGCTTAACTGGGAGGGTGCGCCGAAGACTGGAAGGCTTGAGTATGGGAGAGGTAAGCGGAATTCCTG',\n",
       "       'TACGTAGGGGGCGAGCGTTATCCGGAATCACTGGGCGTAAAGGGTGCGTAGGCGGGACATCAAGCCAGGGGTGAAAGGCAGTGGCTCAACCATTGTAAGCCTTTGGAACTGATGTTCTTGAGTGCAGGAGAGGTAAGTGGAATTCCTAG',\n",
       "       'TACGAAGGGGGCTAGCGTTGCTCGGAATTACTGGGCGTAAAGGGCGCGTAGGCGGACATTTAAGTCGGGGGTGAAATCCCAGGGCTCAACCCTGGAACTGCCTTCGATACTGGATGTCTTGAGTGCGGGAGAGGTGTGTGGAACTCCGA',\n",
       "       'TACGGAGGGTGCAAGCGTTAATCAGAATTACTGGGCGTAAAGAGCGCGTAGGTGGTTTTTTAAGTCAGATGTGAAATCCCTAGGCTTAACCTAGGAACTGCATTTGAAACTGAAAAACTAGAGTATCGTAGAGGGAGGTAGAATTCTAG',\n",
       "       'TACGGAGGGTGCAAGCGTTATCCGGATTTACTGGGTTTAAAGGGTGCGCAGGCGGACTTTTAAGTCAGAGGTGAAATCTCCGGGCTCAACCCGGAAACTGCCCCTGATACTATTGGTCTTGAATATCGTTGAGGTAGGCGGAATACATC',\n",
       "       'TACGTAGAAGACTAGTGTTATTCATCTTTATTAGGTTTAAAGGGTACCTAGACGGTATAATTAGCCTTAAACAGGGTACGCTTATACTAGAGTTATATATGAGAAGGGGAGTATTTATGGTGTAGAGTTGAAATTTGTTGATACTATAA',\n",
       "       'TACGTAGGTGGCAAGCGTTGTCCGGAATTATTGGGCGTAAAGAGCATGTAGGCGGGCTTTTAAGTCTGACGTGAAAATGCGGGGCTTAACCCCGTATGGCGTTGGATACTGGAAGTCTTGAGTGCAGGAGAGGAAAGGGGAATTCCCAG',\n",
       "       'TACGGAGGGGGCTAGCGTTGTTCGGAATTACTGGGCGTAAAGCGCGCGTAGGCGGCTTTGTAAGTTAGAGGTGAAAGCCCAGAGCTTAACTCTGGAATTGCCTTTAAGACTGCATCGCTTGAATCATGGAGAGGTGAGTGGAATTCCGA'],\n",
       "      dtype='object', length=7056)"
      ]
     },
     "execution_count": 15,
     "metadata": {},
     "output_type": "execute_result"
    }
   ],
   "source": [
    "tongue"
   ]
  },
  {
   "cell_type": "code",
   "execution_count": 16,
   "metadata": {},
   "outputs": [
    {
     "data": {
      "text/plain": [
       "AmpliconExperiment moving_pic.biom\n",
       "----------------------------------\n",
       "data dimension: 992 samples, 7056 features\n",
       "sample IDs: Index(['L2S97.273709', 'L2S98.274156', 'L2S99.273432', 'L2S100.273994',\n",
       "       'L2S101.274931', 'L2S102.273640', 'L2S103.274678', 'L2S104.274260',\n",
       "       'L2S105.273526', 'L2S106.274109',\n",
       "       ...\n",
       "       'L5S70.274584', 'L5S71.274715', 'L5S72.274995', 'L5S73.274439',\n",
       "       'L5S74.273257', 'L5S75.274979', 'L5S76.274543', 'L5S77.273532',\n",
       "       'L5S78.273646', 'L5S79.274674'],\n",
       "      dtype='object', name='#SampleID', length=992)\n",
       "feature IDs: Index(['TACGGAGGATCCGAGCGTTATCCGGATTTATTGGGTTTAAAGGGTGCTTAGGCGGCAAATTAAGTTAGTGGTTAAATAGTTCGGCTCAACCGGATTTCGCCATTAAAACTGATATGCTAGAGATTAAACGAGGTAGGCGGAATAAGTTA',\n",
       "       'TACAGAGGTCTCAAGCGTTGTTCGGAATCACTGGGCGTAAAGCGTGCGTAGGCTGTTTCGTAAGTCGTGTGTGAAAGGTGCGGGCTCAACCCGCGGACGGCACATGATACTGCGAGACTAGAGTAATGGAGGGGGAACCGGAATTCTCG',\n",
       "       'TACGTAGGGTGCGAGCGTTGTCCGGAATTATTGGGCGTAAAGGGCTCGTAGGCGGTTTGTTGCGTCGGGAGTGAAAACTCAGGGCTTAACCCTGAGCCTGCTTCCGATACGGGCAGACTAGAGGTATGCAGGGGAGAACGGAATTCCTG',\n",
       "       'TACGTATGGAGCAAGCGTTATCCGGATTTACTGGGTGTAAAGGGAGTGTAGGTGGCCATGCAAGTCAGAAGTGAAAATCCGGGGCTCAACCCCGGAACTGCTTTTGAAACTGCAGGGCTAGAGTGCAGGAGGGGCAAGTGGAATTCCTA',\n",
       "       'TACGTAGGTGGCGAGCGTTATCCGGATTTATTGGGTTTAAAGGGAGCGTAGGCGGCTGATTAAGTCAGCGGTGAAAGGTAGCAGCTTAACTGTTTTACATGCCGTTGATACTGGTTAGCTTGAGTTGACAGAAGGCAGATAGAATTCCT',\n",
       "       'TACGGAGGGTGCGAGCGTTGTCCGGATTTATTGGGTTTAAAGGGTGCGTAGGCGGTTTATTAAGTCAGTGGTGAAAGACGGTCGCTCAACGATTGCAGTGCCATTGATACTGGTAGACTTGAGTTCGTATGCCGTCTTCTGCTTGGAAA',\n",
       "       'TACGTAGGATCCAAGCGTTATCCGGAATTACTGGGCGTAAAGCGTGCGCAGACGGTTTGATAGGTCTAATGCGAAATCCAGTGGCTCAACCATTTGGACTGTATTAGAAACCATCTAACTAGAGGTAGGTAGAGGCAAGTGGAATTTCT',\n",
       "       'TACGTAGGGGGCAAGCGTTATCCGGATTTACTGGGTGTAAAGGGAGCGTAGACGGCTTTGCAAGTCTGACGTGAAACTCCGGGGCTCAACTCCGGAACTGCGTTGGAAACTGTAAGGCTTGAGTGCCGGAGAGGTAAGCGGAATTCCTA',\n",
       "       'TACAGAGGGTGCAAGCGTTAATCGGAATTACTGGGCGTAAAGCGCGCGTAGGTGGTTCAGTAAGATGGGTGTGAAATCCCCGGGCTCAACCTGGGAACTGCTTTCATAACTGCTGAACTAGAGTACGGTAGAGGGTAGTGGAATTTCCT',\n",
       "       'TACGTAGGGTGCGAGCGTTGTCCGGAATTACTGGGCGTAAAGAGCTCGTAGGTGGTTTGTCGCGTCGTCTGTGAAATCCCGGGGCTTAACTCCGGGCGTGCAGGCGATACGGGCATAACTTGAGTGCTGTAGGGGAGACTGGAATTCCT',\n",
       "       ...\n",
       "       'TACGTATGGGGCAAGCGTTGTCCGGAATTATTGGGCGTAAAGGGTACGTAGGCGGTTTAATAAGTCCTAATTAAAAGGCTATGGCTCAACCATAGTATGGTTAGGAAACTGTTAAACTTGAGTAGATGAGGGGAAAGTGGAATTCCATG',\n",
       "       'TACGTAGGGCGCAAGCGTTATCCGGAATTATTGGGCGTAAAGAGCTCGTAGGCGGTTTGTCGCGTCTGCCGTGAAAGTCCGGGGCTTAACCCCGGATCTGCGGTGGGTACGGGCAGACTTGAGTGATGTAGGGGAGACTGGAATTCCTG',\n",
       "       'TACGTAGGCAGCGAGCGTTGTTCGGAGTTACTGGGCGTAAAGAGTGCGTAGGCGGTTTTCTAAGTTTGGTGTGAAATCTCCCGGCTTAACTGGGAGGGTGCGCCGAAGACTGGAAGGCTTGAGTATGGGAGAGGTAAGCGGAATTCCTG',\n",
       "       'TACGTAGGGGGCGAGCGTTATCCGGAATCACTGGGCGTAAAGGGTGCGTAGGCGGGACATCAAGCCAGGGGTGAAAGGCAGTGGCTCAACCATTGTAAGCCTTTGGAACTGATGTTCTTGAGTGCAGGAGAGGTAAGTGGAATTCCTAG',\n",
       "       'TACGAAGGGGGCTAGCGTTGCTCGGAATTACTGGGCGTAAAGGGCGCGTAGGCGGACATTTAAGTCGGGGGTGAAATCCCAGGGCTCAACCCTGGAACTGCCTTCGATACTGGATGTCTTGAGTGCGGGAGAGGTGTGTGGAACTCCGA',\n",
       "       'TACGGAGGGTGCAAGCGTTAATCAGAATTACTGGGCGTAAAGAGCGCGTAGGTGGTTTTTTAAGTCAGATGTGAAATCCCTAGGCTTAACCTAGGAACTGCATTTGAAACTGAAAAACTAGAGTATCGTAGAGGGAGGTAGAATTCTAG',\n",
       "       'TACGGAGGGTGCAAGCGTTATCCGGATTTACTGGGTTTAAAGGGTGCGCAGGCGGACTTTTAAGTCAGAGGTGAAATCTCCGGGCTCAACCCGGAAACTGCCCCTGATACTATTGGTCTTGAATATCGTTGAGGTAGGCGGAATACATC',\n",
       "       'TACGTAGAAGACTAGTGTTATTCATCTTTATTAGGTTTAAAGGGTACCTAGACGGTATAATTAGCCTTAAACAGGGTACGCTTATACTAGAGTTATATATGAGAAGGGGAGTATTTATGGTGTAGAGTTGAAATTTGTTGATACTATAA',\n",
       "       'TACGTAGGTGGCAAGCGTTGTCCGGAATTATTGGGCGTAAAGAGCATGTAGGCGGGCTTTTAAGTCTGACGTGAAAATGCGGGGCTTAACCCCGTATGGCGTTGGATACTGGAAGTCTTGAGTGCAGGAGAGGAAAGGGGAATTCCCAG',\n",
       "       'TACGGAGGGGGCTAGCGTTGTTCGGAATTACTGGGCGTAAAGCGCGCGTAGGCGGCTTTGTAAGTTAGAGGTGAAAGCCCAGAGCTTAACTCTGGAATTGCCTTTAAGACTGCATCGCTTGAATCATGGAGAGGTGAGTGGAATTCCGA'],\n",
       "      dtype='object', length=7056)"
      ]
     },
     "execution_count": 16,
     "metadata": {},
     "output_type": "execute_result"
    }
   ],
   "source": [
    "hand"
   ]
  },
  {
   "cell_type": "markdown",
   "metadata": {},
   "source": [
    "Note that filtering samples does not change or get rid of features not present in the set of samples."
   ]
  },
  {
   "cell_type": "markdown",
   "metadata": {},
   "source": [
    "## get rid of features with <50 reads total over all samples\n",
    "(Where we have 10000 reads/sample after normalization in the load)"
   ]
  },
  {
   "cell_type": "code",
   "execution_count": 17,
   "metadata": {
    "scrolled": true
   },
   "outputs": [
    {
     "name": "stdout",
     "output_type": "stream",
     "text": [
      "2017-10-09 12:41:32 INFO 2512 remaining\n"
     ]
    }
   ],
   "source": [
    "tt=exp.filter_min_abundance(50)"
   ]
  },
  {
   "cell_type": "markdown",
   "metadata": {},
   "source": [
    "## And plot the data naively\n",
    "We plot by sorting samples according to body site, with sample color bars for the subject id.\n",
    "\n",
    "We use the `plot_sort` function which does a sort on a (set) of fields on the fly and then plots.\n",
    "We can specify the type of interactive heatmap using the `gui` with following options:\n",
    "- 'jupyter' plots an interactive plot inside the notebook\n",
    "- 'qt5' opens the plot in an interactive qt5 window\n",
    "- None just creates the static matplotlib figure"
   ]
  },
  {
   "cell_type": "code",
   "execution_count": 18,
   "metadata": {
    "scrolled": false
   },
   "outputs": [
    {
     "data": {
      "application/javascript": [
       "/* Put everything inside the global mpl namespace */\n",
       "window.mpl = {};\n",
       "\n",
       "\n",
       "mpl.get_websocket_type = function() {\n",
       "    if (typeof(WebSocket) !== 'undefined') {\n",
       "        return WebSocket;\n",
       "    } else if (typeof(MozWebSocket) !== 'undefined') {\n",
       "        return MozWebSocket;\n",
       "    } else {\n",
       "        alert('Your browser does not have WebSocket support.' +\n",
       "              'Please try Chrome, Safari or Firefox ≥ 6. ' +\n",
       "              'Firefox 4 and 5 are also supported but you ' +\n",
       "              'have to enable WebSockets in about:config.');\n",
       "    };\n",
       "}\n",
       "\n",
       "mpl.figure = function(figure_id, websocket, ondownload, parent_element) {\n",
       "    this.id = figure_id;\n",
       "\n",
       "    this.ws = websocket;\n",
       "\n",
       "    this.supports_binary = (this.ws.binaryType != undefined);\n",
       "\n",
       "    if (!this.supports_binary) {\n",
       "        var warnings = document.getElementById(\"mpl-warnings\");\n",
       "        if (warnings) {\n",
       "            warnings.style.display = 'block';\n",
       "            warnings.textContent = (\n",
       "                \"This browser does not support binary websocket messages. \" +\n",
       "                    \"Performance may be slow.\");\n",
       "        }\n",
       "    }\n",
       "\n",
       "    this.imageObj = new Image();\n",
       "\n",
       "    this.context = undefined;\n",
       "    this.message = undefined;\n",
       "    this.canvas = undefined;\n",
       "    this.rubberband_canvas = undefined;\n",
       "    this.rubberband_context = undefined;\n",
       "    this.format_dropdown = undefined;\n",
       "\n",
       "    this.image_mode = 'full';\n",
       "\n",
       "    this.root = $('<div/>');\n",
       "    this._root_extra_style(this.root)\n",
       "    this.root.attr('style', 'display: inline-block');\n",
       "\n",
       "    $(parent_element).append(this.root);\n",
       "\n",
       "    this._init_header(this);\n",
       "    this._init_canvas(this);\n",
       "    this._init_toolbar(this);\n",
       "\n",
       "    var fig = this;\n",
       "\n",
       "    this.waiting = false;\n",
       "\n",
       "    this.ws.onopen =  function () {\n",
       "            fig.send_message(\"supports_binary\", {value: fig.supports_binary});\n",
       "            fig.send_message(\"send_image_mode\", {});\n",
       "            if (mpl.ratio != 1) {\n",
       "                fig.send_message(\"set_dpi_ratio\", {'dpi_ratio': mpl.ratio});\n",
       "            }\n",
       "            fig.send_message(\"refresh\", {});\n",
       "        }\n",
       "\n",
       "    this.imageObj.onload = function() {\n",
       "            if (fig.image_mode == 'full') {\n",
       "                // Full images could contain transparency (where diff images\n",
       "                // almost always do), so we need to clear the canvas so that\n",
       "                // there is no ghosting.\n",
       "                fig.context.clearRect(0, 0, fig.canvas.width, fig.canvas.height);\n",
       "            }\n",
       "            fig.context.drawImage(fig.imageObj, 0, 0);\n",
       "        };\n",
       "\n",
       "    this.imageObj.onunload = function() {\n",
       "        this.ws.close();\n",
       "    }\n",
       "\n",
       "    this.ws.onmessage = this._make_on_message_function(this);\n",
       "\n",
       "    this.ondownload = ondownload;\n",
       "}\n",
       "\n",
       "mpl.figure.prototype._init_header = function() {\n",
       "    var titlebar = $(\n",
       "        '<div class=\"ui-dialog-titlebar ui-widget-header ui-corner-all ' +\n",
       "        'ui-helper-clearfix\"/>');\n",
       "    var titletext = $(\n",
       "        '<div class=\"ui-dialog-title\" style=\"width: 100%; ' +\n",
       "        'text-align: center; padding: 3px;\"/>');\n",
       "    titlebar.append(titletext)\n",
       "    this.root.append(titlebar);\n",
       "    this.header = titletext[0];\n",
       "}\n",
       "\n",
       "\n",
       "\n",
       "mpl.figure.prototype._canvas_extra_style = function(canvas_div) {\n",
       "\n",
       "}\n",
       "\n",
       "\n",
       "mpl.figure.prototype._root_extra_style = function(canvas_div) {\n",
       "\n",
       "}\n",
       "\n",
       "mpl.figure.prototype._init_canvas = function() {\n",
       "    var fig = this;\n",
       "\n",
       "    var canvas_div = $('<div/>');\n",
       "\n",
       "    canvas_div.attr('style', 'position: relative; clear: both; outline: 0');\n",
       "\n",
       "    function canvas_keyboard_event(event) {\n",
       "        return fig.key_event(event, event['data']);\n",
       "    }\n",
       "\n",
       "    canvas_div.keydown('key_press', canvas_keyboard_event);\n",
       "    canvas_div.keyup('key_release', canvas_keyboard_event);\n",
       "    this.canvas_div = canvas_div\n",
       "    this._canvas_extra_style(canvas_div)\n",
       "    this.root.append(canvas_div);\n",
       "\n",
       "    var canvas = $('<canvas/>');\n",
       "    canvas.addClass('mpl-canvas');\n",
       "    canvas.attr('style', \"left: 0; top: 0; z-index: 0; outline: 0\")\n",
       "\n",
       "    this.canvas = canvas[0];\n",
       "    this.context = canvas[0].getContext(\"2d\");\n",
       "\n",
       "    var backingStore = this.context.backingStorePixelRatio ||\n",
       "\tthis.context.webkitBackingStorePixelRatio ||\n",
       "\tthis.context.mozBackingStorePixelRatio ||\n",
       "\tthis.context.msBackingStorePixelRatio ||\n",
       "\tthis.context.oBackingStorePixelRatio ||\n",
       "\tthis.context.backingStorePixelRatio || 1;\n",
       "\n",
       "    mpl.ratio = (window.devicePixelRatio || 1) / backingStore;\n",
       "\n",
       "    var rubberband = $('<canvas/>');\n",
       "    rubberband.attr('style', \"position: absolute; left: 0; top: 0; z-index: 1;\")\n",
       "\n",
       "    var pass_mouse_events = true;\n",
       "\n",
       "    canvas_div.resizable({\n",
       "        start: function(event, ui) {\n",
       "            pass_mouse_events = false;\n",
       "        },\n",
       "        resize: function(event, ui) {\n",
       "            fig.request_resize(ui.size.width, ui.size.height);\n",
       "        },\n",
       "        stop: function(event, ui) {\n",
       "            pass_mouse_events = true;\n",
       "            fig.request_resize(ui.size.width, ui.size.height);\n",
       "        },\n",
       "    });\n",
       "\n",
       "    function mouse_event_fn(event) {\n",
       "        if (pass_mouse_events)\n",
       "            return fig.mouse_event(event, event['data']);\n",
       "    }\n",
       "\n",
       "    rubberband.mousedown('button_press', mouse_event_fn);\n",
       "    rubberband.mouseup('button_release', mouse_event_fn);\n",
       "    // Throttle sequential mouse events to 1 every 20ms.\n",
       "    rubberband.mousemove('motion_notify', mouse_event_fn);\n",
       "\n",
       "    rubberband.mouseenter('figure_enter', mouse_event_fn);\n",
       "    rubberband.mouseleave('figure_leave', mouse_event_fn);\n",
       "\n",
       "    canvas_div.on(\"wheel\", function (event) {\n",
       "        event = event.originalEvent;\n",
       "        event['data'] = 'scroll'\n",
       "        if (event.deltaY < 0) {\n",
       "            event.step = 1;\n",
       "        } else {\n",
       "            event.step = -1;\n",
       "        }\n",
       "        mouse_event_fn(event);\n",
       "    });\n",
       "\n",
       "    canvas_div.append(canvas);\n",
       "    canvas_div.append(rubberband);\n",
       "\n",
       "    this.rubberband = rubberband;\n",
       "    this.rubberband_canvas = rubberband[0];\n",
       "    this.rubberband_context = rubberband[0].getContext(\"2d\");\n",
       "    this.rubberband_context.strokeStyle = \"#000000\";\n",
       "\n",
       "    this._resize_canvas = function(width, height) {\n",
       "        // Keep the size of the canvas, canvas container, and rubber band\n",
       "        // canvas in synch.\n",
       "        canvas_div.css('width', width)\n",
       "        canvas_div.css('height', height)\n",
       "\n",
       "        canvas.attr('width', width * mpl.ratio);\n",
       "        canvas.attr('height', height * mpl.ratio);\n",
       "        canvas.attr('style', 'width: ' + width + 'px; height: ' + height + 'px;');\n",
       "\n",
       "        rubberband.attr('width', width);\n",
       "        rubberband.attr('height', height);\n",
       "    }\n",
       "\n",
       "    // Set the figure to an initial 600x600px, this will subsequently be updated\n",
       "    // upon first draw.\n",
       "    this._resize_canvas(600, 600);\n",
       "\n",
       "    // Disable right mouse context menu.\n",
       "    $(this.rubberband_canvas).bind(\"contextmenu\",function(e){\n",
       "        return false;\n",
       "    });\n",
       "\n",
       "    function set_focus () {\n",
       "        canvas.focus();\n",
       "        canvas_div.focus();\n",
       "    }\n",
       "\n",
       "    window.setTimeout(set_focus, 100);\n",
       "}\n",
       "\n",
       "mpl.figure.prototype._init_toolbar = function() {\n",
       "    var fig = this;\n",
       "\n",
       "    var nav_element = $('<div/>')\n",
       "    nav_element.attr('style', 'width: 100%');\n",
       "    this.root.append(nav_element);\n",
       "\n",
       "    // Define a callback function for later on.\n",
       "    function toolbar_event(event) {\n",
       "        return fig.toolbar_button_onclick(event['data']);\n",
       "    }\n",
       "    function toolbar_mouse_event(event) {\n",
       "        return fig.toolbar_button_onmouseover(event['data']);\n",
       "    }\n",
       "\n",
       "    for(var toolbar_ind in mpl.toolbar_items) {\n",
       "        var name = mpl.toolbar_items[toolbar_ind][0];\n",
       "        var tooltip = mpl.toolbar_items[toolbar_ind][1];\n",
       "        var image = mpl.toolbar_items[toolbar_ind][2];\n",
       "        var method_name = mpl.toolbar_items[toolbar_ind][3];\n",
       "\n",
       "        if (!name) {\n",
       "            // put a spacer in here.\n",
       "            continue;\n",
       "        }\n",
       "        var button = $('<button/>');\n",
       "        button.addClass('ui-button ui-widget ui-state-default ui-corner-all ' +\n",
       "                        'ui-button-icon-only');\n",
       "        button.attr('role', 'button');\n",
       "        button.attr('aria-disabled', 'false');\n",
       "        button.click(method_name, toolbar_event);\n",
       "        button.mouseover(tooltip, toolbar_mouse_event);\n",
       "\n",
       "        var icon_img = $('<span/>');\n",
       "        icon_img.addClass('ui-button-icon-primary ui-icon');\n",
       "        icon_img.addClass(image);\n",
       "        icon_img.addClass('ui-corner-all');\n",
       "\n",
       "        var tooltip_span = $('<span/>');\n",
       "        tooltip_span.addClass('ui-button-text');\n",
       "        tooltip_span.html(tooltip);\n",
       "\n",
       "        button.append(icon_img);\n",
       "        button.append(tooltip_span);\n",
       "\n",
       "        nav_element.append(button);\n",
       "    }\n",
       "\n",
       "    var fmt_picker_span = $('<span/>');\n",
       "\n",
       "    var fmt_picker = $('<select/>');\n",
       "    fmt_picker.addClass('mpl-toolbar-option ui-widget ui-widget-content');\n",
       "    fmt_picker_span.append(fmt_picker);\n",
       "    nav_element.append(fmt_picker_span);\n",
       "    this.format_dropdown = fmt_picker[0];\n",
       "\n",
       "    for (var ind in mpl.extensions) {\n",
       "        var fmt = mpl.extensions[ind];\n",
       "        var option = $(\n",
       "            '<option/>', {selected: fmt === mpl.default_extension}).html(fmt);\n",
       "        fmt_picker.append(option)\n",
       "    }\n",
       "\n",
       "    // Add hover states to the ui-buttons\n",
       "    $( \".ui-button\" ).hover(\n",
       "        function() { $(this).addClass(\"ui-state-hover\");},\n",
       "        function() { $(this).removeClass(\"ui-state-hover\");}\n",
       "    );\n",
       "\n",
       "    var status_bar = $('<span class=\"mpl-message\"/>');\n",
       "    nav_element.append(status_bar);\n",
       "    this.message = status_bar[0];\n",
       "}\n",
       "\n",
       "mpl.figure.prototype.request_resize = function(x_pixels, y_pixels) {\n",
       "    // Request matplotlib to resize the figure. Matplotlib will then trigger a resize in the client,\n",
       "    // which will in turn request a refresh of the image.\n",
       "    this.send_message('resize', {'width': x_pixels, 'height': y_pixels});\n",
       "}\n",
       "\n",
       "mpl.figure.prototype.send_message = function(type, properties) {\n",
       "    properties['type'] = type;\n",
       "    properties['figure_id'] = this.id;\n",
       "    this.ws.send(JSON.stringify(properties));\n",
       "}\n",
       "\n",
       "mpl.figure.prototype.send_draw_message = function() {\n",
       "    if (!this.waiting) {\n",
       "        this.waiting = true;\n",
       "        this.ws.send(JSON.stringify({type: \"draw\", figure_id: this.id}));\n",
       "    }\n",
       "}\n",
       "\n",
       "\n",
       "mpl.figure.prototype.handle_save = function(fig, msg) {\n",
       "    var format_dropdown = fig.format_dropdown;\n",
       "    var format = format_dropdown.options[format_dropdown.selectedIndex].value;\n",
       "    fig.ondownload(fig, format);\n",
       "}\n",
       "\n",
       "\n",
       "mpl.figure.prototype.handle_resize = function(fig, msg) {\n",
       "    var size = msg['size'];\n",
       "    if (size[0] != fig.canvas.width || size[1] != fig.canvas.height) {\n",
       "        fig._resize_canvas(size[0], size[1]);\n",
       "        fig.send_message(\"refresh\", {});\n",
       "    };\n",
       "}\n",
       "\n",
       "mpl.figure.prototype.handle_rubberband = function(fig, msg) {\n",
       "    var x0 = msg['x0'] / mpl.ratio;\n",
       "    var y0 = (fig.canvas.height - msg['y0']) / mpl.ratio;\n",
       "    var x1 = msg['x1'] / mpl.ratio;\n",
       "    var y1 = (fig.canvas.height - msg['y1']) / mpl.ratio;\n",
       "    x0 = Math.floor(x0) + 0.5;\n",
       "    y0 = Math.floor(y0) + 0.5;\n",
       "    x1 = Math.floor(x1) + 0.5;\n",
       "    y1 = Math.floor(y1) + 0.5;\n",
       "    var min_x = Math.min(x0, x1);\n",
       "    var min_y = Math.min(y0, y1);\n",
       "    var width = Math.abs(x1 - x0);\n",
       "    var height = Math.abs(y1 - y0);\n",
       "\n",
       "    fig.rubberband_context.clearRect(\n",
       "        0, 0, fig.canvas.width, fig.canvas.height);\n",
       "\n",
       "    fig.rubberband_context.strokeRect(min_x, min_y, width, height);\n",
       "}\n",
       "\n",
       "mpl.figure.prototype.handle_figure_label = function(fig, msg) {\n",
       "    // Updates the figure title.\n",
       "    fig.header.textContent = msg['label'];\n",
       "}\n",
       "\n",
       "mpl.figure.prototype.handle_cursor = function(fig, msg) {\n",
       "    var cursor = msg['cursor'];\n",
       "    switch(cursor)\n",
       "    {\n",
       "    case 0:\n",
       "        cursor = 'pointer';\n",
       "        break;\n",
       "    case 1:\n",
       "        cursor = 'default';\n",
       "        break;\n",
       "    case 2:\n",
       "        cursor = 'crosshair';\n",
       "        break;\n",
       "    case 3:\n",
       "        cursor = 'move';\n",
       "        break;\n",
       "    }\n",
       "    fig.rubberband_canvas.style.cursor = cursor;\n",
       "}\n",
       "\n",
       "mpl.figure.prototype.handle_message = function(fig, msg) {\n",
       "    fig.message.textContent = msg['message'];\n",
       "}\n",
       "\n",
       "mpl.figure.prototype.handle_draw = function(fig, msg) {\n",
       "    // Request the server to send over a new figure.\n",
       "    fig.send_draw_message();\n",
       "}\n",
       "\n",
       "mpl.figure.prototype.handle_image_mode = function(fig, msg) {\n",
       "    fig.image_mode = msg['mode'];\n",
       "}\n",
       "\n",
       "mpl.figure.prototype.updated_canvas_event = function() {\n",
       "    // Called whenever the canvas gets updated.\n",
       "    this.send_message(\"ack\", {});\n",
       "}\n",
       "\n",
       "// A function to construct a web socket function for onmessage handling.\n",
       "// Called in the figure constructor.\n",
       "mpl.figure.prototype._make_on_message_function = function(fig) {\n",
       "    return function socket_on_message(evt) {\n",
       "        if (evt.data instanceof Blob) {\n",
       "            /* FIXME: We get \"Resource interpreted as Image but\n",
       "             * transferred with MIME type text/plain:\" errors on\n",
       "             * Chrome.  But how to set the MIME type?  It doesn't seem\n",
       "             * to be part of the websocket stream */\n",
       "            evt.data.type = \"image/png\";\n",
       "\n",
       "            /* Free the memory for the previous frames */\n",
       "            if (fig.imageObj.src) {\n",
       "                (window.URL || window.webkitURL).revokeObjectURL(\n",
       "                    fig.imageObj.src);\n",
       "            }\n",
       "\n",
       "            fig.imageObj.src = (window.URL || window.webkitURL).createObjectURL(\n",
       "                evt.data);\n",
       "            fig.updated_canvas_event();\n",
       "            fig.waiting = false;\n",
       "            return;\n",
       "        }\n",
       "        else if (typeof evt.data === 'string' && evt.data.slice(0, 21) == \"data:image/png;base64\") {\n",
       "            fig.imageObj.src = evt.data;\n",
       "            fig.updated_canvas_event();\n",
       "            fig.waiting = false;\n",
       "            return;\n",
       "        }\n",
       "\n",
       "        var msg = JSON.parse(evt.data);\n",
       "        var msg_type = msg['type'];\n",
       "\n",
       "        // Call the  \"handle_{type}\" callback, which takes\n",
       "        // the figure and JSON message as its only arguments.\n",
       "        try {\n",
       "            var callback = fig[\"handle_\" + msg_type];\n",
       "        } catch (e) {\n",
       "            console.log(\"No handler for the '\" + msg_type + \"' message type: \", msg);\n",
       "            return;\n",
       "        }\n",
       "\n",
       "        if (callback) {\n",
       "            try {\n",
       "                // console.log(\"Handling '\" + msg_type + \"' message: \", msg);\n",
       "                callback(fig, msg);\n",
       "            } catch (e) {\n",
       "                console.log(\"Exception inside the 'handler_\" + msg_type + \"' callback:\", e, e.stack, msg);\n",
       "            }\n",
       "        }\n",
       "    };\n",
       "}\n",
       "\n",
       "// from http://stackoverflow.com/questions/1114465/getting-mouse-location-in-canvas\n",
       "mpl.findpos = function(e) {\n",
       "    //this section is from http://www.quirksmode.org/js/events_properties.html\n",
       "    var targ;\n",
       "    if (!e)\n",
       "        e = window.event;\n",
       "    if (e.target)\n",
       "        targ = e.target;\n",
       "    else if (e.srcElement)\n",
       "        targ = e.srcElement;\n",
       "    if (targ.nodeType == 3) // defeat Safari bug\n",
       "        targ = targ.parentNode;\n",
       "\n",
       "    // jQuery normalizes the pageX and pageY\n",
       "    // pageX,Y are the mouse positions relative to the document\n",
       "    // offset() returns the position of the element relative to the document\n",
       "    var x = e.pageX - $(targ).offset().left;\n",
       "    var y = e.pageY - $(targ).offset().top;\n",
       "\n",
       "    return {\"x\": x, \"y\": y};\n",
       "};\n",
       "\n",
       "/*\n",
       " * return a copy of an object with only non-object keys\n",
       " * we need this to avoid circular references\n",
       " * http://stackoverflow.com/a/24161582/3208463\n",
       " */\n",
       "function simpleKeys (original) {\n",
       "  return Object.keys(original).reduce(function (obj, key) {\n",
       "    if (typeof original[key] !== 'object')\n",
       "        obj[key] = original[key]\n",
       "    return obj;\n",
       "  }, {});\n",
       "}\n",
       "\n",
       "mpl.figure.prototype.mouse_event = function(event, name) {\n",
       "    var canvas_pos = mpl.findpos(event)\n",
       "\n",
       "    if (name === 'button_press')\n",
       "    {\n",
       "        this.canvas.focus();\n",
       "        this.canvas_div.focus();\n",
       "    }\n",
       "\n",
       "    var x = canvas_pos.x * mpl.ratio;\n",
       "    var y = canvas_pos.y * mpl.ratio;\n",
       "\n",
       "    this.send_message(name, {x: x, y: y, button: event.button,\n",
       "                             step: event.step,\n",
       "                             guiEvent: simpleKeys(event)});\n",
       "\n",
       "    /* This prevents the web browser from automatically changing to\n",
       "     * the text insertion cursor when the button is pressed.  We want\n",
       "     * to control all of the cursor setting manually through the\n",
       "     * 'cursor' event from matplotlib */\n",
       "    event.preventDefault();\n",
       "    return false;\n",
       "}\n",
       "\n",
       "mpl.figure.prototype._key_event_extra = function(event, name) {\n",
       "    // Handle any extra behaviour associated with a key event\n",
       "}\n",
       "\n",
       "mpl.figure.prototype.key_event = function(event, name) {\n",
       "\n",
       "    // Prevent repeat events\n",
       "    if (name == 'key_press')\n",
       "    {\n",
       "        if (event.which === this._key)\n",
       "            return;\n",
       "        else\n",
       "            this._key = event.which;\n",
       "    }\n",
       "    if (name == 'key_release')\n",
       "        this._key = null;\n",
       "\n",
       "    var value = '';\n",
       "    if (event.ctrlKey && event.which != 17)\n",
       "        value += \"ctrl+\";\n",
       "    if (event.altKey && event.which != 18)\n",
       "        value += \"alt+\";\n",
       "    if (event.shiftKey && event.which != 16)\n",
       "        value += \"shift+\";\n",
       "\n",
       "    value += 'k';\n",
       "    value += event.which.toString();\n",
       "\n",
       "    this._key_event_extra(event, name);\n",
       "\n",
       "    this.send_message(name, {key: value,\n",
       "                             guiEvent: simpleKeys(event)});\n",
       "    return false;\n",
       "}\n",
       "\n",
       "mpl.figure.prototype.toolbar_button_onclick = function(name) {\n",
       "    if (name == 'download') {\n",
       "        this.handle_save(this, null);\n",
       "    } else {\n",
       "        this.send_message(\"toolbar_button\", {name: name});\n",
       "    }\n",
       "};\n",
       "\n",
       "mpl.figure.prototype.toolbar_button_onmouseover = function(tooltip) {\n",
       "    this.message.textContent = tooltip;\n",
       "};\n",
       "mpl.toolbar_items = [[\"Home\", \"Reset original view\", \"fa fa-home icon-home\", \"home\"], [\"Back\", \"Back to  previous view\", \"fa fa-arrow-left icon-arrow-left\", \"back\"], [\"Forward\", \"Forward to next view\", \"fa fa-arrow-right icon-arrow-right\", \"forward\"], [\"\", \"\", \"\", \"\"], [\"Pan\", \"Pan axes with left mouse, zoom with right\", \"fa fa-arrows icon-move\", \"pan\"], [\"Zoom\", \"Zoom to rectangle\", \"fa fa-square-o icon-check-empty\", \"zoom\"], [\"\", \"\", \"\", \"\"], [\"Download\", \"Download plot\", \"fa fa-floppy-o icon-save\", \"download\"]];\n",
       "\n",
       "mpl.extensions = [\"eps\", \"pdf\", \"png\", \"ps\", \"raw\", \"svg\"];\n",
       "\n",
       "mpl.default_extension = \"png\";var comm_websocket_adapter = function(comm) {\n",
       "    // Create a \"websocket\"-like object which calls the given IPython comm\n",
       "    // object with the appropriate methods. Currently this is a non binary\n",
       "    // socket, so there is still some room for performance tuning.\n",
       "    var ws = {};\n",
       "\n",
       "    ws.close = function() {\n",
       "        comm.close()\n",
       "    };\n",
       "    ws.send = function(m) {\n",
       "        //console.log('sending', m);\n",
       "        comm.send(m);\n",
       "    };\n",
       "    // Register the callback with on_msg.\n",
       "    comm.on_msg(function(msg) {\n",
       "        //console.log('receiving', msg['content']['data'], msg);\n",
       "        // Pass the mpl event to the overriden (by mpl) onmessage function.\n",
       "        ws.onmessage(msg['content']['data'])\n",
       "    });\n",
       "    return ws;\n",
       "}\n",
       "\n",
       "mpl.mpl_figure_comm = function(comm, msg) {\n",
       "    // This is the function which gets called when the mpl process\n",
       "    // starts-up an IPython Comm through the \"matplotlib\" channel.\n",
       "\n",
       "    var id = msg.content.data.id;\n",
       "    // Get hold of the div created by the display call when the Comm\n",
       "    // socket was opened in Python.\n",
       "    var element = $(\"#\" + id);\n",
       "    var ws_proxy = comm_websocket_adapter(comm)\n",
       "\n",
       "    function ondownload(figure, format) {\n",
       "        window.open(figure.imageObj.src);\n",
       "    }\n",
       "\n",
       "    var fig = new mpl.figure(id, ws_proxy,\n",
       "                           ondownload,\n",
       "                           element.get(0));\n",
       "\n",
       "    // Call onopen now - mpl needs it, as it is assuming we've passed it a real\n",
       "    // web socket which is closed, not our websocket->open comm proxy.\n",
       "    ws_proxy.onopen();\n",
       "\n",
       "    fig.parent_element = element.get(0);\n",
       "    fig.cell_info = mpl.find_output_cell(\"<div id='\" + id + \"'></div>\");\n",
       "    if (!fig.cell_info) {\n",
       "        console.error(\"Failed to find cell for figure\", id, fig);\n",
       "        return;\n",
       "    }\n",
       "\n",
       "    var output_index = fig.cell_info[2]\n",
       "    var cell = fig.cell_info[0];\n",
       "\n",
       "};\n",
       "\n",
       "mpl.figure.prototype.handle_close = function(fig, msg) {\n",
       "    var width = fig.canvas.width/mpl.ratio\n",
       "    fig.root.unbind('remove')\n",
       "\n",
       "    // Update the output cell to use the data from the current canvas.\n",
       "    fig.push_to_output();\n",
       "    var dataURL = fig.canvas.toDataURL();\n",
       "    // Re-enable the keyboard manager in IPython - without this line, in FF,\n",
       "    // the notebook keyboard shortcuts fail.\n",
       "    IPython.keyboard_manager.enable()\n",
       "    $(fig.parent_element).html('<img src=\"' + dataURL + '\" width=\"' + width + '\">');\n",
       "    fig.close_ws(fig, msg);\n",
       "}\n",
       "\n",
       "mpl.figure.prototype.close_ws = function(fig, msg){\n",
       "    fig.send_message('closing', msg);\n",
       "    // fig.ws.close()\n",
       "}\n",
       "\n",
       "mpl.figure.prototype.push_to_output = function(remove_interactive) {\n",
       "    // Turn the data on the canvas into data in the output cell.\n",
       "    var width = this.canvas.width/mpl.ratio\n",
       "    var dataURL = this.canvas.toDataURL();\n",
       "    this.cell_info[1]['text/html'] = '<img src=\"' + dataURL + '\" width=\"' + width + '\">';\n",
       "}\n",
       "\n",
       "mpl.figure.prototype.updated_canvas_event = function() {\n",
       "    // Tell IPython that the notebook contents must change.\n",
       "    IPython.notebook.set_dirty(true);\n",
       "    this.send_message(\"ack\", {});\n",
       "    var fig = this;\n",
       "    // Wait a second, then push the new image to the DOM so\n",
       "    // that it is saved nicely (might be nice to debounce this).\n",
       "    setTimeout(function () { fig.push_to_output() }, 1000);\n",
       "}\n",
       "\n",
       "mpl.figure.prototype._init_toolbar = function() {\n",
       "    var fig = this;\n",
       "\n",
       "    var nav_element = $('<div/>')\n",
       "    nav_element.attr('style', 'width: 100%');\n",
       "    this.root.append(nav_element);\n",
       "\n",
       "    // Define a callback function for later on.\n",
       "    function toolbar_event(event) {\n",
       "        return fig.toolbar_button_onclick(event['data']);\n",
       "    }\n",
       "    function toolbar_mouse_event(event) {\n",
       "        return fig.toolbar_button_onmouseover(event['data']);\n",
       "    }\n",
       "\n",
       "    for(var toolbar_ind in mpl.toolbar_items){\n",
       "        var name = mpl.toolbar_items[toolbar_ind][0];\n",
       "        var tooltip = mpl.toolbar_items[toolbar_ind][1];\n",
       "        var image = mpl.toolbar_items[toolbar_ind][2];\n",
       "        var method_name = mpl.toolbar_items[toolbar_ind][3];\n",
       "\n",
       "        if (!name) { continue; };\n",
       "\n",
       "        var button = $('<button class=\"btn btn-default\" href=\"#\" title=\"' + name + '\"><i class=\"fa ' + image + ' fa-lg\"></i></button>');\n",
       "        button.click(method_name, toolbar_event);\n",
       "        button.mouseover(tooltip, toolbar_mouse_event);\n",
       "        nav_element.append(button);\n",
       "    }\n",
       "\n",
       "    // Add the status bar.\n",
       "    var status_bar = $('<span class=\"mpl-message\" style=\"text-align:right; float: right;\"/>');\n",
       "    nav_element.append(status_bar);\n",
       "    this.message = status_bar[0];\n",
       "\n",
       "    // Add the close button to the window.\n",
       "    var buttongrp = $('<div class=\"btn-group inline pull-right\"></div>');\n",
       "    var button = $('<button class=\"btn btn-mini btn-primary\" href=\"#\" title=\"Stop Interaction\"><i class=\"fa fa-power-off icon-remove icon-large\"></i></button>');\n",
       "    button.click(function (evt) { fig.handle_close(fig, {}); } );\n",
       "    button.mouseover('Stop Interaction', toolbar_mouse_event);\n",
       "    buttongrp.append(button);\n",
       "    var titlebar = this.root.find($('.ui-dialog-titlebar'));\n",
       "    titlebar.prepend(buttongrp);\n",
       "}\n",
       "\n",
       "mpl.figure.prototype._root_extra_style = function(el){\n",
       "    var fig = this\n",
       "    el.on(\"remove\", function(){\n",
       "\tfig.close_ws(fig, {});\n",
       "    });\n",
       "}\n",
       "\n",
       "mpl.figure.prototype._canvas_extra_style = function(el){\n",
       "    // this is important to make the div 'focusable\n",
       "    el.attr('tabindex', 0)\n",
       "    // reach out to IPython and tell the keyboard manager to turn it's self\n",
       "    // off when our div gets focus\n",
       "\n",
       "    // location in version 3\n",
       "    if (IPython.notebook.keyboard_manager) {\n",
       "        IPython.notebook.keyboard_manager.register_events(el);\n",
       "    }\n",
       "    else {\n",
       "        // location in version 2\n",
       "        IPython.keyboard_manager.register_events(el);\n",
       "    }\n",
       "\n",
       "}\n",
       "\n",
       "mpl.figure.prototype._key_event_extra = function(event, name) {\n",
       "    var manager = IPython.notebook.keyboard_manager;\n",
       "    if (!manager)\n",
       "        manager = IPython.keyboard_manager;\n",
       "\n",
       "    // Check for shift+enter\n",
       "    if (event.shiftKey && event.which == 13) {\n",
       "        this.canvas_div.blur();\n",
       "        // select the cell after this one\n",
       "        var index = IPython.notebook.find_cell_index(this.cell_info[0]);\n",
       "        IPython.notebook.select(index + 1);\n",
       "    }\n",
       "}\n",
       "\n",
       "mpl.figure.prototype.handle_save = function(fig, msg) {\n",
       "    fig.ondownload(fig, null);\n",
       "}\n",
       "\n",
       "\n",
       "mpl.find_output_cell = function(html_output) {\n",
       "    // Return the cell and output element which can be found *uniquely* in the notebook.\n",
       "    // Note - this is a bit hacky, but it is done because the \"notebook_saving.Notebook\"\n",
       "    // IPython event is triggered only after the cells have been serialised, which for\n",
       "    // our purposes (turning an active figure into a static one), is too late.\n",
       "    var cells = IPython.notebook.get_cells();\n",
       "    var ncells = cells.length;\n",
       "    for (var i=0; i<ncells; i++) {\n",
       "        var cell = cells[i];\n",
       "        if (cell.cell_type === 'code'){\n",
       "            for (var j=0; j<cell.output_area.outputs.length; j++) {\n",
       "                var data = cell.output_area.outputs[j];\n",
       "                if (data.data) {\n",
       "                    // IPython >= 3 moved mimebundle to data attribute of output\n",
       "                    data = data.data;\n",
       "                }\n",
       "                if (data['text/html'] == html_output) {\n",
       "                    return [cell, data, j];\n",
       "                }\n",
       "            }\n",
       "        }\n",
       "    }\n",
       "}\n",
       "\n",
       "// Register the function which deals with the matplotlib target/channel.\n",
       "// The kernel may be null if the page has been refreshed.\n",
       "if (IPython.notebook.kernel != null) {\n",
       "    IPython.notebook.kernel.comm_manager.register_target('matplotlib', mpl.mpl_figure_comm);\n",
       "}\n"
      ],
      "text/plain": [
       "<IPython.core.display.Javascript object>"
      ]
     },
     "metadata": {},
     "output_type": "display_data"
    },
    {
     "data": {
      "text/html": [
       "<img src=\"data:image/png;base64,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\" width=\"639.999990463257\">"
      ],
      "text/plain": [
       "<IPython.core.display.HTML object>"
      ]
     },
     "metadata": {},
     "output_type": "display_data"
    },
    {
     "data": {
      "application/vnd.jupyter.widget-view+json": {
       "model_id": "da7730778b0549c7848e92e242ed9120",
       "version_major": 2,
       "version_minor": 0
      },
      "text/plain": [
       "A Jupyter Widget"
      ]
     },
     "metadata": {},
     "output_type": "display_data"
    },
    {
     "data": {
      "application/vnd.jupyter.widget-view+json": {
       "model_id": "b9f9c289397b4bff89b9b1e352971bd3",
       "version_major": 2,
       "version_minor": 0
      },
      "text/plain": [
       "A Jupyter Widget"
      ]
     },
     "metadata": {},
     "output_type": "display_data"
    },
    {
     "data": {
      "application/vnd.jupyter.widget-view+json": {
       "model_id": "289f3ee0bb304e8e8bc948e3b15a9e26",
       "version_major": 2,
       "version_minor": 0
      },
      "text/plain": [
       "A Jupyter Widget"
      ]
     },
     "metadata": {},
     "output_type": "display_data"
    },
    {
     "data": {
      "application/vnd.jupyter.widget-view+json": {
       "model_id": "f6dc62d5f7b941cf999519855d9c027f",
       "version_major": 2,
       "version_minor": 0
      },
      "text/plain": [
       "A Jupyter Widget"
      ]
     },
     "metadata": {},
     "output_type": "display_data"
    },
    {
     "data": {
      "application/vnd.jupyter.widget-view+json": {
       "model_id": "d0834f814bf24110b3cdd99ccd968b11",
       "version_major": 2,
       "version_minor": 0
      },
      "text/plain": [
       "A Jupyter Widget"
      ]
     },
     "metadata": {},
     "output_type": "display_data"
    },
    {
     "data": {
      "application/vnd.jupyter.widget-view+json": {
       "model_id": "78105311d81b45b69766e688e05eb005",
       "version_major": 2,
       "version_minor": 0
      },
      "text/plain": [
       "A Jupyter Widget"
      ]
     },
     "metadata": {},
     "output_type": "display_data"
    }
   ],
   "source": [
    "f = tt.sort_samples('BODY_PRODUCT').plot(gui='jupyter', feature_field='taxonomy', barx_fields=['HOST_SUBJECT_ID'], clim=[0, 1000])"
   ]
  },
  {
   "cell_type": "code",
   "execution_count": 19,
   "metadata": {
    "collapsed": true
   },
   "outputs": [],
   "source": [
    "# you can save figures\n",
    "f.save_figure('fig.pdf')"
   ]
  },
  {
   "cell_type": "markdown",
   "metadata": {},
   "source": [
    "## Sort bacteria by the taxonomy (just because we can :D)"
   ]
  },
  {
   "cell_type": "code",
   "execution_count": 20,
   "metadata": {},
   "outputs": [
    {
     "data": {
      "application/javascript": [
       "/* Put everything inside the global mpl namespace */\n",
       "window.mpl = {};\n",
       "\n",
       "\n",
       "mpl.get_websocket_type = function() {\n",
       "    if (typeof(WebSocket) !== 'undefined') {\n",
       "        return WebSocket;\n",
       "    } else if (typeof(MozWebSocket) !== 'undefined') {\n",
       "        return MozWebSocket;\n",
       "    } else {\n",
       "        alert('Your browser does not have WebSocket support.' +\n",
       "              'Please try Chrome, Safari or Firefox ≥ 6. ' +\n",
       "              'Firefox 4 and 5 are also supported but you ' +\n",
       "              'have to enable WebSockets in about:config.');\n",
       "    };\n",
       "}\n",
       "\n",
       "mpl.figure = function(figure_id, websocket, ondownload, parent_element) {\n",
       "    this.id = figure_id;\n",
       "\n",
       "    this.ws = websocket;\n",
       "\n",
       "    this.supports_binary = (this.ws.binaryType != undefined);\n",
       "\n",
       "    if (!this.supports_binary) {\n",
       "        var warnings = document.getElementById(\"mpl-warnings\");\n",
       "        if (warnings) {\n",
       "            warnings.style.display = 'block';\n",
       "            warnings.textContent = (\n",
       "                \"This browser does not support binary websocket messages. \" +\n",
       "                    \"Performance may be slow.\");\n",
       "        }\n",
       "    }\n",
       "\n",
       "    this.imageObj = new Image();\n",
       "\n",
       "    this.context = undefined;\n",
       "    this.message = undefined;\n",
       "    this.canvas = undefined;\n",
       "    this.rubberband_canvas = undefined;\n",
       "    this.rubberband_context = undefined;\n",
       "    this.format_dropdown = undefined;\n",
       "\n",
       "    this.image_mode = 'full';\n",
       "\n",
       "    this.root = $('<div/>');\n",
       "    this._root_extra_style(this.root)\n",
       "    this.root.attr('style', 'display: inline-block');\n",
       "\n",
       "    $(parent_element).append(this.root);\n",
       "\n",
       "    this._init_header(this);\n",
       "    this._init_canvas(this);\n",
       "    this._init_toolbar(this);\n",
       "\n",
       "    var fig = this;\n",
       "\n",
       "    this.waiting = false;\n",
       "\n",
       "    this.ws.onopen =  function () {\n",
       "            fig.send_message(\"supports_binary\", {value: fig.supports_binary});\n",
       "            fig.send_message(\"send_image_mode\", {});\n",
       "            if (mpl.ratio != 1) {\n",
       "                fig.send_message(\"set_dpi_ratio\", {'dpi_ratio': mpl.ratio});\n",
       "            }\n",
       "            fig.send_message(\"refresh\", {});\n",
       "        }\n",
       "\n",
       "    this.imageObj.onload = function() {\n",
       "            if (fig.image_mode == 'full') {\n",
       "                // Full images could contain transparency (where diff images\n",
       "                // almost always do), so we need to clear the canvas so that\n",
       "                // there is no ghosting.\n",
       "                fig.context.clearRect(0, 0, fig.canvas.width, fig.canvas.height);\n",
       "            }\n",
       "            fig.context.drawImage(fig.imageObj, 0, 0);\n",
       "        };\n",
       "\n",
       "    this.imageObj.onunload = function() {\n",
       "        this.ws.close();\n",
       "    }\n",
       "\n",
       "    this.ws.onmessage = this._make_on_message_function(this);\n",
       "\n",
       "    this.ondownload = ondownload;\n",
       "}\n",
       "\n",
       "mpl.figure.prototype._init_header = function() {\n",
       "    var titlebar = $(\n",
       "        '<div class=\"ui-dialog-titlebar ui-widget-header ui-corner-all ' +\n",
       "        'ui-helper-clearfix\"/>');\n",
       "    var titletext = $(\n",
       "        '<div class=\"ui-dialog-title\" style=\"width: 100%; ' +\n",
       "        'text-align: center; padding: 3px;\"/>');\n",
       "    titlebar.append(titletext)\n",
       "    this.root.append(titlebar);\n",
       "    this.header = titletext[0];\n",
       "}\n",
       "\n",
       "\n",
       "\n",
       "mpl.figure.prototype._canvas_extra_style = function(canvas_div) {\n",
       "\n",
       "}\n",
       "\n",
       "\n",
       "mpl.figure.prototype._root_extra_style = function(canvas_div) {\n",
       "\n",
       "}\n",
       "\n",
       "mpl.figure.prototype._init_canvas = function() {\n",
       "    var fig = this;\n",
       "\n",
       "    var canvas_div = $('<div/>');\n",
       "\n",
       "    canvas_div.attr('style', 'position: relative; clear: both; outline: 0');\n",
       "\n",
       "    function canvas_keyboard_event(event) {\n",
       "        return fig.key_event(event, event['data']);\n",
       "    }\n",
       "\n",
       "    canvas_div.keydown('key_press', canvas_keyboard_event);\n",
       "    canvas_div.keyup('key_release', canvas_keyboard_event);\n",
       "    this.canvas_div = canvas_div\n",
       "    this._canvas_extra_style(canvas_div)\n",
       "    this.root.append(canvas_div);\n",
       "\n",
       "    var canvas = $('<canvas/>');\n",
       "    canvas.addClass('mpl-canvas');\n",
       "    canvas.attr('style', \"left: 0; top: 0; z-index: 0; outline: 0\")\n",
       "\n",
       "    this.canvas = canvas[0];\n",
       "    this.context = canvas[0].getContext(\"2d\");\n",
       "\n",
       "    var backingStore = this.context.backingStorePixelRatio ||\n",
       "\tthis.context.webkitBackingStorePixelRatio ||\n",
       "\tthis.context.mozBackingStorePixelRatio ||\n",
       "\tthis.context.msBackingStorePixelRatio ||\n",
       "\tthis.context.oBackingStorePixelRatio ||\n",
       "\tthis.context.backingStorePixelRatio || 1;\n",
       "\n",
       "    mpl.ratio = (window.devicePixelRatio || 1) / backingStore;\n",
       "\n",
       "    var rubberband = $('<canvas/>');\n",
       "    rubberband.attr('style', \"position: absolute; left: 0; top: 0; z-index: 1;\")\n",
       "\n",
       "    var pass_mouse_events = true;\n",
       "\n",
       "    canvas_div.resizable({\n",
       "        start: function(event, ui) {\n",
       "            pass_mouse_events = false;\n",
       "        },\n",
       "        resize: function(event, ui) {\n",
       "            fig.request_resize(ui.size.width, ui.size.height);\n",
       "        },\n",
       "        stop: function(event, ui) {\n",
       "            pass_mouse_events = true;\n",
       "            fig.request_resize(ui.size.width, ui.size.height);\n",
       "        },\n",
       "    });\n",
       "\n",
       "    function mouse_event_fn(event) {\n",
       "        if (pass_mouse_events)\n",
       "            return fig.mouse_event(event, event['data']);\n",
       "    }\n",
       "\n",
       "    rubberband.mousedown('button_press', mouse_event_fn);\n",
       "    rubberband.mouseup('button_release', mouse_event_fn);\n",
       "    // Throttle sequential mouse events to 1 every 20ms.\n",
       "    rubberband.mousemove('motion_notify', mouse_event_fn);\n",
       "\n",
       "    rubberband.mouseenter('figure_enter', mouse_event_fn);\n",
       "    rubberband.mouseleave('figure_leave', mouse_event_fn);\n",
       "\n",
       "    canvas_div.on(\"wheel\", function (event) {\n",
       "        event = event.originalEvent;\n",
       "        event['data'] = 'scroll'\n",
       "        if (event.deltaY < 0) {\n",
       "            event.step = 1;\n",
       "        } else {\n",
       "            event.step = -1;\n",
       "        }\n",
       "        mouse_event_fn(event);\n",
       "    });\n",
       "\n",
       "    canvas_div.append(canvas);\n",
       "    canvas_div.append(rubberband);\n",
       "\n",
       "    this.rubberband = rubberband;\n",
       "    this.rubberband_canvas = rubberband[0];\n",
       "    this.rubberband_context = rubberband[0].getContext(\"2d\");\n",
       "    this.rubberband_context.strokeStyle = \"#000000\";\n",
       "\n",
       "    this._resize_canvas = function(width, height) {\n",
       "        // Keep the size of the canvas, canvas container, and rubber band\n",
       "        // canvas in synch.\n",
       "        canvas_div.css('width', width)\n",
       "        canvas_div.css('height', height)\n",
       "\n",
       "        canvas.attr('width', width * mpl.ratio);\n",
       "        canvas.attr('height', height * mpl.ratio);\n",
       "        canvas.attr('style', 'width: ' + width + 'px; height: ' + height + 'px;');\n",
       "\n",
       "        rubberband.attr('width', width);\n",
       "        rubberband.attr('height', height);\n",
       "    }\n",
       "\n",
       "    // Set the figure to an initial 600x600px, this will subsequently be updated\n",
       "    // upon first draw.\n",
       "    this._resize_canvas(600, 600);\n",
       "\n",
       "    // Disable right mouse context menu.\n",
       "    $(this.rubberband_canvas).bind(\"contextmenu\",function(e){\n",
       "        return false;\n",
       "    });\n",
       "\n",
       "    function set_focus () {\n",
       "        canvas.focus();\n",
       "        canvas_div.focus();\n",
       "    }\n",
       "\n",
       "    window.setTimeout(set_focus, 100);\n",
       "}\n",
       "\n",
       "mpl.figure.prototype._init_toolbar = function() {\n",
       "    var fig = this;\n",
       "\n",
       "    var nav_element = $('<div/>')\n",
       "    nav_element.attr('style', 'width: 100%');\n",
       "    this.root.append(nav_element);\n",
       "\n",
       "    // Define a callback function for later on.\n",
       "    function toolbar_event(event) {\n",
       "        return fig.toolbar_button_onclick(event['data']);\n",
       "    }\n",
       "    function toolbar_mouse_event(event) {\n",
       "        return fig.toolbar_button_onmouseover(event['data']);\n",
       "    }\n",
       "\n",
       "    for(var toolbar_ind in mpl.toolbar_items) {\n",
       "        var name = mpl.toolbar_items[toolbar_ind][0];\n",
       "        var tooltip = mpl.toolbar_items[toolbar_ind][1];\n",
       "        var image = mpl.toolbar_items[toolbar_ind][2];\n",
       "        var method_name = mpl.toolbar_items[toolbar_ind][3];\n",
       "\n",
       "        if (!name) {\n",
       "            // put a spacer in here.\n",
       "            continue;\n",
       "        }\n",
       "        var button = $('<button/>');\n",
       "        button.addClass('ui-button ui-widget ui-state-default ui-corner-all ' +\n",
       "                        'ui-button-icon-only');\n",
       "        button.attr('role', 'button');\n",
       "        button.attr('aria-disabled', 'false');\n",
       "        button.click(method_name, toolbar_event);\n",
       "        button.mouseover(tooltip, toolbar_mouse_event);\n",
       "\n",
       "        var icon_img = $('<span/>');\n",
       "        icon_img.addClass('ui-button-icon-primary ui-icon');\n",
       "        icon_img.addClass(image);\n",
       "        icon_img.addClass('ui-corner-all');\n",
       "\n",
       "        var tooltip_span = $('<span/>');\n",
       "        tooltip_span.addClass('ui-button-text');\n",
       "        tooltip_span.html(tooltip);\n",
       "\n",
       "        button.append(icon_img);\n",
       "        button.append(tooltip_span);\n",
       "\n",
       "        nav_element.append(button);\n",
       "    }\n",
       "\n",
       "    var fmt_picker_span = $('<span/>');\n",
       "\n",
       "    var fmt_picker = $('<select/>');\n",
       "    fmt_picker.addClass('mpl-toolbar-option ui-widget ui-widget-content');\n",
       "    fmt_picker_span.append(fmt_picker);\n",
       "    nav_element.append(fmt_picker_span);\n",
       "    this.format_dropdown = fmt_picker[0];\n",
       "\n",
       "    for (var ind in mpl.extensions) {\n",
       "        var fmt = mpl.extensions[ind];\n",
       "        var option = $(\n",
       "            '<option/>', {selected: fmt === mpl.default_extension}).html(fmt);\n",
       "        fmt_picker.append(option)\n",
       "    }\n",
       "\n",
       "    // Add hover states to the ui-buttons\n",
       "    $( \".ui-button\" ).hover(\n",
       "        function() { $(this).addClass(\"ui-state-hover\");},\n",
       "        function() { $(this).removeClass(\"ui-state-hover\");}\n",
       "    );\n",
       "\n",
       "    var status_bar = $('<span class=\"mpl-message\"/>');\n",
       "    nav_element.append(status_bar);\n",
       "    this.message = status_bar[0];\n",
       "}\n",
       "\n",
       "mpl.figure.prototype.request_resize = function(x_pixels, y_pixels) {\n",
       "    // Request matplotlib to resize the figure. Matplotlib will then trigger a resize in the client,\n",
       "    // which will in turn request a refresh of the image.\n",
       "    this.send_message('resize', {'width': x_pixels, 'height': y_pixels});\n",
       "}\n",
       "\n",
       "mpl.figure.prototype.send_message = function(type, properties) {\n",
       "    properties['type'] = type;\n",
       "    properties['figure_id'] = this.id;\n",
       "    this.ws.send(JSON.stringify(properties));\n",
       "}\n",
       "\n",
       "mpl.figure.prototype.send_draw_message = function() {\n",
       "    if (!this.waiting) {\n",
       "        this.waiting = true;\n",
       "        this.ws.send(JSON.stringify({type: \"draw\", figure_id: this.id}));\n",
       "    }\n",
       "}\n",
       "\n",
       "\n",
       "mpl.figure.prototype.handle_save = function(fig, msg) {\n",
       "    var format_dropdown = fig.format_dropdown;\n",
       "    var format = format_dropdown.options[format_dropdown.selectedIndex].value;\n",
       "    fig.ondownload(fig, format);\n",
       "}\n",
       "\n",
       "\n",
       "mpl.figure.prototype.handle_resize = function(fig, msg) {\n",
       "    var size = msg['size'];\n",
       "    if (size[0] != fig.canvas.width || size[1] != fig.canvas.height) {\n",
       "        fig._resize_canvas(size[0], size[1]);\n",
       "        fig.send_message(\"refresh\", {});\n",
       "    };\n",
       "}\n",
       "\n",
       "mpl.figure.prototype.handle_rubberband = function(fig, msg) {\n",
       "    var x0 = msg['x0'] / mpl.ratio;\n",
       "    var y0 = (fig.canvas.height - msg['y0']) / mpl.ratio;\n",
       "    var x1 = msg['x1'] / mpl.ratio;\n",
       "    var y1 = (fig.canvas.height - msg['y1']) / mpl.ratio;\n",
       "    x0 = Math.floor(x0) + 0.5;\n",
       "    y0 = Math.floor(y0) + 0.5;\n",
       "    x1 = Math.floor(x1) + 0.5;\n",
       "    y1 = Math.floor(y1) + 0.5;\n",
       "    var min_x = Math.min(x0, x1);\n",
       "    var min_y = Math.min(y0, y1);\n",
       "    var width = Math.abs(x1 - x0);\n",
       "    var height = Math.abs(y1 - y0);\n",
       "\n",
       "    fig.rubberband_context.clearRect(\n",
       "        0, 0, fig.canvas.width, fig.canvas.height);\n",
       "\n",
       "    fig.rubberband_context.strokeRect(min_x, min_y, width, height);\n",
       "}\n",
       "\n",
       "mpl.figure.prototype.handle_figure_label = function(fig, msg) {\n",
       "    // Updates the figure title.\n",
       "    fig.header.textContent = msg['label'];\n",
       "}\n",
       "\n",
       "mpl.figure.prototype.handle_cursor = function(fig, msg) {\n",
       "    var cursor = msg['cursor'];\n",
       "    switch(cursor)\n",
       "    {\n",
       "    case 0:\n",
       "        cursor = 'pointer';\n",
       "        break;\n",
       "    case 1:\n",
       "        cursor = 'default';\n",
       "        break;\n",
       "    case 2:\n",
       "        cursor = 'crosshair';\n",
       "        break;\n",
       "    case 3:\n",
       "        cursor = 'move';\n",
       "        break;\n",
       "    }\n",
       "    fig.rubberband_canvas.style.cursor = cursor;\n",
       "}\n",
       "\n",
       "mpl.figure.prototype.handle_message = function(fig, msg) {\n",
       "    fig.message.textContent = msg['message'];\n",
       "}\n",
       "\n",
       "mpl.figure.prototype.handle_draw = function(fig, msg) {\n",
       "    // Request the server to send over a new figure.\n",
       "    fig.send_draw_message();\n",
       "}\n",
       "\n",
       "mpl.figure.prototype.handle_image_mode = function(fig, msg) {\n",
       "    fig.image_mode = msg['mode'];\n",
       "}\n",
       "\n",
       "mpl.figure.prototype.updated_canvas_event = function() {\n",
       "    // Called whenever the canvas gets updated.\n",
       "    this.send_message(\"ack\", {});\n",
       "}\n",
       "\n",
       "// A function to construct a web socket function for onmessage handling.\n",
       "// Called in the figure constructor.\n",
       "mpl.figure.prototype._make_on_message_function = function(fig) {\n",
       "    return function socket_on_message(evt) {\n",
       "        if (evt.data instanceof Blob) {\n",
       "            /* FIXME: We get \"Resource interpreted as Image but\n",
       "             * transferred with MIME type text/plain:\" errors on\n",
       "             * Chrome.  But how to set the MIME type?  It doesn't seem\n",
       "             * to be part of the websocket stream */\n",
       "            evt.data.type = \"image/png\";\n",
       "\n",
       "            /* Free the memory for the previous frames */\n",
       "            if (fig.imageObj.src) {\n",
       "                (window.URL || window.webkitURL).revokeObjectURL(\n",
       "                    fig.imageObj.src);\n",
       "            }\n",
       "\n",
       "            fig.imageObj.src = (window.URL || window.webkitURL).createObjectURL(\n",
       "                evt.data);\n",
       "            fig.updated_canvas_event();\n",
       "            fig.waiting = false;\n",
       "            return;\n",
       "        }\n",
       "        else if (typeof evt.data === 'string' && evt.data.slice(0, 21) == \"data:image/png;base64\") {\n",
       "            fig.imageObj.src = evt.data;\n",
       "            fig.updated_canvas_event();\n",
       "            fig.waiting = false;\n",
       "            return;\n",
       "        }\n",
       "\n",
       "        var msg = JSON.parse(evt.data);\n",
       "        var msg_type = msg['type'];\n",
       "\n",
       "        // Call the  \"handle_{type}\" callback, which takes\n",
       "        // the figure and JSON message as its only arguments.\n",
       "        try {\n",
       "            var callback = fig[\"handle_\" + msg_type];\n",
       "        } catch (e) {\n",
       "            console.log(\"No handler for the '\" + msg_type + \"' message type: \", msg);\n",
       "            return;\n",
       "        }\n",
       "\n",
       "        if (callback) {\n",
       "            try {\n",
       "                // console.log(\"Handling '\" + msg_type + \"' message: \", msg);\n",
       "                callback(fig, msg);\n",
       "            } catch (e) {\n",
       "                console.log(\"Exception inside the 'handler_\" + msg_type + \"' callback:\", e, e.stack, msg);\n",
       "            }\n",
       "        }\n",
       "    };\n",
       "}\n",
       "\n",
       "// from http://stackoverflow.com/questions/1114465/getting-mouse-location-in-canvas\n",
       "mpl.findpos = function(e) {\n",
       "    //this section is from http://www.quirksmode.org/js/events_properties.html\n",
       "    var targ;\n",
       "    if (!e)\n",
       "        e = window.event;\n",
       "    if (e.target)\n",
       "        targ = e.target;\n",
       "    else if (e.srcElement)\n",
       "        targ = e.srcElement;\n",
       "    if (targ.nodeType == 3) // defeat Safari bug\n",
       "        targ = targ.parentNode;\n",
       "\n",
       "    // jQuery normalizes the pageX and pageY\n",
       "    // pageX,Y are the mouse positions relative to the document\n",
       "    // offset() returns the position of the element relative to the document\n",
       "    var x = e.pageX - $(targ).offset().left;\n",
       "    var y = e.pageY - $(targ).offset().top;\n",
       "\n",
       "    return {\"x\": x, \"y\": y};\n",
       "};\n",
       "\n",
       "/*\n",
       " * return a copy of an object with only non-object keys\n",
       " * we need this to avoid circular references\n",
       " * http://stackoverflow.com/a/24161582/3208463\n",
       " */\n",
       "function simpleKeys (original) {\n",
       "  return Object.keys(original).reduce(function (obj, key) {\n",
       "    if (typeof original[key] !== 'object')\n",
       "        obj[key] = original[key]\n",
       "    return obj;\n",
       "  }, {});\n",
       "}\n",
       "\n",
       "mpl.figure.prototype.mouse_event = function(event, name) {\n",
       "    var canvas_pos = mpl.findpos(event)\n",
       "\n",
       "    if (name === 'button_press')\n",
       "    {\n",
       "        this.canvas.focus();\n",
       "        this.canvas_div.focus();\n",
       "    }\n",
       "\n",
       "    var x = canvas_pos.x * mpl.ratio;\n",
       "    var y = canvas_pos.y * mpl.ratio;\n",
       "\n",
       "    this.send_message(name, {x: x, y: y, button: event.button,\n",
       "                             step: event.step,\n",
       "                             guiEvent: simpleKeys(event)});\n",
       "\n",
       "    /* This prevents the web browser from automatically changing to\n",
       "     * the text insertion cursor when the button is pressed.  We want\n",
       "     * to control all of the cursor setting manually through the\n",
       "     * 'cursor' event from matplotlib */\n",
       "    event.preventDefault();\n",
       "    return false;\n",
       "}\n",
       "\n",
       "mpl.figure.prototype._key_event_extra = function(event, name) {\n",
       "    // Handle any extra behaviour associated with a key event\n",
       "}\n",
       "\n",
       "mpl.figure.prototype.key_event = function(event, name) {\n",
       "\n",
       "    // Prevent repeat events\n",
       "    if (name == 'key_press')\n",
       "    {\n",
       "        if (event.which === this._key)\n",
       "            return;\n",
       "        else\n",
       "            this._key = event.which;\n",
       "    }\n",
       "    if (name == 'key_release')\n",
       "        this._key = null;\n",
       "\n",
       "    var value = '';\n",
       "    if (event.ctrlKey && event.which != 17)\n",
       "        value += \"ctrl+\";\n",
       "    if (event.altKey && event.which != 18)\n",
       "        value += \"alt+\";\n",
       "    if (event.shiftKey && event.which != 16)\n",
       "        value += \"shift+\";\n",
       "\n",
       "    value += 'k';\n",
       "    value += event.which.toString();\n",
       "\n",
       "    this._key_event_extra(event, name);\n",
       "\n",
       "    this.send_message(name, {key: value,\n",
       "                             guiEvent: simpleKeys(event)});\n",
       "    return false;\n",
       "}\n",
       "\n",
       "mpl.figure.prototype.toolbar_button_onclick = function(name) {\n",
       "    if (name == 'download') {\n",
       "        this.handle_save(this, null);\n",
       "    } else {\n",
       "        this.send_message(\"toolbar_button\", {name: name});\n",
       "    }\n",
       "};\n",
       "\n",
       "mpl.figure.prototype.toolbar_button_onmouseover = function(tooltip) {\n",
       "    this.message.textContent = tooltip;\n",
       "};\n",
       "mpl.toolbar_items = [[\"Home\", \"Reset original view\", \"fa fa-home icon-home\", \"home\"], [\"Back\", \"Back to  previous view\", \"fa fa-arrow-left icon-arrow-left\", \"back\"], [\"Forward\", \"Forward to next view\", \"fa fa-arrow-right icon-arrow-right\", \"forward\"], [\"\", \"\", \"\", \"\"], [\"Pan\", \"Pan axes with left mouse, zoom with right\", \"fa fa-arrows icon-move\", \"pan\"], [\"Zoom\", \"Zoom to rectangle\", \"fa fa-square-o icon-check-empty\", \"zoom\"], [\"\", \"\", \"\", \"\"], [\"Download\", \"Download plot\", \"fa fa-floppy-o icon-save\", \"download\"]];\n",
       "\n",
       "mpl.extensions = [\"eps\", \"pdf\", \"png\", \"ps\", \"raw\", \"svg\"];\n",
       "\n",
       "mpl.default_extension = \"png\";var comm_websocket_adapter = function(comm) {\n",
       "    // Create a \"websocket\"-like object which calls the given IPython comm\n",
       "    // object with the appropriate methods. Currently this is a non binary\n",
       "    // socket, so there is still some room for performance tuning.\n",
       "    var ws = {};\n",
       "\n",
       "    ws.close = function() {\n",
       "        comm.close()\n",
       "    };\n",
       "    ws.send = function(m) {\n",
       "        //console.log('sending', m);\n",
       "        comm.send(m);\n",
       "    };\n",
       "    // Register the callback with on_msg.\n",
       "    comm.on_msg(function(msg) {\n",
       "        //console.log('receiving', msg['content']['data'], msg);\n",
       "        // Pass the mpl event to the overriden (by mpl) onmessage function.\n",
       "        ws.onmessage(msg['content']['data'])\n",
       "    });\n",
       "    return ws;\n",
       "}\n",
       "\n",
       "mpl.mpl_figure_comm = function(comm, msg) {\n",
       "    // This is the function which gets called when the mpl process\n",
       "    // starts-up an IPython Comm through the \"matplotlib\" channel.\n",
       "\n",
       "    var id = msg.content.data.id;\n",
       "    // Get hold of the div created by the display call when the Comm\n",
       "    // socket was opened in Python.\n",
       "    var element = $(\"#\" + id);\n",
       "    var ws_proxy = comm_websocket_adapter(comm)\n",
       "\n",
       "    function ondownload(figure, format) {\n",
       "        window.open(figure.imageObj.src);\n",
       "    }\n",
       "\n",
       "    var fig = new mpl.figure(id, ws_proxy,\n",
       "                           ondownload,\n",
       "                           element.get(0));\n",
       "\n",
       "    // Call onopen now - mpl needs it, as it is assuming we've passed it a real\n",
       "    // web socket which is closed, not our websocket->open comm proxy.\n",
       "    ws_proxy.onopen();\n",
       "\n",
       "    fig.parent_element = element.get(0);\n",
       "    fig.cell_info = mpl.find_output_cell(\"<div id='\" + id + \"'></div>\");\n",
       "    if (!fig.cell_info) {\n",
       "        console.error(\"Failed to find cell for figure\", id, fig);\n",
       "        return;\n",
       "    }\n",
       "\n",
       "    var output_index = fig.cell_info[2]\n",
       "    var cell = fig.cell_info[0];\n",
       "\n",
       "};\n",
       "\n",
       "mpl.figure.prototype.handle_close = function(fig, msg) {\n",
       "    var width = fig.canvas.width/mpl.ratio\n",
       "    fig.root.unbind('remove')\n",
       "\n",
       "    // Update the output cell to use the data from the current canvas.\n",
       "    fig.push_to_output();\n",
       "    var dataURL = fig.canvas.toDataURL();\n",
       "    // Re-enable the keyboard manager in IPython - without this line, in FF,\n",
       "    // the notebook keyboard shortcuts fail.\n",
       "    IPython.keyboard_manager.enable()\n",
       "    $(fig.parent_element).html('<img src=\"' + dataURL + '\" width=\"' + width + '\">');\n",
       "    fig.close_ws(fig, msg);\n",
       "}\n",
       "\n",
       "mpl.figure.prototype.close_ws = function(fig, msg){\n",
       "    fig.send_message('closing', msg);\n",
       "    // fig.ws.close()\n",
       "}\n",
       "\n",
       "mpl.figure.prototype.push_to_output = function(remove_interactive) {\n",
       "    // Turn the data on the canvas into data in the output cell.\n",
       "    var width = this.canvas.width/mpl.ratio\n",
       "    var dataURL = this.canvas.toDataURL();\n",
       "    this.cell_info[1]['text/html'] = '<img src=\"' + dataURL + '\" width=\"' + width + '\">';\n",
       "}\n",
       "\n",
       "mpl.figure.prototype.updated_canvas_event = function() {\n",
       "    // Tell IPython that the notebook contents must change.\n",
       "    IPython.notebook.set_dirty(true);\n",
       "    this.send_message(\"ack\", {});\n",
       "    var fig = this;\n",
       "    // Wait a second, then push the new image to the DOM so\n",
       "    // that it is saved nicely (might be nice to debounce this).\n",
       "    setTimeout(function () { fig.push_to_output() }, 1000);\n",
       "}\n",
       "\n",
       "mpl.figure.prototype._init_toolbar = function() {\n",
       "    var fig = this;\n",
       "\n",
       "    var nav_element = $('<div/>')\n",
       "    nav_element.attr('style', 'width: 100%');\n",
       "    this.root.append(nav_element);\n",
       "\n",
       "    // Define a callback function for later on.\n",
       "    function toolbar_event(event) {\n",
       "        return fig.toolbar_button_onclick(event['data']);\n",
       "    }\n",
       "    function toolbar_mouse_event(event) {\n",
       "        return fig.toolbar_button_onmouseover(event['data']);\n",
       "    }\n",
       "\n",
       "    for(var toolbar_ind in mpl.toolbar_items){\n",
       "        var name = mpl.toolbar_items[toolbar_ind][0];\n",
       "        var tooltip = mpl.toolbar_items[toolbar_ind][1];\n",
       "        var image = mpl.toolbar_items[toolbar_ind][2];\n",
       "        var method_name = mpl.toolbar_items[toolbar_ind][3];\n",
       "\n",
       "        if (!name) { continue; };\n",
       "\n",
       "        var button = $('<button class=\"btn btn-default\" href=\"#\" title=\"' + name + '\"><i class=\"fa ' + image + ' fa-lg\"></i></button>');\n",
       "        button.click(method_name, toolbar_event);\n",
       "        button.mouseover(tooltip, toolbar_mouse_event);\n",
       "        nav_element.append(button);\n",
       "    }\n",
       "\n",
       "    // Add the status bar.\n",
       "    var status_bar = $('<span class=\"mpl-message\" style=\"text-align:right; float: right;\"/>');\n",
       "    nav_element.append(status_bar);\n",
       "    this.message = status_bar[0];\n",
       "\n",
       "    // Add the close button to the window.\n",
       "    var buttongrp = $('<div class=\"btn-group inline pull-right\"></div>');\n",
       "    var button = $('<button class=\"btn btn-mini btn-primary\" href=\"#\" title=\"Stop Interaction\"><i class=\"fa fa-power-off icon-remove icon-large\"></i></button>');\n",
       "    button.click(function (evt) { fig.handle_close(fig, {}); } );\n",
       "    button.mouseover('Stop Interaction', toolbar_mouse_event);\n",
       "    buttongrp.append(button);\n",
       "    var titlebar = this.root.find($('.ui-dialog-titlebar'));\n",
       "    titlebar.prepend(buttongrp);\n",
       "}\n",
       "\n",
       "mpl.figure.prototype._root_extra_style = function(el){\n",
       "    var fig = this\n",
       "    el.on(\"remove\", function(){\n",
       "\tfig.close_ws(fig, {});\n",
       "    });\n",
       "}\n",
       "\n",
       "mpl.figure.prototype._canvas_extra_style = function(el){\n",
       "    // this is important to make the div 'focusable\n",
       "    el.attr('tabindex', 0)\n",
       "    // reach out to IPython and tell the keyboard manager to turn it's self\n",
       "    // off when our div gets focus\n",
       "\n",
       "    // location in version 3\n",
       "    if (IPython.notebook.keyboard_manager) {\n",
       "        IPython.notebook.keyboard_manager.register_events(el);\n",
       "    }\n",
       "    else {\n",
       "        // location in version 2\n",
       "        IPython.keyboard_manager.register_events(el);\n",
       "    }\n",
       "\n",
       "}\n",
       "\n",
       "mpl.figure.prototype._key_event_extra = function(event, name) {\n",
       "    var manager = IPython.notebook.keyboard_manager;\n",
       "    if (!manager)\n",
       "        manager = IPython.keyboard_manager;\n",
       "\n",
       "    // Check for shift+enter\n",
       "    if (event.shiftKey && event.which == 13) {\n",
       "        this.canvas_div.blur();\n",
       "        // select the cell after this one\n",
       "        var index = IPython.notebook.find_cell_index(this.cell_info[0]);\n",
       "        IPython.notebook.select(index + 1);\n",
       "    }\n",
       "}\n",
       "\n",
       "mpl.figure.prototype.handle_save = function(fig, msg) {\n",
       "    fig.ondownload(fig, null);\n",
       "}\n",
       "\n",
       "\n",
       "mpl.find_output_cell = function(html_output) {\n",
       "    // Return the cell and output element which can be found *uniquely* in the notebook.\n",
       "    // Note - this is a bit hacky, but it is done because the \"notebook_saving.Notebook\"\n",
       "    // IPython event is triggered only after the cells have been serialised, which for\n",
       "    // our purposes (turning an active figure into a static one), is too late.\n",
       "    var cells = IPython.notebook.get_cells();\n",
       "    var ncells = cells.length;\n",
       "    for (var i=0; i<ncells; i++) {\n",
       "        var cell = cells[i];\n",
       "        if (cell.cell_type === 'code'){\n",
       "            for (var j=0; j<cell.output_area.outputs.length; j++) {\n",
       "                var data = cell.output_area.outputs[j];\n",
       "                if (data.data) {\n",
       "                    // IPython >= 3 moved mimebundle to data attribute of output\n",
       "                    data = data.data;\n",
       "                }\n",
       "                if (data['text/html'] == html_output) {\n",
       "                    return [cell, data, j];\n",
       "                }\n",
       "            }\n",
       "        }\n",
       "    }\n",
       "}\n",
       "\n",
       "// Register the function which deals with the matplotlib target/channel.\n",
       "// The kernel may be null if the page has been refreshed.\n",
       "if (IPython.notebook.kernel != null) {\n",
       "    IPython.notebook.kernel.comm_manager.register_target('matplotlib', mpl.mpl_figure_comm);\n",
       "}\n"
      ],
      "text/plain": [
       "<IPython.core.display.Javascript object>"
      ]
     },
     "metadata": {},
     "output_type": "display_data"
    },
    {
     "data": {
      "text/html": [
       "<img src=\"data:image/png;base64,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\" width=\"639.999990463257\">"
      ],
      "text/plain": [
       "<IPython.core.display.HTML object>"
      ]
     },
     "metadata": {},
     "output_type": "display_data"
    },
    {
     "data": {
      "application/vnd.jupyter.widget-view+json": {
       "model_id": "5dcc85c738b444c6b904cdd09b1827ae",
       "version_major": 2,
       "version_minor": 0
      },
      "text/plain": [
       "A Jupyter Widget"
      ]
     },
     "metadata": {},
     "output_type": "display_data"
    },
    {
     "data": {
      "application/vnd.jupyter.widget-view+json": {
       "model_id": "cbaabeb66889443ba4c37e8c550bb2d7",
       "version_major": 2,
       "version_minor": 0
      },
      "text/plain": [
       "A Jupyter Widget"
      ]
     },
     "metadata": {},
     "output_type": "display_data"
    },
    {
     "data": {
      "application/vnd.jupyter.widget-view+json": {
       "model_id": "571d4ab14df342dca0bd852ddc7bc7c1",
       "version_major": 2,
       "version_minor": 0
      },
      "text/plain": [
       "A Jupyter Widget"
      ]
     },
     "metadata": {},
     "output_type": "display_data"
    },
    {
     "data": {
      "application/vnd.jupyter.widget-view+json": {
       "model_id": "b757d0386e6c448ca06be8d93f7a9b7b",
       "version_major": 2,
       "version_minor": 0
      },
      "text/plain": [
       "A Jupyter Widget"
      ]
     },
     "metadata": {},
     "output_type": "display_data"
    },
    {
     "data": {
      "application/vnd.jupyter.widget-view+json": {
       "model_id": "d02a3cdffb084bfaae6ba73fa2f0b9ed",
       "version_major": 2,
       "version_minor": 0
      },
      "text/plain": [
       "A Jupyter Widget"
      ]
     },
     "metadata": {},
     "output_type": "display_data"
    },
    {
     "data": {
      "application/vnd.jupyter.widget-view+json": {
       "model_id": "57e2e1bb550449798c4a8c0ef444c561",
       "version_major": 2,
       "version_minor": 0
      },
      "text/plain": [
       "A Jupyter Widget"
      ]
     },
     "metadata": {},
     "output_type": "display_data"
    },
    {
     "data": {
      "text/plain": [
       "<calour.heatmap.plotgui_jupyter.PlotGUI_Jupyter at 0x11f171860>"
      ]
     },
     "execution_count": 20,
     "metadata": {},
     "output_type": "execute_result"
    }
   ],
   "source": [
    "zz=tt.sort_taxonomy()\n",
    "zz.sort_samples('BODY_PRODUCT').plot(gui='jupyter',barx_fields=['HOST_SUBJECT_ID'], clim=[0, 1000])"
   ]
  },
  {
   "cell_type": "markdown",
   "metadata": {},
   "source": [
    "## Sort bacteria by clustering\n",
    "So similar behaving bacteria will be close to each other\n",
    "We also remove bacteria with < 50 reads total, so the heatmap will be of the more interesting bacteria."
   ]
  },
  {
   "cell_type": "code",
   "execution_count": 21,
   "metadata": {},
   "outputs": [
    {
     "name": "stdout",
     "output_type": "stream",
     "text": [
      "2017-10-09 12:41:35 INFO 2512 remaining\n"
     ]
    }
   ],
   "source": [
    "ttt=tt.cluster_features()"
   ]
  },
  {
   "cell_type": "code",
   "execution_count": 22,
   "metadata": {},
   "outputs": [
    {
     "data": {
      "application/javascript": [
       "/* Put everything inside the global mpl namespace */\n",
       "window.mpl = {};\n",
       "\n",
       "\n",
       "mpl.get_websocket_type = function() {\n",
       "    if (typeof(WebSocket) !== 'undefined') {\n",
       "        return WebSocket;\n",
       "    } else if (typeof(MozWebSocket) !== 'undefined') {\n",
       "        return MozWebSocket;\n",
       "    } else {\n",
       "        alert('Your browser does not have WebSocket support.' +\n",
       "              'Please try Chrome, Safari or Firefox ≥ 6. ' +\n",
       "              'Firefox 4 and 5 are also supported but you ' +\n",
       "              'have to enable WebSockets in about:config.');\n",
       "    };\n",
       "}\n",
       "\n",
       "mpl.figure = function(figure_id, websocket, ondownload, parent_element) {\n",
       "    this.id = figure_id;\n",
       "\n",
       "    this.ws = websocket;\n",
       "\n",
       "    this.supports_binary = (this.ws.binaryType != undefined);\n",
       "\n",
       "    if (!this.supports_binary) {\n",
       "        var warnings = document.getElementById(\"mpl-warnings\");\n",
       "        if (warnings) {\n",
       "            warnings.style.display = 'block';\n",
       "            warnings.textContent = (\n",
       "                \"This browser does not support binary websocket messages. \" +\n",
       "                    \"Performance may be slow.\");\n",
       "        }\n",
       "    }\n",
       "\n",
       "    this.imageObj = new Image();\n",
       "\n",
       "    this.context = undefined;\n",
       "    this.message = undefined;\n",
       "    this.canvas = undefined;\n",
       "    this.rubberband_canvas = undefined;\n",
       "    this.rubberband_context = undefined;\n",
       "    this.format_dropdown = undefined;\n",
       "\n",
       "    this.image_mode = 'full';\n",
       "\n",
       "    this.root = $('<div/>');\n",
       "    this._root_extra_style(this.root)\n",
       "    this.root.attr('style', 'display: inline-block');\n",
       "\n",
       "    $(parent_element).append(this.root);\n",
       "\n",
       "    this._init_header(this);\n",
       "    this._init_canvas(this);\n",
       "    this._init_toolbar(this);\n",
       "\n",
       "    var fig = this;\n",
       "\n",
       "    this.waiting = false;\n",
       "\n",
       "    this.ws.onopen =  function () {\n",
       "            fig.send_message(\"supports_binary\", {value: fig.supports_binary});\n",
       "            fig.send_message(\"send_image_mode\", {});\n",
       "            if (mpl.ratio != 1) {\n",
       "                fig.send_message(\"set_dpi_ratio\", {'dpi_ratio': mpl.ratio});\n",
       "            }\n",
       "            fig.send_message(\"refresh\", {});\n",
       "        }\n",
       "\n",
       "    this.imageObj.onload = function() {\n",
       "            if (fig.image_mode == 'full') {\n",
       "                // Full images could contain transparency (where diff images\n",
       "                // almost always do), so we need to clear the canvas so that\n",
       "                // there is no ghosting.\n",
       "                fig.context.clearRect(0, 0, fig.canvas.width, fig.canvas.height);\n",
       "            }\n",
       "            fig.context.drawImage(fig.imageObj, 0, 0);\n",
       "        };\n",
       "\n",
       "    this.imageObj.onunload = function() {\n",
       "        this.ws.close();\n",
       "    }\n",
       "\n",
       "    this.ws.onmessage = this._make_on_message_function(this);\n",
       "\n",
       "    this.ondownload = ondownload;\n",
       "}\n",
       "\n",
       "mpl.figure.prototype._init_header = function() {\n",
       "    var titlebar = $(\n",
       "        '<div class=\"ui-dialog-titlebar ui-widget-header ui-corner-all ' +\n",
       "        'ui-helper-clearfix\"/>');\n",
       "    var titletext = $(\n",
       "        '<div class=\"ui-dialog-title\" style=\"width: 100%; ' +\n",
       "        'text-align: center; padding: 3px;\"/>');\n",
       "    titlebar.append(titletext)\n",
       "    this.root.append(titlebar);\n",
       "    this.header = titletext[0];\n",
       "}\n",
       "\n",
       "\n",
       "\n",
       "mpl.figure.prototype._canvas_extra_style = function(canvas_div) {\n",
       "\n",
       "}\n",
       "\n",
       "\n",
       "mpl.figure.prototype._root_extra_style = function(canvas_div) {\n",
       "\n",
       "}\n",
       "\n",
       "mpl.figure.prototype._init_canvas = function() {\n",
       "    var fig = this;\n",
       "\n",
       "    var canvas_div = $('<div/>');\n",
       "\n",
       "    canvas_div.attr('style', 'position: relative; clear: both; outline: 0');\n",
       "\n",
       "    function canvas_keyboard_event(event) {\n",
       "        return fig.key_event(event, event['data']);\n",
       "    }\n",
       "\n",
       "    canvas_div.keydown('key_press', canvas_keyboard_event);\n",
       "    canvas_div.keyup('key_release', canvas_keyboard_event);\n",
       "    this.canvas_div = canvas_div\n",
       "    this._canvas_extra_style(canvas_div)\n",
       "    this.root.append(canvas_div);\n",
       "\n",
       "    var canvas = $('<canvas/>');\n",
       "    canvas.addClass('mpl-canvas');\n",
       "    canvas.attr('style', \"left: 0; top: 0; z-index: 0; outline: 0\")\n",
       "\n",
       "    this.canvas = canvas[0];\n",
       "    this.context = canvas[0].getContext(\"2d\");\n",
       "\n",
       "    var backingStore = this.context.backingStorePixelRatio ||\n",
       "\tthis.context.webkitBackingStorePixelRatio ||\n",
       "\tthis.context.mozBackingStorePixelRatio ||\n",
       "\tthis.context.msBackingStorePixelRatio ||\n",
       "\tthis.context.oBackingStorePixelRatio ||\n",
       "\tthis.context.backingStorePixelRatio || 1;\n",
       "\n",
       "    mpl.ratio = (window.devicePixelRatio || 1) / backingStore;\n",
       "\n",
       "    var rubberband = $('<canvas/>');\n",
       "    rubberband.attr('style', \"position: absolute; left: 0; top: 0; z-index: 1;\")\n",
       "\n",
       "    var pass_mouse_events = true;\n",
       "\n",
       "    canvas_div.resizable({\n",
       "        start: function(event, ui) {\n",
       "            pass_mouse_events = false;\n",
       "        },\n",
       "        resize: function(event, ui) {\n",
       "            fig.request_resize(ui.size.width, ui.size.height);\n",
       "        },\n",
       "        stop: function(event, ui) {\n",
       "            pass_mouse_events = true;\n",
       "            fig.request_resize(ui.size.width, ui.size.height);\n",
       "        },\n",
       "    });\n",
       "\n",
       "    function mouse_event_fn(event) {\n",
       "        if (pass_mouse_events)\n",
       "            return fig.mouse_event(event, event['data']);\n",
       "    }\n",
       "\n",
       "    rubberband.mousedown('button_press', mouse_event_fn);\n",
       "    rubberband.mouseup('button_release', mouse_event_fn);\n",
       "    // Throttle sequential mouse events to 1 every 20ms.\n",
       "    rubberband.mousemove('motion_notify', mouse_event_fn);\n",
       "\n",
       "    rubberband.mouseenter('figure_enter', mouse_event_fn);\n",
       "    rubberband.mouseleave('figure_leave', mouse_event_fn);\n",
       "\n",
       "    canvas_div.on(\"wheel\", function (event) {\n",
       "        event = event.originalEvent;\n",
       "        event['data'] = 'scroll'\n",
       "        if (event.deltaY < 0) {\n",
       "            event.step = 1;\n",
       "        } else {\n",
       "            event.step = -1;\n",
       "        }\n",
       "        mouse_event_fn(event);\n",
       "    });\n",
       "\n",
       "    canvas_div.append(canvas);\n",
       "    canvas_div.append(rubberband);\n",
       "\n",
       "    this.rubberband = rubberband;\n",
       "    this.rubberband_canvas = rubberband[0];\n",
       "    this.rubberband_context = rubberband[0].getContext(\"2d\");\n",
       "    this.rubberband_context.strokeStyle = \"#000000\";\n",
       "\n",
       "    this._resize_canvas = function(width, height) {\n",
       "        // Keep the size of the canvas, canvas container, and rubber band\n",
       "        // canvas in synch.\n",
       "        canvas_div.css('width', width)\n",
       "        canvas_div.css('height', height)\n",
       "\n",
       "        canvas.attr('width', width * mpl.ratio);\n",
       "        canvas.attr('height', height * mpl.ratio);\n",
       "        canvas.attr('style', 'width: ' + width + 'px; height: ' + height + 'px;');\n",
       "\n",
       "        rubberband.attr('width', width);\n",
       "        rubberband.attr('height', height);\n",
       "    }\n",
       "\n",
       "    // Set the figure to an initial 600x600px, this will subsequently be updated\n",
       "    // upon first draw.\n",
       "    this._resize_canvas(600, 600);\n",
       "\n",
       "    // Disable right mouse context menu.\n",
       "    $(this.rubberband_canvas).bind(\"contextmenu\",function(e){\n",
       "        return false;\n",
       "    });\n",
       "\n",
       "    function set_focus () {\n",
       "        canvas.focus();\n",
       "        canvas_div.focus();\n",
       "    }\n",
       "\n",
       "    window.setTimeout(set_focus, 100);\n",
       "}\n",
       "\n",
       "mpl.figure.prototype._init_toolbar = function() {\n",
       "    var fig = this;\n",
       "\n",
       "    var nav_element = $('<div/>')\n",
       "    nav_element.attr('style', 'width: 100%');\n",
       "    this.root.append(nav_element);\n",
       "\n",
       "    // Define a callback function for later on.\n",
       "    function toolbar_event(event) {\n",
       "        return fig.toolbar_button_onclick(event['data']);\n",
       "    }\n",
       "    function toolbar_mouse_event(event) {\n",
       "        return fig.toolbar_button_onmouseover(event['data']);\n",
       "    }\n",
       "\n",
       "    for(var toolbar_ind in mpl.toolbar_items) {\n",
       "        var name = mpl.toolbar_items[toolbar_ind][0];\n",
       "        var tooltip = mpl.toolbar_items[toolbar_ind][1];\n",
       "        var image = mpl.toolbar_items[toolbar_ind][2];\n",
       "        var method_name = mpl.toolbar_items[toolbar_ind][3];\n",
       "\n",
       "        if (!name) {\n",
       "            // put a spacer in here.\n",
       "            continue;\n",
       "        }\n",
       "        var button = $('<button/>');\n",
       "        button.addClass('ui-button ui-widget ui-state-default ui-corner-all ' +\n",
       "                        'ui-button-icon-only');\n",
       "        button.attr('role', 'button');\n",
       "        button.attr('aria-disabled', 'false');\n",
       "        button.click(method_name, toolbar_event);\n",
       "        button.mouseover(tooltip, toolbar_mouse_event);\n",
       "\n",
       "        var icon_img = $('<span/>');\n",
       "        icon_img.addClass('ui-button-icon-primary ui-icon');\n",
       "        icon_img.addClass(image);\n",
       "        icon_img.addClass('ui-corner-all');\n",
       "\n",
       "        var tooltip_span = $('<span/>');\n",
       "        tooltip_span.addClass('ui-button-text');\n",
       "        tooltip_span.html(tooltip);\n",
       "\n",
       "        button.append(icon_img);\n",
       "        button.append(tooltip_span);\n",
       "\n",
       "        nav_element.append(button);\n",
       "    }\n",
       "\n",
       "    var fmt_picker_span = $('<span/>');\n",
       "\n",
       "    var fmt_picker = $('<select/>');\n",
       "    fmt_picker.addClass('mpl-toolbar-option ui-widget ui-widget-content');\n",
       "    fmt_picker_span.append(fmt_picker);\n",
       "    nav_element.append(fmt_picker_span);\n",
       "    this.format_dropdown = fmt_picker[0];\n",
       "\n",
       "    for (var ind in mpl.extensions) {\n",
       "        var fmt = mpl.extensions[ind];\n",
       "        var option = $(\n",
       "            '<option/>', {selected: fmt === mpl.default_extension}).html(fmt);\n",
       "        fmt_picker.append(option)\n",
       "    }\n",
       "\n",
       "    // Add hover states to the ui-buttons\n",
       "    $( \".ui-button\" ).hover(\n",
       "        function() { $(this).addClass(\"ui-state-hover\");},\n",
       "        function() { $(this).removeClass(\"ui-state-hover\");}\n",
       "    );\n",
       "\n",
       "    var status_bar = $('<span class=\"mpl-message\"/>');\n",
       "    nav_element.append(status_bar);\n",
       "    this.message = status_bar[0];\n",
       "}\n",
       "\n",
       "mpl.figure.prototype.request_resize = function(x_pixels, y_pixels) {\n",
       "    // Request matplotlib to resize the figure. Matplotlib will then trigger a resize in the client,\n",
       "    // which will in turn request a refresh of the image.\n",
       "    this.send_message('resize', {'width': x_pixels, 'height': y_pixels});\n",
       "}\n",
       "\n",
       "mpl.figure.prototype.send_message = function(type, properties) {\n",
       "    properties['type'] = type;\n",
       "    properties['figure_id'] = this.id;\n",
       "    this.ws.send(JSON.stringify(properties));\n",
       "}\n",
       "\n",
       "mpl.figure.prototype.send_draw_message = function() {\n",
       "    if (!this.waiting) {\n",
       "        this.waiting = true;\n",
       "        this.ws.send(JSON.stringify({type: \"draw\", figure_id: this.id}));\n",
       "    }\n",
       "}\n",
       "\n",
       "\n",
       "mpl.figure.prototype.handle_save = function(fig, msg) {\n",
       "    var format_dropdown = fig.format_dropdown;\n",
       "    var format = format_dropdown.options[format_dropdown.selectedIndex].value;\n",
       "    fig.ondownload(fig, format);\n",
       "}\n",
       "\n",
       "\n",
       "mpl.figure.prototype.handle_resize = function(fig, msg) {\n",
       "    var size = msg['size'];\n",
       "    if (size[0] != fig.canvas.width || size[1] != fig.canvas.height) {\n",
       "        fig._resize_canvas(size[0], size[1]);\n",
       "        fig.send_message(\"refresh\", {});\n",
       "    };\n",
       "}\n",
       "\n",
       "mpl.figure.prototype.handle_rubberband = function(fig, msg) {\n",
       "    var x0 = msg['x0'] / mpl.ratio;\n",
       "    var y0 = (fig.canvas.height - msg['y0']) / mpl.ratio;\n",
       "    var x1 = msg['x1'] / mpl.ratio;\n",
       "    var y1 = (fig.canvas.height - msg['y1']) / mpl.ratio;\n",
       "    x0 = Math.floor(x0) + 0.5;\n",
       "    y0 = Math.floor(y0) + 0.5;\n",
       "    x1 = Math.floor(x1) + 0.5;\n",
       "    y1 = Math.floor(y1) + 0.5;\n",
       "    var min_x = Math.min(x0, x1);\n",
       "    var min_y = Math.min(y0, y1);\n",
       "    var width = Math.abs(x1 - x0);\n",
       "    var height = Math.abs(y1 - y0);\n",
       "\n",
       "    fig.rubberband_context.clearRect(\n",
       "        0, 0, fig.canvas.width, fig.canvas.height);\n",
       "\n",
       "    fig.rubberband_context.strokeRect(min_x, min_y, width, height);\n",
       "}\n",
       "\n",
       "mpl.figure.prototype.handle_figure_label = function(fig, msg) {\n",
       "    // Updates the figure title.\n",
       "    fig.header.textContent = msg['label'];\n",
       "}\n",
       "\n",
       "mpl.figure.prototype.handle_cursor = function(fig, msg) {\n",
       "    var cursor = msg['cursor'];\n",
       "    switch(cursor)\n",
       "    {\n",
       "    case 0:\n",
       "        cursor = 'pointer';\n",
       "        break;\n",
       "    case 1:\n",
       "        cursor = 'default';\n",
       "        break;\n",
       "    case 2:\n",
       "        cursor = 'crosshair';\n",
       "        break;\n",
       "    case 3:\n",
       "        cursor = 'move';\n",
       "        break;\n",
       "    }\n",
       "    fig.rubberband_canvas.style.cursor = cursor;\n",
       "}\n",
       "\n",
       "mpl.figure.prototype.handle_message = function(fig, msg) {\n",
       "    fig.message.textContent = msg['message'];\n",
       "}\n",
       "\n",
       "mpl.figure.prototype.handle_draw = function(fig, msg) {\n",
       "    // Request the server to send over a new figure.\n",
       "    fig.send_draw_message();\n",
       "}\n",
       "\n",
       "mpl.figure.prototype.handle_image_mode = function(fig, msg) {\n",
       "    fig.image_mode = msg['mode'];\n",
       "}\n",
       "\n",
       "mpl.figure.prototype.updated_canvas_event = function() {\n",
       "    // Called whenever the canvas gets updated.\n",
       "    this.send_message(\"ack\", {});\n",
       "}\n",
       "\n",
       "// A function to construct a web socket function for onmessage handling.\n",
       "// Called in the figure constructor.\n",
       "mpl.figure.prototype._make_on_message_function = function(fig) {\n",
       "    return function socket_on_message(evt) {\n",
       "        if (evt.data instanceof Blob) {\n",
       "            /* FIXME: We get \"Resource interpreted as Image but\n",
       "             * transferred with MIME type text/plain:\" errors on\n",
       "             * Chrome.  But how to set the MIME type?  It doesn't seem\n",
       "             * to be part of the websocket stream */\n",
       "            evt.data.type = \"image/png\";\n",
       "\n",
       "            /* Free the memory for the previous frames */\n",
       "            if (fig.imageObj.src) {\n",
       "                (window.URL || window.webkitURL).revokeObjectURL(\n",
       "                    fig.imageObj.src);\n",
       "            }\n",
       "\n",
       "            fig.imageObj.src = (window.URL || window.webkitURL).createObjectURL(\n",
       "                evt.data);\n",
       "            fig.updated_canvas_event();\n",
       "            fig.waiting = false;\n",
       "            return;\n",
       "        }\n",
       "        else if (typeof evt.data === 'string' && evt.data.slice(0, 21) == \"data:image/png;base64\") {\n",
       "            fig.imageObj.src = evt.data;\n",
       "            fig.updated_canvas_event();\n",
       "            fig.waiting = false;\n",
       "            return;\n",
       "        }\n",
       "\n",
       "        var msg = JSON.parse(evt.data);\n",
       "        var msg_type = msg['type'];\n",
       "\n",
       "        // Call the  \"handle_{type}\" callback, which takes\n",
       "        // the figure and JSON message as its only arguments.\n",
       "        try {\n",
       "            var callback = fig[\"handle_\" + msg_type];\n",
       "        } catch (e) {\n",
       "            console.log(\"No handler for the '\" + msg_type + \"' message type: \", msg);\n",
       "            return;\n",
       "        }\n",
       "\n",
       "        if (callback) {\n",
       "            try {\n",
       "                // console.log(\"Handling '\" + msg_type + \"' message: \", msg);\n",
       "                callback(fig, msg);\n",
       "            } catch (e) {\n",
       "                console.log(\"Exception inside the 'handler_\" + msg_type + \"' callback:\", e, e.stack, msg);\n",
       "            }\n",
       "        }\n",
       "    };\n",
       "}\n",
       "\n",
       "// from http://stackoverflow.com/questions/1114465/getting-mouse-location-in-canvas\n",
       "mpl.findpos = function(e) {\n",
       "    //this section is from http://www.quirksmode.org/js/events_properties.html\n",
       "    var targ;\n",
       "    if (!e)\n",
       "        e = window.event;\n",
       "    if (e.target)\n",
       "        targ = e.target;\n",
       "    else if (e.srcElement)\n",
       "        targ = e.srcElement;\n",
       "    if (targ.nodeType == 3) // defeat Safari bug\n",
       "        targ = targ.parentNode;\n",
       "\n",
       "    // jQuery normalizes the pageX and pageY\n",
       "    // pageX,Y are the mouse positions relative to the document\n",
       "    // offset() returns the position of the element relative to the document\n",
       "    var x = e.pageX - $(targ).offset().left;\n",
       "    var y = e.pageY - $(targ).offset().top;\n",
       "\n",
       "    return {\"x\": x, \"y\": y};\n",
       "};\n",
       "\n",
       "/*\n",
       " * return a copy of an object with only non-object keys\n",
       " * we need this to avoid circular references\n",
       " * http://stackoverflow.com/a/24161582/3208463\n",
       " */\n",
       "function simpleKeys (original) {\n",
       "  return Object.keys(original).reduce(function (obj, key) {\n",
       "    if (typeof original[key] !== 'object')\n",
       "        obj[key] = original[key]\n",
       "    return obj;\n",
       "  }, {});\n",
       "}\n",
       "\n",
       "mpl.figure.prototype.mouse_event = function(event, name) {\n",
       "    var canvas_pos = mpl.findpos(event)\n",
       "\n",
       "    if (name === 'button_press')\n",
       "    {\n",
       "        this.canvas.focus();\n",
       "        this.canvas_div.focus();\n",
       "    }\n",
       "\n",
       "    var x = canvas_pos.x * mpl.ratio;\n",
       "    var y = canvas_pos.y * mpl.ratio;\n",
       "\n",
       "    this.send_message(name, {x: x, y: y, button: event.button,\n",
       "                             step: event.step,\n",
       "                             guiEvent: simpleKeys(event)});\n",
       "\n",
       "    /* This prevents the web browser from automatically changing to\n",
       "     * the text insertion cursor when the button is pressed.  We want\n",
       "     * to control all of the cursor setting manually through the\n",
       "     * 'cursor' event from matplotlib */\n",
       "    event.preventDefault();\n",
       "    return false;\n",
       "}\n",
       "\n",
       "mpl.figure.prototype._key_event_extra = function(event, name) {\n",
       "    // Handle any extra behaviour associated with a key event\n",
       "}\n",
       "\n",
       "mpl.figure.prototype.key_event = function(event, name) {\n",
       "\n",
       "    // Prevent repeat events\n",
       "    if (name == 'key_press')\n",
       "    {\n",
       "        if (event.which === this._key)\n",
       "            return;\n",
       "        else\n",
       "            this._key = event.which;\n",
       "    }\n",
       "    if (name == 'key_release')\n",
       "        this._key = null;\n",
       "\n",
       "    var value = '';\n",
       "    if (event.ctrlKey && event.which != 17)\n",
       "        value += \"ctrl+\";\n",
       "    if (event.altKey && event.which != 18)\n",
       "        value += \"alt+\";\n",
       "    if (event.shiftKey && event.which != 16)\n",
       "        value += \"shift+\";\n",
       "\n",
       "    value += 'k';\n",
       "    value += event.which.toString();\n",
       "\n",
       "    this._key_event_extra(event, name);\n",
       "\n",
       "    this.send_message(name, {key: value,\n",
       "                             guiEvent: simpleKeys(event)});\n",
       "    return false;\n",
       "}\n",
       "\n",
       "mpl.figure.prototype.toolbar_button_onclick = function(name) {\n",
       "    if (name == 'download') {\n",
       "        this.handle_save(this, null);\n",
       "    } else {\n",
       "        this.send_message(\"toolbar_button\", {name: name});\n",
       "    }\n",
       "};\n",
       "\n",
       "mpl.figure.prototype.toolbar_button_onmouseover = function(tooltip) {\n",
       "    this.message.textContent = tooltip;\n",
       "};\n",
       "mpl.toolbar_items = [[\"Home\", \"Reset original view\", \"fa fa-home icon-home\", \"home\"], [\"Back\", \"Back to  previous view\", \"fa fa-arrow-left icon-arrow-left\", \"back\"], [\"Forward\", \"Forward to next view\", \"fa fa-arrow-right icon-arrow-right\", \"forward\"], [\"\", \"\", \"\", \"\"], [\"Pan\", \"Pan axes with left mouse, zoom with right\", \"fa fa-arrows icon-move\", \"pan\"], [\"Zoom\", \"Zoom to rectangle\", \"fa fa-square-o icon-check-empty\", \"zoom\"], [\"\", \"\", \"\", \"\"], [\"Download\", \"Download plot\", \"fa fa-floppy-o icon-save\", \"download\"]];\n",
       "\n",
       "mpl.extensions = [\"eps\", \"pdf\", \"png\", \"ps\", \"raw\", \"svg\"];\n",
       "\n",
       "mpl.default_extension = \"png\";var comm_websocket_adapter = function(comm) {\n",
       "    // Create a \"websocket\"-like object which calls the given IPython comm\n",
       "    // object with the appropriate methods. Currently this is a non binary\n",
       "    // socket, so there is still some room for performance tuning.\n",
       "    var ws = {};\n",
       "\n",
       "    ws.close = function() {\n",
       "        comm.close()\n",
       "    };\n",
       "    ws.send = function(m) {\n",
       "        //console.log('sending', m);\n",
       "        comm.send(m);\n",
       "    };\n",
       "    // Register the callback with on_msg.\n",
       "    comm.on_msg(function(msg) {\n",
       "        //console.log('receiving', msg['content']['data'], msg);\n",
       "        // Pass the mpl event to the overriden (by mpl) onmessage function.\n",
       "        ws.onmessage(msg['content']['data'])\n",
       "    });\n",
       "    return ws;\n",
       "}\n",
       "\n",
       "mpl.mpl_figure_comm = function(comm, msg) {\n",
       "    // This is the function which gets called when the mpl process\n",
       "    // starts-up an IPython Comm through the \"matplotlib\" channel.\n",
       "\n",
       "    var id = msg.content.data.id;\n",
       "    // Get hold of the div created by the display call when the Comm\n",
       "    // socket was opened in Python.\n",
       "    var element = $(\"#\" + id);\n",
       "    var ws_proxy = comm_websocket_adapter(comm)\n",
       "\n",
       "    function ondownload(figure, format) {\n",
       "        window.open(figure.imageObj.src);\n",
       "    }\n",
       "\n",
       "    var fig = new mpl.figure(id, ws_proxy,\n",
       "                           ondownload,\n",
       "                           element.get(0));\n",
       "\n",
       "    // Call onopen now - mpl needs it, as it is assuming we've passed it a real\n",
       "    // web socket which is closed, not our websocket->open comm proxy.\n",
       "    ws_proxy.onopen();\n",
       "\n",
       "    fig.parent_element = element.get(0);\n",
       "    fig.cell_info = mpl.find_output_cell(\"<div id='\" + id + \"'></div>\");\n",
       "    if (!fig.cell_info) {\n",
       "        console.error(\"Failed to find cell for figure\", id, fig);\n",
       "        return;\n",
       "    }\n",
       "\n",
       "    var output_index = fig.cell_info[2]\n",
       "    var cell = fig.cell_info[0];\n",
       "\n",
       "};\n",
       "\n",
       "mpl.figure.prototype.handle_close = function(fig, msg) {\n",
       "    var width = fig.canvas.width/mpl.ratio\n",
       "    fig.root.unbind('remove')\n",
       "\n",
       "    // Update the output cell to use the data from the current canvas.\n",
       "    fig.push_to_output();\n",
       "    var dataURL = fig.canvas.toDataURL();\n",
       "    // Re-enable the keyboard manager in IPython - without this line, in FF,\n",
       "    // the notebook keyboard shortcuts fail.\n",
       "    IPython.keyboard_manager.enable()\n",
       "    $(fig.parent_element).html('<img src=\"' + dataURL + '\" width=\"' + width + '\">');\n",
       "    fig.close_ws(fig, msg);\n",
       "}\n",
       "\n",
       "mpl.figure.prototype.close_ws = function(fig, msg){\n",
       "    fig.send_message('closing', msg);\n",
       "    // fig.ws.close()\n",
       "}\n",
       "\n",
       "mpl.figure.prototype.push_to_output = function(remove_interactive) {\n",
       "    // Turn the data on the canvas into data in the output cell.\n",
       "    var width = this.canvas.width/mpl.ratio\n",
       "    var dataURL = this.canvas.toDataURL();\n",
       "    this.cell_info[1]['text/html'] = '<img src=\"' + dataURL + '\" width=\"' + width + '\">';\n",
       "}\n",
       "\n",
       "mpl.figure.prototype.updated_canvas_event = function() {\n",
       "    // Tell IPython that the notebook contents must change.\n",
       "    IPython.notebook.set_dirty(true);\n",
       "    this.send_message(\"ack\", {});\n",
       "    var fig = this;\n",
       "    // Wait a second, then push the new image to the DOM so\n",
       "    // that it is saved nicely (might be nice to debounce this).\n",
       "    setTimeout(function () { fig.push_to_output() }, 1000);\n",
       "}\n",
       "\n",
       "mpl.figure.prototype._init_toolbar = function() {\n",
       "    var fig = this;\n",
       "\n",
       "    var nav_element = $('<div/>')\n",
       "    nav_element.attr('style', 'width: 100%');\n",
       "    this.root.append(nav_element);\n",
       "\n",
       "    // Define a callback function for later on.\n",
       "    function toolbar_event(event) {\n",
       "        return fig.toolbar_button_onclick(event['data']);\n",
       "    }\n",
       "    function toolbar_mouse_event(event) {\n",
       "        return fig.toolbar_button_onmouseover(event['data']);\n",
       "    }\n",
       "\n",
       "    for(var toolbar_ind in mpl.toolbar_items){\n",
       "        var name = mpl.toolbar_items[toolbar_ind][0];\n",
       "        var tooltip = mpl.toolbar_items[toolbar_ind][1];\n",
       "        var image = mpl.toolbar_items[toolbar_ind][2];\n",
       "        var method_name = mpl.toolbar_items[toolbar_ind][3];\n",
       "\n",
       "        if (!name) { continue; };\n",
       "\n",
       "        var button = $('<button class=\"btn btn-default\" href=\"#\" title=\"' + name + '\"><i class=\"fa ' + image + ' fa-lg\"></i></button>');\n",
       "        button.click(method_name, toolbar_event);\n",
       "        button.mouseover(tooltip, toolbar_mouse_event);\n",
       "        nav_element.append(button);\n",
       "    }\n",
       "\n",
       "    // Add the status bar.\n",
       "    var status_bar = $('<span class=\"mpl-message\" style=\"text-align:right; float: right;\"/>');\n",
       "    nav_element.append(status_bar);\n",
       "    this.message = status_bar[0];\n",
       "\n",
       "    // Add the close button to the window.\n",
       "    var buttongrp = $('<div class=\"btn-group inline pull-right\"></div>');\n",
       "    var button = $('<button class=\"btn btn-mini btn-primary\" href=\"#\" title=\"Stop Interaction\"><i class=\"fa fa-power-off icon-remove icon-large\"></i></button>');\n",
       "    button.click(function (evt) { fig.handle_close(fig, {}); } );\n",
       "    button.mouseover('Stop Interaction', toolbar_mouse_event);\n",
       "    buttongrp.append(button);\n",
       "    var titlebar = this.root.find($('.ui-dialog-titlebar'));\n",
       "    titlebar.prepend(buttongrp);\n",
       "}\n",
       "\n",
       "mpl.figure.prototype._root_extra_style = function(el){\n",
       "    var fig = this\n",
       "    el.on(\"remove\", function(){\n",
       "\tfig.close_ws(fig, {});\n",
       "    });\n",
       "}\n",
       "\n",
       "mpl.figure.prototype._canvas_extra_style = function(el){\n",
       "    // this is important to make the div 'focusable\n",
       "    el.attr('tabindex', 0)\n",
       "    // reach out to IPython and tell the keyboard manager to turn it's self\n",
       "    // off when our div gets focus\n",
       "\n",
       "    // location in version 3\n",
       "    if (IPython.notebook.keyboard_manager) {\n",
       "        IPython.notebook.keyboard_manager.register_events(el);\n",
       "    }\n",
       "    else {\n",
       "        // location in version 2\n",
       "        IPython.keyboard_manager.register_events(el);\n",
       "    }\n",
       "\n",
       "}\n",
       "\n",
       "mpl.figure.prototype._key_event_extra = function(event, name) {\n",
       "    var manager = IPython.notebook.keyboard_manager;\n",
       "    if (!manager)\n",
       "        manager = IPython.keyboard_manager;\n",
       "\n",
       "    // Check for shift+enter\n",
       "    if (event.shiftKey && event.which == 13) {\n",
       "        this.canvas_div.blur();\n",
       "        // select the cell after this one\n",
       "        var index = IPython.notebook.find_cell_index(this.cell_info[0]);\n",
       "        IPython.notebook.select(index + 1);\n",
       "    }\n",
       "}\n",
       "\n",
       "mpl.figure.prototype.handle_save = function(fig, msg) {\n",
       "    fig.ondownload(fig, null);\n",
       "}\n",
       "\n",
       "\n",
       "mpl.find_output_cell = function(html_output) {\n",
       "    // Return the cell and output element which can be found *uniquely* in the notebook.\n",
       "    // Note - this is a bit hacky, but it is done because the \"notebook_saving.Notebook\"\n",
       "    // IPython event is triggered only after the cells have been serialised, which for\n",
       "    // our purposes (turning an active figure into a static one), is too late.\n",
       "    var cells = IPython.notebook.get_cells();\n",
       "    var ncells = cells.length;\n",
       "    for (var i=0; i<ncells; i++) {\n",
       "        var cell = cells[i];\n",
       "        if (cell.cell_type === 'code'){\n",
       "            for (var j=0; j<cell.output_area.outputs.length; j++) {\n",
       "                var data = cell.output_area.outputs[j];\n",
       "                if (data.data) {\n",
       "                    // IPython >= 3 moved mimebundle to data attribute of output\n",
       "                    data = data.data;\n",
       "                }\n",
       "                if (data['text/html'] == html_output) {\n",
       "                    return [cell, data, j];\n",
       "                }\n",
       "            }\n",
       "        }\n",
       "    }\n",
       "}\n",
       "\n",
       "// Register the function which deals with the matplotlib target/channel.\n",
       "// The kernel may be null if the page has been refreshed.\n",
       "if (IPython.notebook.kernel != null) {\n",
       "    IPython.notebook.kernel.comm_manager.register_target('matplotlib', mpl.mpl_figure_comm);\n",
       "}\n"
      ],
      "text/plain": [
       "<IPython.core.display.Javascript object>"
      ]
     },
     "metadata": {},
     "output_type": "display_data"
    },
    {
     "data": {
      "text/html": [
       "<img src=\"data:image/png;base64,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\" width=\"639.999990463257\">"
      ],
      "text/plain": [
       "<IPython.core.display.HTML object>"
      ]
     },
     "metadata": {},
     "output_type": "display_data"
    },
    {
     "data": {
      "application/vnd.jupyter.widget-view+json": {
       "model_id": "7eed5d220339416ea27de805f42ae809",
       "version_major": 2,
       "version_minor": 0
      },
      "text/plain": [
       "A Jupyter Widget"
      ]
     },
     "metadata": {},
     "output_type": "display_data"
    },
    {
     "data": {
      "application/vnd.jupyter.widget-view+json": {
       "model_id": "c4940c875a5049c4a5eb0884b22a8868",
       "version_major": 2,
       "version_minor": 0
      },
      "text/plain": [
       "A Jupyter Widget"
      ]
     },
     "metadata": {},
     "output_type": "display_data"
    },
    {
     "data": {
      "application/vnd.jupyter.widget-view+json": {
       "model_id": "454821f0b3294dd9bbb3cd43e3b26cb5",
       "version_major": 2,
       "version_minor": 0
      },
      "text/plain": [
       "A Jupyter Widget"
      ]
     },
     "metadata": {},
     "output_type": "display_data"
    },
    {
     "data": {
      "application/vnd.jupyter.widget-view+json": {
       "model_id": "c6fcdf264d8b4168a248eafaa03bd265",
       "version_major": 2,
       "version_minor": 0
      },
      "text/plain": [
       "A Jupyter Widget"
      ]
     },
     "metadata": {},
     "output_type": "display_data"
    },
    {
     "data": {
      "application/vnd.jupyter.widget-view+json": {
       "model_id": "37a4cf572b4e49d0888995c5d5a6e143",
       "version_major": 2,
       "version_minor": 0
      },
      "text/plain": [
       "A Jupyter Widget"
      ]
     },
     "metadata": {},
     "output_type": "display_data"
    },
    {
     "data": {
      "application/vnd.jupyter.widget-view+json": {
       "model_id": "62df01ce5758479d8c8732b670c980a7",
       "version_major": 2,
       "version_minor": 0
      },
      "text/plain": [
       "A Jupyter Widget"
      ]
     },
     "metadata": {},
     "output_type": "display_data"
    }
   ],
   "source": [
    "f=ttt.sort_samples('BODY_PRODUCT').plot(gui='jupyter',barx_fields=['HOST_SUBJECT_ID','COMMON_SAMPLE_SITE'], clim=[0,1000])"
   ]
  },
  {
   "cell_type": "markdown",
   "metadata": {},
   "source": [
    "This is the same plot but focused on a specific region that is interesting:"
   ]
  },
  {
   "cell_type": "code",
   "execution_count": 23,
   "metadata": {},
   "outputs": [
    {
     "data": {
      "application/javascript": [
       "/* Put everything inside the global mpl namespace */\n",
       "window.mpl = {};\n",
       "\n",
       "\n",
       "mpl.get_websocket_type = function() {\n",
       "    if (typeof(WebSocket) !== 'undefined') {\n",
       "        return WebSocket;\n",
       "    } else if (typeof(MozWebSocket) !== 'undefined') {\n",
       "        return MozWebSocket;\n",
       "    } else {\n",
       "        alert('Your browser does not have WebSocket support.' +\n",
       "              'Please try Chrome, Safari or Firefox ≥ 6. ' +\n",
       "              'Firefox 4 and 5 are also supported but you ' +\n",
       "              'have to enable WebSockets in about:config.');\n",
       "    };\n",
       "}\n",
       "\n",
       "mpl.figure = function(figure_id, websocket, ondownload, parent_element) {\n",
       "    this.id = figure_id;\n",
       "\n",
       "    this.ws = websocket;\n",
       "\n",
       "    this.supports_binary = (this.ws.binaryType != undefined);\n",
       "\n",
       "    if (!this.supports_binary) {\n",
       "        var warnings = document.getElementById(\"mpl-warnings\");\n",
       "        if (warnings) {\n",
       "            warnings.style.display = 'block';\n",
       "            warnings.textContent = (\n",
       "                \"This browser does not support binary websocket messages. \" +\n",
       "                    \"Performance may be slow.\");\n",
       "        }\n",
       "    }\n",
       "\n",
       "    this.imageObj = new Image();\n",
       "\n",
       "    this.context = undefined;\n",
       "    this.message = undefined;\n",
       "    this.canvas = undefined;\n",
       "    this.rubberband_canvas = undefined;\n",
       "    this.rubberband_context = undefined;\n",
       "    this.format_dropdown = undefined;\n",
       "\n",
       "    this.image_mode = 'full';\n",
       "\n",
       "    this.root = $('<div/>');\n",
       "    this._root_extra_style(this.root)\n",
       "    this.root.attr('style', 'display: inline-block');\n",
       "\n",
       "    $(parent_element).append(this.root);\n",
       "\n",
       "    this._init_header(this);\n",
       "    this._init_canvas(this);\n",
       "    this._init_toolbar(this);\n",
       "\n",
       "    var fig = this;\n",
       "\n",
       "    this.waiting = false;\n",
       "\n",
       "    this.ws.onopen =  function () {\n",
       "            fig.send_message(\"supports_binary\", {value: fig.supports_binary});\n",
       "            fig.send_message(\"send_image_mode\", {});\n",
       "            if (mpl.ratio != 1) {\n",
       "                fig.send_message(\"set_dpi_ratio\", {'dpi_ratio': mpl.ratio});\n",
       "            }\n",
       "            fig.send_message(\"refresh\", {});\n",
       "        }\n",
       "\n",
       "    this.imageObj.onload = function() {\n",
       "            if (fig.image_mode == 'full') {\n",
       "                // Full images could contain transparency (where diff images\n",
       "                // almost always do), so we need to clear the canvas so that\n",
       "                // there is no ghosting.\n",
       "                fig.context.clearRect(0, 0, fig.canvas.width, fig.canvas.height);\n",
       "            }\n",
       "            fig.context.drawImage(fig.imageObj, 0, 0);\n",
       "        };\n",
       "\n",
       "    this.imageObj.onunload = function() {\n",
       "        this.ws.close();\n",
       "    }\n",
       "\n",
       "    this.ws.onmessage = this._make_on_message_function(this);\n",
       "\n",
       "    this.ondownload = ondownload;\n",
       "}\n",
       "\n",
       "mpl.figure.prototype._init_header = function() {\n",
       "    var titlebar = $(\n",
       "        '<div class=\"ui-dialog-titlebar ui-widget-header ui-corner-all ' +\n",
       "        'ui-helper-clearfix\"/>');\n",
       "    var titletext = $(\n",
       "        '<div class=\"ui-dialog-title\" style=\"width: 100%; ' +\n",
       "        'text-align: center; padding: 3px;\"/>');\n",
       "    titlebar.append(titletext)\n",
       "    this.root.append(titlebar);\n",
       "    this.header = titletext[0];\n",
       "}\n",
       "\n",
       "\n",
       "\n",
       "mpl.figure.prototype._canvas_extra_style = function(canvas_div) {\n",
       "\n",
       "}\n",
       "\n",
       "\n",
       "mpl.figure.prototype._root_extra_style = function(canvas_div) {\n",
       "\n",
       "}\n",
       "\n",
       "mpl.figure.prototype._init_canvas = function() {\n",
       "    var fig = this;\n",
       "\n",
       "    var canvas_div = $('<div/>');\n",
       "\n",
       "    canvas_div.attr('style', 'position: relative; clear: both; outline: 0');\n",
       "\n",
       "    function canvas_keyboard_event(event) {\n",
       "        return fig.key_event(event, event['data']);\n",
       "    }\n",
       "\n",
       "    canvas_div.keydown('key_press', canvas_keyboard_event);\n",
       "    canvas_div.keyup('key_release', canvas_keyboard_event);\n",
       "    this.canvas_div = canvas_div\n",
       "    this._canvas_extra_style(canvas_div)\n",
       "    this.root.append(canvas_div);\n",
       "\n",
       "    var canvas = $('<canvas/>');\n",
       "    canvas.addClass('mpl-canvas');\n",
       "    canvas.attr('style', \"left: 0; top: 0; z-index: 0; outline: 0\")\n",
       "\n",
       "    this.canvas = canvas[0];\n",
       "    this.context = canvas[0].getContext(\"2d\");\n",
       "\n",
       "    var backingStore = this.context.backingStorePixelRatio ||\n",
       "\tthis.context.webkitBackingStorePixelRatio ||\n",
       "\tthis.context.mozBackingStorePixelRatio ||\n",
       "\tthis.context.msBackingStorePixelRatio ||\n",
       "\tthis.context.oBackingStorePixelRatio ||\n",
       "\tthis.context.backingStorePixelRatio || 1;\n",
       "\n",
       "    mpl.ratio = (window.devicePixelRatio || 1) / backingStore;\n",
       "\n",
       "    var rubberband = $('<canvas/>');\n",
       "    rubberband.attr('style', \"position: absolute; left: 0; top: 0; z-index: 1;\")\n",
       "\n",
       "    var pass_mouse_events = true;\n",
       "\n",
       "    canvas_div.resizable({\n",
       "        start: function(event, ui) {\n",
       "            pass_mouse_events = false;\n",
       "        },\n",
       "        resize: function(event, ui) {\n",
       "            fig.request_resize(ui.size.width, ui.size.height);\n",
       "        },\n",
       "        stop: function(event, ui) {\n",
       "            pass_mouse_events = true;\n",
       "            fig.request_resize(ui.size.width, ui.size.height);\n",
       "        },\n",
       "    });\n",
       "\n",
       "    function mouse_event_fn(event) {\n",
       "        if (pass_mouse_events)\n",
       "            return fig.mouse_event(event, event['data']);\n",
       "    }\n",
       "\n",
       "    rubberband.mousedown('button_press', mouse_event_fn);\n",
       "    rubberband.mouseup('button_release', mouse_event_fn);\n",
       "    // Throttle sequential mouse events to 1 every 20ms.\n",
       "    rubberband.mousemove('motion_notify', mouse_event_fn);\n",
       "\n",
       "    rubberband.mouseenter('figure_enter', mouse_event_fn);\n",
       "    rubberband.mouseleave('figure_leave', mouse_event_fn);\n",
       "\n",
       "    canvas_div.on(\"wheel\", function (event) {\n",
       "        event = event.originalEvent;\n",
       "        event['data'] = 'scroll'\n",
       "        if (event.deltaY < 0) {\n",
       "            event.step = 1;\n",
       "        } else {\n",
       "            event.step = -1;\n",
       "        }\n",
       "        mouse_event_fn(event);\n",
       "    });\n",
       "\n",
       "    canvas_div.append(canvas);\n",
       "    canvas_div.append(rubberband);\n",
       "\n",
       "    this.rubberband = rubberband;\n",
       "    this.rubberband_canvas = rubberband[0];\n",
       "    this.rubberband_context = rubberband[0].getContext(\"2d\");\n",
       "    this.rubberband_context.strokeStyle = \"#000000\";\n",
       "\n",
       "    this._resize_canvas = function(width, height) {\n",
       "        // Keep the size of the canvas, canvas container, and rubber band\n",
       "        // canvas in synch.\n",
       "        canvas_div.css('width', width)\n",
       "        canvas_div.css('height', height)\n",
       "\n",
       "        canvas.attr('width', width * mpl.ratio);\n",
       "        canvas.attr('height', height * mpl.ratio);\n",
       "        canvas.attr('style', 'width: ' + width + 'px; height: ' + height + 'px;');\n",
       "\n",
       "        rubberband.attr('width', width);\n",
       "        rubberband.attr('height', height);\n",
       "    }\n",
       "\n",
       "    // Set the figure to an initial 600x600px, this will subsequently be updated\n",
       "    // upon first draw.\n",
       "    this._resize_canvas(600, 600);\n",
       "\n",
       "    // Disable right mouse context menu.\n",
       "    $(this.rubberband_canvas).bind(\"contextmenu\",function(e){\n",
       "        return false;\n",
       "    });\n",
       "\n",
       "    function set_focus () {\n",
       "        canvas.focus();\n",
       "        canvas_div.focus();\n",
       "    }\n",
       "\n",
       "    window.setTimeout(set_focus, 100);\n",
       "}\n",
       "\n",
       "mpl.figure.prototype._init_toolbar = function() {\n",
       "    var fig = this;\n",
       "\n",
       "    var nav_element = $('<div/>')\n",
       "    nav_element.attr('style', 'width: 100%');\n",
       "    this.root.append(nav_element);\n",
       "\n",
       "    // Define a callback function for later on.\n",
       "    function toolbar_event(event) {\n",
       "        return fig.toolbar_button_onclick(event['data']);\n",
       "    }\n",
       "    function toolbar_mouse_event(event) {\n",
       "        return fig.toolbar_button_onmouseover(event['data']);\n",
       "    }\n",
       "\n",
       "    for(var toolbar_ind in mpl.toolbar_items) {\n",
       "        var name = mpl.toolbar_items[toolbar_ind][0];\n",
       "        var tooltip = mpl.toolbar_items[toolbar_ind][1];\n",
       "        var image = mpl.toolbar_items[toolbar_ind][2];\n",
       "        var method_name = mpl.toolbar_items[toolbar_ind][3];\n",
       "\n",
       "        if (!name) {\n",
       "            // put a spacer in here.\n",
       "            continue;\n",
       "        }\n",
       "        var button = $('<button/>');\n",
       "        button.addClass('ui-button ui-widget ui-state-default ui-corner-all ' +\n",
       "                        'ui-button-icon-only');\n",
       "        button.attr('role', 'button');\n",
       "        button.attr('aria-disabled', 'false');\n",
       "        button.click(method_name, toolbar_event);\n",
       "        button.mouseover(tooltip, toolbar_mouse_event);\n",
       "\n",
       "        var icon_img = $('<span/>');\n",
       "        icon_img.addClass('ui-button-icon-primary ui-icon');\n",
       "        icon_img.addClass(image);\n",
       "        icon_img.addClass('ui-corner-all');\n",
       "\n",
       "        var tooltip_span = $('<span/>');\n",
       "        tooltip_span.addClass('ui-button-text');\n",
       "        tooltip_span.html(tooltip);\n",
       "\n",
       "        button.append(icon_img);\n",
       "        button.append(tooltip_span);\n",
       "\n",
       "        nav_element.append(button);\n",
       "    }\n",
       "\n",
       "    var fmt_picker_span = $('<span/>');\n",
       "\n",
       "    var fmt_picker = $('<select/>');\n",
       "    fmt_picker.addClass('mpl-toolbar-option ui-widget ui-widget-content');\n",
       "    fmt_picker_span.append(fmt_picker);\n",
       "    nav_element.append(fmt_picker_span);\n",
       "    this.format_dropdown = fmt_picker[0];\n",
       "\n",
       "    for (var ind in mpl.extensions) {\n",
       "        var fmt = mpl.extensions[ind];\n",
       "        var option = $(\n",
       "            '<option/>', {selected: fmt === mpl.default_extension}).html(fmt);\n",
       "        fmt_picker.append(option)\n",
       "    }\n",
       "\n",
       "    // Add hover states to the ui-buttons\n",
       "    $( \".ui-button\" ).hover(\n",
       "        function() { $(this).addClass(\"ui-state-hover\");},\n",
       "        function() { $(this).removeClass(\"ui-state-hover\");}\n",
       "    );\n",
       "\n",
       "    var status_bar = $('<span class=\"mpl-message\"/>');\n",
       "    nav_element.append(status_bar);\n",
       "    this.message = status_bar[0];\n",
       "}\n",
       "\n",
       "mpl.figure.prototype.request_resize = function(x_pixels, y_pixels) {\n",
       "    // Request matplotlib to resize the figure. Matplotlib will then trigger a resize in the client,\n",
       "    // which will in turn request a refresh of the image.\n",
       "    this.send_message('resize', {'width': x_pixels, 'height': y_pixels});\n",
       "}\n",
       "\n",
       "mpl.figure.prototype.send_message = function(type, properties) {\n",
       "    properties['type'] = type;\n",
       "    properties['figure_id'] = this.id;\n",
       "    this.ws.send(JSON.stringify(properties));\n",
       "}\n",
       "\n",
       "mpl.figure.prototype.send_draw_message = function() {\n",
       "    if (!this.waiting) {\n",
       "        this.waiting = true;\n",
       "        this.ws.send(JSON.stringify({type: \"draw\", figure_id: this.id}));\n",
       "    }\n",
       "}\n",
       "\n",
       "\n",
       "mpl.figure.prototype.handle_save = function(fig, msg) {\n",
       "    var format_dropdown = fig.format_dropdown;\n",
       "    var format = format_dropdown.options[format_dropdown.selectedIndex].value;\n",
       "    fig.ondownload(fig, format);\n",
       "}\n",
       "\n",
       "\n",
       "mpl.figure.prototype.handle_resize = function(fig, msg) {\n",
       "    var size = msg['size'];\n",
       "    if (size[0] != fig.canvas.width || size[1] != fig.canvas.height) {\n",
       "        fig._resize_canvas(size[0], size[1]);\n",
       "        fig.send_message(\"refresh\", {});\n",
       "    };\n",
       "}\n",
       "\n",
       "mpl.figure.prototype.handle_rubberband = function(fig, msg) {\n",
       "    var x0 = msg['x0'] / mpl.ratio;\n",
       "    var y0 = (fig.canvas.height - msg['y0']) / mpl.ratio;\n",
       "    var x1 = msg['x1'] / mpl.ratio;\n",
       "    var y1 = (fig.canvas.height - msg['y1']) / mpl.ratio;\n",
       "    x0 = Math.floor(x0) + 0.5;\n",
       "    y0 = Math.floor(y0) + 0.5;\n",
       "    x1 = Math.floor(x1) + 0.5;\n",
       "    y1 = Math.floor(y1) + 0.5;\n",
       "    var min_x = Math.min(x0, x1);\n",
       "    var min_y = Math.min(y0, y1);\n",
       "    var width = Math.abs(x1 - x0);\n",
       "    var height = Math.abs(y1 - y0);\n",
       "\n",
       "    fig.rubberband_context.clearRect(\n",
       "        0, 0, fig.canvas.width, fig.canvas.height);\n",
       "\n",
       "    fig.rubberband_context.strokeRect(min_x, min_y, width, height);\n",
       "}\n",
       "\n",
       "mpl.figure.prototype.handle_figure_label = function(fig, msg) {\n",
       "    // Updates the figure title.\n",
       "    fig.header.textContent = msg['label'];\n",
       "}\n",
       "\n",
       "mpl.figure.prototype.handle_cursor = function(fig, msg) {\n",
       "    var cursor = msg['cursor'];\n",
       "    switch(cursor)\n",
       "    {\n",
       "    case 0:\n",
       "        cursor = 'pointer';\n",
       "        break;\n",
       "    case 1:\n",
       "        cursor = 'default';\n",
       "        break;\n",
       "    case 2:\n",
       "        cursor = 'crosshair';\n",
       "        break;\n",
       "    case 3:\n",
       "        cursor = 'move';\n",
       "        break;\n",
       "    }\n",
       "    fig.rubberband_canvas.style.cursor = cursor;\n",
       "}\n",
       "\n",
       "mpl.figure.prototype.handle_message = function(fig, msg) {\n",
       "    fig.message.textContent = msg['message'];\n",
       "}\n",
       "\n",
       "mpl.figure.prototype.handle_draw = function(fig, msg) {\n",
       "    // Request the server to send over a new figure.\n",
       "    fig.send_draw_message();\n",
       "}\n",
       "\n",
       "mpl.figure.prototype.handle_image_mode = function(fig, msg) {\n",
       "    fig.image_mode = msg['mode'];\n",
       "}\n",
       "\n",
       "mpl.figure.prototype.updated_canvas_event = function() {\n",
       "    // Called whenever the canvas gets updated.\n",
       "    this.send_message(\"ack\", {});\n",
       "}\n",
       "\n",
       "// A function to construct a web socket function for onmessage handling.\n",
       "// Called in the figure constructor.\n",
       "mpl.figure.prototype._make_on_message_function = function(fig) {\n",
       "    return function socket_on_message(evt) {\n",
       "        if (evt.data instanceof Blob) {\n",
       "            /* FIXME: We get \"Resource interpreted as Image but\n",
       "             * transferred with MIME type text/plain:\" errors on\n",
       "             * Chrome.  But how to set the MIME type?  It doesn't seem\n",
       "             * to be part of the websocket stream */\n",
       "            evt.data.type = \"image/png\";\n",
       "\n",
       "            /* Free the memory for the previous frames */\n",
       "            if (fig.imageObj.src) {\n",
       "                (window.URL || window.webkitURL).revokeObjectURL(\n",
       "                    fig.imageObj.src);\n",
       "            }\n",
       "\n",
       "            fig.imageObj.src = (window.URL || window.webkitURL).createObjectURL(\n",
       "                evt.data);\n",
       "            fig.updated_canvas_event();\n",
       "            fig.waiting = false;\n",
       "            return;\n",
       "        }\n",
       "        else if (typeof evt.data === 'string' && evt.data.slice(0, 21) == \"data:image/png;base64\") {\n",
       "            fig.imageObj.src = evt.data;\n",
       "            fig.updated_canvas_event();\n",
       "            fig.waiting = false;\n",
       "            return;\n",
       "        }\n",
       "\n",
       "        var msg = JSON.parse(evt.data);\n",
       "        var msg_type = msg['type'];\n",
       "\n",
       "        // Call the  \"handle_{type}\" callback, which takes\n",
       "        // the figure and JSON message as its only arguments.\n",
       "        try {\n",
       "            var callback = fig[\"handle_\" + msg_type];\n",
       "        } catch (e) {\n",
       "            console.log(\"No handler for the '\" + msg_type + \"' message type: \", msg);\n",
       "            return;\n",
       "        }\n",
       "\n",
       "        if (callback) {\n",
       "            try {\n",
       "                // console.log(\"Handling '\" + msg_type + \"' message: \", msg);\n",
       "                callback(fig, msg);\n",
       "            } catch (e) {\n",
       "                console.log(\"Exception inside the 'handler_\" + msg_type + \"' callback:\", e, e.stack, msg);\n",
       "            }\n",
       "        }\n",
       "    };\n",
       "}\n",
       "\n",
       "// from http://stackoverflow.com/questions/1114465/getting-mouse-location-in-canvas\n",
       "mpl.findpos = function(e) {\n",
       "    //this section is from http://www.quirksmode.org/js/events_properties.html\n",
       "    var targ;\n",
       "    if (!e)\n",
       "        e = window.event;\n",
       "    if (e.target)\n",
       "        targ = e.target;\n",
       "    else if (e.srcElement)\n",
       "        targ = e.srcElement;\n",
       "    if (targ.nodeType == 3) // defeat Safari bug\n",
       "        targ = targ.parentNode;\n",
       "\n",
       "    // jQuery normalizes the pageX and pageY\n",
       "    // pageX,Y are the mouse positions relative to the document\n",
       "    // offset() returns the position of the element relative to the document\n",
       "    var x = e.pageX - $(targ).offset().left;\n",
       "    var y = e.pageY - $(targ).offset().top;\n",
       "\n",
       "    return {\"x\": x, \"y\": y};\n",
       "};\n",
       "\n",
       "/*\n",
       " * return a copy of an object with only non-object keys\n",
       " * we need this to avoid circular references\n",
       " * http://stackoverflow.com/a/24161582/3208463\n",
       " */\n",
       "function simpleKeys (original) {\n",
       "  return Object.keys(original).reduce(function (obj, key) {\n",
       "    if (typeof original[key] !== 'object')\n",
       "        obj[key] = original[key]\n",
       "    return obj;\n",
       "  }, {});\n",
       "}\n",
       "\n",
       "mpl.figure.prototype.mouse_event = function(event, name) {\n",
       "    var canvas_pos = mpl.findpos(event)\n",
       "\n",
       "    if (name === 'button_press')\n",
       "    {\n",
       "        this.canvas.focus();\n",
       "        this.canvas_div.focus();\n",
       "    }\n",
       "\n",
       "    var x = canvas_pos.x * mpl.ratio;\n",
       "    var y = canvas_pos.y * mpl.ratio;\n",
       "\n",
       "    this.send_message(name, {x: x, y: y, button: event.button,\n",
       "                             step: event.step,\n",
       "                             guiEvent: simpleKeys(event)});\n",
       "\n",
       "    /* This prevents the web browser from automatically changing to\n",
       "     * the text insertion cursor when the button is pressed.  We want\n",
       "     * to control all of the cursor setting manually through the\n",
       "     * 'cursor' event from matplotlib */\n",
       "    event.preventDefault();\n",
       "    return false;\n",
       "}\n",
       "\n",
       "mpl.figure.prototype._key_event_extra = function(event, name) {\n",
       "    // Handle any extra behaviour associated with a key event\n",
       "}\n",
       "\n",
       "mpl.figure.prototype.key_event = function(event, name) {\n",
       "\n",
       "    // Prevent repeat events\n",
       "    if (name == 'key_press')\n",
       "    {\n",
       "        if (event.which === this._key)\n",
       "            return;\n",
       "        else\n",
       "            this._key = event.which;\n",
       "    }\n",
       "    if (name == 'key_release')\n",
       "        this._key = null;\n",
       "\n",
       "    var value = '';\n",
       "    if (event.ctrlKey && event.which != 17)\n",
       "        value += \"ctrl+\";\n",
       "    if (event.altKey && event.which != 18)\n",
       "        value += \"alt+\";\n",
       "    if (event.shiftKey && event.which != 16)\n",
       "        value += \"shift+\";\n",
       "\n",
       "    value += 'k';\n",
       "    value += event.which.toString();\n",
       "\n",
       "    this._key_event_extra(event, name);\n",
       "\n",
       "    this.send_message(name, {key: value,\n",
       "                             guiEvent: simpleKeys(event)});\n",
       "    return false;\n",
       "}\n",
       "\n",
       "mpl.figure.prototype.toolbar_button_onclick = function(name) {\n",
       "    if (name == 'download') {\n",
       "        this.handle_save(this, null);\n",
       "    } else {\n",
       "        this.send_message(\"toolbar_button\", {name: name});\n",
       "    }\n",
       "};\n",
       "\n",
       "mpl.figure.prototype.toolbar_button_onmouseover = function(tooltip) {\n",
       "    this.message.textContent = tooltip;\n",
       "};\n",
       "mpl.toolbar_items = [[\"Home\", \"Reset original view\", \"fa fa-home icon-home\", \"home\"], [\"Back\", \"Back to  previous view\", \"fa fa-arrow-left icon-arrow-left\", \"back\"], [\"Forward\", \"Forward to next view\", \"fa fa-arrow-right icon-arrow-right\", \"forward\"], [\"\", \"\", \"\", \"\"], [\"Pan\", \"Pan axes with left mouse, zoom with right\", \"fa fa-arrows icon-move\", \"pan\"], [\"Zoom\", \"Zoom to rectangle\", \"fa fa-square-o icon-check-empty\", \"zoom\"], [\"\", \"\", \"\", \"\"], [\"Download\", \"Download plot\", \"fa fa-floppy-o icon-save\", \"download\"]];\n",
       "\n",
       "mpl.extensions = [\"eps\", \"pdf\", \"png\", \"ps\", \"raw\", \"svg\"];\n",
       "\n",
       "mpl.default_extension = \"png\";var comm_websocket_adapter = function(comm) {\n",
       "    // Create a \"websocket\"-like object which calls the given IPython comm\n",
       "    // object with the appropriate methods. Currently this is a non binary\n",
       "    // socket, so there is still some room for performance tuning.\n",
       "    var ws = {};\n",
       "\n",
       "    ws.close = function() {\n",
       "        comm.close()\n",
       "    };\n",
       "    ws.send = function(m) {\n",
       "        //console.log('sending', m);\n",
       "        comm.send(m);\n",
       "    };\n",
       "    // Register the callback with on_msg.\n",
       "    comm.on_msg(function(msg) {\n",
       "        //console.log('receiving', msg['content']['data'], msg);\n",
       "        // Pass the mpl event to the overriden (by mpl) onmessage function.\n",
       "        ws.onmessage(msg['content']['data'])\n",
       "    });\n",
       "    return ws;\n",
       "}\n",
       "\n",
       "mpl.mpl_figure_comm = function(comm, msg) {\n",
       "    // This is the function which gets called when the mpl process\n",
       "    // starts-up an IPython Comm through the \"matplotlib\" channel.\n",
       "\n",
       "    var id = msg.content.data.id;\n",
       "    // Get hold of the div created by the display call when the Comm\n",
       "    // socket was opened in Python.\n",
       "    var element = $(\"#\" + id);\n",
       "    var ws_proxy = comm_websocket_adapter(comm)\n",
       "\n",
       "    function ondownload(figure, format) {\n",
       "        window.open(figure.imageObj.src);\n",
       "    }\n",
       "\n",
       "    var fig = new mpl.figure(id, ws_proxy,\n",
       "                           ondownload,\n",
       "                           element.get(0));\n",
       "\n",
       "    // Call onopen now - mpl needs it, as it is assuming we've passed it a real\n",
       "    // web socket which is closed, not our websocket->open comm proxy.\n",
       "    ws_proxy.onopen();\n",
       "\n",
       "    fig.parent_element = element.get(0);\n",
       "    fig.cell_info = mpl.find_output_cell(\"<div id='\" + id + \"'></div>\");\n",
       "    if (!fig.cell_info) {\n",
       "        console.error(\"Failed to find cell for figure\", id, fig);\n",
       "        return;\n",
       "    }\n",
       "\n",
       "    var output_index = fig.cell_info[2]\n",
       "    var cell = fig.cell_info[0];\n",
       "\n",
       "};\n",
       "\n",
       "mpl.figure.prototype.handle_close = function(fig, msg) {\n",
       "    var width = fig.canvas.width/mpl.ratio\n",
       "    fig.root.unbind('remove')\n",
       "\n",
       "    // Update the output cell to use the data from the current canvas.\n",
       "    fig.push_to_output();\n",
       "    var dataURL = fig.canvas.toDataURL();\n",
       "    // Re-enable the keyboard manager in IPython - without this line, in FF,\n",
       "    // the notebook keyboard shortcuts fail.\n",
       "    IPython.keyboard_manager.enable()\n",
       "    $(fig.parent_element).html('<img src=\"' + dataURL + '\" width=\"' + width + '\">');\n",
       "    fig.close_ws(fig, msg);\n",
       "}\n",
       "\n",
       "mpl.figure.prototype.close_ws = function(fig, msg){\n",
       "    fig.send_message('closing', msg);\n",
       "    // fig.ws.close()\n",
       "}\n",
       "\n",
       "mpl.figure.prototype.push_to_output = function(remove_interactive) {\n",
       "    // Turn the data on the canvas into data in the output cell.\n",
       "    var width = this.canvas.width/mpl.ratio\n",
       "    var dataURL = this.canvas.toDataURL();\n",
       "    this.cell_info[1]['text/html'] = '<img src=\"' + dataURL + '\" width=\"' + width + '\">';\n",
       "}\n",
       "\n",
       "mpl.figure.prototype.updated_canvas_event = function() {\n",
       "    // Tell IPython that the notebook contents must change.\n",
       "    IPython.notebook.set_dirty(true);\n",
       "    this.send_message(\"ack\", {});\n",
       "    var fig = this;\n",
       "    // Wait a second, then push the new image to the DOM so\n",
       "    // that it is saved nicely (might be nice to debounce this).\n",
       "    setTimeout(function () { fig.push_to_output() }, 1000);\n",
       "}\n",
       "\n",
       "mpl.figure.prototype._init_toolbar = function() {\n",
       "    var fig = this;\n",
       "\n",
       "    var nav_element = $('<div/>')\n",
       "    nav_element.attr('style', 'width: 100%');\n",
       "    this.root.append(nav_element);\n",
       "\n",
       "    // Define a callback function for later on.\n",
       "    function toolbar_event(event) {\n",
       "        return fig.toolbar_button_onclick(event['data']);\n",
       "    }\n",
       "    function toolbar_mouse_event(event) {\n",
       "        return fig.toolbar_button_onmouseover(event['data']);\n",
       "    }\n",
       "\n",
       "    for(var toolbar_ind in mpl.toolbar_items){\n",
       "        var name = mpl.toolbar_items[toolbar_ind][0];\n",
       "        var tooltip = mpl.toolbar_items[toolbar_ind][1];\n",
       "        var image = mpl.toolbar_items[toolbar_ind][2];\n",
       "        var method_name = mpl.toolbar_items[toolbar_ind][3];\n",
       "\n",
       "        if (!name) { continue; };\n",
       "\n",
       "        var button = $('<button class=\"btn btn-default\" href=\"#\" title=\"' + name + '\"><i class=\"fa ' + image + ' fa-lg\"></i></button>');\n",
       "        button.click(method_name, toolbar_event);\n",
       "        button.mouseover(tooltip, toolbar_mouse_event);\n",
       "        nav_element.append(button);\n",
       "    }\n",
       "\n",
       "    // Add the status bar.\n",
       "    var status_bar = $('<span class=\"mpl-message\" style=\"text-align:right; float: right;\"/>');\n",
       "    nav_element.append(status_bar);\n",
       "    this.message = status_bar[0];\n",
       "\n",
       "    // Add the close button to the window.\n",
       "    var buttongrp = $('<div class=\"btn-group inline pull-right\"></div>');\n",
       "    var button = $('<button class=\"btn btn-mini btn-primary\" href=\"#\" title=\"Stop Interaction\"><i class=\"fa fa-power-off icon-remove icon-large\"></i></button>');\n",
       "    button.click(function (evt) { fig.handle_close(fig, {}); } );\n",
       "    button.mouseover('Stop Interaction', toolbar_mouse_event);\n",
       "    buttongrp.append(button);\n",
       "    var titlebar = this.root.find($('.ui-dialog-titlebar'));\n",
       "    titlebar.prepend(buttongrp);\n",
       "}\n",
       "\n",
       "mpl.figure.prototype._root_extra_style = function(el){\n",
       "    var fig = this\n",
       "    el.on(\"remove\", function(){\n",
       "\tfig.close_ws(fig, {});\n",
       "    });\n",
       "}\n",
       "\n",
       "mpl.figure.prototype._canvas_extra_style = function(el){\n",
       "    // this is important to make the div 'focusable\n",
       "    el.attr('tabindex', 0)\n",
       "    // reach out to IPython and tell the keyboard manager to turn it's self\n",
       "    // off when our div gets focus\n",
       "\n",
       "    // location in version 3\n",
       "    if (IPython.notebook.keyboard_manager) {\n",
       "        IPython.notebook.keyboard_manager.register_events(el);\n",
       "    }\n",
       "    else {\n",
       "        // location in version 2\n",
       "        IPython.keyboard_manager.register_events(el);\n",
       "    }\n",
       "\n",
       "}\n",
       "\n",
       "mpl.figure.prototype._key_event_extra = function(event, name) {\n",
       "    var manager = IPython.notebook.keyboard_manager;\n",
       "    if (!manager)\n",
       "        manager = IPython.keyboard_manager;\n",
       "\n",
       "    // Check for shift+enter\n",
       "    if (event.shiftKey && event.which == 13) {\n",
       "        this.canvas_div.blur();\n",
       "        // select the cell after this one\n",
       "        var index = IPython.notebook.find_cell_index(this.cell_info[0]);\n",
       "        IPython.notebook.select(index + 1);\n",
       "    }\n",
       "}\n",
       "\n",
       "mpl.figure.prototype.handle_save = function(fig, msg) {\n",
       "    fig.ondownload(fig, null);\n",
       "}\n",
       "\n",
       "\n",
       "mpl.find_output_cell = function(html_output) {\n",
       "    // Return the cell and output element which can be found *uniquely* in the notebook.\n",
       "    // Note - this is a bit hacky, but it is done because the \"notebook_saving.Notebook\"\n",
       "    // IPython event is triggered only after the cells have been serialised, which for\n",
       "    // our purposes (turning an active figure into a static one), is too late.\n",
       "    var cells = IPython.notebook.get_cells();\n",
       "    var ncells = cells.length;\n",
       "    for (var i=0; i<ncells; i++) {\n",
       "        var cell = cells[i];\n",
       "        if (cell.cell_type === 'code'){\n",
       "            for (var j=0; j<cell.output_area.outputs.length; j++) {\n",
       "                var data = cell.output_area.outputs[j];\n",
       "                if (data.data) {\n",
       "                    // IPython >= 3 moved mimebundle to data attribute of output\n",
       "                    data = data.data;\n",
       "                }\n",
       "                if (data['text/html'] == html_output) {\n",
       "                    return [cell, data, j];\n",
       "                }\n",
       "            }\n",
       "        }\n",
       "    }\n",
       "}\n",
       "\n",
       "// Register the function which deals with the matplotlib target/channel.\n",
       "// The kernel may be null if the page has been refreshed.\n",
       "if (IPython.notebook.kernel != null) {\n",
       "    IPython.notebook.kernel.comm_manager.register_target('matplotlib', mpl.mpl_figure_comm);\n",
       "}\n"
      ],
      "text/plain": [
       "<IPython.core.display.Javascript object>"
      ]
     },
     "metadata": {},
     "output_type": "display_data"
    },
    {
     "data": {
      "text/html": [
       "<img src=\"data:image/png;base64,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\" width=\"639.999990463257\">"
      ],
      "text/plain": [
       "<IPython.core.display.HTML object>"
      ]
     },
     "metadata": {},
     "output_type": "display_data"
    },
    {
     "data": {
      "application/vnd.jupyter.widget-view+json": {
       "model_id": "b60cf1a9c5f74b87aca6b2283b1caf9f",
       "version_major": 2,
       "version_minor": 0
      },
      "text/plain": [
       "A Jupyter Widget"
      ]
     },
     "metadata": {},
     "output_type": "display_data"
    },
    {
     "data": {
      "application/vnd.jupyter.widget-view+json": {
       "model_id": "c084dc0d2020497a82e4eaeb95d4e0a5",
       "version_major": 2,
       "version_minor": 0
      },
      "text/plain": [
       "A Jupyter Widget"
      ]
     },
     "metadata": {},
     "output_type": "display_data"
    },
    {
     "data": {
      "application/vnd.jupyter.widget-view+json": {
       "model_id": "aff2336ae26c4a1e9c6cf467cf8f42e9",
       "version_major": 2,
       "version_minor": 0
      },
      "text/plain": [
       "A Jupyter Widget"
      ]
     },
     "metadata": {},
     "output_type": "display_data"
    },
    {
     "data": {
      "application/vnd.jupyter.widget-view+json": {
       "model_id": "90dc4bca435249ec927c16e457a5aff4",
       "version_major": 2,
       "version_minor": 0
      },
      "text/plain": [
       "A Jupyter Widget"
      ]
     },
     "metadata": {},
     "output_type": "display_data"
    },
    {
     "data": {
      "application/vnd.jupyter.widget-view+json": {
       "model_id": "5128a4232203492ca848cb635b2c4bed",
       "version_major": 2,
       "version_minor": 0
      },
      "text/plain": [
       "A Jupyter Widget"
      ]
     },
     "metadata": {},
     "output_type": "display_data"
    },
    {
     "data": {
      "application/vnd.jupyter.widget-view+json": {
       "model_id": "5ff426d723334e73b5f182d25bbe9b24",
       "version_major": 2,
       "version_minor": 0
      },
      "text/plain": [
       "A Jupyter Widget"
      ]
     },
     "metadata": {},
     "output_type": "display_data"
    }
   ],
   "source": [
    "f=ttt.sort_samples('BODY_PRODUCT').plot(gui='jupyter',barx_fields=['HOST_SUBJECT_ID','COMMON_SAMPLE_SITE'],\n",
    "                rect=[-0.5, 1966.5, 2511.5, 2354.5],\n",
    "                clim=[0,1000], feature_field=None)"
   ]
  },
  {
   "cell_type": "markdown",
   "metadata": {},
   "source": [
    "__We can see there is a set of sOTUs showing up in together in the individual of \"M3\" sporadically__ (near the bottom of the heatmap above). This behavior is difficult to see in a naive heatmap without clustering and sorting the features."
   ]
  },
  {
   "cell_type": "markdown",
   "metadata": {},
   "source": [
    "## find features correlated with time in the individule of \"M3\""
   ]
  },
  {
   "cell_type": "code",
   "execution_count": 24,
   "metadata": {},
   "outputs": [
    {
     "name": "stdout",
     "output_type": "stream",
     "text": [
      "2017-10-09 12:41:42 INFO 493 remaining\n"
     ]
    }
   ],
   "source": [
    "tt = feces.filter_samples('HOST_SUBJECT_ID','M3')\n",
    "tt=tt.cluster_features(50)"
   ]
  },
  {
   "cell_type": "code",
   "execution_count": 25,
   "metadata": {
    "scrolled": true
   },
   "outputs": [
    {
     "name": "stdout",
     "output_type": "stream",
     "text": [
      "2017-10-09 12:41:43 INFO 493 remaining\n",
      "2017-10-09 12:41:43 INFO method spearman for field DAYS_SINCE_EXPERIMENT_START. Positive correlated features : 61. Negative correlated features : 192. total 253\n"
     ]
    }
   ],
   "source": [
    "dd = tt.correlation('DAYS_SINCE_EXPERIMENT_START')"
   ]
  },
  {
   "cell_type": "markdown",
   "metadata": {},
   "source": [
    "We get 259 features with significant correlation following FDR control.\n",
    "\n",
    "Note features are sorted by the effect size (biggest/smallest correlation is top/bottom)"
   ]
  },
  {
   "cell_type": "code",
   "execution_count": 26,
   "metadata": {
    "scrolled": false
   },
   "outputs": [
    {
     "data": {
      "application/javascript": [
       "/* Put everything inside the global mpl namespace */\n",
       "window.mpl = {};\n",
       "\n",
       "\n",
       "mpl.get_websocket_type = function() {\n",
       "    if (typeof(WebSocket) !== 'undefined') {\n",
       "        return WebSocket;\n",
       "    } else if (typeof(MozWebSocket) !== 'undefined') {\n",
       "        return MozWebSocket;\n",
       "    } else {\n",
       "        alert('Your browser does not have WebSocket support.' +\n",
       "              'Please try Chrome, Safari or Firefox ≥ 6. ' +\n",
       "              'Firefox 4 and 5 are also supported but you ' +\n",
       "              'have to enable WebSockets in about:config.');\n",
       "    };\n",
       "}\n",
       "\n",
       "mpl.figure = function(figure_id, websocket, ondownload, parent_element) {\n",
       "    this.id = figure_id;\n",
       "\n",
       "    this.ws = websocket;\n",
       "\n",
       "    this.supports_binary = (this.ws.binaryType != undefined);\n",
       "\n",
       "    if (!this.supports_binary) {\n",
       "        var warnings = document.getElementById(\"mpl-warnings\");\n",
       "        if (warnings) {\n",
       "            warnings.style.display = 'block';\n",
       "            warnings.textContent = (\n",
       "                \"This browser does not support binary websocket messages. \" +\n",
       "                    \"Performance may be slow.\");\n",
       "        }\n",
       "    }\n",
       "\n",
       "    this.imageObj = new Image();\n",
       "\n",
       "    this.context = undefined;\n",
       "    this.message = undefined;\n",
       "    this.canvas = undefined;\n",
       "    this.rubberband_canvas = undefined;\n",
       "    this.rubberband_context = undefined;\n",
       "    this.format_dropdown = undefined;\n",
       "\n",
       "    this.image_mode = 'full';\n",
       "\n",
       "    this.root = $('<div/>');\n",
       "    this._root_extra_style(this.root)\n",
       "    this.root.attr('style', 'display: inline-block');\n",
       "\n",
       "    $(parent_element).append(this.root);\n",
       "\n",
       "    this._init_header(this);\n",
       "    this._init_canvas(this);\n",
       "    this._init_toolbar(this);\n",
       "\n",
       "    var fig = this;\n",
       "\n",
       "    this.waiting = false;\n",
       "\n",
       "    this.ws.onopen =  function () {\n",
       "            fig.send_message(\"supports_binary\", {value: fig.supports_binary});\n",
       "            fig.send_message(\"send_image_mode\", {});\n",
       "            if (mpl.ratio != 1) {\n",
       "                fig.send_message(\"set_dpi_ratio\", {'dpi_ratio': mpl.ratio});\n",
       "            }\n",
       "            fig.send_message(\"refresh\", {});\n",
       "        }\n",
       "\n",
       "    this.imageObj.onload = function() {\n",
       "            if (fig.image_mode == 'full') {\n",
       "                // Full images could contain transparency (where diff images\n",
       "                // almost always do), so we need to clear the canvas so that\n",
       "                // there is no ghosting.\n",
       "                fig.context.clearRect(0, 0, fig.canvas.width, fig.canvas.height);\n",
       "            }\n",
       "            fig.context.drawImage(fig.imageObj, 0, 0);\n",
       "        };\n",
       "\n",
       "    this.imageObj.onunload = function() {\n",
       "        this.ws.close();\n",
       "    }\n",
       "\n",
       "    this.ws.onmessage = this._make_on_message_function(this);\n",
       "\n",
       "    this.ondownload = ondownload;\n",
       "}\n",
       "\n",
       "mpl.figure.prototype._init_header = function() {\n",
       "    var titlebar = $(\n",
       "        '<div class=\"ui-dialog-titlebar ui-widget-header ui-corner-all ' +\n",
       "        'ui-helper-clearfix\"/>');\n",
       "    var titletext = $(\n",
       "        '<div class=\"ui-dialog-title\" style=\"width: 100%; ' +\n",
       "        'text-align: center; padding: 3px;\"/>');\n",
       "    titlebar.append(titletext)\n",
       "    this.root.append(titlebar);\n",
       "    this.header = titletext[0];\n",
       "}\n",
       "\n",
       "\n",
       "\n",
       "mpl.figure.prototype._canvas_extra_style = function(canvas_div) {\n",
       "\n",
       "}\n",
       "\n",
       "\n",
       "mpl.figure.prototype._root_extra_style = function(canvas_div) {\n",
       "\n",
       "}\n",
       "\n",
       "mpl.figure.prototype._init_canvas = function() {\n",
       "    var fig = this;\n",
       "\n",
       "    var canvas_div = $('<div/>');\n",
       "\n",
       "    canvas_div.attr('style', 'position: relative; clear: both; outline: 0');\n",
       "\n",
       "    function canvas_keyboard_event(event) {\n",
       "        return fig.key_event(event, event['data']);\n",
       "    }\n",
       "\n",
       "    canvas_div.keydown('key_press', canvas_keyboard_event);\n",
       "    canvas_div.keyup('key_release', canvas_keyboard_event);\n",
       "    this.canvas_div = canvas_div\n",
       "    this._canvas_extra_style(canvas_div)\n",
       "    this.root.append(canvas_div);\n",
       "\n",
       "    var canvas = $('<canvas/>');\n",
       "    canvas.addClass('mpl-canvas');\n",
       "    canvas.attr('style', \"left: 0; top: 0; z-index: 0; outline: 0\")\n",
       "\n",
       "    this.canvas = canvas[0];\n",
       "    this.context = canvas[0].getContext(\"2d\");\n",
       "\n",
       "    var backingStore = this.context.backingStorePixelRatio ||\n",
       "\tthis.context.webkitBackingStorePixelRatio ||\n",
       "\tthis.context.mozBackingStorePixelRatio ||\n",
       "\tthis.context.msBackingStorePixelRatio ||\n",
       "\tthis.context.oBackingStorePixelRatio ||\n",
       "\tthis.context.backingStorePixelRatio || 1;\n",
       "\n",
       "    mpl.ratio = (window.devicePixelRatio || 1) / backingStore;\n",
       "\n",
       "    var rubberband = $('<canvas/>');\n",
       "    rubberband.attr('style', \"position: absolute; left: 0; top: 0; z-index: 1;\")\n",
       "\n",
       "    var pass_mouse_events = true;\n",
       "\n",
       "    canvas_div.resizable({\n",
       "        start: function(event, ui) {\n",
       "            pass_mouse_events = false;\n",
       "        },\n",
       "        resize: function(event, ui) {\n",
       "            fig.request_resize(ui.size.width, ui.size.height);\n",
       "        },\n",
       "        stop: function(event, ui) {\n",
       "            pass_mouse_events = true;\n",
       "            fig.request_resize(ui.size.width, ui.size.height);\n",
       "        },\n",
       "    });\n",
       "\n",
       "    function mouse_event_fn(event) {\n",
       "        if (pass_mouse_events)\n",
       "            return fig.mouse_event(event, event['data']);\n",
       "    }\n",
       "\n",
       "    rubberband.mousedown('button_press', mouse_event_fn);\n",
       "    rubberband.mouseup('button_release', mouse_event_fn);\n",
       "    // Throttle sequential mouse events to 1 every 20ms.\n",
       "    rubberband.mousemove('motion_notify', mouse_event_fn);\n",
       "\n",
       "    rubberband.mouseenter('figure_enter', mouse_event_fn);\n",
       "    rubberband.mouseleave('figure_leave', mouse_event_fn);\n",
       "\n",
       "    canvas_div.on(\"wheel\", function (event) {\n",
       "        event = event.originalEvent;\n",
       "        event['data'] = 'scroll'\n",
       "        if (event.deltaY < 0) {\n",
       "            event.step = 1;\n",
       "        } else {\n",
       "            event.step = -1;\n",
       "        }\n",
       "        mouse_event_fn(event);\n",
       "    });\n",
       "\n",
       "    canvas_div.append(canvas);\n",
       "    canvas_div.append(rubberband);\n",
       "\n",
       "    this.rubberband = rubberband;\n",
       "    this.rubberband_canvas = rubberband[0];\n",
       "    this.rubberband_context = rubberband[0].getContext(\"2d\");\n",
       "    this.rubberband_context.strokeStyle = \"#000000\";\n",
       "\n",
       "    this._resize_canvas = function(width, height) {\n",
       "        // Keep the size of the canvas, canvas container, and rubber band\n",
       "        // canvas in synch.\n",
       "        canvas_div.css('width', width)\n",
       "        canvas_div.css('height', height)\n",
       "\n",
       "        canvas.attr('width', width * mpl.ratio);\n",
       "        canvas.attr('height', height * mpl.ratio);\n",
       "        canvas.attr('style', 'width: ' + width + 'px; height: ' + height + 'px;');\n",
       "\n",
       "        rubberband.attr('width', width);\n",
       "        rubberband.attr('height', height);\n",
       "    }\n",
       "\n",
       "    // Set the figure to an initial 600x600px, this will subsequently be updated\n",
       "    // upon first draw.\n",
       "    this._resize_canvas(600, 600);\n",
       "\n",
       "    // Disable right mouse context menu.\n",
       "    $(this.rubberband_canvas).bind(\"contextmenu\",function(e){\n",
       "        return false;\n",
       "    });\n",
       "\n",
       "    function set_focus () {\n",
       "        canvas.focus();\n",
       "        canvas_div.focus();\n",
       "    }\n",
       "\n",
       "    window.setTimeout(set_focus, 100);\n",
       "}\n",
       "\n",
       "mpl.figure.prototype._init_toolbar = function() {\n",
       "    var fig = this;\n",
       "\n",
       "    var nav_element = $('<div/>')\n",
       "    nav_element.attr('style', 'width: 100%');\n",
       "    this.root.append(nav_element);\n",
       "\n",
       "    // Define a callback function for later on.\n",
       "    function toolbar_event(event) {\n",
       "        return fig.toolbar_button_onclick(event['data']);\n",
       "    }\n",
       "    function toolbar_mouse_event(event) {\n",
       "        return fig.toolbar_button_onmouseover(event['data']);\n",
       "    }\n",
       "\n",
       "    for(var toolbar_ind in mpl.toolbar_items) {\n",
       "        var name = mpl.toolbar_items[toolbar_ind][0];\n",
       "        var tooltip = mpl.toolbar_items[toolbar_ind][1];\n",
       "        var image = mpl.toolbar_items[toolbar_ind][2];\n",
       "        var method_name = mpl.toolbar_items[toolbar_ind][3];\n",
       "\n",
       "        if (!name) {\n",
       "            // put a spacer in here.\n",
       "            continue;\n",
       "        }\n",
       "        var button = $('<button/>');\n",
       "        button.addClass('ui-button ui-widget ui-state-default ui-corner-all ' +\n",
       "                        'ui-button-icon-only');\n",
       "        button.attr('role', 'button');\n",
       "        button.attr('aria-disabled', 'false');\n",
       "        button.click(method_name, toolbar_event);\n",
       "        button.mouseover(tooltip, toolbar_mouse_event);\n",
       "\n",
       "        var icon_img = $('<span/>');\n",
       "        icon_img.addClass('ui-button-icon-primary ui-icon');\n",
       "        icon_img.addClass(image);\n",
       "        icon_img.addClass('ui-corner-all');\n",
       "\n",
       "        var tooltip_span = $('<span/>');\n",
       "        tooltip_span.addClass('ui-button-text');\n",
       "        tooltip_span.html(tooltip);\n",
       "\n",
       "        button.append(icon_img);\n",
       "        button.append(tooltip_span);\n",
       "\n",
       "        nav_element.append(button);\n",
       "    }\n",
       "\n",
       "    var fmt_picker_span = $('<span/>');\n",
       "\n",
       "    var fmt_picker = $('<select/>');\n",
       "    fmt_picker.addClass('mpl-toolbar-option ui-widget ui-widget-content');\n",
       "    fmt_picker_span.append(fmt_picker);\n",
       "    nav_element.append(fmt_picker_span);\n",
       "    this.format_dropdown = fmt_picker[0];\n",
       "\n",
       "    for (var ind in mpl.extensions) {\n",
       "        var fmt = mpl.extensions[ind];\n",
       "        var option = $(\n",
       "            '<option/>', {selected: fmt === mpl.default_extension}).html(fmt);\n",
       "        fmt_picker.append(option)\n",
       "    }\n",
       "\n",
       "    // Add hover states to the ui-buttons\n",
       "    $( \".ui-button\" ).hover(\n",
       "        function() { $(this).addClass(\"ui-state-hover\");},\n",
       "        function() { $(this).removeClass(\"ui-state-hover\");}\n",
       "    );\n",
       "\n",
       "    var status_bar = $('<span class=\"mpl-message\"/>');\n",
       "    nav_element.append(status_bar);\n",
       "    this.message = status_bar[0];\n",
       "}\n",
       "\n",
       "mpl.figure.prototype.request_resize = function(x_pixels, y_pixels) {\n",
       "    // Request matplotlib to resize the figure. Matplotlib will then trigger a resize in the client,\n",
       "    // which will in turn request a refresh of the image.\n",
       "    this.send_message('resize', {'width': x_pixels, 'height': y_pixels});\n",
       "}\n",
       "\n",
       "mpl.figure.prototype.send_message = function(type, properties) {\n",
       "    properties['type'] = type;\n",
       "    properties['figure_id'] = this.id;\n",
       "    this.ws.send(JSON.stringify(properties));\n",
       "}\n",
       "\n",
       "mpl.figure.prototype.send_draw_message = function() {\n",
       "    if (!this.waiting) {\n",
       "        this.waiting = true;\n",
       "        this.ws.send(JSON.stringify({type: \"draw\", figure_id: this.id}));\n",
       "    }\n",
       "}\n",
       "\n",
       "\n",
       "mpl.figure.prototype.handle_save = function(fig, msg) {\n",
       "    var format_dropdown = fig.format_dropdown;\n",
       "    var format = format_dropdown.options[format_dropdown.selectedIndex].value;\n",
       "    fig.ondownload(fig, format);\n",
       "}\n",
       "\n",
       "\n",
       "mpl.figure.prototype.handle_resize = function(fig, msg) {\n",
       "    var size = msg['size'];\n",
       "    if (size[0] != fig.canvas.width || size[1] != fig.canvas.height) {\n",
       "        fig._resize_canvas(size[0], size[1]);\n",
       "        fig.send_message(\"refresh\", {});\n",
       "    };\n",
       "}\n",
       "\n",
       "mpl.figure.prototype.handle_rubberband = function(fig, msg) {\n",
       "    var x0 = msg['x0'] / mpl.ratio;\n",
       "    var y0 = (fig.canvas.height - msg['y0']) / mpl.ratio;\n",
       "    var x1 = msg['x1'] / mpl.ratio;\n",
       "    var y1 = (fig.canvas.height - msg['y1']) / mpl.ratio;\n",
       "    x0 = Math.floor(x0) + 0.5;\n",
       "    y0 = Math.floor(y0) + 0.5;\n",
       "    x1 = Math.floor(x1) + 0.5;\n",
       "    y1 = Math.floor(y1) + 0.5;\n",
       "    var min_x = Math.min(x0, x1);\n",
       "    var min_y = Math.min(y0, y1);\n",
       "    var width = Math.abs(x1 - x0);\n",
       "    var height = Math.abs(y1 - y0);\n",
       "\n",
       "    fig.rubberband_context.clearRect(\n",
       "        0, 0, fig.canvas.width, fig.canvas.height);\n",
       "\n",
       "    fig.rubberband_context.strokeRect(min_x, min_y, width, height);\n",
       "}\n",
       "\n",
       "mpl.figure.prototype.handle_figure_label = function(fig, msg) {\n",
       "    // Updates the figure title.\n",
       "    fig.header.textContent = msg['label'];\n",
       "}\n",
       "\n",
       "mpl.figure.prototype.handle_cursor = function(fig, msg) {\n",
       "    var cursor = msg['cursor'];\n",
       "    switch(cursor)\n",
       "    {\n",
       "    case 0:\n",
       "        cursor = 'pointer';\n",
       "        break;\n",
       "    case 1:\n",
       "        cursor = 'default';\n",
       "        break;\n",
       "    case 2:\n",
       "        cursor = 'crosshair';\n",
       "        break;\n",
       "    case 3:\n",
       "        cursor = 'move';\n",
       "        break;\n",
       "    }\n",
       "    fig.rubberband_canvas.style.cursor = cursor;\n",
       "}\n",
       "\n",
       "mpl.figure.prototype.handle_message = function(fig, msg) {\n",
       "    fig.message.textContent = msg['message'];\n",
       "}\n",
       "\n",
       "mpl.figure.prototype.handle_draw = function(fig, msg) {\n",
       "    // Request the server to send over a new figure.\n",
       "    fig.send_draw_message();\n",
       "}\n",
       "\n",
       "mpl.figure.prototype.handle_image_mode = function(fig, msg) {\n",
       "    fig.image_mode = msg['mode'];\n",
       "}\n",
       "\n",
       "mpl.figure.prototype.updated_canvas_event = function() {\n",
       "    // Called whenever the canvas gets updated.\n",
       "    this.send_message(\"ack\", {});\n",
       "}\n",
       "\n",
       "// A function to construct a web socket function for onmessage handling.\n",
       "// Called in the figure constructor.\n",
       "mpl.figure.prototype._make_on_message_function = function(fig) {\n",
       "    return function socket_on_message(evt) {\n",
       "        if (evt.data instanceof Blob) {\n",
       "            /* FIXME: We get \"Resource interpreted as Image but\n",
       "             * transferred with MIME type text/plain:\" errors on\n",
       "             * Chrome.  But how to set the MIME type?  It doesn't seem\n",
       "             * to be part of the websocket stream */\n",
       "            evt.data.type = \"image/png\";\n",
       "\n",
       "            /* Free the memory for the previous frames */\n",
       "            if (fig.imageObj.src) {\n",
       "                (window.URL || window.webkitURL).revokeObjectURL(\n",
       "                    fig.imageObj.src);\n",
       "            }\n",
       "\n",
       "            fig.imageObj.src = (window.URL || window.webkitURL).createObjectURL(\n",
       "                evt.data);\n",
       "            fig.updated_canvas_event();\n",
       "            fig.waiting = false;\n",
       "            return;\n",
       "        }\n",
       "        else if (typeof evt.data === 'string' && evt.data.slice(0, 21) == \"data:image/png;base64\") {\n",
       "            fig.imageObj.src = evt.data;\n",
       "            fig.updated_canvas_event();\n",
       "            fig.waiting = false;\n",
       "            return;\n",
       "        }\n",
       "\n",
       "        var msg = JSON.parse(evt.data);\n",
       "        var msg_type = msg['type'];\n",
       "\n",
       "        // Call the  \"handle_{type}\" callback, which takes\n",
       "        // the figure and JSON message as its only arguments.\n",
       "        try {\n",
       "            var callback = fig[\"handle_\" + msg_type];\n",
       "        } catch (e) {\n",
       "            console.log(\"No handler for the '\" + msg_type + \"' message type: \", msg);\n",
       "            return;\n",
       "        }\n",
       "\n",
       "        if (callback) {\n",
       "            try {\n",
       "                // console.log(\"Handling '\" + msg_type + \"' message: \", msg);\n",
       "                callback(fig, msg);\n",
       "            } catch (e) {\n",
       "                console.log(\"Exception inside the 'handler_\" + msg_type + \"' callback:\", e, e.stack, msg);\n",
       "            }\n",
       "        }\n",
       "    };\n",
       "}\n",
       "\n",
       "// from http://stackoverflow.com/questions/1114465/getting-mouse-location-in-canvas\n",
       "mpl.findpos = function(e) {\n",
       "    //this section is from http://www.quirksmode.org/js/events_properties.html\n",
       "    var targ;\n",
       "    if (!e)\n",
       "        e = window.event;\n",
       "    if (e.target)\n",
       "        targ = e.target;\n",
       "    else if (e.srcElement)\n",
       "        targ = e.srcElement;\n",
       "    if (targ.nodeType == 3) // defeat Safari bug\n",
       "        targ = targ.parentNode;\n",
       "\n",
       "    // jQuery normalizes the pageX and pageY\n",
       "    // pageX,Y are the mouse positions relative to the document\n",
       "    // offset() returns the position of the element relative to the document\n",
       "    var x = e.pageX - $(targ).offset().left;\n",
       "    var y = e.pageY - $(targ).offset().top;\n",
       "\n",
       "    return {\"x\": x, \"y\": y};\n",
       "};\n",
       "\n",
       "/*\n",
       " * return a copy of an object with only non-object keys\n",
       " * we need this to avoid circular references\n",
       " * http://stackoverflow.com/a/24161582/3208463\n",
       " */\n",
       "function simpleKeys (original) {\n",
       "  return Object.keys(original).reduce(function (obj, key) {\n",
       "    if (typeof original[key] !== 'object')\n",
       "        obj[key] = original[key]\n",
       "    return obj;\n",
       "  }, {});\n",
       "}\n",
       "\n",
       "mpl.figure.prototype.mouse_event = function(event, name) {\n",
       "    var canvas_pos = mpl.findpos(event)\n",
       "\n",
       "    if (name === 'button_press')\n",
       "    {\n",
       "        this.canvas.focus();\n",
       "        this.canvas_div.focus();\n",
       "    }\n",
       "\n",
       "    var x = canvas_pos.x * mpl.ratio;\n",
       "    var y = canvas_pos.y * mpl.ratio;\n",
       "\n",
       "    this.send_message(name, {x: x, y: y, button: event.button,\n",
       "                             step: event.step,\n",
       "                             guiEvent: simpleKeys(event)});\n",
       "\n",
       "    /* This prevents the web browser from automatically changing to\n",
       "     * the text insertion cursor when the button is pressed.  We want\n",
       "     * to control all of the cursor setting manually through the\n",
       "     * 'cursor' event from matplotlib */\n",
       "    event.preventDefault();\n",
       "    return false;\n",
       "}\n",
       "\n",
       "mpl.figure.prototype._key_event_extra = function(event, name) {\n",
       "    // Handle any extra behaviour associated with a key event\n",
       "}\n",
       "\n",
       "mpl.figure.prototype.key_event = function(event, name) {\n",
       "\n",
       "    // Prevent repeat events\n",
       "    if (name == 'key_press')\n",
       "    {\n",
       "        if (event.which === this._key)\n",
       "            return;\n",
       "        else\n",
       "            this._key = event.which;\n",
       "    }\n",
       "    if (name == 'key_release')\n",
       "        this._key = null;\n",
       "\n",
       "    var value = '';\n",
       "    if (event.ctrlKey && event.which != 17)\n",
       "        value += \"ctrl+\";\n",
       "    if (event.altKey && event.which != 18)\n",
       "        value += \"alt+\";\n",
       "    if (event.shiftKey && event.which != 16)\n",
       "        value += \"shift+\";\n",
       "\n",
       "    value += 'k';\n",
       "    value += event.which.toString();\n",
       "\n",
       "    this._key_event_extra(event, name);\n",
       "\n",
       "    this.send_message(name, {key: value,\n",
       "                             guiEvent: simpleKeys(event)});\n",
       "    return false;\n",
       "}\n",
       "\n",
       "mpl.figure.prototype.toolbar_button_onclick = function(name) {\n",
       "    if (name == 'download') {\n",
       "        this.handle_save(this, null);\n",
       "    } else {\n",
       "        this.send_message(\"toolbar_button\", {name: name});\n",
       "    }\n",
       "};\n",
       "\n",
       "mpl.figure.prototype.toolbar_button_onmouseover = function(tooltip) {\n",
       "    this.message.textContent = tooltip;\n",
       "};\n",
       "mpl.toolbar_items = [[\"Home\", \"Reset original view\", \"fa fa-home icon-home\", \"home\"], [\"Back\", \"Back to  previous view\", \"fa fa-arrow-left icon-arrow-left\", \"back\"], [\"Forward\", \"Forward to next view\", \"fa fa-arrow-right icon-arrow-right\", \"forward\"], [\"\", \"\", \"\", \"\"], [\"Pan\", \"Pan axes with left mouse, zoom with right\", \"fa fa-arrows icon-move\", \"pan\"], [\"Zoom\", \"Zoom to rectangle\", \"fa fa-square-o icon-check-empty\", \"zoom\"], [\"\", \"\", \"\", \"\"], [\"Download\", \"Download plot\", \"fa fa-floppy-o icon-save\", \"download\"]];\n",
       "\n",
       "mpl.extensions = [\"eps\", \"pdf\", \"png\", \"ps\", \"raw\", \"svg\"];\n",
       "\n",
       "mpl.default_extension = \"png\";var comm_websocket_adapter = function(comm) {\n",
       "    // Create a \"websocket\"-like object which calls the given IPython comm\n",
       "    // object with the appropriate methods. Currently this is a non binary\n",
       "    // socket, so there is still some room for performance tuning.\n",
       "    var ws = {};\n",
       "\n",
       "    ws.close = function() {\n",
       "        comm.close()\n",
       "    };\n",
       "    ws.send = function(m) {\n",
       "        //console.log('sending', m);\n",
       "        comm.send(m);\n",
       "    };\n",
       "    // Register the callback with on_msg.\n",
       "    comm.on_msg(function(msg) {\n",
       "        //console.log('receiving', msg['content']['data'], msg);\n",
       "        // Pass the mpl event to the overriden (by mpl) onmessage function.\n",
       "        ws.onmessage(msg['content']['data'])\n",
       "    });\n",
       "    return ws;\n",
       "}\n",
       "\n",
       "mpl.mpl_figure_comm = function(comm, msg) {\n",
       "    // This is the function which gets called when the mpl process\n",
       "    // starts-up an IPython Comm through the \"matplotlib\" channel.\n",
       "\n",
       "    var id = msg.content.data.id;\n",
       "    // Get hold of the div created by the display call when the Comm\n",
       "    // socket was opened in Python.\n",
       "    var element = $(\"#\" + id);\n",
       "    var ws_proxy = comm_websocket_adapter(comm)\n",
       "\n",
       "    function ondownload(figure, format) {\n",
       "        window.open(figure.imageObj.src);\n",
       "    }\n",
       "\n",
       "    var fig = new mpl.figure(id, ws_proxy,\n",
       "                           ondownload,\n",
       "                           element.get(0));\n",
       "\n",
       "    // Call onopen now - mpl needs it, as it is assuming we've passed it a real\n",
       "    // web socket which is closed, not our websocket->open comm proxy.\n",
       "    ws_proxy.onopen();\n",
       "\n",
       "    fig.parent_element = element.get(0);\n",
       "    fig.cell_info = mpl.find_output_cell(\"<div id='\" + id + \"'></div>\");\n",
       "    if (!fig.cell_info) {\n",
       "        console.error(\"Failed to find cell for figure\", id, fig);\n",
       "        return;\n",
       "    }\n",
       "\n",
       "    var output_index = fig.cell_info[2]\n",
       "    var cell = fig.cell_info[0];\n",
       "\n",
       "};\n",
       "\n",
       "mpl.figure.prototype.handle_close = function(fig, msg) {\n",
       "    var width = fig.canvas.width/mpl.ratio\n",
       "    fig.root.unbind('remove')\n",
       "\n",
       "    // Update the output cell to use the data from the current canvas.\n",
       "    fig.push_to_output();\n",
       "    var dataURL = fig.canvas.toDataURL();\n",
       "    // Re-enable the keyboard manager in IPython - without this line, in FF,\n",
       "    // the notebook keyboard shortcuts fail.\n",
       "    IPython.keyboard_manager.enable()\n",
       "    $(fig.parent_element).html('<img src=\"' + dataURL + '\" width=\"' + width + '\">');\n",
       "    fig.close_ws(fig, msg);\n",
       "}\n",
       "\n",
       "mpl.figure.prototype.close_ws = function(fig, msg){\n",
       "    fig.send_message('closing', msg);\n",
       "    // fig.ws.close()\n",
       "}\n",
       "\n",
       "mpl.figure.prototype.push_to_output = function(remove_interactive) {\n",
       "    // Turn the data on the canvas into data in the output cell.\n",
       "    var width = this.canvas.width/mpl.ratio\n",
       "    var dataURL = this.canvas.toDataURL();\n",
       "    this.cell_info[1]['text/html'] = '<img src=\"' + dataURL + '\" width=\"' + width + '\">';\n",
       "}\n",
       "\n",
       "mpl.figure.prototype.updated_canvas_event = function() {\n",
       "    // Tell IPython that the notebook contents must change.\n",
       "    IPython.notebook.set_dirty(true);\n",
       "    this.send_message(\"ack\", {});\n",
       "    var fig = this;\n",
       "    // Wait a second, then push the new image to the DOM so\n",
       "    // that it is saved nicely (might be nice to debounce this).\n",
       "    setTimeout(function () { fig.push_to_output() }, 1000);\n",
       "}\n",
       "\n",
       "mpl.figure.prototype._init_toolbar = function() {\n",
       "    var fig = this;\n",
       "\n",
       "    var nav_element = $('<div/>')\n",
       "    nav_element.attr('style', 'width: 100%');\n",
       "    this.root.append(nav_element);\n",
       "\n",
       "    // Define a callback function for later on.\n",
       "    function toolbar_event(event) {\n",
       "        return fig.toolbar_button_onclick(event['data']);\n",
       "    }\n",
       "    function toolbar_mouse_event(event) {\n",
       "        return fig.toolbar_button_onmouseover(event['data']);\n",
       "    }\n",
       "\n",
       "    for(var toolbar_ind in mpl.toolbar_items){\n",
       "        var name = mpl.toolbar_items[toolbar_ind][0];\n",
       "        var tooltip = mpl.toolbar_items[toolbar_ind][1];\n",
       "        var image = mpl.toolbar_items[toolbar_ind][2];\n",
       "        var method_name = mpl.toolbar_items[toolbar_ind][3];\n",
       "\n",
       "        if (!name) { continue; };\n",
       "\n",
       "        var button = $('<button class=\"btn btn-default\" href=\"#\" title=\"' + name + '\"><i class=\"fa ' + image + ' fa-lg\"></i></button>');\n",
       "        button.click(method_name, toolbar_event);\n",
       "        button.mouseover(tooltip, toolbar_mouse_event);\n",
       "        nav_element.append(button);\n",
       "    }\n",
       "\n",
       "    // Add the status bar.\n",
       "    var status_bar = $('<span class=\"mpl-message\" style=\"text-align:right; float: right;\"/>');\n",
       "    nav_element.append(status_bar);\n",
       "    this.message = status_bar[0];\n",
       "\n",
       "    // Add the close button to the window.\n",
       "    var buttongrp = $('<div class=\"btn-group inline pull-right\"></div>');\n",
       "    var button = $('<button class=\"btn btn-mini btn-primary\" href=\"#\" title=\"Stop Interaction\"><i class=\"fa fa-power-off icon-remove icon-large\"></i></button>');\n",
       "    button.click(function (evt) { fig.handle_close(fig, {}); } );\n",
       "    button.mouseover('Stop Interaction', toolbar_mouse_event);\n",
       "    buttongrp.append(button);\n",
       "    var titlebar = this.root.find($('.ui-dialog-titlebar'));\n",
       "    titlebar.prepend(buttongrp);\n",
       "}\n",
       "\n",
       "mpl.figure.prototype._root_extra_style = function(el){\n",
       "    var fig = this\n",
       "    el.on(\"remove\", function(){\n",
       "\tfig.close_ws(fig, {});\n",
       "    });\n",
       "}\n",
       "\n",
       "mpl.figure.prototype._canvas_extra_style = function(el){\n",
       "    // this is important to make the div 'focusable\n",
       "    el.attr('tabindex', 0)\n",
       "    // reach out to IPython and tell the keyboard manager to turn it's self\n",
       "    // off when our div gets focus\n",
       "\n",
       "    // location in version 3\n",
       "    if (IPython.notebook.keyboard_manager) {\n",
       "        IPython.notebook.keyboard_manager.register_events(el);\n",
       "    }\n",
       "    else {\n",
       "        // location in version 2\n",
       "        IPython.keyboard_manager.register_events(el);\n",
       "    }\n",
       "\n",
       "}\n",
       "\n",
       "mpl.figure.prototype._key_event_extra = function(event, name) {\n",
       "    var manager = IPython.notebook.keyboard_manager;\n",
       "    if (!manager)\n",
       "        manager = IPython.keyboard_manager;\n",
       "\n",
       "    // Check for shift+enter\n",
       "    if (event.shiftKey && event.which == 13) {\n",
       "        this.canvas_div.blur();\n",
       "        // select the cell after this one\n",
       "        var index = IPython.notebook.find_cell_index(this.cell_info[0]);\n",
       "        IPython.notebook.select(index + 1);\n",
       "    }\n",
       "}\n",
       "\n",
       "mpl.figure.prototype.handle_save = function(fig, msg) {\n",
       "    fig.ondownload(fig, null);\n",
       "}\n",
       "\n",
       "\n",
       "mpl.find_output_cell = function(html_output) {\n",
       "    // Return the cell and output element which can be found *uniquely* in the notebook.\n",
       "    // Note - this is a bit hacky, but it is done because the \"notebook_saving.Notebook\"\n",
       "    // IPython event is triggered only after the cells have been serialised, which for\n",
       "    // our purposes (turning an active figure into a static one), is too late.\n",
       "    var cells = IPython.notebook.get_cells();\n",
       "    var ncells = cells.length;\n",
       "    for (var i=0; i<ncells; i++) {\n",
       "        var cell = cells[i];\n",
       "        if (cell.cell_type === 'code'){\n",
       "            for (var j=0; j<cell.output_area.outputs.length; j++) {\n",
       "                var data = cell.output_area.outputs[j];\n",
       "                if (data.data) {\n",
       "                    // IPython >= 3 moved mimebundle to data attribute of output\n",
       "                    data = data.data;\n",
       "                }\n",
       "                if (data['text/html'] == html_output) {\n",
       "                    return [cell, data, j];\n",
       "                }\n",
       "            }\n",
       "        }\n",
       "    }\n",
       "}\n",
       "\n",
       "// Register the function which deals with the matplotlib target/channel.\n",
       "// The kernel may be null if the page has been refreshed.\n",
       "if (IPython.notebook.kernel != null) {\n",
       "    IPython.notebook.kernel.comm_manager.register_target('matplotlib', mpl.mpl_figure_comm);\n",
       "}\n"
      ],
      "text/plain": [
       "<IPython.core.display.Javascript object>"
      ]
     },
     "metadata": {},
     "output_type": "display_data"
    },
    {
     "data": {
      "text/html": [
       "<img src=\"data:image/png;base64,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\" width=\"639.999990463257\">"
      ],
      "text/plain": [
       "<IPython.core.display.HTML object>"
      ]
     },
     "metadata": {},
     "output_type": "display_data"
    },
    {
     "data": {
      "application/vnd.jupyter.widget-view+json": {
       "model_id": "aec840ca5bf546dcad52e04a6547524f",
       "version_major": 2,
       "version_minor": 0
      },
      "text/plain": [
       "A Jupyter Widget"
      ]
     },
     "metadata": {},
     "output_type": "display_data"
    },
    {
     "data": {
      "application/vnd.jupyter.widget-view+json": {
       "model_id": "7e36edf8aa8e48bdaa70f06645f33fe4",
       "version_major": 2,
       "version_minor": 0
      },
      "text/plain": [
       "A Jupyter Widget"
      ]
     },
     "metadata": {},
     "output_type": "display_data"
    },
    {
     "data": {
      "application/vnd.jupyter.widget-view+json": {
       "model_id": "2355974b3b8144cd8e38f644b8324acd",
       "version_major": 2,
       "version_minor": 0
      },
      "text/plain": [
       "A Jupyter Widget"
      ]
     },
     "metadata": {},
     "output_type": "display_data"
    },
    {
     "data": {
      "application/vnd.jupyter.widget-view+json": {
       "model_id": "54d9c985dc8a4bbf905b400f58016f11",
       "version_major": 2,
       "version_minor": 0
      },
      "text/plain": [
       "A Jupyter Widget"
      ]
     },
     "metadata": {},
     "output_type": "display_data"
    },
    {
     "data": {
      "application/vnd.jupyter.widget-view+json": {
       "model_id": "843e74c5808449d492d470cb506e0a21",
       "version_major": 2,
       "version_minor": 0
      },
      "text/plain": [
       "A Jupyter Widget"
      ]
     },
     "metadata": {},
     "output_type": "display_data"
    },
    {
     "data": {
      "application/vnd.jupyter.widget-view+json": {
       "model_id": "987a488d84ec4435815c1dd46022fc4d",
       "version_major": 2,
       "version_minor": 0
      },
      "text/plain": [
       "A Jupyter Widget"
      ]
     },
     "metadata": {},
     "output_type": "display_data"
    },
    {
     "data": {
      "text/plain": [
       "<calour.heatmap.plotgui_jupyter.PlotGUI_Jupyter at 0x112324a58>"
      ]
     },
     "execution_count": 26,
     "metadata": {},
     "output_type": "execute_result"
    }
   ],
   "source": [
    "dd.plot(feature_field=None, gui='jupyter')"
   ]
  },
  {
   "cell_type": "markdown",
   "metadata": {},
   "source": [
    "## We can also sort by the center of mass"
   ]
  },
  {
   "cell_type": "code",
   "execution_count": 27,
   "metadata": {},
   "outputs": [
    {
     "name": "stdout",
     "output_type": "stream",
     "text": [
      "2017-10-09 12:41:43 INFO 76 remaining\n"
     ]
    }
   ],
   "source": [
    "ttt=tt.filter_prevalence(0.3)"
   ]
  },
  {
   "cell_type": "code",
   "execution_count": 28,
   "metadata": {
    "collapsed": true
   },
   "outputs": [],
   "source": [
    "ttt=ttt.sort_centroid()"
   ]
  },
  {
   "cell_type": "code",
   "execution_count": 29,
   "metadata": {},
   "outputs": [
    {
     "data": {
      "text/plain": [
       "M3    336\n",
       "Name: HOST_SUBJECT_ID, dtype: int64"
      ]
     },
     "execution_count": 29,
     "metadata": {},
     "output_type": "execute_result"
    }
   ],
   "source": [
    "ttt.sample_metadata.HOST_SUBJECT_ID.value_counts()"
   ]
  },
  {
   "cell_type": "code",
   "execution_count": 30,
   "metadata": {
    "scrolled": false
   },
   "outputs": [
    {
     "data": {
      "application/javascript": [
       "/* Put everything inside the global mpl namespace */\n",
       "window.mpl = {};\n",
       "\n",
       "\n",
       "mpl.get_websocket_type = function() {\n",
       "    if (typeof(WebSocket) !== 'undefined') {\n",
       "        return WebSocket;\n",
       "    } else if (typeof(MozWebSocket) !== 'undefined') {\n",
       "        return MozWebSocket;\n",
       "    } else {\n",
       "        alert('Your browser does not have WebSocket support.' +\n",
       "              'Please try Chrome, Safari or Firefox ≥ 6. ' +\n",
       "              'Firefox 4 and 5 are also supported but you ' +\n",
       "              'have to enable WebSockets in about:config.');\n",
       "    };\n",
       "}\n",
       "\n",
       "mpl.figure = function(figure_id, websocket, ondownload, parent_element) {\n",
       "    this.id = figure_id;\n",
       "\n",
       "    this.ws = websocket;\n",
       "\n",
       "    this.supports_binary = (this.ws.binaryType != undefined);\n",
       "\n",
       "    if (!this.supports_binary) {\n",
       "        var warnings = document.getElementById(\"mpl-warnings\");\n",
       "        if (warnings) {\n",
       "            warnings.style.display = 'block';\n",
       "            warnings.textContent = (\n",
       "                \"This browser does not support binary websocket messages. \" +\n",
       "                    \"Performance may be slow.\");\n",
       "        }\n",
       "    }\n",
       "\n",
       "    this.imageObj = new Image();\n",
       "\n",
       "    this.context = undefined;\n",
       "    this.message = undefined;\n",
       "    this.canvas = undefined;\n",
       "    this.rubberband_canvas = undefined;\n",
       "    this.rubberband_context = undefined;\n",
       "    this.format_dropdown = undefined;\n",
       "\n",
       "    this.image_mode = 'full';\n",
       "\n",
       "    this.root = $('<div/>');\n",
       "    this._root_extra_style(this.root)\n",
       "    this.root.attr('style', 'display: inline-block');\n",
       "\n",
       "    $(parent_element).append(this.root);\n",
       "\n",
       "    this._init_header(this);\n",
       "    this._init_canvas(this);\n",
       "    this._init_toolbar(this);\n",
       "\n",
       "    var fig = this;\n",
       "\n",
       "    this.waiting = false;\n",
       "\n",
       "    this.ws.onopen =  function () {\n",
       "            fig.send_message(\"supports_binary\", {value: fig.supports_binary});\n",
       "            fig.send_message(\"send_image_mode\", {});\n",
       "            if (mpl.ratio != 1) {\n",
       "                fig.send_message(\"set_dpi_ratio\", {'dpi_ratio': mpl.ratio});\n",
       "            }\n",
       "            fig.send_message(\"refresh\", {});\n",
       "        }\n",
       "\n",
       "    this.imageObj.onload = function() {\n",
       "            if (fig.image_mode == 'full') {\n",
       "                // Full images could contain transparency (where diff images\n",
       "                // almost always do), so we need to clear the canvas so that\n",
       "                // there is no ghosting.\n",
       "                fig.context.clearRect(0, 0, fig.canvas.width, fig.canvas.height);\n",
       "            }\n",
       "            fig.context.drawImage(fig.imageObj, 0, 0);\n",
       "        };\n",
       "\n",
       "    this.imageObj.onunload = function() {\n",
       "        this.ws.close();\n",
       "    }\n",
       "\n",
       "    this.ws.onmessage = this._make_on_message_function(this);\n",
       "\n",
       "    this.ondownload = ondownload;\n",
       "}\n",
       "\n",
       "mpl.figure.prototype._init_header = function() {\n",
       "    var titlebar = $(\n",
       "        '<div class=\"ui-dialog-titlebar ui-widget-header ui-corner-all ' +\n",
       "        'ui-helper-clearfix\"/>');\n",
       "    var titletext = $(\n",
       "        '<div class=\"ui-dialog-title\" style=\"width: 100%; ' +\n",
       "        'text-align: center; padding: 3px;\"/>');\n",
       "    titlebar.append(titletext)\n",
       "    this.root.append(titlebar);\n",
       "    this.header = titletext[0];\n",
       "}\n",
       "\n",
       "\n",
       "\n",
       "mpl.figure.prototype._canvas_extra_style = function(canvas_div) {\n",
       "\n",
       "}\n",
       "\n",
       "\n",
       "mpl.figure.prototype._root_extra_style = function(canvas_div) {\n",
       "\n",
       "}\n",
       "\n",
       "mpl.figure.prototype._init_canvas = function() {\n",
       "    var fig = this;\n",
       "\n",
       "    var canvas_div = $('<div/>');\n",
       "\n",
       "    canvas_div.attr('style', 'position: relative; clear: both; outline: 0');\n",
       "\n",
       "    function canvas_keyboard_event(event) {\n",
       "        return fig.key_event(event, event['data']);\n",
       "    }\n",
       "\n",
       "    canvas_div.keydown('key_press', canvas_keyboard_event);\n",
       "    canvas_div.keyup('key_release', canvas_keyboard_event);\n",
       "    this.canvas_div = canvas_div\n",
       "    this._canvas_extra_style(canvas_div)\n",
       "    this.root.append(canvas_div);\n",
       "\n",
       "    var canvas = $('<canvas/>');\n",
       "    canvas.addClass('mpl-canvas');\n",
       "    canvas.attr('style', \"left: 0; top: 0; z-index: 0; outline: 0\")\n",
       "\n",
       "    this.canvas = canvas[0];\n",
       "    this.context = canvas[0].getContext(\"2d\");\n",
       "\n",
       "    var backingStore = this.context.backingStorePixelRatio ||\n",
       "\tthis.context.webkitBackingStorePixelRatio ||\n",
       "\tthis.context.mozBackingStorePixelRatio ||\n",
       "\tthis.context.msBackingStorePixelRatio ||\n",
       "\tthis.context.oBackingStorePixelRatio ||\n",
       "\tthis.context.backingStorePixelRatio || 1;\n",
       "\n",
       "    mpl.ratio = (window.devicePixelRatio || 1) / backingStore;\n",
       "\n",
       "    var rubberband = $('<canvas/>');\n",
       "    rubberband.attr('style', \"position: absolute; left: 0; top: 0; z-index: 1;\")\n",
       "\n",
       "    var pass_mouse_events = true;\n",
       "\n",
       "    canvas_div.resizable({\n",
       "        start: function(event, ui) {\n",
       "            pass_mouse_events = false;\n",
       "        },\n",
       "        resize: function(event, ui) {\n",
       "            fig.request_resize(ui.size.width, ui.size.height);\n",
       "        },\n",
       "        stop: function(event, ui) {\n",
       "            pass_mouse_events = true;\n",
       "            fig.request_resize(ui.size.width, ui.size.height);\n",
       "        },\n",
       "    });\n",
       "\n",
       "    function mouse_event_fn(event) {\n",
       "        if (pass_mouse_events)\n",
       "            return fig.mouse_event(event, event['data']);\n",
       "    }\n",
       "\n",
       "    rubberband.mousedown('button_press', mouse_event_fn);\n",
       "    rubberband.mouseup('button_release', mouse_event_fn);\n",
       "    // Throttle sequential mouse events to 1 every 20ms.\n",
       "    rubberband.mousemove('motion_notify', mouse_event_fn);\n",
       "\n",
       "    rubberband.mouseenter('figure_enter', mouse_event_fn);\n",
       "    rubberband.mouseleave('figure_leave', mouse_event_fn);\n",
       "\n",
       "    canvas_div.on(\"wheel\", function (event) {\n",
       "        event = event.originalEvent;\n",
       "        event['data'] = 'scroll'\n",
       "        if (event.deltaY < 0) {\n",
       "            event.step = 1;\n",
       "        } else {\n",
       "            event.step = -1;\n",
       "        }\n",
       "        mouse_event_fn(event);\n",
       "    });\n",
       "\n",
       "    canvas_div.append(canvas);\n",
       "    canvas_div.append(rubberband);\n",
       "\n",
       "    this.rubberband = rubberband;\n",
       "    this.rubberband_canvas = rubberband[0];\n",
       "    this.rubberband_context = rubberband[0].getContext(\"2d\");\n",
       "    this.rubberband_context.strokeStyle = \"#000000\";\n",
       "\n",
       "    this._resize_canvas = function(width, height) {\n",
       "        // Keep the size of the canvas, canvas container, and rubber band\n",
       "        // canvas in synch.\n",
       "        canvas_div.css('width', width)\n",
       "        canvas_div.css('height', height)\n",
       "\n",
       "        canvas.attr('width', width * mpl.ratio);\n",
       "        canvas.attr('height', height * mpl.ratio);\n",
       "        canvas.attr('style', 'width: ' + width + 'px; height: ' + height + 'px;');\n",
       "\n",
       "        rubberband.attr('width', width);\n",
       "        rubberband.attr('height', height);\n",
       "    }\n",
       "\n",
       "    // Set the figure to an initial 600x600px, this will subsequently be updated\n",
       "    // upon first draw.\n",
       "    this._resize_canvas(600, 600);\n",
       "\n",
       "    // Disable right mouse context menu.\n",
       "    $(this.rubberband_canvas).bind(\"contextmenu\",function(e){\n",
       "        return false;\n",
       "    });\n",
       "\n",
       "    function set_focus () {\n",
       "        canvas.focus();\n",
       "        canvas_div.focus();\n",
       "    }\n",
       "\n",
       "    window.setTimeout(set_focus, 100);\n",
       "}\n",
       "\n",
       "mpl.figure.prototype._init_toolbar = function() {\n",
       "    var fig = this;\n",
       "\n",
       "    var nav_element = $('<div/>')\n",
       "    nav_element.attr('style', 'width: 100%');\n",
       "    this.root.append(nav_element);\n",
       "\n",
       "    // Define a callback function for later on.\n",
       "    function toolbar_event(event) {\n",
       "        return fig.toolbar_button_onclick(event['data']);\n",
       "    }\n",
       "    function toolbar_mouse_event(event) {\n",
       "        return fig.toolbar_button_onmouseover(event['data']);\n",
       "    }\n",
       "\n",
       "    for(var toolbar_ind in mpl.toolbar_items) {\n",
       "        var name = mpl.toolbar_items[toolbar_ind][0];\n",
       "        var tooltip = mpl.toolbar_items[toolbar_ind][1];\n",
       "        var image = mpl.toolbar_items[toolbar_ind][2];\n",
       "        var method_name = mpl.toolbar_items[toolbar_ind][3];\n",
       "\n",
       "        if (!name) {\n",
       "            // put a spacer in here.\n",
       "            continue;\n",
       "        }\n",
       "        var button = $('<button/>');\n",
       "        button.addClass('ui-button ui-widget ui-state-default ui-corner-all ' +\n",
       "                        'ui-button-icon-only');\n",
       "        button.attr('role', 'button');\n",
       "        button.attr('aria-disabled', 'false');\n",
       "        button.click(method_name, toolbar_event);\n",
       "        button.mouseover(tooltip, toolbar_mouse_event);\n",
       "\n",
       "        var icon_img = $('<span/>');\n",
       "        icon_img.addClass('ui-button-icon-primary ui-icon');\n",
       "        icon_img.addClass(image);\n",
       "        icon_img.addClass('ui-corner-all');\n",
       "\n",
       "        var tooltip_span = $('<span/>');\n",
       "        tooltip_span.addClass('ui-button-text');\n",
       "        tooltip_span.html(tooltip);\n",
       "\n",
       "        button.append(icon_img);\n",
       "        button.append(tooltip_span);\n",
       "\n",
       "        nav_element.append(button);\n",
       "    }\n",
       "\n",
       "    var fmt_picker_span = $('<span/>');\n",
       "\n",
       "    var fmt_picker = $('<select/>');\n",
       "    fmt_picker.addClass('mpl-toolbar-option ui-widget ui-widget-content');\n",
       "    fmt_picker_span.append(fmt_picker);\n",
       "    nav_element.append(fmt_picker_span);\n",
       "    this.format_dropdown = fmt_picker[0];\n",
       "\n",
       "    for (var ind in mpl.extensions) {\n",
       "        var fmt = mpl.extensions[ind];\n",
       "        var option = $(\n",
       "            '<option/>', {selected: fmt === mpl.default_extension}).html(fmt);\n",
       "        fmt_picker.append(option)\n",
       "    }\n",
       "\n",
       "    // Add hover states to the ui-buttons\n",
       "    $( \".ui-button\" ).hover(\n",
       "        function() { $(this).addClass(\"ui-state-hover\");},\n",
       "        function() { $(this).removeClass(\"ui-state-hover\");}\n",
       "    );\n",
       "\n",
       "    var status_bar = $('<span class=\"mpl-message\"/>');\n",
       "    nav_element.append(status_bar);\n",
       "    this.message = status_bar[0];\n",
       "}\n",
       "\n",
       "mpl.figure.prototype.request_resize = function(x_pixels, y_pixels) {\n",
       "    // Request matplotlib to resize the figure. Matplotlib will then trigger a resize in the client,\n",
       "    // which will in turn request a refresh of the image.\n",
       "    this.send_message('resize', {'width': x_pixels, 'height': y_pixels});\n",
       "}\n",
       "\n",
       "mpl.figure.prototype.send_message = function(type, properties) {\n",
       "    properties['type'] = type;\n",
       "    properties['figure_id'] = this.id;\n",
       "    this.ws.send(JSON.stringify(properties));\n",
       "}\n",
       "\n",
       "mpl.figure.prototype.send_draw_message = function() {\n",
       "    if (!this.waiting) {\n",
       "        this.waiting = true;\n",
       "        this.ws.send(JSON.stringify({type: \"draw\", figure_id: this.id}));\n",
       "    }\n",
       "}\n",
       "\n",
       "\n",
       "mpl.figure.prototype.handle_save = function(fig, msg) {\n",
       "    var format_dropdown = fig.format_dropdown;\n",
       "    var format = format_dropdown.options[format_dropdown.selectedIndex].value;\n",
       "    fig.ondownload(fig, format);\n",
       "}\n",
       "\n",
       "\n",
       "mpl.figure.prototype.handle_resize = function(fig, msg) {\n",
       "    var size = msg['size'];\n",
       "    if (size[0] != fig.canvas.width || size[1] != fig.canvas.height) {\n",
       "        fig._resize_canvas(size[0], size[1]);\n",
       "        fig.send_message(\"refresh\", {});\n",
       "    };\n",
       "}\n",
       "\n",
       "mpl.figure.prototype.handle_rubberband = function(fig, msg) {\n",
       "    var x0 = msg['x0'] / mpl.ratio;\n",
       "    var y0 = (fig.canvas.height - msg['y0']) / mpl.ratio;\n",
       "    var x1 = msg['x1'] / mpl.ratio;\n",
       "    var y1 = (fig.canvas.height - msg['y1']) / mpl.ratio;\n",
       "    x0 = Math.floor(x0) + 0.5;\n",
       "    y0 = Math.floor(y0) + 0.5;\n",
       "    x1 = Math.floor(x1) + 0.5;\n",
       "    y1 = Math.floor(y1) + 0.5;\n",
       "    var min_x = Math.min(x0, x1);\n",
       "    var min_y = Math.min(y0, y1);\n",
       "    var width = Math.abs(x1 - x0);\n",
       "    var height = Math.abs(y1 - y0);\n",
       "\n",
       "    fig.rubberband_context.clearRect(\n",
       "        0, 0, fig.canvas.width, fig.canvas.height);\n",
       "\n",
       "    fig.rubberband_context.strokeRect(min_x, min_y, width, height);\n",
       "}\n",
       "\n",
       "mpl.figure.prototype.handle_figure_label = function(fig, msg) {\n",
       "    // Updates the figure title.\n",
       "    fig.header.textContent = msg['label'];\n",
       "}\n",
       "\n",
       "mpl.figure.prototype.handle_cursor = function(fig, msg) {\n",
       "    var cursor = msg['cursor'];\n",
       "    switch(cursor)\n",
       "    {\n",
       "    case 0:\n",
       "        cursor = 'pointer';\n",
       "        break;\n",
       "    case 1:\n",
       "        cursor = 'default';\n",
       "        break;\n",
       "    case 2:\n",
       "        cursor = 'crosshair';\n",
       "        break;\n",
       "    case 3:\n",
       "        cursor = 'move';\n",
       "        break;\n",
       "    }\n",
       "    fig.rubberband_canvas.style.cursor = cursor;\n",
       "}\n",
       "\n",
       "mpl.figure.prototype.handle_message = function(fig, msg) {\n",
       "    fig.message.textContent = msg['message'];\n",
       "}\n",
       "\n",
       "mpl.figure.prototype.handle_draw = function(fig, msg) {\n",
       "    // Request the server to send over a new figure.\n",
       "    fig.send_draw_message();\n",
       "}\n",
       "\n",
       "mpl.figure.prototype.handle_image_mode = function(fig, msg) {\n",
       "    fig.image_mode = msg['mode'];\n",
       "}\n",
       "\n",
       "mpl.figure.prototype.updated_canvas_event = function() {\n",
       "    // Called whenever the canvas gets updated.\n",
       "    this.send_message(\"ack\", {});\n",
       "}\n",
       "\n",
       "// A function to construct a web socket function for onmessage handling.\n",
       "// Called in the figure constructor.\n",
       "mpl.figure.prototype._make_on_message_function = function(fig) {\n",
       "    return function socket_on_message(evt) {\n",
       "        if (evt.data instanceof Blob) {\n",
       "            /* FIXME: We get \"Resource interpreted as Image but\n",
       "             * transferred with MIME type text/plain:\" errors on\n",
       "             * Chrome.  But how to set the MIME type?  It doesn't seem\n",
       "             * to be part of the websocket stream */\n",
       "            evt.data.type = \"image/png\";\n",
       "\n",
       "            /* Free the memory for the previous frames */\n",
       "            if (fig.imageObj.src) {\n",
       "                (window.URL || window.webkitURL).revokeObjectURL(\n",
       "                    fig.imageObj.src);\n",
       "            }\n",
       "\n",
       "            fig.imageObj.src = (window.URL || window.webkitURL).createObjectURL(\n",
       "                evt.data);\n",
       "            fig.updated_canvas_event();\n",
       "            fig.waiting = false;\n",
       "            return;\n",
       "        }\n",
       "        else if (typeof evt.data === 'string' && evt.data.slice(0, 21) == \"data:image/png;base64\") {\n",
       "            fig.imageObj.src = evt.data;\n",
       "            fig.updated_canvas_event();\n",
       "            fig.waiting = false;\n",
       "            return;\n",
       "        }\n",
       "\n",
       "        var msg = JSON.parse(evt.data);\n",
       "        var msg_type = msg['type'];\n",
       "\n",
       "        // Call the  \"handle_{type}\" callback, which takes\n",
       "        // the figure and JSON message as its only arguments.\n",
       "        try {\n",
       "            var callback = fig[\"handle_\" + msg_type];\n",
       "        } catch (e) {\n",
       "            console.log(\"No handler for the '\" + msg_type + \"' message type: \", msg);\n",
       "            return;\n",
       "        }\n",
       "\n",
       "        if (callback) {\n",
       "            try {\n",
       "                // console.log(\"Handling '\" + msg_type + \"' message: \", msg);\n",
       "                callback(fig, msg);\n",
       "            } catch (e) {\n",
       "                console.log(\"Exception inside the 'handler_\" + msg_type + \"' callback:\", e, e.stack, msg);\n",
       "            }\n",
       "        }\n",
       "    };\n",
       "}\n",
       "\n",
       "// from http://stackoverflow.com/questions/1114465/getting-mouse-location-in-canvas\n",
       "mpl.findpos = function(e) {\n",
       "    //this section is from http://www.quirksmode.org/js/events_properties.html\n",
       "    var targ;\n",
       "    if (!e)\n",
       "        e = window.event;\n",
       "    if (e.target)\n",
       "        targ = e.target;\n",
       "    else if (e.srcElement)\n",
       "        targ = e.srcElement;\n",
       "    if (targ.nodeType == 3) // defeat Safari bug\n",
       "        targ = targ.parentNode;\n",
       "\n",
       "    // jQuery normalizes the pageX and pageY\n",
       "    // pageX,Y are the mouse positions relative to the document\n",
       "    // offset() returns the position of the element relative to the document\n",
       "    var x = e.pageX - $(targ).offset().left;\n",
       "    var y = e.pageY - $(targ).offset().top;\n",
       "\n",
       "    return {\"x\": x, \"y\": y};\n",
       "};\n",
       "\n",
       "/*\n",
       " * return a copy of an object with only non-object keys\n",
       " * we need this to avoid circular references\n",
       " * http://stackoverflow.com/a/24161582/3208463\n",
       " */\n",
       "function simpleKeys (original) {\n",
       "  return Object.keys(original).reduce(function (obj, key) {\n",
       "    if (typeof original[key] !== 'object')\n",
       "        obj[key] = original[key]\n",
       "    return obj;\n",
       "  }, {});\n",
       "}\n",
       "\n",
       "mpl.figure.prototype.mouse_event = function(event, name) {\n",
       "    var canvas_pos = mpl.findpos(event)\n",
       "\n",
       "    if (name === 'button_press')\n",
       "    {\n",
       "        this.canvas.focus();\n",
       "        this.canvas_div.focus();\n",
       "    }\n",
       "\n",
       "    var x = canvas_pos.x * mpl.ratio;\n",
       "    var y = canvas_pos.y * mpl.ratio;\n",
       "\n",
       "    this.send_message(name, {x: x, y: y, button: event.button,\n",
       "                             step: event.step,\n",
       "                             guiEvent: simpleKeys(event)});\n",
       "\n",
       "    /* This prevents the web browser from automatically changing to\n",
       "     * the text insertion cursor when the button is pressed.  We want\n",
       "     * to control all of the cursor setting manually through the\n",
       "     * 'cursor' event from matplotlib */\n",
       "    event.preventDefault();\n",
       "    return false;\n",
       "}\n",
       "\n",
       "mpl.figure.prototype._key_event_extra = function(event, name) {\n",
       "    // Handle any extra behaviour associated with a key event\n",
       "}\n",
       "\n",
       "mpl.figure.prototype.key_event = function(event, name) {\n",
       "\n",
       "    // Prevent repeat events\n",
       "    if (name == 'key_press')\n",
       "    {\n",
       "        if (event.which === this._key)\n",
       "            return;\n",
       "        else\n",
       "            this._key = event.which;\n",
       "    }\n",
       "    if (name == 'key_release')\n",
       "        this._key = null;\n",
       "\n",
       "    var value = '';\n",
       "    if (event.ctrlKey && event.which != 17)\n",
       "        value += \"ctrl+\";\n",
       "    if (event.altKey && event.which != 18)\n",
       "        value += \"alt+\";\n",
       "    if (event.shiftKey && event.which != 16)\n",
       "        value += \"shift+\";\n",
       "\n",
       "    value += 'k';\n",
       "    value += event.which.toString();\n",
       "\n",
       "    this._key_event_extra(event, name);\n",
       "\n",
       "    this.send_message(name, {key: value,\n",
       "                             guiEvent: simpleKeys(event)});\n",
       "    return false;\n",
       "}\n",
       "\n",
       "mpl.figure.prototype.toolbar_button_onclick = function(name) {\n",
       "    if (name == 'download') {\n",
       "        this.handle_save(this, null);\n",
       "    } else {\n",
       "        this.send_message(\"toolbar_button\", {name: name});\n",
       "    }\n",
       "};\n",
       "\n",
       "mpl.figure.prototype.toolbar_button_onmouseover = function(tooltip) {\n",
       "    this.message.textContent = tooltip;\n",
       "};\n",
       "mpl.toolbar_items = [[\"Home\", \"Reset original view\", \"fa fa-home icon-home\", \"home\"], [\"Back\", \"Back to  previous view\", \"fa fa-arrow-left icon-arrow-left\", \"back\"], [\"Forward\", \"Forward to next view\", \"fa fa-arrow-right icon-arrow-right\", \"forward\"], [\"\", \"\", \"\", \"\"], [\"Pan\", \"Pan axes with left mouse, zoom with right\", \"fa fa-arrows icon-move\", \"pan\"], [\"Zoom\", \"Zoom to rectangle\", \"fa fa-square-o icon-check-empty\", \"zoom\"], [\"\", \"\", \"\", \"\"], [\"Download\", \"Download plot\", \"fa fa-floppy-o icon-save\", \"download\"]];\n",
       "\n",
       "mpl.extensions = [\"eps\", \"pdf\", \"png\", \"ps\", \"raw\", \"svg\"];\n",
       "\n",
       "mpl.default_extension = \"png\";var comm_websocket_adapter = function(comm) {\n",
       "    // Create a \"websocket\"-like object which calls the given IPython comm\n",
       "    // object with the appropriate methods. Currently this is a non binary\n",
       "    // socket, so there is still some room for performance tuning.\n",
       "    var ws = {};\n",
       "\n",
       "    ws.close = function() {\n",
       "        comm.close()\n",
       "    };\n",
       "    ws.send = function(m) {\n",
       "        //console.log('sending', m);\n",
       "        comm.send(m);\n",
       "    };\n",
       "    // Register the callback with on_msg.\n",
       "    comm.on_msg(function(msg) {\n",
       "        //console.log('receiving', msg['content']['data'], msg);\n",
       "        // Pass the mpl event to the overriden (by mpl) onmessage function.\n",
       "        ws.onmessage(msg['content']['data'])\n",
       "    });\n",
       "    return ws;\n",
       "}\n",
       "\n",
       "mpl.mpl_figure_comm = function(comm, msg) {\n",
       "    // This is the function which gets called when the mpl process\n",
       "    // starts-up an IPython Comm through the \"matplotlib\" channel.\n",
       "\n",
       "    var id = msg.content.data.id;\n",
       "    // Get hold of the div created by the display call when the Comm\n",
       "    // socket was opened in Python.\n",
       "    var element = $(\"#\" + id);\n",
       "    var ws_proxy = comm_websocket_adapter(comm)\n",
       "\n",
       "    function ondownload(figure, format) {\n",
       "        window.open(figure.imageObj.src);\n",
       "    }\n",
       "\n",
       "    var fig = new mpl.figure(id, ws_proxy,\n",
       "                           ondownload,\n",
       "                           element.get(0));\n",
       "\n",
       "    // Call onopen now - mpl needs it, as it is assuming we've passed it a real\n",
       "    // web socket which is closed, not our websocket->open comm proxy.\n",
       "    ws_proxy.onopen();\n",
       "\n",
       "    fig.parent_element = element.get(0);\n",
       "    fig.cell_info = mpl.find_output_cell(\"<div id='\" + id + \"'></div>\");\n",
       "    if (!fig.cell_info) {\n",
       "        console.error(\"Failed to find cell for figure\", id, fig);\n",
       "        return;\n",
       "    }\n",
       "\n",
       "    var output_index = fig.cell_info[2]\n",
       "    var cell = fig.cell_info[0];\n",
       "\n",
       "};\n",
       "\n",
       "mpl.figure.prototype.handle_close = function(fig, msg) {\n",
       "    var width = fig.canvas.width/mpl.ratio\n",
       "    fig.root.unbind('remove')\n",
       "\n",
       "    // Update the output cell to use the data from the current canvas.\n",
       "    fig.push_to_output();\n",
       "    var dataURL = fig.canvas.toDataURL();\n",
       "    // Re-enable the keyboard manager in IPython - without this line, in FF,\n",
       "    // the notebook keyboard shortcuts fail.\n",
       "    IPython.keyboard_manager.enable()\n",
       "    $(fig.parent_element).html('<img src=\"' + dataURL + '\" width=\"' + width + '\">');\n",
       "    fig.close_ws(fig, msg);\n",
       "}\n",
       "\n",
       "mpl.figure.prototype.close_ws = function(fig, msg){\n",
       "    fig.send_message('closing', msg);\n",
       "    // fig.ws.close()\n",
       "}\n",
       "\n",
       "mpl.figure.prototype.push_to_output = function(remove_interactive) {\n",
       "    // Turn the data on the canvas into data in the output cell.\n",
       "    var width = this.canvas.width/mpl.ratio\n",
       "    var dataURL = this.canvas.toDataURL();\n",
       "    this.cell_info[1]['text/html'] = '<img src=\"' + dataURL + '\" width=\"' + width + '\">';\n",
       "}\n",
       "\n",
       "mpl.figure.prototype.updated_canvas_event = function() {\n",
       "    // Tell IPython that the notebook contents must change.\n",
       "    IPython.notebook.set_dirty(true);\n",
       "    this.send_message(\"ack\", {});\n",
       "    var fig = this;\n",
       "    // Wait a second, then push the new image to the DOM so\n",
       "    // that it is saved nicely (might be nice to debounce this).\n",
       "    setTimeout(function () { fig.push_to_output() }, 1000);\n",
       "}\n",
       "\n",
       "mpl.figure.prototype._init_toolbar = function() {\n",
       "    var fig = this;\n",
       "\n",
       "    var nav_element = $('<div/>')\n",
       "    nav_element.attr('style', 'width: 100%');\n",
       "    this.root.append(nav_element);\n",
       "\n",
       "    // Define a callback function for later on.\n",
       "    function toolbar_event(event) {\n",
       "        return fig.toolbar_button_onclick(event['data']);\n",
       "    }\n",
       "    function toolbar_mouse_event(event) {\n",
       "        return fig.toolbar_button_onmouseover(event['data']);\n",
       "    }\n",
       "\n",
       "    for(var toolbar_ind in mpl.toolbar_items){\n",
       "        var name = mpl.toolbar_items[toolbar_ind][0];\n",
       "        var tooltip = mpl.toolbar_items[toolbar_ind][1];\n",
       "        var image = mpl.toolbar_items[toolbar_ind][2];\n",
       "        var method_name = mpl.toolbar_items[toolbar_ind][3];\n",
       "\n",
       "        if (!name) { continue; };\n",
       "\n",
       "        var button = $('<button class=\"btn btn-default\" href=\"#\" title=\"' + name + '\"><i class=\"fa ' + image + ' fa-lg\"></i></button>');\n",
       "        button.click(method_name, toolbar_event);\n",
       "        button.mouseover(tooltip, toolbar_mouse_event);\n",
       "        nav_element.append(button);\n",
       "    }\n",
       "\n",
       "    // Add the status bar.\n",
       "    var status_bar = $('<span class=\"mpl-message\" style=\"text-align:right; float: right;\"/>');\n",
       "    nav_element.append(status_bar);\n",
       "    this.message = status_bar[0];\n",
       "\n",
       "    // Add the close button to the window.\n",
       "    var buttongrp = $('<div class=\"btn-group inline pull-right\"></div>');\n",
       "    var button = $('<button class=\"btn btn-mini btn-primary\" href=\"#\" title=\"Stop Interaction\"><i class=\"fa fa-power-off icon-remove icon-large\"></i></button>');\n",
       "    button.click(function (evt) { fig.handle_close(fig, {}); } );\n",
       "    button.mouseover('Stop Interaction', toolbar_mouse_event);\n",
       "    buttongrp.append(button);\n",
       "    var titlebar = this.root.find($('.ui-dialog-titlebar'));\n",
       "    titlebar.prepend(buttongrp);\n",
       "}\n",
       "\n",
       "mpl.figure.prototype._root_extra_style = function(el){\n",
       "    var fig = this\n",
       "    el.on(\"remove\", function(){\n",
       "\tfig.close_ws(fig, {});\n",
       "    });\n",
       "}\n",
       "\n",
       "mpl.figure.prototype._canvas_extra_style = function(el){\n",
       "    // this is important to make the div 'focusable\n",
       "    el.attr('tabindex', 0)\n",
       "    // reach out to IPython and tell the keyboard manager to turn it's self\n",
       "    // off when our div gets focus\n",
       "\n",
       "    // location in version 3\n",
       "    if (IPython.notebook.keyboard_manager) {\n",
       "        IPython.notebook.keyboard_manager.register_events(el);\n",
       "    }\n",
       "    else {\n",
       "        // location in version 2\n",
       "        IPython.keyboard_manager.register_events(el);\n",
       "    }\n",
       "\n",
       "}\n",
       "\n",
       "mpl.figure.prototype._key_event_extra = function(event, name) {\n",
       "    var manager = IPython.notebook.keyboard_manager;\n",
       "    if (!manager)\n",
       "        manager = IPython.keyboard_manager;\n",
       "\n",
       "    // Check for shift+enter\n",
       "    if (event.shiftKey && event.which == 13) {\n",
       "        this.canvas_div.blur();\n",
       "        // select the cell after this one\n",
       "        var index = IPython.notebook.find_cell_index(this.cell_info[0]);\n",
       "        IPython.notebook.select(index + 1);\n",
       "    }\n",
       "}\n",
       "\n",
       "mpl.figure.prototype.handle_save = function(fig, msg) {\n",
       "    fig.ondownload(fig, null);\n",
       "}\n",
       "\n",
       "\n",
       "mpl.find_output_cell = function(html_output) {\n",
       "    // Return the cell and output element which can be found *uniquely* in the notebook.\n",
       "    // Note - this is a bit hacky, but it is done because the \"notebook_saving.Notebook\"\n",
       "    // IPython event is triggered only after the cells have been serialised, which for\n",
       "    // our purposes (turning an active figure into a static one), is too late.\n",
       "    var cells = IPython.notebook.get_cells();\n",
       "    var ncells = cells.length;\n",
       "    for (var i=0; i<ncells; i++) {\n",
       "        var cell = cells[i];\n",
       "        if (cell.cell_type === 'code'){\n",
       "            for (var j=0; j<cell.output_area.outputs.length; j++) {\n",
       "                var data = cell.output_area.outputs[j];\n",
       "                if (data.data) {\n",
       "                    // IPython >= 3 moved mimebundle to data attribute of output\n",
       "                    data = data.data;\n",
       "                }\n",
       "                if (data['text/html'] == html_output) {\n",
       "                    return [cell, data, j];\n",
       "                }\n",
       "            }\n",
       "        }\n",
       "    }\n",
       "}\n",
       "\n",
       "// Register the function which deals with the matplotlib target/channel.\n",
       "// The kernel may be null if the page has been refreshed.\n",
       "if (IPython.notebook.kernel != null) {\n",
       "    IPython.notebook.kernel.comm_manager.register_target('matplotlib', mpl.mpl_figure_comm);\n",
       "}\n"
      ],
      "text/plain": [
       "<IPython.core.display.Javascript object>"
      ]
     },
     "metadata": {},
     "output_type": "display_data"
    },
    {
     "data": {
      "text/html": [
       "<img src=\"data:image/png;base64,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\" width=\"639.999990463257\">"
      ],
      "text/plain": [
       "<IPython.core.display.HTML object>"
      ]
     },
     "metadata": {},
     "output_type": "display_data"
    },
    {
     "data": {
      "application/vnd.jupyter.widget-view+json": {
       "model_id": "ff2aef77ef3b4bf884eb66f8765c2a5a",
       "version_major": 2,
       "version_minor": 0
      },
      "text/plain": [
       "A Jupyter Widget"
      ]
     },
     "metadata": {},
     "output_type": "display_data"
    },
    {
     "data": {
      "application/vnd.jupyter.widget-view+json": {
       "model_id": "dc41c6cf90c042f7bc8c5e58474e9879",
       "version_major": 2,
       "version_minor": 0
      },
      "text/plain": [
       "A Jupyter Widget"
      ]
     },
     "metadata": {},
     "output_type": "display_data"
    },
    {
     "data": {
      "application/vnd.jupyter.widget-view+json": {
       "model_id": "a18c5acd4e1947179763f3f97228141a",
       "version_major": 2,
       "version_minor": 0
      },
      "text/plain": [
       "A Jupyter Widget"
      ]
     },
     "metadata": {},
     "output_type": "display_data"
    },
    {
     "data": {
      "application/vnd.jupyter.widget-view+json": {
       "model_id": "87ddb0d4adb64c1786cb4bce46e999c5",
       "version_major": 2,
       "version_minor": 0
      },
      "text/plain": [
       "A Jupyter Widget"
      ]
     },
     "metadata": {},
     "output_type": "display_data"
    },
    {
     "data": {
      "application/vnd.jupyter.widget-view+json": {
       "model_id": "2ebdadd7c57d4cffa92848be36726363",
       "version_major": 2,
       "version_minor": 0
      },
      "text/plain": [
       "A Jupyter Widget"
      ]
     },
     "metadata": {},
     "output_type": "display_data"
    },
    {
     "data": {
      "application/vnd.jupyter.widget-view+json": {
       "model_id": "387910ed69a349128b837167691acf95",
       "version_major": 2,
       "version_minor": 0
      },
      "text/plain": [
       "A Jupyter Widget"
      ]
     },
     "metadata": {},
     "output_type": "display_data"
    }
   ],
   "source": [
    "f=ttt.plot(gui='jupyter',feature_field=None, clim=[0,1000])"
   ]
  },
  {
   "cell_type": "markdown",
   "metadata": {},
   "source": [
    "## Some more analyses\n",
    "We can sort the features based on abundance in a specific field/value group. For example, let's sort the features by their abundances in the individual \"M3\" and then look how abundant those bacteria are in the individual \"F4\":"
   ]
  },
  {
   "cell_type": "code",
   "execution_count": 31,
   "metadata": {
    "collapsed": true
   },
   "outputs": [],
   "source": [
    "tt = feces.sort_abundance({'HOST_SUBJECT_ID': ['M3']})"
   ]
  },
  {
   "cell_type": "code",
   "execution_count": 32,
   "metadata": {},
   "outputs": [
    {
     "data": {
      "application/javascript": [
       "/* Put everything inside the global mpl namespace */\n",
       "window.mpl = {};\n",
       "\n",
       "\n",
       "mpl.get_websocket_type = function() {\n",
       "    if (typeof(WebSocket) !== 'undefined') {\n",
       "        return WebSocket;\n",
       "    } else if (typeof(MozWebSocket) !== 'undefined') {\n",
       "        return MozWebSocket;\n",
       "    } else {\n",
       "        alert('Your browser does not have WebSocket support.' +\n",
       "              'Please try Chrome, Safari or Firefox ≥ 6. ' +\n",
       "              'Firefox 4 and 5 are also supported but you ' +\n",
       "              'have to enable WebSockets in about:config.');\n",
       "    };\n",
       "}\n",
       "\n",
       "mpl.figure = function(figure_id, websocket, ondownload, parent_element) {\n",
       "    this.id = figure_id;\n",
       "\n",
       "    this.ws = websocket;\n",
       "\n",
       "    this.supports_binary = (this.ws.binaryType != undefined);\n",
       "\n",
       "    if (!this.supports_binary) {\n",
       "        var warnings = document.getElementById(\"mpl-warnings\");\n",
       "        if (warnings) {\n",
       "            warnings.style.display = 'block';\n",
       "            warnings.textContent = (\n",
       "                \"This browser does not support binary websocket messages. \" +\n",
       "                    \"Performance may be slow.\");\n",
       "        }\n",
       "    }\n",
       "\n",
       "    this.imageObj = new Image();\n",
       "\n",
       "    this.context = undefined;\n",
       "    this.message = undefined;\n",
       "    this.canvas = undefined;\n",
       "    this.rubberband_canvas = undefined;\n",
       "    this.rubberband_context = undefined;\n",
       "    this.format_dropdown = undefined;\n",
       "\n",
       "    this.image_mode = 'full';\n",
       "\n",
       "    this.root = $('<div/>');\n",
       "    this._root_extra_style(this.root)\n",
       "    this.root.attr('style', 'display: inline-block');\n",
       "\n",
       "    $(parent_element).append(this.root);\n",
       "\n",
       "    this._init_header(this);\n",
       "    this._init_canvas(this);\n",
       "    this._init_toolbar(this);\n",
       "\n",
       "    var fig = this;\n",
       "\n",
       "    this.waiting = false;\n",
       "\n",
       "    this.ws.onopen =  function () {\n",
       "            fig.send_message(\"supports_binary\", {value: fig.supports_binary});\n",
       "            fig.send_message(\"send_image_mode\", {});\n",
       "            if (mpl.ratio != 1) {\n",
       "                fig.send_message(\"set_dpi_ratio\", {'dpi_ratio': mpl.ratio});\n",
       "            }\n",
       "            fig.send_message(\"refresh\", {});\n",
       "        }\n",
       "\n",
       "    this.imageObj.onload = function() {\n",
       "            if (fig.image_mode == 'full') {\n",
       "                // Full images could contain transparency (where diff images\n",
       "                // almost always do), so we need to clear the canvas so that\n",
       "                // there is no ghosting.\n",
       "                fig.context.clearRect(0, 0, fig.canvas.width, fig.canvas.height);\n",
       "            }\n",
       "            fig.context.drawImage(fig.imageObj, 0, 0);\n",
       "        };\n",
       "\n",
       "    this.imageObj.onunload = function() {\n",
       "        this.ws.close();\n",
       "    }\n",
       "\n",
       "    this.ws.onmessage = this._make_on_message_function(this);\n",
       "\n",
       "    this.ondownload = ondownload;\n",
       "}\n",
       "\n",
       "mpl.figure.prototype._init_header = function() {\n",
       "    var titlebar = $(\n",
       "        '<div class=\"ui-dialog-titlebar ui-widget-header ui-corner-all ' +\n",
       "        'ui-helper-clearfix\"/>');\n",
       "    var titletext = $(\n",
       "        '<div class=\"ui-dialog-title\" style=\"width: 100%; ' +\n",
       "        'text-align: center; padding: 3px;\"/>');\n",
       "    titlebar.append(titletext)\n",
       "    this.root.append(titlebar);\n",
       "    this.header = titletext[0];\n",
       "}\n",
       "\n",
       "\n",
       "\n",
       "mpl.figure.prototype._canvas_extra_style = function(canvas_div) {\n",
       "\n",
       "}\n",
       "\n",
       "\n",
       "mpl.figure.prototype._root_extra_style = function(canvas_div) {\n",
       "\n",
       "}\n",
       "\n",
       "mpl.figure.prototype._init_canvas = function() {\n",
       "    var fig = this;\n",
       "\n",
       "    var canvas_div = $('<div/>');\n",
       "\n",
       "    canvas_div.attr('style', 'position: relative; clear: both; outline: 0');\n",
       "\n",
       "    function canvas_keyboard_event(event) {\n",
       "        return fig.key_event(event, event['data']);\n",
       "    }\n",
       "\n",
       "    canvas_div.keydown('key_press', canvas_keyboard_event);\n",
       "    canvas_div.keyup('key_release', canvas_keyboard_event);\n",
       "    this.canvas_div = canvas_div\n",
       "    this._canvas_extra_style(canvas_div)\n",
       "    this.root.append(canvas_div);\n",
       "\n",
       "    var canvas = $('<canvas/>');\n",
       "    canvas.addClass('mpl-canvas');\n",
       "    canvas.attr('style', \"left: 0; top: 0; z-index: 0; outline: 0\")\n",
       "\n",
       "    this.canvas = canvas[0];\n",
       "    this.context = canvas[0].getContext(\"2d\");\n",
       "\n",
       "    var backingStore = this.context.backingStorePixelRatio ||\n",
       "\tthis.context.webkitBackingStorePixelRatio ||\n",
       "\tthis.context.mozBackingStorePixelRatio ||\n",
       "\tthis.context.msBackingStorePixelRatio ||\n",
       "\tthis.context.oBackingStorePixelRatio ||\n",
       "\tthis.context.backingStorePixelRatio || 1;\n",
       "\n",
       "    mpl.ratio = (window.devicePixelRatio || 1) / backingStore;\n",
       "\n",
       "    var rubberband = $('<canvas/>');\n",
       "    rubberband.attr('style', \"position: absolute; left: 0; top: 0; z-index: 1;\")\n",
       "\n",
       "    var pass_mouse_events = true;\n",
       "\n",
       "    canvas_div.resizable({\n",
       "        start: function(event, ui) {\n",
       "            pass_mouse_events = false;\n",
       "        },\n",
       "        resize: function(event, ui) {\n",
       "            fig.request_resize(ui.size.width, ui.size.height);\n",
       "        },\n",
       "        stop: function(event, ui) {\n",
       "            pass_mouse_events = true;\n",
       "            fig.request_resize(ui.size.width, ui.size.height);\n",
       "        },\n",
       "    });\n",
       "\n",
       "    function mouse_event_fn(event) {\n",
       "        if (pass_mouse_events)\n",
       "            return fig.mouse_event(event, event['data']);\n",
       "    }\n",
       "\n",
       "    rubberband.mousedown('button_press', mouse_event_fn);\n",
       "    rubberband.mouseup('button_release', mouse_event_fn);\n",
       "    // Throttle sequential mouse events to 1 every 20ms.\n",
       "    rubberband.mousemove('motion_notify', mouse_event_fn);\n",
       "\n",
       "    rubberband.mouseenter('figure_enter', mouse_event_fn);\n",
       "    rubberband.mouseleave('figure_leave', mouse_event_fn);\n",
       "\n",
       "    canvas_div.on(\"wheel\", function (event) {\n",
       "        event = event.originalEvent;\n",
       "        event['data'] = 'scroll'\n",
       "        if (event.deltaY < 0) {\n",
       "            event.step = 1;\n",
       "        } else {\n",
       "            event.step = -1;\n",
       "        }\n",
       "        mouse_event_fn(event);\n",
       "    });\n",
       "\n",
       "    canvas_div.append(canvas);\n",
       "    canvas_div.append(rubberband);\n",
       "\n",
       "    this.rubberband = rubberband;\n",
       "    this.rubberband_canvas = rubberband[0];\n",
       "    this.rubberband_context = rubberband[0].getContext(\"2d\");\n",
       "    this.rubberband_context.strokeStyle = \"#000000\";\n",
       "\n",
       "    this._resize_canvas = function(width, height) {\n",
       "        // Keep the size of the canvas, canvas container, and rubber band\n",
       "        // canvas in synch.\n",
       "        canvas_div.css('width', width)\n",
       "        canvas_div.css('height', height)\n",
       "\n",
       "        canvas.attr('width', width * mpl.ratio);\n",
       "        canvas.attr('height', height * mpl.ratio);\n",
       "        canvas.attr('style', 'width: ' + width + 'px; height: ' + height + 'px;');\n",
       "\n",
       "        rubberband.attr('width', width);\n",
       "        rubberband.attr('height', height);\n",
       "    }\n",
       "\n",
       "    // Set the figure to an initial 600x600px, this will subsequently be updated\n",
       "    // upon first draw.\n",
       "    this._resize_canvas(600, 600);\n",
       "\n",
       "    // Disable right mouse context menu.\n",
       "    $(this.rubberband_canvas).bind(\"contextmenu\",function(e){\n",
       "        return false;\n",
       "    });\n",
       "\n",
       "    function set_focus () {\n",
       "        canvas.focus();\n",
       "        canvas_div.focus();\n",
       "    }\n",
       "\n",
       "    window.setTimeout(set_focus, 100);\n",
       "}\n",
       "\n",
       "mpl.figure.prototype._init_toolbar = function() {\n",
       "    var fig = this;\n",
       "\n",
       "    var nav_element = $('<div/>')\n",
       "    nav_element.attr('style', 'width: 100%');\n",
       "    this.root.append(nav_element);\n",
       "\n",
       "    // Define a callback function for later on.\n",
       "    function toolbar_event(event) {\n",
       "        return fig.toolbar_button_onclick(event['data']);\n",
       "    }\n",
       "    function toolbar_mouse_event(event) {\n",
       "        return fig.toolbar_button_onmouseover(event['data']);\n",
       "    }\n",
       "\n",
       "    for(var toolbar_ind in mpl.toolbar_items) {\n",
       "        var name = mpl.toolbar_items[toolbar_ind][0];\n",
       "        var tooltip = mpl.toolbar_items[toolbar_ind][1];\n",
       "        var image = mpl.toolbar_items[toolbar_ind][2];\n",
       "        var method_name = mpl.toolbar_items[toolbar_ind][3];\n",
       "\n",
       "        if (!name) {\n",
       "            // put a spacer in here.\n",
       "            continue;\n",
       "        }\n",
       "        var button = $('<button/>');\n",
       "        button.addClass('ui-button ui-widget ui-state-default ui-corner-all ' +\n",
       "                        'ui-button-icon-only');\n",
       "        button.attr('role', 'button');\n",
       "        button.attr('aria-disabled', 'false');\n",
       "        button.click(method_name, toolbar_event);\n",
       "        button.mouseover(tooltip, toolbar_mouse_event);\n",
       "\n",
       "        var icon_img = $('<span/>');\n",
       "        icon_img.addClass('ui-button-icon-primary ui-icon');\n",
       "        icon_img.addClass(image);\n",
       "        icon_img.addClass('ui-corner-all');\n",
       "\n",
       "        var tooltip_span = $('<span/>');\n",
       "        tooltip_span.addClass('ui-button-text');\n",
       "        tooltip_span.html(tooltip);\n",
       "\n",
       "        button.append(icon_img);\n",
       "        button.append(tooltip_span);\n",
       "\n",
       "        nav_element.append(button);\n",
       "    }\n",
       "\n",
       "    var fmt_picker_span = $('<span/>');\n",
       "\n",
       "    var fmt_picker = $('<select/>');\n",
       "    fmt_picker.addClass('mpl-toolbar-option ui-widget ui-widget-content');\n",
       "    fmt_picker_span.append(fmt_picker);\n",
       "    nav_element.append(fmt_picker_span);\n",
       "    this.format_dropdown = fmt_picker[0];\n",
       "\n",
       "    for (var ind in mpl.extensions) {\n",
       "        var fmt = mpl.extensions[ind];\n",
       "        var option = $(\n",
       "            '<option/>', {selected: fmt === mpl.default_extension}).html(fmt);\n",
       "        fmt_picker.append(option)\n",
       "    }\n",
       "\n",
       "    // Add hover states to the ui-buttons\n",
       "    $( \".ui-button\" ).hover(\n",
       "        function() { $(this).addClass(\"ui-state-hover\");},\n",
       "        function() { $(this).removeClass(\"ui-state-hover\");}\n",
       "    );\n",
       "\n",
       "    var status_bar = $('<span class=\"mpl-message\"/>');\n",
       "    nav_element.append(status_bar);\n",
       "    this.message = status_bar[0];\n",
       "}\n",
       "\n",
       "mpl.figure.prototype.request_resize = function(x_pixels, y_pixels) {\n",
       "    // Request matplotlib to resize the figure. Matplotlib will then trigger a resize in the client,\n",
       "    // which will in turn request a refresh of the image.\n",
       "    this.send_message('resize', {'width': x_pixels, 'height': y_pixels});\n",
       "}\n",
       "\n",
       "mpl.figure.prototype.send_message = function(type, properties) {\n",
       "    properties['type'] = type;\n",
       "    properties['figure_id'] = this.id;\n",
       "    this.ws.send(JSON.stringify(properties));\n",
       "}\n",
       "\n",
       "mpl.figure.prototype.send_draw_message = function() {\n",
       "    if (!this.waiting) {\n",
       "        this.waiting = true;\n",
       "        this.ws.send(JSON.stringify({type: \"draw\", figure_id: this.id}));\n",
       "    }\n",
       "}\n",
       "\n",
       "\n",
       "mpl.figure.prototype.handle_save = function(fig, msg) {\n",
       "    var format_dropdown = fig.format_dropdown;\n",
       "    var format = format_dropdown.options[format_dropdown.selectedIndex].value;\n",
       "    fig.ondownload(fig, format);\n",
       "}\n",
       "\n",
       "\n",
       "mpl.figure.prototype.handle_resize = function(fig, msg) {\n",
       "    var size = msg['size'];\n",
       "    if (size[0] != fig.canvas.width || size[1] != fig.canvas.height) {\n",
       "        fig._resize_canvas(size[0], size[1]);\n",
       "        fig.send_message(\"refresh\", {});\n",
       "    };\n",
       "}\n",
       "\n",
       "mpl.figure.prototype.handle_rubberband = function(fig, msg) {\n",
       "    var x0 = msg['x0'] / mpl.ratio;\n",
       "    var y0 = (fig.canvas.height - msg['y0']) / mpl.ratio;\n",
       "    var x1 = msg['x1'] / mpl.ratio;\n",
       "    var y1 = (fig.canvas.height - msg['y1']) / mpl.ratio;\n",
       "    x0 = Math.floor(x0) + 0.5;\n",
       "    y0 = Math.floor(y0) + 0.5;\n",
       "    x1 = Math.floor(x1) + 0.5;\n",
       "    y1 = Math.floor(y1) + 0.5;\n",
       "    var min_x = Math.min(x0, x1);\n",
       "    var min_y = Math.min(y0, y1);\n",
       "    var width = Math.abs(x1 - x0);\n",
       "    var height = Math.abs(y1 - y0);\n",
       "\n",
       "    fig.rubberband_context.clearRect(\n",
       "        0, 0, fig.canvas.width, fig.canvas.height);\n",
       "\n",
       "    fig.rubberband_context.strokeRect(min_x, min_y, width, height);\n",
       "}\n",
       "\n",
       "mpl.figure.prototype.handle_figure_label = function(fig, msg) {\n",
       "    // Updates the figure title.\n",
       "    fig.header.textContent = msg['label'];\n",
       "}\n",
       "\n",
       "mpl.figure.prototype.handle_cursor = function(fig, msg) {\n",
       "    var cursor = msg['cursor'];\n",
       "    switch(cursor)\n",
       "    {\n",
       "    case 0:\n",
       "        cursor = 'pointer';\n",
       "        break;\n",
       "    case 1:\n",
       "        cursor = 'default';\n",
       "        break;\n",
       "    case 2:\n",
       "        cursor = 'crosshair';\n",
       "        break;\n",
       "    case 3:\n",
       "        cursor = 'move';\n",
       "        break;\n",
       "    }\n",
       "    fig.rubberband_canvas.style.cursor = cursor;\n",
       "}\n",
       "\n",
       "mpl.figure.prototype.handle_message = function(fig, msg) {\n",
       "    fig.message.textContent = msg['message'];\n",
       "}\n",
       "\n",
       "mpl.figure.prototype.handle_draw = function(fig, msg) {\n",
       "    // Request the server to send over a new figure.\n",
       "    fig.send_draw_message();\n",
       "}\n",
       "\n",
       "mpl.figure.prototype.handle_image_mode = function(fig, msg) {\n",
       "    fig.image_mode = msg['mode'];\n",
       "}\n",
       "\n",
       "mpl.figure.prototype.updated_canvas_event = function() {\n",
       "    // Called whenever the canvas gets updated.\n",
       "    this.send_message(\"ack\", {});\n",
       "}\n",
       "\n",
       "// A function to construct a web socket function for onmessage handling.\n",
       "// Called in the figure constructor.\n",
       "mpl.figure.prototype._make_on_message_function = function(fig) {\n",
       "    return function socket_on_message(evt) {\n",
       "        if (evt.data instanceof Blob) {\n",
       "            /* FIXME: We get \"Resource interpreted as Image but\n",
       "             * transferred with MIME type text/plain:\" errors on\n",
       "             * Chrome.  But how to set the MIME type?  It doesn't seem\n",
       "             * to be part of the websocket stream */\n",
       "            evt.data.type = \"image/png\";\n",
       "\n",
       "            /* Free the memory for the previous frames */\n",
       "            if (fig.imageObj.src) {\n",
       "                (window.URL || window.webkitURL).revokeObjectURL(\n",
       "                    fig.imageObj.src);\n",
       "            }\n",
       "\n",
       "            fig.imageObj.src = (window.URL || window.webkitURL).createObjectURL(\n",
       "                evt.data);\n",
       "            fig.updated_canvas_event();\n",
       "            fig.waiting = false;\n",
       "            return;\n",
       "        }\n",
       "        else if (typeof evt.data === 'string' && evt.data.slice(0, 21) == \"data:image/png;base64\") {\n",
       "            fig.imageObj.src = evt.data;\n",
       "            fig.updated_canvas_event();\n",
       "            fig.waiting = false;\n",
       "            return;\n",
       "        }\n",
       "\n",
       "        var msg = JSON.parse(evt.data);\n",
       "        var msg_type = msg['type'];\n",
       "\n",
       "        // Call the  \"handle_{type}\" callback, which takes\n",
       "        // the figure and JSON message as its only arguments.\n",
       "        try {\n",
       "            var callback = fig[\"handle_\" + msg_type];\n",
       "        } catch (e) {\n",
       "            console.log(\"No handler for the '\" + msg_type + \"' message type: \", msg);\n",
       "            return;\n",
       "        }\n",
       "\n",
       "        if (callback) {\n",
       "            try {\n",
       "                // console.log(\"Handling '\" + msg_type + \"' message: \", msg);\n",
       "                callback(fig, msg);\n",
       "            } catch (e) {\n",
       "                console.log(\"Exception inside the 'handler_\" + msg_type + \"' callback:\", e, e.stack, msg);\n",
       "            }\n",
       "        }\n",
       "    };\n",
       "}\n",
       "\n",
       "// from http://stackoverflow.com/questions/1114465/getting-mouse-location-in-canvas\n",
       "mpl.findpos = function(e) {\n",
       "    //this section is from http://www.quirksmode.org/js/events_properties.html\n",
       "    var targ;\n",
       "    if (!e)\n",
       "        e = window.event;\n",
       "    if (e.target)\n",
       "        targ = e.target;\n",
       "    else if (e.srcElement)\n",
       "        targ = e.srcElement;\n",
       "    if (targ.nodeType == 3) // defeat Safari bug\n",
       "        targ = targ.parentNode;\n",
       "\n",
       "    // jQuery normalizes the pageX and pageY\n",
       "    // pageX,Y are the mouse positions relative to the document\n",
       "    // offset() returns the position of the element relative to the document\n",
       "    var x = e.pageX - $(targ).offset().left;\n",
       "    var y = e.pageY - $(targ).offset().top;\n",
       "\n",
       "    return {\"x\": x, \"y\": y};\n",
       "};\n",
       "\n",
       "/*\n",
       " * return a copy of an object with only non-object keys\n",
       " * we need this to avoid circular references\n",
       " * http://stackoverflow.com/a/24161582/3208463\n",
       " */\n",
       "function simpleKeys (original) {\n",
       "  return Object.keys(original).reduce(function (obj, key) {\n",
       "    if (typeof original[key] !== 'object')\n",
       "        obj[key] = original[key]\n",
       "    return obj;\n",
       "  }, {});\n",
       "}\n",
       "\n",
       "mpl.figure.prototype.mouse_event = function(event, name) {\n",
       "    var canvas_pos = mpl.findpos(event)\n",
       "\n",
       "    if (name === 'button_press')\n",
       "    {\n",
       "        this.canvas.focus();\n",
       "        this.canvas_div.focus();\n",
       "    }\n",
       "\n",
       "    var x = canvas_pos.x * mpl.ratio;\n",
       "    var y = canvas_pos.y * mpl.ratio;\n",
       "\n",
       "    this.send_message(name, {x: x, y: y, button: event.button,\n",
       "                             step: event.step,\n",
       "                             guiEvent: simpleKeys(event)});\n",
       "\n",
       "    /* This prevents the web browser from automatically changing to\n",
       "     * the text insertion cursor when the button is pressed.  We want\n",
       "     * to control all of the cursor setting manually through the\n",
       "     * 'cursor' event from matplotlib */\n",
       "    event.preventDefault();\n",
       "    return false;\n",
       "}\n",
       "\n",
       "mpl.figure.prototype._key_event_extra = function(event, name) {\n",
       "    // Handle any extra behaviour associated with a key event\n",
       "}\n",
       "\n",
       "mpl.figure.prototype.key_event = function(event, name) {\n",
       "\n",
       "    // Prevent repeat events\n",
       "    if (name == 'key_press')\n",
       "    {\n",
       "        if (event.which === this._key)\n",
       "            return;\n",
       "        else\n",
       "            this._key = event.which;\n",
       "    }\n",
       "    if (name == 'key_release')\n",
       "        this._key = null;\n",
       "\n",
       "    var value = '';\n",
       "    if (event.ctrlKey && event.which != 17)\n",
       "        value += \"ctrl+\";\n",
       "    if (event.altKey && event.which != 18)\n",
       "        value += \"alt+\";\n",
       "    if (event.shiftKey && event.which != 16)\n",
       "        value += \"shift+\";\n",
       "\n",
       "    value += 'k';\n",
       "    value += event.which.toString();\n",
       "\n",
       "    this._key_event_extra(event, name);\n",
       "\n",
       "    this.send_message(name, {key: value,\n",
       "                             guiEvent: simpleKeys(event)});\n",
       "    return false;\n",
       "}\n",
       "\n",
       "mpl.figure.prototype.toolbar_button_onclick = function(name) {\n",
       "    if (name == 'download') {\n",
       "        this.handle_save(this, null);\n",
       "    } else {\n",
       "        this.send_message(\"toolbar_button\", {name: name});\n",
       "    }\n",
       "};\n",
       "\n",
       "mpl.figure.prototype.toolbar_button_onmouseover = function(tooltip) {\n",
       "    this.message.textContent = tooltip;\n",
       "};\n",
       "mpl.toolbar_items = [[\"Home\", \"Reset original view\", \"fa fa-home icon-home\", \"home\"], [\"Back\", \"Back to  previous view\", \"fa fa-arrow-left icon-arrow-left\", \"back\"], [\"Forward\", \"Forward to next view\", \"fa fa-arrow-right icon-arrow-right\", \"forward\"], [\"\", \"\", \"\", \"\"], [\"Pan\", \"Pan axes with left mouse, zoom with right\", \"fa fa-arrows icon-move\", \"pan\"], [\"Zoom\", \"Zoom to rectangle\", \"fa fa-square-o icon-check-empty\", \"zoom\"], [\"\", \"\", \"\", \"\"], [\"Download\", \"Download plot\", \"fa fa-floppy-o icon-save\", \"download\"]];\n",
       "\n",
       "mpl.extensions = [\"eps\", \"pdf\", \"png\", \"ps\", \"raw\", \"svg\"];\n",
       "\n",
       "mpl.default_extension = \"png\";var comm_websocket_adapter = function(comm) {\n",
       "    // Create a \"websocket\"-like object which calls the given IPython comm\n",
       "    // object with the appropriate methods. Currently this is a non binary\n",
       "    // socket, so there is still some room for performance tuning.\n",
       "    var ws = {};\n",
       "\n",
       "    ws.close = function() {\n",
       "        comm.close()\n",
       "    };\n",
       "    ws.send = function(m) {\n",
       "        //console.log('sending', m);\n",
       "        comm.send(m);\n",
       "    };\n",
       "    // Register the callback with on_msg.\n",
       "    comm.on_msg(function(msg) {\n",
       "        //console.log('receiving', msg['content']['data'], msg);\n",
       "        // Pass the mpl event to the overriden (by mpl) onmessage function.\n",
       "        ws.onmessage(msg['content']['data'])\n",
       "    });\n",
       "    return ws;\n",
       "}\n",
       "\n",
       "mpl.mpl_figure_comm = function(comm, msg) {\n",
       "    // This is the function which gets called when the mpl process\n",
       "    // starts-up an IPython Comm through the \"matplotlib\" channel.\n",
       "\n",
       "    var id = msg.content.data.id;\n",
       "    // Get hold of the div created by the display call when the Comm\n",
       "    // socket was opened in Python.\n",
       "    var element = $(\"#\" + id);\n",
       "    var ws_proxy = comm_websocket_adapter(comm)\n",
       "\n",
       "    function ondownload(figure, format) {\n",
       "        window.open(figure.imageObj.src);\n",
       "    }\n",
       "\n",
       "    var fig = new mpl.figure(id, ws_proxy,\n",
       "                           ondownload,\n",
       "                           element.get(0));\n",
       "\n",
       "    // Call onopen now - mpl needs it, as it is assuming we've passed it a real\n",
       "    // web socket which is closed, not our websocket->open comm proxy.\n",
       "    ws_proxy.onopen();\n",
       "\n",
       "    fig.parent_element = element.get(0);\n",
       "    fig.cell_info = mpl.find_output_cell(\"<div id='\" + id + \"'></div>\");\n",
       "    if (!fig.cell_info) {\n",
       "        console.error(\"Failed to find cell for figure\", id, fig);\n",
       "        return;\n",
       "    }\n",
       "\n",
       "    var output_index = fig.cell_info[2]\n",
       "    var cell = fig.cell_info[0];\n",
       "\n",
       "};\n",
       "\n",
       "mpl.figure.prototype.handle_close = function(fig, msg) {\n",
       "    var width = fig.canvas.width/mpl.ratio\n",
       "    fig.root.unbind('remove')\n",
       "\n",
       "    // Update the output cell to use the data from the current canvas.\n",
       "    fig.push_to_output();\n",
       "    var dataURL = fig.canvas.toDataURL();\n",
       "    // Re-enable the keyboard manager in IPython - without this line, in FF,\n",
       "    // the notebook keyboard shortcuts fail.\n",
       "    IPython.keyboard_manager.enable()\n",
       "    $(fig.parent_element).html('<img src=\"' + dataURL + '\" width=\"' + width + '\">');\n",
       "    fig.close_ws(fig, msg);\n",
       "}\n",
       "\n",
       "mpl.figure.prototype.close_ws = function(fig, msg){\n",
       "    fig.send_message('closing', msg);\n",
       "    // fig.ws.close()\n",
       "}\n",
       "\n",
       "mpl.figure.prototype.push_to_output = function(remove_interactive) {\n",
       "    // Turn the data on the canvas into data in the output cell.\n",
       "    var width = this.canvas.width/mpl.ratio\n",
       "    var dataURL = this.canvas.toDataURL();\n",
       "    this.cell_info[1]['text/html'] = '<img src=\"' + dataURL + '\" width=\"' + width + '\">';\n",
       "}\n",
       "\n",
       "mpl.figure.prototype.updated_canvas_event = function() {\n",
       "    // Tell IPython that the notebook contents must change.\n",
       "    IPython.notebook.set_dirty(true);\n",
       "    this.send_message(\"ack\", {});\n",
       "    var fig = this;\n",
       "    // Wait a second, then push the new image to the DOM so\n",
       "    // that it is saved nicely (might be nice to debounce this).\n",
       "    setTimeout(function () { fig.push_to_output() }, 1000);\n",
       "}\n",
       "\n",
       "mpl.figure.prototype._init_toolbar = function() {\n",
       "    var fig = this;\n",
       "\n",
       "    var nav_element = $('<div/>')\n",
       "    nav_element.attr('style', 'width: 100%');\n",
       "    this.root.append(nav_element);\n",
       "\n",
       "    // Define a callback function for later on.\n",
       "    function toolbar_event(event) {\n",
       "        return fig.toolbar_button_onclick(event['data']);\n",
       "    }\n",
       "    function toolbar_mouse_event(event) {\n",
       "        return fig.toolbar_button_onmouseover(event['data']);\n",
       "    }\n",
       "\n",
       "    for(var toolbar_ind in mpl.toolbar_items){\n",
       "        var name = mpl.toolbar_items[toolbar_ind][0];\n",
       "        var tooltip = mpl.toolbar_items[toolbar_ind][1];\n",
       "        var image = mpl.toolbar_items[toolbar_ind][2];\n",
       "        var method_name = mpl.toolbar_items[toolbar_ind][3];\n",
       "\n",
       "        if (!name) { continue; };\n",
       "\n",
       "        var button = $('<button class=\"btn btn-default\" href=\"#\" title=\"' + name + '\"><i class=\"fa ' + image + ' fa-lg\"></i></button>');\n",
       "        button.click(method_name, toolbar_event);\n",
       "        button.mouseover(tooltip, toolbar_mouse_event);\n",
       "        nav_element.append(button);\n",
       "    }\n",
       "\n",
       "    // Add the status bar.\n",
       "    var status_bar = $('<span class=\"mpl-message\" style=\"text-align:right; float: right;\"/>');\n",
       "    nav_element.append(status_bar);\n",
       "    this.message = status_bar[0];\n",
       "\n",
       "    // Add the close button to the window.\n",
       "    var buttongrp = $('<div class=\"btn-group inline pull-right\"></div>');\n",
       "    var button = $('<button class=\"btn btn-mini btn-primary\" href=\"#\" title=\"Stop Interaction\"><i class=\"fa fa-power-off icon-remove icon-large\"></i></button>');\n",
       "    button.click(function (evt) { fig.handle_close(fig, {}); } );\n",
       "    button.mouseover('Stop Interaction', toolbar_mouse_event);\n",
       "    buttongrp.append(button);\n",
       "    var titlebar = this.root.find($('.ui-dialog-titlebar'));\n",
       "    titlebar.prepend(buttongrp);\n",
       "}\n",
       "\n",
       "mpl.figure.prototype._root_extra_style = function(el){\n",
       "    var fig = this\n",
       "    el.on(\"remove\", function(){\n",
       "\tfig.close_ws(fig, {});\n",
       "    });\n",
       "}\n",
       "\n",
       "mpl.figure.prototype._canvas_extra_style = function(el){\n",
       "    // this is important to make the div 'focusable\n",
       "    el.attr('tabindex', 0)\n",
       "    // reach out to IPython and tell the keyboard manager to turn it's self\n",
       "    // off when our div gets focus\n",
       "\n",
       "    // location in version 3\n",
       "    if (IPython.notebook.keyboard_manager) {\n",
       "        IPython.notebook.keyboard_manager.register_events(el);\n",
       "    }\n",
       "    else {\n",
       "        // location in version 2\n",
       "        IPython.keyboard_manager.register_events(el);\n",
       "    }\n",
       "\n",
       "}\n",
       "\n",
       "mpl.figure.prototype._key_event_extra = function(event, name) {\n",
       "    var manager = IPython.notebook.keyboard_manager;\n",
       "    if (!manager)\n",
       "        manager = IPython.keyboard_manager;\n",
       "\n",
       "    // Check for shift+enter\n",
       "    if (event.shiftKey && event.which == 13) {\n",
       "        this.canvas_div.blur();\n",
       "        // select the cell after this one\n",
       "        var index = IPython.notebook.find_cell_index(this.cell_info[0]);\n",
       "        IPython.notebook.select(index + 1);\n",
       "    }\n",
       "}\n",
       "\n",
       "mpl.figure.prototype.handle_save = function(fig, msg) {\n",
       "    fig.ondownload(fig, null);\n",
       "}\n",
       "\n",
       "\n",
       "mpl.find_output_cell = function(html_output) {\n",
       "    // Return the cell and output element which can be found *uniquely* in the notebook.\n",
       "    // Note - this is a bit hacky, but it is done because the \"notebook_saving.Notebook\"\n",
       "    // IPython event is triggered only after the cells have been serialised, which for\n",
       "    // our purposes (turning an active figure into a static one), is too late.\n",
       "    var cells = IPython.notebook.get_cells();\n",
       "    var ncells = cells.length;\n",
       "    for (var i=0; i<ncells; i++) {\n",
       "        var cell = cells[i];\n",
       "        if (cell.cell_type === 'code'){\n",
       "            for (var j=0; j<cell.output_area.outputs.length; j++) {\n",
       "                var data = cell.output_area.outputs[j];\n",
       "                if (data.data) {\n",
       "                    // IPython >= 3 moved mimebundle to data attribute of output\n",
       "                    data = data.data;\n",
       "                }\n",
       "                if (data['text/html'] == html_output) {\n",
       "                    return [cell, data, j];\n",
       "                }\n",
       "            }\n",
       "        }\n",
       "    }\n",
       "}\n",
       "\n",
       "// Register the function which deals with the matplotlib target/channel.\n",
       "// The kernel may be null if the page has been refreshed.\n",
       "if (IPython.notebook.kernel != null) {\n",
       "    IPython.notebook.kernel.comm_manager.register_target('matplotlib', mpl.mpl_figure_comm);\n",
       "}\n"
      ],
      "text/plain": [
       "<IPython.core.display.Javascript object>"
      ]
     },
     "metadata": {},
     "output_type": "display_data"
    },
    {
     "data": {
      "text/html": [
       "<img src=\"data:image/png;base64,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\" width=\"639.999990463257\">"
      ],
      "text/plain": [
       "<IPython.core.display.HTML object>"
      ]
     },
     "metadata": {},
     "output_type": "display_data"
    },
    {
     "data": {
      "application/vnd.jupyter.widget-view+json": {
       "model_id": "15c39245419c430296479d6907cd0be2",
       "version_major": 2,
       "version_minor": 0
      },
      "text/plain": [
       "A Jupyter Widget"
      ]
     },
     "metadata": {},
     "output_type": "display_data"
    },
    {
     "data": {
      "application/vnd.jupyter.widget-view+json": {
       "model_id": "2176e80cf31544848c1a55d52e05d93d",
       "version_major": 2,
       "version_minor": 0
      },
      "text/plain": [
       "A Jupyter Widget"
      ]
     },
     "metadata": {},
     "output_type": "display_data"
    },
    {
     "data": {
      "application/vnd.jupyter.widget-view+json": {
       "model_id": "efd41016e405489b8f631ee23e7919b1",
       "version_major": 2,
       "version_minor": 0
      },
      "text/plain": [
       "A Jupyter Widget"
      ]
     },
     "metadata": {},
     "output_type": "display_data"
    },
    {
     "data": {
      "application/vnd.jupyter.widget-view+json": {
       "model_id": "95e04d627d8e40c8bb73912393c1c21d",
       "version_major": 2,
       "version_minor": 0
      },
      "text/plain": [
       "A Jupyter Widget"
      ]
     },
     "metadata": {},
     "output_type": "display_data"
    },
    {
     "data": {
      "application/vnd.jupyter.widget-view+json": {
       "model_id": "cd162952093e4153bc5e7c69666fc2f6",
       "version_major": 2,
       "version_minor": 0
      },
      "text/plain": [
       "A Jupyter Widget"
      ]
     },
     "metadata": {},
     "output_type": "display_data"
    },
    {
     "data": {
      "application/vnd.jupyter.widget-view+json": {
       "model_id": "c0186057570a47db816e4f5b27892eec",
       "version_major": 2,
       "version_minor": 0
      },
      "text/plain": [
       "A Jupyter Widget"
      ]
     },
     "metadata": {},
     "output_type": "display_data"
    },
    {
     "data": {
      "text/plain": [
       "<calour.heatmap.plotgui_jupyter.PlotGUI_Jupyter at 0x1265c20b8>"
      ]
     },
     "execution_count": 32,
     "metadata": {},
     "output_type": "execute_result"
    }
   ],
   "source": [
    "tt.plot(sample_field='HOST_SUBJECT_ID', feature_field=None, gui='jupyter')"
   ]
  },
  {
   "cell_type": "markdown",
   "metadata": {},
   "source": [
    "## we can find the sOTUs that are different between left and right hands"
   ]
  },
  {
   "cell_type": "code",
   "execution_count": 33,
   "metadata": {},
   "outputs": [
    {
     "name": "stdout",
     "output_type": "stream",
     "text": [
      "2017-10-09 12:41:46 INFO 2 remaining\n",
      "2017-10-09 12:41:46 INFO ignoring 2 features\n",
      "2017-10-09 12:41:46 INFO 5247 remaining\n",
      "2017-10-09 12:41:46 INFO 365 samples with value 1 (['L_palm'])\n",
      "2017-10-09 12:41:49 INFO method meandiff. number of higher in ['L_palm'] : 3. number of higher in None : 884. total 887\n"
     ]
    },
    {
     "data": {
      "application/javascript": [
       "/* Put everything inside the global mpl namespace */\n",
       "window.mpl = {};\n",
       "\n",
       "\n",
       "mpl.get_websocket_type = function() {\n",
       "    if (typeof(WebSocket) !== 'undefined') {\n",
       "        return WebSocket;\n",
       "    } else if (typeof(MozWebSocket) !== 'undefined') {\n",
       "        return MozWebSocket;\n",
       "    } else {\n",
       "        alert('Your browser does not have WebSocket support.' +\n",
       "              'Please try Chrome, Safari or Firefox ≥ 6. ' +\n",
       "              'Firefox 4 and 5 are also supported but you ' +\n",
       "              'have to enable WebSockets in about:config.');\n",
       "    };\n",
       "}\n",
       "\n",
       "mpl.figure = function(figure_id, websocket, ondownload, parent_element) {\n",
       "    this.id = figure_id;\n",
       "\n",
       "    this.ws = websocket;\n",
       "\n",
       "    this.supports_binary = (this.ws.binaryType != undefined);\n",
       "\n",
       "    if (!this.supports_binary) {\n",
       "        var warnings = document.getElementById(\"mpl-warnings\");\n",
       "        if (warnings) {\n",
       "            warnings.style.display = 'block';\n",
       "            warnings.textContent = (\n",
       "                \"This browser does not support binary websocket messages. \" +\n",
       "                    \"Performance may be slow.\");\n",
       "        }\n",
       "    }\n",
       "\n",
       "    this.imageObj = new Image();\n",
       "\n",
       "    this.context = undefined;\n",
       "    this.message = undefined;\n",
       "    this.canvas = undefined;\n",
       "    this.rubberband_canvas = undefined;\n",
       "    this.rubberband_context = undefined;\n",
       "    this.format_dropdown = undefined;\n",
       "\n",
       "    this.image_mode = 'full';\n",
       "\n",
       "    this.root = $('<div/>');\n",
       "    this._root_extra_style(this.root)\n",
       "    this.root.attr('style', 'display: inline-block');\n",
       "\n",
       "    $(parent_element).append(this.root);\n",
       "\n",
       "    this._init_header(this);\n",
       "    this._init_canvas(this);\n",
       "    this._init_toolbar(this);\n",
       "\n",
       "    var fig = this;\n",
       "\n",
       "    this.waiting = false;\n",
       "\n",
       "    this.ws.onopen =  function () {\n",
       "            fig.send_message(\"supports_binary\", {value: fig.supports_binary});\n",
       "            fig.send_message(\"send_image_mode\", {});\n",
       "            if (mpl.ratio != 1) {\n",
       "                fig.send_message(\"set_dpi_ratio\", {'dpi_ratio': mpl.ratio});\n",
       "            }\n",
       "            fig.send_message(\"refresh\", {});\n",
       "        }\n",
       "\n",
       "    this.imageObj.onload = function() {\n",
       "            if (fig.image_mode == 'full') {\n",
       "                // Full images could contain transparency (where diff images\n",
       "                // almost always do), so we need to clear the canvas so that\n",
       "                // there is no ghosting.\n",
       "                fig.context.clearRect(0, 0, fig.canvas.width, fig.canvas.height);\n",
       "            }\n",
       "            fig.context.drawImage(fig.imageObj, 0, 0);\n",
       "        };\n",
       "\n",
       "    this.imageObj.onunload = function() {\n",
       "        this.ws.close();\n",
       "    }\n",
       "\n",
       "    this.ws.onmessage = this._make_on_message_function(this);\n",
       "\n",
       "    this.ondownload = ondownload;\n",
       "}\n",
       "\n",
       "mpl.figure.prototype._init_header = function() {\n",
       "    var titlebar = $(\n",
       "        '<div class=\"ui-dialog-titlebar ui-widget-header ui-corner-all ' +\n",
       "        'ui-helper-clearfix\"/>');\n",
       "    var titletext = $(\n",
       "        '<div class=\"ui-dialog-title\" style=\"width: 100%; ' +\n",
       "        'text-align: center; padding: 3px;\"/>');\n",
       "    titlebar.append(titletext)\n",
       "    this.root.append(titlebar);\n",
       "    this.header = titletext[0];\n",
       "}\n",
       "\n",
       "\n",
       "\n",
       "mpl.figure.prototype._canvas_extra_style = function(canvas_div) {\n",
       "\n",
       "}\n",
       "\n",
       "\n",
       "mpl.figure.prototype._root_extra_style = function(canvas_div) {\n",
       "\n",
       "}\n",
       "\n",
       "mpl.figure.prototype._init_canvas = function() {\n",
       "    var fig = this;\n",
       "\n",
       "    var canvas_div = $('<div/>');\n",
       "\n",
       "    canvas_div.attr('style', 'position: relative; clear: both; outline: 0');\n",
       "\n",
       "    function canvas_keyboard_event(event) {\n",
       "        return fig.key_event(event, event['data']);\n",
       "    }\n",
       "\n",
       "    canvas_div.keydown('key_press', canvas_keyboard_event);\n",
       "    canvas_div.keyup('key_release', canvas_keyboard_event);\n",
       "    this.canvas_div = canvas_div\n",
       "    this._canvas_extra_style(canvas_div)\n",
       "    this.root.append(canvas_div);\n",
       "\n",
       "    var canvas = $('<canvas/>');\n",
       "    canvas.addClass('mpl-canvas');\n",
       "    canvas.attr('style', \"left: 0; top: 0; z-index: 0; outline: 0\")\n",
       "\n",
       "    this.canvas = canvas[0];\n",
       "    this.context = canvas[0].getContext(\"2d\");\n",
       "\n",
       "    var backingStore = this.context.backingStorePixelRatio ||\n",
       "\tthis.context.webkitBackingStorePixelRatio ||\n",
       "\tthis.context.mozBackingStorePixelRatio ||\n",
       "\tthis.context.msBackingStorePixelRatio ||\n",
       "\tthis.context.oBackingStorePixelRatio ||\n",
       "\tthis.context.backingStorePixelRatio || 1;\n",
       "\n",
       "    mpl.ratio = (window.devicePixelRatio || 1) / backingStore;\n",
       "\n",
       "    var rubberband = $('<canvas/>');\n",
       "    rubberband.attr('style', \"position: absolute; left: 0; top: 0; z-index: 1;\")\n",
       "\n",
       "    var pass_mouse_events = true;\n",
       "\n",
       "    canvas_div.resizable({\n",
       "        start: function(event, ui) {\n",
       "            pass_mouse_events = false;\n",
       "        },\n",
       "        resize: function(event, ui) {\n",
       "            fig.request_resize(ui.size.width, ui.size.height);\n",
       "        },\n",
       "        stop: function(event, ui) {\n",
       "            pass_mouse_events = true;\n",
       "            fig.request_resize(ui.size.width, ui.size.height);\n",
       "        },\n",
       "    });\n",
       "\n",
       "    function mouse_event_fn(event) {\n",
       "        if (pass_mouse_events)\n",
       "            return fig.mouse_event(event, event['data']);\n",
       "    }\n",
       "\n",
       "    rubberband.mousedown('button_press', mouse_event_fn);\n",
       "    rubberband.mouseup('button_release', mouse_event_fn);\n",
       "    // Throttle sequential mouse events to 1 every 20ms.\n",
       "    rubberband.mousemove('motion_notify', mouse_event_fn);\n",
       "\n",
       "    rubberband.mouseenter('figure_enter', mouse_event_fn);\n",
       "    rubberband.mouseleave('figure_leave', mouse_event_fn);\n",
       "\n",
       "    canvas_div.on(\"wheel\", function (event) {\n",
       "        event = event.originalEvent;\n",
       "        event['data'] = 'scroll'\n",
       "        if (event.deltaY < 0) {\n",
       "            event.step = 1;\n",
       "        } else {\n",
       "            event.step = -1;\n",
       "        }\n",
       "        mouse_event_fn(event);\n",
       "    });\n",
       "\n",
       "    canvas_div.append(canvas);\n",
       "    canvas_div.append(rubberband);\n",
       "\n",
       "    this.rubberband = rubberband;\n",
       "    this.rubberband_canvas = rubberband[0];\n",
       "    this.rubberband_context = rubberband[0].getContext(\"2d\");\n",
       "    this.rubberband_context.strokeStyle = \"#000000\";\n",
       "\n",
       "    this._resize_canvas = function(width, height) {\n",
       "        // Keep the size of the canvas, canvas container, and rubber band\n",
       "        // canvas in synch.\n",
       "        canvas_div.css('width', width)\n",
       "        canvas_div.css('height', height)\n",
       "\n",
       "        canvas.attr('width', width * mpl.ratio);\n",
       "        canvas.attr('height', height * mpl.ratio);\n",
       "        canvas.attr('style', 'width: ' + width + 'px; height: ' + height + 'px;');\n",
       "\n",
       "        rubberband.attr('width', width);\n",
       "        rubberband.attr('height', height);\n",
       "    }\n",
       "\n",
       "    // Set the figure to an initial 600x600px, this will subsequently be updated\n",
       "    // upon first draw.\n",
       "    this._resize_canvas(600, 600);\n",
       "\n",
       "    // Disable right mouse context menu.\n",
       "    $(this.rubberband_canvas).bind(\"contextmenu\",function(e){\n",
       "        return false;\n",
       "    });\n",
       "\n",
       "    function set_focus () {\n",
       "        canvas.focus();\n",
       "        canvas_div.focus();\n",
       "    }\n",
       "\n",
       "    window.setTimeout(set_focus, 100);\n",
       "}\n",
       "\n",
       "mpl.figure.prototype._init_toolbar = function() {\n",
       "    var fig = this;\n",
       "\n",
       "    var nav_element = $('<div/>')\n",
       "    nav_element.attr('style', 'width: 100%');\n",
       "    this.root.append(nav_element);\n",
       "\n",
       "    // Define a callback function for later on.\n",
       "    function toolbar_event(event) {\n",
       "        return fig.toolbar_button_onclick(event['data']);\n",
       "    }\n",
       "    function toolbar_mouse_event(event) {\n",
       "        return fig.toolbar_button_onmouseover(event['data']);\n",
       "    }\n",
       "\n",
       "    for(var toolbar_ind in mpl.toolbar_items) {\n",
       "        var name = mpl.toolbar_items[toolbar_ind][0];\n",
       "        var tooltip = mpl.toolbar_items[toolbar_ind][1];\n",
       "        var image = mpl.toolbar_items[toolbar_ind][2];\n",
       "        var method_name = mpl.toolbar_items[toolbar_ind][3];\n",
       "\n",
       "        if (!name) {\n",
       "            // put a spacer in here.\n",
       "            continue;\n",
       "        }\n",
       "        var button = $('<button/>');\n",
       "        button.addClass('ui-button ui-widget ui-state-default ui-corner-all ' +\n",
       "                        'ui-button-icon-only');\n",
       "        button.attr('role', 'button');\n",
       "        button.attr('aria-disabled', 'false');\n",
       "        button.click(method_name, toolbar_event);\n",
       "        button.mouseover(tooltip, toolbar_mouse_event);\n",
       "\n",
       "        var icon_img = $('<span/>');\n",
       "        icon_img.addClass('ui-button-icon-primary ui-icon');\n",
       "        icon_img.addClass(image);\n",
       "        icon_img.addClass('ui-corner-all');\n",
       "\n",
       "        var tooltip_span = $('<span/>');\n",
       "        tooltip_span.addClass('ui-button-text');\n",
       "        tooltip_span.html(tooltip);\n",
       "\n",
       "        button.append(icon_img);\n",
       "        button.append(tooltip_span);\n",
       "\n",
       "        nav_element.append(button);\n",
       "    }\n",
       "\n",
       "    var fmt_picker_span = $('<span/>');\n",
       "\n",
       "    var fmt_picker = $('<select/>');\n",
       "    fmt_picker.addClass('mpl-toolbar-option ui-widget ui-widget-content');\n",
       "    fmt_picker_span.append(fmt_picker);\n",
       "    nav_element.append(fmt_picker_span);\n",
       "    this.format_dropdown = fmt_picker[0];\n",
       "\n",
       "    for (var ind in mpl.extensions) {\n",
       "        var fmt = mpl.extensions[ind];\n",
       "        var option = $(\n",
       "            '<option/>', {selected: fmt === mpl.default_extension}).html(fmt);\n",
       "        fmt_picker.append(option)\n",
       "    }\n",
       "\n",
       "    // Add hover states to the ui-buttons\n",
       "    $( \".ui-button\" ).hover(\n",
       "        function() { $(this).addClass(\"ui-state-hover\");},\n",
       "        function() { $(this).removeClass(\"ui-state-hover\");}\n",
       "    );\n",
       "\n",
       "    var status_bar = $('<span class=\"mpl-message\"/>');\n",
       "    nav_element.append(status_bar);\n",
       "    this.message = status_bar[0];\n",
       "}\n",
       "\n",
       "mpl.figure.prototype.request_resize = function(x_pixels, y_pixels) {\n",
       "    // Request matplotlib to resize the figure. Matplotlib will then trigger a resize in the client,\n",
       "    // which will in turn request a refresh of the image.\n",
       "    this.send_message('resize', {'width': x_pixels, 'height': y_pixels});\n",
       "}\n",
       "\n",
       "mpl.figure.prototype.send_message = function(type, properties) {\n",
       "    properties['type'] = type;\n",
       "    properties['figure_id'] = this.id;\n",
       "    this.ws.send(JSON.stringify(properties));\n",
       "}\n",
       "\n",
       "mpl.figure.prototype.send_draw_message = function() {\n",
       "    if (!this.waiting) {\n",
       "        this.waiting = true;\n",
       "        this.ws.send(JSON.stringify({type: \"draw\", figure_id: this.id}));\n",
       "    }\n",
       "}\n",
       "\n",
       "\n",
       "mpl.figure.prototype.handle_save = function(fig, msg) {\n",
       "    var format_dropdown = fig.format_dropdown;\n",
       "    var format = format_dropdown.options[format_dropdown.selectedIndex].value;\n",
       "    fig.ondownload(fig, format);\n",
       "}\n",
       "\n",
       "\n",
       "mpl.figure.prototype.handle_resize = function(fig, msg) {\n",
       "    var size = msg['size'];\n",
       "    if (size[0] != fig.canvas.width || size[1] != fig.canvas.height) {\n",
       "        fig._resize_canvas(size[0], size[1]);\n",
       "        fig.send_message(\"refresh\", {});\n",
       "    };\n",
       "}\n",
       "\n",
       "mpl.figure.prototype.handle_rubberband = function(fig, msg) {\n",
       "    var x0 = msg['x0'] / mpl.ratio;\n",
       "    var y0 = (fig.canvas.height - msg['y0']) / mpl.ratio;\n",
       "    var x1 = msg['x1'] / mpl.ratio;\n",
       "    var y1 = (fig.canvas.height - msg['y1']) / mpl.ratio;\n",
       "    x0 = Math.floor(x0) + 0.5;\n",
       "    y0 = Math.floor(y0) + 0.5;\n",
       "    x1 = Math.floor(x1) + 0.5;\n",
       "    y1 = Math.floor(y1) + 0.5;\n",
       "    var min_x = Math.min(x0, x1);\n",
       "    var min_y = Math.min(y0, y1);\n",
       "    var width = Math.abs(x1 - x0);\n",
       "    var height = Math.abs(y1 - y0);\n",
       "\n",
       "    fig.rubberband_context.clearRect(\n",
       "        0, 0, fig.canvas.width, fig.canvas.height);\n",
       "\n",
       "    fig.rubberband_context.strokeRect(min_x, min_y, width, height);\n",
       "}\n",
       "\n",
       "mpl.figure.prototype.handle_figure_label = function(fig, msg) {\n",
       "    // Updates the figure title.\n",
       "    fig.header.textContent = msg['label'];\n",
       "}\n",
       "\n",
       "mpl.figure.prototype.handle_cursor = function(fig, msg) {\n",
       "    var cursor = msg['cursor'];\n",
       "    switch(cursor)\n",
       "    {\n",
       "    case 0:\n",
       "        cursor = 'pointer';\n",
       "        break;\n",
       "    case 1:\n",
       "        cursor = 'default';\n",
       "        break;\n",
       "    case 2:\n",
       "        cursor = 'crosshair';\n",
       "        break;\n",
       "    case 3:\n",
       "        cursor = 'move';\n",
       "        break;\n",
       "    }\n",
       "    fig.rubberband_canvas.style.cursor = cursor;\n",
       "}\n",
       "\n",
       "mpl.figure.prototype.handle_message = function(fig, msg) {\n",
       "    fig.message.textContent = msg['message'];\n",
       "}\n",
       "\n",
       "mpl.figure.prototype.handle_draw = function(fig, msg) {\n",
       "    // Request the server to send over a new figure.\n",
       "    fig.send_draw_message();\n",
       "}\n",
       "\n",
       "mpl.figure.prototype.handle_image_mode = function(fig, msg) {\n",
       "    fig.image_mode = msg['mode'];\n",
       "}\n",
       "\n",
       "mpl.figure.prototype.updated_canvas_event = function() {\n",
       "    // Called whenever the canvas gets updated.\n",
       "    this.send_message(\"ack\", {});\n",
       "}\n",
       "\n",
       "// A function to construct a web socket function for onmessage handling.\n",
       "// Called in the figure constructor.\n",
       "mpl.figure.prototype._make_on_message_function = function(fig) {\n",
       "    return function socket_on_message(evt) {\n",
       "        if (evt.data instanceof Blob) {\n",
       "            /* FIXME: We get \"Resource interpreted as Image but\n",
       "             * transferred with MIME type text/plain:\" errors on\n",
       "             * Chrome.  But how to set the MIME type?  It doesn't seem\n",
       "             * to be part of the websocket stream */\n",
       "            evt.data.type = \"image/png\";\n",
       "\n",
       "            /* Free the memory for the previous frames */\n",
       "            if (fig.imageObj.src) {\n",
       "                (window.URL || window.webkitURL).revokeObjectURL(\n",
       "                    fig.imageObj.src);\n",
       "            }\n",
       "\n",
       "            fig.imageObj.src = (window.URL || window.webkitURL).createObjectURL(\n",
       "                evt.data);\n",
       "            fig.updated_canvas_event();\n",
       "            fig.waiting = false;\n",
       "            return;\n",
       "        }\n",
       "        else if (typeof evt.data === 'string' && evt.data.slice(0, 21) == \"data:image/png;base64\") {\n",
       "            fig.imageObj.src = evt.data;\n",
       "            fig.updated_canvas_event();\n",
       "            fig.waiting = false;\n",
       "            return;\n",
       "        }\n",
       "\n",
       "        var msg = JSON.parse(evt.data);\n",
       "        var msg_type = msg['type'];\n",
       "\n",
       "        // Call the  \"handle_{type}\" callback, which takes\n",
       "        // the figure and JSON message as its only arguments.\n",
       "        try {\n",
       "            var callback = fig[\"handle_\" + msg_type];\n",
       "        } catch (e) {\n",
       "            console.log(\"No handler for the '\" + msg_type + \"' message type: \", msg);\n",
       "            return;\n",
       "        }\n",
       "\n",
       "        if (callback) {\n",
       "            try {\n",
       "                // console.log(\"Handling '\" + msg_type + \"' message: \", msg);\n",
       "                callback(fig, msg);\n",
       "            } catch (e) {\n",
       "                console.log(\"Exception inside the 'handler_\" + msg_type + \"' callback:\", e, e.stack, msg);\n",
       "            }\n",
       "        }\n",
       "    };\n",
       "}\n",
       "\n",
       "// from http://stackoverflow.com/questions/1114465/getting-mouse-location-in-canvas\n",
       "mpl.findpos = function(e) {\n",
       "    //this section is from http://www.quirksmode.org/js/events_properties.html\n",
       "    var targ;\n",
       "    if (!e)\n",
       "        e = window.event;\n",
       "    if (e.target)\n",
       "        targ = e.target;\n",
       "    else if (e.srcElement)\n",
       "        targ = e.srcElement;\n",
       "    if (targ.nodeType == 3) // defeat Safari bug\n",
       "        targ = targ.parentNode;\n",
       "\n",
       "    // jQuery normalizes the pageX and pageY\n",
       "    // pageX,Y are the mouse positions relative to the document\n",
       "    // offset() returns the position of the element relative to the document\n",
       "    var x = e.pageX - $(targ).offset().left;\n",
       "    var y = e.pageY - $(targ).offset().top;\n",
       "\n",
       "    return {\"x\": x, \"y\": y};\n",
       "};\n",
       "\n",
       "/*\n",
       " * return a copy of an object with only non-object keys\n",
       " * we need this to avoid circular references\n",
       " * http://stackoverflow.com/a/24161582/3208463\n",
       " */\n",
       "function simpleKeys (original) {\n",
       "  return Object.keys(original).reduce(function (obj, key) {\n",
       "    if (typeof original[key] !== 'object')\n",
       "        obj[key] = original[key]\n",
       "    return obj;\n",
       "  }, {});\n",
       "}\n",
       "\n",
       "mpl.figure.prototype.mouse_event = function(event, name) {\n",
       "    var canvas_pos = mpl.findpos(event)\n",
       "\n",
       "    if (name === 'button_press')\n",
       "    {\n",
       "        this.canvas.focus();\n",
       "        this.canvas_div.focus();\n",
       "    }\n",
       "\n",
       "    var x = canvas_pos.x * mpl.ratio;\n",
       "    var y = canvas_pos.y * mpl.ratio;\n",
       "\n",
       "    this.send_message(name, {x: x, y: y, button: event.button,\n",
       "                             step: event.step,\n",
       "                             guiEvent: simpleKeys(event)});\n",
       "\n",
       "    /* This prevents the web browser from automatically changing to\n",
       "     * the text insertion cursor when the button is pressed.  We want\n",
       "     * to control all of the cursor setting manually through the\n",
       "     * 'cursor' event from matplotlib */\n",
       "    event.preventDefault();\n",
       "    return false;\n",
       "}\n",
       "\n",
       "mpl.figure.prototype._key_event_extra = function(event, name) {\n",
       "    // Handle any extra behaviour associated with a key event\n",
       "}\n",
       "\n",
       "mpl.figure.prototype.key_event = function(event, name) {\n",
       "\n",
       "    // Prevent repeat events\n",
       "    if (name == 'key_press')\n",
       "    {\n",
       "        if (event.which === this._key)\n",
       "            return;\n",
       "        else\n",
       "            this._key = event.which;\n",
       "    }\n",
       "    if (name == 'key_release')\n",
       "        this._key = null;\n",
       "\n",
       "    var value = '';\n",
       "    if (event.ctrlKey && event.which != 17)\n",
       "        value += \"ctrl+\";\n",
       "    if (event.altKey && event.which != 18)\n",
       "        value += \"alt+\";\n",
       "    if (event.shiftKey && event.which != 16)\n",
       "        value += \"shift+\";\n",
       "\n",
       "    value += 'k';\n",
       "    value += event.which.toString();\n",
       "\n",
       "    this._key_event_extra(event, name);\n",
       "\n",
       "    this.send_message(name, {key: value,\n",
       "                             guiEvent: simpleKeys(event)});\n",
       "    return false;\n",
       "}\n",
       "\n",
       "mpl.figure.prototype.toolbar_button_onclick = function(name) {\n",
       "    if (name == 'download') {\n",
       "        this.handle_save(this, null);\n",
       "    } else {\n",
       "        this.send_message(\"toolbar_button\", {name: name});\n",
       "    }\n",
       "};\n",
       "\n",
       "mpl.figure.prototype.toolbar_button_onmouseover = function(tooltip) {\n",
       "    this.message.textContent = tooltip;\n",
       "};\n",
       "mpl.toolbar_items = [[\"Home\", \"Reset original view\", \"fa fa-home icon-home\", \"home\"], [\"Back\", \"Back to  previous view\", \"fa fa-arrow-left icon-arrow-left\", \"back\"], [\"Forward\", \"Forward to next view\", \"fa fa-arrow-right icon-arrow-right\", \"forward\"], [\"\", \"\", \"\", \"\"], [\"Pan\", \"Pan axes with left mouse, zoom with right\", \"fa fa-arrows icon-move\", \"pan\"], [\"Zoom\", \"Zoom to rectangle\", \"fa fa-square-o icon-check-empty\", \"zoom\"], [\"\", \"\", \"\", \"\"], [\"Download\", \"Download plot\", \"fa fa-floppy-o icon-save\", \"download\"]];\n",
       "\n",
       "mpl.extensions = [\"eps\", \"pdf\", \"png\", \"ps\", \"raw\", \"svg\"];\n",
       "\n",
       "mpl.default_extension = \"png\";var comm_websocket_adapter = function(comm) {\n",
       "    // Create a \"websocket\"-like object which calls the given IPython comm\n",
       "    // object with the appropriate methods. Currently this is a non binary\n",
       "    // socket, so there is still some room for performance tuning.\n",
       "    var ws = {};\n",
       "\n",
       "    ws.close = function() {\n",
       "        comm.close()\n",
       "    };\n",
       "    ws.send = function(m) {\n",
       "        //console.log('sending', m);\n",
       "        comm.send(m);\n",
       "    };\n",
       "    // Register the callback with on_msg.\n",
       "    comm.on_msg(function(msg) {\n",
       "        //console.log('receiving', msg['content']['data'], msg);\n",
       "        // Pass the mpl event to the overriden (by mpl) onmessage function.\n",
       "        ws.onmessage(msg['content']['data'])\n",
       "    });\n",
       "    return ws;\n",
       "}\n",
       "\n",
       "mpl.mpl_figure_comm = function(comm, msg) {\n",
       "    // This is the function which gets called when the mpl process\n",
       "    // starts-up an IPython Comm through the \"matplotlib\" channel.\n",
       "\n",
       "    var id = msg.content.data.id;\n",
       "    // Get hold of the div created by the display call when the Comm\n",
       "    // socket was opened in Python.\n",
       "    var element = $(\"#\" + id);\n",
       "    var ws_proxy = comm_websocket_adapter(comm)\n",
       "\n",
       "    function ondownload(figure, format) {\n",
       "        window.open(figure.imageObj.src);\n",
       "    }\n",
       "\n",
       "    var fig = new mpl.figure(id, ws_proxy,\n",
       "                           ondownload,\n",
       "                           element.get(0));\n",
       "\n",
       "    // Call onopen now - mpl needs it, as it is assuming we've passed it a real\n",
       "    // web socket which is closed, not our websocket->open comm proxy.\n",
       "    ws_proxy.onopen();\n",
       "\n",
       "    fig.parent_element = element.get(0);\n",
       "    fig.cell_info = mpl.find_output_cell(\"<div id='\" + id + \"'></div>\");\n",
       "    if (!fig.cell_info) {\n",
       "        console.error(\"Failed to find cell for figure\", id, fig);\n",
       "        return;\n",
       "    }\n",
       "\n",
       "    var output_index = fig.cell_info[2]\n",
       "    var cell = fig.cell_info[0];\n",
       "\n",
       "};\n",
       "\n",
       "mpl.figure.prototype.handle_close = function(fig, msg) {\n",
       "    var width = fig.canvas.width/mpl.ratio\n",
       "    fig.root.unbind('remove')\n",
       "\n",
       "    // Update the output cell to use the data from the current canvas.\n",
       "    fig.push_to_output();\n",
       "    var dataURL = fig.canvas.toDataURL();\n",
       "    // Re-enable the keyboard manager in IPython - without this line, in FF,\n",
       "    // the notebook keyboard shortcuts fail.\n",
       "    IPython.keyboard_manager.enable()\n",
       "    $(fig.parent_element).html('<img src=\"' + dataURL + '\" width=\"' + width + '\">');\n",
       "    fig.close_ws(fig, msg);\n",
       "}\n",
       "\n",
       "mpl.figure.prototype.close_ws = function(fig, msg){\n",
       "    fig.send_message('closing', msg);\n",
       "    // fig.ws.close()\n",
       "}\n",
       "\n",
       "mpl.figure.prototype.push_to_output = function(remove_interactive) {\n",
       "    // Turn the data on the canvas into data in the output cell.\n",
       "    var width = this.canvas.width/mpl.ratio\n",
       "    var dataURL = this.canvas.toDataURL();\n",
       "    this.cell_info[1]['text/html'] = '<img src=\"' + dataURL + '\" width=\"' + width + '\">';\n",
       "}\n",
       "\n",
       "mpl.figure.prototype.updated_canvas_event = function() {\n",
       "    // Tell IPython that the notebook contents must change.\n",
       "    IPython.notebook.set_dirty(true);\n",
       "    this.send_message(\"ack\", {});\n",
       "    var fig = this;\n",
       "    // Wait a second, then push the new image to the DOM so\n",
       "    // that it is saved nicely (might be nice to debounce this).\n",
       "    setTimeout(function () { fig.push_to_output() }, 1000);\n",
       "}\n",
       "\n",
       "mpl.figure.prototype._init_toolbar = function() {\n",
       "    var fig = this;\n",
       "\n",
       "    var nav_element = $('<div/>')\n",
       "    nav_element.attr('style', 'width: 100%');\n",
       "    this.root.append(nav_element);\n",
       "\n",
       "    // Define a callback function for later on.\n",
       "    function toolbar_event(event) {\n",
       "        return fig.toolbar_button_onclick(event['data']);\n",
       "    }\n",
       "    function toolbar_mouse_event(event) {\n",
       "        return fig.toolbar_button_onmouseover(event['data']);\n",
       "    }\n",
       "\n",
       "    for(var toolbar_ind in mpl.toolbar_items){\n",
       "        var name = mpl.toolbar_items[toolbar_ind][0];\n",
       "        var tooltip = mpl.toolbar_items[toolbar_ind][1];\n",
       "        var image = mpl.toolbar_items[toolbar_ind][2];\n",
       "        var method_name = mpl.toolbar_items[toolbar_ind][3];\n",
       "\n",
       "        if (!name) { continue; };\n",
       "\n",
       "        var button = $('<button class=\"btn btn-default\" href=\"#\" title=\"' + name + '\"><i class=\"fa ' + image + ' fa-lg\"></i></button>');\n",
       "        button.click(method_name, toolbar_event);\n",
       "        button.mouseover(tooltip, toolbar_mouse_event);\n",
       "        nav_element.append(button);\n",
       "    }\n",
       "\n",
       "    // Add the status bar.\n",
       "    var status_bar = $('<span class=\"mpl-message\" style=\"text-align:right; float: right;\"/>');\n",
       "    nav_element.append(status_bar);\n",
       "    this.message = status_bar[0];\n",
       "\n",
       "    // Add the close button to the window.\n",
       "    var buttongrp = $('<div class=\"btn-group inline pull-right\"></div>');\n",
       "    var button = $('<button class=\"btn btn-mini btn-primary\" href=\"#\" title=\"Stop Interaction\"><i class=\"fa fa-power-off icon-remove icon-large\"></i></button>');\n",
       "    button.click(function (evt) { fig.handle_close(fig, {}); } );\n",
       "    button.mouseover('Stop Interaction', toolbar_mouse_event);\n",
       "    buttongrp.append(button);\n",
       "    var titlebar = this.root.find($('.ui-dialog-titlebar'));\n",
       "    titlebar.prepend(buttongrp);\n",
       "}\n",
       "\n",
       "mpl.figure.prototype._root_extra_style = function(el){\n",
       "    var fig = this\n",
       "    el.on(\"remove\", function(){\n",
       "\tfig.close_ws(fig, {});\n",
       "    });\n",
       "}\n",
       "\n",
       "mpl.figure.prototype._canvas_extra_style = function(el){\n",
       "    // this is important to make the div 'focusable\n",
       "    el.attr('tabindex', 0)\n",
       "    // reach out to IPython and tell the keyboard manager to turn it's self\n",
       "    // off when our div gets focus\n",
       "\n",
       "    // location in version 3\n",
       "    if (IPython.notebook.keyboard_manager) {\n",
       "        IPython.notebook.keyboard_manager.register_events(el);\n",
       "    }\n",
       "    else {\n",
       "        // location in version 2\n",
       "        IPython.keyboard_manager.register_events(el);\n",
       "    }\n",
       "\n",
       "}\n",
       "\n",
       "mpl.figure.prototype._key_event_extra = function(event, name) {\n",
       "    var manager = IPython.notebook.keyboard_manager;\n",
       "    if (!manager)\n",
       "        manager = IPython.keyboard_manager;\n",
       "\n",
       "    // Check for shift+enter\n",
       "    if (event.shiftKey && event.which == 13) {\n",
       "        this.canvas_div.blur();\n",
       "        // select the cell after this one\n",
       "        var index = IPython.notebook.find_cell_index(this.cell_info[0]);\n",
       "        IPython.notebook.select(index + 1);\n",
       "    }\n",
       "}\n",
       "\n",
       "mpl.figure.prototype.handle_save = function(fig, msg) {\n",
       "    fig.ondownload(fig, null);\n",
       "}\n",
       "\n",
       "\n",
       "mpl.find_output_cell = function(html_output) {\n",
       "    // Return the cell and output element which can be found *uniquely* in the notebook.\n",
       "    // Note - this is a bit hacky, but it is done because the \"notebook_saving.Notebook\"\n",
       "    // IPython event is triggered only after the cells have been serialised, which for\n",
       "    // our purposes (turning an active figure into a static one), is too late.\n",
       "    var cells = IPython.notebook.get_cells();\n",
       "    var ncells = cells.length;\n",
       "    for (var i=0; i<ncells; i++) {\n",
       "        var cell = cells[i];\n",
       "        if (cell.cell_type === 'code'){\n",
       "            for (var j=0; j<cell.output_area.outputs.length; j++) {\n",
       "                var data = cell.output_area.outputs[j];\n",
       "                if (data.data) {\n",
       "                    // IPython >= 3 moved mimebundle to data attribute of output\n",
       "                    data = data.data;\n",
       "                }\n",
       "                if (data['text/html'] == html_output) {\n",
       "                    return [cell, data, j];\n",
       "                }\n",
       "            }\n",
       "        }\n",
       "    }\n",
       "}\n",
       "\n",
       "// Register the function which deals with the matplotlib target/channel.\n",
       "// The kernel may be null if the page has been refreshed.\n",
       "if (IPython.notebook.kernel != null) {\n",
       "    IPython.notebook.kernel.comm_manager.register_target('matplotlib', mpl.mpl_figure_comm);\n",
       "}\n"
      ],
      "text/plain": [
       "<IPython.core.display.Javascript object>"
      ]
     },
     "metadata": {},
     "output_type": "display_data"
    },
    {
     "data": {
      "text/html": [
       "<img src=\"data:image/png;base64,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\" width=\"639.999990463257\">"
      ],
      "text/plain": [
       "<IPython.core.display.HTML object>"
      ]
     },
     "metadata": {},
     "output_type": "display_data"
    },
    {
     "data": {
      "application/vnd.jupyter.widget-view+json": {
       "model_id": "792cfa5872254687ba0598524284629c",
       "version_major": 2,
       "version_minor": 0
      },
      "text/plain": [
       "A Jupyter Widget"
      ]
     },
     "metadata": {},
     "output_type": "display_data"
    },
    {
     "data": {
      "application/vnd.jupyter.widget-view+json": {
       "model_id": "619360801f674a0390719969f2b12d81",
       "version_major": 2,
       "version_minor": 0
      },
      "text/plain": [
       "A Jupyter Widget"
      ]
     },
     "metadata": {},
     "output_type": "display_data"
    },
    {
     "data": {
      "application/vnd.jupyter.widget-view+json": {
       "model_id": "e0ed0033425b4f24bcfc4586863611e9",
       "version_major": 2,
       "version_minor": 0
      },
      "text/plain": [
       "A Jupyter Widget"
      ]
     },
     "metadata": {},
     "output_type": "display_data"
    },
    {
     "data": {
      "application/vnd.jupyter.widget-view+json": {
       "model_id": "429eda07abf1465b8bd0d3aa3caf682a",
       "version_major": 2,
       "version_minor": 0
      },
      "text/plain": [
       "A Jupyter Widget"
      ]
     },
     "metadata": {},
     "output_type": "display_data"
    },
    {
     "data": {
      "application/vnd.jupyter.widget-view+json": {
       "model_id": "d04fe898334445b2bd5687213d22685b",
       "version_major": 2,
       "version_minor": 0
      },
      "text/plain": [
       "A Jupyter Widget"
      ]
     },
     "metadata": {},
     "output_type": "display_data"
    },
    {
     "data": {
      "application/vnd.jupyter.widget-view+json": {
       "model_id": "1ee4d1d5f5284e278db29980cde21941",
       "version_major": 2,
       "version_minor": 0
      },
      "text/plain": [
       "A Jupyter Widget"
      ]
     },
     "metadata": {},
     "output_type": "display_data"
    },
    {
     "data": {
      "text/plain": [
       "<calour.heatmap.plotgui_jupyter.PlotGUI_Jupyter at 0x1265dbcc0>"
      ]
     },
     "execution_count": 33,
     "metadata": {},
     "output_type": "execute_result"
    }
   ],
   "source": [
    "m3s=hand.filter_samples('HOST_SUBJECT_ID','M3')\n",
    "m3s=m3s.normalize_compositional()\n",
    "m3s=m3s.sort_samples('DAYS_SINCE_EPOCH')\n",
    "\n",
    "dd=m3s.diff_abundance('COMMON_SAMPLE_SITE','L_palm')\n",
    "\n",
    "dd.sort_samples('COMMON_SAMPLE_SITE').plot(sample_field='COMMON_SAMPLE_SITE', gui='jupyter', title='Host M3')"
   ]
  },
  {
   "cell_type": "code",
   "execution_count": 34,
   "metadata": {},
   "outputs": [
    {
     "name": "stdout",
     "output_type": "stream",
     "text": [
      "2017-10-09 12:41:50 INFO 1892 remaining\n",
      "2017-10-09 12:41:50 INFO 134 samples with value 1 (['L_palm'])\n",
      "2017-10-09 12:41:51 INFO method meandiff. number of higher in ['L_palm'] : 194. number of higher in None : 5. total 199\n"
     ]
    },
    {
     "data": {
      "application/javascript": [
       "/* Put everything inside the global mpl namespace */\n",
       "window.mpl = {};\n",
       "\n",
       "\n",
       "mpl.get_websocket_type = function() {\n",
       "    if (typeof(WebSocket) !== 'undefined') {\n",
       "        return WebSocket;\n",
       "    } else if (typeof(MozWebSocket) !== 'undefined') {\n",
       "        return MozWebSocket;\n",
       "    } else {\n",
       "        alert('Your browser does not have WebSocket support.' +\n",
       "              'Please try Chrome, Safari or Firefox ≥ 6. ' +\n",
       "              'Firefox 4 and 5 are also supported but you ' +\n",
       "              'have to enable WebSockets in about:config.');\n",
       "    };\n",
       "}\n",
       "\n",
       "mpl.figure = function(figure_id, websocket, ondownload, parent_element) {\n",
       "    this.id = figure_id;\n",
       "\n",
       "    this.ws = websocket;\n",
       "\n",
       "    this.supports_binary = (this.ws.binaryType != undefined);\n",
       "\n",
       "    if (!this.supports_binary) {\n",
       "        var warnings = document.getElementById(\"mpl-warnings\");\n",
       "        if (warnings) {\n",
       "            warnings.style.display = 'block';\n",
       "            warnings.textContent = (\n",
       "                \"This browser does not support binary websocket messages. \" +\n",
       "                    \"Performance may be slow.\");\n",
       "        }\n",
       "    }\n",
       "\n",
       "    this.imageObj = new Image();\n",
       "\n",
       "    this.context = undefined;\n",
       "    this.message = undefined;\n",
       "    this.canvas = undefined;\n",
       "    this.rubberband_canvas = undefined;\n",
       "    this.rubberband_context = undefined;\n",
       "    this.format_dropdown = undefined;\n",
       "\n",
       "    this.image_mode = 'full';\n",
       "\n",
       "    this.root = $('<div/>');\n",
       "    this._root_extra_style(this.root)\n",
       "    this.root.attr('style', 'display: inline-block');\n",
       "\n",
       "    $(parent_element).append(this.root);\n",
       "\n",
       "    this._init_header(this);\n",
       "    this._init_canvas(this);\n",
       "    this._init_toolbar(this);\n",
       "\n",
       "    var fig = this;\n",
       "\n",
       "    this.waiting = false;\n",
       "\n",
       "    this.ws.onopen =  function () {\n",
       "            fig.send_message(\"supports_binary\", {value: fig.supports_binary});\n",
       "            fig.send_message(\"send_image_mode\", {});\n",
       "            if (mpl.ratio != 1) {\n",
       "                fig.send_message(\"set_dpi_ratio\", {'dpi_ratio': mpl.ratio});\n",
       "            }\n",
       "            fig.send_message(\"refresh\", {});\n",
       "        }\n",
       "\n",
       "    this.imageObj.onload = function() {\n",
       "            if (fig.image_mode == 'full') {\n",
       "                // Full images could contain transparency (where diff images\n",
       "                // almost always do), so we need to clear the canvas so that\n",
       "                // there is no ghosting.\n",
       "                fig.context.clearRect(0, 0, fig.canvas.width, fig.canvas.height);\n",
       "            }\n",
       "            fig.context.drawImage(fig.imageObj, 0, 0);\n",
       "        };\n",
       "\n",
       "    this.imageObj.onunload = function() {\n",
       "        this.ws.close();\n",
       "    }\n",
       "\n",
       "    this.ws.onmessage = this._make_on_message_function(this);\n",
       "\n",
       "    this.ondownload = ondownload;\n",
       "}\n",
       "\n",
       "mpl.figure.prototype._init_header = function() {\n",
       "    var titlebar = $(\n",
       "        '<div class=\"ui-dialog-titlebar ui-widget-header ui-corner-all ' +\n",
       "        'ui-helper-clearfix\"/>');\n",
       "    var titletext = $(\n",
       "        '<div class=\"ui-dialog-title\" style=\"width: 100%; ' +\n",
       "        'text-align: center; padding: 3px;\"/>');\n",
       "    titlebar.append(titletext)\n",
       "    this.root.append(titlebar);\n",
       "    this.header = titletext[0];\n",
       "}\n",
       "\n",
       "\n",
       "\n",
       "mpl.figure.prototype._canvas_extra_style = function(canvas_div) {\n",
       "\n",
       "}\n",
       "\n",
       "\n",
       "mpl.figure.prototype._root_extra_style = function(canvas_div) {\n",
       "\n",
       "}\n",
       "\n",
       "mpl.figure.prototype._init_canvas = function() {\n",
       "    var fig = this;\n",
       "\n",
       "    var canvas_div = $('<div/>');\n",
       "\n",
       "    canvas_div.attr('style', 'position: relative; clear: both; outline: 0');\n",
       "\n",
       "    function canvas_keyboard_event(event) {\n",
       "        return fig.key_event(event, event['data']);\n",
       "    }\n",
       "\n",
       "    canvas_div.keydown('key_press', canvas_keyboard_event);\n",
       "    canvas_div.keyup('key_release', canvas_keyboard_event);\n",
       "    this.canvas_div = canvas_div\n",
       "    this._canvas_extra_style(canvas_div)\n",
       "    this.root.append(canvas_div);\n",
       "\n",
       "    var canvas = $('<canvas/>');\n",
       "    canvas.addClass('mpl-canvas');\n",
       "    canvas.attr('style', \"left: 0; top: 0; z-index: 0; outline: 0\")\n",
       "\n",
       "    this.canvas = canvas[0];\n",
       "    this.context = canvas[0].getContext(\"2d\");\n",
       "\n",
       "    var backingStore = this.context.backingStorePixelRatio ||\n",
       "\tthis.context.webkitBackingStorePixelRatio ||\n",
       "\tthis.context.mozBackingStorePixelRatio ||\n",
       "\tthis.context.msBackingStorePixelRatio ||\n",
       "\tthis.context.oBackingStorePixelRatio ||\n",
       "\tthis.context.backingStorePixelRatio || 1;\n",
       "\n",
       "    mpl.ratio = (window.devicePixelRatio || 1) / backingStore;\n",
       "\n",
       "    var rubberband = $('<canvas/>');\n",
       "    rubberband.attr('style', \"position: absolute; left: 0; top: 0; z-index: 1;\")\n",
       "\n",
       "    var pass_mouse_events = true;\n",
       "\n",
       "    canvas_div.resizable({\n",
       "        start: function(event, ui) {\n",
       "            pass_mouse_events = false;\n",
       "        },\n",
       "        resize: function(event, ui) {\n",
       "            fig.request_resize(ui.size.width, ui.size.height);\n",
       "        },\n",
       "        stop: function(event, ui) {\n",
       "            pass_mouse_events = true;\n",
       "            fig.request_resize(ui.size.width, ui.size.height);\n",
       "        },\n",
       "    });\n",
       "\n",
       "    function mouse_event_fn(event) {\n",
       "        if (pass_mouse_events)\n",
       "            return fig.mouse_event(event, event['data']);\n",
       "    }\n",
       "\n",
       "    rubberband.mousedown('button_press', mouse_event_fn);\n",
       "    rubberband.mouseup('button_release', mouse_event_fn);\n",
       "    // Throttle sequential mouse events to 1 every 20ms.\n",
       "    rubberband.mousemove('motion_notify', mouse_event_fn);\n",
       "\n",
       "    rubberband.mouseenter('figure_enter', mouse_event_fn);\n",
       "    rubberband.mouseleave('figure_leave', mouse_event_fn);\n",
       "\n",
       "    canvas_div.on(\"wheel\", function (event) {\n",
       "        event = event.originalEvent;\n",
       "        event['data'] = 'scroll'\n",
       "        if (event.deltaY < 0) {\n",
       "            event.step = 1;\n",
       "        } else {\n",
       "            event.step = -1;\n",
       "        }\n",
       "        mouse_event_fn(event);\n",
       "    });\n",
       "\n",
       "    canvas_div.append(canvas);\n",
       "    canvas_div.append(rubberband);\n",
       "\n",
       "    this.rubberband = rubberband;\n",
       "    this.rubberband_canvas = rubberband[0];\n",
       "    this.rubberband_context = rubberband[0].getContext(\"2d\");\n",
       "    this.rubberband_context.strokeStyle = \"#000000\";\n",
       "\n",
       "    this._resize_canvas = function(width, height) {\n",
       "        // Keep the size of the canvas, canvas container, and rubber band\n",
       "        // canvas in synch.\n",
       "        canvas_div.css('width', width)\n",
       "        canvas_div.css('height', height)\n",
       "\n",
       "        canvas.attr('width', width * mpl.ratio);\n",
       "        canvas.attr('height', height * mpl.ratio);\n",
       "        canvas.attr('style', 'width: ' + width + 'px; height: ' + height + 'px;');\n",
       "\n",
       "        rubberband.attr('width', width);\n",
       "        rubberband.attr('height', height);\n",
       "    }\n",
       "\n",
       "    // Set the figure to an initial 600x600px, this will subsequently be updated\n",
       "    // upon first draw.\n",
       "    this._resize_canvas(600, 600);\n",
       "\n",
       "    // Disable right mouse context menu.\n",
       "    $(this.rubberband_canvas).bind(\"contextmenu\",function(e){\n",
       "        return false;\n",
       "    });\n",
       "\n",
       "    function set_focus () {\n",
       "        canvas.focus();\n",
       "        canvas_div.focus();\n",
       "    }\n",
       "\n",
       "    window.setTimeout(set_focus, 100);\n",
       "}\n",
       "\n",
       "mpl.figure.prototype._init_toolbar = function() {\n",
       "    var fig = this;\n",
       "\n",
       "    var nav_element = $('<div/>')\n",
       "    nav_element.attr('style', 'width: 100%');\n",
       "    this.root.append(nav_element);\n",
       "\n",
       "    // Define a callback function for later on.\n",
       "    function toolbar_event(event) {\n",
       "        return fig.toolbar_button_onclick(event['data']);\n",
       "    }\n",
       "    function toolbar_mouse_event(event) {\n",
       "        return fig.toolbar_button_onmouseover(event['data']);\n",
       "    }\n",
       "\n",
       "    for(var toolbar_ind in mpl.toolbar_items) {\n",
       "        var name = mpl.toolbar_items[toolbar_ind][0];\n",
       "        var tooltip = mpl.toolbar_items[toolbar_ind][1];\n",
       "        var image = mpl.toolbar_items[toolbar_ind][2];\n",
       "        var method_name = mpl.toolbar_items[toolbar_ind][3];\n",
       "\n",
       "        if (!name) {\n",
       "            // put a spacer in here.\n",
       "            continue;\n",
       "        }\n",
       "        var button = $('<button/>');\n",
       "        button.addClass('ui-button ui-widget ui-state-default ui-corner-all ' +\n",
       "                        'ui-button-icon-only');\n",
       "        button.attr('role', 'button');\n",
       "        button.attr('aria-disabled', 'false');\n",
       "        button.click(method_name, toolbar_event);\n",
       "        button.mouseover(tooltip, toolbar_mouse_event);\n",
       "\n",
       "        var icon_img = $('<span/>');\n",
       "        icon_img.addClass('ui-button-icon-primary ui-icon');\n",
       "        icon_img.addClass(image);\n",
       "        icon_img.addClass('ui-corner-all');\n",
       "\n",
       "        var tooltip_span = $('<span/>');\n",
       "        tooltip_span.addClass('ui-button-text');\n",
       "        tooltip_span.html(tooltip);\n",
       "\n",
       "        button.append(icon_img);\n",
       "        button.append(tooltip_span);\n",
       "\n",
       "        nav_element.append(button);\n",
       "    }\n",
       "\n",
       "    var fmt_picker_span = $('<span/>');\n",
       "\n",
       "    var fmt_picker = $('<select/>');\n",
       "    fmt_picker.addClass('mpl-toolbar-option ui-widget ui-widget-content');\n",
       "    fmt_picker_span.append(fmt_picker);\n",
       "    nav_element.append(fmt_picker_span);\n",
       "    this.format_dropdown = fmt_picker[0];\n",
       "\n",
       "    for (var ind in mpl.extensions) {\n",
       "        var fmt = mpl.extensions[ind];\n",
       "        var option = $(\n",
       "            '<option/>', {selected: fmt === mpl.default_extension}).html(fmt);\n",
       "        fmt_picker.append(option)\n",
       "    }\n",
       "\n",
       "    // Add hover states to the ui-buttons\n",
       "    $( \".ui-button\" ).hover(\n",
       "        function() { $(this).addClass(\"ui-state-hover\");},\n",
       "        function() { $(this).removeClass(\"ui-state-hover\");}\n",
       "    );\n",
       "\n",
       "    var status_bar = $('<span class=\"mpl-message\"/>');\n",
       "    nav_element.append(status_bar);\n",
       "    this.message = status_bar[0];\n",
       "}\n",
       "\n",
       "mpl.figure.prototype.request_resize = function(x_pixels, y_pixels) {\n",
       "    // Request matplotlib to resize the figure. Matplotlib will then trigger a resize in the client,\n",
       "    // which will in turn request a refresh of the image.\n",
       "    this.send_message('resize', {'width': x_pixels, 'height': y_pixels});\n",
       "}\n",
       "\n",
       "mpl.figure.prototype.send_message = function(type, properties) {\n",
       "    properties['type'] = type;\n",
       "    properties['figure_id'] = this.id;\n",
       "    this.ws.send(JSON.stringify(properties));\n",
       "}\n",
       "\n",
       "mpl.figure.prototype.send_draw_message = function() {\n",
       "    if (!this.waiting) {\n",
       "        this.waiting = true;\n",
       "        this.ws.send(JSON.stringify({type: \"draw\", figure_id: this.id}));\n",
       "    }\n",
       "}\n",
       "\n",
       "\n",
       "mpl.figure.prototype.handle_save = function(fig, msg) {\n",
       "    var format_dropdown = fig.format_dropdown;\n",
       "    var format = format_dropdown.options[format_dropdown.selectedIndex].value;\n",
       "    fig.ondownload(fig, format);\n",
       "}\n",
       "\n",
       "\n",
       "mpl.figure.prototype.handle_resize = function(fig, msg) {\n",
       "    var size = msg['size'];\n",
       "    if (size[0] != fig.canvas.width || size[1] != fig.canvas.height) {\n",
       "        fig._resize_canvas(size[0], size[1]);\n",
       "        fig.send_message(\"refresh\", {});\n",
       "    };\n",
       "}\n",
       "\n",
       "mpl.figure.prototype.handle_rubberband = function(fig, msg) {\n",
       "    var x0 = msg['x0'] / mpl.ratio;\n",
       "    var y0 = (fig.canvas.height - msg['y0']) / mpl.ratio;\n",
       "    var x1 = msg['x1'] / mpl.ratio;\n",
       "    var y1 = (fig.canvas.height - msg['y1']) / mpl.ratio;\n",
       "    x0 = Math.floor(x0) + 0.5;\n",
       "    y0 = Math.floor(y0) + 0.5;\n",
       "    x1 = Math.floor(x1) + 0.5;\n",
       "    y1 = Math.floor(y1) + 0.5;\n",
       "    var min_x = Math.min(x0, x1);\n",
       "    var min_y = Math.min(y0, y1);\n",
       "    var width = Math.abs(x1 - x0);\n",
       "    var height = Math.abs(y1 - y0);\n",
       "\n",
       "    fig.rubberband_context.clearRect(\n",
       "        0, 0, fig.canvas.width, fig.canvas.height);\n",
       "\n",
       "    fig.rubberband_context.strokeRect(min_x, min_y, width, height);\n",
       "}\n",
       "\n",
       "mpl.figure.prototype.handle_figure_label = function(fig, msg) {\n",
       "    // Updates the figure title.\n",
       "    fig.header.textContent = msg['label'];\n",
       "}\n",
       "\n",
       "mpl.figure.prototype.handle_cursor = function(fig, msg) {\n",
       "    var cursor = msg['cursor'];\n",
       "    switch(cursor)\n",
       "    {\n",
       "    case 0:\n",
       "        cursor = 'pointer';\n",
       "        break;\n",
       "    case 1:\n",
       "        cursor = 'default';\n",
       "        break;\n",
       "    case 2:\n",
       "        cursor = 'crosshair';\n",
       "        break;\n",
       "    case 3:\n",
       "        cursor = 'move';\n",
       "        break;\n",
       "    }\n",
       "    fig.rubberband_canvas.style.cursor = cursor;\n",
       "}\n",
       "\n",
       "mpl.figure.prototype.handle_message = function(fig, msg) {\n",
       "    fig.message.textContent = msg['message'];\n",
       "}\n",
       "\n",
       "mpl.figure.prototype.handle_draw = function(fig, msg) {\n",
       "    // Request the server to send over a new figure.\n",
       "    fig.send_draw_message();\n",
       "}\n",
       "\n",
       "mpl.figure.prototype.handle_image_mode = function(fig, msg) {\n",
       "    fig.image_mode = msg['mode'];\n",
       "}\n",
       "\n",
       "mpl.figure.prototype.updated_canvas_event = function() {\n",
       "    // Called whenever the canvas gets updated.\n",
       "    this.send_message(\"ack\", {});\n",
       "}\n",
       "\n",
       "// A function to construct a web socket function for onmessage handling.\n",
       "// Called in the figure constructor.\n",
       "mpl.figure.prototype._make_on_message_function = function(fig) {\n",
       "    return function socket_on_message(evt) {\n",
       "        if (evt.data instanceof Blob) {\n",
       "            /* FIXME: We get \"Resource interpreted as Image but\n",
       "             * transferred with MIME type text/plain:\" errors on\n",
       "             * Chrome.  But how to set the MIME type?  It doesn't seem\n",
       "             * to be part of the websocket stream */\n",
       "            evt.data.type = \"image/png\";\n",
       "\n",
       "            /* Free the memory for the previous frames */\n",
       "            if (fig.imageObj.src) {\n",
       "                (window.URL || window.webkitURL).revokeObjectURL(\n",
       "                    fig.imageObj.src);\n",
       "            }\n",
       "\n",
       "            fig.imageObj.src = (window.URL || window.webkitURL).createObjectURL(\n",
       "                evt.data);\n",
       "            fig.updated_canvas_event();\n",
       "            fig.waiting = false;\n",
       "            return;\n",
       "        }\n",
       "        else if (typeof evt.data === 'string' && evt.data.slice(0, 21) == \"data:image/png;base64\") {\n",
       "            fig.imageObj.src = evt.data;\n",
       "            fig.updated_canvas_event();\n",
       "            fig.waiting = false;\n",
       "            return;\n",
       "        }\n",
       "\n",
       "        var msg = JSON.parse(evt.data);\n",
       "        var msg_type = msg['type'];\n",
       "\n",
       "        // Call the  \"handle_{type}\" callback, which takes\n",
       "        // the figure and JSON message as its only arguments.\n",
       "        try {\n",
       "            var callback = fig[\"handle_\" + msg_type];\n",
       "        } catch (e) {\n",
       "            console.log(\"No handler for the '\" + msg_type + \"' message type: \", msg);\n",
       "            return;\n",
       "        }\n",
       "\n",
       "        if (callback) {\n",
       "            try {\n",
       "                // console.log(\"Handling '\" + msg_type + \"' message: \", msg);\n",
       "                callback(fig, msg);\n",
       "            } catch (e) {\n",
       "                console.log(\"Exception inside the 'handler_\" + msg_type + \"' callback:\", e, e.stack, msg);\n",
       "            }\n",
       "        }\n",
       "    };\n",
       "}\n",
       "\n",
       "// from http://stackoverflow.com/questions/1114465/getting-mouse-location-in-canvas\n",
       "mpl.findpos = function(e) {\n",
       "    //this section is from http://www.quirksmode.org/js/events_properties.html\n",
       "    var targ;\n",
       "    if (!e)\n",
       "        e = window.event;\n",
       "    if (e.target)\n",
       "        targ = e.target;\n",
       "    else if (e.srcElement)\n",
       "        targ = e.srcElement;\n",
       "    if (targ.nodeType == 3) // defeat Safari bug\n",
       "        targ = targ.parentNode;\n",
       "\n",
       "    // jQuery normalizes the pageX and pageY\n",
       "    // pageX,Y are the mouse positions relative to the document\n",
       "    // offset() returns the position of the element relative to the document\n",
       "    var x = e.pageX - $(targ).offset().left;\n",
       "    var y = e.pageY - $(targ).offset().top;\n",
       "\n",
       "    return {\"x\": x, \"y\": y};\n",
       "};\n",
       "\n",
       "/*\n",
       " * return a copy of an object with only non-object keys\n",
       " * we need this to avoid circular references\n",
       " * http://stackoverflow.com/a/24161582/3208463\n",
       " */\n",
       "function simpleKeys (original) {\n",
       "  return Object.keys(original).reduce(function (obj, key) {\n",
       "    if (typeof original[key] !== 'object')\n",
       "        obj[key] = original[key]\n",
       "    return obj;\n",
       "  }, {});\n",
       "}\n",
       "\n",
       "mpl.figure.prototype.mouse_event = function(event, name) {\n",
       "    var canvas_pos = mpl.findpos(event)\n",
       "\n",
       "    if (name === 'button_press')\n",
       "    {\n",
       "        this.canvas.focus();\n",
       "        this.canvas_div.focus();\n",
       "    }\n",
       "\n",
       "    var x = canvas_pos.x * mpl.ratio;\n",
       "    var y = canvas_pos.y * mpl.ratio;\n",
       "\n",
       "    this.send_message(name, {x: x, y: y, button: event.button,\n",
       "                             step: event.step,\n",
       "                             guiEvent: simpleKeys(event)});\n",
       "\n",
       "    /* This prevents the web browser from automatically changing to\n",
       "     * the text insertion cursor when the button is pressed.  We want\n",
       "     * to control all of the cursor setting manually through the\n",
       "     * 'cursor' event from matplotlib */\n",
       "    event.preventDefault();\n",
       "    return false;\n",
       "}\n",
       "\n",
       "mpl.figure.prototype._key_event_extra = function(event, name) {\n",
       "    // Handle any extra behaviour associated with a key event\n",
       "}\n",
       "\n",
       "mpl.figure.prototype.key_event = function(event, name) {\n",
       "\n",
       "    // Prevent repeat events\n",
       "    if (name == 'key_press')\n",
       "    {\n",
       "        if (event.which === this._key)\n",
       "            return;\n",
       "        else\n",
       "            this._key = event.which;\n",
       "    }\n",
       "    if (name == 'key_release')\n",
       "        this._key = null;\n",
       "\n",
       "    var value = '';\n",
       "    if (event.ctrlKey && event.which != 17)\n",
       "        value += \"ctrl+\";\n",
       "    if (event.altKey && event.which != 18)\n",
       "        value += \"alt+\";\n",
       "    if (event.shiftKey && event.which != 16)\n",
       "        value += \"shift+\";\n",
       "\n",
       "    value += 'k';\n",
       "    value += event.which.toString();\n",
       "\n",
       "    this._key_event_extra(event, name);\n",
       "\n",
       "    this.send_message(name, {key: value,\n",
       "                             guiEvent: simpleKeys(event)});\n",
       "    return false;\n",
       "}\n",
       "\n",
       "mpl.figure.prototype.toolbar_button_onclick = function(name) {\n",
       "    if (name == 'download') {\n",
       "        this.handle_save(this, null);\n",
       "    } else {\n",
       "        this.send_message(\"toolbar_button\", {name: name});\n",
       "    }\n",
       "};\n",
       "\n",
       "mpl.figure.prototype.toolbar_button_onmouseover = function(tooltip) {\n",
       "    this.message.textContent = tooltip;\n",
       "};\n",
       "mpl.toolbar_items = [[\"Home\", \"Reset original view\", \"fa fa-home icon-home\", \"home\"], [\"Back\", \"Back to  previous view\", \"fa fa-arrow-left icon-arrow-left\", \"back\"], [\"Forward\", \"Forward to next view\", \"fa fa-arrow-right icon-arrow-right\", \"forward\"], [\"\", \"\", \"\", \"\"], [\"Pan\", \"Pan axes with left mouse, zoom with right\", \"fa fa-arrows icon-move\", \"pan\"], [\"Zoom\", \"Zoom to rectangle\", \"fa fa-square-o icon-check-empty\", \"zoom\"], [\"\", \"\", \"\", \"\"], [\"Download\", \"Download plot\", \"fa fa-floppy-o icon-save\", \"download\"]];\n",
       "\n",
       "mpl.extensions = [\"eps\", \"pdf\", \"png\", \"ps\", \"raw\", \"svg\"];\n",
       "\n",
       "mpl.default_extension = \"png\";var comm_websocket_adapter = function(comm) {\n",
       "    // Create a \"websocket\"-like object which calls the given IPython comm\n",
       "    // object with the appropriate methods. Currently this is a non binary\n",
       "    // socket, so there is still some room for performance tuning.\n",
       "    var ws = {};\n",
       "\n",
       "    ws.close = function() {\n",
       "        comm.close()\n",
       "    };\n",
       "    ws.send = function(m) {\n",
       "        //console.log('sending', m);\n",
       "        comm.send(m);\n",
       "    };\n",
       "    // Register the callback with on_msg.\n",
       "    comm.on_msg(function(msg) {\n",
       "        //console.log('receiving', msg['content']['data'], msg);\n",
       "        // Pass the mpl event to the overriden (by mpl) onmessage function.\n",
       "        ws.onmessage(msg['content']['data'])\n",
       "    });\n",
       "    return ws;\n",
       "}\n",
       "\n",
       "mpl.mpl_figure_comm = function(comm, msg) {\n",
       "    // This is the function which gets called when the mpl process\n",
       "    // starts-up an IPython Comm through the \"matplotlib\" channel.\n",
       "\n",
       "    var id = msg.content.data.id;\n",
       "    // Get hold of the div created by the display call when the Comm\n",
       "    // socket was opened in Python.\n",
       "    var element = $(\"#\" + id);\n",
       "    var ws_proxy = comm_websocket_adapter(comm)\n",
       "\n",
       "    function ondownload(figure, format) {\n",
       "        window.open(figure.imageObj.src);\n",
       "    }\n",
       "\n",
       "    var fig = new mpl.figure(id, ws_proxy,\n",
       "                           ondownload,\n",
       "                           element.get(0));\n",
       "\n",
       "    // Call onopen now - mpl needs it, as it is assuming we've passed it a real\n",
       "    // web socket which is closed, not our websocket->open comm proxy.\n",
       "    ws_proxy.onopen();\n",
       "\n",
       "    fig.parent_element = element.get(0);\n",
       "    fig.cell_info = mpl.find_output_cell(\"<div id='\" + id + \"'></div>\");\n",
       "    if (!fig.cell_info) {\n",
       "        console.error(\"Failed to find cell for figure\", id, fig);\n",
       "        return;\n",
       "    }\n",
       "\n",
       "    var output_index = fig.cell_info[2]\n",
       "    var cell = fig.cell_info[0];\n",
       "\n",
       "};\n",
       "\n",
       "mpl.figure.prototype.handle_close = function(fig, msg) {\n",
       "    var width = fig.canvas.width/mpl.ratio\n",
       "    fig.root.unbind('remove')\n",
       "\n",
       "    // Update the output cell to use the data from the current canvas.\n",
       "    fig.push_to_output();\n",
       "    var dataURL = fig.canvas.toDataURL();\n",
       "    // Re-enable the keyboard manager in IPython - without this line, in FF,\n",
       "    // the notebook keyboard shortcuts fail.\n",
       "    IPython.keyboard_manager.enable()\n",
       "    $(fig.parent_element).html('<img src=\"' + dataURL + '\" width=\"' + width + '\">');\n",
       "    fig.close_ws(fig, msg);\n",
       "}\n",
       "\n",
       "mpl.figure.prototype.close_ws = function(fig, msg){\n",
       "    fig.send_message('closing', msg);\n",
       "    // fig.ws.close()\n",
       "}\n",
       "\n",
       "mpl.figure.prototype.push_to_output = function(remove_interactive) {\n",
       "    // Turn the data on the canvas into data in the output cell.\n",
       "    var width = this.canvas.width/mpl.ratio\n",
       "    var dataURL = this.canvas.toDataURL();\n",
       "    this.cell_info[1]['text/html'] = '<img src=\"' + dataURL + '\" width=\"' + width + '\">';\n",
       "}\n",
       "\n",
       "mpl.figure.prototype.updated_canvas_event = function() {\n",
       "    // Tell IPython that the notebook contents must change.\n",
       "    IPython.notebook.set_dirty(true);\n",
       "    this.send_message(\"ack\", {});\n",
       "    var fig = this;\n",
       "    // Wait a second, then push the new image to the DOM so\n",
       "    // that it is saved nicely (might be nice to debounce this).\n",
       "    setTimeout(function () { fig.push_to_output() }, 1000);\n",
       "}\n",
       "\n",
       "mpl.figure.prototype._init_toolbar = function() {\n",
       "    var fig = this;\n",
       "\n",
       "    var nav_element = $('<div/>')\n",
       "    nav_element.attr('style', 'width: 100%');\n",
       "    this.root.append(nav_element);\n",
       "\n",
       "    // Define a callback function for later on.\n",
       "    function toolbar_event(event) {\n",
       "        return fig.toolbar_button_onclick(event['data']);\n",
       "    }\n",
       "    function toolbar_mouse_event(event) {\n",
       "        return fig.toolbar_button_onmouseover(event['data']);\n",
       "    }\n",
       "\n",
       "    for(var toolbar_ind in mpl.toolbar_items){\n",
       "        var name = mpl.toolbar_items[toolbar_ind][0];\n",
       "        var tooltip = mpl.toolbar_items[toolbar_ind][1];\n",
       "        var image = mpl.toolbar_items[toolbar_ind][2];\n",
       "        var method_name = mpl.toolbar_items[toolbar_ind][3];\n",
       "\n",
       "        if (!name) { continue; };\n",
       "\n",
       "        var button = $('<button class=\"btn btn-default\" href=\"#\" title=\"' + name + '\"><i class=\"fa ' + image + ' fa-lg\"></i></button>');\n",
       "        button.click(method_name, toolbar_event);\n",
       "        button.mouseover(tooltip, toolbar_mouse_event);\n",
       "        nav_element.append(button);\n",
       "    }\n",
       "\n",
       "    // Add the status bar.\n",
       "    var status_bar = $('<span class=\"mpl-message\" style=\"text-align:right; float: right;\"/>');\n",
       "    nav_element.append(status_bar);\n",
       "    this.message = status_bar[0];\n",
       "\n",
       "    // Add the close button to the window.\n",
       "    var buttongrp = $('<div class=\"btn-group inline pull-right\"></div>');\n",
       "    var button = $('<button class=\"btn btn-mini btn-primary\" href=\"#\" title=\"Stop Interaction\"><i class=\"fa fa-power-off icon-remove icon-large\"></i></button>');\n",
       "    button.click(function (evt) { fig.handle_close(fig, {}); } );\n",
       "    button.mouseover('Stop Interaction', toolbar_mouse_event);\n",
       "    buttongrp.append(button);\n",
       "    var titlebar = this.root.find($('.ui-dialog-titlebar'));\n",
       "    titlebar.prepend(buttongrp);\n",
       "}\n",
       "\n",
       "mpl.figure.prototype._root_extra_style = function(el){\n",
       "    var fig = this\n",
       "    el.on(\"remove\", function(){\n",
       "\tfig.close_ws(fig, {});\n",
       "    });\n",
       "}\n",
       "\n",
       "mpl.figure.prototype._canvas_extra_style = function(el){\n",
       "    // this is important to make the div 'focusable\n",
       "    el.attr('tabindex', 0)\n",
       "    // reach out to IPython and tell the keyboard manager to turn it's self\n",
       "    // off when our div gets focus\n",
       "\n",
       "    // location in version 3\n",
       "    if (IPython.notebook.keyboard_manager) {\n",
       "        IPython.notebook.keyboard_manager.register_events(el);\n",
       "    }\n",
       "    else {\n",
       "        // location in version 2\n",
       "        IPython.keyboard_manager.register_events(el);\n",
       "    }\n",
       "\n",
       "}\n",
       "\n",
       "mpl.figure.prototype._key_event_extra = function(event, name) {\n",
       "    var manager = IPython.notebook.keyboard_manager;\n",
       "    if (!manager)\n",
       "        manager = IPython.keyboard_manager;\n",
       "\n",
       "    // Check for shift+enter\n",
       "    if (event.shiftKey && event.which == 13) {\n",
       "        this.canvas_div.blur();\n",
       "        // select the cell after this one\n",
       "        var index = IPython.notebook.find_cell_index(this.cell_info[0]);\n",
       "        IPython.notebook.select(index + 1);\n",
       "    }\n",
       "}\n",
       "\n",
       "mpl.figure.prototype.handle_save = function(fig, msg) {\n",
       "    fig.ondownload(fig, null);\n",
       "}\n",
       "\n",
       "\n",
       "mpl.find_output_cell = function(html_output) {\n",
       "    // Return the cell and output element which can be found *uniquely* in the notebook.\n",
       "    // Note - this is a bit hacky, but it is done because the \"notebook_saving.Notebook\"\n",
       "    // IPython event is triggered only after the cells have been serialised, which for\n",
       "    // our purposes (turning an active figure into a static one), is too late.\n",
       "    var cells = IPython.notebook.get_cells();\n",
       "    var ncells = cells.length;\n",
       "    for (var i=0; i<ncells; i++) {\n",
       "        var cell = cells[i];\n",
       "        if (cell.cell_type === 'code'){\n",
       "            for (var j=0; j<cell.output_area.outputs.length; j++) {\n",
       "                var data = cell.output_area.outputs[j];\n",
       "                if (data.data) {\n",
       "                    // IPython >= 3 moved mimebundle to data attribute of output\n",
       "                    data = data.data;\n",
       "                }\n",
       "                if (data['text/html'] == html_output) {\n",
       "                    return [cell, data, j];\n",
       "                }\n",
       "            }\n",
       "        }\n",
       "    }\n",
       "}\n",
       "\n",
       "// Register the function which deals with the matplotlib target/channel.\n",
       "// The kernel may be null if the page has been refreshed.\n",
       "if (IPython.notebook.kernel != null) {\n",
       "    IPython.notebook.kernel.comm_manager.register_target('matplotlib', mpl.mpl_figure_comm);\n",
       "}\n"
      ],
      "text/plain": [
       "<IPython.core.display.Javascript object>"
      ]
     },
     "metadata": {},
     "output_type": "display_data"
    },
    {
     "data": {
      "text/html": [
       "<img src=\"data:image/png;base64,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\" width=\"639.999990463257\">"
      ],
      "text/plain": [
       "<IPython.core.display.HTML object>"
      ]
     },
     "metadata": {},
     "output_type": "display_data"
    },
    {
     "data": {
      "application/vnd.jupyter.widget-view+json": {
       "model_id": "1e6b4402964243ccbd3ef62e500ac9f2",
       "version_major": 2,
       "version_minor": 0
      },
      "text/plain": [
       "A Jupyter Widget"
      ]
     },
     "metadata": {},
     "output_type": "display_data"
    },
    {
     "data": {
      "application/vnd.jupyter.widget-view+json": {
       "model_id": "d5a7897ff60d4c2891c4033c6fcdcc1a",
       "version_major": 2,
       "version_minor": 0
      },
      "text/plain": [
       "A Jupyter Widget"
      ]
     },
     "metadata": {},
     "output_type": "display_data"
    },
    {
     "data": {
      "application/vnd.jupyter.widget-view+json": {
       "model_id": "e463408339854d37a27bf624e2b8191a",
       "version_major": 2,
       "version_minor": 0
      },
      "text/plain": [
       "A Jupyter Widget"
      ]
     },
     "metadata": {},
     "output_type": "display_data"
    },
    {
     "data": {
      "application/vnd.jupyter.widget-view+json": {
       "model_id": "455ce5952bf84c068fa7fe12c24a11f1",
       "version_major": 2,
       "version_minor": 0
      },
      "text/plain": [
       "A Jupyter Widget"
      ]
     },
     "metadata": {},
     "output_type": "display_data"
    },
    {
     "data": {
      "application/vnd.jupyter.widget-view+json": {
       "model_id": "e0f23d07a7704648b194a1885034820a",
       "version_major": 2,
       "version_minor": 0
      },
      "text/plain": [
       "A Jupyter Widget"
      ]
     },
     "metadata": {},
     "output_type": "display_data"
    },
    {
     "data": {
      "application/vnd.jupyter.widget-view+json": {
       "model_id": "fc4183a4f54c48918b1ad6a5fe04cb38",
       "version_major": 2,
       "version_minor": 0
      },
      "text/plain": [
       "A Jupyter Widget"
      ]
     },
     "metadata": {},
     "output_type": "display_data"
    },
    {
     "data": {
      "text/plain": [
       "<calour.heatmap.plotgui_jupyter.PlotGUI_Jupyter at 0x11ff3d160>"
      ]
     },
     "execution_count": 34,
     "metadata": {},
     "output_type": "execute_result"
    }
   ],
   "source": [
    "m3s=hand.filter_samples('HOST_SUBJECT_ID','F4')\n",
    "\n",
    "m3s=m3s.sort_samples('DAYS_SINCE_EPOCH')\n",
    "\n",
    "dd=m3s.diff_abundance('COMMON_SAMPLE_SITE','L_palm')\n",
    "\n",
    "dd.sort_samples('COMMON_SAMPLE_SITE').plot(gui='jupyter')"
   ]
  },
  {
   "cell_type": "markdown",
   "metadata": {},
   "source": [
    "## Conclusions\n",
    "\n",
    "* We can identify the taxa that colonize and persist, the ones that disappear forever in the middle of the period, and the ones that stochastically come and go, which is also reported in the original paper.\n",
    "* In addition, with convenient exploration of the data in heatmap, we find a set of sOTUs appear together in a group. This set is enriched with skin bacteria. We can hypothesize that this set is likely from skin and is a result of sample collecting protocol."
   ]
  }
 ],
 "metadata": {
  "kernelspec": {
   "display_name": "Python 3",
   "language": "python",
   "name": "python3"
  },
  "language_info": {
   "codemirror_mode": {
    "name": "ipython",
    "version": 3
   },
   "file_extension": ".py",
   "mimetype": "text/x-python",
   "name": "python",
   "nbconvert_exporter": "python",
   "pygments_lexer": "ipython3",
   "version": "3.5.2"
  },
  "toc": {
   "colors": {
    "hover_highlight": "#DAA520",
    "navigate_num": "#000000",
    "navigate_text": "#333333",
    "running_highlight": "#FF0000",
    "selected_highlight": "#FFD700",
    "sidebar_border": "#EEEEEE",
    "wrapper_background": "#FFFFFF"
   },
   "moveMenuLeft": true,
   "nav_menu": {
    "height": "497px",
    "width": "251px"
   },
   "navigate_menu": true,
   "number_sections": true,
   "sideBar": true,
   "skip_h1_title": false,
   "threshold": 4,
   "toc_cell": false,
   "toc_position": {
    "height": "742px",
    "left": "0px",
    "right": "1900px",
    "top": "107px",
    "width": "212px"
   },
   "toc_section_display": "block",
   "toc_window_display": true,
   "widenNotebook": false
  },
  "widgets": {
   "application/vnd.jupyter.widget-state+json": {
    "state": {
     "012e221019a94d01a4bf42f81304e1c6": {
      "model_module": "@jupyter-widgets/base",
      "model_module_version": "1.0.0",
      "model_name": "LayoutModel",
      "state": {
       "width": "80%"
      }
     },
     "01483b3d11454d009b04e0f37db62d5c": {
      "model_module": "@jupyter-widgets/controls",
      "model_module_version": "1.0.0",
      "model_name": "HBoxModel",
      "state": {
       "children": [
        "IPY_MODEL_6d12924962da47d9b9e7c31f1342162d",
        "IPY_MODEL_04b559ec9a6d4f43b61bbff40df376c9"
       ],
       "layout": "IPY_MODEL_9564aaf6af4448e48ce7fee0dd82ec4f"
      }
     },
     "0331fcade72d491cb9a6f2c6d31a078b": {
      "model_module": "@jupyter-widgets/controls",
      "model_module_version": "1.0.0",
      "model_name": "DescriptionStyleModel",
      "state": {
       "description_width": ""
      }
     },
     "036a86d634774aeca2a0122cd61da7b7": {
      "model_module": "@jupyter-widgets/controls",
      "model_module_version": "1.0.0",
      "model_name": "LabelModel",
      "state": {
       "layout": "IPY_MODEL_4d65c8a1d6c7442393262b4b3dcbdb17",
       "style": "IPY_MODEL_63d718f7db4a46009b8584c6726d2cab",
       "value": "1 features are selected"
      }
     },
     "03f6047c9f73499fb6b85a1ec9316ca9": {
      "model_module": "@jupyter-widgets/controls",
      "model_module_version": "1.0.0",
      "model_name": "DescriptionStyleModel",
      "state": {
       "description_width": ""
      }
     },
     "04b559ec9a6d4f43b61bbff40df376c9": {
      "model_module": "@jupyter-widgets/controls",
      "model_module_version": "1.0.0",
      "model_name": "TextModel",
      "state": {
       "layout": "IPY_MODEL_b98b432d2e7b4889a0355c0064a0f8e3",
       "placeholder": "feature meta",
       "style": "IPY_MODEL_4310efb2b31b4762992fa053d4088a7d",
       "value": "k__Bacteria;p__Firmicutes;c__Clostridia;o__Clostridiales;f__Lachnospiraceae;g__Clostridium;s__colinum"
      }
     },
     "04ced3f50b2848cda26f0673635107b7": {
      "model_module": "@jupyter-widgets/base",
      "model_module_version": "1.0.0",
      "model_name": "LayoutModel",
      "state": {
       "height": "100px",
       "overflow_y": "auto"
      }
     },
     "065477f495a3403e9576e753738c5281": {
      "model_module": "@jupyter-widgets/controls",
      "model_module_version": "1.0.0",
      "model_name": "ButtonStyleModel",
      "state": {}
     },
     "07a20e102d6a4b3bbe1c45409cdc5a2b": {
      "model_module": "@jupyter-widgets/controls",
      "model_module_version": "1.0.0",
      "model_name": "TextModel",
      "state": {
       "layout": "IPY_MODEL_3f37e437ac38423da9cb86e48fcbcf3d",
       "placeholder": "sample meta",
       "style": "IPY_MODEL_389856c273d84ed5ad5f5d77e53dfda1",
       "value": "-"
      }
     },
     "07b5fdbac32348acb409a3e8f863bee6": {
      "model_module": "@jupyter-widgets/base",
      "model_module_version": "1.0.0",
      "model_name": "LayoutModel",
      "state": {}
     },
     "07f7bddc049e456d86d51ff7e0577e3f": {
      "model_module": "@jupyter-widgets/base",
      "model_module_version": "1.0.0",
      "model_name": "LayoutModel",
      "state": {}
     },
     "0814cba0cfe54c2ebd49929f5830857d": {
      "model_module": "@jupyter-widgets/controls",
      "model_module_version": "1.0.0",
      "model_name": "ButtonStyleModel",
      "state": {}
     },
     "085e2b521d3c4153953b4bff9fb05c20": {
      "model_module": "@jupyter-widgets/controls",
      "model_module_version": "1.0.0",
      "model_name": "DescriptionStyleModel",
      "state": {
       "description_width": ""
      }
     },
     "0a5344a830e443f7a47963df1d935c69": {
      "model_module": "@jupyter-widgets/controls",
      "model_module_version": "1.0.0",
      "model_name": "ButtonModel",
      "state": {
       "description": "Save",
       "layout": "IPY_MODEL_bb941c7f338946dfab77f8ef094c5db5",
       "style": "IPY_MODEL_ac6e562b1bec4a5c8850ba8f05eee4d0"
      }
     },
     "0adc33e13d8a47ca8512736853f7de09": {
      "model_module": "@jupyter-widgets/base",
      "model_module_version": "1.0.0",
      "model_name": "LayoutModel",
      "state": {}
     },
     "0af488d5ead240d5b8d72b027be47f09": {
      "model_module": "@jupyter-widgets/controls",
      "model_module_version": "1.0.0",
      "model_name": "FloatTextModel",
      "state": {
       "description": "Abundance",
       "layout": "IPY_MODEL_a675af37ae004d30bd9cf2809e15dc9e",
       "step": null,
       "style": "IPY_MODEL_dbd560f12f3f4d5daa59173478f758fd"
      }
     },
     "0bb7eb9d936d4dd58197e20f37eae634": {
      "model_module": "@jupyter-widgets/controls",
      "model_module_version": "1.0.0",
      "model_name": "DropdownModel",
      "state": {
       "_options_labels": [
        "BarcodeSequence",
        "LinkerPrimerSequence",
        "DAYS_SINCE_EPOCH",
        "TARGET_SUBFRAGMENT",
        "ASSIGNED_FROM_GEO",
        "EXPERIMENT_CENTER",
        "TITLE",
        "COMMON_SAMPLE_SITE",
        "RUN_PREFIX",
        "HOST_COMMON_NAME",
        "DEPTH",
        "COMMON_NAME",
        "BODY_SITE",
        "ELEVATION",
        "RUN_DATE",
        "DAYS_SINCE_EXPERIMENT_START",
        "COLLECTION_DATE",
        "ALTITUDE",
        "ENV_BIOME",
        "SEX",
        "PLATFORM",
        "STUDY_CENTER",
        "COUNTRY",
        "HOST_SUBJECT_ID",
        "ANONYMIZED_NAME",
        "TAXON_ID",
        "SAMPLE_CENTER",
        "SAMP_SIZE",
        "MISLABELED",
        "LONGITUDE",
        "STUDY_ID",
        "EXPERIMENT_DESIGN_DESCRIPTION",
        "Description_duplicate",
        "BODY_HABITAT",
        "SEQUENCING_METH",
        "ENV_MATTER",
        "TARGET_GENE",
        "ENV_FEATURE",
        "KEY_SEQ",
        "BODY_PRODUCT",
        "AGE_IN_YEARS",
        "RUN_CENTER",
        "LIBRARY_CONSTRUCTION_PROTOCOL",
        "LATITUDE",
        "REGION",
        "HOST_INDIVIDUAL",
        "Description",
        "_calour_original_abundance"
       ],
       "index": 0,
       "layout": "IPY_MODEL_ab9ebc442aa1451ab38cfa5b47560557",
       "style": "IPY_MODEL_e9d965a6a729469c92605c4afc27af37"
      }
     },
     "0c3a13b6b05b486789b122e915630168": {
      "model_module": "@jupyter-widgets/base",
      "model_module_version": "1.0.0",
      "model_name": "LayoutModel",
      "state": {}
     },
     "0c8683ee0cef4f5f942b1d6e96efa2f4": {
      "model_module": "@jupyter-widgets/controls",
      "model_module_version": "1.0.0",
      "model_name": "ButtonModel",
      "state": {
       "description": "Annotate",
       "layout": "IPY_MODEL_dc793f054ea040b19c041a3636137986",
       "style": "IPY_MODEL_3fb94f24baaf4505853e8a507f7da69d"
      }
     },
     "0cdb0578697b410ca08645a5aa7fb736": {
      "model_module": "@jupyter-widgets/controls",
      "model_module_version": "1.0.0",
      "model_name": "DescriptionStyleModel",
      "state": {
       "description_width": ""
      }
     },
     "0df2871c27214409987cf2350ac3c50f": {
      "model_module": "@jupyter-widgets/base",
      "model_module_version": "1.0.0",
      "model_name": "LayoutModel",
      "state": {}
     },
     "10ee57c1f0134a5993681502ce07bbd2": {
      "model_module": "@jupyter-widgets/base",
      "model_module_version": "1.0.0",
      "model_name": "LayoutModel",
      "state": {}
     },
     "112d50a8e2e24b99b873643bb18c3c03": {
      "model_module": "@jupyter-widgets/controls",
      "model_module_version": "1.0.0",
      "model_name": "TextModel",
      "state": {
       "layout": "IPY_MODEL_cce38353e2d24f3eacec6677d1a9959b",
       "placeholder": "feature meta",
       "style": "IPY_MODEL_79b2bbcbf8da4ee69d1e88810cbe0229",
       "value": "-"
      }
     },
     "117ef7b838c44664a79bf028f4bedf66": {
      "model_module": "@jupyter-widgets/controls",
      "model_module_version": "1.0.0",
      "model_name": "ButtonStyleModel",
      "state": {}
     },
     "11986e22e07d440ebd1da2360c911deb": {
      "model_module": "@jupyter-widgets/controls",
      "model_module_version": "1.0.0",
      "model_name": "DescriptionStyleModel",
      "state": {
       "description_width": ""
      }
     },
     "11e98753d42e4741865a24beb0f1527c": {
      "model_module": "@jupyter-widgets/base",
      "model_module_version": "1.0.0",
      "model_name": "LayoutModel",
      "state": {}
     },
     "11e9afdcec094ea986d8b594f6958ee0": {
      "model_module": "@jupyter-widgets/controls",
      "model_module_version": "1.0.0",
      "model_name": "ButtonStyleModel",
      "state": {}
     },
     "1202fc98886d4c33ac5ad48f5e05ec6a": {
      "model_module": "@jupyter-widgets/controls",
      "model_module_version": "1.0.0",
      "model_name": "ButtonModel",
      "state": {
       "description": "Annotate",
       "layout": "IPY_MODEL_723257f7c8ab4db58f2c95de76f45ad8",
       "style": "IPY_MODEL_7c1d7c71ee20443dba5cf2698fb88800"
      }
     },
     "121bc2afe670426fb326252c35e5a166": {
      "model_module": "@jupyter-widgets/controls",
      "model_module_version": "1.0.0",
      "model_name": "TextModel",
      "state": {
       "description": "Feature ID",
       "layout": "IPY_MODEL_8fc8ba82a8d34e8d80d5fd479159e13e",
       "placeholder": "Feature ID",
       "style": "IPY_MODEL_bc127eb9357a49b29bdd3df9b68e3b6b",
       "value": "-"
      }
     },
     "123bfe8f584447ceaf65f0377001ba0c": {
      "model_module": "@jupyter-widgets/base",
      "model_module_version": "1.0.0",
      "model_name": "LayoutModel",
      "state": {}
     },
     "12bd3a6817624d1a839be41da14b776f": {
      "model_module": "@jupyter-widgets/controls",
      "model_module_version": "1.0.0",
      "model_name": "FloatTextModel",
      "state": {
       "description": "Abundance",
       "layout": "IPY_MODEL_2f72e002f43849c2983d9078805d2136",
       "step": null,
       "style": "IPY_MODEL_8a16f061defc419297191ddaac358d2f",
       "value": 452.52225519287816
      }
     },
     "131a6e1d52684587982d0072e7eb142c": {
      "model_module": "@jupyter-widgets/controls",
      "model_module_version": "1.0.0",
      "model_name": "TextModel",
      "state": {
       "description": "Feature ID",
       "layout": "IPY_MODEL_9aa7dacdba974d3ebe25ab22b0ac0d12",
       "placeholder": "Feature ID",
       "style": "IPY_MODEL_838d47814c8a47e4a61a0da67bf8e0d7",
       "value": "TACGTATGGTGCAAGCGTTATCCGGATTTACTGGGTGTAAAGGGTGAGTAGGCGGTTATGCAAGTCATATGTGAAATTCTGGGGCTCAACCTCAGAGCTGCATAAGAAACTGTGTAACTAGAGTACAGGAGAGGTAAGCGGAATTCCTA"
      }
     },
     "15bc2662bb4b4c8e9c2949f6dc69e068": {
      "model_module": "@jupyter-widgets/controls",
      "model_module_version": "1.0.0",
      "model_name": "HTMLModel",
      "state": {
       "layout": "IPY_MODEL_7af607f6796841c797832c3705efc12b",
       "style": "IPY_MODEL_dac9192969f54b9b8eb0e86c61401599",
       "value": "no annotation found"
      }
     },
     "15c39245419c430296479d6907cd0be2": {
      "model_module": "@jupyter-widgets/controls",
      "model_module_version": "1.0.0",
      "model_name": "LabelModel",
      "state": {
       "layout": "IPY_MODEL_87be3f3255db41fbb27476ad5231a8c0",
       "style": "IPY_MODEL_c31d78f3aa7e4e84b3a8aa260eed7e8e",
       "value": "0 features are selected"
      }
     },
     "16e5e398fc764fb482d6c0eb38b6207c": {
      "model_module": "@jupyter-widgets/controls",
      "model_module_version": "1.0.0",
      "model_name": "HBoxModel",
      "state": {
       "children": [
        "IPY_MODEL_61fb22e5726e4e6e96fbf9e2f1b5932f",
        "IPY_MODEL_8af1496550f2498483a077f43e825697",
        "IPY_MODEL_73ed8475589f4989b4a04c2b668ac876"
       ],
       "layout": "IPY_MODEL_07b5fdbac32348acb409a3e8f863bee6"
      }
     },
     "171c17e09c854472bb2b9f1b83291c1c": {
      "model_module": "@jupyter-widgets/base",
      "model_module_version": "1.0.0",
      "model_name": "LayoutModel",
      "state": {}
     },
     "17f0f8e9f73b4cc99ac065262543d0e5": {
      "model_module": "@jupyter-widgets/controls",
      "model_module_version": "1.0.0",
      "model_name": "TextModel",
      "state": {
       "layout": "IPY_MODEL_d28ed86ef52b4d52b6b36405559138a5",
       "placeholder": "feature meta",
       "style": "IPY_MODEL_a96c8b839b63437d9896ef2ace157ef5",
       "value": "-"
      }
     },
     "184c2b07da1148b78b3dd61265a6d74f": {
      "model_module": "@jupyter-widgets/base",
      "model_module_version": "1.0.0",
      "model_name": "LayoutModel",
      "state": {}
     },
     "185e65df0b1a432a98fc2f30b1a23b63": {
      "model_module": "@jupyter-widgets/base",
      "model_module_version": "1.0.0",
      "model_name": "LayoutModel",
      "state": {}
     },
     "19966628086144a985249e20bb0ef259": {
      "model_module": "@jupyter-widgets/base",
      "model_module_version": "1.0.0",
      "model_name": "LayoutModel",
      "state": {
       "width": "80%"
      }
     },
     "19a328341d4e4c4b8c35044f14f28067": {
      "model_module": "@jupyter-widgets/controls",
      "model_module_version": "1.0.0",
      "model_name": "TextModel",
      "state": {
       "description": "Feature ID",
       "layout": "IPY_MODEL_2f72e002f43849c2983d9078805d2136",
       "placeholder": "Feature ID",
       "style": "IPY_MODEL_e46c674e5c9e496da8f25d1a435f9a75",
       "value": "AACGTAGGGTGCAAGCGTTGTCCGGAATTACTGGGTGTAAAGGGAGCGCAGGCGGGAAGACAAGTTGGAAGTGAAAACCATGGGCTCAACCCATGAATTGCTTTCAAAACTGTTTTTCTTGAGTAGTGCAGAGGTAGATGGAATTCCCG"
      }
     },
     "1ae7fb4616fa4b2b96d786719cfe33e5": {
      "model_module": "@jupyter-widgets/controls",
      "model_module_version": "1.0.0",
      "model_name": "ButtonStyleModel",
      "state": {}
     },
     "1bc5ff99fc3647af8a830e8480b237cb": {
      "model_module": "@jupyter-widgets/base",
      "model_module_version": "1.0.0",
      "model_name": "LayoutModel",
      "state": {}
     },
     "1bdda499588749fba28c69d6d86a39fa": {
      "model_module": "@jupyter-widgets/controls",
      "model_module_version": "1.0.0",
      "model_name": "DescriptionStyleModel",
      "state": {
       "description_width": ""
      }
     },
     "1c161d99193b4b90a5957488e50f56a4": {
      "model_module": "@jupyter-widgets/controls",
      "model_module_version": "1.0.0",
      "model_name": "ButtonModel",
      "state": {
       "description": "print axes ranges",
       "layout": "IPY_MODEL_9ed12d89751f43198287f5137bc6b047",
       "style": "IPY_MODEL_117ef7b838c44664a79bf028f4bedf66"
      }
     },
     "1c903c1ffd484cdb8634ecf8756cc52c": {
      "model_module": "@jupyter-widgets/controls",
      "model_module_version": "1.0.0",
      "model_name": "ButtonModel",
      "state": {
       "description": "print axes ranges",
       "layout": "IPY_MODEL_f4740afa1b8344cca2b311e4ba19979f",
       "style": "IPY_MODEL_0814cba0cfe54c2ebd49929f5830857d"
      }
     },
     "1dee773de00b4fc18b1353ce73148509": {
      "model_module": "@jupyter-widgets/controls",
      "model_module_version": "1.0.0",
      "model_name": "ButtonStyleModel",
      "state": {}
     },
     "1e6b4402964243ccbd3ef62e500ac9f2": {
      "model_module": "@jupyter-widgets/controls",
      "model_module_version": "1.0.0",
      "model_name": "LabelModel",
      "state": {
       "layout": "IPY_MODEL_4fbc7ea9bdf040529cf73e53d10be718",
       "style": "IPY_MODEL_b6d9cf2393d74e11b2fcb751b3c02740",
       "value": "0 features are selected"
      }
     },
     "1eb5c1db407642dfa25656424b9b253b": {
      "model_module": "@jupyter-widgets/controls",
      "model_module_version": "1.0.0",
      "model_name": "DropdownModel",
      "state": {
       "_options_labels": [
        "taxonomy",
        "_calour_diff_abundance_effect",
        "_calour_diff_abundance_pval"
       ],
       "index": 0,
       "layout": "IPY_MODEL_44239049693a4e2e9867b9c9364dd2af",
       "style": "IPY_MODEL_7ef00b48f7174be29772b7f36b051db2"
      }
     },
     "1ee4d1d5f5284e278db29980cde21941": {
      "model_module": "@jupyter-widgets/controls",
      "model_module_version": "1.0.0",
      "model_name": "HTMLModel",
      "state": {
       "layout": "IPY_MODEL_c7e3654873ab4613b1678bf6f68d1c0b",
       "style": "IPY_MODEL_5c604c0dba714f41b1de07294ea3ee62",
       "value": "no annotation found"
      }
     },
     "1fc9ea5b76714d69a3d499964b8070a2": {
      "model_module": "@jupyter-widgets/controls",
      "model_module_version": "1.0.0",
      "model_name": "DropdownModel",
      "state": {
       "_options_labels": [
        "taxonomy"
       ],
       "index": 0,
       "layout": "IPY_MODEL_c921376db0c74ee79d4889c8cbd070cf",
       "style": "IPY_MODEL_db16d3e27cbe4c169dd684cbc4f9169c"
      }
     },
     "20e478f56c4b4bdbb7cae1ca15e1aaa2": {
      "model_module": "@jupyter-widgets/controls",
      "model_module_version": "1.0.0",
      "model_name": "DescriptionStyleModel",
      "state": {
       "description_width": ""
      }
     },
     "2176e80cf31544848c1a55d52e05d93d": {
      "model_module": "@jupyter-widgets/controls",
      "model_module_version": "1.0.0",
      "model_name": "HBoxModel",
      "state": {
       "children": [
        "IPY_MODEL_63b8c9c8562e494488056ede90484ef5",
        "IPY_MODEL_f1308e3a388143f28b4674d66f3d86f4",
        "IPY_MODEL_319d779898414bc295e6f51dce5b0bb6"
       ],
       "layout": "IPY_MODEL_30e6cc79df714a64a709fe11bb92a4a2"
      }
     },
     "2192255a11ea4012abe95e9b037f4457": {
      "model_module": "@jupyter-widgets/base",
      "model_module_version": "1.0.0",
      "model_name": "LayoutModel",
      "state": {
       "width": "80%"
      }
     },
     "221bb4c2d4b346d996f27ffe8cc2a4a7": {
      "model_module": "@jupyter-widgets/controls",
      "model_module_version": "1.0.0",
      "model_name": "DescriptionStyleModel",
      "state": {
       "description_width": ""
      }
     },
     "2224f466c3ce4dbb86a05980618e5d4a": {
      "model_module": "@jupyter-widgets/controls",
      "model_module_version": "1.0.0",
      "model_name": "DescriptionStyleModel",
      "state": {
       "description_width": ""
      }
     },
     "225c040841014a1a9a3c545ff44c839b": {
      "model_module": "@jupyter-widgets/controls",
      "model_module_version": "1.0.0",
      "model_name": "ButtonModel",
      "state": {
       "description": "Save",
       "layout": "IPY_MODEL_0df2871c27214409987cf2350ac3c50f",
       "style": "IPY_MODEL_81d8f4cf876f485394d710d6d17cc2d0"
      }
     },
     "2287eab978b1467b8a8a8a11de61768e": {
      "model_module": "@jupyter-widgets/controls",
      "model_module_version": "1.0.0",
      "model_name": "ButtonModel",
      "state": {
       "description": "Annotate",
       "layout": "IPY_MODEL_aab2096f25e5447aad462c9bf7220349",
       "style": "IPY_MODEL_d4ec6de383dd43c1b60443d904a136ac"
      }
     },
     "22b44173dcb04594b1d23ca9919534f9": {
      "model_module": "@jupyter-widgets/controls",
      "model_module_version": "1.0.0",
      "model_name": "ButtonModel",
      "state": {
       "description": "Annotate",
       "layout": "IPY_MODEL_2c723e59a0a8464c91d72d2f4fc74caf",
       "style": "IPY_MODEL_26a8767d03834cc89703a4fd7573ff8b"
      }
     },
     "23236f71301c425eae27186e1da30263": {
      "model_module": "@jupyter-widgets/base",
      "model_module_version": "1.0.0",
      "model_name": "LayoutModel",
      "state": {}
     },
     "2333813ee184451486c5df08b807b079": {
      "model_module": "@jupyter-widgets/controls",
      "model_module_version": "1.0.0",
      "model_name": "DescriptionStyleModel",
      "state": {
       "description_width": ""
      }
     },
     "2355974b3b8144cd8e38f644b8324acd": {
      "model_module": "@jupyter-widgets/controls",
      "model_module_version": "1.0.0",
      "model_name": "HBoxModel",
      "state": {
       "children": [
        "IPY_MODEL_e35629f96c404a769b463388558ed875",
        "IPY_MODEL_8f79173bab74421387cb111c859c1fe7"
       ],
       "layout": "IPY_MODEL_a1f6feba2a004d88abfa0cb505f1acd8"
      }
     },
     "2394229b78c64da2905eda0a3c152e36": {
      "model_module": "@jupyter-widgets/controls",
      "model_module_version": "1.0.0",
      "model_name": "TextModel",
      "state": {
       "description": "Sample ID",
       "layout": "IPY_MODEL_4fc117da579c4683aa9d90d51d89746f",
       "placeholder": "Sample ID",
       "style": "IPY_MODEL_a5e968b63df34f96a8bddffcb2174119",
       "value": "-"
      }
     },
     "23d78717dac14baeb842f4a4f2d3b0d5": {
      "model_module": "@jupyter-widgets/base",
      "model_module_version": "1.0.0",
      "model_name": "LayoutModel",
      "state": {
       "width": "100%"
      }
     },
     "23e365d7d2714d9eb2772c128419e3b8": {
      "model_module": "@jupyter-widgets/controls",
      "model_module_version": "1.0.0",
      "model_name": "DescriptionStyleModel",
      "state": {
       "description_width": ""
      }
     },
     "248af97586974509ba0dc5b5c12d992f": {
      "model_module": "@jupyter-widgets/controls",
      "model_module_version": "1.0.0",
      "model_name": "DescriptionStyleModel",
      "state": {
       "description_width": ""
      }
     },
     "251893b414de4a81b5dab99ed5644bf6": {
      "model_module": "@jupyter-widgets/base",
      "model_module_version": "1.0.0",
      "model_name": "LayoutModel",
      "state": {}
     },
     "25a5e992b2b3485098ff0cb018d0bd0b": {
      "model_module": "@jupyter-widgets/base",
      "model_module_version": "1.0.0",
      "model_name": "LayoutModel",
      "state": {
       "width": "20%"
      }
     },
     "25c6a6792ee148cf982fc013a2a0e842": {
      "model_module": "@jupyter-widgets/controls",
      "model_module_version": "1.0.0",
      "model_name": "DescriptionStyleModel",
      "state": {
       "description_width": ""
      }
     },
     "25d9e28a9d73404f9e7955cb78eeed1a": {
      "model_module": "@jupyter-widgets/base",
      "model_module_version": "1.0.0",
      "model_name": "LayoutModel",
      "state": {
       "width": "20%"
      }
     },
     "25f7539def3d42f1a351f4e94d6be437": {
      "model_module": "@jupyter-widgets/base",
      "model_module_version": "1.0.0",
      "model_name": "LayoutModel",
      "state": {
       "width": "100%"
      }
     },
     "265afb1d8b7a4a9ead24cd32abfa45df": {
      "model_module": "@jupyter-widgets/base",
      "model_module_version": "1.0.0",
      "model_name": "LayoutModel",
      "state": {
       "width": "100%"
      }
     },
     "2678201bd2cd499a8aa6432c45dacb3e": {
      "model_module": "@jupyter-widgets/controls",
      "model_module_version": "1.0.0",
      "model_name": "DescriptionStyleModel",
      "state": {
       "description_width": ""
      }
     },
     "26a8767d03834cc89703a4fd7573ff8b": {
      "model_module": "@jupyter-widgets/controls",
      "model_module_version": "1.0.0",
      "model_name": "ButtonStyleModel",
      "state": {}
     },
     "27948c73b4f04d0d8fc9b54bb5e70374": {
      "model_module": "@jupyter-widgets/controls",
      "model_module_version": "1.0.0",
      "model_name": "DescriptionStyleModel",
      "state": {
       "description_width": ""
      }
     },
     "289f3ee0bb304e8e8bc948e3b15a9e26": {
      "model_module": "@jupyter-widgets/controls",
      "model_module_version": "1.0.0",
      "model_name": "HBoxModel",
      "state": {
       "children": [
        "IPY_MODEL_4ffbb996f2c54d14aa5e6575e8e57a38",
        "IPY_MODEL_e96bb02b84a94337aa8b6092996ccd04"
       ],
       "layout": "IPY_MODEL_719bbc4f923144ce802a459aac4e924f"
      }
     },
     "294ccd99b92f460099a79d383bae942a": {
      "model_module": "@jupyter-widgets/controls",
      "model_module_version": "1.0.0",
      "model_name": "DescriptionStyleModel",
      "state": {
       "description_width": ""
      }
     },
     "2a5161316da24c478af54e2b683a74d7": {
      "model_module": "@jupyter-widgets/base",
      "model_module_version": "1.0.0",
      "model_name": "LayoutModel",
      "state": {}
     },
     "2a6a92b479b7453788918064f9c10d61": {
      "model_module": "@jupyter-widgets/controls",
      "model_module_version": "1.0.0",
      "model_name": "ButtonModel",
      "state": {
       "description": "print axes ranges",
       "layout": "IPY_MODEL_9a1c8dbcbcb74024b47f3428348e555c",
       "style": "IPY_MODEL_d0301ae7003942cb8321266daa3b5af2"
      }
     },
     "2b8b32ec893542218ecdc986b1290d4b": {
      "model_module": "@jupyter-widgets/base",
      "model_module_version": "1.0.0",
      "model_name": "LayoutModel",
      "state": {}
     },
     "2c723e59a0a8464c91d72d2f4fc74caf": {
      "model_module": "@jupyter-widgets/base",
      "model_module_version": "1.0.0",
      "model_name": "LayoutModel",
      "state": {}
     },
     "2cb2918fa02a4960b25f613227d0b730": {
      "model_module": "@jupyter-widgets/base",
      "model_module_version": "1.0.0",
      "model_name": "LayoutModel",
      "state": {}
     },
     "2ce23dff60324f9da642819aeb13aa42": {
      "model_module": "@jupyter-widgets/base",
      "model_module_version": "1.0.0",
      "model_name": "LayoutModel",
      "state": {
       "width": "20%"
      }
     },
     "2d233b5b2e104df6b575f5d1860fc105": {
      "model_module": "@jupyter-widgets/controls",
      "model_module_version": "1.0.0",
      "model_name": "DescriptionStyleModel",
      "state": {
       "description_width": ""
      }
     },
     "2d77f342f80e4141b4ac7f4b934facad": {
      "model_module": "@jupyter-widgets/base",
      "model_module_version": "1.0.0",
      "model_name": "LayoutModel",
      "state": {}
     },
     "2e45ff603eab4b7093312994b40c26f3": {
      "model_module": "@jupyter-widgets/controls",
      "model_module_version": "1.0.0",
      "model_name": "HBoxModel",
      "state": {
       "children": [
        "IPY_MODEL_34cb362293db4e93b1414f3e79c6a48a",
        "IPY_MODEL_527c76bc1fcb45c38a9c97b6f3630e6a"
       ],
       "layout": "IPY_MODEL_569cff51384f4beca24d16f8ce7ae7ea"
      }
     },
     "2ebdadd7c57d4cffa92848be36726363": {
      "model_module": "@jupyter-widgets/controls",
      "model_module_version": "1.0.0",
      "model_name": "HBoxModel",
      "state": {
       "children": [
        "IPY_MODEL_defed479701f4185b4131c3a9afdabaa",
        "IPY_MODEL_bcbf80535c9d42138fb9fffb1bd21ce0",
        "IPY_MODEL_6bea0bc3bc934b4f95a9a2fd42f7dd57"
       ],
       "layout": "IPY_MODEL_3d0186fbac5c4177812b9eb46381cdec"
      }
     },
     "2f6645405f9f41fd9025a99c13cd2364": {
      "model_module": "@jupyter-widgets/controls",
      "model_module_version": "1.0.0",
      "model_name": "DropdownModel",
      "state": {
       "_options_labels": [
        "taxonomy"
       ],
       "index": 0,
       "layout": "IPY_MODEL_2ce23dff60324f9da642819aeb13aa42",
       "style": "IPY_MODEL_5568dd70bd994fa49111065d35711ba5"
      }
     },
     "2f72e002f43849c2983d9078805d2136": {
      "model_module": "@jupyter-widgets/base",
      "model_module_version": "1.0.0",
      "model_name": "LayoutModel",
      "state": {
       "width": "100%"
      }
     },
     "2f9cc6b086b44ae098d232fa776c50cd": {
      "model_module": "@jupyter-widgets/base",
      "model_module_version": "1.0.0",
      "model_name": "LayoutModel",
      "state": {
       "width": "80%"
      }
     },
     "30e6cc79df714a64a709fe11bb92a4a2": {
      "model_module": "@jupyter-widgets/base",
      "model_module_version": "1.0.0",
      "model_name": "LayoutModel",
      "state": {}
     },
     "3191040eb9de4d389881dccca0089c0d": {
      "model_module": "@jupyter-widgets/controls",
      "model_module_version": "1.0.0",
      "model_name": "DescriptionStyleModel",
      "state": {
       "description_width": ""
      }
     },
     "319d779898414bc295e6f51dce5b0bb6": {
      "model_module": "@jupyter-widgets/controls",
      "model_module_version": "1.0.0",
      "model_name": "FloatTextModel",
      "state": {
       "description": "Abundance",
       "layout": "IPY_MODEL_23d78717dac14baeb842f4a4f2d3b0d5",
       "step": null,
       "style": "IPY_MODEL_0331fcade72d491cb9a6f2c6d31a078b"
      }
     },
     "33395a3de83a4113a498837125345622": {
      "model_module": "@jupyter-widgets/controls",
      "model_module_version": "1.0.0",
      "model_name": "TextModel",
      "state": {
       "description": "Sample ID",
       "layout": "IPY_MODEL_2f72e002f43849c2983d9078805d2136",
       "placeholder": "Sample ID",
       "style": "IPY_MODEL_27948c73b4f04d0d8fc9b54bb5e70374",
       "value": "L1S206.273247"
      }
     },
     "33700f970f874ef1bb0b4ad14eed98f8": {
      "model_module": "@jupyter-widgets/controls",
      "model_module_version": "1.0.0",
      "model_name": "DescriptionStyleModel",
      "state": {
       "description_width": ""
      }
     },
     "34cb362293db4e93b1414f3e79c6a48a": {
      "model_module": "@jupyter-widgets/controls",
      "model_module_version": "1.0.0",
      "model_name": "DropdownModel",
      "state": {
       "_options_labels": [
        "BarcodeSequence",
        "LinkerPrimerSequence",
        "DAYS_SINCE_EPOCH",
        "TARGET_SUBFRAGMENT",
        "ASSIGNED_FROM_GEO",
        "EXPERIMENT_CENTER",
        "TITLE",
        "COMMON_SAMPLE_SITE",
        "RUN_PREFIX",
        "HOST_COMMON_NAME",
        "DEPTH",
        "COMMON_NAME",
        "BODY_SITE",
        "ELEVATION",
        "RUN_DATE",
        "DAYS_SINCE_EXPERIMENT_START",
        "COLLECTION_DATE",
        "ALTITUDE",
        "ENV_BIOME",
        "SEX",
        "PLATFORM",
        "STUDY_CENTER",
        "COUNTRY",
        "HOST_SUBJECT_ID",
        "ANONYMIZED_NAME",
        "TAXON_ID",
        "SAMPLE_CENTER",
        "SAMP_SIZE",
        "MISLABELED",
        "LONGITUDE",
        "STUDY_ID",
        "EXPERIMENT_DESIGN_DESCRIPTION",
        "Description_duplicate",
        "BODY_HABITAT",
        "SEQUENCING_METH",
        "ENV_MATTER",
        "TARGET_GENE",
        "ENV_FEATURE",
        "KEY_SEQ",
        "BODY_PRODUCT",
        "AGE_IN_YEARS",
        "RUN_CENTER",
        "LIBRARY_CONSTRUCTION_PROTOCOL",
        "LATITUDE",
        "REGION",
        "HOST_INDIVIDUAL",
        "Description",
        "_calour_original_abundance"
       ],
       "index": 0,
       "layout": "IPY_MODEL_e359a3372b574bb5bd7926d59818e566",
       "style": "IPY_MODEL_f7df362be6234aa58709a8ebe11b9512"
      }
     },
     "35031248f59444929b2cfaab3af661bd": {
      "model_module": "@jupyter-widgets/controls",
      "model_module_version": "1.0.0",
      "model_name": "ButtonModel",
      "state": {
       "description": "print axes ranges",
       "layout": "IPY_MODEL_996a9d5fd382489ea66ad11df6b62c86",
       "style": "IPY_MODEL_065477f495a3403e9576e753738c5281"
      }
     },
     "35b131b99f9542378ec43e4ca384a247": {
      "model_module": "@jupyter-widgets/controls",
      "model_module_version": "1.0.0",
      "model_name": "TextModel",
      "state": {
       "description": "Sample ID",
       "layout": "IPY_MODEL_a675af37ae004d30bd9cf2809e15dc9e",
       "placeholder": "Sample ID",
       "style": "IPY_MODEL_d76d733669c34aa8861cb57e88d24152",
       "value": "-"
      }
     },
     "35ca59f99d09417093d0ab712c48a469": {
      "model_module": "@jupyter-widgets/controls",
      "model_module_version": "1.0.0",
      "model_name": "ButtonStyleModel",
      "state": {}
     },
     "360fc56c5a9c4a10946c14e2b7752236": {
      "model_module": "@jupyter-widgets/base",
      "model_module_version": "1.0.0",
      "model_name": "LayoutModel",
      "state": {
       "height": "100px",
       "overflow_y": "auto"
      }
     },
     "3616fa897733461e99ed1a06bc087d63": {
      "model_module": "@jupyter-widgets/controls",
      "model_module_version": "1.0.0",
      "model_name": "TextModel",
      "state": {
       "layout": "IPY_MODEL_012e221019a94d01a4bf42f81304e1c6",
       "placeholder": "sample meta",
       "style": "IPY_MODEL_3d685b9fa7f64884a2ac6ab766364f18",
       "value": "-"
      }
     },
     "36aa08ce0e1243049df6b96161239cd7": {
      "model_module": "@jupyter-widgets/base",
      "model_module_version": "1.0.0",
      "model_name": "LayoutModel",
      "state": {
       "width": "20%"
      }
     },
     "36bbdf19e93d4df495a6e757170eb963": {
      "model_module": "@jupyter-widgets/controls",
      "model_module_version": "1.0.0",
      "model_name": "DropdownModel",
      "state": {
       "_options_labels": [
        "BarcodeSequence",
        "LinkerPrimerSequence",
        "DAYS_SINCE_EPOCH",
        "TARGET_SUBFRAGMENT",
        "ASSIGNED_FROM_GEO",
        "EXPERIMENT_CENTER",
        "TITLE",
        "COMMON_SAMPLE_SITE",
        "RUN_PREFIX",
        "HOST_COMMON_NAME",
        "DEPTH",
        "COMMON_NAME",
        "BODY_SITE",
        "ELEVATION",
        "RUN_DATE",
        "DAYS_SINCE_EXPERIMENT_START",
        "COLLECTION_DATE",
        "ALTITUDE",
        "ENV_BIOME",
        "SEX",
        "PLATFORM",
        "STUDY_CENTER",
        "COUNTRY",
        "HOST_SUBJECT_ID",
        "ANONYMIZED_NAME",
        "TAXON_ID",
        "SAMPLE_CENTER",
        "SAMP_SIZE",
        "MISLABELED",
        "LONGITUDE",
        "STUDY_ID",
        "EXPERIMENT_DESIGN_DESCRIPTION",
        "Description_duplicate",
        "BODY_HABITAT",
        "SEQUENCING_METH",
        "ENV_MATTER",
        "TARGET_GENE",
        "ENV_FEATURE",
        "KEY_SEQ",
        "BODY_PRODUCT",
        "AGE_IN_YEARS",
        "RUN_CENTER",
        "LIBRARY_CONSTRUCTION_PROTOCOL",
        "LATITUDE",
        "REGION",
        "HOST_INDIVIDUAL",
        "Description",
        "_calour_original_abundance"
       ],
       "index": 0,
       "layout": "IPY_MODEL_84364631bfe64cc0a010249c468d2a04",
       "style": "IPY_MODEL_03f6047c9f73499fb6b85a1ec9316ca9"
      }
     },
     "37367b7c454149828f7ebdfc043e153b": {
      "model_module": "@jupyter-widgets/base",
      "model_module_version": "1.0.0",
      "model_name": "LayoutModel",
      "state": {}
     },
     "3736c9625f7047d282e6e7c1d71d0178": {
      "model_module": "@jupyter-widgets/controls",
      "model_module_version": "1.0.0",
      "model_name": "DropdownModel",
      "state": {
       "_options_labels": [
        "BarcodeSequence",
        "LinkerPrimerSequence",
        "DAYS_SINCE_EPOCH",
        "TARGET_SUBFRAGMENT",
        "ASSIGNED_FROM_GEO",
        "EXPERIMENT_CENTER",
        "TITLE",
        "COMMON_SAMPLE_SITE",
        "RUN_PREFIX",
        "HOST_COMMON_NAME",
        "DEPTH",
        "COMMON_NAME",
        "BODY_SITE",
        "ELEVATION",
        "RUN_DATE",
        "DAYS_SINCE_EXPERIMENT_START",
        "COLLECTION_DATE",
        "ALTITUDE",
        "ENV_BIOME",
        "SEX",
        "PLATFORM",
        "STUDY_CENTER",
        "COUNTRY",
        "HOST_SUBJECT_ID",
        "ANONYMIZED_NAME",
        "TAXON_ID",
        "SAMPLE_CENTER",
        "SAMP_SIZE",
        "MISLABELED",
        "LONGITUDE",
        "STUDY_ID",
        "EXPERIMENT_DESIGN_DESCRIPTION",
        "Description_duplicate",
        "BODY_HABITAT",
        "SEQUENCING_METH",
        "ENV_MATTER",
        "TARGET_GENE",
        "ENV_FEATURE",
        "KEY_SEQ",
        "BODY_PRODUCT",
        "AGE_IN_YEARS",
        "RUN_CENTER",
        "LIBRARY_CONSTRUCTION_PROTOCOL",
        "LATITUDE",
        "REGION",
        "HOST_INDIVIDUAL",
        "Description",
        "_calour_original_abundance"
       ],
       "index": 0,
       "layout": "IPY_MODEL_25a5e992b2b3485098ff0cb018d0bd0b",
       "style": "IPY_MODEL_6425869b05424cc68afb6285c4796f8f"
      }
     },
     "3765fe71c8ff4b8c8aaf6b49b52cf36f": {
      "model_module": "@jupyter-widgets/controls",
      "model_module_version": "1.0.0",
      "model_name": "DescriptionStyleModel",
      "state": {
       "description_width": ""
      }
     },
     "37a4cf572b4e49d0888995c5d5a6e143": {
      "model_module": "@jupyter-widgets/controls",
      "model_module_version": "1.0.0",
      "model_name": "HBoxModel",
      "state": {
       "children": [
        "IPY_MODEL_2a6a92b479b7453788918064f9c10d61",
        "IPY_MODEL_9d90d6a7db9a497ea4988f03aa43376d",
        "IPY_MODEL_22b44173dcb04594b1d23ca9919534f9"
       ],
       "layout": "IPY_MODEL_49d204d223d144978901dc6c2eab2176"
      }
     },
     "387910ed69a349128b837167691acf95": {
      "model_module": "@jupyter-widgets/controls",
      "model_module_version": "1.0.0",
      "model_name": "HTMLModel",
      "state": {
       "layout": "IPY_MODEL_e6806b42cc484d28b3eb2ba7b4da16af",
       "style": "IPY_MODEL_a42d9501e4da4093aced0d82b54b2da4",
       "value": "no annotation found"
      }
     },
     "389856c273d84ed5ad5f5d77e53dfda1": {
      "model_module": "@jupyter-widgets/controls",
      "model_module_version": "1.0.0",
      "model_name": "DescriptionStyleModel",
      "state": {
       "description_width": ""
      }
     },
     "3910779a6d094bb9b658b72a15bd3b01": {
      "model_module": "@jupyter-widgets/controls",
      "model_module_version": "1.0.0",
      "model_name": "DropdownModel",
      "state": {
       "_options_labels": [
        "taxonomy",
        "_calour_diff_abundance_effect",
        "_calour_diff_abundance_pval"
       ],
       "index": 0,
       "layout": "IPY_MODEL_4357e6f5189b4fa98e19e14be46b4d39",
       "style": "IPY_MODEL_a1c06f46dcb84810b7a4ba20a1078d1c"
      }
     },
     "39d136af6a7e448cbb14ff5c4edb2cfc": {
      "model_module": "@jupyter-widgets/controls",
      "model_module_version": "1.0.0",
      "model_name": "DescriptionStyleModel",
      "state": {
       "description_width": ""
      }
     },
     "3a5026cd990a4fb5871daba49a5f748c": {
      "model_module": "@jupyter-widgets/base",
      "model_module_version": "1.0.0",
      "model_name": "LayoutModel",
      "state": {}
     },
     "3bb1c6a065dc441c92e3d69f6695483a": {
      "model_module": "@jupyter-widgets/base",
      "model_module_version": "1.0.0",
      "model_name": "LayoutModel",
      "state": {
       "width": "80%"
      }
     },
     "3beb776a988c4e02835c861b19aeab86": {
      "model_module": "@jupyter-widgets/controls",
      "model_module_version": "1.0.0",
      "model_name": "ButtonModel",
      "state": {
       "description": "print axes ranges",
       "layout": "IPY_MODEL_55168b12ad4b4f1f9ff0c1e8eae3dc01",
       "style": "IPY_MODEL_8ad369dd2cef4e138bd8afecde81974e"
      }
     },
     "3c520ae1422e4d3eb56f6d0bbc438aa3": {
      "model_module": "@jupyter-widgets/base",
      "model_module_version": "1.0.0",
      "model_name": "LayoutModel",
      "state": {}
     },
     "3c67f860dfa54886aae8b9d6ba081545": {
      "model_module": "@jupyter-widgets/controls",
      "model_module_version": "1.0.0",
      "model_name": "FloatTextModel",
      "state": {
       "description": "Abundance",
       "layout": "IPY_MODEL_dc3e6ff7b3034aaca3c7ae14c5c450be",
       "step": null,
       "style": "IPY_MODEL_248af97586974509ba0dc5b5c12d992f"
      }
     },
     "3c9033426341444aa510fb6a668e57c7": {
      "model_module": "@jupyter-widgets/controls",
      "model_module_version": "1.0.0",
      "model_name": "ButtonModel",
      "state": {
       "description": "Annotate",
       "layout": "IPY_MODEL_3a5026cd990a4fb5871daba49a5f748c",
       "style": "IPY_MODEL_943fe6f2b52641f792f597cb196b0d07"
      }
     },
     "3ce9a519d5bb408b8f38738d9a49cdd7": {
      "model_module": "@jupyter-widgets/controls",
      "model_module_version": "1.0.0",
      "model_name": "ButtonStyleModel",
      "state": {}
     },
     "3d0186fbac5c4177812b9eb46381cdec": {
      "model_module": "@jupyter-widgets/base",
      "model_module_version": "1.0.0",
      "model_name": "LayoutModel",
      "state": {}
     },
     "3d685b9fa7f64884a2ac6ab766364f18": {
      "model_module": "@jupyter-widgets/controls",
      "model_module_version": "1.0.0",
      "model_name": "DescriptionStyleModel",
      "state": {
       "description_width": ""
      }
     },
     "3d9db4c787f2407aabb929aed69b75c4": {
      "model_module": "@jupyter-widgets/controls",
      "model_module_version": "1.0.0",
      "model_name": "DescriptionStyleModel",
      "state": {
       "description_width": ""
      }
     },
     "3e2a65ad2f654d2da720cf9a74a37ca8": {
      "model_module": "@jupyter-widgets/controls",
      "model_module_version": "1.0.0",
      "model_name": "HBoxModel",
      "state": {
       "children": [
        "IPY_MODEL_aabdd0fcb94545c3a093dd44de872868",
        "IPY_MODEL_17f0f8e9f73b4cc99ac065262543d0e5"
       ],
       "layout": "IPY_MODEL_c7f2b831c50c4dcda92e690db41b902c"
      }
     },
     "3ebba5ed80f241f285e3697696911701": {
      "model_module": "@jupyter-widgets/controls",
      "model_module_version": "1.0.0",
      "model_name": "DescriptionStyleModel",
      "state": {
       "description_width": ""
      }
     },
     "3edf940c504a4e6896ea26bfcb2033a3": {
      "model_module": "@jupyter-widgets/controls",
      "model_module_version": "1.0.0",
      "model_name": "DescriptionStyleModel",
      "state": {
       "description_width": ""
      }
     },
     "3f37e437ac38423da9cb86e48fcbcf3d": {
      "model_module": "@jupyter-widgets/base",
      "model_module_version": "1.0.0",
      "model_name": "LayoutModel",
      "state": {
       "width": "80%"
      }
     },
     "3fb94f24baaf4505853e8a507f7da69d": {
      "model_module": "@jupyter-widgets/controls",
      "model_module_version": "1.0.0",
      "model_name": "ButtonStyleModel",
      "state": {}
     },
     "429eda07abf1465b8bd0d3aa3caf682a": {
      "model_module": "@jupyter-widgets/controls",
      "model_module_version": "1.0.0",
      "model_name": "HBoxModel",
      "state": {
       "children": [
        "IPY_MODEL_1eb5c1db407642dfa25656424b9b253b",
        "IPY_MODEL_83712b6216f04d0cb02949f659288f6f"
       ],
       "layout": "IPY_MODEL_dc7da70f3174464e9c57dc02caeb4f95"
      }
     },
     "42ab76a19f0c42bca6b3f89901b002a1": {
      "model_module": "@jupyter-widgets/base",
      "model_module_version": "1.0.0",
      "model_name": "LayoutModel",
      "state": {}
     },
     "4310efb2b31b4762992fa053d4088a7d": {
      "model_module": "@jupyter-widgets/controls",
      "model_module_version": "1.0.0",
      "model_name": "DescriptionStyleModel",
      "state": {
       "description_width": ""
      }
     },
     "43444f43d871437590ced46cbbce6d58": {
      "model_module": "@jupyter-widgets/base",
      "model_module_version": "1.0.0",
      "model_name": "LayoutModel",
      "state": {}
     },
     "4357e6f5189b4fa98e19e14be46b4d39": {
      "model_module": "@jupyter-widgets/base",
      "model_module_version": "1.0.0",
      "model_name": "LayoutModel",
      "state": {
       "width": "20%"
      }
     },
     "43e3b59facf34dce81ab7edefc395062": {
      "model_module": "@jupyter-widgets/base",
      "model_module_version": "1.0.0",
      "model_name": "LayoutModel",
      "state": {}
     },
     "43ffeebf65964da8ad88a8aab33fbcf5": {
      "model_module": "@jupyter-widgets/base",
      "model_module_version": "1.0.0",
      "model_name": "LayoutModel",
      "state": {}
     },
     "44239049693a4e2e9867b9c9364dd2af": {
      "model_module": "@jupyter-widgets/base",
      "model_module_version": "1.0.0",
      "model_name": "LayoutModel",
      "state": {
       "width": "20%"
      }
     },
     "44af0895e372488d9eef07ec90865f22": {
      "model_module": "@jupyter-widgets/controls",
      "model_module_version": "1.0.0",
      "model_name": "TextModel",
      "state": {
       "layout": "IPY_MODEL_efc5643993694c45a08d3068de7f69fd",
       "placeholder": "feature meta",
       "style": "IPY_MODEL_49c102a2a1694c428d010b47060f3599",
       "value": "-"
      }
     },
     "44fd60979d0a4e81abea90bafbac27bf": {
      "model_module": "@jupyter-widgets/controls",
      "model_module_version": "1.0.0",
      "model_name": "TextModel",
      "state": {
       "description": "Sample ID",
       "layout": "IPY_MODEL_265afb1d8b7a4a9ead24cd32abfa45df",
       "placeholder": "Sample ID",
       "style": "IPY_MODEL_7e8388bac04a412ca48f61364860062d",
       "value": "L6S85.273934"
      }
     },
     "454821f0b3294dd9bbb3cd43e3b26cb5": {
      "model_module": "@jupyter-widgets/controls",
      "model_module_version": "1.0.0",
      "model_name": "HBoxModel",
      "state": {
       "children": [
        "IPY_MODEL_60147b1200174f3fa719d539b9e51ae9",
        "IPY_MODEL_3616fa897733461e99ed1a06bc087d63"
       ],
       "layout": "IPY_MODEL_ff7e4be563aa4fd5bd18352abe877a46"
      }
     },
     "455ce5952bf84c068fa7fe12c24a11f1": {
      "model_module": "@jupyter-widgets/controls",
      "model_module_version": "1.0.0",
      "model_name": "HBoxModel",
      "state": {
       "children": [
        "IPY_MODEL_3910779a6d094bb9b658b72a15bd3b01",
        "IPY_MODEL_44af0895e372488d9eef07ec90865f22"
       ],
       "layout": "IPY_MODEL_acac0bc79cb2434985a38aae6922c821"
      }
     },
     "45d7c13b938c4bbb8deef6f94d892fe3": {
      "model_module": "@jupyter-widgets/controls",
      "model_module_version": "1.0.0",
      "model_name": "ButtonStyleModel",
      "state": {}
     },
     "467a1ecec918489bbd7da5d9c0cf3070": {
      "model_module": "@jupyter-widgets/base",
      "model_module_version": "1.0.0",
      "model_name": "LayoutModel",
      "state": {}
     },
     "46c843c935be4cc795d9b18c612288cb": {
      "model_module": "@jupyter-widgets/controls",
      "model_module_version": "1.0.0",
      "model_name": "ButtonStyleModel",
      "state": {}
     },
     "46d23f7ac5d045ecaf679cae78f84577": {
      "model_module": "@jupyter-widgets/base",
      "model_module_version": "1.0.0",
      "model_name": "LayoutModel",
      "state": {
       "width": "20%"
      }
     },
     "471ac03efac747c284db7fc5033f554f": {
      "model_module": "@jupyter-widgets/controls",
      "model_module_version": "1.0.0",
      "model_name": "TextModel",
      "state": {
       "layout": "IPY_MODEL_2192255a11ea4012abe95e9b037f4457",
       "placeholder": "sample meta",
       "style": "IPY_MODEL_75f37688082545bd952b7d27c9475034",
       "value": "-"
      }
     },
     "47c83a23a04a40129828f5e91ce90ad9": {
      "model_module": "@jupyter-widgets/controls",
      "model_module_version": "1.0.0",
      "model_name": "ButtonStyleModel",
      "state": {}
     },
     "490ee111df0e4764b7dca23aa9231f4b": {
      "model_module": "@jupyter-widgets/controls",
      "model_module_version": "1.0.0",
      "model_name": "DescriptionStyleModel",
      "state": {
       "description_width": ""
      }
     },
     "49c102a2a1694c428d010b47060f3599": {
      "model_module": "@jupyter-widgets/controls",
      "model_module_version": "1.0.0",
      "model_name": "DescriptionStyleModel",
      "state": {
       "description_width": ""
      }
     },
     "49d204d223d144978901dc6c2eab2176": {
      "model_module": "@jupyter-widgets/base",
      "model_module_version": "1.0.0",
      "model_name": "LayoutModel",
      "state": {}
     },
     "4a3eb090dd154ffeb930d12cd4f64720": {
      "model_module": "@jupyter-widgets/controls",
      "model_module_version": "1.0.0",
      "model_name": "ButtonModel",
      "state": {
       "description": "print axes ranges",
       "layout": "IPY_MODEL_a14f77daabf14e2c9693e4c118ab0acb",
       "style": "IPY_MODEL_bcea02129afa48ac9b1f2917a1526665"
      }
     },
     "4a8d02cf45134895b4313b824a09494a": {
      "model_module": "@jupyter-widgets/controls",
      "model_module_version": "1.0.0",
      "model_name": "DropdownModel",
      "state": {
       "_options_labels": [
        "taxonomy"
       ],
       "index": 0,
       "layout": "IPY_MODEL_6e7bb8c714ee417e835067826b1c61ed",
       "style": "IPY_MODEL_39d136af6a7e448cbb14ff5c4edb2cfc"
      }
     },
     "4afc7b51b7384acbab8a5a67bc45e4eb": {
      "model_module": "@jupyter-widgets/base",
      "model_module_version": "1.0.0",
      "model_name": "LayoutModel",
      "state": {
       "width": "80%"
      }
     },
     "4c8be22a1a3b491583286abf1276acf7": {
      "model_module": "@jupyter-widgets/controls",
      "model_module_version": "1.0.0",
      "model_name": "TextModel",
      "state": {
       "layout": "IPY_MODEL_d668c9dbe5964478ad443fdb75c5b3d2",
       "placeholder": "feature meta",
       "style": "IPY_MODEL_ea5e4a9f9f4543a78e878040745fb223",
       "value": "k__Bacteria;p__Firmicutes;c__Clostridia;o__Clostridiales;f__Ruminococcaceae;g__Faecalibacterium;s__prausnitzii"
      }
     },
     "4d22132e7346415da9a78ba3e300bc13": {
      "model_module": "@jupyter-widgets/controls",
      "model_module_version": "1.0.0",
      "model_name": "TextModel",
      "state": {
       "layout": "IPY_MODEL_4afc7b51b7384acbab8a5a67bc45e4eb",
       "placeholder": "sample meta",
       "style": "IPY_MODEL_bd08180a495c4db1ab0a679cedb0b580",
       "value": "-"
      }
     },
     "4d4b601237084f26a1135e13bfc50d71": {
      "model_module": "@jupyter-widgets/base",
      "model_module_version": "1.0.0",
      "model_name": "LayoutModel",
      "state": {}
     },
     "4d63189a6bc4442a8c8bd29197409d19": {
      "model_module": "@jupyter-widgets/controls",
      "model_module_version": "1.0.0",
      "model_name": "DescriptionStyleModel",
      "state": {
       "description_width": ""
      }
     },
     "4d65c8a1d6c7442393262b4b3dcbdb17": {
      "model_module": "@jupyter-widgets/base",
      "model_module_version": "1.0.0",
      "model_name": "LayoutModel",
      "state": {}
     },
     "4e12cb8cc69947e8832c95e4034c3505": {
      "model_module": "@jupyter-widgets/controls",
      "model_module_version": "1.0.0",
      "model_name": "ButtonModel",
      "state": {
       "description": "Annotate",
       "layout": "IPY_MODEL_42ab76a19f0c42bca6b3f89901b002a1",
       "style": "IPY_MODEL_b61b36750308493f9678ef22c206aebc"
      }
     },
     "4efef9609013490482d9bc496ffdd0c9": {
      "model_module": "@jupyter-widgets/controls",
      "model_module_version": "1.0.0",
      "model_name": "DropdownModel",
      "state": {
       "_options_labels": [
        "BarcodeSequence",
        "LinkerPrimerSequence",
        "DAYS_SINCE_EPOCH",
        "TARGET_SUBFRAGMENT",
        "ASSIGNED_FROM_GEO",
        "EXPERIMENT_CENTER",
        "TITLE",
        "COMMON_SAMPLE_SITE",
        "RUN_PREFIX",
        "HOST_COMMON_NAME",
        "DEPTH",
        "COMMON_NAME",
        "BODY_SITE",
        "ELEVATION",
        "RUN_DATE",
        "DAYS_SINCE_EXPERIMENT_START",
        "COLLECTION_DATE",
        "ALTITUDE",
        "ENV_BIOME",
        "SEX",
        "PLATFORM",
        "STUDY_CENTER",
        "COUNTRY",
        "HOST_SUBJECT_ID",
        "ANONYMIZED_NAME",
        "TAXON_ID",
        "SAMPLE_CENTER",
        "SAMP_SIZE",
        "MISLABELED",
        "LONGITUDE",
        "STUDY_ID",
        "EXPERIMENT_DESIGN_DESCRIPTION",
        "Description_duplicate",
        "BODY_HABITAT",
        "SEQUENCING_METH",
        "ENV_MATTER",
        "TARGET_GENE",
        "ENV_FEATURE",
        "KEY_SEQ",
        "BODY_PRODUCT",
        "AGE_IN_YEARS",
        "RUN_CENTER",
        "LIBRARY_CONSTRUCTION_PROTOCOL",
        "LATITUDE",
        "REGION",
        "HOST_INDIVIDUAL",
        "Description",
        "_calour_original_abundance"
       ],
       "index": 0,
       "layout": "IPY_MODEL_36aa08ce0e1243049df6b96161239cd7",
       "style": "IPY_MODEL_9b98f9a6b7074b33bcc9138c9f0cae6b"
      }
     },
     "4fbc7ea9bdf040529cf73e53d10be718": {
      "model_module": "@jupyter-widgets/base",
      "model_module_version": "1.0.0",
      "model_name": "LayoutModel",
      "state": {}
     },
     "4fc117da579c4683aa9d90d51d89746f": {
      "model_module": "@jupyter-widgets/base",
      "model_module_version": "1.0.0",
      "model_name": "LayoutModel",
      "state": {
       "width": "100%"
      }
     },
     "4ffbb996f2c54d14aa5e6575e8e57a38": {
      "model_module": "@jupyter-widgets/controls",
      "model_module_version": "1.0.0",
      "model_name": "DropdownModel",
      "state": {
       "_options_labels": [
        "BarcodeSequence",
        "LinkerPrimerSequence",
        "DAYS_SINCE_EPOCH",
        "TARGET_SUBFRAGMENT",
        "ASSIGNED_FROM_GEO",
        "EXPERIMENT_CENTER",
        "TITLE",
        "COMMON_SAMPLE_SITE",
        "RUN_PREFIX",
        "HOST_COMMON_NAME",
        "DEPTH",
        "COMMON_NAME",
        "BODY_SITE",
        "ELEVATION",
        "RUN_DATE",
        "DAYS_SINCE_EXPERIMENT_START",
        "COLLECTION_DATE",
        "ALTITUDE",
        "ENV_BIOME",
        "SEX",
        "PLATFORM",
        "STUDY_CENTER",
        "COUNTRY",
        "HOST_SUBJECT_ID",
        "ANONYMIZED_NAME",
        "TAXON_ID",
        "SAMPLE_CENTER",
        "SAMP_SIZE",
        "MISLABELED",
        "LONGITUDE",
        "STUDY_ID",
        "EXPERIMENT_DESIGN_DESCRIPTION",
        "Description_duplicate",
        "BODY_HABITAT",
        "SEQUENCING_METH",
        "ENV_MATTER",
        "TARGET_GENE",
        "ENV_FEATURE",
        "KEY_SEQ",
        "BODY_PRODUCT",
        "AGE_IN_YEARS",
        "RUN_CENTER",
        "LIBRARY_CONSTRUCTION_PROTOCOL",
        "LATITUDE",
        "REGION",
        "HOST_INDIVIDUAL",
        "Description",
        "_calour_original_abundance"
       ],
       "index": 0,
       "layout": "IPY_MODEL_c707e1072d4d4844ac6a8c19556cf5da",
       "style": "IPY_MODEL_085e2b521d3c4153953b4bff9fb05c20"
      }
     },
     "5128a4232203492ca848cb635b2c4bed": {
      "model_module": "@jupyter-widgets/controls",
      "model_module_version": "1.0.0",
      "model_name": "HBoxModel",
      "state": {
       "children": [
        "IPY_MODEL_fb5103aa065e4ec1a579f38918012665",
        "IPY_MODEL_a9c65b9f93344d38b6c9de28460199ce",
        "IPY_MODEL_8517a7d2e0704a4396cd667539fd8bf6"
       ],
       "layout": "IPY_MODEL_e3e0e40229c1455f91062891488a6ab8"
      }
     },
     "519960a388d8480bad62a223e6a2aa7b": {
      "model_module": "@jupyter-widgets/controls",
      "model_module_version": "1.0.0",
      "model_name": "ButtonModel",
      "state": {
       "description": "Save",
       "layout": "IPY_MODEL_525d983485e8476b99207cda38386783",
       "style": "IPY_MODEL_45d7c13b938c4bbb8deef6f94d892fe3"
      }
     },
     "525d983485e8476b99207cda38386783": {
      "model_module": "@jupyter-widgets/base",
      "model_module_version": "1.0.0",
      "model_name": "LayoutModel",
      "state": {}
     },
     "527c76bc1fcb45c38a9c97b6f3630e6a": {
      "model_module": "@jupyter-widgets/controls",
      "model_module_version": "1.0.0",
      "model_name": "TextModel",
      "state": {
       "layout": "IPY_MODEL_b25c52d099fe46329489418a77bd392b",
       "placeholder": "sample meta",
       "style": "IPY_MODEL_3d9db4c787f2407aabb929aed69b75c4",
       "value": "ACAGTTGCGCGA"
      }
     },
     "528205de5a0d4872973fc20369b64e6c": {
      "model_module": "@jupyter-widgets/controls",
      "model_module_version": "1.0.0",
      "model_name": "TextModel",
      "state": {
       "layout": "IPY_MODEL_c9846e0cbbd644819bd88dd4253c0540",
       "placeholder": "feature meta",
       "style": "IPY_MODEL_af17fb390c80408b948c1a2120f31fa4",
       "value": "-"
      }
     },
     "538b93d241574e379f15334ab659c215": {
      "model_module": "@jupyter-widgets/base",
      "model_module_version": "1.0.0",
      "model_name": "LayoutModel",
      "state": {
       "width": "20%"
      }
     },
     "53e10ec2cb2f404c80b7c9d3d767c8f9": {
      "model_module": "@jupyter-widgets/controls",
      "model_module_version": "1.0.0",
      "model_name": "TextModel",
      "state": {
       "layout": "IPY_MODEL_a9c42a4fcb4249cb8f397e537efef013",
       "placeholder": "sample meta",
       "style": "IPY_MODEL_2678201bd2cd499a8aa6432c45dacb3e",
       "value": "-"
      }
     },
     "54219cf213fd4f06bfb6dcb67ffae12d": {
      "model_module": "@jupyter-widgets/controls",
      "model_module_version": "1.0.0",
      "model_name": "ButtonModel",
      "state": {
       "description": "Save",
       "layout": "IPY_MODEL_251893b414de4a81b5dab99ed5644bf6",
       "style": "IPY_MODEL_47c83a23a04a40129828f5e91ce90ad9"
      }
     },
     "54d9c985dc8a4bbf905b400f58016f11": {
      "model_module": "@jupyter-widgets/controls",
      "model_module_version": "1.0.0",
      "model_name": "HBoxModel",
      "state": {
       "children": [
        "IPY_MODEL_7711d8a85e804758a55880b990158449",
        "IPY_MODEL_4c8be22a1a3b491583286abf1276acf7"
       ],
       "layout": "IPY_MODEL_f910524d23fe4974b6961bb99535c7dd"
      }
     },
     "55168b12ad4b4f1f9ff0c1e8eae3dc01": {
      "model_module": "@jupyter-widgets/base",
      "model_module_version": "1.0.0",
      "model_name": "LayoutModel",
      "state": {}
     },
     "5568dd70bd994fa49111065d35711ba5": {
      "model_module": "@jupyter-widgets/controls",
      "model_module_version": "1.0.0",
      "model_name": "DescriptionStyleModel",
      "state": {
       "description_width": ""
      }
     },
     "569cff51384f4beca24d16f8ce7ae7ea": {
      "model_module": "@jupyter-widgets/base",
      "model_module_version": "1.0.0",
      "model_name": "LayoutModel",
      "state": {}
     },
     "56b17eb3b650499a93ee304b66a2f058": {
      "model_module": "@jupyter-widgets/base",
      "model_module_version": "1.0.0",
      "model_name": "LayoutModel",
      "state": {
       "width": "80%"
      }
     },
     "56ba82a00f54476fbe16216c567e205d": {
      "model_module": "@jupyter-widgets/controls",
      "model_module_version": "1.0.0",
      "model_name": "ButtonModel",
      "state": {
       "description": "Save",
       "layout": "IPY_MODEL_596464cd88cf4600b677ebb0ec5b9204",
       "style": "IPY_MODEL_1ae7fb4616fa4b2b96d786719cfe33e5"
      }
     },
     "571d4ab14df342dca0bd852ddc7bc7c1": {
      "model_module": "@jupyter-widgets/controls",
      "model_module_version": "1.0.0",
      "model_name": "HBoxModel",
      "state": {
       "children": [
        "IPY_MODEL_d2369b747bfc44de90039ccb32bf73af",
        "IPY_MODEL_4d22132e7346415da9a78ba3e300bc13"
       ],
       "layout": "IPY_MODEL_9391dc90b9cd487e9458fb418bd6d27f"
      }
     },
     "574cec4d3e8e4ed584efb45bf423ad9a": {
      "model_module": "@jupyter-widgets/base",
      "model_module_version": "1.0.0",
      "model_name": "LayoutModel",
      "state": {}
     },
     "57e2e1bb550449798c4a8c0ef444c561": {
      "model_module": "@jupyter-widgets/controls",
      "model_module_version": "1.0.0",
      "model_name": "HTMLModel",
      "state": {
       "layout": "IPY_MODEL_f5019156c0ce43c0b415f94c093f0ebf",
       "style": "IPY_MODEL_e047f7283c2a4cf9a7e0d79f4fc858bb",
       "value": "no annotation found"
      }
     },
     "5819cad475664c2892bb81a8ad705d70": {
      "model_module": "@jupyter-widgets/controls",
      "model_module_version": "1.0.0",
      "model_name": "TextModel",
      "state": {
       "description": "Sample ID",
       "layout": "IPY_MODEL_fe6cbb2bcd714d86826b704ad53c08f8",
       "placeholder": "Sample ID",
       "style": "IPY_MODEL_0cdb0578697b410ca08645a5aa7fb736",
       "value": "-"
      }
     },
     "596464cd88cf4600b677ebb0ec5b9204": {
      "model_module": "@jupyter-widgets/base",
      "model_module_version": "1.0.0",
      "model_name": "LayoutModel",
      "state": {}
     },
     "59815d50b61a4424a5acc348bed04730": {
      "model_module": "@jupyter-widgets/controls",
      "model_module_version": "1.0.0",
      "model_name": "DescriptionStyleModel",
      "state": {
       "description_width": ""
      }
     },
     "5bd758d3ee544721a779fe31a6323252": {
      "model_module": "@jupyter-widgets/controls",
      "model_module_version": "1.0.0",
      "model_name": "DescriptionStyleModel",
      "state": {
       "description_width": ""
      }
     },
     "5c604c0dba714f41b1de07294ea3ee62": {
      "model_module": "@jupyter-widgets/controls",
      "model_module_version": "1.0.0",
      "model_name": "DescriptionStyleModel",
      "state": {
       "description_width": ""
      }
     },
     "5dc6e8f5453541c6aa7eeb4f42d3a8e6": {
      "model_module": "@jupyter-widgets/base",
      "model_module_version": "1.0.0",
      "model_name": "LayoutModel",
      "state": {
       "width": "20%"
      }
     },
     "5dcc85c738b444c6b904cdd09b1827ae": {
      "model_module": "@jupyter-widgets/controls",
      "model_module_version": "1.0.0",
      "model_name": "LabelModel",
      "state": {
       "layout": "IPY_MODEL_c908f9f6cb944de2834f7a7ae14b7b6b",
       "style": "IPY_MODEL_6541ec453d284d7f843393338892263d",
       "value": "0 features are selected"
      }
     },
     "5dd2d24bfdd94168be2a5df3362115c7": {
      "model_module": "@jupyter-widgets/controls",
      "model_module_version": "1.0.0",
      "model_name": "DropdownModel",
      "state": {
       "_options_labels": [
        "taxonomy"
       ],
       "index": 0,
       "layout": "IPY_MODEL_f2d86c2d2a3a45dc88e17af951038b87",
       "style": "IPY_MODEL_8379d1bf26e54216bcdfe7fd6d6d85f2"
      }
     },
     "5e4d7ee3733a40199997910d20332fdb": {
      "model_module": "@jupyter-widgets/controls",
      "model_module_version": "1.0.0",
      "model_name": "TextModel",
      "state": {
       "layout": "IPY_MODEL_19966628086144a985249e20bb0ef259",
       "placeholder": "feature meta",
       "style": "IPY_MODEL_3edf940c504a4e6896ea26bfcb2033a3",
       "value": "-"
      }
     },
     "5ff426d723334e73b5f182d25bbe9b24": {
      "model_module": "@jupyter-widgets/controls",
      "model_module_version": "1.0.0",
      "model_name": "HTMLModel",
      "state": {
       "layout": "IPY_MODEL_cc0028cd053845cd8ed12b1c15785b5a",
       "style": "IPY_MODEL_2224f466c3ce4dbb86a05980618e5d4a",
       "value": "no annotation found"
      }
     },
     "60147b1200174f3fa719d539b9e51ae9": {
      "model_module": "@jupyter-widgets/controls",
      "model_module_version": "1.0.0",
      "model_name": "DropdownModel",
      "state": {
       "_options_labels": [
        "BarcodeSequence",
        "LinkerPrimerSequence",
        "DAYS_SINCE_EPOCH",
        "TARGET_SUBFRAGMENT",
        "ASSIGNED_FROM_GEO",
        "EXPERIMENT_CENTER",
        "TITLE",
        "COMMON_SAMPLE_SITE",
        "RUN_PREFIX",
        "HOST_COMMON_NAME",
        "DEPTH",
        "COMMON_NAME",
        "BODY_SITE",
        "ELEVATION",
        "RUN_DATE",
        "DAYS_SINCE_EXPERIMENT_START",
        "COLLECTION_DATE",
        "ALTITUDE",
        "ENV_BIOME",
        "SEX",
        "PLATFORM",
        "STUDY_CENTER",
        "COUNTRY",
        "HOST_SUBJECT_ID",
        "ANONYMIZED_NAME",
        "TAXON_ID",
        "SAMPLE_CENTER",
        "SAMP_SIZE",
        "MISLABELED",
        "LONGITUDE",
        "STUDY_ID",
        "EXPERIMENT_DESIGN_DESCRIPTION",
        "Description_duplicate",
        "BODY_HABITAT",
        "SEQUENCING_METH",
        "ENV_MATTER",
        "TARGET_GENE",
        "ENV_FEATURE",
        "KEY_SEQ",
        "BODY_PRODUCT",
        "AGE_IN_YEARS",
        "RUN_CENTER",
        "LIBRARY_CONSTRUCTION_PROTOCOL",
        "LATITUDE",
        "REGION",
        "HOST_INDIVIDUAL",
        "Description",
        "_calour_original_abundance"
       ],
       "index": 0,
       "layout": "IPY_MODEL_d9229c0d1b924b6f8044b3dbd4a0751f",
       "style": "IPY_MODEL_59815d50b61a4424a5acc348bed04730"
      }
     },
     "617e7ef6cca5494d9eded34f696e8b5a": {
      "model_module": "@jupyter-widgets/base",
      "model_module_version": "1.0.0",
      "model_name": "LayoutModel",
      "state": {}
     },
     "619360801f674a0390719969f2b12d81": {
      "model_module": "@jupyter-widgets/controls",
      "model_module_version": "1.0.0",
      "model_name": "HBoxModel",
      "state": {
       "children": [
        "IPY_MODEL_f210d1df4c0c4f4ebda8e2dfc00018f7",
        "IPY_MODEL_fbfab59b89f04ca4a880358c878cbf51",
        "IPY_MODEL_8425c12ec76147d8ae70bc32688fd844"
       ],
       "layout": "IPY_MODEL_d078ee6e93494a649bd7b0152514c668"
      }
     },
     "61d66a3a605b445b9a4658f776e1a916": {
      "model_module": "@jupyter-widgets/controls",
      "model_module_version": "1.0.0",
      "model_name": "TextModel",
      "state": {
       "layout": "IPY_MODEL_3bb1c6a065dc441c92e3d69f6695483a",
       "placeholder": "sample meta",
       "style": "IPY_MODEL_11986e22e07d440ebd1da2360c911deb",
       "value": "-"
      }
     },
     "61fb22e5726e4e6e96fbf9e2f1b5932f": {
      "model_module": "@jupyter-widgets/controls",
      "model_module_version": "1.0.0",
      "model_name": "TextModel",
      "state": {
       "description": "Sample ID",
       "layout": "IPY_MODEL_25f7539def3d42f1a351f4e94d6be437",
       "placeholder": "Sample ID",
       "style": "IPY_MODEL_33700f970f874ef1bb0b4ad14eed98f8",
       "value": "-"
      }
     },
     "62df01ce5758479d8c8732b670c980a7": {
      "model_module": "@jupyter-widgets/controls",
      "model_module_version": "1.0.0",
      "model_name": "HTMLModel",
      "state": {
       "layout": "IPY_MODEL_e182924af21c4c96bd94dbd60a5c3e17",
       "style": "IPY_MODEL_b5d99c8b81e846d0b79fbbcd792462c7",
       "value": "no annotation found"
      }
     },
     "62f655ec00894b2fa8ecb6ad3c18e349": {
      "model_module": "@jupyter-widgets/base",
      "model_module_version": "1.0.0",
      "model_name": "LayoutModel",
      "state": {}
     },
     "63b8c9c8562e494488056ede90484ef5": {
      "model_module": "@jupyter-widgets/controls",
      "model_module_version": "1.0.0",
      "model_name": "TextModel",
      "state": {
       "description": "Sample ID",
       "layout": "IPY_MODEL_23d78717dac14baeb842f4a4f2d3b0d5",
       "placeholder": "Sample ID",
       "style": "IPY_MODEL_2333813ee184451486c5df08b807b079",
       "value": "-"
      }
     },
     "63cf955ddf8848c9917fbe535e24bbd5": {
      "model_module": "@jupyter-widgets/base",
      "model_module_version": "1.0.0",
      "model_name": "LayoutModel",
      "state": {
       "width": "80%"
      }
     },
     "63d718f7db4a46009b8584c6726d2cab": {
      "model_module": "@jupyter-widgets/controls",
      "model_module_version": "1.0.0",
      "model_name": "DescriptionStyleModel",
      "state": {
       "description_width": ""
      }
     },
     "6425869b05424cc68afb6285c4796f8f": {
      "model_module": "@jupyter-widgets/controls",
      "model_module_version": "1.0.0",
      "model_name": "DescriptionStyleModel",
      "state": {
       "description_width": ""
      }
     },
     "64fab090a57b420b9452f7260002b42c": {
      "model_module": "@jupyter-widgets/controls",
      "model_module_version": "1.0.0",
      "model_name": "DescriptionStyleModel",
      "state": {
       "description_width": ""
      }
     },
     "65295ba05fb5409f8689162b2bf565e5": {
      "model_module": "@jupyter-widgets/controls",
      "model_module_version": "1.0.0",
      "model_name": "ButtonModel",
      "state": {
       "description": "Annotate",
       "layout": "IPY_MODEL_2cb2918fa02a4960b25f613227d0b730",
       "style": "IPY_MODEL_c9a889d61a394d22bf1b37107a81c39e"
      }
     },
     "6541ec453d284d7f843393338892263d": {
      "model_module": "@jupyter-widgets/controls",
      "model_module_version": "1.0.0",
      "model_name": "DescriptionStyleModel",
      "state": {
       "description_width": ""
      }
     },
     "65ff297f87954533a97f5ae09a5da114": {
      "model_module": "@jupyter-widgets/controls",
      "model_module_version": "1.0.0",
      "model_name": "DescriptionStyleModel",
      "state": {
       "description_width": ""
      }
     },
     "66ce93c20a0e4a8db3f9c4d302a2367d": {
      "model_module": "@jupyter-widgets/base",
      "model_module_version": "1.0.0",
      "model_name": "LayoutModel",
      "state": {}
     },
     "66f3c11ca9ff4d8eab9be306db6ea866": {
      "model_module": "@jupyter-widgets/controls",
      "model_module_version": "1.0.0",
      "model_name": "FloatTextModel",
      "state": {
       "description": "Abundance",
       "layout": "IPY_MODEL_8fc8ba82a8d34e8d80d5fd479159e13e",
       "step": null,
       "style": "IPY_MODEL_294ccd99b92f460099a79d383bae942a"
      }
     },
     "681984e29d12493a9fb0af1f6ebe70a7": {
      "model_module": "@jupyter-widgets/controls",
      "model_module_version": "1.0.0",
      "model_name": "DescriptionStyleModel",
      "state": {
       "description_width": ""
      }
     },
     "6843e8be75bf498a8241ac82d035794c": {
      "model_module": "@jupyter-widgets/base",
      "model_module_version": "1.0.0",
      "model_name": "LayoutModel",
      "state": {}
     },
     "686386a5543d452dbf6f11606711f298": {
      "model_module": "@jupyter-widgets/controls",
      "model_module_version": "1.0.0",
      "model_name": "DescriptionStyleModel",
      "state": {
       "description_width": ""
      }
     },
     "690b2dcef55e4a8698e8651dace30c53": {
      "model_module": "@jupyter-widgets/controls",
      "model_module_version": "1.0.0",
      "model_name": "TextModel",
      "state": {
       "layout": "IPY_MODEL_8c9ae8968c9444779f575faff7d77772",
       "placeholder": "feature meta",
       "style": "IPY_MODEL_e25896ca26eb455ab30c72eca19b8e95",
       "value": "-"
      }
     },
     "6ac115acfd454835982183b0a134a811": {
      "model_module": "@jupyter-widgets/base",
      "model_module_version": "1.0.0",
      "model_name": "LayoutModel",
      "state": {}
     },
     "6bea0bc3bc934b4f95a9a2fd42f7dd57": {
      "model_module": "@jupyter-widgets/controls",
      "model_module_version": "1.0.0",
      "model_name": "ButtonModel",
      "state": {
       "description": "Annotate",
       "layout": "IPY_MODEL_185e65df0b1a432a98fc2f30b1a23b63",
       "style": "IPY_MODEL_1dee773de00b4fc18b1353ce73148509"
      }
     },
     "6c52993080f94f54b96dd93cb23d775c": {
      "model_module": "@jupyter-widgets/controls",
      "model_module_version": "1.0.0",
      "model_name": "TextModel",
      "state": {
       "layout": "IPY_MODEL_92b7987070eb4164a1bff3b37b1b5b67",
       "placeholder": "feature meta",
       "style": "IPY_MODEL_fff4578799f3477882fed30411921169",
       "value": "-"
      }
     },
     "6c793c6050ef413781cd29f7ff0fb353": {
      "model_module": "@jupyter-widgets/controls",
      "model_module_version": "1.0.0",
      "model_name": "ButtonModel",
      "state": {
       "description": "print axes ranges",
       "layout": "IPY_MODEL_123bfe8f584447ceaf65f0377001ba0c",
       "style": "IPY_MODEL_e01813c463cf4f4685207eb03bdffe0b"
      }
     },
     "6cd763aaf56a44a6b89bee2813ee6a96": {
      "model_module": "@jupyter-widgets/controls",
      "model_module_version": "1.0.0",
      "model_name": "FloatTextModel",
      "state": {
       "description": "Abundance",
       "layout": "IPY_MODEL_4fc117da579c4683aa9d90d51d89746f",
       "step": null,
       "style": "IPY_MODEL_87d28f5885a340ec8715aa60cd36a5ae"
      }
     },
     "6d12924962da47d9b9e7c31f1342162d": {
      "model_module": "@jupyter-widgets/controls",
      "model_module_version": "1.0.0",
      "model_name": "DropdownModel",
      "state": {
       "_options_labels": [
        "taxonomy"
       ],
       "index": 0,
       "layout": "IPY_MODEL_8db75a030c614f82a191e930d962ac8e",
       "style": "IPY_MODEL_4d63189a6bc4442a8c8bd29197409d19"
      }
     },
     "6d95127d2eaf4c3c9ed66565991f1c28": {
      "model_module": "@jupyter-widgets/base",
      "model_module_version": "1.0.0",
      "model_name": "LayoutModel",
      "state": {}
     },
     "6e384852d3a540cb9eba908ec4fd9164": {
      "model_module": "@jupyter-widgets/base",
      "model_module_version": "1.0.0",
      "model_name": "LayoutModel",
      "state": {}
     },
     "6e7bb8c714ee417e835067826b1c61ed": {
      "model_module": "@jupyter-widgets/base",
      "model_module_version": "1.0.0",
      "model_name": "LayoutModel",
      "state": {
       "width": "20%"
      }
     },
     "6eda404a6a2a4270a91f500c0786c6a1": {
      "model_module": "@jupyter-widgets/controls",
      "model_module_version": "1.0.0",
      "model_name": "DescriptionStyleModel",
      "state": {
       "description_width": ""
      }
     },
     "6fa95617475d4a24a72f72474a01ffa0": {
      "model_module": "@jupyter-widgets/base",
      "model_module_version": "1.0.0",
      "model_name": "LayoutModel",
      "state": {}
     },
     "701ba0b381264941a920fd810b5e05ec": {
      "model_module": "@jupyter-widgets/base",
      "model_module_version": "1.0.0",
      "model_name": "LayoutModel",
      "state": {}
     },
     "719bbc4f923144ce802a459aac4e924f": {
      "model_module": "@jupyter-widgets/base",
      "model_module_version": "1.0.0",
      "model_name": "LayoutModel",
      "state": {}
     },
     "723257f7c8ab4db58f2c95de76f45ad8": {
      "model_module": "@jupyter-widgets/base",
      "model_module_version": "1.0.0",
      "model_name": "LayoutModel",
      "state": {}
     },
     "7398ca27b40c45d4bafc96623b0d2ab0": {
      "model_module": "@jupyter-widgets/controls",
      "model_module_version": "1.0.0",
      "model_name": "TextModel",
      "state": {
       "description": "Feature ID",
       "layout": "IPY_MODEL_265afb1d8b7a4a9ead24cd32abfa45df",
       "placeholder": "Feature ID",
       "style": "IPY_MODEL_8d1e00ddb84c497e968ed5ec17f48377",
       "value": "TACGAAGGGGGCTAGCGTTGCTCGGAATTACTGGGCGTAAAGGGAGCGTAGGCGGACATTTAAGTCAGGGGTGAAATCCCGAGGCTCAACCTCGGAACTGCCTTTGATACTGGGTGTCTTGAGTGTGAGAGAGGTATGTGGAACTCCGA"
      }
     },
     "73ed8475589f4989b4a04c2b668ac876": {
      "model_module": "@jupyter-widgets/controls",
      "model_module_version": "1.0.0",
      "model_name": "FloatTextModel",
      "state": {
       "description": "Abundance",
       "layout": "IPY_MODEL_25f7539def3d42f1a351f4e94d6be437",
       "step": null,
       "style": "IPY_MODEL_9e67bc7c99834a74ac68a46c9ca1a5cb"
      }
     },
     "75f37688082545bd952b7d27c9475034": {
      "model_module": "@jupyter-widgets/controls",
      "model_module_version": "1.0.0",
      "model_name": "DescriptionStyleModel",
      "state": {
       "description_width": ""
      }
     },
     "76dd77ae3bb74dba9a3fd4dca82a7c5f": {
      "model_module": "@jupyter-widgets/controls",
      "model_module_version": "1.0.0",
      "model_name": "ButtonStyleModel",
      "state": {}
     },
     "7711d8a85e804758a55880b990158449": {
      "model_module": "@jupyter-widgets/controls",
      "model_module_version": "1.0.0",
      "model_name": "DropdownModel",
      "state": {
       "_options_labels": [
        "taxonomy",
        "_calour_diff_abundance_effect",
        "_calour_diff_abundance_pval"
       ],
       "index": 0,
       "layout": "IPY_MODEL_538b93d241574e379f15334ab659c215",
       "style": "IPY_MODEL_23e365d7d2714d9eb2772c128419e3b8"
      }
     },
     "78105311d81b45b69766e688e05eb005": {
      "model_module": "@jupyter-widgets/controls",
      "model_module_version": "1.0.0",
      "model_name": "HTMLModel",
      "state": {
       "layout": "IPY_MODEL_ba93ddbac79740b9a15c1f7c9abb3b16",
       "style": "IPY_MODEL_681984e29d12493a9fb0af1f6ebe70a7",
       "value": "<style> a:link {color:black; background-color:transparent; text-decoration:none}a:visited {color:black; background-color:transparent; text-decoration:none}</style><p style=\"color:black;white-space:nowrap;\"><a href=\"http://dbbact.org/annotation_info/NA\"   target=\"_blank\">most: drinking water, water, united states of america, site d, usa, </a></p><style> a:link {color:black; background-color:transparent; text-decoration:none}a:visited {color:black; background-color:transparent; text-decoration:none}</style><p style=\"color:black;white-space:nowrap;\"><a href=\"http://dbbact.org/annotation_info/NA\"   target=\"_blank\">special: site d, site c, distribution system, water treatment plant, </a></p><style> a:link {color:blue; background-color:transparent; text-decoration:none}a:visited {color:blue; background-color:transparent; text-decoration:none}</style><p style=\"color:blue;white-space:nowrap;\"><a href=\"http://dbbact.org/annotation_info/898\"   target=\"_blank\"> high in water treatment plant  compared to distribution system  in water drinking water usa site c </a></p><style> a:link {color:blue; background-color:transparent; text-decoration:none}a:visited {color:blue; background-color:transparent; text-decoration:none}</style><p style=\"color:blue;white-space:nowrap;\"><a href=\"http://dbbact.org/annotation_info/889\"   target=\"_blank\"> high in distribution system  compared to water treatment plant  in united states of america water drinking water site d </a></p>"
      }
     },
     "792cfa5872254687ba0598524284629c": {
      "model_module": "@jupyter-widgets/controls",
      "model_module_version": "1.0.0",
      "model_name": "LabelModel",
      "state": {
       "layout": "IPY_MODEL_2a5161316da24c478af54e2b683a74d7",
       "style": "IPY_MODEL_b932b45bffca4573946d920d3f771b50",
       "value": "0 features are selected"
      }
     },
     "79b2bbcbf8da4ee69d1e88810cbe0229": {
      "model_module": "@jupyter-widgets/controls",
      "model_module_version": "1.0.0",
      "model_name": "DescriptionStyleModel",
      "state": {
       "description_width": ""
      }
     },
     "7a74d12065304d0f92b3948c2db99a0a": {
      "model_module": "@jupyter-widgets/controls",
      "model_module_version": "1.0.0",
      "model_name": "DescriptionStyleModel",
      "state": {
       "description_width": ""
      }
     },
     "7a9bc450e1104e608ed63dea9777508b": {
      "model_module": "@jupyter-widgets/base",
      "model_module_version": "1.0.0",
      "model_name": "LayoutModel",
      "state": {}
     },
     "7aa58ce061b34e85a9c86750c8051596": {
      "model_module": "@jupyter-widgets/base",
      "model_module_version": "1.0.0",
      "model_name": "LayoutModel",
      "state": {}
     },
     "7af607f6796841c797832c3705efc12b": {
      "model_module": "@jupyter-widgets/base",
      "model_module_version": "1.0.0",
      "model_name": "LayoutModel",
      "state": {
       "height": "100px",
       "overflow_y": "auto"
      }
     },
     "7b8f10c4ed4647a0b2cc833a24d29e16": {
      "model_module": "@jupyter-widgets/base",
      "model_module_version": "1.0.0",
      "model_name": "LayoutModel",
      "state": {}
     },
     "7bc7752d915a4abdabc83b59ec19ef95": {
      "model_module": "@jupyter-widgets/base",
      "model_module_version": "1.0.0",
      "model_name": "LayoutModel",
      "state": {}
     },
     "7c1d7c71ee20443dba5cf2698fb88800": {
      "model_module": "@jupyter-widgets/controls",
      "model_module_version": "1.0.0",
      "model_name": "ButtonStyleModel",
      "state": {}
     },
     "7e36edf8aa8e48bdaa70f06645f33fe4": {
      "model_module": "@jupyter-widgets/controls",
      "model_module_version": "1.0.0",
      "model_name": "HBoxModel",
      "state": {
       "children": [
        "IPY_MODEL_33395a3de83a4113a498837125345622",
        "IPY_MODEL_19a328341d4e4c4b8c35044f14f28067",
        "IPY_MODEL_12bd3a6817624d1a839be41da14b776f"
       ],
       "layout": "IPY_MODEL_0c3a13b6b05b486789b122e915630168"
      }
     },
     "7e4f00e6599546c69fc05d1a6ad2f310": {
      "model_module": "@jupyter-widgets/base",
      "model_module_version": "1.0.0",
      "model_name": "LayoutModel",
      "state": {
       "width": "20%"
      }
     },
     "7e8388bac04a412ca48f61364860062d": {
      "model_module": "@jupyter-widgets/controls",
      "model_module_version": "1.0.0",
      "model_name": "DescriptionStyleModel",
      "state": {
       "description_width": ""
      }
     },
     "7eed5d220339416ea27de805f42ae809": {
      "model_module": "@jupyter-widgets/controls",
      "model_module_version": "1.0.0",
      "model_name": "LabelModel",
      "state": {
       "layout": "IPY_MODEL_617e7ef6cca5494d9eded34f696e8b5a",
       "style": "IPY_MODEL_6eda404a6a2a4270a91f500c0786c6a1",
       "value": "0 features are selected"
      }
     },
     "7ef00b48f7174be29772b7f36b051db2": {
      "model_module": "@jupyter-widgets/controls",
      "model_module_version": "1.0.0",
      "model_name": "DescriptionStyleModel",
      "state": {
       "description_width": ""
      }
     },
     "7fcc2e08bf5f4acb85499a3d3b7e5c92": {
      "model_module": "@jupyter-widgets/controls",
      "model_module_version": "1.0.0",
      "model_name": "ButtonModel",
      "state": {
       "description": "Save",
       "layout": "IPY_MODEL_8ab8edf773154853a719dfdebf9d7a38",
       "style": "IPY_MODEL_e81bdc8ed5a446239607d230ea9c9dc4"
      }
     },
     "81d8f4cf876f485394d710d6d17cc2d0": {
      "model_module": "@jupyter-widgets/controls",
      "model_module_version": "1.0.0",
      "model_name": "ButtonStyleModel",
      "state": {}
     },
     "82dc90e0959e4b64ba0e674059309526": {
      "model_module": "@jupyter-widgets/base",
      "model_module_version": "1.0.0",
      "model_name": "LayoutModel",
      "state": {}
     },
     "83712b6216f04d0cb02949f659288f6f": {
      "model_module": "@jupyter-widgets/controls",
      "model_module_version": "1.0.0",
      "model_name": "TextModel",
      "state": {
       "layout": "IPY_MODEL_56b17eb3b650499a93ee304b66a2f058",
       "placeholder": "feature meta",
       "style": "IPY_MODEL_96b47dc964d64903814c1b0f334c6eb9",
       "value": "-"
      }
     },
     "8379d1bf26e54216bcdfe7fd6d6d85f2": {
      "model_module": "@jupyter-widgets/controls",
      "model_module_version": "1.0.0",
      "model_name": "DescriptionStyleModel",
      "state": {
       "description_width": ""
      }
     },
     "838d47814c8a47e4a61a0da67bf8e0d7": {
      "model_module": "@jupyter-widgets/controls",
      "model_module_version": "1.0.0",
      "model_name": "DescriptionStyleModel",
      "state": {
       "description_width": ""
      }
     },
     "8425c12ec76147d8ae70bc32688fd844": {
      "model_module": "@jupyter-widgets/controls",
      "model_module_version": "1.0.0",
      "model_name": "FloatTextModel",
      "state": {
       "description": "Abundance",
       "layout": "IPY_MODEL_e319fcd8bd774afdadeefedf5f02535d",
       "step": null,
       "style": "IPY_MODEL_a144433973ca4e448d176e8d4c679c23"
      }
     },
     "84364631bfe64cc0a010249c468d2a04": {
      "model_module": "@jupyter-widgets/base",
      "model_module_version": "1.0.0",
      "model_name": "LayoutModel",
      "state": {
       "width": "20%"
      }
     },
     "843e74c5808449d492d470cb506e0a21": {
      "model_module": "@jupyter-widgets/controls",
      "model_module_version": "1.0.0",
      "model_name": "HBoxModel",
      "state": {
       "children": [
        "IPY_MODEL_35031248f59444929b2cfaab3af661bd",
        "IPY_MODEL_225c040841014a1a9a3c545ff44c839b",
        "IPY_MODEL_4e12cb8cc69947e8832c95e4034c3505"
       ],
       "layout": "IPY_MODEL_10ee57c1f0134a5993681502ce07bbd2"
      }
     },
     "8517a7d2e0704a4396cd667539fd8bf6": {
      "model_module": "@jupyter-widgets/controls",
      "model_module_version": "1.0.0",
      "model_name": "ButtonModel",
      "state": {
       "description": "Annotate",
       "layout": "IPY_MODEL_43ffeebf65964da8ad88a8aab33fbcf5",
       "style": "IPY_MODEL_a97f151b0fb2453b83f691b708dbee9f"
      }
     },
     "85f56c75fc584e609d812a3bbe4f5f74": {
      "model_module": "@jupyter-widgets/base",
      "model_module_version": "1.0.0",
      "model_name": "LayoutModel",
      "state": {}
     },
     "87be3f3255db41fbb27476ad5231a8c0": {
      "model_module": "@jupyter-widgets/base",
      "model_module_version": "1.0.0",
      "model_name": "LayoutModel",
      "state": {}
     },
     "87d28f5885a340ec8715aa60cd36a5ae": {
      "model_module": "@jupyter-widgets/controls",
      "model_module_version": "1.0.0",
      "model_name": "DescriptionStyleModel",
      "state": {
       "description_width": ""
      }
     },
     "87ddb0d4adb64c1786cb4bce46e999c5": {
      "model_module": "@jupyter-widgets/controls",
      "model_module_version": "1.0.0",
      "model_name": "HBoxModel",
      "state": {
       "children": [
        "IPY_MODEL_d05d841d506f4f50802bf87ca8c24a9a",
        "IPY_MODEL_5e4d7ee3733a40199997910d20332fdb"
       ],
       "layout": "IPY_MODEL_171c17e09c854472bb2b9f1b83291c1c"
      }
     },
     "87df69a1f6074d719feb8ace24757071": {
      "model_module": "@jupyter-widgets/base",
      "model_module_version": "1.0.0",
      "model_name": "LayoutModel",
      "state": {
       "width": "80%"
      }
     },
     "88f4046a9f8246a6ae9b8230f37d4503": {
      "model_module": "@jupyter-widgets/controls",
      "model_module_version": "1.0.0",
      "model_name": "TextModel",
      "state": {
       "description": "Feature ID",
       "layout": "IPY_MODEL_dc3e6ff7b3034aaca3c7ae14c5c450be",
       "placeholder": "Feature ID",
       "style": "IPY_MODEL_490ee111df0e4764b7dca23aa9231f4b",
       "value": "-"
      }
     },
     "88f77ee373954904b140150decc11ad2": {
      "model_module": "@jupyter-widgets/controls",
      "model_module_version": "1.0.0",
      "model_name": "DescriptionStyleModel",
      "state": {
       "description_width": ""
      }
     },
     "8a16f061defc419297191ddaac358d2f": {
      "model_module": "@jupyter-widgets/controls",
      "model_module_version": "1.0.0",
      "model_name": "DescriptionStyleModel",
      "state": {
       "description_width": ""
      }
     },
     "8a399894763046a3a0b038f63ac0279f": {
      "model_module": "@jupyter-widgets/controls",
      "model_module_version": "1.0.0",
      "model_name": "DescriptionStyleModel",
      "state": {
       "description_width": ""
      }
     },
     "8ab8edf773154853a719dfdebf9d7a38": {
      "model_module": "@jupyter-widgets/base",
      "model_module_version": "1.0.0",
      "model_name": "LayoutModel",
      "state": {}
     },
     "8ad369dd2cef4e138bd8afecde81974e": {
      "model_module": "@jupyter-widgets/controls",
      "model_module_version": "1.0.0",
      "model_name": "ButtonStyleModel",
      "state": {}
     },
     "8af1496550f2498483a077f43e825697": {
      "model_module": "@jupyter-widgets/controls",
      "model_module_version": "1.0.0",
      "model_name": "TextModel",
      "state": {
       "description": "Feature ID",
       "layout": "IPY_MODEL_25f7539def3d42f1a351f4e94d6be437",
       "placeholder": "Feature ID",
       "style": "IPY_MODEL_d5f521b785a54bdcbcc89adef6530063",
       "value": "-"
      }
     },
     "8c9ae8968c9444779f575faff7d77772": {
      "model_module": "@jupyter-widgets/base",
      "model_module_version": "1.0.0",
      "model_name": "LayoutModel",
      "state": {
       "width": "80%"
      }
     },
     "8d1e00ddb84c497e968ed5ec17f48377": {
      "model_module": "@jupyter-widgets/controls",
      "model_module_version": "1.0.0",
      "model_name": "DescriptionStyleModel",
      "state": {
       "description_width": ""
      }
     },
     "8db75a030c614f82a191e930d962ac8e": {
      "model_module": "@jupyter-widgets/base",
      "model_module_version": "1.0.0",
      "model_name": "LayoutModel",
      "state": {
       "width": "20%"
      }
     },
     "8f6c1f8ecb524bdab9efe15b134fc4c0": {
      "model_module": "@jupyter-widgets/controls",
      "model_module_version": "1.0.0",
      "model_name": "ButtonStyleModel",
      "state": {}
     },
     "8f79173bab74421387cb111c859c1fe7": {
      "model_module": "@jupyter-widgets/controls",
      "model_module_version": "1.0.0",
      "model_name": "TextModel",
      "state": {
       "layout": "IPY_MODEL_63cf955ddf8848c9917fbe535e24bbd5",
       "placeholder": "sample meta",
       "style": "IPY_MODEL_9f0fb06e52484ec1b6eb512d86664086",
       "value": "CTACTGATATCG"
      }
     },
     "8fc8ba82a8d34e8d80d5fd479159e13e": {
      "model_module": "@jupyter-widgets/base",
      "model_module_version": "1.0.0",
      "model_name": "LayoutModel",
      "state": {
       "width": "100%"
      }
     },
     "8fcee2d59a8f4cd4b036f525c0e17243": {
      "model_module": "@jupyter-widgets/base",
      "model_module_version": "1.0.0",
      "model_name": "LayoutModel",
      "state": {}
     },
     "90dc4bca435249ec927c16e457a5aff4": {
      "model_module": "@jupyter-widgets/controls",
      "model_module_version": "1.0.0",
      "model_name": "HBoxModel",
      "state": {
       "children": [
        "IPY_MODEL_4a8d02cf45134895b4313b824a09494a",
        "IPY_MODEL_690b2dcef55e4a8698e8651dace30c53"
       ],
       "layout": "IPY_MODEL_7a9bc450e1104e608ed63dea9777508b"
      }
     },
     "9119a67c4e984f8db96989b55d5d08f6": {
      "model_module": "@jupyter-widgets/base",
      "model_module_version": "1.0.0",
      "model_name": "LayoutModel",
      "state": {}
     },
     "92b7987070eb4164a1bff3b37b1b5b67": {
      "model_module": "@jupyter-widgets/base",
      "model_module_version": "1.0.0",
      "model_name": "LayoutModel",
      "state": {
       "width": "80%"
      }
     },
     "9391dc90b9cd487e9458fb418bd6d27f": {
      "model_module": "@jupyter-widgets/base",
      "model_module_version": "1.0.0",
      "model_name": "LayoutModel",
      "state": {}
     },
     "943fe6f2b52641f792f597cb196b0d07": {
      "model_module": "@jupyter-widgets/controls",
      "model_module_version": "1.0.0",
      "model_name": "ButtonStyleModel",
      "state": {}
     },
     "9564aaf6af4448e48ce7fee0dd82ec4f": {
      "model_module": "@jupyter-widgets/base",
      "model_module_version": "1.0.0",
      "model_name": "LayoutModel",
      "state": {}
     },
     "95e04d627d8e40c8bb73912393c1c21d": {
      "model_module": "@jupyter-widgets/controls",
      "model_module_version": "1.0.0",
      "model_name": "HBoxModel",
      "state": {
       "children": [
        "IPY_MODEL_5dd2d24bfdd94168be2a5df3362115c7",
        "IPY_MODEL_528205de5a0d4872973fc20369b64e6c"
       ],
       "layout": "IPY_MODEL_11e98753d42e4741865a24beb0f1527c"
      }
     },
     "960012c9e6cf4dbba107e7302bc81677": {
      "model_module": "@jupyter-widgets/controls",
      "model_module_version": "1.0.0",
      "model_name": "HBoxModel",
      "state": {
       "children": [
        "IPY_MODEL_ecc9c315084d432098997c26d923ca26",
        "IPY_MODEL_dd010a93a9a741f6bc3a10d02fc9f3e3",
        "IPY_MODEL_65295ba05fb5409f8689162b2bf565e5"
       ],
       "layout": "IPY_MODEL_85f56c75fc584e609d812a3bbe4f5f74"
      }
     },
     "9671567f690b4f13b56fc7bfe3dcce2c": {
      "model_module": "@jupyter-widgets/controls",
      "model_module_version": "1.0.0",
      "model_name": "DescriptionStyleModel",
      "state": {
       "description_width": ""
      }
     },
     "96b47dc964d64903814c1b0f334c6eb9": {
      "model_module": "@jupyter-widgets/controls",
      "model_module_version": "1.0.0",
      "model_name": "DescriptionStyleModel",
      "state": {
       "description_width": ""
      }
     },
     "982eb35be5894f3aa24c6154e16e1ab2": {
      "model_module": "@jupyter-widgets/controls",
      "model_module_version": "1.0.0",
      "model_name": "HBoxModel",
      "state": {
       "children": [
        "IPY_MODEL_3736c9625f7047d282e6e7c1d71d0178",
        "IPY_MODEL_53e10ec2cb2f404c80b7c9d3d767c8f9"
       ],
       "layout": "IPY_MODEL_c030f18136b34a22980454d8fba61051"
      }
     },
     "987a488d84ec4435815c1dd46022fc4d": {
      "model_module": "@jupyter-widgets/controls",
      "model_module_version": "1.0.0",
      "model_name": "HTMLModel",
      "state": {
       "layout": "IPY_MODEL_04ced3f50b2848cda26f0673635107b7",
       "style": "IPY_MODEL_7a74d12065304d0f92b3948c2db99a0a",
       "value": "<style> a:link {color:black; background-color:transparent; text-decoration:none}a:visited {color:black; background-color:transparent; text-decoration:none}</style><p style=\"color:black;white-space:nowrap;\"><a href=\"http://dbbact.org/annotation_info/NA\"   target=\"_blank\">most: feces, homo sapiens, united states of america, obsolete_juvenile stage, control, </a></p><style> a:link {color:black; background-color:transparent; text-decoration:none}a:visited {color:black; background-color:transparent; text-decoration:none}</style><p style=\"color:black;white-space:nowrap;\"><a href=\"http://dbbact.org/annotation_info/NA\"   target=\"_blank\">special: el salado, age 30-50 years, age 50-80 years, premature birth, </a></p><style> a:link {color:green; background-color:transparent; text-decoration:none}a:visited {color:green; background-color:transparent; text-decoration:none}</style><p style=\"color:green;white-space:nowrap;\"><a href=\"http://dbbact.org/annotation_info/1368\"   target=\"_blank\">highfreq  feces, homo sapiens, juvenile organism, finland, obsolete_juvenile stage, age 13,</a></p><style> a:link {color:green; background-color:transparent; text-decoration:none}a:visited {color:green; background-color:transparent; text-decoration:none}</style><p style=\"color:green;white-space:nowrap;\"><a href=\"http://dbbact.org/annotation_info/1367\"   target=\"_blank\">common  feces, homo sapiens, juvenile organism, finland, obsolete_juvenile stage, age 13,</a></p><style> a:link {color:green; background-color:transparent; text-decoration:none}a:visited {color:green; background-color:transparent; text-decoration:none}</style><p style=\"color:green;white-space:nowrap;\"><a href=\"http://dbbact.org/annotation_info/1366\"   target=\"_blank\">highfreq  feces, homo sapiens, juvenile organism, india, obsolete_juvenile stage, age 13,</a></p><style> a:link {color:green; background-color:transparent; text-decoration:none}a:visited {color:green; background-color:transparent; text-decoration:none}</style><p style=\"color:green;white-space:nowrap;\"><a href=\"http://dbbact.org/annotation_info/1365\"   target=\"_blank\">common  feces, homo sapiens, juvenile organism, india, obsolete_juvenile stage, age 13,</a></p><style> a:link {color:blue; background-color:transparent; text-decoration:none}a:visited {color:blue; background-color:transparent; text-decoration:none}</style><p style=\"color:blue;white-space:nowrap;\"><a href=\"http://dbbact.org/annotation_info/1363\"   target=\"_blank\"> high in finland  compared to india  in feces homo sapiens juvenile organism obsolete_juvenile stage age 13 </a></p><style> a:link {color:blue; background-color:transparent; text-decoration:none}a:visited {color:blue; background-color:transparent; text-decoration:none}</style><p style=\"color:blue;white-space:nowrap;\"><a href=\"http://dbbact.org/annotation_info/1350\"   target=\"_blank\"> high in feces  compared to colon ileum  in homo sapiens kingdom of norway </a></p><style> a:link {color:blue; background-color:transparent; text-decoration:none}a:visited {color:blue; background-color:transparent; text-decoration:none}</style><p style=\"color:blue;white-space:nowrap;\"><a href=\"http://dbbact.org/annotation_info/1344\"   target=\"_blank\">lower in preterm birth vaginal samples ( high in control  compared to premature birth  in homo sapiens united states of america female pregnancy vagina </a></p><style> a:link {color:green; background-color:transparent; text-decoration:none}a:visited {color:green; background-color:transparent; text-decoration:none}</style><p style=\"color:green;white-space:nowrap;\"><a href=\"http://dbbact.org/annotation_info/1333\"   target=\"_blank\">common  feces, homo sapiens, tanzania, hunter gatherer, hadza,</a></p><style> a:link {color:green; background-color:transparent; text-decoration:none}a:visited {color:green; background-color:transparent; text-decoration:none}</style><p style=\"color:green;white-space:nowrap;\"><a href=\"http://dbbact.org/annotation_info/1185\"   target=\"_blank\">common in barn swallows in colorado (common  feces, united states of america, hirundo rustica, colorado, barn swallow,</a></p><style> a:link {color:green; background-color:transparent; text-decoration:none}a:visited {color:green; background-color:transparent; text-decoration:none}</style><p style=\"color:green;white-space:nowrap;\"><a href=\"http://dbbact.org/annotation_info/1182\"   target=\"_blank\">common in wastewater treatment plant effluent in autumn in china (common  china, wastewater treatment plant, effluent, autumn,</a></p><style> a:link {color:green; background-color:transparent; text-decoration:none}a:visited {color:green; background-color:transparent; text-decoration:none}</style><p style=\"color:green;white-space:nowrap;\"><a href=\"http://dbbact.org/annotation_info/1181\"   target=\"_blank\">common in wastewater treatment plant effluent in spring in china (common  china, spring, wastewater treatment plant, effluent,</a></p><style> a:link {color:green; background-color:transparent; text-decoration:none}a:visited {color:green; background-color:transparent; text-decoration:none}</style><p style=\"color:green;white-space:nowrap;\"><a href=\"http://dbbact.org/annotation_info/1178\"   target=\"_blank\">common in river water upstream of WTP effluent in autumn in china (common  china, river, water, autumn,</a></p><style> a:link {color:green; background-color:transparent; text-decoration:none}a:visited {color:green; background-color:transparent; text-decoration:none}</style><p style=\"color:green;white-space:nowrap;\"><a href=\"http://dbbact.org/annotation_info/1177\"   target=\"_blank\">common in river water upstream of WTP effluent in spring in china (common  china, river, spring, water,</a></p><style> a:link {color:green; background-color:transparent; text-decoration:none}a:visited {color:green; background-color:transparent; text-decoration:none}</style><p style=\"color:green;white-space:nowrap;\"><a href=\"http://dbbact.org/annotation_info/1036\"   target=\"_blank\">highfreq  feces, homo sapiens, united states of america,</a></p><style> a:link {color:green; background-color:transparent; text-decoration:none}a:visited {color:green; background-color:transparent; text-decoration:none}</style><p style=\"color:green;white-space:nowrap;\"><a href=\"http://dbbact.org/annotation_info/1035\"   target=\"_blank\">common  feces, homo sapiens, united states of america,</a></p><style> a:link {color:green; background-color:transparent; text-decoration:none}a:visited {color:green; background-color:transparent; text-decoration:none}</style><p style=\"color:green;white-space:nowrap;\"><a href=\"http://dbbact.org/annotation_info/1034\"   target=\"_blank\">highfreq  feces, homo sapiens, south korea,</a></p><style> a:link {color:green; background-color:transparent; text-decoration:none}a:visited {color:green; background-color:transparent; text-decoration:none}</style><p style=\"color:green;white-space:nowrap;\"><a href=\"http://dbbact.org/annotation_info/1033\"   target=\"_blank\">common  feces, homo sapiens, south korea,</a></p><style> a:link {color:blue; background-color:transparent; text-decoration:none}a:visited {color:blue; background-color:transparent; text-decoration:none}</style><p style=\"color:blue;white-space:nowrap;\"><a href=\"http://dbbact.org/annotation_info/1030\"   target=\"_blank\">negatively correlated with age (30-80 years) ( high in age age 30-50 years  compared to age 50-80 years  in feces homo sapiens south korea </a></p><style> a:link {color:green; background-color:transparent; text-decoration:none}a:visited {color:green; background-color:transparent; text-decoration:none}</style><p style=\"color:green;white-space:nowrap;\"><a href=\"http://dbbact.org/annotation_info/977\"   target=\"_blank\">highfreq  feces, homo sapiens, united kingdom,</a></p><style> a:link {color:green; background-color:transparent; text-decoration:none}a:visited {color:green; background-color:transparent; text-decoration:none}</style><p style=\"color:green;white-space:nowrap;\"><a href=\"http://dbbact.org/annotation_info/976\"   target=\"_blank\">common  feces, homo sapiens, united kingdom,</a></p><style> a:link {color:blue; background-color:transparent; text-decoration:none}a:visited {color:blue; background-color:transparent; text-decoration:none}</style><p style=\"color:blue;white-space:nowrap;\"><a href=\"http://dbbact.org/annotation_info/973\"   target=\"_blank\">low in diarrhea compared to recovery period ( high in control  compared to diarrhea  in feces homo sapiens adult bangladesh </a></p><style> a:link {color:green; background-color:transparent; text-decoration:none}a:visited {color:green; background-color:transparent; text-decoration:none}</style><p style=\"color:green;white-space:nowrap;\"><a href=\"http://dbbact.org/annotation_info/970\"   target=\"_blank\">common  feces, homo sapiens, adult, bangladesh,</a></p><style> a:link {color:green; background-color:transparent; text-decoration:none}a:visited {color:green; background-color:transparent; text-decoration:none}</style><p style=\"color:green;white-space:nowrap;\"><a href=\"http://dbbact.org/annotation_info/968\"   target=\"_blank\">highfreq  feces, homo sapiens, brazil,</a></p><style> a:link {color:green; background-color:transparent; text-decoration:none}a:visited {color:green; background-color:transparent; text-decoration:none}</style><p style=\"color:green;white-space:nowrap;\"><a href=\"http://dbbact.org/annotation_info/967\"   target=\"_blank\">common  feces, homo sapiens, brazil,</a></p><style> a:link {color:blue; background-color:transparent; text-decoration:none}a:visited {color:blue; background-color:transparent; text-decoration:none}</style><p style=\"color:blue;white-space:nowrap;\"><a href=\"http://dbbact.org/annotation_info/959\"   target=\"_blank\">positively correlated with bmi ( high in body mass index high bmi  compared to low bmi  in feces homo sapiens united states of america </a></p><style> a:link {color:green; background-color:transparent; text-decoration:none}a:visited {color:green; background-color:transparent; text-decoration:none}</style><p style=\"color:green;white-space:nowrap;\"><a href=\"http://dbbact.org/annotation_info/26\"   target=\"_blank\">common  feces, homo sapiens, toronto,</a></p><style> a:link {color:green; background-color:transparent; text-decoration:none}a:visited {color:green; background-color:transparent; text-decoration:none}</style><p style=\"color:green;white-space:nowrap;\"><a href=\"http://dbbact.org/annotation_info/27\"   target=\"_blank\">highfreq  feces, homo sapiens, toronto,</a></p><style> a:link {color:blue; background-color:transparent; text-decoration:none}a:visited {color:blue; background-color:transparent; text-decoration:none}</style><p style=\"color:blue;white-space:nowrap;\"><a href=\"http://dbbact.org/annotation_info/29\"   target=\"_blank\">negatively correlated with age (6-35) ( high in child  compared to adult  in feces homo sapiens toronto </a></p><style> a:link {color:blue; background-color:transparent; text-decoration:none}a:visited {color:blue; background-color:transparent; text-decoration:none}</style><p style=\"color:blue;white-space:nowrap;\"><a href=\"http://dbbact.org/annotation_info/57\"   target=\"_blank\">higher in controls compared to CD in biopsies ( high in control  compared to crohn's disease  in homo sapiens united states of america rectum caecum colon sigmoid colon terminal ileum biopsy children </a></p><style> a:link {color:green; background-color:transparent; text-decoration:none}a:visited {color:green; background-color:transparent; text-decoration:none}</style><p style=\"color:green;white-space:nowrap;\"><a href=\"http://dbbact.org/annotation_info/126\"   target=\"_blank\">common  feces, homo sapiens, sichuan province,</a></p><style> a:link {color:green; background-color:transparent; text-decoration:none}a:visited {color:green; background-color:transparent; text-decoration:none}</style><p style=\"color:green;white-space:nowrap;\"><a href=\"http://dbbact.org/annotation_info/127\"   target=\"_blank\">highfreq  feces, homo sapiens, sichuan province,</a></p><style> a:link {color:blue; background-color:transparent; text-decoration:none}a:visited {color:blue; background-color:transparent; text-decoration:none}</style><p style=\"color:blue;white-space:nowrap;\"><a href=\"http://dbbact.org/annotation_info/156\"   target=\"_blank\">lower in young babies compared to 2 year olds in india ( high in age age 1-2  compared to age 0-1  in feces homo sapiens infant india </a></p><style> a:link {color:blue; background-color:transparent; text-decoration:none}a:visited {color:blue; background-color:transparent; text-decoration:none}</style><p style=\"color:blue;white-space:nowrap;\"><a href=\"http://dbbact.org/annotation_info/195\"   target=\"_blank\"> high in lima shantytown  compared to el salado small village  in feces homo sapiens city </a></p><style> a:link {color:green; background-color:transparent; text-decoration:none}a:visited {color:green; background-color:transparent; text-decoration:none}</style><p style=\"color:green;white-space:nowrap;\"><a href=\"http://dbbact.org/annotation_info/196\"   target=\"_blank\">common  feces, homo sapiens, city, lima, shantytown,</a></p><style> a:link {color:green; background-color:transparent; text-decoration:none}a:visited {color:green; background-color:transparent; text-decoration:none}</style><p style=\"color:green;white-space:nowrap;\"><a href=\"http://dbbact.org/annotation_info/197\"   target=\"_blank\">highfreq  feces, homo sapiens, city, lima, shantytown,</a></p><style> a:link {color:green; background-color:transparent; text-decoration:none}a:visited {color:green; background-color:transparent; text-decoration:none}</style><p style=\"color:green;white-space:nowrap;\"><a href=\"http://dbbact.org/annotation_info/198\"   target=\"_blank\">common  feces, homo sapiens, city, el salvador, small village,</a></p><style> a:link {color:blue; background-color:transparent; text-decoration:none}a:visited {color:blue; background-color:transparent; text-decoration:none}</style><p style=\"color:blue;white-space:nowrap;\"><a href=\"http://dbbact.org/annotation_info/203\"   target=\"_blank\">lower in wastewater plant effluent compared to influent and sewer in south america ( high in sewage influent  compared to effluent  in city wastewater treatment plant south america </a></p><style> a:link {color:blue; background-color:transparent; text-decoration:none}a:visited {color:blue; background-color:transparent; text-decoration:none}</style><p style=\"color:blue;white-space:nowrap;\"><a href=\"http://dbbact.org/annotation_info/258\"   target=\"_blank\"> high in united states of america  compared to egypt  in feces homo sapiens child obsolete_juvenile stage </a></p><style> a:link {color:green; background-color:transparent; text-decoration:none}a:visited {color:green; background-color:transparent; text-decoration:none}</style><p style=\"color:green;white-space:nowrap;\"><a href=\"http://dbbact.org/annotation_info/259\"   target=\"_blank\">common  feces, homo sapiens, child, egypt, obsolete_juvenile stage,</a></p><style> a:link {color:green; background-color:transparent; text-decoration:none}a:visited {color:green; background-color:transparent; text-decoration:none}</style><p style=\"color:green;white-space:nowrap;\"><a href=\"http://dbbact.org/annotation_info/261\"   target=\"_blank\">common  feces, homo sapiens, united states of america, child, obsolete_juvenile stage,</a></p><style> a:link {color:green; background-color:transparent; text-decoration:none}a:visited {color:green; background-color:transparent; text-decoration:none}</style><p style=\"color:green;white-space:nowrap;\"><a href=\"http://dbbact.org/annotation_info/262\"   target=\"_blank\">highfreq  feces, homo sapiens, united states of america, child, obsolete_juvenile stage,</a></p><style> a:link {color:blue; background-color:transparent; text-decoration:none}a:visited {color:blue; background-color:transparent; text-decoration:none}</style><p style=\"color:blue;white-space:nowrap;\"><a href=\"http://dbbact.org/annotation_info/559\"   target=\"_blank\">high in healthy adult controls compared to children with Crohn's disease ( high in control adult  compared to crohn's disease child obsolete_juvenile stage  in feces homo sapiens glasgow </a></p><style> a:link {color:green; background-color:transparent; text-decoration:none}a:visited {color:green; background-color:transparent; text-decoration:none}</style><p style=\"color:green;white-space:nowrap;\"><a href=\"http://dbbact.org/annotation_info/560\"   target=\"_blank\">common  feces, homo sapiens, adult, glasgow,</a></p><style> a:link {color:green; background-color:transparent; text-decoration:none}a:visited {color:green; background-color:transparent; text-decoration:none}</style><p style=\"color:green;white-space:nowrap;\"><a href=\"http://dbbact.org/annotation_info/561\"   target=\"_blank\">highfreq  feces, homo sapiens, adult, glasgow,</a></p><style> a:link {color:green; background-color:transparent; text-decoration:none}a:visited {color:green; background-color:transparent; text-decoration:none}</style><p style=\"color:green;white-space:nowrap;\"><a href=\"http://dbbact.org/annotation_info/566\"   target=\"_blank\">common  feces, homo sapiens, united states of america,</a></p><style> a:link {color:green; background-color:transparent; text-decoration:none}a:visited {color:green; background-color:transparent; text-decoration:none}</style><p style=\"color:green;white-space:nowrap;\"><a href=\"http://dbbact.org/annotation_info/610\"   target=\"_blank\">common  feces, homo sapiens, venezuela, amerindian, hunter gatherer,</a></p>"
      }
     },
     "98888b64f46a4cb8acc5d3123778562d": {
      "model_module": "@jupyter-widgets/controls",
      "model_module_version": "1.0.0",
      "model_name": "TextModel",
      "state": {
       "description": "Feature ID",
       "layout": "IPY_MODEL_a675af37ae004d30bd9cf2809e15dc9e",
       "placeholder": "Feature ID",
       "style": "IPY_MODEL_b64bae7c9d184f2ba904cfab4c684c89",
       "value": "-"
      }
     },
     "996a9d5fd382489ea66ad11df6b62c86": {
      "model_module": "@jupyter-widgets/base",
      "model_module_version": "1.0.0",
      "model_name": "LayoutModel",
      "state": {}
     },
     "99cf8519d50042f0a0f84276476e1f87": {
      "model_module": "@jupyter-widgets/controls",
      "model_module_version": "1.0.0",
      "model_name": "DescriptionStyleModel",
      "state": {
       "description_width": ""
      }
     },
     "9a1c8dbcbcb74024b47f3428348e555c": {
      "model_module": "@jupyter-widgets/base",
      "model_module_version": "1.0.0",
      "model_name": "LayoutModel",
      "state": {}
     },
     "9aa7dacdba974d3ebe25ab22b0ac0d12": {
      "model_module": "@jupyter-widgets/base",
      "model_module_version": "1.0.0",
      "model_name": "LayoutModel",
      "state": {
       "width": "100%"
      }
     },
     "9b93f5a9980e40f9b05fc5f40c356225": {
      "model_module": "@jupyter-widgets/controls",
      "model_module_version": "1.0.0",
      "model_name": "TextModel",
      "state": {
       "layout": "IPY_MODEL_eb8cb242691c4906b45a69a22bfdf99b",
       "placeholder": "sample meta",
       "style": "IPY_MODEL_64fab090a57b420b9452f7260002b42c",
       "value": "-"
      }
     },
     "9b98f9a6b7074b33bcc9138c9f0cae6b": {
      "model_module": "@jupyter-widgets/controls",
      "model_module_version": "1.0.0",
      "model_name": "DescriptionStyleModel",
      "state": {
       "description_width": ""
      }
     },
     "9d90d6a7db9a497ea4988f03aa43376d": {
      "model_module": "@jupyter-widgets/controls",
      "model_module_version": "1.0.0",
      "model_name": "ButtonModel",
      "state": {
       "description": "Save",
       "layout": "IPY_MODEL_23236f71301c425eae27186e1da30263",
       "style": "IPY_MODEL_d2fe1cca23d44490b3b5f89beaa6805b"
      }
     },
     "9dff60e92f9741e888ccad8e241f721a": {
      "model_module": "@jupyter-widgets/controls",
      "model_module_version": "1.0.0",
      "model_name": "TextModel",
      "state": {
       "description": "Feature ID",
       "layout": "IPY_MODEL_fe6cbb2bcd714d86826b704ad53c08f8",
       "placeholder": "Feature ID",
       "style": "IPY_MODEL_99cf8519d50042f0a0f84276476e1f87",
       "value": "-"
      }
     },
     "9e67bc7c99834a74ac68a46c9ca1a5cb": {
      "model_module": "@jupyter-widgets/controls",
      "model_module_version": "1.0.0",
      "model_name": "DescriptionStyleModel",
      "state": {
       "description_width": ""
      }
     },
     "9ed12d89751f43198287f5137bc6b047": {
      "model_module": "@jupyter-widgets/base",
      "model_module_version": "1.0.0",
      "model_name": "LayoutModel",
      "state": {}
     },
     "9f0fb06e52484ec1b6eb512d86664086": {
      "model_module": "@jupyter-widgets/controls",
      "model_module_version": "1.0.0",
      "model_name": "DescriptionStyleModel",
      "state": {
       "description_width": ""
      }
     },
     "a144433973ca4e448d176e8d4c679c23": {
      "model_module": "@jupyter-widgets/controls",
      "model_module_version": "1.0.0",
      "model_name": "DescriptionStyleModel",
      "state": {
       "description_width": ""
      }
     },
     "a14f77daabf14e2c9693e4c118ab0acb": {
      "model_module": "@jupyter-widgets/base",
      "model_module_version": "1.0.0",
      "model_name": "LayoutModel",
      "state": {}
     },
     "a18c5acd4e1947179763f3f97228141a": {
      "model_module": "@jupyter-widgets/controls",
      "model_module_version": "1.0.0",
      "model_name": "HBoxModel",
      "state": {
       "children": [
        "IPY_MODEL_4efef9609013490482d9bc496ffdd0c9",
        "IPY_MODEL_07a20e102d6a4b3bbe1c45409cdc5a2b"
       ],
       "layout": "IPY_MODEL_82dc90e0959e4b64ba0e674059309526"
      }
     },
     "a1c06f46dcb84810b7a4ba20a1078d1c": {
      "model_module": "@jupyter-widgets/controls",
      "model_module_version": "1.0.0",
      "model_name": "DescriptionStyleModel",
      "state": {
       "description_width": ""
      }
     },
     "a1f6feba2a004d88abfa0cb505f1acd8": {
      "model_module": "@jupyter-widgets/base",
      "model_module_version": "1.0.0",
      "model_name": "LayoutModel",
      "state": {}
     },
     "a23e337555b04722b3c4304c42088358": {
      "model_module": "@jupyter-widgets/controls",
      "model_module_version": "1.0.0",
      "model_name": "FloatTextModel",
      "state": {
       "description": "Abundance",
       "layout": "IPY_MODEL_9aa7dacdba974d3ebe25ab22b0ac0d12",
       "step": null,
       "style": "IPY_MODEL_2d233b5b2e104df6b575f5d1860fc105"
      }
     },
     "a3eaad536cae4bb0a0918ba4a4ba1cbd": {
      "model_module": "@jupyter-widgets/controls",
      "model_module_version": "1.0.0",
      "model_name": "ButtonModel",
      "state": {
       "description": "Save",
       "layout": "IPY_MODEL_6843e8be75bf498a8241ac82d035794c",
       "style": "IPY_MODEL_ed3d3cdf33ea437e9ccd93f58dcdfed9"
      }
     },
     "a42d9501e4da4093aced0d82b54b2da4": {
      "model_module": "@jupyter-widgets/controls",
      "model_module_version": "1.0.0",
      "model_name": "DescriptionStyleModel",
      "state": {
       "description_width": ""
      }
     },
     "a5c92bf88e2b4109a3e2dc5f4e43a98a": {
      "model_module": "@jupyter-widgets/base",
      "model_module_version": "1.0.0",
      "model_name": "LayoutModel",
      "state": {
       "width": "20%"
      }
     },
     "a5e968b63df34f96a8bddffcb2174119": {
      "model_module": "@jupyter-widgets/controls",
      "model_module_version": "1.0.0",
      "model_name": "DescriptionStyleModel",
      "state": {
       "description_width": ""
      }
     },
     "a675af37ae004d30bd9cf2809e15dc9e": {
      "model_module": "@jupyter-widgets/base",
      "model_module_version": "1.0.0",
      "model_name": "LayoutModel",
      "state": {
       "width": "100%"
      }
     },
     "a6a949cf68e84141b4c68858fe00b4c4": {
      "model_module": "@jupyter-widgets/controls",
      "model_module_version": "1.0.0",
      "model_name": "DescriptionStyleModel",
      "state": {
       "description_width": ""
      }
     },
     "a735788e6b8245d78199e106e8230748": {
      "model_module": "@jupyter-widgets/base",
      "model_module_version": "1.0.0",
      "model_name": "LayoutModel",
      "state": {}
     },
     "a7ab6076371f4a889dcc3f0a82f8874d": {
      "model_module": "@jupyter-widgets/controls",
      "model_module_version": "1.0.0",
      "model_name": "ButtonModel",
      "state": {
       "description": "Annotate",
       "layout": "IPY_MODEL_2b8b32ec893542218ecdc986b1290d4b",
       "style": "IPY_MODEL_bdf847aeb31f4601a342f56a498ff918"
      }
     },
     "a94604f9f15d4822a82be41a6ace0625": {
      "model_module": "@jupyter-widgets/controls",
      "model_module_version": "1.0.0",
      "model_name": "DescriptionStyleModel",
      "state": {
       "description_width": ""
      }
     },
     "a96c8b839b63437d9896ef2ace157ef5": {
      "model_module": "@jupyter-widgets/controls",
      "model_module_version": "1.0.0",
      "model_name": "DescriptionStyleModel",
      "state": {
       "description_width": ""
      }
     },
     "a97f151b0fb2453b83f691b708dbee9f": {
      "model_module": "@jupyter-widgets/controls",
      "model_module_version": "1.0.0",
      "model_name": "ButtonStyleModel",
      "state": {}
     },
     "a9c42a4fcb4249cb8f397e537efef013": {
      "model_module": "@jupyter-widgets/base",
      "model_module_version": "1.0.0",
      "model_name": "LayoutModel",
      "state": {
       "width": "80%"
      }
     },
     "a9c65b9f93344d38b6c9de28460199ce": {
      "model_module": "@jupyter-widgets/controls",
      "model_module_version": "1.0.0",
      "model_name": "ButtonModel",
      "state": {
       "description": "Save",
       "layout": "IPY_MODEL_9119a67c4e984f8db96989b55d5d08f6",
       "style": "IPY_MODEL_11e9afdcec094ea986d8b594f6958ee0"
      }
     },
     "aab2096f25e5447aad462c9bf7220349": {
      "model_module": "@jupyter-widgets/base",
      "model_module_version": "1.0.0",
      "model_name": "LayoutModel",
      "state": {}
     },
     "aabdd0fcb94545c3a093dd44de872868": {
      "model_module": "@jupyter-widgets/controls",
      "model_module_version": "1.0.0",
      "model_name": "DropdownModel",
      "state": {
       "_options_labels": [
        "taxonomy"
       ],
       "index": 0,
       "layout": "IPY_MODEL_a5c92bf88e2b4109a3e2dc5f4e43a98a",
       "style": "IPY_MODEL_df6382653ac4403db5dd096a5bd21ab2"
      }
     },
     "ab9ebc442aa1451ab38cfa5b47560557": {
      "model_module": "@jupyter-widgets/base",
      "model_module_version": "1.0.0",
      "model_name": "LayoutModel",
      "state": {
       "width": "20%"
      }
     },
     "ac6e562b1bec4a5c8850ba8f05eee4d0": {
      "model_module": "@jupyter-widgets/controls",
      "model_module_version": "1.0.0",
      "model_name": "ButtonStyleModel",
      "state": {}
     },
     "ac960aeaa72a4d4ebaac40588e74a03a": {
      "model_module": "@jupyter-widgets/controls",
      "model_module_version": "1.0.0",
      "model_name": "ButtonModel",
      "state": {
       "description": "Annotate",
       "layout": "IPY_MODEL_43e3b59facf34dce81ab7edefc395062",
       "style": "IPY_MODEL_76dd77ae3bb74dba9a3fd4dca82a7c5f"
      }
     },
     "acac0bc79cb2434985a38aae6922c821": {
      "model_module": "@jupyter-widgets/base",
      "model_module_version": "1.0.0",
      "model_name": "LayoutModel",
      "state": {}
     },
     "ae16b0a5ec6543c4b1004928c13941ba": {
      "model_module": "@jupyter-widgets/base",
      "model_module_version": "1.0.0",
      "model_name": "LayoutModel",
      "state": {}
     },
     "ae65f4ef66ad4ff6a6543cfe71b0e0df": {
      "model_module": "@jupyter-widgets/controls",
      "model_module_version": "1.0.0",
      "model_name": "TextModel",
      "state": {
       "description": "Sample ID",
       "layout": "IPY_MODEL_dc3e6ff7b3034aaca3c7ae14c5c450be",
       "placeholder": "Sample ID",
       "style": "IPY_MODEL_cc067f2ab4354f8f87502e95282a4d74",
       "value": "-"
      }
     },
     "aec840ca5bf546dcad52e04a6547524f": {
      "model_module": "@jupyter-widgets/controls",
      "model_module_version": "1.0.0",
      "model_name": "LabelModel",
      "state": {
       "layout": "IPY_MODEL_2d77f342f80e4141b4ac7f4b934facad",
       "style": "IPY_MODEL_9671567f690b4f13b56fc7bfe3dcce2c",
       "value": "1 features are selected"
      }
     },
     "af17fb390c80408b948c1a2120f31fa4": {
      "model_module": "@jupyter-widgets/controls",
      "model_module_version": "1.0.0",
      "model_name": "DescriptionStyleModel",
      "state": {
       "description_width": ""
      }
     },
     "aff2336ae26c4a1e9c6cf467cf8f42e9": {
      "model_module": "@jupyter-widgets/controls",
      "model_module_version": "1.0.0",
      "model_name": "HBoxModel",
      "state": {
       "children": [
        "IPY_MODEL_bec66ed5e5024fc4bd6a20e54622627b",
        "IPY_MODEL_471ac03efac747c284db7fc5033f554f"
       ],
       "layout": "IPY_MODEL_7aa58ce061b34e85a9c86750c8051596"
      }
     },
     "b1ffe6378aa740f0912d3ce7af1e0df6": {
      "model_module": "@jupyter-widgets/base",
      "model_module_version": "1.0.0",
      "model_name": "LayoutModel",
      "state": {
       "width": "80%"
      }
     },
     "b25c52d099fe46329489418a77bd392b": {
      "model_module": "@jupyter-widgets/base",
      "model_module_version": "1.0.0",
      "model_name": "LayoutModel",
      "state": {
       "width": "80%"
      }
     },
     "b4ad7750128e46939b089d4d67f7c236": {
      "model_module": "@jupyter-widgets/base",
      "model_module_version": "1.0.0",
      "model_name": "LayoutModel",
      "state": {
       "width": "20%"
      }
     },
     "b5d99c8b81e846d0b79fbbcd792462c7": {
      "model_module": "@jupyter-widgets/controls",
      "model_module_version": "1.0.0",
      "model_name": "DescriptionStyleModel",
      "state": {
       "description_width": ""
      }
     },
     "b60cf1a9c5f74b87aca6b2283b1caf9f": {
      "model_module": "@jupyter-widgets/controls",
      "model_module_version": "1.0.0",
      "model_name": "LabelModel",
      "state": {
       "layout": "IPY_MODEL_e9945e382f8d43a7889c8f5138de21ee",
       "style": "IPY_MODEL_f30d062236ef491ab843874dcde3986a",
       "value": "0 features are selected"
      }
     },
     "b61b36750308493f9678ef22c206aebc": {
      "model_module": "@jupyter-widgets/controls",
      "model_module_version": "1.0.0",
      "model_name": "ButtonStyleModel",
      "state": {}
     },
     "b64bae7c9d184f2ba904cfab4c684c89": {
      "model_module": "@jupyter-widgets/controls",
      "model_module_version": "1.0.0",
      "model_name": "DescriptionStyleModel",
      "state": {
       "description_width": ""
      }
     },
     "b688e21b122c480b9bfaf684baef8d0e": {
      "model_module": "@jupyter-widgets/controls",
      "model_module_version": "1.0.0",
      "model_name": "HTMLModel",
      "state": {
       "layout": "IPY_MODEL_cbc9dad7ca27427e9fbd457bd9e643a9",
       "style": "IPY_MODEL_d404512a0c664c33b0d16e371585b92e",
       "value": "<style> a:link {color:black; background-color:transparent; text-decoration:none}a:visited {color:black; background-color:transparent; text-decoration:none}</style><p style=\"color:black;white-space:nowrap;\"><a href=\"http://dbbact.org/annotation_info/NA\"   target=\"_blank\">most: age 0-1, age, infant, homo sapiens, india, </a></p><style> a:link {color:black; background-color:transparent; text-decoration:none}a:visited {color:black; background-color:transparent; text-decoration:none}</style><p style=\"color:black;white-space:nowrap;\"><a href=\"http://dbbact.org/annotation_info/NA\"   target=\"_blank\">special: age 1-2, age 0-1, india, infant, </a></p><style> a:link {color:blue; background-color:transparent; text-decoration:none}a:visited {color:blue; background-color:transparent; text-decoration:none}</style><p style=\"color:blue;white-space:nowrap;\"><a href=\"http://dbbact.org/annotation_info/155\"   target=\"_blank\">higher in younf babies compared to 2 year olds in india ( high in age age 0-1  compared to age 1-2  in feces homo sapiens infant india </a></p>"
      }
     },
     "b6d9cf2393d74e11b2fcb751b3c02740": {
      "model_module": "@jupyter-widgets/controls",
      "model_module_version": "1.0.0",
      "model_name": "DescriptionStyleModel",
      "state": {
       "description_width": ""
      }
     },
     "b757d0386e6c448ca06be8d93f7a9b7b": {
      "model_module": "@jupyter-widgets/controls",
      "model_module_version": "1.0.0",
      "model_name": "HBoxModel",
      "state": {
       "children": [
        "IPY_MODEL_2f6645405f9f41fd9025a99c13cd2364",
        "IPY_MODEL_112d50a8e2e24b99b873643bb18c3c03"
       ],
       "layout": "IPY_MODEL_1bc5ff99fc3647af8a830e8480b237cb"
      }
     },
     "b932b45bffca4573946d920d3f771b50": {
      "model_module": "@jupyter-widgets/controls",
      "model_module_version": "1.0.0",
      "model_name": "DescriptionStyleModel",
      "state": {
       "description_width": ""
      }
     },
     "b971bdc892e04dceb51892dfa3924836": {
      "model_module": "@jupyter-widgets/controls",
      "model_module_version": "1.0.0",
      "model_name": "DropdownModel",
      "state": {
       "_options_labels": [
        "BarcodeSequence",
        "LinkerPrimerSequence",
        "DAYS_SINCE_EPOCH",
        "TARGET_SUBFRAGMENT",
        "ASSIGNED_FROM_GEO",
        "EXPERIMENT_CENTER",
        "TITLE",
        "COMMON_SAMPLE_SITE",
        "RUN_PREFIX",
        "HOST_COMMON_NAME",
        "DEPTH",
        "COMMON_NAME",
        "BODY_SITE",
        "ELEVATION",
        "RUN_DATE",
        "DAYS_SINCE_EXPERIMENT_START",
        "COLLECTION_DATE",
        "ALTITUDE",
        "ENV_BIOME",
        "SEX",
        "PLATFORM",
        "STUDY_CENTER",
        "COUNTRY",
        "HOST_SUBJECT_ID",
        "ANONYMIZED_NAME",
        "TAXON_ID",
        "SAMPLE_CENTER",
        "SAMP_SIZE",
        "MISLABELED",
        "LONGITUDE",
        "STUDY_ID",
        "EXPERIMENT_DESIGN_DESCRIPTION",
        "Description_duplicate",
        "BODY_HABITAT",
        "SEQUENCING_METH",
        "ENV_MATTER",
        "TARGET_GENE",
        "ENV_FEATURE",
        "KEY_SEQ",
        "BODY_PRODUCT",
        "AGE_IN_YEARS",
        "RUN_CENTER",
        "LIBRARY_CONSTRUCTION_PROTOCOL",
        "LATITUDE",
        "REGION",
        "HOST_INDIVIDUAL",
        "Description",
        "_calour_original_abundance"
       ],
       "index": 0,
       "layout": "IPY_MODEL_25d9e28a9d73404f9e7955cb78eeed1a",
       "style": "IPY_MODEL_c33c3b2a5763453cb5270ee9e09be328"
      }
     },
     "b98b432d2e7b4889a0355c0064a0f8e3": {
      "model_module": "@jupyter-widgets/base",
      "model_module_version": "1.0.0",
      "model_name": "LayoutModel",
      "state": {
       "width": "80%"
      }
     },
     "b9f9c289397b4bff89b9b1e352971bd3": {
      "model_module": "@jupyter-widgets/controls",
      "model_module_version": "1.0.0",
      "model_name": "HBoxModel",
      "state": {
       "children": [
        "IPY_MODEL_44fd60979d0a4e81abea90bafbac27bf",
        "IPY_MODEL_7398ca27b40c45d4bafc96623b0d2ab0",
        "IPY_MODEL_f4c6e098ef3443ad93c535a039bf6b02"
       ],
       "layout": "IPY_MODEL_6e384852d3a540cb9eba908ec4fd9164"
      }
     },
     "ba93ddbac79740b9a15c1f7c9abb3b16": {
      "model_module": "@jupyter-widgets/base",
      "model_module_version": "1.0.0",
      "model_name": "LayoutModel",
      "state": {
       "height": "100px",
       "overflow_y": "auto"
      }
     },
     "bb941c7f338946dfab77f8ef094c5db5": {
      "model_module": "@jupyter-widgets/base",
      "model_module_version": "1.0.0",
      "model_name": "LayoutModel",
      "state": {}
     },
     "bc127eb9357a49b29bdd3df9b68e3b6b": {
      "model_module": "@jupyter-widgets/controls",
      "model_module_version": "1.0.0",
      "model_name": "DescriptionStyleModel",
      "state": {
       "description_width": ""
      }
     },
     "bcbf80535c9d42138fb9fffb1bd21ce0": {
      "model_module": "@jupyter-widgets/controls",
      "model_module_version": "1.0.0",
      "model_name": "ButtonModel",
      "state": {
       "description": "Save",
       "layout": "IPY_MODEL_a735788e6b8245d78199e106e8230748",
       "style": "IPY_MODEL_35ca59f99d09417093d0ab712c48a469"
      }
     },
     "bcea02129afa48ac9b1f2917a1526665": {
      "model_module": "@jupyter-widgets/controls",
      "model_module_version": "1.0.0",
      "model_name": "ButtonStyleModel",
      "state": {}
     },
     "bd08180a495c4db1ab0a679cedb0b580": {
      "model_module": "@jupyter-widgets/controls",
      "model_module_version": "1.0.0",
      "model_name": "DescriptionStyleModel",
      "state": {
       "description_width": ""
      }
     },
     "bdf847aeb31f4601a342f56a498ff918": {
      "model_module": "@jupyter-widgets/controls",
      "model_module_version": "1.0.0",
      "model_name": "ButtonStyleModel",
      "state": {}
     },
     "be651891e55645a2ac641f42bf58bb3a": {
      "model_module": "@jupyter-widgets/controls",
      "model_module_version": "1.0.0",
      "model_name": "DropdownModel",
      "state": {
       "_options_labels": [
        "taxonomy"
       ],
       "index": 0,
       "layout": "IPY_MODEL_b4ad7750128e46939b089d4d67f7c236",
       "style": "IPY_MODEL_65ff297f87954533a97f5ae09a5da114"
      }
     },
     "be72b246eff849b2a61eebc6ff79bf3e": {
      "model_module": "@jupyter-widgets/controls",
      "model_module_version": "1.0.0",
      "model_name": "TextModel",
      "state": {
       "layout": "IPY_MODEL_b1ffe6378aa740f0912d3ce7af1e0df6",
       "placeholder": "feature meta",
       "style": "IPY_MODEL_5bd758d3ee544721a779fe31a6323252",
       "value": "k__Bacteria;p__Proteobacteria;c__Alphaproteobacteria;o__Caulobacterales;f__Caulobacteraceae;g__Mycoplana;s__"
      }
     },
     "bec66ed5e5024fc4bd6a20e54622627b": {
      "model_module": "@jupyter-widgets/controls",
      "model_module_version": "1.0.0",
      "model_name": "DropdownModel",
      "state": {
       "_options_labels": [
        "BarcodeSequence",
        "LinkerPrimerSequence",
        "DAYS_SINCE_EPOCH",
        "TARGET_SUBFRAGMENT",
        "ASSIGNED_FROM_GEO",
        "EXPERIMENT_CENTER",
        "TITLE",
        "COMMON_SAMPLE_SITE",
        "RUN_PREFIX",
        "HOST_COMMON_NAME",
        "DEPTH",
        "COMMON_NAME",
        "BODY_SITE",
        "ELEVATION",
        "RUN_DATE",
        "DAYS_SINCE_EXPERIMENT_START",
        "COLLECTION_DATE",
        "ALTITUDE",
        "ENV_BIOME",
        "SEX",
        "PLATFORM",
        "STUDY_CENTER",
        "COUNTRY",
        "HOST_SUBJECT_ID",
        "ANONYMIZED_NAME",
        "TAXON_ID",
        "SAMPLE_CENTER",
        "SAMP_SIZE",
        "MISLABELED",
        "LONGITUDE",
        "STUDY_ID",
        "EXPERIMENT_DESIGN_DESCRIPTION",
        "Description_duplicate",
        "BODY_HABITAT",
        "SEQUENCING_METH",
        "ENV_MATTER",
        "TARGET_GENE",
        "ENV_FEATURE",
        "KEY_SEQ",
        "BODY_PRODUCT",
        "AGE_IN_YEARS",
        "RUN_CENTER",
        "LIBRARY_CONSTRUCTION_PROTOCOL",
        "LATITUDE",
        "REGION",
        "HOST_INDIVIDUAL",
        "Description",
        "_calour_original_abundance"
       ],
       "index": 0,
       "layout": "IPY_MODEL_fe7da7765a4c4ae185f3e697ebbcfbf5",
       "style": "IPY_MODEL_c51b3d1c24034bc79482ca1958f405f3"
      }
     },
     "c0186057570a47db816e4f5b27892eec": {
      "model_module": "@jupyter-widgets/controls",
      "model_module_version": "1.0.0",
      "model_name": "HTMLModel",
      "state": {
       "layout": "IPY_MODEL_eb1e389f67f9429fa24d31f26381daf2",
       "style": "IPY_MODEL_e4ece5f86d314b419471863ec25b1634",
       "value": "no annotation found"
      }
     },
     "c030f18136b34a22980454d8fba61051": {
      "model_module": "@jupyter-widgets/base",
      "model_module_version": "1.0.0",
      "model_name": "LayoutModel",
      "state": {}
     },
     "c084dc0d2020497a82e4eaeb95d4e0a5": {
      "model_module": "@jupyter-widgets/controls",
      "model_module_version": "1.0.0",
      "model_name": "HBoxModel",
      "state": {
       "children": [
        "IPY_MODEL_35b131b99f9542378ec43e4ca384a247",
        "IPY_MODEL_98888b64f46a4cb8acc5d3123778562d",
        "IPY_MODEL_0af488d5ead240d5b8d72b027be47f09"
       ],
       "layout": "IPY_MODEL_eb1ecf45287b467dbddf614240f37b6c"
      }
     },
     "c0d2881b2a8b402bb9652acb9a1f55a6": {
      "model_module": "@jupyter-widgets/controls",
      "model_module_version": "1.0.0",
      "model_name": "LabelModel",
      "state": {
       "layout": "IPY_MODEL_7b8f10c4ed4647a0b2cc833a24d29e16",
       "style": "IPY_MODEL_686386a5543d452dbf6f11606711f298",
       "value": "0 features are selected"
      }
     },
     "c31d78f3aa7e4e84b3a8aa260eed7e8e": {
      "model_module": "@jupyter-widgets/controls",
      "model_module_version": "1.0.0",
      "model_name": "DescriptionStyleModel",
      "state": {
       "description_width": ""
      }
     },
     "c33c3b2a5763453cb5270ee9e09be328": {
      "model_module": "@jupyter-widgets/controls",
      "model_module_version": "1.0.0",
      "model_name": "DescriptionStyleModel",
      "state": {
       "description_width": ""
      }
     },
     "c4940c875a5049c4a5eb0884b22a8868": {
      "model_module": "@jupyter-widgets/controls",
      "model_module_version": "1.0.0",
      "model_name": "HBoxModel",
      "state": {
       "children": [
        "IPY_MODEL_5819cad475664c2892bb81a8ad705d70",
        "IPY_MODEL_9dff60e92f9741e888ccad8e241f721a",
        "IPY_MODEL_feb0f195615d430797f4fac66b5ce4d9"
       ],
       "layout": "IPY_MODEL_3c520ae1422e4d3eb56f6d0bbc438aa3"
      }
     },
     "c51b3d1c24034bc79482ca1958f405f3": {
      "model_module": "@jupyter-widgets/controls",
      "model_module_version": "1.0.0",
      "model_name": "DescriptionStyleModel",
      "state": {
       "description_width": ""
      }
     },
     "c58c0d470f6c4587b507941b45dee79b": {
      "model_module": "@jupyter-widgets/base",
      "model_module_version": "1.0.0",
      "model_name": "LayoutModel",
      "state": {}
     },
     "c6fcdf264d8b4168a248eafaa03bd265": {
      "model_module": "@jupyter-widgets/controls",
      "model_module_version": "1.0.0",
      "model_name": "HBoxModel",
      "state": {
       "children": [
        "IPY_MODEL_1fc9ea5b76714d69a3d499964b8070a2",
        "IPY_MODEL_6c52993080f94f54b96dd93cb23d775c"
       ],
       "layout": "IPY_MODEL_467a1ecec918489bbd7da5d9c0cf3070"
      }
     },
     "c707e1072d4d4844ac6a8c19556cf5da": {
      "model_module": "@jupyter-widgets/base",
      "model_module_version": "1.0.0",
      "model_name": "LayoutModel",
      "state": {
       "width": "20%"
      }
     },
     "c7e3654873ab4613b1678bf6f68d1c0b": {
      "model_module": "@jupyter-widgets/base",
      "model_module_version": "1.0.0",
      "model_name": "LayoutModel",
      "state": {
       "height": "100px",
       "overflow_y": "auto"
      }
     },
     "c7f2b831c50c4dcda92e690db41b902c": {
      "model_module": "@jupyter-widgets/base",
      "model_module_version": "1.0.0",
      "model_name": "LayoutModel",
      "state": {}
     },
     "c908f9f6cb944de2834f7a7ae14b7b6b": {
      "model_module": "@jupyter-widgets/base",
      "model_module_version": "1.0.0",
      "model_name": "LayoutModel",
      "state": {}
     },
     "c921376db0c74ee79d4889c8cbd070cf": {
      "model_module": "@jupyter-widgets/base",
      "model_module_version": "1.0.0",
      "model_name": "LayoutModel",
      "state": {
       "width": "20%"
      }
     },
     "c9846e0cbbd644819bd88dd4253c0540": {
      "model_module": "@jupyter-widgets/base",
      "model_module_version": "1.0.0",
      "model_name": "LayoutModel",
      "state": {
       "width": "80%"
      }
     },
     "c9a889d61a394d22bf1b37107a81c39e": {
      "model_module": "@jupyter-widgets/controls",
      "model_module_version": "1.0.0",
      "model_name": "ButtonStyleModel",
      "state": {}
     },
     "caec6e7f08d74e6a9561b60545722d73": {
      "model_module": "@jupyter-widgets/controls",
      "model_module_version": "1.0.0",
      "model_name": "TextModel",
      "state": {
       "layout": "IPY_MODEL_2f9cc6b086b44ae098d232fa776c50cd",
       "placeholder": "sample meta",
       "style": "IPY_MODEL_3765fe71c8ff4b8c8aaf6b49b52cf36f",
       "value": "-"
      }
     },
     "cbaabeb66889443ba4c37e8c550bb2d7": {
      "model_module": "@jupyter-widgets/controls",
      "model_module_version": "1.0.0",
      "model_name": "HBoxModel",
      "state": {
       "children": [
        "IPY_MODEL_cc5fc417e6dd4091b895beecfb9e8517",
        "IPY_MODEL_121bc2afe670426fb326252c35e5a166",
        "IPY_MODEL_66f3c11ca9ff4d8eab9be306db6ea866"
       ],
       "layout": "IPY_MODEL_f138a50f5a78463dbcb93b0b981f80d9"
      }
     },
     "cbc9dad7ca27427e9fbd457bd9e643a9": {
      "model_module": "@jupyter-widgets/base",
      "model_module_version": "1.0.0",
      "model_name": "LayoutModel",
      "state": {
       "height": "100px",
       "overflow_y": "auto"
      }
     },
     "cc0028cd053845cd8ed12b1c15785b5a": {
      "model_module": "@jupyter-widgets/base",
      "model_module_version": "1.0.0",
      "model_name": "LayoutModel",
      "state": {
       "height": "100px",
       "overflow_y": "auto"
      }
     },
     "cc067f2ab4354f8f87502e95282a4d74": {
      "model_module": "@jupyter-widgets/controls",
      "model_module_version": "1.0.0",
      "model_name": "DescriptionStyleModel",
      "state": {
       "description_width": ""
      }
     },
     "cc5fc417e6dd4091b895beecfb9e8517": {
      "model_module": "@jupyter-widgets/controls",
      "model_module_version": "1.0.0",
      "model_name": "TextModel",
      "state": {
       "description": "Sample ID",
       "layout": "IPY_MODEL_8fc8ba82a8d34e8d80d5fd479159e13e",
       "placeholder": "Sample ID",
       "style": "IPY_MODEL_a94604f9f15d4822a82be41a6ace0625",
       "value": "-"
      }
     },
     "cce38353e2d24f3eacec6677d1a9959b": {
      "model_module": "@jupyter-widgets/base",
      "model_module_version": "1.0.0",
      "model_name": "LayoutModel",
      "state": {
       "width": "80%"
      }
     },
     "cd162952093e4153bc5e7c69666fc2f6": {
      "model_module": "@jupyter-widgets/controls",
      "model_module_version": "1.0.0",
      "model_name": "HBoxModel",
      "state": {
       "children": [
        "IPY_MODEL_1c903c1ffd484cdb8634ecf8756cc52c",
        "IPY_MODEL_a3eaad536cae4bb0a0918ba4a4ba1cbd",
        "IPY_MODEL_1202fc98886d4c33ac5ad48f5e05ec6a"
       ],
       "layout": "IPY_MODEL_07f7bddc049e456d86d51ff7e0577e3f"
      }
     },
     "cf80c59302eb4fab93db86c4f9f20ce8": {
      "model_module": "@jupyter-widgets/base",
      "model_module_version": "1.0.0",
      "model_name": "LayoutModel",
      "state": {}
     },
     "d02a3cdffb084bfaae6ba73fa2f0b9ed": {
      "model_module": "@jupyter-widgets/controls",
      "model_module_version": "1.0.0",
      "model_name": "HBoxModel",
      "state": {
       "children": [
        "IPY_MODEL_1c161d99193b4b90a5957488e50f56a4",
        "IPY_MODEL_7fcc2e08bf5f4acb85499a3d3b7e5c92",
        "IPY_MODEL_0c8683ee0cef4f5f942b1d6e96efa2f4"
       ],
       "layout": "IPY_MODEL_701ba0b381264941a920fd810b5e05ec"
      }
     },
     "d0301ae7003942cb8321266daa3b5af2": {
      "model_module": "@jupyter-widgets/controls",
      "model_module_version": "1.0.0",
      "model_name": "ButtonStyleModel",
      "state": {}
     },
     "d04fe898334445b2bd5687213d22685b": {
      "model_module": "@jupyter-widgets/controls",
      "model_module_version": "1.0.0",
      "model_name": "HBoxModel",
      "state": {
       "children": [
        "IPY_MODEL_6c793c6050ef413781cd29f7ff0fb353",
        "IPY_MODEL_0a5344a830e443f7a47963df1d935c69",
        "IPY_MODEL_2287eab978b1467b8a8a8a11de61768e"
       ],
       "layout": "IPY_MODEL_6ac115acfd454835982183b0a134a811"
      }
     },
     "d05d841d506f4f50802bf87ca8c24a9a": {
      "model_module": "@jupyter-widgets/controls",
      "model_module_version": "1.0.0",
      "model_name": "DropdownModel",
      "state": {
       "_options_labels": [
        "taxonomy"
       ],
       "index": 0,
       "layout": "IPY_MODEL_46d23f7ac5d045ecaf679cae78f84577",
       "style": "IPY_MODEL_221bb4c2d4b346d996f27ffe8cc2a4a7"
      }
     },
     "d078ee6e93494a649bd7b0152514c668": {
      "model_module": "@jupyter-widgets/base",
      "model_module_version": "1.0.0",
      "model_name": "LayoutModel",
      "state": {}
     },
     "d0834f814bf24110b3cdd99ccd968b11": {
      "model_module": "@jupyter-widgets/controls",
      "model_module_version": "1.0.0",
      "model_name": "HBoxModel",
      "state": {
       "children": [
        "IPY_MODEL_4a3eb090dd154ffeb930d12cd4f64720",
        "IPY_MODEL_519960a388d8480bad62a223e6a2aa7b",
        "IPY_MODEL_3c9033426341444aa510fb6a668e57c7"
       ],
       "layout": "IPY_MODEL_184c2b07da1148b78b3dd61265a6d74f"
      }
     },
     "d0e9c4669a914a21aa664c7c1890cc6d": {
      "model_module": "@jupyter-widgets/controls",
      "model_module_version": "1.0.0",
      "model_name": "TextModel",
      "state": {
       "description": "Feature ID",
       "layout": "IPY_MODEL_4fc117da579c4683aa9d90d51d89746f",
       "placeholder": "Feature ID",
       "style": "IPY_MODEL_f6358719be7248fcbdb5fcf074e72ab1",
       "value": "-"
      }
     },
     "d1e416fa1e444c50bd42dfd806cc9696": {
      "model_module": "@jupyter-widgets/controls",
      "model_module_version": "1.0.0",
      "model_name": "DescriptionStyleModel",
      "state": {
       "description_width": ""
      }
     },
     "d2369b747bfc44de90039ccb32bf73af": {
      "model_module": "@jupyter-widgets/controls",
      "model_module_version": "1.0.0",
      "model_name": "DropdownModel",
      "state": {
       "_options_labels": [
        "BarcodeSequence",
        "LinkerPrimerSequence",
        "DAYS_SINCE_EPOCH",
        "TARGET_SUBFRAGMENT",
        "ASSIGNED_FROM_GEO",
        "EXPERIMENT_CENTER",
        "TITLE",
        "COMMON_SAMPLE_SITE",
        "RUN_PREFIX",
        "HOST_COMMON_NAME",
        "DEPTH",
        "COMMON_NAME",
        "BODY_SITE",
        "ELEVATION",
        "RUN_DATE",
        "DAYS_SINCE_EXPERIMENT_START",
        "COLLECTION_DATE",
        "ALTITUDE",
        "ENV_BIOME",
        "SEX",
        "PLATFORM",
        "STUDY_CENTER",
        "COUNTRY",
        "HOST_SUBJECT_ID",
        "ANONYMIZED_NAME",
        "TAXON_ID",
        "SAMPLE_CENTER",
        "SAMP_SIZE",
        "MISLABELED",
        "LONGITUDE",
        "STUDY_ID",
        "EXPERIMENT_DESIGN_DESCRIPTION",
        "Description_duplicate",
        "BODY_HABITAT",
        "SEQUENCING_METH",
        "ENV_MATTER",
        "TARGET_GENE",
        "ENV_FEATURE",
        "KEY_SEQ",
        "BODY_PRODUCT",
        "AGE_IN_YEARS",
        "RUN_CENTER",
        "LIBRARY_CONSTRUCTION_PROTOCOL",
        "LATITUDE",
        "REGION",
        "HOST_INDIVIDUAL",
        "Description",
        "_calour_original_abundance"
       ],
       "index": 0,
       "layout": "IPY_MODEL_7e4f00e6599546c69fc05d1a6ad2f310",
       "style": "IPY_MODEL_8a399894763046a3a0b038f63ac0279f"
      }
     },
     "d28ed86ef52b4d52b6b36405559138a5": {
      "model_module": "@jupyter-widgets/base",
      "model_module_version": "1.0.0",
      "model_name": "LayoutModel",
      "state": {
       "width": "80%"
      }
     },
     "d2fe1cca23d44490b3b5f89beaa6805b": {
      "model_module": "@jupyter-widgets/controls",
      "model_module_version": "1.0.0",
      "model_name": "ButtonStyleModel",
      "state": {}
     },
     "d404512a0c664c33b0d16e371585b92e": {
      "model_module": "@jupyter-widgets/controls",
      "model_module_version": "1.0.0",
      "model_name": "DescriptionStyleModel",
      "state": {
       "description_width": ""
      }
     },
     "d487b7bec496458090bc781429a6218e": {
      "model_module": "@jupyter-widgets/controls",
      "model_module_version": "1.0.0",
      "model_name": "ButtonStyleModel",
      "state": {}
     },
     "d4ec6de383dd43c1b60443d904a136ac": {
      "model_module": "@jupyter-widgets/controls",
      "model_module_version": "1.0.0",
      "model_name": "ButtonStyleModel",
      "state": {}
     },
     "d5a7897ff60d4c2891c4033c6fcdcc1a": {
      "model_module": "@jupyter-widgets/controls",
      "model_module_version": "1.0.0",
      "model_name": "HBoxModel",
      "state": {
       "children": [
        "IPY_MODEL_ae65f4ef66ad4ff6a6543cfe71b0e0df",
        "IPY_MODEL_88f4046a9f8246a6ae9b8230f37d4503",
        "IPY_MODEL_3c67f860dfa54886aae8b9d6ba081545"
       ],
       "layout": "IPY_MODEL_43444f43d871437590ced46cbbce6d58"
      }
     },
     "d5f521b785a54bdcbcc89adef6530063": {
      "model_module": "@jupyter-widgets/controls",
      "model_module_version": "1.0.0",
      "model_name": "DescriptionStyleModel",
      "state": {
       "description_width": ""
      }
     },
     "d668c9dbe5964478ad443fdb75c5b3d2": {
      "model_module": "@jupyter-widgets/base",
      "model_module_version": "1.0.0",
      "model_name": "LayoutModel",
      "state": {
       "width": "80%"
      }
     },
     "d76d733669c34aa8861cb57e88d24152": {
      "model_module": "@jupyter-widgets/controls",
      "model_module_version": "1.0.0",
      "model_name": "DescriptionStyleModel",
      "state": {
       "description_width": ""
      }
     },
     "d9229c0d1b924b6f8044b3dbd4a0751f": {
      "model_module": "@jupyter-widgets/base",
      "model_module_version": "1.0.0",
      "model_name": "LayoutModel",
      "state": {
       "width": "20%"
      }
     },
     "da7730778b0549c7848e92e242ed9120": {
      "model_module": "@jupyter-widgets/controls",
      "model_module_version": "1.0.0",
      "model_name": "LabelModel",
      "state": {
       "layout": "IPY_MODEL_cf80c59302eb4fab93db86c4f9f20ce8",
       "style": "IPY_MODEL_25c6a6792ee148cf982fc013a2a0e842",
       "value": "1 features are selected"
      }
     },
     "dac9192969f54b9b8eb0e86c61401599": {
      "model_module": "@jupyter-widgets/controls",
      "model_module_version": "1.0.0",
      "model_name": "DescriptionStyleModel",
      "state": {
       "description_width": ""
      }
     },
     "db16d3e27cbe4c169dd684cbc4f9169c": {
      "model_module": "@jupyter-widgets/controls",
      "model_module_version": "1.0.0",
      "model_name": "DescriptionStyleModel",
      "state": {
       "description_width": ""
      }
     },
     "dbd560f12f3f4d5daa59173478f758fd": {
      "model_module": "@jupyter-widgets/controls",
      "model_module_version": "1.0.0",
      "model_name": "DescriptionStyleModel",
      "state": {
       "description_width": ""
      }
     },
     "dc3e6ff7b3034aaca3c7ae14c5c450be": {
      "model_module": "@jupyter-widgets/base",
      "model_module_version": "1.0.0",
      "model_name": "LayoutModel",
      "state": {
       "width": "100%"
      }
     },
     "dc41c6cf90c042f7bc8c5e58474e9879": {
      "model_module": "@jupyter-widgets/controls",
      "model_module_version": "1.0.0",
      "model_name": "HBoxModel",
      "state": {
       "children": [
        "IPY_MODEL_2394229b78c64da2905eda0a3c152e36",
        "IPY_MODEL_d0e9c4669a914a21aa664c7c1890cc6d",
        "IPY_MODEL_6cd763aaf56a44a6b89bee2813ee6a96"
       ],
       "layout": "IPY_MODEL_0adc33e13d8a47ca8512736853f7de09"
      }
     },
     "dc793f054ea040b19c041a3636137986": {
      "model_module": "@jupyter-widgets/base",
      "model_module_version": "1.0.0",
      "model_name": "LayoutModel",
      "state": {}
     },
     "dc7da70f3174464e9c57dc02caeb4f95": {
      "model_module": "@jupyter-widgets/base",
      "model_module_version": "1.0.0",
      "model_name": "LayoutModel",
      "state": {}
     },
     "dd010a93a9a741f6bc3a10d02fc9f3e3": {
      "model_module": "@jupyter-widgets/controls",
      "model_module_version": "1.0.0",
      "model_name": "ButtonModel",
      "state": {
       "description": "Save",
       "layout": "IPY_MODEL_f78c47e0d87645238c93e318c62346d9",
       "style": "IPY_MODEL_d487b7bec496458090bc781429a6218e"
      }
     },
     "de5c34e405c745138d7cfc2a854f40fc": {
      "model_module": "@jupyter-widgets/controls",
      "model_module_version": "1.0.0",
      "model_name": "DescriptionStyleModel",
      "state": {
       "description_width": ""
      }
     },
     "defed479701f4185b4131c3a9afdabaa": {
      "model_module": "@jupyter-widgets/controls",
      "model_module_version": "1.0.0",
      "model_name": "ButtonModel",
      "state": {
       "description": "print axes ranges",
       "layout": "IPY_MODEL_6fa95617475d4a24a72f72474a01ffa0",
       "style": "IPY_MODEL_8f6c1f8ecb524bdab9efe15b134fc4c0"
      }
     },
     "df6382653ac4403db5dd096a5bd21ab2": {
      "model_module": "@jupyter-widgets/controls",
      "model_module_version": "1.0.0",
      "model_name": "DescriptionStyleModel",
      "state": {
       "description_width": ""
      }
     },
     "e01813c463cf4f4685207eb03bdffe0b": {
      "model_module": "@jupyter-widgets/controls",
      "model_module_version": "1.0.0",
      "model_name": "ButtonStyleModel",
      "state": {}
     },
     "e047f7283c2a4cf9a7e0d79f4fc858bb": {
      "model_module": "@jupyter-widgets/controls",
      "model_module_version": "1.0.0",
      "model_name": "DescriptionStyleModel",
      "state": {
       "description_width": ""
      }
     },
     "e0cf55daeed147c39105e558795d54ab": {
      "model_module": "@jupyter-widgets/controls",
      "model_module_version": "1.0.0",
      "model_name": "HBoxModel",
      "state": {
       "children": [
        "IPY_MODEL_e972c578c7e54ce59f9a8712667bda2a",
        "IPY_MODEL_131a6e1d52684587982d0072e7eb142c",
        "IPY_MODEL_a23e337555b04722b3c4304c42088358"
       ],
       "layout": "IPY_MODEL_6d95127d2eaf4c3c9ed66565991f1c28"
      }
     },
     "e0ed0033425b4f24bcfc4586863611e9": {
      "model_module": "@jupyter-widgets/controls",
      "model_module_version": "1.0.0",
      "model_name": "HBoxModel",
      "state": {
       "children": [
        "IPY_MODEL_b971bdc892e04dceb51892dfa3924836",
        "IPY_MODEL_9b93f5a9980e40f9b05fc5f40c356225"
       ],
       "layout": "IPY_MODEL_7bc7752d915a4abdabc83b59ec19ef95"
      }
     },
     "e0f23d07a7704648b194a1885034820a": {
      "model_module": "@jupyter-widgets/controls",
      "model_module_version": "1.0.0",
      "model_name": "HBoxModel",
      "state": {
       "children": [
        "IPY_MODEL_f7c59f86b6ad4bbca3a5b845c427a43a",
        "IPY_MODEL_54219cf213fd4f06bfb6dcb67ffae12d",
        "IPY_MODEL_a7ab6076371f4a889dcc3f0a82f8874d"
       ],
       "layout": "IPY_MODEL_ef9bf58894db469e8c6a16538b10a90e"
      }
     },
     "e182924af21c4c96bd94dbd60a5c3e17": {
      "model_module": "@jupyter-widgets/base",
      "model_module_version": "1.0.0",
      "model_name": "LayoutModel",
      "state": {
       "height": "100px",
       "overflow_y": "auto"
      }
     },
     "e25896ca26eb455ab30c72eca19b8e95": {
      "model_module": "@jupyter-widgets/controls",
      "model_module_version": "1.0.0",
      "model_name": "DescriptionStyleModel",
      "state": {
       "description_width": ""
      }
     },
     "e319fcd8bd774afdadeefedf5f02535d": {
      "model_module": "@jupyter-widgets/base",
      "model_module_version": "1.0.0",
      "model_name": "LayoutModel",
      "state": {
       "width": "100%"
      }
     },
     "e35629f96c404a769b463388558ed875": {
      "model_module": "@jupyter-widgets/controls",
      "model_module_version": "1.0.0",
      "model_name": "DropdownModel",
      "state": {
       "_options_labels": [
        "BarcodeSequence",
        "LinkerPrimerSequence",
        "DAYS_SINCE_EPOCH",
        "TARGET_SUBFRAGMENT",
        "ASSIGNED_FROM_GEO",
        "EXPERIMENT_CENTER",
        "TITLE",
        "COMMON_SAMPLE_SITE",
        "RUN_PREFIX",
        "HOST_COMMON_NAME",
        "DEPTH",
        "COMMON_NAME",
        "BODY_SITE",
        "ELEVATION",
        "RUN_DATE",
        "DAYS_SINCE_EXPERIMENT_START",
        "COLLECTION_DATE",
        "ALTITUDE",
        "ENV_BIOME",
        "SEX",
        "PLATFORM",
        "STUDY_CENTER",
        "COUNTRY",
        "HOST_SUBJECT_ID",
        "ANONYMIZED_NAME",
        "TAXON_ID",
        "SAMPLE_CENTER",
        "SAMP_SIZE",
        "MISLABELED",
        "LONGITUDE",
        "STUDY_ID",
        "EXPERIMENT_DESIGN_DESCRIPTION",
        "Description_duplicate",
        "BODY_HABITAT",
        "SEQUENCING_METH",
        "ENV_MATTER",
        "TARGET_GENE",
        "ENV_FEATURE",
        "KEY_SEQ",
        "BODY_PRODUCT",
        "AGE_IN_YEARS",
        "RUN_CENTER",
        "LIBRARY_CONSTRUCTION_PROTOCOL",
        "LATITUDE",
        "REGION",
        "HOST_INDIVIDUAL",
        "Description",
        "_calour_original_abundance"
       ],
       "index": 0,
       "layout": "IPY_MODEL_5dc6e8f5453541c6aa7eeb4f42d3a8e6",
       "style": "IPY_MODEL_a6a949cf68e84141b4c68858fe00b4c4"
      }
     },
     "e359a3372b574bb5bd7926d59818e566": {
      "model_module": "@jupyter-widgets/base",
      "model_module_version": "1.0.0",
      "model_name": "LayoutModel",
      "state": {
       "width": "20%"
      }
     },
     "e3e0e40229c1455f91062891488a6ab8": {
      "model_module": "@jupyter-widgets/base",
      "model_module_version": "1.0.0",
      "model_name": "LayoutModel",
      "state": {}
     },
     "e463408339854d37a27bf624e2b8191a": {
      "model_module": "@jupyter-widgets/controls",
      "model_module_version": "1.0.0",
      "model_name": "HBoxModel",
      "state": {
       "children": [
        "IPY_MODEL_36bbdf19e93d4df495a6e757170eb963",
        "IPY_MODEL_caec6e7f08d74e6a9561b60545722d73"
       ],
       "layout": "IPY_MODEL_c58c0d470f6c4587b507941b45dee79b"
      }
     },
     "e46c674e5c9e496da8f25d1a435f9a75": {
      "model_module": "@jupyter-widgets/controls",
      "model_module_version": "1.0.0",
      "model_name": "DescriptionStyleModel",
      "state": {
       "description_width": ""
      }
     },
     "e4ece5f86d314b419471863ec25b1634": {
      "model_module": "@jupyter-widgets/controls",
      "model_module_version": "1.0.0",
      "model_name": "DescriptionStyleModel",
      "state": {
       "description_width": ""
      }
     },
     "e6806b42cc484d28b3eb2ba7b4da16af": {
      "model_module": "@jupyter-widgets/base",
      "model_module_version": "1.0.0",
      "model_name": "LayoutModel",
      "state": {
       "height": "100px",
       "overflow_y": "auto"
      }
     },
     "e81bdc8ed5a446239607d230ea9c9dc4": {
      "model_module": "@jupyter-widgets/controls",
      "model_module_version": "1.0.0",
      "model_name": "ButtonStyleModel",
      "state": {}
     },
     "e96bb02b84a94337aa8b6092996ccd04": {
      "model_module": "@jupyter-widgets/controls",
      "model_module_version": "1.0.0",
      "model_name": "TextModel",
      "state": {
       "layout": "IPY_MODEL_87df69a1f6074d719feb8ace24757071",
       "placeholder": "sample meta",
       "style": "IPY_MODEL_1bdda499588749fba28c69d6d86a39fa",
       "value": "GATGTGAGCGCT"
      }
     },
     "e972c578c7e54ce59f9a8712667bda2a": {
      "model_module": "@jupyter-widgets/controls",
      "model_module_version": "1.0.0",
      "model_name": "TextModel",
      "state": {
       "description": "Sample ID",
       "layout": "IPY_MODEL_9aa7dacdba974d3ebe25ab22b0ac0d12",
       "placeholder": "Sample ID",
       "style": "IPY_MODEL_fcd5f2c5d30d4c549d18a792e2d8cc88",
       "value": "L1S50.274303"
      }
     },
     "e9945e382f8d43a7889c8f5138de21ee": {
      "model_module": "@jupyter-widgets/base",
      "model_module_version": "1.0.0",
      "model_name": "LayoutModel",
      "state": {}
     },
     "e9d965a6a729469c92605c4afc27af37": {
      "model_module": "@jupyter-widgets/controls",
      "model_module_version": "1.0.0",
      "model_name": "DescriptionStyleModel",
      "state": {
       "description_width": ""
      }
     },
     "ea5e4a9f9f4543a78e878040745fb223": {
      "model_module": "@jupyter-widgets/controls",
      "model_module_version": "1.0.0",
      "model_name": "DescriptionStyleModel",
      "state": {
       "description_width": ""
      }
     },
     "eb1e389f67f9429fa24d31f26381daf2": {
      "model_module": "@jupyter-widgets/base",
      "model_module_version": "1.0.0",
      "model_name": "LayoutModel",
      "state": {
       "height": "100px",
       "overflow_y": "auto"
      }
     },
     "eb1ecf45287b467dbddf614240f37b6c": {
      "model_module": "@jupyter-widgets/base",
      "model_module_version": "1.0.0",
      "model_name": "LayoutModel",
      "state": {}
     },
     "eb8cb242691c4906b45a69a22bfdf99b": {
      "model_module": "@jupyter-widgets/base",
      "model_module_version": "1.0.0",
      "model_name": "LayoutModel",
      "state": {
       "width": "80%"
      }
     },
     "ecc9c315084d432098997c26d923ca26": {
      "model_module": "@jupyter-widgets/controls",
      "model_module_version": "1.0.0",
      "model_name": "ButtonModel",
      "state": {
       "description": "print axes ranges",
       "layout": "IPY_MODEL_62f655ec00894b2fa8ecb6ad3c18e349",
       "style": "IPY_MODEL_46c843c935be4cc795d9b18c612288cb"
      }
     },
     "ed3d3cdf33ea437e9ccd93f58dcdfed9": {
      "model_module": "@jupyter-widgets/controls",
      "model_module_version": "1.0.0",
      "model_name": "ButtonStyleModel",
      "state": {}
     },
     "ef9bf58894db469e8c6a16538b10a90e": {
      "model_module": "@jupyter-widgets/base",
      "model_module_version": "1.0.0",
      "model_name": "LayoutModel",
      "state": {}
     },
     "efc5643993694c45a08d3068de7f69fd": {
      "model_module": "@jupyter-widgets/base",
      "model_module_version": "1.0.0",
      "model_name": "LayoutModel",
      "state": {
       "width": "80%"
      }
     },
     "efd41016e405489b8f631ee23e7919b1": {
      "model_module": "@jupyter-widgets/controls",
      "model_module_version": "1.0.0",
      "model_name": "HBoxModel",
      "state": {
       "children": [
        "IPY_MODEL_0bb7eb9d936d4dd58197e20f37eae634",
        "IPY_MODEL_61d66a3a605b445b9a4658f776e1a916"
       ],
       "layout": "IPY_MODEL_ae16b0a5ec6543c4b1004928c13941ba"
      }
     },
     "f1308e3a388143f28b4674d66f3d86f4": {
      "model_module": "@jupyter-widgets/controls",
      "model_module_version": "1.0.0",
      "model_name": "TextModel",
      "state": {
       "description": "Feature ID",
       "layout": "IPY_MODEL_23d78717dac14baeb842f4a4f2d3b0d5",
       "placeholder": "Feature ID",
       "style": "IPY_MODEL_de5c34e405c745138d7cfc2a854f40fc",
       "value": "-"
      }
     },
     "f138a50f5a78463dbcb93b0b981f80d9": {
      "model_module": "@jupyter-widgets/base",
      "model_module_version": "1.0.0",
      "model_name": "LayoutModel",
      "state": {}
     },
     "f210d1df4c0c4f4ebda8e2dfc00018f7": {
      "model_module": "@jupyter-widgets/controls",
      "model_module_version": "1.0.0",
      "model_name": "TextModel",
      "state": {
       "description": "Sample ID",
       "layout": "IPY_MODEL_e319fcd8bd774afdadeefedf5f02535d",
       "placeholder": "Sample ID",
       "style": "IPY_MODEL_3191040eb9de4d389881dccca0089c0d",
       "value": "-"
      }
     },
     "f2d86c2d2a3a45dc88e17af951038b87": {
      "model_module": "@jupyter-widgets/base",
      "model_module_version": "1.0.0",
      "model_name": "LayoutModel",
      "state": {
       "width": "20%"
      }
     },
     "f30d062236ef491ab843874dcde3986a": {
      "model_module": "@jupyter-widgets/controls",
      "model_module_version": "1.0.0",
      "model_name": "DescriptionStyleModel",
      "state": {
       "description_width": ""
      }
     },
     "f4740afa1b8344cca2b311e4ba19979f": {
      "model_module": "@jupyter-widgets/base",
      "model_module_version": "1.0.0",
      "model_name": "LayoutModel",
      "state": {}
     },
     "f4c6e098ef3443ad93c535a039bf6b02": {
      "model_module": "@jupyter-widgets/controls",
      "model_module_version": "1.0.0",
      "model_name": "FloatTextModel",
      "state": {
       "description": "Abundance",
       "layout": "IPY_MODEL_265afb1d8b7a4a9ead24cd32abfa45df",
       "step": null,
       "style": "IPY_MODEL_20e478f56c4b4bdbb7cae1ca15e1aaa2"
      }
     },
     "f5019156c0ce43c0b415f94c093f0ebf": {
      "model_module": "@jupyter-widgets/base",
      "model_module_version": "1.0.0",
      "model_name": "LayoutModel",
      "state": {
       "height": "100px",
       "overflow_y": "auto"
      }
     },
     "f6358719be7248fcbdb5fcf074e72ab1": {
      "model_module": "@jupyter-widgets/controls",
      "model_module_version": "1.0.0",
      "model_name": "DescriptionStyleModel",
      "state": {
       "description_width": ""
      }
     },
     "f682c5d6a65544afa5daeb474986b73c": {
      "model_module": "@jupyter-widgets/controls",
      "model_module_version": "1.0.0",
      "model_name": "ButtonStyleModel",
      "state": {}
     },
     "f6dc62d5f7b941cf999519855d9c027f": {
      "model_module": "@jupyter-widgets/controls",
      "model_module_version": "1.0.0",
      "model_name": "HBoxModel",
      "state": {
       "children": [
        "IPY_MODEL_be651891e55645a2ac641f42bf58bb3a",
        "IPY_MODEL_be72b246eff849b2a61eebc6ff79bf3e"
       ],
       "layout": "IPY_MODEL_37367b7c454149828f7ebdfc043e153b"
      }
     },
     "f78c47e0d87645238c93e318c62346d9": {
      "model_module": "@jupyter-widgets/base",
      "model_module_version": "1.0.0",
      "model_name": "LayoutModel",
      "state": {}
     },
     "f7afdc8f9b5a45cba319d7e26713585b": {
      "model_module": "@jupyter-widgets/controls",
      "model_module_version": "1.0.0",
      "model_name": "HBoxModel",
      "state": {
       "children": [
        "IPY_MODEL_3beb776a988c4e02835c861b19aeab86",
        "IPY_MODEL_56ba82a00f54476fbe16216c567e205d",
        "IPY_MODEL_ac960aeaa72a4d4ebaac40588e74a03a"
       ],
       "layout": "IPY_MODEL_8fcee2d59a8f4cd4b036f525c0e17243"
      }
     },
     "f7c59f86b6ad4bbca3a5b845c427a43a": {
      "model_module": "@jupyter-widgets/controls",
      "model_module_version": "1.0.0",
      "model_name": "ButtonModel",
      "state": {
       "description": "print axes ranges",
       "layout": "IPY_MODEL_574cec4d3e8e4ed584efb45bf423ad9a",
       "style": "IPY_MODEL_f682c5d6a65544afa5daeb474986b73c"
      }
     },
     "f7df362be6234aa58709a8ebe11b9512": {
      "model_module": "@jupyter-widgets/controls",
      "model_module_version": "1.0.0",
      "model_name": "DescriptionStyleModel",
      "state": {
       "description_width": ""
      }
     },
     "f910524d23fe4974b6961bb99535c7dd": {
      "model_module": "@jupyter-widgets/base",
      "model_module_version": "1.0.0",
      "model_name": "LayoutModel",
      "state": {}
     },
     "fb5103aa065e4ec1a579f38918012665": {
      "model_module": "@jupyter-widgets/controls",
      "model_module_version": "1.0.0",
      "model_name": "ButtonModel",
      "state": {
       "description": "print axes ranges",
       "layout": "IPY_MODEL_66ce93c20a0e4a8db3f9c4d302a2367d",
       "style": "IPY_MODEL_3ce9a519d5bb408b8f38738d9a49cdd7"
      }
     },
     "fbfab59b89f04ca4a880358c878cbf51": {
      "model_module": "@jupyter-widgets/controls",
      "model_module_version": "1.0.0",
      "model_name": "TextModel",
      "state": {
       "description": "Feature ID",
       "layout": "IPY_MODEL_e319fcd8bd774afdadeefedf5f02535d",
       "placeholder": "Feature ID",
       "style": "IPY_MODEL_88f77ee373954904b140150decc11ad2",
       "value": "-"
      }
     },
     "fc4183a4f54c48918b1ad6a5fe04cb38": {
      "model_module": "@jupyter-widgets/controls",
      "model_module_version": "1.0.0",
      "model_name": "HTMLModel",
      "state": {
       "layout": "IPY_MODEL_360fc56c5a9c4a10946c14e2b7752236",
       "style": "IPY_MODEL_3ebba5ed80f241f285e3697696911701",
       "value": "no annotation found"
      }
     },
     "fcd5f2c5d30d4c549d18a792e2d8cc88": {
      "model_module": "@jupyter-widgets/controls",
      "model_module_version": "1.0.0",
      "model_name": "DescriptionStyleModel",
      "state": {
       "description_width": ""
      }
     },
     "fe0584ff3c984544bccb4abced9b62b7": {
      "model_module": "@jupyter-widgets/controls",
      "model_module_version": "1.0.0",
      "model_name": "DescriptionStyleModel",
      "state": {
       "description_width": ""
      }
     },
     "fe6cbb2bcd714d86826b704ad53c08f8": {
      "model_module": "@jupyter-widgets/base",
      "model_module_version": "1.0.0",
      "model_name": "LayoutModel",
      "state": {
       "width": "100%"
      }
     },
     "fe7da7765a4c4ae185f3e697ebbcfbf5": {
      "model_module": "@jupyter-widgets/base",
      "model_module_version": "1.0.0",
      "model_name": "LayoutModel",
      "state": {
       "width": "20%"
      }
     },
     "feb0f195615d430797f4fac66b5ce4d9": {
      "model_module": "@jupyter-widgets/controls",
      "model_module_version": "1.0.0",
      "model_name": "FloatTextModel",
      "state": {
       "description": "Abundance",
       "layout": "IPY_MODEL_fe6cbb2bcd714d86826b704ad53c08f8",
       "step": null,
       "style": "IPY_MODEL_d1e416fa1e444c50bd42dfd806cc9696"
      }
     },
     "ff2aef77ef3b4bf884eb66f8765c2a5a": {
      "model_module": "@jupyter-widgets/controls",
      "model_module_version": "1.0.0",
      "model_name": "LabelModel",
      "state": {
       "layout": "IPY_MODEL_4d4b601237084f26a1135e13bfc50d71",
       "style": "IPY_MODEL_fe0584ff3c984544bccb4abced9b62b7",
       "value": "0 features are selected"
      }
     },
     "ff7e4be563aa4fd5bd18352abe877a46": {
      "model_module": "@jupyter-widgets/base",
      "model_module_version": "1.0.0",
      "model_name": "LayoutModel",
      "state": {}
     },
     "fff4578799f3477882fed30411921169": {
      "model_module": "@jupyter-widgets/controls",
      "model_module_version": "1.0.0",
      "model_name": "DescriptionStyleModel",
      "state": {
       "description_width": ""
      }
     }
    },
    "version_major": 2,
    "version_minor": 0
   }
  }
 },
 "nbformat": 4,
 "nbformat_minor": 2
}
