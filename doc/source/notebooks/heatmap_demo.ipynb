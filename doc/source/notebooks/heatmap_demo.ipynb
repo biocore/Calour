{
 "cells": [
  {
   "cell_type": "markdown",
   "metadata": {},
   "source": [
    "# Calour heatmap options"
   ]
  },
  {
   "cell_type": "code",
   "execution_count": 1,
   "metadata": {},
   "outputs": [
    {
     "name": "stderr",
     "output_type": "stream",
     "text": [
      "/Users/amnon/miniconda3/envs/calour/lib/python3.5/site-packages/h5py/__init__.py:36: FutureWarning: Conversion of the second argument of issubdtype from `float` to `np.floating` is deprecated. In future, it will be treated as `np.float64 == np.dtype(float).type`.\n",
      "  from ._conv import register_converters as _register_converters\n"
     ]
    }
   ],
   "source": [
    "%matplotlib notebook\n",
    "import calour as ca\n",
    "import matplotlib as mpl"
   ]
  },
  {
   "cell_type": "markdown",
   "metadata": {},
   "source": [
    "## Load the data"
   ]
  },
  {
   "cell_type": "code",
   "execution_count": 2,
   "metadata": {
    "collapsed": true
   },
   "outputs": [],
   "source": [
    "a = ca.read_amplicon('data/artificial-simple.biom', \n",
    "                     'data/artificial-simple.map.txt',\n",
    "                     feature_metadata_file='data/artificial-simple.feature_md.txt',\n",
    "                     min_reads=100, normalize=1000)\n"
   ]
  },
  {
   "cell_type": "markdown",
   "metadata": {},
   "source": [
    "## Simple plot (default parameters)"
   ]
  },
  {
   "cell_type": "code",
   "execution_count": 3,
   "metadata": {},
   "outputs": [
    {
     "data": {
      "application/javascript": [
       "/* Put everything inside the global mpl namespace */\n",
       "window.mpl = {};\n",
       "\n",
       "\n",
       "mpl.get_websocket_type = function() {\n",
       "    if (typeof(WebSocket) !== 'undefined') {\n",
       "        return WebSocket;\n",
       "    } else if (typeof(MozWebSocket) !== 'undefined') {\n",
       "        return MozWebSocket;\n",
       "    } else {\n",
       "        alert('Your browser does not have WebSocket support.' +\n",
       "              'Please try Chrome, Safari or Firefox ≥ 6. ' +\n",
       "              'Firefox 4 and 5 are also supported but you ' +\n",
       "              'have to enable WebSockets in about:config.');\n",
       "    };\n",
       "}\n",
       "\n",
       "mpl.figure = function(figure_id, websocket, ondownload, parent_element) {\n",
       "    this.id = figure_id;\n",
       "\n",
       "    this.ws = websocket;\n",
       "\n",
       "    this.supports_binary = (this.ws.binaryType != undefined);\n",
       "\n",
       "    if (!this.supports_binary) {\n",
       "        var warnings = document.getElementById(\"mpl-warnings\");\n",
       "        if (warnings) {\n",
       "            warnings.style.display = 'block';\n",
       "            warnings.textContent = (\n",
       "                \"This browser does not support binary websocket messages. \" +\n",
       "                    \"Performance may be slow.\");\n",
       "        }\n",
       "    }\n",
       "\n",
       "    this.imageObj = new Image();\n",
       "\n",
       "    this.context = undefined;\n",
       "    this.message = undefined;\n",
       "    this.canvas = undefined;\n",
       "    this.rubberband_canvas = undefined;\n",
       "    this.rubberband_context = undefined;\n",
       "    this.format_dropdown = undefined;\n",
       "\n",
       "    this.image_mode = 'full';\n",
       "\n",
       "    this.root = $('<div/>');\n",
       "    this._root_extra_style(this.root)\n",
       "    this.root.attr('style', 'display: inline-block');\n",
       "\n",
       "    $(parent_element).append(this.root);\n",
       "\n",
       "    this._init_header(this);\n",
       "    this._init_canvas(this);\n",
       "    this._init_toolbar(this);\n",
       "\n",
       "    var fig = this;\n",
       "\n",
       "    this.waiting = false;\n",
       "\n",
       "    this.ws.onopen =  function () {\n",
       "            fig.send_message(\"supports_binary\", {value: fig.supports_binary});\n",
       "            fig.send_message(\"send_image_mode\", {});\n",
       "            if (mpl.ratio != 1) {\n",
       "                fig.send_message(\"set_dpi_ratio\", {'dpi_ratio': mpl.ratio});\n",
       "            }\n",
       "            fig.send_message(\"refresh\", {});\n",
       "        }\n",
       "\n",
       "    this.imageObj.onload = function() {\n",
       "            if (fig.image_mode == 'full') {\n",
       "                // Full images could contain transparency (where diff images\n",
       "                // almost always do), so we need to clear the canvas so that\n",
       "                // there is no ghosting.\n",
       "                fig.context.clearRect(0, 0, fig.canvas.width, fig.canvas.height);\n",
       "            }\n",
       "            fig.context.drawImage(fig.imageObj, 0, 0);\n",
       "        };\n",
       "\n",
       "    this.imageObj.onunload = function() {\n",
       "        fig.ws.close();\n",
       "    }\n",
       "\n",
       "    this.ws.onmessage = this._make_on_message_function(this);\n",
       "\n",
       "    this.ondownload = ondownload;\n",
       "}\n",
       "\n",
       "mpl.figure.prototype._init_header = function() {\n",
       "    var titlebar = $(\n",
       "        '<div class=\"ui-dialog-titlebar ui-widget-header ui-corner-all ' +\n",
       "        'ui-helper-clearfix\"/>');\n",
       "    var titletext = $(\n",
       "        '<div class=\"ui-dialog-title\" style=\"width: 100%; ' +\n",
       "        'text-align: center; padding: 3px;\"/>');\n",
       "    titlebar.append(titletext)\n",
       "    this.root.append(titlebar);\n",
       "    this.header = titletext[0];\n",
       "}\n",
       "\n",
       "\n",
       "\n",
       "mpl.figure.prototype._canvas_extra_style = function(canvas_div) {\n",
       "\n",
       "}\n",
       "\n",
       "\n",
       "mpl.figure.prototype._root_extra_style = function(canvas_div) {\n",
       "\n",
       "}\n",
       "\n",
       "mpl.figure.prototype._init_canvas = function() {\n",
       "    var fig = this;\n",
       "\n",
       "    var canvas_div = $('<div/>');\n",
       "\n",
       "    canvas_div.attr('style', 'position: relative; clear: both; outline: 0');\n",
       "\n",
       "    function canvas_keyboard_event(event) {\n",
       "        return fig.key_event(event, event['data']);\n",
       "    }\n",
       "\n",
       "    canvas_div.keydown('key_press', canvas_keyboard_event);\n",
       "    canvas_div.keyup('key_release', canvas_keyboard_event);\n",
       "    this.canvas_div = canvas_div\n",
       "    this._canvas_extra_style(canvas_div)\n",
       "    this.root.append(canvas_div);\n",
       "\n",
       "    var canvas = $('<canvas/>');\n",
       "    canvas.addClass('mpl-canvas');\n",
       "    canvas.attr('style', \"left: 0; top: 0; z-index: 0; outline: 0\")\n",
       "\n",
       "    this.canvas = canvas[0];\n",
       "    this.context = canvas[0].getContext(\"2d\");\n",
       "\n",
       "    var backingStore = this.context.backingStorePixelRatio ||\n",
       "\tthis.context.webkitBackingStorePixelRatio ||\n",
       "\tthis.context.mozBackingStorePixelRatio ||\n",
       "\tthis.context.msBackingStorePixelRatio ||\n",
       "\tthis.context.oBackingStorePixelRatio ||\n",
       "\tthis.context.backingStorePixelRatio || 1;\n",
       "\n",
       "    mpl.ratio = (window.devicePixelRatio || 1) / backingStore;\n",
       "\n",
       "    var rubberband = $('<canvas/>');\n",
       "    rubberband.attr('style', \"position: absolute; left: 0; top: 0; z-index: 1;\")\n",
       "\n",
       "    var pass_mouse_events = true;\n",
       "\n",
       "    canvas_div.resizable({\n",
       "        start: function(event, ui) {\n",
       "            pass_mouse_events = false;\n",
       "        },\n",
       "        resize: function(event, ui) {\n",
       "            fig.request_resize(ui.size.width, ui.size.height);\n",
       "        },\n",
       "        stop: function(event, ui) {\n",
       "            pass_mouse_events = true;\n",
       "            fig.request_resize(ui.size.width, ui.size.height);\n",
       "        },\n",
       "    });\n",
       "\n",
       "    function mouse_event_fn(event) {\n",
       "        if (pass_mouse_events)\n",
       "            return fig.mouse_event(event, event['data']);\n",
       "    }\n",
       "\n",
       "    rubberband.mousedown('button_press', mouse_event_fn);\n",
       "    rubberband.mouseup('button_release', mouse_event_fn);\n",
       "    // Throttle sequential mouse events to 1 every 20ms.\n",
       "    rubberband.mousemove('motion_notify', mouse_event_fn);\n",
       "\n",
       "    rubberband.mouseenter('figure_enter', mouse_event_fn);\n",
       "    rubberband.mouseleave('figure_leave', mouse_event_fn);\n",
       "\n",
       "    canvas_div.on(\"wheel\", function (event) {\n",
       "        event = event.originalEvent;\n",
       "        event['data'] = 'scroll'\n",
       "        if (event.deltaY < 0) {\n",
       "            event.step = 1;\n",
       "        } else {\n",
       "            event.step = -1;\n",
       "        }\n",
       "        mouse_event_fn(event);\n",
       "    });\n",
       "\n",
       "    canvas_div.append(canvas);\n",
       "    canvas_div.append(rubberband);\n",
       "\n",
       "    this.rubberband = rubberband;\n",
       "    this.rubberband_canvas = rubberband[0];\n",
       "    this.rubberband_context = rubberband[0].getContext(\"2d\");\n",
       "    this.rubberband_context.strokeStyle = \"#000000\";\n",
       "\n",
       "    this._resize_canvas = function(width, height) {\n",
       "        // Keep the size of the canvas, canvas container, and rubber band\n",
       "        // canvas in synch.\n",
       "        canvas_div.css('width', width)\n",
       "        canvas_div.css('height', height)\n",
       "\n",
       "        canvas.attr('width', width * mpl.ratio);\n",
       "        canvas.attr('height', height * mpl.ratio);\n",
       "        canvas.attr('style', 'width: ' + width + 'px; height: ' + height + 'px;');\n",
       "\n",
       "        rubberband.attr('width', width);\n",
       "        rubberband.attr('height', height);\n",
       "    }\n",
       "\n",
       "    // Set the figure to an initial 600x600px, this will subsequently be updated\n",
       "    // upon first draw.\n",
       "    this._resize_canvas(600, 600);\n",
       "\n",
       "    // Disable right mouse context menu.\n",
       "    $(this.rubberband_canvas).bind(\"contextmenu\",function(e){\n",
       "        return false;\n",
       "    });\n",
       "\n",
       "    function set_focus () {\n",
       "        canvas.focus();\n",
       "        canvas_div.focus();\n",
       "    }\n",
       "\n",
       "    window.setTimeout(set_focus, 100);\n",
       "}\n",
       "\n",
       "mpl.figure.prototype._init_toolbar = function() {\n",
       "    var fig = this;\n",
       "\n",
       "    var nav_element = $('<div/>')\n",
       "    nav_element.attr('style', 'width: 100%');\n",
       "    this.root.append(nav_element);\n",
       "\n",
       "    // Define a callback function for later on.\n",
       "    function toolbar_event(event) {\n",
       "        return fig.toolbar_button_onclick(event['data']);\n",
       "    }\n",
       "    function toolbar_mouse_event(event) {\n",
       "        return fig.toolbar_button_onmouseover(event['data']);\n",
       "    }\n",
       "\n",
       "    for(var toolbar_ind in mpl.toolbar_items) {\n",
       "        var name = mpl.toolbar_items[toolbar_ind][0];\n",
       "        var tooltip = mpl.toolbar_items[toolbar_ind][1];\n",
       "        var image = mpl.toolbar_items[toolbar_ind][2];\n",
       "        var method_name = mpl.toolbar_items[toolbar_ind][3];\n",
       "\n",
       "        if (!name) {\n",
       "            // put a spacer in here.\n",
       "            continue;\n",
       "        }\n",
       "        var button = $('<button/>');\n",
       "        button.addClass('ui-button ui-widget ui-state-default ui-corner-all ' +\n",
       "                        'ui-button-icon-only');\n",
       "        button.attr('role', 'button');\n",
       "        button.attr('aria-disabled', 'false');\n",
       "        button.click(method_name, toolbar_event);\n",
       "        button.mouseover(tooltip, toolbar_mouse_event);\n",
       "\n",
       "        var icon_img = $('<span/>');\n",
       "        icon_img.addClass('ui-button-icon-primary ui-icon');\n",
       "        icon_img.addClass(image);\n",
       "        icon_img.addClass('ui-corner-all');\n",
       "\n",
       "        var tooltip_span = $('<span/>');\n",
       "        tooltip_span.addClass('ui-button-text');\n",
       "        tooltip_span.html(tooltip);\n",
       "\n",
       "        button.append(icon_img);\n",
       "        button.append(tooltip_span);\n",
       "\n",
       "        nav_element.append(button);\n",
       "    }\n",
       "\n",
       "    var fmt_picker_span = $('<span/>');\n",
       "\n",
       "    var fmt_picker = $('<select/>');\n",
       "    fmt_picker.addClass('mpl-toolbar-option ui-widget ui-widget-content');\n",
       "    fmt_picker_span.append(fmt_picker);\n",
       "    nav_element.append(fmt_picker_span);\n",
       "    this.format_dropdown = fmt_picker[0];\n",
       "\n",
       "    for (var ind in mpl.extensions) {\n",
       "        var fmt = mpl.extensions[ind];\n",
       "        var option = $(\n",
       "            '<option/>', {selected: fmt === mpl.default_extension}).html(fmt);\n",
       "        fmt_picker.append(option)\n",
       "    }\n",
       "\n",
       "    // Add hover states to the ui-buttons\n",
       "    $( \".ui-button\" ).hover(\n",
       "        function() { $(this).addClass(\"ui-state-hover\");},\n",
       "        function() { $(this).removeClass(\"ui-state-hover\");}\n",
       "    );\n",
       "\n",
       "    var status_bar = $('<span class=\"mpl-message\"/>');\n",
       "    nav_element.append(status_bar);\n",
       "    this.message = status_bar[0];\n",
       "}\n",
       "\n",
       "mpl.figure.prototype.request_resize = function(x_pixels, y_pixels) {\n",
       "    // Request matplotlib to resize the figure. Matplotlib will then trigger a resize in the client,\n",
       "    // which will in turn request a refresh of the image.\n",
       "    this.send_message('resize', {'width': x_pixels, 'height': y_pixels});\n",
       "}\n",
       "\n",
       "mpl.figure.prototype.send_message = function(type, properties) {\n",
       "    properties['type'] = type;\n",
       "    properties['figure_id'] = this.id;\n",
       "    this.ws.send(JSON.stringify(properties));\n",
       "}\n",
       "\n",
       "mpl.figure.prototype.send_draw_message = function() {\n",
       "    if (!this.waiting) {\n",
       "        this.waiting = true;\n",
       "        this.ws.send(JSON.stringify({type: \"draw\", figure_id: this.id}));\n",
       "    }\n",
       "}\n",
       "\n",
       "\n",
       "mpl.figure.prototype.handle_save = function(fig, msg) {\n",
       "    var format_dropdown = fig.format_dropdown;\n",
       "    var format = format_dropdown.options[format_dropdown.selectedIndex].value;\n",
       "    fig.ondownload(fig, format);\n",
       "}\n",
       "\n",
       "\n",
       "mpl.figure.prototype.handle_resize = function(fig, msg) {\n",
       "    var size = msg['size'];\n",
       "    if (size[0] != fig.canvas.width || size[1] != fig.canvas.height) {\n",
       "        fig._resize_canvas(size[0], size[1]);\n",
       "        fig.send_message(\"refresh\", {});\n",
       "    };\n",
       "}\n",
       "\n",
       "mpl.figure.prototype.handle_rubberband = function(fig, msg) {\n",
       "    var x0 = msg['x0'] / mpl.ratio;\n",
       "    var y0 = (fig.canvas.height - msg['y0']) / mpl.ratio;\n",
       "    var x1 = msg['x1'] / mpl.ratio;\n",
       "    var y1 = (fig.canvas.height - msg['y1']) / mpl.ratio;\n",
       "    x0 = Math.floor(x0) + 0.5;\n",
       "    y0 = Math.floor(y0) + 0.5;\n",
       "    x1 = Math.floor(x1) + 0.5;\n",
       "    y1 = Math.floor(y1) + 0.5;\n",
       "    var min_x = Math.min(x0, x1);\n",
       "    var min_y = Math.min(y0, y1);\n",
       "    var width = Math.abs(x1 - x0);\n",
       "    var height = Math.abs(y1 - y0);\n",
       "\n",
       "    fig.rubberband_context.clearRect(\n",
       "        0, 0, fig.canvas.width, fig.canvas.height);\n",
       "\n",
       "    fig.rubberband_context.strokeRect(min_x, min_y, width, height);\n",
       "}\n",
       "\n",
       "mpl.figure.prototype.handle_figure_label = function(fig, msg) {\n",
       "    // Updates the figure title.\n",
       "    fig.header.textContent = msg['label'];\n",
       "}\n",
       "\n",
       "mpl.figure.prototype.handle_cursor = function(fig, msg) {\n",
       "    var cursor = msg['cursor'];\n",
       "    switch(cursor)\n",
       "    {\n",
       "    case 0:\n",
       "        cursor = 'pointer';\n",
       "        break;\n",
       "    case 1:\n",
       "        cursor = 'default';\n",
       "        break;\n",
       "    case 2:\n",
       "        cursor = 'crosshair';\n",
       "        break;\n",
       "    case 3:\n",
       "        cursor = 'move';\n",
       "        break;\n",
       "    }\n",
       "    fig.rubberband_canvas.style.cursor = cursor;\n",
       "}\n",
       "\n",
       "mpl.figure.prototype.handle_message = function(fig, msg) {\n",
       "    fig.message.textContent = msg['message'];\n",
       "}\n",
       "\n",
       "mpl.figure.prototype.handle_draw = function(fig, msg) {\n",
       "    // Request the server to send over a new figure.\n",
       "    fig.send_draw_message();\n",
       "}\n",
       "\n",
       "mpl.figure.prototype.handle_image_mode = function(fig, msg) {\n",
       "    fig.image_mode = msg['mode'];\n",
       "}\n",
       "\n",
       "mpl.figure.prototype.updated_canvas_event = function() {\n",
       "    // Called whenever the canvas gets updated.\n",
       "    this.send_message(\"ack\", {});\n",
       "}\n",
       "\n",
       "// A function to construct a web socket function for onmessage handling.\n",
       "// Called in the figure constructor.\n",
       "mpl.figure.prototype._make_on_message_function = function(fig) {\n",
       "    return function socket_on_message(evt) {\n",
       "        if (evt.data instanceof Blob) {\n",
       "            /* FIXME: We get \"Resource interpreted as Image but\n",
       "             * transferred with MIME type text/plain:\" errors on\n",
       "             * Chrome.  But how to set the MIME type?  It doesn't seem\n",
       "             * to be part of the websocket stream */\n",
       "            evt.data.type = \"image/png\";\n",
       "\n",
       "            /* Free the memory for the previous frames */\n",
       "            if (fig.imageObj.src) {\n",
       "                (window.URL || window.webkitURL).revokeObjectURL(\n",
       "                    fig.imageObj.src);\n",
       "            }\n",
       "\n",
       "            fig.imageObj.src = (window.URL || window.webkitURL).createObjectURL(\n",
       "                evt.data);\n",
       "            fig.updated_canvas_event();\n",
       "            fig.waiting = false;\n",
       "            return;\n",
       "        }\n",
       "        else if (typeof evt.data === 'string' && evt.data.slice(0, 21) == \"data:image/png;base64\") {\n",
       "            fig.imageObj.src = evt.data;\n",
       "            fig.updated_canvas_event();\n",
       "            fig.waiting = false;\n",
       "            return;\n",
       "        }\n",
       "\n",
       "        var msg = JSON.parse(evt.data);\n",
       "        var msg_type = msg['type'];\n",
       "\n",
       "        // Call the  \"handle_{type}\" callback, which takes\n",
       "        // the figure and JSON message as its only arguments.\n",
       "        try {\n",
       "            var callback = fig[\"handle_\" + msg_type];\n",
       "        } catch (e) {\n",
       "            console.log(\"No handler for the '\" + msg_type + \"' message type: \", msg);\n",
       "            return;\n",
       "        }\n",
       "\n",
       "        if (callback) {\n",
       "            try {\n",
       "                // console.log(\"Handling '\" + msg_type + \"' message: \", msg);\n",
       "                callback(fig, msg);\n",
       "            } catch (e) {\n",
       "                console.log(\"Exception inside the 'handler_\" + msg_type + \"' callback:\", e, e.stack, msg);\n",
       "            }\n",
       "        }\n",
       "    };\n",
       "}\n",
       "\n",
       "// from http://stackoverflow.com/questions/1114465/getting-mouse-location-in-canvas\n",
       "mpl.findpos = function(e) {\n",
       "    //this section is from http://www.quirksmode.org/js/events_properties.html\n",
       "    var targ;\n",
       "    if (!e)\n",
       "        e = window.event;\n",
       "    if (e.target)\n",
       "        targ = e.target;\n",
       "    else if (e.srcElement)\n",
       "        targ = e.srcElement;\n",
       "    if (targ.nodeType == 3) // defeat Safari bug\n",
       "        targ = targ.parentNode;\n",
       "\n",
       "    // jQuery normalizes the pageX and pageY\n",
       "    // pageX,Y are the mouse positions relative to the document\n",
       "    // offset() returns the position of the element relative to the document\n",
       "    var x = e.pageX - $(targ).offset().left;\n",
       "    var y = e.pageY - $(targ).offset().top;\n",
       "\n",
       "    return {\"x\": x, \"y\": y};\n",
       "};\n",
       "\n",
       "/*\n",
       " * return a copy of an object with only non-object keys\n",
       " * we need this to avoid circular references\n",
       " * http://stackoverflow.com/a/24161582/3208463\n",
       " */\n",
       "function simpleKeys (original) {\n",
       "  return Object.keys(original).reduce(function (obj, key) {\n",
       "    if (typeof original[key] !== 'object')\n",
       "        obj[key] = original[key]\n",
       "    return obj;\n",
       "  }, {});\n",
       "}\n",
       "\n",
       "mpl.figure.prototype.mouse_event = function(event, name) {\n",
       "    var canvas_pos = mpl.findpos(event)\n",
       "\n",
       "    if (name === 'button_press')\n",
       "    {\n",
       "        this.canvas.focus();\n",
       "        this.canvas_div.focus();\n",
       "    }\n",
       "\n",
       "    var x = canvas_pos.x * mpl.ratio;\n",
       "    var y = canvas_pos.y * mpl.ratio;\n",
       "\n",
       "    this.send_message(name, {x: x, y: y, button: event.button,\n",
       "                             step: event.step,\n",
       "                             guiEvent: simpleKeys(event)});\n",
       "\n",
       "    /* This prevents the web browser from automatically changing to\n",
       "     * the text insertion cursor when the button is pressed.  We want\n",
       "     * to control all of the cursor setting manually through the\n",
       "     * 'cursor' event from matplotlib */\n",
       "    event.preventDefault();\n",
       "    return false;\n",
       "}\n",
       "\n",
       "mpl.figure.prototype._key_event_extra = function(event, name) {\n",
       "    // Handle any extra behaviour associated with a key event\n",
       "}\n",
       "\n",
       "mpl.figure.prototype.key_event = function(event, name) {\n",
       "\n",
       "    // Prevent repeat events\n",
       "    if (name == 'key_press')\n",
       "    {\n",
       "        if (event.which === this._key)\n",
       "            return;\n",
       "        else\n",
       "            this._key = event.which;\n",
       "    }\n",
       "    if (name == 'key_release')\n",
       "        this._key = null;\n",
       "\n",
       "    var value = '';\n",
       "    if (event.ctrlKey && event.which != 17)\n",
       "        value += \"ctrl+\";\n",
       "    if (event.altKey && event.which != 18)\n",
       "        value += \"alt+\";\n",
       "    if (event.shiftKey && event.which != 16)\n",
       "        value += \"shift+\";\n",
       "\n",
       "    value += 'k';\n",
       "    value += event.which.toString();\n",
       "\n",
       "    this._key_event_extra(event, name);\n",
       "\n",
       "    this.send_message(name, {key: value,\n",
       "                             guiEvent: simpleKeys(event)});\n",
       "    return false;\n",
       "}\n",
       "\n",
       "mpl.figure.prototype.toolbar_button_onclick = function(name) {\n",
       "    if (name == 'download') {\n",
       "        this.handle_save(this, null);\n",
       "    } else {\n",
       "        this.send_message(\"toolbar_button\", {name: name});\n",
       "    }\n",
       "};\n",
       "\n",
       "mpl.figure.prototype.toolbar_button_onmouseover = function(tooltip) {\n",
       "    this.message.textContent = tooltip;\n",
       "};\n",
       "mpl.toolbar_items = [[\"Home\", \"Reset original view\", \"fa fa-home icon-home\", \"home\"], [\"Back\", \"Back to  previous view\", \"fa fa-arrow-left icon-arrow-left\", \"back\"], [\"Forward\", \"Forward to next view\", \"fa fa-arrow-right icon-arrow-right\", \"forward\"], [\"\", \"\", \"\", \"\"], [\"Pan\", \"Pan axes with left mouse, zoom with right\", \"fa fa-arrows icon-move\", \"pan\"], [\"Zoom\", \"Zoom to rectangle\", \"fa fa-square-o icon-check-empty\", \"zoom\"], [\"\", \"\", \"\", \"\"], [\"Download\", \"Download plot\", \"fa fa-floppy-o icon-save\", \"download\"]];\n",
       "\n",
       "mpl.extensions = [\"eps\", \"jpeg\", \"pdf\", \"png\", \"ps\", \"raw\", \"svg\", \"tif\"];\n",
       "\n",
       "mpl.default_extension = \"png\";var comm_websocket_adapter = function(comm) {\n",
       "    // Create a \"websocket\"-like object which calls the given IPython comm\n",
       "    // object with the appropriate methods. Currently this is a non binary\n",
       "    // socket, so there is still some room for performance tuning.\n",
       "    var ws = {};\n",
       "\n",
       "    ws.close = function() {\n",
       "        comm.close()\n",
       "    };\n",
       "    ws.send = function(m) {\n",
       "        //console.log('sending', m);\n",
       "        comm.send(m);\n",
       "    };\n",
       "    // Register the callback with on_msg.\n",
       "    comm.on_msg(function(msg) {\n",
       "        //console.log('receiving', msg['content']['data'], msg);\n",
       "        // Pass the mpl event to the overriden (by mpl) onmessage function.\n",
       "        ws.onmessage(msg['content']['data'])\n",
       "    });\n",
       "    return ws;\n",
       "}\n",
       "\n",
       "mpl.mpl_figure_comm = function(comm, msg) {\n",
       "    // This is the function which gets called when the mpl process\n",
       "    // starts-up an IPython Comm through the \"matplotlib\" channel.\n",
       "\n",
       "    var id = msg.content.data.id;\n",
       "    // Get hold of the div created by the display call when the Comm\n",
       "    // socket was opened in Python.\n",
       "    var element = $(\"#\" + id);\n",
       "    var ws_proxy = comm_websocket_adapter(comm)\n",
       "\n",
       "    function ondownload(figure, format) {\n",
       "        window.open(figure.imageObj.src);\n",
       "    }\n",
       "\n",
       "    var fig = new mpl.figure(id, ws_proxy,\n",
       "                           ondownload,\n",
       "                           element.get(0));\n",
       "\n",
       "    // Call onopen now - mpl needs it, as it is assuming we've passed it a real\n",
       "    // web socket which is closed, not our websocket->open comm proxy.\n",
       "    ws_proxy.onopen();\n",
       "\n",
       "    fig.parent_element = element.get(0);\n",
       "    fig.cell_info = mpl.find_output_cell(\"<div id='\" + id + \"'></div>\");\n",
       "    if (!fig.cell_info) {\n",
       "        console.error(\"Failed to find cell for figure\", id, fig);\n",
       "        return;\n",
       "    }\n",
       "\n",
       "    var output_index = fig.cell_info[2]\n",
       "    var cell = fig.cell_info[0];\n",
       "\n",
       "};\n",
       "\n",
       "mpl.figure.prototype.handle_close = function(fig, msg) {\n",
       "    var width = fig.canvas.width/mpl.ratio\n",
       "    fig.root.unbind('remove')\n",
       "\n",
       "    // Update the output cell to use the data from the current canvas.\n",
       "    fig.push_to_output();\n",
       "    var dataURL = fig.canvas.toDataURL();\n",
       "    // Re-enable the keyboard manager in IPython - without this line, in FF,\n",
       "    // the notebook keyboard shortcuts fail.\n",
       "    IPython.keyboard_manager.enable()\n",
       "    $(fig.parent_element).html('<img src=\"' + dataURL + '\" width=\"' + width + '\">');\n",
       "    fig.close_ws(fig, msg);\n",
       "}\n",
       "\n",
       "mpl.figure.prototype.close_ws = function(fig, msg){\n",
       "    fig.send_message('closing', msg);\n",
       "    // fig.ws.close()\n",
       "}\n",
       "\n",
       "mpl.figure.prototype.push_to_output = function(remove_interactive) {\n",
       "    // Turn the data on the canvas into data in the output cell.\n",
       "    var width = this.canvas.width/mpl.ratio\n",
       "    var dataURL = this.canvas.toDataURL();\n",
       "    this.cell_info[1]['text/html'] = '<img src=\"' + dataURL + '\" width=\"' + width + '\">';\n",
       "}\n",
       "\n",
       "mpl.figure.prototype.updated_canvas_event = function() {\n",
       "    // Tell IPython that the notebook contents must change.\n",
       "    IPython.notebook.set_dirty(true);\n",
       "    this.send_message(\"ack\", {});\n",
       "    var fig = this;\n",
       "    // Wait a second, then push the new image to the DOM so\n",
       "    // that it is saved nicely (might be nice to debounce this).\n",
       "    setTimeout(function () { fig.push_to_output() }, 1000);\n",
       "}\n",
       "\n",
       "mpl.figure.prototype._init_toolbar = function() {\n",
       "    var fig = this;\n",
       "\n",
       "    var nav_element = $('<div/>')\n",
       "    nav_element.attr('style', 'width: 100%');\n",
       "    this.root.append(nav_element);\n",
       "\n",
       "    // Define a callback function for later on.\n",
       "    function toolbar_event(event) {\n",
       "        return fig.toolbar_button_onclick(event['data']);\n",
       "    }\n",
       "    function toolbar_mouse_event(event) {\n",
       "        return fig.toolbar_button_onmouseover(event['data']);\n",
       "    }\n",
       "\n",
       "    for(var toolbar_ind in mpl.toolbar_items){\n",
       "        var name = mpl.toolbar_items[toolbar_ind][0];\n",
       "        var tooltip = mpl.toolbar_items[toolbar_ind][1];\n",
       "        var image = mpl.toolbar_items[toolbar_ind][2];\n",
       "        var method_name = mpl.toolbar_items[toolbar_ind][3];\n",
       "\n",
       "        if (!name) { continue; };\n",
       "\n",
       "        var button = $('<button class=\"btn btn-default\" href=\"#\" title=\"' + name + '\"><i class=\"fa ' + image + ' fa-lg\"></i></button>');\n",
       "        button.click(method_name, toolbar_event);\n",
       "        button.mouseover(tooltip, toolbar_mouse_event);\n",
       "        nav_element.append(button);\n",
       "    }\n",
       "\n",
       "    // Add the status bar.\n",
       "    var status_bar = $('<span class=\"mpl-message\" style=\"text-align:right; float: right;\"/>');\n",
       "    nav_element.append(status_bar);\n",
       "    this.message = status_bar[0];\n",
       "\n",
       "    // Add the close button to the window.\n",
       "    var buttongrp = $('<div class=\"btn-group inline pull-right\"></div>');\n",
       "    var button = $('<button class=\"btn btn-mini btn-primary\" href=\"#\" title=\"Stop Interaction\"><i class=\"fa fa-power-off icon-remove icon-large\"></i></button>');\n",
       "    button.click(function (evt) { fig.handle_close(fig, {}); } );\n",
       "    button.mouseover('Stop Interaction', toolbar_mouse_event);\n",
       "    buttongrp.append(button);\n",
       "    var titlebar = this.root.find($('.ui-dialog-titlebar'));\n",
       "    titlebar.prepend(buttongrp);\n",
       "}\n",
       "\n",
       "mpl.figure.prototype._root_extra_style = function(el){\n",
       "    var fig = this\n",
       "    el.on(\"remove\", function(){\n",
       "\tfig.close_ws(fig, {});\n",
       "    });\n",
       "}\n",
       "\n",
       "mpl.figure.prototype._canvas_extra_style = function(el){\n",
       "    // this is important to make the div 'focusable\n",
       "    el.attr('tabindex', 0)\n",
       "    // reach out to IPython and tell the keyboard manager to turn it's self\n",
       "    // off when our div gets focus\n",
       "\n",
       "    // location in version 3\n",
       "    if (IPython.notebook.keyboard_manager) {\n",
       "        IPython.notebook.keyboard_manager.register_events(el);\n",
       "    }\n",
       "    else {\n",
       "        // location in version 2\n",
       "        IPython.keyboard_manager.register_events(el);\n",
       "    }\n",
       "\n",
       "}\n",
       "\n",
       "mpl.figure.prototype._key_event_extra = function(event, name) {\n",
       "    var manager = IPython.notebook.keyboard_manager;\n",
       "    if (!manager)\n",
       "        manager = IPython.keyboard_manager;\n",
       "\n",
       "    // Check for shift+enter\n",
       "    if (event.shiftKey && event.which == 13) {\n",
       "        this.canvas_div.blur();\n",
       "        event.shiftKey = false;\n",
       "        // Send a \"J\" for go to next cell\n",
       "        event.which = 74;\n",
       "        event.keyCode = 74;\n",
       "        manager.command_mode();\n",
       "        manager.handle_keydown(event);\n",
       "    }\n",
       "}\n",
       "\n",
       "mpl.figure.prototype.handle_save = function(fig, msg) {\n",
       "    fig.ondownload(fig, null);\n",
       "}\n",
       "\n",
       "\n",
       "mpl.find_output_cell = function(html_output) {\n",
       "    // Return the cell and output element which can be found *uniquely* in the notebook.\n",
       "    // Note - this is a bit hacky, but it is done because the \"notebook_saving.Notebook\"\n",
       "    // IPython event is triggered only after the cells have been serialised, which for\n",
       "    // our purposes (turning an active figure into a static one), is too late.\n",
       "    var cells = IPython.notebook.get_cells();\n",
       "    var ncells = cells.length;\n",
       "    for (var i=0; i<ncells; i++) {\n",
       "        var cell = cells[i];\n",
       "        if (cell.cell_type === 'code'){\n",
       "            for (var j=0; j<cell.output_area.outputs.length; j++) {\n",
       "                var data = cell.output_area.outputs[j];\n",
       "                if (data.data) {\n",
       "                    // IPython >= 3 moved mimebundle to data attribute of output\n",
       "                    data = data.data;\n",
       "                }\n",
       "                if (data['text/html'] == html_output) {\n",
       "                    return [cell, data, j];\n",
       "                }\n",
       "            }\n",
       "        }\n",
       "    }\n",
       "}\n",
       "\n",
       "// Register the function which deals with the matplotlib target/channel.\n",
       "// The kernel may be null if the page has been refreshed.\n",
       "if (IPython.notebook.kernel != null) {\n",
       "    IPython.notebook.kernel.comm_manager.register_target('matplotlib', mpl.mpl_figure_comm);\n",
       "}\n"
      ],
      "text/plain": [
       "<IPython.core.display.Javascript object>"
      ]
     },
     "metadata": {},
     "output_type": "display_data"
    },
    {
     "data": {
      "text/html": [
       "<img src=\"data:image/png;base64,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\" width=\"639.7499809339648\">"
      ],
      "text/plain": [
       "<IPython.core.display.HTML object>"
      ]
     },
     "metadata": {},
     "output_type": "display_data"
    },
    {
     "data": {
      "application/vnd.jupyter.widget-view+json": {
       "model_id": "9473ce4464cc44b29d52dda0104ce5e5"
      }
     },
     "metadata": {},
     "output_type": "display_data"
    },
    {
     "data": {
      "application/vnd.jupyter.widget-view+json": {
       "model_id": "17ae98a1c7c644c48598af8e0fd313fd"
      }
     },
     "metadata": {},
     "output_type": "display_data"
    },
    {
     "data": {
      "application/vnd.jupyter.widget-view+json": {
       "model_id": "5a35c22a20b4485abae1bc5e8812fa0c"
      }
     },
     "metadata": {},
     "output_type": "display_data"
    },
    {
     "data": {
      "application/vnd.jupyter.widget-view+json": {
       "model_id": "de4aa27132334309b446ae21dd806567"
      }
     },
     "metadata": {},
     "output_type": "display_data"
    },
    {
     "data": {
      "application/vnd.jupyter.widget-view+json": {
       "model_id": "9b072b54ee67476a9756f8cf80cacd92"
      }
     },
     "metadata": {},
     "output_type": "display_data"
    },
    {
     "data": {
      "application/vnd.jupyter.widget-view+json": {
       "model_id": "a29dedb8859a49348ffd87b5aa95c2a9"
      }
     },
     "metadata": {},
     "output_type": "display_data"
    }
   ],
   "source": [
    "b = a.plot(sample_field='group',\n",
    "           gui='jupyter')"
   ]
  },
  {
   "cell_type": "markdown",
   "metadata": {},
   "source": [
    "## Adding barx and bary labels\n",
    "Also add plot title, change colormap"
   ]
  },
  {
   "cell_type": "code",
   "execution_count": 4,
   "metadata": {
    "scrolled": false
   },
   "outputs": [
    {
     "data": {
      "application/javascript": [
       "/* Put everything inside the global mpl namespace */\n",
       "window.mpl = {};\n",
       "\n",
       "\n",
       "mpl.get_websocket_type = function() {\n",
       "    if (typeof(WebSocket) !== 'undefined') {\n",
       "        return WebSocket;\n",
       "    } else if (typeof(MozWebSocket) !== 'undefined') {\n",
       "        return MozWebSocket;\n",
       "    } else {\n",
       "        alert('Your browser does not have WebSocket support.' +\n",
       "              'Please try Chrome, Safari or Firefox ≥ 6. ' +\n",
       "              'Firefox 4 and 5 are also supported but you ' +\n",
       "              'have to enable WebSockets in about:config.');\n",
       "    };\n",
       "}\n",
       "\n",
       "mpl.figure = function(figure_id, websocket, ondownload, parent_element) {\n",
       "    this.id = figure_id;\n",
       "\n",
       "    this.ws = websocket;\n",
       "\n",
       "    this.supports_binary = (this.ws.binaryType != undefined);\n",
       "\n",
       "    if (!this.supports_binary) {\n",
       "        var warnings = document.getElementById(\"mpl-warnings\");\n",
       "        if (warnings) {\n",
       "            warnings.style.display = 'block';\n",
       "            warnings.textContent = (\n",
       "                \"This browser does not support binary websocket messages. \" +\n",
       "                    \"Performance may be slow.\");\n",
       "        }\n",
       "    }\n",
       "\n",
       "    this.imageObj = new Image();\n",
       "\n",
       "    this.context = undefined;\n",
       "    this.message = undefined;\n",
       "    this.canvas = undefined;\n",
       "    this.rubberband_canvas = undefined;\n",
       "    this.rubberband_context = undefined;\n",
       "    this.format_dropdown = undefined;\n",
       "\n",
       "    this.image_mode = 'full';\n",
       "\n",
       "    this.root = $('<div/>');\n",
       "    this._root_extra_style(this.root)\n",
       "    this.root.attr('style', 'display: inline-block');\n",
       "\n",
       "    $(parent_element).append(this.root);\n",
       "\n",
       "    this._init_header(this);\n",
       "    this._init_canvas(this);\n",
       "    this._init_toolbar(this);\n",
       "\n",
       "    var fig = this;\n",
       "\n",
       "    this.waiting = false;\n",
       "\n",
       "    this.ws.onopen =  function () {\n",
       "            fig.send_message(\"supports_binary\", {value: fig.supports_binary});\n",
       "            fig.send_message(\"send_image_mode\", {});\n",
       "            if (mpl.ratio != 1) {\n",
       "                fig.send_message(\"set_dpi_ratio\", {'dpi_ratio': mpl.ratio});\n",
       "            }\n",
       "            fig.send_message(\"refresh\", {});\n",
       "        }\n",
       "\n",
       "    this.imageObj.onload = function() {\n",
       "            if (fig.image_mode == 'full') {\n",
       "                // Full images could contain transparency (where diff images\n",
       "                // almost always do), so we need to clear the canvas so that\n",
       "                // there is no ghosting.\n",
       "                fig.context.clearRect(0, 0, fig.canvas.width, fig.canvas.height);\n",
       "            }\n",
       "            fig.context.drawImage(fig.imageObj, 0, 0);\n",
       "        };\n",
       "\n",
       "    this.imageObj.onunload = function() {\n",
       "        fig.ws.close();\n",
       "    }\n",
       "\n",
       "    this.ws.onmessage = this._make_on_message_function(this);\n",
       "\n",
       "    this.ondownload = ondownload;\n",
       "}\n",
       "\n",
       "mpl.figure.prototype._init_header = function() {\n",
       "    var titlebar = $(\n",
       "        '<div class=\"ui-dialog-titlebar ui-widget-header ui-corner-all ' +\n",
       "        'ui-helper-clearfix\"/>');\n",
       "    var titletext = $(\n",
       "        '<div class=\"ui-dialog-title\" style=\"width: 100%; ' +\n",
       "        'text-align: center; padding: 3px;\"/>');\n",
       "    titlebar.append(titletext)\n",
       "    this.root.append(titlebar);\n",
       "    this.header = titletext[0];\n",
       "}\n",
       "\n",
       "\n",
       "\n",
       "mpl.figure.prototype._canvas_extra_style = function(canvas_div) {\n",
       "\n",
       "}\n",
       "\n",
       "\n",
       "mpl.figure.prototype._root_extra_style = function(canvas_div) {\n",
       "\n",
       "}\n",
       "\n",
       "mpl.figure.prototype._init_canvas = function() {\n",
       "    var fig = this;\n",
       "\n",
       "    var canvas_div = $('<div/>');\n",
       "\n",
       "    canvas_div.attr('style', 'position: relative; clear: both; outline: 0');\n",
       "\n",
       "    function canvas_keyboard_event(event) {\n",
       "        return fig.key_event(event, event['data']);\n",
       "    }\n",
       "\n",
       "    canvas_div.keydown('key_press', canvas_keyboard_event);\n",
       "    canvas_div.keyup('key_release', canvas_keyboard_event);\n",
       "    this.canvas_div = canvas_div\n",
       "    this._canvas_extra_style(canvas_div)\n",
       "    this.root.append(canvas_div);\n",
       "\n",
       "    var canvas = $('<canvas/>');\n",
       "    canvas.addClass('mpl-canvas');\n",
       "    canvas.attr('style', \"left: 0; top: 0; z-index: 0; outline: 0\")\n",
       "\n",
       "    this.canvas = canvas[0];\n",
       "    this.context = canvas[0].getContext(\"2d\");\n",
       "\n",
       "    var backingStore = this.context.backingStorePixelRatio ||\n",
       "\tthis.context.webkitBackingStorePixelRatio ||\n",
       "\tthis.context.mozBackingStorePixelRatio ||\n",
       "\tthis.context.msBackingStorePixelRatio ||\n",
       "\tthis.context.oBackingStorePixelRatio ||\n",
       "\tthis.context.backingStorePixelRatio || 1;\n",
       "\n",
       "    mpl.ratio = (window.devicePixelRatio || 1) / backingStore;\n",
       "\n",
       "    var rubberband = $('<canvas/>');\n",
       "    rubberband.attr('style', \"position: absolute; left: 0; top: 0; z-index: 1;\")\n",
       "\n",
       "    var pass_mouse_events = true;\n",
       "\n",
       "    canvas_div.resizable({\n",
       "        start: function(event, ui) {\n",
       "            pass_mouse_events = false;\n",
       "        },\n",
       "        resize: function(event, ui) {\n",
       "            fig.request_resize(ui.size.width, ui.size.height);\n",
       "        },\n",
       "        stop: function(event, ui) {\n",
       "            pass_mouse_events = true;\n",
       "            fig.request_resize(ui.size.width, ui.size.height);\n",
       "        },\n",
       "    });\n",
       "\n",
       "    function mouse_event_fn(event) {\n",
       "        if (pass_mouse_events)\n",
       "            return fig.mouse_event(event, event['data']);\n",
       "    }\n",
       "\n",
       "    rubberband.mousedown('button_press', mouse_event_fn);\n",
       "    rubberband.mouseup('button_release', mouse_event_fn);\n",
       "    // Throttle sequential mouse events to 1 every 20ms.\n",
       "    rubberband.mousemove('motion_notify', mouse_event_fn);\n",
       "\n",
       "    rubberband.mouseenter('figure_enter', mouse_event_fn);\n",
       "    rubberband.mouseleave('figure_leave', mouse_event_fn);\n",
       "\n",
       "    canvas_div.on(\"wheel\", function (event) {\n",
       "        event = event.originalEvent;\n",
       "        event['data'] = 'scroll'\n",
       "        if (event.deltaY < 0) {\n",
       "            event.step = 1;\n",
       "        } else {\n",
       "            event.step = -1;\n",
       "        }\n",
       "        mouse_event_fn(event);\n",
       "    });\n",
       "\n",
       "    canvas_div.append(canvas);\n",
       "    canvas_div.append(rubberband);\n",
       "\n",
       "    this.rubberband = rubberband;\n",
       "    this.rubberband_canvas = rubberband[0];\n",
       "    this.rubberband_context = rubberband[0].getContext(\"2d\");\n",
       "    this.rubberband_context.strokeStyle = \"#000000\";\n",
       "\n",
       "    this._resize_canvas = function(width, height) {\n",
       "        // Keep the size of the canvas, canvas container, and rubber band\n",
       "        // canvas in synch.\n",
       "        canvas_div.css('width', width)\n",
       "        canvas_div.css('height', height)\n",
       "\n",
       "        canvas.attr('width', width * mpl.ratio);\n",
       "        canvas.attr('height', height * mpl.ratio);\n",
       "        canvas.attr('style', 'width: ' + width + 'px; height: ' + height + 'px;');\n",
       "\n",
       "        rubberband.attr('width', width);\n",
       "        rubberband.attr('height', height);\n",
       "    }\n",
       "\n",
       "    // Set the figure to an initial 600x600px, this will subsequently be updated\n",
       "    // upon first draw.\n",
       "    this._resize_canvas(600, 600);\n",
       "\n",
       "    // Disable right mouse context menu.\n",
       "    $(this.rubberband_canvas).bind(\"contextmenu\",function(e){\n",
       "        return false;\n",
       "    });\n",
       "\n",
       "    function set_focus () {\n",
       "        canvas.focus();\n",
       "        canvas_div.focus();\n",
       "    }\n",
       "\n",
       "    window.setTimeout(set_focus, 100);\n",
       "}\n",
       "\n",
       "mpl.figure.prototype._init_toolbar = function() {\n",
       "    var fig = this;\n",
       "\n",
       "    var nav_element = $('<div/>')\n",
       "    nav_element.attr('style', 'width: 100%');\n",
       "    this.root.append(nav_element);\n",
       "\n",
       "    // Define a callback function for later on.\n",
       "    function toolbar_event(event) {\n",
       "        return fig.toolbar_button_onclick(event['data']);\n",
       "    }\n",
       "    function toolbar_mouse_event(event) {\n",
       "        return fig.toolbar_button_onmouseover(event['data']);\n",
       "    }\n",
       "\n",
       "    for(var toolbar_ind in mpl.toolbar_items) {\n",
       "        var name = mpl.toolbar_items[toolbar_ind][0];\n",
       "        var tooltip = mpl.toolbar_items[toolbar_ind][1];\n",
       "        var image = mpl.toolbar_items[toolbar_ind][2];\n",
       "        var method_name = mpl.toolbar_items[toolbar_ind][3];\n",
       "\n",
       "        if (!name) {\n",
       "            // put a spacer in here.\n",
       "            continue;\n",
       "        }\n",
       "        var button = $('<button/>');\n",
       "        button.addClass('ui-button ui-widget ui-state-default ui-corner-all ' +\n",
       "                        'ui-button-icon-only');\n",
       "        button.attr('role', 'button');\n",
       "        button.attr('aria-disabled', 'false');\n",
       "        button.click(method_name, toolbar_event);\n",
       "        button.mouseover(tooltip, toolbar_mouse_event);\n",
       "\n",
       "        var icon_img = $('<span/>');\n",
       "        icon_img.addClass('ui-button-icon-primary ui-icon');\n",
       "        icon_img.addClass(image);\n",
       "        icon_img.addClass('ui-corner-all');\n",
       "\n",
       "        var tooltip_span = $('<span/>');\n",
       "        tooltip_span.addClass('ui-button-text');\n",
       "        tooltip_span.html(tooltip);\n",
       "\n",
       "        button.append(icon_img);\n",
       "        button.append(tooltip_span);\n",
       "\n",
       "        nav_element.append(button);\n",
       "    }\n",
       "\n",
       "    var fmt_picker_span = $('<span/>');\n",
       "\n",
       "    var fmt_picker = $('<select/>');\n",
       "    fmt_picker.addClass('mpl-toolbar-option ui-widget ui-widget-content');\n",
       "    fmt_picker_span.append(fmt_picker);\n",
       "    nav_element.append(fmt_picker_span);\n",
       "    this.format_dropdown = fmt_picker[0];\n",
       "\n",
       "    for (var ind in mpl.extensions) {\n",
       "        var fmt = mpl.extensions[ind];\n",
       "        var option = $(\n",
       "            '<option/>', {selected: fmt === mpl.default_extension}).html(fmt);\n",
       "        fmt_picker.append(option)\n",
       "    }\n",
       "\n",
       "    // Add hover states to the ui-buttons\n",
       "    $( \".ui-button\" ).hover(\n",
       "        function() { $(this).addClass(\"ui-state-hover\");},\n",
       "        function() { $(this).removeClass(\"ui-state-hover\");}\n",
       "    );\n",
       "\n",
       "    var status_bar = $('<span class=\"mpl-message\"/>');\n",
       "    nav_element.append(status_bar);\n",
       "    this.message = status_bar[0];\n",
       "}\n",
       "\n",
       "mpl.figure.prototype.request_resize = function(x_pixels, y_pixels) {\n",
       "    // Request matplotlib to resize the figure. Matplotlib will then trigger a resize in the client,\n",
       "    // which will in turn request a refresh of the image.\n",
       "    this.send_message('resize', {'width': x_pixels, 'height': y_pixels});\n",
       "}\n",
       "\n",
       "mpl.figure.prototype.send_message = function(type, properties) {\n",
       "    properties['type'] = type;\n",
       "    properties['figure_id'] = this.id;\n",
       "    this.ws.send(JSON.stringify(properties));\n",
       "}\n",
       "\n",
       "mpl.figure.prototype.send_draw_message = function() {\n",
       "    if (!this.waiting) {\n",
       "        this.waiting = true;\n",
       "        this.ws.send(JSON.stringify({type: \"draw\", figure_id: this.id}));\n",
       "    }\n",
       "}\n",
       "\n",
       "\n",
       "mpl.figure.prototype.handle_save = function(fig, msg) {\n",
       "    var format_dropdown = fig.format_dropdown;\n",
       "    var format = format_dropdown.options[format_dropdown.selectedIndex].value;\n",
       "    fig.ondownload(fig, format);\n",
       "}\n",
       "\n",
       "\n",
       "mpl.figure.prototype.handle_resize = function(fig, msg) {\n",
       "    var size = msg['size'];\n",
       "    if (size[0] != fig.canvas.width || size[1] != fig.canvas.height) {\n",
       "        fig._resize_canvas(size[0], size[1]);\n",
       "        fig.send_message(\"refresh\", {});\n",
       "    };\n",
       "}\n",
       "\n",
       "mpl.figure.prototype.handle_rubberband = function(fig, msg) {\n",
       "    var x0 = msg['x0'] / mpl.ratio;\n",
       "    var y0 = (fig.canvas.height - msg['y0']) / mpl.ratio;\n",
       "    var x1 = msg['x1'] / mpl.ratio;\n",
       "    var y1 = (fig.canvas.height - msg['y1']) / mpl.ratio;\n",
       "    x0 = Math.floor(x0) + 0.5;\n",
       "    y0 = Math.floor(y0) + 0.5;\n",
       "    x1 = Math.floor(x1) + 0.5;\n",
       "    y1 = Math.floor(y1) + 0.5;\n",
       "    var min_x = Math.min(x0, x1);\n",
       "    var min_y = Math.min(y0, y1);\n",
       "    var width = Math.abs(x1 - x0);\n",
       "    var height = Math.abs(y1 - y0);\n",
       "\n",
       "    fig.rubberband_context.clearRect(\n",
       "        0, 0, fig.canvas.width, fig.canvas.height);\n",
       "\n",
       "    fig.rubberband_context.strokeRect(min_x, min_y, width, height);\n",
       "}\n",
       "\n",
       "mpl.figure.prototype.handle_figure_label = function(fig, msg) {\n",
       "    // Updates the figure title.\n",
       "    fig.header.textContent = msg['label'];\n",
       "}\n",
       "\n",
       "mpl.figure.prototype.handle_cursor = function(fig, msg) {\n",
       "    var cursor = msg['cursor'];\n",
       "    switch(cursor)\n",
       "    {\n",
       "    case 0:\n",
       "        cursor = 'pointer';\n",
       "        break;\n",
       "    case 1:\n",
       "        cursor = 'default';\n",
       "        break;\n",
       "    case 2:\n",
       "        cursor = 'crosshair';\n",
       "        break;\n",
       "    case 3:\n",
       "        cursor = 'move';\n",
       "        break;\n",
       "    }\n",
       "    fig.rubberband_canvas.style.cursor = cursor;\n",
       "}\n",
       "\n",
       "mpl.figure.prototype.handle_message = function(fig, msg) {\n",
       "    fig.message.textContent = msg['message'];\n",
       "}\n",
       "\n",
       "mpl.figure.prototype.handle_draw = function(fig, msg) {\n",
       "    // Request the server to send over a new figure.\n",
       "    fig.send_draw_message();\n",
       "}\n",
       "\n",
       "mpl.figure.prototype.handle_image_mode = function(fig, msg) {\n",
       "    fig.image_mode = msg['mode'];\n",
       "}\n",
       "\n",
       "mpl.figure.prototype.updated_canvas_event = function() {\n",
       "    // Called whenever the canvas gets updated.\n",
       "    this.send_message(\"ack\", {});\n",
       "}\n",
       "\n",
       "// A function to construct a web socket function for onmessage handling.\n",
       "// Called in the figure constructor.\n",
       "mpl.figure.prototype._make_on_message_function = function(fig) {\n",
       "    return function socket_on_message(evt) {\n",
       "        if (evt.data instanceof Blob) {\n",
       "            /* FIXME: We get \"Resource interpreted as Image but\n",
       "             * transferred with MIME type text/plain:\" errors on\n",
       "             * Chrome.  But how to set the MIME type?  It doesn't seem\n",
       "             * to be part of the websocket stream */\n",
       "            evt.data.type = \"image/png\";\n",
       "\n",
       "            /* Free the memory for the previous frames */\n",
       "            if (fig.imageObj.src) {\n",
       "                (window.URL || window.webkitURL).revokeObjectURL(\n",
       "                    fig.imageObj.src);\n",
       "            }\n",
       "\n",
       "            fig.imageObj.src = (window.URL || window.webkitURL).createObjectURL(\n",
       "                evt.data);\n",
       "            fig.updated_canvas_event();\n",
       "            fig.waiting = false;\n",
       "            return;\n",
       "        }\n",
       "        else if (typeof evt.data === 'string' && evt.data.slice(0, 21) == \"data:image/png;base64\") {\n",
       "            fig.imageObj.src = evt.data;\n",
       "            fig.updated_canvas_event();\n",
       "            fig.waiting = false;\n",
       "            return;\n",
       "        }\n",
       "\n",
       "        var msg = JSON.parse(evt.data);\n",
       "        var msg_type = msg['type'];\n",
       "\n",
       "        // Call the  \"handle_{type}\" callback, which takes\n",
       "        // the figure and JSON message as its only arguments.\n",
       "        try {\n",
       "            var callback = fig[\"handle_\" + msg_type];\n",
       "        } catch (e) {\n",
       "            console.log(\"No handler for the '\" + msg_type + \"' message type: \", msg);\n",
       "            return;\n",
       "        }\n",
       "\n",
       "        if (callback) {\n",
       "            try {\n",
       "                // console.log(\"Handling '\" + msg_type + \"' message: \", msg);\n",
       "                callback(fig, msg);\n",
       "            } catch (e) {\n",
       "                console.log(\"Exception inside the 'handler_\" + msg_type + \"' callback:\", e, e.stack, msg);\n",
       "            }\n",
       "        }\n",
       "    };\n",
       "}\n",
       "\n",
       "// from http://stackoverflow.com/questions/1114465/getting-mouse-location-in-canvas\n",
       "mpl.findpos = function(e) {\n",
       "    //this section is from http://www.quirksmode.org/js/events_properties.html\n",
       "    var targ;\n",
       "    if (!e)\n",
       "        e = window.event;\n",
       "    if (e.target)\n",
       "        targ = e.target;\n",
       "    else if (e.srcElement)\n",
       "        targ = e.srcElement;\n",
       "    if (targ.nodeType == 3) // defeat Safari bug\n",
       "        targ = targ.parentNode;\n",
       "\n",
       "    // jQuery normalizes the pageX and pageY\n",
       "    // pageX,Y are the mouse positions relative to the document\n",
       "    // offset() returns the position of the element relative to the document\n",
       "    var x = e.pageX - $(targ).offset().left;\n",
       "    var y = e.pageY - $(targ).offset().top;\n",
       "\n",
       "    return {\"x\": x, \"y\": y};\n",
       "};\n",
       "\n",
       "/*\n",
       " * return a copy of an object with only non-object keys\n",
       " * we need this to avoid circular references\n",
       " * http://stackoverflow.com/a/24161582/3208463\n",
       " */\n",
       "function simpleKeys (original) {\n",
       "  return Object.keys(original).reduce(function (obj, key) {\n",
       "    if (typeof original[key] !== 'object')\n",
       "        obj[key] = original[key]\n",
       "    return obj;\n",
       "  }, {});\n",
       "}\n",
       "\n",
       "mpl.figure.prototype.mouse_event = function(event, name) {\n",
       "    var canvas_pos = mpl.findpos(event)\n",
       "\n",
       "    if (name === 'button_press')\n",
       "    {\n",
       "        this.canvas.focus();\n",
       "        this.canvas_div.focus();\n",
       "    }\n",
       "\n",
       "    var x = canvas_pos.x * mpl.ratio;\n",
       "    var y = canvas_pos.y * mpl.ratio;\n",
       "\n",
       "    this.send_message(name, {x: x, y: y, button: event.button,\n",
       "                             step: event.step,\n",
       "                             guiEvent: simpleKeys(event)});\n",
       "\n",
       "    /* This prevents the web browser from automatically changing to\n",
       "     * the text insertion cursor when the button is pressed.  We want\n",
       "     * to control all of the cursor setting manually through the\n",
       "     * 'cursor' event from matplotlib */\n",
       "    event.preventDefault();\n",
       "    return false;\n",
       "}\n",
       "\n",
       "mpl.figure.prototype._key_event_extra = function(event, name) {\n",
       "    // Handle any extra behaviour associated with a key event\n",
       "}\n",
       "\n",
       "mpl.figure.prototype.key_event = function(event, name) {\n",
       "\n",
       "    // Prevent repeat events\n",
       "    if (name == 'key_press')\n",
       "    {\n",
       "        if (event.which === this._key)\n",
       "            return;\n",
       "        else\n",
       "            this._key = event.which;\n",
       "    }\n",
       "    if (name == 'key_release')\n",
       "        this._key = null;\n",
       "\n",
       "    var value = '';\n",
       "    if (event.ctrlKey && event.which != 17)\n",
       "        value += \"ctrl+\";\n",
       "    if (event.altKey && event.which != 18)\n",
       "        value += \"alt+\";\n",
       "    if (event.shiftKey && event.which != 16)\n",
       "        value += \"shift+\";\n",
       "\n",
       "    value += 'k';\n",
       "    value += event.which.toString();\n",
       "\n",
       "    this._key_event_extra(event, name);\n",
       "\n",
       "    this.send_message(name, {key: value,\n",
       "                             guiEvent: simpleKeys(event)});\n",
       "    return false;\n",
       "}\n",
       "\n",
       "mpl.figure.prototype.toolbar_button_onclick = function(name) {\n",
       "    if (name == 'download') {\n",
       "        this.handle_save(this, null);\n",
       "    } else {\n",
       "        this.send_message(\"toolbar_button\", {name: name});\n",
       "    }\n",
       "};\n",
       "\n",
       "mpl.figure.prototype.toolbar_button_onmouseover = function(tooltip) {\n",
       "    this.message.textContent = tooltip;\n",
       "};\n",
       "mpl.toolbar_items = [[\"Home\", \"Reset original view\", \"fa fa-home icon-home\", \"home\"], [\"Back\", \"Back to  previous view\", \"fa fa-arrow-left icon-arrow-left\", \"back\"], [\"Forward\", \"Forward to next view\", \"fa fa-arrow-right icon-arrow-right\", \"forward\"], [\"\", \"\", \"\", \"\"], [\"Pan\", \"Pan axes with left mouse, zoom with right\", \"fa fa-arrows icon-move\", \"pan\"], [\"Zoom\", \"Zoom to rectangle\", \"fa fa-square-o icon-check-empty\", \"zoom\"], [\"\", \"\", \"\", \"\"], [\"Download\", \"Download plot\", \"fa fa-floppy-o icon-save\", \"download\"]];\n",
       "\n",
       "mpl.extensions = [\"eps\", \"jpeg\", \"pdf\", \"png\", \"ps\", \"raw\", \"svg\", \"tif\"];\n",
       "\n",
       "mpl.default_extension = \"png\";var comm_websocket_adapter = function(comm) {\n",
       "    // Create a \"websocket\"-like object which calls the given IPython comm\n",
       "    // object with the appropriate methods. Currently this is a non binary\n",
       "    // socket, so there is still some room for performance tuning.\n",
       "    var ws = {};\n",
       "\n",
       "    ws.close = function() {\n",
       "        comm.close()\n",
       "    };\n",
       "    ws.send = function(m) {\n",
       "        //console.log('sending', m);\n",
       "        comm.send(m);\n",
       "    };\n",
       "    // Register the callback with on_msg.\n",
       "    comm.on_msg(function(msg) {\n",
       "        //console.log('receiving', msg['content']['data'], msg);\n",
       "        // Pass the mpl event to the overriden (by mpl) onmessage function.\n",
       "        ws.onmessage(msg['content']['data'])\n",
       "    });\n",
       "    return ws;\n",
       "}\n",
       "\n",
       "mpl.mpl_figure_comm = function(comm, msg) {\n",
       "    // This is the function which gets called when the mpl process\n",
       "    // starts-up an IPython Comm through the \"matplotlib\" channel.\n",
       "\n",
       "    var id = msg.content.data.id;\n",
       "    // Get hold of the div created by the display call when the Comm\n",
       "    // socket was opened in Python.\n",
       "    var element = $(\"#\" + id);\n",
       "    var ws_proxy = comm_websocket_adapter(comm)\n",
       "\n",
       "    function ondownload(figure, format) {\n",
       "        window.open(figure.imageObj.src);\n",
       "    }\n",
       "\n",
       "    var fig = new mpl.figure(id, ws_proxy,\n",
       "                           ondownload,\n",
       "                           element.get(0));\n",
       "\n",
       "    // Call onopen now - mpl needs it, as it is assuming we've passed it a real\n",
       "    // web socket which is closed, not our websocket->open comm proxy.\n",
       "    ws_proxy.onopen();\n",
       "\n",
       "    fig.parent_element = element.get(0);\n",
       "    fig.cell_info = mpl.find_output_cell(\"<div id='\" + id + \"'></div>\");\n",
       "    if (!fig.cell_info) {\n",
       "        console.error(\"Failed to find cell for figure\", id, fig);\n",
       "        return;\n",
       "    }\n",
       "\n",
       "    var output_index = fig.cell_info[2]\n",
       "    var cell = fig.cell_info[0];\n",
       "\n",
       "};\n",
       "\n",
       "mpl.figure.prototype.handle_close = function(fig, msg) {\n",
       "    var width = fig.canvas.width/mpl.ratio\n",
       "    fig.root.unbind('remove')\n",
       "\n",
       "    // Update the output cell to use the data from the current canvas.\n",
       "    fig.push_to_output();\n",
       "    var dataURL = fig.canvas.toDataURL();\n",
       "    // Re-enable the keyboard manager in IPython - without this line, in FF,\n",
       "    // the notebook keyboard shortcuts fail.\n",
       "    IPython.keyboard_manager.enable()\n",
       "    $(fig.parent_element).html('<img src=\"' + dataURL + '\" width=\"' + width + '\">');\n",
       "    fig.close_ws(fig, msg);\n",
       "}\n",
       "\n",
       "mpl.figure.prototype.close_ws = function(fig, msg){\n",
       "    fig.send_message('closing', msg);\n",
       "    // fig.ws.close()\n",
       "}\n",
       "\n",
       "mpl.figure.prototype.push_to_output = function(remove_interactive) {\n",
       "    // Turn the data on the canvas into data in the output cell.\n",
       "    var width = this.canvas.width/mpl.ratio\n",
       "    var dataURL = this.canvas.toDataURL();\n",
       "    this.cell_info[1]['text/html'] = '<img src=\"' + dataURL + '\" width=\"' + width + '\">';\n",
       "}\n",
       "\n",
       "mpl.figure.prototype.updated_canvas_event = function() {\n",
       "    // Tell IPython that the notebook contents must change.\n",
       "    IPython.notebook.set_dirty(true);\n",
       "    this.send_message(\"ack\", {});\n",
       "    var fig = this;\n",
       "    // Wait a second, then push the new image to the DOM so\n",
       "    // that it is saved nicely (might be nice to debounce this).\n",
       "    setTimeout(function () { fig.push_to_output() }, 1000);\n",
       "}\n",
       "\n",
       "mpl.figure.prototype._init_toolbar = function() {\n",
       "    var fig = this;\n",
       "\n",
       "    var nav_element = $('<div/>')\n",
       "    nav_element.attr('style', 'width: 100%');\n",
       "    this.root.append(nav_element);\n",
       "\n",
       "    // Define a callback function for later on.\n",
       "    function toolbar_event(event) {\n",
       "        return fig.toolbar_button_onclick(event['data']);\n",
       "    }\n",
       "    function toolbar_mouse_event(event) {\n",
       "        return fig.toolbar_button_onmouseover(event['data']);\n",
       "    }\n",
       "\n",
       "    for(var toolbar_ind in mpl.toolbar_items){\n",
       "        var name = mpl.toolbar_items[toolbar_ind][0];\n",
       "        var tooltip = mpl.toolbar_items[toolbar_ind][1];\n",
       "        var image = mpl.toolbar_items[toolbar_ind][2];\n",
       "        var method_name = mpl.toolbar_items[toolbar_ind][3];\n",
       "\n",
       "        if (!name) { continue; };\n",
       "\n",
       "        var button = $('<button class=\"btn btn-default\" href=\"#\" title=\"' + name + '\"><i class=\"fa ' + image + ' fa-lg\"></i></button>');\n",
       "        button.click(method_name, toolbar_event);\n",
       "        button.mouseover(tooltip, toolbar_mouse_event);\n",
       "        nav_element.append(button);\n",
       "    }\n",
       "\n",
       "    // Add the status bar.\n",
       "    var status_bar = $('<span class=\"mpl-message\" style=\"text-align:right; float: right;\"/>');\n",
       "    nav_element.append(status_bar);\n",
       "    this.message = status_bar[0];\n",
       "\n",
       "    // Add the close button to the window.\n",
       "    var buttongrp = $('<div class=\"btn-group inline pull-right\"></div>');\n",
       "    var button = $('<button class=\"btn btn-mini btn-primary\" href=\"#\" title=\"Stop Interaction\"><i class=\"fa fa-power-off icon-remove icon-large\"></i></button>');\n",
       "    button.click(function (evt) { fig.handle_close(fig, {}); } );\n",
       "    button.mouseover('Stop Interaction', toolbar_mouse_event);\n",
       "    buttongrp.append(button);\n",
       "    var titlebar = this.root.find($('.ui-dialog-titlebar'));\n",
       "    titlebar.prepend(buttongrp);\n",
       "}\n",
       "\n",
       "mpl.figure.prototype._root_extra_style = function(el){\n",
       "    var fig = this\n",
       "    el.on(\"remove\", function(){\n",
       "\tfig.close_ws(fig, {});\n",
       "    });\n",
       "}\n",
       "\n",
       "mpl.figure.prototype._canvas_extra_style = function(el){\n",
       "    // this is important to make the div 'focusable\n",
       "    el.attr('tabindex', 0)\n",
       "    // reach out to IPython and tell the keyboard manager to turn it's self\n",
       "    // off when our div gets focus\n",
       "\n",
       "    // location in version 3\n",
       "    if (IPython.notebook.keyboard_manager) {\n",
       "        IPython.notebook.keyboard_manager.register_events(el);\n",
       "    }\n",
       "    else {\n",
       "        // location in version 2\n",
       "        IPython.keyboard_manager.register_events(el);\n",
       "    }\n",
       "\n",
       "}\n",
       "\n",
       "mpl.figure.prototype._key_event_extra = function(event, name) {\n",
       "    var manager = IPython.notebook.keyboard_manager;\n",
       "    if (!manager)\n",
       "        manager = IPython.keyboard_manager;\n",
       "\n",
       "    // Check for shift+enter\n",
       "    if (event.shiftKey && event.which == 13) {\n",
       "        this.canvas_div.blur();\n",
       "        event.shiftKey = false;\n",
       "        // Send a \"J\" for go to next cell\n",
       "        event.which = 74;\n",
       "        event.keyCode = 74;\n",
       "        manager.command_mode();\n",
       "        manager.handle_keydown(event);\n",
       "    }\n",
       "}\n",
       "\n",
       "mpl.figure.prototype.handle_save = function(fig, msg) {\n",
       "    fig.ondownload(fig, null);\n",
       "}\n",
       "\n",
       "\n",
       "mpl.find_output_cell = function(html_output) {\n",
       "    // Return the cell and output element which can be found *uniquely* in the notebook.\n",
       "    // Note - this is a bit hacky, but it is done because the \"notebook_saving.Notebook\"\n",
       "    // IPython event is triggered only after the cells have been serialised, which for\n",
       "    // our purposes (turning an active figure into a static one), is too late.\n",
       "    var cells = IPython.notebook.get_cells();\n",
       "    var ncells = cells.length;\n",
       "    for (var i=0; i<ncells; i++) {\n",
       "        var cell = cells[i];\n",
       "        if (cell.cell_type === 'code'){\n",
       "            for (var j=0; j<cell.output_area.outputs.length; j++) {\n",
       "                var data = cell.output_area.outputs[j];\n",
       "                if (data.data) {\n",
       "                    // IPython >= 3 moved mimebundle to data attribute of output\n",
       "                    data = data.data;\n",
       "                }\n",
       "                if (data['text/html'] == html_output) {\n",
       "                    return [cell, data, j];\n",
       "                }\n",
       "            }\n",
       "        }\n",
       "    }\n",
       "}\n",
       "\n",
       "// Register the function which deals with the matplotlib target/channel.\n",
       "// The kernel may be null if the page has been refreshed.\n",
       "if (IPython.notebook.kernel != null) {\n",
       "    IPython.notebook.kernel.comm_manager.register_target('matplotlib', mpl.mpl_figure_comm);\n",
       "}\n"
      ],
      "text/plain": [
       "<IPython.core.display.Javascript object>"
      ]
     },
     "metadata": {},
     "output_type": "display_data"
    },
    {
     "data": {
      "text/html": [
       "<img src=\"data:image/png;base64,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\" width=\"639.7499809339648\">"
      ],
      "text/plain": [
       "<IPython.core.display.HTML object>"
      ]
     },
     "metadata": {},
     "output_type": "display_data"
    },
    {
     "data": {
      "application/vnd.jupyter.widget-view+json": {
       "model_id": "72f8508a9dc1460c856df9e75b34f40a"
      }
     },
     "metadata": {},
     "output_type": "display_data"
    },
    {
     "data": {
      "application/vnd.jupyter.widget-view+json": {
       "model_id": "507f80dc8cc144169f27390df80d3a59"
      }
     },
     "metadata": {},
     "output_type": "display_data"
    },
    {
     "data": {
      "application/vnd.jupyter.widget-view+json": {
       "model_id": "43a732a7335d435abf08614d038a4909"
      }
     },
     "metadata": {},
     "output_type": "display_data"
    },
    {
     "data": {
      "application/vnd.jupyter.widget-view+json": {
       "model_id": "ade4e39e7c9e4173b903a46338a03c4d"
      }
     },
     "metadata": {},
     "output_type": "display_data"
    },
    {
     "data": {
      "application/vnd.jupyter.widget-view+json": {
       "model_id": "64c585ce983a475997df5c2e79d16b03"
      }
     },
     "metadata": {},
     "output_type": "display_data"
    },
    {
     "data": {
      "application/vnd.jupyter.widget-view+json": {
       "model_id": "f93693c753da4156ba8df15fb8ac8d29"
      }
     },
     "metadata": {},
     "output_type": "display_data"
    }
   ],
   "source": [
    "b = a.plot(sample_field='group',\n",
    "           bary_fields=['oxygen'], \n",
    "           barx_fields=['group', 'categorical'],\n",
    "           barx_label_kwargs=[{'color': 'b'}, {'color': 'white', 'size': 9}],\n",
    "           cmap='inferno',\n",
    "           gui='jupyter',\n",
    "           title='simple figure');"
   ]
  },
  {
   "cell_type": "markdown",
   "metadata": {},
   "source": [
    "## Add y-axis ticks"
   ]
  },
  {
   "cell_type": "code",
   "execution_count": 5,
   "metadata": {},
   "outputs": [
    {
     "data": {
      "application/javascript": [
       "/* Put everything inside the global mpl namespace */\n",
       "window.mpl = {};\n",
       "\n",
       "\n",
       "mpl.get_websocket_type = function() {\n",
       "    if (typeof(WebSocket) !== 'undefined') {\n",
       "        return WebSocket;\n",
       "    } else if (typeof(MozWebSocket) !== 'undefined') {\n",
       "        return MozWebSocket;\n",
       "    } else {\n",
       "        alert('Your browser does not have WebSocket support.' +\n",
       "              'Please try Chrome, Safari or Firefox ≥ 6. ' +\n",
       "              'Firefox 4 and 5 are also supported but you ' +\n",
       "              'have to enable WebSockets in about:config.');\n",
       "    };\n",
       "}\n",
       "\n",
       "mpl.figure = function(figure_id, websocket, ondownload, parent_element) {\n",
       "    this.id = figure_id;\n",
       "\n",
       "    this.ws = websocket;\n",
       "\n",
       "    this.supports_binary = (this.ws.binaryType != undefined);\n",
       "\n",
       "    if (!this.supports_binary) {\n",
       "        var warnings = document.getElementById(\"mpl-warnings\");\n",
       "        if (warnings) {\n",
       "            warnings.style.display = 'block';\n",
       "            warnings.textContent = (\n",
       "                \"This browser does not support binary websocket messages. \" +\n",
       "                    \"Performance may be slow.\");\n",
       "        }\n",
       "    }\n",
       "\n",
       "    this.imageObj = new Image();\n",
       "\n",
       "    this.context = undefined;\n",
       "    this.message = undefined;\n",
       "    this.canvas = undefined;\n",
       "    this.rubberband_canvas = undefined;\n",
       "    this.rubberband_context = undefined;\n",
       "    this.format_dropdown = undefined;\n",
       "\n",
       "    this.image_mode = 'full';\n",
       "\n",
       "    this.root = $('<div/>');\n",
       "    this._root_extra_style(this.root)\n",
       "    this.root.attr('style', 'display: inline-block');\n",
       "\n",
       "    $(parent_element).append(this.root);\n",
       "\n",
       "    this._init_header(this);\n",
       "    this._init_canvas(this);\n",
       "    this._init_toolbar(this);\n",
       "\n",
       "    var fig = this;\n",
       "\n",
       "    this.waiting = false;\n",
       "\n",
       "    this.ws.onopen =  function () {\n",
       "            fig.send_message(\"supports_binary\", {value: fig.supports_binary});\n",
       "            fig.send_message(\"send_image_mode\", {});\n",
       "            if (mpl.ratio != 1) {\n",
       "                fig.send_message(\"set_dpi_ratio\", {'dpi_ratio': mpl.ratio});\n",
       "            }\n",
       "            fig.send_message(\"refresh\", {});\n",
       "        }\n",
       "\n",
       "    this.imageObj.onload = function() {\n",
       "            if (fig.image_mode == 'full') {\n",
       "                // Full images could contain transparency (where diff images\n",
       "                // almost always do), so we need to clear the canvas so that\n",
       "                // there is no ghosting.\n",
       "                fig.context.clearRect(0, 0, fig.canvas.width, fig.canvas.height);\n",
       "            }\n",
       "            fig.context.drawImage(fig.imageObj, 0, 0);\n",
       "        };\n",
       "\n",
       "    this.imageObj.onunload = function() {\n",
       "        fig.ws.close();\n",
       "    }\n",
       "\n",
       "    this.ws.onmessage = this._make_on_message_function(this);\n",
       "\n",
       "    this.ondownload = ondownload;\n",
       "}\n",
       "\n",
       "mpl.figure.prototype._init_header = function() {\n",
       "    var titlebar = $(\n",
       "        '<div class=\"ui-dialog-titlebar ui-widget-header ui-corner-all ' +\n",
       "        'ui-helper-clearfix\"/>');\n",
       "    var titletext = $(\n",
       "        '<div class=\"ui-dialog-title\" style=\"width: 100%; ' +\n",
       "        'text-align: center; padding: 3px;\"/>');\n",
       "    titlebar.append(titletext)\n",
       "    this.root.append(titlebar);\n",
       "    this.header = titletext[0];\n",
       "}\n",
       "\n",
       "\n",
       "\n",
       "mpl.figure.prototype._canvas_extra_style = function(canvas_div) {\n",
       "\n",
       "}\n",
       "\n",
       "\n",
       "mpl.figure.prototype._root_extra_style = function(canvas_div) {\n",
       "\n",
       "}\n",
       "\n",
       "mpl.figure.prototype._init_canvas = function() {\n",
       "    var fig = this;\n",
       "\n",
       "    var canvas_div = $('<div/>');\n",
       "\n",
       "    canvas_div.attr('style', 'position: relative; clear: both; outline: 0');\n",
       "\n",
       "    function canvas_keyboard_event(event) {\n",
       "        return fig.key_event(event, event['data']);\n",
       "    }\n",
       "\n",
       "    canvas_div.keydown('key_press', canvas_keyboard_event);\n",
       "    canvas_div.keyup('key_release', canvas_keyboard_event);\n",
       "    this.canvas_div = canvas_div\n",
       "    this._canvas_extra_style(canvas_div)\n",
       "    this.root.append(canvas_div);\n",
       "\n",
       "    var canvas = $('<canvas/>');\n",
       "    canvas.addClass('mpl-canvas');\n",
       "    canvas.attr('style', \"left: 0; top: 0; z-index: 0; outline: 0\")\n",
       "\n",
       "    this.canvas = canvas[0];\n",
       "    this.context = canvas[0].getContext(\"2d\");\n",
       "\n",
       "    var backingStore = this.context.backingStorePixelRatio ||\n",
       "\tthis.context.webkitBackingStorePixelRatio ||\n",
       "\tthis.context.mozBackingStorePixelRatio ||\n",
       "\tthis.context.msBackingStorePixelRatio ||\n",
       "\tthis.context.oBackingStorePixelRatio ||\n",
       "\tthis.context.backingStorePixelRatio || 1;\n",
       "\n",
       "    mpl.ratio = (window.devicePixelRatio || 1) / backingStore;\n",
       "\n",
       "    var rubberband = $('<canvas/>');\n",
       "    rubberband.attr('style', \"position: absolute; left: 0; top: 0; z-index: 1;\")\n",
       "\n",
       "    var pass_mouse_events = true;\n",
       "\n",
       "    canvas_div.resizable({\n",
       "        start: function(event, ui) {\n",
       "            pass_mouse_events = false;\n",
       "        },\n",
       "        resize: function(event, ui) {\n",
       "            fig.request_resize(ui.size.width, ui.size.height);\n",
       "        },\n",
       "        stop: function(event, ui) {\n",
       "            pass_mouse_events = true;\n",
       "            fig.request_resize(ui.size.width, ui.size.height);\n",
       "        },\n",
       "    });\n",
       "\n",
       "    function mouse_event_fn(event) {\n",
       "        if (pass_mouse_events)\n",
       "            return fig.mouse_event(event, event['data']);\n",
       "    }\n",
       "\n",
       "    rubberband.mousedown('button_press', mouse_event_fn);\n",
       "    rubberband.mouseup('button_release', mouse_event_fn);\n",
       "    // Throttle sequential mouse events to 1 every 20ms.\n",
       "    rubberband.mousemove('motion_notify', mouse_event_fn);\n",
       "\n",
       "    rubberband.mouseenter('figure_enter', mouse_event_fn);\n",
       "    rubberband.mouseleave('figure_leave', mouse_event_fn);\n",
       "\n",
       "    canvas_div.on(\"wheel\", function (event) {\n",
       "        event = event.originalEvent;\n",
       "        event['data'] = 'scroll'\n",
       "        if (event.deltaY < 0) {\n",
       "            event.step = 1;\n",
       "        } else {\n",
       "            event.step = -1;\n",
       "        }\n",
       "        mouse_event_fn(event);\n",
       "    });\n",
       "\n",
       "    canvas_div.append(canvas);\n",
       "    canvas_div.append(rubberband);\n",
       "\n",
       "    this.rubberband = rubberband;\n",
       "    this.rubberband_canvas = rubberband[0];\n",
       "    this.rubberband_context = rubberband[0].getContext(\"2d\");\n",
       "    this.rubberband_context.strokeStyle = \"#000000\";\n",
       "\n",
       "    this._resize_canvas = function(width, height) {\n",
       "        // Keep the size of the canvas, canvas container, and rubber band\n",
       "        // canvas in synch.\n",
       "        canvas_div.css('width', width)\n",
       "        canvas_div.css('height', height)\n",
       "\n",
       "        canvas.attr('width', width * mpl.ratio);\n",
       "        canvas.attr('height', height * mpl.ratio);\n",
       "        canvas.attr('style', 'width: ' + width + 'px; height: ' + height + 'px;');\n",
       "\n",
       "        rubberband.attr('width', width);\n",
       "        rubberband.attr('height', height);\n",
       "    }\n",
       "\n",
       "    // Set the figure to an initial 600x600px, this will subsequently be updated\n",
       "    // upon first draw.\n",
       "    this._resize_canvas(600, 600);\n",
       "\n",
       "    // Disable right mouse context menu.\n",
       "    $(this.rubberband_canvas).bind(\"contextmenu\",function(e){\n",
       "        return false;\n",
       "    });\n",
       "\n",
       "    function set_focus () {\n",
       "        canvas.focus();\n",
       "        canvas_div.focus();\n",
       "    }\n",
       "\n",
       "    window.setTimeout(set_focus, 100);\n",
       "}\n",
       "\n",
       "mpl.figure.prototype._init_toolbar = function() {\n",
       "    var fig = this;\n",
       "\n",
       "    var nav_element = $('<div/>')\n",
       "    nav_element.attr('style', 'width: 100%');\n",
       "    this.root.append(nav_element);\n",
       "\n",
       "    // Define a callback function for later on.\n",
       "    function toolbar_event(event) {\n",
       "        return fig.toolbar_button_onclick(event['data']);\n",
       "    }\n",
       "    function toolbar_mouse_event(event) {\n",
       "        return fig.toolbar_button_onmouseover(event['data']);\n",
       "    }\n",
       "\n",
       "    for(var toolbar_ind in mpl.toolbar_items) {\n",
       "        var name = mpl.toolbar_items[toolbar_ind][0];\n",
       "        var tooltip = mpl.toolbar_items[toolbar_ind][1];\n",
       "        var image = mpl.toolbar_items[toolbar_ind][2];\n",
       "        var method_name = mpl.toolbar_items[toolbar_ind][3];\n",
       "\n",
       "        if (!name) {\n",
       "            // put a spacer in here.\n",
       "            continue;\n",
       "        }\n",
       "        var button = $('<button/>');\n",
       "        button.addClass('ui-button ui-widget ui-state-default ui-corner-all ' +\n",
       "                        'ui-button-icon-only');\n",
       "        button.attr('role', 'button');\n",
       "        button.attr('aria-disabled', 'false');\n",
       "        button.click(method_name, toolbar_event);\n",
       "        button.mouseover(tooltip, toolbar_mouse_event);\n",
       "\n",
       "        var icon_img = $('<span/>');\n",
       "        icon_img.addClass('ui-button-icon-primary ui-icon');\n",
       "        icon_img.addClass(image);\n",
       "        icon_img.addClass('ui-corner-all');\n",
       "\n",
       "        var tooltip_span = $('<span/>');\n",
       "        tooltip_span.addClass('ui-button-text');\n",
       "        tooltip_span.html(tooltip);\n",
       "\n",
       "        button.append(icon_img);\n",
       "        button.append(tooltip_span);\n",
       "\n",
       "        nav_element.append(button);\n",
       "    }\n",
       "\n",
       "    var fmt_picker_span = $('<span/>');\n",
       "\n",
       "    var fmt_picker = $('<select/>');\n",
       "    fmt_picker.addClass('mpl-toolbar-option ui-widget ui-widget-content');\n",
       "    fmt_picker_span.append(fmt_picker);\n",
       "    nav_element.append(fmt_picker_span);\n",
       "    this.format_dropdown = fmt_picker[0];\n",
       "\n",
       "    for (var ind in mpl.extensions) {\n",
       "        var fmt = mpl.extensions[ind];\n",
       "        var option = $(\n",
       "            '<option/>', {selected: fmt === mpl.default_extension}).html(fmt);\n",
       "        fmt_picker.append(option)\n",
       "    }\n",
       "\n",
       "    // Add hover states to the ui-buttons\n",
       "    $( \".ui-button\" ).hover(\n",
       "        function() { $(this).addClass(\"ui-state-hover\");},\n",
       "        function() { $(this).removeClass(\"ui-state-hover\");}\n",
       "    );\n",
       "\n",
       "    var status_bar = $('<span class=\"mpl-message\"/>');\n",
       "    nav_element.append(status_bar);\n",
       "    this.message = status_bar[0];\n",
       "}\n",
       "\n",
       "mpl.figure.prototype.request_resize = function(x_pixels, y_pixels) {\n",
       "    // Request matplotlib to resize the figure. Matplotlib will then trigger a resize in the client,\n",
       "    // which will in turn request a refresh of the image.\n",
       "    this.send_message('resize', {'width': x_pixels, 'height': y_pixels});\n",
       "}\n",
       "\n",
       "mpl.figure.prototype.send_message = function(type, properties) {\n",
       "    properties['type'] = type;\n",
       "    properties['figure_id'] = this.id;\n",
       "    this.ws.send(JSON.stringify(properties));\n",
       "}\n",
       "\n",
       "mpl.figure.prototype.send_draw_message = function() {\n",
       "    if (!this.waiting) {\n",
       "        this.waiting = true;\n",
       "        this.ws.send(JSON.stringify({type: \"draw\", figure_id: this.id}));\n",
       "    }\n",
       "}\n",
       "\n",
       "\n",
       "mpl.figure.prototype.handle_save = function(fig, msg) {\n",
       "    var format_dropdown = fig.format_dropdown;\n",
       "    var format = format_dropdown.options[format_dropdown.selectedIndex].value;\n",
       "    fig.ondownload(fig, format);\n",
       "}\n",
       "\n",
       "\n",
       "mpl.figure.prototype.handle_resize = function(fig, msg) {\n",
       "    var size = msg['size'];\n",
       "    if (size[0] != fig.canvas.width || size[1] != fig.canvas.height) {\n",
       "        fig._resize_canvas(size[0], size[1]);\n",
       "        fig.send_message(\"refresh\", {});\n",
       "    };\n",
       "}\n",
       "\n",
       "mpl.figure.prototype.handle_rubberband = function(fig, msg) {\n",
       "    var x0 = msg['x0'] / mpl.ratio;\n",
       "    var y0 = (fig.canvas.height - msg['y0']) / mpl.ratio;\n",
       "    var x1 = msg['x1'] / mpl.ratio;\n",
       "    var y1 = (fig.canvas.height - msg['y1']) / mpl.ratio;\n",
       "    x0 = Math.floor(x0) + 0.5;\n",
       "    y0 = Math.floor(y0) + 0.5;\n",
       "    x1 = Math.floor(x1) + 0.5;\n",
       "    y1 = Math.floor(y1) + 0.5;\n",
       "    var min_x = Math.min(x0, x1);\n",
       "    var min_y = Math.min(y0, y1);\n",
       "    var width = Math.abs(x1 - x0);\n",
       "    var height = Math.abs(y1 - y0);\n",
       "\n",
       "    fig.rubberband_context.clearRect(\n",
       "        0, 0, fig.canvas.width, fig.canvas.height);\n",
       "\n",
       "    fig.rubberband_context.strokeRect(min_x, min_y, width, height);\n",
       "}\n",
       "\n",
       "mpl.figure.prototype.handle_figure_label = function(fig, msg) {\n",
       "    // Updates the figure title.\n",
       "    fig.header.textContent = msg['label'];\n",
       "}\n",
       "\n",
       "mpl.figure.prototype.handle_cursor = function(fig, msg) {\n",
       "    var cursor = msg['cursor'];\n",
       "    switch(cursor)\n",
       "    {\n",
       "    case 0:\n",
       "        cursor = 'pointer';\n",
       "        break;\n",
       "    case 1:\n",
       "        cursor = 'default';\n",
       "        break;\n",
       "    case 2:\n",
       "        cursor = 'crosshair';\n",
       "        break;\n",
       "    case 3:\n",
       "        cursor = 'move';\n",
       "        break;\n",
       "    }\n",
       "    fig.rubberband_canvas.style.cursor = cursor;\n",
       "}\n",
       "\n",
       "mpl.figure.prototype.handle_message = function(fig, msg) {\n",
       "    fig.message.textContent = msg['message'];\n",
       "}\n",
       "\n",
       "mpl.figure.prototype.handle_draw = function(fig, msg) {\n",
       "    // Request the server to send over a new figure.\n",
       "    fig.send_draw_message();\n",
       "}\n",
       "\n",
       "mpl.figure.prototype.handle_image_mode = function(fig, msg) {\n",
       "    fig.image_mode = msg['mode'];\n",
       "}\n",
       "\n",
       "mpl.figure.prototype.updated_canvas_event = function() {\n",
       "    // Called whenever the canvas gets updated.\n",
       "    this.send_message(\"ack\", {});\n",
       "}\n",
       "\n",
       "// A function to construct a web socket function for onmessage handling.\n",
       "// Called in the figure constructor.\n",
       "mpl.figure.prototype._make_on_message_function = function(fig) {\n",
       "    return function socket_on_message(evt) {\n",
       "        if (evt.data instanceof Blob) {\n",
       "            /* FIXME: We get \"Resource interpreted as Image but\n",
       "             * transferred with MIME type text/plain:\" errors on\n",
       "             * Chrome.  But how to set the MIME type?  It doesn't seem\n",
       "             * to be part of the websocket stream */\n",
       "            evt.data.type = \"image/png\";\n",
       "\n",
       "            /* Free the memory for the previous frames */\n",
       "            if (fig.imageObj.src) {\n",
       "                (window.URL || window.webkitURL).revokeObjectURL(\n",
       "                    fig.imageObj.src);\n",
       "            }\n",
       "\n",
       "            fig.imageObj.src = (window.URL || window.webkitURL).createObjectURL(\n",
       "                evt.data);\n",
       "            fig.updated_canvas_event();\n",
       "            fig.waiting = false;\n",
       "            return;\n",
       "        }\n",
       "        else if (typeof evt.data === 'string' && evt.data.slice(0, 21) == \"data:image/png;base64\") {\n",
       "            fig.imageObj.src = evt.data;\n",
       "            fig.updated_canvas_event();\n",
       "            fig.waiting = false;\n",
       "            return;\n",
       "        }\n",
       "\n",
       "        var msg = JSON.parse(evt.data);\n",
       "        var msg_type = msg['type'];\n",
       "\n",
       "        // Call the  \"handle_{type}\" callback, which takes\n",
       "        // the figure and JSON message as its only arguments.\n",
       "        try {\n",
       "            var callback = fig[\"handle_\" + msg_type];\n",
       "        } catch (e) {\n",
       "            console.log(\"No handler for the '\" + msg_type + \"' message type: \", msg);\n",
       "            return;\n",
       "        }\n",
       "\n",
       "        if (callback) {\n",
       "            try {\n",
       "                // console.log(\"Handling '\" + msg_type + \"' message: \", msg);\n",
       "                callback(fig, msg);\n",
       "            } catch (e) {\n",
       "                console.log(\"Exception inside the 'handler_\" + msg_type + \"' callback:\", e, e.stack, msg);\n",
       "            }\n",
       "        }\n",
       "    };\n",
       "}\n",
       "\n",
       "// from http://stackoverflow.com/questions/1114465/getting-mouse-location-in-canvas\n",
       "mpl.findpos = function(e) {\n",
       "    //this section is from http://www.quirksmode.org/js/events_properties.html\n",
       "    var targ;\n",
       "    if (!e)\n",
       "        e = window.event;\n",
       "    if (e.target)\n",
       "        targ = e.target;\n",
       "    else if (e.srcElement)\n",
       "        targ = e.srcElement;\n",
       "    if (targ.nodeType == 3) // defeat Safari bug\n",
       "        targ = targ.parentNode;\n",
       "\n",
       "    // jQuery normalizes the pageX and pageY\n",
       "    // pageX,Y are the mouse positions relative to the document\n",
       "    // offset() returns the position of the element relative to the document\n",
       "    var x = e.pageX - $(targ).offset().left;\n",
       "    var y = e.pageY - $(targ).offset().top;\n",
       "\n",
       "    return {\"x\": x, \"y\": y};\n",
       "};\n",
       "\n",
       "/*\n",
       " * return a copy of an object with only non-object keys\n",
       " * we need this to avoid circular references\n",
       " * http://stackoverflow.com/a/24161582/3208463\n",
       " */\n",
       "function simpleKeys (original) {\n",
       "  return Object.keys(original).reduce(function (obj, key) {\n",
       "    if (typeof original[key] !== 'object')\n",
       "        obj[key] = original[key]\n",
       "    return obj;\n",
       "  }, {});\n",
       "}\n",
       "\n",
       "mpl.figure.prototype.mouse_event = function(event, name) {\n",
       "    var canvas_pos = mpl.findpos(event)\n",
       "\n",
       "    if (name === 'button_press')\n",
       "    {\n",
       "        this.canvas.focus();\n",
       "        this.canvas_div.focus();\n",
       "    }\n",
       "\n",
       "    var x = canvas_pos.x * mpl.ratio;\n",
       "    var y = canvas_pos.y * mpl.ratio;\n",
       "\n",
       "    this.send_message(name, {x: x, y: y, button: event.button,\n",
       "                             step: event.step,\n",
       "                             guiEvent: simpleKeys(event)});\n",
       "\n",
       "    /* This prevents the web browser from automatically changing to\n",
       "     * the text insertion cursor when the button is pressed.  We want\n",
       "     * to control all of the cursor setting manually through the\n",
       "     * 'cursor' event from matplotlib */\n",
       "    event.preventDefault();\n",
       "    return false;\n",
       "}\n",
       "\n",
       "mpl.figure.prototype._key_event_extra = function(event, name) {\n",
       "    // Handle any extra behaviour associated with a key event\n",
       "}\n",
       "\n",
       "mpl.figure.prototype.key_event = function(event, name) {\n",
       "\n",
       "    // Prevent repeat events\n",
       "    if (name == 'key_press')\n",
       "    {\n",
       "        if (event.which === this._key)\n",
       "            return;\n",
       "        else\n",
       "            this._key = event.which;\n",
       "    }\n",
       "    if (name == 'key_release')\n",
       "        this._key = null;\n",
       "\n",
       "    var value = '';\n",
       "    if (event.ctrlKey && event.which != 17)\n",
       "        value += \"ctrl+\";\n",
       "    if (event.altKey && event.which != 18)\n",
       "        value += \"alt+\";\n",
       "    if (event.shiftKey && event.which != 16)\n",
       "        value += \"shift+\";\n",
       "\n",
       "    value += 'k';\n",
       "    value += event.which.toString();\n",
       "\n",
       "    this._key_event_extra(event, name);\n",
       "\n",
       "    this.send_message(name, {key: value,\n",
       "                             guiEvent: simpleKeys(event)});\n",
       "    return false;\n",
       "}\n",
       "\n",
       "mpl.figure.prototype.toolbar_button_onclick = function(name) {\n",
       "    if (name == 'download') {\n",
       "        this.handle_save(this, null);\n",
       "    } else {\n",
       "        this.send_message(\"toolbar_button\", {name: name});\n",
       "    }\n",
       "};\n",
       "\n",
       "mpl.figure.prototype.toolbar_button_onmouseover = function(tooltip) {\n",
       "    this.message.textContent = tooltip;\n",
       "};\n",
       "mpl.toolbar_items = [[\"Home\", \"Reset original view\", \"fa fa-home icon-home\", \"home\"], [\"Back\", \"Back to  previous view\", \"fa fa-arrow-left icon-arrow-left\", \"back\"], [\"Forward\", \"Forward to next view\", \"fa fa-arrow-right icon-arrow-right\", \"forward\"], [\"\", \"\", \"\", \"\"], [\"Pan\", \"Pan axes with left mouse, zoom with right\", \"fa fa-arrows icon-move\", \"pan\"], [\"Zoom\", \"Zoom to rectangle\", \"fa fa-square-o icon-check-empty\", \"zoom\"], [\"\", \"\", \"\", \"\"], [\"Download\", \"Download plot\", \"fa fa-floppy-o icon-save\", \"download\"]];\n",
       "\n",
       "mpl.extensions = [\"eps\", \"jpeg\", \"pdf\", \"png\", \"ps\", \"raw\", \"svg\", \"tif\"];\n",
       "\n",
       "mpl.default_extension = \"png\";var comm_websocket_adapter = function(comm) {\n",
       "    // Create a \"websocket\"-like object which calls the given IPython comm\n",
       "    // object with the appropriate methods. Currently this is a non binary\n",
       "    // socket, so there is still some room for performance tuning.\n",
       "    var ws = {};\n",
       "\n",
       "    ws.close = function() {\n",
       "        comm.close()\n",
       "    };\n",
       "    ws.send = function(m) {\n",
       "        //console.log('sending', m);\n",
       "        comm.send(m);\n",
       "    };\n",
       "    // Register the callback with on_msg.\n",
       "    comm.on_msg(function(msg) {\n",
       "        //console.log('receiving', msg['content']['data'], msg);\n",
       "        // Pass the mpl event to the overriden (by mpl) onmessage function.\n",
       "        ws.onmessage(msg['content']['data'])\n",
       "    });\n",
       "    return ws;\n",
       "}\n",
       "\n",
       "mpl.mpl_figure_comm = function(comm, msg) {\n",
       "    // This is the function which gets called when the mpl process\n",
       "    // starts-up an IPython Comm through the \"matplotlib\" channel.\n",
       "\n",
       "    var id = msg.content.data.id;\n",
       "    // Get hold of the div created by the display call when the Comm\n",
       "    // socket was opened in Python.\n",
       "    var element = $(\"#\" + id);\n",
       "    var ws_proxy = comm_websocket_adapter(comm)\n",
       "\n",
       "    function ondownload(figure, format) {\n",
       "        window.open(figure.imageObj.src);\n",
       "    }\n",
       "\n",
       "    var fig = new mpl.figure(id, ws_proxy,\n",
       "                           ondownload,\n",
       "                           element.get(0));\n",
       "\n",
       "    // Call onopen now - mpl needs it, as it is assuming we've passed it a real\n",
       "    // web socket which is closed, not our websocket->open comm proxy.\n",
       "    ws_proxy.onopen();\n",
       "\n",
       "    fig.parent_element = element.get(0);\n",
       "    fig.cell_info = mpl.find_output_cell(\"<div id='\" + id + \"'></div>\");\n",
       "    if (!fig.cell_info) {\n",
       "        console.error(\"Failed to find cell for figure\", id, fig);\n",
       "        return;\n",
       "    }\n",
       "\n",
       "    var output_index = fig.cell_info[2]\n",
       "    var cell = fig.cell_info[0];\n",
       "\n",
       "};\n",
       "\n",
       "mpl.figure.prototype.handle_close = function(fig, msg) {\n",
       "    var width = fig.canvas.width/mpl.ratio\n",
       "    fig.root.unbind('remove')\n",
       "\n",
       "    // Update the output cell to use the data from the current canvas.\n",
       "    fig.push_to_output();\n",
       "    var dataURL = fig.canvas.toDataURL();\n",
       "    // Re-enable the keyboard manager in IPython - without this line, in FF,\n",
       "    // the notebook keyboard shortcuts fail.\n",
       "    IPython.keyboard_manager.enable()\n",
       "    $(fig.parent_element).html('<img src=\"' + dataURL + '\" width=\"' + width + '\">');\n",
       "    fig.close_ws(fig, msg);\n",
       "}\n",
       "\n",
       "mpl.figure.prototype.close_ws = function(fig, msg){\n",
       "    fig.send_message('closing', msg);\n",
       "    // fig.ws.close()\n",
       "}\n",
       "\n",
       "mpl.figure.prototype.push_to_output = function(remove_interactive) {\n",
       "    // Turn the data on the canvas into data in the output cell.\n",
       "    var width = this.canvas.width/mpl.ratio\n",
       "    var dataURL = this.canvas.toDataURL();\n",
       "    this.cell_info[1]['text/html'] = '<img src=\"' + dataURL + '\" width=\"' + width + '\">';\n",
       "}\n",
       "\n",
       "mpl.figure.prototype.updated_canvas_event = function() {\n",
       "    // Tell IPython that the notebook contents must change.\n",
       "    IPython.notebook.set_dirty(true);\n",
       "    this.send_message(\"ack\", {});\n",
       "    var fig = this;\n",
       "    // Wait a second, then push the new image to the DOM so\n",
       "    // that it is saved nicely (might be nice to debounce this).\n",
       "    setTimeout(function () { fig.push_to_output() }, 1000);\n",
       "}\n",
       "\n",
       "mpl.figure.prototype._init_toolbar = function() {\n",
       "    var fig = this;\n",
       "\n",
       "    var nav_element = $('<div/>')\n",
       "    nav_element.attr('style', 'width: 100%');\n",
       "    this.root.append(nav_element);\n",
       "\n",
       "    // Define a callback function for later on.\n",
       "    function toolbar_event(event) {\n",
       "        return fig.toolbar_button_onclick(event['data']);\n",
       "    }\n",
       "    function toolbar_mouse_event(event) {\n",
       "        return fig.toolbar_button_onmouseover(event['data']);\n",
       "    }\n",
       "\n",
       "    for(var toolbar_ind in mpl.toolbar_items){\n",
       "        var name = mpl.toolbar_items[toolbar_ind][0];\n",
       "        var tooltip = mpl.toolbar_items[toolbar_ind][1];\n",
       "        var image = mpl.toolbar_items[toolbar_ind][2];\n",
       "        var method_name = mpl.toolbar_items[toolbar_ind][3];\n",
       "\n",
       "        if (!name) { continue; };\n",
       "\n",
       "        var button = $('<button class=\"btn btn-default\" href=\"#\" title=\"' + name + '\"><i class=\"fa ' + image + ' fa-lg\"></i></button>');\n",
       "        button.click(method_name, toolbar_event);\n",
       "        button.mouseover(tooltip, toolbar_mouse_event);\n",
       "        nav_element.append(button);\n",
       "    }\n",
       "\n",
       "    // Add the status bar.\n",
       "    var status_bar = $('<span class=\"mpl-message\" style=\"text-align:right; float: right;\"/>');\n",
       "    nav_element.append(status_bar);\n",
       "    this.message = status_bar[0];\n",
       "\n",
       "    // Add the close button to the window.\n",
       "    var buttongrp = $('<div class=\"btn-group inline pull-right\"></div>');\n",
       "    var button = $('<button class=\"btn btn-mini btn-primary\" href=\"#\" title=\"Stop Interaction\"><i class=\"fa fa-power-off icon-remove icon-large\"></i></button>');\n",
       "    button.click(function (evt) { fig.handle_close(fig, {}); } );\n",
       "    button.mouseover('Stop Interaction', toolbar_mouse_event);\n",
       "    buttongrp.append(button);\n",
       "    var titlebar = this.root.find($('.ui-dialog-titlebar'));\n",
       "    titlebar.prepend(buttongrp);\n",
       "}\n",
       "\n",
       "mpl.figure.prototype._root_extra_style = function(el){\n",
       "    var fig = this\n",
       "    el.on(\"remove\", function(){\n",
       "\tfig.close_ws(fig, {});\n",
       "    });\n",
       "}\n",
       "\n",
       "mpl.figure.prototype._canvas_extra_style = function(el){\n",
       "    // this is important to make the div 'focusable\n",
       "    el.attr('tabindex', 0)\n",
       "    // reach out to IPython and tell the keyboard manager to turn it's self\n",
       "    // off when our div gets focus\n",
       "\n",
       "    // location in version 3\n",
       "    if (IPython.notebook.keyboard_manager) {\n",
       "        IPython.notebook.keyboard_manager.register_events(el);\n",
       "    }\n",
       "    else {\n",
       "        // location in version 2\n",
       "        IPython.keyboard_manager.register_events(el);\n",
       "    }\n",
       "\n",
       "}\n",
       "\n",
       "mpl.figure.prototype._key_event_extra = function(event, name) {\n",
       "    var manager = IPython.notebook.keyboard_manager;\n",
       "    if (!manager)\n",
       "        manager = IPython.keyboard_manager;\n",
       "\n",
       "    // Check for shift+enter\n",
       "    if (event.shiftKey && event.which == 13) {\n",
       "        this.canvas_div.blur();\n",
       "        event.shiftKey = false;\n",
       "        // Send a \"J\" for go to next cell\n",
       "        event.which = 74;\n",
       "        event.keyCode = 74;\n",
       "        manager.command_mode();\n",
       "        manager.handle_keydown(event);\n",
       "    }\n",
       "}\n",
       "\n",
       "mpl.figure.prototype.handle_save = function(fig, msg) {\n",
       "    fig.ondownload(fig, null);\n",
       "}\n",
       "\n",
       "\n",
       "mpl.find_output_cell = function(html_output) {\n",
       "    // Return the cell and output element which can be found *uniquely* in the notebook.\n",
       "    // Note - this is a bit hacky, but it is done because the \"notebook_saving.Notebook\"\n",
       "    // IPython event is triggered only after the cells have been serialised, which for\n",
       "    // our purposes (turning an active figure into a static one), is too late.\n",
       "    var cells = IPython.notebook.get_cells();\n",
       "    var ncells = cells.length;\n",
       "    for (var i=0; i<ncells; i++) {\n",
       "        var cell = cells[i];\n",
       "        if (cell.cell_type === 'code'){\n",
       "            for (var j=0; j<cell.output_area.outputs.length; j++) {\n",
       "                var data = cell.output_area.outputs[j];\n",
       "                if (data.data) {\n",
       "                    // IPython >= 3 moved mimebundle to data attribute of output\n",
       "                    data = data.data;\n",
       "                }\n",
       "                if (data['text/html'] == html_output) {\n",
       "                    return [cell, data, j];\n",
       "                }\n",
       "            }\n",
       "        }\n",
       "    }\n",
       "}\n",
       "\n",
       "// Register the function which deals with the matplotlib target/channel.\n",
       "// The kernel may be null if the page has been refreshed.\n",
       "if (IPython.notebook.kernel != null) {\n",
       "    IPython.notebook.kernel.comm_manager.register_target('matplotlib', mpl.mpl_figure_comm);\n",
       "}\n"
      ],
      "text/plain": [
       "<IPython.core.display.Javascript object>"
      ]
     },
     "metadata": {},
     "output_type": "display_data"
    },
    {
     "data": {
      "text/html": [
       "<img src=\"data:image/png;base64,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\" width=\"639.7499809339648\">"
      ],
      "text/plain": [
       "<IPython.core.display.HTML object>"
      ]
     },
     "metadata": {},
     "output_type": "display_data"
    },
    {
     "data": {
      "application/vnd.jupyter.widget-view+json": {
       "model_id": "750fe068ce934207a0df7a2c9e1fcefb"
      }
     },
     "metadata": {},
     "output_type": "display_data"
    },
    {
     "data": {
      "application/vnd.jupyter.widget-view+json": {
       "model_id": "eaca39dd41d7410b949bfd7ac2f0ec6b"
      }
     },
     "metadata": {},
     "output_type": "display_data"
    },
    {
     "data": {
      "application/vnd.jupyter.widget-view+json": {
       "model_id": "b76781853f1046b1b29b227ee7848d7a"
      }
     },
     "metadata": {},
     "output_type": "display_data"
    },
    {
     "data": {
      "application/vnd.jupyter.widget-view+json": {
       "model_id": "a4f13174170b43aa9031967b216ddd01"
      }
     },
     "metadata": {},
     "output_type": "display_data"
    },
    {
     "data": {
      "application/vnd.jupyter.widget-view+json": {
       "model_id": "0c06dfe667e248b5af22bb77b53bf87a"
      }
     },
     "metadata": {},
     "output_type": "display_data"
    },
    {
     "data": {
      "application/vnd.jupyter.widget-view+json": {
       "model_id": "5c87cf7c061b4a19ae03bdfa7106d697"
      }
     },
     "metadata": {},
     "output_type": "display_data"
    }
   ],
   "source": [
    "b = a.plot(sample_field='group', feature_field='taxonomy',\n",
    "           yticklabel_kwargs={'size': 9},\n",
    "           bary_fields=['oxygen'], \n",
    "           barx_fields=['group', 'categorical'],\n",
    "           barx_label_kwargs=[{'color': 'b'}, {'color': 'white', 'size': 9}],\n",
    "           cmap='viridis',\n",
    "           gui='jupyter',\n",
    "           title='simple figure');"
   ]
  },
  {
   "cell_type": "markdown",
   "metadata": {},
   "source": [
    "## No log scale of heatmap colors"
   ]
  },
  {
   "cell_type": "code",
   "execution_count": 6,
   "metadata": {},
   "outputs": [
    {
     "data": {
      "application/javascript": [
       "/* Put everything inside the global mpl namespace */\n",
       "window.mpl = {};\n",
       "\n",
       "\n",
       "mpl.get_websocket_type = function() {\n",
       "    if (typeof(WebSocket) !== 'undefined') {\n",
       "        return WebSocket;\n",
       "    } else if (typeof(MozWebSocket) !== 'undefined') {\n",
       "        return MozWebSocket;\n",
       "    } else {\n",
       "        alert('Your browser does not have WebSocket support.' +\n",
       "              'Please try Chrome, Safari or Firefox ≥ 6. ' +\n",
       "              'Firefox 4 and 5 are also supported but you ' +\n",
       "              'have to enable WebSockets in about:config.');\n",
       "    };\n",
       "}\n",
       "\n",
       "mpl.figure = function(figure_id, websocket, ondownload, parent_element) {\n",
       "    this.id = figure_id;\n",
       "\n",
       "    this.ws = websocket;\n",
       "\n",
       "    this.supports_binary = (this.ws.binaryType != undefined);\n",
       "\n",
       "    if (!this.supports_binary) {\n",
       "        var warnings = document.getElementById(\"mpl-warnings\");\n",
       "        if (warnings) {\n",
       "            warnings.style.display = 'block';\n",
       "            warnings.textContent = (\n",
       "                \"This browser does not support binary websocket messages. \" +\n",
       "                    \"Performance may be slow.\");\n",
       "        }\n",
       "    }\n",
       "\n",
       "    this.imageObj = new Image();\n",
       "\n",
       "    this.context = undefined;\n",
       "    this.message = undefined;\n",
       "    this.canvas = undefined;\n",
       "    this.rubberband_canvas = undefined;\n",
       "    this.rubberband_context = undefined;\n",
       "    this.format_dropdown = undefined;\n",
       "\n",
       "    this.image_mode = 'full';\n",
       "\n",
       "    this.root = $('<div/>');\n",
       "    this._root_extra_style(this.root)\n",
       "    this.root.attr('style', 'display: inline-block');\n",
       "\n",
       "    $(parent_element).append(this.root);\n",
       "\n",
       "    this._init_header(this);\n",
       "    this._init_canvas(this);\n",
       "    this._init_toolbar(this);\n",
       "\n",
       "    var fig = this;\n",
       "\n",
       "    this.waiting = false;\n",
       "\n",
       "    this.ws.onopen =  function () {\n",
       "            fig.send_message(\"supports_binary\", {value: fig.supports_binary});\n",
       "            fig.send_message(\"send_image_mode\", {});\n",
       "            if (mpl.ratio != 1) {\n",
       "                fig.send_message(\"set_dpi_ratio\", {'dpi_ratio': mpl.ratio});\n",
       "            }\n",
       "            fig.send_message(\"refresh\", {});\n",
       "        }\n",
       "\n",
       "    this.imageObj.onload = function() {\n",
       "            if (fig.image_mode == 'full') {\n",
       "                // Full images could contain transparency (where diff images\n",
       "                // almost always do), so we need to clear the canvas so that\n",
       "                // there is no ghosting.\n",
       "                fig.context.clearRect(0, 0, fig.canvas.width, fig.canvas.height);\n",
       "            }\n",
       "            fig.context.drawImage(fig.imageObj, 0, 0);\n",
       "        };\n",
       "\n",
       "    this.imageObj.onunload = function() {\n",
       "        fig.ws.close();\n",
       "    }\n",
       "\n",
       "    this.ws.onmessage = this._make_on_message_function(this);\n",
       "\n",
       "    this.ondownload = ondownload;\n",
       "}\n",
       "\n",
       "mpl.figure.prototype._init_header = function() {\n",
       "    var titlebar = $(\n",
       "        '<div class=\"ui-dialog-titlebar ui-widget-header ui-corner-all ' +\n",
       "        'ui-helper-clearfix\"/>');\n",
       "    var titletext = $(\n",
       "        '<div class=\"ui-dialog-title\" style=\"width: 100%; ' +\n",
       "        'text-align: center; padding: 3px;\"/>');\n",
       "    titlebar.append(titletext)\n",
       "    this.root.append(titlebar);\n",
       "    this.header = titletext[0];\n",
       "}\n",
       "\n",
       "\n",
       "\n",
       "mpl.figure.prototype._canvas_extra_style = function(canvas_div) {\n",
       "\n",
       "}\n",
       "\n",
       "\n",
       "mpl.figure.prototype._root_extra_style = function(canvas_div) {\n",
       "\n",
       "}\n",
       "\n",
       "mpl.figure.prototype._init_canvas = function() {\n",
       "    var fig = this;\n",
       "\n",
       "    var canvas_div = $('<div/>');\n",
       "\n",
       "    canvas_div.attr('style', 'position: relative; clear: both; outline: 0');\n",
       "\n",
       "    function canvas_keyboard_event(event) {\n",
       "        return fig.key_event(event, event['data']);\n",
       "    }\n",
       "\n",
       "    canvas_div.keydown('key_press', canvas_keyboard_event);\n",
       "    canvas_div.keyup('key_release', canvas_keyboard_event);\n",
       "    this.canvas_div = canvas_div\n",
       "    this._canvas_extra_style(canvas_div)\n",
       "    this.root.append(canvas_div);\n",
       "\n",
       "    var canvas = $('<canvas/>');\n",
       "    canvas.addClass('mpl-canvas');\n",
       "    canvas.attr('style', \"left: 0; top: 0; z-index: 0; outline: 0\")\n",
       "\n",
       "    this.canvas = canvas[0];\n",
       "    this.context = canvas[0].getContext(\"2d\");\n",
       "\n",
       "    var backingStore = this.context.backingStorePixelRatio ||\n",
       "\tthis.context.webkitBackingStorePixelRatio ||\n",
       "\tthis.context.mozBackingStorePixelRatio ||\n",
       "\tthis.context.msBackingStorePixelRatio ||\n",
       "\tthis.context.oBackingStorePixelRatio ||\n",
       "\tthis.context.backingStorePixelRatio || 1;\n",
       "\n",
       "    mpl.ratio = (window.devicePixelRatio || 1) / backingStore;\n",
       "\n",
       "    var rubberband = $('<canvas/>');\n",
       "    rubberband.attr('style', \"position: absolute; left: 0; top: 0; z-index: 1;\")\n",
       "\n",
       "    var pass_mouse_events = true;\n",
       "\n",
       "    canvas_div.resizable({\n",
       "        start: function(event, ui) {\n",
       "            pass_mouse_events = false;\n",
       "        },\n",
       "        resize: function(event, ui) {\n",
       "            fig.request_resize(ui.size.width, ui.size.height);\n",
       "        },\n",
       "        stop: function(event, ui) {\n",
       "            pass_mouse_events = true;\n",
       "            fig.request_resize(ui.size.width, ui.size.height);\n",
       "        },\n",
       "    });\n",
       "\n",
       "    function mouse_event_fn(event) {\n",
       "        if (pass_mouse_events)\n",
       "            return fig.mouse_event(event, event['data']);\n",
       "    }\n",
       "\n",
       "    rubberband.mousedown('button_press', mouse_event_fn);\n",
       "    rubberband.mouseup('button_release', mouse_event_fn);\n",
       "    // Throttle sequential mouse events to 1 every 20ms.\n",
       "    rubberband.mousemove('motion_notify', mouse_event_fn);\n",
       "\n",
       "    rubberband.mouseenter('figure_enter', mouse_event_fn);\n",
       "    rubberband.mouseleave('figure_leave', mouse_event_fn);\n",
       "\n",
       "    canvas_div.on(\"wheel\", function (event) {\n",
       "        event = event.originalEvent;\n",
       "        event['data'] = 'scroll'\n",
       "        if (event.deltaY < 0) {\n",
       "            event.step = 1;\n",
       "        } else {\n",
       "            event.step = -1;\n",
       "        }\n",
       "        mouse_event_fn(event);\n",
       "    });\n",
       "\n",
       "    canvas_div.append(canvas);\n",
       "    canvas_div.append(rubberband);\n",
       "\n",
       "    this.rubberband = rubberband;\n",
       "    this.rubberband_canvas = rubberband[0];\n",
       "    this.rubberband_context = rubberband[0].getContext(\"2d\");\n",
       "    this.rubberband_context.strokeStyle = \"#000000\";\n",
       "\n",
       "    this._resize_canvas = function(width, height) {\n",
       "        // Keep the size of the canvas, canvas container, and rubber band\n",
       "        // canvas in synch.\n",
       "        canvas_div.css('width', width)\n",
       "        canvas_div.css('height', height)\n",
       "\n",
       "        canvas.attr('width', width * mpl.ratio);\n",
       "        canvas.attr('height', height * mpl.ratio);\n",
       "        canvas.attr('style', 'width: ' + width + 'px; height: ' + height + 'px;');\n",
       "\n",
       "        rubberband.attr('width', width);\n",
       "        rubberband.attr('height', height);\n",
       "    }\n",
       "\n",
       "    // Set the figure to an initial 600x600px, this will subsequently be updated\n",
       "    // upon first draw.\n",
       "    this._resize_canvas(600, 600);\n",
       "\n",
       "    // Disable right mouse context menu.\n",
       "    $(this.rubberband_canvas).bind(\"contextmenu\",function(e){\n",
       "        return false;\n",
       "    });\n",
       "\n",
       "    function set_focus () {\n",
       "        canvas.focus();\n",
       "        canvas_div.focus();\n",
       "    }\n",
       "\n",
       "    window.setTimeout(set_focus, 100);\n",
       "}\n",
       "\n",
       "mpl.figure.prototype._init_toolbar = function() {\n",
       "    var fig = this;\n",
       "\n",
       "    var nav_element = $('<div/>')\n",
       "    nav_element.attr('style', 'width: 100%');\n",
       "    this.root.append(nav_element);\n",
       "\n",
       "    // Define a callback function for later on.\n",
       "    function toolbar_event(event) {\n",
       "        return fig.toolbar_button_onclick(event['data']);\n",
       "    }\n",
       "    function toolbar_mouse_event(event) {\n",
       "        return fig.toolbar_button_onmouseover(event['data']);\n",
       "    }\n",
       "\n",
       "    for(var toolbar_ind in mpl.toolbar_items) {\n",
       "        var name = mpl.toolbar_items[toolbar_ind][0];\n",
       "        var tooltip = mpl.toolbar_items[toolbar_ind][1];\n",
       "        var image = mpl.toolbar_items[toolbar_ind][2];\n",
       "        var method_name = mpl.toolbar_items[toolbar_ind][3];\n",
       "\n",
       "        if (!name) {\n",
       "            // put a spacer in here.\n",
       "            continue;\n",
       "        }\n",
       "        var button = $('<button/>');\n",
       "        button.addClass('ui-button ui-widget ui-state-default ui-corner-all ' +\n",
       "                        'ui-button-icon-only');\n",
       "        button.attr('role', 'button');\n",
       "        button.attr('aria-disabled', 'false');\n",
       "        button.click(method_name, toolbar_event);\n",
       "        button.mouseover(tooltip, toolbar_mouse_event);\n",
       "\n",
       "        var icon_img = $('<span/>');\n",
       "        icon_img.addClass('ui-button-icon-primary ui-icon');\n",
       "        icon_img.addClass(image);\n",
       "        icon_img.addClass('ui-corner-all');\n",
       "\n",
       "        var tooltip_span = $('<span/>');\n",
       "        tooltip_span.addClass('ui-button-text');\n",
       "        tooltip_span.html(tooltip);\n",
       "\n",
       "        button.append(icon_img);\n",
       "        button.append(tooltip_span);\n",
       "\n",
       "        nav_element.append(button);\n",
       "    }\n",
       "\n",
       "    var fmt_picker_span = $('<span/>');\n",
       "\n",
       "    var fmt_picker = $('<select/>');\n",
       "    fmt_picker.addClass('mpl-toolbar-option ui-widget ui-widget-content');\n",
       "    fmt_picker_span.append(fmt_picker);\n",
       "    nav_element.append(fmt_picker_span);\n",
       "    this.format_dropdown = fmt_picker[0];\n",
       "\n",
       "    for (var ind in mpl.extensions) {\n",
       "        var fmt = mpl.extensions[ind];\n",
       "        var option = $(\n",
       "            '<option/>', {selected: fmt === mpl.default_extension}).html(fmt);\n",
       "        fmt_picker.append(option)\n",
       "    }\n",
       "\n",
       "    // Add hover states to the ui-buttons\n",
       "    $( \".ui-button\" ).hover(\n",
       "        function() { $(this).addClass(\"ui-state-hover\");},\n",
       "        function() { $(this).removeClass(\"ui-state-hover\");}\n",
       "    );\n",
       "\n",
       "    var status_bar = $('<span class=\"mpl-message\"/>');\n",
       "    nav_element.append(status_bar);\n",
       "    this.message = status_bar[0];\n",
       "}\n",
       "\n",
       "mpl.figure.prototype.request_resize = function(x_pixels, y_pixels) {\n",
       "    // Request matplotlib to resize the figure. Matplotlib will then trigger a resize in the client,\n",
       "    // which will in turn request a refresh of the image.\n",
       "    this.send_message('resize', {'width': x_pixels, 'height': y_pixels});\n",
       "}\n",
       "\n",
       "mpl.figure.prototype.send_message = function(type, properties) {\n",
       "    properties['type'] = type;\n",
       "    properties['figure_id'] = this.id;\n",
       "    this.ws.send(JSON.stringify(properties));\n",
       "}\n",
       "\n",
       "mpl.figure.prototype.send_draw_message = function() {\n",
       "    if (!this.waiting) {\n",
       "        this.waiting = true;\n",
       "        this.ws.send(JSON.stringify({type: \"draw\", figure_id: this.id}));\n",
       "    }\n",
       "}\n",
       "\n",
       "\n",
       "mpl.figure.prototype.handle_save = function(fig, msg) {\n",
       "    var format_dropdown = fig.format_dropdown;\n",
       "    var format = format_dropdown.options[format_dropdown.selectedIndex].value;\n",
       "    fig.ondownload(fig, format);\n",
       "}\n",
       "\n",
       "\n",
       "mpl.figure.prototype.handle_resize = function(fig, msg) {\n",
       "    var size = msg['size'];\n",
       "    if (size[0] != fig.canvas.width || size[1] != fig.canvas.height) {\n",
       "        fig._resize_canvas(size[0], size[1]);\n",
       "        fig.send_message(\"refresh\", {});\n",
       "    };\n",
       "}\n",
       "\n",
       "mpl.figure.prototype.handle_rubberband = function(fig, msg) {\n",
       "    var x0 = msg['x0'] / mpl.ratio;\n",
       "    var y0 = (fig.canvas.height - msg['y0']) / mpl.ratio;\n",
       "    var x1 = msg['x1'] / mpl.ratio;\n",
       "    var y1 = (fig.canvas.height - msg['y1']) / mpl.ratio;\n",
       "    x0 = Math.floor(x0) + 0.5;\n",
       "    y0 = Math.floor(y0) + 0.5;\n",
       "    x1 = Math.floor(x1) + 0.5;\n",
       "    y1 = Math.floor(y1) + 0.5;\n",
       "    var min_x = Math.min(x0, x1);\n",
       "    var min_y = Math.min(y0, y1);\n",
       "    var width = Math.abs(x1 - x0);\n",
       "    var height = Math.abs(y1 - y0);\n",
       "\n",
       "    fig.rubberband_context.clearRect(\n",
       "        0, 0, fig.canvas.width, fig.canvas.height);\n",
       "\n",
       "    fig.rubberband_context.strokeRect(min_x, min_y, width, height);\n",
       "}\n",
       "\n",
       "mpl.figure.prototype.handle_figure_label = function(fig, msg) {\n",
       "    // Updates the figure title.\n",
       "    fig.header.textContent = msg['label'];\n",
       "}\n",
       "\n",
       "mpl.figure.prototype.handle_cursor = function(fig, msg) {\n",
       "    var cursor = msg['cursor'];\n",
       "    switch(cursor)\n",
       "    {\n",
       "    case 0:\n",
       "        cursor = 'pointer';\n",
       "        break;\n",
       "    case 1:\n",
       "        cursor = 'default';\n",
       "        break;\n",
       "    case 2:\n",
       "        cursor = 'crosshair';\n",
       "        break;\n",
       "    case 3:\n",
       "        cursor = 'move';\n",
       "        break;\n",
       "    }\n",
       "    fig.rubberband_canvas.style.cursor = cursor;\n",
       "}\n",
       "\n",
       "mpl.figure.prototype.handle_message = function(fig, msg) {\n",
       "    fig.message.textContent = msg['message'];\n",
       "}\n",
       "\n",
       "mpl.figure.prototype.handle_draw = function(fig, msg) {\n",
       "    // Request the server to send over a new figure.\n",
       "    fig.send_draw_message();\n",
       "}\n",
       "\n",
       "mpl.figure.prototype.handle_image_mode = function(fig, msg) {\n",
       "    fig.image_mode = msg['mode'];\n",
       "}\n",
       "\n",
       "mpl.figure.prototype.updated_canvas_event = function() {\n",
       "    // Called whenever the canvas gets updated.\n",
       "    this.send_message(\"ack\", {});\n",
       "}\n",
       "\n",
       "// A function to construct a web socket function for onmessage handling.\n",
       "// Called in the figure constructor.\n",
       "mpl.figure.prototype._make_on_message_function = function(fig) {\n",
       "    return function socket_on_message(evt) {\n",
       "        if (evt.data instanceof Blob) {\n",
       "            /* FIXME: We get \"Resource interpreted as Image but\n",
       "             * transferred with MIME type text/plain:\" errors on\n",
       "             * Chrome.  But how to set the MIME type?  It doesn't seem\n",
       "             * to be part of the websocket stream */\n",
       "            evt.data.type = \"image/png\";\n",
       "\n",
       "            /* Free the memory for the previous frames */\n",
       "            if (fig.imageObj.src) {\n",
       "                (window.URL || window.webkitURL).revokeObjectURL(\n",
       "                    fig.imageObj.src);\n",
       "            }\n",
       "\n",
       "            fig.imageObj.src = (window.URL || window.webkitURL).createObjectURL(\n",
       "                evt.data);\n",
       "            fig.updated_canvas_event();\n",
       "            fig.waiting = false;\n",
       "            return;\n",
       "        }\n",
       "        else if (typeof evt.data === 'string' && evt.data.slice(0, 21) == \"data:image/png;base64\") {\n",
       "            fig.imageObj.src = evt.data;\n",
       "            fig.updated_canvas_event();\n",
       "            fig.waiting = false;\n",
       "            return;\n",
       "        }\n",
       "\n",
       "        var msg = JSON.parse(evt.data);\n",
       "        var msg_type = msg['type'];\n",
       "\n",
       "        // Call the  \"handle_{type}\" callback, which takes\n",
       "        // the figure and JSON message as its only arguments.\n",
       "        try {\n",
       "            var callback = fig[\"handle_\" + msg_type];\n",
       "        } catch (e) {\n",
       "            console.log(\"No handler for the '\" + msg_type + \"' message type: \", msg);\n",
       "            return;\n",
       "        }\n",
       "\n",
       "        if (callback) {\n",
       "            try {\n",
       "                // console.log(\"Handling '\" + msg_type + \"' message: \", msg);\n",
       "                callback(fig, msg);\n",
       "            } catch (e) {\n",
       "                console.log(\"Exception inside the 'handler_\" + msg_type + \"' callback:\", e, e.stack, msg);\n",
       "            }\n",
       "        }\n",
       "    };\n",
       "}\n",
       "\n",
       "// from http://stackoverflow.com/questions/1114465/getting-mouse-location-in-canvas\n",
       "mpl.findpos = function(e) {\n",
       "    //this section is from http://www.quirksmode.org/js/events_properties.html\n",
       "    var targ;\n",
       "    if (!e)\n",
       "        e = window.event;\n",
       "    if (e.target)\n",
       "        targ = e.target;\n",
       "    else if (e.srcElement)\n",
       "        targ = e.srcElement;\n",
       "    if (targ.nodeType == 3) // defeat Safari bug\n",
       "        targ = targ.parentNode;\n",
       "\n",
       "    // jQuery normalizes the pageX and pageY\n",
       "    // pageX,Y are the mouse positions relative to the document\n",
       "    // offset() returns the position of the element relative to the document\n",
       "    var x = e.pageX - $(targ).offset().left;\n",
       "    var y = e.pageY - $(targ).offset().top;\n",
       "\n",
       "    return {\"x\": x, \"y\": y};\n",
       "};\n",
       "\n",
       "/*\n",
       " * return a copy of an object with only non-object keys\n",
       " * we need this to avoid circular references\n",
       " * http://stackoverflow.com/a/24161582/3208463\n",
       " */\n",
       "function simpleKeys (original) {\n",
       "  return Object.keys(original).reduce(function (obj, key) {\n",
       "    if (typeof original[key] !== 'object')\n",
       "        obj[key] = original[key]\n",
       "    return obj;\n",
       "  }, {});\n",
       "}\n",
       "\n",
       "mpl.figure.prototype.mouse_event = function(event, name) {\n",
       "    var canvas_pos = mpl.findpos(event)\n",
       "\n",
       "    if (name === 'button_press')\n",
       "    {\n",
       "        this.canvas.focus();\n",
       "        this.canvas_div.focus();\n",
       "    }\n",
       "\n",
       "    var x = canvas_pos.x * mpl.ratio;\n",
       "    var y = canvas_pos.y * mpl.ratio;\n",
       "\n",
       "    this.send_message(name, {x: x, y: y, button: event.button,\n",
       "                             step: event.step,\n",
       "                             guiEvent: simpleKeys(event)});\n",
       "\n",
       "    /* This prevents the web browser from automatically changing to\n",
       "     * the text insertion cursor when the button is pressed.  We want\n",
       "     * to control all of the cursor setting manually through the\n",
       "     * 'cursor' event from matplotlib */\n",
       "    event.preventDefault();\n",
       "    return false;\n",
       "}\n",
       "\n",
       "mpl.figure.prototype._key_event_extra = function(event, name) {\n",
       "    // Handle any extra behaviour associated with a key event\n",
       "}\n",
       "\n",
       "mpl.figure.prototype.key_event = function(event, name) {\n",
       "\n",
       "    // Prevent repeat events\n",
       "    if (name == 'key_press')\n",
       "    {\n",
       "        if (event.which === this._key)\n",
       "            return;\n",
       "        else\n",
       "            this._key = event.which;\n",
       "    }\n",
       "    if (name == 'key_release')\n",
       "        this._key = null;\n",
       "\n",
       "    var value = '';\n",
       "    if (event.ctrlKey && event.which != 17)\n",
       "        value += \"ctrl+\";\n",
       "    if (event.altKey && event.which != 18)\n",
       "        value += \"alt+\";\n",
       "    if (event.shiftKey && event.which != 16)\n",
       "        value += \"shift+\";\n",
       "\n",
       "    value += 'k';\n",
       "    value += event.which.toString();\n",
       "\n",
       "    this._key_event_extra(event, name);\n",
       "\n",
       "    this.send_message(name, {key: value,\n",
       "                             guiEvent: simpleKeys(event)});\n",
       "    return false;\n",
       "}\n",
       "\n",
       "mpl.figure.prototype.toolbar_button_onclick = function(name) {\n",
       "    if (name == 'download') {\n",
       "        this.handle_save(this, null);\n",
       "    } else {\n",
       "        this.send_message(\"toolbar_button\", {name: name});\n",
       "    }\n",
       "};\n",
       "\n",
       "mpl.figure.prototype.toolbar_button_onmouseover = function(tooltip) {\n",
       "    this.message.textContent = tooltip;\n",
       "};\n",
       "mpl.toolbar_items = [[\"Home\", \"Reset original view\", \"fa fa-home icon-home\", \"home\"], [\"Back\", \"Back to  previous view\", \"fa fa-arrow-left icon-arrow-left\", \"back\"], [\"Forward\", \"Forward to next view\", \"fa fa-arrow-right icon-arrow-right\", \"forward\"], [\"\", \"\", \"\", \"\"], [\"Pan\", \"Pan axes with left mouse, zoom with right\", \"fa fa-arrows icon-move\", \"pan\"], [\"Zoom\", \"Zoom to rectangle\", \"fa fa-square-o icon-check-empty\", \"zoom\"], [\"\", \"\", \"\", \"\"], [\"Download\", \"Download plot\", \"fa fa-floppy-o icon-save\", \"download\"]];\n",
       "\n",
       "mpl.extensions = [\"eps\", \"jpeg\", \"pdf\", \"png\", \"ps\", \"raw\", \"svg\", \"tif\"];\n",
       "\n",
       "mpl.default_extension = \"png\";var comm_websocket_adapter = function(comm) {\n",
       "    // Create a \"websocket\"-like object which calls the given IPython comm\n",
       "    // object with the appropriate methods. Currently this is a non binary\n",
       "    // socket, so there is still some room for performance tuning.\n",
       "    var ws = {};\n",
       "\n",
       "    ws.close = function() {\n",
       "        comm.close()\n",
       "    };\n",
       "    ws.send = function(m) {\n",
       "        //console.log('sending', m);\n",
       "        comm.send(m);\n",
       "    };\n",
       "    // Register the callback with on_msg.\n",
       "    comm.on_msg(function(msg) {\n",
       "        //console.log('receiving', msg['content']['data'], msg);\n",
       "        // Pass the mpl event to the overriden (by mpl) onmessage function.\n",
       "        ws.onmessage(msg['content']['data'])\n",
       "    });\n",
       "    return ws;\n",
       "}\n",
       "\n",
       "mpl.mpl_figure_comm = function(comm, msg) {\n",
       "    // This is the function which gets called when the mpl process\n",
       "    // starts-up an IPython Comm through the \"matplotlib\" channel.\n",
       "\n",
       "    var id = msg.content.data.id;\n",
       "    // Get hold of the div created by the display call when the Comm\n",
       "    // socket was opened in Python.\n",
       "    var element = $(\"#\" + id);\n",
       "    var ws_proxy = comm_websocket_adapter(comm)\n",
       "\n",
       "    function ondownload(figure, format) {\n",
       "        window.open(figure.imageObj.src);\n",
       "    }\n",
       "\n",
       "    var fig = new mpl.figure(id, ws_proxy,\n",
       "                           ondownload,\n",
       "                           element.get(0));\n",
       "\n",
       "    // Call onopen now - mpl needs it, as it is assuming we've passed it a real\n",
       "    // web socket which is closed, not our websocket->open comm proxy.\n",
       "    ws_proxy.onopen();\n",
       "\n",
       "    fig.parent_element = element.get(0);\n",
       "    fig.cell_info = mpl.find_output_cell(\"<div id='\" + id + \"'></div>\");\n",
       "    if (!fig.cell_info) {\n",
       "        console.error(\"Failed to find cell for figure\", id, fig);\n",
       "        return;\n",
       "    }\n",
       "\n",
       "    var output_index = fig.cell_info[2]\n",
       "    var cell = fig.cell_info[0];\n",
       "\n",
       "};\n",
       "\n",
       "mpl.figure.prototype.handle_close = function(fig, msg) {\n",
       "    var width = fig.canvas.width/mpl.ratio\n",
       "    fig.root.unbind('remove')\n",
       "\n",
       "    // Update the output cell to use the data from the current canvas.\n",
       "    fig.push_to_output();\n",
       "    var dataURL = fig.canvas.toDataURL();\n",
       "    // Re-enable the keyboard manager in IPython - without this line, in FF,\n",
       "    // the notebook keyboard shortcuts fail.\n",
       "    IPython.keyboard_manager.enable()\n",
       "    $(fig.parent_element).html('<img src=\"' + dataURL + '\" width=\"' + width + '\">');\n",
       "    fig.close_ws(fig, msg);\n",
       "}\n",
       "\n",
       "mpl.figure.prototype.close_ws = function(fig, msg){\n",
       "    fig.send_message('closing', msg);\n",
       "    // fig.ws.close()\n",
       "}\n",
       "\n",
       "mpl.figure.prototype.push_to_output = function(remove_interactive) {\n",
       "    // Turn the data on the canvas into data in the output cell.\n",
       "    var width = this.canvas.width/mpl.ratio\n",
       "    var dataURL = this.canvas.toDataURL();\n",
       "    this.cell_info[1]['text/html'] = '<img src=\"' + dataURL + '\" width=\"' + width + '\">';\n",
       "}\n",
       "\n",
       "mpl.figure.prototype.updated_canvas_event = function() {\n",
       "    // Tell IPython that the notebook contents must change.\n",
       "    IPython.notebook.set_dirty(true);\n",
       "    this.send_message(\"ack\", {});\n",
       "    var fig = this;\n",
       "    // Wait a second, then push the new image to the DOM so\n",
       "    // that it is saved nicely (might be nice to debounce this).\n",
       "    setTimeout(function () { fig.push_to_output() }, 1000);\n",
       "}\n",
       "\n",
       "mpl.figure.prototype._init_toolbar = function() {\n",
       "    var fig = this;\n",
       "\n",
       "    var nav_element = $('<div/>')\n",
       "    nav_element.attr('style', 'width: 100%');\n",
       "    this.root.append(nav_element);\n",
       "\n",
       "    // Define a callback function for later on.\n",
       "    function toolbar_event(event) {\n",
       "        return fig.toolbar_button_onclick(event['data']);\n",
       "    }\n",
       "    function toolbar_mouse_event(event) {\n",
       "        return fig.toolbar_button_onmouseover(event['data']);\n",
       "    }\n",
       "\n",
       "    for(var toolbar_ind in mpl.toolbar_items){\n",
       "        var name = mpl.toolbar_items[toolbar_ind][0];\n",
       "        var tooltip = mpl.toolbar_items[toolbar_ind][1];\n",
       "        var image = mpl.toolbar_items[toolbar_ind][2];\n",
       "        var method_name = mpl.toolbar_items[toolbar_ind][3];\n",
       "\n",
       "        if (!name) { continue; };\n",
       "\n",
       "        var button = $('<button class=\"btn btn-default\" href=\"#\" title=\"' + name + '\"><i class=\"fa ' + image + ' fa-lg\"></i></button>');\n",
       "        button.click(method_name, toolbar_event);\n",
       "        button.mouseover(tooltip, toolbar_mouse_event);\n",
       "        nav_element.append(button);\n",
       "    }\n",
       "\n",
       "    // Add the status bar.\n",
       "    var status_bar = $('<span class=\"mpl-message\" style=\"text-align:right; float: right;\"/>');\n",
       "    nav_element.append(status_bar);\n",
       "    this.message = status_bar[0];\n",
       "\n",
       "    // Add the close button to the window.\n",
       "    var buttongrp = $('<div class=\"btn-group inline pull-right\"></div>');\n",
       "    var button = $('<button class=\"btn btn-mini btn-primary\" href=\"#\" title=\"Stop Interaction\"><i class=\"fa fa-power-off icon-remove icon-large\"></i></button>');\n",
       "    button.click(function (evt) { fig.handle_close(fig, {}); } );\n",
       "    button.mouseover('Stop Interaction', toolbar_mouse_event);\n",
       "    buttongrp.append(button);\n",
       "    var titlebar = this.root.find($('.ui-dialog-titlebar'));\n",
       "    titlebar.prepend(buttongrp);\n",
       "}\n",
       "\n",
       "mpl.figure.prototype._root_extra_style = function(el){\n",
       "    var fig = this\n",
       "    el.on(\"remove\", function(){\n",
       "\tfig.close_ws(fig, {});\n",
       "    });\n",
       "}\n",
       "\n",
       "mpl.figure.prototype._canvas_extra_style = function(el){\n",
       "    // this is important to make the div 'focusable\n",
       "    el.attr('tabindex', 0)\n",
       "    // reach out to IPython and tell the keyboard manager to turn it's self\n",
       "    // off when our div gets focus\n",
       "\n",
       "    // location in version 3\n",
       "    if (IPython.notebook.keyboard_manager) {\n",
       "        IPython.notebook.keyboard_manager.register_events(el);\n",
       "    }\n",
       "    else {\n",
       "        // location in version 2\n",
       "        IPython.keyboard_manager.register_events(el);\n",
       "    }\n",
       "\n",
       "}\n",
       "\n",
       "mpl.figure.prototype._key_event_extra = function(event, name) {\n",
       "    var manager = IPython.notebook.keyboard_manager;\n",
       "    if (!manager)\n",
       "        manager = IPython.keyboard_manager;\n",
       "\n",
       "    // Check for shift+enter\n",
       "    if (event.shiftKey && event.which == 13) {\n",
       "        this.canvas_div.blur();\n",
       "        event.shiftKey = false;\n",
       "        // Send a \"J\" for go to next cell\n",
       "        event.which = 74;\n",
       "        event.keyCode = 74;\n",
       "        manager.command_mode();\n",
       "        manager.handle_keydown(event);\n",
       "    }\n",
       "}\n",
       "\n",
       "mpl.figure.prototype.handle_save = function(fig, msg) {\n",
       "    fig.ondownload(fig, null);\n",
       "}\n",
       "\n",
       "\n",
       "mpl.find_output_cell = function(html_output) {\n",
       "    // Return the cell and output element which can be found *uniquely* in the notebook.\n",
       "    // Note - this is a bit hacky, but it is done because the \"notebook_saving.Notebook\"\n",
       "    // IPython event is triggered only after the cells have been serialised, which for\n",
       "    // our purposes (turning an active figure into a static one), is too late.\n",
       "    var cells = IPython.notebook.get_cells();\n",
       "    var ncells = cells.length;\n",
       "    for (var i=0; i<ncells; i++) {\n",
       "        var cell = cells[i];\n",
       "        if (cell.cell_type === 'code'){\n",
       "            for (var j=0; j<cell.output_area.outputs.length; j++) {\n",
       "                var data = cell.output_area.outputs[j];\n",
       "                if (data.data) {\n",
       "                    // IPython >= 3 moved mimebundle to data attribute of output\n",
       "                    data = data.data;\n",
       "                }\n",
       "                if (data['text/html'] == html_output) {\n",
       "                    return [cell, data, j];\n",
       "                }\n",
       "            }\n",
       "        }\n",
       "    }\n",
       "}\n",
       "\n",
       "// Register the function which deals with the matplotlib target/channel.\n",
       "// The kernel may be null if the page has been refreshed.\n",
       "if (IPython.notebook.kernel != null) {\n",
       "    IPython.notebook.kernel.comm_manager.register_target('matplotlib', mpl.mpl_figure_comm);\n",
       "}\n"
      ],
      "text/plain": [
       "<IPython.core.display.Javascript object>"
      ]
     },
     "metadata": {},
     "output_type": "display_data"
    },
    {
     "data": {
      "text/html": [
       "<img src=\"data:image/png;base64,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\" width=\"639.7499809339648\">"
      ],
      "text/plain": [
       "<IPython.core.display.HTML object>"
      ]
     },
     "metadata": {},
     "output_type": "display_data"
    },
    {
     "data": {
      "application/vnd.jupyter.widget-view+json": {
       "model_id": "ddc5dfbaf6cc48a693b668fbeb452324"
      }
     },
     "metadata": {},
     "output_type": "display_data"
    },
    {
     "data": {
      "application/vnd.jupyter.widget-view+json": {
       "model_id": "5d6b3a2ecd8d4e49b97ec75825f8c884"
      }
     },
     "metadata": {},
     "output_type": "display_data"
    },
    {
     "data": {
      "application/vnd.jupyter.widget-view+json": {
       "model_id": "d0fe42d9920a4f1dbd52a959b4d07ad4"
      }
     },
     "metadata": {},
     "output_type": "display_data"
    },
    {
     "data": {
      "application/vnd.jupyter.widget-view+json": {
       "model_id": "3980a9116169415892a1dd6216b76a20"
      }
     },
     "metadata": {},
     "output_type": "display_data"
    },
    {
     "data": {
      "application/vnd.jupyter.widget-view+json": {
       "model_id": "6de4ba4cc9044e7181329f9f3a2a0172"
      }
     },
     "metadata": {},
     "output_type": "display_data"
    },
    {
     "data": {
      "application/vnd.jupyter.widget-view+json": {
       "model_id": "321522afc85d49c0968dc89f883e9986"
      }
     },
     "metadata": {},
     "output_type": "display_data"
    }
   ],
   "source": [
    "b = a.plot(sample_field='group', feature_field='taxonomy', yticklabel_kwargs={'size': 9},\n",
    "           bary_fields=['oxygen'], barx_fields=['group', 'categorical'],\n",
    "           barx_label_kwargs=[{'color': 'b'}, {'color': 'white', 'size': 9}],\n",
    "           cmap='viridis', norm=mpl.colors.Normalize(),\n",
    "           gui='jupyter', title='simple figure');"
   ]
  },
  {
   "cell_type": "code",
   "execution_count": null,
   "metadata": {
    "collapsed": true
   },
   "outputs": [],
   "source": []
  }
 ],
 "metadata": {
  "anaconda-cloud": {},
  "kernelspec": {
   "display_name": "Python 3",
   "language": "python",
   "name": "python3"
  },
  "language_info": {
   "codemirror_mode": {
    "name": "ipython",
    "version": 3
   },
   "file_extension": ".py",
   "mimetype": "text/x-python",
   "name": "python",
   "nbconvert_exporter": "python",
   "pygments_lexer": "ipython3",
   "version": "3.5.3"
  },
  "notify_time": "30",
  "toc": {
   "nav_menu": {
    "height": "48px",
    "width": "251px"
   },
   "number_sections": true,
   "sideBar": true,
   "skip_h1_title": false,
   "toc_cell": false,
   "toc_position": {},
   "toc_section_display": "block",
   "toc_window_display": false
  },
  "widgets": {
   "application/vnd.jupyter.widget-state+json": {
    "state": {
     "000511e190d34fc7a55cc999780bbe6b": {
      "model_module": "@jupyter-widgets/controls",
      "model_module_version": "1.0.0",
      "model_name": "ButtonModel",
      "state": {
       "description": "Annotate",
       "layout": "IPY_MODEL_4f464af4da23451a856be68754ae15b6",
       "style": "IPY_MODEL_fbbfdde6408d4d7d9e6044ff76ed23a3"
      }
     },
     "002cb088b10f4b4282410cee493af930": {
      "model_module": "@jupyter-widgets/controls",
      "model_module_version": "1.0.0",
      "model_name": "ButtonStyleModel",
      "state": {}
     },
     "005184ab2b7c40a6a0dd1bd52880e8ea": {
      "model_module": "@jupyter-widgets/controls",
      "model_module_version": "1.0.0",
      "model_name": "DropdownModel",
      "state": {
       "_options_labels": [
        "ori.order",
        "group",
        "new.order",
        "categorical",
        "_calour_original_abundance"
       ],
       "index": 0,
       "layout": "IPY_MODEL_e78b775f90b54433b7c6c993b393d783",
       "style": "IPY_MODEL_1cdffe63f17a4ec7938b0dd19311d3c2"
      }
     },
     "005dab0790f147f496ce3f1440a54c24": {
      "model_module": "@jupyter-widgets/base",
      "model_module_version": "1.0.0",
      "model_name": "LayoutModel",
      "state": {}
     },
     "00b35cc801fb45c88ad583bd97764686": {
      "model_module": "@jupyter-widgets/base",
      "model_module_version": "1.0.0",
      "model_name": "LayoutModel",
      "state": {}
     },
     "00c5cc0c541145ef889071188e37e46f": {
      "model_module": "@jupyter-widgets/controls",
      "model_module_version": "1.0.0",
      "model_name": "DescriptionStyleModel",
      "state": {
       "description_width": ""
      }
     },
     "00d386f8218c49c8a5e220134fd4dacc": {
      "model_module": "@jupyter-widgets/base",
      "model_module_version": "1.0.0",
      "model_name": "LayoutModel",
      "state": {}
     },
     "00e25675da1049568f10c1796c6c6c5a": {
      "model_module": "@jupyter-widgets/base",
      "model_module_version": "1.0.0",
      "model_name": "LayoutModel",
      "state": {
       "width": "80%"
      }
     },
     "011264ac05254126802325ccfac4e148": {
      "model_module": "@jupyter-widgets/base",
      "model_module_version": "1.0.0",
      "model_name": "LayoutModel",
      "state": {}
     },
     "01153d9064cb4df28e3ea8f98c662245": {
      "model_module": "@jupyter-widgets/base",
      "model_module_version": "1.0.0",
      "model_name": "LayoutModel",
      "state": {}
     },
     "01474d88c84e4f1b8cdb59872b22ba25": {
      "model_module": "@jupyter-widgets/controls",
      "model_module_version": "1.0.0",
      "model_name": "DescriptionStyleModel",
      "state": {
       "description_width": ""
      }
     },
     "017be272e1c349508a926e10c0a688a5": {
      "model_module": "@jupyter-widgets/controls",
      "model_module_version": "1.0.0",
      "model_name": "HBoxModel",
      "state": {
       "children": [
        "IPY_MODEL_f1ea95ca57304dd592563270d5ba2a90",
        "IPY_MODEL_b2dbcb5139814badb829f3b8bbc8ba35",
        "IPY_MODEL_ff776c412b9b4ebe837047240a71f1f1"
       ],
       "layout": "IPY_MODEL_8990643322ae487c8d7077c02177e3db"
      }
     },
     "0188bd766c4041b48cb5c820dc4c873d": {
      "model_module": "@jupyter-widgets/controls",
      "model_module_version": "1.0.0",
      "model_name": "TextModel",
      "state": {
       "layout": "IPY_MODEL_2088bf9c285b4ed482c5ac44c04f2a92",
       "placeholder": "feature meta",
       "style": "IPY_MODEL_7e84f94739f7488783d1480b62658c87",
       "value": "aerobic"
      }
     },
     "019046940176475d87de54db26107ee7": {
      "model_module": "@jupyter-widgets/base",
      "model_module_version": "1.0.0",
      "model_name": "LayoutModel",
      "state": {
       "width": "100%"
      }
     },
     "01d4b71b2d8e4a37acfcbe7ee7d0fbbc": {
      "model_module": "@jupyter-widgets/controls",
      "model_module_version": "1.0.0",
      "model_name": "DropdownModel",
      "state": {
       "_options_labels": [
        "oxygen",
        "ph",
        "level1",
        "level2",
        "new.order",
        "ori.order",
        "taxonomy"
       ],
       "index": 0,
       "layout": "IPY_MODEL_806048cb71944a49acb988035601c2a8",
       "style": "IPY_MODEL_1ed638313c3f448f9b882883690d7fad"
      }
     },
     "01e623669876475d81e26a4e11870874": {
      "model_module": "@jupyter-widgets/controls",
      "model_module_version": "1.0.0",
      "model_name": "DescriptionStyleModel",
      "state": {
       "description_width": ""
      }
     },
     "022948883ab44feb8b8c02ea11bf5709": {
      "model_module": "@jupyter-widgets/controls",
      "model_module_version": "1.0.0",
      "model_name": "ButtonModel",
      "state": {
       "description": "print axes ranges",
       "layout": "IPY_MODEL_a459556696f2415e880f07f71cf589ed",
       "style": "IPY_MODEL_61f332d70e2f476a8397be672f3ab39b",
       "tooltip": "Print the x axis and y axis ranges. Useful to pass to `rect` parameter of heatmap() to zoom in the region automatically."
      }
     },
     "02ba871b4a494398a1e647e21c42cdd8": {
      "model_module": "@jupyter-widgets/controls",
      "model_module_version": "1.0.0",
      "model_name": "ButtonModel",
      "state": {
       "description": "print axes ranges",
       "layout": "IPY_MODEL_6033ad064cf74022b91cf02d892c6302",
       "style": "IPY_MODEL_a70ec2eed2ce499fb49762cec213ea79",
       "tooltip": "Print the x axis and y axis ranges. Useful to pass to `rect` parameter of heatmap() to zoom in the region automatically."
      }
     },
     "02ce769e358a45d19416951caf15ad65": {
      "model_module": "@jupyter-widgets/controls",
      "model_module_version": "1.0.0",
      "model_name": "ButtonModel",
      "state": {
       "description": "Annotate",
       "layout": "IPY_MODEL_14f2eb449d4d454dbdfbc5bd2c97f9de",
       "style": "IPY_MODEL_abd82e35aa0e47389ee1baedc79346a1"
      }
     },
     "0334bb41e42d40e893a20836dec75a79": {
      "model_module": "@jupyter-widgets/controls",
      "model_module_version": "1.0.0",
      "model_name": "HBoxModel",
      "state": {
       "children": [
        "IPY_MODEL_ff447792a03a4727a8929c3f91697ae0",
        "IPY_MODEL_202fbfc1d72d49538f9352c9a54f7716",
        "IPY_MODEL_0cc44c0f647840f09a5a324c3880a9b2"
       ],
       "layout": "IPY_MODEL_0d20f9dadc1342c8ba22b76fccbd3807"
      }
     },
     "034016157c1e4834a1874ad730db1d35": {
      "model_module": "@jupyter-widgets/controls",
      "model_module_version": "1.0.0",
      "model_name": "TextModel",
      "state": {
       "description": "Sample ID",
       "layout": "IPY_MODEL_019046940176475d87de54db26107ee7",
       "placeholder": "Sample ID",
       "style": "IPY_MODEL_bc1a4c60a761466dbecce0203ce6ea82",
       "value": "S7"
      }
     },
     "035b151e0a704fefa1b6d7fa748feb94": {
      "model_module": "@jupyter-widgets/controls",
      "model_module_version": "1.0.0",
      "model_name": "DescriptionStyleModel",
      "state": {
       "description_width": ""
      }
     },
     "0376c356e3a645a4b26a4cbf09b020c3": {
      "model_module": "@jupyter-widgets/controls",
      "model_module_version": "1.0.0",
      "model_name": "DescriptionStyleModel",
      "state": {
       "description_width": ""
      }
     },
     "03a4d672e09e4fb98b1d8f842e7559e8": {
      "model_module": "@jupyter-widgets/base",
      "model_module_version": "1.0.0",
      "model_name": "LayoutModel",
      "state": {
       "width": "20%"
      }
     },
     "03afd9c80305460da693465a4c8c4960": {
      "model_module": "@jupyter-widgets/controls",
      "model_module_version": "1.0.0",
      "model_name": "TextModel",
      "state": {
       "layout": "IPY_MODEL_6757ce8a7ce14b17ba15553f5b3c59b5",
       "placeholder": "sample meta",
       "style": "IPY_MODEL_089081dc448441e3a64eba8d90081df7",
       "value": "-"
      }
     },
     "03bff66ed3ff4e259d4d6767ca143e1e": {
      "model_module": "@jupyter-widgets/controls",
      "model_module_version": "1.0.0",
      "model_name": "TextModel",
      "state": {
       "description": "Sample ID",
       "layout": "IPY_MODEL_e645d7359c8d49039234e2ac88b11a85",
       "placeholder": "Sample ID",
       "style": "IPY_MODEL_585237215be14ffdb80a2ea3f9bbd594",
       "value": "S9"
      }
     },
     "03e0490bdbd84a58946021fdba53e55b": {
      "model_module": "@jupyter-widgets/base",
      "model_module_version": "1.0.0",
      "model_name": "LayoutModel",
      "state": {
       "width": "100%"
      }
     },
     "03f1c9ce4df544d492ec0a01f1a26d87": {
      "model_module": "@jupyter-widgets/base",
      "model_module_version": "1.0.0",
      "model_name": "LayoutModel",
      "state": {
       "width": "80%"
      }
     },
     "041ae82cfe7043b681e697b0de4a6cb7": {
      "model_module": "@jupyter-widgets/base",
      "model_module_version": "1.0.0",
      "model_name": "LayoutModel",
      "state": {}
     },
     "04d093ac7b5948ae8cd5d2ab2ef37772": {
      "model_module": "@jupyter-widgets/controls",
      "model_module_version": "1.0.0",
      "model_name": "ButtonModel",
      "state": {
       "description": "Annotate",
       "layout": "IPY_MODEL_8ca32759f63a4ded87ead51f4350989a",
       "style": "IPY_MODEL_c7ae798042f14c048ad1a605d3cdebe1"
      }
     },
     "05014d49071b4400bf2eef46ac4876b6": {
      "model_module": "@jupyter-widgets/controls",
      "model_module_version": "1.0.0",
      "model_name": "ButtonStyleModel",
      "state": {}
     },
     "054edc993fcf47d388a137916bc92da7": {
      "model_module": "@jupyter-widgets/base",
      "model_module_version": "1.0.0",
      "model_name": "LayoutModel",
      "state": {}
     },
     "059b542a24dd44379e3f1b76bc82c050": {
      "model_module": "@jupyter-widgets/controls",
      "model_module_version": "1.0.0",
      "model_name": "HBoxModel",
      "state": {
       "children": [
        "IPY_MODEL_005184ab2b7c40a6a0dd1bd52880e8ea",
        "IPY_MODEL_27cb91b373b0428ca464d7ec2e4a81e7"
       ],
       "layout": "IPY_MODEL_09600fec608f486f8f4f1c9aa989e0d8"
      }
     },
     "05bbad225e6e4edca15e9f8899271290": {
      "model_module": "@jupyter-widgets/controls",
      "model_module_version": "1.0.0",
      "model_name": "DropdownModel",
      "state": {
       "_options_labels": [
        "ori.order",
        "group",
        "new.order",
        "categorical",
        "_calour_original_abundance"
       ],
       "index": 0,
       "layout": "IPY_MODEL_83c9cd3cec774a6b812d99a2c26f17cb",
       "style": "IPY_MODEL_6875cdaa8a7c4d8497f1fbd057a50ffd"
      }
     },
     "06c8262203bd45d8b9f32ffea0284b88": {
      "model_module": "@jupyter-widgets/controls",
      "model_module_version": "1.0.0",
      "model_name": "ButtonModel",
      "state": {
       "description": "Save",
       "layout": "IPY_MODEL_fbd2b18a15df437bb2fc9a0a4c1f6cb6",
       "style": "IPY_MODEL_45b1ae6bbc624fbba2607a821aa5ddc6",
       "tooltip": "Save the selection(s)"
      }
     },
     "078c5e1f16534be285459920ee6c9e11": {
      "model_module": "@jupyter-widgets/controls",
      "model_module_version": "1.0.0",
      "model_name": "ButtonModel",
      "state": {
       "description": "Annotate",
       "layout": "IPY_MODEL_8377246142eb4ea9b081c42a780da736",
       "style": "IPY_MODEL_f9df0261d0744316926b1e4b3696e71b"
      }
     },
     "079f8e3aef0f4998a03ad08097eb74c8": {
      "model_module": "@jupyter-widgets/controls",
      "model_module_version": "1.0.0",
      "model_name": "HBoxModel",
      "state": {
       "children": [
        "IPY_MODEL_0b8e67265b874295b6405c31bfb1e4e1",
        "IPY_MODEL_af2f432925244da9a661f4cac35f99eb",
        "IPY_MODEL_eb301619e7274e84bf5ea4435c8ef35c"
       ],
       "layout": "IPY_MODEL_ba40b1fcc938431b8c0f6cb2c92e13de"
      }
     },
     "07e34177f7424e02b6147b119a6e6ab5": {
      "model_module": "@jupyter-widgets/controls",
      "model_module_version": "1.0.0",
      "model_name": "TextModel",
      "state": {
       "layout": "IPY_MODEL_e88b79b8f16949a2a6d58581fdbd58a9",
       "placeholder": "sample meta",
       "style": "IPY_MODEL_39a0c7e40f304fa99aeae4b208ecc13b",
       "value": "-"
      }
     },
     "0829cfc8d9594bb2998252d03d7d9cc1": {
      "model_module": "@jupyter-widgets/base",
      "model_module_version": "1.0.0",
      "model_name": "LayoutModel",
      "state": {
       "width": "80%"
      }
     },
     "0829d1d5f47348b69bc5b4b1101568b5": {
      "model_module": "@jupyter-widgets/controls",
      "model_module_version": "1.0.0",
      "model_name": "HTMLModel",
      "state": {
       "layout": "IPY_MODEL_ad8779c79b054fe19ab0454d8ee5a89e",
       "style": "IPY_MODEL_55439dc59e614cdfb157ab77a8fe3a33",
       "value": "<style> a:link {color:black; background-color:transparent; text-decoration:none}a:visited {color:black; background-color:transparent; text-decoration:none}</style><p style=\"color:black;white-space:nowrap;\"><a href=\"http://dbbact.org/annotation_info/NA\"   target=\"_blank\">No annotation found in database dbBact</a></p>"
      }
     },
     "0844b68abc714506adf0d5859a7e0fdd": {
      "model_module": "@jupyter-widgets/controls",
      "model_module_version": "1.0.0",
      "model_name": "FloatTextModel",
      "state": {
       "description": "Abundance",
       "layout": "IPY_MODEL_773cb8dede5f4d728628430598683cc5",
       "step": null,
       "style": "IPY_MODEL_8a439e52677e4ce38fca38efb35d440e"
      }
     },
     "089081dc448441e3a64eba8d90081df7": {
      "model_module": "@jupyter-widgets/controls",
      "model_module_version": "1.0.0",
      "model_name": "DescriptionStyleModel",
      "state": {
       "description_width": ""
      }
     },
     "08e7c1acec87461f8d4f65b1f5a24b60": {
      "model_module": "@jupyter-widgets/controls",
      "model_module_version": "1.0.0",
      "model_name": "DescriptionStyleModel",
      "state": {
       "description_width": ""
      }
     },
     "0916bd9112904822aba6f4e7ba6ccc37": {
      "model_module": "@jupyter-widgets/base",
      "model_module_version": "1.0.0",
      "model_name": "LayoutModel",
      "state": {}
     },
     "0918fcd942134604b0feb6a4db01ee24": {
      "model_module": "@jupyter-widgets/controls",
      "model_module_version": "1.0.0",
      "model_name": "TextModel",
      "state": {
       "description": "Feature ID",
       "layout": "IPY_MODEL_e645d7359c8d49039234e2ac88b11a85",
       "placeholder": "Feature ID",
       "style": "IPY_MODEL_a6fda4faa1434abdb3574b8b173ab8ef",
       "value": "TC"
      }
     },
     "09600fec608f486f8f4f1c9aa989e0d8": {
      "model_module": "@jupyter-widgets/base",
      "model_module_version": "1.0.0",
      "model_name": "LayoutModel",
      "state": {}
     },
     "09b52d63346c491ebffacd8fe01b212d": {
      "model_module": "@jupyter-widgets/controls",
      "model_module_version": "1.0.0",
      "model_name": "DropdownModel",
      "state": {
       "_options_labels": [
        "oxygen",
        "ph",
        "level1",
        "level2",
        "new.order",
        "ori.order",
        "taxonomy"
       ],
       "index": 0,
       "layout": "IPY_MODEL_8e09963766f748d097e90ca66279ebf2",
       "style": "IPY_MODEL_af29d69b379547a5aafbfab7026cd73c"
      }
     },
     "09ef0699338a477795d893f3af0b21a9": {
      "model_module": "@jupyter-widgets/base",
      "model_module_version": "1.0.0",
      "model_name": "LayoutModel",
      "state": {}
     },
     "0a33afa81af04d598d3cf743b1b36c1a": {
      "model_module": "@jupyter-widgets/controls",
      "model_module_version": "1.0.0",
      "model_name": "TextModel",
      "state": {
       "layout": "IPY_MODEL_9354b50cf37742798cf9830a78845f29",
       "placeholder": "feature meta",
       "style": "IPY_MODEL_c9356130646942dda88a7fae4e8ebd90",
       "value": "-"
      }
     },
     "0a3dbc9e3d4344749c3bf9fdfb9286c0": {
      "model_module": "@jupyter-widgets/controls",
      "model_module_version": "1.0.0",
      "model_name": "ButtonStyleModel",
      "state": {}
     },
     "0a58be3902ff46f1bd98b3d8228b9583": {
      "model_module": "@jupyter-widgets/controls",
      "model_module_version": "1.0.0",
      "model_name": "TextModel",
      "state": {
       "layout": "IPY_MODEL_8838d0c6af0445bebaf48aecd78e2efc",
       "placeholder": "feature meta",
       "style": "IPY_MODEL_3494986736514571ae2c90fc89f1f6bb",
       "value": "anaerobic"
      }
     },
     "0a804213a3484329a31d3bc63f2d6cfb": {
      "model_module": "@jupyter-widgets/base",
      "model_module_version": "1.0.0",
      "model_name": "LayoutModel",
      "state": {
       "width": "80%"
      }
     },
     "0a933edb5afd437488d1a42c77fc4c62": {
      "model_module": "@jupyter-widgets/base",
      "model_module_version": "1.0.0",
      "model_name": "LayoutModel",
      "state": {}
     },
     "0b1405200deb4d2c80c5e2247c028fa1": {
      "model_module": "@jupyter-widgets/controls",
      "model_module_version": "1.0.0",
      "model_name": "ButtonModel",
      "state": {
       "description": "Annotate",
       "layout": "IPY_MODEL_2bb37815d26946618ddde090bc8a36d1",
       "style": "IPY_MODEL_367f81208665413ea1e085c2f4e6c455"
      }
     },
     "0b6fe2c41fc84f98b3a16f002cfbb28b": {
      "model_module": "@jupyter-widgets/base",
      "model_module_version": "1.0.0",
      "model_name": "LayoutModel",
      "state": {
       "width": "100%"
      }
     },
     "0b8e67265b874295b6405c31bfb1e4e1": {
      "model_module": "@jupyter-widgets/controls",
      "model_module_version": "1.0.0",
      "model_name": "ButtonModel",
      "state": {
       "description": "print axes ranges",
       "layout": "IPY_MODEL_3ad0d55915714ffb9375ffbaf886cf13",
       "style": "IPY_MODEL_dc519691bec749738e7974bd2d9303b7",
       "tooltip": "Print the x axis and y axis ranges. Useful to pass to `rect` parameter of heatmap() to zoom in the region automatically."
      }
     },
     "0bfca4e6359a4e6cbd9128b26181b722": {
      "model_module": "@jupyter-widgets/base",
      "model_module_version": "1.0.0",
      "model_name": "LayoutModel",
      "state": {}
     },
     "0c33c99a4c2c480e83fde9ed11c6ce8d": {
      "model_module": "@jupyter-widgets/controls",
      "model_module_version": "1.0.0",
      "model_name": "ButtonModel",
      "state": {
       "description": "print axes ranges",
       "layout": "IPY_MODEL_b3cce65fc8fc466e9654e81180d50789",
       "style": "IPY_MODEL_64f7eda8a40d4fffa8cbd42870cc5351",
       "tooltip": "Print the x axis and y axis ranges. Useful to pass to `rect` parameter of heatmap() to zoom in the region automatically."
      }
     },
     "0c4a02a494cd4a6e97566225dc49bad3": {
      "model_module": "@jupyter-widgets/controls",
      "model_module_version": "1.0.0",
      "model_name": "ButtonModel",
      "state": {
       "description": "print axes ranges",
       "layout": "IPY_MODEL_4cdb36b14f8e468eb174fa57ee9e4e66",
       "style": "IPY_MODEL_ecedbf261dba4bf6ba6b35ac3bbcf5d1",
       "tooltip": "Print the x axis and y axis ranges. Useful to pass to `rect` parameter of heatmap() to zoom in the region automatically."
      }
     },
     "0cc44c0f647840f09a5a324c3880a9b2": {
      "model_module": "@jupyter-widgets/controls",
      "model_module_version": "1.0.0",
      "model_name": "ButtonModel",
      "state": {
       "description": "Annotate",
       "layout": "IPY_MODEL_70d70308bb8443e594ea4a8e6993dc7f",
       "style": "IPY_MODEL_87510413707e4b36b7894ac3c17e83de"
      }
     },
     "0cc799d027954a0da877c1b6c0c99afc": {
      "model_module": "@jupyter-widgets/controls",
      "model_module_version": "1.0.0",
      "model_name": "TextModel",
      "state": {
       "description": "Sample ID",
       "layout": "IPY_MODEL_91d34eaab44e4d849f70e949826ffee3",
       "placeholder": "Sample ID",
       "style": "IPY_MODEL_76fd7714395a42a2a8390a555349436c",
       "value": "-"
      }
     },
     "0d1ac708b20d42ec89747468e9d2867c": {
      "model_module": "@jupyter-widgets/base",
      "model_module_version": "1.0.0",
      "model_name": "LayoutModel",
      "state": {}
     },
     "0d20f9dadc1342c8ba22b76fccbd3807": {
      "model_module": "@jupyter-widgets/base",
      "model_module_version": "1.0.0",
      "model_name": "LayoutModel",
      "state": {}
     },
     "0d5a26f315034d6cacf1dfedc5a5b09c": {
      "model_module": "@jupyter-widgets/controls",
      "model_module_version": "1.0.0",
      "model_name": "DropdownModel",
      "state": {
       "_options_labels": [
        "ori.order",
        "group",
        "new.order",
        "categorical",
        "_calour_original_abundance"
       ],
       "index": 0,
       "layout": "IPY_MODEL_3fdba54d6f17473489cc454aab683b5b",
       "style": "IPY_MODEL_53273d3fb9f24094b363f44664209bd0"
      }
     },
     "0dc53c760b5e40fdb51a80127ded9810": {
      "model_module": "@jupyter-widgets/base",
      "model_module_version": "1.0.0",
      "model_name": "LayoutModel",
      "state": {}
     },
     "0dcb8e4af49f4ae589e9f9c6952f95c1": {
      "model_module": "@jupyter-widgets/base",
      "model_module_version": "1.0.0",
      "model_name": "LayoutModel",
      "state": {}
     },
     "0e00371c11dc4a7381104deec97aefcf": {
      "model_module": "@jupyter-widgets/controls",
      "model_module_version": "1.0.0",
      "model_name": "TextModel",
      "state": {
       "description": "Feature ID",
       "layout": "IPY_MODEL_91d34eaab44e4d849f70e949826ffee3",
       "placeholder": "Feature ID",
       "style": "IPY_MODEL_4b1f475415bd461db71ad386a26f7e13",
       "value": "-"
      }
     },
     "0e032ba7dca64c848bf64209f9e32b63": {
      "model_module": "@jupyter-widgets/controls",
      "model_module_version": "1.0.0",
      "model_name": "ButtonStyleModel",
      "state": {}
     },
     "0e07ef18630d400ebd047cfa66842770": {
      "model_module": "@jupyter-widgets/base",
      "model_module_version": "1.0.0",
      "model_name": "LayoutModel",
      "state": {}
     },
     "0e479cb65d1f4c10a4487999af6e25dc": {
      "model_module": "@jupyter-widgets/controls",
      "model_module_version": "1.0.0",
      "model_name": "HBoxModel",
      "state": {
       "children": [
        "IPY_MODEL_2062ce2a6b1549bea755c5a781ebd239",
        "IPY_MODEL_5b4d384f9b0a4da9b02c2b8193d33f04",
        "IPY_MODEL_935a2cdecc83454095c90340cc420520"
       ],
       "layout": "IPY_MODEL_9031897ce4ab4d2284993dd49f075fc0"
      }
     },
     "0e76858a2ed74489b9f5365a7c271df8": {
      "model_module": "@jupyter-widgets/controls",
      "model_module_version": "1.0.0",
      "model_name": "HBoxModel",
      "state": {
       "children": [
        "IPY_MODEL_faaa714f16e7436fb99901697ed01a4d",
        "IPY_MODEL_2e2b0abce5da4dc5a6a66343af5f5fe6",
        "IPY_MODEL_2c8de8243de84e59bc88e66697fc11b2"
       ],
       "layout": "IPY_MODEL_c8ead31e561e4cbc823dac3c7a1f5076"
      }
     },
     "0ea06b327a1c410a8de51123c628116b": {
      "model_module": "@jupyter-widgets/controls",
      "model_module_version": "1.0.0",
      "model_name": "FloatTextModel",
      "state": {
       "description": "Abundance",
       "layout": "IPY_MODEL_0b6fe2c41fc84f98b3a16f002cfbb28b",
       "step": null,
       "style": "IPY_MODEL_6c078c1531754752b98c6688b0ca8fda",
       "value": 900
      }
     },
     "0eb099a48d0a46ed9d2c5c9068ee3cbf": {
      "model_module": "@jupyter-widgets/base",
      "model_module_version": "1.0.0",
      "model_name": "LayoutModel",
      "state": {
       "width": "100%"
      }
     },
     "0f41cda0e2e849ffb2bc1336f05c5a1c": {
      "model_module": "@jupyter-widgets/controls",
      "model_module_version": "1.0.0",
      "model_name": "DropdownModel",
      "state": {
       "_options_labels": [
        "oxygen",
        "ph",
        "level1",
        "level2",
        "new.order",
        "ori.order",
        "taxonomy"
       ],
       "index": 0,
       "layout": "IPY_MODEL_69a8c7b362dc464390ce4ce8d0f479ca",
       "style": "IPY_MODEL_9efe0892a42b4c7eaec597f1b9a330a1"
      }
     },
     "0fc054d821a547a59cd2399708c31d56": {
      "model_module": "@jupyter-widgets/base",
      "model_module_version": "1.0.0",
      "model_name": "LayoutModel",
      "state": {
       "width": "100%"
      }
     },
     "0fe4437f03514de2a3929adfcab239a3": {
      "model_module": "@jupyter-widgets/base",
      "model_module_version": "1.0.0",
      "model_name": "LayoutModel",
      "state": {
       "width": "100%"
      }
     },
     "10239a33f22a4113a1a9d79aa4d1288c": {
      "model_module": "@jupyter-widgets/base",
      "model_module_version": "1.0.0",
      "model_name": "LayoutModel",
      "state": {}
     },
     "1034c1d1787f4fa999489ac1ac9f0117": {
      "model_module": "@jupyter-widgets/controls",
      "model_module_version": "1.0.0",
      "model_name": "ButtonModel",
      "state": {
       "description": "print axes ranges",
       "layout": "IPY_MODEL_b5bd938134374736a4c7917822853dc7",
       "style": "IPY_MODEL_ce046812970f4a9aa67508191c6b863f",
       "tooltip": "Print the x axis and y axis ranges. Useful to pass to `rect` parameter of heatmap() to zoom in the region automatically."
      }
     },
     "105dc9bc4cdf424f9691cc233cdf519e": {
      "model_module": "@jupyter-widgets/base",
      "model_module_version": "1.0.0",
      "model_name": "LayoutModel",
      "state": {
       "width": "100%"
      }
     },
     "10663756ad8e44caaceb81c6a59f9b3f": {
      "model_module": "@jupyter-widgets/controls",
      "model_module_version": "1.0.0",
      "model_name": "ButtonStyleModel",
      "state": {}
     },
     "1068d33eb6644267a3368ea17fc89a4f": {
      "model_module": "@jupyter-widgets/controls",
      "model_module_version": "1.0.0",
      "model_name": "DropdownModel",
      "state": {
       "_options_labels": [
        "ori.order",
        "group",
        "new.order",
        "categorical",
        "_calour_original_abundance"
       ],
       "index": 0,
       "layout": "IPY_MODEL_d244556ba0d24517aad4dcfc5d45ab65",
       "style": "IPY_MODEL_5c3c15c389ee47ed8b6700aa69b4d975"
      }
     },
     "10b26dff500c49269c83660b9e44d98d": {
      "model_module": "@jupyter-widgets/base",
      "model_module_version": "1.0.0",
      "model_name": "LayoutModel",
      "state": {}
     },
     "10dd02f05d764e9d9fc780d6c5dd77e5": {
      "model_module": "@jupyter-widgets/controls",
      "model_module_version": "1.0.0",
      "model_name": "ButtonModel",
      "state": {
       "description": "Save",
       "layout": "IPY_MODEL_b6a36d6e67684d5987e4c9bc85fa735b",
       "style": "IPY_MODEL_f803bea43c004459aa285a59a90c5c7f",
       "tooltip": "Save the selection(s)"
      }
     },
     "11023a2aa2754f098f825300fd0b271c": {
      "model_module": "@jupyter-widgets/controls",
      "model_module_version": "1.0.0",
      "model_name": "DescriptionStyleModel",
      "state": {
       "description_width": ""
      }
     },
     "115957e8b71740928560b256a2c45df3": {
      "model_module": "@jupyter-widgets/controls",
      "model_module_version": "1.0.0",
      "model_name": "ButtonModel",
      "state": {
       "description": "Save",
       "layout": "IPY_MODEL_4893f5e05fd546ce8e956d8083dff7d0",
       "style": "IPY_MODEL_6048211753f944f8b69ae5d26842b0cf",
       "tooltip": "Save the selection(s)"
      }
     },
     "11755ef1399f4350828788701485702f": {
      "model_module": "@jupyter-widgets/controls",
      "model_module_version": "1.0.0",
      "model_name": "HBoxModel",
      "state": {
       "children": [
        "IPY_MODEL_be2f8aa9d2a24b48b08e544fe904a929",
        "IPY_MODEL_4cce2edfb5ae42c585549507fdfe1826"
       ],
       "layout": "IPY_MODEL_eacd14c5f8174e70abc48f6af3752b70"
      }
     },
     "11c27a0ecdac4d5db4e19f8a166c576b": {
      "model_module": "@jupyter-widgets/base",
      "model_module_version": "1.0.0",
      "model_name": "LayoutModel",
      "state": {
       "width": "80%"
      }
     },
     "121ba1781cd647fb89530aaafdf1a241": {
      "model_module": "@jupyter-widgets/controls",
      "model_module_version": "1.0.0",
      "model_name": "FloatTextModel",
      "state": {
       "description": "Abundance",
       "layout": "IPY_MODEL_0eb099a48d0a46ed9d2c5c9068ee3cbf",
       "step": null,
       "style": "IPY_MODEL_7190db1d6935404a86a936b03fb35aee"
      }
     },
     "12611792fecb4e3a825fa33b00dfab4f": {
      "model_module": "@jupyter-widgets/base",
      "model_module_version": "1.0.0",
      "model_name": "LayoutModel",
      "state": {}
     },
     "1263795e9b9b4ff282b8af4592c23bdf": {
      "model_module": "@jupyter-widgets/controls",
      "model_module_version": "1.0.0",
      "model_name": "HTMLModel",
      "state": {
       "layout": "IPY_MODEL_93b3cf55930c4dd086479f3a5f922ade",
       "style": "IPY_MODEL_16c70636beb949efaa24cdb436c457c2",
       "value": "no annotation found"
      }
     },
     "12b79f054bad44a593585fa8ca3a8c51": {
      "model_module": "@jupyter-widgets/controls",
      "model_module_version": "1.0.0",
      "model_name": "ButtonModel",
      "state": {
       "description": "print axes ranges",
       "layout": "IPY_MODEL_96051a033f5b41e8b1d6420dc4a56497",
       "style": "IPY_MODEL_77a00bf1757a4947a5533197f51efd3d",
       "tooltip": "Print the x axis and y axis ranges. Useful to pass to `rect` parameter of heatmap function to zoom in the region automatically."
      }
     },
     "1301c4f3fffe4d4497f505b5fc37a806": {
      "model_module": "@jupyter-widgets/controls",
      "model_module_version": "1.0.0",
      "model_name": "ButtonStyleModel",
      "state": {}
     },
     "130932151fb0454d83008a76f0dae498": {
      "model_module": "@jupyter-widgets/controls",
      "model_module_version": "1.0.0",
      "model_name": "DescriptionStyleModel",
      "state": {
       "description_width": ""
      }
     },
     "130c532f5617441694bdc4dd1970a9fb": {
      "model_module": "@jupyter-widgets/controls",
      "model_module_version": "1.0.0",
      "model_name": "DropdownModel",
      "state": {
       "_options_labels": [
        "oxygen",
        "ph",
        "level1",
        "level2",
        "new.order",
        "ori.order",
        "taxonomy"
       ],
       "index": 0,
       "layout": "IPY_MODEL_76a4c29ac6244662b3cb68e1f2604050",
       "style": "IPY_MODEL_73abd810f1734ecfae7a305d76782767"
      }
     },
     "13bf6fe0be3d4ffdaf133741f2c0c76b": {
      "model_module": "@jupyter-widgets/controls",
      "model_module_version": "1.0.0",
      "model_name": "DescriptionStyleModel",
      "state": {
       "description_width": ""
      }
     },
     "140c80ea13984d0497fae62bd5c39e16": {
      "model_module": "@jupyter-widgets/base",
      "model_module_version": "1.0.0",
      "model_name": "LayoutModel",
      "state": {
       "width": "80%"
      }
     },
     "14255cf3a50244ee8e97663be3cfc90e": {
      "model_module": "@jupyter-widgets/controls",
      "model_module_version": "1.0.0",
      "model_name": "ButtonStyleModel",
      "state": {}
     },
     "148faa86f38543eca421ddfd03e4ee0b": {
      "model_module": "@jupyter-widgets/base",
      "model_module_version": "1.0.0",
      "model_name": "LayoutModel",
      "state": {}
     },
     "14c54f9ce4aa4ad7b3dc0efcd5256a9a": {
      "model_module": "@jupyter-widgets/controls",
      "model_module_version": "1.0.0",
      "model_name": "DescriptionStyleModel",
      "state": {
       "description_width": ""
      }
     },
     "14f2eb449d4d454dbdfbc5bd2c97f9de": {
      "model_module": "@jupyter-widgets/base",
      "model_module_version": "1.0.0",
      "model_name": "LayoutModel",
      "state": {}
     },
     "1539ec922da9434aa3284350d87a0477": {
      "model_module": "@jupyter-widgets/base",
      "model_module_version": "1.0.0",
      "model_name": "LayoutModel",
      "state": {}
     },
     "15b815f52c2f4a3fb3339e012a56c3a3": {
      "model_module": "@jupyter-widgets/controls",
      "model_module_version": "1.0.0",
      "model_name": "DescriptionStyleModel",
      "state": {
       "description_width": ""
      }
     },
     "169d5b99574f4b63b87199ac645201db": {
      "model_module": "@jupyter-widgets/base",
      "model_module_version": "1.0.0",
      "model_name": "LayoutModel",
      "state": {}
     },
     "16c70636beb949efaa24cdb436c457c2": {
      "model_module": "@jupyter-widgets/controls",
      "model_module_version": "1.0.0",
      "model_name": "DescriptionStyleModel",
      "state": {
       "description_width": ""
      }
     },
     "16f43a8c6b264025a2b6f27fd1d1a7b8": {
      "model_module": "@jupyter-widgets/controls",
      "model_module_version": "1.0.0",
      "model_name": "DescriptionStyleModel",
      "state": {
       "description_width": ""
      }
     },
     "170910412c47479d93ab6de0cfe5134d": {
      "model_module": "@jupyter-widgets/base",
      "model_module_version": "1.0.0",
      "model_name": "LayoutModel",
      "state": {
       "width": "20%"
      }
     },
     "175799df856748a3bbbad60e888ea6f4": {
      "model_module": "@jupyter-widgets/controls",
      "model_module_version": "1.0.0",
      "model_name": "DescriptionStyleModel",
      "state": {
       "description_width": ""
      }
     },
     "17945b3f34e9495b94e72877cc177ba9": {
      "model_module": "@jupyter-widgets/controls",
      "model_module_version": "1.0.0",
      "model_name": "HBoxModel",
      "state": {
       "children": [
        "IPY_MODEL_2e88b9c2aeaa47589580eaa4c139599f",
        "IPY_MODEL_7ec1d504c6d24d31913faf7265dba223"
       ],
       "layout": "IPY_MODEL_c3adfefeddca4773acdab8698aa6a6ac"
      }
     },
     "17a595be441a4df3a173bcf7e6d937c2": {
      "model_module": "@jupyter-widgets/base",
      "model_module_version": "1.0.0",
      "model_name": "LayoutModel",
      "state": {}
     },
     "17c1aa17f2104a48a90f5d16f19da70c": {
      "model_module": "@jupyter-widgets/controls",
      "model_module_version": "1.0.0",
      "model_name": "DescriptionStyleModel",
      "state": {
       "description_width": ""
      }
     },
     "17e6c6f5ef3944b18f112be21299f4cc": {
      "model_module": "@jupyter-widgets/controls",
      "model_module_version": "1.0.0",
      "model_name": "TextModel",
      "state": {
       "layout": "IPY_MODEL_dc6e298893a744e59909ba0b189be545",
       "placeholder": "feature meta",
       "style": "IPY_MODEL_bbb078d65f794a72b7e5112b4df5c9b1",
       "value": "aerobic"
      }
     },
     "18bf9761334845b28c0a3aa5c2ed99e3": {
      "model_module": "@jupyter-widgets/controls",
      "model_module_version": "1.0.0",
      "model_name": "ButtonModel",
      "state": {
       "description": "print axes ranges",
       "layout": "IPY_MODEL_48885d2c446042efa4b74b97572049e6",
       "style": "IPY_MODEL_3768e755d3a248859fac3856d251c403",
       "tooltip": "Print the x axis and y axis ranges. Useful to pass to `rect` parameter of heatmap() to zoom in the region automatically."
      }
     },
     "18f720008c9a4ccdb2498fcb8b93a6b1": {
      "model_module": "@jupyter-widgets/controls",
      "model_module_version": "1.0.0",
      "model_name": "TextModel",
      "state": {
       "description": "Feature ID",
       "layout": "IPY_MODEL_eb5873d689c945bebbb75ea92831f359",
       "placeholder": "Feature ID",
       "style": "IPY_MODEL_b3bff8aac6484568ba2be1ecb46d5a48",
       "value": "-"
      }
     },
     "1912bfebd2fc483bb4324f79adc1d059": {
      "model_module": "@jupyter-widgets/controls",
      "model_module_version": "1.0.0",
      "model_name": "DescriptionStyleModel",
      "state": {
       "description_width": ""
      }
     },
     "192e851cd1444172b6eadc18aadea290": {
      "model_module": "@jupyter-widgets/controls",
      "model_module_version": "1.0.0",
      "model_name": "DescriptionStyleModel",
      "state": {
       "description_width": ""
      }
     },
     "1943c6877755496fb5c3bc28587923ed": {
      "model_module": "@jupyter-widgets/controls",
      "model_module_version": "1.0.0",
      "model_name": "HBoxModel",
      "state": {
       "children": [
        "IPY_MODEL_0f41cda0e2e849ffb2bc1336f05c5a1c",
        "IPY_MODEL_4ffe4af096164b31a7c16031578d6bd2"
       ],
       "layout": "IPY_MODEL_e4bf18ee5d5740238c505c1defb7026e"
      }
     },
     "195665b307514fb28b4a42014a81a556": {
      "model_module": "@jupyter-widgets/base",
      "model_module_version": "1.0.0",
      "model_name": "LayoutModel",
      "state": {}
     },
     "19bf21bc950c4dd2a4a5ea5b863db538": {
      "model_module": "@jupyter-widgets/controls",
      "model_module_version": "1.0.0",
      "model_name": "DescriptionStyleModel",
      "state": {
       "description_width": ""
      }
     },
     "1a7a5c06d73a4c13a2f61611d55ccd09": {
      "model_module": "@jupyter-widgets/controls",
      "model_module_version": "1.0.0",
      "model_name": "HBoxModel",
      "state": {
       "children": [
        "IPY_MODEL_1ca598c25b9243aabfabd7fa4829a7bb",
        "IPY_MODEL_03afd9c80305460da693465a4c8c4960"
       ],
       "layout": "IPY_MODEL_277774fb06a445ada09b50fa66740e42"
      }
     },
     "1aa033a2c0084e96a8aac724ffcc9e2e": {
      "model_module": "@jupyter-widgets/base",
      "model_module_version": "1.0.0",
      "model_name": "LayoutModel",
      "state": {}
     },
     "1ac6b37afacb498ebfece1a72b94a757": {
      "model_module": "@jupyter-widgets/controls",
      "model_module_version": "1.0.0",
      "model_name": "ButtonModel",
      "state": {
       "description": "print axes ranges",
       "layout": "IPY_MODEL_c3cc053d613446ee9afc199a73662d26",
       "style": "IPY_MODEL_89ae00871d4140e1a799839ff5fcc377",
       "tooltip": "Print the x axis and y axis ranges. Useful to pass to `rect` parameter of heatmap() to zoom in the region automatically."
      }
     },
     "1aceff07744c4442ab914d6ffe4c7528": {
      "model_module": "@jupyter-widgets/base",
      "model_module_version": "1.0.0",
      "model_name": "LayoutModel",
      "state": {}
     },
     "1af83f23ed93416fa763860d11a7fbc2": {
      "model_module": "@jupyter-widgets/controls",
      "model_module_version": "1.0.0",
      "model_name": "DescriptionStyleModel",
      "state": {
       "description_width": ""
      }
     },
     "1b93ba673e8a447ba9a94ca63684b4df": {
      "model_module": "@jupyter-widgets/controls",
      "model_module_version": "1.0.0",
      "model_name": "DropdownModel",
      "state": {
       "_options_labels": [
        "ori.order",
        "group",
        "new.order",
        "categorical",
        "_calour_original_abundance"
       ],
       "index": 0,
       "layout": "IPY_MODEL_8b3f124b74d34e099526cd43528360e9",
       "style": "IPY_MODEL_fb2bc2f08bf94fac954692de749449a2"
      }
     },
     "1b96d65ac89749b09de255e7b81a7540": {
      "model_module": "@jupyter-widgets/controls",
      "model_module_version": "1.0.0",
      "model_name": "DescriptionStyleModel",
      "state": {
       "description_width": ""
      }
     },
     "1bca3f6dd10c4d21b4f8e64d641d5e00": {
      "model_module": "@jupyter-widgets/base",
      "model_module_version": "1.0.0",
      "model_name": "LayoutModel",
      "state": {
       "width": "20%"
      }
     },
     "1be9ad42625e48cfbce132d77aeefcaf": {
      "model_module": "@jupyter-widgets/controls",
      "model_module_version": "1.0.0",
      "model_name": "TextModel",
      "state": {
       "description": "Feature ID",
       "layout": "IPY_MODEL_2ba689d5830d4d06b98eb1020bab37da",
       "placeholder": "Feature ID",
       "style": "IPY_MODEL_a0cb132f7340491781db63390944a956",
       "value": "AT"
      }
     },
     "1c5c5ccf5ee94e9e836a6732b53ed0c0": {
      "model_module": "@jupyter-widgets/base",
      "model_module_version": "1.0.0",
      "model_name": "LayoutModel",
      "state": {
       "width": "80%"
      }
     },
     "1ca598c25b9243aabfabd7fa4829a7bb": {
      "model_module": "@jupyter-widgets/controls",
      "model_module_version": "1.0.0",
      "model_name": "DropdownModel",
      "state": {
       "_options_labels": [
        "ori.order",
        "group",
        "new.order",
        "categorical",
        "_calour_original_abundance"
       ],
       "index": 0,
       "layout": "IPY_MODEL_1fe4969c6c2b4ba2871514b522ea16a1",
       "style": "IPY_MODEL_6df422153c51450d85155036cba4cf6f"
      }
     },
     "1cdffe63f17a4ec7938b0dd19311d3c2": {
      "model_module": "@jupyter-widgets/controls",
      "model_module_version": "1.0.0",
      "model_name": "DescriptionStyleModel",
      "state": {
       "description_width": ""
      }
     },
     "1d2247fc840142599b3ddef502af6cd5": {
      "model_module": "@jupyter-widgets/controls",
      "model_module_version": "1.0.0",
      "model_name": "TextModel",
      "state": {
       "layout": "IPY_MODEL_a264106d08ab4e3182f0eb151d3a5a3b",
       "placeholder": "sample meta",
       "style": "IPY_MODEL_8c33abe2cb1044fb83829803231f6851",
       "value": "8"
      }
     },
     "1d316816306648799af56406d3904b0c": {
      "model_module": "@jupyter-widgets/controls",
      "model_module_version": "1.0.0",
      "model_name": "TextModel",
      "state": {
       "description": "Sample ID",
       "layout": "IPY_MODEL_44994213f04e4c3ba75264ca4cf6a7cd",
       "placeholder": "Sample ID",
       "style": "IPY_MODEL_fdd580f0a23446928b11450afc7126c6",
       "value": "-"
      }
     },
     "1ed638313c3f448f9b882883690d7fad": {
      "model_module": "@jupyter-widgets/controls",
      "model_module_version": "1.0.0",
      "model_name": "DescriptionStyleModel",
      "state": {
       "description_width": ""
      }
     },
     "1f3e1bb65140435b8d35fa3271d8d3ed": {
      "model_module": "@jupyter-widgets/controls",
      "model_module_version": "1.0.0",
      "model_name": "DescriptionStyleModel",
      "state": {
       "description_width": ""
      }
     },
     "1fa38d87ff6742e68997a9f231d354ab": {
      "model_module": "@jupyter-widgets/controls",
      "model_module_version": "1.0.0",
      "model_name": "HBoxModel",
      "state": {
       "children": [
        "IPY_MODEL_31ff334f0f0a4500b8c01fefed5e7a40",
        "IPY_MODEL_0188bd766c4041b48cb5c820dc4c873d"
       ],
       "layout": "IPY_MODEL_6d3f9f8661564e979d032d847121a960"
      }
     },
     "1fc0a26a88e04820bd0e31013f0d20f3": {
      "model_module": "@jupyter-widgets/controls",
      "model_module_version": "1.0.0",
      "model_name": "DropdownModel",
      "state": {
       "_options_labels": [
        "ori.order",
        "group",
        "new.order",
        "categorical",
        "_calour_original_abundance"
       ],
       "index": 0,
       "layout": "IPY_MODEL_637cab06a7964540a03c4c44cc007a97",
       "style": "IPY_MODEL_42d2c3b567f84b668c7dacfc2f617807"
      }
     },
     "1fe4969c6c2b4ba2871514b522ea16a1": {
      "model_module": "@jupyter-widgets/base",
      "model_module_version": "1.0.0",
      "model_name": "LayoutModel",
      "state": {
       "width": "20%"
      }
     },
     "200cb43361284d0f99b1e50f867b437c": {
      "model_module": "@jupyter-widgets/base",
      "model_module_version": "1.0.0",
      "model_name": "LayoutModel",
      "state": {}
     },
     "202fbfc1d72d49538f9352c9a54f7716": {
      "model_module": "@jupyter-widgets/controls",
      "model_module_version": "1.0.0",
      "model_name": "ButtonModel",
      "state": {
       "description": "Save",
       "layout": "IPY_MODEL_e7332e7508064f9ab0dc7129ca5814b5",
       "style": "IPY_MODEL_619a4953f5e043a9a548fad66ccba3ca",
       "tooltip": "Save the selection(s)"
      }
     },
     "203bc1efd27145f4990a475c796ad20f": {
      "model_module": "@jupyter-widgets/controls",
      "model_module_version": "1.0.0",
      "model_name": "HBoxModel",
      "state": {
       "children": [
        "IPY_MODEL_29f107f897974babaeec89338afa71e4",
        "IPY_MODEL_0a33afa81af04d598d3cf743b1b36c1a"
       ],
       "layout": "IPY_MODEL_c3dca8624be44fa980083b76739f44f4"
      }
     },
     "2062ce2a6b1549bea755c5a781ebd239": {
      "model_module": "@jupyter-widgets/controls",
      "model_module_version": "1.0.0",
      "model_name": "TextModel",
      "state": {
       "description": "Sample ID",
       "layout": "IPY_MODEL_452f48ef744e4620a76c97266df33ac1",
       "placeholder": "Sample ID",
       "style": "IPY_MODEL_57765883fde449c2a89fe146b1bf031c",
       "value": "-"
      }
     },
     "2088bf9c285b4ed482c5ac44c04f2a92": {
      "model_module": "@jupyter-widgets/base",
      "model_module_version": "1.0.0",
      "model_name": "LayoutModel",
      "state": {
       "width": "80%"
      }
     },
     "2089cc59783946a28690e78b3d6692c1": {
      "model_module": "@jupyter-widgets/controls",
      "model_module_version": "1.0.0",
      "model_name": "FloatTextModel",
      "state": {
       "description": "Abundance",
       "layout": "IPY_MODEL_eb5873d689c945bebbb75ea92831f359",
       "step": null,
       "style": "IPY_MODEL_54e3b93483e440b2b50459e7b18b5d0b"
      }
     },
     "21566f57e7074209b44de392e4e27393": {
      "model_module": "@jupyter-widgets/controls",
      "model_module_version": "1.0.0",
      "model_name": "ButtonModel",
      "state": {
       "description": "Save",
       "layout": "IPY_MODEL_195665b307514fb28b4a42014a81a556",
       "style": "IPY_MODEL_d0995ed1839d48dc85eda76152354b9d"
      }
     },
     "21a640f396f34f4db4b7a7fffd54d96e": {
      "model_module": "@jupyter-widgets/controls",
      "model_module_version": "1.0.0",
      "model_name": "DescriptionStyleModel",
      "state": {
       "description_width": ""
      }
     },
     "21bd540ca3754b9c971290c257117b0f": {
      "model_module": "@jupyter-widgets/controls",
      "model_module_version": "1.0.0",
      "model_name": "TextModel",
      "state": {
       "description": "Sample ID",
       "layout": "IPY_MODEL_90938660446045f789e980da5024085c",
       "placeholder": "Sample ID",
       "style": "IPY_MODEL_251fefe9eb104ecba782bcfc5118074a",
       "value": "-"
      }
     },
     "21cb8b2b996949ba8aa772921d80b96a": {
      "model_module": "@jupyter-widgets/base",
      "model_module_version": "1.0.0",
      "model_name": "LayoutModel",
      "state": {
       "width": "80%"
      }
     },
     "21e8a7ff1b614639866a5c3baf905390": {
      "model_module": "@jupyter-widgets/controls",
      "model_module_version": "1.0.0",
      "model_name": "DescriptionStyleModel",
      "state": {
       "description_width": ""
      }
     },
     "222c760c1e2c4d4aa967d479fb0effb6": {
      "model_module": "@jupyter-widgets/controls",
      "model_module_version": "1.0.0",
      "model_name": "DescriptionStyleModel",
      "state": {
       "description_width": ""
      }
     },
     "22c1472937e64ed084e5635ee98f157c": {
      "model_module": "@jupyter-widgets/base",
      "model_module_version": "1.0.0",
      "model_name": "LayoutModel",
      "state": {
       "width": "80%"
      }
     },
     "22d4ab3d84414b5eb1aff5eca6f11e4c": {
      "model_module": "@jupyter-widgets/controls",
      "model_module_version": "1.0.0",
      "model_name": "ButtonStyleModel",
      "state": {}
     },
     "22f53a34a2bd4748a14ca0ae7398e231": {
      "model_module": "@jupyter-widgets/controls",
      "model_module_version": "1.0.0",
      "model_name": "DescriptionStyleModel",
      "state": {
       "description_width": ""
      }
     },
     "2306aee16b2e498fb8752c9345c366fd": {
      "model_module": "@jupyter-widgets/base",
      "model_module_version": "1.0.0",
      "model_name": "LayoutModel",
      "state": {}
     },
     "232d1bbacd774565a1f19442f7cc04b0": {
      "model_module": "@jupyter-widgets/controls",
      "model_module_version": "1.0.0",
      "model_name": "DescriptionStyleModel",
      "state": {
       "description_width": ""
      }
     },
     "23aa5666830e46a28a3081ea708151b4": {
      "model_module": "@jupyter-widgets/base",
      "model_module_version": "1.0.0",
      "model_name": "LayoutModel",
      "state": {}
     },
     "23b061e4a6d6467bbe15094c7375cb96": {
      "model_module": "@jupyter-widgets/controls",
      "model_module_version": "1.0.0",
      "model_name": "DescriptionStyleModel",
      "state": {
       "description_width": ""
      }
     },
     "23e50a1a174846699df34ed9cd5225dc": {
      "model_module": "@jupyter-widgets/controls",
      "model_module_version": "1.0.0",
      "model_name": "HTMLModel",
      "state": {
       "layout": "IPY_MODEL_b9bdee414b69412d84a2571780f1f7b0",
       "style": "IPY_MODEL_fadb1ba531c74fe8ac7152c0836b2bb3",
       "value": "no annotation found"
      }
     },
     "243ca8ad67194a5e90e30528a4f3a959": {
      "model_module": "@jupyter-widgets/controls",
      "model_module_version": "1.0.0",
      "model_name": "DescriptionStyleModel",
      "state": {
       "description_width": ""
      }
     },
     "2470ee5124b4465b9848dd784432767a": {
      "model_module": "@jupyter-widgets/base",
      "model_module_version": "1.0.0",
      "model_name": "LayoutModel",
      "state": {
       "width": "20%"
      }
     },
     "251fefe9eb104ecba782bcfc5118074a": {
      "model_module": "@jupyter-widgets/controls",
      "model_module_version": "1.0.0",
      "model_name": "DescriptionStyleModel",
      "state": {
       "description_width": ""
      }
     },
     "255537ebc0b3440bb5aa1005ee72f7c5": {
      "model_module": "@jupyter-widgets/controls",
      "model_module_version": "1.0.0",
      "model_name": "DropdownModel",
      "state": {
       "_options_labels": [
        "oxygen",
        "ph",
        "level1",
        "level2",
        "new.order",
        "ori.order",
        "taxonomy"
       ],
       "index": 0,
       "layout": "IPY_MODEL_6ba4d258476e48e7b1b63a2ea5c37cdc",
       "style": "IPY_MODEL_34d17a8e01d6450d8bcb4d905aaacbc1"
      }
     },
     "25fefce25fe843eb97fb0dddec8ce158": {
      "model_module": "@jupyter-widgets/base",
      "model_module_version": "1.0.0",
      "model_name": "LayoutModel",
      "state": {
       "width": "20%"
      }
     },
     "264c71cb5c2f448fbc2b032fcae8e7e8": {
      "model_module": "@jupyter-widgets/controls",
      "model_module_version": "1.0.0",
      "model_name": "DescriptionStyleModel",
      "state": {
       "description_width": ""
      }
     },
     "266acbea6439498d9c9835dd34bc2b56": {
      "model_module": "@jupyter-widgets/controls",
      "model_module_version": "1.0.0",
      "model_name": "HBoxModel",
      "state": {
       "children": [
        "IPY_MODEL_3a1f7ad3862c448a9d633ce9308ec357",
        "IPY_MODEL_72ca2da620864950a1ce9d943470cdf3"
       ],
       "layout": "IPY_MODEL_a90a70232dbc40e498e9530981c3096b"
      }
     },
     "26b0a8291b8a43779ec1ea5975dce562": {
      "model_module": "@jupyter-widgets/base",
      "model_module_version": "1.0.0",
      "model_name": "LayoutModel",
      "state": {
       "width": "100%"
      }
     },
     "270b6d3846df4858be126fb7414162e0": {
      "model_module": "@jupyter-widgets/controls",
      "model_module_version": "1.0.0",
      "model_name": "DropdownModel",
      "state": {
       "_options_labels": [
        "ori.order",
        "group",
        "new.order",
        "categorical",
        "_calour_original_abundance"
       ],
       "index": 0,
       "layout": "IPY_MODEL_b99e9da4029b419090801961b9cf61bd",
       "style": "IPY_MODEL_5d347afdf8964e68ad9b873b4e3561ef"
      }
     },
     "2715248910f54ce885844419727a747e": {
      "model_module": "@jupyter-widgets/controls",
      "model_module_version": "1.0.0",
      "model_name": "HTMLModel",
      "state": {
       "layout": "IPY_MODEL_3a3f2fd1125a41adad85ab3a1433de1f",
       "style": "IPY_MODEL_1912bfebd2fc483bb4324f79adc1d059",
       "value": "<style> a:link {color:black; background-color:transparent; text-decoration:none}a:visited {color:black; background-color:transparent; text-decoration:none}</style><p style=\"color:black;white-space:nowrap;\"><a href=\"http://dbbact.org/annotation_info/NA\"   target=\"_blank\">No annotation found in database dbBact</a></p>"
      }
     },
     "277774fb06a445ada09b50fa66740e42": {
      "model_module": "@jupyter-widgets/base",
      "model_module_version": "1.0.0",
      "model_name": "LayoutModel",
      "state": {}
     },
     "27b1fc23675040c7ae865bfc0604cc82": {
      "model_module": "@jupyter-widgets/controls",
      "model_module_version": "1.0.0",
      "model_name": "DescriptionStyleModel",
      "state": {
       "description_width": ""
      }
     },
     "27cb91b373b0428ca464d7ec2e4a81e7": {
      "model_module": "@jupyter-widgets/controls",
      "model_module_version": "1.0.0",
      "model_name": "TextModel",
      "state": {
       "layout": "IPY_MODEL_47e81a79b0d449069d97164dbb7f2445",
       "placeholder": "sample meta",
       "style": "IPY_MODEL_f017309af9ce4009baf89347e8da140d",
       "value": "-"
      }
     },
     "28402a2388724c3fae2a366a99faa3cd": {
      "model_module": "@jupyter-widgets/controls",
      "model_module_version": "1.0.0",
      "model_name": "TextModel",
      "state": {
       "description": "Sample ID",
       "layout": "IPY_MODEL_0fc054d821a547a59cd2399708c31d56",
       "placeholder": "Sample ID",
       "style": "IPY_MODEL_fe8b7b14bd7e4db583f408717f0e0285",
       "value": "S9"
      }
     },
     "284f28960d404abc9d30388fd673c37c": {
      "model_module": "@jupyter-widgets/controls",
      "model_module_version": "1.0.0",
      "model_name": "HBoxModel",
      "state": {
       "children": [
        "IPY_MODEL_255537ebc0b3440bb5aa1005ee72f7c5",
        "IPY_MODEL_4395cc26020f41f4b1321cc2eb9c4532"
       ],
       "layout": "IPY_MODEL_7daf8677bcaf43b191a32cfa52e9cb66"
      }
     },
     "287bcf9dbc26408cba8f5cdf3348f93b": {
      "model_module": "@jupyter-widgets/controls",
      "model_module_version": "1.0.0",
      "model_name": "DropdownModel",
      "state": {
       "_options_labels": [
        "oxygen",
        "ph",
        "level1",
        "level2",
        "new.order",
        "ori.order",
        "taxonomy"
       ],
       "index": 0,
       "layout": "IPY_MODEL_43d4178e3a6748de8b719661c4738663",
       "style": "IPY_MODEL_1af83f23ed93416fa763860d11a7fbc2"
      }
     },
     "28933b63a14b4519b03df2e558d27162": {
      "model_module": "@jupyter-widgets/base",
      "model_module_version": "1.0.0",
      "model_name": "LayoutModel",
      "state": {
       "width": "20%"
      }
     },
     "28b49254158a4cd68e7f78a0c69fccad": {
      "model_module": "@jupyter-widgets/controls",
      "model_module_version": "1.0.0",
      "model_name": "TextModel",
      "state": {
       "layout": "IPY_MODEL_ade922e74dca451c9513706e02715cef",
       "placeholder": "sample meta",
       "style": "IPY_MODEL_7043632e77bf4cfd8248c070e4b06212",
       "value": "8"
      }
     },
     "2979aa0ba7fa4d099eb2e734cbd2da55": {
      "model_module": "@jupyter-widgets/base",
      "model_module_version": "1.0.0",
      "model_name": "LayoutModel",
      "state": {
       "width": "20%"
      }
     },
     "29e59b1f20dc408bb2d2fff975a9b41b": {
      "model_module": "@jupyter-widgets/controls",
      "model_module_version": "1.0.0",
      "model_name": "DropdownModel",
      "state": {
       "_options_labels": [
        "ori.order",
        "group",
        "new.order",
        "categorical",
        "_calour_original_abundance"
       ],
       "index": 0,
       "layout": "IPY_MODEL_abe3ea449b7341bb8514ac5575384e14",
       "style": "IPY_MODEL_0376c356e3a645a4b26a4cbf09b020c3"
      }
     },
     "29e808bc686b4452995d7e9049b7205f": {
      "model_module": "@jupyter-widgets/base",
      "model_module_version": "1.0.0",
      "model_name": "LayoutModel",
      "state": {
       "width": "20%"
      }
     },
     "29f107f897974babaeec89338afa71e4": {
      "model_module": "@jupyter-widgets/controls",
      "model_module_version": "1.0.0",
      "model_name": "DropdownModel",
      "state": {
       "_options_labels": [
        "oxygen",
        "ph",
        "level1",
        "level2",
        "new.order",
        "ori.order",
        "taxonomy"
       ],
       "index": 0,
       "layout": "IPY_MODEL_7bef7c20e9464d468783ca4a78c3d30d",
       "style": "IPY_MODEL_879abe67fe034d72aa5ee141d7fd465e"
      }
     },
     "2a79dfa401c949a59b6432958fb07569": {
      "model_module": "@jupyter-widgets/controls",
      "model_module_version": "1.0.0",
      "model_name": "ButtonStyleModel",
      "state": {}
     },
     "2a949cb24c8549f99ad364f255401d62": {
      "model_module": "@jupyter-widgets/controls",
      "model_module_version": "1.0.0",
      "model_name": "FloatTextModel",
      "state": {
       "description": "Abundance",
       "layout": "IPY_MODEL_6a78243a8abb4458b19ae1a0500dab91",
       "step": null,
       "style": "IPY_MODEL_7bc60e2cf7fa45db8205d74c444fb512"
      }
     },
     "2aec13d18d6f43d592eea906856e9abc": {
      "model_module": "@jupyter-widgets/controls",
      "model_module_version": "1.0.0",
      "model_name": "DescriptionStyleModel",
      "state": {
       "description_width": ""
      }
     },
     "2b4b30636de24a7d87ec9b53a9931001": {
      "model_module": "@jupyter-widgets/controls",
      "model_module_version": "1.0.0",
      "model_name": "FloatTextModel",
      "state": {
       "description": "Abundance",
       "layout": "IPY_MODEL_e645d7359c8d49039234e2ac88b11a85",
       "step": null,
       "style": "IPY_MODEL_34c560d96eef45a3a977baffe76d58a3",
       "value": 900
      }
     },
     "2ba689d5830d4d06b98eb1020bab37da": {
      "model_module": "@jupyter-widgets/base",
      "model_module_version": "1.0.0",
      "model_name": "LayoutModel",
      "state": {
       "width": "100%"
      }
     },
     "2bb37815d26946618ddde090bc8a36d1": {
      "model_module": "@jupyter-widgets/base",
      "model_module_version": "1.0.0",
      "model_name": "LayoutModel",
      "state": {}
     },
     "2bd369cb84544a29820f7d31f00d75ea": {
      "model_module": "@jupyter-widgets/base",
      "model_module_version": "1.0.0",
      "model_name": "LayoutModel",
      "state": {
       "width": "20%"
      }
     },
     "2bfb81ad23ac4a45baa2a3e07d12d60c": {
      "model_module": "@jupyter-widgets/base",
      "model_module_version": "1.0.0",
      "model_name": "LayoutModel",
      "state": {}
     },
     "2c2795edfcaa4232adfbbcd583c438b4": {
      "model_module": "@jupyter-widgets/base",
      "model_module_version": "1.0.0",
      "model_name": "LayoutModel",
      "state": {
       "width": "20%"
      }
     },
     "2c8602ed24ca483db38d09c8cd22029f": {
      "model_module": "@jupyter-widgets/controls",
      "model_module_version": "1.0.0",
      "model_name": "ButtonModel",
      "state": {
       "description": "Save",
       "layout": "IPY_MODEL_6bedb4baac694ac8a59c20e170d35890",
       "style": "IPY_MODEL_f1b89d11ed9d4e528e65da3a7f0a7637",
       "tooltip": "Save the selection(s)"
      }
     },
     "2c8de8243de84e59bc88e66697fc11b2": {
      "model_module": "@jupyter-widgets/controls",
      "model_module_version": "1.0.0",
      "model_name": "ButtonModel",
      "state": {
       "description": "Annotate",
       "layout": "IPY_MODEL_fff4cb1692bd4787bc8a886a83220275",
       "style": "IPY_MODEL_b8a335a2fd044ae29795138322201e00"
      }
     },
     "2cd6a44f6b394ae08f319e2560c5ae91": {
      "model_module": "@jupyter-widgets/controls",
      "model_module_version": "1.0.0",
      "model_name": "TextModel",
      "state": {
       "layout": "IPY_MODEL_4ba7c81175cf491ab6cea7432343952d",
       "placeholder": "feature meta",
       "style": "IPY_MODEL_7a41573e30004dbabf0043eee1f46740",
       "value": "anaerobic"
      }
     },
     "2d37a5e15cda47b68a805f2ec44bcbbd": {
      "model_module": "@jupyter-widgets/controls",
      "model_module_version": "1.0.0",
      "model_name": "TextModel",
      "state": {
       "layout": "IPY_MODEL_03f1c9ce4df544d492ec0a01f1a26d87",
       "placeholder": "feature meta",
       "style": "IPY_MODEL_4aae4558364a4e80a2d3a1cd34e490a0",
       "value": "-"
      }
     },
     "2d96f0e0dcce496b9430fe6b238e5ba8": {
      "model_module": "@jupyter-widgets/controls",
      "model_module_version": "1.0.0",
      "model_name": "HBoxModel",
      "state": {
       "children": [
        "IPY_MODEL_12b79f054bad44a593585fa8ca3a8c51",
        "IPY_MODEL_726ebe804d5546d1b1d32c81ba16eb54",
        "IPY_MODEL_6b04e885f258431aa527f05fa131ddcd"
       ],
       "layout": "IPY_MODEL_fe17a9f6eb674a01bf2b574371434fa7"
      }
     },
     "2d96ff52a28448d9a5b34edec0c6c130": {
      "model_module": "@jupyter-widgets/controls",
      "model_module_version": "1.0.0",
      "model_name": "DropdownModel",
      "state": {
       "_options_labels": [
        "ori.order",
        "group",
        "new.order",
        "categorical",
        "_calour_original_abundance"
       ],
       "index": 0,
       "layout": "IPY_MODEL_c77aefc22b624e44b3dedac6e100afcc",
       "style": "IPY_MODEL_c6baf46e7ef5412da2ba5d6d8d9a3176"
      }
     },
     "2e2b0abce5da4dc5a6a66343af5f5fe6": {
      "model_module": "@jupyter-widgets/controls",
      "model_module_version": "1.0.0",
      "model_name": "ButtonModel",
      "state": {
       "description": "Save",
       "layout": "IPY_MODEL_054edc993fcf47d388a137916bc92da7",
       "style": "IPY_MODEL_b1865a55f3cc4806936ca9846d26dfdc",
       "tooltip": "Save the selection(s)"
      }
     },
     "2e2fc3b9154e4cc086926a7671fbe671": {
      "model_module": "@jupyter-widgets/controls",
      "model_module_version": "1.0.0",
      "model_name": "DescriptionStyleModel",
      "state": {
       "description_width": ""
      }
     },
     "2e88b9c2aeaa47589580eaa4c139599f": {
      "model_module": "@jupyter-widgets/controls",
      "model_module_version": "1.0.0",
      "model_name": "DropdownModel",
      "state": {
       "_options_labels": [
        "oxygen",
        "ph",
        "level1",
        "level2",
        "new.order",
        "ori.order",
        "taxonomy"
       ],
       "index": 0,
       "layout": "IPY_MODEL_28933b63a14b4519b03df2e558d27162",
       "style": "IPY_MODEL_222c760c1e2c4d4aa967d479fb0effb6"
      }
     },
     "2eb8e2db28e04011a26a20c32b732cd5": {
      "model_module": "@jupyter-widgets/base",
      "model_module_version": "1.0.0",
      "model_name": "LayoutModel",
      "state": {}
     },
     "2ef739485b2b43fcb5cf79c53e6346dd": {
      "model_module": "@jupyter-widgets/controls",
      "model_module_version": "1.0.0",
      "model_name": "DescriptionStyleModel",
      "state": {
       "description_width": ""
      }
     },
     "3031ec9cc51948878c34cf0d2cc36791": {
      "model_module": "@jupyter-widgets/controls",
      "model_module_version": "1.0.0",
      "model_name": "DescriptionStyleModel",
      "state": {
       "description_width": ""
      }
     },
     "303bf4dfd017450fb4be2a009fe5f381": {
      "model_module": "@jupyter-widgets/controls",
      "model_module_version": "1.0.0",
      "model_name": "HTMLModel",
      "state": {
       "layout": "IPY_MODEL_8ae8fe10e65a46efbed6fafc0d1aba7c",
       "style": "IPY_MODEL_5bd5353aa92640ac9a7407187cf89779",
       "value": "<style> a:link {color:black; background-color:transparent; text-decoration:none}a:visited {color:black; background-color:transparent; text-decoration:none}</style><p style=\"color:black;white-space:nowrap;\"><a href=\"http://dbbact.org/annotation_info/NA\"   target=\"_blank\">No annotation found in database dbBact</a></p>"
      }
     },
     "30c9afd23bbb4a14b515ac1cc0d9b2a8": {
      "model_module": "@jupyter-widgets/controls",
      "model_module_version": "1.0.0",
      "model_name": "DropdownModel",
      "state": {
       "_options_labels": [
        "oxygen",
        "ph",
        "level1",
        "level2",
        "new.order",
        "ori.order",
        "taxonomy"
       ],
       "index": 0,
       "layout": "IPY_MODEL_3210a34bce134a5eab168002ba9c757c",
       "style": "IPY_MODEL_960df2a4f6054b57a54b257213e7f63e"
      }
     },
     "31ff334f0f0a4500b8c01fefed5e7a40": {
      "model_module": "@jupyter-widgets/controls",
      "model_module_version": "1.0.0",
      "model_name": "DropdownModel",
      "state": {
       "_options_labels": [
        "oxygen",
        "ph",
        "level1",
        "level2",
        "new.order",
        "ori.order",
        "taxonomy"
       ],
       "index": 0,
       "layout": "IPY_MODEL_2c2795edfcaa4232adfbbcd583c438b4",
       "style": "IPY_MODEL_27b1fc23675040c7ae865bfc0604cc82"
      }
     },
     "3210a34bce134a5eab168002ba9c757c": {
      "model_module": "@jupyter-widgets/base",
      "model_module_version": "1.0.0",
      "model_name": "LayoutModel",
      "state": {
       "width": "20%"
      }
     },
     "32531c6449d2475e958d1725bcabe040": {
      "model_module": "@jupyter-widgets/base",
      "model_module_version": "1.0.0",
      "model_name": "LayoutModel",
      "state": {
       "width": "80%"
      }
     },
     "32e6f77cf1564b7a942e1df329361bc8": {
      "model_module": "@jupyter-widgets/controls",
      "model_module_version": "1.0.0",
      "model_name": "DescriptionStyleModel",
      "state": {
       "description_width": ""
      }
     },
     "32ed7ce94fa4446685d4c9fd31f767a9": {
      "model_module": "@jupyter-widgets/base",
      "model_module_version": "1.0.0",
      "model_name": "LayoutModel",
      "state": {
       "width": "20%"
      }
     },
     "33344284774f4887ad26d9c556943fe0": {
      "model_module": "@jupyter-widgets/controls",
      "model_module_version": "1.0.0",
      "model_name": "LabelModel",
      "state": {
       "layout": "IPY_MODEL_83abe99485bf4107aac03846fa6c9969",
       "style": "IPY_MODEL_e313380e1f6b41359c77a6705ccd1576",
       "value": "1 features are selected"
      }
     },
     "336d2c9752d943d387b7a98127cf5e54": {
      "model_module": "@jupyter-widgets/controls",
      "model_module_version": "1.0.0",
      "model_name": "TextModel",
      "state": {
       "description": "Sample ID",
       "layout": "IPY_MODEL_2ba689d5830d4d06b98eb1020bab37da",
       "placeholder": "Sample ID",
       "style": "IPY_MODEL_91814db0b8d64f12b71d3d70653e8801",
       "value": "S3"
      }
     },
     "33f27180a6ac49a5b8eac0b8e7c1a59b": {
      "model_module": "@jupyter-widgets/controls",
      "model_module_version": "1.0.0",
      "model_name": "DescriptionStyleModel",
      "state": {
       "description_width": ""
      }
     },
     "3420682b367d4a3f961ac834a60cea69": {
      "model_module": "@jupyter-widgets/controls",
      "model_module_version": "1.0.0",
      "model_name": "ButtonModel",
      "state": {
       "description": "Annotate",
       "layout": "IPY_MODEL_0dcb8e4af49f4ae589e9f9c6952f95c1",
       "style": "IPY_MODEL_480e3f0f685a447ab02485dab40b2440"
      }
     },
     "3494986736514571ae2c90fc89f1f6bb": {
      "model_module": "@jupyter-widgets/controls",
      "model_module_version": "1.0.0",
      "model_name": "DescriptionStyleModel",
      "state": {
       "description_width": ""
      }
     },
     "3499ffa30e94402ba4c68f98a5f63755": {
      "model_module": "@jupyter-widgets/controls",
      "model_module_version": "1.0.0",
      "model_name": "DescriptionStyleModel",
      "state": {
       "description_width": ""
      }
     },
     "34c560d96eef45a3a977baffe76d58a3": {
      "model_module": "@jupyter-widgets/controls",
      "model_module_version": "1.0.0",
      "model_name": "DescriptionStyleModel",
      "state": {
       "description_width": ""
      }
     },
     "34d17a8e01d6450d8bcb4d905aaacbc1": {
      "model_module": "@jupyter-widgets/controls",
      "model_module_version": "1.0.0",
      "model_name": "DescriptionStyleModel",
      "state": {
       "description_width": ""
      }
     },
     "351ae87e74134ce0b3f740d54860644e": {
      "model_module": "@jupyter-widgets/controls",
      "model_module_version": "1.0.0",
      "model_name": "TextModel",
      "state": {
       "layout": "IPY_MODEL_f114eb6581ee4c87b838083234c754da",
       "placeholder": "sample meta",
       "style": "IPY_MODEL_b6d12b824375495ab474bda317ce2bbe",
       "value": "-"
      }
     },
     "354225d24e364044adb57e3f33eab86a": {
      "model_module": "@jupyter-widgets/controls",
      "model_module_version": "1.0.0",
      "model_name": "TextModel",
      "state": {
       "layout": "IPY_MODEL_6cfc29a9736b486589cddb2aec69eff6",
       "placeholder": "sample meta",
       "style": "IPY_MODEL_7968a43a1a314708885a2febf7586d07",
       "value": "-"
      }
     },
     "354496bb29d4433ab4ccb97caa24001b": {
      "model_module": "@jupyter-widgets/controls",
      "model_module_version": "1.0.0",
      "model_name": "DescriptionStyleModel",
      "state": {
       "description_width": ""
      }
     },
     "3635eb6bf5bd4eb2b3c511ad41937e04": {
      "model_module": "@jupyter-widgets/controls",
      "model_module_version": "1.0.0",
      "model_name": "DropdownModel",
      "state": {
       "_options_labels": [
        "oxygen",
        "ph",
        "level1",
        "level2",
        "new.order",
        "ori.order",
        "taxonomy"
       ],
       "index": 0,
       "layout": "IPY_MODEL_2470ee5124b4465b9848dd784432767a",
       "style": "IPY_MODEL_7bbecd1f33544181b1889546cbaa4c14"
      }
     },
     "367f81208665413ea1e085c2f4e6c455": {
      "model_module": "@jupyter-widgets/controls",
      "model_module_version": "1.0.0",
      "model_name": "ButtonStyleModel",
      "state": {}
     },
     "36dc4783e43a44b388f2c5cdfc82846f": {
      "model_module": "@jupyter-widgets/controls",
      "model_module_version": "1.0.0",
      "model_name": "HBoxModel",
      "state": {
       "children": [
        "IPY_MODEL_022948883ab44feb8b8c02ea11bf5709",
        "IPY_MODEL_c81aaf95ebd94deb936e19ba5d3622f2",
        "IPY_MODEL_48782a6453594d8382b5b86c6eda84b7"
       ],
       "layout": "IPY_MODEL_80eb024d88ec4617a8178421dfb17d8f"
      }
     },
     "36fb6a81180c48d68e3c1213de0693c1": {
      "model_module": "@jupyter-widgets/controls",
      "model_module_version": "1.0.0",
      "model_name": "TextModel",
      "state": {
       "description": "Sample ID",
       "layout": "IPY_MODEL_d59215ebf4b145409800dd999aeb9210",
       "placeholder": "Sample ID",
       "style": "IPY_MODEL_e025ed167a4e45f8b19de4325b880c74",
       "value": "S2"
      }
     },
     "3768e755d3a248859fac3856d251c403": {
      "model_module": "@jupyter-widgets/controls",
      "model_module_version": "1.0.0",
      "model_name": "ButtonStyleModel",
      "state": {}
     },
     "37a7059974b241c89345100dcfa39b8e": {
      "model_module": "@jupyter-widgets/controls",
      "model_module_version": "1.0.0",
      "model_name": "DescriptionStyleModel",
      "state": {
       "description_width": ""
      }
     },
     "383eff41594943228926d9b13904e810": {
      "model_module": "@jupyter-widgets/controls",
      "model_module_version": "1.0.0",
      "model_name": "LabelModel",
      "state": {
       "layout": "IPY_MODEL_7023f7c41ae144399908a4f124e9db30",
       "style": "IPY_MODEL_42527617e31540bda5e8c2bad299ee44",
       "value": "0 features are selected"
      }
     },
     "389e14a306a3404fa87ca08730449c9d": {
      "model_module": "@jupyter-widgets/controls",
      "model_module_version": "1.0.0",
      "model_name": "TextModel",
      "state": {
       "description": "Feature ID",
       "layout": "IPY_MODEL_019046940176475d87de54db26107ee7",
       "placeholder": "Feature ID",
       "style": "IPY_MODEL_71ae1c1cdd5d43dfa2c3cf492850d582",
       "value": "AT"
      }
     },
     "39410abbc167453387a2c1c5e76bcf55": {
      "model_module": "@jupyter-widgets/controls",
      "model_module_version": "1.0.0",
      "model_name": "HBoxModel",
      "state": {
       "children": [
        "IPY_MODEL_9802adaa4e154ffdb94436771cbfd92b",
        "IPY_MODEL_4718753b688d4ccf992e28d8c92e5cc5"
       ],
       "layout": "IPY_MODEL_544ce9bde23e4414a401b9c64bab2e25"
      }
     },
     "39a0c7e40f304fa99aeae4b208ecc13b": {
      "model_module": "@jupyter-widgets/controls",
      "model_module_version": "1.0.0",
      "model_name": "DescriptionStyleModel",
      "state": {
       "description_width": ""
      }
     },
     "3a1f7ad3862c448a9d633ce9308ec357": {
      "model_module": "@jupyter-widgets/controls",
      "model_module_version": "1.0.0",
      "model_name": "DropdownModel",
      "state": {
       "_options_labels": [
        "oxygen",
        "ph",
        "level1",
        "level2",
        "new.order",
        "ori.order",
        "taxonomy"
       ],
       "index": 0,
       "layout": "IPY_MODEL_170910412c47479d93ab6de0cfe5134d",
       "style": "IPY_MODEL_c731b56898dc4e27ab0253d2af3629dc"
      }
     },
     "3a227cd0d6bd41d4bd2b38aea0a2a997": {
      "model_module": "@jupyter-widgets/base",
      "model_module_version": "1.0.0",
      "model_name": "LayoutModel",
      "state": {
       "width": "80%"
      }
     },
     "3a272e5250e94bda8d8d50c0e56ed531": {
      "model_module": "@jupyter-widgets/controls",
      "model_module_version": "1.0.0",
      "model_name": "DropdownModel",
      "state": {
       "_options_labels": [
        "oxygen",
        "ph",
        "level1",
        "level2",
        "new.order",
        "ori.order",
        "taxonomy"
       ],
       "index": 0,
       "layout": "IPY_MODEL_1bca3f6dd10c4d21b4f8e64d641d5e00",
       "style": "IPY_MODEL_08e7c1acec87461f8d4f65b1f5a24b60"
      }
     },
     "3a3f2fd1125a41adad85ab3a1433de1f": {
      "model_module": "@jupyter-widgets/base",
      "model_module_version": "1.0.0",
      "model_name": "LayoutModel",
      "state": {
       "height": "100px",
       "overflow_y": "auto"
      }
     },
     "3a956e689a7942c8a0268a5ff91df731": {
      "model_module": "@jupyter-widgets/base",
      "model_module_version": "1.0.0",
      "model_name": "LayoutModel",
      "state": {
       "width": "20%"
      }
     },
     "3ad0d55915714ffb9375ffbaf886cf13": {
      "model_module": "@jupyter-widgets/base",
      "model_module_version": "1.0.0",
      "model_name": "LayoutModel",
      "state": {}
     },
     "3ba474507f8e46aa97e33120097f76f3": {
      "model_module": "@jupyter-widgets/controls",
      "model_module_version": "1.0.0",
      "model_name": "DescriptionStyleModel",
      "state": {
       "description_width": ""
      }
     },
     "3bb822e442e044afaae17f995f5c8a5e": {
      "model_module": "@jupyter-widgets/base",
      "model_module_version": "1.0.0",
      "model_name": "LayoutModel",
      "state": {}
     },
     "3c35e565499147569f9bcaa51b42566c": {
      "model_module": "@jupyter-widgets/controls",
      "model_module_version": "1.0.0",
      "model_name": "HBoxModel",
      "state": {
       "children": [
        "IPY_MODEL_2d96ff52a28448d9a5b34edec0c6c130",
        "IPY_MODEL_3ec9e28fcee144c59251023bbf160f50"
       ],
       "layout": "IPY_MODEL_a98dab2261f4407fb148957ab4044bf2"
      }
     },
     "3c7ffdcf60624398aa86e346c6a81ecc": {
      "model_module": "@jupyter-widgets/controls",
      "model_module_version": "1.0.0",
      "model_name": "DescriptionStyleModel",
      "state": {
       "description_width": ""
      }
     },
     "3c99b2cb53f348098705e2b6ec245d63": {
      "model_module": "@jupyter-widgets/controls",
      "model_module_version": "1.0.0",
      "model_name": "DescriptionStyleModel",
      "state": {
       "description_width": ""
      }
     },
     "3d476dd4fe5a4d309ebc33a3228e1984": {
      "model_module": "@jupyter-widgets/controls",
      "model_module_version": "1.0.0",
      "model_name": "DropdownModel",
      "state": {
       "_options_labels": [
        "oxygen",
        "ph",
        "level1",
        "level2",
        "new.order",
        "ori.order",
        "taxonomy"
       ],
       "index": 0,
       "layout": "IPY_MODEL_2bd369cb84544a29820f7d31f00d75ea",
       "style": "IPY_MODEL_a27ef6f8258a4627a196f6c7e3d9208e"
      }
     },
     "3d60c6483bad4efebc2f73a3c5fe22c7": {
      "model_module": "@jupyter-widgets/base",
      "model_module_version": "1.0.0",
      "model_name": "LayoutModel",
      "state": {}
     },
     "3e9d3806dcc145989927b1e74fb92344": {
      "model_module": "@jupyter-widgets/controls",
      "model_module_version": "1.0.0",
      "model_name": "DescriptionStyleModel",
      "state": {
       "description_width": ""
      }
     },
     "3ea86f2b58ad4827964408c8d437eced": {
      "model_module": "@jupyter-widgets/controls",
      "model_module_version": "1.0.0",
      "model_name": "DescriptionStyleModel",
      "state": {
       "description_width": ""
      }
     },
     "3ec9e28fcee144c59251023bbf160f50": {
      "model_module": "@jupyter-widgets/controls",
      "model_module_version": "1.0.0",
      "model_name": "TextModel",
      "state": {
       "layout": "IPY_MODEL_140c80ea13984d0497fae62bd5c39e16",
       "placeholder": "sample meta",
       "style": "IPY_MODEL_96126401a62a46ada51531a573230569",
       "value": "-"
      }
     },
     "3eecac5f6502494fa740fe460326cbd7": {
      "model_module": "@jupyter-widgets/controls",
      "model_module_version": "1.0.0",
      "model_name": "ButtonStyleModel",
      "state": {}
     },
     "3ef4557cd5c14d868882336d821d6c24": {
      "model_module": "@jupyter-widgets/base",
      "model_module_version": "1.0.0",
      "model_name": "LayoutModel",
      "state": {}
     },
     "3effb17aa2a4473fbe49ea9685595680": {
      "model_module": "@jupyter-widgets/controls",
      "model_module_version": "1.0.0",
      "model_name": "TextModel",
      "state": {
       "description": "Sample ID",
       "layout": "IPY_MODEL_80c5bc5bac9f4b009ff6369d9b52c34d",
       "placeholder": "Sample ID",
       "style": "IPY_MODEL_bcb1a3d1bc194669a7016a10d8c99974",
       "value": "-"
      }
     },
     "3f1a094381784559bff88f2e238299e3": {
      "model_module": "@jupyter-widgets/controls",
      "model_module_version": "1.0.0",
      "model_name": "TextModel",
      "state": {
       "description": "Feature ID",
       "layout": "IPY_MODEL_26b0a8291b8a43779ec1ea5975dce562",
       "placeholder": "Feature ID",
       "style": "IPY_MODEL_ea9ba488adb14f929111ea8b48fbc9e7",
       "value": "TA"
      }
     },
     "3f1bcaf1c7df4fc9b42f9ff393e652d9": {
      "model_module": "@jupyter-widgets/controls",
      "model_module_version": "1.0.0",
      "model_name": "LabelModel",
      "state": {
       "layout": "IPY_MODEL_dc8840a850dc4b9a917c76c09a539f1c",
       "style": "IPY_MODEL_9ca03c1d41354c71be81a71d333417ee",
       "value": "0 features are selected"
      }
     },
     "3f84dbfd56524588b905d65224fb99b7": {
      "model_module": "@jupyter-widgets/controls",
      "model_module_version": "1.0.0",
      "model_name": "ButtonStyleModel",
      "state": {}
     },
     "3fcda6f2fb8c4481a8daed3a5dc0b21c": {
      "model_module": "@jupyter-widgets/controls",
      "model_module_version": "1.0.0",
      "model_name": "ButtonStyleModel",
      "state": {}
     },
     "3fdba54d6f17473489cc454aab683b5b": {
      "model_module": "@jupyter-widgets/base",
      "model_module_version": "1.0.0",
      "model_name": "LayoutModel",
      "state": {
       "width": "20%"
      }
     },
     "3fe8ba46b3be4ea78feca9feb84f3297": {
      "model_module": "@jupyter-widgets/controls",
      "model_module_version": "1.0.0",
      "model_name": "LabelModel",
      "state": {
       "layout": "IPY_MODEL_66e03cdd6dd140baa4c0bb44184822b3",
       "style": "IPY_MODEL_e240ab8593bd4e1e87e617545d0e25b0",
       "value": "0 features are selected"
      }
     },
     "3ff5012bd69a49138566f31f67ade583": {
      "model_module": "@jupyter-widgets/controls",
      "model_module_version": "1.0.0",
      "model_name": "DescriptionStyleModel",
      "state": {
       "description_width": ""
      }
     },
     "403ccc4602c54ebf9c5913e99ca37ce7": {
      "model_module": "@jupyter-widgets/base",
      "model_module_version": "1.0.0",
      "model_name": "LayoutModel",
      "state": {}
     },
     "40a65f059ff14cb0b7d09b4be951360c": {
      "model_module": "@jupyter-widgets/base",
      "model_module_version": "1.0.0",
      "model_name": "LayoutModel",
      "state": {}
     },
     "40ec191134c74d55ac914e8421098573": {
      "model_module": "@jupyter-widgets/controls",
      "model_module_version": "1.0.0",
      "model_name": "DescriptionStyleModel",
      "state": {
       "description_width": ""
      }
     },
     "41109dfeb3eb418b93516e3e34efb8a4": {
      "model_module": "@jupyter-widgets/controls",
      "model_module_version": "1.0.0",
      "model_name": "DropdownModel",
      "state": {
       "_options_labels": [
        "oxygen",
        "ph",
        "level1",
        "level2",
        "new.order",
        "ori.order",
        "taxonomy"
       ],
       "index": 0,
       "layout": "IPY_MODEL_b823c3e52c424a33ac95ee01ac525d6d",
       "style": "IPY_MODEL_2aec13d18d6f43d592eea906856e9abc"
      }
     },
     "419e6fcc7ceb4895bfe29bc9294e0bcc": {
      "model_module": "@jupyter-widgets/controls",
      "model_module_version": "1.0.0",
      "model_name": "HTMLModel",
      "state": {
       "layout": "IPY_MODEL_68d69335456a4a9eb8285559f8a6244f",
       "style": "IPY_MODEL_32e6f77cf1564b7a942e1df329361bc8",
       "value": "<style> a:link {color:black; background-color:transparent; text-decoration:none}a:visited {color:black; background-color:transparent; text-decoration:none}</style><p style=\"color:black;white-space:nowrap;\"><a href=\"http://dbbact.org/annotation_info/NA\"   target=\"_blank\">No annotation found in database dbBact</a></p>"
      }
     },
     "41aa402ee7d14626a93a4fd8eb2fdf72": {
      "model_module": "@jupyter-widgets/base",
      "model_module_version": "1.0.0",
      "model_name": "LayoutModel",
      "state": {
       "height": "100px",
       "overflow_y": "auto"
      }
     },
     "41cda9e6486e4b50b31d77ed42a32c2e": {
      "model_module": "@jupyter-widgets/controls",
      "model_module_version": "1.0.0",
      "model_name": "TextModel",
      "state": {
       "description": "Sample ID",
       "layout": "IPY_MODEL_5d7e0419d4ec4655b22c5d7169b62c7f",
       "placeholder": "Sample ID",
       "style": "IPY_MODEL_8ec1123f964a4ad993760b0c3b4053d1",
       "value": "-"
      }
     },
     "42527617e31540bda5e8c2bad299ee44": {
      "model_module": "@jupyter-widgets/controls",
      "model_module_version": "1.0.0",
      "model_name": "DescriptionStyleModel",
      "state": {
       "description_width": ""
      }
     },
     "4265d3f75038429c8efd6004907589c5": {
      "model_module": "@jupyter-widgets/controls",
      "model_module_version": "1.0.0",
      "model_name": "HBoxModel",
      "state": {
       "children": [
        "IPY_MODEL_b6847696b5334bb9813a3d03d95473a3",
        "IPY_MODEL_2c8602ed24ca483db38d09c8cd22029f",
        "IPY_MODEL_02ce769e358a45d19416951caf15ad65"
       ],
       "layout": "IPY_MODEL_5cf196e1287343c092c76523917121db"
      }
     },
     "426af36c438e42928a587f3cefaccecd": {
      "model_module": "@jupyter-widgets/controls",
      "model_module_version": "1.0.0",
      "model_name": "DropdownModel",
      "state": {
       "_options_labels": [
        "ori.order",
        "group",
        "new.order",
        "categorical",
        "_calour_original_abundance"
       ],
       "index": 0,
       "layout": "IPY_MODEL_ecd4c081588e4208aef03886f1406ce6",
       "style": "IPY_MODEL_af8fdc59253e49b9b9d99462cfdf1ac2"
      }
     },
     "426c43fca8b04f82896dedf27ad74826": {
      "model_module": "@jupyter-widgets/base",
      "model_module_version": "1.0.0",
      "model_name": "LayoutModel",
      "state": {}
     },
     "42d2c3b567f84b668c7dacfc2f617807": {
      "model_module": "@jupyter-widgets/controls",
      "model_module_version": "1.0.0",
      "model_name": "DescriptionStyleModel",
      "state": {
       "description_width": ""
      }
     },
     "43312d0cc3514e469aa86673c7dbd8fb": {
      "model_module": "@jupyter-widgets/controls",
      "model_module_version": "1.0.0",
      "model_name": "DescriptionStyleModel",
      "state": {
       "description_width": ""
      }
     },
     "433210ce464844fcb3b51d74ec0d7eec": {
      "model_module": "@jupyter-widgets/controls",
      "model_module_version": "1.0.0",
      "model_name": "DescriptionStyleModel",
      "state": {
       "description_width": ""
      }
     },
     "436daf778d42400cbcbf5fdd3a76f456": {
      "model_module": "@jupyter-widgets/controls",
      "model_module_version": "1.0.0",
      "model_name": "LabelModel",
      "state": {
       "layout": "IPY_MODEL_a947787b553a485fab496b15d7e0bb9a",
       "style": "IPY_MODEL_b957e7ac728047f48100ffb857fc966b",
       "value": "0 features are selected"
      }
     },
     "4395cc26020f41f4b1321cc2eb9c4532": {
      "model_module": "@jupyter-widgets/controls",
      "model_module_version": "1.0.0",
      "model_name": "TextModel",
      "state": {
       "layout": "IPY_MODEL_6b05e69ce5d848c98718e99b4bcdf07a",
       "placeholder": "feature meta",
       "style": "IPY_MODEL_175799df856748a3bbbad60e888ea6f4",
       "value": "-"
      }
     },
     "43a16580f116427a87abeda9ec8465da": {
      "model_module": "@jupyter-widgets/base",
      "model_module_version": "1.0.0",
      "model_name": "LayoutModel",
      "state": {}
     },
     "43d4178e3a6748de8b719661c4738663": {
      "model_module": "@jupyter-widgets/base",
      "model_module_version": "1.0.0",
      "model_name": "LayoutModel",
      "state": {
       "width": "20%"
      }
     },
     "442a539c0e5545a685e48a2b96d94796": {
      "model_module": "@jupyter-widgets/controls",
      "model_module_version": "1.0.0",
      "model_name": "DescriptionStyleModel",
      "state": {
       "description_width": ""
      }
     },
     "44705496aa0c4ec488da67db63d7cdc6": {
      "model_module": "@jupyter-widgets/base",
      "model_module_version": "1.0.0",
      "model_name": "LayoutModel",
      "state": {}
     },
     "44994213f04e4c3ba75264ca4cf6a7cd": {
      "model_module": "@jupyter-widgets/base",
      "model_module_version": "1.0.0",
      "model_name": "LayoutModel",
      "state": {
       "width": "100%"
      }
     },
     "44f1c99134484a6192cae249bf8853d0": {
      "model_module": "@jupyter-widgets/base",
      "model_module_version": "1.0.0",
      "model_name": "LayoutModel",
      "state": {}
     },
     "452f48ef744e4620a76c97266df33ac1": {
      "model_module": "@jupyter-widgets/base",
      "model_module_version": "1.0.0",
      "model_name": "LayoutModel",
      "state": {
       "width": "100%"
      }
     },
     "45a205b117a7489a8113fb0148a15d91": {
      "model_module": "@jupyter-widgets/controls",
      "model_module_version": "1.0.0",
      "model_name": "DescriptionStyleModel",
      "state": {
       "description_width": ""
      }
     },
     "45b1ae6bbc624fbba2607a821aa5ddc6": {
      "model_module": "@jupyter-widgets/controls",
      "model_module_version": "1.0.0",
      "model_name": "ButtonStyleModel",
      "state": {}
     },
     "45e5e82f447c4411988a68f0c6965574": {
      "model_module": "@jupyter-widgets/controls",
      "model_module_version": "1.0.0",
      "model_name": "LabelModel",
      "state": {
       "layout": "IPY_MODEL_b3414ba788f84cdbb2eabbbdf4e6c98f",
       "style": "IPY_MODEL_56b49f134c7047d9923f559bceeaca8c",
       "value": "0 features are selected"
      }
     },
     "45f7a1809e424d3096633eb86818a591": {
      "model_module": "@jupyter-widgets/controls",
      "model_module_version": "1.0.0",
      "model_name": "HBoxModel",
      "state": {
       "children": [
        "IPY_MODEL_bce1f898cb464f538ae1f5f348174688",
        "IPY_MODEL_fca0c8965c7b48618a67af8a73038f08",
        "IPY_MODEL_83d02d059fdd49beb8d858c03c30d6fa"
       ],
       "layout": "IPY_MODEL_44f1c99134484a6192cae249bf8853d0"
      }
     },
     "45fd4d89452c4a8685ed528df010d21d": {
      "model_module": "@jupyter-widgets/controls",
      "model_module_version": "1.0.0",
      "model_name": "TextModel",
      "state": {
       "layout": "IPY_MODEL_4d92915449c142699bfea6102a532c03",
       "placeholder": "sample meta",
       "style": "IPY_MODEL_3031ec9cc51948878c34cf0d2cc36791",
       "value": "8"
      }
     },
     "463ccf9e5f9e48569343575f205adec3": {
      "model_module": "@jupyter-widgets/base",
      "model_module_version": "1.0.0",
      "model_name": "LayoutModel",
      "state": {
       "height": "100px",
       "overflow_y": "auto"
      }
     },
     "46fd1a9ea25a4c888e0f728591bcbb77": {
      "model_module": "@jupyter-widgets/controls",
      "model_module_version": "1.0.0",
      "model_name": "FloatTextModel",
      "state": {
       "description": "Abundance",
       "layout": "IPY_MODEL_b9e20f433739466d836038e789e66f1a",
       "step": null,
       "style": "IPY_MODEL_eb416d4fc8084a5c9ce91c8c0ef6846c"
      }
     },
     "4718753b688d4ccf992e28d8c92e5cc5": {
      "model_module": "@jupyter-widgets/controls",
      "model_module_version": "1.0.0",
      "model_name": "TextModel",
      "state": {
       "layout": "IPY_MODEL_cffcaf88bd3b432bac472831ed6b33d3",
       "placeholder": "sample meta",
       "style": "IPY_MODEL_65acef67ce394b698ae560a4ed6b5fc9",
       "value": "8"
      }
     },
     "478d897582d1402791ae5fcd9a92698c": {
      "model_module": "@jupyter-widgets/controls",
      "model_module_version": "1.0.0",
      "model_name": "DescriptionStyleModel",
      "state": {
       "description_width": ""
      }
     },
     "4796b56ce3f14b3485b96f3c8681b8d0": {
      "model_module": "@jupyter-widgets/controls",
      "model_module_version": "1.0.0",
      "model_name": "LabelModel",
      "state": {
       "layout": "IPY_MODEL_4890dab6f10b4a76acc85ebe06ef95dd",
       "style": "IPY_MODEL_fa919bbd522b4c0eabe9311b2205c3b6",
       "value": "1 features are selected"
      }
     },
     "47e81a79b0d449069d97164dbb7f2445": {
      "model_module": "@jupyter-widgets/base",
      "model_module_version": "1.0.0",
      "model_name": "LayoutModel",
      "state": {
       "width": "80%"
      }
     },
     "480e3f0f685a447ab02485dab40b2440": {
      "model_module": "@jupyter-widgets/controls",
      "model_module_version": "1.0.0",
      "model_name": "ButtonStyleModel",
      "state": {}
     },
     "48318f6ceacd41b3bcd639a430ea7386": {
      "model_module": "@jupyter-widgets/controls",
      "model_module_version": "1.0.0",
      "model_name": "DescriptionStyleModel",
      "state": {
       "description_width": ""
      }
     },
     "48782a6453594d8382b5b86c6eda84b7": {
      "model_module": "@jupyter-widgets/controls",
      "model_module_version": "1.0.0",
      "model_name": "ButtonModel",
      "state": {
       "description": "Annotate",
       "layout": "IPY_MODEL_da8d13a9f853462cb0af42514b19e892",
       "style": "IPY_MODEL_3fcda6f2fb8c4481a8daed3a5dc0b21c"
      }
     },
     "48885d2c446042efa4b74b97572049e6": {
      "model_module": "@jupyter-widgets/base",
      "model_module_version": "1.0.0",
      "model_name": "LayoutModel",
      "state": {}
     },
     "4890dab6f10b4a76acc85ebe06ef95dd": {
      "model_module": "@jupyter-widgets/base",
      "model_module_version": "1.0.0",
      "model_name": "LayoutModel",
      "state": {}
     },
     "4893f5e05fd546ce8e956d8083dff7d0": {
      "model_module": "@jupyter-widgets/base",
      "model_module_version": "1.0.0",
      "model_name": "LayoutModel",
      "state": {}
     },
     "489ede789c1d48dc81976c0b45bf058c": {
      "model_module": "@jupyter-widgets/controls",
      "model_module_version": "1.0.0",
      "model_name": "HBoxModel",
      "state": {
       "children": [
        "IPY_MODEL_b431de663d9b41c184178269bbed151c",
        "IPY_MODEL_7b89056dbb8b4019902884ce6ec03104"
       ],
       "layout": "IPY_MODEL_169d5b99574f4b63b87199ac645201db"
      }
     },
     "496cb9f2f0ec49dca3c0e80f1431ac3e": {
      "model_module": "@jupyter-widgets/controls",
      "model_module_version": "1.0.0",
      "model_name": "HBoxModel",
      "state": {
       "children": [
        "IPY_MODEL_753d38c4b75d42a9bcf588978cef511c",
        "IPY_MODEL_94343b458ad346609429d806bf90ad88",
        "IPY_MODEL_e92c6a864cc747e9b91def861fcec3d5"
       ],
       "layout": "IPY_MODEL_928d371f132f4db0bc065c7e360ab249"
      }
     },
     "4983a569ae68420a8b65fbba8871f3ce": {
      "model_module": "@jupyter-widgets/base",
      "model_module_version": "1.0.0",
      "model_name": "LayoutModel",
      "state": {}
     },
     "49b9fba17ead47689325a581f61a2185": {
      "model_module": "@jupyter-widgets/base",
      "model_module_version": "1.0.0",
      "model_name": "LayoutModel",
      "state": {
       "width": "100%"
      }
     },
     "4a52fb73e8fc4c2fb1b68fd6a23986a6": {
      "model_module": "@jupyter-widgets/controls",
      "model_module_version": "1.0.0",
      "model_name": "ButtonModel",
      "state": {
       "description": "Annotate",
       "layout": "IPY_MODEL_426c43fca8b04f82896dedf27ad74826",
       "style": "IPY_MODEL_ffbc70be7ab041438df3d5e5ea61d049"
      }
     },
     "4a71d6cbea354d23834a2c450a205076": {
      "model_module": "@jupyter-widgets/controls",
      "model_module_version": "1.0.0",
      "model_name": "TextModel",
      "state": {
       "description": "Sample ID",
       "layout": "IPY_MODEL_c10309f8310f4f6b8aba5ee20d8734be",
       "placeholder": "Sample ID",
       "style": "IPY_MODEL_33f27180a6ac49a5b8eac0b8e7c1a59b",
       "value": "S9"
      }
     },
     "4aae4558364a4e80a2d3a1cd34e490a0": {
      "model_module": "@jupyter-widgets/controls",
      "model_module_version": "1.0.0",
      "model_name": "DescriptionStyleModel",
      "state": {
       "description_width": ""
      }
     },
     "4ad914973dc449108fc75e33fec426bb": {
      "model_module": "@jupyter-widgets/controls",
      "model_module_version": "1.0.0",
      "model_name": "DescriptionStyleModel",
      "state": {
       "description_width": ""
      }
     },
     "4ae9d360d17d405f8c6092a611a7a888": {
      "model_module": "@jupyter-widgets/controls",
      "model_module_version": "1.0.0",
      "model_name": "DescriptionStyleModel",
      "state": {
       "description_width": ""
      }
     },
     "4b1831b5a72e4998ab49867d07da36d5": {
      "model_module": "@jupyter-widgets/controls",
      "model_module_version": "1.0.0",
      "model_name": "ButtonModel",
      "state": {
       "description": "Annotate",
       "layout": "IPY_MODEL_f7629e405cd54f89af940ada9ecc0ff8",
       "style": "IPY_MODEL_f88872a804bc43ed9a908b306dd8436d"
      }
     },
     "4b1f475415bd461db71ad386a26f7e13": {
      "model_module": "@jupyter-widgets/controls",
      "model_module_version": "1.0.0",
      "model_name": "DescriptionStyleModel",
      "state": {
       "description_width": ""
      }
     },
     "4b505a53db964658a04ea97938d2e8ad": {
      "model_module": "@jupyter-widgets/controls",
      "model_module_version": "1.0.0",
      "model_name": "TextModel",
      "state": {
       "layout": "IPY_MODEL_e2553d094641498c974282a69cb0ddd1",
       "placeholder": "sample meta",
       "style": "IPY_MODEL_61bab3f594704f2a9c85b7d990915cef",
       "value": "1"
      }
     },
     "4b5072a20aa94e65bd92770a67611ca5": {
      "model_module": "@jupyter-widgets/controls",
      "model_module_version": "1.0.0",
      "model_name": "DescriptionStyleModel",
      "state": {
       "description_width": ""
      }
     },
     "4b66e6ad6758443c8d030ff1915ff35a": {
      "model_module": "@jupyter-widgets/base",
      "model_module_version": "1.0.0",
      "model_name": "LayoutModel",
      "state": {
       "width": "80%"
      }
     },
     "4b7398aac7f045878bcfad5f24ceac70": {
      "model_module": "@jupyter-widgets/base",
      "model_module_version": "1.0.0",
      "model_name": "LayoutModel",
      "state": {}
     },
     "4b9bf28a5ef74b7e9106fa09d8b26bbf": {
      "model_module": "@jupyter-widgets/controls",
      "model_module_version": "1.0.0",
      "model_name": "HBoxModel",
      "state": {
       "children": [
        "IPY_MODEL_30c9afd23bbb4a14b515ac1cc0d9b2a8",
        "IPY_MODEL_9d1881feb0e84fffbecd19f344db35cd"
       ],
       "layout": "IPY_MODEL_4983a569ae68420a8b65fbba8871f3ce"
      }
     },
     "4ba7c81175cf491ab6cea7432343952d": {
      "model_module": "@jupyter-widgets/base",
      "model_module_version": "1.0.0",
      "model_name": "LayoutModel",
      "state": {
       "width": "80%"
      }
     },
     "4c4a6d2cb43b471eaa24e37f75b812f9": {
      "model_module": "@jupyter-widgets/controls",
      "model_module_version": "1.0.0",
      "model_name": "ButtonModel",
      "state": {
       "description": "Save",
       "layout": "IPY_MODEL_4b7398aac7f045878bcfad5f24ceac70",
       "style": "IPY_MODEL_cf6228db2ae140679ec14ac74a5d0247",
       "tooltip": "Save the selection(s)"
      }
     },
     "4cc227f13fbd45b7bc5323599c31540b": {
      "model_module": "@jupyter-widgets/controls",
      "model_module_version": "1.0.0",
      "model_name": "TextModel",
      "state": {
       "description": "Feature ID",
       "layout": "IPY_MODEL_c10309f8310f4f6b8aba5ee20d8734be",
       "placeholder": "Feature ID",
       "style": "IPY_MODEL_dfbc4242017a4239b2993de119455213",
       "value": "TC"
      }
     },
     "4cce2edfb5ae42c585549507fdfe1826": {
      "model_module": "@jupyter-widgets/controls",
      "model_module_version": "1.0.0",
      "model_name": "TextModel",
      "state": {
       "layout": "IPY_MODEL_b66cbc1194f04311a4018a0c8caa09c3",
       "placeholder": "sample meta",
       "style": "IPY_MODEL_6bbbd5abc3ac469cb144935a38bbba26",
       "value": "-"
      }
     },
     "4cdb36b14f8e468eb174fa57ee9e4e66": {
      "model_module": "@jupyter-widgets/base",
      "model_module_version": "1.0.0",
      "model_name": "LayoutModel",
      "state": {}
     },
     "4d59a5ada21d43ab9b4b2d403ad65e0c": {
      "model_module": "@jupyter-widgets/controls",
      "model_module_version": "1.0.0",
      "model_name": "HBoxModel",
      "state": {
       "children": [
        "IPY_MODEL_9f820ac307b94e6f8c537a5501a0236a",
        "IPY_MODEL_2d37a5e15cda47b68a805f2ec44bcbbd"
       ],
       "layout": "IPY_MODEL_43a16580f116427a87abeda9ec8465da"
      }
     },
     "4d92915449c142699bfea6102a532c03": {
      "model_module": "@jupyter-widgets/base",
      "model_module_version": "1.0.0",
      "model_name": "LayoutModel",
      "state": {
       "width": "80%"
      }
     },
     "4d9ebfcc416f45a3bc4640a12862b93b": {
      "model_module": "@jupyter-widgets/base",
      "model_module_version": "1.0.0",
      "model_name": "LayoutModel",
      "state": {
       "height": "100px",
       "overflow_y": "auto"
      }
     },
     "4e275977fa734baa8bb4a9a9b5991816": {
      "model_module": "@jupyter-widgets/controls",
      "model_module_version": "1.0.0",
      "model_name": "HBoxModel",
      "state": {
       "children": [
        "IPY_MODEL_1fc0a26a88e04820bd0e31013f0d20f3",
        "IPY_MODEL_4b505a53db964658a04ea97938d2e8ad"
       ],
       "layout": "IPY_MODEL_fe5d837c7ba7440a913f182b402e409f"
      }
     },
     "4eaaeb69621c4c9a9418c57f4a4f2e40": {
      "model_module": "@jupyter-widgets/controls",
      "model_module_version": "1.0.0",
      "model_name": "ButtonStyleModel",
      "state": {}
     },
     "4f0614ca1de848638a415a2a8ccb8807": {
      "model_module": "@jupyter-widgets/controls",
      "model_module_version": "1.0.0",
      "model_name": "ButtonModel",
      "state": {
       "description": "print axes ranges",
       "layout": "IPY_MODEL_f8f2509347ce4216930b3b739010eeb0",
       "style": "IPY_MODEL_7cb4f927092a4406ac2e1aa4fd672e0b",
       "tooltip": "Print the x axis and y axis ranges. Useful to pass to `rect` parameter of heatmap() to zoom in the region automatically."
      }
     },
     "4f3ecb51b51041fbbf4a1b6a94b47faa": {
      "model_module": "@jupyter-widgets/controls",
      "model_module_version": "1.0.0",
      "model_name": "HBoxModel",
      "state": {
       "children": [
        "IPY_MODEL_5567978f1208402aa53fd7c4c502a945",
        "IPY_MODEL_c014d91977b94ce19671f87a8bfbb187",
        "IPY_MODEL_e5c7ccb9dc224b3e93a57929237dea0a"
       ],
       "layout": "IPY_MODEL_9d96b4c7dbf249aa9e759a336fffe6d5"
      }
     },
     "4f464af4da23451a856be68754ae15b6": {
      "model_module": "@jupyter-widgets/base",
      "model_module_version": "1.0.0",
      "model_name": "LayoutModel",
      "state": {}
     },
     "4f5557f6a67b4762a7c1a83f8ef2e1e3": {
      "model_module": "@jupyter-widgets/controls",
      "model_module_version": "1.0.0",
      "model_name": "DescriptionStyleModel",
      "state": {
       "description_width": ""
      }
     },
     "4f647c79f6344ce1b5ccb6369e4c9872": {
      "model_module": "@jupyter-widgets/controls",
      "model_module_version": "1.0.0",
      "model_name": "HBoxModel",
      "state": {
       "children": [
        "IPY_MODEL_914dc9b399cc4d9d8bc40c5f5c8f2001",
        "IPY_MODEL_a9c7d5950d9143d687f78a5747709eb2"
       ],
       "layout": "IPY_MODEL_0bfca4e6359a4e6cbd9128b26181b722"
      }
     },
     "4ffc944b0ad5429397444de5a2179e61": {
      "model_module": "@jupyter-widgets/controls",
      "model_module_version": "1.0.0",
      "model_name": "DescriptionStyleModel",
      "state": {
       "description_width": ""
      }
     },
     "4ffe4af096164b31a7c16031578d6bd2": {
      "model_module": "@jupyter-widgets/controls",
      "model_module_version": "1.0.0",
      "model_name": "TextModel",
      "state": {
       "layout": "IPY_MODEL_83b1180f221b489eb0f84ba3baf0d21b",
       "placeholder": "feature meta",
       "style": "IPY_MODEL_bfa70a755ef7476790c54af339eb8deb",
       "value": "-"
      }
     },
     "50d91fe195e14cbfabd45f9c2270b3a3": {
      "model_module": "@jupyter-widgets/controls",
      "model_module_version": "1.0.0",
      "model_name": "ButtonStyleModel",
      "state": {}
     },
     "51108bd934ee4c67a0d92fe4929de68e": {
      "model_module": "@jupyter-widgets/controls",
      "model_module_version": "1.0.0",
      "model_name": "TextModel",
      "state": {
       "description": "Feature ID",
       "layout": "IPY_MODEL_03e0490bdbd84a58946021fdba53e55b",
       "placeholder": "Feature ID",
       "style": "IPY_MODEL_f8c78431a7ba42ecb851602b9df0d837",
       "value": "-"
      }
     },
     "51218c4b4aca414d80f0de3af3b71ba0": {
      "model_module": "@jupyter-widgets/base",
      "model_module_version": "1.0.0",
      "model_name": "LayoutModel",
      "state": {}
     },
     "51dc199e597c4ce7b96e4602e0f500dc": {
      "model_module": "@jupyter-widgets/controls",
      "model_module_version": "1.0.0",
      "model_name": "HBoxModel",
      "state": {
       "children": [
        "IPY_MODEL_0cc799d027954a0da877c1b6c0c99afc",
        "IPY_MODEL_0e00371c11dc4a7381104deec97aefcf",
        "IPY_MODEL_5ae7ae5b381d4a298d37d72450ca33c3"
       ],
       "layout": "IPY_MODEL_edfa1bbc094c4adda04362ee3a37442d"
      }
     },
     "5266a1e5d1374d899a445b315533358f": {
      "model_module": "@jupyter-widgets/controls",
      "model_module_version": "1.0.0",
      "model_name": "HBoxModel",
      "state": {
       "children": [
        "IPY_MODEL_5ce812d27d8847a8800537f94dbd1779",
        "IPY_MODEL_21566f57e7074209b44de392e4e27393",
        "IPY_MODEL_d2b2a7ab3d9e4bb1b8f9258ecfbdd050"
       ],
       "layout": "IPY_MODEL_659c5d978baa4f318b2b11d7e4167781"
      }
     },
     "529d9991c9ca4bdfa9f74e7957d3d9b2": {
      "model_module": "@jupyter-widgets/controls",
      "model_module_version": "1.0.0",
      "model_name": "LabelModel",
      "state": {
       "layout": "IPY_MODEL_51218c4b4aca414d80f0de3af3b71ba0",
       "style": "IPY_MODEL_3ea86f2b58ad4827964408c8d437eced",
       "value": "0 features are selected"
      }
     },
     "52f3b7acbfc4479986a61d2766623fd3": {
      "model_module": "@jupyter-widgets/controls",
      "model_module_version": "1.0.0",
      "model_name": "HBoxModel",
      "state": {
       "children": [
        "IPY_MODEL_1d316816306648799af56406d3904b0c",
        "IPY_MODEL_c157b2a65ae247509363ed46c0fb6539",
        "IPY_MODEL_70a507fee43f46cc8fd648953e2442b2"
       ],
       "layout": "IPY_MODEL_89ea376b653c4de2bfeba31e498386d2"
      }
     },
     "53273d3fb9f24094b363f44664209bd0": {
      "model_module": "@jupyter-widgets/controls",
      "model_module_version": "1.0.0",
      "model_name": "DescriptionStyleModel",
      "state": {
       "description_width": ""
      }
     },
     "53517737dea14c08b4225ce03480407e": {
      "model_module": "@jupyter-widgets/controls",
      "model_module_version": "1.0.0",
      "model_name": "DescriptionStyleModel",
      "state": {
       "description_width": ""
      }
     },
     "538870d6f90f4b3b999fd011f6d303aa": {
      "model_module": "@jupyter-widgets/controls",
      "model_module_version": "1.0.0",
      "model_name": "HBoxModel",
      "state": {
       "children": [
        "IPY_MODEL_c6d76c64fcc242c2ab6eaf01b0f9523f",
        "IPY_MODEL_81e674ca72694d4aa76cbab29d1275b5"
       ],
       "layout": "IPY_MODEL_e7fe72a74b0e4c3cb165d044c2990c47"
      }
     },
     "541d4fd136ab4073ab0990280e3ee208": {
      "model_module": "@jupyter-widgets/base",
      "model_module_version": "1.0.0",
      "model_name": "LayoutModel",
      "state": {}
     },
     "5426d3a2ecd44f1489a2442d188fec74": {
      "model_module": "@jupyter-widgets/controls",
      "model_module_version": "1.0.0",
      "model_name": "ButtonModel",
      "state": {
       "description": "print axes ranges",
       "layout": "IPY_MODEL_a2eba17947374cde99087fc645fe0922",
       "style": "IPY_MODEL_22d4ab3d84414b5eb1aff5eca6f11e4c",
       "tooltip": "Print the x axis and y axis ranges. Useful to pass to `rect` parameter of heatmap() to zoom in the region automatically."
      }
     },
     "544c7f8ca21b4cc7afa7ac6de0d29d17": {
      "model_module": "@jupyter-widgets/controls",
      "model_module_version": "1.0.0",
      "model_name": "TextModel",
      "state": {
       "description": "Sample ID",
       "layout": "IPY_MODEL_49b9fba17ead47689325a581f61a2185",
       "placeholder": "Sample ID",
       "style": "IPY_MODEL_bbc1e315c00e49789b1c398221ebe175",
       "value": "-"
      }
     },
     "544ce9bde23e4414a401b9c64bab2e25": {
      "model_module": "@jupyter-widgets/base",
      "model_module_version": "1.0.0",
      "model_name": "LayoutModel",
      "state": {}
     },
     "54a4f1f7811643b5817626a2b90ecf2d": {
      "model_module": "@jupyter-widgets/controls",
      "model_module_version": "1.0.0",
      "model_name": "ButtonModel",
      "state": {
       "description": "Annotate",
       "layout": "IPY_MODEL_6d5cf4c76420409c8aa6c8ffcbed1f00",
       "style": "IPY_MODEL_8cc83df01337452c9bdab88f67a36a67"
      }
     },
     "54b1602bd37045a48d064814c4103619": {
      "model_module": "@jupyter-widgets/controls",
      "model_module_version": "1.0.0",
      "model_name": "DescriptionStyleModel",
      "state": {
       "description_width": ""
      }
     },
     "54b21fb5ca70416a923184fab19163f8": {
      "model_module": "@jupyter-widgets/controls",
      "model_module_version": "1.0.0",
      "model_name": "ButtonModel",
      "state": {
       "description": "print axes ranges",
       "layout": "IPY_MODEL_cafdedaee85e4f5f83b8d9bef6a862c3",
       "style": "IPY_MODEL_94d09775552249bc9f906d9407c1047d",
       "tooltip": "Print the x axis and y axis ranges. Useful to pass to `rect` parameter of heatmap() to zoom in the region automatically."
      }
     },
     "54e3b93483e440b2b50459e7b18b5d0b": {
      "model_module": "@jupyter-widgets/controls",
      "model_module_version": "1.0.0",
      "model_name": "DescriptionStyleModel",
      "state": {
       "description_width": ""
      }
     },
     "552dc67caaba4b9c998110d2ef16fabe": {
      "model_module": "@jupyter-widgets/base",
      "model_module_version": "1.0.0",
      "model_name": "LayoutModel",
      "state": {}
     },
     "553c234d77df43fead1a948455e8c20d": {
      "model_module": "@jupyter-widgets/controls",
      "model_module_version": "1.0.0",
      "model_name": "DescriptionStyleModel",
      "state": {
       "description_width": ""
      }
     },
     "55439dc59e614cdfb157ab77a8fe3a33": {
      "model_module": "@jupyter-widgets/controls",
      "model_module_version": "1.0.0",
      "model_name": "DescriptionStyleModel",
      "state": {
       "description_width": ""
      }
     },
     "555d176e04db4da5bc432d8ced7464e0": {
      "model_module": "@jupyter-widgets/controls",
      "model_module_version": "1.0.0",
      "model_name": "LabelModel",
      "state": {
       "layout": "IPY_MODEL_23aa5666830e46a28a3081ea708151b4",
       "style": "IPY_MODEL_fb41f1a7ebde4696b1d5d0e53e452bfd",
       "value": "1 features are selected"
      }
     },
     "5567978f1208402aa53fd7c4c502a945": {
      "model_module": "@jupyter-widgets/controls",
      "model_module_version": "1.0.0",
      "model_name": "TextModel",
      "state": {
       "description": "Sample ID",
       "layout": "IPY_MODEL_f00d265f4407431c9b6f1160207fdc81",
       "placeholder": "Sample ID",
       "style": "IPY_MODEL_84c3f0edd12b4194a3949dcdfc865e7a",
       "value": "S1"
      }
     },
     "557fc7fbbe344a25aef5906ccc4456aa": {
      "model_module": "@jupyter-widgets/base",
      "model_module_version": "1.0.0",
      "model_name": "LayoutModel",
      "state": {}
     },
     "55c5690ccc034658857bb3dfba7de4b0": {
      "model_module": "@jupyter-widgets/controls",
      "model_module_version": "1.0.0",
      "model_name": "DescriptionStyleModel",
      "state": {
       "description_width": ""
      }
     },
     "55d907b31fa84b448d8f1aad19c0df60": {
      "model_module": "@jupyter-widgets/controls",
      "model_module_version": "1.0.0",
      "model_name": "ButtonStyleModel",
      "state": {}
     },
     "55d97b3c8abd4b95ade56822b9fcc20d": {
      "model_module": "@jupyter-widgets/controls",
      "model_module_version": "1.0.0",
      "model_name": "ButtonStyleModel",
      "state": {}
     },
     "56063088efea414a85ae1a8defc66457": {
      "model_module": "@jupyter-widgets/base",
      "model_module_version": "1.0.0",
      "model_name": "LayoutModel",
      "state": {
       "width": "20%"
      }
     },
     "565b1c6b9e874be098cfd20b625f76fe": {
      "model_module": "@jupyter-widgets/base",
      "model_module_version": "1.0.0",
      "model_name": "LayoutModel",
      "state": {
       "width": "100%"
      }
     },
     "565bbe9d08ec4bf4b632b729b5958533": {
      "model_module": "@jupyter-widgets/controls",
      "model_module_version": "1.0.0",
      "model_name": "DescriptionStyleModel",
      "state": {
       "description_width": ""
      }
     },
     "5676144cdbe645c8bf6d8259e1e2647a": {
      "model_module": "@jupyter-widgets/controls",
      "model_module_version": "1.0.0",
      "model_name": "DescriptionStyleModel",
      "state": {
       "description_width": ""
      }
     },
     "56b49f134c7047d9923f559bceeaca8c": {
      "model_module": "@jupyter-widgets/controls",
      "model_module_version": "1.0.0",
      "model_name": "DescriptionStyleModel",
      "state": {
       "description_width": ""
      }
     },
     "56d6390bab0640a28e021d6d0e5f2abd": {
      "model_module": "@jupyter-widgets/controls",
      "model_module_version": "1.0.0",
      "model_name": "ButtonStyleModel",
      "state": {}
     },
     "570501f228ae4e62a67061949e28c699": {
      "model_module": "@jupyter-widgets/base",
      "model_module_version": "1.0.0",
      "model_name": "LayoutModel",
      "state": {}
     },
     "5706ba7662414e09bee0759455e33856": {
      "model_module": "@jupyter-widgets/controls",
      "model_module_version": "1.0.0",
      "model_name": "DescriptionStyleModel",
      "state": {
       "description_width": ""
      }
     },
     "57765883fde449c2a89fe146b1bf031c": {
      "model_module": "@jupyter-widgets/controls",
      "model_module_version": "1.0.0",
      "model_name": "DescriptionStyleModel",
      "state": {
       "description_width": ""
      }
     },
     "57ec8c45d14f4a18aaec4256deef4e4c": {
      "model_module": "@jupyter-widgets/controls",
      "model_module_version": "1.0.0",
      "model_name": "DropdownModel",
      "state": {
       "_options_labels": [
        "oxygen",
        "ph",
        "level1",
        "level2",
        "new.order",
        "ori.order",
        "taxonomy"
       ],
       "index": 0,
       "layout": "IPY_MODEL_e088ff84d6814189af691619b4ce66fb",
       "style": "IPY_MODEL_43312d0cc3514e469aa86673c7dbd8fb"
      }
     },
     "582a75e26aa04fdebd700e8da78af957": {
      "model_module": "@jupyter-widgets/controls",
      "model_module_version": "1.0.0",
      "model_name": "TextModel",
      "state": {
       "layout": "IPY_MODEL_6322c2f8aec142d197a8e9201b0bab98",
       "placeholder": "feature meta",
       "style": "IPY_MODEL_b0110399b90b41f8b940b9d3c8f692f8",
       "value": "aerobic"
      }
     },
     "585237215be14ffdb80a2ea3f9bbd594": {
      "model_module": "@jupyter-widgets/controls",
      "model_module_version": "1.0.0",
      "model_name": "DescriptionStyleModel",
      "state": {
       "description_width": ""
      }
     },
     "58afc157d577451fa4d4ce893914a4db": {
      "model_module": "@jupyter-widgets/base",
      "model_module_version": "1.0.0",
      "model_name": "LayoutModel",
      "state": {
       "height": "100px",
       "overflow_y": "auto"
      }
     },
     "59813787b85646d7a5aba17eb6548f90": {
      "model_module": "@jupyter-widgets/base",
      "model_module_version": "1.0.0",
      "model_name": "LayoutModel",
      "state": {}
     },
     "5985d0c15a8a4ea18e0b57652b09c2d9": {
      "model_module": "@jupyter-widgets/base",
      "model_module_version": "1.0.0",
      "model_name": "LayoutModel",
      "state": {
       "width": "20%"
      }
     },
     "59b2ad4d5528452b801e558233191f54": {
      "model_module": "@jupyter-widgets/base",
      "model_module_version": "1.0.0",
      "model_name": "LayoutModel",
      "state": {}
     },
     "59e976c095204998a963c6f4f945f91f": {
      "model_module": "@jupyter-widgets/base",
      "model_module_version": "1.0.0",
      "model_name": "LayoutModel",
      "state": {
       "width": "20%"
      }
     },
     "59f81bb9b71047c3af653b2bb344abc4": {
      "model_module": "@jupyter-widgets/base",
      "model_module_version": "1.0.0",
      "model_name": "LayoutModel",
      "state": {
       "width": "100%"
      }
     },
     "5a6267c9ac7d49b896375e360736ae37": {
      "model_module": "@jupyter-widgets/controls",
      "model_module_version": "1.0.0",
      "model_name": "ButtonModel",
      "state": {
       "description": "print axes ranges",
       "layout": "IPY_MODEL_fa2e3ed2c34e40978a63ddc618ddd2ad",
       "style": "IPY_MODEL_d931cba4c3cd4b1e94f390b316e9ea4b",
       "tooltip": "Print the x axis and y axis ranges. Useful to pass to `rect` parameter of heatmap() to zoom in the region automatically."
      }
     },
     "5adfe85ddb7c499bb2d096394ab57d6f": {
      "model_module": "@jupyter-widgets/controls",
      "model_module_version": "1.0.0",
      "model_name": "ButtonStyleModel",
      "state": {}
     },
     "5ae7ae5b381d4a298d37d72450ca33c3": {
      "model_module": "@jupyter-widgets/controls",
      "model_module_version": "1.0.0",
      "model_name": "FloatTextModel",
      "state": {
       "description": "Abundance",
       "layout": "IPY_MODEL_91d34eaab44e4d849f70e949826ffee3",
       "step": null,
       "style": "IPY_MODEL_fe227c119f344263bbc579a5c9c24ebd"
      }
     },
     "5b3e608a0da944ee93794a5ed1974411": {
      "model_module": "@jupyter-widgets/controls",
      "model_module_version": "1.0.0",
      "model_name": "HTMLModel",
      "state": {
       "layout": "IPY_MODEL_84139b6bcf274c53b2d6924ed9bb2831",
       "style": "IPY_MODEL_e32be2aebdc84c918290124ead7569a2",
       "value": "no annotation found"
      }
     },
     "5b4d384f9b0a4da9b02c2b8193d33f04": {
      "model_module": "@jupyter-widgets/controls",
      "model_module_version": "1.0.0",
      "model_name": "TextModel",
      "state": {
       "description": "Feature ID",
       "layout": "IPY_MODEL_452f48ef744e4620a76c97266df33ac1",
       "placeholder": "Feature ID",
       "style": "IPY_MODEL_e6bebda2888247708ddc1fe17cda8cb4",
       "value": "-"
      }
     },
     "5b6a5dd495b4481090dd164544af4155": {
      "model_module": "@jupyter-widgets/controls",
      "model_module_version": "1.0.0",
      "model_name": "DescriptionStyleModel",
      "state": {
       "description_width": ""
      }
     },
     "5b9001b811bd49f38dd1e6f0e92643b4": {
      "model_module": "@jupyter-widgets/controls",
      "model_module_version": "1.0.0",
      "model_name": "TextModel",
      "state": {
       "layout": "IPY_MODEL_b72e766891d8489782dea99baec9b8d4",
       "placeholder": "sample meta",
       "style": "IPY_MODEL_ba09687fc2ef4ed8b5ada170c5f6883c",
       "value": "-"
      }
     },
     "5bb938b40d1d4891b4653d7cd14b7f22": {
      "model_module": "@jupyter-widgets/controls",
      "model_module_version": "1.0.0",
      "model_name": "DescriptionStyleModel",
      "state": {
       "description_width": ""
      }
     },
     "5bcf19c5734e4e53ac7475d545292eda": {
      "model_module": "@jupyter-widgets/controls",
      "model_module_version": "1.0.0",
      "model_name": "LabelModel",
      "state": {
       "layout": "IPY_MODEL_a9c583a886f84b2d820e9e97a0def3fe",
       "style": "IPY_MODEL_243ca8ad67194a5e90e30528a4f3a959",
       "value": "0 features are selected"
      }
     },
     "5bd5353aa92640ac9a7407187cf89779": {
      "model_module": "@jupyter-widgets/controls",
      "model_module_version": "1.0.0",
      "model_name": "DescriptionStyleModel",
      "state": {
       "description_width": ""
      }
     },
     "5c3c15c389ee47ed8b6700aa69b4d975": {
      "model_module": "@jupyter-widgets/controls",
      "model_module_version": "1.0.0",
      "model_name": "DescriptionStyleModel",
      "state": {
       "description_width": ""
      }
     },
     "5c99b41ed6524fbab6a995822dfd431e": {
      "model_module": "@jupyter-widgets/controls",
      "model_module_version": "1.0.0",
      "model_name": "ButtonModel",
      "state": {
       "description": "Save",
       "layout": "IPY_MODEL_f643626637a043cf93c833dab125347a",
       "style": "IPY_MODEL_05014d49071b4400bf2eef46ac4876b6",
       "tooltip": "Save the selection(s)"
      }
     },
     "5cd16490bf0a4375a50d5c297a5ca339": {
      "model_module": "@jupyter-widgets/base",
      "model_module_version": "1.0.0",
      "model_name": "LayoutModel",
      "state": {
       "width": "20%"
      }
     },
     "5cda5cc11fa2423e9063cd34c5ed4cd4": {
      "model_module": "@jupyter-widgets/base",
      "model_module_version": "1.0.0",
      "model_name": "LayoutModel",
      "state": {}
     },
     "5ce812d27d8847a8800537f94dbd1779": {
      "model_module": "@jupyter-widgets/controls",
      "model_module_version": "1.0.0",
      "model_name": "ButtonModel",
      "state": {
       "description": "print axes ranges",
       "layout": "IPY_MODEL_806967ab5b2348428e5f2873e3cd2e10",
       "style": "IPY_MODEL_f395051445ed40728dd0eee5ad7b6f8f",
       "tooltip": "Print the x axis and y axis ranges. Useful to pass to `rect` parameter of heatmap function to zoom in the region automatically."
      }
     },
     "5cf196e1287343c092c76523917121db": {
      "model_module": "@jupyter-widgets/base",
      "model_module_version": "1.0.0",
      "model_name": "LayoutModel",
      "state": {}
     },
     "5d347afdf8964e68ad9b873b4e3561ef": {
      "model_module": "@jupyter-widgets/controls",
      "model_module_version": "1.0.0",
      "model_name": "DescriptionStyleModel",
      "state": {
       "description_width": ""
      }
     },
     "5d7e0419d4ec4655b22c5d7169b62c7f": {
      "model_module": "@jupyter-widgets/base",
      "model_module_version": "1.0.0",
      "model_name": "LayoutModel",
      "state": {
       "width": "100%"
      }
     },
     "5e61e54d095b4c22aab110b5934924ca": {
      "model_module": "@jupyter-widgets/controls",
      "model_module_version": "1.0.0",
      "model_name": "HBoxModel",
      "state": {
       "children": [
        "IPY_MODEL_9a1563c5454f45ae934861bf403039ac",
        "IPY_MODEL_354225d24e364044adb57e3f33eab86a"
       ],
       "layout": "IPY_MODEL_8892dfae6dd94af2a7767c4d2293f791"
      }
     },
     "5eb423e1e9a04a7c8b36f334111e4bb6": {
      "model_module": "@jupyter-widgets/base",
      "model_module_version": "1.0.0",
      "model_name": "LayoutModel",
      "state": {}
     },
     "5ebdfa33a49b411ebfe62ab85f67bfd3": {
      "model_module": "@jupyter-widgets/controls",
      "model_module_version": "1.0.0",
      "model_name": "DescriptionStyleModel",
      "state": {
       "description_width": ""
      }
     },
     "5ee67d1601fc4ec39f0ea109ddc67685": {
      "model_module": "@jupyter-widgets/controls",
      "model_module_version": "1.0.0",
      "model_name": "DescriptionStyleModel",
      "state": {
       "description_width": ""
      }
     },
     "5fcb24395066450980f09bd5d9940149": {
      "model_module": "@jupyter-widgets/controls",
      "model_module_version": "1.0.0",
      "model_name": "HBoxModel",
      "state": {
       "children": [
        "IPY_MODEL_a077060fd24548a6a6332e1b6a13c720",
        "IPY_MODEL_07e34177f7424e02b6147b119a6e6ab5"
       ],
       "layout": "IPY_MODEL_73df2e60b3ec49a7a694e918dad43d82"
      }
     },
     "6033ad064cf74022b91cf02d892c6302": {
      "model_module": "@jupyter-widgets/base",
      "model_module_version": "1.0.0",
      "model_name": "LayoutModel",
      "state": {}
     },
     "6048211753f944f8b69ae5d26842b0cf": {
      "model_module": "@jupyter-widgets/controls",
      "model_module_version": "1.0.0",
      "model_name": "ButtonStyleModel",
      "state": {}
     },
     "60649a3b46c64cb8a93dc859d9388808": {
      "model_module": "@jupyter-widgets/controls",
      "model_module_version": "1.0.0",
      "model_name": "DescriptionStyleModel",
      "state": {
       "description_width": ""
      }
     },
     "609dff85150d4538ab085ef2142ed917": {
      "model_module": "@jupyter-widgets/controls",
      "model_module_version": "1.0.0",
      "model_name": "LabelModel",
      "state": {
       "layout": "IPY_MODEL_983de6053288462fb9b51281807210b1",
       "style": "IPY_MODEL_7e982471a4d04c73951df4eb2b7e5e75",
       "value": "0 features are selected"
      }
     },
     "611a1e8802c349f3b59b0253d39bcf7d": {
      "model_module": "@jupyter-widgets/controls",
      "model_module_version": "1.0.0",
      "model_name": "DescriptionStyleModel",
      "state": {
       "description_width": ""
      }
     },
     "619a4953f5e043a9a548fad66ccba3ca": {
      "model_module": "@jupyter-widgets/controls",
      "model_module_version": "1.0.0",
      "model_name": "ButtonStyleModel",
      "state": {}
     },
     "61bab3f594704f2a9c85b7d990915cef": {
      "model_module": "@jupyter-widgets/controls",
      "model_module_version": "1.0.0",
      "model_name": "DescriptionStyleModel",
      "state": {
       "description_width": ""
      }
     },
     "61f332d70e2f476a8397be672f3ab39b": {
      "model_module": "@jupyter-widgets/controls",
      "model_module_version": "1.0.0",
      "model_name": "ButtonStyleModel",
      "state": {}
     },
     "6210d9a4c539465c9aa1847af99b36a1": {
      "model_module": "@jupyter-widgets/base",
      "model_module_version": "1.0.0",
      "model_name": "LayoutModel",
      "state": {}
     },
     "6223e83501cd46599813c973d7de8656": {
      "model_module": "@jupyter-widgets/controls",
      "model_module_version": "1.0.0",
      "model_name": "ButtonStyleModel",
      "state": {}
     },
     "62644c855f194c82b8b45793cdbeb491": {
      "model_module": "@jupyter-widgets/controls",
      "model_module_version": "1.0.0",
      "model_name": "LabelModel",
      "state": {
       "layout": "IPY_MODEL_b7bfb8cc6fd5430a82aad0cf066be6d0",
       "style": "IPY_MODEL_788e498b41be4e5dac18b2d294a861ff",
       "value": "0 features are selected"
      }
     },
     "62bff018dc1e48e8b4a98d294bbbae29": {
      "model_module": "@jupyter-widgets/controls",
      "model_module_version": "1.0.0",
      "model_name": "DropdownModel",
      "state": {
       "_options_labels": [
        "oxygen",
        "ph",
        "level1",
        "level2",
        "new.order",
        "ori.order",
        "taxonomy"
       ],
       "index": 0,
       "layout": "IPY_MODEL_e85ff357e1e941ef95c1f4c4e471278e",
       "style": "IPY_MODEL_c72e3a70fded4606abe6fb8e2750b710"
      }
     },
     "631f4a2616524b21ad7ab65309aa7843": {
      "model_module": "@jupyter-widgets/controls",
      "model_module_version": "1.0.0",
      "model_name": "TextModel",
      "state": {
       "description": "Sample ID",
       "layout": "IPY_MODEL_105dc9bc4cdf424f9691cc233cdf519e",
       "placeholder": "Sample ID",
       "style": "IPY_MODEL_c56e1c5f5bfe4100a19d8093a03bbca9",
       "value": "-"
      }
     },
     "6322c2f8aec142d197a8e9201b0bab98": {
      "model_module": "@jupyter-widgets/base",
      "model_module_version": "1.0.0",
      "model_name": "LayoutModel",
      "state": {
       "width": "80%"
      }
     },
     "6352539279464923a2b44c9466fe561b": {
      "model_module": "@jupyter-widgets/controls",
      "model_module_version": "1.0.0",
      "model_name": "ButtonModel",
      "state": {
       "description": "Annotate",
       "layout": "IPY_MODEL_91a0346c66f14ccdb973c8a3265dd954",
       "style": "IPY_MODEL_bc108b4dfb794068ac7682d11f07517d"
      }
     },
     "637553ca7a0d43fda705706126e7eced": {
      "model_module": "@jupyter-widgets/controls",
      "model_module_version": "1.0.0",
      "model_name": "ButtonStyleModel",
      "state": {}
     },
     "637cab06a7964540a03c4c44cc007a97": {
      "model_module": "@jupyter-widgets/base",
      "model_module_version": "1.0.0",
      "model_name": "LayoutModel",
      "state": {
       "width": "20%"
      }
     },
     "63934eef274e419b98c33f370b7a8b9c": {
      "model_module": "@jupyter-widgets/controls",
      "model_module_version": "1.0.0",
      "model_name": "DropdownModel",
      "state": {
       "_options_labels": [
        "oxygen",
        "ph",
        "level1",
        "level2",
        "new.order",
        "ori.order",
        "taxonomy"
       ],
       "index": 0,
       "layout": "IPY_MODEL_c1364fc7758b4ef59a92690a8ea53e71",
       "style": "IPY_MODEL_5ebdfa33a49b411ebfe62ab85f67bfd3"
      }
     },
     "64f7eda8a40d4fffa8cbd42870cc5351": {
      "model_module": "@jupyter-widgets/controls",
      "model_module_version": "1.0.0",
      "model_name": "ButtonStyleModel",
      "state": {}
     },
     "659c5d978baa4f318b2b11d7e4167781": {
      "model_module": "@jupyter-widgets/base",
      "model_module_version": "1.0.0",
      "model_name": "LayoutModel",
      "state": {}
     },
     "65ac9237364c47539f0048f1655628cc": {
      "model_module": "@jupyter-widgets/base",
      "model_module_version": "1.0.0",
      "model_name": "LayoutModel",
      "state": {}
     },
     "65acef67ce394b698ae560a4ed6b5fc9": {
      "model_module": "@jupyter-widgets/controls",
      "model_module_version": "1.0.0",
      "model_name": "DescriptionStyleModel",
      "state": {
       "description_width": ""
      }
     },
     "66347957a913491dbf13fbf84f5d419f": {
      "model_module": "@jupyter-widgets/controls",
      "model_module_version": "1.0.0",
      "model_name": "TextModel",
      "state": {
       "description": "Sample ID",
       "layout": "IPY_MODEL_0b6fe2c41fc84f98b3a16f002cfbb28b",
       "placeholder": "Sample ID",
       "style": "IPY_MODEL_889983beb1e44721bc155ac0b82da191",
       "value": "S9"
      }
     },
     "66bb3766c4444d948885c4e0d150b6b8": {
      "model_module": "@jupyter-widgets/base",
      "model_module_version": "1.0.0",
      "model_name": "LayoutModel",
      "state": {}
     },
     "66bdf50f44214eb294618fb6ff944980": {
      "model_module": "@jupyter-widgets/base",
      "model_module_version": "1.0.0",
      "model_name": "LayoutModel",
      "state": {}
     },
     "66d08631e17b45fab4f1f4cf37d32722": {
      "model_module": "@jupyter-widgets/controls",
      "model_module_version": "1.0.0",
      "model_name": "TextModel",
      "state": {
       "description": "Feature ID",
       "layout": "IPY_MODEL_59f81bb9b71047c3af653b2bb344abc4",
       "placeholder": "Feature ID",
       "style": "IPY_MODEL_b666ea6599e04f1cad488957a078c599",
       "value": "-"
      }
     },
     "66e03cdd6dd140baa4c0bb44184822b3": {
      "model_module": "@jupyter-widgets/base",
      "model_module_version": "1.0.0",
      "model_name": "LayoutModel",
      "state": {}
     },
     "6757ce8a7ce14b17ba15553f5b3c59b5": {
      "model_module": "@jupyter-widgets/base",
      "model_module_version": "1.0.0",
      "model_name": "LayoutModel",
      "state": {
       "width": "80%"
      }
     },
     "67ce2baa6faf4ef993a429ec34743e4b": {
      "model_module": "@jupyter-widgets/controls",
      "model_module_version": "1.0.0",
      "model_name": "TextModel",
      "state": {
       "description": "Feature ID",
       "layout": "IPY_MODEL_49b9fba17ead47689325a581f61a2185",
       "placeholder": "Feature ID",
       "style": "IPY_MODEL_ecd7d27d1b4547efaf71ece1dfb7463a",
       "value": "-"
      }
     },
     "6875cdaa8a7c4d8497f1fbd057a50ffd": {
      "model_module": "@jupyter-widgets/controls",
      "model_module_version": "1.0.0",
      "model_name": "DescriptionStyleModel",
      "state": {
       "description_width": ""
      }
     },
     "6877676d1fd94792b98827cf61a53fe1": {
      "model_module": "@jupyter-widgets/controls",
      "model_module_version": "1.0.0",
      "model_name": "HBoxModel",
      "state": {
       "children": [
        "IPY_MODEL_dae5122e005440f296cc33e428da986c",
        "IPY_MODEL_1d2247fc840142599b3ddef502af6cd5"
       ],
       "layout": "IPY_MODEL_1aa033a2c0084e96a8aac724ffcc9e2e"
      }
     },
     "68d69335456a4a9eb8285559f8a6244f": {
      "model_module": "@jupyter-widgets/base",
      "model_module_version": "1.0.0",
      "model_name": "LayoutModel",
      "state": {
       "height": "100px",
       "overflow_y": "auto"
      }
     },
     "69277c7e72204237ad8a465672f0f0e0": {
      "model_module": "@jupyter-widgets/controls",
      "model_module_version": "1.0.0",
      "model_name": "DescriptionStyleModel",
      "state": {
       "description_width": ""
      }
     },
     "695a36c3c1d84196907185f8d97b0d82": {
      "model_module": "@jupyter-widgets/base",
      "model_module_version": "1.0.0",
      "model_name": "LayoutModel",
      "state": {
       "width": "20%"
      }
     },
     "69a8c7b362dc464390ce4ce8d0f479ca": {
      "model_module": "@jupyter-widgets/base",
      "model_module_version": "1.0.0",
      "model_name": "LayoutModel",
      "state": {
       "width": "20%"
      }
     },
     "69d579d7e3eb41478ea0680369cccc81": {
      "model_module": "@jupyter-widgets/controls",
      "model_module_version": "1.0.0",
      "model_name": "LabelModel",
      "state": {
       "layout": "IPY_MODEL_e858d7ed581b4904838b59e46e5a8a84",
       "style": "IPY_MODEL_9e0e8123e265482c84d6942cc9ab754c",
       "value": "0 features are selected"
      }
     },
     "6a01b0a150d54bdf990c99b26ebbb8b4": {
      "model_module": "@jupyter-widgets/controls",
      "model_module_version": "1.0.0",
      "model_name": "FloatTextModel",
      "state": {
       "description": "Abundance",
       "layout": "IPY_MODEL_c10309f8310f4f6b8aba5ee20d8734be",
       "step": null,
       "style": "IPY_MODEL_7ea633521cff401aa3b8eb9814f55e01",
       "value": 900
      }
     },
     "6a055f899a7b4635a8b466305124fc89": {
      "model_module": "@jupyter-widgets/controls",
      "model_module_version": "1.0.0",
      "model_name": "ButtonModel",
      "state": {
       "description": "Save",
       "layout": "IPY_MODEL_af2e94daef064648bac8a9d6c8318db5",
       "style": "IPY_MODEL_3f84dbfd56524588b905d65224fb99b7",
       "tooltip": "Save the selection(s)"
      }
     },
     "6a577bbbd0aa4150aede2160b8874332": {
      "model_module": "@jupyter-widgets/base",
      "model_module_version": "1.0.0",
      "model_name": "LayoutModel",
      "state": {
       "width": "20%"
      }
     },
     "6a5ff6f45dbc46978f342ad4d6166c1a": {
      "model_module": "@jupyter-widgets/controls",
      "model_module_version": "1.0.0",
      "model_name": "DescriptionStyleModel",
      "state": {
       "description_width": ""
      }
     },
     "6a71069cbb2c43438b8568cd956163c5": {
      "model_module": "@jupyter-widgets/base",
      "model_module_version": "1.0.0",
      "model_name": "LayoutModel",
      "state": {
       "width": "20%"
      }
     },
     "6a78243a8abb4458b19ae1a0500dab91": {
      "model_module": "@jupyter-widgets/base",
      "model_module_version": "1.0.0",
      "model_name": "LayoutModel",
      "state": {
       "width": "100%"
      }
     },
     "6a94fb38b86145b089f8f533170451e3": {
      "model_module": "@jupyter-widgets/base",
      "model_module_version": "1.0.0",
      "model_name": "LayoutModel",
      "state": {}
     },
     "6b04e885f258431aa527f05fa131ddcd": {
      "model_module": "@jupyter-widgets/controls",
      "model_module_version": "1.0.0",
      "model_name": "ButtonModel",
      "state": {
       "description": "Annotate",
       "layout": "IPY_MODEL_0e07ef18630d400ebd047cfa66842770",
       "style": "IPY_MODEL_4eaaeb69621c4c9a9418c57f4a4f2e40"
      }
     },
     "6b05c4a3ae9148dcb7dff94e4d3548ac": {
      "model_module": "@jupyter-widgets/controls",
      "model_module_version": "1.0.0",
      "model_name": "ButtonModel",
      "state": {
       "description": "Annotate",
       "layout": "IPY_MODEL_200cb43361284d0f99b1e50f867b437c",
       "style": "IPY_MODEL_eec2a448499d4e71bd76926c521cd3fe"
      }
     },
     "6b05e69ce5d848c98718e99b4bcdf07a": {
      "model_module": "@jupyter-widgets/base",
      "model_module_version": "1.0.0",
      "model_name": "LayoutModel",
      "state": {
       "width": "80%"
      }
     },
     "6b2dff180bc84f5a80b4dd9dd0551483": {
      "model_module": "@jupyter-widgets/controls",
      "model_module_version": "1.0.0",
      "model_name": "DescriptionStyleModel",
      "state": {
       "description_width": ""
      }
     },
     "6b3785a0ec934f519fbee5930687dd10": {
      "model_module": "@jupyter-widgets/controls",
      "model_module_version": "1.0.0",
      "model_name": "TextModel",
      "state": {
       "layout": "IPY_MODEL_1c5c5ccf5ee94e9e836a6732b53ed0c0",
       "placeholder": "sample meta",
       "style": "IPY_MODEL_acc504f859be4cf099bea5c25253750b",
       "value": "-"
      }
     },
     "6b3c6100d8224121a98cd11107902fd3": {
      "model_module": "@jupyter-widgets/controls",
      "model_module_version": "1.0.0",
      "model_name": "HBoxModel",
      "state": {
       "children": [
        "IPY_MODEL_91b0dd3318d0419c85d7c8e2f5f3e1e5",
        "IPY_MODEL_10dd02f05d764e9d9fc780d6c5dd77e5",
        "IPY_MODEL_6352539279464923a2b44c9466fe561b"
       ],
       "layout": "IPY_MODEL_efffb80988fd42e783a47c0eedf2e2fd"
      }
     },
     "6ba4d258476e48e7b1b63a2ea5c37cdc": {
      "model_module": "@jupyter-widgets/base",
      "model_module_version": "1.0.0",
      "model_name": "LayoutModel",
      "state": {
       "width": "20%"
      }
     },
     "6bbbd5abc3ac469cb144935a38bbba26": {
      "model_module": "@jupyter-widgets/controls",
      "model_module_version": "1.0.0",
      "model_name": "DescriptionStyleModel",
      "state": {
       "description_width": ""
      }
     },
     "6bedb4baac694ac8a59c20e170d35890": {
      "model_module": "@jupyter-widgets/base",
      "model_module_version": "1.0.0",
      "model_name": "LayoutModel",
      "state": {}
     },
     "6c078c1531754752b98c6688b0ca8fda": {
      "model_module": "@jupyter-widgets/controls",
      "model_module_version": "1.0.0",
      "model_name": "DescriptionStyleModel",
      "state": {
       "description_width": ""
      }
     },
     "6c3a71d4e3e1443a945934f46458e065": {
      "model_module": "@jupyter-widgets/controls",
      "model_module_version": "1.0.0",
      "model_name": "HBoxModel",
      "state": {
       "children": [
        "IPY_MODEL_c890b29770df44c78f990c5fe9592d67",
        "IPY_MODEL_8571dc85edd64b6581e571786c8da366"
       ],
       "layout": "IPY_MODEL_9e199d24e61c405b8edb8936de74b20d"
      }
     },
     "6cfc29a9736b486589cddb2aec69eff6": {
      "model_module": "@jupyter-widgets/base",
      "model_module_version": "1.0.0",
      "model_name": "LayoutModel",
      "state": {
       "width": "80%"
      }
     },
     "6d3f9f8661564e979d032d847121a960": {
      "model_module": "@jupyter-widgets/base",
      "model_module_version": "1.0.0",
      "model_name": "LayoutModel",
      "state": {}
     },
     "6d5cf4c76420409c8aa6c8ffcbed1f00": {
      "model_module": "@jupyter-widgets/base",
      "model_module_version": "1.0.0",
      "model_name": "LayoutModel",
      "state": {}
     },
     "6df422153c51450d85155036cba4cf6f": {
      "model_module": "@jupyter-widgets/controls",
      "model_module_version": "1.0.0",
      "model_name": "DescriptionStyleModel",
      "state": {
       "description_width": ""
      }
     },
     "6e84535438464322ad9d0ce0f852bd4c": {
      "model_module": "@jupyter-widgets/controls",
      "model_module_version": "1.0.0",
      "model_name": "HBoxModel",
      "state": {
       "children": [
        "IPY_MODEL_1068d33eb6644267a3368ea17fc89a4f",
        "IPY_MODEL_a72bce7ab7f24dfda5d25eefa936bec7"
       ],
       "layout": "IPY_MODEL_fa0d8e862dc149efadf22881e88f98a6"
      }
     },
     "6f064e0bd51b4c33a3c560609634a9f8": {
      "model_module": "@jupyter-widgets/controls",
      "model_module_version": "1.0.0",
      "model_name": "TextModel",
      "state": {
       "layout": "IPY_MODEL_4b66e6ad6758443c8d030ff1915ff35a",
       "placeholder": "feature meta",
       "style": "IPY_MODEL_e861d332fb004e78a55d3d6b80d56bce",
       "value": "-"
      }
     },
     "6f8908526ebe4dfba8f58bb8372f84f8": {
      "model_module": "@jupyter-widgets/base",
      "model_module_version": "1.0.0",
      "model_name": "LayoutModel",
      "state": {}
     },
     "6fb85714ca1549ed97dd6356997d984a": {
      "model_module": "@jupyter-widgets/controls",
      "model_module_version": "1.0.0",
      "model_name": "TextModel",
      "state": {
       "layout": "IPY_MODEL_7bdf3de85b434ba0881f43efebe11ef9",
       "placeholder": "sample meta",
       "style": "IPY_MODEL_d7597257851f4b00bbbe9e092bfff7cd",
       "value": "0"
      }
     },
     "6fd69de8331747f596b0c83eedda1df4": {
      "model_module": "@jupyter-widgets/controls",
      "model_module_version": "1.0.0",
      "model_name": "HTMLModel",
      "state": {
       "layout": "IPY_MODEL_84fad15c8579408bbe5f2d4942247573",
       "style": "IPY_MODEL_21a640f396f34f4db4b7a7fffd54d96e",
       "value": "<style> a:link {color:black; background-color:transparent; text-decoration:none}a:visited {color:black; background-color:transparent; text-decoration:none}</style><p style=\"color:black;white-space:nowrap;\"><a href=\"http://dbbact.org/annotation_info/NA\"   target=\"_blank\">No annotation found in database dbBact</a></p>"
      }
     },
     "7023f7c41ae144399908a4f124e9db30": {
      "model_module": "@jupyter-widgets/base",
      "model_module_version": "1.0.0",
      "model_name": "LayoutModel",
      "state": {}
     },
     "7043632e77bf4cfd8248c070e4b06212": {
      "model_module": "@jupyter-widgets/controls",
      "model_module_version": "1.0.0",
      "model_name": "DescriptionStyleModel",
      "state": {
       "description_width": ""
      }
     },
     "707be9b38bd0444ebaa21b52053dffcc": {
      "model_module": "@jupyter-widgets/controls",
      "model_module_version": "1.0.0",
      "model_name": "DropdownModel",
      "state": {
       "_options_labels": [
        "ori.order",
        "group",
        "new.order",
        "categorical",
        "_calour_original_abundance"
       ],
       "index": 0,
       "layout": "IPY_MODEL_dabc18c0d25e4cee869b075bd6b23195",
       "style": "IPY_MODEL_19bf21bc950c4dd2a4a5ea5b863db538"
      }
     },
     "70a507fee43f46cc8fd648953e2442b2": {
      "model_module": "@jupyter-widgets/controls",
      "model_module_version": "1.0.0",
      "model_name": "FloatTextModel",
      "state": {
       "description": "Abundance",
       "layout": "IPY_MODEL_44994213f04e4c3ba75264ca4cf6a7cd",
       "step": null,
       "style": "IPY_MODEL_7e73fabbdcbe44178d8851f93e710edc"
      }
     },
     "70d70308bb8443e594ea4a8e6993dc7f": {
      "model_module": "@jupyter-widgets/base",
      "model_module_version": "1.0.0",
      "model_name": "LayoutModel",
      "state": {}
     },
     "7101cd7a90c945eb8d5bf6e1d160160c": {
      "model_module": "@jupyter-widgets/base",
      "model_module_version": "1.0.0",
      "model_name": "LayoutModel",
      "state": {}
     },
     "710e9a880e50423e8a2f662cfdbd655b": {
      "model_module": "@jupyter-widgets/controls",
      "model_module_version": "1.0.0",
      "model_name": "DescriptionStyleModel",
      "state": {
       "description_width": ""
      }
     },
     "7158233a34804accb15cfc8a8f90b29b": {
      "model_module": "@jupyter-widgets/controls",
      "model_module_version": "1.0.0",
      "model_name": "HBoxModel",
      "state": {
       "children": [
        "IPY_MODEL_c58749cff455446892e749eb3f0a661f",
        "IPY_MODEL_17e6c6f5ef3944b18f112be21299f4cc"
       ],
       "layout": "IPY_MODEL_e8622ae6264e44a69ce804a25a56e906"
      }
     },
     "7190db1d6935404a86a936b03fb35aee": {
      "model_module": "@jupyter-widgets/controls",
      "model_module_version": "1.0.0",
      "model_name": "DescriptionStyleModel",
      "state": {
       "description_width": ""
      }
     },
     "71985afa968b47fd99d609d701371cf9": {
      "model_module": "@jupyter-widgets/base",
      "model_module_version": "1.0.0",
      "model_name": "LayoutModel",
      "state": {
       "width": "20%"
      }
     },
     "719adc055c314f4085a30d51d1161e4a": {
      "model_module": "@jupyter-widgets/controls",
      "model_module_version": "1.0.0",
      "model_name": "HBoxModel",
      "state": {
       "children": [
        "IPY_MODEL_66347957a913491dbf13fbf84f5d419f",
        "IPY_MODEL_e34ed2b52c4c412ca1645cb60e5d0ee3",
        "IPY_MODEL_0ea06b327a1c410a8de51123c628116b"
       ],
       "layout": "IPY_MODEL_8b0dca0147304f74844eaa8c2c60ccff"
      }
     },
     "71ae1c1cdd5d43dfa2c3cf492850d582": {
      "model_module": "@jupyter-widgets/controls",
      "model_module_version": "1.0.0",
      "model_name": "DescriptionStyleModel",
      "state": {
       "description_width": ""
      }
     },
     "7219b0dfd22044038cf7a1143dcc0579": {
      "model_module": "@jupyter-widgets/controls",
      "model_module_version": "1.0.0",
      "model_name": "HBoxModel",
      "state": {
       "children": [
        "IPY_MODEL_287bcf9dbc26408cba8f5cdf3348f93b",
        "IPY_MODEL_bab1e351a9614a358357ae04c1a14aa6"
       ],
       "layout": "IPY_MODEL_c635c39acb6f4b90a5213287645b86c0"
      }
     },
     "7259489984144c46bdd2b76505b626bb": {
      "model_module": "@jupyter-widgets/controls",
      "model_module_version": "1.0.0",
      "model_name": "HBoxModel",
      "state": {
       "children": [
        "IPY_MODEL_b9bf199686854385a278888607e8d84c",
        "IPY_MODEL_18f720008c9a4ccdb2498fcb8b93a6b1",
        "IPY_MODEL_2089cc59783946a28690e78b3d6692c1"
       ],
       "layout": "IPY_MODEL_e00ff9eaff7c4b6c8dba4543d9743065"
      }
     },
     "726ebe804d5546d1b1d32c81ba16eb54": {
      "model_module": "@jupyter-widgets/controls",
      "model_module_version": "1.0.0",
      "model_name": "ButtonModel",
      "state": {
       "description": "Save",
       "layout": "IPY_MODEL_e40cc68957154694a03642a59ea71bbb",
       "style": "IPY_MODEL_14255cf3a50244ee8e97663be3cfc90e"
      }
     },
     "72ca2da620864950a1ce9d943470cdf3": {
      "model_module": "@jupyter-widgets/controls",
      "model_module_version": "1.0.0",
      "model_name": "TextModel",
      "state": {
       "layout": "IPY_MODEL_806f56efe28f45e2bdfec36966e50082",
       "placeholder": "feature meta",
       "style": "IPY_MODEL_37a7059974b241c89345100dcfa39b8e",
       "value": "-"
      }
     },
     "7304182849904b22a00b947cfce4be0a": {
      "model_module": "@jupyter-widgets/controls",
      "model_module_version": "1.0.0",
      "model_name": "ButtonStyleModel",
      "state": {}
     },
     "7311948263a042008615437990448798": {
      "model_module": "@jupyter-widgets/controls",
      "model_module_version": "1.0.0",
      "model_name": "ButtonStyleModel",
      "state": {}
     },
     "735353246d5b449aa382f166533e5323": {
      "model_module": "@jupyter-widgets/controls",
      "model_module_version": "1.0.0",
      "model_name": "FloatTextModel",
      "state": {
       "description": "Abundance",
       "layout": "IPY_MODEL_03e0490bdbd84a58946021fdba53e55b",
       "step": null,
       "style": "IPY_MODEL_565bbe9d08ec4bf4b632b729b5958533"
      }
     },
     "73a55c1e92444702a764b270a9fcea1c": {
      "model_module": "@jupyter-widgets/controls",
      "model_module_version": "1.0.0",
      "model_name": "FloatTextModel",
      "state": {
       "description": "Abundance",
       "layout": "IPY_MODEL_80c5bc5bac9f4b009ff6369d9b52c34d",
       "step": null,
       "style": "IPY_MODEL_ac1146579d5f4db58af5e2c31d39cd51"
      }
     },
     "73abd810f1734ecfae7a305d76782767": {
      "model_module": "@jupyter-widgets/controls",
      "model_module_version": "1.0.0",
      "model_name": "DescriptionStyleModel",
      "state": {
       "description_width": ""
      }
     },
     "73df2e60b3ec49a7a694e918dad43d82": {
      "model_module": "@jupyter-widgets/base",
      "model_module_version": "1.0.0",
      "model_name": "LayoutModel",
      "state": {}
     },
     "73e180d5a3764940b477890507ce376e": {
      "model_module": "@jupyter-widgets/controls",
      "model_module_version": "1.0.0",
      "model_name": "FloatTextModel",
      "state": {
       "description": "Abundance",
       "layout": "IPY_MODEL_105dc9bc4cdf424f9691cc233cdf519e",
       "step": null,
       "style": "IPY_MODEL_b62f67d02adc4feaa6abedd89793afbe"
      }
     },
     "741681fa14a341b29bbbe7eeec034d60": {
      "model_module": "@jupyter-widgets/base",
      "model_module_version": "1.0.0",
      "model_name": "LayoutModel",
      "state": {}
     },
     "741fd99505aa4bbfa4abde0dd33a0418": {
      "model_module": "@jupyter-widgets/controls",
      "model_module_version": "1.0.0",
      "model_name": "DescriptionStyleModel",
      "state": {
       "description_width": ""
      }
     },
     "746c54e4b29848b98c498c38805e7f20": {
      "model_module": "@jupyter-widgets/controls",
      "model_module_version": "1.0.0",
      "model_name": "ButtonModel",
      "state": {
       "description": "print axes ranges",
       "layout": "IPY_MODEL_00d386f8218c49c8a5e220134fd4dacc",
       "style": "IPY_MODEL_b799b9fcd34d4becb0edb96deea3048a",
       "tooltip": "Print the x axis and y axis ranges. Useful to pass to `rect` parameter of heatmap() to zoom in the region automatically."
      }
     },
     "74aae64026d44fd4afe508d0d3b3cec7": {
      "model_module": "@jupyter-widgets/controls",
      "model_module_version": "1.0.0",
      "model_name": "HTMLModel",
      "state": {
       "layout": "IPY_MODEL_7d5e0bfb3cb14c1c922ae0c48a2e2489",
       "style": "IPY_MODEL_ff9930cba4944728bc3ab7d67dfe37ba",
       "value": "<style> a:link {color:black; background-color:transparent; text-decoration:none}a:visited {color:black; background-color:transparent; text-decoration:none}</style><p style=\"color:black;white-space:nowrap;\"><a href=\"http://dbbact.org/annotation_info/NA\"   target=\"_blank\">No annotation found in database dbBact</a></p>"
      }
     },
     "74acd45c93c14d78bd5bb643e5ad49bb": {
      "model_module": "@jupyter-widgets/base",
      "model_module_version": "1.0.0",
      "model_name": "LayoutModel",
      "state": {}
     },
     "753d38c4b75d42a9bcf588978cef511c": {
      "model_module": "@jupyter-widgets/controls",
      "model_module_version": "1.0.0",
      "model_name": "ButtonModel",
      "state": {
       "description": "print axes ranges",
       "layout": "IPY_MODEL_011264ac05254126802325ccfac4e148",
       "style": "IPY_MODEL_7304182849904b22a00b947cfce4be0a",
       "tooltip": "Print the x axis and y axis ranges. Useful to pass to `rect` parameter of heatmap() to zoom in the region automatically."
      }
     },
     "7580005c49474c62a7cc1db66ddc5626": {
      "model_module": "@jupyter-widgets/controls",
      "model_module_version": "1.0.0",
      "model_name": "ButtonStyleModel",
      "state": {}
     },
     "758070c99c514370887433836531b003": {
      "model_module": "@jupyter-widgets/base",
      "model_module_version": "1.0.0",
      "model_name": "LayoutModel",
      "state": {}
     },
     "75e9dc465c294e5da385c87640bcaf7e": {
      "model_module": "@jupyter-widgets/controls",
      "model_module_version": "1.0.0",
      "model_name": "HTMLModel",
      "state": {
       "layout": "IPY_MODEL_e2f6215f3c8a4b4e9fa58466faaa0b56",
       "style": "IPY_MODEL_880b8b7bec7e40f5a6391728735efdae",
       "value": "<style> a:link {color:black; background-color:transparent; text-decoration:none}a:visited {color:black; background-color:transparent; text-decoration:none}</style><p style=\"color:black;white-space:nowrap;\"><a href=\"http://dbbact.org/annotation_info/NA\"   target=\"_blank\">No annotation found in database dbBact</a></p>"
      }
     },
     "760310d170c24d5181467e9bd76c649c": {
      "model_module": "@jupyter-widgets/controls",
      "model_module_version": "1.0.0",
      "model_name": "DescriptionStyleModel",
      "state": {
       "description_width": ""
      }
     },
     "7678c6a0341b4618be1ac97d2ae028e4": {
      "model_module": "@jupyter-widgets/controls",
      "model_module_version": "1.0.0",
      "model_name": "TextModel",
      "state": {
       "description": "Sample ID",
       "layout": "IPY_MODEL_565b1c6b9e874be098cfd20b625f76fe",
       "placeholder": "Sample ID",
       "style": "IPY_MODEL_de5a5365889047b2bbb3b419e902f70d",
       "value": "S4"
      }
     },
     "76a4c29ac6244662b3cb68e1f2604050": {
      "model_module": "@jupyter-widgets/base",
      "model_module_version": "1.0.0",
      "model_name": "LayoutModel",
      "state": {
       "width": "20%"
      }
     },
     "76a765e017d74f1aa3c856312383cb42": {
      "model_module": "@jupyter-widgets/controls",
      "model_module_version": "1.0.0",
      "model_name": "TextModel",
      "state": {
       "layout": "IPY_MODEL_3a227cd0d6bd41d4bd2b38aea0a2a997",
       "placeholder": "sample meta",
       "style": "IPY_MODEL_17c1aa17f2104a48a90f5d16f19da70c",
       "value": "-"
      }
     },
     "76dd7b23470844b99eb1d6f98485c541": {
      "model_module": "@jupyter-widgets/base",
      "model_module_version": "1.0.0",
      "model_name": "LayoutModel",
      "state": {}
     },
     "76e87c5ac05944d5bc71d33b144d21fe": {
      "model_module": "@jupyter-widgets/controls",
      "model_module_version": "1.0.0",
      "model_name": "TextModel",
      "state": {
       "layout": "IPY_MODEL_0a804213a3484329a31d3bc63f2d6cfb",
       "placeholder": "feature meta",
       "style": "IPY_MODEL_21e8a7ff1b614639866a5c3baf905390",
       "value": "-"
      }
     },
     "76eafdc28f5c4e01983bae61f167056e": {
      "model_module": "@jupyter-widgets/controls",
      "model_module_version": "1.0.0",
      "model_name": "TextModel",
      "state": {
       "description": "Feature ID",
       "layout": "IPY_MODEL_0fc054d821a547a59cd2399708c31d56",
       "placeholder": "Feature ID",
       "style": "IPY_MODEL_232d1bbacd774565a1f19442f7cc04b0",
       "value": "TC"
      }
     },
     "76fd7714395a42a2a8390a555349436c": {
      "model_module": "@jupyter-widgets/controls",
      "model_module_version": "1.0.0",
      "model_name": "DescriptionStyleModel",
      "state": {
       "description_width": ""
      }
     },
     "7702f976b643477284a2fee1ed687753": {
      "model_module": "@jupyter-widgets/controls",
      "model_module_version": "1.0.0",
      "model_name": "DescriptionStyleModel",
      "state": {
       "description_width": ""
      }
     },
     "770ab8b0235c40b8a906fcd1fceb2b0c": {
      "model_module": "@jupyter-widgets/controls",
      "model_module_version": "1.0.0",
      "model_name": "HBoxModel",
      "state": {
       "children": [
        "IPY_MODEL_a4e2633eab3349ea89670415a2b9a143",
        "IPY_MODEL_ffb99856481a41c8af1402e46612c9bd",
        "IPY_MODEL_2a949cb24c8549f99ad364f255401d62"
       ],
       "layout": "IPY_MODEL_10239a33f22a4113a1a9d79aa4d1288c"
      }
     },
     "773cb8dede5f4d728628430598683cc5": {
      "model_module": "@jupyter-widgets/base",
      "model_module_version": "1.0.0",
      "model_name": "LayoutModel",
      "state": {
       "width": "100%"
      }
     },
     "776392b057f04fd38282e5dd5c034166": {
      "model_module": "@jupyter-widgets/controls",
      "model_module_version": "1.0.0",
      "model_name": "HBoxModel",
      "state": {
       "children": [
        "IPY_MODEL_b03f2152149e4ef7a4fdf0ae880db8ac",
        "IPY_MODEL_85377326bf8d458d983308fd85e417a2",
        "IPY_MODEL_caed2d5df2d94e338136eea89546e865"
       ],
       "layout": "IPY_MODEL_7b094315b33a4530a2d01851f9b23171"
      }
     },
     "77a00bf1757a4947a5533197f51efd3d": {
      "model_module": "@jupyter-widgets/controls",
      "model_module_version": "1.0.0",
      "model_name": "ButtonStyleModel",
      "state": {}
     },
     "782e6ced6e6b4e71825939e6bfd906ce": {
      "model_module": "@jupyter-widgets/base",
      "model_module_version": "1.0.0",
      "model_name": "LayoutModel",
      "state": {}
     },
     "787928167271476883e9915eb5ae5786": {
      "model_module": "@jupyter-widgets/controls",
      "model_module_version": "1.0.0",
      "model_name": "LabelModel",
      "state": {
       "layout": "IPY_MODEL_e70a8c83eeb042a29041fa50e92193b6",
       "style": "IPY_MODEL_55c5690ccc034658857bb3dfba7de4b0",
       "value": "1 features are selected"
      }
     },
     "788e498b41be4e5dac18b2d294a861ff": {
      "model_module": "@jupyter-widgets/controls",
      "model_module_version": "1.0.0",
      "model_name": "DescriptionStyleModel",
      "state": {
       "description_width": ""
      }
     },
     "78c7ceed4c0b4330961df0dd3171e087": {
      "model_module": "@jupyter-widgets/controls",
      "model_module_version": "1.0.0",
      "model_name": "HTMLModel",
      "state": {
       "layout": "IPY_MODEL_b5e94d76b1364bbcb8eb0a8c99044feb",
       "style": "IPY_MODEL_b9db7a9b6b174315888eb94d75f4705d",
       "value": "no annotation found"
      }
     },
     "7968a43a1a314708885a2febf7586d07": {
      "model_module": "@jupyter-widgets/controls",
      "model_module_version": "1.0.0",
      "model_name": "DescriptionStyleModel",
      "state": {
       "description_width": ""
      }
     },
     "79ffec5865d446dc8d95294eb3e91e06": {
      "model_module": "@jupyter-widgets/controls",
      "model_module_version": "1.0.0",
      "model_name": "FloatTextModel",
      "state": {
       "description": "Abundance",
       "layout": "IPY_MODEL_90938660446045f789e980da5024085c",
       "step": null,
       "style": "IPY_MODEL_15b815f52c2f4a3fb3339e012a56c3a3"
      }
     },
     "7a2095c306f64afc96a142734d9c5800": {
      "model_module": "@jupyter-widgets/base",
      "model_module_version": "1.0.0",
      "model_name": "LayoutModel",
      "state": {}
     },
     "7a41573e30004dbabf0043eee1f46740": {
      "model_module": "@jupyter-widgets/controls",
      "model_module_version": "1.0.0",
      "model_name": "DescriptionStyleModel",
      "state": {
       "description_width": ""
      }
     },
     "7a649c0f551647b98db4fa352507904b": {
      "model_module": "@jupyter-widgets/controls",
      "model_module_version": "1.0.0",
      "model_name": "HBoxModel",
      "state": {
       "children": [
        "IPY_MODEL_ea5507ad074f4247962014b1b9a5350c",
        "IPY_MODEL_da869a499d2645e4b2748cd1983f39f4",
        "IPY_MODEL_0844b68abc714506adf0d5859a7e0fdd"
       ],
       "layout": "IPY_MODEL_741681fa14a341b29bbbe7eeec034d60"
      }
     },
     "7a817942ba3542bfafc40461d82c05f1": {
      "model_module": "@jupyter-widgets/controls",
      "model_module_version": "1.0.0",
      "model_name": "ButtonStyleModel",
      "state": {}
     },
     "7b02f671f963406ea6b3c07d1b9e9c68": {
      "model_module": "@jupyter-widgets/controls",
      "model_module_version": "1.0.0",
      "model_name": "TextModel",
      "state": {
       "layout": "IPY_MODEL_e33f725ed57145cfa921fe0f15d67d49",
       "placeholder": "sample meta",
       "style": "IPY_MODEL_478d897582d1402791ae5fcd9a92698c",
       "value": "-"
      }
     },
     "7b094315b33a4530a2d01851f9b23171": {
      "model_module": "@jupyter-widgets/base",
      "model_module_version": "1.0.0",
      "model_name": "LayoutModel",
      "state": {}
     },
     "7b523be8f8674136a56556e091eb6102": {
      "model_module": "@jupyter-widgets/controls",
      "model_module_version": "1.0.0",
      "model_name": "LabelModel",
      "state": {
       "layout": "IPY_MODEL_40a65f059ff14cb0b7d09b4be951360c",
       "style": "IPY_MODEL_130932151fb0454d83008a76f0dae498",
       "value": "0 features are selected"
      }
     },
     "7b627dc3f6f943d3824e1c9e6ec3c60a": {
      "model_module": "@jupyter-widgets/controls",
      "model_module_version": "1.0.0",
      "model_name": "DropdownModel",
      "state": {
       "_options_labels": [
        "ori.order",
        "group",
        "new.order",
        "categorical",
        "_calour_original_abundance"
       ],
       "index": 0,
       "layout": "IPY_MODEL_25fefce25fe843eb97fb0dddec8ce158",
       "style": "IPY_MODEL_d39b3bda87b444f9bec70cb9e717ee58"
      }
     },
     "7b89056dbb8b4019902884ce6ec03104": {
      "model_module": "@jupyter-widgets/controls",
      "model_module_version": "1.0.0",
      "model_name": "TextModel",
      "state": {
       "layout": "IPY_MODEL_0829cfc8d9594bb2998252d03d7d9cc1",
       "placeholder": "feature meta",
       "style": "IPY_MODEL_54b1602bd37045a48d064814c4103619",
       "value": "anaerobic"
      }
     },
     "7bbecd1f33544181b1889546cbaa4c14": {
      "model_module": "@jupyter-widgets/controls",
      "model_module_version": "1.0.0",
      "model_name": "DescriptionStyleModel",
      "state": {
       "description_width": ""
      }
     },
     "7bc60e2cf7fa45db8205d74c444fb512": {
      "model_module": "@jupyter-widgets/controls",
      "model_module_version": "1.0.0",
      "model_name": "DescriptionStyleModel",
      "state": {
       "description_width": ""
      }
     },
     "7bdf3de85b434ba0881f43efebe11ef9": {
      "model_module": "@jupyter-widgets/base",
      "model_module_version": "1.0.0",
      "model_name": "LayoutModel",
      "state": {
       "width": "80%"
      }
     },
     "7bef7c20e9464d468783ca4a78c3d30d": {
      "model_module": "@jupyter-widgets/base",
      "model_module_version": "1.0.0",
      "model_name": "LayoutModel",
      "state": {
       "width": "20%"
      }
     },
     "7cb4f927092a4406ac2e1aa4fd672e0b": {
      "model_module": "@jupyter-widgets/controls",
      "model_module_version": "1.0.0",
      "model_name": "ButtonStyleModel",
      "state": {}
     },
     "7cccff9917444f4cbcd36a3659d14d47": {
      "model_module": "@jupyter-widgets/controls",
      "model_module_version": "1.0.0",
      "model_name": "HTMLModel",
      "state": {
       "layout": "IPY_MODEL_c92a4328c2b1497eae41115cfda206cb",
       "style": "IPY_MODEL_3ff5012bd69a49138566f31f67ade583",
       "value": "<style> a:link {color:black; background-color:transparent; text-decoration:none}a:visited {color:black; background-color:transparent; text-decoration:none}</style><p style=\"color:black;white-space:nowrap;\"><a href=\"http://dbbact.org/annotation_info/NA\"   target=\"_blank\">No annotation found in database dbBact</a></p>"
      }
     },
     "7d5e0bfb3cb14c1c922ae0c48a2e2489": {
      "model_module": "@jupyter-widgets/base",
      "model_module_version": "1.0.0",
      "model_name": "LayoutModel",
      "state": {
       "height": "100px",
       "overflow_y": "auto"
      }
     },
     "7d658cd9365c45d7b1a8dfb9c62aa85d": {
      "model_module": "@jupyter-widgets/controls",
      "model_module_version": "1.0.0",
      "model_name": "TextModel",
      "state": {
       "layout": "IPY_MODEL_21cb8b2b996949ba8aa772921d80b96a",
       "placeholder": "sample meta",
       "style": "IPY_MODEL_442a539c0e5545a685e48a2b96d94796",
       "value": "5"
      }
     },
     "7d98d60283e441a699fa2dff142c7eb3": {
      "model_module": "@jupyter-widgets/controls",
      "model_module_version": "1.0.0",
      "model_name": "HBoxModel",
      "state": {
       "children": [
        "IPY_MODEL_7678c6a0341b4618be1ac97d2ae028e4",
        "IPY_MODEL_e73941486eab497da45f1fe2014cf016",
        "IPY_MODEL_d8c24935b2bc44d986fee186e60eadb8"
       ],
       "layout": "IPY_MODEL_e483774b63b64cdda9c557aa3c8d70b9"
      }
     },
     "7da83618b42c476784719d5cc337780f": {
      "model_module": "@jupyter-widgets/controls",
      "model_module_version": "1.0.0",
      "model_name": "HBoxModel",
      "state": {
       "children": [
        "IPY_MODEL_41cda9e6486e4b50b31d77ed42a32c2e",
        "IPY_MODEL_f431bb5957f84f60a5fbc3e3f64baaf5",
        "IPY_MODEL_e19f08f6a7a94079a4c97293226ed764"
       ],
       "layout": "IPY_MODEL_148faa86f38543eca421ddfd03e4ee0b"
      }
     },
     "7daf8677bcaf43b191a32cfa52e9cb66": {
      "model_module": "@jupyter-widgets/base",
      "model_module_version": "1.0.0",
      "model_name": "LayoutModel",
      "state": {}
     },
     "7dbddc9d7d2843ccb0bf1617f18d25d2": {
      "model_module": "@jupyter-widgets/controls",
      "model_module_version": "1.0.0",
      "model_name": "DescriptionStyleModel",
      "state": {
       "description_width": ""
      }
     },
     "7e5b78e4cf224243938df1115c7c123e": {
      "model_module": "@jupyter-widgets/controls",
      "model_module_version": "1.0.0",
      "model_name": "TextModel",
      "state": {
       "description": "Sample ID",
       "layout": "IPY_MODEL_03e0490bdbd84a58946021fdba53e55b",
       "placeholder": "Sample ID",
       "style": "IPY_MODEL_45a205b117a7489a8113fb0148a15d91",
       "value": "-"
      }
     },
     "7e73fabbdcbe44178d8851f93e710edc": {
      "model_module": "@jupyter-widgets/controls",
      "model_module_version": "1.0.0",
      "model_name": "DescriptionStyleModel",
      "state": {
       "description_width": ""
      }
     },
     "7e8004da805b4f3bb7b11f0929d70423": {
      "model_module": "@jupyter-widgets/controls",
      "model_module_version": "1.0.0",
      "model_name": "ButtonStyleModel",
      "state": {}
     },
     "7e84f94739f7488783d1480b62658c87": {
      "model_module": "@jupyter-widgets/controls",
      "model_module_version": "1.0.0",
      "model_name": "DescriptionStyleModel",
      "state": {
       "description_width": ""
      }
     },
     "7e982471a4d04c73951df4eb2b7e5e75": {
      "model_module": "@jupyter-widgets/controls",
      "model_module_version": "1.0.0",
      "model_name": "DescriptionStyleModel",
      "state": {
       "description_width": ""
      }
     },
     "7ea633521cff401aa3b8eb9814f55e01": {
      "model_module": "@jupyter-widgets/controls",
      "model_module_version": "1.0.0",
      "model_name": "DescriptionStyleModel",
      "state": {
       "description_width": ""
      }
     },
     "7ec1d504c6d24d31913faf7265dba223": {
      "model_module": "@jupyter-widgets/controls",
      "model_module_version": "1.0.0",
      "model_name": "TextModel",
      "state": {
       "layout": "IPY_MODEL_e5af046a55e84cc08199c28d86dd60ba",
       "placeholder": "feature meta",
       "style": "IPY_MODEL_7702f976b643477284a2fee1ed687753",
       "value": "-"
      }
     },
     "800802d49d4140e4ab3d0ddb14d67c95": {
      "model_module": "@jupyter-widgets/controls",
      "model_module_version": "1.0.0",
      "model_name": "HBoxModel",
      "state": {
       "children": [
        "IPY_MODEL_21bd540ca3754b9c971290c257117b0f",
        "IPY_MODEL_c8441c1d7b254b46b02e16a3990b2bf8",
        "IPY_MODEL_79ffec5865d446dc8d95294eb3e91e06"
       ],
       "layout": "IPY_MODEL_db14f6d579c146e0a292895ba3a6cdd2"
      }
     },
     "804800559e4e4e65b16ac6954c8193fe": {
      "model_module": "@jupyter-widgets/controls",
      "model_module_version": "1.0.0",
      "model_name": "HTMLModel",
      "state": {
       "layout": "IPY_MODEL_58afc157d577451fa4d4ce893914a4db",
       "style": "IPY_MODEL_c3f9096ce69e43749fbff18320a94a2c",
       "value": "no annotation found"
      }
     },
     "806048cb71944a49acb988035601c2a8": {
      "model_module": "@jupyter-widgets/base",
      "model_module_version": "1.0.0",
      "model_name": "LayoutModel",
      "state": {
       "width": "20%"
      }
     },
     "806967ab5b2348428e5f2873e3cd2e10": {
      "model_module": "@jupyter-widgets/base",
      "model_module_version": "1.0.0",
      "model_name": "LayoutModel",
      "state": {}
     },
     "806f56efe28f45e2bdfec36966e50082": {
      "model_module": "@jupyter-widgets/base",
      "model_module_version": "1.0.0",
      "model_name": "LayoutModel",
      "state": {
       "width": "80%"
      }
     },
     "8085f1c37d5d41cd8077baede5ddff6c": {
      "model_module": "@jupyter-widgets/base",
      "model_module_version": "1.0.0",
      "model_name": "LayoutModel",
      "state": {}
     },
     "80c5bc5bac9f4b009ff6369d9b52c34d": {
      "model_module": "@jupyter-widgets/base",
      "model_module_version": "1.0.0",
      "model_name": "LayoutModel",
      "state": {
       "width": "100%"
      }
     },
     "80eb024d88ec4617a8178421dfb17d8f": {
      "model_module": "@jupyter-widgets/base",
      "model_module_version": "1.0.0",
      "model_name": "LayoutModel",
      "state": {}
     },
     "812262d2401b42b78d9a50f7003a1280": {
      "model_module": "@jupyter-widgets/controls",
      "model_module_version": "1.0.0",
      "model_name": "HBoxModel",
      "state": {
       "children": [
        "IPY_MODEL_426af36c438e42928a587f3cefaccecd",
        "IPY_MODEL_6b3785a0ec934f519fbee5930687dd10"
       ],
       "layout": "IPY_MODEL_557fc7fbbe344a25aef5906ccc4456aa"
      }
     },
     "81e674ca72694d4aa76cbab29d1275b5": {
      "model_module": "@jupyter-widgets/controls",
      "model_module_version": "1.0.0",
      "model_name": "TextModel",
      "state": {
       "layout": "IPY_MODEL_d95d674e1357464bbd808e447980a5cb",
       "placeholder": "sample meta",
       "style": "IPY_MODEL_5bb938b40d1d4891b4653d7cd14b7f22",
       "value": "-"
      }
     },
     "831b60f52be34ce8ac2b231fd734c5ad": {
      "model_module": "@jupyter-widgets/base",
      "model_module_version": "1.0.0",
      "model_name": "LayoutModel",
      "state": {}
     },
     "83351f1927c64058bbdb8f2b519dd250": {
      "model_module": "@jupyter-widgets/base",
      "model_module_version": "1.0.0",
      "model_name": "LayoutModel",
      "state": {}
     },
     "836f96c878c74977931f83949fb969fb": {
      "model_module": "@jupyter-widgets/controls",
      "model_module_version": "1.0.0",
      "model_name": "HBoxModel",
      "state": {
       "children": [
        "IPY_MODEL_e809ad160f1b4c78b3109e4e8a78c15f",
        "IPY_MODEL_da38a07ae4be4915ba078b993bfda538"
       ],
       "layout": "IPY_MODEL_9738f70ce649453781dc00ba9615c623"
      }
     },
     "8371f4d10a5a434bb265dfab56b71ea4": {
      "model_module": "@jupyter-widgets/controls",
      "model_module_version": "1.0.0",
      "model_name": "DescriptionStyleModel",
      "state": {
       "description_width": ""
      }
     },
     "8374453c2ad747b79afe66e55c3eea32": {
      "model_module": "@jupyter-widgets/controls",
      "model_module_version": "1.0.0",
      "model_name": "DescriptionStyleModel",
      "state": {
       "description_width": ""
      }
     },
     "8377246142eb4ea9b081c42a780da736": {
      "model_module": "@jupyter-widgets/base",
      "model_module_version": "1.0.0",
      "model_name": "LayoutModel",
      "state": {}
     },
     "83a3f0c4771a4700b09e1b44ac984df4": {
      "model_module": "@jupyter-widgets/controls",
      "model_module_version": "1.0.0",
      "model_name": "HBoxModel",
      "state": {
       "children": [
        "IPY_MODEL_18bf9761334845b28c0a3aa5c2ed99e3",
        "IPY_MODEL_4c4a6d2cb43b471eaa24e37f75b812f9",
        "IPY_MODEL_85f0b6970ddb4ae4809906e0e6177d2f"
       ],
       "layout": "IPY_MODEL_c2454d63815f498bb1e29d4fb7891ca2"
      }
     },
     "83ab89d0308948c29f4d7083be4b3697": {
      "model_module": "@jupyter-widgets/controls",
      "model_module_version": "1.0.0",
      "model_name": "DropdownModel",
      "state": {
       "_options_labels": [
        "ori.order",
        "group",
        "new.order",
        "categorical",
        "_calour_original_abundance"
       ],
       "index": 0,
       "layout": "IPY_MODEL_6a577bbbd0aa4150aede2160b8874332",
       "style": "IPY_MODEL_4ae9d360d17d405f8c6092a611a7a888"
      }
     },
     "83abe99485bf4107aac03846fa6c9969": {
      "model_module": "@jupyter-widgets/base",
      "model_module_version": "1.0.0",
      "model_name": "LayoutModel",
      "state": {}
     },
     "83b1180f221b489eb0f84ba3baf0d21b": {
      "model_module": "@jupyter-widgets/base",
      "model_module_version": "1.0.0",
      "model_name": "LayoutModel",
      "state": {
       "width": "80%"
      }
     },
     "83c9cd3cec774a6b812d99a2c26f17cb": {
      "model_module": "@jupyter-widgets/base",
      "model_module_version": "1.0.0",
      "model_name": "LayoutModel",
      "state": {
       "width": "20%"
      }
     },
     "83d02d059fdd49beb8d858c03c30d6fa": {
      "model_module": "@jupyter-widgets/controls",
      "model_module_version": "1.0.0",
      "model_name": "ButtonModel",
      "state": {
       "description": "Annotate",
       "layout": "IPY_MODEL_d399ca2f1bf7431b8d5102550d3dae3d",
       "style": "IPY_MODEL_a708261462d840178f28f54b4dad290e"
      }
     },
     "83f220c4c3154575b6bc91246594bdb3": {
      "model_module": "@jupyter-widgets/base",
      "model_module_version": "1.0.0",
      "model_name": "LayoutModel",
      "state": {}
     },
     "84139b6bcf274c53b2d6924ed9bb2831": {
      "model_module": "@jupyter-widgets/base",
      "model_module_version": "1.0.0",
      "model_name": "LayoutModel",
      "state": {
       "height": "100px",
       "overflow_y": "auto"
      }
     },
     "841fa30f5835461d83723cac9991d217": {
      "model_module": "@jupyter-widgets/controls",
      "model_module_version": "1.0.0",
      "model_name": "DescriptionStyleModel",
      "state": {
       "description_width": ""
      }
     },
     "84b38747fe924271b63cb3e83c684ae5": {
      "model_module": "@jupyter-widgets/controls",
      "model_module_version": "1.0.0",
      "model_name": "LabelModel",
      "state": {
       "layout": "IPY_MODEL_12611792fecb4e3a825fa33b00dfab4f",
       "style": "IPY_MODEL_13bf6fe0be3d4ffdaf133741f2c0c76b",
       "value": "0 features are selected"
      }
     },
     "84c3f0edd12b4194a3949dcdfc865e7a": {
      "model_module": "@jupyter-widgets/controls",
      "model_module_version": "1.0.0",
      "model_name": "DescriptionStyleModel",
      "state": {
       "description_width": ""
      }
     },
     "84ed5c80cc094cc09b17e21aabf103cd": {
      "model_module": "@jupyter-widgets/controls",
      "model_module_version": "1.0.0",
      "model_name": "HBoxModel",
      "state": {
       "children": [
        "IPY_MODEL_a28394d75da84729a1d5332f2ac091b5",
        "IPY_MODEL_f1d6f03421744fb8b7dd8eb3cf00fc4e",
        "IPY_MODEL_4b1831b5a72e4998ab49867d07da36d5"
       ],
       "layout": "IPY_MODEL_e871b23b4b534364be1603d87700353e"
      }
     },
     "84fad15c8579408bbe5f2d4942247573": {
      "model_module": "@jupyter-widgets/base",
      "model_module_version": "1.0.0",
      "model_name": "LayoutModel",
      "state": {
       "height": "100px",
       "overflow_y": "auto"
      }
     },
     "85377326bf8d458d983308fd85e417a2": {
      "model_module": "@jupyter-widgets/controls",
      "model_module_version": "1.0.0",
      "model_name": "TextModel",
      "state": {
       "description": "Feature ID",
       "layout": "IPY_MODEL_f941e7f103b34e8a97ae60e01fe0cf36",
       "placeholder": "Feature ID",
       "style": "IPY_MODEL_e1195e68c8e747cb97e3475398843fb4",
       "value": "TG"
      }
     },
     "8571dc85edd64b6581e571786c8da366": {
      "model_module": "@jupyter-widgets/controls",
      "model_module_version": "1.0.0",
      "model_name": "TextModel",
      "state": {
       "layout": "IPY_MODEL_cbf88707cd60458bb4ba01415d517065",
       "placeholder": "feature meta",
       "style": "IPY_MODEL_f65e8fbb0d6d4f26a2395cbf5325f119",
       "value": "-"
      }
     },
     "858ef5db577945bda0df0e4f119a8cff": {
      "model_module": "@jupyter-widgets/controls",
      "model_module_version": "1.0.0",
      "model_name": "ButtonStyleModel",
      "state": {}
     },
     "85a411cb20fe45d59527aa71c44511dd": {
      "model_module": "@jupyter-widgets/base",
      "model_module_version": "1.0.0",
      "model_name": "LayoutModel",
      "state": {}
     },
     "85f0b6970ddb4ae4809906e0e6177d2f": {
      "model_module": "@jupyter-widgets/controls",
      "model_module_version": "1.0.0",
      "model_name": "ButtonModel",
      "state": {
       "description": "Annotate",
       "layout": "IPY_MODEL_00b35cc801fb45c88ad583bd97764686",
       "style": "IPY_MODEL_1301c4f3fffe4d4497f505b5fc37a806"
      }
     },
     "864b62d99b484d6b8195378686862840": {
      "model_module": "@jupyter-widgets/controls",
      "model_module_version": "1.0.0",
      "model_name": "DropdownModel",
      "state": {
       "_options_labels": [
        "ori.order",
        "group",
        "new.order",
        "categorical",
        "_calour_original_abundance"
       ],
       "index": 0,
       "layout": "IPY_MODEL_03a4d672e09e4fb98b1d8f842e7559e8",
       "style": "IPY_MODEL_5676144cdbe645c8bf6d8259e1e2647a"
      }
     },
     "86546455beb6418e9f445eb6bc82dc03": {
      "model_module": "@jupyter-widgets/controls",
      "model_module_version": "1.0.0",
      "model_name": "ButtonStyleModel",
      "state": {}
     },
     "86a559a37b0646668bae032c223a7e90": {
      "model_module": "@jupyter-widgets/base",
      "model_module_version": "1.0.0",
      "model_name": "LayoutModel",
      "state": {}
     },
     "86cde3d2fbe84649a2e4654e4325577d": {
      "model_module": "@jupyter-widgets/controls",
      "model_module_version": "1.0.0",
      "model_name": "HBoxModel",
      "state": {
       "children": [
        "IPY_MODEL_e8ad69a11b824ac89de5ff7d2b13da15",
        "IPY_MODEL_ccbd4eb091ff48dc8b4b5fde7d511a2a",
        "IPY_MODEL_8e93b3ed298c4843a791d725e579e86c"
       ],
       "layout": "IPY_MODEL_1539ec922da9434aa3284350d87a0477"
      }
     },
     "8700f0e0af494edda9b90ad14280f472": {
      "model_module": "@jupyter-widgets/controls",
      "model_module_version": "1.0.0",
      "model_name": "HBoxModel",
      "state": {
       "children": [
        "IPY_MODEL_57ec8c45d14f4a18aaec4256deef4e4c",
        "IPY_MODEL_0a58be3902ff46f1bd98b3d8228b9583"
       ],
       "layout": "IPY_MODEL_09ef0699338a477795d893f3af0b21a9"
      }
     },
     "87510413707e4b36b7894ac3c17e83de": {
      "model_module": "@jupyter-widgets/controls",
      "model_module_version": "1.0.0",
      "model_name": "ButtonStyleModel",
      "state": {}
     },
     "879abe67fe034d72aa5ee141d7fd465e": {
      "model_module": "@jupyter-widgets/controls",
      "model_module_version": "1.0.0",
      "model_name": "DescriptionStyleModel",
      "state": {
       "description_width": ""
      }
     },
     "87cfb34bd339422a9b6cbe42f5d4c59f": {
      "model_module": "@jupyter-widgets/controls",
      "model_module_version": "1.0.0",
      "model_name": "DescriptionStyleModel",
      "state": {
       "description_width": ""
      }
     },
     "880b8b7bec7e40f5a6391728735efdae": {
      "model_module": "@jupyter-widgets/controls",
      "model_module_version": "1.0.0",
      "model_name": "DescriptionStyleModel",
      "state": {
       "description_width": ""
      }
     },
     "8838d0c6af0445bebaf48aecd78e2efc": {
      "model_module": "@jupyter-widgets/base",
      "model_module_version": "1.0.0",
      "model_name": "LayoutModel",
      "state": {
       "width": "80%"
      }
     },
     "884df1dfc42146a3a45898f5dcffccbb": {
      "model_module": "@jupyter-widgets/base",
      "model_module_version": "1.0.0",
      "model_name": "LayoutModel",
      "state": {}
     },
     "8892dfae6dd94af2a7767c4d2293f791": {
      "model_module": "@jupyter-widgets/base",
      "model_module_version": "1.0.0",
      "model_name": "LayoutModel",
      "state": {}
     },
     "889983beb1e44721bc155ac0b82da191": {
      "model_module": "@jupyter-widgets/controls",
      "model_module_version": "1.0.0",
      "model_name": "DescriptionStyleModel",
      "state": {
       "description_width": ""
      }
     },
     "88c19cd3ff164e89a88a17a7aec52153": {
      "model_module": "@jupyter-widgets/controls",
      "model_module_version": "1.0.0",
      "model_name": "HBoxModel",
      "state": {
       "children": [
        "IPY_MODEL_41109dfeb3eb418b93516e3e34efb8a4",
        "IPY_MODEL_582a75e26aa04fdebd700e8da78af957"
       ],
       "layout": "IPY_MODEL_3d60c6483bad4efebc2f73a3c5fe22c7"
      }
     },
     "8944426cfd89480ea8a12fb082514d20": {
      "model_module": "@jupyter-widgets/base",
      "model_module_version": "1.0.0",
      "model_name": "LayoutModel",
      "state": {}
     },
     "8990643322ae487c8d7077c02177e3db": {
      "model_module": "@jupyter-widgets/base",
      "model_module_version": "1.0.0",
      "model_name": "LayoutModel",
      "state": {}
     },
     "89ae00871d4140e1a799839ff5fcc377": {
      "model_module": "@jupyter-widgets/controls",
      "model_module_version": "1.0.0",
      "model_name": "ButtonStyleModel",
      "state": {}
     },
     "89ea376b653c4de2bfeba31e498386d2": {
      "model_module": "@jupyter-widgets/base",
      "model_module_version": "1.0.0",
      "model_name": "LayoutModel",
      "state": {}
     },
     "8a439e52677e4ce38fca38efb35d440e": {
      "model_module": "@jupyter-widgets/controls",
      "model_module_version": "1.0.0",
      "model_name": "DescriptionStyleModel",
      "state": {
       "description_width": ""
      }
     },
     "8abd7680e3184166bc837bb4f27fbbc3": {
      "model_module": "@jupyter-widgets/base",
      "model_module_version": "1.0.0",
      "model_name": "LayoutModel",
      "state": {}
     },
     "8ae8fe10e65a46efbed6fafc0d1aba7c": {
      "model_module": "@jupyter-widgets/base",
      "model_module_version": "1.0.0",
      "model_name": "LayoutModel",
      "state": {
       "height": "100px",
       "overflow_y": "auto"
      }
     },
     "8af73284f30b40409de43e02b8769aea": {
      "model_module": "@jupyter-widgets/controls",
      "model_module_version": "1.0.0",
      "model_name": "TextModel",
      "state": {
       "layout": "IPY_MODEL_22c1472937e64ed084e5635ee98f157c",
       "placeholder": "feature meta",
       "style": "IPY_MODEL_c18afdec8a8e45f2982224e1bedefddf",
       "value": "-"
      }
     },
     "8b0dca0147304f74844eaa8c2c60ccff": {
      "model_module": "@jupyter-widgets/base",
      "model_module_version": "1.0.0",
      "model_name": "LayoutModel",
      "state": {}
     },
     "8b2d341361da4aabb3d21abb9382909b": {
      "model_module": "@jupyter-widgets/controls",
      "model_module_version": "1.0.0",
      "model_name": "HBoxModel",
      "state": {
       "children": [
        "IPY_MODEL_ffa4c25b4dbb4c18bfd1d769b2463a9d",
        "IPY_MODEL_45fd4d89452c4a8685ed528df010d21d"
       ],
       "layout": "IPY_MODEL_6210d9a4c539465c9aa1847af99b36a1"
      }
     },
     "8b3f124b74d34e099526cd43528360e9": {
      "model_module": "@jupyter-widgets/base",
      "model_module_version": "1.0.0",
      "model_name": "LayoutModel",
      "state": {
       "width": "20%"
      }
     },
     "8b862ece7bc7495f82a29350804b8020": {
      "model_module": "@jupyter-widgets/controls",
      "model_module_version": "1.0.0",
      "model_name": "LabelModel",
      "state": {
       "layout": "IPY_MODEL_8944426cfd89480ea8a12fb082514d20",
       "style": "IPY_MODEL_d954400a3f614d1ba761ff49e7b98d21",
       "value": "0 features are selected"
      }
     },
     "8bab61fee22144b38a35287103cd1df7": {
      "model_module": "@jupyter-widgets/controls",
      "model_module_version": "1.0.0",
      "model_name": "DescriptionStyleModel",
      "state": {
       "description_width": ""
      }
     },
     "8befc7c1c1fc4bfa949fdadb70e0ddad": {
      "model_module": "@jupyter-widgets/controls",
      "model_module_version": "1.0.0",
      "model_name": "TextModel",
      "state": {
       "description": "Sample ID",
       "layout": "IPY_MODEL_0eb099a48d0a46ed9d2c5c9068ee3cbf",
       "placeholder": "Sample ID",
       "style": "IPY_MODEL_192e851cd1444172b6eadc18aadea290",
       "value": "-"
      }
     },
     "8c33abe2cb1044fb83829803231f6851": {
      "model_module": "@jupyter-widgets/controls",
      "model_module_version": "1.0.0",
      "model_name": "DescriptionStyleModel",
      "state": {
       "description_width": ""
      }
     },
     "8c487dd769f54b7b94569691916fb0c7": {
      "model_module": "@jupyter-widgets/controls",
      "model_module_version": "1.0.0",
      "model_name": "FloatTextModel",
      "state": {
       "description": "Abundance",
       "layout": "IPY_MODEL_2ba689d5830d4d06b98eb1020bab37da",
       "step": null,
       "style": "IPY_MODEL_00c5cc0c541145ef889071188e37e46f",
       "value": 15.384615384615385
      }
     },
     "8ca32759f63a4ded87ead51f4350989a": {
      "model_module": "@jupyter-widgets/base",
      "model_module_version": "1.0.0",
      "model_name": "LayoutModel",
      "state": {}
     },
     "8cad085a937c41b7aa68f171f5520a78": {
      "model_module": "@jupyter-widgets/controls",
      "model_module_version": "1.0.0",
      "model_name": "HBoxModel",
      "state": {
       "children": [
        "IPY_MODEL_3635eb6bf5bd4eb2b3c511ad41937e04",
        "IPY_MODEL_a5f6c021b2de4ac4bf6a6a3de4256a7d"
       ],
       "layout": "IPY_MODEL_b1b45e1f60cf469d85fe72521ef86580"
      }
     },
     "8cc83df01337452c9bdab88f67a36a67": {
      "model_module": "@jupyter-widgets/controls",
      "model_module_version": "1.0.0",
      "model_name": "ButtonStyleModel",
      "state": {}
     },
     "8d9bfb06614d4f398a8be639adbdc256": {
      "model_module": "@jupyter-widgets/base",
      "model_module_version": "1.0.0",
      "model_name": "LayoutModel",
      "state": {}
     },
     "8e09963766f748d097e90ca66279ebf2": {
      "model_module": "@jupyter-widgets/base",
      "model_module_version": "1.0.0",
      "model_name": "LayoutModel",
      "state": {
       "width": "20%"
      }
     },
     "8e13c884d4644d7ebec461c4ec95c2e2": {
      "model_module": "@jupyter-widgets/base",
      "model_module_version": "1.0.0",
      "model_name": "LayoutModel",
      "state": {}
     },
     "8e93b3ed298c4843a791d725e579e86c": {
      "model_module": "@jupyter-widgets/controls",
      "model_module_version": "1.0.0",
      "model_name": "FloatTextModel",
      "state": {
       "description": "Abundance",
       "layout": "IPY_MODEL_0fe4437f03514de2a3929adfcab239a3",
       "step": null,
       "style": "IPY_MODEL_d7fd20b06fce4f118c17aa3b98bce218"
      }
     },
     "8e98071a10f64bbe973f661397fb9905": {
      "model_module": "@jupyter-widgets/controls",
      "model_module_version": "1.0.0",
      "model_name": "FloatTextModel",
      "state": {
       "description": "Abundance",
       "layout": "IPY_MODEL_d59215ebf4b145409800dd999aeb9210",
       "step": null,
       "style": "IPY_MODEL_aae2dd8ce3d14f45be984eed94dfe960"
      }
     },
     "8ec1123f964a4ad993760b0c3b4053d1": {
      "model_module": "@jupyter-widgets/controls",
      "model_module_version": "1.0.0",
      "model_name": "DescriptionStyleModel",
      "state": {
       "description_width": ""
      }
     },
     "8ec749af4c8c4e809b2e067ae8f64a5e": {
      "model_module": "@jupyter-widgets/base",
      "model_module_version": "1.0.0",
      "model_name": "LayoutModel",
      "state": {
       "width": "20%"
      }
     },
     "8ee67ac9a296407d9a2c1c679f39d567": {
      "model_module": "@jupyter-widgets/controls",
      "model_module_version": "1.0.0",
      "model_name": "DropdownModel",
      "state": {
       "_options_labels": [
        "ori.order",
        "group",
        "new.order",
        "categorical",
        "_calour_original_abundance"
       ],
       "index": 0,
       "layout": "IPY_MODEL_5985d0c15a8a4ea18e0b57652b09c2d9",
       "style": "IPY_MODEL_8371f4d10a5a434bb265dfab56b71ea4"
      }
     },
     "8ef1645848e3407f8ae324cc4e745687": {
      "model_module": "@jupyter-widgets/controls",
      "model_module_version": "1.0.0",
      "model_name": "HBoxModel",
      "state": {
       "children": [
        "IPY_MODEL_62bff018dc1e48e8b4a98d294bbbae29",
        "IPY_MODEL_2cd6a44f6b394ae08f319e2560c5ae91"
       ],
       "layout": "IPY_MODEL_884df1dfc42146a3a45898f5dcffccbb"
      }
     },
     "8f1b2c6ba9ec44f89f92c45d26c0b8d8": {
      "model_module": "@jupyter-widgets/controls",
      "model_module_version": "1.0.0",
      "model_name": "HBoxModel",
      "state": {
       "children": [
        "IPY_MODEL_e71c9cdd86744c64a7a7e795fac33ef0",
        "IPY_MODEL_76a765e017d74f1aa3c856312383cb42"
       ],
       "layout": "IPY_MODEL_b4650b6a8831470fb8f3256cfc10e622"
      }
     },
     "9031897ce4ab4d2284993dd49f075fc0": {
      "model_module": "@jupyter-widgets/base",
      "model_module_version": "1.0.0",
      "model_name": "LayoutModel",
      "state": {}
     },
     "9077200b3a754477aac92fd808181394": {
      "model_module": "@jupyter-widgets/controls",
      "model_module_version": "1.0.0",
      "model_name": "HBoxModel",
      "state": {
       "children": [
        "IPY_MODEL_de377be0844d4edabebef5220be7781a",
        "IPY_MODEL_e0e4deefe5014ed5b936c29fc160a252"
       ],
       "layout": "IPY_MODEL_7101cd7a90c945eb8d5bf6e1d160160c"
      }
     },
     "90938660446045f789e980da5024085c": {
      "model_module": "@jupyter-widgets/base",
      "model_module_version": "1.0.0",
      "model_name": "LayoutModel",
      "state": {
       "width": "100%"
      }
     },
     "90a5ada6dce940d18ca2b320df4c44b3": {
      "model_module": "@jupyter-widgets/controls",
      "model_module_version": "1.0.0",
      "model_name": "HBoxModel",
      "state": {
       "children": [
        "IPY_MODEL_034016157c1e4834a1874ad730db1d35",
        "IPY_MODEL_389e14a306a3404fa87ca08730449c9d",
        "IPY_MODEL_9d518ef1b3e2421ea49a010ceed75512"
       ],
       "layout": "IPY_MODEL_ceed02f0cb2d4fd981e1710d1c19a415"
      }
     },
     "90e1f51b6d304105a7032bf7f92896fc": {
      "model_module": "@jupyter-widgets/controls",
      "model_module_version": "1.0.0",
      "model_name": "LabelModel",
      "state": {
       "layout": "IPY_MODEL_552dc67caaba4b9c998110d2ef16fabe",
       "style": "IPY_MODEL_dafcf9781ae14313a9712f3f3ac763a3",
       "value": "0 features are selected"
      }
     },
     "914dc9b399cc4d9d8bc40c5f5c8f2001": {
      "model_module": "@jupyter-widgets/controls",
      "model_module_version": "1.0.0",
      "model_name": "DropdownModel",
      "state": {
       "_options_labels": [
        "oxygen",
        "ph",
        "level1",
        "level2",
        "new.order",
        "ori.order",
        "taxonomy"
       ],
       "index": 0,
       "layout": "IPY_MODEL_2979aa0ba7fa4d099eb2e734cbd2da55",
       "style": "IPY_MODEL_760310d170c24d5181467e9bd76c649c"
      }
     },
     "91814db0b8d64f12b71d3d70653e8801": {
      "model_module": "@jupyter-widgets/controls",
      "model_module_version": "1.0.0",
      "model_name": "DescriptionStyleModel",
      "state": {
       "description_width": ""
      }
     },
     "91a0346c66f14ccdb973c8a3265dd954": {
      "model_module": "@jupyter-widgets/base",
      "model_module_version": "1.0.0",
      "model_name": "LayoutModel",
      "state": {}
     },
     "91b0dd3318d0419c85d7c8e2f5f3e1e5": {
      "model_module": "@jupyter-widgets/controls",
      "model_module_version": "1.0.0",
      "model_name": "ButtonModel",
      "state": {
       "description": "print axes ranges",
       "layout": "IPY_MODEL_76dd7b23470844b99eb1d6f98485c541",
       "style": "IPY_MODEL_002cb088b10f4b4282410cee493af930",
       "tooltip": "Print the x axis and y axis ranges. Useful to pass to `rect` parameter of heatmap() to zoom in the region automatically."
      }
     },
     "91d34eaab44e4d849f70e949826ffee3": {
      "model_module": "@jupyter-widgets/base",
      "model_module_version": "1.0.0",
      "model_name": "LayoutModel",
      "state": {
       "width": "100%"
      }
     },
     "928d371f132f4db0bc065c7e360ab249": {
      "model_module": "@jupyter-widgets/base",
      "model_module_version": "1.0.0",
      "model_name": "LayoutModel",
      "state": {}
     },
     "92ecc96096da498bb9a57909e80edf53": {
      "model_module": "@jupyter-widgets/controls",
      "model_module_version": "1.0.0",
      "model_name": "TextModel",
      "state": {
       "layout": "IPY_MODEL_00e25675da1049568f10c1796c6c6c5a",
       "placeholder": "sample meta",
       "style": "IPY_MODEL_8bab61fee22144b38a35287103cd1df7",
       "value": "-"
      }
     },
     "92f3abcf76e74fe8b6455d490c72278c": {
      "model_module": "@jupyter-widgets/controls",
      "model_module_version": "1.0.0",
      "model_name": "HBoxModel",
      "state": {
       "children": [
        "IPY_MODEL_a2c45c3cba814c71aa78d01db5a88514",
        "IPY_MODEL_3f1a094381784559bff88f2e238299e3",
        "IPY_MODEL_ef744ca46c1740209f24bb72bbf7b4e3"
       ],
       "layout": "IPY_MODEL_74acd45c93c14d78bd5bb643e5ad49bb"
      }
     },
     "931584c76d5348c3a7627adefa8f6b1c": {
      "model_module": "@jupyter-widgets/controls",
      "model_module_version": "1.0.0",
      "model_name": "DescriptionStyleModel",
      "state": {
       "description_width": ""
      }
     },
     "932cc02db0f04f68aa6f3035a74859e5": {
      "model_module": "@jupyter-widgets/controls",
      "model_module_version": "1.0.0",
      "model_name": "DescriptionStyleModel",
      "state": {
       "description_width": ""
      }
     },
     "9354b50cf37742798cf9830a78845f29": {
      "model_module": "@jupyter-widgets/base",
      "model_module_version": "1.0.0",
      "model_name": "LayoutModel",
      "state": {
       "width": "80%"
      }
     },
     "935a2cdecc83454095c90340cc420520": {
      "model_module": "@jupyter-widgets/controls",
      "model_module_version": "1.0.0",
      "model_name": "FloatTextModel",
      "state": {
       "description": "Abundance",
       "layout": "IPY_MODEL_452f48ef744e4620a76c97266df33ac1",
       "step": null,
       "style": "IPY_MODEL_ea2d02d0b75a4ccab2edaa9d74a1b9ae"
      }
     },
     "93b3cf55930c4dd086479f3a5f922ade": {
      "model_module": "@jupyter-widgets/base",
      "model_module_version": "1.0.0",
      "model_name": "LayoutModel",
      "state": {
       "height": "100px",
       "overflow_y": "auto"
      }
     },
     "94343b458ad346609429d806bf90ad88": {
      "model_module": "@jupyter-widgets/controls",
      "model_module_version": "1.0.0",
      "model_name": "ButtonModel",
      "state": {
       "description": "Save",
       "layout": "IPY_MODEL_541d4fd136ab4073ab0990280e3ee208",
       "style": "IPY_MODEL_7580005c49474c62a7cc1db66ddc5626",
       "tooltip": "Save the selection(s)"
      }
     },
     "94d09775552249bc9f906d9407c1047d": {
      "model_module": "@jupyter-widgets/controls",
      "model_module_version": "1.0.0",
      "model_name": "ButtonStyleModel",
      "state": {}
     },
     "94f4358e5826460898af63aab3ece55e": {
      "model_module": "@jupyter-widgets/controls",
      "model_module_version": "1.0.0",
      "model_name": "HBoxModel",
      "state": {
       "children": [
        "IPY_MODEL_0c33c99a4c2c480e83fde9ed11c6ce8d",
        "IPY_MODEL_6a055f899a7b4635a8b466305124fc89",
        "IPY_MODEL_d7064ad2257e4ce0a66f4d4e77d87f4c"
       ],
       "layout": "IPY_MODEL_b30c1d2cf00d440ba7c63966907b7e4f"
      }
     },
     "9574655f903441b6994aef806e87bc92": {
      "model_module": "@jupyter-widgets/base",
      "model_module_version": "1.0.0",
      "model_name": "LayoutModel",
      "state": {}
     },
     "96051a033f5b41e8b1d6420dc4a56497": {
      "model_module": "@jupyter-widgets/base",
      "model_module_version": "1.0.0",
      "model_name": "LayoutModel",
      "state": {}
     },
     "960df2a4f6054b57a54b257213e7f63e": {
      "model_module": "@jupyter-widgets/controls",
      "model_module_version": "1.0.0",
      "model_name": "DescriptionStyleModel",
      "state": {
       "description_width": ""
      }
     },
     "96126401a62a46ada51531a573230569": {
      "model_module": "@jupyter-widgets/controls",
      "model_module_version": "1.0.0",
      "model_name": "DescriptionStyleModel",
      "state": {
       "description_width": ""
      }
     },
     "962fb1baec2b4b7caa211f6145c32f68": {
      "model_module": "@jupyter-widgets/controls",
      "model_module_version": "1.0.0",
      "model_name": "DropdownModel",
      "state": {
       "_options_labels": [
        "oxygen",
        "ph",
        "level1",
        "level2",
        "new.order",
        "ori.order",
        "taxonomy"
       ],
       "index": 0,
       "layout": "IPY_MODEL_5cd16490bf0a4375a50d5c297a5ca339",
       "style": "IPY_MODEL_b97b03781d7a40b1a523420afd38c73f"
      }
     },
     "96b797df1fbd4dafb286b8482fe1f434": {
      "model_module": "@jupyter-widgets/controls",
      "model_module_version": "1.0.0",
      "model_name": "LabelModel",
      "state": {
       "layout": "IPY_MODEL_e92f6c43518f4ce183b878b306c7fd5d",
       "style": "IPY_MODEL_01474d88c84e4f1b8cdb59872b22ba25",
       "value": "1 features are selected"
      }
     },
     "970d0c5960684f28a1079a2140812443": {
      "model_module": "@jupyter-widgets/base",
      "model_module_version": "1.0.0",
      "model_name": "LayoutModel",
      "state": {
       "width": "20%"
      }
     },
     "9738f70ce649453781dc00ba9615c623": {
      "model_module": "@jupyter-widgets/base",
      "model_module_version": "1.0.0",
      "model_name": "LayoutModel",
      "state": {}
     },
     "97b893952a074e74a8eff9c57837cf55": {
      "model_module": "@jupyter-widgets/controls",
      "model_module_version": "1.0.0",
      "model_name": "HBoxModel",
      "state": {
       "children": [
        "IPY_MODEL_707be9b38bd0444ebaa21b52053dffcc",
        "IPY_MODEL_5b9001b811bd49f38dd1e6f0e92643b4"
       ],
       "layout": "IPY_MODEL_ad45a826b3a74161bb44a5749d644fa8"
      }
     },
     "9802adaa4e154ffdb94436771cbfd92b": {
      "model_module": "@jupyter-widgets/controls",
      "model_module_version": "1.0.0",
      "model_name": "DropdownModel",
      "state": {
       "_options_labels": [
        "ori.order",
        "group",
        "new.order",
        "categorical",
        "_calour_original_abundance"
       ],
       "index": 0,
       "layout": "IPY_MODEL_59e976c095204998a963c6f4f945f91f",
       "style": "IPY_MODEL_48318f6ceacd41b3bcd639a430ea7386"
      }
     },
     "983de6053288462fb9b51281807210b1": {
      "model_module": "@jupyter-widgets/base",
      "model_module_version": "1.0.0",
      "model_name": "LayoutModel",
      "state": {}
     },
     "98889e3b9253435abc2a0d74609bda4c": {
      "model_module": "@jupyter-widgets/controls",
      "model_module_version": "1.0.0",
      "model_name": "HBoxModel",
      "state": {
       "children": [
        "IPY_MODEL_8ee67ac9a296407d9a2c1c679f39d567",
        "IPY_MODEL_bd10010d59764e0abcfc3fe07df46ee9"
       ],
       "layout": "IPY_MODEL_eef1b0e464e34f7f962a9b1c73d43754"
      }
     },
     "99214093a1354cc893fa705705f32128": {
      "model_module": "@jupyter-widgets/controls",
      "model_module_version": "1.0.0",
      "model_name": "DescriptionStyleModel",
      "state": {
       "description_width": ""
      }
     },
     "994b82b2cc834d9da39e026f937dafec": {
      "model_module": "@jupyter-widgets/controls",
      "model_module_version": "1.0.0",
      "model_name": "DescriptionStyleModel",
      "state": {
       "description_width": ""
      }
     },
     "9a0b3f943c234e00a1a9b561b6501020": {
      "model_module": "@jupyter-widgets/base",
      "model_module_version": "1.0.0",
      "model_name": "LayoutModel",
      "state": {}
     },
     "9a1563c5454f45ae934861bf403039ac": {
      "model_module": "@jupyter-widgets/controls",
      "model_module_version": "1.0.0",
      "model_name": "DropdownModel",
      "state": {
       "_options_labels": [
        "ori.order",
        "group",
        "new.order",
        "categorical",
        "_calour_original_abundance"
       ],
       "index": 0,
       "layout": "IPY_MODEL_695a36c3c1d84196907185f8d97b0d82",
       "style": "IPY_MODEL_741fd99505aa4bbfa4abde0dd33a0418"
      }
     },
     "9abb0308de48404d9d6bac5ae218fef2": {
      "model_module": "@jupyter-widgets/controls",
      "model_module_version": "1.0.0",
      "model_name": "LabelModel",
      "state": {
       "layout": "IPY_MODEL_59b2ad4d5528452b801e558233191f54",
       "style": "IPY_MODEL_9be8cc2a16dc4adbbb6ba33159e50119",
       "value": "0 features are selected"
      }
     },
     "9b89b5da51b44dc2b3c38106fa8c9484": {
      "model_module": "@jupyter-widgets/controls",
      "model_module_version": "1.0.0",
      "model_name": "HBoxModel",
      "state": {
       "children": [
        "IPY_MODEL_4a71d6cbea354d23834a2c450a205076",
        "IPY_MODEL_4cc227f13fbd45b7bc5323599c31540b",
        "IPY_MODEL_6a01b0a150d54bdf990c99b26ebbb8b4"
       ],
       "layout": "IPY_MODEL_9c6bd10db3ee44d5bdc59198688e21b7"
      }
     },
     "9be8cc2a16dc4adbbb6ba33159e50119": {
      "model_module": "@jupyter-widgets/controls",
      "model_module_version": "1.0.0",
      "model_name": "DescriptionStyleModel",
      "state": {
       "description_width": ""
      }
     },
     "9c6bd10db3ee44d5bdc59198688e21b7": {
      "model_module": "@jupyter-widgets/base",
      "model_module_version": "1.0.0",
      "model_name": "LayoutModel",
      "state": {}
     },
     "9ca03c1d41354c71be81a71d333417ee": {
      "model_module": "@jupyter-widgets/controls",
      "model_module_version": "1.0.0",
      "model_name": "DescriptionStyleModel",
      "state": {
       "description_width": ""
      }
     },
     "9cec1e91b91e418dbf8596e2c7e9c839": {
      "model_module": "@jupyter-widgets/base",
      "model_module_version": "1.0.0",
      "model_name": "LayoutModel",
      "state": {}
     },
     "9d1881feb0e84fffbecd19f344db35cd": {
      "model_module": "@jupyter-widgets/controls",
      "model_module_version": "1.0.0",
      "model_name": "TextModel",
      "state": {
       "layout": "IPY_MODEL_ded221a894904090a0d64b0ccae8a4e9",
       "placeholder": "feature meta",
       "style": "IPY_MODEL_c8bc8ee6e8b347a2899afc429d68cf90",
       "value": "-"
      }
     },
     "9d518ef1b3e2421ea49a010ceed75512": {
      "model_module": "@jupyter-widgets/controls",
      "model_module_version": "1.0.0",
      "model_name": "FloatTextModel",
      "state": {
       "description": "Abundance",
       "layout": "IPY_MODEL_019046940176475d87de54db26107ee7",
       "step": null,
       "style": "IPY_MODEL_01e623669876475d81e26a4e11870874",
       "value": 11.76470588235294
      }
     },
     "9d96b4c7dbf249aa9e759a336fffe6d5": {
      "model_module": "@jupyter-widgets/base",
      "model_module_version": "1.0.0",
      "model_name": "LayoutModel",
      "state": {}
     },
     "9e0e8123e265482c84d6942cc9ab754c": {
      "model_module": "@jupyter-widgets/controls",
      "model_module_version": "1.0.0",
      "model_name": "DescriptionStyleModel",
      "state": {
       "description_width": ""
      }
     },
     "9e199d24e61c405b8edb8936de74b20d": {
      "model_module": "@jupyter-widgets/base",
      "model_module_version": "1.0.0",
      "model_name": "LayoutModel",
      "state": {}
     },
     "9eb4726ed113454fbe79704dae83a7d7": {
      "model_module": "@jupyter-widgets/controls",
      "model_module_version": "1.0.0",
      "model_name": "ButtonStyleModel",
      "state": {}
     },
     "9efe0892a42b4c7eaec597f1b9a330a1": {
      "model_module": "@jupyter-widgets/controls",
      "model_module_version": "1.0.0",
      "model_name": "DescriptionStyleModel",
      "state": {
       "description_width": ""
      }
     },
     "9f38024313b54c139cecfbdf6d85b722": {
      "model_module": "@jupyter-widgets/base",
      "model_module_version": "1.0.0",
      "model_name": "LayoutModel",
      "state": {
       "width": "80%"
      }
     },
     "9f820ac307b94e6f8c537a5501a0236a": {
      "model_module": "@jupyter-widgets/controls",
      "model_module_version": "1.0.0",
      "model_name": "DropdownModel",
      "state": {
       "_options_labels": [
        "oxygen",
        "ph",
        "level1",
        "level2",
        "new.order",
        "ori.order",
        "taxonomy"
       ],
       "index": 0,
       "layout": "IPY_MODEL_32ed7ce94fa4446685d4c9fd31f767a9",
       "style": "IPY_MODEL_bf3c8254d1b044f4b60a69e8e211ad34"
      }
     },
     "9fc9fd4654ea449cb3b8f29da806f632": {
      "model_module": "@jupyter-widgets/controls",
      "model_module_version": "1.0.0",
      "model_name": "DescriptionStyleModel",
      "state": {
       "description_width": ""
      }
     },
     "9fd18553292c463cbbbeb64a01514014": {
      "model_module": "@jupyter-widgets/controls",
      "model_module_version": "1.0.0",
      "model_name": "HTMLModel",
      "state": {
       "layout": "IPY_MODEL_fb0d20d518b54a85950da404e23b9bf1",
       "style": "IPY_MODEL_d313571b489e47faaaab501e167abe62",
       "value": "<style> a:link {color:black; background-color:transparent; text-decoration:none}a:visited {color:black; background-color:transparent; text-decoration:none}</style><p style=\"color:black;white-space:nowrap;\"><a href=\"http://dbbact.org/annotation_info/NA\"   target=\"_blank\">No annotation found in database dbBact</a></p>"
      }
     },
     "9fe0e4c85aaa4eaab7efd74c3256fba2": {
      "model_module": "@jupyter-widgets/controls",
      "model_module_version": "1.0.0",
      "model_name": "LabelModel",
      "state": {
       "layout": "IPY_MODEL_bf830b8f53b04c579b435a2f86c42dfa",
       "style": "IPY_MODEL_ad686106732e4eccb4a7fdc48cbbe17a",
       "value": "0 features are selected"
      }
     },
     "a00aed31ff3140e98deefa3bd6a0e180": {
      "model_module": "@jupyter-widgets/controls",
      "model_module_version": "1.0.0",
      "model_name": "TextModel",
      "state": {
       "layout": "IPY_MODEL_e9ee8ed6b979409e904c883d3fad034b",
       "placeholder": "sample meta",
       "style": "IPY_MODEL_264c71cb5c2f448fbc2b032fcae8e7e8",
       "value": "3"
      }
     },
     "a05ae91718b24496b01645ab6a7855f3": {
      "model_module": "@jupyter-widgets/controls",
      "model_module_version": "1.0.0",
      "model_name": "ButtonStyleModel",
      "state": {}
     },
     "a077060fd24548a6a6332e1b6a13c720": {
      "model_module": "@jupyter-widgets/controls",
      "model_module_version": "1.0.0",
      "model_name": "DropdownModel",
      "state": {
       "_options_labels": [
        "ori.order",
        "group",
        "new.order",
        "categorical",
        "_calour_original_abundance"
       ],
       "index": 0,
       "layout": "IPY_MODEL_c1e6ed53474d42cf89091266d7f31d68",
       "style": "IPY_MODEL_5b6a5dd495b4481090dd164544af4155"
      }
     },
     "a09704fd86b54b469126d635682343ae": {
      "model_module": "@jupyter-widgets/controls",
      "model_module_version": "1.0.0",
      "model_name": "TextModel",
      "state": {
       "description": "Feature ID",
       "layout": "IPY_MODEL_105dc9bc4cdf424f9691cc233cdf519e",
       "placeholder": "Feature ID",
       "style": "IPY_MODEL_d3d981a1c06f4eee976f65d1dae9e210",
       "value": "-"
      }
     },
     "a0aff6b3fa7b4cfbb5d12bead2b64cc9": {
      "model_module": "@jupyter-widgets/controls",
      "model_module_version": "1.0.0",
      "model_name": "TextModel",
      "state": {
       "layout": "IPY_MODEL_11c27a0ecdac4d5db4e19f8a166c576b",
       "placeholder": "feature meta",
       "style": "IPY_MODEL_f62fdecc01eb49fcb29a099cf8dc13e2",
       "value": "aerobic"
      }
     },
     "a0cb132f7340491781db63390944a956": {
      "model_module": "@jupyter-widgets/controls",
      "model_module_version": "1.0.0",
      "model_name": "DescriptionStyleModel",
      "state": {
       "description_width": ""
      }
     },
     "a17decffdb3c42ef9458fe2a83b3720b": {
      "model_module": "@jupyter-widgets/base",
      "model_module_version": "1.0.0",
      "model_name": "LayoutModel",
      "state": {}
     },
     "a264106d08ab4e3182f0eb151d3a5a3b": {
      "model_module": "@jupyter-widgets/base",
      "model_module_version": "1.0.0",
      "model_name": "LayoutModel",
      "state": {
       "width": "80%"
      }
     },
     "a27ef6f8258a4627a196f6c7e3d9208e": {
      "model_module": "@jupyter-widgets/controls",
      "model_module_version": "1.0.0",
      "model_name": "DescriptionStyleModel",
      "state": {
       "description_width": ""
      }
     },
     "a28394d75da84729a1d5332f2ac091b5": {
      "model_module": "@jupyter-widgets/controls",
      "model_module_version": "1.0.0",
      "model_name": "ButtonModel",
      "state": {
       "description": "print axes ranges",
       "layout": "IPY_MODEL_758070c99c514370887433836531b003",
       "style": "IPY_MODEL_5adfe85ddb7c499bb2d096394ab57d6f",
       "tooltip": "Print the x axis and y axis ranges. Useful to pass to `rect` parameter of heatmap() to zoom in the region automatically."
      }
     },
     "a2906b1c4804455d87289cc1a55c2646": {
      "model_module": "@jupyter-widgets/base",
      "model_module_version": "1.0.0",
      "model_name": "LayoutModel",
      "state": {}
     },
     "a2a329ec00034b4cb3a19e1f2b5f437a": {
      "model_module": "@jupyter-widgets/controls",
      "model_module_version": "1.0.0",
      "model_name": "HBoxModel",
      "state": {
       "children": [
        "IPY_MODEL_130c532f5617441694bdc4dd1970a9fb",
        "IPY_MODEL_e5fde036ecc54c3ab9b454f664f228cf"
       ],
       "layout": "IPY_MODEL_2306aee16b2e498fb8752c9345c366fd"
      }
     },
     "a2c45c3cba814c71aa78d01db5a88514": {
      "model_module": "@jupyter-widgets/controls",
      "model_module_version": "1.0.0",
      "model_name": "TextModel",
      "state": {
       "description": "Sample ID",
       "layout": "IPY_MODEL_26b0a8291b8a43779ec1ea5975dce562",
       "placeholder": "Sample ID",
       "style": "IPY_MODEL_bd071abae5a94ceda7e8e67632b456b4",
       "value": "S4"
      }
     },
     "a2eba17947374cde99087fc645fe0922": {
      "model_module": "@jupyter-widgets/base",
      "model_module_version": "1.0.0",
      "model_name": "LayoutModel",
      "state": {}
     },
     "a311150e5f0f4e648eb8602800718030": {
      "model_module": "@jupyter-widgets/base",
      "model_module_version": "1.0.0",
      "model_name": "LayoutModel",
      "state": {
       "width": "20%"
      }
     },
     "a3ab973b0c1743e68ef7ae085276b3c4": {
      "model_module": "@jupyter-widgets/controls",
      "model_module_version": "1.0.0",
      "model_name": "HBoxModel",
      "state": {
       "children": [
        "IPY_MODEL_962fb1baec2b4b7caa211f6145c32f68",
        "IPY_MODEL_a0aff6b3fa7b4cfbb5d12bead2b64cc9"
       ],
       "layout": "IPY_MODEL_c37ce0442b534130afb115992d268ec0"
      }
     },
     "a3acabb2369f49b5aa77b77acd4192f4": {
      "model_module": "@jupyter-widgets/controls",
      "model_module_version": "1.0.0",
      "model_name": "ButtonModel",
      "state": {
       "description": "print axes ranges",
       "layout": "IPY_MODEL_b27e428d37ac4a12aaa2f313b7dadea3",
       "style": "IPY_MODEL_a9ed3ea44ca2428fbae791f213cc1249",
       "tooltip": "Print the x axis and y axis ranges. Useful to pass to `rect` parameter of heatmap() to zoom in the region automatically."
      }
     },
     "a459556696f2415e880f07f71cf589ed": {
      "model_module": "@jupyter-widgets/base",
      "model_module_version": "1.0.0",
      "model_name": "LayoutModel",
      "state": {}
     },
     "a4e2633eab3349ea89670415a2b9a143": {
      "model_module": "@jupyter-widgets/controls",
      "model_module_version": "1.0.0",
      "model_name": "TextModel",
      "state": {
       "description": "Sample ID",
       "layout": "IPY_MODEL_6a78243a8abb4458b19ae1a0500dab91",
       "placeholder": "Sample ID",
       "style": "IPY_MODEL_5ee67d1601fc4ec39f0ea109ddc67685",
       "value": "-"
      }
     },
     "a5f6c021b2de4ac4bf6a6a3de4256a7d": {
      "model_module": "@jupyter-widgets/controls",
      "model_module_version": "1.0.0",
      "model_name": "TextModel",
      "state": {
       "layout": "IPY_MODEL_a7a57b631d974eddb52bc1006fd12984",
       "placeholder": "feature meta",
       "style": "IPY_MODEL_c1f15a885d774711a675c6aa3226751c",
       "value": "aerobic"
      }
     },
     "a6fda4faa1434abdb3574b8b173ab8ef": {
      "model_module": "@jupyter-widgets/controls",
      "model_module_version": "1.0.0",
      "model_name": "DescriptionStyleModel",
      "state": {
       "description_width": ""
      }
     },
     "a708261462d840178f28f54b4dad290e": {
      "model_module": "@jupyter-widgets/controls",
      "model_module_version": "1.0.0",
      "model_name": "ButtonStyleModel",
      "state": {}
     },
     "a70ec2eed2ce499fb49762cec213ea79": {
      "model_module": "@jupyter-widgets/controls",
      "model_module_version": "1.0.0",
      "model_name": "ButtonStyleModel",
      "state": {}
     },
     "a72ab8ff79394bafbc7334b1436629e6": {
      "model_module": "@jupyter-widgets/base",
      "model_module_version": "1.0.0",
      "model_name": "LayoutModel",
      "state": {}
     },
     "a72bce7ab7f24dfda5d25eefa936bec7": {
      "model_module": "@jupyter-widgets/controls",
      "model_module_version": "1.0.0",
      "model_name": "TextModel",
      "state": {
       "layout": "IPY_MODEL_de0d8b69b9db475ba5f7778b1702db02",
       "placeholder": "sample meta",
       "style": "IPY_MODEL_6b2dff180bc84f5a80b4dd9dd0551483",
       "value": "3"
      }
     },
     "a7a57b631d974eddb52bc1006fd12984": {
      "model_module": "@jupyter-widgets/base",
      "model_module_version": "1.0.0",
      "model_name": "LayoutModel",
      "state": {
       "width": "80%"
      }
     },
     "a7c366c932e24995b79e42c529bac028": {
      "model_module": "@jupyter-widgets/controls",
      "model_module_version": "1.0.0",
      "model_name": "HBoxModel",
      "state": {
       "children": [
        "IPY_MODEL_29e59b1f20dc408bb2d2fff975a9b41b",
        "IPY_MODEL_e188e29063d245d5b865ccd346ff8efa"
       ],
       "layout": "IPY_MODEL_5eb423e1e9a04a7c8b36f334111e4bb6"
      }
     },
     "a84f80290333459a9a557f6142ef17e1": {
      "model_module": "@jupyter-widgets/controls",
      "model_module_version": "1.0.0",
      "model_name": "DescriptionStyleModel",
      "state": {
       "description_width": ""
      }
     },
     "a86a2ba6593f496c88338dc932280f35": {
      "model_module": "@jupyter-widgets/controls",
      "model_module_version": "1.0.0",
      "model_name": "HBoxModel",
      "state": {
       "children": [
        "IPY_MODEL_ac5e67eb367b452c906a7f6c4093cc64",
        "IPY_MODEL_6fb85714ca1549ed97dd6356997d984a"
       ],
       "layout": "IPY_MODEL_b5ce8d98735147458c9b1bad49e8fc00"
      }
     },
     "a8742efbdb9d4e50b56783b97e50a5be": {
      "model_module": "@jupyter-widgets/controls",
      "model_module_version": "1.0.0",
      "model_name": "DropdownModel",
      "state": {
       "_options_labels": [
        "oxygen",
        "ph",
        "level1",
        "level2",
        "new.order",
        "ori.order",
        "taxonomy"
       ],
       "index": 0,
       "layout": "IPY_MODEL_6a71069cbb2c43438b8568cd956163c5",
       "style": "IPY_MODEL_6a5ff6f45dbc46978f342ad4d6166c1a"
      }
     },
     "a87c80be889f46c6944dad1a8600d926": {
      "model_module": "@jupyter-widgets/controls",
      "model_module_version": "1.0.0",
      "model_name": "TextModel",
      "state": {
       "layout": "IPY_MODEL_bf3e56626f2f48e2b9eba29a2dbe8019",
       "placeholder": "sample meta",
       "style": "IPY_MODEL_f5a0540017034c4d907b6de51e08173a",
       "value": "-"
      }
     },
     "a90a70232dbc40e498e9530981c3096b": {
      "model_module": "@jupyter-widgets/base",
      "model_module_version": "1.0.0",
      "model_name": "LayoutModel",
      "state": {}
     },
     "a93ef3365c3d4bef9155fc296849f5f8": {
      "model_module": "@jupyter-widgets/base",
      "model_module_version": "1.0.0",
      "model_name": "LayoutModel",
      "state": {}
     },
     "a947787b553a485fab496b15d7e0bb9a": {
      "model_module": "@jupyter-widgets/base",
      "model_module_version": "1.0.0",
      "model_name": "LayoutModel",
      "state": {}
     },
     "a9801bfd8b2e4dc980457c0b9cb11527": {
      "model_module": "@jupyter-widgets/controls",
      "model_module_version": "1.0.0",
      "model_name": "LabelModel",
      "state": {
       "layout": "IPY_MODEL_85a411cb20fe45d59527aa71c44511dd",
       "style": "IPY_MODEL_d3e470dc3e9242f3926abe4394425f39",
       "value": "1 features are selected"
      }
     },
     "a98dab2261f4407fb148957ab4044bf2": {
      "model_module": "@jupyter-widgets/base",
      "model_module_version": "1.0.0",
      "model_name": "LayoutModel",
      "state": {}
     },
     "a9aef8431bda4f65aebdffab7bdeda0b": {
      "model_module": "@jupyter-widgets/controls",
      "model_module_version": "1.0.0",
      "model_name": "ButtonModel",
      "state": {
       "description": "print axes ranges",
       "layout": "IPY_MODEL_cd591a975e034460be5bc9cd73df96d2",
       "style": "IPY_MODEL_cd5fad4fcf6b4df2957a9e064c607938",
       "tooltip": "Print the x axis and y axis ranges. Useful to pass to `rect` parameter of heatmap() to zoom in the region automatically."
      }
     },
     "a9c583a886f84b2d820e9e97a0def3fe": {
      "model_module": "@jupyter-widgets/base",
      "model_module_version": "1.0.0",
      "model_name": "LayoutModel",
      "state": {}
     },
     "a9c7d5950d9143d687f78a5747709eb2": {
      "model_module": "@jupyter-widgets/controls",
      "model_module_version": "1.0.0",
      "model_name": "TextModel",
      "state": {
       "layout": "IPY_MODEL_9f38024313b54c139cecfbdf6d85b722",
       "placeholder": "feature meta",
       "style": "IPY_MODEL_4ad914973dc449108fc75e33fec426bb",
       "value": "anaerobic"
      }
     },
     "a9ed3ea44ca2428fbae791f213cc1249": {
      "model_module": "@jupyter-widgets/controls",
      "model_module_version": "1.0.0",
      "model_name": "ButtonStyleModel",
      "state": {}
     },
     "aad6602769a74e419b6b9b499533d582": {
      "model_module": "@jupyter-widgets/base",
      "model_module_version": "1.0.0",
      "model_name": "LayoutModel",
      "state": {}
     },
     "aae2dd8ce3d14f45be984eed94dfe960": {
      "model_module": "@jupyter-widgets/controls",
      "model_module_version": "1.0.0",
      "model_name": "DescriptionStyleModel",
      "state": {
       "description_width": ""
      }
     },
     "aaf1e2a904274269925ae15bde5ebf6b": {
      "model_module": "@jupyter-widgets/base",
      "model_module_version": "1.0.0",
      "model_name": "LayoutModel",
      "state": {
       "width": "80%"
      }
     },
     "aaf54215325e43f7a2ea12afd1d96dc4": {
      "model_module": "@jupyter-widgets/controls",
      "model_module_version": "1.0.0",
      "model_name": "HBoxModel",
      "state": {
       "children": [
        "IPY_MODEL_cefb9977328047de986c3d7416c1a229",
        "IPY_MODEL_b3a2a0cf9dac424ca11c4d102069836e",
        "IPY_MODEL_46fd1a9ea25a4c888e0f728591bcbb77"
       ],
       "layout": "IPY_MODEL_9574655f903441b6994aef806e87bc92"
      }
     },
     "ab73c7b03b004f3cb46543ebe09ed2fa": {
      "model_module": "@jupyter-widgets/controls",
      "model_module_version": "1.0.0",
      "model_name": "HBoxModel",
      "state": {
       "children": [
        "IPY_MODEL_e01d8976dd3e4188a5515717959c760a",
        "IPY_MODEL_115957e8b71740928560b256a2c45df3",
        "IPY_MODEL_6b05c4a3ae9148dcb7dff94e4d3548ac"
       ],
       "layout": "IPY_MODEL_a72ab8ff79394bafbc7334b1436629e6"
      }
     },
     "aba8b415a4a24b819e90e3c9fe6536dc": {
      "model_module": "@jupyter-widgets/controls",
      "model_module_version": "1.0.0",
      "model_name": "ButtonStyleModel",
      "state": {}
     },
     "abbeddd2294244e19731984ab5425bb9": {
      "model_module": "@jupyter-widgets/controls",
      "model_module_version": "1.0.0",
      "model_name": "HBoxModel",
      "state": {
       "children": [
        "IPY_MODEL_a8742efbdb9d4e50b56783b97e50a5be",
        "IPY_MODEL_8af73284f30b40409de43e02b8769aea"
       ],
       "layout": "IPY_MODEL_2eb8e2db28e04011a26a20c32b732cd5"
      }
     },
     "abd82e35aa0e47389ee1baedc79346a1": {
      "model_module": "@jupyter-widgets/controls",
      "model_module_version": "1.0.0",
      "model_name": "ButtonStyleModel",
      "state": {}
     },
     "abe3ea449b7341bb8514ac5575384e14": {
      "model_module": "@jupyter-widgets/base",
      "model_module_version": "1.0.0",
      "model_name": "LayoutModel",
      "state": {
       "width": "20%"
      }
     },
     "ac1146579d5f4db58af5e2c31d39cd51": {
      "model_module": "@jupyter-widgets/controls",
      "model_module_version": "1.0.0",
      "model_name": "DescriptionStyleModel",
      "state": {
       "description_width": ""
      }
     },
     "ac1acc7776a74ca495e616d6cefbc36c": {
      "model_module": "@jupyter-widgets/controls",
      "model_module_version": "1.0.0",
      "model_name": "DescriptionStyleModel",
      "state": {
       "description_width": ""
      }
     },
     "ac5e67eb367b452c906a7f6c4093cc64": {
      "model_module": "@jupyter-widgets/controls",
      "model_module_version": "1.0.0",
      "model_name": "DropdownModel",
      "state": {
       "_options_labels": [
        "ori.order",
        "group",
        "new.order",
        "categorical",
        "_calour_original_abundance"
       ],
       "index": 0,
       "layout": "IPY_MODEL_ef2fb6bdf77242dca72164d2ab57a968",
       "style": "IPY_MODEL_4b5072a20aa94e65bd92770a67611ca5"
      }
     },
     "acc504f859be4cf099bea5c25253750b": {
      "model_module": "@jupyter-widgets/controls",
      "model_module_version": "1.0.0",
      "model_name": "DescriptionStyleModel",
      "state": {
       "description_width": ""
      }
     },
     "acd000fbeb2e4b6c9e5e67b954e23bd8": {
      "model_module": "@jupyter-widgets/controls",
      "model_module_version": "1.0.0",
      "model_name": "DescriptionStyleModel",
      "state": {
       "description_width": ""
      }
     },
     "ad45a826b3a74161bb44a5749d644fa8": {
      "model_module": "@jupyter-widgets/base",
      "model_module_version": "1.0.0",
      "model_name": "LayoutModel",
      "state": {}
     },
     "ad686106732e4eccb4a7fdc48cbbe17a": {
      "model_module": "@jupyter-widgets/controls",
      "model_module_version": "1.0.0",
      "model_name": "DescriptionStyleModel",
      "state": {
       "description_width": ""
      }
     },
     "ad8779c79b054fe19ab0454d8ee5a89e": {
      "model_module": "@jupyter-widgets/base",
      "model_module_version": "1.0.0",
      "model_name": "LayoutModel",
      "state": {
       "height": "100px",
       "overflow_y": "auto"
      }
     },
     "ad97ea7fc7b24c0a80691226e12610ae": {
      "model_module": "@jupyter-widgets/base",
      "model_module_version": "1.0.0",
      "model_name": "LayoutModel",
      "state": {
       "height": "100px",
       "overflow_y": "auto"
      }
     },
     "ade922e74dca451c9513706e02715cef": {
      "model_module": "@jupyter-widgets/base",
      "model_module_version": "1.0.0",
      "model_name": "LayoutModel",
      "state": {
       "width": "80%"
      }
     },
     "aef9e9a7968a4e7dbd1cdc357d2c3a08": {
      "model_module": "@jupyter-widgets/controls",
      "model_module_version": "1.0.0",
      "model_name": "HBoxModel",
      "state": {
       "children": [
        "IPY_MODEL_631f4a2616524b21ad7ab65309aa7843",
        "IPY_MODEL_a09704fd86b54b469126d635682343ae",
        "IPY_MODEL_73e180d5a3764940b477890507ce376e"
       ],
       "layout": "IPY_MODEL_8e13c884d4644d7ebec461c4ec95c2e2"
      }
     },
     "af29d69b379547a5aafbfab7026cd73c": {
      "model_module": "@jupyter-widgets/controls",
      "model_module_version": "1.0.0",
      "model_name": "DescriptionStyleModel",
      "state": {
       "description_width": ""
      }
     },
     "af2e94daef064648bac8a9d6c8318db5": {
      "model_module": "@jupyter-widgets/base",
      "model_module_version": "1.0.0",
      "model_name": "LayoutModel",
      "state": {}
     },
     "af2f432925244da9a661f4cac35f99eb": {
      "model_module": "@jupyter-widgets/controls",
      "model_module_version": "1.0.0",
      "model_name": "ButtonModel",
      "state": {
       "description": "Save",
       "layout": "IPY_MODEL_0d1ac708b20d42ec89747468e9d2867c",
       "style": "IPY_MODEL_10663756ad8e44caaceb81c6a59f9b3f",
       "tooltip": "Save the selection(s)"
      }
     },
     "af64768fd9aa4166ace42e7d5d08e613": {
      "model_module": "@jupyter-widgets/controls",
      "model_module_version": "1.0.0",
      "model_name": "ButtonModel",
      "state": {
       "description": "Save",
       "layout": "IPY_MODEL_f24fa96118a844a0859a8b7f7ad5a60e",
       "style": "IPY_MODEL_f16ea498af894761acde79303d5fdba3",
       "tooltip": "Save the selection(s)"
      }
     },
     "af8fdc59253e49b9b9d99462cfdf1ac2": {
      "model_module": "@jupyter-widgets/controls",
      "model_module_version": "1.0.0",
      "model_name": "DescriptionStyleModel",
      "state": {
       "description_width": ""
      }
     },
     "afa3ee4bf4774e12916fba17cccb8198": {
      "model_module": "@jupyter-widgets/base",
      "model_module_version": "1.0.0",
      "model_name": "LayoutModel",
      "state": {
       "width": "20%"
      }
     },
     "b0110399b90b41f8b940b9d3c8f692f8": {
      "model_module": "@jupyter-widgets/controls",
      "model_module_version": "1.0.0",
      "model_name": "DescriptionStyleModel",
      "state": {
       "description_width": ""
      }
     },
     "b03f2152149e4ef7a4fdf0ae880db8ac": {
      "model_module": "@jupyter-widgets/controls",
      "model_module_version": "1.0.0",
      "model_name": "TextModel",
      "state": {
       "description": "Sample ID",
       "layout": "IPY_MODEL_f941e7f103b34e8a97ae60e01fe0cf36",
       "placeholder": "Sample ID",
       "style": "IPY_MODEL_553c234d77df43fead1a948455e8c20d",
       "value": "S6"
      }
     },
     "b042f579debc413282d91e47a7518627": {
      "model_module": "@jupyter-widgets/controls",
      "model_module_version": "1.0.0",
      "model_name": "HBoxModel",
      "state": {
       "children": [
        "IPY_MODEL_864b62d99b484d6b8195378686862840",
        "IPY_MODEL_a87c80be889f46c6944dad1a8600d926"
       ],
       "layout": "IPY_MODEL_d2d5b4728df142e89336ceb31db7951c"
      }
     },
     "b0e307aac6814695ba82888ebb610e47": {
      "model_module": "@jupyter-widgets/base",
      "model_module_version": "1.0.0",
      "model_name": "LayoutModel",
      "state": {
       "width": "20%"
      }
     },
     "b0f5a06a4ab44a1d948613014cadb06e": {
      "model_module": "@jupyter-widgets/controls",
      "model_module_version": "1.0.0",
      "model_name": "HBoxModel",
      "state": {
       "children": [
        "IPY_MODEL_270b6d3846df4858be126fb7414162e0",
        "IPY_MODEL_92ecc96096da498bb9a57909e80edf53"
       ],
       "layout": "IPY_MODEL_7a2095c306f64afc96a142734d9c5800"
      }
     },
     "b1865a55f3cc4806936ca9846d26dfdc": {
      "model_module": "@jupyter-widgets/controls",
      "model_module_version": "1.0.0",
      "model_name": "ButtonStyleModel",
      "state": {}
     },
     "b18c660ed276410285cf6d39ec4f64e9": {
      "model_module": "@jupyter-widgets/controls",
      "model_module_version": "1.0.0",
      "model_name": "HBoxModel",
      "state": {
       "children": [
        "IPY_MODEL_05bbad225e6e4edca15e9f8899271290",
        "IPY_MODEL_7b02f671f963406ea6b3c07d1b9e9c68"
       ],
       "layout": "IPY_MODEL_f069355a505548daab227402416d8735"
      }
     },
     "b1b45e1f60cf469d85fe72521ef86580": {
      "model_module": "@jupyter-widgets/base",
      "model_module_version": "1.0.0",
      "model_name": "LayoutModel",
      "state": {}
     },
     "b2260c5f7499484593b93b93b818fd94": {
      "model_module": "@jupyter-widgets/controls",
      "model_module_version": "1.0.0",
      "model_name": "HTMLModel",
      "state": {
       "layout": "IPY_MODEL_ad97ea7fc7b24c0a80691226e12610ae",
       "style": "IPY_MODEL_3e9d3806dcc145989927b1e74fb92344",
       "value": "no annotation found"
      }
     },
     "b27e428d37ac4a12aaa2f313b7dadea3": {
      "model_module": "@jupyter-widgets/base",
      "model_module_version": "1.0.0",
      "model_name": "LayoutModel",
      "state": {}
     },
     "b2dbcb5139814badb829f3b8bbc8ba35": {
      "model_module": "@jupyter-widgets/controls",
      "model_module_version": "1.0.0",
      "model_name": "ButtonModel",
      "state": {
       "description": "Save",
       "layout": "IPY_MODEL_570501f228ae4e62a67061949e28c699",
       "style": "IPY_MODEL_637553ca7a0d43fda705706126e7eced",
       "tooltip": "Save the selection(s)"
      }
     },
     "b30c1d2cf00d440ba7c63966907b7e4f": {
      "model_module": "@jupyter-widgets/base",
      "model_module_version": "1.0.0",
      "model_name": "LayoutModel",
      "state": {}
     },
     "b3414ba788f84cdbb2eabbbdf4e6c98f": {
      "model_module": "@jupyter-widgets/base",
      "model_module_version": "1.0.0",
      "model_name": "LayoutModel",
      "state": {}
     },
     "b3a2a0cf9dac424ca11c4d102069836e": {
      "model_module": "@jupyter-widgets/controls",
      "model_module_version": "1.0.0",
      "model_name": "TextModel",
      "state": {
       "description": "Feature ID",
       "layout": "IPY_MODEL_b9e20f433739466d836038e789e66f1a",
       "placeholder": "Feature ID",
       "style": "IPY_MODEL_53517737dea14c08b4225ce03480407e",
       "value": "-"
      }
     },
     "b3bff8aac6484568ba2be1ecb46d5a48": {
      "model_module": "@jupyter-widgets/controls",
      "model_module_version": "1.0.0",
      "model_name": "DescriptionStyleModel",
      "state": {
       "description_width": ""
      }
     },
     "b3cce65fc8fc466e9654e81180d50789": {
      "model_module": "@jupyter-widgets/base",
      "model_module_version": "1.0.0",
      "model_name": "LayoutModel",
      "state": {}
     },
     "b431de663d9b41c184178269bbed151c": {
      "model_module": "@jupyter-widgets/controls",
      "model_module_version": "1.0.0",
      "model_name": "DropdownModel",
      "state": {
       "_options_labels": [
        "oxygen",
        "ph",
        "level1",
        "level2",
        "new.order",
        "ori.order",
        "taxonomy"
       ],
       "index": 0,
       "layout": "IPY_MODEL_e09a841863a44594a523b094f4726665",
       "style": "IPY_MODEL_c7ea1fe2a9c945d186221c9e9dce4023"
      }
     },
     "b4650b6a8831470fb8f3256cfc10e622": {
      "model_module": "@jupyter-widgets/base",
      "model_module_version": "1.0.0",
      "model_name": "LayoutModel",
      "state": {}
     },
     "b4e9d87503fb4709bcc2ada49585adcd": {
      "model_module": "@jupyter-widgets/controls",
      "model_module_version": "1.0.0",
      "model_name": "DescriptionStyleModel",
      "state": {
       "description_width": ""
      }
     },
     "b5bd938134374736a4c7917822853dc7": {
      "model_module": "@jupyter-widgets/base",
      "model_module_version": "1.0.0",
      "model_name": "LayoutModel",
      "state": {}
     },
     "b5c923d077f24692a410488fd604bba6": {
      "model_module": "@jupyter-widgets/controls",
      "model_module_version": "1.0.0",
      "model_name": "HBoxModel",
      "state": {
       "children": [
        "IPY_MODEL_3d476dd4fe5a4d309ebc33a3228e1984",
        "IPY_MODEL_fce124c81ac54d4db619d6dd76e78e6a"
       ],
       "layout": "IPY_MODEL_c465fd0a57b342189630177ae8e7696b"
      }
     },
     "b5ce8d98735147458c9b1bad49e8fc00": {
      "model_module": "@jupyter-widgets/base",
      "model_module_version": "1.0.0",
      "model_name": "LayoutModel",
      "state": {}
     },
     "b5e94d76b1364bbcb8eb0a8c99044feb": {
      "model_module": "@jupyter-widgets/base",
      "model_module_version": "1.0.0",
      "model_name": "LayoutModel",
      "state": {
       "height": "100px",
       "overflow_y": "auto"
      }
     },
     "b62f67d02adc4feaa6abedd89793afbe": {
      "model_module": "@jupyter-widgets/controls",
      "model_module_version": "1.0.0",
      "model_name": "DescriptionStyleModel",
      "state": {
       "description_width": ""
      }
     },
     "b666ea6599e04f1cad488957a078c599": {
      "model_module": "@jupyter-widgets/controls",
      "model_module_version": "1.0.0",
      "model_name": "DescriptionStyleModel",
      "state": {
       "description_width": ""
      }
     },
     "b66cbc1194f04311a4018a0c8caa09c3": {
      "model_module": "@jupyter-widgets/base",
      "model_module_version": "1.0.0",
      "model_name": "LayoutModel",
      "state": {
       "width": "80%"
      }
     },
     "b6847696b5334bb9813a3d03d95473a3": {
      "model_module": "@jupyter-widgets/controls",
      "model_module_version": "1.0.0",
      "model_name": "ButtonModel",
      "state": {
       "description": "print axes ranges",
       "layout": "IPY_MODEL_66bdf50f44214eb294618fb6ff944980",
       "style": "IPY_MODEL_7311948263a042008615437990448798",
       "tooltip": "Print the x axis and y axis ranges. Useful to pass to `rect` parameter of heatmap() to zoom in the region automatically."
      }
     },
     "b6a36d6e67684d5987e4c9bc85fa735b": {
      "model_module": "@jupyter-widgets/base",
      "model_module_version": "1.0.0",
      "model_name": "LayoutModel",
      "state": {}
     },
     "b6d12b824375495ab474bda317ce2bbe": {
      "model_module": "@jupyter-widgets/controls",
      "model_module_version": "1.0.0",
      "model_name": "DescriptionStyleModel",
      "state": {
       "description_width": ""
      }
     },
     "b72e766891d8489782dea99baec9b8d4": {
      "model_module": "@jupyter-widgets/base",
      "model_module_version": "1.0.0",
      "model_name": "LayoutModel",
      "state": {
       "width": "80%"
      }
     },
     "b799b9fcd34d4becb0edb96deea3048a": {
      "model_module": "@jupyter-widgets/controls",
      "model_module_version": "1.0.0",
      "model_name": "ButtonStyleModel",
      "state": {}
     },
     "b7bc3927d61a4ecbb9ffd144c816220b": {
      "model_module": "@jupyter-widgets/base",
      "model_module_version": "1.0.0",
      "model_name": "LayoutModel",
      "state": {}
     },
     "b7bfb8cc6fd5430a82aad0cf066be6d0": {
      "model_module": "@jupyter-widgets/base",
      "model_module_version": "1.0.0",
      "model_name": "LayoutModel",
      "state": {}
     },
     "b7dab112f0ae4cf1919e49f4a35f8fbd": {
      "model_module": "@jupyter-widgets/base",
      "model_module_version": "1.0.0",
      "model_name": "LayoutModel",
      "state": {
       "width": "80%"
      }
     },
     "b823c3e52c424a33ac95ee01ac525d6d": {
      "model_module": "@jupyter-widgets/base",
      "model_module_version": "1.0.0",
      "model_name": "LayoutModel",
      "state": {
       "width": "20%"
      }
     },
     "b8a335a2fd044ae29795138322201e00": {
      "model_module": "@jupyter-widgets/controls",
      "model_module_version": "1.0.0",
      "model_name": "ButtonStyleModel",
      "state": {}
     },
     "b957e7ac728047f48100ffb857fc966b": {
      "model_module": "@jupyter-widgets/controls",
      "model_module_version": "1.0.0",
      "model_name": "DescriptionStyleModel",
      "state": {
       "description_width": ""
      }
     },
     "b97b03781d7a40b1a523420afd38c73f": {
      "model_module": "@jupyter-widgets/controls",
      "model_module_version": "1.0.0",
      "model_name": "DescriptionStyleModel",
      "state": {
       "description_width": ""
      }
     },
     "b990b3945b8d461f8e5fda15de2878cd": {
      "model_module": "@jupyter-widgets/base",
      "model_module_version": "1.0.0",
      "model_name": "LayoutModel",
      "state": {}
     },
     "b99e9da4029b419090801961b9cf61bd": {
      "model_module": "@jupyter-widgets/base",
      "model_module_version": "1.0.0",
      "model_name": "LayoutModel",
      "state": {
       "width": "20%"
      }
     },
     "b9bdee414b69412d84a2571780f1f7b0": {
      "model_module": "@jupyter-widgets/base",
      "model_module_version": "1.0.0",
      "model_name": "LayoutModel",
      "state": {
       "height": "100px",
       "overflow_y": "auto"
      }
     },
     "b9bf199686854385a278888607e8d84c": {
      "model_module": "@jupyter-widgets/controls",
      "model_module_version": "1.0.0",
      "model_name": "TextModel",
      "state": {
       "description": "Sample ID",
       "layout": "IPY_MODEL_eb5873d689c945bebbb75ea92831f359",
       "placeholder": "Sample ID",
       "style": "IPY_MODEL_3ba474507f8e46aa97e33120097f76f3",
       "value": "-"
      }
     },
     "b9db7a9b6b174315888eb94d75f4705d": {
      "model_module": "@jupyter-widgets/controls",
      "model_module_version": "1.0.0",
      "model_name": "DescriptionStyleModel",
      "state": {
       "description_width": ""
      }
     },
     "b9e20f433739466d836038e789e66f1a": {
      "model_module": "@jupyter-widgets/base",
      "model_module_version": "1.0.0",
      "model_name": "LayoutModel",
      "state": {
       "width": "100%"
      }
     },
     "ba09687fc2ef4ed8b5ada170c5f6883c": {
      "model_module": "@jupyter-widgets/controls",
      "model_module_version": "1.0.0",
      "model_name": "DescriptionStyleModel",
      "state": {
       "description_width": ""
      }
     },
     "ba40b1fcc938431b8c0f6cb2c92e13de": {
      "model_module": "@jupyter-widgets/base",
      "model_module_version": "1.0.0",
      "model_name": "LayoutModel",
      "state": {}
     },
     "ba70037ec3424306af4f90ed7f5a5287": {
      "model_module": "@jupyter-widgets/base",
      "model_module_version": "1.0.0",
      "model_name": "LayoutModel",
      "state": {
       "width": "80%"
      }
     },
     "bab1e351a9614a358357ae04c1a14aa6": {
      "model_module": "@jupyter-widgets/controls",
      "model_module_version": "1.0.0",
      "model_name": "TextModel",
      "state": {
       "layout": "IPY_MODEL_deddb7ce2a1e447989532d08d62045e7",
       "placeholder": "feature meta",
       "style": "IPY_MODEL_994b82b2cc834d9da39e026f937dafec",
       "value": "-"
      }
     },
     "bb0f8870b40f4c4292b537d42c36d91d": {
      "model_module": "@jupyter-widgets/base",
      "model_module_version": "1.0.0",
      "model_name": "LayoutModel",
      "state": {}
     },
     "bb16e1a9dfa448bc977134c8bc7189d8": {
      "model_module": "@jupyter-widgets/controls",
      "model_module_version": "1.0.0",
      "model_name": "HBoxModel",
      "state": {
       "children": [
        "IPY_MODEL_544c7f8ca21b4cc7afa7ac6de0d29d17",
        "IPY_MODEL_67ce2baa6faf4ef993a429ec34743e4b",
        "IPY_MODEL_c6af5102d7b843fdacdad20e92ae5a56"
       ],
       "layout": "IPY_MODEL_3bb822e442e044afaae17f995f5c8a5e"
      }
     },
     "bb93b78c90404c429600d1d0f4fff5a5": {
      "model_module": "@jupyter-widgets/controls",
      "model_module_version": "1.0.0",
      "model_name": "TextModel",
      "state": {
       "description": "Sample ID",
       "layout": "IPY_MODEL_59f81bb9b71047c3af653b2bb344abc4",
       "placeholder": "Sample ID",
       "style": "IPY_MODEL_f72da23ee08a453fa9592a17b4b303d7",
       "value": "-"
      }
     },
     "bbb078d65f794a72b7e5112b4df5c9b1": {
      "model_module": "@jupyter-widgets/controls",
      "model_module_version": "1.0.0",
      "model_name": "DescriptionStyleModel",
      "state": {
       "description_width": ""
      }
     },
     "bbc1e315c00e49789b1c398221ebe175": {
      "model_module": "@jupyter-widgets/controls",
      "model_module_version": "1.0.0",
      "model_name": "DescriptionStyleModel",
      "state": {
       "description_width": ""
      }
     },
     "bbcf9893fa8b44ecafcfb2fa23d3ed78": {
      "model_module": "@jupyter-widgets/controls",
      "model_module_version": "1.0.0",
      "model_name": "ButtonStyleModel",
      "state": {}
     },
     "bc108b4dfb794068ac7682d11f07517d": {
      "model_module": "@jupyter-widgets/controls",
      "model_module_version": "1.0.0",
      "model_name": "ButtonStyleModel",
      "state": {}
     },
     "bc1a4c60a761466dbecce0203ce6ea82": {
      "model_module": "@jupyter-widgets/controls",
      "model_module_version": "1.0.0",
      "model_name": "DescriptionStyleModel",
      "state": {
       "description_width": ""
      }
     },
     "bc309ced75cb41b3809636e1ebdb6c08": {
      "model_module": "@jupyter-widgets/base",
      "model_module_version": "1.0.0",
      "model_name": "LayoutModel",
      "state": {}
     },
     "bcb1a3d1bc194669a7016a10d8c99974": {
      "model_module": "@jupyter-widgets/controls",
      "model_module_version": "1.0.0",
      "model_name": "DescriptionStyleModel",
      "state": {
       "description_width": ""
      }
     },
     "bce1f898cb464f538ae1f5f348174688": {
      "model_module": "@jupyter-widgets/controls",
      "model_module_version": "1.0.0",
      "model_name": "ButtonModel",
      "state": {
       "description": "print axes ranges",
       "layout": "IPY_MODEL_c408069e398c46e79f79c358afc2fa0e",
       "style": "IPY_MODEL_e08d987495fb413bbf7aaef3649e627c",
       "tooltip": "Print the x axis and y axis ranges. Useful to pass to `rect` parameter of heatmap() to zoom in the region automatically."
      }
     },
     "bd071abae5a94ceda7e8e67632b456b4": {
      "model_module": "@jupyter-widgets/controls",
      "model_module_version": "1.0.0",
      "model_name": "DescriptionStyleModel",
      "state": {
       "description_width": ""
      }
     },
     "bd10010d59764e0abcfc3fe07df46ee9": {
      "model_module": "@jupyter-widgets/controls",
      "model_module_version": "1.0.0",
      "model_name": "TextModel",
      "state": {
       "layout": "IPY_MODEL_ba70037ec3424306af4f90ed7f5a5287",
       "placeholder": "sample meta",
       "style": "IPY_MODEL_3499ffa30e94402ba4c68f98a5f63755",
       "value": "2"
      }
     },
     "be2f8aa9d2a24b48b08e544fe904a929": {
      "model_module": "@jupyter-widgets/controls",
      "model_module_version": "1.0.0",
      "model_name": "DropdownModel",
      "state": {
       "_options_labels": [
        "ori.order",
        "group",
        "new.order",
        "categorical",
        "_calour_original_abundance"
       ],
       "index": 0,
       "layout": "IPY_MODEL_e684e8dd927b49619c5aa7438782afcd",
       "style": "IPY_MODEL_14c54f9ce4aa4ad7b3dc0efcd5256a9a"
      }
     },
     "bf3c8254d1b044f4b60a69e8e211ad34": {
      "model_module": "@jupyter-widgets/controls",
      "model_module_version": "1.0.0",
      "model_name": "DescriptionStyleModel",
      "state": {
       "description_width": ""
      }
     },
     "bf3e56626f2f48e2b9eba29a2dbe8019": {
      "model_module": "@jupyter-widgets/base",
      "model_module_version": "1.0.0",
      "model_name": "LayoutModel",
      "state": {
       "width": "80%"
      }
     },
     "bf830b8f53b04c579b435a2f86c42dfa": {
      "model_module": "@jupyter-widgets/base",
      "model_module_version": "1.0.0",
      "model_name": "LayoutModel",
      "state": {}
     },
     "bfa70a755ef7476790c54af339eb8deb": {
      "model_module": "@jupyter-widgets/controls",
      "model_module_version": "1.0.0",
      "model_name": "DescriptionStyleModel",
      "state": {
       "description_width": ""
      }
     },
     "c014d91977b94ce19671f87a8bfbb187": {
      "model_module": "@jupyter-widgets/controls",
      "model_module_version": "1.0.0",
      "model_name": "TextModel",
      "state": {
       "description": "Feature ID",
       "layout": "IPY_MODEL_f00d265f4407431c9b6f1160207fdc81",
       "placeholder": "Feature ID",
       "style": "IPY_MODEL_dec73cdacb304c478169e640a5e20f33",
       "value": "TG"
      }
     },
     "c027c1ab8d09406b89c8f3b371d881f1": {
      "model_module": "@jupyter-widgets/controls",
      "model_module_version": "1.0.0",
      "model_name": "ButtonStyleModel",
      "state": {}
     },
     "c02bfef4ac31493284ce71f7c13630d9": {
      "model_module": "@jupyter-widgets/controls",
      "model_module_version": "1.0.0",
      "model_name": "HBoxModel",
      "state": {
       "children": [
        "IPY_MODEL_28402a2388724c3fae2a366a99faa3cd",
        "IPY_MODEL_76eafdc28f5c4e01983bae61f167056e",
        "IPY_MODEL_f29bf907224b43ea8b712baad99656e7"
       ],
       "layout": "IPY_MODEL_01153d9064cb4df28e3ea8f98c662245"
      }
     },
     "c10309f8310f4f6b8aba5ee20d8734be": {
      "model_module": "@jupyter-widgets/base",
      "model_module_version": "1.0.0",
      "model_name": "LayoutModel",
      "state": {
       "width": "100%"
      }
     },
     "c1364fc7758b4ef59a92690a8ea53e71": {
      "model_module": "@jupyter-widgets/base",
      "model_module_version": "1.0.0",
      "model_name": "LayoutModel",
      "state": {
       "width": "20%"
      }
     },
     "c157b2a65ae247509363ed46c0fb6539": {
      "model_module": "@jupyter-widgets/controls",
      "model_module_version": "1.0.0",
      "model_name": "TextModel",
      "state": {
       "description": "Feature ID",
       "layout": "IPY_MODEL_44994213f04e4c3ba75264ca4cf6a7cd",
       "placeholder": "Feature ID",
       "style": "IPY_MODEL_035b151e0a704fefa1b6d7fa748feb94",
       "value": "-"
      }
     },
     "c18afdec8a8e45f2982224e1bedefddf": {
      "model_module": "@jupyter-widgets/controls",
      "model_module_version": "1.0.0",
      "model_name": "DescriptionStyleModel",
      "state": {
       "description_width": ""
      }
     },
     "c1e6ed53474d42cf89091266d7f31d68": {
      "model_module": "@jupyter-widgets/base",
      "model_module_version": "1.0.0",
      "model_name": "LayoutModel",
      "state": {
       "width": "20%"
      }
     },
     "c1f15a885d774711a675c6aa3226751c": {
      "model_module": "@jupyter-widgets/controls",
      "model_module_version": "1.0.0",
      "model_name": "DescriptionStyleModel",
      "state": {
       "description_width": ""
      }
     },
     "c21ab4b33f0040248f986d8b4fedc460": {
      "model_module": "@jupyter-widgets/base",
      "model_module_version": "1.0.0",
      "model_name": "LayoutModel",
      "state": {
       "width": "80%"
      }
     },
     "c2454d63815f498bb1e29d4fb7891ca2": {
      "model_module": "@jupyter-widgets/base",
      "model_module_version": "1.0.0",
      "model_name": "LayoutModel",
      "state": {}
     },
     "c2b1db5f22e14ce59f9805edc8f2db33": {
      "model_module": "@jupyter-widgets/controls",
      "model_module_version": "1.0.0",
      "model_name": "HBoxModel",
      "state": {
       "children": [
        "IPY_MODEL_3effb17aa2a4473fbe49ea9685595680",
        "IPY_MODEL_d6416e07b0d7465692f61a210655ac37",
        "IPY_MODEL_73a55c1e92444702a764b270a9fcea1c"
       ],
       "layout": "IPY_MODEL_e3e571cce4de4f12a18096b0298e9ae7"
      }
     },
     "c37ce0442b534130afb115992d268ec0": {
      "model_module": "@jupyter-widgets/base",
      "model_module_version": "1.0.0",
      "model_name": "LayoutModel",
      "state": {}
     },
     "c3adfefeddca4773acdab8698aa6a6ac": {
      "model_module": "@jupyter-widgets/base",
      "model_module_version": "1.0.0",
      "model_name": "LayoutModel",
      "state": {}
     },
     "c3cc053d613446ee9afc199a73662d26": {
      "model_module": "@jupyter-widgets/base",
      "model_module_version": "1.0.0",
      "model_name": "LayoutModel",
      "state": {}
     },
     "c3d8d47f143a475cb38cdea8b41c19bc": {
      "model_module": "@jupyter-widgets/controls",
      "model_module_version": "1.0.0",
      "model_name": "DescriptionStyleModel",
      "state": {
       "description_width": ""
      }
     },
     "c3dca8624be44fa980083b76739f44f4": {
      "model_module": "@jupyter-widgets/base",
      "model_module_version": "1.0.0",
      "model_name": "LayoutModel",
      "state": {}
     },
     "c3f9096ce69e43749fbff18320a94a2c": {
      "model_module": "@jupyter-widgets/controls",
      "model_module_version": "1.0.0",
      "model_name": "DescriptionStyleModel",
      "state": {
       "description_width": ""
      }
     },
     "c408069e398c46e79f79c358afc2fa0e": {
      "model_module": "@jupyter-widgets/base",
      "model_module_version": "1.0.0",
      "model_name": "LayoutModel",
      "state": {}
     },
     "c465fd0a57b342189630177ae8e7696b": {
      "model_module": "@jupyter-widgets/base",
      "model_module_version": "1.0.0",
      "model_name": "LayoutModel",
      "state": {}
     },
     "c56e1c5f5bfe4100a19d8093a03bbca9": {
      "model_module": "@jupyter-widgets/controls",
      "model_module_version": "1.0.0",
      "model_name": "DescriptionStyleModel",
      "state": {
       "description_width": ""
      }
     },
     "c58749cff455446892e749eb3f0a661f": {
      "model_module": "@jupyter-widgets/controls",
      "model_module_version": "1.0.0",
      "model_name": "DropdownModel",
      "state": {
       "_options_labels": [
        "oxygen",
        "ph",
        "level1",
        "level2",
        "new.order",
        "ori.order",
        "taxonomy"
       ],
       "index": 0,
       "layout": "IPY_MODEL_8ec749af4c8c4e809b2e067ae8f64a5e",
       "style": "IPY_MODEL_8374453c2ad747b79afe66e55c3eea32"
      }
     },
     "c5b002ccbf0849c0a8cffdfe7674dd37": {
      "model_module": "@jupyter-widgets/controls",
      "model_module_version": "1.0.0",
      "model_name": "HBoxModel",
      "state": {
       "children": [
        "IPY_MODEL_3a272e5250e94bda8d8d50c0e56ed531",
        "IPY_MODEL_6f064e0bd51b4c33a3c560609634a9f8"
       ],
       "layout": "IPY_MODEL_6a94fb38b86145b089f8f533170451e3"
      }
     },
     "c5f6370e551f4097860a8ab70ec1a036": {
      "model_module": "@jupyter-widgets/base",
      "model_module_version": "1.0.0",
      "model_name": "LayoutModel",
      "state": {
       "width": "80%"
      }
     },
     "c6072b75aa8a4dcbbd88605eeff21360": {
      "model_module": "@jupyter-widgets/controls",
      "model_module_version": "1.0.0",
      "model_name": "TextModel",
      "state": {
       "layout": "IPY_MODEL_c21ab4b33f0040248f986d8b4fedc460",
       "placeholder": "feature meta",
       "style": "IPY_MODEL_c89852fe7c9b47bdb86bf9393455f709",
       "value": "anaerobic"
      }
     },
     "c615cf7e572a4983b6be6014e6be44a5": {
      "model_module": "@jupyter-widgets/controls",
      "model_module_version": "1.0.0",
      "model_name": "HBoxModel",
      "state": {
       "children": [
        "IPY_MODEL_1b93ba673e8a447ba9a94ca63684b4df",
        "IPY_MODEL_f5a856e3904c429aa8a230729cf00bf3"
       ],
       "layout": "IPY_MODEL_b990b3945b8d461f8e5fda15de2878cd"
      }
     },
     "c615fff1cada4a4aace63216a3b1268b": {
      "model_module": "@jupyter-widgets/controls",
      "model_module_version": "1.0.0",
      "model_name": "HBoxModel",
      "state": {
       "children": [
        "IPY_MODEL_01d4b71b2d8e4a37acfcbe7ee7d0fbbc",
        "IPY_MODEL_76e87c5ac05944d5bc71d33b144d21fe"
       ],
       "layout": "IPY_MODEL_aad6602769a74e419b6b9b499533d582"
      }
     },
     "c635c39acb6f4b90a5213287645b86c0": {
      "model_module": "@jupyter-widgets/base",
      "model_module_version": "1.0.0",
      "model_name": "LayoutModel",
      "state": {}
     },
     "c6af5102d7b843fdacdad20e92ae5a56": {
      "model_module": "@jupyter-widgets/controls",
      "model_module_version": "1.0.0",
      "model_name": "FloatTextModel",
      "state": {
       "description": "Abundance",
       "layout": "IPY_MODEL_49b9fba17ead47689325a581f61a2185",
       "step": null,
       "style": "IPY_MODEL_c7aa4ee6ea684a98a938eaf61fcc2d83"
      }
     },
     "c6baf46e7ef5412da2ba5d6d8d9a3176": {
      "model_module": "@jupyter-widgets/controls",
      "model_module_version": "1.0.0",
      "model_name": "DescriptionStyleModel",
      "state": {
       "description_width": ""
      }
     },
     "c6d76c64fcc242c2ab6eaf01b0f9523f": {
      "model_module": "@jupyter-widgets/controls",
      "model_module_version": "1.0.0",
      "model_name": "DropdownModel",
      "state": {
       "_options_labels": [
        "ori.order",
        "group",
        "new.order",
        "categorical",
        "_calour_original_abundance"
       ],
       "index": 0,
       "layout": "IPY_MODEL_a311150e5f0f4e648eb8602800718030",
       "style": "IPY_MODEL_de886f79a7e8421ebc9e9d663529c001"
      }
     },
     "c72e3a70fded4606abe6fb8e2750b710": {
      "model_module": "@jupyter-widgets/controls",
      "model_module_version": "1.0.0",
      "model_name": "DescriptionStyleModel",
      "state": {
       "description_width": ""
      }
     },
     "c731b56898dc4e27ab0253d2af3629dc": {
      "model_module": "@jupyter-widgets/controls",
      "model_module_version": "1.0.0",
      "model_name": "DescriptionStyleModel",
      "state": {
       "description_width": ""
      }
     },
     "c7525fd25fd940b2847868f80d19502d": {
      "model_module": "@jupyter-widgets/controls",
      "model_module_version": "1.0.0",
      "model_name": "DescriptionStyleModel",
      "state": {
       "description_width": ""
      }
     },
     "c77aefc22b624e44b3dedac6e100afcc": {
      "model_module": "@jupyter-widgets/base",
      "model_module_version": "1.0.0",
      "model_name": "LayoutModel",
      "state": {
       "width": "20%"
      }
     },
     "c7aa4ee6ea684a98a938eaf61fcc2d83": {
      "model_module": "@jupyter-widgets/controls",
      "model_module_version": "1.0.0",
      "model_name": "DescriptionStyleModel",
      "state": {
       "description_width": ""
      }
     },
     "c7ae798042f14c048ad1a605d3cdebe1": {
      "model_module": "@jupyter-widgets/controls",
      "model_module_version": "1.0.0",
      "model_name": "ButtonStyleModel",
      "state": {}
     },
     "c7c9939b9e854eee9264fc85e1bc276a": {
      "model_module": "@jupyter-widgets/controls",
      "model_module_version": "1.0.0",
      "model_name": "ButtonModel",
      "state": {
       "description": "Annotate",
       "layout": "IPY_MODEL_005dab0790f147f496ce3f1440a54c24",
       "style": "IPY_MODEL_a05ae91718b24496b01645ab6a7855f3"
      }
     },
     "c7ea1fe2a9c945d186221c9e9dce4023": {
      "model_module": "@jupyter-widgets/controls",
      "model_module_version": "1.0.0",
      "model_name": "DescriptionStyleModel",
      "state": {
       "description_width": ""
      }
     },
     "c81aaf95ebd94deb936e19ba5d3622f2": {
      "model_module": "@jupyter-widgets/controls",
      "model_module_version": "1.0.0",
      "model_name": "ButtonModel",
      "state": {
       "description": "Save",
       "layout": "IPY_MODEL_a2906b1c4804455d87289cc1a55c2646",
       "style": "IPY_MODEL_55d97b3c8abd4b95ade56822b9fcc20d",
       "tooltip": "Save the selection(s)"
      }
     },
     "c8441c1d7b254b46b02e16a3990b2bf8": {
      "model_module": "@jupyter-widgets/controls",
      "model_module_version": "1.0.0",
      "model_name": "TextModel",
      "state": {
       "description": "Feature ID",
       "layout": "IPY_MODEL_90938660446045f789e980da5024085c",
       "placeholder": "Feature ID",
       "style": "IPY_MODEL_931584c76d5348c3a7627adefa8f6b1c",
       "value": "-"
      }
     },
     "c86cc1aa3f34469ebd12b119d20146f7": {
      "model_module": "@jupyter-widgets/controls",
      "model_module_version": "1.0.0",
      "model_name": "DropdownModel",
      "state": {
       "_options_labels": [
        "ori.order",
        "group",
        "new.order",
        "categorical",
        "_calour_original_abundance"
       ],
       "index": 0,
       "layout": "IPY_MODEL_970d0c5960684f28a1079a2140812443",
       "style": "IPY_MODEL_a84f80290333459a9a557f6142ef17e1"
      }
     },
     "c890a289a81c461daad0bc9e84f38f8e": {
      "model_module": "@jupyter-widgets/controls",
      "model_module_version": "1.0.0",
      "model_name": "ButtonModel",
      "state": {
       "description": "Save",
       "layout": "IPY_MODEL_cd94a4ceb5824d0f9d864f03d90dd090",
       "style": "IPY_MODEL_bbcf9893fa8b44ecafcfb2fa23d3ed78",
       "tooltip": "Save the selection(s)"
      }
     },
     "c890b29770df44c78f990c5fe9592d67": {
      "model_module": "@jupyter-widgets/controls",
      "model_module_version": "1.0.0",
      "model_name": "DropdownModel",
      "state": {
       "_options_labels": [
        "oxygen",
        "ph",
        "level1",
        "level2",
        "new.order",
        "ori.order",
        "taxonomy"
       ],
       "index": 0,
       "layout": "IPY_MODEL_afa3ee4bf4774e12916fba17cccb8198",
       "style": "IPY_MODEL_69277c7e72204237ad8a465672f0f0e0"
      }
     },
     "c895664996f1421a86014d3cf4d3692d": {
      "model_module": "@jupyter-widgets/controls",
      "model_module_version": "1.0.0",
      "model_name": "DescriptionStyleModel",
      "state": {
       "description_width": ""
      }
     },
     "c89852fe7c9b47bdb86bf9393455f709": {
      "model_module": "@jupyter-widgets/controls",
      "model_module_version": "1.0.0",
      "model_name": "DescriptionStyleModel",
      "state": {
       "description_width": ""
      }
     },
     "c8bc8ee6e8b347a2899afc429d68cf90": {
      "model_module": "@jupyter-widgets/controls",
      "model_module_version": "1.0.0",
      "model_name": "DescriptionStyleModel",
      "state": {
       "description_width": ""
      }
     },
     "c8ead31e561e4cbc823dac3c7a1f5076": {
      "model_module": "@jupyter-widgets/base",
      "model_module_version": "1.0.0",
      "model_name": "LayoutModel",
      "state": {}
     },
     "c91c380a4bf44a68a414e5f0461d18fd": {
      "model_module": "@jupyter-widgets/base",
      "model_module_version": "1.0.0",
      "model_name": "LayoutModel",
      "state": {
       "width": "80%"
      }
     },
     "c92a4328c2b1497eae41115cfda206cb": {
      "model_module": "@jupyter-widgets/base",
      "model_module_version": "1.0.0",
      "model_name": "LayoutModel",
      "state": {
       "height": "100px",
       "overflow_y": "auto"
      }
     },
     "c9356130646942dda88a7fae4e8ebd90": {
      "model_module": "@jupyter-widgets/controls",
      "model_module_version": "1.0.0",
      "model_name": "DescriptionStyleModel",
      "state": {
       "description_width": ""
      }
     },
     "caed2d5df2d94e338136eea89546e865": {
      "model_module": "@jupyter-widgets/controls",
      "model_module_version": "1.0.0",
      "model_name": "FloatTextModel",
      "state": {
       "description": "Abundance",
       "layout": "IPY_MODEL_f941e7f103b34e8a97ae60e01fe0cf36",
       "step": null,
       "style": "IPY_MODEL_f1f890f5703041d18f79ff18a9fbab18",
       "value": 849
      }
     },
     "cafdedaee85e4f5f83b8d9bef6a862c3": {
      "model_module": "@jupyter-widgets/base",
      "model_module_version": "1.0.0",
      "model_name": "LayoutModel",
      "state": {}
     },
     "cb4e8d268e69439899fa387df70cd3d5": {
      "model_module": "@jupyter-widgets/controls",
      "model_module_version": "1.0.0",
      "model_name": "DescriptionStyleModel",
      "state": {
       "description_width": ""
      }
     },
     "cbf88707cd60458bb4ba01415d517065": {
      "model_module": "@jupyter-widgets/base",
      "model_module_version": "1.0.0",
      "model_name": "LayoutModel",
      "state": {
       "width": "80%"
      }
     },
     "ccbd4eb091ff48dc8b4b5fde7d511a2a": {
      "model_module": "@jupyter-widgets/controls",
      "model_module_version": "1.0.0",
      "model_name": "TextModel",
      "state": {
       "description": "Feature ID",
       "layout": "IPY_MODEL_0fe4437f03514de2a3929adfcab239a3",
       "placeholder": "Feature ID",
       "style": "IPY_MODEL_2ef739485b2b43fcb5cf79c53e6346dd",
       "value": "-"
      }
     },
     "cd1b247c31e448c4b962d6684da16ba1": {
      "model_module": "@jupyter-widgets/controls",
      "model_module_version": "1.0.0",
      "model_name": "HBoxModel",
      "state": {
       "children": [
        "IPY_MODEL_54b21fb5ca70416a923184fab19163f8",
        "IPY_MODEL_c890a289a81c461daad0bc9e84f38f8e",
        "IPY_MODEL_c7c9939b9e854eee9264fc85e1bc276a"
       ],
       "layout": "IPY_MODEL_831b60f52be34ce8ac2b231fd734c5ad"
      }
     },
     "cd591a975e034460be5bc9cd73df96d2": {
      "model_module": "@jupyter-widgets/base",
      "model_module_version": "1.0.0",
      "model_name": "LayoutModel",
      "state": {}
     },
     "cd5fad4fcf6b4df2957a9e064c607938": {
      "model_module": "@jupyter-widgets/controls",
      "model_module_version": "1.0.0",
      "model_name": "ButtonStyleModel",
      "state": {}
     },
     "cd94a4ceb5824d0f9d864f03d90dd090": {
      "model_module": "@jupyter-widgets/base",
      "model_module_version": "1.0.0",
      "model_name": "LayoutModel",
      "state": {}
     },
     "ce046812970f4a9aa67508191c6b863f": {
      "model_module": "@jupyter-widgets/controls",
      "model_module_version": "1.0.0",
      "model_name": "ButtonStyleModel",
      "state": {}
     },
     "ce9f0f88d2c64697aa1aa8d5e49e6627": {
      "model_module": "@jupyter-widgets/controls",
      "model_module_version": "1.0.0",
      "model_name": "HTMLModel",
      "state": {
       "layout": "IPY_MODEL_e28c5cc30d5c4923bf62c164dd23084c",
       "style": "IPY_MODEL_611a1e8802c349f3b59b0253d39bcf7d",
       "value": "<style> a:link {color:black; background-color:transparent; text-decoration:none}a:visited {color:black; background-color:transparent; text-decoration:none}</style><p style=\"color:black;white-space:nowrap;\"><a href=\"http://dbbact.org/annotation_info/NA\"   target=\"_blank\">No annotation found in database dbBact</a></p>"
      }
     },
     "ceed02f0cb2d4fd981e1710d1c19a415": {
      "model_module": "@jupyter-widgets/base",
      "model_module_version": "1.0.0",
      "model_name": "LayoutModel",
      "state": {}
     },
     "cefb9977328047de986c3d7416c1a229": {
      "model_module": "@jupyter-widgets/controls",
      "model_module_version": "1.0.0",
      "model_name": "TextModel",
      "state": {
       "description": "Sample ID",
       "layout": "IPY_MODEL_b9e20f433739466d836038e789e66f1a",
       "placeholder": "Sample ID",
       "style": "IPY_MODEL_d6bb2dfaf1224d2fb7c310ac1ec3913d",
       "value": "-"
      }
     },
     "cf6228db2ae140679ec14ac74a5d0247": {
      "model_module": "@jupyter-widgets/controls",
      "model_module_version": "1.0.0",
      "model_name": "ButtonStyleModel",
      "state": {}
     },
     "cffcaf88bd3b432bac472831ed6b33d3": {
      "model_module": "@jupyter-widgets/base",
      "model_module_version": "1.0.0",
      "model_name": "LayoutModel",
      "state": {
       "width": "80%"
      }
     },
     "d06c95e2393345f8932af7b40616a3e6": {
      "model_module": "@jupyter-widgets/controls",
      "model_module_version": "1.0.0",
      "model_name": "HTMLModel",
      "state": {
       "layout": "IPY_MODEL_463ccf9e5f9e48569343575f205adec3",
       "style": "IPY_MODEL_932cc02db0f04f68aa6f3035a74859e5",
       "value": "no annotation found"
      }
     },
     "d0995ed1839d48dc85eda76152354b9d": {
      "model_module": "@jupyter-widgets/controls",
      "model_module_version": "1.0.0",
      "model_name": "ButtonStyleModel",
      "state": {}
     },
     "d143f8f3eb7f4f1487dc336bc041b1a1": {
      "model_module": "@jupyter-widgets/controls",
      "model_module_version": "1.0.0",
      "model_name": "HBoxModel",
      "state": {
       "children": [
        "IPY_MODEL_a3acabb2369f49b5aa77b77acd4192f4",
        "IPY_MODEL_5c99b41ed6524fbab6a995822dfd431e",
        "IPY_MODEL_e261c0f9a68142a788a4382aafaf37fb"
       ],
       "layout": "IPY_MODEL_e35032dd26d44e02bbc34990f91259c2"
      }
     },
     "d244556ba0d24517aad4dcfc5d45ab65": {
      "model_module": "@jupyter-widgets/base",
      "model_module_version": "1.0.0",
      "model_name": "LayoutModel",
      "state": {
       "width": "20%"
      }
     },
     "d2b2a7ab3d9e4bb1b8f9258ecfbdd050": {
      "model_module": "@jupyter-widgets/controls",
      "model_module_version": "1.0.0",
      "model_name": "ButtonModel",
      "state": {
       "description": "Annotate",
       "layout": "IPY_MODEL_9cec1e91b91e418dbf8596e2c7e9c839",
       "style": "IPY_MODEL_0e032ba7dca64c848bf64209f9e32b63"
      }
     },
     "d2d5b4728df142e89336ceb31db7951c": {
      "model_module": "@jupyter-widgets/base",
      "model_module_version": "1.0.0",
      "model_name": "LayoutModel",
      "state": {}
     },
     "d313571b489e47faaaab501e167abe62": {
      "model_module": "@jupyter-widgets/controls",
      "model_module_version": "1.0.0",
      "model_name": "DescriptionStyleModel",
      "state": {
       "description_width": ""
      }
     },
     "d399ca2f1bf7431b8d5102550d3dae3d": {
      "model_module": "@jupyter-widgets/base",
      "model_module_version": "1.0.0",
      "model_name": "LayoutModel",
      "state": {}
     },
     "d39b3bda87b444f9bec70cb9e717ee58": {
      "model_module": "@jupyter-widgets/controls",
      "model_module_version": "1.0.0",
      "model_name": "DescriptionStyleModel",
      "state": {
       "description_width": ""
      }
     },
     "d3d981a1c06f4eee976f65d1dae9e210": {
      "model_module": "@jupyter-widgets/controls",
      "model_module_version": "1.0.0",
      "model_name": "DescriptionStyleModel",
      "state": {
       "description_width": ""
      }
     },
     "d3e2cdb0e15141869579e7e86277678c": {
      "model_module": "@jupyter-widgets/controls",
      "model_module_version": "1.0.0",
      "model_name": "DropdownModel",
      "state": {
       "_options_labels": [
        "ori.order",
        "group",
        "new.order",
        "categorical",
        "_calour_original_abundance"
       ],
       "index": 0,
       "layout": "IPY_MODEL_29e808bc686b4452995d7e9049b7205f",
       "style": "IPY_MODEL_710e9a880e50423e8a2f662cfdbd655b"
      }
     },
     "d3e470dc3e9242f3926abe4394425f39": {
      "model_module": "@jupyter-widgets/controls",
      "model_module_version": "1.0.0",
      "model_name": "DescriptionStyleModel",
      "state": {
       "description_width": ""
      }
     },
     "d40b804cdd9541688c3ab4f9459bc634": {
      "model_module": "@jupyter-widgets/controls",
      "model_module_version": "1.0.0",
      "model_name": "HBoxModel",
      "state": {
       "children": [
        "IPY_MODEL_d3e2cdb0e15141869579e7e86277678c",
        "IPY_MODEL_a00aed31ff3140e98deefa3bd6a0e180"
       ],
       "layout": "IPY_MODEL_df6a0243f4824cdf8dc8a40264604c0d"
      }
     },
     "d5626d326b474ae08b1de9af336c6505": {
      "model_module": "@jupyter-widgets/controls",
      "model_module_version": "1.0.0",
      "model_name": "HBoxModel",
      "state": {
       "children": [
        "IPY_MODEL_0d5a26f315034d6cacf1dfedc5a5b09c",
        "IPY_MODEL_28b49254158a4cd68e7f78a0c69fccad"
       ],
       "layout": "IPY_MODEL_5cda5cc11fa2423e9063cd34c5ed4cd4"
      }
     },
     "d59215ebf4b145409800dd999aeb9210": {
      "model_module": "@jupyter-widgets/base",
      "model_module_version": "1.0.0",
      "model_name": "LayoutModel",
      "state": {
       "width": "100%"
      }
     },
     "d6416e07b0d7465692f61a210655ac37": {
      "model_module": "@jupyter-widgets/controls",
      "model_module_version": "1.0.0",
      "model_name": "TextModel",
      "state": {
       "description": "Feature ID",
       "layout": "IPY_MODEL_80c5bc5bac9f4b009ff6369d9b52c34d",
       "placeholder": "Feature ID",
       "style": "IPY_MODEL_1b96d65ac89749b09de255e7b81a7540",
       "value": "-"
      }
     },
     "d6bb2dfaf1224d2fb7c310ac1ec3913d": {
      "model_module": "@jupyter-widgets/controls",
      "model_module_version": "1.0.0",
      "model_name": "DescriptionStyleModel",
      "state": {
       "description_width": ""
      }
     },
     "d7064ad2257e4ce0a66f4d4e77d87f4c": {
      "model_module": "@jupyter-widgets/controls",
      "model_module_version": "1.0.0",
      "model_name": "ButtonModel",
      "state": {
       "description": "Annotate",
       "layout": "IPY_MODEL_e1a11ecac6344e98b920adcfc16c9f15",
       "style": "IPY_MODEL_7e8004da805b4f3bb7b11f0929d70423"
      }
     },
     "d7597257851f4b00bbbe9e092bfff7cd": {
      "model_module": "@jupyter-widgets/controls",
      "model_module_version": "1.0.0",
      "model_name": "DescriptionStyleModel",
      "state": {
       "description_width": ""
      }
     },
     "d7a75aa13bdd4fc59f69ad6a2fb88f4c": {
      "model_module": "@jupyter-widgets/base",
      "model_module_version": "1.0.0",
      "model_name": "LayoutModel",
      "state": {
       "width": "20%"
      }
     },
     "d7bfd2ec143b431fb851d4a3b244c499": {
      "model_module": "@jupyter-widgets/controls",
      "model_module_version": "1.0.0",
      "model_name": "LabelModel",
      "state": {
       "layout": "IPY_MODEL_0a933edb5afd437488d1a42c77fc4c62",
       "style": "IPY_MODEL_df0101fc479f41be965d883a51df5aac",
       "value": "0 features are selected"
      }
     },
     "d7d9f5e6a2514827a1c812b1c9f71030": {
      "model_module": "@jupyter-widgets/controls",
      "model_module_version": "1.0.0",
      "model_name": "FloatTextModel",
      "state": {
       "description": "Abundance",
       "layout": "IPY_MODEL_59f81bb9b71047c3af653b2bb344abc4",
       "step": null,
       "style": "IPY_MODEL_cb4e8d268e69439899fa387df70cd3d5"
      }
     },
     "d7fd20b06fce4f118c17aa3b98bce218": {
      "model_module": "@jupyter-widgets/controls",
      "model_module_version": "1.0.0",
      "model_name": "DescriptionStyleModel",
      "state": {
       "description_width": ""
      }
     },
     "d888a561bc434626b3ab86b6c53ddf75": {
      "model_module": "@jupyter-widgets/controls",
      "model_module_version": "1.0.0",
      "model_name": "LabelModel",
      "state": {
       "layout": "IPY_MODEL_f2bc07b742c4414297347865fb806c5b",
       "style": "IPY_MODEL_87cfb34bd339422a9b6cbe42f5d4c59f",
       "value": "1 features are selected"
      }
     },
     "d8c24935b2bc44d986fee186e60eadb8": {
      "model_module": "@jupyter-widgets/controls",
      "model_module_version": "1.0.0",
      "model_name": "FloatTextModel",
      "state": {
       "description": "Abundance",
       "layout": "IPY_MODEL_565b1c6b9e874be098cfd20b625f76fe",
       "step": null,
       "style": "IPY_MODEL_433210ce464844fcb3b51d74ec0d7eec"
      }
     },
     "d931cba4c3cd4b1e94f390b316e9ea4b": {
      "model_module": "@jupyter-widgets/controls",
      "model_module_version": "1.0.0",
      "model_name": "ButtonStyleModel",
      "state": {}
     },
     "d954400a3f614d1ba761ff49e7b98d21": {
      "model_module": "@jupyter-widgets/controls",
      "model_module_version": "1.0.0",
      "model_name": "DescriptionStyleModel",
      "state": {
       "description_width": ""
      }
     },
     "d95d674e1357464bbd808e447980a5cb": {
      "model_module": "@jupyter-widgets/base",
      "model_module_version": "1.0.0",
      "model_name": "LayoutModel",
      "state": {
       "width": "80%"
      }
     },
     "d9b238c7736e4d7e97de3fde029e5d36": {
      "model_module": "@jupyter-widgets/controls",
      "model_module_version": "1.0.0",
      "model_name": "DescriptionStyleModel",
      "state": {
       "description_width": ""
      }
     },
     "da38a07ae4be4915ba078b993bfda538": {
      "model_module": "@jupyter-widgets/controls",
      "model_module_version": "1.0.0",
      "model_name": "TextModel",
      "state": {
       "layout": "IPY_MODEL_fce95abc72f74ff698cfc1c1bbcd3d80",
       "placeholder": "feature meta",
       "style": "IPY_MODEL_ac1acc7776a74ca495e616d6cefbc36c",
       "value": "-"
      }
     },
     "da869a499d2645e4b2748cd1983f39f4": {
      "model_module": "@jupyter-widgets/controls",
      "model_module_version": "1.0.0",
      "model_name": "TextModel",
      "state": {
       "description": "Feature ID",
       "layout": "IPY_MODEL_773cb8dede5f4d728628430598683cc5",
       "placeholder": "Feature ID",
       "style": "IPY_MODEL_c7525fd25fd940b2847868f80d19502d",
       "value": "-"
      }
     },
     "da8d13a9f853462cb0af42514b19e892": {
      "model_module": "@jupyter-widgets/base",
      "model_module_version": "1.0.0",
      "model_name": "LayoutModel",
      "state": {}
     },
     "dabc18c0d25e4cee869b075bd6b23195": {
      "model_module": "@jupyter-widgets/base",
      "model_module_version": "1.0.0",
      "model_name": "LayoutModel",
      "state": {
       "width": "20%"
      }
     },
     "dacee143039a45d7a1e313fee5955c53": {
      "model_module": "@jupyter-widgets/controls",
      "model_module_version": "1.0.0",
      "model_name": "LabelModel",
      "state": {
       "layout": "IPY_MODEL_65ac9237364c47539f0048f1655628cc",
       "style": "IPY_MODEL_f2560641d0d84949aff86c64dddcc7c8",
       "value": "1 features are selected"
      }
     },
     "dae5122e005440f296cc33e428da986c": {
      "model_module": "@jupyter-widgets/controls",
      "model_module_version": "1.0.0",
      "model_name": "DropdownModel",
      "state": {
       "_options_labels": [
        "ori.order",
        "group",
        "new.order",
        "categorical",
        "_calour_original_abundance"
       ],
       "index": 0,
       "layout": "IPY_MODEL_71985afa968b47fd99d609d701371cf9",
       "style": "IPY_MODEL_3c7ffdcf60624398aa86e346c6a81ecc"
      }
     },
     "dafcf9781ae14313a9712f3f3ac763a3": {
      "model_module": "@jupyter-widgets/controls",
      "model_module_version": "1.0.0",
      "model_name": "DescriptionStyleModel",
      "state": {
       "description_width": ""
      }
     },
     "db14f6d579c146e0a292895ba3a6cdd2": {
      "model_module": "@jupyter-widgets/base",
      "model_module_version": "1.0.0",
      "model_name": "LayoutModel",
      "state": {}
     },
     "db45bc7126fb406a83877a122908247f": {
      "model_module": "@jupyter-widgets/controls",
      "model_module_version": "1.0.0",
      "model_name": "DescriptionStyleModel",
      "state": {
       "description_width": ""
      }
     },
     "db731c3e066c482494d00b39b4c4662a": {
      "model_module": "@jupyter-widgets/controls",
      "model_module_version": "1.0.0",
      "model_name": "ButtonModel",
      "state": {
       "description": "print axes ranges",
       "layout": "IPY_MODEL_8abd7680e3184166bc837bb4f27fbbc3",
       "style": "IPY_MODEL_86546455beb6418e9f445eb6bc82dc03",
       "tooltip": "Print the x axis and y axis ranges. Useful to pass to `rect` parameter of heatmap() to zoom in the region automatically."
      }
     },
     "dc519691bec749738e7974bd2d9303b7": {
      "model_module": "@jupyter-widgets/controls",
      "model_module_version": "1.0.0",
      "model_name": "ButtonStyleModel",
      "state": {}
     },
     "dc6e298893a744e59909ba0b189be545": {
      "model_module": "@jupyter-widgets/base",
      "model_module_version": "1.0.0",
      "model_name": "LayoutModel",
      "state": {
       "width": "80%"
      }
     },
     "dc8840a850dc4b9a917c76c09a539f1c": {
      "model_module": "@jupyter-widgets/base",
      "model_module_version": "1.0.0",
      "model_name": "LayoutModel",
      "state": {}
     },
     "dcae6184a699431bbfc62a92802f0b23": {
      "model_module": "@jupyter-widgets/controls",
      "model_module_version": "1.0.0",
      "model_name": "HBoxModel",
      "state": {
       "children": [
        "IPY_MODEL_09b52d63346c491ebffacd8fe01b212d",
        "IPY_MODEL_c6072b75aa8a4dcbbd88605eeff21360"
       ],
       "layout": "IPY_MODEL_0dc53c760b5e40fdb51a80127ded9810"
      }
     },
     "dd5bca93f27449e3bc2259213e4afd44": {
      "model_module": "@jupyter-widgets/controls",
      "model_module_version": "1.0.0",
      "model_name": "HBoxModel",
      "state": {
       "children": [
        "IPY_MODEL_7e5b78e4cf224243938df1115c7c123e",
        "IPY_MODEL_51108bd934ee4c67a0d92fe4929de68e",
        "IPY_MODEL_735353246d5b449aa382f166533e5323"
       ],
       "layout": "IPY_MODEL_a17decffdb3c42ef9458fe2a83b3720b"
      }
     },
     "de0d8b69b9db475ba5f7778b1702db02": {
      "model_module": "@jupyter-widgets/base",
      "model_module_version": "1.0.0",
      "model_name": "LayoutModel",
      "state": {
       "width": "80%"
      }
     },
     "de377be0844d4edabebef5220be7781a": {
      "model_module": "@jupyter-widgets/controls",
      "model_module_version": "1.0.0",
      "model_name": "DropdownModel",
      "state": {
       "_options_labels": [
        "oxygen",
        "ph",
        "level1",
        "level2",
        "new.order",
        "ori.order",
        "taxonomy"
       ],
       "index": 0,
       "layout": "IPY_MODEL_b0e307aac6814695ba82888ebb610e47",
       "style": "IPY_MODEL_eafea4669ccc4cc0807c56f7ccedb8f9"
      }
     },
     "de3a5a23d1084b28a04cfa1b03470493": {
      "model_module": "@jupyter-widgets/controls",
      "model_module_version": "1.0.0",
      "model_name": "HBoxModel",
      "state": {
       "children": [
        "IPY_MODEL_bb93b78c90404c429600d1d0f4fff5a5",
        "IPY_MODEL_66d08631e17b45fab4f1f4cf37d32722",
        "IPY_MODEL_d7d9f5e6a2514827a1c812b1c9f71030"
       ],
       "layout": "IPY_MODEL_ea37af9f0a694665acbc873c0e96fc4b"
      }
     },
     "de5a5365889047b2bbb3b419e902f70d": {
      "model_module": "@jupyter-widgets/controls",
      "model_module_version": "1.0.0",
      "model_name": "DescriptionStyleModel",
      "state": {
       "description_width": ""
      }
     },
     "de886f79a7e8421ebc9e9d663529c001": {
      "model_module": "@jupyter-widgets/controls",
      "model_module_version": "1.0.0",
      "model_name": "DescriptionStyleModel",
      "state": {
       "description_width": ""
      }
     },
     "dec73cdacb304c478169e640a5e20f33": {
      "model_module": "@jupyter-widgets/controls",
      "model_module_version": "1.0.0",
      "model_name": "DescriptionStyleModel",
      "state": {
       "description_width": ""
      }
     },
     "ded221a894904090a0d64b0ccae8a4e9": {
      "model_module": "@jupyter-widgets/base",
      "model_module_version": "1.0.0",
      "model_name": "LayoutModel",
      "state": {
       "width": "80%"
      }
     },
     "deddb7ce2a1e447989532d08d62045e7": {
      "model_module": "@jupyter-widgets/base",
      "model_module_version": "1.0.0",
      "model_name": "LayoutModel",
      "state": {
       "width": "80%"
      }
     },
     "df0101fc479f41be965d883a51df5aac": {
      "model_module": "@jupyter-widgets/controls",
      "model_module_version": "1.0.0",
      "model_name": "DescriptionStyleModel",
      "state": {
       "description_width": ""
      }
     },
     "df6533249cdc4fa1b0ed510bea9997c6": {
      "model_module": "@jupyter-widgets/controls",
      "model_module_version": "1.0.0",
      "model_name": "HBoxModel",
      "state": {
       "children": [
        "IPY_MODEL_03bff66ed3ff4e259d4d6767ca143e1e",
        "IPY_MODEL_0918fcd942134604b0feb6a4db01ee24",
        "IPY_MODEL_2b4b30636de24a7d87ec9b53a9931001"
       ],
       "layout": "IPY_MODEL_17a595be441a4df3a173bcf7e6d937c2"
      }
     },
     "df6a0243f4824cdf8dc8a40264604c0d": {
      "model_module": "@jupyter-widgets/base",
      "model_module_version": "1.0.0",
      "model_name": "LayoutModel",
      "state": {}
     },
     "df72cbb23b084ef39181a26ef8eee232": {
      "model_module": "@jupyter-widgets/controls",
      "model_module_version": "1.0.0",
      "model_name": "TextModel",
      "state": {
       "description": "Feature ID",
       "layout": "IPY_MODEL_0eb099a48d0a46ed9d2c5c9068ee3cbf",
       "placeholder": "Feature ID",
       "style": "IPY_MODEL_db45bc7126fb406a83877a122908247f",
       "value": "-"
      }
     },
     "dfbc4242017a4239b2993de119455213": {
      "model_module": "@jupyter-widgets/controls",
      "model_module_version": "1.0.0",
      "model_name": "DescriptionStyleModel",
      "state": {
       "description_width": ""
      }
     },
     "e00ff9eaff7c4b6c8dba4543d9743065": {
      "model_module": "@jupyter-widgets/base",
      "model_module_version": "1.0.0",
      "model_name": "LayoutModel",
      "state": {}
     },
     "e01d8976dd3e4188a5515717959c760a": {
      "model_module": "@jupyter-widgets/controls",
      "model_module_version": "1.0.0",
      "model_name": "ButtonModel",
      "state": {
       "description": "print axes ranges",
       "layout": "IPY_MODEL_bb0f8870b40f4c4292b537d42c36d91d",
       "style": "IPY_MODEL_e77d0442d7ef4b05bec08039e3ce28dd",
       "tooltip": "Print the x axis and y axis ranges. Useful to pass to `rect` parameter of heatmap() to zoom in the region automatically."
      }
     },
     "e025ed167a4e45f8b19de4325b880c74": {
      "model_module": "@jupyter-widgets/controls",
      "model_module_version": "1.0.0",
      "model_name": "DescriptionStyleModel",
      "state": {
       "description_width": ""
      }
     },
     "e088ff84d6814189af691619b4ce66fb": {
      "model_module": "@jupyter-widgets/base",
      "model_module_version": "1.0.0",
      "model_name": "LayoutModel",
      "state": {
       "width": "20%"
      }
     },
     "e08d987495fb413bbf7aaef3649e627c": {
      "model_module": "@jupyter-widgets/controls",
      "model_module_version": "1.0.0",
      "model_name": "ButtonStyleModel",
      "state": {}
     },
     "e09a841863a44594a523b094f4726665": {
      "model_module": "@jupyter-widgets/base",
      "model_module_version": "1.0.0",
      "model_name": "LayoutModel",
      "state": {
       "width": "20%"
      }
     },
     "e0e4deefe5014ed5b936c29fc160a252": {
      "model_module": "@jupyter-widgets/controls",
      "model_module_version": "1.0.0",
      "model_name": "TextModel",
      "state": {
       "layout": "IPY_MODEL_32531c6449d2475e958d1725bcabe040",
       "placeholder": "feature meta",
       "style": "IPY_MODEL_11023a2aa2754f098f825300fd0b271c",
       "value": "-"
      }
     },
     "e1195e68c8e747cb97e3475398843fb4": {
      "model_module": "@jupyter-widgets/controls",
      "model_module_version": "1.0.0",
      "model_name": "DescriptionStyleModel",
      "state": {
       "description_width": ""
      }
     },
     "e188e29063d245d5b865ccd346ff8efa": {
      "model_module": "@jupyter-widgets/controls",
      "model_module_version": "1.0.0",
      "model_name": "TextModel",
      "state": {
       "layout": "IPY_MODEL_e21b6b56b6a24315b85bd92d66f3ec6c",
       "placeholder": "sample meta",
       "style": "IPY_MODEL_2e2fc3b9154e4cc086926a7671fbe671",
       "value": "-"
      }
     },
     "e19f08f6a7a94079a4c97293226ed764": {
      "model_module": "@jupyter-widgets/controls",
      "model_module_version": "1.0.0",
      "model_name": "FloatTextModel",
      "state": {
       "description": "Abundance",
       "layout": "IPY_MODEL_5d7e0419d4ec4655b22c5d7169b62c7f",
       "step": null,
       "style": "IPY_MODEL_b4e9d87503fb4709bcc2ada49585adcd"
      }
     },
     "e1a11ecac6344e98b920adcfc16c9f15": {
      "model_module": "@jupyter-widgets/base",
      "model_module_version": "1.0.0",
      "model_name": "LayoutModel",
      "state": {}
     },
     "e1a702ca577f46578932187d06c7ed6b": {
      "model_module": "@jupyter-widgets/controls",
      "model_module_version": "1.0.0",
      "model_name": "DescriptionStyleModel",
      "state": {
       "description_width": ""
      }
     },
     "e21b6b56b6a24315b85bd92d66f3ec6c": {
      "model_module": "@jupyter-widgets/base",
      "model_module_version": "1.0.0",
      "model_name": "LayoutModel",
      "state": {
       "width": "80%"
      }
     },
     "e240ab8593bd4e1e87e617545d0e25b0": {
      "model_module": "@jupyter-widgets/controls",
      "model_module_version": "1.0.0",
      "model_name": "DescriptionStyleModel",
      "state": {
       "description_width": ""
      }
     },
     "e2553d094641498c974282a69cb0ddd1": {
      "model_module": "@jupyter-widgets/base",
      "model_module_version": "1.0.0",
      "model_name": "LayoutModel",
      "state": {
       "width": "80%"
      }
     },
     "e261c0f9a68142a788a4382aafaf37fb": {
      "model_module": "@jupyter-widgets/controls",
      "model_module_version": "1.0.0",
      "model_name": "ButtonModel",
      "state": {
       "description": "Annotate",
       "layout": "IPY_MODEL_66bb3766c4444d948885c4e0d150b6b8",
       "style": "IPY_MODEL_858ef5db577945bda0df0e4f119a8cff"
      }
     },
     "e28c5cc30d5c4923bf62c164dd23084c": {
      "model_module": "@jupyter-widgets/base",
      "model_module_version": "1.0.0",
      "model_name": "LayoutModel",
      "state": {
       "height": "100px",
       "overflow_y": "auto"
      }
     },
     "e2f6215f3c8a4b4e9fa58466faaa0b56": {
      "model_module": "@jupyter-widgets/base",
      "model_module_version": "1.0.0",
      "model_name": "LayoutModel",
      "state": {
       "height": "100px",
       "overflow_y": "auto"
      }
     },
     "e313380e1f6b41359c77a6705ccd1576": {
      "model_module": "@jupyter-widgets/controls",
      "model_module_version": "1.0.0",
      "model_name": "DescriptionStyleModel",
      "state": {
       "description_width": ""
      }
     },
     "e32be2aebdc84c918290124ead7569a2": {
      "model_module": "@jupyter-widgets/controls",
      "model_module_version": "1.0.0",
      "model_name": "DescriptionStyleModel",
      "state": {
       "description_width": ""
      }
     },
     "e33f725ed57145cfa921fe0f15d67d49": {
      "model_module": "@jupyter-widgets/base",
      "model_module_version": "1.0.0",
      "model_name": "LayoutModel",
      "state": {
       "width": "80%"
      }
     },
     "e34ed2b52c4c412ca1645cb60e5d0ee3": {
      "model_module": "@jupyter-widgets/controls",
      "model_module_version": "1.0.0",
      "model_name": "TextModel",
      "state": {
       "description": "Feature ID",
       "layout": "IPY_MODEL_0b6fe2c41fc84f98b3a16f002cfbb28b",
       "placeholder": "Feature ID",
       "style": "IPY_MODEL_3c99b2cb53f348098705e2b6ec245d63",
       "value": "TC"
      }
     },
     "e35032dd26d44e02bbc34990f91259c2": {
      "model_module": "@jupyter-widgets/base",
      "model_module_version": "1.0.0",
      "model_name": "LayoutModel",
      "state": {}
     },
     "e3e571cce4de4f12a18096b0298e9ae7": {
      "model_module": "@jupyter-widgets/base",
      "model_module_version": "1.0.0",
      "model_name": "LayoutModel",
      "state": {}
     },
     "e3f77d3d2f264656abcc6a1b209fbf5b": {
      "model_module": "@jupyter-widgets/controls",
      "model_module_version": "1.0.0",
      "model_name": "HBoxModel",
      "state": {
       "children": [
        "IPY_MODEL_36fb6a81180c48d68e3c1213de0693c1",
        "IPY_MODEL_fee7f0bee991456d91b81654bfa40d47",
        "IPY_MODEL_8e98071a10f64bbe973f661397fb9905"
       ],
       "layout": "IPY_MODEL_041ae82cfe7043b681e697b0de4a6cb7"
      }
     },
     "e40cc68957154694a03642a59ea71bbb": {
      "model_module": "@jupyter-widgets/base",
      "model_module_version": "1.0.0",
      "model_name": "LayoutModel",
      "state": {}
     },
     "e483774b63b64cdda9c557aa3c8d70b9": {
      "model_module": "@jupyter-widgets/base",
      "model_module_version": "1.0.0",
      "model_name": "LayoutModel",
      "state": {}
     },
     "e4bf18ee5d5740238c505c1defb7026e": {
      "model_module": "@jupyter-widgets/base",
      "model_module_version": "1.0.0",
      "model_name": "LayoutModel",
      "state": {}
     },
     "e5af046a55e84cc08199c28d86dd60ba": {
      "model_module": "@jupyter-widgets/base",
      "model_module_version": "1.0.0",
      "model_name": "LayoutModel",
      "state": {
       "width": "80%"
      }
     },
     "e5c7ccb9dc224b3e93a57929237dea0a": {
      "model_module": "@jupyter-widgets/controls",
      "model_module_version": "1.0.0",
      "model_name": "FloatTextModel",
      "state": {
       "description": "Abundance",
       "layout": "IPY_MODEL_f00d265f4407431c9b6f1160207fdc81",
       "step": null,
       "style": "IPY_MODEL_1f3e1bb65140435b8d35fa3271d8d3ed",
       "value": 767.2727272727273
      }
     },
     "e5fde036ecc54c3ab9b454f664f228cf": {
      "model_module": "@jupyter-widgets/controls",
      "model_module_version": "1.0.0",
      "model_name": "TextModel",
      "state": {
       "layout": "IPY_MODEL_aaf1e2a904274269925ae15bde5ebf6b",
       "placeholder": "feature meta",
       "style": "IPY_MODEL_c3d8d47f143a475cb38cdea8b41c19bc",
       "value": "-"
      }
     },
     "e645d7359c8d49039234e2ac88b11a85": {
      "model_module": "@jupyter-widgets/base",
      "model_module_version": "1.0.0",
      "model_name": "LayoutModel",
      "state": {
       "width": "100%"
      }
     },
     "e684e8dd927b49619c5aa7438782afcd": {
      "model_module": "@jupyter-widgets/base",
      "model_module_version": "1.0.0",
      "model_name": "LayoutModel",
      "state": {
       "width": "20%"
      }
     },
     "e6bebda2888247708ddc1fe17cda8cb4": {
      "model_module": "@jupyter-widgets/controls",
      "model_module_version": "1.0.0",
      "model_name": "DescriptionStyleModel",
      "state": {
       "description_width": ""
      }
     },
     "e70a8c83eeb042a29041fa50e92193b6": {
      "model_module": "@jupyter-widgets/base",
      "model_module_version": "1.0.0",
      "model_name": "LayoutModel",
      "state": {}
     },
     "e71c9cdd86744c64a7a7e795fac33ef0": {
      "model_module": "@jupyter-widgets/controls",
      "model_module_version": "1.0.0",
      "model_name": "DropdownModel",
      "state": {
       "_options_labels": [
        "ori.order",
        "group",
        "new.order",
        "categorical",
        "_calour_original_abundance"
       ],
       "index": 0,
       "layout": "IPY_MODEL_d7a75aa13bdd4fc59f69ad6a2fb88f4c",
       "style": "IPY_MODEL_5706ba7662414e09bee0759455e33856"
      }
     },
     "e7332e7508064f9ab0dc7129ca5814b5": {
      "model_module": "@jupyter-widgets/base",
      "model_module_version": "1.0.0",
      "model_name": "LayoutModel",
      "state": {}
     },
     "e73941486eab497da45f1fe2014cf016": {
      "model_module": "@jupyter-widgets/controls",
      "model_module_version": "1.0.0",
      "model_name": "TextModel",
      "state": {
       "description": "Feature ID",
       "layout": "IPY_MODEL_565b1c6b9e874be098cfd20b625f76fe",
       "placeholder": "Feature ID",
       "style": "IPY_MODEL_f99f0e3372b94545a99212a8e15502c0",
       "value": "TA"
      }
     },
     "e77c61601f3e4d23be53604bfa63b427": {
      "model_module": "@jupyter-widgets/controls",
      "model_module_version": "1.0.0",
      "model_name": "HBoxModel",
      "state": {
       "children": [
        "IPY_MODEL_63934eef274e419b98c33f370b7a8b9c",
        "IPY_MODEL_fda45d9d440548b79ae727f9c249d0b3"
       ],
       "layout": "IPY_MODEL_59813787b85646d7a5aba17eb6548f90"
      }
     },
     "e77d0442d7ef4b05bec08039e3ce28dd": {
      "model_module": "@jupyter-widgets/controls",
      "model_module_version": "1.0.0",
      "model_name": "ButtonStyleModel",
      "state": {}
     },
     "e78b775f90b54433b7c6c993b393d783": {
      "model_module": "@jupyter-widgets/base",
      "model_module_version": "1.0.0",
      "model_name": "LayoutModel",
      "state": {
       "width": "20%"
      }
     },
     "e7fe72a74b0e4c3cb165d044c2990c47": {
      "model_module": "@jupyter-widgets/base",
      "model_module_version": "1.0.0",
      "model_name": "LayoutModel",
      "state": {}
     },
     "e809ad160f1b4c78b3109e4e8a78c15f": {
      "model_module": "@jupyter-widgets/controls",
      "model_module_version": "1.0.0",
      "model_name": "DropdownModel",
      "state": {
       "_options_labels": [
        "oxygen",
        "ph",
        "level1",
        "level2",
        "new.order",
        "ori.order",
        "taxonomy"
       ],
       "index": 0,
       "layout": "IPY_MODEL_3a956e689a7942c8a0268a5ff91df731",
       "style": "IPY_MODEL_d9b238c7736e4d7e97de3fde029e5d36"
      }
     },
     "e858d7ed581b4904838b59e46e5a8a84": {
      "model_module": "@jupyter-widgets/base",
      "model_module_version": "1.0.0",
      "model_name": "LayoutModel",
      "state": {}
     },
     "e859ed715c7343db972d9b9945fee8f4": {
      "model_module": "@jupyter-widgets/controls",
      "model_module_version": "1.0.0",
      "model_name": "HBoxModel",
      "state": {
       "children": [
        "IPY_MODEL_8befc7c1c1fc4bfa949fdadb70e0ddad",
        "IPY_MODEL_df72cbb23b084ef39181a26ef8eee232",
        "IPY_MODEL_121ba1781cd647fb89530aaafdf1a241"
       ],
       "layout": "IPY_MODEL_0916bd9112904822aba6f4e7ba6ccc37"
      }
     },
     "e85ff357e1e941ef95c1f4c4e471278e": {
      "model_module": "@jupyter-widgets/base",
      "model_module_version": "1.0.0",
      "model_name": "LayoutModel",
      "state": {
       "width": "20%"
      }
     },
     "e861d332fb004e78a55d3d6b80d56bce": {
      "model_module": "@jupyter-widgets/controls",
      "model_module_version": "1.0.0",
      "model_name": "DescriptionStyleModel",
      "state": {
       "description_width": ""
      }
     },
     "e8622ae6264e44a69ce804a25a56e906": {
      "model_module": "@jupyter-widgets/base",
      "model_module_version": "1.0.0",
      "model_name": "LayoutModel",
      "state": {}
     },
     "e871b23b4b534364be1603d87700353e": {
      "model_module": "@jupyter-widgets/base",
      "model_module_version": "1.0.0",
      "model_name": "LayoutModel",
      "state": {}
     },
     "e88b79b8f16949a2a6d58581fdbd58a9": {
      "model_module": "@jupyter-widgets/base",
      "model_module_version": "1.0.0",
      "model_name": "LayoutModel",
      "state": {
       "width": "80%"
      }
     },
     "e8ad69a11b824ac89de5ff7d2b13da15": {
      "model_module": "@jupyter-widgets/controls",
      "model_module_version": "1.0.0",
      "model_name": "TextModel",
      "state": {
       "description": "Sample ID",
       "layout": "IPY_MODEL_0fe4437f03514de2a3929adfcab239a3",
       "placeholder": "Sample ID",
       "style": "IPY_MODEL_841fa30f5835461d83723cac9991d217",
       "value": "-"
      }
     },
     "e92c6a864cc747e9b91def861fcec3d5": {
      "model_module": "@jupyter-widgets/controls",
      "model_module_version": "1.0.0",
      "model_name": "ButtonModel",
      "state": {
       "description": "Annotate",
       "layout": "IPY_MODEL_f135d4db36aa4909bb0f8cd022a7ee40",
       "style": "IPY_MODEL_6223e83501cd46599813c973d7de8656"
      }
     },
     "e92f6c43518f4ce183b878b306c7fd5d": {
      "model_module": "@jupyter-widgets/base",
      "model_module_version": "1.0.0",
      "model_name": "LayoutModel",
      "state": {}
     },
     "e9ac59c242d04a9ca10e74bd751056f6": {
      "model_module": "@jupyter-widgets/controls",
      "model_module_version": "1.0.0",
      "model_name": "ButtonModel",
      "state": {
       "description": "Annotate",
       "layout": "IPY_MODEL_b7bc3927d61a4ecbb9ffd144c816220b",
       "style": "IPY_MODEL_c027c1ab8d09406b89c8f3b371d881f1"
      }
     },
     "e9cef8e68c944ed7b838de4db72b609c": {
      "model_module": "@jupyter-widgets/controls",
      "model_module_version": "1.0.0",
      "model_name": "LabelModel",
      "state": {
       "layout": "IPY_MODEL_a93ef3365c3d4bef9155fc296849f5f8",
       "style": "IPY_MODEL_fdb92ade80f74eeead0e32ac89ba0912",
       "value": "0 features are selected"
      }
     },
     "e9ee8ed6b979409e904c883d3fad034b": {
      "model_module": "@jupyter-widgets/base",
      "model_module_version": "1.0.0",
      "model_name": "LayoutModel",
      "state": {
       "width": "80%"
      }
     },
     "ea2d02d0b75a4ccab2edaa9d74a1b9ae": {
      "model_module": "@jupyter-widgets/controls",
      "model_module_version": "1.0.0",
      "model_name": "DescriptionStyleModel",
      "state": {
       "description_width": ""
      }
     },
     "ea37af9f0a694665acbc873c0e96fc4b": {
      "model_module": "@jupyter-widgets/base",
      "model_module_version": "1.0.0",
      "model_name": "LayoutModel",
      "state": {}
     },
     "ea5507ad074f4247962014b1b9a5350c": {
      "model_module": "@jupyter-widgets/controls",
      "model_module_version": "1.0.0",
      "model_name": "TextModel",
      "state": {
       "description": "Sample ID",
       "layout": "IPY_MODEL_773cb8dede5f4d728628430598683cc5",
       "placeholder": "Sample ID",
       "style": "IPY_MODEL_acd000fbeb2e4b6c9e5e67b954e23bd8",
       "value": "-"
      }
     },
     "ea9ba488adb14f929111ea8b48fbc9e7": {
      "model_module": "@jupyter-widgets/controls",
      "model_module_version": "1.0.0",
      "model_name": "DescriptionStyleModel",
      "state": {
       "description_width": ""
      }
     },
     "eacd14c5f8174e70abc48f6af3752b70": {
      "model_module": "@jupyter-widgets/base",
      "model_module_version": "1.0.0",
      "model_name": "LayoutModel",
      "state": {}
     },
     "eafea4669ccc4cc0807c56f7ccedb8f9": {
      "model_module": "@jupyter-widgets/controls",
      "model_module_version": "1.0.0",
      "model_name": "DescriptionStyleModel",
      "state": {
       "description_width": ""
      }
     },
     "eb301619e7274e84bf5ea4435c8ef35c": {
      "model_module": "@jupyter-widgets/controls",
      "model_module_version": "1.0.0",
      "model_name": "ButtonModel",
      "state": {
       "description": "Annotate",
       "layout": "IPY_MODEL_2bfb81ad23ac4a45baa2a3e07d12d60c",
       "style": "IPY_MODEL_55d907b31fa84b448d8f1aad19c0df60"
      }
     },
     "eb416d4fc8084a5c9ce91c8c0ef6846c": {
      "model_module": "@jupyter-widgets/controls",
      "model_module_version": "1.0.0",
      "model_name": "DescriptionStyleModel",
      "state": {
       "description_width": ""
      }
     },
     "eb5873d689c945bebbb75ea92831f359": {
      "model_module": "@jupyter-widgets/base",
      "model_module_version": "1.0.0",
      "model_name": "LayoutModel",
      "state": {
       "width": "100%"
      }
     },
     "ec1501d8cd2a4c828cbb3c6a7ed1ef18": {
      "model_module": "@jupyter-widgets/controls",
      "model_module_version": "1.0.0",
      "model_name": "ButtonModel",
      "state": {
       "description": "Save",
       "layout": "IPY_MODEL_782e6ced6e6b4e71825939e6bfd906ce",
       "style": "IPY_MODEL_3eecac5f6502494fa740fe460326cbd7",
       "tooltip": "Save the selection(s)"
      }
     },
     "ec409f17f8fe4b44bd4a1562e7699c80": {
      "model_module": "@jupyter-widgets/controls",
      "model_module_version": "1.0.0",
      "model_name": "HBoxModel",
      "state": {
       "children": [
        "IPY_MODEL_83ab89d0308948c29f4d7083be4b3697",
        "IPY_MODEL_351ae87e74134ce0b3f740d54860644e"
       ],
       "layout": "IPY_MODEL_10b26dff500c49269c83660b9e44d98d"
      }
     },
     "ec844700ca8443469b19506bc2aa37ef": {
      "model_module": "@jupyter-widgets/controls",
      "model_module_version": "1.0.0",
      "model_name": "HTMLModel",
      "state": {
       "layout": "IPY_MODEL_4d9ebfcc416f45a3bc4640a12862b93b",
       "style": "IPY_MODEL_60649a3b46c64cb8a93dc859d9388808",
       "value": "<style> a:link {color:black; background-color:transparent; text-decoration:none}a:visited {color:black; background-color:transparent; text-decoration:none}</style><p style=\"color:black;white-space:nowrap;\"><a href=\"http://dbbact.org/annotation_info/NA\"   target=\"_blank\">No annotation found in database dbBact</a></p>"
      }
     },
     "ecd4c081588e4208aef03886f1406ce6": {
      "model_module": "@jupyter-widgets/base",
      "model_module_version": "1.0.0",
      "model_name": "LayoutModel",
      "state": {
       "width": "20%"
      }
     },
     "ecd7d27d1b4547efaf71ece1dfb7463a": {
      "model_module": "@jupyter-widgets/controls",
      "model_module_version": "1.0.0",
      "model_name": "DescriptionStyleModel",
      "state": {
       "description_width": ""
      }
     },
     "ecedbf261dba4bf6ba6b35ac3bbcf5d1": {
      "model_module": "@jupyter-widgets/controls",
      "model_module_version": "1.0.0",
      "model_name": "ButtonStyleModel",
      "state": {}
     },
     "edfa1bbc094c4adda04362ee3a37442d": {
      "model_module": "@jupyter-widgets/base",
      "model_module_version": "1.0.0",
      "model_name": "LayoutModel",
      "state": {}
     },
     "ee12f25dca4c4bdbb2354c3ec5396fa6": {
      "model_module": "@jupyter-widgets/controls",
      "model_module_version": "1.0.0",
      "model_name": "HBoxModel",
      "state": {
       "children": [
        "IPY_MODEL_c86cc1aa3f34469ebd12b119d20146f7",
        "IPY_MODEL_7d658cd9365c45d7b1a8dfb9c62aa85d"
       ],
       "layout": "IPY_MODEL_3ef4557cd5c14d868882336d821d6c24"
      }
     },
     "eec2a448499d4e71bd76926c521cd3fe": {
      "model_module": "@jupyter-widgets/controls",
      "model_module_version": "1.0.0",
      "model_name": "ButtonStyleModel",
      "state": {}
     },
     "eef1b0e464e34f7f962a9b1c73d43754": {
      "model_module": "@jupyter-widgets/base",
      "model_module_version": "1.0.0",
      "model_name": "LayoutModel",
      "state": {}
     },
     "ef2fb6bdf77242dca72164d2ab57a968": {
      "model_module": "@jupyter-widgets/base",
      "model_module_version": "1.0.0",
      "model_name": "LayoutModel",
      "state": {
       "width": "20%"
      }
     },
     "ef744ca46c1740209f24bb72bbf7b4e3": {
      "model_module": "@jupyter-widgets/controls",
      "model_module_version": "1.0.0",
      "model_name": "FloatTextModel",
      "state": {
       "description": "Abundance",
       "layout": "IPY_MODEL_26b0a8291b8a43779ec1ea5975dce562",
       "step": null,
       "style": "IPY_MODEL_40ec191134c74d55ac914e8421098573"
      }
     },
     "efffb80988fd42e783a47c0eedf2e2fd": {
      "model_module": "@jupyter-widgets/base",
      "model_module_version": "1.0.0",
      "model_name": "LayoutModel",
      "state": {}
     },
     "f00d265f4407431c9b6f1160207fdc81": {
      "model_module": "@jupyter-widgets/base",
      "model_module_version": "1.0.0",
      "model_name": "LayoutModel",
      "state": {
       "width": "100%"
      }
     },
     "f017309af9ce4009baf89347e8da140d": {
      "model_module": "@jupyter-widgets/controls",
      "model_module_version": "1.0.0",
      "model_name": "DescriptionStyleModel",
      "state": {
       "description_width": ""
      }
     },
     "f069355a505548daab227402416d8735": {
      "model_module": "@jupyter-widgets/base",
      "model_module_version": "1.0.0",
      "model_name": "LayoutModel",
      "state": {}
     },
     "f114eb6581ee4c87b838083234c754da": {
      "model_module": "@jupyter-widgets/base",
      "model_module_version": "1.0.0",
      "model_name": "LayoutModel",
      "state": {
       "width": "80%"
      }
     },
     "f135d4db36aa4909bb0f8cd022a7ee40": {
      "model_module": "@jupyter-widgets/base",
      "model_module_version": "1.0.0",
      "model_name": "LayoutModel",
      "state": {}
     },
     "f16ea498af894761acde79303d5fdba3": {
      "model_module": "@jupyter-widgets/controls",
      "model_module_version": "1.0.0",
      "model_name": "ButtonStyleModel",
      "state": {}
     },
     "f19d1fae0b3e47f89ddbbaa67aad6452": {
      "model_module": "@jupyter-widgets/controls",
      "model_module_version": "1.0.0",
      "model_name": "LabelModel",
      "state": {
       "layout": "IPY_MODEL_8085f1c37d5d41cd8077baede5ddff6c",
       "style": "IPY_MODEL_4f5557f6a67b4762a7c1a83f8ef2e1e3",
       "value": "1 features are selected"
      }
     },
     "f1b89d11ed9d4e528e65da3a7f0a7637": {
      "model_module": "@jupyter-widgets/controls",
      "model_module_version": "1.0.0",
      "model_name": "ButtonStyleModel",
      "state": {}
     },
     "f1d6f03421744fb8b7dd8eb3cf00fc4e": {
      "model_module": "@jupyter-widgets/controls",
      "model_module_version": "1.0.0",
      "model_name": "ButtonModel",
      "state": {
       "description": "Save",
       "layout": "IPY_MODEL_bc309ced75cb41b3809636e1ebdb6c08",
       "style": "IPY_MODEL_7a817942ba3542bfafc40461d82c05f1",
       "tooltip": "Save the selection(s)"
      }
     },
     "f1ea95ca57304dd592563270d5ba2a90": {
      "model_module": "@jupyter-widgets/controls",
      "model_module_version": "1.0.0",
      "model_name": "ButtonModel",
      "state": {
       "description": "print axes ranges",
       "layout": "IPY_MODEL_44705496aa0c4ec488da67db63d7cdc6",
       "style": "IPY_MODEL_0a3dbc9e3d4344749c3bf9fdfb9286c0",
       "tooltip": "Print the x axis and y axis ranges. Useful to pass to `rect` parameter of heatmap() to zoom in the region automatically."
      }
     },
     "f1f890f5703041d18f79ff18a9fbab18": {
      "model_module": "@jupyter-widgets/controls",
      "model_module_version": "1.0.0",
      "model_name": "DescriptionStyleModel",
      "state": {
       "description_width": ""
      }
     },
     "f24fa96118a844a0859a8b7f7ad5a60e": {
      "model_module": "@jupyter-widgets/base",
      "model_module_version": "1.0.0",
      "model_name": "LayoutModel",
      "state": {}
     },
     "f2560641d0d84949aff86c64dddcc7c8": {
      "model_module": "@jupyter-widgets/controls",
      "model_module_version": "1.0.0",
      "model_name": "DescriptionStyleModel",
      "state": {
       "description_width": ""
      }
     },
     "f29bf907224b43ea8b712baad99656e7": {
      "model_module": "@jupyter-widgets/controls",
      "model_module_version": "1.0.0",
      "model_name": "FloatTextModel",
      "state": {
       "description": "Abundance",
       "layout": "IPY_MODEL_0fc054d821a547a59cd2399708c31d56",
       "step": null,
       "style": "IPY_MODEL_c895664996f1421a86014d3cf4d3692d",
       "value": 473.6842105263158
      }
     },
     "f2ac8ebefe854958a92d662aa815be07": {
      "model_module": "@jupyter-widgets/controls",
      "model_module_version": "1.0.0",
      "model_name": "ButtonModel",
      "state": {
       "description": "Annotate",
       "layout": "IPY_MODEL_83f220c4c3154575b6bc91246594bdb3",
       "style": "IPY_MODEL_50d91fe195e14cbfabd45f9c2270b3a3"
      }
     },
     "f2bc07b742c4414297347865fb806c5b": {
      "model_module": "@jupyter-widgets/base",
      "model_module_version": "1.0.0",
      "model_name": "LayoutModel",
      "state": {}
     },
     "f381a21ef11c4198b9c4c4dcbea2b451": {
      "model_module": "@jupyter-widgets/controls",
      "model_module_version": "1.0.0",
      "model_name": "HBoxModel",
      "state": {
       "children": [
        "IPY_MODEL_336d2c9752d943d387b7a98127cf5e54",
        "IPY_MODEL_1be9ad42625e48cfbce132d77aeefcaf",
        "IPY_MODEL_8c487dd769f54b7b94569691916fb0c7"
       ],
       "layout": "IPY_MODEL_6f8908526ebe4dfba8f58bb8372f84f8"
      }
     },
     "f395051445ed40728dd0eee5ad7b6f8f": {
      "model_module": "@jupyter-widgets/controls",
      "model_module_version": "1.0.0",
      "model_name": "ButtonStyleModel",
      "state": {}
     },
     "f3c72208ec2e4e6398a5db36182d8345": {
      "model_module": "@jupyter-widgets/controls",
      "model_module_version": "1.0.0",
      "model_name": "HBoxModel",
      "state": {
       "children": [
        "IPY_MODEL_5426d3a2ecd44f1489a2442d188fec74",
        "IPY_MODEL_ec1501d8cd2a4c828cbb3c6a7ed1ef18",
        "IPY_MODEL_04d093ac7b5948ae8cd5d2ab2ef37772"
       ],
       "layout": "IPY_MODEL_8d9bfb06614d4f398a8be639adbdc256"
      }
     },
     "f431bb5957f84f60a5fbc3e3f64baaf5": {
      "model_module": "@jupyter-widgets/controls",
      "model_module_version": "1.0.0",
      "model_name": "TextModel",
      "state": {
       "description": "Feature ID",
       "layout": "IPY_MODEL_5d7e0419d4ec4655b22c5d7169b62c7f",
       "placeholder": "Feature ID",
       "style": "IPY_MODEL_4ffc944b0ad5429397444de5a2179e61",
       "value": "-"
      }
     },
     "f536d90645184dc78ebfd4044a9f3d4d": {
      "model_module": "@jupyter-widgets/base",
      "model_module_version": "1.0.0",
      "model_name": "LayoutModel",
      "state": {}
     },
     "f5449ae346864da8a7e3f72e5804355f": {
      "model_module": "@jupyter-widgets/controls",
      "model_module_version": "1.0.0",
      "model_name": "TextModel",
      "state": {
       "layout": "IPY_MODEL_f8f3af89f8df4f8ebbba9ef2745cb57d",
       "placeholder": "sample meta",
       "style": "IPY_MODEL_23b061e4a6d6467bbe15094c7375cb96",
       "value": "-"
      }
     },
     "f5a0540017034c4d907b6de51e08173a": {
      "model_module": "@jupyter-widgets/controls",
      "model_module_version": "1.0.0",
      "model_name": "DescriptionStyleModel",
      "state": {
       "description_width": ""
      }
     },
     "f5a856e3904c429aa8a230729cf00bf3": {
      "model_module": "@jupyter-widgets/controls",
      "model_module_version": "1.0.0",
      "model_name": "TextModel",
      "state": {
       "layout": "IPY_MODEL_c91c380a4bf44a68a414e5f0461d18fd",
       "placeholder": "sample meta",
       "style": "IPY_MODEL_e1a702ca577f46578932187d06c7ed6b",
       "value": "6"
      }
     },
     "f62fdecc01eb49fcb29a099cf8dc13e2": {
      "model_module": "@jupyter-widgets/controls",
      "model_module_version": "1.0.0",
      "model_name": "DescriptionStyleModel",
      "state": {
       "description_width": ""
      }
     },
     "f643626637a043cf93c833dab125347a": {
      "model_module": "@jupyter-widgets/base",
      "model_module_version": "1.0.0",
      "model_name": "LayoutModel",
      "state": {}
     },
     "f65e8fbb0d6d4f26a2395cbf5325f119": {
      "model_module": "@jupyter-widgets/controls",
      "model_module_version": "1.0.0",
      "model_name": "DescriptionStyleModel",
      "state": {
       "description_width": ""
      }
     },
     "f66fd8bff6a847839d2b939a2daeb1c4": {
      "model_module": "@jupyter-widgets/controls",
      "model_module_version": "1.0.0",
      "model_name": "HTMLModel",
      "state": {
       "layout": "IPY_MODEL_41aa402ee7d14626a93a4fd8eb2fdf72",
       "style": "IPY_MODEL_22f53a34a2bd4748a14ca0ae7398e231",
       "value": "no annotation found"
      }
     },
     "f72da23ee08a453fa9592a17b4b303d7": {
      "model_module": "@jupyter-widgets/controls",
      "model_module_version": "1.0.0",
      "model_name": "DescriptionStyleModel",
      "state": {
       "description_width": ""
      }
     },
     "f7629e405cd54f89af940ada9ecc0ff8": {
      "model_module": "@jupyter-widgets/base",
      "model_module_version": "1.0.0",
      "model_name": "LayoutModel",
      "state": {}
     },
     "f803bea43c004459aa285a59a90c5c7f": {
      "model_module": "@jupyter-widgets/controls",
      "model_module_version": "1.0.0",
      "model_name": "ButtonStyleModel",
      "state": {}
     },
     "f88872a804bc43ed9a908b306dd8436d": {
      "model_module": "@jupyter-widgets/controls",
      "model_module_version": "1.0.0",
      "model_name": "ButtonStyleModel",
      "state": {}
     },
     "f8c78431a7ba42ecb851602b9df0d837": {
      "model_module": "@jupyter-widgets/controls",
      "model_module_version": "1.0.0",
      "model_name": "DescriptionStyleModel",
      "state": {
       "description_width": ""
      }
     },
     "f8f2509347ce4216930b3b739010eeb0": {
      "model_module": "@jupyter-widgets/base",
      "model_module_version": "1.0.0",
      "model_name": "LayoutModel",
      "state": {}
     },
     "f8f3af89f8df4f8ebbba9ef2745cb57d": {
      "model_module": "@jupyter-widgets/base",
      "model_module_version": "1.0.0",
      "model_name": "LayoutModel",
      "state": {
       "width": "80%"
      }
     },
     "f941e7f103b34e8a97ae60e01fe0cf36": {
      "model_module": "@jupyter-widgets/base",
      "model_module_version": "1.0.0",
      "model_name": "LayoutModel",
      "state": {
       "width": "100%"
      }
     },
     "f99f0e3372b94545a99212a8e15502c0": {
      "model_module": "@jupyter-widgets/controls",
      "model_module_version": "1.0.0",
      "model_name": "DescriptionStyleModel",
      "state": {
       "description_width": ""
      }
     },
     "f9df0261d0744316926b1e4b3696e71b": {
      "model_module": "@jupyter-widgets/controls",
      "model_module_version": "1.0.0",
      "model_name": "ButtonStyleModel",
      "state": {}
     },
     "fa0d8e862dc149efadf22881e88f98a6": {
      "model_module": "@jupyter-widgets/base",
      "model_module_version": "1.0.0",
      "model_name": "LayoutModel",
      "state": {}
     },
     "fa2e3ed2c34e40978a63ddc618ddd2ad": {
      "model_module": "@jupyter-widgets/base",
      "model_module_version": "1.0.0",
      "model_name": "LayoutModel",
      "state": {}
     },
     "fa919bbd522b4c0eabe9311b2205c3b6": {
      "model_module": "@jupyter-widgets/controls",
      "model_module_version": "1.0.0",
      "model_name": "DescriptionStyleModel",
      "state": {
       "description_width": ""
      }
     },
     "faaa714f16e7436fb99901697ed01a4d": {
      "model_module": "@jupyter-widgets/controls",
      "model_module_version": "1.0.0",
      "model_name": "ButtonModel",
      "state": {
       "description": "print axes ranges",
       "layout": "IPY_MODEL_f536d90645184dc78ebfd4044a9f3d4d",
       "style": "IPY_MODEL_9eb4726ed113454fbe79704dae83a7d7",
       "tooltip": "Print the x axis and y axis ranges. Useful to pass to `rect` parameter of heatmap() to zoom in the region automatically."
      }
     },
     "fadb1ba531c74fe8ac7152c0836b2bb3": {
      "model_module": "@jupyter-widgets/controls",
      "model_module_version": "1.0.0",
      "model_name": "DescriptionStyleModel",
      "state": {
       "description_width": ""
      }
     },
     "fb0d20d518b54a85950da404e23b9bf1": {
      "model_module": "@jupyter-widgets/base",
      "model_module_version": "1.0.0",
      "model_name": "LayoutModel",
      "state": {
       "height": "100px",
       "overflow_y": "auto"
      }
     },
     "fb2bc2f08bf94fac954692de749449a2": {
      "model_module": "@jupyter-widgets/controls",
      "model_module_version": "1.0.0",
      "model_name": "DescriptionStyleModel",
      "state": {
       "description_width": ""
      }
     },
     "fb41f1a7ebde4696b1d5d0e53e452bfd": {
      "model_module": "@jupyter-widgets/controls",
      "model_module_version": "1.0.0",
      "model_name": "DescriptionStyleModel",
      "state": {
       "description_width": ""
      }
     },
     "fbbfdde6408d4d7d9e6044ff76ed23a3": {
      "model_module": "@jupyter-widgets/controls",
      "model_module_version": "1.0.0",
      "model_name": "ButtonStyleModel",
      "state": {}
     },
     "fbd2b18a15df437bb2fc9a0a4c1f6cb6": {
      "model_module": "@jupyter-widgets/base",
      "model_module_version": "1.0.0",
      "model_name": "LayoutModel",
      "state": {}
     },
     "fca0c8965c7b48618a67af8a73038f08": {
      "model_module": "@jupyter-widgets/controls",
      "model_module_version": "1.0.0",
      "model_name": "ButtonModel",
      "state": {
       "description": "Save",
       "layout": "IPY_MODEL_83351f1927c64058bbdb8f2b519dd250",
       "style": "IPY_MODEL_56d6390bab0640a28e021d6d0e5f2abd",
       "tooltip": "Save the selection(s)"
      }
     },
     "fce124c81ac54d4db619d6dd76e78e6a": {
      "model_module": "@jupyter-widgets/controls",
      "model_module_version": "1.0.0",
      "model_name": "TextModel",
      "state": {
       "layout": "IPY_MODEL_c5f6370e551f4097860a8ab70ec1a036",
       "placeholder": "feature meta",
       "style": "IPY_MODEL_9fc9fd4654ea449cb3b8f29da806f632",
       "value": "anaerobic"
      }
     },
     "fce95abc72f74ff698cfc1c1bbcd3d80": {
      "model_module": "@jupyter-widgets/base",
      "model_module_version": "1.0.0",
      "model_name": "LayoutModel",
      "state": {
       "width": "80%"
      }
     },
     "fda45d9d440548b79ae727f9c249d0b3": {
      "model_module": "@jupyter-widgets/controls",
      "model_module_version": "1.0.0",
      "model_name": "TextModel",
      "state": {
       "layout": "IPY_MODEL_b7dab112f0ae4cf1919e49f4a35f8fbd",
       "placeholder": "feature meta",
       "style": "IPY_MODEL_7dbddc9d7d2843ccb0bf1617f18d25d2",
       "value": "-"
      }
     },
     "fdb92ade80f74eeead0e32ac89ba0912": {
      "model_module": "@jupyter-widgets/controls",
      "model_module_version": "1.0.0",
      "model_name": "DescriptionStyleModel",
      "state": {
       "description_width": ""
      }
     },
     "fdd580f0a23446928b11450afc7126c6": {
      "model_module": "@jupyter-widgets/controls",
      "model_module_version": "1.0.0",
      "model_name": "DescriptionStyleModel",
      "state": {
       "description_width": ""
      }
     },
     "fddcbeeda8674d4da975369b92aafc93": {
      "model_module": "@jupyter-widgets/controls",
      "model_module_version": "1.0.0",
      "model_name": "HBoxModel",
      "state": {
       "children": [
        "IPY_MODEL_1ac6b37afacb498ebfece1a72b94a757",
        "IPY_MODEL_06c8262203bd45d8b9f32ffea0284b88",
        "IPY_MODEL_e9ac59c242d04a9ca10e74bd751056f6"
       ],
       "layout": "IPY_MODEL_86a559a37b0646668bae032c223a7e90"
      }
     },
     "fe17a9f6eb674a01bf2b574371434fa7": {
      "model_module": "@jupyter-widgets/base",
      "model_module_version": "1.0.0",
      "model_name": "LayoutModel",
      "state": {}
     },
     "fe227c119f344263bbc579a5c9c24ebd": {
      "model_module": "@jupyter-widgets/controls",
      "model_module_version": "1.0.0",
      "model_name": "DescriptionStyleModel",
      "state": {
       "description_width": ""
      }
     },
     "fe5d837c7ba7440a913f182b402e409f": {
      "model_module": "@jupyter-widgets/base",
      "model_module_version": "1.0.0",
      "model_name": "LayoutModel",
      "state": {}
     },
     "fe8b7b14bd7e4db583f408717f0e0285": {
      "model_module": "@jupyter-widgets/controls",
      "model_module_version": "1.0.0",
      "model_name": "DescriptionStyleModel",
      "state": {
       "description_width": ""
      }
     },
     "fea90bb19aeb4cc5a44fcda09262ac35": {
      "model_module": "@jupyter-widgets/controls",
      "model_module_version": "1.0.0",
      "model_name": "HBoxModel",
      "state": {
       "children": [
        "IPY_MODEL_7b627dc3f6f943d3824e1c9e6ec3c60a",
        "IPY_MODEL_f5449ae346864da8a7e3f72e5804355f"
       ],
       "layout": "IPY_MODEL_403ccc4602c54ebf9c5913e99ca37ce7"
      }
     },
     "fee7f0bee991456d91b81654bfa40d47": {
      "model_module": "@jupyter-widgets/controls",
      "model_module_version": "1.0.0",
      "model_name": "TextModel",
      "state": {
       "description": "Feature ID",
       "layout": "IPY_MODEL_d59215ebf4b145409800dd999aeb9210",
       "placeholder": "Feature ID",
       "style": "IPY_MODEL_16f43a8c6b264025a2b6f27fd1d1a7b8",
       "value": "TA"
      }
     },
     "ff447792a03a4727a8929c3f91697ae0": {
      "model_module": "@jupyter-widgets/controls",
      "model_module_version": "1.0.0",
      "model_name": "ButtonModel",
      "state": {
       "description": "print axes ranges",
       "layout": "IPY_MODEL_9a0b3f943c234e00a1a9b561b6501020",
       "style": "IPY_MODEL_2a79dfa401c949a59b6432958fb07569",
       "tooltip": "Print the x axis and y axis ranges. Useful to pass to `rect` parameter of heatmap() to zoom in the region automatically."
      }
     },
     "ff776c412b9b4ebe837047240a71f1f1": {
      "model_module": "@jupyter-widgets/controls",
      "model_module_version": "1.0.0",
      "model_name": "ButtonModel",
      "state": {
       "description": "Annotate",
       "layout": "IPY_MODEL_1aceff07744c4442ab914d6ffe4c7528",
       "style": "IPY_MODEL_aba8b415a4a24b819e90e3c9fe6536dc"
      }
     },
     "ff9930cba4944728bc3ab7d67dfe37ba": {
      "model_module": "@jupyter-widgets/controls",
      "model_module_version": "1.0.0",
      "model_name": "DescriptionStyleModel",
      "state": {
       "description_width": ""
      }
     },
     "ffa4c25b4dbb4c18bfd1d769b2463a9d": {
      "model_module": "@jupyter-widgets/controls",
      "model_module_version": "1.0.0",
      "model_name": "DropdownModel",
      "state": {
       "_options_labels": [
        "ori.order",
        "group",
        "new.order",
        "categorical",
        "_calour_original_abundance"
       ],
       "index": 0,
       "layout": "IPY_MODEL_56063088efea414a85ae1a8defc66457",
       "style": "IPY_MODEL_354496bb29d4433ab4ccb97caa24001b"
      }
     },
     "ffb99856481a41c8af1402e46612c9bd": {
      "model_module": "@jupyter-widgets/controls",
      "model_module_version": "1.0.0",
      "model_name": "TextModel",
      "state": {
       "description": "Feature ID",
       "layout": "IPY_MODEL_6a78243a8abb4458b19ae1a0500dab91",
       "placeholder": "Feature ID",
       "style": "IPY_MODEL_99214093a1354cc893fa705705f32128",
       "value": "-"
      }
     },
     "ffbc70be7ab041438df3d5e5ea61d049": {
      "model_module": "@jupyter-widgets/controls",
      "model_module_version": "1.0.0",
      "model_name": "ButtonStyleModel",
      "state": {}
     },
     "fff4cb1692bd4787bc8a886a83220275": {
      "model_module": "@jupyter-widgets/base",
      "model_module_version": "1.0.0",
      "model_name": "LayoutModel",
      "state": {}
     }
    },
    "version_major": 2,
    "version_minor": 0
   }
  }
 },
 "nbformat": 4,
 "nbformat_minor": 1
}
