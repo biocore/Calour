{
 "cells": [
  {
   "cell_type": "markdown",
   "metadata": {},
   "source": [
    "# metabolome analysis with GNPS"
   ]
  },
  {
   "cell_type": "code",
   "execution_count": 1,
   "metadata": {
    "collapsed": true
   },
   "outputs": [],
   "source": [
    "import calour as ca"
   ]
  },
  {
   "cell_type": "code",
   "execution_count": 2,
   "metadata": {
    "collapsed": true
   },
   "outputs": [],
   "source": [
    "ca.set_log_level('INFO')"
   ]
  },
  {
   "cell_type": "code",
   "execution_count": 7,
   "metadata": {},
   "outputs": [
    {
     "name": "stdout",
     "output_type": "stream",
     "text": [
      "2017-10-16 15:37:50 INFO loaded 511 observations, 71  samples\n",
      "2017-10-16 15:37:50 WARNING the samples are dropped because they have metadata but do not have data: {'cli_4977_2xB_BA2_01_1660', 'cli_4977_32xB_BB4_01_1670', 'cli_4977_14xB_BA6_01_1664', 'cli_4977_17xB_BA7_01_1665', 'cli_4977_5xB_BA3_01_1661', 'cli_4977_26xB_BB2_01_1668', 'cli_4977_29xB_BB3_01_1669', 'cli_4977_8xB_BA4_01_1662', 'cli_4977_11xB_BA5_01_1663', 'cli_4977_20xB_BA8_01_1666', 'cli_4977_23xB_BB1_01_1667'}\n",
      "2017-10-16 15:37:50 WARNING the samples have data but do not have metadata: {'cli_4977_11z_BD3_01_1601', 'cli_4977_18x_RA1_01_1616', 'cli_4977_8y_BB7_01_1588', 'cli_4977_21y_RB5_01_1629', 'cli_4977_20z_BD6_01_1604', 'cli_4977_11y_BB8_01_1589', 'cli_4977_26z_BD8_01_1606', 'cli_4977_9z_RC4_01_1637', 'cli_4977_27y_RB7_01_1631', 'cli_4977_23z_BD7_01_1605', 'cli_4977_18z_RC7_01_1640', 'cli_4977_20y_BC3_01_1592', 'cli_4977_27z_RD2_01_1643', 'cli_4977_29z_BE1_01_1607', 'cli_4977_14y_BC1_01_1590', 'cli_4977_33z_RD4_01_1645', 'cli_4977_32y_BC7_01_1596', 'cli_4977_24z_RD1_01_1642', 'cli_4977_21z_RC8_01_1641', 'cli_4977_17y_BC2_01_1591', 'cli_4977_9y_RB1_01_1625', 'cli_4977_3y_RA7_01_1623', 'cli_4977_30z_RD3_01_1644', 'cli_4977_2z_BC8_01_1598', 'cli_4977_23y_BC4_01_1593', 'cli_4977_6y_RA8_01_1624', 'cli_4977_30y_RB8_01_1632', 'cli_4977_14x_BA6_01_1578', 'cli_4977_15z_RC6_01_1639', 'cli_4977_32z_BE2_01_1608', 'cli_4977_8z_BD2_01_1600', 'cli_4977_2y_BB5_01_1586', 'cli_4977_3z_RC2_01_1635', 'cli_4977_24y_RB6_01_1630', 'cli_4977_29y_BC6_01_1595', 'cli_4977_12y_RB2_01_1626', 'cli_4977_xyz empty4_BE3_01_1609', 'cli_4977_6z_RC3_01_1636', 'cli_4977_5y_BB6_01_1587', 'cli_4977_12z_RC5_01_1638', 'cli_4977_5z_BD1_01_1599', 'cli_4977_17z_BD5_01_1603', 'cli_4977_14z_BD4_01_1602', 'cli_4977_33y_RC1_01_1633', 'cli_4977_18y_RB4_01_1628', 'cli_4977_26y_BC5_01_1594', 'cli_4977_15y_RB3_01_1627'}\n"
     ]
    }
   ],
   "source": [
    "# dat=ca.io.read_gnps_ms('test/bucket_x_xB_test2.csv','test/map_x_xB.txt','test/bucket_x_xB_test2_gnps_file.tsv',normalize=None)\n",
    "dat=ca.io.read_gnps_ms('./bucket-gnps.tsv','test/map_x_xB.txt','gnps-output.tsv',normalize=None)"
   ]
  },
  {
   "cell_type": "code",
   "execution_count": 3,
   "metadata": {},
   "outputs": [
    {
     "name": "stdout",
     "output_type": "stream",
     "text": [
      "2017-10-16 15:24:57 INFO loaded 511 observations, 71  samples\n"
     ]
    }
   ],
   "source": [
    "# dat=ca.io.read_gnps_ms('./bucket-gnps.tsv','map.txt',normalize=None)\n",
    "dat=ca.io.read_gnps_ms('./bucket-gnps.tsv','map.txt','./gnps-output.tsv',normalize=None)\n",
    "# dat=ca.read_open_ms('table2.csv','map.txt',rows_are_samples=True,normalize=None)\n",
    "# dat=ca.read_open_ms('table2.csv','map.txt','./gnps-output.tsv',rows_are_samples=True,normalize=None)"
   ]
  },
  {
   "cell_type": "code",
   "execution_count": 8,
   "metadata": {},
   "outputs": [
    {
     "name": "stdout",
     "output_type": "stream",
     "text": [
      "2017-10-16 15:50:43 INFO 511 remaining\n"
     ]
    }
   ],
   "source": [
    "datc=dat.cluster_features(1)"
   ]
  },
  {
   "cell_type": "code",
   "execution_count": 9,
   "metadata": {
    "collapsed": true
   },
   "outputs": [],
   "source": [
    "datc=datc.sort_samples('time_days')"
   ]
  },
  {
   "cell_type": "code",
   "execution_count": 10,
   "metadata": {
    "collapsed": true
   },
   "outputs": [],
   "source": [
    "datc=datc.sort_samples('batch')"
   ]
  },
  {
   "cell_type": "code",
   "execution_count": 11,
   "metadata": {},
   "outputs": [
    {
     "data": {
      "text/plain": [
       "<calour.heatmap.plotgui_qt5.PlotGUI_QT5 at 0x118202e10>"
      ]
     },
     "execution_count": 11,
     "metadata": {},
     "output_type": "execute_result"
    }
   ],
   "source": [
    "datc.plot_sort('group',gui='qt5',sample_color_bars=['batch'])"
   ]
  },
  {
   "cell_type": "code",
   "execution_count": 12,
   "metadata": {},
   "outputs": [
    {
     "name": "stdout",
     "output_type": "stream",
     "text": [
      "2017-09-27 12:50:23 INFO 68 samples with both values\n",
      "2017-09-27 12:50:23 INFO 507 remaining\n",
      "2017-09-27 12:50:23 INFO 33 samples with value 1 ([1])\n",
      "2017-09-27 12:50:23 INFO method meandiff. number of higher in [1] : 4. number of higher in [2] : 1. total 5\n"
     ]
    }
   ],
   "source": [
    "dd=datc.diff_abundance('batch',1,2)"
   ]
  },
  {
   "cell_type": "code",
   "execution_count": 13,
   "metadata": {},
   "outputs": [
    {
     "name": "stdout",
     "output_type": "stream",
     "text": [
      "2017-09-27 12:50:32 WARNING Cannot initialize GNPS database since gnps info file was not supplied. Please supply when loading\n"
     ]
    },
    {
     "data": {
      "text/plain": [
       "<calour.heatmap.plotgui_qt5.PlotGUI_QT5 at 0x11d767ef0>"
      ]
     },
     "execution_count": 13,
     "metadata": {},
     "output_type": "execute_result"
    }
   ],
   "source": [
    "dd.plot_sort('group',gui='qt5',sample_color_bars=['batch'])"
   ]
  },
  {
   "cell_type": "code",
   "execution_count": 16,
   "metadata": {},
   "outputs": [
    {
     "name": "stdout",
     "output_type": "stream",
     "text": [
      "2017-09-27 12:34:28 INFO 44 samples with both values\n",
      "2017-09-27 12:34:28 INFO 453 remaining\n",
      "2017-09-27 12:34:28 INFO 23 samples with value 1 (['x'])\n",
      "2017-09-27 12:34:28 INFO method meandiff. number of higher in ['x'] : 26. number of higher in ['z'] : 18. total 44\n"
     ]
    }
   ],
   "source": [
    "dd=datc.diff_abundance('group','x','z')"
   ]
  },
  {
   "cell_type": "code",
   "execution_count": 17,
   "metadata": {},
   "outputs": [
    {
     "name": "stdout",
     "output_type": "stream",
     "text": [
      "2017-09-27 12:34:34 WARNING Cannot initialize GNPS database since gnps info file was not supplied. Please supply when loading\n"
     ]
    },
    {
     "data": {
      "text/plain": [
       "<calour.heatmap.plotgui_qt5.PlotGUI_QT5 at 0x111053eb8>"
      ]
     },
     "execution_count": 17,
     "metadata": {},
     "output_type": "execute_result"
    }
   ],
   "source": [
    "dd.plot_sort('group',gui='qt5')"
   ]
  },
  {
   "cell_type": "code",
   "execution_count": 18,
   "metadata": {
    "collapsed": true
   },
   "outputs": [],
   "source": [
    "tt=datc.filter_samples('time_days',[16,21,25,30])"
   ]
  },
  {
   "cell_type": "code",
   "execution_count": 19,
   "metadata": {},
   "outputs": [
    {
     "name": "stdout",
     "output_type": "stream",
     "text": [
      "2017-09-27 12:40:12 INFO 16 samples with both values\n",
      "2017-09-27 12:40:12 INFO 315 remaining\n",
      "2017-09-27 12:40:12 INFO 8 samples with value 1 (['x'])\n",
      "2017-09-27 12:40:12 INFO method meandiff. number of higher in ['x'] : 18. number of higher in ['z'] : 7. total 25\n"
     ]
    }
   ],
   "source": [
    "dd=tt.diff_abundance('group','x','z')"
   ]
  },
  {
   "cell_type": "code",
   "execution_count": 20,
   "metadata": {
    "collapsed": true
   },
   "outputs": [],
   "source": [
    "zz=datc.filter_ids(dd.feature_metadata.index)"
   ]
  },
  {
   "cell_type": "code",
   "execution_count": 21,
   "metadata": {},
   "outputs": [
    {
     "name": "stdout",
     "output_type": "stream",
     "text": [
      "2017-09-27 12:40:34 WARNING Cannot initialize GNPS database since gnps info file was not supplied. Please supply when loading\n"
     ]
    },
    {
     "data": {
      "text/plain": [
       "<calour.heatmap.plotgui_qt5.PlotGUI_QT5 at 0x1201f7160>"
      ]
     },
     "execution_count": 21,
     "metadata": {},
     "output_type": "execute_result"
    }
   ],
   "source": [
    "zz.plot_sort('group',gui='qt5')"
   ]
  },
  {
   "cell_type": "code",
   "execution_count": null,
   "metadata": {
    "collapsed": true
   },
   "outputs": [],
   "source": []
  }
 ],
 "metadata": {
  "kernelspec": {
   "display_name": "Python [default]",
   "language": "python",
   "name": "python3"
  },
  "language_info": {
   "codemirror_mode": {
    "name": "ipython",
    "version": 3
   },
   "file_extension": ".py",
   "mimetype": "text/x-python",
   "name": "python",
   "nbconvert_exporter": "python",
   "pygments_lexer": "ipython3",
   "version": "3.5.2"
  },
  "toc": {
   "nav_menu": {},
   "number_sections": true,
   "sideBar": true,
   "skip_h1_title": false,
   "toc_cell": false,
   "toc_position": {},
   "toc_section_display": "block",
   "toc_window_display": true
  }
 },
 "nbformat": 4,
 "nbformat_minor": 2
}
